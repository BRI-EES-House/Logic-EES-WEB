{
 "cells": [
  {
   "cell_type": "markdown",
   "metadata": {},
   "source": [
    "# 付録 J 節湯の効果係数"
   ]
  },
  {
   "cell_type": "markdown",
   "metadata": {},
   "source": [
    "台所水栓における節湯の効果係数$ f_{sk} $、浴室シャワー水栓における節湯の効果係数$ f_{ss} $及び洗面水栓における節湯の効果係数$ f_{sw} $は下式により表される。"
   ]
  },
  {
   "cell_type": "markdown",
   "metadata": {},
   "source": [
    "$$\n",
    "\\displaystyle f_{sk} = f_{sk,A} \\times f_{sk,C}\n",
    "$$"
   ]
  },
  {
   "cell_type": "markdown",
   "metadata": {},
   "source": [
    "$$\n",
    "\\displaystyle f_{ss} = f_{ss,A} \\times f_{ss,B}\n",
    "$$"
   ]
  },
  {
   "cell_type": "markdown",
   "metadata": {},
   "source": [
    "$$\n",
    "\\displaystyle f_{sw} = f_{sw,C}\n",
    "$$"
   ]
  },
  {
   "cell_type": "markdown",
   "metadata": {},
   "source": [
    "ここで、\n",
    "$ f_{sk} $:  \n",
    "$ f_{ss} $:  \n",
    "$ f_{sw} $:  \n",
    "$ f_{sk,A} $:  \n",
    "$ f_{sk,C} $:  \n",
    "$ f_{ss,A} $:  \n",
    "$ f_{ss,A} $:  \n",
    "$ f_{ss,B} $:  \n",
    "$ f_{sw,C} $:"
   ]
  },
  {
   "cell_type": "markdown",
   "metadata": {},
   "source": [
    "|分類|節湯の効果係数の種類|記号|適用条件|係数の値|\n",
    "|----|--------------------|----|--------|--------|\n",
    "|台所水栓|手元止水機能  |$ f_{sk,A} $|台所の水栓すべてが付録 K「節湯水栓の構造」により規定される「手元止水機構」を有する場合        |0.91|\n",
    "|        |              |            |                                                                                      上記以外|1.00|\n",
    "|        |水優先吐水機能|$ f_{sk,C} $|浴室シャワーの水栓すべてが付録 K「節湯水栓の構造」により規定される「手元止水機構」を有する場合|0.70|\n",
    "|        |              |            |                                                                                       上記以外|1.00|\n",
    "|浴室シャワー水栓|手元止水機能       |$ f_{ss,A} $|浴室シャワーの水栓すべてが付録 K「節湯水栓の構造」により規定される「手元止水機構」を有する場合|0.80|\n",
    "|                |                   |            |上記以外|1.00|\n",
    "|                |小流量吐水機能     |$ f_{ss,B} $|浴室シャワーの水栓すべてが付録 K「節湯水栓の構造」により規定される「小流量吐水機構」を有する場合|0.85|\n",
    "|                |                   |            |上記以外|1.00|\n",
    "|洗面水栓        |水優先吐水機能     |$ f_{sw,C} $|洗面の水栓すべてが付録 K「節湯水栓の構造」により規定される「水優先吐水機構」を有する場合|0.70|\n",
    "|                |                   |            |上記以外|1.00|\n",
    "|配管            |ヘッダー分岐後の径 |$ f_{sp} $  |ヘッダーにより台所水栓・シャワー水栓・洗面水栓に分岐され、かつ分岐後（分岐後の部分的な先分岐含む。）の配管すべての径が13A以下であるもの|0.95|\n",
    "|                |                   |            |上記以外|1.00|\n",
    "|浴槽            |       -           |$ f_{sb} $|すべての機器|1.00|"
   ]
  },
  {
   "cell_type": "code",
   "execution_count": 11,
   "metadata": {
    "collapsed": true
   },
   "outputs": [],
   "source": [
    "def get_f_sk(f_sk_A_apply, f_sk_C_apply):\n",
    "    if f_sk_A_apply == 'None':\n",
    "        f_sk_A = 1.00\n",
    "    elif f_sk_A_apply == 'Saving':\n",
    "        f_sk_A = 0.91\n",
    "    else:\n",
    "        raise Exception('Choice of \"f_sk_A\" is invalid.')\n",
    "    \n",
    "    if f_sk_C_apply == 'None':\n",
    "        f_sk_C = 1.00\n",
    "    elif f_sk_C_apply == 'Saving':\n",
    "        f_sk_C = 0.70\n",
    "    else:\n",
    "        raise Exception('Choice of \"f_sk_C\" is invalid.')\n",
    "        \n",
    "    return f_sk_A * f_sk_C"
   ]
  },
  {
   "cell_type": "code",
   "execution_count": 2,
   "metadata": {
    "collapsed": true
   },
   "outputs": [],
   "source": [
    "def get_f_ss(f_ss_A_apply, f_ss_B_apply):\n",
    "    if f_ss_A_apply == 'None':\n",
    "        f_ss_A = 1.00\n",
    "    elif f_ss_A_apply == 'Saving':\n",
    "        f_ss_A = 0.80\n",
    "    else:\n",
    "        raise Exception('Choice of \"f_ss_A\" is invalid.')\n",
    "    \n",
    "    if f_ss_B_apply == 'None':\n",
    "        f_ss_B = 1.00\n",
    "    elif f_ss_B_apply == 'Saving':\n",
    "        f_ss_B = 0.85\n",
    "    else:\n",
    "        raise Exception('Choice of \"f_ss_B\" is invalid.')\n",
    "        \n",
    "    return f_ss_A * f_ss_B"
   ]
  },
  {
   "cell_type": "code",
   "execution_count": 3,
   "metadata": {
    "collapsed": true
   },
   "outputs": [],
   "source": [
    "def get_f_sw(f_sw_C_apply):\n",
    "    if f_sw_C_apply == 'None':\n",
    "        f_sw_C = 1.00\n",
    "    elif f_sw_C_apply == 'Saving':\n",
    "        f_sw_C = 0.80\n",
    "    else:\n",
    "        raise Exception('Choice of \"f_sw_C\" is invalid.')\n",
    "    \n",
    "    return f_sw_C"
   ]
  },
  {
   "cell_type": "code",
   "execution_count": 4,
   "metadata": {
    "collapsed": true
   },
   "outputs": [],
   "source": [
    "def get_f_sp(f_sp_apply):\n",
    "    if f_sp_apply == 'None':\n",
    "        f_sp = 1.00\n",
    "    elif f_sp_apply == 'Saving':\n",
    "        f_sp = 0.95\n",
    "    else:\n",
    "        raise Exception('Choice of \"f_sp\" is invalid.')\n",
    "    \n",
    "    return f_sp"
   ]
  },
  {
   "cell_type": "code",
   "execution_count": 5,
   "metadata": {
    "collapsed": true
   },
   "outputs": [],
   "source": [
    "def get_f_sb():\n",
    "    return 1.00"
   ]
  },
  {
   "cell_type": "markdown",
   "metadata": {},
   "source": [
    "#### Example"
   ]
  },
  {
   "cell_type": "code",
   "execution_count": 12,
   "metadata": {
    "collapsed": false
   },
   "outputs": [
    {
     "data": {
      "text/plain": [
       "0.7"
      ]
     },
     "execution_count": 12,
     "metadata": {},
     "output_type": "execute_result"
    }
   ],
   "source": [
    "get_f_sk('None', 'Saving')"
   ]
  },
  {
   "cell_type": "code",
   "execution_count": 7,
   "metadata": {
    "collapsed": false
   },
   "outputs": [
    {
     "data": {
      "text/plain": [
       "0.85"
      ]
     },
     "execution_count": 7,
     "metadata": {},
     "output_type": "execute_result"
    }
   ],
   "source": [
    "get_f_ss('None', 'Saving')"
   ]
  },
  {
   "cell_type": "code",
   "execution_count": 8,
   "metadata": {
    "collapsed": false
   },
   "outputs": [
    {
     "data": {
      "text/plain": [
       "0.8"
      ]
     },
     "execution_count": 8,
     "metadata": {},
     "output_type": "execute_result"
    }
   ],
   "source": [
    "get_f_sw('Saving')"
   ]
  },
  {
   "cell_type": "code",
   "execution_count": 9,
   "metadata": {
    "collapsed": false
   },
   "outputs": [
    {
     "data": {
      "text/plain": [
       "0.95"
      ]
     },
     "execution_count": 9,
     "metadata": {},
     "output_type": "execute_result"
    }
   ],
   "source": [
    "get_f_sp('Saving')"
   ]
  },
  {
   "cell_type": "code",
   "execution_count": 10,
   "metadata": {
    "collapsed": false
   },
   "outputs": [
    {
     "data": {
      "text/plain": [
       "1.0"
      ]
     },
     "execution_count": 10,
     "metadata": {},
     "output_type": "execute_result"
    }
   ],
   "source": [
    "get_f_sb()"
   ]
  }
 ],
 "metadata": {
  "kernelspec": {
   "display_name": "Python 3",
   "language": "python",
   "name": "python3"
  },
  "language_info": {
   "codemirror_mode": {
    "name": "ipython",
    "version": 3
   },
   "file_extension": ".py",
   "mimetype": "text/x-python",
   "name": "python",
   "nbconvert_exporter": "python",
   "pygments_lexer": "ipython3",
   "version": "3.6.2"
  }
 },
 "nbformat": 4,
 "nbformat_minor": 2
}
