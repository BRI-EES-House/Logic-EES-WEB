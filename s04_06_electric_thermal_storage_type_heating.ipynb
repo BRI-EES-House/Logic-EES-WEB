{
 "cells": [
  {
   "cell_type": "markdown",
   "metadata": {},
   "source": [
    "使用許諾条件\n",
    "\n",
    "①\t設計一次エネルギー消費量算定法に基づく計算方法をPythonによりコーディングし、Jupyter notebook形式で保存したファイル（以下、本ファイルと呼ぶ）の著作権は、一般社団法人日本サステナブル建築協会に帰属します。\n",
    "Copyright©2019. 一般社団法人日本サステナブル建築協会\n",
    "All rights reserved. \n",
    "\n",
    "②\t本ファイルは、住戸の設計一次エネルギー消費量算定方法に係る「平成28年省エネルギー基準に準拠したエネルギー消費性能の評価に関する技術情報（住宅）2.1算定方法（第四章第六節 電気蓄熱暖房器）」に示す計算方法に基づき、国土交通省国土技術政策総合研究所・国立研究開発法人建築研究所、株式会社ユーワークス、株式会社住環境計画研究所が作成したものです。\n",
    "\n",
    "③\t本ファイルは、計算方法に示す計算過程の確認及び調査研究等に活用することを目的として作成されたものであり、一般社団法人日本サステナブル建築協会は著作権について放棄はしませんが、使用する各人の自己責任において仕様を変更することを妨げるものではありません。ただし、本ファイルによる計算結果を住宅の省エネルギー基準で規定する設計一次エネルギー消費量の結果として公的な申請に用いることはできません。\n",
    "\n",
    "④\t本ファイルを変更するかしないかを問わず、以下の条件を満たす場合に限り、頒布および使用が許可されます。\n",
    "1.\t頒布物の付属ドキュメント等の資料に、上記の著作権表示、本条件一覧、および下記免責条項を含めること。\n",
    "2.\t書面による特別の許可なしに、本ファイルから派生した製品の宣伝または販売の促進に、一般社団法人日本サステナブル建築協会、国土技術政策総合研究所・国立研究開発法人建築研究所および株式会社ユーワークス、株式会社住環境計画研究所の名前またはコントリビューターの名前を使用してはならない。\n",
    "\n",
    "⑤\t本ファイルは、著作権者およびコントリビューターによって「現状のまま」提供されており、明示黙示を問わず、商業的な使用可能性、および特定の目的に対する適合性に関する暗黙の保証も含め、またそれに限定されない、いかなる保証もありません。著作権もコントリビューターも、事由のいかんを問わず、損害発生の原因いかんを問わず、かつ責任の根拠が契約であるか厳格責任であるか（過失その他の）不法行為であるかを問わず、仮にそのような損害が発生する可能性を知らされていたとしても、本ファイルの使用によって発生した（代用品または代用サービスの調達、使用の喪失、データの喪失、利益の喪失、業務の中断も含め、またそれに限定されない）直接損害、間接損害、偶発的な損害、特別損害、懲罰的損害、または結果損害について、一切の責任を負わないものとします。\n",
    "\n"
   ]
  },
  {
   "cell_type": "code",
   "execution_count": null,
   "metadata": {},
   "outputs": [],
   "source": [
    "import nbimporter\n",
    "import numpy as np\n",
    "from s04_01_general_Q import get_Q_T_H_d_t_i"
   ]
  },
  {
   "cell_type": "markdown",
   "metadata": {},
   "source": [
    "## 第六節　電気蓄熱暖房器 / Section 6 Electric thermal storage type heating"
   ]
  },
  {
   "cell_type": "markdown",
   "metadata": {},
   "source": [
    "1．適用範囲～4．記号及び単位は省略"
   ]
  },
  {
   "cell_type": "markdown",
   "metadata": {},
   "source": [
    "1. Scope of application ~ 4. Symbols and units are omitted"
   ]
  },
  {
   "cell_type": "markdown",
   "metadata": {},
   "source": [
    "### 5．最大暖房出力 / Maximum heating output"
   ]
  },
  {
   "cell_type": "markdown",
   "metadata": {},
   "source": [
    "$$\\large\n",
    "Q_{max,H,d,t} = q_{rtd,H} \\times 3600 \\times 10^{-6}\n",
    "$$"
   ]
  },
  {
   "cell_type": "markdown",
   "metadata": {},
   "source": [
    "$Q_{max,H,d,t}$：日付$d$の時刻$t$における1時間当たりの最大暖房出力(MJ/h) / Maximum heating output per hour at time $ t $ of date $ d $  \n",
    "$q_{rtd,H}$：定格暖房能力(W) / Rated heating capacity"
   ]
  },
  {
   "cell_type": "code",
   "execution_count": null,
   "metadata": {},
   "outputs": [],
   "source": [
    "def get_Q_max_H_d_t(q_rtd_H):\n",
    "    \"\"\"最大暖房出力\n",
    "    \n",
    "    :param q_rtd_H: 定格暖房能力\n",
    "    :type q_rtd_H: float\n",
    "    :return: 最大暖房出力\n",
    "    :rtype: ndarray\n",
    "    \"\"\"\n",
    "    return np.ones(24 * 365) * (q_rtd_H * 3600 / 1000000)  # (1)"
   ]
  },
  {
   "cell_type": "markdown",
   "metadata": {},
   "source": [
    "### 6．暖房エネルギー消費量 / Heating energy consumption"
   ]
  },
  {
   "cell_type": "markdown",
   "metadata": {},
   "source": [
    "#### 6.1　消費電力量 / Power consumption"
   ]
  },
  {
   "cell_type": "markdown",
   "metadata": {},
   "source": [
    "$$\n",
    "\\large\n",
    "E_{E,H,d,t} = Q_{T,H,d,t} \\times \\frac{1}{e_{rtd,H}} \\times 10^3 \\div 3600\n",
    "$$"
   ]
  },
  {
   "cell_type": "markdown",
   "metadata": {},
   "source": [
    "$E_{E,H,d,t}$：日付$d$の時刻$t$における1時間当たりの消費電力量(kWh/h) / Power consumption per hour at time $ t $ of date $ d $  \n",
    "$Q_{T,H,d,t}$：日付$d$の時刻$t$における1時間当たりの処理暖房負荷(MJ/h) / Processing heating load per hour at time $ t $ of date $ d $  \n",
    "$e_{rtd,H}$：蓄熱効率 / Heat storage efficiency "
   ]
  },
  {
   "cell_type": "code",
   "execution_count": null,
   "metadata": {},
   "outputs": [],
   "source": [
    "def calc_E_E_H_d_t(q_rtd_H, e_rtd_H, L_H_d_t):\n",
    "    \"\"\"暖房エネルギー消費量\n",
    "    \n",
    "    :param q_rtd_H: 定格暖房能力\n",
    "    :type q_rtd_H: float\n",
    "    :param e_rtd_H: 定格暖房エネルギー消費効率\n",
    "    :type e_rtd_H: float\n",
    "    :param L_H_d_t: 暖冷房区画の１時間当たりの暖房負荷 \n",
    "    :type L_H_d_t: ndarray\n",
    "    :return: 暖房エネルギー消費量\n",
    "    :rtype: ndarray\n",
    "    \"\"\"\n",
    "    # 最大暖房出力\n",
    "    Q_max_H_d_t = get_Q_max_H_d_t(q_rtd_H)\n",
    "\n",
    "    # 処理暖房負荷\n",
    "    Q_T_H_d_t = get_Q_T_H_d_t_i(Q_max_H_d_t, L_H_d_t)\n",
    "\n",
    "    return Q_T_H_d_t * (1.0 / e_rtd_H) * 1000 / 3600  # (2)"
   ]
  },
  {
   "cell_type": "markdown",
   "metadata": {},
   "source": [
    "#### 6.2　ガス消費量 / Gas consumption"
   ]
  },
  {
   "cell_type": "markdown",
   "metadata": {},
   "source": [
    "日付$d$の時刻$t$における１時間当たりのガス消費量$E_{G,H,d,t}$は0とする。"
   ]
  },
  {
   "cell_type": "markdown",
   "metadata": {},
   "source": [
    "It is assumed that gas consumption $ E_{G, H, d, t} $ per hour at time $ t $ of date $ d $ is zero."
   ]
  },
  {
   "cell_type": "code",
   "execution_count": null,
   "metadata": {},
   "outputs": [],
   "source": [
    "def get_E_G_H_d_t():\n",
    "    \"\"\"ガス消費量\n",
    "    \n",
    "    :return: ガス消費量\n",
    "    :rtype: ndarray\n",
    "    \"\"\"\n",
    "    return np.zeros(24 * 365)"
   ]
  },
  {
   "cell_type": "markdown",
   "metadata": {},
   "source": [
    "#### 6.3　灯油消費量 / Kerosene consumption"
   ]
  },
  {
   "cell_type": "markdown",
   "metadata": {},
   "source": [
    "日付$d$の時刻$t$における１時間当たりの灯油消費量$E_{K,H,d,t}$は0とする。"
   ]
  },
  {
   "cell_type": "markdown",
   "metadata": {},
   "source": [
    "It is assumed that kerosene consumption $ E_{K, H, d, t} $ per hour at time $ t $ of date $ d $ is zero."
   ]
  },
  {
   "cell_type": "code",
   "execution_count": null,
   "metadata": {},
   "outputs": [],
   "source": [
    "def get_E_K_H_d_t():\n",
    "    \"\"\"灯油消費量\n",
    "    \n",
    "    :return: 灯油消費量\n",
    "    :rtype: ndarray\n",
    "    \"\"\"\n",
    "    return np.zeros(24 * 365)"
   ]
  },
  {
   "cell_type": "markdown",
   "metadata": {},
   "source": [
    "#### 6.4　その他の燃料による一次エネルギー消費量 / Primary energy consumption by other fuels"
   ]
  },
  {
   "cell_type": "markdown",
   "metadata": {},
   "source": [
    "日付$d$の時刻$t$における１時間当たりのその他の燃料による一次エネルギー消費量$E_{M,H,d,t}$は0とする。"
   ]
  },
  {
   "cell_type": "markdown",
   "metadata": {},
   "source": [
    "Primary energy consumption $ E_{M, H, d, t} $ by other fuel per hour at time $ t $ of date $ d $ is 0."
   ]
  },
  {
   "cell_type": "code",
   "execution_count": null,
   "metadata": {},
   "outputs": [],
   "source": [
    "def get_E_M_H_d_t():\n",
    "    \"\"\"その他の燃料による一次エネルギー消費量\n",
    "\n",
    "    :return: その他の燃料による一次エネルギー消費量\n",
    "    :rtype: ndarray\n",
    "    \"\"\"\n",
    "    return np.zeros(24 * 365)"
   ]
  },
  {
   "cell_type": "markdown",
   "metadata": {},
   "source": [
    "## 付録 A 機器の性能を表す仕様の決定方法 / Appendix A How to determine the specification that represents the performance of the device"
   ]
  },
  {
   "cell_type": "markdown",
   "metadata": {},
   "source": [
    "### A.1　記号及び単位 / Symbol and unit"
   ]
  },
  {
   "cell_type": "markdown",
   "metadata": {},
   "source": [
    "省略"
   ]
  },
  {
   "cell_type": "markdown",
   "metadata": {},
   "source": [
    "ommision"
   ]
  },
  {
   "cell_type": "markdown",
   "metadata": {},
   "source": [
    "### A.2　定格暖房能力 / Rated heating capacity"
   ]
  },
  {
   "cell_type": "markdown",
   "metadata": {},
   "source": [
    "$$\\large\n",
    "q_{rtd,H} = q_{rq,H} \\times A_{HCZ} \\times f_{cT} \\times f_{cI}\n",
    "$$"
   ]
  },
  {
   "cell_type": "markdown",
   "metadata": {},
   "source": [
    "$q_{rtd,H}$：定格暖房能力(kWh/h) / Rated heating capacity  \n",
    "$q_{rq,H}$：単位面積当たりの必要暖房能力(W/m<sup>2</sup>) / Required heating capacity per unit area  \n",
    "$A_{HCZ}$：電気蓄熱暖房器により暖房される暖冷房区画の床面積(m<sup>2</sup>) / Floor area of heating and cooling compartments heated by electric heat storage heater  \n",
    "$f_{cT}$：外気温度能力補正係数 / Outside air temperature ability correction factor  \n",
    "$f_{cI}$：間歇運転能力補正係数 / Intermittent driving ability correction factor  "
   ]
  },
  {
   "cell_type": "markdown",
   "metadata": {},
   "source": [
    "外気温度補正係数$f_{cT}$の値は1.05とする。"
   ]
  },
  {
   "cell_type": "markdown",
   "metadata": {},
   "source": [
    "The value of the outside air temperature correction coefficient $ f_{cT} $ is set to 1.05."
   ]
  },
  {
   "cell_type": "code",
   "execution_count": null,
   "metadata": {},
   "outputs": [],
   "source": [
    "def get_q_rtd_H(q_rq_H, A_HCZ, f_cT, f_cI):\n",
    "    \"\"\"定格暖房能力\n",
    "    \n",
    "    :param q_rq_H: 単位面積当たりの必要暖房能力\n",
    "    :type q_rq_H: float\n",
    "    :param A_HCZ: 暖冷房区画の床面積\n",
    "    :type A_HCZ: float\n",
    "    :param f_cT: 外気温度補正係数\n",
    "    :type f_cT: float\n",
    "    :param f_cI: 間歇運転能力補正係数\n",
    "    :type f_cI: float\n",
    "    :return: 定格暖房能力\n",
    "    :rtype: float\n",
    "    \"\"\"\n",
    "    return q_rq_H * A_HCZ * f_cT * f_cI  # (1)"
   ]
  },
  {
   "cell_type": "code",
   "execution_count": null,
   "metadata": {},
   "outputs": [],
   "source": [
    "# 単位面積当たりの必要暖房能力\n",
    "def calc_q_rq_H(region):\n",
    "    \"\"\"単位面積当たりの必要暖房能力\n",
    "    \n",
    "    :param region: 地域区分\n",
    "    :type region: int\n",
    "    :return: 単位面積当たりの必要暖房能力\n",
    "    :rtype: float\n",
    "    \"\"\"\n",
    "    table_a_2 = get_table_a_2()\n",
    "\n",
    "    return table_a_2[region - 1]"
   ]
  },
  {
   "cell_type": "code",
   "execution_count": null,
   "metadata": {},
   "outputs": [],
   "source": [
    "# 外気温度補正係数\n",
    "def get_f_cT(region):\n",
    "    \"\"\"外気温度補正係数\n",
    "    \n",
    "    :param region: 地域区分\n",
    "    :type region: int\n",
    "    :return: 外気温度補正係数\n",
    "    :rtype: float\n",
    "    \"\"\"\n",
    "    return 1.05"
   ]
  },
  {
   "cell_type": "code",
   "execution_count": null,
   "metadata": {},
   "outputs": [],
   "source": [
    "# 間歇運転能力補正係数\n",
    "def calc_f_cI(mode, R_type):\n",
    "    \"\"\"間歇運転能力補正係数\n",
    "    \n",
    "    :param mode: 運転方式\n",
    "    :type mode: str\n",
    "    :param R_type: 居室の形式\n",
    "    :type R_type: string\n",
    "    :raises ValueError: modeが'ろ', '連続', 'は', '間歇'以外の場合に発生\n",
    "    :raises ValueError: R_typeが'主たる居室', 'その他の居室'以外の場合に発生\n",
    "    :return: 間歇運転能力補正係数\n",
    "    :rtype: float\n",
    "    \"\"\"\n",
    "    if mode in ['ろ', '連続']:\n",
    "        y = 0\n",
    "    elif mode in ['は', '間歇']:\n",
    "        y = 1\n",
    "    else:\n",
    "        raise ValueError(mode)\n",
    "\n",
    "    if R_type == '主たる居室':\n",
    "        x = 0\n",
    "    elif R_type == 'その他の居室':\n",
    "        x = 1\n",
    "    else:\n",
    "        raise ValueError(R_type)\n",
    "\n",
    "    table_a_3 = get_table_a_3()\n",
    "\n",
    "    return table_a_3[y][x]"
   ]
  },
  {
   "cell_type": "markdown",
   "metadata": {},
   "source": [
    "<div style=\"text-align: center;font-weight: bold;\">表　単位面積当たりの必要暖房能力（W/m<sup>2</sup>）<br>Table: Required heating capacity per unit area</div>\n",
    "\n",
    "|地域の区分<br>Segmentation of area|1|2|3|4|5|6|7|8|\n",
    "|-|-|-|-|-|-|-|-|-|\n",
    "|　|139.3|120.7|111.3|119.0|126.6|106.5|112.9|-|"
   ]
  },
  {
   "cell_type": "code",
   "execution_count": null,
   "metadata": {},
   "outputs": [],
   "source": [
    "def get_table_a_2():\n",
    "    \"\"\"表A.2 単位面積当たりの必要暖房能力\n",
    "    \n",
    "    :return: 単位面積当たりの必要暖房能力\n",
    "    :rtype: list\n",
    "    \"\"\"\n",
    "    # 表A.2 単位面積当たりの必要暖房能力\n",
    "    table_a_2 = [\n",
    "        139.3,\n",
    "        120.7,\n",
    "        111.3,\n",
    "        119.0,\n",
    "        126.6,\n",
    "        106.5,\n",
    "        112.9\n",
    "    ]\n",
    "    return table_a_2"
   ]
  },
  {
   "cell_type": "markdown",
   "metadata": {},
   "source": [
    "<div style=\"text-align: center;font-weight: bold;\">表　間歇運転能力補正係数<br>Table: Intermittent driving ability correction factor</div>\n",
    "\n",
    "|　|主たる居室<br>Main room|その他の居室<br>Other rooms|\n",
    "|-|-|-|\n",
    "|連続運転の場合<br>In case of continuous operation|1.0|1.0|\n",
    "|間歇運転の場合<br>In case of intermittent operation|3.034|4.805|"
   ]
  },
  {
   "cell_type": "code",
   "execution_count": null,
   "metadata": {},
   "outputs": [],
   "source": [
    "def get_table_a_3():\n",
    "    \"\"\" 表A.3 間歇運転能力補正係数\n",
    "    \n",
    "    :return: 間歇運転能力補正係数\n",
    "    :rtype: list\n",
    "    \"\"\"\n",
    "    # 表A.3 間歇運転能力補正係数\n",
    "    table_a_3 = [\n",
    "        (1.0, 1.0),\n",
    "        (3.034, 4.805)\n",
    "    ]\n",
    "    return table_a_3"
   ]
  },
  {
   "cell_type": "markdown",
   "metadata": {},
   "source": [
    "### A.3　蓄熱効率 / Heat storage efficiency "
   ]
  },
  {
   "cell_type": "markdown",
   "metadata": {},
   "source": [
    "蓄熱効率$e_{rtd.H}$は0.850（85.0%）とする。 "
   ]
  },
  {
   "cell_type": "markdown",
   "metadata": {},
   "source": [
    "The heat storage efficiency $ e_{rtd. H} $ is 0.850 (85.0%)."
   ]
  },
  {
   "cell_type": "code",
   "execution_count": null,
   "metadata": {},
   "outputs": [],
   "source": [
    "def get_e_rtd_H():\n",
    "    return 0.850"
   ]
  }
 ],
 "metadata": {
  "kernelspec": {
   "display_name": "Python 3",
   "language": "python",
   "name": "python3"
  },
  "language_info": {
   "codemirror_mode": {
    "name": "ipython",
    "version": 3
   },
   "file_extension": ".py",
   "mimetype": "text/x-python",
   "name": "python",
   "nbconvert_exporter": "python",
   "pygments_lexer": "ipython3",
   "version": "3.6.6"
  }
 },
 "nbformat": 4,
 "nbformat_minor": 2
}
