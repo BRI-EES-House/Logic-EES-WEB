{
 "cells": [
  {
   "cell_type": "markdown",
   "metadata": {},
   "source": [
    "# Chapter IV-VI Heating and Cooling System - Electric Thermal Storage Type Heating / 暖冷房設備 - 電気蓄熱暖房器"
   ]
  },
  {
   "cell_type": "markdown",
   "metadata": {},
   "source": [
    "## Maximum Heating Output / 最大暖房出力"
   ]
  },
  {
   "cell_type": "markdown",
   "metadata": {},
   "source": [
    "The hourly maximum heating output $Q_{max,H}$ is calculated by the equation below."
   ]
  },
  {
   "cell_type": "markdown",
   "metadata": {},
   "source": [
    "$$\\large\n",
    "Q_{max,H} = q_{rtd,H} \\times 3600 \\times 10^{-6}\n",
    "$$"
   ]
  },
  {
   "cell_type": "markdown",
   "metadata": {},
   "source": [
    "Where  \n",
    "$Q_{max,H}$ is the hourly maximum heating output. / 1時間当たりの最大暖房出力(MJ/h)  \n",
    "$q_{rtd,H}$ is the rated heating capacity. / 定格暖房能力(W)  "
   ]
  },
  {
   "cell_type": "markdown",
   "metadata": {},
   "source": [
    "The rated heating capacity $q_{rtd,H}$ shall be in accordance with Appendix A."
   ]
  },
  {
   "cell_type": "code",
   "execution_count": 1,
   "metadata": {},
   "outputs": [],
   "source": [
    "def get_Q_max_H(_q_rtd_H):\n",
    "    \n",
    "    _Q_max_H = _q_rtd_H * 3600 * 10**-6\n",
    "    \n",
    "    return _Q_max_H"
   ]
  },
  {
   "cell_type": "markdown",
   "metadata": {},
   "source": [
    "#### test"
   ]
  },
  {
   "cell_type": "code",
   "execution_count": 2,
   "metadata": {
    "scrolled": true
   },
   "outputs": [
    {
     "data": {
      "text/plain": [
       "3.5999999999999996"
      ]
     },
     "execution_count": 2,
     "metadata": {},
     "output_type": "execute_result"
    }
   ],
   "source": [
    "get_Q_max_H(_q_rtd_H = 1000)"
   ]
  },
  {
   "cell_type": "markdown",
   "metadata": {},
   "source": [
    "## Heating Energy Consumption / 暖房エネルギー消費量"
   ]
  },
  {
   "cell_type": "markdown",
   "metadata": {},
   "source": [
    "### 1. Power / 消費電力量"
   ]
  },
  {
   "cell_type": "markdown",
   "metadata": {},
   "source": [
    "The hourly electric power $E_{E,H}$ is calculated by the equation below."
   ]
  },
  {
   "cell_type": "markdown",
   "metadata": {},
   "source": [
    "$$\n",
    "\\large\n",
    "E_{E,H} = Q_{T,H} \\times \\frac{1}{e_{rtd,H}} \\times 10^3 \\div 3600\n",
    "$$"
   ]
  },
  {
   "cell_type": "code",
   "execution_count": 3,
   "metadata": {},
   "outputs": [],
   "source": [
    "def get_E_E_H(_Q_T_H):\n",
    "    \n",
    "    #reference from 4-1 _Q_T_H \n",
    "    _e_rtd_H = 0.850\n",
    "    \n",
    "    _E_E_H = _Q_T_H * 1/_e_rtd_H * 10**3 / 3600\n",
    "    \n",
    "    return _E_E_H"
   ]
  },
  {
   "cell_type": "markdown",
   "metadata": {},
   "source": [
    "#### test"
   ]
  },
  {
   "cell_type": "code",
   "execution_count": 4,
   "metadata": {},
   "outputs": [
    {
     "data": {
      "text/plain": [
       "0.2777777777777778"
      ]
     },
     "execution_count": 4,
     "metadata": {},
     "output_type": "execute_result"
    }
   ],
   "source": [
    "get_E_E_H(_Q_T_H = 0.850)"
   ]
  },
  {
   "cell_type": "markdown",
   "metadata": {},
   "source": [
    "Where  \n",
    "$E_{E,H}$ is the hourly electric power. / 1時間当たりの消費電力量(kWh/h)  \n",
    "$Q_{T,H}$ is the hourly process heating load. / 1時間当たりの処理暖房負荷(MJ/h)  \n",
    "$e_{rtd,H}$ is the heat storage efficiency. / 蓄熱効率  "
   ]
  },
  {
   "cell_type": "markdown",
   "metadata": {},
   "source": [
    "The heat storage efficiency $e_{rtd,H}$ shall be in accordance with Appendix A."
   ]
  },
  {
   "cell_type": "markdown",
   "metadata": {},
   "source": [
    "### 2. Gas Consumption / ガス消費量"
   ]
  },
  {
   "cell_type": "markdown",
   "metadata": {},
   "source": [
    "The hourly gas consumption $E_{G,H}$ shall be equal to $0$. "
   ]
  },
  {
   "cell_type": "markdown",
   "metadata": {},
   "source": [
    "### 3. Kerosene Consumption / 灯油消費量"
   ]
  },
  {
   "cell_type": "markdown",
   "metadata": {},
   "source": [
    "The hourly kerosene consumption $E_{K,H}$ shall be equal to $0$. "
   ]
  },
  {
   "cell_type": "markdown",
   "metadata": {},
   "source": [
    "### 4. Primary Energy Consumption by Other Fuels / その他の燃料による一次エネルギー消費量"
   ]
  },
  {
   "cell_type": "markdown",
   "metadata": {},
   "source": [
    "The hourly primary energy consumption $E_{M,H}$ by other fuels shall be equal to $0$. "
   ]
  },
  {
   "cell_type": "markdown",
   "metadata": {},
   "source": [
    "## 付録A　機器の性能を表す仕様の決定方法 / How to determine the specifications of equipment performance"
   ]
  },
  {
   "cell_type": "markdown",
   "metadata": {},
   "source": [
    "This appendix shows a method for determining specifications representing the performance of equipment from the floor area etc. of the heating and cooling compartment which is heated and cooled by the electric heat storage heater.   \n",
    "Regarding the rated heating capacity and heat storage efficiency in the text, the value obtained from this appendix shall be used instead of using the value of the electric storage heaters installed in the dwelling unit."
   ]
  },
  {
   "cell_type": "markdown",
   "metadata": {},
   "source": [
    "### 定格暖房能力 "
   ]
  },
  {
   "cell_type": "markdown",
   "metadata": {},
   "source": [
    "The rated heating capacity $q_{rtd,H}$ is calculated by the equation below."
   ]
  },
  {
   "cell_type": "markdown",
   "metadata": {},
   "source": [
    "$$\\large\n",
    "q_{rtd,H} = q_{rq,H} \\times A_{HCZ} \\times f_{cT} \\times f_{cI}\n",
    "$$"
   ]
  },
  {
   "cell_type": "markdown",
   "metadata": {},
   "source": [
    "Where  \n",
    "$q_{rtd,H}$ is the rated heating capacity. / 定格暖房能力(kWh/h)  \n",
    "$q_{rq,H}$ is the required heating capacity per unit area. / 単位面積当たりの必要暖房能力(W/$m^{2}$)  \n",
    "$A_{HCZ}$ is the floor area of heating and cooling compartment heated by the electrical storage heaters. / 電気蓄熱暖房器により暖房される暖冷房区画の床面積($m^{2}$)  \n",
    "$f_{cT}$ is the correction coefficient of outside air temperature capability. / 外気温度能力補正係数  \n",
    "$f_{cI}$ is the correction coefficient of intermittent operation ability. / 間歇運転能力補正係数  "
   ]
  },
  {
   "cell_type": "markdown",
   "metadata": {},
   "source": [
    "The required heating capacity $q_{rq,H}$ per unit area is specified by Table 2 for each regional classification.  \n",
    "The value of the outside air temperature correction coefficient $f_{cT}$ is 1.05.  \n",
    "The correction coefficient $f_{cI}$ of intermittent operation ability depends on the operation method and is the value in Table 3."
   ]
  },
  {
   "cell_type": "markdown",
   "metadata": {},
   "source": [
    "<center>**Table 2. The required heating capacity per unit area（W/$m^{2}$）**</center>\n",
    "\n",
    "|Region<br>classification|1|2|3|4|5|6|7|8|\n",
    "|-|-|-|-|-|-|-|-|-|\n",
    "| |139.3|120.7|111.3|119.0|126.6|106.5|112.9|-|"
   ]
  },
  {
   "cell_type": "markdown",
   "metadata": {},
   "source": [
    "<center>**Table 3. The correction coefficient of intermittent operation ability**</center>\n",
    "\n",
    "||Main room|Other rooms|\n",
    "|-|-|-|\n",
    "|Continuous operation|1.0|1.0|\n",
    "|Intermittent operation|3.034|4.805|"
   ]
  },
  {
   "cell_type": "code",
   "execution_count": 5,
   "metadata": {},
   "outputs": [],
   "source": [
    "def get_q_rtd_H(RegionClass, _A_HCZ, HeatingOperation, TypeOfRoom):\n",
    "        \n",
    "    _q_rq_H = {1:139.3, 2:120.7, 3:111.3, 4:119.0, 5:126.6, 6:106.5, 7:112.9, 8:\"‐\"}[RegionClass]\n",
    "            \n",
    "    _f_cI = {\n",
    "        \"Continuous\":{\"Main\":1.0, \"Other\":1.0},\n",
    "        \"Intermittent\":{\"Main\":3.034, \"Other\":4.805}\n",
    "    }[HeatingOperation][TypeOfRoom]\n",
    "    \n",
    "    _f_cT = 1.05\n",
    "    \n",
    "    _q_rtd_H = _q_rq_H * _A_HCZ * _f_cT * _f_cI\n",
    "    \n",
    "    return _q_rtd_H"
   ]
  },
  {
   "cell_type": "markdown",
   "metadata": {},
   "source": [
    "#### test"
   ]
  },
  {
   "cell_type": "code",
   "execution_count": 6,
   "metadata": {},
   "outputs": [
    {
     "data": {
      "text/plain": [
       "5373.19125"
      ]
     },
     "execution_count": 6,
     "metadata": {},
     "output_type": "execute_result"
    }
   ],
   "source": [
    "get_q_rtd_H(6,10,\"Intermittent\",\"Other\")"
   ]
  },
  {
   "cell_type": "markdown",
   "metadata": {},
   "source": [
    "### 蓄熱効率"
   ]
  },
  {
   "cell_type": "markdown",
   "metadata": {},
   "source": [
    "The heat storage efficiency $e_{rtd,H}$ shall be 0.850 (85.0%)."
   ]
  },
  {
   "cell_type": "markdown",
   "metadata": {},
   "source": [
    "## Integrated Function"
   ]
  },
  {
   "cell_type": "code",
   "execution_count": 7,
   "metadata": {},
   "outputs": [],
   "source": [
    "def func(RegionClass, _A_HCZ, HeatingOperation, TypeOfRoom, L_H):\n",
    "    _q_rtd_H = get_q_rtd_H(RegionClass, _A_HCZ, HeatingOperation, TypeOfRoom)\n",
    "    _Q_max_H = get_Q_max_H(_q_rtd_H)\n",
    "    \n",
    "    # 4章1節の計算式\n",
    "    ## L_Hは暖房負荷\n",
    "    _Q_T_H = min(_Q_max_H, max(0, L_H))\n",
    "    \n",
    "    _E_E_H = get_E_E_H(_Q_T_H)\n",
    "    \n",
    "    return _E_E_H"
   ]
  },
  {
   "cell_type": "markdown",
   "metadata": {},
   "source": [
    "#### test"
   ]
  },
  {
   "cell_type": "code",
   "execution_count": 8,
   "metadata": {
    "scrolled": true
   },
   "outputs": [
    {
     "data": {
      "text/plain": [
       "75.8568176470588"
      ]
     },
     "execution_count": 8,
     "metadata": {},
     "output_type": "execute_result"
    }
   ],
   "source": [
    "func(RegionClass = 6, _A_HCZ = 120, HeatingOperation = 'Intermittent', TypeOfRoom = 'Other', L_H = 1000)"
   ]
  }
 ],
 "metadata": {
  "kernelspec": {
   "display_name": "Python 3",
   "language": "python",
   "name": "python3"
  },
  "language_info": {
   "codemirror_mode": {
    "name": "ipython",
    "version": 3
   },
   "file_extension": ".py",
   "mimetype": "text/x-python",
   "name": "python",
   "nbconvert_exporter": "python",
   "pygments_lexer": "ipython3",
   "version": "3.6.4"
  }
 },
 "nbformat": 4,
 "nbformat_minor": 2
}
