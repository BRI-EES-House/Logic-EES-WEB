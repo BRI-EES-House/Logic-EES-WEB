{
 "cells": [
  {
   "cell_type": "markdown",
   "metadata": {},
   "source": [
    "使用許諾条件\n",
    "\n",
    "①\t設計一次エネルギー消費量算定法に基づく計算方法をPythonによりコーディングし、Jupyter notebook形式で保存したファイル（以下、本ファイルと呼ぶ）の著作権は、一般社団法人日本サステナブル建築協会に帰属します。\n",
    "Copyright©2019. 一般社団法人日本サステナブル建築協会\n",
    "All rights reserved. \n",
    "\n",
    "②\t本ファイルは、住戸の設計一次エネルギー消費量算定方法に係る「平成28年省エネルギー基準に準拠したエネルギー消費性能の評価に関する技術情報（住宅）2.1算定方法（第四章第七節 温水暖房）」に示す計算方法に基づき、国土交通省国土技術政策総合研究所・国立研究開発法人建築研究所、株式会社ユーワークス、株式会社住環境計画研究所が作成したものです。\n",
    "\n",
    "③\t本ファイルは、計算方法に示す計算過程の確認及び調査研究等に活用することを目的として作成されたものであり、一般社団法人日本サステナブル建築協会は著作権について放棄はしませんが、使用する各人の自己責任において仕様を変更することを妨げるものではありません。ただし、本ファイルによる計算結果を住宅の省エネルギー基準で規定する設計一次エネルギー消費量の結果として公的な申請に用いることはできません。\n",
    "\n",
    "④\t本ファイルを変更するかしないかを問わず、以下の条件を満たす場合に限り、頒布および使用が許可されます。\n",
    "1.\t頒布物の付属ドキュメント等の資料に、上記の著作権表示、本条件一覧、および下記免責条項を含めること。\n",
    "2.\t書面による特別の許可なしに、本ファイルから派生した製品の宣伝または販売の促進に、一般社団法人日本サステナブル建築協会、国土技術政策総合研究所・国立研究開発法人建築研究所および株式会社ユーワークス、株式会社住環境計画研究所の名前またはコントリビューターの名前を使用してはならない。\n",
    "\n",
    "⑤\t本ファイルは、著作権者およびコントリビューターによって「現状のまま」提供されており、明示黙示を問わず、商業的な使用可能性、および特定の目的に対する適合性に関する暗黙の保証も含め、またそれに限定されない、いかなる保証もありません。著作権もコントリビューターも、事由のいかんを問わず、損害発生の原因いかんを問わず、かつ責任の根拠が契約であるか厳格責任であるか（過失その他の）不法行為であるかを問わず、仮にそのような損害が発生する可能性を知らされていたとしても、本ファイルの使用によって発生した（代用品または代用サービスの調達、使用の喪失、データの喪失、利益の喪失、業務の中断も含め、またそれに限定されない）直接損害、間接損害、偶発的な損害、特別損害、懲罰的損害、または結果損害について、一切の責任を負わないものとします。\n",
    "\n"
   ]
  },
  {
   "cell_type": "code",
   "execution_count": null,
   "metadata": {},
   "outputs": [],
   "source": [
    "import nbimporter\n",
    "import numpy as np\n",
    "import s04_07_h_max_capacity_of_hot_water_floor_heating as appendix_H"
   ]
  },
  {
   "cell_type": "markdown",
   "metadata": {},
   "source": [
    "## 付録C　電気ヒーター温水暖房機及び電気ヒーター給湯温水暖房機 / Appendix C Electric heater hot water heater and electric heater hot water heater hot water heater"
   ]
  },
  {
   "cell_type": "markdown",
   "metadata": {},
   "source": [
    "### C.1 記号及び単位 / Symbol and unit"
   ]
  },
  {
   "cell_type": "markdown",
   "metadata": {},
   "source": [
    "省略"
   ]
  },
  {
   "cell_type": "markdown",
   "metadata": {},
   "source": [
    "ommision"
   ]
  },
  {
   "cell_type": "markdown",
   "metadata": {},
   "source": [
    "### C.2 エネルギー消費量 / Energy consumption"
   ]
  },
  {
   "cell_type": "markdown",
   "metadata": {},
   "source": [
    "#### C.2.1 消費電力量 / Power consumption"
   ]
  },
  {
   "cell_type": "markdown",
   "metadata": {},
   "source": [
    "$$\\large\n",
    "E_{E,hs} = E_{E,hs,htr} + E_{E,hs,pmp}\n",
    "$$"
   ]
  },
  {
   "cell_type": "markdown",
   "metadata": {},
   "source": [
    "$E_{E,hs}$：1 時間当たりの温水暖房用熱源機の消費電力量(kWh/h) / Power consumption of the hot water heating heat source unit per hour  \n",
    "$E_{E,hs,htr}$：1 時間当たりの温水暖房用熱源機の電気ヒーターの消費電力量(kWh/h) / Power consumption of the electric heater of the heat source machine for hot water heating per hour  \n",
    "$E_{E,hs,pmp}$：1 時間当たりの温水暖房用熱源機の送水ポンプの消費電力量(kWh/h) / Power consumption of the water supply pump of the heat source unit for hot water heating per hour  "
   ]
  },
  {
   "cell_type": "code",
   "execution_count": null,
   "metadata": {},
   "outputs": [],
   "source": [
    "def calc_E_E_hs(Q_out_H_hs, r_WS_hs):\n",
    "    \"\"\" 消費電力量 (1)\n",
    "\n",
    "    :param Q_out_H_hs: 1時間当たりの熱源機暖房出力 (MJ/h)\n",
    "    :type Q_out_H_hs: ndarray\n",
    "    :param r_WS_hs: 1時間平均の温水暖房用熱源機の温水供給運転率\n",
    "    :type r_WS_hs: ndarray\n",
    "    :return: 消費電力量\n",
    "    :rtype: ndarray\n",
    "    \"\"\"\n",
    "    # 電気ヒーターの消費電力量\n",
    "    E_E_hs_htr = get_E_E_hs_htr(Q_out_H_hs)\n",
    "\n",
    "    # 送水ポンプの消費電力量\n",
    "    E_E_hs_pmp = calc_E_E_hs_pmp(r_WS_hs)\n",
    "\n",
    "    return E_E_hs_htr + E_E_hs_pmp\n"
   ]
  },
  {
   "cell_type": "markdown",
   "metadata": {},
   "source": [
    "$$\\large\n",
    "E_{E,hs,htr} = Q_{out,H,hs} \\times 10^{3} \\div 3600\n",
    "$$"
   ]
  },
  {
   "cell_type": "markdown",
   "metadata": {},
   "source": [
    "$Q_{out,H,hs}$：1 時間当たりの温水暖房用熱源機の暖房出力(MJ/h) / Heating output of the heat source machine for hot water heating per hour  "
   ]
  },
  {
   "cell_type": "code",
   "execution_count": null,
   "metadata": {},
   "outputs": [],
   "source": [
    "def get_E_E_hs_htr(Q_out_H_hs):\n",
    "    \"\"\" 電気ヒーターの消費電力量 (2)\n",
    "\n",
    "    :param Q_out_H_hs: 1時間当たりの熱源機暖房出力 (MJ/h)\n",
    "    :type Q_out_H_hs: ndarray\n",
    "    :return: 電気ヒーターの消費電力量 (2)\n",
    "    :rtype: ndarray\n",
    "    \"\"\"\n",
    "    return Q_out_H_hs * 10 ** 3 / 3600\n"
   ]
  },
  {
   "cell_type": "markdown",
   "metadata": {},
   "source": [
    "$$\\large\n",
    "E_{E,hs,pmp} = P_{hs,pmp} \\times r_{WS,hs} \\times 10^{-3}\n",
    "$$"
   ]
  },
  {
   "cell_type": "markdown",
   "metadata": {},
   "source": [
    "$P_{hs,pmp}$：温水暖房用熱源機の送水ポンプの消費電力(W) / Power consumption of water pump of heat source machine for hot water heating  \n",
    "$r_{WS,hs}$：1 時間平均の温水暖房用熱源機の温水供給運転率 / 1 hour average hot water supply operation rate of the hot water heating heat source machine"
   ]
  },
  {
   "cell_type": "code",
   "execution_count": null,
   "metadata": {},
   "outputs": [],
   "source": [
    "def calc_E_E_hs_pmp(r_WS_hs):\n",
    "    \"\"\" 送水ポンプの消費電力量 (3)\n",
    "\n",
    "    :param r_WS_hs: 1時間平均の温水暖房用熱源機の温水供給運転率\n",
    "    :type r_WS_hs: ndarray\n",
    "    :return: 送水ポンプの消費電力量\n",
    "    :rtype: ndarray\n",
    "    \"\"\"\n",
    "    # 送水ポンプの消費電力\n",
    "    P_hs_pmp = get_P_hs_pmp()\n",
    "\n",
    "    return P_hs_pmp * r_WS_hs * 10 ** (-3)"
   ]
  },
  {
   "cell_type": "markdown",
   "metadata": {},
   "source": [
    "温水暖房用熱源機の送水ポンプの消費電力$P_{hs,pmp}$は、90(W)とする。 "
   ]
  },
  {
   "cell_type": "markdown",
   "metadata": {},
   "source": [
    "The power consumption $ P_{hs, pmp} $ of the water pump of the hot water heating heat source machine is 90 (W)."
   ]
  },
  {
   "cell_type": "code",
   "execution_count": null,
   "metadata": {},
   "outputs": [],
   "source": [
    "def get_P_hs_pmp():\n",
    "    \"\"\" 送水ポンプの消費電力\n",
    "\n",
    "    :return: 送水ポンプの消費電力\n",
    "    :rtype: float\n",
    "    \"\"\"\n",
    "    return 90"
   ]
  },
  {
   "cell_type": "markdown",
   "metadata": {},
   "source": [
    "#### C.2.2 ガス消費量 / Gas consumption"
   ]
  },
  {
   "cell_type": "markdown",
   "metadata": {},
   "source": [
    "1 時間当たりの温水暖房用熱源機のガス消費量$E_{G,hs}$は0とする。 "
   ]
  },
  {
   "cell_type": "markdown",
   "metadata": {},
   "source": [
    "The gas consumption $ E_{G, hs} $ of the hot water heating heat source unit per hour is assumed to be zero."
   ]
  },
  {
   "cell_type": "code",
   "execution_count": null,
   "metadata": {},
   "outputs": [],
   "source": [
    "def get_E_G_hs():\n",
    "    \"\"\" ガス消費量\n",
    "\n",
    "    :return: ガス消費量\n",
    "    :rtype: ndarray\n",
    "    \"\"\"\n",
    "    return np.zeros(24 * 365)\n"
   ]
  },
  {
   "cell_type": "markdown",
   "metadata": {},
   "source": [
    "#### C.2.3 灯油消費量 / Kerosene consumption"
   ]
  },
  {
   "cell_type": "markdown",
   "metadata": {},
   "source": [
    "1 時間当たりの温水暖房用熱源機の灯油消費量$E_{K,hs}$は0とする。 "
   ]
  },
  {
   "cell_type": "markdown",
   "metadata": {},
   "source": [
    "The kerosene consumption $ E_{K, hs} $ of the heat source equipment for hot water heating per hour is 0."
   ]
  },
  {
   "cell_type": "code",
   "execution_count": null,
   "metadata": {},
   "outputs": [],
   "source": [
    "def get_E_K_hs():\n",
    "    \"\"\" 灯油消費量\n",
    "\n",
    "    :return: 灯油消費量\n",
    "    :rtype: ndarray\n",
    "    \"\"\"\n",
    "    return np.zeros(24 * 365)\n"
   ]
  },
  {
   "cell_type": "markdown",
   "metadata": {},
   "source": [
    "#### C.2.4 その他の一次エネルギー消費量 / Other primary energy consumption"
   ]
  },
  {
   "cell_type": "markdown",
   "metadata": {},
   "source": [
    "1 時間当たりの温水暖房用熱源機のその他の一次エネルギー消費量$E_{M,hs}$は0とする。 "
   ]
  },
  {
   "cell_type": "markdown",
   "metadata": {},
   "source": [
    "The other primary energy consumption $ E_{M, hs} $ of the hot water heating heat source unit per hour is assumed to be zero."
   ]
  },
  {
   "cell_type": "code",
   "execution_count": null,
   "metadata": {},
   "outputs": [],
   "source": [
    "def get_E_M_hs():\n",
    "    \"\"\" その他の一次エネルギー消費量\n",
    "\n",
    "    :return: その他の一次エネルギー消費量\n",
    "    :rtype: ndarray\n",
    "    \"\"\"\n",
    "    return np.zeros(24 * 365)\n"
   ]
  },
  {
   "cell_type": "markdown",
   "metadata": {},
   "source": [
    "### C.3 最大暖房出力 / Maximum heating output"
   ]
  },
  {
   "cell_type": "markdown",
   "metadata": {},
   "source": [
    "$$\\large\n",
    "Q_{max,H,hs} = q_{rtd,hs} \\times 3600 \\div 10^{6} \n",
    "$$"
   ]
  },
  {
   "cell_type": "code",
   "execution_count": null,
   "metadata": {},
   "outputs": [],
   "source": [
    "def calc_Q_max_H_hs(region, A_A, A_MR, A_OR, mode_MR, mode_OR, has_MR_hwh, has_OR_hwh):\n",
    "    \"\"\" 最大暖房出力 (4)\n",
    "\n",
    "    :param region: 省エネルギー地域区分\n",
    "    :type region: int\n",
    "    :param A_A: 床面積の合計 (m2)\n",
    "    :type A_A: float\n",
    "    :param A_MR: 主たる居室の床面積 (m2)\n",
    "    :type A_MR: float\n",
    "    :param A_OR: その他の居室の床面積 (m2)\n",
    "    :type A_OR: float\n",
    "    :param mode_MR: 主たる居室の運転モード 'い', 'ろ', 'は'\n",
    "    :type mode_MR: str\n",
    "    :param mode_OR: その他の居室の運転モード 'い', 'ろ', 'は'\n",
    "    :type mode_OR: str\n",
    "    :param has_MR_hwh: 温水暖房の放熱器を主たる居室に設置する場合はTrue\n",
    "    :type has_MR_hwh: bool\n",
    "    :param has_OR_hwh: 温水暖房の放熱器をその他の居室に設置する場合はTrue\n",
    "    :type has_OR_hwh: bool\n",
    "    :return: 最大暖房出力\n",
    "    :rtype: ndarray\n",
    "    \"\"\"\n",
    "    # 定格能力\n",
    "    q_rtd_hs = get_q_rtd_hs(region, A_A, A_MR, A_OR, mode_MR, mode_OR, has_MR_hwh, has_OR_hwh)\n",
    "\n",
    "    return np.ones(24*365) * q_rtd_hs * 3600 / (10 ** 6)"
   ]
  },
  {
   "cell_type": "code",
   "execution_count": null,
   "metadata": {},
   "outputs": [],
   "source": [
    "def get_q_rtd_hs(region, A_A, A_MR, A_OR, mode_MR, mode_OR, has_MR_hwh, has_OR_hwh):\n",
    "    \"\"\" 温水暖房用熱源機の定格能力\n",
    "\n",
    "    :param region: 省エネルギー地域区分\n",
    "    :type region: int\n",
    "    :param A_A: 床面積の合計 (m2)\n",
    "    :type A_A: float\n",
    "    :param A_MR: 主たる居室の床面積 (m2)\n",
    "    :type A_MR: float\n",
    "    :param A_OR: その他の居室の床面積 (m2)\n",
    "    :type A_OR: float\n",
    "    :param mode_MR: 主たる居室の運転モード 'い', 'ろ', 'は'\n",
    "    :type mode_MR: str\n",
    "    :param mode_OR: その他の居室の運転モード 'い', 'ろ', 'は'\n",
    "    :type mode_OR: str\n",
    "    :param has_MR_hwh: 温水暖房の放熱器を主たる居室に設置する場合はTrue\n",
    "    :type has_MR_hwh: bool\n",
    "    :param has_OR_hwh: 温水暖房の放熱器をその他の居室に設置する場合はTrue\n",
    "    :type has_OR_hwh: bool\n",
    "    :return: 温水暖房用熱源機の定格能力\n",
    "    :rtype: float\n",
    "    \"\"\"\n",
    "    # 付録Hに定める温水暖房用熱源機の最大能力 q_max_hs に等しい\n",
    "    return appendix_H.calc_q_max_hs(region, A_A, A_MR, A_OR, mode_MR, mode_OR, has_MR_hwh, has_OR_hwh)"
   ]
  }
 ],
 "metadata": {
  "kernelspec": {
   "display_name": "Python 3",
   "language": "python",
   "name": "python3"
  },
  "language_info": {
   "codemirror_mode": {
    "name": "ipython",
    "version": 3
   },
   "file_extension": ".py",
   "mimetype": "text/x-python",
   "name": "python",
   "nbconvert_exporter": "python",
   "pygments_lexer": "ipython3",
   "version": "3.6.6"
  },
  "toc": {
   "base_numbering": 1,
   "nav_menu": {},
   "number_sections": false,
   "sideBar": true,
   "skip_h1_title": false,
   "title_cell": "Table of Contents",
   "title_sidebar": "Contents",
   "toc_cell": false,
   "toc_position": {},
   "toc_section_display": true,
   "toc_window_display": false
  }
 },
 "nbformat": 4,
 "nbformat_minor": 2
}
