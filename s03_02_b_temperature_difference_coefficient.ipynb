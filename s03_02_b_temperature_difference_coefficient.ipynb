{
 "cells": [
  {
   "cell_type": "markdown",
   "metadata": {},
   "source": [
    "## 付録 B 温度差係数 / Appendix B Temperature difference coefficient"
   ]
  },
  {
   "cell_type": "markdown",
   "metadata": {},
   "source": [
    "<div style=\"text-align: center;font-weight: bold;\">表　温度差係数<br>Table: Temperature difference coefficient</div>\n",
    "\n",
    "<table>\n",
    "<thead>\n",
    "<tr>\n",
    "<th colspan=\"4\" style=\"text-align:center;\">隣接空間の種類<br>Adjacent space type</th>\n",
    "</tr>\n",
    "<tr>\n",
    "<th rowspan=\"2\" style=\"text-align:center;\">外気<br>外気に通じる空間<br>Outside air<br>Space that leads to the open air</th>\n",
    "<th rowspan=\"2\" style=\"text-align:center;\">外気に通じていない空間<br>外気に通じる床裏<br>Space that does not communicate outside<br>The floor is open to the atmosphere</th>\n",
    "<th colspan=\"2\" style=\"text-align:center;\">住戸及び住戸と同様の熱的環境の空間<br>外気に通じていない床裏<br>Space of thermal environment similar to dwelling unit and dwelling unit<br>The floor does not communicate with the outside air</th>\n",
    "</tr>\n",
    "<tr>\n",
    "<th>1～3 地域<br>1 to 3 area</th>\n",
    "<th>4～8 地域<br>4 to 8 area</th>\n",
    "</tr>\n",
    "</thead>\n",
    "\n",
    "<tbody>\n",
    "<tr>\n",
    "<td>1.0</td><td>0.7</td><td>0.05</td><td>0.15</td>\n",
    "</tr>\n",
    "</tbody>\n",
    "</table>\n"
   ]
  },
  {
   "cell_type": "code",
   "execution_count": null,
   "metadata": {},
   "outputs": [],
   "source": [
    "# 温度差係数\n",
    "def get_H(adjacent_type, region):\n",
    "    \"\"\"\n",
    "    :param adjacent_type: 隣接空間の種類\n",
    "    :param region: 地域区分\n",
    "    :return: 温度差係数 (-)\n",
    "    \"\"\"\n",
    "    # 表1 温度差係数\n",
    "    table_1 = (1.0, 0.7, 0.05, 0.15)\n",
    "    if adjacent_type == '外気・外気に通じる空間':\n",
    "        return table_1[0]\n",
    "    elif adjacent_type == '外気に通じていない空間・外気に通じる床裏':\n",
    "        return table_1[1]\n",
    "    elif adjacent_type == '住戸及び住戸と同様の熱的環境の空間・外気に通じていない床裏':\n",
    "        if region in [1, 2, 3]:\n",
    "            return table_1[2]\n",
    "        elif region in [4, 5, 6, 7, 8]:\n",
    "            return table_1[3]\n",
    "        else:\n",
    "            raise ValueError(region)\n",
    "    else:\n",
    "        raise ValueError(adjacent_type)"
   ]
  }
 ],
 "metadata": {
  "kernelspec": {
   "display_name": "Python 3",
   "language": "python",
   "name": "python3"
  },
  "language_info": {
   "codemirror_mode": {
    "name": "ipython",
    "version": 3
   },
   "file_extension": ".py",
   "mimetype": "text/x-python",
   "name": "python",
   "nbconvert_exporter": "python",
   "pygments_lexer": "ipython3",
   "version": "3.8.5"
  }
 },
 "nbformat": 4,
 "nbformat_minor": 2
}
