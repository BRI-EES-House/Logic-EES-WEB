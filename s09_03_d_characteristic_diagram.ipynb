{
 "cells": [
  {
   "cell_type": "markdown",
   "metadata": {},
   "source": [
    "## 付録 D 集熱器の集熱効率特性線図一次近似式 / Appendix D Heat collection efficiency characteristic diagram linear approximation of heat collector"
   ]
  },
  {
   "cell_type": "markdown",
   "metadata": {},
   "source": [
    "### D.1 記号及び単位 / Symbol and unit"
   ]
  },
  {
   "cell_type": "markdown",
   "metadata": {},
   "source": [
    "省略"
   ]
  },
  {
   "cell_type": "markdown",
   "metadata": {},
   "source": [
    "Omission"
   ]
  },
  {
   "cell_type": "markdown",
   "metadata": {},
   "source": [
    "### D.2 集熱器の集熱効率特性線図一次近似式 / Heat collection efficiency characteristic diagram linear approximation of heat collector"
   ]
  },
  {
   "cell_type": "markdown",
   "metadata": {},
   "source": [
    "$$\\large\n",
    "\\eta = d_{0} - d_{1} \\frac{\\theta_{in}-\\theta_{ex}}{l_{s}}\n",
    "$$"
   ]
  },
  {
   "cell_type": "markdown",
   "metadata": {},
   "source": [
    "$d_{0}$：集熱器の集熱効率特性線図一次近似式の切片(-) / Heat collection efficiency characteristic diagram of a collector  \n",
    "$d_{1}$：集熱器の集熱効率特性線図一次近似式の傾き(W/(m<sup>2</sup>・K)) / Heat collection efficiency characteristic curve of the heat collector Slope of linear approximation  \n",
    "$l_{s}$：単位面積当たりの平均日射量(W/m<sup>2</sup>) / Average amount of solar radiation per unit area  \n",
    "$\\eta$：集熱器の瞬時集熱効率(-) / Instantaneous heat collection efficiency of collector  \n",
    "$\\theta_{ex}$：外気温度(℃) / Outside air temperature  \n",
    "$\\theta_{in}$：集熱器の入口における空気温度(℃) / Air temperature at the inlet of the collector  "
   ]
  },
  {
   "cell_type": "code",
   "execution_count": null,
   "metadata": {},
   "outputs": [],
   "source": [
    "def get_etr(d_0, d_1, Theta_in, Theta_ex, I_s):\n",
    "    \"\"\"集熱器の集熱効率特性線図一次近似式(JIA A 4112 または SS-TS010) (1)\n",
    "\n",
    "    :param d_0: 集熱器の集熱効率特性線図一次近似式の切片\n",
    "    :type d_0: tuple\n",
    "    :param d_1: 集熱器群を構成する集熱器の集熱効率特性線図一次近似式の傾き (W/(m2K))\n",
    "    :type d_1: tuple\n",
    "    :param Theta_in: 集熱器の入口における空気温度\n",
    "    :type Theta_in: float\n",
    "    :param Theta_ex: 外気温度\n",
    "    :type Theta_ex: ndarray\n",
    "    :param I_s: 単位面積当たりの平均日射量\n",
    "    :type I_s: float\n",
    "    :return: 集熱器の集熱効率特性線図一次近似式\n",
    "    :rtype: float\n",
    "    \"\"\"\n",
    "    return d_0 - d_1 * (Theta_in - Theta_ex) / I_s\n"
   ]
  }
 ],
 "metadata": {
  "kernelspec": {
   "display_name": "Python 3",
   "language": "python",
   "name": "python3"
  },
  "language_info": {
   "codemirror_mode": {
    "name": "ipython",
    "version": 3
   },
   "file_extension": ".py",
   "mimetype": "text/x-python",
   "name": "python",
   "nbconvert_exporter": "python",
   "pygments_lexer": "ipython3",
   "version": "3.8.5"
  },
  "toc": {
   "base_numbering": 1,
   "nav_menu": {},
   "number_sections": false,
   "sideBar": true,
   "skip_h1_title": false,
   "title_cell": "Table of Contents",
   "title_sidebar": "Contents",
   "toc_cell": false,
   "toc_position": {},
   "toc_section_display": true,
   "toc_window_display": false
  }
 },
 "nbformat": 4,
 "nbformat_minor": 2
}
