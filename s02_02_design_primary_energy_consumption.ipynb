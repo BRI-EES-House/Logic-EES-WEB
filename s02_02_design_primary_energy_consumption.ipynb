{
 "cells": [
  {
   "cell_type": "code",
   "execution_count": null,
   "metadata": {},
   "outputs": [],
   "source": [
    "import nbimporter\n",
    "import numpy as np\n",
    "from decimal import Decimal, ROUND_HALF_UP, ROUND_HALF_EVEN\n",
    "\n",
    "from s02_01_b_heat_conversion_coefficient import get_f_prim\n",
    "from s02_01_c_Virtual_number_of_people import get_n_p\n",
    "from s04_01_general import calc_heating_load, calc_heating_mode, get_virtual_heating_devices, get_virtual_heatsource, \\\n",
    "    get_E_E_H_d_t, get_E_G_H_d_t, calc_E_K_H_d_t, calc_E_M_H_d_t, calc_E_UT_H_d_t\n",
    "from s04_01_general import calc_cooling_load, calc_E_E_C_d_t, calc_E_G_C_d_t, calc_E_K_C_d_t, calc_E_M_C_d_t, calc_E_UT_C_d_t\n",
    "import s04_02_central_heating_system_with_duct as dc\n",
    "import s04_02_b_central_heating_system_with_duct as dc_spec\n",
    "from s05_ventilation import calc_E_E_V_d_t\n",
    "from s06_lighting import calc_E_E_L_d_t\n",
    "from s07_01_hot_water_demand import calc_hotwater_load, calc_E_E_W_d_t, calc_E_G_W_d_t, calc_E_K_W_d_t, get_E_M_W_d_t\n",
    "from s07_01_b_types_and_specifications_of_equipment import get_default_hw_type, get_virtual_hotwater\n",
    "from s08_cgs import calc_E_G_CG_d_t, get_E_E_CG_gen_d_t, get_L_DHW_d, get_L_HWH_d, get_E_E_CG_self, get_E_E_TU_aux_d_t\n",
    "from s09_01_pv_system import calc_E_E_PV_d_t\n",
    "from s10_home_appliances_cooking import calc_E_E_AP_d_t, get_E_G_AP_d_t, get_E_K_AP_d_t, get_E_M_AP_d_t\n",
    "from s10_home_appliances_cooking import get_E_E_CC_d_t, calc_E_G_CC_d_t, get_E_K_CC_d_t, get_E_M_CC_d_t\n"
   ]
  },
  {
   "cell_type": "markdown",
   "metadata": {},
   "source": [
    "# 第二章　単位住戸の一次エネルギー消費量 / Chapter 2 Designed Primary Energy Consumption"
   ]
  },
  {
   "cell_type": "markdown",
   "metadata": {},
   "source": [
    "## 第二節　設計一次エネルギー消費量 / Section 2 Design primary energy consumption"
   ]
  },
  {
   "cell_type": "markdown",
   "metadata": {},
   "source": [
    "1．適用範囲～4．記号及び単位は省略"
   ]
  },
  {
   "cell_type": "markdown",
   "metadata": {},
   "source": [
    "1. Scope of application ~ 4. Symbols and units are omitted"
   ]
  },
  {
   "cell_type": "markdown",
   "metadata": {},
   "source": [
    "### 5．設計一次エネルギー消費量 / Design primary energy consumption"
   ]
  },
  {
   "cell_type": "markdown",
   "metadata": {},
   "source": [
    "$$\n",
    "\\large \n",
    "E_{T}^* = E_{H} + E_{C} + E_{V} + E_{L} + E_{W} - E_{S} + E_{M}\n",
    "$$"
   ]
  },
  {
   "cell_type": "markdown",
   "metadata": {},
   "source": [
    "$E_{T}^*$：1 年当たりの設計一次エネルギー消費量(MJ/年) / Design primary energy consumption per year  \n",
    "$E_{H}$：1 年当たりの暖房設備の設計一次エネルギー消費量(MJ/年) / Design primary energy consumption of heating equipment per year  \n",
    "$E_{C}$：1 年当たりの冷房設備の設計一次エネルギー消費量(MJ/年) / Design of primary cooling energy consumption per year  \n",
    "$E_{V}$：1 年当たりの機械換気設備の設計一次エネルギー消費量(MJ/年) / Design primary energy consumption of mechanical ventilation equipment per year  \n",
    "$E_{L}$：1 年当たりの照明設備の設計一次エネルギー消費量(MJ/年) / Design primary energy consumption of lighting fixtures per year  \n",
    "$E_{W}$：1 年当たりの給湯設備（コージェネレーション設備を含む）の設計一次エネルギー消費量(MJ/年) / Design primary energy consumption of hot water supply equipment (including cogeneration equipment) per year  \n",
    "$E_{S}$：1 年当たりのエネルギー利用効率化設備による設計一次エネルギー消費量の削減量(MJ/年) / Reduction of design primary energy consumption by energy utilization efficiency facility per year  \n",
    "$E_{M}$：1 年当たりのその他の設計一次エネルギー消費量(MJ/年) / Other design primary energy consumption per year  "
   ]
  },
  {
   "cell_type": "code",
   "execution_count": null,
   "metadata": {},
   "outputs": [],
   "source": [
    "def get_E_T_star(E_H, E_C, E_V, E_L, E_W, E_S, E_M):\n",
    "    \"\"\" 1 年当たりの設計一次エネルギー消費量（MJ/年）\n",
    "    \n",
    "    :param E_H: 1 年当たりの暖房設備の設計一次エネルギー消費量（MJ/年）\n",
    "    :type E_H: float\n",
    "    :param E_C: 1 年当たりの冷房設備の設計一次エネルギー消費量\n",
    "    :type E_C: float\n",
    "    :param E_V: 1 年当たりの機械換気設備の設計一次エネルギー消費量\n",
    "    :type E_V: float\n",
    "    :param E_L: 1 年当たりの照明設備の設計一次エネルギー消費量\n",
    "    :type E_L: float\n",
    "    :param E_W: 1 年当たりの給湯設備（コージェネレーション設備を含む）の設計一次エネルギー消費量\n",
    "    :type E_W: float\n",
    "    :param E_S: 1 年当たりのエネルギー利用効率化設備による設計一次エネルギー消費量の削減量\n",
    "    :type E_S: float\n",
    "    :param E_M: 1 年当たりのその他の設計一次エネルギー消費量\n",
    "    :type E_M: float\n",
    "    :return: 1 年当たりの設計一次エネルギー消費量（MJ/年）\n",
    "    :rtype: float\n",
    "    \"\"\"\n",
    "    return E_H + E_C + E_V + E_L + E_W - E_S + E_M  # (1)\n"
   ]
  },
  {
   "cell_type": "markdown",
   "metadata": {},
   "source": [
    "### 6．暖房設備の設計一次エネルギー消費量 / Design primary energy consumption of heating equipment"
   ]
  },
  {
   "cell_type": "markdown",
   "metadata": {},
   "source": [
    "$$\n",
    "\\large E_H = \\sum_{d=1}^{365}{\\sum_{t=0}^{23}{E_{H,d,t} }}\n",
    "$$"
   ]
  },
  {
   "cell_type": "markdown",
   "metadata": {},
   "source": [
    "$E_{H}$：1 年当たりの暖房設備の設計一次エネルギー消費量(MJ/年) / Design primary energy consumption of heating equipment per year  \n",
    "$E_{H,d,t}$：日付$d$の時刻$t$における1時間当たりの暖房設備の設計一次エネルギー消費量(MJ/h) / Design primary energy consumption of heating equipment per hour at time $ t $ on date $ d $  "
   ]
  },
  {
   "cell_type": "markdown",
   "metadata": {},
   "source": [
    "日付$d$の時刻$t$における1 時間当たりの暖房設備の設計一次エネルギー消費量$E_{H,d,t}$は、地域の区分が 8 地域の場合は0とする。"
   ]
  },
  {
   "cell_type": "markdown",
   "metadata": {},
   "source": [
    "Design of heating equipment per hour at time $ t $ of date $ d $ Primary energy consumption $ E_ {H, d, t} $ is 0 if the area division is 8 areas."
   ]
  },
  {
   "cell_type": "code",
   "execution_count": null,
   "metadata": {},
   "outputs": [],
   "source": [
    "def calc_E_H(region, sol_region, A_A, A_MR, A_OR, A_env, mu_H, mu_C, Q, mode_H, H_A, spec_MR, spec_OR, spec_HS, mode_MR, mode_OR, CG, SHC,\n",
    "            heating_flag_d, L_T_H_d_t_i, L_CS_d_t_i, L_CL_d_t_i):\n",
    "    \"\"\" 1 年当たりの暖房設備の設計一次エネルギー消費量（MJ/年）\n",
    "\n",
    "    :param region: 省エネルギー地域区分\n",
    "    :type region: int\n",
    "    :param sol_region: 年間日射地域区分(1-5)\n",
    "    :type sol_region: int\n",
    "    :param A_A: 床面積の合計 (m2)\n",
    "    :type A_A: float\n",
    "    :param A_MR: 主たる居室の床面積 (m2)\n",
    "    :type A_MR: float\n",
    "    :param A_OR: その他の居室の床面積 (m2)\n",
    "    :type A_OR: float\n",
    "    :param mode_H: 暖房方式\n",
    "    :type mode_H: str\n",
    "    :param H_A: 暖房方式\n",
    "    :type H_A: dict\n",
    "    :param spec_MR: 暖房機器の仕様\n",
    "    :type spec_MR: dict\n",
    "    :param spec_OR: 暖房機器の仕様\n",
    "    :type spec_OR: dict\n",
    "    :param spec_HS: 温水暖房機の仕様\n",
    "    :type spec_HS: dict\n",
    "    :param mode_MR: 主たる居室の運転方法 (連続運転|間歇運転)\n",
    "    :type mode_MR: str\n",
    "    :param mode_OR: その他の居室の運転方法 (連続運転|間歇運転)\n",
    "    :type mode_OR: str\n",
    "    :param CG: コージェネレーションの機器\n",
    "    :type CG: dict\n",
    "    :param SHC: 集熱式太陽熱利用設備の仕様\n",
    "    :type SHC: dict\n",
    "    :param heating_flag_d: 暖房日\n",
    "    :type heating_flag_d: ndarray\n",
    "    :param L_H_A_d_t: 暖房負荷\n",
    "    :type L_H_A_d_t: ndarray\n",
    "    :param L_T_H_d_t_i: 暖房区画i=1-5それぞれの暖房負荷\n",
    "    :type L_T_H_d_t_i: ndarray\n",
    "    :param L_CS_d_t_i: 暖冷房区画iの 1 時間当たりの冷房顕熱負荷\n",
    "    :type L_CS_d_t_i: ndarray\n",
    "    :param L_CL_d_t_i: 暖冷房区画iの 1 時間当たりの冷房潜熱負荷\n",
    "    :type L_CL_d_t_i: ndarray\n",
    "    :return: 1 年当たりの暖房設備の設計一次エネルギー消費量（MJ/年）\n",
    "    :rtype: float\n",
    "    \"\"\"\n",
    "    if region == 8:\n",
    "        return 0.0\n",
    "    elif mode_H is not None:\n",
    "        E_H_d_t = get_E_H_d_t(region, sol_region, A_A, A_MR, A_OR, A_env, mu_H, mu_C, Q, mode_H, H_A, spec_MR, spec_OR, spec_HS, mode_MR,\n",
    "                              mode_OR, CG, SHC, heating_flag_d, L_T_H_d_t_i, L_CS_d_t_i, L_CL_d_t_i)  # (2)\n",
    "\n",
    "        E_H = np.sum(E_H_d_t)\n",
    "\n",
    "        return E_H\n",
    "    else:\n",
    "        return 0.0\n"
   ]
  },
  {
   "cell_type": "markdown",
   "metadata": {},
   "source": [
    "$$\n",
    "\\large \n",
    "E_{H,d,t} = E_{E,H,d,t} \\times f_{prim} \\times 10^{-3} + E_{G,H,d,t} + E_{K,H,d,t} + E_{M,H,d,t} + E_{UT,H,d,t}\n",
    "$$"
   ]
  },
  {
   "cell_type": "markdown",
   "metadata": {},
   "source": [
    "$E_{E,H,d,t}$：日付$d$の時刻$t$における1時間当たりの暖房設備の消費電力量(kWh/h) / Power consumption of heating equipment per hour at time $ t $ of date $ d $  \n",
    "$f_{prim}$：電気の量 1kWh を熱量に換算する係数（第二章第一節付録 B）(kJ/kWh) / Factor to convert 1kWh of electricity into heat quantity (Chapter 2 Section 1 Appendix B)  \n",
    "$E_{G,H,d,t}$：日付$d$の時刻$t$における1時間当たりの暖房設備のガス消費量(MJ/h) / Gas consumption of heating equipment per hour at time $ t $ on date $ d $  \n",
    "$E_{H,d,t}$：日付$d$の時刻$t$における1時間当たりの暖房設備の設計一次エネルギー消費量(MJ/h) / Design primary energy consumption of heating equipment per hour at time $ t $ on date $ d $  \n",
    "$E_{K,H,d,t}$：日付$d$の時刻$t$における1時間当たりの暖房設備の灯油消費量(MJ/h) / Kerosene consumption of heating equipment per hour at time $ t $ of date $ d $  \n",
    "$E_{M,H,d,t}$：日付$d$の時刻$t$における1時間当たりの暖房設備のその他の燃料による一次エネルギー消費量(MJ/h) / Primary energy consumption by other fuels of heating installation per hour at time $ t $ of date $ d $  \n",
    "$E_{UT,H,d,t}$：日付$d$の時刻$t$における1時間当たりの暖房設備の未処理暖房負荷の設計一次エネルギー消費量相当値(MJ/h) / Design Primary Energy Consumption Equivalents of Raw Heating Load of Heating Equipment Per Hour at Time $ t $ of Date $ d $   "
   ]
  },
  {
   "cell_type": "code",
   "execution_count": null,
   "metadata": {},
   "outputs": [],
   "source": [
    "# 1 時間当たりの暖房設備の設計一次エネルギー消費量\n",
    "def get_E_H_d_t(region, sol_region, A_A, A_MR, A_OR, A_env, mu_H, mu_C, Q, mode_H, H_A, spec_MR, spec_OR, spec_HS, mode_MR, mode_OR, CG, SHC,\n",
    "                heating_flag_d, L_T_H_d_t_i, L_CS_d_t_i, L_CL_d_t_i):\n",
    "    \"\"\"1 時間当たりの暖房設備の設計一次エネルギー消費量\n",
    "\n",
    "    :param region: 省エネルギー地域区分\n",
    "    :type region: int\n",
    "    :param sol_region: 年間日射地域区分(1-5)\n",
    "    :type sol_region: int\n",
    "    :param A_A: 床面積の合計 (m2)\n",
    "    :type A_A: float\n",
    "    :param A_MR: 主たる居室の床面積 (m2)\n",
    "    :type A_MR: float\n",
    "    :param A_OR: その他の居室の床面積 (m2)\n",
    "    :type A_OR: float\n",
    "    :param mode_H: 暖房方式\n",
    "    :type mode_H: str\n",
    "    :param H_A: 暖房方式\n",
    "    :type H_A: dict\n",
    "    :param spec_MR: 暖房機器の仕様\n",
    "    :type spec_MR: dict\n",
    "    :param spec_OR: 暖房機器の仕様\n",
    "    :type spec_OR: dict\n",
    "    :param spec_HS: 温水暖房機の仕様\n",
    "    :type spec_HS: dict\n",
    "    :param mode_MR: 主たる居室の運転方法 (連続運転|間歇運転)\n",
    "    :type mode_MR: str\n",
    "    :param mode_OR: その他の居室の運転方法 (連続運転|間歇運転)\n",
    "    :type mode_OR: str\n",
    "    :param CG: コージェネレーションの機器\n",
    "    :type CG: dict\n",
    "    :param SHC: 集熱式太陽熱利用設備の仕様\n",
    "    :type SHC: dict\n",
    "    :param heating_flag_d: 暖房日\n",
    "    :type heating_flag_d: ndarray\n",
    "    :param L_H_A_d_t: 暖房負荷\n",
    "    :type L_H_A_d_t: ndarray\n",
    "    :param L_T_H_d_t_i: 暖房区画i=1-5それぞれの暖房負荷\n",
    "    :type L_T_H_d_t_i: ndarray\n",
    "    :param L_CS_d_t_i: 暖冷房区画iの 1 時間当たりの冷房顕熱負荷\n",
    "    :type L_CS_d_t_i: ndarray\n",
    "    :param L_CL_d_t_i: 暖冷房区画iの 1 時間当たりの冷房潜熱負荷\n",
    "    :type L_CL_d_t_i: ndarray\n",
    "    :return: 1 時間当たりの暖房設備の設計一次エネルギー消費量\n",
    "    :rtype: ndarray\n",
    "    \"\"\"\n",
    "    if region == 8:\n",
    "        return 0.0\n",
    "    else:\n",
    "        # 電気の量 1kWh を熱量に換算する係数\n",
    "        f_prim = get_f_prim()\n",
    "\n",
    "        # 暖房設備の消費電力量（kWh/h）(6a)\n",
    "        E_E_H_d_t = get_E_E_H_d_t(region, sol_region, A_A, A_MR, A_OR, A_env, mu_H, mu_C, Q, H_A, spec_MR, spec_OR, spec_HS,\n",
    "                                  mode_MR, mode_OR, CG, SHC, heating_flag_d, L_T_H_d_t_i, L_CS_d_t_i, L_CL_d_t_i)\n",
    "\n",
    "        # 暖房設備のガス消費量（MJ/h）(6b)\n",
    "        E_G_H_d_t = get_E_G_H_d_t(region, A_A, A_MR, A_OR, H_A, spec_MR, spec_OR, spec_HS, mode_MR, mode_OR, CG,\n",
    "                                  L_T_H_d_t_i)\n",
    "\n",
    "        # 暖房設備の灯油消費量（MJ/h）(6c)\n",
    "        E_K_H_d_t = calc_E_K_H_d_t(region, A_A, A_MR, A_OR, H_A, spec_MR, spec_OR, spec_HS, mode_MR, mode_OR, CG,\n",
    "                                   L_T_H_d_t_i)\n",
    "\n",
    "        # 暖房設備のその他の燃料による一次エネルギー消費量（MJ/h）(6d)\n",
    "        E_M_H_d_t = calc_E_M_H_d_t(region, A_A, A_MR, A_OR, H_A, spec_MR, spec_OR, spec_HS, L_T_H_d_t_i)\n",
    "\n",
    "        # 暖房設備の未処理暖房負荷の設計一次エネルギー消費量相当値\n",
    "        E_UT_H_d_t = calc_E_UT_H_d_t(region, A_A, A_MR, A_OR, A_env, mu_H, mu_C, Q, mode_H, H_A, spec_MR, spec_OR, spec_HS, mode_MR, mode_OR,\n",
    "                                     CG, L_T_H_d_t_i, L_CS_d_t_i, L_CL_d_t_i)\n",
    "\n",
    "        return E_E_H_d_t * f_prim / 1000 + E_G_H_d_t + E_K_H_d_t + E_M_H_d_t + E_UT_H_d_t  # (3)"
   ]
  },
  {
   "cell_type": "markdown",
   "metadata": {},
   "source": [
    "### 7．冷房設備の設計一次エネルギー消費量 / Designing primary energy consumption of cooling system"
   ]
  },
  {
   "cell_type": "markdown",
   "metadata": {},
   "source": [
    "$$\n",
    "\\large E_C = \\sum_{d=1}^{365}{\\sum_{t=0}^{23}{E_{C,d,t} }}\n",
    "$$"
   ]
  },
  {
   "cell_type": "markdown",
   "metadata": {},
   "source": [
    "$E_{C}$：1年当たりの冷房設備の設計一次エネルギー消費量(MJ/年) / Design of primary cooling energy consumption per year  \n",
    "$E_{C,d,t}$：日付$d$の時刻$t$における1時間当たりの冷房設備の設計一次エネルギー消費量(MJ/h) / Designing primary energy consumption of cooling system per hour at time $ t $ of date $ d $  "
   ]
  },
  {
   "cell_type": "code",
   "execution_count": null,
   "metadata": {},
   "outputs": [],
   "source": [
    "def calc_E_C(region, A_A, A_MR, A_OR, A_env, mu_H, mu_C, Q, C_A, C_MR, C_OR, L_H_d_t, L_CS_d_t, L_CL_d_t, mode_C):\n",
    "    \"\"\"1 年当たりの冷房設備の設計一次エネルギー消費量\n",
    "\n",
    "    :param region: 省エネルギー地域区分\n",
    "    :type region: int\n",
    "    :param A_A: 床面積の合計 (m2)\n",
    "    :type A_A: float\n",
    "    :param A_MR: 主たる居室の床面積 (m2)\n",
    "    :type A_MR: float\n",
    "    :param A_OR: その他の居室の床面積 (m2)\n",
    "    :type A_OR: float\n",
    "    :param C_A: 冷房方式\n",
    "    :type C_A: dict\n",
    "    :param C_MR: 主たる居室の冷房機器\n",
    "    :type C_MR: dict\n",
    "    :param C_OR: その他の居室の冷房機器\n",
    "    :type C_OR: dict\n",
    "    :param L_CS_A_d_t: 冷房負荷\n",
    "    :type L_CS_A_d_t: ndarray\n",
    "    :param L_CL_A_d_t: 冷房負荷\n",
    "    :type L_CL_A_d_t: ndarray\n",
    "    :param L_CS_d_t_i: 暖冷房区画iの 1 時間当たりの冷房顕熱負荷\n",
    "    :type L_CS_d_t_i: ndarray\n",
    "    :param L_CL_d_t_i: 暖冷房区画iの 1 時間当たりの冷房潜熱負荷\n",
    "    :type L_CL_d_t_i: ndarray\n",
    "    :return: 1 年当たりの冷房設備の設計一次エネルギー消費量\n",
    "    :rtype: float\n",
    "    \"\"\"\n",
    "    # 1 時間当たりの冷房設備の設計一次エネルギー消費量 (4)\n",
    "    E_C_d_t = get_E_C_d_t(region, A_A, A_MR, A_OR, A_env, mu_H, mu_C, Q, C_A, C_MR, C_OR, L_H_d_t, L_CS_d_t, L_CL_d_t, mode_C)\n",
    "\n",
    "    # 1 年当たりの冷房設備の設計一次エネルギー消費量\n",
    "    E_C = np.sum(E_C_d_t)\n",
    "\n",
    "    return E_C\n"
   ]
  },
  {
   "cell_type": "markdown",
   "metadata": {},
   "source": [
    "$$\n",
    "\\large \n",
    "E_{C,d,t} = E_{E,C,d,t} \\times f_{prim} \\times 10^{-3} + E_{G,C,d,t} + E_{K,C,d,t} + E_{M,C,d,t}\n",
    "$$"
   ]
  },
  {
   "cell_type": "markdown",
   "metadata": {},
   "source": [
    "$E_{C,d,t}$：日付$d$の時刻$t$における1時間当たりの冷房設備の設計一次エネルギー消費量(MJ/h) / Designing primary energy consumption of cooling system per hour at time $ t $ of date $ d $  \n",
    "$E_{E,C,d,t}$：日付$d$の時刻$t$における1時間当たりの冷房設備の消費電力量(kWh/h) / Power consumption of cooling system per hour at time $ t $ of date $ d $  \n",
    "$E_{G,C,d,t}$：日付$d$の時刻$t$における1時間当たりの冷房設備のガス消費量(MJ/h) / Gas consumption of cooling system per hour at time $ t $ of date $ d $  \n",
    "$E_{K,C,d,t}$：日付$d$の時刻$t$における1時間当たりの冷房設備の灯油消費量(MJ/h) / Kerosene consumption of cooling system per hour at time $ t $ of date $ d $  \n",
    "$E_{M,C,d,t}$：日付$d$の時刻$t$における1時間当たりの冷房設備のその他の燃料による一次エネルギー消費量(MJ/h) / Primary energy consumption by other fuels of cooling system per hour at time $ t $ of date $ d $  \n",
    "$f_{prim}$：電気の量1kWhを熱量に換算する係数（第二章第一節付録 B）(kJ/kWh) / A factor to convert 1 kWh of electricity to heat (Chapter 2, Section 1 Appendix B)  "
   ]
  },
  {
   "cell_type": "code",
   "execution_count": null,
   "metadata": {},
   "outputs": [],
   "source": [
    "def get_E_C_d_t(region, A_A, A_MR, A_OR, A_env, mu_H, mu_C, Q, C_A, C_MR, C_OR, L_H_d_t, L_CS_d_t, L_CL_d_t, mode_C):\n",
    "    \"\"\"1 時間当たりの冷房設備の設計一次エネルギー消費量 (4)\n",
    "\n",
    "    :param region: 省エネルギー地域区分\n",
    "    :type region: int\n",
    "    :param A_A: 床面積の合計 (m2)\n",
    "    :type A_A: float\n",
    "    :param A_MR: 主たる居室の床面積 (m2)\n",
    "    :type A_MR: float\n",
    "    :param A_OR: その他の居室の床面積 (m2)\n",
    "    :type A_OR: float\n",
    "    :param C_A: 冷房方式\n",
    "    :type C_A: dict\n",
    "    :param C_MR: 主たる居室の冷房機器\n",
    "    :type C_MR: dict\n",
    "    :param C_OR: その他の居室の冷房機器\n",
    "    :type C_OR: dict\n",
    "    :param L_CS_A_d_t: 冷房負荷\n",
    "    :type L_CS_A_d_t: ndarray\n",
    "    :param L_CL_A_d_t: 冷房負荷\n",
    "    :type L_CL_A_d_t: ndarray\n",
    "    :param L_CS_d_t_i: 暖冷房区画iの 1 時間当たりの冷房顕熱負荷\n",
    "    :type L_CS_d_t_i: ndarray\n",
    "    :param L_CL_d_t_i: 暖冷房区画iの 1 時間当たりの冷房潜熱負荷\n",
    "    :type L_CL_d_t_i: ndarray\n",
    "    :return: 1 時間当たりの冷房設備の設計一次エネルギー消費量 (4)\n",
    "    :rtype: ndarray\n",
    "    \"\"\"\n",
    "    # 電気の量 1kWh を熱量に換算する係数\n",
    "    f_prim = get_f_prim()\n",
    "\n",
    "    E_E_C_d_t = calc_E_E_C_d_t(region, A_A, A_MR, A_OR, A_env, mu_H, mu_C, Q, C_A, C_MR, C_OR, L_H_d_t, L_CS_d_t, L_CL_d_t)\n",
    "    E_G_C_d_t = calc_E_G_C_d_t()\n",
    "    E_K_C_d_t = calc_E_K_C_d_t()\n",
    "    E_M_C_d_t = calc_E_M_C_d_t()\n",
    "    E_UT_C_d_t = calc_E_UT_C_d_t(region, A_A, A_MR, A_OR, A_env, mu_H, mu_C, Q, C_A, C_MR, C_OR, L_H_d_t, L_CS_d_t, L_CL_d_t, mode_C)\n",
    "\n",
    "    E_C_d_t = E_E_C_d_t * f_prim / 1000 + E_G_C_d_t + E_K_C_d_t + E_M_C_d_t + E_UT_C_d_t  # (5)\n",
    "\n",
    "    return E_C_d_t\n"
   ]
  },
  {
   "cell_type": "markdown",
   "metadata": {},
   "source": [
    "### 8．機械換気設備の設計一次エネルギー消費量 / Design primary energy consumption of mechanical ventilation equipment"
   ]
  },
  {
   "cell_type": "markdown",
   "metadata": {},
   "source": [
    "$$\n",
    "\\large E_V = \\sum_{d=1}^{365}{\\sum_{t=0}^{23}{E_{E,V,d,t} \\times f_{prim} \\times 10^{-3} }}\n",
    "$$"
   ]
  },
  {
   "cell_type": "markdown",
   "metadata": {},
   "source": [
    "$E_{E,V,d,t}$：日付$d$の時刻$t$における1時間当たりの機械換気設備の消費電力量(kWh/h) / Power consumption of mechanical ventilation equipment per hour at time $ t $ of date $ d $  \n",
    "$E_{V}$：1年当たりの機械換気設備の設計一次エネルギー消費量(MJ/年) / Design of mechanical ventilation equipment per year Primary energy consumption  \n",
    "$f_{prim}$：電気の量 1kWh を熱量に換算する係数（第二章第一節付録 B）(kJ/kWh) / Factor to convert 1kWh of electricity into heat quantity (Chapter 2 Section 1 Appendix B)  "
   ]
  },
  {
   "cell_type": "code",
   "execution_count": null,
   "metadata": {},
   "outputs": [],
   "source": [
    "def calc_E_V(A_A, V, HEX):\n",
    "    \"\"\"1 年当たりの機械換気設備の設計一次エネルギー消費量\n",
    "    \n",
    "    :param A_A: 床面積の合計[m^2]\n",
    "    :type A_A: float\n",
    "    :param V: 換気設備仕様辞書\n",
    "    :type V: dict\n",
    "    :param HEX: 熱交換器型設備仕様辞書\n",
    "    :type HEX: dict\n",
    "    :return: 1 年当たりの機械換気設備の設計一次エネルギー消費量\n",
    "    :rtype: float\n",
    "    \"\"\"\n",
    "    \n",
    "    if V is None:\n",
    "        return 0.0\n",
    "\n",
    "    # 電気の量 1kWh を熱量に換算する係数\n",
    "    f_prim = get_f_prim()\n",
    "\n",
    "    n_p = get_n_p(A_A)\n",
    "\n",
    "    E_E_V_d_t = calc_E_E_V_d_t(n_p, A_A, V, HEX)\n",
    "\n",
    "    # (6)\n",
    "    E_V = np.sum(E_E_V_d_t) * f_prim / 1000\n",
    "\n",
    "    return E_V\n"
   ]
  },
  {
   "cell_type": "markdown",
   "metadata": {},
   "source": [
    "### 9．照明設備の設計一次エネルギー消費量  / Design primary energy consumption of lighting equipment"
   ]
  },
  {
   "cell_type": "markdown",
   "metadata": {},
   "source": [
    "$$\n",
    "\\large E_L = \\sum_{d=1}^{365}{\\sum_{t=0}^{23}{E_{E,L,d,t} \\times f_{prim} \\times 10^{-3} }}\n",
    "$$"
   ]
  },
  {
   "cell_type": "markdown",
   "metadata": {},
   "source": [
    "$E_{E,L,d,t}$：日付$d$の時刻$t$における1時間当たりの照明設備の消費電力量(kWh/h) / Power consumption of lighting fixtures per hour at time $ t $ on date $ d $  \n",
    "$E_{L}$：1年当たりの照明設備の設計一次エネルギー消費量(MJ/年) / Design primary energy consumption of lighting fixtures per year  \n",
    "$f_{prim}$：電気の量1kWhを熱量に換算する係数（第二章第一節付録 B）(kJ/kWh) / A factor to convert 1 kWh of electricity to heat (Chapter 2, Section 1 Appendix B)  "
   ]
  },
  {
   "cell_type": "code",
   "execution_count": null,
   "metadata": {},
   "outputs": [],
   "source": [
    "def calc_E_L(A_A, A_MR, A_OR, L):\n",
    "    \"\"\"1 年当たりの照明設備の設計一次エネルギー消費量\n",
    "    \n",
    "    :param A_A: 床面積の合計 (m2)\n",
    "    :type A_A: float\n",
    "    :param A_MR: 主たる居室の床面積 (m2)\n",
    "    :type A_MR: float\n",
    "    :param A_OR: その他の居室の床面積 (m2)\n",
    "    :type A_OR: float\n",
    "    :param L: 照明設備仕様辞書\n",
    "    :type L: dict\n",
    "    :return: 1 年当たりの照明設備の設計一次エネルギー消費量\n",
    "    :rtype: ndarray\n",
    "    \"\"\"\n",
    "    \n",
    "    if L is None:\n",
    "        return 0.0\n",
    "\n",
    "    # 電気の量 1kWh を熱量に換算する係数\n",
    "    f_prim = get_f_prim()\n",
    "\n",
    "    n_p = get_n_p(A_A)\n",
    "\n",
    "    E_E_L_d_t = calc_E_E_L_d_t(n_p, A_A, A_MR, A_OR, L)\n",
    "\n",
    "    E_L = np.sum(E_E_L_d_t) * f_prim / 1000  # (7)\n",
    "\n",
    "    return E_L\n"
   ]
  },
  {
   "cell_type": "markdown",
   "metadata": {},
   "source": [
    "### 10．給湯設備及びコージェネレーション設備の設計一次エネルギー消費量 / Design primary energy consumption of hot water supply equipment and cogeneration equipment"
   ]
  },
  {
   "cell_type": "markdown",
   "metadata": {},
   "source": [
    "給湯設備がコージェネレーション設備でない場合"
   ]
  },
  {
   "cell_type": "markdown",
   "metadata": {},
   "source": [
    "When the hot water supply system is not a cogeneration facility"
   ]
  },
  {
   "cell_type": "markdown",
   "metadata": {},
   "source": [
    "$$\n",
    "\\large E_W = {\\sum_{d=1}^{365} \\sum_{t=0}^{23} {E_{W,d,t} }}\n",
    "$$"
   ]
  },
  {
   "cell_type": "markdown",
   "metadata": {},
   "source": [
    "給湯設備がコージェネレーション設備の場合"
   ]
  },
  {
   "cell_type": "markdown",
   "metadata": {},
   "source": [
    "When the hot water supply system is a cogeneration facility"
   ]
  },
  {
   "cell_type": "markdown",
   "metadata": {},
   "source": [
    "$$\n",
    "\\large E_W = {\\sum_{d=1}^{365} \\sum_{t=0}^{23} {E_{CG,d,t} }}\n",
    "$$"
   ]
  },
  {
   "cell_type": "markdown",
   "metadata": {},
   "source": [
    "$E_{W,d,t}$：日付$d$の時刻$t$における1時間当たりの給湯設備の設計一次エネルギー消費量(MJ/h) / Designing the primary energy consumption of the water heater per hour at time $ t $ on date $ d $  \n",
    "$E_{CG,d,t}$：日付$d$の時刻$t$における1時間当たりのコージェネレーション設備の設計一次エネルギー消費量(MJ/h) / Design of cogeneration equipment per hour at time $ t $ on date $ d $ Primary energy consumption  \n",
    "$E_{W}$：1年当たりの給湯設備（コージェネレーション設備を含む）の設計一次エネルギー消費量(MJ/年) / Design primary energy consumption of hot water supply equipment (including cogeneration equipment) per year  "
   ]
  },
  {
   "cell_type": "code",
   "execution_count": null,
   "metadata": {},
   "outputs": [],
   "source": [
    "def calc_E_W(A_A, region, sol_region, HW, SHC, CG, H_A=None, H_MR=None, H_OR=None, H_HS=None, C_A=None, C_MR=None,\n",
    "            C_OR=None,\n",
    "            V=None, L=None, A_MR=None, A_OR=None, A_env=None, Q=None, mu_H=None, mu_C=None, NV_MR=None, NV_OR=None, TS=None,\n",
    "            r_A_ufvnt=None, HEX=None, underfloor_insulation=None, mode_H=None, mode_C=None):\n",
    "    \"\"\" 1 年当たりの給湯設備（コージェネレーション設備を含む）の設計一次エネルギー消費量\n",
    "\n",
    "    :param A_A: 床面積の合計 (m2)\n",
    "    :type A_A: float\n",
    "    :param region: 省エネルギー地域区分\n",
    "    :type region: int\n",
    "    :param sol_region: 年間日射地域区分(1-5)\n",
    "    :type sol_region: int\n",
    "    :param HW: 給湯機の仕様\n",
    "    :type HW: dict\n",
    "    :param SHC: 集熱式太陽熱利用設備の仕様\n",
    "    :type SHC: dict\n",
    "    :param CG: コージェネレーションの機器\n",
    "    :type CG: dict\n",
    "    :param H_A: 暖房方式, defaults to None\n",
    "    :type H_A: dict, optional\n",
    "    :param H_MR: 暖房機器の仕様, defaults to None\n",
    "    :type H_MR: dict, optional\n",
    "    :param H_OR: 暖房機器の仕様, defaults to None\n",
    "    :type H_OR: dict, optional\n",
    "    :param H_HS: 温水暖房機の仕様, defaults to None\n",
    "    :type H_HS: dict, optional\n",
    "    :param C_A: 冷房方式, defaults to None\n",
    "    :type C_A: dict, optional\n",
    "    :param C_MR: 主たる居室の冷房機器, defaults to None\n",
    "    :type C_MR: dict, optional\n",
    "    :param C_OR: その他の居室の冷房機器, defaults to None\n",
    "    :type C_OR: dict, optional\n",
    "    :param V: 換気設備仕様辞書, defaults to None\n",
    "    :type V: dict, optional\n",
    "    :param L: 照明設備仕様辞書, defaults to None\n",
    "    :type L: dict, optional\n",
    "    :param A_MR: 主たる居室の床面積 (m2), defaults to None\n",
    "    :type A_MR: float, optional\n",
    "    :param A_OR: その他の居室の床面積 (m2), defaults to None\n",
    "    :type A_OR: float, optional\n",
    "    :param Q: 当該住戸の熱損失係数 (W/m2K), defaults to None\n",
    "    :type Q: float, optional\n",
    "    :param mu_H: 断熱性能の区分݆における日射取得性能の区分݇の暖房期の日射取得係数, defaults to None\n",
    "    :type mu_H: float, optional\n",
    "    :param mu_C: 断熱性能の区分݆における日射取得性能の区分݇の冷房期の日射取得係数, defaults to None\n",
    "    :type mu_C: float, optional\n",
    "    :param NV_MR: 主たる居室における通風の利用における相当換気回数, defaults to None\n",
    "    :type NV_MR: float, optional\n",
    "    :param NV_OR: その他の居室における通風の利用における相当換気回数, defaults to None\n",
    "    :type NV_OR: float, optional\n",
    "    :param TS: 蓄熱, defaults to None\n",
    "    :type TS: bool, optional\n",
    "    :param r_A_ufvnt: 床下換気, defaults to None\n",
    "    :type r_A_ufvnt: float, optional\n",
    "    :param HEX: 熱交換器型設備仕様辞書, defaults to None\n",
    "    :type HEX: dict, optional\n",
    "    :param underfloor_insulation: 床下空間が断熱空間内である場合はTrue, defaults to None\n",
    "    :type underfloor_insulation: bool, optional\n",
    "    :param mode_H: 暖房方式, defaults to None\n",
    "    :type mode_H: str, optional\n",
    "    :param mode_C: 冷房方式, defaults to None\n",
    "    :type mode_C: str, optional\n",
    "    :return: 1 年当たりの給湯設備（コージェネレーション設備を含む）の設計一次エネルギー消費量\n",
    "    :rtype: tuple\n",
    "    \"\"\"\n",
    "    \n",
    "    if HW is None:\n",
    "        return 0.0, np.zeros(24 * 365), np.zeros(24 * 365), np.zeros(24 * 365), np.zeros(24 * 365), \\\n",
    "               np.zeros(24 * 365), np.zeros(24 * 365), np.zeros(24 * 365)\n",
    "\n",
    "    if HW['hw_type'] != 'コージェネレーションを使用する':\n",
    "        E_W_d = calc_E_W_d(A_A, region, sol_region, HW, SHC, H_HS, H_MR, H_OR, A_MR, A_OR, Q, mu_H, mu_C, NV_MR, NV_OR, TS, r_A_ufvnt, HEX,\n",
    "                          underfloor_insulation)\n",
    "\n",
    "        # (8a)\n",
    "        E_W = np.sum(E_W_d)\n",
    "\n",
    "        return E_W, np.zeros(24 * 365), np.zeros(24 * 365), np.zeros(24 * 365), np.zeros(24 * 365), \\\n",
    "               np.zeros(24 * 365), np.zeros(24 * 365), np.zeros(24 * 365)\n",
    "    else:\n",
    "        # 1日当たりのコージェネレーション設備の一次エネルギー消費量\n",
    "        E_G_CG_d_t, E_E_CG_gen_d_t, E_E_CG_h_d_t, E_E_TU_aux_d_t, E_E_CG_h_d_t, E_G_CG_ded, e_BB_ave, Q_CG_h = \\\n",
    "            calc_E_CG_d_t(A_A, region, sol_region, HW, SHC, CG, H_A, H_MR, H_OR, H_HS, C_A, C_MR, C_OR,\n",
    "                          V, L, A_MR, A_OR, A_env, Q, mu_H, mu_C, NV_MR, NV_OR, TS,\n",
    "                                             r_A_ufvnt, HEX, underfloor_insulation, mode_H, mode_C)\n",
    "\n",
    "        # (8b)\n",
    "        E_CG = np.sum(E_G_CG_d_t)\n",
    "\n",
    "        return E_CG, E_E_CG_gen_d_t, E_E_CG_h_d_t, E_E_TU_aux_d_t, E_E_CG_h_d_t, E_G_CG_ded, e_BB_ave, Q_CG_h\n"
   ]
  },
  {
   "cell_type": "code",
   "execution_count": null,
   "metadata": {},
   "outputs": [],
   "source": [
    "def calc_E_CG_d_t(A_A, region, sol_region, HW, SHC, CG, H_A=None, H_MR=None, H_OR=None, H_HS=None, C_A=None, C_MR=None,\n",
    "                C_OR=None,\n",
    "                V=None, L=None, A_MR=None, A_OR=None, A_env=None, Q=None, mu_H=None, mu_C=None, NV_MR=None, NV_OR=None, TS=None,\n",
    "                r_A_ufvnt=None, HEX=None, underfloor_insulation=None, mode_H=None, mode_C=None):\n",
    "    \"\"\"1時間当たりのコージェネレーション設備の一次エネルギー消費量\n",
    "    \n",
    "    :param A_A: 床面積の合計 (m2)\n",
    "    :type A_A: float\n",
    "    :param region: 省エネルギー地域区分\n",
    "    :type region: int\n",
    "    :param sol_region: 年間日射地域区分(1-5)\n",
    "    :type sol_region: int\n",
    "    :param HW: 給湯機の仕様\n",
    "    :type HW: dict\n",
    "    :param SHC: 集熱式太陽熱利用設備の仕様\n",
    "    :type SHC: dict\n",
    "    :param CG: コージェネレーションの機器\n",
    "    :type CG: dict\n",
    "    :param H_A: 暖房方式, defaults to None\n",
    "    :type H_A: dict, optional\n",
    "    :param H_MR: 暖房機器の仕様, defaults to None\n",
    "    :type H_MR: dict, optional\n",
    "    :param H_OR: 暖房機器の仕様, defaults to None\n",
    "    :type H_OR: dict, optional\n",
    "    :param H_HS: 温水暖房機の仕様, defaults to None\n",
    "    :type H_HS: dict, optional\n",
    "    :param C_A: 冷房方式, defaults to None\n",
    "    :type C_A: dict, optional\n",
    "    :param C_MR: 主たる居室の冷房機器, defaults to None\n",
    "    :type C_MR: dict, optional\n",
    "    :param C_OR: その他の居室の冷房機器, defaults to None\n",
    "    :type C_OR: dict, optional\n",
    "    :param V: 換気設備仕様辞書, defaults to None\n",
    "    :type V: dict, optional\n",
    "    :param L: 照明設備仕様辞書, defaults to None\n",
    "    :type L: dict, optional\n",
    "    :param A_MR: 主たる居室の床面積 (m2), defaults to None\n",
    "    :type A_MR: float, optional\n",
    "    :param A_OR: その他の居室の床面積 (m2), defaults to None\n",
    "    :type A_OR: float, optional\n",
    "    :param Q: 当該住戸の熱損失係数 (W/m2K), defaults to None\n",
    "    :type Q: float, optional\n",
    "    :param mu_H: 断熱性能の区分݆における日射取得性能の区分݇の暖房期の日射取得係数, defaults to None\n",
    "    :type mu_H: float, optional\n",
    "    :param mu_C: 断熱性能の区分݆における日射取得性能の区分݇の冷房期の日射取得係数, defaults to None\n",
    "    :type mu_C: float, optional\n",
    "    :param NV_MR: 主たる居室における通風の利用における相当換気回数, defaults to None\n",
    "    :type NV_MR: float, optional\n",
    "    :param NV_OR: その他の居室における通風の利用における相当換気回数, defaults to None\n",
    "    :type NV_OR: float, optional\n",
    "    :param TS: 蓄熱, defaults to None\n",
    "    :type TS: bool, optional\n",
    "    :param r_A_ufvnt: 床下換気, defaults to None\n",
    "    :type r_A_ufvnt: float, optional\n",
    "    :param HEX: 熱交換器型設備仕様辞書, defaults to None\n",
    "    :type HEX: dict, optional\n",
    "    :param underfloor_insulation: 床下空間が断熱空間内である場合はTrue, defaults to None\n",
    "    :type underfloor_insulation: bool, optional\n",
    "    :param mode_H: 暖房方式, defaults to None\n",
    "    :type mode_H: str, optional\n",
    "    :param mode_C: 冷房方式, defaults to None\n",
    "    :type mode_C: str, optional\n",
    "    :raises ValueError: SHC の type が \"液体集熱式\"、 \"空気集熱式\"　以外の場合に発生する 　\n",
    "    :return: 1時間当たりのコージェネレーション設備の一次エネルギー消費量\n",
    "    :rtype: tuple\n",
    "    \"\"\"\n",
    "    \n",
    "    if HW is None or HW['hw_type'] != 'コージェネレーションを使用する':\n",
    "        return np.zeros(365), np.zeros(24 * 365), None, None, None, None, None, None\n",
    "\n",
    "    n_p = get_n_p(A_A)\n",
    "\n",
    "    # 実質的な暖房機器の仕様を取得\n",
    "    spec_MR, spec_OR = get_virtual_heating_devices(region, H_MR, H_OR)\n",
    "\n",
    "    # 実質的な温水暖房機の仕様を取得\n",
    "    spec_HS = get_virtual_heatsource(region, H_HS)\n",
    "\n",
    "    # 暖房方式及び運転方法の区分\n",
    "    mode_MR, mode_OR = calc_heating_mode(region=region, H_MR=spec_MR, H_OR=spec_OR)\n",
    "\n",
    "    # 暖房負荷の取得\n",
    "    L_T_H_d_t_i, L_dash_H_R_d_t_i = calc_heating_load(\n",
    "        region, sol_region,\n",
    "        A_A, A_MR, A_OR,\n",
    "        Q, mu_H, mu_C, NV_MR, NV_OR, TS, r_A_ufvnt, HEX,\n",
    "        underfloor_insulation, mode_H, mode_C,\n",
    "        spec_MR, spec_OR, mode_MR, mode_OR, SHC)\n",
    "\n",
    "    # 暖房日の計算\n",
    "    if SHC is not None and SHC['type'] == '空気集熱式':\n",
    "        # import section4_1 as H\n",
    "        # L_T_H_d_t_i, L_dash_H_R_d_t_i = H.calc_L_H_d_t(region, sol_region, A_A, A_MR, A_OR, None, spec_MR, spec_OR,\n",
    "        #                                               mode_MR, mode_OR, Q, mu_H, TS, r_A_ufvnt, HEX, SHC,\n",
    "        #                                               underfloor_insulation)\n",
    "        #\n",
    "        from section3_1_heatingday import get_heating_flag_d\n",
    "\n",
    "        heating_flag_d = get_heating_flag_d(L_dash_H_R_d_t_i)\n",
    "    else:\n",
    "        heating_flag_d = None\n",
    "\n",
    "    # 暖房\n",
    "    E_E_H_d_t = get_E_E_H_d_t(region, sol_region, A_A, A_MR, A_OR, A_env, mu_H, mu_C, Q, H_A, spec_MR, spec_OR, spec_HS, mode_MR, mode_OR,\n",
    "                              CG, SHC, heating_flag_d, L_T_H_d_t_i)\n",
    "    # 冷房負荷の計算\n",
    "    L_CS_d_t, L_CL_d_t = \\\n",
    "        calc_cooling_load(region, A_A, A_MR, A_OR, Q, mu_H, mu_C,\n",
    "                          NV_MR, NV_OR, r_A_ufvnt, underfloor_insulation,\n",
    "                          mode_C, mode_H, mode_MR, mode_OR, TS, HEX)\n",
    "\n",
    "    # 冷房\n",
    "    E_E_C_d_t = calc_E_E_C_d_t(region, A_A, A_MR, A_OR, A_env, mu_H, mu_C, Q, C_A, C_MR, C_OR,\n",
    "                               L_T_H_d_t_i, L_CS_d_t, L_CL_d_t)\n",
    "\n",
    "    # 換気\n",
    "    E_E_V_d_t = calc_E_E_V_d_t(n_p, A_A, V)\n",
    "\n",
    "    # 照明\n",
    "    E_E_L_d_t = calc_E_E_L_d_t(n_p, A_A, A_MR, A_OR, L)\n",
    "\n",
    "    # 家電\n",
    "    E_E_AP_d_t = calc_E_E_AP_d_t(n_p)\n",
    "\n",
    "    # その他または設置しない場合\n",
    "    spec_HW = get_virtual_hotwater(region, HW)\n",
    "\n",
    "    if spec_HW['hw_type'] is not None:\n",
    "        from section7_1 import get_normalized_bath_function\n",
    "        # ふろ機能の修正\n",
    "        bath_function = get_normalized_bath_function(spec_HW['hw_type'], spec_HW['bath_function'])\n",
    "\n",
    "        # 給湯負荷の生成\n",
    "        args = {\n",
    "            'n_p': n_p,\n",
    "            'region': region,\n",
    "            'sol_region': sol_region,\n",
    "            'has_bath': spec_HW['has_bath'],\n",
    "            'bath_function': bath_function,\n",
    "            'pipe_diameter': spec_HW['pipe_diameter'],\n",
    "            'kitchen_watersaving_A': spec_HW['kitchen_watersaving_A'],\n",
    "            'kitchen_watersaving_C': spec_HW['kitchen_watersaving_C'],\n",
    "            'shower_watersaving_A': spec_HW['shower_watersaving_A'],\n",
    "            'shower_watersaving_B': spec_HW['shower_watersaving_B'],\n",
    "            'washbowl_watersaving_C': spec_HW['washbowl_watersaving_C'],\n",
    "            'bath_insulation': spec_HW['bath_insulation']\n",
    "        }\n",
    "        if SHC is not None:\n",
    "            if SHC['type'] == '液体集熱式':\n",
    "                args.update({\n",
    "                    'type': SHC['type'],\n",
    "                    'ls_type': SHC['ls_type'],\n",
    "                    'A_sp': SHC['A_sp'],\n",
    "                    'P_alpha_sp': SHC['P_alpha_sp'],\n",
    "                    'P_beta_sp': SHC['P_beta_sp'],\n",
    "                    'W_tnk_ss': SHC['W_tnk_ss']\n",
    "                })\n",
    "            elif SHC['type'] == '空気集熱式':\n",
    "                args.update({\n",
    "                    'type': SHC['type'],\n",
    "                    'hotwater_use': SHC['hotwater_use'],\n",
    "                    'heating_flag_d': heating_flag_d,\n",
    "                    'A_col': SHC['A_col'],\n",
    "                    'P_alpha': SHC['P_alpha'],\n",
    "                    'P_beta': SHC['P_beta'],\n",
    "                    'V_fan_P0': SHC['V_fan_P0'],\n",
    "                    'd0': SHC['d0'],\n",
    "                    'd1': SHC['d1'],\n",
    "                    'W_tnk_ass': SHC['W_tnk_ass']\n",
    "                })\n",
    "            else:\n",
    "                raise ValueError(SHC['type'])\n",
    "\n",
    "        hotwater_load = calc_hotwater_load(**args)\n",
    "\n",
    "        L_dashdash_k_d_t = hotwater_load['L_dashdash_k_d_t']\n",
    "        L_dashdash_s_d_t = hotwater_load['L_dashdash_s_d_t']\n",
    "        L_dashdash_w_d_t = hotwater_load['L_dashdash_w_d_t']\n",
    "        L_dashdash_b1_d_t = hotwater_load['L_dashdash_b1_d_t']\n",
    "        L_dashdash_b2_d_t = hotwater_load['L_dashdash_b2_d_t']\n",
    "        L_dashdash_ba1_d_t = hotwater_load['L_dashdash_ba1_d_t']\n",
    "        L_dashdash_ba2_d_t = hotwater_load['L_dashdash_ba2_d_t']\n",
    "\n",
    "    # 温水暖房負荷の計算\n",
    "    if H_HS is not None:\n",
    "        import section4_1 as H\n",
    "        from section4_7 import calc_L_HWH\n",
    "\n",
    "        # 実質的な暖房機器の仕様を取得\n",
    "        spec_MR, spec_OR = H.get_virtual_heating_devices(region, H_MR, H_OR)\n",
    "\n",
    "        # 暖房方式及び運転方法の区分\n",
    "        mode_MR, mode_OR = H.calc_heating_mode(region=region, H_MR=spec_MR, H_OR=spec_OR)\n",
    "        spec_HS = H.get_virtual_heatsource(region, H_HS)\n",
    "\n",
    "        L_T_H_d_t_i, _ = H.calc_L_H_d_t(region, sol_region, A_A, A_MR, A_OR, None, None, spec_MR, spec_OR, mode_MR,\n",
    "                                        mode_OR, Q, mu_H, mu_C, NV_MR, NV_OR, TS, r_A_ufvnt, HEX, SHC, underfloor_insulation)\n",
    "    else:\n",
    "        spec_MR, spec_OR, spec_HS = None, None, None\n",
    "        mode_MR, mode_OR = None, None\n",
    "        L_T_H_d_t_i = None\n",
    "\n",
    "    # 1時間当たりの給湯設備の消費電力量 (s7-1 1)\n",
    "    E_E_W_d_t = calc_E_E_W_d_t(n_p, L_T_H_d_t_i, heating_flag_d, region, sol_region, HW, SHC)\n",
    "\n",
    "    # 1時間当たりの電力需要 (28)\n",
    "    E_E_dmd_d_t = get_E_E_dmd_d_t(E_E_H_d_t, E_E_C_d_t, E_E_V_d_t, E_E_L_d_t, E_E_W_d_t, E_E_AP_d_t)\n",
    "\n",
    "    # 電力需要の結果\n",
    "    print('## 電力需要')\n",
    "    print('E_E_H  = {} [kWh/年]'.format(np.sum(E_E_H_d_t)))\n",
    "    print('E_E_C  = {} [kWh/年]'.format(np.sum(E_E_C_d_t)))\n",
    "    print('E_E_V  = {} [kWh/年]'.format(np.sum(E_E_V_d_t)))\n",
    "    print('E_E_L  = {} [kWh/年]'.format(np.sum(E_E_L_d_t)))\n",
    "    print('E_E_W  = {} [kWh/年]'.format(np.sum(E_E_W_d_t)))\n",
    "    print('E_E_AP = {} [kWh/年]'.format(np.sum(E_E_AP_d_t)))\n",
    "    print('Total  = {} [kWh/年]'.format(np.sum(E_E_H_d_t + E_E_C_d_t + E_E_V_d_t + E_E_L_d_t + E_E_AP_d_t)))\n",
    "\n",
    "    # 1日当たりのコージェネレーション設備の一次エネルギー消費量\n",
    "    E_G_CG_d_t, E_E_CG_gen_d_t, E_G_CG_ded, E_E_CG_self, Q_CG_h, E_E_TU_aux_d_t, e_BB_ave = \\\n",
    "        calc_E_G_CG_d_t(bath_function, CG, E_E_dmd_d_t,\n",
    "                        L_dashdash_k_d_t, L_dashdash_w_d_t, L_dashdash_s_d_t, L_dashdash_b1_d_t,\n",
    "                        L_dashdash_b2_d_t,\n",
    "                        L_dashdash_ba1_d_t, L_dashdash_ba2_d_t,\n",
    "                        spec_HS, spec_MR, spec_OR, A_A, A_MR, A_OR, region, mode_MR, mode_OR,\n",
    "                        L_T_H_d_t_i)\n",
    "\n",
    "    # 1時間当たりのコージェネレーション設備による発電量のうちの自家消費分 (kWh/h) (19-1)(19-2)\n",
    "    E_E_CG_h_d_t = get_E_E_CG_h_d_t(E_E_CG_gen_d_t, E_E_dmd_d_t, True)\n",
    "\n",
    "    return E_G_CG_d_t, E_E_CG_gen_d_t, E_E_CG_h_d_t, E_E_TU_aux_d_t, E_E_CG_h_d_t, E_G_CG_ded, e_BB_ave, Q_CG_h\n"
   ]
  },
  {
   "cell_type": "markdown",
   "metadata": {},
   "source": [
    "#### 10.1 給湯設備の設計一次エネルギー消費量 / Design primary energy consumption of hot water supply system"
   ]
  },
  {
   "cell_type": "markdown",
   "metadata": {},
   "source": [
    "$$\n",
    "\\large \n",
    "E_{W,d,t} = E_{E,W,d,t} \\times f_{prim} \\times 10^{-3} + E_{G,W,d,t} + E_{K,W,d,t} + E_{M,W,d,t}\n",
    "$$"
   ]
  },
  {
   "cell_type": "markdown",
   "metadata": {},
   "source": [
    "$E_{E,W,d,t}$：日付$d$の時刻$t$における1時間当たりの給湯設備の消費電力量(kWh/h) / Power consumption of water heater per hour at time $ t $ on date $ d $    \n",
    "$E_{G,W,d,t}$：日付$d$の時刻$t$における1時間当たりの給湯設備のガス消費量(MJ/h) / Gas consumption of water heater per hour at time $ t $ on date $ d $  \n",
    "$E_{K,W,d,t}$：日付$d$の時刻$t$における1時間当たりの給湯設備の灯油消費量(MJ/h) / Consumption of kerosene in water heater per hour at time $ t $ on date $ d $   \n",
    "$E_{M,W,d,t}$：日付$d$の時刻$t$における1時間当たりの給湯設備のその他の燃料による一次エネルギー消費量(MJ/h) / Primary energy consumption by other fuels of water heater per hour at time $ t $ on date $ d $   \n",
    "$E_{W,d,t}$：日付$d$の時刻$t$における1時間当たりの給湯設備の設計一次エネルギー消費量(MJ/h) / Designing the primary energy consumption of the water heater per hour at time $ t $ on date $ d $  \n",
    "$f_{prim}$：電気の量 1kWh を熱量に換算する係数（第二章第一節付録 B）(kJ/kWh) / Factor to convert 1kWh of electricity into heat quantity (Chapter 2 Section 1 Appendix B)  "
   ]
  },
  {
   "cell_type": "code",
   "execution_count": null,
   "metadata": {},
   "outputs": [],
   "source": [
    "def calc_E_W_d(A_A, region, sol_region, HW, SHC, H_HS=None, H_MR=None, H_OR=None, A_MR=None, A_OR=None, Q=None, mu_H=None, mu_C=None, NV_MR=None, NV_OR=None, TS=None, r_A_ufvnt=None, HEX=None, underfloor_insulation=None):\n",
    "    \"\"\"1 日当たりの給湯設備の設計一次エネルギー消費量\n",
    "    \n",
    "    :param A_A: 床面積の合計 (m2)\n",
    "    :type A_A: float\n",
    "    :param region: 省エネルギー地域区分\n",
    "    :type region: int\n",
    "    :param sol_region: 年間日射地域区分(1-5)\n",
    "    :type sol_region: int\n",
    "    :param HW: 給湯機の仕様\n",
    "    :type HW: dict\n",
    "    :param SHC: 集熱式太陽熱利用設備の仕様\n",
    "    :type SHC: dict\n",
    "    :param H_HS: 温水暖房機の仕様, defaults to None\n",
    "    :type H_HS: dict, optional\n",
    "    :param H_MR: 暖房機器の仕様, defaults to None\n",
    "    :type H_MR: dict, optional\n",
    "    :param H_OR: 暖房機器の仕様, defaults to None\n",
    "    :type H_OR: dict, optional\n",
    "    :param A_MR: 主たる居室の床面積 (m2), defaults to None\n",
    "    :type A_MR: float, optional\n",
    "    :param A_OR: その他の居室の床面積 (m2), defaults to None\n",
    "    :type A_OR: float, optional\n",
    "    :param Q: 当該住戸の熱損失係数 (W/m2K), defaults to None\n",
    "    :type Q: float, optional\n",
    "    :param mu_H: 断熱性能の区分݆における日射取得性能の区分݇の暖房期の日射取得係数, defaults to None\n",
    "    :type mu_H: float, optional\n",
    "    :param mu_C: 断熱性能の区分݆における日射取得性能の区分݇の冷房期の日射取得係数, defaults to None\n",
    "    :type mu_C: float, optional\n",
    "    :param NV_MR: 主たる居室における通風の利用における相当換気回数, defaults to None\n",
    "    :type NV_MR: float, optional\n",
    "    :param NV_OR: その他の居室における通風の利用における相当換気回数, defaults to None\n",
    "    :type NV_OR: float, optional\n",
    "    :param TS: 蓄熱, defaults to None\n",
    "    :type TS: bool, optional\n",
    "    :param r_A_ufvnt: 床下換気, defaults to None\n",
    "    :type r_A_ufvnt: float, optional\n",
    "    :param HEX: 熱交換器型設備仕様辞書, defaults to None\n",
    "    :type HEX: dict, optional\n",
    "    :param underfloor_insulation: 床下空間が断熱空間内である場合はTrue, defaults to None\n",
    "    :type underfloor_insulation: bool, optional\n",
    "    :raises ValueError: コージェネは対象外。HW の hw_type が 'コージェネレーションを使用する' であった場合発生する。\n",
    "    :return: 1 日当たりの給湯設備の設計一次エネルギー消費量\n",
    "    :rtype: ndarray\n",
    "    \"\"\"\n",
    "    \n",
    "    # コージェネは対象外\n",
    "    if HW['hw_type'] == 'コージェネレーションを使用する':\n",
    "        raise ValueError(HW['hw_type'])\n",
    "\n",
    "    # 電気の量 1kWh を熱量に換算する係数\n",
    "    f_prim = get_f_prim()\n",
    "\n",
    "    # 想定人数\n",
    "    n_p = get_n_p(A_A)\n",
    "\n",
    "    # その他または設置しない場合\n",
    "    spec_HW = get_virtual_hotwater(region, HW)\n",
    "\n",
    "    # 温水暖房負荷の計算\n",
    "    L_HWH = calc_L_HWH(A_A, A_MR, A_OR, HEX, H_HS, H_MR, H_OR, Q, SHC, TS, mu_H, mu_C, NV_MR, NV_OR, r_A_ufvnt, region, sol_region,\n",
    "                       underfloor_insulation)\n",
    "\n",
    "    # 暖房日の計算\n",
    "    heating_flag_d = calc_heating_flag_d(A_A, A_MR, A_OR, HEX, H_MR, H_OR, Q, SHC, TS, mu_H, mu_C, NV_MR, NV_OR, r_A_ufvnt, region,\n",
    "                                         sol_region, underfloor_insulation)\n",
    "\n",
    "    E_E_W_d = calc_E_E_W_d_t(n_p, L_HWH, heating_flag_d, region, sol_region, spec_HW, SHC)\n",
    "    E_G_W_d = calc_E_G_W_d_t(n_p, L_HWH, heating_flag_d, A_A, region, sol_region, spec_HW, SHC)\n",
    "    E_K_W_d = calc_E_K_W_d_t(n_p, L_HWH, heating_flag_d, A_A, region, sol_region, spec_HW, SHC)\n",
    "    E_M_W_d = get_E_M_W_d_t()\n",
    "\n",
    "    # print('E_E_W = {} [MJ]'.format(np.sum(E_E_W_d)))\n",
    "    # print('E_G_W = {} [MJ]'.format(np.sum(E_G_W_d)))\n",
    "    # print('E_K_W = {} [MJ]'.format(np.sum(E_K_W_d)))\n",
    "    # print('E_M_W = {} [MJ]'.format(np.sum(E_M_W_d)))\n",
    "\n",
    "    E_W_d = E_E_W_d * f_prim / 1000 + E_G_W_d + E_K_W_d + E_M_W_d  # (9)\n",
    "\n",
    "    return E_W_d\n"
   ]
  },
  {
   "cell_type": "code",
   "execution_count": null,
   "metadata": {},
   "outputs": [],
   "source": [
    "def calc_L_HWH(A_A, A_MR, A_OR, HEX, H_HS, H_MR, H_OR, Q, SHC, TS, mu_H, mu_C, NV_MR, NV_OR, r_A_ufvnt, region, sol_region, underfloor_insulation, CG=None):\n",
    "    \"\"\"温水暖房負荷の計算\n",
    "    \n",
    "    :param A_A: 床面積の合計 (m2)\n",
    "    :type A_A: float\n",
    "    :param A_MR: 主たる居室の床面積 (m2)\n",
    "    :type A_MR: float\n",
    "    :param A_OR: その他の居室の床面積 (m2)\n",
    "    :type A_OR: float\n",
    "    :param HEX: 熱交換器型設備仕様辞書\n",
    "    :type HEX: dict\n",
    "    :param H_HS: 温水暖房機の仕様\n",
    "    :type H_HS: dict, optional\n",
    "    :param H_MR: 暖房機器の仕様\n",
    "    :type H_MR: dict\n",
    "    :param H_OR: 暖房機器の仕様\n",
    "    :type H_OR: dict\n",
    "    :param Q: 当該住戸の熱損失係数 (W/m2K)\n",
    "    :type Q: float\n",
    "    :param SHC: 集熱式太陽熱利用設備の仕様\n",
    "    :type SHC: dict\n",
    "    :param TS: 蓄熱\n",
    "    :type TS: bool\n",
    "    :param mu_H: 断熱性能の区分݆における日射取得性能の区分݇の暖房期の日射取得係数\n",
    "    :type mu_H: float\n",
    "    :param mu_C: 断熱性能の区分݆における日射取得性能の区分݇の冷房期の日射取得係数\n",
    "    :type mu_C: float\n",
    "    :param NV_MR: 主たる居室における通風の利用における相当換気回数\n",
    "    :type NV_MR: float\n",
    "    :param NV_OR: その他の居室における通風の利用における相当換気回数\n",
    "    :type NV_OR: float\n",
    "    :param r_A_ufvnt: 床下換気\n",
    "    :type r_A_ufvnt: float\n",
    "    :param region: 省エネルギー地域区分\n",
    "    :type region: int\n",
    "    :param sol_region: 年間日射地域区分(1-5)\n",
    "    :type sol_region: int\n",
    "    :param underfloor_insulation: 床下空間が断熱空間内である場合はTrue\n",
    "    :type underfloor_insulation: bool\n",
    "    :param CG: コージェネレーションの機器, defaults to None\n",
    "    :type CG: dict, optional\n",
    "    :return: 温水暖房負荷\n",
    "    :rtype: float\n",
    "    \"\"\"\n",
    "    \n",
    "    if H_HS is not None:\n",
    "        import section4_1 as H\n",
    "        from section4_7 import calc_L_HWH\n",
    "        # 実質的な暖房機器の仕様を取得\n",
    "        spec_MR, spec_OR = H.get_virtual_heating_devices(region, H_MR, H_OR)\n",
    "\n",
    "        # 暖房方式及び運転方法の区分\n",
    "        mode_MR, mode_OR = H.calc_heating_mode(region=region, H_MR=spec_MR, H_OR=spec_OR)\n",
    "        spec_HS = H.get_virtual_heatsource(region, H_HS)\n",
    "\n",
    "        L_T_H_d_t_i, _ = H.calc_L_H_d_t(region, sol_region, A_A, A_MR, A_OR, None, None, spec_MR, spec_OR, mode_MR, mode_OR, Q,\n",
    "                                        mu_H, mu_C, NV_MR, NV_OR, TS, r_A_ufvnt, HEX, SHC, underfloor_insulation)\n",
    "\n",
    "        L_HWH = calc_L_HWH(spec_HS, spec_MR, spec_OR, A_A, A_MR, A_OR, region, mode_MR, mode_OR, L_T_H_d_t_i, CG)\n",
    "        L_HWH = np.sum(L_HWH.reshape(365, 24), axis=1)\n",
    "    else:\n",
    "        L_HWH = None\n",
    "    return L_HWH\n"
   ]
  },
  {
   "cell_type": "code",
   "execution_count": null,
   "metadata": {},
   "outputs": [],
   "source": [
    "def calc_heating_flag_d(A_A, A_MR, A_OR, HEX, H_MR, H_OR, Q, SHC, TS, mu_H, mu_C, NV_MR, NV_OR, r_A_ufvnt, region, sol_region,underfloor_insulation):\n",
    "    \"\"\"暖房日の計算\n",
    "    \n",
    "    :param A_A: 床面積の合計 (m2)\n",
    "    :type A_A: float\n",
    "    :param A_MR: 主たる居室の床面積 (m2)\n",
    "    :type A_MR: float\n",
    "    :param A_OR: その他の居室の床面積 (m2)\n",
    "    :type A_OR: float\n",
    "    :param HEX: 熱交換器型設備仕様辞書\n",
    "    :type HEX: dict\n",
    "    :param H_MR: 暖房機器の仕様\n",
    "    :type H_MR: dict\n",
    "    :param H_OR: 暖房機器の仕様\n",
    "    :type H_OR: dict\n",
    "    :param Q: 当該住戸の熱損失係数 (W/m2K)\n",
    "    :type Q: float\n",
    "    :param SHC: 集熱式太陽熱利用設備の仕様\n",
    "    :type SHC: dict\n",
    "    :param TS: 蓄熱\n",
    "    :type TS: bool\n",
    "    :param mu_H: 断熱性能の区分݆における日射取得性能の区分݇の暖房期の日射取得係数\n",
    "    :type mu_H: float\n",
    "    :param mu_C: 断熱性能の区分݆における日射取得性能の区分݇の冷房期の日射取得係数\n",
    "    :type mu_C: float\n",
    "    :param NV_MR: 主たる居室における通風の利用における相当換気回数\n",
    "    :type NV_MR: float\n",
    "    :param NV_OR: その他の居室における通風の利用における相当換気回数\n",
    "    :type NV_OR: float\n",
    "    :param r_A_ufvnt: 床下換気\n",
    "    :type r_A_ufvnt: float\n",
    "    :param region: 省エネルギー地域区分\n",
    "    :type region: int\n",
    "    :param sol_region: 年間日射地域区分(1-5)\n",
    "    :type sol_region: int\n",
    "    :param underfloor_insulation: 床下空間が断熱空間内である場合はTrue\n",
    "    :type underfloor_insulation: bool\n",
    "    :return: 暖房日\n",
    "    :rtype: ndarray\n",
    "    \"\"\"\n",
    "    \n",
    "    # 暖房日の計算\n",
    "    if SHC is not None and SHC['type'] == '空気集熱式':\n",
    "        import section4_1 as H\n",
    "        # 実質的な暖房機器の仕様を取得\n",
    "        spec_MR, spec_OR = H.get_virtual_heating_devices(region, H_MR, H_OR)\n",
    "        # 暖房方式及び運転方法の区分\n",
    "        mode_MR, mode_OR = H.calc_heating_mode(region=region, H_MR=spec_MR, H_OR=spec_OR)\n",
    "\n",
    "        L_T_H_d_t_i, L_dash_H_R_d_t_i = H.calc_L_H_d_t(region, sol_region, A_A, A_MR, A_OR, None, None, spec_MR, spec_OR, mode_MR, mode_OR, Q, mu_H, mu_C, NV_MR, NV_OR, TS, r_A_ufvnt, HEX, SHC, underfloor_insulation)\n",
    "\n",
    "        from section3_1_heatingday import get_heating_flag_d\n",
    "        heating_flag_d = get_heating_flag_d(L_dash_H_R_d_t_i)\n",
    "    else:\n",
    "        heating_flag_d = None\n",
    "    return heating_flag_d\n"
   ]
  },
  {
   "cell_type": "markdown",
   "metadata": {},
   "source": [
    "#### 10.2 コージェネレーション設備の設計一次エネルギー消費量 / Design primary energy consumption of cogeneration equipment"
   ]
  },
  {
   "cell_type": "markdown",
   "metadata": {},
   "source": [
    "$$\n",
    "\\large \n",
    "E_{CG,d,t} = E_{G,CG,d,t} + E_{K,CG,d,t}\n",
    "$$"
   ]
  },
  {
   "cell_type": "markdown",
   "metadata": {},
   "source": [
    "$E_{CG,d,t}$：日付$d$の時刻$t$における1時間当たりのコージェネレーション設備の設計一次エネルギー消費量(MJ/h) / Design of cogeneration equipment per hour at time $ t $ on date $ d $ Primary energy consumption    \n",
    "$E_{G,CG,d,t}$：日付$d$の時刻$t$における1時間当たりのコージェネレーション設備のガス消費量(MJ/h) / Gas consumption of cogeneration equipment per hour at time $ t $ of date $ d $    \n",
    "$E_{K,CG,d,t}$：日付$d$の時刻$t$における1時間当たりのコージェネレーション設備の灯油消費量(MJ/h) / Kerosene consumption of cogeneration equipment per hour at time $ t $ on date $ d $   "
   ]
  },
  {
   "cell_type": "markdown",
   "metadata": {},
   "source": [
    "### 11．その他の設計一次エネルギー消費量 / Other design primary energy consumption"
   ]
  },
  {
   "cell_type": "markdown",
   "metadata": {},
   "source": [
    "$$\n",
    "\\large E_M = \\sum_{d=1}^{365}{\\sum_{t=0}^{23}{(E_{AP,d,t} + E_{CC,d,t})}}\n",
    "$$"
   ]
  },
  {
   "cell_type": "markdown",
   "metadata": {},
   "source": [
    "$E_{AP,d,t}$：日付$d$の時刻$t$における1 時間当たりの家電の設計一次エネルギー消費量(MJ/h) / Design primary energy consumption of household appliances per hour at time $ t $ on date $ d $   \n",
    "$E_{CC,d,t}$：日付$d$の時刻$t$における1 時間当たりの調理の設計一次エネルギー消費量(MJ/h) / Designing Primary Energy Consumption of Cooking Per Hour at Time $ t $ on Date $ d $   \n",
    "$E_{M}$：1 年当たりのその他の設計一次エネルギー消費量(MJ/年) / Other design primary energy consumption per year   "
   ]
  },
  {
   "cell_type": "code",
   "execution_count": null,
   "metadata": {},
   "outputs": [],
   "source": [
    "def calc_E_M(A_A):\n",
    "    \"\"\"1年当たりのその他の設計一次エネルギー消費量\n",
    "    \n",
    "    :param A_A: 床面積の合計 (m2)\n",
    "    :type A_A: float\n",
    "    :return: 1年当たりのその他の設計一次エネルギー消費量\n",
    "    :rtype: float\n",
    "    \"\"\"\n",
    "    \n",
    "    # 想定人数\n",
    "    n_p = get_n_p(A_A)\n",
    "\n",
    "    # 1 時間当たりの家電の設計一次エネルギー消費量\n",
    "    E_AP_d_t = calc_E_AP_d_t(n_p)\n",
    "\n",
    "    # 1 時間当たりの調理の設計一次エネルギー消費量\n",
    "    E_CC_d_t = calc_E_CC_d_t(n_p)\n",
    "\n",
    "    # 1年当たりのその他の設計一次エネルギー消費量\n",
    "    E_M = np.sum(E_AP_d_t + E_CC_d_t)  # (11)\n",
    "\n",
    "    return E_M\n"
   ]
  },
  {
   "cell_type": "markdown",
   "metadata": {},
   "source": [
    "#### 11.1 家電の設計一次エネルギー消費量 / Design primary energy consumption of home appliances"
   ]
  },
  {
   "cell_type": "markdown",
   "metadata": {},
   "source": [
    "$$\n",
    "\\large \n",
    "E_{AP,d,t} = E_{E,AP,d,t} \\times f_{prim} \\times 10^{-3} + E_{G,AP,d,t} + E_{K,AP,d,t} + E_{M,AP,d,t}\n",
    "$$"
   ]
  },
  {
   "cell_type": "markdown",
   "metadata": {},
   "source": [
    "$E_{AP,d,t}$：日付$d$の時刻$t$における1 時間当たりの家電の設計一次エネルギー消費量(MJ/h) / Design primary energy consumption of household appliances per hour at time $ t $ on date $ d $    \n",
    "$E_{E,AP,d,t}$：日付$d$の時刻$t$における1 時間当たりの家電の消費電力量(kWh/h) / Power consumption of household appliances per hour at time $ t $ of date $ d $    \n",
    "$E_{G,AP,d,t}$：日付$d$の時刻$t$における1 時間当たりの家電のガス消費量(MJ/h) / Gas consumption of household appliances per hour at time $ t $ on date $ d $  \n",
    "$E_{K,AP,d,t}$：日付$d$の時刻$t$における1 時間当たりの家電の灯油消費量(MJ/h) / Household appliances kerosene consumption per hour at time $ t $ on date $ d $   \n",
    "$E_{M,AP,d,t}$：日付$d$の時刻$t$における1 時間当たりの家電のその他の燃料による一次エネルギー消費量(MJ/h) / Primary energy consumption by other fuels of household appliances per hour at time $ t $ on date $ d $   \n",
    "$f_{prim}$：電気の量1kWhを熱量に換算する係数（第二章第一節付録 B）(kJ/kWh) / A factor to convert 1 kWh of electricity to heat (Chapter 2, Section 1 Appendix B)  "
   ]
  },
  {
   "cell_type": "code",
   "execution_count": null,
   "metadata": {},
   "outputs": [],
   "source": [
    "def calc_E_AP_d_t(n_p):\n",
    "    \"\"\"1 時間当たりの家電の設計一次エネルギー消費量\n",
    "    \n",
    "    :param n_p: 想定人数\n",
    "    :type n_p: float\n",
    "    :return: 1 時間当たりの家電の設計一次エネルギー消費量\n",
    "    :rtype: ndarray\n",
    "    \"\"\"\n",
    "    \n",
    "    # 電気の量 1kWh を熱量に換算する係数\n",
    "    f_prim = get_f_prim()\n",
    "    return calc_E_E_AP_d_t(n_p) * f_prim / 1000 + get_E_G_AP_d_t() + get_E_K_AP_d_t() + get_E_M_AP_d_t()  # (12)\n"
   ]
  },
  {
   "cell_type": "markdown",
   "metadata": {},
   "source": [
    "#### 11.2 調理の設計一次エネルギー消費量 / Design primary energy consumption of cooking"
   ]
  },
  {
   "cell_type": "markdown",
   "metadata": {},
   "source": [
    "$$\n",
    "\\large \n",
    "E_{CC,d,t} = E_{E,CC,d,t} \\times f_{prim} \\times 10^{-3} + E_{G,CC,d,t} + E_{K,CC,d,t} + E_{M,CC,d,t}\n",
    "$$"
   ]
  },
  {
   "cell_type": "markdown",
   "metadata": {},
   "source": [
    "$E_{CC,d,t}$：日付$d$の時刻$t$における1 時間当たりの調理の設計一次エネルギー消費量(kWh/h) / Designing Primary Energy Consumption of Cooking Per Hour at Time $ t $ on Date $ d $    \n",
    "$E_{E,CC,d,t}$：日付$d$の時刻$t$における1 時間当たりの調理の消費電力量(kWh/h) / Cooking power consumption per hour at time $ t $ on date $ d $    \n",
    "$E_{G,CC,d,t}$：日付$d$の時刻$t$における1 時間当たりの調理のガス消費量(MJ/h) / Cooking gas consumption per hour at time $ t $ on date $ d $  \n",
    "$E_{K,CC,d,t}$：日付$d$の時刻$t$における1 時間当たりの調理の灯油消費量(MJ/h) / Cooking kerosene consumption per hour at time $ t $ on date $ d $   \n",
    "$E_{M,CC,d,t}$：日付$d$の時刻$t$における1 時間当たりの調理のその他の燃料による一次エネルギー消費量(MJ/h) / Primary energy consumption by other fuels of cooking per hour at time $ t $ on date $ d $   \n",
    "$f_{prim}$：電気の量1kWhを熱量に換算する係数（第二章第一節付録 B）(kJ/kWh) / A factor to convert 1 kWh of electricity to heat (Chapter 2, Section 1 Appendix B)  "
   ]
  },
  {
   "cell_type": "code",
   "execution_count": null,
   "metadata": {},
   "outputs": [],
   "source": [
    "def calc_E_CC_d_t(n_p):\n",
    "    \"\"\"1 時間当たりの調理の設計一次エネルギー消費量\n",
    "    \n",
    "    :param n_p: 想定人数\n",
    "    :type n_p: float\n",
    "    :return: 1 時間当たりの調理の設計一次エネルギー消費量\n",
    "    :rtype: ndarray\n",
    "    \"\"\"\n",
    "    \n",
    "    # 電気の量 1kWh を熱量に換算する係数\n",
    "    f_prim = get_f_prim()\n",
    "\n",
    "    return get_E_E_CC_d_t() * f_prim / 1000 + calc_E_G_CC_d_t(n_p) + get_E_K_CC_d_t() + get_E_M_CC_d_t()  # (13)\n"
   ]
  },
  {
   "cell_type": "markdown",
   "metadata": {},
   "source": [
    "### 12．エネルギー利用効率化設備による設計一次エネルギー消費量の削減量 / Reduction of design primary energy consumption by energy efficiency equipment"
   ]
  },
  {
   "cell_type": "markdown",
   "metadata": {},
   "source": [
    "$$\n",
    "\\large E_S = E_{S,h} + E_{S,sell}\n",
    "$$"
   ]
  },
  {
   "cell_type": "markdown",
   "metadata": {},
   "source": [
    "$E_S$：1 年当たりのエネルギー利用効率化設備による設計一次エネルギー消費量の削減量(MJ/年) / Reduction of design primary energy consumption by energy utilization efficiency facility per year   \n",
    "$E_{S,h}$：1 年当たりのエネルギー利用効率化設備による発電量のうちの自家消費分に係る設計一次エネルギー消費量の削減量(MJ/年) / Design primary energy consumption reduction related to the self-consumption among the power generation capacity by the energy utilization efficiency improvement facility per year   \n",
    "$E_{S,sell}$：1 年当たりのコージェネレーション設備による売電量に係る設計一次エネルギー消費量の控除量(MJ/年) / Deduction of design primary energy consumption related to the amount of electricity sold by cogeneration equipment per year   "
   ]
  },
  {
   "cell_type": "code",
   "execution_count": null,
   "metadata": {},
   "outputs": [],
   "source": [
    "def calc_E_S(region, sol_region, PV, CG, E_E_dmd_d_t, E_E_CG_gen_d_t, E_E_TU_aux_d_t, E_E_CG_h, E_G_CG_ded, e_BB_ave, Q_CG_h):\n",
    "    \"\"\"1年当たりのエネルギー利用効率化設備による設計一次エネルギー消費量の削減量 (14)\n",
    "    \n",
    "    :param region: [description]\n",
    "    :type region: [type]\n",
    "    :param sol_region: [description]\n",
    "    :type sol_region: [type]\n",
    "    :param PV: [description]\n",
    "    :type PV: [type]\n",
    "    :param CG: [description]\n",
    "    :type CG: [type]\n",
    "    :param E_E_dmd_d_t: 1時間当たりの太陽光発電設備による発電量 (kWh/h)\n",
    "    :type E_E_dmd_d_t: ndarray\n",
    "    :param E_E_CG_gen_d_t: 1時間当たりのコージェネレーション設備による発電のうちの自家消費分 (kWh/h)\n",
    "    :type E_E_CG_gen_d_t: ndarray\n",
    "    :param E_E_TU_aux_d_t: 1時間当たりのタンクユニットの補機消費電力量 (25)\n",
    "    :type E_E_TU_aux_d_t: ndarray\n",
    "    :param E_E_CG_h: 1年当たりのコージェネレーション設備による発電量のうちの自家消費分 (kWh/yr) (18)\n",
    "    :type E_E_CG_h: float\n",
    "    :param E_G_CG_ded: 1年当たりのコージェネレーション設備のガス消費量のうちの売電に係る控除対象分 (MJ/yr)\n",
    "    :type E_G_CG_ded: float\n",
    "    :param e_BB_ave: コージェネレーション設備の給湯時のバックアップボイラーの年間平均効率 (-)\n",
    "    :type e_BB_ave: float\n",
    "    :param Q_CG_h: 1年当たりのコージェネレーション設備による製造熱量のうちの自家消費算入分 (MJ/yr)\n",
    "    :type Q_CG_h: float\n",
    "    :return: 1年当たりのエネルギー利用効率化設備による設計一次エネルギー消費量の削減量 (14)\n",
    "    :rtype: float\n",
    "    \"\"\"\n",
    "\n",
    "    if CG is not None:\n",
    "        has_CG = True\n",
    "        has_CG_reverse = CG[\"reverse\"] if 'reverse' in CG else False\n",
    "    else:\n",
    "        has_CG = False\n",
    "        has_CG_reverse = False\n",
    "\n",
    "    if PV is not None:\n",
    "        has_PV = True\n",
    "        from section11_2 import load_solrad\n",
    "        from section9_1 import calc_E_E_PV_d_t\n",
    "        solrad = load_solrad(region, sol_region)\n",
    "        # 太陽光発電設備の発電量 (s9-1 1)\n",
    "        E_E_PV_d_t = calc_E_E_PV_d_t(PV, solrad)\n",
    "    else:\n",
    "        has_PV = False\n",
    "        E_E_PV_d_t = np.zeros(24 * 365)\n",
    "\n",
    "    # 1時間当たりのコージェネレーション設備による発電量のうちの自家消費分 (kWh/h) (19-1)(19-2)\n",
    "    E_E_CG_h_d_t = get_E_E_CG_h_d_t(E_E_CG_gen_d_t, E_E_dmd_d_t, has_CG)\n",
    "\n",
    "    # 1 時間当たりの太陽光発電設備による消費電力削減量 (17-1)(17-2)\n",
    "    E_E_PV_h_d_t = get_E_E_PV_h_d_t(E_E_PV_d_t, E_E_dmd_d_t, E_E_CG_h_d_t, has_PV)\n",
    "\n",
    "    # 1時間当たりのコージェネレーション設備による売電量(二次エネルギー) (kWh/h) (24-1)(24-2)\n",
    "    E_E_CG_sell_d_t = get_E_E_CG_sell_d_t(E_E_CG_gen_d_t, E_E_CG_h_d_t, has_CG_reverse)\n",
    "\n",
    "    # 1年当たりのコージェネレーション設備による売電量（一次エネルギー換算値）(MJ/yr) (23)\n",
    "    E_CG_sell = calc_E_CG_sell(E_E_CG_sell_d_t)\n",
    "\n",
    "    # 1年当たりのコージェネレーション設備による発電量のうちの自己消費分 (kWH/yr) (s8 4)\n",
    "    E_E_CG_self = get_E_E_CG_self(E_E_TU_aux_d_t)\n",
    "\n",
    "    # 1年当たりのコージェネレーション設備による売電量に係るガス消費量の控除量 (MJ/yr) (20)\n",
    "    E_G_CG_sell = calc_E_G_CG_sell(E_CG_sell, E_E_CG_self, E_E_CG_h, E_G_CG_ded, e_BB_ave, Q_CG_h, CG != None)\n",
    "\n",
    "    # 1年当たりのコージェネレーション設備の売電量に係る設計一次エネルギー消費量の控除量 (MJ/yr) (16)\n",
    "    E_S_sell = get_E_S_sell(E_G_CG_sell)\n",
    "\n",
    "    # 1年当たりのエネルギー利用効率化設備による発電量のうちの自家消費分に係る一次エネルギー消費量の控除量 (MJ/yr) (15)\n",
    "    E_S_h = calc_E_S_h(E_E_PV_h_d_t, E_E_CG_h_d_t)\n",
    "\n",
    "    # 1年当たりのエネルギー利用効率化設備による設計一次エネルギー消費量の削減量 (MJ/yr) (14)\n",
    "    E_S = get_E_S(E_S_h, E_S_sell)\n",
    "\n",
    "    return E_S\n"
   ]
  },
  {
   "cell_type": "markdown",
   "metadata": {},
   "source": [
    "$$\n",
    "\\large E_{S,h} = \\sum_{d=1}^{365}{\\sum_{t=0}^{23}{(E_{E,PV,h,d,t} + E_{E,CG,h,d,t}) \\times f_{prim} \\times 10^{-3} }}\n",
    "$$"
   ]
  },
  {
   "cell_type": "markdown",
   "metadata": {},
   "source": [
    "$E_{E,PV,h,d,t}$：日付$d$の時刻$t$における1 時間当たりの太陽光発電設備による発電量のうちの自家消費分(kWh/h) / Of the amount of power generated by the photovoltaic power generation facility per hour at time $ t $ on date $ d $   \n",
    "$E_{E,CG,h,d,t}$：日付$d$の時刻$t$における1 時間当たりのコージェネレーション設備による発電量のうちの自家消費分(kWh/h) / Of the power generated by the cogeneration facility per hour at time $ t $ on date $ d $   \n",
    "$E_{S,h}$：1 年当たりのエネルギー利用効率化設備による発電量のうちの自家消費分に係る設計一次エネルギー消費量の削減量(MJ/年) / Design primary energy consumption reduction related to the self-consumption among the power generation capacity by the energy utilization efficiency improvement facility per year   \n",
    "$f_{prim}$：電気の量1kWhを熱量に換算する係数（第二章第一節付録 B）(kJ/kWh) / A factor to convert 1 kWh of electricity to heat (Chapter 2, Section 1 Appendix B)  "
   ]
  },
  {
   "cell_type": "code",
   "execution_count": null,
   "metadata": {},
   "outputs": [],
   "source": [
    "def calc_E_S_h(E_E_PV_h_d_t, E_E_CG_h_d_t):\n",
    "    \"\"\"1年当たりのエネルギー利用効率化設備による発電量のうちの自家消費分に係る一次エネルギー消費量の控除量 (MJ/yr) (15)\n",
    "    \n",
    "    :param E_E_PV_h_d_t: 1時間当たりの太陽光発電設備による発電量のうちの自家消費分 (kWh/h)\n",
    "    :type E_E_PV_h_d_t: ndarray\n",
    "    :param E_E_CG_h_d_t: 1時間当たりのコージェネレーション設備による発電量のうちの自家消費分 (kWh/h)\n",
    "    :type E_E_CG_h_d_t: ndarray\n",
    "    :return: 1年あたりのエネルギー利用効率化設備による発電量のうちの自家消費分に係る一次エネルギー消費量の控除量 (MJ/yr)\n",
    "    :rtype: float\n",
    "    \"\"\"\n",
    "    \n",
    "    # 電気の量 1kWh を熱量に換算する係数 (kJ/kWh)\n",
    "    f_prim = get_f_prim()\n",
    "\n",
    "    # 1年あたりのエネルギー利用効率化設備による発電量のうちの自家消費分に係る一次エネルギー消費量の控除量 (MJ/yr)\n",
    "    E_S_h = np.sum(E_E_PV_h_d_t + E_E_CG_h_d_t) * f_prim * 1e-3\n",
    "\n",
    "    return E_S_h\n"
   ]
  },
  {
   "cell_type": "markdown",
   "metadata": {},
   "source": [
    "$$\n",
    "\\large E_{S,sell} = E_{G,CG,sell}\n",
    "$$"
   ]
  },
  {
   "cell_type": "markdown",
   "metadata": {},
   "source": [
    "$E_{S,sell}$：1 年当たりのコージェネレーション設備による売電量に係る設計一次エネルギー消費量の控除量(MJ/年) / Deduction of design primary energy consumption related to the amount of electricity sold by cogeneration equipment per year   \n",
    "$E_{G,CG,sell}$：1 年当たりのコージェネレーション設備による売電量に係るガス消費量の控除量(MJ/年) / Deduction of gas consumption amount related to power sales volume by cogeneration facility per year   "
   ]
  },
  {
   "cell_type": "code",
   "execution_count": null,
   "metadata": {},
   "outputs": [],
   "source": [
    "def get_E_S_sell(E_G_CG_sell):\n",
    "    \"\"\"1年当たりのコージェネレーション設備の売電量に係る設計一次エネルギー消費量の控除量 (MJ/yr) (16)\n",
    "    \n",
    "    :param E_G_CG_sell: 1年当たりのコージェネレーション設備の売電量に係る設計一次エネルギー消費量の控除量 (MJ/yr)\n",
    "    :type E_G_CG_sell: float\n",
    "    :return: 1年当たりのコージェネレーション設備の売電量に係る設計一次エネルギー消費量の控除量 (MJ/yr\n",
    "    :rtype: float\n",
    "    \"\"\"\n",
    "    \n",
    "    return E_G_CG_sell\n"
   ]
  },
  {
   "cell_type": "markdown",
   "metadata": {},
   "source": [
    "#### 12.1 太陽光発電設備による発電量のうちの自家消費分 / In-house consumption of the amount of electricity generated by the photovoltaic power generation facility"
   ]
  },
  {
   "cell_type": "markdown",
   "metadata": {},
   "source": [
    "太陽光発電設備を採用しない場合"
   ]
  },
  {
   "cell_type": "markdown",
   "metadata": {},
   "source": [
    "When not using solar power generation equipment"
   ]
  },
  {
   "cell_type": "markdown",
   "metadata": {},
   "source": [
    "$$\n",
    "\\large \n",
    "E_{E,PV,h,d,t} = 0\n",
    "$$"
   ]
  },
  {
   "cell_type": "markdown",
   "metadata": {},
   "source": [
    "太陽光発電設備を採用する場合"
   ]
  },
  {
   "cell_type": "markdown",
   "metadata": {},
   "source": [
    "When adopting a solar power generation facility"
   ]
  },
  {
   "cell_type": "markdown",
   "metadata": {},
   "source": [
    "$$\n",
    "\\large \n",
    "E_{E,PV,h,d,t} = min(E_{E,PV,d,t}, E_{E,dmd,d,t} - E_{E,CG,h,d,t})\n",
    "$$"
   ]
  },
  {
   "cell_type": "markdown",
   "metadata": {},
   "source": [
    "$E_{E,PV,h,d,t}$：日付$d$の時刻$t$における1 時間当たりの太陽光発電設備による発電量のうちの自家消費分(kWh/h) / Of the amount of power generated by the photovoltaic power generation facility per hour at time $ t $ on date $ d $    \n",
    "$E_{E,PV,d,t}$：日付$d$の時刻$t$における1 時間当たりの太陽光発電設備による発電量(kWh/h) / The amount of power generated by the solar power generation facility per hour at the time $ t $ of the date $ d $  \n",
    "$E_{E,dmd,d,t}$：日付$d$の時刻$t$における1 時間当たりの電力需要(kWh/h) / Power demand per hour at time $ t $ on date $ d $   \n",
    "$E_{E,CG,h,d,t}$：日付$d$の時刻$t$における1 時間当たりのコージェネレーション設備による発電量(kWh/h) / Amount of power generated by the cogeneration facility per hour at time $ t $ of date $ d $   "
   ]
  },
  {
   "cell_type": "code",
   "execution_count": null,
   "metadata": {},
   "outputs": [],
   "source": [
    "def get_E_E_PV_h_d_t(E_E_PV_d_t, E_E_dmd_d_t, E_E_CG_h_d_t, has_PV):\n",
    "    \"\"\"1 時間当たりの太陽光発電設備による発電炉湯のうちの自家消費分 (kWh/h) (17-1)(17-2)\n",
    "    \n",
    "    :param E_E_PV_d_t: 1時間当たりの太陽光発電設備による発電量のうちの自家消費分 (kWh/h)\n",
    "    :type E_E_PV_d_t: ndarray\n",
    "    :param E_E_dmd_d_t: 1時間当たりの太陽光発電設備による発電量 (kWh/h)\n",
    "    :type E_E_dmd_d_t: ndarray\n",
    "    :param E_E_CG_h_d_t: 1時間当たりのコージェネレーション設備による発電量のうちの自家消費分 (kWh/h)\n",
    "    :type E_E_CG_h_d_t: ndarray\n",
    "    :param has_PV: 太陽光発電設備を採用する場合はTrue\n",
    "    :type has_PV: bool\n",
    "    :return: 1 時間当たりの太陽光発電設備による発電炉湯のうちの自家消費分 (kWh/h)\n",
    "    :rtype: float\n",
    "    \"\"\"\n",
    "    \n",
    "    if has_PV == False:\n",
    "        # 太陽光発電設備を採用しない場合 (17-1)\n",
    "        E_E_PV_h_d_t = np.zeros_like(E_E_PV_d_t)\n",
    "    else:\n",
    "        # 太陽光発電設備を採用する場合 (17-2)\n",
    "        E_E_PV_h_d_t = np.minimum(E_E_PV_d_t, E_E_dmd_d_t - E_E_CG_h_d_t)\n",
    "\n",
    "    return E_E_PV_h_d_t\n"
   ]
  },
  {
   "cell_type": "markdown",
   "metadata": {},
   "source": [
    "#### 12.2 コージェネレーション設備による発電量のうちの自家消費分 / In-house consumption of power generation by cogeneration equipment"
   ]
  },
  {
   "cell_type": "markdown",
   "metadata": {},
   "source": [
    "$$\n",
    "\\large \n",
    "E_{E,CG,h} = \\sum_{d=1}^{365} \\sum_{t=0}^{23} E_{E,CG,h,d,t}\n",
    "$$"
   ]
  },
  {
   "cell_type": "markdown",
   "metadata": {},
   "source": [
    "$E_{E,CG,h}$：1 年当たりのコージェネレーション設備による発電量のうちの自家消費分(kWh/年) / In-house consumption of power generated by cogeneration facilities per year    \n",
    "$E_{E,CG,h,d,t}$：日付$d$の時刻$t$における1 時間当たりのコージェネレーション設備による発電量のうちの自家消費分(kWh/h) / Of the power generated by the cogeneration facility per hour at time $ t $ on date $ d $  "
   ]
  },
  {
   "cell_type": "code",
   "execution_count": null,
   "metadata": {},
   "outputs": [],
   "source": [
    "def get_E_E_CG_h(E_E_CG_h_d_t):\n",
    "    \"\"\"1年当たりのコージェネレーション設備による発電量のうちの自家消費分 (kWh/yr) (18)\n",
    "    \n",
    "    :param E_E_CG_h_d_t: 1時間当たりのコージェネレーション設備による発電量のうちの自家消費分 (kWh/h)\n",
    "    :type E_E_CG_h_d_t: ndarray\n",
    "    :return: 1年当たりのコージェネレーション設備による発電量のうちの自家消費分 (kWh/yr)\n",
    "    :rtype: float\n",
    "    \"\"\"\n",
    "    \n",
    "    return np.sum(E_E_CG_h_d_t)\n"
   ]
  },
  {
   "cell_type": "markdown",
   "metadata": {},
   "source": [
    "コージェネレーション設備を採用しない場合"
   ]
  },
  {
   "cell_type": "markdown",
   "metadata": {},
   "source": [
    "When not using cogeneration equipment"
   ]
  },
  {
   "cell_type": "markdown",
   "metadata": {},
   "source": [
    "$$\n",
    "\\large \n",
    "E_{E,CG,h,d,t} = 0\n",
    "$$"
   ]
  },
  {
   "cell_type": "markdown",
   "metadata": {},
   "source": [
    "コージェネレーション設備を採用する場合"
   ]
  },
  {
   "cell_type": "markdown",
   "metadata": {},
   "source": [
    "When adopting cogeneration equipment"
   ]
  },
  {
   "cell_type": "markdown",
   "metadata": {},
   "source": [
    "$$\n",
    "\\large \n",
    "E_{E,CG,h,d,t} = min(E_{E,CG,gen,d,t}, E_{E,dmd,d,t})\n",
    "$$"
   ]
  },
  {
   "cell_type": "markdown",
   "metadata": {},
   "source": [
    "$E_{E,CG,h,d,t}$：日付$d$の時刻$t$における1 時間当たりのコージェネレーション設備による発電量のうちの自家消費分(kWh/h) / Of the power generated by the cogeneration facility per hour at time $ t $ on date $ d $  \n",
    "$E_{E,dmd,d,t}$：日付$d$の時刻$t$における1 時間当たりの電力需要(kWh/h) / Power demand per hour at time $ t $ on date $ d $   \n",
    "$E_{E,CG,gen,d,t}$：日付$d$の時刻$t$における1 時間当たりのコージェネレーション設備による発電量(kWh/h) / Amount of power generated by the cogeneration facility per hour at time $ t $ of date $ d $   "
   ]
  },
  {
   "cell_type": "code",
   "execution_count": null,
   "metadata": {},
   "outputs": [],
   "source": [
    "def get_E_E_CG_h_d_t(E_E_CG_gen_d_t, E_E_dmd_d_t, has_CG):\n",
    "    \"\"\"1時間当たりのコージェネレーション設備による発電量のうちの自家消費分 (kWh/h) (19-1)(19-2)\n",
    "    \n",
    "    :param E_E_CG_gen_d_t: 1時間当たりのコージェネレーション設備による発電のうちの自家消費分 (kWh/h)\n",
    "    :type E_E_CG_gen_d_t: ndarray\n",
    "    :param E_E_dmd_d_t: 1時間当たりの電力需要 (kWh/h)\n",
    "    :type E_E_dmd_d_t: ndarray\n",
    "    :param has_CG: [description]\n",
    "    :type has_CG: bool\n",
    "    :return: 1時間当たりのコージェネレーション設備による発電量のうちの自家消費分 (kWh/h)\n",
    "    :rtype: ndarray\n",
    "    \"\"\"\n",
    "\n",
    "    if has_CG == False:\n",
    "        # コージェネレーション設備を採用しない場合 (19-1)\n",
    "        E_E_CG_h_d_t = np.zeros_like(E_E_CG_gen_d_t)\n",
    "    else:\n",
    "        # コージェネレーション設備を採用する場合 (19-2)\n",
    "        E_E_CG_h_d_t = np.minimum(E_E_CG_gen_d_t, E_E_dmd_d_t)\n",
    "    return E_E_CG_h_d_t\n"
   ]
  },
  {
   "cell_type": "markdown",
   "metadata": {},
   "source": [
    "#### 12.3 コージェネレーション設備による売電量に係るガス消費量の控除量 / Deduction amount of gas consumption amount related to power sales amount by cogeneration facility"
   ]
  },
  {
   "cell_type": "markdown",
   "metadata": {},
   "source": [
    "コージェネレーション設備を採用しない場合"
   ]
  },
  {
   "cell_type": "markdown",
   "metadata": {},
   "source": [
    "When not using cogeneration equipment"
   ]
  },
  {
   "cell_type": "markdown",
   "metadata": {},
   "source": [
    "$$\n",
    "\\large \n",
    "E_{E,CG,sell} = 0\n",
    "$$"
   ]
  },
  {
   "cell_type": "markdown",
   "metadata": {},
   "source": [
    "コージェネレーション設備を採用する場合"
   ]
  },
  {
   "cell_type": "markdown",
   "metadata": {},
   "source": [
    "When adopting cogeneration equipment"
   ]
  },
  {
   "cell_type": "markdown",
   "metadata": {},
   "source": [
    "$$\n",
    "\\large \n",
    "E_{E,CG,sell} = E_{G,CG,ded} \\times \\frac{E_{CG,sell}}{E_{CG,sell}+(E_{E,CG,self}+E_{E,CG,h}) \\times f_{prim} \\times 10^{-3} + Q_{CG,h} \\div e_{BB,ave}}\n",
    "$$"
   ]
  },
  {
   "cell_type": "markdown",
   "metadata": {},
   "source": [
    "$E_{CG,sell}$：1 年当たりのコージェネレーション設備による売電量（一次エネルギー）(MJ/年) / Amount of power sold by cogeneration facilities per year (primary energy)  \n",
    "$E_{E,CG,self}$：1 年当たりのコージェネレーション設備による発電量のうちの自己消費分(kWh/年) / Of the amount of power generated by cogeneration facilities per year, for consumption  \n",
    "$E_{E,CG,h}$：1 年当たりのコージェネレーション設備による発電量のうちの自家消費分(kWh/年) / In-house consumption of power generated by cogeneration facilities per year  \n",
    "$E_{G,CG,sell}$：1 年当たりのコージェネレーション設備による売電量に係るガス消費量の控除量(MJ/年) / Deduction of gas consumption amount related to power sales volume by cogeneration facility per year  \n",
    "$E_{G,CG,ded}$：1 年当たりのコージェネレーション設備のガス消費量のうちの売電に係る控除対象分(MJ/年) / Of the gas consumption of the cogeneration facility per year, deductible for the sale of electricity  \n",
    "$e_{BB,ave}$：コージェネレーション設備の給湯時のバックアップボイラーの年間平均効率(-) / Annual average efficiency of backup boiler during hot water supply of cogeneration facility  \n",
    "$f_{prim}$：電気の量1kWhを熱量に換算する係数（第二章第一節付録 B）(kJ/kWh) / A factor to convert 1 kWh of electricity to heat (Chapter 2, Section 1 Appendix B)  \n",
    "$Q_{CG,h}$：1 年当たりのコージェネレーション設備による製造熱量のうちの自家消費算入分(MJ/年) / Of consumption heat generated by cogeneration facility per year, including consumption by house   "
   ]
  },
  {
   "cell_type": "code",
   "execution_count": null,
   "metadata": {},
   "outputs": [],
   "source": [
    "def calc_E_G_CG_sell(E_CG_sell, E_E_CG_self, E_E_CG_h, E_G_CG_ded, e_BB_ave, Q_CG_h, has_CG):\n",
    "    \"\"\"1年当たりのコージェネレーション設備による売電量に係るガス消費量の控除量 (MJ/yr) (20)\n",
    "    \n",
    "    :param E_CG_sell: 1年当たりのコージェネレーション設備による売電量(一次エネルギー換算値) (MJ/yr)\n",
    "    :type E_CG_sell: float\n",
    "    :param E_E_CG_self: 1年当たりのコージェネレーション設備による発電量のうちの自己消費分 (kWh/yr)\n",
    "    :type E_E_CG_self: float\n",
    "    :param E_E_CG_h: 1年当たりのコージェネレーション設備による発電量のうちの自家消費分 (kWh/yr)\n",
    "    :type E_E_CG_h: float\n",
    "    :param E_G_CG_ded: 1年当たりのコージェネレーション設備のガス消費量のうちの売電に係る控除対象分 (MJ/yr)\n",
    "    :type E_G_CG_ded: float\n",
    "    :param e_BB_ave: コージェネレーション設備の給湯時のバックアップボイラーの年間平均効率 (-)\n",
    "    :type e_BB_ave: float\n",
    "    :param Q_CG_h: 1年当たりのコージェネレーション設備による製造熱量のうちの自家消費算入分 (MJ/yr)\n",
    "    :type Q_CG_h: float\n",
    "    :param has_CG: コージェネレーション設備を採用する場合はTrue\n",
    "    :type has_CG: bool\n",
    "    :return: 1年当たりのコージェネレーション設備による売電量に係るガス消費量の控除量 (MJ/yr)\n",
    "    :rtype: float\n",
    "    \"\"\"\n",
    "    \n",
    "    if has_CG == False:\n",
    "        # コージェネレーション設備を採用しない場合 (20-1)\n",
    "        E_E_CG_d_t = np.zeros_like(E_CG_sell)\n",
    "    else:\n",
    "        # 電気の量 1kWh を熱量に換算する係数\n",
    "        f_prim = get_f_prim()\n",
    "\n",
    "        # コージェネレーション設備を採用する場合 (20-2)\n",
    "        denominator = E_CG_sell + (E_E_CG_self + E_E_CG_h) * f_prim * 1e-3 + Q_CG_h / e_BB_ave\n",
    "        E_E_CG_d_t = E_G_CG_ded * (E_CG_sell / denominator)\n",
    "\n",
    "    return E_E_CG_d_t\n"
   ]
  },
  {
   "cell_type": "markdown",
   "metadata": {},
   "source": [
    "$$\n",
    "\\large E_S = E_{S,h} + E_{S,sell}\n",
    "$$"
   ]
  },
  {
   "cell_type": "markdown",
   "metadata": {},
   "source": [
    "$E_S$：1 年当たりのエネルギー利用効率化設備による設計一次エネルギー消費量の削減量(MJ/年) / Reduction of design primary energy consumption by energy utilization efficiency facility per year   \n",
    "$E_{S,h}$：1 年当たりのエネルギー利用効率化設備による発電量のうちの自家消費分に係る設計一次エネルギー消費量の削減量(MJ/年) / Design primary energy consumption reduction related to the self-consumption among the power generation capacity by the energy utilization efficiency improvement facility per year   \n",
    "$E_{S,sell}$：1 年当たりのコージェネレーション設備による売電量に係る設計一次エネルギー消費量の控除量(MJ/年) / Deduction of design primary energy consumption related to the amount of electricity sold by cogeneration equipment per year   "
   ]
  },
  {
   "cell_type": "code",
   "execution_count": null,
   "metadata": {},
   "outputs": [],
   "source": [
    "def get_E_S(E_S_h, E_S_sell):\n",
    "    \"\"\"1年当たりのエネルギー利用効率化設備による設計一次エネルギー消費量の削減量 (MJ/yr) (14)\n",
    "    \n",
    "    :param E_S_h: 1年当たりのエネルギー利用効率化設備による設計一次エネルギー消費量の削減量 (MJ/yr)\n",
    "    :type E_S_h: float\n",
    "    :param E_S_sell: 1年当たりのエネルギー利用効率化設備による設計一次エネルギー消費量の削減量 (MJ/yr)\n",
    "    :type E_S_sell: float\n",
    "    :return: 1年当たりのエネルギー利用効率化設備による設計一次エネルギー消費量の削減量 (MJ/yr) (14)\n",
    "    :rtype: float\n",
    "    \"\"\"\n",
    "    \n",
    "    return E_S_h + E_S_sell\n"
   ]
  },
  {
   "cell_type": "markdown",
   "metadata": {},
   "source": [
    "#### 12.4 太陽光発電設備による売電量（参考）  / Electricity sales amount by photovoltaic power generation equipment (reference)"
   ]
  },
  {
   "cell_type": "markdown",
   "metadata": {},
   "source": [
    "$$\n",
    "\\large \n",
    "E_{PV,sell} = \\sum_{d=1}^{365}{\\sum_{t=0}^{23}{E_{E,PV,sell,d,t} \\times f_{prim} \\times 10^{-3} }}\n",
    "$$"
   ]
  },
  {
   "cell_type": "markdown",
   "metadata": {},
   "source": [
    "$E_{PV,sell}$：1 年当たりの太陽光発電設備による売電量（一次エネルギー）(MJ/年) / The amount of electricity sold by solar power generation facilities per year (primary energy)   \n",
    "$E_{E,PV,sell,d,t}$：日付$d$の時刻$t$における1 時間当たりの太陽光発電設備による売電量（二次エネルギー）(kWh/h) / The amount of electricity sold by the solar power generation facility per hour at time $ t $ on date $ d $ (secondary energy)   \n",
    "$f_{prim}$：電気の量 1kWh を熱量に換算する係数（第二章第一節付録 B）(kJ/kWh) / Factor to convert 1kWh of electricity into heat quantity (Chapter 2 Section 1 Appendix B)  "
   ]
  },
  {
   "cell_type": "code",
   "execution_count": null,
   "metadata": {},
   "outputs": [],
   "source": [
    "def calc_E_PV_sell():\n",
    "    \"\"\" 1 年当たりの太陽光発電設備による売電量（一次エネルギー換算値） (21)\n",
    "    \n",
    "    :return: 1 年当たりの太陽光発電設備による売電量（一次エネルギー換算値）(MJ/yr)\n",
    "    :rtype: float\n",
    "    \"\"\"\n",
    "\n",
    "    # 電気の量 1kWh を熱量に換算する係数 (kJ/kWh) (s2-1-b)\n",
    "    f_prim = get_f_prim()\n",
    "\n",
    "    # 1 時間当たりの太陽光発電設備による売電量（二次エネルギー）(kWh/h) (22)\n",
    "    E_E_PV_sell_d_t = calc_E_E_PV_sell_d_t()\n",
    "\n",
    "    # 1 年当たりの太陽光発電設備による売電量（一次エネルギー換算値）(MJ/yr) (21)\n",
    "    E_PV_sell = np.sum(E_E_PV_sell_d_t) * f_prim * 1e-3\n",
    "\n",
    "    return E_PV_sell\n"
   ]
  },
  {
   "cell_type": "markdown",
   "metadata": {},
   "source": [
    "$$\n",
    "\\large \n",
    "E_{E,PV,sell,d,t} = E_{E,PV,d,t} - E_{E,PV,h,d,t}\n",
    "$$"
   ]
  },
  {
   "cell_type": "markdown",
   "metadata": {},
   "source": [
    "$E_{E,PV,d,t}$：日付$d$の時刻$t$における1 時間当たりの太陽光発電設備による発電量(kWh/h) / The amount of power generated by the solar power generation facility per hour at the time $ t $ of the date $ d $  \n",
    "$E_{E,PV,h,d,t}$：日付$d$の時刻$t$における1 時間当たりの太陽光発電設備による発電量のうちの自家消費分(kWh/h) / Of the amount of power generated by the photovoltaic power generation facility per hour at time $ t $ on date $ d $   \n",
    "$E_{E,PV,sell,d,t}$：日付$d$の時刻$t$における1 時間当たりの太陽光発電設備による売電量（二次エネルギー）(kWh/h) / The amount of electricity sold by the solar power generation facility per hour at time $ t $ on date $ d $ (secondary energy)  "
   ]
  },
  {
   "cell_type": "code",
   "execution_count": null,
   "metadata": {},
   "outputs": [],
   "source": [
    "def calc_E_E_PV_sell_d_t():\n",
    "    \"\"\"1 時間当たりの太陽光発電設備による売電量（二次エネルギー）(kWh/h) (22)\n",
    "    \n",
    "    :return: 1 時間当たりの太陽光発電設備による売電量（二次エネルギー）(kWh/h)\n",
    "    :rtype: float\n",
    "    \"\"\"\n",
    "\n",
    "    # 太陽光発電設備の発電量 (s9-1 1)\n",
    "    E_E_PV_d_t = calc_E_E_PV_d_t()\n",
    "\n",
    "    # 1 時間当たりの太陽光発電設備による発電炉湯のうちの自家消費分 (kWh/h) (17-1)(17-2)\n",
    "    E_E_PV_h_d_t = get_E_E_PV_h_d_t()\n",
    "\n",
    "    # 1 時間当たりの太陽光発電設備による売電量（二次エネルギー）(kWh/h) (22)\n",
    "    E_E_PV_sell_d_t = E_E_PV_d_t - E_E_PV_h_d_t\n",
    "\n",
    "    return E_E_PV_sell_d_t\n"
   ]
  },
  {
   "cell_type": "markdown",
   "metadata": {},
   "source": [
    "#### 12.5 コージェネレーション設備による売電量（参考） / Sales amount by cogeneration equipment (reference) "
   ]
  },
  {
   "cell_type": "markdown",
   "metadata": {},
   "source": [
    "$$\n",
    "\\large \n",
    "E_{CG,sell} = \\sum_{d=1}^{365}{\\sum_{t=0}^{23}{E_{E,CG,sell,d,t} \\times f_{prim} \\times 10^{-3} }}\n",
    "$$"
   ]
  },
  {
   "cell_type": "markdown",
   "metadata": {},
   "source": [
    "$E_{CG,sell}$：1 年当たりのコージェネレーション設備による売電量（一次エネルギー）(MJ/年) / Amount of power sold by cogeneration facilities per year (primary energy)   \n",
    "$E_{E,CG,sell,d,t}$：日付$d$の時刻$t$における1 時間当たりのコージェネレーション設備による売電量（二次エネルギー）(kWh/h) / Amount of power sold by cogeneration equipment per hour at time $ t $ on date $ d $ (secondary energy)   \n",
    "$f_{prim}$：電気の量1kWhを熱量に換算する係数(kJ/kWh) / A factor to convert 1 kWh of electricity into heat  "
   ]
  },
  {
   "cell_type": "code",
   "execution_count": null,
   "metadata": {},
   "outputs": [],
   "source": [
    "def calc_E_CG_sell(E_E_CG_sell_d_t):\n",
    "    \"\"\"1年当たりのコージェネレーション設備による売電量（一次エネルギー換算値）(MJ/yr) (23)\n",
    "    \n",
    "    :param E_E_CG_sell_d_t: 1時間当たりのコージェネレーション設備による売電量(二次エネルギー) (kWh/h)\n",
    "    :type E_E_CG_sell_d_t: ndarray\n",
    "    :return: 1年当たりのコージェネレーション設備による売電量（一次エネルギー換算値）(MJ/yr)\n",
    "    :rtype: float\n",
    "    \"\"\"\n",
    "    \n",
    "    # 電気の量 1kWh を熱量に換算する係数 (kJ/kWh) (s2-1-b)\n",
    "    f_prim = get_f_prim()\n",
    "\n",
    "    # 1年当たりのコージェネレーション設備による売電量（一次エネルギー換算値）(MJ/yr) (23)\n",
    "    E_CG_sell = np.sum(E_E_CG_sell_d_t) * f_prim * 1e-3\n",
    "\n",
    "    return E_CG_sell\n"
   ]
  },
  {
   "cell_type": "markdown",
   "metadata": {},
   "source": [
    "逆潮流を行わない場合"
   ]
  },
  {
   "cell_type": "markdown",
   "metadata": {},
   "source": [
    "When not doing reverse power flow"
   ]
  },
  {
   "cell_type": "markdown",
   "metadata": {},
   "source": [
    "$$\n",
    "\\large \n",
    "E_{E,CG,sell,d,t} = 0\n",
    "$$"
   ]
  },
  {
   "cell_type": "markdown",
   "metadata": {},
   "source": [
    "逆潮流を行う場合"
   ]
  },
  {
   "cell_type": "markdown",
   "metadata": {},
   "source": [
    "In case of reverse power flow"
   ]
  },
  {
   "cell_type": "markdown",
   "metadata": {},
   "source": [
    "$$\n",
    "\\large \n",
    "E_{E,CG,sell,d,t} = E_{E,CG,gen,d,t} - E_{E,CG,h,d,t}\n",
    "$$"
   ]
  },
  {
   "cell_type": "markdown",
   "metadata": {},
   "source": [
    "$E_{E,CG,gen,d,t}$：日付$d$の時刻$t$における1 時間当たりのコージェネレーション設備による発電量(kWh/h) / Amount of power generated by the cogeneration facility per hour at time $ t $ of date $ d $   \n",
    "$E_{E,CG,h,d,t}$：日付$d$の時刻$t$における1 時間当たりのコージェネレーション設備による発電量のうちの自家消費分(kWh/h) / Of the power generated by the cogeneration facility per hour at time $ t $ on date $ d $   \n",
    "$E_{E,CG,sell,d,t}$：日付$d$の時刻$t$における1 時間当たりのコージェネレーション設備による売電量（二次エネルギー）(kWh/h) / Amount of power sold by cogeneration equipment per hour at time $ t $ on date $ d $ (secondary energy)   "
   ]
  },
  {
   "cell_type": "code",
   "execution_count": null,
   "metadata": {},
   "outputs": [],
   "source": [
    "def get_E_E_CG_sell_d_t(E_E_CG_gen_d_t, E_E_CG_h_d_t, has_CG_reverse):\n",
    "    \"\"\"1時間当たりのコージェネレーション設備による売電量(二次エネルギー) (kWh/h) (24-1)(24-2)\n",
    "    \n",
    "    :param E_E_CG_gen_d_t: 1時間当たりのコージェネレーション設備による発電量 (kWh/h)\n",
    "    :type E_E_CG_gen_d_t: ndarray\n",
    "    :param E_E_CG_h_d_t: 1時間当たりのコージェネレーション設備による発電量のうちの自家消費分 (kWh/h)\n",
    "    :type E_E_CG_h_d_t: ndarray\n",
    "    :param has_CG_reverse: コージェネレーション設備が逆潮流を行う場合はTrue\n",
    "    :type has_CG_reverse: bool\n",
    "    :return: 1時間当たりのコージェネレーション設備による売電量(二次エネルギー) (kWh/h)\n",
    "    :rtype: ndarray\n",
    "    \"\"\"\n",
    "\n",
    "    if has_CG_reverse == False:\n",
    "        # 逆潮流を行わない場合 (24-1)\n",
    "        E_E_CG_sell_d_t = np.zeros_like(E_E_CG_gen_d_t)\n",
    "    else:\n",
    "        # 逆潮流を行う場合 (24-2)\n",
    "        E_E_CG_sell_d_t = E_E_CG_gen_d_t - E_E_CG_h_d_t\n",
    "    return E_E_CG_sell_d_t\n"
   ]
  },
  {
   "cell_type": "markdown",
   "metadata": {},
   "source": [
    "### 13．設計二次エネルギー消費量 / Design secondary energy consumption"
   ]
  },
  {
   "cell_type": "markdown",
   "metadata": {},
   "source": [
    "$$\n",
    "\\displaystyle E_E = \\sum_{d=1}^{365}{\\sum_{t=0}^{23}{E_{E,H,d,t} }} + \\sum_{d=1}^{365}{\\sum_{t=0}^{23}{E_{E,C,d,t} }} + \\sum_{d=1}^{365}{\\sum_{t=0}^{23}{E_{E,V,d,t} }} + \\sum_{d=1}^{365}{\\sum_{t=0}^{23}{E_{E,L,d,t} }} + \\sum_{d=1}^{365}{\\sum_{t=0}^{23}{E_{E,W,d,t} }} + \\sum_{d=1}^{365}{\\sum_{t=0}^{23}{E_{E,AP,d,t} }} + \\sum_{d=1}^{365}{\\sum_{t=0}^{23}{E_{E,CC,d,t} }} - \\sum_{d=1}^{365}{\\sum_{t=0}^{23}{E_{E,PV,h,d,t} }} - \\sum_{d=1}^{365}{\\sum_{t=0}^{23}{E_{E,CG,h,d,t} }}\n",
    "$$"
   ]
  },
  {
   "cell_type": "markdown",
   "metadata": {},
   "source": [
    "$E_{E}$：1 年当たりの設計消費電力量(kWh/年) / Design power consumption per year   \n",
    "$E_{E,H,d,t}$：日付$d$の時刻$t$における1 時間当たりの暖房設備の消費電力量(kWh/h) / Power consumption of heating equipment per hour at time $ t $ of date $ d $    \n",
    "$E_{E,C,d,t}$：日付$d$の時刻$t$における1 時間当たりの冷房設備の消費電力量(kWh/h) / Power consumption of cooling system per hour at time $ t $ of date $ d $    \n",
    "$E_{E,V,d,t}$：日付$d$の時刻$t$における1 時間当たりの機械換気設備の消費電力量(kWh/h) / Power consumption of mechanical ventilation equipment per hour at time $ t $ of date $ d $    \n",
    "$E_{E,L,d,t}$：日付$d$の時刻$t$における1 時間当たりの照明設備の消費電力量(kWh/h) / Power consumption of lighting fixtures per hour at time $ t $ on date $ d $    \n",
    "$E_{E,W,d,t}$：日付$d$の時刻$t$における1 時間当たりの給湯設備の消費電力量(kWh/h) / Power consumption of water heater per hour at time $ t $ on date $ d $    \n",
    "$E_{E,AP,d,t}$：日付$d$の時刻$t$における1 時間当たりの家電の消費電力量(kWh/h) / Power consumption of household appliances per hour at time $ t $ of date $ d $    \n",
    "$E_{E,CC,d,t}$：日付$d$の時刻$t$における1 時間当たりの調理の消費電力量(kWh/h) / Cooking power consumption per hour at time $ t $ on date $ d $    \n",
    "$E_{E,PV,h,d,t}$：日付$d$の時刻$t$における1 時間当たりの太陽光発電設備による発電量のうちの自家消費分(kWh/h) / Of the amount of power generated by the photovoltaic power generation facility per hour at time $ t $ on date $ d $    \n",
    "$E_{E,CG,h,d,t}$：日付$d$の時刻$t$における1 時間当たりのコージェネレーション設備による発電量のうちの自家消費分(kWh/h) / Of the power generated by the cogeneration facility per hour at time $ t $ on date $ d $   "
   ]
  },
  {
   "cell_type": "markdown",
   "metadata": {},
   "source": [
    "1 年当たりの設計消費電力量$E_{E}$は、数値に小数点以下一位未満の端数があるときは、これを四捨五入する。 "
   ]
  },
  {
   "cell_type": "markdown",
   "metadata": {},
   "source": [
    "Design power consumption $ E_ {E} $ per year is rounded off if the number has a fraction less than one decimal place."
   ]
  },
  {
   "cell_type": "code",
   "execution_count": null,
   "metadata": {},
   "outputs": [],
   "source": [
    "def calc_E_E(region, sol_region, A_A, A_MR, A_OR, A_env, HW, Q, TS, mu_H, mu_C, r_A_ufvnt, underfloor_insulation,\n",
    "            NV_MR, NV_OR, mode_H, mode_C,\n",
    "            V, L,\n",
    "            H_A=None,\n",
    "            H_MR=None, H_OR=None, H_HS=None,\n",
    "            CG=None,\n",
    "            SHC=None,\n",
    "            L_T_H_d_t_i=None,\n",
    "            C_A=None, C_MR=None, C_OR=None, L_H_d_t=None,\n",
    "            L_CS_d_t=None, L_CL_d_t=None,\n",
    "            HEX=None, PV=None, solrad=None\n",
    "            ):\n",
    "    \"\"\" 1 年当たりの設計消費電力量（kWh/年）\n",
    "\n",
    "    :param region: 省エネルギー地域区分\n",
    "    :type region: int\n",
    "    :param sol_region: 年間日射地域区分(1-5)\n",
    "    :type sol_region: int\n",
    "    :param A_A: 床面積の合計 (m2)\n",
    "    :type A_A: float\n",
    "    :param A_MR: 主たる居室の床面積 (m2)\n",
    "    :type A_MR: float\n",
    "    :param A_OR: その他の居室の床面積 (m2)\n",
    "    :type A_OR: float\n",
    "    :param HW: 給湯機の仕様\n",
    "    :type HW: dict\n",
    "    :param Q: 当該住戸の熱損失係数 (W/m2K)\n",
    "    :type Q: float\n",
    "    :param TS: 蓄熱\n",
    "    :type TS: bool\n",
    "    :param mu_H: 断熱性能の区分݆における日射取得性能の区分݇の暖房期の日射取得係数\n",
    "    :type mu_H: float\n",
    "    :param mu_C: 断熱性能の区分݆における日射取得性能の区分݇の冷房期の日射取得係数\n",
    "    :type mu_C: float\n",
    "    :param r_A_ufvnt: 床下換気\n",
    "    :type r_A_ufvnt: float\n",
    "    :param underfloor_insulation: 床下空間が断熱空間内である場合はTrue\n",
    "    :type underfloor_insulation: bool\n",
    "    :param NV_MR: 主たる居室における通風の利用における相当換気回数\n",
    "    :type NV_MR: float\n",
    "    :param NV_OR: その他の居室における通風の利用における相当換気回数\n",
    "    :type NV_OR: float\n",
    "    :param mode_H: 暖房方式\n",
    "    :type mode_H: str\n",
    "    :param mode_C: 冷房方式\n",
    "    :type mode_C: str\n",
    "    :param V: 換気設備仕様辞書\n",
    "    :type V: dict\n",
    "    :param L: 照明設備仕様辞書\n",
    "    :type L: dict\n",
    "    :param H_A: 暖房方式, defaults to None\n",
    "    :type H_A: dict, optional\n",
    "    :param H_MR: 暖房機器の仕様, defaults to None\n",
    "    :type H_MR: dict, optional\n",
    "    :param H_OR: 暖房機器の仕様, defaults to None\n",
    "    :type H_OR: dict, optional\n",
    "    :param H_HS: 温水暖房機の仕様, defaults to None\n",
    "    :type H_HS: dict, optional\n",
    "    :param CG: コージェネレーションの機器, defaults to None\n",
    "    :type CG: dict, optional\n",
    "    :param SHC: 集熱式太陽熱利用設備の仕様, defaults to None\n",
    "    :type SHC: dict, optional\n",
    "    :param L_H_A_d_t: 暖房負荷, defaults to None\n",
    "    :type L_H_A_d_t: ndarray, optional\n",
    "    :param L_T_H_d_t_i: 暖房区画i=1-5それぞれの暖房負荷 defaults to None\n",
    "    :type L_T_H_d_t_i: ndarray, optional\n",
    "    :param C_A: [description], defaults to None\n",
    "    :type C_A: [type], optional\n",
    "    :param C_MR: [description], defaults to None\n",
    "    :type C_MR: [type], optional\n",
    "    :param C_OR: [description], defaults to None\n",
    "    :type C_OR: [type], optional\n",
    "    :param L_CS_A_d_t: 冷房負荷, defaults to None\n",
    "    :type L_CS_A_d_t: ndarray, optional\n",
    "    :param L_CL_A_d_t: 冷房負荷, defaults to None\n",
    "    :type L_CL_A_d_t: ndarray, optional\n",
    "    :param L_CS_d_t:  暖冷房区画の 1 時間当たりの冷房顕熱負荷, defaults to None\n",
    "    :type L_CS_d_t: ndarray, optional\n",
    "    :param L_CL_d_t:  暖冷房区画の 1 時間当たりの冷房潜熱負荷, defaults to None\n",
    "    :type L_CL_d_t: ndarray, optional\n",
    "    :param HEX: 熱交換器型設備仕様辞書, defaults to None\n",
    "    :type HEX: dict, optional\n",
    "    :param PV: 太陽光発電設備のリスト, defaults to None\n",
    "    :type PV: ndarray, optional\n",
    "    :param solrad: load_solrad の返り値, defaults to None\n",
    "    :type solrad: ndarray, optional\n",
    "    :return: 1 年当たりの設計消費電力量（kWh/年）\n",
    "    :rtype: 1 年当たりの設計消費電力量（kWh/年）\n",
    "    \"\"\"\n",
    "    # 想定人数\n",
    "    n_p = get_n_p(A_A)\n",
    "\n",
    "    # 実質的な暖房機器の仕様を取得\n",
    "    spec_MR, spec_OR = get_virtual_heating_devices(region, H_MR, H_OR)\n",
    "\n",
    "    # 実質的な温水暖房機の仕様を取得\n",
    "    spec_HS = get_virtual_heatsource(region, H_HS)\n",
    "\n",
    "    # 暖房方式及び運転方法の区分\n",
    "    mode_MR, mode_OR = calc_heating_mode(region=region, H_MR=spec_MR, H_OR=spec_OR)\n",
    "\n",
    "    # その他または設置しない場合\n",
    "    spec_HW = get_virtual_hotwater(region, HW)\n",
    "\n",
    "    # 温水暖房負荷の計算\n",
    "    L_HWH = calc_L_HWH(A_A, A_MR, A_OR, HEX, H_HS, H_MR, H_OR, Q, SHC, TS, mu_H, mu_C, NV_MR, NV_OR, r_A_ufvnt, region, sol_region,\n",
    "                       underfloor_insulation, CG)\n",
    "\n",
    "    # 暖房日の計算\n",
    "    heating_flag_d = calc_heating_flag_d(A_A, A_MR, A_OR, HEX, H_MR, H_OR, Q, SHC, TS, mu_H, mu_C, NV_MR, NV_OR, r_A_ufvnt, region,\n",
    "                                         sol_region, underfloor_insulation)\n",
    "\n",
    "    # 暖房設備の消費電力量\n",
    "    E_E_H_d_t = get_E_E_H_d_t(region, sol_region, A_A, A_MR, A_OR, A_env, mu_H, mu_C, Q,\n",
    "                              H_A, spec_MR, spec_OR, spec_HS, mode_MR, mode_OR, CG, SHC, heating_flag_d,\n",
    "                              L_T_H_d_t_i, L_CS_d_t, L_CL_d_t)\n",
    "\n",
    "    # 1時間当たりの冷房設備の消費電力量\n",
    "    E_E_C_d_t = calc_E_E_C_d_t(region, A_A, A_MR, A_OR, A_env, mu_H, mu_C, Q, C_A, C_MR, C_OR, L_T_H_d_t_i, L_CS_d_t, L_CL_d_t)\n",
    "\n",
    "    # 1 時間当たりの機械換気設備の消費電力量\n",
    "    E_E_V_d_t = calc_E_E_V_d_t(n_p, A_A, V, HEX)\n",
    "\n",
    "    # 1 時間当たりの照明設備の消費電力量\n",
    "    E_E_L_d_t = calc_E_E_L_d_t(n_p, A_A, A_MR, A_OR, L)\n",
    "\n",
    "    # 1日当たりの給湯設備の消費電力量\n",
    "    E_E_W_d_t = calc_E_E_W_d_t(n_p, L_HWH, heating_flag_d, region, sol_region, spec_HW, SHC)\n",
    "\n",
    "    # 1 時間当たりの家電の消費電力量\n",
    "    E_E_AP_d_t = calc_E_E_AP_d_t(n_p)\n",
    "\n",
    "    # 1 時間当たりの調理の消費電力量\n",
    "    E_E_CC_d_t = get_E_E_CC_d_t()\n",
    "\n",
    "    # 1時間当たりのコージェネレーション設備による発電量のうちの自家消費分 (kWh/h)\n",
    "    E_CG, E_E_CG_gen_d_t, E_E_CG_h_d_t, E_E_TU_aux_d_t, E_E_CG_h_d_t, E_G_CG_ded, e_BB_ave, Q_CG_h =\\\n",
    "        calc_E_W(A_A, region, sol_region, HW, SHC, CG, H_A, H_MR, H_OR, H_HS, C_A, C_MR,\n",
    "                C_OR,\n",
    "                                V, L, A_MR, A_OR, A_env, Q, mu_H, mu_C, NV_MR, NV_OR, TS,\n",
    "                                r_A_ufvnt, HEX, underfloor_insulation, mode_H, mode_C)\n",
    "\n",
    "    # 太陽光発電設備の発電量\n",
    "    E_E_PV_d_t = calc_E_E_PV_d_t(PV, solrad)\n",
    "    E_E_dmd_d_t = get_E_E_dmd_d_t(E_E_H_d_t, E_E_C_d_t, E_E_V_d_t, E_E_L_d_t, E_E_W_d_t, E_E_AP_d_t)\n",
    "    E_E_PV_h_d_t = get_E_E_PV_h_d_t(E_E_PV_d_t, E_E_dmd_d_t, E_E_CG_h_d_t, has_PV=PV != None)\n",
    "\n",
    "    E_E = sum(E_E_H_d_t) \\\n",
    "          + sum(E_E_C_d_t) \\\n",
    "          + sum(E_E_V_d_t) \\\n",
    "          + sum(E_E_L_d_t) \\\n",
    "          + sum(E_E_W_d_t) \\\n",
    "          + sum(E_E_AP_d_t) \\\n",
    "          + sum(E_E_CC_d_t) \\\n",
    "          - sum(E_E_PV_h_d_t) \\\n",
    "          - sum(E_E_CG_h_d_t)  # (25)\n",
    "\n",
    "    # 小数点以下一位未満の端数があるときは、これを四捨五入する。\n",
    "    return Decimal(E_E).quantize(Decimal('0.1'), rounding=ROUND_HALF_UP), E_E_PV_h_d_t, E_E_PV_d_t, E_E_CG_gen_d_t, E_E_CG_h_d_t, E_E_dmd_d_t, E_E_TU_aux_d_t\n"
   ]
  },
  {
   "cell_type": "markdown",
   "metadata": {},
   "source": [
    "$$\n",
    "\\displaystyle E_{G} = \\sum_{d=1}^{365}{\\sum_{t=0}^{23}{E_{G,H,d,t} }} + \\sum_{d=1}^{365}{\\sum_{t=0}^{23}{E_{G,C,d,t} }} + \\sum_{d=1}^{365}{\\sum_{t=0}^{23}{E_{G,W,d,t} }} + \\sum_{d=1}^{365}{\\sum_{t=0}^{23}{E_{G,CG,d,t} }} + \\sum_{d=1}^{365}{\\sum_{t=0}^{23}{E_{G,AP,d,t} }} + \\sum_{d=1}^{365}{\\sum_{t=0}^{23}{E_{G,CC,d,t} }} - E_{G,CG,sell}\n",
    "$$"
   ]
  },
  {
   "cell_type": "markdown",
   "metadata": {},
   "source": [
    "$E_{G}$：1 年当たりの設計ガス消費量(MJ/年) / Design gas consumption per year   \n",
    "$E_{G,H,d,t}$：日付$d$の時刻$t$における1 時間当たりの暖房設備のガス消費量(MJ/h) / Gas consumption of heating equipment per hour at time $ t $ on date $ d $    \n",
    "$E_{G,C,d,t}$：日付$d$の時刻$t$における1 時間当たりの冷房設備のガス消費量(MJ/h) / Cooling system gas consumption per hour at time $ t $ on date $ d $    \n",
    "$E_{G,W,d,t}$：日付$d$の時刻$t$における1 時間当たりの給湯設備のガス消費量(MJ/h) / Gas consumption of water heater per hour at time $ t $ on date $ d $    \n",
    "$E_{G,CG,d,t}$：日付$d$の時刻$t$における1 時間当たりのコージェネレーション設備のガス消費量(MJ/h) / Gas consumption of cogeneration facility per hour at time $ t $ of date $ d $   \n",
    "$E_{G,CG,sell}$：1 年当たりのコージェネレーション設備による売電量に係るガス消費量の控除量(MJ/年) / Deduction of gas consumption amount related to power sales volume by cogeneration facility per year   \n",
    "$E_{G,AP,d,t}$：日付$d$の時刻$t$における1 時間当たりの家電のガス消費量(MJ/h) / Gas consumption of household appliances per hour at time $ t $ on date $ d $    \n",
    "$E_{G,CC,d,t}$：日付$d$の時刻$t$における1 時間当たりの調理のガス消費量(MJ/h) / Cooking gas consumption per hour at time $ t $ on date $ d $    "
   ]
  },
  {
   "cell_type": "markdown",
   "metadata": {},
   "source": [
    "1 年当たりの設計ガス消費量$E_{G}$は、数値に小数点以下一位未満の端数があるときは、これを四捨五入する。 "
   ]
  },
  {
   "cell_type": "markdown",
   "metadata": {},
   "source": [
    "Design gas consumption $ E_ {G} $ per year is rounded off if the number has a fraction less than one decimal place."
   ]
  },
  {
   "cell_type": "code",
   "execution_count": null,
   "metadata": {},
   "outputs": [],
   "source": [
    "def calc_E_G(region, sol_region, A_A, A_MR, A_OR, A_env, Q, mu_H, mu_C, NV_MR, NV_OR, TS, r_A_ufvnt, HEX, underfloor_insulation,\n",
    "            H_A, H_MR, H_OR, H_HS, C_A, C_MR, C_OR, V, L, HW, SHC,\n",
    "            spec_MR, spec_OR, spec_HS, mode_MR, mode_OR, mode_H, mode_C, CG, L_T_H_d_t_i,\n",
    "            L_HWH, heating_flag_d):\n",
    "    \"\"\"  1 年当たりの設計ガス消費量（MJ/年）\n",
    "    :param region: 省エネルギー地域区分\n",
    "    :type region: int\n",
    "    :param sol_region: 年間日射地域区分(1-5)\n",
    "    :type sol_region: int\n",
    "    :param A_A: 床面積の合計 (m2)\n",
    "    :type A_A: float\n",
    "    :param A_MR: 主たる居室の床面積 (m2)\n",
    "    :type A_MR: float\n",
    "    :param A_OR: その他の居室の床面積 (m2)\n",
    "    :type A_OR: float\n",
    "    :param Q: 当該住戸の熱損失係数 (W/m2K)\n",
    "    :type Q: float\n",
    "    :param mu_H: 断熱性能の区分݆における日射取得性能の区分݇の暖房期の日射取得係数\n",
    "    :type mu_H: float\n",
    "    :param mu_C: 断熱性能の区分݆における日射取得性能の区分݇の冷房期の日射取得係数\n",
    "    :type mu_C: float\n",
    "    :param NV_MR: 主たる居室における通風の利用における相当換気回数\n",
    "    :type NV_MR: float\n",
    "    :param NV_OR: その他の居室における通風の利用における相当換気回数\n",
    "    :type NV_OR: float\n",
    "    :param TS: 蓄熱\n",
    "    :type TS: bool\n",
    "    :param r_A_ufvnt: 床下換気\n",
    "    :type r_A_ufvnt: float\n",
    "    :param HEX: 熱交換器型設備仕様辞書\n",
    "    :type HEX: dict\n",
    "    :param underfloor_insulation: 床下空間が断熱空間内である場合はTrue\n",
    "    :type underfloor_insulation: bool\n",
    "    :param H_A: 暖房方式\n",
    "    :type H_A: dict\n",
    "    :param H_MR: 暖房機器の仕様\n",
    "    :type H_MR: dict\n",
    "    :param H_OR: 暖房機器の仕様\n",
    "    :type H_OR: dict\n",
    "    :param H_HS: 温水暖房機の仕様\n",
    "    :type H_HS: dict\n",
    "    :param C_A: 冷房方式\n",
    "    :type C_A: dict\n",
    "    :param C_MR: 主たる居室の冷房機器\n",
    "    :type C_MR: dict\n",
    "    :param C_OR: その他の居室の冷房機器\n",
    "    :type C_OR: dict\n",
    "    :param V: 換気設備仕様辞書\n",
    "    :type V: dict\n",
    "    :param L: 照明設備仕様辞書\n",
    "    :type L: dict\n",
    "    :param HW: 給湯機の仕様\n",
    "    :type HW: dict\n",
    "    :param SHC: 集熱式太陽熱利用設備の仕様\n",
    "    :type SHC: dict\n",
    "    :param spec_MR: 主たる居室の仕様\n",
    "    :type spec_MR: dict\n",
    "    :param spec_OR: その他の居室の仕様\n",
    "    :type spec_OR: dict\n",
    "    :param spec_HS:暖房方式及び運転方法の区分\n",
    "    :type spec_HS: dict\n",
    "    :param mode_MR: 主たる居室の運転方法 (連続運転|間歇運転)\n",
    "    :type mode_MR: str\n",
    "    :param mode_OR: その他の居室の運転方法 (連続運転|間歇運転)\n",
    "    :type mode_OR: str\n",
    "    :param mode_H: 暖房方式\n",
    "    :type mode_H: str\n",
    "    :param mode_C: 冷房方式\n",
    "    :type mode_C: str\n",
    "    :param CG: コージェネレーションの機器\n",
    "    :type CG: dict\n",
    "    :param L_T_H_d_t_i: 暖房区画i=1-5それぞれの暖房負荷\n",
    "    :type L_T_H_d_t_i: ndarray\n",
    "    :param L_HWH: 1日当たりの温水暖房の熱負荷 (MJ/d)\n",
    "    :type L_HWH: ndarray\n",
    "    :param heating_flag_d: 暖房日\n",
    "    :type heating_flag_d: ndarray\n",
    "    :return: 1 年当たりの設計ガス消費量（MJ/年）\n",
    "    :rtype: float\n",
    "    \"\"\"\n",
    "    # 仮想居住人数\n",
    "    n_p = get_n_p(A_A)\n",
    "\n",
    "    # 暖房設備のガス消費量（MJ/h）\n",
    "    E_G_H_d_t = get_E_G_H_d_t(region, A_A, A_MR, A_OR, H_A, spec_MR, spec_OR, spec_HS, mode_MR, mode_OR, CG,\n",
    "                              L_T_H_d_t_i)\n",
    "\n",
    "    # 1時間当たりの冷房設備のガス消費量\n",
    "    E_G_C_d_t = calc_E_G_C_d_t()\n",
    "\n",
    "    # 1日当たりの給湯設備のガス消費量 (MJ/d)\n",
    "    E_G_W_d = calc_E_G_W_d_t(n_p, L_HWH, heating_flag_d, A_A, region, sol_region, HW, SHC)\n",
    "\n",
    "    # 1日当たりのコージェネレーション設備のガス消費量\n",
    "    E_G_CG_d_t, *args = calc_E_CG_d_t(A_A, region, sol_region, HW, SHC, CG, H_A, H_MR, H_OR, H_HS, C_A, C_MR,\n",
    "                           C_OR,\n",
    "                           V, L, A_MR, A_OR, A_env, Q, mu_H, mu_C, NV_MR, NV_OR, TS,\n",
    "                           r_A_ufvnt, HEX, underfloor_insulation, mode_H, mode_C)\n",
    "\n",
    "    # 1 時間当たりの家電のガス消費量\n",
    "    E_G_AP_d_t = get_E_G_AP_d_t()\n",
    "\n",
    "    # 1 時間当たりの調理のガス消費量\n",
    "    E_G_CC_d_t = calc_E_G_CC_d_t(n_p)\n",
    "\n",
    "    E_G = sum(E_G_H_d_t) \\\n",
    "          + sum(E_G_C_d_t) \\\n",
    "          + sum(E_G_W_d) \\\n",
    "          + sum(E_G_CG_d_t) \\\n",
    "          + sum(E_G_AP_d_t) \\\n",
    "          + sum(E_G_CC_d_t)  # (26)\n",
    "\n",
    "    # 小数点以下一位未満の端数があるときは、これを四捨五入する。\n",
    "    return Decimal(E_G).quantize(Decimal('0.1'), rounding=ROUND_HALF_UP)\n"
   ]
  },
  {
   "cell_type": "markdown",
   "metadata": {},
   "source": [
    "$$\n",
    "\\displaystyle E_{K} = \\sum_{d=1}^{365}{\\sum_{t=0}^{23}{E_{K,H,d,t} }} + \\sum_{d=1}^{365}{\\sum_{t=0}^{23}{E_{K,C,d,t} }} + \\sum_{d=1}^{365}{\\sum_{t=0}^{23}{E_{K,W,d,t} }} + \\sum_{d=1}^{365}{\\sum_{t=0}^{23}{E_{K,CG,d,t} }} + \\sum_{d=1}^{365}{\\sum_{t=0}^{23}{E_{K,AP,d,t} }} + \\sum_{d=1}^{365}{\\sum_{t=0}^{23}{E_{K,CC,d,t} }}\n",
    "$$"
   ]
  },
  {
   "cell_type": "markdown",
   "metadata": {},
   "source": [
    "$E_{K}$：1 年当たりの設計灯油消費量(MJ/年) / Design kerosene consumption per year   \n",
    "$E_{K,H,d,t}$：日付$d$の時刻$t$における1 時間当たりの暖房設備の灯油消費量(MJ/h) / Kerosene consumption of heating system per hour at time $ t $ on date $ d $    \n",
    "$E_{K,C,d,t}$：日付$d$の時刻$t$における1 時間当たりの冷房設備の灯油消費量(MJ/h) / Kerosene consumption of cooling system per hour at time $ t $ of date $ d $    \n",
    "$E_{K,W,d,t}$：日付$d$の時刻$t$における1 時間当たりの給湯設備の灯油消費量(MJ/h) / Consumption of kerosene in hot water supply equipment per hour at time $ t $ on date $ d $    \n",
    "$E_{K,CG,d,t}$：日付$d$の時刻$t$における1 時間当たりのコージェネレーション設備の灯油消費量(MJ/h) / Kerosene consumption of cogeneration equipment per hour at time $ t $ on date $ d $    \n",
    "$E_{K,AP,d,t}$：日付$d$の時刻$t$における1 時間当たりの家電の灯油消費量(MJ/h) / Household appliances kerosene consumption per hour at time $ t $ on date $ d $    \n",
    "$E_{K,CC,d,t}$：日付$d$の時刻$t$における1 時間当たりの調理の灯油消費量(MJ/h) / Cooking kerosene consumption per hour at time $ t $ on date $ d $    "
   ]
  },
  {
   "cell_type": "markdown",
   "metadata": {},
   "source": [
    "1 年当たりの設計灯油消費量$E_{K}$は、数値に小数点以下一位未満の端数があるときは、これを四捨五入する。 "
   ]
  },
  {
   "cell_type": "markdown",
   "metadata": {},
   "source": [
    "Design kerosene consumption $ E_ {K} $ per year is rounded off if the number has a fraction less than one decimal place."
   ]
  },
  {
   "cell_type": "code",
   "execution_count": null,
   "metadata": {},
   "outputs": [],
   "source": [
    "def calc_E_K(region, sol_region, A_A, A_MR, A_OR, H_A, spec_MR, spec_OR, spec_HS, mode_MR, mode_OR, CG, L_T_H_d_t_i, L_HWH, heating_flag_d, HW, SHC):\n",
    "    \"\"\" 1 年当たりの設計灯油消費量（MJ/年）\n",
    "    \n",
    "    :param region: 省エネルギー地域区分\n",
    "    :type region: int\n",
    "    :param sol_region: 年間日射地域区分(1-5)\n",
    "    :type sol_region: int\n",
    "    :param A_A: 床面積の合計 (m2)\n",
    "    :type A_A: float\n",
    "    :param A_MR: 主たる居室の床面積 (m2)\n",
    "    :type A_MR: float\n",
    "    :param A_OR: その他の居室の床面積 (m2)\n",
    "    :type A_OR: float\n",
    "    :param H_A: 暖房方式\n",
    "    :type H_A: dict\n",
    "    :param mode_MR: 主たる居室の運転方法 (連続運転|間歇運転)\n",
    "    :type mode_MR: str\n",
    "    :param mode_OR: その他の居室の運転方法 (連続運転|間歇運転)\n",
    "    :type mode_OR: str\n",
    "    :param spec_HS: 温水暖房機の仕様\n",
    "    :type spec_HS: dict\n",
    "    :param mode_MR: 主たる居室の運転方法 (連続運転|間歇運転)\n",
    "    :type mode_MR: str\n",
    "    :param mode_OR: その他の居室の運転方法 (連続運転|間歇運転)\n",
    "    :type mode_OR: str\n",
    "    :param CG: コージェネレーションの機器\n",
    "    :type CG: dict\n",
    "    :param L_T_H_d_t_i: 暖房区画i=1-5それぞれの暖房負荷\n",
    "    :type L_T_H_d_t_i: ndarray\n",
    "    :param L_HWH: 1日当たりの温水暖房の熱負荷 (MJ/d)\n",
    "    :type L_HWH: ndarray\n",
    "    :param heating_flag_d: 暖房日\n",
    "    :type heating_flag_d: ndarray\n",
    "    :param HW: 給湯機の仕様\n",
    "    :type HW: dict\n",
    "    :param SHC: 集熱式太陽熱利用設備の仕様\n",
    "    :type SHC: dict\n",
    "    :return: 1 年当たりの設計灯油消費量（MJ/年）\n",
    "    :rtype: float\n",
    "    \"\"\"\n",
    "    \n",
    "    # 仮想居住人数\n",
    "    n_p = get_n_p(A_A)\n",
    "\n",
    "    # 暖房設備の灯油消費量（MJ/h）\n",
    "    E_K_H_d_t = calc_E_K_H_d_t(region, A_A, A_MR, A_OR, H_A, spec_MR, spec_OR, spec_HS, mode_MR, mode_OR, CG,\n",
    "                               L_T_H_d_t_i)\n",
    "\n",
    "    # 1時間当たりの冷房設備の灯油消費量\n",
    "    E_K_C_d_t = calc_E_K_C_d_t()\n",
    "\n",
    "    # 1日当たりの給湯設備の灯油消費量 (MJ/d)\n",
    "    E_K_W_d_t = calc_E_K_W_d_t(n_p, L_HWH, heating_flag_d, A_A, region, sol_region, HW, SHC)\n",
    "\n",
    "    # 1日当たりのコージェネレーション設備の灯油消費量\n",
    "    E_K_CG_d = np.zeros(365)\n",
    "\n",
    "    # 1 時間当たりの家電の灯油消費量\n",
    "    E_K_AP_d_t = get_E_K_AP_d_t()\n",
    "\n",
    "    # 1 時間当たりの調理の灯油消費量\n",
    "    E_K_CC_d_t = get_E_K_CC_d_t()\n",
    "\n",
    "    # 1年当たりの設計灯油消費量（MJ / 年）\n",
    "    E_K_raw = sum(E_K_H_d_t) \\\n",
    "              + sum(E_K_C_d_t) \\\n",
    "              + sum(E_K_W_d_t) \\\n",
    "              + sum(E_K_CG_d) \\\n",
    "              + sum(E_K_AP_d_t) \\\n",
    "              + sum(E_K_CC_d_t)  # (27)\n",
    "\n",
    "    # 小数点以下一位未満の端数があるときは、これを四捨五入する。\n",
    "    E_K = Decimal(E_K_raw).quantize(Decimal('0.1'), rounding=ROUND_HALF_UP)\n",
    "\n",
    "    return E_K\n"
   ]
  },
  {
   "cell_type": "markdown",
   "metadata": {},
   "source": [
    "$$\n",
    "\\large E_{UT,H} = \\sum_{d=1}^{365}{\\sum_{t=0}^{23}{E_{UT,H,d,t} }}\n",
    "$$"
   ]
  },
  {
   "cell_type": "markdown",
   "metadata": {},
   "source": [
    "$E_{UT,H}$：1 年当たりの未処理暖房負荷の設計一次エネルギー消費量相当値(MJ/年) / Design primary energy consumption equivalent of raw heating load per year   \n",
    "$E_{UT,H,d,t}$：日付$d$の時刻$t$における1 時間当たりの暖房設備の未処理暖房負荷の設計一次エネルギー消費量相当値(MJ/h) / Designing the primary energy consumption equivalent of the raw heating load of the heating installation per hour at the time $ t $ of the date $ d $    "
   ]
  },
  {
   "cell_type": "markdown",
   "metadata": {},
   "source": [
    "1 年当たりの未処理暖房負荷の設計一次エネルギー消費量相当値$E_{UT,H}$は、数値に小数点以下一位未満の端数があるときは、これを四捨五入する。 "
   ]
  },
  {
   "cell_type": "markdown",
   "metadata": {},
   "source": [
    "Designing Primary Energy Consumption Equivalents $ E_ {UT, H} $ of Raw Heating Load per Year If the number has a fraction less than one decimal place, round it off."
   ]
  },
  {
   "cell_type": "code",
   "execution_count": null,
   "metadata": {},
   "outputs": [],
   "source": [
    "def calc_E_UT_H(region, A_A, A_MR, A_OR, A_env, mu_H, mu_C, Q, mode_H, H_A, spec_MR, spec_OR, spec_HS, mode_MR, mode_OR, CG,\n",
    "               L_T_H_d_t, L_CS_d_t, L_CL_d_t):\n",
    "    \"\"\"\n",
    "\n",
    "    :param region: 省エネルギー地域区分\n",
    "    :type region: int\n",
    "    :param A_A: 床面積の合計 [m2]\n",
    "    :type A_A: float\n",
    "    :param A_MR: 主たる居室の床面積 [m2]\n",
    "    :type A_MR: float\n",
    "    :param A_OR: その他の居室の床面積 [m2]\n",
    "    :type A_OR: float\n",
    "    :param mode_H: 暖房方式\n",
    "    :type mode_H: str\n",
    "    :param H_A: 暖房方式\n",
    "    :type H_A: dict\n",
    "    :param spec_MR: 主たる居室の仕様\n",
    "    :type spec_MR: dict\n",
    "    :param spec_OR: その他の居室の仕様\n",
    "    :type spec_OR: dict\n",
    "    :param spec_HS:暖房方式及び運転方法の区分\n",
    "    :type spec_HS: dict\n",
    "    :param mode_MR: 主たる居室の運転方法 (連続運転|間歇運転)\n",
    "    :type mode_MR: str\n",
    "    :param mode_OR: その他の居室の運転方法 (連続運転|間歇運転)\n",
    "    :type mode_OR: str\n",
    "    :param CG: コージェネレーションの機器\n",
    "    :type CG: dict\n",
    "    :param L_H_A_d_t: 暖房負荷\n",
    "    :type L_H_A_d_t: ndarray\n",
    "    :param L_T_H_d_t: 暖房区画の暖房負荷\n",
    "    :type L_T_H_d_t: ndarray\n",
    "    :param L_CS_d_t: 暖冷房区画の 1 時間当たりの冷房顕熱負荷\n",
    "    :type L_CS_d_t: ndarray\n",
    "    :param L_CL_d_t: 暖冷房区画の 1 時間当たりの冷房潜熱負荷\n",
    "    :type L_CL_d_t: ndarray\n",
    "    :return: 1 年当たりの未処理暖房負荷の設計一次エネルギー消費量相当値\n",
    "    :rtype: float\n",
    "    \"\"\"\n",
    "    # 暖房設備の未処理暖房負荷の設計一次エネルギー消費量相当値\n",
    "    E_UT_H_d_t = calc_E_UT_H_d_t(region, A_A, A_MR, A_OR, A_env, mu_H, mu_C, Q, mode_H, H_A, spec_MR, spec_OR, spec_HS, mode_MR, mode_OR, CG,\n",
    "                                 L_T_H_d_t, L_CS_d_t, L_CL_d_t)\n",
    "\n",
    "    # 1 年当たりの未処理暖房負荷の設計一次エネルギー消費量相当値\n",
    "    E_UT_H_raw = sum(E_UT_H_d_t)  # (28)\n",
    "\n",
    "    # 小数点以下一位未満の端数があるときは、これを四捨五入する。\n",
    "    E_UT_H = Decimal(E_UT_H_raw).quantize(Decimal('0.1'), rounding=ROUND_HALF_UP)\n",
    "\n",
    "    return E_UT_H\n"
   ]
  },
  {
   "cell_type": "code",
   "execution_count": null,
   "metadata": {},
   "outputs": [],
   "source": [
    "def get_E_UT_C(A_A, A_MR, A_OR, A_env, mu_H, mu_C, Q, mode_C, C_A, region, L_H_d_t, L_CS_d_t, L_CL_d_t):\n",
    "    if mode_C == '住戸全体を連続的に冷房する方式':\n",
    "        # VAV方式の採用\n",
    "        if 'VAV' in C_A:\n",
    "            VAV = C_A['VAV']\n",
    "\n",
    "        # 全般換気機能の有無\n",
    "        if 'general_ventilation' in C_A:\n",
    "            general_ventilation = C_A['general_ventilation']\n",
    "\n",
    "        # ダクトが通過する空間\n",
    "        if 'duct_insulation' in C_A:\n",
    "            duct_insulation = C_A['duct_insulation']\n",
    "\n",
    "        # 機器の仕様の\n",
    "        if C_A['EquipmentSpec'] == '入力しない':\n",
    "            # 付録B\n",
    "            q_hs_rtd_C = dc_spec.get_q_hs_rtd_C(region, A_A)\n",
    "        elif C_A['EquipmentSpec'] == '定格能力試験の値を入力する':\n",
    "            q_hs_rtd_C = C_A['q_hs_rtd_C']\n",
    "        elif C_A['EquipmentSpec'] == '定格能力試験と中間能力試験の値を入力する':\n",
    "            q_hs_rtd_C = C_A['q_hs_rtd_C']\n",
    "        else:\n",
    "            raise ValueError(C_A['EquipmentSpec'])\n",
    "\n",
    "        # 設計風量(暖房)\n",
    "        if 'V_hs_dsgn_C' in C_A:\n",
    "            V_hs_dsgn_C = C_A['V_hs_dsgn_C']\n",
    "        else:\n",
    "            V_fan_rtd_C = dc_spec.get_V_fan_rtd_C(q_hs_rtd_C)\n",
    "            V_hs_dsgn_C = dc_spec.get_V_fan_dsgn_C(V_fan_rtd_C)\n",
    "\n",
    "        # 定格冷房能力\n",
    "        q_hs_rtd_H = 0\n",
    "\n",
    "        # 設計風量(冷房)\n",
    "        V_hs_dsgn_H = 0\n",
    "\n",
    "        E_UT_C_d_t, _, _, _, _, _, \\\n",
    "        _, _, _, _, _ = dc.get_Q_UT_A(A_A, A_MR, A_OR, A_env, mu_H, mu_C, q_hs_rtd_H, q_hs_rtd_C, V_hs_dsgn_H, V_hs_dsgn_C, Q,\n",
    "             VAV, general_ventilation, duct_insulation, region, L_H_d_t, L_CS_d_t, L_CL_d_t)\n",
    "    else:\n",
    "        E_UT_C_d_t = calc_E_UT_C_d_t()\n",
    "\n",
    "    # 1 年当たりの未処理暖房負荷の設計一次エネルギー消費量相当値（MJ/年）\n",
    "    E_UT_C_raw = sum(E_UT_C_d_t) # (29)\n",
    "\n",
    "    # 小数点以下一位未満の端数があるときは、これを四捨五入する。\n",
    "    E_UT_C = Decimal(E_UT_C_raw).quantize(Decimal('0.1'), rounding=ROUND_HALF_UP)\n",
    "\n",
    "    return E_UT_C\n"
   ]
  },
  {
   "cell_type": "markdown",
   "metadata": {},
   "source": [
    "### 14. 各設備のエネルギー消費量等 / Energy consumption of each facility"
   ]
  },
  {
   "cell_type": "markdown",
   "metadata": {},
   "source": [
    "省略"
   ]
  },
  {
   "cell_type": "markdown",
   "metadata": {},
   "source": [
    "Omission"
   ]
  },
  {
   "cell_type": "markdown",
   "metadata": {},
   "source": [
    "### 15. 居住人数 / Number of residents"
   ]
  },
  {
   "cell_type": "markdown",
   "metadata": {},
   "source": [
    "省略"
   ]
  },
  {
   "cell_type": "markdown",
   "metadata": {},
   "source": [
    "Omission"
   ]
  },
  {
   "cell_type": "markdown",
   "metadata": {},
   "source": [
    "### 16. 電力需要 / Power demand"
   ]
  },
  {
   "cell_type": "markdown",
   "metadata": {},
   "source": [
    "$$\n",
    "\\large \n",
    "E_{E,dmd,d,t} = E_{E,H,d,t} + E_{E,C,d,t} + E_{E,V,d,t} + E_{E,L,d,t} + E_{E,W,d,t} + E_{E,AP,d,t}\n",
    "$$"
   ]
  },
  {
   "cell_type": "markdown",
   "metadata": {},
   "source": [
    "$E_{E,dmd,d,t}$：日付$d$の時刻$t$における1 時間当たりの電力需要(kWh/h) / Power demand per hour at time $ t $ on date $ d $    \n",
    "$E_{E,H,d,t}$：日付$d$の時刻$t$における1 時間当たりの暖房設備の消費電力量(kWh/h) / Power consumption of heating equipment per hour at time $ t $ of date $ d $    \n",
    "$E_{E,C,d,t}$：日付$d$の時刻$t$における1 時間当たりの冷房設備の消費電力量(kWh/h) / Power consumption of cooling system per hour at time $ t $ of date $ d $    \n",
    "$E_{E,V,d,t}$：日付$d$の時刻$t$における1 時間当たりの機械換気設備の消費電力量(kWh/h) / Power consumption of mechanical ventilation equipment per hour at time $ t $ of date $ d $    \n",
    "$E_{E,L,d,t}$：日付$d$の時刻$t$における1 時間当たりの照明設備の消費電力量(kWh/h) / Power consumption of lighting fixtures per hour at time $ t $ on date $ d $    \n",
    "$E_{E,W,d,t}$：日付$d$の時刻$t$における1 時間当たりの給湯設備の消費電力量(kWh/h) / Power consumption of water heater per hour at time $ t $ on date $ d $    \n",
    "$E_{E,AP,d,t}$：日付$d$の時刻$t$における1 時間当たりの家電の消費電力量(kWh/h) / Power consumption of household appliances per hour at time $ t $ of date $ d $    "
   ]
  },
  {
   "cell_type": "code",
   "execution_count": null,
   "metadata": {},
   "outputs": [],
   "source": [
    "def get_E_E_dmd_d_t(E_E_H_d_t, E_E_C_d_t, E_E_V_d_t, E_E_L_d_t, E_E_W_d_t, E_E_AP_d_t):\n",
    "    \"\"\"1時間当たりの電力需要 (28)\n",
    "    \n",
    "    :param E_E_H_d_t: 1時間当たりの暖房設備の消費電力量 [kWh/h]\n",
    "    :type E_E_H_d_t: ndarray\n",
    "    :param E_E_C_d_t: 1時間当たりの冷房設備の消費電力量 [kWh/h]\n",
    "    :type E_E_C_d_t: ndarray\n",
    "    :param E_E_V_d_t:  1時間当たりの機械換気設備の消費電力量 [kWh/h]\n",
    "    :type E_E_V_d_t: ndarray\n",
    "    :param E_E_L_d_t: 日付dの時刻tにおける 1 時間当たりの照明設備の消費電力量[kWh/h]\n",
    "    :type E_E_L_d_t: ndarray\n",
    "    :param E_E_W_d_t: 1時間当たりの給湯設備の消費電力量 [kWh/h]\n",
    "    :type E_E_W_d_t:  ndarray\n",
    "    :param E_E_AP_d_t: 1 時間当たりの家電の消費電力量\n",
    "    :type E_E_AP_d_t: ndarray\n",
    "    :return: 1時間当たりの電力需要 (28)\n",
    "    :rtype: ndarray\n",
    "    \"\"\"\n",
    "    \n",
    "    return E_E_H_d_t + E_E_C_d_t + E_E_V_d_t + E_E_L_d_t + E_E_W_d_t + E_E_AP_d_t\n"
   ]
  }
 ],
 "metadata": {
  "kernelspec": {
   "display_name": "Python 3",
   "language": "python",
   "name": "python3"
  },
  "language_info": {
   "codemirror_mode": {
    "name": "ipython",
    "version": 3
   },
   "file_extension": ".py",
   "mimetype": "text/x-python",
   "name": "python",
   "nbconvert_exporter": "python",
   "pygments_lexer": "ipython3",
   "version": "3.8.5"
  }
 },
 "nbformat": 4,
 "nbformat_minor": 2
}
