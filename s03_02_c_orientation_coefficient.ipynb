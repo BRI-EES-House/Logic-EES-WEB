{
 "cells": [
  {
   "cell_type": "markdown",
   "metadata": {},
   "source": [
    "## 付録  C 方位係数 / Appendix C Orientation coefficient"
   ]
  },
  {
   "cell_type": "markdown",
   "metadata": {},
   "source": [
    "界壁及び界床の方位係数は0とする。"
   ]
  },
  {
   "cell_type": "markdown",
   "metadata": {},
   "source": [
    "The orientation coefficient of the boundary wall and the boundary floor is 0."
   ]
  },
  {
   "cell_type": "code",
   "execution_count": null,
   "metadata": {},
   "outputs": [],
   "source": [
    "# 界壁及び界床の方位係数 (-)\n",
    "def get_nu_boundary():\n",
    "    return 0.0"
   ]
  },
  {
   "cell_type": "markdown",
   "metadata": {},
   "source": [
    "<div style=\"text-align: center;font-weight: bold;\">表　暖房期の方位係数<br>Table: Orientation factor for heating season</div>\n",
    "\n",
    "<table>\n",
    "<thead>\n",
    "<tr>\n",
    "<th rowspan=\"2\">方位<br>Orientation</th>\n",
    "<th colspan=\"8\">地域の区分<br>Segmentation of area</th>\n",
    "</tr>\n",
    "<tr>\n",
    "<th>1</th>\n",
    "<th>2</th>\n",
    "<th>3</th>\n",
    "<th>4</th>\n",
    "<th>5</th>\n",
    "<th>6</th>\n",
    "<th>7</th>\n",
    "<th>8</th>\n",
    "</tr>\n",
    "</thead>\n",
    "\n",
    "<tbody>\n",
    "<tr>\n",
    "<th>上面<br>Top surface</th><td colspan=\"7\" style=\"text-align: center;\">1.0</td><td rowspan=\"10\">-</td>\n",
    "</tr>\n",
    "<tr><th>北<br>North</th><td>0.260</td><td>0.263</td><td>0.284</td><td>0.256</td><td>0.238</td><td>0.261</td><td>0.227</td></tr>\n",
    "<tr><th>北東<br>Northeast</th><td>0.333</td><td>0.341</td><td>0.348</td><td>0.330</td><td>0.310</td><td>0.325</td><td>0.281</td></tr>\n",
    "<tr><th>東<br>East</th><td>0.564</td><td>0.554</td><td>0.540</td><td>0.531</td><td>0.568</td><td>0.579</td><td>0.543</td></tr>\n",
    "<tr><th>南東<br>Southeast</th><td>0.823</td><td>0.766</td><td>0.751</td><td>0.724</td><td>0.846</td><td>0.833</td><td>0.843</td></tr>\n",
    "<tr><th>南<br>South</th><td>0.935</td><td>0.856</td><td>0.851</td><td>0.815</td><td>0.983</td><td>0.936</td><td>1.023</td></tr>\n",
    "<tr><th>南西<br>Southwest</th><td>0.790</td><td>0.753</td><td>0.750</td><td>0.723</td><td>0.815</td><td>0.763</td><td>0.848</td></tr>\n",
    "<tr><th>西<br>West</th><td>0.535</td><td>0.544</td><td>0.542</td><td>0.527</td><td>0.538</td><td>0.523</td><td>0.548</td></tr>\n",
    "<tr><th>北西<br>Northwest</th><td>0.325</td><td>0.341</td><td>0.351</td><td>0.326</td><td>0.297</td><td>0.317</td><td>0.284</td></tr>\n",
    "<tr>\n",
    "<th>下面<br>Bottom side</th><td colspan=\"7\" style=\"text-align: center;\">0.0</td>\n",
    "</tr>\n",
    "</tbody>\n",
    "</table>\n"
   ]
  },
  {
   "cell_type": "code",
   "execution_count": null,
   "metadata": {},
   "outputs": [],
   "source": [
    "# 外皮の部位の暖房期の方位係数\n",
    "def get_nu_H(region, direction):\n",
    "    \"\"\"\n",
    "    :param region: 地域の区分(1,2,3,4,5,6,7,8)\n",
    "    :param direction: 外皮の部位の方位\n",
    "    :return: 外皮の部位の暖房期の方位係数 (-)\n",
    "    \"\"\"\n",
    "    # 表1 暖房期の方位係数\n",
    "    table_1 = {\n",
    "        '上面': (1.0, 1.0, 1.0, 1.0, 1.0, 1.0, 1.0, None),\n",
    "        '北': (0.260, 0.263, 0.284, 0.256, 0.238, 0.261, 0.227, None),\n",
    "        '北東': (0.333, 0.341, 0.348, 0.330, 0.310, 0.325, 0.281, None),\n",
    "        '東': (0.564, 0.554, 0.540, 0.531, 0.568, 0.579, 0.543, None),\n",
    "        '南東': (0.823, 0.766, 0.751, 0.724, 0.846, 0.833, 0.843, None),\n",
    "        '南': (0.935, 0.856, 0.851, 0.815, 0.983, 0.936, 1.023, None),\n",
    "        '南西': (0.790, 0.753, 0.750, 0.723, 0.815, 0.763, 0.848, None),\n",
    "        '西': (0.535, 0.544, 0.542, 0.527, 0.538, 0.523, 0.548, None),\n",
    "        '北西': (0.325, 0.341, 0.351, 0.326, 0.297, 0.317, 0.284, None),\n",
    "        '下面': (0.0, 0.0, 0.0, 0.0, 0.0, 0.0, 0.0, None),\n",
    "    }\n",
    "    return table_1[direction][region - 1]"
   ]
  },
  {
   "cell_type": "markdown",
   "metadata": {},
   "source": [
    "<div style=\"text-align: center;font-weight: bold;\">表　冷房期の方位係数<br>Table: Orientation coefficient in the cooling period</div>\n",
    "\n",
    "<table>\n",
    "<thead>\n",
    "<tr>\n",
    "<th rowspan=\"2\">方位<br>Orientation</th>\n",
    "<th colspan=\"8\">地域の区分<br>Segmentation of area</th>\n",
    "</tr>\n",
    "<tr>\n",
    "<th>1</th>\n",
    "<th>2</th>\n",
    "<th>3</th>\n",
    "<th>4</th>\n",
    "<th>5</th>\n",
    "<th>6</th>\n",
    "<th>7</th>\n",
    "<th>8</th>\n",
    "</tr>\n",
    "</thead>\n",
    "\n",
    "<tbody>\n",
    "<tr>\n",
    "<th>上面<br>Top surface</th><td colspan=\"8\" style=\"text-align: center;\">1.0</td>\n",
    "</tr>\n",
    "<tr><th>北<br>North</th><td>0.329</td><td>0.341</td><td>0.335</td><td>0.322</td><td>0.373</td><td>0.341</td><td>0.307</td><td>0.325</td></tr>\n",
    "<tr><th>北東<br>Northeast</th><td>0.430</td><td>0.412</td><td>0.390</td><td>0.426</td><td>0.437</td><td>0.431</td><td>0.415</td><td>0.414</td></tr>\n",
    "<tr><th>東<br>East</th><td>0.545</td><td>0.503</td><td>0.468</td><td>0.518</td><td>0.500</td><td>0.512</td><td>0.509</td><td>0.515</td></tr>\n",
    "<tr><th>南東<br>Southeast</th><td>0.560</td><td>0.527</td><td>0.487</td><td>0.508</td><td>0.500</td><td>0.498</td><td>0.490</td><td>0.528</td></tr>\n",
    "<tr><th>南<br>South</th><td>0.502</td><td>0.507</td><td>0.476</td><td>0.437</td><td>0.472</td><td>0.434</td><td>0.412</td><td>0.480</td></tr>\n",
    "<tr><th>南西<br>Southwest</th><td>0.526</td><td>0.548</td><td>0.550</td><td>0.481</td><td>0.520</td><td>0.491</td><td>0.479</td><td>0.517</td></tr>\n",
    "<tr><th>西<br>West</th><td>0.508</td><td>0.529</td><td>0.553</td><td>0.481</td><td>0.518</td><td>0.504</td><td>0.495</td><td>0.505</td></tr>\n",
    "<tr><th>北西<br>Northwest</th><td>0.411</td><td>0.428</td><td>0.447</td><td>0.401</td><td>0.442</td><td>0.427</td><td>0.406</td><td>0.411</td></tr>\n",
    "<tr>\n",
    "<th>下面<br>Bottom side</th><td colspan=\"8\" style=\"text-align: center;\">0.0</td>\n",
    "</tr>\n",
    "</tbody>\n",
    "</table>\n"
   ]
  },
  {
   "cell_type": "code",
   "execution_count": null,
   "metadata": {},
   "outputs": [],
   "source": [
    "# 外皮の部位の冷房期の方位係数\n",
    "def get_nu_C(region, direction):\n",
    "    \"\"\"\n",
    "    :param region: 地域の区分(1,2,3,4,5,6,7,8)\n",
    "    :param direction: 外皮の部位の方位\n",
    "    :return: 外皮の部位の暖房期の方位係数 (-)\n",
    "    \"\"\"\n",
    "    # 表2 冷房期の方位係数\n",
    "    table_2 = {\n",
    "        '上面': (1.0, 1.0, 1.0, 1.0, 1.0, 1.0, 1.0, 1.0),\n",
    "        '北': (0.329, 0.341, 0.335, 0.322, 0.373, 0.341, 0.307, 0.325),\n",
    "        '北東': (0.430, 0.412, 0.390, 0.426, 0.437, 0.431, 0.415, 0.414),\n",
    "        '東': (0.545, 0.503, 0.468, 0.518, 0.500, 0.512, 0.509, 0.515),\n",
    "        '南東': (0.560, 0.527, 0.487, 0.508, 0.500, 0.498, 0.490, 0.528),\n",
    "        '南': (0.502, 0.507, 0.476, 0.437, 0.472, 0.434, 0.412, 0.480),\n",
    "        '南西': (0.526, 0.548, 0.550, 0.481, 0.520, 0.491, 0.479, 0.517),\n",
    "        '西': (0.508, 0.529, 0.553, 0.481, 0.518, 0.503, 0.495, 0.505),\n",
    "        '北西': (0.411, 0.428, 0.447, 0.401, 0.442, 0.427, 0.406, 0.411),\n",
    "        '下面': (0.0, 0.0, 0.0, 0.0, 0.0, 0.0, 0.0, 0.0),\n",
    "    }\n",
    "    return table_2[direction][region - 1]"
   ]
  }
 ],
 "metadata": {
  "kernelspec": {
   "display_name": "Python 3",
   "language": "python",
   "name": "python3"
  },
  "language_info": {
   "codemirror_mode": {
    "name": "ipython",
    "version": 3
   },
   "file_extension": ".py",
   "mimetype": "text/x-python",
   "name": "python",
   "nbconvert_exporter": "python",
   "pygments_lexer": "ipython3",
   "version": "3.8.5"
  }
 },
 "nbformat": 4,
 "nbformat_minor": 2
}
