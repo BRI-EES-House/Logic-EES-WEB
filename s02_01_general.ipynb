{
 "cells": [
  {
   "cell_type": "code",
   "execution_count": 1,
   "metadata": {},
   "outputs": [],
   "source": [
    "import nbimporter\n",
    "import numpy as np\n",
    "from math import ceil\n",
    "\n",
    "from s02_01_b_heat_conversion_coefficient import get_f_prim\n",
    "from s02_02_design_primary_energy_consumption import get_E_T_star, calc_E_H, calc_E_C, calc_E_W, calc_E_L, calc_E_V, calc_E_M, calc_heating_load, calc_cooling_load, \\\n",
    "    get_virtual_heating_devices, get_virtual_heatsource, calc_heating_mode, calc_L_HWH, calc_E_E, calc_E_G, calc_E_K, \\\n",
    "    calc_E_UT_H, calc_E_S, get_E_E_CG_h\n",
    "from s02_03_standard_primary_energy_consumption import get_E_ST_star, calc_E_SH, calc_E_SC, calc_E_SV, calc_E_SW, calc_E_SL, calc_E_SM\n",
    "from s03_01_hc_load_general import get_Q\n",
    "from s03_02_envelope_performance import calc_insulation_performance\n",
    "from s07_01_b_types_and_specifications_of_equipment import get_virtual_hotwater\n"
   ]
  },
  {
   "cell_type": "markdown",
   "metadata": {},
   "source": [
    "# 第二章　単位住戸の一次エネルギー消費量 / Chapter 2 Designed Primary Energy Consumption"
   ]
  },
  {
   "cell_type": "markdown",
   "metadata": {},
   "source": [
    "## 第一節　全般 / Section 1 General"
   ]
  },
  {
   "cell_type": "markdown",
   "metadata": {},
   "source": [
    "1．適用範囲～4．記号及び単位は省略"
   ]
  },
  {
   "cell_type": "markdown",
   "metadata": {},
   "source": [
    "1. Scope of application ~ 4. Symbols and units are omitted"
   ]
  },
  {
   "cell_type": "markdown",
   "metadata": {},
   "source": [
    "### 5．住戸の床面積並びに主たる居室、その他の居室及び非居室の定義 / Floor area of dwelling unit and definition of main living room, other living room and non-living room"
   ]
  },
  {
   "cell_type": "markdown",
   "metadata": {},
   "source": [
    "省略"
   ]
  },
  {
   "cell_type": "markdown",
   "metadata": {},
   "source": [
    "Omission"
   ]
  },
  {
   "cell_type": "markdown",
   "metadata": {},
   "source": [
    "### 6．電気の量 1kWh を熱量に換算する係数 / A factor to convert 1kWh of electricity into heat"
   ]
  },
  {
   "cell_type": "markdown",
   "metadata": {},
   "source": [
    "省略"
   ]
  },
  {
   "cell_type": "markdown",
   "metadata": {},
   "source": [
    "Omission"
   ]
  },
  {
   "cell_type": "markdown",
   "metadata": {},
   "source": [
    "### 7．仮想居住人数 / Virtual number of people"
   ]
  },
  {
   "cell_type": "markdown",
   "metadata": {},
   "source": [
    "省略"
   ]
  },
  {
   "cell_type": "markdown",
   "metadata": {},
   "source": [
    "Omission"
   ]
  },
  {
   "cell_type": "markdown",
   "metadata": {},
   "source": [
    "### 8．設計一次エネルギー消費量 / Design primary energy consumption"
   ]
  },
  {
   "cell_type": "markdown",
   "metadata": {},
   "source": [
    "$$\n",
    "\\large \n",
    "E_{T} = E_{T}^* \\times 10^{-3}\n",
    "$$"
   ]
  },
  {
   "cell_type": "code",
   "execution_count": 2,
   "metadata": {},
   "outputs": [],
   "source": [
    "def calc_E_T(spec):\n",
    "    \"\"\"設計一次エネルギー消費量[GJ/年]を計算する\n",
    "\n",
    "    :param spec: 住戸についての詳細なデータ\n",
    "    :type spec: dict\n",
    "    :return: 1年当たりの各消費量 E_T, E_H, E_C, E_V, E_L, E_W, E_S, E_M, UPL, E_gen, E_E_gen, E_E_PV_h_d_t, E_E, E_G, E_K (15 variables)\n",
    "    :rtype: tuple\n",
    "    \"\"\"\n",
    "    E_H = None\n",
    "    E_C = None\n",
    "    E_W = None\n",
    "    E_L = None\n",
    "    E_V = None\n",
    "    E_M = None\n",
    "    E_gen = None\n",
    "    E_E_gen = None\n",
    "    E_S = None\n",
    "\n",
    "    E_E = None\n",
    "    E_G = None\n",
    "    E_K = None\n",
    "    UPL = None\n",
    "\n",
    "    # ---- 事前データ読み込み ----\n",
    "\n",
    "    # 日射量データの読み込み\n",
    "    from s11_02_solar_radiation import load_solrad\n",
    "    from s09_01_pv_system import calc_E_E_PV_d_t\n",
    "\n",
    "    solrad = None\n",
    "    if (spec['SHC'] is not None or spec['PV'] is not None) and 'sol_region' in spec:\n",
    "        if spec['sol_region'] is not None:\n",
    "            solrad = load_solrad(spec['region'], spec['sol_region'])\n",
    "\n",
    "#     # ハイブリッド給湯機の仕様読み込み\n",
    "#     if spec['HW'] is not None and 'package_id' in spec['HW']:\n",
    "#         import section7_1_g_3\n",
    "#         section7_1_g_3.load_specification('HybridWaterHeater_package_list_TestCaseTest_sample.csv')\n",
    "\n",
    "    # ---- 外皮の計算 ----\n",
    "\n",
    "    # 外皮の断熱性能の計算\n",
    "    if spec['ENV'] is not None:\n",
    "        U_A, _, _, _, Q_dash, eta_H, eta_C, _ = calc_insulation_performance(**spec['ENV'])\n",
    "        # 熱損失係数\n",
    "        Q = get_Q(Q_dash)\n",
    "        A_env = spec['ENV'].get('A_env')\n",
    "    else:\n",
    "        Q = None\n",
    "        eta_H, eta_C = None, None\n",
    "        A_env = None\n",
    "\n",
    "    # ---- 暖房設備 ----\n",
    "\n",
    "    # 1 時間当たりの暖房設備の設計一次エネルギー消費量\n",
    "\n",
    "    # 実質的な暖房機器の仕様を取得\n",
    "    spec_MR, spec_OR = get_virtual_heating_devices(spec['region'], spec['H_MR'], spec['H_OR'])\n",
    "\n",
    "    # 暖房方式及び運転方法の区分\n",
    "    mode_MR, mode_OR = calc_heating_mode(region=spec['region'], H_MR=spec_MR, H_OR=spec_OR)\n",
    "\n",
    "    # ---- 暖房負荷 ----\n",
    "\n",
    "    # 暖房負荷の取得\n",
    "    L_T_H_d_t_i, L_dash_H_R_d_t_i = calc_heating_load(\n",
    "        spec['region'], spec['sol_region'],\n",
    "        spec['A_A'], spec['A_MR'], spec['A_OR'],\n",
    "        Q, eta_H, eta_C, spec['NV_MR'], spec['NV_OR'], spec['TS'], spec['r_A_ufvnt'], spec['HEX'],\n",
    "        spec['underfloor_insulation'], spec['mode_H'], spec['mode_C'],\n",
    "        spec_MR, spec_OR, mode_MR, mode_OR, spec['SHC'])\n",
    "\n",
    "    # ---- 冷房負荷 ----\n",
    "\n",
    "    # 冷房負荷の取得\n",
    "    L_CS_d_t, L_CL_d_t = \\\n",
    "        calc_cooling_load(spec['region'], spec['A_A'], spec['A_MR'], spec['A_OR'], Q, eta_H, eta_C,\n",
    "                          spec['NV_MR'], spec['NV_OR'], spec['r_A_ufvnt'], spec['underfloor_insulation'],\n",
    "                          spec['mode_C'], spec['mode_H'], mode_MR, mode_OR, spec['TS'], spec['HEX'])\n",
    "\n",
    "    # ---- 冷房設備 ----\n",
    "\n",
    "    # 1 年当たりの冷房設備の設計一次エネルギー消費量\n",
    "    E_C = calc_E_C(spec['region'], spec['A_A'], spec['A_MR'], spec['A_OR'],\n",
    "                  A_env, eta_H, eta_C, Q,\n",
    "                  spec['C_A'], spec['C_MR'], spec['C_OR'],\n",
    "                  L_T_H_d_t_i, L_CS_d_t, L_CL_d_t, spec['mode_C'])\n",
    "\n",
    "\n",
    "    # ---- 暖房設備 ----\n",
    "\n",
    "    # 1 時間当たりの暖房設備の設計一次エネルギー消費量\n",
    "\n",
    "    # 実質的な温水暖房機の仕様を取得\n",
    "    spec_HS = get_virtual_heatsource(spec['region'], spec['H_HS'])\n",
    "\n",
    "    # 暖房日の計算\n",
    "    if spec['SHC'] is not None and spec['SHC']['type'] == '空気集熱式':\n",
    "        from s03_01_10_heating_day import get_heating_flag_d\n",
    "\n",
    "        heating_flag_d = get_heating_flag_d(L_dash_H_R_d_t_i)\n",
    "    else:\n",
    "        heating_flag_d = None\n",
    "\n",
    "    E_H = calc_E_H(spec['region'], spec['sol_region'], spec['A_A'], spec['A_MR'], spec['A_OR'],\n",
    "                  A_env, eta_H, eta_C, Q,\n",
    "                  spec['mode_H'],\n",
    "                  spec['H_A'], spec_MR, spec_OR, spec_HS, mode_MR, mode_OR, spec['CG'], spec['SHC'],\n",
    "                  heating_flag_d, L_T_H_d_t_i, L_CS_d_t, L_CL_d_t)\n",
    "\n",
    "    # 暖房設備の未処理暖房負荷の設計一次エネルギー消費量相当値\n",
    "    UPL = calc_E_UT_H(spec['region'], spec['A_A'], spec['A_MR'], spec['A_OR'], A_env, eta_H, eta_C, Q, spec['mode_H'],\n",
    "                     spec['H_A'], spec_MR, spec_OR, spec_HS, mode_MR, mode_OR, spec['CG'],\n",
    "                     L_T_H_d_t_i, L_CS_d_t, L_CL_d_t)\n",
    "    UPL = np.sum(UPL)\n",
    "\n",
    "    # 温水暖房負荷の計算\n",
    "    L_HWH = calc_L_HWH(spec['A_A'], spec['A_MR'], spec['A_OR'], spec['HEX'], spec['H_HS'], spec['H_MR'],\n",
    "                           spec['H_OR'], Q, spec['SHC'], spec['TS'], eta_H, eta_C, spec['NV_MR'], spec['NV_OR'],\n",
    "                           spec['r_A_ufvnt'], spec['region'], spec['sol_region'], spec['underfloor_insulation'],\n",
    "                           spec['CG'])\n",
    "\n",
    "    # ---- 給湯/コージェネ設備 ----\n",
    "\n",
    "    # その他または設置しない場合\n",
    "    spec_HW = get_virtual_hotwater(spec['region'], spec['HW'])\n",
    "\n",
    "    # 1 年当たりの給湯設備（コージェネレーション設備を含む）の設計一次エネルギー消費量\n",
    "    E_W, E_E_CG_gen_d_t, _, E_E_TU_aux_d_t, E_E_CG_h_d_t, E_G_CG_ded, e_BB_ave, Q_CG_h \\\n",
    "            = calc_E_W(spec['A_A'], spec['region'], spec['sol_region'], spec_HW, spec['SHC'], spec['CG'],\n",
    "                      spec['H_A'],\n",
    "                      spec['H_MR'], spec['H_OR'], spec['H_HS'], spec['C_A'], spec['C_MR'], spec['C_OR'],\n",
    "                      spec['V'],\n",
    "                      spec['L'], spec['A_MR'], spec['A_OR'], A_env, Q, eta_H, eta_C,\n",
    "                      spec['NV_MR'],\n",
    "                      spec['NV_OR'], spec['TS'], spec['r_A_ufvnt'], spec['HEX'],\n",
    "                      spec['underfloor_insulation'],\n",
    "                      spec['mode_H'], spec['mode_C'])\n",
    "\n",
    "    # ---- 照明,換気,その他設備 ----\n",
    "\n",
    "    # 1 年当たりの照明設備の設計一次エネルギー消費量\n",
    "    E_L = calc_E_L(spec['A_A'], spec['A_MR'], spec['A_OR'], spec['L'])\n",
    "\n",
    "    # 1 年当たりの機械換気設備の設計一次エネルギー消費量\n",
    "    E_V = calc_E_V(spec['A_A'], spec['V'], spec['HEX'])\n",
    "\n",
    "    # 1年当たりのその他の設計一次エネルギー消費量\n",
    "    E_M = calc_E_M(spec['A_A'])\n",
    "\n",
    "    # ---- 二次エネの計算 ----\n",
    "\n",
    "    # 1 年当たりの設計消費電力量（kWh/年）\n",
    "    E_E, E_E_PV_h_d_t, E_E_PV_d_t, E_E_CG_gen_d_t, E_E_CG_h_d_t, E_E_dmd_d_t, E_E_TU_aux_d_t = \\\n",
    "                calc_E_E(spec['region'], spec['sol_region'], spec['A_A'], spec['A_MR'], spec['A_OR'],\n",
    "                        A_env, spec_HW, Q, spec['TS'], eta_H, eta_C, spec['r_A_ufvnt'],\n",
    "                        spec['underfloor_insulation'], spec['NV_MR'], spec['NV_OR'],\n",
    "                        spec['mode_H'], spec['mode_C'],\n",
    "                        spec['V'], spec['L'],\n",
    "                        spec['H_A'], spec['H_MR'], spec['H_OR'], spec['H_HS'],\n",
    "                        spec['CG'], spec['SHC'],\n",
    "                        L_T_H_d_t_i,\n",
    "                        spec['C_A'], spec['C_MR'], spec['C_OR'], L_T_H_d_t_i,\n",
    "                        L_CS_d_t, L_CL_d_t,\n",
    "                        spec['HEX'], spec['PV'], solrad\n",
    "                        )\n",
    "    f_prim = get_f_prim()\n",
    "    E_gen = (np.sum(E_E_PV_d_t) + np.sum(E_E_CG_gen_d_t)) * f_prim / 1000\n",
    "\n",
    "    # 1 年当たりの設計ガス消費量（MJ/年）\n",
    "    E_G = calc_E_G(spec['region'], spec['sol_region'], spec['A_A'], spec['A_MR'], spec['A_OR'],\n",
    "                          A_env, Q, eta_H, eta_C, spec['NV_MR'], spec['NV_OR'], spec['TS'],\n",
    "                          spec['r_A_ufvnt'], spec['HEX'], spec['underfloor_insulation'],\n",
    "                          spec['H_A'], spec['H_MR'], spec['H_OR'], spec['H_HS'], spec['C_A'], spec['C_MR'],\n",
    "                          spec['C_OR'], spec['V'], spec['L'], spec_HW, spec['SHC'],\n",
    "                          spec_MR, spec_OR, spec_HS, mode_MR, mode_OR, spec['mode_H'], spec['mode_C'],\n",
    "                          spec['CG'],\n",
    "                          L_T_H_d_t_i, L_HWH, heating_flag_d)\n",
    "\n",
    "    # 1 年当たりの設計灯油消費量（MJ/年）\n",
    "    E_K = calc_E_K(spec['region'], spec['sol_region'], spec['A_A'], spec['A_MR'], spec['A_OR'],\n",
    "                          spec['H_A'],\n",
    "                          spec_MR, spec_OR, spec_HS, mode_MR, mode_OR, spec['CG'],\n",
    "                          L_T_H_d_t_i,\n",
    "                          L_HWH, heating_flag_d, spec_HW, spec['SHC'])\n",
    "\n",
    "    # ---- エネルギー利用効率化の評価 ----\n",
    "\n",
    "    # エネルギー利用効率化設備による設計一次エネルギー消費量の削減量\n",
    "    E_E_CG_h = get_E_E_CG_h(E_E_CG_h_d_t)\n",
    "    E_S = calc_E_S(spec['region'], spec['sol_region'], spec['PV'], spec['CG'], E_E_dmd_d_t, E_E_CG_gen_d_t,\n",
    "                   E_E_TU_aux_d_t, E_E_CG_h, E_G_CG_ded, e_BB_ave, Q_CG_h)\n",
    "\n",
    "    E_E_gen = np.sum(calc_E_E_PV_d_t(spec['PV'], solrad) + E_E_CG_gen_d_t)\n",
    "\n",
    "    # ---- 合計 ----\n",
    "\n",
    "    E_T = get_E_T(E_H, E_C, E_V, E_L, E_W, E_S, E_M)\n",
    "\n",
    "    return E_T, E_H, E_C, E_V, E_L, E_W, E_S, E_M, UPL, E_gen, E_E_gen, E_E_PV_h_d_t, E_E, E_G, E_K\n"
   ]
  },
  {
   "cell_type": "code",
   "execution_count": 3,
   "metadata": {},
   "outputs": [],
   "source": [
    "def get_E_T(E_H, E_C, E_V, E_L, E_W, E_S, E_M):\n",
    "    \"\"\"各1 年当たりの設計一次エネルギー消費量を合計する\n",
    "    \n",
    "    :param E_H: 1 年当たりの暖房設備の設計一次エネルギー消費量（MJ/年）\n",
    "    :type E_H: float\n",
    "    :param E_C: 1 年当たりの冷房設備の設計一次エネルギー消費量\n",
    "    :type E_C: float\n",
    "    :param E_V: 1 年当たりの機械換気設備の設計一次エネルギー消費量\n",
    "    :type E_V: float\n",
    "    :param E_L: 1 年当たりの照明設備の設計一次エネルギー消費量\n",
    "    :type E_L: float\n",
    "    :param E_W: 1 年当たりの給湯設備（コージェネレーション設備を含む）の設計一次エネルギー消費量\n",
    "    :type E_W: float\n",
    "    :param E_S: 1 年当たりのエネルギー利用効率化設備による設計一次エネルギー消費量の削減量\n",
    "    :type E_S: float\n",
    "    :param E_M: 1 年当たりのその他の設計一次エネルギー消費量\n",
    "    :type E_M: float\n",
    "    :return: 1 年当たりの設計一次エネルギー消費量（GJ/年）\n",
    "    :rtype: float\n",
    "    \"\"\"\n",
    "    # 1 年当たりの設計一次エネルギー消費量（MJ/年）(s2-2-1)\n",
    "    E_T_star = get_E_T_star(E_H, E_C, E_V, E_L, E_W, E_S, E_M)\n",
    "\n",
    "    # 小数点以下一位未満の端数があるときはこれを切り上げてMJをGJに変更する\n",
    "    E_T = ceil(E_T_star / 100) / 10  # (1)\n",
    "\n",
    "    return E_T\n"
   ]
  },
  {
   "cell_type": "markdown",
   "metadata": {},
   "source": [
    "$E_{T}$：設計一次エネルギー消費量(GJ/年) / Design primary energy consumption  \n",
    "$E_{T}^*$：設計一次エネルギー消費量(MJ/年) / Design primary energy consumption  "
   ]
  },
  {
   "cell_type": "markdown",
   "metadata": {},
   "source": [
    "設計一次エネルギー消費量$E_{T}$は、数値に小数点以下一位未満の端数があるときは、これを切り上げる。 "
   ]
  },
  {
   "cell_type": "markdown",
   "metadata": {},
   "source": [
    "Design Primary Energy Consumption $ E_{T} $ is rounded up if the number has a fraction less than one decimal place."
   ]
  },
  {
   "cell_type": "markdown",
   "metadata": {},
   "source": [
    "### 9．基準一次エネルギー消費量 / Standard primary energy consumption"
   ]
  },
  {
   "cell_type": "markdown",
   "metadata": {},
   "source": [
    "$$\n",
    "\\large \n",
    "E_{ST} = E_{ST}^* \\times 10^{-3}\n",
    "$$"
   ]
  },
  {
   "cell_type": "code",
   "execution_count": 4,
   "metadata": {},
   "outputs": [],
   "source": [
    "def calc_E_ST(spec):\n",
    "    \"\"\"基準一次エネルギー消費量の計算\n",
    "    \n",
    "    :param spec: 住戸についての詳細なデータ\n",
    "    :type spec: dict\n",
    "    :return: 1年当たりの各消費量 E_ST, E_SH, E_SC, E_SV, E_SL, E_SW, E_SM (7 variables)\n",
    "    :rtype: tuple\n",
    "    \"\"\"\n",
    "    # 1年当たりの機械換気設備の基準一次エネルギー消費量\n",
    "    E_SV = calc_E_SV(spec['A_A'])\n",
    "\n",
    "    # 1 時間当たりの暖房設備の基準一次エネルギー消費量\n",
    "    E_SH = calc_E_SH(spec['type'], spec['tatekata'], spec['region'], spec['reference'], spec['sol_region'], spec['A_A'],\n",
    "                     spec['A_MR'], spec['A_OR'], spec['ENV'], spec['mode_H'], spec['mode_C'], spec['NV_MR'], spec['NV_OR'], spec['H_MR'], spec['H_OR'])\n",
    "\n",
    "    # 1 時間当たりの冷房設備の基準一次エネルギー消費量\n",
    "    E_SC = calc_E_SC(spec['type'], spec['tatekata'], spec['region'], spec['reference'], spec['A_A'], spec['A_MR'],\n",
    "                     spec['A_OR'], spec['ENV'], spec['mode_C'], spec['mode_H'], spec['H_MR'], spec['H_OR'], spec['TS'], spec['HEX'],\n",
    "                     spec['sol_region'], spec['NV_MR'], spec['NV_OR'])\n",
    "\n",
    "    # 1年当たりの給湯設備の基準一次エネルギー消費量\n",
    "    E_SW = calc_E_SW(spec['region'], spec['A_A'], spec['HW'])\n",
    "\n",
    "    # 1年当たりの照明設備の基準一次エネルギー消費量\n",
    "    E_SL = calc_E_SL(spec['A_A'], spec['A_MR'], spec['A_OR'])\n",
    "\n",
    "    # 1年当たりのその他の基準一次エネルギー消費量\n",
    "    E_SM = calc_E_SM(spec['A_A'])\n",
    "\n",
    "    # 合計\n",
    "    E_ST = get_E_ST(E_SH, E_SC, E_SV, E_SL, E_SW, E_SM, spec['reference'])\n",
    "\n",
    "    return E_ST, E_SH, E_SC, E_SV, E_SL, E_SW, E_SM"
   ]
  },
  {
   "cell_type": "code",
   "execution_count": 5,
   "metadata": {},
   "outputs": [],
   "source": [
    "# 基準一次エネルギー消費量（GJ/年）\n",
    "def get_E_ST(E_SH, E_SC, E_SV, E_SL, E_SW, E_SM, reference):\n",
    "    \"\"\"基準一次エネルギー消費量（GJ/年）の取得\n",
    "\n",
    "    :param E_SH: 1 時間当たりの暖房設備の基準一次エネルギー消費量\n",
    "    :type E_SH: float\n",
    "    :param E_SC: 1 時間当たりの冷房設備の基準一次エネルギー消費量\n",
    "    :type E_SC: float\n",
    "    :param E_SV: 1 時間当たりの換気設備の基準一次エネルギー消費量\n",
    "    :type E_SV: float\n",
    "    :param E_SL: 1 時間当たりの照明設備の基準一次エネルギー消費量\n",
    "    :type E_SL: float\n",
    "    :param E_SW: 1 時間当たりの給湯設備の基準一次エネルギー消費量\n",
    "    :type E_SW: float\n",
    "    :param E_SM: 1 時間当たりのその他の基準一次エネルギー消費量\n",
    "    :type E_SM: float\n",
    "    :param reference: 基準値計算仕様\n",
    "    :type reference: dict\n",
    "    :return: 基準一次エネルギー消費量（GJ/年）\n",
    "    :rtype: float\n",
    "    \"\"\"\n",
    "    # 小数点以下一位未満の端数があるときはこれを切り上げる\n",
    "\n",
    "    return ceil(get_E_ST_star(E_SH, E_SC, E_SV, E_SL, E_SW, E_SM, reference) / 100) / 10  # (2)"
   ]
  },
  {
   "cell_type": "markdown",
   "metadata": {},
   "source": [
    "$E_{ST}$：基準一次エネルギー消費量(GJ/年) / Standard primary energy consumption  \n",
    "$E_{ST}^*$：基準一次エネルギー消費量(MJ/年) / Standard primary energy consumption  "
   ]
  },
  {
   "cell_type": "markdown",
   "metadata": {},
   "source": [
    "基準一次エネルギー消費量$E_{ST}$は、数値に小数点以下一位未満の端数があるときは、これを切り上げる。"
   ]
  },
  {
   "cell_type": "markdown",
   "metadata": {},
   "source": [
    "The standard primary energy consumption $ E_ {ST} $ is rounded up if there are fractions less than one decimal place in the number."
   ]
  },
  {
   "cell_type": "markdown",
   "metadata": {},
   "source": [
    "### 10．BEI (Building Energy Index）"
   ]
  },
  {
   "cell_type": "markdown",
   "metadata": {},
   "source": [
    "$$\n",
    "\\large \n",
    "BEI = \\frac{E'_{T}}{E'_{ST}}\n",
    "$$\n",
    "\n",
    "$$\n",
    "\\large \n",
    "E'_{T} = (E^*_{T} - E_{M}) / 1000\n",
    "$$\n",
    "\n",
    "$$\n",
    "\\large \n",
    "E'_{ST} = (E^*_{ST} - E_{SM}) / 1000\n",
    "$$"
   ]
  },
  {
   "cell_type": "code",
   "execution_count": 6,
   "metadata": {},
   "outputs": [],
   "source": [
    "# BEI(Building Energy Index）\n",
    "def calc_BEI(E_H, E_C, E_V, E_L, E_W, E_S, E_M, E_SH, E_SC, E_SV, E_SL, E_SW, E_SM, reference):\n",
    "    \"\"\"BEI(Building Energy Index） の取得\n",
    "    \n",
    "    :param E_H: 1 年当たりの暖房設備の設計一次エネルギー消費量（MJ/年）\n",
    "    :type E_H: float\n",
    "    :param E_C: 1 年当たりの冷房設備の設計一次エネルギー消費量（MJ/年）\n",
    "    :type E_C: float\n",
    "    :param E_V: 1 年当たりの機械換気設備の設計一次エネルギー消費量（MJ/年）\n",
    "    :type E_V: float\n",
    "    :param E_L: 1 年当たりの照明設備の設計一次エネルギー消費量（MJ/年）\n",
    "    :type E_L: float\n",
    "    :param E_W: 1 年当たりの給湯設備（コージェネレーション設備を含む）の設計一次エネルギー消費量（MJ/年）\n",
    "    :type E_W: float\n",
    "    :param E_S: 1 年当たりのエネルギー利用効率化設備による設計一次エネルギー消費量の削減量（MJ/年）\n",
    "    :type E_S: float\n",
    "    :param E_M: 1 年当たりのその他の設計一次エネルギー消費量（MJ/年）\n",
    "    :type E_M: float\n",
    "    :param E_SH: 1 年当たりの暖房設備の基準一次エネルギー消費量（MJ/年）\n",
    "    :type E_SH: float\n",
    "    :param E_SC: 1 年当たりの冷房設備の基準一次エネルギー消費量（MJ/年）\n",
    "    :type E_SC: float\n",
    "    :param E_SV: 1 年当たりの機械換気設備の基準一次エネルギー消費量（MJ/年）\n",
    "    :type E_SV: float\n",
    "    :param E_SL: 1 年当たりの照明設備の基準一次エネルギー消費量（MJ/年）\n",
    "    :type E_SL: float\n",
    "    :param E_SW 1 年当たりの給湯設備（コージェネレーション設備を含む）の基準一次エネルギー消費量（MJ/年）\n",
    "    :type E_SW: float\n",
    "    :param E_SM: 1 年当たりのその他の基準一次エネルギー消費量（MJ/年）\n",
    "    :type E_SM: float\n",
    "    :param result_type: 基準値計算仕様\n",
    "    :type result_type: dict\n",
    "    :return: BEI(Building Energy Index）\n",
    "    :rtype: float\n",
    "    \"\"\"\n",
    "    # 設計一次エネルギー消費量（MJ/年）\n",
    "    E_star_T = get_E_T_star(E_H, E_C, E_V, E_L, E_W, E_S, E_M)\n",
    "    \n",
    "    # 2020/02/13\n",
    "    # 基準値計算タイプについて仕様書とはずれるが、C#に合わせて一旦全て'建築物エネルギー消費性能基準（H28 年 4 月以降）'で計算\n",
    "    reference['result_type'] = '建築物エネルギー消費性能基準（H28 年 4 月以降）'\n",
    "\n",
    "    # 基準一次エネルギー消費量（MJ/年）\n",
    "    E_star_ST = get_E_ST_star(E_SH, E_SC, E_SV, E_SL, E_SW, E_SM, reference)\n",
    "\n",
    "    # 小数点以下一位未満の端数があるときはこれを切り上げる\n",
    "    E_T_dash = ceil((E_star_T - E_M) / 100) / 10  # (3-2)\n",
    "    E_ST_dash = ceil((E_star_ST - E_SM) / 100) / 10  # (3-3)\n",
    "    # 小数点以下二位未満の端数があるときはこれを切り上げる\n",
    "    BEI = ceil(E_T_dash / E_ST_dash * 100) / 100  # (3-1)\n",
    "    return BEI\n"
   ]
  },
  {
   "cell_type": "markdown",
   "metadata": {},
   "source": [
    "$BEI$：Building Energy Index(-)  \n",
    "$E_{ST}^*$：基準一次エネルギー消費量(MJ/年) / Standard primary energy consumption  \n",
    "$E'_{ST}$：その他の基準一次エネルギー消費量を除いた基準一次エネルギー消費量(GJ/年) / Other criteria Primary energy consumption excluding primary energy consumption  \n",
    "$E_{SM}$：1 年当たりのその他の基準一次エネルギー消費量(MJ/年) / Other baseline primary energy consumption per year  \n",
    "$E_{T}^*$：設計一次エネルギー消費量(MJ/年) / Design primary energy consumption  \n",
    "$E'_{T}$：その他の設計一次エネルギー消費量を除いた設計一次エネルギー消費量(GJ/年) / Other design primary energy consumption excluding primary energy consumption  \n",
    "$E_{M}$：1 年当たりのその他の設計一次エネルギー消費量(MJ/年) / Other design primary energy consumption per year  "
   ]
  },
  {
   "cell_type": "markdown",
   "metadata": {},
   "source": [
    "その他の基準一次エネルギー消費量を除いた基準一次エネルギー消費量$E'_{ST}$ およびその他の設計一次エネルギー消費量を除いた設計一次エネルギー消費量$E'_{T}$は、数値に小数点以下一位未満の端数があるときは、これを切り上げる。$BEI$は、数値に小数点以下二位未満の端数があるときは、これを切り上げる。"
   ]
  },
  {
   "cell_type": "markdown",
   "metadata": {},
   "source": [
    "Other criteria Primary energy consumption $ E'_{ST} $ excluding primary energy consumption and design primary energy consumption $ E'_{T} $ excluding other design primary energy consumption are numerical values If there is a fraction less than one decimal place in, round it up. $ BEI $ rounds up if the number has a fraction less than two decimal places."
   ]
  },
  {
   "cell_type": "markdown",
   "metadata": {},
   "source": [
    "## 付録 A 「主たる居室」、「その他の居室」及び「非居室」の定義並びに各床面積及び床面積の合計の算出方法 / Appendix A Definitions of \"main room\", \"other rooms\" and \"non-rooms\" and calculation method of total floor area and total floor area"
   ]
  },
  {
   "cell_type": "markdown",
   "metadata": {},
   "source": [
    "省略"
   ]
  },
  {
   "cell_type": "markdown",
   "metadata": {},
   "source": [
    "Omission"
   ]
  },
  {
   "cell_type": "markdown",
   "metadata": {},
   "source": [
    "# 試算例"
   ]
  },
  {
   "cell_type": "code",
   "execution_count": 7,
   "metadata": {},
   "outputs": [],
   "source": [
    "def get_default_house():\n",
    "    \n",
    "    house = {\n",
    "        # 基本情報\n",
    "        'type': '一般住宅',\n",
    "        'tatekata': '戸建住宅',\n",
    "        'result_type': '建築物エネルギー消費性能基準（H28 年 4 月以降）',\n",
    "        'A_A': 120.08,\n",
    "        'A_MR': 29.81,\n",
    "        'A_OR': 51.34,\n",
    "        'region': 6,\n",
    "        'sol_region': None,\n",
    "        'reference': {'result_type': '建築物エネルギー消費性能基準（H28 年 4 月以降）', 'reference_year': 'H28'},\n",
    "\n",
    "        # 外皮\n",
    "        'ENV': {\"A_env\": 307.51, \"U_A\": 0.87, \"eta_A_H\": 4.3, \"eta_A_C\": 2.8,\n",
    "                'method': '当該住宅の外皮面積の合計を用いて評価する', 'U_spec': None},\n",
    "        \"NV_MR\": 0, \"NV_OR\": 0,\n",
    "\n",
    "        'r_A_ufvnt': None,\n",
    "        'HEX': None,\n",
    "        'underfloor_insulation': False,\n",
    "        'TS': None,\n",
    "\n",
    "        # 暖房\n",
    "        'mode_H': '居室のみを暖房する方式でかつ主たる居室とその他の居室ともに温水暖房を設置する場合に該当しない場合',\n",
    "        'H_MR': {'type': 'ルームエアコンディショナー', 'e_class': 'は', 'dualcompressor': False},\n",
    "        'H_OR': {'type': 'ルームエアコンディショナー', 'e_class': 'は', 'dualcompressor': False},\n",
    "        'H_A': None,\n",
    "        'H_HS': None,\n",
    "\n",
    "        # 冷房\n",
    "        'mode_C': '居室のみを冷房する方式',\n",
    "        'C_A': None,\n",
    "        'C_MR': {\"type\": \"ルームエアコンディショナー\", 'e_class': 'は', 'dualcompressor': False},\n",
    "        'C_OR': {'type': 'ルームエアコンディショナー', 'e_class': 'は', 'dualcompressor': False},\n",
    "\n",
    "        # 換気\n",
    "        'V': {'type': 'ダクト式第二種換気設備又はダクト式第三種換気設備',\n",
    "              'input': '比消費電力', 'f_SFP': 0.30, 'v_e': None, 'N': 0.5},\n",
    "\n",
    "        # 熱交換\n",
    "        'HEX': None,\n",
    "\n",
    "        # 給湯\n",
    "        'HW': {'hw_type': 'ガス従来型給湯機', 'e_rtd': 0.704, 'e_dash_rtd': None, 'hybrid_category': None,\n",
    "               'bath_function': 'ふろ給湯機(追焚あり)', 'has_bath': True, 'pipe_diameter': '上記以外',\n",
    "               'kitchen_watersaving_A': False, 'kitchen_watersaving_C': False,  'shower_watersaving_A': False,\n",
    "               'shower_watersaving_B': False, 'washbowl_watersaving_C': False, 'bath_insulation': False},\n",
    "        \n",
    "        # 照明\n",
    "        'L': {'MR_installed': '設置しない', 'MR_power': None, 'MR_multi': None, 'MR_dimming': None,\n",
    "              'has_OR': True, 'OR_installed': '設置しない', 'OR_power': None, 'OR_dimming': None,\n",
    "              'has_NO': True, 'NO_installed': '設置しない', 'NO_power': None, 'NO_sensor': None,\n",
    "              },\n",
    "\n",
    "        # PV\n",
    "        'PV': None,\n",
    "\n",
    "        # 太陽熱\n",
    "        'SHC': None,\n",
    "\n",
    "        # コージェネ\n",
    "        'CG': None\n",
    "\n",
    "    }\n",
    "\n",
    "    house['ENV']['A_A'] = house['A_A']\n",
    "    \n",
    "    return house\n",
    "    "
   ]
  },
  {
   "cell_type": "code",
   "execution_count": 8,
   "metadata": {},
   "outputs": [],
   "source": [
    "def calc_results(house):\n",
    "    \n",
    "    if __name__ == '__main__':\n",
    "        \n",
    "        reference = house['reference']\n",
    "        \n",
    "        E_T, E_H, E_C, E_V, E_L, E_W, E_S, E_M, UPL, E_gen, E_E_gen, E_E_PV_h_d_t, E_E, E_G, E_K = calc_E_T(house)\n",
    "        E_ST, E_SH, E_SC, E_SV, E_SL, E_SW, E_SM = calc_E_ST(house)\n",
    "        BEI = calc_BEI(E_H, E_C, E_V, E_L, E_W, E_S, E_M, E_SH, E_SC, E_SV, E_SL, E_SW, E_SM, reference)\n",
    "    \n",
    "        print('E_H:{}, E_C:{}, E_V:{}, E_W:{}, E_L:{}, E_S:{}, E_M:{}'.format(E_H, E_C, E_V, E_W, E_L, E_S, E_M))\n",
    "        print('E_T:{}MJ/a'.format(E_H + E_C + E_V + E_W + E_L + E_S + E_M))\n",
    "        print('E_T:{}GJ/a'.format(E_T))\n",
    "        \n",
    "        print('E_SH:{}, E_SC:{}, E_SV:{}, E_SW:{}, E_SL:{}, E_SM:{}'.format(E_SH, E_SC, E_SV, E_SW, E_SL, E_SM))\n",
    "        print('E_ST:{}MJ/a:'.format(E_SH + E_SC + E_SV + E_SL + E_SW + E_SM))\n",
    "        print('E_ST:{}GJ/a:'.format(E_ST))\n",
    "        print('BEI:{}'.format(BEI))\n",
    "        \n",
    "        res_dict = {'E_T': E_T, 'E_H':  E_H, 'E_C':  E_C, 'E_V':  E_V, 'E_W':  E_W, 'E_L':  E_L, 'E_S':  E_S, 'E_M':  E_M}\n",
    "\n",
    "        return res_dict\n"
   ]
  },
  {
   "cell_type": "markdown",
   "metadata": {},
   "source": [
    "### 計算条件1"
   ]
  },
  {
   "cell_type": "markdown",
   "metadata": {},
   "source": [
    "初期条件での計算"
   ]
  },
  {
   "cell_type": "code",
   "execution_count": 9,
   "metadata": {
    "scrolled": false
   },
   "outputs": [
    {
     "name": "stdout",
     "output_type": "stream",
     "text": [
      "E_H:13935.00484492587, E_C:6035.98637903425, E_V:4583.320856768, E_W:27637.31547105188, E_L:10855.426786676848, E_S:0.0, E_M:21240.608512\n",
      "E_T:84287.66285045684MJ/a\n",
      "E_T:84.3GJ/a\n",
      "E_SH:13383.39340085772, E_SC:5633.946963393086, E_SV:4541.639999999999, E_SW:25091, E_SL:10762.63, E_SM:21240.53\n",
      "E_ST:80653.14036425081MJ/a:\n",
      "E_ST:80.7GJ/a:\n",
      "BEI:1.07\n"
     ]
    }
   ],
   "source": [
    "house = get_default_house()\n",
    "res_1 = calc_results(house)"
   ]
  },
  {
   "cell_type": "markdown",
   "metadata": {},
   "source": [
    "### 計算条件2"
   ]
  },
  {
   "cell_type": "markdown",
   "metadata": {},
   "source": [
    "- 暖房設備をFF暖房機に変更。  \n",
    "- 冷房設備の効率を（ろ）に変更。  \n",
    "- 基準値を誘導基準（新築）の共同住宅に変更。"
   ]
  },
  {
   "cell_type": "code",
   "execution_count": 10,
   "metadata": {},
   "outputs": [
    {
     "name": "stdout",
     "output_type": "stream",
     "text": [
      "E_H:18313.95363056884, E_C:6035.98637903425, E_V:4583.320856768, E_W:27637.31547105188, E_L:10855.426786676848, E_S:0.0, E_M:21240.608512\n",
      "E_T:88666.61163609981MJ/a\n",
      "E_T:88.7GJ/a\n",
      "E_SH:15615.563944038397, E_SC:4004.9142118718814, E_SV:4541.639999999999, E_SW:25091, E_SL:10762.63, E_SM:21240.53\n",
      "E_ST:81256.27815591027MJ/a:\n",
      "E_ST:81.3GJ/a:\n",
      "BEI:1.13\n"
     ]
    }
   ],
   "source": [
    "house = get_default_house()\n",
    "\n",
    "house['H_MR'] = {'type': 'FF暖房機', 'e_rtd_H': 0.860}\n",
    "house['H_OR'] = {'type': 'FF暖房機', 'e_rtd_H': 0.860}\n",
    "house['result_type'] = '建築物のエネルギー消費性能の向上の一層の促進のために誘導すべき基準（H28 年 4 月以降）'\n",
    "house['tatekata'] = '共同住宅'\n",
    "\n",
    "res_2 = calc_results(house)"
   ]
  },
  {
   "cell_type": "markdown",
   "metadata": {},
   "source": [
    "### 計算条件3"
   ]
  },
  {
   "cell_type": "markdown",
   "metadata": {},
   "source": [
    "- 地域区分を7地域に変更。  \n",
    "- 給湯を電気ヒーター給湯器に変更。  \n",
    "- 基準値を誘導基準（既存）に変更。\n"
   ]
  },
  {
   "cell_type": "code",
   "execution_count": 11,
   "metadata": {},
   "outputs": [
    {
     "name": "stdout",
     "output_type": "stream",
     "text": [
      "E_H:7281.403204441086, E_C:7346.746699267543, E_V:4583.320856768, E_W:55112.09009075067, E_L:10855.426786676848, E_S:0.0, E_M:21240.608512\n",
      "E_T:106419.59614990416MJ/a\n",
      "E_T:106.5GJ/a\n",
      "E_SH:6853.564019619615, E_SC:6673.192511804182, E_SV:4541.639999999999, E_SW:22809, E_SL:10762.63, E_SM:21240.53\n",
      "E_ST:72880.55653142379MJ/a:\n",
      "E_ST:72.9GJ/a:\n",
      "BEI:1.65\n"
     ]
    }
   ],
   "source": [
    "house = get_default_house()\n",
    "\n",
    "house['region'] = 7\n",
    "house['HW']['hw_type'] = '電気ヒーター給湯機'\n",
    "house['result_type'] = '建築物のエネルギー消費性能の向上の一層の促進のために誘導すべき基準（H28 年 4 月現存）'\n",
    "\n",
    "res_3 = calc_results(house)"
   ]
  },
  {
   "cell_type": "markdown",
   "metadata": {},
   "source": [
    "### 計算条件4"
   ]
  },
  {
   "cell_type": "markdown",
   "metadata": {},
   "source": [
    "- 洗面水栓の水優先吐水機能の採用\n",
    "- 浴槽の保温措置の採用\n",
    "- 基準値を事業主基準に変更"
   ]
  },
  {
   "cell_type": "code",
   "execution_count": 12,
   "metadata": {},
   "outputs": [
    {
     "name": "stdout",
     "output_type": "stream",
     "text": [
      "E_H:13935.00484492587, E_C:6035.98637903425, E_V:4583.320856768, E_W:26782.37667962411, E_L:10855.426786676848, E_S:0.0, E_M:21240.608512\n",
      "E_T:83432.72405902907MJ/a\n",
      "E_T:83.5GJ/a\n",
      "E_SH:13383.39340085772, E_SC:5633.946963393086, E_SV:4541.639999999999, E_SW:25091, E_SL:10762.63, E_SM:21240.53\n",
      "E_ST:80653.14036425081MJ/a:\n",
      "E_ST:80.7GJ/a:\n",
      "BEI:1.05\n"
     ]
    }
   ],
   "source": [
    "house = get_default_house()\n",
    "\n",
    "house['HW']['washbowl_watersaving_C'] = True\n",
    "house['HW']['bath_insulation'] = True\n",
    "house['result_type'] = '住宅事業建築主の判断の基準'\n",
    "\n",
    "res_4 = calc_results(house)"
   ]
  },
  {
   "cell_type": "markdown",
   "metadata": {},
   "source": [
    "### 計算条件5"
   ]
  },
  {
   "cell_type": "markdown",
   "metadata": {},
   "source": [
    "- 主居室の照明を全てLEDに変更\n",
    "- 基準値を気候風土適応住宅（新築）に変更"
   ]
  },
  {
   "cell_type": "code",
   "execution_count": 13,
   "metadata": {},
   "outputs": [
    {
     "name": "stdout",
     "output_type": "stream",
     "text": [
      "E_H:13935.00484492587, E_C:6035.98637903425, E_V:4583.320856768, E_W:27637.31547105188, E_L:7410.982497341519, E_S:0.0, E_M:21240.608512\n",
      "E_T:80843.21856112151MJ/a\n",
      "E_T:80.9GJ/a\n",
      "E_SH:13383.39340085772, E_SC:5633.946963393086, E_SV:4541.639999999999, E_SW:25091, E_SL:10762.63, E_SM:21240.53\n",
      "E_ST:80653.14036425081MJ/a:\n",
      "E_ST:80.7GJ/a:\n",
      "BEI:1.01\n"
     ]
    }
   ],
   "source": [
    "house = get_default_house()\n",
    "\n",
    "house['L']['MR_installed'] = '設置する'\n",
    "house['L']['MR_power'] = 'すべての機器においてLEDを使用している'\n",
    "house['L']['MR_multi'] = '採用しない'\n",
    "house['L']['MR_dimming'] = '採用しない'\n",
    "house['result_type'] = '気候風土適応住宅 新築'\n",
    "\n",
    "res_5 = calc_results(house)"
   ]
  },
  {
   "cell_type": "markdown",
   "metadata": {},
   "source": [
    "### 計算条件6"
   ]
  },
  {
   "cell_type": "markdown",
   "metadata": {},
   "source": [
    "- その他居室の照明を全てLEDに変更\n",
    "- 基準値を気候風土適応住宅（既存）に変更"
   ]
  },
  {
   "cell_type": "code",
   "execution_count": 14,
   "metadata": {
    "scrolled": true
   },
   "outputs": [
    {
     "name": "stdout",
     "output_type": "stream",
     "text": [
      "E_H:13935.00484492587, E_C:6035.98637903425, E_V:4583.320856768, E_W:27637.31547105188, E_L:8737.408434985657, E_S:0.0, E_M:21240.608512\n",
      "E_T:82169.64449876564MJ/a\n",
      "E_T:82.2GJ/a\n",
      "E_SH:13383.39340085772, E_SC:5633.946963393086, E_SV:4541.639999999999, E_SW:25091, E_SL:10762.63, E_SM:21240.53\n",
      "E_ST:80653.14036425081MJ/a:\n",
      "E_ST:80.7GJ/a:\n",
      "BEI:1.03\n"
     ]
    }
   ],
   "source": [
    "house = get_default_house()\n",
    "\n",
    "house['L']['OR_installed'] = '設置する'\n",
    "house['L']['OR_power'] = 'すべての機器においてLEDを使用している'\n",
    "house['L']['OR_dimming'] = '採用する'\n",
    "house['result_type'] = '気候風土適応住宅 平成28年4月1日時点で現存'\n",
    "\n",
    "res_6 = calc_results(house)"
   ]
  },
  {
   "cell_type": "markdown",
   "metadata": {},
   "source": [
    "## 設計一次エネルギー消費量の比較"
   ]
  },
  {
   "cell_type": "code",
   "execution_count": 15,
   "metadata": {},
   "outputs": [
    {
     "name": "stdout",
     "output_type": "stream",
     "text": [
      "             E_T           E_H          E_C          E_V           E_W  \\\n",
      "testcase1   84.3  13935.004845  6035.986379  4583.320857  27637.315471   \n",
      "testcase2   88.7  18313.953631  6035.986379  4583.320857  27637.315471   \n",
      "testcase3  106.5   7281.403204  7346.746699  4583.320857  55112.090091   \n",
      "testcase4   83.5  13935.004845  6035.986379  4583.320857  26782.376680   \n",
      "testcase5   80.9  13935.004845  6035.986379  4583.320857  27637.315471   \n",
      "testcase6   82.2  13935.004845  6035.986379  4583.320857  27637.315471   \n",
      "\n",
      "                    E_L  E_S           E_M  \n",
      "testcase1  10855.426787  0.0  21240.608512  \n",
      "testcase2  10855.426787  0.0  21240.608512  \n",
      "testcase3  10855.426787  0.0  21240.608512  \n",
      "testcase4  10855.426787  0.0  21240.608512  \n",
      "testcase5   7410.982497  0.0  21240.608512  \n",
      "testcase6   8737.408435  0.0  21240.608512  \n"
     ]
    },
    {
     "data": {
      "image/png": "[encoded data removed]",
      "text/plain": [
       "<Figure size 1440x504 with 1 Axes>"
      ]
     },
     "metadata": {
      "needs_background": "light"
     },
     "output_type": "display_data"
    }
   ],
   "source": [
    "import pandas as pd\n",
    "import matplotlib.pyplot as plt\n",
    "\n",
    "DBdict = {'testcase1': res_1, 'testcase2': res_2, 'testcase3': res_3, 'testcase4': res_4, 'testcase5': res_5, 'testcase6': res_6}\n",
    "DB = pd.DataFrame(DBdict)\n",
    "print(DB.T)\n",
    "DB_Ene = DB.T.to_dict()\n",
    "\n",
    "fig = plt.figure(figsize = (20,7))\n",
    "grh = fig.add_subplot(111)\n",
    "grh.set_xlabel('MJ/a')\n",
    "\n",
    "axNameArr = list(DB_Ene['E_T'].keys())\n",
    "ayNameArr = (\"E_H\", \"E_C\", \"E_V\", \"E_W\", \"E_L\", \"E_S\", \"E_M\")\n",
    "colors = ('lightcoral', 'lightblue', 'seagreen', 'royalblue', 'lightgray', 'plum', 'lightgreen')\n",
    "left_data = np.zeros(len(axNameArr))\n",
    "\n",
    "E_Harr = np.array(list(DB_Ene[\"E_H\"].values()))\n",
    "E_Carr = np.array(list(DB_Ene[\"E_C\"].values()))\n",
    "E_Varr = np.array(list(DB_Ene[\"E_V\"].values()))\n",
    "E_Warr = np.array(list(DB_Ene[\"E_W\"].values()))\n",
    "E_Larr = np.array(list(DB_Ene[\"E_L\"].values()))\n",
    "E_Sarr = np.array(list(DB_Ene[\"E_S\"].values()))\n",
    "E_Marr = np.array(list(DB_Ene[\"E_M\"].values()))\n",
    "EneArr = (E_Harr, E_Carr, E_Varr, E_Warr, E_Larr, E_Sarr, E_Marr)\n",
    "\n",
    "i=0\n",
    "for UsageEne in EneArr:\n",
    "    grh.barh(axNameArr, list(UsageEne), color=colors[i], label=ayNameArr[i], left=left_data)\n",
    "    left_data += UsageEne\n",
    "    i += 1\n",
    "\n",
    "grh.legend()\n",
    "plt.show()"
   ]
  }
 ],
 "metadata": {
  "kernelspec": {
   "display_name": "Python 3",
   "language": "python",
   "name": "python3"
  },
  "language_info": {
   "codemirror_mode": {
    "name": "ipython",
    "version": 3
   },
   "file_extension": ".py",
   "mimetype": "text/x-python",
   "name": "python",
   "nbconvert_exporter": "python",
   "pygments_lexer": "ipython3",
   "version": "3.8.5"
  }
 },
 "nbformat": 4,
 "nbformat_minor": 2
}
