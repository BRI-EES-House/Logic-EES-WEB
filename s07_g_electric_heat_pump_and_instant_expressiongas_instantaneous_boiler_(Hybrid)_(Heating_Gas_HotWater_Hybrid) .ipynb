{
 "cells": [
  {
   "cell_type": "markdown",
   "metadata": {},
   "source": [
    "# 付録G　電気ヒートポンプ・ガス瞬間式併用型給湯温水暖房機\n",
    "## （給湯熱源：電気ヒートポンプ・ガス瞬間式併用、暖房熱源：ガス瞬間式） \n"
   ]
  },
  {
   "cell_type": "markdown",
   "metadata": {},
   "source": [
    "## 仕様による方法"
   ]
  },
  {
   "cell_type": "markdown",
   "metadata": {},
   "source": [
    "### 消費電力量"
   ]
  },
  {
   "cell_type": "markdown",
   "metadata": {},
   "source": [
    "1日当たりの給湯機の消費電力量$E_{E,hs}$は以下の式により表される。"
   ]
  },
  {
   "cell_type": "markdown",
   "metadata": {},
   "source": [
    "$$\n",
    "\\large\n",
    "E_{E,hs}= max(((a \\times \\theta_{ex,Ave} + b \\times (L''_{k} + L''_{s} + L''_{w} + L''_{b2}) + c) \\times C_{E,def}+ (0.01723 \\times L''_{ba2} + 0.06099)) \\times 10^3 \\div 3600, 0)\n",
    "$$"
   ]
  },
  {
   "cell_type": "markdown",
   "metadata": {},
   "source": [
    "ここで、   \n",
    "$E_{E,hs}$ ：1日当たりの給湯機の消費電力量（kWh/d）   \n",
    "$\\theta_{ex,Ave}$ ：日平均外気温度（℃）   \n",
    "$L''_{k}$ ：1日当たりの台所水栓における太陽熱補正給湯熱負荷（MJ/d）   \n",
    "$L''_{s}$ ：1日当たりの浴室シャワーにおける太陽熱補正給湯熱負荷（MJ/d）   \n",
    "$L''_{w}$ ：1日当たりの洗面水栓における太陽熱補正給湯熱負荷（MJ/d）   \n",
    "$L''_{b2}$ ：1日当たりの浴槽自動湯はり時における太陽熱補正給湯熱負荷（MJ/d）   \n",
    "$L''_{ba2}$ ：1日当たりの浴槽追焚時における太陽熱補正給湯熱負荷（MJ/d）   \n",
    "$C_{E,def}$ ：1日当たりのデフロスト運転による消費電力量の補正係数　　　"
   ]
  },
  {
   "cell_type": "markdown",
   "metadata": {},
   "source": [
    "係数$a$、$b$及び$c$は表G.2に定める値とする。"
   ]
  },
  {
   "cell_type": "markdown",
   "metadata": {},
   "source": [
    "<div style=\"text-align: center;\">\n",
    "**表 G.2 式(1)における係数**\n",
    "</div>\n",
    "\n",
    "| | 区分1 | 区分2 | 区分3 |   \n",
    "|:-:|:-:|:-:|:-:|   \n",
    "| $a$ | -0.18441 | -0.18114 | -0.18441 |   \n",
    "| $b$ | 0.18530 | 0.10483 | 0.18530 |   \n",
    "| $c$ | 3.51058 | 5.85285 | 3.51058 |"
   ]
  },
  {
   "cell_type": "code",
   "execution_count": 1,
   "metadata": {},
   "outputs": [],
   "source": [
    "def get_E_E_hs(HP_type, theta_ex_Ave, _L_2dash_k, _L_2dash_s, _L_2dash_w, _L_2dash_b2, _L_2dash_ba2, _C_E_def):\n",
    "    \n",
    "    coeff_E = {'kubun_1': (-0.18441, 0.18530, 3.51058),\n",
    "               'kubun_2': (-0.18114, 0.10483, 5.85285),\n",
    "               'kubun_3': (-0.18441, 0.18530, 3.51058),\n",
    "              }\n",
    "    \n",
    "    ( a, b, c ) = coeff_E[HP_type]\n",
    "    \n",
    "    return max(((a * theta_ex_Ave + b * (_L_2dash_k + _L_2dash_s + _L_2dash_w + _L_2dash_b2) + c) * _C_E_def + (0.01723 *_L_2dash_ba2 + 0.06099)) * 10**3 / 3600, 0)"
   ]
  },
  {
   "cell_type": "markdown",
   "metadata": {},
   "source": [
    "#### test"
   ]
  },
  {
   "cell_type": "code",
   "execution_count": 2,
   "metadata": {},
   "outputs": [
    {
     "data": {
      "text/plain": [
       "2.1935083333333334"
      ]
     },
     "execution_count": 2,
     "metadata": {},
     "output_type": "execute_result"
    }
   ],
   "source": [
    "get_E_E_hs(HP_type ='kubun_1', theta_ex_Ave =10, _L_2dash_k =10, _L_2dash_s =15, _L_2dash_w =20, _L_2dash_b2 =25, _L_2dash_ba2 =30, _C_E_def =0.5)"
   ]
  },
  {
   "cell_type": "markdown",
   "metadata": {},
   "source": [
    "1日当たりのデフロスト運転による消費電力量の補正係数$C_{E,def}$は日平均外気温度$\\theta_{ex,Ave}$に依存し、以下の式により表される。"
   ]
  },
  {
   "cell_type": "markdown",
   "metadata": {},
   "source": [
    "$$\n",
    "\\displaystyle\n",
    "\\large\n",
    "C_{E,def} = \\left\\{ \\begin{array}{ll}\n",
    " 1.0 & (7 \\leq \\theta_{ex,Ave})\\\\\n",
    " 1 + (7 - \\theta_{ex,Ave}) \\times 0.0091 & (\\theta_{ex,Ave} < 7)\\\\\n",
    " \\end{array}\n",
    "\\right.\n",
    "$$"
   ]
  },
  {
   "cell_type": "code",
   "execution_count": 3,
   "metadata": {},
   "outputs": [],
   "source": [
    "def get_C_E_def(theta_ex_Ave):\n",
    "    if 7 <= theta_ex_Ave:\n",
    "        return 1.0\n",
    "    else:\n",
    "        return 1 + (7 - theta_ex_Ave) * 0.0091"
   ]
  },
  {
   "cell_type": "markdown",
   "metadata": {},
   "source": [
    "#### test"
   ]
  },
  {
   "cell_type": "code",
   "execution_count": 4,
   "metadata": {},
   "outputs": [
    {
     "data": {
      "text/plain": [
       "1.0182"
      ]
     },
     "execution_count": 4,
     "metadata": {},
     "output_type": "execute_result"
    }
   ],
   "source": [
    "get_C_E_def(theta_ex_Ave=5)"
   ]
  },
  {
   "cell_type": "markdown",
   "metadata": {},
   "source": [
    "###   ガス消費量"
   ]
  },
  {
   "cell_type": "markdown",
   "metadata": {},
   "source": [
    "1日当たりの給湯機のガス消費量$E_{G,hs}$は、以下の式により表される。"
   ]
  },
  {
   "cell_type": "markdown",
   "metadata": {},
   "source": [
    "$$\n",
    "\\large\n",
    "E_{G,hs}= max((d \\times \\theta_{ex,Ave} + e \\times (L''_{k} + L''_{s} + L''{w} + L''_{b2}) + f) \\times C_{G,def} + \\frac {L''_{ba2}}{e_{ba2}}, 0)\n",
    "$$"
   ]
  },
  {
   "cell_type": "markdown",
   "metadata": {},
   "source": [
    "ここで、   \n",
    "$E_{G,hs}$ ：1日当たりの給湯機のガス消費量（MJ/d）   \n",
    "$\\theta_{ex,Ave}$ ：日平均外気温度（℃）   \n",
    "$L''_{k}$ ：1日当たりの台所水栓における太陽熱補正給湯熱負荷（MJ/d）   \n",
    "$L''_{s}$ ：1日当たりの浴室シャワーにおける太陽熱補正給湯熱負荷（MJ/d）   \n",
    "$L''_{w}$ ：1日当たりの洗面水栓における太陽熱補正給湯熱負荷（MJ/d）   \n",
    "$L''_{b2}$ ：1日当たりの浴槽自動湯はり時における太陽熱補正給湯熱負荷（MJ/d）   \n",
    "$L''_{ba2}$ ：1日当たりの浴槽追焚時における太陽熱補正給湯熱負荷（MJ/d）   \n",
    "$e_{ba2}$ ：浴槽追焚時における日平均給湯機効率      \n",
    "$C_{E,def}$ ：1日当たりのデフロスト運転による消費電力量の補正係数　　　"
   ]
  },
  {
   "cell_type": "markdown",
   "metadata": {},
   "source": [
    "係数$d$、$e$及び$f$は表G.3に定める値とする。"
   ]
  },
  {
   "cell_type": "markdown",
   "metadata": {},
   "source": [
    "<div style=\"text-align: center;\">\n",
    "**表 G.3 係数**\n",
    "</div>\n",
    "\n",
    "| | 区分1 | 区分2 | 区分3 |\n",
    "|:-:|:-:|:-:|:-:|\n",
    "| $d$ | -0.52617 | -0.05770 | -0.52617 | \n",
    "| $e$ | 0.15061 | 0.47525 | 0.15061 |\n",
    "| $f$ | 15.18195 | -6.34593 | 15.18195 |"
   ]
  },
  {
   "cell_type": "code",
   "execution_count": 5,
   "metadata": {},
   "outputs": [],
   "source": [
    "def get_E_G_hs(HP_type, theta_ex_Ave, _L_2dash_k, _L_2dash_s, _L_2dash_w, _L_2dash_b2, _L_2dash_ba2, _C_G_def, _e_ba2):\n",
    "    \n",
    "    coeff_G = {'kubun_1': (-0.52617, 0.15061, 15.18195),\n",
    "             'kubun_2': (-0.05770, 0.47525, -6.34593),\n",
    "             'kubun_3': (-0.52617, 0.15061, 15.18195),\n",
    "            }\n",
    "    \n",
    "    ( d, e, f ) = coeff_G[HP_type]\n",
    "    \n",
    "    return max((d * theta_ex_Ave + e * (_L_2dash_k + _L_2dash_s + _L_2dash_w + _L_2dash_b2) + f) * _C_G_def + _L_2dash_ba2 / _e_ba2, 0)"
   ]
  },
  {
   "cell_type": "markdown",
   "metadata": {},
   "source": [
    "#### test"
   ]
  },
  {
   "cell_type": "code",
   "execution_count": 6,
   "metadata": {},
   "outputs": [
    {
     "data": {
      "text/plain": [
       "160.231475"
      ]
     },
     "execution_count": 6,
     "metadata": {},
     "output_type": "execute_result"
    }
   ],
   "source": [
    "get_E_G_hs(HP_type='kubun_1', theta_ex_Ave=10, _L_2dash_k=10, _L_2dash_s=15, _L_2dash_w=20, _L_2dash_b2=25, _L_2dash_ba2=30, _C_G_def=0.5, _e_ba2=0.2)"
   ]
  },
  {
   "cell_type": "markdown",
   "metadata": {},
   "source": [
    "浴槽追焚時における日平均給湯機効率$e_{ba2}$は日平均外気温度$\\theta_{ex,Ave}$と1日当たりの太陽熱補正給湯熱負荷$L''_{ba2}$に依存し、効率が1.0を超えない範囲で以下の式により表される。"
   ]
  },
  {
   "cell_type": "markdown",
   "metadata": {},
   "source": [
    "$$\n",
    "\\large\n",
    "e_{ba2}= g \\times \\theta_{ex,Ave} + h \\times L''_{ba2} + i\n",
    "$$"
   ]
  },
  {
   "cell_type": "markdown",
   "metadata": {},
   "source": [
    "ここで、係数$g$、$h$及び$i$は、表G.4に定める値とする。"
   ]
  },
  {
   "cell_type": "markdown",
   "metadata": {},
   "source": [
    "<div style=\"text-align: center;\">\n",
    "**表 G.4 係数**\n",
    "</div>\n",
    "\n",
    "| 係数 | 値 |\n",
    "|:-:|:-:|\n",
    "| $g$ | 0.0048 |\n",
    "| $h$ | 0.0060 |\n",
    "| $i$ | 0.7544 |"
   ]
  },
  {
   "cell_type": "code",
   "execution_count": 7,
   "metadata": {},
   "outputs": [],
   "source": [
    "def get_e_ba2(theta_ex_Ave, L_2dash_ba2):\n",
    "    \n",
    "    #表G.4より\n",
    "    g= 0.0048\n",
    "    h= 0.0060\n",
    "    i= 0.7544\n",
    "    \n",
    "    return g * theta_ex_Ave + h * L_2dash_ba2 + i"
   ]
  },
  {
   "cell_type": "markdown",
   "metadata": {},
   "source": [
    "#### test"
   ]
  },
  {
   "cell_type": "code",
   "execution_count": 8,
   "metadata": {},
   "outputs": [
    {
     "data": {
      "text/plain": [
       "1.0304"
      ]
     },
     "execution_count": 8,
     "metadata": {},
     "output_type": "execute_result"
    }
   ],
   "source": [
    "get_e_ba2(theta_ex_Ave=20, L_2dash_ba2=30)"
   ]
  },
  {
   "cell_type": "markdown",
   "metadata": {},
   "source": [
    "1日当たりのデフロスト運転によるガス消費量の補正係数$C_{G,def}$は日平均外気温度$\\theta_{ex,Ave}$に依存し、以下の式により表される。"
   ]
  },
  {
   "cell_type": "markdown",
   "metadata": {},
   "source": [
    "$$\n",
    "\\displaystyle\n",
    "\\large\n",
    "C_{G,def} = \\left\\{ \\begin{array}{ll}\n",
    " 1.0 & (7 \\leq \\theta_{ex,Ave})\\\\\n",
    " 1 + (7 - \\theta_{ex,Ave}) \\times 0.0205 & (\\theta_{ex,Ave} < 7)\\\\\n",
    " \\end{array}\n",
    "\\right.\n",
    "$$"
   ]
  },
  {
   "cell_type": "code",
   "execution_count": 9,
   "metadata": {},
   "outputs": [],
   "source": [
    "def _get_C_G_def(thate_ex_Ave):\n",
    "    if 7 <= thate_ex_Ave:\n",
    "        return 1.0\n",
    "    else:\n",
    "        return 1 + (7 - thate_ex_Ave) * 0.0205"
   ]
  },
  {
   "cell_type": "markdown",
   "metadata": {},
   "source": [
    "#### test"
   ]
  },
  {
   "cell_type": "code",
   "execution_count": 10,
   "metadata": {},
   "outputs": [
    {
     "data": {
      "text/plain": [
       "1.041"
      ]
     },
     "execution_count": 10,
     "metadata": {},
     "output_type": "execute_result"
    }
   ],
   "source": [
    "_get_C_G_def(thate_ex_Ave=5)"
   ]
  },
  {
   "cell_type": "markdown",
   "metadata": {},
   "source": [
    "### 灯油消費量"
   ]
  },
  {
   "cell_type": "markdown",
   "metadata": {},
   "source": [
    "1日当たりの給湯機の灯油消費量$E_{K,hs}$は0とする。"
   ]
  },
  {
   "cell_type": "markdown",
   "metadata": {},
   "source": [
    "### 電気ヒートポンプ・ガス瞬間式併用型給湯温水暖房機の区分"
   ]
  },
  {
   "cell_type": "markdown",
   "metadata": {},
   "source": [
    "電気ヒートポンプ・ガス瞬間式併用型給湯温水暖房機の区分を表G.5に示す。"
   ]
  },
  {
   "cell_type": "markdown",
   "metadata": {},
   "source": [
    "<div style=\"text-align: center;\">\n",
    "**表 G.5 給湯機の種類**\n",
    "</div>\n",
    "\n",
    "| 区分 | 定義 |\n",
    "|:---:|:---:|\n",
    "| 区分1 | 電気ヒートポンプの冷媒がフロン系冷媒であって<br>貯湯槽容量が95L未満のもの |\n",
    "| 区分2 | 電気ヒートポンプの冷媒がフロン系冷媒であって<br>貯湯槽容量が95L以上のもの |\n",
    "| 区分3 | 電気ヒートポンプの冷媒がプロパン冷媒であるもの |"
   ]
  },
  {
   "cell_type": "markdown",
   "metadata": {},
   "source": [
    "## 試験された値を用いる方法"
   ]
  },
  {
   "cell_type": "markdown",
   "metadata": {},
   "source": [
    "### 消費電力量"
   ]
  },
  {
   "cell_type": "markdown",
   "metadata": {},
   "source": [
    "1日当たりの給湯機の消費電力量$E_{E,hs}$は、以下の式により表される。"
   ]
  },
  {
   "cell_type": "markdown",
   "metadata": {},
   "source": [
    "$$\n",
    "\\large\n",
    "E_{E,hs} = E_{E,hs,HP} + E_{E,hs,TU} + E_{E,hs,BB}\n",
    "$$"
   ]
  },
  {
   "cell_type": "markdown",
   "metadata": {},
   "source": [
    "ここで、  \n",
    "$E_{E,hs}$ ：1日当たりの給湯機の消費電力量（kWh/d）  \n",
    "$E_{E,hs,HP}$ ：1日当たりの電気ヒートポンプの消費電力量（kWh/d）  \n",
    "$E_{E,hs,TU}$ ：1日当たりのタンクユニットの消費電力量（kWh/d）  \n",
    "$E_{E,hs,BB}$ ：1日当たりの保温時における消費電力量（kWh/d）  "
   ]
  },
  {
   "cell_type": "code",
   "execution_count": 11,
   "metadata": {},
   "outputs": [],
   "source": [
    "def get_E_hs(_E_E_hs_HP, _E_E_hs_TU, _E_E_hs_BB):\n",
    "    return _E_E_hs_HP + _E_E_hs_TU + _E_E_hs_BB"
   ]
  },
  {
   "cell_type": "markdown",
   "metadata": {},
   "source": [
    "#### test"
   ]
  },
  {
   "cell_type": "code",
   "execution_count": 12,
   "metadata": {},
   "outputs": [
    {
     "data": {
      "text/plain": [
       "45"
      ]
     },
     "execution_count": 12,
     "metadata": {},
     "output_type": "execute_result"
    }
   ],
   "source": [
    "get_E_hs(_E_E_hs_HP=10, _E_E_hs_TU=15, _E_E_hs_BB=20)"
   ]
  },
  {
   "cell_type": "markdown",
   "metadata": {},
   "source": [
    "1日当たりの電気ヒートポンプの消費電力量$E_{E,hs,HP}$は、以下の式により表される。"
   ]
  },
  {
   "cell_type": "markdown",
   "metadata": {},
   "source": [
    "$$\n",
    "\\large\n",
    "E_{E,hs,HP} = \\frac{Q_{HP}}{3.6 \\times e_{HP}}\n",
    "$$"
   ]
  },
  {
   "cell_type": "markdown",
   "metadata": {},
   "source": [
    "ここで、  \n",
    "$Q_{HP}$ ：1日当たりの電気ヒートポンプの加熱量（MJ/d）  \n",
    "$e_{HP}$ ：電気ヒートポンプの日平均熱効率（－）"
   ]
  },
  {
   "cell_type": "code",
   "execution_count": 13,
   "metadata": {},
   "outputs": [],
   "source": [
    "def get_E_E_hs_HP(_Q_HP, _e_HP):\n",
    "    return _Q_HP/(3.6 * _e_HP)"
   ]
  },
  {
   "cell_type": "markdown",
   "metadata": {},
   "source": [
    "#### test"
   ]
  },
  {
   "cell_type": "code",
   "execution_count": 14,
   "metadata": {},
   "outputs": [
    {
     "data": {
      "text/plain": [
       "27.77777777777778"
      ]
     },
     "execution_count": 14,
     "metadata": {},
     "output_type": "execute_result"
    }
   ],
   "source": [
    "get_E_E_hs_HP(_Q_HP=50, _e_HP=0.5)"
   ]
  },
  {
   "cell_type": "markdown",
   "metadata": {},
   "source": [
    "1日当たりのタンクユニットの消費電力量$E_{E,hs,TU}$は、以下の式により表される。"
   ]
  },
  {
   "cell_type": "markdown",
   "metadata": {},
   "source": [
    "$$\n",
    "\\large\n",
    "E_{E,hs,TU} = a_{TU} \\times L'' + b_{TU}\n",
    "$$"
   ]
  },
  {
   "cell_type": "markdown",
   "metadata": {},
   "source": [
    "ここで、  \n",
    "$L''$ ：1日当たりの太陽熱補正給湯熱負荷（MJ/d）"
   ]
  },
  {
   "cell_type": "markdown",
   "metadata": {},
   "source": [
    "係数$a_{TU}$、$b_{TU}$は規格「電気ヒートポンプ・ガス瞬間式併用型給湯機（ハイブリット給湯機）の年間給湯効率測定方法」により決定される。"
   ]
  },
  {
   "cell_type": "code",
   "execution_count": 15,
   "metadata": {},
   "outputs": [],
   "source": [
    "def get_E_E_hs_TU(_L_2dash, a_TU, b_TU):\n",
    "    return a_TU * _L_2dash + b_TU"
   ]
  },
  {
   "cell_type": "markdown",
   "metadata": {},
   "source": [
    "#### test"
   ]
  },
  {
   "cell_type": "code",
   "execution_count": 16,
   "metadata": {},
   "outputs": [
    {
     "data": {
      "text/plain": [
       "20.0"
      ]
     },
     "execution_count": 16,
     "metadata": {},
     "output_type": "execute_result"
    }
   ],
   "source": [
    "get_E_E_hs_TU(_L_2dash=20, a_TU=0.5, b_TU=10)"
   ]
  },
  {
   "cell_type": "markdown",
   "metadata": {},
   "source": [
    "1日当たりの保温時における消費電力量$E_{E,hs,BB}$は、ふろ機能の種類によって表される。"
   ]
  },
  {
   "cell_type": "markdown",
   "metadata": {},
   "source": [
    "ふろ機能の種類が給湯単機能又はふろ給湯機（追焚なし）の場合"
   ]
  },
  {
   "cell_type": "markdown",
   "metadata": {},
   "source": [
    "$$\n",
    "\\displaystyle\n",
    "\\large\n",
    "E_{E,hs,BB} = \\left\\{ \\begin{array}{ll}\n",
    " 0.000393 \\times W''_{ba1} \\times 10^3 \\div 3600 & (W''_{ba1} > 0)\\\\\n",
    " 0 & (W''_{ba1} = 0)\\\\\n",
    " \\end{array}\n",
    "\\right.\n",
    "$$"
   ]
  },
  {
   "cell_type": "markdown",
   "metadata": {},
   "source": [
    "ふろ機能の種類がふろ給湯機（追焚あり）の場合"
   ]
  },
  {
   "cell_type": "markdown",
   "metadata": {},
   "source": [
    "$$\n",
    "\\displaystyle\n",
    "\\large\n",
    "E_{E,hs,BB} = \\left\\{ \\begin{array}{ll}\n",
    " (0.01723 \\times L_{BB,ba2} + 0.06099) \\times 10^3 \\div 3600 & (L_{BB,ba2} > 0)\\\\\n",
    " 0 & (L_{BB,ba2} = 0)\\\\\n",
    " \\end{array}\n",
    "\\right.\n",
    "$$"
   ]
  },
  {
   "cell_type": "markdown",
   "metadata": {},
   "source": [
    "ここで、  \n",
    "$W'_{ba1}$ ：1日当たりの浴槽水栓さし湯時における節湯補正給湯量（L/d）  \n",
    "$L_{BB,ba2}$ ：1日当たりの浴槽追焚時におけるバックアップボイラーが分担する給湯熱負荷（MJ/d）"
   ]
  },
  {
   "cell_type": "code",
   "execution_count": 17,
   "metadata": {},
   "outputs": [],
   "source": [
    "def get_E_E_hs_BB(TypeOfBathFunc, _W_2dash_ba1, _L_BB_ba2):\n",
    "    \n",
    "    if (TypeOfBathFunc=='HotWaterHeater' or TypeOfBathFunc=='WaterHeaterForBath_WithoutReheating') and _W_2dash_ba1 > 0:\n",
    "        return 0.000393 * _W_2dash_ba1 * 10**3 / 3600\n",
    "    \n",
    "    elif (TypeOfBathFunc=='HotWaterHeater' or TypeOfBathFunc=='WaterHeaterForBath_WithoutReheating') and _W_2dash_ba1 == 0:\n",
    "        return 0\n",
    "    \n",
    "    elif TypeOfBathFunc== 'WaterHeaterForBath_WithReheating' and _L_BB_ba2 > 0:\n",
    "        return (0.01723 * _L_BB_ba2 + 0.06099) * 10**3 / 3600\n",
    "    \n",
    "    elif TypeOfBathFunc== 'WaterHeaterForBath_WithReheating' and _L_BB_ba2 == 0: \n",
    "        return 0"
   ]
  },
  {
   "cell_type": "markdown",
   "metadata": {},
   "source": [
    "#### test"
   ]
  },
  {
   "cell_type": "code",
   "execution_count": 18,
   "metadata": {},
   "outputs": [
    {
     "data": {
      "text/plain": [
       "0"
      ]
     },
     "execution_count": 18,
     "metadata": {},
     "output_type": "execute_result"
    }
   ],
   "source": [
    "get_E_E_hs_BB(TypeOfBathFunc='WaterHeaterForBath_WithoutReheating', _W_2dash_ba1=0, _L_BB_ba2=200)"
   ]
  },
  {
   "cell_type": "markdown",
   "metadata": {},
   "source": [
    "### ガス消費量"
   ]
  },
  {
   "cell_type": "markdown",
   "metadata": {},
   "source": [
    "1日当たりの給湯機のガス消費量$E_{G,hs}$は、ふろ機能の種類（「給湯単機能」、「ふろ給湯機（追焚なし）」及び「ふろ給湯機（追焚あり）」）に応じて以下の式により表される。"
   ]
  },
  {
   "cell_type": "markdown",
   "metadata": {},
   "source": [
    "ふろ機能の種類が「給湯単機能」の場合"
   ]
  },
  {
   "cell_type": "markdown",
   "metadata": {},
   "source": [
    "$$\n",
    "\\large\n",
    "E_{G,hs} = \\frac{L_{BB,k}}{e_{BB,k}} + \\frac{L_{BB,s}}{e_{BB,s}} + \\frac{L_{BB,w}}{e_{BB,w}} + \\frac{L_{BB,b1}}{e_{BB,b1}} + \\frac{L_{BB,ba1}}{e_{BB,ba1}} \n",
    "$$"
   ]
  },
  {
   "cell_type": "markdown",
   "metadata": {},
   "source": [
    "ふろ機能の種類が「ふろ給湯機（追焚なし）」の場合"
   ]
  },
  {
   "cell_type": "markdown",
   "metadata": {},
   "source": [
    "$$\n",
    "\\large\n",
    "E_{G,hs} = \\frac{L_{BB,k}}{e_{BB,k}} + \\frac{L_{BB,s}}{e_{BB,s}} + \\frac{L_{BB,w}}{e_{BB,w}} + \\frac{L_{BB,b2}}{e_{BB,b2}} + \\frac{L_{BB,ba1}}{e_{BB,ba1}} \n",
    "$$"
   ]
  },
  {
   "cell_type": "markdown",
   "metadata": {},
   "source": [
    "ふろ機能の種類が「ふろ給湯機（追焚あり）」の場合"
   ]
  },
  {
   "cell_type": "markdown",
   "metadata": {},
   "source": [
    "$$\n",
    "\\large\n",
    "E_{G,hs} = \\frac{L_{BB,k}}{e_{BB,k}} + \\frac{L_{BB,s}}{e_{BB,s}} + \\frac{L_{BB,w}}{e_{BB,w}} + \\frac{L_{BB,b2}}{e_{BB,b2}} + \\frac{L_{BB,ba2}}{e_{BB,ba2}} \n",
    "$$"
   ]
  },
  {
   "cell_type": "markdown",
   "metadata": {},
   "source": [
    "ここで、  \n",
    "$L_{BB,k}$ ：1日当たりの台所水栓におけるバックアップボイラーが分担する給湯熱負荷（MJ/d）  \n",
    "$L_{BB,s}$ ：1日当たりの浴室シャワー水栓におけるバックアップボイラーが分担する給湯熱負荷（MJ/d）  \n",
    "$L_{BB,w}$ ：1日当たりの洗面水栓におけるバックアップボイラーが分担する給湯熱負荷（MJ/d）  \n",
    "$L_{BB,b1}$ ：1日当たりの浴槽水栓湯はり時におけるバックアップボイラーが分担する給湯熱負荷（MJ/d）  \n",
    "$L_{BB,b2}$ ：1日当たりの浴槽自動湯はり時におけるバックアップボイラーが分担する給湯熱負荷（MJ/d）  \n",
    "$L_{BB,ba1}$ ：1日当たりの浴槽水栓さし湯におけるバックアップボイラーが分担する給湯熱負荷（MJ/d）  \n",
    "$L_{BB,ba2}$ ：1日当たりの浴槽追焚時におけるバックアップボイラーが分担する給湯熱負荷（MJ/d）  \n",
    "$e_{BB,k}$ ：台所水栓の給湯使用時におけるバックアップボイラーの日平均熱効率  \n",
    "$e_{BB,s}$ ：浴室シャワー水栓の給湯使用時におけるバックアップボイラーの日平均熱効率  \n",
    "$e_{BB,w}$ ：洗面水栓の給湯使用時におけるバックアップボイラーの日平均熱効率  \n",
    "$e_{BB,b1}$ ：浴槽水栓湯はり時におけるバックアップボイラーの日平均熱効率  \n",
    "$e_{BB,b2}$ ：浴槽自動湯はり時におけるバックアップボイラーの日平均熱効率  \n",
    "$e_{BB,ba1}$ ：浴槽水栓さし湯におけるバックアップボイラーの日平均熱効率  \n",
    "$e_{BB,ba2}$ ：浴槽追焚時におけるバックアップボイラーの日平均熱効率  "
   ]
  },
  {
   "cell_type": "markdown",
   "metadata": {},
   "source": [
    "各用途におけるバックアップボイラーの日平均熱効率$e_{BB,u}$（ただし、添え字$u$は用途を表す添え字（$k$,$s$,$w$,$b1$,$b2$,$ba1$,$ba2$））は、日平均外気温度$\\theta_{ex,Ave}$、1日当たりの各用途におけるバックアップボイラーが分担する給湯熱負荷$L_{BB,u}$、補助熱源機給湯モード熱効率(JIS)$e_{BB,jis}$に依存し、その計算方法は付録C「ガス給湯機及びガス給湯温水暖房機の給湯部」の給湯機効率$e_{u}$によるものとする。その際、付録中の太陽熱補正給湯熱負荷$L''$は$L_{BB,u}$、当該給湯機の効率$e_{rtd}$は$e_{BB,jis}$と読み替える。"
   ]
  },
  {
   "cell_type": "markdown",
   "metadata": {},
   "source": [
    "$e_{BB,jis}$は、規格「電気ヒートポンプ・ガス瞬間式併用型給湯機（ハイブリット給湯機）の年間給湯効率測定方法」により決定される。"
   ]
  },
  {
   "cell_type": "code",
   "execution_count": 19,
   "metadata": {},
   "outputs": [],
   "source": [
    "def get_E_G_hs_BB(TypeOfBathFunc, _L_BB_k, _L_BB_s, _L_BB_w, _L_BB_b1 ,_L_BB_b2 ,_L_BB_ba1 ,_L_BB_ba2, _e_BB_k, _e_BB_s, _e_BB_w, _e_BB_b1, _e_BB_b2, _e_BB_ba1, _e_BB_ba2):\n",
    "    \n",
    "    if TypeOfBathFunc=='HotWaterHeater':\n",
    "        return _L_BB_k/_e_BB_k + _L_BB_s/_e_BB_s + _L_BB_w/_e_BB_w + _L_BB_b1/_e_BB_b1 + _L_BB_ba1/_e_BB_ba1\n",
    "    \n",
    "    elif TypeOfBathFunc=='WaterHeaterForBath_WithoutReheating':\n",
    "        return _L_BB_k/_e_BB_k + _L_BB_s/_e_BB_s + _L_BB_w/_e_BB_w + _L_BB_b2/_e_BB_b2 + _L_BB_ba1/_e_BB_ba1\n",
    "    \n",
    "    elif TypeOfBathFunc== 'WaterHeaterForBath_WithReheating': \n",
    "        return _L_BB_k/_e_BB_k + _L_BB_s/_e_BB_s + _L_BB_w/_e_BB_w + _L_BB_b2/_e_BB_b2 + _L_BB_ba2/_e_BB_ba2"
   ]
  },
  {
   "cell_type": "markdown",
   "metadata": {},
   "source": [
    "#### test"
   ]
  },
  {
   "cell_type": "code",
   "execution_count": 32,
   "metadata": {},
   "outputs": [
    {
     "data": {
      "text/plain": [
       "800.0"
      ]
     },
     "execution_count": 32,
     "metadata": {},
     "output_type": "execute_result"
    }
   ],
   "source": [
    "get_E_G_hs_BB(TypeOfBathFunc= 'HotWaterHeater', _L_BB_k=5, _L_BB_s=10, _L_BB_w=15, _L_BB_b1=20 ,_L_BB_b2=25, _L_BB_ba1=30 ,_L_BB_ba2=35, _e_BB_k=0.1, _e_BB_s=0.1, _e_BB_w=0.1, _e_BB_b1=0.1, _e_BB_b2=0.1, _e_BB_ba1=0.1, _e_BB_ba2=0.1)"
   ]
  },
  {
   "cell_type": "markdown",
   "metadata": {},
   "source": [
    "### 電気ヒートポンプの加熱量"
   ]
  },
  {
   "cell_type": "markdown",
   "metadata": {},
   "source": [
    "1日当たりの電気ヒートポンプの加熱量$Q_{HP}$は、以下の式により表される。"
   ]
  },
  {
   "cell_type": "markdown",
   "metadata": {},
   "source": [
    "$$\n",
    "\\large\n",
    "Q_{HP} = \\frac{L_{HP}}{1-\\eta_{loss,TU}}\n",
    "$$"
   ]
  },
  {
   "cell_type": "markdown",
   "metadata": {},
   "source": [
    "ここで、  \n",
    "$L_{HP}$ ：1日当たりの電気ヒートポンプが分担する給湯熱負荷（MJ/d）  \n",
    "$\\eta_{loss,TU}$ ：年平均貯湯槽熱損失率（－）"
   ]
  },
  {
   "cell_type": "markdown",
   "metadata": {},
   "source": [
    "$\\eta_{loss,TU}$は規格「電気ヒートポンプ・ガス瞬間式併用型給湯機（ハイブリット給湯機）の年間給湯効率測定方法」により決定される。"
   ]
  },
  {
   "cell_type": "code",
   "execution_count": 21,
   "metadata": {},
   "outputs": [],
   "source": [
    "def get_Q_HP(_L_HP, eta_loss_TU):\n",
    "    return _L_HP / (1 - eta_loss_TU)"
   ]
  },
  {
   "cell_type": "markdown",
   "metadata": {},
   "source": [
    "#### test"
   ]
  },
  {
   "cell_type": "code",
   "execution_count": 22,
   "metadata": {},
   "outputs": [
    {
     "data": {
      "text/plain": [
       "40.0"
      ]
     },
     "execution_count": 22,
     "metadata": {},
     "output_type": "execute_result"
    }
   ],
   "source": [
    "get_Q_HP(_L_HP=20 , eta_loss_TU=0.5)"
   ]
  },
  {
   "cell_type": "markdown",
   "metadata": {},
   "source": [
    "### 電気ヒートポンプの日平均熱効率"
   ]
  },
  {
   "cell_type": "markdown",
   "metadata": {},
   "source": [
    "$$\n",
    "\\displaystyle\n",
    "\\large\n",
    "e_{HP} = \\left\\{ \\begin{array}{ll}\n",
    " e_{HPstd,2} - \\frac{2 - \\theta_{ex,Ave}}{9}(e_{HPstd,2} - e_{HPstd,-7}) & (\\theta_{ex,Ave} < 2)\\\\\n",
    " e_{HPstd,7} - \\frac{7 - \\theta_{ex,Ave}}{5}(e_{HPstd,7} - e_{HPstd,2}) & (2 \\leq \\theta_{ex,Ave} < 7)\\\\\n",
    " e_{HPstd,25} - \\frac{25 - \\theta_{ex,Ave}}{18}(e_{HPstd,25} - e_{HPstd,7}) & (7 \\leq \\theta_{ex,Ave} < 25)\\\\\n",
    " e_{HPstd,25} & (\\theta_{ex,Ave} \\geq 25)\\\\ \n",
    " \\end{array}\n",
    "\\right.\n",
    "$$"
   ]
  },
  {
   "cell_type": "markdown",
   "metadata": {},
   "source": [
    "ここで、  \n",
    "$e_{HPstd,-7}$ ：外気温度-7℃におけるヒートポンプ基準加熱効率（－）  \n",
    "$e_{HPstd,2}$ ：外気温度2℃におけるヒートポンプ基準加熱効率（－）  \n",
    "$e_{HPstd,7}$ ：外気温度7℃におけるヒートポンプ基準加熱効率（－）  \n",
    "$e_{HPstd,25}$ ：外気温度25℃におけるヒートポンプ基準加熱効率（－）  \n",
    "$\\theta_{ex,Ave}$ ：日平均外気温度（℃）  "
   ]
  },
  {
   "cell_type": "markdown",
   "metadata": {},
   "source": [
    "$e_{HPstd,-7}$、$e_{HPstd,2}$ 、$e_{HPstd,7}$ 、$e_{HPstd,25}$は、規格「電気ヒートポンプ・ガス瞬間式併用型給湯機（ハイブリット給湯機）の年間給湯効率測定方法」により決定される。"
   ]
  },
  {
   "cell_type": "code",
   "execution_count": 23,
   "metadata": {},
   "outputs": [],
   "source": [
    "def get_e_HP(theta_ex_Ave, e_HPstd_m7, e_HPstd_2, e_HPstd_7, e_HPstd_25):\n",
    "    \n",
    "    if theta_ex_Ave < 2:\n",
    "        return e_HPstd_2 - (2 - theta_ex_Ave)/ 9 * (e_HPstd_2 - e_HPstd_m7)\n",
    "    \n",
    "    elif 2 <= theta_ex_Ave < 7:\n",
    "        return e_HPstd_7 - (7 - theta_ex_Ave)/ 5 * (e_HPstd_7 - e_HPstd_2)\n",
    "    \n",
    "    elif 7 <= theta_ex_Ave < 25:\n",
    "        return e_HPstd_25 - (25 - theta_ex_Ave)/ 18 * (e_HPstd_25 - e_HPstd_7)\n",
    "    \n",
    "    elif theta_ex_Ave >= 25:\n",
    "        return e_HPstd_25"
   ]
  },
  {
   "cell_type": "markdown",
   "metadata": {},
   "source": [
    "#### test"
   ]
  },
  {
   "cell_type": "code",
   "execution_count": 24,
   "metadata": {},
   "outputs": [
    {
     "data": {
      "text/plain": [
       "2.0"
      ]
     },
     "execution_count": 24,
     "metadata": {},
     "output_type": "execute_result"
    }
   ],
   "source": [
    "get_e_HP(theta_ex_Ave= 2, e_HPstd_m7= 1, e_HPstd_2= 2, e_HPstd_7= 3, e_HPstd_25= 4)"
   ]
  },
  {
   "cell_type": "markdown",
   "metadata": {},
   "source": [
    "### 給湯熱負荷"
   ]
  },
  {
   "cell_type": "markdown",
   "metadata": {},
   "source": [
    "1日当たりの各用途におけるバックアップボイラーが分担する給湯熱負荷$L_{BB,k}$、$L_{BB,s}$、$L_{BB,w}$、$L_{BB,b1}$、$L_{BB,b2}$、$L_{BB,ba1}$、$L_{BB,ba2}$は、以下の式により表される。"
   ]
  },
  {
   "cell_type": "markdown",
   "metadata": {},
   "source": [
    "$$\n",
    "\\large\n",
    "L_{BB,k} = L''_{k} - L_{HP} \\times \\frac{L''_{k}}{L''}\n",
    "$$"
   ]
  },
  {
   "cell_type": "markdown",
   "metadata": {},
   "source": [
    "$$\n",
    "\\large\n",
    "L_{BB,s} = L''_{s} - L_{HP} \\times \\frac{L''_{s}}{L''}\n",
    "$$"
   ]
  },
  {
   "cell_type": "markdown",
   "metadata": {},
   "source": [
    "$$\n",
    "\\large\n",
    "L_{BB,w} = L''_{w} - L_{HP} \\times \\frac{L''_{w}}{L''}\n",
    "$$"
   ]
  },
  {
   "cell_type": "markdown",
   "metadata": {},
   "source": [
    "$$\n",
    "\\large\n",
    "L_{BB,b2} = L''_{b2} - L_{HP} \\times \\frac{L''_{b2}}{L''}\n",
    "$$"
   ]
  },
  {
   "cell_type": "markdown",
   "metadata": {},
   "source": [
    "$$\n",
    "\\large\n",
    "L_{BB,ba1} = L''_{ba1} - L_{HP} \\times \\frac{L''_{ba1}}{L''}\n",
    "$$"
   ]
  },
  {
   "cell_type": "markdown",
   "metadata": {},
   "source": [
    "$$\n",
    "\\large\n",
    "L_{BB,ba2} = L''_{ba2}\n",
    "$$"
   ]
  },
  {
   "cell_type": "markdown",
   "metadata": {},
   "source": [
    "ここで、  \n",
    "$L''_{k}$ ：1日当たりの台所水栓における太陽熱補正給湯熱負荷（MJ/d）  \n",
    "$L''_{s}$ ：1日当たりの浴室シャワー水栓における太陽熱補正給湯熱負荷（MJ/d）  \n",
    "$L''_{w}$ ：1日当たりの洗面水栓における太陽熱補正給湯熱負荷（MJ/d）  \n",
    "$L''_{b1}$ ：1日当たりの浴槽水栓湯はり時における太陽熱補正給湯熱負荷（MJ/d）  \n",
    "$L''_{b2}$ ：1日当たりの浴槽自動湯はり時における太陽熱補正給湯熱負荷（MJ/d）  \n",
    "$L''_{ba1}$ ：1日当たりの浴槽水栓さし湯時における太陽熱補正給湯熱負荷（MJ/d）  \n",
    "$L''_{ba2}$ ：1日当たりの浴槽追焚時における太陽熱補正給湯熱負荷（MJ/d）  \n",
    "$L_{HP}$ ：1日当たりの電気ヒートポンプが分担する給湯熱負荷（MJ/d）  "
   ]
  },
  {
   "cell_type": "code",
   "execution_count": 25,
   "metadata": {},
   "outputs": [],
   "source": [
    "def get_L_BB_u(_L_2dash, _L_2dash_k, _L_2dash_s, _L_2dash_w, _L_2dash_b2, _L_2dash_ba1, _L_2dash_ba2, _L_HP):\n",
    "    \n",
    "    L_BB_k = _L_2dash_k - _L_HP * _L_2dash_k / _L_2dash\n",
    "    \n",
    "    L_BB_s = _L_2dash_s - _L_HP * _L_2dash_s / _L_2dash\n",
    "    \n",
    "    L_BB_w = _L_2dash_w - _L_HP * _L_2dash_w / _L_2dash\n",
    "    \n",
    "    L_BB_b2 = _L_2dash_b2 - _L_HP * _L_2dash_b2 / _L_2dash\n",
    "    \n",
    "    L_BB_ba1 = _L_2dash_ba1 - _L_HP * _L_2dash_ba1 / _L_2dash\n",
    "    \n",
    "    L_BB_ba2 = _L_2dash_ba2\n",
    "    \n",
    "    return {'_L_BB_k':L_BB_k,'_L_BB_s':L_BB_s, '_L_BB_w':L_BB_w, '_L_BB_b2':L_BB_b2, '_L_BB_ba1':L_BB_ba1, '_L_BB_ba2':L_BB_ba2}"
   ]
  },
  {
   "cell_type": "markdown",
   "metadata": {},
   "source": [
    "#### test"
   ]
  },
  {
   "cell_type": "code",
   "execution_count": 26,
   "metadata": {},
   "outputs": [
    {
     "data": {
      "text/plain": [
       "{'_L_BB_b2': 12.0,\n",
       " '_L_BB_ba1': 15.0,\n",
       " '_L_BB_ba2': 30,\n",
       " '_L_BB_k': 3.0,\n",
       " '_L_BB_s': 6.0,\n",
       " '_L_BB_w': 9.0}"
      ]
     },
     "execution_count": 26,
     "metadata": {},
     "output_type": "execute_result"
    }
   ],
   "source": [
    "get_L_BB_u(_L_2dash= 50, _L_2dash_k= 5, _L_2dash_s= 10, _L_2dash_w= 15,_L_2dash_b2= 20, _L_2dash_ba1= 25, _L_2dash_ba2= 30, _L_HP= 20)"
   ]
  },
  {
   "cell_type": "markdown",
   "metadata": {},
   "source": [
    "1日当たりの電気ヒートポンプが分担する給湯熱負荷$L_{HP}$は、以下の式により表される。"
   ]
  },
  {
   "cell_type": "markdown",
   "metadata": {},
   "source": [
    "①$\\theta_{ex,Ave} \\geq \\theta_{ex,min,HP}$の場合、"
   ]
  },
  {
   "cell_type": "markdown",
   "metadata": {},
   "source": [
    "$$\n",
    "\\large\n",
    "L_{HP} = min ((a_{HP} \\times L'' + b_{HP}) \\times (1 - \\eta_{loss,TU}), L'', Q_{HP,max} \\times (1 - \\eta_{loss,TU}))\n",
    "$$"
   ]
  },
  {
   "cell_type": "markdown",
   "metadata": {},
   "source": [
    "②$\\theta_{ex,Ave} < \\theta_{ex,min,HP}$の場合、"
   ]
  },
  {
   "cell_type": "markdown",
   "metadata": {},
   "source": [
    "$$\n",
    "\\large\n",
    "L_{HP} = 0\n",
    "$$"
   ]
  },
  {
   "cell_type": "markdown",
   "metadata": {},
   "source": [
    "ここで、  \n",
    "$\\theta_{ex,Ave}$ ：日平均外気温度（℃）  \n",
    "$\\theta_{ex,min,HP}$ ：ヒートポンプ運転下限外気温（℃）  \n",
    "$L''$ ：1日当たりの太陽熱補正給湯熱負荷（MJ/d）  \n",
    "$\\eta_{loss,TU}$ ：年平均貯湯槽熱損失率（－）  \n",
    "$Q_{HP,max}$ ：最大ヒートポンプ加熱量（MJ/d）"
   ]
  },
  {
   "cell_type": "markdown",
   "metadata": {},
   "source": [
    "$\\theta_{ex,min,HP}$、$a_{HP}$、$b_{HP}$、$\\eta_{loss,TU}$および$Q_{HP,max}$は、規格「電気ヒートポンプ・ガス瞬間式併用型給湯機（ハイブリット給湯機）の年間給湯効率測定方法」により決定される。"
   ]
  },
  {
   "cell_type": "code",
   "execution_count": 27,
   "metadata": {},
   "outputs": [],
   "source": [
    "def get_L_HP(theta_ex_Ave, theta_ex_min_HP, a_HP, b_HP, _L_2dash, eta_loss_TU, Q_HP_max):\n",
    "    \n",
    "    if theta_ex_Ave >= theta_ex_min_HP:\n",
    "        return min((a_HP * _L_2dash + b_HP) * (1 - eta_loss_TU), _L_2dash, Q_HP_max * (1 - eta_loss_TU))\n",
    "    \n",
    "    elif theta_ex_Ave < theta_ex_min_HP:\n",
    "        return 0"
   ]
  },
  {
   "cell_type": "markdown",
   "metadata": {},
   "source": [
    "#### test"
   ]
  },
  {
   "cell_type": "code",
   "execution_count": 28,
   "metadata": {},
   "outputs": [
    {
     "data": {
      "text/plain": [
       "7.139999999999999"
      ]
     },
     "execution_count": 28,
     "metadata": {},
     "output_type": "execute_result"
    }
   ],
   "source": [
    "get_L_HP(theta_ex_Ave=15, theta_ex_min_HP=10, a_HP=0.1, b_HP=0.2, _L_2dash=100, eta_loss_TU=0.3, Q_HP_max=200)"
   ]
  },
  {
   "cell_type": "markdown",
   "metadata": {},
   "source": [
    "1日当たりの太陽熱補正給湯熱負荷$L''$は、以下の式により表される。"
   ]
  },
  {
   "cell_type": "markdown",
   "metadata": {},
   "source": [
    "$$\n",
    "\\large\n",
    "L'' = L''_{k} +  L''_{s} +  L''_{w} +  L''_{b1} + L''_{b2} + L''_{ba1}\n",
    "$$"
   ]
  },
  {
   "cell_type": "markdown",
   "metadata": {},
   "source": [
    "ここで、  \n",
    "$L''_{k}$ ：1日当たりの台所水栓における太陽熱補正給湯熱負荷（MJ/d）  \n",
    "$L''_{s}$ ：1日当たりの浴室シャワー水栓における太陽熱補正給湯熱負荷（MJ/d）  \n",
    "$L''_{w}$ ：1日当たりの洗面水栓における太陽熱補正給湯熱負荷（MJ/d）  \n",
    "$L''_{b1}$ ：1日当たりの浴槽水栓湯はり時における太陽熱補正給湯熱負荷（MJ/d）  \n",
    "$L''_{b2}$ ：1日当たりの浴槽自動湯はり時における太陽熱補正給湯熱負荷（MJ/d）  \n",
    "$L''_{ba1}$ ：1日当たりの浴槽水栓さし湯時における太陽熱補正給湯熱負荷（MJ/d）  "
   ]
  },
  {
   "cell_type": "code",
   "execution_count": 29,
   "metadata": {},
   "outputs": [],
   "source": [
    "def get_L_2dash(_L_2dash_k, _L_2dash_s, _L_2dash_w, _L_2dash_b1, _L_2dash_b2, _L_2dash_ba1):\n",
    "    return _L_2dash_k + _L_2dash_s + _L_2dash_w + _L_2dash_b1 + _L_2dash_b2 + _L_2dash_ba1"
   ]
  },
  {
   "cell_type": "markdown",
   "metadata": {},
   "source": [
    "#### test"
   ]
  },
  {
   "cell_type": "code",
   "execution_count": 30,
   "metadata": {},
   "outputs": [
    {
     "data": {
      "text/plain": [
       "105"
      ]
     },
     "execution_count": 30,
     "metadata": {},
     "output_type": "execute_result"
    }
   ],
   "source": [
    "get_L_2dash(_L_2dash_k=5, _L_2dash_s=10, _L_2dash_w=15, _L_2dash_b1=20, _L_2dash_b2=25, _L_2dash_ba1=30)"
   ]
  },
  {
   "cell_type": "markdown",
   "metadata": {},
   "source": [
    "### Integrated Function"
   ]
  }
 ],
 "metadata": {
  "kernelspec": {
   "display_name": "Python 3",
   "language": "python",
   "name": "python3"
  },
  "language_info": {
   "codemirror_mode": {
    "name": "ipython",
    "version": 3
   },
   "file_extension": ".py",
   "mimetype": "text/x-python",
   "name": "python",
   "nbconvert_exporter": "python",
   "pygments_lexer": "ipython3",
   "version": "3.6.4"
  }
 },
 "nbformat": 4,
 "nbformat_minor": 2
}
