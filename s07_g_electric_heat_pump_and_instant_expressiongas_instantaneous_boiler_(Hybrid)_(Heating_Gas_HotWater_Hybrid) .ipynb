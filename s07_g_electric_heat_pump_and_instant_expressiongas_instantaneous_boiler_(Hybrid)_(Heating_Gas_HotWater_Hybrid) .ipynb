{
 "cells": [
  {
   "cell_type": "markdown",
   "metadata": {},
   "source": [
    "# 付録G　電気ヒートポンプ・ガス瞬間式併用型給湯温水暖房機\n",
    "## （給湯熱源：電気ヒートポンプ・ガス瞬間式併用、暖房熱源：ガス瞬間式） \n"
   ]
  },
  {
   "cell_type": "markdown",
   "metadata": {},
   "source": [
    "## 消費電力量"
   ]
  },
  {
   "cell_type": "markdown",
   "metadata": {},
   "source": [
    "$$\n",
    "\\large\n",
    "E_{E,hs}= max([a \\times \\theta_{ex,Ave} + b \\times (L''_{k} + L''_{s} + L''_{w} + L''_{b2}) + c) \\times C_{E,def} + (0.01723 \\times L''_{ba2} + 0.06099)] \\times 10^3 \\div 3600, 0)\n",
    "$$"
   ]
  },
  {
   "cell_type": "markdown",
   "metadata": {},
   "source": [
    "## デフロスト運転による消費電力量の補正係数"
   ]
  },
  {
   "cell_type": "markdown",
   "metadata": {},
   "source": [
    "$$\n",
    "\\displaystyle\n",
    "\\large\n",
    "C_{E,def} = \\left\\{ \\begin{array}{ll}\n",
    " 1.0 & (7 \\leq \\theta_{ex,Ave})\\\\\n",
    " 1 + (7 - \\theta_{ex,Ave}) \\times 0.0091 & (\\theta_{ex,Ave} < 7)\\\\\n",
    " \\end{array}\n",
    "\\right.\n",
    "$$"
   ]
  },
  {
   "cell_type": "markdown",
   "metadata": {},
   "source": [
    "##   ガス消費量"
   ]
  },
  {
   "cell_type": "markdown",
   "metadata": {},
   "source": [
    "$$\n",
    "\\large\n",
    "E_{G,hs}= max([d \\times \\theta_{ex,Ave} + e \\times (L''_{k} + L''_{s} + L''{w} + L''_{b2}) + f) \\times C_{G,def} + \\frac {L''_{ba2}}{e_{ba2}}, 0)\n",
    "$$"
   ]
  },
  {
   "cell_type": "markdown",
   "metadata": {},
   "source": [
    "## 浴槽追焚時における日平均給湯機効率 "
   ]
  },
  {
   "cell_type": "markdown",
   "metadata": {},
   "source": [
    "$$\n",
    "\\large\n",
    "e_{ba2}= g \\times \\theta_{ex,Ave} + h \\times L''_{ba2} + i\n",
    "$$"
   ]
  },
  {
   "cell_type": "markdown",
   "metadata": {},
   "source": [
    "## デフロスト運転によるガス消費量の補正係数"
   ]
  },
  {
   "cell_type": "markdown",
   "metadata": {},
   "source": [
    "$$\n",
    "\\displaystyle\n",
    "\\large\n",
    "C_{G,def} = \\left\\{ \\begin{array}{ll}\n",
    " 1.0 & (7 \\leq \\theta_{ex,Ave})\\\\\n",
    " 1 + (7 - \\theta_{ex,Ave}) \\times 0.0205 & (\\theta_{ex,Ave} < 7)\\\\\n",
    " \\end{array}\n",
    "\\right.\n",
    "$$"
   ]
  }
 ],
 "metadata": {
  "kernelspec": {
   "display_name": "Python 3",
   "language": "python",
   "name": "python3"
  },
  "language_info": {
   "codemirror_mode": {
    "name": "ipython",
    "version": 3
   },
   "file_extension": ".py",
   "mimetype": "text/x-python",
   "name": "python",
   "nbconvert_exporter": "python",
   "pygments_lexer": "ipython3",
   "version": "3.6.4"
  }
 },
 "nbformat": 4,
 "nbformat_minor": 2
}
