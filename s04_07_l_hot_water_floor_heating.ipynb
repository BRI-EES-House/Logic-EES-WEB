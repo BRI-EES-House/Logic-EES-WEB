{
 "cells": [
  {
   "cell_type": "markdown",
   "metadata": {},
   "source": [
    "使用許諾条件\n",
    "\n",
    "①\t設計一次エネルギー消費量算定法に基づく計算方法をPythonによりコーディングし、Jupyter notebook形式で保存したファイル（以下、本ファイルと呼ぶ）の著作権は、一般社団法人日本サステナブル建築協会に帰属します。\n",
    "Copyright©2019. 一般社団法人日本サステナブル建築協会\n",
    "All rights reserved. \n",
    "\n",
    "②\t本ファイルは、住戸の設計一次エネルギー消費量算定方法に係る「平成28年省エネルギー基準に準拠したエネルギー消費性能の評価に関する技術情報（住宅）2.1算定方法（第四章第七節 温水暖房）」に示す計算方法に基づき、国土交通省国土技術政策総合研究所・国立研究開発法人建築研究所、株式会社ユーワークス、株式会社住環境計画研究所が作成したものです。\n",
    "\n",
    "③\t本ファイルは、計算方法に示す計算過程の確認及び調査研究等に活用することを目的として作成されたものであり、一般社団法人日本サステナブル建築協会は著作権について放棄はしませんが、使用する各人の自己責任において仕様を変更することを妨げるものではありません。ただし、本ファイルによる計算結果を住宅の省エネルギー基準で規定する設計一次エネルギー消費量の結果として公的な申請に用いることはできません。\n",
    "\n",
    "④\t本ファイルを変更するかしないかを問わず、以下の条件を満たす場合に限り、頒布および使用が許可されます。\n",
    "1.\t頒布物の付属ドキュメント等の資料に、上記の著作権表示、本条件一覧、および下記免責条項を含めること。\n",
    "2.\t書面による特別の許可なしに、本ファイルから派生した製品の宣伝または販売の促進に、一般社団法人日本サステナブル建築協会、国土技術政策総合研究所・国立研究開発法人建築研究所および株式会社ユーワークス、株式会社住環境計画研究所の名前またはコントリビューターの名前を使用してはならない。\n",
    "\n",
    "⑤\t本ファイルは、著作権者およびコントリビューターによって「現状のまま」提供されており、明示黙示を問わず、商業的な使用可能性、および特定の目的に対する適合性に関する暗黙の保証も含め、またそれに限定されない、いかなる保証もありません。著作権もコントリビューターも、事由のいかんを問わず、損害発生の原因いかんを問わず、かつ責任の根拠が契約であるか厳格責任であるか（過失その他の）不法行為であるかを問わず、仮にそのような損害が発生する可能性を知らされていたとしても、本ファイルの使用によって発生した（代用品または代用サービスの調達、使用の喪失、データの喪失、利益の喪失、業務の中断も含め、またそれに限定されない）直接損害、間接損害、偶発的な損害、特別損害、懲罰的損害、または結果損害について、一切の責任を負わないものとします。\n",
    "\n"
   ]
  },
  {
   "cell_type": "code",
   "execution_count": null,
   "metadata": {},
   "outputs": [],
   "source": [
    "import numpy as np"
   ]
  },
  {
   "cell_type": "markdown",
   "metadata": {},
   "source": [
    "## 付録L　温水床暖房 / Appendix L Heated floor heating"
   ]
  },
  {
   "cell_type": "markdown",
   "metadata": {},
   "source": [
    "### L.1 記号及び単位 / Symbol and unit"
   ]
  },
  {
   "cell_type": "markdown",
   "metadata": {},
   "source": [
    "省略"
   ]
  },
  {
   "cell_type": "markdown",
   "metadata": {},
   "source": [
    "ommision"
   ]
  },
  {
   "cell_type": "markdown",
   "metadata": {},
   "source": [
    "### L.2 熱損失 / Heat loss"
   ]
  },
  {
   "cell_type": "markdown",
   "metadata": {},
   "source": [
    "$$\\large\n",
    "Q_{loss,rad} = Q_{T,H,rad} \\times \\frac{(1 - r_{up})}{r_{up}}\n",
    "$$"
   ]
  },
  {
   "cell_type": "markdown",
   "metadata": {},
   "source": [
    "$Q_{T,H,rad}$：1 時間当たりの放熱器の処理暖房負荷(MJ/h) / Radiator processing heating load per hour  \n",
    "$r_{up}$：温水床暖房の上面放熱率 / Top radiation rate of heated floor heating  "
   ]
  },
  {
   "cell_type": "code",
   "execution_count": null,
   "metadata": {},
   "outputs": [],
   "source": [
    "def get_Q_loss_rad(Q_T_H_rad, r_up):\n",
    "    \"\"\" 放熱器の熱損失 (1)\n",
    "\n",
    "    :param Q_T_H_rad: 1時間当たりの放熱器の処理暖房負荷 (MJ/h)\n",
    "    :type Q_T_H_rad: ndarray\n",
    "    :param r_up: 温水床暖房の定免法熱率 (-)\n",
    "    :type r_up: float\n",
    "    :return: 放熱器の熱損失 (MJ/h)\n",
    "    :rtype: ndarray\n",
    "    \"\"\"\n",
    "    return Q_T_H_rad * (1 - r_up) / r_up\n"
   ]
  },
  {
   "cell_type": "markdown",
   "metadata": {},
   "source": [
    "### L.3 温水供給運転率 / Hot water supply operation rate"
   ]
  },
  {
   "cell_type": "markdown",
   "metadata": {},
   "source": [
    "$$\\large\n",
    "r_{WS,rad} = \\frac{Q_{T,H,rad}}{Q_{max,H,rad}}\n",
    "$$"
   ]
  },
  {
   "cell_type": "markdown",
   "metadata": {},
   "source": [
    "$r_{WS,rad}$：放熱器の温水供給運転率 / Radiator hot water supply operation rate  \n",
    "$Q_{T,H,rad}$：1 時間当たりの放熱器の処理暖房負荷(MJ/h) / Radiator processing heating load per hour  \n",
    "$Q_{max,H,rad}$：1 時間当たりの放熱器の最大暖房出力(MJ/h) / Maximum heating power of radiator per hour  "
   ]
  },
  {
   "cell_type": "code",
   "execution_count": null,
   "metadata": {},
   "outputs": [],
   "source": [
    "def get_r_WS_rad(Q_T_H_rad, Q_max_H_rad):\n",
    "    \"\"\" 温水供給運転率 (2)\n",
    "\n",
    "    :param Q_T_H_rad: 1時間当たりの放熱器の処理暖房負荷 (MJ/h)\n",
    "    :type Q_T_H_rad: ndarray\n",
    "    :param Q_max_H_rad: 1時間当たりの放熱器の最大暖房出力 (MJ/h)\n",
    "    :type Q_max_H_rad: ndarray\n",
    "    :return: 温水供給運転率 (-)\n",
    "    :rtype: ndarray\n",
    "    \"\"\"\n",
    "    return Q_T_H_rad / Q_max_H_rad\n"
   ]
  },
  {
   "cell_type": "markdown",
   "metadata": {},
   "source": [
    "### L.4 最大暖房出力 / Maximum heating output"
   ]
  },
  {
   "cell_type": "markdown",
   "metadata": {},
   "source": [
    "$$\\large\n",
    "Q_{max,H,rad} = q_{max,fh} \\times A_{f} \\times \\frac{\\theta_{SW} - 20}{60 - 20} \\times 3600 \\times 10^{-6}\n",
    "$$"
   ]
  },
  {
   "cell_type": "markdown",
   "metadata": {},
   "source": [
    "$Q_{max,H,rad}$：1 時間当たりの放熱器の最大暖房出力(MJ/h) / Maximum heating power of radiator per hour  \n",
    "$q_{max,fh}$：温水床暖房の単位面積当たりの上面最大放熱能力(W/m<sup>2</sup>) / Maximum surface heat dissipation capacity per unit area of heated floor heating  \n",
    "$A_{f}$：温水床暖房の敷設面積(m<sup>2</sup>) / Laying floor area of heated floor heating  \n",
    "$\\theta_{SW}$：1 時間平均の往き送水温度(℃) / 1 hour average forward water temperature  "
   ]
  },
  {
   "cell_type": "code",
   "execution_count": null,
   "metadata": {},
   "outputs": [],
   "source": [
    "def get_Q_max_H_rad(Theta_SW, A_f):\n",
    "    \"\"\"  放熱器の最大暖房出力 (3)\n",
    "\n",
    "    :param Theta_SW: 往き温水温度 (℃)\n",
    "    :type Theta_SW: ndarray\n",
    "    :param A_f: 温水床暖房の敷設面積 (m2)\n",
    "    :type A_f: float\n",
    "    :return: 放熱器の最大暖房出力\n",
    "    :rtype: ndarray\n",
    "    \"\"\"\n",
    "    # 温水床暖房の単位面積当たりの上面最大放熱能力 (W/m2)\n",
    "    q_max_fh = get_q_max_fh()\n",
    "\n",
    "    Q_max_H_rad = np.ones(24*365) * q_max_fh * A_f * (Theta_SW - 20) / (60 - 20) * 3600 * 10 ** (-6)\n",
    "\n",
    "    return Q_max_H_rad"
   ]
  },
  {
   "cell_type": "markdown",
   "metadata": {},
   "source": [
    "温水床暖房の単位面積当たりの上面最大放熱能力$q_{max,fh}$は162W/m<sup>2</sup> とする。 "
   ]
  },
  {
   "cell_type": "markdown",
   "metadata": {},
   "source": [
    "The upper surface maximum heat dissipation capacity $ q_{max, fh} $ per unit area of the heated floor heating is assumed to be 162 W/m<sup>2</sup>."
   ]
  },
  {
   "cell_type": "code",
   "execution_count": null,
   "metadata": {},
   "outputs": [],
   "source": [
    "def get_q_max_fh():\n",
    "    \"\"\" 温水床暖房の単位面積当たりの上面最大放熱能力 (W/m2)\n",
    "\n",
    "    :return: 温水床暖房の単位面積当たりの上面最大放熱能力\n",
    "    :rtype: float\n",
    "    \"\"\"\n",
    "    return 162\n"
   ]
  },
  {
   "cell_type": "markdown",
   "metadata": {},
   "source": [
    "### L.5 敷設面積 / Laying area"
   ]
  },
  {
   "cell_type": "markdown",
   "metadata": {},
   "source": [
    "$$\\large\n",
    "A_{f} = A_{HCZ} \\times r_{Af}\n",
    "$$"
   ]
  },
  {
   "cell_type": "markdown",
   "metadata": {},
   "source": [
    "$A_{f}$：温水床暖房の敷設面積(m<sup>2</sup>) / Laying floor area of heated floor heating  \n",
    "$A_{HCZ}$：暖冷房区画の床面積(m<sup>2</sup>) / Floor area of heating and cooling compartment  \n",
    "$r_{Af}$：温水床暖房の敷設率 / Laying rate of heated floor heating  "
   ]
  },
  {
   "cell_type": "code",
   "execution_count": null,
   "metadata": {},
   "outputs": [],
   "source": [
    "def get_A_f(A_HCZ, r_Af):\n",
    "    \"\"\" 温水床暖房の敷設面積 (4)\n",
    "\n",
    "    :param A_HCZ: 暖冷房区画の床面積\n",
    "    :type A_HCZ: float\n",
    "    :param r_Af: 当該住戸における温水床暖房の敷設率 (-)\n",
    "    :type r_Af: flloat\n",
    "    :return: 温水床暖房の敷設面積\n",
    "    :rtype: float\n",
    "    \"\"\"\n",
    "    return A_HCZ * r_Af\n"
   ]
  },
  {
   "cell_type": "markdown",
   "metadata": {},
   "source": [
    "$$\\large\n",
    "r_{Af} = \\frac{A_{f}}{A_{HCZ}}\n",
    "$$"
   ]
  },
  {
   "cell_type": "markdown",
   "metadata": {},
   "source": [
    "$A_{f}$：温水床暖房の敷設面積(m<sup>2</sup>) / Laying floor area of heated floor heating  \n",
    "$A_{HCZ}$：暖冷房区画の床面積(m<sup>2</sup>) / Floor area of heating and cooling compartment  "
   ]
  },
  {
   "cell_type": "markdown",
   "metadata": {},
   "source": [
    "温水床暖房の敷設率$r_{Af}$は、1000 分の 1 未満の端数を切り下げた小数第三位までの値とする。 "
   ]
  },
  {
   "cell_type": "markdown",
   "metadata": {},
   "source": [
    "The hot floor heating installation rate $ r_{Af} $ is a value up to the third decimal place rounded down to less than one-thousandth."
   ]
  },
  {
   "cell_type": "code",
   "execution_count": null,
   "metadata": {},
   "outputs": [],
   "source": [
    "def get_r_f(A_f, A_HCZ):\n",
    "    \"\"\" 温水床暖房の敷設率 (5)\n",
    "\n",
    "    :param A_f: 温水床暖房の敷設面積 (m2)\n",
    "    :type A_f: float\n",
    "    :param A_HCZ: 暖冷房区画の床面積\n",
    "    :type A_HCZ: float\n",
    "    :return: 温水床暖房の敷設率\n",
    "    :rtype: float\n",
    "    \"\"\"\n",
    "    r_f = A_f / A_HCZ\n",
    "\n",
    "    # 1000分の1未満の端数を切り下げた小数第三位までの値とする\n",
    "    r_f = floor(r_f * 1000) / 1000\n",
    "\n",
    "    return r_f"
   ]
  },
  {
   "cell_type": "markdown",
   "metadata": {},
   "source": [
    "### L.6 上面放熱率 / Top surface heat release rate"
   ]
  },
  {
   "cell_type": "markdown",
   "metadata": {},
   "source": [
    "温水床暖房の上面放熱率$r_{up}$は、式により表される値の 100 分の 1 未満の端数を切り捨てした小数点第二位までの値としたものとする。ただし、土間床に設置された温水床暖房の上面放熱率は式によらず0.90（90%）とする。 "
   ]
  },
  {
   "cell_type": "markdown",
   "metadata": {},
   "source": [
    "The top surface heat release rate $ r_{up} $ of hot-water floor heating shall be the value to the second decimal place rounded down to the nearest hundredth of the value represented by the equation. However, the top surface heat release rate of hot water floor heating installed on the floor between soils is 0.90 (90%) regardless of the formula."
   ]
  },
  {
   "cell_type": "markdown",
   "metadata": {},
   "source": [
    "$$\\large\n",
    "r_{up} = \\frac{(1-H)\\times(R_{si}+R_{U})+(R_{P}+R_{D}+R_{se})}{R_{si}+R_{U}+R_{P}+R_{D}+R_{se}}\\\\\n",
    "\\large = 1-H \\times \\frac{(R_{si}+R_{U})}{R_{si}+R_{U}+R_{P}+R_{D}+R_{se}}\\\\\n",
    "\\large = 1-H \\times (R_{si}+R_{U}) \\times U\n",
    "$$"
   ]
  },
  {
   "cell_type": "markdown",
   "metadata": {},
   "source": [
    "$R_{si}$：床暖房パネルの床上側表面熱伝達抵抗(m<sup>2</sup>K/W) / Floor top surface heat transfer resistance of floor heating panel  \n",
    "$R_{U}$：床暖房パネル内の配管から床仕上げ材上側表面までの熱抵抗(m<sup>2</sup>K/W) / Thermal resistance from the piping in the floor heating panel to the upper surface of the floor finish  \n",
    "$R_{P}$：床暖房パネル内の配管から床暖房パネル床下側表面までの熱抵抗(m<sup>2</sup>K/W) / Heat resistance from piping in the floor heating panel to the floor under surface of the floor heating panel  \n",
    "$R_{D}$：床暖房パネルの下端から床下側表面までの熱抵抗(m<sup>2</sup>K/W) / Thermal resistance from the lower edge of the floor heating panel to the underfloor surface  \n",
    "$R_{se}$：床暖房パネルの床下側表面熱伝達抵抗(m<sup>2</sup>K/W) / Underfloor surface heat transfer resistance of floor heating panel  \n",
    "$H$：温度差係数 / Temperature difference coefficient  \n",
    "$U$：床の部位の熱貫流率(W/m<sup>2</sup>K) / Heat transmission coefficient of floor area  "
   ]
  },
  {
   "cell_type": "code",
   "execution_count": 1,
   "metadata": {},
   "outputs": [],
   "source": [
    "def get_r_up(is_domayuka):\n",
    "    \"\"\" 上面放熱率 (6) ※参照なし\n",
    "\n",
    "    :param is_domayuka: 土間床に設置\n",
    "    :type is_domayuka: bool\n",
    "    :return: 上面放熱率\n",
    "    :rtype: float\n",
    "    \"\"\"\n",
    "    # 土間床に設置された温水床暖房の上面放熱率は0.90とすｒ\n",
    "    if is_domayuka:\n",
    "        return 0.90\n",
    "\n",
    "    else:\n",
    "        # R_si + R_U\n",
    "        R_si_plus_R_U = get_R_si_plus_R_U()\n",
    "\n",
    "        # (6)\n",
    "        r_up = 1 - H * R_si_plus_R_U * R_U\n",
    "\n",
    "        # 100 分の 1 未満の端数を切り捨てした小数点第 二位までの値\n",
    "        return floor(r_up * 100) / 100"
   ]
  },
  {
   "cell_type": "markdown",
   "metadata": {},
   "source": [
    "#### 1) 床暖房パネルの床上側表面熱伝達抵抗$R_{si}$と床暖房パネル内の配管から床仕上げ材上側表面までの熱抵抗$R_{U}$の合計$R_{si}$+$R_{U}$ / Floor heating panel floor upper surface heat transfer resistance $R_{si}$ and heat resistance $R_{U}$ from piping in floor heating panel to floor finish upper surface total $R_{si}$+$R_{U}$ "
   ]
  },
  {
   "cell_type": "markdown",
   "metadata": {},
   "source": [
    "床暖房パネルの床上側表面熱伝達抵抗$R_{si}$と床暖房パネル内の配管から床仕上げ材上側表面までの熱抵抗$R_{U}$の合計$R_{si}$+$R_{U}$は、0.269に等しいとする。 "
   ]
  },
  {
   "cell_type": "markdown",
   "metadata": {},
   "source": [
    "The sum $R_{si}$ + $R_{U}$ of the floor upper surface heat transfer resistance $R_{si}$ of the floor heating panel and the thermal resistance $R_{U}$ from the piping in the floor heating panel to the floor finish upper surface is equal to 0.269."
   ]
  },
  {
   "cell_type": "code",
   "execution_count": null,
   "metadata": {},
   "outputs": [],
   "source": [
    "def get_R_si_plus_R_U():\n",
    "    \"\"\" 1) 床暖房パネルの床上側表面熱伝達抵抗と床暖房パネル内の配管から床仕上げ材上側表面までの熱抵抗の合計\n",
    "\n",
    "    :return: 床暖房パネルの床上側表面熱伝達抵抗と床暖房パネル内の配管から床仕上げ材上側表面までの熱抵抗の合計\n",
    "    :rtype: float\n",
    "    \"\"\"\n",
    "    return 0.269\n"
   ]
  },
  {
   "cell_type": "markdown",
   "metadata": {},
   "source": [
    "#### 2) 温度差係数$H$ / Temperature difference coefficient $ H $"
   ]
  },
  {
   "cell_type": "markdown",
   "metadata": {},
   "source": [
    "温度差係数$H$は、当該住戸の床暖房を設置する床の隣接空間が断熱区画外の場合は第三章第二節「外皮性能」に定義される温度差係数の値を用いるものとし、床暖房を設置する床の隣接空間等が断熱区画内の場合（戸建て住宅 2 階に床暖房を設置し 1 階はリビング等、断熱区画内である場合など）は、1～3 地域の場合は0.05とし、4～7 地域の場合は0.15とする。 "
   ]
  },
  {
   "cell_type": "markdown",
   "metadata": {},
   "source": [
    "The temperature difference coefficient $ H $ shall be the value of the temperature difference coefficient defined in Chapter 3, Section 2 \"Surface performance\" if the space adjacent to the floor where the floor heating of the dwelling unit is to be installed is outside the heat insulation zone. If the space adjacent to the floor where the floor heating will be installed is within the heat insulation zone (if floor heating is installed on the second floor of a single-family house, the first floor is a living area such as a living room, etc.) Shall be 0.05, and 0.15 for 4 to 7 areas."
   ]
  },
  {
   "cell_type": "code",
   "execution_count": null,
   "metadata": {},
   "outputs": [],
   "source": [
    "def get_H(region, is_adjacent_not_insulated):\n",
    "    \"\"\" 2) 温度差係数U ※参照なし\n",
    "\n",
    "    :param region: 省エネルギー地域区分\n",
    "    :type region: int\n",
    "    :param is_adjacent_not_insulated: 当該住戸の床暖房を設置する床の隣接空間が断熱区画外の場合\n",
    "    :type is_adjacent_not_insulated: bool\n",
    "    :return:　温度差係数U\n",
    "    :rtype:　温度差係数U\n",
    "    \"\"\"\n",
    "    # TODO: 第3章第2節への参照\n",
    "    if is_adjacent_not_insulated:\n",
    "        raise NotImplementedError()\n",
    "    else:\n",
    "        if region in [1, 2, 3]:\n",
    "            return 0.05\n",
    "        elif region in [4, 5, 6, 7]:\n",
    "            return 0.15\n",
    "        else:\n",
    "            raise NotImplementedError()\n"
   ]
  },
  {
   "cell_type": "markdown",
   "metadata": {},
   "source": [
    "### L.7 複数の温水床暖房が設置される場合の仕様の決定方法 / How to determine the specifications when multiple heated floor heating systems are installed"
   ]
  },
  {
   "cell_type": "markdown",
   "metadata": {},
   "source": [
    "省略"
   ]
  },
  {
   "cell_type": "markdown",
   "metadata": {},
   "source": [
    "ommision"
   ]
  }
 ],
 "metadata": {
  "kernelspec": {
   "display_name": "Python 3",
   "language": "python",
   "name": "python3"
  },
  "language_info": {
   "codemirror_mode": {
    "name": "ipython",
    "version": 3
   },
   "file_extension": ".py",
   "mimetype": "text/x-python",
   "name": "python",
   "nbconvert_exporter": "python",
   "pygments_lexer": "ipython3",
   "version": "3.6.6"
  },
  "toc": {
   "base_numbering": 1,
   "nav_menu": {},
   "number_sections": false,
   "sideBar": true,
   "skip_h1_title": false,
   "title_cell": "Table of Contents",
   "title_sidebar": "Contents",
   "toc_cell": false,
   "toc_position": {},
   "toc_section_display": true,
   "toc_window_display": false
  }
 },
 "nbformat": 4,
 "nbformat_minor": 2
}
