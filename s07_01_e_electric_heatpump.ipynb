{
 "cells": [
  {
   "cell_type": "markdown",
   "metadata": {},
   "source": [
    "使用許諾条件\n",
    "\n",
    "①\t設計一次エネルギー消費量算定法に基づく計算方法をPythonによりコーディングし、Jupyter notebook形式で保存したファイル（以下、本ファイルと呼ぶ）の著作権は、一般社団法人日本サステナブル建築協会に帰属します。\n",
    "Copyright©2019. 一般社団法人日本サステナブル建築協会\n",
    "All rights reserved. \n",
    "\n",
    "②\t本ファイルは、住戸の設計一次エネルギー消費量算定方法に係る「平成28年省エネルギー基準に準拠したエネルギー消費性能の評価に関する技術情報（住宅）2.1算定方法（第七章第一節 給湯設備）」に示す計算方法に基づき、国土交通省国土技術政策総合研究所・国立研究開発法人建築研究所、株式会社ユーワークス、株式会社住環境計画研究所が作成したものです。\n",
    "\n",
    "③\t本ファイルは、計算方法に示す計算過程の確認及び調査研究等に活用することを目的として作成されたものであり、一般社団法人日本サステナブル建築協会は著作権について放棄はしませんが、使用する各人の自己責任において仕様を変更することを妨げるものではありません。ただし、本ファイルによる計算結果を住宅の省エネルギー基準で規定する設計一次エネルギー消費量の結果として公的な申請に用いることはできません。\n",
    "\n",
    "④\t本ファイルを変更するかしないかを問わず、以下の条件を満たす場合に限り、頒布および使用が許可されます。\n",
    "1.\t頒布物の付属ドキュメント等の資料に、上記の著作権表示、本条件一覧、および下記免責条項を含めること。\n",
    "2.\t書面による特別の許可なしに、本ファイルから派生した製品の宣伝または販売の促進に、一般社団法人日本サステナブル建築協会、国土技術政策総合研究所・国立研究開発法人建築研究所および株式会社ユーワークス、株式会社住環境計画研究所の名前またはコントリビューターの名前を使用してはならない。\n",
    "\n",
    "⑤\t本ファイルは、著作権者およびコントリビューターによって「現状のまま」提供されており、明示黙示を問わず、商業的な使用可能性、および特定の目的に対する適合性に関する暗黙の保証も含め、またそれに限定されない、いかなる保証もありません。著作権もコントリビューターも、事由のいかんを問わず、損害発生の原因いかんを問わず、かつ責任の根拠が契約であるか厳格責任であるか（過失その他の）不法行為であるかを問わず、仮にそのような損害が発生する可能性を知らされていたとしても、本ファイルの使用によって発生した（代用品または代用サービスの調達、使用の喪失、データの喪失、利益の喪失、業務の中断も含め、またそれに限定されない）直接損害、間接損害、偶発的な損害、特別損害、懲罰的損害、または結果損害について、一切の責任を負わないものとします。\n",
    "\n"
   ]
  },
  {
   "cell_type": "code",
   "execution_count": null,
   "metadata": {},
   "outputs": [],
   "source": [
    "import numpy as np"
   ]
  },
  {
   "cell_type": "markdown",
   "metadata": {},
   "source": [
    "## 付録E　電気ヒートポンプ給湯機 / Appendix E Electric heat pump water heater"
   ]
  },
  {
   "cell_type": "markdown",
   "metadata": {},
   "source": [
    "### E.1 記号及び単位 / Symbol and unit"
   ]
  },
  {
   "cell_type": "markdown",
   "metadata": {},
   "source": [
    "省略"
   ]
  },
  {
   "cell_type": "markdown",
   "metadata": {},
   "source": [
    "Omission"
   ]
  },
  {
   "cell_type": "markdown",
   "metadata": {},
   "source": [
    "### E.2 消費電力量 / Power consumption"
   ]
  },
  {
   "cell_type": "markdown",
   "metadata": {},
   "source": [
    "1日当たりの沸き上げ時間$ \\Delta t_{wh} $は 8 時間とする。"
   ]
  },
  {
   "cell_type": "markdown",
   "metadata": {},
   "source": [
    "Boiling time $\\Delta t_{wh} $ per day is 8 hours."
   ]
  },
  {
   "cell_type": "markdown",
   "metadata": {},
   "source": [
    "$$\\large\n",
    "E_{E,hs,d,t} = \\left\\{ \\begin{array}{ll}\n",
    "    (f_{ex} \\times \\theta_{ex,NAve,d} + f_{L} \\times L''_{d} + f_{e,rtd} \\times e_{rtd} + f_{itc})\\\\\n",
    "    \\large \\times (1 + f_{mode2} \\times r_{mode2}) \\times C_{LT,d} \\times C_{def,d} \\times 10^{3} \\div 3600 \\div \\Delta t_{wh} & \\big(t=0～6 \\big)\\\\ \n",
    "    0 & \\big(t=7～22 \\big)\\\\ \n",
    "    (f_{ex} \\times \\theta_{ex,NAve,d+1} + f_{L} \\times L''_{d+1} + f_{e,rtd} \\times e_{rtd} + f_{itc})\\\\\n",
    "    \\large \\times (1 + f_{mode2} \\times r_{mode2}) \\times C_{LT,d+1} \\times C_{def,d+1} \\times 10^{3} \\div 3600 \\div \\Delta t_{wh} & \\big(t=23 \\big)\\\\ \n",
    "    \\end{array}\n",
    "\\right.\n",
    "$$"
   ]
  },
  {
   "cell_type": "markdown",
   "metadata": {},
   "source": [
    "$C_{def,d}$：日付$d$における1 日当たりのデフロスト運転による補正係数(-) / Correction factor for one day of defrost operation on date $ d $  \n",
    "$C_{LT,d}$：日付$d$における1 日当たりの低外気温領域でのヒートポンプ効率低下による補正係数(-) / Correction factor due to heat pump efficiency drop in low ambient temperature area per day for date $ d $  \n",
    "$E_{E,hs,d,t}$：日付$d$の時刻$t$における1 日当たりの給湯機の消費電力量(kWh/h) / Water heater power consumption per day at time $ t $ on date $ d $  \n",
    "$e_{rtd}$：当該給湯機の効率(-) / Efficiency of the water heater concerned  \n",
    "$L''_{d}$：日付$d$における1 日当たりの太陽熱補正給湯熱負荷(MJ/d) / One day solar heat correction hot water supply heat load on date $ d $  \n",
    "$r_{mode2}$：制御におけるセカンドモードの割合(-) / Percentage of second mode in control  \n",
    "$\\Delta t_{wh}$：1日当たりの沸き上げ時間(h/d) / Boiling time per day  \n",
    "$\\theta_{ex,NAve,d}$：日付$d$における夜間平均外気温度(℃) / Nighttime average outside temperature on date $ d $  \n",
    "$f_{ex}, f_{L}, f_{e,rtd}, f_{itc}, f_{mode2}$：係数(-) / coefficient  \n"
   ]
  },
  {
   "cell_type": "code",
   "execution_count": null,
   "metadata": {},
   "outputs": [],
   "source": [
    "# 1日当たりの給湯機の消費電力量 (1)\n",
    "def get_E_E_hs_d_t(L_dashdash_k_d_t, L_dashdash_s_d_t, L_dashdash_w_d_t, L_dashdash_b1_d_t, L_dashdash_b2_d_t,\n",
    "                   L_dashdash_ba1_d_t, L_dashdash_ba2_d_t,\n",
    "                   e_rtd=None, m1see=None, Theta_ex_Nave=None):\n",
    "    \"\"\"\n",
    "    :param L_dashdash_k_d_t: 1時間当たりの台所水栓における太陽熱補正給湯熱負荷 (MJ/h)\n",
    "    :param L_dashdash_s_d_t: 1時間当たりの浴室シャワー水栓における太陽熱補正給湯負荷 (MJ/h)\n",
    "    :param L_dashdash_w_d_t: 1時間当たりの洗面水栓における太陽熱補正給湯負荷 (MJ/h)\n",
    "    :param L_dashdash_b1_d_t: 1時間当たりの浴槽水栓湯はり時における太陽熱補正給湯負荷 (MJ/h)\n",
    "    :param L_dashdash_b2_d_t: 1時間当たりの浴槽自動湯はり時における太陽熱補正給湯負荷 (MJ/h)\n",
    "    :param L_dashdash_ba1_d_t: 1時間当たりの浴槽水栓さし湯時における太陽熱補正給湯負荷 (MJ/h)\n",
    "    :param L_dashdash_ba2_d_t: 1時間当たりの浴槽追焚時における太陽熱補正給湯負荷 (MJ/h)\n",
    "    :param e_rtd: 当該給湯機の効率\n",
    "    :param Theta_ex_Nave: 夜間平均外気温 (℃)\n",
    "    :param m1see: M1スタンダードに基づくJIS相当効率\n",
    "    :return: 1日当たりの給湯機の消費電力量 (kWh/d)\n",
    "    \"\"\"\n",
    "    # 効率の決定\n",
    "    if e_rtd is None:\n",
    "        if m1see is None:\n",
    "            e_rtd = get_e_rtd_default()\n",
    "        else:\n",
    "            e_rtd = m1see\n",
    "    else:\n",
    "        e_rtd = min(3.6, e_rtd)\n",
    "\n",
    "    # 係数\n",
    "    f_ex, f_L, f_e_rtd, f_itc, f_mode2 = get_coefficients()\n",
    "\n",
    "    # 制御におけるセカンドモードの割合\n",
    "    r_mode2 = get_r_mode2()\n",
    "\n",
    "    # 低外気温領域でのヒートポンプ効率低下による補正係数\n",
    "    C_LT_d = get_C_LT_d(Theta_ex_Nave)\n",
    "\n",
    "    # デフロスト運転における補正係数\n",
    "    C_def_d = get_C_def_d(Theta_ex_Nave)\n",
    "\n",
    "    # 太陽熱補正給湯熱負荷\n",
    "    L_dashdash_k_d = get_L_dashdash_k_d(L_dashdash_k_d_t)\n",
    "    L_dashdash_s_d = get_L_dashdash_s_d(L_dashdash_s_d_t)\n",
    "    L_dashdash_w_d = get_L_dashdash_w_d(L_dashdash_w_d_t)\n",
    "    L_dashdash_b1_d = get_L_dashdash_b1_d(L_dashdash_b1_d_t)\n",
    "    L_dashdash_b2_d = get_L_dashdash_b2_d(L_dashdash_b2_d_t)\n",
    "    L_dashdash_ba1_d = get_L_dashdash_ba1_d(L_dashdash_ba1_d_t)\n",
    "    L_dashdash_ba2_d = get_L_dashdash_ba2_d(L_dashdash_ba2_d_t)\n",
    "    L_dashdash_d = get_L_dashdash_d(L_dashdash_k_d, L_dashdash_s_d, L_dashdash_w_d, L_dashdash_b1_d, L_dashdash_b2_d,\n",
    "                                    L_dashdash_ba1_d, L_dashdash_ba2_d)\n",
    "\n",
    "    # 24時間化\n",
    "    Theta_ex_Nave = np.repeat(Theta_ex_Nave, 24)\n",
    "    L_dashdash_d = np.repeat(L_dashdash_d, 24)\n",
    "    C_LT_d = np.repeat(C_LT_d, 24)\n",
    "    C_def_d = np.repeat(C_def_d, 24)\n",
    "\n",
    "    # 1日後\n",
    "    Theta_ex_Nave_d_p1 = np.roll(Theta_ex_Nave, -24)\n",
    "    L_dashdash_d_p1 = np.roll(L_dashdash_d, -24)\n",
    "    C_LT_d_p1 = np.roll(C_LT_d, -24)\n",
    "    C_def_d_p1 = np.roll(C_def_d, -24)\n",
    "\n",
    "    E_E_hs_d_t = np.zeros(24 * 365)\n",
    "    t_wh = 8\n",
    "\n",
    "    # (1) t == 0 - 6\n",
    "    f1 = np.tile(np.arange(24) <= 6, 365)\n",
    "    E_E_hs_d_t[f1] = (f_ex * Theta_ex_Nave[f1] + f_L * L_dashdash_d[f1] + f_e_rtd * e_rtd + f_itc) \\\n",
    "                     * (1 + f_mode2 * r_mode2) * C_LT_d[f1] * C_def_d[f1] * 10 ** 3 / 3600 / t_wh\n",
    "\n",
    "    # (2) t == 7-22\n",
    "    f2 = np.tile(np.logical_and(7 <= np.arange(24), np.arange(24) <= 22), 365)\n",
    "    E_E_hs_d_t[f2] = 0\n",
    "\n",
    "    # (3) t == 23\n",
    "    f3 = np.tile(np.arange(24) == 23, 365)\n",
    "    E_E_hs_d_t[f3] = (f_ex * Theta_ex_Nave_d_p1[f3] + f_L * L_dashdash_d_p1[f3] + f_e_rtd * e_rtd + f_itc) \\\n",
    "                     * (1 + f_mode2 * r_mode2) * C_LT_d_p1[f3] * C_def_d_p1[f3] * 10 ** 3 / 3600 / t_wh\n",
    "\n",
    "    return E_E_hs_d_t"
   ]
  },
  {
   "cell_type": "markdown",
   "metadata": {},
   "source": [
    "<div style=\"text-align: center;font-weight: bold;\">表　係数<br>Table: Coefficients</div>\n",
    "\n",
    "<table>\n",
    "<tr><th>$f_{ex}$</th><td>-0.302</td></tr>\n",
    "<tr><th>$f_{L}$</th><td>0.263</td></tr>\n",
    "<tr><th>$f_{e,rtd}$</th><td>-4.383</td></tr>\n",
    "<tr><th>$f_{itc}$</th><td>20.754</td></tr>\n",
    "<tr><th>$f_{mode2}$</th><td>0.235</td></tr>\n",
    "</table>\n"
   ]
  },
  {
   "cell_type": "code",
   "execution_count": null,
   "metadata": {},
   "outputs": [],
   "source": [
    "def get_coefficients():\n",
    "    # 表E.3 係数\n",
    "    table_e_3 = (\n",
    "        -0.302,\n",
    "        0.263,\n",
    "        -4.383,\n",
    "        20.754,\n",
    "        0.235\n",
    "    )\n",
    "    return table_e_3"
   ]
  },
  {
   "cell_type": "markdown",
   "metadata": {},
   "source": [
    "当該給湯機の効率$e_{rtd}$は、2.7 とするか、対象機器の JIS C 9220 に基づく年間給湯保温効率（JIS）、年間給湯効率（JIS）、M1 スタンダードに基づく JIS 相当効率を用いることができる。"
   ]
  },
  {
   "cell_type": "markdown",
   "metadata": {},
   "source": [
    "The efficiency $ e_ {rtd} $ of the water heater shall be 2.7, or the annual hot-water storage temperature efficiency (JIS) based on JIS C 9220 of the target equipment, the annual hot-water supply efficiency (JIS), and the JIS equivalent efficiency based on the M1 standard be able to."
   ]
  },
  {
   "cell_type": "code",
   "execution_count": null,
   "metadata": {},
   "outputs": [],
   "source": [
    "# 規定の当該給湯器の効率\n",
    "def get_e_rtd_default():\n",
    "    return 2.7"
   ]
  },
  {
   "cell_type": "markdown",
   "metadata": {},
   "source": [
    "ふろ機能の種類が「ふろ給湯機（追焚あり）」の場合"
   ]
  },
  {
   "cell_type": "markdown",
   "metadata": {},
   "source": [
    "When the type of bath function is \"Furo hot water heater (with memorial service)\""
   ]
  },
  {
   "cell_type": "markdown",
   "metadata": {},
   "source": [
    "$$\\large\n",
    "e_{rtd} = e_{APF} -  0.7 \n",
    "$$"
   ]
  },
  {
   "cell_type": "markdown",
   "metadata": {},
   "source": [
    "ふろ機能の種類が「給湯単機能」又は「ふろ給湯機（追焚なし）」の場合"
   ]
  },
  {
   "cell_type": "markdown",
   "metadata": {},
   "source": [
    "When the type of bath function is \"hot water supply single function\" or \"furo hot water heater (without memorial service)\""
   ]
  },
  {
   "cell_type": "markdown",
   "metadata": {},
   "source": [
    "$$\\large\n",
    "e_{rtd} = e_{APF} -  0.5 \n",
    "$$"
   ]
  },
  {
   "cell_type": "markdown",
   "metadata": {},
   "source": [
    "$e_{APF}$：年間給湯効率(-) / Annual hot water supply efficiency  \n",
    "$e_{rtd}$：当該給湯機の効率(-) / Efficiency of the water heater concerned  "
   ]
  },
  {
   "cell_type": "markdown",
   "metadata": {},
   "source": [
    "換算した値は、3.6 を超える場合には 3.6 に等しいとする。"
   ]
  },
  {
   "cell_type": "markdown",
   "metadata": {},
   "source": [
    "The converted value shall be equal to 3.6 if it exceeds 3.6."
   ]
  },
  {
   "cell_type": "code",
   "execution_count": null,
   "metadata": {},
   "outputs": [],
   "source": [
    "# e_APFからe_rtdへの変換\n",
    "def get_e_rtd(e_APF, bath_function):\n",
    "    \"\"\"\n",
    "    :param e_APF: 日本冷凍空調工業 会標準規格 JRA4050:2007R に基づく年間給湯効率（APF）\n",
    "    :param bath_function: ふろ機能の種類\n",
    "    :return: 当該給湯器の効率\n",
    "    \"\"\"\n",
    "    # e_APFからe_rtdへの変換\n",
    "    if bath_function == 'ふろ給湯機(追焚あり)':\n",
    "        e_rtd = e_APF - 0.7  # (2a)\n",
    "    elif bath_function == '給湯単機能' or bath_function == 'ふろ給湯機(追焚なし)':\n",
    "        e_rtd = e_APF - 0.5  # (2b)\n",
    "    else:\n",
    "        raise NotImplementedError()\n",
    "\n",
    "    # 換算値が3.6を超える場合は3.6に等しいとする\n",
    "    e_rtd = min(3.6, e_rtd)\n",
    "\n",
    "    return e_rtd"
   ]
  },
  {
   "cell_type": "markdown",
   "metadata": {},
   "source": [
    "制御におけるセカンドモードの割合$r_{mode2}$は0.4とする。 "
   ]
  },
  {
   "cell_type": "markdown",
   "metadata": {},
   "source": [
    "The ratio of the second mode in control $ r_{mode2} $ is 0.4."
   ]
  },
  {
   "cell_type": "code",
   "execution_count": null,
   "metadata": {},
   "outputs": [],
   "source": [
    "def get_r_mode2():\n",
    "    return 0.4"
   ]
  },
  {
   "cell_type": "markdown",
   "metadata": {},
   "source": [
    "$$\\large\n",
    "C_{LT,d} = \\left\\{ \\begin{array}{ll}\n",
    "    1.0 &(7 \\leq \\theta_{ex,Nave,d}の場合)\\\\ \n",
    "    1.0 + 0.0133 \\times (7 - \\theta_{ex,Nave,d}) &(\\theta_{ex,Nave,d} < 7の場合)\\\\ \n",
    "    \\end{array}\n",
    "\\right.\n",
    "$$"
   ]
  },
  {
   "cell_type": "markdown",
   "metadata": {},
   "source": [
    "$C_{LT,d}$：日付$d$における1 日当たりの低外気温領域でのヒートポンプ効率低下による補正係数(-) / Correction factor due to heat pump efficiency drop in low ambient temperature area per day for date $ d $  \n",
    "$\\theta_{ex,NAve,d}$：日付$d$における夜間平均外気温度(℃) / Nighttime average outside temperature on date $ d $  "
   ]
  },
  {
   "cell_type": "code",
   "execution_count": null,
   "metadata": {},
   "outputs": [],
   "source": [
    "# 1日当たりの低外気温領域でのヒートポンプ効率低下による補正係数 (3)\n",
    "def get_C_LT_d(Theta_ex_Nave):\n",
    "    \"\"\"\n",
    "    :param Theta_ex_Nave: 夜間平均外気温 (℃)\n",
    "    :return: 1日当たりの低外気温領域でのヒートポンプ効率低下による補正係数\n",
    "    \"\"\"\n",
    "    C_LT_d = np.ones(365)\n",
    "\n",
    "    # Theta_ex_Nave < 7 の場合\n",
    "    f = Theta_ex_Nave < 7\n",
    "    C_LT_d[f] = 1.0 + 0.0133 * (7 - Theta_ex_Nave[f])\n",
    "\n",
    "    return C_LT_d"
   ]
  },
  {
   "cell_type": "markdown",
   "metadata": {},
   "source": [
    "$$\\large\n",
    "C_{def,d} = \\left\\{ \\begin{array}{ll}\n",
    "    1.0 &(5 \\leq \\theta_{ex,Nave,d}の場合)\\\\ \n",
    "    1.175 - \\theta_{ex,Nave,d} \\times 0.035 &(2 \\leq \\theta_{ex,Nave,d}<5の場合)\\\\ \n",
    "    1.12 - \\theta_{ex,Nave,d} \\times 0.0075 &(-2 \\leq \\theta_{ex,Nave,d}<2の場合)\\\\ \n",
    "    1.155 + \\theta_{ex,Nave,d} \\times 0.01 &(-15.5 \\leq \\theta_{ex,Nave,d}<-2の場合)\\\\ \n",
    "    1.0 &(\\theta_{ex,Nave,d}<-15.5の場合)\\\\ \n",
    "    \\end{array}\n",
    "\\right.\n",
    "$$"
   ]
  },
  {
   "cell_type": "markdown",
   "metadata": {},
   "source": [
    "$C_{def,d}$：日付$d$における1 日当たりのデフロスト運転による補正係数(-) / Correction factor for one day of defrost operation on date $ d $  \n",
    "$\\theta_{ex,NAve,d}$：日付$d$における夜間平均外気温度(℃) / Nighttime average outside temperature on date $ d $  "
   ]
  },
  {
   "cell_type": "code",
   "execution_count": null,
   "metadata": {},
   "outputs": [],
   "source": [
    "# 1日当たりのデフロスト運転における補正係数 (4)\n",
    "def get_C_def_d(Theta_ex_Nave):\n",
    "    \"\"\"\n",
    "    :param Theta_ex_Nave: 夜間平均外気温 (℃)\n",
    "    :return: 1日当たりのデフロスト運転における補正係数\n",
    "    \"\"\"\n",
    "    C_def_d = np.ones(365)\n",
    "\n",
    "    # 2 <= Theta_ex_Nave < 5 の場合\n",
    "    f1 = np.logical_and(2 <= Theta_ex_Nave, Theta_ex_Nave < 5)\n",
    "    C_def_d[f1] = 1.175 - Theta_ex_Nave[f1] * 0.035\n",
    "\n",
    "    # -2 <= Theta_ex_Nave < 2 の場合\n",
    "    f2 = np.logical_and(-2 <= Theta_ex_Nave, Theta_ex_Nave < 2)\n",
    "    C_def_d[f2] = 1.12 - Theta_ex_Nave[f2] * 0.0075\n",
    "\n",
    "    # -15.5 <= Theta_ex_Nave < -2 の場合\n",
    "    f3 = np.logical_and(-15.5 <= Theta_ex_Nave, Theta_ex_Nave < -2)\n",
    "    C_def_d[f3] = 1.155 + Theta_ex_Nave[f3] * 0.01\n",
    "\n",
    "    return C_def_d"
   ]
  },
  {
   "cell_type": "markdown",
   "metadata": {},
   "source": [
    "### E.3 ガス消費量 / Gas consumption"
   ]
  },
  {
   "cell_type": "markdown",
   "metadata": {},
   "source": [
    "日付$d$の時刻$t$における 1時間当たりの給湯機のガス消費量$E_{G,hs,d,t}$は0とする。"
   ]
  },
  {
   "cell_type": "markdown",
   "metadata": {},
   "source": [
    "The gas consumption $ E_{G, hs, d, t} $ of the water heater per hour at the time $ t $ of the date $ d $ is 0."
   ]
  },
  {
   "cell_type": "code",
   "execution_count": null,
   "metadata": {},
   "outputs": [],
   "source": [
    "# 1時間当たりの給湯機のガス消費量 (MJ/h)\n",
    "def get_E_G_hs_d_t():\n",
    "    # 1日当たりの給湯機のガス消費量は0とする\n",
    "    return np.zeros(24 * 365)"
   ]
  },
  {
   "cell_type": "markdown",
   "metadata": {},
   "source": [
    "### E.4 灯油消費量 / Kerosene consumption"
   ]
  },
  {
   "cell_type": "markdown",
   "metadata": {},
   "source": [
    "日付$d$の時刻$t$における 1時間当たりの給湯機の灯油消費量$E_{K,hs,d,t}$は0とする。"
   ]
  },
  {
   "cell_type": "markdown",
   "metadata": {},
   "source": [
    "The kerosene consumption $ E_ {K, hs, d, t} $ of the water heater per hour at the time $ t $ of the date $ d $ is 0."
   ]
  },
  {
   "cell_type": "code",
   "execution_count": null,
   "metadata": {},
   "outputs": [],
   "source": [
    "# 1時間当たりの給湯機の灯油消費量 (MJ/h)\n",
    "def get_E_K_hs_d_t():\n",
    "    # 1日当たりの給湯機の灯油消費量は0とする\n",
    "    return np.zeros(24 * 365)"
   ]
  },
  {
   "cell_type": "markdown",
   "metadata": {},
   "source": [
    "### E.5 １日当たりの太陽熱補正給湯熱負荷 / Solar heat correction hot water supply heat load per day"
   ]
  },
  {
   "cell_type": "markdown",
   "metadata": {},
   "source": [
    "$$\\large\n",
    "\\displaystyle\n",
    "L''_{d} = L''_{k,d}+L''_{s,d}+L''_{w,d}+L''_{b1,d}+L''_{b2,d}+L''_{ba1,d}+L''_{ba2,d}\n",
    "$$"
   ]
  },
  {
   "cell_type": "markdown",
   "metadata": {},
   "source": [
    "$ L''_{d} $：日付$d$における1 日当たりの太陽熱補正給湯熱負荷(MJ/d) / One day of solar correction hot water supply heat load at date $ d $  \n",
    "$ L''_{k,d} $：日付$d$における1 日当たりの台所水栓における太陽熱補正給湯熱負荷(MJ/d) / Solar correction water supply heat load on a kitchen faucet per day at a date $ d $  \n",
    "$ L''_{s,d} $：日付$d$における1 日当たりの浴室シャワー水栓における太陽熱補正給湯熱負荷(MJ/d) / Solar correction water supply heat load at one day bathroom shower faucet at date $ d $  \n",
    "$ L''_{w,d} $：日付$d$における1 日当たりの洗面水栓における太陽熱補正給湯熱負荷(MJ/d) / solar correction hot water supply heat load in a single day flush faucet at date $ d $  \n",
    "$ L''_{b1,d} $：日付$d$における1 日当たりの浴槽水栓湯はり時における太陽熱補正給湯熱負荷(MJ/d) / Solar correction water supply heat load during one day bathtub faucet hot water at $ d $ date  \n",
    "$ L''_{b2,d} $：日付$d$における1 日当たりの浴槽自動湯はり時における太陽熱補正給湯熱負荷(MJ/d) / Solar correction hot water supply heat load during one day bathtub automatic water heating at date $ d $  \n",
    "$ L''_{ba1,d} $：日付$d$における1 日当たりの浴槽水栓さし湯時における太陽熱補正給湯熱負荷(MJ/d) / Solar correction water supply heat load during one day bathtub faucet breaking time at date $ d $  \n",
    "$ L''_{ba2,d} $：日付$d$における1 日当たりの浴槽追焚時における太陽熱補正給湯熱負荷(MJ/d) / Solar heat correction hot water supply heat load at the time of bathtub remembrance on one day in date $ d $  "
   ]
  },
  {
   "cell_type": "code",
   "execution_count": null,
   "metadata": {},
   "outputs": [],
   "source": [
    "# 1日当たりの太陽熱補正給湯熱負荷 (5)\n",
    "def get_L_dashdash_d(L_dashdash_k_d, L_dashdash_s_d, L_dashdash_w_d, L_dashdash_b1_d, L_dashdash_b2_d, L_dashdash_ba1_d,\n",
    "                     L_dashdash_ba2_d):\n",
    "    \"\"\"\n",
    "    :param L_dashdash_k_d: 1日当たりの台所水栓における太陽熱補正給湯熱負荷 (MJ/d)\n",
    "    :param L_dashdash_s_d: 1日当たりの浴室シャワー水栓における太陽熱補正給湯負荷 (MJ/d)\n",
    "    :param L_dashdash_w_d: 1日当たりの洗面水栓における太陽熱補正給湯負荷 (MJ/d)\n",
    "    :param L_dashdash_b1_d: 1日当たりの浴槽水栓湯はり時における太陽熱補正給湯負荷 (MJ/d)\n",
    "    :param L_dashdash_b2_d: 1日当たりの浴槽自動湯はり時における太陽熱補正給湯負荷 (MJ/d)\n",
    "    :param L_dashdash_ba1_d: 1日当たりの浴槽水栓さし湯時における太陽熱補正給湯負荷 (MJ/d)\n",
    "    :param L_dashdash_ba2_d: 1日当たりの浴槽追焚時における太陽熱補正給湯負荷 (MJ/d)\n",
    "    :return: 1日当たりの太陽熱補正給湯熱負荷 (MJ/d)\n",
    "    \"\"\"\n",
    "    return L_dashdash_k_d \\\n",
    "           + L_dashdash_s_d \\\n",
    "           + L_dashdash_w_d \\\n",
    "           + L_dashdash_b1_d \\\n",
    "           + L_dashdash_b2_d \\\n",
    "           + L_dashdash_ba1_d \\\n",
    "           + L_dashdash_ba2_d"
   ]
  },
  {
   "cell_type": "markdown",
   "metadata": {},
   "source": [
    "$$\\large\n",
    "L''_{k,d} = \\sum_{t=0}^{23} L''_{k,d,t}\n",
    "$$\n",
    "\n",
    "$$\\large\n",
    "L''_{s,d} = \\sum_{t=0}^{23} L''_{s,d,t}\n",
    "$$\n",
    "\n",
    "$$\\large\n",
    "L''_{w,d} = \\sum_{t=0}^{23} L''_{w,d,t}\n",
    "$$\n",
    "\n",
    "$$\\large\n",
    "L''_{b1,d} = \\sum_{t=0}^{23} L''_{b1,d,t}\n",
    "$$\n",
    "\n",
    "$$\\large\n",
    "L''_{b2,d} = \\sum_{t=0}^{23} L''_{b2,d,t}\n",
    "$$\n",
    "\n",
    "$$\\large\n",
    "L''_{ba1,d} = \\sum_{t=0}^{23} L''_{ba1,d,t}\n",
    "$$\n",
    "\n",
    "$$\\large\n",
    "L''_{ba2,d} = \\sum_{t=0}^{23} L''_{ba2,d,t}\n",
    "$$"
   ]
  },
  {
   "cell_type": "markdown",
   "metadata": {},
   "source": [
    "$L''_{k,d}$：日付$d$における1 日当たりの台所水栓における太陽熱補正給湯熱負荷(MJ/d) /  Solar correction hot water supply heat load on a kitchen faucet per day at date $ d $  \n",
    "$L''_{s,d}$：日付$d$における1 日当たりの浴室シャワー水栓における太陽熱補正給湯熱負荷(MJ/d) /  Solar correction water supply heat load at one day bathroom shower faucet at date $ d $  \n",
    "$L''_{w,d}$：日付$d$における1 日当たりの洗面水栓における太陽熱補正給湯熱負荷(MJ/d) /  Solar correction hot water supply heat load on a single day flush faucet at date $ d $  \n",
    "$L''_{b1,d}$：日付$d$における1 日当たりの浴槽水栓湯はり時における太陽熱補正給湯熱負荷(MJ/d) /  Solar correction water supply heat load at one day bathtub bathtub faucet watering at date $ d $  \n",
    "$L''_{b2,d}$：日付$d$における1 日当たりの浴槽自動湯はり時における太陽熱補正給湯熱負荷(MJ/d) /  Solar heat correction hot water supply heat load during one day bathtub automatic water heating at date $ d $  \n",
    "$L''_{ba1,d}$：日付$d$における1 日当たりの浴槽水栓さし湯時における太陽熱補正給湯熱負荷(MJ/d) /  Solar correction water supply heat load at one-day bathtub faucet opening date at date $ d $  \n",
    "$L''_{ba2,d}$：日付$d$における1 日当たりの浴槽追焚時における太陽熱補正給湯熱負荷(MJ/d) /  Solar heat correction hot water supply heat load at the time of bathtub remembrance for one day at date $ d $   \n",
    "$ L''_{k,d,t} $：日付$d$の時刻$t$における 1時間当たりの台所水栓における太陽熱補正給湯熱負荷(MJ/h) / Solar heat correction hot water supply heat load on kitchen faucet per hour at time $ t $ on date $ d $  \n",
    "$ L''_{s,d,t} $：日付$d$の時刻$t$における 1時間当たりの浴室シャワー水栓における太陽熱補正給湯熱負荷(MJ/h) / Solar heat correction hot water supply heat load in bathroom shower faucet per hour at time $ t $ of date $ d $  \n",
    "$ L''_{w,d,t} $：日付$d$の時刻$t$における 1時間当たりの洗面水栓における太陽熱補正給湯熱負荷(MJ/h) / Solar heat correction hot water supply heat load in the faucet per hour at time $ t $ of date $ d $  \n",
    "$ L''_{b1,d,t} $：日付$d$の時刻$t$における 1時間当たりの浴槽水栓湯はり時における太陽熱補正給湯熱負荷(MJ/h) / Solar heat correction hot water supply heat load at the time of bathtub $ 1 $ per hour at date $ t $ $ $ $ date $  \n",
    "$ L''_{b2,d,t} $：日付$d$の時刻$t$における 1時間当たりの浴槽自動湯はり時における太陽熱補正給湯熱負荷(MJ/h) / Solar heat correction hot water supply heat load during bathtub automatic water heating per hour at time $ t $ of date $ d $  \n",
    "$ L''_{ba1,d,t} $：日付$d$の時刻$t$における 1時間当たりの浴槽水栓さし湯時における太陽熱補正給湯熱負荷(MJ/h) / Solar heat correction hot water supply heat load at the time of bathtub faucet breaking water per hour at time $ t $ of date $ d $    \n",
    "$ L''_{ba2,d,t} $：日付$d$の時刻$t$における 1時間当たりの浴槽追焚時における太陽熱補正給湯熱負荷(MJ/h) / Solar heat correction hot water supply heat load at the time of tub recollection per hour at time $ t $ of date $ d $  "
   ]
  },
  {
   "cell_type": "code",
   "execution_count": null,
   "metadata": {},
   "outputs": [],
   "source": [
    "# 1日当たりの台所水栓における太陽熱補正給湯熱負荷 (MJ/d)\n",
    "def get_L_dashdash_k_d(L_dashdash_k_d_t):\n",
    "    \"\"\"\n",
    "    :param L_dashdash_k_d_t: 1時間当たりの台所水栓における太陽熱補正給湯熱負荷 (MJ/h)\n",
    "    :return: 1日当たりの台所水栓における太陽熱補正給湯熱負荷 (MJ/d)\n",
    "    \"\"\"\n",
    "    return np.sum(L_dashdash_k_d_t.reshape((365, 24)), axis=1)\n",
    "\n",
    "\n",
    "# 1日当たりの浴室シャワー水栓における太陽熱補正給湯負荷 (MJ/d)\n",
    "def get_L_dashdash_s_d(L_dashdash_s_d_t):\n",
    "    \"\"\"\n",
    "    :param L_dashdash_s_d_t: 1時間当たりの浴室シャワー水栓における太陽熱補正給湯負荷 (MJ/h)\n",
    "    :return: 1日当たりの浴室シャワー水栓における太陽熱補正給湯負荷 (MJ/d)\n",
    "    \"\"\"\n",
    "    return np.sum(L_dashdash_s_d_t.reshape((365, 24)), axis=1)\n",
    "\n",
    "\n",
    "# 1日当たりの洗面水栓における太陽熱補正給湯負荷 (MJ/d)\n",
    "def get_L_dashdash_w_d(L_dashdash_w_d_t):\n",
    "    \"\"\"\n",
    "    :param L_dashdash_w_d_t: 1時間当たりの洗面水栓における太陽熱補正給湯負荷 (MJ/h)\n",
    "    :return: 1日当たりの洗面水栓における太陽熱補正給湯負荷 (MJ/d)\n",
    "    \"\"\"\n",
    "    return np.sum(L_dashdash_w_d_t.reshape((365, 24)), axis=1)\n",
    "\n",
    "\n",
    "# 1日当たりの浴槽水栓湯はり時における太陽熱補正給湯負荷 (MJ/d)\n",
    "def get_L_dashdash_b1_d(L_dashdash_b1_d_t):\n",
    "    \"\"\"\n",
    "    :param L_dashdash_b1_d_t: 1時間当たりの浴槽水栓湯はり時における太陽熱補正給湯負荷 (MJ/h)\n",
    "    :return: 1日当たりの浴槽水栓湯はり時における太陽熱補正給湯負荷 (MJ/d)\n",
    "    \"\"\"\n",
    "    return np.sum(L_dashdash_b1_d_t.reshape((365, 24)), axis=1)\n",
    "\n",
    "\n",
    "# 1日当たりの浴槽自動湯はり時における太陽熱補正給湯負荷 (MJ/d)\n",
    "def get_L_dashdash_b2_d(L_dashdash_b2_d_t):\n",
    "    \"\"\"\n",
    "    :param L_dashdash_b2_d_t: 1時間当たりの浴槽自動湯はり時における太陽熱補正給湯負荷 (MJ/h)\n",
    "    :return: 1日当たりの浴槽自動湯はり時における太陽熱補正給湯負荷 (MJ/d)\n",
    "    \"\"\"\n",
    "    return np.sum(L_dashdash_b2_d_t.reshape((365, 24)), axis=1)\n",
    "\n",
    "\n",
    "# 1日当たりの浴槽水栓さし湯時における太陽熱補正給湯負荷 (MJ/d)\n",
    "def get_L_dashdash_ba1_d(L_dashdash_ba1_d_t):\n",
    "    \"\"\"\n",
    "    :param L_dashdash_ba1_d_t: 1時間当たりの浴槽水栓さし湯時における太陽熱補正給湯負荷 (MJ/h)\n",
    "    :return: 1日当たりの浴槽水栓さし湯時における太陽熱補正給湯負荷 (MJ/d)\n",
    "    \"\"\"\n",
    "    return np.sum(L_dashdash_ba1_d_t.reshape((365, 24)), axis=1)\n",
    "\n",
    "\n",
    "# 1日当たりの浴槽追焚時における太陽熱補正給湯負荷 (MJ/d)\n",
    "def get_L_dashdash_ba2_d(L_dashdash_ba2_d_t):\n",
    "    \"\"\"\n",
    "    :param L_dashdash_ba2_d_t: 1時間当たりの浴槽追焚時における太陽熱補正給湯負荷 (MJ/h)\n",
    "    :return: 1日当たりの浴槽追焚時における太陽熱補正給湯負荷 (MJ/d)\n",
    "    \"\"\"\n",
    "    return np.sum(L_dashdash_ba2_d_t.reshape((365, 24)), axis=1)"
   ]
  }
 ],
 "metadata": {
  "kernelspec": {
   "display_name": "Python 3",
   "language": "python",
   "name": "python3"
  },
  "language_info": {
   "codemirror_mode": {
    "name": "ipython",
    "version": 3
   },
   "file_extension": ".py",
   "mimetype": "text/x-python",
   "name": "python",
   "nbconvert_exporter": "python",
   "pygments_lexer": "ipython3",
   "version": "3.6.6"
  }
 },
 "nbformat": 4,
 "nbformat_minor": 2
}
