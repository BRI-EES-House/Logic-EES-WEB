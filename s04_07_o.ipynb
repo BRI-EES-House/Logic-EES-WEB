{
 "cells": [
  {
   "cell_type": "markdown",
   "metadata": {},
   "source": [
    "## 付録O 地中熱ヒートポンプ温水暖房機の熱交換器タイプの決定方法 / Appendix O How to determine the heat exchanger type of a geothermal heat pump hot water heater"
   ]
  },
  {
   "cell_type": "markdown",
   "metadata": {},
   "source": [
    "### O.1 適用範囲 / Scope of application"
   ]
  },
  {
   "cell_type": "markdown",
   "metadata": {},
   "source": [
    "省略"
   ]
  },
  {
   "cell_type": "markdown",
   "metadata": {},
   "source": [
    "ommision"
   ]
  },
  {
   "cell_type": "markdown",
   "metadata": {},
   "source": [
    "### O.2 記号及び単位 / Symbol and unit"
   ]
  },
  {
   "cell_type": "markdown",
   "metadata": {},
   "source": [
    "省略"
   ]
  },
  {
   "cell_type": "markdown",
   "metadata": {},
   "source": [
    "ommision"
   ]
  },
  {
   "cell_type": "markdown",
   "metadata": {},
   "source": [
    "### O.3 熱交換器タイプ / Heat exchanger type"
   ]
  },
  {
   "cell_type": "markdown",
   "metadata": {},
   "source": [
    "省略"
   ]
  },
  {
   "cell_type": "markdown",
   "metadata": {},
   "source": [
    "ommision"
   ]
  },
  {
   "cell_type": "markdown",
   "metadata": {},
   "source": [
    "### O.4 熱交換器の相当最大熱交換能力 / Equivalent maximum heat exchange capacity of heat exchanger"
   ]
  },
  {
   "cell_type": "markdown",
   "metadata": {},
   "source": [
    "$$\\large\n",
    "Q_{exch,max} = \\frac{1000\\times H_{exch,max}}{L'_{exch}}\n",
    "$$"
   ]
  },
  {
   "cell_type": "markdown",
   "metadata": {},
   "source": [
    "$H_{exch,max}$：設計最大熱交換量(kW) / Design maximum heat exchange  \n",
    "$L'_{exch}$：相当熱交換器長(m) / Equivalent heat exchanger length  \n",
    "$Q_{exch,max}$：熱交換器の相当最大熱交換能力(W/m) / Equivalent maximum heat exchange capacity of heat exchanger  "
   ]
  },
  {
   "cell_type": "markdown",
   "metadata": {},
   "source": [
    "### O.5 設計最大熱交換量 / Design maximum heat exchange"
   ]
  },
  {
   "cell_type": "markdown",
   "metadata": {},
   "source": [
    "地域の区分が 1～4 地域の場合："
   ]
  },
  {
   "cell_type": "markdown",
   "metadata": {},
   "source": [
    "If the region is divided into 1 to 4 regions:"
   ]
  },
  {
   "cell_type": "markdown",
   "metadata": {},
   "source": [
    "$$\\large\n",
    "H_{exch,max} = H_{exch,H}\n",
    "$$"
   ]
  },
  {
   "cell_type": "markdown",
   "metadata": {},
   "source": [
    "地域の区分が 5～8 地域の場合："
   ]
  },
  {
   "cell_type": "markdown",
   "metadata": {},
   "source": [
    "If the region is divided into 5-8 regions:"
   ]
  },
  {
   "cell_type": "markdown",
   "metadata": {},
   "source": [
    "$$\\large\n",
    "H_{exch,max} = max(H_{exch,C},H_{exch,H})\n",
    "$$"
   ]
  },
  {
   "cell_type": "markdown",
   "metadata": {},
   "source": [
    "$H_{exch,max}$：設計最大熱交換量(kW) / Design maximum heat exchange  \n",
    "$H_{exch,C}$：冷房時の最大熱交換量(kW) / Maximum heat exchange amount during cooling  \n",
    "$H_{exch,H}$：暖房時の最大熱交換量(kW) / Maximum heat exchange amount during heating  "
   ]
  },
  {
   "cell_type": "markdown",
   "metadata": {},
   "source": [
    "$$\\large\n",
    "H_{exch,H} = q_{rtd,H,hs}-P_{rtd,H,hs}\n",
    "$$"
   ]
  },
  {
   "cell_type": "markdown",
   "metadata": {},
   "source": [
    "$$\\large\n",
    "H_{exch,C} = q_{rtd,C,hs}-P_{rtd,C,hs}\n",
    "$$"
   ]
  },
  {
   "cell_type": "markdown",
   "metadata": {},
   "source": [
    "$H_{exch,C}$：冷房時の最大熱交換量(kW) / Maximum heat exchange amount during cooling  \n",
    "$H_{exch,H}$：暖房時の最大熱交換量(kW) / Maximum heat exchange amount during heating  \n",
    "$P_{rtd,C,hs}$：熱源機の冷房定格消費電力(kW) / Cooling power consumption of heat source machine  \n",
    "$P_{rtd,H,hs}$：熱源機の暖房定格消費電力(kW) / Heating power consumption of heat source machine  \n",
    "$q_{rtd,C,hs}$：熱源機の冷房定格能力(kW) / Cooling rated capacity of heat source machine  \n",
    "$q_{rtd,H,hs}$：熱源機の暖房定格能力(kW) / Heating capacity of heat source machine  "
   ]
  },
  {
   "cell_type": "markdown",
   "metadata": {},
   "source": [
    "### O.6 相当熱交換器長 / Equivalent heat exchanger length"
   ]
  },
  {
   "cell_type": "markdown",
   "metadata": {},
   "source": [
    "$$\\large\n",
    "L'_{exch,C} = \\sum_{i}\\frac{L_{exch,i}}{l_{exch,i}}\n",
    "$$"
   ]
  },
  {
   "cell_type": "markdown",
   "metadata": {},
   "source": [
    "$L'_{exch}$：相当熱交換器長(m) / Equivalent heat exchanger length  \n",
    "$L_{exch,i}$：熱交換器$i$の熱交換器長(m) / Heat exchanger $i$ heat exchanger length  \n",
    "$l_{exch,i}$：熱交換器$i$の相当熱交換器長換算係数(-) / Equivalent heat exchanger length conversion coefficient for heat exchanger $i$  \n"
   ]
  },
  {
   "cell_type": "markdown",
   "metadata": {},
   "source": [
    "熱交換器$i$の種類がダブル U チューブ（垂直埋設型）の場合："
   ]
  },
  {
   "cell_type": "markdown",
   "metadata": {},
   "source": [
    "When the type of heat exchanger $i$ is a double U tube (vertical buried type):"
   ]
  },
  {
   "cell_type": "markdown",
   "metadata": {},
   "source": [
    "$$\\large\n",
    "l_{exch,i} = 1.3957 \\times {\\bar{\\lambda}_{gnd,i}}^{-0.481}\n",
    "$$"
   ]
  },
  {
   "cell_type": "markdown",
   "metadata": {},
   "source": [
    "熱交換器$i$の種類がシングル U チューブ（垂直埋設型）の場合："
   ]
  },
  {
   "cell_type": "markdown",
   "metadata": {},
   "source": [
    "If the heat exchanger $i$ is a single U tube (vertical buried type):"
   ]
  },
  {
   "cell_type": "markdown",
   "metadata": {},
   "source": [
    "$$\\large\n",
    "l_{exch,i} = 1.3957 \\times A \\times {\\bar{\\lambda}_{gnd,i}}^{-0.481}\n",
    "$$"
   ]
  },
  {
   "cell_type": "markdown",
   "metadata": {},
   "source": [
    "熱交換器$i$の種類が大口径個体充填（垂直埋設型）の場合："
   ]
  },
  {
   "cell_type": "markdown",
   "metadata": {},
   "source": [
    "When the type of heat exchanger $i$ is large diameter solid filling (vertical buried type):"
   ]
  },
  {
   "cell_type": "markdown",
   "metadata": {},
   "source": [
    "$$\\large\n",
    "\\left\\{ \\begin{array}{ll}\n",
    "    l_{exch,i} = (−0.5953d_{exch,i} + 1.2344) \\times {\\bar{\\lambda}_{gnd,i}}^{0.0475d_{exch,i}−0.2383} &(d_{exch,i}<0.6)\\\\ \n",
    "    l_{exch,i} = (−0.2606d_{exch,i} + 1.0246) \\times {\\bar{\\lambda}_{gnd,i}}^{0.0613d_{exch,i}−0.2943} &(d_{exch,i}\\geq0.6)\\\\ \n",
    "    \\end{array}\n",
    "\\right.\n",
    "$$"
   ]
  },
  {
   "cell_type": "markdown",
   "metadata": {},
   "source": [
    "熱交換器$i$の種類が間接型水充填（垂直埋設型）の場合："
   ]
  },
  {
   "cell_type": "markdown",
   "metadata": {},
   "source": [
    "When the type of heat exchanger $i$ is indirect type water filling (vertical buried type):"
   ]
  },
  {
   "cell_type": "markdown",
   "metadata": {},
   "source": [
    "$$\\large\n",
    "l_{exch,i} = (−0.881d_{exch,i} + 1.6275) \\times {\\bar{\\lambda}_{gnd,i}}^{0.055d_{exch,i}−0.6618}\n",
    "$$"
   ]
  },
  {
   "cell_type": "markdown",
   "metadata": {},
   "source": [
    "熱交換器$i$の種類が直接循環型水充填（垂直埋設型）の場合："
   ]
  },
  {
   "cell_type": "markdown",
   "metadata": {},
   "source": [
    "When the type of heat exchanger $i$ is direct circulation type water filling (vertical buried type):"
   ]
  },
  {
   "cell_type": "markdown",
   "metadata": {},
   "source": [
    "$$\\large\n",
    "l_{exch,i} = (−1.0518d_{exch,i} + 1.9231) \\times {\\bar{\\lambda}_{gnd,i}}^{0.2325d_{exch,i}−0.6564}\n",
    "$$"
   ]
  },
  {
   "cell_type": "markdown",
   "metadata": {},
   "source": [
    "熱交換器$i$の種類が水平埋設型の場合："
   ]
  },
  {
   "cell_type": "markdown",
   "metadata": {},
   "source": [
    "If the type of heat exchanger $i$ is a horizontal buried type:"
   ]
  },
  {
   "cell_type": "markdown",
   "metadata": {},
   "source": [
    "$$\\large\n",
    "l_{exch,i} = 1.0023 \\times A \\times B \\times {\\bar{\\lambda}_{gnd,i}}^{-0.439}\n",
    "$$"
   ]
  },
  {
   "cell_type": "markdown",
   "metadata": {},
   "source": [
    "$d_{exch,i}$：熱交換器$i$の断面の直径に係る寸法(m) / Dimensions related to diameter of cross section of heat exchanger $i$  \n",
    "$l_{exch,i}$：熱交換器$i$の相当熱交換器長換算係数(-) / Equivalent heat exchanger length conversion coefficient for heat exchanger $i$  \n",
    "$\\bar{\\lambda}_{gnd,i}$：熱交換器$i$の地盤の有効熱伝導率(W/(m・K)) / Effective Thermal Conductivity of Ground in Heat Exchanger $i$  \n",
    "$A$：シングル U チューブの熱交換器長をダブル U チューブ相当に変換する係数(-) / Coefficient for converting heat exchanger length of single U tube to equivalent of double U tube  \n",
    "$B$：水平埋設型の熱交換器長をシングル U チューブ相当に変換する係数(-) / Coefficient for converting the length of a horizontally buried heat exchanger into a single U tube equivalent  \n"
   ]
  },
  {
   "cell_type": "markdown",
   "metadata": {},
   "source": [
    "シングル U チューブの熱交換器長をダブル U チューブ相当に変換する係数$A$は、1.3 とする。\n",
    "水平埋設型の熱交換器長をシングル U チューブ相当に変換する係数$B$は、1.3 とする。"
   ]
  },
  {
   "cell_type": "markdown",
   "metadata": {},
   "source": [
    "The coefficient $A$ for converting the heat exchanger length of a single U tube to the equivalent of a double U tube is 1.3.  \n",
    "The coefficient $B$ for converting the length of a horizontally buried heat exchanger into a single U tube equivalent is 1.3."
   ]
  },
  {
   "cell_type": "markdown",
   "metadata": {},
   "source": [
    "### O.7 熱交換器長 / Heat exchanger length"
   ]
  },
  {
   "cell_type": "markdown",
   "metadata": {},
   "source": [
    "省略"
   ]
  },
  {
   "cell_type": "markdown",
   "metadata": {},
   "source": [
    "ommision"
   ]
  },
  {
   "cell_type": "markdown",
   "metadata": {},
   "source": [
    "### O.8 熱交換器の断面の直径に係る寸法 / Dimensions related to diameter of cross section of heat exchanger"
   ]
  },
  {
   "cell_type": "markdown",
   "metadata": {},
   "source": [
    "省略"
   ]
  },
  {
   "cell_type": "markdown",
   "metadata": {},
   "source": [
    "ommision"
   ]
  }
 ],
 "metadata": {
  "kernelspec": {
   "display_name": "Python 3",
   "language": "python",
   "name": "python3"
  },
  "language_info": {
   "codemirror_mode": {
    "name": "ipython",
    "version": 3
   },
   "file_extension": ".py",
   "mimetype": "text/x-python",
   "name": "python",
   "nbconvert_exporter": "python",
   "pygments_lexer": "ipython3",
   "version": "3.8.5"
  },
  "toc": {
   "base_numbering": 1,
   "nav_menu": {},
   "number_sections": false,
   "sideBar": true,
   "skip_h1_title": false,
   "title_cell": "Table of Contents",
   "title_sidebar": "Contents",
   "toc_cell": false,
   "toc_position": {},
   "toc_section_display": true,
   "toc_window_display": false
  }
 },
 "nbformat": 4,
 "nbformat_minor": 2
}
