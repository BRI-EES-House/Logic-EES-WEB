{
 "cells": [
  {
   "cell_type": "markdown",
   "metadata": {},
   "source": [
    "使用許諾条件\n",
    "\n",
    "①\t設計一次エネルギー消費量算定法に基づく計算方法をPythonによりコーディングし、Jupyter notebook形式で保存したファイル（以下、本ファイルと呼ぶ）の著作権は、一般社団法人日本サステナブル建築協会に帰属します。\n",
    "Copyright©2019. 一般社団法人日本サステナブル建築協会\n",
    "All rights reserved. \n",
    "\n",
    "②\t本ファイルは、住戸の設計一次エネルギー消費量算定方法に係る「平成28年省エネルギー基準に準拠したエネルギー消費性能の評価に関する技術情報（住宅）2.1算定方法（第四章第七節 温水暖房）」に示す計算方法に基づき、国土交通省国土技術政策総合研究所・国立研究開発法人建築研究所、株式会社ユーワークス、株式会社住環境計画研究所が作成したものです。\n",
    "\n",
    "③\t本ファイルは、計算方法に示す計算過程の確認及び調査研究等に活用することを目的として作成されたものであり、一般社団法人日本サステナブル建築協会は著作権について放棄はしませんが、使用する各人の自己責任において仕様を変更することを妨げるものではありません。ただし、本ファイルによる計算結果を住宅の省エネルギー基準で規定する設計一次エネルギー消費量の結果として公的な申請に用いることはできません。\n",
    "\n",
    "④\t本ファイルを変更するかしないかを問わず、以下の条件を満たす場合に限り、頒布および使用が許可されます。\n",
    "1.\t頒布物の付属ドキュメント等の資料に、上記の著作権表示、本条件一覧、および下記免責条項を含めること。\n",
    "2.\t書面による特別の許可なしに、本ファイルから派生した製品の宣伝または販売の促進に、一般社団法人日本サステナブル建築協会、国土技術政策総合研究所・国立研究開発法人建築研究所および株式会社ユーワークス、株式会社住環境計画研究所の名前またはコントリビューターの名前を使用してはならない。\n",
    "\n",
    "⑤\t本ファイルは、著作権者およびコントリビューターによって「現状のまま」提供されており、明示黙示を問わず、商業的な使用可能性、および特定の目的に対する適合性に関する暗黙の保証も含め、またそれに限定されない、いかなる保証もありません。著作権もコントリビューターも、事由のいかんを問わず、損害発生の原因いかんを問わず、かつ責任の根拠が契約であるか厳格責任であるか（過失その他の）不法行為であるかを問わず、仮にそのような損害が発生する可能性を知らされていたとしても、本ファイルの使用によって発生した（代用品または代用サービスの調達、使用の喪失、データの喪失、利益の喪失、業務の中断も含め、またそれに限定されない）直接損害、間接損害、偶発的な損害、特別損害、懲罰的損害、または結果損害について、一切の責任を負わないものとします。\n",
    "\n"
   ]
  },
  {
   "cell_type": "code",
   "execution_count": null,
   "metadata": {},
   "outputs": [],
   "source": [
    "import numpy as np"
   ]
  },
  {
   "cell_type": "markdown",
   "metadata": {},
   "source": [
    "## 付録O 地中熱ヒートポンプ温水暖房機の熱交換器タイプの決定方法"
   ]
  },
  {
   "cell_type": "markdown",
   "metadata": {},
   "source": [
    "### O.1 適用範囲"
   ]
  },
  {
   "cell_type": "markdown",
   "metadata": {},
   "source": [
    "省略"
   ]
  },
  {
   "cell_type": "markdown",
   "metadata": {},
   "source": [
    "ommision"
   ]
  },
  {
   "cell_type": "markdown",
   "metadata": {},
   "source": [
    "### O.2 記号及び単位"
   ]
  },
  {
   "cell_type": "markdown",
   "metadata": {},
   "source": [
    "省略"
   ]
  },
  {
   "cell_type": "markdown",
   "metadata": {},
   "source": [
    "ommision"
   ]
  },
  {
   "cell_type": "markdown",
   "metadata": {},
   "source": [
    "### O.3 熱交換器タイプ"
   ]
  },
  {
   "cell_type": "markdown",
   "metadata": {},
   "source": [
    "省略"
   ]
  },
  {
   "cell_type": "markdown",
   "metadata": {},
   "source": [
    "ommision"
   ]
  },
  {
   "cell_type": "markdown",
   "metadata": {},
   "source": [
    "### O.4 熱交換器の相当最大熱交換能力"
   ]
  },
  {
   "cell_type": "markdown",
   "metadata": {},
   "source": [
    "$$\\large\n",
    "Q_{exch,max} = \\frac{1000\\times H_{exch,max}}{L'_{exch}}\n",
    "$$"
   ]
  },
  {
   "cell_type": "markdown",
   "metadata": {},
   "source": [
    "$H_{exch,max}$：設計最大熱交換量(kW)  \n",
    "$L'_{exch}$：相当熱交換器長(m)  \n",
    "$Q_{exch,max}$：熱交換器の相当最大熱交換能力(W/m)  "
   ]
  },
  {
   "cell_type": "markdown",
   "metadata": {},
   "source": [
    "### O.5 設計最大熱交換量"
   ]
  },
  {
   "cell_type": "markdown",
   "metadata": {},
   "source": [
    "地域の区分が 1～4 地域の場合："
   ]
  },
  {
   "cell_type": "markdown",
   "metadata": {},
   "source": [
    "$$\\large\n",
    "H_{exch,max} = H_{exch,H}\n",
    "$$"
   ]
  },
  {
   "cell_type": "markdown",
   "metadata": {},
   "source": [
    "地域の区分が 5～8 地域の場合："
   ]
  },
  {
   "cell_type": "markdown",
   "metadata": {},
   "source": [
    "$$\\large\n",
    "H_{exch,max} = max(H_{exch,C},H_{exch,H})\n",
    "$$"
   ]
  },
  {
   "cell_type": "markdown",
   "metadata": {},
   "source": [
    "$H_{exch,max}$：設計最大熱交換量(kW)  \n",
    "$H_{exch,C}$：冷房時の最大熱交換量(kW)  \n",
    "$H_{exch,H}$：暖房時の最大熱交換量(kW)  "
   ]
  },
  {
   "cell_type": "markdown",
   "metadata": {},
   "source": [
    "$$\\large\n",
    "H_{exch,H} = q_{rtd,H,hs}-P_{rtd,H,hs}\n",
    "$$"
   ]
  },
  {
   "cell_type": "markdown",
   "metadata": {},
   "source": [
    "$$\\large\n",
    "H_{exch,C} = q_{rtd,C,hs}-P_{rtd,C,hs}\n",
    "$$"
   ]
  },
  {
   "cell_type": "markdown",
   "metadata": {},
   "source": [
    "$H_{exch,C}$：冷房時の最大熱交換量(kW)  \n",
    "$H_{exch,H}$：暖房時の最大熱交換量(kW)  \n",
    "$P_{rtd,C,hs}$：熱源機の冷房定格消費電力(kW)  \n",
    "$P_{rtd,H,hs}$：熱源機の暖房定格消費電力(kW)  \n",
    "$q_{rtd,C,hs}$：熱源機の冷房定格能力(kW)  \n",
    "$q_{rtd,H,hs}$：熱源機の暖房定格能力(kW)  "
   ]
  },
  {
   "cell_type": "markdown",
   "metadata": {},
   "source": [
    "### O.6 相当熱交換器長"
   ]
  },
  {
   "cell_type": "markdown",
   "metadata": {},
   "source": [
    "$$\\large\n",
    "L'_{exch,C} = \\sum_{i}\\frac{L_{exch,i}}{l_{exch,i}}\n",
    "$$"
   ]
  },
  {
   "cell_type": "markdown",
   "metadata": {},
   "source": [
    "$L'_{exch}$：相当熱交換器長(m)  \n",
    "$L_{exch,i}$：熱交換器$i$の熱交換器長(m)  \n",
    "$l_{exch,i}$：熱交換器$i$の相当熱交換器長換算係数(-)  \n"
   ]
  },
  {
   "cell_type": "markdown",
   "metadata": {},
   "source": [
    "熱交換器$i$の種類がダブル U チューブ（垂直埋設型）の場合："
   ]
  },
  {
   "cell_type": "markdown",
   "metadata": {},
   "source": [
    "$$\\large\n",
    "l_{exch,i} = 1.3957 \\times {\\bar{\\lambda}_{gnd,i}}^{-0.481}\n",
    "$$"
   ]
  },
  {
   "cell_type": "markdown",
   "metadata": {},
   "source": [
    "熱交換器$i$の種類がシングル U チューブ（垂直埋設型）の場合："
   ]
  },
  {
   "cell_type": "markdown",
   "metadata": {},
   "source": [
    "$$\\large\n",
    "l_{exch,i} = 1.3957 \\times A \\times {\\bar{\\lambda}_{gnd,i}}^{-0.481}\n",
    "$$"
   ]
  },
  {
   "cell_type": "markdown",
   "metadata": {},
   "source": [
    "熱交換器$i$の種類が大口径個体充填（垂直埋設型）の場合："
   ]
  },
  {
   "cell_type": "markdown",
   "metadata": {},
   "source": [
    "$$\\large\n",
    "\\left\\{ \\begin{array}{ll}\n",
    "    l_{exch,i} = (−0.5953d_{exch,i} + 1.2344) \\times {\\bar{\\lambda}_{gnd,i}}^{0.0475d_{exch,i}−0.2383} &(d_{exch,i}<0.6)\\\\ \n",
    "    l_{exch,i} = (−0.2606d_{exch,i} + 1.0246) \\times {\\bar{\\lambda}_{gnd,i}}^{0.0613d_{exch,i}−0.2943} &(d_{exch,i}\\geq0.6)\\\\ \n",
    "    \\end{array}\n",
    "\\right.\n",
    "$$"
   ]
  },
  {
   "cell_type": "markdown",
   "metadata": {},
   "source": [
    "熱交換器$i$の種類が間接型水充填（垂直埋設型）の場合："
   ]
  },
  {
   "cell_type": "markdown",
   "metadata": {},
   "source": [
    "$$\\large\n",
    "l_{exch,i} = (−0.881d_{exch,i} + 1.6275) \\times {\\bar{\\lambda}_{gnd,i}}^{0.055d_{exch,i}−0.6618}\n",
    "$$"
   ]
  },
  {
   "cell_type": "markdown",
   "metadata": {},
   "source": [
    "熱交換器$i$の種類が直接循環型水充填（垂直埋設型）の場合："
   ]
  },
  {
   "cell_type": "markdown",
   "metadata": {},
   "source": [
    "$$\\large\n",
    "l_{exch,i} = (−1.0518d_{exch,i} + 1.9231) \\times {\\bar{\\lambda}_{gnd,i}}^{0.2325d_{exch,i}−0.6564}\n",
    "$$"
   ]
  },
  {
   "cell_type": "markdown",
   "metadata": {},
   "source": [
    "熱交換器$i$の種類が水平埋設型の場合："
   ]
  },
  {
   "cell_type": "markdown",
   "metadata": {},
   "source": [
    "$$\\large\n",
    "l_{exch,i} = 1.0023 \\times A \\times B \\times {\\bar{\\lambda}_{gnd,i}}^{-0.439}\n",
    "$$"
   ]
  },
  {
   "cell_type": "markdown",
   "metadata": {},
   "source": [
    "$d_{exch,i}$：熱交換器$i$の断面の直径に係る寸法(m)  \n",
    "$l_{exch,i}$：熱交換器$i$の相当熱交換器長換算係数(-)  \n",
    "$\\bar{\\lambda}_{gnd,i}$：熱交換器$i$の地盤の有効熱伝導率(W/(m・K))  \n",
    "$A$：シングル U チューブの熱交換器長をダブル U チューブ相当に変換する係数(-)  \n",
    "$B$：水平埋設型の熱交換器長をシングル U チューブ相当に変換する係数(-)  \n"
   ]
  },
  {
   "cell_type": "markdown",
   "metadata": {},
   "source": [
    "シングル U チューブの熱交換器長をダブル U チューブ相当に変換する係数$A$は、1.3 とする。\n",
    "水平埋設型の熱交換器長をシングル U チューブ相当に変換する係数$B$は、1.3 とする。"
   ]
  },
  {
   "cell_type": "markdown",
   "metadata": {},
   "source": [
    "### O.7 熱交換器長"
   ]
  },
  {
   "cell_type": "markdown",
   "metadata": {},
   "source": [
    "省略"
   ]
  },
  {
   "cell_type": "markdown",
   "metadata": {},
   "source": [
    "### O.8 熱交換器の断面の直径に係る寸法"
   ]
  },
  {
   "cell_type": "markdown",
   "metadata": {},
   "source": [
    "省略"
   ]
  }
 ],
 "metadata": {
  "kernelspec": {
   "display_name": "Python 3",
   "language": "python",
   "name": "python3"
  },
  "language_info": {
   "codemirror_mode": {
    "name": "ipython",
    "version": 3
   },
   "file_extension": ".py",
   "mimetype": "text/x-python",
   "name": "python",
   "nbconvert_exporter": "python",
   "pygments_lexer": "ipython3",
   "version": "3.7.3"
  }
 },
 "nbformat": 4,
 "nbformat_minor": 2
}
