{
 "cells": [
  {
   "cell_type": "code",
   "execution_count": 1,
   "metadata": {},
   "outputs": [
    {
     "name": "stdout",
     "output_type": "stream",
     "text": [
      "Importing Jupyter notebook from s05_ventilation.ipynb\n",
      "Importing Jupyter notebook from s11_03_life_schedule.ipynb\n"
     ]
    }
   ],
   "source": [
    "import nbimporter \n",
    "from s05_ventilation import get_E_E_V_d_t\n",
    "\n",
    "\n"
   ]
  },
  {
   "cell_type": "markdown",
   "metadata": {},
   "source": [
    "### 計算条件1\n",
    "\n",
    "|名称|変数名|値|\n",
    "|----|------|--|\n",
    "|世帯人数|$n_p$|4人|\n",
    "|床面積（合計）|$A_A$|120.0m2|\n",
    "|換気設備の方式の選択|$type$|第一種換気設備|\n",
    "|評価方法の選択|$input$|比消費電力|\n",
    "|比消費電力|$f_{SFP}$|0.1|\n",
    "|有効換気量率|$v_e$|0.9|\n",
    "|換気回数|$N$|2.2|\n",
    "\n"
   ]
  },
  {
   "cell_type": "code",
   "execution_count": 4,
   "metadata": {},
   "outputs": [
    {
     "data": {
      "text/plain": [
       "array([0.07794, 0.07794, 0.07794, ..., 0.10256, 0.10339, 0.09067])"
      ]
     },
     "execution_count": 4,
     "metadata": {},
     "output_type": "execute_result"
    }
   ],
   "source": [
    "n_p = 4.0\n",
    "A_A = 120.0\n",
    "V = {\n",
    "    'type' : '第一種換気設備',\n",
    "    'input' : '比消費電力',\n",
    "    'f_SFP' : 0.1,\n",
    "    'v_e' : 0.9,\n",
    "    'N' : 2.2,\n",
    "}\n",
    "HEX = None\n",
    "get_E_E_V_d_t(n_p, A_A, V, HEX)"
   ]
  },
  {
   "cell_type": "markdown",
   "metadata": {},
   "source": [
    "### 計算条件2   \n",
    "\n"
   ]
  }
 ],
 "metadata": {
  "kernelspec": {
   "display_name": "Python 3",
   "language": "python",
   "name": "python3"
  },
  "language_info": {
   "codemirror_mode": {
    "name": "ipython",
    "version": 3
   },
   "file_extension": ".py",
   "mimetype": "text/x-python",
   "name": "python",
   "nbconvert_exporter": "python",
   "pygments_lexer": "ipython3",
   "version": "3.6.6"
  }
 },
 "nbformat": 4,
 "nbformat_minor": 2
}
