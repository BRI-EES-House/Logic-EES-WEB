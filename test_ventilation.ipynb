{
 "cells": [
  {
   "cell_type": "code",
   "execution_count": null,
   "metadata": {
    "scrolled": true
   },
   "outputs": [],
   "source": [
    "import nbimporter \n",
    "from s05_ventilation import get_E_E_V_d_t\n",
    "\n",
    "import matplotlib.pyplot as plt\n"
   ]
  },
  {
   "cell_type": "markdown",
   "metadata": {},
   "source": [
    "### 計算条件1\n"
   ]
  },
  {
   "cell_type": "markdown",
   "metadata": {},
   "source": [
    "|名称|変数名|値|\n",
    "|----|------|--|\n",
    "|世帯人数|$n_p$|4人|\n",
    "|床面積（合計）|$A_A$|120.0m2|\n",
    "|換気設備の方式の選択|$type$|第一種換気設備|\n",
    "|評価方法の選択|$input$|比消費電力|\n",
    "|比消費電力|$f_{SFP}$|0.1|\n",
    "|有効換気量率|$v_e$|0.9|\n",
    "|換気回数|$N$|2.2|\n",
    "\n"
   ]
  },
  {
   "cell_type": "code",
   "execution_count": null,
   "metadata": {},
   "outputs": [],
   "source": [
    "n_p = 4.0\n",
    "A_A = 120.0\n",
    "V = {\n",
    "    'type' : '第一種換気設備',\n",
    "    'input' : '比消費電力',\n",
    "    'f_SFP' : 0.1,\n",
    "    'v_e' : 0.9,\n",
    "    'N' : 2.2,\n",
    "}\n",
    "HEX = None\n",
    "testcase1 = get_E_E_V_d_t(n_p, A_A, V, HEX)\n"
   ]
  },
  {
   "cell_type": "code",
   "execution_count": null,
   "metadata": {},
   "outputs": [],
   "source": [
    "fig = plt.figure(figsize=(20,4))\n",
    "ax1 = fig.add_subplot(111)\n",
    "ax1.plot(testcase1)\n",
    "ax1.set_ylabel(\"kWh/h\")\n",
    "plt.show\n"
   ]
  },
  {
   "cell_type": "markdown",
   "metadata": {},
   "source": [
    "### 計算条件2"
   ]
  },
  {
   "cell_type": "markdown",
   "metadata": {},
   "source": [
    "|名称|変数名|値|\n",
    "|----|------|--|\n",
    "|世帯人数|$n_p$|2人|\n",
    "|床面積（合計）|$A_A$|70.0m2|\n",
    "|換気設備の方式の選択|$type$|第一種換気設備|\n",
    "|評価方法の選択|$input$|比消費電力|\n",
    "|比消費電力|$f_{SFP}$|0.1|\n",
    "|有効換気量率|$v_e$|0.9|\n",
    "|換気回数|$N$|2.2|\n",
    "\n"
   ]
  },
  {
   "cell_type": "code",
   "execution_count": null,
   "metadata": {},
   "outputs": [],
   "source": [
    "n_p = 2.0\n",
    "A_A = 70.0\n",
    "V = {\n",
    "    'type' : '第一種換気設備',\n",
    "    'input' : '比消費電力',\n",
    "    'f_SFP' : 0.1,\n",
    "    'v_e' : 0.9,\n",
    "    'N' : 2.2,\n",
    "}\n",
    "HEX = None\n",
    "testcase2 = get_E_E_V_d_t(n_p, A_A, V, HEX)"
   ]
  },
  {
   "cell_type": "code",
   "execution_count": null,
   "metadata": {
    "scrolled": true
   },
   "outputs": [],
   "source": [
    "fig = plt.figure(figsize=(20,4))\n",
    "ax2 = fig.add_subplot(111)\n",
    "ax2.plot(testcase2)\n",
    "ax2.set_ylabel(\"kWh/h\")\n",
    "plt.show\n"
   ]
  },
  {
   "cell_type": "markdown",
   "metadata": {},
   "source": [
    "### 比較"
   ]
  },
  {
   "cell_type": "code",
   "execution_count": null,
   "metadata": {},
   "outputs": [],
   "source": [
    "dat2 = {\"testcase1\":sum(testcase1),\"testcase2\" : sum(testcase2)}\n",
    "xx = list(dat2.keys())\n",
    "yy = list(dat2.values())\n",
    "\n",
    "fig = plt.figure(figsize=(20,4))\n",
    "axt = fig.add_subplot(111)\n",
    "axt.barh(xx,yy)\n",
    "axt.set_xlabel(\"kWh/a\")\n",
    "plt.show\n"
   ]
  }
 ],
 "metadata": {
  "kernelspec": {
   "display_name": "Python 3",
   "language": "python",
   "name": "python3"
  },
  "language_info": {
   "codemirror_mode": {
    "name": "ipython",
    "version": 3
   },
   "file_extension": ".py",
   "mimetype": "text/x-python",
   "name": "python",
   "nbconvert_exporter": "python",
   "pygments_lexer": "ipython3",
   "version": "3.6.6"
  }
 },
 "nbformat": 4,
 "nbformat_minor": 2
}
