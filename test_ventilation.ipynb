{
 "cells": [
  {
   "cell_type": "code",
   "execution_count": null,
   "metadata": {
    "scrolled": true
   },
   "outputs": [],
   "source": [
    "import nbimporter \n",
    "from s05_ventilation import get_E_E_V_d_t\n",
    "\n",
    "%matplotlib inline\n",
    "import matplotlib.pyplot as plt\n"
   ]
  },
  {
   "cell_type": "markdown",
   "metadata": {},
   "source": [
    "|名称|変数名|計算条件1|計算条件2|計算条件3|計算条件4|計算条件5|計算条件6|計算条件7|\n",
    "|----|------|--|--|--|--|--|--|--|\n",
    "|世帯人数|$n_p$|4人|2人|4人|4人|4人|4人|4人|\n",
    "|床面積（合計）|$A_A$|120.0m2|70.0m2|120.0m2|120.0m2|120.0m2|120.0m2|120.0m2|\n",
    "|換気設備の方式の選択|$type$|ダクト式第一種換気設備|ダクト式第一種換気設備|ダクト式第二種換気設備又はダクト式第三種換気設備|ダクト式第一種換気設備|ダクト式第一種換気設備|ダクト式第一種換気設備|ダクト式第一種換気設備|\n",
    "|評価方法の選択|$input$|比消費電力|比消費電力|比消費電力|比消費電力|評価しない|比消費電力|比消費電力|\n",
    "|比消費電力|$f_{SFP}$|0.1|0.1|0.1|0.3|-|0.1|0.1|\n",
    "|有効換気量率|$v_e$|0.9|0.9|0.9|0.9|0.9|0.6|0.9|\n",
    "|換気回数|$N$|2.2|2.2|2.2|2.2|2.2|2.2|3|\n",
    "\n"
   ]
  },
  {
   "cell_type": "code",
   "execution_count": null,
   "metadata": {},
   "outputs": [],
   "source": [
    "n_p = 4.0\n",
    "A_A = 120.0\n",
    "V = {\n",
    "    'type' : 'ダクト式第一種換気設備',\n",
    "    'input' : '評価しない',\n",
    "    'f_SFP' : 0,\n",
    "    'v_e' : 0.9,\n",
    "    'N' : 2.2,\n",
    "}\n",
    "HEX = None\n",
    "testcase5 = get_E_E_V_d_t(n_p, A_A, V, HEX)"
   ]
  },
  {
   "cell_type": "markdown",
   "metadata": {},
   "source": [
    "### 計算条件1\n"
   ]
  },
  {
   "cell_type": "code",
   "execution_count": null,
   "metadata": {},
   "outputs": [],
   "source": [
    "n_p = 4.0\n",
    "A_A = 120.0\n",
    "V = {\n",
    "    'type' : 'ダクト式第一種換気設備',\n",
    "    'input' : '比消費電力',\n",
    "    'f_SFP' : 0.1,\n",
    "    'v_e' : 0.9,\n",
    "    'N' : 2.2,\n",
    "}\n",
    "HEX = None\n",
    "testcase1 = get_E_E_V_d_t(n_p, A_A, V, HEX)\n"
   ]
  },
  {
   "cell_type": "code",
   "execution_count": null,
   "metadata": {
    "scrolled": true
   },
   "outputs": [],
   "source": [
    "fig = plt.figure(figsize=(20,4))\n",
    "ax1 = fig.add_subplot(111)\n",
    "ax1.plot(testcase1)\n",
    "ax1.set_ylabel(\"kWh/h\")\n",
    "plt.show()"
   ]
  },
  {
   "cell_type": "markdown",
   "metadata": {},
   "source": [
    "### 計算条件2"
   ]
  },
  {
   "cell_type": "code",
   "execution_count": null,
   "metadata": {},
   "outputs": [],
   "source": [
    "n_p = 2.0\n",
    "A_A = 70.0\n",
    "V = {\n",
    "    'type' : 'ダクト式第一種換気設備',\n",
    "    'input' : '比消費電力',\n",
    "    'f_SFP' : 0.1,\n",
    "    'v_e' : 0.9,\n",
    "    'N' : 2.2,\n",
    "}\n",
    "HEX = None\n",
    "testcase2 = get_E_E_V_d_t(n_p, A_A, V, HEX)"
   ]
  },
  {
   "cell_type": "code",
   "execution_count": null,
   "metadata": {
    "scrolled": true
   },
   "outputs": [],
   "source": [
    "fig = plt.figure(figsize=(20,4))\n",
    "ax2 = fig.add_subplot(111)\n",
    "ax2.plot(testcase2)\n",
    "ax2.set_ylabel(\"kWh/h\")\n",
    "plt.show()"
   ]
  },
  {
   "cell_type": "markdown",
   "metadata": {},
   "source": [
    "### 計算条件3"
   ]
  },
  {
   "cell_type": "code",
   "execution_count": null,
   "metadata": {},
   "outputs": [],
   "source": [
    "n_p = 4.0\n",
    "A_A = 120.0\n",
    "V = {\n",
    "    'type' : 'ダクト式第二種換気設備又はダクト式第三種換気設備',\n",
    "    'input' : '比消費電力',\n",
    "    'f_SFP' : 0.1,\n",
    "    'v_e' : 0.9,\n",
    "    'N' : 2.2,\n",
    "}\n",
    "HEX = None\n",
    "testcase3 = get_E_E_V_d_t(n_p, A_A, V, HEX)"
   ]
  },
  {
   "cell_type": "code",
   "execution_count": null,
   "metadata": {},
   "outputs": [],
   "source": [
    "fig = plt.figure(figsize=(20,4))\n",
    "ax3 = fig.add_subplot(111)\n",
    "ax3.plot(testcase3)\n",
    "ax3.set_ylabel(\"kWh/h\")\n",
    "plt.show()"
   ]
  },
  {
   "cell_type": "markdown",
   "metadata": {},
   "source": [
    "### 計算条件4"
   ]
  },
  {
   "cell_type": "code",
   "execution_count": null,
   "metadata": {},
   "outputs": [],
   "source": [
    "n_p = 4.0\n",
    "A_A = 120.0\n",
    "V = {\n",
    "    'type' : 'ダクト式第一種換気設備',\n",
    "    'input' : '比消費電力',\n",
    "    'f_SFP' : 0.3,\n",
    "    'v_e' : 0.9,\n",
    "    'N' : 2.2,\n",
    "}\n",
    "HEX = None\n",
    "testcase4 = get_E_E_V_d_t(n_p, A_A, V, HEX)"
   ]
  },
  {
   "cell_type": "code",
   "execution_count": null,
   "metadata": {},
   "outputs": [],
   "source": [
    "fig = plt.figure(figsize=(20,4))\n",
    "ax4 = fig.add_subplot(111)\n",
    "ax4.plot(testcase4)\n",
    "ax4.set_ylabel(\"kWh/h\")\n",
    "plt.show()"
   ]
  },
  {
   "cell_type": "markdown",
   "metadata": {},
   "source": [
    "### 計算条件5"
   ]
  },
  {
   "cell_type": "code",
   "execution_count": null,
   "metadata": {},
   "outputs": [],
   "source": [
    "n_p = 4.0\n",
    "A_A = 120.0\n",
    "V = {\n",
    "    'type' : 'ダクト式第一種換気設備',\n",
    "    'input' : '評価しない',\n",
    "    'f_SFP' : 0,\n",
    "    'v_e' : 0.9,\n",
    "    'N' : 2.2,\n",
    "}\n",
    "HEX = None\n",
    "testcase5 = get_E_E_V_d_t(n_p, A_A, V, HEX)"
   ]
  },
  {
   "cell_type": "code",
   "execution_count": null,
   "metadata": {},
   "outputs": [],
   "source": [
    "fig = plt.figure(figsize=(20,4))\n",
    "ax5 = fig.add_subplot(111)\n",
    "ax5.plot(testcase5)\n",
    "ax5.set_ylabel(\"kWh/h\")\n",
    "plt.show()"
   ]
  },
  {
   "cell_type": "markdown",
   "metadata": {},
   "source": [
    "### 計算条件6"
   ]
  },
  {
   "cell_type": "code",
   "execution_count": null,
   "metadata": {},
   "outputs": [],
   "source": [
    "n_p = 4.0\n",
    "A_A = 120.0\n",
    "V = {\n",
    "    'type' : 'ダクト式第一種換気設備',\n",
    "    'input' : '比消費電力',\n",
    "    'f_SFP' : 0.1,\n",
    "    'v_e' : 0.6,\n",
    "    'N' : 2.2,\n",
    "}\n",
    "HEX = None\n",
    "testcase6 = get_E_E_V_d_t(n_p, A_A, V, HEX)"
   ]
  },
  {
   "cell_type": "code",
   "execution_count": null,
   "metadata": {},
   "outputs": [],
   "source": [
    "fig = plt.figure(figsize=(20,4))\n",
    "ax6 = fig.add_subplot(111)\n",
    "ax6.plot(testcase6)\n",
    "ax6.set_ylabel(\"kWh/h\")\n",
    "plt.show()"
   ]
  },
  {
   "cell_type": "markdown",
   "metadata": {},
   "source": [
    "### 計算条件7"
   ]
  },
  {
   "cell_type": "code",
   "execution_count": null,
   "metadata": {},
   "outputs": [],
   "source": [
    "n_p = 4.0\n",
    "A_A = 120.0\n",
    "V = {\n",
    "    'type' : 'ダクト式第一種換気設備',\n",
    "    'input' : '比消費電力',\n",
    "    'f_SFP' : 0.1,\n",
    "    'v_e' : 0.9,\n",
    "    'N' : 3,\n",
    "}\n",
    "HEX = None\n",
    "testcase7 = get_E_E_V_d_t(n_p, A_A, V, HEX)"
   ]
  },
  {
   "cell_type": "code",
   "execution_count": null,
   "metadata": {},
   "outputs": [],
   "source": [
    "fig = plt.figure(figsize=(20,4))\n",
    "ax7 = fig.add_subplot(111)\n",
    "ax7.plot(testcase7)\n",
    "ax7.set_ylabel(\"kWh/h\")\n",
    "plt.show()"
   ]
  },
  {
   "cell_type": "markdown",
   "metadata": {},
   "source": [
    "### 比較"
   ]
  },
  {
   "cell_type": "code",
   "execution_count": null,
   "metadata": {
    "scrolled": true
   },
   "outputs": [],
   "source": [
    "dat = {\"testcase1\":sum(testcase1),\"testcase2\" : sum(testcase2), \"testcase3\" : sum(testcase3), \"testcase4\" : sum(testcase4),\n",
    "      \"testcase5\" : sum(testcase5), \"testcase6\" : sum(testcase6), \"testcase7\" : sum(testcase7)}\n",
    "xx = list(dat.keys())\n",
    "yy = list(dat.values())\n",
    "\n",
    "fig = plt.figure(figsize=(20,4))\n",
    "axt = fig.add_subplot(111)\n",
    "axt.barh(xx,yy)\n",
    "axt.set_xlabel(\"kWh/a\")\n",
    "plt.show()\n"
   ]
  }
 ],
 "metadata": {
  "kernelspec": {
   "display_name": "Python 3",
   "language": "python",
   "name": "python3"
  },
  "language_info": {
   "codemirror_mode": {
    "name": "ipython",
    "version": 3
   },
   "file_extension": ".py",
   "mimetype": "text/x-python",
   "name": "python",
   "nbconvert_exporter": "python",
   "pygments_lexer": "ipython3",
   "version": "3.6.6"
  }
 },
 "nbformat": 4,
 "nbformat_minor": 2
}
