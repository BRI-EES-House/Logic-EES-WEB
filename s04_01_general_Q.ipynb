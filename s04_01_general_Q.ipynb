{
 "cells": [
  {
   "cell_type": "markdown",
   "metadata": {},
   "source": [
    "使用許諾条件\n",
    "\n",
    "①\t設計一次エネルギー消費量算定法に基づく計算方法をPythonによりコーディングし、Jupyter notebook形式で保存したファイル（以下、本ファイルと呼ぶ）の著作権は、一般社団法人日本サステナブル建築協会に帰属します。\n",
    "Copyright©2019. 一般社団法人日本サステナブル建築協会\n",
    "All rights reserved. \n",
    "\n",
    "②\t本ファイルは、住戸の設計一次エネルギー消費量算定方法に係る「平成28年省エネルギー基準に準拠したエネルギー消費性能の評価に関する技術情報（住宅）2.1算定方法（第四章第一節 全般）」に示す計算方法に基づき、国土交通省国土技術政策総合研究所・国立研究開発法人建築研究所、株式会社ユーワークス、株式会社住環境計画研究所が作成したものです。\n",
    "\n",
    "③\t本ファイルは、計算方法に示す計算過程の確認及び調査研究等に活用することを目的として作成されたものであり、一般社団法人日本サステナブル建築協会は著作権について放棄はしませんが、使用する各人の自己責任において仕様を変更することを妨げるものではありません。ただし、本ファイルによる計算結果を住宅の省エネルギー基準で規定する設計一次エネルギー消費量の結果として公的な申請に用いることはできません。\n",
    "\n",
    "④\t本ファイルを変更するかしないかを問わず、以下の条件を満たす場合に限り、頒布および使用が許可されます。\n",
    "1.\t頒布物の付属ドキュメント等の資料に、上記の著作権表示、本条件一覧、および下記免責条項を含めること。\n",
    "2.\t書面による特別の許可なしに、本ファイルから派生した製品の宣伝または販売の促進に、一般社団法人日本サステナブル建築協会、国土技術政策総合研究所・国立研究開発法人建築研究所および株式会社ユーワークス、株式会社住環境計画研究所の名前またはコントリビューターの名前を使用してはならない。\n",
    "\n",
    "⑤\t本ファイルは、著作権者およびコントリビューターによって「現状のまま」提供されており、明示黙示を問わず、商業的な使用可能性、および特定の目的に対する適合性に関する暗黙の保証も含め、またそれに限定されない、いかなる保証もありません。著作権もコントリビューターも、事由のいかんを問わず、損害発生の原因いかんを問わず、かつ責任の根拠が契約であるか厳格責任であるか（過失その他の）不法行為であるかを問わず、仮にそのような損害が発生する可能性を知らされていたとしても、本ファイルの使用によって発生した（代用品または代用サービスの調達、使用の喪失、データの喪失、利益の喪失、業務の中断も含め、またそれに限定されない）直接損害、間接損害、偶発的な損害、特別損害、懲罰的損害、または結果損害について、一切の責任を負わないものとします。\n",
    "\n"
   ]
  },
  {
   "cell_type": "code",
   "execution_count": null,
   "metadata": {},
   "outputs": [],
   "source": [
    "import numpy as np\n"
   ]
  },
  {
   "cell_type": "code",
   "execution_count": null,
   "metadata": {},
   "outputs": [],
   "source": [
    "def get_Q_T_H_d_t_i(Q_max_H_d_t_i, L_H_d_t_i):\n",
    "    \"\"\" 暖房設備機器等の処理暖房負荷（MJ/h）(6a)を計算する\n",
    "\n",
    "    :param Q_max_H_d_t_i: 暖房設備機器の最大暖房出力\n",
    "    :type Q_max_H_d_t_i: ndarray\n",
    "    :param L_H_d_t_i: 暖房負荷\n",
    "    :type L_H_d_t_i: ndarray\n",
    "    :return: 暖房設備機器等の処理暖房負荷（MJ/h）\n",
    "    :rtype: ndarray\n",
    "    \"\"\"\n",
    "    assert len(Q_max_H_d_t_i.shape) == 1\n",
    "    assert len(L_H_d_t_i.shape) == 1\n",
    "    return np.min([Q_max_H_d_t_i, L_H_d_t_i], axis=0)\n"
   ]
  },
  {
   "cell_type": "code",
   "execution_count": null,
   "metadata": {},
   "outputs": [],
   "source": [
    "def get_Q_T_CS_d_t_i(Q_max_CS_d_t_i, L_CS_d_t_i):\n",
    "    \"\"\" 冷房設備機器の処理冷房顕熱負荷（MJ/h）(19a)を計算する\n",
    "\n",
    "    :param Q_max_CS_d_t_i: 最大冷房顕熱出力\n",
    "    :type Q_max_CS_d_t_i: ndarray\n",
    "    :param L_CS_d_t_i: 冷房顕熱負荷\n",
    "    :type L_CS_d_t_i: ndarray\n",
    "    :return: 冷房設備機器の処理冷房顕熱負荷（MJ/h）\n",
    "    :rtype: ndarray\n",
    "    \"\"\"\n",
    "    return np.min([Q_max_CS_d_t_i, L_CS_d_t_i], axis=0)\n"
   ]
  },
  {
   "cell_type": "code",
   "execution_count": null,
   "metadata": {},
   "outputs": [],
   "source": [
    "def get_Q_UT_CS_d_t_i(L_CS_d_t_i, Q_T_CS_d_t_i):\n",
    "    \"\"\" 冷房設備機器の未処理冷房顕熱負荷（MJ/h）(19b)を計算する\n",
    "\n",
    "    :param Q_T_CS_d_t_i: 最大冷房潜熱出力\n",
    "    :type Q_T_CS_d_t_i: ndarray\n",
    "    :param L_CS_d_t_i: 冷房顕熱負荷\n",
    "    :type L_CS_d_t_i: ndarray\n",
    "    :return: 冷房設備機器の未処理冷房顕熱負荷（MJ/h）\n",
    "    :rtype: ndarray\n",
    "    \"\"\"\n",
    "    return L_CS_d_t_i - Q_T_CS_d_t_i\n"
   ]
  },
  {
   "cell_type": "code",
   "execution_count": null,
   "metadata": {},
   "outputs": [],
   "source": [
    "def get_Q_T_CL_d_t_i(Q_max_CL_d_t_i, L_CL_d_t_i):\n",
    "    \"\"\" 冷房設備機器の処理冷房潜熱負荷（MJ/h）(20a)を計算する\n",
    "\n",
    "    :param Q_max_CL_d_t_i: 最大冷房潜熱出力\n",
    "    :type Q_max_CL_d_t_i: ndarray\n",
    "    :param L_CL_d_t_i: 冷房潜熱負荷\n",
    "    :type L_CL_d_t_i: ndarray\n",
    "    :return: 冷房設備機器の処理冷房潜熱負荷（MJ/h）\n",
    "    :rtype: ndarray\n",
    "    \"\"\"\n",
    "    return np.min([Q_max_CL_d_t_i, L_CL_d_t_i], axis=0)\n"
   ]
  },
  {
   "cell_type": "code",
   "execution_count": null,
   "metadata": {},
   "outputs": [],
   "source": [
    "def get_Q_UT_CL_d_t_i(L_CL_d_t_i, Q_T_CL_d_t_i):\n",
    "    \"\"\" 冷房設備機器の未処理冷房潜熱負荷（MJ/h）(20b)を計算する\n",
    "\n",
    "    :param Q_max_CL_d_t_i: 最大冷房潜熱出力\n",
    "    :type Q_max_CL_d_t_i: ndarray\n",
    "    :param L_CL_d_t_i: 冷房潜熱負荷\n",
    "    :type L_CL_d_t_i: ndarray\n",
    "    :return: 冷房設備機器の未処理冷房潜熱負荷（MJ/h）\n",
    "    :rtype: ndarray\n",
    "    \"\"\"\n",
    "    return L_CL_d_t_i - Q_T_CL_d_t_i\n"
   ]
  }
 ],
 "metadata": {
  "kernelspec": {
   "display_name": "Python 3",
   "language": "python",
   "name": "python3"
  },
  "language_info": {
   "codemirror_mode": {
    "name": "ipython",
    "version": 3
   },
   "file_extension": ".py",
   "mimetype": "text/x-python",
   "name": "python",
   "nbconvert_exporter": "python",
   "pygments_lexer": "ipython3",
   "version": "3.6.6"
  }
 },
 "nbformat": 4,
 "nbformat_minor": 2
}
