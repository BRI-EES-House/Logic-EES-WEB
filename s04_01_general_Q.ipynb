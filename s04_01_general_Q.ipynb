{
 "cells": [
  {
   "cell_type": "code",
   "execution_count": null,
   "metadata": {},
   "outputs": [],
   "source": [
    "import numpy as np\n"
   ]
  },
  {
   "cell_type": "code",
   "execution_count": null,
   "metadata": {},
   "outputs": [],
   "source": [
    "def get_Q_T_H_d_t_i(Q_max_H_d_t_i, L_H_d_t_i):\n",
    "    \"\"\" 暖房設備機器等の処理暖房負荷（MJ/h）(6a)を計算する\n",
    "\n",
    "    :param Q_max_H_d_t_i: 暖房設備機器の最大暖房出力\n",
    "    :type Q_max_H_d_t_i: ndarray\n",
    "    :param L_H_d_t_i: 暖房負荷\n",
    "    :type L_H_d_t_i: ndarray\n",
    "    :return: 暖房設備機器等の処理暖房負荷（MJ/h）\n",
    "    :rtype: ndarray\n",
    "    \"\"\"\n",
    "    assert len(Q_max_H_d_t_i.shape) == 1\n",
    "    assert len(L_H_d_t_i.shape) == 1\n",
    "    return np.min([Q_max_H_d_t_i, L_H_d_t_i], axis=0)\n"
   ]
  },
  {
   "cell_type": "code",
   "execution_count": null,
   "metadata": {},
   "outputs": [],
   "source": [
    "def get_Q_T_CS_d_t_i(Q_max_CS_d_t_i, L_CS_d_t_i):\n",
    "    \"\"\" 冷房設備機器の処理冷房顕熱負荷（MJ/h）(19a)を計算する\n",
    "\n",
    "    :param Q_max_CS_d_t_i: 最大冷房顕熱出力\n",
    "    :type Q_max_CS_d_t_i: ndarray\n",
    "    :param L_CS_d_t_i: 冷房顕熱負荷\n",
    "    :type L_CS_d_t_i: ndarray\n",
    "    :return: 冷房設備機器の処理冷房顕熱負荷（MJ/h）\n",
    "    :rtype: ndarray\n",
    "    \"\"\"\n",
    "    return np.min([Q_max_CS_d_t_i, L_CS_d_t_i], axis=0)\n"
   ]
  },
  {
   "cell_type": "code",
   "execution_count": null,
   "metadata": {},
   "outputs": [],
   "source": [
    "def get_Q_UT_CS_d_t_i(L_CS_d_t_i, Q_T_CS_d_t_i):\n",
    "    \"\"\" 冷房設備機器の未処理冷房顕熱負荷（MJ/h）(19b)を計算する\n",
    "\n",
    "    :param Q_T_CS_d_t_i: 最大冷房潜熱出力\n",
    "    :type Q_T_CS_d_t_i: ndarray\n",
    "    :param L_CS_d_t_i: 冷房顕熱負荷\n",
    "    :type L_CS_d_t_i: ndarray\n",
    "    :return: 冷房設備機器の未処理冷房顕熱負荷（MJ/h）\n",
    "    :rtype: ndarray\n",
    "    \"\"\"\n",
    "    return L_CS_d_t_i - Q_T_CS_d_t_i\n"
   ]
  },
  {
   "cell_type": "code",
   "execution_count": null,
   "metadata": {},
   "outputs": [],
   "source": [
    "def get_Q_T_CL_d_t_i(Q_max_CL_d_t_i, L_CL_d_t_i):\n",
    "    \"\"\" 冷房設備機器の処理冷房潜熱負荷（MJ/h）(20a)を計算する\n",
    "\n",
    "    :param Q_max_CL_d_t_i: 最大冷房潜熱出力\n",
    "    :type Q_max_CL_d_t_i: ndarray\n",
    "    :param L_CL_d_t_i: 冷房潜熱負荷\n",
    "    :type L_CL_d_t_i: ndarray\n",
    "    :return: 冷房設備機器の処理冷房潜熱負荷（MJ/h）\n",
    "    :rtype: ndarray\n",
    "    \"\"\"\n",
    "    return np.min([Q_max_CL_d_t_i, L_CL_d_t_i], axis=0)\n"
   ]
  },
  {
   "cell_type": "code",
   "execution_count": null,
   "metadata": {},
   "outputs": [],
   "source": [
    "def get_Q_UT_CL_d_t_i(L_CL_d_t_i, Q_T_CL_d_t_i):\n",
    "    \"\"\" 冷房設備機器の未処理冷房潜熱負荷（MJ/h）(20b)を計算する\n",
    "\n",
    "    :param Q_max_CL_d_t_i: 最大冷房潜熱出力\n",
    "    :type Q_max_CL_d_t_i: ndarray\n",
    "    :param L_CL_d_t_i: 冷房潜熱負荷\n",
    "    :type L_CL_d_t_i: ndarray\n",
    "    :return: 冷房設備機器の未処理冷房潜熱負荷（MJ/h）\n",
    "    :rtype: ndarray\n",
    "    \"\"\"\n",
    "    return L_CL_d_t_i - Q_T_CL_d_t_i\n"
   ]
  }
 ],
 "metadata": {
  "kernelspec": {
   "display_name": "Python 3",
   "language": "python",
   "name": "python3"
  },
  "language_info": {
   "codemirror_mode": {
    "name": "ipython",
    "version": 3
   },
   "file_extension": ".py",
   "mimetype": "text/x-python",
   "name": "python",
   "nbconvert_exporter": "python",
   "pygments_lexer": "ipython3",
   "version": "3.6.6"
  }
 },
 "nbformat": 4,
 "nbformat_minor": 2
}
