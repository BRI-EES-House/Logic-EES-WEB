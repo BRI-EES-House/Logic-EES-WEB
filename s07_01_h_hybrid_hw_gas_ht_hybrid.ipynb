{
 "cells": [
  {
   "cell_type": "code",
   "execution_count": null,
   "metadata": {},
   "outputs": [],
   "source": [
    "import nbimporter\n",
    "import numpy as np\n",
    "\n",
    "import s07_01_c_gas_boiler as gas"
   ]
  },
  {
   "cell_type": "markdown",
   "metadata": {},
   "source": [
    "## 付録H　電気ヒートポンプ・ガス瞬間式併用型給湯温水暖房機（給湯熱源：ガス瞬間式、暖房熱源：電気ヒートポンプ・ガス瞬間式併用） / Appendix H Electric heat pump, gas moment type combined hot water supply hot water heater (hot water supply heat source: gas moment type, heating heat source: electric heat pump, gas moment type combined use)"
   ]
  },
  {
   "cell_type": "markdown",
   "metadata": {},
   "source": [
    "電気ヒートポンプ・ガス瞬間式併用型給湯温水暖房機（給湯熱源：ガス瞬間式、暖房熱源：電気ヒートポンプ・ガス瞬間式併用）の給湯部の給湯機の効率を0.866（86.6%）とする。 "
   ]
  },
  {
   "cell_type": "markdown",
   "metadata": {},
   "source": [
    "The efficiency of the hot water heater of the hot water supply unit of the electric heat pump gas instantaneous type combined hot water supply hot water heater (hot water source heat source: gas instantaneous type, heating heat source: electric heat pump gas instant type combined) is 0.866 (86.6%)."
   ]
  },
  {
   "cell_type": "code",
   "execution_count": null,
   "metadata": {},
   "outputs": [],
   "source": [
    "def get_E_E_hs(W_dash_k_d_t, W_dash_s_d_t, W_dash_w_d_t, W_dash_b1_d_t, W_dash_b2_d_t, W_dash_ba1_d_t, Theta_ex_Ave_d, L_dashdash_ba2_d_t):\n",
    "    \"\"\"# 1日当たりの給湯機の消費電力量\n",
    "\n",
    "    :param W_dash_k_d_t: 1時間当たりの台所水栓における節湯補正給湯量 (L/d)\n",
    "    :type W_dash_k_d_t: ndarray\n",
    "    :param W_dash_s_d_t: 1時間当たりの浴室シャワー水栓における節湯補正給湯量 (L/d)\n",
    "    :type W_dash_s_d_t: ndarray\n",
    "    :param W_dash_w_d_t: 1時間当たりの洗面水栓における節湯補正給湯量 (L/d)\n",
    "    :type W_dash_w_d_t: ndarray\n",
    "    :param W_dash_b1_d_t: 1時間当たりの浴槽水栓湯はり時における節湯補正給湯量 (L/d)\n",
    "    :type W_dash_b1_d_t: ndarray\n",
    "    :param W_dash_b2_d_t: 1時間当たりの浴槽追焚時における節湯補正給湯量 (L/d)\n",
    "    :type W_dash_b2_d_t: ndarray\n",
    "    :param W_dash_ba1_d_t: 1時間当たりの浴槽水栓さし湯時における節湯補正給湯量 (L/d)\n",
    "    :type W_dash_ba1_d_t: ndarray\n",
    "    :param Theta_ex_Ave_d: 日平均外気温度 (℃)\n",
    "    :type Theta_ex_Ave_d: ndarray\n",
    "    :param L_dashdash_ba2_d_t: 1時間当たりの浴槽追焚時における太陽熱補正給湯熱負荷 (MJ/d)\n",
    "    :type L_dashdash_ba2_d_t: ndarray\n",
    "    :return: 1日当たりの給湯機の消費電力量 (kWh/d)\n",
    "    :rtype: ndarray\n",
    "    \"\"\"\n",
    "    return gas.calc_E_E_hs_d_t(\n",
    "        W_dash_k_d_t=W_dash_k_d_t,\n",
    "        W_dash_s_d_t=W_dash_s_d_t,\n",
    "        W_dash_w_d_t=W_dash_w_d_t,\n",
    "        W_dash_b1_d_t=W_dash_b1_d_t,\n",
    "        W_dash_b2_d_t=W_dash_b2_d_t,\n",
    "        W_dash_ba1_d_t=W_dash_ba1_d_t,\n",
    "        Theta_ex_Ave_d=Theta_ex_Ave_d,\n",
    "        L_dashdash_ba2_d_t=L_dashdash_ba2_d_t\n",
    "    )\n",
    "\n",
    "\n",
    "def get_E_G_hs(Theta_ex_Ave, L_dashdash_k, L_dashdash_s, L_dashdash_w, L_dashdash_b1, L_dashdash_b2,\n",
    "               L_dashdash_ba1, L_dashdash_ba2, bath_function):\n",
    "    \"\"\"　1時間当たりの給湯機のガス消費量\n",
    "\n",
    "    :param Theta_ex_Ave: 日平均外気温度 (℃)\n",
    "    :type Theta_ex_Ave: ndarray\n",
    "    :param L_dashdash_k: 1時間当たりの台所水栓における節湯補正給湯熱負荷 (MJ/d)\n",
    "    :type L_dashdash_k: ndarray\n",
    "    :param L_dashdash_s: 1時間当たりの浴室シャワー水栓における節湯補正給湯熱負荷 (MJ/d)\n",
    "    :type L_dashdash_s: ndarray\n",
    "    :param L_dashdash_w: 1時間当たりの洗面水栓における節湯補正給湯熱負荷 (MJ/d)\n",
    "    :type L_dashdash_w: ndarray\n",
    "    :param L_dashdash_b1: 1時間当たりの浴槽水栓湯はり時における節湯補正給湯熱負荷 (MJ/d)\n",
    "    :type L_dashdash_b1: ndarray\n",
    "    :param L_dashdash_b2: 1時間当たりの浴槽追焚時における節湯補正給湯熱負荷 (MJ/d)\n",
    "    :type L_dashdash_b2: ndarray\n",
    "    :param L_dashdash_ba1: 1時間当たりの浴槽水栓さし湯時における節湯補正給湯熱負荷 (MJ/d)\n",
    "    :type L_dashdash_ba1: ndarray\n",
    "    :param L_dashdash_ba2: 1時間当たりの浴槽追焚時における節湯補正給湯熱負荷 (MJ/d)\n",
    "    :type L_dashdash_ba2: ndarray\n",
    "    :param bath_function: ふろ機能の種類\n",
    "    :type bath_function: str\n",
    "    :return: 1時間当たりの給湯機のガス消費量 (MJ/d)\n",
    "    :rtype: ndarray\n",
    "    \"\"\"\n",
    "    return gas.calc_E_G_hs_d_t(\n",
    "        hw_type=None,\n",
    "        Theta_ex_Ave_d=Theta_ex_Ave,\n",
    "        L_dashdash_k_d_t=L_dashdash_k,\n",
    "        L_dashdash_s_d_t=L_dashdash_s,\n",
    "        L_dashdash_w_d_t=L_dashdash_w,\n",
    "        L_dashdash_b1_d_t=L_dashdash_b1,\n",
    "        L_dashdash_b2_d_t=L_dashdash_b2,\n",
    "        L_dashdash_ba1_d_t=L_dashdash_ba1,\n",
    "        L_dashdash_ba2_d_t=L_dashdash_ba2,\n",
    "        bath_function=bath_function,\n",
    "        e_rtd=0.866\n",
    "    )\n",
    "\n",
    "\n",
    "def get_E_K_hs():\n",
    "    \"\"\" 1日当たりの給湯機の灯油消費量\n",
    "\n",
    "    :return: 1日当たりの給湯機の灯油消費量\n",
    "    :rtype: ndarray\n",
    "    \"\"\"\n",
    "    # 1日当たりの給湯機の灯油消費量は0とする\n",
    "    return gas.get_E_K_hs_d_t()"
   ]
  }
 ],
 "metadata": {
  "kernelspec": {
   "display_name": "Python 3",
   "language": "python",
   "name": "python3"
  },
  "language_info": {
   "codemirror_mode": {
    "name": "ipython",
    "version": 3
   },
   "file_extension": ".py",
   "mimetype": "text/x-python",
   "name": "python",
   "nbconvert_exporter": "python",
   "pygments_lexer": "ipython3",
   "version": "3.8.5"
  }
 },
 "nbformat": 4,
 "nbformat_minor": 2
}
