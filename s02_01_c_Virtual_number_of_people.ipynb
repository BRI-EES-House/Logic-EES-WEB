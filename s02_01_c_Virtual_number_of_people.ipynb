{
 "cells": [
  {
   "cell_type": "markdown",
   "metadata": {},
   "source": [
    "# 付録 C 仮想居住人数 / Appendix C Virtual number of people"
   ]
  },
  {
   "cell_type": "markdown",
   "metadata": {},
   "source": [
    "$$\n",
    "\\large\n",
    "n_{p} = \\left\\{\n",
    "\\begin{array}{ll}\n",
    "1.0 & (A_A < 30)\\\\\n",
    "A_A \\div 30 & (30 \\leq A_A < 120)\\\\\n",
    "4.0 & (120 \\leq A_A)\n",
    "\\end{array}\n",
    "\\right.\n",
    "$$"
   ]
  },
  {
   "cell_type": "code",
   "execution_count": null,
   "metadata": {},
   "outputs": [],
   "source": [
    "def get_n_p(A_A):\n",
    "    if A_A < 30:\n",
    "        return 1.0\n",
    "    elif A_A < 120:\n",
    "        return A_A / 30\n",
    "    else:\n",
    "        return 4.0"
   ]
  },
  {
   "cell_type": "markdown",
   "metadata": {},
   "source": [
    "$n_{p}$：仮想居住人数 / Virtual number of people  \n",
    "$A_A$：床面積の合計(m<sup>2</sup>) / Total floor area  "
   ]
  }
 ],
 "metadata": {
  "kernelspec": {
   "display_name": "Python 3",
   "language": "python",
   "name": "python3"
  },
  "language_info": {
   "codemirror_mode": {
    "name": "ipython",
    "version": 3
   },
   "file_extension": ".py",
   "mimetype": "text/x-python",
   "name": "python",
   "nbconvert_exporter": "python",
   "pygments_lexer": "ipython3",
   "version": "3.8.5"
  }
 },
 "nbformat": 4,
 "nbformat_minor": 2
}
