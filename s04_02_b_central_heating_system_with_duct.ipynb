{
 "cells": [
  {
   "cell_type": "markdown",
   "metadata": {},
   "source": [
    "## 付録 B 機器の性能を表す仕様の決定方法"
   ]
  },
  {
   "cell_type": "markdown",
   "metadata": {},
   "source": [
    "### B.1 記号及び単位"
   ]
  },
  {
   "cell_type": "markdown",
   "metadata": {},
   "source": [
    "省略"
   ]
  },
  {
   "cell_type": "markdown",
   "metadata": {},
   "source": [
    "### B.2 熱源機"
   ]
  },
  {
   "cell_type": "markdown",
   "metadata": {},
   "source": [
    "#### B.2.1 定格能力および定格消費電力"
   ]
  },
  {
   "cell_type": "markdown",
   "metadata": {},
   "source": [
    "$$\\large\n",
    "q_{hs,rtd,H}=q_{rq,H}\\times A_{A} \\times f_{CT} \\times f_{CL} \n",
    "$$"
   ]
  },
  {
   "cell_type": "markdown",
   "metadata": {},
   "source": [
    "$$\\large\n",
    "q_{hs,rtd,C}=q_{rq,C}\\times A_{A} \\times f_{CT} \\times f_{CL} \n",
    "$$"
   ]
  },
  {
   "cell_type": "markdown",
   "metadata": {},
   "source": [
    "$A_{A}$：床面積の合計($m^2$)  \n",
    "$f_{CT}$：外気温度能力補正係数(-)  \n",
    "$f_{CL}$：間歇運転能力補正係数(-)  \n",
    "$q_{hs,rtd,H}$：熱源機の定格暖房能力(W)  \n",
    "$q_{hs,rtd,C}$：熱源機の定格冷房能力(W)  \n",
    "$q_{rq,H}$：単位面積当たりの必要暖房能力(W/$m^2$)  \n",
    "$q_{rq,C}$：単位面積当たりの必要冷房能力(W/$m^2$)  \n"
   ]
  },
  {
   "cell_type": "code",
   "execution_count": null,
   "metadata": {},
   "outputs": [],
   "source": [
    "# 定格暖房能力[W]  (1)\n",
    "def get_q_hs_rtd_H(region, A_A):\n",
    "    q_rq_H = get_q_rq_H(region)\n",
    "    f_CT = get_f_CT()\n",
    "    f_CL = get_f_CL()\n",
    "\n",
    "    return q_rq_H * A_A * f_CT * f_CL  # (1)\n",
    "\n",
    "    return C_pl_H * C_DL\n",
    "\n",
    "# 定格冷房能力[W]  (2)\n",
    "def get_q_hs_rtd_C(region, A_A):\n",
    "    q_rq_C = get_q_rq_C(region)\n",
    "    f_CT = get_f_CT()\n",
    "    f_CL = get_f_CL()\n",
    "\n",
    "    return q_rq_C * A_A * f_CT * f_CL  # (2)\n",
    "\n",
    "\n",
    "# 単位面積当たりの必要暖房能力\n",
    "def get_q_rq_H(region):\n",
    "    return get_table_1()[0][region - 1]\n",
    "\n",
    "\n",
    "# 単位面積当たりの必要冷房能力\n",
    "def get_q_rq_C(region):\n",
    "    return get_table_1()[1][region - 1]"
   ]
  },
  {
   "cell_type": "markdown",
   "metadata": {},
   "source": [
    "外気温度能力補正係数$f_{CT}$は、1.05の値とする。間歇運転能力補正係数$f_{CL}$は、1.0とする。"
   ]
  },
  {
   "cell_type": "code",
   "execution_count": null,
   "metadata": {},
   "outputs": [],
   "source": [
    "# 外気温度能力補正係数\n",
    "def get_f_CT():\n",
    "    return 1.05\n",
    "\n",
    "\n",
    "# 間歇運転能力補正係数\n",
    "def get_f_CL():\n",
    "    return 1.0"
   ]
  },
  {
   "cell_type": "markdown",
   "metadata": {},
   "source": [
    "<div style=\"text-align: center;font-weight: bold;\">表　単位面積当たりの必要暖房能力$q_{rq,H}$及び冷房能力$q_{rq,C}$（W/m2\n",
    "）</div>\n",
    "\n",
    "<table>\n",
    "<thead>\n",
    "<tr>\n",
    "<th rowspan=\"2\">&nbsp;　　　　</th>\n",
    "<th colspan=\"8\">地域の区分 </th>\n",
    "</tr>\n",
    "<tr><th>1</th><th>2</th><th>3</th><th>4</th><th>5</th><th>6</th><th>7</th><th>8</th></tr>\n",
    "</thead>\n",
    "<tbody>\n",
    "<tr><th>$q_{rq,H}$</th><td>73.91</td><td>64.32</td><td>62.65</td><td>66.99</td><td>72.64</td><td>61.34</td><td>64.55</td><td>－</td></tr>\n",
    "<tr><th>$q_{rq,C}$</th><td>37.61</td><td>36.55</td><td>42.34</td><td>54.08</td><td>61.69</td><td>60.79</td><td>72.53</td><td>61.56</td></tr>\n",
    "</tbody>\n",
    "</table>\n"
   ]
  },
  {
   "cell_type": "code",
   "execution_count": null,
   "metadata": {},
   "outputs": [],
   "source": [
    "# 表1 単位面積当たりの必要暖房能力及び冷房能力（W/m2)\n",
    "def get_table_1():\n",
    "    table_1 = [\n",
    "    (73.91, 64.32, 62.65, 66.99, 72.64, 61.34, 64.55, 00.00),\n",
    "    (37.61, 36.55, 42.34, 54.08, 61.69, 60.79, 72.53, 61.56)\n",
    "        ]\n",
    "    \n",
    "    return table_1\n"
   ]
  },
  {
   "cell_type": "markdown",
   "metadata": {},
   "source": [
    "$$\\large\n",
    "P_{hs,rtd,H}=\\frac{q_{hs,rtd,H}}{e_{rtd,H}} \n",
    "$$"
   ]
  },
  {
   "cell_type": "markdown",
   "metadata": {},
   "source": [
    "$$\\large\n",
    "P_{hs,rtd,C}=\\frac{q_{hs,rtd,C}}{e_{rtd,C}} \n",
    "$$"
   ]
  },
  {
   "cell_type": "markdown",
   "metadata": {},
   "source": [
    "$P_{hs,rtd,H}$：熱源機の定格暖房消費電力(W)  \n",
    "$P_{hs,rtd,C}$：熱源機の定格冷房消費電力(W)  \n",
    "$q_{hs,rtd,H}$：熱源機の定格暖房能力(W)  \n",
    "$q_{hs,rtd,C}$：熱源機の定格冷房能力(W)  \n",
    "$e_{rtd,H}$：定格暖房エネルギー消費効率(-)  \n",
    "$e_{rtd,C}$：定格冷房エネルギー消費効率(-)  \n"
   ]
  },
  {
   "cell_type": "code",
   "execution_count": null,
   "metadata": {},
   "outputs": [],
   "source": [
    "# 定格暖房消費電力 [W] (3)\n",
    "def get_P_hs_rtd_H(q_rtd_H):\n",
    "    \"\"\"\n",
    "    :param q_rtd_H: 定格暖房能力 [W]\n",
    "    :return: 定格暖房消費電力 [W]\n",
    "    \"\"\"\n",
    "    e_rtd_H = get_e_rtd_H()\n",
    "    return q_rtd_H / e_rtd_H  # (3)\n",
    "\n",
    "\n",
    "# 定格冷房消費電力 [W] (4)\n",
    "def get_P_hs_rtd_C(q_rtd_C):\n",
    "    \"\"\"\n",
    "    :param q_rtd_C: 定格冷房能力 [W]\n",
    "    :return: 定格冷房消費電力 [W]\n",
    "    \"\"\"\n",
    "    e_rtd_C = get_e_rtd_C()\n",
    "    return q_rtd_C / e_rtd_C  # (4)"
   ]
  },
  {
   "cell_type": "markdown",
   "metadata": {},
   "source": [
    "定格暖房エネルギー消費効率$e_{rtd,H}$は3.76、定格冷房エネルギー消費効率$e_{rtd,C}$は3.17とする。\n"
   ]
  },
  {
   "cell_type": "code",
   "execution_count": null,
   "metadata": {},
   "outputs": [],
   "source": [
    "# 定格暖房エネルギー消費効率\n",
    "def get_e_rtd_H():\n",
    "    return 3.76\n",
    "\n",
    "\n",
    "# 定格冷房エネルギー消費効率\n",
    "def get_e_rtd_C():\n",
    "    return 3.17"
   ]
  },
  {
   "cell_type": "markdown",
   "metadata": {},
   "source": [
    "#### B.2.2 中間能力および中間消費電力"
   ]
  },
  {
   "cell_type": "markdown",
   "metadata": {},
   "source": [
    "$$\\large\n",
    "q_{hs,mid,H}=q_{hs,rtd,H}\\times 0.5\n",
    "$$"
   ]
  },
  {
   "cell_type": "markdown",
   "metadata": {},
   "source": [
    "$$\\large\n",
    "q_{hs,mid,C}=q_{hs,rtd,C}\\times 0.5\n",
    "$$"
   ]
  },
  {
   "cell_type": "markdown",
   "metadata": {},
   "source": [
    "$q_{hs,mid,C}$：熱源機の中間冷房能力(W)  \n",
    "$q_{hs,mid,H}$：熱源機の中間暖房能力(W)  \n",
    "$q_{hs,rtd,C}$：熱源機の定格冷房能力(W)  \n",
    "$q_{hs,rtd,H}$：熱源機の定格暖房能力(W)  \n"
   ]
  },
  {
   "cell_type": "code",
   "execution_count": null,
   "metadata": {},
   "outputs": [],
   "source": [
    "def get_q_hs_mid_H(q_hs_rtd_H):\n",
    "    \"\"\"(5)\n",
    "\n",
    "    :param q_hs_rtd_H:熱源機の定格暖房能力（W）\n",
    "    :return:熱源機の中間暖房能力（W）\n",
    "    \"\"\"\n",
    "    return q_hs_rtd_H * 0.5\n",
    "\n",
    "\n",
    "def get_q_hs_mid_C(q_hs_rtd_C):\n",
    "    \"\"\"(6)\n",
    "\n",
    "    :param q_hs_rtd_C:熱源機の定格冷房能力（W）\n",
    "    :return:熱源機の中間冷房能力（W）\n",
    "    \"\"\"\n",
    "    return q_hs_rtd_C * 0.5"
   ]
  },
  {
   "cell_type": "markdown",
   "metadata": {},
   "source": [
    "#### B.2.3 最小能力"
   ]
  },
  {
   "cell_type": "markdown",
   "metadata": {},
   "source": [
    "$$\\large\n",
    "q_{hs,min,H}=q_{hs,rtd,H}\\times 0.35\n",
    "$$"
   ]
  },
  {
   "cell_type": "markdown",
   "metadata": {},
   "source": [
    "$$\\large\n",
    "q_{hs,min,C}=q_{hs,rtd,C}\\times 0.35\n",
    "$$"
   ]
  },
  {
   "cell_type": "markdown",
   "metadata": {},
   "source": [
    "$q_{hs,min,C}$：熱源機の最小冷房能力(W)  \n",
    "$q_{hs,min,H}$：熱源機の最小暖房能力(W)  \n",
    "$q_{hs,rtd,C}$：熱源機の定格冷房能力(W)  \n",
    "$q_{hs,rtd,H}$：熱源機の定格暖房能力(W)  \n"
   ]
  },
  {
   "cell_type": "code",
   "execution_count": null,
   "metadata": {},
   "outputs": [],
   "source": [
    "def get_q_hs_min_H(q_hs_rtd_H):\n",
    "    \"\"\"(7)\n",
    "\n",
    "    :param q_hs_rtd_H:熱源機の定格暖房能力（W）\n",
    "    :return:熱源機の最小暖房能力（W）\n",
    "    \"\"\"\n",
    "    return q_hs_rtd_H * 0.35\n",
    "\n",
    "\n",
    "def get_q_hs_min_C(q_hs_rtd_C):\n",
    "    \"\"\"(8)\n",
    "\n",
    "    :param q_hs_rtd_C:熱源機の定格冷房能力（W）\n",
    "    :return:熱源機の最小冷房能力（W）\n",
    "    \"\"\"\n",
    "    return q_hs_rtd_C * 0.35"
   ]
  },
  {
   "cell_type": "markdown",
   "metadata": {},
   "source": [
    "### B.3 送風機"
   ]
  },
  {
   "cell_type": "markdown",
   "metadata": {},
   "source": [
    "#### B.3.1 定格能力運転時の風量および消費電力"
   ]
  },
  {
   "cell_type": "markdown",
   "metadata": {},
   "source": [
    "$$\\large\n",
    "V_{fan,rtd,H}=(1.69\\times q_{hs,rtd,H} \\times 10^{-3}+14.5) \\times 60\n",
    "$$"
   ]
  },
  {
   "cell_type": "markdown",
   "metadata": {},
   "source": [
    "$$\\large\n",
    "P_{fan,rtd,H}=8.0\\times\\frac{V_{fan,rtd,H}}{60}+20.7\n",
    "$$"
   ]
  },
  {
   "cell_type": "markdown",
   "metadata": {},
   "source": [
    "$$\\large\n",
    "V_{fan,rtd,C}=(1.69\\times q_{hs,rtd,C} \\times 10^{-3}+14.5) \\times 60\n",
    "$$"
   ]
  },
  {
   "cell_type": "markdown",
   "metadata": {},
   "source": [
    "$$\\large\n",
    "P_{fan,rtd,C}=8.0\\times\\frac{V_{fan,rtd,C}}{60}+20.7\n",
    "$$"
   ]
  },
  {
   "cell_type": "markdown",
   "metadata": {},
   "source": [
    "$P_{fan,rtd,C}$：定格冷房能力運転時の送風機の消費電力(W)  \n",
    "$P_{fan,rtd,H}$：定格暖房能力運転時の送風機の消費電力(W)  \n",
    "$q_{hs,rtd,C}$：熱源機の定格冷房能力(W)  \n",
    "$q_{hs,rtd,H}$：熱源機の定格暖房能力(W)  \n",
    "$V_{fan,rtd,C}$：定格冷房能力運転時の送風機の風量($m^3$/h)  \n",
    "$V_{fan,rtd,H}$：定格暖房能力運転時の送風機の風量($m^3$/h)  \n"
   ]
  },
  {
   "cell_type": "code",
   "execution_count": null,
   "metadata": {},
   "outputs": [],
   "source": [
    "def get_V_fan_rtd_H(q_hs_rtd_H):\n",
    "    \"\"\"(9)\n",
    "\n",
    "    :param q_hs_rtd_H: 熱源機の定格暖房能力（W）\n",
    "    :return:定格暖房能力運転時の送風機の風量（m3/h）\n",
    "    \"\"\"\n",
    "    return (1.69 * q_hs_rtd_H * 10 ** (-3) + 14.5) * 60\n",
    "\n",
    "\n",
    "def get_P_fan_rtd_H(V_fan_rtd_H):\n",
    "    \"\"\"(10)\n",
    "\n",
    "    :param V_fan_rtd_H: 定格暖房能力運転時の送風機の風量（m3/h）\n",
    "    :return:定格暖房能力運転時の送風機の消費電力（W）\n",
    "    \"\"\"\n",
    "    return 8.0 * (V_fan_rtd_H / 60) + 20.7\n",
    "\n",
    "\n",
    "def get_V_fan_rtd_C(q_hs_rtd_C):\n",
    "    \"\"\"(11)\n",
    "\n",
    "    :param q_hs_rdt_C: 熱源機の定格冷房能力（W）\n",
    "    :return:定格冷房能力運転時の送風機の風量（m3/h）\n",
    "    \"\"\"\n",
    "    return (1.69 * q_hs_rtd_C * 10 ** (-3) + 14.5) * 60\n",
    "\n",
    "\n",
    "def get_P_fan_rtd_C(V_fan_rtd_C):\n",
    "    \"\"\"(12)\n",
    "\n",
    "    :param V_fan_rtd_C: 定格冷房能力運転時の送風機の風量（m3/h）\n",
    "    :return:定格冷房能力運転時の送風機の消費電力（W）\n",
    "    \"\"\"\n",
    "    return 8.0 * (V_fan_rtd_C / 60) + 20.7"
   ]
  },
  {
   "cell_type": "markdown",
   "metadata": {},
   "source": [
    "#### B.3.2 中間能力運転時の風量および消費電力"
   ]
  },
  {
   "cell_type": "markdown",
   "metadata": {},
   "source": [
    "$$\\large\n",
    "V_{fan,mid,H}=(1.69\\times q_{hs,mid,H} \\times 10^{-3}+14.5) \\times 60\n",
    "$$"
   ]
  },
  {
   "cell_type": "markdown",
   "metadata": {},
   "source": [
    "$$\\large\n",
    "P_{fan,mid,H}=8.0\\times\\frac{V_{fan,mid,H}}{60}+20.7\n",
    "$$"
   ]
  },
  {
   "cell_type": "markdown",
   "metadata": {},
   "source": [
    "$$\\large\n",
    "V_{fan,mid,C}=(1.69\\times q_{hs,mid,C} \\times 10^{-3}+14.5) \\times 60\n",
    "$$"
   ]
  },
  {
   "cell_type": "markdown",
   "metadata": {},
   "source": [
    "$$\\large\n",
    "P_{fan,mid,C}=8.0\\times\\frac{V_{fan,mid,C}}{60}+20.7\n",
    "$$"
   ]
  },
  {
   "cell_type": "markdown",
   "metadata": {},
   "source": [
    "$P_{fan,mid,C}$：中間冷房能力運転時の送風機の消費電力(W)  \n",
    "$P_{fan,mid,H}$：中間暖房能力運転時の送風機の消費電力(W)  \n",
    "$q_{hs,mid,C}$：熱源機の中間冷房能力(W)  \n",
    "$q_{hs,mid,H}$：熱源機の中間暖房能力(W)  \n",
    "$V_{fan,mid,C}$：中間冷房能力運転時の送風機の風量($m^3$/h)  \n",
    "$V_{fan,mid,H}$：中間暖房能力運転時の送風機の風量($m^3$/h)  \n"
   ]
  },
  {
   "cell_type": "code",
   "execution_count": null,
   "metadata": {},
   "outputs": [],
   "source": [
    "def get_V_fan_mid_H(q_hs_mid_H):\n",
    "    \"\"\"(13)\n",
    "\n",
    "    :param q_hs_rdt_H: 熱源機の中間暖房能力（W）\n",
    "    :return:中間暖房能力運転時の送風機の風量（m3/h）\n",
    "    \"\"\"\n",
    "    return (1.69 * q_hs_mid_H * 10 ** (-3) + 14.5) * 60\n",
    "\n",
    "\n",
    "def get_P_fan_mid_H(V_fan_mid_H):\n",
    "    \"\"\"(14)\n",
    "\n",
    "    :param V_fan_rtd_H: 中間暖房能力運転時の送風機の風量（m3/h）\n",
    "    :return:中間暖房能力運転時の送風機の消費電力（W）\n",
    "    \"\"\"\n",
    "    return 8.0 * (V_fan_mid_H / 60) + 20.7\n",
    "\n",
    "\n",
    "def get_V_fan_mid_C(q_hs_mid_C):\n",
    "    \"\"\"(15)\n",
    "\n",
    "    :param q_hs_rdt_C: 熱源機の中間冷房能力（W）\n",
    "    :return: 中間冷房能力運転時の送風機の風量（m3/h）\n",
    "    \"\"\"\n",
    "    return (1.69 * q_hs_mid_C * 10 ** (-3) + 14.5) * 60\n",
    "\n",
    "\n",
    "def get_P_fan_mid_C(V_fan_mid_C):\n",
    "    \"\"\"(16)\n",
    "\n",
    "    :param V_fan_mid_C: 中間冷房能力運転時の送風機の風量（m3/h）\n",
    "    :return: 中間冷房能力運転時の送風機の消費電力（W）\n",
    "    \"\"\"\n",
    "    return 8.0 * (V_fan_mid_C / 60) + 20.7"
   ]
  },
  {
   "cell_type": "markdown",
   "metadata": {},
   "source": [
    "#### B.3.3 設計風量"
   ]
  },
  {
   "cell_type": "markdown",
   "metadata": {},
   "source": [
    "$$\\large\n",
    "V_{fan,dsgn,H}=V_{fan,rtd,H} \\times 0.79\n",
    "$$"
   ]
  },
  {
   "cell_type": "markdown",
   "metadata": {},
   "source": [
    "$$\\large\n",
    "V_{fan,dsgn,C}=V_{fan,rtd,C} \\times 0.79\n",
    "$$"
   ]
  },
  {
   "cell_type": "markdown",
   "metadata": {},
   "source": [
    "$V_{fan,dsgn,C}$：冷房時の送風機の設計風量($m^3$/h)  \n",
    "$V_{fan,dsgn,H}$：暖房時の送風機の設計風量($m^3$/h)  \n",
    "$V_{fan,rtd,C}$：定格冷房能力運転時の送風機の風量($m^3$/h)  \n",
    "$V_{fan,rtd,H}$：定格暖房能力運転時の送風機の風量($m^3$/h)  \n"
   ]
  },
  {
   "cell_type": "code",
   "execution_count": null,
   "metadata": {},
   "outputs": [],
   "source": [
    "def get_V_fan_dsgn_H(V_fan_rtd_H):\n",
    "    \"\"\"(17)\n",
    "\n",
    "    :param V_fan_rtd_H: 定格暖房能力運転時の送風機の風量（m3/h）\n",
    "    :return: 暖房時の送風機の設計風量（m3/h）\n",
    "    \"\"\"\n",
    "    return V_fan_rtd_H * 0.79\n",
    "\n",
    "\n",
    "def get_V_fan_dsgn_C(V_fan_rtd_C):\n",
    "    \"\"\"(18)\n",
    "\n",
    "    :param V_fan_rtd_C: 定格冷房能力運転時の送風機の風量（m3/h）\n",
    "    :return: 冷房時の送風機の設計風量（m3/h）\n",
    "    \"\"\"\n",
    "    return V_fan_rtd_C * 0.79"
   ]
  },
  {
   "cell_type": "markdown",
   "metadata": {},
   "source": [
    "#### B.4 複数のダクト式セントラル空調機が設置される場合の仕様の決定方法"
   ]
  },
  {
   "cell_type": "markdown",
   "metadata": {},
   "source": [
    "省略"
   ]
  }
 ],
 "metadata": {
  "kernelspec": {
   "display_name": "Python 3",
   "language": "python",
   "name": "python3"
  },
  "language_info": {
   "codemirror_mode": {
    "name": "ipython",
    "version": 3
   },
   "file_extension": ".py",
   "mimetype": "text/x-python",
   "name": "python",
   "nbconvert_exporter": "python",
   "pygments_lexer": "ipython3",
   "version": "3.8.5"
  }
 },
 "nbformat": 4,
 "nbformat_minor": 2
}
