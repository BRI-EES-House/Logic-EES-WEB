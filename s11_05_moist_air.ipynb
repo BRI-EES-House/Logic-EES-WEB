{
 "cells": [
  {
   "cell_type": "markdown",
   "metadata": {},
   "source": [
    "## 第五節　湿り空気"
   ]
  },
  {
   "cell_type": "markdown",
   "metadata": {},
   "source": [
    "1．適用範囲～4. 記号及び単位は省略"
   ]
  },
  {
   "cell_type": "markdown",
   "metadata": {},
   "source": [
    "### 5. 相対湿度"
   ]
  },
  {
   "cell_type": "markdown",
   "metadata": {},
   "source": [
    "$$\\large\n",
    "h = \\frac{P_{v}}{P_{vs}}\\times 100\n",
    "$$"
   ]
  },
  {
   "cell_type": "markdown",
   "metadata": {},
   "source": [
    "$h$：相対湿度(%)  \n",
    "$P_{v}$：水蒸気圧(Pa)    \n",
    "$P_{vs}$：飽和水蒸気圧(Pa)"
   ]
  },
  {
   "cell_type": "markdown",
   "metadata": {},
   "source": [
    "### 6. 絶対湿度"
   ]
  },
  {
   "cell_type": "markdown",
   "metadata": {},
   "source": [
    "$$\\large\n",
    "X = 0.622 \\times \\frac{P_{v}}{F-P_{vs}}\n",
    "$$"
   ]
  },
  {
   "cell_type": "markdown",
   "metadata": {},
   "source": [
    "$F$：大気圧(Pa)  \n",
    "$X$：絶対湿度(kg/kg(DA))  \n",
    "$P_{v}$：水蒸気圧(Pa)    \n",
    "$P_{vs}$：飽和水蒸気圧(Pa)"
   ]
  },
  {
   "cell_type": "markdown",
   "metadata": {},
   "source": [
    "$$\\large\n",
    "X_{s} = 0.622 \\times \\frac{P_{vs}}{F-P_{vs}}\n",
    "$$"
   ]
  },
  {
   "cell_type": "markdown",
   "metadata": {},
   "source": [
    "$F$：大気圧(Pa)  \n",
    "$X_{s}$：飽和空気の絶対湿度(kg/kg(DA))  \n",
    "$P_{vs}$：飽和水蒸気圧(Pa)"
   ]
  },
  {
   "cell_type": "markdown",
   "metadata": {},
   "source": [
    "### 7. 水蒸気圧"
   ]
  },
  {
   "cell_type": "markdown",
   "metadata": {},
   "source": [
    "$$\\large\n",
    "P_{v} = F \\times \\frac{X}{(622+X)}\n",
    "$$"
   ]
  },
  {
   "cell_type": "markdown",
   "metadata": {},
   "source": [
    "$F$：大気圧(Pa)  \n",
    "$P_{v}$：水蒸気圧(Pa)    \n",
    "$X$：絶対湿度(kg/kg(DA))  "
   ]
  },
  {
   "cell_type": "markdown",
   "metadata": {},
   "source": [
    "### 8. 飽和水蒸気圧"
   ]
  },
  {
   "cell_type": "markdown",
   "metadata": {},
   "source": [
    "$$\\large\n",
    "P_{vs} = e^{k}\n",
    "$$"
   ]
  },
  {
   "cell_type": "markdown",
   "metadata": {},
   "source": [
    "$$\\large\n",
    "\\displaystyle\n",
    "k = \\left\\{ \\begin{array}{ll}\n",
    "    \\frac{a_{1}}{T}+a_{2}+a_{3}\\times T+a_{4}\\times T^{2}+a_{5}\\times log_{e}(T) & (\\theta > 0)\\\\\n",
    "    \\frac{b_{1}}{T}+b_{2}+b_{3}\\times T+b_{4}\\times T^{2}+b_{5}\\times log_{e}(T) & (\\theta \\leq 0)\\\\\n",
    "    \\end{array}\n",
    "\\right.\n",
    "$$"
   ]
  },
  {
   "cell_type": "markdown",
   "metadata": {},
   "source": [
    "$P_{vs}$：飽和水蒸気圧(Pa)  \n",
    "$T$：絶対温度(K)  \n",
    "$\\theta$：外気温度(℃)  "
   ]
  },
  {
   "cell_type": "markdown",
   "metadata": {},
   "source": [
    "<div style=\"text-align: center;font-weight: bold;\">表　式における係数の値<br>Table: Value of coefficient in formula</div>\n",
    "\n",
    "<table>\n",
    "    <thead>\n",
    "<tr><th>係数<br>coefficient</th><th>値<br>value</th></tr>\n",
    "    </thead>\n",
    "    <tbody>\n",
    "<tr><th>$a_{1}$</th><td>－6096.9385</td></tr>\n",
    "<tr><th>$a_{2}$</th><td>21.2409642</td></tr>\n",
    "<tr><th>$a_{3}$</th><td>－0.02711193</td></tr>\n",
    "<tr><th>$a_{4}$</th><td>0.00001673952</td></tr>\n",
    "<tr><th>$a_{5}$</th><td>2.433502</td></tr>\n",
    "<tr><th>$b_{1}$</th><td>－6024.5282</td></tr>\n",
    "<tr><th>$b_{2}$</th><td>29.32707</td></tr>\n",
    "<tr><th>$b_{3}$</th><td>0.010613863</td></tr>\n",
    "<tr><th>$b_{4}$</th><td>－0.000013198825</td></tr>\n",
    "<tr><th>$b_{5}$</th><td>－0.49382577</td></tr>\n",
    "    </tbody>\n",
    "</table>\n"
   ]
  },
  {
   "cell_type": "markdown",
   "metadata": {},
   "source": [
    "### 9. 絶対温度"
   ]
  },
  {
   "cell_type": "markdown",
   "metadata": {},
   "source": [
    "$$\\large\n",
    "T = \\theta+273.16\n",
    "$$"
   ]
  },
  {
   "cell_type": "markdown",
   "metadata": {},
   "source": [
    "$T$：絶対温度(K)  \n",
    "$\\theta$：外気温度(℃)  "
   ]
  },
  {
   "cell_type": "markdown",
   "metadata": {},
   "source": [
    "### 10. その他"
   ]
  },
  {
   "cell_type": "markdown",
   "metadata": {},
   "source": [
    "大気圧$F$は、101325 Pa とする。"
   ]
  }
 ],
 "metadata": {
  "kernelspec": {
   "display_name": "Python 3",
   "language": "python",
   "name": "python3"
  },
  "language_info": {
   "codemirror_mode": {
    "name": "ipython",
    "version": 3
   },
   "file_extension": ".py",
   "mimetype": "text/x-python",
   "name": "python",
   "nbconvert_exporter": "python",
   "pygments_lexer": "ipython3",
   "version": "3.8.5"
  }
 },
 "nbformat": 4,
 "nbformat_minor": 2
}
