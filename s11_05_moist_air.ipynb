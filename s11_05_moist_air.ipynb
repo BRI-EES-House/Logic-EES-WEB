{
 "cells": [
  {
   "cell_type": "markdown",
   "metadata": {},
   "source": [
    "使用許諾条件\n",
    "\n",
    "①\t設計一次エネルギー消費量算定法に基づく計算方法をPythonによりコーディングし、Jupyter notebook形式で保存したファイル（以下、本ファイルと呼ぶ）の著作権は、一般社団法人日本サステナブル建築協会に帰属します。\n",
    "Copyright©2019. 一般社団法人日本サステナブル建築協会\n",
    "All rights reserved. \n",
    "\n",
    "②\t本ファイルは、住戸の設計一次エネルギー消費量算定方法に係る「平成28年省エネルギー基準に準拠したエネルギー消費性能の評価に関する技術情報（住宅）2.1算定方法（第十一章第三節 生活スケジュール）」に示す計算方法に基づき、国土交通省国土技術政策総合研究所・国立研究開発法人建築研究所、株式会社ユーワークス、株式会社住環境計画研究所が作成したものです。\n",
    "\n",
    "③\t本ファイルは、計算方法に示す計算過程の確認及び調査研究等に活用することを目的として作成されたものであり、一般社団法人日本サステナブル建築協会は著作権について放棄はしませんが、使用する各人の自己責任において仕様を変更することを妨げるものではありません。ただし、本ファイルによる計算結果を住宅の省エネルギー基準で規定する設計一次エネルギー消費量の結果として公的な申請に用いることはできません。\n",
    "\n",
    "④\t本ファイルを変更するかしないかを問わず、以下の条件を満たす場合に限り、頒布および使用が許可されます。\n",
    "1.\t頒布物の付属ドキュメント等の資料に、上記の著作権表示、本条件一覧、および下記免責条項を含めること。\n",
    "2.\t書面による特別の許可なしに、本ファイルから派生した製品の宣伝または販売の促進に、一般社団法人日本サステナブル建築協会、国土技術政策総合研究所・国立研究開発法人建築研究所および株式会社ユーワークス、株式会社住環境計画研究所の名前またはコントリビューターの名前を使用してはならない。\n",
    "\n",
    "⑤\t本ファイルは、著作権者およびコントリビューターによって「現状のまま」提供されており、明示黙示を問わず、商業的な使用可能性、および特定の目的に対する適合性に関する暗黙の保証も含め、またそれに限定されない、いかなる保証もありません。著作権もコントリビューターも、事由のいかんを問わず、損害発生の原因いかんを問わず、かつ責任の根拠が契約であるか厳格責任であるか（過失その他の）不法行為であるかを問わず、仮にそのような損害が発生する可能性を知らされていたとしても、本ファイルの使用によって発生した（代用品または代用サービスの調達、使用の喪失、データの喪失、利益の喪失、業務の中断も含め、またそれに限定されない）直接損害、間接損害、偶発的な損害、特別損害、懲罰的損害、または結果損害について、一切の責任を負わないものとします。\n",
    "\n"
   ]
  },
  {
   "cell_type": "markdown",
   "metadata": {},
   "source": [
    "## 第五節　湿り空気"
   ]
  },
  {
   "cell_type": "markdown",
   "metadata": {},
   "source": [
    "1．適用範囲～4. 記号及び単位は省略"
   ]
  },
  {
   "cell_type": "markdown",
   "metadata": {},
   "source": [
    "### 5. 相対湿度"
   ]
  },
  {
   "cell_type": "markdown",
   "metadata": {},
   "source": [
    "$$\\large\n",
    "h = \\frac{P_{v}}{P_{vs}}\\times 100\n",
    "$$"
   ]
  },
  {
   "cell_type": "markdown",
   "metadata": {},
   "source": [
    "$h$：相対湿度(%)  \n",
    "$P_{v}$：水蒸気圧(Pa)    \n",
    "$P_{vs}$：飽和水蒸気圧(Pa)"
   ]
  },
  {
   "cell_type": "markdown",
   "metadata": {},
   "source": [
    "### 6. 絶対湿度"
   ]
  },
  {
   "cell_type": "markdown",
   "metadata": {},
   "source": [
    "$$\\large\n",
    "X = 0.622 \\times \\frac{P_{v}}{F-P_{vs}}\n",
    "$$"
   ]
  },
  {
   "cell_type": "markdown",
   "metadata": {},
   "source": [
    "$F$：大気圧(Pa)  \n",
    "$X$：絶対湿度(kg/kg(DA))  \n",
    "$P_{v}$：水蒸気圧(Pa)    \n",
    "$P_{vs}$：飽和水蒸気圧(Pa)"
   ]
  },
  {
   "cell_type": "markdown",
   "metadata": {},
   "source": [
    "$$\\large\n",
    "X_{s} = 0.622 \\times \\frac{P_{vs}}{F-P_{vs}}\n",
    "$$"
   ]
  },
  {
   "cell_type": "markdown",
   "metadata": {},
   "source": [
    "$F$：大気圧(Pa)  \n",
    "$X_{s}$：飽和空気の絶対湿度(kg/kg(DA))  \n",
    "$P_{vs}$：飽和水蒸気圧(Pa)"
   ]
  },
  {
   "cell_type": "markdown",
   "metadata": {},
   "source": [
    "### 7. 水蒸気圧"
   ]
  },
  {
   "cell_type": "markdown",
   "metadata": {},
   "source": [
    "$$\\large\n",
    "P_{v} = F \\times \\frac{X}{(622+X)}\n",
    "$$"
   ]
  },
  {
   "cell_type": "markdown",
   "metadata": {},
   "source": [
    "$F$：大気圧(Pa)  \n",
    "$P_{v}$：水蒸気圧(Pa)    \n",
    "$X$：絶対湿度(kg/kg(DA))  "
   ]
  },
  {
   "cell_type": "markdown",
   "metadata": {},
   "source": [
    "### 8. 飽和水蒸気圧"
   ]
  },
  {
   "cell_type": "markdown",
   "metadata": {},
   "source": [
    "$$\\large\n",
    "P_{vs} = e^{k}\n",
    "$$"
   ]
  },
  {
   "cell_type": "markdown",
   "metadata": {},
   "source": [
    "$$\\large\n",
    "\\displaystyle\n",
    "k = \\left\\{ \\begin{array}{ll}\n",
    "    \\frac{a_{1}}{T}+a_{2}+a_{3}\\times T+a_{4}\\times T^{2}+a_{5}\\times log_{e}(T) & (\\theta > 0)\\\\\n",
    "    \\frac{b_{1}}{T}+b_{2}+b_{3}\\times T+b_{4}\\times T^{2}+b_{5}\\times log_{e}(T) & (\\theta \\leq 0)\\\\\n",
    "    \\end{array}\n",
    "\\right.\n",
    "$$"
   ]
  },
  {
   "cell_type": "markdown",
   "metadata": {},
   "source": [
    "$P_{vs}$：飽和水蒸気圧(Pa)  \n",
    "$T$：絶対温度(K)  \n",
    "$\\theta$：外気温度(℃)  "
   ]
  },
  {
   "cell_type": "markdown",
   "metadata": {},
   "source": [
    "<div style=\"text-align: center;font-weight: bold;\">表　式における係数の値<br>Table: Value of coefficient in formula</div>\n",
    "\n",
    "<table>\n",
    "    <thead>\n",
    "<tr><th>係数<br>coefficient</th><th>値<br>value</th></tr>\n",
    "    </thead>\n",
    "    <tbody>\n",
    "<tr><th>$a_{1}$</th><td>－6096.9385</td></tr>\n",
    "<tr><th>$a_{2}$</th><td>21.2409642</td></tr>\n",
    "<tr><th>$a_{3}$</th><td>－0.02711193</td></tr>\n",
    "<tr><th>$a_{4}$</th><td>0.00001673952</td></tr>\n",
    "<tr><th>$a_{5}$</th><td>2.433502</td></tr>\n",
    "<tr><th>$b_{1}$</th><td>－6024.5282</td></tr>\n",
    "<tr><th>$b_{2}$</th><td>29.32707</td></tr>\n",
    "<tr><th>$b_{3}$</th><td>0.010613863</td></tr>\n",
    "<tr><th>$b_{4}$</th><td>－0.000013198825</td></tr>\n",
    "<tr><th>$b_{5}$</th><td>－0.49382577</td></tr>\n",
    "    </tbody>\n",
    "</table>\n"
   ]
  },
  {
   "cell_type": "markdown",
   "metadata": {},
   "source": [
    "### 9. 絶対温度"
   ]
  },
  {
   "cell_type": "markdown",
   "metadata": {},
   "source": [
    "$$\\large\n",
    "T = \\theta+273.16\n",
    "$$"
   ]
  },
  {
   "cell_type": "markdown",
   "metadata": {},
   "source": [
    "$T$：絶対温度(K)  \n",
    "$\\theta$：外気温度(℃)  "
   ]
  },
  {
   "cell_type": "markdown",
   "metadata": {},
   "source": [
    "### 10. その他"
   ]
  },
  {
   "cell_type": "markdown",
   "metadata": {},
   "source": [
    "大気圧$F$は、101325 Pa とする。"
   ]
  }
 ],
 "metadata": {
  "kernelspec": {
   "display_name": "Python 3",
   "language": "python",
   "name": "python3"
  },
  "language_info": {
   "codemirror_mode": {
    "name": "ipython",
    "version": 3
   },
   "file_extension": ".py",
   "mimetype": "text/x-python",
   "name": "python",
   "nbconvert_exporter": "python",
   "pygments_lexer": "ipython3",
   "version": "3.7.3"
  }
 },
 "nbformat": 4,
 "nbformat_minor": 2
}
