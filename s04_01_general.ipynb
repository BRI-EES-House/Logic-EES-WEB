{
 "cells": [
  {
   "cell_type": "markdown",
   "metadata": {},
   "source": [
    "# Chapter IV-I Heating and Cooling System - General / 暖冷房設備 - 全般"
   ]
  },
  {
   "cell_type": "markdown",
   "metadata": {},
   "source": [
    "## Heating System and Cooling System / 暖房方式及び冷房方式"
   ]
  },
  {
   "cell_type": "markdown",
   "metadata": {},
   "source": [
    "### 1. Heating System / 暖房方式"
   ]
  },
  {
   "cell_type": "markdown",
   "metadata": {},
   "source": [
    "The heating system is classified into two types, \"a system of continuously heating the entire house\" and \"a system of heating only the living room\".  \n",
    "In the case of \"a system of heating only the living room\", a heating facility equipment or a radiator is assumed for each of the \"main room\" and \"other room\". Depending on the assumed heating facility equipment etc., the operation method is determined as \"continuous operation\" or \"intermittent operation\" for each of the \"main room\" and \"other room\". \n",
    "Appendix A shows the heating system and the method of determining the driving method according to the type of heating equipment installed."
   ]
  },
  {
   "cell_type": "markdown",
   "metadata": {},
   "source": [
    "### 2. Cooling System / 冷房方式"
   ]
  },
  {
   "cell_type": "markdown",
   "metadata": {},
   "source": [
    "The cooling system is classified into two types, \"a system of continuously cooling the entire house\" and \"a system of cooling only the living room\".  \n",
    "In the case of \"a system of cooling only the living room\", a cooling facility equipment is assumed for each of the \"main room\" and \"other room\". The operation method is \"intermittent operation\" only. Appendix B shows the method of determining the cooling method according to the type of installed cooling equipment."
   ]
  },
  {
   "cell_type": "markdown",
   "metadata": {},
   "source": [
    "## Primary Energy Consumption and Processing Load of Heating Equipment and Untreated Load / 暖房設備の一次エネルギー消費量及び処理負荷と未処理負荷"
   ]
  },
  {
   "cell_type": "markdown",
   "metadata": {},
   "source": [
    "### 1. Processing Load and Untreated Load / 処理負荷及び未処理負荷"
   ]
  },
  {
   "cell_type": "markdown",
   "metadata": {},
   "source": [
    "#### 1.1. System of Continuously Heating the Entire House / 住戸全体を連続的に暖房する方式"
   ]
  },
  {
   "cell_type": "markdown",
   "metadata": {},
   "source": [
    "The hourly processing heat load $Q_{T,H,A}$ and the untreated heat load $Q_{UT,H,A}$ of the heating equipment in a system for continuously heating the entire house are calculated by the equations below."
   ]
  },
  {
   "cell_type": "markdown",
   "metadata": {},
   "source": [
    "$$\n",
    "\\large\n",
    "Q_{T,H,A} = min(Q_{max,H}, L_{H,A})\n",
    "$$\n",
    "\n",
    "$$\n",
    "\\large\n",
    "Q_{UT,H,A} = L_{H,A} - Q_{T,H,A}\n",
    "$$"
   ]
  },
  {
   "cell_type": "markdown",
   "metadata": {},
   "source": [
    "Where  \n",
    "$Q_{T,H,A}$ is the hourly processing heat load of heating equipment in a system that continuously heats the entire house. / 住戸全体を連続的に暖房する方式における1時間当たりの暖房設備の処理暖房負荷(MJ/h)  \n",
    "$Q_{UT,H,A}$ is the hourly untreated heat load of heating equipment in a system that continuously heats the entire house. / 住戸全体を連続的に暖房する方式における1時間当たりの暖房設備の未処理暖房負荷(MJ/h)  \n",
    "$Q_{max,H}$ is the hourly maximum heating output of heating equipment. / 1時間当たりの暖房設備機器の最大暖房出力(MJ/h)  \n",
    "$L_{H,A}$ is the total of hourly heating load in a system that continuously heats the entire house. / 住戸全体を連続的に暖房する方式における1時間当たりの暖房負荷の合計(MJ/h)  "
   ]
  },
  {
   "cell_type": "markdown",
   "metadata": {},
   "source": [
    "The heating facility referred to here is a duct type central air conditioner, and the hourly maximum heating output $Q_{max,H}$ of the heating facility equipment shall be the value calculated by the section 2, \"ducted central air conditioner\".  \n",
    "The total of hourly heating load in a system that continuously heats the entire house, which is expressed by the equation below. However, if $L_{H,A}$ is less than 0, it is set to 0."
   ]
  },
  {
   "cell_type": "markdown",
   "metadata": {},
   "source": [
    "$$\n",
    "\\large\n",
    "L_{H,A} = \\sum_{i=1～12}L_{H,i} \n",
    "$$"
   ]
  },
  {
   "cell_type": "markdown",
   "metadata": {},
   "source": [
    "Where  \n",
    "$L_{H,i}$ is the hourly heating load of heating and cooling compartment $i$. / 暖冷房区画$i$の1時間当たりの暖房負荷(MJ/h)  "
   ]
  },
  {
   "cell_type": "markdown",
   "metadata": {},
   "source": [
    "The hourly heating load $L_{H,i}$ of heating and cooling compartment $i$ shall be the value calculated from the chapter 3 section 1."
   ]
  },
  {
   "cell_type": "markdown",
   "metadata": {},
   "source": [
    "#### 1.2. System of Heating Only the Living Room / 居室のみを暖房する方式"
   ]
  },
  {
   "cell_type": "markdown",
   "metadata": {},
   "source": [
    "The hourly heating load $Q_{T,H,MR}$ of the heating facility installed in the main room and the hourly unprocessed heating load $Q_{UT,H,MR}$ of the heating facility installed in the main living room in a system of heating only the living room are calculated by the equations below."
   ]
  },
  {
   "cell_type": "markdown",
   "metadata": {},
   "source": [
    "$$\n",
    "\\large\n",
    "Q_{T,H,MR} = Q_{T,H,i}|_{i=1}\n",
    "$$\n",
    "\n",
    "$$\n",
    "\\large\n",
    "Q_{UT,H,MR} = Q_{UT,H,i}|_{i=1}\n",
    "$$"
   ]
  },
  {
   "cell_type": "markdown",
   "metadata": {},
   "source": [
    "Where  \n",
    "$Q_{T,H,MR}$ is the hourly processing heat load of heating equipment installed in the main room in a system of heating only the living room. / 居室のみを暖房する方式における1時間当たりの主たる居室に設置された暖房設備の処理暖房負荷(MJ/h)  \n",
    "$Q_{UT,H,MR}$ is the hourly untreated heat load of heating equipment installed in the main room in a system of heating only the living room. / 居室のみを暖房する方式における1時間当たりの主たる居室に設置された暖房設備の未処理暖房負荷(MJ/h)  \n",
    "$Q_{T,H,i}$ is the hourly processing heat load of heating equipment etc. installed in the heating / cooling compartment $i$. / 1時間当たりの暖冷房区画𝑖に設置された暖房設備機器等の処理暖房負荷(MJ/h)  \n",
    "$Q_{UT,H,i}$ is the hourly untreated heat load of heating equipment etc. installed in the heating / cooling compartment $i$. / 1時間当たりの暖冷房区画𝑖に設置された暖房設備機器等の未処理暖房負荷(MJ/h)  "
   ]
  },
  {
   "cell_type": "markdown",
   "metadata": {},
   "source": [
    "The hourly heating load $Q_{T,H,OR}$ of the heating facility installed in the other room and the hourly unheated heating load $Q_{UT,H,OR}$ of the heating facility installed in the other room are calculated by the equations below."
   ]
  },
  {
   "cell_type": "markdown",
   "metadata": {},
   "source": [
    "$$\n",
    "\\large\n",
    "Q_{T,H,OR} = \\sum_{i=2～5} Q_{T,H,i} \n",
    "$$\n",
    "\n",
    "$$\n",
    "\\large\n",
    "Q_{UT,H,OR} = \\sum_{i=2～5} Q_{UT,H,i} \n",
    "$$"
   ]
  },
  {
   "cell_type": "markdown",
   "metadata": {},
   "source": [
    "Where  \n",
    "$Q_{T,H,OR}$ is the hourly processing heat load of heating equipment installed in the other rooms in a system of heating only the living room. / 居室のみを暖房する方式における1時間当たりのその他の居室に設置された暖房設備の処理暖房負荷(MJ/h)  \n",
    "$Q_{UT,H,OR}$ is the hourly untreated heat load of heating equipment installed in the other rooms in a system of heating only the living room. / 居室のみを暖房する方式における1時間当たりのその他の居室に設置された暖房設備の未処理暖房負荷(MJ/h)  "
   ]
  },
  {
   "cell_type": "markdown",
   "metadata": {},
   "source": [
    "The hourly processing heat load $Q_{T,H,i}$ and unprocessed heating load $Q_{UT,H,i}$ of heating facility equipment etc. installed in heating / cooling compartment $i$ are calculated by the equations below."
   ]
  },
  {
   "cell_type": "markdown",
   "metadata": {},
   "source": [
    "$$\n",
    "\\large\n",
    "Q_{T,H,i} = min(Q_{max,H,i}, L_{H,i})\n",
    "$$\n",
    "\n",
    "$$\n",
    "\\large\n",
    "Q_{UT,H,i} = L_{H,i} - Q_{T,H,i}\n",
    "$$"
   ]
  },
  {
   "cell_type": "markdown",
   "metadata": {},
   "source": [
    "Where  \n",
    "$Q_{max,H,i}$ is the hourly maximum heating output of heating equipment installed in heating / cooling compartment $i$. / 1時間当たりの暖冷房区画$i$に設置された暖房設備機器等の最大暖房出力(MJ/h)  \n",
    "$L_{H,i}$ is the hourly heating load of heating and cooling compartment $i$. / 暖冷房区画$i$の1時間当たりの暖房負荷(MJ/h)  "
   ]
  },
  {
   "cell_type": "markdown",
   "metadata": {},
   "source": [
    "The maximum heating output $Q_{max,H,i}$ of the heating facility equipment etc. installed in the heating and cooling compartment $i$ is the hourly maximum heating output calculated by the method shown in Section 3 to 8 depending on the type of heating equipment to be installed.  \n",
    "The hourly heating load $L_{H,i}$ of heating and cooling compartment $i$ shall be the value calculated from the chapter 3, section 1. However, when $L_{H,i}$ is less than 0, it is 0."
   ]
  },
  {
   "cell_type": "markdown",
   "metadata": {},
   "source": [
    "### 2. Energy Consumption of Heating System / 暖房設備のエネルギー消費量"
   ]
  },
  {
   "cell_type": "markdown",
   "metadata": {},
   "source": [
    "#### 2.1. System of Continuously Heating the Entire House / 住戸全体を連続的に暖房する方式"
   ]
  },
  {
   "cell_type": "markdown",
   "metadata": {},
   "source": [
    "The hourly power consumption amount $E_{E,H}$, gas consumption amount $E_{G,H}$, kerosene consumption amount $E_{K,H}$ and other primary energy consumption amount $E_{M,H}$ of the heating facility are calculated by the equations below."
   ]
  },
  {
   "cell_type": "markdown",
   "metadata": {},
   "source": [
    "$$\n",
    "\\large\n",
    "E_{E,H} = E_{E,H,A}\n",
    "$$\n",
    "\n",
    "$$\n",
    "\\large\n",
    "E_{G,H} = E_{G,H,A}\n",
    "$$\n",
    "\n",
    "$$\n",
    "\\large\n",
    "E_{K,H} = E_{K,H,A}\n",
    "$$\n",
    "\n",
    "$$\n",
    "\\large\n",
    "E_{M,H} = E_{M,H,A}\n",
    "$$"
   ]
  },
  {
   "cell_type": "markdown",
   "metadata": {},
   "source": [
    "Where  \n",
    "$E_{E,H}$ is the hourly electric power of heating equipment. / 1時間当たりの暖房設備の消費電力量(kWh/h)  \n",
    "$E_{G,H}$ is the hourly gas consumption of heating equipment. / 1時間当たりの暖房設備のガス消費量(MJ/h)  \n",
    "$E_{K,H}$ is the hourly kerosene consumption of heating equipment. / 1時間当たりの暖房設備の灯油消費量(MJ/h)  \n",
    "$E_{M,H}$ is the hourly primary energy consumption by other fuels of heating equipment. / 1時間当たりの暖房設備のその他の燃料による一次エネルギー消費量(MJ/h)  \n",
    "$E_{E,H,A}$ is the hourly electric power of heating equipment in a system of continuously heating the entire house. / 住戸全体を連続的に暖房する方式における1時間当たりの暖房設備の消費電力量(kWh/h)  \n",
    "$E_{G,H,A}$ is the hourly gas consumption of heating equipment in a system of continuously heating the entire house. / 住戸全体を連続的に暖房する方式における1時間当たりの暖房設備のガス消費量(MJ/h)  \n",
    "$E_{K,H,A}$ is the hourly kerosene consumption of heating equipment in a system of continuously heating the entire house. / 住戸全体を連続的に暖房する方式における1時間当たりの暖房設備の灯油消費量(MJ/h)  \n",
    "$E_{M,H,A}$ is the hourly primary energy consumption by other fuels of heating equipment in a system of continuously heating the entire house. / 住戸全体を連続的に暖房する方式における1時間当たりの暖房設備のその他の燃料による一次エネルギー消費量(MJ/h)  "
   ]
  },
  {
   "cell_type": "markdown",
   "metadata": {},
   "source": [
    "The hourly amount of electricity consumption $E_{E,H,A}$, gas consumption $E_{G,H,A}$, kerosene consumption $E_{K,H,A}$ and primary energy consumption $E_{M,H,A}$ by other fuels in a system that continuously heats the entire house is the hourly amount of electricity consumption $E_{E,H}$, gas consumption $E_{G,H}$, kerosene consumption $E_{K,H}$ and primary energy consumption $E_{M,H}$ by other fuels calculated by Section 2 \"Ducted Central Air Conditioner\", using the hourly heating load of heating equipment in a system that continuously heats the entire house.  "
   ]
  },
  {
   "cell_type": "markdown",
   "metadata": {},
   "source": [
    "#### 2.2. In the case of installing hot water heating for both the main room and the other rooms by way of heating only the living room / 居室のみを暖房する方式でかつ主たる居室とその他の居室ともに温水暖房を設置する場合"
   ]
  },
  {
   "cell_type": "markdown",
   "metadata": {},
   "source": [
    "The hourly electric power $E_{E,H}$, gas consumption $E_{G,H}$, kerosene consumption $E_{K,H}$ and primary energy consumption $E_{M,H}$ by other fuels of the heating facility are calculated by the equations below."
   ]
  },
  {
   "cell_type": "markdown",
   "metadata": {},
   "source": [
    "$$\n",
    "\\large\n",
    "E_{E,H} = E_{E,H,MROR}\n",
    "$$\n",
    "\n",
    "$$\n",
    "\\large\n",
    "E_{G,H} = E_{G,H,MROR}\n",
    "$$\n",
    "\n",
    "$$\n",
    "\\large\n",
    "E_{K,H} = E_{K,H,MROR}\n",
    "$$\n",
    "\n",
    "$$\n",
    "\\large\n",
    "E_{M,H} = E_{M,H,MROR}\n",
    "$$"
   ]
  },
  {
   "cell_type": "markdown",
   "metadata": {},
   "source": [
    "Where  \n",
    "$E_{E,H}$ is the hourly electric power of heating equipment. / 1時間当たりの暖房設備の消費電力量(kWh/h)  \n",
    "$E_{G,H}$ is the hourly gas consumption of heating equipment. / 1時間当たりの暖房設備のガス消費量(MJ/h)  \n",
    "$E_{K,H}$ is the hourly kerosene consumption of heating equipment. / 1時間当たりの暖房設備の灯油消費量(MJ/h)  \n",
    "$E_{M,H}$ is the hourly primary energy consumption by other fuels of heating equipment. / 1時間当たりの暖房設備のその他の燃料による一次エネルギー消費量(MJ/h)  \n",
    "$E_{E,H,MROR}$ is the hourly electric power of heating equipment installed in the main room and other rooms in a system of heating only the living room. / 居室のみを暖房する方式における1時間当たりの主たる居室及びその他の居室に設置された暖房設備の消費電力量(kWh/h)  \n",
    "$E_{G,H,MROR}$ is the hourly gas consumption of heating equipment installed in the main room and other rooms in a system of heating only the living room. / 居室のみを暖房する方式における1時間当たりの主たる居室及びその他の居室に設置された暖房設備のガス消費量(MJ/h)  \n",
    "$E_{K,H,MROR}$ is the hourly kerosene consumption of heating equipment installed in the main room and other rooms in a system of heating only the living room. / 居室のみを暖房する方式における1時間当たりの主たる居室及びその他の居室に設置された暖房設備の灯油消費量(MJ/h)  \n",
    "$E_{M,H,MROR}$ is the hourly primary energy consumption by other fuels of heating equipment installed in the main room and other rooms in a system of heating only the living room. / 居室のみを暖房する方式における1時間当たりの主たる居室及びその他の居室に設置された暖房設備のその他の燃料による一次エネルギー消費量(MJ/h)  "
   ]
  },
  {
   "cell_type": "markdown",
   "metadata": {},
   "source": [
    "The hourly electric power $E_{E,H,MROR}$, gas consumption $E_{G,H,MROR}$, kerosene consumption $E_{K,H,MROR}$ and primary energy consumption $E_{M,H,MROR}$ by other fuels of the heating facility installed in the main room and other rooms in the system of heating only the living room shall be the hourly electric power $E_{E,H}$, gas consumption $E_{G,H}$, kerosene consumption $E_{K,H}$ and primary energy consumption $E_{M,H}$ by other fuels calculated Section 7 \"Hot water heating\", using the hourly heating load $Q_{T,H,i}$($i = 1~5$) of heating equipment installed in the heating and cooling compartment $i$"
   ]
  },
  {
   "cell_type": "markdown",
   "metadata": {},
   "source": [
    "#### 2.3. In the case of a system that heats only the living room and does not fall under the case where hot water heating is installed in both the main room and other rooms / 居室のみを暖房する方式でかつ主たる居室とその他の居室ともに温水暖房を設置する場合に該当しない場合"
   ]
  },
  {
   "cell_type": "markdown",
   "metadata": {},
   "source": [
    "The hourly electric power $E_{E,H}$, gas consumption $E_{G,H}$, kerosene consumption $E_{K,H}$ and primary energy consumption $E_{M,H}$ by other fuels are calculated by the equations below."
   ]
  },
  {
   "cell_type": "markdown",
   "metadata": {},
   "source": [
    "$$\n",
    "\\large\n",
    "E_{E,H} = E_{E,H,MR} + E_{E,H,OR}\n",
    "$$\n",
    "\n",
    "$$\n",
    "\\large\n",
    "E_{G,H} = E_{G,H,MR} + E_{G,H,OR}\n",
    "$$\n",
    "\n",
    "$$\n",
    "\\large\n",
    "E_{K,H} = E_{K,H,MR} + E_{K,H,OR}\n",
    "$$\n",
    "\n",
    "$$\n",
    "\\large\n",
    "E_{M,H} = E_{M,H,MR} + E_{M,H,OR}\n",
    "$$"
   ]
  },
  {
   "cell_type": "markdown",
   "metadata": {},
   "source": [
    "Where  \n",
    "$E_{E,H}$ is the hourly electric power of heating equipment. / 1時間当たりの暖房設備の消費電力量(kWh/h)  \n",
    "$E_{G,H}$ is the hourly gas consumption of heating equipment. / 1時間当たりの暖房設備のガス消費量(MJ/h)  \n",
    "$E_{K,H}$ is the hourly kerosene consumption of heating equipment. / 1時間当たりの暖房設備の灯油消費量(MJ/h)  \n",
    "$E_{M,H}$ is the hourly primary energy consumption by other fuels of heating equipment. / 1時間当たりの暖房設備のその他の燃料による一次エネルギー消費量(MJ/h)  \n",
    "$E_{E,H,MR}$ is the hourly electric power of heating equipment installed in the main room in a system of heating only the living room. / 居室のみを暖房する方式における1時間当たりの主たる居室に設置された暖房設備の消費電力量(kWh/h)  \n",
    "$E_{G,H,MR}$ is the hourly gas consumption of heating equipment installed in the main room in a system of heating only the living room. / 居室のみを暖房する方式における1時間当たりの主たる居室に設置された暖房設備のガス消費量(MJ/h)  \n",
    "$E_{K,H,MR}$ is the hourly kerosene consumption of heating equipment installed in the main room in a system of heating only the living room. / 居室のみを暖房する方式における1時間当たりの主たる居室に設置された暖房設備の灯油消費量(MJ/h)  \n",
    "$E_{M,H,MR}$ is the hourly primary energy consumption by other fuels of heating equipment installed in the main room in a system of heating only the living room. / 居室のみを暖房する方式における1時間当たりの主たる居室に設置された暖房設備のその他の燃料による一次エネルギー消費量(MJ/h)  \n",
    "$E_{E,H,OR}$ is the hourly electric power of heating equipment installed in the other rooms in a system of heating only the living room. / 居室のみを暖房する方式における1時間当たりのその他の居室に設置された暖房設備の消費電力量(kWh/h)  \n",
    "$E_{G,H,OR}$ is the hourly gas consumption of heating equipment installed in the other rooms in a system of heating only the living room. / 居室のみを暖房する方式における1時間当たりのその他の居室に設置された暖房設備のガス消費量(MJ/h)  \n",
    "$E_{K,H,OR}$ is the hourly kerosene consumption of heating equipment installed in the other rooms in a system of heating only the living room. / 居室のみを暖房する方式における1時間当たりのその他の居室に設置された暖房設備の灯油消費量(MJ/h)  \n",
    "$E_{M,H,OR}$ is the hourly primary energy consumption by other fuels of heating equipment installed in the other rooms in a system of heating only the living room. / 居室のみを暖房する方式における1時間当たりのその他の居室に設置された暖房設備のその他の燃料による一次エネルギー消費量(MJ/h)  "
   ]
  },
  {
   "cell_type": "markdown",
   "metadata": {},
   "source": [
    "The hourly electric power $E_{E,H,MR}$, gas consumption $E_{G,H,MR}$, kerosene consumption $E_{K,H,MR}$ and primary energy consumption $E_{M,H,MR}$ by other fuels of heating equipment installed in the main room in a system of heating only the living room shall be the value calculated from the chapter 7, using the hourly processing heat load $Q_{T,H,i}$ ($i = 1～5$) of a radiator installed in a heating and cooling compartment $i$.  Futhermore, when room air conditioner, FF heater, electric heat storage heater, electric heater floor heating or hot air floor heating with room air conditioner are installed in the main room, they are calculated by the equations below."
   ]
  },
  {
   "cell_type": "markdown",
   "metadata": {},
   "source": [
    "$$\n",
    "\\large\n",
    "E_{E,H,MR} = E_{E,H,i}|_{i=1}\n",
    "$$\n",
    "\n",
    "$$\n",
    "\\large\n",
    "E_{G,H,MR} = E_{G,H,i}|_{i=1}\n",
    "$$\n",
    "\n",
    "$$\n",
    "\\large\n",
    "E_{K,H,MR} = E_{K,H,i}|_{i=1}\n",
    "$$\n",
    "\n",
    "$$\n",
    "\\large\n",
    "E_{M,H,MR} = E_{M,H,i}|_{i=1}\n",
    "$$"
   ]
  },
  {
   "cell_type": "markdown",
   "metadata": {},
   "source": [
    "Where  \n",
    "$E_{E,H}$ is the hourly electric power of heating equipment. / 1時間当たりの暖房設備の消費電力量(kWh/h)  \n",
    "$E_{G,H}$ is the hourly gas consumption of heating equipment. / 1時間当たりの暖房設備のガス消費量(MJ/h)  \n",
    "$E_{K,H}$ is the hourly kerosene consumption of heating equipment. / 1時間当たりの暖房設備の灯油消費量(MJ/h)  \n",
    "$E_{M,H}$ is the hourly primary energy consumption by other fuels of heating equipment. / 1時間当たりの暖房設備のその他の燃料による一次エネルギー消費量(MJ/h)  "
   ]
  },
  {
   "cell_type": "markdown",
   "metadata": {},
   "source": [
    "The hourly electric power $E_{E,H,OR}$, gas consumption $E_{G,H,OR}$, kerosene consumption $E_{K,H,OR}$ and primary energy consumption $E_{M,H,OR}$ by other fuels of heating equipment installed in the other rooms in a system of heating only the living room shall be the value calculated from the chapter 7, using the hourly processing heat load $Q_{T,H,i}$ ($i = 2～5$) of a radiator installed in a heating and cooling compartment $i$.  Futhermore, when room air conditioner, FF heater, electric heat storage heater, electric heater floor heating or hot air floor heating with room air conditioner are installed in the other room, they are calculated by the equations below."
   ]
  },
  {
   "cell_type": "markdown",
   "metadata": {},
   "source": [
    "$$\n",
    "\\large\n",
    "E_{E,H,OR} = \\sum_{i=2～5} E_{E,H,i} \n",
    "$$\n",
    "\n",
    "$$\n",
    "\\large\n",
    "E_{G,H,OR} = \\sum_{i=2～5} E_{G,H,i} \n",
    "$$\n",
    "\n",
    "$$\n",
    "\\large\n",
    "E_{K,H,OR} = \\sum_{i=2～5} E_{K,H,i} \n",
    "$$\n",
    "\n",
    "$$\n",
    "\\large\n",
    "E_{M,H,OR} = \\sum_{i=2～5} E_{M,H,i} \n",
    "$$"
   ]
  },
  {
   "cell_type": "markdown",
   "metadata": {},
   "source": [
    "The hourly electric power $E_{E,H,OR}$, gas consumption $E_{G,H,OR}$, kerosene consumption $E_{K,H,OR}$ and primary energy consumption $E_{M,H,OR}$ by other fuels of heating equipment installed in a heating and cooling compartment $i$ shall be the hourly electric power $E_{E,H}$, gas consumption $E_{G,H}$, kerosene consumption $E_{K,H}$ and primary energy consumption $E_{M,H}$ by other fuels calculated from the chapter 3～6 and 8, using the hourly processing heat load $Q_{T,H,i}$ of heating equipment installed in a heating and cooling compartment $i$ depending on the type of heating equipment installed in the main room ($i = 1$) or other rooms ($i = 2～5$)."
   ]
  },
  {
   "cell_type": "markdown",
   "metadata": {},
   "source": [
    "### 3. Design primary energy consumption equivalent value of the unheated heating load of the heating equipment / 暖房設備の未処理暖房負荷の設計一次エネルギー消費量相当値"
   ]
  },
  {
   "cell_type": "markdown",
   "metadata": {},
   "source": [
    "#### 3.1. System of Continuously Heating the Entire House / 住戸全体を連続的に暖房する方式"
   ]
  },
  {
   "cell_type": "markdown",
   "metadata": {},
   "source": [
    "The hourly design primary energy consumption equivalent value $E_{UT_H}$ of the unheated heating load of the heating equipment is calculated by the equations below."
   ]
  },
  {
   "cell_type": "markdown",
   "metadata": {},
   "source": [
    "$$\n",
    "\\large\n",
    "E_{UT,H} = Q_{UT,H,A} \\times \\alpha_{UT,H,A}\n",
    "$$"
   ]
  },
  {
   "cell_type": "markdown",
   "metadata": {},
   "source": [
    "Where  \n",
    "$E_{UT,H}$ is the hourly design primary energy consumption equivalent value of the unheated heating load of the heating equipment. / 1時間当たりの暖房設備の未処理暖房負荷の設計一次エネルギー消費量相当値(MJ/h)  \n",
    "$Q_{UT,H,A}$ is the hourly unprocessed heating load of a heating facility in a system of continuously heating the entire house. / 住戸全体を連続的に暖房する方式における1時間当たりの暖房設備の未処理暖房負荷(MJ/h)  \n",
    "$\\alpha_{UT,H,A}$ is the coefficient for converting the unprocessed heating load of the heating equipment in the system of continuously heating the entire house to the design primary energy consumption equivalent value. / 住戸全体を連続的に暖房する方式における暖房設備の未処理暖房負荷を未処理暖房負荷の設計一次エネルギー消費量相当値に換算するための係数  "
   ]
  },
  {
   "cell_type": "markdown",
   "metadata": {},
   "source": [
    "The coefficient $\\alpha_{UT,H,A}$ is the value shown in Table 3 according to the heating system, operation method, and regional division."
   ]
  },
  {
   "cell_type": "markdown",
   "metadata": {},
   "source": [
    "<center>**Table 3. The coefficient for converting the unprocessed heating load of the heating equipment in the system of continuously heating the entire house to the design primary energy consumption equivalent value**</center>\n",
    "\n",
    "|Region classification|System of Continuously Heating the Entire House|\n",
    "|-|-|\n",
    "|1|1.61|\n",
    "|2|1.46|\n",
    "|3|1.32|\n",
    "|4|1.30|\n",
    "|5|1.20|\n",
    "|6|1.09|\n",
    "|7|1.12|\n",
    "|8|‐|"
   ]
  },
  {
   "cell_type": "markdown",
   "metadata": {},
   "source": [
    "#### 3.2. System of Heating Only the Living Room / 居室のみを暖房する方式"
   ]
  },
  {
   "cell_type": "markdown",
   "metadata": {},
   "source": [
    "The hourly design primary energy consumption equivalent value $E_{UT,H}$ of the unheated heating load of the heating equipment is calculated by the equations below."
   ]
  },
  {
   "cell_type": "markdown",
   "metadata": {},
   "source": [
    "$$\n",
    "\\large\n",
    "E_{UT,H} = Q_{UT,H,MR} \\times \\alpha_{UT,H,MR} + Q_{UT,H,OR} \\times \\alpha_{UT,H,OR}\n",
    "$$"
   ]
  },
  {
   "cell_type": "markdown",
   "metadata": {},
   "source": [
    "Where  \n",
    "$E_{UT,H}$ is the hourly design primary energy consumption equivalent value of the unheated heating load of the heating equipment. / 1時間当たりの暖房設備の未処理暖房負荷の設計一次エネルギー消費量相当値(MJ/h)  \n",
    "$Q_{UT,H,MR}$ is the hourly unprocessed heating load of the heating equipment installed in the main room in the system of heating only the living room. / 居室のみを暖房する方式における1時間当たりの主たる居室に設置された暖房設備の未処理暖房負荷(MJ/h)  \n",
    "$Q_{UT,H,OR}$ is the hourly unprocessed heating load of a heating heating equipments installed in other rooms in the system of heating only the living room. / 居室のみを暖房する方式における1時間当たりのその他の居室に設置された暖房設備の未処理暖房負荷(MJ/h)  \n",
    "$\\alpha_{UT,H,MR}$ is the coefficient for converting the unprocessed heating load of the heating equipment installed in the main room to the design primary energy consumption equivalent value in the system of heating only the living room. / 居室のみを暖房する方式における主たる居室に設置された暖房設備の未処理暖房負荷を未処理暖房負荷の設計一次エネルギー消費量相当値に換算するための係数  \n",
    "$\\alpha_{UT,H,OR}$ is the coefficient for converting the unprocessed heating load of the heating equipments installed in the other rooms to the design primary energy consumption equivalent value in the system of heating only the living room. / 居室のみを暖房する方式におけるその他の居室に設置された暖房設備の未処理暖房負荷を未処理暖房負荷の設計一次エネルギー消費量相当値に換算するための係数  "
   ]
  },
  {
   "cell_type": "markdown",
   "metadata": {},
   "source": [
    "Table 4 shows the coefficient $\\alpha_{UT,H,MR}$ and $\\alpha_{UT,H,OR}$."
   ]
  },
  {
   "cell_type": "markdown",
   "metadata": {},
   "source": [
    "<center>**Table 4. The coefficient for converting the unprocessed heating load of the heating equipment installed in the main room to the design primary energy consumption equivalent value**</center>\n",
    "\n",
    "<table style=\"border: 1px solid #333;\">\n",
    "<thead>\n",
    "<tr>\n",
    "<th rowspan=\"3\">Region classification</th>\n",
    "<th colspan=\"4\">System of Heating Only the Living Room</th>\n",
    "</tr>\n",
    "<tr>\n",
    "<th colspan=\"2\">main room</th>\n",
    "<th colspan=\"2\">other rooms</th>\n",
    "</tr>\n",
    "<tr>\n",
    "<th>Continuous operation</th>\n",
    "<th>Intermittent operation</th>\n",
    "<th>Continuous operation</th>\n",
    "<th>Intermittent operation</th>\n",
    "</tr>\n",
    "</thead>\n",
    "<tbody>\n",
    "<tr><th>1</th><td>1.59</td><td>1.21</td><td>1.59</td><td>1.22</td></tr>\n",
    "<tr><th>2</th><td>1.66</td><td>1.22</td><td>1.66</td><td>1.24</td></tr>\n",
    "<tr><th>3</th><td>1.63</td><td>1.22</td><td>1.63</td><td>1.23</td></tr>\n",
    "<tr><th>4</th><td>1.60</td><td>1.21</td><td>1.60</td><td>1.23</td></tr>\n",
    "<tr><th>5</th><td>1.53</td><td>1.05</td><td>1.53</td><td>1.04</td></tr>\n",
    "<tr><th>6</th><td>1.57</td><td>0.96</td><td>1.57</td><td>1.00</td></tr>\n",
    "<tr><th>7</th><td>1.63</td><td>1.01</td><td>1.63</td><td>1.34</td></tr>\n",
    "<tr><th>8</th><td>-</td><td>-</td><td>-</td><td>-</td></tr>\n",
    "</tbody>\n",
    "</table>"
   ]
  },
  {
   "cell_type": "markdown",
   "metadata": {},
   "source": [
    "### 4. Heat load etc. of hot water heating covered by cogeneration facility or building central heating facility / コージェネレーション設備又は住棟セントラル暖房設備が賄う温水暖房の熱負荷等"
   ]
  },
  {
   "cell_type": "markdown",
   "metadata": {},
   "source": [
    "#### 4.1. In the case of installing hot water heating for both the main room and the other rooms by way of heating only the living room / 居室のみを暖房する方式でかつ主たる居室とその他の居室ともに温水暖房を設置する場合"
   ]
  },
  {
   "cell_type": "markdown",
   "metadata": {},
   "source": [
    "1 時間当たりの温水暖房の熱負荷𝐿𝐻𝑊𝐻,𝑑,𝑡、日付𝑑の時刻𝑡における温水暖房の温水供給運転率𝑟𝑊𝑆,𝐻𝑊𝐻,𝑑,𝑡及び日付𝑑の時刻𝑡における温水暖房の往き温水温度𝜃𝑠𝑤,𝐻𝑊𝐻,𝑑,𝑡は、日付𝑑の時刻𝑡における 1 時間当たりの暖冷房区画𝑖に設置された放熱器の処理暖房負荷𝑄𝑇,𝐻,𝑑,𝑡,𝑖(𝑖 = 1~5)を用いて、第七節「温水暖房」により計算された、日付𝑑の時刻𝑡における 1 時間当たりの熱源機の温水熱需要𝑄𝑑𝑚𝑑,ℎ𝑠,𝑑,𝑡、日付𝑑の時刻𝑡における熱源機の温水供給運転率𝑟𝑤𝑠,ℎ𝑠,𝑑,𝑡及び日付𝑑の時刻𝑡における 1 時間当たりの熱源機の往き温水温度𝜃𝑠𝑤,ℎ𝑠,𝑑,𝑡とする。"
   ]
  },
  {
   "cell_type": "markdown",
   "metadata": {},
   "source": [
    "#### 4.2. When it is not applicable to installing hot water heating equipment for both the main room and other rooms by way of heating only the living room / 居室のみを暖房する方式でかつ主たる居室とその他の居室ともに温水暖房設備を設置する場合に該当しない場合"
   ]
  },
  {
   "cell_type": "markdown",
   "metadata": {},
   "source": [
    "#### 1) When installing hot water heating only in the main room / 主たる居室のみに温水暖房を設置する場合"
   ]
  },
  {
   "cell_type": "markdown",
   "metadata": {},
   "source": [
    "1 時間当たりの温水暖房の熱負荷𝐿𝐻𝑊𝐻,𝑑,𝑡、日付𝑑の時刻𝑡における温水暖房の温水供給運転率𝑟𝑊𝑆,𝐻𝑊𝐻,𝑑,𝑡及び日付𝑑の時刻𝑡における温水暖房の往き温水温度𝜃𝑠𝑤,𝐻𝑊𝐻,𝑑,𝑡は、日付𝑑の時刻𝑡における 1 時間当たりの暖冷房区画𝑖に設置された放熱器の処理暖房負荷𝑄𝑇,𝐻,𝑑,𝑡,𝑖(𝑖 = 1)を用いて、第七節「温水暖房」により計算された、日付𝑑の時刻𝑡における 1 時間当たりの熱源機の温水熱需要𝑄𝑑𝑚𝑑,ℎ𝑠,𝑑,𝑡、日付𝑑の時刻𝑡における熱源機の温水供給運転率𝑟𝑤𝑠,ℎ𝑠,𝑑,𝑡及び日付𝑑の時刻𝑡における 1 時間当たりの熱源機の往き温水温度𝜃𝑠𝑤,ℎ𝑠,𝑑,𝑡とする。"
   ]
  },
  {
   "cell_type": "markdown",
   "metadata": {},
   "source": [
    "#### 2) When installing hot water heating only in other rooms / その他の居室のみに温水暖房を設置する場合"
   ]
  },
  {
   "cell_type": "markdown",
   "metadata": {},
   "source": [
    " 1 時間当たりの温水暖房の熱負荷𝐿𝐻𝑊𝐻,𝑑,𝑡、日付𝑑の時刻𝑡における温水暖房の温水供給運転率𝑟𝑊𝑆,𝐻𝑊𝐻,𝑑,𝑡及び日付𝑑の時刻𝑡における温水暖房の往き温水温度𝜃𝑠𝑤,𝐻𝑊𝐻,𝑑,𝑡は、日付𝑑の時刻𝑡における 1 時間当たりの暖冷房区画𝑖に設置された放熱器の処理暖房負荷𝑄𝑇,𝐻,𝑑,𝑡,𝑖(𝑖 = 2~5)を用いて、第七節により計算された、日付𝑑の時刻𝑡における 1 時間当たりの熱源機の温水熱需要𝑄𝑑𝑚𝑑,ℎ𝑠,𝑑,𝑡、日付𝑑の時刻𝑡における熱源機の温水供給運転率𝑟𝑤𝑠,ℎ𝑠,𝑑,𝑡及び日付𝑑の時刻𝑡における 1 時間当たりの熱源機の往き温水温度𝜃𝑠𝑤,ℎ𝑠,𝑑,𝑡とする。"
   ]
  },
  {
   "cell_type": "markdown",
   "metadata": {},
   "source": [
    "## Primary Energy Consumption and Processing Load and Unprocessed Load of the Cooling Facility / 冷房設備の一次エネルギー消費量及び処理負荷と未処理負荷"
   ]
  },
  {
   "cell_type": "markdown",
   "metadata": {},
   "source": [
    "### 1. Processing Load and Unprocessed Load / 処理負荷及び未処理負荷"
   ]
  },
  {
   "cell_type": "markdown",
   "metadata": {},
   "source": [
    "#### 1.1. System of Continuously Cooling the Entire House / 住戸全体を連続的に冷房する方式"
   ]
  },
  {
   "cell_type": "markdown",
   "metadata": {},
   "source": [
    "The hourly processing cooling sensible heat load $Q_{T,CS,A}$ of the cooling facility and the hourly unprocessed cooling sensible heat load $Q_{UT,CS,A}$ of the cooling facility in a system of continuously cooling the entire house are calculated by the equations below."
   ]
  },
  {
   "cell_type": "markdown",
   "metadata": {},
   "source": [
    "$$\n",
    "\\large\n",
    "Q_{T,CS,A} = min(Q_{max,CS}, L_{CS,A})\n",
    "$$\n",
    "\n",
    "$$\n",
    "\\large\n",
    "Q_{UT,CS,A} = L_{CS,A} - Q_{T,CS,A}\n",
    "$$"
   ]
  },
  {
   "cell_type": "markdown",
   "metadata": {},
   "source": [
    "Where  \n",
    "$Q_{T,CS,A}$ is the hourly processing cooling sensible heat load of cooling facility in a system of continuously cooling the entire house. / 住戸全体を連続的に冷房する方式における1時間当たりの冷房設備の処理冷房顕熱負荷(MJ/h)  \n",
    "$Q_{UT,CS,A}$ is the hourly unprocessed cooling sensible heat load of cooling facility in a system of continuously cooling the entire house. / 住戸全体を連続的に冷房する方式における1時間当たりの冷房設備の未処理冷房顕熱負荷(MJ/h)  \n",
    "$Q_{max,CS}$ is the hourly maximum cooling sensible heat output of cooling equipment. / 1時間当たりの冷房設備機器の最大冷房顕熱出力(MJ/h)  \n",
    "$L_{CS,A}$ is the total of hourly cooling sensible heat load in a system of continuously cooling the entire house. / 住戸全体を連続的に冷房する方式における1時間当たりの冷房顕熱負荷の合計(MJ/h)"
   ]
  },
  {
   "cell_type": "markdown",
   "metadata": {},
   "source": [
    "The hourly unprocessed cooling sensible heat load $Q_{UT,CS,A}$ of cooling facility and the unprocessed cooling latent heat load $Q_{UT,CL,A}$ of cooling facility in a system of continuously cooling the entire house are calculated by the equations below."
   ]
  },
  {
   "cell_type": "markdown",
   "metadata": {},
   "source": [
    "$$\n",
    "\\large\n",
    "Q_{T,CL,A} = min(Q_{max,CL}, L_{CL,A})\n",
    "$$\n",
    "\n",
    "$$\n",
    "\\large\n",
    "Q_{UT,CL,A} = L_{CL,A} - Q_{T,CL,A}\n",
    "$$"
   ]
  },
  {
   "cell_type": "markdown",
   "metadata": {},
   "source": [
    "Where  \n",
    "$Q_{T,CL,A}$ is the hourly processing cooling latent heat load of cooling facility in a system of continuously cooling the entire house. / 住戸全体を連続的に冷房する方式における1時間当たりの冷房設備の処理冷房潜熱負荷(MJ/h)  \n",
    "$Q_{UT,CL,A}$ is the hourly unprocessed cooling latent heat load of cooling facility in a system of continuously cooling the entire house. / 住戸全体を連続的に冷房する方式における1時間当たりの冷房設備の未処理冷房潜熱負荷(MJ/h)  \n",
    "$Q_{max,CL}$ is the hourly maximum cooling latent heat output of cooling equipment. / 1時間当たりの冷房設備機器の最大冷房潜熱出力(MJ/h)  \n",
    "$L_{CL,A}$ is the total of hourly cooling latent heat load in a system of continuously cooling the entire house. / 住戸全体を連続的に冷房する方式における1時間当たりの冷房潜熱負荷の合計(MJ/h)"
   ]
  },
  {
   "cell_type": "markdown",
   "metadata": {},
   "source": [
    "ここでいう、冷房設備とはダクト式セントラル空調機が該当し、日付𝑑の時刻𝑡における 1 時間当たりの冷房設備の最大冷房顕熱出力𝑄𝑚𝑎𝑥,𝐶𝑆,𝑑,𝑡及び日付𝑑の時刻𝑡における 1 時間当たりの冷房設備の最大冷房潜熱出力𝑄𝑚𝑎𝑥,𝐶𝐿,𝑑,𝑡は、第二節「ダクト式セントラル空調機」により計算される値とする。"
   ]
  },
  {
   "cell_type": "markdown",
   "metadata": {},
   "source": [
    "住戸全体を連続的に冷房する方式における日付𝑑の時刻𝑡における 1 時間当たりの冷房顕熱負荷の合計𝐿𝐶𝑆,𝐴,𝑑,𝑡及び日付𝑑の時刻𝑡における 1 時間当たりの冷房潜熱負荷の合計𝐿𝐶𝐿,𝐴,𝑑,𝑡は式(15)により表される。ただし、𝐿𝐶𝑆,𝐴,𝑑,𝑡が0未満の場合は0とする。𝐿𝐶𝐿,𝐴,𝑑,𝑡が0未満の場合は0とする。"
   ]
  },
  {
   "cell_type": "markdown",
   "metadata": {},
   "source": [
    "$$\n",
    "\\large\n",
    "L_{CS,A} = \\sum_{i=1～12} L_{CS,i} \n",
    "$$\n",
    "\n",
    "$$\n",
    "\\large\n",
    "L_{CL,A} = \\sum_{i=1～12} L_{CL,i} \n",
    "$$"
   ]
  },
  {
   "cell_type": "markdown",
   "metadata": {},
   "source": [
    "Where  \n",
    "$L_{CS,A}$ is the hourly cooling sensation heat load of cooling equipment installed in the heating and cooling compartment $i$. / 暖冷房区画$i$の1時間当たりの冷房設備機器の冷房顕熱負荷(MJ/h)  \n",
    "$L_{CL,A}$ is the hourly cooling latent heat load of cooling equipment installed in the heating and cooling compartment $i$. / 暖冷房区画$i$の1時間当たりの冷房設備機器の冷房潜熱負荷(MJ/h)  \n"
   ]
  },
  {
   "cell_type": "markdown",
   "metadata": {},
   "source": [
    "暖冷房区画𝑖の 1 時間当たりの冷房顕熱負荷𝐿𝐶𝑆,𝑑,𝑡,𝑖及び日付𝑑の時刻𝑡における暖冷房区画𝑖の 1 時間当たりの冷房潜熱負荷𝐿𝐶𝐿,𝑑,𝑡,𝑖は、第三章「暖冷房負荷と外皮性能」第一節「全般」より計算される値とする。"
   ]
  },
  {
   "cell_type": "markdown",
   "metadata": {},
   "source": [
    "#### 1.2. System of Cooling Only Living Room / 居室のみを冷房する方式"
   ]
  },
  {
   "cell_type": "markdown",
   "metadata": {},
   "source": [
    "The hourly processing cooling sensible heat load $Q_{T,CS,MR}$ of cooling equipment installed in the main room, the hourly processing cooling latent heat load $Q_{T,CL,MR}$ of cooling equipment installed in the main room, the hourly unprocessed cooling sensible heat load $Q_{UT,CS,MR}$ of cooling equipment installed in the main room and the hourly unprocessed cooling latent heat load $Q_{UT,CL,MR}$ of cooling equipment installed in the main room in a system of cooling only living room are calculated by the equations below."
   ]
  },
  {
   "cell_type": "markdown",
   "metadata": {},
   "source": [
    "$$\n",
    "\\large\n",
    "Q_{T,CS,MR} = Q_{T,CS,i}|_{i=1}\n",
    "$$\n",
    "\n",
    "$$\n",
    "\\large\n",
    "Q_{T,CL,MR} = Q_{T,CL,i}|_{i=1}\n",
    "$$\n",
    "\n",
    "$$\n",
    "\\large\n",
    "Q_{UT,CS,MR} = Q_{UT,CS,i}|_{i=1}\n",
    "$$\n",
    "\n",
    "$$\n",
    "\\large\n",
    "Q_{UT,CL,MR} = Q_{UT,CL,i}|_{i=1}\n",
    "$$"
   ]
  },
  {
   "cell_type": "markdown",
   "metadata": {},
   "source": [
    "Where  \n",
    "$Q_{T,CS,MR}$ is the hourly processing cooling sensible heat load of cooling facility installed in the main room in a system of cooling only living room. / 居室のみを冷房する方式における1時間当たりの主たる居室に設置された冷房設備の処理冷房顕熱負荷(MJ/h)  \n",
    "$Q_{T,CL,MR}$ is the hourly processing cooling latent heat load of cooling facility installed in the main room in a system of cooling only living room. / 居室のみを冷房する方式における1時間当たりの主たる居室に設置された冷房設備の処理冷房潜熱負荷(MJ/h)  \n",
    "$Q_{UT,CS,MR}$ is the hourly unprocessed cooling sensible heat load of cooling facility installed in the main room in a system of cooling only living room. / 居室のみを冷房する方式における1時間当たりの主たる居室に設置された冷房設備の未処理冷房顕熱負荷(MJ/h)  \n",
    "$Q_{UT,CL,MR}$ is the hourly unprocessed cooling latent heat load of cooling facility installed in the main room in a system of cooling only living room. / 居室のみを冷房する方式における1時間当たりの主たる居室に設置された冷房設備の未処理冷房潜熱負荷(MJ/h)  \n",
    "$Q_{T,CS,i}$ is the hourly processing cooling sensible heat load of cooling facility installed in the heating and cooling compartment $i$. /  1時間当たりの暖冷房区画$i$に設置された冷房設備機器の処理冷房顕熱負荷(MJ/h)  \n",
    "$Q_{T,CL,i}$ is the hourly processing cooling latent heat load of cooling facility installed in the heating and cooling compartment $i$. / 1時間当たりの暖冷房区画$i$に設置された冷房設備機器の処理冷房潜熱負荷(MJ/h)  \n",
    "$Q_{UT,CS,i}$ is the hourly unprocessed cooling sensible heat load of cooling facility installed in the heating and cooling compartment $i$. / 1時間当たりの暖冷房区画$i$に設置された冷房設備機器の未処理冷房顕熱負荷(MJ/h)  \n",
    "$Q_{UT,CL,i}$ is the hourly unprocessed cooling latent heat load of cooling facility installed in the heating and cooling compartment $i$. / 1時間当たりの暖冷房区画$i$に設置された冷房設備機器の未処理冷房潜熱負荷(MJ/h)"
   ]
  },
  {
   "cell_type": "markdown",
   "metadata": {},
   "source": [
    "The hourly processing cooling sensible heat load $Q_{T,CS,OR}$, the hourly processing cooling latent heat load $Q_{T,CL,OR}$, the hourly unprocessed cooling sensible heat load $Q_{UT,CS,OR}$ and the hourly unprocessed cooling latent heat load $Q_{UT,CL,OR}$ of cooling facility installed in the other rooms in a system of cooling only living room are calculated by the equations below."
   ]
  },
  {
   "cell_type": "markdown",
   "metadata": {},
   "source": [
    "$$\n",
    "\\large\n",
    "Q_{T,CS,OR} = \\sum_{i=2～5} Q_{T,CS,i} \n",
    "$$\n",
    "\n",
    "$$\n",
    "\\large\n",
    "Q_{T,CL,OR} = \\sum_{i=2～5} Q_{T,CL,i} \n",
    "$$\n",
    "\n",
    "$$\n",
    "\\large\n",
    "Q_{UT,CS,OR} = \\sum_{i=2～5} Q_{UT,CS,i} \n",
    "$$\n",
    "\n",
    "$$\n",
    "\\large\n",
    "Q_{UT,CL,OR} = \\sum_{i=2～5} Q_{UT,CL,i} \n",
    "$$"
   ]
  },
  {
   "cell_type": "markdown",
   "metadata": {},
   "source": [
    "Where  \n",
    "$Q_{T,CS,OR}$ is the hourly processing cooling sensible heat load of cooling facility installed in the other rooms in a system of cooling only living room. / 居室のみを冷房する方式における1時間当たりのその他の居室に設置された冷房設備の処理冷房顕熱負荷(MJ/h)  \n",
    "$Q_{T,CL,OR}$ is the hourly processing cooling latent heat load of cooling facility installed in the other rooms in a system of cooling only living room. / 居室のみを冷房する方式における1時間当たりのその他の居室に設置された冷房設備の処理冷房潜熱負荷(MJ/h)  \n",
    "$Q_{UT,CS,OR}$ is the hourly unprocessed cooling sensible heat load of cooling facility installed in the other rooms in a system of cooling only living room. / 居室のみを冷房する方式における1時間当たりのその他の居室に設置された冷房設備の未処理冷房顕熱負荷(MJ/h)  \n",
    "$Q_{UT,CL,OR}$ is the hourly unprocessed cooling latent heat load of cooling facility installed in the other rooms in a system of cooling only living room. / 居室のみを冷房する方式における1時間当たりのその他の居室に設置された冷房設備の未処理冷房潜熱負荷(MJ/h)  "
   ]
  },
  {
   "cell_type": "markdown",
   "metadata": {},
   "source": [
    "The hourly unprocessed cooling sensible heat load $Q_{T,CS,i}$ and unprocessed cooling sensible heat load $Q_{UT,CS,i}$ of cooling facility installed in the heating and cooling compartment $i$ are calculated by the equations below."
   ]
  },
  {
   "cell_type": "markdown",
   "metadata": {},
   "source": [
    "$$\n",
    "\\large\n",
    "Q_{T,CS,i} = min(Q_{max,CS,i}, L_{CS,i})\n",
    "$$\n",
    "\n",
    "$$\n",
    "\\large\n",
    "Q_{UT,CS,i} = L_{CS,i} - Q_{T,CS,i}\n",
    "$$"
   ]
  },
  {
   "cell_type": "markdown",
   "metadata": {},
   "source": [
    "Where  \n",
    "$Q_{max,CS,i}$ is the hourly maximum cooling sensible heat output of cooling facility installed in the heating and cooling compartment $i$. / 1時間当たりの暖冷房区画$i$に設置された冷房設備機器の最大冷房顕熱出力(MJ/h)  \n",
    "$L_{CS,i}$ is the hourly cooling sensation heat load of cooling facility installed in the heating and cooling compartment $i$. / 暖冷房区画$i$の1時間当たりの冷房顕熱負荷(MJ/h)  "
   ]
  },
  {
   "cell_type": "markdown",
   "metadata": {},
   "source": [
    "The hourly unprocessed cooling latent heat load $Q_{T,CL,i}$ and unprocessed cooling latent heat load $Q_{UT,CL,i}$ of cooling facility installed in the heating and cooling compartment $i$ are calculated by the equations below."
   ]
  },
  {
   "cell_type": "markdown",
   "metadata": {},
   "source": [
    "$$\n",
    "\\large\n",
    "Q_{T,CL,i} = min(Q_{max,CL,i}, L_{CL,i})\n",
    "$$\n",
    "\n",
    "$$\n",
    "\\large\n",
    "Q_{UT,CL,i} = L_{CL,i} - Q_{T,CL,i}\n",
    "$$"
   ]
  },
  {
   "cell_type": "markdown",
   "metadata": {},
   "source": [
    "Where  \n",
    "$Q_{max,CL,i}$ is the hourly maximum cooling latent heat output of cooling facility installed in the heating and cooling compartment $i$. / 1時間当たりの暖冷房区画$i$に設置された冷房設備機器の最大冷房潜熱出力(MJ/h)  \n",
    "$L_{CL,i}$ is the hourly cooling latent heat load of cooling facility installed in the heating and cooling compartment $i$. / 暖冷房区画$i$の1時間当たりの冷房潜熱負荷(MJ/h)  "
   ]
  },
  {
   "cell_type": "markdown",
   "metadata": {},
   "source": [
    "The hourly maximum cooling sensible heat output $Q_{max,CS,i}$ and hourly maximum cooling latent heat output $Q_{max,CL,i}$ of cooling equipment installed in the heating and cooling compartment $i$ shall be the hourly maximum cooling sensible heat output $Q_{max,CS}$ and hourly maximum cooling latent heat output $Q_{max,CL}$ calculated by the method shown in Section 3 \"Room Air Conditioner\".  \n",
    "The hourly cooling sensation heat load $L_{CS,i}$ and the hourly cooling latent heat load $L_{CL,i}$ of the heating and cooling compartment $i$ shall be the values calculated from the section 1 in Chapter 3. \n",
    "However, when L is less than 0, it is set to 0. Also, when L is less than 0, it is set to 0. "
   ]
  },
  {
   "cell_type": "markdown",
   "metadata": {},
   "source": [
    "### 2. Energy Consumption of Cooling Equipment / 冷房設備のエネルギー消費量"
   ]
  },
  {
   "cell_type": "markdown",
   "metadata": {},
   "source": [
    "#### 2.1. System of Continuously Cooling the Entire House / 住戸全体を連続的に冷房する方式"
   ]
  },
  {
   "cell_type": "markdown",
   "metadata": {},
   "source": [
    "The hourly electric power $E_{E,C}$, gas consumption $E_{G,C}$, kerosene consumption $E_{K,C}$ and primary energy consumption $E_{M,C}$ by other fuels of cooling equipment are calculated by the equation below."
   ]
  },
  {
   "cell_type": "markdown",
   "metadata": {},
   "source": [
    "$$\n",
    "\\large\n",
    "E_{E,C} = E_{E,C,A}\n",
    "$$\n",
    "\n",
    "$$\n",
    "\\large\n",
    "E_{G,C} = E_{G,C,A}\n",
    "$$\n",
    "\n",
    "$$\n",
    "\\large\n",
    "E_{K,C} = E_{K,C,A}\n",
    "$$\n",
    "\n",
    "$$\n",
    "\\large\n",
    "E_{M,C} = E_{M,C,A}\n",
    "$$"
   ]
  },
  {
   "cell_type": "markdown",
   "metadata": {},
   "source": [
    "Where  \n",
    "$E_{E,C}$ is the hourly electric power of cooling equipment. / 1時間当たりの冷房設備の消費電力量(kWh/h)  \n",
    "$E_{G,C}$ is the hourly gas consumption of cooling equipment. / 1時間当たりの冷房設備のガス消費量(MJ/h)  \n",
    "$E_{K,C}$ is the hourly kerosene consumption of cooling equipment. / 1時間当たりの冷房設備の灯油消費量(MJ/h)  \n",
    "$E_{M,C}$ is the hourly primary energy consumption by other fuels of cooling equipment. / 1時間当たりの冷房設備のその他の燃料による一次エネルギー消費量(MJ/h)  \n",
    "$E_{E,C,A}$ is the hourly electric power of cooling equipment in a system of continuously cooling the entire house. / 住戸全体を連続的に冷房する方式における1時間当たりの冷房設備の消費電力量(kWh/h)  \n",
    "$E_{G,C,A}$ is the hourly gas consumption of cooling equipment in a system of continuously cooling the entire house. / 住戸全体を連続的に冷房する方式における1時間当たりの冷房設備のガス消費量(MJ/h)  \n",
    "$E_{K,C,A}$ is the hourly kerosene consumption of cooling equipment in a system of continuously cooling the entire house. / 住戸全体を連続的に冷房する方式における1時間当たりの冷房設備の灯油消費量(MJ/h)  \n",
    "$E_{M,C,A}$ is the hourly primary energy consumption by other fuels of cooling equipment in a system of continuously cooling the entire house. / 住戸全体を連続的に冷房する方式における1時間当たりの冷房設備のその他の燃料による一次エネルギー消費量(MJ/h)  "
   ]
  },
  {
   "cell_type": "markdown",
   "metadata": {},
   "source": [
    "The hourly electric power $E_{E,C,A}$, gas consumption $E_{G,C,A}$, kerosene consumption $E_{K,C,A}$ and primary energy consumption $E_{M,C,A}$ by other fuels of cooling equipment in a system of continuously cooling the entire house shall be the hourly electric power $E_{E,C}$, gas consumption $E_{G,C}$, kerosene consumption $E_{K,C}$ and primary energy consumption $E_{M,C}$ by other fuels calculated by the method shown in Section 2, using the hourly processing cooling sensible heat load and processing cooling latent heat load of cooling equipment in a system of continuously cooling the entire house."
   ]
  },
  {
   "cell_type": "markdown",
   "metadata": {},
   "source": [
    "#### 1.2. System of Cooling Only Living Room / 居室のみを冷房する方式"
   ]
  },
  {
   "cell_type": "markdown",
   "metadata": {},
   "source": [
    "The hourly electric power $E_{E,C}$, gas consumption $E_{G,C}$, kerosene consumption $E_{K,C}$ and primary energy consumption $E_{M,C}$ by other fuels of cooling equipment are calculated by the equation below."
   ]
  },
  {
   "cell_type": "markdown",
   "metadata": {},
   "source": [
    "$$\n",
    "\\large\n",
    "E_{E,C} = E_{E,C,MR} +  E_{E,C,OR}\n",
    "$$\n",
    "\n",
    "$$\n",
    "\\large\n",
    "E_{G,C} = E_{G,C,MR} +  E_{G,C,OR}\n",
    "$$\n",
    "\n",
    "$$\n",
    "\\large\n",
    "E_{K,C} = E_{K,C,MR} +  E_{K,C,OR}\n",
    "$$\n",
    "\n",
    "$$\n",
    "\\large\n",
    "E_{M,C} = E_{M,C,MR} +  E_{M,C,OR}\n",
    "$$"
   ]
  },
  {
   "cell_type": "markdown",
   "metadata": {},
   "source": [
    "Where  \n",
    "$E_{E,C}$ is the hourly electric power of cooling equipment. / 1時間当たりの冷房設備の消費電力量(kWh/h)  \n",
    "$E_{G,C}$ is the hourly gas consumption of cooling equipment. / 1時間当たりの冷房設備のガス消費量(MJ/h)  \n",
    "$E_{K,C}$ is the hourly kerosene consumption of cooling equipment. / 1時間当たりの冷房設備の灯油消費量(MJ/h)  \n",
    "$E_{M,C}$ is the hourly primary energy consumption by other fuels of cooling equipment. / 1時間当たりの冷房設備のその他の燃料による一次エネルギー消費量(MJ/h)  \n",
    "$E_{E,C,MR}$ is the hourly electric power of cooling equipment installed in the main room in a system of cooling only living room. / 居室のみを冷房する方式における1時間当たりの主たる居室に設置された冷房設備の消費電力量(kWh/h)  \n",
    "$E_{G,C,MR}$ is the hourly gas consumption of cooling equipment installed in the main room in a system of cooling only living room. / 居室のみを冷房する方式における1時間当たりの主たる居室に設置された冷房設備のガス消費量(MJ/h)  \n",
    "$E_{K,C,MR}$ is the hourly kerosene consumption of cooling equipment installed in the main room in a system of cooling only living room. / 居室のみを冷房する方式における1時間当たりの主たる居室に設置された冷房設備の灯油消費量(MJ/h)  \n",
    "$E_{M,C,MR}$ is the hourly primary energy consumption by other fuels of cooling equipment installed in the main room in a system of cooling only living room. / 居室のみを冷房する方式における1時間当たりの主たる居室に設置された冷房設備のその他の燃料による一次エネルギー消費量(MJ/h)  \n",
    "$E_{E,C,OR}$ is the hourly electric power of cooling equipment installed in the other rooms in a system of cooling only living room. / 居室のみを冷房する方式における1時間当たりのその他の居室に設置された冷房設備の消費電力量(kWh/h)  \n",
    "$E_{G,C,OR}$ is the hourly gas consumption of cooling equipment installed in the other rooms in a system of cooling only living room. / 居室のみを冷房する方式における1時間当たりのその他の居室に設置された冷房設備のガス消費量(MJ/h)  \n",
    "$E_{K,C,OR}$ is the hourly kerosene consumption of cooling equipment installed in the other rooms in a system of cooling only living room. / 居室のみを冷房する方式における1時間当たりのその他の居室に設置された冷房設備の灯油消費量(MJ/h)  \n",
    "$E_{M,C,OR}$ is the hourly primary energy consumption by other fuels of cooling equipment installed in the other rooms in a system of cooling only living room. / 居室のみを冷房する方式における1時間当たりのその他の居室に設置された冷房設備のその他の燃料による一次エネルギー消費量(MJ/h)  "
   ]
  },
  {
   "cell_type": "markdown",
   "metadata": {},
   "source": [
    "The hourly electric power $E_{E,C,MR}$, gas consumption $E_{G,C,MR}$, kerosene consumption $E_{K,C,MR}$ and primary energy consumption $E_{M,C,MR}$ by other fuels of cooling equipment installed in the main room in a system of cooling only living room are calculated by the equation below."
   ]
  },
  {
   "cell_type": "markdown",
   "metadata": {},
   "source": [
    "$$\n",
    "\\large\n",
    "E_{E,C,MR} = E_{E,C,i}|_{i=1}\n",
    "$$\n",
    "\n",
    "$$\n",
    "\\large\n",
    "E_{G,C,MR} = E_{G,C,i}|_{i=1}\n",
    "$$\n",
    "\n",
    "$$\n",
    "\\large\n",
    "E_{K,C,MR} = E_{K,C,i}|_{i=1}\n",
    "$$\n",
    "\n",
    "$$\n",
    "\\large\n",
    "E_{M,C,MR} = E_{M,C,i}|_{i=1}\n",
    "$$"
   ]
  },
  {
   "cell_type": "markdown",
   "metadata": {},
   "source": [
    "Where  \n",
    "$E_{E,C,i}$ is the hourly electric power of cooling equipment installed in the heating and cooling compartment $i$. / 1時間当たりの暖冷房区画$i$に設置された冷房設備機器の消費電力量(kWh/h)  \n",
    "$E_{G,C,i}$ is the hourly gas consumption of cooling equipment installed in the heating and cooling compartment $i$. / 1時間当たりの暖冷房区画$i$に設置された冷房設備機器のガス消費量(MJ/h)  \n",
    "$E_{K,C,i}$ is the hourly kerosene consumption of cooling equipment installed in the heating and cooling compartment $i$. / 1時間当たりの暖冷房区画$i$に設置された冷房設備機器の灯油消費量(MJ/h)  \n",
    "$E_{M,C,i}$ is the hourly primary energy consumption by other fuels of cooling equipment installed in the heating and cooling compartment $i$. / 1時間当たりの暖冷房区画$i$に設置された冷房設備機器のその他の燃料による一次エネルギー消費量(MJ/h)  \n"
   ]
  },
  {
   "cell_type": "markdown",
   "metadata": {},
   "source": [
    "The hourly electric power $E_{E,C,OR}$, gas consumption $E_{G,C,OR}$, kerosene consumption $E_{K,C,OR}$ and primary energy consumption $E_{M,C,OR}$ by other fuels of cooling equipment installed in the other rooms in a system of cooling only living room are calculated by the equation below."
   ]
  },
  {
   "cell_type": "markdown",
   "metadata": {},
   "source": [
    "<br><br><br><br><br><br><br><br><br><br><br><br><br><br><br><br><br><br><br><br><br><br><br><br><br>"
   ]
  }
 ],
 "metadata": {
  "kernelspec": {
   "display_name": "Python 3",
   "language": "python",
   "name": "python3"
  },
  "language_info": {
   "codemirror_mode": {
    "name": "ipython",
    "version": 3
   },
   "file_extension": ".py",
   "mimetype": "text/x-python",
   "name": "python",
   "nbconvert_exporter": "python",
   "pygments_lexer": "ipython3",
   "version": "3.6.4"
  }
 },
 "nbformat": 4,
 "nbformat_minor": 2
}
