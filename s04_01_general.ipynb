{
 "cells": [
  {
   "cell_type": "markdown",
   "metadata": {},
   "source": [
    "# Chapter IV-I Heating and Cooling System - General / 暖冷房設備 - 全般"
   ]
  },
  {
   "cell_type": "markdown",
   "metadata": {},
   "source": [
    "## Heating System and Cooling System / 暖房方式及び冷房方式"
   ]
  },
  {
   "cell_type": "markdown",
   "metadata": {},
   "source": [
    "### 1. Heating System / 暖房方式"
   ]
  },
  {
   "cell_type": "markdown",
   "metadata": {},
   "source": [
    "The heating system is classified into two types, \"a system of continuously heating the entire house\" and \"a system of heating only the living room\".  \n",
    "In the case of \"a system of heating only the living room\", a heating facility equipment or a radiator is assumed for each of the \"main room\" and \"other room\". Depending on the assumed heating facility equipment etc., the operation method is determined as \"continuous operation\" or \"intermittent operation\" for each of the \"main room\" and \"other room\". \n",
    "Appendix A shows the heating system and the method of determining the driving method according to the type of heating equipment installed."
   ]
  },
  {
   "cell_type": "markdown",
   "metadata": {},
   "source": [
    "### 2. Cooling System / 冷房方式"
   ]
  },
  {
   "cell_type": "markdown",
   "metadata": {},
   "source": [
    "<br><br><br><br><br><br><br><br><br><br><br><br><br><br><br><br><br><br><br><br><br><br><br><br><br>"
   ]
  }
 ],
 "metadata": {
  "kernelspec": {
   "display_name": "Python 3",
   "language": "python",
   "name": "python3"
  },
  "language_info": {
   "codemirror_mode": {
    "name": "ipython",
    "version": 3
   },
   "file_extension": ".py",
   "mimetype": "text/x-python",
   "name": "python",
   "nbconvert_exporter": "python",
   "pygments_lexer": "ipython3",
   "version": "3.6.4"
  }
 },
 "nbformat": 4,
 "nbformat_minor": 2
}
