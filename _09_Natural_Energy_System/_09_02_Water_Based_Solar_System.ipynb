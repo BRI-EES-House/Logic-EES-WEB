{
 "cells": [
  {
   "cell_type": "markdown",
   "metadata": {},
   "source": [
    "# Chapter IX-II Natural Energy System - Water Based Solar System / 自然エネルギー利用設備 - 液体集熱式太陽熱利用設備"
   ]
  },
  {
   "cell_type": "markdown",
   "metadata": {},
   "source": [
    "## General / 全般"
   ]
  },
  {
   "cell_type": "markdown",
   "metadata": {},
   "source": [
    "### 1. Corrected heat collection amount / 補正集熱量"
   ]
  },
  {
   "cell_type": "markdown",
   "metadata": {},
   "source": [
    "The daily heat collection amount $L_{sun,lss}$ corrected for solar hot water supply system is calculated by the equation below, depending on equipment to be adopted."
   ]
  },
  {
   "cell_type": "markdown",
   "metadata": {},
   "source": [
    "When a solar water heater is adopted:  \n",
    "\n",
    "$$\\large\n",
    "L_{sun,lss} = L_{sun,lss,sh}\n",
    "$$\n",
    "\n",
    "When a solar system is adopted:\n",
    "\n",
    "$$\\large\n",
    "L_{sun,lss} = L_{sun,lss,ss}\n",
    "$$"
   ]
  },
  {
   "cell_type": "markdown",
   "metadata": {},
   "source": [
    "Where  \n",
    "$L_{sun,lss}$ is the daily heat collection amount corrected for solar hot water supply system. / 1日当たりの太陽熱利用給湯設備による補正集熱量(MJ/day)  \n",
    "$L_{sun,lss,sh}$ is the daily heat collection amount corrected for solar hot water supply system when a solar water heater is adopted. / 採用する設備が太陽熱温水器の場合の1日当たりの太陽熱利用給湯設備による補正集熱量(MJ/day)  \n",
    "$L_{sun,lss,ss}$ is the daily heat collection amoun corrected for solar hot water supply system when a solar system is adopted. / 採用する設備がソーラーシステムの場合の1日当たりの太陽熱利用給湯設備による補正集熱量(MJ/day)  "
   ]
  },
  {
   "cell_type": "markdown",
   "metadata": {},
   "source": [
    "### 2. Electric power of auxiliary machine / 補機の消費電力量"
   ]
  },
  {
   "cell_type": "markdown",
   "metadata": {},
   "source": [
    "The daily electric power of auxiliary machine $E_{E,lss,aux}$ is calculated by the equation below, depending on equipment to be adopted."
   ]
  },
  {
   "cell_type": "markdown",
   "metadata": {},
   "source": [
    "When a solar water heater is adopted:  \n",
    "\n",
    "$$\\large\n",
    "E_{E,lss,aux} = 0\n",
    "$$\n",
    "\n",
    "When a solar system is adopted:  \n",
    "\n",
    "$$\\large\n",
    "E_{E,lss,aux} = E_{E,ss,cp}\n",
    "$$"
   ]
  },
  {
   "cell_type": "markdown",
   "metadata": {},
   "source": [
    "Where  \n",
    "$E_{E,lss,aux}$ is the electric power of auxiliary machine. / 補機の消費電力量(kWh/day)  \n",
    "$E_{E,ss,cp}$ is the daily electric power of circulation pump of solar system. / 1日当たりのソーラーシステムの循環ポンプの消費電力量(kWh/day)  "
   ]
  },
  {
   "cell_type": "markdown",
   "metadata": {},
   "source": [
    "## Solar water heater / 太陽熱温水器"
   ]
  },
  {
   "cell_type": "markdown",
   "metadata": {},
   "source": [
    "### 1. Corrected heat collection amount / 補正集熱量"
   ]
  },
  {
   "cell_type": "markdown",
   "metadata": {},
   "source": [
    "If the periodic average solar thermal outside temperature $\\theta_{ex,s,prd,Ave}$ is equal to or more than $\\theta_{ex,lwlim,sh}$, the solar water heater can be used, the daily heat collection amount $L_{sun,lss,sh}$ corrected for the solar hot water supply system is calculated by the equation below."
   ]
  },
  {
   "cell_type": "markdown",
   "metadata": {},
   "source": [
    "When $\\theta_{ex,lwlim,sh} \\leq \\theta_{ex,s,prd,Ave}$ :  \n",
    "\n",
    "$$\\large\n",
    "L_{sun,lss,sh} = min(Q_{sh} ,  (L'_{k} + L'_{s} + L'_{w} + L'_{b1} + L'_{b2} + L'_{ba1}) \\times f_{sr,uplim,sh})\n",
    "$$\n",
    "\n",
    "When $\\theta_{ex,s,prd,Ave} < \\theta_{ex,lwlim,sh}$ :  \n",
    "\n",
    "$$\\large\n",
    "L_{sun,lss,sh} = 0\n",
    "$$"
   ]
  },
  {
   "cell_type": "markdown",
   "metadata": {},
   "source": [
    "Where  \n",
    "$f_{sr,uplim,sh}$ is the upper limit of share of solar water heater. / 太陽熱温水器の分担率上限値(-)  \n",
    "$L_{sun,lss,sh}$ is the daily heat collection amount corrected for solar hot water supply system. / 1日当たりの太陽熱利用給湯設備による補正集熱量(MJ/day)  \n",
    "$L'_{k}$ is the daily hot water supply load corrected for hot water saving by the kitchen. / 1日当たりの台所水栓における節湯補正給湯熱負荷(MJ/day)  \n",
    "$L'_{s}$ is the daily hot water supply load corrected for hot water saving by the shower. / 1日当たりの浴室シャワー水栓における節湯補正給湯熱負荷(MJ/day)  \n",
    "$L'_{w}$ is the daily hot water supply load corrected for hot water saving by the washroom. / 1日当たりの洗面水栓における節湯補正給湯熱負荷(MJ/day)  \n",
    "$L'_{b1}$ is the daily hot water supply load corrected for hot water saving by filling the bathtub manually. / 1日当たりの浴槽水栓湯はり時における節湯補正給湯熱負荷(MJ/day)  \n",
    "$L'_{b2}$ is the daily hot water supply load corrected for hot water saving by filling the bathtub automattically. / 1日当たりの浴槽自動湯はり時における節湯補正給湯熱負荷(MJ/day)  \n",
    "$L'_{ba1}$ is the daily hot water supply load corrected for hot water saving by addition of hot water to bathtub. / 1日当たりの浴槽水栓さし湯時における節湯補正給湯熱負荷(MJ/day)  \n",
    "$Q_{sh}$ is the daily reference heat collection amount. / 1日当たりの基準集熱量(MJ/day)  \n",
    "$\\theta_{ex,s,prd,Ave}$ is the periodical average solar thermal outside temperature. / 期間平均太陽熱外気温度(℃)  \n",
    "$\\theta_{ex,lwlim,sh}$ is the lower limit of outside air temperature that can use solar water heater. / 太陽熱温水器を使用できる外気温度の下限(℃)  "
   ]
  },
  {
   "cell_type": "markdown",
   "metadata": {},
   "source": [
    "The lower limit of outside air temperature $\\theta_{ex,lwlim,sh}$ that can use solar water heater is set to 5℃.  \n",
    "The upper limit of share $f_{sr,uplim,sh}$ of solar water heater is set to 0.9. "
   ]
  },
  {
   "cell_type": "markdown",
   "metadata": {},
   "source": [
    "### 2. Reference heat collection amount / 基準集熱量"
   ]
  },
  {
   "cell_type": "markdown",
   "metadata": {},
   "source": [
    " The daily reference heat collection amount $Q_{sh}$ is calculated by the equation below."
   ]
  },
  {
   "cell_type": "markdown",
   "metadata": {},
   "source": [
    "$$\\large\n",
    "Q_{sh} = Q_{sp,sh} \\times A_{sp,sh} \\times f_{sp,sh} \\times f_{s,sh}\n",
    "$$"
   ]
  },
  {
   "cell_type": "markdown",
   "metadata": {},
   "source": [
    "Where  \n",
    "$A_{sp,sh}$ is the effective heat collection area of solar heat collector. / 太陽熱集熱部の有効集熱面積(m<sup>2</sup>)  \n",
    "$Q_{sh}$ is the daily reference heat collection amount. / 1日当たりの基準集熱量(MJ/day)  \n",
    "$Q_{sp,sh}$ is the daily solar radiation amount per unit area of solar heat collector installation surface. / 1日当たりの太陽熱集熱部設置面の単位面積当たりの日射量(MJ/m<sup>2</sup> day)  \n",
    "$f_{s,sh}$ is the system efficiency of solar hot water supply system. / 太陽熱利用給湯設備のシステム効率(-)  \n",
    "$f_{sp,sh}$ is the collecting efficiency of solar heat collector. / 太陽熱集熱部の集熱効率(-)  "
   ]
  },
  {
   "cell_type": "markdown",
   "metadata": {},
   "source": [
    "The collecting efficiency $f_{sp,sh}$ of solar heat collector is set to 0.4.  \n",
    "The system efficiency $f_{s,sh}$ of solar hot water supply system is set to 0.85.  "
   ]
  },
  {
   "cell_type": "markdown",
   "metadata": {},
   "source": [
    "The effective heat collection area $A_{sp,sh}$ of solar heat collector is the value calculated by the method defined in Section 8.6 \"aperture area\" of ISO 9488,  or the value obtained by multiplying by 0.85 the total area of collecting unit or total area of collecting hot water storage unit defined in IS A 4111.  "
   ]
  },
  {
   "cell_type": "markdown",
   "metadata": {},
   "source": [
    "The daily solar radiation amount $Q_{sp,sh}$ per unit area of solar heat collector installation surface is calculated by the equation below.  "
   ]
  },
  {
   "cell_type": "markdown",
   "metadata": {},
   "source": [
    "$$\\large\n",
    "Q_{sp,sh} = \\sum_{t = 0}^{23} ( I_{s,sp,sh} \\times 3600 \\times 10^{-6} )\n",
    "$$"
   ]
  },
  {
   "cell_type": "markdown",
   "metadata": {},
   "source": [
    "Where  \n",
    "$I_{s,sp,sh}$ is the average solar radiation per unit area of solar heat collector installation surface. / 太陽熱集熱部設置面の単位面積当たりの平均日射量(W/m<sup>2</sup>)  \n",
    "$Q_{sp,sh}$ is the daily solar radiation amount per unit area of solar heat collector installation surface. / 1日当たりの太陽熱集熱部設置面の単位面積当たりの日射量(MJ/(m<sup>2</sup>・day))  "
   ]
  },
  {
   "cell_type": "markdown",
   "metadata": {},
   "source": [
    "The average solar radiation $I_{s,sp,sh}$ per unit area of solar heat collector installation surface is calculated according to Appendix A of chapter 11, Section 2, with the azimuth angle $P_{\\alpha,sp,sh}$ and the inclination angle $P_{\\beta,sp,sh}$ of solar heat collector installation surface, and the \"yearly solar radiation area classification\"."
   ]
  },
  {
   "cell_type": "markdown",
   "metadata": {},
   "source": [
    "### 3. Periodical average solar thermal outside temperature / 期間平均太陽熱外気温度"
   ]
  },
  {
   "cell_type": "markdown",
   "metadata": {},
   "source": [
    "The periodical average solar thermal outside temperature $\\theta_{ex,s,prd,Ave}$ is calculated by the equation below."
   ]
  },
  {
   "cell_type": "markdown",
   "metadata": {},
   "source": [
    "$$\\large\n",
    "\\theta_{ex,s,prd,Ave} = \\sum_{i = 0}^{30} \\theta_{ex,s,Ave - 15 + i} \\big/ 31\n",
    "$$"
   ]
  },
  {
   "cell_type": "markdown",
   "metadata": {},
   "source": [
    "Where  \n",
    "$\\theta_{ex,s,prd,Ave}$ is the periodical average solar thermal outside temperature. / 期間平均太陽熱外気温度(℃)  \n",
    "$\\theta_{ex,s,Ave}$ is the daily average solar thermal outside temperature. / 日平均太陽熱外気温度(℃)  "
   ]
  },
  {
   "cell_type": "markdown",
   "metadata": {},
   "source": [
    "The daily average solar thermal outside temperature $\\theta_{ex,s,Ave}$ is calculated by the equation below."
   ]
  },
  {
   "cell_type": "markdown",
   "metadata": {},
   "source": [
    "$$\\large\n",
    "\\theta_{ex,s,Ave} = \\sum_{t = 0}^{23} \\theta_{ex,s} \\big/ 24\n",
    "$$"
   ]
  },
  {
   "cell_type": "markdown",
   "metadata": {},
   "source": [
    "Where  \n",
    "$\\theta_{ex,s,Ave}$ is the daily average solar thermal outside temperature. / 日平均太陽熱外気温度(℃)  \n",
    "$\\theta_{ex,s}$ is the solar thermal outside temperature. / 太陽熱外気温度(℃)  "
   ]
  },
  {
   "cell_type": "markdown",
   "metadata": {},
   "source": [
    "The solar thermal outside temperature $\\theta_{ex,s}$ is determined according to the \"yearly solar radiation area classification\" defined in Chapter 11, Section 2."
   ]
  },
  {
   "cell_type": "markdown",
   "metadata": {},
   "source": [
    "## Solar system / ソーラーシステム"
   ]
  },
  {
   "cell_type": "markdown",
   "metadata": {},
   "source": [
    "### 1. Corrected heat collection amount / 補正集熱量"
   ]
  },
  {
   "cell_type": "markdown",
   "metadata": {},
   "source": [
    "The daily heat collection amount $L_{sun,lss,ss}$ corrected for solar hot water supply system is calculated by the equation below."
   ]
  },
  {
   "cell_type": "markdown",
   "metadata": {},
   "source": [
    "$$\\large\n",
    "L_{sun,lss,sh} = min(L_{tnk,ss} ,  (L'_{k} + L'_{s} + L'_{w} + L'_{b1} + L'_{b2} + L'_{ba1}) \\times f_{sr,uplim,ss})\n",
    "$$"
   ]
  },
  {
   "cell_type": "markdown",
   "metadata": {},
   "source": [
    "Where  \n",
    "$f_{sr,uplim,ss}$ is the upper limit of share of solar system. / ソーラーシステムの分担率上限値(-)  \n",
    "$L_{sun,lss,ss}$ is the daily heat collection amount corrected for solar hot water supply system. / 1日当たりの太陽熱利用給湯設備による補正集熱量(MJ/day)  \n",
    "$L_{tnk,ss}$ is the daily heat collection amount corrected for upper limit of tank heat storage amount of solar system. / 1日当たりのソーラーシステムのタンク蓄熱量の上限による補正集熱量(MJ/day)  \n",
    "$L'_{k}$ is the daily hot water supply load corrected for hot water saving by the kitchen. / 1日当たりの台所水栓における節湯補正給湯熱負荷(MJ/day)  \n",
    "$L'_{s}$ is the daily hot water supply load corrected for hot water saving by the shower. / 1日当たりの浴室シャワー水栓における節湯補正給湯熱負荷(MJ/day)  \n",
    "$L'_{w}$ is the daily hot water supply load corrected for hot water saving by the washroom. / 1日当たりの洗面水栓における節湯補正給湯熱負荷(MJ/day)  \n",
    "$L'_{b1}$ is the daily hot water supply load corrected for hot water saving by filling the bathtub manually. / 1日当たりの浴槽水栓湯はり時における節湯補正給湯熱負荷(MJ/day)  \n",
    "$L'_{b2}$ is the daily hot water supply load corrected for hot water saving by filling the bathtub automattically. / 1日当たりの浴槽自動湯はり時における節湯補正給湯熱負荷(MJ/day)  \n",
    "$L'_{ba1}$ is the daily hot water supply load corrected for hot water saving by addition of hot water to bathtub. / 1日当たりの浴槽水栓さし湯時における節湯補正給湯熱負荷(MJ/day)  "
   ]
  },
  {
   "cell_type": "markdown",
   "metadata": {},
   "source": [
    "The upper limit of share $f_{sr,uplim,sh}$ of solar water heater is set to 0.9. "
   ]
  },
  {
   "cell_type": "markdown",
   "metadata": {},
   "source": [
    "The daily heat collection amount $L_{tnk,ss}$ corrected for upper limit of tank heat storage amount of solar system is calculated by the equation below."
   ]
  },
  {
   "cell_type": "markdown",
   "metadata": {},
   "source": [
    "$$\\large\n",
    "L_{tnk,ss} = min(Q_{ss} ,  HC_{tnk,ss} \\times \\alpha_{tnk,ss})\n",
    "$$"
   ]
  },
  {
   "cell_type": "markdown",
   "metadata": {},
   "source": [
    "Where  \n",
    "$L_{tnk,ss}$ is the daily heat collection amount corrected for upper limit of tank heat storage amount of solar system. / 1日当たりのソーラーシステムのタンク蓄熱量の上限による補正集熱量(MJ/day)  \n",
    "$HC_{tnk,ss}$ is the upper limit of tank heat storage of solar system. / ソーラーシステムのタンク蓄熱量の上限(MJ)  \n",
    "$Q_{ss}$ is the daily reference heat collection amount. / 1日当たりの基準集熱量(MJ/day)  \n",
    "$\\alpha_{tnk,ss}$ is the tank effective utilization rate of solar system. / ソーラーシステムのタンク有効利用率(1/day)  "
   ]
  },
  {
   "cell_type": "markdown",
   "metadata": {},
   "source": [
    "The tank effective utilization rate $\\alpha_{tnk,ss}$ of solar system is equal to 1.0.  "
   ]
  },
  {
   "cell_type": "markdown",
   "metadata": {},
   "source": [
    "The upper limit of tank heat storage of solar system $HC_{tnk,ss}$ is calculated by the equation below."
   ]
  },
  {
   "cell_type": "markdown",
   "metadata": {},
   "source": [
    "$$\\large\n",
    "HC_{tnk,ss} = (\\theta_{tnk,ss} - \\theta_{wtr}) \\times W_{tnk,ss} \\times 4.186 \\times 10^{-3}\n",
    "$$"
   ]
  },
  {
   "cell_type": "markdown",
   "metadata": {},
   "source": [
    "Where  \n",
    "$HC_{tnk,ss}$ is the upper limit of tank heat storage of solar system. / ソーラーシステムのタンク蓄熱量の上限(MJ)  \n",
    "$W_{tnk,ss}$ is the tank capacity of solar system. / ソーラーシステムのタンク容量(L)  \n",
    "$\\theta_{tnk,ss}$ is the temperature inside tank of solar system. / ソーラーシステムのタンク内温度(℃)  \n",
    "$\\theta_{wtr}$ is the daily average water supply temperature. / 日平均給水温度(℃)  "
   ]
  },
  {
   "cell_type": "markdown",
   "metadata": {},
   "source": [
    "The temperature $\\theta_{tnk,ss}$ inside tank of solar system is set to 65℃."
   ]
  },
  {
   "cell_type": "markdown",
   "metadata": {},
   "source": [
    "The tank capacity $W_{tnk,ss}$ of solar system is defined by Appendix A."
   ]
  },
  {
   "cell_type": "markdown",
   "metadata": {},
   "source": [
    "### 2. Reference heat collection amount / 基準集熱量"
   ]
  },
  {
   "cell_type": "markdown",
   "metadata": {},
   "source": [
    "The daily reference heat collection amount $Q_{ss}$ is calculated by the equation below."
   ]
  },
  {
   "cell_type": "markdown",
   "metadata": {},
   "source": [
    "$$\\large\n",
    "Q_{ss} = Q_{sp,ss} \\times A_{sp,ss} \\times f_{sp,ss} \\times f_{s,ss}\n",
    "$$"
   ]
  },
  {
   "cell_type": "markdown",
   "metadata": {},
   "source": [
    "Where  \n",
    "$A_{sp,ss}$ is the effective heat collection area of solar heat collector. / 太陽熱集熱部の有効集熱面積(m<sup>2</sup>)  \n",
    "$Q_{ss}$ is the daily reference heat collection amount. / 1日当たりの基準集熱量(MJ/day)  \n",
    "$Q_{sp,ss}$ is the daily solar radiation amount per unit area of solar heat collector installation surface. / 1日当たりの太陽熱集熱部設置面の単位面積当たりの日射量(MJ/(m<sup>2</sup>・day))  \n",
    "$f_{s,ss}$ is the system efficiency of solar hot water supply system. / 太陽熱利用給湯設備のシステム効率(-)  \n",
    "$f_{sp,ss}$ is the collecting efficiency of solar heat collector. / 太陽熱集熱部の集熱効率(-)  "
   ]
  },
  {
   "cell_type": "markdown",
   "metadata": {},
   "source": [
    "The collecting efficiency $f_{sp,ss}$ of solar heat collector is set to 0.4.  \n",
    "The system efficiency $f_{s,ss}$ of solar hot water supply system is set to 0.85."
   ]
  },
  {
   "cell_type": "markdown",
   "metadata": {},
   "source": [
    "The effective heat collection area $A_{sp,ss}$ of solar heat collector is the value calculated by the method defined in Section 8.6 \"aperture area\" of ISO 9488,  or the value obtained by multiplying by 0.85 the total area of collector defined in IS A 4111.  \n"
   ]
  },
  {
   "cell_type": "markdown",
   "metadata": {},
   "source": [
    "The daily solar radiation amount $Q_{sp,ss}$ per unit area of solar heat collector installation surface is calculated by the equation below.  "
   ]
  },
  {
   "cell_type": "markdown",
   "metadata": {},
   "source": [
    "$$\\large\n",
    "Q_{sp,ss} = \\sum_{t = 0}^{23} ( I_{s,sp,ss} \\times 3600 \\times 10^{-6} )\n",
    "$$"
   ]
  },
  {
   "cell_type": "markdown",
   "metadata": {},
   "source": [
    "Where  \n",
    "$I_{s,sp,ss}$ is the average solar radiation per unit area of solar heat collector installation surface. / 太陽熱集熱部設置面の単位面積当たりの平均日射量(W/m<sup>2</sup>)  \n",
    "$Q_{sp,ss}$ is the daily solar radiation amount per unit area of solar heat collector installation surface. / 1日当たりの太陽熱集熱部設置面の単位面積当たりの日射量(MJ/m<sup>2</sup> day)  "
   ]
  },
  {
   "cell_type": "markdown",
   "metadata": {},
   "source": [
    "The average solar radiation $I_{s,sp,ss}$ per unit area of solar heat collector installation surface is calculated according to Appendix A of chapter 11, Section 2, using the azimuth angle $P_{\\alpha,sp,ss}$ and the inclination angle $P_{\\beta,sp,ss}$ of solar heat collector installation surface."
   ]
  },
  {
   "cell_type": "markdown",
   "metadata": {},
   "source": [
    "### 3. Electric power of circulation pump  / 循環ポンプの消費電力量"
   ]
  },
  {
   "cell_type": "markdown",
   "metadata": {},
   "source": [
    "The daily electric power $E_{E,ss,cp}$ of circulation pump of solar system is calculated by the equation below."
   ]
  },
  {
   "cell_type": "markdown",
   "metadata": {},
   "source": [
    "$$\\large\n",
    "E_{E,ss,cp} = P_{cp,ss} \\times t_{cp,ss} \\times 10^{-3}\n",
    "$$"
   ]
  },
  {
   "cell_type": "markdown",
   "metadata": {},
   "source": [
    "Where  \n",
    "$E_{E,ss,cp}$ is the daily electric power of circulation pump of solar system. / 1日当たりのソーラーシステムの循環ポンプの消費電力量(kWh/day)  \n",
    "$P_{cp,ss}$ is the electric power of circulation pump of solar system. / ソーラーシステムの循環ポンプの消費電力(W)  \n",
    "$t_{cp,ss}$ is the daily operating time of circulation pump of solar system. / 1日当たりのソーラーシステムの循環ポンプの稼働時間(h/day)  "
   ]
  },
  {
   "cell_type": "markdown",
   "metadata": {},
   "source": [
    "The electric power $P_{cp,ss}$ of circulation pump of solar system shall be chosen that fits the applicable conditions in Table 3."
   ]
  },
  {
   "cell_type": "markdown",
   "metadata": {},
   "source": [
    "<center>**Table 3. The electric power of circulation pump of solar system $P_{cp,ss}$ and the applicable condition**</center>\n",
    "\n",
    "|Item|Applicable condition|Electric power of circulation pump $P_{cp,ss}$|\n",
    "|-|-|-|\n",
    "|Power saving type<br>省消費電力型|No applicable pump at the present time<br>現時点では該当するポンプがない|40|\n",
    "|Other models<br>上記以外の機種|All pumps<br>すべてのポンプ|80|"
   ]
  },
  {
   "cell_type": "markdown",
   "metadata": {},
   "source": [
    "### 4. Operating time of circulation pump / 循環ポンプの稼働時間"
   ]
  },
  {
   "cell_type": "markdown",
   "metadata": {},
   "source": [
    "The daily operating time $t_{cp,ss}$ of circulation pump of solar system is calculated by the equation below."
   ]
  },
  {
   "cell_type": "markdown",
   "metadata": {},
   "source": [
    "$$\\large\n",
    "t_{cp,ss} = \\sum_{t = 0}^{23} t_{cp,ss,t}\n",
    "$$"
   ]
  },
  {
   "cell_type": "markdown",
   "metadata": {},
   "source": [
    "Where  \n",
    "$t_{cp,ss}$ is the daily operating time of circulation pump of solar system. / 1日当たりのソーラーシステムの循環ポンプの稼働時間(h/day)  \n",
    "$t_{cp,ss,t}$ is the hourly operating time of circulation pump of solar system at time $t$. / 時刻$t$における1時間当たりのソーラーシステムの循環ポンプの稼働時間(h/h)  "
   ]
  },
  {
   "cell_type": "markdown",
   "metadata": {},
   "source": [
    "When the average solar radiation $I_{s,sp,ss,t}$ per unit area of solar heat collector installation surface at time $t$ is equal to or more than $I_{s,lwlim,cp,ss}$, the circulation pump of solar system operates unit time, then the hourly operating time $t_{cp,ss,t}$ of the pump at time $t$ is calculated by the equation below."
   ]
  },
  {
   "cell_type": "markdown",
   "metadata": {},
   "source": [
    "When $I_{s,lwlim,cp,ss} \\leq I_{s,sp,ss,t}$ :  \n",
    "\n",
    "$$\\large\n",
    "t_{cp,ss,t} = 1\n",
    "$$\n",
    "\n",
    "When $I_{s,sp,ss,t} < I_{s,lwlim,cp,ss}$ :  \n",
    "\n",
    "$$\\large\n",
    "t_{cp,ss,t} = 0\n",
    "$$"
   ]
  },
  {
   "cell_type": "markdown",
   "metadata": {},
   "source": [
    "Where  \n",
    "$I_{s,lwlim,cp,ss}$ is the lower limit of solar radiation per unit area of solar heat collector installation surface on which circulation pump operates. / 循環ポンプが稼働する太陽熱集熱部設置面の単位面積当たりの日射量の下限(W/m<sup>2</sup>)  \n",
    "$I_{s,sp,ss,t}$ is the average solar radiation per unit area of solar heat collector installation surface at time $t$. / 時刻$t$における太陽熱集熱部設置面の単位面積当たりの平均日射量(W/m<sup>2</sup>)  \n",
    "$t_{cp,ss,t}$ is the hourly operating time of circulation pump of solar system at time $t$. / 時刻$t$における1時間当たりのソーラーシステムの循環ポンプの稼働時間(h/h)  "
   ]
  },
  {
   "cell_type": "markdown",
   "metadata": {},
   "source": [
    "We set 150W/m<sup>2</sup> to the lower limit $I_{s,lwlim,cp,ss}$ of solar radiation per unit area of solar heat collector installation surface on which circulation pump operates."
   ]
  }
 ],
 "metadata": {
  "kernelspec": {
   "display_name": "Python 3",
   "language": "python",
   "name": "python3"
  },
  "language_info": {
   "codemirror_mode": {
    "name": "ipython",
    "version": 3
   },
   "file_extension": ".py",
   "mimetype": "text/x-python",
   "name": "python",
   "nbconvert_exporter": "python",
   "pygments_lexer": "ipython3",
   "version": "3.6.4"
  }
 },
 "nbformat": 4,
 "nbformat_minor": 2
}
