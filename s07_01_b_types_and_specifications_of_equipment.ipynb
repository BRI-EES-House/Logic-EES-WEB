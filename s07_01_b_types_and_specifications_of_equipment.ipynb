{
 "cells": [
  {
   "cell_type": "code",
   "execution_count": null,
   "metadata": {},
   "outputs": [],
   "source": [
    "import copy"
   ]
  },
  {
   "cell_type": "markdown",
   "metadata": {},
   "source": [
    "## 付録 B 給湯機を設置しない場合に評価において想定する機器の種類と仕様 / Appendix B Types and specifications of equipment assumed in the evaluation when the water heater is not installed "
   ]
  },
  {
   "cell_type": "markdown",
   "metadata": {},
   "source": [
    "<div style=\"text-align: center;font-weight: bold;\">表  給湯機を設置しない場合の評価において想定する機器<br>Table: Equipment assumed in the evaluation when the water heater is not installed</div>\n",
    "\n",
    "<table>\n",
    "<thead>\n",
    "<tr>\n",
    "\t<th>地域の区分<br>Segmentation of area</th>\n",
    "\t<th>評価において想定される機器<br>Equipment assumed in evaluation</th>\n",
    "\t<th>効率<br>efficiency</th>\n",
    "</tr>\n",
    "</thead>\n",
    "<tbody>\n",
    "<tr>\n",
    "\t<th>1</th>\n",
    "\t<td>石油給湯機※<br>Oil water heater</td>\n",
    "\t<td>0.813</td>\n",
    "</tr>\n",
    "<tr>\n",
    "\t<th>2</th>\n",
    "\t<td>石油給湯機※<br>Oil water heater</td>\n",
    "\t<td>0.813</td>\n",
    "</tr>\n",
    "<tr>\n",
    "\t<th>3</th>\n",
    "\t<td>石油給湯機※<br>Oil water heater</td>\n",
    "\t<td>0.813</td>\n",
    "</tr>\n",
    "<tr>\n",
    "\t<th>4</th>\n",
    "\t<td>石油給湯機※<br>Oil water heater</td>\n",
    "\t<td>0.813</td>\n",
    "</tr>\n",
    "<tr>\n",
    "\t<th>5</th>\n",
    "\t<td>ガス給湯機※<br>Gas water heater</td>\n",
    "\t<td>0.782</td>\n",
    "</tr>\n",
    "<tr>\n",
    "\t<th>6</th>\n",
    "\t<td>ガス給湯機※<br>Gas water heater</td>\n",
    "\t<td>0.782</td>\n",
    "</tr>\n",
    "<tr>\n",
    "\t<th>7</th>\n",
    "\t<td>ガス給湯機※<br>Gas water heater</td>\n",
    "\t<td>0.782</td>\n",
    "</tr>\n",
    "<tr>\n",
    "\t<th>8</th>\n",
    "\t<td>ガス給湯機※<br>Gas water heater</td>\n",
    "\t<td>0.782</td>\n",
    "</tr>\n",
    "</tbody>\n",
    "</table>\n"
   ]
  },
  {
   "cell_type": "markdown",
   "metadata": {},
   "source": [
    "※ふろ機能の種類は「ふろ給湯機（追焚あり）」とする。 "
   ]
  },
  {
   "cell_type": "markdown",
   "metadata": {},
   "source": [
    "※ The type of bath function is \"Furo hot water heater (with memorial)\"."
   ]
  },
  {
   "cell_type": "code",
   "execution_count": 28,
   "metadata": {},
   "outputs": [],
   "source": [
    "def get_virtual_hotwater(region, HW):\n",
    "    \"\"\"\n",
    "\n",
    "    :param region: 省エネルギー地域区分\n",
    "    :type region: int\n",
    "    :param HW: 給湯機の仕様\n",
    "    :type HW: dict\n",
    "    :return: 給湯機の仕様\n",
    "    :rtype: dict\n",
    "    \"\"\"\n",
    "    if HW is None:\n",
    "        return None\n",
    "\n",
    "    # その他または設置しない場合\n",
    "    if HW['hw_type'] in ['その他', '設置しない', '不明']:\n",
    "        default = get_default_hw_type(region)\n",
    "        virt = copy.deepcopy(HW)\n",
    "        virt['hw_type'] = default[0]\n",
    "        virt['e_rtd'] = default[1]\n",
    "        return virt\n",
    "    else:\n",
    "        return HW\n"
   ]
  },
  {
   "cell_type": "code",
   "execution_count": null,
   "metadata": {},
   "outputs": [],
   "source": [
    "# 給湯機を設置しない場合に評価において想定する機器の種類と仕様\n",
    "def get_default_hw_type(region):\n",
    "    \"\"\"\n",
    "    :param region: 省エネルギー地域区分\n",
    "    :return: 給湯機を設置しない場合に評価において想定する機器の種類と効率\n",
    "    \"\"\"\n",
    "    return get_table_b_1()[region - 1]\n"
   ]
  },
  {
   "cell_type": "code",
   "execution_count": null,
   "metadata": {},
   "outputs": [],
   "source": [
    "def get_table_b_1():\n",
    "    \"\"\"表 B.1 給湯機を設置しない場合の評価において想定する機器\n",
    "\n",
    "    :return: 給湯機を設置しない場合の評価において想定する機器\n",
    "    :rtype: list\n",
    "    \"\"\"\n",
    "    table_b_1 = [\n",
    "        ('石油従来型給湯機', 0.813),\n",
    "        ('石油従来型給湯機', 0.813),\n",
    "        ('石油従来型給湯機', 0.813),\n",
    "        ('石油従来型給湯機', 0.813),\n",
    "        ('ガス従来型給湯機', 0.782),\n",
    "        ('ガス従来型給湯機', 0.782),\n",
    "        ('ガス従来型給湯機', 0.782),\n",
    "        ('ガス従来型給湯機', 0.782),\n",
    "    ]\n",
    "\n",
    "    return table_b_1\n"
   ]
  }
 ],
 "metadata": {
  "kernelspec": {
   "display_name": "Python 3",
   "language": "python",
   "name": "python3"
  },
  "language_info": {
   "codemirror_mode": {
    "name": "ipython",
    "version": 3
   },
   "file_extension": ".py",
   "mimetype": "text/x-python",
   "name": "python",
   "nbconvert_exporter": "python",
   "pygments_lexer": "ipython3",
   "version": "3.8.5"
  }
 },
 "nbformat": 4,
 "nbformat_minor": 2
}
