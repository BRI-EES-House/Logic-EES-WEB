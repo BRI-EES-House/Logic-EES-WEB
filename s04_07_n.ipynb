{
 "cells": [
  {
   "cell_type": "markdown",
   "metadata": {},
   "source": [
    "使用許諾条件\n",
    "\n",
    "①\t設計一次エネルギー消費量算定法に基づく計算方法をPythonによりコーディングし、Jupyter notebook形式で保存したファイル（以下、本ファイルと呼ぶ）の著作権は、一般社団法人日本サステナブル建築協会に帰属します。\n",
    "Copyright©2019. 一般社団法人日本サステナブル建築協会\n",
    "All rights reserved. \n",
    "\n",
    "②\t本ファイルは、住戸の設計一次エネルギー消費量算定方法に係る「平成28年省エネルギー基準に準拠したエネルギー消費性能の評価に関する技術情報（住宅）2.1算定方法（第四章第七節 温水暖房）」に示す計算方法に基づき、国土交通省国土技術政策総合研究所・国立研究開発法人建築研究所、株式会社ユーワークス、株式会社住環境計画研究所が作成したものです。\n",
    "\n",
    "③\t本ファイルは、計算方法に示す計算過程の確認及び調査研究等に活用することを目的として作成されたものであり、一般社団法人日本サステナブル建築協会は著作権について放棄はしませんが、使用する各人の自己責任において仕様を変更することを妨げるものではありません。ただし、本ファイルによる計算結果を住宅の省エネルギー基準で規定する設計一次エネルギー消費量の結果として公的な申請に用いることはできません。\n",
    "\n",
    "④\t本ファイルを変更するかしないかを問わず、以下の条件を満たす場合に限り、頒布および使用が許可されます。\n",
    "1.\t頒布物の付属ドキュメント等の資料に、上記の著作権表示、本条件一覧、および下記免責条項を含めること。\n",
    "2.\t書面による特別の許可なしに、本ファイルから派生した製品の宣伝または販売の促進に、一般社団法人日本サステナブル建築協会、国土技術政策総合研究所・国立研究開発法人建築研究所および株式会社ユーワークス、株式会社住環境計画研究所の名前またはコントリビューターの名前を使用してはならない。\n",
    "\n",
    "⑤\t本ファイルは、著作権者およびコントリビューターによって「現状のまま」提供されており、明示黙示を問わず、商業的な使用可能性、および特定の目的に対する適合性に関する暗黙の保証も含め、またそれに限定されない、いかなる保証もありません。著作権もコントリビューターも、事由のいかんを問わず、損害発生の原因いかんを問わず、かつ責任の根拠が契約であるか厳格責任であるか（過失その他の）不法行為であるかを問わず、仮にそのような損害が発生する可能性を知らされていたとしても、本ファイルの使用によって発生した（代用品または代用サービスの調達、使用の喪失、データの喪失、利益の喪失、業務の中断も含め、またそれに限定されない）直接損害、間接損害、偶発的な損害、特別損害、懲罰的損害、または結果損害について、一切の責任を負わないものとします。\n",
    "\n"
   ]
  },
  {
   "cell_type": "code",
   "execution_count": null,
   "metadata": {},
   "outputs": [],
   "source": [
    "import numpy as np\n",
    "from s04_07_common import get_Q_out_H_hs_d_t\n",
    "from s04_08_a_heatpump_cycle import calc_e_ref_H_th\n",
    "import s04_07_h_max_capacity_of_hot_water_floor_heating as appendix_H"
   ]
  },
  {
   "cell_type": "markdown",
   "metadata": {},
   "source": [
    "## 付録N 地中熱ヒートポンプ温水暖房機 / Appendix N Geothermal heat pump hot water heater"
   ]
  },
  {
   "cell_type": "markdown",
   "metadata": {},
   "source": [
    "### N.1 適用範囲 / Scope of application"
   ]
  },
  {
   "cell_type": "markdown",
   "metadata": {},
   "source": [
    "省略"
   ]
  },
  {
   "cell_type": "markdown",
   "metadata": {},
   "source": [
    "ommision"
   ]
  },
  {
   "cell_type": "markdown",
   "metadata": {},
   "source": [
    "### N.2 記号及び単位 / Symbol and unit"
   ]
  },
  {
   "cell_type": "markdown",
   "metadata": {},
   "source": [
    "省略"
   ]
  },
  {
   "cell_type": "markdown",
   "metadata": {},
   "source": [
    "ommision"
   ]
  },
  {
   "cell_type": "markdown",
   "metadata": {},
   "source": [
    "### N.3 暖房エネルギー消費量 / Heating energy consumption"
   ]
  },
  {
   "cell_type": "markdown",
   "metadata": {},
   "source": [
    "#### N.3.1 消費電力量 / Power consumption"
   ]
  },
  {
   "cell_type": "markdown",
   "metadata": {},
   "source": [
    "$$\\large\n",
    "E_{E,hs,d,t} = \\left\\{ \\begin{array}{ll}\n",
    "    E_{comp,hs,d,t}+E_{pump,hs,d,t}+E_{aux,hs,d,t} &(q_{out,H,hs,d,t}\\neq0)\\\\ \n",
    "    0 &(q_{out,H,hs,d,t}=0)\\\\ \n",
    "    \\end{array}\n",
    "\\right.\n",
    "$$"
   ]
  },
  {
   "cell_type": "markdown",
   "metadata": {},
   "source": [
    "$E_{aux,hs,d,t}$：日付$d$の時刻$t$における 1 時間当たりの補機の消費電力量(kWh/h) / Electric power consumption of auxiliary equipment per hour at time $t$ on date $d$  \n",
    "$E_{comp,hs,d,t}$：日付$d$の時刻$t$における 1 時間当たりの圧縮機の消費電力量(kWh/h) / Compressor power consumption per hour at time $t$ on date $d$  \n",
    "$E_{E,hs,d,t}$：日付$d$の時刻$t$における 1 時間当たりの温水暖房用熱源機の消費電力量(kWh/h) / Electricity consumption of the heat source machine for hot water heating per hour at time $t$ on date $d$  \n",
    "$E_{pump,hs,d,t}$：日付$d$の時刻$t$における1 時間当たりのポンプの消費電力量(kWh/h) / Hourly pump power consumption at time $t$ on date $d$  "
   ]
  },
  {
   "cell_type": "code",
   "execution_count": null,
   "metadata": {},
   "outputs": [],
   "source": [
    "def calc_E_E_hs_d_t(Q_dmd_H_hs_d_t, Theta_ex_a_Ave, Theta_ex_d_Ave_d, Theta_ex_H_Ave, Theta_SW_d_t, q_max_hs, L_H_x_t_i, L_CS_x_t_i, L_CL_x_t_i, HeatExchangerType):\n",
    "    \"\"\" 日付dの時刻tにおける1時間当たりの温水暖房用熱源機の消費電力量 (1)\n",
    "\n",
    "    :param Q_dmd_H_hs_d_t: 1時間当たりの熱源機の熱需要 (MJ/h)\n",
    "    :type Q_dmd_H_hs_d_t: ndarray\n",
    "    :param Theta_ex_a_Ave: 年平均外気温度 (℃)\n",
    "    :type Theta_ex_a_Ave: float\n",
    "    :param Theta_ex_d_Ave_d: 日付dにおける日平均外気温度 (℃)\n",
    "    :type Theta_ex_d_Ave_d: ndarray\n",
    "    :param Theta_ex_H_Ave: 暖房期における期間平均外気温度（℃）\n",
    "    :type Theta_ex_H_Ave: float\n",
    "    :param Theta_SW_d_t: 往き温水温度 (℃)\n",
    "    :type Theta_SW_d_t: ndarray\n",
    "    :param q_max_hs: 熱源機の最大暖房能力 ⒲\n",
    "    :type q_max_hs: float\n",
    "    :param L_H_x_t_i: 暖冷房区画iの1時間当たりの暖房負荷\n",
    "    :type L_H_x_t_i: ndarray\n",
    "    :param L_CS_x_t_i: 日付dの時刻tにおける暖冷房区画iの冷房顕熱負荷 (MJ/h)\n",
    "    :type L_CS_x_t_i: ndarray\n",
    "    :param L_CL_x_t_i: 日付dの時刻tにおける暖冷房区画iの冷房潜熱負荷 (MJ/h)\n",
    "    :type L_CL_x_t_i: ndarray\n",
    "    :param HeatExchangerType: 熱交換器タイプ (-)\n",
    "    :type HeatExchangerType: str\n",
    "    :return: 1時間当たりの熱源機の消費電力量 (kWh/h)\n",
    "    :rtype: ndarray\n",
    "    \"\"\"\n",
    "    # ---------- 地中熱交換器からの戻り熱源水の日平均温度 ----------\n",
    "\n",
    "    # 1日当たりの冷房全熱負荷の年間最大値（MJ/d）(20c)\n",
    "    L_max_C = get_L_max_C(L_CS_x_t_i, L_CL_x_t_i)\n",
    "\n",
    "    # 1日当たりの暖房負荷の年間最大値（MJ/d）(20b)\n",
    "    L_max_H = get_L_max_H(L_H_x_t_i)\n",
    "\n",
    "    # 1日当たりの暖房負荷の年間最大値と1日当たりの冷房負荷の年間最大値の和に対する、これらの差の比（-）(20a)\n",
    "    R_L_max = get_R_L_max(L_max_H, L_max_C)\n",
    "\n",
    "    # 地中熱交換器からの戻り熱源水温度を求める式の係数（-）(19)\n",
    "    K_gsRW_H = calc_K_gsRW_H(R_L_max, HeatExchangerType)\n",
    "\n",
    "    # 暖房期における地中熱交換器からの戻り熱源水の期間平均温度と年平均外気温度との差（℃）(18)\n",
    "    Delta_Theta_gsRW_H = calc_Delta_Theta_gsRW_H(R_L_max, HeatExchangerType)\n",
    "\n",
    "    # 日付dにおける地中熱交換器からの戻り熱源水の日平均温度（℃）(17)\n",
    "    Theta_gsRW_d_ave_d = get_Theta_gsRW_d_ave_d(K_gsRW_H, Theta_ex_d_Ave_d, Theta_ex_H_Ave, Theta_ex_a_Ave, Delta_Theta_gsRW_H)\n",
    "\n",
    "    # ---------- 地中からの戻り熱源水温度および送水温度による補正後の最大暖房能力 ----------\n",
    "\n",
    "    # 日付dの時刻tにおける1時間当たりの温水暖房用熱源機の最大暖房出力（MJ/h）(16)\n",
    "    q_max_H_hs_JRA = calc_q_max_H_hs_JRA(q_max_hs)\n",
    "\n",
    "    # ---------- 温水暖房用熱源機内の平均放熱損失 ----------\n",
    "\n",
    "    # 日付dの時刻tにおける温水暖房用の熱源機内部の平均放熱損失 (kw) (N.9)\n",
    "    q_loss_H_hs_d_t = get_q_loss_H_hs_d_t()\n",
    "\n",
    "    # ---------- 温水暖房用熱源機の平均暖房出力 ----------\n",
    "\n",
    "    # 日付dの時刻tにおける1時間当たりの温水暖房用熱源機の最大暖房出力（MJ/h）(15)\n",
    "    Q_max_H_hs_d_t = calc_Q_max_H_hs_d_t(Theta_SW_d_t, Theta_ex_d_Ave_d, Theta_ex_H_Ave, Theta_ex_a_Ave, q_max_hs, L_H_x_t_i, L_CS_x_t_i, L_CL_x_t_i, HeatExchangerType)\n",
    "\n",
    "    # 日付dの時刻tにおける1時間当たりの温水暖房用熱源機の暖房出力（MJ/h）(14)\n",
    "    Q_out_H_hs_d_t = get_Q_out_H_hs_d_t(Q_dmd_H_hs_d_t, Q_max_H_hs_d_t)\n",
    "\n",
    "    # 日付dの時刻tにおける温水暖房用熱源機の平均暖房出力(kW) (13)\n",
    "    q_out_H_hs_d_t = get_q_out_H_hs_d_t(Q_out_H_hs_d_t)\n",
    "\n",
    "    # ---------- 温水暖房用熱源機の最大暖房能力に対する平均負荷率 ----------\n",
    "\n",
    "    # 日付dの時刻tにおける温水暖房用熱源機の最大暖房能力に対する平均負荷率(-) (12)\n",
    "    qr_out_H_hs_d_t = get_qr_out_H_hs_d_t(q_out_H_hs_d_t, q_max_H_hs_JRA)\n",
    "\n",
    "    # ---------- 補機の消費電力量 ----------\n",
    "\n",
    "    # 日付dの時刻tにおける1時間当たりの補機の消費電力量(kWh/h) (11a)\n",
    "    E_aux_hs_d_t = calc_E_aux_hs_d_t(qr_out_H_hs_d_t)\n",
    "\n",
    "    # ---------- ポンプの消費電力量 ----------\n",
    "\n",
    "    # 日付dの時刻tにおける1時間当たりの熱源水ポンプの消費電力量 (kWh/h) (10a)\n",
    "    E_pump_gsRW_d_t = calc_E_pump_gsRW_d_t(qr_out_H_hs_d_t)\n",
    "\n",
    "    # 日付dの時刻tにおける1時間当たりの送水ポンプの消費電力量 (kWh/h) (9a)\n",
    "    E_pump_SW_d_t = calc_E_pump_SW_d_t(qr_out_H_hs_d_t)\n",
    "\n",
    "    # 日付dの時刻tにおける1時間当たりのポンプの消費電力量 (kWh/h) (8)\n",
    "    E_pump_hs_d_t = get_E_pump_hs_d_t(E_pump_SW_d_t, E_pump_gsRW_d_t)\n",
    "\n",
    "    # ---------- 圧縮機の消費電力量 ----------\n",
    "\n",
    "    # 日付dの時刻tにおけるヒートポンプサイクルの凝縮温度（℃）(7a)\n",
    "    Theta_ref_SH_d_t = calc_Theta_ref_SH_d_t(qr_out_H_hs_d_t, Theta_gsRW_d_ave_d)\n",
    "\n",
    "    # 日付dの時刻tにおけるヒートポンプサイクルの蒸発温度（℃）(6a)\n",
    "    Theta_ref_SC_d_t = calc_Theta_ref_SC_d_t(qr_out_H_hs_d_t, Theta_SW_d_t)\n",
    "\n",
    "    # 日付dの時刻tにおけるヒートポンプサイクルの凝縮温度（℃）(5a)\n",
    "    Theta_ref_cnd_d_t = calc_Theta_ref_cnd_d_t(qr_out_H_hs_d_t, Theta_SW_d_t)\n",
    "\n",
    "    # 日付dの時刻tにおけるヒートポンプサイクルの蒸発温度（℃）(4a)\n",
    "    Theta_ref_evp_d_t = calc_Theta_ref_evp_d_t(qr_out_H_hs_d_t, Theta_gsRW_d_ave_d)\n",
    "\n",
    "    # 日付dの時刻tにおける1時間当たりの圧縮機の圧縮効率 (-) (3a)\n",
    "    Mu_d_t = calc_Mu_d_t(Theta_ref_evp_d_t, Theta_ref_cnd_d_t, Theta_ref_SC_d_t, Theta_ref_SH_d_t)\n",
    "\n",
    "    # 日付dの時刻tにおける1時間当たりの圧縮機の消費電力量 (kWh/h) (2)\n",
    "    E_comp_hs_d_t = get_E_comp_hs_d_t(qr_out_H_hs_d_t, q_out_H_hs_d_t, q_loss_H_hs_d_t, Mu_d_t, Theta_ref_evp_d_t, Theta_ref_cnd_d_t)\n",
    "\n",
    "    # ---------- 熱源機の消費電力量 ----------\n",
    "\n",
    "    # 1時間当たりの熱源機の消費電力量 (kWh/h) (1)\n",
    "    E_E_hs_d_t = E_comp_hs_d_t + E_pump_hs_d_t + E_aux_hs_d_t\n",
    "    E_E_hs_d_t[q_out_H_hs_d_t == 0] = 0\n",
    "\n",
    "    return E_E_hs_d_t"
   ]
  },
  {
   "cell_type": "markdown",
   "metadata": {},
   "source": [
    "#### N.3.2 ガス消費量 / Gas consumption"
   ]
  },
  {
   "cell_type": "markdown",
   "metadata": {},
   "source": [
    "1 時間当たりの温水暖房用熱源機のガス消費量$E_{G,hs,d,t}$は、0とする。"
   ]
  },
  {
   "cell_type": "markdown",
   "metadata": {},
   "source": [
    "The gas consumption $E_{G,hs,d,t}$ of the heat source unit for hot water heating per hour is set to 0."
   ]
  },
  {
   "cell_type": "code",
   "execution_count": null,
   "metadata": {},
   "outputs": [],
   "source": [
    "def get_E_G_hs_d_t():\n",
    "    \"\"\" 熱源機のガス消費量\n",
    "\n",
    "    :return: 熱源機のガス消費量\n",
    "    :rtype: ndarray\n",
    "    \"\"\"\n",
    "    return np.zeros(24 * 365)"
   ]
  },
  {
   "cell_type": "markdown",
   "metadata": {},
   "source": [
    "#### N.3.3 灯油消費量 / Kerosene consumption"
   ]
  },
  {
   "cell_type": "markdown",
   "metadata": {},
   "source": [
    "1 時間当たりの温水暖房用熱源機の灯油消費量$E_{K,hs,d,t}$は、0とする。"
   ]
  },
  {
   "cell_type": "markdown",
   "metadata": {},
   "source": [
    "The kerosene consumption $E_{K,hs,d,t}$ of the heat source unit for hot water heating per hour is 0."
   ]
  },
  {
   "cell_type": "code",
   "execution_count": null,
   "metadata": {},
   "outputs": [],
   "source": [
    "def get_E_K_hs_d_t():\n",
    "    \"\"\" 熱源機の灯油消費量\n",
    "\n",
    "    :return: 熱源機の灯油消費量\n",
    "    :rtype: ndarray\n",
    "    \"\"\"\n",
    "    return np.zeros(24 * 365)"
   ]
  },
  {
   "cell_type": "markdown",
   "metadata": {},
   "source": [
    "#### N.3.4 その他の一次エネルギー消費量 / Other primary energy consumption"
   ]
  },
  {
   "cell_type": "markdown",
   "metadata": {},
   "source": [
    "1 時間当たりの温水暖房用熱源機のその他の一次エネルギー消費量$E_{M,hs,d,t}$は、0とする。"
   ]
  },
  {
   "cell_type": "markdown",
   "metadata": {},
   "source": [
    "Other primary energy consumption $E_{M,hs,d,t}$ of the heat source unit for hot water heating per hour shall be 0."
   ]
  },
  {
   "cell_type": "code",
   "execution_count": null,
   "metadata": {},
   "outputs": [],
   "source": [
    "def get_E_M_hs_d_t():\n",
    "    \"\"\" 熱源機のその他の燃料の一次エネルギー消費量\n",
    "\n",
    "    :return: 熱源機のその他の燃料の一次エネルギー消費量\n",
    "    :rtype: ndarray\n",
    "    \"\"\"\n",
    "    return np.zeros(24 * 365)"
   ]
  },
  {
   "cell_type": "markdown",
   "metadata": {},
   "source": [
    "### N.4 圧縮機の消費電力量 / Compressor power consumption"
   ]
  },
  {
   "cell_type": "markdown",
   "metadata": {},
   "source": [
    "$$\\large\n",
    "E_{comp,hs,d,t} = \\left\\{ \\begin{array}{ll}\n",
    "    f_{comp,act,d,t} \\times \\frac{q_{out,H,hs,d,t} + q_{loss,H,hs,d,t}}{\\eta_{d,t}} &(\\theta_{ref,evp,d,t}< \\theta_{ref,cnd,d,t})\\\\  \n",
    "    0 &(\\theta_{ref,evp,d,t} \\geq \\theta_{ref,cnd,d,t})\\\\ \n",
    "    \\end{array}\n",
    "\\right.\n",
    "$$"
   ]
  },
  {
   "cell_type": "markdown",
   "metadata": {},
   "source": [
    "$$\\large\n",
    "f_{comp,act,d,t} = max(k_{comp,a}\\times qr_{out,H,hs,d,t})+(1-k_{comp,a}\\times k_{comp,b}),1)\\times k_{comp,c}\n",
    "$$"
   ]
  },
  {
   "cell_type": "markdown",
   "metadata": {},
   "source": [
    "$$\\large\n",
    "\\left\\{ \\begin{array}{ll}\n",
    "    k_{comp,a}= −0.7309\\\\  \n",
    "    k_{comp,b}= 0.67\\\\  \n",
    "    k_{comp,c}= 1.0319\\\\  \n",
    "    \\end{array}\n",
    "\\right.\n",
    "$$"
   ]
  },
  {
   "cell_type": "markdown",
   "metadata": {},
   "source": [
    "$E_{comp,hs,d,t}$：日付$d$の時刻$t$における 1 時間当たりの圧縮機の消費電力量(kWh/h) / Compressor power consumption per hour at time $t$ on date $d$  \n",
    "$f_{comp,act,d,t}$：日付$d$の時刻$t$における圧縮機の消費電力に対する補正係数(-) / Correction factor for compressor power consumption at time $t$ on date $d$  \n",
    "$q_{loss,H,hs,d,t}$：日付$d$の時刻$t$における温水暖房用熱源機内部の平均放熱損失(kW) / Average heat radiation loss inside the heat source for hot water heating at time $t$ on date $d$  \n",
    "$q_{out,H,hs,d,t}$：日付$d$の時刻$t$における温水暖房用熱源機の平均暖房出力(kW) / Average heating output of heat source machine for hot water heating at time $t$ on date $d$  \n",
    "$qr_{out,H,hs,d,t}$：日付$d$の時刻$t$における温水暖房用熱源機の最大暖房能力に対する平均負荷率(-) / Average load factor for maximum heating capacity of the heat source unit for hot water heating at time $t$ on date $d$  \n",
    "$\\eta_{d,t}$：日付$d$の時刻$t$における圧縮機の圧縮効率(-) / Compression efficiency of compressor at time $t$ on date $d$  \n",
    "$\\theta_{ref,cnd,d,t}$：日付$d$の時刻$t$におけるヒートポンプサイクルの凝縮温度(℃) / Condensation temperature of heat pump cycle at time $t$ on date $d$  \n",
    "$\\theta_{ref,evp,d,t}$：日付$d$の時刻$t$におけるヒートポンプサイクルの蒸発温度(℃) / Evaporation temperature of heat pump cycle at time $t$ on date $d$  \n",
    "$k_{comp,a},k_{comp,b},k_{comp,c}$：圧縮機の消費電力に対する補正係数を計算する式の係数(-) / Coefficient of the formula for calculating the correction coefficient for the power consumption of the compressor  "
   ]
  },
  {
   "cell_type": "code",
   "execution_count": null,
   "metadata": {},
   "outputs": [],
   "source": [
    "def get_E_comp_hs_d_t(qr_out_H_hs_d_t, q_out_H_hs_d_t, q_loss_H_hs_d_t, Mu_d_t, Theta_ref_evp_d_t, Theta_ref_cnd_d_t):\n",
    "    \"\"\" 日付dの時刻tにおける1時間当たりの圧縮機の消費電力量 (2)\n",
    "\n",
    "    :param qr_out_H_hs_d_t: 日付dの時刻tにおける温水暖房用熱源機の最大暖房能力に対する平均負荷率(-)\n",
    "    :type qr_out_H_hs_d_t: ndarray\n",
    "    :param q_out_H_hs_d_t: 1時間平均のヒートポンプユニットの断続運転率\n",
    "    :type q_out_H_hs_d_t: ndarray\n",
    "    :param q_loss_H_hs_d_t: 1時間平均のヒートポンプユニットの断続運転率\n",
    "    :type q_loss_H_hs_d_t: ndarray\n",
    "    :param Mu_d_t: 1時間平均のヒートポンプユニットの断続運転率\n",
    "    :type Mu_d_t: ndarray\n",
    "    :param Theta_ref_evp_d_t: 1時間平均のヒートポンプユニットの断続運転率\n",
    "    :type Theta_ref_evp_d_t: ndarray\n",
    "    :param Theta_ref_cnd_d_t: 1時間平均のヒートポンプユニットの断続運転率\n",
    "    :type Theta_ref_cnd_d_t: ndarray\n",
    "    :return: 日付dの時刻tにおける1時間当たりの圧縮機の消費電力量\n",
    "    :rtype: ndarray\n",
    "    \"\"\"\n",
    "    # 圧縮機の消費電力に対する補正係数を計算する式の係数(-) (2c)\n",
    "    k_comp_a = -0.7309\n",
    "    k_comp_b = 0.67\n",
    "    k_comp_c = 1.0319\n",
    "\n",
    "    f_comp_act_d_t = np.clip(k_comp_a * qr_out_H_hs_d_t + (1 - k_comp_a * k_comp_b), 1, None) * k_comp_c\n",
    "\n",
    "    # 日付dの時刻tにおける1時間当たりの圧縮機の消費電力量 (2a)\n",
    "    E_comp_hs_d_t = f_comp_act_d_t * ((q_out_H_hs_d_t + q_loss_H_hs_d_t) / Mu_d_t)\n",
    "    E_comp_hs_d_t[Theta_ref_evp_d_t >= Theta_ref_cnd_d_t] = 0\n",
    "\n",
    "    return E_comp_hs_d_t"
   ]
  },
  {
   "cell_type": "markdown",
   "metadata": {},
   "source": [
    "$$\\large\n",
    "\\eta_{d,t} = k_{\\eta h 2} \\times e^2_{ref,H,th,d,t} + k_{\\eta h 1} \\times e_{ref,H,th,d,t} + k_{\\eta h 0}\n",
    "$$"
   ]
  },
  {
   "cell_type": "markdown",
   "metadata": {},
   "source": [
    "$$\\large\n",
    "\\left\\{ \\begin{array}{ll}\n",
    "    k_{\\eta h 0}= −0.430363368361459\\\\  \n",
    "    k_{\\eta h 1}= 0.698531770387591\\\\  \n",
    "    k_{\\eta h 2}= 0.0100164335768507\\\\  \n",
    "    \\end{array}\n",
    "\\right.\n",
    "$$"
   ]
  },
  {
   "cell_type": "markdown",
   "metadata": {},
   "source": [
    "$\\eta_{d,t}$：日付$d$の時刻$t$における圧縮機の圧縮効率(-) / Compression efficiency of compressor at time $t$ on date $d$  \n",
    "$e_{ref,H,th,d,t}$：日付$d$の時刻$t$におけるヒートポンプサイクルの理論暖房効率(-) / Theoretical heating efficiency of heat pump cycle at time $t$ on date $d$  \n",
    "$k_{\\eta h 2},k_{\\eta h 1},k_{\\eta h 0}$：圧縮機の圧縮効率を求める式の係数(-) / Coefficient of the formula for calculating the compression efficiency of the compressor  "
   ]
  },
  {
   "cell_type": "code",
   "execution_count": null,
   "metadata": {},
   "outputs": [],
   "source": [
    "def calc_Mu_d_t(Theta_ref_evp_d_t, Theta_ref_cnd_d_t, Theta_ref_SC_d_t, Theta_ref_SH_d_t):\n",
    "    \"\"\" 日付dの時刻tにおける圧縮機の圧縮効率 (3a)\n",
    "\n",
    "    :param Theta_ref_evp_d_t: 1時間平均のヒートポンプユニットの断続運転率\n",
    "    :type Theta_ref_evp_d_t: ndarray\n",
    "    :param Theta_ref_cnd_d_t: 1時間平均のヒートポンプユニットの断続運転率\n",
    "    :type Theta_ref_cnd_d_t: ndarray\n",
    "    :param Theta_ref_SC_d_t: ヒートポンプサイクルの過冷却度（℃）\n",
    "    :type Theta_ref_SC_d_t: ndarray\n",
    "    :param Theta_ref_SH_d_t: ヒートポンプサイクルの過熱度（℃）\n",
    "    :type Theta_ref_SH_d_t: ndarray\n",
    "    :return: 日付dの時刻tにおける圧縮機の圧縮効率 (3a)\n",
    "    :rtype: ndarray\n",
    "    \"\"\"\n",
    "    # Kμh0：圧縮機の圧縮効率を求める式の係数 (-) (3b)\n",
    "    K_Mu_h_0 = get_K_Mu_h_0()\n",
    "\n",
    "    # Kμh1：圧縮機の圧縮効率を求める式の係数 (-) (3b)\n",
    "    K_Mu_h_1 = get_K_Mu_h_1()\n",
    "\n",
    "    # Kμh2：圧縮機の圧縮効率を求める式の係数 (-) (3b)\n",
    "    K_Mu_h_2 = get_K_Mu_h_2()\n",
    "\n",
    "    # 日付dの時刻tにおけるヒートポンプサイクルの理論暖房効率(-) 4章8節付録A(1)\n",
    "    e_ref_H_th_d_t = calc_e_ref_H_th(Theta_ref_evp_d_t, Theta_ref_cnd_d_t, Theta_ref_SC_d_t, Theta_ref_SH_d_t)\n",
    "\n",
    "    # 日付dの時刻tにおける圧縮機の圧縮効率 (3a)\n",
    "    Mu_d_t = K_Mu_h_2 * (e_ref_H_th_d_t ** 2) + K_Mu_h_1 * e_ref_H_th_d_t + K_Mu_h_0\n",
    "    Mu_d_t[e_ref_H_th_d_t > 10] = K_Mu_h_2 * (10 ** 2) + K_Mu_h_1 * 10 + K_Mu_h_0\n",
    "\n",
    "    return Mu_d_t\n",
    "\n",
    "\n",
    "def get_K_Mu_h_0():\n",
    "    \"\"\" Kμh0：圧縮機の圧縮効率を求める式の係数 (-) (3b)\n",
    "\n",
    "    :return: Kμh0：圧縮機の圧縮効率を求める式の係数 (-) (3b)\n",
    "    :rtype: float\n",
    "    \"\"\"\n",
    "    return -0.430363368361459\n",
    "\n",
    "\n",
    "def get_K_Mu_h_1():\n",
    "    \"\"\" Kμh1：圧縮機の圧縮効率を求める式の係数 (-) (3b)\n",
    "\n",
    "    :return: Kμh1：圧縮機の圧縮効率を求める式の係数 (-) (3b)\n",
    "    :rtype: float\n",
    "    \"\"\"\n",
    "    return 0.698531770387591\n",
    "\n",
    "\n",
    "def get_K_Mu_h_2():\n",
    "    \"\"\" Kμh2：圧縮機の圧縮効率を求める式の係数 (-) (3b)\n",
    "\n",
    "    :return: Kμh2：圧縮機の圧縮効率を求める式の係数 (-) (3b)\n",
    "    :rtype: float\n",
    "    \"\"\"\n",
    "    return 0.0100164335768507"
   ]
  },
  {
   "cell_type": "markdown",
   "metadata": {},
   "source": [
    "日付$d$の時刻$t$におけるヒートポンプサイクルの理論暖房効率$e_{ref,H,th,d,t}$が 10 を超える場合は$e_{ref,H,th,d,t}$は 10 とする。"
   ]
  },
  {
   "cell_type": "markdown",
   "metadata": {},
   "source": [
    "If the theoretical heating efficiency $e_{ref,H,th,d,t}$ of the heat pump cycle at time $t$ on date $d$ exceeds 10, $e_{ref,H,th,d,t}$ is set to 10."
   ]
  },
  {
   "cell_type": "markdown",
   "metadata": {},
   "source": [
    "$$\\large\n",
    "\\theta_{ref,evp,d,t} = max(k_{envh0}+k_{envh1} \\times \\theta_{gsRW,d\\_ave,d} +k_{envh2} \\times qr_{out,H,hs,d,t} +k_{envh12}  \\times \\theta_{gsRW,d\\_ave,d} \\times qr_{out,H,hs,d,t}, -50)\n",
    "$$"
   ]
  },
  {
   "cell_type": "markdown",
   "metadata": {},
   "source": [
    "$$\\large\n",
    "\\left\\{ \\begin{array}{ll}\n",
    "    k_{envh0}= −2.95315205817646\\\\  \n",
    "    k_{envh1}= 0.915893610614308\\\\  \n",
    "    k_{envh2}= −11.8319776584846\\\\  \n",
    "    k_{envh12}= 0.29704275467947\\\\  \n",
    "    \\end{array}\n",
    "\\right.\n",
    "$$"
   ]
  },
  {
   "cell_type": "markdown",
   "metadata": {},
   "source": [
    "$$\\large\n",
    "\\theta_{ref,cnd,d,t} = min(k_{cndh0}+k_{cndh1} \\times \\theta_{SW,d,t} +k_{cndh2} \\times qr_{out,H,hs,d,t} +k_{cndh12}  \\times \\theta_{SW,d,t} \\times qr_{out,H,hs,d,t}, 65)\n",
    "$$"
   ]
  },
  {
   "cell_type": "markdown",
   "metadata": {},
   "source": [
    "$$\\large\n",
    "\\left\\{ \\begin{array}{ll}\n",
    "    k_{cndh0}= 3.6105623002886\\\\  \n",
    "    k_{cndh1}= 0.930136847064537\\\\  \n",
    "    k_{cndh2}= 0.494024927234563\\\\  \n",
    "    k_{cndh12}= 0.00770898511188855\\\\  \n",
    "    \\end{array}\n",
    "\\right.\n",
    "$$"
   ]
  },
  {
   "cell_type": "markdown",
   "metadata": {},
   "source": [
    "$$\\large\n",
    "\\theta_{ref,SC,d,t} = max(k_{sch0}+k_{sch1} \\times \\theta_{SW,d,t} +k_{sch2} \\times qr_{out,H,hs,d,t}, 0)\n",
    "$$"
   ]
  },
  {
   "cell_type": "markdown",
   "metadata": {},
   "source": [
    "$$\\large\n",
    "\\left\\{ \\begin{array}{ll}\n",
    "    k_{sch0}= −4.02655782981397\\\\  \n",
    "    k_{sch1}= 0.0894330494418674\\\\  \n",
    "    k_{sch2}= 14.3457831669162\\\\  \n",
    "    \\end{array}\n",
    "\\right.\n",
    "$$"
   ]
  },
  {
   "cell_type": "markdown",
   "metadata": {},
   "source": [
    "$$\\large\n",
    "\\theta_{ref,SH,d,t} = max(k_{shh0}+k_{shh1} \\times qr_{out,H,hs,d,t} +k_{shh2} \\times \\theta_{gsRW,d\\_ave,d}, 0)\n",
    "$$"
   ]
  },
  {
   "cell_type": "markdown",
   "metadata": {},
   "source": [
    "$$\\large\n",
    "\\left\\{ \\begin{array}{ll}\n",
    "    k_{shh0}= 0.819643791668597\\\\  \n",
    "    k_{shh1}= 2.99282570323758\\\\  \n",
    "    k_{shh2}= −0.0762659183765636\\\\  \n",
    "    \\end{array}\n",
    "\\right.\n",
    "$$"
   ]
  },
  {
   "cell_type": "markdown",
   "metadata": {},
   "source": [
    "$qr_{out,H,hs,d,t}$：日付$d$の時刻$t$における温水暖房用熱源機の最大暖房能力に対する平均負荷率(-) / Average load factor for maximum heating capacity of the heat source unit for hot water heating at time $t$ on date $d$  \n",
    "$\\theta_{gsRW,d\\_ave,d}$：日付$d$における地中熱交換器からの戻り熱源水の日平均温度(℃) / Daily mean temperature of return heat source water from underground heat exchanger at date $d$  \n",
    "$\\theta_{ref,evp,d,t}$：日付$d$の時刻$t$におけるヒートポンプサイクルの蒸発温度(℃) / Evaporation temperature of heat pump cycle at time $t$ on date $d$  \n",
    "$\\theta_{ref,cnd,d,t}$：日付$d$の時刻$t$におけるヒートポンプサイクルの凝縮温度(℃) / Condensation temperature of heat pump cycle at time $t$ on date $d$  \n",
    "$\\theta_{ref,SC,d,t}$：日付$d$の時刻$t$におけるヒートポンプサイクルの過冷却度(℃) / Degree of subcooling of heat pump cycle at time $t$ on date $d$  \n",
    "$\\theta_{ref,SH,d,t}$：日付$d$の時刻$t$におけるヒートポンプサイクルの過熱度(℃) / Superheat of heat pump cycle at time $t$ on date $d$  \n",
    "$\\theta_{SW,d,t}$：日付$d$の時刻$t$における往き温水温度(℃) / Outgoing hot water temperature at time $t$ on date $d$  \n",
    "$k_{cndh0},k_{cndh1},k_{cndh2},k_{cndh12}$：凝縮温度を計算する式の係数(-) / Coefficient of formula for calculating condensation temperature  \n",
    "$k_{envh0},k_{envh1},k_{envh2},k_{envh12}$：蒸発温度を計算する式の係数(-) / Coefficient of formula for calculating evaporation temperature  \n",
    "$k_{sch0},k_{sch1},k_{sch2}$：過冷却度を計算する式の係数(-) / Coefficient of formula for calculating degree of supercooling  \n",
    "$k_{shh0},k_{shh1},k_{shh2}$：過熱度を計算する式の係数(-) / Coefficient of formula for calculating superheat  "
   ]
  },
  {
   "cell_type": "code",
   "execution_count": null,
   "metadata": {},
   "outputs": [],
   "source": [
    "def calc_Theta_ref_evp_d_t(qr_out_H_hs_d_t, Theta_gsRW_d_ave_d):\n",
    "    \"\"\" 日付dの時刻tにおけるヒートポンプサイクルの蒸発温度（℃） (4a)\n",
    "\n",
    "    :param qr_out_H_hs_d_t: 日付dの時刻tにおける温水暖房用熱源機の最大暖房能力に対する平均負荷率(-)\n",
    "    :type qr_out_H_hs_d_t: ndarray\n",
    "    :param Theta_gsRW_d_ave_d: 日付dにおける地中熱交換器からの戻り熱源水の日平均温度（℃）\n",
    "    :type Theta_gsRW_d_ave_d: ndarray\n",
    "    :return: 日付dの時刻tにおけるヒートポンプサイクルの蒸発温度（℃） (4a)\n",
    "    :rtype:\n",
    "    \"\"\"\n",
    "    # Kevph0：蒸発温度を計算する式の係数 (-) (4b)\n",
    "    K_evp_h_0 = get_K_evp_h_0()\n",
    "\n",
    "    # Kevph1：蒸発温度を計算する式の係数 (-) (4b)\n",
    "    K_evp_h_1 = get_K_evp_h_1()\n",
    "\n",
    "    # Kevph2：蒸発温度を計算する式の係数 (-) (4b)\n",
    "    K_evp_h_2 = get_K_evp_h_2()\n",
    "\n",
    "    # Kevph12：蒸発温度を計算する式の係数 (-) (4b)\n",
    "    K_evp_h_12 = get_K_evp_h_12()\n",
    "\n",
    "    # 日付dの時刻tにおけるヒートポンプサイクルの蒸発温度（℃） (4a)\n",
    "    Theta_ref_evp_d_t = np.clip(K_evp_h_0 + K_evp_h_1 * np.repeat(Theta_gsRW_d_ave_d, 24)\n",
    "                                + K_evp_h_2 * qr_out_H_hs_d_t\n",
    "                                + K_evp_h_12 * np.repeat(Theta_gsRW_d_ave_d, 24) * qr_out_H_hs_d_t, -50, None)\n",
    "\n",
    "    return Theta_ref_evp_d_t\n",
    "\n",
    "\n",
    "def get_K_evp_h_0():\n",
    "    \"\"\" Kevph0：蒸発温度を計算する式の係数 (-) (4b)\n",
    "\n",
    "    :return: Kevph0：蒸発温度を計算する式の係数\n",
    "    :rtype: float\n",
    "    \"\"\"\n",
    "\n",
    "    return -2.95315205817646\n",
    "\n",
    "\n",
    "def get_K_evp_h_1():\n",
    "    \"\"\" Kevph1：蒸発温度を計算する式の係数 (-) (4b)\n",
    "\n",
    "    :return: Kevph1：蒸発温度を計算する式の係数\n",
    "    :rtype: float\n",
    "    \"\"\"\n",
    "    return 0.915893610614308\n",
    "\n",
    "\n",
    "def get_K_evp_h_2():\n",
    "    \"\"\" Kevph2：蒸発温度を計算する式の係数 (-) (4b)\n",
    "\n",
    "    :return: Kevph2：蒸発温度を計算する式の係数\n",
    "    :rtype: float\n",
    "    \"\"\"\n",
    "    return -11.8319776584846\n",
    "\n",
    "\n",
    "def get_K_evp_h_12():\n",
    "    \"\"\" Kevph12：蒸発温度を計算する式の係数 (-) (4b)\n",
    "\n",
    "    :return: Kevph12：蒸発温度を計算する式の係数\n",
    "    :rtype: float\n",
    "    \"\"\"\n",
    "    return 0.29704275467947\n",
    "\n",
    "\n",
    "def calc_Theta_ref_cnd_d_t(qr_out_H_hs_d_t, Theta_SW_d_t):\n",
    "    \"\"\" 日付dの時刻tにおけるヒートポンプサイクルの凝縮温度（℃）(5a)\n",
    "\n",
    "    :param qr_out_H_hs_d_t: 日付dの時刻tにおける温水暖房用熱源機の最大暖房能力に対する平均負荷率(-)\n",
    "    :type qr_out_H_hs_d_t:\n",
    "    :param Theta_SW_d_t: 日付dの時刻tにおける往き温水温度（℃）\n",
    "    :type Theta_SW_d_t: ndarray\n",
    "    :return: 日付dの時刻tにおけるヒートポンプサイクルの凝縮温度（℃）\n",
    "    :rtype: ndarray\n",
    "    \"\"\"\n",
    "    # Kcndh0：凝縮温度を計算する式の係数 (-) (5b)\n",
    "    K_cnd_h_0 = get_K_cnd_h_0()\n",
    "\n",
    "    # Kcndh1：凝縮温度を計算する式の係数 (-) (5b)\n",
    "    K_cnd_h_1 = get_K_cnd_h_1()\n",
    "\n",
    "    # Kcndh2：凝縮温度を計算する式の係数 (-) (5b)\n",
    "    K_cnd_h_2 = get_K_cnd_h_2()\n",
    "\n",
    "    # Kcndh12：凝縮温度を計算する式の係数 (-) (5b)\n",
    "    K_cnd_h_12 = get_K_cnd_h_12()\n",
    "\n",
    "    # 日付dの時刻tにおけるヒートポンプサイクルの蒸発温度（℃） (5a)\n",
    "    Theta_ref_cnd_d_t = np.clip(K_cnd_h_0 + K_cnd_h_1 * Theta_SW_d_t\n",
    "                                + K_cnd_h_2 * qr_out_H_hs_d_t\n",
    "                                + K_cnd_h_12 * Theta_SW_d_t * qr_out_H_hs_d_t, None, 65)\n",
    "\n",
    "    return Theta_ref_cnd_d_t\n",
    "\n",
    "\n",
    "def get_K_cnd_h_0():\n",
    "    \"\"\" Kcndh0：凝縮温度を計算する式の係数 (-) (5b)\n",
    "\n",
    "    :return: Kcndh0：凝縮温度を計算する式の係数\n",
    "    :rtype: float\n",
    "    \"\"\"\n",
    "    return 3.6105623002886\n",
    "\n",
    "\n",
    "def get_K_cnd_h_1():\n",
    "    \"\"\" Kcndh1：凝縮温度を計算する式の係数 (-) (5b)\n",
    "\n",
    "    :return: Kcndh1：凝縮温度を計算する式の係数\n",
    "    :rtype: float\n",
    "    \"\"\"\n",
    "    return 0.930136847064537\n",
    "\n",
    "\n",
    "def get_K_cnd_h_2():\n",
    "    \"\"\" Kcndh2：凝縮温度を計算する式の係数 (-) (5b)\n",
    "\n",
    "    :return: Kcndh2：凝縮温度を計算する式の係数\n",
    "    :rtype: float\n",
    "    \"\"\"\n",
    "    return 0.494024927234563\n",
    "\n",
    "\n",
    "def get_K_cnd_h_12():\n",
    "    \"\"\" Kcndh12：凝縮温度を計算する式の係数 (-) (5b)\n",
    "\n",
    "    :return: Kcndh12：凝縮温度を計算する式の係数\n",
    "    :rtype: ndarray\n",
    "    \"\"\"\n",
    "    return 0.00770898511188855\n",
    "\n",
    "\n",
    "def calc_Theta_ref_SC_d_t(qr_out_H_hs_d_t, Theta_SW_d_t):\n",
    "    \"\"\" 日付dの時刻tにおけるヒートポンプサイクルの過冷却度（℃）(6a)\n",
    "\n",
    "    :param qr_out_H_hs_d_t: 日付dの時刻tにおける温水暖房用熱源機の最大暖房能力に対する平均負荷率(-)\n",
    "    :type qr_out_H_hs_d_t: ndarray\n",
    "    :param Theta_SW_d_t: 往き温水温度 (℃)\n",
    "    :type Theta_SW_d_t: ndarray\n",
    "    :return: 日付dの時刻tにおけるヒートポンプサイクルの過冷却度（℃）\n",
    "    :rtype: ndarray\n",
    "    \"\"\"\n",
    "    # Ksch0：過冷却度を計算する式の係数 (-) (6b)\n",
    "    K_sc_h_0 = get_K_sc_h_0()\n",
    "\n",
    "    # Ksch1：過冷却度を計算する式の係数 (-) (6b)\n",
    "    K_sc_h_1 = get_K_sc_h_1()\n",
    "\n",
    "    # Ksch2：過冷却度を計算する式の係数 (-) (6b)\n",
    "    K_sc_h_2 = get_K_sc_h_2()\n",
    "\n",
    "    # 日付dの時刻tにおけるヒートポンプサイクルの過冷却度（℃） (6a)\n",
    "    Theta_ref_SC_d_t = np.clip(K_sc_h_0 + K_sc_h_1 * Theta_SW_d_t + K_sc_h_2 * qr_out_H_hs_d_t, 0, None)\n",
    "\n",
    "    return Theta_ref_SC_d_t\n",
    "\n",
    "\n",
    "def get_K_sc_h_0():\n",
    "    \"\"\" Ksch0：過冷却度を計算する式の係数(-) (6b)\n",
    "\n",
    "    :return: Ksch0：過冷却度を計算する式の係数(-) (6b)\n",
    "    :rtype: float\n",
    "    \"\"\"\n",
    "    return -4.02655782981397\n",
    "\n",
    "\n",
    "def get_K_sc_h_1():\n",
    "    \"\"\" Ksch1：過冷却度を計算する式の係数 (-) (6b)\n",
    "\n",
    "    :return: Ksch1：過冷却度を計算する式の係数\n",
    "    :rtype: float\n",
    "    \"\"\"\n",
    "    return 0.0894330494418674\n",
    "\n",
    "\n",
    "def get_K_sc_h_2():\n",
    "    \"\"\" Ksch2：過冷却度を計算する式の係数 (-) (6b)\n",
    "\n",
    "    :return: Ksch2：過冷却度を計算する式の係数\n",
    "    :rtype: float\n",
    "    \"\"\"\n",
    "    return 14.3457831669162\n",
    "\n",
    "\n",
    "def calc_Theta_ref_SH_d_t(qr_out_H_hs_d_t, Theta_gsRW_d_ave_d):\n",
    "    \"\"\" 日付dの時刻tにおけるヒートポンプサイクルの過熱度（℃）(7a)\n",
    "\n",
    "    :param qr_out_H_hs_d_t: 日付dの時刻tにおける温水暖房用熱源機の最大暖房能力に対する平均負荷率(-)\n",
    "    :type qr_out_H_hs_d_t: ndarray\n",
    "    :param Theta_gsRW_d_ave_d: 日付dにおける地中熱交換器からの戻り熱源水の日平均温度（℃）\n",
    "    :type Theta_gsRW_d_ave_d: ndarray\n",
    "    :return: 日付dの時刻tにおけるヒートポンプサイクルの過熱度（℃）\n",
    "    :rtype: ndarray\n",
    "    \"\"\"\n",
    "    # Kshh0：過熱度を計算する式の係数 (-) (7b)\n",
    "    K_sh_h_0 = get_K_sh_h_0()\n",
    "\n",
    "    # Kshh1：過熱度を計算する式の係数 (-) (7b)\n",
    "    K_sh_h_1 = get_K_sh_h_1()\n",
    "\n",
    "    # Kshh2：過熱度を計算する式の係数 (-) (7b)\n",
    "    K_sh_h_2 = get_K_sh_h_2()\n",
    "\n",
    "    # 日付dの時刻tにおけるヒートポンプサイクルの過熱度（℃） (7a)\n",
    "    Theta_ref_SC_d_t = np.clip(K_sh_h_0 + K_sh_h_1 * qr_out_H_hs_d_t + K_sh_h_2 * np.repeat(Theta_gsRW_d_ave_d, 24), 0, None)\n",
    "\n",
    "    return Theta_ref_SC_d_t\n",
    "\n",
    "\n",
    "def get_K_sh_h_0():\n",
    "    \"\"\" Kshh0：過熱度を計算する式の係数(-) (7b)\n",
    "\n",
    "    :return: Kshh0：過熱度を計算する式の係数\n",
    "    :rtype: float\n",
    "    \"\"\"\n",
    "    return 0.819643791668597\n",
    "\n",
    "\n",
    "def get_K_sh_h_1():\n",
    "    \"\"\" Kshh1：過熱度を計算する式の係数 (-) (7b)\n",
    "\n",
    "    :return: Kshh1：過熱度を計算する式の係数 (-)\n",
    "    :rtype: float\n",
    "    \"\"\"\n",
    "    return 2.99282570323758\n",
    "\n",
    "\n",
    "def get_K_sh_h_2():\n",
    "    \"\"\" Kshh2：過熱度を計算する式の係数 (-) (7b)\n",
    "\n",
    "    :return: Kshh2：過熱度を計算する式の係数 (-)\n",
    "    :rtype:\n",
    "    \"\"\"\n",
    "    return -0.0762659183765636"
   ]
  },
  {
   "cell_type": "markdown",
   "metadata": {},
   "source": [
    "### N.5 ポンプの消費電力量 / Pump power consumption"
   ]
  },
  {
   "cell_type": "markdown",
   "metadata": {},
   "source": [
    "$$\\large\n",
    "E_{pump,hs,d,t} = E_{pump,SW,d,t} + E_{pump,gsRW,d,t}\n",
    "$$"
   ]
  },
  {
   "cell_type": "markdown",
   "metadata": {},
   "source": [
    "$E_{pump,hs,d,t}$：日付$d$の時刻$t$における1 時間当たりのポンプの消費電力量(kWh/h) / Hourly pump power consumption at time $t$ on date $d$  \n",
    "$E_{pump,gsRW,d,t}$：日付$d$の時刻$t$における1 時間当たりの熱源水ポンプの消費電力量(kWh/h) / Power consumption of heat source water pump per hour at time $t$ on date $d$  \n",
    "$E_{pump,SW,d,t}$：日付$d$の時刻$t$における1 時間当たりの送水ポンプの消費電力量(kWh/h) / Electricity consumption of water pump per hour at time $t$ on date $d$  \n"
   ]
  },
  {
   "cell_type": "code",
   "execution_count": null,
   "metadata": {},
   "outputs": [],
   "source": [
    "def get_E_pump_hs_d_t(E_pump_SW_d_t, E_pump_gsRW_d_t):\n",
    "    \"\"\" 日付dの時刻tにおける1時間当たりのポンプの消費電力量 (8)\n",
    "\n",
    "    :param E_pump_SW_d_t: 日付dの時刻tにおける1時間当たりの送水ポンプの消費電力量（kWh/h）\n",
    "    :type E_pump_SW_d_t: ndarray\n",
    "    :param E_pump_gsRW_d_t: 日付dの時刻tにおける1時間当たりの熱源水ポンプの消費電力量（kWh/h）\n",
    "    :type E_pump_gsRW_d_t: ndarray\n",
    "    :return: 日付dの時刻tにおける1時間当たりのポンプの消費電力量（kWh/h）\n",
    "    :rtype: ndarray\n",
    "    \"\"\"\n",
    "\n",
    "    # 日付dの時刻tにおける1時間当たりのポンプの消費電力量 (8)\n",
    "    E_pump_hs_d_t = E_pump_SW_d_t + E_pump_gsRW_d_t\n",
    "\n",
    "    return E_pump_hs_d_t"
   ]
  },
  {
   "cell_type": "markdown",
   "metadata": {},
   "source": [
    "$$\\large\n",
    "E_{pump,SW,d,t}= a_{pump,SW} \\times qr_{out,H,hs,d,t}+ b_{pump,SW} \\times {qr_{out,H,hs,d,t}}^2\n",
    "$$"
   ]
  },
  {
   "cell_type": "markdown",
   "metadata": {},
   "source": [
    "$$\\large\n",
    "\\left\\{ \\begin{array}{ll}\n",
    "    a_{pump,SW}= 0.041972403\\\\  \n",
    "    b_{pump,SW}= 0.104478967\\\\  \n",
    "    \\end{array}\n",
    "\\right.\n",
    "$$"
   ]
  },
  {
   "cell_type": "markdown",
   "metadata": {},
   "source": [
    "$$\\large\n",
    "E_{pump,gsRW,d,t}= a_{pump,gsRW} \\times qr_{out,H,hs,d,t}+ b_{pump,gsRW} \\times {qr_{out,H,hs,d,t}}^2\n",
    "$$"
   ]
  },
  {
   "cell_type": "markdown",
   "metadata": {},
   "source": [
    "$$\\large\n",
    "\\left\\{ \\begin{array}{ll}\n",
    "    a_{pump,gsRW}= 0.062196275\\\\  \n",
    "    b_{pump,gsRW}= 0.071756474\\\\  \n",
    "    \\end{array}\n",
    "\\right.\n",
    "$$"
   ]
  },
  {
   "cell_type": "markdown",
   "metadata": {},
   "source": [
    "$E_{pump,SW,d,t}$：日付$d$の時刻$t$における1 時間当たりの送水ポンプの消費電力量(kWh/h) / Electricity consumption of water pump per hour at time $t$ on date $d$  \n",
    "$E_{pump,gsRW,d,t}$：日付$d$の時刻$t$における1 時間当たりの熱源水ポンプの消費電力量(kWh/h) / Energy consumption of heat source water pump per hour at time $t$ on date $d$  \n",
    "$qr_{out,H,hs,d,t}$：日付$d$の時刻$t$における温水暖房用熱源機の最大暖房能力に対する平均負荷率(-) / Average load factor for maximum heating capacity of the heat source unit for hot water heating at time $t$ on date $d$  \n",
    "$a_{pump,SW},b_{pump,SW}$：送水ポンプの消費電力量を計算する式の係数(-) / Coefficient of the formula for calculating the power consumption of the water pump  \n",
    "$a_{pump,gsRW},b_{pump,gsRW}$：熱源水ポンプの消費電力量を計算する式の係数(-) / Coefficients of formula for calculating power consumption of heat source water pump  "
   ]
  },
  {
   "cell_type": "code",
   "execution_count": null,
   "metadata": {},
   "outputs": [],
   "source": [
    "def calc_E_pump_SW_d_t(qr_out_H_hs_d_t):\n",
    "    \"\"\" 日付dの時刻tにおける1時間当たりの送水ポンプの消費電力量（kWh/h） (9a)\n",
    "\n",
    "    :param qr_out_H_hs_d_t: 日付dの時刻tにおける温水暖房用熱源機の最大暖房能力に対する平均負荷率(-)\n",
    "    :type qr_out_H_hs_d_t: ndarray\n",
    "    :return: 日付dの時刻tにおける1時間当たりの送水ポンプの消費電力量（kWh/h）\n",
    "    :rtype: ndarray\n",
    "    \"\"\"\n",
    "    # apump,SW：送水ポンプの消費電力量を計算する式の係数 (-) (9b)\n",
    "    a_pump_SW = get_a_pump_SW()\n",
    "\n",
    "    # bpump,SW：送水ポンプの消費電力量を計算する式の係数 (-) (9b)\n",
    "    b_pump_SW = get_b_pump_SW()\n",
    "\n",
    "    # 日付dの時刻tにおける1時間当たりの送水ポンプの消費電力量（kWh/h） (9a)\n",
    "    E_pump_SW_d_t = a_pump_SW * qr_out_H_hs_d_t + b_pump_SW * (qr_out_H_hs_d_t ** 2)\n",
    "\n",
    "    return E_pump_SW_d_t\n",
    "\n",
    "\n",
    "def get_a_pump_SW():\n",
    "    \"\"\" apump,SW：送水ポンプの消費電力量を計算する式の係数 (-) (9b)\n",
    "\n",
    "    :return: apump,SW：送水ポンプの消費電力量を計算する式の係数 (-)\n",
    "    :rtype: float\n",
    "    \"\"\"\n",
    "    return 0.041972403\n",
    "\n",
    "\n",
    "def get_b_pump_SW():\n",
    "    \"\"\" bpump,SW：送水ポンプの消費電力量を計算する式の係数 (-) (9b)\n",
    "\n",
    "    :return: bpump,SW：送水ポンプの消費電力量を計算する式の係数 (-)\n",
    "    :rtype: float\n",
    "    \"\"\"\n",
    "    return 0.104478967\n",
    "\n",
    "\n",
    "def calc_E_pump_gsRW_d_t(qr_out_H_hs_d_t):\n",
    "    \"\"\" 日付dの時刻tにおける1時間当たりの熱源水ポンプの消費電力量（kWh/h） (10a)\n",
    "\n",
    "    :param qr_out_H_hs_d_t: 日付dの時刻tにおける温水暖房用熱源機の最大暖房能力に対する平均負荷率(-)\n",
    "    :type qr_out_H_hs_d_t: ndarray\n",
    "    :return: 日付dの時刻tにおける1時間当たりの熱源水ポンプの消費電力量（kWh/h）\n",
    "    :rtype: ndarray\n",
    "    \"\"\"\n",
    "    # apump,gsRW：熱源水ポンプの消費電力量を計算する式の係数 (-) (10b)\n",
    "    a_pump_gsRW = get_a_pump_gsRW()\n",
    "\n",
    "    # bpump,gsRW：熱源水ポンプの消費電力量を計算する式の係数 (-) (10b)\n",
    "    b_pump_gsRW = get_b_pump_gsRW()\n",
    "\n",
    "    # 日付dの時刻tにおける1時間当たりの熱源水ポンプの消費電力量（kWh/h） (10a)\n",
    "    E_pump_gsRW_d_t = a_pump_gsRW * qr_out_H_hs_d_t + b_pump_gsRW * (qr_out_H_hs_d_t ** 2)\n",
    "\n",
    "    return E_pump_gsRW_d_t\n",
    "\n",
    "\n",
    "def get_a_pump_gsRW():\n",
    "    \"\"\" apump,gsRW：熱源水ポンプの消費電力量を計算する式の係数 (-) (10b)\n",
    "\n",
    "    :return: apump,gsRW：熱源水ポンプの消費電力量を計算する式の係数 (-)\n",
    "    :rtype: float\n",
    "    \"\"\"\n",
    "    return 0.062196275\n",
    "\n",
    "\n",
    "def get_b_pump_gsRW():\n",
    "    \"\"\" bpump,gsRW：熱源水ポンプの消費電力量を計算する式の係数 (-) (10b)\n",
    "\n",
    "    :return: bpump,gsRW：熱源水ポンプの消費電力量を計算する式の係数 (-)\n",
    "    :rtype:\n",
    "    \"\"\"\n",
    "    return 0.071756474"
   ]
  },
  {
   "cell_type": "markdown",
   "metadata": {},
   "source": [
    "### N.6 補機の消費電力量 / Auxiliary equipment power consumption"
   ]
  },
  {
   "cell_type": "markdown",
   "metadata": {},
   "source": [
    "$$\\large\n",
    "E_{aux,hs,d,t} = k_{auxh1} \\times qr_{out,H,hs,d,t} + k_{auxh0}\n",
    "$$"
   ]
  },
  {
   "cell_type": "markdown",
   "metadata": {},
   "source": [
    "$$\\large\n",
    "\\left\\{ \\begin{array}{ll}\n",
    "    k_{auxh1}= 0.0433205551083371\\\\  \n",
    "    k_{auxh2}= 0.0173758330059922\\\\  \n",
    "    \\end{array}\n",
    "\\right.\n",
    "$$"
   ]
  },
  {
   "cell_type": "markdown",
   "metadata": {},
   "source": [
    "$E_{aux,hs,d,t}$：日付$d$の時刻$t$における1 時間当たりの補機の消費電力量(kWh/h) / Electric power consumption of auxiliary equipment per hour at time $t$ on date $d$  \n",
    "$qr_{out,H,hs,d,t}$：日付$d$の時刻$t$における温水暖房用熱源機の最大暖房能力に対する平均負荷率(-) / Average load factor for maximum heating capacity of the heat source unit for hot water heating at time $t$ on date $d$  \n",
    "$k_{auxh1},k_{auxh0}$：補機の消費電力を計算する式の係数(-) / Coefficient of formula for calculating power consumption of auxiliary equipment  "
   ]
  },
  {
   "cell_type": "code",
   "execution_count": null,
   "metadata": {},
   "outputs": [],
   "source": [
    "def calc_E_aux_hs_d_t(qr_out_H_hs_d_t):\n",
    "    \"\"\" 日付dの時刻tにおける1時間当たりの補機の消費電力量（kWh/h） (11a)\n",
    "\n",
    "    :param qr_out_H_hs_d_t: 日付dの時刻tにおける温水暖房用熱源機の最大暖房能力に対する平均負荷率(-)\n",
    "    :type qr_out_H_hs_d_t: ndarray\n",
    "    :return: 日付dの時刻tにおける1時間当たりの補機の消費電力量（kWh/h）\n",
    "    :rtype: ndarray\n",
    "    \"\"\"\n",
    "    # kauxh0：補機の消費電力量を計算する式の係数 (-) (11b)\n",
    "    kauxh0 = get_kauxh0()\n",
    "\n",
    "    # kauxh1：補機の消費電力量を計算する式の係数 (-) (11b)\n",
    "    kauxh1 = get_kauxh1()\n",
    "\n",
    "    # 日付dの時刻tにおける1時間当たりの熱源水ポンプの消費電力量（kWh/h） (11a)\n",
    "    E_aux_hs_d_t = kauxh1 * qr_out_H_hs_d_t + kauxh0\n",
    "\n",
    "    return E_aux_hs_d_t\n",
    "\n",
    "\n",
    "def get_kauxh0():\n",
    "    \"\"\" kauxh0：補機の消費電力量を計算する式の係数 (-) (11b)\n",
    "\n",
    "    :return: kauxh0：補機の消費電力量を計算する式の係数 (-)\n",
    "    :rtype: float\n",
    "    \"\"\"\n",
    "    return 0.0433205551083371\n",
    "\n",
    "\n",
    "def get_kauxh1():\n",
    "    \"\"\" kauxh1：補機の消費電力量を計算する式の係数 (-) (11b)\n",
    "\n",
    "    :return: kauxh1：補機の消費電力量を計算する式の係数 (-)\n",
    "    :rtype: float\n",
    "    \"\"\"\n",
    "    return 0.0173758330059922"
   ]
  },
  {
   "cell_type": "markdown",
   "metadata": {},
   "source": [
    "### N.7 温水暖房用熱源機の最大暖房能力に対する平均負荷率 / Average load factor for the maximum heating capacity of the heat source unit for hot water heating"
   ]
  },
  {
   "cell_type": "markdown",
   "metadata": {},
   "source": [
    "$$\\large\n",
    "qr_{out,H,hs,d,t} = \\frac{q_{out,H,hs,d,t}\\times 10^3}{q_{max,H,hs,JRA}}\n",
    "$$"
   ]
  },
  {
   "cell_type": "markdown",
   "metadata": {},
   "source": [
    "$q_{out,H,hs,d,t}$：日付$d$の時刻$t$における温水暖房用熱源機の平均暖房出力(kW) / Average heating output of heat source machine for hot water heating at time $t$ on date $d$  \n",
    "$q_{max,H,hs,JRA}$：地中からの戻り熱源水温度および送水温度による補正後の最大暖房能力(W) / Maximum heating capacity after correction by return heat source water temperature and water temperature from the ground  \n",
    "$qr_{out,H,hs,d,t}$：日付$d$の時刻$t$における温水暖房用熱源機の最大暖房能力に対する平均負荷率(-) / Average load factor for maximum heating capacity of the heat source unit for hot water heating at time $t$ on date $d$  \n"
   ]
  },
  {
   "cell_type": "code",
   "execution_count": null,
   "metadata": {},
   "outputs": [],
   "source": [
    "def get_qr_out_H_hs_d_t(q_out_H_hs_d_t, q_max_H_hs_JRA):\n",
    "    \"\"\" 日付dの時刻tにおける温水暖房用熱源機の最大暖房能力に対する平均負荷率（-） (12)\n",
    "\n",
    "    :param q_out_H_hs_d_t: 日付dの時刻tにおける温水暖房用熱源機の最大暖房能力に対する平均負荷率(-)\n",
    "    :type q_out_H_hs_d_t: ndarray\n",
    "    :param q_max_H_hs_JRA: 地中からの戻り熱源水温度および送水温度による補正後の最大暖房能力(W)\n",
    "    :type q_max_H_hs_JRA: ndarray\n",
    "    :return: 日付dの時刻tにおける温水暖房用熱源機の最大暖房能力に対する平均負荷率（-）\n",
    "    :rtype: ndarray\n",
    "    \"\"\"\n",
    "    # 日付dの時刻tにおける温水暖房用熱源機の最大暖房能力に対する平均負荷率（-） (12)\n",
    "    qr_out_H_hs_d_t = (q_out_H_hs_d_t * 10 ** 3) / q_max_H_hs_JRA\n",
    "\n",
    "    return qr_out_H_hs_d_t"
   ]
  },
  {
   "cell_type": "markdown",
   "metadata": {},
   "source": [
    "### N.8 温水暖房用熱源機の平均暖房出力 / Average heating output of heat source for hot water heating"
   ]
  },
  {
   "cell_type": "markdown",
   "metadata": {},
   "source": [
    "$$\\large\n",
    "q_{out,H,hs,d,t} = Q_{out,H,hs,d,t} \\div 3600 \\times 10^3\n",
    "$$"
   ]
  },
  {
   "cell_type": "markdown",
   "metadata": {},
   "source": [
    "$Q_{out,H,hs,d,t}$：日付$d$の時刻$t$における 1 時間当たりの温水暖房用熱源機の暖房出力(MJ/h) / Heating output of heat source machine for hot water heating per hour at time $t$ on date $d$  \n",
    "$q_{out,H,hs,d,t}$：日付$d$の時刻$t$における温水暖房用熱源機の平均暖房出力(kW) / Average heating output of heat source machine for hot water heating at time $t$ on date $d$  \n"
   ]
  },
  {
   "cell_type": "code",
   "execution_count": null,
   "metadata": {},
   "outputs": [],
   "source": [
    "def get_q_out_H_hs_d_t(Q_out_H_hs_d_t):\n",
    "    \"\"\" 日付dの時刻tにおける温水暖房用熱源機の平均暖房出力（kW） (13)\n",
    "\n",
    "    :param Q_out_H_hs_d_t: 日付dの時刻tにおける1時間当たりの温水暖房用熱源機の暖房出力(MJ/h)\n",
    "    :type Q_out_H_hs_d_t: ndarray\n",
    "    :return: 日付dの時刻tにおける温水暖房用熱源機の平均暖房出力（kW）\n",
    "    :rtype: ndarray\n",
    "    \"\"\"\n",
    "    # 日付dの時刻tにおける温水暖房用熱源機の平均暖房出力（kW）(13)\n",
    "    q_out_H_hs_d_t = Q_out_H_hs_d_t / 3600 * 10 ** 3\n",
    "\n",
    "    return q_out_H_hs_d_t"
   ]
  },
  {
   "cell_type": "markdown",
   "metadata": {},
   "source": [
    "$$\\large\n",
    "Q_{out,H,hs,d,t} = min(Q_{dmd,H,hs,d,t},Q_{max,H,hs,d,t})\n",
    "$$"
   ]
  },
  {
   "cell_type": "markdown",
   "metadata": {},
   "source": [
    "$Q_{dmd,H,hs,d,t}$：日付$d$の時刻$t$における 1 時間当たりの温水暖房用熱源機の温水熱需要(MJ/h) / Hourly hot water heat demand of hot water heating heat source machine at time $t$ on date $d$  \n",
    "$q_{max,H,hs,d,t}$：日付$d$の時刻$t$における 1 時間当たりの温水暖房用熱源機の最大暖房出力(MJ/h) / Maximum heating output of heat source machine for hot water heating per hour at time $t$ on date $d$  \n"
   ]
  },
  {
   "cell_type": "code",
   "execution_count": null,
   "metadata": {},
   "outputs": [],
   "source": [
    "def get_Q_out_H_hs_d_t(Q_dmd_H_hs_d_t, Q_max_H_hs_d_t):\n",
    "    \"\"\" 日付dの時刻tにおける1時間当たりの温水暖房用熱源機の暖房出力（MJ/h）(14)\n",
    "\n",
    "    :param Q_dmd_H_hs_d_t: 日付dの時刻tにおける1時間当たりの温水暖房用熱源機の温水熱需要(MJ/h)\n",
    "    :type Q_dmd_H_hs_d_t: ndarray\n",
    "    :param Q_max_H_hs_d_t: 日付dの時刻tにおける1時間当たりの温水暖房用熱源機の最大暖房出力(MJ/h)\n",
    "    :type Q_max_H_hs_d_t: ndarray\n",
    "    :return: 日付dの時刻tにおける1時間当たりの温水暖房用熱源機の暖房出力（MJ/h）\n",
    "    :rtype: ndarray\n",
    "    \"\"\"\n",
    "    # 日付dの時刻tにおける温水暖房用熱源機の平均暖房出力（kW）(14)\n",
    "    return np.min([Q_dmd_H_hs_d_t, Q_max_H_hs_d_t], axis=0)"
   ]
  },
  {
   "cell_type": "markdown",
   "metadata": {},
   "source": [
    "$$\\large\n",
    "Q_{max,H,hs,d,t} = (−0.005635139785329 \\times \\theta_{SW,d,t} + 0.0258983299329793 \\times max(min(\\theta_{gsRW,d\\_ave,d},20),0)+0.836930642418471) \\times q_{max,H,hs,JRA} \\times 3600 \\times 10^{-6}\n",
    "$$"
   ]
  },
  {
   "cell_type": "markdown",
   "metadata": {},
   "source": [
    "$Q_{max,H,hs,d,t}$：日付$d$の時刻$t$における 1 時間当たりの温水暖房用熱源機の最大暖房出力(MJ/h) / Maximum heating output of the heat source machine for hot water heating per hour at time $t$ on date $d$  \n",
    "$q_{max,H,hs,JRA}$：地中からの戻り熱源水温度および送水温度による補正後の最大暖房能力(W) / Maximum heating capacity after correction by the return heat source water temperature from the ground and the sending water temperature  \n",
    "$\\theta_{SW,d,t}$：日付$d$の時刻$t$における往き温水温度(℃) / Outgoing hot water temperature at time $t$ on date $d$  \n",
    "$\\theta_{gsRW,d\\_ave,d}$：日付$d$における地中熱交換器からの戻り熱源水の日平均温度(℃) / Daily mean temperature of return heat source water from underground heat exchangers at date $d$  \n"
   ]
  },
  {
   "cell_type": "code",
   "execution_count": null,
   "metadata": {},
   "outputs": [],
   "source": [
    "def calc_Q_max_H_hs_d_t(Theta_SW_d_t, Theta_ex_d_Ave_d, Theta_ex_H_Ave, Theta_ex_a_Ave, q_max_hs, L_H_x_t_i, L_CS_x_t_i, L_CL_x_t_i, HeatExchangerType):\n",
    "    \"\"\" 日付dの時刻tにおける1時間当たりの温水暖房用熱源機の最大暖房出力(MJ/h) (15)\n",
    "\n",
    "    :param Theta_SW_d_t: 往き温水温度 (℃)\n",
    "    :type Theta_SW_d_t: ndarray\n",
    "    :param Theta_ex_d_Ave_d: 日付dにおける日平均外気温度 (℃)\n",
    "    :type Theta_ex_d_Ave_d: ndarray\n",
    "    :param Theta_ex_H_Ave: 暖房期における期間平均外気温度（℃）\n",
    "    :type Theta_ex_H_Ave: float\n",
    "    :param Theta_ex_a_Ave: 年平均外気温度 (℃)\n",
    "    :type Theta_ex_a_Ave: float\n",
    "    :param q_max_hs: 熱源機の最大暖房能力 ⒲\n",
    "    :type q_max_hs: float\n",
    "    :param L_H_x_t_i: 暖冷房区画iの1時間当たりの暖房負荷\n",
    "    :type L_H_x_t_i: ndarray\n",
    "    :param L_CS_x_t_i: 日付dの時刻tにおける暖冷房区画iの冷房顕熱負荷 (MJ/h)\n",
    "    :type L_CS_x_t_i: ndarray\n",
    "    :param L_CL_x_t_i: 日付dの時刻tにおける暖冷房区画iの冷房潜熱負荷 (MJ/h)\n",
    "    :type L_CL_x_t_i: ndarray\n",
    "    :param HeatExchangerType: 熱交換器タイプ (-)\n",
    "    :type HeatExchangerType: str\n",
    "    :return: 日付dの時刻tにおける1時間当たりの温水暖房用熱源機の最大暖房出力(MJ/h)\n",
    "    :rtype: ndarray\n",
    "    \"\"\"\n",
    "    # ---------- 地中熱交換器からの戻り熱源水の日平均温度 ----------\n",
    "\n",
    "    # 1日当たりの冷房全熱負荷の年間最大値（MJ/d）(20c)\n",
    "    L_max_C = get_L_max_C(L_CS_x_t_i, L_CL_x_t_i)\n",
    "\n",
    "    # 1日当たりの暖房負荷の年間最大値（MJ/d）(20b)\n",
    "    L_max_H = get_L_max_H(L_H_x_t_i)\n",
    "\n",
    "    # 1日当たりの暖房負荷の年間最大値と1日当たりの冷房負荷の年間最大値の和に対する、これらの差の比（-）(20a)\n",
    "    R_L_max = get_R_L_max(L_max_H, L_max_C)\n",
    "\n",
    "    # 地中熱交換器からの戻り熱源水温度を求める式の係数（-）(19)\n",
    "    K_gsRW_H = calc_K_gsRW_H(R_L_max, HeatExchangerType)\n",
    "\n",
    "    # 暖房期における地中熱交換器からの戻り熱源水の期間平均温度と年平均外気温度との差（℃）(18)\n",
    "    Delta_Theta_gsRW_H = calc_Delta_Theta_gsRW_H(R_L_max, HeatExchangerType)\n",
    "\n",
    "    # 日付dにおける地中熱交換器からの戻り熱源水の日平均温度（℃）(17)\n",
    "    Theta_gsRW_d_ave_d = get_Theta_gsRW_d_ave_d(K_gsRW_H, Theta_ex_d_Ave_d, Theta_ex_H_Ave, Theta_ex_a_Ave,\n",
    "                                                Delta_Theta_gsRW_H)\n",
    "\n",
    "    # ---------- 地中からの戻り熱源水温度および送水温度による補正後の最大暖房能力(W) (16) ----------\n",
    "    q_max_H_hs_JRA = calc_q_max_H_hs_JRA(q_max_hs)\n",
    "\n",
    "    # ---------- 日付dの時刻tにおける1時間当たりの温水暖房用熱源機の最大暖房出力(MJ/h)(15) ----------\n",
    "    Q_max_H_hs_d_t = (-0.005635139785329 * Theta_SW_d_t\n",
    "                      + 0.0258983299329793 * np.clip(np.repeat(Theta_gsRW_d_ave_d, 24), 0, 20) + 0.836930642418471) * q_max_H_hs_JRA * 3600 * 10 ** (-6)\n",
    "\n",
    "    return Q_max_H_hs_d_t"
   ]
  },
  {
   "cell_type": "markdown",
   "metadata": {},
   "source": [
    "### N.9 温水暖房用熱源機内の平均放熱損失 / Average heat radiation loss in heat source for hot water heating"
   ]
  },
  {
   "cell_type": "markdown",
   "metadata": {},
   "source": [
    "日付$d$の時刻$t$における温水暖房用熱源機内の平均放熱損失$q_{loss,H,hs,d,t}$ は、0とする。"
   ]
  },
  {
   "cell_type": "markdown",
   "metadata": {},
   "source": [
    "The average heat dissipation loss $q_{loss,H,hs,d,t}$ in the heat source unit for hot water heating at time $t$ on date $d$ shall be zero."
   ]
  },
  {
   "cell_type": "code",
   "execution_count": null,
   "metadata": {},
   "outputs": [],
   "source": [
    "def get_q_loss_H_hs_d_t():\n",
    "    \"\"\" 日付dの時刻tにおける温水暖房用熱源機内の平均放熱損失（kW）\n",
    "\n",
    "    :return: 日付dの時刻tにおける温水暖房用熱源機内の平均放熱損失（kW）\n",
    "    :rtype: float\n",
    "    \"\"\"\n",
    "    return 0"
   ]
  },
  {
   "cell_type": "markdown",
   "metadata": {},
   "source": [
    "### N.10 地中からの戻り熱源水温度および送水温度による補正後の最大暖房能力 / Maximum heating capacity after correction by the return heat source water temperature from the ground and the sending water temperature"
   ]
  },
  {
   "cell_type": "markdown",
   "metadata": {},
   "source": [
    "$$\\large\n",
    "q_{max,H,hs,JRA} = q_{max,hs} \\times f_{crated}\n",
    "$$"
   ]
  },
  {
   "cell_type": "markdown",
   "metadata": {},
   "source": [
    "$q_{max,hs}$：温水暖房用熱源機の最大暖房能力(W) / Maximum heating capacity of heat source unit for hot water heating  \n",
    "$q_{max,H,hs,JRA}$：地中からの戻り熱源水温度および送水温度による補正後の最大暖房能力(W) / Maximum heating capacity after correction by the return heat source water temperature from the ground and the sending water temperature  \n",
    "$f_{crated}$：地中からの戻り熱源水温度および送水温度に関する最大暖房能力の補正係数(-) / Correction coefficient of maximum heating capacity for return heat source water temperature and water supply temperature from underground  \n"
   ]
  },
  {
   "cell_type": "code",
   "execution_count": null,
   "metadata": {},
   "outputs": [],
   "source": [
    "def calc_q_max_H_hs_JRA(q_max_hs):\n",
    "    \"\"\" 地中からの戻り熱源水温度および送水温度による補正後の最大暖房能力(W) (16)\n",
    "\n",
    "    :param q_max_hs: 熱源機の最大暖房能力 ⒲\n",
    "    :type q_max_hs:\n",
    "    :return: 地中からの戻り熱源水温度および送水温度による補正後の最大暖房能力(W)\n",
    "    :rtype:\n",
    "    \"\"\"\n",
    "    # 地中からの戻り熱源水温度および送水温度に関する最大暖房能力の補正係数(-)\n",
    "    f_crated = get_f_crated()\n",
    "\n",
    "    # 地中からの戻り熱源水温度および送水温度による補正後の最大暖房能力(W)(16)\n",
    "    q_max_H_hs_JRA = q_max_hs * f_crated\n",
    "\n",
    "    return q_max_H_hs_JRA\n",
    "\n",
    "\n",
    "def calc_q_rtd_hs(region, A_A, A_MR, A_OR, mode_MR, mode_OR, has_MR_hwh, has_OR_hwh):\n",
    "    \"\"\" 温水暖房用熱源機の定格能力\n",
    "\n",
    "    :param region: 省エネルギー地域区分\n",
    "    :type region: int\n",
    "    :param A_A: 床面積の合計 (m2)\n",
    "    :type A_A: float\n",
    "    :param A_MR: 主たる居室の床面積 (m2)\n",
    "    :type A_MR: float\n",
    "    :param A_OR: その他の居室の床面積 (m2)\n",
    "    :type A_OR: float\n",
    "    :param mode_MR: 主たる居室の運転モード 'い', 'ろ', 'は'\n",
    "    :type mode_MR: str\n",
    "    :param mode_OR: その他の居室の運転モード 'い', 'ろ', 'は'\n",
    "    :type mode_OR: str\n",
    "    :param has_MR_hwh: 温水暖房の放熱器を主たる居室に設置する場合はTrue\n",
    "    :type has_MR_hwh: bool\n",
    "    :param has_OR_hwh: 温水暖房の放熱器をその他の居室に設置する場合はTrue\n",
    "    :type has_OR_hwh: bool\n",
    "    :return: 温水暖房用熱源機の定格能力\n",
    "    :rtype: float\n",
    "    \"\"\"\n",
    "    # 付録Hに定める温水暖房用熱源機の最大能力 q_max_hs に等しい\n",
    "    return appendix_H.calc_q_max_hs(region, A_A, A_MR, A_OR, mode_MR, mode_OR, has_MR_hwh, has_OR_hwh)"
   ]
  },
  {
   "cell_type": "markdown",
   "metadata": {},
   "source": [
    "地中からの戻り熱源水温度および送水温度に関する最大暖房能力の補正係数$f_{crated}$は、1.35 とする。\n"
   ]
  },
  {
   "cell_type": "markdown",
   "metadata": {},
   "source": [
    "The correction coefficient $f_{crated}$ of the maximum heating capacity for the return heat source water temperature and the water sending temperature from the ground is 1.35."
   ]
  },
  {
   "cell_type": "code",
   "execution_count": null,
   "metadata": {},
   "outputs": [],
   "source": [
    "def get_f_crated():\n",
    "    \"\"\" 地中からの戻り熱源水温度および送水温度に関する最大暖房能力の補正係数(-)\n",
    "\n",
    "    :return: 地中からの戻り熱源水温度および送水温度に関する最大暖房能力の補正係数(-)\n",
    "    :rtype: float\n",
    "    \"\"\"\n",
    "    return 1.35"
   ]
  },
  {
   "cell_type": "markdown",
   "metadata": {},
   "source": [
    "### N.11 地中熱交換器からの戻り熱源水の日平均温度 / Daily average temperature of return heat source water from underground heat exchanger"
   ]
  },
  {
   "cell_type": "markdown",
   "metadata": {},
   "source": [
    "$$\\large\n",
    "\\theta_{gsRW,d\\_ave,d} = k_{gsRW,H}(\\theta_{ex,d\\_Ave,d}-\\theta_{ex,H\\_Ave})+\\theta_{ex,a\\_Ave}+\\Delta\\theta_{gsRW,H}\n",
    "$$"
   ]
  },
  {
   "cell_type": "markdown",
   "metadata": {},
   "source": [
    "$\\Delta\\theta_{gsRW,H}$：暖房期における地中熱交換器からの戻り熱源水の期間平均温度と年平均外気温度との差(℃) / Difference between the annual mean temperature and the annual mean outside temperature of the return heat source water from the underground heat exchanger during the heating period  \n",
    "$\\theta_{ex,a\\_Ave}$：年平均外気温度(℃) / Average annual outside temperature  \n",
    "$\\theta_{ex,d\\_Ave,d}$：日付$d$における日平均外気温度(℃) / Average daily outside temperature at date $d$  \n",
    "$\\theta_{ex,H\\_Ave}$：暖房期における期間平均外気温度(℃) / Average temperature of outside air during heating period  \n",
    "$\\theta_{gsRW,d\\_ave,d}$：日付$d$における地中熱交換器からの戻り熱源水の日平均温度(℃) / Daily mean temperature of return heat source water from underground heat exchangers at date $d$  \n",
    "$k_{gsRW,H}$：地中熱交換器からの戻り熱源水温度を求める式の係数(-) / Coefficients of the equation for the return heat source water temperature from the underground heat exchanger  \n"
   ]
  },
  {
   "cell_type": "code",
   "execution_count": null,
   "metadata": {},
   "outputs": [],
   "source": [
    "def get_Theta_gsRW_d_ave_d(K_gsRW_H, Theta_ex_d_Ave_d, Theta_ex_H_Ave, Theta_ex_a_Ave, Delta_Theta_gsRW_H):\n",
    "    \"\"\" 日付dにおける地中熱交換器からの戻り熱源水の日平均温度(℃) (17)\n",
    "\n",
    "    :param K_gsRW_H: K_gsRW_H: 地中熱交換器からの戻り熱源水温度を求める式の係数(-)\n",
    "    :type K_gsRW_H: float\n",
    "    :param Theta_ex_d_Ave_d: 日付dにおける日平均外気温度 (℃)\n",
    "    :type Theta_ex_d_Ave_d: ndarray\n",
    "    :param Theta_ex_H_Ave: 暖房期における期間平均外気温度（℃）\n",
    "    :type Theta_ex_H_Ave: float\n",
    "    :param Theta_ex_a_Ave: 年平均外気温度 (℃)\n",
    "    :type Theta_ex_a_Ave: float\n",
    "    :param Delta_Theta_gsRW_H: 暖房期における地中熱交換器からの戻り熱源水の期間平均温度と年平均外気温度との差（℃）\n",
    "    :type Delta_Theta_gsRW_H: float\n",
    "    :return: 日付dにおける地中熱交換器からの戻り熱源水の日平均温度(℃)\n",
    "    :rtype: ndarray\n",
    "    \"\"\"\n",
    "    # 日付dにおける地中熱交換器からの戻り熱源水の日平均温度(℃) (17)\n",
    "    Theta_gsRW_d_ave_d = K_gsRW_H * (Theta_ex_d_Ave_d - Theta_ex_H_Ave) + Theta_ex_a_Ave + Delta_Theta_gsRW_H\n",
    "\n",
    "    return Theta_gsRW_d_ave_d"
   ]
  },
  {
   "cell_type": "markdown",
   "metadata": {},
   "source": [
    "$$\\large\n",
    "\\Delta\\theta_{gsRW,H}= a_{gsRW,H}R_{L_{max}} +b_{gsRW,H}\n",
    "$$"
   ]
  },
  {
   "cell_type": "markdown",
   "metadata": {},
   "source": [
    "$R_{L_{max}}$：1日当たりの暖房負荷の年間最大値と1日当たりの冷房負荷の年間最大値の和に対する、これらの差の比(-) / The ratio of these differences to the sum of the annual maximum heating load and the maximum cooling load per day.  \n",
    "$\\Delta\\theta_{gsRW,H}$：暖房期における地中熱交換器からの戻り熱源水の期間平均温度と年平均外気温度との差(℃) / Difference between the annual mean temperature and the annual mean outside temperature of the return heat source water from the underground heat exchanger during the heating period  \n",
    "$a_{gsRW,H}、b_{gsRW,H}$：係数(-) / coefficient  \n"
   ]
  },
  {
   "cell_type": "code",
   "execution_count": null,
   "metadata": {},
   "outputs": [],
   "source": [
    "def calc_Delta_Theta_gsRW_H(R_L_max, HeatExchangerType):\n",
    "    \"\"\" 暖房期における地中熱交換器からの戻り熱源水の期間平均温度と年平均外気温度との差（℃）(18)\n",
    "\n",
    "    :param R_L_max: 1日当たりの暖房負荷の年間最大値と1日当たりの冷房負荷の年間最大値の和に対する、これらの差の比（-）\n",
    "    :type R_L_max: float\n",
    "    :param HeatExchangerType: 地中熱交換器タイプ\n",
    "    :type HeatExchangerType: str\n",
    "    :return: 暖房期における地中熱交換器からの戻り熱源水の期間平均温度と年平均外気温度との差（℃）\n",
    "    :rtype: float\n",
    "    \"\"\"\n",
    "    # 熱交換器タイプに応じた係数取得\n",
    "    a_gsRW_H = get_a_gsRW_H(HeatExchangerType)\n",
    "    b_gsRW_H = get_b_gsRW_H(HeatExchangerType)\n",
    "\n",
    "    # 暖房期における地中熱交換器からの戻り熱源水の期間平均温度と年平均外気温度との差（℃）(18)\n",
    "    Delta_Theta_gsRW_H = a_gsRW_H * R_L_max + b_gsRW_H\n",
    "\n",
    "    return Delta_Theta_gsRW_H\n"
   ]
  },
  {
   "cell_type": "markdown",
   "metadata": {},
   "source": [
    "$$\\large\n",
    "k_{gsRW,H}= c_{gsRW,H}R_{L_{max}} +d_{gsRW,H}\n",
    "$$"
   ]
  },
  {
   "cell_type": "markdown",
   "metadata": {},
   "source": [
    "$R_{L_{max}}$：1日当たりの暖房負荷の年間最大値と1日当たりの冷房負荷の年間最大値の和に対する、これらの差の比(-) / The ratio of these differences to the sum of the annual maximum heating load and the maximum cooling load per day.  \n",
    "$\\Delta\\theta_{gsRW,H}$：暖房期における地中熱交換器からの戻り熱源水の期間平均温度と年平均外気温度との差(℃) / Difference between the annual mean temperature and the annual mean outside temperature of the return heat source water from the underground heat exchanger during the heating period  \n",
    "$c_{gsRW,H}、d_{gsRW,H}$：係数(-) / coefficient  \n"
   ]
  },
  {
   "cell_type": "code",
   "execution_count": null,
   "metadata": {},
   "outputs": [],
   "source": [
    "def calc_K_gsRW_H(R_L_max, HeatExchangerType):\n",
    "    \"\"\" 地中熱交換器からの戻り熱源水温度を求める式の係数（-）(19)\n",
    "\n",
    "    :param R_L_max: 1日当たりの暖房負荷の年間最大値と1日当たりの冷房負荷の年間最大値の和に対する、これらの差の比（-）\n",
    "    :type R_L_max: float\n",
    "    :param HeatExchangerType: 熱交換器タイプ (-)\n",
    "    :type HeatExchangerType: str\n",
    "    :return: 地中熱交換器からの戻り熱源水温度を求める式の係数（-）(19)\n",
    "    :rtype: float\n",
    "    \"\"\"\n",
    "    # 熱交換器タイプに応じた係数取得\n",
    "    c_gsRW_H = get_c_gsRW_H(HeatExchangerType)\n",
    "    d_gsRW_H = get_d_gsRW_H(HeatExchangerType)\n",
    "\n",
    "    # 地中熱交換器からの戻り熱源水温度を求める式の係数（-）(19)\n",
    "    K_gsRW_H = c_gsRW_H * R_L_max + d_gsRW_H\n",
    "\n",
    "    return K_gsRW_H"
   ]
  },
  {
   "cell_type": "markdown",
   "metadata": {},
   "source": [
    "<div style=\"text-align: center;font-weight: bold;\">表　係数<br>Table: Coefficient</div>\n",
    "\n",
    "<table>\n",
    "<thead>\n",
    "<tr>\n",
    "<th rowspan=\"2\">熱交換器タイプ<br>Heat exchanger type</th>\n",
    "<th colspan=\"4\" style=\"text-align: center;\">係数(-)<br>Coefficient</th>\n",
    "</tr>\n",
    "<tr>\n",
    "<th>$a_{gsRW,H}$</th>\n",
    "<th>$b_{gsRW,H}$</th>\n",
    "<th>$c_{gsRW,H}$</th>\n",
    "<th>$d_{gsRW,H}$</th>\n",
    "</tr>\n",
    "</thead>\n",
    "<tbody>\n",
    "<tr><th>1</th><td>3.1672</td><td>-0.4273</td><td>-0.0444</td><td>0.0442</td></tr>\n",
    "<tr><th>2</th><td>5.9793</td><td>-1.0687</td><td>-0.1613</td><td>0.1047</td></tr>\n",
    "<tr><th>3</th><td>8.3652</td><td>-1.5946</td><td>-0.2486</td><td>0.1546</td></tr>\n",
    "<tr><th>4</th><td>9.9065</td><td>-2.1827</td><td>-0.3454</td><td>0.2072</td></tr>\n",
    "<tr><th>5</th><td>10.2898</td><td>-2.8727</td><td>-0.3270</td><td>0.2700</td></tr>\n",
    "</tbody>\n",
    "</table>\n"
   ]
  },
  {
   "cell_type": "code",
   "execution_count": null,
   "metadata": {},
   "outputs": [],
   "source": [
    "def get_a_gsRW_H(HeatExchangerType):\n",
    "    \"\"\" 熱交換器タイプに応じた係数a_gsRW_Hの取得\n",
    "\n",
    "    :param HeatExchangerType: 熱交換器タイプ (-)\n",
    "    :type HeatExchangerType: str\n",
    "    :return: 熱交換器タイプに応じた係数a_gsRW_Hの取得\n",
    "    :rtype: float\n",
    "    \"\"\"\n",
    "\n",
    "    if HeatExchangerType == '1':\n",
    "        return get_table_n_3()[0][0]\n",
    "    elif HeatExchangerType == '2':\n",
    "        return get_table_n_3()[1][0]\n",
    "    elif HeatExchangerType == '3':\n",
    "        return get_table_n_3()[2][0]\n",
    "    elif HeatExchangerType == '4':\n",
    "        return get_table_n_3()[3][0]\n",
    "    elif HeatExchangerType == '5':\n",
    "        return get_table_n_3()[4][0]\n",
    "    else:\n",
    "        raise ValueError(HeatExchangerType)\n",
    "\n",
    "\n",
    "def get_b_gsRW_H(HeatExchangerType):\n",
    "    \"\"\" 熱交換器タイプに応じた係数b_gsRW_Hの取得\n",
    "\n",
    "    :param HeatExchangerType: 熱交換器タイプ (-)\n",
    "    :type HeatExchangerType: str\n",
    "    :return: 熱交換器タイプに応じた係数b_gsRW_Hの取得\n",
    "    :rtype: float\n",
    "    \"\"\"\n",
    "    if HeatExchangerType == '1':\n",
    "        return get_table_n_3()[0][1]\n",
    "    elif HeatExchangerType == '2':\n",
    "        return get_table_n_3()[1][1]\n",
    "    elif HeatExchangerType == '3':\n",
    "        return get_table_n_3()[2][1]\n",
    "    elif HeatExchangerType == '4':\n",
    "        return get_table_n_3()[3][1]\n",
    "    elif HeatExchangerType == '5':\n",
    "        return get_table_n_3()[4][1]\n",
    "    else:\n",
    "        raise ValueError(HeatExchangerType)\n",
    "\n",
    "\n",
    "def get_c_gsRW_H(HeatExchangerType):\n",
    "    \"\"\" 熱交換器タイプに応じた係数a_gsRW_Hの取得\n",
    "\n",
    "    :param HeatExchangerType: 熱交換器タイプ (-)\n",
    "    :type HeatExchangerType: str\n",
    "    :return: 熱交換器タイプに応じた係数a_gsRW_Hの取得\n",
    "    :rtype: float\n",
    "    \"\"\"\n",
    "    if HeatExchangerType == '1':\n",
    "        return get_table_n_3()[0][2]\n",
    "    elif HeatExchangerType == '2':\n",
    "        return get_table_n_3()[1][2]\n",
    "    elif HeatExchangerType == '3':\n",
    "        return get_table_n_3()[2][2]\n",
    "    elif HeatExchangerType == '4':\n",
    "        return get_table_n_3()[3][2]\n",
    "    elif HeatExchangerType == '5':\n",
    "        return get_table_n_3()[4][2]\n",
    "    else:\n",
    "        raise ValueError(HeatExchangerType)\n",
    "\n",
    "\n",
    "def get_d_gsRW_H(HeatExchangerType):\n",
    "    \"\"\" 熱交換器タイプに応じた係数b_gsRW_Hの取得\n",
    "\n",
    "    :param HeatExchangerType: 熱交換器タイプ (-)\n",
    "    :type HeatExchangerType: str\n",
    "    :return: 熱交換器タイプに応じた係数b_gsRW_Hの取得\n",
    "    :rtype: float\n",
    "    \"\"\"\n",
    "    if HeatExchangerType == '1':\n",
    "        return get_table_n_3()[0][3]\n",
    "    elif HeatExchangerType == '2':\n",
    "        return get_table_n_3()[1][3]\n",
    "    elif HeatExchangerType == '3':\n",
    "        return get_table_n_3()[2][3]\n",
    "    elif HeatExchangerType == '4':\n",
    "        return get_table_n_3()[3][3]\n",
    "    elif HeatExchangerType == '5':\n",
    "        return get_table_n_3()[4][3]\n",
    "    else:\n",
    "        raise ValueError(HeatExchangerType)\n",
    "\n",
    "\n",
    "def get_table_n_3():\n",
    "    \"\"\" 表N.3 係数\n",
    "\n",
    "    :return: 表N.3 係数\n",
    "    :rtype: list\n",
    "    \"\"\"\n",
    "    table_n_3 = [\n",
    "        (3.1672, -0.4273, -0.0444, 0.0442),\n",
    "        (5.9793, -1.0687, -0.1613, 0.1047),\n",
    "        (8.3652, -1.5946, -0.2486, 0.1546),\n",
    "        (9.9065, -2.1827, -0.3454, 0.2072),\n",
    "        (10.2898, -2.8727, -0.3270, 0.2700)\n",
    "    ]\n",
    "    return table_n_3"
   ]
  },
  {
   "cell_type": "markdown",
   "metadata": {},
   "source": [
    "$$\\large\n",
    "R_{L_{max}}= \\frac{L_{max,C}-L_{max,H}}{L_{max,C}+L_{max,H}}\n",
    "$$"
   ]
  },
  {
   "cell_type": "markdown",
   "metadata": {},
   "source": [
    "$$\\large\n",
    "L_{max,H}= max\\left\\{ \\sum^{23}_{t=0}\\sum^{12}_{i=1}L_{H,x,t,i}| 1\\leq x \\leq 365 \\right\\}\n",
    "$$"
   ]
  },
  {
   "cell_type": "markdown",
   "metadata": {},
   "source": [
    "$$\\large\n",
    "L_{max,C}= max\\left\\{ \\sum^{23}_{t=0}\\sum^{12}_{i=1}(L_{CS,x,t,i}+L_{CL,x,t,i})| 1\\leq x \\leq 365 \\right\\}\n",
    "$$"
   ]
  },
  {
   "cell_type": "markdown",
   "metadata": {},
   "source": [
    "$L_{CS,d,t,i}$：日付$d$の時刻$t$における暖冷房区画$i$の冷房顕熱負荷(MJ/h) / Cooling sensible heat load of heating/cooling section $i$ at time $t$ on date $d$  \n",
    "$L_{CL,d,t,i}$：日付$d$の時刻$t$における暖冷房区画$i$の冷房潜熱負荷(MJ/h) / Cooling latent heat load of heating/cooling section $i$ at time $t$ on date $d$  \n",
    "$L_{H,d,t,i}$：日付$d$の時刻$t$における暖冷房区画$i$の暖房負荷(MJ/h) / Heating load of heating/cooling section $i$ at time $t$ on date $d$  \n",
    "$L_{max,H}$：1 日当たりの暖房負荷の年間最大値(MJ/d) / Annual maximum heating load per day  \n",
    "$L_{max,C}$：1 日当たりの冷房全熱負荷の年間最大値(MJ/d) / Annual maximum total cooling heat load per day  \n",
    "$R_{L_{max}}$：1 日当たりの暖房負荷の年間最大値と 1 日当たりの冷房負荷の年間最大値の和に対する、これらの差の比(-) / The ratio of these differences to the sum of the annual maximum heating load per day and the annual maximum cooling load per day.  \n"
   ]
  },
  {
   "cell_type": "code",
   "execution_count": null,
   "metadata": {},
   "outputs": [],
   "source": [
    "def get_R_L_max(L_max_H, L_max_C):\n",
    "    \"\"\" 1日当たりの暖房負荷の年間最大値と1日当たりの冷房負荷の年間最大値の和に対する、これらの差の比（-）(20a)\n",
    "\n",
    "    :param L_max_H: 1日当たりの暖房負荷の年間最大値（MJ/d）\n",
    "    :type L_max_H: float\n",
    "    :param L_max_C: 1日当たりの冷房全熱負荷の年間最大値（MJ/d）\n",
    "    :type L_max_C: float\n",
    "    :return: 1日当たりの暖房負荷の年間最大値と1日当たりの冷房負荷の年間最大値の和に対する、これらの差の比（-）(20a)\n",
    "    :rtype: float\n",
    "    \"\"\"\n",
    "    # 1日当たりの暖房負荷の年間最大値と1日当たりの冷房負荷の年間最大値の和に対する、これらの差の比（-）(20a)\n",
    "    R_L_max = (L_max_C - L_max_H) / (L_max_C + L_max_H)\n",
    "\n",
    "    return R_L_max\n",
    "\n",
    "\n",
    "def get_L_max_H(L_H_x_t_i):\n",
    "    \"\"\" 1日当たりの暖房負荷の年間最大値（MJ/d）(20b)\n",
    "\n",
    "    :param L_H_x_t_i: 暖冷房区画iの1時間当たりの暖房負荷\n",
    "    :type L_H_x_t_i: ndarray\n",
    "    :return: 1日当たりの暖房負荷の年間最大値（MJ/d）\n",
    "    :rtype: float\n",
    "    \"\"\"\n",
    "    # L_H_x_t_iは暖冷房区画毎に365日×24時間分の負荷を持った2次元配列\n",
    "    # 暖冷房区画軸合算(暖冷房区画の次元をなくす)\n",
    "    L_H_x_t = np.sum(L_H_x_t_i, axis=0)\n",
    "\n",
    "    # 1次元配列を2次元配列に形状変換する\n",
    "    L_H_x_t = np.reshape(L_H_x_t, (365, 24))\n",
    "\n",
    "    # 時間軸合算\n",
    "    L_H_x = np.sum(L_H_x_t, axis=1)\n",
    "\n",
    "    # 1日当たりの暖房負荷の年間最大値（MJ/d）(20b)\n",
    "    L_max_H = np.max(L_H_x)\n",
    "\n",
    "    return L_max_H\n",
    "\n",
    "\n",
    "def get_L_max_C(L_CS_x_t_i, L_CL_x_t_i):\n",
    "    \"\"\" 1日当たりの冷房全熱負荷の年間最大値（MJ/d）(20c)\n",
    "\n",
    "    :param L_CS_x_t_i: 日付dの時刻tにおける暖冷房区画iの冷房顕熱負荷 (MJ/h)\n",
    "    :type L_CS_x_t_i: ndarray\n",
    "    :param L_CL_x_t_i: 日付dの時刻tにおける暖冷房区画iの冷房潜熱負荷 (MJ/h)\n",
    "    :type L_CL_x_t_i: ndarray\n",
    "    :return: 1日当たりの冷房全熱負荷の年間最大値（MJ/d）\n",
    "    :rtype: float\n",
    "    \"\"\"\n",
    "    # 暖冷房区画軸合算(暖冷房区画の次元をなくす)\n",
    "    L_CS_x_t = np.sum(L_CS_x_t_i, axis=0)\n",
    "    L_CL_x_t = np.sum(L_CL_x_t_i, axis=0)\n",
    "\n",
    "    # L_CS_x_tとL_CL_x_tの要素同士を足す\n",
    "    L_C_x_t = L_CS_x_t + L_CL_x_t\n",
    "\n",
    "    # 1次元配列を2次元配列に形状変換する\n",
    "    L_C_x_t = np.reshape(L_C_x_t, (365, 24))\n",
    "\n",
    "    # 時間軸合算\n",
    "    L_C_x = np.sum(L_C_x_t, axis=1)\n",
    "\n",
    "    # 1日当たりの冷房全熱負荷の年間最大値（MJ/d）(20c)\n",
    "    L_max_C = np.max(L_C_x)\n",
    "\n",
    "    return L_max_C"
   ]
  },
  {
   "cell_type": "markdown",
   "metadata": {},
   "source": [
    "### N.12 平均外気温度 / Average outside temperature"
   ]
  },
  {
   "cell_type": "markdown",
   "metadata": {},
   "source": [
    "省略"
   ]
  },
  {
   "cell_type": "markdown",
   "metadata": {},
   "source": [
    "ommision"
   ]
  },
  {
   "cell_type": "markdown",
   "metadata": {},
   "source": [
    "### N.13 暖房負荷・冷房負荷 / Heating load/cooling load"
   ]
  },
  {
   "cell_type": "markdown",
   "metadata": {},
   "source": [
    "省略"
   ]
  },
  {
   "cell_type": "markdown",
   "metadata": {},
   "source": [
    "ommision"
   ]
  }
 ],
 "metadata": {
  "kernelspec": {
   "display_name": "Python 3",
   "language": "python",
   "name": "python3"
  },
  "language_info": {
   "codemirror_mode": {
    "name": "ipython",
    "version": 3
   },
   "file_extension": ".py",
   "mimetype": "text/x-python",
   "name": "python",
   "nbconvert_exporter": "python",
   "pygments_lexer": "ipython3",
   "version": "3.7.3"
  },
  "toc": {
   "base_numbering": 1,
   "nav_menu": {},
   "number_sections": false,
   "sideBar": true,
   "skip_h1_title": false,
   "title_cell": "Table of Contents",
   "title_sidebar": "Contents",
   "toc_cell": false,
   "toc_position": {},
   "toc_section_display": true,
   "toc_window_display": false
  }
 },
 "nbformat": 4,
 "nbformat_minor": 2
}
