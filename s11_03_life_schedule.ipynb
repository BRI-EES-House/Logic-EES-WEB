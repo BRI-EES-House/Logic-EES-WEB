{
 "cells": [
  {
   "cell_type": "code",
   "execution_count": null,
   "metadata": {},
   "outputs": [],
   "source": [
    "import pandas as pd\n",
    "from functools import lru_cache"
   ]
  },
  {
   "cell_type": "markdown",
   "metadata": {},
   "source": [
    "## 第三節　生活スケジュール / Section 3 Life schedule"
   ]
  },
  {
   "cell_type": "markdown",
   "metadata": {},
   "source": [
    "1．適用範囲～3. 用語の定義は省略"
   ]
  },
  {
   "cell_type": "markdown",
   "metadata": {},
   "source": [
    "1. Scope of application ~ 3. Definition of terms are omitted"
   ]
  },
  {
   "cell_type": "markdown",
   "metadata": {},
   "source": [
    "### 4．生活スケジュール / Life schedule"
   ]
  },
  {
   "cell_type": "markdown",
   "metadata": {},
   "source": [
    "<div style=\"text-align: center;font-weight: bold;\">表　用途別の生活スケジュールの種類<br>Table: Types of life schedule by application</div>\n",
    "\n",
    "|用途<br>Use|生活スケジュールの種類<br>Kind of life schedule|\n",
    "|-|-|\n",
    "|暖冷房<br>Heating and cooling|「平日」「休日」<br>\"Weekday\" \"holiday\"|\n",
    "|換気<br>ventilation|「平日」「休日在宅」「休日外出」<br>\"Weekdays\" \"Holiday home\" \"Holiday outing\"|\n",
    "|照明<br>illumination|「平日」「休日在宅」「休日外出」<br>\"Weekdays\" \"Holiday home\" \"Holiday outing\"|\n",
    "|給湯<br>Hot water supply|「平日（大）」「平日（中）」「平日（小）」「休日在宅（大）」「休日在宅（小）」「休日外出」<br>\"Weekday (large)\" \"Weekday (middle)\" \"Weekday (small)\"<br> \"Holiday home (large)\" \"Holiday home (small)\" \"Holiday outing\"|\n",
    "|家電<br>Household appliances|「平日」「休日在宅」「休日外出」<br>\"Weekdays\" \"Holiday home\" \"Holiday outing\"|\n",
    "|調理<br>cooking|「平日」「休日在宅」「休日外出」<br>\"Weekdays\" \"Holiday home\" \"Holiday outing\"|"
   ]
  },
  {
   "cell_type": "code",
   "execution_count": null,
   "metadata": {},
   "outputs": [],
   "source": [
    "@lru_cache()\n",
    "def load_schedule():\n",
    "    \"\"\"スケジュール読み込み\n",
    "\n",
    "    :return: スケジュール\n",
    "    :rtype: DateFrame\n",
    "    \"\"\"\n",
    "    return pd.read_csv('data/schedule.csv')\n"
   ]
  },
  {
   "cell_type": "code",
   "execution_count": null,
   "metadata": {},
   "outputs": [],
   "source": [
    "def get_schedule_ac(df):\n",
    "    \"\"\"暖冷房スケジュール\n",
    "\n",
    "    :param df: スケジュール\n",
    "    :type df: DateFrame\n",
    "    :return: 暖冷房スケジュール\n",
    "    :rtype: ndarray\n",
    "    \"\"\"\n",
    "    return df['暖冷房'].values\n",
    "\n",
    "\n",
    "def get_schedule_v(df):\n",
    "    \"\"\"換気スケジュール\n",
    "\n",
    "    :param df: スケジュール\n",
    "    :type df:　DateFrame\n",
    "    :return: 換気スケジュール\n",
    "    :rtype: ndarray\n",
    "    \"\"\"\n",
    "    return df['換気'].values\n",
    "\n",
    "\n",
    "def get_schedule_hw(df):\n",
    "    \"\"\"給湯スケジュール\n",
    "\n",
    "    :param df: スケジュール\n",
    "    :type df: DateFrame\n",
    "    :return: 給湯スケジュール\n",
    "    :rtype: ndarray\n",
    "    \"\"\"\n",
    "    return df['給湯'].values\n",
    "\n",
    "\n",
    "def get_schedule_l(df):\n",
    "    \"\"\"照明スケジュール\n",
    "\n",
    "    :param df: スケジュール\n",
    "    :type df: DateFrame\n",
    "    :return: 照明スケジュール\n",
    "    :rtype: ndarray\n",
    "    \"\"\"\n",
    "    return df['照明'].values\n",
    "\n",
    "\n",
    "def get_schedule_app(df):\n",
    "    \"\"\"家電スケジュール\n",
    "\n",
    "    :param df: スケジュール\n",
    "    :type df: DateFrame\n",
    "    :return: 家電スケジュール\n",
    "    :rtype: ndarray\n",
    "    \"\"\"\n",
    "    return df['家電'].values\n",
    "\n",
    "\n",
    "def get_schedule_cc(df):\n",
    "    \"\"\"調理スケジュール\n",
    "\n",
    "    :param df: スケジュール\n",
    "    :type df: DateFrame\n",
    "    :return: 調理スケジュール\n",
    "    :rtype: ndarray\n",
    "    \"\"\"\n",
    "    return df['調理'].values\n"
   ]
  }
 ],
 "metadata": {
  "kernelspec": {
   "display_name": "Python 3",
   "language": "python",
   "name": "python3"
  },
  "language_info": {
   "codemirror_mode": {
    "name": "ipython",
    "version": 3
   },
   "file_extension": ".py",
   "mimetype": "text/x-python",
   "name": "python",
   "nbconvert_exporter": "python",
   "pygments_lexer": "ipython3",
   "version": "3.8.5"
  }
 },
 "nbformat": 4,
 "nbformat_minor": 2
}
