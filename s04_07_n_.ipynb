{
 "cells": [
  {
   "cell_type": "markdown",
   "metadata": {},
   "source": [
    "使用許諾条件\n",
    "\n",
    "①\t設計一次エネルギー消費量算定法に基づく計算方法をPythonによりコーディングし、Jupyter notebook形式で保存したファイル（以下、本ファイルと呼ぶ）の著作権は、一般社団法人日本サステナブル建築協会に帰属します。\n",
    "Copyright©2019. 一般社団法人日本サステナブル建築協会\n",
    "All rights reserved. \n",
    "\n",
    "②\t本ファイルは、住戸の設計一次エネルギー消費量算定方法に係る「平成28年省エネルギー基準に準拠したエネルギー消費性能の評価に関する技術情報（住宅）2.1算定方法（第四章第七節 温水暖房）」に示す計算方法に基づき、国土交通省国土技術政策総合研究所・国立研究開発法人建築研究所、株式会社ユーワークス、株式会社住環境計画研究所が作成したものです。\n",
    "\n",
    "③\t本ファイルは、計算方法に示す計算過程の確認及び調査研究等に活用することを目的として作成されたものであり、一般社団法人日本サステナブル建築協会は著作権について放棄はしませんが、使用する各人の自己責任において仕様を変更することを妨げるものではありません。ただし、本ファイルによる計算結果を住宅の省エネルギー基準で規定する設計一次エネルギー消費量の結果として公的な申請に用いることはできません。\n",
    "\n",
    "④\t本ファイルを変更するかしないかを問わず、以下の条件を満たす場合に限り、頒布および使用が許可されます。\n",
    "1.\t頒布物の付属ドキュメント等の資料に、上記の著作権表示、本条件一覧、および下記免責条項を含めること。\n",
    "2.\t書面による特別の許可なしに、本ファイルから派生した製品の宣伝または販売の促進に、一般社団法人日本サステナブル建築協会、国土技術政策総合研究所・国立研究開発法人建築研究所および株式会社ユーワークス、株式会社住環境計画研究所の名前またはコントリビューターの名前を使用してはならない。\n",
    "\n",
    "⑤\t本ファイルは、著作権者およびコントリビューターによって「現状のまま」提供されており、明示黙示を問わず、商業的な使用可能性、および特定の目的に対する適合性に関する暗黙の保証も含め、またそれに限定されない、いかなる保証もありません。著作権もコントリビューターも、事由のいかんを問わず、損害発生の原因いかんを問わず、かつ責任の根拠が契約であるか厳格責任であるか（過失その他の）不法行為であるかを問わず、仮にそのような損害が発生する可能性を知らされていたとしても、本ファイルの使用によって発生した（代用品または代用サービスの調達、使用の喪失、データの喪失、利益の喪失、業務の中断も含め、またそれに限定されない）直接損害、間接損害、偶発的な損害、特別損害、懲罰的損害、または結果損害について、一切の責任を負わないものとします。\n",
    "\n"
   ]
  },
  {
   "cell_type": "code",
   "execution_count": null,
   "metadata": {},
   "outputs": [],
   "source": [
    "import numpy as np"
   ]
  },
  {
   "cell_type": "markdown",
   "metadata": {},
   "source": [
    "## 付録N 地中熱ヒートポンプ温水暖房機"
   ]
  },
  {
   "cell_type": "markdown",
   "metadata": {},
   "source": [
    "### N.1 適用範囲"
   ]
  },
  {
   "cell_type": "markdown",
   "metadata": {},
   "source": [
    "省略"
   ]
  },
  {
   "cell_type": "markdown",
   "metadata": {},
   "source": [
    "ommision"
   ]
  },
  {
   "cell_type": "markdown",
   "metadata": {},
   "source": [
    "### N.2 記号及び単位"
   ]
  },
  {
   "cell_type": "markdown",
   "metadata": {},
   "source": [
    "省略"
   ]
  },
  {
   "cell_type": "markdown",
   "metadata": {},
   "source": [
    "ommision"
   ]
  },
  {
   "cell_type": "markdown",
   "metadata": {},
   "source": [
    "### N.3 暖房エネルギー消費量"
   ]
  },
  {
   "cell_type": "markdown",
   "metadata": {},
   "source": [
    "#### N.3.1 消費電力量"
   ]
  },
  {
   "cell_type": "markdown",
   "metadata": {},
   "source": [
    "$$\\large\n",
    "E_{E,hs,d,t} = \\left\\{ \\begin{array}{ll}\n",
    "    E_{comp,hs,d,t}+E_{pump,hs,d,t}+E_{aux,hs,d,t} &(q_{out,H,hs,d,t}\\neq0)\\\\ \n",
    "    0 &(q_{out,H,hs,d,t}=0)\\\\ \n",
    "    \\end{array}\n",
    "\\right.\n",
    "$$"
   ]
  },
  {
   "cell_type": "markdown",
   "metadata": {},
   "source": [
    "$E_{aux,hs,d,t}$：日付$d$の時刻$t$における 1 時間当たりの補機の消費電力量(kWh/h)  \n",
    "$E_{comp,hs,d,t}$：日付$d$の時刻$t$における 1 時間当たりの圧縮機の消費電力量(kWh/h)  \n",
    "$E_{E,hs,d,t}$：日付$d$の時刻$t$における 1 時間当たりの温水暖房用熱源機の消費電力量(kWh/h)  \n",
    "$E_{pump,hs,d,t}$：日付$d$の時刻$t$における1 時間当たりのポンプの消費電力量(kWh/h)  "
   ]
  },
  {
   "cell_type": "markdown",
   "metadata": {},
   "source": [
    "#### N.3.2 ガス消費量"
   ]
  },
  {
   "cell_type": "markdown",
   "metadata": {},
   "source": [
    "1 時間当たりの温水暖房用熱源機のガス消費量$E_{G,hs,d,t}$は、0とする。"
   ]
  },
  {
   "cell_type": "markdown",
   "metadata": {},
   "source": [
    "#### N.3.3 灯油消費量"
   ]
  },
  {
   "cell_type": "markdown",
   "metadata": {},
   "source": [
    "1 時間当たりの温水暖房用熱源機の灯油消費量$E_{K,hs,d,t}$は、0とする。"
   ]
  },
  {
   "cell_type": "markdown",
   "metadata": {},
   "source": [
    "#### N.3.4 その他の一次エネルギー消費量"
   ]
  },
  {
   "cell_type": "markdown",
   "metadata": {},
   "source": [
    "1 時間当たりの温水暖房用熱源機のその他の一次エネルギー消費量$E_{M,hs,d,t}$は、0とする。"
   ]
  },
  {
   "cell_type": "markdown",
   "metadata": {},
   "source": [
    "### N.4 圧縮機の消費電力量"
   ]
  },
  {
   "cell_type": "markdown",
   "metadata": {},
   "source": [
    "$$\\large\n",
    "E_{comp,hs,d,t} = \\left\\{ \\begin{array}{ll}\n",
    "    f_{comp,act,d,t} \\times \\frac{q_{out,H,hs,d,t} + q_{loss,H,hs,d,t}}{\\eta_{d,t}} &(\\theta_{ref,evp,d,t}< \\theta_{ref,cnd,d,t})\\\\  \n",
    "    0 &(\\theta_{ref,evp,d,t} \\geq \\theta_{ref,cnd,d,t})\\\\ \n",
    "    \\end{array}\n",
    "\\right.\n",
    "$$"
   ]
  },
  {
   "cell_type": "markdown",
   "metadata": {},
   "source": [
    "$$\\large\n",
    "f_{comp,act,d,t} = max(k_{comp,a}\\times qr_{out,H,hs,d,t})+(1-k_{comp,a}\\times k_{comp,b}),1)\\times k_{comp,c}\n",
    "$$"
   ]
  },
  {
   "cell_type": "markdown",
   "metadata": {},
   "source": [
    "$$\\large\n",
    "\\left\\{ \\begin{array}{ll}\n",
    "    k_{comp,a}= −0.7309\\\\  \n",
    "    k_{comp,b}= 0.67\\\\  \n",
    "    k_{comp,c}= 1.0319\\\\  \n",
    "    \\end{array}\n",
    "\\right.\n",
    "$$"
   ]
  },
  {
   "cell_type": "markdown",
   "metadata": {},
   "source": [
    "$E_{comp,hs,d,t}$：日付$d$の時刻$t$における 1 時間当たりの圧縮機の消費電力量(kWh/h)  \n",
    "$f_{comp,act,d,t}$：日付$d$の時刻$t$における圧縮機の消費電力に対する補正係数(-)  \n",
    "$q_{loss,H,hs,d,t}$：日付$d$の時刻$t$における温水暖房用熱源機内部の平均放熱損失(kW)  \n",
    "$q_{out,H,hs,d,t}$：日付$d$の時刻$t$における温水暖房用熱源機の平均暖房出力(kW)  \n",
    "$qr_{out,H,hs,d,t}$：日付$d$の時刻$t$における温水暖房用熱源機の最大暖房能力に対する平均負荷率(-)  \n",
    "$\\eta_{d,t}$：日付$d$の時刻$t$における圧縮機の圧縮効率(-)  \n",
    "$\\theta_{ref,cnd,d,t}$：日付$d$の時刻$t$におけるヒートポンプサイクルの凝縮温度(℃)  \n",
    "$\\theta_{ref,evp,d,t}$：日付$d$の時刻$t$におけるヒートポンプサイクルの蒸発温度(℃)  \n",
    "$k_{comp,a},k_{comp,b},k_{comp,c}$：圧縮機の消費電力に対する補正係数を計算する式の係数(-)  "
   ]
  },
  {
   "cell_type": "markdown",
   "metadata": {},
   "source": [
    "$$\\large\n",
    "\\eta_{d,t} = k_{\\eta h 2} \\times e^2_{ref,H,th,d,t} + k_{\\eta h 1} \\times e_{ref,H,th,d,t} + k_{\\eta h 0}\n",
    "$$"
   ]
  },
  {
   "cell_type": "markdown",
   "metadata": {},
   "source": [
    "$$\\large\n",
    "\\left\\{ \\begin{array}{ll}\n",
    "    k_{\\eta h 0}= −0.430363368361459\\\\  \n",
    "    k_{\\eta h 1}= 0.698531770387591\\\\  \n",
    "    k_{\\eta h 2}= 0.0100164335768507\\\\  \n",
    "    \\end{array}\n",
    "\\right.\n",
    "$$"
   ]
  },
  {
   "cell_type": "markdown",
   "metadata": {},
   "source": [
    "$\\eta_{d,t}$：日付$d$の時刻$t$における圧縮機の圧縮効率(-)  \n",
    "$e_{ref,H,th,d,t}$：日付$d$の時刻$t$におけるヒートポンプサイクルの理論暖房効率(-)  \n",
    "$k_{\\eta h 2},k_{\\eta h 1},k_{\\eta h 0}$：圧縮機の圧縮効率を求める式の係数(-)  "
   ]
  },
  {
   "cell_type": "markdown",
   "metadata": {},
   "source": [
    "日付$d$の時刻$t$におけるヒートポンプサイクルの理論暖房効率$e_{ref,H,th,d,t}$が 10 を超える場合は$e_{ref,H,th,d,t}$は 10 とする。"
   ]
  },
  {
   "cell_type": "markdown",
   "metadata": {},
   "source": [
    "$$\\large\n",
    "\\theta_{ref,evp,d,t} = max(k_{envh0}+k_{envh1} \\times \\theta_{gsRW,d\\_ave,d} +k_{envh2} \\times qr_{out,H,hs,d,t} +k_{envh12}  \\times \\theta_{gsRW,d\\_ave,d} \\times qr_{out,H,hs,d,t}, -50)\n",
    "$$"
   ]
  },
  {
   "cell_type": "markdown",
   "metadata": {},
   "source": [
    "$$\\large\n",
    "\\left\\{ \\begin{array}{ll}\n",
    "    k_{envh0}= −2.95315205817646\\\\  \n",
    "    k_{envh1}= 0.915893610614308\\\\  \n",
    "    k_{envh2}= −11.8319776584846\\\\  \n",
    "    k_{envh12}= 0.29704275467947\\\\  \n",
    "    \\end{array}\n",
    "\\right.\n",
    "$$"
   ]
  },
  {
   "cell_type": "markdown",
   "metadata": {},
   "source": [
    "$$\\large\n",
    "\\theta_{ref,cnd,d,t} = min(k_{cndh0}+k_{cndh1} \\times \\theta_{SW,d,t} +k_{cndh2} \\times qr_{out,H,hs,d,t} +k_{cndh12}  \\times \\theta_{SW,d,t} \\times qr_{out,H,hs,d,t}, 65)\n",
    "$$"
   ]
  },
  {
   "cell_type": "markdown",
   "metadata": {},
   "source": [
    "$$\\large\n",
    "\\left\\{ \\begin{array}{ll}\n",
    "    k_{cndh0}= 3.6105623002886\\\\  \n",
    "    k_{cndh1}= 0.930136847064537\\\\  \n",
    "    k_{cndh2}= 0.494024927234563\\\\  \n",
    "    k_{cndh12}= 0.00770898511188855\\\\  \n",
    "    \\end{array}\n",
    "\\right.\n",
    "$$"
   ]
  },
  {
   "cell_type": "markdown",
   "metadata": {},
   "source": [
    "$$\\large\n",
    "\\theta_{ref,SC,d,t} = max(k_{sch0}+k_{sch1} \\times \\theta_{SW,d,t} +k_{sch2} \\times qr_{out,H,hs,d,t}, 0)\n",
    "$$"
   ]
  },
  {
   "cell_type": "markdown",
   "metadata": {},
   "source": [
    "$$\\large\n",
    "\\left\\{ \\begin{array}{ll}\n",
    "    k_{sch0}= −4.02655782981397\\\\  \n",
    "    k_{sch1}= 0.0894330494418674\\\\  \n",
    "    k_{sch2}= 14.3457831669162\\\\  \n",
    "    \\end{array}\n",
    "\\right.\n",
    "$$"
   ]
  },
  {
   "cell_type": "markdown",
   "metadata": {},
   "source": [
    "$$\\large\n",
    "\\theta_{ref,SH,d,t} = max(k_{shh0}+k_{shh1} \\times qr_{out,H,hs,d,t} +k_{shh2} \\times \\theta_{gsRW,d\\_ave,d}, 0)\n",
    "$$"
   ]
  },
  {
   "cell_type": "markdown",
   "metadata": {},
   "source": [
    "$$\\large\n",
    "\\left\\{ \\begin{array}{ll}\n",
    "    k_{shh0}= 0.819643791668597\\\\  \n",
    "    k_{shh1}= 2.99282570323758\\\\  \n",
    "    k_{shh2}= −0.0762659183765636\\\\  \n",
    "    \\end{array}\n",
    "\\right.\n",
    "$$"
   ]
  },
  {
   "cell_type": "markdown",
   "metadata": {},
   "source": [
    "$qr_{out,H,hs,d,t}$：日付$d$の時刻$t$における温水暖房用熱源機の最大暖房能力に対する平均負荷率(-)  \n",
    "$\\theta_{gsRW,d\\_ave,d}$：日付$d$における地中熱交換器からの戻り熱源水の日平均温度(℃)  \n",
    "$\\theta_{ref,evp,d,t}$：日付$d$の時刻$t$におけるヒートポンプサイクルの蒸発温度(℃)  \n",
    "$\\theta_{ref,cnd,d,t}$：日付$d$の時刻$t$におけるヒートポンプサイクルの凝縮温度(℃)  \n",
    "$\\theta_{ref,SC,d,t}$：日付$d$の時刻$t$におけるヒートポンプサイクルの過冷却度(℃)  \n",
    "$\\theta_{ref,SH,d,t}$：日付$d$の時刻$t$におけるヒートポンプサイクルの過熱度(℃)  \n",
    "$\\theta_{SW,d,t}$：日付$d$の時刻$t$における往き温水温度(℃)  \n",
    "$k_{cndh0},k_{cndh1},k_{cndh2},k_{cndh12}$：凝縮温度を計算する式の係数(-)  \n",
    "$k_{envh0},k_{envh1},k_{envh2},k_{envh12}$：蒸発温度を計算する式の係数(-)  \n",
    "$k_{sch0},k_{sch1},k_{sch2}$：過冷却度を計算する式の係数(-)  \n",
    "$k_{shh0},k_{shh1},k_{shh2}$：過熱度を計算する式の係数(-)  "
   ]
  },
  {
   "cell_type": "markdown",
   "metadata": {},
   "source": [
    "### N.5 ポンプの消費電力量"
   ]
  },
  {
   "cell_type": "markdown",
   "metadata": {},
   "source": [
    "$$\\large\n",
    "E_{pump,hs,d,t} = E_{pump,SW,d,t} + E_{pump,gsRW,d,t}\n",
    "$$"
   ]
  },
  {
   "cell_type": "markdown",
   "metadata": {},
   "source": [
    "$E_{pump,hs,d,t}$：日付$d$の時刻$t$における1 時間当たりのポンプの消費電力量(kWh/h)  \n",
    "$E_{pump,gsRW,d,t}$：日付$d$の時刻$t$における1 時間当たりの熱源水ポンプの消費電力量(kWh/h)  \n",
    "$E_{pump,SW,d,t}$：日付$d$の時刻$t$における1 時間当たりの送水ポンプの消費電力量(kWh/h)  \n"
   ]
  },
  {
   "cell_type": "markdown",
   "metadata": {},
   "source": [
    "$$\\large\n",
    "E_{pumpSW,d,t}= a_{pump,SW} \\times qr_{out,H,hs,d,t}+ b_{pump,SW} \\times {qr_{out,H,hs,d,t}}^2\n",
    "$$"
   ]
  },
  {
   "cell_type": "markdown",
   "metadata": {},
   "source": [
    "$$\\large\n",
    "\\left\\{ \\begin{array}{ll}\n",
    "    a_{pump,SW}= 0.041972403\\\\  \n",
    "    b_{pump,SW}= 0.104478967\\\\  \n",
    "    \\end{array}\n",
    "\\right.\n",
    "$$"
   ]
  },
  {
   "cell_type": "markdown",
   "metadata": {},
   "source": [
    "$$\\large\n",
    "E_{pump,gsRW,d,t}= a_{pump,gsRW} \\times qr_{out,H,hs,d,t}+ b_{pump,gsRW} \\times {qr_{out,H,hs,d,t}}^2\n",
    "$$"
   ]
  },
  {
   "cell_type": "markdown",
   "metadata": {},
   "source": [
    "$$\\large\n",
    "\\left\\{ \\begin{array}{ll}\n",
    "    a_{pump,gsRW}= 0.062196275\\\\  \n",
    "    b_{pump,gsRW}= 0.071756474\\\\  \n",
    "    \\end{array}\n",
    "\\right.\n",
    "$$"
   ]
  },
  {
   "cell_type": "markdown",
   "metadata": {},
   "source": [
    "$E_{pump,SW,d,t}$：日付$d$の時刻$t$における1 時間当たりの送水ポンプの消費電力量(kWh/h)  \n",
    "$E_{pump,gsRW,d,t}$：日付$d$の時刻$t$における1 時間当たりの熱源水ポンプの消費電力量(kWh/h)  \n",
    "$qr_{out,H,hs,d,t}$：日付$d$の時刻$t$における温水暖房用熱源機の最大暖房能力に対する平均負荷率(-)  \n",
    "$a_{pump,SW},b_{pump,SW}$：送水ポンプの消費電力量を計算する式の係数(-)  \n",
    "$a_{pump,gsRW},b_{pump,gsRW}$：熱源水ポンプの消費電力量を計算する式の係数(-)  "
   ]
  },
  {
   "cell_type": "markdown",
   "metadata": {},
   "source": [
    "### N.6 補機の消費電力量"
   ]
  },
  {
   "cell_type": "markdown",
   "metadata": {},
   "source": [
    "$$\\large\n",
    "E_{aux,hs,d,t} = k_{auxh1} \\times qr_{out,H,hs,d,t} + k_{auxh0}\n",
    "$$"
   ]
  },
  {
   "cell_type": "markdown",
   "metadata": {},
   "source": [
    "$$\\large\n",
    "\\left\\{ \\begin{array}{ll}\n",
    "    k_{auxh1}= 0.0433205551083371\\\\  \n",
    "    k_{auxh2}= 0.0173758330059922\\\\  \n",
    "    \\end{array}\n",
    "\\right.\n",
    "$$"
   ]
  },
  {
   "cell_type": "markdown",
   "metadata": {},
   "source": [
    "$E_{aux,hs,d,t}$：日付$d$の時刻$t$における1 時間当たりの補機の消費電力量(kWh/h)  \n",
    "$qr_{out,H,hs,d,t}$：日付$d$の時刻$t$における温水暖房用熱源機の最大暖房能力に対する平均負荷率(-)  \n",
    "$k_{auxh1},k_{auxh0}$：補機の消費電力を計算する式の係数(-)  "
   ]
  },
  {
   "cell_type": "markdown",
   "metadata": {},
   "source": [
    "### N.7 温水暖房用熱源機の最大暖房能力に対する平均負荷率"
   ]
  },
  {
   "cell_type": "markdown",
   "metadata": {},
   "source": [
    "$$\\large\n",
    "qr_{out,H,hs,d,t} = \\frac{q_{out,H,hs,d,t}\\times 10^3}{q_{max,H,hs,JRA}}\n",
    "$$"
   ]
  },
  {
   "cell_type": "markdown",
   "metadata": {},
   "source": [
    "$q_{out,H,hs,d,t}$：日付$d$の時刻$t$における温水暖房用熱源機の平均暖房出力(kW)  \n",
    "$q_{max,H,hs,JRA}$：地中からの戻り熱源水温度および送水温度による補正後の最大暖房能力(W)  \n",
    "$qr_{out,H,hs,d,t}$：日付$d$の時刻$t$における温水暖房用熱源機の最大暖房能力に対する平均負荷率(-)  \n"
   ]
  },
  {
   "cell_type": "markdown",
   "metadata": {},
   "source": [
    "### N.8 温水暖房用熱源機の平均暖房出力"
   ]
  },
  {
   "cell_type": "markdown",
   "metadata": {},
   "source": [
    "$$\\large\n",
    "q_{out,H,hs,d,t} = Q_{out,H,hs,d,t} \\div 3600 \\times 10^3\n",
    "$$"
   ]
  },
  {
   "cell_type": "markdown",
   "metadata": {},
   "source": [
    "$Q_{out,H,hs,d,t}$：日付$d$の時刻$t$における 1 時間当たりの温水暖房用熱源機の暖房出力(MJ/h)  \n",
    "$q_{out,H,hs,d,t}$：日付$d$の時刻$t$における温水暖房用熱源機の平均暖房出力(kW)  \n"
   ]
  },
  {
   "cell_type": "markdown",
   "metadata": {},
   "source": [
    "$$\\large\n",
    "Q_{out,H,hs,d,t} = min(Q_{dmd,H,hs,d,t},Q_{max,H,hs,d,t})\n",
    "$$"
   ]
  },
  {
   "cell_type": "markdown",
   "metadata": {},
   "source": [
    "$Q_{dmd,H,hs,d,t}$：日付$d$の時刻$t$における 1 時間当たりの温水暖房用熱源機の温水熱需要(MJ/h)  \n",
    "$q_{max,H,hs,d,t}$：日付$d$の時刻$t$における 1 時間当たりの温水暖房用熱源機の最大暖房出力(MJ/h)  \n"
   ]
  },
  {
   "cell_type": "markdown",
   "metadata": {},
   "source": [
    "$$\\large\n",
    "Q_{max,H,hs,d,t} = (−0.005635139785329 \\times \\theta_{SW,d,t} + 0.0258983299329793 \\times max(min(\\theta_{gsRW,d\\_ave,d},20),0)+0.836930642418471) \\times q_{max,H,hs,JRA} \\times 3600 \\times 10^{-6}\n",
    "$$"
   ]
  },
  {
   "cell_type": "markdown",
   "metadata": {},
   "source": [
    "$Q_{max,H,hs,d,t}$：日付$d$の時刻$t$における 1 時間当たりの温水暖房用熱源機の最大暖房出力(MJ/h)  \n",
    "$q_{max,H,hs,JRA}$：地中からの戻り熱源水温度および送水温度による補正後の最大暖房能力(W)  \n",
    "$\\theta_{SW,d,t}$：日付$d$の時刻$t$における往き温水温度(℃)  \n",
    "$\\theta_{gsRW,d\\_ave,d}$：日付$d$における地中熱交換器からの戻り熱源水の日平均温度(℃)  \n"
   ]
  },
  {
   "cell_type": "markdown",
   "metadata": {},
   "source": [
    "### N.9 温水暖房用熱源機内の平均放熱損失"
   ]
  },
  {
   "cell_type": "markdown",
   "metadata": {},
   "source": [
    "日付$d$の時刻$t$における温水暖房用熱源機内の平均放熱損失$q_{loss,H,hs,d,t}$ は、0とする。"
   ]
  },
  {
   "cell_type": "markdown",
   "metadata": {},
   "source": [
    "### N.10 地中からの戻り熱源水温度および送水温度による補正後の最大暖房能力"
   ]
  },
  {
   "cell_type": "markdown",
   "metadata": {},
   "source": [
    "$$\\large\n",
    "q_{max,H,hs,JRA} = q_{max,hs} \\times f_{crated}\n",
    "$$"
   ]
  },
  {
   "cell_type": "markdown",
   "metadata": {},
   "source": [
    "$q_{max,hs}$：温水暖房用熱源機の最大暖房能力(W)  \n",
    "$q_{max,H,hs,JRA}$：地中からの戻り熱源水温度および送水温度による補正後の最大暖房能力(W)  \n",
    "$f_{crated}$：地中からの戻り熱源水温度および送水温度に関する最大暖房能力の補正係数(-)  \n"
   ]
  },
  {
   "cell_type": "markdown",
   "metadata": {},
   "source": [
    "地中からの戻り熱源水温度および送水温度に関する最大暖房能力の補正係数$f_{crated}$は、1.35 とする。\n"
   ]
  },
  {
   "cell_type": "markdown",
   "metadata": {},
   "source": [
    "### N.11 地中熱交換器からの戻り熱源水の日平均温度"
   ]
  },
  {
   "cell_type": "markdown",
   "metadata": {},
   "source": [
    "$$\\large\n",
    "\\theta_{gsRW,d\\_ave,d} = k_{gsRW,H}(\\theta_{ex,d\\_Ave,d}-\\theta_{ex,H\\_Ave})+\\theta_{ex,a\\_Ave}+\\Delta\\theta_{gsRW,H}\n",
    "$$"
   ]
  },
  {
   "cell_type": "markdown",
   "metadata": {},
   "source": [
    "$\\Delta\\theta_{gsRW,H}$：暖房期における地中熱交換器からの戻り熱源水の期間平均温度と年平均外気温度との差(℃)  \n",
    "$\\theta_{ex,a\\_Ave}$：年平均外気温度(℃)  \n",
    "$\\theta_{ex,d\\_Ave,d}$：日付$d$における日平均外気温度(℃)  \n",
    "$\\theta_{ex,H\\_Ave}$：暖房期における期間平均外気温度(℃)  \n",
    "$\\theta_{gsRW,d\\_ave,d}$：日付$d$における地中熱交換器からの戻り熱源水の日平均温度(℃)  \n",
    "$k_{gsRW,H}$：地中熱交換器からの戻り熱源水温度を求める式の係数(-)  \n"
   ]
  },
  {
   "cell_type": "markdown",
   "metadata": {},
   "source": [
    "$$\\large\n",
    "\\Delta\\theta_{gsRW,H}= a_{gsRW,H}R_{L_{max}} +b_{gsRW,H}\n",
    "$$"
   ]
  },
  {
   "cell_type": "markdown",
   "metadata": {},
   "source": [
    "$R_{L_{max}}$：1 日当たりの暖房負荷の年間最大値と 1 日当たりの冷房負荷の年間最大値の和に対する、これらの差の比(-)  \n",
    "$\\Delta\\theta_{gsRW,H}$：暖房期における地中熱交換器からの戻り熱源水の期間平均温度と年平均外気温度との差(℃)  \n",
    "$a_{gsRW,H},b_{gsRW,H}$：係数(-)  \n"
   ]
  },
  {
   "cell_type": "markdown",
   "metadata": {},
   "source": [
    "$$\\large\n",
    "k_{gsRW,H}= c_{gsRW,H}R_{L_{max}} +d_{gsRW,H}\n",
    "$$"
   ]
  },
  {
   "cell_type": "markdown",
   "metadata": {},
   "source": [
    "$R_{L_{max}}$：1 日当たりの暖房負荷の年間最大値と 1 日当たりの冷房負荷の年間最大値の和に対する、これらの差の比(-)  \n",
    "$\\Delta\\theta_{gsRW,H}$：暖房期における地中熱交換器からの戻り熱源水の期間平均温度と年平均外気温度との差(℃)  \n",
    "$c_{gsRW,H},d_{gsRW,H}$：係数(-)  \n"
   ]
  },
  {
   "cell_type": "markdown",
   "metadata": {},
   "source": [
    "<div style=\"text-align: center;font-weight: bold;\">表　係数</div>\n",
    "\n",
    "<table>\n",
    "<thead>\n",
    "<tr>\n",
    "<th rowspan=\"2\">熱交換器タイプ </th>\n",
    "<th colspan=\"4\" style=\"text-align: center;\">係数(-) </th>\n",
    "</tr>\n",
    "<tr>\n",
    "<th>$a_{gsRW,H}$</th>\n",
    "<th>$b_{gsRW,H}$</th>\n",
    "<th>$c_{gsRW,H}$</th>\n",
    "<th>$d_{gsRW,H}$</th>\n",
    "</tr>\n",
    "</thead>\n",
    "<tbody>\n",
    "<tr><th>1</th><td>3.1672</td><td>-0.4273</td><td>-0.0444</td><td>0.0442</td></tr>\n",
    "<tr><th>2</th><td>5.9793</td><td>-1.0687</td><td>-0.1613</td><td>0.1047</td></tr>\n",
    "<tr><th>3</th><td>8.3652</td><td>-1.5946</td><td>-0.2486</td><td>0.1546</td></tr>\n",
    "<tr><th>4</th><td>9.9065</td><td>-2.1827</td><td>-0.3454</td><td>0.2072</td></tr>\n",
    "<tr><th>5</th><td>10.2898</td><td>-2.8727</td><td>-0.3270</td><td>0.2700</td></tr>\n",
    "</tbody>\n",
    "</table>\n"
   ]
  },
  {
   "cell_type": "markdown",
   "metadata": {},
   "source": [
    "$$\\large\n",
    "R_{L_{max}}= \\frac{L_{max,C}-L_{max,H}}{L_{max,C}+L_{max,H}}\n",
    "$$"
   ]
  },
  {
   "cell_type": "markdown",
   "metadata": {},
   "source": [
    "$$\\large\n",
    "L_{max,H}= max\\left\\{ \\sum^{23}_{t=0}\\sum^{12}_{i=1}L_{H,x,t,i}| 1\\leq x \\leq 365 \\right\\}\n",
    "$$"
   ]
  },
  {
   "cell_type": "markdown",
   "metadata": {},
   "source": [
    "$$\\large\n",
    "L_{max,C}= max\\left\\{ \\sum^{23}_{t=0}\\sum^{12}_{i=1}(L_{CS,x,t,i}+L_{CL,x,t,i})| 1\\leq x \\leq 365 \\right\\}\n",
    "$$"
   ]
  },
  {
   "cell_type": "markdown",
   "metadata": {},
   "source": [
    "$L_{CS,d,t,i}$：日付$d$の時刻$t$における暖冷房区画$i$の冷房顕熱負荷(MJ/h)  \n",
    "$L_{CL,d,t,i}$：日付$d$の時刻$t$における暖冷房区画$i$の冷房潜熱負荷(MJ/h)  \n",
    "$L_{H,d,t,i}$：日付$d$の時刻$t$における暖冷房区画$i$の暖房負荷(MJ/h)  \n",
    "$L_{max,H}$：1 日当たりの暖房負荷の年間最大値(MJ/d)  \n",
    "$L_{max,C}$：1 日当たりの冷房全熱負荷の年間最大値(MJ/d)  \n",
    "$R_{L_{max}}$：1 日当たりの暖房負荷の年間最大値と 1 日当たりの冷房負荷の年間最大値の和に対する、これらの差の比(-)  \n"
   ]
  },
  {
   "cell_type": "markdown",
   "metadata": {},
   "source": [
    "### N.12 平均外気温度"
   ]
  },
  {
   "cell_type": "markdown",
   "metadata": {},
   "source": [
    "省略"
   ]
  },
  {
   "cell_type": "markdown",
   "metadata": {},
   "source": [
    "### N.13 暖房負荷・冷房負荷"
   ]
  },
  {
   "cell_type": "markdown",
   "metadata": {},
   "source": [
    "省略"
   ]
  }
 ],
 "metadata": {
  "kernelspec": {
   "display_name": "Python 3",
   "language": "python",
   "name": "python3"
  },
  "language_info": {
   "codemirror_mode": {
    "name": "ipython",
    "version": 3
   },
   "file_extension": ".py",
   "mimetype": "text/x-python",
   "name": "python",
   "nbconvert_exporter": "python",
   "pygments_lexer": "ipython3",
   "version": "3.7.3"
  }
 },
 "nbformat": 4,
 "nbformat_minor": 2
}
