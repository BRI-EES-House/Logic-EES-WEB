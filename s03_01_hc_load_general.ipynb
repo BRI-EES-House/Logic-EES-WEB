{
 "cells": [
  {
   "cell_type": "code",
   "execution_count": 1,
   "metadata": {
    "collapsed": true
   },
   "outputs": [],
   "source": [
    "from enum import Enum"
   ]
  },
  {
   "cell_type": "markdown",
   "metadata": {},
   "source": [
    "# Chapter III-I HCLoad and Envelope - General / 暖冷房負荷と外皮性能 - 全般"
   ]
  },
  {
   "cell_type": "markdown",
   "metadata": {},
   "source": [
    "## Correction of Heating and Cooling Load / 暖冷房負荷の補正"
   ]
  },
  {
   "cell_type": "markdown",
   "metadata": {},
   "source": [
    "The hourly heating load $L_{H,i}$ in the heating and cooling section $i$ is calculated by the equation below."
   ]
  },
  {
   "cell_type": "markdown",
   "metadata": {},
   "source": [
    "$$\\large\n",
    "L_{H,i} = L'_{H,i} \\times f_{R,Evp,i} \\times f_{R,Eqp,i} \\times f_{TD,i}  \n",
    "$$"
   ]
  },
  {
   "cell_type": "markdown",
   "metadata": {},
   "source": [
    "Where  \n",
    "$L_{H,i}$ is the heating load in the heating / cooling section $i$. / 暖冷房区画$i$の暖房負荷(MJ/h)  \n",
    "$L'_{H,i}$ is the heating load before load correction in the heating / cooling section $i$. / 暖冷房区画$i$の負荷補正前の暖房負荷(MJ/h)  \n",
    "$f_{R,Evp,i}$ is the load correction coefficient considering the radiation temperature due to the surface temperature of the outer skin etc. in the heating / cooling section $i$. / 暖冷房区画$i$における外皮等の表面温度による放射温度を考慮した負荷補正係数  \n",
    "$f_{R,Eqp,i}$ is the load correction coefficient considering the radiation temperature by heating system type in the heating / cooling section $i$. / 暖冷房区画$i$における暖房設備の方式による放射温度を考慮した負荷補正係数  \n",
    "$f_{TD,i}$ is the load correction coefficient considering vertical temperature distribution in the heating / cooling section $i$. / 暖冷房区画$i$における上下温度分布を考慮した負荷補正係数  "
   ]
  },
  {
   "cell_type": "code",
   "execution_count": 1,
   "metadata": {
    "collapsed": true
   },
   "outputs": [],
   "source": [
    "# 式（1）\n",
    "def get_L_H_i(_Ldash_H_i, _f_R_Evp_i, _f_R_Eqp_i, _f_TD_i):\n",
    "    return _Ldash_H_i * _f_R_Evp_i * _f_R_Eqp_i * _f_TD_i\n"
   ]
  },
  {
   "cell_type": "markdown",
   "metadata": {},
   "source": [
    "The load correction coefficient $f_{R,Evp,i}$ considering the radiation temperature due to the surface temperature of the outer skin etc. in the heating / cooling section $i$ is calculated by the equation below."
   ]
  },
  {
   "cell_type": "markdown",
   "metadata": {},
   "source": [
    "$$\\large\n",
    "f_{R,Evp,i} = a_{R,Evp,i} \\times Q + b_{R,Evp,i} \n",
    "$$"
   ]
  },
  {
   "cell_type": "markdown",
   "metadata": {},
   "source": [
    "Where  \n",
    "$Q$ is the heat loss coefficient. / 熱損失係数(W/(m<sup>2</sup>K))  "
   ]
  },
  {
   "cell_type": "markdown",
   "metadata": {},
   "source": [
    "The coefficients $a_{R,Evp,i}$ and $b_{R,Evp,i}$ are represented by Table 3. The heat loss coefficient ܳ$Q$ is obtained in \"8. Method of calculating heat loss coefficient\"."
   ]
  },
  {
   "cell_type": "markdown",
   "metadata": {},
   "source": [
    "<center>**Table 3. Coefficient $a_{R,Evp,i}$ and $b_{R,Evp,i}$**</center>\n",
    "\n",
    "<table>\n",
    "<thead>\n",
    "<tr>\n",
    "<th rowspan=\"4\">Region classification</th>\n",
    "<th colspan=\"6\">Classification of heating method and operation method</th>\n",
    "</tr>\n",
    "<tr>\n",
    "<th colspan=\"2\">（I）</th>\n",
    "<th colspan=\"2\">（RO）</th>\n",
    "<th colspan=\"2\">（HA）</th>\n",
    "</tr>\n",
    "<tr>\n",
    "<th colspan=\"2\">\"System of Continuously Heating the Entire House\"</th>\n",
    "<th colspan=\"2\">\"System of Heating Only the Living Room\" and \"Continuous operation\"</th>\n",
    "<th colspan=\"2\">\"System of Heating Only the Living Room\" and \"Intermittent operation\"</th>\n",
    "</tr>\n",
    "<tr>\n",
    "<th>$a_{R,Evp,i}$</th>\n",
    "<th>$b_{R,Evp,i}$</th>\n",
    "<th>$a_{R,Evp,i}$</th>\n",
    "<th>$b_{R,Evp,i}$</th>\n",
    "<th>$a_{R,Evp,i}$</th>\n",
    "<th>$b_{R,Evp,i}$</th>\n",
    "</tr>\n",
    "</thead>\n",
    "\n",
    "<tbody>\n",
    "<tr>\n",
    "<th>1</th>\n",
    "<td>0.031</td>\n",
    "<td>0.971</td>\n",
    "<td>0.041</td>\n",
    "<td>0.975</td>\n",
    "<td>0.059</td>\n",
    "<td>1.038</td>\n",
    "</tr>\n",
    "<tr>\n",
    "<th>2</th>\n",
    "<td>0.032</td>\n",
    "<td>0.966</td>\n",
    "<td>0.043</td>\n",
    "<td>0.970</td>\n",
    "<td>0.060</td>\n",
    "<td>1.034</td>\n",
    "</tr>\n",
    "<tr>\n",
    "<th>3</th>\n",
    "<td>0.030</td>\n",
    "<td>0.963</td>\n",
    "<td>0.039</td>\n",
    "<td>0.970</td>\n",
    "<td>0.050</td>\n",
    "<td>1.049</td>\n",
    "</tr>\n",
    "<tr>\n",
    "<th>4</th>\n",
    "<td>0.027</td>\n",
    "<td>0.972</td>\n",
    "<td>0.033</td>\n",
    "<td>0.985</td>\n",
    "<td>0.040</td>\n",
    "<td>1.081</td>\n",
    "</tr>\n",
    "<tr>\n",
    "<th>5</th>\n",
    "<td>0.028</td>\n",
    "<td>0.966</td>\n",
    "<td>0.034</td>\n",
    "<td>0.981</td>\n",
    "<td>0.038</td>\n",
    "<td>1.092</td>\n",
    "</tr>\n",
    "<tr>\n",
    "<th>6</th>\n",
    "<td>0.029</td>\n",
    "<td>0.961</td>\n",
    "<td>0.035</td>\n",
    "<td>0.974</td>\n",
    "<td>0.039</td>\n",
    "<td>1.090</td>\n",
    "</tr>\n",
    "<tr>\n",
    "<th>7</th>\n",
    "<td>0.020</td>\n",
    "<td>0.921</td>\n",
    "<td>0.024</td>\n",
    "<td>0.937</td>\n",
    "<td>0.021</td>\n",
    "<td>1.094</td>\n",
    "</tr>\n",
    "</tbody>\n",
    "</table>\n"
   ]
  },
  {
   "cell_type": "code",
   "execution_count": 2,
   "metadata": {
    "collapsed": true
   },
   "outputs": [],
   "source": [
    "# 式（2）\n",
    "def get_f_R_evp_i(_Q, _region, _HeatingOperation):\n",
    "    \n",
    "    # table\n",
    "    (a_R_Evp_i, b_R_Evp_i) = {\n",
    "        'Region1' : {'I' : (0.031, 0.971), 'RO' : (0.041, 0.975), 'HA' : (0.059, 1.038)},\n",
    "        'Region2' : {'I' : (0.032, 0.966), 'RO' : (0.043, 0.970), 'HA' : (0.060, 1.034)},\n",
    "        'Region3' : {'I' : (0.030, 0.963), 'RO' : (0.039, 0.970), 'HA' : (0.050, 1.049)},\n",
    "        'Region4' : {'I' : (0.027, 0.972), 'RO' : (0.033, 0.985), 'HA' : (0.040, 1.081)},\n",
    "        'Region5' : {'I' : (0.028, 0.966), 'RO' : (0.034, 0.981), 'HA' : (0.038, 1.092)},\n",
    "        'Region6' : {'I' : (0.029, 0.961), 'RO' : (0.035, 0.974), 'HA' : (0.039, 1.090)},\n",
    "        'Region7' : {'I' : (0.020, 0.921), 'RO' : (0.024, 0.937), 'HA' : (0.021, 1.094)},\n",
    "    }[_region][_HeatingOperation]\n",
    "    \n",
    "    return a_R_Evp_i * _Q + b_R_Evp_i"
   ]
  },
  {
   "cell_type": "markdown",
   "metadata": {},
   "source": [
    "#### Example"
   ]
  },
  {
   "cell_type": "code",
   "execution_count": 3,
   "metadata": {},
   "outputs": [
    {
     "data": {
      "text/plain": [
       "22.094"
      ]
     },
     "execution_count": 3,
     "metadata": {},
     "output_type": "execute_result"
    }
   ],
   "source": [
    "get_f_R_evp_i(1000, 'Region7', 'HA')"
   ]
  },
  {
   "cell_type": "markdown",
   "metadata": {},
   "source": [
    "The load correction coefficient $f_{R,Eqp,i}$ considering radiation temperature by heating system type in the heating / cooling section $i$ is assumed to be calculated by the equation below when hot water floor heating or electric heater floor heating is adopted in heating / cooling section $i$, and hot water floor heating or electric heater floor heating is not adopted in the heating / cooling section $i$, it shall be 1.0."
   ]
  },
  {
   "cell_type": "markdown",
   "metadata": {},
   "source": [
    "$$\\large\n",
    "f_{R,Eqp,i} = a_{R,Eqp,i} \\times R_{l,i} + 1 \n",
    "$$"
   ]
  },
  {
   "cell_type": "markdown",
   "metadata": {},
   "source": [
    "Where  \n",
    "$R_{l,i}$ is the laying rate of hot water floor heating or electric heater floor heating installed in the heating / cooling section $i$. / 暖冷房区画$i$に設置された温水床暖房又は電気ヒーター床暖房の敷設率  "
   ]
  },
  {
   "cell_type": "markdown",
   "metadata": {},
   "source": [
    "The coefficient $a_{R,Eqp,i}$ is represented by Table 4."
   ]
  },
  {
   "cell_type": "markdown",
   "metadata": {},
   "source": [
    "<center>**Table 4. Coefficient $a_{R,Evp,i}$**</center>\n",
    "\n",
    "<table>\n",
    "<thead>\n",
    "<tr>\n",
    "<th colspan=\"3\">Classification of heating method and operation method</th>\n",
    "</tr>\n",
    "<tr>\n",
    "<th>（I）</th>\n",
    "<th>（RO）</th>\n",
    "<th>（HA）</th>\n",
    "</tr>\n",
    "<tr>\n",
    "<th>\"System of Continuously Heating <br>the Entire House\"</th>\n",
    "<th>\"System of Heating Only the Living Room\" <br>and \"Continuous operation\"</th>\n",
    "<th>\"System of Heating Only the Living Room\" <br>and \"Intermittent operation\"</th>\n",
    "</tr>\n",
    "</thead>\n",
    "\n",
    "<tbody>\n",
    "<tr>\n",
    "<td>-0.105</td>\n",
    "<td>-0.137</td>\n",
    "<td>-0.231</td>\n",
    "</tr>\n",
    "</tbody>\n",
    "</table>\n"
   ]
  },
  {
   "cell_type": "code",
   "execution_count": 4,
   "metadata": {
    "collapsed": true
   },
   "outputs": [],
   "source": [
    "# 式（3）\n",
    "def get_f_R_Eqp_i(_R_l_i, _Equipment, _HeatingOperation):\n",
    "    \n",
    "    #table\n",
    "    a_R_Eqp_i = {'I' : -0.105, 'RO' : -0.137, 'HA' : -0.231}[_HeatingOperation]\n",
    "    \n",
    "    if _Equipment == 'yukadanbo': # 暫定の名称。\n",
    "        return a_R_Eqp_i * _R_l_i + 1\n",
    "    elif _Equipment != 'yukadanbo':\n",
    "        return 1\n",
    "\n"
   ]
  },
  {
   "cell_type": "markdown",
   "metadata": {},
   "source": [
    "####  Example"
   ]
  },
  {
   "cell_type": "code",
   "execution_count": 5,
   "metadata": {},
   "outputs": [
    {
     "data": {
      "text/plain": [
       "-0.050000000000000044"
      ]
     },
     "execution_count": 5,
     "metadata": {},
     "output_type": "execute_result"
    }
   ],
   "source": [
    "get_f_R_Eqp_i(10,'yukadanbo', 'I')"
   ]
  },
  {
   "cell_type": "markdown",
   "metadata": {},
   "source": [
    "The load correction coefficient $f_{TD,i}$ considering vertical temperature distribution in the heating / cooling section $i$ is set to 1.0 when hot water floor heating or electric heater floor heating is adopted for the heating / cooling section $i$, and in other cases it is calculated by the equation below."
   ]
  },
  {
   "cell_type": "markdown",
   "metadata": {},
   "source": [
    "$$\\large\n",
    "f_{TD,i} = min(a_{TD,i} \\times Q^2 + 1, f_{TD,max})\n",
    "$$"
   ]
  },
  {
   "cell_type": "markdown",
   "metadata": {},
   "source": [
    "The coefficient $a_{TD,i}$ and the upper limit value $f_{TD,max}$ of load correction coefficient considering vertical temperature distribution is represented by Table 5."
   ]
  },
  {
   "cell_type": "markdown",
   "metadata": {},
   "source": [
    "<center>**Table 5. Coefficient $a_{TD,i}$**</center>\n",
    "\n",
    "<table>\n",
    "<thead>\n",
    "<tr>\n",
    "<th rowspan=\"4\">Region classification</th>\n",
    "<th colspan=\"6\">Classification of heating method and operation method</th>\n",
    "</tr>\n",
    "<tr>\n",
    "<th colspan=\"2\">（I）</th>\n",
    "<th colspan=\"2\">（RO）</th>\n",
    "<th colspan=\"2\">（HA）</th>\n",
    "</tr>\n",
    "<tr>\n",
    "<th colspan=\"2\">\"System of Continuously Heating the Entire House\"</th>\n",
    "<th colspan=\"2\">\"System of Heating Only the Living Room\" and \"Continuous operation\"</th>\n",
    "<th colspan=\"2\">\"System of Heating Only the Living Room\" and \"Intermittent operation\"</th>\n",
    "</tr>\n",
    "<tr>\n",
    "<th>$a_{TD,i}$</th>\n",
    "<th>$f_{TD,max}$</th>\n",
    "<th>$a_{TD,i}$</th>\n",
    "<th>$f_{TD,max}$</th>\n",
    "<th>$a_{TD,i}$</th>\n",
    "<th>$f_{TD,max}$</th>\n",
    "</tr>\n",
    "</thead>\n",
    "\n",
    "<tbody>\n",
    "<tr>\n",
    "<th>1</th>\n",
    "<td>0.0157</td>\n",
    "<td>1.0842</td>\n",
    "<td>0.0163</td>\n",
    "<td>1.0862</td>\n",
    "<td>0.0176</td>\n",
    "<td>1.0860</td>\n",
    "</tr>\n",
    "<tr>\n",
    "<th>2</th>\n",
    "<td>0.0157</td>\n",
    "<td>1.0928</td>\n",
    "<td>0.0163</td>\n",
    "<td>1.0954</td>\n",
    "<td>0.0176</td>\n",
    "<td>1.0981</td>\n",
    "</tr>\n",
    "<tr>\n",
    "<th>3</th>\n",
    "<td>0.0097</td>\n",
    "<td>1.1048</td>\n",
    "<td>0.0101</td>\n",
    "<td>1.1079</td>\n",
    "<td>0.0110</td>\n",
    "<td>1.1147</td>\n",
    "</tr>\n",
    "<tr>\n",
    "<th>4</th>\n",
    "<td>0.0063</td>\n",
    "<td>1.1111</td>\n",
    "<td>0.0066</td>\n",
    "<td>1.1146</td>\n",
    "<td>0.0072</td>\n",
    "<td>1.1235</td>\n",
    "</tr>\n",
    "<tr>\n",
    "<th>5</th>\n",
    "<td>0.0045</td>\n",
    "<td>1.1223</td>\n",
    "<td>0.0047</td>\n",
    "<td>1.1264</td>\n",
    "<td>0.0053</td>\n",
    "<td>1.1391</td>\n",
    "</tr>\n",
    "<tr>\n",
    "<th>6</th>\n",
    "<td>0.0045</td>\n",
    "<td>1.1277</td>\n",
    "<td>0.0047</td>\n",
    "<td>1.1320</td>\n",
    "<td>0.0053</td>\n",
    "<td>1.1465</td>\n",
    "</tr>\n",
    "<tr>\n",
    "<th>7</th>\n",
    "<td>0.0014</td>\n",
    "<td>1.1357</td>\n",
    "<td>0.0015</td>\n",
    "<td>1.1404</td>\n",
    "<td>0.0017</td>\n",
    "<td>1.1576</td>\n",
    "</tr>\n",
    "</tbody>\n",
    "</table>\n"
   ]
  },
  {
   "cell_type": "code",
   "execution_count": 6,
   "metadata": {
    "collapsed": true
   },
   "outputs": [],
   "source": [
    "# 式（4）\n",
    "def f_TD_i(_Q, _Equipment, _HeatingOperation, _region):\n",
    "    \n",
    "    (a_TD_i, f_TD_max) = {\n",
    "        'Region1' : {'I' : (0.0157, 1.0842), 'RO' : (0.0163, 1.0862), 'HA' : (0.0176, 1.0860)},\n",
    "        'Region2' : {'I' : (0.0157, 1.0928), 'RO' : (0.0163, 1.0954), 'HA' : (0.0176, 1.0981)},\n",
    "        'Region3' : {'I' : (0.0097, 1.1048), 'RO' : (0.0101, 1.1079), 'HA' : (0.0110, 1.1147)},\n",
    "        'Region4' : {'I' : (0.0063, 1.1111), 'RO' : (0.0066, 1.1146), 'HA' : (0.0072, 1.1235)},\n",
    "        'Region5' : {'I' : (0.0045, 1.1223), 'RO' : (0.0047, 1.1264), 'HA' : (0.0053, 1.1391)},\n",
    "        'Region6' : {'I' : (0.0045, 1.1277), 'RO' : (0.0047, 1.1320), 'HA' : (0.0053, 1.1465)},\n",
    "        'Region7' : {'I' : (0.0014, 1.1357), 'RO' : (0.0015, 1.1404), 'HA' : (0.0017, 1.1576)},\n",
    "    }[_region][_HeatingOperation]\n",
    "    \n",
    "    if _Equipment == 'yukadanbo': # 暫定の名称\n",
    "        return 1\n",
    "    elif _Equipment != 'yukadanbo':\n",
    "        return min(a_TD_i * pow(_Q,2) + 1, f_TD_max)\n",
    "    \n",
    "\n"
   ]
  },
  {
   "cell_type": "markdown",
   "metadata": {},
   "source": [
    "#### Example"
   ]
  },
  {
   "cell_type": "code",
   "execution_count": 7,
   "metadata": {
    "scrolled": true
   },
   "outputs": [
    {
     "data": {
      "text/plain": [
       "1.000425"
      ]
     },
     "execution_count": 7,
     "metadata": {},
     "output_type": "execute_result"
    }
   ],
   "source": [
    "f_TD_i(_Q=0.5, _Equipment='a', _HeatingOperation='HA', _region='Region7')\n"
   ]
  },
  {
   "cell_type": "markdown",
   "metadata": {},
   "source": [
    "The hourly cooling sensation heat load $L_{CS,i}$ and the cooling latent heat load $L_{CL,i}$ of the heating and cooling section $i$ are calculated by the equations below."
   ]
  },
  {
   "cell_type": "markdown",
   "metadata": {},
   "source": [
    "$$\\large\n",
    "L_{CS,i} = L'_{CS,i}\n",
    "$$\n",
    "\n",
    "$$\\large\n",
    "L_{CL,i} = L'_{CL,i}\n",
    "$$"
   ]
  },
  {
   "cell_type": "markdown",
   "metadata": {},
   "source": [
    "Where  \n",
    "$L_{CS,i}$ is the cooling sensation heat load in the heating / cooling section $i$. / 暖冷房区画$i$の冷房顕熱負荷(MJ/h)  \n",
    "$L_{CL,i}$ is the cooling latent heat load in the heating / cooling section $i$. / 暖冷房区画$i$の冷房潜熱負荷(MJ/h)  \n",
    "$L'_{CS,i}$ is the cooling sensation heat load before load correction in the heating / cooling section $i$. / 暖冷房区画$i$の負荷補正前の冷房顕熱負荷(MJ/h)  \n",
    "$L'_{CL,i}$ is the cooling latent heat load before load correction in the heating / cooling section $i$. / 暖冷房区画$i$の負荷補正前の冷房潜熱負荷(MJ/h)  "
   ]
  },
  {
   "cell_type": "code",
   "execution_count": 2,
   "metadata": {},
   "outputs": [],
   "source": [
    "# 式（5a）\n",
    "def get_L_C_i(_Ldash_CS_i, _Ldash_CL_i):\n",
    "    return _Ldash_CS_i, _Ldash_CL_i\n"
   ]
  },
  {
   "cell_type": "markdown",
   "metadata": {},
   "source": [
    "#### Example"
   ]
  },
  {
   "cell_type": "code",
   "execution_count": 4,
   "metadata": {
    "scrolled": true
   },
   "outputs": [
    {
     "data": {
      "text/plain": [
       "(1, 20)"
      ]
     },
     "execution_count": 4,
     "metadata": {},
     "output_type": "execute_result"
    }
   ],
   "source": [
    "get_L_C_i(1,20)"
   ]
  },
  {
   "cell_type": "markdown",
   "metadata": {},
   "source": [
    "## Heating and Cooling Load Before Load Correction / 負荷補正前の暖冷房負荷"
   ]
  },
  {
   "cell_type": "markdown",
   "metadata": {},
   "source": [
    "The heating load $L'_{H,i}$ before load correction in the heating / cooling section $i$, the cooling sensation heat load $L'_{CS,i}$ before load correction in the heating / cooling section $i$ and the cooling latent heat load $L'_{CL,i}$ before load correction in the heating / cooling section $i$ are calculated by the equations below."
   ]
  },
  {
   "cell_type": "markdown",
   "metadata": {},
   "source": [
    "$$\\large\n",
    "L'_{H,i} = L'_{H,R,i} \\times \\frac{A_{HCZ,i}}{A_{HCZ,R,i}}\n",
    "$$\n",
    "\n",
    "$$\\large\n",
    "L'_{CS,i} = L'_{CS,R,i} \\times \\frac{A_{HCZ,i}}{A_{HCZ,R,i}}\n",
    "$$\n",
    "\n",
    "$$\\large\n",
    "L'_{CL,i} = L'_{CL,R,i} \\times \\frac{A_{HCZ,i}}{A_{HCZ,R,i}}\n",
    "$$"
   ]
  },
  {
   "cell_type": "markdown",
   "metadata": {},
   "source": [
    "Where  \n",
    "$L'_{H,R,i}$ is the heating load before load correction of standard dwelling unit in the heating / cooling section $i$. / 暖冷房区画$i$の標準住戸の負荷補正前の暖房負荷(MJ/h)  \n",
    "$L'_{CS,R,i}$ is the cooling sensation heat load before load correction of standard dwelling unit in the heating / cooling section $i$. / 暖冷房区画$i$の標準住戸の負荷補正前の冷房顕熱負荷(MJ/h)  \n",
    "$L'_{CL,R,i}$ is the cooling latent heat load before load correction of standard dwelling unit in the heating / cooling section $i$. / 暖冷房区画$i$の標準住戸の負荷補正前の冷房潜熱負荷(MJ/h)  \n",
    "$A_{HCZ,i}$ is the floor space of the heating / cooling section $i$. / 暖冷房区画$i$の床面積(m<sup>2</sup>)  \n",
    "$A_{HCZ,R,i}$ is the floor space of the heating / cooling section $i$ of standard dwelling unit. / 標準住戸の暖冷房区画$i$の床面積(m<sup>2</sup>)  "
   ]
  },
  {
   "cell_type": "code",
   "execution_count": 4,
   "metadata": {
    "collapsed": true
   },
   "outputs": [],
   "source": [
    "# 式（6） ※12個の居室を配列で計算するか。\n",
    "# 入力は主居室、その他居室、全体となる。これをどこで12個に分解するか。\n",
    "def get_L_dash_H_i(_L_dash_H_R_i, _A_HCZ_i, _A_HCZ_R_i):\n",
    "    return _L_dash_H_R_i * _A_HCZ_i / _A_HCZ_R_i\n",
    "\n",
    "def get_L_dash_CS_i(_L_dash_CS_R_i, _A_HCZ_i, _A_HCZ_R_i):\n",
    "    return _L_dash_CS_R_i * _A_HCZ_i / _A_HCZ_R_i\n",
    "\n",
    "def get_L_dash_CL_i(L_dash_CL_R_i, A_HCZ_i, A_HCZ_R_i):\n",
    "    return L_dash_CL_R_i * A_HCZ_i / A_HCZ_R_i"
   ]
  },
  {
   "cell_type": "markdown",
   "metadata": {},
   "source": [
    "#### Example"
   ]
  },
  {
   "cell_type": "code",
   "execution_count": 7,
   "metadata": {},
   "outputs": [
    {
     "name": "stdout",
     "output_type": "stream",
     "text": [
      "6.709158000670916\n",
      "19.477989871445267\n",
      "15.0\n"
     ]
    }
   ],
   "source": [
    "print(get_L_dash_H_i(10, 20, 29.81))\n",
    "print(get_L_dash_CS_i(20, 50, 51.34))\n",
    "print(get_L_dash_CL_i(30, 10, 20))"
   ]
  },
  {
   "cell_type": "markdown",
   "metadata": {},
   "source": [
    "## Heating and Cooling Load Before Load Correction of Standard Dwelling Unit / 標準住戸の負荷補正前の暖冷房負荷"
   ]
  },
  {
   "cell_type": "markdown",
   "metadata": {},
   "source": [
    "### 1. Heating Load Before Load Correction of Standard Dwelling Unit / 標準住戸の負荷補正前の暖房負荷"
   ]
  },
  {
   "cell_type": "markdown",
   "metadata": {},
   "source": [
    "The heating load $L'_{H,R,i}$ before load correction of standard dwelling unit in the heating / cooling section $i$ is calculated by the equations below depending on whether or not heat storage is used."
   ]
  },
  {
   "cell_type": "markdown",
   "metadata": {},
   "source": [
    "When there is no use of heat storage, or $L'_{H,R,TS_0,i} \\leq L'_{H,R,TS_1,i}$ :  \n",
    "\n",
    "$$\\large\n",
    "L'_{H,R,i} = L'_{H,R,TS_0,i} - \\Delta L'_{H,uf,R,i}\n",
    "$$\n",
    "<br><br>\n",
    "When there is use of heat storage and $L'_{H,R,TS_0,i} > L'_{H,R,TS_1,i}$ :  \n",
    "\n",
    "$$\\large\n",
    "L'_{H,R,i} = L'_{H,R,TS_1,i} - \\Delta L'_{H,uf,R,i}\n",
    "$$"
   ]
  },
  {
   "cell_type": "markdown",
   "metadata": {},
   "source": [
    "Where  \n",
    "$L'_{H,R,TS_l,i}$ is the heating load before load correction of standard dwelling unit of degree $TS_l$ of utilization of heat storage in the heating / cooling section $i$. / 暖冷房区画$i$の蓄熱の利用の程度$TS_l$の標準住戸の負荷補正前の暖房負荷(MJ/h)  \n",
    "$\\Delta L'_{H,uf,R,i}$ is the heating load reduction by ventilation system that introduces outside air via underfloor space of standard dwelling unit in the heating / cooling section $i$ (When the first term of the above equation is less than 0, it is set to 0.). / 暖冷房区画$i$の標準住戸の床下空間を経由して外気を導入する換気方式による暖房負荷削減量(MJ/h)（ただし、上式の第1項が 0 未満の場合は 0 とする。）   "
   ]
  },
  {
   "cell_type": "markdown",
   "metadata": {},
   "source": [
    "In the classification $l$ of the degree of utilization of heat storage in the degree $TS_l$ of utilization of heat storage, $l = 0$ in case of no use of heat storage and $l = 1$ in case of using heat storage. \n",
    "Whether or not the use of heat storage is normally used is assumed to be useless, but in the case where the requirements of the case where there is use of heat storage prescribed in Appendix B in the region classification in which utilization of heat storage can be adopted and the solar radiation class during heating are satisfied, it may be used. \n",
    "Whether or not to adopt heat storage is determined according to Table 6 according to region classification and solar radiation area classification during heating period."
   ]
  },
  {
   "cell_type": "markdown",
   "metadata": {},
   "source": [
    "<center>**Table 6. Possibility of adopting heat storage**</center>\n",
    "\n",
    "<table>\n",
    "<thead>\n",
    "<tr>\n",
    "<th rowspan=\"2\">Region classification</th>\n",
    "<th colspan=\"5\">Solar radiation area classification during heating</th>\n",
    "</tr>\n",
    "<tr>\n",
    "<th>H1</th>\n",
    "<th>H2</th>\n",
    "<th>H3</th>\n",
    "<th>H4</th>\n",
    "<th>H5</th>\n",
    "</tr>\n",
    "</thead>\n",
    "\n",
    "<tbody>\n",
    "<tr>\n",
    "<th>1</th>\n",
    "<td>No</td>\n",
    "<td>No</td>\n",
    "<td>Yes</td>\n",
    "<td>Yes</td>\n",
    "<td>Yes</td>\n",
    "</tr>\n",
    "<tr>\n",
    "<th>2</th>\n",
    "<td>No</td>\n",
    "<td>No</td>\n",
    "<td>Yes</td>\n",
    "<td>Yes</td>\n",
    "<td>Yes</td>\n",
    "</tr>\n",
    "<tr>\n",
    "<th>3</th>\n",
    "<td>No</td>\n",
    "<td>No</td>\n",
    "<td>Yes</td>\n",
    "<td>Yes</td>\n",
    "<td>Yes</td>\n",
    "</tr>\n",
    "<tr>\n",
    "<th>4</th>\n",
    "<td>No</td>\n",
    "<td>No</td>\n",
    "<td>Yes</td>\n",
    "<td>Yes</td>\n",
    "<td>Yes</td>\n",
    "</tr>\n",
    "<tr>\n",
    "<th>5</th>\n",
    "<td>No</td>\n",
    "<td>No</td>\n",
    "<td>Yes</td>\n",
    "<td>Yes</td>\n",
    "<td>Yes</td>\n",
    "</tr>\n",
    "<tr>\n",
    "<th>6</th>\n",
    "<td>No</td>\n",
    "<td>No</td>\n",
    "<td>No</td>\n",
    "<td>Yes</td>\n",
    "<td>Yes</td>\n",
    "</tr>\n",
    "<tr>\n",
    "<th>7</th>\n",
    "<td>No</td>\n",
    "<td>No</td>\n",
    "<td>No</td>\n",
    "<td>Yes</td>\n",
    "<td>Yes</td>\n",
    "</tr>\n",
    "</tbody>\n",
    "</table>"
   ]
  },
  {
   "cell_type": "code",
   "execution_count": 2,
   "metadata": {
    "collapsed": true
   },
   "outputs": [],
   "source": [
    "class Heat_Storage(Enum):\n",
    "    Exist = 1,\n",
    "    NotExist = 2"
   ]
  },
  {
   "cell_type": "code",
   "execution_count": 3,
   "metadata": {
    "collapsed": true
   },
   "outputs": [],
   "source": [
    "# 式（7）\n",
    "# WEBプログラムの実装状況によっては修正が始まる。\n",
    "def get_L_dash_H_R_i(_HeatStorage, L_dash_H_R_TS_0_i, L_dash_H_R_TS_1_i, _delta_L_dash_H_uf_R_i):\n",
    "    if _HeatStorage == Heat_Storage.NotExist or L_dash_H_R_TS_0_i <= L_dash_H_R_TS_1_i:\n",
    "        return L_dash_H_R_TS_0_i - _delta_L_dash_H_uf_R_i\n",
    "    elif _heatStorage == Heat_Storage.Exist and L_dash_H_R_TS_0_i > L_dash_H_R_TS_1_i:\n",
    "        return L_dash_H_R_TS_1_i - _delta_L_dash_H_uf_R_i\n",
    "        "
   ]
  },
  {
   "cell_type": "markdown",
   "metadata": {},
   "source": [
    "The heating load $L'_{H,R,TS_l,i}$ before load correction of standard dwelling unit of degree of utilization of heat storage $TS_l$ in the heating / cooling section $i$ is calculated by the equations below."
   ]
  },
  {
   "cell_type": "markdown",
   "metadata": {},
   "source": [
    "For 1 to 7 areas :  \n",
    "\n",
    "$$\\large\n",
    "L'_{H,R,TS_l,i} = \\left\\{ \\begin{array}{ll}\n",
    "    \\frac{Q_{HEXC}-Q_2}{Q_1 - Q_2} \\times L'_{H,R,TS_l,Q_1,i} + \\frac{Q_{HEXC}-Q_1}{Q_2 - Q_1} \\times L'_{H,R,TS_l,Q_2,i} & (Q \\ge Q_2の場合) \\\\\n",
    "    \\frac{Q_{HEXC}-Q_3}{Q_2 - Q_3} \\times L'_{H,R,TS_l,Q_2,i} + \\frac{Q_{HEXC}-Q_2}{Q_3 - Q_2} \\times L'_{H,R,TS_l,Q_3,i} & (Q_2 > Q \\ge Q_3の場合) \\\\\n",
    "    \\frac{Q_{HEXC}-Q_4}{Q_3 - Q_4} \\times L'_{H,R,TS_l,Q_3,i} + \\frac{Q_{HEXC}-Q_3}{Q_4 - Q_3} \\times L'_{H,R,TS_4,Q_2,i} & (Q_3 > Qの場合) \\\\\n",
    "\\end{array}\n",
    "\\right.\n",
    "$$\n",
    "<br><br>\n",
    "\n",
    "For 8 area :  \n",
    "\n",
    "$$\\large\n",
    "L'_{H,R,TS_l,i} = \\left\\{ \\begin{array}{ll}\n",
    "    \\frac{Q_{HEXC}-Q_2}{Q_1 - Q_2} \\times L'_{H,R,TS_l,Q_1,i} + \\frac{Q_{HEXC}-Q_1}{Q_2 - Q_1} \\times L'_{H,R,TS_l,Q_2,i} & (Q \\ge Q_2の場合) \\\\\n",
    "    \\frac{Q_{HEXC}-Q_3}{Q_2 - Q_3} \\times L'_{H,R,TS_l,Q_2,i} + \\frac{Q_{HEXC}-Q_2}{Q_3 - Q_2} \\times L'_{H,R,TS_l,Q_3,i} & (Q_2 > Qの場合) \\\\\n",
    "\\end{array}\n",
    "\\right.\n",
    "$$"
   ]
  },
  {
   "cell_type": "markdown",
   "metadata": {},
   "source": [
    "Where  \n",
    "$Q_{HEXC}$ is the corrected heat loss coefficient considering reduction of heating load by heat exchange type ventilation equipment. / 熱交換型換気設備による暖房負荷低減を考慮した補正熱損失係数(W/m<sup>2</sup>K)  \n",
    "$L'_{H,R,TS_l,Q_j,i}$ is the heating load before load correction of standard dwelling unit of heat loss coefficient $Q_{j}$ of degree $TS_l$ of utilization of heat storage $TS_l$ in the heating / cooling section $i$. / 暖冷房区画$i$の蓄熱の利用の程度$TS_l$の熱損失係数$Q_{j}$の標準住戸の負荷補正前の暖房負荷(MJ/h)  \n",
    "$Q_{j}$ is the heat loss coefficient of the class $j$ of heat insulation performance. / 断熱性能の区分$j$の熱損失係数(W/(m<sup>2</sup>K))  "
   ]
  },
  {
   "cell_type": "code",
   "execution_count": 9,
   "metadata": {
    "collapsed": true
   },
   "outputs": [],
   "source": [
    "# 式（8）\n",
    "def L_dash_H_R_TSl_i(_Q_HEXC, person):\n",
    "    \n",
    "    L_Q1 = 1\n",
    "    \n",
    "    \n",
    "    (_Q_HEXC - _Q2) / (_Q1 - _Q2) * L_Q1 + (_Q_HEXC - _Q1) * L_Q2 / (_Q2 - _Q1)\n",
    "    "
   ]
  },
  {
   "cell_type": "markdown",
   "metadata": {},
   "source": [
    "The heating load $L'_{H,R,TS_l,Q_j,i}$ before load correction of standard dwelling unit of heat loss coefficient $Q_{j}$ of degree $TS_l$ of utilization of heat storage in the heating / cooling section $i$ is calculated by the equations below."
   ]
  },
  {
   "cell_type": "markdown",
   "metadata": {},
   "source": [
    "$$\\large\n",
    "L'_{H,R,TS_l,Q_j,i} = \\left\\{ \\begin{array}{ll}\n",
    "    \\frac{\\mu_H - \\mu_{H,j,2}}{\\mu_{H,j,1} - \\mu_{H,j,2}} \\times L'_{H,R,TS_l,Q_j,\\mu_{H,j,1},i} + \\frac{\\mu_{H} - \\mu_{H,j,1}}{\\mu_{H,j,2} - \\mu_{H,j,1}} \\times L'_{H,R,TS_l,Q_j,\\mu_{H,j,2},i} & (\\mu_{H} < \\mu_{H,j,2}) \\\\\n",
    "    \\frac{\\mu_H - \\mu_{H,j,3}}{\\mu_{H,j,2} - \\mu_{H,j,3}} \\times L'_{H,R,TS_l,Q_j,\\mu_{H,j,2},i} + \\frac{\\mu_{H} - \\mu_{H,j,2}}{\\mu_{H,j,3} - \\mu_{H,j,2}} \\times L'_{H,R,TS_l,Q_j,\\mu_{H,j,3},i} & (\\mu_{H,j,2} \\le \\mu_{H}) \\\\\n",
    "\\end{array}\n",
    "\\right.\n",
    "$$"
   ]
  },
  {
   "cell_type": "markdown",
   "metadata": {},
   "source": [
    "Where  \n",
    "$L'_{H,R,TS_l,Q_j,\\mu_{H,j,k},i}$ is the heating load before load correction of standard dwelling unit of heat loss coefficient $Q_{j}$ and solar radiation acquisition coefficient of heating period $\\mu_{H,j,k}$ of degree $TS_l$ of utilization of heat storage in the heating / cooling section $i$. /  暖冷房区画$i$の蓄熱の利用の程度$TS_l$の熱損失係数$Q_{j}$かつ暖房期の日射取得係数$\\mu_{H,j,k}$の標準住戸の負荷補正前の暖房負荷(MJ/h)  \n",
    "$\\mu_H$ is the solar radiation acquisition coefficient during heating period. / 暖房期の日射取得係数  \n",
    "$\\mu_{H,j,k}$ is the heat loss coefficient during heating period of classification $k$ of the solar radiation acquisition performance in the classification $j$ of heat insulation performance. / 断熱性能の区分$j$における日射取得性能の区分$k$の暖房期の熱損失係数(W/m<sup>2</sup>K)  "
   ]
  },
  {
   "cell_type": "markdown",
   "metadata": {},
   "source": [
    "The solar radiation acquisition coefficient during the heating period is obtained from \"9.1 Heating period solar radiation acquisition coefficient\"."
   ]
  },
  {
   "cell_type": "markdown",
   "metadata": {},
   "source": [
    "The heat loss coefficient $Q_{j}$ of the heat insulation performance classification $j$ is represented by Table 7 according to the area classification ($j = 1～4$).  \n",
    "The solar radiation acquisition coefficient $\\mu_{H,j,k}$ during the heating period of classification $k$ of solar radiation acquisition performance in the classification $j$ of heat insulation performance is represented by Table 8 according to the division of the area and the division number of the heat loss coefficient $Q_j$ of the classification $j$ of heat insulation performance."
   ]
  },
  {
   "cell_type": "markdown",
   "metadata": {},
   "source": [
    "The heating load $L'_{H,R,TS_l,Q_j,\\mu_{H,j,k},i}$ before load correction of standard dwelling unit of heat loss coefficient $Q_{j}$ and solar radiation acquisition coefficient $\\mu_{H,j,k}$ of heating period of degree $TS_l$ of utilization of heat storage in the heating / cooling section $i$ is represented by the data \"heating and cooling load table\" according to the classification $j$ of heat insulation performance, classification $k$ of solar radiation acquisition performance, presence / absence of use of heat storage, heating method and operation method."
   ]
  },
  {
   "cell_type": "markdown",
   "metadata": {},
   "source": [
    "The heating method is divided into \"a system of continuously heating the entire house\" and \"a system of heating only the living room\", and in the case of \"a system of heating only the living room\", \"continuous operation\" and \"intermittent operation\" being classified. \n",
    "These are determined by the type of heating facility or radiator to be installed, and the determination method is prescribed in Appendix A of Chapter 4, Section 1."
   ]
  },
  {
   "cell_type": "markdown",
   "metadata": {},
   "source": [
    "<center>**Table 7. Heat loss coefficient $Q_{j}$ of the classification $j$ of heat insulation performance**</center>\n",
    "\n",
    "<table>\n",
    "<thead>\n",
    "<tr>\n",
    "<th rowspan=\"2\" colspan=\"2\"></th>\n",
    "<th colspan=\"8\">Region classification</th>\n",
    "</tr>\n",
    "<tr>\n",
    "<th>1</th>\n",
    "<th>2</th>\n",
    "<th>3</th>\n",
    "<th>4</th>\n",
    "<th>5</th>\n",
    "<th>6</th>\n",
    "<th>7</th>\n",
    "<th>8</th>\n",
    "</tr>\n",
    "</thead>\n",
    "\n",
    "<tbody>\n",
    "<tr>\n",
    "<th rowspan=\"4\">classification $j$<br> of heat insulation performance</th>\n",
    "<th>1</th>\n",
    "<td>2.8</td>\n",
    "<td>2.8</td>\n",
    "<td>4.0</td>\n",
    "<td>4.7</td>\n",
    "<td>5.19</td>\n",
    "<td>5.19</td>\n",
    "<td>8.27</td>\n",
    "<td>8.27</td>\n",
    "</tr>\n",
    "<tr>\n",
    "<th>2</th>\n",
    "<td>1.8</td>\n",
    "<td>1.8</td>\n",
    "<td>2.7</td>\n",
    "<td>3.3</td>\n",
    "<td>4.2</td>\n",
    "<td>4.2</td>\n",
    "<td>4.59</td>\n",
    "<td>8.01</td>\n",
    "</tr>\n",
    "<tr>\n",
    "<th>3</th>\n",
    "<td>1.6</td>\n",
    "<td>1.6</td>\n",
    "<td>1.9</td>\n",
    "<td>2.4</td>\n",
    "<td>2.7</td>\n",
    "<td>2.7</td>\n",
    "<td>2.7</td>\n",
    "<td>3.7</td>\n",
    "</tr>\n",
    "<tr>\n",
    "<th>4</th>\n",
    "<td>1.4</td>\n",
    "<td>1.4</td>\n",
    "<td>1.4</td>\n",
    "<td>1.9</td>\n",
    "<td>1.9</td>\n",
    "<td>1.9</td>\n",
    "<td>1.9</td>\n",
    "<td>3.7</td>\n",
    "</tr>\n",
    "</tbody>\n",
    "</table>"
   ]
  },
  {
   "cell_type": "markdown",
   "metadata": {},
   "source": [
    "<center>**Table 8. Solar radiation acquisition coefficient $\\mu_{H,j,k}$ during heating period and solar radiation acquisition coefficient $\\mu_{C,j,k}$ during cooling period of the classification $k$ of solar radiation acquisition performance of the classification $j$ of heat insulation performance**  \n",
    "(Upper : Solar radiation acquisition coefficient $\\mu_{H,j,k}$ during heating period / lower : Solar radiation acquisition coefficient $\\mu_{C,j,k}$ during cooling period)\n",
    "</center>\n",
    "\n",
    "\n",
    "\n",
    "<table>\n",
    "<thead>\n",
    "<tr>\n",
    "<th rowspan=\"2\">Classification $j$<br> of heat insulation performance</th>\n",
    "<th rowspan=\"2\">Classification $k$<br> of solar radiation<br> acquisition performance</th>\n",
    "<th colspan=\"8\">Region classification</th>\n",
    "</tr>\n",
    "<tr>\n",
    "<th>1</th><th>2</th><th>3</th><th>4</th><th>5</th><th>6</th><th>7</th><th>8</th>\n",
    "</tr>\n",
    "</thead>\n",
    "\n",
    "<tbody>\n",
    "<tr>\n",
    "<th>1</th><th>1</th>\n",
    "<td>0.029<br>0.021</td>\n",
    "<td>0.027<br>0.022</td>\n",
    "<td>0.044<br>0.036</td>\n",
    "<td>0.048<br>0.039</td>\n",
    "<td>0.062<br>0.050</td>\n",
    "<td>0.061<br>0.048</td>\n",
    "<td>0.129<br>0.106</td>\n",
    "<td>-<br>0.110</td>\n",
    "</tr>\n",
    "<tr>\n",
    "<th>1</th><th>2</th>\n",
    "<td>0.079<br>0.052</td>\n",
    "<td>0.074<br>0.052</td>\n",
    "<td>0.091<br>0.065</td>\n",
    "<td>0.112<br>0.080</td>\n",
    "<td>0.138<br>0.095</td>\n",
    "<td>0.134<br>0.090</td>\n",
    "<td>0.206<br>0.146</td>\n",
    "<td>-<br>0.154</td>\n",
    "</tr>\n",
    "<tr>\n",
    "<th>1</th><th>3</th>\n",
    "<td>0.115<br>0.071</td>\n",
    "<td>0.106<br>0.071</td>\n",
    "<td>0.123<br>0.083</td>\n",
    "<td>0.161<br>0.107</td>\n",
    "<td>0.197<br>0.124</td>\n",
    "<td>0.191<br>0.117</td>\n",
    "<td>0.268<br>0.172</td>\n",
    "<td>-<br>0.184</td>\n",
    "</tr>\n",
    "<tr>\n",
    "<th>2</th><th>1</th>\n",
    "<td>0.029<br>0.021</td>\n",
    "<td>0.027<br>0.022</td>\n",
    "<td>0.040<br>0.032</td>\n",
    "<td>0.046<br>0.037</td>\n",
    "<td>0.057<br>0.044</td>\n",
    "<td>0.056<br>0.043</td>\n",
    "<td>0.063<br>0.046</td>\n",
    "<td>-<br>0.129</td>\n",
    "</tr>\n",
    "<tr>\n",
    "<th>2</th><th>2</th>\n",
    "<td>0.075<br>0.049</td>\n",
    "<td>0.070<br>0.049</td>\n",
    "<td>0.087<br>0.061</td>\n",
    "<td>0.102<br>0.072</td>\n",
    "<td>0.132<br>0.089</td>\n",
    "<td>0.128<br>0.085</td>\n",
    "<td>0.140<br>0.086</td>\n",
    "<td>-<br>0.174</td>\n",
    "</tr>\n",
    "<tr>\n",
    "<th>2</th><th>3</th>\n",
    "<td>0.109<br>0.068</td>\n",
    "<td>0.101<br>0.068</td>\n",
    "<td>0.119<br>0.079</td>\n",
    "<td>0.142<br>0.094</td>\n",
    "<td>0.191<br>0.119</td>\n",
    "<td>0.185<br>0.112</td>\n",
    "<td>0.202<br>0.111</td>\n",
    "<td>-<br>0.204</td>\n",
    "</tr>\n",
    "<tr>\n",
    "<th>3</th><th>1</th>\n",
    "<td>0.025<br>0.019</td>\n",
    "<td>0.024<br>0.019</td>\n",
    "<td>0.030<br>0.023</td>\n",
    "<td>0.033<br>0.026</td>\n",
    "<td>0.038<br>0.027</td>\n",
    "<td>0.037<br>0.026</td>\n",
    "<td>0.038<br>0.025</td>\n",
    "<td>-<br>0.023</td>\n",
    "</tr>\n",
    "<tr>\n",
    "<th>3</th><th>2</th>\n",
    "<td>0.071<br>0.046</td>\n",
    "<td>0.066<br>0.046</td>\n",
    "<td>0.072<br>0.049</td>\n",
    "<td>0.090<br>0.061</td>\n",
    "<td>0.104<br>0.066</td>\n",
    "<td>0.101<br>0.062</td>\n",
    "<td>0.107<br>0.059</td>\n",
    "<td>-<br>0.068</td>\n",
    "</tr>\n",
    "<tr>\n",
    "<th>3</th><th>3</th>\n",
    "<td>0.106<br>0.065</td>\n",
    "<td>0.098<br>0.065</td>\n",
    "<td>0.104<br>0.067</td>\n",
    "<td>0.130<br>0.082</td>\n",
    "<td>0.153<br>0.090</td>\n",
    "<td>0.148<br>0.084</td>\n",
    "<td>0.158<br>0.080</td>\n",
    "<td>-<br>0.098</td>\n",
    "</tr>\n",
    "<tr>\n",
    "<th>4</th><th>1</th>\n",
    "<td>0.024<br>0.017</td>\n",
    "<td>0.022<br>0.017</td>\n",
    "<td>0.022<br>0.017</td>\n",
    "<td>0.026<br>0.019</td>\n",
    "<td>0.030<br>0.021</td>\n",
    "<td>0.029<br>0.020</td>\n",
    "<td>0.030<br>0.019</td>\n",
    "<td>-<br>0.019</td>\n",
    "</tr>\n",
    "<tr>\n",
    "<th>4</th><th>2</th>\n",
    "<td>0.070<br>0.045</td>\n",
    "<td>0.065<br>0.045</td>\n",
    "<td>0.065<br>0.043</td>\n",
    "<td>0.078<br>0.052</td>\n",
    "<td>0.090<br>0.056</td>\n",
    "<td>0.087<br>0.053</td>\n",
    "<td>0.092<br>0.050</td>\n",
    "<td>-<br>0.050</td>\n",
    "</tr>\n",
    "<tr>\n",
    "<th>4</th><th>3</th>\n",
    "<td>0.104<br>0.063</td>\n",
    "<td>0.096<br>0.063</td>\n",
    "<td>0.096<br>0.060</td>\n",
    "<td>0.116<br>0.072</td>\n",
    "<td>0.137<br>0.078</td>\n",
    "<td>0.132<br>0.073</td>\n",
    "<td>0.141<br>0.070</td>\n",
    "<td>-<br>0.065</td>\n",
    "</tr>\n",
    "</tbody>\n",
    "</table>"
   ]
  },
  {
   "cell_type": "markdown",
   "metadata": {},
   "source": [
    "### 2. Cooling Load Before Load Correction of Standard Dwelling Unit / 標準住戸の負荷補正前の冷房負荷"
   ]
  },
  {
   "cell_type": "markdown",
   "metadata": {},
   "source": [
    "The cooling sensation heat load $L'_{CS,R,i}$ and latent heat load $L'_{CL,R,i}$ before load correction of the standard dwelling unit in the heating / cooling section $i$ are calculated by the equations below."
   ]
  },
  {
   "cell_type": "markdown",
   "metadata": {},
   "source": [
    "$$\\large\n",
    "L'_{CS,R,i} = \\left\\{ \\begin{array}{ll}\n",
    "    (\\frac{NV-NV_2}{NV_1-NV_2} \\times L'_{CS,R,NV_1,i} + \\frac{NV-NV_1}{NV_2-NV_1} \\times L'_{CS,R,NV_2,i}) - \\Delta L'_{CS,uf,R,i} & (NV < NV_2の場合) \\\\\n",
    "    (\\frac{NV-NV_3}{NV_2-NV_3} \\times L'_{CS,R,NV_2,i} + \\frac{NV-NV_2}{NV_3-NV_2} \\times L'_{CS,R,NV_3,i}) - \\Delta L'_{CS,uf,R,i} & (NV_2 \\le NVの場合) \\\\\n",
    "\\end{array}\n",
    "\\right.\n",
    "$$\n",
    "\n",
    "$$\\large\n",
    "L'_{CL,R,i} = \\left\\{ \\begin{array}{ll}\n",
    "    \\frac{NV-NV_2}{NV_1-NV_2} \\times L'_{CL,R,NV_1,i} + \\frac{NV-NV_1}{NV_2-NV_1} \\times L'_{CL,R,NV_2,i} & (NV < NV_2の場合) \\\\\n",
    "    \\frac{NV-NV_3}{NV_2-NV_3} \\times L'_{CL,R,NV_2,i} + \\frac{NV-NV_2}{NV_3-NV_2} \\times L'_{CL,R,NV_3,i} & (NV_2 \\le NVの場合) \\\\\n",
    "\\end{array}\n",
    "\\right.\n",
    "$$"
   ]
  },
  {
   "cell_type": "markdown",
   "metadata": {},
   "source": [
    "Where  \n",
    "$NV$ is the equivalent ventilation frequency in the use of ventilation. / 通風の利用における相当換気回数(1/h)  \n",
    "$NV_l$ is the equivalent ventilation frequency in use of ventilation classification $l$ of use of ventilation. / 通風の利用に関する区分$l$の通風の利用における相当換気回数(1/h)  \n",
    "$L'_{CS,R,NV_l,i}$ is the cooling sensible heat load before load correction of standard dwelling unit of equivalent ventilation frequency $NV_l$ in use of ventilation in the heating / cooling section $i$. / 暖冷房区画$i$の通風の利用における相当換気回数$NV_l$の標準住戸の負荷補正前の冷房顕熱負荷(MJ/h)  \n",
    "$L'_{CL,R,NV_l,i}$ is the cooling latent load before load correction of standard dwelling unit of equivalent ventilation frequency $NV_l$ in use of ventilation in the heating / cooling section $i$. / 暖冷房区画$i$の通風の利用における相当換気回数$NV_l$の標準住戸の負荷補正前の冷房潜熱負荷(MJ/h)  \n",
    "$\\Delta L'_{CS,uf,R,i}$ is the cooling sensible heat load reduction by ventilation system that introduces outside air via underfloor space of standard dwelling unit in the heating / cooling section $i$ (When the first term of the above equation is less than 0, it is set to 0.). / 暖冷房区画$i$の標準住戸の床下空間を経由して外気を導入する換気方式による冷房顕熱負荷削減量(MJ/h)（ただし、上式の第1項が 0 未満の場合は 0 とする。）  "
   ]
  },
  {
   "cell_type": "markdown",
   "metadata": {},
   "source": [
    "In the case of \"a system of continuously cooling the entire house\", the equivalent ventilation frequency $NV$ in the use of ventilation shall be 0.0 times/h in all heating and cooling sections ($i = 1～12$).  \n",
    "In the case of \"a system of cooling only the living room\", it is determined according to Appendix C, depending on the difference in use of ventilation (\"Do not use ventilation\" \"Use ventilation (over 5 ventilation times/h or more)\" \"Use ventilation (over 20 ventilation times/h or more)\") for \"main room\" (heating / cooling section number $i = 1$) and \"other room\" heating / cooling section number $i = 2～5$.  \n",
    "\n",
    "In the main room :   \n",
    "・When the use of ventilation corresponds to \"not using ventilation\", the equivalent ventilation frequency $NV$ in the use of ventilation in the heating and cooling section $i = 1$ is set to 0.0 times/h  \n",
    "・When the use of ventilation corresponds to \"using ventilation (more than 5 ventilation times/h or more)\", the equivalent ventilation frequency $NV$ in the use of ventilation in the heating and cooling section $i = 1$ is set to 5.0 times/h  \n",
    "・When the use of ventilation corresponds to \"using ventilation (more than 20 ventilation / h or more ventilation)\", the equivalent ventilation frequency $NV$ in the use of ventilation in the heating and cooling section $i = 1$ is set to 20.0 times/h  \n",
    "\n",
    "In other rooms :   \n",
    "・When the use of ventilation corresponds to \"not using ventilation\", the equivalent ventilation frequency $NV$ in the use of ventilation in the heating / cooling section $i = 2 ～ 5$ is 0.0 / h  \n",
    "・When the use of ventilation corresponds to \"using ventilation (more than 5 ventilation times / h or more)\", the equivalent ventilation frequency $NV$ in the use of ventilation in the heating / cooling section $i = 2 ～ 5$ is set to 5.0 times / h  \n",
    "・When the use of ventilation corresponds to \"using ventilation (more than 20 ventilation times / h)\", the equivalent ventilation frequency $NV$ in the use of ventilation in the heating / cooling section $i = 2 ～ 5$ is set to 20.0 times / h   "
   ]
  },
  {
   "cell_type": "markdown",
   "metadata": {},
   "source": [
    "The equivalent ventilation frequency $NV_l$ in use of ventilation classification $l$ of use of ventilation shall be as shown in Table 9."
   ]
  },
  {
   "cell_type": "markdown",
   "metadata": {},
   "source": [
    "<center>**Table 9. Equivalent ventilation frequency $NV_l$ in the use of ventilation of classification $l$ concerning the use of ventilation**</center>\n",
    "\n",
    "|Classification $l$ concerning the use of ventilation|Equivalent ventilation frequency $NV_l$ in the use of ventilation|\n",
    "|-|-|\n",
    "|1|0.0|\n",
    "|2|5.0|\n",
    "|3|20.0|"
   ]
  },
  {
   "cell_type": "markdown",
   "metadata": {},
   "source": [
    "The equations below calculate the cooling sensation heat load $L'_{CS,R,NV_l,i}$ and cooling latent heat load $L'_{CL,R,NV_l,i}$ before load correction of standard dwelling unit for equivalent ventilation frequency $NV_l$ in use of ventilation in heating and cooling section $i$."
   ]
  },
  {
   "cell_type": "markdown",
   "metadata": {},
   "source": [
    "For 1 to 7 areas :  \n",
    "\n",
    "$$\\large\n",
    "L'_{CS,R,NV_l,i} = \\left\\{ \\begin{array}{ll}\n",
    "    \\frac{Q - Q_2}{Q_1 - Q_2} \\times L'_{CS,R,NV_l,Q_1,i} + \\frac{Q - Q_1}{Q_2 - Q_1} \\times L'_{CS,R,NV_l,Q_2,i} & (Q \\ge Q_2の場合) \\\\\n",
    "    \\frac{Q - Q_3}{Q_2 - Q_3} \\times L'_{CS,R,NV_l,Q_2,i} + \\frac{Q - Q_2}{Q_3 - Q_2} \\times L'_{CS,R,NV_l,Q_3,i} & (Q_2 > Q \\ge Q_3の場合) \\\\\n",
    "    \\frac{Q - Q_4}{Q_3 - Q_4} \\times L'_{CS,R,NV_l,Q_3,i} + \\frac{Q - Q_3}{Q_4 - Q_3} \\times L'_{CS,R,NV_l,Q_4,i} & (Q_3 > Qの場合) \\\\\n",
    "\\end{array}\n",
    "\\right.\n",
    "$$\n",
    "\n",
    "$$\\large\n",
    "L'_{CL,R,NV_l,i} = \\left\\{ \\begin{array}{ll}\n",
    "    \\frac{Q - Q_2}{Q_1 - Q_2} \\times L'_{CL,R,NV_l,Q_1,i} + \\frac{Q - Q_1}{Q_2 - Q_1} \\times L'_{CL,R,NV_l,Q_2,i} & (Q \\ge Q_2の場合) \\\\\n",
    "    \\frac{Q - Q_3}{Q_2 - Q_3} \\times L'_{CL,R,NV_l,Q_2,i} + \\frac{Q - Q_2}{Q_3 - Q_2} \\times L'_{CL,R,NV_l,Q_3,i} & (Q_2 > Q \\ge Q_3の場合) \\\\\n",
    "    \\frac{Q - Q_4}{Q_3 - Q_4} \\times L'_{CL,R,NV_l,Q_3,i} + \\frac{Q - Q_3}{Q_4 - Q_3} \\times L'_{CL,R,NV_l,Q_4,i} & (Q_3 > Qの場合) \\\\\n",
    "\\end{array}\n",
    "\\right.\n",
    "$$\n",
    "<br><br>\n",
    "\n",
    "For 8 area :  \n",
    "\n",
    "$$\\large\n",
    "L'_{CS,R,NV_l,i} = \\left\\{ \\begin{array}{ll}\n",
    "    \\frac{Q-Q_2}{Q_1 - Q_2} \\times L'_{CS,R,NV_l,Q_1,i} + \\frac{Q - Q_1}{Q_2 - Q_1} \\times L'_{CS,R,NV_l,Q_2,i} & (Q \\ge Q_2の場合) \\\\\n",
    "    \\frac{Q-Q_3}{Q_2 - Q_3} \\times L'_{CS,R,NV_l,Q_2,i} + \\frac{Q - Q_2}{Q_3 - Q_2} \\times L'_{CS,R,NV_l,Q_3,i} & (Q_2 > Qの場合) \\\\\n",
    "\\end{array}\n",
    "\\right.\n",
    "$$\n",
    "\n",
    "$$\\large\n",
    "L'_{CL,R,NV_l,i} = \\left\\{ \\begin{array}{ll}\n",
    "    \\frac{Q - Q_2}{Q_1 - Q_2} \\times L'_{CL,R,NV_l,Q_1,i} + \\frac{Q - Q_1}{Q_2 - Q_1} \\times L'_{CL,R,NV_l,Q_2,i} & (Q \\ge Q_2の場合) \\\\\n",
    "    \\frac{Q - Q_3}{Q_2 - Q_3} \\times L'_{CL,R,NV_l,Q_2,i} + \\frac{Q - Q_2}{Q_3 - Q_2} \\times L'_{CL,R,NV_l,Q_3,i} & (Q_2 > Qの場合) \\\\\n",
    "\\end{array}\n",
    "\\right.\n",
    "$$\n"
   ]
  },
  {
   "cell_type": "markdown",
   "metadata": {},
   "source": [
    "Where  \n",
    "$L'_{CS,R,NV_l,Q_j,i}$ is the cooling sensible heat load before load correction of standard dwelling unit of heat loss coefficient $Q_j$ of equivalent ventilation frequency $NV_l$ in use of ventilation in the heating / cooling section $i$. / 暖冷房区画$i$の通風の利用における相当換気回数$NV_l$の熱損失係数$Q_j$の標準住戸の負荷補正前の冷房顕熱負荷(MJ/h)  \n",
    "$L'_{CL,R,NV_l,Q_j,i}$ is the cooling latent heat load before load correction of standard dwelling unit of heat loss coefficient $Q_j$ of equivalent ventilation frequency $NV_l$ in use of ventilation in the heating / cooling section $i$. / 暖冷房区画$i$の通風の利用における相当換気回数$NV_l$の熱損失係数$Q_j$の標準住戸の負荷補正前の冷房潜熱負荷(MJ/h)  "
   ]
  },
  {
   "cell_type": "markdown",
   "metadata": {},
   "source": [
    "$L'_{CS,R,NV_l,Q_j,i}$ $L'_{CL,R,NV_l,Q_j,i}$ are calculated by the equations below."
   ]
  },
  {
   "cell_type": "markdown",
   "metadata": {},
   "source": [
    "$$\\large\n",
    "L'_{CS,R,NV_l,Q_j,i} = \\left\\{ \\begin{array}{ll}\n",
    "    \\frac{\\mu_C - \\mu_{C,j,2}}{\\mu_{C,j,1} - \\mu_{C,j,2}} \\times L'_{CS,R,NV_l,Q_j,\\mu_{C,j,1},i} + \\frac{\\mu_C - \\mu_{C,j,1}}{\\mu_{C,j,2} - \\mu_{C,j,1}} \\times L'_{CS,R,NV_l,Q_j,\\mu_{C,j,2},i} & (\\mu_C < \\mu_{C,j,2}) \\\\\n",
    "    \\frac{\\mu_C - \\mu_{C,j,3}}{\\mu_{C,j,2} - \\mu_{C,j,3}} \\times L'_{CS,R,NV_l,Q_j,\\mu_{C,j,2},i} + \\frac{\\mu_C - \\mu_{C,j,2}}{\\mu_{C,j,3} - \\mu_{C,j,2}} \\times L'_{CS,R,NV_l,Q_j,\\mu_{C,j,3},i} & (\\mu_{C,j,2} \\le \\mu_C) \\\\\n",
    "\\end{array}\n",
    "\\right.\n",
    "$$\n",
    "\n",
    "$$\\large\n",
    "L'_{CL,R,NV_l,Q_j,i} = \\left\\{ \\begin{array}{ll}\n",
    "    \\frac{\\mu_C - \\mu_{C,j,2}}{\\mu_{C,j,1} - \\mu_{C,j,2}} \\times L'_{CL,R,NV_l,Q_j,\\mu_{C,j,1},i} + \\frac{\\mu_C - \\mu_{C,j,1}}{\\mu_{C,j,2} - \\mu_{C,j,1}} \\times L'_{CL,R,NV_l,Q_j,\\mu_{C,j,2},i} & (\\mu_C < \\mu_{C,j,2}) \\\\\n",
    "    \\frac{\\mu_C - \\mu_{C,j,3}}{\\mu_{C,j,2} - \\mu_{C,j,3}} \\times L'_{CL,R,NV_l,Q_j,\\mu_{C,j,2},i} + \\frac{\\mu_C - \\mu_{C,j,2}}{\\mu_{C,j,3} - \\mu_{C,j,2}} \\times L'_{CL,R,NV_l,Q_j,\\mu_{C,j,3},i} & (\\mu_{C,j,2} \\le \\mu_C) \\\\\n",
    "\\end{array}\n",
    "\\right.\n",
    "$$\n"
   ]
  },
  {
   "cell_type": "markdown",
   "metadata": {},
   "source": [
    "Where  \n",
    "$L'_{CS,R,NV_l,Q_j,\\mu_{C,j,k},i}$ is the cooling sensible heat load before load correction of standard dwelling unit of heat loss coefficient $Q_j$ of equivalent ventilation frequency $NV_l$ and solar radiation acquisition coefficient $\\mu_{C,j,k}$ during cooling period in use of ventilation in the heating / cooling section $i$. / 暖冷房区画$i$の通風の利用における相当換気回数$NV_l$の熱損失係数$Q_j$かつ冷房期の日射取得係数$\\mu_{C,j,k}$の標準住戸の負荷補正前の冷房顕熱負荷(MJ/h)  \n",
    "$L'_{CL,R,NV_l,Q_j,\\mu_{C,j,1},i}$ is the cooling latent heat load before load correction of standard dwelling unit of heat loss coefficient $Q_j$ of equivalent ventilation frequency $NV_l$ and solar radiation acquisition coefficient $\\mu_{C,j,k}$ during cooling period in use of ventilation in the heating / cooling section $i$. / 暖冷房区画$i$の通風の利用における相当換気回数$NV_l$の熱損失係数$Q_j$かつ冷房期の日射取得係数$\\mu_{C,j,k}$のの標準住戸の負荷補正前の冷房潜熱負荷(MJ/h)  \n",
    "$\\mu_C$ is the solar radiation acquisition coefficient during cooling period. / 冷房期の日射取得係数  \n",
    "$\\mu_{C,j,k}$ is the  solar radiation acquisition coefficient during cooling period of classification $k$ of the solar radiation acquisition performance in the classification $j$ of heat insulation performance. / 断熱性能の区分$j$における日射取得性能の区分$k$の冷房期の日射取得係数  "
   ]
  },
  {
   "cell_type": "markdown",
   "metadata": {},
   "source": [
    "The solar radiation acquisition coefficient during the cooling period is obtained from \"9.2 Cooling period solar radiation acquisition coefficient\".  \n",
    "The heat loss coefficient $Q_j$ of the classification $j$ of heat insulation performance is represented by Table 7 according to the division of the area ($j = 1～4$).  \n",
    "The solar radiation acquisition coefficient $\\mu_{C,j,k}$ during the cooling period of the classification $k$ of solar radiation acquisition performance in the classification $j$ of heat insulation performance is represented by Table 8 according to the division number of the heat loss coefficient $Q_j$ in the division of the area and the classification $j$ of heat insulation performance.\n",
    "\n",
    "The cooling sensible heat load $L'_{CS,R,NV_l,Q_j,\\mu_{C,j,k},i}$ and the cooling latent heat load $L'_{CL,R,NV_l,Q_j,\\mu_{C,j,1},i}$ before load correction of standard dwelling unit of heat loss coefficient $Q_j$ of equivalent ventilation frequency $NV_l$ and solar radiation acquisition coefficient $\\mu_{C,j,k}$ during cooling period in use of ventilation in the heating / cooling section $i$ are represented by the data \"heating and cooling load table\" according to classification $l$ concerning ventilation use, classificationn $j$ of heat insulating performance, classificationn $k$ of solar radiation acquisition performance and cooling method and operation method.  \n",
    "The cooling method is \"a system of continuously cooling the entire dwelling unit\" or \"a system of cooling only the living room\", and these are determined by the type of the cooling facility equipment to be installed, and their determination method is described in Appendix A in Chapter 4 Section 1."
   ]
  },
  {
   "cell_type": "markdown",
   "metadata": {},
   "source": [
    "## How to Calculate Heat Loss Coefficient / 熱損失係数の計算方法"
   ]
  },
  {
   "cell_type": "markdown",
   "metadata": {},
   "source": [
    "The corrected heat loss coefficient $Q_{HEXC}$ considering the heating load reduction by the heat exchanging type ventilation equipment is calculated by the equation below when the area classification is adopting heat exchange type ventilation equipment in 1 region to 7 regions, and if the regional division is 8 areas or does not adopt heat exchange type ventilation equipment, it is assumed to be equal to the heat loss coefficient $Q$.  \n",
    "When installing multiple general ventilation facilities in the dwelling unit, we calculate the corrected heat loss coefficient $Q_{HEXC}$ considering the heating load reduction by the heat exchange type ventilation equipment in each facility and adopt the largest value among the calculated values. \n",
    "Also, if some general ventilation equipment is not a heat exchange type ventilation equipment, it is deemed that heat exchange type ventilation equipment is not adopted."
   ]
  },
  {
   "cell_type": "markdown",
   "metadata": {},
   "source": [
    "$$\\large\n",
    "Q_{HEXC} = Q - C_{V} \\times r_{V} \\times \\eta'_{t}\n",
    "$$"
   ]
  },
  {
   "cell_type": "markdown",
   "metadata": {},
   "source": [
    "Where  \n",
    "$Q$ is the heat loss coefficient. / 熱損失係数(W/m<sup>2</sup>K)  \n",
    "$C_{V}$ is the volume specific heat of air. / 空気の容積比熱(Wh/m<sup>2</sup>K)  \n",
    "$r_{V}$ is the ratio of ventilation volume per floor area. / 床面積当たりの換気量の比((m<sup>3</sup>/h)/m<sup>2</sup>)  \n",
    "$\\eta'_{t}$ is the correction temperature exchange efficiency of heat exchange type ventilation equipment. / 熱交換型換気設備の補正温度交換効率  "
   ]
  },
  {
   "cell_type": "markdown",
   "metadata": {},
   "source": [
    "Here, the volumetric specific heat $C_{V}$ of the air is 0.35, and the ratio $r_{V}$ of the ventilation volume per floor area is 4/3 (Ventilation capacity to floor area 120 m<sup>2</sup> is 160 m<sup>3</sup>/h). The correction $\\eta'_{t}$ temperature exchange efficiency of heat exchanging ventilation equipment is specified in Appendix A."
   ]
  },
  {
   "cell_type": "markdown",
   "metadata": {},
   "source": [
    "The heat loss coefficient $Q$ is calculated by the equation below."
   ]
  },
  {
   "cell_type": "markdown",
   "metadata": {},
   "source": [
    "$$\\large\n",
    "Q = Q' + 0.35 \\times 0.5 \\times 2.4\n",
    "$$"
   ]
  },
  {
   "cell_type": "markdown",
   "metadata": {},
   "source": [
    "Where  \n",
    "$Q'$ is the heat loss coefficient (It does not include heat loss by ventilation). / 熱損失係数数（換気による熱損失を含まない）(W/m<sup>2</sup>K)  "
   ]
  },
  {
   "cell_type": "markdown",
   "metadata": {},
   "source": [
    "## Floor Area of heating and cooling section $i$ / 暖冷房区画$i$の床面積"
   ]
  },
  {
   "cell_type": "markdown",
   "metadata": {},
   "source": [
    "The floor area $A_{HCZ,i}$ of heating and cooling section $i$ is calculated by the equation below."
   ]
  },
  {
   "cell_type": "markdown",
   "metadata": {},
   "source": [
    "$$\\large\n",
    "A_{HCZ,i} = \\left\\{ \\begin{array}{ll}\n",
    "   A_{HCZ,R,i} \\times \\frac{A_{MR}}{A_{MR,R}} & (i = 1) \\\\\n",
    "   A_{HCZ,R,i} \\times \\frac{A_{OR}}{A_{OR,R}} & (i = 2～5) \\\\\n",
    "   A_{HCZ,R,i} \\times \\frac{(A_{A}-A_{MR}-A_{OR})}{A_{NO,R}} & (i = 6～12) \\\\\n",
    "\\end{array}\n",
    "\\right.\n",
    "$$\n"
   ]
  },
  {
   "cell_type": "markdown",
   "metadata": {},
   "source": [
    "Where  \n",
    "$A_{HCZ,R,i}$ is the floor area of heating and cooling section $i$ in standard dwelling unit. / 標準住戸における暖冷房区画$i$の床面積(m<sup>2</sup>)  \n",
    "$A_{MR}$ is the floor area of the main room. / 主たる居室の床面積(m<sup>2</sup>)  \n",
    "$A_{OR}$ is the floor area of other rooms. / その他の居室の床面積(m<sup>2</sup>)  \n",
    "$A_{A}$ is the total floor area. / 床面積の合計(m<sup>2</sup>)  \n",
    "$A_{MR,R}$ is the floor area of the main room in standard dwelling unit. / 標準住戸の主たる居室の床面積(m<sup>2</sup>)  \n",
    "$A_{OR,R}$ is the floor area of other room in standard dwelling units. / 標準住戸のその他の居室の床面積(m<sup>2</sup>)  \n",
    "$A_{NO,R}$ is the floor area of non-residential room in standard dwelling unit. / 標準住戸の非居室の床面積(m<sup>2</sup>)  "
   ]
  },
  {
   "cell_type": "markdown",
   "metadata": {},
   "source": [
    "$A_{HCZ,R,i}$, $A_{MR,R}$, $A_{OR,R}$, $A_{NO,R}$ is the value in Table 10."
   ]
  },
  {
   "cell_type": "markdown",
   "metadata": {},
   "source": [
    "<center>**Table 10. The main living room in the standard dwelling unit,   \n",
    "    the area of the other living room and non-living room, and the floor area of the heating and cooling section $i$**</center>\n",
    "\n",
    "\n",
    "<table style=\"border: 1px solid #666;\">\n",
    "<thead>\n",
    "<tr>\n",
    "<th>Number of <br>heating / cooling section $i$</th>\n",
    "<th>(Reference) <br>Types of supposed room</th>\n",
    "<th>Type of room</th>\n",
    "<th>Floor area of <br>heating / cooling section $i$(m<sup>2</sup>)</th>\n",
    "<th>Floor area of <br>main room, <br>other rooms, <br>non-residential room<br>(m<sup>2</sup>)</th>\n",
    "</tr>\n",
    "</thead>\n",
    "    \n",
    "<tbody>\n",
    "<tr>\n",
    "<th>1</th>\n",
    "<th>Living dining room(LD)・Kitchen(K)</th>\n",
    "<th style=\"border: 1px solid #666;\">Main room</th>\n",
    "<td>29.81</td>\n",
    "<td style=\"border: 1px solid #666;\">29.81</td>\n",
    "</tr>\n",
    "<tr>\n",
    "<th>2</th>\n",
    "<th>Japanese style room</th>\n",
    "<th rowspan=\"4\" style=\"border: 1px solid #666;\">Other room</th>\n",
    "<td>16.56</td>\n",
    "<td rowspan=\"4\" style=\"border: 1px solid #666;\">51.34</td>\n",
    "</tr>\n",
    "<tr>\n",
    "<th>3</th>\n",
    "<th>Main bedroom</th>\n",
    "<td>13.25</td>\n",
    "</tr>\n",
    "<tr>\n",
    "<th>4</th>\n",
    "<th>Children's room1</th>\n",
    "<td>10.76</td>\n",
    "</tr>\n",
    "<tr>\n",
    "<th>5</th>\n",
    "<th>Children's room2</th>\n",
    "<td>10.77</td>\n",
    "</tr>\n",
    "<tr>\n",
    "<th>6</th>\n",
    "<th>Bathroom</th>\n",
    "<th rowspan=\"7\" style=\"border: 1px solid #666;\">Non-residential room</th>\n",
    "<td>3.31</td>\n",
    "<td rowspan=\"7\" style=\"border: 1px solid #666;\">38.93\n",
    "</td>\n",
    "</tr>\n",
    "<tr>\n",
    "<th>7</th>\n",
    "<th>1F Toilet</th>\n",
    "<td>1.66</td>\n",
    "</tr>\n",
    "<tr>\n",
    "<th>8</th>\n",
    "<th>Washroom</th>\n",
    "<td>3.31</td>\n",
    "</tr>\n",
    "<tr>\n",
    "<th>9</th>\n",
    "<th>Hall</th>\n",
    "<td>13.25</td>\n",
    "</tr>\n",
    "<tr>\n",
    "<th>10</th>\n",
    "<th>Closet</th>\n",
    "<td>4.97</td>\n",
    "</tr>\n",
    "<tr>\n",
    "<th>11</th>\n",
    "<th>2F Hall</th>\n",
    "<td>10.77</td>\n",
    "</tr>\n",
    "<tr>\n",
    "<th>12</th>\n",
    "<th>2F Toilet</th>\n",
    "<td>1.66</td>\n",
    "</tr>\n",
    "</tbody>\n",
    "</table>\n"
   ]
  }
 ],
 "metadata": {
  "kernelspec": {
   "display_name": "Python 3",
   "language": "python",
   "name": "python3"
  },
  "language_info": {
   "codemirror_mode": {
    "name": "ipython",
    "version": 3
   },
   "file_extension": ".py",
   "mimetype": "text/x-python",
   "name": "python",
   "nbconvert_exporter": "python",
   "pygments_lexer": "ipython3",
   "version": "3.6.4"
  }
 },
 "nbformat": 4,
 "nbformat_minor": 2
}
