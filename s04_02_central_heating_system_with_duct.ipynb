{
 "cells": [
  {
   "cell_type": "markdown",
   "metadata": {},
   "source": [
    "# Chapter IV-II Heating and Cooling System - Central Heating System with Duct / 暖冷房設備 - ダクト式セントラル空調機"
   ]
  },
  {
   "cell_type": "markdown",
   "metadata": {},
   "source": [
    "## Maximum Heating Power / 最大暖房出力"
   ]
  },
  {
   "cell_type": "markdown",
   "metadata": {},
   "source": [
    "The hourly maximum heating power $Q_{max,H}$ is calculated by the equation below."
   ]
  },
  {
   "cell_type": "markdown",
   "metadata": {},
   "source": [
    "$$\\large\n",
    "Q_{max,H} = q_{rtd,H} \\times C_{df,H} \\times 3600 \\times 10^{-6}\n",
    "$$"
   ]
  },
  {
   "cell_type": "markdown",
   "metadata": {},
   "source": [
    "Where  \n",
    "$Q_{max,H}$ is the hourly maximum heating power. / 1時間当たりの最大暖房出力(MJ/h)  \n",
    "$q_{rtd,H}$ is the rated heating capacity. / 定格暖房能力(W)   \n",
    "$C_{df,H}$ is the heating power correction coefficient for defrost. / デフロストに関する暖房出力補正係数  "
   ]
  },
  {
   "cell_type": "markdown",
   "metadata": {},
   "source": [
    "The rated heating capacity $q_{rtd,H}$ is in accordance with Appendix A.  \n",
    "The heating power correction coefficient $C_{df,H}$ for defrost is assumed to be defrosting when the outside air temperature is less than 5℃ and the relative humidity is 80% or more, the value in that case is set to 0.77, and under other conditions, 1.0."
   ]
  },
  {
   "cell_type": "markdown",
   "metadata": {},
   "source": [
    "## Heating Energy Consumption / 暖房エネルギー消費量"
   ]
  },
  {
   "cell_type": "markdown",
   "metadata": {},
   "source": [
    "### 1. Power / 消費電力量"
   ]
  },
  {
   "cell_type": "markdown",
   "metadata": {},
   "source": [
    "The hourly electric power $E_{E,H}$ is calculated by the equations below.  "
   ]
  },
  {
   "cell_type": "markdown",
   "metadata": {},
   "source": [
    "When $Qr'_{T,H} \\geq 0.3$  \n",
    "$$\n",
    "\\large\n",
    "E_{E,H} = ( a_1 \\times ( b_1 \\times \\theta_{ex} + b_2 \\times ln(Qr'_{T,H}) + b_3 )^{a2}  \\\\\n",
    "\\large\n",
    "+ c_1 \\times \\Biggl( \\frac{Qr'_{T,H}}{d_1 \\times \\theta_{ex} + d_2 \\times ln(Qr'_{T,H}) + d_3} \\Biggr)^{c_2} \\Biggr)\n",
    "\\times P_{rtd,H} \\times 10^{-3} \\times C_{pl,H}\n",
    "$$\n",
    "<br>\n",
    "\n",
    "When $Qr'_{T,H} < 0.3$  \n",
    "$$\n",
    "\\large\n",
    "E_{E,H} = ( a_1 \\times ( b_1 \\times \\theta_{ex} + b_2 \\times ln(0.3) + b_3 )^{a_2}  \\\\\n",
    "\\large\n",
    "+ c_1 \\times \\Biggl( \\frac{0.3}{d_1 \\times \\theta_{ex} + d_2 \\times ln(0.3) + d_3} \\Biggr)^{c_2} \\Biggr)\n",
    "\\times P_{rtd,H} \\times\\frac{Qr'_{T,H}}{0.3} \\times 10^{-3} \\times C_{pl,H}\n",
    "$$"
   ]
  },
  {
   "cell_type": "markdown",
   "metadata": {},
   "source": [
    "Where  \n",
    "$E_{E,H}$ is the hourly electric power. / 1時間当たりの消費電力量(kWh/h)  \n",
    "$\\theta_{ex}$ is the outside air temperature. / 外気温度(℃)  \n",
    "$Qr'_{T,H}$ is the correction processing heating load ratio. / 補正処理暖房負荷比    \n",
    "$P_{rtd,H}$ is the rated heating electric power. / 定格暖房消費電力(W)  \n",
    "$C_{pl,H}$ is the power consumption correction coefficient due to pressure loss of duct etc. in heating. / 暖房時におけるダクト等圧力損失による消費電力量補正係数  "
   ]
  },
  {
   "cell_type": "markdown",
   "metadata": {},
   "source": [
    "The rated heating electric power $P_{rtd,H}$ is in accordance with Appendix A.  "
   ]
  },
  {
   "cell_type": "markdown",
   "metadata": {},
   "source": [
    "The coefficients $a_1, a_2, b_1, b_2, b_3, c_1, c_2, d_1, d_2$ and $d_3$ are shown in Table 3."
   ]
  },
  {
   "cell_type": "markdown",
   "metadata": {},
   "source": [
    "<center>**Table 3. Coefficients**</center>\n",
    "\n",
    "|Coefficient|Value|Coefficient|Value|\n",
    "|-|-|-|-|\n",
    "|$a_1$|0.0003124|$c_1$|0.003955|\n",
    "|$a_2$|1.923|$c_2$|2.001|\n",
    "|$b_1$|-0.7945|$d_1$| 7.442 $\\times 10^{-5}$|\n",
    "|$b_2$|21.54|$d_2$|0.09156|\n",
    "|$b_3$|73.02|$d_3$|0.2344|\n"
   ]
  },
  {
   "cell_type": "markdown",
   "metadata": {},
   "source": [
    "The power consumption correction coefficient $C_{pl,H}$ due to pressure loss of duct etc. in heating is in accordance with Appendix B."
   ]
  },
  {
   "cell_type": "markdown",
   "metadata": {},
   "source": [
    "The correction processing heating load ratio $Qr'_{T,H}$ is calculated by the equation below."
   ]
  },
  {
   "cell_type": "markdown",
   "metadata": {},
   "source": [
    "$$\\large\n",
    "Qr'_{T,H} = \\frac{Q'_{T,H}}{q_{rtd,H} \\times 3600 \\times 10^{-6}}\n",
    "$$"
   ]
  },
  {
   "cell_type": "markdown",
   "metadata": {},
   "source": [
    "Where  \n",
    "$q_{rtd,H}$ is the rated heating capacity. / 定格暖房能力(W)  \n",
    "$Q'_{T,H}$ is the hourly correction processing heating load. / 1時間当たりの補正処理暖房負荷(MJ/h)    "
   ]
  },
  {
   "cell_type": "markdown",
   "metadata": {},
   "source": [
    "The rated heating capacity $q_{rtd,H}$ is in accordance with Appendix A.  "
   ]
  },
  {
   "cell_type": "markdown",
   "metadata": {},
   "source": [
    "The hourly correction processing heating load $Q'_{T,H}$ is calculated by the equation below."
   ]
  },
  {
   "cell_type": "markdown",
   "metadata": {},
   "source": [
    "$$\\large\n",
    "Q'_{T,H} = \\frac{Q_{T,H}}{C_{df,H}}\n",
    "$$"
   ]
  },
  {
   "cell_type": "markdown",
   "metadata": {},
   "source": [
    "Where  \n",
    "$Q_{T,H}$ is the hourly processing heating load. / 1時間当たりの処理暖房負荷(MJ/h)  \n",
    "$C_{df,H}$ is the heating power correction coefficient for defrost. / デフロストに関する暖房出力補正係数    "
   ]
  },
  {
   "cell_type": "markdown",
   "metadata": {},
   "source": [
    "The heating power correction coefficient $C_{df,H}$ for defrost is assumed tobe defrosting when the outside air temperature is less than 5℃ and the relative humidity is 80% or more, the value in that case is set to 0.77, and under other conditions, 1.0."
   ]
  },
  {
   "cell_type": "markdown",
   "metadata": {},
   "source": [
    "### 2. Gas Consumption / ガス消費量"
   ]
  },
  {
   "cell_type": "markdown",
   "metadata": {},
   "source": [
    "The hourly gas consumption $E_{G,H}$ is set to 0. "
   ]
  },
  {
   "cell_type": "markdown",
   "metadata": {},
   "source": [
    "### 3. Kerosene Consumption / 灯油消費量"
   ]
  },
  {
   "cell_type": "markdown",
   "metadata": {},
   "source": [
    "The hourly kerosene consumption $E_{K,H}$ is set to 0. "
   ]
  },
  {
   "cell_type": "markdown",
   "metadata": {},
   "source": [
    "### 4. Primary Energy Consumption by Other Fuels / その他の燃料による一次エネルギー消費量"
   ]
  },
  {
   "cell_type": "markdown",
   "metadata": {},
   "source": [
    "The hourly primary energy consumption $E_{M,H}$ by other fuels is set to 0. "
   ]
  },
  {
   "cell_type": "markdown",
   "metadata": {},
   "source": [
    "## Maximum Cooling Power / 最大冷房出力"
   ]
  },
  {
   "cell_type": "markdown",
   "metadata": {},
   "source": [
    "### 1. Calculation of Maximum Cooling Power / 最大冷房出力の計算"
   ]
  },
  {
   "cell_type": "markdown",
   "metadata": {},
   "source": [
    "The hourly maximum cooling power $Q_{max,C}$ is calculated by the equation below."
   ]
  },
  {
   "cell_type": "markdown",
   "metadata": {},
   "source": [
    "$$\\large\n",
    "Q_{max,C} = q_{rtd,C} \\times 3600 \\times 10^{-6}\n",
    "$$"
   ]
  },
  {
   "cell_type": "markdown",
   "metadata": {},
   "source": [
    "Where  \n",
    "$Q_{max,C}$ is the hourly maximum cooling power. / 1時間当たりの最大冷房出力(MJ/h)  \n",
    "$q_{rtd,C}$ is the rated cooling capacity. / 定格冷房能力(W)  "
   ]
  },
  {
   "cell_type": "markdown",
   "metadata": {},
   "source": [
    "The rated cooling capacity $q_{rtd,C}$ is in accordance with Appendix A.  "
   ]
  },
  {
   "cell_type": "markdown",
   "metadata": {},
   "source": [
    "### 2.  Calculation of Maximum Cooling Sensible Heat Output and Maximum Cooling Latent Heat Output / 最大冷房顕熱出力及び最大冷房潜熱出力の計算"
   ]
  },
  {
   "cell_type": "markdown",
   "metadata": {},
   "source": [
    "The hourly maximum cooling sensible heat output $Q_{max,CS}$ and the hourly maximum cooling sensible heat output $Q_{max,CL}$ are calculated by the equations below. "
   ]
  },
  {
   "cell_type": "markdown",
   "metadata": {},
   "source": [
    "$$\\large\n",
    "Q_{max,CS} = Q_{max,C} \\times SHF'\n",
    "$$\n",
    "\n",
    "$$\\large\n",
    "Q_{max,CL} = min(Q_{max,C} \\times (1 - SHF'),  L'_{CL})\n",
    "$$"
   ]
  },
  {
   "cell_type": "markdown",
   "metadata": {},
   "source": [
    "Where  \n",
    "$Q_{max,CS}$ is the hourly maximum cooling sensible heat output. / 1時間当たりの最大冷房顕熱出力(MJ/h)  \n",
    "$Q_{max,CL}$ is the hourly maximum cooling latent heat output. / 1時間当たりの最大冷房潜熱出力(MJ/h)  \n",
    "$SHF'$ is the cooling load correction sensible heat ratio. / 冷房負荷補正顕熱比  \n",
    "$L'_{CL}$ is the hourly correction cooling latent heat load. / 1時間当たりの補正冷房潜熱負荷(MJ/h)  \n",
    "$Q_{max,C}$ is the hourly maximum cooling power. / 1時間当たりの最大冷房出力(MJ/h)  "
   ]
  },
  {
   "cell_type": "markdown",
   "metadata": {},
   "source": [
    "The cooling load correction sensible heat ratio $SHF'$ is calculated by the equation below."
   ]
  },
  {
   "cell_type": "markdown",
   "metadata": {},
   "source": [
    "$$\\large\n",
    "SHF' = \\frac{L_{CS}}{L'_{C}}\n",
    "$$"
   ]
  },
  {
   "cell_type": "markdown",
   "metadata": {},
   "source": [
    "Where  \n",
    "$L_{CS}$ is the hourly cooling sensation heat load. / 1時間当たりの冷房顕熱負荷(MJ/h)  \n",
    "$L'_{C}$ is the hourly corrected cooling load. / 1時間当たりの補正冷房負荷(MJ/h)  "
   ]
  },
  {
   "cell_type": "markdown",
   "metadata": {},
   "source": [
    "When the hourly corrected cooling load $L'_{C}$ is 0, $SHF'$ = 0."
   ]
  },
  {
   "cell_type": "markdown",
   "metadata": {},
   "source": [
    "The hourly corrected cooling load $L'_{C}$ is calculated by the equation below."
   ]
  },
  {
   "cell_type": "markdown",
   "metadata": {},
   "source": [
    "$$\\large\n",
    "L'_{C} = L_{CS} + L'_{CL}\n",
    "$$"
   ]
  },
  {
   "cell_type": "markdown",
   "metadata": {},
   "source": [
    "The hourly correction cooling latent heat load $L'_{CL}$ is calculated by the equation below."
   ]
  },
  {
   "cell_type": "markdown",
   "metadata": {},
   "source": [
    "$$\\large\n",
    "L'_{CL} = min(L_{max,CL},  L_{CL})\n",
    "$$"
   ]
  },
  {
   "cell_type": "markdown",
   "metadata": {},
   "source": [
    "The hourly maximum cooling latent heat load $L_{max,CL}$ is calculated by the equation below."
   ]
  },
  {
   "cell_type": "markdown",
   "metadata": {},
   "source": [
    "$$\\large\n",
    "L_{max,CL} = L_{CS} \\times \\frac{1 - SHF_{L,min,C}}{SHF_{L,min,C}}\n",
    "$$"
   ]
  },
  {
   "cell_type": "markdown",
   "metadata": {},
   "source": [
    "Where  \n",
    "$L_{max,CL}$ is the hourly maximum cooling latent heat load. / 1時間当たりの最大冷房潜熱負荷(MJ/h)  \n",
    "$L_{CL}$ is the hourly cooling latent heat load. / 1時間当たりの冷房潜熱負荷(MJ/h)  \n",
    "$SHF_{L,min,C}$ is the minimum sensible heat ratio of cooling load. / 冷房負荷最小顕熱比  "
   ]
  },
  {
   "cell_type": "markdown",
   "metadata": {},
   "source": [
    "The minimum sensible heat ratio of cooling load $SHF_{L,min,C}$ is set to 0.4."
   ]
  },
  {
   "cell_type": "markdown",
   "metadata": {},
   "source": [
    "## Cooling Energy Consumption / 冷房エネルギー消費量"
   ]
  },
  {
   "cell_type": "markdown",
   "metadata": {},
   "source": [
    "### 1. Power / 消費電力量"
   ]
  },
  {
   "cell_type": "markdown",
   "metadata": {},
   "source": [
    "The hourly electric power $E_{E,C}$ is calculated by the equations below.  "
   ]
  },
  {
   "cell_type": "markdown",
   "metadata": {},
   "source": [
    "When $Qr_{T,C} \\geq 0.3$  \n",
    "$$\\large\n",
    "E_{E,C} = (a_1 \\times (b)^{a_2} + c_1 \\times (d)^{c_2}) \\times P_{rtd,C} \\times 10^{-3} \\times C_{pl,C}\n",
    "$$\n",
    "\n",
    "$$\\large\n",
    "\\left\\{ \\begin{array}{ll}\n",
    "    b = max(\\theta_{ex} - b_1 \\times \\theta_{ex} - b_2 \\times ln(X_{ex}) - b_3 \\times ln(Qr_{T,C}) - b_{4},0)\\\\ \n",
    "    d = exp(d_1 \\times \\theta_{ex} + d_2 \\times ln(X_{ex}) + d_3 \\times ln(Qr_{T,C}) + d_4)\\\\ \n",
    "    \\end{array}\n",
    "\\right.\n",
    "$$\n",
    "\n",
    "<br>\n",
    "\n",
    "When $Qr_{T,C} < 0.3$  \n",
    "$$\\large\n",
    "E_{E,C} = (a_1 \\times (b)^{a_2} + c_1 \\times (d)^{c_2}) \\times P_{rtd,C} \\times \\frac{Qr_{T,C}}{0.3} \\times 10^{-3} \\times C_{pl,C}\n",
    "$$\n",
    "\n",
    "$$\\large\n",
    "\\left\\{ \\begin{array}{ll}\n",
    "    b = max(\\theta_{ex} - b_1 \\times \\theta_{ex} - b_2 \\times ln(X_{ex}) - b_3 \\times ln(0.3) - b_{4},0)\\\\ \n",
    "    d = exp(d_1 \\times \\theta_{ex} + d_2 \\times ln(X_{ex}) + d_3 \\times ln(0.3) + d_4)\\\\ \n",
    "    \\end{array}\n",
    "\\right.\n",
    "$$\n"
   ]
  },
  {
   "cell_type": "markdown",
   "metadata": {},
   "source": [
    "Where  \n",
    "$E_{E,C}$ is the hourly electric power. / 1時間当たりの消費電力量(kWh/h)  \n",
    "$\\theta_{ex}$ is the outside air temperature. / 外気温度(℃)    \n",
    "$X_{ex}$ is the outside air absolute humidity. / 外気絶対湿度(kg/kg(DA))    \n",
    "$Qr_{T,C}$ is the processing cooling load ratio. / 処理冷房負荷比    \n",
    "$P_{rtd,C}$ is the rated cooling power consumption. / 定格冷房消費電力(W)    \n",
    "$C_{pl,C}$ is the power consumption correction coefficient due to pressure loss of duct etc. in cooling. / 冷房時におけるダクト等圧力損失による消費電力量補正係数  "
   ]
  },
  {
   "cell_type": "markdown",
   "metadata": {},
   "source": [
    "The rated cooling power consumption $P_{rtd,C}$ is in accordance with Appendix A.  "
   ]
  },
  {
   "cell_type": "markdown",
   "metadata": {},
   "source": [
    "The coefficients $a_1, a_2, b_1, b_2, b_3, b_4, c_1, c_2, d_1, d_2, d_3$ and $d_4$ are shown in Table 4."
   ]
  },
  {
   "cell_type": "markdown",
   "metadata": {},
   "source": [
    "<center>**Table 4. Coefficients**</center>\n",
    "\n",
    "|Coefficient|Value|Coefficient|Value|\n",
    "|-|-|-|-|\n",
    "|$a_1$|0.001052|$c_1$|0.003939|\n",
    "|$a_2$|2.051|$c_2$|1.058|\n",
    "|$b_1$|0.241|$d_1$|0.0593|\n",
    "|$b_2$|0.04985|$d_2$|0.08193|\n",
    "|$b_3$|0.2083|$d_3$|1.257|\n",
    "|$b_4$|−2.391|$d_4$|1.586|\n"
   ]
  },
  {
   "cell_type": "markdown",
   "metadata": {},
   "source": [
    "The power consumption correction coefficient $C_{pl,C}$ due to pressure loss of duct etc. in cooling is in accordance with Appendix B.  "
   ]
  },
  {
   "cell_type": "markdown",
   "metadata": {},
   "source": [
    "The processing cooling load ratio $Qr_{T,C}$ is calculated by the equation below."
   ]
  },
  {
   "cell_type": "markdown",
   "metadata": {},
   "source": [
    "$$\\large\n",
    "Qr_{T,C} = \\frac{Q_{T,C}}{q_{rtd,C} \\times 3600 \\times 10^{-6}}\n",
    "$$"
   ]
  },
  {
   "cell_type": "markdown",
   "metadata": {},
   "source": [
    "Where  \n",
    "$Q_{T,C}$ is the hourly processing cooling load. / 1時間当たりの処理冷房負荷(MJ/h)  \n",
    "$q_{rtd,C}$ is the rated cooling capacity. / 定格冷房能力(W)  "
   ]
  },
  {
   "cell_type": "markdown",
   "metadata": {},
   "source": [
    "The hourly processing cooling load $Q_{T,C}$ is calculated by the equation below."
   ]
  },
  {
   "cell_type": "markdown",
   "metadata": {},
   "source": [
    "$$\\large\n",
    "Q_{T,C} = Q_{T,CS} + Q_{T,CL}\n",
    "$$"
   ]
  },
  {
   "cell_type": "markdown",
   "metadata": {},
   "source": [
    "Where  \n",
    "$Q_{T,CS}$ is the hourly processing cooling sensible heat load. / 1時間当たりの処理冷房顕熱負荷(MJ/h)  \n",
    "$Q_{T,CL}$ is the hourly processing cooling latent heat load. / 1時間当たりの処理冷房潜熱負荷(MJ/h)  "
   ]
  },
  {
   "cell_type": "markdown",
   "metadata": {},
   "source": [
    "The cooling power correction coefficient $C_{af,C}$ for air volume of blowout of indoor unit and the cooling power correction coefficient $C_{hm,C}$ for inhalation humidity of indoor unit is as described in Section 7.1. "
   ]
  },
  {
   "cell_type": "markdown",
   "metadata": {},
   "source": [
    "### 2. Gas Consumption / ガス消費量"
   ]
  },
  {
   "cell_type": "markdown",
   "metadata": {},
   "source": [
    "The hourly gas consumption $E_{G,C}$ is set to 0. "
   ]
  },
  {
   "cell_type": "markdown",
   "metadata": {},
   "source": [
    "### 3. Kerosene Consumption / 灯油消費量"
   ]
  },
  {
   "cell_type": "markdown",
   "metadata": {},
   "source": [
    "The hourly kerosene consumption $E_{K,C}$ is set to 0. "
   ]
  },
  {
   "cell_type": "markdown",
   "metadata": {},
   "source": [
    "### 4. Primary Energy Consumption by Other Fuels / その他の燃料による一次エネルギー消費量"
   ]
  },
  {
   "cell_type": "markdown",
   "metadata": {},
   "source": [
    "The hourly primary energy consumption $E_{M,C}$ by other fuels is set to 0. "
   ]
  }
 ],
 "metadata": {
  "kernelspec": {
   "display_name": "Python 3",
   "language": "python",
   "name": "python3"
  },
  "language_info": {
   "codemirror_mode": {
    "name": "ipython",
    "version": 3
   },
   "file_extension": ".py",
   "mimetype": "text/x-python",
   "name": "python",
   "nbconvert_exporter": "python",
   "pygments_lexer": "ipython3",
   "version": "3.6.4"
  }
 },
 "nbformat": 4,
 "nbformat_minor": 2
}
