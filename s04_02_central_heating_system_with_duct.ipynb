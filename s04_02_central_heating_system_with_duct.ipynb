{
 "cells": [
  {
   "cell_type": "markdown",
   "metadata": {},
   "source": [
    "使用許諾条件\n",
    "\n",
    "①\t設計一次エネルギー消費量算定法に基づく計算方法をPythonによりコーディングし、Jupyter notebook形式で保存したファイル（以下、本ファイルと呼ぶ）の著作権は、一般社団法人日本サステナブル建築協会に帰属します。\n",
    "Copyright©2019. 一般社団法人日本サステナブル建築協会\n",
    "All rights reserved. \n",
    "\n",
    "②\t本ファイルは、住戸の設計一次エネルギー消費量算定方法に係る「平成28年省エネルギー基準に準拠したエネルギー消費性能の評価に関する技術情報（住宅）2.1算定方法（第四章第二節 ダクト式セントラル空調機）」に示す計算方法に基づき、国土交通省国土技術政策総合研究所・国立研究開発法人建築研究所、株式会社ユーワークス、株式会社住環境計画研究所が作成したものです。\n",
    "\n",
    "③\t本ファイルは、計算方法に示す計算過程の確認及び調査研究等に活用することを目的として作成されたものであり、一般社団法人日本サステナブル建築協会は著作権について放棄はしませんが、使用する各人の自己責任において仕様を変更することを妨げるものではありません。ただし、本ファイルによる計算結果を住宅の省エネルギー基準で規定する設計一次エネルギー消費量の結果として公的な申請に用いることはできません。\n",
    "\n",
    "④\t本ファイルを変更するかしないかを問わず、以下の条件を満たす場合に限り、頒布および使用が許可されます。\n",
    "1.\t頒布物の付属ドキュメント等の資料に、上記の著作権表示、本条件一覧、および下記免責条項を含めること。\n",
    "2.\t書面による特別の許可なしに、本ファイルから派生した製品の宣伝または販売の促進に、一般社団法人日本サステナブル建築協会、国土技術政策総合研究所・国立研究開発法人建築研究所および株式会社ユーワークス、株式会社住環境計画研究所の名前またはコントリビューターの名前を使用してはならない。\n",
    "\n",
    "⑤\t本ファイルは、著作権者およびコントリビューターによって「現状のまま」提供されており、明示黙示を問わず、商業的な使用可能性、および特定の目的に対する適合性に関する暗黙の保証も含め、またそれに限定されない、いかなる保証もありません。著作権もコントリビューターも、事由のいかんを問わず、損害発生の原因いかんを問わず、かつ責任の根拠が契約であるか厳格責任であるか（過失その他の）不法行為であるかを問わず、仮にそのような損害が発生する可能性を知らされていたとしても、本ファイルの使用によって発生した（代用品または代用サービスの調達、使用の喪失、データの喪失、利益の喪失、業務の中断も含め、またそれに限定されない）直接損害、間接損害、偶発的な損害、特別損害、懲罰的損害、または結果損害について、一切の責任を負わないものとします。\n",
    "\n"
   ]
  },
  {
   "cell_type": "code",
   "execution_count": 1,
   "metadata": {},
   "outputs": [
    {
     "name": "stdout",
     "output_type": "stream",
     "text": [
      "Importing Jupyter notebook from s03_01_hc_load_general.ipynb\n",
      "Importing Jupyter notebook from s03_01_hc_load_general_file.ipynb\n",
      "Importing Jupyter notebook from s03_01_d_ventilation_via_underfloor.ipynb\n",
      "Importing Jupyter notebook from s03_01_e_underfloor_temperature.ipynb\n",
      "Importing Jupyter notebook from s11_01_external_condition.ipynb\n",
      "Importing Jupyter notebook from s03_02_08_envelope_performance_detail.ipynb\n",
      "Importing Jupyter notebook from s04_07_i_pipe.ipynb\n",
      "Importing Jupyter notebook from s11_03_life_schedule.ipynb\n"
     ]
    }
   ],
   "source": [
    "import nbimporter\n",
    "import numpy as np\n",
    "from functools import lru_cache\n",
    "from scipy import optimize\n",
    "import datetime\n",
    "\n",
    "import s03_01_hc_load_general as ld\n",
    "from s03_02_08_envelope_performance_detail import get_r_env\n",
    "\n",
    "from s11_01_external_condition import load_outdoor, \\\n",
    "    get_T_ex, \\\n",
    "    get_Theta_ex, \\\n",
    "    get_X_ex, \\\n",
    "    calc_h_ex, \\\n",
    "    load_climate, \\\n",
    "    get_J\n",
    "\n",
    "from s03_01_hc_load_general import \\\n",
    "    get_A_NR\n",
    "\n",
    "from s04_07_i_pipe import \\\n",
    "    get_A_A_R\n",
    "\n",
    "from s11_03_life_schedule import load_schedule, get_schedule_ac\n",
    "\n"
   ]
  },
  {
   "cell_type": "code",
   "execution_count": 2,
   "metadata": {},
   "outputs": [],
   "source": [
    "# 未処理負荷と機器の計算に必要な変数を取得\n",
    "def calc_Q_UT_A(A_A, A_MR, A_OR, A_env, mu_H, mu_C, q_hs_rtd_H, q_hs_rtd_C, V_hs_dsgn_H, V_hs_dsgn_C, Q,\n",
    "             VAV, general_ventilation, duct_insulation, region, L_H_d_t_i, L_CS_d_t_i, L_CL_d_t_i):\n",
    "\n",
    "    # 外気条件\n",
    "    outdoor = load_outdoor()\n",
    "    Theta_ex_d_t = get_Theta_ex(region, outdoor)\n",
    "    X_ex_d_t = get_X_ex(region, outdoor)\n",
    "    climate = load_climate(region)\n",
    "    J_d_t = get_J(climate)\n",
    "    h_ex_d_t = calc_h_ex(X_ex_d_t, Theta_ex_d_t)\n",
    "\n",
    "    A_HCZ_i = np.array([ld.get_A_HCZ_i(i, A_A, A_MR, A_OR) for i in range(1, 6)])\n",
    "    A_HCZ_R_i = [ld.get_A_HCZ_R_i(i) for i in range(1, 6)]\n",
    "\n",
    "    A_NR = get_A_NR(A_A, A_MR, A_OR)\n",
    "\n",
    "    # (67)\n",
    "    L_wtr = get_L_wtr()\n",
    "\n",
    "    # (66d)\n",
    "    n_p_NR_d_t = calc_n_p_NR_d_t(A_NR)\n",
    "\n",
    "    # (66c)\n",
    "    n_p_OR_d_t = calc_n_p_OR_d_t(A_OR)\n",
    "\n",
    "    # (66b)\n",
    "    n_p_MR_d_t = calc_n_p_MR_d_t(A_MR)\n",
    "\n",
    "    # (66a)\n",
    "    n_p_d_t = get_n_p_d_t(n_p_MR_d_t, n_p_OR_d_t, n_p_NR_d_t)\n",
    "\n",
    "    # 人体発熱\n",
    "    q_p_H = get_q_p_H()\n",
    "    q_p_CS = get_q_p_CS()\n",
    "    q_p_CL = get_q_p_CL()\n",
    "\n",
    "    # (65d)\n",
    "    w_gen_NR_d_t = calc_w_gen_NR_d_t(A_NR)\n",
    "\n",
    "    # (65c)\n",
    "    w_gen_OR_d_t = calc_w_gen_OR_d_t(A_OR)\n",
    "\n",
    "    # (65b)\n",
    "    w_gen_MR_d_t = calc_w_gen_MR_d_t(A_MR)\n",
    "\n",
    "    # (65a)\n",
    "    w_gen_d_t = get_w_gen_d_t(w_gen_MR_d_t, w_gen_OR_d_t, w_gen_NR_d_t)\n",
    "\n",
    "    # (64d)\n",
    "    q_gen_NR_d_t = calc_q_gen_NR_d_t(A_NR)\n",
    "\n",
    "    # (64c)\n",
    "    q_gen_OR_d_t = calc_q_gen_OR_d_t(A_OR)\n",
    "\n",
    "    # (64b)\n",
    "    q_gen_MR_d_t = calc_q_gen_MR_d_t(A_MR)\n",
    "\n",
    "    # (64a)\n",
    "    q_gen_d_t = get_q_gen_d_t(q_gen_MR_d_t, q_gen_OR_d_t, q_gen_NR_d_t)\n",
    "\n",
    "    # (63)\n",
    "    V_vent_l_NR_d_t = get_V_vent_l_NR_d_t()\n",
    "    V_vent_l_OR_d_t = get_V_vent_l_OR_d_t()\n",
    "    V_vent_l_MR_d_t = get_V_vent_l_MR_d_t()\n",
    "    V_vent_l_d_t = get_V_vent_l_d_t(V_vent_l_MR_d_t, V_vent_l_OR_d_t, V_vent_l_NR_d_t)\n",
    "\n",
    "    # (62)\n",
    "    V_vent_g_i = get_V_vent_g_i(A_HCZ_i, A_HCZ_R_i)\n",
    "\n",
    "    # (61)\n",
    "    U_prt = get_U_prt()\n",
    "\n",
    "    # (60)\n",
    "    r_env = get_r_env(A_env, A_A)\n",
    "    A_prt_i = get_A_prt_i(A_HCZ_i, r_env, A_MR, A_NR, A_OR)\n",
    "\n",
    "    # (59)\n",
    "    Theta_SAT_d_t = get_Theta_SAT_d_t(Theta_ex_d_t, J_d_t)\n",
    "\n",
    "    # (58)\n",
    "    l_duct_ex_i = get_l_duct_ex_i(A_A)\n",
    "\n",
    "    # (57)\n",
    "    l_duct_in_i = get_l_duct_in_i(A_A)\n",
    "\n",
    "    # (56)\n",
    "    l_duct_i = get_l_duct__i(l_duct_in_i, l_duct_ex_i)\n",
    "\n",
    "    # (51)\n",
    "    X_star_HBR_d_t = get_X_star_HBR_d_t(X_ex_d_t, region)\n",
    "\n",
    "    # (50)\n",
    "    Theta_star_HBR_d_t = get_Theta_star_HBR_d_t(Theta_ex_d_t, region)\n",
    "\n",
    "    # (55)\n",
    "    Theta_attic_d_t = get_Theta_attic_d_t(Theta_SAT_d_t, Theta_star_HBR_d_t)\n",
    "\n",
    "    # (54)\n",
    "    Theta_sur_d_t_i = get_Theta_sur_d_t_i(Theta_star_HBR_d_t, Theta_attic_d_t, l_duct_in_i, l_duct_ex_i, duct_insulation)\n",
    "\n",
    "    # (40)\n",
    "    Q_hat_hs_d_t = calc_Q_hat_hs_d_t(Q, A_A, V_vent_l_d_t, V_vent_g_i, mu_H, mu_C, J_d_t, q_gen_d_t, n_p_d_t, q_p_H,\n",
    "                                     q_p_CS, q_p_CL, X_ex_d_t, w_gen_d_t, Theta_ex_d_t, L_wtr, region)\n",
    "\n",
    "    # (39)\n",
    "    V_hs_min = get_V_hs_min(V_vent_g_i)\n",
    "\n",
    "    # (38)\n",
    "    Q_hs_rtd_C = get_Q_hs_rtd_C(q_hs_rtd_C)\n",
    "\n",
    "    # (37)\n",
    "    Q_hs_rtd_H = get_Q_hs_rtd_H(q_hs_rtd_H)\n",
    "\n",
    "    # (36)\n",
    "    V_dash_hs_supply_d_t = get_V_dash_hs_supply_d_t(V_hs_min, V_hs_dsgn_H, V_hs_dsgn_C, Q_hs_rtd_H, Q_hs_rtd_C, Q_hat_hs_d_t, region)\n",
    "\n",
    "    # (45)\n",
    "    r_supply_des_i = get_r_supply_des_i(A_HCZ_i)\n",
    "\n",
    "    # (44)\n",
    "    V_dash_supply_d_t_i = get_V_dash_supply_d_t_i(r_supply_des_i, V_dash_hs_supply_d_t, V_vent_g_i)\n",
    "\n",
    "    # (53)\n",
    "    X_star_NR_d_t = get_X_star_NR_d_t(X_star_HBR_d_t, L_CL_d_t_i, L_wtr, V_vent_l_NR_d_t, V_dash_supply_d_t_i, region)\n",
    "\n",
    "    # (52)\n",
    "    Theta_star_NR_d_t = get_Theta_star_NR_d_t(Theta_star_HBR_d_t, Q, A_NR, V_vent_l_NR_d_t, V_dash_supply_d_t_i, U_prt,\n",
    "                                              A_prt_i, L_H_d_t_i, L_CS_d_t_i, region)\n",
    "\n",
    "    # (49)\n",
    "    X_NR_d_t = get_X_NR_d_t(X_star_NR_d_t)\n",
    "\n",
    "    # (47)\n",
    "    X_HBR_d_t_i = get_X_HBR_d_t_i(X_star_HBR_d_t)\n",
    "\n",
    "    # (11)\n",
    "    Q_star_trs_prt_d_t_i = get_Q_star_trs_prt_d_t_i(U_prt, A_prt_i, Theta_star_HBR_d_t, Theta_star_NR_d_t)\n",
    "\n",
    "    # (10)\n",
    "    L_star_CL_d_t_i = get_L_star_CL_d_t_i(L_CS_d_t_i, L_CL_d_t_i, region)\n",
    "\n",
    "    # (9)\n",
    "    L_star_CS_d_t_i = get_L_star_CS_d_t_i(L_CS_d_t_i, Q_star_trs_prt_d_t_i, region)\n",
    "\n",
    "    # (8)\n",
    "    L_star_H_d_t_i = get_L_star_H_d_t_i(L_H_d_t_i, Q_star_trs_prt_d_t_i, region)\n",
    "\n",
    "    # (33)\n",
    "    L_star_CL_d_t = get_L_star_CL_d_t(L_star_CL_d_t_i)\n",
    "\n",
    "    # (32)\n",
    "    L_star_CS_d_t = get_L_star_CS_d_t(L_star_CS_d_t_i)\n",
    "\n",
    "    # (31)\n",
    "    L_star_CL_max_d_t = get_L_star_CL_max_d_t(L_star_CS_d_t)\n",
    "\n",
    "    # (30)\n",
    "    L_star_dash_CL_d_t = get_L_star_dash_CL_d_t(L_star_CL_max_d_t, L_star_CL_d_t)\n",
    "\n",
    "    # (29)\n",
    "    L_star_dash_C_d_t = get_L_star_dash_C_d_t(L_star_CS_d_t, L_star_dash_CL_d_t)\n",
    "\n",
    "    # (28)\n",
    "    SHF_dash_d_t = get_SHF_dash_d_t(L_star_CS_d_t, L_star_dash_C_d_t)\n",
    "\n",
    "    # (27)\n",
    "    Q_hs_max_C_d_t = get_Q_hs_max_C_d_t(q_hs_rtd_C)\n",
    "\n",
    "    # (26)\n",
    "    Q_hs_max_CL_d_t = get_Q_hs_max_CL_d_t(Q_hs_max_C_d_t, SHF_dash_d_t, L_star_dash_CL_d_t)\n",
    "\n",
    "    # (25)\n",
    "    Q_hs_max_CS_d_t = get_Q_hs_max_CS_d_t(Q_hs_max_C_d_t, SHF_dash_d_t)\n",
    "\n",
    "    # (24)\n",
    "    C_df_H_d_t = get_C_df_H_d_t(Theta_ex_d_t, h_ex_d_t)\n",
    "\n",
    "    # (23)\n",
    "    Q_hs_max_H_d_t = get_Q_hs_max_H_d_t(q_hs_rtd_H, C_df_H_d_t)\n",
    "\n",
    "    # (20)\n",
    "    X_star_hs_in_d_t = get_X_star_hs_in_d_t(X_star_NR_d_t)\n",
    "\n",
    "    # (19)\n",
    "    Theta_star_hs_in_d_t = get_Theta_star_hs_in_d_t(Theta_star_NR_d_t)\n",
    "\n",
    "    # (18)\n",
    "    X_hs_out_min_C_d_t = get_X_hs_out_min_C_d_t(X_star_hs_in_d_t, Q_hs_max_CL_d_t, V_dash_supply_d_t_i)\n",
    "\n",
    "    # (22)\n",
    "    X_req_d_t_i = get_X_req_d_t_i(X_star_HBR_d_t, L_star_CL_d_t_i, V_dash_supply_d_t_i, region)\n",
    "\n",
    "    # (21)\n",
    "    Theta_req_d_t_i = get_Theta_req_d_t_i(Theta_sur_d_t_i, Theta_star_HBR_d_t, V_dash_supply_d_t_i,\n",
    "                        L_star_H_d_t_i, L_star_CS_d_t_i, l_duct_i, region)\n",
    "\n",
    "    # (15)\n",
    "    X_hs_out_d_t = get_X_hs_out_d_t(X_NR_d_t, X_req_d_t_i, V_dash_supply_d_t_i, X_hs_out_min_C_d_t, L_star_CL_d_t_i, region)\n",
    "\n",
    "    # 式(14)(46)(48)の条件に合わせてTheta_NR_d_tを初期化\n",
    "    Theta_NR_d_t = np.zeros(24 * 365)\n",
    "\n",
    "    # (17)\n",
    "    Theta_hs_out_min_C_d_t = get_Theta_hs_out_min_C_d_t(Theta_star_hs_in_d_t, Q_hs_max_CS_d_t, V_dash_supply_d_t_i)\n",
    "\n",
    "    # (16)\n",
    "    Theta_hs_out_max_H_d_t = get_Theta_hs_out_max_H_d_t(Theta_star_hs_in_d_t, Q_hs_max_H_d_t, V_dash_supply_d_t_i)\n",
    "\n",
    "    # L_star_H_d_t_i，L_star_CS_d_t_iの暖冷房区画1～5を合算し0以上だった場合の順序で計算\n",
    "    # (14)\n",
    "    Theta_hs_out_d_t = get_Theta_hs_out_d_t(VAV, Theta_req_d_t_i, V_dash_supply_d_t_i,\n",
    "                                            L_star_H_d_t_i, L_star_CS_d_t_i, region, Theta_NR_d_t,\n",
    "                                            Theta_hs_out_max_H_d_t, Theta_hs_out_min_C_d_t)\n",
    "\n",
    "    # (43)\n",
    "    V_supply_d_t_i = get_V_supply_d_t_i(L_star_H_d_t_i, L_star_CS_d_t_i, Theta_sur_d_t_i, l_duct_i, Theta_star_HBR_d_t,\n",
    "                                                    V_vent_g_i, V_dash_supply_d_t_i, VAV, region, Theta_hs_out_d_t)\n",
    "\n",
    "    # (41)\n",
    "    Theta_supply_d_t_i = get_Thata_supply_d_t_i(Theta_sur_d_t_i, Theta_hs_out_d_t, Theta_star_HBR_d_t, l_duct_i,\n",
    "                                                   V_supply_d_t_i, L_star_H_d_t_i, L_star_CS_d_t_i, region)\n",
    "\n",
    "    # (46)\n",
    "    Theta_HBR_d_t_i = get_Theta_HBR_d_t_i(Theta_star_HBR_d_t, V_supply_d_t_i, Theta_supply_d_t_i, U_prt, A_prt_i, Q,\n",
    "                                             A_HCZ_i, L_star_H_d_t_i, L_star_CS_d_t_i, region)\n",
    "\n",
    "    # (48)\n",
    "    Theta_NR_d_t = get_Theta_NR_d_t(Theta_star_NR_d_t, Theta_star_HBR_d_t, Theta_HBR_d_t_i, A_NR, V_vent_l_NR_d_t,\n",
    "                                        V_dash_supply_d_t_i, V_supply_d_t_i, U_prt, A_prt_i, Q)\n",
    "\n",
    "     # L_star_H_d_t_i，L_star_CS_d_t_iの暖冷房区画1～5を合算し0以下だった場合の為に再計算\n",
    "     # (14)\n",
    "    Theta_hs_out_d_t = get_Theta_hs_out_d_t(VAV, Theta_req_d_t_i, V_dash_supply_d_t_i,\n",
    "                                            L_star_H_d_t_i, L_star_CS_d_t_i, region, Theta_NR_d_t,\n",
    "                                            Theta_hs_out_max_H_d_t, Theta_hs_out_min_C_d_t)\n",
    "\n",
    "    # (42)\n",
    "    X_supply_d_t_i = get_X_supply_d_t_i(X_star_HBR_d_t, X_hs_out_d_t, L_star_CL_d_t_i, region)\n",
    "\n",
    "    # (35)\n",
    "    V_hs_vent_d_t = get_V_hs_vent_d_t(V_vent_g_i, general_ventilation)\n",
    "\n",
    "    # (34)\n",
    "    V_hs_supply_d_t = get_V_hs_supply_d_t(V_supply_d_t_i)\n",
    "\n",
    "    # (13)\n",
    "    X_hs_in_d_t = get_X_hs_in_d_t(X_NR_d_t)\n",
    "\n",
    "    # (12)\n",
    "    Theta_hs_in_d_t = get_Theta_hs_in_d_t(Theta_NR_d_t)\n",
    "\n",
    "    # (7)\n",
    "    L_dash_CL_d_t_i = get_L_dash_CL_d_t_i(V_supply_d_t_i, X_HBR_d_t_i, X_supply_d_t_i, region)\n",
    "\n",
    "    # (6)\n",
    "    L_dash_CS_d_t_i = get_L_dash_CS_d_t_i(V_supply_d_t_i, Theta_supply_d_t_i, Theta_HBR_d_t_i, region)\n",
    "\n",
    "    # (5)\n",
    "    L_dash_H_d_t_i = get_L_dash_H_d_t_i(V_supply_d_t_i, Theta_supply_d_t_i, Theta_HBR_d_t_i, region)\n",
    "\n",
    "    # (4)\n",
    "    Q_UT_CL_d_t_i = get_Q_UT_CL_d_t_i(L_star_CL_d_t_i, L_dash_CL_d_t_i)\n",
    "\n",
    "    # (3)\n",
    "    Q_UT_CS_d_t_i = get_Q_UT_CS_d_t_i(L_star_CS_d_t_i, L_dash_CS_d_t_i)\n",
    "\n",
    "    # (2)\n",
    "    Q_UT_H_d_t_i = get_Q_UT_H_d_t_i(L_star_H_d_t_i, L_dash_H_d_t_i)\n",
    "\n",
    "    # (1)\n",
    "    E_C_UT_d_t = get_E_C_UT_d_t(Q_UT_CL_d_t_i, Q_UT_CS_d_t_i, region)\n",
    "\n",
    "    return E_C_UT_d_t, Q_UT_H_d_t_i, Q_UT_CS_d_t_i, Q_UT_CL_d_t_i, Theta_hs_out_d_t, Theta_hs_in_d_t, \\\n",
    "           X_hs_out_d_t, X_hs_in_d_t, V_hs_supply_d_t, V_hs_vent_d_t, C_df_H_d_t\n"
   ]
  },
  {
   "cell_type": "markdown",
   "metadata": {},
   "source": [
    "## 第二節　ダクト式セントラル空調機 / Section 2 Duct type central air conditioner"
   ]
  },
  {
   "cell_type": "markdown",
   "metadata": {},
   "source": [
    "1．適用範囲～4．記号及び単位は省略"
   ]
  },
  {
   "cell_type": "markdown",
   "metadata": {},
   "source": [
    "1. Scope of application ~ 4. Symbols and units are omitted"
   ]
  },
  {
   "cell_type": "markdown",
   "metadata": {},
   "source": [
    "### 5．暖房エネルギー消費量"
   ]
  },
  {
   "cell_type": "markdown",
   "metadata": {},
   "source": [
    "#### 5.1 消費電力量 / Power consumption"
   ]
  },
  {
   "cell_type": "markdown",
   "metadata": {},
   "source": [
    "省略"
   ]
  },
  {
   "cell_type": "markdown",
   "metadata": {},
   "source": [
    "#### 5.2 ガス消費量"
   ]
  },
  {
   "cell_type": "markdown",
   "metadata": {},
   "source": [
    "日付$d$の時刻$t$における 1 時間当たりのガス消費量$E_{G,H,d,t}$は0とする。"
   ]
  },
  {
   "cell_type": "code",
   "execution_count": 3,
   "metadata": {},
   "outputs": [],
   "source": [
    "def get_E_G_H_d_t():\n",
    "    \"\"\"ガス消費量\n",
    "    ガス消費量は0とする\n",
    "\n",
    "    :return: ガス消費量\n",
    "    :rtype: ndarray\n",
    "    \"\"\"\n",
    "    # ガス消費量は0とする\n",
    "    return np.zeros(24 * 365)"
   ]
  },
  {
   "cell_type": "markdown",
   "metadata": {},
   "source": [
    "#### 5.3 灯油消費量"
   ]
  },
  {
   "cell_type": "markdown",
   "metadata": {},
   "source": [
    "日付$d$の時刻$t$における 1 時間当たりのの灯油消費量$E_{K,H,d,t}$は0とする。"
   ]
  },
  {
   "cell_type": "code",
   "execution_count": 4,
   "metadata": {},
   "outputs": [],
   "source": [
    "def get_E_K_H_d_t():\n",
    "    \"\"\"灯油消費量\n",
    "    灯油消費量は0とする\n",
    "    \n",
    "    :return: 灯油消費量\n",
    "    :rtype: ndarray\n",
    "    \"\"\"\n",
    "    # 灯油消費量は0とする\n",
    "    return np.zeros(24 * 365)"
   ]
  },
  {
   "cell_type": "markdown",
   "metadata": {},
   "source": [
    "#### 5.4 その他の燃料による一次エネルギー消費量"
   ]
  },
  {
   "cell_type": "markdown",
   "metadata": {},
   "source": [
    "日付$d$の時刻$t$における 1 時間当たりのその他の燃料による一次エネルギー消費量$E_{M,H,d,t}$は0とする。"
   ]
  },
  {
   "cell_type": "code",
   "execution_count": 5,
   "metadata": {},
   "outputs": [],
   "source": [
    "def get_E_M_H_d_t():\n",
    "    \"\"\"その他の燃料による一次エネルギー消費量\n",
    "    \n",
    "    :return: その他の燃料による一次エネルギー消費量\n",
    "    :rtype: ndarray\n",
    "    \"\"\"\n",
    "    # その他の燃料による一次エネルギー消費量は0とする\n",
    "    return np.zeros(24 * 365)"
   ]
  },
  {
   "cell_type": "markdown",
   "metadata": {},
   "source": [
    "### 6．冷房エネルギー消費量"
   ]
  },
  {
   "cell_type": "markdown",
   "metadata": {},
   "source": [
    "#### 6.1　消費電力量 / Power consumption"
   ]
  },
  {
   "cell_type": "markdown",
   "metadata": {},
   "source": [
    "省略"
   ]
  },
  {
   "cell_type": "markdown",
   "metadata": {},
   "source": [
    "#### 6.2 ガス消費量"
   ]
  },
  {
   "cell_type": "markdown",
   "metadata": {},
   "source": [
    "日付$d$の時刻$t$における 1 時間当たりのガス消費量$E_{G,C,d,t}$は0とする。"
   ]
  },
  {
   "cell_type": "code",
   "execution_count": 6,
   "metadata": {},
   "outputs": [],
   "source": [
    "def get_E_G_C_d_t():\n",
    "    # ガス消費量は0とする\n",
    "    return np.zeros(24 * 365)"
   ]
  },
  {
   "cell_type": "markdown",
   "metadata": {},
   "source": [
    "#### 6.3 灯油消費量"
   ]
  },
  {
   "cell_type": "markdown",
   "metadata": {},
   "source": [
    "日付$d$の時刻$t$における 1 時間当たりの灯油消費量$E_{K,C,d,t}$は0とする。"
   ]
  },
  {
   "cell_type": "code",
   "execution_count": 7,
   "metadata": {},
   "outputs": [],
   "source": [
    "def get_E_K_C_d_t():\n",
    "    # 灯油消費量は0とする\n",
    "    return np.zeros(24 * 365)"
   ]
  },
  {
   "cell_type": "markdown",
   "metadata": {},
   "source": [
    "#### 6.4 その他の燃料による一次エネルギー消費量"
   ]
  },
  {
   "cell_type": "markdown",
   "metadata": {},
   "source": [
    "日付$d$の時刻$t$における 1 時間当たりのその他の燃料による一次エネルギー消費量$E_{M,C,d,t}$は0とする。"
   ]
  },
  {
   "cell_type": "code",
   "execution_count": 8,
   "metadata": {},
   "outputs": [],
   "source": [
    "def get_E_M_C_d_t():\n",
    "    # その他の燃料による一次エネルギー消費量は0とする\n",
    "    return np.zeros(24 * 365)"
   ]
  },
  {
   "cell_type": "markdown",
   "metadata": {},
   "source": [
    "### 7．冷房設備の未処理冷房負荷の設計一次エネルギー消費量相当値"
   ]
  },
  {
   "cell_type": "markdown",
   "metadata": {},
   "source": [
    "$$\\large\n",
    "E_{C,UT,d,t} = \\sum^5_{i=1} \\alpha_{UT,C}(Q_{UT,CL,d,t,i}+Q_{UT,CS,d,t,i})\n",
    "$$"
   ]
  },
  {
   "cell_type": "markdown",
   "metadata": {},
   "source": [
    "$E_{C,UT,d,t}$：日付$d$の時刻$t$における1時間当たりの冷房設備の未処理冷房負荷の設計一次エネルギー消費量相当\n",
    "値(MJ/h)  \n",
    "$Q_{UT,CL,d,t,i}$：日付$d$の時刻$t$における1時間当たりの暖冷房区画$i$に設置された冷房設備機器の未処理冷房潜熱負荷(MJ/h) \n",
    "$Q_{UT,CS,d,t,i}$：日付$d$の時刻$t$における1時間当たりの暖冷房区画$i$に設置された冷房設備機器の未処理冷房顕熱負荷(MJ/h)  \n",
    "$\\alpha_{UT,C}$：冷房設備の未処理冷房負荷を未処理冷房負荷の設計一次エネルギー消費量相当値に換算する係数(-)  "
   ]
  },
  {
   "cell_type": "code",
   "execution_count": 9,
   "metadata": {},
   "outputs": [],
   "source": [
    "def get_E_C_UT_d_t(Q_UT_CL_d_t_i, Q_UT_CS_d_t_i, region):\n",
    "    \"\"\"(1)\n",
    "\n",
    "    :param Q_UT_CL_d_t_i:日付dの時刻tにおける1時間当たりの暖冷房区画iに設置された冷房機器の未処理冷房潜熱負荷（MJ/h）\n",
    "    :param Q_UT_CS_d_t_i:日付dの時刻tにおける1時間当たりの暖冷房区画iに設置された冷房機器の未処理冷房顕熱負荷（MJ/h）\n",
    "    :param region:地域区分\n",
    "    :return:日付dの時刻tにおける1時間当たりの冷房設備の未処理冷房負荷の設計一次エネルギー消費量相当値（MJ/h）\n",
    "    \"\"\"\n",
    "    # 暖房設備の未処理冷房負荷を未処理暖房負荷の設計一次エネルギー消費量相当値に換算する係数α_(UT,H)（-）を取得\n",
    "    from section4_1 import \\\n",
    "       get_alpha_UT_H_A\n",
    "\n",
    "    region = 7 if region == 8 else region\n",
    "\n",
    "    alpha_UT_H_A = get_alpha_UT_H_A(region)\n",
    "\n",
    "    # 冷房設備の未処理冷房負荷を未処理冷房負荷の設計一次エネルギー消費量相当値に換算する係数（-）\n",
    "    alpha_UT_C = alpha_UT_H_A\n",
    "\n",
    "    return np.sum(alpha_UT_C * (Q_UT_CL_d_t_i + Q_UT_CS_d_t_i), axis=0)"
   ]
  },
  {
   "cell_type": "markdown",
   "metadata": {},
   "source": [
    "### 8．未処理負荷"
   ]
  },
  {
   "cell_type": "markdown",
   "metadata": {},
   "source": [
    "$$\\large\n",
    "Q_{UT,H,d,t,i}=max(L^*_{H,d,t,i}-L'_{H,d,t,i} , 0)\n",
    "$$\n",
    "\n",
    "$$\\large\n",
    "Q_{UT,CS,d,t,i}=max(L^*_{CS,d,t,i}-L'_{CS,d,t,i} , 0)\n",
    "$$\n",
    "\n",
    "$$\\large\n",
    "Q_{UT,CL,d,t,i}=max(L^*_{CL,d,t,i}-L'_{CL,d,t,i} , 0)\n",
    "$$"
   ]
  },
  {
   "cell_type": "markdown",
   "metadata": {},
   "source": [
    "$L'_{CL,d,t,i}$：日付$d$の時刻$t$における暖冷房区画$i$の1時間当たりの間仕切りの熱取得を含む実際の冷房潜熱負荷(MJ/h)  \n",
    "$L'_{CS,d,t,i}$：日付$d$の時刻$t$における暖冷房区画$i$の1時間当たりの間仕切りの熱取得を含む実際の冷房顕熱負荷(MJ/h)  \n",
    "$L'_{H,d,t,i}$：日付$d$の時刻$t$における暖冷房区画$i$の1時間当たりの間仕切りの熱損失を含む実際の暖房負荷(MJ/h)  \n",
    "$L^*_{CL,d,t,i}$：日付$d$の時刻$t$における暖冷房区画$i$の1時間当たりの熱取得を含む負荷バランス時の冷房潜熱負荷(MJ/h)  \n",
    "$L^*_{CS,d,t,i}$：日付$d$の時刻$t$における暖冷房区画$i$の1時間当たりの熱取得を含む負荷バランス時の冷房顕熱負荷(MJ/h)  \n",
    "$L^*_{H,d,t,i}$：日付$d$の時刻$t$における暖冷房区画$i$の1時間当たりの熱損失を含む負荷バランス時の暖房負荷(MJ/h)  \n",
    "$Q_{UT,CL,d,t,i}$：日付$d$の時刻$t$における1 時間当たりの暖冷房区画$i$に設置された冷房設備機器の未処理冷房潜熱負荷(MJ/h)  \n",
    "$Q_{UT,CS,d,t,i}$：日付$d$の時刻$t$における1 時間当たりの暖冷房区画$i$に設置された冷房設備機器の未処理冷房顕熱負荷(MJ/h)  \n",
    "$Q_{UT,H,d,t,i}$：日付$d$の時刻$t$における1 時間当たりの暖冷房区画$i$に設置された暖房設備機器等の未処理暖房負荷(MJ/h)  \n"
   ]
  },
  {
   "cell_type": "code",
   "execution_count": 10,
   "metadata": {},
   "outputs": [],
   "source": [
    "def get_Q_UT_H_d_t_i(L_star_H_d_t_i, L_dash_H_d_t_i):\n",
    "    \"\"\"(2)\n",
    "\n",
    "    :param L_star_H_d_t_i:日付dの時刻tにおける暖冷房区画iの1時間当たりの熱損失を含む負荷バランス時の暖房負荷（MJ/h）\n",
    "    :param L_dash_H_d_t_i:日付dの時刻tにおける暖冷房区画iの1時間当たりの間仕切りの熱損失を含む実際の暖房負荷（MJ/h）\n",
    "    :return:日付dの時刻tにおける1時間当たりの暖冷房区画iに設置された暖房設備機器等の未処理暖房負荷（MJ/h）\n",
    "    \"\"\"\n",
    "    return np.clip(L_star_H_d_t_i[:5] - L_dash_H_d_t_i[:5], 0, None)\n",
    "\n",
    "def get_Q_UT_CS_d_t_i(L_star_CS_d_t_i, L_dash_CS_d_t_i):\n",
    "    \"\"\" (3)\n",
    "\n",
    "    :param L_star_CS_d_t_i:日付dの時刻tにおける暖冷房区画iの1時間当たりの熱損失を含む負荷バランス時の冷房顕熱負荷（MJ/h）\n",
    "    :param L_dash_CS_d_t_i:日付dの時刻tにおける暖冷房区画iの1時間当たりの間仕切りの熱損失を含む実際の冷房顕熱負荷（MJ/h）\n",
    "    :return:日付dの時刻tにおける1時間当たりの暖冷房区画iに設置された冷房機器の未処理冷房顕熱負荷（MJ/h）\n",
    "    \"\"\"\n",
    "    return np.clip(L_star_CS_d_t_i[:5] - L_dash_CS_d_t_i[:5], 0, None)\n",
    "\n",
    "def get_Q_UT_CL_d_t_i(L_star_CL_d_t_i, L_dash_CL_d_t_i):\n",
    "    \"\"\"(4)\n",
    "\n",
    "    :param L_star_CL_d_t_i:日付dの時刻tにおける暖冷房区画iの1時間当たりの熱損失を含む負荷バランス時の冷房潜熱負荷（MJ/h）\n",
    "    :param L_dash_CS_d_t_i:日付dの時刻tにおける暖冷房区画iの1時間当たりの間仕切りの熱損失を含む実際の冷房潜熱負荷（MJ/h）\n",
    "    :return:日付dの時刻tにおける1時間当たりの暖冷房区画iに設置された冷房機器の未処理冷房潜熱負荷（MJ/h）\n",
    "    \"\"\"\n",
    "    return np.clip(L_star_CL_d_t_i[:5] - L_dash_CL_d_t_i[:5], 0, None)"
   ]
  },
  {
   "cell_type": "markdown",
   "metadata": {},
   "source": [
    "暖房期："
   ]
  },
  {
   "cell_type": "markdown",
   "metadata": {},
   "source": [
    "$$\\large\n",
    "L'_{H,d,t,i}=c_{p_{air}}\\rho_{air}V_{supply,d,t,i}(\\theta_{supply,d,t,i}-\\theta_{HBR,d,t,i})\\times10^{-6}\n",
    "$$\n",
    "\n",
    "$$\\large\n",
    "L'_{CS,d,t,i}=0.0\n",
    "$$\n",
    "\n",
    "$$\\large\n",
    "L'_{CL,d,t,i}=0.0\n",
    "$$"
   ]
  },
  {
   "cell_type": "markdown",
   "metadata": {},
   "source": [
    "冷房期："
   ]
  },
  {
   "cell_type": "markdown",
   "metadata": {},
   "source": [
    "$$\\large\n",
    "L'_{H,d,t,i}=0.0\n",
    "$$\n",
    "\n",
    "$$\\large\n",
    "L'_{CS,d,t,i}=c_{p_{air}}\\rho_{air}V_{supply,d,t,i}(\\theta_{HBR,d,t,i}-\\theta_{supply,d,t,i})\\times10^{-6}\n",
    "$$\n",
    "\n",
    "$$\\large\n",
    "L'_{CL,d,t,i}=L_{wtr}\\rho_{air}V_{supply,d,t,i}(X_{HBR,d,t,i}-X_{supply,d,t,i})\\times10^{-3}\n",
    "$$"
   ]
  },
  {
   "cell_type": "markdown",
   "metadata": {},
   "source": [
    "中間期："
   ]
  },
  {
   "cell_type": "markdown",
   "metadata": {},
   "source": [
    "$$\\large\n",
    "L'_{H,d,t,i}=0.0\n",
    "$$\n",
    "\n",
    "$$\\large\n",
    "L'_{CS,d,t,i}=0.0\n",
    "$$\n",
    "\n",
    "$$\\large\n",
    "L'_{CL,d,t,i}=0.0\n",
    "$$"
   ]
  },
  {
   "cell_type": "markdown",
   "metadata": {},
   "source": [
    "$L'_{CL,d,t,i}$：日付$d$の時刻$t$における暖冷房区画$i$の1時間当たりの間仕切りの熱取得を含む実際の冷房潜熱負荷(MJ/h)  \n",
    "$L'_{CS,d,t,i}$：日付$d$の時刻$t$における暖冷房区画$i$の1時間当たりの間仕切りの熱取得を含む実際の冷房顕熱負荷(MJ/h)  \n",
    "$L'_{H,d,t,i}$：日付$d$の時刻$t$における暖冷房区画$i$の1時間当たりの間仕切りの熱損失を含む実際の暖房負荷(MJ/h)  \n",
    "$V_{supply,d,t,i}$：日付$d$の時刻$t$における暖冷房区画$i$の吹き出し風量($m^3$/h)  \n",
    "$X_{HBR,d,t,i}$：日付$d$の時刻$t$における暖冷房区画$i$の実際の居室の絶対湿度(kg/kg(DA))  \n",
    "$X_{supply,d,t,i}$：日付$d$の時刻$t$における暖冷房区画$i$の吹き出し絶対湿度(kg/kg(DA))  \n",
    "$\\theta_{HBR,d,t,i}$：日付$d$の時刻$t$における暖冷房区画$i$の実際の居室の室温(℃)  \n",
    "$\\theta_{supply,d,t,i}$：日付$d$の時刻$t$における暖冷房区画$i$の吹き出し温度(℃)  \n",
    "$c_{p_{air}}$：空気の比熱(J/(kg・K))  \n",
    "$L_{wtr}$：水の蒸発潜熱(kJ/kg)  \n",
    "$\\rho_{air}$：空気の密度(kg/$m^3$)  \n"
   ]
  },
  {
   "cell_type": "code",
   "execution_count": 11,
   "metadata": {},
   "outputs": [],
   "source": [
    "def get_L_dash_H_d_t_i(V_supply_d_t_i, Theta_supply_d_t_i, Theta_HBR_d_t_i, region):\n",
    "    \"\"\"(5-1)(5-2)(5-3)\n",
    "\n",
    "    :param V_supply_d_t_i:日付dの時刻tにおける暖冷房区画iの吹き出し風量（m3/h）\n",
    "    :param Theta_supply_d_t_i:日付dの時刻tにおける暖冷房区画iの吹き出し温度（℃）\n",
    "    :param Theta_HBR_d_t_i:日付dの時刻tにおける暖冷房区画iの実際の居室の室温（℃）\n",
    "    :param region:地域区分\n",
    "    :return:日付dの時刻tにおける暖冷房区画iの1時間当たりの間仕切りの熱損失を含む実際の暖房負荷（MJ/h）\n",
    "    \"\"\"\n",
    "    c_p_air = get_c_p_air()\n",
    "    rho_air = get_rho_air()\n",
    "    H, C, M = get_season_array_d_t(region)\n",
    "\n",
    "    L_dash_H_d_t_i = np.zeros((5, 24 * 365))\n",
    "\n",
    "    # 暖房期 (5-1)\n",
    "    L_dash_H_d_t_i[:, H] = c_p_air * rho_air * V_supply_d_t_i[:, H] * (Theta_supply_d_t_i[:, H] - Theta_HBR_d_t_i[:, H]) * 10 ** -6\n",
    "\n",
    "    # 冷房期 (5-2)\n",
    "    L_dash_H_d_t_i[:, C] = 0.0\n",
    "\n",
    "    # 中間期 (5-3)\n",
    "    L_dash_H_d_t_i[:, M] = 0.0\n",
    "\n",
    "    return L_dash_H_d_t_i\n",
    "\n",
    "\n",
    "def get_L_dash_CS_d_t_i(V_supply_d_t_i, Theta_supply_d_t_i, Theta_HBR_d_t_i, region):\n",
    "    \"\"\"(6-1)(6-2)(6-3)\n",
    "    :param V_supply_d_t_i:日付dの時刻tにおける暖冷房区画iの吹き出し風量（m3/h）\n",
    "    :param Theta_supply_d_t_i:日付dの時刻tにおける暖冷房区画iの吹き出し温度（℃）\n",
    "    :param Theta_HBR_d_t_i:日付dの時刻tにおける暖冷房区画iの実際の居室の室温（℃）\n",
    "    :param region:地域区分\n",
    "    :return:日付dの時刻tにおける暖冷房区画iの1時間当たりの間仕切りの熱損失を含む実際の冷房顕熱および潜熱負荷（MJ/h）\n",
    "    \"\"\"\n",
    "    c_p_air = get_c_p_air()\n",
    "    rho_air = get_rho_air()\n",
    "    H, C, M = get_season_array_d_t(region)\n",
    "\n",
    "    L_dash_CS_d_t_i = np.zeros((5, 24 * 365))\n",
    "\n",
    "    # 暖房期 (6-1)\n",
    "    L_dash_CS_d_t_i[:, H] = 0.0\n",
    "\n",
    "    # 冷房期 (6-2)\n",
    "    L_dash_CS_d_t_i[:, C] = c_p_air * rho_air * V_supply_d_t_i[:, C] * (Theta_HBR_d_t_i[:, C] - Theta_supply_d_t_i[:, C]) * 10 ** -6\n",
    "\n",
    "    # 中間期 (6-3)\n",
    "    L_dash_CS_d_t_i[:, M] = 0.0\n",
    "\n",
    "    return L_dash_CS_d_t_i\n",
    "\n",
    "\n",
    "\n",
    "def get_L_dash_CL_d_t_i(V_supply_d_t_i, X_HBR_d_t_i, X_supply_d_t_i, region):\n",
    "    \"\"\"(7-1)(7-2)(7-3)\n",
    "\n",
    "    :param V_supply_d_t_i:日付dの時刻tにおける暖冷房区画iの吹き出し風量（m3/h）\n",
    "    :param X_HBR_d_t_i:日付dの時刻tにおける暖冷房区画iの実際の居室の絶対湿度（kg/kg(DA)）\n",
    "    :param X_supply_d_t_i:日付dの時刻tにおける暖冷房区画iの吹き出し絶対湿度（kg/kg(DA)）\n",
    "    :param region:地域区分\n",
    "    :return:日付dの時刻tにおける暖冷房区画iの1時間当たりの間仕切りの熱損失を含む実際の冷房顕熱および潜熱負荷（MJ/h）\n",
    "    \"\"\"\n",
    "    L_wtr = get_L_wtr()\n",
    "    rho_air = get_rho_air()\n",
    "    H, C, M = get_season_array_d_t(region)\n",
    "\n",
    "    L_dash_CL_d_t_i = np.zeros((5, 24 * 365))\n",
    "\n",
    "    # 暖房期 (7-1)\n",
    "    L_dash_CL_d_t_i[:, H] = 0.0\n",
    "\n",
    "    # 冷房期 (7-2)\n",
    "    L_dash_CL_d_t_i[:, C] = L_wtr * rho_air * V_supply_d_t_i[:, C] * (X_HBR_d_t_i[:, C] - X_supply_d_t_i[:, C]) * 10 ** -3\n",
    "\n",
    "    # 中間期 (7-3)\n",
    "    L_dash_CL_d_t_i[:, M] = 0.0\n",
    "\n",
    "    return L_dash_CL_d_t_i"
   ]
  },
  {
   "cell_type": "markdown",
   "metadata": {},
   "source": [
    "暖房期："
   ]
  },
  {
   "cell_type": "markdown",
   "metadata": {},
   "source": [
    "$$\\large\n",
    "L^*_{H,d,t,i}=\\left\\{ \\begin{array}{ll}\n",
    "    max(L_{H,d,t,i}+Q^*_{trs,prt,d,t,i},0) &(L_{H,d,t,i}>0)\\\\ \n",
    "    0 &(L_{H,d,t,i} \\leq 0)\\\\ \n",
    "    \\end{array}\n",
    "\\right.\n",
    "$$\n",
    "\n",
    "$$\\large\n",
    "L^*_{CS,d,t,i}=0\n",
    "$$\n",
    "\n",
    "$$\\large\n",
    "L^*_{CL,d,t,i}=0\n",
    "$$"
   ]
  },
  {
   "cell_type": "markdown",
   "metadata": {},
   "source": [
    "冷房期："
   ]
  },
  {
   "cell_type": "markdown",
   "metadata": {},
   "source": [
    "$$\\large\n",
    "L^*_{H,d,t,i}=0\n",
    "$$\n",
    "\n",
    "$$\\large\n",
    "L^*_{CS,d,t,i}=\\left\\{ \\begin{array}{ll}\n",
    "    max(L_{CS,d,t,i}+Q^*_{trs,prt,d,t,i},0) &(L_{CS,d,t,i}>0)\\\\ \n",
    "    0 &(L_{CS,d,t,i} \\leq 0)\\\\ \n",
    "    \\end{array}\n",
    "\\right.\n",
    "$$\n",
    "\n",
    "$$\\large\n",
    "L^*_{CL,d,t,i}=\\left\\{ \\begin{array}{ll}\n",
    "    max(L_{CL,d,t,i},0) &(L_{CS,d,t,i}>0)\\\\ \n",
    "    0 &(L_{CS,d,t,i} \\leq 0)\\\\ \n",
    "    \\end{array}\n",
    "\\right.\n",
    "$$"
   ]
  },
  {
   "cell_type": "markdown",
   "metadata": {},
   "source": [
    "中間期："
   ]
  },
  {
   "cell_type": "markdown",
   "metadata": {},
   "source": [
    "$$\\large\n",
    "L^*_{H,d,t,i}=0\n",
    "$$\n",
    "\n",
    "$$\\large\n",
    "L^*_{CS,d,t,i}=0\n",
    "$$\n",
    "\n",
    "$$\\large\n",
    "L^*_{CL,d,t,i}=0\n",
    "$$"
   ]
  },
  {
   "cell_type": "markdown",
   "metadata": {},
   "source": [
    "$L_{CL,d,t,i}$：日付$d$の時刻$t$における暖冷房区画$i$の1時間当たりの冷房潜熱負荷(MJ/h)  \n",
    "$L_{CS,d,t,i}$：日付$d$の時刻$t$における暖冷房区画$i$の1時間当たりの冷房顕熱負荷(MJ/h)  \n",
    "$L_{H,d,t,i}$：日付$d$の時刻$t$における暖冷房区画$i$の1時間当たりの暖房負荷(MJ/h)  \n",
    "$L^*_{CL,d,t,i}$：日付$d$の時刻$t$における暖冷房区画$i$の1時間当たりの熱取得を含む負荷バランス時の冷房潜熱負荷(MJ/h)  \n",
    "$L^*_{CS,d,t,i}$：日付$d$の時刻$t$における暖冷房区画$i$の1時間当たりの熱取得を含む負荷バランス時の冷房顕熱負荷(MJ/h)  \n",
    "$L^*_{H,d,t,i}$：日付$d$の時刻$t$における暖冷房区画$i$の1時間当たりの熱損失を含む負荷バランス時の暖房負荷(MJ/h)  \n",
    "$Q^*_{trs,prt,d,t,i}$：日付$d$の時刻$t$における暖冷房区画$i$の1時間当たりの熱損失を含む負荷バランス時の非居室への熱移動(MJ/h)  \n"
   ]
  },
  {
   "cell_type": "code",
   "execution_count": 12,
   "metadata": {},
   "outputs": [],
   "source": [
    "def get_L_star_H_d_t_i(L_H_d_t_i, Q_star_trs_prt_d_t_i, region):\n",
    "    \"\"\"(8-1)(8-2)(8-3)\n",
    "\n",
    "    :param L_H_d_t_i:日付dの時刻tにおける暖冷房区画iの1時間当たりの暖房負荷（MJ/h）\n",
    "    :param Q_star_trs_prt_d_t_i:日付dの時刻tにおける暖冷房区画iの1時間当たりの熱損失を含む負荷バランス時の非居室への熱移動（MJ/h）\n",
    "    :param region:地域区分\n",
    "    :return:日付dの時刻tにおける暖冷房区画iの1時間当たりの熱損失を含む負荷バランス時の暖房負荷\n",
    "    \"\"\"\n",
    "    H, C, M = get_season_array_d_t(region)\n",
    "    L_H_d_t_i = L_H_d_t_i[:5]\n",
    "    f = L_H_d_t_i > 0\n",
    "\n",
    "    Hf = np.logical_and(H, f)\n",
    "\n",
    "    L_star_H_d_t_i = np.zeros((5, 24 * 365))\n",
    "    L_star_H_d_t_i[Hf] = np.clip(L_H_d_t_i[Hf] + Q_star_trs_prt_d_t_i[Hf], 0, None)\n",
    "    return L_star_H_d_t_i\n",
    "\n",
    "\n",
    "def get_L_star_CS_d_t_i(L_CS_d_t_i, Q_star_trs_prt_d_t_i, region):\n",
    "    \"\"\"(9-2)(9-2)(9-3)\n",
    "\n",
    "    :param L_CS_t_i: 日付dの時刻tにおける暖冷房区画iの1時間当たりの冷房顕熱負荷（MJ/h）\n",
    "    :param Q_star_trs_prt_d_t_i: 日付dの時刻tにおける暖冷房区画iの1時間当たりの熱損失を含む負荷バランス時の非居室への熱移動（MJ/h）\n",
    "    :param region:地域区分\n",
    "    :return: 日付dの時刻tにおける暖冷房区画iの1時間当たりの熱損失を含む負荷バランス時の冷房顕熱負荷\n",
    "    \"\"\"\n",
    "    H, C, M = get_season_array_d_t(region)\n",
    "    L_CS_d_t_i = L_CS_d_t_i[:5]\n",
    "    f = L_CS_d_t_i > 0\n",
    "\n",
    "    Cf = np.logical_and(C, f)\n",
    "\n",
    "    L_star_CS_d_t_i = np.zeros((5, 24 * 365))\n",
    "    L_star_CS_d_t_i[Cf] = np.clip(L_CS_d_t_i[Cf] + Q_star_trs_prt_d_t_i[Cf], 0, None)\n",
    "    return L_star_CS_d_t_i\n",
    "\n",
    "def get_L_star_CL_d_t_i(L_CS_d_t_i, L_CL_d_t_i, region):\n",
    "    \"\"\"(10-1)(10-2)(10-3)\n",
    "\n",
    "    :param L_CL_d_t_i:日付dの時刻tにおける暖冷房区画iの1時間当たりの冷房潜熱負荷（MJ/h）\n",
    "    :param region:地域区分\n",
    "    :return:日付dの時刻tにおける暖冷房区画iの1時間当たりの熱損失を含む負荷バランス時の冷房潜熱負荷\n",
    "    \"\"\"\n",
    "    H, C, M = get_season_array_d_t(region)\n",
    "    L_CL_d_t_i = L_CL_d_t_i[:5]\n",
    "    L_CS_d_t_i = L_CS_d_t_i[:5]\n",
    "    f = L_CS_d_t_i > 0\n",
    "\n",
    "    Cf = np.logical_and(C, f)\n",
    "\n",
    "    L_star_CL_d_t_i = np.zeros((5, 24 * 365))\n",
    "\n",
    "    L_star_CL_d_t_i[Cf] = L_CL_d_t_i[Cf]\n",
    "\n",
    "    return L_star_CL_d_t_"
   ]
  },
  {
   "cell_type": "markdown",
   "metadata": {},
   "source": [
    "$$\\large\n",
    "Q^*_{trs,prt,d,t,i}=U_{prt}A_{prt,i}(\\theta^*_{HBR,d,t}-\\theta^*_{NR,d,t})\\times 3600 \\times 10^{-6}\n",
    "$$\n"
   ]
  },
  {
   "cell_type": "markdown",
   "metadata": {},
   "source": [
    "$A_{prt,i}$：暖冷房区画$i$から見た非居室の間仕切りの面積($m^2$)  \n",
    "$Q^*_{trs,prt,d,t,i}$：日付$d$の時刻$t$における暖冷房区画$i$の1時間当たりの熱損失を含む負荷バランス時の非居室への熱移動(MJ/h)  \n",
    "$U_{prt}$：間仕切りの熱貫流率(W/($m^2$・K))  \n",
    "$\\theta^*_{HBR,d,t}$：日付$d$の時刻$t$における負荷バランス時の居室の室温(℃)  \n",
    "$\\theta^*_{NR,d,t}$：日付$d$の時刻$t$における負荷バランス時の非居室の室温(℃)  \n"
   ]
  },
  {
   "cell_type": "code",
   "execution_count": 13,
   "metadata": {},
   "outputs": [],
   "source": [
    "def get_Q_star_trs_prt_d_t_i(U_prt, A_prt_i, Theta_star_HBR_d_t, Theta_star_NR_d_t):\n",
    "    \"\"\"(11)\n",
    "\n",
    "    :param U_prt:間仕切りの熱貫流率（W/(m2・K)）\n",
    "    :param A_prt_i:暖冷房区画iから見た非居室の間仕切りの面積（m2）\n",
    "    :param Theta_star_HBR_d_t:日付dの時刻tにおける負荷バランス時の居室の室温（℃）\n",
    "    :param Theta_star_NR_d_t:日付dの時刻tにおける負荷バランス時の非居室の室温（℃）\n",
    "    :return:日付dの時刻tにおける暖冷房区画iの1時間当たりの熱損失を含む負荷バランス時の非居室への熱移動（MJ/h）\n",
    "    \"\"\"\n",
    "    return U_prt * A_prt_i[:5, np.newaxis] * (Theta_star_HBR_d_t - Theta_star_NR_d_t) * 3600 * 10 ** -6"
   ]
  },
  {
   "cell_type": "markdown",
   "metadata": {},
   "source": [
    "### 9. 熱源機"
   ]
  },
  {
   "cell_type": "markdown",
   "metadata": {},
   "source": [
    "#### 9.1 熱源機の入口における空気温度・絶対湿度"
   ]
  },
  {
   "cell_type": "markdown",
   "metadata": {},
   "source": [
    "$$\\large\n",
    "\\theta_{hs,in,d,t} = \\theta_{NR,d,t}\n",
    "$$\n"
   ]
  },
  {
   "cell_type": "markdown",
   "metadata": {},
   "source": [
    "$\\theta_{hs,in,d,t}$：日付$d$の時刻$t$における熱源機の入口における空気温度(℃)  \n",
    "$\\theta_{NR,d,t}$：日付$d$の時刻$t$における非居室の室温(℃)  \n"
   ]
  },
  {
   "cell_type": "code",
   "execution_count": 14,
   "metadata": {},
   "outputs": [],
   "source": [
    "def get_Theta_hs_in_d_t(Theta_NR_d_t):\n",
    "    \"\"\"(12)\n",
    "\n",
    "    :param Theta_NR_d_t:  日付dの時刻tにおける非居室の室温(℃)\n",
    "    :return:日付dの時刻tにおける熱源機の入口における空気温度（℃）\n",
    "    \"\"\"\n",
    "    return Theta_NR_d_t"
   ]
  },
  {
   "cell_type": "markdown",
   "metadata": {},
   "source": [
    "$$\\large\n",
    "X_{hs,in,d,t} = X_{NR,d,t}\n",
    "$$\n"
   ]
  },
  {
   "cell_type": "markdown",
   "metadata": {},
   "source": [
    "$X_{hs,in,d,t}$：日付$d$の時刻$t$における熱源機の入口における絶対湿度(kg/kg(DA))  \n",
    "$X_{NR,d,t}$：日付$d$の時刻$t$における非居室の絶対湿度(kg/kg(DA))  \n"
   ]
  },
  {
   "cell_type": "code",
   "execution_count": 15,
   "metadata": {},
   "outputs": [],
   "source": [
    "def get_X_hs_in_d_t(X_NR_d_t):\n",
    "    \"\"\"(13)\n",
    "\n",
    "    :param X_NR_d_t:日付dの時刻tにおける非居室の絶対湿度（kg/kg(DA)）\n",
    "    :return:日付dの時刻tにおける熱源機の入口における絶対湿度（kg/kg(DA)）\n",
    "    \"\"\"\n",
    "    return X_NR_d_t"
   ]
  },
  {
   "cell_type": "markdown",
   "metadata": {},
   "source": [
    "#### 9.2 熱源機の出口における空気温度・絶対湿度"
   ]
  },
  {
   "cell_type": "markdown",
   "metadata": {},
   "source": [
    "VAVの機構の有無によらず、熱源機の出口における空気温度$\\theta_{hs,out,d,t}$は、暖房期においては、暖房時の熱源機の出口における空気温度の最高値$\\theta_{hs,out,max,H,d,t}$を超える場合は、暖房時の熱源機の出口における空気温度の最高値$\\theta_{hs,out,max,H,d,t}$に等しいとし、冷房期においては、冷房時の熱源機の出口における空気温度の最低値$\\theta_{hs,out,min,C,d,t}$を下回る場合は、冷房時の熱源機の出口における空気温度の最低値$\\theta_{hs,out,min,C,d,t}$に等しいとする。"
   ]
  },
  {
   "cell_type": "markdown",
   "metadata": {},
   "source": [
    "VAVの機構を有さない場合："
   ]
  },
  {
   "cell_type": "markdown",
   "metadata": {},
   "source": [
    "暖房期："
   ]
  },
  {
   "cell_type": "markdown",
   "metadata": {},
   "source": [
    "$$\\large\n",
    "\\theta_{hs,out,d,t}=\\left\\{ \\begin{array}{ll}\n",
    "    \\frac{\\sum^5_{i=1}(\\theta_{req,d,t,i}V'_{supply,d,t,i})}{\\sum^5_{i=1}V'_{supply,d,t,i}} &(\\sum^5_{i=1}L^*_{H,d,t,i}>0)\\\\ \n",
    "    \\theta_{NR,d,t} &(\\sum^5_{i=1}L^*_{H,d,t,i} \\leq 0)\\\\ \n",
    "    \\end{array}\n",
    "\\right.\n",
    "$$"
   ]
  },
  {
   "cell_type": "markdown",
   "metadata": {},
   "source": [
    "冷房期："
   ]
  },
  {
   "cell_type": "markdown",
   "metadata": {},
   "source": [
    "$$\\large\n",
    "\\theta_{hs,out,d,t}=\\left\\{ \\begin{array}{ll}\n",
    "    \\frac{\\sum^5_{i=1}(\\theta_{req,d,t,i}V'_{supply,d,t,i})}{\\sum^5_{i=1}V'_{supply,d,t,i}} &(\\sum^5_{i=1}L^*_{CS,d,t,i}>0)\\\\ \n",
    "    \\theta_{NR,d,t} &(\\sum^5_{i=1}L^*_{CS,d,t,i} \\leq 0)\\\\ \n",
    "    \\end{array}\n",
    "\\right.\n",
    "$$"
   ]
  },
  {
   "cell_type": "markdown",
   "metadata": {},
   "source": [
    "中間期："
   ]
  },
  {
   "cell_type": "markdown",
   "metadata": {},
   "source": [
    "$$\\large\n",
    "\\theta_{hs,out,d,t}=\\theta_{NR,d,t}\n",
    "$$"
   ]
  },
  {
   "cell_type": "markdown",
   "metadata": {},
   "source": [
    "VAVの機構を有する場合："
   ]
  },
  {
   "cell_type": "markdown",
   "metadata": {},
   "source": [
    "暖房期："
   ]
  },
  {
   "cell_type": "markdown",
   "metadata": {},
   "source": [
    "$$\\large\n",
    "\\theta_{hs,out,d,t}=\\left\\{ \\begin{array}{ll}\n",
    "    max\\{\\theta_{req,d,t,i}|i=1,5\\} &(\\sum^5_{i=1}L^*_{H,d,t,i}>0)\\\\ \n",
    "    \\theta_{NR,d,t} &(\\sum^5_{i=1}L^*_{H,d,t,i} \\leq 0)\\\\ \n",
    "    \\end{array}\n",
    "\\right.\n",
    "$$"
   ]
  },
  {
   "cell_type": "markdown",
   "metadata": {},
   "source": [
    "冷房期："
   ]
  },
  {
   "cell_type": "markdown",
   "metadata": {},
   "source": [
    "$$\\large\n",
    "\\theta_{hs,out,d,t}=\\left\\{ \\begin{array}{ll}\n",
    "    min\\{\\theta_{req,d,t,i}|i=1,5\\} &(\\sum^5_{i=1}L^*_{CS,d,t,i}>0)\\\\ \n",
    "    \\theta_{NR,d,t} &(\\sum^5_{i=1}L^*_{CS,d,t,i} \\leq 0)\\\\ \n",
    "    \\end{array}\n",
    "\\right.\n",
    "$$"
   ]
  },
  {
   "cell_type": "markdown",
   "metadata": {},
   "source": [
    "中間期："
   ]
  },
  {
   "cell_type": "markdown",
   "metadata": {},
   "source": [
    "$$\\large\n",
    "\\theta_{hs,out,d,t}=\\theta_{NR,d,t}\n",
    "$$"
   ]
  },
  {
   "cell_type": "markdown",
   "metadata": {},
   "source": [
    "$V'_{supply,d,t,i}$：日付$d$の時刻$t$における暖冷房区画$i$のVAV調整前の吹き出し風量($m^3$/h)  \n",
    "$\\theta_{hs,out,d,t}$：日付$d$の時刻$t$における熱源機の出口における空気温度(℃)  \n",
    "$\\theta_{hs,out,min,C,d,t}$：日付$d$の時刻$t$における冷房時の熱源機の出口における空気温度の最低値(℃)  \n",
    "$\\theta_{hs,out,max,H,d,t}$：日付$d$の時刻$t$における暖房時の熱源機の出口における空気温度の最高値(℃)  \n",
    "$X_{NR,d,t}$：日付$d$の時刻$t$における非居室の絶対湿度(kg/kg(DA))  \n",
    "$\\theta_{req,d,t,i}$：日付$d$の時刻$t$における暖冷房区画$i$の熱源機の出口における要求空気温度(℃)  \n"
   ]
  },
  {
   "cell_type": "code",
   "execution_count": 16,
   "metadata": {},
   "outputs": [],
   "source": [
    "def get_Theta_hs_out_d_t(VAV, Theta_req_d_t_i, V_dash_supply_d_t_i, L_star_H_d_t_i, L_star_CS_d_t_i, region, Theta_NR_d_t,\n",
    "                         Theta_hs_out_max_H_d_t, Theta_hs_out_min_C_d_t):\n",
    "    \"\"\"(14-1)(14-2)(14-3)(14-4)(14-5)(14-6)\n",
    "\n",
    "    :param VAV:VAV有無\n",
    "    :param Theta_req_d_t_i:日付dの時刻tにおける暖冷房区画iの熱源機の出口における要求空気温度（℃）\n",
    "    :param V_dash_supply_d_t_i:日付dの時刻tにおける暖冷房区画iのVAV調整前の吹き出し風量（m3/h）\n",
    "    :param L_star_H_d_t_i:日付dの時刻tにおける暖冷房区画iの1時間当たりの熱損失を含む負荷バランス時の暖房負荷（MJ/h）\n",
    "    :param L_star_CS_d_t_i:日付dの時刻tにおける暖冷房区画iの1時間当たりの熱損失を含む負荷バランス時の冷房負荷（MJ/h）\n",
    "    :param region:地域区分\n",
    "    :param Theta_NR_d_t:日付dの時刻tにおける非居室の室温(℃)\n",
    "    \"\"\"\n",
    "    H, C, M = get_season_array_d_t(region)\n",
    "    Theta_hs_out_d_t = np.zeros(24 * 365)\n",
    "\n",
    "    f1 = np.logical_and(H, np.sum(L_star_H_d_t_i[:5], axis=0) > 0)\n",
    "    f2 = np.logical_and(H, np.sum(L_star_H_d_t_i[:5], axis=0) <= 0)\n",
    "    f3 = np.logical_and(C, np.sum(L_star_CS_d_t_i[:5], axis=0) > 0)\n",
    "    f4 = np.logical_and(C, np.sum(L_star_CS_d_t_i[:5], axis=0) <= 0)\n",
    "\n",
    "    if VAV == False:\n",
    "        # 暖房期および冷房期 (14-1)\n",
    "        Theta_hs_out_d_t[f1] = np.sum(Theta_req_d_t_i[:5, f1] * V_dash_supply_d_t_i[:5, f1], axis=0) / \\\n",
    "                                       np.sum(V_dash_supply_d_t_i[:5, f1], axis=0)\n",
    "\n",
    "        Theta_hs_out_d_t[f2] = Theta_NR_d_t[f2]\n",
    "\n",
    "        # 熱源機の出口における空気温度θ_(hs,out,d,t)は、暖房期においては、暖房時の熱源機の出口における\n",
    "        # 空気温度の最高値θ_(hs,out,max,H,d,t)を超える場合は、暖房時の熱源機の出口における空気温度の最高値θ_(hs,out,max,H,d,t)に等しい\n",
    "        Theta_hs_out_d_t[H] = np.clip(Theta_hs_out_d_t[H], None, Theta_hs_out_max_H_d_t[H])\n",
    "\n",
    "        # 冷房期 (14-2)\n",
    "        Theta_hs_out_d_t[f3] = np.sum(Theta_req_d_t_i[:5, f3] * V_dash_supply_d_t_i[:5, f3], axis=0) / \\\n",
    "                               np.sum(V_dash_supply_d_t_i[:5, f3], axis=0)\n",
    "\n",
    "        Theta_hs_out_d_t[f4] = Theta_NR_d_t[f4]\n",
    "\n",
    "        # 冷房期においては、冷房時の熱源機の出口における空気温度の最低値θ_(hs,out,min,C,d,t)を下回る場合は、\n",
    "        # 冷房時の熱源機の出口における空気温度の最低値θ_(hs,out,min,C,d,t)に等しい\n",
    "        Theta_hs_out_d_t[C] = np.clip(Theta_hs_out_d_t[C], Theta_hs_out_min_C_d_t[C], None)\n",
    "\n",
    "        # 中間期 (14-3)\n",
    "        Theta_hs_out_d_t[M] = Theta_NR_d_t[M]\n",
    "    else:\n",
    "        # 暖房期 (14-4)\n",
    "        Theta_hs_out_d_t[f1] = np.amax(Theta_req_d_t_i[:5, f1], axis=0)\n",
    "\n",
    "        Theta_hs_out_d_t[f2] = Theta_NR_d_t[f2]\n",
    "\n",
    "        # 熱源機の出口における空気温度θ_(hs,out,d,t)は、暖房期においては、暖房時の熱源機の出口における\n",
    "        # 空気温度の最高値θ_(hs,out,max,H,d,t)を超える場合は、暖房時の熱源機の出口における空気温度の最高値θ_(hs,out,max,H,d,t)に等しい\n",
    "        Theta_hs_out_d_t[H] = np.clip(Theta_hs_out_d_t[H], None, Theta_hs_out_max_H_d_t[H])\n",
    "\n",
    "        # 冷房期 (14-5)\n",
    "        Theta_hs_out_d_t[f3] = np.amin(Theta_req_d_t_i[:5, f3], axis=0)\n",
    "\n",
    "        Theta_hs_out_d_t[f4] = Theta_NR_d_t[f4]\n",
    "\n",
    "        # 冷房期においては、冷房時の熱源機の出口における空気温度の最低値θ_(hs,out,min,C,d,t)を下回る場合は、\n",
    "        # 冷房時の熱源機の出口における空気温度の最低値θ_(hs,out,min,C,d,t)に等しい\n",
    "        Theta_hs_out_d_t[C] = np.clip(Theta_hs_out_d_t[C], Theta_hs_out_min_C_d_t[C], None)\n",
    "\n",
    "        # 中間期 (14-6)\n",
    "        Theta_hs_out_d_t[M] = Theta_NR_d_t[M]\n",
    "\n",
    "    return Theta_hs_out_d_t"
   ]
  },
  {
   "cell_type": "markdown",
   "metadata": {},
   "source": [
    "熱源機の出口における絶対湿度$X_{hs,out,d,t}$は、冷房時の熱源機の出口における空気温度の最低値$X_{hs,out,min,C,d,t}$を下回る場合は、冷房時の熱源機の出口における空気温度の最低値$X_{hs,out,min,C,d,t}$に等しいとする。"
   ]
  },
  {
   "cell_type": "markdown",
   "metadata": {},
   "source": [
    "暖房期："
   ]
  },
  {
   "cell_type": "markdown",
   "metadata": {},
   "source": [
    "$$\\large\n",
    "X_{hs,out,d,t}=X_{NR,d,t}\n",
    "$$"
   ]
  },
  {
   "cell_type": "markdown",
   "metadata": {},
   "source": [
    "冷房期："
   ]
  },
  {
   "cell_type": "markdown",
   "metadata": {},
   "source": [
    "$$\\large\n",
    "X_{hs,out,d,t}=\\left\\{ \\begin{array}{ll}\n",
    "    \\frac{\\sum^5_{i=1}(X_{req,d,t,i}V'_{supply,d,t,i})}{\\sum^5_{i=1}V'_{supply,d,t,i}} &(\\sum^5_{i=1}L^*_{CS,d,t,i}>0)\\\\ \n",
    "    X_{NR,d,t} &(\\sum^5_{i=1}L^*_{CS,d,t,i} \\leq 0)\\\\ \n",
    "    \\end{array}\n",
    "\\right.\n",
    "$$"
   ]
  },
  {
   "cell_type": "markdown",
   "metadata": {},
   "source": [
    "中間期："
   ]
  },
  {
   "cell_type": "markdown",
   "metadata": {},
   "source": [
    "$$\\large\n",
    "X_{hs,out,d,t}=X_{NR,d,t}\n",
    "$$"
   ]
  },
  {
   "cell_type": "markdown",
   "metadata": {},
   "source": [
    "$V'_{supply,d,t,i}$：日付$d$の時刻$t$における暖冷房区画$i$のVAV調整前の吹き出し風量($m^3$/h)  \n",
    "$X_{hs,out,d,t}$：日付$d$の時刻$t$における熱源機の出口における絶対湿度(kg/kg(DA))  \n",
    "$X_{hs,out,min,C,d,t}$：日付$d$の時刻$t$における冷房時の熱源機の出口における絶対湿度の最低値(kg/kg(DA))  \n",
    "$X_{NR,d,t}$：日付$d$の時刻$t$における非居室の絶対湿度(kg/kg(DA))  \n",
    "$X_{req,d,t,i}$：日付$d$の時刻$t$における暖冷房区画$i$の熱源機の出口における要求空気湿度(kg/kg(DA))  \n"
   ]
  },
  {
   "cell_type": "code",
   "execution_count": 17,
   "metadata": {},
   "outputs": [],
   "source": [
    "def get_X_hs_out_d_t(X_NR_d_t, X_req_d_t_i, V_dash_supply_d_t_i, X_hs_out_min_C_d_t, L_star_CL_d_t_i, region):\n",
    "    \"\"\"(15-1)(15-2)\n",
    "\n",
    "    :param X_NR_d_t:日付dの時刻tにおける非居室の絶対湿度（kg/kg(DA)）\n",
    "    :param X_req_d_t_i:日付dの時刻tにおける暖冷房区画iの熱源機の出口における要求絶対湿度（kg/kg(DA)）\n",
    "    :param V_dash_supply_d_t_i:日付dの時刻tにおける暖冷房区画iのVAV調整前の吹き出し風量（m3/h）\n",
    "    :param X_hs_out_min_C_d_t:日付dの時刻tにおける冷房時の熱源機の出口における絶対湿度の最低値（kg/kg(DA)）\n",
    "    :param L_star_CL_d_t_i:\n",
    "    :param region:地域区分\n",
    "    :return:日付dの時刻tにおける熱源機の出口における絶対湿度（kg/kg(DA)）\n",
    "    \"\"\"\n",
    "    H, C, M = get_season_array_d_t(region)\n",
    "    X_hs_out_d_t = np.zeros(24 * 365)\n",
    "\n",
    "    # 暖房期および中間期 (15-1)\n",
    "    HM = np.logical_or(H, M)\n",
    "    X_hs_out_d_t[HM] = X_NR_d_t[HM]\n",
    "\n",
    "    # 冷房期 (15-2)\n",
    "    f1 = np.logical_and(C, np.sum(L_star_CL_d_t_i[:5], axis=0) > 0)\n",
    "    f2 = np.logical_and(C, np.sum(L_star_CL_d_t_i[:5], axis=0) <= 0)\n",
    "\n",
    "    X_hs_out_d_t[f1] = np.sum(X_req_d_t_i[:5, f1] * V_dash_supply_d_t_i[:5, f1], axis=0) / \\\n",
    "                        np.sum(V_dash_supply_d_t_i[:5, f1], axis=0)\n",
    "\n",
    "    X_hs_out_d_t[f2] = X_NR_d_t[f2]\n",
    "\n",
    "    X_hs_out_d_t = np.clip(X_hs_out_d_t, X_hs_out_min_C_d_t, None)\n",
    "\n",
    "    return X_hs_out_d_t"
   ]
  },
  {
   "cell_type": "markdown",
   "metadata": {},
   "source": [
    "#### 9.3 最大出力時の熱源機の出口における空気温度・絶対湿度"
   ]
  },
  {
   "cell_type": "markdown",
   "metadata": {},
   "source": [
    "$$\\large\n",
    "\\theta_{hs,out,max,H,d,t} = min \\left(\\theta^*_{hs,in,d,t} + \\frac{Q_{hs,max,H,d,t} \\times 10^6}{c_{p_{air}}\\rho_{air}\\sum^5_{i=1}V'_{supply,d,t,i}},45 \\right)\n",
    "$$\n",
    "\n",
    "$$\\large\n",
    "\\theta_{hs,out,min,C,d,t} = max \\left(\\theta^*_{hs,in,d,t} - \\frac{Q_{hs,max,CS,d,t} \\times 10^6}{c_{p_{air}}\\rho_{air}\\sum^5_{i=1}V'_{supply,d,t,i}},15 \\right)\n",
    "$$"
   ]
  },
  {
   "cell_type": "markdown",
   "metadata": {},
   "source": [
    "$V'_{supply,d,t,i}$：日付$d$の時刻$t$における暖冷房区画$i$のVAV調整前の吹き出し風量($m^3$/h)  \n",
    "$Q_{hs,max,CS,d,t}$：日付$d$の時刻$t$における1 時間当たりの熱源機の最大冷房顕熱出力(MJ/h)  \n",
    "$Q_{hs,max,H,d,t}$：日付$d$の時刻$t$における1 時間当たりの熱源機の最大暖房出力(MJ/h)  \n",
    "$\\theta_{hs,out,min,C,d,t}$：日付$d$の時刻$t$における冷房時の熱源機の出口における空気温度の最低値(℃)  \n",
    "$\\theta_{hs,out,max,H,d,t}$：日付$d$の時刻$t$における暖房時の熱源機の出口における空気温度の最高値(℃)  \n",
    "$\\theta^*_{hs,in,d,t}$：日付$d$の時刻$t$における負荷バランス時の熱源機の入口における空気温度(℃)  \n",
    "$c_{p_{air}}$：空気の比熱(J/(kg・K))  \n",
    "$\\rho_{air}$：空気の密度(kg/$m^3$)  "
   ]
  },
  {
   "cell_type": "code",
   "execution_count": 18,
   "metadata": {},
   "outputs": [],
   "source": [
    "def get_Theta_hs_out_max_H_d_t(Theta_star_hs_in_d_t, Q_hs_max_H_d_t, V_dash_supply_d_t_i):\n",
    "    \"\"\"(16)\n",
    "\n",
    "    :param Theta_star_hs_in_d_t:日付dの時刻tにおける負荷バランス時の熱源機の入口における空気温度（℃）\n",
    "    :param Q_hs_max_H_d_t:日付dの時刻tにおける1時間当たりの熱源機の最大暖房出力（MJ/h）\n",
    "    :param V_dash_supply_d_t_i:日付dの時刻tにおける暖冷房区画iのVAV調整前の吹き出し風量（m3/h）\n",
    "    :return:日付dの時刻tにおける暖房時の熱源機の出口における空気温度の最高値（℃）\n",
    "    \"\"\"\n",
    "    c_p_air = get_c_p_air()\n",
    "    rho_air = get_rho_air()\n",
    "    return np.clip(Theta_star_hs_in_d_t + ((Q_hs_max_H_d_t * 10 ** 6) / \\\n",
    "                                           (c_p_air * rho_air * np.sum(V_dash_supply_d_t_i[:5, :], axis=0))), None, 45)\n",
    "\n",
    "def get_Theta_hs_out_min_C_d_t(Theta_star_hs_in_d_t, Q_hs_max_CS_d_t, V_dash_supply_d_t_i):\n",
    "    \"\"\"(17)\n",
    "\n",
    "    :param Theta_star_hs_in_d_t:日付dの時刻tにおける負荷バランス時の熱源機の入口における空気温度（℃）\n",
    "    :param Q_hs_max_CS_d_t:日付dの時刻tにおける1時間当たりの熱源機の最大冷房顕熱出力（MJ/h）\n",
    "    :param V_dash_supply_d_t_i:日付dの時刻tにおける暖冷房区画iのVAV調整前の吹き出し風量（m3/h）\n",
    "    :return:日付dの時刻tにおける冷房時の熱源機の出口における空気温度の最低値（℃）\n",
    "    \"\"\"\n",
    "    c_p_air = get_c_p_air()\n",
    "    rho_air = get_rho_air()\n",
    "    return np.clip(Theta_star_hs_in_d_t - ((Q_hs_max_CS_d_t * 10 ** 6) / \\\n",
    "                                           (c_p_air * rho_air * np.sum(V_dash_supply_d_t_i[:5, :], axis=0))), 15, None)"
   ]
  },
  {
   "cell_type": "markdown",
   "metadata": {},
   "source": [
    "$$\\large\n",
    "X_{hs,out,min,C,d,t} = X^*_{hs,in,d,t} - \\frac{Q_{hs,max,CL,d,t} \\times 10^3}{\\rho_{air}L_{wtr}\\sum^5_{i=1}V'_{supply,d,t,i}}\n",
    "$$"
   ]
  },
  {
   "cell_type": "markdown",
   "metadata": {},
   "source": [
    "$V'_{supply,d,t,i}$：日付$d$の時刻$t$における暖冷房区画$i$のVAV調整前の吹き出し風量($m^3$/h)  \n",
    "$Q_{hs,max,CL,d,t}$：日付$d$の時刻$t$における1 時間当たりの熱源機の最大冷房潜熱出力(MJ/h)  \n",
    "$X_{hs,out,min,C,d,t}$：日付$d$の時刻$t$における冷房時の熱源機の出口における空気温度の最低値(℃)  \n",
    "$X^*_{hs,in,d,t}$：日付$d$の時刻$t$における負荷バランス時の熱源機の入口における絶対湿度(kg/kg(DA))  \n",
    "$L_{wtr}$：水の蒸発潜熱(kJ/kg)  \n",
    "$\\rho_{air}$：空気の密度(kg/$m^3$)  "
   ]
  },
  {
   "cell_type": "code",
   "execution_count": 19,
   "metadata": {},
   "outputs": [],
   "source": [
    "def get_X_hs_out_min_C_d_t(X_star_hs_in_d_t, Q_hs_max_CL_d_t, V_dash_supply_d_t_i):\n",
    "    \"\"\"(18)\n",
    "\n",
    "    :param X_star_hs_in_d_t:日付dの時刻tにおける負荷バランス時の熱源機の入口における絶対湿度（kg/kg(DA)）\n",
    "    :param Q_hs_max_CL_d_t:日付dの時刻tにおける1時間当たりの熱源機の最大冷房潜熱出力（MJ/h）\n",
    "    :param V_dash_supply_d_t_i:日付dの時刻tにおける暖冷房区画iのVAV調整前の吹き出し風量（m3/h）\n",
    "    :return:日付dの時刻tにおける冷房時の熱源機の出口における空気温度の最低値（℃）\n",
    "    \"\"\"\n",
    "    rho_air = get_rho_air()\n",
    "    L_wtr = get_L_wtr()\n",
    "    return X_star_hs_in_d_t - ((Q_hs_max_CL_d_t * 10 ** 3) / (rho_air * L_wtr * np.sum(V_dash_supply_d_t_i[:5, :], axis=0)))"
   ]
  },
  {
   "cell_type": "markdown",
   "metadata": {},
   "source": [
    "$$\\large\n",
    "\\theta^*_{hs,in,d,t} = \\theta^*_{NR,d,t}\n",
    "$$\n",
    "\n",
    "$$\\large\n",
    "X^*_{hs,in,d,t} = X^*_{NR,d,t}\n",
    "$$"
   ]
  },
  {
   "cell_type": "markdown",
   "metadata": {},
   "source": [
    "$X^*_{hs,in,d,t}$：日付$d$の時刻$t$における負荷バランス時の熱源機の入口における絶対湿度(kg/kg(DA))  \n",
    "$X^*_{NR,d,t}$：日付$d$の時刻$t$における負荷バランス時の非居室の絶対湿度(kg/kg(DA))  \n",
    "$\\theta^*_{hs,in,d,t}$：日付$d$の時刻$t$における負荷バランス時の熱源機の入口における空気温度(℃)  \n",
    "$\\theta^*_{NR,d,t}$：日付$d$の時刻$t$における負荷バランス時の非居室の室温(℃)  \n"
   ]
  },
  {
   "cell_type": "code",
   "execution_count": 20,
   "metadata": {},
   "outputs": [],
   "source": [
    "def get_Theta_star_hs_in_d_t(Theta_star_NR_d_t):\n",
    "    \"\"\"(19)\n",
    "\n",
    "    :param Theta_star_NR_d_t:日付dの時刻tにおける負荷バランス時の非居室の室温（℃）\n",
    "    :return:日付dの時刻tにおける負荷バランス時の熱源機の入口における空気温度（℃）\n",
    "    \"\"\"\n",
    "    return Theta_star_NR_d_t\n",
    "\n",
    "\n",
    "def get_X_star_hs_in_d_t(X_star_NR_d_t):\n",
    "    \"\"\"(20)\n",
    "\n",
    "    :param X_star_NR_d_t:日付dの時刻tにおける負荷バランス時の非居室の絶対湿度（kg/kg(DA)）\n",
    "    :return:日付dの時刻tにおける負荷バランス時の熱源機の入口における絶対湿度（kg/kg(DA)）\n",
    "    \"\"\"\n",
    "    return X_star_NR_d_t"
   ]
  },
  {
   "cell_type": "markdown",
   "metadata": {},
   "source": [
    "#### 9.4 熱源機の出口における要求空気温度・絶対湿度"
   ]
  },
  {
   "cell_type": "markdown",
   "metadata": {},
   "source": [
    "暖冷房区画𝑖の熱源機の出口における要求空気温度$\\theta_{req,d,t,i}$は、暖房期においては負荷バランス時の居室の室温$\\theta^*_{HBR,d,t}$を下回る場合は、負荷バランス時の居室の室温$\\theta^*_{HBR,d,t}$に等しいとし、また、冷房期においては負荷バランス時の居室の室温$\\theta^*_{HBR,d,t}$を上回る場合は、負荷バランス時の居室の室温$\\theta^*_{HBR,d,t}$に等しいとする。"
   ]
  },
  {
   "cell_type": "markdown",
   "metadata": {},
   "source": [
    "暖房期："
   ]
  },
  {
   "cell_type": "markdown",
   "metadata": {},
   "source": [
    "$$\\large\n",
    "\\theta_{req,d,t,i}=\\theta_{sur,d,t,i}+ \\left( \\theta^*_{HBR,d,t} + \\frac{L^*_{H,d,t,i} \\times 10^6}{c_{p_{air}}\\rho_{air}V'_{supply,d,t,i}} - \\theta_{sur,d,t,i} \\right) \\times e^{ \\frac{\\psi_{i}l_{duct,i}\\times 3600}{c_{p_{air}}\\rho_{air}V'_{supply,d,t,i}} }\n",
    "$$"
   ]
  },
  {
   "cell_type": "markdown",
   "metadata": {},
   "source": [
    "冷房期："
   ]
  },
  {
   "cell_type": "markdown",
   "metadata": {},
   "source": [
    "$$\\large\n",
    "\\theta_{req,d,t,i}=\\theta_{sur,d,t,i}- \\left( \\theta_{sur,d,t,i} - \\theta^*_{HBR,d,t} + \\frac{L^*_{CS,d,t,i} \\times 10^6}{c_{p_{air}}\\rho_{air}V'_{supply,d,t,i}} \\right) \\times e^{ \\frac{\\psi_{i}l_{duct,i}\\times 3600}{c_{p_{air}}\\rho_{air}V'_{supply,d,t,i}} }\n",
    "$$"
   ]
  },
  {
   "cell_type": "markdown",
   "metadata": {},
   "source": [
    "中間期："
   ]
  },
  {
   "cell_type": "markdown",
   "metadata": {},
   "source": [
    "$$\\large\n",
    "\\theta_{req,d,t,i}=\\theta^*_{HBR,d,t}\n",
    "$$"
   ]
  },
  {
   "cell_type": "markdown",
   "metadata": {},
   "source": [
    "$L^*_{CS,d,t,i}$：日付$d$の時刻$t$における暖冷房区画$i$の1時間当たりの熱取得を含む負荷バランス時の冷房顕熱負荷(MJ/h)  \n",
    "$L^*_{H,d,t,i}$：日付$d$の時刻$t$における暖冷房区画$i$の1時間当たりの熱損失を含む負荷バランス時の暖房負荷(MJ/h)  \n",
    "$l_{duct,i}$：ダクト$i$の長さ(m)  \n",
    "$V'_{supply,d,t,i}$：日付$d$の時刻$t$における暖冷房区画$i$のVAV調整前の吹き出し風量($m^3$/h)  \n",
    "$\\theta_{req,d,t,i}$：日付$d$の時刻$t$における暖冷房区画$i$の熱源機の出口における要求空気温度(℃)  \n",
    "$\\theta_{sur,d,t,i}$：日付$d$の時刻$t$におけるダクト$i$の周囲の空気温度(℃)  \n",
    "$\\theta^*_{HBR,d,t}$：日付$d$の時刻$t$における負荷バランス時の居室の室温(℃)  \n",
    "$\\psi_{i}$：ダクト$i$の線熱損失係数(W/(m・K))  \n",
    "$c_{p_{air}}$：空気の比熱(J/(kg・K))  \n",
    "$\\rho_{air}$：空気の密度(kg/$m^3$)  "
   ]
  },
  {
   "cell_type": "code",
   "execution_count": 21,
   "metadata": {},
   "outputs": [],
   "source": [
    "def get_Theta_req_d_t_i(Theta_sur_d_t_i, Theta_star_HBR_d_t, V_dash_supply_d_t_i, L_star_H_d_t_i, L_star_CS_d_t_i,\n",
    "                        l_duct_i, region):\n",
    "    \"\"\"(21-1)(21-2)(21-3)\n",
    "\n",
    "    :param Theta_sur_d_t_i:日付dの時刻tにおける負荷バランス時の居室の室温（℃）\n",
    "    :param Theta_star_HBR_d_t:日付dの時刻tにおける負荷バランス時の居室の室温（℃）\n",
    "    :param V_dash_supply_d_t_i:日付dの時刻tにおける暖冷房区画iのVAV調整前の吹き出し風量（m3/h）\n",
    "    :param L_star_H_d_t_i:日付dの時刻tにおける暖冷房区画iの1時間当たりの熱損失を含む負荷バランス時の暖房負荷（MJ/h）\n",
    "    :param L_star_CS_d_t_i:日付dの時刻tにおける暖冷房区画iの1時間当たりの熱取得を含む負荷バランス時の冷房顕熱負荷（MJ/h）\n",
    "    :param l_duct_i:ダクトの長さ（m）\n",
    "    :param region:地域区分\n",
    "    :return:日付dの時刻tにおける暖冷房区画iの熱源機の出口における要求空気温度（℃）\n",
    "    \"\"\"\n",
    "    c_p_air = get_c_p_air()\n",
    "    rho_air = get_rho_air()\n",
    "    # ダクトiの線熱損失係数（W/(m・K)）\n",
    "    phi_i = get_phi_i()\n",
    "    H, C, M = get_season_array_d_t(region)\n",
    "\n",
    "    Theta_req_d_t_i = np.zeros((5, 24 * 365))\n",
    "\n",
    "    e_exp_H = (phi_i[:, np.newaxis] * l_duct_i[:, np.newaxis] * 3600) / (c_p_air * rho_air * V_dash_supply_d_t_i[:, H])\n",
    "\n",
    "    # 暖房期 (21-1)\n",
    "    Theta_req_d_t_i[:, H] = Theta_sur_d_t_i[:, H] \\\n",
    "                           + (Theta_star_HBR_d_t[H] + (L_star_H_d_t_i[:, H] * 10 ** 6) \\\n",
    "                           / (c_p_air * rho_air * V_dash_supply_d_t_i[:, H]) - Theta_sur_d_t_i[:, H]) \\\n",
    "                           * np.exp(e_exp_H)\n",
    "\n",
    "    # 暖冷房区画iの熱源機の出口における要求空気温度が負荷バランス時の居室の室温を下回る場合\n",
    "    Theta_req_d_t_i[:, H] = np.clip(Theta_req_d_t_i[:, H], Theta_star_HBR_d_t[H], None)\n",
    "\n",
    "    # 冷房期 (21-2)\n",
    "    e_exp_C = (phi_i[:, np.newaxis] * l_duct_i[:, np.newaxis] * 3600) / (c_p_air * rho_air * V_dash_supply_d_t_i[:, C])\n",
    "    Theta_req_d_t_i[:, C] = Theta_sur_d_t_i[:, C] \\\n",
    "                            - (Theta_sur_d_t_i[:, C] - Theta_star_HBR_d_t[C] + (L_star_CS_d_t_i[:, C] * 10 ** 6) \\\n",
    "                            / (c_p_air * rho_air * V_dash_supply_d_t_i[:, C])) \\\n",
    "                            * np.exp(e_exp_C)\n",
    "\n",
    "    # 暖冷房区画iの熱源機の出口における要求空気温度が負荷バランス時の居室の室温を上回る場合\n",
    "    Theta_req_d_t_i[:, C] = np.clip(Theta_req_d_t_i[:, C], None, Theta_star_HBR_d_t[C])\n",
    "\n",
    "    #中間期 (10-3)\n",
    "    Theta_req_d_t_i[:, M] = Theta_star_HBR_d_t[M]\n",
    "\n",
    "    return Theta_req_d_t_i"
   ]
  },
  {
   "cell_type": "markdown",
   "metadata": {},
   "source": [
    "暖房期："
   ]
  },
  {
   "cell_type": "markdown",
   "metadata": {},
   "source": [
    "$$\\large\n",
    "X_{req,d,t,i}=X^*_{HBR,d,t}\n",
    "$$"
   ]
  },
  {
   "cell_type": "markdown",
   "metadata": {},
   "source": [
    "冷房期："
   ]
  },
  {
   "cell_type": "markdown",
   "metadata": {},
   "source": [
    "$$\\large\n",
    "X_{req,d,t,i}=X^*_{HBR,d,t} - \\frac{L^*_{CL,d,t,i}\\times10^3}{\\rho_{air}L_{wtr}V'_{supply,d,t,i}}\n",
    "$$"
   ]
  },
  {
   "cell_type": "markdown",
   "metadata": {},
   "source": [
    "中間期："
   ]
  },
  {
   "cell_type": "markdown",
   "metadata": {},
   "source": [
    "$$\\large\n",
    "X_{req,d,t,i}=X^*_{HBR,d,t}\n",
    "$$"
   ]
  },
  {
   "cell_type": "markdown",
   "metadata": {},
   "source": [
    "$L^*_{CL,d,t,i}$：日付$d$の時刻$t$における暖冷房区画$i$の1時間当たりの熱取得を含む負荷バランス時の冷房潜熱負荷(MJ/h)  \n",
    "$V'_{supply,d,t,i}$：日付$d$の時刻$t$における暖冷房区画$i$のVAV調整前の吹き出し風量($m^3$/h)  \n",
    "$X^*_{HBR,d,t}$：日付$d$の時刻$t$における負荷バランス時の居室の絶対湿度(kg/kg(DA))  \n",
    "$X_{req,d,t,i}$：日付$d$の時刻$t$における暖冷房区画$i$の熱源機の出口における要求絶対湿度(kg/kg(DA))  \n",
    "$L_{wtr}$：水の蒸発潜熱(kJ/kg)  \n",
    "$\\rho_{air}$：空気の密度(kg/$m^3$)  "
   ]
  },
  {
   "cell_type": "code",
   "execution_count": 22,
   "metadata": {},
   "outputs": [],
   "source": [
    "def get_X_req_d_t_i(X_star_HBR_d_t, L_star_CL_d_t_i, V_dash_supply_d_t_i, region):\n",
    "    \"\"\"(22-1)(22-2)\n",
    "\n",
    "    :param X_star_HBR_d_t:日付dの時刻tにおける負荷バランス時の居室の絶対湿度（kg/kg(DA)）\n",
    "    :param L_star_CL_d_t_i:日付dの時刻tにおける暖冷房区画iの1時間当たりの熱取得を含む負荷バランス時の冷房潜熱負荷（MJ/h）\n",
    "    :param V_dash_supply_d_t_i:日付dの時刻tにおける暖冷房区画iのVAV調整前の吹き出し風量（m3/h）\n",
    "    :param region:地域区分\n",
    "    :return:日付dの時刻tにおける暖冷房区画iの熱源機の出口における要求絶対湿度（kg/kg(DA)）\n",
    "    \"\"\"\n",
    "    rho_air = get_rho_air()\n",
    "    L_wtr = get_L_wtr()\n",
    "    H, C, M = get_season_array_d_t(region)\n",
    "\n",
    "    # 暖房期および中間期 (22-1)\n",
    "    HM = np.logical_or(H, M)\n",
    "\n",
    "    X_req_d_t_i = np.zeros((5, 24 * 365))\n",
    "\n",
    "    X_req_d_t_i[:, HM] = X_star_HBR_d_t[HM]\n",
    "\n",
    "    # 冷房期 (22-2)\n",
    "    X_req_d_t_i[:, C] = X_star_HBR_d_t[C] - (L_star_CL_d_t_i[:, C] * 10 ** 3) / (rho_air * L_wtr * V_dash_supply_d_t_i[:, C])\n",
    "\n",
    "    return X_req_d_t_i"
   ]
  },
  {
   "cell_type": "markdown",
   "metadata": {},
   "source": [
    "#### 9.5 熱源機の最大出力"
   ]
  },
  {
   "cell_type": "markdown",
   "metadata": {},
   "source": [
    "#### 9.5.1 熱源機の最大暖房出力"
   ]
  },
  {
   "cell_type": "markdown",
   "metadata": {},
   "source": [
    "$$\\large\n",
    "Q_{hs,max,H,d,t}=q_{hs,rtd,H} \\times \\alpha_{max,H}\\times C_{df,H,d,t} \\times 3600 \\times 10^{-6}\n",
    "$$"
   ]
  },
  {
   "cell_type": "markdown",
   "metadata": {},
   "source": [
    "$C_{df,H,d,t}$：日付$d$の時刻$t$におけるデフロストに関する暖房出力補正係数(-)  \n",
    "$Q_{hs,max,H,d,t}$：日付$d$の時刻$t$における 1 時間当たりの熱源機の最大暖房出力(MJ/h)  \n",
    "$q_{hs,rtd,H}$：熱源機の定格暖房能力(W)  \n",
    "$\\alpha_{max,H}$：定格暖房能力に対する最大暖房能力の比(-)  \n"
   ]
  },
  {
   "cell_type": "code",
   "execution_count": 23,
   "metadata": {},
   "outputs": [],
   "source": [
    "def get_Q_hs_max_H_d_t(q_hs_rtd_H, C_df_H_d_t):\n",
    "    \"\"\"(23)\n",
    "\n",
    "    :param q_hs_rtd_H: 熱源機の定格暖房能力 (W)\n",
    "    :param C_df_H_d_t: 日付dの時刻tにおけるデフロストに関する暖房出力補正係数（-）\n",
    "    :return: 熱源機の最大暖房出力 (MJ/h)\n",
    "    \"\"\"\n",
    "    alpha_max_H = get_alpha_max_H()\n",
    "\n",
    "    Q_hs_max_H_d_t = np.zeros(24 * 365)\n",
    "\n",
    "    if q_hs_rtd_H is not None:\n",
    "        Q_hs_max_H_d_t = q_hs_rtd_H * alpha_max_H * C_df_H_d_t * 3600 * 10 ** -6\n",
    "\n",
    "    return Q_hs_max_H_d_t"
   ]
  },
  {
   "cell_type": "markdown",
   "metadata": {},
   "source": [
    "定格暖房能力に対する最大暖房能力の比$\\alpha_{max,H}$は、1.00 とする。"
   ]
  },
  {
   "cell_type": "code",
   "execution_count": 24,
   "metadata": {},
   "outputs": [],
   "source": [
    "def get_alpha_max_H():\n",
    "    \"\"\"\n",
    "    :return: 定格暖房能力に対する最大暖房能力の比（-）\n",
    "    \"\"\"\n",
    "    return 1.00"
   ]
  },
  {
   "cell_type": "markdown",
   "metadata": {},
   "source": [
    "外気温度$\\theta_{ex,d,t}$が 5℃未満かつ外気相対湿度$h_{ex,d,t}$が80%以上の場合："
   ]
  },
  {
   "cell_type": "markdown",
   "metadata": {},
   "source": [
    "$$\\large\n",
    "C_{df,H,d,t}=0.77\n",
    "$$"
   ]
  },
  {
   "cell_type": "markdown",
   "metadata": {},
   "source": [
    "外気温度$\\theta_{ex,d,t}$が5℃以上または外気相対湿度$h_{ex,d,t}$が80%未満の場合："
   ]
  },
  {
   "cell_type": "markdown",
   "metadata": {},
   "source": [
    "$$\\large\n",
    "C_{df,H,d,t}=1.0\n",
    "$$"
   ]
  },
  {
   "cell_type": "markdown",
   "metadata": {},
   "source": [
    "$C_{df,H,d,t}$：日付$d$の時刻$t$におけるデフロストに関する暖房出力補正係数(-)  \n",
    "$h_{ex,d,t}$：日付$d$の時刻$t$における外気相対湿度(％)  \n",
    "$\\theta_{ex,d,t}$：日付$d$の時刻$t$における外気温度(℃)  \n"
   ]
  },
  {
   "cell_type": "code",
   "execution_count": 25,
   "metadata": {},
   "outputs": [],
   "source": [
    "def get_C_df_H_d_t(Theta_ex_d_t, h_ex_d_t):\n",
    "    \"\"\"(24-1)(24-2)\n",
    "\n",
    "    :param Theta_ex_d_t:日付dの時刻tにおける外気温度（℃）\n",
    "    :param h_ex_d_t:日付dの時刻tにおける外気相対湿度（%）\n",
    "    :return:日付dの時刻tにおけるデフロストに関する暖房出力補正係数（-）\n",
    "    \"\"\"\n",
    "    C_df_H_d_t = np.ones(24 * 365)\n",
    "    C_df_H_d_t[np.logical_and(Theta_ex_d_t < 5, h_ex_d_t > 80)] = 0.77\n",
    "    return C_df_H_d_t"
   ]
  },
  {
   "cell_type": "markdown",
   "metadata": {},
   "source": [
    "#### 9.5.2 熱源機の最大冷房出力"
   ]
  },
  {
   "cell_type": "markdown",
   "metadata": {},
   "source": [
    "$$\\large\n",
    "Q_{hs,max,CS,d,t}=Q_{hs,max,C,d,t} \\times SHF'_{d,t}\n",
    "$$"
   ]
  },
  {
   "cell_type": "markdown",
   "metadata": {},
   "source": [
    "$$\\large\n",
    "Q_{hs,max,CL,d,t}=min \\left( Q_{hs,max,C,d,t} \\times (1-SHF'_{d,t}), L^*′_{CL,d,t}  \\right)\n",
    "$$"
   ]
  },
  {
   "cell_type": "markdown",
   "metadata": {},
   "source": [
    "$L^*′_{CL,d,t}$：日付$d$の時刻$t$における補正冷房潜熱負荷(MJ/h)  \n",
    "$SHF'_{d,t}$：日付$d$の時刻$t$における冷房負荷補正顕熱比(-)  \n",
    "$Q_{hs,max,C,d,t}$：日付$d$の時刻$t$における 1 時間当たりの熱源機の最大冷房出力(MJ/h)  \n",
    "$Q_{hs,max,CL,d,t}$：日付$d$の時刻$t$における 1 時間当たりの熱源機の最大冷房潜熱出力(MJ/h)  \n",
    "$Q_{hs,max,CS,d,t}$：日付$d$の時刻$t$における 1 時間当たりの熱源機の最大冷房顕熱出力(MJ/h)  \n"
   ]
  },
  {
   "cell_type": "code",
   "execution_count": 26,
   "metadata": {},
   "outputs": [],
   "source": [
    "# 1時間当たりの熱源機の最大冷房顕熱出力  (24)\n",
    "def get_Q_hs_max_CS_d_t(Q_hs_max_C_d_t, SHF_dash_d_t):\n",
    "    \"\"\" (25)\n",
    "\n",
    "    :param Q_hs_max_C_d_t:日付dの時刻tにおける1時間当たりの熱源機の最大冷房出力（MJ/h）\n",
    "    :param SHF_dash_d_t:日付dの時刻tにおける冷房負荷補正顕熱比(-)\n",
    "    :return:日付dの時刻tにおける1時間当たりの熱源機の最大冷房顕熱出力(MJ/h)\n",
    "    \"\"\"\n",
    "    return Q_hs_max_C_d_t * SHF_dash_d_t\n",
    "\n",
    "\n",
    "# 1時間当たりの熱源機の最大冷房潜熱出力  (25)\n",
    "def get_Q_hs_max_CL_d_t(Q_hs_max_C_d_t, SHF_dash_d_t, L_star_dash_CL_d_t):\n",
    "    \"\"\"(26)\n",
    "\n",
    "    :param Q_hs_max_C_d_t:日付dの時刻tにおける1時間当たりの熱源機の最大冷房出力（MJ/h）\n",
    "    :param SHF_dash_d_t: 日付dの時刻tにおける冷房負荷補正顕熱比(-)\n",
    "    :param L_star_dash_CL_d_t: 日付dの時刻tにおける補正冷房潜熱負荷(MJ/h)\n",
    "    :return: 日付dの時刻tにおける1時間当たりの熱源機の最大冷房潜熱出力(MJ/h)\n",
    "    \"\"\"\n",
    "    return np.min([Q_hs_max_C_d_t * (1.0 - SHF_dash_d_t), L_star_dash_CL_d_t], axis=0)"
   ]
  },
  {
   "cell_type": "markdown",
   "metadata": {},
   "source": [
    "$$\\large\n",
    "Q_{hs,max,C,d,t}=q_{hs,rtd,C} \\times \\alpha_{max,C} \\times 3600 \\times 10^{-6}\n",
    "$$"
   ]
  },
  {
   "cell_type": "markdown",
   "metadata": {},
   "source": [
    "$Q_{hs,max,C,d,t}$：日付$d$の時刻$t$における 1 時間当たりの熱源機の最大冷房出力(MJ/h)  \n",
    "$q_{hs,rtd,C}$：熱源機の定格冷房能力(W)  \n",
    "$\\alpha_{max,C}$：定格冷房能力に対する最大冷房能力の比(-)  \n"
   ]
  },
  {
   "cell_type": "code",
   "execution_count": 27,
   "metadata": {},
   "outputs": [],
   "source": [
    "# 最大冷房出力 [MJ/h] (27)\n",
    "def get_Q_hs_max_C_d_t(q_hs_rtd_C):\n",
    "    \"\"\"(27)\n",
    "    :param q_hs_rtd_C: 熱源機の冷房時の定格出力[m^3/h]\n",
    "    :return: 最大冷房出力 [MJ/h]\n",
    "    \"\"\"\n",
    "    alpha_max_C = get_alpha_max_C()\n",
    "\n",
    "    Q_hs_max_C_d_t = np.zeros(24 * 365)\n",
    "\n",
    "    if q_hs_rtd_C is not None:\n",
    "        Q_hs_max_C_d_t = q_hs_rtd_C * alpha_max_C * 3600 * 10 ** -6\n",
    "\n",
    "    return Q_hs_max_C_d_t"
   ]
  },
  {
   "cell_type": "markdown",
   "metadata": {},
   "source": [
    "定格暖房能力に対する最大冷房能力の比$\\alpha_{max,C}$は、1.11 とする。"
   ]
  },
  {
   "cell_type": "code",
   "execution_count": 28,
   "metadata": {},
   "outputs": [],
   "source": [
    "def get_alpha_max_C():\n",
    "    \"\"\"\n",
    "    :return:定格冷房能力に対する最大冷房能力の比(-)\n",
    "    \"\"\"\n",
    "    return 1.11"
   ]
  },
  {
   "cell_type": "markdown",
   "metadata": {},
   "source": [
    "$$\\large\n",
    "SHF'_{d,t}=\\left\\{ \\begin{array}{ll}\n",
    "    \\frac{L^*_{CS,d,t}}{L^*′_{C,d,t}} &(L^*′_{C,d,t}>0)\\\\ \n",
    "    0 &(L^*′_{C,d,t} \\leq 0)\\\\ \n",
    "    \\end{array}\n",
    "\\right.\n",
    "$$"
   ]
  },
  {
   "cell_type": "markdown",
   "metadata": {},
   "source": [
    "$L^*_{CS,d,t}$：日付$d$の時刻$t$における 1 時間当たりの熱取得を含む負荷バランス時の冷房顕熱負荷(MJ/h)  \n",
    "$L^*′_{C,d,t}$：日付$d$の時刻$t$における補正冷房負荷(MJ/h)  \n",
    "$SHF'_{d,t}$：日付$d$の時刻$t$における冷房負荷補正顕熱比(-)  \n"
   ]
  },
  {
   "cell_type": "code",
   "execution_count": 29,
   "metadata": {},
   "outputs": [],
   "source": [
    "# 冷房負荷補正顕熱比  (28)\n",
    "def get_SHF_dash_d_t(L_star_CS_d_t, L_star_dash_C_d_t):\n",
    "    \"\"\"(28)\n",
    "\n",
    "    :param L_star_CS_d_t:日付dの時刻tにおける1時間当たりの熱取得を含む負荷バランス時の冷房顕熱負荷（MJ/h）\n",
    "    :param L_star_dash_C_d_t:日付dの時刻tにおける補正冷房負荷（MJ/h）\n",
    "    :return:日付dの時刻tにおける冷房負荷補正顕熱比（-）\n",
    "    \"\"\"\n",
    "    SHF_dash_d_t = np.zeros(24 * 365)\n",
    "\n",
    "    f = L_star_dash_C_d_t > 0\n",
    "    SHF_dash_d_t[f] = L_star_CS_d_t[f] / L_star_dash_C_d_t[f]\n",
    "\n",
    "    return SHF_dash_d_t"
   ]
  },
  {
   "cell_type": "markdown",
   "metadata": {},
   "source": [
    "$$\\large\n",
    "L^*′_{C,d,t}=L^*_{CS,d,t}+L^*′_{CL,d,t}\n",
    "$$"
   ]
  },
  {
   "cell_type": "markdown",
   "metadata": {},
   "source": [
    "$L^*_{CS,d,t}$：日付$d$の時刻$t$における 1 時間当たりの熱取得を含む負荷バランス時の冷房顕熱負荷(MJ/h)  \n",
    "$L^*′_{C,d,t}$：日付$d$の時刻$t$における補正冷房負荷(MJ/h)  \n",
    "$L^*′_{CL,d,t}$：日付$d$の時刻$t$における補正冷房潜熱負荷(MJ/h)  \n"
   ]
  },
  {
   "cell_type": "code",
   "execution_count": 30,
   "metadata": {},
   "outputs": [],
   "source": [
    "# 1時間当たりの補正冷房負荷  (29)\n",
    "def get_L_star_dash_C_d_t(L_star_CS_d_t, L_star_dash_CL_d_t):\n",
    "    \"\"\"(29)\n",
    "\n",
    "    :param L_star_CS_d_t: 日付dの時刻tにおける1時間当たりの熱取得を含む負荷バランス時の冷房顕熱負荷（MJ/h）\n",
    "    :param L_star_dash_CL_d_t:日付dの時刻tにおける補正冷房潜熱負荷（MJ/h）\n",
    "    :return: 日付dの時刻tにおける時間当たりの補正冷房負荷(MJ/h)\n",
    "    \"\"\"\n",
    "    return L_star_CS_d_t + L_star_dash_CL_d_t"
   ]
  },
  {
   "cell_type": "markdown",
   "metadata": {},
   "source": [
    "$$\\large\n",
    "L^*′_{CL,d,t}=min(L^*_{CL,max,d,t}, L^*_{CL,d,t})\n",
    "$$"
   ]
  },
  {
   "cell_type": "markdown",
   "metadata": {},
   "source": [
    "$L^*_{CL,d,t}$：日付$d$の時刻$t$における 1 時間当たりの熱取得を含む負荷バランス時の冷房潜熱負荷(MJ/h)  \n",
    "$L^*′_{CL,d,t}$：日付$d$の時刻$t$における補正冷房潜熱負荷(MJ/h)  \n",
    "$L^*_{CL,max,d,t}$：日付$d$の時刻$t$における最大冷房潜熱負荷(MJ/h)  \n"
   ]
  },
  {
   "cell_type": "code",
   "execution_count": 31,
   "metadata": {},
   "outputs": [],
   "source": [
    "def get_L_star_dash_CL_d_t(L_star_CL_max_d_t, L_star_CL_d_t):\n",
    "    \"\"\"(30)\n",
    "\n",
    "    :param L_star_CL_max_d_t:日付dの時刻tにおける最大冷房潜熱負荷（MJ/h）\n",
    "    :param L_star_CL_d_t:日付dの時刻tにおける1時間当たりの熱取得を含む負荷バランス時の冷房潜熱負荷（MJ/h）\n",
    "    :return:日付dの時刻tにおける補正冷房潜熱負荷（MJ/h）\n",
    "    \"\"\"\n",
    "    return np.minimum(L_star_CL_max_d_t, L_star_CL_d_t)"
   ]
  },
  {
   "cell_type": "markdown",
   "metadata": {},
   "source": [
    "$$\\large\n",
    "L^*′_{CL,max,d,t}=L^*_{CS,d,t} \\times \\frac{1-SHF_{L,min,C}}{SHF_{L,min,C}}\n",
    "$$"
   ]
  },
  {
   "cell_type": "markdown",
   "metadata": {},
   "source": [
    "$L^*_{CS,d,t}$：日付$d$の時刻$t$における 1 時間当たりの熱取得を含む負荷バランス時の冷房顕熱負荷(MJ/h)  \n",
    "$L^*′_{CL,max,d,t}$：日付$d$の時刻$t$における最大冷房潜熱負荷(MJ/h)  \n",
    "$SHF_{L,min,C}$：冷房負荷最小顕熱比(-)  \n"
   ]
  },
  {
   "cell_type": "code",
   "execution_count": 32,
   "metadata": {},
   "outputs": [],
   "source": [
    "# 1時間当たりの最大冷房潜熱負荷 (MJ/h)\n",
    "def get_L_star_CL_max_d_t(L_star_CS_d_t):\n",
    "    \"\"\"(31)\n",
    "    \n",
    "    :param L_star_CS_d_t: 日付dの時刻tにおける1時間当たりの熱取得を含む負荷バランス時の冷房顕熱負荷（MJ/h）\n",
    "    :return: 日付dの時刻tにおける最大冷房潜熱負荷（MJ/h）\n",
    "    \"\"\"\n",
    "    # 冷房負荷最小顕熱比率 [-]\n",
    "    SHF_L_min_C = get_SHF_L_min_C()\n",
    "\n",
    "    return L_star_CS_d_t * ((1.0 - SHF_L_min_C) / SHF_L_min_C)"
   ]
  },
  {
   "cell_type": "markdown",
   "metadata": {},
   "source": [
    "冷房負荷最小顕熱比$SHF_{L,min,C}$は、0.4とする。"
   ]
  },
  {
   "cell_type": "code",
   "execution_count": 33,
   "metadata": {},
   "outputs": [],
   "source": [
    "def get_SHF_L_min_C():\n",
    "    \"\"\"\n",
    "    :return: 冷房負荷最小顕熱比率 (-)\n",
    "    \"\"\"\n",
    "    return 0.4"
   ]
  },
  {
   "cell_type": "markdown",
   "metadata": {},
   "source": [
    "$$\\large\n",
    "L^*_{CS,d,t}= \\sum^5_{i=1} L^*_{CS,d,t}\n",
    "$$"
   ]
  },
  {
   "cell_type": "markdown",
   "metadata": {},
   "source": [
    "$$\\large\n",
    "L^*_{CL,d,t}= \\sum^5_{i=1} L^*_{CL,d,t}\n",
    "$$"
   ]
  },
  {
   "cell_type": "markdown",
   "metadata": {},
   "source": [
    "$L^*_{CL,d,t}$：日付$d$の時刻$t$における 1 時間当たりの熱取得を含む負荷バランス時の冷房潜熱負荷(MJ/h)  \n",
    "$L^*_{CL,d,t,i}$：日付$d$の時刻$t$における暖冷房区画$i$の 1 時間当たりの熱取得を含む負荷バランス時の冷房潜熱負荷(MJ/h)  \n",
    "$L^*_{CS,d,t}$：日付$d$の時刻$t$における 1 時間当たりの熱取得を含む負荷バランス時の冷房顕熱負荷(MJ/h)  \n",
    "$L^*_{CS,d,t,i}$：日付$d$の時刻$t$における暖冷房区画$i$の 1 時間当たりの熱取得を含む負荷バランス時の冷房顕熱負荷(MJ/h)  \n"
   ]
  },
  {
   "cell_type": "code",
   "execution_count": 34,
   "metadata": {},
   "outputs": [],
   "source": [
    "def get_L_star_CS_d_t(L_star_CS_d_t_i):\n",
    "    \"\"\"(32)\n",
    "\n",
    "    :param get_L_star_CS_d_t_i:日付dの時刻tにおける暖冷房区画iの1時間当たりの熱取得を含む負荷バランス時の冷房顕熱負荷（MJ/h）\n",
    "    :return:日付dの時刻tにおける1時間当たりの熱取得を含む負荷バランス時の冷房顕熱負荷（MJ/h）\n",
    "    \"\"\"\n",
    "    return np.sum(L_star_CS_d_t_i[:5, :], axis=0)\n",
    "\n",
    "\n",
    "def get_L_star_CL_d_t(L_star_CL_d_t_i):\n",
    "    \"\"\"(33)\n",
    "\n",
    "    :param get_L_star_CL_d_t_i:日付dの時刻tにおける暖冷房区画iの1時間当たりの熱取得を含む負荷バランス時の冷房潜熱負荷（MJ/h）\n",
    "    :return:日付dの時刻tにおける1時間当たりの熱取得を含む負荷バランス時の冷房潜熱負荷（MJ/h）\n",
    "    \"\"\"\n",
    "    return np.sum(L_star_CL_d_t_i[:5, :], axis=0)"
   ]
  },
  {
   "cell_type": "markdown",
   "metadata": {},
   "source": [
    "#### 9.6 熱源機の風量"
   ]
  },
  {
   "cell_type": "markdown",
   "metadata": {},
   "source": [
    "$$\\large\n",
    "V_{hs,supply,d,t}= \\sum^5_{i=1} V_{supply,d,t,i}\n",
    "$$\n"
   ]
  },
  {
   "cell_type": "markdown",
   "metadata": {},
   "source": [
    "$V_{hs,supply,d,t}$：日付$d$の時刻$t$における熱源機の風量($m^3$/h)  \n",
    "$V_{supply,d,t,i}$：日付$d$の時刻$t$における暖冷房区画$i$の吹き出し風量($m^3$/h)  \n"
   ]
  },
  {
   "cell_type": "code",
   "execution_count": 35,
   "metadata": {},
   "outputs": [],
   "source": [
    "def get_V_hs_supply_d_t(V_supply_d_t_i):\n",
    "    \"\"\"(34)\n",
    "\n",
    "    :param V_supply_d_t_i:日付dの時刻tにおける暖冷房区画iの吹き出し風量（m3/h）\n",
    "    :return:日付dの時刻tにおける熱源機の風量（m3/h）\n",
    "    \"\"\"\n",
    "    return np.sum(V_supply_d_t_i[:5, :], axis=0)"
   ]
  },
  {
   "cell_type": "markdown",
   "metadata": {},
   "source": [
    "当該システムが全般換気の機能を有する場合："
   ]
  },
  {
   "cell_type": "markdown",
   "metadata": {},
   "source": [
    "$$\\large\n",
    "V_{hs,vent,d,t}= \\sum^5_{i=1} V_{vent,g,i}\n",
    "$$\n"
   ]
  },
  {
   "cell_type": "markdown",
   "metadata": {},
   "source": [
    "当該システムが全般換気の機能を有さない場合："
   ]
  },
  {
   "cell_type": "markdown",
   "metadata": {},
   "source": [
    "$$\\large\n",
    "V_{hs,vent,d,t}= 0\n",
    "$$\n"
   ]
  },
  {
   "cell_type": "markdown",
   "metadata": {},
   "source": [
    "$V_{hs,vent,d,t}$：日付$d$の時刻$t$における熱源機の風量のうちの全般換気分($m^3$/h)  \n",
    "$V_{vent,g,i}$：暖冷房区画$i$の全般換気量($m^3$/h)  \n"
   ]
  },
  {
   "cell_type": "code",
   "execution_count": 36,
   "metadata": {},
   "outputs": [],
   "source": [
    "def get_V_hs_vent_d_t(V_vent_g_i, general_ventilation):\n",
    "    \"\"\"(35-1)(35-2)\n",
    "\n",
    "    :param V_vent_g_i:暖冷房区画iの全般換気量（m3/h）\n",
    "    :param general_ventilation:全版換気の機能\n",
    "    :return:日付dの時刻tにおける熱源機の風量のうちの全般換気分（m3/h）\n",
    "    \"\"\"\n",
    "    # (35-2)\n",
    "    V_hs_vent_d_t = np.zeros(24 * 365)\n",
    "\n",
    "    # 当該システムが全般換気の機能を有する場合 (35-1)\n",
    "    if general_ventilation == True:\n",
    "        V_vent_g = np.sum(V_vent_g_i[:5], axis=0)\n",
    "        V_hs_vent_d_t = np.repeat(V_vent_g, 24 * 365)\n",
    "    elif general_ventilation == False:\n",
    "        pass\n",
    "    else:\n",
    "        raise ValueError(general_ventilation)\n",
    "\n",
    "    return V_hs_vent_d_t"
   ]
  },
  {
   "cell_type": "markdown",
   "metadata": {},
   "source": [
    "#### 9.7 VAV 調整前の熱源機の風量"
   ]
  },
  {
   "cell_type": "markdown",
   "metadata": {},
   "source": [
    "暖房期："
   ]
  },
  {
   "cell_type": "markdown",
   "metadata": {},
   "source": [
    "$$\\large\n",
    "V'_{hs,supply,d,t}=\\left\\{ \\begin{array}{ll}\n",
    "    V_{hs,min} &( \\hat{Q}_{hs,d,t}<0)\\\\ \n",
    "    \\frac{V_{hs,dsgn,H}-V_{hs,min}}{Q_{hs,rtd,H}}\\hat{Q}_{hs,d,t}+V_{hs,min} &(0 \\leq \\hat{Q}_{hs,d,t}<Q_{hs,rtd,H})\\\\ \n",
    "    V_{hs,dsgn,H} &(Q_{hs,rtd,H} \\leq \\hat{Q}_{hs,d,t})\\\\ \n",
    "    \\end{array}\n",
    "\\right.\n",
    "$$"
   ]
  },
  {
   "cell_type": "markdown",
   "metadata": {},
   "source": [
    "冷房期："
   ]
  },
  {
   "cell_type": "markdown",
   "metadata": {},
   "source": [
    "$$\\large\n",
    "V'_{hs,supply,d,t}=\\left\\{ \\begin{array}{ll}\n",
    "    V_{hs,min} &( \\hat{Q}_{hs,d,t}<0)\\\\ \n",
    "    \\frac{V_{hs,dsgn,C}-V_{hs,min}}{Q_{hs,rtd,C}}\\hat{Q}_{hs,d,t}+V_{hs,min} &(0 \\leq \\hat{Q}_{hs,d,t}<Q_{hs,rtd,C})\\\\ \n",
    "    V_{hs,dsgn,C} &(Q_{hs,rtd,C} \\leq \\hat{Q}_{hs,d,t})\\\\ \n",
    "    \\end{array}\n",
    "\\right.\n",
    "$$"
   ]
  },
  {
   "cell_type": "markdown",
   "metadata": {},
   "source": [
    "中間期："
   ]
  },
  {
   "cell_type": "markdown",
   "metadata": {},
   "source": [
    "$$\\large\n",
    "V'_{hs,supply,d,t}=V_{hs,min}\n",
    "$$"
   ]
  },
  {
   "cell_type": "markdown",
   "metadata": {},
   "source": [
    "$Q_{hs,rtd,C}$：熱源機の冷房時の定格出力(MJ/h)  \n",
    "$Q_{hs,rtd,H}$：熱源機の暖房時の定格出力(MJ/h)  \n",
    "$\\hat{Q}_{hs,d,t}$：日付$d$の時刻$t$における１時間当たりの熱源機の風量を計算するための熱源機の出力(MJ/h)  \n",
    "$V_{hs,dsgn,C}$：冷房時の設計風量($m^3$/h)  \n",
    "$V_{hs,dsgn,H}$：暖房時の設計風量($m^3$/h)  \n",
    "$V_{hs,min}$：熱源機の最低風量($m^3$/h)  \n",
    "$V'_{hs,supply,d,t}$：日付$d$の時刻$t$におけるVAV 調整前の熱源機の風量($m^3$/h)  \n"
   ]
  },
  {
   "cell_type": "code",
   "execution_count": 37,
   "metadata": {},
   "outputs": [],
   "source": [
    "def get_V_dash_hs_supply_d_t(V_hs_min, V_hs_dsgn_H, V_hs_dsgn_C, Q_hs_rtd_H, Q_hs_rtd_C, Q_hat_hs_d_t, region):\n",
    "    \"\"\"(36-1)(36-2)(36-3)\n",
    "\n",
    "    :param V_hs_min:熱源機の最低風量（m3/h）\n",
    "    :param V_hs_dsgn_H:暖房時の設計風量（m3/h）\n",
    "    :param V_hs_dsgn_C:冷房時の設計風量（m3/h）\n",
    "    :param Q_hs_rtd_H:熱源機の暖房時の定格出力（MJ/h）\n",
    "    :param Q_hs_rtd_C:熱源機の冷房時の定格出力（MJ/h）\n",
    "    :param Q_hat_hs_d_t:日付dの時刻tにおける１時間当たりの熱源機の風量を計算するための熱源機の出力（MJ/h）\n",
    "    :param region:地域区分\n",
    "    :return:日付dの時刻tにおけるVAV調整前の熱源機の風量（m3/h）\n",
    "    \"\"\"\n",
    "    H, C, M = get_season_array_d_t(region)\n",
    "\n",
    "    V_dash_hs_supply_d_t = np.zeros(24 * 365)\n",
    "\n",
    "    # 暖房期：熱源機の出力が負の値に場合\n",
    "    f1 = np.logical_and(H, Q_hat_hs_d_t < 0)\n",
    "    # 暖房期：熱源機の出力が正で出力が定格出力を超えない場合\n",
    "    if Q_hs_rtd_H is not None:\n",
    "        f2 = np.logical_and(H, np.logical_and(0 <= Q_hat_hs_d_t, Q_hat_hs_d_t < Q_hs_rtd_H))\n",
    "    # 暖房期出力が定格出力を超えた場合\n",
    "    if Q_hs_rtd_H is not None:\n",
    "        f3 = np.logical_and(H, Q_hat_hs_d_t >= Q_hs_rtd_H)\n",
    "\n",
    "    # 冷房期：熱源機の出力が負の値に場合\n",
    "    f4 = np.logical_and(C, Q_hat_hs_d_t < 0)\n",
    "    # 冷房期：熱源機の出力が正で出力が定格出力を超えない場合\n",
    "    if Q_hs_rtd_C is not None:\n",
    "        f5 = np.logical_and(C, np.logical_and(0 <= Q_hat_hs_d_t, Q_hat_hs_d_t < Q_hs_rtd_C))\n",
    "    # 冷房期：出力が定格出力を超えた場合\n",
    "    if Q_hs_rtd_C is not None:\n",
    "        f6 = np.logical_and(C, Q_hat_hs_d_t >= Q_hs_rtd_C)\n",
    "\n",
    "    # 暖房期 (36-1)\n",
    "\n",
    "    # 熱源機の出力が負の値に場合\n",
    "    V_dash_hs_supply_d_t[f1] = V_hs_min\n",
    "\n",
    "    # 熱源機の出力が正で出力が定格出力を超えない場合\n",
    "    if Q_hs_rtd_H is not None:\n",
    "        V_dash_hs_supply_d_t[f2] = (V_hs_dsgn_H - V_hs_min) / Q_hs_rtd_H * Q_hat_hs_d_t[f2] + V_hs_min\n",
    "\n",
    "    # 出力が定格出力を超えた場合\n",
    "    if V_hs_dsgn_H is not None:\n",
    "        V_dash_hs_supply_d_t[f3] = V_hs_dsgn_H\n",
    "\n",
    "    # 冷房期 (36-2)\n",
    "\n",
    "    # 熱源機の出力が負の値に場合\n",
    "    V_dash_hs_supply_d_t[f4] = V_hs_min\n",
    "\n",
    "    # 熱源機の出力が正で出力が定格出力を超えない場合\n",
    "    if Q_hs_rtd_C is not None:\n",
    "        V_dash_hs_supply_d_t[f5] = (V_hs_dsgn_C - V_hs_min) / Q_hs_rtd_C * Q_hat_hs_d_t[f5] + V_hs_min\n",
    "\n",
    "    # 出力が定格出力を超えた場合\n",
    "    if V_hs_dsgn_C is not None:\n",
    "        V_dash_hs_supply_d_t[f6] = V_hs_dsgn_C\n",
    "\n",
    "    # 中間期 (36-3)\n",
    "    V_dash_hs_supply_d_t[M] = V_hs_min\n",
    "\n",
    "    return V_dash_hs_supply_d_t"
   ]
  },
  {
   "cell_type": "markdown",
   "metadata": {},
   "source": [
    "$$\\large\n",
    "Q_{hs,rtd,H}=q_{hs,rtd,H}\\times 3600 \\times 10^{-6}\n",
    "$$\n",
    "\n",
    "$$\\large\n",
    "Q_{hs,rtd,C}=q_{hs,rtd,C}\\times 3600 \\times 10^{-6}\n",
    "$$"
   ]
  },
  {
   "cell_type": "markdown",
   "metadata": {},
   "source": [
    "$Q_{hs,rtd,C}$：冷房時の熱源機の定格出力(MJ/h)  \n",
    "$Q_{hs,rtd,H}$：暖房時の熱源機の定格出力(MJ/h)  \n",
    "$q_{hs,rtd,C}$：熱源機の定格冷房能力(W)  \n",
    "$q_{hs,rtd,H}$：熱源機の定格暖房能力(W)  \n"
   ]
  },
  {
   "cell_type": "code",
   "execution_count": 38,
   "metadata": {},
   "outputs": [],
   "source": [
    "def get_Q_hs_rtd_H(q_hs_rtd_H):\n",
    "    \"\"\"(37)\n",
    "\n",
    "    :param q_hs_rtd_H:熱源機の定格暖房能力（W）\n",
    "    :return:暖房時の熱源機の定格出力（MJ/h）\n",
    "    \"\"\"\n",
    "    if q_hs_rtd_H is not None:\n",
    "        return q_hs_rtd_H * 3600 * 10 ** -6\n",
    "    else:\n",
    "        return None\n",
    "\n",
    "\n",
    "def get_Q_hs_rtd_C(q_hs_rtd_C):\n",
    "    \"\"\"(38)\n",
    "\n",
    "    :param q_hs_rtd_C:熱源機の定格冷房能力（W）\n",
    "    :return:冷房時の熱源機の定格出力（MJ/h）\n",
    "    \"\"\"\n",
    "    if q_hs_rtd_C is not None:\n",
    "        return q_hs_rtd_C * 3600 * 10 ** -6\n",
    "    else:\n",
    "        return None"
   ]
  },
  {
   "cell_type": "markdown",
   "metadata": {},
   "source": [
    "$$\\large\n",
    "V_{hs,min}=\\sum^5_{i=1} V_{vent,g,i}\n",
    "$$"
   ]
  },
  {
   "cell_type": "markdown",
   "metadata": {},
   "source": [
    "$V_{hs,min}$：熱源機の最低風量($m^3$/h)  \n",
    "$V_{vent,g,i}$：暖冷房区画$i$の全般換気量($m^3$/h)  \n"
   ]
  },
  {
   "cell_type": "code",
   "execution_count": 39,
   "metadata": {},
   "outputs": [],
   "source": [
    "def get_V_hs_min(V_vent_g_i):\n",
    "    \"\"\"(39)\n",
    "\n",
    "    :param V_vent_g_i:暖冷房区画iの全般換気量（m3/h）\n",
    "    :return:熱源機の最低風量（m3/h）\n",
    "    \"\"\"\n",
    "    return np.sum(V_vent_g_i[:5], axis=0)"
   ]
  },
  {
   "cell_type": "markdown",
   "metadata": {},
   "source": [
    "暖房期："
   ]
  },
  {
   "cell_type": "markdown",
   "metadata": {},
   "source": [
    "$$\\large\n",
    "\\hat{Q}_{hs,d,t}=max(\\hat{Q}_{hs,H,d,t},0)\n",
    "$$"
   ]
  },
  {
   "cell_type": "markdown",
   "metadata": {},
   "source": [
    "$$\\large\n",
    "\\hat{Q}_{hs,H,d,t}=\\left[  \\left\\{ ( Q-0.35\\times 0.5\\times 2.4)A_{A} +  \\frac{c_{p_{air}}\\rho_{air}(V_{vent,l,d,t}+\\sum^5_{i=1} V_{vent,g,i})}{3600}  \\right\\} (\\theta_{set,H}-\\theta_{ex,d,t}) - \\mu_{H}A_{A}J_{d,t}-q_{gen,d,t}-n_{p,d,t}q_{p,H} \\right] \\times 3600 \\times 10^{-6}\n",
    "$$"
   ]
  },
  {
   "cell_type": "markdown",
   "metadata": {},
   "source": [
    "冷房期："
   ]
  },
  {
   "cell_type": "markdown",
   "metadata": {},
   "source": [
    "$$\\large\n",
    "\\hat{Q}_{hs,d,t}=max(\\hat{Q}_{hs,CS,d,t},0)+max(\\hat{Q}_{hs,CL,d,t},0)\n",
    "$$"
   ]
  },
  {
   "cell_type": "markdown",
   "metadata": {},
   "source": [
    "$$\\large\n",
    "\\hat{Q}_{hs,CS,d,t}=\\left[  \\left\\{ ( Q-0.35\\times 0.5\\times 2.4)A_{A} +  \\frac{c_{p_{air}}\\rho_{air}(V_{vent,l,d,t}+\\sum^5_{i=1} V_{vent,g,i})}{3600}  \\right\\} (\\theta_{ex,d,t}-\\theta_{set,C}) + \\mu_{C}A_{A}J_{d,t}+q_{gen,d,t}+n_{p,d,t}q_{p,CS} \\right] \\times 3600 \\times 10^{-6}\n",
    "$$"
   ]
  },
  {
   "cell_type": "markdown",
   "metadata": {},
   "source": [
    "$$\\large\n",
    "\\hat{Q}_{hs,CL,d,t}=\\left[  \\left\\{ \\rho_{air}\\left( V_{vent,l,d,t}+\\sum^5_{i=1}V_{vent,g,i} \\right) (X_{ex,d,t}-X_{set,C}) \\times 10^3 + w_{gen,d,t} \\right\\} \\times L_{wtr} + n_{p,d,t}q_{p,CL} \\times 3600 \\right]  \\times 10^{-6}\n",
    "$$"
   ]
  },
  {
   "cell_type": "markdown",
   "metadata": {},
   "source": [
    "中間期："
   ]
  },
  {
   "cell_type": "markdown",
   "metadata": {},
   "source": [
    "$$\\large\n",
    "\\hat{Q}_{hs,d,t}=0\n",
    "$$"
   ]
  },
  {
   "cell_type": "markdown",
   "metadata": {},
   "source": [
    "$A_{A}$：床面積の合計($m^2$)  \n",
    "$J_{d,t}$：日付$d$の時刻$t$における水平面全天日射量(W/$m^2$)  \n",
    "$n_{p,d,t}$：日付$d$の時刻$t$における在室人数(人)  \n",
    "$Q$：当該住戸の熱損失係数(W/($m^2$・K))  \n",
    "$\\hat{Q}_{hs,CL,d,t}$：日付$d$の時刻$t$における１時間当たりの熱源機の風量を計算するための熱源機の冷房潜熱出力(MJ/h)  \n",
    "$\\hat{Q}_{hs,CS,d,t}$：日付$d$の時刻$t$における１時間当たりの熱源機の風量を計算するための熱源機の冷房顕熱出力(MJ/h)  \n",
    "$\\hat{Q}_{hs,H,d,t}$：日付$d$の時刻$t$における１時間当たりの熱源機の風量を計算するための熱源機の暖房出力(MJ/h)  \n",
    "$q_{gen,d,t}$：日付$d$の時刻$t$における内部発熱(W)  \n",
    "$q_{p,CL}$：冷房期における人体からの 1 人当たりの潜熱発熱量(W/人)  \n",
    "$q_{p,CS}$：冷房期における人体からの 1 人当たりの顕熱発熱量(W/人)  \n",
    "$q_{p,H}$：暖房期における人体からの 1 人当たりの顕熱発熱量(W/人)  \n",
    "$V_{vent,g,i}$：暖冷房区画$i$の全般換気量($m^3$/h)  \n",
    "$V_{vent,l,d,t}$：日付$d$の時刻$t$における局所換気量($m^3$/h)  \n",
    "$X_{ex,d,t}$：日付$d$の時刻$t$における外気の絶対湿度(kg/kg(DA))  \n",
    "$w_{gen,d,t}$：日付$d$の時刻$t$における内部発湿(g/h)  \n",
    "$X_{set,C}$：冷房時の設定絶対湿度(kg/kg(DA))  \n",
    "$\\theta_{ex,d,t}$：日付$d$の時刻$t$における外気温度(℃)  \n",
    "$\\theta_{set,C}$：冷房時の設定温度(℃)  \n",
    "$\\theta_{set,H}$：暖房時の設定温度(℃)  \n",
    "$\\mu_{C}$：当該住戸の冷房期の日射取得係数((W/$m^2$)/(W/$m^2$))  \n",
    "$\\mu_{H}$：当該住戸の暖房期の日射取得係数((W/$m^2$)/(W/$m^2$))  \n",
    "$c_{p_{air}}$：空気の比熱(J/(kg・K))  \n",
    "$L_{wtr}$：水の蒸発潜熱(kJ/kg)  \n",
    "$\\rho_{air}$：空気の密度(kg/$m^3$)  \n"
   ]
  },
  {
   "cell_type": "code",
   "execution_count": 40,
   "metadata": {},
   "outputs": [],
   "source": [
    "def calc_Q_hat_hs_d_t(Q, A_A, V_vent_l_d_t, V_vent_g_i, mu_H, mu_C, J_d_t, q_gen_d_t, n_p_d_t, q_p_H, q_p_CS, q_p_CL, X_ex_d_t, w_gen_d_t, Theta_ex_d_t, L_wtr, region):\n",
    "    \"\"\"(40-1a)(40-1b)(40-2a)(40-2b)(40-2c)(40-3)\n",
    "\n",
    "    :param Q:当該住戸の熱損失係数（W/(m2・K)）\n",
    "    :param A_A:床面積の合計（m2）\n",
    "    :param V_vent_l_d_t:日付dの時刻tにおける局所換気量（m3/h）\n",
    "    :param V_vent_g_i:暖冷房区画iの全般換気量（m3/h）\n",
    "    :param mu_H:当該住戸の暖房期の日射取得係数（(W/m2)/(W/m2)）\n",
    "    :param mu_C:当該住戸の冷房期の日射取得係数（(W/m2)/(W/m2)）\n",
    "    :param J_d_t:日付dの時刻tにおける水平面全天日射量（W/m2）\n",
    "    :param q_gen_d_t:日付dの時刻tにおける内部発熱（W）\n",
    "    :param n_p_d_t:日付dの時刻tにおける在室人数（人）\n",
    "    :param q_p_H:暖房期における人体からの1人当たりの顕熱発熱量（W/人）\n",
    "    :param q_p_CS:冷房期における人体からの1人当たりの顕熱発熱量（W/人）\n",
    "    :param q_p_CL:冷房期における人体からの1人当たりの潜熱発熱量（W/人）\n",
    "    :param X_ex_d_t:日付dの時刻tにおける外気の絶対湿度（kg/kg(DA)）\n",
    "    :param w_gen_d_t:\n",
    "    :param Theta_ex_d_t:日付dの時刻tにおける外気温度（℃）\n",
    "    :param L_wtr:水の蒸発潜熱（kJ/kg）\n",
    "    :param region:地域区分\n",
    "    :return:日付dの時刻tにおける１時間当たりの熱源機の風量を計算するための熱源機の暖房出力（MJ/h）\n",
    "    \"\"\"\n",
    "    H, C, M = get_season_array_d_t(region)\n",
    "    c_p_air = get_c_p_air()\n",
    "    rho_air = get_rho_air()\n",
    "    Theta_set_H = get_Theta_set_H()\n",
    "    Theta_set_C = get_Theta_set_C()\n",
    "    X_set_C = get_X_set_C()\n",
    "\n",
    "    Q_hat_hs_d_t = np.zeros(24 * 365)\n",
    "    Q_hat_hs_H_d_t = np.zeros(24 * 365)\n",
    "    Q_hat_hs_CS_d_t = np.zeros(24 * 365)\n",
    "    Q_hat_hs_CL_d_t = np.zeros(24 * 365)\n",
    "\n",
    "    # 暖房期 (40-1b)\n",
    "    if mu_H is not None:\n",
    "        Q_hat_hs_H_d_t[H] = (((Q - 0.35 * 0.5 * 2.4) * A_A + (c_p_air * rho_air * (V_vent_l_d_t[H] + np.sum(V_vent_g_i[:5]))) / 3600) * (Theta_set_H - Theta_ex_d_t[H]) \\\n",
    "                          - mu_H * A_A * J_d_t[H] - q_gen_d_t[H] - n_p_d_t[H] * q_p_H) * 3600 * 10 ** -6\n",
    "\n",
    "    # (40-1a)\n",
    "    Q_hat_hs_d_t[H] = np.clip(Q_hat_hs_H_d_t[H], 0, None)\n",
    "\n",
    "    # 冷房期 (40-2b)\n",
    "    Q_hat_hs_CS_d_t[C] = (((Q - 0.35 * 0.5 * 2.4) * A_A + (c_p_air * rho_air * (V_vent_l_d_t[C] + np.sum(V_vent_g_i[:5]))) / 3600) * (Theta_ex_d_t[C] - Theta_set_C) \\\n",
    "                      + mu_C * A_A * J_d_t[C] + q_gen_d_t[C] + n_p_d_t[C] * q_p_CS) * 3600 * 10 ** -6\n",
    "\n",
    "    # (40-2c)\n",
    "    Q_hat_hs_CL_d_t[C] = ((rho_air * (V_vent_l_d_t[C] + np.sum(V_vent_g_i[:5])) * (X_ex_d_t[C] - X_set_C) * 10 ** 3 + w_gen_d_t[C]) \\\n",
    "                       * L_wtr + n_p_d_t[C] * q_p_CL * 3600) * 10 ** -6\n",
    "\n",
    "    # (40-2a)\n",
    "    Q_hat_hs_d_t[C] = np.clip(Q_hat_hs_CS_d_t[C], 0, None) + np.clip(Q_hat_hs_CL_d_t[C], 0, None)\n",
    "\n",
    "    # 中間期 (40-3)\n",
    "    Q_hat_hs_d_t[M] = 0\n",
    "\n",
    "    return Q_hat_hs_d_t"
   ]
  },
  {
   "cell_type": "markdown",
   "metadata": {},
   "source": [
    "#### 9.8 定格能力・定格風量・設計風量"
   ]
  },
  {
   "cell_type": "markdown",
   "metadata": {},
   "source": [
    "省略"
   ]
  },
  {
   "cell_type": "markdown",
   "metadata": {},
   "source": [
    "### 10.吹き出し口"
   ]
  },
  {
   "cell_type": "markdown",
   "metadata": {},
   "source": [
    "#### 10.1 吹き出し空気温度"
   ]
  },
  {
   "cell_type": "markdown",
   "metadata": {},
   "source": [
    "暖房期："
   ]
  },
  {
   "cell_type": "markdown",
   "metadata": {},
   "source": [
    "$$\\large\n",
    "\\theta_{supply,d,t,i}=\\left\\{ \\begin{array}{ll}\n",
    "    \\theta_{sur,d,t,i}+(\\theta_{hs,out,d,t}-\\theta_{sur,d,t,i}) \\times e^{ \\frac{-\\psi_{i}l_{duct,i}\\times 3600}{c_{p_{air}}\\rho_{air}V_{supply,d,t,i}} } &( \\sum^5_{i=1} L^*_{H,d,t,i}>0)\\\\ \n",
    "    \\theta^*_{HBR,d,t} &(\\sum^5_{i=1} L^*_{H,d,t,i} \\leq 0)\\\\ \n",
    "    \\end{array}\n",
    "\\right.\n",
    "$$"
   ]
  },
  {
   "cell_type": "markdown",
   "metadata": {},
   "source": [
    "冷房期："
   ]
  },
  {
   "cell_type": "markdown",
   "metadata": {},
   "source": [
    "$$\\large\n",
    "\\theta_{supply,d,t,i}=\\left\\{ \\begin{array}{ll}\n",
    "    \\theta_{sur,d,t,i}+(\\theta_{hs,out,d,t}-\\theta_{sur,d,t,i}) \\times e^{ \\frac{-\\psi_{i}l_{duct,i}\\times 3600}{c_{p_{air}}\\rho_{air}V_{supply,d,t,i}} } &( \\sum^5_{i=1} L^*_{CS,d,t,i}>0)\\\\ \n",
    "    \\theta^*_{HBR,d,t} &(\\sum^5_{i=1} L^*_{CS,d,t,i} \\leq 0)\\\\ \n",
    "    \\end{array}\n",
    "\\right.\n",
    "$$"
   ]
  },
  {
   "cell_type": "markdown",
   "metadata": {},
   "source": [
    "中間期："
   ]
  },
  {
   "cell_type": "markdown",
   "metadata": {},
   "source": [
    "$$\\large\n",
    "\\theta_{supply,d,t,i}=\\theta^*_{HBR,d,t}\n",
    "$$"
   ]
  },
  {
   "cell_type": "markdown",
   "metadata": {},
   "source": [
    "$L^*_{CS,d,t,i}$：日付$d$の時刻$t$における暖冷房区画$i$の 1 時間当たりの熱取得を含む負荷バランス時の冷房顕熱負荷(MJ/h)  \n",
    "$L^*_{H,d,t,i}$：日付$d$の時刻$t$における暖冷房区画$i$の 1 時間当たりの熱損失を含む負荷バランス時の暖房負荷(MJ/h)  \n",
    "$l_{duct,i}$：ダクト$i$の長さ(m)  \n",
    "$V_{supply,d,t,i}$：日付$d$の時刻$t$における暖冷房区画$i$の吹き出し風量($m^3$/h)  \n",
    "$\\theta^*_{HBR,d,t}$：日付$d$の時刻$t$における負荷バランス時の居室の室温(℃)  \n",
    "$\\theta_{hs,out,d,t}$：日付$d$の時刻$t$における熱源機の出口における空気温度(℃)  \n",
    "$\\theta_{supply,d,t,i}$：日付$d$の時刻$t$における暖冷房区画$i$の吹き出し温度(℃)  \n",
    "$\\theta_{sur,d,t,i}$：日付$d$の時刻$t$におけるダクト$i$の周囲の空気温度(℃)  \n",
    "$\\psi_{i}$：ダクト$i$の線熱損失係数(W/(m・K))  \n",
    "$c_{p_{air}}$：空気の比熱(J/(kg・K))  \n",
    "$\\rho_{air}$：空気の密度(kg/$m^3$)  \n"
   ]
  },
  {
   "cell_type": "code",
   "execution_count": 41,
   "metadata": {},
   "outputs": [],
   "source": [
    "def get_Thata_supply_d_t_i(Theta_sur_d_t_i, Theta_hs_out_d_t, Theta_star_HBR_d_t, l_duct_i,\n",
    "                                                   V_supply_d_t_i, L_star_H_d_t_i, L_star_CS_d_t_i, region):\n",
    "    \"\"\"(41-1)(41-2)(41-3)\n",
    "\n",
    "    :param Theta_sur_d_t_i:日付dの時刻tにおけるダクトiの周囲の空気温度（℃）\n",
    "    :param Theta_star_HBR_d_t:日付dの時刻tにおける負荷バランス時の居室の室温（℃）\n",
    "    :param l_duct_i:ダクトiの長さ（m）\n",
    "    :param V_supply_d_t_i:日付dの時刻tにおける暖冷房区画iの吹き出し風量（m3/h）\n",
    "    :param L_star_H_d_t_i:日付dの時刻tにおける暖冷房区画iの1時間当たりの熱損失を含む負荷バランス時の暖房負荷（MJ/h）\n",
    "    :param L_star_CS_d_t_i:\n",
    "    :param region:地域区分\n",
    "    :param Theta_hs_out_d_t:日付dの時刻tにおける熱源機の出口における空気温度（℃）\n",
    "    :return:日付dの時刻tにおける暖冷房区画iの吹き出し温度（℃）\n",
    "    \"\"\"\n",
    "    H, C, M = get_season_array_d_t(region)\n",
    "    c_p_air = get_c_p_air()\n",
    "    rho_air = get_rho_air()\n",
    "    phi_i = get_phi_i()\n",
    "\n",
    "    Thata_supply_d_t_i = np.zeros((5, 24 * 365))\n",
    "\n",
    "    f1 = np.logical_and(H, np.sum(L_star_H_d_t_i[:5, :], axis=0) > 0)\n",
    "    f2 = np.logical_and(H, np.sum(L_star_H_d_t_i[:5, :], axis=0) <= 0)\n",
    "    f3 = np.logical_and(C, np.sum(L_star_CS_d_t_i[:5, :], axis=0) > 0)\n",
    "    f4 = np.logical_and(C, np.sum(L_star_CS_d_t_i[:5, :], axis=0) <= 0)\n",
    "\n",
    "\n",
    "    # 暖房期 (41-1)\n",
    "    e_exp_H = -(phi_i[:, np.newaxis] * l_duct_i[:, np.newaxis] * 3600) / (c_p_air * rho_air * V_supply_d_t_i[:, f1])\n",
    "\n",
    "    Thata_supply_d_t_i[:, f1] = Theta_sur_d_t_i[:, f1] + (Theta_hs_out_d_t[f1] - Theta_sur_d_t_i[:, f1]) \\\n",
    "                             * np.exp(e_exp_H)\n",
    "\n",
    "    Thata_supply_d_t_i[:, f2] = Theta_star_HBR_d_t[f2]\n",
    "\n",
    "    # 冷房期 (41-2)\n",
    "    e_exp_C = -(phi_i[:, np.newaxis] * l_duct_i[:, np.newaxis] * 3600) / (c_p_air * rho_air * V_supply_d_t_i[:, f3])\n",
    "\n",
    "    Thata_supply_d_t_i[:, f3] = Theta_sur_d_t_i[:, f3] + (Theta_hs_out_d_t[f3] - Theta_sur_d_t_i[:, f3]) \\\n",
    "                             * np.exp(e_exp_C)\n",
    "\n",
    "    Thata_supply_d_t_i[:, f4] = Theta_star_HBR_d_t[f4]\n",
    "\n",
    "    # 中間期 (41-3)\n",
    "    Thata_supply_d_t_i[:, M] = Theta_star_HBR_d_t[M]\n",
    "\n",
    "    return Thata_supply_d_t_i"
   ]
  },
  {
   "cell_type": "markdown",
   "metadata": {},
   "source": [
    "#### 10.2 吹き出し絶対湿度"
   ]
  },
  {
   "cell_type": "markdown",
   "metadata": {},
   "source": [
    "暖房期："
   ]
  },
  {
   "cell_type": "markdown",
   "metadata": {},
   "source": [
    "$$\\large\n",
    "X_{supply,d,t,i}=X^*_{HBR,d,t}\n",
    "$$"
   ]
  },
  {
   "cell_type": "markdown",
   "metadata": {},
   "source": [
    "冷房期："
   ]
  },
  {
   "cell_type": "markdown",
   "metadata": {},
   "source": [
    "$$\\large\n",
    "X_{supply,d,t,i}=\\left\\{ \\begin{array}{ll}\n",
    "    X_{hs,out,d,t} &( \\sum^5_{i=1} L^*_{CL,d,t,i}>0)\\\\ \n",
    "    X^*_{HBR,d,t} &(\\sum^5_{i=1} L^*_{CL,d,t,i} \\leq 0)\\\\ \n",
    "    \\end{array}\n",
    "\\right.\n",
    "$$"
   ]
  },
  {
   "cell_type": "markdown",
   "metadata": {},
   "source": [
    "中間期："
   ]
  },
  {
   "cell_type": "markdown",
   "metadata": {},
   "source": [
    "$$\\large\n",
    "X_{supply,d,t,i}=X^*_{HBR,d,t}\n",
    "$$"
   ]
  },
  {
   "cell_type": "markdown",
   "metadata": {},
   "source": [
    "$L^*_{CL,d,t,i}$：日付$d$の時刻$t$における暖冷房区画$i$の 1 時間当たりの熱取得を含む負荷バランス時の冷房潜熱負荷(MJ/h)  \n",
    "$X^*_{HBR,d,t}$：日付$d$の時刻$t$における負荷バランス時の居室の絶対湿度(kg/kg(DA))  \n",
    "$X_{hs,out,d,t}$：日付$d$の時刻$t$における熱源機の出口における絶対湿度(kg/kg(DA))  \n",
    "$X_{supply,d,t,i}$：日付$d$の時刻$t$における暖冷房区画$i$の吹き出し絶対湿度(kg/kg(DA))  \n"
   ]
  },
  {
   "cell_type": "code",
   "execution_count": 42,
   "metadata": {},
   "outputs": [],
   "source": [
    "def get_X_supply_d_t_i(X_star_HBR_d_t, X_hs_out_d_t, L_star_CL_d_t_i, region):\n",
    "    \"\"\"(42-1)(42-2)\n",
    "\n",
    "    :param X_star_HBR_d_t:日付dの時刻tにおける負荷バランス時の居室の絶対湿度（kg/kg(DA)）\n",
    "    :param X_hs_out_d_t:日付dの時刻tにおける熱源機の出口における絶対湿度（kg/kg(DA)）\n",
    "    :param L_star_CL_d_t_i:日付dの時刻tにおける暖冷房区画iの1時間当たりの熱取得を含む負荷バランス時の冷房潜熱負荷（MJ/h）\n",
    "    :param region:地域区分\n",
    "    :return:日付dの時刻tにおける暖冷房区画iの吹き出し絶対湿度（kg/kg(DA)）\n",
    "    \"\"\"\n",
    "    H, C, M = get_season_array_d_t(region)\n",
    "    X_supply_d_t_i = np.zeros((5, 24 * 365))\n",
    "\n",
    "    # 暖房期および中間期 (42-1)\n",
    "    HM = np.logical_or(H, M)\n",
    "    X_supply_d_t_i[:, HM] = X_star_HBR_d_t[HM]\n",
    "\n",
    "    # 冷房期 (42-2)\n",
    "    f1 = np.logical_and(C, np.sum(L_star_CL_d_t_i[:5, :], axis=0) > 0)\n",
    "    f2 = np.logical_and(C, np.sum(L_star_CL_d_t_i[:5, :], axis=0) <= 0)\n",
    "\n",
    "    X_supply_d_t_i[:, f1] = X_hs_out_d_t[f1]\n",
    "    X_supply_d_t_i[:, f2] = X_star_HBR_d_t[f2]\n",
    "\n",
    "    return X_supply_d_t_i"
   ]
  },
  {
   "cell_type": "markdown",
   "metadata": {},
   "source": [
    "#### 10.3 吹き出し風量"
   ]
  },
  {
   "cell_type": "markdown",
   "metadata": {},
   "source": [
    "吹き出し風量$V_{supply,d,t,i}$は、VAV 調整前の吹き出し風量$V'_{supply,d,t,i}$を上回る場合は VAV 調整前の吹き出し風量$V'_{supply,d,t,i}$ に等しいとし、全般換気量$V_{vent,g,i}$を下回る場合は全般換気量$V_{vent,g,i}$に等しいとする。"
   ]
  },
  {
   "cell_type": "markdown",
   "metadata": {},
   "source": [
    "VAV の機構を有さない場合："
   ]
  },
  {
   "cell_type": "markdown",
   "metadata": {},
   "source": [
    "暖房期："
   ]
  },
  {
   "cell_type": "markdown",
   "metadata": {},
   "source": [
    "$$\\large\n",
    "V_{supply,d,t,i}=V'_{supply,d,t,i}\n",
    "$$"
   ]
  },
  {
   "cell_type": "markdown",
   "metadata": {},
   "source": [
    "冷房期："
   ]
  },
  {
   "cell_type": "markdown",
   "metadata": {},
   "source": [
    "$$\\large\n",
    "V_{supply,d,t,i}=V'_{supply,d,t,i}\n",
    "$$"
   ]
  },
  {
   "cell_type": "markdown",
   "metadata": {},
   "source": [
    "中間期："
   ]
  },
  {
   "cell_type": "markdown",
   "metadata": {},
   "source": [
    "$$\\large\n",
    "V_{supply,d,t,i}=V_{vent,g,i}\n",
    "$$"
   ]
  },
  {
   "cell_type": "markdown",
   "metadata": {},
   "source": [
    "VAV の機構を有する場合："
   ]
  },
  {
   "cell_type": "markdown",
   "metadata": {},
   "source": [
    "暖房期："
   ]
  },
  {
   "cell_type": "markdown",
   "metadata": {},
   "source": [
    "$$\\large\n",
    "V_{supply,d,t,i}=\\left\\{ \\begin{array}{ll}\n",
    "    \\frac{L^*_{H,d,t,i}\\times 10^{-6} + (\\theta_{hs,out,d,t}-\\theta_{sur,d,t,i})\\psi_{i}l_{duct,t}\\times 3600}{c_{p_{air}}\\rho_{air}(\\theta_{hs,out,d,t}-\\theta^*_{HBR,d,t})} &(\\theta_{hs,out,d,t} > \\theta^*_{HBR,d,t} and \\sum^5_{i=1} L^*_{H,d,t,i} > 0)\\\\ \n",
    "    V_{vent,g,i} &(\\theta_{hs,out,d,t} \\leq \\theta^*_{HBR,d,t} or \\sum^5_{i=1} L^*_{H,d,t,i}\\leq 0)\\\\ \n",
    "    \\end{array}\n",
    "\\right.\n",
    "$$"
   ]
  },
  {
   "cell_type": "markdown",
   "metadata": {},
   "source": [
    "冷房期："
   ]
  },
  {
   "cell_type": "markdown",
   "metadata": {},
   "source": [
    "$$\\large\n",
    "V_{supply,d,t,i}=\\left\\{ \\begin{array}{ll}\n",
    "    \\frac{L^*_{CS,d,t,i}\\times 10^{-6} + (\\theta_{sur,d,t}-\\theta_{hs,out,d,t})\\psi_{i}l_{duct,t}\\times 3600}{c_{p_{air}}\\rho_{air}(\\theta^*_{HBR,d,t}-\\theta_{hs,out,d,t})} &(\\theta_{hs,out,d,t} < \\theta^*_{HBR,d,t} and \\sum^5_{i=1} L^*_{CS,d,t,i} > 0)\\\\ \n",
    "    V_{vent,g,i} &(\\theta_{hs,out,d,t} \\geq \\theta^*_{HBR,d,t} or \\sum^5_{i=1} L^*_{CS,d,t,i}\\leq 0)\\\\ \n",
    "    \\end{array}\n",
    "\\right.\n",
    "$$"
   ]
  },
  {
   "cell_type": "markdown",
   "metadata": {},
   "source": [
    "中間期："
   ]
  },
  {
   "cell_type": "markdown",
   "metadata": {},
   "source": [
    "$$\\large\n",
    "V_{supply,d,t,i}=V_{vent,g,i}\n",
    "$$"
   ]
  },
  {
   "cell_type": "markdown",
   "metadata": {},
   "source": [
    "$L^*_{CS,d,t,i}$：日付$d$の時刻$t$における暖冷房区画$i$の 1 時間当たりの熱取得を含む負荷バランス時の冷房顕熱負荷(MJ/h)  \n",
    "$L^*_{H,d,t,i}$：日付$d$の時刻$t$における暖冷房区画$i$の 1 時間当たりの熱取得を含む負荷バランス時の暖房負荷(MJ/h)  \n",
    "$l_{duct,i}$：ダクト$i$の長さ(m)  \n",
    "$V_{supply,d,t,i}$：日付$d$の時刻$t$における暖冷房区画$i$の吹き出し風量($m^3$/h)  \n",
    "$V_{vent,g,i}$：暖冷房区画$i$の全般換気量($m^3$/h)  \n",
    "$V'_{supply,d,t,i}$：日付$d$の時刻$t$における暖冷房区画$i$のVAV調整前の吹き出し風量($m^3$/h)  \n",
    "$\\theta^*_{HBR,d,t}$：日付$d$の時刻$t$における負荷バランス時の居室の室温(℃)  \n",
    "$\\theta_{hs,out,d,t}$：日付$d$の時刻$t$における熱源機の出口における空気温度(℃)  \n",
    "$\\theta_{sur,d,t,i}$：日付$d$の時刻$t$におけるダクト$i$の周囲の空気温度(℃)  \n",
    "$\\psi_{i}$：ダクト$i$の線熱損失係数(W/(m・K))  \n",
    "$c_{p_{air}}$：空気の比熱(J/(kg・K))  \n",
    "$\\rho_{air}$：空気の密度(kg/$m^3$)  \n"
   ]
  },
  {
   "cell_type": "code",
   "execution_count": 43,
   "metadata": {},
   "outputs": [],
   "source": [
    "def get_V_supply_d_t_i(L_star_H_d_t_i, L_star_CS_d_t_i, Theta_sur_d_t_i, l_duct_i, Theta_star_HBR_d_t, V_vent_g_i,\n",
    "                       V_dash_supply_d_t_i, VAV, region, Theta_hs_out_d_t):\n",
    "    \"\"\"(43-1)(43-2)(43-3)(43-4)(43-5)\n",
    "\n",
    "    :param L_star_H_d_t_i:日付dの時刻tにおける暖冷房区画iの1時間当たりの熱取得を含む負荷バランス時の暖房負荷（MJ/h）\n",
    "    :param L_star_CS_d_t_i:日付dの時刻tにおける暖冷房区画iの1時間当たりの熱取得を含む負荷バランス時の冷房顕熱負荷（MJ/h）\n",
    "    :param Theta_sur_d_t_i:日付dの時刻tにおけるダクトiの周囲の空気温度（℃）\n",
    "    :param l_duct_i:ダクトiの長さ（m）\n",
    "    :param Theta_HBR_d_t:日付dの時刻tにおける負荷バランス時の居室の室温（℃）\n",
    "    :param V_vent_g_i:暖冷房区画iの全般換気量（m3/h）\n",
    "    :param V_dash_supply_d_t_i:日付dの時刻tにおける暖冷房区画iのVAV調整前の吹き出し風量（m3/h）\n",
    "    :param VAV:VAV\n",
    "    :param region:地域区分\n",
    "    :param Theta_hs_out_d_t:日付dの時刻tにおける熱源機の出口における空気温度（℃）\n",
    "    :return:日付dの時刻tにおける暖冷房区画iの吹き出し風量（m3/h）\n",
    "    \"\"\"\n",
    "    H, C, M = get_season_array_d_t(region)\n",
    "    c_p_air = get_c_p_air()\n",
    "    rho_air = get_rho_air()\n",
    "    phi_i = get_phi_i()\n",
    "    V_supply_d_t_i = np.zeros((5, 24 * 365))\n",
    "\n",
    "    V_vent_g_i = np.reshape(V_vent_g_i, (5, 1))\n",
    "    V_vent_g_i = V_vent_g_i.repeat(24 * 365, axis=1)\n",
    "\n",
    "    if VAV == True:\n",
    "\n",
    "        # 暖房期 (43-1)\n",
    "\n",
    "        f1 = np.logical_and(H, np.logical_and(Theta_hs_out_d_t > Theta_star_HBR_d_t,\n",
    "                                              np.sum(L_star_H_d_t_i[:5, :], axis=0) > 0))\n",
    "\n",
    "        term2_H = (Theta_hs_out_d_t[f1] - Theta_sur_d_t_i[:, f1]) * phi_i[:, np.newaxis] * l_duct_i[:, np.newaxis] * 3600\n",
    "\n",
    "        V_supply_d_t_i[:, f1] = (L_star_H_d_t_i[:, f1] * 10 ** 6 + term2_H) / \\\n",
    "                              (c_p_air * rho_air * (Theta_hs_out_d_t[f1] - Theta_star_HBR_d_t[f1]))\n",
    "\n",
    "        f2 = np.logical_and(H, np.logical_or(Theta_hs_out_d_t <= Theta_star_HBR_d_t, np.sum(L_star_H_d_t_i[:5, :], axis=0) <= 0))\n",
    "\n",
    "        V_supply_d_t_i[:, f2] = V_vent_g_i[:, f2]\n",
    "\n",
    "        # 冷房期 (43-2)\n",
    "        f3 = np.logical_and(C, np.logical_and(Theta_hs_out_d_t < Theta_star_HBR_d_t,\n",
    "                                              np.sum(L_star_CS_d_t_i[:5, :], axis=0) > 0))\n",
    "\n",
    "        term2_C = (Theta_sur_d_t_i[:, f3] - Theta_hs_out_d_t[f3]) * phi_i[:, np.newaxis] * l_duct_i[:, np.newaxis] * 3600\n",
    "\n",
    "        V_supply_d_t_i[:, f3] = (L_star_CS_d_t_i[:, f3] * 10 ** 6 + term2_C) / \\\n",
    "                              (c_p_air * rho_air * (Theta_star_HBR_d_t[f3] - Theta_hs_out_d_t[f3]))\n",
    "\n",
    "        f4 = np.logical_and(C, np.logical_or(Theta_hs_out_d_t >= Theta_star_HBR_d_t,\n",
    "                                             np.sum(L_star_CS_d_t_i[:5, :], axis=0) <= 0))\n",
    "\n",
    "        V_supply_d_t_i[:, f4] = V_vent_g_i[:, f4]\n",
    "\n",
    "        # 中間期 (43-3)\n",
    "        V_supply_d_t_i[:, M] = V_vent_g_i[:, M]\n",
    "\n",
    "    elif VAV == False:\n",
    "\n",
    "        # 暖房期および冷房期 (43-4)\n",
    "        HC = np.logical_or(H, C)\n",
    "        V_supply_d_t_i[:, HC] = V_dash_supply_d_t_i[:, HC]\n",
    "\n",
    "        # 中間期 (43-5)\n",
    "        V_supply_d_t_i[:, M] = V_vent_g_i[:, M]\n",
    "    else:\n",
    "        raise ValueError(VAV)\n",
    "\n",
    "    # 吹き出し風量V_(supply,d,t,i)は、VAV調整前の吹き出し風量V_(supply,d,t,i)^'を上回る場合はVAV調整前の \\\n",
    "    # 吹き出し風量V_(supply,d,t,i)^'に等しいとし、全般換気量V_(vent,g,i)を下回る場合は全般換気量V_(vent,g,i)に等しいとする\n",
    "    V_supply_d_t_i = np.clip(V_supply_d_t_i, V_vent_g_i, V_dash_supply_d_t_i)\n",
    "\n",
    "    return V_supply_d_t_i"
   ]
  },
  {
   "cell_type": "markdown",
   "metadata": {},
   "source": [
    "#### 10.4 VAV 調整前の吹き出し風量"
   ]
  },
  {
   "cell_type": "markdown",
   "metadata": {},
   "source": [
    "$$\\large\n",
    "V'_{supply,d,t,i}=max(r_{supply,des,i}V'_{hs,supply,d,t},V_{vent,g,i})\n",
    "$$"
   ]
  },
  {
   "cell_type": "markdown",
   "metadata": {},
   "source": [
    "$r_{supply,des,i}$：暖冷房区画$i$の風量バランス(-)  \n",
    "$V_{vent,g,i}$：暖冷房区画$i$の全般換気量($m^3$/h)  \n",
    "$V'_{supply,d,t,i}$：日付$d$の時刻$t$における暖冷房区画$i$のVAV調整前の吹き出し風量($m^3$/h)  \n",
    "$V'_{hs,supply,d,t}$：日付$d$の時刻$t$におけるVAV 調整前の熱源機の風量($m^3$/h)  \n"
   ]
  },
  {
   "cell_type": "code",
   "execution_count": 44,
   "metadata": {},
   "outputs": [],
   "source": [
    "def get_V_dash_supply_d_t_i(r_supply_des_i, V_dash_hs_supply_d_t, V_vent_g_i):\n",
    "    \"\"\"(44)\n",
    "\n",
    "    :param r_supply_des_i:暖冷房区画iの風量バランス（-）\n",
    "    :param V_dash_hs_supply_d_t:日付dの時刻tにおける暖冷房区画iのVAV調整前の吹き出し風量（m3/h）\n",
    "    :param V_vent_g_i:暖冷房区画iの全般換気量（m3/h）\n",
    "    :return:日付dの時刻tにおけるVAV調整前の熱源機の風量（m3/h）\n",
    "    \"\"\"\n",
    "    return np.maximum(r_supply_des_i[:5, np.newaxis] * V_dash_hs_supply_d_t, V_vent_g_i[:5, np.newaxis])"
   ]
  },
  {
   "cell_type": "markdown",
   "metadata": {},
   "source": [
    "$$\\large\n",
    "r_{supply,des,i}=\\frac{A_{HCZ,i}}{\\sum^5_{i=1}A_{HCZ,i}}\n",
    "$$"
   ]
  },
  {
   "cell_type": "markdown",
   "metadata": {},
   "source": [
    "$A_{HCZ,i}$：暖冷房区画$i$の床面積($m^2$)  \n",
    "$r_{supply,des,i}$：暖冷房区画$i$の風量バランス(-)  \n"
   ]
  },
  {
   "cell_type": "code",
   "execution_count": 45,
   "metadata": {},
   "outputs": [],
   "source": [
    "def get_r_supply_des_i(A_HCZ_i):\n",
    "    \"\"\"(45)\n",
    "\n",
    "    :param A_HCZ_i:暖冷房区画iの床面積（m2）\n",
    "    :return:暖冷房区画iの風量バランス（-）\n",
    "    \"\"\"\n",
    "    return A_HCZ_i / np.sum(A_HCZ_i[:5])"
   ]
  },
  {
   "cell_type": "markdown",
   "metadata": {},
   "source": [
    "### 11. 暖冷房区画"
   ]
  },
  {
   "cell_type": "markdown",
   "metadata": {},
   "source": [
    "#### 11.1 実際の居室の室温・絶対湿度"
   ]
  },
  {
   "cell_type": "markdown",
   "metadata": {},
   "source": [
    "暖冷房区画$i$の実際の居室の室温$\\theta_{HBR,d,t,i}$は、暖房期において負荷バランス時の居室の室温$\\theta^*_{HBR,d,t}$を下回る場合、負荷バランス時の居室の室温$\\theta^*_{HBR,d,t}$に等しいとし、また、冷房期において負荷バランス時の居室の室温$\\theta^*_{HBR,d,t}$を上回る場合、負荷バランス時の居室の室温$\\theta^*_{HBR,d,t}$に等しい。"
   ]
  },
  {
   "cell_type": "markdown",
   "metadata": {},
   "source": [
    "暖房期："
   ]
  },
  {
   "cell_type": "markdown",
   "metadata": {},
   "source": [
    "$$\\large\n",
    "\\theta_{HBR,d,t,i}=\\theta^*_{HBR,d,t}+\\frac{c_{p_{air}}\\rho_{air}V_{supply,d,t,i}(\\theta_{supply,d,t,i}-\\theta^*_{HBR,d,t})-L^*_{H,d,t,i}\\times 10^6}{c_{p_{air}}\\rho_{air}V_{supply,d,t,i}+(U_{prt}A_{prt,i}+QA_{HCZ,i})\\times 3600}\n",
    "$$"
   ]
  },
  {
   "cell_type": "markdown",
   "metadata": {},
   "source": [
    "冷房期："
   ]
  },
  {
   "cell_type": "markdown",
   "metadata": {},
   "source": [
    "$$\\large\n",
    "\\theta_{HBR,d,t,i}=\\theta^*_{HBR,d,t}-\\frac{c_{p_{air}}\\rho_{air}V_{supply,d,t,i}(\\theta^*_{HBR,d,t}-\\theta_{supply,d,t,i})-L^*_{CS,d,t,i}\\times 10^6}{c_{p_{air}}\\rho_{air}V_{supply,d,t,i}+(U_{prt}A_{prt,i}+QA_{HCZ,i})\\times 3600}\n",
    "$$"
   ]
  },
  {
   "cell_type": "markdown",
   "metadata": {},
   "source": [
    "中間期："
   ]
  },
  {
   "cell_type": "markdown",
   "metadata": {},
   "source": [
    "$$\\large\n",
    "\\theta_{HBR,d,t,i}=\\theta^*_{HBR,d,t}\n",
    "$$"
   ]
  },
  {
   "cell_type": "markdown",
   "metadata": {},
   "source": [
    "$A_{HCZ,i}$：暖冷房区画$i$の床面積($m^2$)  \n",
    "$A_{prt,i}$：暖冷房区画$i$から見た非居室の間仕切りの面積($m^2$)  \n",
    "$L^*_{CS,d,t,i}$：日付$d$の時刻$t$における暖冷房区画$i$の 1 時間当たりの熱取得を含む負荷バランス時の冷房顕熱負荷(MJ/h)  \n",
    "$L^*_{H,d,t,i}$：日付$d$の時刻$t$における暖冷房区画$i$の 1 時間当たりの熱取得を含む負荷バランス時の暖房負荷(MJ/h)  \n",
    "$Q$：当該住戸の熱損失係数(W/($m^2$・K))  \n",
    "$U_{prt}$：間仕切りの熱貫流率(W/($m^2$・K))  \n",
    "$V_{supply,d,t,i}$：日付$d$の時刻$t$における暖冷房区画$i$の吹き出し風量($m^3$/h)  \n",
    "$\\theta_{HBR,d,t,i}$：日付$d$の時刻$t$における暖冷房区画$i$の実際の居室の室温(℃)  \n",
    "$\\theta_{supply,d,t,i}$：日付$d$の時刻$t$における暖冷房区画$i$の吹き出し温度(℃)  \n",
    "$\\theta^*_{HBR,d,t}$：日付$d$の時刻$t$における負荷バランス時の居室の室温(℃)  \n",
    "$c_{p_{air}}$：空気の比熱(J/(kg・K))  \n",
    "$\\rho_{air}$：空気の密度(kg/$m^3$)  \n"
   ]
  },
  {
   "cell_type": "code",
   "execution_count": 46,
   "metadata": {},
   "outputs": [],
   "source": [
    "def get_Theta_HBR_d_t_i(Theta_star_HBR_d_t, V_supply_d_t_i, Theta_supply_d_t_i, U_prt, A_prt_i, Q, A_HCZ_i, L_star_H_d_t_i, L_star_CS_d_t_i, region):\n",
    "    \"\"\"(46-1)(46-2)(46-3)\n",
    "\n",
    "    :param Theta_star_HBR_d_t:日付dの時刻tにおける負荷バランス時の居室の室温（℃）\n",
    "    :param V_supply_d_t_i:日付dの時刻tにおける暖冷房区画iの吹き出し風量（m3/h）\n",
    "    :param Theta_supply_d_t_i:日付dの時刻tにおける負荷バランス時の居室の室温（℃）\n",
    "    :param U_prt:間仕切りの熱貫流率（W/(m2・K)）\n",
    "    :param A_prt_i:暖冷房区画iから見た非居室の間仕切りの面積（m2）\n",
    "    :param Q:当該住戸の熱損失係数（W/(m2・K)）\n",
    "    :param A_HCZ_i:暖冷房区画iの床面積（m2）\n",
    "    :param L_star_H_d_t_i:日付dの時刻tにおける暖冷房区画iの1時間当たりの間仕切りの熱取得を含む実際の暖房負荷（MJ/h）\n",
    "    :param L_star_CS_d_t_i:日付dの時刻tにおける暖冷房区画iの1時間当たりの間仕切りの熱取得を含む実際の冷房顕熱負荷（MJ/h）\n",
    "    :param region:地域区分\n",
    "    :return:\n",
    "    \"\"\"\n",
    "    H, C, M = get_season_array_d_t(region)\n",
    "    c_p_air = get_c_p_air()\n",
    "    rho_air = get_rho_air()\n",
    "\n",
    "    Theta_HBR_d_t_i = np.zeros((5, 24 * 365))\n",
    "    # A_HCZ_i = np.reshape(A_HCZ_i, (5, 0))\n",
    "\n",
    "    # 暖房期 (46-1)\n",
    "    Theta_HBR_d_t_i[:, H] = Theta_star_HBR_d_t[H] + (c_p_air * rho_air * V_supply_d_t_i[:, H] * \\\n",
    "                                                    (Theta_supply_d_t_i[:, H] - Theta_star_HBR_d_t[H]) - L_star_H_d_t_i[:, H] * 10 ** 6) / \\\n",
    "                         (c_p_air * rho_air * V_supply_d_t_i[:, H] + (U_prt * A_prt_i[:, np.newaxis] + Q * A_HCZ_i[:, np.newaxis]) * 3600)\n",
    "\n",
    "    # 暖冷房区画iの実際の居室の室温θ_(HBR,d,t,i)は、暖房期において負荷バランス時の居室の室温θ_(HBR,d,t)^*を下回る場合、\n",
    "    # 負荷バランス時の居室の室温θ_(HBR,d,t)^*に等しい\n",
    "    Theta_HBR_d_t_i[:, H] = np.clip(Theta_HBR_d_t_i[:, H], Theta_star_HBR_d_t[H], None)\n",
    "\n",
    "    # 冷房期 (46-2)\n",
    "    Theta_HBR_d_t_i[:, C] = Theta_star_HBR_d_t[C] - (c_p_air * rho_air * V_supply_d_t_i[:, C] * \\\n",
    "                                                    (Theta_star_HBR_d_t[C] - Theta_supply_d_t_i[:, C]) - L_star_CS_d_t_i[:, C] * 10 ** 6) / \\\n",
    "                         (c_p_air * rho_air * V_supply_d_t_i[:, C] + (U_prt * A_prt_i[:, np.newaxis] + Q * A_HCZ_i[:, np.newaxis]) * 3600)\n",
    "\n",
    "    # 冷房期において負荷バランス時の居室の室温θ_(HBR,d,t)^*を上回る場合、負荷バランス時の居室の室温θ_(HBR,d,t)^*に等しい\n",
    "    Theta_HBR_d_t_i[:, C] = np.clip(Theta_HBR_d_t_i[:, C], None, Theta_star_HBR_d_t[C])\n",
    "\n",
    "    # 中間期 (46-3)\n",
    "    Theta_HBR_d_t_i[:, M] = Theta_star_HBR_d_t[M]\n",
    "\n",
    "    return Theta_HBR_d_t_i"
   ]
  },
  {
   "cell_type": "markdown",
   "metadata": {},
   "source": [
    "$$\\large\n",
    "X_{HBR,d,t,i}=X^*_{HBR,d,t}\n",
    "$$"
   ]
  },
  {
   "cell_type": "markdown",
   "metadata": {},
   "source": [
    "$X_{HBR,d,t,i}$：日付$d$の時刻$t$における暖冷房区画$i$の実際の居室の絶対湿度(kg/kg(DA))  \n",
    "$X^*_{HBR,d,t}$：日付$d$の時刻$t$における負荷バランス時の居室の絶対湿度(kg/kg(DA))  \n"
   ]
  },
  {
   "cell_type": "code",
   "execution_count": 47,
   "metadata": {},
   "outputs": [],
   "source": [
    "def get_X_HBR_d_t_i(X_star_HBR_d_t):\n",
    "    \"\"\"(47)\n",
    "\n",
    "    :param X_star_HBR_d_t:日付dの時刻tにおける負荷バランス時の居室の絶対湿度（kg/kg(DA)）\n",
    "    :return:日付dの時刻tにおける暖冷房区画iの実際の居室の絶対湿度（kg/kg(DA)）\n",
    "    \"\"\"\n",
    "    X_star_HBR_d_t_i = np.tile(X_star_HBR_d_t, (5, 1))\n",
    "    return X_star_HBR_d_t_i"
   ]
  },
  {
   "cell_type": "markdown",
   "metadata": {},
   "source": [
    "#### 11.2 実際の非居室の室温・絶対湿度"
   ]
  },
  {
   "cell_type": "markdown",
   "metadata": {},
   "source": [
    "$$\\large\n",
    "\\theta_{NR,d,t}=\\theta^*_{NR,d,t}+\\frac{-\\sum^5_{i=1}k'_{prt,d,t,i}(\\theta'_{HBR,d,t}-\\theta^*_{NR,d,t})+\\sum^5_{i=1}k_{prt,d,t,i}(\\theta_{HBR,d,t,i}-\\theta^*_{NR,d,t})}{k_{evp,d,t}+\\sum^5_{i=1}k_{prt,d,t,i}}\n",
    "$$"
   ]
  },
  {
   "cell_type": "markdown",
   "metadata": {},
   "source": [
    "$$\\large\n",
    "k_{evp,d,t}=(Q-0.35\\times 0.5\\times 2.4)A_{NR}+c_{p_{air}}\\rho_{air}\\frac{V_{vent,l,NR,d,t}}{3600}\n",
    "$$"
   ]
  },
  {
   "cell_type": "markdown",
   "metadata": {},
   "source": [
    "$$\\large\n",
    "k_{prt,d,t,i}=c_{p_{air}}\\rho_{air}\\frac{V_{supply,d,t}}{3600}+U_{prt}A_{prt,i}\n",
    "$$"
   ]
  },
  {
   "cell_type": "markdown",
   "metadata": {},
   "source": [
    "$$\\large\n",
    "k'_{prt,d,t,i}=c_{p_{air}}\\rho_{air}\\frac{V'_{supply,d,t}}{3600}+U_{prt}A_{prt,i}\n",
    "$$"
   ]
  },
  {
   "cell_type": "markdown",
   "metadata": {},
   "source": [
    "$A_{NR}$：非居室の床面積($m^2$)  \n",
    "$A_{prt,i}$：暖冷房区画$i$から見た非居室の間仕切りの面積($m^2$)  \n",
    "$Q$：当該住戸の熱損失係数(W/($m^2$・K))  \n",
    "$U_{prt}$：間仕切りの熱貫流率(W/($m^2$・K))  \n",
    "$V_{supply,d,t,i}$：日付$d$の時刻$t$における暖冷房区画$i$の吹き出し風量($m^3$/h)  \n",
    "$V_{vent,l,NR,d,t}$：日付$d$の時刻$t$における非居室の局所換気量($m^3$/h)  \n",
    "$V'_{supply,d,t,i}$：日付$d$の時刻$t$における暖冷房区画$i$のVAV調整前の吹き出し風量($m^3$/h)  \n",
    "$\\theta_{HBR,d,t,i}$：日付$d$の時刻$t$における暖冷房区画$i$の実際の居室の室温(℃)  \n",
    "$\\theta_{NR,d,t}$：日付$d$の時刻$t$における実際の非居室の室温(℃)  \n",
    "$\\theta^*_{HBR,d,t}$：日付$d$の時刻$t$における負荷バランス時の居室の室温(℃)  \n",
    "$\\theta^*_{NR,d,t}$：日付$d$の時刻$t$における負荷バランス時の非居室の室温(℃)  \n",
    "$c_{p_{air}}$：空気の比熱(J/(kg・K))  \n",
    "$\\rho_{air}$：空気の密度(kg/$m^3$)  \n"
   ]
  },
  {
   "cell_type": "code",
   "execution_count": 48,
   "metadata": {},
   "outputs": [],
   "source": [
    "def get_Theta_NR_d_t(Theta_star_NR_d_t, Theta_star_HBR_d_t, Theta_HBR_d_t_i, A_NR, V_vent_l_NR_d_t, V_dash_supply_d_t_i, V_supply_d_t_i, U_prt, A_prt_i, Q):\n",
    "    \"\"\"(48a)(48b)(48c)(48d)\n",
    "\n",
    "    :param Theta_star_NR_d_t:日付dの時刻tにおける実際の非居室の室温（℃）\n",
    "    :param Theta_star_HBR_d_t:日付dの時刻tにおける負荷バランス時の居室の室温（℃）\n",
    "    :param Theta_HBR_d_t_i:日付dの時刻tにおける暖冷房区画iの実際の居室の室温（℃）\n",
    "    :param A_NR:非居室の床面積（m2）\n",
    "    :param V_vent_l_NR_d_t:日付dの時刻tにおける非居室の局所換気量（m3/h）\n",
    "    :param V_dash_supply_d_t_i:日付dの時刻tにおける暖冷房区画iのVAV調整前の吹き出し風量（m3/h）\n",
    "    :param V_supply_d_t_i:日付dの時刻tにおける暖冷房区画iの吹き出し風量（m3/h）\n",
    "    :param U_prt:間仕切りの熱貫流率（W/(m2・K)）\n",
    "    :param A_prt_i:暖冷房区画iから見た非居室の間仕切りの面積（m2）\n",
    "    :param Q:当該住戸の熱損失係数（W/(m2・K)）\n",
    "    :return:日付dの時刻tにおける実際の非居室の室温\n",
    "    \"\"\"\n",
    "    c_p_air = get_c_p_air()\n",
    "    rho_air = get_rho_air()\n",
    "\n",
    "    # (48d)\n",
    "    k_dash_d_t_i = c_p_air * rho_air * (V_dash_supply_d_t_i / 3600) + U_prt * A_prt_i[:, np.newaxis]\n",
    "\n",
    "    # (48c)\n",
    "    k_prt_d_t_i = c_p_air * rho_air * (V_supply_d_t_i / 3600) + U_prt * A_prt_i[:, np.newaxis]\n",
    "\n",
    "    # (48b)\n",
    "    k_evp_d_t = (Q - 0.35 * 0.5 * 2.4) * A_NR + c_p_air * rho_air * (V_vent_l_NR_d_t / 3600)\n",
    "\n",
    "    # (48a)\n",
    "    Theta_NR_d_t = Theta_star_NR_d_t + (-1 * np.sum(k_dash_d_t_i[:5] * (Theta_star_HBR_d_t - Theta_star_NR_d_t), axis=0) + \\\n",
    "                   np.sum(k_prt_d_t_i[:5] * (Theta_HBR_d_t_i[:5] - Theta_star_NR_d_t), axis=0)) / \\\n",
    "                   (k_evp_d_t + np.sum(k_prt_d_t_i[:5], axis=0))\n",
    "\n",
    "    return Theta_NR_d_t"
   ]
  },
  {
   "cell_type": "markdown",
   "metadata": {},
   "source": [
    "$$\\large\n",
    "X_{NR,d,t}=X^*_{NR,d,t}\n",
    "$$"
   ]
  },
  {
   "cell_type": "markdown",
   "metadata": {},
   "source": [
    "$X_{NR,d,t}$：日付$d$の時刻$t$における実際の非居室の絶対湿度(kg/kg(DA))  \n",
    "$X^*_{NR,d,t}$：日付$d$の時刻$t$における非居室の負荷バランス時の絶対湿度(kg/kg(DA))  \n"
   ]
  },
  {
   "cell_type": "code",
   "execution_count": 49,
   "metadata": {},
   "outputs": [],
   "source": [
    "def get_X_NR_d_t(X_star_NR_d_t):\n",
    "    \"\"\"(49)\n",
    "\n",
    "    :param X_star_NR_d_t:日付dの時刻tにおける非居室の負荷バランス時の絶対湿度（kg/kg(DA)）\n",
    "    :return:日付dの時刻tにおける実際の非居室の絶対湿度（kg/kg(DA)）\n",
    "    \"\"\"\n",
    "    return X_star_NR_d_t"
   ]
  },
  {
   "cell_type": "markdown",
   "metadata": {},
   "source": [
    "#### 11.3 負荷バランス時の居室の室温・絶対湿度"
   ]
  },
  {
   "cell_type": "markdown",
   "metadata": {},
   "source": [
    "暖房期："
   ]
  },
  {
   "cell_type": "markdown",
   "metadata": {},
   "source": [
    "$$\\large\n",
    "\\theta^*_{HBR,d,t}=\\theta_{set,H}\n",
    "$$"
   ]
  },
  {
   "cell_type": "markdown",
   "metadata": {},
   "source": [
    "冷房期："
   ]
  },
  {
   "cell_type": "markdown",
   "metadata": {},
   "source": [
    "$$\\large\n",
    "\\theta^*_{HBR,d,t}=\\theta_{set,C}\n",
    "$$"
   ]
  },
  {
   "cell_type": "markdown",
   "metadata": {},
   "source": [
    "中間期："
   ]
  },
  {
   "cell_type": "markdown",
   "metadata": {},
   "source": [
    "$$\\large\n",
    "\\theta^*_{HBR,d,t}=\\left\\{ \\begin{array}{ll}\n",
    "    \\theta_{ex,d,t} &(\\theta_{set,H} \\leq \\theta_{ex,d,t} \\leq \\theta_{set,C})\\\\ \n",
    "    \\theta_{set,C} &(\\theta_{ex,d,t} > \\theta_{set,C})\\\\ \n",
    "    \\theta_{set,H} &(\\theta_{ex,d,t} < \\theta_{set,H})\\\\ \n",
    "    \\end{array}\n",
    "\\right.\n",
    "$$"
   ]
  },
  {
   "cell_type": "markdown",
   "metadata": {},
   "source": [
    "$\\theta_{ex,d,t}$：日付$d$の時刻$t$における外気温度(℃)  \n",
    "$\\theta^*_{HBR,d,t}$：日付$d$の時刻$t$における負荷バランス時の居室の室温(℃)  \n",
    "$\\theta_{set,C}$：冷房時の設定温度(℃)  \n",
    "$\\theta_{set,H}$：暖房時の設定温度(℃)  \n"
   ]
  },
  {
   "cell_type": "code",
   "execution_count": 50,
   "metadata": {},
   "outputs": [],
   "source": [
    "def get_Theta_star_HBR_d_t(Theta_ex_d_t, region):\n",
    "    \"\"\"(50-1)(50-2)(50-3)\n",
    "\n",
    "    :param Theta_ex_d_t:日付dの時刻tにおける外気温度（℃）\n",
    "    :param region:地域区分\n",
    "    :return:日付dの時刻tにおける負荷バランス時の居室の室温（℃）\n",
    "    \"\"\"\n",
    "    H, C, M = get_season_array_d_t(region)\n",
    "    Theta_set_H = get_Theta_set_H()\n",
    "    Theta_set_C = get_Theta_set_C()\n",
    "\n",
    "    Theta_star_HBR_d_t = np.zeros(24 * 365)\n",
    "\n",
    "    # 暖房期\n",
    "    Theta_star_HBR_d_t[H] = Theta_set_H\n",
    "\n",
    "    # 冷房期\n",
    "    Theta_star_HBR_d_t[C] = Theta_set_C\n",
    "\n",
    "    # 中間期\n",
    "    f1 = np.logical_and(M, np.logical_and(Theta_set_H <= Theta_ex_d_t, Theta_ex_d_t<= Theta_set_C))\n",
    "    Theta_star_HBR_d_t[f1] = Theta_ex_d_t[f1]\n",
    "\n",
    "    f2 = np.logical_and(M, Theta_ex_d_t > Theta_set_C)\n",
    "    Theta_star_HBR_d_t[f2] = Theta_set_C\n",
    "\n",
    "    f3 = np.logical_and(M, Theta_ex_d_t < Theta_set_H)\n",
    "    Theta_star_HBR_d_t[f3] = Theta_set_H\n",
    "\n",
    "    return Theta_star_HBR_d_t"
   ]
  },
  {
   "cell_type": "markdown",
   "metadata": {},
   "source": [
    "暖房期："
   ]
  },
  {
   "cell_type": "markdown",
   "metadata": {},
   "source": [
    "$$\\large\n",
    "X^*_{HBR,d,t}=X_{ex,d,t}\n",
    "$$"
   ]
  },
  {
   "cell_type": "markdown",
   "metadata": {},
   "source": [
    "冷房期："
   ]
  },
  {
   "cell_type": "markdown",
   "metadata": {},
   "source": [
    "$$\\large\n",
    "X^*_{HBR,d,t}=X_{set,C}\n",
    "$$"
   ]
  },
  {
   "cell_type": "markdown",
   "metadata": {},
   "source": [
    "中間期："
   ]
  },
  {
   "cell_type": "markdown",
   "metadata": {},
   "source": [
    "$$\\large\n",
    "X^*_{HBR,d,t}=X_{ex,d,t}\n",
    "$$"
   ]
  },
  {
   "cell_type": "markdown",
   "metadata": {},
   "source": [
    "$X_{ex,d,t}$：日付$d$の時刻$t$における外気絶対湿度(kg/kg(DA))  \n",
    "$X^*_{HBR,d,t}$：日付$d$の時刻$t$における負荷バランス時の居室の絶対湿度(kg/kg(DA))  \n",
    "$X_{set,C}$：冷房時の設定絶対湿度(kg/kg(DA))  \n"
   ]
  },
  {
   "cell_type": "code",
   "execution_count": 51,
   "metadata": {},
   "outputs": [],
   "source": [
    "def get_X_star_HBR_d_t(X_ex_d_t, region):\n",
    "    \"\"\"(51-1)(51-2)(51-3)\n",
    "\n",
    "    :param X_ex_d_t:日付dの時刻tにおける外気絶対湿度（kg/kg(DA)）\n",
    "    :param region:地域区分\n",
    "    :return:日付dの時刻tにおける負荷バランス時の居室の絶対湿度（kg/kg(DA)）\n",
    "    \"\"\"\n",
    "    H, C, M = get_season_array_d_t(region)\n",
    "    X_set_C = get_X_set_C()\n",
    "\n",
    "    X_star_HBR_d_t = np.zeros(24 * 365)\n",
    "\n",
    "    # 暖房期\n",
    "    X_star_HBR_d_t[H] = X_ex_d_t[H]\n",
    "\n",
    "    # 冷房期\n",
    "    X_star_HBR_d_t[C] = X_set_C\n",
    "\n",
    "    # 中間期\n",
    "    X_star_HBR_d_t[M] = X_ex_d_t[M]\n",
    "\n",
    "    return X_star_HBR_d_t"
   ]
  },
  {
   "cell_type": "markdown",
   "metadata": {},
   "source": [
    "#### 11.4 負荷バランス時の非居室の室温・絶対湿度"
   ]
  },
  {
   "cell_type": "markdown",
   "metadata": {},
   "source": [
    "暖房期："
   ]
  },
  {
   "cell_type": "markdown",
   "metadata": {},
   "source": [
    "$$\\large\n",
    "\\theta^*_{NR,d,t}=\\\\\n",
    "\\theta^*_{HBR,d,t}-\\frac{\\sum^{12}_{i=6}L_{H,d,t,i}}{(Q-0.35\\times0.5\\times2.4)A_{NR}+c_{p_{air}}\\rho_{air}\\frac{V_{vent,l,NR,d,t}}{3600}+\\sum^5_{i=1}(c_{p_{air}}\\rho_{air}\\frac{V'_{supply,d,t,i}}{3600}+U_{prt}A_{prt,i})}\\times \\frac{10^6}{3600}\n",
    "$$"
   ]
  },
  {
   "cell_type": "markdown",
   "metadata": {},
   "source": [
    "冷房期："
   ]
  },
  {
   "cell_type": "markdown",
   "metadata": {},
   "source": [
    "$$\\large\n",
    "\\theta^*_{NR,d,t}=\\\\\n",
    "\\theta^*_{HBR,d,t}-\\frac{\\sum^{12}_{i=6}L_{CS,d,t,i}}{(Q-0.35\\times0.5\\times2.4)A_{NR}+c_{p_{air}}\\rho_{air}\\frac{V_{vent,l,NR,d,t}}{3600}+\\sum^5_{i=1}(c_{p_{air}}\\rho_{air}\\frac{V'_{supply,d,t,i}}{3600}+U_{prt}A_{prt,i})}\\times \\frac{10^6}{3600}\n",
    "$$"
   ]
  },
  {
   "cell_type": "markdown",
   "metadata": {},
   "source": [
    "中間期："
   ]
  },
  {
   "cell_type": "markdown",
   "metadata": {},
   "source": [
    "$$\\large\n",
    "\\theta^*_{NR,d,t}=\\theta^*_{HBR,d,t}\n",
    "$$"
   ]
  },
  {
   "cell_type": "markdown",
   "metadata": {},
   "source": [
    "$A_{NR}$：非居室の床面積($m^2$)  \n",
    "$A_{prt,i}$：暖冷房区画$i$から見た非居室の間仕切りの面積($m^2$)  \n",
    "$L_{CS,d,t,i}$：日付$d$の時刻$t$における暖冷房区画$i$の 1 時間当たりの冷房顕熱負荷(MJ/h)  \n",
    "$L_{H,d,t,i}$：日付$d$の時刻$t$における暖冷房区画$i$の 1 時間当たりの暖房負荷(MJ/h)  \n",
    "$Q$：当該住戸の熱損失係数(W/($m^2$・K))  \n",
    "$U_{prt}$：間仕切りの熱貫流率(W/($m^2$・K))  \n",
    "$V_{vent,l,NR,d,t}$：日付$d$の時刻$t$における非居室の局所換気量($m^3$/h)  \n",
    "$V'_{supply,d,t,i}$：日付$d$の時刻$t$における暖冷房区画$i$のVAV調整前の吹き出し風量($m^3$/h)  \n",
    "$\\theta^*_{HBR,d,t}$：日付$d$の時刻$t$における負荷バランス時の居室の室温(℃)  \n",
    "$\\theta^*_{NR,d,t}$：日付$d$の時刻$t$における負荷バランス時の非居室の室温(℃)  \n",
    "$c_{p_{air}}$：空気の比熱(J/(kg・K))  \n",
    "$\\rho_{air}$：空気の密度(kg/$m^3$)  \n"
   ]
  },
  {
   "cell_type": "code",
   "execution_count": 52,
   "metadata": {},
   "outputs": [],
   "source": [
    "def get_Theta_star_NR_d_t(Theta_star_HBR_d_t, Q, A_NR, V_vent_l_NR_d_t, V_dash_supply_d_t_i, U_prt, A_prt_i, L_H_d_t_i, L_CS_d_t_i, region):\n",
    "    \"\"\"(52-1)(52-2)(52-3)\n",
    "\n",
    "    :param Theta_star_HBR_d_t:日付dの時刻tにおける負荷バランス時の居室の室温（℃）\n",
    "    :param Q:当該住戸の熱損失係数（W/(m2・K)）\n",
    "    :param A_NR:非居室の床面積（m2）\n",
    "    :param V_vent_l_NR_d_t:日付dの時刻tにおける非居室の局所換気量（m3/h）\n",
    "    :param V_dash_supply_d_t_i:日付dの時刻tにおける暖冷房区画iのVAV調整前の吹き出し風量（m3/h）\n",
    "    :param U_prt:間仕切りの熱貫流率（W/(m2・K)）\n",
    "    :param A_prt_i:暖冷房区画iから見た非居室の間仕切りの面積（m2）\n",
    "    :param L_H_d_t_i:日付dの時刻tにおける暖冷房区画iの1時間当たりの暖房負荷（MJ/h）\n",
    "    :param L_CS_d_t_i:日付dの時刻tにおける暖冷房区画iの1時間当たりの冷房顕熱負荷（MJ/h）\n",
    "    :param region:地域区分\n",
    "    :return:日付dの時刻tにおける負荷バランス時の非居室の室温（℃）\n",
    "    \"\"\"\n",
    "    H, C, M = get_season_array_d_t(region)\n",
    "    c_p_air = get_c_p_air()\n",
    "    rho_air = get_rho_air()\n",
    "\n",
    "    Theta_star_NR_d_t = np.zeros(24 * 365)\n",
    "\n",
    "    # 暖房期 (52-1)\n",
    "    Theta_star_NR_d_t[H] = Theta_star_HBR_d_t[H] - np.sum(L_H_d_t_i[5:12, H], axis=0) / \\\n",
    "                           ((Q - 0.35 * 0.5 * 2.4) * A_NR + c_p_air * rho_air * (V_vent_l_NR_d_t[H] / 3600) + \\\n",
    "                                                    np.sum(c_p_air * rho_air * (V_dash_supply_d_t_i[:5, H] / 3600) + U_prt * A_prt_i[:5, np.newaxis], axis=0)) * \\\n",
    "                                                    (10 ** 6 / 3600)\n",
    "\n",
    "    # 冷房期 (52-2)\n",
    "    Theta_star_NR_d_t[C] = Theta_star_HBR_d_t[C] + np.sum(L_CS_d_t_i[5:12, C], axis=0) / \\\n",
    "                           ((Q - 0.35 * 0.5 * 2.4) * A_NR + c_p_air * rho_air * (V_vent_l_NR_d_t[C] / 3600) + \\\n",
    "                                                    np.sum(c_p_air * rho_air * (V_dash_supply_d_t_i[:5, C] / 3600) + U_prt * A_prt_i[:5, np.newaxis], axis=0)) * \\\n",
    "                                                    (10 ** 6 / 3600)\n",
    "\n",
    "    # 中間期 (52-3)\n",
    "    Theta_star_NR_d_t[M] = Theta_star_HBR_d_t[M]\n",
    "\n",
    "    return Theta_star_NR_d_t"
   ]
  },
  {
   "cell_type": "markdown",
   "metadata": {},
   "source": [
    "暖房期："
   ]
  },
  {
   "cell_type": "markdown",
   "metadata": {},
   "source": [
    "$$\\large\n",
    "X^*_{NR,d,t}=X^*_{HBR,d,t}\n",
    "$$"
   ]
  },
  {
   "cell_type": "markdown",
   "metadata": {},
   "source": [
    "冷房期："
   ]
  },
  {
   "cell_type": "markdown",
   "metadata": {},
   "source": [
    "$$\\large\n",
    "X^*_{NR,d,t}=X^*_{HBR,d,t}-\\frac{\\sum^{12}_{i=6}L_{CL,d,t,i}}{L_{wtr}\\rho_{air}(V_{vent,l,NR,d,t}+\\sum^5_{i=1}V'_{supply,d,t,i})}\\times 10^3\n",
    "$$"
   ]
  },
  {
   "cell_type": "markdown",
   "metadata": {},
   "source": [
    "中間期："
   ]
  },
  {
   "cell_type": "markdown",
   "metadata": {},
   "source": [
    "$$\\large\n",
    "X^*_{NR,d,t}=X^*_{HBR,d,t}\n",
    "$$"
   ]
  },
  {
   "cell_type": "markdown",
   "metadata": {},
   "source": [
    "$L_{CL,d,t,i}$：日付$d$の時刻$t$における暖冷房区画$i$の 1 時間当たりの冷房潜熱負荷(MJ/h)  \n",
    "$V_{vent,l,NR,d,t}$：日付$d$の時刻$t$における非居室の局所換気量($m^3$/h)  \n",
    "$V'_{supply,d,t,i}$：日付$d$の時刻$t$における暖冷房区画$i$のVAV調整前の吹き出し風量($m^3$/h)  \n",
    "$X^*_{HBR,d,t}$：日付$d$の時刻$t$における負荷バランス時の居室の絶対湿度(kg/kg(DA))  \n",
    "$X^*_{NR,d,t}$：日付$d$の時刻$t$における負荷バランス時の非居室の絶対湿度(kg/kg(DA))  \n",
    "$c_{p_{air}}$：空気の比熱(J/(kg・K))  \n",
    "$L_{wtr}$：水の蒸発潜熱(kJ/kg)  \n",
    "$\\rho_{air}$：空気の密度(kg/$m^3$)  \n"
   ]
  },
  {
   "cell_type": "code",
   "execution_count": 53,
   "metadata": {},
   "outputs": [],
   "source": [
    "def get_X_star_NR_d_t(X_star_HBR_d_t, L_CL_d_t_i, L_wtr, V_vent_l_NR_d_t, V_dash_supply_d_t_i, region):\n",
    "    \"\"\"(53-1)(53-2)(53-3)\n",
    "\n",
    "    :param X_star_HBR_d_t:\n",
    "    :param L_CL_d_t_i:\n",
    "    :param L_wtr:\n",
    "    :param V_vent_l_NR_d_t:\n",
    "    :param V_dash_supply_d_t_i:\n",
    "    :param region:\n",
    "    :return:\n",
    "    \"\"\"\n",
    "    H, C, M = get_season_array_d_t(region)\n",
    "    rho_air = get_rho_air()\n",
    "\n",
    "    X_star_NR_d_t = np.zeros(24 * 365)\n",
    "\n",
    "    # 暖房期 (53-1)\n",
    "    X_star_NR_d_t[H] = X_star_HBR_d_t[H]\n",
    "\n",
    "    # 冷房期 (53-2)\n",
    "    X_star_NR_d_t[C] = X_star_HBR_d_t[C] + (np.sum(L_CL_d_t_i[5:12, C], axis=0) \\\n",
    "                        / (L_wtr * rho_air * (V_vent_l_NR_d_t[C] + np.sum(V_dash_supply_d_t_i[:5, C], axis=0)))) * 10 ** 3\n",
    "\n",
    "   # 中間期 (53-3)\n",
    "    X_star_NR_d_t[M] = X_star_HBR_d_t[M]\n",
    "\n",
    "    return X_star_NR_d_t"
   ]
  },
  {
   "cell_type": "markdown",
   "metadata": {},
   "source": [
    "### 12. ダクト"
   ]
  },
  {
   "cell_type": "markdown",
   "metadata": {},
   "source": [
    "#### 12.1 ダクトの周囲の空気温度"
   ]
  },
  {
   "cell_type": "markdown",
   "metadata": {},
   "source": [
    "ダクトの全部または一部が断熱区画外にある場合："
   ]
  },
  {
   "cell_type": "markdown",
   "metadata": {},
   "source": [
    "$$\\large\n",
    "\\theta_{sur,d,t,i}=\\frac{l_{duct,in,i}\\theta^*_{HBR,d,t}+l_{duct,ex,i}\\theta_{attic,d,t}}{l_{duct,in,i}+l_{duct,ex,i}}\n",
    "$$"
   ]
  },
  {
   "cell_type": "markdown",
   "metadata": {},
   "source": [
    "ダクトの全部が断熱区画内にある場合："
   ]
  },
  {
   "cell_type": "markdown",
   "metadata": {},
   "source": [
    "$$\\large\n",
    "\\theta_{sur,d,t,i}=\\theta^*_{HBR,d,t}\n",
    "$$"
   ]
  },
  {
   "cell_type": "markdown",
   "metadata": {},
   "source": [
    "$l_{duct,ex,i}$：断熱区画外を通るダクト$i$の長さ(m)  \n",
    "$l_{duct,in,i}$：断熱区画内を通るダクト$i$の長さ(m)  \n",
    "$\\theta_{attic,d,t}$：日付$d$の時刻$t$における小屋裏の空気温度(℃)  \n",
    "$\\theta_{sur,d,t,i}$：日付$d$の時刻$t$におけるダクト$i$の周囲の空気温度(℃)  \n",
    "$\\theta^*_{HBR,d,t}$：日付$d$の時刻$t$における負荷バランス時の居室の室温(℃)  \n"
   ]
  },
  {
   "cell_type": "code",
   "execution_count": 54,
   "metadata": {},
   "outputs": [],
   "source": [
    "def get_Theta_sur_d_t_i(Theta_star_HBR_d_t, Theta_attic_d_t, l_duct_in_i, l_duct_ex_i, duct_insulation):\n",
    "    \"\"\"(54-1)(54-2)\n",
    "\n",
    "    :param Theta_star_HBR_d_t:日付dの時刻tにおける負荷バランス時の居室の室温（℃）\n",
    "    :param l_duct_in_i: 断熱区画内を通るダクトiの長さ（m）\n",
    "    :param l_duct_ex_i: 断熱区画外を通るダクトiの長さ（m）\n",
    "    :param Theta_attic_d_t: 小屋裏の空気温度 (℃)\n",
    "    :param duct_insulation: ダクトが通過する空間\n",
    "    :return:日付dの時刻tにおけるダクトiの周囲の空気温度（℃）\n",
    "    \"\"\"\n",
    "    Theta_sur_H_d_t_i = np.zeros((5, 24 * 365))\n",
    "\n",
    "    Theta_star_HBR_d_t_i = np.tile(Theta_star_HBR_d_t, (5, 1))\n",
    "    Theta_attic_d_t_i = np.tile(Theta_attic_d_t, (5, 1))\n",
    "\n",
    "    if duct_insulation == '全てもしくは一部が断熱区画外である':\n",
    "        Theta_sur_H_d_t_i = (l_duct_in_i[:, np.newaxis] * Theta_star_HBR_d_t_i + l_duct_ex_i[:, np.newaxis] * Theta_attic_d_t_i) / \\\n",
    "                             (l_duct_in_i[:, np.newaxis] + l_duct_ex_i[:, np.newaxis])\n",
    "    elif duct_insulation == '全て断熱区画内である':\n",
    "        Theta_sur_H_d_t_i = Theta_star_HBR_d_t_i\n",
    "    else:\n",
    "        raise ValueError(duct_insulation)\n",
    "\n",
    "    return Theta_sur_H_d_t_i"
   ]
  },
  {
   "cell_type": "markdown",
   "metadata": {},
   "source": [
    "$$\\large\n",
    "\\theta_{attic,d,t}=\\theta_{SAT,d,t}H+\\theta^*_{HBR,d,t}(1-H)\n",
    "$$"
   ]
  },
  {
   "cell_type": "markdown",
   "metadata": {},
   "source": [
    "$H$：温度差係数(-)  \n",
    "$\\theta_{attic,d,t}$：日付$d$の時刻$t$における小屋裏の空気温度(℃)  \n",
    "$\\theta_{SAT,d,t}$：日付$d$の時刻$t$における水平面における等価外温度(℃)  \n",
    "$\\theta^*_{HBR,d,t}$：日付$d$の時刻$t$における負荷バランス時の居室の室温(℃)  \n"
   ]
  },
  {
   "cell_type": "code",
   "execution_count": 55,
   "metadata": {},
   "outputs": [],
   "source": [
    "def get_Theta_attic_d_t(Theta_SAT_d_t, Theta_star_HBR_d_t):\n",
    "    \"\"\"(55)\n",
    "    :param Theta_SAT_d_t: 日付dの時刻tにおける水平面における等価外気温度（℃）\n",
    "    :param Theta_star_HBR_d_t: 日付dの時刻tにおける負荷バランス時の居室の室温（℃）\n",
    "    :return: 小屋裏の空気温度 (℃)\n",
    "    \"\"\"\n",
    "    # 温度差係数\n",
    "    H = get_H()\n",
    "\n",
    "    return Theta_SAT_d_t * H + Theta_star_HBR_d_t * (1.0 - H)"
   ]
  },
  {
   "cell_type": "markdown",
   "metadata": {},
   "source": [
    "温度差係数$H$は、1.0 とする。\n"
   ]
  },
  {
   "cell_type": "code",
   "execution_count": 56,
   "metadata": {},
   "outputs": [],
   "source": [
    "# 温度差係数 (-)\n",
    "def get_H():\n",
    "    return 1.0"
   ]
  },
  {
   "cell_type": "markdown",
   "metadata": {},
   "source": [
    "#### 12.2 ダクトの長さ"
   ]
  },
  {
   "cell_type": "markdown",
   "metadata": {},
   "source": [
    "$$\\large\n",
    "l_{duct,i}=l_{duct,in,i}+l_{duct,ex,i}\n",
    "$$"
   ]
  },
  {
   "cell_type": "markdown",
   "metadata": {},
   "source": [
    "$l_{duct,i}$：ダクト$i$の長さ(m)  \n",
    "$l_{duct,ex,i}$：断熱区画外を通るダクト$i$の長さ(m)  \n",
    "$l_{duct,in,i}$：断熱区画内を通るダクト$i$の長さ(m)  \n"
   ]
  },
  {
   "cell_type": "code",
   "execution_count": 57,
   "metadata": {},
   "outputs": [],
   "source": [
    "def get_l_duct__i(l_duct_in_i, l_duct_ex_i):\n",
    "    \"\"\"(56)\n",
    "\n",
    "    :param l_duct_in_i: 断熱区画内を通るダクトiの長さ（m）\n",
    "    :param l_duct_ex_i: 断熱区画外を通るダクトiの長さ（m）\n",
    "    :return: ダクトiの長さ（m）\n",
    "    \"\"\"\n",
    "    return  l_duct_in_i + l_duct_ex_i"
   ]
  },
  {
   "cell_type": "markdown",
   "metadata": {},
   "source": [
    "$$\\large\n",
    "l_{duct,in,i}=l_{duct,in,R,i}\\sqrt{\\frac{A_{A}}{A_{A,R}}}\n",
    "$$\n",
    "\n",
    "$$\\large\n",
    "l_{duct,ex,i}=l_{duct,ex,R,i}\\sqrt{\\frac{A_{A}}{A_{A,R}}}\n",
    "$$"
   ]
  },
  {
   "cell_type": "markdown",
   "metadata": {},
   "source": [
    "$A_{A}$：床面積の合計($m^2$)  \n",
    "$A_{A,R}$：非居室の床面積($m^2$)  \n",
    "$l_{duct,ex,i}$：断熱区画外を通るダクト$i$の長さ(m)  \n",
    "$l_{duct,ex,R,i}$：標準住戸における断熱区画外を通るダクト$i$の長さ(m)  \n",
    "$l_{duct,in,i}$：断熱区画内を通るダクト$i$の長さ(m)  \n",
    "$l_{duct,in,R,i}$：標準住戸における断熱区画内を通るダクト$i$の長さ(m)  \n"
   ]
  },
  {
   "cell_type": "code",
   "execution_count": 58,
   "metadata": {},
   "outputs": [],
   "source": [
    "def get_l_duct_in_i(A_A):\n",
    "    \"\"\"(57)\n",
    "    :param A_A: 床面積の合計（m2）\n",
    "    return: 断熱区画内を通るダクトiの長さ（m）\n",
    "    :rtype: ndarray[5]\n",
    "    \"\"\"\n",
    "    # 標準住戸の床面積の合計 [m3]\n",
    "    A_A_R = get_A_A_R()\n",
    "\n",
    "    return l_duct_in_R_i * np.sqrt(A_A / A_A_R)\n",
    "\n",
    "\n",
    "def get_l_duct_ex_i(A_A):\n",
    "    \"\"\"(58)\n",
    "    :param A_A: 床面積の合計（m2）\n",
    "    return: 断熱区画外を通るダクトiの長さ（m）\n",
    "    :rtype: ndarray[5]\n",
    "    \"\"\"\n",
    "    # 標準住戸の床面積の合計 [m3]\n",
    "    A_A_R = get_A_A_R()\n",
    "\n",
    "    return l_duct_ex_R_i * np.sqrt(A_A / A_A_R)"
   ]
  },
  {
   "cell_type": "markdown",
   "metadata": {},
   "source": [
    "<div style=\"text-align: center;font-weight: bold;\">表　標準住戸におけるダクト$i$の長さ</div>\n",
    "\n",
    "|暖冷房区画|断熱区画内<br>$l_{duct,in,R,i}$<br>(m)|断熱区画外<br>$l_{duct,ex,R,i}$<br>(m)|　　合計　　<br>$l_{duct,R,i}$<br>(m)|\n",
    "|-|-|-|-|\n",
    "|1|25.6|0.0|25.6|\n",
    "|2|8.6|0.0|8.6|\n",
    "|3|0.0|10.2|10.2|\n",
    "|4|0.0|11.8|11.8|\n",
    "|5|0.0|8.1|8.1|\n"
   ]
  },
  {
   "cell_type": "code",
   "execution_count": 59,
   "metadata": {},
   "outputs": [],
   "source": [
    "# 断熱区画内を通るダクトの長さ [m]\n",
    "l_duct_in_R_i = np.array([\n",
    "    25.6,\n",
    "    8.6,\n",
    "    0.0,\n",
    "    0.0,\n",
    "    0.0,\n",
    "])\n",
    "\n",
    "\n",
    "# 断熱区画外を通るダクトの長さ [m]\n",
    "l_duct_ex_R_i = np.array([\n",
    "    0.0,\n",
    "    0.0,\n",
    "    10.2,\n",
    "    11.8,\n",
    "    8.1,\n",
    "])\n",
    "\n",
    "\n",
    "# ダクトの長さ(合計) [m]\n",
    "l_duct_R_i = np.array([\n",
    "    25.6,\n",
    "    8.6,\n",
    "    10.2,\n",
    "    11.8,\n",
    "    8.1,\n",
    "])"
   ]
  },
  {
   "cell_type": "markdown",
   "metadata": {},
   "source": [
    "#### 12.3 ダクトの線熱損失係"
   ]
  },
  {
   "cell_type": "markdown",
   "metadata": {},
   "source": [
    "ダクト$i$の線熱損失係数$\\psi_{i}$は、0.49W/(m・K)とする。"
   ]
  },
  {
   "cell_type": "code",
   "execution_count": 60,
   "metadata": {},
   "outputs": [],
   "source": [
    "# ダクトiの線熱損失係数 [W/mK]\n",
    "def get_phi_i():\n",
    "    return np.array([0.49] * 5)"
   ]
  },
  {
   "cell_type": "markdown",
   "metadata": {},
   "source": [
    "### 13. その他"
   ]
  },
  {
   "cell_type": "markdown",
   "metadata": {},
   "source": [
    "#### 13.1 外気条件"
   ]
  },
  {
   "cell_type": "markdown",
   "metadata": {},
   "source": [
    "$$\\large\n",
    "\\theta_{SAT,d,t}=\\theta_{ex,d,t}+0.034J_{d,t}\n",
    "$$"
   ]
  },
  {
   "cell_type": "markdown",
   "metadata": {},
   "source": [
    "$J_{d,t}$：日付$d$の時刻$t$における水平面全天日射量(W/$m^2$)  \n",
    "$\\theta_{ex,d,t}$：日付$d$の時刻$t$における外気温度(℃)  \n",
    "$\\theta_{SAT,d,t}$：日付$d$の時刻$t$における水平面における等価外温度(℃)  \n"
   ]
  },
  {
   "cell_type": "code",
   "execution_count": 61,
   "metadata": {},
   "outputs": [],
   "source": [
    "def get_Theta_SAT_d_t(Theta_ex_d_t, J_d_t):\n",
    "    \"\"\"(59)\n",
    "\n",
    "    :param Thate_ex_d_t:日付dの時刻tにおける外気温度（℃）\n",
    "    :param J_d_t:日付dの時刻tにおける水平面全天日射量（W/m2）\n",
    "    :return:日付dの時刻tにおける水平面における等価外温度（℃）\n",
    "    \"\"\"\n",
    "    return Theta_ex_d_t + 0.034 * J_d_t"
   ]
  },
  {
   "cell_type": "markdown",
   "metadata": {},
   "source": [
    "#### 13.2 住宅の仕様"
   ]
  },
  {
   "cell_type": "markdown",
   "metadata": {},
   "source": [
    "#### 13.2.1 外皮性能"
   ]
  },
  {
   "cell_type": "markdown",
   "metadata": {},
   "source": [
    "省略"
   ]
  },
  {
   "cell_type": "markdown",
   "metadata": {},
   "source": [
    "#### 13.2.2 間仕切り"
   ]
  },
  {
   "cell_type": "markdown",
   "metadata": {},
   "source": [
    "暖冷房区画が主たる居室（$i$= 1）の場合："
   ]
  },
  {
   "cell_type": "markdown",
   "metadata": {},
   "source": [
    "$$\\large\n",
    "A_{prt,i}=A_{HCZ,i}r_{env}\\frac{A_{NR}}{A_{OR}+A_{NR}}\n",
    "$$"
   ]
  },
  {
   "cell_type": "markdown",
   "metadata": {},
   "source": [
    "暖冷房区画がその他の居室（$i$=2～5）の場合："
   ]
  },
  {
   "cell_type": "markdown",
   "metadata": {},
   "source": [
    "$$\\large\n",
    "A_{prt,i}=A_{HCZ,i}r_{env}\\frac{A_{NR}}{A_{MR}+A_{NR}}\n",
    "$$"
   ]
  },
  {
   "cell_type": "markdown",
   "metadata": {},
   "source": [
    "$A_{HCZ,i}$：暖冷房区画$i$の床面積($m^2$)  \n",
    "$A_{MR}$：主たる居室の床面積($m^2$)  \n",
    "$A_{NR}$：非居室の床面積($m^2$)  \n",
    "$A_{OR}$：その他の居室の床面積($m^2$)  \n",
    "$A_{prt,i}$：暖冷房区画$i$から見た非居室の間仕切りの面積($m^2$)  \n",
    "$r_{env}$：床面積の合計に対しる外皮の部位の面積の合計の比(-)  \n"
   ]
  },
  {
   "cell_type": "code",
   "execution_count": 62,
   "metadata": {},
   "outputs": [],
   "source": [
    "def get_A_prt_i(A_HCZ_i, r_env, A_MR, A_NR, A_OR):\n",
    "    \"\"\"(60-1)(60-2)\n",
    "\n",
    "    :param A_HCZ_i: 暖冷房区画iの床面積（m2）\n",
    "    :param r_env:床面積の合計に対しる外皮の部位の面積の合計の比（-）\n",
    "    :param A_MR:主たる居室の床面積（m2）\n",
    "    :param A_NR:非居室の床面積（m2）\n",
    "    :param A_OR:その他の居室の床面積（m2）\n",
    "    :return:居室（i=1～5）に対する暖冷房区画iから見た非居室の間仕切りの面積（m2）\n",
    "    \"\"\"\n",
    "    A_XR = np.array([A_OR, A_MR, A_MR, A_MR, A_MR])\n",
    "    return np.array([A_HCZ_i[i] * r_env * (A_NR / (A_XR[i] + A_NR)) for i in range(5)])"
   ]
  },
  {
   "cell_type": "markdown",
   "metadata": {},
   "source": [
    "$$\\large\n",
    "U_{prt}=\\frac{1}{R_{prt}}\n",
    "$$"
   ]
  },
  {
   "cell_type": "markdown",
   "metadata": {},
   "source": [
    "$U_{prt}$：間仕切りの熱貫流率(W/($m^2$・K))  \n",
    "$R_{prt}$：間仕切りの熱抵抗(($m^2$・K)/W)  \n"
   ]
  },
  {
   "cell_type": "code",
   "execution_count": 63,
   "metadata": {},
   "outputs": [],
   "source": [
    "def get_U_prt():\n",
    "    \"\"\"(61)\n",
    "    :return:間仕切りの熱貫流率（W/(m2・K)）\n",
    "    \"\"\"\n",
    "    R_prt = get_R_prt()\n",
    "    return 1 / R_prt"
   ]
  },
  {
   "cell_type": "markdown",
   "metadata": {},
   "source": [
    "間仕切りの熱抵抗$R_{prt}$は、0.46($m^2$・K)/W とする。"
   ]
  },
  {
   "cell_type": "code",
   "execution_count": 64,
   "metadata": {},
   "outputs": [],
   "source": [
    "def get_R_prt():\n",
    "    \"\"\"\n",
    "    :return:R_prt:間仕切りの熱抵抗（(m2・K)/W）\n",
    "    \"\"\"\n",
    "    return 0.46"
   ]
  },
  {
   "cell_type": "markdown",
   "metadata": {},
   "source": [
    "#### 13.2.3 床面積および床面積の合計に対する外皮の部位の面積の合計の比"
   ]
  },
  {
   "cell_type": "markdown",
   "metadata": {},
   "source": [
    "省略"
   ]
  },
  {
   "cell_type": "markdown",
   "metadata": {},
   "source": [
    "#### 13.2.4 機械換気量"
   ]
  },
  {
   "cell_type": "markdown",
   "metadata": {},
   "source": [
    "$$\\large\n",
    "V_{vent,g,i}=V_{vent,g,R,i}\\frac{A_{HCZ,i}}{A_{HCZ,R,i}}\n",
    "$$"
   ]
  },
  {
   "cell_type": "markdown",
   "metadata": {},
   "source": [
    "$A_{HCZ,i}$：暖冷房区画$i$の床面積($m^2$)  \n",
    "$A_{HCZ,R,i}$：標準住戸における暖冷房区画$i$の床面積($m^2$)  \n",
    "$V_{vent,g,i}$：暖冷房区画$i$の全般換気量($m^3$/h)  \n",
    "$V_{vent,g,R,i}$：標準住戸における暖冷房区画$i$の全般換気量($m^3$/h)  \n"
   ]
  },
  {
   "cell_type": "code",
   "execution_count": 65,
   "metadata": {},
   "outputs": [],
   "source": [
    "# 暖冷房区画iの全般換気量\n",
    "def get_V_vent_g_i(A_HCZ_i, A_HCZ_R_i):\n",
    "    \"\"\"(62)\n",
    "\n",
    "    :param A_HCZ_i: 暖冷房区画iの床面積 (m2)\n",
    "    :param A_HCZ_R_i: 標準住戸における暖冷房区画iの床面積（m2）\n",
    "    :return: 暖冷房区画iの機械換気量 (m3/h)\n",
    "    :rtype: ndarray[5]\n",
    "    \"\"\"\n",
    "    # 標準住戸における暖冷房区画iの全般換気量 [m3/h]\n",
    "    V_vent_g_R_i = get_V_vent_g_R_i()\n",
    "\n",
    "    return V_vent_g_R_i * (np.array(A_HCZ_i[:5]) / np.array(A_HCZ_R_i[:5]))"
   ]
  },
  {
   "cell_type": "markdown",
   "metadata": {},
   "source": [
    "<div style=\"text-align: center;font-weight: bold;\">表　標準住戸における暖冷房区画$i$の全般換気量$V_{vent,g,R,i}$</div>\n",
    "\n",
    "|暖冷房区画|全般換気量<br>$V_{vent,g,R,i}$<br>($m^3$/h)|\n",
    "|-|-|\n",
    "|1|60.0|\n",
    "|2|20.0|\n",
    "|3|40.0|\n",
    "|4|20.0|\n",
    "|5|20.0|\n"
   ]
  },
  {
   "cell_type": "code",
   "execution_count": 66,
   "metadata": {},
   "outputs": [],
   "source": [
    "# 表2 標準住戸における暖冷房区画iの全般換気量 [m3/h]\n",
    "def get_V_vent_g_R_i():\n",
    "    return np.array([\n",
    "        60,\n",
    "        20,\n",
    "        40,\n",
    "        20,\n",
    "        20\n",
    "    ])"
   ]
  },
  {
   "cell_type": "markdown",
   "metadata": {},
   "source": [
    "$$\\large\n",
    "V_{vent,l,d,t}=V_{vent,l,MR,d,t}+V_{vent,l,OR,d,t}+V_{vent,l,NR,d,t}\n",
    "$$"
   ]
  },
  {
   "cell_type": "markdown",
   "metadata": {},
   "source": [
    "$V_{vent,l,d,t}$：日付$d$の時刻$t$における局所換気量($m^3$/h)  \n",
    "$V_{vent,l,MR,d,t}$：日付$d$の時刻$t$における主たる居室の局所換気量($m^3$/h)  \n",
    "$V_{vent,l,OR,d,t}$：日付$d$の時刻$t$におけるその他の居室の局所換気量($m^3$/h)  \n",
    "$V_{vent,l,NR,d,t}$：日付$d$の時刻$t$における非居室の局所換気量($m^3$/h)  \n"
   ]
  },
  {
   "cell_type": "code",
   "execution_count": 67,
   "metadata": {},
   "outputs": [],
   "source": [
    "# 局所換気\n",
    "@lru_cache()\n",
    "def calc_V_vent_l_d_t():\n",
    "    V_vent_l_MR_d_t = get_V_vent_l_MR_d_t()\n",
    "    V_vent_l_OR_d_t = get_V_vent_l_OR_d_t()\n",
    "    V_vent_l_NR_d_t = get_V_vent_l_NR_d_t()\n",
    "    return get_V_vent_l_d_t(V_vent_l_MR_d_t, V_vent_l_OR_d_t, V_vent_l_NR_d_t)\n",
    "\n",
    "\n",
    "# 日付dの時刻tにおける局所換気量\n",
    "def get_V_vent_l_d_t(V_vent_l_MR_d_t, V_vent_l_OR_d_t, V_vent_l_NR_d_t):\n",
    "    \"\"\"(63)\n",
    "\n",
    "    :param V_vent_l_MR_d_t:日付dの時刻tにおける主たる居室の局所換気量（m3/h）\n",
    "    :param V_vent_l_OR_d_t:日付dの時刻tにおけるその他の居室の局所換気量（m3/h）\n",
    "    :param V_vent_l_NR_d_t:日付dの時刻tにおける非居室の局所換気量（m3/h）\n",
    "    :return:日付dの時刻tにおける局所換気量（m3/h）\n",
    "    \"\"\"\n",
    "    return V_vent_l_MR_d_t + V_vent_l_OR_d_t + V_vent_l_NR_d_t"
   ]
  },
  {
   "cell_type": "markdown",
   "metadata": {},
   "source": [
    "<div style=\"text-align: center;font-weight: bold;\">表　局所換気量</div>\n",
    "\n",
    "<table>\n",
    "<thead>\n",
    "<tr>\n",
    "<th rowspan=\"2\">時刻</th>\n",
    "<th colspan=\"2\">主たる居室<br>$V_{vent,l,MR,d,t}$<br>($m^3$/h)</th>\n",
    "<th colspan=\"2\">その他の居室<br>$V_{vent,l,OR,d,t}$<br>($m^3$/h)</th>\n",
    "<th colspan=\"2\">非居室<br>$V_{vent,l,NR,d,t}$<br>($m^3$/h)</th>\n",
    "</tr>\n",
    "<tr>\n",
    "<th>平日</th>\n",
    "<th>休日</th>\n",
    "<th>平日</th>\n",
    "<th>休日</th>\n",
    "<th>平日</th>\n",
    "<th>休日</th>\n",
    "</tr>\n",
    "</thead>\n",
    "<tbody>\n",
    "<tr><th>0</th><td>0.0</td><td>0.0</td><td>0.0</td><td>0.0</td><td>0.0</td><td>0.0</td></tr>\n",
    "<tr><th>1</th><td>0.0</td><td>0.0</td><td>0.0</td><td>0.0</td><td>0.0</td><td>0.0</td></tr>\n",
    "<tr><th>2</th><td>0.0</td><td>0.0</td><td>0.0</td><td>0.0</td><td>0.0</td><td>0.0</td></tr>\n",
    "<tr><th>3</th><td>0.0</td><td>0.0</td><td>0.0</td><td>0.0</td><td>0.0</td><td>0.0</td></tr>\n",
    "<tr><th>4</th><td>0.0</td><td>0.0</td><td>0.0</td><td>0.0</td><td>0.0</td><td>0.0</td></tr>\n",
    "<tr><th>5</th><td>0.0</td><td>0.0</td><td>0.0</td><td>0.0</td><td>0.0</td><td>0.0</td></tr>\n",
    "<tr><th>6</th><td>75.0</td><td>0.0</td><td>0.0</td><td>0.0</td><td>6.0</td><td>0.0</td></tr>\n",
    "<tr><th>7</th><td>0.0</td><td>0.0</td><td>0.0</td><td>0.0</td><td>2.0</td><td>4.0</td></tr>\n",
    "<tr><th>8</th><td>0.0</td><td>75.0</td><td>0.0</td><td>0.0</td><td>0.0</td><td>4.0</td></tr>\n",
    "<tr><th>9</th><td>0.0</td><td>0.0</td><td>0.0</td><td>0.0</td><td>0.8</td><td>0.0</td></tr>\n",
    "<tr><th>10</th><td>0.0</td><td>0.0</td><td>0.0</td><td>0.0</td><td>0.0</td><td>1.2</td></tr>\n",
    "<tr><th>11</th><td>0.0</td><td>0.0</td><td>0.0</td><td>0.0</td><td>0.0</td><td>1.2</td></tr>\n",
    "<tr><th>12</th><td>75.0</td><td>75.0</td><td>0.0</td><td>0.0</td><td>0.8</td><td>0.0</td></tr>\n",
    "<tr><th>13</th><td>0.0</td><td>0.0</td><td>0.0</td><td>0.0</td><td>0.0</td><td>0.0</td></tr>\n",
    "<tr><th>14</th><td>0.0</td><td>0.0</td><td>0.0</td><td>0.0</td><td>0.0</td><td>0.0</td></tr>\n",
    "<tr><th>15</th><td>0.0</td><td>0.0</td><td>0.0</td><td>0.0</td><td>0.0</td><td>0.0</td></tr>\n",
    "<tr><th>16</th><td>0.0</td><td>0.0</td><td>0.0</td><td>0.0</td><td>0.8</td><td>2.0</td></tr>\n",
    "<tr><th>17</th><td>0.0</td><td>150.0</td><td>0.0</td><td>0.0</td><td>0.8</td><td>75.8</td></tr>\n",
    "<tr><th>18</th><td>150.0</td><td>150.0</td><td>0.0</td><td>0.0</td><td>0.8</td><td>25.0</td></tr>\n",
    "<tr><th>19</th><td>150.0</td><td>0.0</td><td>0.0</td><td>0.0</td><td>0.8</td><td>2.0</td></tr>\n",
    "<tr><th>20</th><td>0.0</td><td>0.0</td><td>0.0</td><td>0.0</td><td>0.8</td><td>0.8</td></tr>\n",
    "<tr><th>21</th><td>0.0</td><td>0.0</td><td>0.0</td><td>0.0</td><td>52.0</td><td>25.0</td></tr>\n",
    "<tr><th>22</th><td>0.0</td><td>0.0</td><td>0.0</td><td>0.0</td><td>25.0</td><td>27.0</td></tr>\n",
    "<tr><th>23</th><td>0.0</td><td>0.0</td><td>0.0</td><td>0.0</td><td>102.8</td><td>100.8</td><tr>\n",
    "</tbody>\n",
    "</table>\n"
   ]
  },
  {
   "cell_type": "code",
   "execution_count": 68,
   "metadata": {},
   "outputs": [],
   "source": [
    "# 日付dの時刻tにおける主たる居室の局所換気量（m3/h）\n",
    "def get_V_vent_l_MR_d_t():\n",
    "    \"\"\"\n",
    "    :return: 日付dの時刻tにおける主たる居室の局所換気量（m3/h）\n",
    "    \"\"\"\n",
    "    schedule = load_schedule()\n",
    "    schedule_ac = get_schedule_ac(schedule)\n",
    "\n",
    "    table_3 = get_table_3()\n",
    "\n",
    "\n",
    "    # 全日平日とみなした24時間365日の局所換気量\n",
    "    tmp_a = np.tile(table_3[0], 365)\n",
    "\n",
    "    # 全日休日とみなした24時間365日の局所換気量\n",
    "    tmp_b = np.tile(table_3[1], 365)\n",
    "\n",
    "    # 時間単位に展開した生活パターン\n",
    "    schedule_extend = np.repeat(np.array(schedule_ac), 24)\n",
    "\n",
    "    V_vent_l_MR_d_t = tmp_a * (schedule_extend == '平日') \\\n",
    "                    + tmp_b * (schedule_extend == '休日')\n",
    "\n",
    "    return V_vent_l_MR_d_t\n",
    "\n",
    "\n",
    "# 日付dの時刻tにおけるその他の居室の局所換気量（m3/h）\n",
    "def get_V_vent_l_OR_d_t():\n",
    "    \"\"\"\n",
    "    :return: 日付dの時刻tにおけるその他の居室の局所換気量（m3/h）\n",
    "    \"\"\"\n",
    "    schedule = load_schedule()\n",
    "    schedule_ac = get_schedule_ac(schedule)\n",
    "\n",
    "    table_3 = get_table_3()\n",
    "\n",
    "    # 全日平日とみなした24時間365日の局所換気量\n",
    "    tmp_a = np.tile(table_3[2], 365)\n",
    "\n",
    "    # 全日休日とみなした24時間365日の局所換気量\n",
    "    tmp_b = np.tile(table_3[3], 365)\n",
    "\n",
    "    # 時間単位に展開した生活パターン\n",
    "    schedule_extend = np.repeat(np.array(schedule_ac), 24)\n",
    "\n",
    "    V_vent_l_OR_d_t = tmp_a * (schedule_extend == '平日') \\\n",
    "                      + tmp_b * (schedule_extend == '休日')\n",
    "\n",
    "    return V_vent_l_OR_d_t\n",
    "\n",
    "\n",
    "# 日付dの時刻tにおける非居室の局所換気量（m3/h）\n",
    "def get_V_vent_l_NR_d_t():\n",
    "    \"\"\"\n",
    "    :return: 日付dの時刻tにおける非居室の局所換気量（m3/h）\n",
    "    \"\"\"\n",
    "    schedule = load_schedule()\n",
    "    schedule_ac = get_schedule_ac(schedule)\n",
    "\n",
    "    table_3 = get_table_3()\n",
    "\n",
    "    # 全日平日とみなした24時間365日の局所換気量\n",
    "    tmp_a = np.tile(table_3[4], 365)\n",
    "\n",
    "    # 全日休日とみなした24時間365日の局所換気量\n",
    "    tmp_b = np.tile(table_3[5], 365)\n",
    "\n",
    "    # 時間単位に展開した生活パターン\n",
    "    schedule_extend = np.repeat(np.array(schedule_ac), 24)\n",
    "\n",
    "    V_vent_l_NR_d_t = tmp_a * (schedule_extend == '平日') \\\n",
    "                      + tmp_b * (schedule_extend == '休日')\n",
    "\n",
    "    return V_vent_l_NR_d_t\n",
    "\n",
    "\n",
    "# 局所換気量\n",
    "def get_table_3():\n",
    "    return [\n",
    "        (0, 0, 0, 0, 0, 0, 75, 0, 0, 0, 0, 0, 75, 0, 0, 0, 0, 0, 150, 150, 0, 0, 0, 0),\n",
    "        (0, 0, 0, 0, 0, 0, 0, 0, 75, 0, 0, 0, 75, 0, 0, 0, 0, 150, 150, 0, 0, 0, 0, 0),\n",
    "        (0, 0, 0, 0, 0, 0, 0, 0, 0, 0, 0, 0, 0, 0, 0, 0, 0, 0, 0, 0, 0, 0, 0, 0),\n",
    "        (0, 0, 0, 0, 0, 0, 0, 0, 0, 0, 0, 0, 0, 0, 0, 0, 0, 0, 0, 0, 0, 0, 0, 0),\n",
    "        (0, 0, 0, 0, 0, 0, 6, 2, 0, 0.8, 0, 0, 0.8, 0, 0, 0, 0.8, 0.8, 0.8, 0.8, 0.8, 52, 25, 102.8),\n",
    "        (0, 0, 0, 0, 0, 0, 0, 4, 4, 0, 1.2, 1.2, 0, 0, 0, 0, 2, 75.8, 25, 2, 0.8, 25, 27, 100.8),\n",
    "    ]"
   ]
  },
  {
   "cell_type": "markdown",
   "metadata": {},
   "source": [
    "#### 13.2.5 内部発熱・発湿（人体を除く）"
   ]
  },
  {
   "cell_type": "markdown",
   "metadata": {},
   "source": [
    "$$\\large\n",
    "q_{gen,d,t}=q_{gen,MR,d,t}+q_{gen,OR,d,t}+q_{gen,NR,d,t}\n",
    "$$"
   ]
  },
  {
   "cell_type": "markdown",
   "metadata": {},
   "source": [
    "$$\\large\n",
    "q_{gen,MR,d,t}=q_{gen,MR,R,d,t}\\frac{A_{MR}}{29.81}\n",
    "$$"
   ]
  },
  {
   "cell_type": "markdown",
   "metadata": {},
   "source": [
    "$$\\large\n",
    "q_{gen,OR,d,t}=q_{gen,OR,R,d,t}\\frac{A_{OR}}{51.34}\n",
    "$$"
   ]
  },
  {
   "cell_type": "markdown",
   "metadata": {},
   "source": [
    "$$\\large\n",
    "q_{gen,NR,d,t}=q_{gen,NR,R,d,t}\\frac{A_{NR}}{38.93}\n",
    "$$"
   ]
  },
  {
   "cell_type": "markdown",
   "metadata": {},
   "source": [
    "$A_{MR}$：主たる居室の床面積($m^2$)  \n",
    "$A_{NR}$：非居室の床面積($m^2$)  \n",
    "$A_{OR}$：その他の居室の床面積($m^2$)  \n",
    "$q_{gen,d,t}$：日付$d$の時刻$t$における内部発熱(W)  \n",
    "$q_{gen,MR,d,t}$：日付$d$の時刻$t$における主たる居室の内部発熱(W)  \n",
    "$q_{gen,MR,R,d,t}$：日付$d$の時刻$t$における標準住戸の主たる居室の内部発熱(W)  \n",
    "$q_{gen,OR,d,t}$：日付$d$の時刻$t$におけるその他の居室の内部発熱(W)  \n",
    "$q_{gen,OR,R,d,t}$：日付$d$の時刻$t$における標準住戸のその他の居室の内部発熱(W)  \n",
    "$q_{gen,NR,d,t}$：日付$d$の時刻$t$における非居室の内部発熱(W)  \n",
    "$q_{gen,NR,R,d,t}$：日付$d$の時刻$t$における標準住戸の非居室の内部発熱(W)  \n"
   ]
  },
  {
   "cell_type": "code",
   "execution_count": 69,
   "metadata": {},
   "outputs": [],
   "source": [
    "def get_q_gen_d_t(q_gen_MR_d_t, q_gen_OR_d_t, q_gen_NR_d_t):\n",
    "    \"\"\"(64a)\n",
    "\n",
    "    :param q_gen_MR_d_t: 日付dの時刻tにおける主たる居室の内部発熱（W）\n",
    "    :param q_gen_OR_d_t: 日付dの時刻tにおけるその他の居室の内部発熱（W）\n",
    "    :param q_gen_NR_d_t: 日付dの時刻tにおける非居室の内部発熱（W）\n",
    "    :return:日付dの時刻tにおける内部発熱（W）\n",
    "    \"\"\"\n",
    "    return q_gen_MR_d_t + q_gen_OR_d_t + q_gen_NR_d_t\n",
    "\n",
    "\n",
    "def calc_q_gen_MR_d_t(A_MR):\n",
    "    \"\"\"(64b)\n",
    "    :param A_MR:主たる居室の床面積（m2）\n",
    "    :return:\n",
    "    \"\"\"\n",
    "    q_gen_MR_R_d_t = get_q_gen_MR_R_d_t()\n",
    "\n",
    "    return q_gen_MR_R_d_t * (A_MR / 29.81)\n",
    "\n",
    "\n",
    "def calc_q_gen_OR_d_t(A_OR):\n",
    "    \"\"\"(64c)\n",
    "    :param A_OR:その他の居室の床面積（m2）\n",
    "    :return:\n",
    "    \"\"\"\n",
    "    q_gen_OR_R_d_t = get_q_gen_OR_R_d_t()\n",
    "\n",
    "    return q_gen_OR_R_d_t * (A_OR / 51.34)\n",
    "\n",
    "\n",
    "def calc_q_gen_NR_d_t(A_NR):\n",
    "    \"\"\"(64d)\n",
    "    :param A_NR:非居室の床面積（m2）\n",
    "    :return:\n",
    "    \"\"\"\n",
    "    q_gen_NR_R_d_t = get_q_gen_NR_R_d_t()\n",
    "\n",
    "    return q_gen_NR_R_d_t * (A_NR / 38.93)"
   ]
  },
  {
   "cell_type": "markdown",
   "metadata": {},
   "source": [
    "<div style=\"text-align: center;font-weight: bold;\">表　標準住戸における内部発熱</div>\n",
    "\n",
    "<table>\n",
    "<thead>\n",
    "<tr>\n",
    "<th rowspan=\"2\">時刻</th>\n",
    "<th colspan=\"2\">主たる居室<br>$q_{gen,MR,R,d,t}$<br>($m^3$/h)</th>\n",
    "<th colspan=\"2\">その他の居室<br>$q_{gen,OR,R,d,t}$<br>($m^3$/h)</th>\n",
    "<th colspan=\"2\">非居室<br>$q_{gen,NR,R,d,t}$<br>($m^3$/h)</th>\n",
    "</tr>\n",
    "<tr>\n",
    "<th>平日</th>\n",
    "<th>休日</th>\n",
    "<th>平日</th>\n",
    "<th>休日</th>\n",
    "<th>平日</th>\n",
    "<th>休日</th>\n",
    "</tr>\n",
    "</thead>\n",
    "<tbody>\n",
    "<tr><th>0</th><td>66.9</td><td>66.9</td><td>18.0</td><td>18.0</td><td>41.5</td><td>41.5</td></tr>\n",
    "<tr><th>1</th><td>66.9</td><td>66.9</td><td>18.0</td><td>18.0</td><td>41.5</td><td>41.5</td></tr>\n",
    "<tr><th>2</th><td>66.9</td><td>66.9</td><td>18.0</td><td>18.0</td><td>41.5</td><td>41.5</td></tr>\n",
    "<tr><th>3</th><td>66.9</td><td>66.9</td><td>18.0</td><td>18.0</td><td>41.5</td><td>41.5</td></tr>\n",
    "<tr><th>4</th><td>66.9</td><td>66.9</td><td>18.0</td><td>18.0</td><td>41.5</td><td>41.5</td></tr>\n",
    "<tr><th>5</th><td>66.9</td><td>66.9</td><td>18.0</td><td>18.0</td><td>41.5</td><td>41.5</td></tr>\n",
    "<tr><th>6</th><td>123.9</td><td>66.9</td><td>18.0</td><td>18.0</td><td>126.1</td><td>41.5</td></tr>\n",
    "<tr><th>7</th><td>383.6</td><td>66.9</td><td>18.0</td><td>18.0</td><td>249.9</td><td>281.3</td></tr>\n",
    "<tr><th>8</th><td>323.2</td><td>440.5</td><td>18.0</td><td>35.5</td><td>158.3</td><td>311.0</td></tr>\n",
    "<tr><th>9</th><td>307.3</td><td>443.3</td><td>398.2</td><td>654.3</td><td>191.3</td><td>269.5</td></tr>\n",
    "<tr><th>10</th><td>134.8</td><td>515.1</td><td>18.0</td><td>223.0</td><td>117.5</td><td>100.4</td></tr>\n",
    "<tr><th>11</th><td>66.9</td><td>488.9</td><td>18.0</td><td>223.0</td><td>41.5</td><td>106.7</td></tr>\n",
    "<tr><th>12</th><td>286.7</td><td>422.9</td><td>18.0</td><td>53.0</td><td>42.5</td><td>98.5</td></tr>\n",
    "<tr><th>13</th><td>271.2</td><td>174.4</td><td>18.0</td><td>18.0</td><td>89.0</td><td>55.8</td></tr>\n",
    "<tr><th>14</th><td>66.9</td><td>66.9</td><td>18.0</td><td>18.0</td><td>41.5</td><td>41.5</td></tr>\n",
    "<tr><th>15</th><td>66.9</td><td>66.9</td><td>18.0</td><td>18.0</td><td>41.5</td><td>41.5</td></tr>\n",
    "<tr><th>16</th><td>236.9</td><td>237.8</td><td>18.0</td><td>93.0</td><td>105.8</td><td>158.4</td></tr>\n",
    "<tr><th>17</th><td>288.6</td><td>407.8</td><td>18.0</td><td>93.0</td><td>105.8</td><td>171.3</td></tr>\n",
    "<tr><th>18</th><td>407.8</td><td>383.1</td><td>53.0</td><td>55.5</td><td>112.1</td><td>82.7</td></tr>\n",
    "<tr><th>19</th><td>383.1</td><td>326.8</td><td>53.0</td><td>18.0</td><td>118.5</td><td>101.4</td></tr>\n",
    "<tr><th>20</th><td>423.1</td><td>339.1</td><td>115.5</td><td>270.0</td><td>155.7</td><td>99.5</td></tr>\n",
    "<tr><th>21</th><td>339.1</td><td>339.1</td><td>103.0</td><td>168.8</td><td>416.1</td><td>255.1</td></tr>\n",
    "<tr><th>22</th><td>312.9</td><td>312.9</td><td>258.3</td><td>270.0</td><td>314.8</td><td>232.1</td></tr>\n",
    "<tr><th>23</th><td>278.0</td><td>66.9</td><td>137.3</td><td>18.0</td><td>174.9</td><td>157.8</td></tr>\n",
    "</tbody>\n",
    "</table>\n"
   ]
  },
  {
   "cell_type": "code",
   "execution_count": 70,
   "metadata": {},
   "outputs": [],
   "source": [
    "# 日付dの時刻tにおける標準住戸の主たる居室の内部発熱（W）\n",
    "def get_q_gen_MR_R_d_t():\n",
    "    \"\"\"\n",
    "    :return: 日付dの時刻tにおける標準住戸の主たる居室の内部発熱（W）\n",
    "    \"\"\"\n",
    "    schedule = load_schedule()\n",
    "    schedule_ac = get_schedule_ac(schedule)\n",
    "\n",
    "    table_4 = get_table_4()\n",
    "\n",
    "\n",
    "    # 全日平日とみなした24時間365日の標準住戸における内部発熱\n",
    "    tmp_a = np.tile(table_4[0], 365)\n",
    "\n",
    "    # 全日休日とみなした24時間365日の標準住戸における内部発熱\n",
    "    tmp_b = np.tile(table_4[1], 365)\n",
    "\n",
    "    # 時間単位に展開した生活パターン\n",
    "    schedule_extend = np.repeat(np.array(schedule_ac), 24)\n",
    "\n",
    "    q_gen_MR_R_d_t = tmp_a * (schedule_extend == '平日') \\\n",
    "                    + tmp_b * (schedule_extend == '休日')\n",
    "\n",
    "    return q_gen_MR_R_d_t\n",
    "\n",
    "\n",
    "# 日付dの時刻tにおける標準住戸のその他の居室の内部発熱（W）\n",
    "def get_q_gen_OR_R_d_t():\n",
    "    \"\"\"\n",
    "    :return: 日日付dの時刻tにおける標準住戸のその他の居室の内部発熱（W）\n",
    "    \"\"\"\n",
    "    schedule = load_schedule()\n",
    "    schedule_ac = get_schedule_ac(schedule)\n",
    "\n",
    "    table_4 = get_table_4()\n",
    "\n",
    "    # 全日平日とみなした24時間365日の標準住戸における内部発熱\n",
    "    tmp_a = np.tile(table_4[2], 365)\n",
    "\n",
    "    # 全日休日とみなした24時間365日の標準住戸における内部発熱\n",
    "    tmp_b = np.tile(table_4[3], 365)\n",
    "\n",
    "    # 時間単位に展開した生活パターン\n",
    "    schedule_extend = np.repeat(np.array(schedule_ac), 24)\n",
    "\n",
    "    q_gen_OR_R_d_t = tmp_a * (schedule_extend == '平日') \\\n",
    "                      + tmp_b * (schedule_extend == '休日')\n",
    "\n",
    "    return q_gen_OR_R_d_t\n",
    "\n",
    "\n",
    "# 日付dの時刻tにおける標準住戸の非居室の内部発熱（W）\n",
    "def get_q_gen_NR_R_d_t():\n",
    "    \"\"\"\n",
    "    :return: 日付dの時刻tにおける標準住戸の非居室の内部発熱（W）\n",
    "    \"\"\"\n",
    "    schedule = load_schedule()\n",
    "    schedule_ac = get_schedule_ac(schedule)\n",
    "\n",
    "    table_4 = get_table_4()\n",
    "\n",
    "    # 全日平日とみなした24時間365日の標準住戸における内部発熱\n",
    "    tmp_a = np.tile(table_4[4], 365)\n",
    "\n",
    "    # 全日休日とみなした24時間365日の標準住戸における内部発熱\n",
    "    tmp_b = np.tile(table_4[5], 365)\n",
    "\n",
    "    # 時間単位に展開した生活パターン\n",
    "    schedule_extend = np.repeat(np.array(schedule_ac), 24)\n",
    "\n",
    "    q_gen_NR_R_d_t = tmp_a * (schedule_extend == '平日') \\\n",
    "                      + tmp_b * (schedule_extend == '休日')\n",
    "\n",
    "    return q_gen_NR_R_d_t\n",
    "\n",
    "\n",
    "# 標準住戸における内部発熱\n",
    "def get_table_4():\n",
    "    return [\n",
    "        (66.9,66.9,66.9,66.9,66.9,66.9,123.9,383.6,323.2,307.3,134.8,66.9,286.7,271.2,66.9,66.9,236.9,288.6,407.8,383.1,423.1,339.1,312.9,278),\n",
    "        (66.9,66.9,66.9,66.9,66.9,66.9,66.9,66.9,440.5,443.3,515.1,488.9,422.9,174.4,66.9,66.9,237.8,407.8,383.1,326.8,339.1,339.1,312.9,66.9),\n",
    "        (18,18,18,18,18,18,18,18,18,398.2,18,18,18,18,18,18,18,18,53,53,115.5,103,258.3,137.3),\n",
    "        (18,18,18,18,18,18,18,18,35.5,654.3,223,223,53,18,18,18,93,93,55.5,18,270,168.8,270,18),\n",
    "        (41.5,41.5,41.5,41.5,41.5,41.5,126.1,249.9,158.3,191.3,117.5,41.5,42.5,89,41.5,41.5,105.8,105.8,112.1,118.5,155.7,416.1,314.8,174.9),\n",
    "        (41.5,41.5,41.5,41.5,41.5,41.5,41.5,281.3,311,269.5,100.4,106.7,98.5,55.8,41.5,41.5,158.4,171.3,82.7,101.4,99.5,255.1,232.1,157.8),\n",
    "    ]"
   ]
  },
  {
   "cell_type": "markdown",
   "metadata": {},
   "source": [
    "$$\\large\n",
    "w_{gen,d,t}=w_{gen,MR,d,t}+w_{gen,OR,d,t}+w_{gen,NR,d,t}\n",
    "$$"
   ]
  },
  {
   "cell_type": "markdown",
   "metadata": {},
   "source": [
    "$$\\large\n",
    "w_{gen,MR,d,t}=w_{gen,MR,R,d,t}\\frac{A_{MR}}{29.81}\n",
    "$$"
   ]
  },
  {
   "cell_type": "markdown",
   "metadata": {},
   "source": [
    "$$\\large\n",
    "w_{gen,OR,d,t}=w_{gen,OR,R,d,t}\\frac{A_{OR}}{51.34}\n",
    "$$"
   ]
  },
  {
   "cell_type": "markdown",
   "metadata": {},
   "source": [
    "$$\\large\n",
    "w_{gen,NR,d,t}=w_{gen,NR,R,d,t}\\frac{A_{NR}}{38.93}\n",
    "$$"
   ]
  },
  {
   "cell_type": "markdown",
   "metadata": {},
   "source": [
    "$A_{MR}$：主たる居室の床面積($m^2$)  \n",
    "$A_{NR}$：非居室の床面積($m^2$)  \n",
    "$A_{OR}$：その他の居室の床面積($m^2$)  \n",
    "$w_{gen,d,t}$：日付$d$の時刻$t$における内部発湿(g/h)  \n",
    "$w_{gen,MR,d,t}$：日付$d$の時刻$t$における主たる居室の内部発湿(g/h)  \n",
    "$w_{gen,MR,R,d,t}$：日付$d$の時刻$t$における標準住戸の主たる居室の内部発湿(g/h)  \n",
    "$w_{gen,OR,d,t}$：日付$d$の時刻$t$におけるその他の居室の内部発湿(g/h)  \n",
    "$w_{gen,OR,R,d,t}$：日付$d$の時刻$t$における標準住戸のその他の居室の内部発湿(g/h)  \n",
    "$w_{gen,NR,d,t}$：日付$d$の時刻$t$における非居室の内部発湿(g/h)  \n",
    "$w_{gen,NR,R,d,t}$：日付$d$の時刻$t$における標準住戸の非居室の内部発湿(g/h)  \n"
   ]
  },
  {
   "cell_type": "code",
   "execution_count": 71,
   "metadata": {},
   "outputs": [],
   "source": [
    "# 日付dの時刻tにおける内部発湿\n",
    "def get_w_gen_d_t(w_gen_MR_d_t, w_gen_OR_d_t, w_gen_NR_d_t):\n",
    "    \"\"\"(65a)\n",
    "\n",
    "    :param w_gen_MR_d_t: 日付dの時刻tにおける主たる居室の内部発湿（W）\n",
    "    :param w_gen_OR_d_t: 日付dの時刻tにおけるその他の居室の内部発湿（W）\n",
    "    :param w_gen_NR_d_t: 日付dの時刻tにおける非居室の内部発湿（W）\n",
    "    :return:日付dの時刻tにおける内部発湿（W）\n",
    "    \"\"\"\n",
    "    return  w_gen_MR_d_t + w_gen_OR_d_t + w_gen_NR_d_t\n",
    "\n",
    "\n",
    "def calc_w_gen_MR_d_t(A_MR):\n",
    "    \"\"\"(65b)\n",
    "    :param A_MR:主たる居室の床面積（m2）\n",
    "    :return:\n",
    "    \"\"\"\n",
    "    w_gen_MR_R_d_t = get_w_gen_MR_R_d_t()\n",
    "\n",
    "    return w_gen_MR_R_d_t * (A_MR / 29.81)\n",
    "\n",
    "\n",
    "def calc_w_gen_OR_d_t(A_OR):\n",
    "    \"\"\"(65c)\n",
    "    :param A_OR:その他の居室の床面積（m2）\n",
    "    :return:\n",
    "    \"\"\"\n",
    "    w_gen_OR_R_d_t = get_w_gen_OR_R_d_t()\n",
    "\n",
    "    return w_gen_OR_R_d_t * (A_OR / 51.34)\n",
    "\n",
    "\n",
    "def calc_w_gen_NR_d_t(A_NR):\n",
    "    \"\"\"(65d)\n",
    "    :param A_NR:非居室の床面積（m2）\n",
    "    :return:\n",
    "    \"\"\"\n",
    "    w_gen_NR_R_d_t = get_w_gen_NR_R_d_t()\n",
    "\n",
    "    return w_gen_NR_R_d_t * (A_NR / 38.93)"
   ]
  },
  {
   "cell_type": "markdown",
   "metadata": {},
   "source": [
    "<div style=\"text-align: center;font-weight: bold;\">表　標準住戸における内部発湿</div>\n",
    "\n",
    "<table>\n",
    "<thead>\n",
    "<tr>\n",
    "<th rowspan=\"2\">時刻</th>\n",
    "<th colspan=\"2\">主たる居室<br>$w_{gen,MR,R,d,t}$<br>(g/h)</th>\n",
    "<th colspan=\"2\">その他の居室<br>$w_{gen,OR,R,d,t}$<br>(g/h)</th>\n",
    "<th colspan=\"2\">非居室<br>$w_{gen,NR,R,d,t}$<br>(g/h)</th>\n",
    "</tr>\n",
    "<tr>\n",
    "<th>平日</th>\n",
    "<th>休日</th>\n",
    "<th>平日</th>\n",
    "<th>休日</th>\n",
    "<th>平日</th>\n",
    "<th>休日</th>\n",
    "</tr>\n",
    "</thead>\n",
    "<tbody>\n",
    "<tr><th>0</th><td>0.0</td><td>0.0</td><td>0.0</td><td>0.0</td><td>0.0</td><td>0.0</td></tr>\n",
    "<tr><th>1</th><td>0.0</td><td>0.0</td><td>0.0</td><td>0.0</td><td>0.0</td><td>0.0</td></tr>\n",
    "<tr><th>2</th><td>0.0</td><td>0.0</td><td>0.0</td><td>0.0</td><td>0.0</td><td>0.0</td></tr>\n",
    "<tr><th>3</th><td>0.0</td><td>0.0</td><td>0.0</td><td>0.0</td><td>0.0</td><td>0.0</td></tr>\n",
    "<tr><th>4</th><td>0.0</td><td>0.0</td><td>0.0</td><td>0.0</td><td>0.0</td><td>0.0</td></tr>\n",
    "<tr><th>5</th><td>0.0</td><td>0.0</td><td>0.0</td><td>0.0</td><td>0.0</td><td>0.0</td></tr>\n",
    "<tr><th>6</th><td>25.0</td><td>0.0</td><td>0.0</td><td>0.0</td><td>0.0</td><td>0.0</td></tr>\n",
    "<tr><th>7</th><td>0.0</td><td>0.0</td><td>0.0</td><td>0.0</td><td>0.0</td><td>0.0</td></tr>\n",
    "<tr><th>8</th><td>0.0</td><td>25.0</td><td>0.0</td><td>0.0</td><td>0.0</td><td>0.0</td></tr>\n",
    "<tr><th>9</th><td>0.0</td><td>0.0</td><td>0.0</td><td>0.0</td><td>0.0</td><td>0.0</td></tr>\n",
    "<tr><th>10</th><td>0.0</td><td>0.0</td><td>0.0</td><td>0.0</td><td>0.0</td><td>0.0</td></tr>\n",
    "<tr><th>11</th><td>0.0</td><td>0.0</td><td>0.0</td><td>0.0</td><td>0.0</td><td>0.0</td></tr>\n",
    "<tr><th>12</th><td>0.0</td><td>0.0</td><td>0.0</td><td>0.0</td><td>0.0</td><td>0.0</td></tr>\n",
    "<tr><th>13</th><td>0.0</td><td>0.0</td><td>0.0</td><td>0.0</td><td>0.0</td><td>0.0</td></tr>\n",
    "<tr><th>14</th><td>0.0</td><td>0.0</td><td>0.0</td><td>0.0</td><td>0.0</td><td>0.0</td></tr>\n",
    "<tr><th>15</th><td>0.0</td><td>0.0</td><td>0.0</td><td>0.0</td><td>0.0</td><td>0.0</td></tr>\n",
    "<tr><th>16</th><td>0.0</td><td>0.0</td><td>0.0</td><td>0.0</td><td>0.0</td><td>0.0</td></tr>\n",
    "<tr><th>17</th><td>0.0</td><td>50.0</td><td>0.0</td><td>0.0</td><td>0.0</td><td>0.0</td></tr>\n",
    "<tr><th>18</th><td>50.0</td><td>0.0</td><td>0.0</td><td>0.0</td><td>0.0</td><td>0.0</td></tr>\n",
    "<tr><th>19</th><td>0.0</td><td>0.0</td><td>0.0</td><td>0.0</td><td>0.0</td><td>0.0</td></tr>\n",
    "<tr><th>20</th><td>0.0</td><td>0.0</td><td>0.0</td><td>0.0</td><td>0.0</td><td>0.0</td></tr>\n",
    "<tr><th>21</th><td>0.0</td><td>0.0</td><td>0.0</td><td>0.0</td><td>0.0</td><td>0.0</td></tr>\n",
    "<tr><th>22</th><td>0.0</td><td>0.0</td><td>0.0</td><td>0.0</td><td>0.0</td><td>0.0</td></tr>\n",
    "<tr><th>23</th><td>0.0</td><td>0.0</td><td>0.0</td><td>0.0</td><td>0.0</td><td>0.0</td></tr>\n",
    "</tbody>\n",
    "</table>\n"
   ]
  },
  {
   "cell_type": "code",
   "execution_count": 72,
   "metadata": {},
   "outputs": [],
   "source": [
    "# 日付dの時刻tにおける標準住戸の主たる居室の内部発湿（W）\n",
    "def get_w_gen_MR_R_d_t():\n",
    "    \"\"\"\n",
    "    :return: 日付dの時刻tにおける標準住戸の主たる居室の内部発湿（W）\n",
    "    \"\"\"\n",
    "    schedule = load_schedule()\n",
    "    schedule_ac = get_schedule_ac(schedule)\n",
    "\n",
    "    table_5 = get_table_5()\n",
    "\n",
    "\n",
    "    # 全日平日とみなした24時間365日の標準住戸における内部発湿\n",
    "    tmp_a = np.tile(table_5[0], 365)\n",
    "\n",
    "    # 全日休日とみなした24時間365日の標準住戸における内部発湿\n",
    "    tmp_b = np.tile(table_5[1], 365)\n",
    "\n",
    "    # 時間単位に展開した生活パターン\n",
    "    schedule_extend = np.repeat(np.array(schedule_ac), 24)\n",
    "\n",
    "    w_gen_MR_R_d_t = tmp_a * (schedule_extend == '平日') \\\n",
    "                    + tmp_b * (schedule_extend == '休日')\n",
    "\n",
    "    return w_gen_MR_R_d_t\n",
    "\n",
    "\n",
    "# 日付dの時刻tにおける標準住戸のその他の居室の内部発湿（W）\n",
    "def get_w_gen_OR_R_d_t():\n",
    "    \"\"\"\n",
    "    :return: 日日付dの時刻tにおける標準住戸のその他の居室の内部発湿（W）\n",
    "    \"\"\"\n",
    "    schedule = load_schedule()\n",
    "    schedule_ac = get_schedule_ac(schedule)\n",
    "\n",
    "    table_5 = get_table_5()\n",
    "\n",
    "    # 全日平日とみなした24時間365日の標準住戸における内部発湿\n",
    "    tmp_a = np.tile(table_5[2], 365)\n",
    "\n",
    "    # 全日休日とみなした24時間365日の標準住戸における内部発湿\n",
    "    tmp_b = np.tile(table_5[3], 365)\n",
    "\n",
    "    # 時間単位に展開した生活パターン\n",
    "    schedule_extend = np.repeat(np.array(schedule_ac), 24)\n",
    "\n",
    "    w_gen_OR_R_d_t = tmp_a * (schedule_extend == '平日') \\\n",
    "                      + tmp_b * (schedule_extend == '休日')\n",
    "\n",
    "    return w_gen_OR_R_d_t\n",
    "\n",
    "\n",
    "# 日付dの時刻tにおける標準住戸の非居室の内部発湿（W）\n",
    "def get_w_gen_NR_R_d_t():\n",
    "    \"\"\"\n",
    "    :return: 日付dの時刻tにおける標準住戸の非居室の内部発湿（W）\n",
    "    \"\"\"\n",
    "    schedule = load_schedule()\n",
    "    schedule_ac = get_schedule_ac(schedule)\n",
    "\n",
    "    table_5 = get_table_5()\n",
    "\n",
    "    # 全日平日とみなした24時間365日の標準住戸における内部発湿\n",
    "    tmp_a = np.tile(table_5[4], 365)\n",
    "\n",
    "    # 全日休日とみなした24時間365日の標準住戸における内部発湿\n",
    "    tmp_b = np.tile(table_5[5], 365)\n",
    "\n",
    "    # 時間単位に展開した生活パターン\n",
    "    schedule_extend = np.repeat(np.array(schedule_ac), 24)\n",
    "\n",
    "    w_gen_NR_R_d_t = tmp_a * (schedule_extend == '平日') \\\n",
    "                      + tmp_b * (schedule_extend == '休日')\n",
    "\n",
    "    return w_gen_NR_R_d_t\n",
    "\n",
    "\n",
    "# 標準住戸における内部発熱\n",
    "def get_table_5():\n",
    "    return [\n",
    "        (0, 0, 0, 0, 0, 0, 25, 0, 0, 0, 0, 0, 0, 0, 0, 0, 0, 0, 50, 0, 0, 0, 0, 0),\n",
    "        (0, 0, 0, 0, 0, 0, 0, 0, 25, 0, 0, 0, 0, 0, 0, 0, 0, 50, 0, 0, 0, 0, 0, 0),\n",
    "        (0, 0, 0, 0, 0, 0, 0, 0, 0, 0, 0, 0, 0, 0, 0, 0, 0, 0, 0, 0, 0, 0, 0, 0),\n",
    "        (0, 0, 0, 0, 0, 0, 0, 0, 0, 0, 0, 0, 0, 0, 0, 0, 0, 0, 0, 0, 0, 0, 0, 0),\n",
    "        (0, 0, 0, 0, 0, 0, 0, 0, 0, 0, 0, 0, 0, 0, 0, 0, 0, 0, 0, 0, 0, 0, 0, 0),\n",
    "        (0, 0, 0, 0, 0, 0, 0, 0, 0, 0, 0, 0, 0, 0, 0, 0, 0, 0, 0, 0, 0, 0, 0, 0),\n",
    "    ]"
   ]
  },
  {
   "cell_type": "markdown",
   "metadata": {},
   "source": [
    "#### 13.2.6 人体発熱および在室人数"
   ]
  },
  {
   "cell_type": "markdown",
   "metadata": {},
   "source": [
    "暖房期における人体からの 1 人当たりの顕熱発熱量$q_{p,H}$は、79.0 W/人とする。冷房期における人体からの1 人当たりの顕熱発熱量$q_{p,CS}$は、51.0 W/人とする。冷房期における人体からの 1 人当たりの潜熱発熱量$q_{p,CL}$は、40.0 W/人とする。"
   ]
  },
  {
   "cell_type": "code",
   "execution_count": 73,
   "metadata": {},
   "outputs": [],
   "source": [
    "# 暖房期における人体からの1人当たりの顕熱発熱量（W/人）\n",
    "def get_q_p_H():\n",
    "    return 79.0\n",
    "\n",
    "\n",
    "# 冷房期における人体からの1人当たりの顕熱発熱量（W/人）\n",
    "def get_q_p_CS():\n",
    "    return 51.0\n",
    "\n",
    "\n",
    "# 冷房期における人体からの1人当たりの潜熱発熱量（W/人）\n",
    "def get_q_p_CL():\n",
    "    return 40.0"
   ]
  },
  {
   "cell_type": "markdown",
   "metadata": {},
   "source": [
    "$$\\large\n",
    "n_{p,d,t}=n_{p,MR,d,t}+n_{p,OR,d,t}+n_{p,NR,d,t}\n",
    "$$"
   ]
  },
  {
   "cell_type": "markdown",
   "metadata": {},
   "source": [
    "$$\\large\n",
    "n_{p,MR,d,t}=n_{p,MR,R,d,t}\\frac{A_{MR}}{29.81}\n",
    "$$"
   ]
  },
  {
   "cell_type": "markdown",
   "metadata": {},
   "source": [
    "$$\\large\n",
    "n_{p,OR,d,t}=n_{p,OR,R,d,t}\\frac{A_{OR}}{51.34}\n",
    "$$"
   ]
  },
  {
   "cell_type": "markdown",
   "metadata": {},
   "source": [
    "$$\\large\n",
    "n_{p,NR,d,t}=n_{p,NR,R,d,t}\\frac{A_{NR}}{38.93}\n",
    "$$"
   ]
  },
  {
   "cell_type": "markdown",
   "metadata": {},
   "source": [
    "$A_{MR}$：主たる居室の床面積($m^2$)  \n",
    "$A_{NR}$：非居室の床面積($m^2$)  \n",
    "$A_{OR}$：その他の居室の床面積($m^2$)  \n",
    "$n_{p,d,t}$：日付$d$の時刻$t$における在室人数(人)  \n",
    "$n_{p,MR,d,t}$：日付$d$の時刻$t$における主たる居室の在室人数(人)  \n",
    "$n_{p,MR,R,d,t}$：日付$d$の時刻$t$における標準住戸の主たる居室の在室人数(人)  \n",
    "$n_{p,OR,d,t}$：日付$d$の時刻$t$におけるその他の居室の在室人数(人)  \n",
    "$n_{p,OR,R,d,t}$：日付$d$の時刻$t$における標準住戸のその他の居室の在室人数(人)  \n",
    "$n_{p,NR,d,t}$：日付$d$の時刻$t$における非居室の在室人数(人)  \n",
    "$n_{p,NR,R,d,t}$：日付$d$の時刻$t$における標準住戸の非居室の在室人数(人)  \n"
   ]
  },
  {
   "cell_type": "code",
   "execution_count": 74,
   "metadata": {},
   "outputs": [],
   "source": [
    "# 日付dの時刻tにおける在室人数（人）\n",
    "def get_n_p_d_t(n_p_MR_d_t, n_p_OR_d_t, n_p_NR_d_t):\n",
    "    \"\"\"(66a)\n",
    "\n",
    "    :param q_gen_MR_d_t: 日付dの時刻tにおける主たる居室の在室人数（人）\n",
    "    :param q_gen_OR_d_t: 日付dの時刻tにおけるその他の居室の在室人数（人）\n",
    "    :param q_gen_NR_d_t: 日付dの時刻tにおける非居室の在室人数（人）\n",
    "    :return:日付dの時刻tにおける在室人数（人）\n",
    "    \"\"\"\n",
    "    return n_p_MR_d_t + n_p_OR_d_t + n_p_NR_d_t\n",
    "\n",
    "\n",
    "def calc_n_p_MR_d_t(A_MR):\n",
    "    \"\"\"(66b)\n",
    "    :param A_MR:主たる居室の床面積（m2）\n",
    "    :return:\n",
    "    \"\"\"\n",
    "    n_p_MR_R_d_t = get_n_p_MR_R_d_t()\n",
    "\n",
    "    return  n_p_MR_R_d_t * (A_MR / 29.81)\n",
    "\n",
    "\n",
    "def calc_n_p_OR_d_t(A_OR):\n",
    "    \"\"\"(66c)\n",
    "    :param A_OR:その他の居室の床面積（m2）\n",
    "    :return:\n",
    "    \"\"\"\n",
    "    n_p_OR_R_d_t = get_n_p_OR_R_d_t()\n",
    "\n",
    "    return  n_p_OR_R_d_t * (A_OR / 51.34)\n",
    "\n",
    "\n",
    "def calc_n_p_NR_d_t(A_NR):\n",
    "    \"\"\"(66d)\n",
    "    :param A_NR:非居室の床面積（m2）\n",
    "    :return:\n",
    "    \"\"\"\n",
    "    n_p_NR_R_d_t = get_n_p_NR_R_d_t()\n",
    "\n",
    "    return  n_p_NR_R_d_t * (A_NR / 38.93)"
   ]
  },
  {
   "cell_type": "markdown",
   "metadata": {},
   "source": [
    "<div style=\"text-align: center;font-weight: bold;\">表　標準住戸における在室人数</div>\n",
    "\n",
    "<table>\n",
    "<thead>\n",
    "<tr>\n",
    "<th rowspan=\"2\">時刻</th>\n",
    "<th colspan=\"2\">主たる居室<br>$n_{p,MR,R,d,t}$<br>(人)</th>\n",
    "<th colspan=\"2\">その他の居室<br>$n_{p,OR,R,d,t}$<br>(人)</th>\n",
    "<th colspan=\"2\">非居室<br>$n_{p,NR,R,d,t}$<br>(人)</th>\n",
    "</tr>\n",
    "<tr>\n",
    "<th>平日</th>\n",
    "<th>休日</th>\n",
    "<th>平日</th>\n",
    "<th>休日</th>\n",
    "<th>平日</th>\n",
    "<th>休日</th>\n",
    "</tr>\n",
    "</thead>\n",
    "<tbody>\n",
    "<tr><th>0</th><td>0</td><td>0</td><td>4</td><td>4</td><td>0</td><td>0</td></tr>\n",
    "<tr><th>1</th><td>0</td><td>0</td><td>4</td><td>4</td><td>0</td><td>0</td></tr>\n",
    "<tr><th>2</th><td>0</td><td>0</td><td>4</td><td>4</td><td>0</td><td>0</td></tr>\n",
    "<tr><th>3</th><td>0</td><td>0</td><td>4</td><td>4</td><td>0</td><td>0</td></tr>\n",
    "<tr><th>4</th><td>0</td><td>0</td><td>4</td><td>4</td><td>0</td><td>0</td></tr>\n",
    "<tr><th>5</th><td>0</td><td>0</td><td>4</td><td>4</td><td>0</td><td>0</td></tr>\n",
    "<tr><th>6</th><td>1</td><td>0</td><td>3</td><td>4</td><td>0</td><td>0</td></tr>\n",
    "<tr><th>7</th><td>2</td><td>0</td><td>0</td><td>3</td><td>0</td><td>0</td></tr>\n",
    "<tr><th>8</th><td>1</td><td>3</td><td>0</td><td>1</td><td>0</td><td>0</td></tr>\n",
    "<tr><th>9</th><td>1</td><td>2</td><td>0</td><td>2</td><td>0</td><td>0</td></tr>\n",
    "<tr><th>10</th><td>0</td><td>2</td><td>0</td><td>2</td><td>0</td><td>0</td></tr>\n",
    "<tr><th>11</th><td>0</td><td>2</td><td>0</td><td>2</td><td>0</td><td>0</td></tr>\n",
    "<tr><th>12</th><td>1</td><td>2</td><td>0</td><td>1</td><td>0</td><td>0</td></tr>\n",
    "<tr><th>13</th><td>1</td><td>1</td><td>0</td><td>0</td><td>0</td><td>0</td></tr>\n",
    "<tr><th>14</th><td>0</td><td>0</td><td>0</td><td>0</td><td>0</td><td>0</td></tr>\n",
    "<tr><th>15</th><td>0</td><td>0</td><td>0</td><td>0</td><td>0</td><td>0</td></tr>\n",
    "<tr><th>16</th><td>1</td><td>2</td><td>0</td><td>1</td><td>0</td><td>0</td></tr>\n",
    "<tr><th>17</th><td>2</td><td>3</td><td>0</td><td>1</td><td>0</td><td>0</td></tr>\n",
    "<tr><th>18</th><td>2</td><td>3</td><td>1</td><td>1</td><td>0</td><td>0</td></tr>\n",
    "<tr><th>19</th><td>3</td><td>4</td><td>0</td><td>0</td><td>0</td><td>0</td></tr>\n",
    "<tr><th>20</th><td>3</td><td>2</td><td>1</td><td>2</td><td>0</td><td>0</td></tr>\n",
    "<tr><th>21</th><td>2</td><td>2</td><td>1</td><td>2</td><td>0</td><td>0</td></tr>\n",
    "<tr><th>22</th><td>1</td><td>1</td><td>2</td><td>2</td><td>0</td><td>0</td></tr>\n",
    "<tr><th>23</th><td>1</td><td>0</td><td>3</td><td>3</td><td>0</td><td>0</td></tr>\n",
    "</tbody>\n",
    "</table>\n"
   ]
  },
  {
   "cell_type": "code",
   "execution_count": 75,
   "metadata": {},
   "outputs": [],
   "source": [
    "# 日付dの時刻tにおける標準住戸の主たる居室の在室人数（W）\n",
    "def get_n_p_MR_R_d_t():\n",
    "    \"\"\"\n",
    "    :return: 日付dの時刻tにおける標準住戸の主たる居室の在室人数（W）\n",
    "    \"\"\"\n",
    "    schedule = load_schedule()\n",
    "    schedule_ac = get_schedule_ac(schedule)\n",
    "\n",
    "    table_6 = get_table_6()\n",
    "\n",
    "    # 全日平日とみなした24時間365日の標準住戸における在室人数\n",
    "    tmp_a = np.tile(table_6[0], 365)\n",
    "\n",
    "    # 全日休日とみなした24時間365日の標準住戸における在室人数\n",
    "    tmp_b = np.tile(table_6[1], 365)\n",
    "\n",
    "    # 時間単位に展開した生活パターン\n",
    "    schedule_extend = np.repeat(np.array(schedule_ac), 24)\n",
    "\n",
    "    n_p_MR_R_d_t = tmp_a * (schedule_extend == '平日') \\\n",
    "                    + tmp_b * (schedule_extend == '休日')\n",
    "\n",
    "    return n_p_MR_R_d_t\n",
    "\n",
    "\n",
    "# 日付dの時刻tにおける標準住戸のその他の居室の在室人数（W）\n",
    "def get_n_p_OR_R_d_t():\n",
    "    \"\"\"\n",
    "    :return: 日日付dの時刻tにおける標準住戸のその他の居室の在室人数（W）\n",
    "    \"\"\"\n",
    "    schedule = load_schedule()\n",
    "    schedule_ac = get_schedule_ac(schedule)\n",
    "\n",
    "    table_6 = get_table_6()\n",
    "\n",
    "    # 全日平日とみなした24時間365日の標準住戸における在室人数\n",
    "    tmp_a = np.tile(table_6[2], 365)\n",
    "\n",
    "    # 全日休日とみなした24時間365日の標準住戸における在室人数\n",
    "    tmp_b = np.tile(table_6[3], 365)\n",
    "\n",
    "    # 時間単位に展開した生活パターン\n",
    "    schedule_extend = np.repeat(np.array(schedule_ac), 24)\n",
    "\n",
    "    n_p_OR_R_d_t = tmp_a * (schedule_extend == '平日') \\\n",
    "                      + tmp_b * (schedule_extend == '休日')\n",
    "\n",
    "    return n_p_OR_R_d_t\n",
    "\n",
    "\n",
    "# 日付dの時刻tにおける標準住戸の非居室の在室人数（W）\n",
    "def get_n_p_NR_R_d_t():\n",
    "    \"\"\"\n",
    "    :return: 日付dの時刻tにおける標準住戸の非居室の在室人数（W）\n",
    "    \"\"\"\n",
    "    schedule = load_schedule()\n",
    "    schedule_ac = get_schedule_ac(schedule)\n",
    "\n",
    "    table_6 = get_table_6()\n",
    "\n",
    "    # 全日平日とみなした24時間365日の標準住戸における在室人数\n",
    "    tmp_a = np.tile(table_6[4], 365)\n",
    "\n",
    "    # 全日休日とみなした24時間365日の標準住戸における在室人数\n",
    "    tmp_b = np.tile(table_6[5], 365)\n",
    "\n",
    "    # 時間単位に展開した生活パターン\n",
    "    schedule_extend = np.repeat(np.array(schedule_ac), 24)\n",
    "\n",
    "    n_p_NR_R_d_t = tmp_a * (schedule_extend == '平日') \\\n",
    "                      + tmp_b * (schedule_extend == '休日')\n",
    "\n",
    "    return n_p_NR_R_d_t\n",
    "\n",
    "\n",
    "# 標準住戸における内部発熱\n",
    "def get_table_6():\n",
    "    return [\n",
    "        (0, 0, 0, 0, 0, 0, 1, 2, 1, 1, 0, 0, 1, 1, 0, 0, 1, 2, 2, 3, 3, 2, 1, 1),\n",
    "        (0, 0, 0, 0, 0, 0, 0, 0, 3, 2, 2, 2, 2, 1, 0, 0, 2, 3, 3, 4, 2, 2, 1, 0),\n",
    "        (4, 4, 4, 4, 4, 4, 3, 0, 0, 0, 0, 0, 0, 0, 0, 0, 0, 0, 1, 0, 1, 1, 2, 3),\n",
    "        (4, 4, 4, 4, 4, 4, 4, 3, 1, 2, 2, 2, 1, 0, 0, 0, 1, 1, 1, 0, 2, 2, 2, 3),\n",
    "        (0, 0, 0, 0, 0, 0, 0, 0, 0, 0, 0, 0, 0, 0, 0, 0, 0, 0, 0, 0, 0, 0, 0, 0),\n",
    "        (0, 0, 0, 0, 0, 0, 0, 0, 0, 0, 0, 0, 0, 0, 0, 0, 0, 0, 0, 0, 0, 0, 0, 0),\n",
    "    ]"
   ]
  },
  {
   "cell_type": "markdown",
   "metadata": {},
   "source": [
    "#### 13.3 使い方"
   ]
  },
  {
   "cell_type": "markdown",
   "metadata": {},
   "source": [
    "#### 13.3.1 暖冷房期間"
   ]
  },
  {
   "cell_type": "markdown",
   "metadata": {},
   "source": [
    "<div style=\"text-align: center;font-weight: bold;\">表　暖冷房期間</div>\n",
    "\n",
    "<table>\n",
    "<thead>\n",
    "<tr>\n",
    "<th>地域の区分 </th>\n",
    "<th>暖房期</th>\n",
    "<th>冷房期</th>\n",
    "</tr>\n",
    "</thead>\n",
    "<tbody>\n",
    "<tr><th>1</th><td>9月24日～6月7日</td><td>7月10日～8月31日</td></tr>\n",
    "<tr><th>2</th><td>9月26日～6月4日</td><td>7月15日～8月31日</td></tr>\n",
    "<tr><th>3</th><td>9月30日～5月31日</td><td>7月10日～8月31日</td></tr>\n",
    "<tr><th>4</th><td>10月1日～5月30日</td><td>7月10日～8月31日</td></tr>\n",
    "<tr><th>5</th><td>10月10日～5月15日</td><td>7月6日～8月31日</td></tr>\n",
    "<tr><th>6</th><td>11月4日～4月21日</td><td>5月30日～9月23日</td></tr>\n",
    "<tr><th>7</th><td>11月26日～3月27日</td><td>5月15日～10月13日</td></tr>\n",
    "<tr><th>8</th><td>なし</td><td>3月25日～12月14日</td></tr>\n",
    "</tbody>\n",
    "</table>\n"
   ]
  },
  {
   "cell_type": "code",
   "execution_count": 76,
   "metadata": {},
   "outputs": [],
   "source": [
    "# 暖冷房期間\n",
    "def get_season_array(region):\n",
    "    table_7 = get_table_7()[region-1]\n",
    "\n",
    "    H = get_period_array(table_7[0], table_7[1])\n",
    "    C = get_period_array(table_7[2], table_7[3])\n",
    "    M = np.logical_and(np.logical_not(H), np.logical_not(C))\n",
    "\n",
    "    return H, C, M\n",
    "\n",
    "\n",
    "# 暖冷房期間を24*365の配列で返す\n",
    "def get_season_array_d_t(region):\n",
    "    H, C, M = get_season_array(region)\n",
    "\n",
    "    H = np.repeat(H, 24)\n",
    "    C = np.repeat(C, 24)\n",
    "    M = np.repeat(M, 24)\n",
    "\n",
    "    return H, C, M\n",
    "\n",
    "\n",
    "def get_period_array(p1, p2):\n",
    "    \"\"\" 指定月日期間のみTrueのndarrayを作成する\n",
    "\n",
    "    指定月日期間のみTrueのndarrayを作成する。\n",
    "    開始月日が終了月日が逆転する場合は、年をまたいだとみなす。\n",
    "\n",
    "    :param p1: 開始月日をtuple指定 例) 1月2日 であれば (1,2)\n",
    "    :param p2: 終了月日をtuple指定 例) 5月4日 であれば (5,4)\n",
    "    :return: p1からp2の間はTrueである365の長さのndarray\n",
    "    \"\"\"\n",
    "\n",
    "    if p1 is None or p2 is None:\n",
    "        return np.zeros(365, dtype=bool)\n",
    "\n",
    "    d_base = datetime.date(2018, 1, 1)   #年初\n",
    "    d1 = (datetime.date(2018, p1[0], p1[1]) - d_base).days   #年初からの日数1\n",
    "    d2 = (datetime.date(2018, p2[0], p2[1]) - d_base).days   #年初からの日数2\n",
    "\n",
    "    if d1 < d2:\n",
    "        # d1からd2の間はTrue\n",
    "        # 例) 7月10日～8月31日\n",
    "        arr = np.zeros(365, dtype=bool)\n",
    "        arr[d1:d2+1] = True\n",
    "    else:\n",
    "        # d1からd2の間はFalse\n",
    "        # 例) 9月24日～6月7日\n",
    "        arr = np.ones(365, dtype=bool)\n",
    "        arr[d2+1:d1] = False\n",
    "\n",
    "    return arr\n",
    "\n",
    "\n",
    "def get_table_7():\n",
    "    return [\n",
    "        ((9, 24), (6, 7), (7, 10), (8, 31)),\n",
    "        ((9, 26), (6, 4), (7, 15), (8, 31)),\n",
    "        ((9, 30), (5, 31), (7, 10), (8, 31)),\n",
    "        ((10, 1), (5, 30), (7, 10), (8, 31)),\n",
    "        ((10, 10), (5, 15), (7, 6), (8, 31)),\n",
    "        ((11, 4), (4, 21), (5, 30), (9, 23)),\n",
    "        ((11, 26), (3, 27), (5, 15), (10, 13)),\n",
    "        (None, None, (3, 25), (12, 14)),\n",
    "    ]"
   ]
  },
  {
   "cell_type": "markdown",
   "metadata": {},
   "source": [
    "#### 13.3.2 設定温度・設定絶対湿度"
   ]
  },
  {
   "cell_type": "markdown",
   "metadata": {},
   "source": [
    "暖房時の設定温度$\\theta_{set,H}$は、20 ℃とする。冷房時の設定温度$\\theta_{set,C}$は、27 ℃とする。冷房時の設定絶対湿度は、空気温度 27℃、60%の時の絶対湿度とし、0.013425743 kg/kg(DA)とする。"
   ]
  },
  {
   "cell_type": "code",
   "execution_count": 77,
   "metadata": {},
   "outputs": [],
   "source": [
    "# 暖房時の設定温度 (℃)\n",
    "def get_Theta_set_H():\n",
    "    return 20.0\n",
    "\n",
    "\n",
    "# 冷房時の設定温度 (℃)\n",
    "def get_Theta_set_C():\n",
    "    return 27.0\n",
    "\n",
    "\n",
    "# 冷房時の設定絶対湿度(空気温度27℃、60%の時の絶対湿度とする) (kg/kg(DA))\n",
    "def get_X_set_C():\n",
    "    return 0.013425743"
   ]
  },
  {
   "cell_type": "markdown",
   "metadata": {},
   "source": [
    "#### 13.4 暖房負荷・冷房負荷"
   ]
  },
  {
   "cell_type": "markdown",
   "metadata": {},
   "source": [
    "省略"
   ]
  },
  {
   "cell_type": "markdown",
   "metadata": {},
   "source": [
    "#### 13.5 空気および水の物性値"
   ]
  },
  {
   "cell_type": "markdown",
   "metadata": {},
   "source": [
    "空気の比熱$c_{p_{air}}$は、1006.0 J/(kg・K)とする。空気の密度$\\rho_{air}$は、1.2 kg/$m^3$ とする。"
   ]
  },
  {
   "cell_type": "code",
   "execution_count": 78,
   "metadata": {},
   "outputs": [],
   "source": [
    "# 空気の比熱 (J/Kg・K)\n",
    "def get_c_p_air():\n",
    "    return 1006.0\n",
    "\n",
    "\n",
    "# 空気の密度 (kg/m3)\n",
    "def get_rho_air():\n",
    "    return 1.2"
   ]
  },
  {
   "cell_type": "markdown",
   "metadata": {},
   "source": [
    "$$\\large\n",
    "L_{wtr}=2500.8 −2.3668\\times \\theta\n",
    "$$"
   ]
  },
  {
   "cell_type": "markdown",
   "metadata": {},
   "source": [
    "$L_{wtr}$：水の蒸発潜熱(kJ/kg)  \n",
    "$\\theta$：温度(℃)  \n"
   ]
  },
  {
   "cell_type": "code",
   "execution_count": 79,
   "metadata": {},
   "outputs": [],
   "source": [
    "# 水の蒸発潜熱 (kJ/kg) (67)\n",
    "def get_L_wtr():\n",
    "    Theta = get_Theta()\n",
    "    return 2500.8 - 2.3668 * Theta"
   ]
  },
  {
   "cell_type": "markdown",
   "metadata": {},
   "source": [
    "温度$\\theta$は、冷房時を仮定し、27℃とする。"
   ]
  },
  {
   "cell_type": "code",
   "execution_count": 80,
   "metadata": {},
   "outputs": [],
   "source": [
    "# 冷房時を仮定した温度 (℃)\n",
    "def get_Theta():\n",
    "    return 27"
   ]
  }
 ],
 "metadata": {
  "kernelspec": {
   "display_name": "Python 3",
   "language": "python",
   "name": "python3"
  },
  "language_info": {
   "codemirror_mode": {
    "name": "ipython",
    "version": 3
   },
   "file_extension": ".py",
   "mimetype": "text/x-python",
   "name": "python",
   "nbconvert_exporter": "python",
   "pygments_lexer": "ipython3",
   "version": "3.6.6"
  }
 },
 "nbformat": 4,
 "nbformat_minor": 2
}
