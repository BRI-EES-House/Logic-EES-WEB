{
 "cells": [
  {
   "cell_type": "markdown",
   "metadata": {},
   "source": [
    "使用許諾条件\n",
    "\n",
    "①\t設計一次エネルギー消費量算定法に基づく計算方法をPythonによりコーディングし、Jupyter notebook形式で保存したファイル（以下、本ファイルと呼ぶ）の著作権は、一般社団法人日本サステナブル建築協会に帰属します。\n",
    "Copyright©2019. 一般社団法人日本サステナブル建築協会\n",
    "All rights reserved. \n",
    "\n",
    "②\t本ファイルは、住戸の設計一次エネルギー消費量算定方法に係る「平成28年省エネルギー基準に準拠したエネルギー消費性能の評価に関する技術情報（住宅）2.1算定方法（第四章第二節 ダクト式セントラル空調機）」に示す計算方法に基づき、国土交通省国土技術政策総合研究所・国立研究開発法人建築研究所、株式会社ユーワークス、株式会社住環境計画研究所が作成したものです。\n",
    "\n",
    "③\t本ファイルは、計算方法に示す計算過程の確認及び調査研究等に活用することを目的として作成されたものであり、一般社団法人日本サステナブル建築協会は著作権について放棄はしませんが、使用する各人の自己責任において仕様を変更することを妨げるものではありません。ただし、本ファイルによる計算結果を住宅の省エネルギー基準で規定する設計一次エネルギー消費量の結果として公的な申請に用いることはできません。\n",
    "\n",
    "④\t本ファイルを変更するかしないかを問わず、以下の条件を満たす場合に限り、頒布および使用が許可されます。\n",
    "1.\t頒布物の付属ドキュメント等の資料に、上記の著作権表示、本条件一覧、および下記免責条項を含めること。\n",
    "2.\t書面による特別の許可なしに、本ファイルから派生した製品の宣伝または販売の促進に、一般社団法人日本サステナブル建築協会、国土技術政策総合研究所・国立研究開発法人建築研究所および株式会社ユーワークス、株式会社住環境計画研究所の名前またはコントリビューターの名前を使用してはならない。\n",
    "\n",
    "⑤\t本ファイルは、著作権者およびコントリビューターによって「現状のまま」提供されており、明示黙示を問わず、商業的な使用可能性、および特定の目的に対する適合性に関する暗黙の保証も含め、またそれに限定されない、いかなる保証もありません。著作権もコントリビューターも、事由のいかんを問わず、損害発生の原因いかんを問わず、かつ責任の根拠が契約であるか厳格責任であるか（過失その他の）不法行為であるかを問わず、仮にそのような損害が発生する可能性を知らされていたとしても、本ファイルの使用によって発生した（代用品または代用サービスの調達、使用の喪失、データの喪失、利益の喪失、業務の中断も含め、またそれに限定されない）直接損害、間接損害、偶発的な損害、特別損害、懲罰的損害、または結果損害について、一切の責任を負わないものとします。\n",
    "\n"
   ]
  },
  {
   "cell_type": "code",
   "execution_count": null,
   "metadata": {},
   "outputs": [],
   "source": [
    "import nbimporter\n",
    "import numpy as np\n",
    "\n",
    "from s04_01_general import \\\n",
    "    get_Q_T_H_A_d_t, \\\n",
    "    get_Q_UT_H_A_d_t, \\\n",
    "    get_Q_T_CS_A_d_t, \\\n",
    "    get_Q_T_CL_A_d_t\n",
    "\n",
    "from s11_01_external_condition import \\\n",
    "    load_outdoor, \\\n",
    "    get_T_ex, \\\n",
    "    get_Theta_ex, \\\n",
    "    get_X_ex, \\\n",
    "    get_h_ex"
   ]
  },
  {
   "cell_type": "markdown",
   "metadata": {},
   "source": [
    "## 第二節　ダクト式セントラル空調機 / Section 2 Duct type central air conditioner"
   ]
  },
  {
   "cell_type": "markdown",
   "metadata": {},
   "source": [
    "1．適用範囲～4．記号及び単位は省略"
   ]
  },
  {
   "cell_type": "markdown",
   "metadata": {},
   "source": [
    "1. Scope of application ~ 4. Symbols and units are omitted"
   ]
  },
  {
   "cell_type": "markdown",
   "metadata": {},
   "source": [
    "### 5．暖房エネルギー消費量"
   ]
  },
  {
   "cell_type": "markdown",
   "metadata": {},
   "source": [
    "#### 5.1 消費電力量 / Power consumption"
   ]
  },
  {
   "cell_type": "markdown",
   "metadata": {},
   "source": [
    "省略"
   ]
  },
  {
   "cell_type": "markdown",
   "metadata": {},
   "source": [
    "#### 5.2 ガス消費量"
   ]
  },
  {
   "cell_type": "markdown",
   "metadata": {},
   "source": [
    "日付$d$の時刻$t$における 1 時間当たりのガス消費量$E_{G,H,d,t}$は0とする。"
   ]
  },
  {
   "cell_type": "markdown",
   "metadata": {},
   "source": [
    "#### 5.3 灯油消費量"
   ]
  },
  {
   "cell_type": "markdown",
   "metadata": {},
   "source": [
    "日付$d$の時刻$t$における 1 時間当たりのの灯油消費量$E_{K,H,d,t}$は0とする。"
   ]
  },
  {
   "cell_type": "markdown",
   "metadata": {},
   "source": [
    "#### 5.4 その他の燃料による一次エネルギー消費量"
   ]
  },
  {
   "cell_type": "markdown",
   "metadata": {},
   "source": [
    "日付$d$の時刻$t$における 1 時間当たりのその他の燃料による一次エネルギー消費量$E_{M,H,d,t}$は0とする。"
   ]
  },
  {
   "cell_type": "markdown",
   "metadata": {},
   "source": [
    "### 6．冷房エネルギー消費量"
   ]
  },
  {
   "cell_type": "markdown",
   "metadata": {},
   "source": [
    "#### 6.1　消費電力量 / Power consumption"
   ]
  },
  {
   "cell_type": "markdown",
   "metadata": {},
   "source": [
    "省略"
   ]
  },
  {
   "cell_type": "markdown",
   "metadata": {},
   "source": [
    "#### 6.2 ガス消費量"
   ]
  },
  {
   "cell_type": "markdown",
   "metadata": {},
   "source": [
    "日付$d$の時刻$t$における 1 時間当たりのガス消費量$E_{G,C,d,t}$は0とする。"
   ]
  },
  {
   "cell_type": "markdown",
   "metadata": {},
   "source": [
    "#### 6.3 灯油消費量"
   ]
  },
  {
   "cell_type": "markdown",
   "metadata": {},
   "source": [
    "日付$d$の時刻$t$における 1 時間当たりの灯油消費量$E_{K,C,d,t}$は0とする。"
   ]
  },
  {
   "cell_type": "markdown",
   "metadata": {},
   "source": [
    "#### 6.4 その他の燃料による一次エネルギー消費量"
   ]
  },
  {
   "cell_type": "markdown",
   "metadata": {},
   "source": [
    "日付$d$の時刻$t$における 1 時間当たりのその他の燃料による一次エネルギー消費量$E_{M,C,d,t}$は0とする。"
   ]
  },
  {
   "cell_type": "markdown",
   "metadata": {},
   "source": [
    "### 7．冷房設備の未処理冷房負荷の設計一次エネルギー消費量相当値"
   ]
  },
  {
   "cell_type": "markdown",
   "metadata": {},
   "source": [
    "$$\\large\n",
    "E_{C,UT,d,t} = \\sum^5_{i=1} \\alpha_{UT,C}(Q_{UT,CL,d,t,i}+Q_{UT,CS,d,t,i})\n",
    "$$"
   ]
  },
  {
   "cell_type": "markdown",
   "metadata": {},
   "source": [
    "$E_{C,UT,d,t}$：日付$d$の時刻$t$における1時間当たりの冷房設備の未処理冷房負荷の設計一次エネルギー消費量相当\n",
    "値(MJ/h)  \n",
    "$Q_{UT,CL,d,t,i}$：日付$d$の時刻$t$における1時間当たりの暖冷房区画$i$に設置された冷房設備機器の未処理冷房潜熱負荷(MJ/h) \n",
    "$Q_{UT,CS,d,t,i}$：日付$d$の時刻$t$における1時間当たりの暖冷房区画$i$に設置された冷房設備機器の未処理冷房顕熱負荷(MJ/h)  \n",
    "$\\alpha_{UT,C}$：冷房設備の未処理冷房負荷を未処理冷房負荷の設計一次エネルギー消費量相当値に換算する係数(-)  "
   ]
  },
  {
   "cell_type": "markdown",
   "metadata": {},
   "source": [
    "### 8．未処理負荷"
   ]
  },
  {
   "cell_type": "markdown",
   "metadata": {},
   "source": [
    "$$\\large\n",
    "Q_{UT,H,d,t,i}=max(L^*_{H,d,t,i}-L'_{H,d,t,i} , 0)\n",
    "$$\n",
    "\n",
    "$$\\large\n",
    "Q_{UT,CS,d,t,i}=max(L^*_{CS,d,t,i}-L'_{CS,d,t,i} , 0)\n",
    "$$\n",
    "\n",
    "$$\\large\n",
    "Q_{UT,CL,d,t,i}=max(L^*_{CL,d,t,i}-L'_{CL,d,t,i} , 0)\n",
    "$$"
   ]
  },
  {
   "cell_type": "markdown",
   "metadata": {},
   "source": [
    "$L'_{CL,d,t,i}$：日付$d$の時刻$t$における暖冷房区画$i$の1時間当たりの間仕切りの熱取得を含む実際の冷房潜熱負荷(MJ/h)  \n",
    "$L'_{CS,d,t,i}$：日付$d$の時刻$t$における暖冷房区画$i$の1時間当たりの間仕切りの熱取得を含む実際の冷房顕熱負荷(MJ/h)  \n",
    "$L'_{H,d,t,i}$：日付$d$の時刻$t$における暖冷房区画$i$の1時間当たりの間仕切りの熱損失を含む実際の暖房負荷(MJ/h)  \n",
    "$L^*_{CL,d,t,i}$：日付$d$の時刻$t$における暖冷房区画$i$の1時間当たりの熱取得を含む負荷バランス時の冷房潜熱負荷(MJ/h)  \n",
    "$L^*_{CS,d,t,i}$：日付$d$の時刻$t$における暖冷房区画$i$の1時間当たりの熱取得を含む負荷バランス時の冷房顕熱負荷(MJ/h)  \n",
    "$L^*_{H,d,t,i}$：日付$d$の時刻$t$における暖冷房区画$i$の1時間当たりの熱損失を含む負荷バランス時の暖房負荷(MJ/h)  \n",
    "$Q_{UT,CL,d,t,i}$：日付$d$の時刻$t$における1 時間当たりの暖冷房区画$i$に設置された冷房設備機器の未処理冷房潜熱負荷(MJ/h)  \n",
    "$Q_{UT,CS,d,t,i}$：日付$d$の時刻$t$における1 時間当たりの暖冷房区画$i$に設置された冷房設備機器の未処理冷房顕熱負荷(MJ/h)  \n",
    "$Q_{UT,H,d,t,i}$：日付$d$の時刻$t$における1 時間当たりの暖冷房区画$i$に設置された暖房設備機器等の未処理暖房負荷(MJ/h)  \n"
   ]
  },
  {
   "cell_type": "markdown",
   "metadata": {},
   "source": [
    "暖房期："
   ]
  },
  {
   "cell_type": "markdown",
   "metadata": {},
   "source": [
    "$$\\large\n",
    "L'_{H,d,t,i}=c_{p_{air}}\\rho_{air}V_{supply,d,t,i}(\\theta_{supply,d,t,i}-\\theta_{HBR,d,t,i})\\times10^{-6}\n",
    "$$\n",
    "\n",
    "$$\\large\n",
    "L'_{CS,d,t,i}=0.0\n",
    "$$\n",
    "\n",
    "$$\\large\n",
    "L'_{CL,d,t,i}=0.0\n",
    "$$"
   ]
  },
  {
   "cell_type": "markdown",
   "metadata": {},
   "source": [
    "冷房期："
   ]
  },
  {
   "cell_type": "markdown",
   "metadata": {},
   "source": [
    "$$\\large\n",
    "L'_{H,d,t,i}=0.0\n",
    "$$\n",
    "\n",
    "$$\\large\n",
    "L'_{CS,d,t,i}=c_{p_{air}}\\rho_{air}V_{supply,d,t,i}(\\theta_{HBR,d,t,i}-\\theta_{supply,d,t,i})\\times10^{-6}\n",
    "$$\n",
    "\n",
    "$$\\large\n",
    "L'_{CL,d,t,i}=L_{wtr}\\rho_{air}V_{supply,d,t,i}(X_{HBR,d,t,i}-X_{supply,d,t,i})\\times10^{-3}\n",
    "$$"
   ]
  },
  {
   "cell_type": "markdown",
   "metadata": {},
   "source": [
    "中間期："
   ]
  },
  {
   "cell_type": "markdown",
   "metadata": {},
   "source": [
    "$$\\large\n",
    "L'_{H,d,t,i}=0.0\n",
    "$$\n",
    "\n",
    "$$\\large\n",
    "L'_{CS,d,t,i}=0.0\n",
    "$$\n",
    "\n",
    "$$\\large\n",
    "L'_{CL,d,t,i}=0.0\n",
    "$$"
   ]
  },
  {
   "cell_type": "markdown",
   "metadata": {},
   "source": [
    "$L'_{CL,d,t,i}$：日付$d$の時刻$t$における暖冷房区画$i$の1時間当たりの間仕切りの熱取得を含む実際の冷房潜熱負荷(MJ/h)  \n",
    "$L'_{CS,d,t,i}$：日付$d$の時刻$t$における暖冷房区画$i$の1時間当たりの間仕切りの熱取得を含む実際の冷房顕熱負荷(MJ/h)  \n",
    "$L'_{H,d,t,i}$：日付$d$の時刻$t$における暖冷房区画$i$の1時間当たりの間仕切りの熱損失を含む実際の暖房負荷(MJ/h)  \n",
    "$V_{supply,d,t,i}$：日付$d$の時刻$t$における暖冷房区画$i$の吹き出し風量($m^3$/h)  \n",
    "$X_{HBR,d,t,i}$：日付$d$の時刻$t$における暖冷房区画$i$の実際の居室の絶対湿度(kg/kg(DA))  \n",
    "$X_{supply,d,t,i}$：日付$d$の時刻$t$における暖冷房区画$i$の吹き出し絶対湿度(kg/kg(DA))  \n",
    "$\\theta_{HBR,d,t,i}$：日付$d$の時刻$t$における暖冷房区画$i$の実際の居室の室温(℃)  \n",
    "$\\theta_{supply,d,t,i}$：日付$d$の時刻$t$における暖冷房区画$i$の吹き出し温度(℃)  \n",
    "$c_{p_{air}}$：空気の比熱(J/(kg・K))  \n",
    "$L_{wtr}$：水の蒸発潜熱(kJ/kg)  \n",
    "$\\rho_{air}$：空気の密度(kg/$m^3$)  \n"
   ]
  },
  {
   "cell_type": "markdown",
   "metadata": {},
   "source": [
    "暖房期："
   ]
  },
  {
   "cell_type": "markdown",
   "metadata": {},
   "source": [
    "$$\\large\n",
    "L^*_{H,d,t,i}=\\left\\{ \\begin{array}{ll}\n",
    "    max(L_{H,d,t,i}+Q^*_{trs,prt,d,t,i},0) &(L_{H,d,t,i}>0)\\\\ \n",
    "    0 &(L_{H,d,t,i} \\leq 0)\\\\ \n",
    "    \\end{array}\n",
    "\\right.\n",
    "$$\n",
    "\n",
    "$$\\large\n",
    "L^*_{CS,d,t,i}=0\n",
    "$$\n",
    "\n",
    "$$\\large\n",
    "L^*_{CL,d,t,i}=0\n",
    "$$"
   ]
  },
  {
   "cell_type": "markdown",
   "metadata": {},
   "source": [
    "冷房期："
   ]
  },
  {
   "cell_type": "markdown",
   "metadata": {},
   "source": [
    "$$\\large\n",
    "L^*_{H,d,t,i}=0\n",
    "$$\n",
    "\n",
    "$$\\large\n",
    "L^*_{CS,d,t,i}=\\left\\{ \\begin{array}{ll}\n",
    "    max(L_{CS,d,t,i}+Q^*_{trs,prt,d,t,i},0) &(L_{CS,d,t,i}>0)\\\\ \n",
    "    0 &(L_{CS,d,t,i} \\leq 0)\\\\ \n",
    "    \\end{array}\n",
    "\\right.\n",
    "$$\n",
    "\n",
    "$$\\large\n",
    "L^*_{CL,d,t,i}=\\left\\{ \\begin{array}{ll}\n",
    "    max(L_{CL,d,t,i},0) &(L_{CS,d,t,i}>0)\\\\ \n",
    "    0 &(L_{CS,d,t,i} \\leq 0)\\\\ \n",
    "    \\end{array}\n",
    "\\right.\n",
    "$$"
   ]
  },
  {
   "cell_type": "markdown",
   "metadata": {},
   "source": [
    "中間期："
   ]
  },
  {
   "cell_type": "markdown",
   "metadata": {},
   "source": [
    "$$\\large\n",
    "L^*_{H,d,t,i}=0\n",
    "$$\n",
    "\n",
    "$$\\large\n",
    "L^*_{CS,d,t,i}=0\n",
    "$$\n",
    "\n",
    "$$\\large\n",
    "L^*_{CL,d,t,i}=0\n",
    "$$"
   ]
  },
  {
   "cell_type": "markdown",
   "metadata": {},
   "source": [
    "$L_{CL,d,t,i}$：日付$d$の時刻$t$における暖冷房区画$i$の1時間当たりの冷房潜熱負荷(MJ/h)  \n",
    "$L_{CS,d,t,i}$：日付$d$の時刻$t$における暖冷房区画$i$の1時間当たりの冷房顕熱負荷(MJ/h)  \n",
    "$L_{H,d,t,i}$：日付$d$の時刻$t$における暖冷房区画$i$の1時間当たりの暖房負荷(MJ/h)  \n",
    "$L^*_{CL,d,t,i}$：日付$d$の時刻$t$における暖冷房区画$i$の1時間当たりの熱取得を含む負荷バランス時の冷房潜熱負荷(MJ/h)  \n",
    "$L^*_{CS,d,t,i}$：日付$d$の時刻$t$における暖冷房区画$i$の1時間当たりの熱取得を含む負荷バランス時の冷房顕熱負荷(MJ/h)  \n",
    "$L^*_{H,d,t,i}$：日付$d$の時刻$t$における暖冷房区画$i$の1時間当たりの熱損失を含む負荷バランス時の暖房負荷(MJ/h)  \n",
    "$Q^*_{trs,prt,d,t,i}$：日付$d$の時刻$t$における暖冷房区画$i$の1時間当たりの熱損失を含む負荷バランス時の非居室への熱移動(MJ/h)  \n"
   ]
  },
  {
   "cell_type": "markdown",
   "metadata": {},
   "source": [
    "$$\\large\n",
    "Q^*_{trs,prt,d,t,i}=U_{prt}A_{prt,i}(\\theta^*_{HBR,d,t}-\\theta^*_{NR,d,t})\\times 3600 \\times 10^{-6}\n",
    "$$\n"
   ]
  },
  {
   "cell_type": "markdown",
   "metadata": {},
   "source": [
    "$A_{prt,i}$：暖冷房区画$i$から見た非居室の間仕切りの面積($m^2$)  \n",
    "$Q^*_{trs,prt,d,t,i}$：日付$d$の時刻$t$における暖冷房区画$i$の1時間当たりの熱損失を含む負荷バランス時の非居室への熱移動(MJ/h)  \n",
    "$U_{prt}$：間仕切りの熱貫流率(W/($m^2$・K))  \n",
    "$\\theta^*_{HBR,d,t}$：日付$d$の時刻$t$における負荷バランス時の居室の室温(℃)  \n",
    "$\\theta^*_{NR,d,t}$：日付$d$の時刻$t$における負荷バランス時の非居室の室温(℃)  \n"
   ]
  },
  {
   "cell_type": "markdown",
   "metadata": {},
   "source": [
    "### 9. 熱源機"
   ]
  },
  {
   "cell_type": "markdown",
   "metadata": {},
   "source": [
    "#### 9.1 熱源機の入口における空気温度・絶対湿度"
   ]
  },
  {
   "cell_type": "markdown",
   "metadata": {},
   "source": [
    "$$\\large\n",
    "\\theta_{hs,in,d,t} = \\theta_{NR,d,t}\n",
    "$$\n"
   ]
  },
  {
   "cell_type": "markdown",
   "metadata": {},
   "source": [
    "$\\theta_{hs,in,d,t}$：日付$d$の時刻$t$における熱源機の入口における空気温度(℃)  \n",
    "$\\theta_{NR,d,t}$：日付$d$の時刻$t$における非居室の室温(℃)  \n"
   ]
  },
  {
   "cell_type": "markdown",
   "metadata": {},
   "source": [
    "$$\\large\n",
    "X_{hs,in,d,t} = X_{NR,d,t}\n",
    "$$\n"
   ]
  },
  {
   "cell_type": "markdown",
   "metadata": {},
   "source": [
    "$X_{hs,in,d,t}$：日付$d$の時刻$t$における熱源機の入口における絶対湿度(kg/kg(DA))  \n",
    "$X_{NR,d,t}$：日付$d$の時刻$t$における非居室の絶対湿度(kg/kg(DA))  \n"
   ]
  },
  {
   "cell_type": "markdown",
   "metadata": {},
   "source": [
    "#### 9.2 熱源機の出口における空気温度・絶対湿度"
   ]
  },
  {
   "cell_type": "markdown",
   "metadata": {},
   "source": [
    "VAVの機構の有無によらず、熱源機の出口における空気温度$\\theta_{hs,out,d,t}$は、暖房期においては、暖房時の熱源機の出口における空気温度の最高値$\\theta_{hs,out,max,H,d,t}$を超える場合は、暖房時の熱源機の出口における空気温度の最高値$\\theta_{hs,out,max,H,d,t}$に等しいとし、冷房期においては、冷房時の熱源機の出口における空気温度の最低値$\\theta_{hs,out,min,C,d,t}$を下回る場合は、冷房時の熱源機の出口における空気温度の最低値$\\theta_{hs,out,min,C,d,t}$に等しいとする。"
   ]
  },
  {
   "cell_type": "markdown",
   "metadata": {},
   "source": [
    "VAVの機構を有さない場合："
   ]
  },
  {
   "cell_type": "markdown",
   "metadata": {},
   "source": [
    "暖房期："
   ]
  },
  {
   "cell_type": "markdown",
   "metadata": {},
   "source": [
    "$$\\large\n",
    "\\theta_{hs,out,d,t}=\\left\\{ \\begin{array}{ll}\n",
    "    \\frac{\\sum^5_{i=1}(\\theta_{req,d,t,i}V'_{supply,d,t,i})}{\\sum^5_{i=1}V'_{supply,d,t,i}} &(\\sum^5_{i=1}L^*_{H,d,t,i}>0)\\\\ \n",
    "    \\theta_{NR,d,t} &(\\sum^5_{i=1}L^*_{H,d,t,i} \\leq 0)\\\\ \n",
    "    \\end{array}\n",
    "\\right.\n",
    "$$"
   ]
  },
  {
   "cell_type": "markdown",
   "metadata": {},
   "source": [
    "冷房期："
   ]
  },
  {
   "cell_type": "markdown",
   "metadata": {},
   "source": [
    "$$\\large\n",
    "\\theta_{hs,out,d,t}=\\left\\{ \\begin{array}{ll}\n",
    "    \\frac{\\sum^5_{i=1}(\\theta_{req,d,t,i}V'_{supply,d,t,i})}{\\sum^5_{i=1}V'_{supply,d,t,i}} &(\\sum^5_{i=1}L^*_{CS,d,t,i}>0)\\\\ \n",
    "    \\theta_{NR,d,t} &(\\sum^5_{i=1}L^*_{CS,d,t,i} \\leq 0)\\\\ \n",
    "    \\end{array}\n",
    "\\right.\n",
    "$$"
   ]
  },
  {
   "cell_type": "markdown",
   "metadata": {},
   "source": [
    "中間期："
   ]
  },
  {
   "cell_type": "markdown",
   "metadata": {},
   "source": [
    "$$\\large\n",
    "\\theta_{hs,out,d,t}=\\theta_{NR,d,t}\n",
    "$$"
   ]
  },
  {
   "cell_type": "markdown",
   "metadata": {},
   "source": [
    "VAVの機構を有する場合："
   ]
  },
  {
   "cell_type": "markdown",
   "metadata": {},
   "source": [
    "暖房期："
   ]
  },
  {
   "cell_type": "markdown",
   "metadata": {},
   "source": [
    "$$\\large\n",
    "\\theta_{hs,out,d,t}=\\left\\{ \\begin{array}{ll}\n",
    "    max\\{\\theta_{req,d,t,i}|i=1,5\\} &(\\sum^5_{i=1}L^*_{H,d,t,i}>0)\\\\ \n",
    "    \\theta_{NR,d,t} &(\\sum^5_{i=1}L^*_{H,d,t,i} \\leq 0)\\\\ \n",
    "    \\end{array}\n",
    "\\right.\n",
    "$$"
   ]
  },
  {
   "cell_type": "markdown",
   "metadata": {},
   "source": [
    "冷房期："
   ]
  },
  {
   "cell_type": "markdown",
   "metadata": {},
   "source": [
    "$$\\large\n",
    "\\theta_{hs,out,d,t}=\\left\\{ \\begin{array}{ll}\n",
    "    min\\{\\theta_{req,d,t,i}|i=1,5\\} &(\\sum^5_{i=1}L^*_{CS,d,t,i}>0)\\\\ \n",
    "    \\theta_{NR,d,t} &(\\sum^5_{i=1}L^*_{CS,d,t,i} \\leq 0)\\\\ \n",
    "    \\end{array}\n",
    "\\right.\n",
    "$$"
   ]
  },
  {
   "cell_type": "markdown",
   "metadata": {},
   "source": [
    "中間期："
   ]
  },
  {
   "cell_type": "markdown",
   "metadata": {},
   "source": [
    "$$\\large\n",
    "\\theta_{hs,out,d,t}=\\theta_{NR,d,t}\n",
    "$$"
   ]
  },
  {
   "cell_type": "markdown",
   "metadata": {},
   "source": [
    "$V'_{supply,d,t,i}$：日付$d$の時刻$t$における暖冷房区画$i$のVAV調整前の吹き出し風量($m^3$/h)  \n",
    "$\\theta_{hs,out,d,t}$：日付$d$の時刻$t$における熱源機の出口における空気温度(℃)  \n",
    "$\\theta_{hs,out,min,C,d,t}$：日付$d$の時刻$t$における冷房時の熱源機の出口における空気温度の最低値(℃)  \n",
    "$\\theta_{hs,out,max,H,d,t}$：日付$d$の時刻$t$における暖房時の熱源機の出口における空気温度の最高値(℃)  \n",
    "$X_{NR,d,t}$：日付$d$の時刻$t$における非居室の絶対湿度(kg/kg(DA))  \n",
    "$\\theta_{req,d,t,i}$：日付$d$の時刻$t$における暖冷房区画$i$の熱源機の出口における要求空気温度(℃)  \n"
   ]
  },
  {
   "cell_type": "markdown",
   "metadata": {},
   "source": [
    "熱源機の出口における絶対湿度$X_{hs,out,d,t}$は、冷房時の熱源機の出口における空気温度の最低値$X_{hs,out,min,C,d,t}$を下回る場合は、冷房時の熱源機の出口における空気温度の最低値$X_{hs,out,min,C,d,t}$に等しいとする。"
   ]
  },
  {
   "cell_type": "markdown",
   "metadata": {},
   "source": [
    "暖房期："
   ]
  },
  {
   "cell_type": "markdown",
   "metadata": {},
   "source": [
    "$$\\large\n",
    "X_{hs,out,d,t}=X_{NR,d,t}\n",
    "$$"
   ]
  },
  {
   "cell_type": "markdown",
   "metadata": {},
   "source": [
    "冷房期："
   ]
  },
  {
   "cell_type": "markdown",
   "metadata": {},
   "source": [
    "$$\\large\n",
    "X_{hs,out,d,t}=\\left\\{ \\begin{array}{ll}\n",
    "    \\frac{\\sum^5_{i=1}(X_{req,d,t,i}V'_{supply,d,t,i})}{\\sum^5_{i=1}V'_{supply,d,t,i}} &(\\sum^5_{i=1}L^*_{CS,d,t,i}>0)\\\\ \n",
    "    X_{NR,d,t} &(\\sum^5_{i=1}L^*_{CS,d,t,i} \\leq 0)\\\\ \n",
    "    \\end{array}\n",
    "\\right.\n",
    "$$"
   ]
  },
  {
   "cell_type": "markdown",
   "metadata": {},
   "source": [
    "中間期："
   ]
  },
  {
   "cell_type": "markdown",
   "metadata": {},
   "source": [
    "$$\\large\n",
    "X_{hs,out,d,t}=X_{NR,d,t}\n",
    "$$"
   ]
  },
  {
   "cell_type": "markdown",
   "metadata": {},
   "source": [
    "$V'_{supply,d,t,i}$：日付$d$の時刻$t$における暖冷房区画$i$のVAV調整前の吹き出し風量($m^3$/h)  \n",
    "$X_{hs,out,d,t}$：日付$d$の時刻$t$における熱源機の出口における絶対湿度(kg/kg(DA))  \n",
    "$X_{hs,out,min,C,d,t}$：日付$d$の時刻$t$における冷房時の熱源機の出口における絶対湿度の最低値(kg/kg(DA))  \n",
    "$X_{NR,d,t}$：日付$d$の時刻$t$における非居室の絶対湿度(kg/kg(DA))  \n",
    "$X_{req,d,t,i}$：日付$d$の時刻$t$における暖冷房区画$i$の熱源機の出口における要求空気湿度(kg/kg(DA))  \n"
   ]
  },
  {
   "cell_type": "markdown",
   "metadata": {},
   "source": [
    "#### 9.3 最大出力時の熱源機の出口における空気温度・絶対湿度"
   ]
  },
  {
   "cell_type": "markdown",
   "metadata": {},
   "source": [
    "$$\\large\n",
    "\\theta_{hs,out,max,H,d,t} = min \\left(\\theta^*_{hs,in,d,t} + \\frac{Q_{hs,max,H,d,t} \\times 10^6}{c_{p_{air}}\\rho_{air}\\sum^5_{i=1}V'_{supply,d,t,i}},45 \\right)\n",
    "$$\n",
    "\n",
    "$$\\large\n",
    "\\theta_{hs,out,min,C,d,t} = max \\left(\\theta^*_{hs,in,d,t} - \\frac{Q_{hs,max,CS,d,t} \\times 10^6}{c_{p_{air}}\\rho_{air}\\sum^5_{i=1}V'_{supply,d,t,i}},15 \\right)\n",
    "$$"
   ]
  },
  {
   "cell_type": "markdown",
   "metadata": {},
   "source": [
    "$V'_{supply,d,t,i}$：日付$d$の時刻$t$における暖冷房区画$i$のVAV調整前の吹き出し風量($m^3$/h)  \n",
    "$Q_{hs,max,CS,d,t}$：日付$d$の時刻$t$における1 時間当たりの熱源機の最大冷房顕熱出力(MJ/h)  \n",
    "$Q_{hs,max,H,d,t}$：日付$d$の時刻$t$における1 時間当たりの熱源機の最大暖房出力(MJ/h)  \n",
    "$\\theta_{hs,out,min,C,d,t}$：日付$d$の時刻$t$における冷房時の熱源機の出口における空気温度の最低値(℃)  \n",
    "$\\theta_{hs,out,max,H,d,t}$：日付$d$の時刻$t$における暖房時の熱源機の出口における空気温度の最高値(℃)  \n",
    "$\\theta^*_{hs,in,d,t}$：日付$d$の時刻$t$における負荷バランス時の熱源機の入口における空気温度(℃)  \n",
    "$c_{p_{air}}$：空気の比熱(J/(kg・K))  \n",
    "$\\rho_{air}$：空気の密度(kg/$m^3$)  "
   ]
  },
  {
   "cell_type": "markdown",
   "metadata": {},
   "source": [
    "$$\\large\n",
    "X_{hs,out,min,C,d,t} = X^*_{hs,in,d,t} - \\frac{Q_{hs,max,CL,d,t} \\times 10^3}{\\rho_{air}L_{wtr}\\sum^5_{i=1}V'_{supply,d,t,i}}\n",
    "$$"
   ]
  },
  {
   "cell_type": "markdown",
   "metadata": {},
   "source": [
    "$V'_{supply,d,t,i}$：日付$d$の時刻$t$における暖冷房区画$i$のVAV調整前の吹き出し風量($m^3$/h)  \n",
    "$Q_{hs,max,CL,d,t}$：日付$d$の時刻$t$における1 時間当たりの熱源機の最大冷房潜熱出力(MJ/h)  \n",
    "$X_{hs,out,min,C,d,t}$：日付$d$の時刻$t$における冷房時の熱源機の出口における空気温度の最低値(℃)  \n",
    "$X^*_{hs,in,d,t}$：日付$d$の時刻$t$における負荷バランス時の熱源機の入口における絶対湿度(kg/kg(DA))  \n",
    "$L_{wtr}$：水の蒸発潜熱(kJ/kg)  \n",
    "$\\rho_{air}$：空気の密度(kg/$m^3$)  "
   ]
  },
  {
   "cell_type": "markdown",
   "metadata": {},
   "source": [
    "$$\\large\n",
    "\\theta^*_{hs,in,d,t} = \\theta^*_{NR,d,t}\n",
    "$$\n",
    "\n",
    "$$\\large\n",
    "X^*_{hs,in,d,t} = X^*_{NR,d,t}\n",
    "$$"
   ]
  },
  {
   "cell_type": "markdown",
   "metadata": {},
   "source": [
    "$X^*_{hs,in,d,t}$：日付$d$の時刻$t$における負荷バランス時の熱源機の入口における絶対湿度(kg/kg(DA))  \n",
    "$X^*_{NR,d,t}$：日付$d$の時刻$t$における負荷バランス時の非居室の絶対湿度(kg/kg(DA))  \n",
    "$\\theta^*_{hs,in,d,t}$：日付$d$の時刻$t$における負荷バランス時の熱源機の入口における空気温度(℃)  \n",
    "$\\theta^*_{NR,d,t}$：日付$d$の時刻$t$における負荷バランス時の非居室の室温(℃)  \n"
   ]
  },
  {
   "cell_type": "markdown",
   "metadata": {},
   "source": [
    "#### 9.4 熱源機の出口における要求空気温度・絶対湿度"
   ]
  },
  {
   "cell_type": "markdown",
   "metadata": {},
   "source": [
    "暖冷房区画𝑖の熱源機の出口における要求空気温度$\\theta_{req,d,t,i}$は、暖房期においては負荷バランス時の居室の室温$\\theta^*_{HBR,d,t}$を下回る場合は、負荷バランス時の居室の室温$\\theta^*_{HBR,d,t}$に等しいとし、また、冷房期においては負荷バランス時の居室の室温$\\theta^*_{HBR,d,t}$を上回る場合は、負荷バランス時の居室の室温$\\theta^*_{HBR,d,t}$に等しいとする。"
   ]
  },
  {
   "cell_type": "markdown",
   "metadata": {},
   "source": [
    "暖房期："
   ]
  },
  {
   "cell_type": "markdown",
   "metadata": {},
   "source": [
    "$$\\large\n",
    "\\theta_{req,d,t,i}=\\theta_{sur,d,t,i}+ \\left( \\theta^*_{HBR,d,t} + \\frac{L^*_{H,d,t,i} \\times 10^6}{c_{p_{air}}\\rho_{air}V'_{supply,d,t,i}} - \\theta_{sur,d,t,i} \\right) \\times e^{ \\frac{\\psi_{i}l_{duct,i}\\times 3600}{c_{p_{air}}\\rho_{air}V'_{supply,d,t,i}} }\n",
    "$$"
   ]
  },
  {
   "cell_type": "markdown",
   "metadata": {},
   "source": [
    "冷房期："
   ]
  },
  {
   "cell_type": "markdown",
   "metadata": {},
   "source": [
    "$$\\large\n",
    "\\theta_{req,d,t,i}=\\theta_{sur,d,t,i}- \\left( \\theta_{sur,d,t,i} - \\theta^*_{HBR,d,t} + \\frac{L^*_{CS,d,t,i} \\times 10^6}{c_{p_{air}}\\rho_{air}V'_{supply,d,t,i}} \\right) \\times e^{ \\frac{\\psi_{i}l_{duct,i}\\times 3600}{c_{p_{air}}\\rho_{air}V'_{supply,d,t,i}} }\n",
    "$$"
   ]
  },
  {
   "cell_type": "markdown",
   "metadata": {},
   "source": [
    "中間期："
   ]
  },
  {
   "cell_type": "markdown",
   "metadata": {},
   "source": [
    "$$\\large\n",
    "\\theta_{req,d,t,i}=\\theta^*_{HBR,d,t}\n",
    "$$"
   ]
  },
  {
   "cell_type": "markdown",
   "metadata": {},
   "source": [
    "$L^*_{CS,d,t,i}$：日付$d$の時刻$t$における暖冷房区画$i$の1時間当たりの熱取得を含む負荷バランス時の冷房顕熱負荷(MJ/h)  \n",
    "$L^*_{H,d,t,i}$：日付$d$の時刻$t$における暖冷房区画$i$の1時間当たりの熱損失を含む負荷バランス時の暖房負荷(MJ/h)  \n",
    "$l_{duct,i}$：ダクト$i$の長さ(m)  \n",
    "$V'_{supply,d,t,i}$：日付$d$の時刻$t$における暖冷房区画$i$のVAV調整前の吹き出し風量($m^3$/h)  \n",
    "$\\theta_{req,d,t,i}$：日付$d$の時刻$t$における暖冷房区画$i$の熱源機の出口における要求空気温度(℃)  \n",
    "$\\theta_{sur,d,t,i}$：日付$d$の時刻$t$におけるダクト$i$の周囲の空気温度(℃)  \n",
    "$\\theta^*_{HBR,d,t}$：日付$d$の時刻$t$における負荷バランス時の居室の室温(℃)  \n",
    "$\\psi_{i}$：ダクト$i$の線熱損失係数(W/(m・K))  \n",
    "$c_{p_{air}}$：空気の比熱(J/(kg・K))  \n",
    "$\\rho_{air}$：空気の密度(kg/$m^3$)  "
   ]
  },
  {
   "cell_type": "markdown",
   "metadata": {},
   "source": [
    "暖房期："
   ]
  },
  {
   "cell_type": "markdown",
   "metadata": {},
   "source": [
    "$$\\large\n",
    "X_{req,d,t,i}=X^*_{HBR,d,t}\n",
    "$$"
   ]
  },
  {
   "cell_type": "markdown",
   "metadata": {},
   "source": [
    "冷房期："
   ]
  },
  {
   "cell_type": "markdown",
   "metadata": {},
   "source": [
    "$$\\large\n",
    "X_{req,d,t,i}=X^*_{HBR,d,t} - \\frac{L^*_{CL,d,t,i}\\times10^3}{\\rho_{air}L_{wtr}V'_{supply,d,t,i}}\n",
    "$$"
   ]
  },
  {
   "cell_type": "markdown",
   "metadata": {},
   "source": [
    "中間期："
   ]
  },
  {
   "cell_type": "markdown",
   "metadata": {},
   "source": [
    "$$\\large\n",
    "X_{req,d,t,i}=X^*_{HBR,d,t}\n",
    "$$"
   ]
  },
  {
   "cell_type": "markdown",
   "metadata": {},
   "source": [
    "$L^*_{CL,d,t,i}$：日付$d$の時刻$t$における暖冷房区画$i$の1時間当たりの熱取得を含む負荷バランス時の冷房潜熱負荷(MJ/h)  \n",
    "$V'_{supply,d,t,i}$：日付$d$の時刻$t$における暖冷房区画$i$のVAV調整前の吹き出し風量($m^3$/h)  \n",
    "$X^*_{HBR,d,t}$：日付$d$の時刻$t$における負荷バランス時の居室の絶対湿度(kg/kg(DA))  \n",
    "$X_{req,d,t,i}$：日付$d$の時刻$t$における暖冷房区画$i$の熱源機の出口における要求絶対湿度(kg/kg(DA))  \n",
    "$L_{wtr}$：水の蒸発潜熱(kJ/kg)  \n",
    "$\\rho_{air}$：空気の密度(kg/$m^3$)  "
   ]
  },
  {
   "cell_type": "markdown",
   "metadata": {},
   "source": [
    "#### 9.5 熱源機の最大出力"
   ]
  },
  {
   "cell_type": "markdown",
   "metadata": {},
   "source": [
    "#### 9.5.1 熱源機の最大暖房出力"
   ]
  },
  {
   "cell_type": "markdown",
   "metadata": {},
   "source": [
    "$$\\large\n",
    "Q_{hs,max,H,d,t}=q_{hs,rtd,H} \\times \\alpha_{max,H}\\times C_{df,H,d,t} \\times 3600 \\times 10^{-6}\n",
    "$$"
   ]
  },
  {
   "cell_type": "markdown",
   "metadata": {},
   "source": [
    "$C_{df,H,d,t}$：日付$d$の時刻$t$におけるデフロストに関する暖房出力補正係数(-)  \n",
    "$Q_{hs,max,H,d,t}$：日付$d$の時刻$t$における 1 時間当たりの熱源機の最大暖房出力(MJ/h)  \n",
    "$q_{hs,rtd,H}$：熱源機の定格暖房能力(W)  \n",
    "$\\alpha_{max,H}$：定格暖房能力に対する最大暖房能力の比(-)  \n"
   ]
  },
  {
   "cell_type": "markdown",
   "metadata": {},
   "source": [
    "定格暖房能力に対する最大暖房能力の比$\\alpha_{max,H}$は、1.00 とする。"
   ]
  },
  {
   "cell_type": "markdown",
   "metadata": {},
   "source": [
    "外気温度$\\theta_{ex,d,t}$が 5℃未満かつ外気相対湿度$h_{ex,d,t}$が80%以上の場合："
   ]
  },
  {
   "cell_type": "markdown",
   "metadata": {},
   "source": [
    "$$\\large\n",
    "C_{df,H,d,t}=0.77\n",
    "$$"
   ]
  },
  {
   "cell_type": "markdown",
   "metadata": {},
   "source": [
    "外気温度$\\theta_{ex,d,t}$が5℃以上または外気相対湿度$h_{ex,d,t}$が80%未満の場合："
   ]
  },
  {
   "cell_type": "markdown",
   "metadata": {},
   "source": [
    "$$\\large\n",
    "C_{df,H,d,t}=1.0\n",
    "$$"
   ]
  },
  {
   "cell_type": "markdown",
   "metadata": {},
   "source": [
    "$C_{df,H,d,t}$：日付$d$の時刻$t$におけるデフロストに関する暖房出力補正係数(-)  \n",
    "$h_{ex,d,t}$：日付$d$の時刻$t$における外気相対湿度(％)  \n",
    "$\\theta_{ex,d,t}$：日付$d$の時刻$t$における外気温度(℃)  \n"
   ]
  },
  {
   "cell_type": "markdown",
   "metadata": {},
   "source": [
    "#### 9.5.2 熱源機の最大冷房出力"
   ]
  },
  {
   "cell_type": "markdown",
   "metadata": {},
   "source": [
    "$$\\large\n",
    "Q_{hs,max,CS,d,t}=Q_{hs,max,C,d,t} \\times SHF'_{d,t}\n",
    "$$"
   ]
  },
  {
   "cell_type": "markdown",
   "metadata": {},
   "source": [
    "$$\\large\n",
    "Q_{hs,max,CL,d,t}=min \\left( Q_{hs,max,C,d,t} \\times (1-SHF'_{d,t}), L^*′_{CL,d,t}  \\right)\n",
    "$$"
   ]
  },
  {
   "cell_type": "markdown",
   "metadata": {},
   "source": [
    "$L^*′_{CL,d,t}$：日付$d$の時刻$t$における補正冷房潜熱負荷(MJ/h)  \n",
    "$SHF'_{d,t}$：日付$d$の時刻$t$における冷房負荷補正顕熱比(-)  \n",
    "$Q_{hs,max,C,d,t}$：日付$d$の時刻$t$における 1 時間当たりの熱源機の最大冷房出力(MJ/h)  \n",
    "$Q_{hs,max,CL,d,t}$：日付$d$の時刻$t$における 1 時間当たりの熱源機の最大冷房潜熱出力(MJ/h)  \n",
    "$Q_{hs,max,CS,d,t}$：日付$d$の時刻$t$における 1 時間当たりの熱源機の最大冷房顕熱出力(MJ/h)  \n"
   ]
  },
  {
   "cell_type": "markdown",
   "metadata": {},
   "source": [
    "$$\\large\n",
    "Q_{hs,max,C,d,t}=q_{hs,rtd,C} \\times \\alpha_{max,C} \\times 3600 \\times 10^{-6}\n",
    "$$"
   ]
  },
  {
   "cell_type": "markdown",
   "metadata": {},
   "source": [
    "$Q_{hs,max,C,d,t}$：日付$d$の時刻$t$における 1 時間当たりの熱源機の最大冷房出力(MJ/h)  \n",
    "$q_{hs,rtd,C}$：熱源機の定格冷房能力(W)  \n",
    "$\\alpha_{max,C}$：定格冷房能力に対する最大冷房能力の比(-)  \n"
   ]
  },
  {
   "cell_type": "markdown",
   "metadata": {},
   "source": [
    "定格暖房能力に対する最大冷房能力の比$\\alpha_{max,C}$は、1.11 とする。"
   ]
  },
  {
   "cell_type": "markdown",
   "metadata": {},
   "source": [
    "$$\\large\n",
    "SHF'_{d,t}=\\left\\{ \\begin{array}{ll}\n",
    "    \\frac{L^*_{CS,d,t}}{L^*′_{C,d,t}} &(L^*′_{C,d,t}>0)\\\\ \n",
    "    0 &(L^*′_{C,d,t} \\leq 0)\\\\ \n",
    "    \\end{array}\n",
    "\\right.\n",
    "$$"
   ]
  },
  {
   "cell_type": "markdown",
   "metadata": {},
   "source": [
    "$L^*_{CS,d,t}$：日付$d$の時刻$t$における 1 時間当たりの熱取得を含む負荷バランス時の冷房顕熱負荷(MJ/h)  \n",
    "$L^*′_{C,d,t}$：日付$d$の時刻$t$における補正冷房負荷(MJ/h)  \n",
    "$SHF'_{d,t}$：日付$d$の時刻$t$における冷房負荷補正顕熱比(-)  \n"
   ]
  },
  {
   "cell_type": "markdown",
   "metadata": {},
   "source": [
    "$$\\large\n",
    "L^*′_{C,d,t}=L^*_{CS,d,t}+L^*′_{CL,d,t}\n",
    "$$"
   ]
  },
  {
   "cell_type": "markdown",
   "metadata": {},
   "source": [
    "$L^*_{CS,d,t}$：日付$d$の時刻$t$における 1 時間当たりの熱取得を含む負荷バランス時の冷房顕熱負荷(MJ/h)  \n",
    "$L^*′_{C,d,t}$：日付$d$の時刻$t$における補正冷房負荷(MJ/h)  \n",
    "$L^*′_{CL,d,t}$：日付$d$の時刻$t$における補正冷房潜熱負荷(MJ/h)  \n"
   ]
  },
  {
   "cell_type": "markdown",
   "metadata": {},
   "source": [
    "$$\\large\n",
    "L^*′_{CL,d,t}=min(L^*_{CL,max,d,t}, L^*_{CL,d,t})\n",
    "$$"
   ]
  },
  {
   "cell_type": "markdown",
   "metadata": {},
   "source": [
    "$L^*_{CL,d,t}$：日付$d$の時刻$t$における 1 時間当たりの熱取得を含む負荷バランス時の冷房潜熱負荷(MJ/h)  \n",
    "$L^*′_{CL,d,t}$：日付$d$の時刻$t$における補正冷房潜熱負荷(MJ/h)  \n",
    "$L^*_{CL,max,d,t}$：日付$d$の時刻$t$における最大冷房潜熱負荷(MJ/h)  \n"
   ]
  },
  {
   "cell_type": "markdown",
   "metadata": {},
   "source": [
    "$$\\large\n",
    "L^*′_{CL,max,d,t}=L^*_{CS,d,t} \\times \\frac{1-SHF_{L,min,C}}{SHF_{L,min,C}}\n",
    "$$"
   ]
  },
  {
   "cell_type": "markdown",
   "metadata": {},
   "source": [
    "$L^*_{CS,d,t}$：日付$d$の時刻$t$における 1 時間当たりの熱取得を含む負荷バランス時の冷房顕熱負荷(MJ/h)  \n",
    "$L^*′_{CL,max,d,t}$：日付$d$の時刻$t$における最大冷房潜熱負荷(MJ/h)  \n",
    "$SHF_{L,min,C}$：冷房負荷最小顕熱比(-)  \n"
   ]
  },
  {
   "cell_type": "markdown",
   "metadata": {},
   "source": [
    "冷房負荷最小顕熱比$SHF_{L,min,C}$は、0.4とする。"
   ]
  },
  {
   "cell_type": "markdown",
   "metadata": {},
   "source": [
    "$$\\large\n",
    "L^*_{CS,d,t}= \\sum^5_{i=1} L^*_{CS,d,t}\n",
    "$$"
   ]
  },
  {
   "cell_type": "markdown",
   "metadata": {},
   "source": [
    "$$\\large\n",
    "L^*_{CL,d,t}= \\sum^5_{i=1} L^*_{CL,d,t}\n",
    "$$"
   ]
  },
  {
   "cell_type": "markdown",
   "metadata": {},
   "source": [
    "$L^*_{CL,d,t}$：日付$d$の時刻$t$における 1 時間当たりの熱取得を含む負荷バランス時の冷房潜熱負荷(MJ/h)  \n",
    "$L^*_{CL,d,t,i}$：日付$d$の時刻$t$における暖冷房区画$i$の 1 時間当たりの熱取得を含む負荷バランス時の冷房潜熱負荷(MJ/h)  \n",
    "$L^*_{CS,d,t}$：日付$d$の時刻$t$における 1 時間当たりの熱取得を含む負荷バランス時の冷房顕熱負荷(MJ/h)  \n",
    "$L^*_{CS,d,t,i}$：日付$d$の時刻$t$における暖冷房区画$i$の 1 時間当たりの熱取得を含む負荷バランス時の冷房顕熱負荷(MJ/h)  \n"
   ]
  },
  {
   "cell_type": "markdown",
   "metadata": {},
   "source": [
    "#### 9.6 熱源機の風量"
   ]
  },
  {
   "cell_type": "markdown",
   "metadata": {},
   "source": [
    "$$\\large\n",
    "V_{hs,supply,d,t}= \\sum^5_{i=1} V_{supply,d,t,i}\n",
    "$$\n"
   ]
  },
  {
   "cell_type": "markdown",
   "metadata": {},
   "source": [
    "$V_{hs,supply,d,t}$：日付$d$の時刻$t$における熱源機の風量($m^3$/h)  \n",
    "$V_{supply,d,t,i}$：日付$d$の時刻$t$における暖冷房区画$i$の吹き出し風量($m^3$/h)  \n"
   ]
  },
  {
   "cell_type": "markdown",
   "metadata": {},
   "source": [
    "当該システムが全般換気の機能を有する場合："
   ]
  },
  {
   "cell_type": "markdown",
   "metadata": {},
   "source": [
    "$$\\large\n",
    "V_{hs,vent,d,t}= \\sum^5_{i=1} V_{vent,g,i}\n",
    "$$\n"
   ]
  },
  {
   "cell_type": "markdown",
   "metadata": {},
   "source": [
    "当該システムが全般換気の機能を有さない場合："
   ]
  },
  {
   "cell_type": "markdown",
   "metadata": {},
   "source": [
    "$$\\large\n",
    "V_{hs,vent,d,t}= 0\n",
    "$$\n"
   ]
  },
  {
   "cell_type": "markdown",
   "metadata": {},
   "source": [
    "$V_{hs,vent,d,t}$：日付$d$の時刻$t$における熱源機の風量のうちの全般換気分($m^3$/h)  \n",
    "$V_{vent,g,i}$：暖冷房区画$i$の全般換気量($m^3$/h)  \n"
   ]
  },
  {
   "cell_type": "markdown",
   "metadata": {},
   "source": [
    "#### 9.7 VAV 調整前の熱源機の風量"
   ]
  },
  {
   "cell_type": "markdown",
   "metadata": {},
   "source": [
    "暖房期："
   ]
  },
  {
   "cell_type": "markdown",
   "metadata": {},
   "source": [
    "$$\\large\n",
    "V'_{hs,supply,d,t}=\\left\\{ \\begin{array}{ll}\n",
    "    V_{hs,min} &( \\hat{Q}_{hs,d,t}<0)\\\\ \n",
    "    \\frac{V_{hs,dsgn,H}-V_{hs,min}}{Q_{hs,rtd,H}}\\hat{Q}_{hs,d,t}+V_{hs,min} &(0 \\leq \\hat{Q}_{hs,d,t}<Q_{hs,rtd,H})\\\\ \n",
    "    V_{hs,dsgn,H} &(Q_{hs,rtd,H} \\leq \\hat{Q}_{hs,d,t})\\\\ \n",
    "    \\end{array}\n",
    "\\right.\n",
    "$$"
   ]
  },
  {
   "cell_type": "markdown",
   "metadata": {},
   "source": [
    "冷房期："
   ]
  },
  {
   "cell_type": "markdown",
   "metadata": {},
   "source": [
    "$$\\large\n",
    "V'_{hs,supply,d,t}=\\left\\{ \\begin{array}{ll}\n",
    "    V_{hs,min} &( \\hat{Q}_{hs,d,t}<0)\\\\ \n",
    "    \\frac{V_{hs,dsgn,C}-V_{hs,min}}{Q_{hs,rtd,C}}\\hat{Q}_{hs,d,t}+V_{hs,min} &(0 \\leq \\hat{Q}_{hs,d,t}<Q_{hs,rtd,C})\\\\ \n",
    "    V_{hs,dsgn,C} &(Q_{hs,rtd,C} \\leq \\hat{Q}_{hs,d,t})\\\\ \n",
    "    \\end{array}\n",
    "\\right.\n",
    "$$"
   ]
  },
  {
   "cell_type": "markdown",
   "metadata": {},
   "source": [
    "中間期："
   ]
  },
  {
   "cell_type": "markdown",
   "metadata": {},
   "source": [
    "$$\\large\n",
    "V'_{hs,supply,d,t}=V_{hs,min}\n",
    "$$"
   ]
  },
  {
   "cell_type": "markdown",
   "metadata": {},
   "source": [
    "$Q_{hs,rtd,C}$：熱源機の冷房時の定格出力(MJ/h)  \n",
    "$Q_{hs,rtd,H}$：熱源機の暖房時の定格出力(MJ/h)  \n",
    "$\\hat{Q}_{hs,d,t}$：日付$d$の時刻$t$における１時間当たりの熱源機の風量を計算するための熱源機の出力(MJ/h)  \n",
    "$V_{hs,dsgn,C}$：冷房時の設計風量($m^3$/h)  \n",
    "$V_{hs,dsgn,H}$：暖房時の設計風量($m^3$/h)  \n",
    "$V_{hs,min}$：熱源機の最低風量($m^3$/h)  \n",
    "$V'_{hs,supply,d,t}$：日付$d$の時刻$t$におけるVAV 調整前の熱源機の風量($m^3$/h)  \n"
   ]
  },
  {
   "cell_type": "markdown",
   "metadata": {},
   "source": [
    "$$\\large\n",
    "Q_{hs,rtd,H}=q_{hs,rtd,H}\\times 3600 \\times 10^{-6}\n",
    "$$\n",
    "\n",
    "$$\\large\n",
    "Q_{hs,rtd,C}=q_{hs,rtd,C}\\times 3600 \\times 10^{-6}\n",
    "$$"
   ]
  },
  {
   "cell_type": "markdown",
   "metadata": {},
   "source": [
    "$Q_{hs,rtd,C}$：冷房時の熱源機の定格出力(MJ/h)  \n",
    "$Q_{hs,rtd,H}$：暖房時の熱源機の定格出力(MJ/h)  \n",
    "$q_{hs,rtd,C}$：熱源機の定格冷房能力(W)  \n",
    "$q_{hs,rtd,H}$：熱源機の定格暖房能力(W)  \n"
   ]
  },
  {
   "cell_type": "markdown",
   "metadata": {},
   "source": [
    "$$\\large\n",
    "V_{hs,min}=\\sum^5_{i=1} V_{vent,g,i}\n",
    "$$"
   ]
  },
  {
   "cell_type": "markdown",
   "metadata": {},
   "source": [
    "$V_{hs,min}$：熱源機の最低風量($m^3$/h)  \n",
    "$V_{vent,g,i}$：暖冷房区画$i$の全般換気量($m^3$/h)  \n"
   ]
  },
  {
   "cell_type": "markdown",
   "metadata": {},
   "source": [
    "暖房期："
   ]
  },
  {
   "cell_type": "markdown",
   "metadata": {},
   "source": [
    "$$\\large\n",
    "\\hat{Q}_{hs,d,t}=max(\\hat{Q}_{hs,H,d,t},0)\n",
    "$$"
   ]
  },
  {
   "cell_type": "markdown",
   "metadata": {},
   "source": [
    "$$\\large\n",
    "\\hat{Q}_{hs,H,d,t}=\\left[  \\left\\{ ( Q-0.35\\times 0.5\\times 2.4)A_{A} +  \\frac{c_{p_{air}}\\rho_{air}(V_{vent,l,d,t}+\\sum^5_{i=1} V_{vent,g,i})}{3600}  \\right\\} (\\theta_{set,H}-\\theta_{ex,d,t}) - \\mu_{H}A_{A}J_{d,t}-q_{gen,d,t}-n_{p,d,t}q_{p,H} \\right] \\times 3600 \\times 10^{-6}\n",
    "$$"
   ]
  },
  {
   "cell_type": "markdown",
   "metadata": {},
   "source": [
    "冷房期："
   ]
  },
  {
   "cell_type": "markdown",
   "metadata": {},
   "source": [
    "$$\\large\n",
    "\\hat{Q}_{hs,d,t}=max(\\hat{Q}_{hs,CS,d,t},0)+max(\\hat{Q}_{hs,CL,d,t},0)\n",
    "$$"
   ]
  },
  {
   "cell_type": "markdown",
   "metadata": {},
   "source": [
    "$$\\large\n",
    "\\hat{Q}_{hs,CS,d,t}=\\left[  \\left\\{ ( Q-0.35\\times 0.5\\times 2.4)A_{A} +  \\frac{c_{p_{air}}\\rho_{air}(V_{vent,l,d,t}+\\sum^5_{i=1} V_{vent,g,i})}{3600}  \\right\\} (\\theta_{ex,d,t}-\\theta_{set,C}) + \\mu_{C}A_{A}J_{d,t}+q_{gen,d,t}+n_{p,d,t}q_{p,CS} \\right] \\times 3600 \\times 10^{-6}\n",
    "$$"
   ]
  },
  {
   "cell_type": "markdown",
   "metadata": {},
   "source": [
    "$$\\large\n",
    "\\hat{Q}_{hs,CL,d,t}=\\left[  \\left\\{ \\rho_{air}\\left( V_{vent,l,d,t}+\\sum^5_{i=1}V_{vent,g,i} \\right) (X_{ex,d,t}-X_{set,C}) \\times 10^3 + w_{gen,d,t} \\right\\} \\times L_{wtr} + n_{p,d,t}q_{p,CL} \\times 3600 \\right]  \\times 10^{-6}\n",
    "$$"
   ]
  },
  {
   "cell_type": "markdown",
   "metadata": {},
   "source": [
    "中間期："
   ]
  },
  {
   "cell_type": "markdown",
   "metadata": {},
   "source": [
    "$$\\large\n",
    "\\hat{Q}_{hs,d,t}=0\n",
    "$$"
   ]
  },
  {
   "cell_type": "markdown",
   "metadata": {},
   "source": [
    "$A_{A}$：床面積の合計($m^2$)  \n",
    "$J_{d,t}$：日付$d$の時刻$t$における水平面全天日射量(W/$m^2$)  \n",
    "$n_{p,d,t}$：日付$d$の時刻$t$における在室人数(人)  \n",
    "$Q$：当該住戸の熱損失係数(W/($m^2$・K))  \n",
    "$\\hat{Q}_{hs,CL,d,t}$：日付$d$の時刻$t$における１時間当たりの熱源機の風量を計算するための熱源機の冷房潜熱出力(MJ/h)  \n",
    "$\\hat{Q}_{hs,CS,d,t}$：日付$d$の時刻$t$における１時間当たりの熱源機の風量を計算するための熱源機の冷房顕熱出力(MJ/h)  \n",
    "$\\hat{Q}_{hs,H,d,t}$：日付$d$の時刻$t$における１時間当たりの熱源機の風量を計算するための熱源機の暖房出力(MJ/h)  \n",
    "$q_{gen,d,t}$：日付$d$の時刻$t$における内部発熱(W)  \n",
    "$q_{p,CL}$：冷房期における人体からの 1 人当たりの潜熱発熱量(W/人)  \n",
    "$q_{p,CS}$：冷房期における人体からの 1 人当たりの顕熱発熱量(W/人)  \n",
    "$q_{p,H}$：暖房期における人体からの 1 人当たりの顕熱発熱量(W/人)  \n",
    "$V_{vent,g,i}$：暖冷房区画$i$の全般換気量($m^3$/h)  \n",
    "$V_{vent,l,d,t}$：日付$d$の時刻$t$における局所換気量($m^3$/h)  \n",
    "$X_{ex,d,t}$：日付$d$の時刻$t$における外気の絶対湿度(kg/kg(DA))  \n",
    "$w_{gen,d,t}$：日付$d$の時刻$t$における内部発湿(g/h)  \n",
    "$X_{set,C}$：冷房時の設定絶対湿度(kg/kg(DA))  \n",
    "$\\theta_{ex,d,t}$：日付$d$の時刻$t$における外気温度(℃)  \n",
    "$\\theta_{set,C}$：冷房時の設定温度(℃)  \n",
    "$\\theta_{set,H}$：暖房時の設定温度(℃)  \n",
    "$\\mu_{C}$：当該住戸の冷房期の日射取得係数((W/$m^2$)/(W/$m^2$))  \n",
    "$\\mu_{H}$：当該住戸の暖房期の日射取得係数((W/$m^2$)/(W/$m^2$))  \n",
    "$c_{p_{air}}$：空気の比熱(J/(kg・K))  \n",
    "$L_{wtr}$：水の蒸発潜熱(kJ/kg)  \n",
    "$\\rho_{air}$：空気の密度(kg/$m^3$)  \n"
   ]
  },
  {
   "cell_type": "markdown",
   "metadata": {},
   "source": [
    "#### 9.8 定格能力・定格風量・設計風量"
   ]
  },
  {
   "cell_type": "markdown",
   "metadata": {},
   "source": [
    "省略"
   ]
  },
  {
   "cell_type": "markdown",
   "metadata": {},
   "source": [
    "### 10.吹き出し口"
   ]
  },
  {
   "cell_type": "markdown",
   "metadata": {},
   "source": [
    "#### 10.1 吹き出し空気温度"
   ]
  },
  {
   "cell_type": "markdown",
   "metadata": {},
   "source": [
    "暖房期："
   ]
  },
  {
   "cell_type": "markdown",
   "metadata": {},
   "source": [
    "$$\\large\n",
    "\\theta_{supply,d,t,i}=\\left\\{ \\begin{array}{ll}\n",
    "    \\theta_{sur,d,t,i}+(\\theta_{hs,out,d,t}-\\theta_{sur,d,t,i}) \\times e^{ \\frac{-\\psi_{i}l_{duct,i}\\times 3600}{c_{p_{air}}\\rho_{air}V_{supply,d,t,i}} } &( \\sum^5_{i=1} L^*_{H,d,t,i}>0)\\\\ \n",
    "    \\theta^*_{HBR,d,t} &(\\sum^5_{i=1} L^*_{H,d,t,i} \\leq 0)\\\\ \n",
    "    \\end{array}\n",
    "\\right.\n",
    "$$"
   ]
  },
  {
   "cell_type": "markdown",
   "metadata": {},
   "source": [
    "冷房期："
   ]
  },
  {
   "cell_type": "markdown",
   "metadata": {},
   "source": [
    "$$\\large\n",
    "\\theta_{supply,d,t,i}=\\left\\{ \\begin{array}{ll}\n",
    "    \\theta_{sur,d,t,i}+(\\theta_{hs,out,d,t}-\\theta_{sur,d,t,i}) \\times e^{ \\frac{-\\psi_{i}l_{duct,i}\\times 3600}{c_{p_{air}}\\rho_{air}V_{supply,d,t,i}} } &( \\sum^5_{i=1} L^*_{CS,d,t,i}>0)\\\\ \n",
    "    \\theta^*_{HBR,d,t} &(\\sum^5_{i=1} L^*_{CS,d,t,i} \\leq 0)\\\\ \n",
    "    \\end{array}\n",
    "\\right.\n",
    "$$"
   ]
  },
  {
   "cell_type": "markdown",
   "metadata": {},
   "source": [
    "中間期："
   ]
  },
  {
   "cell_type": "markdown",
   "metadata": {},
   "source": [
    "$$\\large\n",
    "\\theta_{supply,d,t,i}=\\theta^*_{HBR,d,t}\n",
    "$$"
   ]
  },
  {
   "cell_type": "markdown",
   "metadata": {},
   "source": [
    "$L^*_{CS,d,t,i}$：日付$d$の時刻$t$における暖冷房区画$i$の 1 時間当たりの熱取得を含む負荷バランス時の冷房顕熱負荷(MJ/h)  \n",
    "$L^*_{H,d,t,i}$：日付$d$の時刻$t$における暖冷房区画$i$の 1 時間当たりの熱損失を含む負荷バランス時の暖房負荷(MJ/h)  \n",
    "$l_{duct,i}$：ダクト$i$の長さ(m)  \n",
    "$V_{supply,d,t,i}$：日付$d$の時刻$t$における暖冷房区画$i$の吹き出し風量($m^3$/h)  \n",
    "$\\theta^*_{HBR,d,t}$：日付$d$の時刻$t$における負荷バランス時の居室の室温(℃)  \n",
    "$\\theta_{hs,out,d,t}$：日付$d$の時刻$t$における熱源機の出口における空気温度(℃)  \n",
    "$\\theta_{supply,d,t,i}$：日付$d$の時刻$t$における暖冷房区画$i$の吹き出し温度(℃)  \n",
    "$\\theta_{sur,d,t,i}$：日付$d$の時刻$t$におけるダクト$i$の周囲の空気温度(℃)  \n",
    "$\\psi_{i}$：ダクト$i$の線熱損失係数(W/(m・K))  \n",
    "$c_{p_{air}}$：空気の比熱(J/(kg・K))  \n",
    "$\\rho_{air}$：空気の密度(kg/$m^3$)  \n"
   ]
  },
  {
   "cell_type": "markdown",
   "metadata": {},
   "source": [
    "#### 10.2 吹き出し絶対湿度"
   ]
  },
  {
   "cell_type": "markdown",
   "metadata": {},
   "source": [
    "暖房期："
   ]
  },
  {
   "cell_type": "markdown",
   "metadata": {},
   "source": [
    "$$\\large\n",
    "X_{supply,d,t,i}=X^*_{HBR,d,t}\n",
    "$$"
   ]
  },
  {
   "cell_type": "markdown",
   "metadata": {},
   "source": [
    "冷房期："
   ]
  },
  {
   "cell_type": "markdown",
   "metadata": {},
   "source": [
    "$$\\large\n",
    "X_{supply,d,t,i}=\\left\\{ \\begin{array}{ll}\n",
    "    X_{hs,out,d,t} &( \\sum^5_{i=1} L^*_{CL,d,t,i}>0)\\\\ \n",
    "    X^*_{HBR,d,t} &(\\sum^5_{i=1} L^*_{CL,d,t,i} \\leq 0)\\\\ \n",
    "    \\end{array}\n",
    "\\right.\n",
    "$$"
   ]
  },
  {
   "cell_type": "markdown",
   "metadata": {},
   "source": [
    "中間期："
   ]
  },
  {
   "cell_type": "markdown",
   "metadata": {},
   "source": [
    "$$\\large\n",
    "X_{supply,d,t,i}=X^*_{HBR,d,t}\n",
    "$$"
   ]
  },
  {
   "cell_type": "markdown",
   "metadata": {},
   "source": [
    "$L^*_{CL,d,t,i}$：日付$d$の時刻$t$における暖冷房区画$i$の 1 時間当たりの熱取得を含む負荷バランス時の冷房潜熱負荷(MJ/h)  \n",
    "$X^*_{HBR,d,t}$：日付$d$の時刻$t$における負荷バランス時の居室の絶対湿度(kg/kg(DA))  \n",
    "$X_{hs,out,d,t}$：日付$d$の時刻$t$における熱源機の出口における絶対湿度(kg/kg(DA))  \n",
    "$X_{supply,d,t,i}$：日付$d$の時刻$t$における暖冷房区画$i$の吹き出し絶対湿度(kg/kg(DA))  \n"
   ]
  },
  {
   "cell_type": "markdown",
   "metadata": {},
   "source": [
    "#### 10.3 吹き出し風量"
   ]
  },
  {
   "cell_type": "markdown",
   "metadata": {},
   "source": [
    "吹き出し風量$V_{supply,d,t,i}$は、VAV 調整前の吹き出し風量$V'_{supply,d,t,i}$を上回る場合は VAV 調整前の吹き出し風量$V'_{supply,d,t,i}$ に等しいとし、全般換気量$V_{vent,g,i}$を下回る場合は全般換気量$V_{vent,g,i}$に等しいとする。"
   ]
  },
  {
   "cell_type": "markdown",
   "metadata": {},
   "source": [
    "VAV の機構を有さない場合："
   ]
  },
  {
   "cell_type": "markdown",
   "metadata": {},
   "source": [
    "暖房期："
   ]
  },
  {
   "cell_type": "markdown",
   "metadata": {},
   "source": [
    "$$\\large\n",
    "V_{supply,d,t,i}=V'_{supply,d,t,i}\n",
    "$$"
   ]
  },
  {
   "cell_type": "markdown",
   "metadata": {},
   "source": [
    "冷房期："
   ]
  },
  {
   "cell_type": "markdown",
   "metadata": {},
   "source": [
    "$$\\large\n",
    "V_{supply,d,t,i}=V'_{supply,d,t,i}\n",
    "$$"
   ]
  },
  {
   "cell_type": "markdown",
   "metadata": {},
   "source": [
    "中間期："
   ]
  },
  {
   "cell_type": "markdown",
   "metadata": {},
   "source": [
    "$$\\large\n",
    "V_{supply,d,t,i}=V_{vent,g,i}\n",
    "$$"
   ]
  },
  {
   "cell_type": "markdown",
   "metadata": {},
   "source": [
    "VAV の機構を有する場合："
   ]
  },
  {
   "cell_type": "markdown",
   "metadata": {},
   "source": [
    "暖房期："
   ]
  },
  {
   "cell_type": "markdown",
   "metadata": {},
   "source": [
    "$$\\large\n",
    "V_{supply,d,t,i}=\\left\\{ \\begin{array}{ll}\n",
    "    \\frac{L^*_{H,d,t,i}\\times 10^{-6} + (\\theta_{hs,out,d,t}-\\theta_{sur,d,t,i})\\psi_{i}l_{duct,t}\\times 3600}{c_{p_{air}}\\rho_{air}(\\theta_{hs,out,d,t}-\\theta^*_{HBR,d,t})} &(\\theta_{hs,out,d,t} > \\theta^*_{HBR,d,t} and \\sum^5_{i=1} L^*_{H,d,t,i} > 0)\\\\ \n",
    "    V_{vent,g,i} &(\\theta_{hs,out,d,t} \\leq \\theta^*_{HBR,d,t} or \\sum^5_{i=1} L^*_{H,d,t,i}\\leq 0)\\\\ \n",
    "    \\end{array}\n",
    "\\right.\n",
    "$$"
   ]
  },
  {
   "cell_type": "markdown",
   "metadata": {},
   "source": [
    "冷房期："
   ]
  },
  {
   "cell_type": "markdown",
   "metadata": {},
   "source": [
    "$$\\large\n",
    "V_{supply,d,t,i}=\\left\\{ \\begin{array}{ll}\n",
    "    \\frac{L^*_{CS,d,t,i}\\times 10^{-6} + (\\theta_{sur,d,t}-\\theta_{hs,out,d,t})\\psi_{i}l_{duct,t}\\times 3600}{c_{p_{air}}\\rho_{air}(\\theta^*_{HBR,d,t}-\\theta_{hs,out,d,t})} &(\\theta_{hs,out,d,t} < \\theta^*_{HBR,d,t} and \\sum^5_{i=1} L^*_{CS,d,t,i} > 0)\\\\ \n",
    "    V_{vent,g,i} &(\\theta_{hs,out,d,t} \\geq \\theta^*_{HBR,d,t} or \\sum^5_{i=1} L^*_{CS,d,t,i}\\leq 0)\\\\ \n",
    "    \\end{array}\n",
    "\\right.\n",
    "$$"
   ]
  },
  {
   "cell_type": "markdown",
   "metadata": {},
   "source": [
    "中間期："
   ]
  },
  {
   "cell_type": "markdown",
   "metadata": {},
   "source": [
    "$$\\large\n",
    "V_{supply,d,t,i}=V_{vent,g,i}\n",
    "$$"
   ]
  },
  {
   "cell_type": "markdown",
   "metadata": {},
   "source": [
    "$L^*_{CS,d,t,i}$：日付$d$の時刻$t$における暖冷房区画$i$の 1 時間当たりの熱取得を含む負荷バランス時の冷房顕熱負荷(MJ/h)  \n",
    "$L^*_{H,d,t,i}$：日付$d$の時刻$t$における暖冷房区画$i$の 1 時間当たりの熱取得を含む負荷バランス時の暖房負荷(MJ/h)  \n",
    "$l_{duct,i}$：ダクト$i$の長さ(m)  \n",
    "$V_{supply,d,t,i}$：日付$d$の時刻$t$における暖冷房区画$i$の吹き出し風量($m^3$/h)  \n",
    "$V_{vent,g,i}$：暖冷房区画$i$の全般換気量($m^3$/h)  \n",
    "$V'_{supply,d,t,i}$：日付$d$の時刻$t$における暖冷房区画$i$のVAV調整前の吹き出し風量($m^3$/h)  \n",
    "$\\theta^*_{HBR,d,t}$：日付$d$の時刻$t$における負荷バランス時の居室の室温(℃)  \n",
    "$\\theta_{hs,out,d,t}$：日付$d$の時刻$t$における熱源機の出口における空気温度(℃)  \n",
    "$\\theta_{sur,d,t,i}$：日付$d$の時刻$t$におけるダクト$i$の周囲の空気温度(℃)  \n",
    "$\\psi_{i}$：ダクト$i$の線熱損失係数(W/(m・K))  \n",
    "$c_{p_{air}}$：空気の比熱(J/(kg・K))  \n",
    "$\\rho_{air}$：空気の密度(kg/$m^3$)  \n"
   ]
  },
  {
   "cell_type": "markdown",
   "metadata": {},
   "source": [
    "#### 10.4 VAV 調整前の吹き出し風量"
   ]
  },
  {
   "cell_type": "markdown",
   "metadata": {},
   "source": [
    "$$\\large\n",
    "V'_{supply,d,t,i}=max(r_{supply,des,i}V'_{hs,supply,d,t},V_{vent,g,i})\n",
    "$$"
   ]
  },
  {
   "cell_type": "markdown",
   "metadata": {},
   "source": [
    "$r_{supply,des,i}$：暖冷房区画$i$の風量バランス(-)  \n",
    "$V_{vent,g,i}$：暖冷房区画$i$の全般換気量($m^3$/h)  \n",
    "$V'_{supply,d,t,i}$：日付$d$の時刻$t$における暖冷房区画$i$のVAV調整前の吹き出し風量($m^3$/h)  \n",
    "$V'_{hs,supply,d,t}$：日付$d$の時刻$t$におけるVAV 調整前の熱源機の風量($m^3$/h)  \n"
   ]
  },
  {
   "cell_type": "markdown",
   "metadata": {},
   "source": [
    "$$\\large\n",
    "r_{supply,des,i}=\\frac{A_{HCZ,i}}{\\sum^5_{i=1}A_{HCZ,i}}\n",
    "$$"
   ]
  },
  {
   "cell_type": "markdown",
   "metadata": {},
   "source": [
    "$A_{HCZ,i}$：暖冷房区画$i$の床面積($m^2$)  \n",
    "$r_{supply,des,i}$：暖冷房区画$i$の風量バランス(-)  \n"
   ]
  },
  {
   "cell_type": "markdown",
   "metadata": {},
   "source": [
    "### 11. 暖冷房区画"
   ]
  },
  {
   "cell_type": "markdown",
   "metadata": {},
   "source": [
    "#### 11.1 実際の居室の室温・絶対湿度"
   ]
  },
  {
   "cell_type": "markdown",
   "metadata": {},
   "source": [
    "暖冷房区画$i$の実際の居室の室温$\\theta_{HBR,d,t,i}$は、暖房期において負荷バランス時の居室の室温$\\theta^*_{HBR,d,t}$を下回る場合、負荷バランス時の居室の室温$\\theta^*_{HBR,d,t}$に等しいとし、また、冷房期において負荷バランス時の居室の室温$\\theta^*_{HBR,d,t}$を上回る場合、負荷バランス時の居室の室温$\\theta^*_{HBR,d,t}$に等しい。"
   ]
  },
  {
   "cell_type": "markdown",
   "metadata": {},
   "source": [
    "暖房期："
   ]
  },
  {
   "cell_type": "markdown",
   "metadata": {},
   "source": [
    "$$\\large\n",
    "\\theta_{HBR,d,t,i}=\\theta^*_{HBR,d,t}+\\frac{c_{p_{air}}\\rho_{air}V_{supply,d,t,i}(\\theta_{supply,d,t,i}-\\theta^*_{HBR,d,t})-L^*_{H,d,t,i}\\times 10^6}{c_{p_{air}}\\rho_{air}V_{supply,d,t,i}+(U_{prt}A_{prt,i}+QA_{HCZ,i})\\times 3600}\n",
    "$$"
   ]
  },
  {
   "cell_type": "markdown",
   "metadata": {},
   "source": [
    "冷房期："
   ]
  },
  {
   "cell_type": "markdown",
   "metadata": {},
   "source": [
    "$$\\large\n",
    "\\theta_{HBR,d,t,i}=\\theta^*_{HBR,d,t}-\\frac{c_{p_{air}}\\rho_{air}V_{supply,d,t,i}(\\theta^*_{HBR,d,t}-\\theta_{supply,d,t,i})-L^*_{CS,d,t,i}\\times 10^6}{c_{p_{air}}\\rho_{air}V_{supply,d,t,i}+(U_{prt}A_{prt,i}+QA_{HCZ,i})\\times 3600}\n",
    "$$"
   ]
  },
  {
   "cell_type": "markdown",
   "metadata": {},
   "source": [
    "中間期："
   ]
  },
  {
   "cell_type": "markdown",
   "metadata": {},
   "source": [
    "$$\\large\n",
    "\\theta_{HBR,d,t,i}=\\theta^*_{HBR,d,t}\n",
    "$$"
   ]
  },
  {
   "cell_type": "markdown",
   "metadata": {},
   "source": [
    "$A_{HCZ,i}$：暖冷房区画$i$の床面積($m^2$)  \n",
    "$A_{prt,i}$：暖冷房区画$i$から見た非居室の間仕切りの面積($m^2$)  \n",
    "$L^*_{CS,d,t,i}$：日付$d$の時刻$t$における暖冷房区画$i$の 1 時間当たりの熱取得を含む負荷バランス時の冷房顕熱負荷(MJ/h)  \n",
    "$L^*_{H,d,t,i}$：日付$d$の時刻$t$における暖冷房区画$i$の 1 時間当たりの熱取得を含む負荷バランス時の暖房負荷(MJ/h)  \n",
    "$Q$：当該住戸の熱損失係数(W/($m^2$・K))  \n",
    "$U_{prt}$：間仕切りの熱貫流率(W/($m^2$・K))  \n",
    "$V_{supply,d,t,i}$：日付$d$の時刻$t$における暖冷房区画$i$の吹き出し風量($m^3$/h)  \n",
    "$\\theta_{HBR,d,t,i}$：日付$d$の時刻$t$における暖冷房区画$i$の実際の居室の室温(℃)  \n",
    "$\\theta_{supply,d,t,i}$：日付$d$の時刻$t$における暖冷房区画$i$の吹き出し温度(℃)  \n",
    "$\\theta^*_{HBR,d,t}$：日付$d$の時刻$t$における負荷バランス時の居室の室温(℃)  \n",
    "$c_{p_{air}}$：空気の比熱(J/(kg・K))  \n",
    "$\\rho_{air}$：空気の密度(kg/$m^3$)  \n"
   ]
  },
  {
   "cell_type": "markdown",
   "metadata": {},
   "source": [
    "$$\\large\n",
    "X_{HBR,d,t,i}=X^*_{HBR,d,t}\n",
    "$$"
   ]
  },
  {
   "cell_type": "markdown",
   "metadata": {},
   "source": [
    "$X_{HBR,d,t,i}$：日付$d$の時刻$t$における暖冷房区画$i$の実際の居室の絶対湿度(kg/kg(DA))  \n",
    "$X^*_{HBR,d,t}$：日付$d$の時刻$t$における負荷バランス時の居室の絶対湿度(kg/kg(DA))  \n"
   ]
  },
  {
   "cell_type": "markdown",
   "metadata": {},
   "source": [
    "#### 11.2 実際の非居室の室温・絶対湿度"
   ]
  },
  {
   "cell_type": "markdown",
   "metadata": {},
   "source": [
    "$$\\large\n",
    "\\theta_{NR,d,t}=\\theta^*_{NR,d,t}+\\frac{-\\sum^5_{i=1}k'_{prt,d,t,i}(\\theta'_{HBR,d,t}-\\theta^*_{NR,d,t})+\\sum^5_{i=1}k_{prt,d,t,i}(\\theta_{HBR,d,t,i}-\\theta^*_{NR,d,t})}{k_{evp,d,t}+\\sum^5_{i=1}k_{prt,d,t,i}}\n",
    "$$"
   ]
  },
  {
   "cell_type": "markdown",
   "metadata": {},
   "source": [
    "$$\\large\n",
    "k_{evp,d,t}=(Q-0.35\\times 0.5\\times 2.4)A_{NR}+c_{p_{air}}\\rho_{air}\\frac{V_{vent,l,NR,d,t}}{3600}\n",
    "$$"
   ]
  },
  {
   "cell_type": "markdown",
   "metadata": {},
   "source": [
    "$$\\large\n",
    "k_{prt,d,t,i}=c_{p_{air}}\\rho_{air}\\frac{V_{supply,d,t}}{3600}+U_{prt}A_{prt,i}\n",
    "$$"
   ]
  },
  {
   "cell_type": "markdown",
   "metadata": {},
   "source": [
    "$$\\large\n",
    "k'_{prt,d,t,i}=c_{p_{air}}\\rho_{air}\\frac{V'_{supply,d,t}}{3600}+U_{prt}A_{prt,i}\n",
    "$$"
   ]
  },
  {
   "cell_type": "markdown",
   "metadata": {},
   "source": [
    "$A_{NR}$：非居室の床面積($m^2$)  \n",
    "$A_{prt,i}$：暖冷房区画$i$から見た非居室の間仕切りの面積($m^2$)  \n",
    "$Q$：当該住戸の熱損失係数(W/($m^2$・K))  \n",
    "$U_{prt}$：間仕切りの熱貫流率(W/($m^2$・K))  \n",
    "$V_{supply,d,t,i}$：日付$d$の時刻$t$における暖冷房区画$i$の吹き出し風量($m^3$/h)  \n",
    "$V_{vent,l,NR,d,t}$：日付$d$の時刻$t$における非居室の局所換気量($m^3$/h)  \n",
    "$V'_{supply,d,t,i}$：日付$d$の時刻$t$における暖冷房区画$i$のVAV調整前の吹き出し風量($m^3$/h)  \n",
    "$\\theta_{HBR,d,t,i}$：日付$d$の時刻$t$における暖冷房区画$i$の実際の居室の室温(℃)  \n",
    "$\\theta_{NR,d,t}$：日付$d$の時刻$t$における実際の非居室の室温(℃)  \n",
    "$\\theta^*_{HBR,d,t}$：日付$d$の時刻$t$における負荷バランス時の居室の室温(℃)  \n",
    "$\\theta^*_{NR,d,t}$：日付$d$の時刻$t$における負荷バランス時の非居室の室温(℃)  \n",
    "$c_{p_{air}}$：空気の比熱(J/(kg・K))  \n",
    "$\\rho_{air}$：空気の密度(kg/$m^3$)  \n"
   ]
  },
  {
   "cell_type": "markdown",
   "metadata": {},
   "source": [
    "$$\\large\n",
    "X_{NR,d,t}=X^*_{NR,d,t}\n",
    "$$"
   ]
  },
  {
   "cell_type": "markdown",
   "metadata": {},
   "source": [
    "$X_{NR,d,t}$：日付$d$の時刻$t$における実際の非居室の絶対湿度(kg/kg(DA))  \n",
    "$X^*_{NR,d,t}$：日付$d$の時刻$t$における非居室の負荷バランス時の絶対湿度(kg/kg(DA))  \n"
   ]
  },
  {
   "cell_type": "markdown",
   "metadata": {},
   "source": [
    "#### 11.3 負荷バランス時の居室の室温・絶対湿度"
   ]
  },
  {
   "cell_type": "markdown",
   "metadata": {},
   "source": [
    "暖房期："
   ]
  },
  {
   "cell_type": "markdown",
   "metadata": {},
   "source": [
    "$$\\large\n",
    "\\theta^*_{HBR,d,t}=\\theta_{set,H}\n",
    "$$"
   ]
  },
  {
   "cell_type": "markdown",
   "metadata": {},
   "source": [
    "冷房期："
   ]
  },
  {
   "cell_type": "markdown",
   "metadata": {},
   "source": [
    "$$\\large\n",
    "\\theta^*_{HBR,d,t}=\\theta_{set,C}\n",
    "$$"
   ]
  },
  {
   "cell_type": "markdown",
   "metadata": {},
   "source": [
    "中間期："
   ]
  },
  {
   "cell_type": "markdown",
   "metadata": {},
   "source": [
    "$$\\large\n",
    "\\theta^*_{HBR,d,t}=\\left\\{ \\begin{array}{ll}\n",
    "    \\theta_{ex,d,t} &(\\theta_{set,H} \\leq \\theta_{ex,d,t} \\leq \\theta_{set,C})\\\\ \n",
    "    \\theta_{set,C} &(\\theta_{ex,d,t} > \\theta_{set,C})\\\\ \n",
    "    \\theta_{set,H} &(\\theta_{ex,d,t} < \\theta_{set,H})\\\\ \n",
    "    \\end{array}\n",
    "\\right.\n",
    "$$"
   ]
  },
  {
   "cell_type": "markdown",
   "metadata": {},
   "source": [
    "$\\theta_{ex,d,t}$：日付$d$の時刻$t$における外気温度(℃)  \n",
    "$\\theta^*_{HBR,d,t}$：日付$d$の時刻$t$における負荷バランス時の居室の室温(℃)  \n",
    "$\\theta_{set,C}$：冷房時の設定温度(℃)  \n",
    "$\\theta_{set,H}$：暖房時の設定温度(℃)  \n"
   ]
  },
  {
   "cell_type": "markdown",
   "metadata": {},
   "source": [
    "暖房期："
   ]
  },
  {
   "cell_type": "markdown",
   "metadata": {},
   "source": [
    "$$\\large\n",
    "X^*_{HBR,d,t}=X_{ex,d,t}\n",
    "$$"
   ]
  },
  {
   "cell_type": "markdown",
   "metadata": {},
   "source": [
    "冷房期："
   ]
  },
  {
   "cell_type": "markdown",
   "metadata": {},
   "source": [
    "$$\\large\n",
    "X^*_{HBR,d,t}=X_{set,C}\n",
    "$$"
   ]
  },
  {
   "cell_type": "markdown",
   "metadata": {},
   "source": [
    "中間期："
   ]
  },
  {
   "cell_type": "markdown",
   "metadata": {},
   "source": [
    "$$\\large\n",
    "X^*_{HBR,d,t}=X_{ex,d,t}\n",
    "$$"
   ]
  },
  {
   "cell_type": "markdown",
   "metadata": {},
   "source": [
    "$X_{ex,d,t}$：日付$d$の時刻$t$における外気絶対湿度(kg/kg(DA))  \n",
    "$X^*_{HBR,d,t}$：日付$d$の時刻$t$における負荷バランス時の居室の絶対湿度(kg/kg(DA))  \n",
    "$X_{set,C}$：冷房時の設定絶対湿度(kg/kg(DA))  \n"
   ]
  },
  {
   "cell_type": "markdown",
   "metadata": {},
   "source": [
    "#### 11.4 負荷バランス時の非居室の室温・絶対湿度"
   ]
  },
  {
   "cell_type": "markdown",
   "metadata": {},
   "source": [
    "暖房期："
   ]
  },
  {
   "cell_type": "markdown",
   "metadata": {},
   "source": [
    "$$\\large\n",
    "\\theta^*_{NR,d,t}=\\\\\n",
    "\\theta^*_{HBR,d,t}-\\frac{\\sum^{12}_{i=6}L_{H,d,t,i}}{(Q-0.35\\times0.5\\times2.4)A_{NR}+c_{p_{air}}\\rho_{air}\\frac{V_{vent,l,NR,d,t}}{3600}+\\sum^5_{i=1}(c_{p_{air}}\\rho_{air}\\frac{V'_{supply,d,t,i}}{3600}+U_{prt}A_{prt,i})}\\times \\frac{10^6}{3600}\n",
    "$$"
   ]
  },
  {
   "cell_type": "markdown",
   "metadata": {},
   "source": [
    "冷房期："
   ]
  },
  {
   "cell_type": "markdown",
   "metadata": {},
   "source": [
    "$$\\large\n",
    "\\theta^*_{NR,d,t}=\\\\\n",
    "\\theta^*_{HBR,d,t}-\\frac{\\sum^{12}_{i=6}L_{CS,d,t,i}}{(Q-0.35\\times0.5\\times2.4)A_{NR}+c_{p_{air}}\\rho_{air}\\frac{V_{vent,l,NR,d,t}}{3600}+\\sum^5_{i=1}(c_{p_{air}}\\rho_{air}\\frac{V'_{supply,d,t,i}}{3600}+U_{prt}A_{prt,i})}\\times \\frac{10^6}{3600}\n",
    "$$"
   ]
  },
  {
   "cell_type": "markdown",
   "metadata": {},
   "source": [
    "中間期："
   ]
  },
  {
   "cell_type": "markdown",
   "metadata": {},
   "source": [
    "$$\\large\n",
    "\\theta^*_{NR,d,t}=\\theta^*_{HBR,d,t}\n",
    "$$"
   ]
  },
  {
   "cell_type": "markdown",
   "metadata": {},
   "source": [
    "$A_{NR}$：非居室の床面積($m^2$)  \n",
    "$A_{prt,i}$：暖冷房区画$i$から見た非居室の間仕切りの面積($m^2$)  \n",
    "$L_{CS,d,t,i}$：日付$d$の時刻$t$における暖冷房区画$i$の 1 時間当たりの冷房顕熱負荷(MJ/h)  \n",
    "$L_{H,d,t,i}$：日付$d$の時刻$t$における暖冷房区画$i$の 1 時間当たりの暖房負荷(MJ/h)  \n",
    "$Q$：当該住戸の熱損失係数(W/($m^2$・K))  \n",
    "$U_{prt}$：間仕切りの熱貫流率(W/($m^2$・K))  \n",
    "$V_{vent,l,NR,d,t}$：日付$d$の時刻$t$における非居室の局所換気量($m^3$/h)  \n",
    "$V'_{supply,d,t,i}$：日付$d$の時刻$t$における暖冷房区画$i$のVAV調整前の吹き出し風量($m^3$/h)  \n",
    "$\\theta^*_{HBR,d,t}$：日付$d$の時刻$t$における負荷バランス時の居室の室温(℃)  \n",
    "$\\theta^*_{NR,d,t}$：日付$d$の時刻$t$における負荷バランス時の非居室の室温(℃)  \n",
    "$c_{p_{air}}$：空気の比熱(J/(kg・K))  \n",
    "$\\rho_{air}$：空気の密度(kg/$m^3$)  \n"
   ]
  },
  {
   "cell_type": "markdown",
   "metadata": {},
   "source": [
    "暖房期："
   ]
  },
  {
   "cell_type": "markdown",
   "metadata": {},
   "source": [
    "$$\\large\n",
    "X^*_{NR,d,t}=X^*_{HBR,d,t}\n",
    "$$"
   ]
  },
  {
   "cell_type": "markdown",
   "metadata": {},
   "source": [
    "冷房期："
   ]
  },
  {
   "cell_type": "markdown",
   "metadata": {},
   "source": [
    "$$\\large\n",
    "X^*_{NR,d,t}=X^*_{HBR,d,t}-\\frac{\\sum^{12}_{i=6}L_{CL,d,t,i}}{L_{wtr}\\rho_{air}(V_{vent,l,NR,d,t}+\\sum^5_{i=1}V'_{supply,d,t,i})}\\times 10^3\n",
    "$$"
   ]
  },
  {
   "cell_type": "markdown",
   "metadata": {},
   "source": [
    "中間期："
   ]
  },
  {
   "cell_type": "markdown",
   "metadata": {},
   "source": [
    "$$\\large\n",
    "X^*_{NR,d,t}=X^*_{HBR,d,t}\n",
    "$$"
   ]
  },
  {
   "cell_type": "markdown",
   "metadata": {},
   "source": [
    "$L_{CL,d,t,i}$：日付$d$の時刻$t$における暖冷房区画$i$の 1 時間当たりの冷房潜熱負荷(MJ/h)  \n",
    "$V_{vent,l,NR,d,t}$：日付$d$の時刻$t$における非居室の局所換気量($m^3$/h)  \n",
    "$V'_{supply,d,t,i}$：日付$d$の時刻$t$における暖冷房区画$i$のVAV調整前の吹き出し風量($m^3$/h)  \n",
    "$X^*_{HBR,d,t}$：日付$d$の時刻$t$における負荷バランス時の居室の絶対湿度(kg/kg(DA))  \n",
    "$X^*_{NR,d,t}$：日付$d$の時刻$t$における負荷バランス時の非居室の絶対湿度(kg/kg(DA))  \n",
    "$c_{p_{air}}$：空気の比熱(J/(kg・K))  \n",
    "$L_{wtr}$：水の蒸発潜熱(kJ/kg)  \n",
    "$\\rho_{air}$：空気の密度(kg/$m^3$)  \n"
   ]
  },
  {
   "cell_type": "markdown",
   "metadata": {},
   "source": [
    "### 12. ダクト"
   ]
  },
  {
   "cell_type": "markdown",
   "metadata": {},
   "source": [
    "#### 12.1 ダクトの周囲の空気温度"
   ]
  },
  {
   "cell_type": "markdown",
   "metadata": {},
   "source": [
    "ダクトの全部または一部が断熱区画外にある場合："
   ]
  },
  {
   "cell_type": "markdown",
   "metadata": {},
   "source": [
    "$$\\large\n",
    "\\theta_{sur,d,t,i}=\\frac{l_{duct,in,i}\\theta^*_{HBR,d,t}+l_{duct,ex,i}\\theta_{attic,d,t}}{l_{duct,in,i}+l_{duct,ex,i}}\n",
    "$$"
   ]
  },
  {
   "cell_type": "markdown",
   "metadata": {},
   "source": [
    "ダクトの全部が断熱区画内にある場合："
   ]
  },
  {
   "cell_type": "markdown",
   "metadata": {},
   "source": [
    "$$\\large\n",
    "\\theta_{sur,d,t,i}=\\theta^*_{HBR,d,t}\n",
    "$$"
   ]
  },
  {
   "cell_type": "markdown",
   "metadata": {},
   "source": [
    "$l_{duct,ex,i}$：断熱区画外を通るダクト$i$の長さ(m)  \n",
    "$l_{duct,in,i}$：断熱区画内を通るダクト$i$の長さ(m)  \n",
    "$\\theta_{attic,d,t}$：日付$d$の時刻$t$における小屋裏の空気温度(℃)  \n",
    "$\\theta_{sur,d,t,i}$：日付$d$の時刻$t$におけるダクト$i$の周囲の空気温度(℃)  \n",
    "$\\theta^*_{HBR,d,t}$：日付$d$の時刻$t$における負荷バランス時の居室の室温(℃)  \n"
   ]
  },
  {
   "cell_type": "markdown",
   "metadata": {},
   "source": [
    "$$\\large\n",
    "\\theta_{attic,d,t}=\\theta_{SAT,d,t}H+\\theta^*_{HBR,d,t}(1-H)\n",
    "$$"
   ]
  },
  {
   "cell_type": "markdown",
   "metadata": {},
   "source": [
    "$H$：温度差係数(-)  \n",
    "$\\theta_{attic,d,t}$：日付$d$の時刻$t$における小屋裏の空気温度(℃)  \n",
    "$\\theta_{SAT,d,t}$：日付$d$の時刻$t$における水平面における等価外温度(℃)  \n",
    "$\\theta^*_{HBR,d,t}$：日付$d$の時刻$t$における負荷バランス時の居室の室温(℃)  \n"
   ]
  },
  {
   "cell_type": "markdown",
   "metadata": {},
   "source": [
    "温度差係数$H$は、1.0 とする。\n"
   ]
  },
  {
   "cell_type": "markdown",
   "metadata": {},
   "source": [
    "#### 12.2 ダクトの長さ"
   ]
  },
  {
   "cell_type": "markdown",
   "metadata": {},
   "source": [
    "$$\\large\n",
    "l_{duct,i}=l_{duct,in,i}+l_{duct,ex,i}\n",
    "$$"
   ]
  },
  {
   "cell_type": "markdown",
   "metadata": {},
   "source": [
    "$l_{duct,i}$：ダクト$i$の長さ(m)  \n",
    "$l_{duct,ex,i}$：断熱区画外を通るダクト$i$の長さ(m)  \n",
    "$l_{duct,in,i}$：断熱区画内を通るダクト$i$の長さ(m)  \n"
   ]
  },
  {
   "cell_type": "markdown",
   "metadata": {},
   "source": [
    "$$\\large\n",
    "l_{duct,in,i}=l_{duct,in,R,i}\\sqrt{\\frac{A_{A}}{A_{A,R}}}\n",
    "$$\n",
    "\n",
    "$$\\large\n",
    "l_{duct,ex,i}=l_{duct,ex,R,i}\\sqrt{\\frac{A_{A}}{A_{A,R}}}\n",
    "$$"
   ]
  },
  {
   "cell_type": "markdown",
   "metadata": {},
   "source": [
    "$A_{A}$：床面積の合計($m^2$)  \n",
    "$A_{A,R}$：非居室の床面積($m^2$)  \n",
    "$l_{duct,ex,i}$：断熱区画外を通るダクト$i$の長さ(m)  \n",
    "$l_{duct,ex,R,i}$：標準住戸における断熱区画外を通るダクト$i$の長さ(m)  \n",
    "$l_{duct,in,i}$：断熱区画内を通るダクト$i$の長さ(m)  \n",
    "$l_{duct,in,R,i}$：標準住戸における断熱区画内を通るダクト$i$の長さ(m)  \n"
   ]
  },
  {
   "cell_type": "markdown",
   "metadata": {},
   "source": [
    "<div style=\"text-align: center;font-weight: bold;\">表　標準住戸におけるダクト$i$の長さ</div>\n",
    "\n",
    "|暖冷房区画|断熱区画内<br>$l_{duct,in,R,i}$<br>(m)|断熱区画外<br>$l_{duct,ex,R,i}$<br>(m)|　　合計　　<br>$l_{duct,R,i}$<br>(m)|\n",
    "|-|-|-|-|\n",
    "|1|25.6|0.0|25.6|\n",
    "|2|8.6|0.0|8.6|\n",
    "|3|0.0|10.2|10.2|\n",
    "|4|0.0|11.8|11.8|\n",
    "|5|0.0|8.1|8.1|\n"
   ]
  },
  {
   "cell_type": "markdown",
   "metadata": {},
   "source": [
    "#### 12.3 ダクトの線熱損失係"
   ]
  },
  {
   "cell_type": "markdown",
   "metadata": {},
   "source": [
    "ダクト$i$の線熱損失係数$\\psi_{i}$は、0.49W/(m・K)とする。"
   ]
  },
  {
   "cell_type": "markdown",
   "metadata": {},
   "source": [
    "### 13. その他"
   ]
  },
  {
   "cell_type": "markdown",
   "metadata": {},
   "source": [
    "#### 13.1 外気条件"
   ]
  },
  {
   "cell_type": "markdown",
   "metadata": {},
   "source": [
    "$$\\large\n",
    "\\theta_{SAT,d,t}=\\theta_{ex,d,t}+0.034J_{d,t}\n",
    "$$"
   ]
  },
  {
   "cell_type": "markdown",
   "metadata": {},
   "source": [
    "$J_{d,t}$：日付$d$の時刻$t$における水平面全天日射量(W/$m^2$)  \n",
    "$\\theta_{ex,d,t}$：日付$d$の時刻$t$における外気温度(℃)  \n",
    "$\\theta_{SAT,d,t}$：日付$d$の時刻$t$における水平面における等価外温度(℃)  \n"
   ]
  },
  {
   "cell_type": "markdown",
   "metadata": {},
   "source": [
    "#### 13.2 住宅の仕様"
   ]
  },
  {
   "cell_type": "markdown",
   "metadata": {},
   "source": [
    "#### 13.2.1 外皮性能"
   ]
  },
  {
   "cell_type": "markdown",
   "metadata": {},
   "source": [
    "省略"
   ]
  },
  {
   "cell_type": "markdown",
   "metadata": {},
   "source": [
    "#### 13.2.2 間仕切り"
   ]
  },
  {
   "cell_type": "markdown",
   "metadata": {},
   "source": [
    "暖冷房区画が主たる居室（$i$= 1）の場合："
   ]
  },
  {
   "cell_type": "markdown",
   "metadata": {},
   "source": [
    "$$\\large\n",
    "A_{prt,i}=A_{HCZ,i}r_{env}\\frac{A_{NR}}{A_{OR}+A_{NR}}\n",
    "$$"
   ]
  },
  {
   "cell_type": "markdown",
   "metadata": {},
   "source": [
    "暖冷房区画がその他の居室（$i$=2～5）の場合："
   ]
  },
  {
   "cell_type": "markdown",
   "metadata": {},
   "source": [
    "$$\\large\n",
    "A_{prt,i}=A_{HCZ,i}r_{env}\\frac{A_{NR}}{A_{MR}+A_{NR}}\n",
    "$$"
   ]
  },
  {
   "cell_type": "markdown",
   "metadata": {},
   "source": [
    "$A_{HCZ,i}$：暖冷房区画$i$の床面積($m^2$)  \n",
    "$A_{MR}$：主たる居室の床面積($m^2$)  \n",
    "$A_{NR}$：非居室の床面積($m^2$)  \n",
    "$A_{OR}$：その他の居室の床面積($m^2$)  \n",
    "$A_{prt,i}$：暖冷房区画$i$から見た非居室の間仕切りの面積($m^2$)  \n",
    "$r_{env}$：床面積の合計に対しる外皮の部位の面積の合計の比(-)  \n"
   ]
  },
  {
   "cell_type": "markdown",
   "metadata": {},
   "source": [
    "$$\\large\n",
    "U_{prt}=\\frac{1}{R_{prt}}\n",
    "$$"
   ]
  },
  {
   "cell_type": "markdown",
   "metadata": {},
   "source": [
    "$U_{prt}$：間仕切りの熱貫流率(W/($m^2$・K))  \n",
    "$R_{prt}$：間仕切りの熱抵抗(($m^2$・K)/W)  \n"
   ]
  },
  {
   "cell_type": "markdown",
   "metadata": {},
   "source": [
    "間仕切りの熱抵抗$R_{prt}$は、0.46($m^2$・K)/W とする。"
   ]
  },
  {
   "cell_type": "markdown",
   "metadata": {},
   "source": [
    "#### 13.2.3 床面積および床面積の合計に対する外皮の部位の面積の合計の比"
   ]
  },
  {
   "cell_type": "markdown",
   "metadata": {},
   "source": [
    "省略"
   ]
  },
  {
   "cell_type": "markdown",
   "metadata": {},
   "source": [
    "#### 13.2.4 機械換気量"
   ]
  },
  {
   "cell_type": "markdown",
   "metadata": {},
   "source": [
    "$$\\large\n",
    "V_{vent,g,i}=V_{vent,g,R,i}\\frac{A_{HCZ,i}}{A_{HCZ,R,i}}\n",
    "$$"
   ]
  },
  {
   "cell_type": "markdown",
   "metadata": {},
   "source": [
    "$A_{HCZ,i}$：暖冷房区画$i$の床面積($m^2$)  \n",
    "$A_{HCZ,R,i}$：標準住戸における暖冷房区画$i$の床面積($m^2$)  \n",
    "$V_{vent,g,i}$：暖冷房区画$i$の全般換気量($m^3$/h)  \n",
    "$V_{vent,g,R,i}$：標準住戸における暖冷房区画$i$の全般換気量($m^3$/h)  \n"
   ]
  },
  {
   "cell_type": "markdown",
   "metadata": {},
   "source": [
    "<div style=\"text-align: center;font-weight: bold;\">表　標準住戸における暖冷房区画$i$の全般換気量$V_{vent,g,R,i}$</div>\n",
    "\n",
    "|暖冷房区画|全般換気量<br>$V_{vent,g,R,i}$<br>($m^3$/h)|\n",
    "|-|-|\n",
    "|1|60.0|\n",
    "|2|20.0|\n",
    "|3|40.0|\n",
    "|4|20.0|\n",
    "|5|20.0|\n"
   ]
  },
  {
   "cell_type": "markdown",
   "metadata": {},
   "source": [
    "$$\\large\n",
    "V_{vent,l,d,t}=V_{vent,l,MR,d,t}+V_{vent,l,OR,d,t}+V_{vent,l,NR,d,t}\n",
    "$$"
   ]
  },
  {
   "cell_type": "markdown",
   "metadata": {},
   "source": [
    "$V_{vent,l,d,t}$：日付$d$の時刻$t$における局所換気量($m^3$/h)  \n",
    "$V_{vent,l,MR,d,t}$：日付$d$の時刻$t$における主たる居室の局所換気量($m^3$/h)  \n",
    "$V_{vent,l,OR,d,t}$：日付$d$の時刻$t$におけるその他の居室の局所換気量($m^3$/h)  \n",
    "$V_{vent,l,NR,d,t}$：日付$d$の時刻$t$における非居室の局所換気量($m^3$/h)  \n"
   ]
  },
  {
   "cell_type": "markdown",
   "metadata": {},
   "source": [
    "<div style=\"text-align: center;font-weight: bold;\">表　局所換気量</div>\n",
    "\n",
    "<table>\n",
    "<thead>\n",
    "<tr>\n",
    "<th rowspan=\"2\">時刻</th>\n",
    "<th colspan=\"2\">主たる居室<br>$V_{vent,l,MR,d,t}$<br>($m^3$/h)</th>\n",
    "<th colspan=\"2\">その他の居室<br>$V_{vent,l,OR,d,t}$<br>($m^3$/h)</th>\n",
    "<th colspan=\"2\">非居室<br>$V_{vent,l,NR,d,t}$<br>($m^3$/h)</th>\n",
    "</tr>\n",
    "<tr>\n",
    "<th>平日</th>\n",
    "<th>休日</th>\n",
    "<th>平日</th>\n",
    "<th>休日</th>\n",
    "<th>平日</th>\n",
    "<th>休日</th>\n",
    "</tr>\n",
    "</thead>\n",
    "<tbody>\n",
    "<tr><th>0</th><td>0.0</td><td>0.0</td><td>0.0</td><td>0.0</td><td>0.0</td><td>0.0</td></tr>\n",
    "<tr><th>1</th><td>0.0</td><td>0.0</td><td>0.0</td><td>0.0</td><td>0.0</td><td>0.0</td></tr>\n",
    "<tr><th>2</th><td>0.0</td><td>0.0</td><td>0.0</td><td>0.0</td><td>0.0</td><td>0.0</td></tr>\n",
    "<tr><th>3</th><td>0.0</td><td>0.0</td><td>0.0</td><td>0.0</td><td>0.0</td><td>0.0</td></tr>\n",
    "<tr><th>4</th><td>0.0</td><td>0.0</td><td>0.0</td><td>0.0</td><td>0.0</td><td>0.0</td></tr>\n",
    "<tr><th>5</th><td>0.0</td><td>0.0</td><td>0.0</td><td>0.0</td><td>0.0</td><td>0.0</td></tr>\n",
    "<tr><th>6</th><td>75.0</td><td>0.0</td><td>0.0</td><td>0.0</td><td>6.0</td><td>0.0</td></tr>\n",
    "<tr><th>7</th><td>0.0</td><td>0.0</td><td>0.0</td><td>0.0</td><td>2.0</td><td>4.0</td></tr>\n",
    "<tr><th>8</th><td>0.0</td><td>75.0</td><td>0.0</td><td>0.0</td><td>0.0</td><td>4.0</td></tr>\n",
    "<tr><th>9</th><td>0.0</td><td>0.0</td><td>0.0</td><td>0.0</td><td>0.8</td><td>0.0</td></tr>\n",
    "<tr><th>10</th><td>0.0</td><td>0.0</td><td>0.0</td><td>0.0</td><td>0.0</td><td>1.2</td></tr>\n",
    "<tr><th>11</th><td>0.0</td><td>0.0</td><td>0.0</td><td>0.0</td><td>0.0</td><td>1.2</td></tr>\n",
    "<tr><th>12</th><td>75.0</td><td>75.0</td><td>0.0</td><td>0.0</td><td>0.8</td><td>0.0</td></tr>\n",
    "<tr><th>13</th><td>0.0</td><td>0.0</td><td>0.0</td><td>0.0</td><td>0.0</td><td>0.0</td></tr>\n",
    "<tr><th>14</th><td>0.0</td><td>0.0</td><td>0.0</td><td>0.0</td><td>0.0</td><td>0.0</td></tr>\n",
    "<tr><th>15</th><td>0.0</td><td>0.0</td><td>0.0</td><td>0.0</td><td>0.0</td><td>0.0</td></tr>\n",
    "<tr><th>16</th><td>0.0</td><td>0.0</td><td>0.0</td><td>0.0</td><td>0.8</td><td>2.0</td></tr>\n",
    "<tr><th>17</th><td>0.0</td><td>150.0</td><td>0.0</td><td>0.0</td><td>0.8</td><td>75.8</td></tr>\n",
    "<tr><th>18</th><td>150.0</td><td>150.0</td><td>0.0</td><td>0.0</td><td>0.8</td><td>25.0</td></tr>\n",
    "<tr><th>19</th><td>150.0</td><td>0.0</td><td>0.0</td><td>0.0</td><td>0.8</td><td>2.0</td></tr>\n",
    "<tr><th>20</th><td>0.0</td><td>0.0</td><td>0.0</td><td>0.0</td><td>0.8</td><td>0.8</td></tr>\n",
    "<tr><th>21</th><td>0.0</td><td>0.0</td><td>0.0</td><td>0.0</td><td>52.0</td><td>25.0</td></tr>\n",
    "<tr><th>22</th><td>0.0</td><td>0.0</td><td>0.0</td><td>0.0</td><td>25.0</td><td>27.0</td></tr>\n",
    "<tr><th>23</th><td>0.0</td><td>0.0</td><td>0.0</td><td>0.0</td><td>102.8</td><td>100.8</td><tr>\n",
    "</tbody>\n",
    "</table>\n"
   ]
  },
  {
   "cell_type": "markdown",
   "metadata": {},
   "source": [
    "#### 13.2.5 内部発熱・発湿（人体を除く）"
   ]
  },
  {
   "cell_type": "markdown",
   "metadata": {},
   "source": [
    "$$\\large\n",
    "q_{gen,d,t}=q_{gen,MR,d,t}+q_{gen,OR,d,t}+q_{gen,NR,d,t}\n",
    "$$"
   ]
  },
  {
   "cell_type": "markdown",
   "metadata": {},
   "source": [
    "$$\\large\n",
    "q_{gen,MR,d,t}=q_{gen,MR,R,d,t}\\frac{A_{MR}}{29.81}\n",
    "$$"
   ]
  },
  {
   "cell_type": "markdown",
   "metadata": {},
   "source": [
    "$$\\large\n",
    "q_{gen,OR,d,t}=q_{gen,OR,R,d,t}\\frac{A_{OR}}{51.34}\n",
    "$$"
   ]
  },
  {
   "cell_type": "markdown",
   "metadata": {},
   "source": [
    "$$\\large\n",
    "q_{gen,NR,d,t}=q_{gen,NR,R,d,t}\\frac{A_{NR}}{38.93}\n",
    "$$"
   ]
  },
  {
   "cell_type": "markdown",
   "metadata": {},
   "source": [
    "$A_{MR}$：主たる居室の床面積($m^2$)  \n",
    "$A_{NR}$：非居室の床面積($m^2$)  \n",
    "$A_{OR}$：その他の居室の床面積($m^2$)  \n",
    "$q_{gen,d,t}$：日付$d$の時刻$t$における内部発熱(W)  \n",
    "$q_{gen,MR,d,t}$：日付$d$の時刻$t$における主たる居室の内部発熱(W)  \n",
    "$q_{gen,MR,R,d,t}$：日付$d$の時刻$t$における標準住戸の主たる居室の内部発熱(W)  \n",
    "$q_{gen,OR,d,t}$：日付$d$の時刻$t$におけるその他の居室の内部発熱(W)  \n",
    "$q_{gen,OR,R,d,t}$：日付$d$の時刻$t$における標準住戸のその他の居室の内部発熱(W)  \n",
    "$q_{gen,NR,d,t}$：日付$d$の時刻$t$における非居室の内部発熱(W)  \n",
    "$q_{gen,NR,R,d,t}$：日付$d$の時刻$t$における標準住戸の非居室の内部発熱(W)  \n"
   ]
  },
  {
   "cell_type": "markdown",
   "metadata": {},
   "source": [
    "<div style=\"text-align: center;font-weight: bold;\">表　標準住戸における内部発熱</div>\n",
    "\n",
    "<table>\n",
    "<thead>\n",
    "<tr>\n",
    "<th rowspan=\"2\">時刻</th>\n",
    "<th colspan=\"2\">主たる居室<br>$q_{gen,MR,R,d,t}$<br>($m^3$/h)</th>\n",
    "<th colspan=\"2\">その他の居室<br>$q_{gen,OR,R,d,t}$<br>($m^3$/h)</th>\n",
    "<th colspan=\"2\">非居室<br>$q_{gen,NR,R,d,t}$<br>($m^3$/h)</th>\n",
    "</tr>\n",
    "<tr>\n",
    "<th>平日</th>\n",
    "<th>休日</th>\n",
    "<th>平日</th>\n",
    "<th>休日</th>\n",
    "<th>平日</th>\n",
    "<th>休日</th>\n",
    "</tr>\n",
    "</thead>\n",
    "<tbody>\n",
    "<tr><th>0</th><td>66.9</td><td>66.9</td><td>18.0</td><td>18.0</td><td>41.5</td><td>41.5</td></tr>\n",
    "<tr><th>1</th><td>66.9</td><td>66.9</td><td>18.0</td><td>18.0</td><td>41.5</td><td>41.5</td></tr>\n",
    "<tr><th>2</th><td>66.9</td><td>66.9</td><td>18.0</td><td>18.0</td><td>41.5</td><td>41.5</td></tr>\n",
    "<tr><th>3</th><td>66.9</td><td>66.9</td><td>18.0</td><td>18.0</td><td>41.5</td><td>41.5</td></tr>\n",
    "<tr><th>4</th><td>66.9</td><td>66.9</td><td>18.0</td><td>18.0</td><td>41.5</td><td>41.5</td></tr>\n",
    "<tr><th>5</th><td>66.9</td><td>66.9</td><td>18.0</td><td>18.0</td><td>41.5</td><td>41.5</td></tr>\n",
    "<tr><th>6</th><td>123.9</td><td>66.9</td><td>18.0</td><td>18.0</td><td>126.1</td><td>41.5</td></tr>\n",
    "<tr><th>7</th><td>383.6</td><td>66.9</td><td>18.0</td><td>18.0</td><td>249.9</td><td>281.3</td></tr>\n",
    "<tr><th>8</th><td>323.2</td><td>440.5</td><td>18.0</td><td>35.5</td><td>158.3</td><td>311.0</td></tr>\n",
    "<tr><th>9</th><td>307.3</td><td>443.3</td><td>398.2</td><td>654.3</td><td>191.3</td><td>269.5</td></tr>\n",
    "<tr><th>10</th><td>134.8</td><td>515.1</td><td>18.0</td><td>223.0</td><td>117.5</td><td>100.4</td></tr>\n",
    "<tr><th>11</th><td>66.9</td><td>488.9</td><td>18.0</td><td>223.0</td><td>41.5</td><td>106.7</td></tr>\n",
    "<tr><th>12</th><td>286.7</td><td>422.9</td><td>18.0</td><td>53.0</td><td>42.5</td><td>98.5</td></tr>\n",
    "<tr><th>13</th><td>271.2</td><td>174.4</td><td>18.0</td><td>18.0</td><td>89.0</td><td>55.8</td></tr>\n",
    "<tr><th>14</th><td>66.9</td><td>66.9</td><td>18.0</td><td>18.0</td><td>41.5</td><td>41.5</td></tr>\n",
    "<tr><th>15</th><td>66.9</td><td>66.9</td><td>18.0</td><td>18.0</td><td>41.5</td><td>41.5</td></tr>\n",
    "<tr><th>16</th><td>236.9</td><td>237.8</td><td>18.0</td><td>93.0</td><td>105.8</td><td>158.4</td></tr>\n",
    "<tr><th>17</th><td>288.6</td><td>407.8</td><td>18.0</td><td>93.0</td><td>105.8</td><td>171.3</td></tr>\n",
    "<tr><th>18</th><td>407.8</td><td>383.1</td><td>53.0</td><td>55.5</td><td>112.1</td><td>82.7</td></tr>\n",
    "<tr><th>19</th><td>383.1</td><td>326.8</td><td>53.0</td><td>18.0</td><td>118.5</td><td>101.4</td></tr>\n",
    "<tr><th>20</th><td>423.1</td><td>339.1</td><td>115.5</td><td>270.0</td><td>155.7</td><td>99.5</td></tr>\n",
    "<tr><th>21</th><td>339.1</td><td>339.1</td><td>103.0</td><td>168.8</td><td>416.1</td><td>255.1</td></tr>\n",
    "<tr><th>22</th><td>312.9</td><td>312.9</td><td>258.3</td><td>270.0</td><td>314.8</td><td>232.1</td></tr>\n",
    "<tr><th>23</th><td>278.0</td><td>66.9</td><td>137.3</td><td>18.0</td><td>174.9</td><td>157.8</td></tr>\n",
    "</tbody>\n",
    "</table>\n"
   ]
  },
  {
   "cell_type": "markdown",
   "metadata": {},
   "source": [
    "$$\\large\n",
    "w_{gen,d,t}=w_{gen,MR,d,t}+w_{gen,OR,d,t}+w_{gen,NR,d,t}\n",
    "$$"
   ]
  },
  {
   "cell_type": "markdown",
   "metadata": {},
   "source": [
    "$$\\large\n",
    "w_{gen,MR,d,t}=w_{gen,MR,R,d,t}\\frac{A_{MR}}{29.81}\n",
    "$$"
   ]
  },
  {
   "cell_type": "markdown",
   "metadata": {},
   "source": [
    "$$\\large\n",
    "w_{gen,OR,d,t}=w_{gen,OR,R,d,t}\\frac{A_{OR}}{51.34}\n",
    "$$"
   ]
  },
  {
   "cell_type": "markdown",
   "metadata": {},
   "source": [
    "$$\\large\n",
    "w_{gen,NR,d,t}=w_{gen,NR,R,d,t}\\frac{A_{NR}}{38.93}\n",
    "$$"
   ]
  },
  {
   "cell_type": "markdown",
   "metadata": {},
   "source": [
    "$A_{MR}$：主たる居室の床面積($m^2$)  \n",
    "$A_{NR}$：非居室の床面積($m^2$)  \n",
    "$A_{OR}$：その他の居室の床面積($m^2$)  \n",
    "$w_{gen,d,t}$：日付$d$の時刻$t$における内部発湿(g/h)  \n",
    "$w_{gen,MR,d,t}$：日付$d$の時刻$t$における主たる居室の内部発湿(g/h)  \n",
    "$w_{gen,MR,R,d,t}$：日付$d$の時刻$t$における標準住戸の主たる居室の内部発湿(g/h)  \n",
    "$w_{gen,OR,d,t}$：日付$d$の時刻$t$におけるその他の居室の内部発湿(g/h)  \n",
    "$w_{gen,OR,R,d,t}$：日付$d$の時刻$t$における標準住戸のその他の居室の内部発湿(g/h)  \n",
    "$w_{gen,NR,d,t}$：日付$d$の時刻$t$における非居室の内部発湿(g/h)  \n",
    "$w_{gen,NR,R,d,t}$：日付$d$の時刻$t$における標準住戸の非居室の内部発湿(g/h)  \n"
   ]
  },
  {
   "cell_type": "markdown",
   "metadata": {},
   "source": [
    "<div style=\"text-align: center;font-weight: bold;\">表　標準住戸における内部発湿</div>\n",
    "\n",
    "<table>\n",
    "<thead>\n",
    "<tr>\n",
    "<th rowspan=\"2\">時刻</th>\n",
    "<th colspan=\"2\">主たる居室<br>$w_{gen,MR,R,d,t}$<br>(g/h)</th>\n",
    "<th colspan=\"2\">その他の居室<br>$w_{gen,OR,R,d,t}$<br>(g/h)</th>\n",
    "<th colspan=\"2\">非居室<br>$w_{gen,NR,R,d,t}$<br>(g/h)</th>\n",
    "</tr>\n",
    "<tr>\n",
    "<th>平日</th>\n",
    "<th>休日</th>\n",
    "<th>平日</th>\n",
    "<th>休日</th>\n",
    "<th>平日</th>\n",
    "<th>休日</th>\n",
    "</tr>\n",
    "</thead>\n",
    "<tbody>\n",
    "<tr><th>0</th><td>0.0</td><td>0.0</td><td>0.0</td><td>0.0</td><td>0.0</td><td>0.0</td></tr>\n",
    "<tr><th>1</th><td>0.0</td><td>0.0</td><td>0.0</td><td>0.0</td><td>0.0</td><td>0.0</td></tr>\n",
    "<tr><th>2</th><td>0.0</td><td>0.0</td><td>0.0</td><td>0.0</td><td>0.0</td><td>0.0</td></tr>\n",
    "<tr><th>3</th><td>0.0</td><td>0.0</td><td>0.0</td><td>0.0</td><td>0.0</td><td>0.0</td></tr>\n",
    "<tr><th>4</th><td>0.0</td><td>0.0</td><td>0.0</td><td>0.0</td><td>0.0</td><td>0.0</td></tr>\n",
    "<tr><th>5</th><td>0.0</td><td>0.0</td><td>0.0</td><td>0.0</td><td>0.0</td><td>0.0</td></tr>\n",
    "<tr><th>6</th><td>25.0</td><td>0.0</td><td>0.0</td><td>0.0</td><td>0.0</td><td>0.0</td></tr>\n",
    "<tr><th>7</th><td>0.0</td><td>0.0</td><td>0.0</td><td>0.0</td><td>0.0</td><td>0.0</td></tr>\n",
    "<tr><th>8</th><td>0.0</td><td>25.0</td><td>0.0</td><td>0.0</td><td>0.0</td><td>0.0</td></tr>\n",
    "<tr><th>9</th><td>0.0</td><td>0.0</td><td>0.0</td><td>0.0</td><td>0.0</td><td>0.0</td></tr>\n",
    "<tr><th>10</th><td>0.0</td><td>0.0</td><td>0.0</td><td>0.0</td><td>0.0</td><td>0.0</td></tr>\n",
    "<tr><th>11</th><td>0.0</td><td>0.0</td><td>0.0</td><td>0.0</td><td>0.0</td><td>0.0</td></tr>\n",
    "<tr><th>12</th><td>0.0</td><td>0.0</td><td>0.0</td><td>0.0</td><td>0.0</td><td>0.0</td></tr>\n",
    "<tr><th>13</th><td>0.0</td><td>0.0</td><td>0.0</td><td>0.0</td><td>0.0</td><td>0.0</td></tr>\n",
    "<tr><th>14</th><td>0.0</td><td>0.0</td><td>0.0</td><td>0.0</td><td>0.0</td><td>0.0</td></tr>\n",
    "<tr><th>15</th><td>0.0</td><td>0.0</td><td>0.0</td><td>0.0</td><td>0.0</td><td>0.0</td></tr>\n",
    "<tr><th>16</th><td>0.0</td><td>0.0</td><td>0.0</td><td>0.0</td><td>0.0</td><td>0.0</td></tr>\n",
    "<tr><th>17</th><td>0.0</td><td>50.0</td><td>0.0</td><td>0.0</td><td>0.0</td><td>0.0</td></tr>\n",
    "<tr><th>18</th><td>50.0</td><td>0.0</td><td>0.0</td><td>0.0</td><td>0.0</td><td>0.0</td></tr>\n",
    "<tr><th>19</th><td>0.0</td><td>0.0</td><td>0.0</td><td>0.0</td><td>0.0</td><td>0.0</td></tr>\n",
    "<tr><th>20</th><td>0.0</td><td>0.0</td><td>0.0</td><td>0.0</td><td>0.0</td><td>0.0</td></tr>\n",
    "<tr><th>21</th><td>0.0</td><td>0.0</td><td>0.0</td><td>0.0</td><td>0.0</td><td>0.0</td></tr>\n",
    "<tr><th>22</th><td>0.0</td><td>0.0</td><td>0.0</td><td>0.0</td><td>0.0</td><td>0.0</td></tr>\n",
    "<tr><th>23</th><td>0.0</td><td>0.0</td><td>0.0</td><td>0.0</td><td>0.0</td><td>0.0</td></tr>\n",
    "</tbody>\n",
    "</table>\n"
   ]
  },
  {
   "cell_type": "markdown",
   "metadata": {},
   "source": [
    "#### 13.2.6 人体発熱および在室人数"
   ]
  },
  {
   "cell_type": "markdown",
   "metadata": {},
   "source": [
    "暖房期における人体からの 1 人当たりの顕熱発熱量$q_{p,H}$は、79.0 W/人とする。冷房期における人体からの1 人当たりの顕熱発熱量$q_{p,CS}$は、51.0 W/人とする。冷房期における人体からの 1 人当たりの潜熱発熱量$q_{p,CL}$は、40.0 W/人とする。"
   ]
  },
  {
   "cell_type": "markdown",
   "metadata": {},
   "source": [
    "$$\\large\n",
    "n_{p,d,t}=n_{p,MR,d,t}+n_{p,OR,d,t}+n_{p,NR,d,t}\n",
    "$$"
   ]
  },
  {
   "cell_type": "markdown",
   "metadata": {},
   "source": [
    "$$\\large\n",
    "n_{p,MR,d,t}=n_{p,MR,R,d,t}\\frac{A_{MR}}{29.81}\n",
    "$$"
   ]
  },
  {
   "cell_type": "markdown",
   "metadata": {},
   "source": [
    "$$\\large\n",
    "n_{p,OR,d,t}=n_{p,OR,R,d,t}\\frac{A_{OR}}{51.34}\n",
    "$$"
   ]
  },
  {
   "cell_type": "markdown",
   "metadata": {},
   "source": [
    "$$\\large\n",
    "n_{p,NR,d,t}=n_{p,NR,R,d,t}\\frac{A_{NR}}{38.93}\n",
    "$$"
   ]
  },
  {
   "cell_type": "markdown",
   "metadata": {},
   "source": [
    "$A_{MR}$：主たる居室の床面積($m^2$)  \n",
    "$A_{NR}$：非居室の床面積($m^2$)  \n",
    "$A_{OR}$：その他の居室の床面積($m^2$)  \n",
    "$n_{p,d,t}$：日付$d$の時刻$t$における在室人数(人)  \n",
    "$n_{p,MR,d,t}$：日付$d$の時刻$t$における主たる居室の在室人数(人)  \n",
    "$n_{p,MR,R,d,t}$：日付$d$の時刻$t$における標準住戸の主たる居室の在室人数(人)  \n",
    "$n_{p,OR,d,t}$：日付$d$の時刻$t$におけるその他の居室の在室人数(人)  \n",
    "$n_{p,OR,R,d,t}$：日付$d$の時刻$t$における標準住戸のその他の居室の在室人数(人)  \n",
    "$n_{p,NR,d,t}$：日付$d$の時刻$t$における非居室の在室人数(人)  \n",
    "$n_{p,NR,R,d,t}$：日付$d$の時刻$t$における標準住戸の非居室の在室人数(人)  \n"
   ]
  },
  {
   "cell_type": "markdown",
   "metadata": {},
   "source": [
    "<div style=\"text-align: center;font-weight: bold;\">表　標準住戸における在室人数</div>\n",
    "\n",
    "<table>\n",
    "<thead>\n",
    "<tr>\n",
    "<th rowspan=\"2\">時刻</th>\n",
    "<th colspan=\"2\">主たる居室<br>$n_{p,MR,R,d,t}$<br>(人)</th>\n",
    "<th colspan=\"2\">その他の居室<br>$n_{p,OR,R,d,t}$<br>(人)</th>\n",
    "<th colspan=\"2\">非居室<br>$n_{p,NR,R,d,t}$<br>(人)</th>\n",
    "</tr>\n",
    "<tr>\n",
    "<th>平日</th>\n",
    "<th>休日</th>\n",
    "<th>平日</th>\n",
    "<th>休日</th>\n",
    "<th>平日</th>\n",
    "<th>休日</th>\n",
    "</tr>\n",
    "</thead>\n",
    "<tbody>\n",
    "<tr><th>0</th><td>0</td><td>0</td><td>4</td><td>4</td><td>0</td><td>0</td></tr>\n",
    "<tr><th>1</th><td>0</td><td>0</td><td>4</td><td>4</td><td>0</td><td>0</td></tr>\n",
    "<tr><th>2</th><td>0</td><td>0</td><td>4</td><td>4</td><td>0</td><td>0</td></tr>\n",
    "<tr><th>3</th><td>0</td><td>0</td><td>4</td><td>4</td><td>0</td><td>0</td></tr>\n",
    "<tr><th>4</th><td>0</td><td>0</td><td>4</td><td>4</td><td>0</td><td>0</td></tr>\n",
    "<tr><th>5</th><td>0</td><td>0</td><td>4</td><td>4</td><td>0</td><td>0</td></tr>\n",
    "<tr><th>6</th><td>1</td><td>0</td><td>3</td><td>4</td><td>0</td><td>0</td></tr>\n",
    "<tr><th>7</th><td>2</td><td>0</td><td>0</td><td>3</td><td>0</td><td>0</td></tr>\n",
    "<tr><th>8</th><td>1</td><td>3</td><td>0</td><td>1</td><td>0</td><td>0</td></tr>\n",
    "<tr><th>9</th><td>1</td><td>2</td><td>0</td><td>2</td><td>0</td><td>0</td></tr>\n",
    "<tr><th>10</th><td>0</td><td>2</td><td>0</td><td>2</td><td>0</td><td>0</td></tr>\n",
    "<tr><th>11</th><td>0</td><td>2</td><td>0</td><td>2</td><td>0</td><td>0</td></tr>\n",
    "<tr><th>12</th><td>1</td><td>2</td><td>0</td><td>1</td><td>0</td><td>0</td></tr>\n",
    "<tr><th>13</th><td>1</td><td>1</td><td>0</td><td>0</td><td>0</td><td>0</td></tr>\n",
    "<tr><th>14</th><td>0</td><td>0</td><td>0</td><td>0</td><td>0</td><td>0</td></tr>\n",
    "<tr><th>15</th><td>0</td><td>0</td><td>0</td><td>0</td><td>0</td><td>0</td></tr>\n",
    "<tr><th>16</th><td>1</td><td>2</td><td>0</td><td>1</td><td>0</td><td>0</td></tr>\n",
    "<tr><th>17</th><td>2</td><td>3</td><td>0</td><td>1</td><td>0</td><td>0</td></tr>\n",
    "<tr><th>18</th><td>2</td><td>3</td><td>1</td><td>1</td><td>0</td><td>0</td></tr>\n",
    "<tr><th>19</th><td>3</td><td>4</td><td>0</td><td>0</td><td>0</td><td>0</td></tr>\n",
    "<tr><th>20</th><td>3</td><td>2</td><td>1</td><td>2</td><td>0</td><td>0</td></tr>\n",
    "<tr><th>21</th><td>2</td><td>2</td><td>1</td><td>2</td><td>0</td><td>0</td></tr>\n",
    "<tr><th>22</th><td>1</td><td>1</td><td>2</td><td>2</td><td>0</td><td>0</td></tr>\n",
    "<tr><th>23</th><td>1</td><td>0</td><td>3</td><td>3</td><td>0</td><td>0</td></tr>\n",
    "</tbody>\n",
    "</table>\n"
   ]
  },
  {
   "cell_type": "markdown",
   "metadata": {},
   "source": [
    "#### 13.3 使い方"
   ]
  },
  {
   "cell_type": "markdown",
   "metadata": {},
   "source": [
    "#### 13.3.1 暖冷房期間"
   ]
  },
  {
   "cell_type": "markdown",
   "metadata": {},
   "source": [
    "<div style=\"text-align: center;font-weight: bold;\">表　暖冷房期間</div>\n",
    "\n",
    "<table>\n",
    "<thead>\n",
    "<tr>\n",
    "<th>地域の区分 </th>\n",
    "<th>暖房期</th>\n",
    "<th>冷房期</th>\n",
    "</tr>\n",
    "</thead>\n",
    "<tbody>\n",
    "<tr><th>1</th><td>9月24日～6月7日</td><td>7月10日～8月31日</td></tr>\n",
    "<tr><th>2</th><td>9月26日～6月4日</td><td>7月15日～8月31日</td></tr>\n",
    "<tr><th>3</th><td>9月30日～5月31日</td><td>7月10日～8月31日</td></tr>\n",
    "<tr><th>4</th><td>10月1日～5月30日</td><td>7月10日～8月31日</td></tr>\n",
    "<tr><th>5</th><td>10月10日～5月15日</td><td>7月6日～8月31日</td></tr>\n",
    "<tr><th>6</th><td>11月4日～4月21日</td><td>5月30日～9月23日</td></tr>\n",
    "<tr><th>7</th><td>11月26日～3月27日</td><td>5月15日～10月13日</td></tr>\n",
    "<tr><th>8</th><td>なし</td><td>3月25日～12月14日</td></tr>\n",
    "</tbody>\n",
    "</table>\n"
   ]
  },
  {
   "cell_type": "markdown",
   "metadata": {},
   "source": [
    "#### 13.3.2 設定温度・設定絶対湿度"
   ]
  },
  {
   "cell_type": "markdown",
   "metadata": {},
   "source": [
    "暖房時の設定温度$\\theta_{set,H}$は、20 ℃とする。冷房時の設定温度$\\theta_{set,C}$は、27 ℃とする。冷房時の設定絶対湿度は、空気温度 27℃、60%の時の絶対湿度とし、0.013425743 kg/kg(DA)とする。"
   ]
  },
  {
   "cell_type": "markdown",
   "metadata": {},
   "source": [
    "#### 13.4 暖房負荷・冷房負荷"
   ]
  },
  {
   "cell_type": "markdown",
   "metadata": {},
   "source": [
    "省略"
   ]
  },
  {
   "cell_type": "markdown",
   "metadata": {},
   "source": [
    "#### 13.5 空気および水の物性値"
   ]
  },
  {
   "cell_type": "markdown",
   "metadata": {},
   "source": [
    "空気の比熱$c_{p_{air}}$は、1006.0 J/(kg・K)とする。空気の密度$\\rho_{air}$は、1.2 kg/$m^3$ とする。"
   ]
  },
  {
   "cell_type": "markdown",
   "metadata": {},
   "source": [
    "$$\\large\n",
    "L_{wtr}=2500.8 −2.3668\\times \\theta\n",
    "$$"
   ]
  },
  {
   "cell_type": "markdown",
   "metadata": {},
   "source": [
    "$L_{wtr}$：水の蒸発潜熱(kJ/kg)  \n",
    "$\\theta$：温度(℃)  \n"
   ]
  },
  {
   "cell_type": "markdown",
   "metadata": {},
   "source": [
    "温度$\\theta$は、冷房時を仮定し、27℃とする。"
   ]
  },
  {
   "cell_type": "markdown",
   "metadata": {},
   "source": [
    "## 付録 A ダクト式セントラル空調機のエネルギー消費量"
   ]
  },
  {
   "cell_type": "markdown",
   "metadata": {},
   "source": [
    "### A.1 記号及び単位"
   ]
  },
  {
   "cell_type": "markdown",
   "metadata": {},
   "source": [
    "省略"
   ]
  },
  {
   "cell_type": "markdown",
   "metadata": {},
   "source": [
    "### A.2 消費電力量"
   ]
  },
  {
   "cell_type": "markdown",
   "metadata": {},
   "source": [
    "$$\\large\n",
    "E_{E,H,d,t}=E_{E,comp,H,d,t}+E_{E,fan,H,d,t}\n",
    "$$"
   ]
  },
  {
   "cell_type": "markdown",
   "metadata": {},
   "source": [
    "$$\\large\n",
    "E_{E,C,d,t}=E_{E,comp,C,d,t}+E_{E,fan,C,d,t}\n",
    "$$"
   ]
  },
  {
   "cell_type": "markdown",
   "metadata": {},
   "source": [
    "$E_{E,C,d,t}$：日付$d$の時刻$t$における 1 時間当たりの冷房時の消費電力量(kWh/h)  \n",
    "$E_{E,H,d,t}$：日付$d$の時刻$t$における 1 時間当たりの暖房時の消費電力量(kWh/h)  \n",
    "$E_{E,comp,H,d,t}$：日付$d$の時刻$t$における 1 時間当たりの冷房時の圧縮機の消費電力量(kWh/h)  \n",
    "$E_{E,comp,H,d,t}$：日付$d$の時刻$t$における 1 時間当たりの暖房時の圧縮機の消費電力量(kWh/h)  \n",
    "$E_{E,fan,H,d,t}$：日付$d$の時刻$t$における 1 時間当たりの送風機の消費電力量のうちの冷房設備への付加分(kWh/h)  \n",
    "$E_{E,fan,H,d,t}$：日付$d$の時刻$t$における 1 時間当たりのの送風機の消費電力量のうちの暖房設備への付加分(kWh/h)  \n"
   ]
  },
  {
   "cell_type": "markdown",
   "metadata": {},
   "source": [
    "### A.3 熱源機の平均暖房能力・平均冷房能力"
   ]
  },
  {
   "cell_type": "markdown",
   "metadata": {},
   "source": [
    "暖房期："
   ]
  },
  {
   "cell_type": "markdown",
   "metadata": {},
   "source": [
    "$$\\large\n",
    "q_{hs,H,d,t}=max\\left( c_{p_{air}}\\rho_{air}(\\theta_{hs,out,d,t}-\\theta_{hs,in,d,t}) \\frac{V_{hs,supply,d,t}}{3600} \\times \\frac{1}{C_{df,H,d,t}}, 0 \\right)\n",
    "$$"
   ]
  },
  {
   "cell_type": "markdown",
   "metadata": {},
   "source": [
    "$$\\large\n",
    "q_{hs,C,d,t}=0\n",
    "$$"
   ]
  },
  {
   "cell_type": "markdown",
   "metadata": {},
   "source": [
    "$$\\large\n",
    "q_{hs,CS,d,t}=0\n",
    "$$"
   ]
  },
  {
   "cell_type": "markdown",
   "metadata": {},
   "source": [
    "$$\\large\n",
    "q_{hs,CL,d,t}=0\n",
    "$$"
   ]
  },
  {
   "cell_type": "markdown",
   "metadata": {},
   "source": [
    "冷房期："
   ]
  },
  {
   "cell_type": "markdown",
   "metadata": {},
   "source": [
    "$$\\large\n",
    "q_{hs,H,d,t}=0\n",
    "$$"
   ]
  },
  {
   "cell_type": "markdown",
   "metadata": {},
   "source": [
    "$$\\large\n",
    "q_{hs,C,d,t}=q_{hs,CS,d,t}+q_{hs,CL,d,t}\n",
    "$$"
   ]
  },
  {
   "cell_type": "markdown",
   "metadata": {},
   "source": [
    "$$\\large\n",
    "q_{hs,CS,d,t}=max\\left( c_{p_{air}}\\rho_{air}(\\theta_{hs,in,d,t}-\\theta_{hs,out,d,t}) \\frac{V_{hs,supply,d,t}}{3600}, 0 \\right)\n",
    "$$"
   ]
  },
  {
   "cell_type": "markdown",
   "metadata": {},
   "source": [
    "$$\\large\n",
    "q_{hs,CL,d,t}=\\left\\{ \\begin{array}{ll}\n",
    "    max\\left( L_{wtr}\\rho_{air}(X_{hs,in,d,t}-X_{hs,out,d,t}) \\frac{V_{hs,supply,d,t}}{3600} \\times 10^3, 0 \\right) &(q_{hs,CS,d,t} > 0)\\\\ \n",
    "    0 &(q_{hs,CS,d,t} \\leq 0)\\\\ \n",
    "    \\end{array}\n",
    "\\right.\n",
    "$$"
   ]
  },
  {
   "cell_type": "markdown",
   "metadata": {},
   "source": [
    "中間期："
   ]
  },
  {
   "cell_type": "markdown",
   "metadata": {},
   "source": [
    "$$\\large\n",
    "q_{hs,H,d,t}=0\n",
    "$$"
   ]
  },
  {
   "cell_type": "markdown",
   "metadata": {},
   "source": [
    "$$\\large\n",
    "q_{hs,C,d,t}=0\n",
    "$$"
   ]
  },
  {
   "cell_type": "markdown",
   "metadata": {},
   "source": [
    "$$\\large\n",
    "q_{hs,CS,d,t}=0\n",
    "$$"
   ]
  },
  {
   "cell_type": "markdown",
   "metadata": {},
   "source": [
    "$$\\large\n",
    "q_{hs,CL,d,t}=0\n",
    "$$"
   ]
  },
  {
   "cell_type": "markdown",
   "metadata": {},
   "source": [
    "$C_{df,H,d,t}$：日付$d$の時刻$t$におけるデフロストに関する暖房出力補正係数(-)  \n",
    "$q_{hs,C,d,t}$：日付$d$の時刻$t$における1 時間当たりの熱源機の平均冷房能力(W)  \n",
    "$q_{hs,CL,d,t}$：日付$d$の時刻$t$における1 時間当たりの熱源機の平均冷房潜熱能力(W)  \n",
    "$q_{hs,CS,d,t}$：日付$d$の時刻$t$における1 時間当たりの熱源機の平均冷房顕熱能力(W)  \n",
    "$q_{hs,H,d,t}$：日付$d$の時刻$t$における1 時間当たりの熱源機の平均暖房能力(W)  \n",
    "$V_{hs,supply,d,t}$：日付$d$の時刻$t$における熱源機の風量($m^3$/h)  \n",
    "$X_{hs,in,d,t}$：日付$d$の時刻$t$における熱源機の入口における絶対湿度(kg/kg(DA))  \n",
    "$X_{hs,out,d,t}$：日付$d$の時刻$t$における熱源機の出口における絶対湿度(kg/kg(DA))  \n",
    "$\\theta_{hs,in,d,t}$：日付$d$の時刻$t$における熱源機の入口における空気温度(℃)  \n",
    "$\\theta_{hs,out,d,t}$：日付$d$の時刻$t$における熱源機の出口における空気温度(℃)  \n",
    "$c_{p_{air}}$：空気の比熱(J/(kg・K))  \n",
    "$L_{wtr}$：水の蒸発潜熱(kJ/kg)  \n",
    "$\\rho_{air}$：空気の密度(kg/$m^3$)  \n"
   ]
  },
  {
   "cell_type": "markdown",
   "metadata": {},
   "source": [
    "### A.4 圧縮機"
   ]
  },
  {
   "cell_type": "markdown",
   "metadata": {},
   "source": [
    "#### A.4.1 消費電力量"
   ]
  },
  {
   "cell_type": "markdown",
   "metadata": {},
   "source": [
    "$$\\large\n",
    "E_{E,comp,H,d,t}=\\left\\{ \\begin{array}{ll}\n",
    "    \\frac{q_{hs,H,d,t}}{e_{hs,H,d,t}} \\times 10^{-3} &(q_{hs,H,d,t} > 0)\\\\ \n",
    "    0 &(q_{hs,H,d,t} \\leq 0)\\\\ \n",
    "    \\end{array}\n",
    "\\right.\n",
    "$$"
   ]
  },
  {
   "cell_type": "markdown",
   "metadata": {},
   "source": [
    "$$\\large\n",
    "E_{E,comp,C,d,t}=\\left\\{ \\begin{array}{ll}\n",
    "    \\frac{q_{hs,C,d,t}}{e_{hs,C,d,t}} \\times 10^{-3} &(q_{hs,C,d,t} > 0)\\\\ \n",
    "    0 &(q_{hs,C,d,t} \\leq 0)\\\\ \n",
    "    \\end{array}\n",
    "\\right.\n",
    "$$"
   ]
  },
  {
   "cell_type": "markdown",
   "metadata": {},
   "source": [
    "$E_{E,comp,C,d,t}$：日付$d$の時刻$t$における 1 時間当たりの冷房時の圧縮機の消費電力量(kWh/h)  \n",
    "$E_{E,comp,H,d,t}$：日付$d$の時刻$t$における 1 時間当たりの暖房時の圧縮機の消費電力量(kWh/h)  \n",
    "$e_{hs,C,d,t}$：日付$d$の時刻$t$における冷房時の熱源機の効率(-)  \n",
    "$e_{hs,H,d,t}$：日付$d$の時刻$t$における暖房時の熱源機の効率(-)  \n",
    "$q_{hs,C,d,t}$：日付$d$の時刻$t$における1 時間当たりの熱源機の平均冷房能力(W)  \n",
    "$q_{hs,H,d,t}$：日付$d$の時刻$t$における1 時間当たりの熱源機の平均暖房能力(W)  \n"
   ]
  },
  {
   "cell_type": "markdown",
   "metadata": {},
   "source": [
    "$$\\large\n",
    "e_{hs,H,d,t}=e_{th,H,d,t}\\times e_{r,H,d,t}\n",
    "$$"
   ]
  },
  {
   "cell_type": "markdown",
   "metadata": {},
   "source": [
    "$$\\large\n",
    "e_{hs,C,d,t}=e_{th,C,d,t}\\times e_{r,C,d,t}\n",
    "$$"
   ]
  },
  {
   "cell_type": "markdown",
   "metadata": {},
   "source": [
    "$e_{hs,C,d,t}$：日付$d$の時刻$t$における冷房時の熱源機の効率(-)  \n",
    "$e_{hs,H,d,t}$：日付$d$の時刻$t$における暖房時の熱源機の効率(-)  \n",
    "$e_{r,C,d,t}$：日付$d$の時刻$t$における冷房時のヒートポンプサイクルの理論効率に対する熱源機の効率の比(-)  \n",
    "$e_{r,H,d,t}$：日付$d$の時刻$t$における暖房時のヒートポンプサイクルの理論効率に対する熱源機の効率の比(-)  \n",
    "$e_{th,C,d,t}$：日付$d$の時刻$t$における冷房時のヒートポンプサイクルの理論効率(-)  \n",
    "$e_{th,H,d,t}$：日付$d$の時刻$t$における暖房時のヒートポンプサイクルの理論効率(-)  \n"
   ]
  },
  {
   "cell_type": "markdown",
   "metadata": {},
   "source": [
    "#### A.4.2 ヒートポンプサイクルの理論効率に対する熱源機の効率の比"
   ]
  },
  {
   "cell_type": "markdown",
   "metadata": {},
   "source": [
    "#### A.4.2.1 エネルギー消費量の算定におけるヒートポンプサイクルの理論効率に対する熱源機の効率の比"
   ]
  },
  {
   "cell_type": "markdown",
   "metadata": {},
   "source": [
    "暖房時："
   ]
  },
  {
   "cell_type": "markdown",
   "metadata": {},
   "source": [
    "$q_{hs,H,d,t} \\leq q_{hs,min,H}$の場合："
   ]
  },
  {
   "cell_type": "markdown",
   "metadata": {},
   "source": [
    "$$\\large\n",
    "e_{r,H,d,t}=e_{r,min,H} - (q_{hs,min,H}-q_{hs,H,d,t}) \\times \\frac{e_{r,min,H}}{q_{hs,min,H}}\n",
    "$$"
   ]
  },
  {
   "cell_type": "markdown",
   "metadata": {},
   "source": [
    "$q_{hs,min,H} < q_{hs,H,d,t} \\leq q_{hs,mid,H}$の場合："
   ]
  },
  {
   "cell_type": "markdown",
   "metadata": {},
   "source": [
    "$$\\large\n",
    "e_{r,H,d,t}=e_{r,mid,H} - (q_{hs,mid,H}-q_{hs,H,d,t}) \\times \\frac{e_{r,mid,H}-e_{r,min,H}}{q_{hs,mid,H}-q_{hs,min,H}}\n",
    "$$"
   ]
  },
  {
   "cell_type": "markdown",
   "metadata": {},
   "source": [
    "$q_{hs,mid,H} < q_{hs,H,d,t} \\leq q_{hs,rtd,H}$の場合："
   ]
  },
  {
   "cell_type": "markdown",
   "metadata": {},
   "source": [
    "$$\\large\n",
    "e_{r,H,d,t}=e_{r,rtd,H} - (q_{hs,rtd,H}-q_{hs,H,d,t}) \\times \\frac{e_{r,rtd,H}-e_{r,mid,H}}{q_{hs,rtd,H}-q_{hs,mid,H}}\n",
    "$$"
   ]
  },
  {
   "cell_type": "markdown",
   "metadata": {},
   "source": [
    "$q_{hs,rtd,H} < q_{hs,H,d,t}$の場合："
   ]
  },
  {
   "cell_type": "markdown",
   "metadata": {},
   "source": [
    "$$\\large\n",
    "e_{r,H,d,t}=\\left\\{ \\begin{array}{ll}\n",
    "    max\\left(e_{r,rtd,H}-(q_{hs,H,d,t}-q_{hs,rtd,H})\\times \\frac{e_{r,rtd,H}}{q_{hs,rtd,H}},0.4\\right) &(e_{r,rtd,H} > 0.4)\\\\ \n",
    "    e_{r,rtd,H} &(e_{r,rtd,H} \\leq 0.4)\\\\ \n",
    "    \\end{array}\n",
    "\\right.\n",
    "$$"
   ]
  },
  {
   "cell_type": "markdown",
   "metadata": {},
   "source": [
    "冷房時："
   ]
  },
  {
   "cell_type": "markdown",
   "metadata": {},
   "source": [
    "$q_{hs,C,d,t} \\leq q_{hs,min,C}$の場合："
   ]
  },
  {
   "cell_type": "markdown",
   "metadata": {},
   "source": [
    "$$\\large\n",
    "e_{r,C,d,t}=e_{r,min,C} - (q_{hs,min,C}-q_{hs,C,d,t}) \\times \\frac{e_{r,min,C}}{q_{hs,min,C}}\n",
    "$$"
   ]
  },
  {
   "cell_type": "markdown",
   "metadata": {},
   "source": [
    "$q_{hs,min,C} < q_{hs,C,d,t} \\leq q_{hs,mid,C}$の場合："
   ]
  },
  {
   "cell_type": "markdown",
   "metadata": {},
   "source": [
    "$$\\large\n",
    "e_{r,C,d,t}=e_{r,mid,C} - (q_{hs,mid,C}-q_{hs,C,d,t}) \\times \\frac{e_{r,mid,C}-e_{r,min,C}}{q_{hs,mid,C}-q_{hs,min,C}}\n",
    "$$"
   ]
  },
  {
   "cell_type": "markdown",
   "metadata": {},
   "source": [
    "$q_{hs,mid,C} < q_{hs,C,d,t} \\leq q_{hs,rtd,C}$の場合："
   ]
  },
  {
   "cell_type": "markdown",
   "metadata": {},
   "source": [
    "$$\\large\n",
    "e_{r,C,d,t}=e_{r,rtd,C} - (q_{hs,rtd,C}-q_{hs,C,d,t}) \\times \\frac{e_{r,rtd,C}-e_{r,mid,C}}{q_{hs,rtd,C}-q_{hs,mid,C}}\n",
    "$$"
   ]
  },
  {
   "cell_type": "markdown",
   "metadata": {},
   "source": [
    "$q_{hs,rtd,C} < q_{hs,C,d,t}$の場合："
   ]
  },
  {
   "cell_type": "markdown",
   "metadata": {},
   "source": [
    "$$\\large\n",
    "e_{r,C,d,t}=\\left\\{ \\begin{array}{ll}\n",
    "    max\\left(e_{r,rtd,C}-(q_{hs,C,d,t}-q_{hs,rtd,C})\\times \\frac{e_{r,rtd,C}}{q_{hs,rtd,C}},0.4\\right) &(e_{r,rtd,C} > 0.4)\\\\ \n",
    "    e_{r,rtd,C} &(e_{r,rtd,C} \\leq 0.4)\\\\ \n",
    "    \\end{array}\n",
    "\\right.\n",
    "$$"
   ]
  },
  {
   "cell_type": "markdown",
   "metadata": {},
   "source": [
    "$q_{hs,C,d,t}$：日付$d$の時刻$t$における 1 時間当たりの熱源機の平均冷房能力(W)  \n",
    "$q_{hs,mid,C}$：熱源機の中間冷房能力(W)  \n",
    "$q_{hs,min,C}$：熱源機の最小冷房能力(W)  \n",
    "$q_{hs,rtd,C}$：熱源機の定格冷房能力(W)  \n",
    "$q_{hs,H,d,t}$：日付$d$の時刻$t$における 1 時間当たりの熱源機の平均暖房能力(W)  \n",
    "$q_{hs,mid,H}$：熱源機の中間暖房能力(W)  \n",
    "$q_{hs,min,H}$：熱源機の最小暖房能力(W)  \n",
    "$q_{hs,rtd,H}$：熱源機の定格暖房能力(W)  \n",
    "$e_{r,C,d,t}$：日付$d$の時刻$t$における冷房時のヒートポンプサイクルの理論効率に対する熱源機の効率の比(-)  \n",
    "$e_{r,mid,C}$：中間冷房能力運転時のヒートポンプサイクルの理論効率に対する熱源機の効率の比(-)  \n",
    "$e_{r,min,C}$：最小冷房能力運転時のヒートポンプサイクルの理論効率に対する熱源機の効率の比(-)  \n",
    "$e_{r,rtd,C}$：定格冷房能力運転時のヒートポンプサイクルの理論効率に対する熱源機の効率の比(-)  \n",
    "$e_{r,H,d,t}$：日付$d$の時刻$t$における暖房時のヒートポンプサイクルの理論効率に対する熱源機の効率の比(-)  \n",
    "$e_{r,mid,H}$：中間暖房能力運転時のヒートポンプサイクルの理論効率に対する熱源機の効率の比(-)  \n",
    "$e_{r,min,H}$：最小暖房能力運転時のヒートポンプサイクルの理論効率に対する熱源機の効率の比(-)  \n",
    "$e_{r,rtd,H}$：定格暖房能力運転時のヒートポンプサイクルの理論効率に対する熱源機の効率の比(-)  \n"
   ]
  },
  {
   "cell_type": "markdown",
   "metadata": {},
   "source": [
    "#### A.4.2.2 JIS 試験におけるヒートポンプサイクルの理論効率に対する熱源機の効率の比"
   ]
  },
  {
   "cell_type": "markdown",
   "metadata": {},
   "source": [
    "定格暖房能力運転時のヒートポンプサイクルの理論効率に対する熱源機の効率の比$e_{r,rtd,H}$および定格冷房能力運転時のヒートポンプサイクルの理論効率に対する熱源機の効率の比$e_{r,rtd,C}$は、それぞれ、0 を下回る場合は 0 に等しいとし、1.0 を上回る場合は 1.0 に等しいとする。"
   ]
  },
  {
   "cell_type": "markdown",
   "metadata": {},
   "source": [
    "定格暖房能力運転時："
   ]
  },
  {
   "cell_type": "markdown",
   "metadata": {},
   "source": [
    "$$\\large\n",
    "e_{r,rtd,H}=\\frac{e_{hs,rtd,H}}{e_{th,rtd,H}}\n",
    "$$"
   ]
  },
  {
   "cell_type": "markdown",
   "metadata": {},
   "source": [
    "$$\\large\n",
    "e_{hs,rtd,H}=\\frac{q_{hs,rtd,H}}{P_{hs,rtd,H}-P_{fan,rtd,H}}\n",
    "$$"
   ]
  },
  {
   "cell_type": "markdown",
   "metadata": {},
   "source": [
    "定格冷房能力運転時："
   ]
  },
  {
   "cell_type": "markdown",
   "metadata": {},
   "source": [
    "$$\\large\n",
    "e_{r,rtd,C}=\\frac{e_{hs,rtd,C}}{e_{th,rtd,C}}\n",
    "$$"
   ]
  },
  {
   "cell_type": "markdown",
   "metadata": {},
   "source": [
    "$$\\large\n",
    "e_{hs,rtd,C}=\\frac{q_{hs,rtd,C}}{P_{hs,rtd,C}-P_{fan,rtd,C}}\n",
    "$$"
   ]
  },
  {
   "cell_type": "markdown",
   "metadata": {},
   "source": [
    "$e_{hs,rtd,C}$：定格冷房能力運転時の熱源機の効率(-)  \n",
    "$e_{hs,rtd,H}$：定格暖房能力運転時の熱源機の効率(-)  \n",
    "$e_{th,rtd,C}$：定格冷房能力運転時のヒートポンプサイクルの理論効率(-)  \n",
    "$e_{th,rtd,H}$：定格暖房能力運転時のヒートポンプサイクルの理論効率(-)  \n",
    "$P_{hs,rtd,C}$：熱源機の定格冷房消費電力(W)  \n",
    "$P_{hs,rtd,H}$：熱源機の定格暖房消費電力(W)  \n",
    "$P_{fan,rtd,C}$：定格冷房能力運転時の送風機の消費電力(W)  \n",
    "$P_{fan,rtd,H}$：定格暖房能力運転時の送風機の消費電力(W)  \n",
    "$q_{hs,rtd,C}$：熱源機の定格冷房能力(W)  \n",
    "$q_{hs,rtd,H}$：熱源機の定格暖房能力(W)  \n",
    "$e_{r,rtd,C}$：定格冷房能力運転時のヒートポンプサイクルの理論効率に対する熱源機の効率の比(-)  \n",
    "$e_{r,rtd,H}$：定格暖房能力運転時のヒートポンプサイクルの理論効率に対する熱源機の効率の比(-)  \n"
   ]
  },
  {
   "cell_type": "markdown",
   "metadata": {},
   "source": [
    "中間暖房能力運転時のヒートポンプサイクルの理論効率に対する熱源機の効率の比$e_{r,mid,H}$および中間冷房能力運転時のヒートポンプサイクルの理論効率に対する熱源機の効率の比$e_{r,mid,C}$は、それぞれ、0 を下回る場合は 0 に等しいとし、1.0 を上回る場合は 1.0 に等しいとする。"
   ]
  },
  {
   "cell_type": "markdown",
   "metadata": {},
   "source": [
    "中間暖房能力運転時："
   ]
  },
  {
   "cell_type": "markdown",
   "metadata": {},
   "source": [
    "性能試験により得られる値を用いる場合："
   ]
  },
  {
   "cell_type": "markdown",
   "metadata": {},
   "source": [
    "$$\\large\n",
    "e_{r,mid,H}=\\frac{e_{hs,mid,H}}{e_{th,mid,H}}\n",
    "$$"
   ]
  },
  {
   "cell_type": "markdown",
   "metadata": {},
   "source": [
    "$$\\large\n",
    "e_{hs,mid,H}=\\frac{q_{hs,mid,H}}{P_{hs,mid,H}-P_{fan,mid,H}}\n",
    "$$"
   ]
  },
  {
   "cell_type": "markdown",
   "metadata": {},
   "source": [
    "性能試験により得られる値を用いない場合："
   ]
  },
  {
   "cell_type": "markdown",
   "metadata": {},
   "source": [
    "$$\\large\n",
    "e_{r,mid,H}=e_{r,rtd,H} \\times 0.95\n",
    "$$"
   ]
  },
  {
   "cell_type": "markdown",
   "metadata": {},
   "source": [
    "中間冷房能力運転時："
   ]
  },
  {
   "cell_type": "markdown",
   "metadata": {},
   "source": [
    "性能試験により得られる値を用いる場合："
   ]
  },
  {
   "cell_type": "markdown",
   "metadata": {},
   "source": [
    "$$\\large\n",
    "e_{r,mid,C}=\\frac{e_{hs,mid,C}}{e_{th,mid,C}}\n",
    "$$"
   ]
  },
  {
   "cell_type": "markdown",
   "metadata": {},
   "source": [
    "$$\\large\n",
    "e_{hs,mid,C}=\\frac{q_{hs,mid,C}}{P_{hs,mid,C}-P_{fan,mid,C}}\n",
    "$$"
   ]
  },
  {
   "cell_type": "markdown",
   "metadata": {},
   "source": [
    "性能試験により得られる値を用いない場合："
   ]
  },
  {
   "cell_type": "markdown",
   "metadata": {},
   "source": [
    "$$\\large\n",
    "e_{r,mid,C}=e_{r,rtd,C} \\times 0.95\n",
    "$$"
   ]
  },
  {
   "cell_type": "markdown",
   "metadata": {},
   "source": [
    "$e_{hs,mid,C}$：中間冷房能力運転時の熱源機の効率(-)  \n",
    "$e_{hs,mid,H}$：中間暖房能力運転時の熱源機の効率(-)  \n",
    "$e_{th,mid,C}$：中間冷房能力運転時のヒートポンプサイクルの理論効率(-)  \n",
    "$e_{th,mid,H}$：中間暖房能力運転時のヒートポンプサイクルの理論効率(-)  \n",
    "$P_{hs,mid,C}$：熱源機の中間冷房消費電力(W)  \n",
    "$P_{hs,mid,H}$：熱源機の中間暖房消費電力(W)  \n",
    "$P_{fan,mid,C}$：中間冷房能力運転時の送風機の消費電力(W)  \n",
    "$P_{fan,mid,H}$：中間暖房能力運転時の送風機の消費電力(W)  \n",
    "$q_{hs,mid,C}$：中間冷房能力(W)  \n",
    "$q_{hs,mid,H}$：中間暖房能力(W)  \n",
    "$e_{r,mid,C}$：中間冷房能力運転時のヒートポンプサイクルの理論効率に対する熱源機の効率の比(-)  \n",
    "$e_{r,mid,H}$：中間暖房能力運転時のヒートポンプサイクルの理論効率に対する熱源機の効率の比(-)  \n",
    "$e_{r,rtd,C}$：定格冷房能力運転時のヒートポンプサイクルの理論効率に対する熱源機の効率の比(-)  \n",
    "$e_{r,rtd,H}$：定格暖房能力運転時のヒートポンプサイクルの理論効率に対する熱源機の効率の比(-)  \n"
   ]
  },
  {
   "cell_type": "markdown",
   "metadata": {},
   "source": [
    "最小暖房能力運転時："
   ]
  },
  {
   "cell_type": "markdown",
   "metadata": {},
   "source": [
    "$$\\large\n",
    "e_{r,min,H}=e_{r,rtd,H} \\times 0.65\n",
    "$$"
   ]
  },
  {
   "cell_type": "markdown",
   "metadata": {},
   "source": [
    "最小冷房能力運転時："
   ]
  },
  {
   "cell_type": "markdown",
   "metadata": {},
   "source": [
    "$$\\large\n",
    "e_{r,min,C}=e_{r,rtd,C} \\times 0.65\n",
    "$$"
   ]
  },
  {
   "cell_type": "markdown",
   "metadata": {},
   "source": [
    "$e_{r,min,C}$：最小冷房能力運転時のヒートポンプサイクルの理論効率に対する熱源機の効率の比(-)  \n",
    "$e_{r,min,H}$：最小暖房能力運転時のヒートポンプサイクルの理論効率に対する熱源機の効率の比(-)  \n",
    "$e_{r,rtd,C}$：定格冷房能力運転時のヒートポンプサイクルの理論効率に対する熱源機の効率の比(-)  \n",
    "$e_{r,rtd,H}$：定格暖房能力運転時のヒートポンプサイクルの理論効率に対する熱源機の効率の比(-)  \n"
   ]
  },
  {
   "cell_type": "markdown",
   "metadata": {},
   "source": [
    "#### A.4.3 ヒートポンプサイクルの理論効率"
   ]
  },
  {
   "cell_type": "markdown",
   "metadata": {},
   "source": [
    "#### A.4.3.1 エネルギー消費量の算定におけるヒートポンプサイクルの理論効率"
   ]
  },
  {
   "cell_type": "markdown",
   "metadata": {},
   "source": [
    "$$\\large\n",
    "e_{th,H,d,t}=e'_{th,d,t}\n",
    "$$"
   ]
  },
  {
   "cell_type": "markdown",
   "metadata": {},
   "source": [
    "$$\\large\n",
    "e_{th,C,d,t}=e'_{th,d,t}-1\n",
    "$$"
   ]
  },
  {
   "cell_type": "markdown",
   "metadata": {},
   "source": [
    "$e_{th,C,d,t}$：日付$d$の時刻$t$における冷房時のヒートポンプサイクルの理論効率(-)  \n",
    "$e_{th,H,d,t}$：日付$d$の時刻$t$における暖房時のヒートポンプサイクルの理論効率(-)  \n",
    "$e'_{th,d,t}$：日付$d$の時刻$t$におけるヒートポンプサイクル（加熱）の理論効率(-)  \n"
   ]
  },
  {
   "cell_type": "markdown",
   "metadata": {},
   "source": [
    "<div style=\"text-align: center;font-weight: bold;\">表　算定式における記号に対応する変数</div>\n",
    "\n",
    "<table>\n",
    "<thead>\n",
    "<tr>\n",
    "<th colspan=\"2\" rowspan=\"2\" style=\"text-align: center;\">算定式における記号</th>\n",
    "<th colspan=\"2\" style=\"text-align: center;\">算定式における記号に対応する変数</th>\n",
    "</tr>\n",
    "<tr>\n",
    "<th>暖房時のヒートポンプサイクル<br>\n",
    "の理論効率$e_{th,H,d,t}$（式 17）を<br>\n",
    "算定する場合</th>\n",
    "<th>冷房時のヒートポンプサイクル<br>\n",
    "の理論効率$e_{th,C,d,t}$（式 18）を<br>\n",
    "算定する場合</th>\n",
    "</tr>\n",
    "</thead>\n",
    "<tbody>\n",
    "<tr>\n",
    "    <th>暖房時の蒸発温度<br>$\\theta_{ref,env,H}$（式 24）<br>または<br>冷房時の凝縮温度<br>$\\theta_{ref,cnd,C}$（式 27）</th>\n",
    "    <th>外気温度(℃)$\\theta_{ex}$</th>\n",
    "    <td>日付$d$の時刻$t$における外気温度$\\theta_{ex,d,t}$</td>\n",
    "    <td>日付$d$の時刻$t$における外気温度$\\theta_{ex,d,t}$</td>\n",
    "</tr>\n",
    "<tr>\n",
    "    <th rowspan=\"4\">暖房時の室内機熱交換器の<br>表面温度$\\theta_{surf,hex,H}$（式 31）<br>または<br>冷房時の室内機熱交換器の<br>表面温度$\\theta_{surf,hex,C}$（式 32）</th>\n",
    "    <th>熱源機の入口における空気温度(℃)$\\theta_{hs,in}$</th>\n",
    "    <td>日付$d$の時刻$t$における熱源機の入口における空気温度$\\theta_{hs,in,d,t}$</td>\n",
    "    <td>日付$d$の時刻$t$における熱源機の入口における空気温度$\\theta_{hs,in,d,t}$</td>\n",
    "</tr>\n",
    "<tr>\n",
    "    <th>熱源機の入口における絶対湿度(kg/kg(DA))$X_{hs,in}$</th>\n",
    "    <td>-</td>\n",
    "    <td>日付$d$の時刻$t$における熱源機の入口における絶対湿度$X_{hs,in,d,t}$</td>\n",
    "</tr>\n",
    "<tr>\n",
    "    <th>熱源機の出口における空気温度(℃)$\\theta_{hs,out}$</th>\n",
    "    <td>日付$d$の時刻$t$における熱源機の出口における空気温度$\\theta_{hs,out,d,t}$</td>\n",
    "    <td>日付$d$の時刻$t$における熱源機の出口における空気温度$\\theta_{hs,out,d,t}$</td>\n",
    "</tr>\n",
    "<tr>\n",
    "    <th>熱源機の風量($m^3$/h)$V_{hs,supply}$</th>\n",
    "    <td>日付$d$の時刻$t$における熱源機の風量$V_{hs,supply,d,t}$</td>\n",
    "    <td>日付$d$の時刻$t$における熱源機の風量$V_{hs,supply,d,t}$</td>\n",
    "</tr>\n",
    "</tbody>\n",
    "</table>"
   ]
  },
  {
   "cell_type": "markdown",
   "metadata": {},
   "source": [
    "#### A.4.3.2 JIS 試験におけるヒートポンプサイクルの理論効率"
   ]
  },
  {
   "cell_type": "markdown",
   "metadata": {},
   "source": [
    "$$\\large\n",
    "e_{th,rtd,H}=e'_{th,rtd,H}\n",
    "$$"
   ]
  },
  {
   "cell_type": "markdown",
   "metadata": {},
   "source": [
    "$$\\large\n",
    "e_{th,mid,H}=e'_{th,mid,H}\n",
    "$$"
   ]
  },
  {
   "cell_type": "markdown",
   "metadata": {},
   "source": [
    "$$\\large\n",
    "e_{th,rtd,C}=e'_{th,rtd,C}-1\n",
    "$$"
   ]
  },
  {
   "cell_type": "markdown",
   "metadata": {},
   "source": [
    "$$\\large\n",
    "e_{th,mid,C}=e'_{th,mid,C}-1\n",
    "$$"
   ]
  },
  {
   "cell_type": "markdown",
   "metadata": {},
   "source": [
    "$e_{th,mid,C}$：中間冷房能力運転時のヒートポンプサイクルの理論効率(-)  \n",
    "$e_{th,mid,H}$：中間暖房能力運転時のヒートポンプサイクルの理論効率(-)  \n",
    "$e_{th,rtd,C}$：定格冷房能力運転時のヒートポンプサイクルの理論効率(-)  \n",
    "$e_{th,rtd,H}$：定格暖房能力運転時のヒートポンプサイクルの理論効率(-)  \n",
    "$e'_{th,mid,C}$：中間冷房能力運転時のヒートポンプサイクル（加熱）の理論効率(-)  \n",
    "$e'_{th,mid,H}$：中間暖房能力運転時のヒートポンプサイクル（加熱）の理論効率(-)  \n",
    "$e'_{th,rtd,C}$：定格冷房能力運転時のヒートポンプサイクル（加熱）の理論効率(-)  \n",
    "$e'_{th,rtd,H}$：定格暖房能力運転時のヒートポンプサイクル（加熱）の理論効率(-)  \n"
   ]
  },
  {
   "cell_type": "markdown",
   "metadata": {},
   "source": [
    "<div style=\"text-align: center;font-weight: bold;\">表　記号に対応する変数</div>\n",
    "\n",
    "<table>\n",
    "<thead>\n",
    "<tr>\n",
    "<th colspan=\"2\" rowspan=\"2\" style=\"text-align: center;\">算定式における記号</th>\n",
    "<th colspan=\"4\" style=\"text-align: center;\">対応する変数</th>\n",
    "</tr>\n",
    "<tr>\n",
    "<th>定格暖房能力<br>\n",
    "運転時のヒート<br>\n",
    "ポンプサイクル<br>\n",
    "の理論効率<br>\n",
    "$e_{th,rtd,H}$（式 19）<br>\n",
    "を算定する場合</th>\n",
    "<th>中間暖房能力<br>\n",
    "運転時のヒート<br>\n",
    "ポンプサイクル<br>\n",
    "の理論効率<br>\n",
    "$e_{th,mid,H}$（式 20）<br>\n",
    "を算定する場合</th>\n",
    "<th>定格冷房能力<br>\n",
    "運転時のヒート<br>\n",
    "ポンプサイクル<br>\n",
    "の理論効率<br>\n",
    "$e_{th,rtd,C}$（式 21）<br>\n",
    "を算定する場合</th>\n",
    "<th>中間冷房能力<br>\n",
    "運転時のヒート<br>\n",
    "ポンプサイクル<br>\n",
    "の理論効率<br>\n",
    "$e_{th,mid,C}$（式 22）<br>\n",
    "を算定する場合</th>\n",
    "</tr>\n",
    "</thead>\n",
    "<tbody>\n",
    "<tr>\n",
    "    <th>暖房時の蒸発温度<br>$\\theta_{ref,env,H}$（式 24）<br>または<br>冷房時の凝縮温度<br>$\\theta_{ref,cnd,C}$（式 27）</th>\n",
    "    <th>外気温度(℃)$\\theta_{ex}$</th>\n",
    "    <td>7</td>\n",
    "    <td>7</td>\n",
    "    <td>35</td>\n",
    "    <td>35</td>\n",
    "</tr>\n",
    "<tr>\n",
    "    <th rowspan=\"5\">暖房時の室内機熱交換器の<br>表面温度$\\theta_{surf,hex,H}$（式 31）<br>または<br>冷房時の室内機熱交換器の<br>表面温度$\\theta_{surf,hex,C}$（式 32）</th>\n",
    "    <th>熱源機の入口における<br>空気温度(℃)$\\theta_{hs,in}$</th>\n",
    "    <td>20</td>\n",
    "    <td>20</td>\n",
    "    <td>27</td>\n",
    "    <td>27</td>\n",
    "</tr>\n",
    "<tr>\n",
    "    <th>熱源機の入口における<br>絶対湿度(kg/kg(DA))$X_{hs,in}$</th>\n",
    "    <td>-</td>\n",
    "    <td>-</td>\n",
    "    <td>0.010376</td>\n",
    "    <td>0.010376</td>\n",
    "</tr>\n",
    "<tr>\n",
    "    <th>熱源機の風量($m^3$/h)$V_{hs,supply}$</th>\n",
    "    <td>$V_{fan,rtd,H}$</td>\n",
    "    <td>$V_{fan,mid,H}$</td>\n",
    "    <td>$V_{fan,rtd,C}$</td>\n",
    "    <td>$V_{fan,mid,C}$</td>\n",
    "</tr>\n",
    "<tr>\n",
    "    <th>熱源機の暖房能力(W)$q_{hs,H}$</th>\n",
    "    <td>$q_{hs,rtd,H}$</td>\n",
    "    <td>$q_{hs,mid,H}$</td>\n",
    "    <td>-</td>\n",
    "    <td>-</td>\n",
    "</tr>\n",
    "<tr>\n",
    "    <th>熱源機の冷房能力(W)$q_{hs,C}$</th>\n",
    "    <td>-</td>\n",
    "    <td>-</td>\n",
    "    <td>$q_{hs,rtd,C}$</td>\n",
    "    <td>$q_{hs,mid,C}$</td>\n",
    "</tr>\n",
    "</tbody>\n",
    "</table>"
   ]
  },
  {
   "cell_type": "markdown",
   "metadata": {},
   "source": [
    "#### A.4.4 冷媒温度"
   ]
  },
  {
   "cell_type": "markdown",
   "metadata": {},
   "source": [
    "凝縮温度$\\theta_{ref,cnd,H}$は、65℃を上回る場合、65℃に等しいとする。蒸発温度$\\theta_{ref,evp,H}$は、-50℃を下回る場合、-50℃に等しいとし、また、$\\theta_{ref,cnd,H}$ − 5.0を上回る場合、$\\theta_{ref,cnd,H}$ −5.0に等しいとする。"
   ]
  },
  {
   "cell_type": "markdown",
   "metadata": {},
   "source": [
    "$$\\large\n",
    "\\theta_{ref,cnd,H}=\\theta_{surf,hex,H}\n",
    "$$"
   ]
  },
  {
   "cell_type": "markdown",
   "metadata": {},
   "source": [
    "$$\\large\n",
    "\\theta_{ref,evp,H}=\\theta_{ex}-(0.100 \\times \\theta_{ref,cnd,H} + 2.95)\n",
    "$$"
   ]
  },
  {
   "cell_type": "markdown",
   "metadata": {},
   "source": [
    "$$\\large\n",
    "\\theta_{ref,SC,H}=0.245 \\times \\theta_{ref,cnd,H} − 1.72\n",
    "$$"
   ]
  },
  {
   "cell_type": "markdown",
   "metadata": {},
   "source": [
    "$$\\large\n",
    "\\theta_{ref,SH,H}=4.49 − 0.036  \\times \\theta_{ref,cnd,H}\n",
    "$$"
   ]
  },
  {
   "cell_type": "markdown",
   "metadata": {},
   "source": [
    "$\\theta_{ex}$：外気温度(℃)  \n",
    "$\\theta_{ref,cnd,H}$：暖房時の冷媒の凝縮温度(℃)  \n",
    "$\\theta_{ref,evp,H}$：暖房時の冷媒の蒸発温度(℃)  \n",
    "$\\theta_{ref,SC,H}$：暖房時の冷媒の過冷却度(℃)  \n",
    "$\\theta_{ref,SH,H}$：暖房時の冷媒の過熱度(℃)  \n",
    "$\\theta_{surf,hex,H}$：暖房時の室内機熱交換器の表面温度(℃)  \n"
   ]
  },
  {
   "cell_type": "markdown",
   "metadata": {},
   "source": [
    "凝縮温度$\\theta_{ref,cnd,C}$は、65℃を上回る場合、65℃に等しいとし、また、$\\theta_{ref,evp,C}$ + 5.0を下回る場合、$\\theta_{ref,evp,C}$ + 5.0に等しいとする。蒸発温度$\\theta_{ref,evp,C}$は、-50℃を下回る場合、-50℃に等しいとする。"
   ]
  },
  {
   "cell_type": "markdown",
   "metadata": {},
   "source": [
    "$$\\large\n",
    "\\theta_{ref,cnd,C}=max(\\theta_{ex}+27.4 −1.35 \\times \\theta_{ref,evp,C},\\theta_{ex})\n",
    "$$"
   ]
  },
  {
   "cell_type": "markdown",
   "metadata": {},
   "source": [
    "$$\\large\n",
    "\\theta_{ref,evp,C}=\\theta_{surf,hex,C}\n",
    "$$"
   ]
  },
  {
   "cell_type": "markdown",
   "metadata": {},
   "source": [
    "$$\\large\n",
    "\\theta_{ref,SC,C}=max(0.772 \\times \\theta_{ref,cnd,C} − 25.6 , 0)\n",
    "$$"
   ]
  },
  {
   "cell_type": "markdown",
   "metadata": {},
   "source": [
    "$$\\large\n",
    "\\theta_{ref,SH,C}=max(0.194  \\times \\theta_{ref,cnd,C} −3.86 , 0)\n",
    "$$"
   ]
  },
  {
   "cell_type": "markdown",
   "metadata": {},
   "source": [
    "$\\theta_{ex}$：外気温度(℃)  \n",
    "$\\theta_{ref,cnd,C}$：冷房時の冷媒の凝縮温度(℃)  \n",
    "$\\theta_{ref,evp,C}$：冷房時の冷媒の蒸発温度(℃)  \n",
    "$\\theta_{ref,SC,C}$：冷房時の冷媒の過冷却度(℃)  \n",
    "$\\theta_{ref,SH,C}$：冷房時の冷媒の過熱度(℃)  \n",
    "$\\theta_{surf,hex,C}$：冷房時の室内機熱交換器の表面温度(℃)  \n"
   ]
  },
  {
   "cell_type": "markdown",
   "metadata": {},
   "source": [
    "### A.5 室内機熱交換器"
   ]
  },
  {
   "cell_type": "markdown",
   "metadata": {},
   "source": [
    "#### A.5.1 熱交換器の表面温度"
   ]
  },
  {
   "cell_type": "markdown",
   "metadata": {},
   "source": [
    "#### A.5.1.1 エネルギー消費量の算定における熱交換器の表面温度"
   ]
  },
  {
   "cell_type": "markdown",
   "metadata": {},
   "source": [
    "$$\\large\n",
    "\\theta_{surf,hex,H}=\\frac{\\theta_{hs,in}+\\theta_{hs,out}}{2}+\\frac{c_{p_{air}}\\rho_{air}V_{hs,supply}(\\theta_{hs,out}-\\theta_{hs,in})\\div 3600}{A_{e,hex}\\alpha_{c,hex,H}}\n",
    "$$"
   ]
  },
  {
   "cell_type": "markdown",
   "metadata": {},
   "source": [
    "$$\\large\n",
    "\\theta_{surf,hex,C}=\\frac{\\theta_{hs,in}+\\theta_{hs,out}}{2}+\\frac{c_{p_{air}}\\rho_{air}V_{hs,supply}(\\theta_{hs,in}-\\theta_{hs,out})\\div 3600}{A_{e,hex}\\alpha_{c,hex,C}}\n",
    "$$"
   ]
  },
  {
   "cell_type": "markdown",
   "metadata": {},
   "source": [
    "$A_{e,hex}$：室内機熱交換器の表面積のうち熱交換に有効な面積($m^2$)  \n",
    "$V_{hs,supply}$：熱源機の風量($m^3$/h)  \n",
    "$\\alpha_{c,hex,H}$：暖房時の室内熱交換器表面の顕熱伝達率(W/($m^2$・K))  \n",
    "$\\alpha_{c,hex,C}$：冷房時の室内熱交換器表面の顕熱伝達率(W/($m^2$・K))  \n",
    "$\\theta_{hs,in}$：熱源機の入口における空気温度(℃)  \n",
    "$\\theta_{hs,out}$：熱源機の出口における空気温度(℃)  \n",
    "$\\theta_{surf,hex,C}$：冷房時の室内機熱交換器の表面温度(℃)  \n",
    "$\\theta_{surf,hex,H}$：暖房時の室内機熱交換器の表面温度(℃)  \n",
    "$c_{p_{air}}$：空気の比熱(J/(kg・K))  \n",
    "$\\rho_{air}$：空気の密度(kg/$m^3$)  \n"
   ]
  },
  {
   "cell_type": "markdown",
   "metadata": {},
   "source": [
    "#### A.5.1.2 JIS 試験における熱交換器の表面温度"
   ]
  },
  {
   "cell_type": "markdown",
   "metadata": {},
   "source": [
    "$$\\large\n",
    "\\theta_{surf,hex,H}=\\theta_{hs,in} + \\frac{q_{hs,H}}{2c_{p_{air}}\\rho_{air}V_{hs,supply}}\\times3600+\\frac{q_{hs,H}}{A_{e,hex}\\alpha_{c,hex,H}}\n",
    "$$"
   ]
  },
  {
   "cell_type": "markdown",
   "metadata": {},
   "source": [
    "$A_{e,hex}$：室内機熱交換器の表面積のうち熱交換に有効な面積($m^2$)  \n",
    "$V_{hs,supply}$：熱源機の風量($m^3$/h)  \n",
    "$q_{hs,H}$：熱源機の暖房能力(W)  \n",
    "$\\alpha_{c,hex,H}$：暖房時の室内熱交換器表面の顕熱伝達率(W/($m^2$・K))  \n",
    "$\\theta_{hs,in}$：熱源機の入口における空気温度(℃)  \n",
    "$\\theta_{surf,hex,H}$：暖房時の室内機熱交換器の表面温度(℃)  \n",
    "$c_{p_{air}}$：空気の比熱(J/(kg・K))  \n",
    "$\\rho_{air}$：空気の密度(kg/$m^3$)  \n"
   ]
  },
  {
   "cell_type": "markdown",
   "metadata": {},
   "source": [
    "$$\\large\n",
    "q_{hs,C}=q_{hs,CS}+q_{hs,CL}\n",
    "$$"
   ]
  },
  {
   "cell_type": "markdown",
   "metadata": {},
   "source": [
    "$$\\large\n",
    "q_{hs,CS}=(\\theta_{hs,in}-\\theta_{surf,hex,C})\\div \\left( \\frac{3600}{2c_{p_{air}}\\rho_{air}V_{hs,supply}} + \\frac{1}{A_{e,hex}\\alpha_{c,hex,H}} \\right)\n",
    "$$"
   ]
  },
  {
   "cell_type": "markdown",
   "metadata": {},
   "source": [
    "$$\\large\n",
    "q_{hs,CL}= max \\left( (X_{hs,in}-X_{surf,hex,C})\\div \\left( \\frac{3600}{2L_{wtr}\\rho_{air}V_{hs,supply}\\times10^3} + \\frac{1}{L_{wtr}A_{e,hex}\\alpha'_{c,hex,H}\\times10^3} \\right) , 0 \\right)\n",
    "$$"
   ]
  },
  {
   "cell_type": "markdown",
   "metadata": {},
   "source": [
    "$A_{e,hex}$：室内機熱交換器の表面積のうち熱交換に有効な面積($m^2$)  \n",
    "$q_{hs,C}$：熱源機の冷房能力(W)  \n",
    "$q_{hs,CS}$：熱源機のの冷房顕熱能力(W)  \n",
    "$q_{hs,CL}$：熱源機の冷房潜熱能力(W)  \n",
    "$V_{hs,supply}$：熱源機の風量($m^3$/h)  \n",
    "$X_{hs,in}$：熱源機の入口における絶対湿度(kg/kg(DA))  \n",
    "$X_{surf,hex,C}$：冷房時の室内機熱交換器の表面絶対湿度(kg/kg(DA))  \n",
    "$\\alpha_{c,hex,C}$：冷房時の室内熱交換器表面の顕熱伝達率(W/($m^2$・K))  \n",
    "$\\alpha'_{c,hex,C}$：冷房時の室内熱交換器表面の潜熱伝達率(kg/($m^2$・s))  \n",
    "$\\theta_{hs,in}$：熱源機の入口における空気温度(℃)  \n",
    "$\\theta_{surf,hex,C}$：冷房時の室内機熱交換器の表面温度(℃)  \n",
    "$c_{p_{air}}$：空気の比熱(J/(kg・K))  \n",
    "$L_{wtr}$：水の蒸発潜熱(kJ/kg)  \n",
    "$\\rho_{air}$：空気の密度(kg/$m^3$)  \n"
   ]
  },
  {
   "cell_type": "markdown",
   "metadata": {},
   "source": [
    "#### A.5.2 熱交換器表面の顕熱伝達率"
   ]
  },
  {
   "cell_type": "markdown",
   "metadata": {},
   "source": [
    "暖房時："
   ]
  },
  {
   "cell_type": "markdown",
   "metadata": {},
   "source": [
    "$$\\large\n",
    "\\alpha_{c,hex,H}=\\left\\{ -0.0017 \\times \\left( \\frac{V_{hs,supply}\\div3600}{A_{f,hex}} \\right)^2 + 0.044 \\times \\frac{V_{hs,supply}\\div3600}{A_{f,hex}} + 0.00271  \\right\\} \\times 10^3\n",
    "$$"
   ]
  },
  {
   "cell_type": "markdown",
   "metadata": {},
   "source": [
    "冷房時："
   ]
  },
  {
   "cell_type": "markdown",
   "metadata": {},
   "source": [
    "$$\\large\n",
    "\\alpha_{c,hex,C}=\\alpha'_{c,hex,C}\\times(c_{p_{air}}+c_{p_{w}}X_{hs,in})\n",
    "$$"
   ]
  },
  {
   "cell_type": "markdown",
   "metadata": {},
   "source": [
    "$$\\large\n",
    "\\alpha'_{c,hex,C}=0.050 \\times ln\\left( \\frac{max(V_{hs,supply},400)\\div 3600}{A_{f,hex}} \\right) + 0.073\n",
    "$$"
   ]
  },
  {
   "cell_type": "markdown",
   "metadata": {},
   "source": [
    "$A_{f,hex}$：室内機熱交換器の全面面積のうち熱交換に有効な面積($m^2$)  \n",
    "$V_{hs,supply}$：熱源機の風量($m^3$/h)  \n",
    "$X_{hs,in}$：熱源機の入口における絶対湿度(kg/kg(DA))  \n",
    "$\\alpha_{c,hex,H}$：暖房時の室内熱交換器表面の顕熱伝達率(W/($m^2$・K))  \n",
    "$\\alpha_{c,hex,C}$：冷房時の室内熱交換器表面の顕熱伝達率(W/($m^2$・K))  \n",
    "$\\alpha'_{c,hex,C}$：冷房時の室内熱交換器表面の潜熱伝達率(kg/($m^2$・s))  \n",
    "$c_{p_{air}}$：空気の比熱(J/(kg・K))  \n",
    "$c_{p_{w}}$：水蒸気の比熱(J/(kg・K))  \n"
   ]
  },
  {
   "cell_type": "markdown",
   "metadata": {},
   "source": [
    "#### A.5.3 熱交換器の表面積"
   ]
  },
  {
   "cell_type": "markdown",
   "metadata": {},
   "source": [
    "室内機熱交換器の全面面積のうち熱交換に有効な面積$A_{f,hex}$は、0.23559 m2 とする。\n",
    "室内機熱交換器の表面積のうち熱交換に有効な面積$A_{e,hex}$は、6.396 m2 とする。"
   ]
  },
  {
   "cell_type": "markdown",
   "metadata": {},
   "source": [
    "### A.6 送風機"
   ]
  },
  {
   "cell_type": "markdown",
   "metadata": {},
   "source": [
    "$$\\large\n",
    "E_{E,fan,H,d,t}=\\left\\{ \\begin{array}{ll}\n",
    "    max\\left((P_{fan,rtd,H}-f_{SFP}V_{hs,vent,d,t}) \\times \\frac{V_{hs,supply,d,t}-V_{hs,vent,d,t}}{V_{hs,dsgn,H}-V_{hs,vent,d,t}} \\times 10^{-3}, 0 \\right) &(q_{hs,H,d,t} > 0)\\\\ \n",
    "    0 &(q_{hs,H,d,t} \\leq 0)\\\\ \n",
    "    \\end{array}\n",
    "\\right.\n",
    "$$"
   ]
  },
  {
   "cell_type": "markdown",
   "metadata": {},
   "source": [
    "$$\\large\n",
    "E_{E,fan,C,d,t}=\\left\\{ \\begin{array}{ll}\n",
    "    max\\left((P_{fan,rtd,C}-f_{SFP}V_{hs,vent,d,t}) \\times \\frac{V_{hs,supply,d,t}-V_{hs,vent,d,t}}{V_{hs,dsgn,C}-V_{hs,vent,d,t}} \\times 10^{-3}, 0 \\right) &(q_{hs,C,d,t} > 0)\\\\ \n",
    "    0 &(q_{hs,C,d,t} \\leq 0)\\\\ \n",
    "    \\end{array}\n",
    "\\right.\n",
    "$$"
   ]
  },
  {
   "cell_type": "markdown",
   "metadata": {},
   "source": [
    "$E_{E,fan,C,d,t}$：日付$d$の時刻$t$における1 時間当たりの送風機の消費電力量のうちの冷房設備への付加分(kWh/h)  \n",
    "$E_{E,fan,H,d,t}$：日付$d$の時刻$t$における1 時間当たりの送風機の消費電力量のうちの暖房設備への付加分(kWh/h)  \n",
    "$f_{SFP}$：全般換気設備の比消費電力(W/($m^3$/h))  \n",
    "$P_{fan,rtd,C}$：定格冷房能力運転時の送風機の消費電力(W)  \n",
    "$P_{fan,rtd,H}$：定格暖房能力運転時の送風機の消費電力(W)  \n",
    "$q_{hs,C,d,t}$：日付$d$の時刻$t$における1 時間当たりの熱源機の平均冷房能力(W)  \n",
    "$q_{hs,H,d,t}$：日付$d$の時刻$t$における1 時間当たりの熱源機の平均暖房能力(W)  \n",
    "$V_{hs,dsgn,C}$：冷房時の設計風量($m^3$/h)  \n",
    "$V_{hs,dsgn,H}$：暖房時の設計風量($m^3$/h)  \n",
    "$V_{hs,vent,d,t}$：日付$d$の時刻$t$における熱源機の風量のうちの全般換気分($m^3$/h)  \n"
   ]
  },
  {
   "cell_type": "markdown",
   "metadata": {},
   "source": [
    "全般換気設備の比消費電力$f_{SFP}$は、ダクト式第二種換気設備（直流）として 0.144（= 0.4 × 0.36）とする。"
   ]
  },
  {
   "cell_type": "markdown",
   "metadata": {},
   "source": [
    "### A.7 熱源機および送風機の仕様"
   ]
  },
  {
   "cell_type": "markdown",
   "metadata": {},
   "source": [
    "省略"
   ]
  },
  {
   "cell_type": "markdown",
   "metadata": {},
   "source": [
    "### A.8 空気・水蒸気・水の物性値"
   ]
  },
  {
   "cell_type": "markdown",
   "metadata": {},
   "source": [
    "空気の比熱$c_{p_{air}}$は、1006.0 J/(kg・K)とする。空気の密度$\\rho_{air}$は、1.2 kg/$m^3$ とする。\n",
    "水蒸気の定圧比熱$c_{p_{w}}$は、1.846 J/(kg・K)とする。"
   ]
  },
  {
   "cell_type": "markdown",
   "metadata": {},
   "source": [
    "$$\\large\n",
    "L_{wtr}=2500.8 −2.3668 \\times \\theta\n",
    "$$"
   ]
  },
  {
   "cell_type": "markdown",
   "metadata": {},
   "source": [
    "$L_{wtr}$：水の蒸発潜熱(kJ/kg)  \n",
    "$\\theta$：温度(℃)  \n"
   ]
  },
  {
   "cell_type": "markdown",
   "metadata": {},
   "source": [
    "温度$\\theta$は、冷房時を仮定し、27℃とする。\n"
   ]
  },
  {
   "cell_type": "markdown",
   "metadata": {},
   "source": [
    "## 付録 B 機器の性能を表す仕様の決定方法"
   ]
  },
  {
   "cell_type": "markdown",
   "metadata": {},
   "source": [
    "### B.1 記号及び単位"
   ]
  },
  {
   "cell_type": "markdown",
   "metadata": {},
   "source": [
    "省略"
   ]
  },
  {
   "cell_type": "markdown",
   "metadata": {},
   "source": [
    "### B.2 熱源機"
   ]
  },
  {
   "cell_type": "markdown",
   "metadata": {},
   "source": [
    "#### B.2.1 定格能力および定格消費電力"
   ]
  },
  {
   "cell_type": "markdown",
   "metadata": {},
   "source": [
    "$$\\large\n",
    "q_{hs,rtd,H}=q_{rq,H}\\times A_{A} \\times f_{CT} \\times f_{CL} \n",
    "$$"
   ]
  },
  {
   "cell_type": "markdown",
   "metadata": {},
   "source": [
    "$$\\large\n",
    "q_{hs,rtd,C}=q_{rq,C}\\times A_{A} \\times f_{CT} \\times f_{CL} \n",
    "$$"
   ]
  },
  {
   "cell_type": "markdown",
   "metadata": {},
   "source": [
    "$A_{A}$：床面積の合計($m^2$)  \n",
    "$f_{CT}$：外気温度能力補正係数(-)  \n",
    "$f_{CL}$：間歇運転能力補正係数(-)  \n",
    "$q_{hs,rtd,H}$：熱源機の定格暖房能力(W)  \n",
    "$q_{hs,rtd,C}$：熱源機の定格冷房能力(W)  \n",
    "$q_{rq,H}$：単位面積当たりの必要暖房能力(W/$m^2$)  \n",
    "$q_{rq,C}$：単位面積当たりの必要冷房能力(W/$m^2$)  \n"
   ]
  },
  {
   "cell_type": "markdown",
   "metadata": {},
   "source": [
    "外気温度能力補正係数$f_{CT}$は、1.05の値とする。間歇運転能力補正係数$f_{CL}$は、1.0とする。"
   ]
  },
  {
   "cell_type": "markdown",
   "metadata": {},
   "source": [
    "<div style=\"text-align: center;font-weight: bold;\">表　単位面積当たりの必要暖房能力$q_{rq,H}$及び冷房能力$q_{rq,C}$（W/m2\n",
    "）</div>\n",
    "\n",
    "<table>\n",
    "<thead>\n",
    "<tr>\n",
    "<th rowspan=\"2\">&nbsp;　　　　</th>\n",
    "<th colspan=\"8\">地域の区分 </th>\n",
    "</tr>\n",
    "<tr><th>1</th><th>2</th><th>3</th><th>4</th><th>5</th><th>6</th><th>7</th><th>8</th></tr>\n",
    "</thead>\n",
    "<tbody>\n",
    "<tr><th>$q_{rq,H}$</th><td>73.91</td><td>64.32</td><td>62.65</td><td>66.99</td><td>72.64</td><td>61.34</td><td>64.55</td><td>－</td></tr>\n",
    "<tr><th>$q_{rq,C}$</th><td>37.61</td><td>36.55</td><td>42.34</td><td>54.08</td><td>61.69</td><td>60.79</td><td>72.53</td><td>61.56</td></tr>\n",
    "</tbody>\n",
    "</table>\n"
   ]
  },
  {
   "cell_type": "markdown",
   "metadata": {},
   "source": [
    "$$\\large\n",
    "P_{hs,rtd,H}=\\frac{q_{hs,rtd,H}}{e_{rtd,H}} \n",
    "$$"
   ]
  },
  {
   "cell_type": "markdown",
   "metadata": {},
   "source": [
    "$$\\large\n",
    "P_{hs,rtd,C}=\\frac{q_{hs,rtd,C}}{e_{rtd,C}} \n",
    "$$"
   ]
  },
  {
   "cell_type": "markdown",
   "metadata": {},
   "source": [
    "$P_{hs,rtd,H}$：熱源機の定格暖房消費電力(W)  \n",
    "$P_{hs,rtd,C}$：熱源機の定格冷房消費電力(W)  \n",
    "$q_{hs,rtd,H}$：熱源機の定格暖房能力(W)  \n",
    "$q_{hs,rtd,C}$：熱源機の定格冷房能力(W)  \n",
    "$e_{rtd,H}$：定格暖房エネルギー消費効率(-)  \n",
    "$e_{rtd,C}$：定格冷房エネルギー消費効率(-)  \n"
   ]
  },
  {
   "cell_type": "markdown",
   "metadata": {},
   "source": [
    "定格暖房エネルギー消費効率$e_{rtd,H}$は3.76、定格冷房エネルギー消費効率$e_{rtd,C}$は3.17とする。\n"
   ]
  },
  {
   "cell_type": "markdown",
   "metadata": {},
   "source": [
    "#### B.2.2 中間能力および中間消費電力"
   ]
  },
  {
   "cell_type": "markdown",
   "metadata": {},
   "source": [
    "$$\\large\n",
    "q_{hs,mid,H}=q_{hs,rtd,H}\\times 0.5\n",
    "$$"
   ]
  },
  {
   "cell_type": "markdown",
   "metadata": {},
   "source": [
    "$$\\large\n",
    "q_{hs,mid,C}=q_{hs,rtd,C}\\times 0.5\n",
    "$$"
   ]
  },
  {
   "cell_type": "markdown",
   "metadata": {},
   "source": [
    "$q_{hs,mid,C}$：熱源機の中間冷房能力(W)  \n",
    "$q_{hs,mid,H}$：熱源機の中間暖房能力(W)  \n",
    "$q_{hs,rtd,C}$：熱源機の定格冷房能力(W)  \n",
    "$q_{hs,rtd,H}$：熱源機の定格暖房能力(W)  \n"
   ]
  },
  {
   "cell_type": "markdown",
   "metadata": {},
   "source": [
    "#### B.2.3 最小能力"
   ]
  },
  {
   "cell_type": "markdown",
   "metadata": {},
   "source": [
    "$$\\large\n",
    "q_{hs,min,H}=q_{hs,rtd,H}\\times 0.35\n",
    "$$"
   ]
  },
  {
   "cell_type": "markdown",
   "metadata": {},
   "source": [
    "$$\\large\n",
    "q_{hs,min,C}=q_{hs,rtd,C}\\times 0.35\n",
    "$$"
   ]
  },
  {
   "cell_type": "markdown",
   "metadata": {},
   "source": [
    "$q_{hs,min,C}$：熱源機の最小冷房能力(W)  \n",
    "$q_{hs,min,H}$：熱源機の最小暖房能力(W)  \n",
    "$q_{hs,rtd,C}$：熱源機の定格冷房能力(W)  \n",
    "$q_{hs,rtd,H}$：熱源機の定格暖房能力(W)  \n"
   ]
  },
  {
   "cell_type": "markdown",
   "metadata": {},
   "source": [
    "### B.3 送風機"
   ]
  },
  {
   "cell_type": "markdown",
   "metadata": {},
   "source": [
    "#### B.3.1 定格能力運転時の風量および消費電力"
   ]
  },
  {
   "cell_type": "markdown",
   "metadata": {},
   "source": [
    "$$\\large\n",
    "V_{fan,rtd,H}=(1.69\\times q_{hs,rtd,H} \\times 10^{-3}+14.5) \\times 60\n",
    "$$"
   ]
  },
  {
   "cell_type": "markdown",
   "metadata": {},
   "source": [
    "$$\\large\n",
    "P_{fan,rtd,H}=8.0\\times\\frac{V_{fan,rtd,H}}{60}+20.7\n",
    "$$"
   ]
  },
  {
   "cell_type": "markdown",
   "metadata": {},
   "source": [
    "$$\\large\n",
    "V_{fan,rtd,C}=(1.69\\times q_{hs,rtd,C} \\times 10^{-3}+14.5) \\times 60\n",
    "$$"
   ]
  },
  {
   "cell_type": "markdown",
   "metadata": {},
   "source": [
    "$$\\large\n",
    "P_{fan,rtd,C}=8.0\\times\\frac{V_{fan,rtd,C}}{60}+20.7\n",
    "$$"
   ]
  },
  {
   "cell_type": "markdown",
   "metadata": {},
   "source": [
    "$P_{fan,rtd,C}$：定格冷房能力運転時の送風機の消費電力(W)  \n",
    "$P_{fan,rtd,H}$：定格暖房能力運転時の送風機の消費電力(W)  \n",
    "$q_{hs,rtd,C}$：熱源機の定格冷房能力(W)  \n",
    "$q_{hs,rtd,H}$：熱源機の定格暖房能力(W)  \n",
    "$V_{fan,rtd,C}$：定格冷房能力運転時の送風機の風量($m^3$/h)  \n",
    "$V_{fan,rtd,H}$：定格暖房能力運転時の送風機の風量($m^3$/h)  \n"
   ]
  },
  {
   "cell_type": "markdown",
   "metadata": {},
   "source": [
    "#### B.3.2 中間能力運転時の風量および消費電力"
   ]
  },
  {
   "cell_type": "markdown",
   "metadata": {},
   "source": [
    "$$\\large\n",
    "V_{fan,mid,H}=(1.69\\times q_{hs,mid,H} \\times 10^{-3}+14.5) \\times 60\n",
    "$$"
   ]
  },
  {
   "cell_type": "markdown",
   "metadata": {},
   "source": [
    "$$\\large\n",
    "P_{fan,mid,H}=8.0\\times\\frac{V_{fan,mid,H}}{60}+20.7\n",
    "$$"
   ]
  },
  {
   "cell_type": "markdown",
   "metadata": {},
   "source": [
    "$$\\large\n",
    "V_{fan,mid,C}=(1.69\\times q_{hs,mid,C} \\times 10^{-3}+14.5) \\times 60\n",
    "$$"
   ]
  },
  {
   "cell_type": "markdown",
   "metadata": {},
   "source": [
    "$$\\large\n",
    "P_{fan,mid,C}=8.0\\times\\frac{V_{fan,mid,C}}{60}+20.7\n",
    "$$"
   ]
  },
  {
   "cell_type": "markdown",
   "metadata": {},
   "source": [
    "$P_{fan,mid,C}$：中間冷房能力運転時の送風機の消費電力(W)  \n",
    "$P_{fan,mid,H}$：中間暖房能力運転時の送風機の消費電力(W)  \n",
    "$q_{hs,mid,C}$：熱源機の中間冷房能力(W)  \n",
    "$q_{hs,mid,H}$：熱源機の中間暖房能力(W)  \n",
    "$V_{fan,mid,C}$：中間冷房能力運転時の送風機の風量($m^3$/h)  \n",
    "$V_{fan,mid,H}$：中間暖房能力運転時の送風機の風量($m^3$/h)  \n"
   ]
  },
  {
   "cell_type": "markdown",
   "metadata": {},
   "source": [
    "#### B.3.3 設計風量"
   ]
  },
  {
   "cell_type": "markdown",
   "metadata": {},
   "source": [
    "$$\\large\n",
    "V_{fan,dsgn,H}=V_{fan,rtd,H} \\times 0.79\n",
    "$$"
   ]
  },
  {
   "cell_type": "markdown",
   "metadata": {},
   "source": [
    "$$\\large\n",
    "V_{fan,dsgn,C}=V_{fan,rtd,C} \\times 0.79\n",
    "$$"
   ]
  },
  {
   "cell_type": "markdown",
   "metadata": {},
   "source": [
    "$V_{fan,dsgn,C}$：冷房時の送風機の設計風量($m^3$/h)  \n",
    "$V_{fan,dsgn,H}$：暖房時の送風機の設計風量($m^3$/h)  \n",
    "$V_{fan,rtd,C}$：定格冷房能力運転時の送風機の風量($m^3$/h)  \n",
    "$V_{fan,rtd,H}$：定格暖房能力運転時の送風機の風量($m^3$/h)  \n"
   ]
  },
  {
   "cell_type": "markdown",
   "metadata": {},
   "source": [
    "#### B.4 複数のダクト式セントラル空調機が設置される場合の仕様の決定方法"
   ]
  },
  {
   "cell_type": "markdown",
   "metadata": {},
   "source": [
    "省略"
   ]
  }
 ],
 "metadata": {
  "kernelspec": {
   "display_name": "Python 3",
   "language": "python",
   "name": "python3"
  },
  "language_info": {
   "codemirror_mode": {
    "name": "ipython",
    "version": 3
   },
   "file_extension": ".py",
   "mimetype": "text/x-python",
   "name": "python",
   "nbconvert_exporter": "python",
   "pygments_lexer": "ipython3",
   "version": "3.7.3"
  }
 },
 "nbformat": 4,
 "nbformat_minor": 2
}
