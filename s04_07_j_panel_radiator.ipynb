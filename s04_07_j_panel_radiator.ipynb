{
 "cells": [
  {
   "cell_type": "code",
   "execution_count": null,
   "metadata": {},
   "outputs": [],
   "source": [
    "import nbimporter\n",
    "import numpy as np\n",
    "import s04_07_m_max_capacity_of_radiator as appendix_M"
   ]
  },
  {
   "cell_type": "markdown",
   "metadata": {},
   "source": [
    "## 付録J　パネルラジエーター  / Appendix J Panel Radiator"
   ]
  },
  {
   "cell_type": "markdown",
   "metadata": {},
   "source": [
    "### J.1 記号及び単位 / Symbol and unit"
   ]
  },
  {
   "cell_type": "markdown",
   "metadata": {},
   "source": [
    "省略"
   ]
  },
  {
   "cell_type": "markdown",
   "metadata": {},
   "source": [
    "ommision"
   ]
  },
  {
   "cell_type": "markdown",
   "metadata": {},
   "source": [
    "### J.2 温水供給運転率 / Hot water supply operation rate"
   ]
  },
  {
   "cell_type": "markdown",
   "metadata": {},
   "source": [
    "$$\\large\n",
    "r_{WS,rad} = \\frac{Q_{T,H,rad}}{Q_{max,rad}}\n",
    "$$"
   ]
  },
  {
   "cell_type": "markdown",
   "metadata": {},
   "source": [
    "$r_{WS,rad}$：1 時間平均の放熱器の温水供給運転率 / 1 hour average radiator hot water supply operation rate  \n",
    "$Q_{T,H,rad}$：1 時間当たりの放熱器の処理暖房負荷(MJ/h) / Radiator processing heating load per hour  \n",
    "$Q_{max,rad}$：1 時間当たりの放熱器の最大暖房出力(MJ/h) / Maximum heating power of radiator per hour  "
   ]
  },
  {
   "cell_type": "code",
   "execution_count": null,
   "metadata": {},
   "outputs": [],
   "source": [
    "def calc_r_WS_rad(region, mode, A_HCZ, R_type, Theta_SW, Q_T_H_rad):\n",
    "    \"\"\" 1時間平均の放熱器の温水供給運転率 (1)\n",
    "\n",
    "    :param region: 省エネルギー地域区分\n",
    "    :type region: int\n",
    "    :param mode: 運転モード 'い', 'ろ', 'は'\n",
    "    :type mode: str\n",
    "    :param A_HCZ: 暖冷房区画の床面積\n",
    "    :type A_HCZ: float\n",
    "    :param R_type: 居室の形式\n",
    "    :type R_type: string\n",
    "    :param Theta_SW: 往き温水温度 (℃)\n",
    "    :type Theta_SW: ndarray\n",
    "    :param Q_T_H_rad: 放熱器の処理暖房負荷\n",
    "    :type Q_T_H_rad: ndarray\n",
    "    :return: 1時間平均の放熱器の温水供給運転率 (1)\n",
    "    :rtype: ndarray\n",
    "    \"\"\"\n",
    "    # 放熱器の最大能力\n",
    "    q_max_rad = calc_q_max_rad(region, mode, A_HCZ, R_type)\n",
    "\n",
    "    # 最大暖房出力\n",
    "    Q_max_H_rad = get_Q_max_H_rad(Theta_SW, q_max_rad)\n",
    "\n",
    "    return Q_T_H_rad / Q_max_H_rad"
   ]
  },
  {
   "cell_type": "markdown",
   "metadata": {},
   "source": [
    "### J.3 最大暖房出力 / Maximum heating output"
   ]
  },
  {
   "cell_type": "markdown",
   "metadata": {},
   "source": [
    "$$\\large\n",
    "Q_{max,H,rad} = q_{max,rad} \\times \\frac{\\theta_{SW} - 20}{60 - 20} \\times 3600 \\div 10^{6}\n",
    "$$"
   ]
  },
  {
   "cell_type": "markdown",
   "metadata": {},
   "source": [
    "$q_{max,rad}$：放熱器の最大能力(W) / Maximum capacity of radiator  \n",
    "$\\theta_{SW}$：1 時間平均の往き送水温度(℃) / 1 hour average forward water temperature  "
   ]
  },
  {
   "cell_type": "code",
   "execution_count": null,
   "metadata": {},
   "outputs": [],
   "source": [
    "def get_Q_max_H_rad(Theta_SW, q_max_rad):\n",
    "    \"\"\" 最大暖房出力 (2)\n",
    "\n",
    "    :param Theta_SW: 往き温水温度 (℃)\n",
    "    :type Theta_SW: ndarray\n",
    "    :param q_max_rad: 放熱器の最大能力 （W）\n",
    "    :type q_max_rad: ndarray\n",
    "    :return: 最大暖房出力 (2)\n",
    "    :rtype: ndarray\n",
    "    \"\"\"\n",
    "    return np.ones(24*365) *  q_max_rad * (Theta_SW - 20) / (60 - 20) * 3600 / (10 ** 6)"
   ]
  },
  {
   "cell_type": "markdown",
   "metadata": {},
   "source": [
    "放熱器の最大能力$q_{max,rad}$は、付録Mに定める放熱器の最大能力$q_{max,rad}$に等しいものとする。"
   ]
  },
  {
   "cell_type": "markdown",
   "metadata": {},
   "source": [
    "The maximum capacity $ q_{max, rad} $ of the radiator is equal to the maximum capacity $ q_{max, rad} $ of the radiator defined in Appendix M."
   ]
  },
  {
   "cell_type": "code",
   "execution_count": null,
   "metadata": {},
   "outputs": [],
   "source": [
    "def calc_q_max_rad(region, mode, A_HCZ, R_type):\n",
    "    \"\"\" 放熱器の最大能力\n",
    "\n",
    "    :param region: 省エネルギー地域区分\n",
    "    :type region: int\n",
    "    :param mode: 運転モード 'い', 'ろ', 'は'\n",
    "    :type mode: str\n",
    "    :param A_HCZ: 暖冷房区画の床面積\n",
    "    :type A_HCZ: float\n",
    "    :param R_type: 居室の形式\n",
    "    :type R_type: string\n",
    "    :return: 放熱器の最大能力\n",
    "    :rtype: ndarray\n",
    "    \"\"\"\n",
    "    # 付録Mに定める放熱器の最大能力 q_max_rad に等しいものとする。\n",
    "    return appendix_M.calc_q_max_rad(region, mode, A_HCZ, R_type)"
   ]
  }
 ],
 "metadata": {
  "kernelspec": {
   "display_name": "Python 3",
   "language": "python",
   "name": "python3"
  },
  "language_info": {
   "codemirror_mode": {
    "name": "ipython",
    "version": 3
   },
   "file_extension": ".py",
   "mimetype": "text/x-python",
   "name": "python",
   "nbconvert_exporter": "python",
   "pygments_lexer": "ipython3",
   "version": "3.8.5"
  },
  "toc": {
   "base_numbering": 1,
   "nav_menu": {},
   "number_sections": false,
   "sideBar": true,
   "skip_h1_title": false,
   "title_cell": "Table of Contents",
   "title_sidebar": "Contents",
   "toc_cell": false,
   "toc_position": {},
   "toc_section_display": true,
   "toc_window_display": false
  }
 },
 "nbformat": 4,
 "nbformat_minor": 2
}
