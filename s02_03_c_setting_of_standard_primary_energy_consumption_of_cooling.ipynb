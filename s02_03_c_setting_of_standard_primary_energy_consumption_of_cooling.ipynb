{
 "cells": [
  {
   "cell_type": "markdown",
   "metadata": {},
   "source": [
    "## 付録 C 冷房設備の基準一次エネルギー消費量の算定に係る設定 / Appendix C Setting concerning calculation of standard primary energy consumption of cooling system"
   ]
  },
  {
   "cell_type": "markdown",
   "metadata": {},
   "source": [
    "### C.1 冷房方式 / Cooling method"
   ]
  },
  {
   "cell_type": "markdown",
   "metadata": {},
   "source": [
    "省略"
   ]
  },
  {
   "cell_type": "markdown",
   "metadata": {},
   "source": [
    "Omission"
   ]
  },
  {
   "cell_type": "markdown",
   "metadata": {},
   "source": [
    "### C.2 標準的な冷房設備 / Standard cooling equipment"
   ]
  },
  {
   "cell_type": "markdown",
   "metadata": {},
   "source": [
    "#### C.2.1 冷房設備の種類 / Type of cooling system"
   ]
  },
  {
   "cell_type": "markdown",
   "metadata": {},
   "source": [
    "<div style=\"text-align: center;font-weight: bold;\">表　冷房設備の種類<br>Table: Types of cooling equipment</div>\n",
    "\n",
    "<table>\n",
    "<thead>\n",
    "<tr>\n",
    "<th rowspan=\"4\">地域の区分<br>Segmentation of area</th>\n",
    "<th colspan=\"5\" style=\"text-align: center;\">冷房方式<br>Cooling method</th>\n",
    "</tr>\n",
    "<tr>\n",
    "<th rowspan=\"3\" style=\"vertical-align: top;\">住戸全体を連続的に<br>冷房する方式<br>A method of continuously cooling<br>the entire dwelling unit</th>\n",
    "<th colspan=\"4\" style=\"text-align: center;vertical-align: top;\">居室のみを冷房する方式<br>Method of cooling only the room</th>\n",
    "</tr>\n",
    "<tr>\n",
    "<th colspan=\"2\" style=\"text-align: center;\">主たる居室<br>Main room</th>\n",
    "<th colspan=\"2\" style=\"text-align: center;\">主たる居室以外の居室<br>Rooms other than the main room</th>\n",
    "</tr>\n",
    "<tr>\n",
    "<th style=\"text-align: center;\">連続運転<br>Continuous operation</th>\n",
    "<th style=\"text-align: center;\">間歇運転<br>Intermittent operation</th>\n",
    "<th style=\"text-align: center;\">連続運転<br>Continuous operation</th>\n",
    "<th style=\"text-align: center;\">間歇運転<br>Intermittent operation</th>\n",
    "</tr>\n",
    "</thead>\n",
    "\n",
    "<tbody>\n",
    "<tr>\n",
    "<th>1～8</th>\n",
    "<td>ダクト式セントラル空調機<br>Duct type central air conditioner</td>\n",
    "<td>‐</td>\n",
    "<td>ルームエア<br>コンディショナー<br>Room air conditioner</td>\n",
    "<td>‐</td>\n",
    "<td>ルームエア<br>コンディショナー<br>Room air conditioner</td>\n",
    "</tr>\n",
    "</tbody>\n",
    "</table>"
   ]
  },
  {
   "cell_type": "markdown",
   "metadata": {},
   "source": [
    "#### C.2.2 ダクト式セントラル空調機 / Duct type central air conditioner\t"
   ]
  },
  {
   "cell_type": "markdown",
   "metadata": {},
   "source": [
    "省略"
   ]
  },
  {
   "cell_type": "markdown",
   "metadata": {},
   "source": [
    "Omission"
   ]
  },
  {
   "cell_type": "markdown",
   "metadata": {},
   "source": [
    "#### C.2.3 ルームエアコンディショナー / Room air conditioner"
   ]
  },
  {
   "cell_type": "markdown",
   "metadata": {},
   "source": [
    "省略"
   ]
  },
  {
   "cell_type": "markdown",
   "metadata": {},
   "source": [
    "Omission"
   ]
  },
  {
   "cell_type": "code",
   "execution_count": null,
   "metadata": {},
   "outputs": [],
   "source": [
    "def get_table_c_1():\n",
    "    \"\"\"付録 C 冷房設備の基準一次エネルギー消費量の算定に係る設定\n",
    "    表 C.1 冷房設備の種類\n",
    "\n",
    "    :return: 冷房設備の種類\n",
    "    :rtype: tuple\n",
    "    \"\"\"\n",
    "    table_c_1 = [\n",
    "        ('ダクト式セントラル空調機', None, 'ルームエアコンディショナー', None, 'ルームエアコンディショナー')\n",
    "    ]\n",
    "    return table_c_1"
   ]
  }
 ],
 "metadata": {
  "kernelspec": {
   "display_name": "Python 3",
   "language": "python",
   "name": "python3"
  },
  "language_info": {
   "codemirror_mode": {
    "name": "ipython",
    "version": 3
   },
   "file_extension": ".py",
   "mimetype": "text/x-python",
   "name": "python",
   "nbconvert_exporter": "python",
   "pygments_lexer": "ipython3",
   "version": "3.8.5"
  }
 },
 "nbformat": 4,
 "nbformat_minor": 2
}
