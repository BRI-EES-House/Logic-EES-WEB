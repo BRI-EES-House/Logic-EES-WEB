{
 "cells": [
  {
   "cell_type": "markdown",
   "metadata": {},
   "source": [
    "## 付録 D バックアップボイラーの給湯部（ガス熱源） / Appendix D"
   ]
  },
  {
   "cell_type": "markdown",
   "metadata": {},
   "source": [
    "### D.1 記号及び単位 "
   ]
  },
  {
   "cell_type": "markdown",
   "metadata": {},
   "source": [
    "省略"
   ]
  },
  {
   "cell_type": "markdown",
   "metadata": {},
   "source": [
    "Omission"
   ]
  },
  {
   "cell_type": "markdown",
   "metadata": {},
   "source": [
    "### D.2 ガス消費量 "
   ]
  },
  {
   "cell_type": "markdown",
   "metadata": {},
   "source": [
    "給湯単機能の場合： "
   ]
  },
  {
   "cell_type": "markdown",
   "metadata": {},
   "source": [
    "$$\\large\n",
    "\\displaystyle\n",
    "E_{G,BB,DHW,d,t} = \\frac{L_{BB,DHW,k,d,t}}{e_{k,d}} + \\frac{L_{BB,DHW,s,d,t}}{e_{s,d}} + \\frac{L_{BB,DHW,w,d,t}}{e_{w,d}} + \\frac{L_{BB,DHW,b1,d,t}}{e_{b1,d}} + \\frac{L_{BB,DHW,ba1,d,t}}{e_{ba1,d}}\n",
    "$$"
   ]
  },
  {
   "cell_type": "markdown",
   "metadata": {},
   "source": [
    "ふろ給湯機（追焚なし）の場合： "
   ]
  },
  {
   "cell_type": "markdown",
   "metadata": {},
   "source": [
    "$$\\large\n",
    "\\displaystyle\n",
    "E_{G,BB,DHW,d,t} = \\frac{L_{BB,DHW,k,d,t}}{e_{k,d}} + \\frac{L_{BB,DHW,s,d,t}}{e_{s,d}} + \\frac{L_{BB,DHW,w,d,t}}{e_{w,d}} + \\frac{L_{BB,DHW,b2,d,t}}{e_{b2,d}} + \\frac{L_{BB,DHW,ba1,d,t}}{e_{ba1,d}}\n",
    "$$"
   ]
  },
  {
   "cell_type": "markdown",
   "metadata": {},
   "source": [
    "ふろ給湯機（追焚あり）の場合： "
   ]
  },
  {
   "cell_type": "markdown",
   "metadata": {},
   "source": [
    "$$\\large\n",
    "\\displaystyle\n",
    "E_{G,BB,DHW,d,t} = \\frac{L_{BB,DHW,k,d,t}}{e_{k,d}} + \\frac{L_{BB,DHW,s,d,t}}{e_{s,d}} + \\frac{L_{BB,DHW,w,d,t}}{e_{w,d}} + \\frac{L_{BB,DHW,b2,d,t}}{e_{b2,d}} + \\frac{L_{BB,DHW,ba2,d,t}}{e_{ba2,d}}\n",
    "$$"
   ]
  },
  {
   "cell_type": "markdown",
   "metadata": {},
   "source": [
    "$E_{G,BB,DHW,d,t}$：日付$d$の時刻$t$における1時間当たりの給湯機のガス消費量(MJ/h)  \n",
    "$L_{BB,DHW,k,d,t}$：日付$d$の時刻$t$における1時間当たりの台所水栓におけるバックアップボイラーが分担する給湯熱負荷(MJ/h)  \n",
    "$L_{BB,DHW,s,d,t}$：日付$d$の時刻$t$における1時間当たりの浴室シャワー水栓におけるバックアップボイラーが分担する給湯熱負荷(MJ/h)  \n",
    "$L_{BB,DHW,w,d,t}$：日付$d$の時刻$t$における1時間当たりの洗面水栓におけるバックアップボイラーが分担する給湯熱負荷(MJ/h)  \n",
    "$L_{BB,DHW,b1,d,t}$：日付$d$の時刻$t$における1時間当たりの浴槽水栓湯はり時におけるバックアップボイラーが分担する給湯熱負荷(MJ/h)  \n",
    "$L_{BB,DHW,b2,d,t}$：日付$d$の時刻$t$における1時間当たりの浴槽自動湯はり時におけるバックアップボイラーが分担する給湯熱負荷(MJ/h)  \n",
    "$L_{BB,DHW,ba1,d,t}$：日付$d$の時刻$t$における1時間当たりの浴槽水栓さし湯時におけるバックアップボイラーが分担する給湯熱負荷(MJ/h)  \n",
    "$L_{BB,DHW,ba2,d,t}$：日付$d$の時刻$t$における1時間当たりの浴槽追焚時におけるバックアップボイラーが分担する給湯熱負荷(MJ/h)  \n",
    "$e_{k,d}$：日付$d$における台所水栓におけるバックアップボイラーの給湯部の日平均効率(-)  \n",
    "$e_{s,d}$：日付$d$における浴室シャワー水栓におけるバックアップボイラーの給湯部の日平均効率(-)  \n",
    "$e_{w,d}$：日付$d$における洗面水栓におけるバックアップボイラーの給湯部の日平均効率(-)  \n",
    "$e_{b1,d}$：日付$d$における浴槽水栓湯はり時におけるバックアップボイラーの給湯部の日平均効率(-)  \n",
    "$e_{b2,d}$：日付$d$における浴槽自動湯はり時バックアップボイラーの給湯部の日平均効率(-)  \n",
    "$e_{ba1,d}$：日付$d$における浴槽水栓さし湯時におけるバックアップボイラーの給湯部の日平均効率(-)  \n",
    "$e_{ba2,d}$：日付$d$における浴槽追焚時におけるバックアップボイラーの給湯部の日平均効率(-)  \n"
   ]
  },
  {
   "cell_type": "markdown",
   "metadata": {},
   "source": [
    "$$\\large\n",
    "\\displaystyle\n",
    "E_{G,BB,DHW,ba2,d,t} = \\frac{L_{BB,DHW,ba2,d,t}}{e_{ba2,d}}\n",
    "$$"
   ]
  },
  {
   "cell_type": "markdown",
   "metadata": {},
   "source": [
    "$E_{G,BB,DHW,ba2,d,t}$：日付$d$の時刻$t$における1時間当たりの浴槽追焚時のバックアップボイラーのガス消費量(MJ/h)  \n",
    "$L_{BB,DHW,ba2,d,t}$：日付$d$の時刻$t$における1時間当たりの浴槽追焚時におけるバックアップボイラーが分担する給湯熱負荷(MJ/h)  \n",
    "$e_{ba2,d}$：日付$d$における浴槽追焚時におけるバックアップボイラーの給湯部の日平均効率(-)  \n"
   ]
  },
  {
   "cell_type": "markdown",
   "metadata": {},
   "source": [
    "各用途におけるバックアップボイラーの給湯部の日平均効率$e_{u,d}$は、効率が1.0を超えない範囲で式により表される。 "
   ]
  },
  {
   "cell_type": "markdown",
   "metadata": {},
   "source": [
    "$$\\large\n",
    "\\displaystyle\n",
    "e_{k,d} = a_{k} \\times \\theta_{ex,Ave,d}+b_{k} \\times (L_{BB,DHW,k,d}+L_{BB,DHW,w,d}) + c_{k}\n",
    "$$"
   ]
  },
  {
   "cell_type": "markdown",
   "metadata": {},
   "source": [
    "$$\\large\n",
    "\\displaystyle\n",
    "e_{s,d} = a_{s} \\times \\theta_{ex,Ave,d}+b_{s} \\times L_{BB,DHW,s,d} + c_{s}\n",
    "$$"
   ]
  },
  {
   "cell_type": "markdown",
   "metadata": {},
   "source": [
    "$$\\large\n",
    "\\displaystyle\n",
    "e_{w,d} = a_{w} \\times \\theta_{ex,Ave,d}+b_{w} \\times (L_{BB,DHW,k,d}+L_{BB,DHW,w,d}) + c_{w}\n",
    "$$"
   ]
  },
  {
   "cell_type": "markdown",
   "metadata": {},
   "source": [
    "$$\\large\n",
    "\\displaystyle\n",
    "e_{b1,d} = a_{b1} \\times \\theta_{ex,Ave,d}+b_{b1} \\times L_{BB,DHW,b1,d} + c_{b1}\n",
    "$$"
   ]
  },
  {
   "cell_type": "markdown",
   "metadata": {},
   "source": [
    "$$\\large\n",
    "\\displaystyle\n",
    "e_{b2,d} = a_{b2} \\times \\theta_{ex,Ave,d}+b_{b2} \\times L_{BB,DHW,b2,d} + c_{b2}\n",
    "$$"
   ]
  },
  {
   "cell_type": "markdown",
   "metadata": {},
   "source": [
    "$$\\large\n",
    "\\displaystyle\n",
    "e_{ba1,d} = a_{ba1} \\times \\theta_{ex,Ave,d}+b_{ba1} \\times L_{BB,DHW,ba1,d} + c_{ba1}\n",
    "$$"
   ]
  },
  {
   "cell_type": "markdown",
   "metadata": {},
   "source": [
    "$$\\large\n",
    "\\displaystyle\n",
    "e_{ba2,d} = a_{ba2} \\times \\theta_{ex,Ave,d}+b_{ba2} \\times L_{BB,DHW,ba2,d} + c_{ba2}\n",
    "$$"
   ]
  },
  {
   "cell_type": "markdown",
   "metadata": {},
   "source": [
    "$e_{k,d}$：日付$d$における台所水栓におけるバックアップボイラーの給湯部の日平均効率(-)  \n",
    "$e_{s,d}$：日付$d$における浴室シャワー水栓におけるバックアップボイラーの給湯部の日平均効率(-)  \n",
    "$e_{w,d}$：日付$d$における洗面水栓におけるバックアップボイラーの給湯部の日平均効率(-)  \n",
    "$e_{b1,d}$：日付$d$における浴槽水栓湯はり時におけるバックアップボイラーの給湯部の日平均効率(-)  \n",
    "$e_{b2,d}$：日付$d$における浴槽自動湯はり時バックアップボイラーの給湯部の日平均効率(-)  \n",
    "$e_{ba1,d}$：日付$d$における浴槽水栓さし湯時におけるバックアップボイラーの給湯部の日平均効率(-)  \n",
    "$e_{ba2,d}$：日付$d$における浴槽追焚時におけるバックアップボイラーの給湯部の日平均効率(-)  \n",
    "$L_{BB,DHW,k,d}$：日付$d$における1日当たりの台所水栓におけるバックアップボイラーが分担する給湯熱負荷(MJ/d)  \n",
    "$L_{BB,DHW,s,d}$：日付$d$における1日当たりの浴室シャワー水栓におけるバックアップボイラーが分担する給湯熱負荷(MJ/d)  \n",
    "$L_{BB,DHW,w,d}$：日付$d$における1日当たりの洗面水栓におけるバックアップボイラーが分担する給湯熱負荷(MJ/d)  \n",
    "$L_{BB,DHW,b1,d}$：日付$d$における1日当たりの浴槽水栓湯はり時におけるバックアップボイラーが分担する給湯熱負荷(MJ/d)  \n",
    "$L_{BB,DHW,b2,d}$：日付$d$における1日当たりの浴槽自動湯はり時におけるバックアップボイラーが分担する給湯熱負荷(MJ/d)  \n",
    "$L_{BB,DHW,ba1,d}$：日付$d$における1日当たりの浴槽水栓さし湯時におけるバックアップボイラーが分担する給湯熱負荷(MJ/d)  \n",
    "$L_{BB,DHW,ba2,d}$：日付$d$における1日当たりの浴槽追焚時におけるバックアップボイラーが分担する給湯熱負荷(MJ/d)  \n",
    "$\\theta_{ex,Ave,d}$：日付$d$における日平均外気温度(℃)  \n",
    "$a_{u}, b_{u}, c_{u}$：回帰係数(-)  \n",
    "$u$：用途を表す添え字($u,s,w,b1,b2,ba1,ba2$)  \n"
   ]
  },
  {
   "cell_type": "markdown",
   "metadata": {},
   "source": [
    "$$\\large\n",
    "\\displaystyle\n",
    "a_{u} = a_{std,u}\\times f_{hs}\n",
    "$$\n",
    "\n",
    "$$\\large\n",
    "\\displaystyle\n",
    "b_{u} = b_{std,u}\\times f_{hs}\n",
    "$$\n",
    "\n",
    "$$\\large\n",
    "\\displaystyle\n",
    "c_{u} = c_{std,u}\\times f_{hs}\n",
    "$$"
   ]
  },
  {
   "cell_type": "markdown",
   "metadata": {},
   "source": [
    "$a_{u}, b_{u}, c_{u}$：回帰係数(-)  \n",
    "$a_{std,u}, b_{std,u}, c_{std,u}$：表により求まる係数(-)  \n",
    "$f_{hs}$：バックアップボイラーの給湯部に対する効率の補正係数(-)  \n",
    "$u$：用途を表す添え字($u,s,w,b1,b2,ba1,ba2$)  \n"
   ]
  },
  {
   "cell_type": "markdown",
   "metadata": {},
   "source": [
    "<div style=\"text-align: center;font-weight: bold;\">表　バックアップボイラーの給湯部の効率の回帰係数$a_{std,u},b_{std,u}$及び$c_{std,u}$（熱源種別がガスの場合） </div>\n",
    "\n",
    "<table style=\"width: 100%;\">\n",
    "<thead>\n",
    "<tr>\n",
    "<th rowspan=\"3\" style=\"text-align: center;\">回帰係数</th>\n",
    "<th colspan=\"7\">添え字$u$（用途） </th>\n",
    "</tr>\n",
    "<tr>\n",
    "    <th>台所水栓</th>\n",
    "    <th>浴室<br>シャワー水栓</th>\n",
    "    <th>洗面水栓</th>\n",
    "    <th>浴槽水栓<br>湯はり</th>\n",
    "    <th>浴槽自動<br>湯はり</th>\n",
    "    <th>浴槽水栓<br>差し湯</th>\n",
    "    <th>浴槽追焚</th>\n",
    "</tr>\n",
    "<tr>\n",
    "<th>$k$</th><th>$s$</th><th>$w$</th><th>$b1$</th><th>$b2$</th><th>$ba1$</th><th>$ba2$</th>\n",
    "</tr>\n",
    "</thead>\n",
    "\n",
    "<tbody>\n",
    "<tr><th>$a_{std,u}$</th><td>0.0019</td><td>0.0006</td><td>0.0019</td><td>0.0000</td><td>0.0000</td><td>0.0000</td><td>0.0033</td></tr>\n",
    "<tr><th>$b_{std,u}$</th><td>0.0013</td><td>0.0005</td><td>0.0013</td><td>0.0002</td><td>-0.0005</td><td>0.0002</td><td>0.0194</td></tr>\n",
    "<tr><th>$c_{std,u}$</th><td>0.6533</td><td>0.7414</td><td>0.6533</td><td>0.7839</td><td>0.7828</td><td>0.7839</td><td>0.5776</td></tr>\n",
    "</tbody>\n",
    "</table>"
   ]
  },
  {
   "cell_type": "markdown",
   "metadata": {},
   "source": [
    "$$\\large\n",
    "\\displaystyle\n",
    "f_{hs} = \\frac{(0.8754\\times e_{rtd}+0.060)}{0.745}\n",
    "$$"
   ]
  },
  {
   "cell_type": "markdown",
   "metadata": {},
   "source": [
    "$e_{rtd}$：当該バックアップボイラーの給湯部の効率(-)  \n",
    "$f_{hs}$：バックアップボイラーの給湯部に対する効率の補正係数(-)  \n"
   ]
  },
  {
   "cell_type": "markdown",
   "metadata": {},
   "source": [
    "### D.3 バックアップボイラーの保温時の補機による消費電力量"
   ]
  },
  {
   "cell_type": "markdown",
   "metadata": {},
   "source": [
    "$$\\large\n",
    "E_{E,BB,aux,ba2,d,t} = \\left\\{ \\begin{array}{ll}\n",
    "    (0.01723 \\times L_{BB,aux,ba2,d} + 0.06099) \\times 10^3 \\div 3600 \\times \\frac{L_{BB,aux,ba2,d,t}}{L_{BB,aux,ba2,d}} &(L_{BB,aux,ba2,d} > 0)\\\\ \n",
    "    0&(L_{BB,aux,ba2,d} = 0)\\\\ \n",
    "    \\end{array}\n",
    "\\right.\n",
    "$$"
   ]
  },
  {
   "cell_type": "markdown",
   "metadata": {},
   "source": [
    "$E_{E,BB,aux,ba2,d,t}$：日付$d$の時刻$t$における1 時間当たりのバックアップボイラーの保温時の補機による消費電力量(kWh/h)  \n",
    "$L_{BB,DHW,ba2,d}$：日付$d$における1日当たりの浴槽追焚時におけるバックアップボイラーが分担する給湯熱負荷(MJ/d)  \n",
    "$L_{BB,DHW,ba2,d,t}$：日付$d$の時刻$t$における1時間当たりの浴槽追焚時におけるバックアップボイラーが分担する給湯熱負荷(MJ/h)  \n"
   ]
  },
  {
   "cell_type": "markdown",
   "metadata": {},
   "source": [
    "### D.4 1 日当たりの太陽熱補正給湯熱負荷"
   ]
  },
  {
   "cell_type": "markdown",
   "metadata": {},
   "source": [
    "$$\\large\n",
    "L_{BB,DHW,k,d} = \\sum^{23}_{t=0} L_{BB,DHW,k,d,t}\n",
    "$$"
   ]
  },
  {
   "cell_type": "markdown",
   "metadata": {},
   "source": [
    "$$\\large\n",
    "L_{BB,DHW,s,d} = \\sum^{23}_{t=0} L_{BB,DHW,s,d,t}\n",
    "$$"
   ]
  },
  {
   "cell_type": "markdown",
   "metadata": {},
   "source": [
    "$$\\large\n",
    "L_{BB,DHW,w,d} = \\sum^{23}_{t=0} L_{BB,DHW,w,d,t}\n",
    "$$"
   ]
  },
  {
   "cell_type": "markdown",
   "metadata": {},
   "source": [
    "$$\\large\n",
    "L_{BB,DHW,b1,d} = \\sum^{23}_{t=0} L_{BB,DHW,b1,d,t}\n",
    "$$"
   ]
  },
  {
   "cell_type": "markdown",
   "metadata": {},
   "source": [
    "$$\\large\n",
    "L_{BB,DHW,b2,d} = \\sum^{23}_{t=0} L_{BB,DHW,b2,d,t}\n",
    "$$"
   ]
  },
  {
   "cell_type": "markdown",
   "metadata": {},
   "source": [
    "$$\\large\n",
    "L_{BB,DHW,ba1,d} = \\sum^{23}_{t=0} L_{BB,DHW,ba1,d,t}\n",
    "$$"
   ]
  },
  {
   "cell_type": "markdown",
   "metadata": {},
   "source": [
    "$$\\large\n",
    "L_{BB,DHW,ba2,d} = \\sum^{23}_{t=0} L_{BB,DHW,ba2,d,t}\n",
    "$$"
   ]
  },
  {
   "cell_type": "markdown",
   "metadata": {},
   "source": [
    "$L_{BB,DHW,k,d,t}$：日付$d$の時刻$t$における1時間当たりの台所水栓におけるバックアップボイラーが分担する給湯熱負荷(MJ/h)  \n",
    "$L_{BB,DHW,s,d,t}$：日付$d$の時刻$t$における1時間当たりの浴室シャワー水栓におけるバックアップボイラーが分担する給湯熱負荷(MJ/h)  \n",
    "$L_{BB,DHW,w,d,t}$：日付$d$の時刻$t$における1時間当たりの洗面水栓におけるバックアップボイラーが分担する給湯熱負荷(MJ/h)  \n",
    "$L_{BB,DHW,b1,d,t}$：日付$d$の時刻$t$における1時間当たりの浴槽水栓湯はり時におけるバックアップボイラーが分担する給湯熱負荷(MJ/h)  \n",
    "$L_{BB,DHW,b2,d,t}$：日付$d$の時刻$t$における1時間当たりの浴槽自動湯はり時におけるバックアップボイラーが分担する給湯熱負荷(MJ/h)  \n",
    "$L_{BB,DHW,ba1,d,t}$：日付$d$の時刻$t$における1時間当たりの浴槽水栓さし湯時におけるバックアップボイラーが分担する給湯熱負荷(MJ/h)  \n",
    "$L_{BB,DHW,ba2,d,t}$：日付$d$の時刻$t$における1時間当たりの浴槽追焚時におけるバックアップボイラーが分担する給湯熱負荷(MJ/h)  \n",
    "$L_{BB,DHW,k,d}$：日付$d$における1日当たりの台所水栓におけるバックアップボイラーが分担する給湯熱負荷(MJ/d)  \n",
    "$L_{BB,DHW,s,d}$：日付$d$における1日当たりの浴室シャワー水栓におけるバックアップボイラーが分担する給湯熱負荷(MJ/d)  \n",
    "$L_{BB,DHW,w,d}$：日付$d$における1日当たりの洗面水栓におけるバックアップボイラーが分担する給湯熱負荷(MJ/d)  \n",
    "$L_{BB,DHW,b1,d}$：日付$d$における1日当たりの浴槽水栓湯はり時におけるバックアップボイラーが分担する給湯熱負荷(MJ/d)  \n",
    "$L_{BB,DHW,b2,d}$：日付$d$における1日当たりの浴槽自動湯はり時におけるバックアップボイラーが分担する給湯熱負荷(MJ/d)  \n",
    "$L_{BB,DHW,ba1,d}$：日付$d$における1日当たりの浴槽水栓さし湯時におけるバックアップボイラーが分担する給湯熱負荷(MJ/d)  \n",
    "$L_{BB,DHW,ba2,d}$：日付$d$における1日当たりの浴槽追焚時におけるバックアップボイラーが分担する給湯熱負荷(MJ/d)  \n"
   ]
  },
  {
   "cell_type": "code",
   "execution_count": null,
   "metadata": {},
   "outputs": [],
   "source": []
  }
 ],
 "metadata": {
  "kernelspec": {
   "display_name": "Python 3",
   "language": "python",
   "name": "python3"
  },
  "language_info": {
   "codemirror_mode": {
    "name": "ipython",
    "version": 3
   },
   "file_extension": ".py",
   "mimetype": "text/x-python",
   "name": "python",
   "nbconvert_exporter": "python",
   "pygments_lexer": "ipython3",
   "version": "3.6.6"
  }
 },
 "nbformat": 4,
 "nbformat_minor": 2
}
