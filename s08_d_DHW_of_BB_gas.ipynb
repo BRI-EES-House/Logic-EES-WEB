{
 "cells": [
  {
   "cell_type": "code",
   "execution_count": null,
   "metadata": {},
   "outputs": [],
   "source": [
    "import numpy as np"
   ]
  },
  {
   "cell_type": "markdown",
   "metadata": {},
   "source": [
    "## 付録 D バックアップボイラーの給湯部（ガス熱源） / Appendix D"
   ]
  },
  {
   "cell_type": "markdown",
   "metadata": {},
   "source": [
    "### D.1 記号及び単位 "
   ]
  },
  {
   "cell_type": "markdown",
   "metadata": {},
   "source": [
    "省略"
   ]
  },
  {
   "cell_type": "markdown",
   "metadata": {},
   "source": [
    "Omission"
   ]
  },
  {
   "cell_type": "markdown",
   "metadata": {},
   "source": [
    "### D.2 ガス消費量 "
   ]
  },
  {
   "cell_type": "markdown",
   "metadata": {},
   "source": [
    "給湯単機能の場合： "
   ]
  },
  {
   "cell_type": "markdown",
   "metadata": {},
   "source": [
    "$$\n",
    "\\displaystyle\n",
    "E_{G,BB,DHW,d,t} = \\frac{L_{BB,DHW,k,d,t}}{e_{k,d}} + \\frac{L_{BB,DHW,s,d,t}}{e_{s,d}} + \\frac{L_{BB,DHW,w,d,t}}{e_{w,d}} + \\frac{L_{BB,DHW,b1,d,t}}{e_{b1,d}} + \\frac{L_{BB,DHW,ba1,d,t}}{e_{ba1,d}}\n",
    "$$"
   ]
  },
  {
   "cell_type": "markdown",
   "metadata": {},
   "source": [
    "ふろ給湯機（追焚なし）の場合： "
   ]
  },
  {
   "cell_type": "markdown",
   "metadata": {},
   "source": [
    "$$\n",
    "\\displaystyle\n",
    "E_{G,BB,DHW,d,t} = \\frac{L_{BB,DHW,k,d,t}}{e_{k,d}} + \\frac{L_{BB,DHW,s,d,t}}{e_{s,d}} + \\frac{L_{BB,DHW,w,d,t}}{e_{w,d}} + \\frac{L_{BB,DHW,b2,d,t}}{e_{b2,d}} + \\frac{L_{BB,DHW,ba1,d,t}}{e_{ba1,d}}\n",
    "$$"
   ]
  },
  {
   "cell_type": "markdown",
   "metadata": {},
   "source": [
    "ふろ給湯機（追焚あり）の場合： "
   ]
  },
  {
   "cell_type": "markdown",
   "metadata": {},
   "source": [
    "$$\n",
    "\\displaystyle\n",
    "E_{G,BB,DHW,d,t} = \\frac{L_{BB,DHW,k,d,t}}{e_{k,d}} + \\frac{L_{BB,DHW,s,d,t}}{e_{s,d}} + \\frac{L_{BB,DHW,w,d,t}}{e_{w,d}} + \\frac{L_{BB,DHW,b2,d,t}}{e_{b2,d}} + \\frac{L_{BB,DHW,ba2,d,t}}{e_{ba2,d}}\n",
    "$$"
   ]
  },
  {
   "cell_type": "markdown",
   "metadata": {},
   "source": [
    "$E_{G,BB,DHW,d,t}$：日付$d$の時刻$t$における1時間当たりの給湯機のガス消費量(MJ/h)  \n",
    "$L_{BB,DHW,k,d,t}$：日付$d$の時刻$t$における1時間当たりの台所水栓におけるバックアップボイラーが分担する給湯熱負荷(MJ/h)  \n",
    "$L_{BB,DHW,s,d,t}$：日付$d$の時刻$t$における1時間当たりの浴室シャワー水栓におけるバックアップボイラーが分担する給湯熱負荷(MJ/h)  \n",
    "$L_{BB,DHW,w,d,t}$：日付$d$の時刻$t$における1時間当たりの洗面水栓におけるバックアップボイラーが分担する給湯熱負荷(MJ/h)  \n",
    "$L_{BB,DHW,b1,d,t}$：日付$d$の時刻$t$における1時間当たりの浴槽水栓湯はり時におけるバックアップボイラーが分担する給湯熱負荷(MJ/h)  \n",
    "$L_{BB,DHW,b2,d,t}$：日付$d$の時刻$t$における1時間当たりの浴槽自動湯はり時におけるバックアップボイラーが分担する給湯熱負荷(MJ/h)  \n",
    "$L_{BB,DHW,ba1,d,t}$：日付$d$の時刻$t$における1時間当たりの浴槽水栓さし湯時におけるバックアップボイラーが分担する給湯熱負荷(MJ/h)  \n",
    "$L_{BB,DHW,ba2,d,t}$：日付$d$の時刻$t$における1時間当たりの浴槽追焚時におけるバックアップボイラーが分担する給湯熱負荷(MJ/h)  \n",
    "$e_{k,d}$：日付$d$における台所水栓におけるバックアップボイラーの給湯部の日平均効率(-)  \n",
    "$e_{s,d}$：日付$d$における浴室シャワー水栓におけるバックアップボイラーの給湯部の日平均効率(-)  \n",
    "$e_{w,d}$：日付$d$における洗面水栓におけるバックアップボイラーの給湯部の日平均効率(-)  \n",
    "$e_{b1,d}$：日付$d$における浴槽水栓湯はり時におけるバックアップボイラーの給湯部の日平均効率(-)  \n",
    "$e_{b2,d}$：日付$d$における浴槽自動湯はり時バックアップボイラーの給湯部の日平均効率(-)  \n",
    "$e_{ba1,d}$：日付$d$における浴槽水栓さし湯時におけるバックアップボイラーの給湯部の日平均効率(-)  \n",
    "$e_{ba2,d}$：日付$d$における浴槽追焚時におけるバックアップボイラーの給湯部の日平均効率(-)  \n"
   ]
  },
  {
   "cell_type": "code",
   "execution_count": null,
   "metadata": {},
   "outputs": [],
   "source": [
    "def calc_E_G_BB_DHW_d_t(bath_function,\n",
    "                        L_BB_DHW_k_d_t, L_BB_DHW_s_d_t, L_BB_DHW_w_d_t,\n",
    "                        L_BB_DHW_b1_d_t, L_BB_DHW_b2_d_t, L_BB_DHW_ba1_d_t, L_BB_DHW_ba2_d_t,\n",
    "                        e_rtd_DHW_BB, Theta_ex_Ave):\n",
    "    \"\"\" 1時間当たりの給湯時のバックアップボイラーの燃料消費量 (MJ/h)\n",
    "\n",
    "    :param bath_function: ふろ機能の種類\n",
    "    :type bath_function: str\n",
    "    :param L_BB_DHW_k_d_t: 1時間当たりの台所水栓におけるバックアップボイラーが分担する給湯熱負荷 (MJ/d)\n",
    "    :type L_BB_DHW_k_d_t: ndarray\n",
    "    :param L_BB_DHW_s_d_t: 1時間当たりの浴室シャワー水栓におけるバックアップボイラーが分担する給湯熱負荷 (MJ/d)\n",
    "    :type L_BB_DHW_s_d_t: ndarray\n",
    "    :param L_BB_DHW_w_d_t: 1時間当たりの洗面水栓におけるバックアップボイラーが分担する給湯熱負荷 (MJ/d)\n",
    "    :type L_BB_DHW_w_d_t: ndarray\n",
    "    :param L_BB_DHW_b1_d_t: 1時間当たりの浴槽水栓湯はりにおけるバックアップボイラーが分担する給湯熱負荷 (MJ/d)\n",
    "    :type L_BB_DHW_b1_d_t: ndarray\n",
    "    :param L_BB_DHW_b2_d_t: 1時間当たりの浴槽自動湯はりにおけるバックアップボイラーが分担する給湯熱負荷 (MJ/d)\n",
    "    :type L_BB_DHW_b2_d_t: ndarray\n",
    "    :param L_BB_DHW_ba1_d_t: 1時間当たりの浴槽水栓さし湯におけるバックアップボイラーが分担する給湯熱負荷 (MJ/d)\n",
    "    :type L_BB_DHW_ba1_d_t: ndarray\n",
    "    :param L_BB_DHW_ba2_d_t: 1時間当たりの浴槽追焚時におけるバックアップボイラーが分担する給湯熱負荷 (MJ/d)\n",
    "    :type L_BB_DHW_ba2_d_t: ndarray\n",
    "    :param e_rtd_DHW_BB: バックアップボイラー(給湯)の給湯機の効率\n",
    "    :type e_rtd_DHW_BB: float\n",
    "    :param Theta_ex_Ave: 外気温度 (℃)\n",
    "    :type Theta_ex_Ave: ndarray\n",
    "    :return: 1時間当たりの給湯時のバックアップボイラーの燃料消費量 (MJ/h)\n",
    "    :rtype: ndarray\n",
    "    \"\"\"\n",
    "    # 1日当たりの太陽熱補正給湯熱負荷 (7)\n",
    "    L_BB_DHW_k_d = get_L_BB_DHW_k_d(L_BB_DHW_k_d_t)\n",
    "    L_BB_DHW_s_d = get_L_BB_DHW_k_d(L_BB_DHW_s_d_t)\n",
    "    L_BB_DHW_w_d = get_L_BB_DHW_k_d(L_BB_DHW_w_d_t)\n",
    "    L_BB_DHW_b1_d = get_L_BB_DHW_k_d(L_BB_DHW_b1_d_t)\n",
    "    L_BB_DHW_b2_d = get_L_BB_DHW_k_d(L_BB_DHW_b2_d_t)\n",
    "    L_BB_DHW_ba1_d = get_L_BB_DHW_k_d(L_BB_DHW_ba1_d_t)\n",
    "    L_BB_DHW_ba2_d = get_L_BB_DHW_k_d(L_BB_DHW_ba2_d_t)\n",
    "\n",
    "    # 1時間当たりのバックアップボイラーの保温時の補機による消費電力量 (kWh/h) (6)\n",
    "    E_E_BB_aux_ba2_d_t = get_E_E_BB_aux_ba2_d_t(L_BB_DHW_ba2_d_t)\n",
    "\n",
    "    # 各用途における日平均バックアップボイラー効率 (-) (2)\n",
    "    e_k_d, e_w_d, e_s_d, e_b1_d, e_b2_d, e_ba1_d, e_ba2_d = calc_e_x_d(e_rtd_DHW_BB, Theta_ex_Ave,\n",
    "                                                                       L_BB_DHW_k_d, L_BB_DHW_w_d, L_BB_DHW_s_d,\n",
    "                                                                       L_BB_DHW_b1_d, L_BB_DHW_b2_d,\n",
    "                                                                       L_BB_DHW_ba1_d, L_BB_DHW_ba2_d)\n",
    "\n",
    "    # 1時間当たりの浴槽追焚時のバックアップボイラーのガス消費量 (MJ/d) (3)\n",
    "    E_G_BB_DHW_ba2_d_t = get_E_G_BB_DHW_ba2_d_t(L_BB_DHW_ba2_d_t, e_ba2_d)\n",
    "\n",
    "    # 1時間当たりの給湯時のバックアップボイラーの燃料消費量 (MJ/h) (1)\n",
    "    E_G_BB_DHW_d_t = get_E_G_BB_DHW_d_t(bath_function, L_BB_DHW_k_d_t, L_BB_DHW_s_d_t, L_BB_DHW_w_d_t,\n",
    "                                        L_BB_DHW_b1_d_t, L_BB_DHW_b2_d_t, L_BB_DHW_ba1_d_t, L_BB_DHW_ba2_d_t,\n",
    "                                        e_k_d, e_s_d, e_w_d,\n",
    "                                        e_b1_d, e_b2_d, e_ba1_d, e_ba2_d)\n",
    "\n",
    "    '''\n",
    "    print('L_BB_DHW_k = {} [MJ/yr]'.format(np.sum(L_BB_DHW_k_d_t)))\n",
    "    print('L_BB_DHW_s = {} [MJ/yr]'.format(np.sum(L_BB_DHW_s_d_t)))\n",
    "    print('L_BB_DHW_w = {} [MJ/yr]'.format(np.sum(L_BB_DHW_w_d_t)))\n",
    "    print('L_BB_DHW_b1 = {} [MJ/yr]'.format(np.sum(L_BB_DHW_b1_d_t)))\n",
    "    print('L_BB_DHW_b2 = {} [MJ/yr]'.format(np.sum(L_BB_DHW_b2_d_t)))\n",
    "    print('L_BB_DHW_ba1 = {} [MJ/yr]'.format(np.sum(L_BB_DHW_ba1_d_t)))\n",
    "    print('L_BB_DHW_ba2 = {} [MJ/yr]'.format(np.sum(L_BB_DHW_ba2_d_t)))\n",
    "    print('sum(e_k_d) = {} [-]'.format(np.sum(e_k_d)))\n",
    "    print('sum(e_s_d) = {} [-]'.format(np.sum(e_s_d)))\n",
    "    print('sum(e_w_d) = {} [-]'.format(np.sum(e_w_d)))\n",
    "    print('sum(e_b1_d) = {} [-]'.format(np.sum(e_b1_d)))\n",
    "    print('sum(e_b2_d) = {} [-]'.format(np.sum(e_b2_d)))\n",
    "    print('sum(e_ba1_d) = {} [-]'.format(np.sum(e_ba1_d)))\n",
    "    print('sum(e_ba2_d) = {} [-]'.format(np.sum(e_ba2_d)))\n",
    "    '''\n",
    "\n",
    "    return E_G_BB_DHW_d_t, E_G_BB_DHW_ba2_d_t\n"
   ]
  },
  {
   "cell_type": "code",
   "execution_count": null,
   "metadata": {},
   "outputs": [],
   "source": [
    "def get_E_G_BB_DHW_d_t(bath_function,\n",
    "                       L_BB_DHW_k_d_t, L_BB_DHW_s_d_t, L_BB_DHW_w_d_t,\n",
    "                       L_BB_DHW_b1_d_t, L_BB_DHW_b2_d_t, L_BB_DHW_ba1_d_t, L_BB_DHW_ba2_d_t,\n",
    "                       e_k_d, e_s_d, e_w_d,\n",
    "                       e_b1_d, e_b2_d, e_ba1_d, e_ba2_d):\n",
    "    \"\"\"1時間当たりの給湯時のバックアップボイラーの燃料消費量 (MJ/h) (1)\n",
    "\n",
    "    :param bath_function: ふろ機能の種類\n",
    "    :type bath_function: str\n",
    "    :param L_BB_DHW_k_d_t: 1時間当たりの台所水栓におけるバックアップボイラーが分担する給湯熱負荷 (MJ/d)\n",
    "    :type L_BB_DHW_k_d_t: ndarray\n",
    "    :param L_BB_DHW_s_d_t: 1時間当たりの浴室シャワー水栓におけるバックアップボイラーが分担する給湯熱負荷 (MJ/d)\n",
    "    :type L_BB_DHW_s_d_t: ndarray\n",
    "    :param L_BB_DHW_w_d_t: 1時間当たりの洗面水栓におけるバックアップボイラーが分担する給湯熱負荷 (MJ/d)\n",
    "    :type L_BB_DHW_w_d_t: ndarray\n",
    "    :param L_BB_DHW_b1_d_t: 1時間当たりの浴槽水栓湯はりにおけるバックアップボイラーが分担する給湯熱負荷 (MJ/d)\n",
    "    :type L_BB_DHW_b1_d_t: ndarray\n",
    "    :param L_BB_DHW_b2_d_t: 1時間当たりの浴槽自動湯はりにおけるバックアップボイラーが分担する給湯熱負荷 (MJ/d)\n",
    "    :type L_BB_DHW_b2_d_t: ndarray\n",
    "    :param L_BB_DHW_ba1_d_t: 1時間当たりの浴槽水栓さし湯におけるバックアップボイラーが分担する給湯熱負荷 (MJ/d)\n",
    "    :type L_BB_DHW_ba1_d_t: ndarray\n",
    "    :param L_BB_DHW_ba2_d_t: 1時間当たりの浴槽追焚時におけるバックアップボイラーが分担する給湯熱負荷 (MJ/d)\n",
    "    :type L_BB_DHW_ba2_d_t: ndarray\n",
    "    :param e_k_d: 台所水栓における日平均バックアップボイラー効率 (-)\n",
    "    :type e_k_d:　ndarray\n",
    "    :param e_s_d:　シャワー水栓における日平均バックアップボイラー効率 (-)\n",
    "    :type e_s_d: ndarray\n",
    "    :param e_w_d:　洗面水栓における日平均バックアップボイラー効率 (-)\n",
    "    :type e_w_d: ndarray\n",
    "    :param e_b1_d:　浴槽水栓湯はりにおける日平均バックアップボイラー効率 (-)\n",
    "    :type e_b1_d: ndarray\n",
    "    :param e_b2_d:　浴槽自動湯はりにおける日平均バックアップボイラー効率 (-)\n",
    "    :type e_b2_d: ndarray\n",
    "    :param e_ba1_d:　浴槽水栓さし湯における日平均バックアップボイラー効率 (-)\n",
    "    :type e_ba1_d: ndarray\n",
    "    :param e_ba2_d:　浴槽追焚における日平均バックアップボイラー効率 (-)\n",
    "    :type e_ba2_d: ndarray\n",
    "    :return: 1時間当たりの給湯時のバックアップボイラーの燃料消費量\n",
    "    :rtype: ndarray\n",
    "    \"\"\"\n",
    "    e_k_d = np.repeat(e_k_d, 24)\n",
    "    e_s_d = np.repeat(e_s_d, 24)\n",
    "    e_w_d = np.repeat(e_w_d, 24)\n",
    "    e_b1_d = np.repeat(e_b1_d, 24)\n",
    "    e_b2_d = np.repeat(e_b2_d, 24)\n",
    "    e_ba1_d = np.repeat(e_ba1_d, 24)\n",
    "    e_ba2_d = np.repeat(e_ba2_d, 24)\n",
    "\n",
    "    if bath_function == '給湯単機能':\n",
    "        # 給湯単機能の場合 (1a)\n",
    "        E_G_BB_DHW_d_t = (L_BB_DHW_k_d_t / e_k_d\n",
    "                          + L_BB_DHW_s_d_t / e_s_d\n",
    "                          + L_BB_DHW_w_d_t / e_w_d\n",
    "                          + L_BB_DHW_b1_d_t / e_b1_d\n",
    "                          + L_BB_DHW_ba1_d_t / e_ba1_d)\n",
    "    elif bath_function == 'ふろ給湯機(追焚なし)':\n",
    "        # ふろ給湯機(追焚なし)の場合 (1b)\n",
    "        E_G_BB_DHW_d_t = (L_BB_DHW_k_d_t / e_k_d\n",
    "                          + L_BB_DHW_s_d_t / e_s_d\n",
    "                          + L_BB_DHW_w_d_t / e_w_d\n",
    "                          + L_BB_DHW_b2_d_t / e_b2_d\n",
    "                          + L_BB_DHW_ba1_d_t / e_ba1_d)\n",
    "    elif bath_function == 'ふろ給湯機(追焚あり)':\n",
    "        # ふろ給湯機(追焚あり)の場合 (1c)\n",
    "        E_G_BB_DHW_d_t = (L_BB_DHW_k_d_t / e_k_d\n",
    "                          + L_BB_DHW_s_d_t / e_s_d\n",
    "                          + L_BB_DHW_w_d_t / e_w_d\n",
    "                          + L_BB_DHW_b2_d_t / e_b2_d\n",
    "                          + L_BB_DHW_ba2_d_t / e_ba2_d)\n",
    "    else:\n",
    "        raise ValueError(bath_function)\n",
    "\n",
    "    return E_G_BB_DHW_d_t\n"
   ]
  },
  {
   "cell_type": "markdown",
   "metadata": {},
   "source": [
    "$$\\large\n",
    "\\displaystyle\n",
    "E_{G,BB,DHW,ba2,d,t} = \\frac{L_{BB,DHW,ba2,d,t}}{e_{ba2,d}}\n",
    "$$"
   ]
  },
  {
   "cell_type": "markdown",
   "metadata": {},
   "source": [
    "$E_{G,BB,DHW,ba2,d,t}$：日付$d$の時刻$t$における1時間当たりの浴槽追焚時のバックアップボイラーのガス消費量(MJ/h)  \n",
    "$L_{BB,DHW,ba2,d,t}$：日付$d$の時刻$t$における1時間当たりの浴槽追焚時におけるバックアップボイラーが分担する給湯熱負荷(MJ/h)  \n",
    "$e_{ba2,d}$：日付$d$における浴槽追焚時におけるバックアップボイラーの給湯部の日平均効率(-)  \n"
   ]
  },
  {
   "cell_type": "code",
   "execution_count": null,
   "metadata": {},
   "outputs": [],
   "source": [
    "def get_E_G_BB_DHW_ba2_d_t(L_BB_DHW_ba2_d_t, e_ba2_d):\n",
    "    \"\"\"1時間当たりの浴槽追焚時のバックアップボイラーのガス消費量 (MJ/d) (2)\n",
    "\n",
    "    :param L_BB_DHW_ba2_d_t: 1時間当たりの浴槽追焚時のバックアップボイラーのガス消費量 (MJ/h)\n",
    "    :type L_BB_DHW_ba2_d_t: ndarray\n",
    "    :param e_ba2_d: 浴槽追焚時におけるバックアップボイラーの給湯部の日平均効率 (-)\n",
    "    :type e_ba2_d: ndarray\n",
    "    :return: 1時間当たりの浴槽追焚時のバックアップボイラーのガス消費量 (MJ/d)\n",
    "    :rtype: ndarray\n",
    "    \"\"\"\n",
    "    E_G_BB_DHW_ba2_d_t = L_BB_DHW_ba2_d_t / np.repeat(e_ba2_d, 24)\n",
    "    return E_G_BB_DHW_ba2_d_t\n"
   ]
  },
  {
   "cell_type": "markdown",
   "metadata": {},
   "source": [
    "各用途におけるバックアップボイラーの給湯部の日平均効率$e_{u,d}$は、効率が1.0を超えない範囲で式により表される。 "
   ]
  },
  {
   "cell_type": "markdown",
   "metadata": {},
   "source": [
    "$$\\large\n",
    "\\displaystyle\n",
    "e_{k,d} = a_{k} \\times \\theta_{ex,Ave,d}+b_{k} \\times (L_{BB,DHW,k,d}+L_{BB,DHW,w,d}) + c_{k}\n",
    "$$"
   ]
  },
  {
   "cell_type": "markdown",
   "metadata": {},
   "source": [
    "$$\\large\n",
    "\\displaystyle\n",
    "e_{s,d} = a_{s} \\times \\theta_{ex,Ave,d}+b_{s} \\times L_{BB,DHW,s,d} + c_{s}\n",
    "$$"
   ]
  },
  {
   "cell_type": "markdown",
   "metadata": {},
   "source": [
    "$$\\large\n",
    "\\displaystyle\n",
    "e_{w,d} = a_{w} \\times \\theta_{ex,Ave,d}+b_{w} \\times (L_{BB,DHW,k,d}+L_{BB,DHW,w,d}) + c_{w}\n",
    "$$"
   ]
  },
  {
   "cell_type": "markdown",
   "metadata": {},
   "source": [
    "$$\\large\n",
    "\\displaystyle\n",
    "e_{b1,d} = a_{b1} \\times \\theta_{ex,Ave,d}+b_{b1} \\times L_{BB,DHW,b1,d} + c_{b1}\n",
    "$$"
   ]
  },
  {
   "cell_type": "markdown",
   "metadata": {},
   "source": [
    "$$\\large\n",
    "\\displaystyle\n",
    "e_{b2,d} = a_{b2} \\times \\theta_{ex,Ave,d}+b_{b2} \\times L_{BB,DHW,b2,d} + c_{b2}\n",
    "$$"
   ]
  },
  {
   "cell_type": "markdown",
   "metadata": {},
   "source": [
    "$$\\large\n",
    "\\displaystyle\n",
    "e_{ba1,d} = a_{ba1} \\times \\theta_{ex,Ave,d}+b_{ba1} \\times L_{BB,DHW,ba1,d} + c_{ba1}\n",
    "$$"
   ]
  },
  {
   "cell_type": "markdown",
   "metadata": {},
   "source": [
    "$$\\large\n",
    "\\displaystyle\n",
    "e_{ba2,d} = a_{ba2} \\times \\theta_{ex,Ave,d}+b_{ba2} \\times L_{BB,DHW,ba2,d} + c_{ba2}\n",
    "$$"
   ]
  },
  {
   "cell_type": "markdown",
   "metadata": {},
   "source": [
    "$e_{k,d}$：日付$d$における台所水栓におけるバックアップボイラーの給湯部の日平均効率(-)  \n",
    "$e_{s,d}$：日付$d$における浴室シャワー水栓におけるバックアップボイラーの給湯部の日平均効率(-)  \n",
    "$e_{w,d}$：日付$d$における洗面水栓におけるバックアップボイラーの給湯部の日平均効率(-)  \n",
    "$e_{b1,d}$：日付$d$における浴槽水栓湯はり時におけるバックアップボイラーの給湯部の日平均効率(-)  \n",
    "$e_{b2,d}$：日付$d$における浴槽自動湯はり時バックアップボイラーの給湯部の日平均効率(-)  \n",
    "$e_{ba1,d}$：日付$d$における浴槽水栓さし湯時におけるバックアップボイラーの給湯部の日平均効率(-)  \n",
    "$e_{ba2,d}$：日付$d$における浴槽追焚時におけるバックアップボイラーの給湯部の日平均効率(-)  \n",
    "$L_{BB,DHW,k,d}$：日付$d$における1日当たりの台所水栓におけるバックアップボイラーが分担する給湯熱負荷(MJ/d)  \n",
    "$L_{BB,DHW,s,d}$：日付$d$における1日当たりの浴室シャワー水栓におけるバックアップボイラーが分担する給湯熱負荷(MJ/d)  \n",
    "$L_{BB,DHW,w,d}$：日付$d$における1日当たりの洗面水栓におけるバックアップボイラーが分担する給湯熱負荷(MJ/d)  \n",
    "$L_{BB,DHW,b1,d}$：日付$d$における1日当たりの浴槽水栓湯はり時におけるバックアップボイラーが分担する給湯熱負荷(MJ/d)  \n",
    "$L_{BB,DHW,b2,d}$：日付$d$における1日当たりの浴槽自動湯はり時におけるバックアップボイラーが分担する給湯熱負荷(MJ/d)  \n",
    "$L_{BB,DHW,ba1,d}$：日付$d$における1日当たりの浴槽水栓さし湯時におけるバックアップボイラーが分担する給湯熱負荷(MJ/d)  \n",
    "$L_{BB,DHW,ba2,d}$：日付$d$における1日当たりの浴槽追焚時におけるバックアップボイラーが分担する給湯熱負荷(MJ/d)  \n",
    "$\\theta_{ex,Ave,d}$：日付$d$における日平均外気温度(℃)  \n",
    "$a_{u}, b_{u}, c_{u}$：回帰係数(-)  \n",
    "$u$：用途を表す添え字($u,s,w,b1,b2,ba1,ba2$)  \n"
   ]
  },
  {
   "cell_type": "code",
   "execution_count": null,
   "metadata": {},
   "outputs": [],
   "source": [
    "def calc_e_x_d(e_rtd_DHW_BB, Theta_ex_Ave,\n",
    "               L_BB_DHW_k_d, L_BB_DHW_w_d, L_BB_DHW_s_d,\n",
    "               L_BB_DHW_b1_d, L_BB_DHW_b2_d,\n",
    "               L_BB_DHW_ba1_d, L_BB_DHW_ba2_d):\n",
    "    \"\"\"各用途における日平均バックアップボイラー効率 (-) (3)\n",
    "\n",
    "    :param e_rtd_DHW_BB: バックアップボイラーの給湯機の効率\n",
    "    :type e_rtd_DHW_BB: float\n",
    "    :param Theta_ex_Ave: 日平均外気温度 (℃)\n",
    "    :type Theta_ex_Ave: ndarray\n",
    "    :param L_BB_DHW_k_d: 1日当たりの台所水栓におけるバックアップボイラーが分担する給湯熱負荷 (MJ/d)\n",
    "    :type L_BB_DHW_k_d: ndarray\n",
    "    :param L_BB_DHW_w_d: 1日当たりの洗面水栓におけるバックアップボイラーが分担する給湯熱負荷 (MJ/d)\n",
    "    :type L_BB_DHW_w_d: ndarray_\n",
    "    :param L_BB_DHW_s_d: 1日当たりの浴室シャワー水栓におけるバックアップボイラーが分担する給湯熱負荷 (MJ/d)\n",
    "    :type L_BB_DHW_s_d: ndarray\n",
    "    :param L_BB_DHW_b1_d: 1日当たりの浴槽水栓湯はりにおけるバックアップボイラーが分担する給湯熱負荷 (MJ/d)\n",
    "    :type L_BB_DHW_b1_d: ndarray\n",
    "    :param L_BB_DHW_b2_d: 1日当たりの浴槽自動湯はりにおけるバックアップボイラーが分担する給湯熱負荷 (MJ/d)\n",
    "    :type L_BB_DHW_b2_d: ndarray\n",
    "    :param L_BB_DHW_ba1_d: 1日当たりの浴槽水栓さし湯におけるバックアップボイラーが分担する給湯熱負荷 (MJ/d)\n",
    "    :type L_BB_DHW_ba1_d: ndarray\n",
    "    :param L_BB_DHW_ba2_d: 1日当たりの浴槽追焚時におけるバックアップボイラーが分担する給湯熱負荷 (MJ/d)\n",
    "    :type L_BB_DHW_ba2_d: ndarray\n",
    "    :return: 台所水栓・洗面水栓・浴室シャワー水栓・浴槽水栓湯はり・浴槽自動湯はり・浴槽水栓さし巣・浴槽追焚ににおける日平均バックアップボイラー効率 e_BB_k_d, e_BB_w_d, e_BB_s_d, e_BB_b1_d, e_BB_b2_d, e_BB_ba1_d, e_BB_ba2_d\n",
    "    :rtype: tuple\n",
    "    \"\"\"\n",
    "    f_hs = get_f_hs(e_rtd_DHW_BB)\n",
    "    e_k_d = get_e_k(Theta_ex_Ave, L_BB_DHW_k_d, L_BB_DHW_w_d, f_hs)\n",
    "    e_w_d = get_e_w(Theta_ex_Ave, L_BB_DHW_k_d, L_BB_DHW_w_d, f_hs)\n",
    "    e_s_d = get_e_s(Theta_ex_Ave, L_BB_DHW_s_d, f_hs)\n",
    "    e_b1_d = get_e_b1(Theta_ex_Ave, L_BB_DHW_b1_d, f_hs)\n",
    "    e_b2_d = get_e_b2(Theta_ex_Ave, L_BB_DHW_b2_d, f_hs)\n",
    "    e_ba1_d = get_e_ba1(Theta_ex_Ave, L_BB_DHW_ba1_d, f_hs)\n",
    "    e_ba2_d = calc_e_ba2(Theta_ex_Ave, L_BB_DHW_ba2_d, f_hs)\n",
    "\n",
    "    return e_k_d, e_w_d, e_s_d, e_b1_d, e_b2_d, e_ba1_d, e_ba2_d\n",
    "\n",
    "\n",
    "def get_e_k(Theta_ex_Ave, L_BB_DHW_k, L_BB_DHW_w, f_hs):\n",
    "    \"\"\"台所水栓の給湯使用時における日平均給湯機効率 (3a)\n",
    "\n",
    "    :param Theta_ex_Ave: 日平均外気温度 (℃)\n",
    "    :type Theta_ex_Ave: ndarray\n",
    "    :param L_BB_DHW_k: 1日当たりの台所水栓におけるバックアップボイラーが分担する給湯熱負荷\n",
    "    :type L_BB_DHW_k: ndarray\n",
    "    :param L_BB_DHW_w: 1日当たりの洗面水栓におけるバックアップボイラーが分担する給湯熱負荷\n",
    "    :type L_BB_DHW_w: ndarray\n",
    "    :param f_hs: 当該給湯機に対する効率の補正係数\n",
    "    :type f_hs: float\n",
    "    :return: 台所水栓の給湯使用時における日平均給湯機効率\n",
    "    :rtype: ndarray\n",
    "    \"\"\"\n",
    "    # 日平均給湯機効率を計算するための回帰係数\n",
    "    std_k = get_std_u('k')\n",
    "    a_k, b_k, c_k = get_rcoeff(std_k, f_hs)\n",
    "\n",
    "    e_k = np.clip(a_k * Theta_ex_Ave + b_k * (L_BB_DHW_k + L_BB_DHW_w) + c_k, 0, 1)\n",
    "\n",
    "    return e_k\n",
    "\n",
    "\n",
    "def get_e_s(Theta_ex_Ave, L_BB_DHW_s, f_hs):\n",
    "    \"\"\"浴室シャワー水栓の給湯使用時における日平均給湯機効率 (3b)\n",
    "\n",
    "    :param Theta_ex_Ave: 日平均外気温度 (℃)\n",
    "    :type ndarray\n",
    "    :param L_BB_DHW_s: 浴室シャワー水栓におけるバックアップボイラーが分担する給湯熱負荷\n",
    "    :type L_BB_DHW_s: ndarray\n",
    "    :param f_hs: 当該給湯機に対する効率の補正係数\n",
    "    :type f_hs: float\n",
    "    :return: 浴室シャワー水栓の給湯使用時における日平均給湯機効率\n",
    "    :rtype: ndarray\n",
    "    \"\"\"\n",
    "    # 日平均給湯機効率を計算するための回帰係数\n",
    "    std_s = get_std_u('s')\n",
    "    a_s, b_s, c_s = get_rcoeff(std_s, f_hs)\n",
    "\n",
    "    e_s = np.clip(a_s * Theta_ex_Ave + b_s * L_BB_DHW_s + c_s, 0, 1)\n",
    "\n",
    "    return e_s\n",
    "\n",
    "\n",
    "def get_e_w(Theta_ex_Ave, L_BB_DHW_k, L_dashdash_w, f_hs):\n",
    "    \"\"\"洗面水栓の給湯使用時における日平均給湯機効率 (3c)\n",
    "\n",
    "    :param Theta_ex_Ave: 日平均外気温度 (℃)\n",
    "    :type Theta_ex_Ave: ndarray\n",
    "    :param L_BB_DHW_k: 1日当たりの台所水栓におけるバックアップボイラーが分担する給湯熱負荷\n",
    "    :type L_BB_DHW_k: ndarray\n",
    "    :param L_dashdash_w: 1日当たりの洗面水栓におけるバックアップボイラーが分担する給湯熱負荷\n",
    "    :type L_dashdash_w: ndarray\n",
    "    :param f_hs: 当該給湯機に対する効率の補正係数\n",
    "    :type f_hs: float\n",
    "    :return: 洗面水栓の給湯使用時における日平均給湯機効率\n",
    "    :rtype: ndarray\n",
    "    \"\"\"\n",
    "    # 日平均給湯機効率を計算するための回帰係数\n",
    "    std_w = get_std_u('w')\n",
    "    a_w, b_w, c_w = get_rcoeff(std_w, f_hs)\n",
    "\n",
    "    e_w = np.clip(a_w * Theta_ex_Ave + b_w * (L_BB_DHW_k + L_dashdash_w) + c_w, 0, 1)\n",
    "\n",
    "    return e_w\n",
    "\n",
    "\n",
    "def get_e_b1(Theta_ex_Ave, L_BB_DHW_b1, f_hs):\n",
    "    \"\"\"浴槽水栓湯はり時における日平均給湯機効率 (3d)\n",
    "\n",
    "    :param Theta_ex_Ave: 日平均外気温度 (℃)\n",
    "    :type Theta_ex_Ave: ndarray\n",
    "    :param L_BB_DHW_b1: 1日当たりの浴槽水栓湯はり時におけるバックアップボイラーが分担する給湯熱負荷\n",
    "    :type L_BB_DHW_b1: ndarray\n",
    "    :param f_hs: 当該給湯機に対する効率の補正係数\n",
    "    :type f_hs: float\n",
    "    :return: 浴槽水栓湯はり時における日平均給湯機効率\n",
    "    :rtype: ndarray\n",
    "    \"\"\"\n",
    "    # 日平均給湯機効率を計算するための回帰係数\n",
    "    std_b1 = get_std_u('b1')\n",
    "    a_b1, b_b1, c_b1 = get_rcoeff(std_b1, f_hs)\n",
    "\n",
    "    e_b1 = np.clip(a_b1 * Theta_ex_Ave + b_b1 * L_BB_DHW_b1 + c_b1, 0, 1)\n",
    "\n",
    "    return e_b1\n",
    "\n",
    "\n",
    "def get_e_b2(Theta_ex_Ave, L_BB_DHW_b2, f_hs):\n",
    "    \"\"\"浴槽自動湯はり時における日平均給湯機効率 (3e)\n",
    "\n",
    "    :param Theta_ex_Ave: 日平均外気温度 (℃)\n",
    "    :type Theta_ex_Ave: ndarray\n",
    "    :param L_BB_DHW_b2: 1日当たりの浴槽水栓湯はり時におけるバックアップボイラーが分担する給湯熱負荷\n",
    "    :type L_BB_DHW_b2: ndarray\n",
    "    :param f_hs: 当該給湯機に対する効率の補正係数\n",
    "    :type f_hs: float\n",
    "    :return: 浴槽自動湯はり時における日平均給湯機効率\n",
    "    :rtype: ndarray\n",
    "    \"\"\"\n",
    "    # 日平均給湯機効率を計算するための回帰係数\n",
    "    std_b2 = get_std_u('b2')\n",
    "    a_b2, b_b2, c_b2 = get_rcoeff(std_b2, f_hs)\n",
    "\n",
    "    e_b2 = np.clip(a_b2 * Theta_ex_Ave + b_b2 * L_BB_DHW_b2 + c_b2, 0, 1)\n",
    "\n",
    "    return e_b2\n",
    "\n",
    "\n",
    "def get_e_ba1(Theta_ex_Ave, L_BB_DHW_ba1, f_hs):\n",
    "    \"\"\"浴槽水栓さし湯時における日平均給湯機効率 (3f)\n",
    "\n",
    "    :param Theta_ex_Ave: 日平均外気温度 (℃)\n",
    "    :type Theta_ex_Ave: ndarray\n",
    "    :param L_BB_DHW_ba1: 1日当たりの浴槽水栓さし湯時におけるバックアップボイラーが分担する給湯熱負荷\n",
    "    :type L_BB_DHW_ba1: ndarray\n",
    "    :param f_hs: 当該給湯機に対する効率の補正係数\n",
    "    :return: 浴槽水栓さし湯時における日平均給湯機効率\n",
    "    \"\"\"\n",
    "    # 日平均給湯機効率を計算するための回帰係数\n",
    "    std_ba1 = get_std_u('ba1')\n",
    "    a_ba1, b_ba1, c_ba1 = get_rcoeff(std_ba1, f_hs)\n",
    "\n",
    "    e_ba1 = np.clip(a_ba1 * Theta_ex_Ave + b_ba1 * L_BB_DHW_ba1 + c_ba1, 0, 1)\n",
    "\n",
    "    return e_ba1\n",
    "\n",
    "\n",
    "def calc_e_ba2(Theta_ex_Ave, L_BB_DHW_ba2, f_hs):\n",
    "    \"\"\"浴槽追追焚時における日平均給湯機効率 (3g)\n",
    "\n",
    "    :param Theta_ex_Ave: 日平均外気温度 (℃)\n",
    "    :type Theta_ex_Ave: ndarray\n",
    "    :param L_BB_DHW_ba2: 1日当たりの浴槽追焚時におけるバックアップボイラーが分担する給湯熱負荷 (MJ/d)\n",
    "    :type L_BB_DHW_ba2: ndarray\n",
    "    :param f_hs: 当該給湯機に対する効率の補正係数\n",
    "    :type f_hs: float\n",
    "    :return: 浴槽追追焚時における日平均給湯機効率\n",
    "    :rtype: ndarray\n",
    "    \"\"\"\n",
    "    # 日平均給湯機効率を計算するための回帰係数\n",
    "    std_ba2 = get_std_u('ba2')\n",
    "    a_ba2, b_ba2, c_ba2 = get_rcoeff(std_ba2, f_hs)\n",
    "\n",
    "    e_ba2 = np.clip(a_ba2 * Theta_ex_Ave + b_ba2 * L_BB_DHW_ba2 + c_ba2, 0, 1)\n",
    "\n",
    "    return e_ba2"
   ]
  },
  {
   "cell_type": "markdown",
   "metadata": {},
   "source": [
    "$$\\large\n",
    "\\displaystyle\n",
    "a_{u} = a_{std,u}\\times f_{hs}\n",
    "$$\n",
    "\n",
    "$$\\large\n",
    "\\displaystyle\n",
    "b_{u} = b_{std,u}\\times f_{hs}\n",
    "$$\n",
    "\n",
    "$$\\large\n",
    "\\displaystyle\n",
    "c_{u} = c_{std,u}\\times f_{hs}\n",
    "$$"
   ]
  },
  {
   "cell_type": "markdown",
   "metadata": {},
   "source": [
    "$a_{u}, b_{u}, c_{u}$：回帰係数(-)  \n",
    "$a_{std,u}, b_{std,u}, c_{std,u}$：表により求まる係数(-)  \n",
    "$f_{hs}$：バックアップボイラーの給湯部に対する効率の補正係数(-)  \n",
    "$u$：用途を表す添え字($u,s,w,b1,b2,ba1,ba2$)  \n"
   ]
  },
  {
   "cell_type": "code",
   "execution_count": null,
   "metadata": {},
   "outputs": [],
   "source": [
    "def get_rcoeff(std_u, f_hs):\n",
    "    \"\"\"a_u, b_u, c_uの取得 (4a)(4b)(4c)\n",
    "\n",
    "    :param std_u: 表D.3により求まる係数 (-)\n",
    "    :type std_u:\n",
    "    :param f_hs: バックアップボイラーの給湯部に対する効率の補正係数 (-)\n",
    "    :return: 日平均給湯機効率を計算するための回帰係数 a_u, b_u, c_u\n",
    "    \"\"\"\n",
    "    a_u = std_u[0] * f_hs\n",
    "    b_u = std_u[1] * f_hs\n",
    "    c_u = std_u[2] * f_hs\n",
    "    return a_u, b_u, c_u\n"
   ]
  },
  {
   "cell_type": "markdown",
   "metadata": {},
   "source": [
    "<div style=\"text-align: center;font-weight: bold;\">表　バックアップボイラーの給湯部の効率の回帰係数$a_{std,u},b_{std,u}$及び$c_{std,u}$（熱源種別がガスの場合） </div>\n",
    "\n",
    "<table style=\"width: 100%;\">\n",
    "<thead>\n",
    "<tr>\n",
    "<th rowspan=\"3\" style=\"text-align: center;\">回帰係数</th>\n",
    "<th colspan=\"7\">添え字$u$（用途） </th>\n",
    "</tr>\n",
    "<tr>\n",
    "    <th>台所水栓</th>\n",
    "    <th>浴室<br>シャワー水栓</th>\n",
    "    <th>洗面水栓</th>\n",
    "    <th>浴槽水栓<br>湯はり</th>\n",
    "    <th>浴槽自動<br>湯はり</th>\n",
    "    <th>浴槽水栓<br>差し湯</th>\n",
    "    <th>浴槽追焚</th>\n",
    "</tr>\n",
    "<tr>\n",
    "<th>$k$</th><th>$s$</th><th>$w$</th><th>$b1$</th><th>$b2$</th><th>$ba1$</th><th>$ba2$</th>\n",
    "</tr>\n",
    "</thead>\n",
    "\n",
    "<tbody>\n",
    "<tr><th>$a_{std,u}$</th><td>0.0019</td><td>0.0006</td><td>0.0019</td><td>0.0000</td><td>0.0000</td><td>0.0000</td><td>0.0033</td></tr>\n",
    "<tr><th>$b_{std,u}$</th><td>0.0013</td><td>0.0005</td><td>0.0013</td><td>0.0002</td><td>-0.0005</td><td>0.0002</td><td>0.0194</td></tr>\n",
    "<tr><th>$c_{std,u}$</th><td>0.6533</td><td>0.7414</td><td>0.6533</td><td>0.7839</td><td>0.7828</td><td>0.7839</td><td>0.5776</td></tr>\n",
    "</tbody>\n",
    "</table>"
   ]
  },
  {
   "cell_type": "code",
   "execution_count": null,
   "metadata": {},
   "outputs": [],
   "source": [
    "def get_std_u(u):\n",
    "    \"\"\"バックアップボイラーの給湯部の効率の回帰係数a_std_u, b_std_u, c_std_u\n",
    "\n",
    "    :param u: 用途を表す添え字(k,s,w,b1,b2,ba1,ba2)\n",
    "    :type u: str\n",
    "    :return: バックアップボイラーの給湯部の効率の回帰係数a_std_u, b_std_u, c_std_u\n",
    "    :rtype: tuple\n",
    "    \"\"\"\n",
    "    # 表C.3 バックアップボイラーの給湯部の効率の回帰係数a_std_u, b_std_u, c_std_u\n",
    "    table_d_3 = [\n",
    "        (0.0019, 0.0006, 0.0019, 0.0000, 0.0000, 0.0000, 0.0033),\n",
    "        (0.0013, 0.0005, 0.0013, 0.0002, -0.0005, 0.0002, 0.0194),\n",
    "        (0.6533, 0.7414, 0.6533, 0.7839, 0.7828, 0.7839, 0.5776)\n",
    "    ]\n",
    "    i = {'k': 0, 's': 1, 'w': 2, 'b1': 3, 'b2': 4, 'ba1': 5, 'ba2': 6}[u]\n",
    "    return table_d_3[0][i], table_d_3[1][i], table_d_3[2][i]\n"
   ]
  },
  {
   "cell_type": "markdown",
   "metadata": {},
   "source": [
    "$$\\large\n",
    "\\displaystyle\n",
    "f_{hs} = \\frac{(0.8754\\times e_{rtd}+0.060)}{0.745}\n",
    "$$"
   ]
  },
  {
   "cell_type": "markdown",
   "metadata": {},
   "source": [
    "$e_{rtd}$：当該バックアップボイラーの給湯部の効率(-)  \n",
    "$f_{hs}$：バックアップボイラーの給湯部に対する効率の補正係数(-)  \n"
   ]
  },
  {
   "cell_type": "code",
   "execution_count": null,
   "metadata": {},
   "outputs": [],
   "source": [
    "def get_f_hs(e_rtd):\n",
    "    \"\"\"バックアップボイラーの給湯部に対する効率の補正係数 f_hs (5)\n",
    "\n",
    "    :param e_rtd: 当該バックアップボイラーの給湯部の効率 (-)\n",
    "    :type e_rtd: float\n",
    "    :return: バックアップボイラーの給湯部に対する効率の補正係数 (-)\n",
    "    :rtype: float\n",
    "    \"\"\"\n",
    "    return (0.8754 * e_rtd + 0.060) / 0.745\n"
   ]
  },
  {
   "cell_type": "markdown",
   "metadata": {},
   "source": [
    "### D.3 バックアップボイラーの保温時の補機による消費電力量"
   ]
  },
  {
   "cell_type": "markdown",
   "metadata": {},
   "source": [
    "$$\\large\n",
    "E_{E,BB,aux,ba2,d,t} = \\left\\{ \\begin{array}{ll}\n",
    "    (0.01723 \\times L_{BB,aux,ba2,d} + 0.06099) \\times 10^3 \\div 3600 \\times \\frac{L_{BB,aux,ba2,d,t}}{L_{BB,aux,ba2,d}} &(L_{BB,aux,ba2,d} > 0)\\\\ \n",
    "    0&(L_{BB,aux,ba2,d} = 0)\\\\ \n",
    "    \\end{array}\n",
    "\\right.\n",
    "$$"
   ]
  },
  {
   "cell_type": "markdown",
   "metadata": {},
   "source": [
    "$E_{E,BB,aux,ba2,d,t}$：日付$d$の時刻$t$における1 時間当たりのバックアップボイラーの保温時の補機による消費電力量(kWh/h)  \n",
    "$L_{BB,DHW,ba2,d}$：日付$d$における1日当たりの浴槽追焚時におけるバックアップボイラーが分担する給湯熱負荷(MJ/d)  \n",
    "$L_{BB,DHW,ba2,d,t}$：日付$d$の時刻$t$における1時間当たりの浴槽追焚時におけるバックアップボイラーが分担する給湯熱負荷(MJ/h)  \n"
   ]
  },
  {
   "cell_type": "code",
   "execution_count": null,
   "metadata": {},
   "outputs": [],
   "source": [
    "def get_E_E_BB_aux_ba2_d_t(L_BB_DHW_ba2_d_t):\n",
    "    \"\"\"1時間当たりのバックアップボイラーの保温時の補機による消費電力量 (kWh/h) (6)\n",
    "\n",
    "    :param L_BB_DHW_ba2_d_t: 1時間当たりの浴槽追焚時における太陽熱補正給湯熱負荷 (MJ/h)\n",
    "    :type L_BB_DHW_ba2_d_t: ndarray\n",
    "    :return: 1時間当たりのバックアップボイラーの保温時の補機による消費電力量 (kWh/h)\n",
    "    :rtype: ndarray\n",
    "    \"\"\"\n",
    "    E_E_BB_aux_ba2_d_t = np.zeros(24 * 365)\n",
    "\n",
    "    L_BB_DHW_ba2_d = np.repeat(get_L_BB_DHW_ba2_d(L_BB_DHW_ba2_d_t), 24)\n",
    "\n",
    "    # L_BB_DHW_ba2_d > 0 の場合\n",
    "    f1 = L_BB_DHW_ba2_d > 0\n",
    "    E_E_BB_aux_ba2_d_t[f1] = (0.01723 * L_BB_DHW_ba2_d[f1] + 0.06099) * 10 ** 3 / 3600 \\\n",
    "                             * (L_BB_DHW_ba2_d_t[f1] / L_BB_DHW_ba2_d[f1])\n",
    "\n",
    "    # L_BB_DHW_ba2_d == 0 の場合\n",
    "    f2 = L_BB_DHW_ba2_d == 0\n",
    "    E_E_BB_aux_ba2_d_t[f2] = 0\n",
    "\n",
    "    return E_E_BB_aux_ba2_d_t\n"
   ]
  },
  {
   "cell_type": "markdown",
   "metadata": {},
   "source": [
    "### D.4 1 日当たりの太陽熱補正給湯熱負荷"
   ]
  },
  {
   "cell_type": "markdown",
   "metadata": {},
   "source": [
    "$$\\large\n",
    "L_{BB,DHW,k,d} = \\sum^{23}_{t=0} L_{BB,DHW,k,d,t}\n",
    "$$"
   ]
  },
  {
   "cell_type": "markdown",
   "metadata": {},
   "source": [
    "$$\\large\n",
    "L_{BB,DHW,s,d} = \\sum^{23}_{t=0} L_{BB,DHW,s,d,t}\n",
    "$$"
   ]
  },
  {
   "cell_type": "markdown",
   "metadata": {},
   "source": [
    "$$\\large\n",
    "L_{BB,DHW,w,d} = \\sum^{23}_{t=0} L_{BB,DHW,w,d,t}\n",
    "$$"
   ]
  },
  {
   "cell_type": "markdown",
   "metadata": {},
   "source": [
    "$$\\large\n",
    "L_{BB,DHW,b1,d} = \\sum^{23}_{t=0} L_{BB,DHW,b1,d,t}\n",
    "$$"
   ]
  },
  {
   "cell_type": "markdown",
   "metadata": {},
   "source": [
    "$$\\large\n",
    "L_{BB,DHW,b2,d} = \\sum^{23}_{t=0} L_{BB,DHW,b2,d,t}\n",
    "$$"
   ]
  },
  {
   "cell_type": "markdown",
   "metadata": {},
   "source": [
    "$$\\large\n",
    "L_{BB,DHW,ba1,d} = \\sum^{23}_{t=0} L_{BB,DHW,ba1,d,t}\n",
    "$$"
   ]
  },
  {
   "cell_type": "markdown",
   "metadata": {},
   "source": [
    "$$\\large\n",
    "L_{BB,DHW,ba2,d} = \\sum^{23}_{t=0} L_{BB,DHW,ba2,d,t}\n",
    "$$"
   ]
  },
  {
   "cell_type": "markdown",
   "metadata": {},
   "source": [
    "$L_{BB,DHW,k,d,t}$：日付$d$の時刻$t$における1時間当たりの台所水栓におけるバックアップボイラーが分担する給湯熱負荷(MJ/h)  \n",
    "$L_{BB,DHW,s,d,t}$：日付$d$の時刻$t$における1時間当たりの浴室シャワー水栓におけるバックアップボイラーが分担する給湯熱負荷(MJ/h)  \n",
    "$L_{BB,DHW,w,d,t}$：日付$d$の時刻$t$における1時間当たりの洗面水栓におけるバックアップボイラーが分担する給湯熱負荷(MJ/h)  \n",
    "$L_{BB,DHW,b1,d,t}$：日付$d$の時刻$t$における1時間当たりの浴槽水栓湯はり時におけるバックアップボイラーが分担する給湯熱負荷(MJ/h)  \n",
    "$L_{BB,DHW,b2,d,t}$：日付$d$の時刻$t$における1時間当たりの浴槽自動湯はり時におけるバックアップボイラーが分担する給湯熱負荷(MJ/h)  \n",
    "$L_{BB,DHW,ba1,d,t}$：日付$d$の時刻$t$における1時間当たりの浴槽水栓さし湯時におけるバックアップボイラーが分担する給湯熱負荷(MJ/h)  \n",
    "$L_{BB,DHW,ba2,d,t}$：日付$d$の時刻$t$における1時間当たりの浴槽追焚時におけるバックアップボイラーが分担する給湯熱負荷(MJ/h)  \n",
    "$L_{BB,DHW,k,d}$：日付$d$における1日当たりの台所水栓におけるバックアップボイラーが分担する給湯熱負荷(MJ/d)  \n",
    "$L_{BB,DHW,s,d}$：日付$d$における1日当たりの浴室シャワー水栓におけるバックアップボイラーが分担する給湯熱負荷(MJ/d)  \n",
    "$L_{BB,DHW,w,d}$：日付$d$における1日当たりの洗面水栓におけるバックアップボイラーが分担する給湯熱負荷(MJ/d)  \n",
    "$L_{BB,DHW,b1,d}$：日付$d$における1日当たりの浴槽水栓湯はり時におけるバックアップボイラーが分担する給湯熱負荷(MJ/d)  \n",
    "$L_{BB,DHW,b2,d}$：日付$d$における1日当たりの浴槽自動湯はり時におけるバックアップボイラーが分担する給湯熱負荷(MJ/d)  \n",
    "$L_{BB,DHW,ba1,d}$：日付$d$における1日当たりの浴槽水栓さし湯時におけるバックアップボイラーが分担する給湯熱負荷(MJ/d)  \n",
    "$L_{BB,DHW,ba2,d}$：日付$d$における1日当たりの浴槽追焚時におけるバックアップボイラーが分担する給湯熱負荷(MJ/d)  \n"
   ]
  },
  {
   "cell_type": "code",
   "execution_count": null,
   "metadata": {},
   "outputs": [],
   "source": [
    "def get_L_BB_DHW_k_d(L_BB_DHW_k_d_t):\n",
    "    \"\"\"1日当たりの台所水栓におけるバックアップボイラーが分担する給湯熱負荷 (MJ/d) (7a)\n",
    "\n",
    "    :param L_BB_DHW_k_d_t: 1時間当たりの台所水栓におけるバックアップボイラーが分担する給湯熱負荷 (MJ/h)\n",
    "    :type L_BB_DHW_k_d_t: ndarray\n",
    "    :return: 1日当たりの台所水栓におけるバックアップボイラーが分担する給湯熱負荷 (MJ/d)\n",
    "    :rtype ndarray\n",
    "    \"\"\"\n",
    "    return np.sum(L_BB_DHW_k_d_t.reshape(365, 24), axis=1)\n",
    "\n",
    "\n",
    "def get_L_BB_DHW_s_d(L_BB_DHW_s_d_t):\n",
    "    \"\"\"1日当たりの浴室シャワー水栓におけるバックアップボイラーが分担する給湯熱負荷 (MJ/d) (7b)\n",
    "\n",
    "    :param L_BB_DHW_s_d_t: 1時間当たりの浴室シャワー水栓におけるバックアップボイラーが分担する給湯熱負荷 (MJ/h)\n",
    "    :type L_BB_DHW_s_d_t: ndarray\n",
    "    :return: 1日当たりの浴室シャワー水栓におけるバックアップボイラーが分担する給湯熱負荷 (MJ/d)\n",
    "    :rtype: ndarray\n",
    "    \"\"\"\n",
    "    return np.sum(L_BB_DHW_s_d_t.reshape(365, 24), axis=1)\n",
    "\n",
    "\n",
    "def get_L_BB_DHW_w_d(L_BB_DHW_w_d_t):\n",
    "    \"\"\"1日当たりの洗面水栓におけるバックアップボイラーが分担する給湯熱負荷 (MJ/d) (7c)\n",
    "\n",
    "    :param L_BB_DHW_w_d_t: 1時間当たりの洗面水栓におけるバックアップボイラーが分担する給湯熱負荷 (MJ/h)\n",
    "    :type L_BB_DHW_w_d_t: ndarray\n",
    "    :return: 1日当たりの洗面水栓におけるバックアップボイラーが分担する給湯熱負荷 (MJ/d)\n",
    "    :rtype: ndarray\n",
    "    \"\"\"\n",
    "    return np.sum(L_BB_DHW_w_d_t.reshape(365, 24), axis=1)\n",
    "\n",
    "\n",
    "def get_L_BB_DHW_b1_d(L_BB_DHW_b1_d_t):\n",
    "    \"\"\"1日当たりの浴槽水栓湯はり時におけるバックアップボイラーが分担する給湯熱負荷 (MJ/d) (7d)\n",
    "\n",
    "    :param L_BB_DHW_b1_d_t: 1時間当たりの浴槽水栓湯はり時におけるバックアップボイラーが分担する給湯熱負荷 (MJ/h)\n",
    "    :type L_BB_DHW_b1_d_t: ndarray\n",
    "    :return: 1日当たりの浴槽水栓湯はり時におけるバックアップボイラーが分担する給湯熱負荷 (MJ/d)\n",
    "    :rtype: ndarray\n",
    "    \"\"\"\n",
    "    return np.sum(L_BB_DHW_b1_d_t.reshape(365, 24), axis=1)\n",
    "\n",
    "\n",
    "def get_L_BB_DHW_b2_d(L_BB_DHW_b2_d_t):\n",
    "    \"\"\"1日当たりの浴槽自動湯はり時におけるバックアップボイラーが分担する給湯熱負荷 (MJ/d) (7e)\n",
    "\n",
    "    :param L_BB_DHW_b2_d_t: 1時間当たりの浴槽自動湯はり時におけるバックアップボイラーが分担する給湯熱負荷 (MJ/h)\n",
    "    :type L_BB_DHW_b2_d_t: ndarray\n",
    "    :return: 1日当たりの浴槽自動湯はり時におけるバックアップボイラーが分担する給湯熱負荷 (MJ/d)\n",
    "    :rtype: ndarray\n",
    "    \"\"\"\n",
    "    return np.sum(L_BB_DHW_b2_d_t.reshape(365, 24), axis=1)\n",
    "\n",
    "\n",
    "def get_L_BB_DHW_ba1_d(L_BB_DHW_ba1_d_t):\n",
    "    \"\"\"1日当たりの浴槽水栓さし湯時におけるバックアップボイラーが分担する給湯熱負荷 (MJ/d) (7f)\n",
    "\n",
    "    :param L_BB_DHW_ba1_d_t: 1時間当たりの浴槽水栓さし湯時におけるバックアップボイラーが分担する給湯熱負荷 (MJ/h)\n",
    "    :type ndarray\n",
    "    :return: 1日当たりの浴槽水栓さし湯時におけるバックアップボイラーが分担する給湯熱負荷 (MJ/d)\n",
    "    :rtype: ndarray\n",
    "    \"\"\"\n",
    "    return np.sum(L_BB_DHW_ba1_d_t.reshape(365, 24), axis=1)\n",
    "\n",
    "\n",
    "def get_L_BB_DHW_ba2_d(L_BB_DHW_ba2_d_t):\n",
    "    \"\"\"1日当たりの浴槽追焚時におけるバックアップボイラーが分担する給湯熱負荷 (MJ/d) (7g)\n",
    "\n",
    "    :param L_BB_DHW_ba2_d_t: 1時間当たりの浴槽追焚時におけるバックアップボイラーが分担する給湯熱負荷 (MJ/h)\n",
    "    :type L_BB_DHW_ba2_d_t: ndarray\n",
    "    :return: 1日当たりの浴槽追焚時におけるバックアップボイラーが分担する給湯熱負荷 (MJ/d)\n",
    "    :rtype: ndarray\n",
    "    \"\"\"\n",
    "    return np.sum(L_BB_DHW_ba2_d_t.reshape(365, 24), axis=1)\n"
   ]
  }
 ],
 "metadata": {
  "kernelspec": {
   "display_name": "Python 3",
   "language": "python",
   "name": "python3"
  },
  "language_info": {
   "codemirror_mode": {
    "name": "ipython",
    "version": 3
   },
   "file_extension": ".py",
   "mimetype": "text/x-python",
   "name": "python",
   "nbconvert_exporter": "python",
   "pygments_lexer": "ipython3",
   "version": "3.8.5"
  }
 },
 "nbformat": 4,
 "nbformat_minor": 2
}
