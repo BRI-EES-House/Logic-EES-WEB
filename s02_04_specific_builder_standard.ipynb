{
 "cells": [
  {
   "cell_type": "markdown",
   "metadata": {},
   "source": [
    "# 第二章　住宅部分の一次エネルギー消費量 / Chapter 2 Designed Primary Energy Consumption"
   ]
  },
  {
   "cell_type": "markdown",
   "metadata": {},
   "source": [
    "## 第四節　特定建築主基準"
   ]
  },
  {
   "cell_type": "markdown",
   "metadata": {},
   "source": [
    "### 7. 基準一次エネルギー消費量"
   ]
  },
  {
   "cell_type": "markdown",
   "metadata": {},
   "source": [
    "#### 7.1 基準一次エネルギー消費量"
   ]
  },
  {
   "cell_type": "markdown",
   "metadata": {},
   "source": [
    "基準一次エネルギー消費量$E^*_{ST}$は、特定建築主基準となる1 年当たりの一次エネルギー消費量$E^*_{ST,rb}$とする。"
   ]
  },
  {
   "cell_type": "markdown",
   "metadata": {},
   "source": [
    "令和2年3月までに新築する住宅："
   ]
  },
  {
   "cell_type": "markdown",
   "metadata": {},
   "source": [
    "$$\n",
    "\\large\n",
    "E^*_{ST,rb}=(E_{SH}+E_{SC}+E_{SV}+E_{SL}+E_{SW})\\times 0.9 + E_{SM}\n",
    "$$\n"
   ]
  },
  {
   "cell_type": "markdown",
   "metadata": {},
   "source": [
    "令和2年4月以降に新築する住宅："
   ]
  },
  {
   "cell_type": "markdown",
   "metadata": {},
   "source": [
    "$$\n",
    "\\large\n",
    "E^*_{ST,rb}=(E_{SH}+E_{SC}+E_{SV}+E_{SL}+E_{SW})\\times 0.85 + E_{SM}\n",
    "$$\n"
   ]
  },
  {
   "cell_type": "markdown",
   "metadata": {},
   "source": [
    "$E^*_{ST,rb}$：特定建築主基準となる1 年当たりの一次エネルギー消費量（MJ/yr）  \n",
    "$E_{SH}$：1 年当たりの暖房設備の基準一次エネルギー消費量（MJ/yr）  \n",
    "$E_{SC}$：1 年当たりの冷房設備の基準一次エネルギー消費量（MJ/yr）  \n",
    "$E_{SV}$：1 年当たりの機械換気設備の基準一次エネルギー消費量（MJ/yr）  \n",
    "$E_{SL}$：1 年当たりの照明設備の基準一次エネルギー消費量（MJ/yr）  \n",
    "$E_{SW}$：1 年当たりの給湯設備（コージェネレーション設備を含む）の基準一次エネルギー消費量（MJ/yr）  \n",
    "$E_{SM}$：1 年当たりのその他の基準一次エネルギー消費量（MJ/yr）  \n"
   ]
  },
  {
   "cell_type": "code",
   "execution_count": null,
   "metadata": {},
   "outputs": [],
   "source": [
    "def get_E_ST_star(E_SH, E_SC, E_SV, E_SL, E_SW, E_SM, reference):\n",
    "    \"\"\"基準一次エネルギー消費量\n",
    "\n",
    "    :param E_SH: 1 時間当たりの暖房設備の基準一次エネルギー消費量\n",
    "    :type E_SH: float\n",
    "    :param E_SC: 1 時間当たりの冷房設備の基準一次エネルギー消費量\n",
    "    :type E_SC: float\n",
    "    :param E_SV: 1 時間当たりの換気設備の基準一次エネルギー消費量\n",
    "    :type E_SV: float\n",
    "    :param E_SL: 1 時間当たりの照明設備の基準一次エネルギー消費量\n",
    "    :type E_SL: float\n",
    "    :param E_SW: 1 時間当たりの給湯設備の基準一次エネルギー消費量\n",
    "    :type E_SW: float\n",
    "    :param E_SM: 1 時間当たりのその他の基準一次エネルギー消費量\n",
    "    :type E_SM: float\n",
    "    :param reference: 基準計算仕様\n",
    "    :type reference: dict\n",
    "    :raises ValueError: 建築年度が「令和2年3月までに新築する住宅」または「令和2年4月以降に新築する住宅」でない場合に発生\n",
    "    :return: 基準一次エネルギー消費量\n",
    "    :rtype: float\n",
    "    \"\"\"\n",
    "    building_year = reference['building_year']\n",
    "\n",
    "    if building_year == '令和2年3月までに新築する住宅':\n",
    "        E_star_ST_rb = (E_SH + E_SC + E_SV + E_SL + E_SW) * 0.9 + E_SM  # (1-1)\n",
    "    elif building_year == '令和2年4月以降に新築する住宅':\n",
    "        E_star_ST_rb = (E_SH + E_SC + E_SV + E_SL + E_SW) * 0.85 + E_SM  # (1-2)\n",
    "    else:\n",
    "        raise ValueError(building_year)\n",
    "\n",
    "    return E_star_ST_rb\n"
   ]
  }
 ],
 "metadata": {
  "kernelspec": {
   "display_name": "Python 3",
   "language": "python",
   "name": "python3"
  },
  "language_info": {
   "codemirror_mode": {
    "name": "ipython",
    "version": 3
   },
   "file_extension": ".py",
   "mimetype": "text/x-python",
   "name": "python",
   "nbconvert_exporter": "python",
   "pygments_lexer": "ipython3",
   "version": "3.8.5"
  }
 },
 "nbformat": 4,
 "nbformat_minor": 2
}
