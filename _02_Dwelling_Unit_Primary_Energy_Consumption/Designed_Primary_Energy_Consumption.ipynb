{
 "cells": [
  {
   "cell_type": "code",
   "execution_count": 1,
   "metadata": {
    "collapsed": false
   },
   "outputs": [],
   "source": [
    "import math\n",
    "from enum import Enum\n",
    "import Ventilation\n",
    "import Life_Schedule as LS\n",
    "import numpy as np"
   ]
  },
  {
   "cell_type": "markdown",
   "metadata": {},
   "source": [
    "# Designed Primary Energy Consumption / 設計一次エネルギー消費量"
   ]
  },
  {
   "cell_type": "markdown",
   "metadata": {},
   "source": [
    "## Coefficient to convert Power of 1 kWh to Primary Energy / 電気の量1kWhを熱量に換算する係数"
   ]
  },
  {
   "cell_type": "markdown",
   "metadata": {},
   "source": [
    "The coefficient to convert the power of 1 kWh to primary energy is 9760 (kJ/kWh), which is defined Energy Efficiency Law."
   ]
  },
  {
   "cell_type": "code",
   "execution_count": 2,
   "metadata": {
    "collapsed": true
   },
   "outputs": [],
   "source": [
    "f_prim = 9760"
   ]
  },
  {
   "cell_type": "markdown",
   "metadata": {},
   "source": [
    "## Designed Primary Energy Consumption of Mechanical Ventilation System / 機械換気設備の設計一次エネルギー消費量"
   ]
  },
  {
   "cell_type": "markdown",
   "metadata": {},
   "source": [
    "Annual designed primary energy consumption of mechanical ventilation system is calculated by the equation below."
   ]
  },
  {
   "cell_type": "markdown",
   "metadata": {
    "collapsed": true
   },
   "source": [
    "$$\n",
    "\\displaystyle E_V = \\sum_{d=1}^{365}{\\sum_{t=0}^{23}{E_{E,V,d,t} \\times f_{prim} \\times 10^{-3} }}\n",
    "$$"
   ]
  },
  {
   "cell_type": "markdown",
   "metadata": {},
   "source": [
    "$E_{E,V,d,t}$ is the hourly power of mechanical ventilation system at day d and time t (kWh/h);  \n",
    "$f_{prim}$ is coefficient to convert the power of 1 kWh to primary energy (kJ/kWh)."
   ]
  },
  {
   "cell_type": "code",
   "execution_count": 3,
   "metadata": {
    "collapsed": true
   },
   "outputs": [],
   "source": [
    "def get_E_V(E_E_V):\n",
    "    return np.array(E_E_V).sum() * f_prim * 10**(-3)"
   ]
  },
  {
   "cell_type": "code",
   "execution_count": 4,
   "metadata": {
    "collapsed": false
   },
   "outputs": [],
   "source": [
    "DataVentilation = {\n",
    "    'Ventilation': {  \n",
    "        'VentilationType': 'DuctType1',          # 'DuctType1', 'DuctType2', 'DuctType3', 'WallType1', 'WallType2', 'WallType3'\n",
    "        'DuctTypeSpec' : {\n",
    "            'EnergySavingType'   : 'None',  # 'None', 'Specification', 'SFP'\n",
    "            'EnergySavingMethod' : '',  # 'LargeDuct', 'LargeDuctAndDCMoter'\n",
    "            'SFP'                : ''   # Decimal Value represented as string\n",
    "        },\n",
    "        'WallMountedTypeSpec' : {\n",
    "            'EnergySavingType' : '',    # 'None', 'SFP'\n",
    "            'SFP'              : ''     # Decimal Value represented as string\n",
    "        }\n",
    "    },\n",
    "    'VentilationRate'          : '0.5',    # '0.5', '0.7', '0.0'\n",
    "    'EffectiveVentilationRate' : '1.0',    # Decimal Value represented as string\n",
    "    'HeatExchanger' : {\n",
    "        'Apply'                   : 'NotApply', # 'Apply', 'NotApply'\n",
    "        'TemperatureExchangeRate' : '65', # Decimal Value represented as string\n",
    "        'BalanceCorrectCoeff'     : '0.90', # Decimal Value represented as string\n",
    "        'AirLeakCorrectCoeff'     : '1.00'  # Decimal Value represented as string\n",
    "    }\n",
    "}\n",
    "DataGeneral = {\n",
    "    'AllFloorArea' : 120.08 # m2\n",
    "}"
   ]
  },
  {
   "cell_type": "code",
   "execution_count": 5,
   "metadata": {
    "collapsed": false
   },
   "outputs": [
    {
     "data": {
      "text/plain": [
       "7293.6905340800022"
      ]
     },
     "execution_count": 5,
     "metadata": {},
     "output_type": "execute_result"
    }
   ],
   "source": [
    "_E_E_V = [ [ Ventilation.getHoerlyElectricPower(DataGeneral,DataVentilation, day, hour) for hour in range(24) ] for day in LS.get_Annual_Days()]\n",
    "get_E_V(_E_E_V)"
   ]
  },
  {
   "cell_type": "code",
   "execution_count": null,
   "metadata": {
    "collapsed": true
   },
   "outputs": [],
   "source": []
  }
 ],
 "metadata": {
  "kernelspec": {
   "display_name": "Python 3",
   "language": "python",
   "name": "python3"
  },
  "language_info": {
   "codemirror_mode": {
    "name": "ipython",
    "version": 3
   },
   "file_extension": ".py",
   "mimetype": "text/x-python",
   "name": "python",
   "nbconvert_exporter": "python",
   "pygments_lexer": "ipython3",
   "version": "3.6.2"
  }
 },
 "nbformat": 4,
 "nbformat_minor": 2
}
