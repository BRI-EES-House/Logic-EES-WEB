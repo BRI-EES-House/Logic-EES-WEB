{
 "cells": [
  {
   "cell_type": "markdown",
   "metadata": {},
   "source": [
    "使用許諾条件\n",
    "\n",
    "①\t設計一次エネルギー消費量算定法に基づく計算方法をPythonによりコーディングし、Jupyter notebook形式で保存したファイル（以下、本ファイルと呼ぶ）の著作権は、一般社団法人日本サステナブル建築協会に帰属します。\n",
    "Copyright©2019. 一般社団法人日本サステナブル建築協会\n",
    "All rights reserved. \n",
    "\n",
    "②\t本ファイルは、住戸の設計一次エネルギー消費量算定方法に係る「平成28年省エネルギー基準に準拠したエネルギー消費性能の評価に関する技術情報（住宅）2.1算定方法（第四章第三節 ルームエアコンディショナー）」に示す計算方法に基づき、国土交通省国土技術政策総合研究所・国立研究開発法人建築研究所、株式会社ユーワークス、株式会社住環境計画研究所が作成したものです。\n",
    "\n",
    "③\t本ファイルは、計算方法に示す計算過程の確認及び調査研究等に活用することを目的として作成されたものであり、一般社団法人日本サステナブル建築協会は著作権について放棄はしませんが、使用する各人の自己責任において仕様を変更することを妨げるものではありません。ただし、本ファイルによる計算結果を住宅の省エネルギー基準で規定する設計一次エネルギー消費量の結果として公的な申請に用いることはできません。\n",
    "\n",
    "④\t本ファイルを変更するかしないかを問わず、以下の条件を満たす場合に限り、頒布および使用が許可されます。\n",
    "1.\t頒布物の付属ドキュメント等の資料に、上記の著作権表示、本条件一覧、および下記免責条項を含めること。\n",
    "2.\t書面による特別の許可なしに、本ファイルから派生した製品の宣伝または販売の促進に、一般社団法人日本サステナブル建築協会、国土技術政策総合研究所・国立研究開発法人建築研究所および株式会社ユーワークス、株式会社住環境計画研究所の名前またはコントリビューターの名前を使用してはならない。\n",
    "\n",
    "⑤\t本ファイルは、著作権者およびコントリビューターによって「現状のまま」提供されており、明示黙示を問わず、商業的な使用可能性、および特定の目的に対する適合性に関する暗黙の保証も含め、またそれに限定されない、いかなる保証もありません。著作権もコントリビューターも、事由のいかんを問わず、損害発生の原因いかんを問わず、かつ責任の根拠が契約であるか厳格責任であるか（過失その他の）不法行為であるかを問わず、仮にそのような損害が発生する可能性を知らされていたとしても、本ファイルの使用によって発生した（代用品または代用サービスの調達、使用の喪失、データの喪失、利益の喪失、業務の中断も含め、またそれに限定されない）直接損害、間接損害、偶発的な損害、特別損害、懲罰的損害、または結果損害について、一切の責任を負わないものとします。\n",
    "\n"
   ]
  },
  {
   "cell_type": "code",
   "execution_count": 1,
   "metadata": {},
   "outputs": [
    {
     "name": "stdout",
     "output_type": "stream",
     "text": [
      "Importing Jupyter notebook from s04_01_general_Q.ipynb\n",
      "Importing Jupyter notebook from s11_01_external_condition.ipynb\n"
     ]
    }
   ],
   "source": [
    "import nbimporter\n",
    "import numpy as np\n",
    "from math import floor\n",
    "\n",
    "\n",
    "from s04_01_general_Q import \\\n",
    "    get_Q_T_H_d_t_i, \\\n",
    "    get_Q_T_CS_d_t_i, \\\n",
    "    get_Q_T_CL_d_t_i\n",
    "\n",
    "from s11_01_external_condition import \\\n",
    "    load_outdoor, \\\n",
    "    get_Theta_ex, \\\n",
    "    get_X_ex, \\\n",
    "    calc_h_ex"
   ]
  },
  {
   "cell_type": "markdown",
   "metadata": {},
   "source": [
    "## 第三節　ルームエアコンディショナー / Section 3  Room Air Conditioner"
   ]
  },
  {
   "cell_type": "markdown",
   "metadata": {},
   "source": [
    "1．適用範囲～4．記号及び単位は省略"
   ]
  },
  {
   "cell_type": "markdown",
   "metadata": {},
   "source": [
    "1. Scope of application ~ 4. Symbols and units are omitted"
   ]
  },
  {
   "cell_type": "markdown",
   "metadata": {},
   "source": [
    "### 5. 最大暖房出力 / Maximum heating output"
   ]
  },
  {
   "cell_type": "markdown",
   "metadata": {},
   "source": [
    "$$\\large\n",
    "Q_{max,H,d,t} = Qr_{max,H,d,t} \\times q_{rtd,H} \\times C_{af,H} \\times C_{df,H,d,t} \\times 3600 \\times 10^{-6}\n",
    "$$"
   ]
  },
  {
   "cell_type": "markdown",
   "metadata": {},
   "source": [
    "$Q_{max,H,d,t}$：日付$d$の時刻$t$における1時間当たりの最大暖房出力(MJ/h) / Maximum heating output per hour at time $ t $ of date $ d $  \n",
    "$Qr_{max,H,d,t}$：日付$d$の時刻$t$における最大暖房出力比 / Maximum heating output ratio at time $ t $ of date $ d $  \n",
    "$q_{rtd,H}$：定格暖房能力(W) / Rated heating capacity  \n",
    "$C_{af,H}$：室内機吹き出し風量に関する暖房出力補正係数 / Heating output correction factor for indoor unit blowing air volume  \n",
    "$C_{df,H,d,t}$：日付$d$の時刻$t$におけるデフロストに関する暖房出力補正係数 / Heating output correction factor for defrost at time $ t $ of date $ d $  "
   ]
  },
  {
   "cell_type": "code",
   "execution_count": 2,
   "metadata": {},
   "outputs": [],
   "source": [
    "def calc_Q_max_H_d_t(Q_r_max_H_d_t, q_rtd_H, Theta_ex, h_ex):\n",
    "    \"\"\"最大暖房出力 (1)\n",
    "    \n",
    "    :param Q_r_max_H_d_t: 最大暖房出力比\n",
    "    :type Q_r_max_H_d_t: ndarray\n",
    "    :param q_rtd_H: 定格暖房能力\n",
    "    :type q_rtd_H: float\n",
    "    :param Theta_ex: 外気温度\n",
    "    :type Theta_ex: ndarray\n",
    "    :param h_ex: 外気相対湿度\n",
    "    :type h_ex: ndarray\n",
    "    :return: 最大暖房出力\n",
    "    :rtype: ndarray\n",
    "    \"\"\"\n",
    "    # 室内機吹き出し風量に関する暖房時の能力補正係\n",
    "    C_af_H = get_C_af_H()\n",
    "\n",
    "    # デフロストに関する暖房出力補正係数\n",
    "    C_df_H_d_t = get_C_df_H(Theta_ex, h_ex)\n",
    "\n",
    "    return Q_r_max_H_d_t * q_rtd_H * C_af_H * C_df_H_d_t * 3600 * 10 ** (-6)"
   ]
  },
  {
   "cell_type": "markdown",
   "metadata": {},
   "source": [
    "$$\\large\n",
    "Qr_{max,H,d,t} = a_2 \\times (\\theta_{ex,d,t} - 7)^2 + a_1 \\times (\\theta_{ex,d,t} - 7) + a_0\n",
    "$$"
   ]
  },
  {
   "cell_type": "markdown",
   "metadata": {},
   "source": [
    "$\\theta_{ex,d,t}$：日付$d$の時刻$t$における外気温度(℃) / Outside temperature at time $ t $ of date $ d $  "
   ]
  },
  {
   "cell_type": "code",
   "execution_count": 3,
   "metadata": {},
   "outputs": [],
   "source": [
    "def calc_Q_r_max_H_d_t(q_rtd_C, q_r_max_H, Theta_ex_d_t):\n",
    "    \"\"\"最大暖房出力比\n",
    "    \n",
    "    :param q_rtd_C:  定格冷房能力\n",
    "    :type q_rtd_C: float\n",
    "    :param q_r_max_H: 最大暖房能力比\n",
    "    :type q_r_max_H: float\n",
    "    :param Theta_ex_d_t: 外気温度\n",
    "    :type Theta_ex_d_t: ndarray\n",
    "    :return: 最大暖房出力比\n",
    "    :rtype: ndarray\n",
    "    \"\"\"\n",
    "    # 係数a2及びa2,a0\n",
    "    a2, a1, a0 = calc_a_eq3(q_r_max_H, q_rtd_C)\n",
    "\n",
    "    return a2 * (Theta_ex_d_t - 7) ** 2 + a1 * (Theta_ex_d_t - 7) + a0"
   ]
  },
  {
   "cell_type": "markdown",
   "metadata": {},
   "source": [
    "$q_{rtd,C}$が5600(W)を超える場合については、$q_{rtd,C}$は5600(W)に等しいとして計算するものとする。"
   ]
  },
  {
   "cell_type": "markdown",
   "metadata": {},
   "source": [
    "When $ q_ {rtd, C} $ exceeds 5600 (W), it is assumed that $ q_ {rtd, C} $ is calculated to be equal to 5600 (W)."
   ]
  },
  {
   "cell_type": "markdown",
   "metadata": {},
   "source": [
    "$$\n",
    "\\Biggl(\\begin{matrix}\n",
    "    a_2\\\\\n",
    "    a_1\\\\\n",
    "    a_0\\\\\n",
    "    \\end{matrix}\n",
    "\\Biggr) = \n",
    "\\Biggl(\\begin{matrix}\n",
    "    b_2\\\\ \n",
    "    b_1\\\\ \n",
    "    b_0\\\\ \n",
    "    \\end{matrix}\n",
    "\\Biggr) \\times qr_{max,H} + \n",
    "\\Biggl(\\begin{matrix}\n",
    "    c_2\\\\ \n",
    "    c_1\\\\ \n",
    "    c_0\\\\ \n",
    "    \\end{matrix}\n",
    "\\Biggr)\n",
    "$$"
   ]
  },
  {
   "cell_type": "markdown",
   "metadata": {},
   "source": [
    "$$\n",
    "\\Biggl(\\begin{matrix}\n",
    "    b_2\\\\ \n",
    "    b_1\\\\ \n",
    "    b_0\\\\ \n",
    "    \\end{matrix}\n",
    "\\Biggr) = \n",
    "\\Biggl(\\begin{matrix}\n",
    "    0.000181\\\\ \n",
    "    0.002322\\\\ \n",
    "    0.003556\\\\ \n",
    "    \\end{matrix}\n",
    "\\Biggr) \\times q_{rtd,C} \\times 10^{-3}  + \n",
    "\\Biggl(\\begin{matrix}\n",
    "    -0.000184\\\\ \n",
    "    0.013904\\\\ \n",
    "    0.993431\\\\ \n",
    "    \\end{matrix}\n",
    "\\Biggr)\n",
    "$$"
   ]
  },
  {
   "cell_type": "markdown",
   "metadata": {},
   "source": [
    "$$\n",
    "\\Biggl(\\begin{matrix}\n",
    "    c_2\\\\ \n",
    "    c_1\\\\ \n",
    "    c_0\\\\ \n",
    "    \\end{matrix}\n",
    "\\Biggr) = \n",
    "\\Biggl(\\begin{matrix}\n",
    "    -0.000173\\\\ \n",
    "    -0.003980\\\\ \n",
    "    -0.002870\\\\ \n",
    "    \\end{matrix}\n",
    "\\Biggr) \\times q_{rtd,C} \\times 10^{-3}  + \n",
    "\\Biggl(\\begin{matrix}\n",
    "    0.000367\\\\ \n",
    "    0.003983\\\\ \n",
    "    0.006376\\\\ \n",
    "    \\end{matrix}\n",
    "\\Biggr)\n",
    "$$"
   ]
  },
  {
   "cell_type": "markdown",
   "metadata": {},
   "source": [
    "$qr_{max,H}$：最大暖房能力比 / Maximum heating capacity ratio  \n",
    "$q_{rtd,C}$：定格冷房能力(W) / Rated cooling capacity  "
   ]
  },
  {
   "cell_type": "code",
   "execution_count": 4,
   "metadata": {},
   "outputs": [],
   "source": [
    "def calc_a_eq3(q_r_max_H, q_rtd_C):\n",
    "    \"\"\"係数a2及びa1,a0 (3a)\n",
    "    \n",
    "    :param q_r_max_H: 最大暖房能力比\n",
    "    :type q_r_max_H: float\n",
    "    :param q_rtd_C:  定格冷房能力\n",
    "    :type q_rtd_C: float\n",
    "    :return: 係数a2及びa1,a0 (3a)\n",
    "    :rtype: tuple\n",
    "    \"\"\"\n",
    "    b2, b1, b0 = get_b_eq3(q_rtd_C)\n",
    "    c2, c1, c0 = get_c_eq3(q_rtd_C)\n",
    "    a2 = b2 * q_r_max_H + c2\n",
    "    a1 = b1 * q_r_max_H + c1\n",
    "    a0 = b0 * q_r_max_H + c0\n",
    "    return a2, a1, a0\n",
    "\n",
    "\n",
    "# 係数b2及びb1,b0 (3b)\n",
    "def get_b_eq3(q_rtd_C):\n",
    "    \"\"\"係数b2及びb1,b0 (3b)\n",
    "    \n",
    "    :param q_rtd_C:  定格冷房能力\n",
    "    :type q_rtd_C: float\n",
    "    :return: 係数b2及びb1,b0\n",
    "    :rtype: tuple\n",
    "    \"\"\"\n",
    "    q_rtd_C = min(5600, q_rtd_C)\n",
    "    b2 = 0.000181 * q_rtd_C * 10 ** (-3) - 0.000184\n",
    "    b1 = 0.002322 * q_rtd_C * 10 ** (-3) + 0.013904\n",
    "    b0 = 0.003556 * q_rtd_C * 10 ** (-3) + 0.993431\n",
    "    return b2, b1, b0\n",
    "\n",
    "\n",
    "# 係数c2及びc1,c0 (3b)\n",
    "def get_c_eq3(q_rtd_C):\n",
    "    \"\"\"係数c2及びc1,c0 (3b)\n",
    "    \n",
    "    :param q_rtd_C:  定格冷房能力\n",
    "    :type q_rtd_C: float\n",
    "    :return: 係数c2及びc1,c0\n",
    "    :rtype: tuple\n",
    "    \"\"\"\n",
    "    q_rtd_C = min(5600, q_rtd_C)\n",
    "    c2 = -0.000173 * q_rtd_C * 10 ** (-3) + 0.000367\n",
    "    c1 = -0.003980 * q_rtd_C * 10 ** (-3) + 0.003983\n",
    "    c0 = -0.002870 * q_rtd_C * 10 ** (-3) + 0.006376\n",
    "    return c2, c1, c0"
   ]
  },
  {
   "cell_type": "markdown",
   "metadata": {},
   "source": [
    "$$\\large\n",
    "qr_{max,H} = \\frac{q_{max,H}}{q_{rtd,H}}\n",
    "$$"
   ]
  },
  {
   "cell_type": "markdown",
   "metadata": {},
   "source": [
    "$q_{max,H}$：最大暖房能力(W) / Maximum heating capacity  \n",
    "$q_{rtd,H}$：定格暖房能力(W) / Rated heating capacity  "
   ]
  },
  {
   "cell_type": "code",
   "execution_count": 5,
   "metadata": {},
   "outputs": [],
   "source": [
    "def get_q_r_max_H(q_max_H, q_rtd_H):\n",
    "    \"\"\"最大暖房能力比 (4)\n",
    "    \n",
    "    :param q_max_H: 最大暖房能力\n",
    "    :type q_max_H: float\n",
    "    :param q_rtd_H: 定格暖房能力\n",
    "    :type q_rtd_H: float\n",
    "    :return: 最大暖房能力比\n",
    "    :rtype: float\n",
    "    \"\"\"\n",
    "    q_r_max_H = q_max_H / q_rtd_H\n",
    "    return q_r_max_H"
   ]
  },
  {
   "cell_type": "markdown",
   "metadata": {},
   "source": [
    "室内機吹き出し風量に関する暖房時の能力補正係数$C_{af,H}$は0.8とする。  \n",
    "デフロストに関する暖房出力補正係数$C_{df,H}$は、外気温度が5℃未満かつ相対湿度が80%以上の場合にデフロストが入ると仮定し、その場合の値を0.77とし、 それ以外の条件においては1.0とする。"
   ]
  },
  {
   "cell_type": "markdown",
   "metadata": {},
   "source": [
    "The capacity correction coefficient $ C_ {af, H} $ at the time of heating relating to the indoor unit blowing air volume is 0.8.  \n",
    "The heating power correction coefficient $ C_ {df, H} $ for defrost is assumed to be defrosted when the outside air temperature is less than 5 ° C and the relative humidity is 80% or more, and the value in that case is 0.77, otherwise The condition is 1.0."
   ]
  },
  {
   "cell_type": "code",
   "execution_count": 6,
   "metadata": {},
   "outputs": [],
   "source": [
    "def get_C_af_H():\n",
    "    \"\"\"室内機吹き出し風量に関する暖房時の能力補正係数\n",
    "    \n",
    "    :return: 室内機吹き出し風量に関する暖房時の能力補正係\n",
    "    :rtype: float\n",
    "    \"\"\"\n",
    "    return 0.8\n",
    "\n",
    "\n",
    "# デフロストに関する暖房出力補正係数\n",
    "def get_C_df_H(Theta_ex, h_ex):\n",
    "    \"\"\"デフロストに関する暖房出力補正係数\n",
    "    \n",
    "    :param Theta_ex: 外気温度\n",
    "    :type Theta_ex: ndarray\n",
    "    :param h_ex: 外気相対湿度\n",
    "    :type h_ex: ndarray\n",
    "    :return: デフロストに関する暖房出力補正係数\n",
    "    :rtype: ndarray\n",
    "    \"\"\"\n",
    "    C_df_H = np.ones(24 * 365)\n",
    "    C_df_H[(Theta_ex < 5.0) * (h_ex >= 80.0)] = 0.77\n",
    "    return C_df_H"
   ]
  },
  {
   "cell_type": "markdown",
   "metadata": {},
   "source": [
    "### 6. 暖房エネルギー消費量 / Heating energy consumption"
   ]
  },
  {
   "cell_type": "markdown",
   "metadata": {},
   "source": [
    "#### 6.1 消費電力量 / Power consumption"
   ]
  },
  {
   "cell_type": "markdown",
   "metadata": {},
   "source": [
    "日付$d$の時刻$t$における補正処理暖房負荷$Q'_{T,H,d,t}$が0の場合、$E_{E,H,d,t}$ = 0とする。"
   ]
  },
  {
   "cell_type": "markdown",
   "metadata": {},
   "source": [
    "Correction processing at time $t$ of date $ d $ If heating load $ Q'_{T, H, d, t} $ is 0, then $ E_{E, H, d, t} $ = 0."
   ]
  },
  {
   "cell_type": "markdown",
   "metadata": {},
   "source": [
    "$$\\large\n",
    "E_{E,H,d,t} = f_{H,\\theta} \\Biggl( \\frac{Q'_{T,H,d,t}}{q_{max,H} \\times 3600 \\times 10^{-6}} \\Biggr) \\div \n",
    "f_{H,7} \\Biggl( \\frac{1}{qr_{max,H}} \\Biggr) \\times \\frac{q_{rtd,H}}{e_{rtd,H}} \\times 10^{-3}\n",
    "$$"
   ]
  },
  {
   "cell_type": "markdown",
   "metadata": {},
   "source": [
    "$E_{E,H,d,t}$：日付$d$の時刻$t$における1時間当たりの消費電力量(kWh/h) / Power consumption per hour at time $ t $ of date $ d $  \n",
    "$f_{H,\\theta}$：基準入出力関数 / Reference input / output function  \n",
    "$Q'_{T,H,d,t}$：日付$d$の時刻$t$における補正処理暖房負荷(MJ/h) / Correction processing heating load at time $ t $ of date $ d $    \n",
    "$q_{max,H}$：最大暖房能力(W) / Maximum heating capacity  \n",
    "$qr_{max,H}$：最大暖房能力比 / Maximum heating capacity ratio  \n",
    "$q_{rtd,H}$：定格暖房能力(W) / Rated heating capacity  \n",
    "$e_{rtd,H}$：定格暖房エネルギー消費効率 / Rated heating energy consumption efficiency  "
   ]
  },
  {
   "cell_type": "code",
   "execution_count": 7,
   "metadata": {},
   "outputs": [],
   "source": [
    "def calc_E_E_H_d_t(region, q_rtd_C, q_rtd_H, e_rtd_H, dualcompressor, L_H_d_t):\n",
    "    \"\"\"消費電力量 (5)\n",
    "    \n",
    "    :param region: 省エネルギー地域区分\n",
    "    :type region: int\n",
    "    :param q_rtd_C: 定格冷房能力\n",
    "    :type q_rtd_C: float\n",
    "    :param q_rtd_H: 定格暖房能力\n",
    "    :type q_rtd_H: float\n",
    "    :param e_rtd_H: 定格暖房エネルギー消費効率\n",
    "    :type e_rtd_H: float\n",
    "    :param dualcompressor: 容量可変型コンプレッサー搭載\n",
    "    :type dualcompressor: bool\n",
    "    :param L_H_d_t: 暖冷房区画݅の１時間当たりの暖房負荷 \n",
    "    :type L_H_d_t: ndarray\n",
    "    :return: 消費電力量 \n",
    "    :rtype: ndarray\n",
    "    \"\"\"\n",
    "    # 外気条件\n",
    "    outdoor = load_outdoor()\n",
    "    Theta_ex = get_Theta_ex(region, outdoor)\n",
    "    X_ex = get_X_ex(region, outdoor)\n",
    "    h_ex = calc_h_ex(X_ex, Theta_ex)\n",
    "\n",
    "    # 最大暖房能力\n",
    "    q_max_C = get_q_max_C(q_rtd_C)\n",
    "    q_max_H = get_q_max_H(q_rtd_H, q_max_C)\n",
    "\n",
    "    # 最大暖房能力比\n",
    "    q_r_max_H = get_q_r_max_H(q_max_H, q_rtd_H)\n",
    "\n",
    "    # 最大暖房出力比\n",
    "    Q_r_max_H_d_t = calc_Q_r_max_H_d_t(q_rtd_C, q_r_max_H, Theta_ex)\n",
    "\n",
    "    # 最大暖房出力\n",
    "    Q_max_H_d_t = calc_Q_max_H_d_t(Q_r_max_H_d_t, q_rtd_H, Theta_ex, h_ex)\n",
    "\n",
    "    # 処理暖房負荷\n",
    "    Q_T_H_d_t = get_Q_T_H_d_t_i(Q_max_H_d_t_i=Q_max_H_d_t, L_H_d_t_i=L_H_d_t)\n",
    "\n",
    "    # 補正処理暖房負荷\n",
    "    Q_dash_T_H_d_t = calc_Q_dash_T_H_d_t(Q_T_H_d_t, Theta_ex, h_ex)\n",
    "\n",
    "    # 消費電力量\n",
    "    E_E_H_d_t = calc_f_H_Theta(Q_dash_T_H_d_t / (q_max_H * 3600 * 10 ** (-6)), q_rtd_C, dualcompressor, Theta_ex) \\\n",
    "                / calc_f_H_Theta(1.0 / q_r_max_H, q_rtd_C, dualcompressor, np.ones(24 * 365) * 7.0) \\\n",
    "                * (q_rtd_H / e_rtd_H) * 10 ** (-3)\n",
    "    E_E_H_d_t[Q_dash_T_H_d_t == 0.0] = 0.0  # 補正処理暖房負荷が0の場合は0\n",
    "\n",
    "    return E_E_H_d_t"
   ]
  },
  {
   "cell_type": "markdown",
   "metadata": {},
   "source": [
    "$$\\large\n",
    "f_{H,\\theta}(x) = a_{4}x^{4} + a_{3}x^{3} + a_{2}x^{2} + a_{1}x + a_{0}\n",
    "$$"
   ]
  },
  {
   "cell_type": "code",
   "execution_count": 8,
   "metadata": {},
   "outputs": [],
   "source": [
    "def calc_f_H_Theta(x, q_rtd_C, dualcompressor, Theta_ex):\n",
    "    \"\"\"基準入出力関数 (6)\n",
    "    \n",
    "    :param x: 入力\n",
    "    :type x: float\n",
    "    :param q_rtd_C:  定格冷房能力\n",
    "    :type q_rtd_C: float\n",
    "    :param dualcompressor: 容量可変型コンプレッサー搭載\n",
    "    :type dualcompressor: bool\n",
    "    :param Theta_ex: 外気温度\n",
    "    :type Theta_ex: ndarray\n",
    "    :return: 基準入出力関数 \n",
    "    :rtype: float\n",
    "    \"\"\"\n",
    "    # 係数a0-a4\n",
    "    a0, a1, a2, a3, a4 = calc_a_eq7(q_rtd_C, dualcompressor, Theta_ex)\n",
    "    return a4 * x ** 4 + a3 * x ** 3 + a2 * x ** 2 + a1 * x + a0"
   ]
  },
  {
   "cell_type": "markdown",
   "metadata": {},
   "source": [
    "\\begin{equation*}\n",
    "\\left(\\begin{matrix}\n",
    "    a_4\\\\\n",
    "    a_3\\\\\n",
    "    a_2\\\\\n",
    "    a_1\\\\\n",
    "    a_0\\\\\n",
    "    \\end{matrix}\n",
    "\\right) = \n",
    "\\left(\\begin{matrix}\n",
    "    p_{42} & p_{41} & p_{40}\\\\\n",
    "    p_{32} & p_{31} & p_{30}\\\\\n",
    "    p_{22} & p_{21} & p_{20}\\\\\n",
    "    p_{12} & p_{11} & p_{10}\\\\\n",
    "    p_{02} & p_{01} & p_{00}\\\\\n",
    "    \\end{matrix}\n",
    "\\right)\n",
    "\\left(\\begin{matrix}\n",
    "    \\theta_{ex}^2\\\\ \n",
    "    \\theta_{ex}\\\\ \n",
    "    1\\\\ \n",
    "    \\end{matrix}\n",
    "\\right)\n",
    "\\end{equation*}"
   ]
  },
  {
   "cell_type": "code",
   "execution_count": 9,
   "metadata": {},
   "outputs": [],
   "source": [
    "def calc_a_eq7(q_rtd_C, dualcompressor, Theta_ex):\n",
    "    \"\"\"係数a0～a4\n",
    "    \n",
    "    :param q_rtd_C:  定格冷房能力\n",
    "    :type q_rtd_C: float\n",
    "    :param dualcompressor: 容量可変型コンプレッサー搭載\n",
    "    :type dualcompressor: bool\n",
    "    :param Theta_ex: 外気気温\n",
    "    :type Theta_ex: ndarray\n",
    "    :return: 係数a0～a4\n",
    "    :rtype: tuple\n",
    "    \"\"\"\n",
    "    if dualcompressor == False:\n",
    "        # 容量可変型コンプレッサー搭載ルームエアコンディショナーでないルームエアコンディショナー\n",
    "        calc_p_i = calc_p_i_eq8\n",
    "    else:\n",
    "        # 容量可変型コンプレッサー搭載ルームエアコンディショナー\n",
    "        calc_p_i = calc_p_i_eq9\n",
    "\n",
    "    # 係数p_i\n",
    "    p_42 = calc_p_i(42, q_rtd_C)\n",
    "    p_41 = calc_p_i(41, q_rtd_C)\n",
    "    p_40 = calc_p_i(40, q_rtd_C)\n",
    "    p_32 = calc_p_i(32, q_rtd_C)\n",
    "    p_31 = calc_p_i(31, q_rtd_C)\n",
    "    p_30 = calc_p_i(30, q_rtd_C)\n",
    "    p_22 = calc_p_i(22, q_rtd_C)\n",
    "    p_21 = calc_p_i(21, q_rtd_C)\n",
    "    p_20 = calc_p_i(20, q_rtd_C)\n",
    "    p_12 = calc_p_i(12, q_rtd_C)\n",
    "    p_11 = calc_p_i(11, q_rtd_C)\n",
    "    p_10 = calc_p_i(10, q_rtd_C)\n",
    "    p_02 = calc_p_i(2, q_rtd_C)\n",
    "    p_01 = calc_p_i(1, q_rtd_C)\n",
    "    p_00 = calc_p_i(0, q_rtd_C)\n",
    "\n",
    "    a4 = p_42 * Theta_ex ** 2 + p_41 * Theta_ex + p_40 * 1\n",
    "    a3 = p_32 * Theta_ex ** 2 + p_31 * Theta_ex + p_30 * 1\n",
    "    a2 = p_22 * Theta_ex ** 2 + p_21 * Theta_ex + p_20 * 1\n",
    "    a1 = p_12 * Theta_ex ** 2 + p_11 * Theta_ex + p_10 * 1\n",
    "    a0 = p_02 * Theta_ex ** 2 + p_01 * Theta_ex + p_00 * 1\n",
    "\n",
    "    return a0, a1, a2, a3, a4"
   ]
  },
  {
   "cell_type": "markdown",
   "metadata": {},
   "source": [
    "$q_{rtd,C}$が5600(W)を超える場合については、$q_{rtd,C}$は5600(W)に等しいとして計算するものとする。"
   ]
  },
  {
   "cell_type": "markdown",
   "metadata": {},
   "source": [
    "When $ q_{rtd, C} $ exceeds 5600 (W), it is assumed that $ q_{rtd, C} $ is calculated to be equal to 5600 (W)."
   ]
  },
  {
   "cell_type": "markdown",
   "metadata": {},
   "source": [
    "\\begin{equation*}\n",
    "\\large\n",
    "p_{i} = s_{i} \\times q_{rtd,C} \\times 10^{-3} + t_{i}\n",
    "\\end{equation*}"
   ]
  },
  {
   "cell_type": "markdown",
   "metadata": {},
   "source": [
    "$q_{rtd,C}$：定格冷房能力(W) / Rated cooling capacity  "
   ]
  },
  {
   "cell_type": "code",
   "execution_count": 10,
   "metadata": {},
   "outputs": [],
   "source": [
    "def calc_p_i_eq8(i, q_rtd_C):\n",
    "    \"\"\"係数p_i\n",
    "    \n",
    "    :param i: [description]\n",
    "    :type i: int\n",
    "    :param q_rtd_C:  定格冷房能力\n",
    "    :type q_rtd_C: float\n",
    "    :return: 係数p_i\n",
    "    :rtype: float\n",
    "    \"\"\"\n",
    "    q_rtd_C = min(5600, q_rtd_C)\n",
    "    # 係数 s_i, t_i\n",
    "    s_i = calc_s_i_eq8(i)\n",
    "    t_i = calc_t_i_eq8(i)\n",
    "    return s_i * q_rtd_C * 10 ** (-3) + t_i\n",
    "\n",
    "\n",
    "# 係数s_i (i=0,1,2,10..42)\n",
    "def calc_s_i_eq8(i):\n",
    "    \"\"\"係数s_i (i=0,1,2,10..42)\n",
    "    \n",
    "    :param i: [description]\n",
    "    :type i: int\n",
    "    :return: 係数s_i (i=0,1,2,10..42)\n",
    "    :rtype: float\n",
    "    \"\"\"\n",
    "    table_3 = get_table_3()    \n",
    "    return table_3[4 - floor(i / 10)][(2 - (i % 10)) * 2]\n",
    "\n",
    "\n",
    "# 係数t_i (i=0,1,2,10..42)\n",
    "def calc_t_i_eq8(i):\n",
    "    \"\"\"係数t_i (i=0,1,2,10..42)\n",
    "    \n",
    "    :param i: [description]\n",
    "    :type i: int\n",
    "    :return: 係数t_i (i=0,1,2,10..42)\n",
    "    :rtype: float\n",
    "    \"\"\"\n",
    "    table_3 = get_table_3()\n",
    "    return table_3[4 - floor(i / 10)][(2 - (i % 10)) * 2 + 1]"
   ]
  },
  {
   "cell_type": "markdown",
   "metadata": {},
   "source": [
    "<div style=\"text-align: center;font-weight: bold;\">表　係数 $s_{i}$ 及び $t_{i}$<br>Table: Coefficients $ s_{i} $ and $ t_{i} $</div>\n",
    "\n",
    "|係数<br>coefficient|値<br>value|係数<br>coefficient|値<br>value|係数<br>coefficient|値<br>value|係数<br>coefficient|値<br>value|係数<br>coefficient|値<br>value|係数<br>coefficient|値<br>value|\n",
    "|-|-|-|-|-|-|-|-|-|-|-|-|\n",
    "|$s_{42}$|-0.00236|$t_{42}$|0.01324|$s_{41}$|0.08418|$t_{41}$|-0.47143|$s_{40}$|-1.16944|$t_{40}$|6.54886|\n",
    "|$s_{32}$|0.00427|$t_{32}$|-0.02392|$s_{31}$|-0.19226|$t_{31}$|0.94213|$s_{30}$|2.58632|$t_{30}$|-12.85618|\n",
    "|$s_{22}$|-0.00275|$t_{22}$|0.01542|$s_{21}$|0.14947|$t_{21}$|-0.68303|$s_{20}$|-2.03594|$t_{20}$|10.60561|\n",
    "|$s_{12}$|0.00063|$t_{12}$|-0.00351|$s_{11}$|-0.02865|$t_{11}$|0.10522|$s_{10}$|0.37336|$t_{10}$|-1.09499|\n",
    "|$s_{02}$|-0.00005|$t_{02}$|0.00028|$s_{01}$|0.00184|$t_{01}$|-0.01090|$s_{00}$|-0.09609|$t_{00}$|0.59229|\n"
   ]
  },
  {
   "cell_type": "code",
   "execution_count": 11,
   "metadata": {},
   "outputs": [],
   "source": [
    "def get_table_3():\n",
    "    \"\"\"表3 係数s_i及びt_i\n",
    "    \n",
    "    :return: 表3 係数s_i及びt_i\n",
    "    :rtype: list\n",
    "    \"\"\"\n",
    "    # 表3 係数s_i及びt_i\n",
    "    table_3 = [\n",
    "        (-0.00236, 0.01324, 0.08418, -0.47143, -1.16944, 6.54886),\n",
    "        (0.00427, -0.02392, -0.19226, 0.94213, 2.58632, -12.85618),\n",
    "        (-0.00275, 0.01542, 0.14947, -0.68303, -2.03594, 10.60561),\n",
    "        (0.00063, -0.00351, -0.02865, 0.10522, 0.37336, -1.09499),\n",
    "        (-0.00005, 0.00028, 0.00184, -0.01090, -0.09609, 0.59229)\n",
    "    ]\n",
    "    return table_3\n"
   ]
  },
  {
   "cell_type": "markdown",
   "metadata": {},
   "source": [
    "$q_{rtd,C} \\leq 2200$ の場合"
   ]
  },
  {
   "cell_type": "markdown",
   "metadata": {},
   "source": [
    "If $ q_{rtd, C} \\leq 2200 $"
   ]
  },
  {
   "cell_type": "markdown",
   "metadata": {},
   "source": [
    "$$\\large\n",
    "p_{i} = p_{i,A}\n",
    "$$"
   ]
  },
  {
   "cell_type": "markdown",
   "metadata": {},
   "source": [
    "$2200 < q_{rtd,C} \\leq 4000$ の場合"
   ]
  },
  {
   "cell_type": "markdown",
   "metadata": {},
   "source": [
    "If $ 2200 < q_{rtd, C} \\leq 4000 $"
   ]
  },
  {
   "cell_type": "markdown",
   "metadata": {},
   "source": [
    "$$\\large\n",
    "p_{i} = p_{i,A} \\times \\frac{4000-q_{rtd,C}}{4000-2200} + p_{i,B} \\times \\frac{q_{rtd,C}-2200}{4000-2200}\n",
    "$$"
   ]
  },
  {
   "cell_type": "markdown",
   "metadata": {},
   "source": [
    "$4000 < q_{rtd,C} < 7100$ の場合"
   ]
  },
  {
   "cell_type": "markdown",
   "metadata": {},
   "source": [
    "If $4000 < q_{rtd,C} < 7100$"
   ]
  },
  {
   "cell_type": "markdown",
   "metadata": {},
   "source": [
    "$$\\large\n",
    "p_{i} = p_{i,B} \\times \\frac{7100-q_{rtd,C}}{7100-4000} + p_{i,C} \\times \\frac{q_{rtd,C}-4000}{7100-4000}\n",
    "$$"
   ]
  },
  {
   "cell_type": "markdown",
   "metadata": {},
   "source": [
    "$7100 \\leq q_{rtd,C}$ の場合"
   ]
  },
  {
   "cell_type": "markdown",
   "metadata": {},
   "source": [
    "If $7100 \\leq q_{rtd,C}$"
   ]
  },
  {
   "cell_type": "markdown",
   "metadata": {},
   "source": [
    "$$\\large\n",
    "p_{i} = p_{i,C}\n",
    "$$"
   ]
  },
  {
   "cell_type": "markdown",
   "metadata": {},
   "source": [
    "$p_{i,A}$：表により表される係数 / Coefficients represented by a table  \n",
    "$p_{i,B}$：表により表される係数 / Coefficients represented by a table  \n",
    "$p_{i,C}$：表により表される係数 / Coefficients represented by a table  "
   ]
  },
  {
   "cell_type": "code",
   "execution_count": 12,
   "metadata": {},
   "outputs": [],
   "source": [
    "def calc_p_i_eq9(i, q_rtd_C):\n",
    "    \"\"\" 係数p_i (9)\n",
    "    \n",
    "    :param i: [description]\n",
    "    :type i: int\n",
    "    :param q_rtd_C:  定格冷房能力\n",
    "    :type q_rtd_C: float\n",
    "    :raises ValueError: q_rtd_Cが数値でない場合発生する\n",
    "    :return: 係数p_i (9)\n",
    "    :rtype: float\n",
    "    \"\"\"\n",
    "    if q_rtd_C <= 2200:\n",
    "        # (9a)\n",
    "        return calc_p_i_A(i)\n",
    "    elif 2200 < q_rtd_C and q_rtd_C <= 4000:\n",
    "        # (9b)\n",
    "        p_i_A = calc_p_i_A(i)\n",
    "        p_i_B = calc_p_i_B(i)\n",
    "        return p_i_A * ((4000 - q_rtd_C) / (4000 - 2200)) \\\n",
    "               + p_i_B * ((q_rtd_C - 2200) / (4000 - 2200))\n",
    "    elif 4000 < q_rtd_C and q_rtd_C < 7100:\n",
    "        # (9c)\n",
    "        p_i_B = calc_p_i_B(i)\n",
    "        p_i_C = calc_p_i_C(i)\n",
    "        return p_i_B * ((7100 - q_rtd_C) / (7100 - 4000)) \\\n",
    "               + p_i_C * ((q_rtd_C - 4000) / (7100 - 4000))\n",
    "    elif 7100 <= q_rtd_C:\n",
    "        return calc_p_i_C(i)\n",
    "    else:\n",
    "        raise ValueError(q_rtd_C)\n"
   ]
  },
  {
   "cell_type": "code",
   "execution_count": 13,
   "metadata": {},
   "outputs": [],
   "source": [
    "def calc_p_i_A(i):\n",
    "    \"\"\"係数P_i_A (i=0,1,2,10..42)\n",
    "    \n",
    "    :param i: [description]\n",
    "    :type i: int\n",
    "    :return: 係数P_i_A (i=0,1,2,10..42)\n",
    "    :rtype: float\n",
    "    \"\"\"\n",
    "    table_4_A = get_table_4_A()\n",
    "    return table_4_A[4 - floor(i / 10)][(2 - (i % 10))]\n"
   ]
  },
  {
   "cell_type": "code",
   "execution_count": 14,
   "metadata": {},
   "outputs": [],
   "source": [
    "def calc_p_i_B(i):\n",
    "    \"\"\"係数P_i_B\n",
    "    \n",
    "    :param i: [description]\n",
    "    :type i: int\n",
    "    :return: 係数P_i_B\n",
    "    :rtype: float\n",
    "    \"\"\"\n",
    "    table_4_B = get_table_4_B()\n",
    "    return table_4_B[4 - floor(i / 10)][(2 - (i % 10))]\n"
   ]
  },
  {
   "cell_type": "code",
   "execution_count": 15,
   "metadata": {},
   "outputs": [],
   "source": [
    "def calc_p_i_C(i):\n",
    "    \"\"\"係数P_i_C\n",
    "    \n",
    "    :param i: [description]\n",
    "    :type i: int\n",
    "    :return: 係数P_i_C\n",
    "    :rtype: float\n",
    "    \"\"\"\n",
    "    table_4_C = get_table_4_C()\n",
    "    return table_4_C[4 - floor(i / 10)][(2 - (i % 10))]\n"
   ]
  },
  {
   "cell_type": "markdown",
   "metadata": {},
   "source": [
    "<div style=\"text-align: center;font-weight: bold;\">表　係数$p_{i,A}$<br>Table: Coefficients $ p_{i, A} $</div>\n",
    "\n",
    "|係数<br>coefficient|値<br>value|係数<br>coefficient|値<br>value|係数<br>coefficient|値<br>value|\n",
    "|-|-|-|-|-|-|\n",
    "|$p_{42}$|-0.000056|$p_{41}$|0.000786|$p_{40}$|0.071625|\n",
    "|$p_{32}$|-0.000145|$p_{31}$|0.003337|$p_{30}$|-0.143643|\n",
    "|$p_{22}$|-0.000240|$p_{21}$|-0.029471|$p_{20}$|1.954343|\n",
    "|$p_{12}$|-0.000035|$p_{11}$|-0.050909|$p_{10}$|1.389751|\n",
    "|$p_{02}$|0.0|$p_{01}$|0.0|$p_{00}$|0.076800|  \n"
   ]
  },
  {
   "cell_type": "code",
   "execution_count": 16,
   "metadata": {},
   "outputs": [],
   "source": [
    "def get_table_4_A():\n",
    "    \"\"\" 表4(A) 係数 p_i_A\n",
    "    \n",
    "    :return: 表4(A) 係数 p_i_A\n",
    "    :rtype: list\n",
    "    \"\"\"\n",
    "    # 表4(A) 係数 p_i_A\n",
    "    table_4_A = [\n",
    "        (-0.000056, 0.000786, 0.071625),\n",
    "        (-0.000145, 0.003337, -0.143643),\n",
    "        (-0.000240, -0.029471, 1.954343),\n",
    "        (-0.000035, -0.050909, 1.389751),\n",
    "        (0.0, 0.0, 0.076800)\n",
    "    ]\n",
    "    return table_4_A\n"
   ]
  },
  {
   "cell_type": "markdown",
   "metadata": {},
   "source": [
    "<div style=\"text-align: center;font-weight: bold;\">表　係数$p_{i,B}$<br>Table: Coefficients $ p_{i,B} $</div>\n",
    "\n",
    "|係数<br>coefficient|値<br>value|係数<br>coefficient|値<br>value|係数<br>coefficient|値<br>value|\n",
    "|-|-|-|-|-|-|\n",
    "|$p_{42}$|0.000108|$p_{41}$|-0.035658|$p_{40}$|3.063873|\n",
    "|$p_{32}$|-0.000017|$p_{31}$|0.062546|$p_{30}$|-5.471556|\n",
    "|$p_{22}$|-0.000245|$p_{21}$|-0.025126|$p_{20}$|4.057590|\n",
    "|$p_{12}$|0.000323|$p_{11}$|-0.021166|$p_{10}$|0.575459|\n",
    "|$p_{02}$|0.0|$p_{01}$|0.000330|$p_{00}$|0.047500| \n"
   ]
  },
  {
   "cell_type": "code",
   "execution_count": 17,
   "metadata": {},
   "outputs": [],
   "source": [
    "def get_table_4_B():\n",
    "    \"\"\" 表4(B) 係数 p_i_B\n",
    "    \n",
    "    :return: 表4(B) 係数 p_i_B\n",
    "    :rtype: list\n",
    "    \"\"\"\n",
    "    # 表4(B) 係数 p_i_B\n",
    "    table_4_B = [\n",
    "        (0.000108, -0.035658, 3.063873),\n",
    "        (-0.000017, 0.062546, -5.471556),\n",
    "        (-0.000245, -0.025126, 4.057590),\n",
    "        (0.000323, -0.021166, 0.575459),\n",
    "        (0.0, 0.000330, 0.047500)\n",
    "    ]\n",
    "    return table_4_B\n"
   ]
  },
  {
   "cell_type": "markdown",
   "metadata": {},
   "source": [
    "<div style=\"text-align: center;font-weight: bold;\">表　係数$p_{i,C}$<br>Table: Coefficients $ p_{i,C} $</div>\n",
    "\n",
    "|係数<br>coefficient|値<br>value|係数<br>coefficient|値<br>value|係数<br>coefficient|値<br>value|\n",
    "|-|-|-|-|-|-|\n",
    "|$p_{42}$|-0.001465|$p_{41}$|-0.030500|$p_{40}$|1.920431|\n",
    "|$p_{32}$|0.002824|$p_{31}$|0.041081|$p_{30}$|-1.835302|\n",
    "|$p_{22}$|-0.001929|$p_{21}$|-0.009738|$p_{20}$|1.582898|\n",
    "|$p_{12}$|0.000616|$p_{11}$|-0.014239|$p_{10}$|0.546204|\n",
    "|$p_{02}$|0.0|$p_{01}$|-0.000110|$p_{00}$|0.023100|\n"
   ]
  },
  {
   "cell_type": "code",
   "execution_count": 18,
   "metadata": {},
   "outputs": [],
   "source": [
    "def get_table_4_C():\n",
    "    \"\"\"表4(C) 係数 p_i_C\n",
    "    \n",
    "    \n",
    "    :return: 表4(C) 係数 p_i_C\n",
    "    :rtype: list\n",
    "    \"\"\"\n",
    "    # 表4(C) 係数 p_i_C\n",
    "    table_4_C = [\n",
    "        (-0.001465, -0.030500, 1.920431),\n",
    "        (0.002824, 0.041081, -1.835302),\n",
    "        (-0.001929, -0.009738, 1.582898),\n",
    "        (0.000616, -0.014239, 0.546204),\n",
    "        (0.0, -0.000110, 0.023100)\n",
    "    ]\n",
    "    return table_4_C\n"
   ]
  },
  {
   "cell_type": "markdown",
   "metadata": {},
   "source": [
    "$$\\large\n",
    "Q'_{T,H,d,t} = Q_{T,H,d,t} \\times \\frac{1}{C_{af,H} \\times C_{df}}\n",
    "$$"
   ]
  },
  {
   "cell_type": "markdown",
   "metadata": {},
   "source": [
    "$Q_{T,H,d,t}$：日付$d$の時刻$t$における1時間当たりの暖房設備機器の処理暖房負荷(MJ/h) / Processing heating load of heating equipment equipment per hour at time $ t $ on date $ d $"
   ]
  },
  {
   "cell_type": "code",
   "execution_count": 19,
   "metadata": {},
   "outputs": [],
   "source": [
    "def calc_Q_dash_T_H_d_t(Q_T_H_d_t, Theta_ex, h_ex):\n",
    "    \"\"\"補正処理暖房負荷 (10)\n",
    "    \n",
    "    :param Q_T_H_d_t: 処理負荷\n",
    "    :type Q_T_H_d_t: ndarray\n",
    "    :param Theta_ex: 外気温度\n",
    "    :type Theta_ex: ndarray\n",
    "    :param h_ex: 外気相対温度\n",
    "    :type h_ex: ndarray\n",
    "    :return: 補正処理暖房負荷 (10)\n",
    "    :rtype: ndarray\n",
    "    \"\"\"\n",
    "    ##室内機吹き出し風量に関する暖房時の能力補正係\n",
    "    C_af_H = get_C_af_H()\n",
    "\n",
    "    ##デフロストに関する暖房出力補正係数\n",
    "    C_d_f = get_C_df_H(Theta_ex, h_ex)\n",
    "\n",
    "    Q_dash_T_H_d_t = Q_T_H_d_t * (1.0 / (C_af_H * C_d_f))\n",
    "\n",
    "    return Q_dash_T_H_d_t\n"
   ]
  },
  {
   "cell_type": "markdown",
   "metadata": {},
   "source": [
    "#### 6.2 ガス消費量 / Gas consumption"
   ]
  },
  {
   "cell_type": "markdown",
   "metadata": {},
   "source": [
    "日付$d$の時刻$t$における１時間当たりのガス消費量$E_{G,H,d,t}$は0とする。"
   ]
  },
  {
   "cell_type": "markdown",
   "metadata": {},
   "source": [
    "It is assumed that gas consumption $ E_{G, H, d, t} $ per hour at time $ t $ of date $ d $ is 0."
   ]
  },
  {
   "cell_type": "code",
   "execution_count": 20,
   "metadata": {},
   "outputs": [],
   "source": [
    "def get_E_G_H_d_t():\n",
    "    \"\"\"ガス消費量\n",
    "    \n",
    "    :return: ガス消費量\n",
    "    :rtype: ndarray\n",
    "    \"\"\"\n",
    "    return np.zeros(24 * 365)\n"
   ]
  },
  {
   "cell_type": "markdown",
   "metadata": {},
   "source": [
    "#### 6.3 灯油消費量 / Kerosene consumption"
   ]
  },
  {
   "cell_type": "markdown",
   "metadata": {},
   "source": [
    "日付$d$の時刻$t$における１時間当たりの灯油消費量$E_{K,H,d,t}$は0とする。"
   ]
  },
  {
   "cell_type": "markdown",
   "metadata": {},
   "source": [
    "The kerosene consumption $ E_{K, H, d, t} $ per hour at the time $ t $ of the date $ d $ is 0."
   ]
  },
  {
   "cell_type": "code",
   "execution_count": 21,
   "metadata": {},
   "outputs": [],
   "source": [
    "def get_E_K_H_d_t():\n",
    "    \"\"\"灯油消費量\n",
    "    \n",
    "    :return: 灯油消費量\n",
    "    :rtype: ndarray\n",
    "    \"\"\"\n",
    "    return np.zeros(24 * 365)\n"
   ]
  },
  {
   "cell_type": "markdown",
   "metadata": {},
   "source": [
    "#### 6.4 その他の燃料による一次エネルギー消費量 / Primary energy consumption by other fuels"
   ]
  },
  {
   "cell_type": "markdown",
   "metadata": {},
   "source": [
    "日付$d$の時刻$t$における１時間当たりのその他の燃料による一次エネルギー消費量$E_{M,H,d,t}$は0とする。"
   ]
  },
  {
   "cell_type": "markdown",
   "metadata": {},
   "source": [
    "Primary energy consumption $ E_{M, H, d, t} $ by other fuel per hour at time $ t $ of date $ d $ is 0."
   ]
  },
  {
   "cell_type": "code",
   "execution_count": 22,
   "metadata": {},
   "outputs": [],
   "source": [
    "def get_E_M_H_d_t():\n",
    "    \"\"\"その他の燃料による一次エネルギー消費量\n",
    "    \n",
    "    :return: その他の燃料による一次エネルギー消費量\n",
    "    :rtype: ndarray\n",
    "    \"\"\"\n",
    "    return np.zeros(24 * 365)\n"
   ]
  },
  {
   "cell_type": "markdown",
   "metadata": {},
   "source": [
    "### 7. 最大冷房出力 / Maximum cooling output"
   ]
  },
  {
   "cell_type": "markdown",
   "metadata": {},
   "source": [
    "#### 7.1 最大冷房出力の計算 / Calculation of maximum cooling output"
   ]
  },
  {
   "cell_type": "markdown",
   "metadata": {},
   "source": [
    "$$\\large\n",
    "Q_{max,C,d,t} = Qr_{max,C,d,t} \\times q_{rtd,C} \\times C_{af,C} \\times C_{hm,C} \\times 3600 \\times 10^{-6}\n",
    "$$"
   ]
  },
  {
   "cell_type": "markdown",
   "metadata": {},
   "source": [
    "$Q_{max,C,d,t}$：日付$d$の時刻$t$における1時間当たりの最大冷房出力(MJ/h) / Maximum cooling output per hour at time $ t $ of date $ d $  \n",
    "$Qr_{max,C,d,t}$：日付$d$の時刻$t$における最大冷房出力比 / Maximum cooling power ratio at time $ t $ of date $ d $  \n",
    "$q_{rtd,C}$：定格冷房能力(W) / Rated cooling capacity  \n",
    "$C_{af,C}$：室内機吹き出し風量に関する冷房出力補正係数 / Cooling output correction factor related to indoor unit blowing air volume  \n",
    "$C_{hm,C}$：室内機吸い込み湿度に関する冷房出力補正係数 / Cooling output correction factor for indoor unit suction humidity  "
   ]
  },
  {
   "cell_type": "code",
   "execution_count": 23,
   "metadata": {},
   "outputs": [],
   "source": [
    "def calc_Q_max_C_d_t(Q_r_max_C_d_t, q_rtd_C):\n",
    "    \"\"\"最大冷房出力 (11)\n",
    "    \n",
    "    :param Q_r_max_C_d_t: 最大冷房出力比 \n",
    "    :type Q_r_max_C_d_t: ndarray\n",
    "    :param q_rtd_C: 定格冷房能力\n",
    "    :type q_rtd_C: float\n",
    "    :return: 最大冷房出力\n",
    "    :rtype: ndarray\n",
    "    \"\"\"\n",
    "    # 室内機吸い込み湿度に関する冷房出力補正係数\n",
    "    C_hm_C = get_C_hm_C()\n",
    "\n",
    "    # 室内機吹き出し風量に関する冷房出力係数\n",
    "    C_af_C = get_C_af_C()\n",
    "\n",
    "    return Q_r_max_C_d_t * q_rtd_C * C_af_C * C_hm_C * 3600 * 10 ** (-6)\n"
   ]
  },
  {
   "cell_type": "markdown",
   "metadata": {},
   "source": [
    "$$\\large\n",
    "Qr_{max,C,d,t} = a_2 \\times (\\theta_{ex,d,t} - 35)^2 + a_1 \\times (\\theta_{ex,d,t} - 35) + a_0\n",
    "$$"
   ]
  },
  {
   "cell_type": "code",
   "execution_count": 24,
   "metadata": {},
   "outputs": [],
   "source": [
    "def calc_Q_r_max_C_d_t(q_r_max_C, q_rtd_C, Theta_ex_d_t):\n",
    "    \"\"\"最大冷房出力比 (12)\n",
    "    \n",
    "    :param q_r_max_C: 最大冷房能力比 \n",
    "    :type q_r_max_C: float\n",
    "    :param q_rtd_C: 定格冷房能力\n",
    "    :type q_rtd_C: float\n",
    "    :param Theta_ex_d_t: 1時間当たりの外気温度\n",
    "    :type Theta_ex_d_t: ndarray\n",
    "    :return: 最大冷房出力比\n",
    "    :rtype: ndarray\n",
    "    \"\"\"\n",
    "    a2, a1, a0 = calc_a_eq13(q_r_max_C, q_rtd_C)\n",
    "    return a2 * (Theta_ex_d_t - 35) ** 2 + a1 * (Theta_ex_d_t - 35) + a0\n"
   ]
  },
  {
   "cell_type": "markdown",
   "metadata": {},
   "source": [
    "$q_{rtd,C}$が5600(W)を超える場合については、$q_{rtd,C}$は5600(W)に等しいとして計算するものとする。"
   ]
  },
  {
   "cell_type": "markdown",
   "metadata": {},
   "source": [
    "When $ q_{rtd, C} $ exceeds 5600 (W), it is assumed that $ q_{rtd, C} $ is calculated to be equal to 5600 (W)."
   ]
  },
  {
   "cell_type": "markdown",
   "metadata": {},
   "source": [
    "$$\n",
    "\\Biggl(\\begin{matrix}\n",
    "    a_2\\\\\n",
    "    a_1\\\\\n",
    "    a_0\\\\\n",
    "    \\end{matrix}\n",
    "\\Biggr) = \n",
    "\\Biggl(\\begin{matrix}\n",
    "    b_2\\\\ \n",
    "    b_1\\\\ \n",
    "    b_0\\\\ \n",
    "    \\end{matrix}\n",
    "\\Biggr) \\times qr_{max,C} + \n",
    "\\Biggl(\\begin{matrix}\n",
    "    c_2\\\\ \n",
    "    c_1\\\\ \n",
    "    c_0\\\\ \n",
    "    \\end{matrix}\n",
    "\\Biggr)\n",
    "$$"
   ]
  },
  {
   "cell_type": "markdown",
   "metadata": {},
   "source": [
    "$$\n",
    "\\Biggl(\\begin{matrix}\n",
    "    b_2\\\\ \n",
    "    b_1\\\\ \n",
    "    b_0\\\\ \n",
    "    \\end{matrix}\n",
    "\\Biggr) = \n",
    "\\Biggl(\\begin{matrix}\n",
    "    0.000182\\\\ \n",
    "    0.003527\\\\ \n",
    "    -0.011490\\\\ \n",
    "    \\end{matrix}\n",
    "\\Biggr) \\times q_{rtd,C} \\times 10^{-3}  + \n",
    "\\Biggl(\\begin{matrix}\n",
    "    -0.001480\\\\ \n",
    "    -0.023000\\\\ \n",
    "    1.024328\\\\ \n",
    "    \\end{matrix}\n",
    "\\Biggr)\n",
    "$$"
   ]
  },
  {
   "cell_type": "markdown",
   "metadata": {},
   "source": [
    "$$\n",
    "\\Biggl(\\begin{matrix}\n",
    "    c_2\\\\ \n",
    "    c_1\\\\ \n",
    "    c_0\\\\ \n",
    "    \\end{matrix}\n",
    "\\Biggr) = \n",
    "\\Biggl(\\begin{matrix}\n",
    "    -0.000350\\\\ \n",
    "    -0.001280\\\\ \n",
    "    0.004772\\\\ \n",
    "    \\end{matrix}\n",
    "\\Biggr) \\times q_{rtd,C} \\times 10^{-3}  + \n",
    "\\Biggl(\\begin{matrix}\n",
    "    0.000800\\\\ \n",
    "    0.003621\\\\ \n",
    "    -0.011170\\\\ \n",
    "    \\end{matrix}\n",
    "\\Biggr)\n",
    "$$"
   ]
  },
  {
   "cell_type": "markdown",
   "metadata": {},
   "source": [
    "$qr_{max,C}$：最大冷房能力比 / Maximum cooling capacity ratio  \n",
    "$q_{rtd,C}$：定格冷房能力(W) / Rated cooling capacity  "
   ]
  },
  {
   "cell_type": "code",
   "execution_count": 25,
   "metadata": {},
   "outputs": [],
   "source": [
    "def calc_a_eq13(q_r_max_C, q_rtd_C):\n",
    "    \"\"\"係数a2及びa1,a0 (13a)\n",
    "    \n",
    "    :param q_r_max_C: 最大冷房能力比 \n",
    "    :type q_r_max_C: float\n",
    "    :param q_rtd_C: 定格冷房能力\n",
    "    :type q_rtd_C: float\n",
    "    :return: 係数a2及びa1,a0 \n",
    "    :rtype: tuple\n",
    "    \"\"\"\n",
    "    b2, b1, b0 = get_b_eq13(q_rtd_C)\n",
    "    c2, c1, c0 = get_c_eq13(q_rtd_C)\n",
    "    a2 = b2 * q_r_max_C + c2\n",
    "    a1 = b1 * q_r_max_C + c1\n",
    "    a0 = b0 * q_r_max_C + c0\n",
    "    return a2, a1, a0\n",
    "\n",
    "\n",
    "# 係数b2,b1,b0 (13b)\n",
    "def get_b_eq13(q_rtd_C):\n",
    "    \"\"\"係数b2,b1,b0 (13b)\n",
    "    \n",
    "    :param q_rtd_C: 定格冷房能力\n",
    "    :type q_rtd_C: float\n",
    "    :return: 係数b2,b1,b0\n",
    "    :rtype: tuple\n",
    "    \"\"\"\n",
    "    q_rtd_C = min(5600, q_rtd_C)\n",
    "    b2 = 0.000812 * q_rtd_C * 10 ** (-3) - 0.001480\n",
    "    b1 = 0.003527 * q_rtd_C * 10 ** (-3) - 0.023000\n",
    "    b0 = -0.011490 * q_rtd_C * 10 ** (-3) + 1.024328\n",
    "    return b2, b1, b0\n",
    "\n",
    "\n",
    "# 係数c2,c1,c0 (13c)\n",
    "def get_c_eq13(q_rtd_C):\n",
    "    \"\"\"係数c2,c1,c0 (13c)\n",
    "    \n",
    "    :param q_rtd_C: 定格冷房能力\n",
    "    :type q_rtd_C: float\n",
    "    :return: 係数c2,c1,c0 \n",
    "    :rtype: tuple\n",
    "    \"\"\"\n",
    "    q_rtd_C = min(5600, q_rtd_C)\n",
    "    c2 = -0.000350 * q_rtd_C * 10 ** (-3) + 0.000800\n",
    "    c1 = -0.001280 * q_rtd_C * 10 ** (-3) + 0.003621\n",
    "    c0 = 0.004772 * q_rtd_C * 10 ** (-3) - 0.011170\n",
    "    return c2, c1, c0\n"
   ]
  },
  {
   "cell_type": "markdown",
   "metadata": {},
   "source": [
    "$$\\large\n",
    "qr_{max,C} = \\frac{q_{max,C}}{q_{rtd,C}}\n",
    "$$"
   ]
  },
  {
   "cell_type": "markdown",
   "metadata": {},
   "source": [
    "$q_{max,C}$：最大冷房能力(W) / Maximum cooling capacity  \n",
    "$q_{rtd,C}$：定格冷房能力(W) / Rated cooling capacity  "
   ]
  },
  {
   "cell_type": "code",
   "execution_count": 26,
   "metadata": {},
   "outputs": [],
   "source": [
    "def get_q_r_max_C(q_max_C, q_rtd_C):\n",
    "    \"\"\"最大冷房能力比 (14)\n",
    "    \n",
    "    :param q_max_C: 最大冷房能力\n",
    "    :type q_max_C: float\n",
    "    :param q_rtd_C: 定格冷房能力\n",
    "    :type q_rtd_C: float\n",
    "    :return: 最大冷房能力比\n",
    "    :rtype: float\n",
    "    \"\"\"\n",
    "    return q_max_C / q_rtd_C\n"
   ]
  },
  {
   "cell_type": "markdown",
   "metadata": {},
   "source": [
    "室内機吹き出し風量に関する冷房時の能力補正係数$C_{af,C}$は0.85とする。  \n",
    "室内機吸い込み湿度に関する冷房能力補正係数$C_{hm,C}$は1.15とする。"
   ]
  },
  {
   "cell_type": "markdown",
   "metadata": {},
   "source": [
    "The capacity correction coefficient $ C_{af, C} $ at the time of cooling relating to the indoor unit blowing air volume is set to 0.85.  \n",
    "The cooling capacity correction coefficient $ C_{hm, C} $ related to indoor unit suction humidity is 1.15."
   ]
  },
  {
   "cell_type": "code",
   "execution_count": 27,
   "metadata": {},
   "outputs": [],
   "source": [
    "def get_C_af_C():\n",
    "    \"\"\"室内機吹き出し風量に関する冷房時の能力補正係数 C_af_C\n",
    "    \n",
    "    :return: 室内機吹き出し風量に関する冷房時の能力補正係数\n",
    "    :rtype: float\n",
    "    \"\"\"\n",
    "    return 0.85\n",
    "\n",
    "\n",
    "# 室内機吸い込み湿度に関する冷房能力補正係 C_hm_C\n",
    "def get_C_hm_C():\n",
    "    \"\"\"室内機吸い込み湿度に関する冷房能力補正係数 C_hm_C\n",
    "    \n",
    "    :return: 室内機吸い込み湿度に関する冷房能力補正係数\n",
    "    :rtype: float\n",
    "    \"\"\"\n",
    "    return 1.15\n"
   ]
  },
  {
   "cell_type": "markdown",
   "metadata": {},
   "source": [
    "#### 7.2 最大冷房顕熱出力及び最大冷房潜熱出力の計算 / Calculation of maximum cooling sensible heat output and maximum cooling latent heat output"
   ]
  },
  {
   "cell_type": "markdown",
   "metadata": {},
   "source": [
    "$$\\large\n",
    "Q_{max,CS,d,t} = Q_{max,C,d,t} \\times SHF'_{d,t}\n",
    "$$\n",
    "\n",
    "$$\\large\n",
    "Q_{max,CL,d,t} = min(Q_{max,C,d,t} \\times (1 - SHF'_{d,t}),  L'_{CL,d,t})\n",
    "$$"
   ]
  },
  {
   "cell_type": "markdown",
   "metadata": {},
   "source": [
    "$Q_{max,CS,d,t}$：日付$d$の時刻$t$における1時間当たりの最大冷房顕熱出力(MJ/h) / Maximum cooling sensible heat output per hour at time $ t $ of date $ d $  \n",
    "$Q_{max,CL,d,t}$：日付$d$の時刻$t$における1時間当たりの最大冷房潜熱出力(MJ/h) / Maximum cooling latent heat output per hour at time $ t $ of date $ d $  \n",
    "$Q_{max,C,d,t}$：日付$d$の時刻$t$における1時間当たりの最大冷房出力(MJ/h) / Maximum cooling output per hour at time $ t $ of date $ d $  \n",
    "$SHF'_{d,t}$：日付$d$の時刻$t$における冷房負荷補正顕熱比 / Cooling load correction sensible heat ratio at time $ t $ of date $ d $  "
   ]
  },
  {
   "cell_type": "code",
   "execution_count": 28,
   "metadata": {},
   "outputs": [],
   "source": [
    "def get_Q_max_CS_d_t(Q_max_C_d_t, SHF_dash_d_t):\n",
    "    \"\"\"最大冷房顕熱出力 (15a)\n",
    "    \n",
    "    :param Q_max_C_d_t: 最大冷房出力\n",
    "    :type Q_max_C_d_t: ndarray\n",
    "    :param SHF_dash_d_t: 冷房負荷補正顕熱比\n",
    "    :type SHF_dash_d_t: ndarray\n",
    "    :return: 最大冷房顕熱出力\n",
    "    :rtype: ndarray\n",
    "    \"\"\"\n",
    "    return Q_max_C_d_t * SHF_dash_d_t\n"
   ]
  },
  {
   "cell_type": "code",
   "execution_count": 29,
   "metadata": {},
   "outputs": [],
   "source": [
    "def get_Q_max_CL_d_t(Q_max_C_d_t, SHF_dash_d_t, L_dash_CL_d_t):\n",
    "    \"\"\"最大冷房潜熱出力 (15b)\n",
    "    \n",
    "    :param Q_max_C_d_t: 最大冷房出力\n",
    "    :type Q_max_C_d_t: ndarray\n",
    "    :param SHF_dash_d_t: 冷房負荷補正顕熱比\n",
    "    :type SHF_dash_d_t: ndarray\n",
    "    :param L_dash_CL_d_t: 1時間当たりの補正冷房潜熱負荷\n",
    "    :type L_dash_CL_d_t: ndarray\n",
    "    :return: 最大冷房潜熱出力\n",
    "    :rtype: ndarray\n",
    "    \"\"\"\n",
    "    return np.clip(Q_max_C_d_t * (1.0 - SHF_dash_d_t), 0, L_dash_CL_d_t)\n"
   ]
  },
  {
   "cell_type": "markdown",
   "metadata": {},
   "source": [
    "$$\\large\n",
    "SHF'_{d,t} = \\left\\{ \\begin{array}{ll}\n",
    "    \\frac{L_{CS,d,t}}{L'_{C,d,t}} & (L'_{C,d,t} \\neq 0)\\\\ \n",
    "    0 & (L'_{C,d,t} = 0)\\\\ \n",
    "    \\end{array}\n",
    "\\right.\n",
    "$$"
   ]
  },
  {
   "cell_type": "markdown",
   "metadata": {},
   "source": [
    "$L_{CS,d,t}$：日付$d$の時刻$t$における1時間当たりの冷房顕熱負荷(MJ/h) / Cooling sensible heat load per hour at time $ t $ of date $ d $  \n",
    "$L'_{C,d,t}$：日付$d$の時刻$t$における1時間当たりの補正冷房負荷(MJ/h) / Corrected cooling load per hour at time $ t $ of date $ d $  "
   ]
  },
  {
   "cell_type": "code",
   "execution_count": 30,
   "metadata": {},
   "outputs": [],
   "source": [
    "def get_SHF_dash_d_t(L_CS_d_t, L_dash_C_d_t):\n",
    "    \"\"\"冷房負荷補正顕熱比 (16)\n",
    "    \n",
    "    :param L_CS_d_t: 暖冷房区画の 1 時間当たりの冷房顕熱負荷\n",
    "    :type L_CS_d_t: ndarray\n",
    "    :param L_dash_CL_d_t: 1時間当たりの補正冷房潜熱負荷\n",
    "    :type L_dash_CL_d_t: ndarray\n",
    "    :return: 冷房負荷補正顕熱比\n",
    "    :rtype: float\n",
    "    \"\"\"\n",
    "    SHF_dash_d_t = np.zeros(24*365)\n",
    "    f1 = L_dash_C_d_t > 0\n",
    "    SHF_dash_d_t[f1] = L_CS_d_t[f1] / L_dash_C_d_t[f1]\n",
    "    return SHF_dash_d_t\n"
   ]
  },
  {
   "cell_type": "markdown",
   "metadata": {},
   "source": [
    "$$\\large\n",
    "L'_{C,d,t} = L_{CS,d,t} + L'_{CL,d,t}\n",
    "$$"
   ]
  },
  {
   "cell_type": "markdown",
   "metadata": {},
   "source": [
    "$L_{CS,d,t}$：日付$d$の時刻$t$における1時間当たりの冷房顕熱負荷(MJ/h) / Cooling sensible heat load per hour at time $ t $ of date $ d $  \n",
    "$L'_{CL,d,t}$：日付$d$の時刻$t$における1時間当たりの補正冷房潜熱負荷(MJ/h) / Corrected cooling latent heat load per hour at time $ t $ of date $ d $  "
   ]
  },
  {
   "cell_type": "code",
   "execution_count": 31,
   "metadata": {},
   "outputs": [],
   "source": [
    "def get_L_dash_C_d_t(L_CS_d_t, L_dash_CL_d_t):\n",
    "    \"\"\"補正冷房負荷 (17)\n",
    "    \n",
    "    :param L_CS_d_t: 暖冷房区画の 1 時間当たりの冷房顕熱負荷\n",
    "    :type L_CS_d_t: ndarray\n",
    "    :param L_dash_CL_d_t: 1時間当たりの補正冷房潜熱負荷\n",
    "    :type L_dash_CL_d_t: ndarray\n",
    "    :return: 補正冷房負荷\n",
    "    :rtype: ndarray\n",
    "    \"\"\"\n",
    "    return L_CS_d_t + L_dash_CL_d_t\n"
   ]
  },
  {
   "cell_type": "markdown",
   "metadata": {},
   "source": [
    "$$\\large\n",
    "L'_{CL,d,t} = min(L_{max,CL,d,t},  L_{CL,d,t})\n",
    "$$"
   ]
  },
  {
   "cell_type": "markdown",
   "metadata": {},
   "source": [
    "$L_{max,CL,d,t}$：日付$d$の時刻$t$における1時間当たりの最大冷房潜熱負荷(MJ/h) / Maximum cooling latent heat load per hour at time $ t $ of date $ d $  \n",
    "$L_{CL,d,t}$：日付$d$の時刻$t$における1時間当たりの冷房潜熱負荷(MJ/h) / Cooling latent heat load per hour at time $ t $ of date $ d $  "
   ]
  },
  {
   "cell_type": "code",
   "execution_count": 32,
   "metadata": {},
   "outputs": [],
   "source": [
    "def get_L_dash_CL_d_t(L_max_CL_d_t, L_CL_d_t):\n",
    "    \"\"\"補正冷房潜熱負荷 (18)\n",
    "    \n",
    "    :param L_max_CL_d_t: 1時間当たりの最大冷房潜熱負荷 \n",
    "    :type L_max_CL_d_t: ndarray\n",
    "    :param L_CL_d_t: 暖冷房区画の 1 時間当たりの冷房潜熱負荷\n",
    "    :type L_CL_d_t: ndarray\n",
    "    :return: 補正冷房潜熱負荷\n",
    "    :rtype: ndarray\n",
    "    \"\"\"\n",
    "    return np.clip(L_CL_d_t, 0, L_max_CL_d_t)\n"
   ]
  },
  {
   "cell_type": "markdown",
   "metadata": {},
   "source": [
    "$$\\large\n",
    "L_{max,CL,d,t} = L_{CS,d,t} \\times \\frac{1 - SHF_{L,min,c}}{SHF_{L,min,c}}\n",
    "$$"
   ]
  },
  {
   "cell_type": "markdown",
   "metadata": {},
   "source": [
    "$L_{CS,d,t}$：日付$d$の時刻$t$における1時間当たりの冷房顕熱負荷(MJ/h) / Cooling sensible heat load per hour at time $ t $ of date $ d $  \n",
    "$SHF_{L,min,c}$：冷房負荷最小顕熱比 / Cooling load minimum sensible heat ratio  "
   ]
  },
  {
   "cell_type": "code",
   "execution_count": 33,
   "metadata": {},
   "outputs": [],
   "source": [
    "def get_L_max_CL_d_t(L_CS_d_t, SHF_L_min_c):\n",
    "    \"\"\"最大冷房潜熱負荷 (19)\n",
    "    \n",
    "    :param L_CS_d_t: 暖冷房区画の 1 時間当たりの冷房顕熱負荷\n",
    "    :type L_CS_d_t: ndarray\n",
    "    :param SHF_L_min_c: 冷房負荷最小顕熱比率\n",
    "    :type SHF_L_min_c: float\n",
    "    :return: 最大冷房潜熱負荷\n",
    "    :rtype: ndarray\n",
    "    \"\"\"\n",
    "    return L_CS_d_t * ((1.0 - SHF_L_min_c) / SHF_L_min_c)\n"
   ]
  },
  {
   "cell_type": "markdown",
   "metadata": {},
   "source": [
    "冷房負荷最小顕熱比$SHF_{L,min,c}$は0.4とする。"
   ]
  },
  {
   "cell_type": "markdown",
   "metadata": {},
   "source": [
    "The cooling load minimum sensible heat ratio $ SHF_{L, min, c} $ is 0.4."
   ]
  },
  {
   "cell_type": "code",
   "execution_count": 34,
   "metadata": {},
   "outputs": [],
   "source": [
    "def get_SHF_L_min_c():\n",
    "    \"\"\"冷房負荷最小顕熱比\n",
    "    \n",
    "    :return: 冷房負荷最小顕熱比率\n",
    "    :rtype: float\n",
    "    \"\"\"\n",
    "    return 0.4\n"
   ]
  },
  {
   "cell_type": "markdown",
   "metadata": {},
   "source": [
    "### 8. 冷房エネルギー消費量 / Cooling energy consumption"
   ]
  },
  {
   "cell_type": "markdown",
   "metadata": {},
   "source": [
    "#### 8.1 消費電力量 / Power consumption"
   ]
  },
  {
   "cell_type": "markdown",
   "metadata": {},
   "source": [
    "日付$d$の時刻$t$における補正処理冷房負荷 $Q'_{T,c,d,t}$が0の場合、$E_{E,C,d,t}$ = 0とする。"
   ]
  },
  {
   "cell_type": "markdown",
   "metadata": {},
   "source": [
    "Correction processing at time $ t $ of date $ d $ If cooling load $ Q'_{T, c, d, t} $ is 0, then $ E_{E, C, d, t} $ = 0."
   ]
  },
  {
   "cell_type": "markdown",
   "metadata": {},
   "source": [
    "$$\\large\n",
    "E_{E,C,d,t} = f_{C,\\theta} \\Biggl( \\frac{Q'_{T,c,d,t}}{q_{max,C} \\times 3600 \\times 10^{-6}} \\Biggr) \\div \n",
    "f_{C,35} \\Biggl( \\frac{1}{qr_{max,C}} \\Biggr) \\times \\frac{q_{rtd,C}}{e_{rtd,C}} \\times 10^{-3}\n",
    "$$"
   ]
  },
  {
   "cell_type": "markdown",
   "metadata": {},
   "source": [
    "$E_{E,C,d,t}$：日付$d$の時刻$t$における1時間当たりの消費電力量(kWh/h) / Power consumption per hour at time $ t $ of date $ d $  \n",
    "$f_{C,\\theta}$：基準入出力関数 / Reference input / output function    \n",
    "$Q'_{T,c,d,t}$：日付$d$の時刻$t$における補正処理冷房負荷(MJ/h) / Corrected processing cooling load at time $ t $ of date $ d $    \n",
    "$q_{max,C}$：最大冷房能力(W) / Maximum cooling capacity    \n",
    "$q_{rtd,C}$：定格冷房能力(W) / Rated cooling capacity    \n",
    "$e_{rtd,C}$：定格冷房エネルギー消費効率 / Rated cooling energy consumption efficiency  "
   ]
  },
  {
   "cell_type": "code",
   "execution_count": 35,
   "metadata": {},
   "outputs": [],
   "source": [
    "def calc_E_E_C_d_t(region, q_rtd_C, e_rtd_C, dualcompressor, L_CS_d_t, L_CL_d_t):\n",
    "    \"\"\"消費電力量 (20)\n",
    "    \n",
    "    :param region: 省エネルギー地域区分\n",
    "    :type region: int\n",
    "    :param q_rtd_C: 定格冷房能力\n",
    "    :type q_rtd_C: float\n",
    "    :param e_rtd_C: 定格冷房エネルギー消費効率\n",
    "    :type e_rtd_C: float\n",
    "    :param dualcompressor: 容量可変型コンプレッサー搭載\n",
    "    :type dualcompressor: bool\n",
    "    :param L_CS_d_t: 暖冷房区画の 1 時間当たりの冷房顕熱負荷\n",
    "    :type L_CS_d_t: ndarray\n",
    "    :param L_CL_d_t: 暖冷房区画の 1 時間当たりの冷房潜熱負荷\n",
    "    :type L_CL_d_t: ndarray\n",
    "    :return: 消費電力量\n",
    "    :rtype: ndarray\n",
    "    \"\"\"\n",
    "    # 外気条件\n",
    "    outdoor = load_outdoor()\n",
    "    Theta_ex = get_Theta_ex(region, outdoor)\n",
    "    X_ex = get_X_ex(region, outdoor)\n",
    "    h_ex = calc_h_ex(X_ex, Theta_ex)\n",
    "\n",
    "    # 最大冷房能力\n",
    "    q_max_C = get_q_max_C(q_rtd_C)\n",
    "\n",
    "    # 最大冷房能力比\n",
    "    q_r_max_C = get_q_r_max_C(q_max_C, q_rtd_C)\n",
    "\n",
    "    # 最大冷房出力比\n",
    "    Q_r_max_C_d_t = calc_Q_r_max_C_d_t(q_r_max_C, q_rtd_C, Theta_ex)\n",
    "\n",
    "    # 最大冷房出力\n",
    "    Q_max_C_d_t = calc_Q_max_C_d_t(Q_r_max_C_d_t, q_rtd_C)\n",
    "\n",
    "    # 冷房負荷最小顕熱比\n",
    "    SHF_L_min_c = get_SHF_L_min_c()\n",
    "\n",
    "    # 最大冷房潜熱負荷\n",
    "    L_max_CL_d_t = get_L_max_CL_d_t(L_CS_d_t, SHF_L_min_c)\n",
    "\n",
    "    # 補正冷房潜熱負荷\n",
    "    L_dash_CL_d_t = get_L_dash_CL_d_t(L_max_CL_d_t, L_CL_d_t)\n",
    "    L_dash_C_d_t = get_L_dash_C_d_t(L_CS_d_t, L_dash_CL_d_t)\n",
    "\n",
    "    # 冷房負荷補正顕熱比\n",
    "    SHF_dash_d_t = get_SHF_dash_d_t(L_CS_d_t, L_dash_C_d_t)\n",
    "\n",
    "    # 最大冷房顕熱出力, 最大冷房潜熱出力\n",
    "    Q_max_CS_d_t = get_Q_max_CS_d_t(Q_max_C_d_t, SHF_dash_d_t)\n",
    "    Q_max_CL_d_t = get_Q_max_CL_d_t(Q_max_C_d_t, SHF_dash_d_t, L_dash_CL_d_t)\n",
    "\n",
    "    # 処理冷房負荷\n",
    "    Q_T_CS_d_t = get_Q_T_CS_d_t_i(Q_max_CS_d_t_i=Q_max_CS_d_t, L_CS_d_t_i=L_CS_d_t)\n",
    "    Q_T_CL_d_t = get_Q_T_CL_d_t_i(Q_max_CL_d_t_i=Q_max_CL_d_t, L_CL_d_t_i=L_CL_d_t)\n",
    "\n",
    "    # 補正処理冷房負荷\n",
    "    Q_dash_T_C_d_t = calc_Q_dash_T_C_d_t(Q_T_CS_d_t, Q_T_CL_d_t)\n",
    "    \n",
    "    # 消費電力量\n",
    "    E_E_C_d_t = calc_f_C_Theta(Q_dash_T_C_d_t / (q_max_C * 3600 * 10 ** (-6)), Theta_ex, q_rtd_C, dualcompressor) \\\n",
    "                / calc_f_C_Theta(1.0 / q_r_max_C, np.ones(24 * 365) * 35.0, q_rtd_C, dualcompressor) \\\n",
    "                * (q_rtd_C / e_rtd_C) * 10 ** (-3)\n",
    "    E_E_C_d_t[Q_dash_T_C_d_t == 0.0] = 0.0\n",
    "\n",
    "    return E_E_C_d_t\n"
   ]
  },
  {
   "cell_type": "markdown",
   "metadata": {},
   "source": [
    "$$\\large\n",
    "f_{C,\\theta}(x) = a_{4}x^{4} + a_{3}x^{3} + a_{2}x^{2} + a_{1}x + a_{0}\n",
    "$$"
   ]
  },
  {
   "cell_type": "markdown",
   "metadata": {},
   "source": [
    "\\begin{equation*}\n",
    "\\left(\\begin{matrix}\n",
    "    a_4\\\\\n",
    "    a_3\\\\\n",
    "    a_2\\\\\n",
    "    a_1\\\\\n",
    "    a_0\\\\\n",
    "    \\end{matrix}\n",
    "\\right) = \n",
    "\\left(\\begin{matrix}\n",
    "    p_{42} & p_{41} & p_{40}\\\\\n",
    "    p_{32} & p_{31} & p_{30}\\\\\n",
    "    p_{22} & p_{21} & p_{20}\\\\\n",
    "    p_{12} & p_{11} & p_{10}\\\\\n",
    "    p_{02} & p_{01} & p_{00}\\\\\n",
    "    \\end{matrix}\n",
    "\\right)\n",
    "\\left(\\begin{matrix}\n",
    "    \\theta_{ex}^2\\\\ \n",
    "    \\theta_{ex}\\\\ \n",
    "    1\\\\ \n",
    "    \\end{matrix}\n",
    "\\right)\n",
    "\\end{equation*}"
   ]
  },
  {
   "cell_type": "code",
   "execution_count": 36,
   "metadata": {},
   "outputs": [],
   "source": [
    "def calc_f_C_Theta(x, Theta_ex, q_rtd_C, dualcompressor=False):\n",
    "    \"\"\"基準入出力関数 (21)\n",
    "    \n",
    "    :param x: 入力\n",
    "    :type x: float\n",
    "    :param Theta_ex: 外気気温\n",
    "    :type Theta_ex: ndarray\n",
    "    :param q_rtd_C:  定格冷房能力\n",
    "    :type q_rtd_C: float\n",
    "    :param dualcompressor: 容量可変型コンプレッサー搭載, defaults to False\n",
    "    :type dualcompressor: bool, optional\n",
    "    :return: 基準入出力関数の入力xに対する出力\n",
    "    :rtype: float\n",
    "    \"\"\"\n",
    "    # 係数a0-a4\n",
    "    a0, a1, a2, a3, a4 = calc_a_eq22(Theta_ex, q_rtd_C, dualcompressor=dualcompressor)\n",
    "\n",
    "    return a4 * x ** 4 + a3 * x ** 3 + a2 * x ** 2 + a1 * x + a0\n"
   ]
  },
  {
   "cell_type": "code",
   "execution_count": 37,
   "metadata": {},
   "outputs": [],
   "source": [
    "def calc_a_eq22(Theta_ex, q_rtd_C, dualcompressor=False):\n",
    "    \"\"\"係数a0-a4\n",
    "    \n",
    "    :param Theta_ex: 外気気温\n",
    "    :type Theta_ex: ndarray\n",
    "    :param q_rtd_C:  定格冷房能力\n",
    "    :type q_rtd_C: float\n",
    "    :param dualcompressor: 容量可変型コンプレッサー搭載, defaults to False\n",
    "    :type dualcompressor: bool, optional\n",
    "    :return: 係数a0-a4\n",
    "    :rtype: tuple\n",
    "    \"\"\"\n",
    "    if dualcompressor == False:\n",
    "        # 容量可変型コンプレッサー搭載ルームエアコンディショナーでないルームエアコンディショナー\n",
    "        calc_p_i = calc_p_i_eq23\n",
    "    else:\n",
    "        # 容量可変型コンプレッサー搭載ルームエアコンディショナー\n",
    "        calc_p_i = calc_p_i_eq24\n",
    "\n",
    "    # 係数p_i\n",
    "    p42 = calc_p_i(42, q_rtd_C)\n",
    "    p41 = calc_p_i(41, q_rtd_C)\n",
    "    p40 = calc_p_i(40, q_rtd_C)\n",
    "    p32 = calc_p_i(32, q_rtd_C)\n",
    "    p31 = calc_p_i(31, q_rtd_C)\n",
    "    p30 = calc_p_i(30, q_rtd_C)\n",
    "    p22 = calc_p_i(22, q_rtd_C)\n",
    "    p21 = calc_p_i(21, q_rtd_C)\n",
    "    p20 = calc_p_i(20, q_rtd_C)\n",
    "    p12 = calc_p_i(12, q_rtd_C)\n",
    "    p11 = calc_p_i(11, q_rtd_C)\n",
    "    p10 = calc_p_i(10, q_rtd_C)\n",
    "    p02 = calc_p_i(2, q_rtd_C)\n",
    "    p01 = calc_p_i(1, q_rtd_C)\n",
    "    p00 = calc_p_i(0, q_rtd_C)\n",
    "\n",
    "    a4 = p42 * Theta_ex ** 2 + p41 * Theta_ex + p40 * 1\n",
    "    a3 = p32 * Theta_ex ** 2 + p31 * Theta_ex + p30 * 1\n",
    "    a2 = p22 * Theta_ex ** 2 + p21 * Theta_ex + p20 * 1\n",
    "    a1 = p12 * Theta_ex ** 2 + p11 * Theta_ex + p10 * 1\n",
    "    a0 = p02 * Theta_ex ** 2 + p01 * Theta_ex + p00 * 1\n",
    "\n",
    "    return a0, a1, a2, a3, a4"
   ]
  },
  {
   "cell_type": "markdown",
   "metadata": {},
   "source": [
    "小能力時高効率型コンプレッサー搭載ルームエアコンディショナーでないルームエアコンディショナーについては、係数$p_{i}$は式により与えられ、係数$s_{i}$及び$t_{i}$は表より表される。\n",
    "$q_{rtd,C}$が5600(W)を超える場合については、$q_{rtd,C}$は5600(W)に等しいとして計算するものとする。"
   ]
  },
  {
   "cell_type": "markdown",
   "metadata": {},
   "source": [
    "For room air conditioners that are not room air conditioners with variable displacement compressors, the coefficients $ p_ {i} $ are given by the equation, and the coefficients $ s_ {i} $ and $ t_ {i} $ are represented from the table.  \n",
    "When $ q_ {rtd, C} $ exceeds 5600 (W), it is assumed that $ q_ {rtd, C} $ is calculated to be equal to 5600 (W)."
   ]
  },
  {
   "cell_type": "markdown",
   "metadata": {},
   "source": [
    "$$\n",
    "\\begin{equation*}\n",
    "\\large\n",
    "p_{i} = s_{i} \\times q_{rtd,C} \\times 10^{-3} + t_{i}\n",
    "\\end{equation*}\n",
    "$$"
   ]
  },
  {
   "cell_type": "markdown",
   "metadata": {},
   "source": [
    "$q_{rtd,C}$：定格冷房能力(W) / Rated cooling capacity    "
   ]
  },
  {
   "cell_type": "code",
   "execution_count": 38,
   "metadata": {},
   "outputs": [],
   "source": [
    "def calc_p_i_eq23(i, q_rtd_C):\n",
    "    \"\"\"係数p_i (23)\n",
    "    \n",
    "    :param i: [description]\n",
    "    :type i: int\n",
    "    :param q_rtd_C:  定格冷房能力\n",
    "    :type q_rtd_C: float\n",
    "    :return: 係数p_i\n",
    "    :rtype: float\n",
    "    \"\"\"\n",
    "    q_rtd_C = min(5600, q_rtd_C)\n",
    "    s_i = calc_s_i_eq23(i)\n",
    "    t_i = calc_t_i_eq23(i)\n",
    "    return s_i * q_rtd_C * 10 ** (-3) + t_i\n",
    "\n",
    "\n",
    "# 係数s_i (i=0,1,2,10..42)\n",
    "def calc_s_i_eq23(i):\n",
    "    \"\"\"係数s_i (i=0,1,2,10..42)\n",
    "    \n",
    "    :param i: [description]\n",
    "    :type i: int\n",
    "    :return: 係数s_i \n",
    "    :rtype: float\n",
    "    \"\"\"\n",
    "    table_5 = get_table_5()\n",
    "    return table_5[4 - floor(i / 10)][(2 - (i % 10)) * 2]\n",
    "\n",
    "\n",
    "# 係数t_i (i=0,1,2,10..42)\n",
    "def calc_t_i_eq23(i):\n",
    "    table_5 = get_table_5()\n",
    "    return table_5[4 - floor(i / 10)][(2 - (i % 10)) * 2 + 1]"
   ]
  },
  {
   "cell_type": "markdown",
   "metadata": {},
   "source": [
    "<div style=\"text-align: center;font-weight: bold;\">表　係数$s_{i}$及び$t_{i}$<br>Table: Coefficients $ s_{i} $ and $ t_{i} $</div>\n",
    "\n",
    "|係数<br>coefficient|値<br>value|係数<br>coefficient|値<br>value|係数<br>coefficient|値<br>value|係数<br>coefficient|値<br>value|係数<br>coefficient|値<br>value|係数<br>coefficient|値<br>value|\n",
    "|-|-|-|-|-|-|-|-|-|-|-|-|\n",
    "|$s_{42}$|0.00000|$t_{42}$|0.00000|$s_{41}$|0.00000|$t_{41}$|0.00000|$s_{40}$|0.00000|$t_{40}$|0.00000|\n",
    "|$s_{32}$|0.00000|$t_{32}$|0.00000|$s_{31}$|-0.00036|$t_{31}$|0.05080|$s_{30}$|-0.20346|$t_{30}$|0.47765|\n",
    "|$s_{22}$|0.00000|$t_{22}$|0.00000|$s_{21}$|0.00227|$t_{21}$|-0.03952|$s_{20}$|0.04115|$t_{20}$|0.23099|\n",
    "|$s_{12}$|0.00000|$t_{12}$|0.00000|$s_{11}$|-0.00911|$t_{11}$|0.07102|$s_{10}$|0.14950|$t_{10}$|-1.07335|\n",
    "|$s_{02}$|0.00000|$t_{02}$|0.00000|$s_{01}$|0.00044|$t_{01}$|-0.00214|$s_{00}$|-0.06250|$t_{00}$|0.35150|\n"
   ]
  },
  {
   "cell_type": "code",
   "execution_count": 39,
   "metadata": {},
   "outputs": [],
   "source": [
    "def get_table_5():\n",
    "    \"\"\"表5 係数s_i及びt_i\n",
    "    \n",
    "    :return: 表5 係数s_i及びt_i\n",
    "    :rtype: float\n",
    "    \"\"\"\n",
    "    # 表5 係数s_i及びt_i\n",
    "    table_5 = [\n",
    "        (0.00000, 0.00000, 0.00000, 0.00000, 0.00000, 0.00000),\n",
    "        (0.00000, 0.00000, -0.00036, 0.05080, -0.20346, 0.47765),\n",
    "        (0.00000, 0.00000, 0.00227, -0.03952, 0.04115, 0.23099),\n",
    "        (0.00000, 0.00000, -0.00911, 0.07102, 0.14950, -1.07335),\n",
    "        (0.00000, 0.00000, 0.00044, -0.00214, -0.06250, 0.35150)\n",
    "    ]\n",
    "    return table_5\n"
   ]
  },
  {
   "cell_type": "markdown",
   "metadata": {},
   "source": [
    "小能力時高効率型コンプレッサー搭載ルームエアコンディショナーについては下式により表される。"
   ]
  },
  {
   "cell_type": "markdown",
   "metadata": {},
   "source": [
    "The variable displacement compressor equipped room air conditioner is represented by the following formula."
   ]
  },
  {
   "cell_type": "markdown",
   "metadata": {},
   "source": [
    "$q_{rtd,C} \\leq 2200$ の場合"
   ]
  },
  {
   "cell_type": "markdown",
   "metadata": {},
   "source": [
    "If $ q_ {rtd, C} \\leq 2200 $"
   ]
  },
  {
   "cell_type": "markdown",
   "metadata": {},
   "source": [
    "$$\\large\n",
    "p_{i} = p_{i,A}\n",
    "$$"
   ]
  },
  {
   "cell_type": "markdown",
   "metadata": {},
   "source": [
    "$2200 < q_{rtd,C} \\leq 4000$ の場合"
   ]
  },
  {
   "cell_type": "markdown",
   "metadata": {},
   "source": [
    "If $2200 < q_{rtd,C} \\leq 4000$"
   ]
  },
  {
   "cell_type": "markdown",
   "metadata": {},
   "source": [
    "$$\\large\n",
    "p_{i} = p_{i,A} \\times \\frac{4000-q_{rtd,C}}{4000-2200} + p_{i,B} \\times \\frac{q_{rtd,C}-2200}{4000-2200}\n",
    "$$"
   ]
  },
  {
   "cell_type": "markdown",
   "metadata": {},
   "source": [
    "$4000 < q_{rtd,C} < 7100$ の場合"
   ]
  },
  {
   "cell_type": "markdown",
   "metadata": {},
   "source": [
    "If $4000 < q_{rtd,C} < 7100$"
   ]
  },
  {
   "cell_type": "markdown",
   "metadata": {},
   "source": [
    "$$\\large\n",
    "p_{i} = p_{i,B} \\times \\frac{7100-q_{rtd,C}}{7100-4000} + p_{i,C} \\times \\frac{q_{rtd,C}-4000}{7100-4000}\n",
    "$$"
   ]
  },
  {
   "cell_type": "markdown",
   "metadata": {},
   "source": [
    "$7100 \\leq q_{rtd,C}$ の場合"
   ]
  },
  {
   "cell_type": "markdown",
   "metadata": {},
   "source": [
    "If $7100 \\leq q_{rtd,C}$"
   ]
  },
  {
   "cell_type": "markdown",
   "metadata": {},
   "source": [
    "$$\\large\n",
    "p_{i} = p_{i,C}\n",
    "$$"
   ]
  },
  {
   "cell_type": "markdown",
   "metadata": {},
   "source": [
    "$p_{i,A}$：表により表される係数 / Coefficients represented by a table  \n",
    "$p_{i,B}$：表により表される係数 / Coefficients represented by a table  \n",
    "$p_{i,C}$：表により表される係数 / Coefficients represented by a table  "
   ]
  },
  {
   "cell_type": "code",
   "execution_count": 40,
   "metadata": {},
   "outputs": [],
   "source": [
    "def calc_p_i_eq24(i, q_rtd_C):\n",
    "    \"\"\"係数p_i (21)\n",
    "    \n",
    "    :param i: [description]\n",
    "    :type i: int\n",
    "    :param q_rtd_C:  定格冷房能力\n",
    "    :type q_rtd_C: float\n",
    "    :raises ValueError: q_rtd_Cが数値でない場合発生する\n",
    "    :return: 係数p_i \n",
    "    :rtype: float\n",
    "    \"\"\"\n",
    "    if q_rtd_C <= 2200:\n",
    "        # (9a)\n",
    "        return calc_p_i_A_eq24(i)\n",
    "    elif 2200 < q_rtd_C and q_rtd_C <= 4000:\n",
    "        # (9b)\n",
    "        p_i_A = calc_p_i_A_eq24(i)\n",
    "        p_i_B = calc_p_i_B_eq24(i)\n",
    "        return p_i_A * ((4000 - q_rtd_C) / (4000 - 2200)) \\\n",
    "               + p_i_B * ((q_rtd_C - 2200) / (4000 - 2200))\n",
    "    elif 4000 <= q_rtd_C and q_rtd_C < 7100:\n",
    "        # (9c)\n",
    "        p_i_B = calc_p_i_B_eq24(i)\n",
    "        p_i_C = calc_p_i_C_eq24(i)\n",
    "        return p_i_B * ((7100 - q_rtd_C) / (7100 - 4000)) \\\n",
    "               + p_i_C * ((q_rtd_C - 4000) / (7100 - 4000))\n",
    "    elif 7100 <= q_rtd_C:\n",
    "        return calc_p_i_C_eq24(i)\n",
    "    else:\n",
    "        raise ValueError(q_rtd_C)\n"
   ]
  },
  {
   "cell_type": "code",
   "execution_count": 41,
   "metadata": {},
   "outputs": [],
   "source": [
    "def calc_p_i_A_eq24(i):\n",
    "    \"\"\" 係数P_i_A (i=0,1,2,10..42)\n",
    "    \n",
    "    :param i: [description]\n",
    "    :type i: int\n",
    "    :return: 係数P_i_A \n",
    "    :rtype: float\n",
    "    \"\"\"\n",
    "    table_6_A = get_table_6_A()\n",
    "    return table_6_A[4 - floor(i / 10)][(2 - (i % 10))]\n",
    "\n",
    "\n",
    "def calc_p_i_B_eq24(i):\n",
    "    \"\"\" 係数P_i_B\n",
    "    \n",
    "    :param i: [description]\n",
    "    :type i: int\n",
    "    :return: 係数P_i_B\n",
    "    :rtype: float\n",
    "    \"\"\"\n",
    "    table_6_B = get_table_6_B()\n",
    "    return table_6_B[4 - floor(i / 10)][(2 - (i % 10))]\n",
    "\n",
    "\n",
    "def calc_p_i_C_eq24(i):\n",
    "    \"\"\" 係数P_i_C\n",
    "    \n",
    "    :param i: [description]\n",
    "    :type i: int\n",
    "    :return: 係数P_i_C\n",
    "    :rtype: float\n",
    "    \"\"\"\n",
    "    table_6_C = get_table_6_C()\n",
    "    return table_6_C[4 - floor(i / 10)][(2 - (i % 10))]"
   ]
  },
  {
   "cell_type": "markdown",
   "metadata": {},
   "source": [
    "<div style=\"text-align: center;font-weight: bold;\">表　係数$p_{i,A}$<br>Table: Coefficients $ p_{i,A} $</div>\n",
    "\n",
    "|係数<br>coefficient|値<br>value|係数<br>coefficient|値<br>value|係数<br>coefficient|値<br>value|\n",
    "|-|-|-|-|-|-|\n",
    "|$p_{42}$|-0.0004078|$p_{41}$|0.01035|$p_{40}$|-0.03248|\n",
    "|$p_{32}$|0.0|$p_{31}$|0.04099|$p_{30}$|-0.81889|\n",
    "|$p_{22}$|0.0|$p_{21}$|-0.04615|$p_{20}$|2.10666|\n",
    "|$p_{12}$|0.0013382|$p_{11}$|-0.01179|$p_{10}$|-0.41778|\n",
    "|$p_{02}$|0.0000000|$p_{01}$|-0.00102|$p_{00}$|0.09270|\n"
   ]
  },
  {
   "cell_type": "code",
   "execution_count": 42,
   "metadata": {},
   "outputs": [],
   "source": [
    "def get_table_6_A():\n",
    "    \"\"\"表6(A) 係数 p_i_a\n",
    "    \n",
    "    :return: 表6(A) 係数 p_i_a\n",
    "    :rtype: list\n",
    "    \"\"\"   \n",
    "    # 表6(A) 係数 p_i_A\n",
    "    table_6_A = [\n",
    "        (-0.0004078, 0.01035, -0.03248),\n",
    "        (0.0, 0.04099, -0.818809),\n",
    "        (0.0, -0.04615, 2.10666),\n",
    "        (0.0013382, -0.01179, -0.41778),\n",
    "        (0.0000000, -0.00102, 0.09270)\n",
    "    ]\n",
    "    return table_6_A"
   ]
  },
  {
   "cell_type": "markdown",
   "metadata": {},
   "source": [
    "<div style=\"text-align: center;font-weight: bold;\">表　係数$p_{i,B}$<br>Table: Coefficients $ p_{i,B} $</div>\n",
    "\n",
    "|係数<br>coefficient|値<br>value|係数<br>coefficient|値<br>value|係数<br>coefficient|値<br>value|\n",
    "|-|-|-|-|-|-|\n",
    "|$p_{42}$|-0.000056|$p_{41}$|-0.003539|$p_{40}$|-0.430566|\n",
    "|$p_{32}$|0.0|$p_{31}$|0.015237|$p_{30}$|1.188850|\n",
    "|$p_{22}$|0.0|$p_{21}$|0.000527|$p_{20}$|-0.304645|\n",
    "|$p_{12}$|-0.000179|$p_{11}$|0.020543|$p_{10}$|0.130373|\n",
    "|$p_{02}$|0.0|$p_{01}$|0.000240|$p_{00}$|0.013500|\n"
   ]
  },
  {
   "cell_type": "code",
   "execution_count": 43,
   "metadata": {},
   "outputs": [],
   "source": [
    "def get_table_6_B():\n",
    "    \"\"\"表6(B) 係数 p_i_b\n",
    "    \n",
    "    :return: 表6(B) 係数 p_i_b\n",
    "    :rtype: list\n",
    "    \"\"\"\n",
    "    # 表6(B) 係数 p_i_B\n",
    "    table_6_B = [\n",
    "        (-0.000056, -0.003539, -0.430566),\n",
    "        (0.0, 0.015237, 1.188850),\n",
    "        (0.0, 0.000527, -0.304645),\n",
    "        (-0.000179, 0.020543, 0.130373),\n",
    "        (0.0, 0.000240, 0.013500)\n",
    "    ]\n",
    "    return table_6_B\n"
   ]
  },
  {
   "cell_type": "markdown",
   "metadata": {},
   "source": [
    "<div style=\"text-align: center;font-weight: bold;\">表　係数$p_{i,C}$<br>Table: Coefficients $ p_{i,C} $</div>\n",
    "\n",
    "|係数<br>coefficient|値<br>value|係数<br>coefficient|値<br>value|係数<br>coefficient|値<br>value|\n",
    "|-|-|-|-|-|-|\n",
    "|$p_{42}$|-0.0001598|$p_{41}$|0.004848|$p_{40}$|0.047097|\n",
    "|$p_{32}$|0.0|$p_{31}$|0.016675|$p_{30}$|0.362141|\n",
    "|$p_{22}$|0.0|$p_{21}$|-0.008134|$p_{20}$|-0.023535|\n",
    "|$p_{12}$|-0.0000772|$p_{11}$|0.012558|$p_{10}$|0.056185|\n",
    "|$p_{02}$|0.0|$p_{01}$|-0.000110|$p_{00}$|0.010300|\n"
   ]
  },
  {
   "cell_type": "code",
   "execution_count": 44,
   "metadata": {},
   "outputs": [],
   "source": [
    "def get_table_6_C():\n",
    "    \"\"\"表6(C) 係数 p_i_C\n",
    "    \n",
    "    :return: 表6(C) 係数 p_i_C\n",
    "    :rtype: list\n",
    "    \"\"\"\n",
    "    # 表6(C) 係数 p_i_C\n",
    "    table_6_C = [\n",
    "        (-0.0001598, 0.004848, 0.047097),\n",
    "        (0.0, 0.016675, 0.362141),\n",
    "        (0.0, -0.008134, -0.023535),\n",
    "        (-0.0000772, 0.012558, 0.056185),\n",
    "        (0.0, -0.000110, 0.010300)\n",
    "    ]\n",
    "    return table_6_C\n"
   ]
  },
  {
   "cell_type": "markdown",
   "metadata": {},
   "source": [
    "$$\\large\n",
    "Q'_{T,C,d,t} = (Q_{T,CS,d,t} + Q_{T,CL,d,t}) \\times \\frac{1}{C_{hm,C} \\times C_{af,C}}\n",
    "$$"
   ]
  },
  {
   "cell_type": "markdown",
   "metadata": {},
   "source": [
    "$Q_{T,CS,d,t}$：日付$d$の時刻$t$における1時間当たりの冷房設備機器の処理冷房顕熱負荷(MJ/h) / Processing cooling sensible heat load of cooling equipment per hour at time $ t $ of date $ d $  \n",
    "$Q_{T,CL,d,t}$：日付$d$の時刻$t$における1時間当たりの冷房設備機器の処理冷房潜熱負荷(MJ/h) / Processing cooling latent heat load of cooling equipment per hour at time $ t $ of date $ d $  \n",
    "$C_{hm,C}$：室内機吸い込み湿度に関する冷房出力補正係数 / Cooling output correction factor for indoor unit suction humidity  \n",
    "$C_{af,C}$：室内機吹き出し風量に関する冷房出力補正係数 / Cooling output correction factor related to indoor unit blowing air volume  "
   ]
  },
  {
   "cell_type": "code",
   "execution_count": 45,
   "metadata": {},
   "outputs": [],
   "source": [
    "def calc_Q_dash_T_C_d_t(Q_T_CS_d_t, Q_T_CL_d_t):\n",
    "    \"\"\"補正処理冷房負荷 (25)\n",
    "    \n",
    "    :param Q_T_CS_d_t: 冷房区画の処理冷房顕熱負荷\n",
    "    :type Q_T_CS_d_t: ndarray\n",
    "    :param Q_T_CL_d_t: 冷房区画の処理冷房潜熱負荷\n",
    "    :type Q_T_CL_d_t: ndarray\n",
    "    :return: 補正処理冷房負荷\n",
    "    :rtype: ndarray\n",
    "    \"\"\"\n",
    "    # 室内機吸い込み湿度に関する冷房出力補正係数\n",
    "    C_hm_C = get_C_hm_C()\n",
    "\n",
    "    # 室内機吹き出し風量に関する冷房出力係数\n",
    "    C_af_C = get_C_af_C()\n",
    "\n",
    "    return (Q_T_CS_d_t + Q_T_CL_d_t) * (1.0 / (C_hm_C * C_af_C))\n"
   ]
  },
  {
   "cell_type": "markdown",
   "metadata": {},
   "source": [
    "#### 8.2 ガス消費量 / Gas consumption"
   ]
  },
  {
   "cell_type": "markdown",
   "metadata": {},
   "source": [
    "日付$d$の時刻$t$における１時間当たりのガス消費量$E_{G,C,d,t}$は0とする。"
   ]
  },
  {
   "cell_type": "markdown",
   "metadata": {},
   "source": [
    "It is assumed that gas consumption $ E_{G, C, d, t} $ per hour at time $ t $ of date $ d $ is 0."
   ]
  },
  {
   "cell_type": "code",
   "execution_count": 46,
   "metadata": {},
   "outputs": [],
   "source": [
    "def get_E_G_C_d_t():\n",
    "    \"\"\"ガス消費量\n",
    "    \n",
    "    :return: ガス消費量\n",
    "    :rtype: ndarray\n",
    "    \"\"\"\n",
    "    return np.zeros(24 * 365)\n"
   ]
  },
  {
   "cell_type": "markdown",
   "metadata": {},
   "source": [
    "#### 8.3 灯油消費量 / Kerosene consumption"
   ]
  },
  {
   "cell_type": "markdown",
   "metadata": {},
   "source": [
    "日付$d$の時刻$t$における１時間当たりの灯油消費量$E_{K,C,d,t}$は0とする。"
   ]
  },
  {
   "cell_type": "markdown",
   "metadata": {},
   "source": [
    "The kerosene consumption $ E_{K, C, d, t} $ per hour at the time $ t $ of the date $ d $ is 0."
   ]
  },
  {
   "cell_type": "code",
   "execution_count": 47,
   "metadata": {},
   "outputs": [],
   "source": [
    "def get_E_K_C_d_t():\n",
    "    \"\"\"灯油消費量\n",
    "    \n",
    "    :return: 灯油消費量\n",
    "    :rtype: ndarray\n",
    "    \"\"\"\n",
    "    return np.zeros(24 * 365)\n"
   ]
  },
  {
   "cell_type": "markdown",
   "metadata": {},
   "source": [
    "#### 8.4 その他の燃料による一次エネルギー消費量 / Primary energy consumption by other fuels"
   ]
  },
  {
   "cell_type": "markdown",
   "metadata": {},
   "source": [
    "日付$d$の時刻$t$における１時間当たりのその他の燃料による一次エネルギー消費量$E_{M,C,d,t}$は0とする。"
   ]
  },
  {
   "cell_type": "markdown",
   "metadata": {},
   "source": [
    "Primary energy consumption $ E_{M, C, d, t} $ by other fuel per hour at time $ t $ of date $ d $ is 0."
   ]
  },
  {
   "cell_type": "code",
   "execution_count": 48,
   "metadata": {},
   "outputs": [],
   "source": [
    "def get_E_M_C_d_t():\n",
    "    \"\"\"その他の燃料による一次エネルギー消費量\n",
    "    \n",
    "    :return: その他の燃料による一次エネルギー消費量\n",
    "    :rtype: ndarray\n",
    "    \"\"\"\n",
    "    return np.zeros(24 * 365)\n"
   ]
  },
  {
   "cell_type": "markdown",
   "metadata": {},
   "source": [
    "## 付録 A 機器の性能を表す仕様の決定方法 / Appendix A How to determine the specification that represents the performance of the device"
   ]
  },
  {
   "cell_type": "markdown",
   "metadata": {},
   "source": [
    "### A.1 記号と単位 / Symbol and unit"
   ]
  },
  {
   "cell_type": "markdown",
   "metadata": {},
   "source": [
    "省略"
   ]
  },
  {
   "cell_type": "markdown",
   "metadata": {},
   "source": [
    "ommision"
   ]
  },
  {
   "cell_type": "markdown",
   "metadata": {},
   "source": [
    "### A.2 定格能力 / Rated capacity"
   ]
  },
  {
   "cell_type": "markdown",
   "metadata": {},
   "source": [
    "$$\n",
    "\\begin{equation*}\n",
    "\\large\n",
    "q_{rtd,H} = 1.2090 \\times q_{rtd,C} - 85.1\n",
    "\\end{equation*}\n",
    "$$"
   ]
  },
  {
   "cell_type": "markdown",
   "metadata": {},
   "source": [
    "$q_{rtd,H}$：定格暖房能力(W) / Rated heating capacity    \n",
    "$q_{rtd,C}$：定格冷房能力(W) / Rated cooling capacity    "
   ]
  },
  {
   "cell_type": "code",
   "execution_count": 49,
   "metadata": {},
   "outputs": [],
   "source": [
    "def get_q_rtd_H(q_rtd_C):\n",
    "    \"\"\"定格暖房能力 (1)\n",
    "    \n",
    "    :param q_rtd_C: 定格冷房能力(W)\n",
    "    :type q_rtd_C: float\n",
    "    :return: 定格暖房能力 (1)\n",
    "    :rtype: float\n",
    "    \"\"\"\n",
    "    return 1.2090 * q_rtd_C - 85.1\n"
   ]
  },
  {
   "cell_type": "markdown",
   "metadata": {},
   "source": [
    "定格冷房能力$q_{rtd,C}$が5600(W)を超える場合については、定格冷房能力$q_{rtd,C}$は5600(W)に等しいとして計算するものとする。"
   ]
  },
  {
   "cell_type": "markdown",
   "metadata": {},
   "source": [
    "In the case where the rated cooling capacity $ q_{rtd, C} $ exceeds 5600 (W), the rated cooling capacity $ q_{rtd, C} $ is calculated as being equal to 5600 (W)."
   ]
  },
  {
   "cell_type": "markdown",
   "metadata": {},
   "source": [
    "$$\n",
    "\\begin{equation*}\n",
    "\\large\n",
    "q_{rtd,C} = 190.5 \\times A_{HCZ} + 45.6\n",
    "\\end{equation*}\n",
    "$$"
   ]
  },
  {
   "cell_type": "markdown",
   "metadata": {},
   "source": [
    "$A_{HCZ}$：ルームエアコンディショナーにより暖冷房される暖冷房区画の床面積(m<sup>2</sup>) / Floor area of heating and cooling compartments that are heated and cooled by room air conditioner"
   ]
  },
  {
   "cell_type": "code",
   "execution_count": 50,
   "metadata": {},
   "outputs": [],
   "source": [
    "def get_q_rtd_C(A_HCZ):\n",
    "    \"\"\"定格冷房能力 (2)\n",
    "    \n",
    "    :param A_HCZ: 暖冷房区画の床面積 (m2)\n",
    "    :type A_HCZ: float\n",
    "    :return: 定格冷房能力\n",
    "    :rtype: float\n",
    "    \"\"\"\n",
    "    q_rtd_C = 190.5 * A_HCZ + 45.6\n",
    "    return min(5600, q_rtd_C)\n"
   ]
  },
  {
   "cell_type": "markdown",
   "metadata": {},
   "source": [
    "### A.3 最大能力 / Maximum ability"
   ]
  },
  {
   "cell_type": "markdown",
   "metadata": {},
   "source": [
    "$$\n",
    "\\begin{equation*}\n",
    "\\large\n",
    "q_{max,H} = 1.7597 \\times q_{max,C} - 413.7\n",
    "\\end{equation*}\n",
    "$$"
   ]
  },
  {
   "cell_type": "markdown",
   "metadata": {},
   "source": [
    "$q_{max,H}$：最大暖房能力(W) / Maximum heating capacity    \n",
    "$q_{max,C}$：最大冷房能力(W) / Maximum cooling capacity    "
   ]
  },
  {
   "cell_type": "code",
   "execution_count": 51,
   "metadata": {},
   "outputs": [],
   "source": [
    "def get_q_max_H(q_rtd_H, q_max_C):\n",
    "    \"\"\"最大暖房能力 (3)\n",
    "    \n",
    "    :param q_rtd_H: 定格暖房能力\n",
    "    :type q_rtd_H: float\n",
    "    :param q_max_C: 最大冷房能力\n",
    "    :type q_max_C: float\n",
    "    :return: 最大暖房能力\n",
    "    :rtype: float\n",
    "    \"\"\"\n",
    "    q_max_H = 1.7597 * q_max_C - 413.7\n",
    "    return max(q_rtd_H, q_max_H)\n"
   ]
  },
  {
   "cell_type": "markdown",
   "metadata": {},
   "source": [
    "定格暖房能力$q_{rtd,H}$が最大暖房能力$q_{max,H}$を超える場合については、最大暖房能力$q_{max,H}$は定格暖房能力$q_{rtd,H}$に等しいとする。"
   ]
  },
  {
   "cell_type": "markdown",
   "metadata": {},
   "source": [
    "If the rated heating capacity $q_{rtd,H}$ exceeds the maximum heating capacity $q_{max,H}$, the maximum heating capacity $q_{max,H}$ shall be equal to the rated heating capacity $q_{rtd,H}$."
   ]
  },
  {
   "cell_type": "markdown",
   "metadata": {},
   "source": [
    "$$\n",
    "\\begin{equation*}\n",
    "\\large\n",
    "q_{max,C} = 0.8462 \\times q_{rtd,C} + 1205.9\n",
    "\\end{equation*}\n",
    "$$"
   ]
  },
  {
   "cell_type": "markdown",
   "metadata": {},
   "source": [
    "$q_{rtd,C}$：定格冷房能力(W) / Rated cooling capacity    "
   ]
  },
  {
   "cell_type": "markdown",
   "metadata": {},
   "source": [
    "定格冷房能力$q_{rtd,C}$が最大冷房能力$q_{max,C}$を超える場合については、最大冷房能力$q_{max,C}$は定格冷房能力$q_{rtd,C}$に等しいとする。"
   ]
  },
  {
   "cell_type": "markdown",
   "metadata": {},
   "source": [
    "When the rated cooling capacity $q_{rtd,C}$ exceeds the maximum cooling capacity $q_{max,C}$, the maximum cooling capacity $q_{max,C}$ is equal to the rated cooling capacity $q_{rtd,C}$."
   ]
  },
  {
   "cell_type": "code",
   "execution_count": 52,
   "metadata": {},
   "outputs": [],
   "source": [
    "def get_q_max_C(q_rtd_C):\n",
    "    \"\"\"最大冷房能力 (4)\n",
    "\n",
    "    :param q_rtd_C:  定格冷房能力\n",
    "    :type q_rtd_C: float\n",
    "    :return: 最大冷房能力\n",
    "    :rtype: float\n",
    "    \"\"\"\n",
    "    q_max_C = 0.8462 * q_rtd_C + 1205.9\n",
    "    return max(q_rtd_C, q_max_C)\n"
   ]
  },
  {
   "cell_type": "markdown",
   "metadata": {},
   "source": [
    "### A.4 定格エネルギー消費効率 / Rated energy consumption efficiency"
   ]
  },
  {
   "cell_type": "markdown",
   "metadata": {},
   "source": [
    "$$\n",
    "\\begin{equation*}\n",
    "\\large\n",
    "e_{rtd,H} = 0.77 \\times e_{rtd,C} + 1.66\n",
    "\\end{equation*}\n",
    "$$"
   ]
  },
  {
   "cell_type": "markdown",
   "metadata": {},
   "source": [
    "$e_{rtd,H}$：定格暖房エネルギー消費効率 / Rated heating energy consumption efficiency    \n",
    "$e_{rtd,C}$：定格冷房エネルギー消費効率 / Rated cooling energy consumption efficiency    "
   ]
  },
  {
   "cell_type": "code",
   "execution_count": 53,
   "metadata": {},
   "outputs": [],
   "source": [
    "def get_e_rtd_H(e_rtd_C):\n",
    "    \"\"\"定格暖房エネルギー効率 (5)\n",
    "    \n",
    "    :param e_rtd_C: 定格冷房エネルギー消費効率\n",
    "    :type e_rtd_C: float\n",
    "    :return: 定格暖房エネルギー効率\n",
    "    :rtype: float\n",
    "    \"\"\"\n",
    "    return 0.77 * e_rtd_C + 1.66\n"
   ]
  },
  {
   "cell_type": "markdown",
   "metadata": {},
   "source": [
    "区分（い）"
   ]
  },
  {
   "cell_type": "markdown",
   "metadata": {},
   "source": [
    "Division (I)"
   ]
  },
  {
   "cell_type": "markdown",
   "metadata": {},
   "source": [
    "$$\n",
    "\\begin{equation*}\n",
    "\\large\n",
    "e_{rtd,C} = −0.553 \\times 10^{−3} \\times q_{rtd,C} + 6.34\n",
    "\\end{equation*}\n",
    "$$"
   ]
  },
  {
   "cell_type": "markdown",
   "metadata": {},
   "source": [
    "区分（ろ）"
   ]
  },
  {
   "cell_type": "markdown",
   "metadata": {},
   "source": [
    "Division (RO)"
   ]
  },
  {
   "cell_type": "markdown",
   "metadata": {},
   "source": [
    "$$\n",
    "\\begin{equation*}\n",
    "\\large\n",
    "e_{rtd,C} = −0.504 \\times 10^{−3} \\times q_{rtd,C} + 5.88\n",
    "\\end{equation*}\n",
    "$$"
   ]
  },
  {
   "cell_type": "markdown",
   "metadata": {},
   "source": [
    "区分（は）"
   ]
  },
  {
   "cell_type": "markdown",
   "metadata": {},
   "source": [
    "Division (HA)"
   ]
  },
  {
   "cell_type": "markdown",
   "metadata": {},
   "source": [
    "$$\n",
    "\\begin{equation*}\n",
    "\\large\n",
    "e_{rtd,C} = −0.473 \\times 10^{−3} \\times q_{rtd,C} + 5.50\n",
    "\\end{equation*}\n",
    "$$"
   ]
  },
  {
   "cell_type": "markdown",
   "metadata": {},
   "source": [
    "$q_{rtd,C}$：定格冷房能力(W) / Rated cooling capacity    "
   ]
  },
  {
   "cell_type": "code",
   "execution_count": 54,
   "metadata": {},
   "outputs": [],
   "source": [
    "def get_e_rtd_C(e_class, q_rtd_C):\n",
    "    \"\"\"定格冷房エネルギー効率 (6)\n",
    "    \n",
    "    :param e_class: [description]\n",
    "    :type e_class: str\n",
    "    :param q_rtd_C: 定格冷房能力\n",
    "    :type q_rtd_C: float\n",
    "    :raises ValueError: e_classが「い」または「ろ」または「は」でない場合に発生する\n",
    "    :return: 定格冷房エネルギー効率\n",
    "    :rtype: float\n",
    "    \"\"\"\n",
    "    if e_class == 'い':\n",
    "        # (6a)\n",
    "        return -0.553 * 10 ** (-3) * q_rtd_C + 6.34\n",
    "    elif e_class == 'ろ':\n",
    "        # (6b)\n",
    "        return -0.504 * 10 ** (-3) * q_rtd_C + 5.88\n",
    "    elif e_class == 'は' or e_class == '不明' or e_class == None:\n",
    "        # (6c)\n",
    "        return -0.473 * 10 ** (-3) * q_rtd_C + 5.50\n",
    "    else:\n",
    "        raise ValueError(e_class)\n"
   ]
  },
  {
   "cell_type": "markdown",
   "metadata": {},
   "source": [
    "### A.5 小能力時高効率型コンプレッサー搭載の有無 / Equipped with high efficiency compressor for small capacity"
   ]
  },
  {
   "cell_type": "markdown",
   "metadata": {},
   "source": [
    "省略"
   ]
  },
  {
   "cell_type": "markdown",
   "metadata": {},
   "source": [
    "ommision"
   ]
  },
  {
   "cell_type": "markdown",
   "metadata": {},
   "source": [
    "### A.6 複数のルームエアコンディショナーが設置される場合の仕様の決定方法 / How to determine the specifications when multiple room air conditioners are installed"
   ]
  },
  {
   "cell_type": "markdown",
   "metadata": {},
   "source": [
    "省略"
   ]
  },
  {
   "cell_type": "markdown",
   "metadata": {},
   "source": [
    "ommision"
   ]
  },
  {
   "cell_type": "markdown",
   "metadata": {},
   "source": [
    "## 付録 B 小能力時高効率型コンプレッサー搭載ルームエアコンディショナーの定義と判別方法 / Appendix B Definition and determination method of room air conditioner with high efficiency compressor at small capacity"
   ]
  },
  {
   "cell_type": "markdown",
   "metadata": {},
   "source": [
    "省略"
   ]
  },
  {
   "cell_type": "markdown",
   "metadata": {},
   "source": [
    "ommision"
   ]
  },
  {
   "cell_type": "markdown",
   "metadata": {},
   "source": [
    "## 付録 C （参考）可変気筒方式コンプレッサー搭載ルームエアコンディショナーの判別方法 / Appendix C (Reference) Determination method of room air conditioner with variable cylinder type compressor"
   ]
  },
  {
   "cell_type": "markdown",
   "metadata": {},
   "source": [
    "省略"
   ]
  },
  {
   "cell_type": "markdown",
   "metadata": {},
   "source": [
    "ommision"
   ]
  },
  {
   "cell_type": "markdown",
   "metadata": {},
   "source": [
    "## 試算例"
   ]
  },
  {
   "cell_type": "markdown",
   "metadata": {},
   "source": [
    "|名称1|名称2|変数名|計算条件1|計算条件2|計算条件3|計算条件4|計算条件5|計算条件6|計算条件7|\n",
    "|----|------|--|--|--|--|--|--|--|--|\n",
    "|地域の区分|-|$ region$|6|**7**|6|6|6|6|6|\n",
    "|延床面積|合計|$A_A$|120.08|120.08|**90**|120.08|120.08|120.08|120.08|\n",
    "|延床面積|主居室|$A_{MR}$|29.81|29.81|**25**|29.81|29.81|29.81|29.81|\n",
    "|延床面積|その他居室|$A_{OR}$|51.34|51.34|**40**|51.34|51.34|51.34|51.34|\n",
    "|外皮面積|-|$A_{env}$|307.51|307.51|**250**|307.51|307.51|307.51|307.51|\n",
    "|外皮平均熱貫流率|-|$U_A$|0.87|0.87|0.87|**0.6**|0.87|0.87|0.87|\n",
    "|暖房期平均日射熱取得率|-|$\\eta_{AH}$|4.3|4.3|4.3|**3.0**|4.3|4.3|4.3|\n",
    "|冷房期平均日射熱取得率|-|$\\eta_{AC}$|2.8|2.8|2.8|**2.0**|2.8|2.8|2.8|\n",
    "|暖房設備（主居室）|設備|$type$|RAC|RAC|RAC|RAC|RAC|RAC|RAC|\n",
    "|暖房設備（主居室）|エネルギー消費効率|$e_{class}$|ろ|ろ|ろ|ろ|**い**|**い**|ろ|\n",
    "|暖房設備（主居室）|小能力時高効率型コンプレッサーの搭載|$dualcompressor$|しない|しない|しない|しない|しない|**する**|しない|\n",
    "|暖房設備（その他居室）|設備|$type$|-|-|-|-|-|-|**RAC**|\n",
    "|暖房設備（その他居室）|エネルギー消費効率|$e_{class}$|-|-|-|-|-|-|**ろ**|\n",
    "|暖房設備（その他居室）|小能力時高効率型コンプレッサーの搭載|$dualcompressor$|-|-|-|-|-|-|**しない**|\n",
    "|冷房設備（主居室）|設備|$type$|RAC|RAC|RAC|RAC|RAC|RAC|RAC|\n",
    "|冷房設備（主居室）|エネルギー消費効率|$e_{class}$|ろ|ろ|ろ|ろ|**は**|**は**|ろ|\n",
    "|冷房設備（主居室）|小能力時高効率型コンプレッサーの搭載|$dualcompressor$|しない|しない|しない|しない|しない|**する**|しない|\n",
    "|冷房設備（その他居室）|設備|$type$|-|-|-|-|-|-|**RAC**|\n",
    "|冷房設備（その他居室）|エネルギー消費効率|$e_{class}$|-|-|-|-|-|-|**ろ**|\n",
    "|冷房設備（その他居室）|小能力時高効率型コンプレッサーの搭載|$dualcompressor$|-|-|-|-|-|-|**しない**|\n",
    "|暖冷房区画の番号|-|$i$|1|1|1|1|1|1|**5**|\n",
    "\n"
   ]
  },
  {
   "cell_type": "code",
   "execution_count": 55,
   "metadata": {},
   "outputs": [],
   "source": [
    "def calc_Q_UT_H_d_t(region, q_rtd_C, q_rtd_H, e_rtd_H, L_H_d_t):\n",
    "    \"\"\"未処理負荷\n",
    "    \n",
    "    :param region: 省エネルギー地域区分\n",
    "    :type region: int\n",
    "    :param q_rtd_C: 定格冷房能力\n",
    "    :type q_rtd_C: float\n",
    "    :param q_rtd_H: 定格暖房能力\n",
    "    :type q_rtd_H: float\n",
    "    :param e_rtd_H: 定格暖房エネルギー消費効率\n",
    "    :type e_rtd_H: float\n",
    "    :param L_H_d_t: 暖冷房区画݅の１時間当たりの暖房負荷 \n",
    "    :type L_H_d_t: ndarray\n",
    "    :return: 未処理負荷\n",
    "    :rtype: ndarray\n",
    "    \"\"\"\n",
    "    # 外気条件\n",
    "    outdoor = load_outdoor()\n",
    "    Theta_ex = get_Theta_ex(region, outdoor)\n",
    "    X_ex = get_X_ex(region, outdoor)\n",
    "    h_ex = calc_h_ex(X_ex, Theta_ex)\n",
    "\n",
    "    # 最大暖房能力\n",
    "    q_max_C = get_q_max_C(q_rtd_C)\n",
    "    q_max_H = get_q_max_H(q_rtd_H, q_max_C)\n",
    "\n",
    "    # 最大暖房能力比\n",
    "    q_r_max_H = get_q_r_max_H(q_max_H, q_rtd_H)\n",
    "\n",
    "    # 最大暖房出力比\n",
    "    Q_r_max_H_d_t = calc_Q_r_max_H_d_t(q_rtd_C, q_r_max_H, Theta_ex)\n",
    "\n",
    "    # 最大暖房出力\n",
    "    Q_max_H_d_t = calc_Q_max_H_d_t(Q_r_max_H_d_t, q_rtd_H, Theta_ex, h_ex)\n",
    "\n",
    "    # 処理暖房負荷\n",
    "    Q_T_H_d_t = get_Q_T_H_d_t_i(Q_max_H_d_t_i=Q_max_H_d_t, L_H_d_t_i=L_H_d_t)\n",
    "\n",
    "    return L_H_d_t - Q_T_H_d_t"
   ]
  },
  {
   "cell_type": "code",
   "execution_count": 56,
   "metadata": {},
   "outputs": [],
   "source": [
    "def calc_results(param, H_MR, H_OR, C_MR, C_OR, i):\n",
    "\n",
    "    if __name__ == \"__main__\":\n",
    "\n",
    "        from s02_01_b_heat_conversion_coefficient import get_f_prim\n",
    "        from s03_01_hc_load_general import get_Q, get_A_HCZ_i\n",
    "        from s03_02_envelope_performance import calc_r_env, get_Q_dash, get_eta_H, get_eta_C\n",
    "        from s04_01_general import calc_heating_load, get_alpha_UT_H_MR, get_alpha_UT_H_OR, calc_cooling_load\n",
    "        from s04_01_a_heating_method import calc_heating_mode\n",
    "\n",
    "\n",
    "\n",
    "        region = param[\"region\"]\n",
    "        sol_region = None\n",
    "        A_A = param[\"A_A\"]\n",
    "        A_MR = param[\"A_MR\"]\n",
    "        A_OR = param[\"A_OR\"]\n",
    "        A_env = param[\"A_env\"]\n",
    "        U_A = param[\"U_A\"]\n",
    "        eta_A_H = param[\"eta_A_H\"]\n",
    "        eta_A_C = param[\"eta_A_C\"]\n",
    "        NV_MR = 0\n",
    "        NV_OR = 0\n",
    "        r_A_ufvnt = None\n",
    "        underfloor_insulation = False\n",
    "        TS = None\n",
    "        HEX = None\n",
    "\n",
    "        mode_C = \"居室のみを冷房する方式\"\n",
    "        mode_H = '居室のみを暖房する方式でかつ主たる居室とその他の居室ともに温水暖房を設置する場合に該当しない場合'\n",
    "\n",
    "        # 暖冷房区画の床面積\n",
    "        A_HCZ = get_A_HCZ_i(i, A_A, A_MR, A_OR)\n",
    "\n",
    "        # 床面積の合計に対する外皮の部位の面積の合計の比\n",
    "        r_env = calc_r_env(method='当該住戸の外皮の部位の面積等を用いて外皮性能を評価する方法',\n",
    "                           A_env=A_env, A_A=A_A)\n",
    "\n",
    "        # 熱損失係数\n",
    "        Q_dash = get_Q_dash(U_A, r_env)\n",
    "        Q = get_Q(Q_dash)\n",
    "\n",
    "        # 日射取得係数\n",
    "        mu_H = get_eta_H(eta_A_H, r_env)\n",
    "        mu_C = get_eta_C(eta_A_C, r_env)\n",
    "\n",
    "        # 暖房方式及び運転方法の区分\n",
    "        mode_MR, mode_OR = calc_heating_mode(region=region, H_MR=H_MR, H_OR=H_OR)\n",
    "\n",
    "        \n",
    "        \n",
    "        # 冷房機器の性能\n",
    "        dualcompressor = C_MR[\"dualcompressor\"] if i == 1 else C_OR[\"dualcompressor\"]\n",
    "        e_class = C_MR['e_class'] if i == 1 else C_OR[\"e_class\"]\n",
    "        q_rtd_C = get_q_rtd_C(A_HCZ)\n",
    "        e_rtd_C = get_e_rtd_C(e_class, q_rtd_C)\n",
    "\n",
    "        # 冷房負荷\n",
    "        L_CS_d_t_i, L_CL_d_t_i = calc_cooling_load(region, A_A, A_MR, A_OR, Q, mu_H, mu_C, NV_MR, NV_OR, r_A_ufvnt, underfloor_insulation,\n",
    "                          mode_C, mode_H, mode_MR, mode_OR, TS, HEX)\n",
    "        L_CS_d_t = L_CS_d_t_i[i - 1]\n",
    "        L_CL_d_t = L_CL_d_t_i[i - 1]\n",
    "\n",
    "        # 冷房用エネルギー消費量\n",
    "        E_E_C_d_t =calc_E_E_C_d_t(region, q_rtd_C, e_rtd_C, dualcompressor, L_CS_d_t, L_CL_d_t)\n",
    "        E_G_C_d_t = get_E_G_C_d_t()\n",
    "        E_K_C_d_t = get_E_K_C_d_t()\n",
    "        E_M_C_d_t = get_E_M_C_d_t()\n",
    "\n",
    "\n",
    "\n",
    "        # 暖房機器の性能\n",
    "        dualcompressor = H_MR[\"dualcompressor\"] if i == 1 else H_OR[\"dualcompressor\"]\n",
    "        e_class = H_MR['e_class'] if i == 1 else H_OR[\"e_class\"]\n",
    "        e_rtd_C = get_e_rtd_C(e_class, q_rtd_C)\n",
    "        q_rtd_H = get_q_rtd_H(q_rtd_C)\n",
    "        e_rtd_H = get_e_rtd_H(e_rtd_C)\n",
    "\n",
    "        # 暖房負荷\n",
    "        L_H_d_t = \\\n",
    "            calc_heating_load(region, sol_region, A_A, A_MR, A_OR, Q, mu_H, mu_C, NV_MR, NV_OR, TS, r_A_ufvnt, HEX,\n",
    "                              underfloor_insulation, mode_H, mode_C, spec_MR=H_MR, spec_OR=H_OR, mode_MR=mode_MR, mode_OR=mode_OR, SHC=None)[0][i-1]\n",
    "\n",
    "        # 暖房用エネルギー消費量\n",
    "        E_E_H_d_t = calc_E_E_H_d_t(region, q_rtd_C, q_rtd_H, e_rtd_H, dualcompressor, L_H_d_t)\n",
    "        E_G_H_d_t = get_E_G_H_d_t()\n",
    "        E_K_H_d_t = get_E_K_H_d_t()\n",
    "        E_M_H_d_t = get_E_M_H_d_t()\n",
    "\n",
    "        # 未処理暖房負荷の設計一次エネルギー消費量相当値\n",
    "        Q_UT_H_d_t = calc_Q_UT_H_d_t(region, q_rtd_C, q_rtd_H, e_rtd_H, L_H_d_t)\n",
    "        alpha_UT_H = get_alpha_UT_H_MR(region, mode_MR) if i == 1 else get_alpha_UT_H_OR(region, mode_OR)\n",
    "        E_UT_H_d_t = Q_UT_H_d_t * alpha_UT_H\n",
    "\n",
    "        \n",
    "\n",
    "        f_prim = get_f_prim()\n",
    "        E_H_d_t = E_E_H_d_t * f_prim / 1000 + E_G_H_d_t + E_K_H_d_t + E_M_H_d_t + E_UT_H_d_t\n",
    "        E_C_d_t = E_E_C_d_t * f_prim / 1000 + E_G_C_d_t + E_K_C_d_t + E_M_C_d_t\n",
    "        print('E_H(i={}):{}MJ/y'.format(i, np.sum(E_H_d_t)))\n",
    "        print('E_C(i={}):{}MJ/y'.format(i, np.sum(E_C_d_t)))\n",
    "\n",
    "\n",
    "        return E_H_d_t, E_C_d_t"
   ]
  },
  {
   "cell_type": "code",
   "execution_count": 57,
   "metadata": {},
   "outputs": [],
   "source": [
    "def get_each_graph(_E_H_d_t, _E_C_d_t):\n",
    "\n",
    "    import matplotlib.pyplot as plt\n",
    "\n",
    "    _E_H_d = np.sum(_E_H_d_t.reshape(365, 24), axis=1)\n",
    "    _E_C_d = np.sum(_E_C_d_t.reshape(365, 24), axis=1)\n",
    "\n",
    "    fig = plt.figure(figsize = (20,7))\n",
    "\n",
    "    grh_day = fig.add_subplot(211)\n",
    "    grh_day.set_ylabel('MJ/d')\n",
    "    grh_day.set_xlabel('day')\n",
    "    grh_day.plot(_E_H_d, label=\"E_H\")\n",
    "    grh_day.plot(_E_C_d, label=\"E_C\")\n",
    "    grh_day.legend()\n",
    "\n",
    "    grh_date = fig.add_subplot(212)\n",
    "    grh_date.set_ylabel('MJ/h')\n",
    "    grh_date.set_xlabel('hour')\n",
    "    grh_date.plot(_E_C_d_t.reshape(365,24)[151], label = \"E_C:6/1\")\n",
    "    grh_date.plot(_E_C_d_t.reshape(365,24)[212], label = \"E_C:8/1\")\n",
    "    grh_date.plot(_E_H_d_t.reshape(365,24)[334], label = \"E_H:12/1\")\n",
    "    grh_date.plot(_E_H_d_t.reshape(365,24)[59], label = \"E_H:3/1\")\n",
    "    grh_date.legend()\n",
    "\n",
    "    plt.show()\n"
   ]
  },
  {
   "cell_type": "markdown",
   "metadata": {},
   "source": [
    "### 計算条件1"
   ]
  },
  {
   "cell_type": "code",
   "execution_count": 58,
   "metadata": {
    "scrolled": false
   },
   "outputs": [
    {
     "name": "stdout",
     "output_type": "stream",
     "text": [
      "Importing Jupyter notebook from s02_01_b_heat_conversion_coefficient.ipynb\n",
      "Importing Jupyter notebook from s03_01_hc_load_general.ipynb\n",
      "Importing Jupyter notebook from s03_01_hc_load_general_file.ipynb\n",
      "Importing Jupyter notebook from s03_01_d_ventilation_via_underfloor.ipynb\n",
      "Importing Jupyter notebook from s03_01_e_underfloor_temperature.ipynb\n",
      "Importing Jupyter notebook from s03_02_envelope_performance.ipynb\n",
      "Importing Jupyter notebook from s03_02_08_envelope_performance_detail.ipynb\n",
      "Importing Jupyter notebook from s03_02_09_envelope_performance_simple.ipynb\n",
      "Importing Jupyter notebook from s03_02_b_temperature_difference_coefficient.ipynb\n",
      "Importing Jupyter notebook from s03_02_c_orientation_coefficient.ipynb\n",
      "Importing Jupyter notebook from s03_04_solar_heat_gain_coefficient.ipynb\n",
      "Importing Jupyter notebook from s04_01_general.ipynb\n",
      "Importing Jupyter notebook from s04_01_a_heating_method.ipynb\n",
      "Importing Jupyter notebook from s04_01_b_cooling_method.ipynb\n",
      "Importing Jupyter notebook from s04_02_central_heating_system_with_duct.ipynb\n",
      "Importing Jupyter notebook from s04_07_i_pipe.ipynb\n",
      "Importing Jupyter notebook from s11_03_life_schedule.ipynb\n",
      "Importing Jupyter notebook from s04_02_a_central_heating_system_with_duct.ipynb\n",
      "Importing Jupyter notebook from s04_08_a_heatpump_cycle.ipynb\n",
      "Importing Jupyter notebook from s04_02_b_central_heating_system_with_duct.ipynb\n",
      "E_H(i=1):10478.692099447626MJ/y\n",
      "E_C(i=1):3287.9122989004436MJ/y\n"
     ]
    }
   ],
   "source": [
    "param = {\"region\": 6, \"A_A\": 120.08, \"A_MR\": 29.81, \"A_OR\": 51.34, \"A_env\": 307.51, \"U_A\": 0.87, \"eta_A_H\": 4.3, \"eta_A_C\": 2.8}\n",
    "H_MR = {'type': 'ルームエアコンディショナー', 'e_class': 'ろ', 'dualcompressor': False}\n",
    "H_OR = None\n",
    "C_MR = {\"type\": \"ルームエアコンディショナー\", 'e_class': 'ろ', 'dualcompressor': False}\n",
    "C_OR = None\n",
    "i = 1\n",
    "\n",
    "E_H_d_t_1, E_C_d_t_1 = calc_results(param, H_MR, H_OR, C_MR, C_OR, i)\n"
   ]
  },
  {
   "cell_type": "code",
   "execution_count": 59,
   "metadata": {},
   "outputs": [
    {
     "data": {
      "image/png": "[encoded data removed]",
      "text/plain": [
       "<Figure size 1440x504 with 2 Axes>"
      ]
     },
     "metadata": {
      "needs_background": "light"
     },
     "output_type": "display_data"
    }
   ],
   "source": [
    "get_each_graph(E_H_d_t_1, E_C_d_t_1)"
   ]
  },
  {
   "cell_type": "markdown",
   "metadata": {},
   "source": [
    "### 計算条件2"
   ]
  },
  {
   "cell_type": "code",
   "execution_count": 60,
   "metadata": {},
   "outputs": [
    {
     "name": "stdout",
     "output_type": "stream",
     "text": [
      "E_H(i=1):5382.819129465823MJ/y\n",
      "E_C(i=1):4201.703719660854MJ/y\n"
     ]
    }
   ],
   "source": [
    "param = {\"region\": 7, \"A_A\": 120.08, \"A_MR\": 29.81, \"A_OR\": 51.34, \"A_env\": 307.51, \"U_A\": 0.87, \"eta_A_H\": 4.3, \"eta_A_C\": 2.8}\n",
    "H_MR = {'type': 'ルームエアコンディショナー', 'e_class': 'ろ', 'dualcompressor': False}\n",
    "H_OR = None\n",
    "C_MR = {\"type\": \"ルームエアコンディショナー\", 'e_class': 'ろ', 'dualcompressor': False}\n",
    "C_OR = None\n",
    "i = 1\n",
    "\n",
    "E_H_d_t_2, E_C_d_t_2 = calc_results(param, H_MR, H_OR, C_MR, C_OR, i)\n"
   ]
  },
  {
   "cell_type": "code",
   "execution_count": 61,
   "metadata": {},
   "outputs": [
    {
     "data": {
      "image/png": "[encoded data removed]",
      "text/plain": [
       "<Figure size 1440x504 with 2 Axes>"
      ]
     },
     "metadata": {
      "needs_background": "light"
     },
     "output_type": "display_data"
    }
   ],
   "source": [
    "get_each_graph(E_H_d_t_2, E_C_d_t_2)"
   ]
  },
  {
   "cell_type": "markdown",
   "metadata": {},
   "source": [
    "### 計算条件3"
   ]
  },
  {
   "cell_type": "code",
   "execution_count": 62,
   "metadata": {},
   "outputs": [
    {
     "name": "stdout",
     "output_type": "stream",
     "text": [
      "E_H(i=1):10445.025743783193MJ/y\n",
      "E_C(i=1):3218.995512434428MJ/y\n"
     ]
    }
   ],
   "source": [
    "param = {\"region\": 6, \"A_A\": 90, \"A_MR\": 25, \"A_OR\": 40, \"A_env\": 250, \"U_A\": 0.87, \"eta_A_H\": 4.3, \"eta_A_C\": 2.8}\n",
    "H_MR = {'type': 'ルームエアコンディショナー', 'e_class': 'ろ', 'dualcompressor': False}\n",
    "H_OR = None\n",
    "C_MR = {\"type\": \"ルームエアコンディショナー\", 'e_class': 'ろ', 'dualcompressor': False}\n",
    "C_OR = None\n",
    "i = 1\n",
    "\n",
    "E_H_d_t_3, E_C_d_t_3 = calc_results(param, H_MR, H_OR, C_MR, C_OR, i)\n"
   ]
  },
  {
   "cell_type": "code",
   "execution_count": 63,
   "metadata": {},
   "outputs": [
    {
     "data": {
      "image/png": "[encoded data removed]",
      "text/plain": [
       "<Figure size 1440x504 with 2 Axes>"
      ]
     },
     "metadata": {
      "needs_background": "light"
     },
     "output_type": "display_data"
    }
   ],
   "source": [
    "get_each_graph(E_H_d_t_3, E_C_d_t_3)"
   ]
  },
  {
   "cell_type": "markdown",
   "metadata": {},
   "source": [
    "### 計算条件4"
   ]
  },
  {
   "cell_type": "code",
   "execution_count": 64,
   "metadata": {},
   "outputs": [
    {
     "name": "stdout",
     "output_type": "stream",
     "text": [
      "E_H(i=1):8650.787048470258MJ/y\n",
      "E_C(i=1):2766.2117613635437MJ/y\n"
     ]
    }
   ],
   "source": [
    "param = {\"region\": 6, \"A_A\": 120.08, \"A_MR\": 29.81, \"A_OR\": 51.34, \"A_env\": 307.51, \"U_A\": 0.6, \"eta_A_H\": 3.0, \"eta_A_C\": 2.0}\n",
    "H_MR = {'type': 'ルームエアコンディショナー', 'e_class': 'ろ', 'dualcompressor': False}\n",
    "H_OR = None\n",
    "C_MR = {\"type\": \"ルームエアコンディショナー\", 'e_class': 'ろ', 'dualcompressor': False}\n",
    "C_OR = None\n",
    "i = 1\n",
    "\n",
    "E_H_d_t_4, E_C_d_t_4 = calc_results(param, H_MR, H_OR, C_MR, C_OR, i)\n"
   ]
  },
  {
   "cell_type": "code",
   "execution_count": 65,
   "metadata": {},
   "outputs": [
    {
     "data": {
      "image/png": "[encoded data removed]",
      "text/plain": [
       "<Figure size 1440x504 with 2 Axes>"
      ]
     },
     "metadata": {
      "needs_background": "light"
     },
     "output_type": "display_data"
    }
   ],
   "source": [
    "get_each_graph(E_H_d_t_4, E_C_d_t_4)"
   ]
  },
  {
   "cell_type": "markdown",
   "metadata": {},
   "source": [
    "### 計算条件5"
   ]
  },
  {
   "cell_type": "code",
   "execution_count": 66,
   "metadata": {},
   "outputs": [
    {
     "name": "stdout",
     "output_type": "stream",
     "text": [
      "E_H(i=1):10132.937050655002MJ/y\n",
      "E_C(i=1):3525.9261521878484MJ/y\n"
     ]
    }
   ],
   "source": [
    "param = {\"region\": 6, \"A_A\": 120.08, \"A_MR\": 29.81, \"A_OR\": 51.34, \"A_env\": 307.51, \"U_A\": 0.87, \"eta_A_H\": 4.3, \"eta_A_C\": 2.8}\n",
    "H_MR = {'type': 'ルームエアコンディショナー', 'e_class': 'い', 'dualcompressor': False}\n",
    "H_OR = None\n",
    "C_MR = {\"type\": \"ルームエアコンディショナー\", 'e_class': 'は', 'dualcompressor': False}\n",
    "C_OR = None\n",
    "i = 1\n",
    "\n",
    "E_H_d_t_5, E_C_d_t_5 = calc_results(param, H_MR, H_OR, C_MR, C_OR, i)\n"
   ]
  },
  {
   "cell_type": "code",
   "execution_count": 67,
   "metadata": {},
   "outputs": [
    {
     "data": {
      "image/png": "[encoded data removed]",
      "text/plain": [
       "<Figure size 1440x504 with 2 Axes>"
      ]
     },
     "metadata": {
      "needs_background": "light"
     },
     "output_type": "display_data"
    }
   ],
   "source": [
    "get_each_graph(E_H_d_t_5, E_C_d_t_5)"
   ]
  },
  {
   "cell_type": "markdown",
   "metadata": {},
   "source": [
    "### 計算条件6"
   ]
  },
  {
   "cell_type": "code",
   "execution_count": 68,
   "metadata": {},
   "outputs": [
    {
     "name": "stdout",
     "output_type": "stream",
     "text": [
      "E_H(i=1):9343.146066152913MJ/y\n",
      "E_C(i=1):4333.085946079727MJ/y\n"
     ]
    }
   ],
   "source": [
    "param = {\"region\": 6, \"A_A\": 120.08, \"A_MR\": 29.81, \"A_OR\": 51.34, \"A_env\": 307.51, \"U_A\": 0.87, \"eta_A_H\": 4.3, \"eta_A_C\": 2.8}\n",
    "H_MR = {'type': 'ルームエアコンディショナー', 'e_class': 'い', 'dualcompressor': True}\n",
    "H_OR = None\n",
    "C_MR = {\"type\": \"ルームエアコンディショナー\", 'e_class': 'は', 'dualcompressor': True}\n",
    "C_OR = None\n",
    "i = 1\n",
    "\n",
    "E_H_d_t_6, E_C_d_t_6 = calc_results(param, H_MR, H_OR, C_MR, C_OR, i)\n"
   ]
  },
  {
   "cell_type": "code",
   "execution_count": 69,
   "metadata": {},
   "outputs": [
    {
     "data": {
      "image/png": "[encoded data removed]",
      "text/plain": [
       "<Figure size 1440x504 with 2 Axes>"
      ]
     },
     "metadata": {
      "needs_background": "light"
     },
     "output_type": "display_data"
    }
   ],
   "source": [
    "get_each_graph(E_H_d_t_6, E_C_d_t_6)"
   ]
  },
  {
   "cell_type": "markdown",
   "metadata": {},
   "source": [
    "### 計算条件7"
   ]
  },
  {
   "cell_type": "code",
   "execution_count": 70,
   "metadata": {},
   "outputs": [
    {
     "name": "stdout",
     "output_type": "stream",
     "text": [
      "E_H(i=5):1333.6552576682507MJ/y\n",
      "E_C(i=5):906.343546096112MJ/y\n"
     ]
    }
   ],
   "source": [
    "param = {\"region\": 6, \"A_A\": 120.08, \"A_MR\": 29.81, \"A_OR\": 51.34, \"A_env\": 307.51, \"U_A\": 0.87, \"eta_A_H\": 4.3, \"eta_A_C\": 2.8}\n",
    "H_MR = {'type': 'ルームエアコンディショナー', 'e_class': 'ろ', 'dualcompressor': False}\n",
    "H_OR = {'type': 'ルームエアコンディショナー', 'e_class': 'ろ', 'dualcompressor': False}\n",
    "C_MR = {\"type\": \"ルームエアコンディショナー\", 'e_class': 'ろ', 'dualcompressor': False}\n",
    "C_OR = {'type': 'ルームエアコンディショナー', 'e_class': 'ろ', 'dualcompressor': False}\n",
    "i = 5\n",
    "\n",
    "E_H_d_t_7, E_C_d_t_7 = calc_results(param, H_MR, H_OR, C_MR, C_OR, i)\n"
   ]
  },
  {
   "cell_type": "code",
   "execution_count": 71,
   "metadata": {},
   "outputs": [
    {
     "data": {
      "image/png": "[encoded data removed]",
      "text/plain": [
       "<Figure size 1440x504 with 2 Axes>"
      ]
     },
     "metadata": {
      "needs_background": "light"
     },
     "output_type": "display_data"
    }
   ],
   "source": [
    "get_each_graph(E_H_d_t_7, E_C_d_t_7)"
   ]
  },
  {
   "cell_type": "markdown",
   "metadata": {},
   "source": [
    "## 比較"
   ]
  },
  {
   "cell_type": "code",
   "execution_count": 72,
   "metadata": {},
   "outputs": [
    {
     "data": {
      "image/png": "[encoded data removed]",
      "text/plain": [
       "<Figure size 1296x360 with 2 Axes>"
      ]
     },
     "metadata": {
      "needs_background": "light"
     },
     "output_type": "display_data"
    }
   ],
   "source": [
    "import matplotlib.pyplot as plt\n",
    "\n",
    "dat_C = {\"testcase1_C\": np.sum(E_C_d_t_1)/1000, \"testcase2_C\": np.sum(E_C_d_t_2)/1000, \"testcase3_C\": np.sum(E_C_d_t_3)/1000, \n",
    "         \"testcase4_C\": np.sum(E_C_d_t_4)/1000, \"testcase5_C\": np.sum(E_C_d_t_5)/1000, \"testcase6_C\": np.sum(E_C_d_t_6)/1000,\n",
    "         \"testacse7_C\": np.sum(E_C_d_t_7)/1000}\n",
    "dat_H = {\"testcase1_H\": np.sum(E_H_d_t_1)/1000, \"testcase2_H\": np.sum(E_H_d_t_2)/1000, \"testcase3_H\": np.sum(E_H_d_t_3)/1000, \n",
    "         \"testcase4_H\": np.sum(E_H_d_t_4)/1000, \"testcase5_H\": np.sum(E_H_d_t_5)/1000, \"testcase6_H\": np.sum(E_H_d_t_6)/1000,\n",
    "         \"testacse7_H\": np.sum(E_H_d_t_7)/1000}\n",
    "\n",
    "x_C = list(dat_C.keys())\n",
    "x_H = list(dat_H.keys())\n",
    "y_C = list(dat_C.values())\n",
    "y_H = list(dat_H.values())\n",
    "\n",
    "fig = plt.figure(figsize=(18,5))\n",
    "grh_C = fig.add_subplot(121)\n",
    "grh_C.barh(x_C,y_C, color=\"skyblue\")\n",
    "grh_C.set_title(\"E_C\")\n",
    "grh_C.set_xlabel(\"GJ/y\")\n",
    "\n",
    "grh_H = fig.add_subplot(122)\n",
    "grh_H.barh(x_H,y_H, color=\"orange\")\n",
    "grh_H.set_xlabel(\"GJ/y\")\n",
    "grh_H.set_title(\"E_H\")\n",
    "\n",
    "plt.show()"
   ]
  }
 ],
 "metadata": {
  "kernelspec": {
   "display_name": "Python 3",
   "language": "python",
   "name": "python3"
  },
  "language_info": {
   "codemirror_mode": {
    "name": "ipython",
    "version": 3
   },
   "file_extension": ".py",
   "mimetype": "text/x-python",
   "name": "python",
   "nbconvert_exporter": "python",
   "pygments_lexer": "ipython3",
   "version": "3.6.6"
  },
  "toc": {
   "base_numbering": 1,
   "nav_menu": {},
   "number_sections": false,
   "sideBar": true,
   "skip_h1_title": false,
   "title_cell": "Table of Contents",
   "title_sidebar": "Contents",
   "toc_cell": false,
   "toc_position": {},
   "toc_section_display": true,
   "toc_window_display": false
  }
 },
 "nbformat": 4,
 "nbformat_minor": 2
}
