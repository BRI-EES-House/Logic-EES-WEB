{
 "cells": [
  {
   "cell_type": "code",
   "execution_count": 68,
   "source": [
    "import nbimporter\r\n",
    "import numpy as np\r\n",
    "from math import floor\r\n",
    "\r\n",
    "\r\n",
    "from s04_01_general_Q import \\\r\n",
    "    get_Q_T_H_d_t_i, \\\r\n",
    "    get_Q_T_CS_d_t_i, \\\r\n",
    "    get_Q_T_CL_d_t_i\r\n",
    "\r\n",
    "from s11_01_external_condition import \\\r\n",
    "    load_outdoor, \\\r\n",
    "    get_Theta_ex, \\\r\n",
    "    get_X_ex, \\\r\n",
    "    calc_h_ex"
   ],
   "outputs": [],
   "metadata": {}
  },
  {
   "cell_type": "markdown",
   "source": [
    "## 第三節　ルームエアコンディショナー / Section 3  Room Air Conditioner"
   ],
   "metadata": {}
  },
  {
   "cell_type": "markdown",
   "source": [
    "1．適用範囲～4．記号及び単位は省略"
   ],
   "metadata": {}
  },
  {
   "cell_type": "markdown",
   "source": [
    "1. Scope of application ~ 4. Symbols and units are omitted"
   ],
   "metadata": {}
  },
  {
   "cell_type": "markdown",
   "source": [
    "### 5. 最大暖房出力 / Maximum heating output"
   ],
   "metadata": {}
  },
  {
   "cell_type": "markdown",
   "source": [
    "$$\\large\n",
    "Q_{max,H,d,t} = Qr_{max,H,d,t} \\times q_{rtd,H} \\times C_{af,H} \\times C_{df,H,d,t} \\times 3600 \\times 10^{-6}\n",
    "$$"
   ],
   "metadata": {}
  },
  {
   "cell_type": "markdown",
   "source": [
    "$Q_{max,H,d,t}$：日付$d$の時刻$t$における1時間当たりの最大暖房出力(MJ/h) / Maximum heating output per hour at time $ t $ of date $ d $  \n",
    "$Qr_{max,H,d,t}$：日付$d$の時刻$t$における最大暖房出力比 / Maximum heating output ratio at time $ t $ of date $ d $  \n",
    "$q_{rtd,H}$：定格暖房能力(W) / Rated heating capacity  \n",
    "$C_{af,H}$：室内機吹き出し風量に関する暖房出力補正係数 / Heating output correction factor for indoor unit blowing air volume  \n",
    "$C_{df,H,d,t}$：日付$d$の時刻$t$におけるデフロストに関する暖房出力補正係数 / Heating output correction factor for defrost at time $ t $ of date $ d $  "
   ],
   "metadata": {}
  },
  {
   "cell_type": "code",
   "execution_count": 69,
   "source": [
    "def calc_Q_max_H_d_t(Q_r_max_H_d_t, q_rtd_H, Theta_ex, h_ex):\r\n",
    "    \"\"\"最大暖房出力 (1)\r\n",
    "    \r\n",
    "    :param Q_r_max_H_d_t: 最大暖房出力比\r\n",
    "    :type Q_r_max_H_d_t: ndarray\r\n",
    "    :param q_rtd_H: 定格暖房能力\r\n",
    "    :type q_rtd_H: float\r\n",
    "    :param Theta_ex: 外気温度\r\n",
    "    :type Theta_ex: ndarray\r\n",
    "    :param h_ex: 外気相対湿度\r\n",
    "    :type h_ex: ndarray\r\n",
    "    :return: 最大暖房出力\r\n",
    "    :rtype: ndarray\r\n",
    "    \"\"\"\r\n",
    "    # 室内機吹き出し風量に関する暖房時の能力補正係\r\n",
    "    C_af_H = get_C_af_H()\r\n",
    "\r\n",
    "    # デフロストに関する暖房出力補正係数\r\n",
    "    C_df_H_d_t = get_C_df_H(Theta_ex, h_ex)\r\n",
    "\r\n",
    "    return Q_r_max_H_d_t * q_rtd_H * C_af_H * C_df_H_d_t * 3600 * 10 ** (-6)"
   ],
   "outputs": [],
   "metadata": {}
  },
  {
   "cell_type": "markdown",
   "source": [
    "$$\\large\n",
    "Qr_{max,H,d,t} = a_2 \\times (\\theta_{ex,d,t} - 7)^2 + a_1 \\times (\\theta_{ex,d,t} - 7) + a_0\n",
    "$$"
   ],
   "metadata": {}
  },
  {
   "cell_type": "markdown",
   "source": [
    "$\\theta_{ex,d,t}$：日付$d$の時刻$t$における外気温度(℃) / Outside temperature at time $ t $ of date $ d $  "
   ],
   "metadata": {}
  },
  {
   "cell_type": "code",
   "execution_count": 70,
   "source": [
    "def calc_Q_r_max_H_d_t(q_rtd_C, q_r_max_H, Theta_ex_d_t):\r\n",
    "    \"\"\"最大暖房出力比\r\n",
    "    \r\n",
    "    :param q_rtd_C:  定格冷房能力\r\n",
    "    :type q_rtd_C: float\r\n",
    "    :param q_r_max_H: 最大暖房能力比\r\n",
    "    :type q_r_max_H: float\r\n",
    "    :param Theta_ex_d_t: 外気温度\r\n",
    "    :type Theta_ex_d_t: ndarray\r\n",
    "    :return: 最大暖房出力比\r\n",
    "    :rtype: ndarray\r\n",
    "    \"\"\"\r\n",
    "    # 係数a2及びa2,a0\r\n",
    "    a2, a1, a0 = calc_a_eq3(q_r_max_H, q_rtd_C)\r\n",
    "\r\n",
    "    return a2 * (Theta_ex_d_t - 7) ** 2 + a1 * (Theta_ex_d_t - 7) + a0"
   ],
   "outputs": [],
   "metadata": {}
  },
  {
   "cell_type": "markdown",
   "source": [
    "$q_{rtd,C}$が5600(W)を超える場合については、$q_{rtd,C}$は5600(W)に等しいとして計算するものとする。"
   ],
   "metadata": {}
  },
  {
   "cell_type": "markdown",
   "source": [
    "When $ q_ {rtd, C} $ exceeds 5600 (W), it is assumed that $ q_ {rtd, C} $ is calculated to be equal to 5600 (W)."
   ],
   "metadata": {}
  },
  {
   "cell_type": "markdown",
   "source": [
    "$$\n",
    "\\Biggl(\\begin{matrix}\n",
    "    a_2\\\\\n",
    "    a_1\\\\\n",
    "    a_0\\\\\n",
    "    \\end{matrix}\n",
    "\\Biggr) = \n",
    "\\Biggl(\\begin{matrix}\n",
    "    b_2\\\\ \n",
    "    b_1\\\\ \n",
    "    b_0\\\\ \n",
    "    \\end{matrix}\n",
    "\\Biggr) \\times qr_{max,H} + \n",
    "\\Biggl(\\begin{matrix}\n",
    "    c_2\\\\ \n",
    "    c_1\\\\ \n",
    "    c_0\\\\ \n",
    "    \\end{matrix}\n",
    "\\Biggr)\n",
    "$$"
   ],
   "metadata": {}
  },
  {
   "cell_type": "markdown",
   "source": [
    "$$\n",
    "\\Biggl(\\begin{matrix}\n",
    "    b_2\\\\ \n",
    "    b_1\\\\ \n",
    "    b_0\\\\ \n",
    "    \\end{matrix}\n",
    "\\Biggr) = \n",
    "\\Biggl(\\begin{matrix}\n",
    "    0.000181\\\\ \n",
    "    0.002322\\\\ \n",
    "    0.003556\\\\ \n",
    "    \\end{matrix}\n",
    "\\Biggr) \\times q_{rtd,C} \\times 10^{-3}  + \n",
    "\\Biggl(\\begin{matrix}\n",
    "    -0.000184\\\\ \n",
    "    0.013904\\\\ \n",
    "    0.993431\\\\ \n",
    "    \\end{matrix}\n",
    "\\Biggr)\n",
    "$$"
   ],
   "metadata": {}
  },
  {
   "cell_type": "markdown",
   "source": [
    "$$\n",
    "\\Biggl(\\begin{matrix}\n",
    "    c_2\\\\ \n",
    "    c_1\\\\ \n",
    "    c_0\\\\ \n",
    "    \\end{matrix}\n",
    "\\Biggr) = \n",
    "\\Biggl(\\begin{matrix}\n",
    "    -0.000173\\\\ \n",
    "    -0.003980\\\\ \n",
    "    -0.002870\\\\ \n",
    "    \\end{matrix}\n",
    "\\Biggr) \\times q_{rtd,C} \\times 10^{-3}  + \n",
    "\\Biggl(\\begin{matrix}\n",
    "    0.000367\\\\ \n",
    "    0.003983\\\\ \n",
    "    0.006376\\\\ \n",
    "    \\end{matrix}\n",
    "\\Biggr)\n",
    "$$"
   ],
   "metadata": {}
  },
  {
   "cell_type": "markdown",
   "source": [
    "$qr_{max,H}$：最大暖房能力比 / Maximum heating capacity ratio  \n",
    "$q_{rtd,C}$：定格冷房能力(W) / Rated cooling capacity  "
   ],
   "metadata": {}
  },
  {
   "cell_type": "code",
   "execution_count": 71,
   "source": [
    "def calc_a_eq3(q_r_max_H, q_rtd_C):\r\n",
    "    \"\"\"係数a2及びa1,a0 (3a)\r\n",
    "    \r\n",
    "    :param q_r_max_H: 最大暖房能力比\r\n",
    "    :type q_r_max_H: float\r\n",
    "    :param q_rtd_C:  定格冷房能力\r\n",
    "    :type q_rtd_C: float\r\n",
    "    :return: 係数a2及びa1,a0 (3a)\r\n",
    "    :rtype: tuple\r\n",
    "    \"\"\"\r\n",
    "    b2, b1, b0 = get_b_eq3(q_rtd_C)\r\n",
    "    c2, c1, c0 = get_c_eq3(q_rtd_C)\r\n",
    "    a2 = b2 * q_r_max_H + c2\r\n",
    "    a1 = b1 * q_r_max_H + c1\r\n",
    "    a0 = b0 * q_r_max_H + c0\r\n",
    "    return a2, a1, a0\r\n",
    "\r\n",
    "\r\n",
    "# 係数b2及びb1,b0 (3b)\r\n",
    "def get_b_eq3(q_rtd_C):\r\n",
    "    \"\"\"係数b2及びb1,b0 (3b)\r\n",
    "    \r\n",
    "    :param q_rtd_C:  定格冷房能力\r\n",
    "    :type q_rtd_C: float\r\n",
    "    :return: 係数b2及びb1,b0\r\n",
    "    :rtype: tuple\r\n",
    "    \"\"\"\r\n",
    "    q_rtd_C = min(5600, q_rtd_C)\r\n",
    "    b2 = 0.000181 * q_rtd_C * 10 ** (-3) - 0.000184\r\n",
    "    b1 = 0.002322 * q_rtd_C * 10 ** (-3) + 0.013904\r\n",
    "    b0 = 0.003556 * q_rtd_C * 10 ** (-3) + 0.993431\r\n",
    "    return b2, b1, b0\r\n",
    "\r\n",
    "\r\n",
    "# 係数c2及びc1,c0 (3b)\r\n",
    "def get_c_eq3(q_rtd_C):\r\n",
    "    \"\"\"係数c2及びc1,c0 (3b)\r\n",
    "    \r\n",
    "    :param q_rtd_C:  定格冷房能力\r\n",
    "    :type q_rtd_C: float\r\n",
    "    :return: 係数c2及びc1,c0\r\n",
    "    :rtype: tuple\r\n",
    "    \"\"\"\r\n",
    "    q_rtd_C = min(5600, q_rtd_C)\r\n",
    "    c2 = -0.000173 * q_rtd_C * 10 ** (-3) + 0.000367\r\n",
    "    c1 = -0.003980 * q_rtd_C * 10 ** (-3) + 0.003983\r\n",
    "    c0 = -0.002870 * q_rtd_C * 10 ** (-3) + 0.006376\r\n",
    "    return c2, c1, c0"
   ],
   "outputs": [],
   "metadata": {}
  },
  {
   "cell_type": "markdown",
   "source": [
    "$$\\large\n",
    "qr_{max,H} = \\frac{q_{max,H}}{q_{rtd,H}}\n",
    "$$"
   ],
   "metadata": {}
  },
  {
   "cell_type": "markdown",
   "source": [
    "$q_{max,H}$：最大暖房能力(W) / Maximum heating capacity  \n",
    "$q_{rtd,H}$：定格暖房能力(W) / Rated heating capacity  "
   ],
   "metadata": {}
  },
  {
   "cell_type": "code",
   "execution_count": 72,
   "source": [
    "def get_q_r_max_H(q_max_H, q_rtd_H):\r\n",
    "    \"\"\"最大暖房能力比 (4)\r\n",
    "    \r\n",
    "    :param q_max_H: 最大暖房能力\r\n",
    "    :type q_max_H: float\r\n",
    "    :param q_rtd_H: 定格暖房能力\r\n",
    "    :type q_rtd_H: float\r\n",
    "    :return: 最大暖房能力比\r\n",
    "    :rtype: float\r\n",
    "    \"\"\"\r\n",
    "    q_r_max_H = q_max_H / q_rtd_H\r\n",
    "    return q_r_max_H"
   ],
   "outputs": [],
   "metadata": {}
  },
  {
   "cell_type": "markdown",
   "source": [
    "室内機吹き出し風量に関する暖房時の能力補正係数$C_{af,H}$は0.8とする。  \n",
    "デフロストに関する暖房出力補正係数$C_{df,H}$は、外気温度が5℃未満かつ相対湿度が80%以上の場合にデフロストが入ると仮定し、その場合の値を0.77とし、 それ以外の条件においては1.0とする。"
   ],
   "metadata": {}
  },
  {
   "cell_type": "markdown",
   "source": [
    "The capacity correction coefficient $ C_ {af, H} $ at the time of heating relating to the indoor unit blowing air volume is 0.8.  \n",
    "The heating power correction coefficient $ C_ {df, H} $ for defrost is assumed to be defrosted when the outside air temperature is less than 5 ° C and the relative humidity is 80% or more, and the value in that case is 0.77, otherwise The condition is 1.0."
   ],
   "metadata": {}
  },
  {
   "cell_type": "code",
   "execution_count": 73,
   "source": [
    "def get_C_af_H():\r\n",
    "    \"\"\"室内機吹き出し風量に関する暖房時の能力補正係数\r\n",
    "    \r\n",
    "    :return: 室内機吹き出し風量に関する暖房時の能力補正係\r\n",
    "    :rtype: float\r\n",
    "    \"\"\"\r\n",
    "    return 0.8\r\n",
    "\r\n",
    "\r\n",
    "# デフロストに関する暖房出力補正係数\r\n",
    "def get_C_df_H(Theta_ex, h_ex):\r\n",
    "    \"\"\"デフロストに関する暖房出力補正係数\r\n",
    "    \r\n",
    "    :param Theta_ex: 外気温度\r\n",
    "    :type Theta_ex: ndarray\r\n",
    "    :param h_ex: 外気相対湿度\r\n",
    "    :type h_ex: ndarray\r\n",
    "    :return: デフロストに関する暖房出力補正係数\r\n",
    "    :rtype: ndarray\r\n",
    "    \"\"\"\r\n",
    "    C_df_H = np.ones(24 * 365)\r\n",
    "    C_df_H[(Theta_ex < 5.0) * (h_ex >= 80.0)] = 0.77\r\n",
    "    return C_df_H"
   ],
   "outputs": [],
   "metadata": {}
  },
  {
   "cell_type": "markdown",
   "source": [
    "### 6. 暖房エネルギー消費量 / Heating energy consumption"
   ],
   "metadata": {}
  },
  {
   "cell_type": "markdown",
   "source": [
    "#### 6.1 消費電力量 / Power consumption"
   ],
   "metadata": {}
  },
  {
   "cell_type": "markdown",
   "source": [
    "日付$d$の時刻$t$における補正処理暖房負荷$Q'_{T,H,d,t}$が0の場合、$E_{E,H,d,t}$ = 0とする。"
   ],
   "metadata": {}
  },
  {
   "cell_type": "markdown",
   "source": [
    "Correction processing at time $t$ of date $ d $ If heating load $ Q'_{T, H, d, t} $ is 0, then $ E_{E, H, d, t} $ = 0."
   ],
   "metadata": {}
  },
  {
   "cell_type": "markdown",
   "source": [
    "$$\\large\n",
    "E_{E,H,d,t} = f_{H,\\theta} \\Biggl( \\frac{Q'_{T,H,d,t}}{q_{max,H} \\times 3600 \\times 10^{-6}} \\Biggr) \\div \n",
    "f_{H,7} \\Biggl( \\frac{1}{qr_{max,H}} \\Biggr) \\times \\frac{q_{rtd,H}}{e_{rtd,H}} \\times 10^{-3}\n",
    "$$"
   ],
   "metadata": {}
  },
  {
   "cell_type": "markdown",
   "source": [
    "$E_{E,H,d,t}$：日付$d$の時刻$t$における1時間当たりの消費電力量(kWh/h) / Power consumption per hour at time $ t $ of date $ d $  \n",
    "$f_{H,\\theta}$：基準入出力関数 / Reference input / output function  \n",
    "$Q'_{T,H,d,t}$：日付$d$の時刻$t$における補正処理暖房負荷(MJ/h) / Correction processing heating load at time $ t $ of date $ d $    \n",
    "$q_{max,H}$：最大暖房能力(W) / Maximum heating capacity  \n",
    "$qr_{max,H}$：最大暖房能力比 / Maximum heating capacity ratio  \n",
    "$q_{rtd,H}$：定格暖房能力(W) / Rated heating capacity  \n",
    "$e_{rtd,H}$：定格暖房エネルギー消費効率 / Rated heating energy consumption efficiency  "
   ],
   "metadata": {}
  },
  {
   "cell_type": "code",
   "execution_count": 74,
   "source": [
    "def calc_E_E_H_d_t(region, q_rtd_C, q_rtd_H, e_rtd_H, dualcompressor, L_H_d_t):\r\n",
    "    \"\"\"消費電力量 (5)\r\n",
    "    \r\n",
    "    :param region: 省エネルギー地域区分\r\n",
    "    :type region: int\r\n",
    "    :param q_rtd_C: 定格冷房能力\r\n",
    "    :type q_rtd_C: float\r\n",
    "    :param q_rtd_H: 定格暖房能力\r\n",
    "    :type q_rtd_H: float\r\n",
    "    :param e_rtd_H: 定格暖房エネルギー消費効率\r\n",
    "    :type e_rtd_H: float\r\n",
    "    :param dualcompressor: 容量可変型コンプレッサー搭載\r\n",
    "    :type dualcompressor: bool\r\n",
    "    :param L_H_d_t: 暖冷房区画݅の１時間当たりの暖房負荷 \r\n",
    "    :type L_H_d_t: ndarray\r\n",
    "    :return: 消費電力量 \r\n",
    "    :rtype: ndarray\r\n",
    "    \"\"\"\r\n",
    "    # 外気条件\r\n",
    "    outdoor = load_outdoor()\r\n",
    "    Theta_ex = get_Theta_ex(region, outdoor)\r\n",
    "    X_ex = get_X_ex(region, outdoor)\r\n",
    "    h_ex = calc_h_ex(X_ex, Theta_ex)\r\n",
    "\r\n",
    "    # 最大暖房能力\r\n",
    "    q_max_C = get_q_max_C(q_rtd_C)\r\n",
    "    q_max_H = get_q_max_H(q_rtd_H, q_max_C)\r\n",
    "\r\n",
    "    # 最大暖房能力比\r\n",
    "    q_r_max_H = get_q_r_max_H(q_max_H, q_rtd_H)\r\n",
    "\r\n",
    "    # 最大暖房出力比\r\n",
    "    Q_r_max_H_d_t = calc_Q_r_max_H_d_t(q_rtd_C, q_r_max_H, Theta_ex)\r\n",
    "\r\n",
    "    # 最大暖房出力\r\n",
    "    Q_max_H_d_t = calc_Q_max_H_d_t(Q_r_max_H_d_t, q_rtd_H, Theta_ex, h_ex)\r\n",
    "\r\n",
    "    # 処理暖房負荷\r\n",
    "    Q_T_H_d_t = get_Q_T_H_d_t_i(Q_max_H_d_t_i=Q_max_H_d_t, L_H_d_t_i=L_H_d_t)\r\n",
    "\r\n",
    "    # 補正処理暖房負荷\r\n",
    "    Q_dash_T_H_d_t = calc_Q_dash_T_H_d_t(Q_T_H_d_t, Theta_ex, h_ex)\r\n",
    "\r\n",
    "    # 消費電力量\r\n",
    "    E_E_H_d_t = calc_f_H_Theta(Q_dash_T_H_d_t / (q_max_H * 3600 * 10 ** (-6)), q_rtd_C, dualcompressor, Theta_ex) \\\r\n",
    "                / calc_f_H_Theta(1.0 / q_r_max_H, q_rtd_C, dualcompressor, np.ones(24 * 365) * 7.0) \\\r\n",
    "                * (q_rtd_H / e_rtd_H) * 10 ** (-3)\r\n",
    "    E_E_H_d_t[Q_dash_T_H_d_t == 0.0] = 0.0  # 補正処理暖房負荷が0の場合は0\r\n",
    "\r\n",
    "    return E_E_H_d_t"
   ],
   "outputs": [],
   "metadata": {}
  },
  {
   "cell_type": "markdown",
   "source": [
    "$$\\large\n",
    "f_{H,\\theta}(x) = a_{4}x^{4} + a_{3}x^{3} + a_{2}x^{2} + a_{1}x + a_{0}\n",
    "$$"
   ],
   "metadata": {}
  },
  {
   "cell_type": "code",
   "execution_count": 75,
   "source": [
    "def calc_f_H_Theta(x, q_rtd_C, dualcompressor, Theta_ex):\r\n",
    "    \"\"\"基準入出力関数 (6)\r\n",
    "    \r\n",
    "    :param x: 入力\r\n",
    "    :type x: float\r\n",
    "    :param q_rtd_C:  定格冷房能力\r\n",
    "    :type q_rtd_C: float\r\n",
    "    :param dualcompressor: 容量可変型コンプレッサー搭載\r\n",
    "    :type dualcompressor: bool\r\n",
    "    :param Theta_ex: 外気温度\r\n",
    "    :type Theta_ex: ndarray\r\n",
    "    :return: 基準入出力関数 \r\n",
    "    :rtype: float\r\n",
    "    \"\"\"\r\n",
    "    # 係数a0-a4\r\n",
    "    a0, a1, a2, a3, a4 = calc_a_eq7(q_rtd_C, dualcompressor, Theta_ex)\r\n",
    "    return a4 * x ** 4 + a3 * x ** 3 + a2 * x ** 2 + a1 * x + a0"
   ],
   "outputs": [],
   "metadata": {}
  },
  {
   "cell_type": "markdown",
   "source": [
    "\\begin{equation*}\n",
    "\\left(\\begin{matrix}\n",
    "    a_4\\\\\n",
    "    a_3\\\\\n",
    "    a_2\\\\\n",
    "    a_1\\\\\n",
    "    a_0\\\\\n",
    "    \\end{matrix}\n",
    "\\right) = \n",
    "\\left(\\begin{matrix}\n",
    "    p_{42} & p_{41} & p_{40}\\\\\n",
    "    p_{32} & p_{31} & p_{30}\\\\\n",
    "    p_{22} & p_{21} & p_{20}\\\\\n",
    "    p_{12} & p_{11} & p_{10}\\\\\n",
    "    p_{02} & p_{01} & p_{00}\\\\\n",
    "    \\end{matrix}\n",
    "\\right)\n",
    "\\left(\\begin{matrix}\n",
    "    \\theta_{ex}^2\\\\ \n",
    "    \\theta_{ex}\\\\ \n",
    "    1\\\\ \n",
    "    \\end{matrix}\n",
    "\\right)\n",
    "\\end{equation*}"
   ],
   "metadata": {}
  },
  {
   "cell_type": "code",
   "execution_count": 76,
   "source": [
    "def calc_a_eq7(q_rtd_C, dualcompressor, Theta_ex):\n",
    "    \"\"\"係数a0～a4\n",
    "    \n",
    "    :param q_rtd_C:  定格冷房能力\n",
    "    :type q_rtd_C: float\n",
    "    :param dualcompressor: 容量可変型コンプレッサー搭載\n",
    "    :type dualcompressor: bool\n",
    "    :param Theta_ex: 外気気温\n",
    "    :type Theta_ex: ndarray\n",
    "    :return: 係数a0～a4\n",
    "    :rtype: tuple\n",
    "    \"\"\"\n",
    "    if dualcompressor == False:\n",
    "        # 容量可変型コンプレッサー搭載ルームエアコンディショナーでないルームエアコンディショナー\n",
    "        calc_p_i = calc_p_i_eq8\n",
    "    else:\n",
    "        # 容量可変型コンプレッサー搭載ルームエアコンディショナー\n",
    "        calc_p_i = calc_p_i_eq9\n",
    "\n",
    "    # 係数p_i\n",
    "    p_42 = calc_p_i(42, q_rtd_C)\n",
    "    p_41 = calc_p_i(41, q_rtd_C)\n",
    "    p_40 = calc_p_i(40, q_rtd_C)\n",
    "    p_32 = calc_p_i(32, q_rtd_C)\n",
    "    p_31 = calc_p_i(31, q_rtd_C)\n",
    "    p_30 = calc_p_i(30, q_rtd_C)\n",
    "    p_22 = calc_p_i(22, q_rtd_C)\n",
    "    p_21 = calc_p_i(21, q_rtd_C)\n",
    "    p_20 = calc_p_i(20, q_rtd_C)\n",
    "    p_12 = calc_p_i(12, q_rtd_C)\n",
    "    p_11 = calc_p_i(11, q_rtd_C)\n",
    "    p_10 = calc_p_i(10, q_rtd_C)\n",
    "    p_02 = calc_p_i(2, q_rtd_C)\n",
    "    p_01 = calc_p_i(1, q_rtd_C)\n",
    "    p_00 = calc_p_i(0, q_rtd_C)\n",
    "\n",
    "    a4 = p_42 * Theta_ex ** 2 + p_41 * Theta_ex + p_40 * 1\n",
    "    a3 = p_32 * Theta_ex ** 2 + p_31 * Theta_ex + p_30 * 1\n",
    "    a2 = p_22 * Theta_ex ** 2 + p_21 * Theta_ex + p_20 * 1\n",
    "    a1 = p_12 * Theta_ex ** 2 + p_11 * Theta_ex + p_10 * 1\n",
    "    a0 = p_02 * Theta_ex ** 2 + p_01 * Theta_ex + p_00 * 1\n",
    "\n",
    "    return a0, a1, a2, a3, a4"
   ],
   "outputs": [],
   "metadata": {}
  },
  {
   "cell_type": "markdown",
   "source": [
    "$q_{rtd,C}$が5600(W)を超える場合については、$q_{rtd,C}$は5600(W)に等しいとして計算するものとする。"
   ],
   "metadata": {}
  },
  {
   "cell_type": "markdown",
   "source": [
    "When $ q_{rtd, C} $ exceeds 5600 (W), it is assumed that $ q_{rtd, C} $ is calculated to be equal to 5600 (W)."
   ],
   "metadata": {}
  },
  {
   "cell_type": "markdown",
   "source": [
    "\\begin{equation*}\n",
    "\\large\n",
    "p_{i} = s_{i} \\times q_{rtd,C} \\times 10^{-3} + t_{i}\n",
    "\\end{equation*}"
   ],
   "metadata": {}
  },
  {
   "cell_type": "markdown",
   "source": [
    "$q_{rtd,C}$：定格冷房能力(W) / Rated cooling capacity  "
   ],
   "metadata": {}
  },
  {
   "cell_type": "code",
   "execution_count": 77,
   "source": [
    "def calc_p_i_eq8(i, q_rtd_C):\r\n",
    "    \"\"\"係数p_i\r\n",
    "    \r\n",
    "    :param i: [description]\r\n",
    "    :type i: int\r\n",
    "    :param q_rtd_C:  定格冷房能力\r\n",
    "    :type q_rtd_C: float\r\n",
    "    :return: 係数p_i\r\n",
    "    :rtype: float\r\n",
    "    \"\"\"\r\n",
    "    q_rtd_C = min(5600, q_rtd_C)\r\n",
    "    # 係数 s_i, t_i\r\n",
    "    s_i = calc_s_i_eq8(i)\r\n",
    "    t_i = calc_t_i_eq8(i)\r\n",
    "    return s_i * q_rtd_C * 10 ** (-3) + t_i\r\n",
    "\r\n",
    "\r\n",
    "# 係数s_i (i=0,1,2,10..42)\r\n",
    "def calc_s_i_eq8(i):\r\n",
    "    \"\"\"係数s_i (i=0,1,2,10..42)\r\n",
    "    \r\n",
    "    :param i: [description]\r\n",
    "    :type i: int\r\n",
    "    :return: 係数s_i (i=0,1,2,10..42)\r\n",
    "    :rtype: float\r\n",
    "    \"\"\"\r\n",
    "    table_3 = get_table_3()    \r\n",
    "    return table_3[4 - floor(i / 10)][(2 - (i % 10)) * 2]\r\n",
    "\r\n",
    "\r\n",
    "# 係数t_i (i=0,1,2,10..42)\r\n",
    "def calc_t_i_eq8(i):\r\n",
    "    \"\"\"係数t_i (i=0,1,2,10..42)\r\n",
    "    \r\n",
    "    :param i: [description]\r\n",
    "    :type i: int\r\n",
    "    :return: 係数t_i (i=0,1,2,10..42)\r\n",
    "    :rtype: float\r\n",
    "    \"\"\"\r\n",
    "    table_3 = get_table_3()\r\n",
    "    return table_3[4 - floor(i / 10)][(2 - (i % 10)) * 2 + 1]"
   ],
   "outputs": [],
   "metadata": {}
  },
  {
   "cell_type": "markdown",
   "source": [
    "<div style=\"text-align: center;font-weight: bold;\">表　係数 $s_{i}$ 及び $t_{i}$<br>Table: Coefficients $ s_{i} $ and $ t_{i} $</div>\n",
    "\n",
    "|係数<br>coefficient|値<br>value|係数<br>coefficient|値<br>value|係数<br>coefficient|値<br>value|係数<br>coefficient|値<br>value|係数<br>coefficient|値<br>value|係数<br>coefficient|値<br>value|\n",
    "|-|-|-|-|-|-|-|-|-|-|-|-|\n",
    "|$s_{42}$|-0.00236|$t_{42}$|0.01324|$s_{41}$|0.08418|$t_{41}$|-0.47143|$s_{40}$|-1.16944|$t_{40}$|6.54886|\n",
    "|$s_{32}$|0.00427|$t_{32}$|-0.02392|$s_{31}$|-0.19226|$t_{31}$|0.94213|$s_{30}$|2.58632|$t_{30}$|-12.85618|\n",
    "|$s_{22}$|-0.00275|$t_{22}$|0.01542|$s_{21}$|0.14947|$t_{21}$|-0.68303|$s_{20}$|-2.03594|$t_{20}$|10.60561|\n",
    "|$s_{12}$|0.00063|$t_{12}$|-0.00351|$s_{11}$|-0.02865|$t_{11}$|0.10522|$s_{10}$|0.37336|$t_{10}$|-1.09499|\n",
    "|$s_{02}$|-0.00005|$t_{02}$|0.00028|$s_{01}$|0.00184|$t_{01}$|-0.01090|$s_{00}$|-0.09609|$t_{00}$|0.59229|\n"
   ],
   "metadata": {}
  },
  {
   "cell_type": "code",
   "execution_count": 78,
   "source": [
    "def get_table_3():\r\n",
    "    \"\"\"表3 係数s_i及びt_i\r\n",
    "    \r\n",
    "    :return: 表3 係数s_i及びt_i\r\n",
    "    :rtype: list\r\n",
    "    \"\"\"\r\n",
    "    # 表3 係数s_i及びt_i\r\n",
    "    table_3 = [\r\n",
    "        (-0.00236, 0.01324, 0.08418, -0.47143, -1.16944, 6.54886),\r\n",
    "        (0.00427, -0.02392, -0.19226, 0.94213, 2.58632, -12.85618),\r\n",
    "        (-0.00275, 0.01542, 0.14947, -0.68303, -2.03594, 10.60561),\r\n",
    "        (0.00063, -0.00351, -0.02865, 0.10522, 0.37336, -1.09499),\r\n",
    "        (-0.00005, 0.00028, 0.00184, -0.01090, -0.09609, 0.59229)\r\n",
    "    ]\r\n",
    "    return table_3\r\n"
   ],
   "outputs": [],
   "metadata": {}
  },
  {
   "cell_type": "markdown",
   "source": [
    "$q_{rtd,C} \\leq 2200$ の場合"
   ],
   "metadata": {}
  },
  {
   "cell_type": "markdown",
   "source": [
    "If $ q_{rtd, C} \\leq 2200 $"
   ],
   "metadata": {}
  },
  {
   "cell_type": "markdown",
   "source": [
    "$$\\large\n",
    "p_{i} = p_{i,A}\n",
    "$$"
   ],
   "metadata": {}
  },
  {
   "cell_type": "markdown",
   "source": [
    "$2200 < q_{rtd,C} \\leq 4000$ の場合"
   ],
   "metadata": {}
  },
  {
   "cell_type": "markdown",
   "source": [
    "If $ 2200 < q_{rtd, C} \\leq 4000 $"
   ],
   "metadata": {}
  },
  {
   "cell_type": "markdown",
   "source": [
    "$$\\large\n",
    "p_{i} = p_{i,A} \\times \\frac{4000-q_{rtd,C}}{4000-2200} + p_{i,B} \\times \\frac{q_{rtd,C}-2200}{4000-2200}\n",
    "$$"
   ],
   "metadata": {}
  },
  {
   "cell_type": "markdown",
   "source": [
    "$4000 < q_{rtd,C} < 7100$ の場合"
   ],
   "metadata": {}
  },
  {
   "cell_type": "markdown",
   "source": [
    "If $4000 < q_{rtd,C} < 7100$"
   ],
   "metadata": {}
  },
  {
   "cell_type": "markdown",
   "source": [
    "$$\\large\n",
    "p_{i} = p_{i,B} \\times \\frac{7100-q_{rtd,C}}{7100-4000} + p_{i,C} \\times \\frac{q_{rtd,C}-4000}{7100-4000}\n",
    "$$"
   ],
   "metadata": {}
  },
  {
   "cell_type": "markdown",
   "source": [
    "$7100 \\leq q_{rtd,C}$ の場合"
   ],
   "metadata": {}
  },
  {
   "cell_type": "markdown",
   "source": [
    "If $7100 \\leq q_{rtd,C}$"
   ],
   "metadata": {}
  },
  {
   "cell_type": "markdown",
   "source": [
    "$$\\large\n",
    "p_{i} = p_{i,C}\n",
    "$$"
   ],
   "metadata": {}
  },
  {
   "cell_type": "markdown",
   "source": [
    "$p_{i,A}$：表により表される係数 / Coefficients represented by a table  \n",
    "$p_{i,B}$：表により表される係数 / Coefficients represented by a table  \n",
    "$p_{i,C}$：表により表される係数 / Coefficients represented by a table  "
   ],
   "metadata": {}
  },
  {
   "cell_type": "code",
   "execution_count": 79,
   "source": [
    "def calc_p_i_eq9(i, q_rtd_C):\n",
    "    \"\"\" 係数p_i (9)\n",
    "    \n",
    "    :param i: [description]\n",
    "    :type i: int\n",
    "    :param q_rtd_C:  定格冷房能力\n",
    "    :type q_rtd_C: float\n",
    "    :raises ValueError: q_rtd_Cが数値でない場合発生する\n",
    "    :return: 係数p_i (9)\n",
    "    :rtype: float\n",
    "    \"\"\"\n",
    "    if q_rtd_C <= 2200:\n",
    "        # (9a)\n",
    "        return calc_p_i_A(i)\n",
    "    elif 2200 < q_rtd_C and q_rtd_C <= 4000:\n",
    "        # (9b)\n",
    "        p_i_A = calc_p_i_A(i)\n",
    "        p_i_B = calc_p_i_B(i)\n",
    "        return p_i_A * ((4000 - q_rtd_C) / (4000 - 2200)) \\\n",
    "               + p_i_B * ((q_rtd_C - 2200) / (4000 - 2200))\n",
    "    elif 4000 < q_rtd_C and q_rtd_C < 7100:\n",
    "        # (9c)\n",
    "        p_i_B = calc_p_i_B(i)\n",
    "        p_i_C = calc_p_i_C(i)\n",
    "        return p_i_B * ((7100 - q_rtd_C) / (7100 - 4000)) \\\n",
    "               + p_i_C * ((q_rtd_C - 4000) / (7100 - 4000))\n",
    "    elif 7100 <= q_rtd_C:\n",
    "        return calc_p_i_C(i)\n",
    "    else:\n",
    "        raise ValueError(q_rtd_C)\n"
   ],
   "outputs": [],
   "metadata": {}
  },
  {
   "cell_type": "code",
   "execution_count": 80,
   "source": [
    "def calc_p_i_A(i):\n",
    "    \"\"\"係数P_i_A (i=0,1,2,10..42)\n",
    "    \n",
    "    :param i: [description]\n",
    "    :type i: int\n",
    "    :return: 係数P_i_A (i=0,1,2,10..42)\n",
    "    :rtype: float\n",
    "    \"\"\"\n",
    "    table_4_A = get_table_4_A()\n",
    "    return table_4_A[4 - floor(i / 10)][(2 - (i % 10))]\n"
   ],
   "outputs": [],
   "metadata": {}
  },
  {
   "cell_type": "code",
   "execution_count": 81,
   "source": [
    "def calc_p_i_B(i):\n",
    "    \"\"\"係数P_i_B\n",
    "    \n",
    "    :param i: [description]\n",
    "    :type i: int\n",
    "    :return: 係数P_i_B\n",
    "    :rtype: float\n",
    "    \"\"\"\n",
    "    table_4_B = get_table_4_B()\n",
    "    return table_4_B[4 - floor(i / 10)][(2 - (i % 10))]\n"
   ],
   "outputs": [],
   "metadata": {}
  },
  {
   "cell_type": "code",
   "execution_count": 82,
   "source": [
    "def calc_p_i_C(i):\n",
    "    \"\"\"係数P_i_C\n",
    "    \n",
    "    :param i: [description]\n",
    "    :type i: int\n",
    "    :return: 係数P_i_C\n",
    "    :rtype: float\n",
    "    \"\"\"\n",
    "    table_4_C = get_table_4_C()\n",
    "    return table_4_C[4 - floor(i / 10)][(2 - (i % 10))]\n"
   ],
   "outputs": [],
   "metadata": {}
  },
  {
   "cell_type": "markdown",
   "source": [
    "<div style=\"text-align: center;font-weight: bold;\">表　係数$p_{i,A}$<br>Table: Coefficients $ p_{i, A} $</div>\n",
    "\n",
    "|係数<br>coefficient|値<br>value|係数<br>coefficient|値<br>value|係数<br>coefficient|値<br>value|\n",
    "|-|-|-|-|-|-|\n",
    "|$p_{42}$|-0.000056|$p_{41}$|0.000786|$p_{40}$|0.071625|\n",
    "|$p_{32}$|-0.000145|$p_{31}$|0.003337|$p_{30}$|-0.143643|\n",
    "|$p_{22}$|-0.000240|$p_{21}$|-0.029471|$p_{20}$|1.954343|\n",
    "|$p_{12}$|-0.000035|$p_{11}$|-0.050909|$p_{10}$|1.389751|\n",
    "|$p_{02}$|0.0|$p_{01}$|0.0|$p_{00}$|0.076800|  \n"
   ],
   "metadata": {}
  },
  {
   "cell_type": "code",
   "execution_count": 83,
   "source": [
    "def get_table_4_A():\n",
    "    \"\"\" 表4(A) 係数 p_i_A\n",
    "    \n",
    "    :return: 表4(A) 係数 p_i_A\n",
    "    :rtype: list\n",
    "    \"\"\"\n",
    "    # 表4(A) 係数 p_i_A\n",
    "    table_4_A = [\n",
    "        (-0.000056, 0.000786, 0.071625),\n",
    "        (-0.000145, 0.003337, -0.143643),\n",
    "        (-0.000240, -0.029471, 1.954343),\n",
    "        (-0.000035, -0.050909, 1.389751),\n",
    "        (0.0, 0.0, 0.076800)\n",
    "    ]\n",
    "    return table_4_A\n"
   ],
   "outputs": [],
   "metadata": {}
  },
  {
   "cell_type": "markdown",
   "source": [
    "<div style=\"text-align: center;font-weight: bold;\">表　係数$p_{i,B}$<br>Table: Coefficients $ p_{i,B} $</div>\n",
    "\n",
    "|係数<br>coefficient|値<br>value|係数<br>coefficient|値<br>value|係数<br>coefficient|値<br>value|\n",
    "|-|-|-|-|-|-|\n",
    "|$p_{42}$|0.000108|$p_{41}$|-0.035658|$p_{40}$|3.063873|\n",
    "|$p_{32}$|-0.000017|$p_{31}$|0.062546|$p_{30}$|-5.471556|\n",
    "|$p_{22}$|-0.000245|$p_{21}$|-0.025126|$p_{20}$|4.057590|\n",
    "|$p_{12}$|0.000323|$p_{11}$|-0.021166|$p_{10}$|0.575459|\n",
    "|$p_{02}$|0.0|$p_{01}$|0.000330|$p_{00}$|0.047500| \n"
   ],
   "metadata": {}
  },
  {
   "cell_type": "code",
   "execution_count": 84,
   "source": [
    "def get_table_4_B():\n",
    "    \"\"\" 表4(B) 係数 p_i_B\n",
    "    \n",
    "    :return: 表4(B) 係数 p_i_B\n",
    "    :rtype: list\n",
    "    \"\"\"\n",
    "    # 表4(B) 係数 p_i_B\n",
    "    table_4_B = [\n",
    "        (0.000108, -0.035658, 3.063873),\n",
    "        (-0.000017, 0.062546, -5.471556),\n",
    "        (-0.000245, -0.025126, 4.057590),\n",
    "        (0.000323, -0.021166, 0.575459),\n",
    "        (0.0, 0.000330, 0.047500)\n",
    "    ]\n",
    "    return table_4_B\n"
   ],
   "outputs": [],
   "metadata": {}
  },
  {
   "cell_type": "markdown",
   "source": [
    "<div style=\"text-align: center;font-weight: bold;\">表　係数$p_{i,C}$<br>Table: Coefficients $ p_{i,C} $</div>\n",
    "\n",
    "|係数<br>coefficient|値<br>value|係数<br>coefficient|値<br>value|係数<br>coefficient|値<br>value|\n",
    "|-|-|-|-|-|-|\n",
    "|$p_{42}$|-0.001465|$p_{41}$|-0.030500|$p_{40}$|1.920431|\n",
    "|$p_{32}$|0.002824|$p_{31}$|0.041081|$p_{30}$|-1.835302|\n",
    "|$p_{22}$|-0.001929|$p_{21}$|-0.009738|$p_{20}$|1.582898|\n",
    "|$p_{12}$|0.000616|$p_{11}$|-0.014239|$p_{10}$|0.546204|\n",
    "|$p_{02}$|0.0|$p_{01}$|-0.000110|$p_{00}$|0.023100|\n"
   ],
   "metadata": {}
  },
  {
   "cell_type": "code",
   "execution_count": 85,
   "source": [
    "def get_table_4_C():\r\n",
    "    \"\"\"表4(C) 係数 p_i_C\r\n",
    "    \r\n",
    "    \r\n",
    "    :return: 表4(C) 係数 p_i_C\r\n",
    "    :rtype: list\r\n",
    "    \"\"\"\r\n",
    "    # 表4(C) 係数 p_i_C\r\n",
    "    table_4_C = [\r\n",
    "        (-0.001465, -0.030500, 1.920431),\r\n",
    "        (0.002824, 0.041081, -1.835302),\r\n",
    "        (-0.001929, -0.009738, 1.582898),\r\n",
    "        (0.000616, -0.014239, 0.546204),\r\n",
    "        (0.0, -0.000110, 0.023100)\r\n",
    "    ]\r\n",
    "    return table_4_C\r\n"
   ],
   "outputs": [],
   "metadata": {}
  },
  {
   "cell_type": "markdown",
   "source": [
    "$$\\large\n",
    "Q'_{T,H,d,t} = Q_{T,H,d,t} \\times \\frac{1}{C_{af,H} \\times C_{df}}\n",
    "$$"
   ],
   "metadata": {}
  },
  {
   "cell_type": "markdown",
   "source": [
    "$Q_{T,H,d,t}$：日付$d$の時刻$t$における1時間当たりの暖房設備機器の処理暖房負荷(MJ/h) / Processing heating load of heating equipment equipment per hour at time $ t $ on date $ d $"
   ],
   "metadata": {}
  },
  {
   "cell_type": "code",
   "execution_count": 86,
   "source": [
    "def calc_Q_dash_T_H_d_t(Q_T_H_d_t, Theta_ex, h_ex):\r\n",
    "    \"\"\"補正処理暖房負荷 (10)\r\n",
    "    \r\n",
    "    :param Q_T_H_d_t: 処理負荷\r\n",
    "    :type Q_T_H_d_t: ndarray\r\n",
    "    :param Theta_ex: 外気温度\r\n",
    "    :type Theta_ex: ndarray\r\n",
    "    :param h_ex: 外気相対温度\r\n",
    "    :type h_ex: ndarray\r\n",
    "    :return: 補正処理暖房負荷 (10)\r\n",
    "    :rtype: ndarray\r\n",
    "    \"\"\"\r\n",
    "    ##室内機吹き出し風量に関する暖房時の能力補正係\r\n",
    "    C_af_H = get_C_af_H()\r\n",
    "\r\n",
    "    ##デフロストに関する暖房出力補正係数\r\n",
    "    C_d_f = get_C_df_H(Theta_ex, h_ex)\r\n",
    "\r\n",
    "    Q_dash_T_H_d_t = Q_T_H_d_t * (1.0 / (C_af_H * C_d_f))\r\n",
    "\r\n",
    "    return Q_dash_T_H_d_t\r\n"
   ],
   "outputs": [],
   "metadata": {}
  },
  {
   "cell_type": "markdown",
   "source": [
    "#### 6.2 ガス消費量 / Gas consumption"
   ],
   "metadata": {}
  },
  {
   "cell_type": "markdown",
   "source": [
    "日付$d$の時刻$t$における１時間当たりのガス消費量$E_{G,H,d,t}$は0とする。"
   ],
   "metadata": {}
  },
  {
   "cell_type": "markdown",
   "source": [
    "It is assumed that gas consumption $ E_{G, H, d, t} $ per hour at time $ t $ of date $ d $ is 0."
   ],
   "metadata": {}
  },
  {
   "cell_type": "code",
   "execution_count": 87,
   "source": [
    "def get_E_G_H_d_t():\r\n",
    "    \"\"\"ガス消費量\r\n",
    "    \r\n",
    "    :return: ガス消費量\r\n",
    "    :rtype: ndarray\r\n",
    "    \"\"\"\r\n",
    "    return np.zeros(24 * 365)\r\n"
   ],
   "outputs": [],
   "metadata": {}
  },
  {
   "cell_type": "markdown",
   "source": [
    "#### 6.3 灯油消費量 / Kerosene consumption"
   ],
   "metadata": {}
  },
  {
   "cell_type": "markdown",
   "source": [
    "日付$d$の時刻$t$における１時間当たりの灯油消費量$E_{K,H,d,t}$は0とする。"
   ],
   "metadata": {}
  },
  {
   "cell_type": "markdown",
   "source": [
    "The kerosene consumption $ E_{K, H, d, t} $ per hour at the time $ t $ of the date $ d $ is 0."
   ],
   "metadata": {}
  },
  {
   "cell_type": "code",
   "execution_count": 88,
   "source": [
    "def get_E_K_H_d_t():\n",
    "    \"\"\"灯油消費量\n",
    "    \n",
    "    :return: 灯油消費量\n",
    "    :rtype: ndarray\n",
    "    \"\"\"\n",
    "    return np.zeros(24 * 365)\n"
   ],
   "outputs": [],
   "metadata": {}
  },
  {
   "cell_type": "markdown",
   "source": [
    "#### 6.4 その他の燃料による一次エネルギー消費量 / Primary energy consumption by other fuels"
   ],
   "metadata": {}
  },
  {
   "cell_type": "markdown",
   "source": [
    "日付$d$の時刻$t$における１時間当たりのその他の燃料による一次エネルギー消費量$E_{M,H,d,t}$は0とする。"
   ],
   "metadata": {}
  },
  {
   "cell_type": "markdown",
   "source": [
    "Primary energy consumption $ E_{M, H, d, t} $ by other fuel per hour at time $ t $ of date $ d $ is 0."
   ],
   "metadata": {}
  },
  {
   "cell_type": "code",
   "execution_count": 89,
   "source": [
    "def get_E_M_H_d_t():\r\n",
    "    \"\"\"その他の燃料による一次エネルギー消費量\r\n",
    "    \r\n",
    "    :return: その他の燃料による一次エネルギー消費量\r\n",
    "    :rtype: ndarray\r\n",
    "    \"\"\"\r\n",
    "    return np.zeros(24 * 365)\r\n"
   ],
   "outputs": [],
   "metadata": {}
  },
  {
   "cell_type": "markdown",
   "source": [
    "### 7. 最大冷房出力 / Maximum cooling output"
   ],
   "metadata": {}
  },
  {
   "cell_type": "markdown",
   "source": [
    "#### 7.1 最大冷房出力の計算 / Calculation of maximum cooling output"
   ],
   "metadata": {}
  },
  {
   "cell_type": "markdown",
   "source": [
    "$$\\large\n",
    "Q_{max,C,d,t} = Qr_{max,C,d,t} \\times q_{rtd,C} \\times C_{af,C} \\times C_{hm,C} \\times 3600 \\times 10^{-6}\n",
    "$$"
   ],
   "metadata": {}
  },
  {
   "cell_type": "markdown",
   "source": [
    "$Q_{max,C,d,t}$：日付$d$の時刻$t$における1時間当たりの最大冷房出力(MJ/h) / Maximum cooling output per hour at time $ t $ of date $ d $  \n",
    "$Qr_{max,C,d,t}$：日付$d$の時刻$t$における最大冷房出力比 / Maximum cooling power ratio at time $ t $ of date $ d $  \n",
    "$q_{rtd,C}$：定格冷房能力(W) / Rated cooling capacity  \n",
    "$C_{af,C}$：室内機吹き出し風量に関する冷房出力補正係数 / Cooling output correction factor related to indoor unit blowing air volume  \n",
    "$C_{hm,C}$：室内機吸い込み湿度に関する冷房出力補正係数 / Cooling output correction factor for indoor unit suction humidity  "
   ],
   "metadata": {}
  },
  {
   "cell_type": "code",
   "execution_count": 90,
   "source": [
    "def calc_Q_max_C_d_t(Q_r_max_C_d_t, q_rtd_C):\r\n",
    "    \"\"\"最大冷房出力 (11)\r\n",
    "    \r\n",
    "    :param Q_r_max_C_d_t: 最大冷房出力比 \r\n",
    "    :type Q_r_max_C_d_t: ndarray\r\n",
    "    :param q_rtd_C: 定格冷房能力\r\n",
    "    :type q_rtd_C: float\r\n",
    "    :return: 最大冷房出力\r\n",
    "    :rtype: ndarray\r\n",
    "    \"\"\"\r\n",
    "    # 室内機吸い込み湿度に関する冷房出力補正係数\r\n",
    "    C_hm_C = get_C_hm_C()\r\n",
    "\r\n",
    "    # 室内機吹き出し風量に関する冷房出力係数\r\n",
    "    C_af_C = get_C_af_C()\r\n",
    "\r\n",
    "    return Q_r_max_C_d_t * q_rtd_C * C_af_C * C_hm_C * 3600 * 10 ** (-6)\r\n"
   ],
   "outputs": [],
   "metadata": {}
  },
  {
   "cell_type": "markdown",
   "source": [
    "$$\\large\n",
    "Qr_{max,C,d,t} = a_2 \\times (\\theta_{ex,d,t} - 35)^2 + a_1 \\times (\\theta_{ex,d,t} - 35) + a_0\n",
    "$$"
   ],
   "metadata": {}
  },
  {
   "cell_type": "code",
   "execution_count": 91,
   "source": [
    "def calc_Q_r_max_C_d_t(q_r_max_C, q_rtd_C, Theta_ex_d_t):\r\n",
    "    \"\"\"最大冷房出力比 (12)\r\n",
    "    \r\n",
    "    :param q_r_max_C: 最大冷房能力比 \r\n",
    "    :type q_r_max_C: float\r\n",
    "    :param q_rtd_C: 定格冷房能力\r\n",
    "    :type q_rtd_C: float\r\n",
    "    :param Theta_ex_d_t: 1時間当たりの外気温度\r\n",
    "    :type Theta_ex_d_t: ndarray\r\n",
    "    :return: 最大冷房出力比\r\n",
    "    :rtype: ndarray\r\n",
    "    \"\"\"\r\n",
    "    a2, a1, a0 = calc_a_eq13(q_r_max_C, q_rtd_C)\r\n",
    "    return a2 * (Theta_ex_d_t - 35) ** 2 + a1 * (Theta_ex_d_t - 35) + a0\r\n"
   ],
   "outputs": [],
   "metadata": {}
  },
  {
   "cell_type": "markdown",
   "source": [
    "$q_{rtd,C}$が5600(W)を超える場合については、$q_{rtd,C}$は5600(W)に等しいとして計算するものとする。"
   ],
   "metadata": {}
  },
  {
   "cell_type": "markdown",
   "source": [
    "When $ q_{rtd, C} $ exceeds 5600 (W), it is assumed that $ q_{rtd, C} $ is calculated to be equal to 5600 (W)."
   ],
   "metadata": {}
  },
  {
   "cell_type": "markdown",
   "source": [
    "$$\n",
    "\\Biggl(\\begin{matrix}\n",
    "    a_2\\\\\n",
    "    a_1\\\\\n",
    "    a_0\\\\\n",
    "    \\end{matrix}\n",
    "\\Biggr) = \n",
    "\\Biggl(\\begin{matrix}\n",
    "    b_2\\\\ \n",
    "    b_1\\\\ \n",
    "    b_0\\\\ \n",
    "    \\end{matrix}\n",
    "\\Biggr) \\times qr_{max,C} + \n",
    "\\Biggl(\\begin{matrix}\n",
    "    c_2\\\\ \n",
    "    c_1\\\\ \n",
    "    c_0\\\\ \n",
    "    \\end{matrix}\n",
    "\\Biggr)\n",
    "$$"
   ],
   "metadata": {}
  },
  {
   "cell_type": "markdown",
   "source": [
    "$$\n",
    "\\Biggl(\\begin{matrix}\n",
    "    b_2\\\\ \n",
    "    b_1\\\\ \n",
    "    b_0\\\\ \n",
    "    \\end{matrix}\n",
    "\\Biggr) = \n",
    "\\Biggl(\\begin{matrix}\n",
    "    0.000182\\\\ \n",
    "    0.003527\\\\ \n",
    "    -0.011490\\\\ \n",
    "    \\end{matrix}\n",
    "\\Biggr) \\times q_{rtd,C} \\times 10^{-3}  + \n",
    "\\Biggl(\\begin{matrix}\n",
    "    -0.001480\\\\ \n",
    "    -0.023000\\\\ \n",
    "    1.024328\\\\ \n",
    "    \\end{matrix}\n",
    "\\Biggr)\n",
    "$$"
   ],
   "metadata": {}
  },
  {
   "cell_type": "markdown",
   "source": [
    "$$\n",
    "\\Biggl(\\begin{matrix}\n",
    "    c_2\\\\ \n",
    "    c_1\\\\ \n",
    "    c_0\\\\ \n",
    "    \\end{matrix}\n",
    "\\Biggr) = \n",
    "\\Biggl(\\begin{matrix}\n",
    "    -0.000350\\\\ \n",
    "    -0.001280\\\\ \n",
    "    0.004772\\\\ \n",
    "    \\end{matrix}\n",
    "\\Biggr) \\times q_{rtd,C} \\times 10^{-3}  + \n",
    "\\Biggl(\\begin{matrix}\n",
    "    0.000800\\\\ \n",
    "    0.003621\\\\ \n",
    "    -0.011170\\\\ \n",
    "    \\end{matrix}\n",
    "\\Biggr)\n",
    "$$"
   ],
   "metadata": {}
  },
  {
   "cell_type": "markdown",
   "source": [
    "$qr_{max,C}$：最大冷房能力比 / Maximum cooling capacity ratio  \n",
    "$q_{rtd,C}$：定格冷房能力(W) / Rated cooling capacity  "
   ],
   "metadata": {}
  },
  {
   "cell_type": "code",
   "execution_count": 92,
   "source": [
    "def calc_a_eq13(q_r_max_C, q_rtd_C):\r\n",
    "    \"\"\"係数a2及びa1,a0 (13a)\r\n",
    "    \r\n",
    "    :param q_r_max_C: 最大冷房能力比 \r\n",
    "    :type q_r_max_C: float\r\n",
    "    :param q_rtd_C: 定格冷房能力\r\n",
    "    :type q_rtd_C: float\r\n",
    "    :return: 係数a2及びa1,a0 \r\n",
    "    :rtype: tuple\r\n",
    "    \"\"\"\r\n",
    "    b2, b1, b0 = get_b_eq13(q_rtd_C)\r\n",
    "    c2, c1, c0 = get_c_eq13(q_rtd_C)\r\n",
    "    a2 = b2 * q_r_max_C + c2\r\n",
    "    a1 = b1 * q_r_max_C + c1\r\n",
    "    a0 = b0 * q_r_max_C + c0\r\n",
    "    return a2, a1, a0\r\n",
    "\r\n",
    "\r\n",
    "# 係数b2,b1,b0 (13b)\r\n",
    "def get_b_eq13(q_rtd_C):\r\n",
    "    \"\"\"係数b2,b1,b0 (13b)\r\n",
    "    \r\n",
    "    :param q_rtd_C: 定格冷房能力\r\n",
    "    :type q_rtd_C: float\r\n",
    "    :return: 係数b2,b1,b0\r\n",
    "    :rtype: tuple\r\n",
    "    \"\"\"\r\n",
    "    q_rtd_C = min(5600, q_rtd_C)\r\n",
    "    b2 = 0.000812 * q_rtd_C * 10 ** (-3) - 0.001480\r\n",
    "    b1 = 0.003527 * q_rtd_C * 10 ** (-3) - 0.023000\r\n",
    "    b0 = -0.011490 * q_rtd_C * 10 ** (-3) + 1.024328\r\n",
    "    return b2, b1, b0\r\n",
    "\r\n",
    "\r\n",
    "# 係数c2,c1,c0 (13c)\r\n",
    "def get_c_eq13(q_rtd_C):\r\n",
    "    \"\"\"係数c2,c1,c0 (13c)\r\n",
    "    \r\n",
    "    :param q_rtd_C: 定格冷房能力\r\n",
    "    :type q_rtd_C: float\r\n",
    "    :return: 係数c2,c1,c0 \r\n",
    "    :rtype: tuple\r\n",
    "    \"\"\"\r\n",
    "    q_rtd_C = min(5600, q_rtd_C)\r\n",
    "    c2 = -0.000350 * q_rtd_C * 10 ** (-3) + 0.000800\r\n",
    "    c1 = -0.001280 * q_rtd_C * 10 ** (-3) + 0.003621\r\n",
    "    c0 = 0.004772 * q_rtd_C * 10 ** (-3) - 0.011170\r\n",
    "    return c2, c1, c0\r\n"
   ],
   "outputs": [],
   "metadata": {}
  },
  {
   "cell_type": "markdown",
   "source": [
    "$$\\large\n",
    "qr_{max,C} = \\frac{q_{max,C}}{q_{rtd,C}}\n",
    "$$"
   ],
   "metadata": {}
  },
  {
   "cell_type": "markdown",
   "source": [
    "$q_{max,C}$：最大冷房能力(W) / Maximum cooling capacity  \n",
    "$q_{rtd,C}$：定格冷房能力(W) / Rated cooling capacity  "
   ],
   "metadata": {}
  },
  {
   "cell_type": "code",
   "execution_count": 93,
   "source": [
    "def get_q_r_max_C(q_max_C, q_rtd_C):\n",
    "    \"\"\"最大冷房能力比 (14)\n",
    "    \n",
    "    :param q_max_C: 最大冷房能力\n",
    "    :type q_max_C: float\n",
    "    :param q_rtd_C: 定格冷房能力\n",
    "    :type q_rtd_C: float\n",
    "    :return: 最大冷房能力比\n",
    "    :rtype: float\n",
    "    \"\"\"\n",
    "    return q_max_C / q_rtd_C\n"
   ],
   "outputs": [],
   "metadata": {}
  },
  {
   "cell_type": "markdown",
   "source": [
    "室内機吹き出し風量に関する冷房時の能力補正係数$C_{af,C}$は0.85とする。  \n",
    "室内機吸い込み湿度に関する冷房能力補正係数$C_{hm,C}$は1.15とする。"
   ],
   "metadata": {}
  },
  {
   "cell_type": "markdown",
   "source": [
    "The capacity correction coefficient $ C_{af, C} $ at the time of cooling relating to the indoor unit blowing air volume is set to 0.85.  \n",
    "The cooling capacity correction coefficient $ C_{hm, C} $ related to indoor unit suction humidity is 1.15."
   ],
   "metadata": {}
  },
  {
   "cell_type": "code",
   "execution_count": 94,
   "source": [
    "def get_C_af_C():\n",
    "    \"\"\"室内機吹き出し風量に関する冷房時の能力補正係数 C_af_C\n",
    "    \n",
    "    :return: 室内機吹き出し風量に関する冷房時の能力補正係数\n",
    "    :rtype: float\n",
    "    \"\"\"\n",
    "    return 0.85\n",
    "\n",
    "\n",
    "# 室内機吸い込み湿度に関する冷房能力補正係 C_hm_C\n",
    "def get_C_hm_C():\n",
    "    \"\"\"室内機吸い込み湿度に関する冷房能力補正係数 C_hm_C\n",
    "    \n",
    "    :return: 室内機吸い込み湿度に関する冷房能力補正係数\n",
    "    :rtype: float\n",
    "    \"\"\"\n",
    "    return 1.15\n"
   ],
   "outputs": [],
   "metadata": {}
  },
  {
   "cell_type": "markdown",
   "source": [
    "#### 7.2 最大冷房顕熱出力及び最大冷房潜熱出力の計算 / Calculation of maximum cooling sensible heat output and maximum cooling latent heat output"
   ],
   "metadata": {}
  },
  {
   "cell_type": "markdown",
   "source": [
    "$$\\large\n",
    "Q_{max,CS,d,t} = Q_{max,C,d,t} \\times SHF'_{d,t}\n",
    "$$\n",
    "\n",
    "$$\\large\n",
    "Q_{max,CL,d,t} = min(Q_{max,C,d,t} \\times (1 - SHF'_{d,t}),  L'_{CL,d,t})\n",
    "$$"
   ],
   "metadata": {}
  },
  {
   "cell_type": "markdown",
   "source": [
    "$Q_{max,CS,d,t}$：日付$d$の時刻$t$における1時間当たりの最大冷房顕熱出力(MJ/h) / Maximum cooling sensible heat output per hour at time $ t $ of date $ d $  \n",
    "$Q_{max,CL,d,t}$：日付$d$の時刻$t$における1時間当たりの最大冷房潜熱出力(MJ/h) / Maximum cooling latent heat output per hour at time $ t $ of date $ d $  \n",
    "$Q_{max,C,d,t}$：日付$d$の時刻$t$における1時間当たりの最大冷房出力(MJ/h) / Maximum cooling output per hour at time $ t $ of date $ d $  \n",
    "$SHF'_{d,t}$：日付$d$の時刻$t$における冷房負荷補正顕熱比 / Cooling load correction sensible heat ratio at time $ t $ of date $ d $  "
   ],
   "metadata": {}
  },
  {
   "cell_type": "code",
   "execution_count": 95,
   "source": [
    "def get_Q_max_CS_d_t(Q_max_C_d_t, SHF_dash_d_t):\r\n",
    "    \"\"\"最大冷房顕熱出力 (15a)\r\n",
    "    \r\n",
    "    :param Q_max_C_d_t: 最大冷房出力\r\n",
    "    :type Q_max_C_d_t: ndarray\r\n",
    "    :param SHF_dash_d_t: 冷房負荷補正顕熱比\r\n",
    "    :type SHF_dash_d_t: ndarray\r\n",
    "    :return: 最大冷房顕熱出力\r\n",
    "    :rtype: ndarray\r\n",
    "    \"\"\"\r\n",
    "    return Q_max_C_d_t * SHF_dash_d_t\r\n"
   ],
   "outputs": [],
   "metadata": {}
  },
  {
   "cell_type": "code",
   "execution_count": 96,
   "source": [
    "def get_Q_max_CL_d_t(Q_max_C_d_t, SHF_dash_d_t, L_dash_CL_d_t):\r\n",
    "    \"\"\"最大冷房潜熱出力 (15b)\r\n",
    "    \r\n",
    "    :param Q_max_C_d_t: 最大冷房出力\r\n",
    "    :type Q_max_C_d_t: ndarray\r\n",
    "    :param SHF_dash_d_t: 冷房負荷補正顕熱比\r\n",
    "    :type SHF_dash_d_t: ndarray\r\n",
    "    :param L_dash_CL_d_t: 1時間当たりの補正冷房潜熱負荷\r\n",
    "    :type L_dash_CL_d_t: ndarray\r\n",
    "    :return: 最大冷房潜熱出力\r\n",
    "    :rtype: ndarray\r\n",
    "    \"\"\"\r\n",
    "    return np.clip(Q_max_C_d_t * (1.0 - SHF_dash_d_t), 0, L_dash_CL_d_t)\r\n"
   ],
   "outputs": [],
   "metadata": {}
  },
  {
   "cell_type": "markdown",
   "source": [
    "$$\\large\n",
    "SHF'_{d,t} = \\left\\{ \\begin{array}{ll}\n",
    "    \\frac{L_{CS,d,t}}{L'_{C,d,t}} & (L'_{C,d,t} \\neq 0)\\\\ \n",
    "    0 & (L'_{C,d,t} = 0)\\\\ \n",
    "    \\end{array}\n",
    "\\right.\n",
    "$$"
   ],
   "metadata": {}
  },
  {
   "cell_type": "markdown",
   "source": [
    "$L_{CS,d,t}$：日付$d$の時刻$t$における1時間当たりの冷房顕熱負荷(MJ/h) / Cooling sensible heat load per hour at time $ t $ of date $ d $  \n",
    "$L'_{C,d,t}$：日付$d$の時刻$t$における1時間当たりの補正冷房負荷(MJ/h) / Corrected cooling load per hour at time $ t $ of date $ d $  "
   ],
   "metadata": {}
  },
  {
   "cell_type": "code",
   "execution_count": 97,
   "source": [
    "def get_SHF_dash_d_t(L_CS_d_t, L_dash_C_d_t):\r\n",
    "    \"\"\"冷房負荷補正顕熱比 (16)\r\n",
    "    \r\n",
    "    :param L_CS_d_t: 暖冷房区画の 1 時間当たりの冷房顕熱負荷\r\n",
    "    :type L_CS_d_t: ndarray\r\n",
    "    :param L_dash_CL_d_t: 1時間当たりの補正冷房潜熱負荷\r\n",
    "    :type L_dash_CL_d_t: ndarray\r\n",
    "    :return: 冷房負荷補正顕熱比\r\n",
    "    :rtype: float\r\n",
    "    \"\"\"\r\n",
    "    SHF_dash_d_t = np.zeros(24*365)\r\n",
    "    f1 = L_dash_C_d_t > 0\r\n",
    "    SHF_dash_d_t[f1] = L_CS_d_t[f1] / L_dash_C_d_t[f1]\r\n",
    "    return SHF_dash_d_t\r\n"
   ],
   "outputs": [],
   "metadata": {}
  },
  {
   "cell_type": "markdown",
   "source": [
    "$$\\large\n",
    "L'_{C,d,t} = L_{CS,d,t} + L'_{CL,d,t}\n",
    "$$"
   ],
   "metadata": {}
  },
  {
   "cell_type": "markdown",
   "source": [
    "$L_{CS,d,t}$：日付$d$の時刻$t$における1時間当たりの冷房顕熱負荷(MJ/h) / Cooling sensible heat load per hour at time $ t $ of date $ d $  \n",
    "$L'_{CL,d,t}$：日付$d$の時刻$t$における1時間当たりの補正冷房潜熱負荷(MJ/h) / Corrected cooling latent heat load per hour at time $ t $ of date $ d $  "
   ],
   "metadata": {}
  },
  {
   "cell_type": "code",
   "execution_count": 98,
   "source": [
    "def get_L_dash_C_d_t(L_CS_d_t, L_dash_CL_d_t):\n",
    "    \"\"\"補正冷房負荷 (17)\n",
    "    \n",
    "    :param L_CS_d_t: 暖冷房区画の 1 時間当たりの冷房顕熱負荷\n",
    "    :type L_CS_d_t: ndarray\n",
    "    :param L_dash_CL_d_t: 1時間当たりの補正冷房潜熱負荷\n",
    "    :type L_dash_CL_d_t: ndarray\n",
    "    :return: 補正冷房負荷\n",
    "    :rtype: ndarray\n",
    "    \"\"\"\n",
    "    return L_CS_d_t + L_dash_CL_d_t\n"
   ],
   "outputs": [],
   "metadata": {}
  },
  {
   "cell_type": "markdown",
   "source": [
    "$$\\large\n",
    "L'_{CL,d,t} = min(L_{max,CL,d,t},  L_{CL,d,t})\n",
    "$$"
   ],
   "metadata": {}
  },
  {
   "cell_type": "markdown",
   "source": [
    "$L_{max,CL,d,t}$：日付$d$の時刻$t$における1時間当たりの最大冷房潜熱負荷(MJ/h) / Maximum cooling latent heat load per hour at time $ t $ of date $ d $  \n",
    "$L_{CL,d,t}$：日付$d$の時刻$t$における1時間当たりの冷房潜熱負荷(MJ/h) / Cooling latent heat load per hour at time $ t $ of date $ d $  "
   ],
   "metadata": {}
  },
  {
   "cell_type": "code",
   "execution_count": 99,
   "source": [
    "def get_L_dash_CL_d_t(L_max_CL_d_t, L_CL_d_t):\n",
    "    \"\"\"補正冷房潜熱負荷 (18)\n",
    "    \n",
    "    :param L_max_CL_d_t: 1時間当たりの最大冷房潜熱負荷 \n",
    "    :type L_max_CL_d_t: ndarray\n",
    "    :param L_CL_d_t: 暖冷房区画の 1 時間当たりの冷房潜熱負荷\n",
    "    :type L_CL_d_t: ndarray\n",
    "    :return: 補正冷房潜熱負荷\n",
    "    :rtype: ndarray\n",
    "    \"\"\"\n",
    "    return np.clip(L_CL_d_t, 0, L_max_CL_d_t)\n"
   ],
   "outputs": [],
   "metadata": {}
  },
  {
   "cell_type": "markdown",
   "source": [
    "$$\\large\n",
    "L_{max,CL,d,t} = L_{CS,d,t} \\times \\frac{1 - SHF_{L,min,c}}{SHF_{L,min,c}}\n",
    "$$"
   ],
   "metadata": {}
  },
  {
   "cell_type": "markdown",
   "source": [
    "$L_{CS,d,t}$：日付$d$の時刻$t$における1時間当たりの冷房顕熱負荷(MJ/h) / Cooling sensible heat load per hour at time $ t $ of date $ d $  \n",
    "$SHF_{L,min,c}$：冷房負荷最小顕熱比 / Cooling load minimum sensible heat ratio  "
   ],
   "metadata": {}
  },
  {
   "cell_type": "code",
   "execution_count": 100,
   "source": [
    "def get_L_max_CL_d_t(L_CS_d_t, SHF_L_min_c):\n",
    "    \"\"\"最大冷房潜熱負荷 (19)\n",
    "    \n",
    "    :param L_CS_d_t: 暖冷房区画の 1 時間当たりの冷房顕熱負荷\n",
    "    :type L_CS_d_t: ndarray\n",
    "    :param SHF_L_min_c: 冷房負荷最小顕熱比率\n",
    "    :type SHF_L_min_c: float\n",
    "    :return: 最大冷房潜熱負荷\n",
    "    :rtype: ndarray\n",
    "    \"\"\"\n",
    "    return L_CS_d_t * ((1.0 - SHF_L_min_c) / SHF_L_min_c)\n"
   ],
   "outputs": [],
   "metadata": {}
  },
  {
   "cell_type": "markdown",
   "source": [
    "冷房負荷最小顕熱比$SHF_{L,min,c}$は0.4とする。"
   ],
   "metadata": {}
  },
  {
   "cell_type": "markdown",
   "source": [
    "The cooling load minimum sensible heat ratio $ SHF_{L, min, c} $ is 0.4."
   ],
   "metadata": {}
  },
  {
   "cell_type": "code",
   "execution_count": 101,
   "source": [
    "def get_SHF_L_min_c():\n",
    "    \"\"\"冷房負荷最小顕熱比\n",
    "    \n",
    "    :return: 冷房負荷最小顕熱比率\n",
    "    :rtype: float\n",
    "    \"\"\"\n",
    "    return 0.4\n"
   ],
   "outputs": [],
   "metadata": {}
  },
  {
   "cell_type": "markdown",
   "source": [
    "### 8. 冷房エネルギー消費量 / Cooling energy consumption"
   ],
   "metadata": {}
  },
  {
   "cell_type": "markdown",
   "source": [
    "#### 8.1 消費電力量 / Power consumption"
   ],
   "metadata": {}
  },
  {
   "cell_type": "markdown",
   "source": [
    "日付$d$の時刻$t$における補正処理冷房負荷 $Q'_{T,c,d,t}$が0の場合、$E_{E,C,d,t}$ = 0とする。"
   ],
   "metadata": {}
  },
  {
   "cell_type": "markdown",
   "source": [
    "Correction processing at time $ t $ of date $ d $ If cooling load $ Q'_{T, c, d, t} $ is 0, then $ E_{E, C, d, t} $ = 0."
   ],
   "metadata": {}
  },
  {
   "cell_type": "markdown",
   "source": [
    "$$\\large\n",
    "E_{E,C,d,t} = f_{C,\\theta} \\Biggl( \\frac{Q'_{T,c,d,t}}{q_{max,C} \\times 3600 \\times 10^{-6}} \\Biggr) \\div \n",
    "f_{C,35} \\Biggl( \\frac{1}{qr_{max,C}} \\Biggr) \\times \\frac{q_{rtd,C}}{e_{rtd,C}} \\times 10^{-3}\n",
    "$$"
   ],
   "metadata": {}
  },
  {
   "cell_type": "markdown",
   "source": [
    "$E_{E,C,d,t}$：日付$d$の時刻$t$における1時間当たりの消費電力量(kWh/h) / Power consumption per hour at time $ t $ of date $ d $  \n",
    "$f_{C,\\theta}$：基準入出力関数 / Reference input / output function    \n",
    "$Q'_{T,c,d,t}$：日付$d$の時刻$t$における補正処理冷房負荷(MJ/h) / Corrected processing cooling load at time $ t $ of date $ d $    \n",
    "$q_{max,C}$：最大冷房能力(W) / Maximum cooling capacity    \n",
    "$q_{rtd,C}$：定格冷房能力(W) / Rated cooling capacity    \n",
    "$e_{rtd,C}$：定格冷房エネルギー消費効率 / Rated cooling energy consumption efficiency  "
   ],
   "metadata": {}
  },
  {
   "cell_type": "code",
   "execution_count": 102,
   "source": [
    "def calc_E_E_C_d_t(region, q_rtd_C, e_rtd_C, dualcompressor, L_CS_d_t, L_CL_d_t):\n",
    "    \"\"\"消費電力量 (20)\n",
    "    \n",
    "    :param region: 省エネルギー地域区分\n",
    "    :type region: int\n",
    "    :param q_rtd_C: 定格冷房能力\n",
    "    :type q_rtd_C: float\n",
    "    :param e_rtd_C: 定格冷房エネルギー消費効率\n",
    "    :type e_rtd_C: float\n",
    "    :param dualcompressor: 容量可変型コンプレッサー搭載\n",
    "    :type dualcompressor: bool\n",
    "    :param L_CS_d_t: 暖冷房区画の 1 時間当たりの冷房顕熱負荷\n",
    "    :type L_CS_d_t: ndarray\n",
    "    :param L_CL_d_t: 暖冷房区画の 1 時間当たりの冷房潜熱負荷\n",
    "    :type L_CL_d_t: ndarray\n",
    "    :return: 消費電力量\n",
    "    :rtype: ndarray\n",
    "    \"\"\"\n",
    "    # 外気条件\n",
    "    outdoor = load_outdoor()\n",
    "    Theta_ex = get_Theta_ex(region, outdoor)\n",
    "    X_ex = get_X_ex(region, outdoor)\n",
    "    h_ex = calc_h_ex(X_ex, Theta_ex)\n",
    "\n",
    "    # 最大冷房能力\n",
    "    q_max_C = get_q_max_C(q_rtd_C)\n",
    "\n",
    "    # 最大冷房能力比\n",
    "    q_r_max_C = get_q_r_max_C(q_max_C, q_rtd_C)\n",
    "\n",
    "    # 最大冷房出力比\n",
    "    Q_r_max_C_d_t = calc_Q_r_max_C_d_t(q_r_max_C, q_rtd_C, Theta_ex)\n",
    "\n",
    "    # 最大冷房出力\n",
    "    Q_max_C_d_t = calc_Q_max_C_d_t(Q_r_max_C_d_t, q_rtd_C)\n",
    "\n",
    "    # 冷房負荷最小顕熱比\n",
    "    SHF_L_min_c = get_SHF_L_min_c()\n",
    "\n",
    "    # 最大冷房潜熱負荷\n",
    "    L_max_CL_d_t = get_L_max_CL_d_t(L_CS_d_t, SHF_L_min_c)\n",
    "\n",
    "    # 補正冷房潜熱負荷\n",
    "    L_dash_CL_d_t = get_L_dash_CL_d_t(L_max_CL_d_t, L_CL_d_t)\n",
    "    L_dash_C_d_t = get_L_dash_C_d_t(L_CS_d_t, L_dash_CL_d_t)\n",
    "\n",
    "    # 冷房負荷補正顕熱比\n",
    "    SHF_dash_d_t = get_SHF_dash_d_t(L_CS_d_t, L_dash_C_d_t)\n",
    "\n",
    "    # 最大冷房顕熱出力, 最大冷房潜熱出力\n",
    "    Q_max_CS_d_t = get_Q_max_CS_d_t(Q_max_C_d_t, SHF_dash_d_t)\n",
    "    Q_max_CL_d_t = get_Q_max_CL_d_t(Q_max_C_d_t, SHF_dash_d_t, L_dash_CL_d_t)\n",
    "\n",
    "    # 処理冷房負荷\n",
    "    Q_T_CS_d_t = get_Q_T_CS_d_t_i(Q_max_CS_d_t_i=Q_max_CS_d_t, L_CS_d_t_i=L_CS_d_t)\n",
    "    Q_T_CL_d_t = get_Q_T_CL_d_t_i(Q_max_CL_d_t_i=Q_max_CL_d_t, L_CL_d_t_i=L_CL_d_t)\n",
    "\n",
    "    # 補正処理冷房負荷\n",
    "    Q_dash_T_C_d_t = calc_Q_dash_T_C_d_t(Q_T_CS_d_t, Q_T_CL_d_t)\n",
    "    \n",
    "    # 消費電力量\n",
    "    E_E_C_d_t = calc_f_C_Theta(Q_dash_T_C_d_t / (q_max_C * 3600 * 10 ** (-6)), Theta_ex, q_rtd_C, dualcompressor) \\\n",
    "                / calc_f_C_Theta(1.0 / q_r_max_C, np.ones(24 * 365) * 35.0, q_rtd_C, dualcompressor) \\\n",
    "                * (q_rtd_C / e_rtd_C) * 10 ** (-3)\n",
    "    E_E_C_d_t[Q_dash_T_C_d_t == 0.0] = 0.0\n",
    "\n",
    "    return E_E_C_d_t\n"
   ],
   "outputs": [],
   "metadata": {}
  },
  {
   "cell_type": "markdown",
   "source": [
    "$$\\large\n",
    "f_{C,\\theta}(x) = a_{4}x^{4} + a_{3}x^{3} + a_{2}x^{2} + a_{1}x + a_{0}\n",
    "$$"
   ],
   "metadata": {}
  },
  {
   "cell_type": "markdown",
   "source": [
    "\\begin{equation*}\n",
    "\\left(\\begin{matrix}\n",
    "    a_4\\\\\n",
    "    a_3\\\\\n",
    "    a_2\\\\\n",
    "    a_1\\\\\n",
    "    a_0\\\\\n",
    "    \\end{matrix}\n",
    "\\right) = \n",
    "\\left(\\begin{matrix}\n",
    "    p_{42} & p_{41} & p_{40}\\\\\n",
    "    p_{32} & p_{31} & p_{30}\\\\\n",
    "    p_{22} & p_{21} & p_{20}\\\\\n",
    "    p_{12} & p_{11} & p_{10}\\\\\n",
    "    p_{02} & p_{01} & p_{00}\\\\\n",
    "    \\end{matrix}\n",
    "\\right)\n",
    "\\left(\\begin{matrix}\n",
    "    \\theta_{ex}^2\\\\ \n",
    "    \\theta_{ex}\\\\ \n",
    "    1\\\\ \n",
    "    \\end{matrix}\n",
    "\\right)\n",
    "\\end{equation*}"
   ],
   "metadata": {}
  },
  {
   "cell_type": "code",
   "execution_count": 103,
   "source": [
    "def calc_f_C_Theta(x, Theta_ex, q_rtd_C, dualcompressor=False):\n",
    "    \"\"\"基準入出力関数 (21)\n",
    "    \n",
    "    :param x: 入力\n",
    "    :type x: float\n",
    "    :param Theta_ex: 外気気温\n",
    "    :type Theta_ex: ndarray\n",
    "    :param q_rtd_C:  定格冷房能力\n",
    "    :type q_rtd_C: float\n",
    "    :param dualcompressor: 容量可変型コンプレッサー搭載, defaults to False\n",
    "    :type dualcompressor: bool, optional\n",
    "    :return: 基準入出力関数の入力xに対する出力\n",
    "    :rtype: float\n",
    "    \"\"\"\n",
    "    # 係数a0-a4\n",
    "    a0, a1, a2, a3, a4 = calc_a_eq22(Theta_ex, q_rtd_C, dualcompressor=dualcompressor)\n",
    "\n",
    "    return a4 * x ** 4 + a3 * x ** 3 + a2 * x ** 2 + a1 * x + a0\n"
   ],
   "outputs": [],
   "metadata": {}
  },
  {
   "cell_type": "code",
   "execution_count": 104,
   "source": [
    "def calc_a_eq22(Theta_ex, q_rtd_C, dualcompressor=False):\n",
    "    \"\"\"係数a0-a4\n",
    "    \n",
    "    :param Theta_ex: 外気気温\n",
    "    :type Theta_ex: ndarray\n",
    "    :param q_rtd_C:  定格冷房能力\n",
    "    :type q_rtd_C: float\n",
    "    :param dualcompressor: 容量可変型コンプレッサー搭載, defaults to False\n",
    "    :type dualcompressor: bool, optional\n",
    "    :return: 係数a0-a4\n",
    "    :rtype: tuple\n",
    "    \"\"\"\n",
    "    if dualcompressor == False:\n",
    "        # 容量可変型コンプレッサー搭載ルームエアコンディショナーでないルームエアコンディショナー\n",
    "        calc_p_i = calc_p_i_eq23\n",
    "    else:\n",
    "        # 容量可変型コンプレッサー搭載ルームエアコンディショナー\n",
    "        calc_p_i = calc_p_i_eq24\n",
    "\n",
    "    # 係数p_i\n",
    "    p42 = calc_p_i(42, q_rtd_C)\n",
    "    p41 = calc_p_i(41, q_rtd_C)\n",
    "    p40 = calc_p_i(40, q_rtd_C)\n",
    "    p32 = calc_p_i(32, q_rtd_C)\n",
    "    p31 = calc_p_i(31, q_rtd_C)\n",
    "    p30 = calc_p_i(30, q_rtd_C)\n",
    "    p22 = calc_p_i(22, q_rtd_C)\n",
    "    p21 = calc_p_i(21, q_rtd_C)\n",
    "    p20 = calc_p_i(20, q_rtd_C)\n",
    "    p12 = calc_p_i(12, q_rtd_C)\n",
    "    p11 = calc_p_i(11, q_rtd_C)\n",
    "    p10 = calc_p_i(10, q_rtd_C)\n",
    "    p02 = calc_p_i(2, q_rtd_C)\n",
    "    p01 = calc_p_i(1, q_rtd_C)\n",
    "    p00 = calc_p_i(0, q_rtd_C)\n",
    "\n",
    "    a4 = p42 * Theta_ex ** 2 + p41 * Theta_ex + p40 * 1\n",
    "    a3 = p32 * Theta_ex ** 2 + p31 * Theta_ex + p30 * 1\n",
    "    a2 = p22 * Theta_ex ** 2 + p21 * Theta_ex + p20 * 1\n",
    "    a1 = p12 * Theta_ex ** 2 + p11 * Theta_ex + p10 * 1\n",
    "    a0 = p02 * Theta_ex ** 2 + p01 * Theta_ex + p00 * 1\n",
    "\n",
    "    return a0, a1, a2, a3, a4"
   ],
   "outputs": [],
   "metadata": {}
  },
  {
   "cell_type": "markdown",
   "source": [
    "小能力時高効率型コンプレッサー搭載ルームエアコンディショナーでないルームエアコンディショナーについては、係数$p_{i}$は式により与えられ、係数$s_{i}$及び$t_{i}$は表より表される。\n",
    "$q_{rtd,C}$が5600(W)を超える場合については、$q_{rtd,C}$は5600(W)に等しいとして計算するものとする。"
   ],
   "metadata": {}
  },
  {
   "cell_type": "markdown",
   "source": [
    "For room air conditioners that are not room air conditioners with variable displacement compressors, the coefficients $ p_ {i} $ are given by the equation, and the coefficients $ s_ {i} $ and $ t_ {i} $ are represented from the table.  \n",
    "When $ q_ {rtd, C} $ exceeds 5600 (W), it is assumed that $ q_ {rtd, C} $ is calculated to be equal to 5600 (W)."
   ],
   "metadata": {}
  },
  {
   "cell_type": "markdown",
   "source": [
    "$$\n",
    "\\begin{equation*}\n",
    "\\large\n",
    "p_{i} = s_{i} \\times q_{rtd,C} \\times 10^{-3} + t_{i}\n",
    "\\end{equation*}\n",
    "$$"
   ],
   "metadata": {}
  },
  {
   "cell_type": "markdown",
   "source": [
    "$q_{rtd,C}$：定格冷房能力(W) / Rated cooling capacity    "
   ],
   "metadata": {}
  },
  {
   "cell_type": "code",
   "execution_count": 105,
   "source": [
    "def calc_p_i_eq23(i, q_rtd_C):\n",
    "    \"\"\"係数p_i (23)\n",
    "    \n",
    "    :param i: [description]\n",
    "    :type i: int\n",
    "    :param q_rtd_C:  定格冷房能力\n",
    "    :type q_rtd_C: float\n",
    "    :return: 係数p_i\n",
    "    :rtype: float\n",
    "    \"\"\"\n",
    "    q_rtd_C = min(5600, q_rtd_C)\n",
    "    s_i = calc_s_i_eq23(i)\n",
    "    t_i = calc_t_i_eq23(i)\n",
    "    return s_i * q_rtd_C * 10 ** (-3) + t_i\n",
    "\n",
    "\n",
    "# 係数s_i (i=0,1,2,10..42)\n",
    "def calc_s_i_eq23(i):\n",
    "    \"\"\"係数s_i (i=0,1,2,10..42)\n",
    "    \n",
    "    :param i: [description]\n",
    "    :type i: int\n",
    "    :return: 係数s_i \n",
    "    :rtype: float\n",
    "    \"\"\"\n",
    "    table_5 = get_table_5()\n",
    "    return table_5[4 - floor(i / 10)][(2 - (i % 10)) * 2]\n",
    "\n",
    "\n",
    "# 係数t_i (i=0,1,2,10..42)\n",
    "def calc_t_i_eq23(i):\n",
    "    table_5 = get_table_5()\n",
    "    return table_5[4 - floor(i / 10)][(2 - (i % 10)) * 2 + 1]"
   ],
   "outputs": [],
   "metadata": {}
  },
  {
   "cell_type": "markdown",
   "source": [
    "<div style=\"text-align: center;font-weight: bold;\">表　係数$s_{i}$及び$t_{i}$<br>Table: Coefficients $ s_{i} $ and $ t_{i} $</div>\n",
    "\n",
    "|係数<br>coefficient|値<br>value|係数<br>coefficient|値<br>value|係数<br>coefficient|値<br>value|係数<br>coefficient|値<br>value|係数<br>coefficient|値<br>value|係数<br>coefficient|値<br>value|\n",
    "|-|-|-|-|-|-|-|-|-|-|-|-|\n",
    "|$s_{42}$|0.00000|$t_{42}$|0.00000|$s_{41}$|0.00000|$t_{41}$|0.00000|$s_{40}$|0.00000|$t_{40}$|0.00000|\n",
    "|$s_{32}$|0.00000|$t_{32}$|0.00000|$s_{31}$|-0.00036|$t_{31}$|0.05080|$s_{30}$|-0.20346|$t_{30}$|0.47765|\n",
    "|$s_{22}$|0.00000|$t_{22}$|0.00000|$s_{21}$|0.00227|$t_{21}$|-0.03952|$s_{20}$|0.04115|$t_{20}$|0.23099|\n",
    "|$s_{12}$|0.00000|$t_{12}$|0.00000|$s_{11}$|-0.00911|$t_{11}$|0.07102|$s_{10}$|0.14950|$t_{10}$|-1.07335|\n",
    "|$s_{02}$|0.00000|$t_{02}$|0.00000|$s_{01}$|0.00044|$t_{01}$|-0.00214|$s_{00}$|-0.06250|$t_{00}$|0.35150|\n"
   ],
   "metadata": {}
  },
  {
   "cell_type": "code",
   "execution_count": 106,
   "source": [
    "def get_table_5():\n",
    "    \"\"\"表5 係数s_i及びt_i\n",
    "    \n",
    "    :return: 表5 係数s_i及びt_i\n",
    "    :rtype: float\n",
    "    \"\"\"\n",
    "    # 表5 係数s_i及びt_i\n",
    "    table_5 = [\n",
    "        (0.00000, 0.00000, 0.00000, 0.00000, 0.00000, 0.00000),\n",
    "        (0.00000, 0.00000, -0.00036, 0.05080, -0.20346, 0.47765),\n",
    "        (0.00000, 0.00000, 0.00227, -0.03952, 0.04115, 0.23099),\n",
    "        (0.00000, 0.00000, -0.00911, 0.07102, 0.14950, -1.07335),\n",
    "        (0.00000, 0.00000, 0.00044, -0.00214, -0.06250, 0.35150)\n",
    "    ]\n",
    "    return table_5\n"
   ],
   "outputs": [],
   "metadata": {}
  },
  {
   "cell_type": "markdown",
   "source": [
    "小能力時高効率型コンプレッサー搭載ルームエアコンディショナーについては下式により表される。"
   ],
   "metadata": {}
  },
  {
   "cell_type": "markdown",
   "source": [
    "The variable displacement compressor equipped room air conditioner is represented by the following formula."
   ],
   "metadata": {}
  },
  {
   "cell_type": "markdown",
   "source": [
    "$q_{rtd,C} \\leq 2200$ の場合"
   ],
   "metadata": {}
  },
  {
   "cell_type": "markdown",
   "source": [
    "If $ q_ {rtd, C} \\leq 2200 $"
   ],
   "metadata": {}
  },
  {
   "cell_type": "markdown",
   "source": [
    "$$\\large\n",
    "p_{i} = p_{i,A}\n",
    "$$"
   ],
   "metadata": {}
  },
  {
   "cell_type": "markdown",
   "source": [
    "$2200 < q_{rtd,C} \\leq 4000$ の場合"
   ],
   "metadata": {}
  },
  {
   "cell_type": "markdown",
   "source": [
    "If $2200 < q_{rtd,C} \\leq 4000$"
   ],
   "metadata": {}
  },
  {
   "cell_type": "markdown",
   "source": [
    "$$\\large\n",
    "p_{i} = p_{i,A} \\times \\frac{4000-q_{rtd,C}}{4000-2200} + p_{i,B} \\times \\frac{q_{rtd,C}-2200}{4000-2200}\n",
    "$$"
   ],
   "metadata": {}
  },
  {
   "cell_type": "markdown",
   "source": [
    "$4000 < q_{rtd,C} < 7100$ の場合"
   ],
   "metadata": {}
  },
  {
   "cell_type": "markdown",
   "source": [
    "If $4000 < q_{rtd,C} < 7100$"
   ],
   "metadata": {}
  },
  {
   "cell_type": "markdown",
   "source": [
    "$$\\large\n",
    "p_{i} = p_{i,B} \\times \\frac{7100-q_{rtd,C}}{7100-4000} + p_{i,C} \\times \\frac{q_{rtd,C}-4000}{7100-4000}\n",
    "$$"
   ],
   "metadata": {}
  },
  {
   "cell_type": "markdown",
   "source": [
    "$7100 \\leq q_{rtd,C}$ の場合"
   ],
   "metadata": {}
  },
  {
   "cell_type": "markdown",
   "source": [
    "If $7100 \\leq q_{rtd,C}$"
   ],
   "metadata": {}
  },
  {
   "cell_type": "markdown",
   "source": [
    "$$\\large\n",
    "p_{i} = p_{i,C}\n",
    "$$"
   ],
   "metadata": {}
  },
  {
   "cell_type": "markdown",
   "source": [
    "$p_{i,A}$：表により表される係数 / Coefficients represented by a table  \n",
    "$p_{i,B}$：表により表される係数 / Coefficients represented by a table  \n",
    "$p_{i,C}$：表により表される係数 / Coefficients represented by a table  "
   ],
   "metadata": {}
  },
  {
   "cell_type": "code",
   "execution_count": 107,
   "source": [
    "def calc_p_i_eq24(i, q_rtd_C):\n",
    "    \"\"\"係数p_i (21)\n",
    "    \n",
    "    :param i: [description]\n",
    "    :type i: int\n",
    "    :param q_rtd_C:  定格冷房能力\n",
    "    :type q_rtd_C: float\n",
    "    :raises ValueError: q_rtd_Cが数値でない場合発生する\n",
    "    :return: 係数p_i \n",
    "    :rtype: float\n",
    "    \"\"\"\n",
    "    if q_rtd_C <= 2200:\n",
    "        # (9a)\n",
    "        return calc_p_i_A_eq24(i)\n",
    "    elif 2200 < q_rtd_C and q_rtd_C <= 4000:\n",
    "        # (9b)\n",
    "        p_i_A = calc_p_i_A_eq24(i)\n",
    "        p_i_B = calc_p_i_B_eq24(i)\n",
    "        return p_i_A * ((4000 - q_rtd_C) / (4000 - 2200)) \\\n",
    "               + p_i_B * ((q_rtd_C - 2200) / (4000 - 2200))\n",
    "    elif 4000 <= q_rtd_C and q_rtd_C < 7100:\n",
    "        # (9c)\n",
    "        p_i_B = calc_p_i_B_eq24(i)\n",
    "        p_i_C = calc_p_i_C_eq24(i)\n",
    "        return p_i_B * ((7100 - q_rtd_C) / (7100 - 4000)) \\\n",
    "               + p_i_C * ((q_rtd_C - 4000) / (7100 - 4000))\n",
    "    elif 7100 <= q_rtd_C:\n",
    "        return calc_p_i_C_eq24(i)\n",
    "    else:\n",
    "        raise ValueError(q_rtd_C)\n"
   ],
   "outputs": [],
   "metadata": {}
  },
  {
   "cell_type": "code",
   "execution_count": 108,
   "source": [
    "def calc_p_i_A_eq24(i):\n",
    "    \"\"\" 係数P_i_A (i=0,1,2,10..42)\n",
    "    \n",
    "    :param i: [description]\n",
    "    :type i: int\n",
    "    :return: 係数P_i_A \n",
    "    :rtype: float\n",
    "    \"\"\"\n",
    "    table_6_A = get_table_6_A()\n",
    "    return table_6_A[4 - floor(i / 10)][(2 - (i % 10))]\n",
    "\n",
    "\n",
    "def calc_p_i_B_eq24(i):\n",
    "    \"\"\" 係数P_i_B\n",
    "    \n",
    "    :param i: [description]\n",
    "    :type i: int\n",
    "    :return: 係数P_i_B\n",
    "    :rtype: float\n",
    "    \"\"\"\n",
    "    table_6_B = get_table_6_B()\n",
    "    return table_6_B[4 - floor(i / 10)][(2 - (i % 10))]\n",
    "\n",
    "\n",
    "def calc_p_i_C_eq24(i):\n",
    "    \"\"\" 係数P_i_C\n",
    "    \n",
    "    :param i: [description]\n",
    "    :type i: int\n",
    "    :return: 係数P_i_C\n",
    "    :rtype: float\n",
    "    \"\"\"\n",
    "    table_6_C = get_table_6_C()\n",
    "    return table_6_C[4 - floor(i / 10)][(2 - (i % 10))]"
   ],
   "outputs": [],
   "metadata": {}
  },
  {
   "cell_type": "markdown",
   "source": [
    "<div style=\"text-align: center;font-weight: bold;\">表　係数$p_{i,A}$<br>Table: Coefficients $ p_{i,A} $</div>\n",
    "\n",
    "|係数<br>coefficient|値<br>value|係数<br>coefficient|値<br>value|係数<br>coefficient|値<br>value|\n",
    "|-|-|-|-|-|-|\n",
    "|$p_{42}$|-0.0004078|$p_{41}$|0.01035|$p_{40}$|-0.03248|\n",
    "|$p_{32}$|0.0|$p_{31}$|0.04099|$p_{30}$|-0.81889|\n",
    "|$p_{22}$|0.0|$p_{21}$|-0.04615|$p_{20}$|2.10666|\n",
    "|$p_{12}$|0.0013382|$p_{11}$|-0.01179|$p_{10}$|-0.41778|\n",
    "|$p_{02}$|0.0000000|$p_{01}$|-0.00102|$p_{00}$|0.09270|\n"
   ],
   "metadata": {}
  },
  {
   "cell_type": "code",
   "execution_count": 109,
   "source": [
    "def get_table_6_A():\n",
    "    \"\"\"表6(A) 係数 p_i_a\n",
    "    \n",
    "    :return: 表6(A) 係数 p_i_a\n",
    "    :rtype: list\n",
    "    \"\"\"   \n",
    "    # 表6(A) 係数 p_i_A\n",
    "    table_6_A = [\n",
    "        (-0.0004078, 0.01035, -0.03248),\n",
    "        (0.0, 0.04099, -0.818809),\n",
    "        (0.0, -0.04615, 2.10666),\n",
    "        (0.0013382, -0.01179, -0.41778),\n",
    "        (0.0000000, -0.00102, 0.09270)\n",
    "    ]\n",
    "    return table_6_A"
   ],
   "outputs": [],
   "metadata": {}
  },
  {
   "cell_type": "markdown",
   "source": [
    "<div style=\"text-align: center;font-weight: bold;\">表　係数$p_{i,B}$<br>Table: Coefficients $ p_{i,B} $</div>\n",
    "\n",
    "|係数<br>coefficient|値<br>value|係数<br>coefficient|値<br>value|係数<br>coefficient|値<br>value|\n",
    "|-|-|-|-|-|-|\n",
    "|$p_{42}$|-0.000056|$p_{41}$|-0.003539|$p_{40}$|-0.430566|\n",
    "|$p_{32}$|0.0|$p_{31}$|0.015237|$p_{30}$|1.188850|\n",
    "|$p_{22}$|0.0|$p_{21}$|0.000527|$p_{20}$|-0.304645|\n",
    "|$p_{12}$|-0.000179|$p_{11}$|0.020543|$p_{10}$|0.130373|\n",
    "|$p_{02}$|0.0|$p_{01}$|0.000240|$p_{00}$|0.013500|\n"
   ],
   "metadata": {}
  },
  {
   "cell_type": "code",
   "execution_count": 110,
   "source": [
    "def get_table_6_B():\r\n",
    "    \"\"\"表6(B) 係数 p_i_b\r\n",
    "    \r\n",
    "    :return: 表6(B) 係数 p_i_b\r\n",
    "    :rtype: list\r\n",
    "    \"\"\"\r\n",
    "    # 表6(B) 係数 p_i_B\r\n",
    "    table_6_B = [\r\n",
    "        (-0.000056, -0.003539, -0.430566),\r\n",
    "        (0.0, 0.015237, 1.188850),\r\n",
    "        (0.0, 0.000527, -0.304645),\r\n",
    "        (-0.000179, 0.020543, 0.130373),\r\n",
    "        (0.0, 0.000240, 0.013500)\r\n",
    "    ]\r\n",
    "    return table_6_B\r\n"
   ],
   "outputs": [],
   "metadata": {}
  },
  {
   "cell_type": "markdown",
   "source": [
    "<div style=\"text-align: center;font-weight: bold;\">表　係数$p_{i,C}$<br>Table: Coefficients $ p_{i,C} $</div>\n",
    "\n",
    "|係数<br>coefficient|値<br>value|係数<br>coefficient|値<br>value|係数<br>coefficient|値<br>value|\n",
    "|-|-|-|-|-|-|\n",
    "|$p_{42}$|-0.0001598|$p_{41}$|0.004848|$p_{40}$|0.047097|\n",
    "|$p_{32}$|0.0|$p_{31}$|0.016675|$p_{30}$|0.362141|\n",
    "|$p_{22}$|0.0|$p_{21}$|-0.008134|$p_{20}$|-0.023535|\n",
    "|$p_{12}$|-0.0000772|$p_{11}$|0.012558|$p_{10}$|0.056185|\n",
    "|$p_{02}$|0.0|$p_{01}$|-0.000110|$p_{00}$|0.010300|\n"
   ],
   "metadata": {}
  },
  {
   "cell_type": "code",
   "execution_count": 111,
   "source": [
    "def get_table_6_C():\r\n",
    "    \"\"\"表6(C) 係数 p_i_C\r\n",
    "    \r\n",
    "    :return: 表6(C) 係数 p_i_C\r\n",
    "    :rtype: list\r\n",
    "    \"\"\"\r\n",
    "    # 表6(C) 係数 p_i_C\r\n",
    "    table_6_C = [\r\n",
    "        (-0.0001598, 0.004848, 0.047097),\r\n",
    "        (0.0, 0.016675, 0.362141),\r\n",
    "        (0.0, -0.008134, -0.023535),\r\n",
    "        (-0.0000772, 0.012558, 0.056185),\r\n",
    "        (0.0, -0.000110, 0.010300)\r\n",
    "    ]\r\n",
    "    return table_6_C\r\n"
   ],
   "outputs": [],
   "metadata": {}
  },
  {
   "cell_type": "markdown",
   "source": [
    "$$\\large\n",
    "Q'_{T,C,d,t} = (Q_{T,CS,d,t} + Q_{T,CL,d,t}) \\times \\frac{1}{C_{hm,C} \\times C_{af,C}}\n",
    "$$"
   ],
   "metadata": {}
  },
  {
   "cell_type": "markdown",
   "source": [
    "$Q_{T,CS,d,t}$：日付$d$の時刻$t$における1時間当たりの冷房設備機器の処理冷房顕熱負荷(MJ/h) / Processing cooling sensible heat load of cooling equipment per hour at time $ t $ of date $ d $  \n",
    "$Q_{T,CL,d,t}$：日付$d$の時刻$t$における1時間当たりの冷房設備機器の処理冷房潜熱負荷(MJ/h) / Processing cooling latent heat load of cooling equipment per hour at time $ t $ of date $ d $  \n",
    "$C_{hm,C}$：室内機吸い込み湿度に関する冷房出力補正係数 / Cooling output correction factor for indoor unit suction humidity  \n",
    "$C_{af,C}$：室内機吹き出し風量に関する冷房出力補正係数 / Cooling output correction factor related to indoor unit blowing air volume  "
   ],
   "metadata": {}
  },
  {
   "cell_type": "code",
   "execution_count": 112,
   "source": [
    "def calc_Q_dash_T_C_d_t(Q_T_CS_d_t, Q_T_CL_d_t):\r\n",
    "    \"\"\"補正処理冷房負荷 (25)\r\n",
    "    \r\n",
    "    :param Q_T_CS_d_t: 冷房区画の処理冷房顕熱負荷\r\n",
    "    :type Q_T_CS_d_t: ndarray\r\n",
    "    :param Q_T_CL_d_t: 冷房区画の処理冷房潜熱負荷\r\n",
    "    :type Q_T_CL_d_t: ndarray\r\n",
    "    :return: 補正処理冷房負荷\r\n",
    "    :rtype: ndarray\r\n",
    "    \"\"\"\r\n",
    "    # 室内機吸い込み湿度に関する冷房出力補正係数\r\n",
    "    C_hm_C = get_C_hm_C()\r\n",
    "\r\n",
    "    # 室内機吹き出し風量に関する冷房出力係数\r\n",
    "    C_af_C = get_C_af_C()\r\n",
    "\r\n",
    "    return (Q_T_CS_d_t + Q_T_CL_d_t) * (1.0 / (C_hm_C * C_af_C))\r\n"
   ],
   "outputs": [],
   "metadata": {}
  },
  {
   "cell_type": "markdown",
   "source": [
    "#### 8.2 ガス消費量 / Gas consumption"
   ],
   "metadata": {}
  },
  {
   "cell_type": "markdown",
   "source": [
    "日付$d$の時刻$t$における１時間当たりのガス消費量$E_{G,C,d,t}$は0とする。"
   ],
   "metadata": {}
  },
  {
   "cell_type": "markdown",
   "source": [
    "It is assumed that gas consumption $ E_{G, C, d, t} $ per hour at time $ t $ of date $ d $ is 0."
   ],
   "metadata": {}
  },
  {
   "cell_type": "code",
   "execution_count": 113,
   "source": [
    "def get_E_G_C_d_t():\r\n",
    "    \"\"\"ガス消費量\r\n",
    "    \r\n",
    "    :return: ガス消費量\r\n",
    "    :rtype: ndarray\r\n",
    "    \"\"\"\r\n",
    "    return np.zeros(24 * 365)\r\n"
   ],
   "outputs": [],
   "metadata": {}
  },
  {
   "cell_type": "markdown",
   "source": [
    "#### 8.3 灯油消費量 / Kerosene consumption"
   ],
   "metadata": {}
  },
  {
   "cell_type": "markdown",
   "source": [
    "日付$d$の時刻$t$における１時間当たりの灯油消費量$E_{K,C,d,t}$は0とする。"
   ],
   "metadata": {}
  },
  {
   "cell_type": "markdown",
   "source": [
    "The kerosene consumption $ E_{K, C, d, t} $ per hour at the time $ t $ of the date $ d $ is 0."
   ],
   "metadata": {}
  },
  {
   "cell_type": "code",
   "execution_count": 114,
   "source": [
    "def get_E_K_C_d_t():\r\n",
    "    \"\"\"灯油消費量\r\n",
    "    \r\n",
    "    :return: 灯油消費量\r\n",
    "    :rtype: ndarray\r\n",
    "    \"\"\"\r\n",
    "    return np.zeros(24 * 365)\r\n"
   ],
   "outputs": [],
   "metadata": {}
  },
  {
   "cell_type": "markdown",
   "source": [
    "#### 8.4 その他の燃料による一次エネルギー消費量 / Primary energy consumption by other fuels"
   ],
   "metadata": {}
  },
  {
   "cell_type": "markdown",
   "source": [
    "日付$d$の時刻$t$における１時間当たりのその他の燃料による一次エネルギー消費量$E_{M,C,d,t}$は0とする。"
   ],
   "metadata": {}
  },
  {
   "cell_type": "markdown",
   "source": [
    "Primary energy consumption $ E_{M, C, d, t} $ by other fuel per hour at time $ t $ of date $ d $ is 0."
   ],
   "metadata": {}
  },
  {
   "cell_type": "code",
   "execution_count": 115,
   "source": [
    "def get_E_M_C_d_t():\r\n",
    "    \"\"\"その他の燃料による一次エネルギー消費量\r\n",
    "    \r\n",
    "    :return: その他の燃料による一次エネルギー消費量\r\n",
    "    :rtype: ndarray\r\n",
    "    \"\"\"\r\n",
    "    return np.zeros(24 * 365)\r\n"
   ],
   "outputs": [],
   "metadata": {}
  },
  {
   "cell_type": "markdown",
   "source": [
    "## 付録 A 機器の性能を表す仕様の決定方法 / Appendix A How to determine the specification that represents the performance of the device"
   ],
   "metadata": {}
  },
  {
   "cell_type": "markdown",
   "source": [
    "### A.1 記号と単位 / Symbol and unit"
   ],
   "metadata": {}
  },
  {
   "cell_type": "markdown",
   "source": [
    "省略"
   ],
   "metadata": {}
  },
  {
   "cell_type": "markdown",
   "source": [
    "ommision"
   ],
   "metadata": {}
  },
  {
   "cell_type": "markdown",
   "source": [
    "### A.2 定格能力 / Rated capacity"
   ],
   "metadata": {}
  },
  {
   "cell_type": "markdown",
   "source": [
    "$$\n",
    "\\begin{equation*}\n",
    "\\large\n",
    "q_{rtd,H} = 1.2090 \\times q_{rtd,C} - 85.1\n",
    "\\end{equation*}\n",
    "$$"
   ],
   "metadata": {}
  },
  {
   "cell_type": "markdown",
   "source": [
    "$q_{rtd,H}$：定格暖房能力(W) / Rated heating capacity    \n",
    "$q_{rtd,C}$：定格冷房能力(W) / Rated cooling capacity    "
   ],
   "metadata": {}
  },
  {
   "cell_type": "code",
   "execution_count": 116,
   "source": [
    "def get_q_rtd_H(q_rtd_C):\r\n",
    "    \"\"\"定格暖房能力 (1)\r\n",
    "    \r\n",
    "    :param q_rtd_C: 定格冷房能力(W)\r\n",
    "    :type q_rtd_C: float\r\n",
    "    :return: 定格暖房能力 (1)\r\n",
    "    :rtype: float\r\n",
    "    \"\"\"\r\n",
    "    return 1.2090 * q_rtd_C - 85.1\r\n"
   ],
   "outputs": [],
   "metadata": {}
  },
  {
   "cell_type": "markdown",
   "source": [
    "定格冷房能力$q_{rtd,C}$が5600(W)を超える場合については、定格冷房能力$q_{rtd,C}$は5600(W)に等しいとして計算するものとする。"
   ],
   "metadata": {}
  },
  {
   "cell_type": "markdown",
   "source": [
    "In the case where the rated cooling capacity $ q_{rtd, C} $ exceeds 5600 (W), the rated cooling capacity $ q_{rtd, C} $ is calculated as being equal to 5600 (W)."
   ],
   "metadata": {}
  },
  {
   "cell_type": "markdown",
   "source": [
    "$$\n",
    "\\begin{equation*}\n",
    "\\large\n",
    "q_{rtd,C} = 190.5 \\times A_{HCZ} + 45.6\n",
    "\\end{equation*}\n",
    "$$"
   ],
   "metadata": {}
  },
  {
   "cell_type": "markdown",
   "source": [
    "$A_{HCZ}$：ルームエアコンディショナーにより暖冷房される暖冷房区画の床面積(m<sup>2</sup>) / Floor area of heating and cooling compartments that are heated and cooled by room air conditioner"
   ],
   "metadata": {}
  },
  {
   "cell_type": "code",
   "execution_count": 117,
   "source": [
    "def get_q_rtd_C(A_HCZ):\r\n",
    "    \"\"\"定格冷房能力 (2)\r\n",
    "    \r\n",
    "    :param A_HCZ: 暖冷房区画の床面積 (m2)\r\n",
    "    :type A_HCZ: float\r\n",
    "    :return: 定格冷房能力\r\n",
    "    :rtype: float\r\n",
    "    \"\"\"\r\n",
    "    q_rtd_C = 190.5 * A_HCZ + 45.6\r\n",
    "    return min(5600, q_rtd_C)\r\n"
   ],
   "outputs": [],
   "metadata": {}
  },
  {
   "cell_type": "markdown",
   "source": [
    "### A.3 最大能力 / Maximum ability"
   ],
   "metadata": {}
  },
  {
   "cell_type": "markdown",
   "source": [
    "$$\n",
    "\\begin{equation*}\n",
    "\\large\n",
    "q_{max,H} = 1.7597 \\times q_{max,C} - 413.7\n",
    "\\end{equation*}\n",
    "$$"
   ],
   "metadata": {}
  },
  {
   "cell_type": "markdown",
   "source": [
    "$q_{max,H}$：最大暖房能力(W) / Maximum heating capacity    \n",
    "$q_{max,C}$：最大冷房能力(W) / Maximum cooling capacity    "
   ],
   "metadata": {}
  },
  {
   "cell_type": "code",
   "execution_count": 118,
   "source": [
    "def get_q_max_H(q_rtd_H, q_max_C):\r\n",
    "    \"\"\"最大暖房能力 (3)\r\n",
    "    \r\n",
    "    :param q_rtd_H: 定格暖房能力\r\n",
    "    :type q_rtd_H: float\r\n",
    "    :param q_max_C: 最大冷房能力\r\n",
    "    :type q_max_C: float\r\n",
    "    :return: 最大暖房能力\r\n",
    "    :rtype: float\r\n",
    "    \"\"\"\r\n",
    "    q_max_H = 1.7597 * q_max_C - 413.7\r\n",
    "    return max(q_rtd_H, q_max_H)\r\n"
   ],
   "outputs": [],
   "metadata": {}
  },
  {
   "cell_type": "markdown",
   "source": [
    "定格暖房能力$q_{rtd,H}$が最大暖房能力$q_{max,H}$を超える場合については、最大暖房能力$q_{max,H}$は定格暖房能力$q_{rtd,H}$に等しいとする。"
   ],
   "metadata": {}
  },
  {
   "cell_type": "markdown",
   "source": [
    "If the rated heating capacity $q_{rtd,H}$ exceeds the maximum heating capacity $q_{max,H}$, the maximum heating capacity $q_{max,H}$ shall be equal to the rated heating capacity $q_{rtd,H}$."
   ],
   "metadata": {}
  },
  {
   "cell_type": "markdown",
   "source": [
    "$$\n",
    "\\begin{equation*}\n",
    "\\large\n",
    "q_{max,C} = 0.8462 \\times q_{rtd,C} + 1205.9\n",
    "\\end{equation*}\n",
    "$$"
   ],
   "metadata": {}
  },
  {
   "cell_type": "markdown",
   "source": [
    "$q_{rtd,C}$：定格冷房能力(W) / Rated cooling capacity    "
   ],
   "metadata": {}
  },
  {
   "cell_type": "markdown",
   "source": [
    "定格冷房能力$q_{rtd,C}$が最大冷房能力$q_{max,C}$を超える場合については、最大冷房能力$q_{max,C}$は定格冷房能力$q_{rtd,C}$に等しいとする。"
   ],
   "metadata": {}
  },
  {
   "cell_type": "markdown",
   "source": [
    "When the rated cooling capacity $q_{rtd,C}$ exceeds the maximum cooling capacity $q_{max,C}$, the maximum cooling capacity $q_{max,C}$ is equal to the rated cooling capacity $q_{rtd,C}$."
   ],
   "metadata": {}
  },
  {
   "cell_type": "code",
   "execution_count": 119,
   "source": [
    "def get_q_max_C(q_rtd_C):\r\n",
    "    \"\"\"最大冷房能力 (4)\r\n",
    "\r\n",
    "    :param q_rtd_C:  定格冷房能力\r\n",
    "    :type q_rtd_C: float\r\n",
    "    :return: 最大冷房能力\r\n",
    "    :rtype: float\r\n",
    "    \"\"\"\r\n",
    "    q_max_C = 0.8462 * q_rtd_C + 1205.9\r\n",
    "    return max(q_rtd_C, q_max_C)\r\n"
   ],
   "outputs": [],
   "metadata": {}
  },
  {
   "cell_type": "markdown",
   "source": [
    "### A.4 定格エネルギー消費効率 / Rated energy consumption efficiency"
   ],
   "metadata": {}
  },
  {
   "cell_type": "markdown",
   "source": [
    "$$\n",
    "\\begin{equation*}\n",
    "\\large\n",
    "e_{rtd,H} = 0.77 \\times e_{rtd,C} + 1.66\n",
    "\\end{equation*}\n",
    "$$"
   ],
   "metadata": {}
  },
  {
   "cell_type": "markdown",
   "source": [
    "$e_{rtd,H}$：定格暖房エネルギー消費効率 / Rated heating energy consumption efficiency    \n",
    "$e_{rtd,C}$：定格冷房エネルギー消費効率 / Rated cooling energy consumption efficiency    "
   ],
   "metadata": {}
  },
  {
   "cell_type": "code",
   "execution_count": 120,
   "source": [
    "def get_e_rtd_H(e_rtd_C):\r\n",
    "    \"\"\"定格暖房エネルギー効率 (5)\r\n",
    "    \r\n",
    "    :param e_rtd_C: 定格冷房エネルギー消費効率\r\n",
    "    :type e_rtd_C: float\r\n",
    "    :return: 定格暖房エネルギー効率\r\n",
    "    :rtype: float\r\n",
    "    \"\"\"\r\n",
    "    return 0.77 * e_rtd_C + 1.66\r\n"
   ],
   "outputs": [],
   "metadata": {}
  },
  {
   "cell_type": "markdown",
   "source": [
    "区分（い）"
   ],
   "metadata": {}
  },
  {
   "cell_type": "markdown",
   "source": [
    "Division (I)"
   ],
   "metadata": {}
  },
  {
   "cell_type": "markdown",
   "source": [
    "$$\n",
    "\\begin{equation*}\n",
    "\\large\n",
    "e_{rtd,C} = −0.553 \\times 10^{−3} \\times q_{rtd,C} + 6.34\n",
    "\\end{equation*}\n",
    "$$"
   ],
   "metadata": {}
  },
  {
   "cell_type": "markdown",
   "source": [
    "区分（ろ）"
   ],
   "metadata": {}
  },
  {
   "cell_type": "markdown",
   "source": [
    "Division (RO)"
   ],
   "metadata": {}
  },
  {
   "cell_type": "markdown",
   "source": [
    "$$\n",
    "\\begin{equation*}\n",
    "\\large\n",
    "e_{rtd,C} = −0.504 \\times 10^{−3} \\times q_{rtd,C} + 5.88\n",
    "\\end{equation*}\n",
    "$$"
   ],
   "metadata": {}
  },
  {
   "cell_type": "markdown",
   "source": [
    "区分（は）"
   ],
   "metadata": {}
  },
  {
   "cell_type": "markdown",
   "source": [
    "Division (HA)"
   ],
   "metadata": {}
  },
  {
   "cell_type": "markdown",
   "source": [
    "$$\n",
    "\\begin{equation*}\n",
    "\\large\n",
    "e_{rtd,C} = −0.473 \\times 10^{−3} \\times q_{rtd,C} + 5.50\n",
    "\\end{equation*}\n",
    "$$"
   ],
   "metadata": {}
  },
  {
   "cell_type": "markdown",
   "source": [
    "$q_{rtd,C}$：定格冷房能力(W) / Rated cooling capacity    "
   ],
   "metadata": {}
  },
  {
   "cell_type": "code",
   "execution_count": 121,
   "source": [
    "def get_e_rtd_C(e_class, q_rtd_C):\r\n",
    "    \"\"\"定格冷房エネルギー効率 (6)\r\n",
    "    \r\n",
    "    :param e_class: [description]\r\n",
    "    :type e_class: str\r\n",
    "    :param q_rtd_C: 定格冷房能力\r\n",
    "    :type q_rtd_C: float\r\n",
    "    :raises ValueError: e_classが「い」または「ろ」または「は」でない場合に発生する\r\n",
    "    :return: 定格冷房エネルギー効率\r\n",
    "    :rtype: float\r\n",
    "    \"\"\"\r\n",
    "    if e_class == 'い':\r\n",
    "        # (6a)\r\n",
    "        return -0.553 * 10 ** (-3) * q_rtd_C + 6.34\r\n",
    "    elif e_class == 'ろ':\r\n",
    "        # (6b)\r\n",
    "        return -0.504 * 10 ** (-3) * q_rtd_C + 5.88\r\n",
    "    elif e_class == 'は' or e_class == '不明' or e_class == None:\r\n",
    "        # (6c)\r\n",
    "        return -0.473 * 10 ** (-3) * q_rtd_C + 5.50\r\n",
    "    else:\r\n",
    "        raise ValueError(e_class)\r\n"
   ],
   "outputs": [],
   "metadata": {}
  },
  {
   "cell_type": "markdown",
   "source": [
    "### A.5 小能力時高効率型コンプレッサー搭載の有無 / Equipped with high efficiency compressor for small capacity"
   ],
   "metadata": {}
  },
  {
   "cell_type": "markdown",
   "source": [
    "省略"
   ],
   "metadata": {}
  },
  {
   "cell_type": "markdown",
   "source": [
    "ommision"
   ],
   "metadata": {}
  },
  {
   "cell_type": "markdown",
   "source": [
    "### A.6 複数のルームエアコンディショナーが設置される場合の仕様の決定方法 / How to determine the specifications when multiple room air conditioners are installed"
   ],
   "metadata": {}
  },
  {
   "cell_type": "markdown",
   "source": [
    "省略"
   ],
   "metadata": {}
  },
  {
   "cell_type": "markdown",
   "source": [
    "ommision"
   ],
   "metadata": {}
  },
  {
   "cell_type": "markdown",
   "source": [
    "## 付録 B 小能力時高効率型コンプレッサー搭載ルームエアコンディショナーの定義と判別方法 / Appendix B Definition and determination method of room air conditioner with high efficiency compressor at small capacity"
   ],
   "metadata": {}
  },
  {
   "cell_type": "markdown",
   "source": [
    "省略"
   ],
   "metadata": {}
  },
  {
   "cell_type": "markdown",
   "source": [
    "ommision"
   ],
   "metadata": {}
  },
  {
   "cell_type": "markdown",
   "source": [
    "## 付録 C （参考）可変気筒方式コンプレッサー搭載ルームエアコンディショナーの判別方法 / Appendix C (Reference) Determination method of room air conditioner with variable cylinder type compressor"
   ],
   "metadata": {}
  },
  {
   "cell_type": "markdown",
   "source": [
    "省略"
   ],
   "metadata": {}
  },
  {
   "cell_type": "markdown",
   "source": [
    "ommision"
   ],
   "metadata": {}
  },
  {
   "cell_type": "markdown",
   "source": [
    "## 試算例"
   ],
   "metadata": {}
  },
  {
   "cell_type": "code",
   "execution_count": 122,
   "source": [
    "def calc_Q_UT_H_d_t(region, q_rtd_C, q_rtd_H, e_rtd_H, L_H_d_t):\r\n",
    "    \"\"\"未処理負荷\r\n",
    "    \r\n",
    "    :param region: 省エネルギー地域区分\r\n",
    "    :type region: int\r\n",
    "    :param q_rtd_C: 定格冷房能力\r\n",
    "    :type q_rtd_C: float\r\n",
    "    :param q_rtd_H: 定格暖房能力\r\n",
    "    :type q_rtd_H: float\r\n",
    "    :param e_rtd_H: 定格暖房エネルギー消費効率\r\n",
    "    :type e_rtd_H: float\r\n",
    "    :param L_H_d_t: 暖冷房区画݅の１時間当たりの暖房負荷 \r\n",
    "    :type L_H_d_t: ndarray\r\n",
    "    :return: 未処理負荷\r\n",
    "    :rtype: ndarray\r\n",
    "    \"\"\"\r\n",
    "    # 外気条件\r\n",
    "    outdoor = load_outdoor()\r\n",
    "    Theta_ex = get_Theta_ex(region, outdoor)\r\n",
    "    X_ex = get_X_ex(region, outdoor)\r\n",
    "    h_ex = calc_h_ex(X_ex, Theta_ex)\r\n",
    "\r\n",
    "    # 最大暖房能力\r\n",
    "    q_max_C = get_q_max_C(q_rtd_C)\r\n",
    "    q_max_H = get_q_max_H(q_rtd_H, q_max_C)\r\n",
    "\r\n",
    "    # 最大暖房能力比\r\n",
    "    q_r_max_H = get_q_r_max_H(q_max_H, q_rtd_H)\r\n",
    "\r\n",
    "    # 最大暖房出力比\r\n",
    "    Q_r_max_H_d_t = calc_Q_r_max_H_d_t(q_rtd_C, q_r_max_H, Theta_ex)\r\n",
    "\r\n",
    "    # 最大暖房出力\r\n",
    "    Q_max_H_d_t = calc_Q_max_H_d_t(Q_r_max_H_d_t, q_rtd_H, Theta_ex, h_ex)\r\n",
    "\r\n",
    "    # 処理暖房負荷\r\n",
    "    Q_T_H_d_t = get_Q_T_H_d_t_i(Q_max_H_d_t_i=Q_max_H_d_t, L_H_d_t_i=L_H_d_t)\r\n",
    "\r\n",
    "    return L_H_d_t - Q_T_H_d_t"
   ],
   "outputs": [],
   "metadata": {}
  },
  {
   "cell_type": "code",
   "execution_count": 123,
   "source": [
    "def get_default_room_air_conditioner():\r\n",
    "    \r\n",
    "    house_base = {\"region\": 6, \"A_A\": 120.08, \"A_MR\": 29.81, \"A_OR\": 51.34, \"A_env\": 307.51, \"U_A\": 0.87,\"eta_A_H\": 4.3, \"eta_A_C\": 2.8}\r\n",
    "\r\n",
    "    H_MR = {'type': 'ルームエアコンディショナー', 'e_class': 'ろ', 'dualcompressor': False}\r\n",
    "    H_OR = None\r\n",
    "    C_MR = {\"type\": \"ルームエアコンディショナー\", 'e_class': 'ろ', 'dualcompressor': False}\r\n",
    "    C_OR = None\r\n",
    "    i = 1\r\n",
    "    \r\n",
    "    return house_base, H_MR, H_OR, C_MR, C_OR, i\r\n",
    "    "
   ],
   "outputs": [],
   "metadata": {}
  },
  {
   "cell_type": "code",
   "execution_count": 124,
   "source": [
    "def calc_results(param, H_MR, H_OR, C_MR, C_OR, i):\r\n",
    "\r\n",
    "    if __name__ == \"__main__\":\r\n",
    "\r\n",
    "        from s02_01_b_heat_conversion_coefficient import get_f_prim\r\n",
    "        from s03_01_hc_load_general import get_Q, get_A_HCZ_i\r\n",
    "        from s03_02_envelope_performance import calc_r_env, get_Q_dash, get_eta_H, get_eta_C\r\n",
    "        from s04_01_general import calc_heating_load, get_alpha_UT_H_MR, get_alpha_UT_H_OR, calc_cooling_load\r\n",
    "        from s04_01_a_heating_method import calc_heating_mode\r\n",
    "\r\n",
    "\r\n",
    "\r\n",
    "        region = param[\"region\"]\r\n",
    "        sol_region = None\r\n",
    "        A_A = param[\"A_A\"]\r\n",
    "        A_MR = param[\"A_MR\"]\r\n",
    "        A_OR = param[\"A_OR\"]\r\n",
    "        A_env = param[\"A_env\"]\r\n",
    "        U_A = param[\"U_A\"]\r\n",
    "        eta_A_H = param[\"eta_A_H\"]\r\n",
    "        eta_A_C = param[\"eta_A_C\"]\r\n",
    "        NV_MR = 0\r\n",
    "        NV_OR = 0\r\n",
    "        r_A_ufvnt = None\r\n",
    "        underfloor_insulation = False\r\n",
    "        TS = None\r\n",
    "        HEX = None\r\n",
    "\r\n",
    "        mode_C = \"居室のみを冷房する方式\"\r\n",
    "        mode_H = '居室のみを暖房する方式でかつ主たる居室とその他の居室ともに温水暖房を設置する場合に該当しない場合'\r\n",
    "\r\n",
    "        # 暖冷房区画の床面積\r\n",
    "        A_HCZ = get_A_HCZ_i(i, A_A, A_MR, A_OR)\r\n",
    "\r\n",
    "        # 床面積の合計に対する外皮の部位の面積の合計の比\r\n",
    "        r_env = calc_r_env(method='当該住戸の外皮の部位の面積等を用いて外皮性能を評価する方法',\r\n",
    "                           A_env=A_env, A_A=A_A)\r\n",
    "\r\n",
    "        # 熱損失係数\r\n",
    "        Q_dash = get_Q_dash(U_A, r_env)\r\n",
    "        Q = get_Q(Q_dash)\r\n",
    "\r\n",
    "        # 日射取得係数\r\n",
    "        mu_H = get_eta_H(eta_A_H, r_env)\r\n",
    "        mu_C = get_eta_C(eta_A_C, r_env)\r\n",
    "\r\n",
    "        # 暖房方式及び運転方法の区分\r\n",
    "        mode_MR, mode_OR = calc_heating_mode(region=region, H_MR=H_MR, H_OR=H_OR)\r\n",
    "\r\n",
    "        \r\n",
    "        \r\n",
    "        # 冷房機器の性能\r\n",
    "        dualcompressor = C_MR[\"dualcompressor\"] if i == 1 else C_OR[\"dualcompressor\"]\r\n",
    "        e_class = C_MR['e_class'] if i == 1 else C_OR[\"e_class\"]\r\n",
    "        q_rtd_C = get_q_rtd_C(A_HCZ)\r\n",
    "        e_rtd_C = get_e_rtd_C(e_class, q_rtd_C)\r\n",
    "\r\n",
    "        # 冷房負荷\r\n",
    "        L_CS_d_t_i, L_CL_d_t_i = calc_cooling_load(region, A_A, A_MR, A_OR, Q, mu_H, mu_C, NV_MR, NV_OR, r_A_ufvnt, underfloor_insulation,\r\n",
    "                          mode_C, mode_H, mode_MR, mode_OR, TS, HEX)\r\n",
    "        L_CS_d_t = L_CS_d_t_i[i - 1]\r\n",
    "        L_CL_d_t = L_CL_d_t_i[i - 1]\r\n",
    "\r\n",
    "        # 冷房用エネルギー消費量\r\n",
    "        E_E_C_d_t =calc_E_E_C_d_t(region, q_rtd_C, e_rtd_C, dualcompressor, L_CS_d_t, L_CL_d_t)\r\n",
    "        E_G_C_d_t = get_E_G_C_d_t()\r\n",
    "        E_K_C_d_t = get_E_K_C_d_t()\r\n",
    "        E_M_C_d_t = get_E_M_C_d_t()\r\n",
    "\r\n",
    "\r\n",
    "\r\n",
    "        # 暖房機器の性能\r\n",
    "        dualcompressor = H_MR[\"dualcompressor\"] if i == 1 else H_OR[\"dualcompressor\"]\r\n",
    "        e_class = H_MR['e_class'] if i == 1 else H_OR[\"e_class\"]\r\n",
    "        e_rtd_C = get_e_rtd_C(e_class, q_rtd_C)\r\n",
    "        q_rtd_H = get_q_rtd_H(q_rtd_C)\r\n",
    "        e_rtd_H = get_e_rtd_H(e_rtd_C)\r\n",
    "\r\n",
    "        # 暖房負荷\r\n",
    "        L_H_d_t = \\\r\n",
    "            calc_heating_load(region, sol_region, A_A, A_MR, A_OR, Q, mu_H, mu_C, NV_MR, NV_OR, TS, r_A_ufvnt, HEX,\r\n",
    "                              underfloor_insulation, mode_H, mode_C, spec_MR=H_MR, spec_OR=H_OR, mode_MR=mode_MR, mode_OR=mode_OR, SHC=None)[0][i-1]\r\n",
    "\r\n",
    "        # 暖房用エネルギー消費量\r\n",
    "        E_E_H_d_t = calc_E_E_H_d_t(region, q_rtd_C, q_rtd_H, e_rtd_H, dualcompressor, L_H_d_t)\r\n",
    "        E_G_H_d_t = get_E_G_H_d_t()\r\n",
    "        E_K_H_d_t = get_E_K_H_d_t()\r\n",
    "        E_M_H_d_t = get_E_M_H_d_t()\r\n",
    "\r\n",
    "        # 未処理暖房負荷の設計一次エネルギー消費量相当値\r\n",
    "        Q_UT_H_d_t = calc_Q_UT_H_d_t(region, q_rtd_C, q_rtd_H, e_rtd_H, L_H_d_t)\r\n",
    "        alpha_UT_H = get_alpha_UT_H_MR(region, mode_MR) if i == 1 else get_alpha_UT_H_OR(region, mode_OR)\r\n",
    "        E_UT_H_d_t = Q_UT_H_d_t * alpha_UT_H\r\n",
    "\r\n",
    "        \r\n",
    "\r\n",
    "        f_prim = get_f_prim()\r\n",
    "        E_H_d_t = E_E_H_d_t * f_prim / 1000 + E_G_H_d_t + E_K_H_d_t + E_M_H_d_t + E_UT_H_d_t\r\n",
    "        E_C_d_t = E_E_C_d_t * f_prim / 1000 + E_G_C_d_t + E_K_C_d_t + E_M_C_d_t\r\n",
    "        print('E_H(i={}):{}MJ/y'.format(i, np.sum(E_H_d_t)))\r\n",
    "        print('E_C(i={}):{}MJ/y'.format(i, np.sum(E_C_d_t)))\r\n",
    "\r\n",
    "\r\n",
    "        return E_H_d_t, E_C_d_t"
   ],
   "outputs": [],
   "metadata": {}
  },
  {
   "cell_type": "code",
   "execution_count": 125,
   "source": [
    "def get_each_graph(_E_H_d_t, _E_C_d_t):\r\n",
    "\r\n",
    "    import matplotlib.pyplot as plt\r\n",
    "\r\n",
    "    _E_H_d = np.sum(_E_H_d_t.reshape(365, 24), axis=1)\r\n",
    "    _E_C_d = np.sum(_E_C_d_t.reshape(365, 24), axis=1)\r\n",
    "\r\n",
    "    fig = plt.figure(figsize = (20,7))\r\n",
    "\r\n",
    "    grh_day = fig.add_subplot(211)\r\n",
    "    grh_day.set_ylabel('MJ/d')\r\n",
    "    grh_day.set_xlabel('day')\r\n",
    "    grh_day.plot(_E_H_d, label=\"E_H\")\r\n",
    "    grh_day.plot(_E_C_d, label=\"E_C\")\r\n",
    "    grh_day.legend()\r\n",
    "\r\n",
    "    grh_date = fig.add_subplot(212)\r\n",
    "    grh_date.set_ylabel('MJ/h')\r\n",
    "    grh_date.set_xlabel('hour')\r\n",
    "    grh_date.plot(_E_C_d_t.reshape(365,24)[151], label = \"E_C:6/1\")\r\n",
    "    grh_date.plot(_E_C_d_t.reshape(365,24)[212], label = \"E_C:8/1\")\r\n",
    "    grh_date.plot(_E_H_d_t.reshape(365,24)[334], label = \"E_H:12/1\")\r\n",
    "    grh_date.plot(_E_H_d_t.reshape(365,24)[59], label = \"E_H:3/1\")\r\n",
    "    grh_date.legend()\r\n",
    "\r\n",
    "    plt.show()\r\n"
   ],
   "outputs": [],
   "metadata": {}
  },
  {
   "cell_type": "markdown",
   "source": [
    "### 計算条件1"
   ],
   "metadata": {}
  },
  {
   "cell_type": "markdown",
   "source": [
    "- 初期条件での計算"
   ],
   "metadata": {}
  },
  {
   "cell_type": "code",
   "execution_count": 126,
   "source": [
    "house_base, H_MR, H_OR, C_MR, C_OR, i = get_default_room_air_conditioner()\r\n",
    "\r\n",
    "E_H_d_t_1, E_C_d_t_1 = calc_results(house_base, H_MR, H_OR, C_MR, C_OR, i)\r\n"
   ],
   "outputs": [
    {
     "output_type": "stream",
     "name": "stdout",
     "text": [
      "E_H(i=1):10478.692099447626MJ/y\n",
      "E_C(i=1):3287.9122989004436MJ/y\n"
     ]
    }
   ],
   "metadata": {
    "scrolled": false
   }
  },
  {
   "cell_type": "code",
   "execution_count": 127,
   "source": [
    "get_each_graph(E_H_d_t_1, E_C_d_t_1)"
   ],
   "outputs": [
    {
     "output_type": "display_data",
     "data": {
      "text/plain": [
       "<Figure size 1440x504 with 2 Axes>"
      ],
      "image/png": "[encoded data removed]"
     },
     "metadata": {
      "needs_background": "light"
     }
    }
   ],
   "metadata": {}
  },
  {
   "cell_type": "markdown",
   "source": [
    "### 計算条件2"
   ],
   "metadata": {}
  },
  {
   "cell_type": "markdown",
   "source": [
    "- 地域区分を7地域に変更"
   ],
   "metadata": {}
  },
  {
   "cell_type": "code",
   "execution_count": 128,
   "source": [
    "house_base, H_MR, H_OR, C_MR, C_OR, i = get_default_room_air_conditioner()\r\n",
    "house_base['region'] = 7\r\n",
    "\r\n",
    "\r\n",
    "E_H_d_t_2, E_C_d_t_2 = calc_results(house_base, H_MR, H_OR, C_MR, C_OR, i)"
   ],
   "outputs": [
    {
     "output_type": "stream",
     "name": "stdout",
     "text": [
      "E_H(i=1):5382.819129465823MJ/y\n",
      "E_C(i=1):4201.703719660854MJ/y\n"
     ]
    }
   ],
   "metadata": {}
  },
  {
   "cell_type": "code",
   "execution_count": 129,
   "source": [
    "get_each_graph(E_H_d_t_2, E_C_d_t_2)"
   ],
   "outputs": [
    {
     "output_type": "display_data",
     "data": {
      "text/plain": [
       "<Figure size 1440x504 with 2 Axes>"
      ],
      "image/png": "[encoded data removed]"
     },
     "metadata": {
      "needs_background": "light"
     }
    }
   ],
   "metadata": {}
  },
  {
   "cell_type": "markdown",
   "source": [
    "### 計算条件3"
   ],
   "metadata": {}
  },
  {
   "cell_type": "markdown",
   "source": [
    "- 住戸、主居室、その他居室の床面積を90m2、25m2、40m2に変更\r\n",
    "- 外皮面積の合計を250m2に変更"
   ],
   "metadata": {}
  },
  {
   "cell_type": "code",
   "execution_count": 130,
   "source": [
    "house_base, H_MR, H_OR, C_MR, C_OR, i = get_default_room_air_conditioner()\r\n",
    "house_base['A_A'] = 90\r\n",
    "house_base['A_MR'] = 25\r\n",
    "house_base['A_OR'] = 40\r\n",
    "house_base['A_env'] = 250\r\n",
    "\r\n",
    "E_H_d_t_3, E_C_d_t_3 = calc_results(house_base, H_MR, H_OR, C_MR, C_OR, i)"
   ],
   "outputs": [
    {
     "output_type": "stream",
     "name": "stdout",
     "text": [
      "E_H(i=1):10445.025743783193MJ/y\n",
      "E_C(i=1):3218.995512434428MJ/y\n"
     ]
    }
   ],
   "metadata": {}
  },
  {
   "cell_type": "code",
   "execution_count": 131,
   "source": [
    "get_each_graph(E_H_d_t_3, E_C_d_t_3)"
   ],
   "outputs": [
    {
     "output_type": "display_data",
     "data": {
      "text/plain": [
       "<Figure size 1440x504 with 2 Axes>"
      ],
      "image/png": "[encoded data removed]"
     },
     "metadata": {
      "needs_background": "light"
     }
    }
   ],
   "metadata": {}
  },
  {
   "cell_type": "markdown",
   "source": [
    "### 計算条件4"
   ],
   "metadata": {}
  },
  {
   "cell_type": "markdown",
   "source": [
    "- 外皮平均熱貫流率を0.6に変更\r\n",
    "- 暖房期平均日射熱取得率を3.0に変更\r\n",
    "- 冷房期平均日射熱取得率を2.0に変更"
   ],
   "metadata": {}
  },
  {
   "cell_type": "code",
   "execution_count": 132,
   "source": [
    "house_base, H_MR, H_OR, C_MR, C_OR, i = get_default_room_air_conditioner()\r\n",
    "house_base['U_A'] = 0.6\r\n",
    "house_base['eta_A_H'] = 3.0\r\n",
    "house_base['eta_A_C'] = 2.0\r\n",
    "\r\n",
    "E_H_d_t_4, E_C_d_t_4 = calc_results(house_base, H_MR, H_OR, C_MR, C_OR, i)"
   ],
   "outputs": [
    {
     "output_type": "stream",
     "name": "stdout",
     "text": [
      "E_H(i=1):8650.787048470258MJ/y\n",
      "E_C(i=1):2766.2117613635437MJ/y\n"
     ]
    }
   ],
   "metadata": {}
  },
  {
   "cell_type": "code",
   "execution_count": 133,
   "source": [
    "get_each_graph(E_H_d_t_4, E_C_d_t_4)"
   ],
   "outputs": [
    {
     "output_type": "display_data",
     "data": {
      "text/plain": [
       "<Figure size 1440x504 with 2 Axes>"
      ],
      "image/png": "[encoded data removed]"
     },
     "metadata": {
      "needs_background": "light"
     }
    }
   ],
   "metadata": {}
  },
  {
   "cell_type": "markdown",
   "source": [
    "### 計算条件5"
   ],
   "metadata": {}
  },
  {
   "cell_type": "markdown",
   "source": [
    "- 暖房：主居室のエネルギー消費効率の区分を「い」に変更\r\n",
    "- 冷房：主居室のエネルギー消費効率の区分を「は」に変更"
   ],
   "metadata": {}
  },
  {
   "cell_type": "code",
   "execution_count": 134,
   "source": [
    "house_base, H_MR, H_OR, C_MR, C_OR, i = get_default_room_air_conditioner()\r\n",
    "H_MR['e_class'] = 'い'\r\n",
    "C_MR['e_class'] = 'は'\r\n",
    "\r\n",
    "E_H_d_t_5, E_C_d_t_5 = calc_results(house_base, H_MR, H_OR, C_MR, C_OR, i)"
   ],
   "outputs": [
    {
     "output_type": "stream",
     "name": "stdout",
     "text": [
      "E_H(i=1):10132.937050655002MJ/y\n",
      "E_C(i=1):3525.9261521878484MJ/y\n"
     ]
    }
   ],
   "metadata": {}
  },
  {
   "cell_type": "code",
   "execution_count": 135,
   "source": [
    "get_each_graph(E_H_d_t_5, E_C_d_t_5)"
   ],
   "outputs": [
    {
     "output_type": "display_data",
     "data": {
      "text/plain": [
       "<Figure size 1440x504 with 2 Axes>"
      ],
      "image/png": "[encoded data removed]"
     },
     "metadata": {
      "needs_background": "light"
     }
    }
   ],
   "metadata": {}
  },
  {
   "cell_type": "markdown",
   "source": [
    "### 計算条件6"
   ],
   "metadata": {}
  },
  {
   "cell_type": "markdown",
   "source": [
    "- 暖房：主居室のエネルギー消費効率の区分を「い」、小能力時高効率型コンプレッサーを搭載するに変更\r\n",
    "- 冷房：主居室のエネルギー消費効率の区分を「は」、小能力時高効率型コンプレッサーを搭載するに変更"
   ],
   "metadata": {}
  },
  {
   "cell_type": "code",
   "execution_count": 136,
   "source": [
    "house_base, H_MR, H_OR, C_MR, C_OR, i = get_default_room_air_conditioner()\r\n",
    "H_MR['e_class'] = 'い'\r\n",
    "H_MR['dualcompressor'] = True\r\n",
    "C_MR['e_class'] = 'は'\r\n",
    "C_MR['dualcompressor'] = True\r\n",
    "\r\n",
    "E_H_d_t_6, E_C_d_t_6 = calc_results(house_base, H_MR, H_OR, C_MR, C_OR, i)"
   ],
   "outputs": [
    {
     "output_type": "stream",
     "name": "stdout",
     "text": [
      "E_H(i=1):9343.146066152913MJ/y\n",
      "E_C(i=1):4333.085946079727MJ/y\n"
     ]
    }
   ],
   "metadata": {}
  },
  {
   "cell_type": "code",
   "execution_count": 137,
   "source": [
    "get_each_graph(E_H_d_t_6, E_C_d_t_6)"
   ],
   "outputs": [
    {
     "output_type": "display_data",
     "data": {
      "text/plain": [
       "<Figure size 1440x504 with 2 Axes>"
      ],
      "image/png": "[encoded data removed]"
     },
     "metadata": {
      "needs_background": "light"
     }
    }
   ],
   "metadata": {}
  },
  {
   "cell_type": "markdown",
   "source": [
    "### 計算条件7"
   ],
   "metadata": {}
  },
  {
   "cell_type": "markdown",
   "source": [
    "- 暖房：その他居室のエネルギー消費効率の区分を「ろ」に変更\r\n",
    "- 冷房：その他居室のエネルギー消費効率の区分を「ろ」に変更\r\n",
    "- 暖冷房区画を5に変更"
   ],
   "metadata": {}
  },
  {
   "cell_type": "code",
   "execution_count": 138,
   "source": [
    "house_base, H_MR, H_OR, C_MR, C_OR, i = get_default_room_air_conditioner()\r\n",
    "H_OR = {'type': 'ルームエアコンディショナー', 'e_class': 'ろ', 'dualcompressor': False}\r\n",
    "C_OR = {'type': 'ルームエアコンディショナー', 'e_class': 'ろ', 'dualcompressor': False}\r\n",
    "i = 5\r\n",
    "\r\n",
    "E_H_d_t_7, E_C_d_t_7 = calc_results(house_base, H_MR, H_OR, C_MR, C_OR, i)"
   ],
   "outputs": [
    {
     "output_type": "stream",
     "name": "stdout",
     "text": [
      "E_H(i=5):1333.6552576682507MJ/y\n",
      "E_C(i=5):906.343546096112MJ/y\n"
     ]
    }
   ],
   "metadata": {}
  },
  {
   "cell_type": "code",
   "execution_count": 139,
   "source": [
    "get_each_graph(E_H_d_t_7, E_C_d_t_7)"
   ],
   "outputs": [
    {
     "output_type": "display_data",
     "data": {
      "text/plain": [
       "<Figure size 1440x504 with 2 Axes>"
      ],
      "image/png": "[encoded data removed]"
     },
     "metadata": {
      "needs_background": "light"
     }
    }
   ],
   "metadata": {}
  },
  {
   "cell_type": "markdown",
   "source": [
    "## 比較"
   ],
   "metadata": {}
  },
  {
   "cell_type": "code",
   "execution_count": 140,
   "source": [
    "import matplotlib.pyplot as plt\r\n",
    "\r\n",
    "dat_C = {\"testcase1_C\": np.sum(E_C_d_t_1)/1000, \"testcase2_C\": np.sum(E_C_d_t_2)/1000, \"testcase3_C\": np.sum(E_C_d_t_3)/1000, \r\n",
    "         \"testcase4_C\": np.sum(E_C_d_t_4)/1000, \"testcase5_C\": np.sum(E_C_d_t_5)/1000, \"testcase6_C\": np.sum(E_C_d_t_6)/1000,\r\n",
    "         \"testacse7_C\": np.sum(E_C_d_t_7)/1000}\r\n",
    "dat_H = {\"testcase1_H\": np.sum(E_H_d_t_1)/1000, \"testcase2_H\": np.sum(E_H_d_t_2)/1000, \"testcase3_H\": np.sum(E_H_d_t_3)/1000, \r\n",
    "         \"testcase4_H\": np.sum(E_H_d_t_4)/1000, \"testcase5_H\": np.sum(E_H_d_t_5)/1000, \"testcase6_H\": np.sum(E_H_d_t_6)/1000,\r\n",
    "         \"testacse7_H\": np.sum(E_H_d_t_7)/1000}\r\n",
    "\r\n",
    "x_C = list(dat_C.keys())\r\n",
    "x_H = list(dat_H.keys())\r\n",
    "y_C = list(dat_C.values())\r\n",
    "y_H = list(dat_H.values())\r\n",
    "\r\n",
    "fig = plt.figure(figsize=(18,5))\r\n",
    "grh_C = fig.add_subplot(121)\r\n",
    "grh_C.barh(x_C,y_C, color=\"skyblue\")\r\n",
    "grh_C.set_title(\"E_C\")\r\n",
    "grh_C.set_xlabel(\"GJ/y\")\r\n",
    "\r\n",
    "grh_H = fig.add_subplot(122)\r\n",
    "grh_H.barh(x_H,y_H, color=\"orange\")\r\n",
    "grh_H.set_xlabel(\"GJ/y\")\r\n",
    "grh_H.set_title(\"E_H\")\r\n",
    "\r\n",
    "plt.show()"
   ],
   "outputs": [
    {
     "output_type": "display_data",
     "data": {
      "text/plain": [
       "<Figure size 1296x360 with 2 Axes>"
      ],
      "image/png": "[encoded data removed]"
     },
     "metadata": {
      "needs_background": "light"
     }
    }
   ],
   "metadata": {}
  }
 ],
 "metadata": {
  "kernelspec": {
   "display_name": "Python 3",
   "language": "python",
   "name": "python3"
  },
  "language_info": {
   "codemirror_mode": {
    "name": "ipython",
    "version": 3
   },
   "file_extension": ".py",
   "mimetype": "text/x-python",
   "name": "python",
   "nbconvert_exporter": "python",
   "pygments_lexer": "ipython3",
   "version": "3.8.5"
  },
  "toc": {
   "base_numbering": 1,
   "nav_menu": {},
   "number_sections": false,
   "sideBar": true,
   "skip_h1_title": false,
   "title_cell": "Table of Contents",
   "title_sidebar": "Contents",
   "toc_cell": false,
   "toc_position": {},
   "toc_section_display": true,
   "toc_window_display": false
  }
 },
 "nbformat": 4,
 "nbformat_minor": 2
}