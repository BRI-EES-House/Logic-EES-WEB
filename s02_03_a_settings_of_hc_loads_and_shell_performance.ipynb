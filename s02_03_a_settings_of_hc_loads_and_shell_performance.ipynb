{
 "cells": [
  {
   "cell_type": "markdown",
   "metadata": {},
   "source": [
    "## 付録 A 暖冷房負荷と外皮性能の算定に係る設定 / Appendix A Settings pertaining to calculation of heating and cooling loads and shell performance"
   ]
  },
  {
   "cell_type": "markdown",
   "metadata": {},
   "source": [
    "### A.1 地域の区分 / Segmentation of area"
   ]
  },
  {
   "cell_type": "markdown",
   "metadata": {},
   "source": [
    "地域の区分は、当該住戸と同じとする。"
   ]
  },
  {
   "cell_type": "markdown",
   "metadata": {},
   "source": [
    "Division of area assumes that it is the same as the said dwelling unit."
   ]
  },
  {
   "cell_type": "code",
   "execution_count": null,
   "metadata": {},
   "outputs": [],
   "source": [
    "def get_region(region):\n",
    "    \"\"\"付録 A 暖冷房負荷と外皮性能の算定に係る設定\n",
    "    A.1 地域の区分\n",
    "    \n",
    "    :param region: 省エネルギー地域区分\n",
    "    :type region: int\n",
    "    :return: 省エネルギー地域区分\n",
    "    :rtype: int\n",
    "    \"\"\"\n",
    "    return region"
   ]
  },
  {
   "cell_type": "markdown",
   "metadata": {},
   "source": [
    "### A.2 床面積の合計・主たる居室の床面積・その他の居室の床面積 / Total floor area, floor area of main living room, floor area of other living rooms"
   ]
  },
  {
   "cell_type": "markdown",
   "metadata": {},
   "source": [
    "床面積の合計、主たる居室の床面積およびその他の居室の床面積は、当該住戸と同じとする。 "
   ]
  },
  {
   "cell_type": "markdown",
   "metadata": {},
   "source": [
    "The total floor area, the floor area of the main living room, and the floor areas of other living rooms are the same as those of the dwelling unit."
   ]
  },
  {
   "cell_type": "code",
   "execution_count": null,
   "metadata": {},
   "outputs": [],
   "source": [
    "def get_A(A_A, A_MR, A_OR):\n",
    "    \"\"\" 付録 A 暖冷房負荷と外皮性能の算定に係る設定\n",
    "    A.2 床面積の合計・主たる居室の面積・その他の居室の面積\n",
    "    \n",
    "    :param A_A: 床面積の合計\n",
    "    :type A_A: float\n",
    "    :param A_MR: 主たる居室の面積\n",
    "    :type A_MR: float\n",
    "    :param A_OR: その他の居室の面積\n",
    "    :type A_OR: float\n",
    "    :return: 床面積の合計, 主たる居室の面積, その他の居室の面積\n",
    "    :rtype: tuple\n",
    "    \"\"\"\n",
    "    return A_A, A_MR, A_OR"
   ]
  },
  {
   "cell_type": "markdown",
   "metadata": {},
   "source": [
    "### A.3 外皮の部位の面積の合計 / Total area of the area of the hull"
   ]
  },
  {
   "cell_type": "markdown",
   "metadata": {},
   "source": [
    "第三章「暖冷房負荷と外皮性能」第二節「外皮性能」の「8. 当該住戸の外皮の部位の面積等を用いて外皮性能を評価する方法」を用いる場合、外皮の部位の面積の合計は、当該住戸と同じとする。第三章「暖冷房負荷と外皮性能」第二節「外皮性能」の「9. 当該住戸の外皮の部位の面積等を用いずに外皮性能を評価する方法」を用いる場合、外皮の部位の面積の合計は、標準住戸と同じとする。 "
   ]
  },
  {
   "cell_type": "markdown",
   "metadata": {},
   "source": [
    "When using “8. Method of evaluating skin performance using the area of the skin area of the relevant dwelling unit” in the third chapter “Heating and cooling load and shell performance”, Section 2 “The skin performance”, the area of the skin area The total of the same shall be the same as the dwelling unit concerned. When using “9. Method to evaluate the shell performance without using the area of the shell of the relevant dwelling unit” in the third chapter “Cooling load and shell performance”, Section 2 “The shell performance” The sum of the area is the same as the standard dwelling unit."
   ]
  },
  {
   "cell_type": "code",
   "execution_count": null,
   "metadata": {},
   "outputs": [],
   "source": [
    "def get_env_A(env_A):\n",
    "    \"\"\" 付録 A 暖冷房負荷と外皮性能の算定に係る設定\n",
    "    A.3 外皮の部位の面積の合計\n",
    "\n",
    "    :param env_A: 外皮の部位の面積の合計\n",
    "    :type env_A: float\n",
    "    :return: 外皮の部位の面積の合計\n",
    "    :rtype: float\n",
    "    \"\"\"\n",
    "    return env_A"
   ]
  },
  {
   "cell_type": "markdown",
   "metadata": {},
   "source": [
    "### A.4 外皮平均熱貫流率・平均日射熱取得率  / Average heat transmission coefficient of heat transfer rate, average solar heat gain rate"
   ]
  },
  {
   "cell_type": "code",
   "execution_count": null,
   "metadata": {},
   "outputs": [],
   "source": [
    "def get_U_A(tatekata, region):\n",
    "    \"\"\" 付録 A 暖冷房負荷と外皮性能の算定に係る設定\n",
    "    A.4 外皮平均熱貫流率・平均日射熱取得率\n",
    "    \n",
    "    :param tatekata: 建て方\n",
    "    :type tatekata: str\n",
    "    :param region: 省エネルギー地域区分\n",
    "    :type region: int\n",
    "    :raises ValueError: 建て方が 「戸建住宅」または「共同住宅」以外の場合に発生する\n",
    "    :return: 表A1に該当する外皮平均熱貫流率\n",
    "    :rtype: float\n",
    "    \"\"\"\n",
    "    table_a_1 = get_table_a_1()    \n",
    "    if tatekata == '戸建住宅':\n",
    "        return table_a_1[0][region - 1]\n",
    "    elif tatekata == '共同住宅':\n",
    "        return table_a_1[1][region - 1]\n",
    "    else:\n",
    "        raise ValueError(tatekata)"
   ]
  },
  {
   "cell_type": "code",
   "execution_count": null,
   "metadata": {},
   "outputs": [],
   "source": [
    "def get_etr_A_H(tatekata, region):\n",
    "    \"\"\" 付録 A 暖冷房負荷と外皮性能の算定に係る設定\n",
    "    A.4 外皮平均熱貫流率・平均日射熱取得率\n",
    "    \n",
    "    :param tatekata: 建て方\n",
    "    :type tatekata: str\n",
    "    :param region: 省エネルギー地域区分\n",
    "    :type region: int\n",
    "    :raises ValueError: 建て方が 「戸建住宅」または「共同住宅」以外の場合に発生する\n",
    "    :return: 表A1に該当する平均日射熱取得率（暖房）\n",
    "    :rtype: float\n",
    "    \"\"\"\n",
    "    table_a_1 = get_table_a_1()    \n",
    "    if tatekata == '戸建住宅':\n",
    "        return table_a_1[2][region - 1]\n",
    "    elif tatekata == '共同住宅':\n",
    "        return table_a_1[3][region - 1]\n",
    "    else:\n",
    "        raise ValueError(tatekata)"
   ]
  },
  {
   "cell_type": "code",
   "execution_count": null,
   "metadata": {},
   "outputs": [],
   "source": [
    "def get_etr_A_C(tatekata, region):\n",
    "    \"\"\" 付録 A 暖冷房負荷と外皮性能の算定に係る設定\n",
    "    A.4 外皮平均熱貫流率・平均日射熱取得率\n",
    "    \n",
    "    :param tatekata: 建て方\n",
    "    :type tatekata: str\n",
    "    :param region: 省エネルギー地域区分\n",
    "    :type region: int\n",
    "    :raises ValueError: 建て方が 「戸建住宅」または「共同住宅」以外の場合に発生する\n",
    "    :return: 表A1に該当する平均日射熱取得率（冷房）\n",
    "    :rtype: float\n",
    "    \"\"\"\n",
    "    table_a_1 = get_table_a_1()\n",
    "    if tatekata == '戸建住宅':\n",
    "        return table_a_1[4][region - 1]\n",
    "    elif tatekata == '共同住宅':\n",
    "        return table_a_1[5][region - 1]\n",
    "    else:\n",
    "        raise ValueError(tatekata)"
   ]
  },
  {
   "cell_type": "code",
   "execution_count": null,
   "metadata": {},
   "outputs": [],
   "source": [
    "def get_table_a_1():\n",
    "    \"\"\"付録 A 暖冷房負荷と外皮性能の算定に係る設定\n",
    "    A.4 外皮平均熱貫流率・平均日射熱取得率\n",
    "    建て方・地域区分に応じた外皮平均熱貫流率・平均日射熱取得率を返す\n",
    "    \n",
    "    :return: 表A1\n",
    "    :rtype: list\n",
    "    \"\"\"\n",
    "    table_a_1 = [\n",
    "        (0.46, 0.46, 0.56, 0.75, 0.87, 0.87, 0.87, 2.14),\n",
    "        (0.41, 0.41, 0.44, 0.69, 0.75, 0.75, 0.75, 1.67),\n",
    "        (2.5, 2.3, 2.7, 3.7, 4.5, 4.3, 4.6, None),\n",
    "        (1.5, 1.3, 1.5, 1.8, 2.1, 2.0, 2.1, None),\n",
    "        (1.9, 1.9, 2.0, 2.7, 3.0, 2.8, 2.7, 3.2),\n",
    "        (1.1, 1.1, 1.1, 1.4, 1.5, 1.4, 1.3, 2.4)\n",
    "    ]\n",
    "    return table_a_1"
   ]
  },
  {
   "cell_type": "markdown",
   "metadata": {},
   "source": [
    "<div style=\"text-align: center;font-weight: bold;\">表　外皮平均熱貫流率および平均日射熱取得率<br>Table: Skin average heat transmission coefficient and average solar heat gain rate</div>\n",
    "\n",
    "<table>\n",
    "<thead>\n",
    "<tr>\n",
    "<th rowspan=\"2\">項目<br>item</th>\n",
    "<th rowspan=\"2\">住宅の種類<br>Housing type</th>\n",
    "<th colspan=\"8\">地域の区分<br>Segmentation of area</th>\n",
    "</tr>\n",
    "<tr>\n",
    "<th>1</th>\n",
    "<th>2</th>\n",
    "<th>3</th>\n",
    "<th>4</th>\n",
    "<th>5</th>\n",
    "<th>6</th>\n",
    "<th>7</th>\n",
    "<th>8</th>\n",
    "</tr>\n",
    "</thead>\n",
    "\n",
    "<tbody>\n",
    "<tr>\n",
    "<th rowspan=\"2\">外皮平均熱貫流率<br>Average heat penetration coefficient of skin</th>\n",
    "<th>戸建て<br>Detached house</th>\n",
    "<td>0.46</td><td>0.46</td><td>0.56</td><td>0.75</td><td>0.87</td><td>0.87</td><td>0.87</td><td>2.14</td>\n",
    "</tr>\n",
    "<tr>\n",
    "<th>共同<br>Shared housing</th>\n",
    "<td>0.41</td><td>0.41</td><td>0.44</td><td>0.69</td><td>0.75</td><td>0.75</td><td>0.75</td><td>1.67</td>\n",
    "</tr>\n",
    "<tr>\n",
    "<th rowspan=\"2\">暖房期の<br>平均日射取得率<br>Average solar radiation acquisition rate<br>during the heating season</th>\n",
    "<th>戸建て<br>Detached house</th>\n",
    "<td>2.5</td><td>2.3</td><td>2.7</td><td>3.7</td><td>4.5</td><td>4.3</td><td>4.6</td><td>―</td>\n",
    "</tr>\n",
    "<tr>\n",
    "<th>共同<br>Shared housing</th>\n",
    "<td>1.5</td><td>1.3</td><td>1.5</td><td>1.8</td><td>2.1</td><td>2.0</td><td>2.1</td><td>―</td>\n",
    "</tr>\n",
    "<tr>\n",
    "<th rowspan=\"2\">冷房期の<br>平均日射取得率<br>Average solar radiation acquisition rate<br>during the cooling season</th>\n",
    "<th>戸建て<br>Detached house</th>\n",
    "<td>1.9</td><td>1.9</td><td>2.0</td><td>2.7</td><td>3.0</td><td>2.8</td><td>2.7</td><td>3.2</td>\n",
    "</tr>\n",
    "<tr>\n",
    "<th>共同<br>Shared housing</th>\n",
    "<td>1.1</td><td>1.1</td><td>1.1</td><td>1.4</td><td>1.5</td><td>1.4</td><td>1.3</td><td>2.4</td>\n",
    "</tr>\n",
    "</tbody>\n",
    "</table>\n"
   ]
  },
  {
   "cell_type": "markdown",
   "metadata": {},
   "source": [
    "### A.5 通風の利用 / Use of ventilation "
   ]
  },
  {
   "cell_type": "markdown",
   "metadata": {},
   "source": [
    "通風の利用は、主たる居室・その他の居室ともになしとする。 "
   ]
  },
  {
   "cell_type": "markdown",
   "metadata": {},
   "source": [
    "Use of ventilation is considered as none of the main room and other rooms."
   ]
  },
  {
   "cell_type": "code",
   "execution_count": null,
   "metadata": {},
   "outputs": [],
   "source": [
    "def get_NV():\n",
    "    \"\"\"付録 A 暖冷房負荷と外皮性能の算定に係る設定\n",
    "    A.5 通風の利用\n",
    "    通風の利用は、主たる居室・その他の居室ともになしとする。\n",
    "\n",
    "    :return: 主たる居室・その他の居室における通風の利用\n",
    "    :rtype: tuple\n",
    "    \"\"\"\n",
    "    return 0, 0"
   ]
  },
  {
   "cell_type": "markdown",
   "metadata": {},
   "source": [
    "### A.6 蓄熱の利用 / Use of heat storage"
   ]
  },
  {
   "cell_type": "markdown",
   "metadata": {},
   "source": [
    "蓄熱の利用は、なしとする。 "
   ]
  },
  {
   "cell_type": "markdown",
   "metadata": {},
   "source": [
    "Use of heat storage is assumed to be none."
   ]
  },
  {
   "cell_type": "code",
   "execution_count": null,
   "metadata": {},
   "outputs": [],
   "source": [
    "def get_thermal_storage():\n",
    "    \"\"\"付録 A 暖冷房負荷と外皮性能の算定に係る設定\n",
    "    A.6 蓄熱の利用\n",
    "    \n",
    "    :return: 蓄熱の利用\n",
    "    :rtype: bool\n",
    "    \"\"\"\n",
    "    return False"
   ]
  },
  {
   "cell_type": "markdown",
   "metadata": {},
   "source": [
    "### A.7 床下空間を経由して外気を導入する換気方式の採用 / Adoption of ventilation system to introduce outside air via underfloor space"
   ]
  },
  {
   "cell_type": "markdown",
   "metadata": {},
   "source": [
    "床下空間を経由して外気を導入する換気方式の採用は、なしとする。 "
   ]
  },
  {
   "cell_type": "markdown",
   "metadata": {},
   "source": [
    "There is no adoption of a ventilation system that introduces outside air via the floor space."
   ]
  },
  {
   "cell_type": "code",
   "execution_count": null,
   "metadata": {},
   "outputs": [],
   "source": [
    "def get_underfloor_ventilation():\n",
    "    \"\"\"付録 A 暖冷房負荷と外皮性能の算定に係る設定\n",
    "    A.7 床下空間を経由して外気を導入する換気方法の採用\n",
    "    \n",
    "    :return: 床下空間を経由して外気を導入する換気方法の採用\n",
    "    :rtype: bool\n",
    "    \"\"\"\n",
    "    return False"
   ]
  },
  {
   "cell_type": "markdown",
   "metadata": {},
   "source": [
    "### A.8 熱交換型換気の採用 / Adoption of heat exchange type ventilation "
   ]
  },
  {
   "cell_type": "markdown",
   "metadata": {},
   "source": [
    "熱交換型換気の採用は、なしとする。 "
   ]
  },
  {
   "cell_type": "markdown",
   "metadata": {},
   "source": [
    "Adoption of heat exchange type ventilation is none."
   ]
  },
  {
   "cell_type": "code",
   "execution_count": null,
   "metadata": {},
   "outputs": [],
   "source": [
    "def get_heatexchanger():\n",
    "    \"\"\"付録 A 暖冷房負荷と外皮性能の算定に係る設定\n",
    "    A.8 熱交換型換気の採用\n",
    "\n",
    "    :return: 熱交換型換気の採用\n",
    "    :rtype: bool\n",
    "    \"\"\"\n",
    "    return False"
   ]
  }
 ],
 "metadata": {
  "kernelspec": {
   "display_name": "Python 3",
   "language": "python",
   "name": "python3"
  },
  "language_info": {
   "codemirror_mode": {
    "name": "ipython",
    "version": 3
   },
   "file_extension": ".py",
   "mimetype": "text/x-python",
   "name": "python",
   "nbconvert_exporter": "python",
   "pygments_lexer": "ipython3",
   "version": "3.8.5"
  }
 },
 "nbformat": 4,
 "nbformat_minor": 2
}
