{
 "cells": [
  {
   "cell_type": "code",
   "execution_count": null,
   "metadata": {},
   "outputs": [],
   "source": [
    "import nbimporter\n",
    "import numpy as np\n",
    "import matplotlib.pyplot as plt\n",
    "%matplotlib inline\n",
    "\n",
    "from s06_lighting import get_E_E_L_d_t"
   ]
  },
  {
   "cell_type": "markdown",
   "metadata": {},
   "source": [
    "# 試算例"
   ]
  },
  {
   "cell_type": "markdown",
   "metadata": {},
   "source": [
    "|名称1|名称2|変数名|計算条件1|計算条件2|計算条件3|計算条件4|計算条件5|計算条件6|計算条件7|計算条件8|\n",
    "|----|------|--|--|--|--|--|--|--|--|--|\n",
    "|世帯人数|-|$n_p$|4人|4人|4人|4人|4人|3人|2人|1人|\n",
    "|床面積（合計）|-|$A_A$|120.08m2|120.08m2|120.08m2|120.08m2|120.08m2|90m2|60m2|30m2|\n",
    "|床面積（主居室）|-|$A_{MR}$|-|29.81m2|29.81m2|29.81m2|29.81m2|25m2|20m2|15m2|\n",
    "|床面積（その他居室）|-|$A_{OR}$|-|51.34m2|51.34m2|51.34m2|51.34m2|35m2|25m2|-|\n",
    "|主たる居室|設置の有無|$MR_{installed}$|設置しない|設置しない|設置する|設置する|設置する|設置しない|設置しない|設置しない|\n",
    "|主たる居室|照明器具の種類|$MR_{power}$|-|-|すべての機器においてLEDを使用している|すべての機器において白熱灯以外を使用している|いずれかの機器において白熱灯を使用している|-|-|-|\n",
    "|主たる居室|多灯分散照明方式の採用|$MR_{multi}$|-|-|採用する|採用しない|-|-|-|-|\n",
    "|主たる居室|調光が可能な制御|$MR_{dimming}$|-|-|採用する|採用しない|採用しない|-|-|-|\n",
    "|その他の居室|その他居室の有無|$has_{OR}$|無|有|有|有|有|有|有|無|\n",
    "|その他の居室|設置の有無|$OR_{installed}$|-|設置しない|設置する|設置する|設置する|設置しない|設置しない|-|\n",
    "|その他の居室|照明器具の種類|$OR_{power}$|-|-|すべての機器においてLEDを使用している|すべての機器において白熱灯以外を使用している|いずれかの機器において白熱灯を使用している|-|-|-|\n",
    "|その他の居室|調光が可能な制御|$OR_{dimming}$|-|-|採用する|採用しない|採用しない|-|-|-|\n",
    "|非居室|非居室の有無|$has_{NO}$|無|有|有|有|有|有|有|\n",
    "|非居室|設置の有無|$NO_{installed}$|-|設置しない|設置する|設置する|設置する|設置しない|設置しない|設置しない|\n",
    "|非居室|照明器具の種類|$NO_{power}$|-|-|すべての機器においてLEDを使用している|すべての機器において白熱灯以外を使用している|いずれかの機器において白熱灯を使用している|-|-|-|\n",
    "|非居室|人感センサー|$NO_{sensor}$|-|-|採用する|採用しない|採用しない|-|-|-|\n"
   ]
  },
  {
   "cell_type": "markdown",
   "metadata": {},
   "source": [
    "### 計算条件1"
   ]
  },
  {
   "cell_type": "code",
   "execution_count": null,
   "metadata": {
    "scrolled": true
   },
   "outputs": [],
   "source": [
    "n_p = 4.0\n",
    "A_A = 120.08\n",
    "A_MR = 0\n",
    "A_OR = 0\n",
    "\n",
    "L = {\"MR_installed\" : \"設置しない\",\"MR_power\" : None,\"MR_multi\" : None,\"MR_dimming\" : None,\n",
    "     \"has_OR\" : None,\"OR_installed\" : None,\"OR_power\" : None,\"OR_dimming\" : None,\n",
    "     \"has_NO\" : None,\"NO_installed\" : None,\"NO_power\" : None,\"NO_sensor\" : None\n",
    "    }\n",
    "\n",
    "testcase1 = get_E_E_L_d_t(n_p, A_A, A_MR, A_OR, L)\n"
   ]
  },
  {
   "cell_type": "code",
   "execution_count": null,
   "metadata": {},
   "outputs": [],
   "source": [
    "test1_mean_hr = np.mean(testcase1.reshape(365,24), axis=0)\n",
    "test1_mean_day = np.mean(testcase1.reshape(365,24), axis=1)\n",
    "\n",
    "fig = plt.figure(figsize=(20,12))\n",
    "grh1 = fig.add_subplot(311)\n",
    "grh1.plot(testcase1)\n",
    "grh1.set_ylabel(\"kWh/h\")\n",
    "grh1.set_xlabel(\"hour\")\n",
    "\n",
    "grh1_day = fig.add_subplot(312)\n",
    "grh1_day.plot(test1_mean_day)\n",
    "grh1_day.set_ylabel(\"kWh/h\")\n",
    "grh1_day.set_xlabel(\"day\")\n",
    "\n",
    "grh1_hr = fig.add_subplot(313)\n",
    "grh1_hr.plot(test1_mean_hr)\n",
    "grh1_hr.set_ylabel(\"kWh/h\")\n",
    "grh1_hr.set_xlabel(\"hour\")\n",
    "plt.show()\n",
    "\n"
   ]
  },
  {
   "cell_type": "markdown",
   "metadata": {},
   "source": [
    "### 計算条件2"
   ]
  },
  {
   "cell_type": "code",
   "execution_count": null,
   "metadata": {},
   "outputs": [],
   "source": [
    "n_p = 4.0\n",
    "A_A = 120.08\n",
    "A_MR = 29.81\n",
    "A_OR = 51.34\n",
    "\n",
    "L = {\"MR_installed\" : \"設置しない\",\"MR_power\" : None,\"MR_multi\" : None,\"MR_dimming\" : None,\n",
    "     \"has_OR\" : \"有\",\"OR_installed\" : \"設置しない\",\"OR_power\" : None,\"OR_dimming\" : None,\n",
    "     \"has_NO\" : \"有\",\"NO_installed\" : \"設置しない\",\"NO_power\" : None,\"NO_sensor\" : None\n",
    "    }\n",
    "\n",
    "testcase2 = get_E_E_L_d_t(n_p, A_A, A_MR, A_OR, L)\n"
   ]
  },
  {
   "cell_type": "code",
   "execution_count": null,
   "metadata": {},
   "outputs": [],
   "source": [
    "test2_mean_hr = np.mean(testcase2.reshape(365,24), axis=0)\n",
    "test2_mean_day = np.mean(testcase2.reshape(365,24), axis=1)\n",
    "\n",
    "fig = plt.figure(figsize=(20,12))\n",
    "grh2 = fig.add_subplot(311)\n",
    "grh2.plot(testcase2)\n",
    "grh2.set_ylabel(\"kWh/h\")\n",
    "grh2.set_xlabel(\"hour\")\n",
    "\n",
    "grh2_day = fig.add_subplot(312)\n",
    "grh2_day.plot(test2_mean_day)\n",
    "grh2_day.set_ylabel(\"kWh/h\")\n",
    "grh2_day.set_xlabel(\"day\")\n",
    "\n",
    "grh2_hr = fig.add_subplot(313)\n",
    "grh2_hr.plot(test2_mean_hr)\n",
    "grh2_hr.set_ylabel(\"kWh/h\")\n",
    "grh2_hr.set_xlabel(\"hour\")\n",
    "plt.show()"
   ]
  },
  {
   "cell_type": "markdown",
   "metadata": {},
   "source": [
    "### 計算条件3"
   ]
  },
  {
   "cell_type": "code",
   "execution_count": null,
   "metadata": {},
   "outputs": [],
   "source": [
    "n_p = 4.0\n",
    "A_A = 120.08\n",
    "A_MR = 29.81\n",
    "A_OR = 51.34\n",
    "\n",
    "L = {\"MR_installed\" : \"設置する\",\"MR_power\" : \"すべての機器においてLEDを使用している\",\"MR_multi\" : \"採用する\",\"MR_dimming\" : \"採用する\",\n",
    "     \"has_OR\" : \"有\",\"OR_installed\" : \"設置する\",\"OR_power\" : \"すべての機器においてLEDを使用している\",\"OR_dimming\" : \"採用する\",\n",
    "     \"has_NO\" : \"有\",\"NO_installed\" : \"設置する\",\"NO_power\" : \"すべての機器においてLEDを使用している\",\"NO_sensor\" : \"採用する\"\n",
    "    }\n",
    "\n",
    "testcase3 = get_E_E_L_d_t(n_p, A_A, A_MR, A_OR, L)"
   ]
  },
  {
   "cell_type": "code",
   "execution_count": null,
   "metadata": {},
   "outputs": [],
   "source": [
    "test3_mean_hr = np.mean(testcase3.reshape(365,24), axis=0)\n",
    "test3_mean_day = np.mean(testcase3.reshape(365,24), axis=1)\n",
    "\n",
    "fig = plt.figure(figsize=(20,12))\n",
    "grh3 = fig.add_subplot(311)\n",
    "grh3.plot(testcase3)\n",
    "grh3.set_ylabel(\"kWh/h\")\n",
    "grh3.set_xlabel(\"hour\")\n",
    "\n",
    "grh3_day = fig.add_subplot(312)\n",
    "grh3_day.plot(test3_mean_day)\n",
    "grh3_day.set_ylabel(\"kWh/h\")\n",
    "grh3_day.set_xlabel(\"day\")\n",
    "\n",
    "grh3_hr = fig.add_subplot(313)\n",
    "grh3_hr.plot(test3_mean_hr)\n",
    "grh3_hr.set_ylabel(\"kWh/h\")\n",
    "grh3_hr.set_xlabel(\"hour\")\n",
    "plt.show()"
   ]
  },
  {
   "cell_type": "markdown",
   "metadata": {},
   "source": [
    "### 計算条件4"
   ]
  },
  {
   "cell_type": "code",
   "execution_count": null,
   "metadata": {},
   "outputs": [],
   "source": [
    "n_p = 4.0\n",
    "A_A = 120.08\n",
    "A_MR = 29.81\n",
    "A_OR = 51.34\n",
    "\n",
    "L = {\"MR_installed\" : \"設置する\",\"MR_power\" : \"すべての機器において白熱灯以外を使用している\",\"MR_multi\" : \"採用しない\",\"MR_dimming\" : \"採用しない\",\n",
    "     \"has_OR\" : \"有\",\"OR_installed\" : \"設置する\",\"OR_power\" : \"すべての機器において白熱灯以外を使用している\",\"OR_dimming\" : \"採用しない\",\n",
    "     \"has_NO\" : \"有\",\"NO_installed\" : \"設置する\",\"NO_power\" : \"すべての機器において白熱灯以外を使用している\",\"NO_sensor\" : \"採用しない\"\n",
    "    }\n",
    "\n",
    "testcase4 = get_E_E_L_d_t(n_p, A_A, A_MR, A_OR, L)"
   ]
  },
  {
   "cell_type": "code",
   "execution_count": null,
   "metadata": {},
   "outputs": [],
   "source": [
    "test4_mean_hr = np.mean(testcase4.reshape(365,24), axis=0)\n",
    "test4_mean_day = np.mean(testcase4.reshape(365,24), axis=1)\n",
    "\n",
    "fig = plt.figure(figsize=(20,12))\n",
    "grh4 = fig.add_subplot(311)\n",
    "grh4.plot(testcase4)\n",
    "grh4.set_ylabel(\"kWh/h\")\n",
    "grh4.set_xlabel(\"hour\")\n",
    "\n",
    "grh4_day = fig.add_subplot(312)\n",
    "grh4_day.plot(test4_mean_day)\n",
    "grh4_day.set_ylabel(\"kWh/h\")\n",
    "grh4_day.set_xlabel(\"day\")\n",
    "\n",
    "grh4_hr = fig.add_subplot(313)\n",
    "grh4_hr.plot(test4_mean_hr)\n",
    "grh4_hr.set_ylabel(\"kWh/h\")\n",
    "grh4_hr.set_xlabel(\"hour\")\n",
    "plt.show()"
   ]
  },
  {
   "cell_type": "markdown",
   "metadata": {},
   "source": [
    "### 計算条件5"
   ]
  },
  {
   "cell_type": "code",
   "execution_count": null,
   "metadata": {},
   "outputs": [],
   "source": [
    "n_p = 4.0\n",
    "A_A = 120.08\n",
    "A_MR = 29.81\n",
    "A_OR = 51.34\n",
    "\n",
    "L = {\"MR_installed\" : \"設置する\",\"MR_power\" : \"いずれかの機器において白熱灯を使用している\",\"MR_multi\" : None,\"MR_dimming\" : \"採用しない\",\n",
    "     \"has_OR\" : \"有\",\"OR_installed\" : \"設置する\",\"OR_power\" : \"いずれかの機器において白熱灯を使用している\",\"OR_dimming\" : \"採用しない\",\n",
    "     \"has_NO\" : \"有\",\"NO_installed\" : \"設置する\",\"NO_power\" : \"いずれかの機器において白熱灯を使用している\",\"NO_sensor\" : \"採用しない\"\n",
    "    }\n",
    "\n",
    "testcase5 = get_E_E_L_d_t(n_p, A_A, A_MR, A_OR, L)"
   ]
  },
  {
   "cell_type": "code",
   "execution_count": null,
   "metadata": {},
   "outputs": [],
   "source": [
    "test5_mean_hr = np.mean(testcase5.reshape(365,24), axis=0)\n",
    "test5_mean_day = np.mean(testcase5.reshape(365,24), axis=1)\n",
    "\n",
    "fig = plt.figure(figsize=(20,12))\n",
    "grh5 = fig.add_subplot(311)\n",
    "grh5.plot(testcase2)\n",
    "grh5.set_ylabel(\"kWh/h\")\n",
    "grh5.set_xlabel(\"hour\")\n",
    "\n",
    "grh5_day = fig.add_subplot(312)\n",
    "grh5_day.plot(test5_mean_day)\n",
    "grh5_day.set_ylabel(\"kWh/h\")\n",
    "grh5_day.set_xlabel(\"day\")\n",
    "\n",
    "grh5_hr = fig.add_subplot(313)\n",
    "grh5_hr.plot(test5_mean_hr)\n",
    "grh5_hr.set_ylabel(\"kWh/h\")\n",
    "grh5_hr.set_xlabel(\"hour\")\n",
    "plt.show()"
   ]
  },
  {
   "cell_type": "markdown",
   "metadata": {},
   "source": [
    "### 計算条件6"
   ]
  },
  {
   "cell_type": "code",
   "execution_count": null,
   "metadata": {},
   "outputs": [],
   "source": [
    "n_p = 3.0\n",
    "A_A = 90\n",
    "A_MR = 25\n",
    "A_OR = 35\n",
    "\n",
    "L = {\"MR_installed\" : \"設置しない\",\"MR_power\" : None,\"MR_multi\" : None,\"MR_dimming\" : None,\n",
    "     \"has_OR\" : \"有\",\"OR_installed\" : \"設置しない\",\"OR_power\" : None,\"OR_dimming\" : None,\n",
    "     \"has_NO\" : \"有\",\"NO_installed\" : \"設置しない\",\"NO_power\" : None,\"NO_sensor\" : None\n",
    "    }\n",
    "\n",
    "testcase6 = get_E_E_L_d_t(n_p, A_A, A_MR, A_OR, L)\n"
   ]
  },
  {
   "cell_type": "code",
   "execution_count": null,
   "metadata": {},
   "outputs": [],
   "source": [
    "test6_mean_hr = np.mean(testcase6.reshape(365,24), axis=0)\n",
    "test6_mean_day = np.mean(testcase6.reshape(365,24), axis=1)\n",
    "\n",
    "fig = plt.figure(figsize=(20,12))\n",
    "grh6 = fig.add_subplot(311)\n",
    "grh6.plot(testcase6)\n",
    "grh6.set_ylabel(\"kWh/h\")\n",
    "grh6.set_xlabel(\"hour\")\n",
    "\n",
    "grh6_day = fig.add_subplot(312)\n",
    "grh6_day.plot(test6_mean_day)\n",
    "grh6_day.set_ylabel(\"kWh/h\")\n",
    "grh6_day.set_xlabel(\"day\")\n",
    "\n",
    "grh6_hr = fig.add_subplot(313)\n",
    "grh6_hr.plot(test6_mean_hr)\n",
    "grh6_hr.set_ylabel(\"kWh/h\")\n",
    "grh6_hr.set_xlabel(\"hour\")\n",
    "plt.show()"
   ]
  },
  {
   "cell_type": "markdown",
   "metadata": {},
   "source": [
    "### 計算条件7"
   ]
  },
  {
   "cell_type": "code",
   "execution_count": null,
   "metadata": {},
   "outputs": [],
   "source": [
    "n_p = 2.0\n",
    "A_A = 60\n",
    "A_MR = 20\n",
    "A_OR = 25\n",
    "\n",
    "L = {\"MR_installed\" : \"設置しない\",\"MR_power\" : None,\"MR_multi\" : None,\"MR_dimming\" : None,\n",
    "     \"has_OR\" : \"有\",\"OR_installed\" : \"設置しない\",\"OR_power\" : None,\"OR_dimming\" : None,\n",
    "     \"has_NO\" : \"有\",\"NO_installed\" : \"設置しない\",\"NO_power\" : None,\"NO_sensor\" : None\n",
    "    }\n",
    "\n",
    "testcase7 = get_E_E_L_d_t(n_p, A_A, A_MR, A_OR, L)\n"
   ]
  },
  {
   "cell_type": "code",
   "execution_count": null,
   "metadata": {},
   "outputs": [],
   "source": [
    "test7_mean_hr = np.mean(testcase7.reshape(365,24), axis=0)\n",
    "test7_mean_day = np.mean(testcase7.reshape(365,24), axis=1)\n",
    "\n",
    "fig = plt.figure(figsize=(20,12))\n",
    "grh7 = fig.add_subplot(311)\n",
    "grh7.plot(testcase7)\n",
    "grh7.set_ylabel(\"kWh/h\")\n",
    "grh7.set_xlabel(\"hour\")\n",
    "\n",
    "grh7_day = fig.add_subplot(312)\n",
    "grh7_day.plot(test7_mean_day)\n",
    "grh7_day.set_ylabel(\"kWh/h\")\n",
    "grh7_day.set_xlabel(\"day\")\n",
    "\n",
    "grh7_hr = fig.add_subplot(313)\n",
    "grh7_hr.plot(test7_mean_hr)\n",
    "grh7_hr.set_ylabel(\"kWh/h\")\n",
    "grh7_hr.set_xlabel(\"hour\")\n",
    "plt.show()"
   ]
  },
  {
   "cell_type": "markdown",
   "metadata": {},
   "source": [
    "### 計算条件8"
   ]
  },
  {
   "cell_type": "code",
   "execution_count": null,
   "metadata": {},
   "outputs": [],
   "source": [
    "n_p = 1.0\n",
    "A_A = 30\n",
    "A_MR = 10\n",
    "A_OR = 0\n",
    "\n",
    "L = {\"MR_installed\" : \"設置しない\",\"MR_power\" : None,\"MR_multi\" : None,\"MR_dimming\" : None,\n",
    "     \"has_OR\" : \"有\",\"OR_installed\" : \"設置しない\",\"OR_power\" : None,\"OR_dimming\" : None,\n",
    "     \"has_NO\" : \"有\",\"NO_installed\" : \"設置しない\",\"NO_power\" : None,\"NO_sensor\" : None\n",
    "    }\n",
    "\n",
    "testcase8 = get_E_E_L_d_t(n_p, A_A, A_MR, A_OR, L)\n"
   ]
  },
  {
   "cell_type": "code",
   "execution_count": null,
   "metadata": {},
   "outputs": [],
   "source": [
    "test8_mean_hr = np.mean(testcase8.reshape(365,24), axis=0)\n",
    "test8_mean_day = np.mean(testcase8.reshape(365,24), axis=1)\n",
    "\n",
    "fig = plt.figure(figsize=(20,12))\n",
    "grh8 = fig.add_subplot(311)\n",
    "grh8.plot(testcase8)\n",
    "grh8.set_ylabel(\"kWh/h\")\n",
    "grh8.set_xlabel(\"hour\")\n",
    "\n",
    "grh8_day = fig.add_subplot(312)\n",
    "grh8_day.plot(test8_mean_day)\n",
    "grh8_day.set_ylabel(\"kWh/h\")\n",
    "grh8_day.set_xlabel(\"day\")\n",
    "\n",
    "grh8_hr = fig.add_subplot(313)\n",
    "grh8_hr.plot(test8_mean_hr)\n",
    "grh8_hr.set_ylabel(\"kWh/h\")\n",
    "grh8_hr.set_xlabel(\"hour\")\n",
    "plt.show()"
   ]
  },
  {
   "cell_type": "markdown",
   "metadata": {},
   "source": [
    "### 比較"
   ]
  },
  {
   "cell_type": "code",
   "execution_count": null,
   "metadata": {},
   "outputs": [],
   "source": [
    "dat = {\"testcase1\":sum(testcase1),\"testcase2\" : sum(testcase2), \"testcase3\" : sum(testcase3), \"testcase4\" : sum(testcase4), \n",
    "       \"testcase5\" : sum(testcase5), \"testcase6\" : sum(testcase6), \"testcase7\" : sum(testcase7), \"testcase8\" : sum(testcase8)}\n",
    "xx = list(dat.keys())\n",
    "yy = list(dat.values())\n",
    "\n",
    "fig = plt.figure(figsize=(20,4))\n",
    "axt = fig.add_subplot(111)\n",
    "axt.barh(xx,yy)\n",
    "axt.set_xlabel(\"kWh/a\")\n",
    "plt.show()\n"
   ]
  },
  {
   "cell_type": "code",
   "execution_count": null,
   "metadata": {},
   "outputs": [],
   "source": [
    "dat_hr = {\"testcase1_hr\" : test1_mean_hr, \"testcase2_hr\" : test2_mean_hr, \"testcase3_hr\" : test3_mean_hr, \n",
    "          \"testcase4_hr\" : test4_mean_hr, \"testcase5_hr\" : test5_mean_hr, \"testcase6_hr\" : test6_mean_hr, \n",
    "          \"testcase7_hr\" : test7_mean_hr, \"testcase8_hr\" : test8_mean_hr}\n",
    "xx_hr = list(dat_hr.keys())\n",
    "\n",
    "dat_day = {\"testcase1_day\" : test1_mean_day, \"testcase2_day\" : test2_mean_day, \"testcase3_day\" : test3_mean_day,\n",
    "          \"testcase4_day\" : test4_mean_day, \"testcase5_day\" : test5_mean_day, \"testcase6_day\" : test6_mean_day,\n",
    "          \"testcase7_day\" : test7_mean_day, \"testcase8_day\" : test8_mean_day}\n",
    "xx_day = list(dat_day.keys())\n",
    "\n",
    "fig = plt.figure(figsize=(20,8))\n",
    "ax_hr = fig.add_subplot(211)\n",
    "ax_day = fig.add_subplot(212)\n",
    "\n",
    "for k in dat_hr.keys():\n",
    "    ax_hr.plot(dat_hr[k])\n",
    "    \n",
    "ax_hr.legend(xx_hr)\n",
    "ax_hr.set_ylabel(\"kWh/h\")\n",
    "ax_hr.set_xlabel(\"hour\")\n",
    "\n",
    "for k in dat_day.keys():\n",
    "    ax_day.plot(dat_day[k])\n",
    "\n",
    "ax_day.legend(xx_hr)\n",
    "ax_day.set_ylabel(\"kWh/h\")\n",
    "ax_day.set_xlabel(\"day\")\n",
    "plt.show()\n"
   ]
  }
 ],
 "metadata": {
  "kernelspec": {
   "display_name": "Python 3",
   "language": "python",
   "name": "python3"
  },
  "language_info": {
   "codemirror_mode": {
    "name": "ipython",
    "version": 3
   },
   "file_extension": ".py",
   "mimetype": "text/x-python",
   "name": "python",
   "nbconvert_exporter": "python",
   "pygments_lexer": "ipython3",
   "version": "3.6.6"
  }
 },
 "nbformat": 4,
 "nbformat_minor": 2
}
