{
 "cells": [
  {
   "cell_type": "code",
   "execution_count": null,
   "metadata": {},
   "outputs": [],
   "source": [
    "import nbimporter\n",
    "import numpy as np\n",
    "import matplotlib.pyplot as plt\n",
    "%matplotlib inline\n",
    "\n",
    "from s11_02_solar_radiation import load_solrad\n",
    "from s09_01_pv_system import get_E_E_PV_d_t"
   ]
  },
  {
   "cell_type": "markdown",
   "metadata": {},
   "source": [
    "# 試算例"
   ]
  },
  {
   "cell_type": "markdown",
   "metadata": {},
   "source": [
    "|名称1|名称2|変数名|計算条件1|計算条件2|計算条件3|計算条件4|計算条件5|\n",
    "|----|------|--|--|--|--|--|--|\n",
    "|地域の区分|-|$ region$|1|3|3|6|6|\n",
    "|年間日射地域区分|-|$ sol_{region}$|1|2|3|3|4|\n",
    "|パワコンの定格負荷効率|-|$etr_{IN,r}$|0.96|0.9|0.9|0.98|0.98|\n",
    "|パネル1|システム容量|$P_{p,i}$|4kW|3KW|3kW|3kW|3kW|\n",
    "|パネル1|種類|$pv_{type}$|結晶シリコン系|結晶シリコン系|結晶シリコン系|結晶シリコン系|結晶シリコン系|\n",
    "|パネル1|設置方式|$pv_{setup}$|架台設置型|架台設置型|架台設置型|架台設置型|架台設置型|\n",
    "|パネル1|設置方位角(真南に対して西回りに振れた角度)|$P_{alpha}$|0度|0度|60度|0度|60度|\n",
    "|パネル1|設置傾斜角(水平面からの傾斜面の角度)|$P_{beta}$|0度|0度|45度|0度|90度|\n",
    "|パネル2|システム容量|$P_{p,i}$|3kW|-|-|-|-|\n",
    "|パネル2|種類|$pv_{type}$|結晶シリコン系|-|-|-|-|\n",
    "|パネル2|設置方式|$pv_{setup}$|屋根置き型|-|-|-|-|\n",
    "|パネル2|設置方位角(真南に対して西回りに振れた角度)|$P_{alpha}$|90度|-|-|-|-|\n",
    "|パネル2|設置傾斜角(水平面からの傾斜面の角度)|$P_{beta}$|30度|-|-|-|-|\n",
    "|パネル3|システム容量|$P_{p,i}$|2kW|-|-|-|-|\n",
    "|パネル3|種類|$pv_{type}$|結晶シリコン系以外|-|-|-|-|\n",
    "|パネル3|設置方式|$pv_{setup}$|その他|-|-|-|-|\n",
    "|パネル3|設置方位角(真南に対して西回りに振れた角度)|$P_{alpha}$|180度|-|-|-|-|\n",
    "|パネル3|設置傾斜角(水平面からの傾斜面の角度)|$P_{beta}$|60度|-|-|-|-|\n",
    "|パネル4|システム容量|$P_{p,i}$|1kW|-|-|-|-|\n",
    "|パネル4|種類|$pv_{type}$|結晶シリコン系以外|-|-|-|-|\n",
    "|パネル4|設置方式|$pv_{setup}$|その他|-|-|-|-|\n",
    "|パネル4|設置方位角(真南に対して西回りに振れた角度)|$P_{alpha}$|270度|-|-|-|-|\n",
    "|パネル4|設置傾斜角(水平面からの傾斜面の角度)|$P_{beta}$|90度|-|-|-|-|"
   ]
  },
  {
   "cell_type": "markdown",
   "metadata": {},
   "source": [
    "### 計算条件1"
   ]
  },
  {
   "cell_type": "code",
   "execution_count": null,
   "metadata": {},
   "outputs": [],
   "source": [
    "spec = {'region' : 1, 'sol_region' : 1} \n",
    "panel_list = [{'etr_IN_r' : 0.96, 'P_p_i' : 4, 'pv_type' : '結晶シリコン系', 'pv_setup' : '架台設置型', 'P_alpha' : 0, 'P_beta' : 0},\n",
    "              {'etr_IN_r' : 0.96, 'P_p_i' : 3, 'pv_type' : '結晶シリコン系', 'pv_setup' : '屋根置き型', 'P_alpha' : 90, 'P_beta' : 30},\n",
    "              {'etr_IN_r' : 0.96, 'P_p_i' : 2, 'pv_type' : '結晶シリコン系以外', 'pv_setup' : 'その他', 'P_alpha' : 180, 'P_beta' : 60},\n",
    "              {'etr_IN_r' : 0.96, 'P_p_i' : 1, 'pv_type' : '結晶シリコン系以外', 'pv_setup' : 'その他', 'P_alpha' : 270, 'P_beta' : 90}]\n",
    "\n",
    "solrad = load_solrad(**spec)\n",
    "testcase1 = get_E_E_PV_d_t(panel_list, solrad)\n",
    "\n"
   ]
  },
  {
   "cell_type": "code",
   "execution_count": null,
   "metadata": {},
   "outputs": [],
   "source": [
    "test1_mean_hr = np.mean(testcase1.reshape(365,24), axis=0)\n",
    "test1_mean_day = np.mean(testcase1.reshape(365,24), axis=1)\n",
    "\n",
    "fig = plt.figure(figsize=(20,12))\n",
    "grh1 = fig.add_subplot(311)\n",
    "grh1.plot(testcase1)\n",
    "grh1.set_ylabel(\"kWh/h\")\n",
    "grh1.set_xlabel(\"hour\")\n",
    "\n",
    "grh1_day = fig.add_subplot(312)\n",
    "grh1_day.plot(test1_mean_day)\n",
    "grh1_day.set_ylabel(\"kWh/h\")\n",
    "grh1_day.set_xlabel(\"day\")\n",
    "\n",
    "grh1_hr = fig.add_subplot(313)\n",
    "grh1_hr.plot(test1_mean_hr)\n",
    "grh1_hr.set_ylabel(\"kWh/h\")\n",
    "grh1_hr.set_xlabel(\"hour\")\n",
    "plt.show()"
   ]
  },
  {
   "cell_type": "markdown",
   "metadata": {},
   "source": [
    "### 計算条件2"
   ]
  },
  {
   "cell_type": "code",
   "execution_count": null,
   "metadata": {},
   "outputs": [],
   "source": [
    "spec = {'region' : 3, 'sol_region' : 2}\n",
    "panel_list = [{'etr_IN_r' : 0.9, 'P_p_i' : 3, 'pv_type' : '結晶シリコン系', 'pv_setup' : '架台設置型', 'P_alpha' : 0, 'P_beta' : 0}]\n",
    "\n",
    "solrad = load_solrad(**spec)\n",
    "testcase2 = get_E_E_PV_d_t(panel_list, solrad)\n"
   ]
  },
  {
   "cell_type": "code",
   "execution_count": null,
   "metadata": {},
   "outputs": [],
   "source": [
    "test2_mean_hr = np.mean(testcase2.reshape(365,24), axis=0)\n",
    "test2_mean_day = np.mean(testcase2.reshape(365,24), axis=1)\n",
    "\n",
    "fig = plt.figure(figsize=(20,12))\n",
    "grh2 = fig.add_subplot(311)\n",
    "grh2.plot(testcase2)\n",
    "grh2.set_ylabel(\"kWh/h\")\n",
    "grh2.set_xlabel(\"hour\")\n",
    "\n",
    "grh2_day = fig.add_subplot(312)\n",
    "grh2_day.plot(test2_mean_day)\n",
    "grh2_day.set_ylabel(\"kWh/h\")\n",
    "grh2_day.set_xlabel(\"day\")\n",
    "\n",
    "grh2_hr = fig.add_subplot(313)\n",
    "grh2_hr.plot(test2_mean_hr)\n",
    "grh2_hr.set_ylabel(\"kWh/h\")\n",
    "grh2_hr.set_xlabel(\"hour\")\n",
    "plt.show()"
   ]
  },
  {
   "cell_type": "markdown",
   "metadata": {},
   "source": [
    "### 計算条件3"
   ]
  },
  {
   "cell_type": "code",
   "execution_count": null,
   "metadata": {},
   "outputs": [],
   "source": [
    "spec = {'region' : 3, 'sol_region' : 3}\n",
    "panel_list = [{'etr_IN_r' : 0.9, 'P_p_i' : 3, 'pv_type' : '結晶シリコン系', 'pv_setup' : '架台設置型', 'P_alpha' : 60, 'P_beta' : 45}]\n",
    "\n",
    "solrad = load_solrad(**spec)\n",
    "testcase3 = get_E_E_PV_d_t(panel_list, solrad)\n"
   ]
  },
  {
   "cell_type": "code",
   "execution_count": null,
   "metadata": {},
   "outputs": [],
   "source": [
    "test3_mean_hr = np.mean(testcase3.reshape(365,24), axis=0)\n",
    "test3_mean_day = np.mean(testcase3.reshape(365,24), axis=1)\n",
    "\n",
    "fig = plt.figure(figsize=(20,12))\n",
    "grh3 = fig.add_subplot(311)\n",
    "grh3.plot(testcase3)\n",
    "grh3.set_ylabel(\"kWh/h\")\n",
    "grh3.set_xlabel(\"hour\")\n",
    "\n",
    "grh3_day = fig.add_subplot(312)\n",
    "grh3_day.plot(test3_mean_day)\n",
    "grh3_day.set_ylabel(\"kWh/h\")\n",
    "grh3_day.set_xlabel(\"day\")\n",
    "\n",
    "grh3_hr = fig.add_subplot(313)\n",
    "grh3_hr.plot(test3_mean_hr)\n",
    "grh3_hr.set_ylabel(\"kWh/h\")\n",
    "grh3_hr.set_xlabel(\"hour\")\n",
    "plt.show()"
   ]
  },
  {
   "cell_type": "markdown",
   "metadata": {},
   "source": [
    "### 計算条件4"
   ]
  },
  {
   "cell_type": "code",
   "execution_count": null,
   "metadata": {},
   "outputs": [],
   "source": [
    "spec = {'region' : 6, 'sol_region' : 3}\n",
    "panel_list = [{'etr_IN_r' : 0.98, 'P_p_i' : 3, 'pv_type' : '結晶シリコン系', 'pv_setup' : '架台設置型', 'P_alpha' : 0, 'P_beta' : 0}]\n",
    "\n",
    "solrad = load_solrad(**spec)\n",
    "testcase4 = get_E_E_PV_d_t(panel_list, solrad)\n"
   ]
  },
  {
   "cell_type": "code",
   "execution_count": null,
   "metadata": {},
   "outputs": [],
   "source": [
    "test4_mean_hr = np.mean(testcase4.reshape(365,24), axis=0)\n",
    "test4_mean_day = np.mean(testcase4.reshape(365,24), axis=1)\n",
    "\n",
    "fig = plt.figure(figsize=(20,12))\n",
    "grh4 = fig.add_subplot(311)\n",
    "grh4.plot(testcase4)\n",
    "grh4.set_ylabel(\"kWh/h\")\n",
    "grh4.set_xlabel(\"hour\")\n",
    "\n",
    "grh4_day = fig.add_subplot(312)\n",
    "grh4_day.plot(test4_mean_day)\n",
    "grh4_day.set_ylabel(\"kWh/h\")\n",
    "grh4_day.set_xlabel(\"day\")\n",
    "\n",
    "grh4_hr = fig.add_subplot(313)\n",
    "grh4_hr.plot(test4_mean_hr)\n",
    "grh4_hr.set_ylabel(\"kWh/h\")\n",
    "grh4_hr.set_xlabel(\"hour\")\n",
    "plt.show()"
   ]
  },
  {
   "cell_type": "markdown",
   "metadata": {},
   "source": [
    "### 計算条件5"
   ]
  },
  {
   "cell_type": "code",
   "execution_count": null,
   "metadata": {},
   "outputs": [],
   "source": [
    "spec = {'region' : 6, 'sol_region' : 4}\n",
    "panel_list = [{'etr_IN_r' : 0.98, 'P_p_i' : 3, 'pv_type' : '結晶シリコン系', 'pv_setup' : '架台設置型', 'P_alpha' : 60, 'P_beta' : 90}]\n",
    "\n",
    "solrad = load_solrad(**spec)\n",
    "testcase5 = get_E_E_PV_d_t(panel_list, solrad)\n"
   ]
  },
  {
   "cell_type": "code",
   "execution_count": null,
   "metadata": {},
   "outputs": [],
   "source": [
    "test5_mean_hr = np.mean(testcase5.reshape(365,24), axis=0)\n",
    "test5_mean_day = np.mean(testcase5.reshape(365,24), axis=1)\n",
    "\n",
    "fig = plt.figure(figsize=(20,12))\n",
    "grh5 = fig.add_subplot(311)\n",
    "grh5.plot(testcase5)\n",
    "grh5.set_ylabel(\"kWh/h\")\n",
    "grh5.set_xlabel(\"hour\")\n",
    "\n",
    "grh5_day = fig.add_subplot(312)\n",
    "grh5_day.plot(test5_mean_day)\n",
    "grh5_day.set_ylabel(\"kWh/h\")\n",
    "grh5_day.set_xlabel(\"day\")\n",
    "\n",
    "grh5_hr = fig.add_subplot(313)\n",
    "grh5_hr.plot(test5_mean_hr)\n",
    "grh5_hr.set_ylabel(\"kWh/h\")\n",
    "grh5_hr.set_xlabel(\"hour\")\n",
    "plt.show()"
   ]
  },
  {
   "cell_type": "markdown",
   "metadata": {},
   "source": [
    "### 比較"
   ]
  },
  {
   "cell_type": "code",
   "execution_count": null,
   "metadata": {},
   "outputs": [],
   "source": [
    "dat = {\"testcase1\":sum(testcase1),\"testcase2\" : sum(testcase2), \"testcase3\" : sum(testcase3), \"testcase4\" : sum(testcase4), \n",
    "       \"testcase5\" : sum(testcase5)}\n",
    "xx = list(dat.keys())\n",
    "yy = list(dat.values())\n",
    "\n",
    "fig = plt.figure(figsize=(20,4))\n",
    "axt = fig.add_subplot(111)\n",
    "axt.barh(xx,yy)\n",
    "axt.set_xlabel(\"kWh/a\")\n",
    "plt.show()\n"
   ]
  },
  {
   "cell_type": "code",
   "execution_count": null,
   "metadata": {},
   "outputs": [],
   "source": [
    "dat_hr = {\"testcase1_hr\" : test1_mean_hr, \"testcase2_hr\" : test2_mean_hr, \"testcase3_hr\" : test3_mean_hr, \n",
    "          \"testcase4_hr\" : test4_mean_hr, \"testcase5_hr\" : test5_mean_hr}\n",
    "xx_hr = list(dat_hr.keys())\n",
    "\n",
    "dat_day = {\"testcase1_day\" : test1_mean_day, \"testcase2_day\" : test2_mean_day, \"testcase3_day\" : test3_mean_day,\n",
    "          \"testcase4_day\" : test4_mean_day, \"testcase5_day\" : test5_mean_day}\n",
    "xx_day = list(dat_day.keys())\n",
    "\n",
    "fig = plt.figure(figsize=(20,8))\n",
    "ax_hr = fig.add_subplot(211)\n",
    "ax_day = fig.add_subplot(212)\n",
    "\n",
    "for k in dat_hr.keys():\n",
    "    ax_hr.plot(dat_hr[k])\n",
    "    \n",
    "ax_hr.legend(xx_hr)\n",
    "ax_hr.set_ylabel(\"kWh/h\")\n",
    "ax_hr.set_xlabel(\"hour\")\n",
    "\n",
    "for k in dat_day.keys():\n",
    "    ax_day.plot(dat_day[k])\n",
    "\n",
    "ax_day.legend(xx_hr)\n",
    "ax_day.set_ylabel(\"kWh/h\")\n",
    "ax_day.set_xlabel(\"day\")\n",
    "plt.show()\n"
   ]
  }
 ],
 "metadata": {
  "kernelspec": {
   "display_name": "Python 3",
   "language": "python",
   "name": "python3"
  },
  "language_info": {
   "codemirror_mode": {
    "name": "ipython",
    "version": 3
   },
   "file_extension": ".py",
   "mimetype": "text/x-python",
   "name": "python",
   "nbconvert_exporter": "python",
   "pygments_lexer": "ipython3",
   "version": "3.6.6"
  }
 },
 "nbformat": 4,
 "nbformat_minor": 2
}
