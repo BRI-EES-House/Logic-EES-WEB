{
 "cells": [
  {
   "cell_type": "markdown",
   "metadata": {},
   "source": [
    "使用許諾条件\n",
    "\n",
    "①\t設計一次エネルギー消費量算定法に基づく計算方法をPythonによりコーディングし、Jupyter notebook形式で保存したファイル（以下、本ファイルと呼ぶ）の著作権は、一般社団法人日本サステナブル建築協会に帰属します。\n",
    "Copyright©2019. 一般社団法人日本サステナブル建築協会\n",
    "All rights reserved. \n",
    "\n",
    "②\t本ファイルは、住戸の設計一次エネルギー消費量算定方法に係る「平成28年省エネルギー基準に準拠したエネルギー消費性能の評価に関する技術情報（住宅）2.1算定方法（第四章第七節 温水暖房）」に示す計算方法に基づき、国土交通省国土技術政策総合研究所・国立研究開発法人建築研究所、株式会社ユーワークス、株式会社住環境計画研究所が作成したものです。\n",
    "\n",
    "③\t本ファイルは、計算方法に示す計算過程の確認及び調査研究等に活用することを目的として作成されたものであり、一般社団法人日本サステナブル建築協会は著作権について放棄はしませんが、使用する各人の自己責任において仕様を変更することを妨げるものではありません。ただし、本ファイルによる計算結果を住宅の省エネルギー基準で規定する設計一次エネルギー消費量の結果として公的な申請に用いることはできません。\n",
    "\n",
    "④\t本ファイルを変更するかしないかを問わず、以下の条件を満たす場合に限り、頒布および使用が許可されます。\n",
    "1.\t頒布物の付属ドキュメント等の資料に、上記の著作権表示、本条件一覧、および下記免責条項を含めること。\n",
    "2.\t書面による特別の許可なしに、本ファイルから派生した製品の宣伝または販売の促進に、一般社団法人日本サステナブル建築協会、国土技術政策総合研究所・国立研究開発法人建築研究所および株式会社ユーワークス、株式会社住環境計画研究所の名前またはコントリビューターの名前を使用してはならない。\n",
    "\n",
    "⑤\t本ファイルは、著作権者およびコントリビューターによって「現状のまま」提供されており、明示黙示を問わず、商業的な使用可能性、および特定の目的に対する適合性に関する暗黙の保証も含め、またそれに限定されない、いかなる保証もありません。著作権もコントリビューターも、事由のいかんを問わず、損害発生の原因いかんを問わず、かつ責任の根拠が契約であるか厳格責任であるか（過失その他の）不法行為であるかを問わず、仮にそのような損害が発生する可能性を知らされていたとしても、本ファイルの使用によって発生した（代用品または代用サービスの調達、使用の喪失、データの喪失、利益の喪失、業務の中断も含め、またそれに限定されない）直接損害、間接損害、偶発的な損害、特別損害、懲罰的損害、または結果損害について、一切の責任を負わないものとします。\n",
    "\n"
   ]
  },
  {
   "cell_type": "code",
   "execution_count": null,
   "metadata": {},
   "outputs": [],
   "source": [
    "import nbimporter\n",
    "import numpy as np\n",
    "from s04_07_common import get_Q_out_H_hs_d_t"
   ]
  },
  {
   "cell_type": "markdown",
   "metadata": {},
   "source": [
    "## 付録E　電気ヒートポンプ・ガス瞬間式併用型給湯温水暖房機（給湯熱源：ガス瞬間式、暖房熱源：電気ヒートポンプ・ガス瞬間式併用） / Appendix E Electric heat pump, gas moment type combined hot water supply hot water heater (hot water supply heat source: gas moment type, heating heat source: electric heat pump, gas moment type combined use)"
   ]
  },
  {
   "cell_type": "markdown",
   "metadata": {},
   "source": [
    "### E.1 記号及び単位 / Symbol and unit"
   ]
  },
  {
   "cell_type": "markdown",
   "metadata": {},
   "source": [
    "省略"
   ]
  },
  {
   "cell_type": "markdown",
   "metadata": {},
   "source": [
    "ommision"
   ]
  },
  {
   "cell_type": "markdown",
   "metadata": {},
   "source": [
    "### E.2 エネルギー消費量 / Energy consumption"
   ]
  },
  {
   "cell_type": "markdown",
   "metadata": {},
   "source": [
    "#### E.2.1 消費電力量 / Power consumption"
   ]
  },
  {
   "cell_type": "markdown",
   "metadata": {},
   "source": [
    "1 時間当たりの熱源機の消費電力量$E_{E,hs}$は、1 時間当たりの熱源機の暖房出力$Q_{out,hs}$が0の場合は0とする。"
   ]
  },
  {
   "cell_type": "markdown",
   "metadata": {},
   "source": [
    "The power consumption $ E_{E, hs} $ of the heat source unit per hour is 0 when the heating output $ Q_{out, hs} $ of the heat source unit per hour is 0."
   ]
  },
  {
   "cell_type": "markdown",
   "metadata": {},
   "source": [
    "$$\\large\n",
    "E_{E,hs} = E_{E,HPU} + E_{E,GU,aux} + E_{E,TU,aux}\n",
    "$$"
   ]
  },
  {
   "cell_type": "markdown",
   "metadata": {},
   "source": [
    "$E_{E,hs}$：1 時間当たりの熱源機の消費電力量(kWh/h) / Power consumption of heat source unit per hour  \n",
    "$E_{E,HPU}$：1 時間当たりのヒートポンプユニットの消費電力量(kWh/h) / Power consumption of heat pump unit per hour  \n",
    "$E_{E,GU,aux}$：1 時間当たりのガスユニットの補機の消費電力量(kWh/h) / Power consumption of gas unit accessories per hour  \n",
    "$E_{E,TU,aux}$：1 時間当たりのタンクユニットの補機の消費電力量(kWh/h) / Power consumption of tank unit accessories per hour  "
   ]
  },
  {
   "cell_type": "code",
   "execution_count": null,
   "metadata": {},
   "outputs": [],
   "source": [
    "def calc_E_E_hs(Q_dmd_H_hs_d_t, Theta_ex, Theta_RW_hs, h_ex, Theta_SW_d_t, TU_place):\n",
    "    \"\"\" 1時間当たりの熱源機の消費電力量 (1)\n",
    "\n",
    "    :param Q_dmd_H_hs_d_t: 1時間当たりの熱源機の熱需要 (MJ/h)\n",
    "    :type Q_dmd_H_hs_d_t: ndarray\n",
    "    :param Theta_ex: 外気温度\n",
    "    :type Theta_ex: ndarray float\n",
    "    :param Theta_RW_hs: 1時間平均の熱源機の戻り温水温度 (℃)\n",
    "    :type Theta_RW_hs: ndarray\n",
    "    :param h_ex: 外気相対湿度\n",
    "    :type h_ex: ndarray\n",
    "    :param Theta_SW_d_t: 往き温水温度 (℃)\n",
    "    :type Theta_SW_d_t: ndarray\n",
    "    :param TU_place: タンクユニットの設置場所\n",
    "    :type TU_place: str\n",
    "    :return: 1時間当たりの熱源機の消費電力量\n",
    "    :rtype: ndarray\n",
    "    \"\"\"\n",
    "    # ---------- タンクユニット周囲の空気温度 ----------\n",
    "\n",
    "    # 1時間平均のタンクユニットの周囲空気温度 (℃) (23)\n",
    "    Theta_TU_amb = calc_Theta_TU_amb(Theta_ex, TU_place)\n",
    "\n",
    "    # ---------- 熱源機の平均暖房出力及び熱源機最大暖房出力 ----------\n",
    "\n",
    "    # ガスユニットの定格暖房能力 (W)\n",
    "    q_GU_rtd = get_q_GU_rtd()\n",
    "\n",
    "    # 1時間当たりの熱源機の最大暖房出力 (MJ/h) (22)\n",
    "    Q_max_hs = get_Q_max_hs(q_GU_rtd)\n",
    "\n",
    "    # 1時間当たりの温水暖房用熱源機の暖房出力 (MJ/h)\n",
    "    Q_out_hs = get_Q_out_H_hs_d_t(Q_dmd_H_hs_d_t, Q_max_hs)\n",
    "\n",
    "    # 1時間平均の熱源機の暖房出力 (W) (21)\n",
    "    q_out_hs = get_q_out_hs(Q_out_hs)\n",
    "\n",
    "    # ----------- 暖房出力分担率 -----------\n",
    "\n",
    "    # ヒートポンプ最大運転時のヒートポンプユニット運転時のガスユニットの熱損失 (W) (20)\n",
    "    q_dash_GU_loss_HPU = calc_q_dash_GU_loss_HPU(Theta_SW_d_t, Theta_TU_amb)\n",
    "\n",
    "    # ヒートポンプ最大運転時のタンクユニットのタンクの熱損失 (W) (19)\n",
    "    q_dash_TU_tank_loss = calc_q_dash_TU_tank_loss(Theta_TU_amb)\n",
    "\n",
    "    # タンクユニットのヒートポンプ配管の熱損失 (W) (18)\n",
    "    q_dash_TU_pipe_loss = calc_q_dash_TU_pipe_loss(Theta_SW_d_t, Theta_ex)\n",
    "\n",
    "    # ヒートポンプユニットの最大暖房出力 (W) (17)\n",
    "    q_HPU_max = calc_q_HPU_max(Theta_ex, Theta_RW_hs)\n",
    "\n",
    "    # ヒートポンプユニットの暖房出力分担率 (-) (16)\n",
    "    r_HPU = get_r_HPU(q_HPU_max, q_dash_TU_tank_loss, q_dash_TU_pipe_loss, q_out_hs, q_dash_GU_loss_HPU)\n",
    "\n",
    "    # ガスユニットの暖房出力分担率 (-) (15)\n",
    "    r_GU = get_r_GU(r_HPU)\n",
    "\n",
    "    # ---------- ガスユニットのガス消費量 ----------\n",
    "\n",
    "    # 1時間平均のガスユニットのガス消費量 (W) (14b)\n",
    "    q_G_GU = calc_q_G_GU(q_out_hs, Theta_SW_d_t)\n",
    "\n",
    "    # ---------- ガスユニットの補機の消費電力 ----------\n",
    "\n",
    "    # 1時間当たりのガスユニットの補機の消費電力 (kWh/h) (13)\n",
    "    E_E_GU_aux = calc_E_E_GU_aux(q_G_GU, r_HPU, r_GU)\n",
    "\n",
    "    # ---------- ヒートポンプユニットの暖房出力 ----------\n",
    "\n",
    "    # 熱源機のヒートポンプユニット分断暖房出力 (MJ/h) (12)\n",
    "    Q_out_hs_HPU = get_Q_out_hs_HPU(Q_out_hs, r_HPU)\n",
    "\n",
    "    # ヒートポンプユニット運転時のガスユニットの熱損失 (MJ/h) (11)\n",
    "    Q_GU_loss_HPU = calc_Q_GU_loss_HPU(Theta_SW_d_t, Theta_TU_amb, r_HPU)\n",
    "\n",
    "    # 1時間平均のヒートポンプユニットの出湯温度 (℃)\n",
    "    Theta_HPU_out = get_Theta_HPU_out(r_HPU, Theta_SW_d_t)\n",
    "\n",
    "    # タンクユニットのタンクの熱損失 (MJ/h) (10)\n",
    "    Q_TU_tank_loss = calc_Q_TU_tank_loss(Theta_HPU_out, Theta_TU_amb)\n",
    "\n",
    "    # タンクユニットのヒートポンプ配管の熱損失 (MJ/h) (9)\n",
    "    Q_TU_pipe_loss = calc_Q_TU_pipe_loss(Theta_SW_d_t, Theta_ex)\n",
    "\n",
    "    # ヒートポンプユニットの暖房出力 (MJ/h) (8)\n",
    "    Q_HPU = get_Q_HPU(Q_out_hs_HPU, Q_GU_loss_HPU, Q_TU_tank_loss, Q_TU_pipe_loss)\n",
    "\n",
    "    # ---------- ヒートポンプユニットの消費電力量 ----------\n",
    "\n",
    "    # ヒートポンプユニットの平均暖房出力,最小暖房出力 (6)(7)\n",
    "    q_HPU_ave = get_q_HPU_ave(Q_HPU)\n",
    "    q_HPU_min = get_q_HPU_min(Theta_ex, Theta_RW_hs, Theta_HPU_out)\n",
    "\n",
    "    # 1時間平均のヒートポンプユニットの断続運転率 (-) (5)\n",
    "    r_intmit = get_r_intmit(q_HPU_ave, q_HPU_min)\n",
    "\n",
    "    # 1時間当たりのヒートポンプユニットの消費電力量 (kWh/h) (4)\n",
    "    E_E_HPU = calc_E_E_HPU(q_HPU_ave, q_HPU_min, Theta_ex, h_ex, Theta_RW_hs, Theta_HPU_out)\n",
    "\n",
    "    # ---------- タンクユニットの補機消費電力量 ----------\n",
    "\n",
    "    # 1時間当たりのタンクユニットの補機の消費電力量 (kWh/h) (3)\n",
    "    E_E_TU_aux = calc_E_E_TU_aux(r_intmit)\n",
    "\n",
    "    # ---------- 熱源機の消費電力量 ----------\n",
    "\n",
    "    # 1時間当たりの熱源機の消費電力量 (kWh/h) (1)\n",
    "    E_E_hs = E_E_HPU + E_E_GU_aux + E_E_TU_aux\n",
    "    E_E_hs[Q_out_hs == 0] = 0\n",
    "\n",
    "    return E_E_hs"
   ]
  },
  {
   "cell_type": "markdown",
   "metadata": {},
   "source": [
    "#### E.2.2 ガス消費量 / Gas consumption"
   ]
  },
  {
   "cell_type": "markdown",
   "metadata": {},
   "source": [
    "1 時間当たりの熱源機のガス消費量$E_{G,hs}$は、1 時間当たりの熱源機の暖房出力$Q_{out,hs}$が0の場合は0とする。"
   ]
  },
  {
   "cell_type": "markdown",
   "metadata": {},
   "source": [
    "The gas consumption $ E_ {G, hs} $ of the heat source unit per hour is 0 when the heating output $ Q_ {out, hs} $ of the heat source unit per hour is 0."
   ]
  },
  {
   "cell_type": "markdown",
   "metadata": {},
   "source": [
    "$$\\large\n",
    "E_{G,hs} = E_{G,GU}\n",
    "$$"
   ]
  },
  {
   "cell_type": "markdown",
   "metadata": {},
   "source": [
    "$E_{G,hs}$：1 時間当たりの熱源機のガス消費量(MJ/h) / Gas consumption of heat source unit per hour  \n",
    "$E_{G,GU}$：1 時間当たりのガスユニットのガス消費量(MJ/h) / Gas unit gas consumption per hour  "
   ]
  },
  {
   "cell_type": "code",
   "execution_count": null,
   "metadata": {},
   "outputs": [],
   "source": [
    "def calc_E_G_hs(Theta_ex, Theta_SW_d_t, Theta_RW_hs, TU_place, Q_dmd_H_hs_d_t):\n",
    "    \"\"\" 熱源機のガス消費量 (2)\n",
    "\n",
    "    :param Theta_ex: 外気温度（℃）\n",
    "    :type Theta_ex: ndarray\n",
    "    :param Theta_SW_d_t: 往き温水温度 (℃)\n",
    "    :type Theta_SW_d_t: ndarray\n",
    "    :param Theta_RW_hs: 1時間平均の熱源機の戻り温水温度 (℃)\n",
    "    :type Theta_RW_hs: ndarray\n",
    "    :param TU_place: タンクユニットの設置場所\n",
    "    :type TU_place: str\n",
    "    :param Q_dmd_H_hs_d_t: 1時間当たりの熱源機の熱需要 (MJ/h)\n",
    "    :type Q_dmd_H_hs_d_t: ndarray\n",
    "    :return: 熱源機のガス消費量\n",
    "    :rtype: ndarray\n",
    "    \"\"\"\n",
    "    # タンクユニットの周囲空気温度 (℃) (23)\n",
    "    Theta_TU_amb = calc_Theta_TU_amb(Theta_ex, TU_place)\n",
    "\n",
    "    # ガスユニットの定格暖房能力 (W)\n",
    "    q_GU_rtd = get_q_GU_rtd()\n",
    "\n",
    "    # 熱源機の最大暖房出力 (22)\n",
    "    Q_max_hs = get_Q_max_hs(q_GU_rtd)\n",
    "\n",
    "    # 温水暖房用熱源機の暖房出力\n",
    "    Q_out_hs = get_Q_out_H_hs_d_t(Q_dmd_H_hs_d_t, Q_max_hs)\n",
    "\n",
    "    # 熱源機の暖房出力 (21)\n",
    "    q_out_hs = get_q_out_hs(Q_out_hs)\n",
    "\n",
    "    # ヒートポンプ最大運転時のヒートポンプユニット運転時のガスユニットの熱損失 (20)\n",
    "    q_dash_GU_loss_HPU = calc_q_dash_GU_loss_HPU(Theta_SW_d_t, Theta_TU_amb)\n",
    "\n",
    "    # ヒートポンプ最大運転時のタンクユニットのタンクの熱損失 (19)\n",
    "    q_dash_TU_tank_loss = calc_q_dash_TU_tank_loss(Theta_TU_amb)\n",
    "\n",
    "    # タンクユニットのヒートポンプ配管の熱損失 (18)\n",
    "    q_dash_TU_pipe_loss = calc_q_dash_TU_pipe_loss(Theta_SW_d_t, Theta_ex)\n",
    "\n",
    "    # ヒートポンプユニットの最大暖房出力 (17)\n",
    "    q_HPU_max = calc_q_HPU_max(Theta_ex, Theta_RW_hs)\n",
    "\n",
    "    # ヒートポンプユニットの暖房出力分担率 (16)\n",
    "    r_HPU = get_r_HPU(q_HPU_max, q_dash_TU_tank_loss, q_dash_TU_pipe_loss, q_out_hs, q_dash_GU_loss_HPU)\n",
    "\n",
    "    # ガスユニットの暖房出力分担率 (15)\n",
    "    r_GU = get_r_GU(r_HPU)\n",
    "\n",
    "    # ガスユニットのガス消費量 (14a)\n",
    "    E_G_hs = calc_E_G_GU(r_GU, q_out_hs, Theta_SW_d_t)\n",
    "    E_G_hs[Q_out_hs == 0] = 0\n",
    "\n",
    "    return E_G_hs"
   ]
  },
  {
   "cell_type": "markdown",
   "metadata": {},
   "source": [
    "#### E.2.3 灯油消費量 / Kerosene consumption"
   ]
  },
  {
   "cell_type": "markdown",
   "metadata": {},
   "source": [
    "1 時間当たりの熱源機の灯油消費量$E_{K,hs}$は0とする。 "
   ]
  },
  {
   "cell_type": "markdown",
   "metadata": {},
   "source": [
    "The kerosene consumption $ E_ {K, hs} $ of the heat source machine per hour is 0."
   ]
  },
  {
   "cell_type": "code",
   "execution_count": null,
   "metadata": {},
   "outputs": [],
   "source": [
    "def get_E_K_hs():\n",
    "    \"\"\" 熱源機の灯油消費量\n",
    "\n",
    "    :return: 熱源機の灯油消費量\n",
    "    :rtype: ndarray\n",
    "    \"\"\"\n",
    "    return np.zeros(24 * 365)\n"
   ]
  },
  {
   "cell_type": "markdown",
   "metadata": {},
   "source": [
    "#### E.2.4 その他の燃料の一次エネルギー消費量 / Primary energy consumption of other fuels"
   ]
  },
  {
   "cell_type": "markdown",
   "metadata": {},
   "source": [
    "1 時間当たりの熱源機のその他の燃料の一次エネルギー消費量$E_{M,hs}$は0とする。 "
   ]
  },
  {
   "cell_type": "markdown",
   "metadata": {},
   "source": [
    "Primary energy consumption $ E_{M, hs} $ of the other fuels of the heat source unit per hour is assumed to be zero."
   ]
  },
  {
   "cell_type": "code",
   "execution_count": null,
   "metadata": {},
   "outputs": [],
   "source": [
    "def get_E_M_hs():\n",
    "    \"\"\" 熱源機のその他の燃料の一次エネルギー消費量\n",
    "\n",
    "    :return: 熱源機のその他の燃料の一次エネルギー消費量\n",
    "    :rtype: ndarray\n",
    "    \"\"\"\n",
    "    return np.zeros(24 * 365)\n"
   ]
  },
  {
   "cell_type": "markdown",
   "metadata": {},
   "source": [
    "### E.3 消費電力量及びガス消費量 / Power consumption and gas consumption"
   ]
  },
  {
   "cell_type": "markdown",
   "metadata": {},
   "source": [
    "#### E.3.1 タンクユニットの補機消費電力量 / Auxiliary power consumption of tank unit"
   ]
  },
  {
   "cell_type": "markdown",
   "metadata": {},
   "source": [
    "$$\\large\n",
    "E_{E,TU,aux} = P_{TU,aux} \\times 10^{-3}\n",
    "$$\n",
    "\n",
    "$$\\large\n",
    "P_{TU,aux} = f_{TU,P,aux} (r_{intmit})\n",
    "$$"
   ]
  },
  {
   "cell_type": "markdown",
   "metadata": {},
   "source": [
    "$P_{TU,aux}$：1 時間平均のタンクユニットの補機の消費電力(W) / Power consumption of 1 hour average tank unit accessories  \n",
    "$r_{intmit}$：1 時間平均のヒートポンプユニットの断続運転率 / Intermittent operation rate of heat pump unit with one hour average"
   ]
  },
  {
   "cell_type": "code",
   "execution_count": null,
   "metadata": {},
   "outputs": [],
   "source": [
    "def calc_E_E_TU_aux(r_intmit):\n",
    "    \"\"\" 1時間当たりのタンクユニットの補機消費電力量 (3)\n",
    "\n",
    "    :param r_intmit: 1時間平均のヒートポンプユニットの断続運転率\n",
    "    :type r_intmit: ndarray\n",
    "    :return: 1時間当たりのタンクユニットの補機消費電力量 (3)\n",
    "    :rtype: ndarray\n",
    "    \"\"\"\n",
    "    # 1時間平均のタンクユニットの補機の消費電力 (3b)\n",
    "    P_TU_aux = f_TU_P_aux(r_intmit)\n",
    "\n",
    "    # タンクユニットの補機消費電力量 (3a)\n",
    "    E_E_TU_aux = P_TU_aux * 10 ** (-3)\n",
    "\n",
    "    return E_E_TU_aux"
   ]
  },
  {
   "cell_type": "markdown",
   "metadata": {},
   "source": [
    "#### E.3.2 ヒートポンプユニットの消費電力量 / Power consumption of heat pump unit"
   ]
  },
  {
   "cell_type": "markdown",
   "metadata": {},
   "source": [
    "$q_{HPU,ave} \\geq q_{HPU,min} $ の場合（連続運転の場合）"
   ]
  },
  {
   "cell_type": "markdown",
   "metadata": {},
   "source": [
    "In the case of $q_{HPU,ave} \\geq q_{HPU,min} $ (in the case o continuous operation)"
   ]
  },
  {
   "cell_type": "markdown",
   "metadata": {},
   "source": [
    "$$\\large\n",
    "E_{E,HPU} = P_{HPU,ctn} \\times 10^{-3}\n",
    "$$\n",
    "\n",
    "$$\\large\n",
    "P_{HPU,ctn} = f_{HPU,P} (\\theta_{ex}, h_{ex}, \\theta_{RW,hs}, \\theta_{HPU,out}, q_{HPU,ave})\n",
    "$$"
   ]
  },
  {
   "cell_type": "markdown",
   "metadata": {},
   "source": [
    "$q_{HPU,ave} < q_{HPU,min} $ の場合（断続運転の場合）"
   ]
  },
  {
   "cell_type": "markdown",
   "metadata": {},
   "source": [
    "In the case of $q_{HPU,ave} < q_{HPU,min} $ (in the case of intermittent operation)"
   ]
  },
  {
   "cell_type": "markdown",
   "metadata": {},
   "source": [
    "$$\\large\n",
    "E_{E,HPU} = \\frac{q_{HPU,ave}}{\\frac{q_{HPU,min}}{P_{HPU,min}} \\times (1 - CD \\times (1 - r_{intmit}))} \\times 10^{-3}\n",
    "$$\n",
    "\n",
    "$$\\large\n",
    "P_{HPU,min} = f_{HPU,P} (\\theta_{ex}, h_{ex}, \\theta_{RW,hs}, \\theta_{HPU,out}, q_{HPU,min})\n",
    "$$"
   ]
  },
  {
   "cell_type": "markdown",
   "metadata": {},
   "source": [
    "$q_{HPU,ave}$：1 時間平均のヒートポンプユニットの暖房出力(W) / Heating output of heat pump unit of 1 hour average  \n",
    "$q_{HPU,min}$：1 時間平均のヒートポンプユニットの最小暖房出力(W) / 1 hour average heat pump unit minimum heating output  \n",
    "$P_{HPU,ctn}$：1 時間平均の連続運転時のヒートポンプユニットの消費電力(W) / Power consumption of the heat pump unit during one hour average continuous operation  \n",
    "$P_{HPU,min}$：1 時間平均のヒートポンプユニットの最小消費電力(W) / 1 hour average heat pump unit minimum power consumption  \n",
    "$\\theta_{ex}$：1 時間平均の外気温度(℃) / 1 hour average outside temperature  \n",
    "$h_{ex}$：1 時間平均の外気相対湿度(％) / 1 hour average ambient air relative humidity  \n",
    "$\\theta_{RW,hs}$：1 時間平均の熱源機の戻り温水温度(℃) / One hour average return hot water temperature of heat source machine  \n",
    "$\\theta_{HPU,out}$：1 時間平均のヒートポンプユニットの出湯温度(℃) / 1 hour average hot water outlet temperature of heat pump unit  \n",
    "$CD$：CD 値 / CD value  \n",
    "$r_{intmit}$：ヒートポンプユニットの 1 時間平均の断続運転率 / One hour average intermittent operation rate of heat pump unit"
   ]
  },
  {
   "cell_type": "markdown",
   "metadata": {},
   "source": [
    "CD値は0.23とする。"
   ]
  },
  {
   "cell_type": "markdown",
   "metadata": {},
   "source": [
    "The CD value is 0.23."
   ]
  },
  {
   "cell_type": "code",
   "execution_count": null,
   "metadata": {},
   "outputs": [],
   "source": [
    "def calc_E_E_HPU(q_HPU_ave, q_HPU_min, Theta_ex, h_ex, Theta_RW_hs, Theta_HPU_out):\n",
    "    \"\"\" 1時間当たりのヒートポンプユニットの消費電力量 (4)\n",
    "\n",
    "    :param q_HPU_ave: 1時間平均のヒートポンプユニットの暖房出力 (W)\n",
    "    :type q_HPU_ave: ndarray\n",
    "    :param q_HPU_min: 1時間平均のヒートポンプユニットの最小暖房出力 (W)\n",
    "    :type q_HPU_min: ndarray\n",
    "    :param Theta_ex: 1時間平均の外気温度 (℃)\n",
    "    :type Theta_ex: ndarray\n",
    "    :param h_ex: 1時間平均の外気相対湿度 (%)\n",
    "    :type h_ex: ndarray\n",
    "    :param Theta_RW_hs: 1時間平均の熱源機の戻り温水温度 (℃)\n",
    "    :type Theta_RW_hs: ndarray\n",
    "    :param Theta_HPU_out: 1時間平均のヒートポンプユニットの出湯温度 (℃)\n",
    "    :type Theta_HPU_out: ndarray\n",
    "    :return: 1時間当たりのヒートポンプユニットの消費電力量 (4)\n",
    "    :rtype: ndarray\n",
    "    \"\"\"\n",
    "    # E_E_HPU の作業領域を確保\n",
    "    E_E_HPU = np.zeros(24 * 365)\n",
    "\n",
    "    # ==== 連続運転の場合 ====\n",
    "    f_ctn = q_HPU_ave >= q_HPU_min\n",
    "\n",
    "    # 1時間平均の連続運転時のヒートポンプユニットの消費電力 (W) (4a-2)\n",
    "    P_HPU_ctn = f_HPU_p(Theta_ex, h_ex, Theta_RW_hs, Theta_HPU_out, q_HPU_ave)\n",
    "\n",
    "    # 1時間当たりのヒートポンプユニットの消費電力量 (kW) (4a-1)\n",
    "    E_E_HPU[f_ctn] = P_HPU_ctn[f_ctn] * 10 ** (-3)\n",
    "\n",
    "    # ==== 断続運転の場合 ====\n",
    "    f_intmit = q_HPU_ave < q_HPU_min\n",
    "\n",
    "    # 1時間平均のヒートポンプユニットの断続運転率 (5)\n",
    "    r_intmit = get_r_intmit(q_HPU_ave, q_HPU_min)\n",
    "\n",
    "    # 1時間平均のヒートポンプユニットの最小消費電力 (kW) (4b-2)\n",
    "    P_HPU_min = f_HPU_p(Theta_ex, h_ex, Theta_RW_hs, Theta_HPU_out, q_HPU_min)\n",
    "\n",
    "    # 1時間当たりのヒートポンプユニットの消費電力量 (kW) (4b-1)\n",
    "    CD = 0.23\n",
    "    E_E_HPU[f_intmit] = q_HPU_ave[f_intmit] / (\n",
    "            q_HPU_min[f_intmit] / P_HPU_min[f_intmit] * (1 - CD * (1 - r_intmit[f_intmit]))) * 10 ** (-3)\n",
    "\n",
    "    return E_E_HPU"
   ]
  },
  {
   "cell_type": "markdown",
   "metadata": {},
   "source": [
    "1 時間平均のヒートポンプユニットの断続運転率$r_{intmit}$は、1.0を超えない。"
   ]
  },
  {
   "cell_type": "markdown",
   "metadata": {},
   "source": [
    "The intermittent operation rate $ r_{intmit} $ of the 1 hour average heat pump unit does not exceed 1.0."
   ]
  },
  {
   "cell_type": "markdown",
   "metadata": {},
   "source": [
    "$$\\large\n",
    "r_{intmit} = \\frac{q_{HPU,ave}}{q_{HPU,min}}\n",
    "$$"
   ]
  },
  {
   "cell_type": "markdown",
   "metadata": {},
   "source": [
    "$q_{HPU,ave}$：1 時間平均のヒートポンプユニットの暖房出力(W) / Heating output of heat pump unit of 1 hour average  \n",
    "$q_{HPU,min}$：1 時間平均のヒートポンプユニットの最小暖房出力(W) / 1 hour average heat pump unit minimum heating output  "
   ]
  },
  {
   "cell_type": "code",
   "execution_count": null,
   "metadata": {},
   "outputs": [],
   "source": [
    "def get_r_intmit(q_HPU_ave, q_HPU_min):\n",
    "    \"\"\" 1時間平均のヒートポンプユニットの断続運転率 (5)\n",
    "\n",
    "    :param q_HPU_ave: 1時間平均のヒートポンプユニットの平均暖房出力 (W)\n",
    "    :type q_HPU_ave: ndarray\n",
    "    :param q_HPU_min: 1時間平均のヒートポンプユニットの最小暖房出力 (W)\n",
    "    :type q_HPU_min: ndarray\n",
    "    :return: 1時間平均のヒートポンプユニットの断続運転率 (5)\n",
    "    :rtype: ndarray\n",
    "    \"\"\"\n",
    "    r_intmit = np.clip(q_HPU_ave / q_HPU_min, None, 1.0)\n",
    "    return r_intmit"
   ]
  },
  {
   "cell_type": "markdown",
   "metadata": {},
   "source": [
    "$$\\large\n",
    "q_{HPU,min} = f_{HPU,q,min} (\\theta_{ex}, \\theta_{RW,hs}, \\theta_{HPU,out})\n",
    "$$"
   ]
  },
  {
   "cell_type": "markdown",
   "metadata": {},
   "source": [
    "$\\theta_{ex}$：1 時間平均の外気温度(℃) / 1 hour average outside temperature  \n",
    "$\\theta_{RW,hs}$：1 時間平均の熱源機の戻り温水温度(℃) / One hour average return hot water temperature of heat source machine  \n",
    "$\\theta_{HPU,out}$：1 時間平均のヒートポンプユニットの出湯温度(℃) / 1 hour average hot water outlet temperature of heat pump unit  "
   ]
  },
  {
   "cell_type": "code",
   "execution_count": null,
   "metadata": {},
   "outputs": [],
   "source": [
    "def get_q_HPU_min(Theta_ex, Theta_RW_hs, Theta_HPU_out):\n",
    "    \"\"\" 1時間平均のヒートポンプユニットの最小暖房出力 (6)\n",
    "\n",
    "    :param Theta_ex:  1時間平均の外気温度 (℃)\n",
    "    :type Theta_ex: ndarray\n",
    "    :param Theta_RW_hs: 1時間平均の熱源機の戻り温水温度 (℃)\n",
    "    :type Theta_RW_hs: ndarray\n",
    "    :param Theta_HPU_out: 1時間平均のヒートポンプユニットの出湯温度 (℃)\n",
    "    :type Theta_HPU_out: ndarray\n",
    "    :return: 1時間平均のヒートポンプユニットの最小暖房出力 (6)\n",
    "    :rtype: ndarray\n",
    "    \"\"\"\n",
    "    return f_HPU_q_min(Theta_ex, Theta_RW_hs, Theta_HPU_out)\n"
   ]
  },
  {
   "cell_type": "markdown",
   "metadata": {},
   "source": [
    "$$\\large\n",
    "q_{HPU,ave} = Q_{HPU} \\times 10^{6} \\div 3600\n",
    "$$"
   ]
  },
  {
   "cell_type": "markdown",
   "metadata": {},
   "source": [
    "$Q_{HPU}$：1 時間当たりのヒートポンプユニットの暖房出力(MJ/h) / Heating output of heat pump unit per hour  "
   ]
  },
  {
   "cell_type": "code",
   "execution_count": null,
   "metadata": {},
   "outputs": [],
   "source": [
    "def get_q_HPU_ave(Q_HPU):\n",
    "    \"\"\" 1時間平均のヒートポンプユニットの平均暖房出力 (7)\n",
    "\n",
    "    :param Q_HPU: 1時間当たりのヒートポンプユニットの暖房出力 (MJ/h)\n",
    "    :type Q_HPU: ndarray\n",
    "    :return: 1時間平均のヒートポンプユニットの平均暖房出力 (7)\n",
    "    :rtype: ndarray\n",
    "    \"\"\"\n",
    "    return Q_HPU * 10 ** 6 / 3600"
   ]
  },
  {
   "cell_type": "markdown",
   "metadata": {},
   "source": [
    "#### E.3.3 ヒートポンプユニットの暖房出力 / Heating output of heat pump unit"
   ]
  },
  {
   "cell_type": "markdown",
   "metadata": {},
   "source": [
    "$$\\large\n",
    "Q_{HPU} = Q_{out,hs,HPU} + Q_{GU,loss,HPU} + Q_{TU,tank,loss} + Q_{TU,pipe,loss}\n",
    "$$"
   ]
  },
  {
   "cell_type": "markdown",
   "metadata": {},
   "source": [
    "$Q_{out,hs,HPU}$：1 時間当たりの熱源機のヒートポンプユニット分担暖房出力(MJ/h) / Heat pump unit shared heating output of heat source unit per hour  \n",
    "$Q_{GU,loss,HPU}$：1 時間当たりのヒートポンプユニット運転時のガスユニットの熱損失量(MJ/h) / Heat loss of gas unit during operation of heat pump unit per hour  \n",
    "$Q_{TU,tank,loss}$：1 時間当たりのタンクユニットのタンクの熱損失量(MJ/h) / Heat loss of tank unit tank per hour  \n",
    "$Q_{TU,pipe,loss}$：1 時間当たりのタンクユニットのヒートポンプ配管の熱損失量(MJ/h) / Heat loss of heat pump piping of tank unit per hour  "
   ]
  },
  {
   "cell_type": "code",
   "execution_count": null,
   "metadata": {},
   "outputs": [],
   "source": [
    "def get_Q_HPU(Q_out_hs_HPU, Q_GU_loss_HPU, Q_TU_tank_loss, Q_TU_pipe_loss):\n",
    "    \"\"\" 1時間当たりのヒートポンプユニットの暖房出力 (8)\n",
    "\n",
    "    :param Q_out_hs_HPU: 1時間当たりの熱源機のヒートポンプユニット分担暖房出力 (MJ/h)\n",
    "    :type Q_out_hs_HPU: ndarray\n",
    "    :param Q_GU_loss_HPU: 1時間当たりのヒートポンプユニット運転時のガスユニットの熱損失量 (MJ/h)\n",
    "    :type Q_GU_loss_HPU: ndarray\n",
    "    :param Q_TU_tank_loss: 1時間当たりのタンクユニットのタンクの熱損失量 (MJ/h)\n",
    "    :type Q_TU_tank_loss: ndarray\n",
    "    :param Q_TU_pipe_loss: 1時間当たりのタンクユニットのヒートポンプ配管の熱損失量 (MJ/h)\n",
    "    :type Q_TU_pipe_loss: ndarray\n",
    "    :return: 1時間当たりのヒートポンプユニットの暖房出力\n",
    "    :rtype: ndarray\n",
    "    \"\"\"\n",
    "    Q_HPU = Q_out_hs_HPU + Q_GU_loss_HPU + Q_TU_tank_loss + Q_TU_pipe_loss\n",
    "    return Q_HPU"
   ]
  },
  {
   "cell_type": "markdown",
   "metadata": {},
   "source": [
    "$$\\large\n",
    "Q_{TU,pipe,loss} = q_{TU,pipe,loss} \\times 3600 \\times 10^{-6}\n",
    "$$\n",
    "\n",
    "$$\\large\n",
    "q_{TU,pipe,loss} = f_{TU,q,HPP} (\\theta_{SW,hs}, \\theta_{ex})\n",
    "$$"
   ]
  },
  {
   "cell_type": "markdown",
   "metadata": {},
   "source": [
    "$q_{TU,pipe,loss}$：1 時間平均のタンクユニットのヒートポンプ配管の熱損失(W) / Heat loss of heat pump piping of tank unit of 1 hour average  \n",
    "$\\theta_{SW,hs}$：1 時間平均の熱源機の往き温水温度(℃) / 1 hour average hot water temperature of the heat source machine  \n",
    "$\\theta_{ex}$：1 時間平均の外気温度(℃) / 1 hour average outside temperature  "
   ]
  },
  {
   "cell_type": "code",
   "execution_count": null,
   "metadata": {},
   "outputs": [],
   "source": [
    "def calc_Q_TU_pipe_loss(Theta_SW_hs, Theta_ex):\n",
    "    \"\"\" 1時間当たりのタンクユニットのヒートポンプ管の熱損失量 (9)\n",
    "\n",
    "    :param Theta_SW_hs: 1時間平均の熱源機の往き温水温度 (℃)\n",
    "    :type Theta_SW_hs: ndarray\n",
    "    :param Theta_ex: 外気温度 (℃)\n",
    "    :type Theta_ex: ndarray\n",
    "    :return: 1時間当たりのタンクユニットのヒートポンプ管の熱損失量 (MJ/h)\n",
    "    :rtype: ndarray\n",
    "    \"\"\"\n",
    "    # タンクユニットのヒートポンプ配管の熱損失 (W) (9b)\n",
    "    q_TU_pipe_loss = f_TU_q_HPP(Theta_SW_hs, Theta_ex)\n",
    "\n",
    "    # タンクユニットのヒートポンプ管の熱損失量 (MJ/h) (9a)\n",
    "    Q_TU_pipe_loss = q_TU_pipe_loss * 3600 * 10 ** (-6)\n",
    "\n",
    "    return Q_TU_pipe_loss"
   ]
  },
  {
   "cell_type": "markdown",
   "metadata": {},
   "source": [
    "$$\\large\n",
    "Q_{TU,tank,loss} = q_{TU,tank,loss} \\times 3600 \\times 10^{-6}\n",
    "$$\n",
    "\n",
    "$$\\large\n",
    "q_{TU,tank,loss} = f_{TU,q,tank} (\\theta_{HPU,out}, \\theta_{TU,amb})\n",
    "$$"
   ]
  },
  {
   "cell_type": "markdown",
   "metadata": {},
   "source": [
    "$q_{TU,tank,loss}$：1 時間平均のタンクユニットのタンクの熱損失(W) / 1 hour average tank unit tank heat loss  \n",
    "$\\theta_{HPU,out}$：1 時間平均のヒートポンプユニットの出湯温度(℃) / 1 hour average hot water outlet temperature of heat pump unit  \n",
    "$\\theta_{TU,amb}$：1 時間平均のタンクユニットの周囲空気温度(℃) / 1 hour average tank unit ambient air temperature  "
   ]
  },
  {
   "cell_type": "code",
   "execution_count": null,
   "metadata": {},
   "outputs": [],
   "source": [
    "def calc_Q_TU_tank_loss(Theta_HPU_out, Theta_TU_amb):\n",
    "    \"\"\" 1時間当たりのタンクユニットのタンクの熱損失量 (10)\n",
    "\n",
    "    :param Theta_HPU_out: 1時間平均のヒートポンプユニットの出湯温度 (℃)\n",
    "    :type Theta_HPU_out: ndarray\n",
    "    :param Theta_TU_amb: 1時間平均のタンクユニットの周囲空気温度 (℃)\n",
    "    :type Theta_TU_amb: ndarray\n",
    "    :return: 1時間当たりのタンクユニットのタンクの熱損失量 (MJ/h)\n",
    "    :rtype: ndarray\n",
    "    \"\"\"\n",
    "    # タンクユニットのタンクの熱損失 (W) (10b)\n",
    "    q_TU_tank_loss = f_TU_q_tank(Theta_HPU_out, Theta_TU_amb)\n",
    "\n",
    "    # タンクユニットのタンクの熱損失量 (MJ/h) (10a)\n",
    "    Q_TU_tank_loss = q_TU_tank_loss * 3600 * 10 ** (-6)\n",
    "\n",
    "    return Q_TU_tank_loss"
   ]
  },
  {
   "cell_type": "markdown",
   "metadata": {},
   "source": [
    "1 時間平均のヒートポンプユニットの出湯温度$\\theta_{HPU,out}$は、1 時間平均の熱源機のヒートポンプユニットの暖房出力分担率$r_{HPU}$が1.0を下回る場合は85℃とし、1.0に等しいかつ 1 時間平均の熱源機の往き温水温度$\\theta_{SW,hs}$が40℃の場合は65℃とし、1.0に等しいかつ 1 時間平均の熱源機の往き温水温度$\\theta_{SW,hs}$が60℃の場合は85℃とする。 "
   ]
  },
  {
   "cell_type": "markdown",
   "metadata": {},
   "source": [
    "The hot water temperature $\\theta_{HPU,out}$ of the 1-hour average heat pump unit is 85 ° C. when the heating output sharing ratio $r_{HPU}$ of the 1-hour average heat source unit heat pump unit is less than 1.0, equal to 1.0 and 1-hour average hot water source heat source machine When the temperature $\\theta_{SW,hs}$ is 40 ° C, the temperature is 65 ° C, and when it is equal to 1.0 and the 1 hour average hot-water heater temperature $\\theta_{SW,hs}$ is 60 ° C, the temperature is 85 ° C."
   ]
  },
  {
   "cell_type": "code",
   "execution_count": null,
   "metadata": {},
   "outputs": [],
   "source": [
    "def get_Theta_HPU_out(r_HPU, Theta_SW_hs):\n",
    "    \"\"\" 1時間平均のヒートポンプユニットの出湯温度\n",
    "\n",
    "    :param r_HPU: 1時間平均のヒートポンプユニット暖房出力分担率 (-)\n",
    "    :type r_HPU: ndarray\n",
    "    :param Theta_SW_hs: 熱源機の往き温水温度 (℃)\n",
    "    :type Theta_SW_hs: ndarray\n",
    "    :return: 1時間平均のヒートポンプユニットの出湯温度 (℃)\n",
    "    :rtype: ndarray\n",
    "    \"\"\"\n",
    "    Theta_HPU_out = np.zeros(24 * 365)\n",
    "    Theta_HPU_out[r_HPU < 1.0] = 85.0\n",
    "    Theta_HPU_out[np.logical_and(r_HPU == 1.0, Theta_SW_hs == 40.0)] = 65.0\n",
    "    Theta_HPU_out[np.logical_and(r_HPU == 1.0, Theta_SW_hs == 60.0)] = 85.0\n",
    "    return Theta_HPU_out\n"
   ]
  },
  {
   "cell_type": "markdown",
   "metadata": {},
   "source": [
    "$$\\large\n",
    "Q_{GU,loss,HPU} = q_{GU,loss,HPU} \\times r_{HPU} \\times 3600 \\times 10^{-6}\n",
    "$$\n",
    "\n",
    "$$\\large\n",
    "q_{GU,loss,HPU} = f_{GU,q,lossHP} (\\theta_{SW,hs}, \\theta_{TU,amb})\n",
    "$$"
   ]
  },
  {
   "cell_type": "markdown",
   "metadata": {},
   "source": [
    "$q_{GU,loss,HPU}$：1 時間平均のヒートポンプユニット運転時のガスユニットの熱損失(W) / Heat loss of gas unit during operation of heat pump unit with one hour average  \n",
    "$\\theta_{SW,hs}$：1 時間平均の熱源機の往き温水温度(℃) / 1 hour average hot water temperature of the heat source machine  \n",
    "$\\theta_{TU,amb}$：1 時間平均のタンクユニットの周囲空気温度(℃) / 1 hour average tank unit ambient air temperature  \n",
    "$r_{HPU}$：1 時間平均のヒートポンプユニットの暖房出力分担率 / 1 hour average heating output share rate of heat pump unit  "
   ]
  },
  {
   "cell_type": "code",
   "execution_count": null,
   "metadata": {},
   "outputs": [],
   "source": [
    "def calc_Q_GU_loss_HPU(Theta_SW_hs, Theta_TU_amb, r_HPU):\n",
    "    \"\"\" 1時間当たりのヒートポンプユニット運転時のガスユニットの熱損失量 (11)\n",
    "\n",
    "    :param Theta_SW_hs: 温水暖房用熱源機の往き温水温度\n",
    "    :type Theta_SW_hs: ndarray\n",
    "    :param Theta_TU_amb: 1時間平均のタンクユニットの周囲空気温度 (℃)\n",
    "    :type Theta_TU_amb: ndarray\n",
    "    :param r_HPU: 1時間平均のヒートポンプユニット暖房出力分担率 (-)\n",
    "    :type r_HPU: ndarray\n",
    "    :return: 1時間当たりのヒートポンプユニット運転時のガスユニットの熱損失量 (MJ/h)\n",
    "    :rtype: ndarray\n",
    "    \"\"\"\n",
    "    # ヒートポンプユニット運転時のガスユニットの熱損失 (W) (11b)\n",
    "    q_GU_loss_HPU = f_GU_q_lossHP(Theta_SW_hs, Theta_TU_amb)\n",
    "\n",
    "    # ヒートポンプユニット運転時のガスユニットの熱損失量 (MJ/h) (11a)\n",
    "    Q_GU_loss_HPU = q_GU_loss_HPU * r_HPU * 3600 * 10 ** (-6)\n",
    "\n",
    "    return Q_GU_loss_HPU"
   ]
  },
  {
   "cell_type": "markdown",
   "metadata": {},
   "source": [
    "$$\\large\n",
    "Q_{out,hs,HPU} = Q_{out,hs} \\times r_{HPU}\n",
    "$$"
   ]
  },
  {
   "cell_type": "markdown",
   "metadata": {},
   "source": [
    "$Q_{out,hs}$：1 時間平均の熱源機の暖房出力(MJ/h) / 1 hour average heating output of heat source machine  \n",
    "$r_{HPU}$：1 時間平均のヒートポンプユニットの暖房出力分担率 / 1 hour average heating output share rate of heat pump unit  "
   ]
  },
  {
   "cell_type": "code",
   "execution_count": null,
   "metadata": {},
   "outputs": [],
   "source": [
    "def get_Q_out_hs_HPU(Q_out_hs, r_HPU):\n",
    "    \"\"\" 1時間当たりの熱源機のヒートポンプユニット分断暖房出力 (12)\n",
    "\n",
    "    :param Q_out_hs: 1時間平均の熱源機の暖房出力 (MJ/h)\n",
    "    :type Q_out_hs: ndarray\n",
    "    :param r_HPU: 1時間平均のヒートポンプユニット暖房出力分担率 (-)\n",
    "    :type r_HPU: ndarray\n",
    "    :return: 1時間当たりの熱源機のヒートポンプユニット分断暖房出力 (MJ/h)\n",
    "    :rtype: ndarray\n",
    "    \"\"\"\n",
    "    return Q_out_hs * r_HPU"
   ]
  },
  {
   "cell_type": "markdown",
   "metadata": {},
   "source": [
    "#### E.3.4 ガスユニットの補機の消費電力 / Power consumption of gas unit accessories"
   ]
  },
  {
   "cell_type": "markdown",
   "metadata": {},
   "source": [
    "$$\\large\n",
    "E_{E,GU,aux} = (P_{GU,aux,ON} \\times r_{GU} + P_{GU,aux,OFF} \\times r_{HPU}) \\times 10^{-3}\n",
    "$$\n",
    "\n",
    "$$\\large\n",
    "P_{GU,aux,ON} = f_{GU,P,aux} (q_{G,GU})\n",
    "$$\n",
    "\n",
    "$$\\large\n",
    "P_{GU,aux,OFF} = f_{GU,P,aux} (0.0)\n",
    "$$"
   ]
  },
  {
   "cell_type": "markdown",
   "metadata": {},
   "source": [
    "$P_{GU,aux,ON}$：1 時間平均のガス燃焼時のガスユニットの補機の消費電力(W) / Power consumption of gas unit accessories during 1 hour average gas combustion  \n",
    "$P_{GU,aux,OFF}$：1 時間平均のガス非燃焼時のガスユニットの補機の消費電力(W) / Power consumption of auxiliary unit of gas unit during non-gassing of one hour average gas  \n",
    "$r_{GU}$：1 時間平均のガスユニットの暖房出力分担率 / 1 hour average gas unit heating output share rate  \n",
    "$r_{HPU}$：1 時間平均のヒートポンプユニットの暖房出力分担率 / 1 hour average heating output share rate of heat pump unit  \n",
    "$q_{G,GU}$：1 時間平均のガスユニットのガス消費量(W) / 1 hour average gas unit gas consumption  "
   ]
  },
  {
   "cell_type": "code",
   "execution_count": null,
   "metadata": {},
   "outputs": [],
   "source": [
    "def calc_E_E_GU_aux(q_G_GU, r_HPU, r_GU):\n",
    "    \"\"\" 1時間当たりのガスユニットの補機の消費電力 (13)\n",
    "\n",
    "    :param q_G_GU: ガスユニットのガス消費量 (W)\n",
    "    :type q_G_GU: ndarray\n",
    "    :param r_HPU: 1時間平均のヒートポンプユニット暖房出力分担率 (-)\n",
    "    :type r_HPU: ndarray\n",
    "    :param r_GU: 1時間平均のガスユニットの暖房出力分担率 (-)\n",
    "    :type r_GU: ndarray\n",
    "    :return: 1時間当たりのガスユニットの補機の消費電力\n",
    "    :rtype: ndarray\n",
    "    \"\"\"\n",
    "    # 1時間平均のガス非燃焼時のガスユニットの補機の消費電力 (W) (13c)\n",
    "    P_GU_aux_OFF = f_GU_P_aux(0.0)\n",
    "\n",
    "    # 1時間平均のガス燃焼時のガスユニットの補機の消費電力 (W) (13b)\n",
    "    P_GU_aux_ON = f_GU_P_aux(q_G_GU)\n",
    "\n",
    "    # 1時間当たりのガスユニットの補機の消費電力 (13a)\n",
    "    E_E_GU_aux = (P_GU_aux_ON * r_GU + P_GU_aux_OFF * r_HPU) * 10 ** (-3)\n",
    "\n",
    "    return E_E_GU_aux"
   ]
  },
  {
   "cell_type": "markdown",
   "metadata": {},
   "source": [
    "#### E.3.5 ガスユニットのガス消費量 / Gas unit gas consumption"
   ]
  },
  {
   "cell_type": "markdown",
   "metadata": {},
   "source": [
    "$$\\large\n",
    "E_{E,GU} = q_{G,GU} \\times r_{GU} \\times 3600 \\times 10^{-6}\n",
    "$$\n",
    "\n",
    "$$\\large\n",
    "q_{G,GU} = f_{GU,G} (q_{GU}, e_{GU,rtd}, q_{GU,rtd})\n",
    "$$\n",
    "\n",
    "$$\\large\n",
    "q_{GU} = min(q_{out,hs}, q_{GU,rtd})\n",
    "$$"
   ]
  },
  {
   "cell_type": "markdown",
   "metadata": {},
   "source": [
    "$q_{G,GU}$：1 時間平均のガスユニットのガス消費量(W) / 1 hour average gas unit gas consumption  \n",
    "$r_{GU}$：1 時間平均のガスユニットの暖房出力分担率 / 1 hour average gas unit heating output share rate  \n",
    "$q_{GU}$：1 時間平均のガスユニットの暖房出力(W) / 1 hour average gas unit heating output  \n",
    "$q_{out,hs}$：1 時間平均の熱源機の暖房出力(W) / 1 hour average heating output of heat source machine  \n",
    "$e_{GU,rtd}$：ガスユニットの定格暖房効率 / Rated heating efficiency of gas unit  \n",
    "$q_{GU,rtd}$：ガスユニットの定格暖房能力(W) / Gas unit rated heating capacity  "
   ]
  },
  {
   "cell_type": "code",
   "execution_count": null,
   "metadata": {},
   "outputs": [],
   "source": [
    "def calc_E_G_GU(r_GU, q_out_hs, Theta_SW_hs):\n",
    "    \"\"\" 1時間平均のガスユニットのガス消費量 (MJ/h) (14a)\n",
    "\n",
    "    :param r_GU: 1時間平均のガスユニットの暖房出力分担率 (-)\n",
    "    :type r_GU: ndarray\n",
    "    :param q_out_hs: 1時間平均の熱源機の暖房出力 (W)\n",
    "    :type q_out_hs: ndarray\n",
    "    :param Theta_SW_hs: 温水暖房用熱源機の往き温水温度\n",
    "    :type Theta_SW_hs: ndarray\n",
    "    :return: 1時間平均のガスユニットのガス消費量 (MJ/h)\n",
    "    :rtype: ndarray\n",
    "    \"\"\"\n",
    "    # 1時間平均のガスユニットのガス消費量 (14b)\n",
    "    q_G_GU = calc_q_G_GU(q_out_hs, Theta_SW_hs)\n",
    "\n",
    "    # ガスユニットのガス消費量 (14a)\n",
    "    E_G_GU = q_G_GU * r_GU * 3600 * 10 ** (-6)\n",
    "\n",
    "    return E_G_GU\n",
    "\n",
    "\n",
    "def calc_q_G_GU(q_out_hs, Theta_SW_hs):\n",
    "    \"\"\" 1時間平均のガスユニットのガス消費量 (W) (14b)\n",
    "\n",
    "    :param q_out_hs: 1時間平均の熱源機の暖房出力 (W)\n",
    "    :type q_out_hs: ndarray\n",
    "    :param Theta_SW_hs: 温水暖房用熱源機の往き温水温度\n",
    "    :type Theta_SW_hs: ndarray\n",
    "    :return: 1時間平均のガスユニットのガス消費量 (W)\n",
    "    :rtype: ndarray\n",
    "    \"\"\"\n",
    "    # ガスユニットの定格暖房効率\n",
    "    e_GU_rtd = get_e_GU_rtd()\n",
    "\n",
    "    # ガスユニットの定格暖房能力\n",
    "    q_GU_rtd = get_q_GU_rtd()\n",
    "\n",
    "    # ガスユニットの暖房能力\n",
    "    q_GU = get_q_GU(q_out_hs, q_GU_rtd)\n",
    "\n",
    "    return f_GU_G(q_GU, e_GU_rtd, q_GU_rtd, Theta_SW_hs)\n",
    "\n",
    "\n",
    "def get_q_GU(q_out_hs, q_GU_rtd):\n",
    "    \"\"\" ガスユニットの暖房能力 (14c)\n",
    "\n",
    "    :param q_out_hs: 1時間平均の熱源機の暖房出力 (W)\n",
    "    :type q_out_hs: ndarray\n",
    "    :param q_GU_rtd: ガスユニットの定格暖房能力 (W)\n",
    "    :type q_GU_rtd: float\n",
    "    :return: ガスユニットの暖房能力 (14c)\n",
    "    :rtype: ndarray\n",
    "    \"\"\"\n",
    "    return np.clip(q_out_hs, None, q_GU_rtd)"
   ]
  },
  {
   "cell_type": "markdown",
   "metadata": {},
   "source": [
    "ガスユニットの定格暖房効率$e_{rtd}$は0.87に等しいとし、ガスユニットの定格暖房能力$q_{GU,rtd}$は14000に等しいとする。 "
   ]
  },
  {
   "cell_type": "markdown",
   "metadata": {},
   "source": [
    "The rated heating efficiency $ e_{rtd} $ of the gas unit is equal to 0.87, and the rated heating capacity $ q_{GU, rtd} $ of the gas unit is equal to 14000."
   ]
  },
  {
   "cell_type": "code",
   "execution_count": null,
   "metadata": {},
   "outputs": [],
   "source": [
    "def get_e_GU_rtd():\n",
    "    \"\"\" ガスユニットの定格暖房効率 (-)\n",
    "\n",
    "    :return: ガスユニットの定格暖房効率\n",
    "    :rtype: float\n",
    "    \"\"\"\n",
    "    return 0.87\n",
    "\n",
    "\n",
    "def get_q_GU_rtd():\n",
    "    \"\"\" ガスユニットの定格暖房能力 (W)\n",
    "\n",
    "    :return: ガスユニットの定格暖房能力 (W)\n",
    "    :rtype: float\n",
    "    \"\"\"\n",
    "    return 14000"
   ]
  },
  {
   "cell_type": "markdown",
   "metadata": {},
   "source": [
    "#### E.3.6 暖房出力分担率 / Heating output share rate"
   ]
  },
  {
   "cell_type": "markdown",
   "metadata": {},
   "source": [
    "1 時間平均のヒートポンプユニットの暖房出力分担率$r_{HPU}$は0を下回る場合は0とし、1を上回る場合は1とする。 "
   ]
  },
  {
   "cell_type": "markdown",
   "metadata": {},
   "source": [
    "The heating output allotment rate $ r_{HPU} $ of the 1-hour average heat pump unit is 0 if it is less than 0, and 1 if it is more than 1."
   ]
  },
  {
   "cell_type": "markdown",
   "metadata": {},
   "source": [
    "$$\\large\n",
    "r_{GU} = 1 - r_{HPU}\n",
    "$$\n",
    "\n",
    "$$\\large\n",
    "r_{HPU} = \\frac{q_{HPU,max} - q'_{TU,tank,loss} - q'_{TU,pipe,loss}}{q_{out,hs} + q'_{GU,loss,HPU}}\n",
    "$$"
   ]
  },
  {
   "cell_type": "markdown",
   "metadata": {},
   "source": [
    "$q_{HPU,max}$：1 時間平均のヒートポンプユニットの最大暖房出力(W) / 1 hour average heat pump unit maximum heating output  \n",
    "$q'_{TU,tank,loss}$：1 時間平均のヒートポンプユニット最大運転時のタンクユニットのタンクの熱損失(W) / Heat loss of the tank unit during maximum operation of the heat pump unit at one hour average  \n",
    "$q'_{TU,pipe,loss}$：1 時間平均のヒートポンプユニット最大運転時のタンクユニットのヒートポンプ配管の熱損失(W) / Heat loss of heat pump piping of tank unit at maximum operation of heat pump unit at one hour average  \n",
    "$q_{out,hs}$：1 時間平均の熱源機の暖房出力(W) / 1 hour average heating output of heat source machine  \n",
    "$q'_{GU,loss,HPU}$：1 時間平均のヒートポンプユニット最大運転時のヒートポンプユニット運転時のガスユニットの熱損失(W) / Heat loss of gas unit during operation of heat pump unit at maximum operation of heat pump unit at one hour average  "
   ]
  },
  {
   "cell_type": "code",
   "execution_count": null,
   "metadata": {},
   "outputs": [],
   "source": [
    "def get_r_GU(r_HPU):\n",
    "    \"\"\" 1時間平均のガスユニットの暖房出力分担率 (15)\n",
    "\n",
    "    :param r_HPU: 1時間平均のヒートポンプユニット暖房出力分担率 (-)\n",
    "    :type r_HPU: ndarray\n",
    "    :return: 1時間平均のガスユニットの暖房出力分担率\n",
    "    :rtype: ndarray\n",
    "    \"\"\"\n",
    "    return 1 - r_HPU\n",
    "\n",
    "\n",
    "def get_r_HPU(q_HPU_max, q_dash_TU_tank_loss, q_dash_TU_pipe_loss, q_out_hs, q_dash_GU_loss_HPU):\n",
    "    \"\"\" 1時間平均のヒートポンプユニットの暖房出力分担率 (16)\n",
    "\n",
    "    :param q_HPU_max: 1時間平均のヒートポンプユニットの最大暖房出力 (W)\n",
    "    :type q_HPU_max: ndarray\n",
    "    :param q_dash_TU_tank_loss: 1時間平均のヒートポンプユニット最大運転時のタンクユニットのタンクの熱損失 (W)\n",
    "    :type q_dash_TU_tank_loss: ndarray\n",
    "    :param q_dash_TU_pipe_loss: 1時間平均のヒートポンプユニット最大運転時のタンクユニットのヒートポンプ配置の熱損失 (W)\n",
    "    :type q_dash_TU_pipe_loss: ndarray\n",
    "    :param q_out_hs: 1時間平均の熱源機の暖房出力 (W)\n",
    "    :type q_out_hs: ndarray\n",
    "    :param q_dash_GU_loss_HPU: 1時間平均のヒートポンプユニット最大運転時のヒートポンプユニット運転時のガスユニットの熱損失 (W)\n",
    "    :type q_dash_GU_loss_HPU: ndarray\n",
    "    :return: 1時間平均のヒートポンプユニットの暖房出力分担率 (16)\n",
    "    :rtype: ndarray\n",
    "    \"\"\"\n",
    "    r_HPU = np.zeros(24*365)\n",
    "    f = (q_out_hs + q_dash_GU_loss_HPU > 0)\n",
    "    r_HPU[f] = (q_HPU_max[f] - q_dash_TU_tank_loss[f] - q_dash_TU_pipe_loss[f]) / (q_out_hs[f] + q_dash_GU_loss_HPU[f])\n",
    "    return np.clip(r_HPU, 0, 1)"
   ]
  },
  {
   "cell_type": "markdown",
   "metadata": {},
   "source": [
    "$$\\large\n",
    "q_{HPU,max} = f_{HPU,q,max} (\\theta_{ex}, \\theta_{RW,hs}, \\theta'_{HPU,out})\n",
    "$$"
   ]
  },
  {
   "cell_type": "markdown",
   "metadata": {},
   "source": [
    "$\\theta_{ex}$：1 時間平均の外気温度(℃) / 1 hour average outside temperature  \n",
    "$\\theta_{RW,hs}$：1 時間平均の熱源機の戻り温水温度(℃) / One hour average return hot water temperature of heat source machine  \n",
    "$\\theta'_{HPU,out}$：1 時間平均のヒートポンプ最大運転時のヒートポンプユニットの出湯温度(℃) / Hot water temperature of heat pump unit at maximum heat pump operation at one hour average"
   ]
  },
  {
   "cell_type": "code",
   "execution_count": null,
   "metadata": {},
   "outputs": [],
   "source": [
    "def calc_q_HPU_max(Theta_ex, Theta_RW_hs):\n",
    "    \"\"\" 1時間平均のヒートポンプユニットの最大暖房出力 (17)\n",
    "\n",
    "    :param Theta_ex: 1時間平均の外気温度 (℃)\n",
    "    :type Theta_ex: ndarray\n",
    "    :param Theta_RW_hs: 1時間平均の熱源機の戻り温水温度 (℃)\n",
    "    :type Theta_RW_hs: ndarray\n",
    "    :return: ヒートポンプユニットの最大暖房出力 (W)\n",
    "    :rtype: ndarray\n",
    "    \"\"\"\n",
    "    # 1時間平均のヒートポンプ大運転時のヒートポンプユニットの出湯温度\n",
    "    Theta_dash_HPU_out = get_Theta_dash_HPU_out()\n",
    "\n",
    "    # ヒートポンプユニットの最大暖房出力を求める関数 (26)\n",
    "    q_HPU_max = f_HPU_q_max(Theta_ex, Theta_RW_hs, Theta_dash_HPU_out)\n",
    "\n",
    "    return q_HPU_max"
   ]
  },
  {
   "cell_type": "markdown",
   "metadata": {},
   "source": [
    "$$\\large\n",
    "q'_{TU,pipe,loss} = f_{TU,q,HPP} (\\theta_{SW,hs}, \\theta_{ex})\n",
    "$$"
   ]
  },
  {
   "cell_type": "markdown",
   "metadata": {},
   "source": [
    "$\\theta_{SW,hs}$：1 時間平均の熱源機の往き温水温度(℃) / 1 hour average hot water temperature of the heat source machine  \n",
    "$\\theta_{ex}$：1 時間平均の外気温度(℃) / 1 hour average outside temperature  "
   ]
  },
  {
   "cell_type": "code",
   "execution_count": null,
   "metadata": {},
   "outputs": [],
   "source": [
    "def calc_q_dash_TU_pipe_loss(Theta_SW_hs, Theta_ex):\n",
    "    \"\"\" 1時間平均のヒートポンプ最大運転時のタンクユニットのヒートポンプ配管の熱損失 (18)\n",
    "\n",
    "    :param Theta_SW_hs: 温水暖房用熱源機の往き温水温度\n",
    "    :type Theta_SW_hs: ndarray\n",
    "    :param Theta_ex: 外気温度\n",
    "    :type Theta_ex: ndarray\n",
    "    :return: 1時間平均のヒートポンプ最大運転時のタンクユニットのヒートポンプ配管の熱損失\n",
    "    :rtype: ndarray\n",
    "    \"\"\"\n",
    "    # タンクユニットのヒートポンプ配管の熱損失を求める関数 (28)\n",
    "    q_dash_TU_pipe_loss = f_TU_q_HPP(Theta_SW_hs, Theta_ex)\n",
    "\n",
    "    return q_dash_TU_pipe_loss"
   ]
  },
  {
   "cell_type": "markdown",
   "metadata": {},
   "source": [
    "$$\\large\n",
    "q'_{TU,tank,loss} = f_{TU,q,tank} (\\theta'_{HPU,out}, \\theta_{TU,amb})\n",
    "$$"
   ]
  },
  {
   "cell_type": "markdown",
   "metadata": {},
   "source": [
    "$\\theta'_{HPU,out}$：1 時間平均のヒートポンプ最大運転時のヒートポンプユニットの出湯温度(℃) / Hot water temperature of heat pump unit at maximum heat pump operation at one hour average  \n",
    "$\\theta_{TU,amb}$：1 時間平均のタンクユニットの周囲空気温度(℃) / 1 hour average tank unit ambient air temperature  "
   ]
  },
  {
   "cell_type": "code",
   "execution_count": null,
   "metadata": {},
   "outputs": [],
   "source": [
    "def calc_q_dash_TU_tank_loss(Theta_TU_amb):\n",
    "    \"\"\" ヒートポンプ最大運転時のタンクユニットのタンクの熱損失 (19)\n",
    "\n",
    "    :param Theta_TU_amb: 1時間平均のタンクユニットの周囲空気温度 (℃)\n",
    "    :type Theta_TU_amb: ndarray\n",
    "    :return: ヒートポンプ最大運転時のタンクユニットのタンクの熱損失 (19)\n",
    "    :rtype: ndarray\n",
    "    \"\"\"\n",
    "    # 1時間平均のヒートポンプ最大運転時のヒートポンプユニットの出湯温度\n",
    "    Theta_dash_HPU_out = get_Theta_dash_HPU_out()\n",
    "\n",
    "    # タンクユニットのタンクの熱損失を求める関数 (29)\n",
    "    q_dash_TU_tank_loss = f_TU_q_tank(Theta_dash_HPU_out, Theta_TU_amb)\n",
    "\n",
    "    return q_dash_TU_tank_loss"
   ]
  },
  {
   "cell_type": "markdown",
   "metadata": {},
   "source": [
    "$$\\large\n",
    "q'_{GU,loss,HPU} = f_{GU,q,lossHP} (\\theta_{SW,hs}, \\theta_{TU,amb})\n",
    "$$"
   ]
  },
  {
   "cell_type": "markdown",
   "metadata": {},
   "source": [
    "$\\theta_{SW,hs}$：1 時間平均の熱源機の往き温水温度(℃) / 1 hour average hot water temperature of the heat source machine  \n",
    "$\\theta_{TU,amb}$：1 時間平均のタンクユニットの周囲空気温度(℃) / 1 hour average tank unit ambient air temperature  "
   ]
  },
  {
   "cell_type": "code",
   "execution_count": null,
   "metadata": {},
   "outputs": [],
   "source": [
    "def calc_q_dash_GU_loss_HPU(Theta_SW_hs, Theta_TU_amb):\n",
    "    \"\"\" ヒートポンプ最大運転時のヒートポンプユニット運転時のガスユニットの熱損失 (20)\n",
    "\n",
    "    :param Theta_SW_hs: 1時間平均の熱源機の往き温水温度 (℃)\n",
    "    :type Theta_SW_hs: ndarray\n",
    "    :param Theta_TU_amb: 1時間平均のタンクユニットの周囲空気温度 (℃)\n",
    "    :type Theta_TU_amb: ndarray\n",
    "    :return: ヒートポンプ最大運転時のヒートポンプユニット運転時のガスユニットの熱損失\n",
    "    :rtype: ndarray\n",
    "    \"\"\"\n",
    "    # ヒートポンプユニット運転時のガスユニットの熱損失を求める関数 (32)\n",
    "    q_dash_GU_loss_HPU = f_GU_q_lossHP(Theta_SW_hs, Theta_TU_amb)\n",
    "\n",
    "    return q_dash_GU_loss_HPU"
   ]
  },
  {
   "cell_type": "markdown",
   "metadata": {},
   "source": [
    "1 時間平均のヒートポンプ最大運転時のヒートポンプユニットの出湯温度$\\theta'_{HPU,out}$ は 85℃する。 "
   ]
  },
  {
   "cell_type": "markdown",
   "metadata": {},
   "source": [
    "Heat pump unit hot water temperature $ \\theta'_{HPU, out} $ at 1 hour average heat pump maximum operation is 85 ° C."
   ]
  },
  {
   "cell_type": "code",
   "execution_count": null,
   "metadata": {},
   "outputs": [],
   "source": [
    "def get_Theta_dash_HPU_out():\n",
    "    \"\"\" 1時間平均のヒートポンプ最大運転時のヒートポンプユニットの出湯温度 (℃)\n",
    "\n",
    "    :return: 1時間平均のヒートポンプ最大運転時のヒートポンプユニットの出湯温度 (℃)\n",
    "    :rtype: float\n",
    "    \"\"\"\n",
    "    return 85.0\n"
   ]
  },
  {
   "cell_type": "markdown",
   "metadata": {},
   "source": [
    "#### E.3.7 熱源機の平均暖房出力及び熱源機最大暖房出力 / Average heating output of heat source machine and maximum heating output of heat source machine"
   ]
  },
  {
   "cell_type": "markdown",
   "metadata": {},
   "source": [
    "$$\\large\n",
    "q_{out,hs} = Q_{out,hs} \\times 10^{6} \\div 3600\n",
    "$$"
   ]
  },
  {
   "cell_type": "markdown",
   "metadata": {},
   "source": [
    "$Q_{out,hs}$：1時間当たりの熱源機の暖房出力(MJ/h) / Heating output of heat source unit per hour  "
   ]
  },
  {
   "cell_type": "code",
   "execution_count": null,
   "metadata": {},
   "outputs": [],
   "source": [
    "def get_q_out_hs(Q_out_hs):\n",
    "    \"\"\" 1時間平均の熱源機の暖房出力 (21)\n",
    "\n",
    "    :param Q_out_hs: 1時間当たりの熱源機の暖房出力 (MJ/h)\n",
    "    :type Q_out_hs: ndarray\n",
    "    :return: 1時間平均の熱源機の暖房出力 (W)\n",
    "    :rtype: ndarray\n",
    "    \"\"\"\n",
    "    return Q_out_hs * 10 ** 6 / 3600"
   ]
  },
  {
   "cell_type": "markdown",
   "metadata": {},
   "source": [
    "1 時間当たりの熱源機の暖房出力$Q_{out,hs}$は、本文により定義される、1 時間当たりの熱源機の最大暖房出力$Q_{max,hs}$を超えない範囲で 1 時間当たりの温水熱需要$Q_{dmd,hs}$に等しい。 "
   ]
  },
  {
   "cell_type": "markdown",
   "metadata": {},
   "source": [
    "Heating output $ Q_{out, hs} $ of heat source machine per hour is defined by the text, within 1 hour not exceeding maximum heating output $ Q_{max, hs} $ of heat source machine per hour Equal to the per-minute hot water heat demand $ Q_{dmd, hs} $."
   ]
  },
  {
   "cell_type": "markdown",
   "metadata": {},
   "source": [
    "$$\\large\n",
    "Q_{max,hs} = q_{GU,rtd} \\times 3600 \\times 10^{-6}\n",
    "$$"
   ]
  },
  {
   "cell_type": "markdown",
   "metadata": {},
   "source": [
    "$q_{GU,rtd}$：ガスユニットの定格暖房能力(W) / Gas unit rated heating capacity  "
   ]
  },
  {
   "cell_type": "code",
   "execution_count": null,
   "metadata": {},
   "outputs": [],
   "source": [
    "def get_Q_max_hs(q_GU_rtd):\n",
    "    \"\"\" 1時間当たりの熱源機の最大暖房出力 (22)\n",
    "\n",
    "    :param q_GU_rtd: ガスユニットの定格暖房能力 (W)\n",
    "    :type q_GU_rtd: float\n",
    "    :return: 1時間当たりの熱源機の最大暖房出力 (MJ/h)\n",
    "    :rtype: float\n",
    "    \"\"\"\n",
    "    Q_max_hs = q_GU_rtd * 3600 * 10 ** (-6)\n",
    "    return Q_max_hs\n"
   ]
  },
  {
   "cell_type": "markdown",
   "metadata": {},
   "source": [
    "#### E.3.8 タンクユニット周囲の空気温度 / Air temperature around tank unit"
   ]
  },
  {
   "cell_type": "markdown",
   "metadata": {},
   "source": [
    "タンクユニットを室内に設置する場合"
   ]
  },
  {
   "cell_type": "markdown",
   "metadata": {},
   "source": [
    "When installing the tank unit indoors"
   ]
  },
  {
   "cell_type": "markdown",
   "metadata": {},
   "source": [
    "$$\\large\n",
    "\\theta_{TU,amb} = 0.25 \\times \\theta_{ex} + 0.75 \\times \\theta_{in} \n",
    "$$"
   ]
  },
  {
   "cell_type": "markdown",
   "metadata": {},
   "source": [
    "タンクユニットを室外に設置する場合"
   ]
  },
  {
   "cell_type": "markdown",
   "metadata": {},
   "source": [
    "When installing the tank unit outdoors"
   ]
  },
  {
   "cell_type": "markdown",
   "metadata": {},
   "source": [
    "$$\\large\n",
    "\\theta_{TU,amb} = \\theta_{ex}\n",
    "$$"
   ]
  },
  {
   "cell_type": "markdown",
   "metadata": {},
   "source": [
    "$\\theta_{ex}$：1 時間平均の外気温度(℃) / 1 hour average outside temperature  \n",
    "$\\theta_{in}$：1 時間平均の室内温度(℃) / 1 hour average indoor temperature  "
   ]
  },
  {
   "cell_type": "code",
   "execution_count": null,
   "metadata": {},
   "outputs": [],
   "source": [
    "def calc_Theta_TU_amb(Theta_ex, TU_place):\n",
    "    \"\"\" 1時間平均のタンクユニットの周囲空気温度 (23)\n",
    "\n",
    "    :param Theta_ex: 1時間平均の外気温度 (℃)\n",
    "    :type Theta_ex: ndarray\n",
    "    :param TU_place: タンクユニットの設置場所\n",
    "    :type TU_place: str\n",
    "    :return: 1時間平均のタンクユニットの周囲空気温度 (℃)\n",
    "    :rtype: float\n",
    "    \"\"\"\n",
    "    if TU_place == '屋内':\n",
    "        # 1時間平均の室内温度\n",
    "        Theta_in = get_Theta_in()\n",
    "        return 0.25 * Theta_ex + 0.75 * Theta_in  # (23a)\n",
    "    elif TU_place == '屋外':\n",
    "        return Theta_ex  # (23b)\n",
    "    else:\n",
    "        raise ValueError(TU_place)"
   ]
  },
  {
   "cell_type": "markdown",
   "metadata": {},
   "source": [
    "暖房運転時において、1 時間平均の室内温度$\\theta_{in}$は、20℃とする。"
   ]
  },
  {
   "cell_type": "markdown",
   "metadata": {},
   "source": [
    "The room temperature $ \\theta_{in} $, which is an hourly average, is 20°C during heating operation."
   ]
  },
  {
   "cell_type": "code",
   "execution_count": null,
   "metadata": {},
   "outputs": [],
   "source": [
    "def get_Theta_in():\n",
    "    \"\"\" 暖房時運転における1時間平均の室内温度 (℃)\n",
    "\n",
    "    :return: 暖房時運転における1時間平均の室内温度 (℃)\n",
    "    :rtype: float\n",
    "    \"\"\"\n",
    "    return 20.0\n"
   ]
  },
  {
   "cell_type": "markdown",
   "metadata": {},
   "source": [
    "### E.4 評価関数 / Evaluation function"
   ]
  },
  {
   "cell_type": "markdown",
   "metadata": {},
   "source": [
    "#### E.4.1 ヒートポンプユニット / Heat pump unit"
   ]
  },
  {
   "cell_type": "markdown",
   "metadata": {},
   "source": [
    "$$\n",
    "f_{HPU,P} (\\theta_{ex}, h_{ex},\\theta_{RW,hs},\\theta_{HP,out}, q_{HPU,out}) = (0.1869 \\times P^{2} + 0.2963 \\times P + 0.565) \\times 10^{3}\n",
    "$$\n",
    "\n",
    "$$\n",
    "P =  0.42108 \\times q_{HPU,out} \\times 10^{-3} - 0.03889 \\times \\theta_{ex} - 0.00762 \\times h_{ex} +  0.03313 \\times \\theta_{RW,hs}\\\\ + 0.00449 \\times \\theta_{HP,out} - 0.82066\n",
    "$$"
   ]
  },
  {
   "cell_type": "markdown",
   "metadata": {},
   "source": [
    "$\\theta_{ex}$：外気温度(℃) / Outside air temperature  \n",
    "$h_{ex}$：外気相対湿度(％) / Relative humidity  \n",
    "$q_{HPU,out}$：ヒートポンプユニットの平均暖房出力(W) / Average heating output of heat pump unit  \n",
    "$\\theta_{RW,hs}$：熱源機の戻り温水温度(℃) / Heat return temperature of heat source machine  \n",
    "$\\theta_{HP,out}$：ヒートポンプユニットの出湯温度(℃) / Hot water temperature of heat pump unit  "
   ]
  },
  {
   "cell_type": "code",
   "execution_count": null,
   "metadata": {},
   "outputs": [],
   "source": [
    "def f_HPU_p(Theta_ex, h_ex, Theta_RW_hs, Theta_HP_out, q_HPU_out):\n",
    "    \"\"\" ヒートポンプユニットの消費電力を求める関数 (24)\n",
    "\n",
    "    :param Theta_ex: 外気温度\n",
    "    :type Theta_ex: ndarray\n",
    "    :param h_ex: 外気相対湿度\n",
    "    :type h_ex: ndarray\n",
    "    :param Theta_RW_hs: 1時間平均の熱源機の戻り温水温度 (℃)\n",
    "    :type Theta_RW_hs: ndarray\n",
    "    :param Theta_HP_out: ヒートポンプユニットの出湯温度 (℃)\n",
    "    :type Theta_HP_out: ndarray\n",
    "    :param q_HPU_out: ヒートポンプユニットの平均暖房出力 (W)\n",
    "    :type q_HPU_out: ndarray\n",
    "    :return: ヒートポンプユニットの消費電力を求める関数 (24)\n",
    "    :rtype: ndarray\n",
    "    \"\"\"\n",
    "    P = 0.42108 * q_HPU_out * 10 ** (-3) \\\n",
    "        - 0.03889 * Theta_ex \\\n",
    "        - 0.00762 * h_ex \\\n",
    "        + 0.03313 * Theta_RW_hs \\\n",
    "        + 0.00449 * Theta_HP_out \\\n",
    "        - 0.82066\n",
    "    return (0.1869 * P ** 2 + 0.2963 * P + 0.565) * 10 ** 3"
   ]
  },
  {
   "cell_type": "markdown",
   "metadata": {},
   "source": [
    "ヒートポンプユニットの最小暖房出力"
   ]
  },
  {
   "cell_type": "markdown",
   "metadata": {},
   "source": [
    "Minimum heating output of heat pump unit"
   ]
  },
  {
   "cell_type": "markdown",
   "metadata": {},
   "source": [
    "$$\n",
    "f_{HPU,q,min} (\\theta_{ex}, \\theta_{RW,hs},\\theta_{HPU,out}) = 6.08 \\times \\theta_{ex} - 46.56 \\times \\theta_{RW,hs} +0.04 \\times \\theta_{HPU,out} + 4739.62\n",
    "$$"
   ]
  },
  {
   "cell_type": "code",
   "execution_count": null,
   "metadata": {},
   "outputs": [],
   "source": [
    "def f_HPU_q_min(Theta_ex, Theta_RW_hs, Theta_HPU_out):\n",
    "    \"\"\" ヒートポンプユニットの最小暖房出力を求める関数 (25)\n",
    "\n",
    "    :param Theta_ex: 外気温度\n",
    "    :type Theta_ex: ndarray\n",
    "    :param Theta_RW_hs: 1時間平均の熱源機の戻り温水温度 (℃)\n",
    "    :type Theta_RW_hs: ndarray\n",
    "    :param Theta_HPU_out: 1時間平均のヒートポンプユニットの出湯温度 (℃)\n",
    "    :type Theta_HPU_out: ndarray\n",
    "    :return: ヒートポンプユニットの最小暖房出力を求める関数 (25)\n",
    "    :rtype: ndarray\n",
    "    \"\"\"\n",
    "    return 6.08 * Theta_ex - 46.56 * Theta_RW_hs + 0.04 * Theta_HPU_out + 4739.62"
   ]
  },
  {
   "cell_type": "markdown",
   "metadata": {},
   "source": [
    "ヒートポンプユニットの最大暖房出力"
   ]
  },
  {
   "cell_type": "markdown",
   "metadata": {},
   "source": [
    "Maximum heating output of heat pump unit"
   ]
  },
  {
   "cell_type": "markdown",
   "metadata": {},
   "source": [
    "$$\n",
    "f_{HPU,q,max} (\\theta_{ex}, \\theta_{RW,hs},\\theta_{HPU,out}) = 1.36 \\times \\theta_{ex} - 89.85 \\times \\theta_{RW,hs} +  46.5 \\times \\theta_{HPU,out} +  5627.07\n",
    "$$"
   ]
  },
  {
   "cell_type": "markdown",
   "metadata": {},
   "source": [
    "$\\theta_{ex}$：外気温度(℃) / Outside air temperature  \n",
    "$\\theta_{RW,hs}$：熱源機の戻り温水温度(℃) / Heat return temperature of heat source machine  \n",
    "$\\theta_{HPU,out}$：ヒートポンプユニットの出湯温度(℃) / Hot water temperature of heat pump unit  "
   ]
  },
  {
   "cell_type": "code",
   "execution_count": null,
   "metadata": {},
   "outputs": [],
   "source": [
    "def f_HPU_q_max(Theta_ex, Theta_RW_hs, Theta_HPU_out):\n",
    "    \"\"\" ヒートポンプユニットの最大暖房出力を求める関数 (26)\n",
    "\n",
    "    :param Theta_ex: 外気温度\n",
    "    :type Theta_ex: ndarray\n",
    "    :param Theta_RW_hs: 1時間平均の熱源機の戻り温水温度 (℃)\n",
    "    :type Theta_RW_hs: ndarray\n",
    "    :param Theta_HPU_out: 1時間平均のヒートポンプユニットの出湯温度 (℃)\n",
    "    :type Theta_HPU_out: ndarray\n",
    "    :return: ヒートポンプユニットの最大暖房出力を求める関数 (26)\n",
    "    :rtype: ndarray\n",
    "    \"\"\"\n",
    "    return 1.36 * Theta_ex - 89.85 * Theta_RW_hs + 46.5 * Theta_HPU_out + 5627.07"
   ]
  },
  {
   "cell_type": "markdown",
   "metadata": {},
   "source": [
    "#### E.4.2 タンクユニット / Tank unit"
   ]
  },
  {
   "cell_type": "markdown",
   "metadata": {},
   "source": [
    "$$\\large\n",
    "f_{TU,P,aux} (r_{intmit}) = 5 + 10 + r_{intmit}\n",
    "$$"
   ]
  },
  {
   "cell_type": "markdown",
   "metadata": {},
   "source": [
    "$r_{intmit}$：ヒートポンプユニットの断続運転率 / Intermittent operation rate of heat pump unit "
   ]
  },
  {
   "cell_type": "code",
   "execution_count": null,
   "metadata": {},
   "outputs": [],
   "source": [
    "def f_TU_P_aux(r_intmit):\n",
    "    \"\"\" タンクユニットの補機の消費電力を求める関数 (27)\n",
    "\n",
    "    :param r_intmit: 1時間平均のヒートポンプユニットの断続運転率\n",
    "    :type r_intmit: ndarray\n",
    "    :return: タンクユニットの補機の消費電力 (W)\n",
    "    :rtype: ndarray\n",
    "    \"\"\"\n",
    "    return 5 + 10 * r_intmit"
   ]
  },
  {
   "cell_type": "markdown",
   "metadata": {},
   "source": [
    "$$\\large\n",
    "f_{TU,q,HPP} (\\theta_{SW,hs}, \\theta_{ex}) = 2.8 \\times (\\theta_{SW,hs} - \\theta_{ex})\n",
    "$$"
   ]
  },
  {
   "cell_type": "markdown",
   "metadata": {},
   "source": [
    "$\\theta_{SW,hs}$：熱源機の往き温水温度(℃) / Hot water temperature of the heat source machine  \n",
    "$\\theta_{ex}$：外気温度(℃) / Outside air temperature  "
   ]
  },
  {
   "cell_type": "code",
   "execution_count": null,
   "metadata": {},
   "outputs": [],
   "source": [
    "def f_TU_q_HPP(Theta_SW_hs, Theta_ex):\n",
    "    \"\"\" タンクユニットのヒートポンプ配管の熱損失を求める関数 (28)\n",
    "\n",
    "    :param Theta_SW_hs: 熱源機の往き温水温度 (℃)\n",
    "    :type Theta_SW_hs: ndarray\n",
    "    :param Theta_ex: 外気温度 (℃)\n",
    "    :type Theta_ex: ndarray\n",
    "    :return: タンクユニットのヒートポンプ配管の熱損失 (W)\n",
    "    :rtype: ndarray\n",
    "    \"\"\"\n",
    "    return 2.8 * (Theta_SW_hs - Theta_ex)"
   ]
  },
  {
   "cell_type": "markdown",
   "metadata": {},
   "source": [
    "$$\\large\n",
    "f_{TU,q,tank} (\\theta_{HP,out}, \\theta_{TU,amb}) = max(0, 1.6 \\times (\\theta_{HP,out} - \\theta_{TU,amb})-72.1)\n",
    "$$"
   ]
  },
  {
   "cell_type": "markdown",
   "metadata": {},
   "source": [
    "$\\theta_{HP,out}$：ヒートポンプユニットの出湯温度(℃) / Hot water temperature of heat pump unit  \n",
    "$\\theta_{TU,amb}$：タンクユニットの周囲空気温度(℃) / Ambient temperature of tank unit  "
   ]
  },
  {
   "cell_type": "code",
   "execution_count": null,
   "metadata": {},
   "outputs": [],
   "source": [
    "def f_TU_q_tank(Theta_HP_out, Theta_TU_amb):\n",
    "    \"\"\" タンクユニットのタンクの熱損失を求める関数 (29)\n",
    "\n",
    "    :param Theta_HP_out: ヒートポンプユニットの出湯温度 (℃)\n",
    "    :type Theta_HP_out: float\n",
    "    :param Theta_TU_amb: タンクユニットの周囲空気温度 (℃)\n",
    "    :type Theta_TU_amb: ndarray\n",
    "    :return: タンクユニットのタンクの熱損失 (W)\n",
    "    :rtype: ndarray\n",
    "    \"\"\"\n",
    "    return np.clip(1.6 * (Theta_HP_out - Theta_TU_amb) - 72.1, 0, None)"
   ]
  },
  {
   "cell_type": "markdown",
   "metadata": {},
   "source": [
    "#### E.4.3 ガスユニット / Gas unit"
   ]
  },
  {
   "cell_type": "markdown",
   "metadata": {},
   "source": [
    "$$\\large\n",
    "f_{GU,G} (q_{GU},e_{GU,rtd},q_{GU,rtd}) = (q_{GU} + q_{body}) \\div e_{ex}\n",
    "$$\n",
    "\n",
    "$$\\large\n",
    "e_{ex} = e_{GU,rtd} \\times f_{ex} \\times (q_{GU,rtd} + q_{body}) \\div q_{GU,rtd}\n",
    "$$"
   ]
  },
  {
   "cell_type": "markdown",
   "metadata": {},
   "source": [
    "$q_{GU}$：ガスユニットの暖房出力(W) / Gas unit heating output  \n",
    "$q_{body}$：ガスユニットの筐体放熱損失(W) / Heat dissipation loss of gas unit case  \n",
    "$e_{ex}$：ガスユニット燃焼室の熱交換効率 / Heat exchange efficiency of gas unit combustion chamber  \n",
    "$f_{ex}$：ガスユニットの定格暖房効率を補正する係数 / Correction factor for rated heating efficiency of gas unit  \n",
    "$e_{GU,rtd}$：ガスユニットの定格暖房効率 / Rated heating efficiency of gas unit  \n",
    "$q_{GU,rtd}$：ガスユニットの定格暖房能力(W) / Gas unit rated heating capacity  "
   ]
  },
  {
   "cell_type": "code",
   "execution_count": null,
   "metadata": {},
   "outputs": [],
   "source": [
    "def f_GU_G(q_GU, e_GU_rtd, q_GU_rtd, Theta_SW_hs):\n",
    "    \"\"\" ガスユニットのガス消費量を求める関数 (30,31)\n",
    "\n",
    "    :param q_GU: ガスユニットの暖房出力 (W)\n",
    "    :type q_GU: ndarray\n",
    "    :param e_GU_rtd: ガスユニットの定格暖房能力 (W)\n",
    "    :type e_GU_rtd: float\n",
    "    :param q_GU_rtd: ガスユニットの定格暖房能力 (W)\n",
    "    :type q_GU_rtd: float\n",
    "    :param Theta_SW_hs: 熱源機の往き温水温度 (℃)\n",
    "    :type Theta_SW_hs: ndarray\n",
    "    :return: ガスユニットのガス消費量を求める関数 (30,31)\n",
    "    :rtype: ndarray\n",
    "    \"\"\"\n",
    "    # f_ex, q_body の作業領域確保\n",
    "    f_ex = np.zeros(24 * 365)\n",
    "    q_body = np.zeros(24 * 365)\n",
    "\n",
    "    # Theta_SW_hs == 40 の場合\n",
    "    f1 = Theta_SW_hs == 40\n",
    "    f_ex[f1] = get_table_e_3()[0][0]\n",
    "    q_body[f1] = get_table_e_3()[1][0]\n",
    "\n",
    "    # Theta_SW_hs == 60 の場合\n",
    "    f2 = Theta_SW_hs == 60\n",
    "    f_ex[f2] = get_table_e_3()[0][1]\n",
    "    q_body[f2] = get_table_e_3()[1][1]\n",
    "\n",
    "    e_ex = e_GU_rtd * f_ex * (q_GU_rtd + q_body) / q_GU_rtd\n",
    "\n",
    "    return (q_GU + q_body) / e_ex"
   ]
  },
  {
   "cell_type": "markdown",
   "metadata": {},
   "source": [
    "<div style=\"text-align: center;font-weight: bold;\">表　ガスユニットの定格暖房効率を補正する係数及びガスユニットの筐体放熱損失<br>Table: Factors to correct the rated heating efficiency of the gas unit and the casing heat dissipation loss of the gas unit</div>\n",
    "\n",
    "<table>\n",
    "<thead>\n",
    "<tr>\n",
    "<th rowspan=\"2\"></th>\n",
    "<th colspan=\"2\">熱源機の往き温水温度 $\\theta_{SW,hs}$<br>Hot water temperature $\\theta_{SW,hs}$ of the heat source machine</th>\n",
    "</tr>\n",
    "<tr>\n",
    "<th>40℃の場合<br>At 40°C</th>\n",
    "<th>60℃の場合<br>At 60°C</th>\n",
    "</tr>\n",
    "</thead>\n",
    "\n",
    "<tbody>\n",
    "<tr>\n",
    "<th>ガスユニットの定格暖房効率を補正する係数 $f_{ex}$<br>Correction factor $f_{ex}$ for rated heating efficiency of gas unit</th>\n",
    "<td>1.064</td>\n",
    "<td>1.038</td>\n",
    "</tr>\n",
    "<tr>\n",
    "<th>ガスユニットの筐体放熱損失 $q_{body}$<br>Heat dissipation loss $q_{body}$ of gas unit case</th>\n",
    "<td>123.74</td>\n",
    "<td>225.26</td>\n",
    "</tr>\n",
    "\n",
    "</tbody>\n",
    "</table>\n"
   ]
  },
  {
   "cell_type": "code",
   "execution_count": null,
   "metadata": {},
   "outputs": [],
   "source": [
    "def get_table_e_3():\n",
    "    \"\"\" 表E.3 ガスユニットの定格暖房効率を補正する係数及びガスユニットの筐体放熱損失\n",
    "\n",
    "    :return: 表E.3 ガスユニットの定格暖房効率を補正する係数及びガスユニットの筐体放熱損失\n",
    "    :rtype: list\n",
    "    \"\"\"\n",
    "    table_e_3 = [\n",
    "        (1.064, 1.038),\n",
    "        (123.74, 225.26)\n",
    "    ]\n",
    "    return table_e_3\n"
   ]
  },
  {
   "cell_type": "markdown",
   "metadata": {},
   "source": [
    "$$\\large\n",
    "f_{GU,q,lossHP} (\\theta_{SW,hs}, \\theta_{TU,amb}) = max(5 \\times (\\theta_{SW,hs} - \\theta_{TU,amb}) -100, 0)\n",
    "$$"
   ]
  },
  {
   "cell_type": "markdown",
   "metadata": {},
   "source": [
    "$\\theta_{SW,hs}$：熱源機の往き温水温度(℃) / Hot water temperature of the heat source machine  \n",
    "$\\theta_{TU,amb}$：タンクユニットの周囲空気温度(℃) / Ambient temperature of tank unit  "
   ]
  },
  {
   "cell_type": "code",
   "execution_count": null,
   "metadata": {},
   "outputs": [],
   "source": [
    "def f_GU_q_lossHP(Theta_SW_hs, Theta_TU_amb):\n",
    "    \"\"\" ヒートポンプユニット運転時のガスユニットの熱損失を求める関数 (32)\n",
    "\n",
    "    :param Theta_SW_hs: 温水暖房用熱源機の往き温水温度\n",
    "    :type Theta_SW_hs: ndarray\n",
    "    :param Theta_TU_amb: 1時間平均のタンクユニットの周囲空気温度 (℃)\n",
    "    :type Theta_TU_amb: ndarray\n",
    "    :return: ヒートポンプユニット運転時のガスユニットの熱損失を求める関数\n",
    "    :rtype: ndarray\n",
    "    \"\"\"\n",
    "    return np.clip(5 * (Theta_SW_hs - Theta_TU_amb) - 100, 0, None)"
   ]
  },
  {
   "cell_type": "markdown",
   "metadata": {},
   "source": [
    "$$\\large\n",
    "f_{GU,P,aux} (q_{G,GU}) =73 + 0.003 \\times q_{G,GU}\n",
    "$$"
   ]
  },
  {
   "cell_type": "markdown",
   "metadata": {},
   "source": [
    "$q_{G,GU}$：ガスユニットのガス消費量(W) / Gas unit gas consumption  "
   ]
  },
  {
   "cell_type": "code",
   "execution_count": null,
   "metadata": {},
   "outputs": [],
   "source": [
    "def f_GU_P_aux(q_G_GU):\n",
    "    \"\"\" ガスユニットの補機の消費電力を求める関数 (33)\n",
    "\n",
    "    :param q_G_GU: ガスユニットのガス消費量 (W)\n",
    "    :type q_G_GU: ndarray\n",
    "    :return: ガスユニットの補機の消費電力 (W)\n",
    "    :rtype: ndarray\n",
    "    \"\"\"\n",
    "    return 73 + 0.003 * q_G_GU"
   ]
  },
  {
   "cell_type": "markdown",
   "metadata": {},
   "source": [
    "### E.5 電気ヒートポンプ・ガス瞬間式併用型給湯温水暖房機（給湯熱源：ガス瞬間式、暖房熱源：電気ヒートポンプ・ガス瞬間式併用）の定義 / Definition of electric heat pump, gas moment type combined hot water supply hot water heater (hot water supply heat source: gas moment type, heating heat source: electric heat pump, gas moment type combined)"
   ]
  },
  {
   "cell_type": "markdown",
   "metadata": {},
   "source": [
    "省略"
   ]
  },
  {
   "cell_type": "markdown",
   "metadata": {},
   "source": [
    "ommision"
   ]
  },
  {
   "cell_type": "markdown",
   "metadata": {},
   "source": [
    "### E.6 品番の追加（参考） / Add part number (reference)"
   ]
  },
  {
   "cell_type": "markdown",
   "metadata": {},
   "source": [
    "省略"
   ]
  },
  {
   "cell_type": "markdown",
   "metadata": {},
   "source": [
    "ommision"
   ]
  }
 ],
 "metadata": {
  "kernelspec": {
   "display_name": "Python 3",
   "language": "python",
   "name": "python3"
  },
  "language_info": {
   "codemirror_mode": {
    "name": "ipython",
    "version": 3
   },
   "file_extension": ".py",
   "mimetype": "text/x-python",
   "name": "python",
   "nbconvert_exporter": "python",
   "pygments_lexer": "ipython3",
   "version": "3.6.6"
  },
  "toc": {
   "base_numbering": 1,
   "nav_menu": {},
   "number_sections": false,
   "sideBar": true,
   "skip_h1_title": false,
   "title_cell": "Table of Contents",
   "title_sidebar": "Contents",
   "toc_cell": false,
   "toc_position": {},
   "toc_section_display": true,
   "toc_window_display": false
  }
 },
 "nbformat": 4,
 "nbformat_minor": 2
}
