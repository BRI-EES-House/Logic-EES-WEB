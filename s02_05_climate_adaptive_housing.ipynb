{
 "cells": [
  {
   "cell_type": "markdown",
   "metadata": {},
   "source": [
    "# 第二章　住宅部分の一次エネルギー消費量 / Chapter 2 Designed Primary Energy Consumption"
   ]
  },
  {
   "cell_type": "markdown",
   "metadata": {},
   "source": [
    "## 第五節　気候風土適応住宅"
   ]
  },
  {
   "cell_type": "markdown",
   "metadata": {},
   "source": [
    "### 7. 基準一次エネルギー消費量"
   ]
  },
  {
   "cell_type": "markdown",
   "metadata": {},
   "source": [
    "#### 7.1 基準一次エネルギー消費量"
   ]
  },
  {
   "cell_type": "markdown",
   "metadata": {},
   "source": [
    "平成28年4月1日時点で現存しない住宅："
   ]
  },
  {
   "cell_type": "markdown",
   "metadata": {},
   "source": [
    "$$\n",
    "\\large\n",
    "E^*_{ST,trad,p} = E_{SH}+E_{SC}+E_{SV}+E_{SL}+E_{SW}+ E_{SM}\n",
    "$$"
   ]
  },
  {
   "cell_type": "markdown",
   "metadata": {},
   "source": [
    "平成28年4月1日時点で現存する住宅："
   ]
  },
  {
   "cell_type": "markdown",
   "metadata": {},
   "source": [
    "$$\n",
    "\\large\n",
    "E^*_{ST,trad,e}=(E_{SH}+E_{SC}+E_{SV}+E_{SL}+E_{SW})\\times 1.1 + E_{SM}\n",
    "$$"
   ]
  },
  {
   "cell_type": "markdown",
   "metadata": {},
   "source": [
    "$E^*_{ST,trad,p}$：平成28 年4 月1 日時点で現存しない気候風土適応住宅に対する、建築物エネルギー消費性能基準となる1年当たりの一次エネルギー消費量（MJ/yr）  \n",
    "$E^*_{ST,trad,e}$：平成28 年4 月1 日時点で現存する気候風土適応住宅に対する、建築物エネルギー消費性能基準となる1年当たりの一次エネルギー消費量（MJ/yr）  \n",
    "$E_{SH}$：1 年当たりの暖房設備の基準一次エネルギー消費量（MJ/yr）  \n",
    "$E_{SC}$：1 年当たりの冷房設備の基準一次エネルギー消費量（MJ/yr）  \n",
    "$E_{SV}$：1 年当たりの機械換気設備の基準一次エネルギー消費量（MJ/yr）  \n",
    "$E_{SL}$：1 年当たりの照明設備の基準一次エネルギー消費量（MJ/yr）  \n",
    "$E_{SW}$：1 年当たりの給湯設備（コージェネレーション設備を含む）の基準一次エネルギー消費量（MJ/yr）  \n",
    "$E_{SM}$：1 年当たりのその他の基準一次エネルギー消費量（MJ/yr）  \n"
   ]
  },
  {
   "cell_type": "code",
   "execution_count": null,
   "metadata": {},
   "outputs": [],
   "source": [
    "def get_E_ST_star(E_SH, E_SC, E_SV, E_SL, E_SW, E_SM, result_type):\n",
    "    \"\"\"基準一次エネルギー消費量\n",
    "\n",
    "    :param E_SH: 1 時間当たりの暖房設備の基準一次エネルギー消費量\n",
    "    :param E_SC: 1 時間当たりの冷房設備の基準一次エネルギー消費量\n",
    "    :param E_SV: 1 時間当たりの換気設備の基準一次エネルギー消費量\n",
    "    :param E_SL: 1 時間当たりの照明設備の基準一次エネルギー消費量\n",
    "    :param E_SW: 1 時間当たりの給湯設備の基準一次エネルギー消費量\n",
    "    :param E_SM: 1 時間当たりのその他の基準一次エネルギー消費量\n",
    "    :param result_type: 基準値計算タイプ\n",
    "    :return: 基準一次エネルギー消費量\n",
    "    :rtype: float\n",
    "    \"\"\"\n",
    "    if result_type == '気候風土適応住宅 新築':\n",
    "        E_star_ST = E_SH + E_SC + E_SV + E_SL + E_SW + E_SM  # (1-1)\n",
    "    elif result_type == '気候風土適応住宅 平成28年4月1日時点で現存':\n",
    "        E_star_ST = (E_SH + E_SC + E_SV + E_SL + E_SW) * 1.1 + E_SM  # (1-2)\n",
    "    else:\n",
    "        raise ValueError('result_type')\n",
    "\n",
    "    return E_star_ST\n"
   ]
  }
 ],
 "metadata": {
  "kernelspec": {
   "display_name": "Python 3",
   "language": "python",
   "name": "python3"
  },
  "language_info": {
   "codemirror_mode": {
    "name": "ipython",
    "version": 3
   },
   "file_extension": ".py",
   "mimetype": "text/x-python",
   "name": "python",
   "nbconvert_exporter": "python",
   "pygments_lexer": "ipython3",
   "version": "3.8.5"
  }
 },
 "nbformat": 4,
 "nbformat_minor": 2
}
