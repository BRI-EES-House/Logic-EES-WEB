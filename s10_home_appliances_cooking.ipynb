{
 "cells": [
  {
   "cell_type": "markdown",
   "metadata": {},
   "source": [
    "# Chapter X Home Appliances · Cooking / 家電・調理"
   ]
  },
  {
   "cell_type": "markdown",
   "metadata": {},
   "source": [
    "## Primary Energy Consumption of Home Appliances / 家電の一次エネルギー消費量"
   ]
  },
  {
   "cell_type": "markdown",
   "metadata": {},
   "source": [
    "### 1. Power / 消費電力量"
   ]
  },
  {
   "cell_type": "markdown",
   "metadata": {},
   "source": [
    "The hourly electric power $E_{E,AP}$ of home appliances is calculated by the equation below."
   ]
  },
  {
   "cell_type": "markdown",
   "metadata": {},
   "source": [
    "$$\n",
    "\\displaystyle\n",
    "\\large\n",
    "E_{E,AP} = \\left\\{ \\begin{array}{ll}\n",
    "    E_{E,AP,p}|_{p=1} \\times \\frac{2 - n_p}{2 - 1} +  E_{E,AP,p}|_{p=2} \\times \\frac{n_p - 1}{2 - 1} & (1 \\leq n_p < 2)\\\\ \n",
    "    E_{E,AP,p}|_{p=2} \\times \\frac{3 - n_p}{3 - 2} +  E_{E,AP,p}|_{p=3} \\times \\frac{n_p - 2}{3 - 2} & (2 \\leq n_p < 3)\\\\ \n",
    "    E_{E,AP,p}|_{p=3} \\times \\frac{4 - n_p}{4 - 3} +  E_{E,AP,p}|_{p=4} \\times \\frac{n_p - 3}{4 - 3} & (3 \\leq n_p \\leq 4)\\\\ \n",
    "    \\end{array}\n",
    "\\right.\n",
    "$$"
   ]
  },
  {
   "cell_type": "markdown",
   "metadata": {},
   "source": [
    "Where  \n",
    "$E_{E,AP}$ is the hourly electric power of home appliances. / 1時間当たりの家電の消費電力量(kWh/h)  \n",
    "$E_{E,AP,p}$ is the hourly electric power of home appliances with $p$ resident people. / 1時間当たりの居住人数が$p$人における家電の消費電力量(kWh/h)  \n",
    "$n_p$ is the virtual resident number. / 仮想居住人数  "
   ]
  },
  {
   "cell_type": "markdown",
   "metadata": {},
   "source": [
    "The hourly electric power $E_{E,AP}$ of home appliances with $p$ resident people shall be the value specified in Appendix A."
   ]
  },
  {
   "cell_type": "markdown",
   "metadata": {},
   "source": [
    "### 2. Gas Consumption / ガス消費量"
   ]
  },
  {
   "cell_type": "markdown",
   "metadata": {},
   "source": [
    "The hourly gas consumption $E_{G,AP}$ of home appliances shall be equal to $0$. "
   ]
  },
  {
   "cell_type": "markdown",
   "metadata": {},
   "source": [
    "### 3. Kerosene Consumption / 灯油消費量"
   ]
  },
  {
   "cell_type": "markdown",
   "metadata": {},
   "source": [
    "The hourly kerosene consumption $E_{K,AP}$ of home appliances shall be equal to $0$. "
   ]
  },
  {
   "cell_type": "markdown",
   "metadata": {},
   "source": [
    "### 4. Primary Energy Consumption by Other Fuels / その他の燃料による一次エネルギー消費量"
   ]
  },
  {
   "cell_type": "markdown",
   "metadata": {},
   "source": [
    "The hourly primary energy consumption $E_{M,AP}$ by other fuels of home appliances shall be equal to $0$. "
   ]
  },
  {
   "cell_type": "markdown",
   "metadata": {},
   "source": [
    "## Primary Energy Consumption of Cooking / 調理の一次エネルギー消費量"
   ]
  },
  {
   "cell_type": "markdown",
   "metadata": {},
   "source": [
    "### 1. Power / 消費電力量"
   ]
  },
  {
   "cell_type": "markdown",
   "metadata": {},
   "source": [
    "The hourly electric power $E_{E,CC}$ of cooking shall be equal to $0$. "
   ]
  },
  {
   "cell_type": "markdown",
   "metadata": {},
   "source": [
    "### 2. Gas Consumption / ガス消費量"
   ]
  },
  {
   "cell_type": "markdown",
   "metadata": {},
   "source": [
    "The hourly gas consumption $E_{G,CC}$ of cooking is calculated by the equation below."
   ]
  },
  {
   "cell_type": "markdown",
   "metadata": {},
   "source": [
    "$$\n",
    "\\displaystyle\n",
    "\\large\n",
    "E_{G,CC} = \\left\\{ \\begin{array}{ll}\n",
    "    E_{G,CC,p}|_{p=1} \\times \\frac{2 - n_p}{2 - 1} +  E_{G,CC,p}|_{p=2} \\times \\frac{n_p - 1}{2 - 1} & (1 \\leq n_p < 2)\\\\ \n",
    "    E_{G,CC,p}|_{p=2} \\times \\frac{3 - n_p}{3 - 2} +  E_{G,CC,p}|_{p=3} \\times \\frac{n_p - 2}{3 - 2} & (2 \\leq n_p < 3)\\\\ \n",
    "    E_{G,CC,p}|_{p=3} \\times \\frac{4 - n_p}{4 - 3} +  E_{G,CC,p}|_{p=4} \\times \\frac{n_p - 3}{4 - 3} & (3 \\leq n_p \\leq 4)\\\\ \n",
    "    \\end{array}\n",
    "\\right.\n",
    "$$"
   ]
  },
  {
   "cell_type": "markdown",
   "metadata": {},
   "source": [
    "Where  \n",
    "$E_{G,CC}$ is the hourly gas consumption of cooking. / 1時間当たりの調理のガス消費量(MJ/h)  \n",
    "$E_{G,CC,p}$ is the hourly gas consumption of cooking with $p$ resident people. / 1時間当たりの居住人数が$p$人における調理のガス消費量(MJ/h)  \n",
    "$n_p$ is the virtual resident number. / 仮想居住人数  "
   ]
  },
  {
   "cell_type": "markdown",
   "metadata": {},
   "source": [
    "### 3. Kerosene Consumption / 灯油消費量"
   ]
  },
  {
   "cell_type": "markdown",
   "metadata": {},
   "source": [
    "The hourly kerosene consumption $E_{K,CC}$ of cooking shall be equal to $0$. "
   ]
  },
  {
   "cell_type": "markdown",
   "metadata": {},
   "source": [
    "### 4. Primary Energy Consumption by Other Fuels / その他の燃料による一次エネルギー消費量"
   ]
  },
  {
   "cell_type": "markdown",
   "metadata": {},
   "source": [
    "The hourly primary energy consumption $E_{M,CC}$ by other fuels of cooking shall be equal to $0$. "
   ]
  }
 ],
 "metadata": {
  "kernelspec": {
   "display_name": "Python 3",
   "language": "python",
   "name": "python3"
  },
  "language_info": {
   "codemirror_mode": {
    "name": "ipython",
    "version": 3
   },
   "file_extension": ".py",
   "mimetype": "text/x-python",
   "name": "python",
   "nbconvert_exporter": "python",
   "pygments_lexer": "ipython3",
   "version": "3.6.4"
  }
 },
 "nbformat": 4,
 "nbformat_minor": 2
}
