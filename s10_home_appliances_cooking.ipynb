{
 "cells": [
  {
   "cell_type": "code",
   "execution_count": 1,
   "metadata": {},
   "outputs": [
    {
     "name": "stdout",
     "output_type": "stream",
     "text": [
      "Importing Jupyter notebook from s11_life_schedule.ipynb\n"
     ]
    }
   ],
   "source": [
    "import nbimporter\n",
    "\n",
    "import s11_life_schedule as LS\n",
    "\n",
    "import math\n",
    "from enum import Enum"
   ]
  },
  {
   "cell_type": "markdown",
   "metadata": {},
   "source": [
    "# Chapter X Home Appliances · Cooking / 家電・調理"
   ]
  },
  {
   "cell_type": "markdown",
   "metadata": {},
   "source": [
    "## Primary Energy Consumption of Home Appliances / 家電の一次エネルギー消費量"
   ]
  },
  {
   "cell_type": "markdown",
   "metadata": {},
   "source": [
    "### 1. Power / 消費電力量"
   ]
  },
  {
   "cell_type": "markdown",
   "metadata": {},
   "source": [
    "The hourly electric power $E_{E,AP}$ of home appliances is calculated by the equation below."
   ]
  },
  {
   "cell_type": "markdown",
   "metadata": {},
   "source": [
    "$$\n",
    "\\displaystyle\n",
    "\\large\n",
    "E_{E,AP} = \\left\\{ \\begin{array}{ll}\n",
    "    E_{E,AP,p}|_{p=1} \\times \\frac{2 - n_p}{2 - 1} +  E_{E,AP,p}|_{p=2} \\times \\frac{n_p - 1}{2 - 1} & (1 \\leq n_p < 2)\\\\ \n",
    "    E_{E,AP,p}|_{p=2} \\times \\frac{3 - n_p}{3 - 2} +  E_{E,AP,p}|_{p=3} \\times \\frac{n_p - 2}{3 - 2} & (2 \\leq n_p < 3)\\\\ \n",
    "    E_{E,AP,p}|_{p=3} \\times \\frac{4 - n_p}{4 - 3} +  E_{E,AP,p}|_{p=4} \\times \\frac{n_p - 3}{4 - 3} & (3 \\leq n_p \\leq 4)\\\\ \n",
    "    \\end{array}\n",
    "\\right.\n",
    "$$"
   ]
  },
  {
   "cell_type": "markdown",
   "metadata": {},
   "source": [
    "Where  \n",
    "$E_{E,AP}$ is the hourly electric power of home appliances. / 1時間当たりの家電の消費電力量(kWh/h)  \n",
    "$E_{E,AP,p}$ is the hourly electric power of home appliances with $p$ resident people. / 1時間当たりの居住人数が$p$人における家電の消費電力量(kWh/h)  \n",
    "$n_p$ is the virtual resident number. / 仮想居住人数  "
   ]
  },
  {
   "cell_type": "code",
   "execution_count": 2,
   "metadata": {},
   "outputs": [],
   "source": [
    "def get_E_E_AP(_E_E_AP_p1, _E_E_AP_p2, _E_E_AP_p3, _E_E_AP_p4, _n_p):\n",
    "    if _n_p < 1:\n",
    "        raise Exception('Number of person should not be less than 1 person.')\n",
    "    elif _n_p == 1 :\n",
    "        return _E_E_AP_p1\n",
    "    elif 1 < _n_p < 2 :\n",
    "        return _E_E_AP_p1 * (2 - _n_p) / (2 - 1) + _E_E_AP_p2 * (_n_p - 1) / (2 - 1)\n",
    "    elif 2 <= _n_p < 3 :\n",
    "        return _E_E_AP_p2 * (3 - _n_p) / (3 - 2) + _E_E_AP_p3 * (_n_p - 2) / (3 - 2)\n",
    "    elif 3 <= _n_p < 4 :\n",
    "        return _E_E_AP_p3 * (4 - _n_p) / (4 - 3) + _E_E_AP_p4 * (_n_p - 3) / (4 - 3)\n",
    "    elif _n_p == 4 :\n",
    "        return _E_E_AP_p4\n",
    "    else:\n",
    "        raise Exception('Number of person should not be over 4 persons.')"
   ]
  },
  {
   "cell_type": "markdown",
   "metadata": {},
   "source": [
    "The hourly electric power $E_{E,AP}$ of home appliances with $p$ resident people shall be the value specified in Appendix A."
   ]
  },
  {
   "cell_type": "markdown",
   "metadata": {},
   "source": [
    "### Test"
   ]
  },
  {
   "cell_type": "code",
   "execution_count": 3,
   "metadata": {},
   "outputs": [
    {
     "data": {
      "text/plain": [
       "35.0"
      ]
     },
     "execution_count": 3,
     "metadata": {},
     "output_type": "execute_result"
    }
   ],
   "source": [
    "get_E_E_AP(_E_E_AP_p1 = 10, _E_E_AP_p2 = 20, _E_E_AP_p3 = 30, _E_E_AP_p4 = 40, _n_p = 3.5)"
   ]
  },
  {
   "cell_type": "markdown",
   "metadata": {},
   "source": [
    "### 2. Gas Consumption / ガス消費量"
   ]
  },
  {
   "cell_type": "markdown",
   "metadata": {},
   "source": [
    "The hourly gas consumption $E_{G,AP}$ of home appliances shall be equal to $0$. "
   ]
  },
  {
   "cell_type": "markdown",
   "metadata": {},
   "source": [
    "### 3. Kerosene Consumption / 灯油消費量"
   ]
  },
  {
   "cell_type": "markdown",
   "metadata": {},
   "source": [
    "The hourly kerosene consumption $E_{K,AP}$ of home appliances shall be equal to $0$. "
   ]
  },
  {
   "cell_type": "markdown",
   "metadata": {},
   "source": [
    "### 4. Primary Energy Consumption by Other Fuels / その他の燃料による一次エネルギー消費量"
   ]
  },
  {
   "cell_type": "markdown",
   "metadata": {},
   "source": [
    "The hourly primary energy consumption $E_{M,AP}$ by other fuels of home appliances shall be equal to $0$. "
   ]
  },
  {
   "cell_type": "markdown",
   "metadata": {},
   "source": [
    "## Primary Energy Consumption of Cooking / 調理の一次エネルギー消費量"
   ]
  },
  {
   "cell_type": "markdown",
   "metadata": {},
   "source": [
    "### 1. Power / 消費電力量"
   ]
  },
  {
   "cell_type": "markdown",
   "metadata": {},
   "source": [
    "The hourly electric power $E_{E,CC}$ of cooking shall be equal to $0$. "
   ]
  },
  {
   "cell_type": "markdown",
   "metadata": {},
   "source": [
    "### 2. Gas Consumption / ガス消費量"
   ]
  },
  {
   "cell_type": "markdown",
   "metadata": {},
   "source": [
    "The hourly gas consumption $E_{G,CC}$ of cooking is calculated by the equation below."
   ]
  },
  {
   "cell_type": "markdown",
   "metadata": {},
   "source": [
    "$$\n",
    "\\displaystyle\n",
    "\\large\n",
    "E_{G,CC} = \\left\\{ \\begin{array}{ll}\n",
    "    E_{G,CC,p}|_{p=1} \\times \\frac{2 - n_p}{2 - 1} +  E_{G,CC,p}|_{p=2} \\times \\frac{n_p - 1}{2 - 1} & (1 \\leq n_p < 2)\\\\ \n",
    "    E_{G,CC,p}|_{p=2} \\times \\frac{3 - n_p}{3 - 2} +  E_{G,CC,p}|_{p=3} \\times \\frac{n_p - 2}{3 - 2} & (2 \\leq n_p < 3)\\\\ \n",
    "    E_{G,CC,p}|_{p=3} \\times \\frac{4 - n_p}{4 - 3} +  E_{G,CC,p}|_{p=4} \\times \\frac{n_p - 3}{4 - 3} & (3 \\leq n_p \\leq 4)\\\\ \n",
    "    \\end{array}\n",
    "\\right.\n",
    "$$"
   ]
  },
  {
   "cell_type": "markdown",
   "metadata": {},
   "source": [
    "Where  \n",
    "$E_{G,CC}$ is the hourly gas consumption of cooking. / 1時間当たりの調理のガス消費量(MJ/h)  \n",
    "$E_{G,CC,p}$ is the hourly gas consumption of cooking with $p$ resident people. / 1時間当たりの居住人数が$p$人における調理のガス消費量(MJ/h)  \n",
    "$n_p$ is the virtual resident number. / 仮想居住人数  "
   ]
  },
  {
   "cell_type": "code",
   "execution_count": 4,
   "metadata": {},
   "outputs": [],
   "source": [
    "def get_E_G_CC(_E_G_CC_p1, _E_G_CC_p2, _E_G_CC_p3, _E_G_CC_p4, _n_p):\n",
    "    if _n_p < 1:\n",
    "        raise Exception('Number of person should not be less than 1 person.')\n",
    "    elif _n_p == 1 :\n",
    "        return _E_G_CC_p1\n",
    "    elif 1 < _n_p < 2 :\n",
    "        return _E_G_CC_p1 * (2 - _n_p) / (2 - 1) + _E_G_CC_p2 * (_n_p - 1) / (2 - 1)\n",
    "    elif 2 < _n_p < 3 :\n",
    "        return _E_G_CC_p2 * (3 - _n_p) / (3 - 2) + _E_G_CC_p3 * (_n_p - 2) / (3 - 2)\n",
    "    elif 3 < _n_p < 4 :\n",
    "        return _E_G_CC_p3 * (4 - _n_p) / (4 - 3) + _E_G_CC_p4 * (_n_p - 3) / (4 - 3)\n",
    "    elif _n_p == 4 :\n",
    "        return _E_G_CC_p4\n",
    "    else:\n",
    "        raise Exception('Number of person should not be over 4 persons.')"
   ]
  },
  {
   "cell_type": "markdown",
   "metadata": {},
   "source": [
    "### Test "
   ]
  },
  {
   "cell_type": "code",
   "execution_count": 5,
   "metadata": {},
   "outputs": [
    {
     "data": {
      "text/plain": [
       "15.0"
      ]
     },
     "execution_count": 5,
     "metadata": {},
     "output_type": "execute_result"
    }
   ],
   "source": [
    "get_E_G_CC(_E_G_CC_p1 = 10, _E_G_CC_p2 = 20, _E_G_CC_p3 = 30, _E_G_CC_p4 =40, _n_p = 1.5)"
   ]
  },
  {
   "cell_type": "markdown",
   "metadata": {},
   "source": [
    "### 3. Kerosene Consumption / 灯油消費量"
   ]
  },
  {
   "cell_type": "markdown",
   "metadata": {},
   "source": [
    "The hourly kerosene consumption $E_{K,CC}$ of cooking shall be equal to $0$. "
   ]
  },
  {
   "cell_type": "markdown",
   "metadata": {},
   "source": [
    "### 4. Primary Energy Consumption by Other Fuels / その他の燃料による一次エネルギー消費量"
   ]
  },
  {
   "cell_type": "markdown",
   "metadata": {},
   "source": [
    "The hourly primary energy consumption $E_{M,CC}$ by other fuels of cooking shall be equal to $0$. "
   ]
  },
  {
   "cell_type": "markdown",
   "metadata": {},
   "source": [
    "## Appendix A : Hourly Energy Consumption / 1時間当たりのエネルギー消費量"
   ]
  },
  {
   "cell_type": "markdown",
   "metadata": {},
   "source": [
    "### A.1 Electricity Power of Home Appliances / 家電による消費電力量"
   ]
  },
  {
   "cell_type": "markdown",
   "metadata": {},
   "source": [
    "The hourly electricity power by $p$ person(s) $E_{E,AP,p,d,t}$ of home appliances depends on the number of residents and the daily schedule and shall use the values listed in Table A.1."
   ]
  },
  {
   "cell_type": "markdown",
   "metadata": {},
   "source": [
    "<div style=\"text-align: center;\">\n",
    "    **table.A.1  the hourly electric power of home appliances (kWh/h)**\n",
    "</div>  \n",
    "\n",
    "| time <br> (hr) | 1 person<br>weekday　　 | 1 person<br>holiday, not home | 1 person<br>holiday, in home | 2 persons<br>weekday　　 | 2 person<br>holiday, not home | 2 person<br>holiday, in home | 3 person<br>weekday　　 | 3 person<br>holiday, not home | 3 person<br>holiday, in home | 4 person<br>weekday　　 | 4 person<br>holiday, not home | 4 person<br>holiday, in home |\n",
    "| --- | --- | --- | --- | --- | --- | --- | --- | --- | --- | --- | --- | --- |\n",
    "| 0:00 | 0.1578 | 0.1578 | 0.1578 | 0.1578 | 0.1578 | 0.1578 | 0.1806 | 0.1806 | 0.1806 | 0.1812 | 0.1812 | 0.1812 |\n",
    "| 1:00 | 0.0483 | 0.0483 | 0.0483 | 0.0483 | 0.0483 | 0.0483 | 0.0711 | 0.0711 | 0.0711 | 0.0717 | 0.0717 | 0.0717 |\n",
    "| 2:00 | 0.0560 | 0.0560 | 0.0560 | 0.0561 | 0.0561 | 0.0561 | 0.0788 | 0.0788 | 0.0788 | 0.0795 | 0.0795 | 0.0795 |\n",
    "| 3:00 | 0.0560 | 0.0560 | 0.0560 | 0.0561 | 0.0561 | 0.0561 | 0.0788 | 0.0788 | 0.0788 | 0.0795 | 0.0795 | 0.0795 |\n",
    "| 4:00 | 0.0483 | 0.0483 | 0.0483 | 0.0483 | 0.0483 | 0.0483 | 0.0711 | 0.0711 | 0.0711 | 0.0717 | 0.0717 | 0.0717 |\n",
    "| 5:00 | 0.0560 | 0.0560 | 0.0560 | 0.0561 | 0.0561 | 0.0561 | 0.0788 | 0.0788 | 0.0788 | 0.0795 | 0.0795 | 0.0795 |\n",
    "| 6:00 | 0.1925 | 0.0859 | 0.0560 | 0.2611 | 0.1159 | 0.0561 | 0.3525 | 0.1685 | 0.0788 | 0.3531 | 0.1692 | 0.0795 |\n",
    "| 7:00 | 0.1524 | 0.2346 | 0.1168 | 0.2480 | 0.2703 | 0.1854 | 0.3662 | 0.3287 | 0.2767 | 0.3669 | 0.3294 | 0.2774 |\n",
    "| 8:00 | 0.1091 | 0.2282 | 0.2156 | 0.1448 | 0.3325 | 0.2812 | 0.2032 | 0.4595 | 0.3696 | 0.2039 | 0.4602 | 0.3702 |\n",
    "| 9:00 | 0.3011 | 0.0560 | 0.2163 | 0.3368 | 0.0561 | 0.2520 | 0.3953 | 0.0788 | 0.3265 | 0.3960 | 0.0795 | 0.3272 |\n",
    "| 10:00 | 0.0483 | 0.0483 | 0.1917 | 0.0483 | 0.0483 | 0.2274 | 0.0711 | 0.0711 | 0.3128 | 0.0717 | 0.0717 | 0.3134 |\n",
    "| 11:00 | 0.0560 | 0.0560 | 0.1994 | 0.0561 | 0.0561 | 0.2352 | 0.0788 | 0.0788 | 0.3150 | 0.0795 | 0.0795 | 0.3157 |\n",
    "| 12:00 | 0.1983 | 0.0560 | 0.1983 | 0.2727 | 0.0561 | 0.2727 | 0.3698 | 0.0788 | 0.3698 | 0.3705 | 0.0795 | 0.3705 |\n",
    "| 13:00 | 0.0483 | 0.0483 | 0.0483 | 0.0483 | 0.0483 | 0.0483 | 0.0711 | 0.0711 | 0.0711 | 0.0717 | 0.0717 | 0.0717 |\n",
    "| 14:00 | 0.0560 | 0.0560 | 0.0560 | 0.0561 | 0.0561 | 0.0561 | 0.0788 | 0.0788 | 0.0788 | 0.0795 | 0.0795 | 0.0795 |\n",
    "| 15:00 | 0.0560 | 0.0560 | 0.0560 | 0.0561 | 0.0561 | 0.0561 | 0.0788 | 0.0788 | 0.0788 | 0.0795 | 0.0795 | 0.0795 |\n",
    "| 16:00 | 0.0483 | 0.0483 | 0.2095 | 0.0483 | 0.0483 | 0.2750 | 0.0711 | 0.0711 | 0.3956 | 0.0717 | 0.0717 | 0.5453 |\n",
    "| 17:00 | 0.1304 | 0.0560 | 0.2423 | 0.2048 | 0.0561 | 0.2781 | 0.3019 | 0.0788 | 0.3689 | 0.3026 | 0.0795 | 0.5187 |\n",
    "| 18:00 | 0.3030 | 0.0560 | 0.1819 | 0.3387 | 0.0561 | 0.2177 | 0.3972 | 0.0788 | 0.2978 | 0.5469 | 0.0795 | 0.4476 |\n",
    "| 19:00 | 0.0991 | 0.0483 | 0.0998 | 0.1348 | 0.0483 | 0.1355 | 0.1932 | 0.0711 | 0.2049 | 0.1939 | 0.0717 | 0.2056 |\n",
    "| 20:00 | 0.0917 | 0.1304 | 0.0917 | 0.1275 | 0.2048 | 0.1275 | 0.2102 | 0.3129 | 0.2183 | 0.2109 | 0.4626 | 0.2190 |\n",
    "| 21:00 | 0.1216 | 0.1755 | 0.1755 | 0.1873 | 0.2411 | 0.2411 | 0.2837 | 0.3322 | 0.3458 | 0.2844 | 0.4447 | 0.3465 |\n",
    "| 22:00 | 0.1738 | 0.0510 | 0.1139 | 0.1917 | 0.0511 | 0.1795 | 0.2620 | 0.0952 | 0.3002 | 0.2626 | 0.0959 | 0.3009 |\n",
    "| 23:00 | 0.1877 | 0.1877 | 0.1578 | 0.2176 | 0.2176 | 0.1578 | 0.2756 | 0.2703 | 0.1806 | 0.2763 | 0.2709 | 0.1812 |\n"
   ]
  },
  {
   "cell_type": "code",
   "execution_count": 6,
   "metadata": {},
   "outputs": [],
   "source": [
    "def get_E_E_AP_p(person, day, hour):\n",
    "    data = {\n",
    "        'p1' : {\n",
    "            LS.SKD_EA.W  : [0.1578 , 0.0483 , 0.056 , 0.056 , 0.0483 , 0.056 , 0.1925 , 0.1524 , 0.1091 , 0.3011 , 0.0483 , 0.056 , 0.1983 , 0.0483 , 0.056 , 0.056 , 0.0483 , 0.1304 , 0.303 , 0.0991 , 0.0917 , 0.1216 , 0.1738 , 0.1877],\n",
    "            LS.SKD_EA.HA : [0.1578 , 0.0483 , 0.056 , 0.056 , 0.0483 , 0.056 , 0.0859 , 0.2346 , 0.2282 , 0.056 , 0.0483 , 0.056 , 0.056 , 0.0483 , 0.056 , 0.056 , 0.0483 , 0.056 , 0.056 , 0.0483 , 0.1304 , 0.1755 , 0.051 , 0.1877],\n",
    "            LS.SKD_EA.HH : [0.1578 , 0.0483 , 0.056 , 0.056 , 0.0483 , 0.056 , 0.056 , 0.1168 , 0.2156 , 0.2163 , 0.1917 , 0.1994 , 0.1983 , 0.0483 , 0.056 , 0.056 , 0.2095 , 0.2423 , 0.1819 , 0.0998 , 0.0917 , 0.1755 , 0.1139 , 0.1578]\n",
    "        },\n",
    "        'p2' : {\n",
    "            LS.SKD_EA.W  : [0.1578 , 0.0483 , 0.0561 , 0.0561 , 0.0483 , 0.0561 , 0.2611 , 0.248 , 0.1448 , 0.3368 , 0.0483 , 0.0561 , 0.2727 , 0.0483 , 0.0561 , 0.0561 , 0.0483 , 0.2048 , 0.3387 , 0.1348 , 0.1275 , 0.1873 , 0.1917 , 0.2176],\n",
    "            LS.SKD_EA.HA : [0.1578 , 0.0483 , 0.0561 , 0.0561 , 0.0483 , 0.0561 , 0.1159 , 0.2703 , 0.3325 , 0.0561 , 0.0483 , 0.0561 , 0.0561 , 0.0483 , 0.0561 , 0.0561 , 0.0483 , 0.0561 , 0.0561 , 0.0483 , 0.2048 , 0.2411 , 0.0511 , 0.2176],\n",
    "            LS.SKD_EA.HH : [0.1578 , 0.0483 , 0.0561 , 0.0561 , 0.0483 , 0.0561 , 0.0561 , 0.1854 , 0.2812 , 0.252 , 0.2274 , 0.2352 , 0.2727 , 0.0483 , 0.0561 , 0.0561 , 0.275 , 0.2781 , 0.2177 , 0.1355 , 0.1275 , 0.2411 , 0.1795 , 0.1578]\n",
    "        },\n",
    "        'p3' : {\n",
    "            LS.SKD_EA.W  : [0.1806 , 0.0711 , 0.0788 , 0.0788 , 0.0711 , 0.0788 , 0.3525 , 0.3662 , 0.2032 , 0.3953 , 0.0711 , 0.0788 , 0.3698 , 0.0711 , 0.0788 , 0.0788 , 0.0711 , 0.3019 , 0.3972 , 0.1932 , 0.2102 , 0.2837 , 0.262 , 0.2756],\n",
    "            LS.SKD_EA.HA : [0.1806 , 0.0711 , 0.0788 , 0.0788 , 0.0711 , 0.0788 , 0.1685 , 0.3287 , 0.4595 , 0.0788 , 0.0711 , 0.0788 , 0.0788 , 0.0711 , 0.0788 , 0.0788 , 0.0711 , 0.0788 , 0.0788 , 0.0711 , 0.3129 , 0.3322 , 0.0952 , 0.2703],\n",
    "            LS.SKD_EA.HH : [0.1806 , 0.0711 , 0.0788 , 0.0788 , 0.0711 , 0.0788 , 0.0788 , 0.2767 , 0.3696 , 0.3265 , 0.3128 , 0.315 , 0.3698 , 0.0711 , 0.0788 , 0.0788 , 0.3956 , 0.3689 , 0.2978 , 0.2049 , 0.2183 , 0.3458 , 0.3002 , 0.1806]\n",
    "        },\n",
    "        'p4' : {\n",
    "            LS.SKD_EA.W  : [0.1812 , 0.0717 , 0.0795 , 0.0795 , 0.0717 , 0.0795 , 0.3531 , 0.3669 , 0.2039 , 0.396 , 0.0717 , 0.0795 , 0.3705 , 0.0717 , 0.0795 , 0.0795 , 0.0717 , 0.3026 , 0.5469 , 0.1939 , 0.2109 , 0.2844 , 0.2626 , 0.2763],\n",
    "            LS.SKD_EA.HA : [0.1812 , 0.0717 , 0.0795 , 0.0795 , 0.0717 , 0.0795 , 0.1692 , 0.3294 , 0.4602 , 0.0795 , 0.0717 , 0.0795 , 0.0795 , 0.0717 , 0.0795 , 0.0795 , 0.0717 , 0.0795 , 0.0795 , 0.0717 , 0.4626 , 0.4447 , 0.0959 , 0.2709],\n",
    "            LS.SKD_EA.HH : [0.1812 , 0.0717 , 0.0795 , 0.0795 , 0.0717 , 0.0795 , 0.0795 , 0.2774 , 0.3702 , 0.3272 , 0.3134 , 0.3157 , 0.3705 , 0.0717 , 0.0795 , 0.0795 , 0.5453 , 0.5187 , 0.4476 , 0.2056 , 0.219 , 0.3465 , 0.3009 , 0.1812]\n",
    "        }\n",
    "    }\n",
    "    return data[person][LS.get_Schedule('ElectricAppliances',day)][hour]"
   ]
  },
  {
   "cell_type": "markdown",
   "metadata": {},
   "source": [
    "### test"
   ]
  },
  {
   "cell_type": "code",
   "execution_count": 7,
   "metadata": {},
   "outputs": [
    {
     "data": {
      "text/plain": [
       "0.0483"
      ]
     },
     "execution_count": 7,
     "metadata": {},
     "output_type": "execute_result"
    }
   ],
   "source": [
    "get_E_E_AP_p(person = 'p2', day = '1/2', hour = 1 )"
   ]
  },
  {
   "cell_type": "markdown",
   "metadata": {},
   "source": [
    "### A.2 Gas Consumption of Cooking / 調理によるガス消費量"
   ]
  },
  {
   "cell_type": "markdown",
   "metadata": {},
   "source": [
    "The hourly gas consumotion by $p$ person(s) $E_{G,CC,p,d,t}$ of cooking depends on the number of residents and the daily schedule and shall use the values listed in Table A.2."
   ]
  },
  {
   "cell_type": "markdown",
   "metadata": {},
   "source": [
    "<div style=\"text-align: center;\">\n",
    "    **table.A.2  the hourly gas consumption of cooking (MJ/h)**\n",
    "</div>  \n",
    "\n",
    "| time <br> (hr) | 1 person<br>weekday　　 | 1 person<br>holiday, not home | 1 person<br>holiday, in home | 2 persons<br>weekday　　 | 2 person<br>holiday, not home | 2 person<br>holiday, in home | 3 person<br>weekday　　 | 3 person<br>holiday, not home | 3 person<br>holiday, in home | 4 person<br>weekday　　 | 4 person<br>holiday, not home | 4 person<br>holiday, in home |\n",
    "| --- | --- | --- | --- | --- | --- | --- | --- | --- | --- | --- | --- | --- |\n",
    "| 0:00 | 0.0000 | 0.0000 | 0.0000 | 0.0000 | 0.0000 | 0.0000 | 0.0000 | 0.0000 | 0.0000 | 0.0000 | 0.0000 | 0.0000 |\n",
    "| 1:00 | 0.0000 | 0.0000 | 0.0000 | 0.0000 | 0.0000 | 0.0000 | 0.0000 | 0.0000 | 0.0000 | 0.0000 | 0.0000 | 0.0000 |\n",
    "| 2:00 | 0.0000 | 0.0000 | 0.0000 | 0.0000 | 0.0000 | 0.0000 | 0.0000 | 0.0000 | 0.0000 | 0.0000 | 0.0000 | 0.0000 |\n",
    "| 3:00 | 0.0000 | 0.0000 | 0.0000 | 0.0000 | 0.0000 | 0.0000 | 0.0000 | 0.0000 | 0.0000 | 0.0000 | 0.0000 | 0.0000 |\n",
    "| 4:00 | 0.0000 | 0.0000 | 0.0000 | 0.0000 | 0.0000 | 0.0000 | 0.0000 | 0.0000 | 0.0000 | 0.0000 | 0.0000 | 0.0000 |\n",
    "| 5:00 | 0.0000 | 0.0000 | 0.0000 | 0.0000 | 0.0000 | 0.0000 | 0.0000 | 0.0000 | 0.0000 | 0.0000 | 0.0000 | 0.0000 |\n",
    "| 6:00 | 0.0000 | 0.0000 | 0.0000 | 1.5935 | 0.0000 | 0.0000 | 1.9235 | 0.0000 | 0.0000 | 2.2536 | 0.0000 | 0.0000 |\n",
    "| 7:00 | 1.0672 | 0.0000 | 0.0000 | 0.0000 | 1.1160 | 1.1160 | 0.0000 | 0.0000 | 0.0000 | 0.0000 | 0.0000 | 0.0000 |\n",
    "| 8:00 | 0.0000 | 1.0672 | 1.0672 | 0.0000 | 0.0000 | 0.0000 | 0.0000 | 1.3472 | 1.3472 | 0.0000 | 1.5783 | 1.5783 |\n",
    "| 9:00 | 0.0000 | 0.0000 | 0.0000 | 0.0000 | 0.0000 | 0.0000 | 0.0000 | 0.0000 | 0.0000 | 0.0000 | 0.0000 | 0.0000 |\n",
    "| 10:00 | 0.0000 | 0.0000 | 0.0000 | 0.0000 | 0.0000 | 0.0000 | 0.0000 | 0.0000 | 0.0000 | 0.0000 | 0.0000 | 0.0000 |\n",
    "| 11:00 | 0.0000 | 0.0000 | 0.0000 | 0.0000 | 0.0000 | 1.1401 | 1.3762 | 0.0000 | 1.3762 | 1.6123 | 0.0000 | 1.6123 |\n",
    "| 12:00 | 0.0000 | 0.0000 | 1.0902 | 1.1401 | 0.0000 | 0.0000 | 0.0000 | 0.0000 | 0.0000 | 0.0000 | 0.0000 | 0.0000 |\n",
    "| 13:00 | 0.0000 | 0.0000 | 0.0000 | 0.0000 | 0.0000 | 0.0000 | 0.0000 | 0.0000 | 0.0000 | 0.0000 | 0.0000 | 0.0000 |\n",
    "| 14:00 | 0.0000 | 0.0000 | 0.0000 | 0.0000 | 0.0000 | 0.0000 | 0.0000 | 0.0000 | 0.0000 | 0.0000 | 0.0000 | 0.0000 |\n",
    "| 15:00 | 0.0000 | 0.0000 | 0.0000 | 0.0000 | 0.0000 | 0.0000 | 0.0000 | 0.0000 | 0.0000 | 0.0000 | 0.0000 | 0.0000 |\n",
    "| 16:00 | 0.0000 | 0.0000 | 0.0000 | 0.0000 | 0.0000 | 0.0000 | 0.0000 | 0.0000 | 0.0000 | 0.0000 | 0.0000 | 0.0000 |\n",
    "| 17:00 | 0.0000 | 0.0000 | 0.0000 | 0.0000 | 0.0000 | 0.0000 | 0.0000 | 0.0000 | 0.0000 | 0.0000 | 0.0000 | 0.0000 |\n",
    "| 18:00 | 0.0000 | 0.0000 | 0.0000 | 0.0000 | 0.0000 | 5.4175 | 0.0000 | 0.0000 | 6.5395 | 0.0000 | 0.0000 | 7.6615 |\n",
    "| 19:00 | 0.0000 | 0.0000 | 5.1806 | 5.4175 | 0.0000 | 0.0000 | 6.5395 | 0.0000 | 0.0000 | 7.6615 | 0.0000 | 0.0000 |\n",
    "| 20:00 | 5.1806 | 0.0000 | 0.0000 | 0.0000 | 0.0000 | 0.0000 | 0.0000 | 0.0000 | 0.0000 | 0.0000 | 0.0000 | 0.0000 |\n",
    "| 21:00 | 0.0000 | 0.0000 | 0.0000 | 0.0000 | 0.0000 | 0.0000 | 0.0000 | 0.0000 | 0.0000 | 0.0000 | 0.0000 | 0.0000 |\n",
    "| 22:00 | 0.0000 | 0.0000 | 0.0000 | 0.0000 | 0.0000 | 0.0000 | 0.0000 | 0.0000 | 0.0000 | 0.0000 | 0.0000 | 0.0000 |\n",
    "| 23:00 | 0.0000 | 0.0000 | 0.0000 | 0.0000 | 0.0000 | 0.0000 | 0.0000 | 0.0000 | 0.0000 | 0.0000 | 0.0000 | 0.0000 |\n"
   ]
  },
  {
   "cell_type": "code",
   "execution_count": 8,
   "metadata": {},
   "outputs": [],
   "source": [
    "def get_E_G_CC_p(person, day, hour):\n",
    "    data = {\n",
    "        'p1' : {\n",
    "            LS.SKD_CK.W  : [0.0000, 0.0000, 0.0000, 0.0000, 0.0000, 0.0000, 0.0000, 1.0672, 0.0000, 0.0000, 0.0000, 0.0000, 0.0000, 0.0000, 0.0000, 0.0000, 0.0000, 0.0000, 0.0000, 0.0000, 5.1806, 0.0000, 0.0000, 0.0000],\n",
    "            LS.SKD_CK.HA : [0.0000, 0.0000, 0.0000, 0.0000, 0.0000, 0.0000, 0.0000, 0.0000, 1.0672, 0.0000, 0.0000, 0.0000, 0.0000, 0.0000, 0.0000, 0.0000, 0.0000, 0.0000, 0.0000, 0.0000, 0.0000, 0.0000, 0.0000, 0.0000],\n",
    "            LS.SKD_CK.HH : [0.0000, 0.0000, 0.0000, 0.0000, 0.0000, 0.0000, 0.0000, 0.0000, 1.0672, 0.0000, 0.0000, 0.0000, 1.0902, 0.0000, 0.0000, 0.0000, 0.0000, 0.0000, 0.0000, 5.1806, 0.0000, 0.0000, 0.0000, 0.0000]\n",
    "        },\n",
    "        'p2' : {\n",
    "            LS.SKD_CK.W  : [0.0000, 0.0000, 0.0000, 0.0000, 0.0000, 0.0000, 1.5935, 0.0000, 0.0000, 0.0000, 0.0000, 0.0000, 1.1401, 0.0000, 0.0000, 0.0000, 0.0000, 0.0000, 0.0000, 5.4175, 0.0000, 0.0000, 0.0000, 0.0000],\n",
    "            LS.SKD_CK.HA : [0.0000, 0.0000, 0.0000, 0.0000, 0.0000, 0.0000, 0.0000, 1.1160, 0.0000, 0.0000, 0.0000, 0.0000, 0.0000, 0.0000, 0.0000, 0.0000, 0.0000, 0.0000, 0.0000, 0.0000, 0.0000, 0.0000, 0.0000, 0.0000],\n",
    "            LS.SKD_CK.HH : [0.0000, 0.0000, 0.0000, 0.0000, 0.0000, 0.0000, 0.0000, 1.1160, 0.0000, 0.0000, 0.0000, 1.1401, 0.0000, 0.0000, 0.0000, 0.0000, 0.0000, 0.0000, 5.4175, 0.0000, 0.0000, 0.0000, 0.0000, 0.0000]\n",
    "        },\n",
    "        'p3' : {\n",
    "            LS.SKD_CK.W  : [0.0000, 0.0000, 0.0000, 0.0000, 0.0000, 0.0000, 1.9235, 0.0000, 0.0000, 0.0000, 0.0000, 1.3762, 0.0000, 0.0000, 0.0000, 0.0000, 0.0000, 0.0000, 0.0000, 6.5395, 0.0000, 0.0000, 0.0000, 0.0000],\n",
    "            LS.SKD_CK.HA : [0.0000, 0.0000, 0.0000, 0.0000, 0.0000, 0.0000, 0.0000, 0.0000, 1.3472, 0.0000, 0.0000, 0.0000, 0.0000, 0.0000, 0.0000, 0.0000, 0.0000, 0.0000, 0.0000, 0.0000, 0.0000, 0.0000, 0.0000, 0.0000],\n",
    "            LS.SKD_CK.HH : [0.0000, 0.0000, 0.0000, 0.0000, 0.0000, 0.0000, 0.0000, 0.0000, 1.3472, 0.0000, 0.0000, 1.3762, 0.0000, 0.0000, 0.0000, 0.0000, 0.0000, 0.0000, 6.5395, 0.0000, 0.0000, 0.0000, 0.0000, 0.0000]\n",
    "        },\n",
    "        'p4' : {\n",
    "            LS.SKD_CK.W  : [0.0000, 0.0000, 0.0000, 0.0000, 0.0000, 0.0000, 2.2536, 0.0000, 0.0000, 0.0000, 0.0000, 1.6123, 0.0000, 0.0000, 0.0000, 0.0000, 0.0000, 0.0000, 0.0000, 7.6615, 0.0000, 0.0000, 0.0000, 0.0000],\n",
    "            LS.SKD_CK.HA : [0.0000, 0.0000, 0.0000, 0.0000, 0.0000, 0.0000, 0.0000, 0.0000, 1.5783, 0.0000, 0.0000, 0.0000, 0.0000, 0.0000, 0.0000, 0.0000, 0.0000, 0.0000, 0.0000, 0.0000, 0.0000, 0.0000, 0.0000, 0.0000],\n",
    "            LS.SKD_CK.HH : [0.0000, 0.0000, 0.0000, 0.0000, 0.0000, 0.0000, 0.0000, 0.0000, 1.5783, 0.0000, 0.0000, 1.6123, 0.0000, 0.0000, 0.0000, 0.0000, 0.0000, 0.0000, 7.6615, 0.0000, 0.0000, 0.0000, 0.0000, 0.0000]\n",
    "        }\n",
    "    }\n",
    "    return data[person][LS.get_Schedule('Cooking',day)][hour]"
   ]
  },
  {
   "cell_type": "markdown",
   "metadata": {},
   "source": [
    "### test"
   ]
  },
  {
   "cell_type": "code",
   "execution_count": 9,
   "metadata": {},
   "outputs": [
    {
     "data": {
      "text/plain": [
       "7.6615"
      ]
     },
     "execution_count": 9,
     "metadata": {},
     "output_type": "execute_result"
    }
   ],
   "source": [
    "get_E_G_CC_p(person = 'p4', day = '1/1', hour = 18 )"
   ]
  },
  {
   "cell_type": "markdown",
   "metadata": {},
   "source": [
    "## Integrated Function"
   ]
  },
  {
   "cell_type": "code",
   "execution_count": 10,
   "metadata": {},
   "outputs": [],
   "source": [
    "def get_result(A_A, day, hour):\n",
    "    \n",
    "    def get_n_p(A_A):\n",
    "        if A_A <= 30:\n",
    "            return 1\n",
    "        elif A_A >= 120:\n",
    "            return 4\n",
    "        else:\n",
    "            return A_A / 30\n",
    "    \n",
    "    _n_p = get_n_p(A_A)\n",
    "    \n",
    "    _E_E_AP_p1 = get_E_E_AP_p('p1', day, hour)\n",
    "    _E_E_AP_p2 = get_E_E_AP_p('p2', day, hour) \n",
    "    _E_E_AP_p3 = get_E_E_AP_p('p3', day, hour)\n",
    "    _E_E_AP_p4 = get_E_E_AP_p('p4', day, hour)\n",
    "    \n",
    "    def get_E_E_AP(_n_p, day, hour):\n",
    "        if _n_p < 1:\n",
    "            raise Exception('Number of person should not be less than 1 person.')\n",
    "        elif _n_p == 1 :\n",
    "            return _E_E_AP_p1\n",
    "        elif 1 < _n_p < 2 :\n",
    "            return _E_E_AP_p1 * (2 - _n_p) / (2 - 1) + _E_E_AP_p2 * (_n_p - 1) / (2 - 1)\n",
    "        elif 2 <= _n_p < 3 :\n",
    "            return _E_E_AP_p2 * (3 - _n_p) / (3 - 2) + _E_E_AP_p3 * (_n_p - 2) / (3 - 2)\n",
    "        elif 3 <= _n_p < 4 :\n",
    "            return _E_E_AP_p3 * (4 - _n_p) / (4 - 3) + _E_E_AP_p4 * (_n_p - 3) / (4 - 3)\n",
    "        elif _n_p == 4 :\n",
    "            return _E_E_AP_p4\n",
    "        else:\n",
    "            raise Exception('Number of person should not be over 4 persons.')\n",
    "    \n",
    "    _E_G_CC_p1 = get_E_G_CC_p('p1', day, hour)\n",
    "    _E_G_CC_p2 = get_E_G_CC_p('p2', day, hour) \n",
    "    _E_G_CC_p3 = get_E_G_CC_p('p3', day, hour)\n",
    "    _E_G_CC_p4 = get_E_G_CC_p('p4', day, hour)\n",
    "    \n",
    "    def get_E_G_CC(_n_p, day, hour):\n",
    "        if _n_p < 1:\n",
    "            raise Exception('Number of person should not be less than 1 person.')\n",
    "        elif _n_p == 1 :\n",
    "            return _E_G_CC_p1\n",
    "        elif 1 < _n_p < 2 :\n",
    "            return _E_G_CC_p1 * (2 - _n_p) / (2 - 1) + _E_G_CC_p2 * (_n_p - 1) / (2 - 1)\n",
    "        elif 2 < _n_p < 3 :\n",
    "            return _E_G_CC_p2 * (3 - _n_p) / (3 - 2) + _E_G_CC_p3 * (_n_p - 2) / (3 - 2)\n",
    "        elif 3 < _n_p < 4 :\n",
    "            return _E_G_CC_p3 * (4 - _n_p) / (4 - 3) + _E_G_CC_p4 * (_n_p - 3) / (4 - 3)\n",
    "        elif _n_p == 4 :\n",
    "            return _E_G_CC_p4\n",
    "        else:\n",
    "            raise Exception('Number of person should not be over 4 persons.')\n",
    "    \n",
    "    _E_E_AP = get_E_E_AP(_n_p, day, hour)\n",
    "    _E_G_CC = get_E_G_CC(_n_p, day, hour)\n",
    "    \n",
    "    results = {\"_E_E_AP\":_E_E_AP, \"_E_G_CC\":_E_G_CC}\n",
    "    \n",
    "    return results"
   ]
  },
  {
   "cell_type": "code",
   "execution_count": 11,
   "metadata": {},
   "outputs": [
    {
     "data": {
      "text/plain": [
       "{'_E_E_AP': 0.3527, '_E_G_CC': 2.0335333333333336}"
      ]
     },
     "execution_count": 11,
     "metadata": {},
     "output_type": "execute_result"
    }
   ],
   "source": [
    "get_result(A_A = 100, day = '6/20', hour = 6)"
   ]
  }
 ],
 "metadata": {
  "kernelspec": {
   "display_name": "Python 3",
   "language": "python",
   "name": "python3"
  },
  "language_info": {
   "codemirror_mode": {
    "name": "ipython",
    "version": 3
   },
   "file_extension": ".py",
   "mimetype": "text/x-python",
   "name": "python",
   "nbconvert_exporter": "python",
   "pygments_lexer": "ipython3",
   "version": "3.6.4"
  }
 },
 "nbformat": 4,
 "nbformat_minor": 2
}
