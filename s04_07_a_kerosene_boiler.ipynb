{
 "cells": [
  {
   "cell_type": "code",
   "execution_count": null,
   "metadata": {},
   "outputs": [],
   "source": [
    "import nbimporter\n",
    "import numpy as np\n",
    "import s04_07_h_max_capacity_of_hot_water_floor_heating as appendix_H"
   ]
  },
  {
   "cell_type": "markdown",
   "metadata": {},
   "source": [
    "## 付録A　石油温水暖房機及び石油給湯温水暖房機 / Appendix A Oil hot water heater and oil hot water heater hot water heater"
   ]
  },
  {
   "cell_type": "markdown",
   "metadata": {},
   "source": [
    "### A.1 記号及び単位 / Symbol and unit"
   ]
  },
  {
   "cell_type": "markdown",
   "metadata": {},
   "source": [
    "省略"
   ]
  },
  {
   "cell_type": "markdown",
   "metadata": {},
   "source": [
    "ommision"
   ]
  },
  {
   "cell_type": "markdown",
   "metadata": {},
   "source": [
    "### A.2 エネルギー消費量 / Energy consumption"
   ]
  },
  {
   "cell_type": "markdown",
   "metadata": {},
   "source": [
    "#### A.2.1 灯油消費量 / Kerosene consumption"
   ]
  },
  {
   "cell_type": "markdown",
   "metadata": {},
   "source": [
    "$$\\large\n",
    "E_{K,hs} = \\left\\{ \\begin{array}{ll}\n",
    "    0&(Q_{out,H,hs} = 0)\\\\ \n",
    "    \\frac{Q_{out,H,hs} + Q_{body}}{e_{ex}} &(Q_{out,H,hs} > 0)\\\\ \n",
    "    \\end{array}\n",
    "\\right.\n",
    "$$"
   ]
  },
  {
   "cell_type": "markdown",
   "metadata": {},
   "source": [
    "$E_{K,hs}$：1 時間当たりの温水暖房用熱源機の灯油消費量(MJ/h) / Kerosene consumption of heat source unit for hot water heating per hour  \n",
    "$Q_{out,H,hs}$：1 時間当たりの温水暖房用熱源機の暖房出力(MJ/h) / Heating output of the heat source machine for hot water heating per hour  \n",
    "$Q_{body}$：1 時間当たりの温水暖房用熱源機の筐体放熱損失(MJ/h) / Heat dissipation loss of the case of the heat source unit for hot water heating per hour  \n",
    "$e_{ex}$：1 時間平均の温水暖房用熱源機の熱交換効率 / Heat exchange efficiency of one hour average hot water heating heat source machine"
   ]
  },
  {
   "cell_type": "code",
   "execution_count": null,
   "metadata": {},
   "outputs": [],
   "source": [
    "def calc_E_K_hs(Q_out_H_hs, e_rtd, hs_type, Theta_SW_hs, Theta_RW_hs, region, A_A, A_MR, A_OR, mode_MR, mode_OR,\n",
    "                has_MR_hwh, has_OR_hwh):\n",
    "    \"\"\" 温水暖房用熱源機の灯油消費量 (1)\n",
    "\n",
    "    :param Q_out_H_hs: 熱源機暖房出力 (MJ/h)\n",
    "    :type Q_out_H_hs: ndarray\n",
    "    :param e_rtd: 当該給湯機の効率\n",
    "    :type e_rtd: float\n",
    "    :param hs_type: 温水暖房用熱源機の種類\n",
    "    :type hs_type: str\n",
    "    :param Theta_SW_hs: 温水暖房用熱源機の往き温水温度\n",
    "    :type Theta_SW_hs: ndarray\n",
    "    :param Theta_RW_hs: 1時間平均の熱源機の戻り温水温度 (℃)\n",
    "    :type Theta_RW_hs: ndarray\n",
    "    :param region: 省エネルギー地域区分\n",
    "    :type region: int\n",
    "    :param A_A: 床面積の合計 (m2)\n",
    "    :type A_A: float\n",
    "    :param A_MR: 主たる居室の床面積 (m2)\n",
    "    :type A_MR: float\n",
    "    :param A_OR: その他の居室の床面積 (m2)\n",
    "    :type A_OR: float\n",
    "    :param mode_MR: 主たる居室の運転モード 'い', 'ろ', 'は'\n",
    "    :type mode_MR: str\n",
    "    :param mode_OR: その他の居室の運転モード 'い', 'ろ', 'は'\n",
    "    :type mode_OR: str\n",
    "    :param has_MR_hwh: 温水暖房の放熱器を主たる居室に設置する場合はTrue\n",
    "    :type has_MR_hwh: bool\n",
    "    :param has_OR_hwh: 温水暖房の放熱器をその他の居室に設置する場合はTrue\n",
    "    :type has_OR_hwh: bool\n",
    "    :return: 温水暖房用熱源機の灯油消費量\n",
    "    :rtype: ndarray\n",
    "    \"\"\"\n",
    "    # 定格試験時の温水暖房用熱源機の筐体放熱損失 (4)\n",
    "    Q_body_rtd = get_Q_body_rtd(hs_type)\n",
    "\n",
    "    # 温水暖房熱源機の定格能力\n",
    "    q_rtd_hs = calc_q_rtd_hs(region, A_A, A_MR, A_OR, mode_MR, mode_OR, has_MR_hwh, has_OR_hwh)\n",
    "\n",
    "    # 1時間平均の温水暖房用熱源機の熱交換効率 (3)\n",
    "    e_ex = calc_e_ex(e_rtd, hs_type, Theta_RW_hs, q_rtd_hs, Q_body_rtd)\n",
    "\n",
    "    # 温水暖房用熱源機の筐体放熱損失 (2)\n",
    "    Q_body = get_Q_body(hs_type, Theta_SW_hs)\n",
    "\n",
    "    # 温水暖房用熱源機の灯油消費量 (1)\n",
    "    E_K_hs = (Q_out_H_hs + Q_body) / e_ex\n",
    "    E_K_hs[Q_out_H_hs == 0] = 0\n",
    "\n",
    "    return E_K_hs\n"
   ]
  },
  {
   "cell_type": "markdown",
   "metadata": {},
   "source": [
    "当該住戸の石油温水暖房機が石油従来型暖房機の場合"
   ]
  },
  {
   "cell_type": "markdown",
   "metadata": {},
   "source": [
    "When the oil hot water heater of the dwelling unit concerned is a petroleum conventional heater"
   ]
  },
  {
   "cell_type": "markdown",
   "metadata": {},
   "source": [
    "$$\\large\n",
    "Q_{body} = 234 \\times 3600 \\times 10^{-6}\n",
    "$$"
   ]
  },
  {
   "cell_type": "markdown",
   "metadata": {},
   "source": [
    "当該住戸の石油温水暖房機が石油潜熱回収型暖房機の場合"
   ]
  },
  {
   "cell_type": "markdown",
   "metadata": {},
   "source": [
    "When the oil hot water heater of the relevant dwelling unit is an oil latent heat recovery type heater"
   ]
  },
  {
   "cell_type": "markdown",
   "metadata": {},
   "source": [
    "$$\\large\n",
    "Q_{body} = (5.3928 \\times \\theta_{SW,hs} - 71.903) \\times 3600 \\times 10^{-6}\n",
    "$$"
   ]
  },
  {
   "cell_type": "markdown",
   "metadata": {},
   "source": [
    "$\\theta_{SW,hs}$：1 時間平均の温水暖房用熱源機の往き温水温度(℃) / One hour average hot water temperature of the hot water source heater for hot water heating"
   ]
  },
  {
   "cell_type": "code",
   "execution_count": null,
   "metadata": {},
   "outputs": [],
   "source": [
    "def get_Q_body(hs_type, Theta_SW_hs):\n",
    "    \"\"\" 温水暖房用熱源機の筐体放熱損失 (2)\n",
    "\n",
    "    :param hs_type: 温水暖房用熱源機の種類\n",
    "    :type hs_type: str\n",
    "    :param Theta_SW_hs: 温水暖房用熱源機の往き温水温度\n",
    "    :type Theta_SW_hs: ndarray\n",
    "    :return: 温水暖房用熱源機の筐体放熱損失\n",
    "    :rtype: ndarray\n",
    "    \"\"\"\n",
    "    if hs_type in ['石油従来型暖房機', '石油従来型温水暖房機', '石油従来型給湯温水暖房機', '不明']:\n",
    "        # (2a)\n",
    "        return [234 * 3600 * 10 ** (-6)] * 24 * 365\n",
    "    elif hs_type in ['石油潜熱回収型暖房機', '石油潜熱回収型温水暖房機', '石油潜熱回収型給湯温水暖房機']:\n",
    "        # (2b)\n",
    "        return (5.3928 * Theta_SW_hs - 71.903) * 3600 * 10 ** (-6)\n",
    "    else:\n",
    "        raise ValueError(hs_type)\n"
   ]
  },
  {
   "cell_type": "markdown",
   "metadata": {},
   "source": [
    "$$\\large\n",
    "e_{ex} = e_{rtd} \\times f_{rtd} \\times \\frac{q_{rtd,hs} \\times 3600 \\times 10^{-6} + Q_{body,rtd}}{q_{rtd,hs} \\times 3600 \\times 10^{-6}}\n",
    "$$"
   ]
  },
  {
   "cell_type": "markdown",
   "metadata": {},
   "source": [
    "$e_{rtd}$：温水暖房用熱源機の定格効率 / Rated efficiency of the hot water heating heat source machine  \n",
    "$f_{rtd}$：1 時間平均の定格効率を補正する係数 / Factor to correct rated efficiency of 1 hour average  \n",
    "$q_{rtd,hs}$：温水暖房用熱源機の定格能力(W) / Rated capacity of hot water heating heat source machine  \n",
    "$Q_{body,rtd}$：1 時間当たりの定格試験時の温水暖房用熱源機の筐体放熱損失(MJ/h) / Heat dissipation loss of the case of the heat source unit for hot water heating at the rated test per hour"
   ]
  },
  {
   "cell_type": "code",
   "execution_count": null,
   "metadata": {},
   "outputs": [],
   "source": [
    "def calc_e_ex(e_rtd, hs_type, Theta_RW_hs, q_rtd_hs, Q_body_rtd):\n",
    "    \"\"\" 1時間平均の温水暖房用熱源機の熱交換効率 (3)\n",
    "\n",
    "    :param e_rtd: 当該給湯機の効率\n",
    "    :type e_rtd: float\n",
    "    :param hs_type: 温水暖房用熱源機の種類\n",
    "    :type hs_type: str\n",
    "    :param Theta_RW_hs: 1時間平均の熱源機の戻り温水温度 (℃)\n",
    "    :type Theta_RW_hs: ndarray\n",
    "    :param q_rtd_hs: 温水暖房用熱源機の定格能力 (W)\n",
    "    :type q_rtd_hs: float\n",
    "    :param Q_body_rtd: 1時間当たりの定格試験時の温水暖房用熱源機の筐体放熱損失（MJ/h）\n",
    "    :type Q_body_rtd: ndarray\n",
    "    :return: 1時間平均の温水暖房用熱源機の熱交換効率 (3)\n",
    "    :rtype: ndarray\n",
    "    \"\"\"\n",
    "    # 1時間平均の定格効率を補正する係数\n",
    "    f_rtd = get_f_rtd(hs_type, Theta_RW_hs)\n",
    "\n",
    "    return e_rtd * f_rtd * (q_rtd_hs * 3600 * 10 ** (-6) + Q_body_rtd) / (q_rtd_hs * 3600 * 10 ** (-6))\n"
   ]
  },
  {
   "cell_type": "markdown",
   "metadata": {},
   "source": [
    "当該住戸の石油熱源機が従来型石油熱源機の場合"
   ]
  },
  {
   "cell_type": "markdown",
   "metadata": {},
   "source": [
    "When the oil heat source machine of the relevant dwelling unit is a conventional oil heat source machine"
   ]
  },
  {
   "cell_type": "markdown",
   "metadata": {},
   "source": [
    "$$\\large\n",
    "Q_{body,rtd} = 234 \\times 3600 \\times 10^{-6}\n",
    "$$"
   ]
  },
  {
   "cell_type": "markdown",
   "metadata": {},
   "source": [
    "当該住戸の石油熱源機が潜熱回収型石油熱源機の場合"
   ]
  },
  {
   "cell_type": "markdown",
   "metadata": {},
   "source": [
    "In the case where the oil heat source of the dwelling unit is a latent heat recovery type oil heat source"
   ]
  },
  {
   "cell_type": "markdown",
   "metadata": {},
   "source": [
    "$$\\large\n",
    "Q_{body,rtd} = (5.3928 \\times \\theta_{SW,hs,rtd} - 71.903) \\times 3600 \\times 10^{-6}\n",
    "$$"
   ]
  },
  {
   "cell_type": "markdown",
   "metadata": {},
   "source": [
    "$\\theta_{SW,hs,rtd}$：温水暖房用熱源機の定格試験時の往き温水温度(℃) / Hot water temperature at the time of rating test of heat source equipment for hot water heating"
   ]
  },
  {
   "cell_type": "code",
   "execution_count": null,
   "metadata": {},
   "outputs": [],
   "source": [
    "def get_Q_body_rtd(hs_type):\n",
    "    \"\"\" 定格試験時の温水暖房用熱源機の筐体放熱損失 (4)\n",
    "\n",
    "    :param hs_type: 温水暖房用熱源機の種類\n",
    "    :type hs_type: str\n",
    "    :return: 定格試験時の温水暖房用熱源機の筐体放熱損失 (4)\n",
    "    :rtype: ndarray\n",
    "    \"\"\"\n",
    "    if hs_type in ['石油従来型暖房機', '石油従来型温水暖房機', '石油従来型給湯温水暖房機']:\n",
    "        # (4a)\n",
    "        return 234 * 3600 * 10 ** (-6) * np.ones(24*365)\n",
    "    elif hs_type in ['石油潜熱回収型暖房機', '石油潜熱回収型温水暖房機', '石油潜熱回収型給湯温水暖房機']:\n",
    "\n",
    "        # 温水暖房用熱源機の定格試験時の往き温水温度\n",
    "        Theta_SW_hs_rtd = get_Theta_SW_hs_rtd()\n",
    "\n",
    "        # (4b)\n",
    "        return (5.3928 * Theta_SW_hs_rtd - 71.903) * 3600 * 10 ** (-6)\n",
    "    else:\n",
    "        raise ValueError(hs_type)"
   ]
  },
  {
   "cell_type": "markdown",
   "metadata": {},
   "source": [
    "当該住戸の石油熱源機が従来型石油熱源機の場合"
   ]
  },
  {
   "cell_type": "markdown",
   "metadata": {},
   "source": [
    "When the oil heat source machine of the relevant dwelling unit is a conventional oil heat source machine"
   ]
  },
  {
   "cell_type": "markdown",
   "metadata": {},
   "source": [
    "$$\\large\n",
    "f_{rtd} = 0.946\n",
    "$$"
   ]
  },
  {
   "cell_type": "markdown",
   "metadata": {},
   "source": [
    "当該住戸の石油熱源機が潜熱回収型石油熱源機の場合"
   ]
  },
  {
   "cell_type": "markdown",
   "metadata": {},
   "source": [
    "In the case where the oil heat source of the dwelling unit is a latent heat recovery type oil heat source"
   ]
  },
  {
   "cell_type": "markdown",
   "metadata": {},
   "source": [
    "$$\\large\n",
    "f_{rtd} = \\left\\{ \\begin{array}{ll}\n",
    "    0.9768 &(\\theta_{RW,hs} \\geq 46.5, \\theta_{RW,hs,rtd} \\geq 46.5)\\\\ \n",
    "    \\frac{(-0.0023 \\times \\theta_{RW,hs} + 1.014)}{0.907} \\times 0.9768 &(\\theta_{RW,hs} < 46.5, \\theta_{RW,hs,rtd} \\geq 46.5)\\\\ \n",
    "    \\frac{0.907}{(-0.0023 \\times \\theta_{RW,hs,rtd} + 1.014)} \\times 0.9768 &(\\theta_{RW,hs} \\geq 46.5, \\theta_{RW,hs,rtd} < 46.5)\\\\ \n",
    "    \\frac{(-0.0023 \\times \\theta_{RW,hs} + 1.014)}{(-0.0023 \\times \\theta_{RW,hs,rtd} + 1.014)} \\times 0.9768 &(\\theta_{RW,hs} < 46.5, \\theta_{RW,hs,rtd} < 46.5)\\\\ \n",
    "    \\end{array}\n",
    "\\right.\n",
    "$$"
   ]
  },
  {
   "cell_type": "markdown",
   "metadata": {},
   "source": [
    "$\\theta_{RW,hs}$：1 時間平均の温水暖房用熱源機の戻り温水温度(℃) / One hour average return hot water temperature of the hot water heating heat source machine  \n",
    "$\\theta_{RW,hs,rtd}$：温水暖房用熱源機の定格試験時の戻り温水温度(℃) / Return hot water temperature at rated test of hot water heating heat source machine"
   ]
  },
  {
   "cell_type": "code",
   "execution_count": null,
   "metadata": {},
   "outputs": [],
   "source": [
    "def get_f_rtd(hs_type, Theta_RW_hs):\n",
    "    \"\"\" 1時間平均の定格効率を補正する係数 (5)\n",
    "\n",
    "    :param hs_type: 温水暖房用熱源機の種類\n",
    "    :type hs_type: str\n",
    "    :param Theta_RW_hs: 1時間平均の熱源機の戻り温水温度 (℃)\n",
    "    :type Theta_RW_hs: ndarray\n",
    "    :return: 1時間平均の定格効率を補正する係数 (5)\n",
    "    :rtype: ndarray\n",
    "    \"\"\"\n",
    "    f_rtd = np.zeros(24 * 365)\n",
    "\n",
    "    if hs_type in ['石油従来型暖房機', '石油従来型温水暖房機', '石油従来型給湯温水暖房機']:\n",
    "        # (5a)\n",
    "        f_rtd[:] = 0.946\n",
    "    elif hs_type in ['石油潜熱回収型暖房機', '石油潜熱回収型温水暖房機', '石油潜熱回収型給湯温水暖房機']:\n",
    "        # (5b)\n",
    "\n",
    "        Theta_RW_hs_rtd = get_Theta_RW_hs_rtd()\n",
    "\n",
    "        # 条件1\n",
    "        f1 = np.logical_and(Theta_RW_hs >= 46.5, Theta_RW_hs_rtd >= 46.5)\n",
    "        f_rtd[f1] = 0.9768\n",
    "\n",
    "        # 条件2\n",
    "        f2 = np.logical_and(Theta_RW_hs < 46.5, Theta_RW_hs_rtd >= 46.5)\n",
    "        f_rtd[f2] = (-0.0023 * Theta_RW_hs[f2] + 1.014) / 0.907 * 0.9768\n",
    "\n",
    "        # 条件3\n",
    "        f3 = np.logical_and(Theta_RW_hs >= 46.5, Theta_RW_hs_rtd < 46.5)\n",
    "        f_rtd[f3] = 0.907 / (-0.0023 * Theta_RW_hs[f3] + 1.014) * 0.9768\n",
    "\n",
    "        # 条件4\n",
    "        f4 = np.logical_and(Theta_RW_hs < 46.5, Theta_RW_hs_rtd < 46.5)\n",
    "        f_rtd[f4] = (-0.0023 * Theta_RW_hs[f4] + 1.014) / (-0.0023 * Theta_RW_hs_rtd + 1.014) * 0.9768\n",
    "\n",
    "    else:\n",
    "        raise ValueError(hs_type)\n",
    "\n",
    "    return f_rtd\n"
   ]
  },
  {
   "cell_type": "markdown",
   "metadata": {},
   "source": [
    "当該住戸の石油温水暖房機が潜熱回収型石油温水暖房機の場合、定格効率$e_{rtd}$は0.91とし、温水暖房用熱源機の定格試験時の往き温水温度$\\theta_{SW,hs,rtd}$は70℃、温水暖房用熱源機の定格試験時の戻り温水温度$\\theta_{RW,hs,rtd}$は50℃とする。 "
   ]
  },
  {
   "cell_type": "markdown",
   "metadata": {},
   "source": [
    "If the oil water heater of the dwelling unit is a latent heat recovery type oil water heater, the rated efficiency $ e_{rtd} $ is 0.91, the temperature $\\theta_{SW,hs,rtd}$ of the hot water at the time of the rating test of the heat source for hot water heating is 70°C, for hot water heating The return hot water temperature $\\theta_{RW, hs, rtd}$ at the time of the rating test of the heat source equipment is 50°C."
   ]
  },
  {
   "cell_type": "code",
   "execution_count": null,
   "metadata": {},
   "outputs": [],
   "source": [
    "def get_e_rtd_default(hs_type):\n",
    "    \"\"\" 定格効率(規定値)\n",
    "\n",
    "    :param hs_type: 温水暖房用熱源機の種類\n",
    "    :type hs_type: str\n",
    "    :return: 定格効率(規定値)\n",
    "    :rtype: float\n",
    "    \"\"\"\n",
    "    if hs_type in ['石油従来型暖房機', '石油従来型温水暖房機', '石油従来型給湯温水暖房機']:\n",
    "        return 0.82\n",
    "    elif hs_type in ['石油潜熱回収型暖房機', '石油潜熱回収型温水暖房機', '石油潜熱回収型給湯温水暖房機']:\n",
    "        return 0.91\n",
    "    else:\n",
    "        raise ValueError(hs_type)"
   ]
  },
  {
   "cell_type": "code",
   "execution_count": null,
   "metadata": {},
   "outputs": [],
   "source": [
    "def get_Theta_SW_hs_rtd():\n",
    "    \"\"\" 温水暖房用熱源機の定格試験時の往き温水温度\n",
    "\n",
    "    :return: 温水暖房用熱源機の定格試験時の往き温水温度\n",
    "    :rtype: float\n",
    "    \"\"\"\n",
    "    return 70\n"
   ]
  },
  {
   "cell_type": "code",
   "execution_count": null,
   "metadata": {},
   "outputs": [],
   "source": [
    "def get_Theta_RW_hs_rtd():\n",
    "    \"\"\" 温水暖房熱源機の定格試験時の戻り温水温度\n",
    "\n",
    "    :return: 温水暖房熱源機の定格試験時の戻り温水温度\n",
    "    :rtype: float\n",
    "    \"\"\"\n",
    "    return 50\n"
   ]
  },
  {
   "cell_type": "code",
   "execution_count": null,
   "metadata": {},
   "outputs": [],
   "source": [
    "def calc_q_rtd_hs(region, A_A, A_MR, A_OR, mode_MR, mode_OR, has_MR_hwh, has_OR_hwh):\n",
    "    \"\"\" 温水暖房熱源機の定格能力\n",
    "\n",
    "    :param region: 省エネルギー地域区分\n",
    "    :type region: int\n",
    "    :param A_A: 床面積の合計 (m2)\n",
    "    :type A_A: float\n",
    "    :param A_MR: 主たる居室の床面積 (m2)\n",
    "    :type A_MR: float\n",
    "    :param A_OR: その他の居室の床面積 (m2)\n",
    "    :type A_OR: float\n",
    "    :param mode_MR: 主たる居室の運転モード 'い', 'ろ', 'は'\n",
    "    :type mode_MR: str\n",
    "    :param mode_OR: その他の居室の運転モード 'い', 'ろ', 'は'\n",
    "    :type mode_OR: str\n",
    "    :param has_MR_hwh: 温水暖房の放熱器を主たる居室に設置する場合はTrue\n",
    "    :type has_MR_hwh: bool\n",
    "    :param has_OR_hwh: 温水暖房の放熱器をその他の居室に設置する場合はTrue\n",
    "    :type has_OR_hwh: bool\n",
    "    :return: 温水暖房熱源機の定格能力\n",
    "    :rtype: float\n",
    "    \"\"\"\n",
    "    # 付録Hに定める温水暖房用熱源機の最大能力 q_max_hs に等しい\n",
    "    return appendix_H.calc_q_max_hs(region, A_A, A_MR, A_OR, mode_MR, mode_OR, has_MR_hwh, has_OR_hwh)"
   ]
  },
  {
   "cell_type": "markdown",
   "metadata": {},
   "source": [
    "#### A.2.2 消費電力量 / Power consumption"
   ]
  },
  {
   "cell_type": "markdown",
   "metadata": {},
   "source": [
    "$$\\large\n",
    "E_{E,hs} = E_{E,hs,pmp} + E_{E,hs,fan}\n",
    "$$"
   ]
  },
  {
   "cell_type": "markdown",
   "metadata": {},
   "source": [
    "$E_{E,hs}$：1 時間当たりの温水暖房用熱源機の消費電力量(kWh/h) / Power consumption of the hot water heating heat source unit per hour  \n",
    "$E_{E,hs,pmp}$：1 時間当たりの温水暖房用熱源機の送水ポンプの消費電力量(kWh/h) / Power consumption of the water supply pump of the heat source unit for hot water heating per hour  \n",
    "$E_{E,hs,fan}$：1 時間当たりの温水暖房用熱源機の排気ファンの消費電力量(kWh/h) / Power consumption of exhaust fan of heat source unit for hot water heating per hour  "
   ]
  },
  {
   "cell_type": "code",
   "execution_count": null,
   "metadata": {},
   "outputs": [],
   "source": [
    "def calc_E_E_hs(hs_type, r_WS_hs, E_K_hs):\n",
    "    \"\"\" 温水暖房用熱源機の消費電力量 (6)\n",
    "\n",
    "    :param hs_type: 温水暖房用熱源機の種類\n",
    "    :type hs_type: str\n",
    "    :param r_WS_hs: 1時間平均の温水暖房用熱源機の温水供給運転率\n",
    "    :type r_WS_hs: ndarray\n",
    "    :param E_K_hs: 1時間当たりの温水暖房用熱源機の灯油消費量（MJ/h）\n",
    "    :type E_K_hs: ndarray\n",
    "    :return: 温水暖房用熱源機の消費電力量\n",
    "    :rtype: ndarray\n",
    "    \"\"\"\n",
    "    # 温水暖房用熱源機の送水ポンプの消費電力量\n",
    "    E_E_hs_pump = calc_E_E_hs_pmp(hs_type, r_WS_hs)\n",
    "\n",
    "    # 温水暖房用の熱源機の排気ファンの消費電力量\n",
    "    E_E_hs_fan = calc_E_E_hs_fan(E_K_hs)\n",
    "\n",
    "    return E_E_hs_pump + E_E_hs_fan"
   ]
  },
  {
   "cell_type": "markdown",
   "metadata": {},
   "source": [
    "$$\\large\n",
    "E_{E,hs,pmp} = P_{hs,pmp} \\times r_{WS,hs} \\times 10^{-3}\n",
    "$$"
   ]
  },
  {
   "cell_type": "markdown",
   "metadata": {},
   "source": [
    "$P_{hs,pmp}$：温水暖房用熱源機の送水ポンプの消費電力(W) / Power consumption of water pump of heat source machine for hot water heating  \n",
    "$r_{WS,hs}$：1 時間平均の温水暖房用熱源機の温水供給運転率 / 1 hour average hot water supply operation rate of the hot water heating heat source machine"
   ]
  },
  {
   "cell_type": "code",
   "execution_count": null,
   "metadata": {},
   "outputs": [],
   "source": [
    "def calc_E_E_hs_pmp(hs_type, r_WS_hs):\n",
    "    \"\"\" 温水暖房用熱源機の送水ポンプの消費電力量 (7)\n",
    "\n",
    "    :param hs_type: 温水暖房用熱源機の種類\n",
    "    :type hs_type: str\n",
    "    :param r_WS_hs: 1時間平均の温水暖房用熱源機の温水供給運転率\n",
    "    :type r_WS_hs: ndarray\n",
    "    :return: 温水暖房用熱源機の送水ポンプの消費電力量\n",
    "    :rtype: ndarray\n",
    "    \"\"\"\n",
    "    # 温水暖房用熱源機の送水ポンプの消費電力\n",
    "    P_hs_pmp = get_P_hs_pmp(hs_type)\n",
    "\n",
    "    return P_hs_pmp * r_WS_hs * 10 ** (-3)"
   ]
  },
  {
   "cell_type": "markdown",
   "metadata": {},
   "source": [
    "温水暖房用熱源機の送水ポンプの消費電力$P_{hs,pmp}$は、当該住戸の石油温水暖房機が石油従来型温水暖房機の場合は90(W)とし、当該住戸の石油温水暖房機が石油潜熱回収型温水暖房機の場合は70（W）とする。 "
   ]
  },
  {
   "cell_type": "markdown",
   "metadata": {},
   "source": [
    "The power consumption $ P_{hs, pmp} $ of the water supply pump of the hot water heating heat source machine is 90 (W) if the oil hot water heater of the dwelling unit is a petroleum conventional hot water heater, and the oil hot water heating of the dwelling unit is If the machine is an oil latent heat recovery type hot water heater, it shall be 70 (W)."
   ]
  },
  {
   "cell_type": "code",
   "execution_count": null,
   "metadata": {},
   "outputs": [],
   "source": [
    "def get_P_hs_pmp(hs_type):\n",
    "    \"\"\" 温水暖房用熱源機の送水ポンプの消費電力\n",
    "\n",
    "    :param hs_type: 温水暖房用熱源機の種類\n",
    "    :type hs_type: str\n",
    "    :return: 温水暖房用熱源機の送水ポンプの消費電力\n",
    "    :rtype: float\n",
    "    \"\"\"\n",
    "    if hs_type in ['石油従来型暖房機', '石油従来型温水暖房機', '石油従来型給湯温水暖房機']:\n",
    "        return 90\n",
    "    elif hs_type in ['石油潜熱回収型暖房機', '石油潜熱回収型温水暖房機', '石油潜熱回収型給湯温水暖房機']:\n",
    "        return 70\n",
    "    else:\n",
    "        raise ValueError(hs_type)\n"
   ]
  },
  {
   "cell_type": "markdown",
   "metadata": {},
   "source": [
    "$$\\large\n",
    "E_{E,hs,fan} = E_{K,hs} \\times \\gamma \\times 10^{3} \\div 3600\n",
    "$$"
   ]
  },
  {
   "cell_type": "markdown",
   "metadata": {},
   "source": [
    "$E_{K,hs}$：1 時間当たりの温水暖房用熱源機の灯油消費量(MJ/h) / Kerosene consumption of heat source unit for hot water heating per hour  \n",
    "$\\gamma$：排気ファンの効率 / Exhaust fan efficiency  "
   ]
  },
  {
   "cell_type": "code",
   "execution_count": null,
   "metadata": {},
   "outputs": [],
   "source": [
    "def calc_E_E_hs_fan(E_K_hs):\n",
    "    \"\"\" 温水暖房用の熱源機の排気ファンの消費電力量 (8)\n",
    "\n",
    "    :param E_K_hs: 1時間当たりの温水暖房用熱源機の灯油消費量（MJ/h）\n",
    "    :type E_K_hs: ndarray\n",
    "    :return: 温水暖房用の熱源機の排気ファンの消費電力量 (8)\n",
    "    :rtype: ndarray\n",
    "    \"\"\"\n",
    "    # 排気ファンの効率\n",
    "    gamma = get_gamma()\n",
    "\n",
    "    return E_K_hs * gamma * 10 ** 3 / 3600"
   ]
  },
  {
   "cell_type": "markdown",
   "metadata": {},
   "source": [
    "排気ファンの効率$\\gamma$は0.003とする。"
   ]
  },
  {
   "cell_type": "markdown",
   "metadata": {},
   "source": [
    "The exhaust fan efficiency $ \\gamma $ is 0.003."
   ]
  },
  {
   "cell_type": "code",
   "execution_count": null,
   "metadata": {},
   "outputs": [],
   "source": [
    "def get_gamma():\n",
    "    \"\"\" 排気ファンの効率\n",
    "\n",
    "    :return: 排気ファンの効率\n",
    "    :rtype: float\n",
    "    \"\"\"\n",
    "    return 0.003\n"
   ]
  },
  {
   "cell_type": "markdown",
   "metadata": {},
   "source": [
    "#### A.2.3 ガス消費量 / Gas consumption"
   ]
  },
  {
   "cell_type": "markdown",
   "metadata": {},
   "source": [
    "1 時間当たりの温水暖房用熱源機のガス消費量$E_{G,hs}$は0とする。 "
   ]
  },
  {
   "cell_type": "markdown",
   "metadata": {},
   "source": [
    "The gas consumption $ E_{G, hs} $ of the hot water heating heat source unit per hour is assumed to be zero."
   ]
  },
  {
   "cell_type": "code",
   "execution_count": null,
   "metadata": {},
   "outputs": [],
   "source": [
    "def get_E_G_hs():\n",
    "    \"\"\" ガス消費量\n",
    "\n",
    "    :return: ガス消費量\n",
    "    :rtype: ndarray\n",
    "    \"\"\"\n",
    "    return np.zeros(24 * 365)\n"
   ]
  },
  {
   "cell_type": "markdown",
   "metadata": {},
   "source": [
    "#### A.2.4 その他の燃料による一次エネルギー消費量 / Primary energy consumption by other fuels"
   ]
  },
  {
   "cell_type": "markdown",
   "metadata": {},
   "source": [
    "1 時間当たりの温水暖房用熱源機のその他の燃料による一次エネルギー消費量$E_{M,hs}$は0とする。 "
   ]
  },
  {
   "cell_type": "markdown",
   "metadata": {},
   "source": [
    "Primary energy consumption $ E_{M, hs} $ by the other fuels of the hot water heating heat source unit per hour is assumed to be zero."
   ]
  },
  {
   "cell_type": "code",
   "execution_count": null,
   "metadata": {},
   "outputs": [],
   "source": [
    "def get_E_M_hs():\n",
    "    \"\"\" その他の燃料による一次エネルギー消費量\n",
    "\n",
    "    :return: その他の燃料による一次エネルギー消費量\n",
    "    :rtype: ndarray\n",
    "    \"\"\"\n",
    "    return np.zeros(24 * 365)\n"
   ]
  },
  {
   "cell_type": "markdown",
   "metadata": {},
   "source": [
    "### A.3 最大暖房出力 / Maximum heating output"
   ]
  },
  {
   "cell_type": "markdown",
   "metadata": {},
   "source": [
    "$$\\large\n",
    "Q_{max,H,hs} = q_{rtd,hs} \\times 3600 \\div 10^{6} \n",
    "$$"
   ]
  },
  {
   "cell_type": "code",
   "execution_count": null,
   "metadata": {},
   "outputs": [],
   "source": [
    "def get_Q_max_H_hs(q_rtd_hs):\n",
    "    \"\"\" 最大暖房出力 (9)\n",
    "\n",
    "    :param q_rtd_hs: 温水暖房用熱源機の定格能力 (W)\n",
    "    :type q_rtd_hs: float\n",
    "    :return: 最大暖房出力\n",
    "    :rtype: ndarray\n",
    "    \"\"\"\n",
    "    return np.ones(24*365) * q_rtd_hs * 3600 / (10 ** 6)\n"
   ]
  }
 ],
 "metadata": {
  "kernelspec": {
   "display_name": "Python 3",
   "language": "python",
   "name": "python3"
  },
  "language_info": {
   "codemirror_mode": {
    "name": "ipython",
    "version": 3
   },
   "file_extension": ".py",
   "mimetype": "text/x-python",
   "name": "python",
   "nbconvert_exporter": "python",
   "pygments_lexer": "ipython3",
   "version": "3.8.5"
  },
  "toc": {
   "base_numbering": 1,
   "nav_menu": {},
   "number_sections": false,
   "sideBar": true,
   "skip_h1_title": false,
   "title_cell": "Table of Contents",
   "title_sidebar": "Contents",
   "toc_cell": false,
   "toc_position": {},
   "toc_section_display": true,
   "toc_window_display": false
  }
 },
 "nbformat": 4,
 "nbformat_minor": 2
}
