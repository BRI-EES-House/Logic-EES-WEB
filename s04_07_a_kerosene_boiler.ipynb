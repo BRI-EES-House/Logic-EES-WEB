{
 "cells": [
  {
   "cell_type": "markdown",
   "metadata": {},
   "source": [
    "# 七節　温水暖房"
   ]
  },
  {
   "cell_type": "markdown",
   "metadata": {},
   "source": [
    "## 付録B　ガス温水暖房機及びガス給湯温水暖房機"
   ]
  },
  {
   "cell_type": "code",
   "execution_count": 1,
   "metadata": {},
   "outputs": [],
   "source": [
    "from enum import Enum"
   ]
  },
  {
   "cell_type": "code",
   "execution_count": 2,
   "metadata": {},
   "outputs": [],
   "source": [
    "# 式（1）\n",
    "def get_E_K_hs(_Q_out_H_hs, _Q_body, _e_ex):\n",
    "    if _Q_out_H_hs == 0:\n",
    "        return 0\n",
    "    elif _Q_out_H_hs > 0:\n",
    "        return (_Q_out_H_hs + _Q_body) / _e_ex\n"
   ]
  },
  {
   "cell_type": "markdown",
   "metadata": {},
   "source": [
    "#### Example"
   ]
  },
  {
   "cell_type": "code",
   "execution_count": 3,
   "metadata": {},
   "outputs": [
    {
     "data": {
      "text/plain": [
       "43.75"
      ]
     },
     "execution_count": 3,
     "metadata": {},
     "output_type": "execute_result"
    }
   ],
   "source": [
    "get_E_K_hs(10,25,0.8)"
   ]
  },
  {
   "cell_type": "code",
   "execution_count": 4,
   "metadata": {},
   "outputs": [],
   "source": [
    "# 式（2）\n",
    "def get_Q_body(_equipment, _theta_SW_hs = None):\n",
    "    if _equipment == 'kerConv':\n",
    "        return 234 * 3600 * 10**(-6)\n",
    "    elif _equipment == 'kerCondensing':\n",
    "        return (5.3928 * _theta_SW_hs - 71.903) * 3600 * 10**(-6)\n"
   ]
  },
  {
   "cell_type": "markdown",
   "metadata": {},
   "source": [
    "#### Example"
   ]
  },
  {
   "cell_type": "code",
   "execution_count": 5,
   "metadata": {},
   "outputs": [
    {
     "data": {
      "text/plain": [
       "(0.8423999999999999, 0.9059940000000001, 0.5177124000000001)"
      ]
     },
     "execution_count": 5,
     "metadata": {},
     "output_type": "execute_result"
    }
   ],
   "source": [
    "kerConv = get_Q_body(_equipment = 'kerConv')\n",
    "kerCondensing_60 = get_Q_body(_equipment = 'kerCondensing', _theta_SW_hs = 60)\n",
    "kerCondensing_40 = get_Q_body(_equipment = 'kerCondensing', _theta_SW_hs = 40)\n",
    "kerConv, kerCondensing_60, kerCondensing_40"
   ]
  },
  {
   "cell_type": "code",
   "execution_count": 6,
   "metadata": {},
   "outputs": [],
   "source": [
    "# 式（3）\n",
    "def get_e_ex(_equipment, _e_rtd, _f_rtd, _q_rtd_hs, _Q_body_rtd, _theta_SW_hs = None):\n",
    "    \n",
    "    return _e_rtd * _f_rtd * (_q_rtd_hs * 3600 * 10**(-6) + _Q_body_rtd) / (_q_rtd_hs * 3600 * 10**(-6))\n",
    "    "
   ]
  },
  {
   "cell_type": "markdown",
   "metadata": {},
   "source": [
    "#### Example"
   ]
  },
  {
   "cell_type": "code",
   "execution_count": 7,
   "metadata": {
    "scrolled": true
   },
   "outputs": [
    {
     "data": {
      "text/plain": [
       "0.741294642857143"
      ]
     },
     "execution_count": 7,
     "metadata": {},
     "output_type": "execute_result"
    }
   ],
   "source": [
    "get_e_ex(_equipment = 'kerCondensing', _e_rtd = 0.81, _f_rtd = 0.9, _q_rtd_hs = 14000, _Q_body_rtd = 0.85, _theta_SW_hs = 60)"
   ]
  },
  {
   "cell_type": "code",
   "execution_count": 8,
   "metadata": {},
   "outputs": [],
   "source": [
    "# 式(4)\n",
    "def get_Q_body_rtd(_equipment):\n",
    "    if _equipment == 'kerConv':\n",
    "        return 234 * 3600 * 10**(-6)\n",
    "    elif _equipment == 'kerCondensing':\n",
    "        _theta_SW_hs_rtd = 70\n",
    "        return (5.3928 * _theta_SW_hs_rtd - 71.903) * 3600 * 10**(-6)\n"
   ]
  },
  {
   "cell_type": "markdown",
   "metadata": {},
   "source": [
    "#### Example"
   ]
  },
  {
   "cell_type": "code",
   "execution_count": 9,
   "metadata": {
    "scrolled": true
   },
   "outputs": [
    {
     "data": {
      "text/plain": [
       "1.1001348"
      ]
     },
     "execution_count": 9,
     "metadata": {},
     "output_type": "execute_result"
    }
   ],
   "source": [
    "get_Q_body_rtd(_equipment = 'kerCondensing')"
   ]
  },
  {
   "cell_type": "code",
   "execution_count": 10,
   "metadata": {},
   "outputs": [],
   "source": [
    "# 式(5)\n",
    "def get_f_rtd(_equipment, _theta_RW_hs = None):\n",
    "    if _equipment == 'kerConv':\n",
    "        return 0.946\n",
    "    elif _equipment == 'kerCondensing':\n",
    "        \n",
    "        _theta_RW_hs_rtd = 50\n",
    "        \n",
    "        if _theta_RW_hs >= 46.5 and _theta_RW_hs_rtd >= 46.5:\n",
    "            return 0.9768\n",
    "        elif _theta_RW_hs < 46.5 and _theta_RW_hs_rtd >= 46.5:\n",
    "            return (-0.0023 * _theta_RW_hs + 1.014) / 0.907 * 0.9768\n",
    "        elif _theta_RW_hs >= 46.5 and _theta_RW_hs_rtd < 46.5:\n",
    "            return 0.907 / (-0.0023 * _theta_RW_hs_rtd + 1.014) * 0.9768\n",
    "        elif _theta_RW_hs < 46.5 and _theta_RW_hs_rtd < 46.5:\n",
    "            return (-0.0023 * _theta_RW_hs + 1.014) / (-0.0023 * _theta_RW_hs_rtd + 1.014) * 0.9768\n",
    "\n"
   ]
  },
  {
   "cell_type": "markdown",
   "metadata": {},
   "source": [
    "#### Example"
   ]
  },
  {
   "cell_type": "code",
   "execution_count": 11,
   "metadata": {},
   "outputs": [
    {
     "data": {
      "text/plain": [
       "0.9929543550165381"
      ]
     },
     "execution_count": 11,
     "metadata": {},
     "output_type": "execute_result"
    }
   ],
   "source": [
    "get_f_rtd(_equipment= 'kerCondensing', _theta_RW_hs = 40)"
   ]
  },
  {
   "cell_type": "code",
   "execution_count": 12,
   "metadata": {},
   "outputs": [],
   "source": [
    "class HeatRadiator_MainRoom_Exist(Enum):\n",
    "    Exist = 1,\n",
    "    NotExist = 2\n",
    "\n",
    "class HeatRadiator_OtherRoom_Exist(Enum):\n",
    "    Exist = 1,\n",
    "    NotExist = 2\n",
    "    "
   ]
  },
  {
   "cell_type": "code",
   "execution_count": 13,
   "metadata": {},
   "outputs": [],
   "source": [
    "# 付録H　温水暖房用熱源機の最大能力\n",
    "\n",
    "# 暖冷房区画の床面積には、温水暖房により暖房される暖冷房区画のみを積算する。\n",
    "\n",
    "# 主居室、その他居室の放熱器の設置有無　＊　運転方法\n",
    "\n",
    "def get_q_max_hs(_region, _A_HCZ_i, _HeatRadiator_MainRoom_Exist, _HeatRadiator_OtherRoom_Exist, _HeatRadiator_MainRoom_Operation, _HeatRadiator_OtherRoom_Operation):\n",
    "    \n",
    "    _f_CT = 1.05\n",
    "    \n",
    "    # _q_rq_H\n",
    "    if _HeatRadiator_MainRoom_Exist == HeatRadiator_MainRoom_Exist.Exist and _HeatRadiator_OtherRoom_Exist == HeatRadiator_OtherRoom_Exist.Exist:\n",
    "        _HeatRadiator_Exist = 'BothRoom_Exist'\n",
    "    elif _HeatRadiator_MainRoom_Exist == HeatRadiator_MainRoom_Exist.Exist and _HeatRadiator_OtherRoom_Exist == HeatRadiator_OtherRoom_Exist.NotExist:\n",
    "        _HeatRadiator_Exist = 'MainRoom_Exist'\n",
    "    elif _HeatRadiator_MainRoom_Exist == HeatRadiator_MainRoom_Exist.NotExist and _HeatRadiator_OtherRoom_Exist == HeatRadiator_OtherRoom_Exist.Exist:\n",
    "        _HeatRadiator_Exist = 'OtherRoom_Exist'\n",
    "    \n",
    "    coef = {'Region1' : {'BothRoom_Exist' : 90.02, 'MainRoom_Exist' : 139.26, 'OtherRoom_Exist' : 62.28},\n",
    "            'Region2' : {'BothRoom_Exist' : 77.81, 'MainRoom_Exist' : 120.65, 'OtherRoom_Exist' : 53.26},\n",
    "            'Region3' : {'BothRoom_Exist' : 73.86, 'MainRoom_Exist' : 111.32, 'OtherRoom_Exist' : 83.81},\n",
    "            'Region4' : {'BothRoom_Exist' : 77.74, 'MainRoom_Exist' : 118.98, 'OtherRoom_Exist' : 55.41},\n",
    "            'Region5' : {'BothRoom_Exist' : 83.24, 'MainRoom_Exist' : 126.56, 'OtherRoom_Exist' : 59.43},\n",
    "            'Region6' : {'BothRoom_Exist' : 69.76, 'MainRoom_Exist' : 106.48, 'OtherRoom_Exist' : 49.93},\n",
    "            'Region7' : {'BothRoom_Exist' : 74.66, 'MainRoom_Exist' : 112.91, 'OtherRoom_Exist' : 53.48},\n",
    "            'Region8' : {'BothRoom_Exist' : None,  'MainRoom_Exist' : None,   'OtherRoom_Exist' : None}\n",
    "    }\n",
    "    \n",
    "    _q_rq_H = coef[_region][_HeatRadiator_Exist]\n",
    "    \n",
    "    # _f_CI\n",
    "      # 主たる居室の運転方法、その他の居室の運転方法\n",
    "    _f_CI = {'Continuous'   : {'Continuous' : 1.0 , 'Intermittent' : 1.0 , 'NotExist' : 1.0 },\n",
    "             'Intermittent' : {'Continuous' : 2.25, 'Intermittent' : 2.25, 'NotExist' : 3.03},\n",
    "             'NotExist'     : {'Continuous' : 1.0 , 'Intermittent' : 1.62}\n",
    "    }[_HeatRadiator_MainRoom_Operation][_HeatRadiator_OtherRoom_Operation]\n",
    "    \n",
    "    print(_q_rq_H , sum(_A_HCZ_i) , _f_CT , _f_CI, sep=\", \")\n",
    "    \n",
    "    return _q_rq_H * sum(_A_HCZ_i) * _f_CT * _f_CI\n",
    "    \n",
    "   "
   ]
  },
  {
   "cell_type": "markdown",
   "metadata": {},
   "source": [
    "#### Example"
   ]
  },
  {
   "cell_type": "code",
   "execution_count": 14,
   "metadata": {},
   "outputs": [
    {
     "name": "stdout",
     "output_type": "stream",
     "text": [
      "53.26, 29.81, 1.05, 2.25\n"
     ]
    },
    {
     "data": {
      "text/plain": [
       "3750.8954175000003"
      ]
     },
     "execution_count": 14,
     "metadata": {},
     "output_type": "execute_result"
    }
   ],
   "source": [
    "get_q_max_hs(_region = 'Region2', _A_HCZ_i = (29.81,0), _HeatRadiator_MainRoom_Exist = HeatRadiator_MainRoom_Exist.NotExist, _HeatRadiator_OtherRoom_Exist = HeatRadiator_OtherRoom_Exist.Exist, _HeatRadiator_MainRoom_Operation = 'Intermittent', _HeatRadiator_OtherRoom_Operation = 'Intermittent')"
   ]
  },
  {
   "cell_type": "code",
   "execution_count": 15,
   "metadata": {},
   "outputs": [],
   "source": [
    "# 式（6）\n",
    "def get_E_E_hs(_E_E_hs_pmp, _E_E_hs_fan):\n",
    "    return _E_E_hs_pmp + _E_E_hs_fan"
   ]
  },
  {
   "cell_type": "code",
   "execution_count": 16,
   "metadata": {},
   "outputs": [],
   "source": [
    "# 式（7）\n",
    "# _r_WS_hsは4章本編の話と思われる。\n",
    "def get_E_E_hs_pmp(_equipment, _r_WS_hs):\n",
    "    \n",
    "    if _equipment == 'kerConv':\n",
    "        _P_hs_pmp = 90\n",
    "    elif _equipment == 'kerCondensing':\n",
    "        _P_hs_pmp = 70 # Unit : W\n",
    "    \n",
    "    return _P_hs_pmp * _r_WS_hs * 10**(-3)"
   ]
  },
  {
   "cell_type": "code",
   "execution_count": 17,
   "metadata": {},
   "outputs": [],
   "source": [
    "# 式（8）\n",
    "def get_E_E_hs_fan(_E_K_hs):\n",
    "    r = 0.003\n",
    "    return _E_K_hs * r * 10**(-3) / 3600\n",
    "    "
   ]
  },
  {
   "cell_type": "code",
   "execution_count": 18,
   "metadata": {},
   "outputs": [],
   "source": [
    "# 式（9）\n",
    "def get_Q_max_H_hs(_q_rtd_hs):\n",
    "    return _q_rtd_hs * 3600 / 10**(6)\n"
   ]
  },
  {
   "cell_type": "markdown",
   "metadata": {},
   "source": [
    "#### Exapmle"
   ]
  },
  {
   "cell_type": "code",
   "execution_count": 19,
   "metadata": {
    "scrolled": false
   },
   "outputs": [
    {
     "name": "stdout",
     "output_type": "stream",
     "text": [
      "53.26, 29.81, 1.05, 1.62\n"
     ]
    },
    {
     "data": {
      "text/plain": [
       "9.722320922160002"
      ]
     },
     "execution_count": 19,
     "metadata": {},
     "output_type": "execute_result"
    }
   ],
   "source": [
    "_q_rtd_hs = get_q_max_hs(_region = 'Region2', _A_HCZ_i = (29.81,0, 0, 0, 0), _HeatRadiator_MainRoom_Exist = HeatRadiator_MainRoom_Exist.NotExist, _HeatRadiator_OtherRoom_Exist = HeatRadiator_OtherRoom_Exist.Exist, _HeatRadiator_MainRoom_Operation = 'NotExist', _HeatRadiator_OtherRoom_Operation = 'Intermittent')\n",
    "\n",
    "_Q_max_H_hs = get_Q_max_H_hs(_q_rtd_hs)\n",
    "_Q_max_H_hs\n",
    "    "
   ]
  },
  {
   "cell_type": "markdown",
   "metadata": {},
   "source": [
    "## Integration Calculation"
   ]
  },
  {
   "cell_type": "code",
   "execution_count": 20,
   "metadata": {},
   "outputs": [],
   "source": [
    "def getHourly_E_K_hs(_equipment, _e_rtd, _Q_out_H_hs, _r_WS_hs, _region, _A_HCZ_i, _HeatRadiator_MainRoom_Exist, _HeatRadiator_OtherRoom_Exist, _HeatRadiator_MainRoom_Operation, _HeatRadiator_OtherRoom_Operation, _theta_RW_hs = None, _theta_SW_hs = None):\n",
    "    \n",
    "    _q_rtd_hs = get_q_max_hs(_region, _A_HCZ_i, _HeatRadiator_MainRoom_Exist, _HeatRadiator_OtherRoom_Exist, _HeatRadiator_MainRoom_Operation, _HeatRadiator_OtherRoom_Operation)\n",
    "    _Q_max_H_hs = get_Q_max_H_hs(_q_rtd_hs)\n",
    "    \n",
    "    _f_rtd = get_f_rtd(_equipment, _theta_RW_hs)\n",
    "    \n",
    "    _Q_body_rtd = get_Q_body_rtd(_equipment)\n",
    "    _e_ex = get_e_ex(_equipment, _e_rtd, _f_rtd, _q_rtd_hs, _Q_body_rtd, _theta_SW_hs)\n",
    "    _Q_body = get_Q_body(_equipment, _theta_SW_hs)\n",
    "    \n",
    "    _E_K_hs = get_E_K_hs(_Q_out_H_hs, _Q_body, _e_ex)\n",
    "    \n",
    "    _E_E_hs_fan = get_E_E_hs_fan(_E_K_hs)\n",
    "    _E_E_hs_pmp = get_E_E_hs_pmp(_equipment, _r_WS_hs)\n",
    "    _E_E_hs = get_E_E_hs(_E_E_hs_pmp, _E_E_hs_fan)\n",
    "\n",
    "    return _E_E_hs\n",
    "    "
   ]
  },
  {
   "cell_type": "markdown",
   "metadata": {},
   "source": [
    "#### Exapmle"
   ]
  },
  {
   "cell_type": "code",
   "execution_count": 21,
   "metadata": {},
   "outputs": [
    {
     "name": "stdout",
     "output_type": "stream",
     "text": [
      "69.76, 29.81, 1.05, 1.0\n"
     ]
    },
    {
     "data": {
      "text/plain": [
       "0.09000001052025688"
      ]
     },
     "execution_count": 21,
     "metadata": {},
     "output_type": "execute_result"
    }
   ],
   "source": [
    "getHourly_E_K_hs(_equipment='kerConv', _e_rtd = 0.82, _Q_out_H_hs = 10, _r_WS_hs = 1, _region = 'Region6', _A_HCZ_i = (29.81,0, 0, 0, 0), _HeatRadiator_MainRoom_Exist = HeatRadiator_MainRoom_Exist.Exist, _HeatRadiator_OtherRoom_Exist = HeatRadiator_OtherRoom_Exist.Exist, _HeatRadiator_MainRoom_Operation = 'Continuous', _HeatRadiator_OtherRoom_Operation = 'Continuous', _theta_RW_hs = None, _theta_SW_hs = None)\n",
    "\n",
    "\n"
   ]
  }
 ],
 "metadata": {
  "kernelspec": {
   "display_name": "Python 3",
   "language": "python",
   "name": "python3"
  },
  "language_info": {
   "codemirror_mode": {
    "name": "ipython",
    "version": 3
   },
   "file_extension": ".py",
   "mimetype": "text/x-python",
   "name": "python",
   "nbconvert_exporter": "python",
   "pygments_lexer": "ipython3",
   "version": "3.6.4"
  }
 },
 "nbformat": 4,
 "nbformat_minor": 2
}
