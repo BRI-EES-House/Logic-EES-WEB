{
 "cells": [
  {
   "cell_type": "code",
   "execution_count": 1,
   "metadata": {},
   "outputs": [],
   "source": [
    "from enum import Enum"
   ]
  },
  {
   "cell_type": "markdown",
   "metadata": {},
   "source": [
    "# 七節　温水暖房"
   ]
  },
  {
   "cell_type": "markdown",
   "metadata": {},
   "source": [
    "## 付録B　石油温水暖房機及び石油給湯温水暖房機"
   ]
  },
  {
   "cell_type": "code",
   "execution_count": 2,
   "metadata": {},
   "outputs": [],
   "source": [
    "def get_kerosene_cons(hs_type, q_out, temp_sw, temp_rw, eff_rtd, q_rtd):\n",
    "    \n",
    "    def get_f_rtd(hs_type, temp_rw):\n",
    "        if hs_type == 'kerConv':\n",
    "            return 0.946\n",
    "        elif hs_type == 'kerCondensing':\n",
    "            temp_rw_rtd = 50.0\n",
    "            if temp_rw_rtd >= 46.5:\n",
    "                if temp_rw >= 46.5:\n",
    "                    return 0.9768\n",
    "                else:\n",
    "                    return (-0.0023 * temp_rw + 1.014) / 0.907 * 0.9768\n",
    "            else:\n",
    "                if temp_rw >= 46.5:\n",
    "                    return 0.907 / (-0.0023 * temp_rw_rtd + 1.014) * 0.9768\n",
    "                else:\n",
    "                    return (-0.0023 * temp_rw + 1.014) / (-0.0023 * temp_rw_rtd + 1.014) * 0.9768\n",
    "\n",
    "    # heat loss from body, MJ/h (eq.2)\n",
    "    q_body = {\n",
    "        'kerConv' : 234 * 3600 * 10**(-6),\n",
    "        'kerCondensing' : (5.3928 * temp_sw - 71.903) * 3600 * 10**(-6)\n",
    "    }\n",
    "    \n",
    "    # (eq.5)\n",
    "    f_rtd = get_f_rtd(hs_type, temp_rw)\n",
    "    \n",
    "    temp_sw_rtd = 70.0\n",
    "\n",
    "    # (eq.4)\n",
    "    q_body_rtd = {\n",
    "        'kerConv' : 234.0 * 3600 * 10**(-6),\n",
    "        'kerCondensing' : (5.3928 * temp_sw_rtd - 71.903) * 3600 * 10**(-6)\n",
    "    }\n",
    "    \n",
    "    # (eq.3)\n",
    "    heat_exchange_coeff = eff_rtd * f_rtd * (q_rtd * 3600 * 10**(-6) + q_body_rtd) / (q_rtd * 3600 * 10**(-6))\n",
    "\n",
    "    # hourly kerosene consumption, MJ/h (eq.1)\n",
    "    return (q_out + q_body) / heat_exchange_coeff if q_out > 0.0 else 0.0"
   ]
  },
  {
   "cell_type": "code",
   "execution_count": 3,
   "metadata": {},
   "outputs": [],
   "source": [
    "def get_elec_cons(hs_type, r_ws, ker_cons):\n",
    "    # pump power, W\n",
    "    p_pmp = {\n",
    "        'kerConv' : 90.0,\n",
    "        'kerCondensing' : 70.0\n",
    "    }[hs_type]\n",
    "    # (eq.7)\n",
    "    elec_pmp = p_pmp * r_ws * 10**(-3)\n",
    "    r = 0.003\n",
    "    # (eq.8)\n",
    "    elec_fan = ker_cons * r * 10**3 / 3600\n",
    "    # (eq.6)\n",
    "    return elec_pmp + elec_fan       "
   ]
  },
  {
   "cell_type": "code",
   "execution_count": 4,
   "metadata": {},
   "outputs": [],
   "source": [
    "def get_cons(hs_type, q_out, temp_sw, temp_rw, eff_rtd, q_rtd, r_ws):\n",
    "    gas = 0.0\n",
    "    ker = get_kerosene_cons(hs_type, q_out, temp_sw, temp_rw, eff_rtd, q_rtd)\n",
    "    elec = get_elec_cons(hs_type, r_ws, ker)\n",
    "    return elec, gas, ker"
   ]
  },
  {
   "cell_type": "code",
   "execution_count": 5,
   "metadata": {},
   "outputs": [],
   "source": [
    "class HeatRadiator_MainRoom_Exist(Enum):\n",
    "    Exist = 1,\n",
    "    NotExist = 2\n",
    "\n",
    "class HeatRadiator_OtherRoom_Exist(Enum):\n",
    "    Exist = 1,\n",
    "    NotExist = 2\n",
    "    "
   ]
  },
  {
   "cell_type": "code",
   "execution_count": 6,
   "metadata": {},
   "outputs": [],
   "source": [
    "# 付録H　温水暖房用熱源機の最大能力\n",
    "\n",
    "# 暖冷房区画の床面積には、温水暖房により暖房される暖冷房区画のみを積算する。\n",
    "\n",
    "# 主居室、その他居室の放熱器の設置有無　＊　運転方法\n",
    "\n",
    "def get_q_max_hs(_region, _A_HCZ_i, _HeatRadiator_MainRoom_Exist, _HeatRadiator_OtherRoom_Exist, _HeatRadiator_MainRoom_Operation, _HeatRadiator_OtherRoom_Operation):\n",
    "    \n",
    "    _f_CT = 1.05\n",
    "    \n",
    "    # _q_rq_H\n",
    "    if _HeatRadiator_MainRoom_Exist == HeatRadiator_MainRoom_Exist.Exist and _HeatRadiator_OtherRoom_Exist == HeatRadiator_OtherRoom_Exist.Exist:\n",
    "        _HeatRadiator_Exist = 'BothRoom_Exist'\n",
    "    elif _HeatRadiator_MainRoom_Exist == HeatRadiator_MainRoom_Exist.Exist and _HeatRadiator_OtherRoom_Exist == HeatRadiator_OtherRoom_Exist.NotExist:\n",
    "        _HeatRadiator_Exist = 'MainRoom_Exist'\n",
    "    elif _HeatRadiator_MainRoom_Exist == HeatRadiator_MainRoom_Exist.NotExist and _HeatRadiator_OtherRoom_Exist == HeatRadiator_OtherRoom_Exist.Exist:\n",
    "        _HeatRadiator_Exist = 'OtherRoom_Exist'\n",
    "    \n",
    "    coef = {'Region1' : {'BothRoom_Exist' : 90.02, 'MainRoom_Exist' : 139.26, 'OtherRoom_Exist' : 62.28},\n",
    "            'Region2' : {'BothRoom_Exist' : 77.81, 'MainRoom_Exist' : 120.65, 'OtherRoom_Exist' : 53.26},\n",
    "            'Region3' : {'BothRoom_Exist' : 73.86, 'MainRoom_Exist' : 111.32, 'OtherRoom_Exist' : 83.81},\n",
    "            'Region4' : {'BothRoom_Exist' : 77.74, 'MainRoom_Exist' : 118.98, 'OtherRoom_Exist' : 55.41},\n",
    "            'Region5' : {'BothRoom_Exist' : 83.24, 'MainRoom_Exist' : 126.56, 'OtherRoom_Exist' : 59.43},\n",
    "            'Region6' : {'BothRoom_Exist' : 69.76, 'MainRoom_Exist' : 106.48, 'OtherRoom_Exist' : 49.93},\n",
    "            'Region7' : {'BothRoom_Exist' : 74.66, 'MainRoom_Exist' : 112.91, 'OtherRoom_Exist' : 53.48},\n",
    "            'Region8' : {'BothRoom_Exist' : None,  'MainRoom_Exist' : None,   'OtherRoom_Exist' : None}\n",
    "    }\n",
    "    \n",
    "    _q_rq_H = coef[_region][_HeatRadiator_Exist]\n",
    "    \n",
    "    # _f_CI\n",
    "      # 主たる居室の運転方法、その他の居室の運転方法\n",
    "    _f_CI = {'Continuous'   : {'Continuous' : 1.0 , 'Intermittent' : 1.0 , 'NotExist' : 1.0 },\n",
    "             'Intermittent' : {'Continuous' : 2.25, 'Intermittent' : 2.25, 'NotExist' : 3.03},\n",
    "             'NotExist'     : {'Continuous' : 1.0 , 'Intermittent' : 1.62}\n",
    "    }[_HeatRadiator_MainRoom_Operation][_HeatRadiator_OtherRoom_Operation]\n",
    "    \n",
    "    print(_q_rq_H , sum(_A_HCZ_i) , _f_CT , _f_CI, sep=\", \")\n",
    "    \n",
    "    return _q_rq_H * sum(_A_HCZ_i) * _f_CT * _f_CI\n",
    "    \n",
    "   "
   ]
  },
  {
   "cell_type": "markdown",
   "metadata": {},
   "source": [
    "#### Example"
   ]
  },
  {
   "cell_type": "code",
   "execution_count": 7,
   "metadata": {},
   "outputs": [
    {
     "name": "stdout",
     "output_type": "stream",
     "text": [
      "53.26, 29.81, 1.05, 2.25\n"
     ]
    },
    {
     "data": {
      "text/plain": [
       "3750.8954175000003"
      ]
     },
     "execution_count": 7,
     "metadata": {},
     "output_type": "execute_result"
    }
   ],
   "source": [
    "get_q_max_hs(_region = 'Region2', _A_HCZ_i = (29.81,0), _HeatRadiator_MainRoom_Exist = HeatRadiator_MainRoom_Exist.NotExist, _HeatRadiator_OtherRoom_Exist = HeatRadiator_OtherRoom_Exist.Exist, _HeatRadiator_MainRoom_Operation = 'Intermittent', _HeatRadiator_OtherRoom_Operation = 'Intermittent')"
   ]
  },
  {
   "cell_type": "code",
   "execution_count": 8,
   "metadata": {},
   "outputs": [],
   "source": [
    "# 式（9）\n",
    "def get_Q_max_H_hs(_q_rtd_hs):\n",
    "    return _q_rtd_hs * 3600 / 10**(6)\n"
   ]
  },
  {
   "cell_type": "markdown",
   "metadata": {},
   "source": [
    "#### Exapmle"
   ]
  },
  {
   "cell_type": "code",
   "execution_count": 9,
   "metadata": {
    "scrolled": false
   },
   "outputs": [
    {
     "name": "stdout",
     "output_type": "stream",
     "text": [
      "53.26, 29.81, 1.05, 1.62\n"
     ]
    },
    {
     "data": {
      "text/plain": [
       "9.722320922160002"
      ]
     },
     "execution_count": 9,
     "metadata": {},
     "output_type": "execute_result"
    }
   ],
   "source": [
    "_q_rtd_hs = get_q_max_hs(_region = 'Region2', _A_HCZ_i = (29.81,0, 0, 0, 0), _HeatRadiator_MainRoom_Exist = HeatRadiator_MainRoom_Exist.NotExist, _HeatRadiator_OtherRoom_Exist = HeatRadiator_OtherRoom_Exist.Exist, _HeatRadiator_MainRoom_Operation = 'NotExist', _HeatRadiator_OtherRoom_Operation = 'Intermittent')\n",
    "\n",
    "_Q_max_H_hs = get_Q_max_H_hs(_q_rtd_hs)\n",
    "_Q_max_H_hs\n",
    "    "
   ]
  }
 ],
 "metadata": {
  "kernelspec": {
   "display_name": "Python 3",
   "language": "python",
   "name": "python3"
  },
  "language_info": {
   "codemirror_mode": {
    "name": "ipython",
    "version": 3
   },
   "file_extension": ".py",
   "mimetype": "text/x-python",
   "name": "python",
   "nbconvert_exporter": "python",
   "pygments_lexer": "ipython3",
   "version": "3.6.5"
  }
 },
 "nbformat": 4,
 "nbformat_minor": 2
}
