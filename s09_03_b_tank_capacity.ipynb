{
 "cells": [
  {
   "cell_type": "markdown",
   "metadata": {},
   "source": [
    "## 付録 B 給湯部のタンク容量 / Appendix B Tank capacity of hot water supply unit"
   ]
  },
  {
   "cell_type": "markdown",
   "metadata": {},
   "source": [
    "給湯部のタンク容量$W_{tnk}$は JIS A 4113「太陽蓄熱槽」で規定される貯湯槽容量の小数点第一位を四捨五入し整数値とした値である。"
   ]
  },
  {
   "cell_type": "markdown",
   "metadata": {},
   "source": [
    "The tank capacity $ W_ {tnk} $ of the hot water supply unit is a value obtained by rounding off the first decimal place of the storage tank capacity defined in JIS A 4113 “Solar heat storage tank” and taking it as an integer value."
   ]
  },
  {
   "cell_type": "code",
   "execution_count": null,
   "metadata": {},
   "outputs": [],
   "source": [
    "def get_W_tnk(W_tnk_raw):\n",
    "    \"\"\"給湯部のタンク容量\n",
    "\n",
    "    :param W_tnk_raw: JIS A 4113「太陽蓄熱槽」で規定される貯湯槽容量\n",
    "    :type W_tnk_raw: float\n",
    "    :return:貯湯槽容量の小数点第一位を四捨五入し整数値とした値\n",
    "    :rtype: int\n",
    "    \"\"\"\n",
    "    return round(W_tnk_raw)"
   ]
  }
 ],
 "metadata": {
  "kernelspec": {
   "display_name": "Python 3",
   "language": "python",
   "name": "python3"
  },
  "language_info": {
   "codemirror_mode": {
    "name": "ipython",
    "version": 3
   },
   "file_extension": ".py",
   "mimetype": "text/x-python",
   "name": "python",
   "nbconvert_exporter": "python",
   "pygments_lexer": "ipython3",
   "version": "3.8.5"
  },
  "toc": {
   "base_numbering": 1,
   "nav_menu": {},
   "number_sections": false,
   "sideBar": true,
   "skip_h1_title": false,
   "title_cell": "Table of Contents",
   "title_sidebar": "Contents",
   "toc_cell": false,
   "toc_position": {},
   "toc_section_display": true,
   "toc_window_display": false
  }
 },
 "nbformat": 4,
 "nbformat_minor": 2
}
