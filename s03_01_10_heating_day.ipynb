{
 "cells": [
  {
   "cell_type": "code",
   "execution_count": null,
   "metadata": {},
   "outputs": [],
   "source": [
    "import numpy as np\n"
   ]
  },
  {
   "cell_type": "markdown",
   "metadata": {},
   "source": [
    "### 10．暖房日 / Heating day"
   ]
  },
  {
   "cell_type": "markdown",
   "metadata": {},
   "source": [
    "暖房日は暖房使用が発生することが見込まれる日と定義し、当該日の前日において標準住戸全体の負荷補正前の暖房負荷を日積算した値がゼロを超える場合（すなわち、$0 < \\sum_{t=0}^{23} \\sum_{i=1}^{12} L'_{H,R,d-1,t,i}$ の場合）、日付$d$は暖房日とする。ただし、日積算においては、日付$d-1$の時刻$t$における暖冷房区画$i$の標準住戸の負荷補正前の暖房負荷$L'_{H,R,d-1,t,i}$は、ゼロ未満の場合はゼロとする。また、日付$d$が 1 月 1 日である場合、日付݀は暖房日とする。 "
   ]
  },
  {
   "cell_type": "markdown",
   "metadata": {},
   "source": [
    "A heating day is defined as a day when heating use is expected to occur, and if the value obtained by integrating the heating load before the load correction of the entire standard dwellings on the day before that day exceeds zero (That is, in the case of $ 0 <\\sum_ {t = 0} ^ {23} \\sum_ {i = 1} ^ {12} L '_ {H, R, d-1, t, i} $), the date $ d $ Is a heating day. However, in the daily integration, the heating load $L'_{H,R,d-1,t,i}$ before the load correction of the standard dwelling unit $ i $ of the heating / cooling section $ i $ at the time $ t $ of the date $ d-1 $ is zero if less than zero. Also, if the date $ d $ is January 1, the date is the heating day."
   ]
  },
  {
   "cell_type": "code",
   "execution_count": null,
   "metadata": {},
   "outputs": [],
   "source": [
    "def get_heating_flag_d(L_dash_H_R_d_t_i):\n",
    "    \"\"\" 暖房日 = 暖房使用が発生することが見込まれる日\n",
    "\n",
    "    :param L_dash_H_R_d_t_i: 標準住戸の負荷補正前の暖房負荷 (MJ/h)\n",
    "    :type L_dash_H_R_d_t_i: ndarray\n",
    "    :return: 暖房使用が発生することが見込まれる日\n",
    "    :rtype: ndarray\n",
    "    \"\"\"\n",
    "    L_dash_H_R_d_t = np.sum(L_dash_H_R_d_t_i, axis=0)\n",
    "    L_dash_H_R_d = np.sum(L_dash_H_R_d_t.reshape(365, 24), axis=1)\n",
    "\n",
    "    heating_flag_d = np.ones(365)\n",
    "    heating_flag_d[1:] = L_dash_H_R_d[0:364] > 0\n",
    "\n",
    "    return heating_flag_d\n"
   ]
  }
 ],
 "metadata": {
  "kernelspec": {
   "display_name": "Python 3",
   "language": "python",
   "name": "python3"
  },
  "language_info": {
   "codemirror_mode": {
    "name": "ipython",
    "version": 3
   },
   "file_extension": ".py",
   "mimetype": "text/x-python",
   "name": "python",
   "nbconvert_exporter": "python",
   "pygments_lexer": "ipython3",
   "version": "3.8.5"
  }
 },
 "nbformat": 4,
 "nbformat_minor": 2
}
