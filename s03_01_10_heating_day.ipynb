{
 "cells": [
  {
   "cell_type": "markdown",
   "metadata": {},
   "source": [
    "使用許諾条件\n",
    "\n",
    "①\t設計一次エネルギー消費量算定法に基づく計算方法をPythonによりコーディングし、Jupyter notebook形式で保存したファイル（以下、本ファイルと呼ぶ）の著作権は、一般社団法人日本サステナブル建築協会に帰属します。\n",
    "Copyright©2019. 一般社団法人日本サステナブル建築協会\n",
    "All rights reserved. \n",
    "\n",
    "②\t本ファイルは、住戸の設計一次エネルギー消費量算定方法に係る「平成28年省エネルギー基準に準拠したエネルギー消費性能の評価に関する技術情報（住宅）2.1算定方法（第三章第一節 全般）」に示す計算方法に基づき、国土交通省国土技術政策総合研究所・国立研究開発法人建築研究所、株式会社ユーワークス、株式会社住環境計画研究所が作成したものです。\n",
    "\n",
    "③\t本ファイルは、計算方法に示す計算過程の確認及び調査研究等に活用することを目的として作成されたものであり、一般社団法人日本サステナブル建築協会は著作権について放棄はしませんが、使用する各人の自己責任において仕様を変更することを妨げるものではありません。ただし、本ファイルによる計算結果を住宅の省エネルギー基準で規定する設計一次エネルギー消費量の結果として公的な申請に用いることはできません。\n",
    "\n",
    "④\t本ファイルを変更するかしないかを問わず、以下の条件を満たす場合に限り、頒布および使用が許可されます。\n",
    "1.\t頒布物の付属ドキュメント等の資料に、上記の著作権表示、本条件一覧、および下記免責条項を含めること。\n",
    "2.\t書面による特別の許可なしに、本ファイルから派生した製品の宣伝または販売の促進に、一般社団法人日本サステナブル建築協会、国土技術政策総合研究所・国立研究開発法人建築研究所および株式会社ユーワークス、株式会社住環境計画研究所の名前またはコントリビューターの名前を使用してはならない。\n",
    "\n",
    "⑤\t本ファイルは、著作権者およびコントリビューターによって「現状のまま」提供されており、明示黙示を問わず、商業的な使用可能性、および特定の目的に対する適合性に関する暗黙の保証も含め、またそれに限定されない、いかなる保証もありません。著作権もコントリビューターも、事由のいかんを問わず、損害発生の原因いかんを問わず、かつ責任の根拠が契約であるか厳格責任であるか（過失その他の）不法行為であるかを問わず、仮にそのような損害が発生する可能性を知らされていたとしても、本ファイルの使用によって発生した（代用品または代用サービスの調達、使用の喪失、データの喪失、利益の喪失、業務の中断も含め、またそれに限定されない）直接損害、間接損害、偶発的な損害、特別損害、懲罰的損害、または結果損害について、一切の責任を負わないものとします。\n",
    "\n"
   ]
  },
  {
   "cell_type": "code",
   "execution_count": null,
   "metadata": {},
   "outputs": [],
   "source": [
    "import numpy as np\n"
   ]
  },
  {
   "cell_type": "markdown",
   "metadata": {},
   "source": [
    "### 10．暖房日 / Heating day"
   ]
  },
  {
   "cell_type": "markdown",
   "metadata": {},
   "source": [
    "暖房日は暖房使用が発生することが見込まれる日と定義し、当該日の前日において標準住戸全体の負荷補正前の暖房負荷を日積算した値がゼロを超える場合（すなわち、$0 < \\sum_{t=0}^{23} \\sum_{i=1}^{12} L'_{H,R,d-1,t,i}$ の場合）、日付$d$は暖房日とする。ただし、日積算においては、日付$d-1$の時刻$t$における暖冷房区画$i$の標準住戸の負荷補正前の暖房負荷$L'_{H,R,d-1,t,i}$は、ゼロ未満の場合はゼロとする。また、日付$d$が 1 月 1 日である場合、日付݀は暖房日とする。 "
   ]
  },
  {
   "cell_type": "markdown",
   "metadata": {},
   "source": [
    "A heating day is defined as a day when heating use is expected to occur, and if the value obtained by integrating the heating load before the load correction of the entire standard dwellings on the day before that day exceeds zero (That is, in the case of $ 0 <\\sum_ {t = 0} ^ {23} \\sum_ {i = 1} ^ {12} L '_ {H, R, d-1, t, i} $), the date $ d $ Is a heating day. However, in the daily integration, the heating load $L'_{H,R,d-1,t,i}$ before the load correction of the standard dwelling unit $ i $ of the heating / cooling section $ i $ at the time $ t $ of the date $ d-1 $ is zero if less than zero. Also, if the date $ d $ is January 1, the date is the heating day."
   ]
  },
  {
   "cell_type": "code",
   "execution_count": null,
   "metadata": {},
   "outputs": [],
   "source": [
    "def get_heating_flag_d(L_dash_H_R_d_t_i):\n",
    "    \"\"\" 暖房日 = 暖房使用が発生することが見込まれる日\n",
    "\n",
    "    :param L_dash_H_R_d_t_i: 標準住戸の負荷補正前の暖房負荷 (MJ/h)\n",
    "    :type L_dash_H_R_d_t_i: ndarray\n",
    "    :return: 暖房使用が発生することが見込まれる日\n",
    "    :rtype: ndarray\n",
    "    \"\"\"\n",
    "    L_dash_H_R_d_t = np.sum(L_dash_H_R_d_t_i, axis=0)\n",
    "    L_dash_H_R_d = np.sum(L_dash_H_R_d_t.reshape(365, 24), axis=1)\n",
    "\n",
    "    heating_flag_d = np.ones(365)\n",
    "    heating_flag_d[1:] = L_dash_H_R_d[0:364] > 0\n",
    "\n",
    "    return heating_flag_d\n"
   ]
  }
 ],
 "metadata": {
  "kernelspec": {
   "display_name": "Python 3",
   "language": "python",
   "name": "python3"
  },
  "language_info": {
   "codemirror_mode": {
    "name": "ipython",
    "version": 3
   },
   "file_extension": ".py",
   "mimetype": "text/x-python",
   "name": "python",
   "nbconvert_exporter": "python",
   "pygments_lexer": "ipython3",
   "version": "3.6.6"
  }
 },
 "nbformat": 4,
 "nbformat_minor": 2
}
