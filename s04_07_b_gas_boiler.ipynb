{
 "cells": [
  {
   "cell_type": "code",
   "execution_count": null,
   "metadata": {},
   "outputs": [],
   "source": [
    "import nbimporter\n",
    "import numpy as np\n",
    "import s04_07_h_max_capacity_of_hot_water_floor_heating as appendix_H"
   ]
  },
  {
   "cell_type": "markdown",
   "metadata": {},
   "source": [
    "## 付録B　ガス温水暖房機及びガス給湯温水暖房機 / Appendix B Gas water heater and gas hot water heater"
   ]
  },
  {
   "cell_type": "markdown",
   "metadata": {},
   "source": [
    "### B.1 記号及び単位 / Symbol and unit"
   ]
  },
  {
   "cell_type": "markdown",
   "metadata": {},
   "source": [
    "省略"
   ]
  },
  {
   "cell_type": "markdown",
   "metadata": {},
   "source": [
    "ommision"
   ]
  },
  {
   "cell_type": "markdown",
   "metadata": {},
   "source": [
    "### B.2 エネルギー消費量 / Energy consumption"
   ]
  },
  {
   "cell_type": "markdown",
   "metadata": {},
   "source": [
    "#### B.2.1 ガス消費量 / Gas consumption"
   ]
  },
  {
   "cell_type": "markdown",
   "metadata": {},
   "source": [
    "$$\\large\n",
    "E_{G,hs} = \\left\\{ \\begin{array}{ll}\n",
    "    0&(Q_{out,H,hs} = 0)\\\\ \n",
    "    \\frac{Q_{out,H,hs} + Q_{body}}{e_{ex}} &(Q_{out,H,hs} > 0)\\\\ \n",
    "    \\end{array}\n",
    "\\right.\n",
    "$$"
   ]
  },
  {
   "cell_type": "markdown",
   "metadata": {},
   "source": [
    "$E_{G,hs}$：1 時間当たりの温水暖房用熱源機のガス消費量(MJ/h) / Gas consumption of hot water heating heat source machine per hour  \n",
    "$Q_{out,H,hs}$：1 時間当たりの温水暖房用熱源機の暖房出力(MJ/h) / Heating output of the heat source machine for hot water heating per hour  \n",
    "$Q_{body}$：1 時間当たりの温水暖房用熱源機の筐体放熱損失(MJ/h) / Heat dissipation loss of the case of the heat source unit for hot water heating per hour  \n",
    "$e_{ex}$：1 時間平均の温水暖房用熱源機の熱交換効率 / Heat exchange efficiency of one hour average hot water heating heat source machine"
   ]
  },
  {
   "cell_type": "code",
   "execution_count": null,
   "metadata": {},
   "outputs": [],
   "source": [
    "def calc_E_G_hs(e_rtd, q_rtd_hs, Q_out_H_hs, hs_type, P_hs):\n",
    "    \"\"\" 1時間当たりの温水床暖房用熱源機のガス消費量 (1)\n",
    "\n",
    "    :param e_rtd: 当該給湯機の効率\n",
    "    :type e_rtd: float\n",
    "    :param q_rtd_hs: 温水暖房用熱源機の定格能力 (W)\n",
    "    :type q_rtd_hs: float\n",
    "    :param Q_out_H_hs: 1時間当たりの温水暖房用熱源機の暖房出力 (MJ/h)\n",
    "    :type Q_out_H_hs: ndarray\n",
    "    :param hs_type: 温水暖房用熱源機の種類\n",
    "    :type hs_type: str\n",
    "    :param P_hs: 送水温度の区分\n",
    "    :type P_hs: int\n",
    "    :return: 1時間当たりの温水床暖房用熱源機のガス消費量\n",
    "    :rtype: ndarray\n",
    "    \"\"\"\n",
    "    # 1時間当たりの温水暖房用熱源機の筐体放熱損失 (MJ/h) (2)\n",
    "    Q_body = get_Q_body(hs_type, P_hs)\n",
    "\n",
    "    # 熱交換効率\n",
    "    e_ex = calc_e_ex(e_rtd, Q_body, hs_type, P_hs, q_rtd_hs)\n",
    "\n",
    "    # 1時間当たりの温水床暖房用熱源機のガス消費量 (1)\n",
    "    E_G_hs = (Q_out_H_hs + Q_body) / e_ex\n",
    "    E_G_hs[Q_out_H_hs == 0] = 0\n",
    "\n",
    "    return E_G_hs"
   ]
  },
  {
   "cell_type": "markdown",
   "metadata": {},
   "source": [
    "当該住戸のガス温水暖房機がガス従来型温水暖房機の場合"
   ]
  },
  {
   "cell_type": "markdown",
   "metadata": {},
   "source": [
    "When the gas hot water heater of the dwelling unit is a gas conventional hot water heater"
   ]
  },
  {
   "cell_type": "markdown",
   "metadata": {},
   "source": [
    "$$\\large\n",
    "Q_{body} = 240.96 \\times 3600 \\times 10^{-6}\n",
    "$$"
   ]
  },
  {
   "cell_type": "markdown",
   "metadata": {},
   "source": [
    "当該住戸のガス温水暖房機がガス潜熱回収型温水暖房機の場合でかつ送水温度の区分$P_{hs}$が 1（送水温度60℃）の場合"
   ]
  },
  {
   "cell_type": "markdown",
   "metadata": {},
   "source": [
    "When the gas hot water heater of the dwelling unit concerned is a gas latent heat recovery type hot water heater and the division $P_{hs}$ of water supply temperature is 1 (water supply temperature 60 ° C)"
   ]
  },
  {
   "cell_type": "markdown",
   "metadata": {},
   "source": [
    "$$\\large\n",
    "Q_{body} = 225.26 \\times 3600 \\times 10^{-6}\n",
    "$$"
   ]
  },
  {
   "cell_type": "markdown",
   "metadata": {},
   "source": [
    "当該住戸のガス温水暖房機がガス潜熱回収型温水暖房機の場合でかつ送水温度の区分$P_{hs}$が 2（送水温度40℃）の場合"
   ]
  },
  {
   "cell_type": "markdown",
   "metadata": {},
   "source": [
    "When the gas hot water heater of the dwelling unit concerned is a gas latent heat recovery type hot water heater and the division $P_{hs}$ of water supply temperature is 2 (water supply temperature 40 ° C)"
   ]
  },
  {
   "cell_type": "markdown",
   "metadata": {},
   "source": [
    "$$\\large\n",
    "Q_{body} = 123.74 \\times 3600 \\times 10^{-6}\n",
    "$$"
   ]
  },
  {
   "cell_type": "code",
   "execution_count": null,
   "metadata": {},
   "outputs": [],
   "source": [
    "def get_Q_body(hs_type, P_hs):\n",
    "    \"\"\" 1時間当たりの温水暖房用熱源機の筐体放熱損失 (2)\n",
    "\n",
    "    :param hs_type: 温水暖房用熱源機の種類\n",
    "    :type hs_type: str\n",
    "    :param P_hs: 送水温度の区分\n",
    "    :type P_hs: int\n",
    "    :return: 1時間当たりの温水暖房用熱源機の筐体放熱損失\n",
    "    :rtype: ndarray\n",
    "    \"\"\"\n",
    "    if hs_type in ['ガス従来型温水暖房機', 'ガス従来型給湯温水暖房機', 'ガス従来型'] or hs_type == '不明':\n",
    "        # (2a)\n",
    "        Q_body = np.ones(24*365) * 240.96 * 3600 * 10 ** (-6)\n",
    "        return Q_body\n",
    "    elif hs_type in ['ガス潜熱回収型温水暖房機', 'ガス潜熱回収型給湯温水暖房機', 'ガス潜熱回収型']:\n",
    "        Q_body = np.zeros(24*365)\n",
    "\n",
    "        # (2b-1)\n",
    "        Q_body[P_hs == 1] = 225.26 * 3600 * 10 ** (-6)\n",
    "\n",
    "        # (2b-2)\n",
    "        Q_body[P_hs == 2] = 123.74 * 3600 * 10 ** (-6)\n",
    "\n",
    "        return Q_body\n",
    "    else:\n",
    "        raise ValueError(hs_type)\n"
   ]
  },
  {
   "cell_type": "markdown",
   "metadata": {},
   "source": [
    "$$\\large\n",
    "e_{ex,d,t} = e_{rtd} \\times f_{rtd} \\times \\frac{q_{rtd,hs} \\times 3600 \\times 10^{-6} + Q_{body,d,t}}{q_{rtd,hs} \\times 3600 \\times 10^{-6}}\n",
    "$$"
   ]
  },
  {
   "cell_type": "markdown",
   "metadata": {},
   "source": [
    "$e_{rtd}$：温水暖房用熱源機の定格効率 / Rated efficiency of the hot water heating heat source machine  \n",
    "$f_{rtd}$：1 時間平均の定格効率を補正する係数 / Factor to correct rated efficiency of 1 hour average  \n",
    "$q_{rtd,hs}$：温水暖房用熱源機の定格能力(W) / Rated capacity of hot water heating heat source machine  "
   ]
  },
  {
   "cell_type": "code",
   "execution_count": null,
   "metadata": {},
   "outputs": [],
   "source": [
    "def calc_e_ex(e_rtd, Q_body, hs_type, P_hs, q_rtd_hs):\n",
    "    \"\"\" 1時間平均の温水暖房用熱源機の熱交換効率 (3)\n",
    "\n",
    "    :param e_rtd: 当該給湯機の効率\n",
    "    :type e_rtd: float\n",
    "    :param Q_body: 1時間当たりの温水暖房用熱源機の筐体放熱損失\n",
    "    :type Q_body: ndarray\n",
    "    :param hs_type: 温水暖房用熱源機の種類\n",
    "    :type hs_type: str\n",
    "    :param P_hs: 送水温度の区分\n",
    "    :type P_hs: int\n",
    "    :param q_rtd_hs: 温水暖房用熱源機の定格能力 (W)\n",
    "    :type q_rtd_hs: float\n",
    "    :return: 1時間平均の温水暖房用熱源機の熱交換効率\n",
    "    :rtype: ndarray\n",
    "    \"\"\"\n",
    "    # 定格効率を補正する係数\n",
    "    f_rtd = get_f_rtd(hs_type, P_hs)\n",
    "\n",
    "    return e_rtd * f_rtd * (q_rtd_hs * 3600 * 10 ** (-6) + Q_body) / (q_rtd_hs * 3600 * 10 ** (-6))\n"
   ]
  },
  {
   "cell_type": "markdown",
   "metadata": {},
   "source": [
    "定格効率を補正する係数$f_{rtd}$は、当該住戸のガス温水暖房機が従来型ガス温水暖房機の場合0.985とし、当該住戸のガス温水暖房機が潜熱回収型ガス温水暖房機の場合でかつ送水温度の区分$P_{hs}$が 1（送水温度 60℃）の場合、1.038とし、当該住戸のガス温水暖房機が潜熱回収型ガス温水暖房機の場合でかつ送水温度の区分$P_{hs}$が 2（送水温度 40℃）の場合、1.064とする。 "
   ]
  },
  {
   "cell_type": "markdown",
   "metadata": {},
   "source": [
    "The coefficient $f_{rtd}$ to correct the rated efficiency is 0.985 when the gas hot water heater of the dwelling unit is the conventional gas hot water heater, and the division $P_{hs}$ of the water temperature when the gas hot water heater of the dwelling unit is the latent heat recovery type gas hot water heater If the value is 1 (Water supply temperature 60 ° C), it shall be 1.038, and if the gas water heater of the dwelling unit is a latent heat recovery type gas water heater and the division $P_{hs}$ of the water supply temperature is 2 (Water supply temperature 40 ° C), it shall be 1.064."
   ]
  },
  {
   "cell_type": "code",
   "execution_count": null,
   "metadata": {},
   "outputs": [],
   "source": [
    "def get_f_rtd(hs_type, P_hs):\n",
    "    \"\"\" 定格効率を補正する係数\n",
    "\n",
    "    :param hs_type: 温水暖房用熱源機の種類\n",
    "    :type hs_type: str\n",
    "    :param P_hs: 送水温度の区分\n",
    "    :type P_hs: int\n",
    "    :return: 定格効率を補正する係数\n",
    "    :rtype: ndarray\n",
    "    \"\"\"\n",
    "    if hs_type in ['ガス従来型温水暖房機', 'ガス従来型給湯温水暖房機', 'ガス従来型']:\n",
    "        return np.ones(24*365) * 0.985\n",
    "    elif hs_type in ['ガス潜熱回収型温水暖房機', 'ガス潜熱回収型給湯温水暖房機', 'ガス潜熱回収型']:\n",
    "        f_rtd = np.zeros(24*365)\n",
    "        f_rtd[P_hs == 1] = 1.038\n",
    "        f_rtd[P_hs == 2] = 1.064\n",
    "        return f_rtd\n",
    "    else:\n",
    "        raise ValueError(hs_type)"
   ]
  },
  {
   "cell_type": "code",
   "execution_count": null,
   "metadata": {},
   "outputs": [],
   "source": [
    "def get_e_rtd_default(hs_type):\n",
    "    \"\"\" 定格効率(規定値)\n",
    "\n",
    "    :param hs_type: 温水暖房用熱源機の種類\n",
    "    :type hs_type: str\n",
    "    :return: 定格効率(規定値)\n",
    "    :rtype: float\n",
    "    \"\"\"\n",
    "    if hs_type in ['ガス従来型温水暖房機', 'ガス従来型給湯温水暖房機']:\n",
    "        return 0.81\n",
    "    elif hs_type in ['ガス潜熱回収型温水暖房機', 'ガス潜熱回収型給湯温水暖房機']:\n",
    "        return 0.87\n",
    "    else:\n",
    "        raise ValueError(hs_type)"
   ]
  },
  {
   "cell_type": "code",
   "execution_count": null,
   "metadata": {},
   "outputs": [],
   "source": [
    "def calc_q_rtd_hs(region, A_A, A_MR, A_OR, mode_MR, mode_OR, has_MR_hwh, has_OR_hwh):\n",
    "    \"\"\" 温水暖房用熱源機の定格能力\n",
    "\n",
    "    :param region: 省エネルギー地域区分\n",
    "    :type region: int\n",
    "    :param A_A: 床面積の合計 (m2)\n",
    "    :type A_A: float\n",
    "    :param A_MR: 主たる居室の床面積 (m2)\n",
    "    :type A_MR: float\n",
    "    :param A_OR: その他の居室の床面積 (m2)\n",
    "    :type A_OR: float\n",
    "    :param mode_MR: 主たる居室の運転モード 'い', 'ろ', 'は'\n",
    "    :type mode_MR: str\n",
    "    :param mode_OR: その他の居室の運転モード 'い', 'ろ', 'は'\n",
    "    :type mode_OR: str\n",
    "    :param has_MR_hwh: 温水暖房の放熱器を主たる居室に設置する場合はTrue\n",
    "    :type has_MR_hwh: bool\n",
    "    :param has_OR_hwh: 温水暖房の放熱器をその他の居室に設置する場合はTrue\n",
    "    :type has_OR_hwh: bool\n",
    "    :return: 温水暖房用熱源機の定格能力\n",
    "    :rtype: float\n",
    "    \"\"\"\n",
    "    # 付録Hに定める温水暖房用熱源機の最大能力 q_max_hs に等しい\n",
    "    return appendix_H.calc_q_max_hs(region, A_A, A_MR, A_OR, mode_MR, mode_OR, has_MR_hwh, has_OR_hwh)\n"
   ]
  },
  {
   "cell_type": "markdown",
   "metadata": {},
   "source": [
    "#### B.2.2 消費電力量 / Power consumption"
   ]
  },
  {
   "cell_type": "markdown",
   "metadata": {},
   "source": [
    "$$\\large\n",
    "E_{E,hs} = E_{E,hs,pmp} + E_{E,hs,fan}\n",
    "$$"
   ]
  },
  {
   "cell_type": "markdown",
   "metadata": {},
   "source": [
    "$E_{E,hs}$：1 時間当たりの温水暖房用熱源機の消費電力量(kWh/h) / Power consumption of the hot water heating heat source unit per hour  \n",
    "$E_{E,hs,pmp}$：1 時間当たりの温水暖房用熱源機の送水ポンプの消費電力量(kWh/h) / Power consumption of the water supply pump of the heat source unit for hot water heating per hour  \n",
    "$E_{E,hs,fan}$：1 時間当たりの温水暖房用熱源機の排気ファンの消費電力量(kWh/h) / Power consumption of exhaust fan of heat source unit for hot water heating per hour  "
   ]
  },
  {
   "cell_type": "code",
   "execution_count": null,
   "metadata": {},
   "outputs": [],
   "source": [
    "def calc_E_E_hs(r_WS_hs, E_G_hs):\n",
    "    \"\"\" 消費電力量 (4)\n",
    "\n",
    "    :param r_WS_hs: 1時間平均の温水暖房用熱源機の温水供給運転率\n",
    "    :type r_WS_hs: ndarray\n",
    "    :param E_G_hs: 1時間当たりの温水暖房用熱源機のガス消費量（MJ/h）\n",
    "    :type E_G_hs: ndarray\n",
    "    :return: 消費電力量 (4)\n",
    "    :rtype: ndarray\n",
    "    \"\"\"\n",
    "    # 送水ポンプの消費電力量\n",
    "    E_E_hs_pmp = calc_E_E_hs_pmp(r_WS_hs)\n",
    "\n",
    "    # 排気ファンの消費電力量\n",
    "    E_E_hs_fan = get_E_E_hs_fan(E_G_hs)\n",
    "\n",
    "    return E_E_hs_pmp + E_E_hs_fan"
   ]
  },
  {
   "cell_type": "markdown",
   "metadata": {},
   "source": [
    "$$\\large\n",
    "E_{E,hs,pmp} = P_{hs,pmp} \\times r_{WS,hs} \\times 10^{-3}\n",
    "$$"
   ]
  },
  {
   "cell_type": "markdown",
   "metadata": {},
   "source": [
    "$P_{hs,pmp}$：温水暖房用熱源機の送水ポンプの消費電力(W) / Power consumption of water pump of heat source machine for hot water heating  \n",
    "$r_{WS,hs}$：温水暖房用熱源機の温水供給運転率 / Hot water supply operation rate of heat source equipment for hot water heating"
   ]
  },
  {
   "cell_type": "markdown",
   "metadata": {},
   "source": [
    "温水暖房用熱源機の送水ポンプの消費電力$P_{hs,pmp}$は、73(W)とする。 "
   ]
  },
  {
   "cell_type": "markdown",
   "metadata": {},
   "source": [
    "The power consumption $ P_{hs, pmp} $ of the water pump of the hot water heating heat source machine is 73 (W)."
   ]
  },
  {
   "cell_type": "code",
   "execution_count": null,
   "metadata": {},
   "outputs": [],
   "source": [
    "def calc_E_E_hs_pmp(r_WS_hs):\n",
    "    \"\"\" 送水ポンプの消費電力量 (5)\n",
    "\n",
    "    :param r_WS_hs: 1時間平均の温水暖房用熱源機の温水供給運転率\n",
    "    :type r_WS_hs: ndarray\n",
    "    :return: 送水ポンプの消費電力量 (5)\n",
    "    :rtype: ndarray\n",
    "    \"\"\"\n",
    "    # 送水ポンプの消費電力\n",
    "    P_hs_pmp = get_P_hs_pmp()\n",
    "\n",
    "    return P_hs_pmp * r_WS_hs * 10 ** (-3)\n",
    "\n",
    "\n",
    "def get_P_hs_pmp():\n",
    "    \"\"\" 送水ポンプの消費電力\n",
    "\n",
    "    :return: 送水ポンプの消費電力\n",
    "    :rtype: float\n",
    "    \"\"\"\n",
    "    return 73"
   ]
  },
  {
   "cell_type": "markdown",
   "metadata": {},
   "source": [
    "$$\\large\n",
    "E_{E,hs,fan} = E_{G,hs} \\times \\gamma \\times 10^{3} \\div 3600\n",
    "$$"
   ]
  },
  {
   "cell_type": "markdown",
   "metadata": {},
   "source": [
    "$E_{G,hs}$：1 時間当たりの温水暖房用熱源機のガス消費量(MJ/h) / Gas consumption of hot water heating heat source machine per hour  \n",
    "$\\gamma$：排気ファンの効率 / Exhaust fan efficiency  "
   ]
  },
  {
   "cell_type": "code",
   "execution_count": null,
   "metadata": {},
   "outputs": [],
   "source": [
    "def get_E_E_hs_fan(E_G_hs):\n",
    "    \"\"\" 排気ファンの消費電力量 (6)\n",
    "\n",
    "    :param E_G_hs: 1時間当たりの温水暖房用熱源機のガス消費量（MJ/h）\n",
    "    :type E_G_hs: ndarray\n",
    "    :return: 排気ファンの消費電力量\n",
    "    :rtype: ndarray\n",
    "    \"\"\"\n",
    "    # 排気ファンの効率\n",
    "    gamma = get_gamma()\n",
    "\n",
    "    return E_G_hs * gamma * 10 ** 3 / 3600\n",
    "\n",
    "\n",
    "def get_gamma():\n",
    "    \"\"\" 排気ファンの効率\n",
    "\n",
    "    :return: 排気ファンの効率\n",
    "    :rtype: float\n",
    "    \"\"\"\n",
    "    return 0.003"
   ]
  },
  {
   "cell_type": "markdown",
   "metadata": {},
   "source": [
    "#### B.2.3 灯油消費量 / Kerosene consumption"
   ]
  },
  {
   "cell_type": "markdown",
   "metadata": {},
   "source": [
    "1 時間当たりの温水暖房用熱源機の灯油消費量$E_{K,hs}$は0とする。 "
   ]
  },
  {
   "cell_type": "markdown",
   "metadata": {},
   "source": [
    "The kerosene consumption $ E_{K, hs} $ of the heat source equipment for hot water heating per hour is 0."
   ]
  },
  {
   "cell_type": "code",
   "execution_count": null,
   "metadata": {},
   "outputs": [],
   "source": [
    "def get_E_K_hs():\n",
    "    \"\"\" 1時間当たりの温水暖房用熱源機の灯油消費量\n",
    "\n",
    "    :return: 1時間当たりの温水暖房用熱源機の灯油消費量\n",
    "    :rtype: ndarray\n",
    "    \"\"\"\n",
    "    # 1時間当たりの温水暖房用熱源機の灯油消費量は0とする\n",
    "    return np.zeros(24 * 365)"
   ]
  },
  {
   "cell_type": "markdown",
   "metadata": {},
   "source": [
    "#### B.2.4 その他の一次エネルギー消費量 / Other primary energy consumption"
   ]
  },
  {
   "cell_type": "markdown",
   "metadata": {},
   "source": [
    "1 時間当たりの温水暖房用熱源機のその他の一次エネルギー消費量$E_{M,hs}$は0とする。 "
   ]
  },
  {
   "cell_type": "markdown",
   "metadata": {},
   "source": [
    "The other primary energy consumption $ E_{M, hs} $ of the hot water heating heat source unit per hour is assumed to be zero."
   ]
  },
  {
   "cell_type": "code",
   "execution_count": null,
   "metadata": {},
   "outputs": [],
   "source": [
    "def get_E_M_hs():\n",
    "    \"\"\" 1時間当たりの温水暖房用熱源機のその他の一次エネルギー消費量\n",
    "\n",
    "    :return: 1時間当たりの温水暖房用熱源機のその他の一次エネルギー消費量\n",
    "    :rtype: ndarray\n",
    "    \"\"\"\n",
    "    # 1時間当たりの温水暖房用熱源機のその他の一次エネルギー消費量は0とする\n",
    "    return np.zeros(24 * 365)\n"
   ]
  },
  {
   "cell_type": "markdown",
   "metadata": {},
   "source": [
    "### B.3 最大暖房出力 / Maximum heating output"
   ]
  },
  {
   "cell_type": "markdown",
   "metadata": {},
   "source": [
    "$$\\large\n",
    "Q_{max,H,hs} = q_{rtd,hs} \\times 3600 \\div 10^{6} \n",
    "$$"
   ]
  },
  {
   "cell_type": "code",
   "execution_count": null,
   "metadata": {},
   "outputs": [],
   "source": [
    "def get_Q_max_H_hs(q_rtd_hs):\n",
    "    \"\"\" 1時間当たりの温水暖房用熱源機の最大暖房出力 (7)\n",
    "\n",
    "    :param q_rtd_hs: 温水暖房用熱源機の定格能力 (W)\n",
    "    :type q_rtd_hs: float\n",
    "    :return: 1時間当たりの温水暖房用熱源機の最大暖房出力 (MJ/h)\n",
    "    :rtype: ndarray\n",
    "    \"\"\"\n",
    "    return np.ones(24*365) * q_rtd_hs * 3600 / (10 ** 6)\n"
   ]
  }
 ],
 "metadata": {
  "kernelspec": {
   "display_name": "Python 3",
   "language": "python",
   "name": "python3"
  },
  "language_info": {
   "codemirror_mode": {
    "name": "ipython",
    "version": 3
   },
   "file_extension": ".py",
   "mimetype": "text/x-python",
   "name": "python",
   "nbconvert_exporter": "python",
   "pygments_lexer": "ipython3",
   "version": "3.8.5"
  },
  "toc": {
   "base_numbering": 1,
   "nav_menu": {},
   "number_sections": false,
   "sideBar": true,
   "skip_h1_title": false,
   "title_cell": "Table of Contents",
   "title_sidebar": "Contents",
   "toc_cell": false,
   "toc_position": {},
   "toc_section_display": true,
   "toc_window_display": false
  }
 },
 "nbformat": 4,
 "nbformat_minor": 2
}
