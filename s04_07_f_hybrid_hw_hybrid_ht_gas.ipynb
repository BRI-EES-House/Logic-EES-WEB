{
 "cells": [
  {
   "cell_type": "markdown",
   "metadata": {},
   "source": [
    "使用許諾条件\n",
    "\n",
    "①\t設計一次エネルギー消費量算定法に基づく計算方法をPythonによりコーディングし、Jupyter notebook形式で保存したファイル（以下、本ファイルと呼ぶ）の著作権は、一般社団法人日本サステナブル建築協会に帰属します。\n",
    "Copyright©2019. 一般社団法人日本サステナブル建築協会\n",
    "All rights reserved. \n",
    "\n",
    "②\t本ファイルは、住戸の設計一次エネルギー消費量算定方法に係る「平成28年省エネルギー基準に準拠したエネルギー消費性能の評価に関する技術情報（住宅）2.1算定方法（第四章第七節 温水暖房）」に示す計算方法に基づき、国土交通省国土技術政策総合研究所・国立研究開発法人建築研究所、株式会社ユーワークス、株式会社住環境計画研究所が作成したものです。\n",
    "\n",
    "③\t本ファイルは、計算方法に示す計算過程の確認及び調査研究等に活用することを目的として作成されたものであり、一般社団法人日本サステナブル建築協会は著作権について放棄はしませんが、使用する各人の自己責任において仕様を変更することを妨げるものではありません。ただし、本ファイルによる計算結果を住宅の省エネルギー基準で規定する設計一次エネルギー消費量の結果として公的な申請に用いることはできません。\n",
    "\n",
    "④\t本ファイルを変更するかしないかを問わず、以下の条件を満たす場合に限り、頒布および使用が許可されます。\n",
    "1.\t頒布物の付属ドキュメント等の資料に、上記の著作権表示、本条件一覧、および下記免責条項を含めること。\n",
    "2.\t書面による特別の許可なしに、本ファイルから派生した製品の宣伝または販売の促進に、一般社団法人日本サステナブル建築協会、国土技術政策総合研究所・国立研究開発法人建築研究所および株式会社ユーワークス、株式会社住環境計画研究所の名前またはコントリビューターの名前を使用してはならない。\n",
    "\n",
    "⑤\t本ファイルは、著作権者およびコントリビューターによって「現状のまま」提供されており、明示黙示を問わず、商業的な使用可能性、および特定の目的に対する適合性に関する暗黙の保証も含め、またそれに限定されない、いかなる保証もありません。著作権もコントリビューターも、事由のいかんを問わず、損害発生の原因いかんを問わず、かつ責任の根拠が契約であるか厳格責任であるか（過失その他の）不法行為であるかを問わず、仮にそのような損害が発生する可能性を知らされていたとしても、本ファイルの使用によって発生した（代用品または代用サービスの調達、使用の喪失、データの喪失、利益の喪失、業務の中断も含め、またそれに限定されない）直接損害、間接損害、偶発的な損害、特別損害、懲罰的損害、または結果損害について、一切の責任を負わないものとします。\n",
    "\n"
   ]
  },
  {
   "cell_type": "code",
   "execution_count": null,
   "metadata": {},
   "outputs": [],
   "source": [
    "import nbimporter\n",
    "import s04_07_b_gas_boiler as gas"
   ]
  },
  {
   "cell_type": "markdown",
   "metadata": {},
   "source": [
    "## 付録F　ヒートポンプ・ガス瞬間式併用型給湯温水暖房機（給湯熱源：ヒートポンプ・ガス瞬間式併用、暖房熱源：ガス瞬間式） / Appendix F Heat pump gas instantaneous type combined hot water supply hot water heater (hot water supply heat source: heat pump gas instantaneous type combined use, heating heat source: gas instantaneous type)"
   ]
  },
  {
   "cell_type": "markdown",
   "metadata": {},
   "source": [
    "ヒートポンプ・ガス瞬間式併用型給湯温水暖房機（給湯熱源：ヒートポンプ・ガス瞬間式併用、暖房熱源：ガス瞬間式）の暖房部のエネルギー消費量は、付録 B ガス温水暖房機及び給湯温水暖房機に記される計算方法によるものとする。定格効率$e_{rtd}$は、ガス潜熱回収型熱源機として0.87(87.0%)とする。 "
   ]
  },
  {
   "cell_type": "markdown",
   "metadata": {},
   "source": [
    "Energy consumption of the heating unit of heat pump and gas instantaneous type combined hot water supply hot water heater (hot water supply heat source: heat pump and gas instantaneous type combination, heating heat source: gas instantaneous type) is shown in Appendix B Gas hot water heater and hot water supply hot water heater It shall be based on the calculation method described. The rated efficiency $ e_{rtd} $ is 0.87 (87.0%) as a gas latent heat recovery type heat source machine."
   ]
  },
  {
   "cell_type": "code",
   "execution_count": null,
   "metadata": {},
   "outputs": [],
   "source": [
    "def calc_E_E_hs(r_WS_hs, E_G_hs):\n",
    "    \"\"\" 1時間当たりの消費電力量\n",
    "\n",
    "    :param r_WS_hs: 1時間平均の温水暖房用熱源機の温水供給運転率\n",
    "    :type r_WS_hs: ndarray\n",
    "    :param E_G_hs: 1時間当たりの温水暖房用熱源機のガス消費量（MJ/h）\n",
    "    :type E_G_hs: ndarray\n",
    "    :return: 1時間当たりの消費電力量\n",
    "    :rtype: ndarray\n",
    "    \"\"\"\n",
    "    return gas.calc_E_E_hs(\n",
    "        r_WS_hs=r_WS_hs,\n",
    "        E_G_hs=E_G_hs\n",
    "    )\n",
    "\n",
    "\n",
    "def calc_E_G_hs(q_rtd_hs, Q_out_H_hs, P_hs):\n",
    "    \"\"\" 1時間当たりの温水床暖房用熱源機のガス消費量 (MJ/h)\n",
    "\n",
    "    :param q_rtd_hs: 温水暖房用熱源機の定格能力 (W)\n",
    "    :type q_rtd_hs: float\n",
    "    :param Q_out_H_hs: 1時間当たりの温水暖房用熱源機の暖房出力 (MJ/h)\n",
    "    :type Q_out_H_hs: ndarray\n",
    "    :param P_hs: 送水温度の区分\n",
    "    :type P_hs: int\n",
    "    :return: 1時間当たりの温水床暖房用熱源機のガス消費量 (MJ/h)\n",
    "    :rtype: ndarray\n",
    "    \"\"\"\n",
    "    return gas.calc_E_G_hs(\n",
    "        e_rtd=0.87,\n",
    "        q_rtd_hs=q_rtd_hs,\n",
    "        Q_out_H_hs=Q_out_H_hs,\n",
    "        hs_type=\"ガス潜熱回収型給湯温水暖房機\",\n",
    "        P_hs=P_hs\n",
    "    )\n",
    "\n",
    "\n",
    "def calc_E_K_hs():\n",
    "    \"\"\" 灯油消費量\n",
    "\n",
    "    :return: 灯油消費量\n",
    "    :rtype: ndarray\n",
    "    \"\"\"\n",
    "    return gas.get_E_K_hs()\n",
    "\n",
    "\n",
    "def calc_E_M_hs():\n",
    "    \"\"\" その他の一次エネルギー消費量\n",
    "\n",
    "    :return: その他の一次エネルギー消費量\n",
    "    :rtype: ndarray\n",
    "    \"\"\"\n",
    "    return gas.get_E_M_hs()\n"
   ]
  }
 ],
 "metadata": {
  "kernelspec": {
   "display_name": "Python 3",
   "language": "python",
   "name": "python3"
  },
  "language_info": {
   "codemirror_mode": {
    "name": "ipython",
    "version": 3
   },
   "file_extension": ".py",
   "mimetype": "text/x-python",
   "name": "python",
   "nbconvert_exporter": "python",
   "pygments_lexer": "ipython3",
   "version": "3.6.6"
  },
  "toc": {
   "base_numbering": 1,
   "nav_menu": {},
   "number_sections": false,
   "sideBar": true,
   "skip_h1_title": false,
   "title_cell": "Table of Contents",
   "title_sidebar": "Contents",
   "toc_cell": false,
   "toc_position": {},
   "toc_section_display": true,
   "toc_window_display": false
  }
 },
 "nbformat": 4,
 "nbformat_minor": 2
}
