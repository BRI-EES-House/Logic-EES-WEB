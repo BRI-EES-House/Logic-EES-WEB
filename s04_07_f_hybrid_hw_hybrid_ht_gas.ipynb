{
 "cells": [
  {
   "cell_type": "code",
   "execution_count": null,
   "metadata": {},
   "outputs": [],
   "source": [
    "import nbimporter\n",
    "import s04_07_b_gas_boiler as gas"
   ]
  },
  {
   "cell_type": "markdown",
   "metadata": {},
   "source": [
    "## 付録F　ヒートポンプ・ガス瞬間式併用型給湯温水暖房機（給湯熱源：ヒートポンプ・ガス瞬間式併用、暖房熱源：ガス瞬間式） / Appendix F Heat pump gas instantaneous type combined hot water supply hot water heater (hot water supply heat source: heat pump gas instantaneous type combined use, heating heat source: gas instantaneous type)"
   ]
  },
  {
   "cell_type": "markdown",
   "metadata": {},
   "source": [
    "ヒートポンプ・ガス瞬間式併用型給湯温水暖房機（給湯熱源：ヒートポンプ・ガス瞬間式併用、暖房熱源：ガス瞬間式）の暖房部のエネルギー消費量は、付録 B ガス温水暖房機及び給湯温水暖房機に記される計算方法によるものとする。定格効率$e_{rtd}$は、ガス潜熱回収型熱源機として0.87(87.0%)とする。 "
   ]
  },
  {
   "cell_type": "markdown",
   "metadata": {},
   "source": [
    "Energy consumption of the heating unit of heat pump and gas instantaneous type combined hot water supply hot water heater (hot water supply heat source: heat pump and gas instantaneous type combination, heating heat source: gas instantaneous type) is shown in Appendix B Gas hot water heater and hot water supply hot water heater It shall be based on the calculation method described. The rated efficiency $ e_{rtd} $ is 0.87 (87.0%) as a gas latent heat recovery type heat source machine."
   ]
  },
  {
   "cell_type": "code",
   "execution_count": null,
   "metadata": {},
   "outputs": [],
   "source": [
    "def calc_E_E_hs(r_WS_hs, E_G_hs):\n",
    "    \"\"\" 1時間当たりの消費電力量\n",
    "\n",
    "    :param r_WS_hs: 1時間平均の温水暖房用熱源機の温水供給運転率\n",
    "    :type r_WS_hs: ndarray\n",
    "    :param E_G_hs: 1時間当たりの温水暖房用熱源機のガス消費量（MJ/h）\n",
    "    :type E_G_hs: ndarray\n",
    "    :return: 1時間当たりの消費電力量\n",
    "    :rtype: ndarray\n",
    "    \"\"\"\n",
    "    return gas.calc_E_E_hs(\n",
    "        r_WS_hs=r_WS_hs,\n",
    "        E_G_hs=E_G_hs\n",
    "    )\n",
    "\n",
    "\n",
    "def calc_E_G_hs(q_rtd_hs, Q_out_H_hs, P_hs):\n",
    "    \"\"\" 1時間当たりの温水床暖房用熱源機のガス消費量 (MJ/h)\n",
    "\n",
    "    :param q_rtd_hs: 温水暖房用熱源機の定格能力 (W)\n",
    "    :type q_rtd_hs: float\n",
    "    :param Q_out_H_hs: 1時間当たりの温水暖房用熱源機の暖房出力 (MJ/h)\n",
    "    :type Q_out_H_hs: ndarray\n",
    "    :param P_hs: 送水温度の区分\n",
    "    :type P_hs: int\n",
    "    :return: 1時間当たりの温水床暖房用熱源機のガス消費量 (MJ/h)\n",
    "    :rtype: ndarray\n",
    "    \"\"\"\n",
    "    return gas.calc_E_G_hs(\n",
    "        e_rtd=0.87,\n",
    "        q_rtd_hs=q_rtd_hs,\n",
    "        Q_out_H_hs=Q_out_H_hs,\n",
    "        hs_type=\"ガス潜熱回収型給湯温水暖房機\",\n",
    "        P_hs=P_hs\n",
    "    )\n",
    "\n",
    "\n",
    "def calc_E_K_hs():\n",
    "    \"\"\" 灯油消費量\n",
    "\n",
    "    :return: 灯油消費量\n",
    "    :rtype: ndarray\n",
    "    \"\"\"\n",
    "    return gas.get_E_K_hs()\n",
    "\n",
    "\n",
    "def calc_E_M_hs():\n",
    "    \"\"\" その他の一次エネルギー消費量\n",
    "\n",
    "    :return: その他の一次エネルギー消費量\n",
    "    :rtype: ndarray\n",
    "    \"\"\"\n",
    "    return gas.get_E_M_hs()\n"
   ]
  }
 ],
 "metadata": {
  "kernelspec": {
   "display_name": "Python 3",
   "language": "python",
   "name": "python3"
  },
  "language_info": {
   "codemirror_mode": {
    "name": "ipython",
    "version": 3
   },
   "file_extension": ".py",
   "mimetype": "text/x-python",
   "name": "python",
   "nbconvert_exporter": "python",
   "pygments_lexer": "ipython3",
   "version": "3.8.5"
  },
  "toc": {
   "base_numbering": 1,
   "nav_menu": {},
   "number_sections": false,
   "sideBar": true,
   "skip_h1_title": false,
   "title_cell": "Table of Contents",
   "title_sidebar": "Contents",
   "toc_cell": false,
   "toc_position": {},
   "toc_section_display": true,
   "toc_window_display": false
  }
 },
 "nbformat": 4,
 "nbformat_minor": 2
}
