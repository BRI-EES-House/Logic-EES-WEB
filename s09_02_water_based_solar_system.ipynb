{
 "cells": [
  {
   "cell_type": "markdown",
   "metadata": {},
   "source": [
    "使用許諾条件\n",
    "\n",
    "①\t設計一次エネルギー消費量算定法に基づく計算方法をPythonによりコーディングし、Jupyter notebook形式で保存したファイル（以下、本ファイルと呼ぶ）の著作権は、一般社団法人日本サステナブル建築協会に帰属します。\n",
    "Copyright©2019. 一般社団法人日本サステナブル建築協会\n",
    "All rights reserved. \n",
    "\n",
    "②\t本ファイルは、住戸の設計一次エネルギー消費量算定方法に係る「平成28年省エネルギー基準に準拠したエネルギー消費性能の評価に関する技術情報（住宅）2.1算定方法（第九章第二節 液体集熱式太陽熱利用設備）」に示す計算方法に基づき、国土交通省国土技術政策総合研究所・国立研究開発法人建築研究所、株式会社ユーワークス、株式会社住環境計画研究所が作成したものです。\n",
    "\n",
    "③\t本ファイルは、計算方法に示す計算過程の確認及び調査研究等に活用することを目的として作成されたものであり、一般社団法人日本サステナブル建築協会は著作権について放棄はしませんが、使用する各人の自己責任において仕様を変更することを妨げるものではありません。ただし、本ファイルによる計算結果を住宅の省エネルギー基準で規定する設計一次エネルギー消費量の結果として公的な申請に用いることはできません。\n",
    "\n",
    "④\t本ファイルを変更するかしないかを問わず、以下の条件を満たす場合に限り、頒布および使用が許可されます。\n",
    "1.\t頒布物の付属ドキュメント等の資料に、上記の著作権表示、本条件一覧、および下記免責条項を含めること。\n",
    "2.\t書面による特別の許可なしに、本ファイルから派生した製品の宣伝または販売の促進に、一般社団法人日本サステナブル建築協会、国土技術政策総合研究所・国立研究開発法人建築研究所および株式会社ユーワークス、株式会社住環境計画研究所の名前またはコントリビューターの名前を使用してはならない。\n",
    "\n",
    "⑤\t本ファイルは、著作権者およびコントリビューターによって「現状のまま」提供されており、明示黙示を問わず、商業的な使用可能性、および特定の目的に対する適合性に関する暗黙の保証も含め、またそれに限定されない、いかなる保証もありません。著作権もコントリビューターも、事由のいかんを問わず、損害発生の原因いかんを問わず、かつ責任の根拠が契約であるか厳格責任であるか（過失その他の）不法行為であるかを問わず、仮にそのような損害が発生する可能性を知らされていたとしても、本ファイルの使用によって発生した（代用品または代用サービスの調達、使用の喪失、データの喪失、利益の喪失、業務の中断も含め、またそれに限定されない）直接損害、間接損害、偶発的な損害、特別損害、懲罰的損害、または結果損害について、一切の責任を負わないものとします。\n",
    "\n"
   ]
  },
  {
   "cell_type": "code",
   "execution_count": null,
   "metadata": {},
   "outputs": [],
   "source": [
    "import nbimporter\n",
    "import numpy as np\n",
    "from s11_02_solar_radiation import \\\n",
    "    load_solrad, \\\n",
    "    calc_I_s_d_t, \\\n",
    "    get_Theta_ex\n"
   ]
  },
  {
   "cell_type": "markdown",
   "metadata": {},
   "source": [
    "# 第九章　自然エネルギー利用設備 / Chapter 9 Natural energy utilization equipment"
   ]
  },
  {
   "cell_type": "markdown",
   "metadata": {},
   "source": [
    "## 第二節　液体集熱式太陽熱利用設備 / Section 2 Water based solar system"
   ]
  },
  {
   "cell_type": "markdown",
   "metadata": {},
   "source": [
    "1．適用範囲～4．記号及び単位は省略"
   ]
  },
  {
   "cell_type": "markdown",
   "metadata": {},
   "source": [
    "1. Scope of application ~ 4. Symbols and units are omitted"
   ]
  },
  {
   "cell_type": "markdown",
   "metadata": {},
   "source": [
    "### 5．全般 / General"
   ]
  },
  {
   "cell_type": "markdown",
   "metadata": {},
   "source": [
    "#### 5.1 補正集熱量 / Corrected heat collection"
   ]
  },
  {
   "cell_type": "markdown",
   "metadata": {},
   "source": [
    "採用する設備が太陽熱温水器の場合： "
   ]
  },
  {
   "cell_type": "markdown",
   "metadata": {},
   "source": [
    "If the equipment used is a solar water heater:"
   ]
  },
  {
   "cell_type": "markdown",
   "metadata": {},
   "source": [
    "$$\\large\n",
    "L_{sun,lss,d,t} = L_{sun,lss,sh,d,t}\n",
    "$$"
   ]
  },
  {
   "cell_type": "markdown",
   "metadata": {},
   "source": [
    "採用する設備がソーラーシステムの場合： "
   ]
  },
  {
   "cell_type": "markdown",
   "metadata": {},
   "source": [
    "If the equipment used is a solar system:"
   ]
  },
  {
   "cell_type": "markdown",
   "metadata": {},
   "source": [
    "$$\\large\n",
    "L_{sun,lss,d,t} = L_{sun,lss,ss,d,t}\n",
    "$$"
   ]
  },
  {
   "cell_type": "markdown",
   "metadata": {},
   "source": [
    "$L_{sun,lss,d,t}$：日付$d$の時刻$t$における1時間当たりの液体集熱式太陽熱利用設備による補正集熱量(MJ/h) / Corrected heat collection amount by liquid-collecting solar utilization equipment per hour at time $ t $ of date $ d $  \n",
    "$L_{sun,lss,sh,d,t}$：採用する設備が太陽熱温水器の場合の日付$d$の時刻$t$における1時間当たりの液体集熱式太陽熱利用設備による補正集熱量(MJ/h) / When the equipment to be adopted is the solar water heater, the corrected heat collection amount by the liquid heat collecting solar utilization equipment per hour at the time $ t $ of the date $ d $  \n",
    "$L_{sun,lss,ss,d,t}$：採用する設備がソーラーシステムの場合の日付$d$の時刻$t$における1時間当たりの液体集熱式太陽熱利用設備による補正集熱量(MJ/h) / If the equipment to be adopted is a solar system, the corrected heat collection amount by the liquid heat collecting solar utilization equipment per hour at the time $ t $ on the date $ d $  "
   ]
  },
  {
   "cell_type": "code",
   "execution_count": null,
   "metadata": {},
   "outputs": [],
   "source": [
    "def calc_L_sun_lss_d_t(region, sol_region, ls_type, A_sp, P_alpha_sp, P_beta_sp, W_tnk_ss, Theta_wtr_d, L_dash_k_d_t,\n",
    "                       L_dash_s_d_t, L_dash_w_d_t,\n",
    "                       L_dash_b1_d_t, L_dash_b2_d_t, L_dash_ba1_d_t):\n",
    "    \"\"\"1時間当たりの液体集熱式太陽熱利用設備による補正集熱量 (1)\n",
    "\n",
    "    :param region: 省エネルギー地域区分\n",
    "    :type region: int\n",
    "    :param sol_region: 年間日射地域区分\n",
    "    :type sol_region: int\n",
    "    :param ls_type: 液体集熱式太陽熱利用設備の種類 (太陽熱温水器,ソーラーシステム)\n",
    "    :type ls_type: str\n",
    "    :param A_sp: 太陽熱集熱部の有効集熱面積 (m2)\n",
    "    :type A_sp: float\n",
    "    :param P_alpha_sp: 太陽熱集熱部の方位角 (°)\n",
    "    :type P_alpha_sp: float\n",
    "    :param P_beta_sp: 太陽熱集熱部の傾斜角 (°)\n",
    "    :type P_beta_sp: float\n",
    "    :param W_tnk_ss: タンク容量 (L)\n",
    "    :type W_tnk_ss: float\n",
    "    :param Theta_wtr_d: 日平均給水温度 (℃)\n",
    "    :type Theta_wtr_d: ndarray\n",
    "    :param L_dash_k_d_t: 1時間当たりの台所水栓における節湯補正給湯熱負荷 (MJ/h)\n",
    "    :type L_dash_k_d_t: ndarray\n",
    "    :param L_dash_s_d_t: 1時間当たりの浴室シャワー水栓における節湯補正給湯熱負荷 (MJ/h)\n",
    "    :type L_dash_s_d_t: ndarray\n",
    "    :param L_dash_w_d_t: 1時間当たりの洗面水栓における節湯補正給湯熱負荷 (MJ/h)\n",
    "    :type L_dash_w_d_t: ndarray\n",
    "    :param L_dash_b1_d_t: 1時間当たりの浴槽水栓湯はりにおける節湯補正給湯熱負荷 (MJ/h)\n",
    "    :type L_dash_b1_d_t: ndarray\n",
    "    :param L_dash_b2_d_t: 1時間当たりの浴槽自動湯はりにおける節湯補正給湯熱負荷 (MJ/h)\n",
    "    :type L_dash_b2_d_t: ndarray\n",
    "    :param L_dash_ba1_d_t: 1時間当たりの浴槽水栓さし湯における節湯補正給湯熱負荷 (MJ/h)\n",
    "    :type L_dash_ba1_d_t: ndarray\n",
    "    :return: 1時間当たりの液体集熱式太陽熱利用設備による補正集熱量 (MJ/h)\n",
    "    :rtype: ndarray\n",
    "    \"\"\"\n",
    "    if ls_type == '太陽熱温水器':\n",
    "        # 採用する設備が太陽熱温水器の場合\n",
    "\n",
    "        # 1日当たりの基準集熱量\n",
    "        Q_sh_d = calc_Q_sh_d(\n",
    "            A_sp_sh=A_sp,\n",
    "            P_alpha_sp_sh=P_alpha_sp,\n",
    "            P_beta_sp_sh=P_beta_sp,\n",
    "            region=region,\n",
    "            sol_region=sol_region\n",
    "        )\n",
    "\n",
    "        # 補正集熱量 (1-1)\n",
    "        L_sun_lss_d_t = get_L_sun_lss_sh_d_t(\n",
    "            Q_sh_d=Q_sh_d,\n",
    "            L_dash_k_d_t=L_dash_k_d_t,\n",
    "            L_dash_s_d_t=L_dash_s_d_t,\n",
    "            L_dash_w_d_t=L_dash_w_d_t,\n",
    "            L_dash_b1_d_t=L_dash_b1_d_t,\n",
    "            L_dash_b2_d_t=L_dash_b2_d_t,\n",
    "            L_dash_ba1_d_t=L_dash_ba1_d_t,\n",
    "            region=region,\n",
    "            sol_region=sol_region\n",
    "        )\n",
    "\n",
    "        return L_sun_lss_d_t\n",
    "    elif ls_type == 'ソーラーシステム':\n",
    "        # 採用する設備がソーラーシステムの場合\n",
    "\n",
    "        # 1日当たりの基準集熱量\n",
    "        Q_ss_d = calc_Q_ss_d(\n",
    "            A_sp_ss=A_sp,\n",
    "            P_alpha_sp_ss=P_alpha_sp,\n",
    "            P_beta_sp_ss=P_beta_sp,\n",
    "            region=region,\n",
    "            sol_region=sol_region\n",
    "        )\n",
    "\n",
    "        # 補正集熱量 (1-2)\n",
    "        L_sun_lss_d_t = calc_L_sun_lss_ss_d_t(\n",
    "            Q_ss_d=Q_ss_d,\n",
    "            W_tnk_ss=W_tnk_ss,\n",
    "            Theta_wtr_d=Theta_wtr_d,\n",
    "            L_dash_k_d_t=L_dash_k_d_t,\n",
    "            L_dash_s_d_t=L_dash_s_d_t,\n",
    "            L_dash_w_d_t=L_dash_w_d_t,\n",
    "            L_dash_b1_d_t=L_dash_b1_d_t,\n",
    "            L_dash_b2_d_t=L_dash_b2_d_t,\n",
    "            L_dash_ba1_d_t=L_dash_ba1_d_t\n",
    "        )\n",
    "\n",
    "        return L_sun_lss_d_t\n",
    "    else:\n",
    "        raise ValueError(ls_type)\n"
   ]
  },
  {
   "cell_type": "markdown",
   "metadata": {},
   "source": [
    "#### 5.2 補機の消費電力量 / Power consumption of auxiliary equipment"
   ]
  },
  {
   "cell_type": "markdown",
   "metadata": {},
   "source": [
    "採用する設備が太陽熱温水器の場合： "
   ]
  },
  {
   "cell_type": "markdown",
   "metadata": {},
   "source": [
    "If the equipment used is a solar water heater:"
   ]
  },
  {
   "cell_type": "markdown",
   "metadata": {},
   "source": [
    "$$\\large\n",
    "E_{E,lss,aux,d,t} = 0\n",
    "$$"
   ]
  },
  {
   "cell_type": "markdown",
   "metadata": {},
   "source": [
    "採用する設備がソーラーシステムの場合： "
   ]
  },
  {
   "cell_type": "markdown",
   "metadata": {},
   "source": [
    "If the equipment used is a solar system:"
   ]
  },
  {
   "cell_type": "markdown",
   "metadata": {},
   "source": [
    "$$\\large\n",
    "E_{E,lss,aux,d,t} = E_{E,ss,cp,d,t}\n",
    "$$"
   ]
  },
  {
   "cell_type": "markdown",
   "metadata": {},
   "source": [
    "$E_{E,lss,aux,d,t}$：日付$d$の時刻$t$における1時間当たりの補機の消費電力量(kWh/h) / Power consumption of accessory per hour at time $ t $ of date $ d $  \n",
    "$E_{E,ss,cp,d,t}$：日付$d$の時刻$t$における1時間当たりのソーラーシステムの循環ポンプの消費電力量(kWh/h) / Solar system circulation pump power consumption per hour at time $ t $ on date $ d $ "
   ]
  },
  {
   "cell_type": "code",
   "execution_count": null,
   "metadata": {},
   "outputs": [],
   "source": [
    "def calc_E_E_lss_aux_d_t(region, sol_region, ls_type, pmp_type=None, P_alpha_sp=None, P_beta_sp=None):\n",
    "    \"\"\"1日当たりの補機の消費電力量 (2)\n",
    "\n",
    "    :param region: 省エネルギー地域区分\n",
    "    :type region: int\n",
    "    :param sol_region: 年間日射地域区分\n",
    "    :type sol_region: int\n",
    "    :param ls_type: 液体集熱式太陽熱利用設備の種類 (太陽熱温水器,ソーラーシステム)\n",
    "    :type ls_type: str\n",
    "    :param pmp_type: ソーラーシステムの循環ポンプの種類 (省消費電力型,上記以外の機種)\n",
    "    :type pmp_type: str\n",
    "    :param P_alpha_sp: 太陽熱集熱部の方位角 (°)\n",
    "    :type P_alpha_sp: float\n",
    "    :param P_beta_sp: 太陽熱集熱部の傾斜角 (°)\n",
    "    :type P_beta_sp: float\n",
    "    :return: 1日当たりの補機の消費電力量 (kWh/d)\n",
    "    :rtype: ndarray\n",
    "    \"\"\"\n",
    "    if ls_type == '太陽熱温水器':\n",
    "        # 採用する説委が太陽熱温水器の場合 (2-1)\n",
    "        E_E_lss_aux_d_t = np.zeros(24 * 365)\n",
    "        return E_E_lss_aux_d_t\n",
    "    elif ls_type == 'ソーラーシステム':\n",
    "        # 採用する設備がソーラーシステムの場合\n",
    "        # 1日当たりのソーラーシステムの循環ポンプの消費電力量 (2-2)\n",
    "        E_E_lss_aux_d_t = calc_E_E_ss_cp_d_t(pmp_type, P_alpha_sp, P_beta_sp, region, sol_region)\n",
    "        return E_E_lss_aux_d_t\n",
    "    else:\n",
    "        raise ValueError(ls_type)\n"
   ]
  },
  {
   "cell_type": "markdown",
   "metadata": {},
   "source": [
    "### 6．太陽熱温水器 / Solar water heater"
   ]
  },
  {
   "cell_type": "markdown",
   "metadata": {},
   "source": [
    "#### 6.1 補正集熱量 / Corrected heat collection"
   ]
  },
  {
   "cell_type": "markdown",
   "metadata": {},
   "source": [
    "$L'_{k,d} + L'_{s,d} + L'_{w,d} + L'_{b1,d} + L'_{b2,d} + L'_{ba1,d} = 0$ の場合："
   ]
  },
  {
   "cell_type": "markdown",
   "metadata": {},
   "source": [
    "In the case of $L'_{k,d} + L'_{s,d} + L'_{w,d} + L'_{b1,d} + L'_{b2,d} + L'_{ba1,d} = 0$"
   ]
  },
  {
   "cell_type": "markdown",
   "metadata": {},
   "source": [
    "$$\\large\n",
    "L_{sun,lss,sh,d,t} = 0\n",
    "$$"
   ]
  },
  {
   "cell_type": "markdown",
   "metadata": {},
   "source": [
    "$L'_{k,d} + L'_{s,d} + L'_{w,d} + L'_{b1,d} + L'_{b2,d} + L'_{ba1,d} > 0$ の場合："
   ]
  },
  {
   "cell_type": "markdown",
   "metadata": {},
   "source": [
    "In the case of $L'_{k,d} + L'_{s,d} + L'_{w,d} + L'_{b1,d} + L'_{b2,d} + L'_{ba1,d} > 0$"
   ]
  },
  {
   "cell_type": "markdown",
   "metadata": {},
   "source": [
    "$$\\large\n",
    "L_{sun,lss,sh,d,t} = L_{sun,lss,sh,d} \\times \\frac{L'_{k,d,t} + L'_{s,d,t} + L'_{w,d,t} + L'_{b1,d,t} + L'_{b2,d,t} + L'_{ba1,d,t}}{L'_{k,d} + L'_{s,d} + L'_{w,d} + L'_{b1,d} + L'_{b2,d} + L'_{ba1,d}}\n",
    "$$"
   ]
  },
  {
   "cell_type": "markdown",
   "metadata": {},
   "source": [
    "$L_{sun,lss,sh,d}$ : 日付$d$における1日当たりの液体集熱式太陽熱利用設備による補正集熱量(MJ/d) / Corrected heat collection by liquid collection solar utilization equipment per day on date $ d $  \n",
    "$L_{sun,lss,sh,d,t}$ : 日付$d$の時刻$t$における1時間当たりの液体集熱式太陽熱利用設備による補正集熱量(MJ/h) / Corrected heat collection amount by liquid-collecting solar utilization equipment per hour at time $ t $ of date $ d $  \n",
    "$L'_{k,d}$ : 日付$d$における1日当たりの台所水栓における節湯補正給湯熱負荷(MJ/d) / Hot water correction hot water supply heat load on kitchen faucet per day on date $ d $  \n",
    "$L'_{s,d}$ : 日付$d$における1日当たりの浴室シャワー水栓における節湯補正給湯熱負荷(MJ/d) / Hot water correction hot water supply heat load in one day bathroom shower faucet on date $ d $  \n",
    "$L'_{w,d}$ : 日付$d$における1日当たりの洗面水栓における節湯補正給湯熱負荷(MJ/d) / Hot water correction hot water supply heat load in the daily wash water faucet at date $ d $  \n",
    "$L'_{b1,d}$ : 日付$d$における1日当たりの浴槽水栓湯はり時における節湯補正給湯熱負荷(MJ/d) / Hot water correction hot water supply heat load at one day bathtub faucet hot water at date $ d $  \n",
    "$L'_{b2,d}$ : 日付$d$における1日当たりの浴槽自動湯はり時における節湯補正給湯熱負荷(MJ/d) / Hot water correction hot water supply heat load at one day bathtub automatic hot water heating at date $ d $  \n",
    "$L'_{ba1,d}$ : 日付$d$における1日当たりの浴槽水栓さし湯時における節湯補正給湯熱負荷(MJ/d) / Hot water correction hot water supply heat load at the time of the day $ d $ in the bathtub faucet first time  \n",
    "$L'_{k,d,t}$ : 日付$d$の時刻$t$における1時間当たりの台所水栓における節湯補正給湯熱負荷(MJ/h) / Hot water correction hot water supply heat load at kitchen faucet per hour at time $ t $ on date $ d $  \n",
    "$L'_{s,d,t}$ : 日付$d$の時刻$t$における1時間当たりの浴室シャワー水栓における節湯補正給湯熱負荷(MJ/h) / Hot water correction hot water supply heat load in bathroom shower faucet per hour at time $ t $ of date $ d $  \n",
    "$L'_{w,d,t}$ : 日付$d$の時刻$t$における1時間当たりの洗面水栓における節湯補正給湯熱負荷(MJ/h) / Hot water correction hot water supply heat load in the faucet per hour at time $ t $ of date $ d $  \n",
    "$L'_{b1,d,t}$ : 日付$d$の時刻$t$における1時間当たりの浴槽水栓湯はり時における節湯補正給湯熱負荷(MJ/h) / Hot water correction hot water supply heat load at the time of bathtub $ 1 $ per hour at date $ t $ of date $ d $  \n",
    "$L'_{b2,d,t}$ : 日付$d$の時刻$t$における1時間当たりの浴槽自動湯はり時における節湯補正給湯熱負荷(MJ/h) / Hot water correction hot water supply heat load at the time of bathtub automatic water heating per hour at time $ t $ of date $ d $  \n",
    "$L'_{ba1,d,t}$ : 日付$d$の時刻$t$における1時間当たりの浴槽水栓さし湯時における節湯補正給湯熱負荷(MJ/h) / Hot water correction hot water supply heat load at the time of bathtub faucet hot water per hour at time $ t $ of date $ d $  "
   ]
  },
  {
   "cell_type": "code",
   "execution_count": null,
   "metadata": {},
   "outputs": [],
   "source": [
    "def get_L_sun_lss_sh_d_t(Q_sh_d, L_dash_k_d_t, L_dash_s_d_t, L_dash_w_d_t, L_dash_b1_d_t, L_dash_b2_d_t, L_dash_ba1_d_t,\n",
    "                         region,\n",
    "                         sol_region):\n",
    "    \"\"\"1時間当たりの液体集熱式太陽熱利用設備による補正集熱量 (MJ/h) (3)\n",
    "\n",
    "    :param Q_sh_d: 1日当たりの基準集熱量 (MJ/h)\n",
    "    :type Q_sh_d: ndarray\n",
    "    :param L_dash_k_d_t: 1時間当たりの台所水栓における節湯補正給湯熱負荷 (MJ/h)\n",
    "    :type L_dash_k_d_t: ndarray\n",
    "    :param L_dash_s_d_t: 1時間当たりの浴室シャワー水栓における節湯補正給湯熱負荷 (MJ/h)\n",
    "    :type L_dash_s_d_t: ndarray\n",
    "    :param L_dash_w_d_t: 1時間当たりの洗面水栓における節湯補正給湯熱負荷 (MJ/h)\n",
    "    :type L_dash_w_d_t: ndarray\n",
    "    :param L_dash_b1_d_t: 1時間当たりの浴槽水栓湯はりにおける節湯補正給湯熱負荷 (MJ/h)\n",
    "    :type L_dash_b1_d_t: ndarray\n",
    "    :param L_dash_b2_d_t: 1時間当たりの浴槽自動湯はりにおける節湯補正給湯熱負荷 (MJ/h)\n",
    "    :type L_dash_b2_d_t: ndarray\n",
    "    :param L_dash_ba1_d_t: 1時間当たりの浴槽水栓さし湯における節湯補正給湯熱負荷 (MJ/h)\n",
    "    :type L_dash_ba1_d_t: ndarray\n",
    "    :param region: 省エネルギー地域区分\n",
    "    :type region: int\n",
    "    :param sol_region: 年間日射地域区分\n",
    "    :type sol_region: int\n",
    "    :return: 1時間当たりの液体集熱式太陽熱利用設備による補正集熱量 (MJ/h)\n",
    "    :rtype: ndarray\n",
    "    \"\"\"\n",
    "    # 24時間化\n",
    "    L_dash_k_d = np.sum(L_dash_k_d_t.reshape((365, 24)), axis=1)\n",
    "    L_dash_s_d = np.sum(L_dash_s_d_t.reshape((365, 24)), axis=1)\n",
    "    L_dash_w_d = np.sum(L_dash_w_d_t.reshape((365, 24)), axis=1)\n",
    "    L_dash_b1_d = np.sum(L_dash_b1_d_t.reshape((365, 24)), axis=1)\n",
    "    L_dash_b2_d = np.sum(L_dash_b2_d_t.reshape((365, 24)), axis=1)\n",
    "    L_dash_ba1_d = np.sum(L_dash_ba1_d_t.reshape((365, 24)), axis=1)\n",
    "\n",
    "    # 1日当たりの液体集熱式太陽熱利用設備による補正集熱量 (MJ/d) (4)\n",
    "    L_sun_lss_ss_d = calc_L_sun_lss_sh_d(Q_sh_d, L_dash_k_d, L_dash_s_d, L_dash_w_d, L_dash_b1_d, L_dash_b2_d,\n",
    "                                         L_dash_ba1_d, region,\n",
    "                                         sol_region)\n",
    "\n",
    "    # 24時間化\n",
    "    L_dash_k_d = np.repeat(L_dash_k_d, 24)\n",
    "    L_dash_s_d = np.repeat(L_dash_s_d, 24)\n",
    "    L_dash_w_d = np.repeat(L_dash_w_d, 24)\n",
    "    L_dash_b1_d = np.repeat(L_dash_b1_d, 24)\n",
    "    L_dash_b2_d = np.repeat(L_dash_b2_d, 24)\n",
    "    L_dash_ba1_d = np.repeat(L_dash_ba1_d, 24)\n",
    "\n",
    "    L_sun_lss_ss_d = np.repeat(L_sun_lss_ss_d, 24)\n",
    "\n",
    "    L_sun_lss_ss_d_t = np.zeros(24 * 365)\n",
    "\n",
    "    # (9-1) 節湯補正給湯熱負荷が0の場合\n",
    "    f1 = (L_dash_k_d + L_dash_s_d + L_dash_w_d + L_dash_b1_d + L_dash_b2_d + L_dash_ba1_d) == 0\n",
    "    L_sun_lss_ss_d_t[f1] = 0\n",
    "\n",
    "    # (9-2) 節湯補正給湯熱負荷 > 0の場合\n",
    "    f2 = (L_dash_k_d + L_dash_s_d + L_dash_w_d + L_dash_b1_d + L_dash_b2_d + L_dash_ba1_d) > 0\n",
    "    L_sun_lss_ss_d_t[f2] = (L_sun_lss_ss_d[f2]\n",
    "                            * (L_dash_k_d_t[f2] + L_dash_s_d_t[f2] + L_dash_w_d_t[f2] + L_dash_b1_d_t[f2] +\n",
    "                               L_dash_b2_d_t[f2] + L_dash_ba1_d_t[f2])\n",
    "                            / (L_dash_k_d[f2] + L_dash_s_d[f2] + L_dash_w_d[f2] + L_dash_b1_d[f2] + L_dash_b2_d[f2] +\n",
    "                               L_dash_ba1_d[f2]))\n",
    "\n",
    "    return L_sun_lss_ss_d_t\n"
   ]
  },
  {
   "cell_type": "markdown",
   "metadata": {},
   "source": [
    "$\\theta_{ex,lwlim,sh} \\leq \\theta_{ex,s,prd,Ave,d}$の場合： "
   ]
  },
  {
   "cell_type": "markdown",
   "metadata": {},
   "source": [
    "In the case of $\\theta_{ex,lwlim,sh} \\leq \\theta_{ex,s,prd,Ave,d}$"
   ]
  },
  {
   "cell_type": "markdown",
   "metadata": {},
   "source": [
    "$$\\large\n",
    "L_{sun,lss,sh,d} = min(Q_{sh,d} ,  (L'_{k,d} + L'_{s,d} + L'_{w,d} + L'_{b1,d} + L'_{b2,d} + L'_{ba1,d}) \\times f_{sr,uplim,sh})\n",
    "$$"
   ]
  },
  {
   "cell_type": "markdown",
   "metadata": {},
   "source": [
    "$\\theta_{ex,s,prd,Ave,d} < \\theta_{ex,lwlim,sh}$の場合： "
   ]
  },
  {
   "cell_type": "markdown",
   "metadata": {},
   "source": [
    "In the case of $\\theta_{ex,s,prd,Ave,d} < \\theta_{ex,lwlim,sh}$"
   ]
  },
  {
   "cell_type": "markdown",
   "metadata": {},
   "source": [
    "$$\\large\n",
    "L_{sun,lss,sh,d} = 0\n",
    "$$"
   ]
  },
  {
   "cell_type": "markdown",
   "metadata": {},
   "source": [
    "$f_{sr,uplim,sh}$：液体集熱式太陽熱利用設備の分担率上限値(-) / Upper limit value of share rate of liquid thermal collection type solar utilization equipment  \n",
    "$L_{sun,lss,sh,d}$：日付$d$における1日当たりの液体集熱式太陽熱利用設備による補正集熱量(MJ/d) / Corrected heat collection by liquid collection solar utilization equipment per day on date $ d $  \n",
    "$L'_{k,d}$：日付$d$における1日当たりの台所水栓における節湯補正給湯熱負荷(MJ/d) / Hot water correction hot water supply heat load on kitchen faucet per day on date $ d $  \n",
    "$L'_{s,d}$：日付$d$における1日当たりの浴室シャワー水栓における節湯補正給湯熱負荷(MJ/d) / Hot water correction hot water supply heat load in one day bathroom shower faucet on date $ d $  \n",
    "$L'_{w,d}$：日付$d$における1日当たりの洗面水栓における節湯補正給湯熱負荷(MJ/d) / Hot water correction hot water supply heat load in the daily wash water faucet at date $ d $  \n",
    "$L'_{b1,d}$：日付$d$における1日当たりの浴槽水栓湯はり時における節湯補正給湯熱負荷(MJ/d) / Hot water correction hot water supply heat load at one day bathtub faucet hot water at date $ d $  \n",
    "$L'_{b2,d}$：日付$d$における1日当たりの浴槽自動湯はり時における節湯補正給湯熱負荷(MJ/d) / Hot water correction hot water supply heat load at one day bathtub automatic hot water heating at date $ d $  \n",
    "$L'_{ba1,d}$：日付$d$における1日当たりの浴槽水栓さし湯時における節湯補正給湯熱負荷(MJ/d) / Hot water correction hot water supply heat load at the time of the day $ d $ in the bathtub faucet first time  \n",
    "$Q_{sh,d}$：日付$d$における1日当たりの基準集熱量(MJ/d) / Standard heat collection per day for date $ d $  \n",
    "$\\theta_{ex,s,prd,Ave,d}$：日付$d$を基準とした期間平均太陽熱外気温度(℃) / Average solar radiation outside temperature period based on date $ d $  \n",
    "$\\theta_{ex,lwlim,sh}$：液体集熱式太陽熱利用設備を使用できる外気温度の下限(℃) / Lower limit of outside air temperature that can use liquid collection type solar thermal facility  \n"
   ]
  },
  {
   "cell_type": "code",
   "execution_count": null,
   "metadata": {},
   "outputs": [],
   "source": [
    "def calc_L_sun_lss_sh_d(Q_sh_d, L_dash_k_d, L_dash_s_d, L_dash_w_d, L_dash_b1_d, L_dash_b2_d, L_dash_ba1_d, region,\n",
    "                        sol_region):\n",
    "    \"\"\"1日当たりの液体集熱式太陽熱利用設備による補正集熱量 (MJ/d) (4)\n",
    "\n",
    "    :param Q_sh_d: 1日当たりの基準集熱量 (MJ/d)\n",
    "    :type Q_sh_d: ndarray\n",
    "    :param L_dash_k_d: 台所水栓における節湯補正給湯熱負荷 (MJ/d)\n",
    "    :type L_dash_k_d: ndarray\n",
    "    :param L_dash_s_d: 浴室シャワー水栓における節湯補正給湯熱負荷 (MJ/d)\n",
    "    :type L_dash_s_d: ndarray\n",
    "    :param L_dash_w_d: 洗面水栓における節湯補正給湯熱負荷 (MJ/d)\n",
    "    :type L_dash_w_d: ndarray\n",
    "    :param L_dash_b1_d: 浴槽水栓湯はりにおける節湯補正給湯熱負荷 (MJ/d)\n",
    "    :type L_dash_b1_d: ndarray\n",
    "    :param L_dash_b2_d: 浴槽自動湯はりにおける節湯補正給湯熱負荷 (MJ/d)\n",
    "    :type L_dash_b2_d: ndarray\n",
    "    :param L_dash_ba1_d: 浴槽水栓さし湯における節湯補正給湯熱負荷 (MJ/d)\n",
    "    :type L_dash_ba1_d: ndarray\n",
    "    :param region: 省エネルギー地域区分\n",
    "    :type region: int\n",
    "    :param sol_region: 年間日射地域区分\n",
    "    :type sol_region: int\n",
    "    :return: 1日当たりの液体集熱式太陽熱利用設備による補正集熱量 (MJ/d)\n",
    "    :rtype: ndarray\n",
    "    \"\"\"\n",
    "    # 期間平均太陽熱外気温度\n",
    "    Theta_ex_s_prd_Ave_d = calc_Theta_ex_s_prd_Ave_d(region, sol_region)\n",
    "\n",
    "    # 液体集熱式太陽熱利用設備を使用できる外気温度の下限\n",
    "    Theta_ex_lwlim_sh = get_Theta_ex_lwlim_sh()\n",
    "\n",
    "    # 液体集熱式太陽熱利用設備の分担率の上限値\n",
    "    f_sr_uplim_sh = get_f_sr_uplim_sh()\n",
    "\n",
    "    # Theta_ex_lwlim <= Theta_ex_s_prd_Ave_d の場合 (3-1)\n",
    "    # ひとまず、条件を無視してすべての日について計算する\n",
    "    L_sun_lss_sh_d = np.min(\n",
    "        [Q_sh_d, (L_dash_k_d + L_dash_s_d + L_dash_w_d + L_dash_b1_d + L_dash_b2_d + L_dash_ba1_d) * f_sr_uplim_sh],\n",
    "        axis=0)\n",
    "\n",
    "    # Theta_ex_s_prd_Ave_d < Theta_ex_lwlim_sh の場合 (3-2)\n",
    "    # この条件を満たす日だけ0で上書きする\n",
    "    L_sun_lss_sh_d[Theta_ex_s_prd_Ave_d < Theta_ex_lwlim_sh] = 0.0\n",
    "\n",
    "    return L_sun_lss_sh_d\n"
   ]
  },
  {
   "cell_type": "markdown",
   "metadata": {},
   "source": [
    "液体集熱式太陽熱利用設備を使用できる外気温度の下限$\\theta_{ex,lwlim,sh}$は、5℃とする。液体集熱式太陽熱利用設備の分担率上限値$f_{sr,uplim,sh}$は、0.9とする。 "
   ]
  },
  {
   "cell_type": "markdown",
   "metadata": {},
   "source": [
    "The lower limit $ \\ theta_ {ex, lwlim, sh} $ of the outside air temperature at which the liquid thermal solar energy utilization equipment can be used is 5 °C. The share rate upper limit value $f_{sr, uplim, sh} $ of the liquid heat collecting solar use facility is 0.9."
   ]
  },
  {
   "cell_type": "code",
   "execution_count": null,
   "metadata": {},
   "outputs": [],
   "source": [
    "def get_Theta_ex_lwlim_sh():\n",
    "    \"\"\"液体集熱式太陽熱利用設備を使用できる外気温度の下限\n",
    "\n",
    "    :return: 液体集熱式太陽熱利用設備を使用できる外気温度の下限\n",
    "    :rtype: float\n",
    "    \"\"\"\n",
    "    return 5.0\n",
    "\n",
    "\n",
    "def get_f_sr_uplim_sh():\n",
    "    \"\"\" 液体集熱式太陽熱利用設備の分担率上限値\n",
    "\n",
    "    :return: 液体集熱式太陽熱利用設備の分担率上限値\n",
    "    :rtype: float\n",
    "    \"\"\"\n",
    "    return 0.9\n"
   ]
  },
  {
   "cell_type": "markdown",
   "metadata": {},
   "source": [
    "#### 6.2 基準集熱量 / Reference heat collection"
   ]
  },
  {
   "cell_type": "markdown",
   "metadata": {},
   "source": [
    "$$\\large\n",
    "Q_{sh,d} = Q_{sp,sh,d} \\times A_{sp,sh} \\times f_{sp,sh} \\times f_{s,sh}\n",
    "$$"
   ]
  },
  {
   "cell_type": "markdown",
   "metadata": {},
   "source": [
    "$A_{sp,sh}$：太陽熱集熱部の有効集熱面積(m<sup>2</sup>) / Effective heat collection area of solar heat collector  \n",
    "$Q_{sh,d}$：日付$d$における1日当たりの基準集熱量(MJ/d) / Standard heat collection per day for date $ d $  \n",
    "$Q_{sp,sh,d}$：日付$d$における1日当たりの太陽熱集熱部設置面の単位面積当たりの日射量(MJ/m<sup>2</sup>・d) / The amount of solar radiation per unit area of the solar thermal collector installation surface per day for the date $ d $  \n",
    "$f_{s,sh}$：液体集熱式太陽熱利用設備のシステム効率(-) / System efficiency of liquid collection solar system  \n",
    "$f_{sp,sh}$：太陽熱集熱部の集熱効率(-) / Heat collection efficiency of solar heat collector  "
   ]
  },
  {
   "cell_type": "code",
   "execution_count": null,
   "metadata": {},
   "outputs": [],
   "source": [
    "def calc_Q_sh_d(A_sp_sh, P_alpha_sp_sh, P_beta_sp_sh, region, sol_region):\n",
    "    \"\"\"1日当たりの基準集熱量 (5)\n",
    "\n",
    "    :param A_sp_sh: 太陽熱集熱部の有効集熱面積 (m2)\n",
    "    :type A_sp_sh: float\n",
    "    :param P_alpha_sp_sh: 太陽熱集熱部設置面の方位角\n",
    "    :type P_alpha_sp_sh: float\n",
    "    :param P_beta_sp_sh: 太陽熱集熱部設置面の傾斜角\n",
    "    :type P_beta_sp_sh: float\n",
    "    :param region: 省エネルギー地域区分\n",
    "    :type region: int\n",
    "    :param sol_region: 年間日射地域区分\n",
    "    :type sol_region: int\n",
    "    :return: 1日当たりの基準集熱量 (MJ/d)\n",
    "    :rtype: ndarray\n",
    "    \"\"\"\n",
    "    # 1日当たりの太陽熱集熱部設置面の単位面積当たりの日射量\n",
    "    Q_sp_sh_d = calc_Q_sp_sh_d(P_alpha_sp_sh, P_beta_sp_sh, region, sol_region)\n",
    "\n",
    "    # 太陽熱集熱部の集熱効率\n",
    "    f_sp_sh = get_f_sp_sh()\n",
    "\n",
    "    # 液体集熱式太陽熱利用設備のシステム効率\n",
    "    f_s_sh = get_f_s_sh()\n",
    "\n",
    "    # 1日当たりの基準集熱量\n",
    "    Q_sh_d = Q_sp_sh_d * A_sp_sh * f_sp_sh * f_s_sh\n",
    "\n",
    "    return Q_sh_d\n"
   ]
  },
  {
   "cell_type": "markdown",
   "metadata": {},
   "source": [
    "太陽熱集熱部の集熱効率$f_{sp,sh}$は、0.4とする。液体集熱式太陽熱利用設備のシステム効率$f_{s,sh}$は、0.85とする。 "
   ]
  },
  {
   "cell_type": "markdown",
   "metadata": {},
   "source": [
    "The heat collection efficiency $ f_ {sp, sh} $ of the solar heat collector is 0.4. The system efficiency $ f_ {s, sh} $ of the liquid collection solar system is 0.85."
   ]
  },
  {
   "cell_type": "code",
   "execution_count": null,
   "metadata": {},
   "outputs": [],
   "source": [
    "def get_f_sp_sh():\n",
    "    \"\"\"太陽熱集熱部の集熱効率\n",
    "\n",
    "    :return:太陽熱集熱部の集熱効率\n",
    "    :rtype: float\n",
    "    \"\"\"\n",
    "    return 0.4\n",
    "\n",
    "\n",
    "def get_f_s_sh():\n",
    "    \"\"\"液体集熱式太陽熱利用設備のシステム効率\n",
    "\n",
    "    :return: 液体集熱式太陽熱利用設備のシステム効率\n",
    "    :rtype: float\n",
    "    \"\"\"\n",
    "    return 0.85\n"
   ]
  },
  {
   "cell_type": "markdown",
   "metadata": {},
   "source": [
    "太陽熱集熱部の有効集熱面積$A_{sp,sh}$は、ISO 9488 の 8.6 節「aperture area」に規定される方法により算出した値とするか、IS A 4111 に規定される集熱部総面積又は集熱貯湯部総面積に 0.85 を乗じた値とする。 "
   ]
  },
  {
   "cell_type": "markdown",
   "metadata": {},
   "source": [
    "The effective heat collection area $ A_ {sp, sh} $ of the solar heat collector is a value calculated by the method specified in Section 8.6 “aperture area” of ISO 9488, or the heat collection specified in IS A 4111. The total area of the part or the total area of the heat collection and storage section is multiplied by 0.85."
   ]
  },
  {
   "cell_type": "code",
   "execution_count": null,
   "metadata": {},
   "outputs": [],
   "source": [
    "def get_A_sp_sh_JIS_A_4111(A):\n",
    "    \"\"\"太陽熱集熱部の有効集熱面積(IS A 4111)\n",
    "\n",
    "    :param A: 太陽熱集熱部総面積\n",
    "    :type A: float\n",
    "    :return: 太陽熱集熱部の有効集熱面積\n",
    "    :rtype: float\n",
    "    \"\"\"\n",
    "    return A * 0.85\n"
   ]
  },
  {
   "cell_type": "markdown",
   "metadata": {},
   "source": [
    "$$\\large\n",
    "Q_{sp,sh,d} = \\sum_{t = 0}^{23} ( I_{s,sp,sh,d,t} \\times 3600 \\times 10^{-6} )\n",
    "$$"
   ]
  },
  {
   "cell_type": "markdown",
   "metadata": {},
   "source": [
    "$I_{s,sp,sh,d,t}$：日付$d$の時刻$t$における太陽熱集熱部設置面の単位面積当たりの平均日射量(W/m<sup>2</sup>) / Average solar radiation amount per unit area of solar heat collector installation surface at time $ t $ of date $ d $  \n",
    "$Q_{sp,sh,d}$：日付$d$における1日当たりの太陽熱集熱部設置面の単位面積当たりの日射量(MJ/(m<sup>2</sup>・d)) / The amount of solar radiation per unit area of the solar thermal collector installation surface per day for the date $ d $  "
   ]
  },
  {
   "cell_type": "code",
   "execution_count": null,
   "metadata": {},
   "outputs": [],
   "source": [
    "def calc_Q_sp_sh_d(P_alpha_sp_sh, P_beta_sp_sh, region, sol_region):\n",
    "    \"\"\"1日当たりの太陽熱集熱部設置面の単位面積当たりの日射量 (6)\n",
    "\n",
    "    :param P_alpha_sp_sh: 太陽熱集熱部設置面の方位角\n",
    "    :type P_alpha_sp_sh: float\n",
    "    :param P_beta_sp_sh: 太陽熱集熱部設置面の傾斜角\n",
    "    :type P_beta_sp_sh: float\n",
    "    :param region: 省エネルギー地域区分\n",
    "    :type region: int\n",
    "    :param sol_region: 年間日射地域区分\n",
    "    :type sol_region: int\n",
    "    :return: 1日当たりの太陽熱集熱部設置面の単位面積当たりの日射量 (MJ/(m2・d))\n",
    "    :rtype: ndarray\n",
    "    \"\"\"\n",
    "    # 太陽熱集熱部設置面の単位面積当たりの平均日射量\n",
    "    solrad = load_solrad(region, sol_region)\n",
    "    I_s_sp_sh_d_t = calc_I_s_d_t(P_alpha_sp_sh, P_beta_sp_sh, solrad)\n",
    "\n",
    "    # 1日当たりの太陽熱集熱部設置面の単位面積当たりの日射量\n",
    "    tmp = I_s_sp_sh_d_t.reshape(365, 24)\n",
    "    Q_sp_sh_d = np.sum(tmp, axis=1) * 3600 * 10 ** (-6)\n",
    "\n",
    "    return Q_sp_sh_d\n"
   ]
  },
  {
   "cell_type": "markdown",
   "metadata": {},
   "source": [
    "#### 6.3 期間平均太陽熱外気温度 / Period average solar outside air temperature"
   ]
  },
  {
   "cell_type": "markdown",
   "metadata": {},
   "source": [
    "$$\\large\n",
    "\\theta_{ex,s,prd,Ave,d} = \\sum_{i = 0}^{30} \\theta_{ex,s,Ave,d - 15 + i} \\big/ 31\n",
    "$$"
   ]
  },
  {
   "cell_type": "markdown",
   "metadata": {},
   "source": [
    "$\\theta_{ex,s,prd,Ave,d}$：日付$d$を基準とした期間平均太陽熱外気温度(℃) / Average solar radiation outside temperature period based on date $ d $  \n",
    "$\\theta_{ex,s,Ave,d}$：日付$d$における日平均太陽熱外気温度(℃) / Daily average solar outside temperature on date $ d $  "
   ]
  },
  {
   "cell_type": "code",
   "execution_count": null,
   "metadata": {},
   "outputs": [],
   "source": [
    "def calc_Theta_ex_s_prd_Ave_d(region, sol_region):\n",
    "    \"\"\"期間平均太陽熱外気温度 (7)\n",
    "\n",
    "    :param region: 省エネルギー地域区分\n",
    "    :type region: int\n",
    "    :param sol_region: 年間日射地域区分\n",
    "    :type sol_region: int\n",
    "    :return: 期間平均太陽熱外気温度 (℃)\n",
    "    :rtype: ndarray\n",
    "    \"\"\"\n",
    "    # 日平均太陽熱外気温度\n",
    "    Theta_ex_s_Ave_d = calc_Theta_ex_s_Ave_d(region, sol_region)\n",
    "\n",
    "    # 31日平均なので、データを前後15日ずつ拡張する\n",
    "    tmp_ex = np.zeros(365 + 30)\n",
    "    tmp_ex[:15] = Theta_ex_s_Ave_d[-15:]\n",
    "    tmp_ex[15:15 + 365] = Theta_ex_s_Ave_d[:]\n",
    "    tmp_ex[-15:] = Theta_ex_s_Ave_d[:15]\n",
    "\n",
    "    # 31日平均\n",
    "    # 基準日と前後15日の31日に1/31を乗算して合算する。\n",
    "    tmp = np.convolve(tmp_ex, np.ones(31) / 31, mode='valid')\n",
    "\n",
    "    return tmp\n"
   ]
  },
  {
   "cell_type": "markdown",
   "metadata": {},
   "source": [
    "$$\\large\n",
    "\\theta_{ex,s,Ave,d} = \\sum_{t = 0}^{23} \\theta_{ex,s,d,t} \\big/ 24\n",
    "$$"
   ]
  },
  {
   "cell_type": "markdown",
   "metadata": {},
   "source": [
    "$\\theta_{ex,s,Ave,d}$：日付$d$における日平均太陽熱外気温度(℃) / Daily average solar outside temperature on date $ d $  \n",
    "$\\theta_{ex,s,d,t}$：日付$d$の時刻$t$における太陽熱外気温度(℃) / The solar open air temperature at time $ t $ of date $ d $  "
   ]
  },
  {
   "cell_type": "code",
   "execution_count": null,
   "metadata": {},
   "outputs": [],
   "source": [
    "def calc_Theta_ex_s_Ave_d(region, sol_region):\n",
    "    \"\"\"日平均太陽熱外気温度 (8)\n",
    "\n",
    "    :param region: 省エネルギー地域区分\n",
    "    :type region: int\n",
    "    :param sol_region: 年間日射地域区分\n",
    "    :type sol_region: int\n",
    "    :return: 日平均太陽熱外気温度 (℃)\n",
    "    :rtype: ndarray\n",
    "    \"\"\"\n",
    "\n",
    "    # 太陽熱外気温度\n",
    "    solrad = load_solrad(region, sol_region)\n",
    "    Theta_ex_s_d = get_Theta_ex(solrad)\n",
    "\n",
    "    tmp = Theta_ex_s_d.reshape(365, 24)\n",
    "    tmp = np.sum(tmp, axis=1)\n",
    "\n",
    "    Theta_ex_s_Ave_d = tmp / 24\n",
    "\n",
    "    return Theta_ex_s_Ave_d\n"
   ]
  },
  {
   "cell_type": "markdown",
   "metadata": {},
   "source": [
    "### 7．ソーラーシステム / Solar system"
   ]
  },
  {
   "cell_type": "markdown",
   "metadata": {},
   "source": [
    "#### 7.1 補正集熱量 / Corrected heat collection"
   ]
  },
  {
   "cell_type": "markdown",
   "metadata": {},
   "source": [
    "$L'_{k,d} + L'_{s,d} + L'_{w,d} + L'_{b1,d} + L'_{b2,d} + L'_{ba1,d} = 0$ の場合："
   ]
  },
  {
   "cell_type": "markdown",
   "metadata": {},
   "source": [
    "In the case of $L'_{k,d} + L'_{s,d} + L'_{w,d} + L'_{b1,d} + L'_{b2,d} + L'_{ba1,d} = 0$"
   ]
  },
  {
   "cell_type": "markdown",
   "metadata": {},
   "source": [
    "$$\\large\n",
    "L_{sun,lss,ss,d,t} = 0\n",
    "$$"
   ]
  },
  {
   "cell_type": "markdown",
   "metadata": {},
   "source": [
    "$L'_{k,d} + L'_{s,d} + L'_{w,d} + L'_{b1,d} + L'_{b2,d} + L'_{ba1,d} > 0$ の場合："
   ]
  },
  {
   "cell_type": "markdown",
   "metadata": {},
   "source": [
    "In the case of $L'_{k,d} + L'_{s,d} + L'_{w,d} + L'_{b1,d} + L'_{b2,d} + L'_{ba1,d} > 0$"
   ]
  },
  {
   "cell_type": "markdown",
   "metadata": {},
   "source": [
    "$$\\large\n",
    "L_{sun,lss,ss,d,t} = L_{sun,lss,ss,d} \\times \\frac{L'_{k,d,t} + L'_{s,d,t} + L'_{w,d,t} + L'_{b1,d,t} + L'_{b2,d,t} + L'_{ba1,d,t}}{L'_{k,d} + L'_{s,d} + L'_{w,d} + L'_{b1,d} + L'_{b2,d} + L'_{ba1,d}}\n",
    "$$"
   ]
  },
  {
   "cell_type": "markdown",
   "metadata": {},
   "source": [
    "$L_{sun,lss,ss,d}$ : 日付$d$における1日当たりの液体集熱式太陽熱利用設備による補正集熱量(MJ/d) / Corrected heat collection by liquid collection solar utilization equipment per day on date $ d $  \n",
    "$L_{sun,lss,ss,d,t}$ : 日付$d$の時刻$t$における1時間当たりの液体集熱式太陽熱利用設備による補正集熱量(MJ/h) / Corrected heat collection amount by liquid-collecting solar utilization equipment per hour at time $ t $ of date $ d $  \n",
    "$L'_{k,d}$ : 日付$d$における1日当たりの台所水栓における節湯補正給湯熱負荷(MJ/d) / Hot water correction hot water supply heat load on kitchen faucet per day on date $ d $  \n",
    "$L'_{s,d}$ : 日付$d$における1日当たりの浴室シャワー水栓における節湯補正給湯熱負荷(MJ/d) / Hot water correction hot water supply heat load in one day bathroom shower faucet on date $ d $  \n",
    "$L'_{w,d}$ : 日付$d$における1日当たりの洗面水栓における節湯補正給湯熱負荷(MJ/d) / Hot water correction hot water supply heat load in the daily wash water faucet at date $ d $  \n",
    "$L'_{b1,d}$ : 日付$d$における1日当たりの浴槽水栓湯はり時における節湯補正給湯熱負荷(MJ/d) / Hot water correction hot water supply heat load at one day bathtub faucet hot water at date $ d $  \n",
    "$L'_{b2,d}$ : 日付$d$における1日当たりの浴槽自動湯はり時における節湯補正給湯熱負荷(MJ/d) / Hot water correction hot water supply heat load at one day bathtub automatic hot water heating at date $ d $  \n",
    "$L'_{ba1,d}$ : 日付$d$における1日当たりの浴槽水栓さし湯時における節湯補正給湯熱負荷(MJ/d) / Hot water correction hot water supply heat load at the time of the day $ d $ in the bathtub faucet first time  \n",
    "$L'_{k,d,t}$ : 日付$d$の時刻$t$における1時間当たりの台所水栓における節湯補正給湯熱負荷(MJ/h) / Hot water correction hot water supply heat load at kitchen faucet per hour at time $ t $ on date $ d $  \n",
    "$L'_{s,d,t}$ : 日付$d$の時刻$t$における1時間当たりの浴室シャワー水栓における節湯補正給湯熱負荷(MJ/h) / Hot water correction hot water supply heat load in bathroom shower faucet per hour at time $ t $ of date $ d $  \n",
    "$L'_{w,d,t}$ : 日付$d$の時刻$t$における1時間当たりの洗面水栓における節湯補正給湯熱負荷(MJ/h) / Hot water correction hot water supply heat load in the faucet per hour at time $ t $ of date $ d $  \n",
    "$L'_{b1,d,t}$ : 日付$d$の時刻$t$における1時間当たりの浴槽水栓湯はり時における節湯補正給湯熱負荷(MJ/h) / Hot water correction hot water supply heat load at the time of bathtub per hour at time $ t $ of date $ d $  \n",
    "$L'_{b2,d,t}$ : 日付$d$の時刻$t$における1時間当たりの浴槽自動湯はり時における節湯補正給湯熱負荷(MJ/h) / Hot water correction hot water supply heat load at the time of bathtub automatic water heating per hour at time $ t $ of date $ d $  \n",
    "$L'_{ba1,d,t}$ : 日付$d$の時刻$t$における1時間当たりの浴槽水栓さし湯時における節湯補正給湯熱負荷(MJ/h) / Hot water correction hot water supply heat load at the time of bathtub faucet hot water per hour at time $ t $ of date $ d $  \n"
   ]
  },
  {
   "cell_type": "code",
   "execution_count": null,
   "metadata": {},
   "outputs": [],
   "source": [
    "def calc_L_sun_lss_ss_d_t(Q_ss_d, W_tnk_ss, Theta_wtr_d, L_dash_k_d_t, L_dash_s_d_t, L_dash_w_d_t, L_dash_b1_d_t,\n",
    "                          L_dash_b2_d_t,\n",
    "                          L_dash_ba1_d_t):\n",
    "    \"\"\"1時間当たりの液体集熱式太陽熱利用設備による補正集熱量 (9)\n",
    "\n",
    "    :param Q_ss_d: 1日当たりの基準集熱量 (MJ/d)\n",
    "    :type Q_ss_d: ndarray\n",
    "    :param W_tnk_ss: ソーラーシステムのタンク容量 (L)\n",
    "    :type W_tnk_ss: float\n",
    "    :param Theta_wtr_d: 日平均給水温度 (℃)\n",
    "    :type Theta_wtr_d: ndarray\n",
    "    :param L_dash_k_d_t: 1時間当たりの台所水栓における節湯補正給湯熱負荷 (MJ/h)\n",
    "    :type L_dash_k_d_t: ndarrayL\n",
    "    :param L_dash_s_d_t: 1時間当たりの浴室シャワー水栓における節湯補正給湯熱負荷 (MJ/h)\n",
    "    :type L_dash_s_d_t: ndarray\n",
    "    :param L_dash_w_d_t: 1時間当たりの洗面水栓における節湯補正給湯熱負荷 (MJ/h)\n",
    "    :type L_dash_w_d_t: ndarray\n",
    "    :param L_dash_b1_d_t: 1時間当たりの浴槽水栓湯はりにおける節湯補正給湯熱負荷 (MJ/h)\n",
    "    :type L_dash_b1_d_t: ndarray\n",
    "    :param L_dash_b2_d_t: 1時間当たりの浴槽自動湯はりにおける節湯補正給湯熱負荷 (MJ/h)\n",
    "    :type L_dash_b2_d_t: ndarray\n",
    "    :param L_dash_ba1_d_t: 1時間当たりの浴槽水栓さし湯における節湯補正給湯熱負荷 (MJ/h)\n",
    "    :type L_dash_ba1_d_t: ndarray\n",
    "    :return: 1時間当たりの液体集熱式太陽熱利用設備による補正集熱量\n",
    "    :rtype: ndarray\n",
    "    \"\"\"\n",
    "    # 24時間化\n",
    "    L_dash_k_d = np.sum(L_dash_k_d_t.reshape((365, 24)), axis=1)\n",
    "    L_dash_s_d = np.sum(L_dash_s_d_t.reshape((365, 24)), axis=1)\n",
    "    L_dash_w_d = np.sum(L_dash_w_d_t.reshape((365, 24)), axis=1)\n",
    "    L_dash_b1_d = np.sum(L_dash_b1_d_t.reshape((365, 24)), axis=1)\n",
    "    L_dash_b2_d = np.sum(L_dash_b2_d_t.reshape((365, 24)), axis=1)\n",
    "    L_dash_ba1_d = np.sum(L_dash_ba1_d_t.reshape((365, 24)), axis=1)\n",
    "\n",
    "    # 1日当たりの液体集熱式太陽熱利用設備による補正集熱量 (MJ/h) (10)\n",
    "    L_sun_lss_ss_d = calc_L_sun_lss_ss_d(Q_ss_d, W_tnk_ss, Theta_wtr_d, L_dash_k_d, L_dash_s_d, L_dash_w_d, L_dash_b1_d,\n",
    "                                         L_dash_b2_d, L_dash_ba1_d)\n",
    "    L_sun_lss_ss_d = np.repeat(L_sun_lss_ss_d, 24)\n",
    "\n",
    "    L_sun_lss_ss_d_t = np.zeros(24 * 365)\n",
    "\n",
    "    # 24時間化\n",
    "    L_dash_k_d = np.repeat(L_dash_k_d, 24)\n",
    "    L_dash_s_d = np.repeat(L_dash_s_d, 24)\n",
    "    L_dash_w_d = np.repeat(L_dash_w_d, 24)\n",
    "    L_dash_b1_d = np.repeat(L_dash_b1_d, 24)\n",
    "    L_dash_b2_d = np.repeat(L_dash_b2_d, 24)\n",
    "    L_dash_ba1_d = np.repeat(L_dash_ba1_d, 24)\n",
    "\n",
    "    # (9-1) 節湯補正給湯熱負荷が0の場合\n",
    "    f1 = (L_dash_k_d + L_dash_s_d + L_dash_w_d + L_dash_b1_d + L_dash_b2_d + L_dash_ba1_d) == 0\n",
    "    L_sun_lss_ss_d_t[f1] = 0\n",
    "\n",
    "    # (9-2) 節湯補正給湯熱負荷 > 0の場合\n",
    "    f2 = (L_dash_k_d + L_dash_s_d + L_dash_w_d + L_dash_b1_d + L_dash_b2_d + L_dash_ba1_d) > 0\n",
    "    L_sun_lss_ss_d_t[f2] = (L_sun_lss_ss_d[f2]\n",
    "                            * (L_dash_k_d_t[f2] + L_dash_s_d_t[f2] + L_dash_w_d_t[f2] + L_dash_b1_d_t[f2] +\n",
    "                               L_dash_b2_d_t[f2] + L_dash_ba1_d_t[f2])\n",
    "                            / (L_dash_k_d[f2] + L_dash_s_d[f2] + L_dash_w_d[f2] + L_dash_b1_d[f2] + L_dash_b2_d[f2] +\n",
    "                               L_dash_ba1_d[f2]))\n",
    "\n",
    "    return L_sun_lss_ss_d_t\n"
   ]
  },
  {
   "cell_type": "markdown",
   "metadata": {},
   "source": [
    "$$\\large\n",
    "L_{sun,lss,sh,d} = min(L_{tnk,ss,d} ,  (L'_{k,d} + L'_{s,d} + L'_{w,d} + L'_{b1,d} + L'_{b2,d} + L'_{ba1,d}) \\times f_{sr,uplim,ss})\n",
    "$$"
   ]
  },
  {
   "cell_type": "markdown",
   "metadata": {},
   "source": [
    "$f_{sr,uplim,ss}$：液体集熱式太陽熱利用設備の分担率上限値(-) / Upper limit value of share rate of liquid thermal collection type solar utilization equipment  \n",
    "$L_{sun,lss,ss,d}$：日付$d$における1日当たりの液体集熱式太陽熱利用設備による補正集熱量(MJ/d) / Corrected heat collection by liquid collection solar utilization equipment per day on date $ d $  \n",
    "$L_{tnk,ss,d}$：日付$d$における1日当たりのソーラーシステムのタンク蓄熱量の上限による補正集熱量(MJ/d) / Corrected heat collection by the upper limit of the tank thermal storage capacity of the solar system per day at date $ d $  \n",
    "$L'_{k,d}$：日付$d$における1日当たりの台所水栓における節湯補正給湯熱負荷(MJ/d) / Hot water correction hot water supply heat load on kitchen faucet per day on date $ d $  \n",
    "$L'_{s,d}$：日付$d$における1日当たりの浴室シャワー水栓における節湯補正給湯熱負荷(MJ/d) / Hot water correction hot water supply heat load in one day bathroom shower faucet on date $ d $  \n",
    "$L'_{w,d}$：日付$d$における1日当たりの洗面水栓における節湯補正給湯熱負荷(MJ/d) / Hot water correction hot water supply heat load in the daily wash water faucet at date $ d $  \n",
    "$L'_{b1,d}$：日付$d$における1日当たりの浴槽水栓湯はり時における節湯補正給湯熱負荷(MJ/d) / Hot water correction hot water supply heat load at one day bathtub faucet hot water at date $ d $  \n",
    "$L'_{b2,d}$：日付$d$における1日当たりの浴槽自動湯はり時における節湯補正給湯熱負荷(MJ/d) / Hot water correction hot water supply heat load at one day bathtub automatic hot water heating at date $ d $  \n",
    "$L'_{ba1,d}$：日付$d$における1日当たりの浴槽水栓さし湯時における節湯補正給湯熱負荷(MJ/d) / Hot water correction hot water supply heat load at the time of the day $ d $ in the bathtub faucet first time  \n"
   ]
  },
  {
   "cell_type": "code",
   "execution_count": null,
   "metadata": {},
   "outputs": [],
   "source": [
    "def calc_L_sun_lss_ss_d(Q_ss_d, W_tnk_ss, Theta_wtr_d, L_dash_k_d, L_dash_s_d, L_dash_w_d, L_dash_b1_d, L_dash_b2_d,\n",
    "                        L_dash_ba1_d):\n",
    "    \"\"\"1日当たりの液体集熱式太陽熱利用設備による補正集熱量 (MJ/h) (10)\n",
    "\n",
    "    :param Q_ss_d: 1日当たりの基準集熱量 (MJ/d)\n",
    "    :type Q_ss_d: ndarray\n",
    "    :param W_tnk_ss: ソーラーシステムのタンク容量 (L)\n",
    "    :type W_tnk_ss: ndarray\n",
    "    :param Theta_wtr_d: 日平均給水温度 (℃)\n",
    "    :type Theta_wtr_d: ndarray\n",
    "    :param L_dash_k_d: 1日当たりの台所水栓における節湯補正給湯熱負荷 (MJ/d)\n",
    "    :type L_dash_k_d: ndarray\n",
    "    :param L_dash_s_d: 1日当たりの浴室シャワー水栓における節湯補正給湯熱負荷 (MJ/d)\n",
    "    :type L_dash_s_d: ndarray\n",
    "    :param L_dash_w_d: 1日当たりの洗面水栓における節湯補正給湯熱負荷 (MJ/d)\n",
    "    :type L_dash_w_d: ndarray\n",
    "    :param L_dash_b1_d: 1日当たりの浴槽水栓湯はりにおける節湯補正給湯熱負荷 (MJ/d)\n",
    "    :type L_dash_b1_d: ndarray\n",
    "    :param L_dash_b2_d: 1日当たりの浴槽自動湯はりにおける節湯補正給湯熱負荷 (MJ/d)\n",
    "    :type L_dash_b2_d: ndarray\n",
    "    :param L_dash_ba1_d: 1日当たりの浴槽水栓さし湯における節湯補正給湯熱負荷 (MJ/d)\n",
    "    :type L_dash_ba1_d: ndarray\n",
    "    :return: 1日当たりの液体集熱式太陽熱利用設備による補正集熱量 (MJ/d)\n",
    "    :rtype: ndarray\n",
    "    \"\"\"\n",
    "    # 1日当たりのソーラーシステムのタンク蓄熱量の上限による補正集熱量\n",
    "    L_tnk_ss_d = calc_L_tnk_ss_d(Q_ss_d, W_tnk_ss, Theta_wtr_d)\n",
    "\n",
    "    # 液体集熱式太陽熱利用設備の分担率上限値\n",
    "    f_sr_uplim_ss = get_f_sr_uplim_ss()\n",
    "\n",
    "    # 1日当たりの液体集熱式太陽熱利用設備による補正集熱量 (8)\n",
    "    L_sun_lss_ss_d = np.min(\n",
    "        [L_tnk_ss_d, (L_dash_k_d + L_dash_s_d + L_dash_w_d + L_dash_b1_d + L_dash_b2_d + L_dash_ba1_d) * f_sr_uplim_ss],\n",
    "        axis=0)\n",
    "\n",
    "    return L_sun_lss_ss_d\n"
   ]
  },
  {
   "cell_type": "markdown",
   "metadata": {},
   "source": [
    "液体集熱式太陽熱利用設備の分担率上限値$f_{sr,uplim,ss}$は、0.9とする。 "
   ]
  },
  {
   "cell_type": "markdown",
   "metadata": {},
   "source": [
    "The upper limit value $ f_ {sr, uplim, ss} $ of the liquid collection solar energy sharing system is 0.9."
   ]
  },
  {
   "cell_type": "code",
   "execution_count": null,
   "metadata": {},
   "outputs": [],
   "source": [
    "def get_f_sr_uplim_ss():\n",
    "    \"\"\"液体集熱式太陽熱利用設備の分担率上限値\n",
    "\n",
    "    :return: 液体集熱式太陽熱利用設備の分担率上限値\n",
    "    :rtype: float\n",
    "    \"\"\"\n",
    "    return 0.9\n"
   ]
  },
  {
   "cell_type": "markdown",
   "metadata": {},
   "source": [
    "$$\\large\n",
    "L_{tnk,ss,d} = min(Q_{ss,d} ,  HC_{tnk,ss,d} \\times \\alpha_{tnk,ss,d})\n",
    "$$"
   ]
  },
  {
   "cell_type": "markdown",
   "metadata": {},
   "source": [
    "$L_{tnk,ss,d}$：日付$d$における1日当たりのソーラーシステムのタンク蓄熱量の上限による補正集熱量(MJ/d) / Corrected heat collection by the upper limit of the tank thermal storage capacity of the solar system per day at date $ d $  \n",
    "$HC_{tnk,ss,d}$：日付$d$におけるソーラーシステムのタンク蓄熱量の上限(MJ) / The upper limit of the tank heat storage capacity of the solar system on the date $ d $  \n",
    "$Q_{ss,d}$：日付$d$における1日当たりの基準集熱量(MJ/d) / Standard heat collection per day for date $ d $  \n",
    "$\\alpha_{tnk,ss,d}$：日付$d$におけるソーラーシステムのタンク有効利用率(1/d) / Tank utilization rate of solar system at date $ d $  \n"
   ]
  },
  {
   "cell_type": "code",
   "execution_count": null,
   "metadata": {},
   "outputs": [],
   "source": [
    "def calc_L_tnk_ss_d(Q_ss_d, W_tnk_ss, Theta_wtr_d):\n",
    "    \"\"\"1日当たりのソーラーシステムのタンク蓄熱量の上限による補正集熱量 (11)\n",
    "\n",
    "    :param Q_ss_d: 1日当たりの基準集熱量 (MJ/d)\n",
    "    :type Q_ss_d: ndarray\n",
    "    :param W_tnk_ss: ソーラーシステムのタンク容量 (L)\n",
    "    :type W_tnk_ss: float\n",
    "    :param Theta_wtr_d: 日平均給水温度 (℃)\n",
    "    :type Theta_wtr_d: ndarray\n",
    "    :return: 1日当たりのソーラーシステムのタンク蓄熱量の上限による補正集熱量 (MJ/d)\n",
    "    :rtype: ndarray\n",
    "    \"\"\"\n",
    "    # ソーラーシステムのタンク蓄熱量 (MJ)\n",
    "    HC_tnk_ss_d = get_HC_tnk_ss_d(W_tnk_ss, Theta_wtr_d)\n",
    "\n",
    "    # ソーラーシステムのタンク有効利用率 (-)\n",
    "    alpha_tnk_ss_d = get_alpha_tnk_ss_d()\n",
    "\n",
    "    # 1日当たりのソーラーシステムのタンク蓄熱量の上限による補正集熱量 (9)\n",
    "    # Q_ss_d および HC_tnk_ss_d * alpha_tnk_ss_d の1日ごとの最小をとるために、axis=0を指定\n",
    "    L_tnk_ss_d = np.min([Q_ss_d, HC_tnk_ss_d * alpha_tnk_ss_d], axis=0)\n",
    "\n",
    "    return L_tnk_ss_d\n"
   ]
  },
  {
   "cell_type": "markdown",
   "metadata": {},
   "source": [
    "日付$d$におけるソーラーシステムのタンク有効利用率$\\alpha_{tnk,ss,d}$は、日付$d$によらず1.0に等しい。"
   ]
  },
  {
   "cell_type": "markdown",
   "metadata": {},
   "source": [
    "The tank effective utilization rate $\\alpha_{tnk, ss, d} $ of the solar system at the date $ d $ is equal to 1.0 regardless of the date $ d $."
   ]
  },
  {
   "cell_type": "code",
   "execution_count": null,
   "metadata": {},
   "outputs": [],
   "source": [
    "def get_alpha_tnk_ss_d():\n",
    "    \"\"\"ソーラーシステムのタンク有効利用率 (-)\n",
    "\n",
    "    :return: ソーラーシステムのタンク有効利用率 (-)\n",
    "    :rtype: float\n",
    "    \"\"\"\n",
    "    return 1.0\n"
   ]
  },
  {
   "cell_type": "markdown",
   "metadata": {},
   "source": [
    "$$\\large\n",
    "HC_{tnk,ss,d} = (\\theta_{tnk,ss} - \\theta_{wtr,d}) \\times W_{tnk,ss} \\times 4.186 \\times 10^{-3}\n",
    "$$"
   ]
  },
  {
   "cell_type": "markdown",
   "metadata": {},
   "source": [
    "$HC_{tnk,ss,d}$：日付$d$におけるソーラーシステムのタンク蓄熱量の上限(MJ) / The upper limit of the tank heat storage capacity of the solar system on the date $ d $  \n",
    "$W_{tnk,ss}$：ソーラーシステムのタンク容量(L) / Solar system tank capacity  \n",
    "$\\theta_{tnk,ss}$：ソーラーシステムのタンク内温度(℃) / Tank temperature in the solar system  \n",
    "$\\theta_{wtr,d}$：日付$d$における日平均給水温度(℃) / Average daily water supply temperature on date $ d $  "
   ]
  },
  {
   "cell_type": "code",
   "execution_count": null,
   "metadata": {},
   "outputs": [],
   "source": [
    "def get_HC_tnk_ss_d(W_tnk_ss, Theta_wtr_d):\n",
    "    \"\"\"ソーラーシステムのタンク蓄熱量 (12)\n",
    "\n",
    "    :param W_tnk_ss: ソーラーシステムのタンク容量 (L)\n",
    "    :type W_tnk_ss: float\n",
    "    :param Theta_wtr_d: 日平均給水温度 (℃)\n",
    "    :type Theta_wtr_d: ndarray\n",
    "    :return: ソーラーシステムのタンク蓄熱量 (MJ)\n",
    "    :rtype: ndarray\n",
    "    \"\"\"\n",
    "    # ソーラーシステムのタンク内温度 (℃)\n",
    "    Theta_tnk_ss = get_Theta_tnk_ss()\n",
    "\n",
    "    # ソーラーシステムのタンク蓄熱量 (10)\n",
    "    HC_tnk_ss_d = (Theta_tnk_ss - Theta_wtr_d) * W_tnk_ss * 4.186 * 10 ** (-3)\n",
    "\n",
    "    return HC_tnk_ss_d\n"
   ]
  },
  {
   "cell_type": "markdown",
   "metadata": {},
   "source": [
    "ソーラーシステムのタンク内温度$\\theta_{tnk,ss}$は65℃とする。 "
   ]
  },
  {
   "cell_type": "markdown",
   "metadata": {},
   "source": [
    "The in-tank temperature $ \\theta_{tnk, ss} $ of the solar system is 65 °C."
   ]
  },
  {
   "cell_type": "code",
   "execution_count": null,
   "metadata": {},
   "outputs": [],
   "source": [
    "def get_Theta_tnk_ss():\n",
    "    \"\"\"ソーラーシステムのタンク内温度 (℃)\n",
    "\n",
    "    :return: ソーラーシステムのタンク内温度 (℃)\n",
    "    :rtype: float\n",
    "    \"\"\"\n",
    "    return 65.0\n"
   ]
  },
  {
   "cell_type": "markdown",
   "metadata": {},
   "source": [
    "#### 7.2 基準集熱量 / Reference heat collection"
   ]
  },
  {
   "cell_type": "markdown",
   "metadata": {},
   "source": [
    "$$\\large\n",
    "Q_{ss,d} = Q_{sp,ss,d} \\times A_{sp,ss} \\times f_{sp,ss} \\times f_{s,ss}\n",
    "$$"
   ]
  },
  {
   "cell_type": "markdown",
   "metadata": {},
   "source": [
    "$A_{sp,ss}$：太陽熱集熱部の有効集熱面積(m<sup>2</sup>) / Effective heat collection surface of solar heat collector  \n",
    "$Q_{ss,d}$：日付$d$における1日当たりの基準集熱量(MJ/d) / Standard heat collection per day for date $ d $  \n",
    "$Q_{sp,ss,d}$：日付$d$における1日当たりの太陽熱集熱部設置面の単位面積当たりの日射量(MJ/(m<sup>2</sup>・d)) / The amount of solar radiation per unit area of the solar thermal collector installation surface per day for the date $ d $  \n",
    "$f_{s,ss}$：液体集熱式太陽熱利用設備のシステム効率(-) / System efficiency of liquid collection solar system  \n",
    "$f_{sp,ss}$：太陽熱集熱部の集熱効率(-) / Heat collection efficiency of solar heat collector  "
   ]
  },
  {
   "cell_type": "code",
   "execution_count": null,
   "metadata": {},
   "outputs": [],
   "source": [
    "def calc_Q_ss_d(A_sp_ss, P_alpha_sp_ss, P_beta_sp_ss, region, sol_region):\n",
    "    \"\"\"1日当たりの基準集熱量 (13)\n",
    "\n",
    "    :param A_sp_ss: ソーラーシステムの太陽熱集熱部の有効集熱面積 (m2)\n",
    "    :type A_sp_ss: float\n",
    "    :param P_alpha_sp_ss: ソーラーシステムの太陽熱集熱部の方位角 (°)\n",
    "    :type P_alpha_sp_ss: float\n",
    "    :param P_beta_sp_ss: ソーラーシステムの太陽熱集熱部の傾斜角 (°)\n",
    "    :type P_beta_sp_ss: float\n",
    "    :param region:　省エネルギー地域区分\n",
    "    :type region: int\n",
    "    :param sol_region: 年間日射地域区分\n",
    "    :type sol_region: int\n",
    "    :return: 1日当たりの基準集熱量 (MJ/d))\n",
    "    :rtype: ndarray\n",
    "    \"\"\"\n",
    "    # 1日当たりの太陽熱集熱部設置面の単位面積当たりの日射量\n",
    "    Q_sp_ss_d = calc_Q_sp_ss_d(P_alpha_sp_ss, P_beta_sp_ss, region, sol_region)\n",
    "\n",
    "    # 太陽熱集熱部の集熱効率\n",
    "    f_sp_ss = get_f_sp_ss()\n",
    "\n",
    "    # 液体集熱式太陽熱利用設備のシステム効率\n",
    "    f_s_ss = get_f_s_ss()\n",
    "\n",
    "    # 1日当たりの基準集熱量 (11)\n",
    "    Q_ss_d = Q_sp_ss_d * A_sp_ss * f_sp_ss * f_s_ss\n",
    "\n",
    "    return Q_ss_d\n"
   ]
  },
  {
   "cell_type": "markdown",
   "metadata": {},
   "source": [
    "太陽熱集熱部の集熱効率$f_{sp,ss}$は、0.4とする。液体集熱式太陽熱利用設備のシステム効率$f_{s,ss}$は、0.85とする。 "
   ]
  },
  {
   "cell_type": "markdown",
   "metadata": {},
   "source": [
    "The heat collection efficiency $ f_ {sp, ss} $ of the solar heat collector is 0.4. The system efficiency $ f_ {s, ss} $ of the liquid collection solar system is 0.85."
   ]
  },
  {
   "cell_type": "code",
   "execution_count": null,
   "metadata": {},
   "outputs": [],
   "source": [
    "def get_f_sp_ss():\n",
    "    \"\"\"太陽熱集熱部の集熱効率 (-)\n",
    "\n",
    "    :return: 太陽熱集熱部の集熱効率 (-)\n",
    "    :rtype: float\n",
    "    \"\"\"\n",
    "    return 0.4\n",
    "\n",
    "\n",
    "def get_f_s_ss():\n",
    "    \"\"\"液体集熱式太陽熱利用設備のシステム効率 (-)\n",
    "\n",
    "    :return: 液体集熱式太陽熱利用設備のシステム効率 (-)\n",
    "    :rtype: float\n",
    "    \"\"\"\n",
    "    return 0.85\n"
   ]
  },
  {
   "cell_type": "markdown",
   "metadata": {},
   "source": [
    "太陽熱集熱部の有効集熱面積$A_{sp,ss}$は、ISO 9488 の 8.6 節「aperture area」に規定される方法により算出した値とするか、JIS A 4112 に規定される集熱器総面積に 0.85 を乗じた値とする。 "
   ]
  },
  {
   "cell_type": "markdown",
   "metadata": {},
   "source": [
    "The effective heat collecting area $ A_ {sp, ss} $ of the solar heat collecting part is a value calculated by the method defined in Section 8.6 “aperture area” of ISO 9488, or the heat collector specified in JIS A 4112. The total area of the equipment is multiplied by 0.85."
   ]
  },
  {
   "cell_type": "code",
   "execution_count": null,
   "metadata": {},
   "outputs": [],
   "source": [
    "def get_A_sp_ss_JIS_A_4112(A):\n",
    "    \"\"\"太陽熱集熱部の有効集熱面積 (m2)\n",
    "\n",
    "    :param A: 太陽熱集熱部総面積 (m2)\n",
    "    :type A: float\n",
    "    :return: 太陽熱集熱部の有効集熱面積 (m2)\n",
    "    :rtype: float\n",
    "    \"\"\"\n",
    "    return A * 0.85\n"
   ]
  },
  {
   "cell_type": "markdown",
   "metadata": {},
   "source": [
    "$$\\large\n",
    "Q_{sp,ss,d} = \\sum_{t = 0}^{23} ( I_{s,sp,ss,d,t} \\times 3600 \\times 10^{-6} )\n",
    "$$"
   ]
  },
  {
   "cell_type": "markdown",
   "metadata": {},
   "source": [
    "$I_{s,sp,ss,d,t}$：日付$d$の時刻$t$における太陽熱集熱部設置面の単位面積当たりの平均日射量(W/m<sup>2</sup>) / Average solar radiation amount per unit area of solar heat collector installation surface at time $ t $ of date $ d $  \n",
    "$Q_{sp,ss,d}$：日付$d$における1日当たりの太陽熱集熱部設置面の単位面積当たりの日射量(MJ/m<sup>2</sup>・d) / Average solar radiation amount per unit area of solar heat collector installation surface at time $ t $ of date $ d $  "
   ]
  },
  {
   "cell_type": "code",
   "execution_count": null,
   "metadata": {},
   "outputs": [],
   "source": [
    "def calc_Q_sp_ss_d(P_alpha_sp_ss, P_beta_sp_ss, region, sol_region):\n",
    "    \"\"\"1日当たりの太陽熱集熱部設置面の単位面積当たりの日射量 (MJ/(m2・d)) (14)\n",
    "\n",
    "    :param P_alpha_sp_ss: ソーラーシステムの太陽熱集熱部の方位角 (°)\n",
    "    :type P_alpha_sp_ss: float\n",
    "    :param P_beta_sp_ss: ソーラーシステムの太陽熱集熱部の傾斜角 (°)\n",
    "    :type P_beta_sp_ss: float\n",
    "    :param region:　省エネルギー地域区分\n",
    "    :type region: int\n",
    "    :param sol_region: 年間日射地域区分\n",
    "    :type sol_region: int\n",
    "    :return: 1日当たりの太陽熱集熱部設置面の単位面積当たりの日射量 (MJ/(m2・d))\n",
    "    :rtype: ndarray\n",
    "    \"\"\"\n",
    "    # 太陽熱集熱部設置面の単位面積当たりの平均日射量\n",
    "    solrad = load_solrad(region, sol_region)\n",
    "    I_s_sp_ss_d_t = calc_I_s_d_t(P_alpha_sp_ss, P_beta_sp_ss, solrad)\n",
    "\n",
    "    # 1日当たりの太陽熱集熱部設置面の単位面積当たりの日射量を求める\n",
    "    # 8760時間が一次配列で与えられるので、365*24の2次配列へ並べ替える\n",
    "    tmp = I_s_sp_ss_d_t.reshape(365, 24)\n",
    "\n",
    "    # 配列の2次の軸(=各日24時間分)を加算する\n",
    "    tmp = np.sum(tmp, axis=1)\n",
    "\n",
    "    # 単位をWからMJへ換算する\n",
    "    Q_sp_ss_d = tmp * 3600 * 10 ** (-6)\n",
    "\n",
    "    return Q_sp_ss_d\n"
   ]
  },
  {
   "cell_type": "markdown",
   "metadata": {},
   "source": [
    "#### 7.3 循環ポンプの消費電力量 / Power consumption of circulation pump"
   ]
  },
  {
   "cell_type": "markdown",
   "metadata": {},
   "source": [
    "$$\\large\n",
    "E_{E,ss,cp,d,t} = P_{cp,ss} \\times t_{cp,ss,d,t} \\times 10^{-3}\n",
    "$$"
   ]
  },
  {
   "cell_type": "markdown",
   "metadata": {},
   "source": [
    "$E_{E,ss,cp,d,t}$：日付$d$の時刻$t$における1時間当たりのソーラーシステムの循環ポンプの消費電力量(kWh/h) / Solar system circulation pump power consumption per hour at time $ t $ on date $ d $  \n",
    "$P_{cp,ss}$：ソーラーシステムの循環ポンプの消費電力(W) / Solar system circulation pump power consumption  \n",
    "$t_{cp,ss,d,t}$：日付$d$の時刻$t$における1時間当たりのソーラーシステムの循環ポンプの稼働時間(h/h) / Solar system circulation pump uptime per hour at time $ t $ on date $ d $  "
   ]
  },
  {
   "cell_type": "code",
   "execution_count": null,
   "metadata": {},
   "outputs": [],
   "source": [
    "def calc_E_E_ss_cp_d_t(pmp_type, P_alpha_sp_ss, P_beta_sp_ss, region, sol_region):\n",
    "    \"\"\"1時間当たりのソーラーシステムの循環ポンプの消費電力量 (15)\n",
    "\n",
    "    :param pmp_type: ソーラーシステムの循環ポンプの種類 (省消費電力型,上記以外の機種)\n",
    "    :type pmp_type: str\n",
    "    :param P_alpha_sp_ss: ソーラーシステムの太陽熱集熱部の方位角 (°)\n",
    "    :type P_alpha_sp_ss: float\n",
    "    :param P_beta_sp_ss: ソーラーシステムの太陽熱集熱部の傾斜角 (°)\n",
    "    :type P_beta_sp_ss: float\n",
    "    :param region:　省エネルギー地域区分\n",
    "    :type region: int\n",
    "    :param sol_region: 年間日射地域区分\n",
    "    :type sol_region: int\n",
    "    :return: 1時間当たりのソーラーシステムの循環ポンプの消費電力量 (kWh/h)\n",
    "    :rtype: ndarray\n",
    "    \"\"\"\n",
    "    # ソーラーシステムの循環ポンプの消費電力 (W)\n",
    "    P_cp_ss = get_P_cp_ss(pmp_type)\n",
    "\n",
    "    # 太陽熱集熱部設置面の単位面積当たりの平均日射量 (W/m2)\n",
    "    solrad = load_solrad(region, sol_region)\n",
    "    I_s_sp_ss_d_t = calc_I_s_d_t(P_alpha_sp_ss, P_beta_sp_ss, solrad)\n",
    "\n",
    "    # 1時間当たりのソーラーシステムの循環ポンプの稼働時間\n",
    "    t_cp_ss_d = get_t_cp_ss_d_t(I_s_sp_ss_d_t)\n",
    "\n",
    "    return P_cp_ss * t_cp_ss_d * 10 ** (-3)\n"
   ]
  },
  {
   "cell_type": "markdown",
   "metadata": {},
   "source": [
    "<div style=\"text-align: center;font-weight: bold;\">表　ソーラーシステムの循環ポンプの消費電力$P_{cp,ss}$の値と適用条件<br>Table: Solar system circulation pump power consumption $ P_ {cp, ss} $ values and application conditions</div>\n",
    "\n",
    "|項目<br>item|適用条件<br>Applicable condition|循環ポンプの消費電力$P_{cp,ss}$<br>Power consumption of circulation pump|\n",
    "|-|-|-|\n",
    "|省消費電力型<br>Power saving type|現時点では該当するポンプがない<br>There is no corresponding pump at present|40|\n",
    "|上記以外の機種<br>Other models than above|すべてのポンプ<br>All pumps|80|"
   ]
  },
  {
   "cell_type": "code",
   "execution_count": null,
   "metadata": {},
   "outputs": [],
   "source": [
    "def get_P_cp_ss(pmp_type):\n",
    "    \"\"\"ソーラーシステムの循環ポンプの消費電力\n",
    "\n",
    "    :param pmp_type: ソーラーシステムの循環ポンプの種類 (省消費電力型,上記以外の機種)\n",
    "    :type pmp_type: str\n",
    "    :return: ソーラーシステムの循環ポンプの消費電力 (W)\n",
    "    :rtype: float\n",
    "    \"\"\"\n",
    "    # 表3 ソーラーシステムの循環ポンプの消費電力の値と適用条件\n",
    "    table_3 = (40.0, 80.0)\n",
    "\n",
    "    if pmp_type == '省消費電力型':\n",
    "        return table_3[0]\n",
    "    elif pmp_type == '上記以外の機種':\n",
    "        return table_3[1]\n",
    "    else:\n",
    "        raise ValueError(pmp_type)\n"
   ]
  },
  {
   "cell_type": "markdown",
   "metadata": {},
   "source": [
    "#### 7.4 循環ポンプの稼働時間 / Circulating pump operating time"
   ]
  },
  {
   "cell_type": "markdown",
   "metadata": {},
   "source": [
    "$I_{s,lwlim,cp,ss} \\leq I_{s,sp,ss,d,t}$の場合： "
   ]
  },
  {
   "cell_type": "markdown",
   "metadata": {},
   "source": [
    "In the case of $I_{s,lwlim,cp,ss} \\leq I_{s,sp,ss,d,t}$"
   ]
  },
  {
   "cell_type": "markdown",
   "metadata": {},
   "source": [
    "$$\\large\n",
    "t_{cp,ss,d,t} = 1\n",
    "$$"
   ]
  },
  {
   "cell_type": "markdown",
   "metadata": {},
   "source": [
    "$I_{s,sp,ss,d,t} < I_{s,lwlim,cp,ss}$の場合： "
   ]
  },
  {
   "cell_type": "markdown",
   "metadata": {},
   "source": [
    "In the case of $I_{s,sp,ss,d,t} < I_{s,lwlim,cp,ss}$"
   ]
  },
  {
   "cell_type": "markdown",
   "metadata": {},
   "source": [
    "$$\\large\n",
    "t_{cp,ss,d,t} = 0\n",
    "$$"
   ]
  },
  {
   "cell_type": "markdown",
   "metadata": {},
   "source": [
    "$I_{s,lwlim,cp,ss}$：循環ポンプが稼働する太陽熱集熱部設置面の単位面積当たりの日射量の下限(W/m<sup>2</sup>) / Lower limit of the amount of solar radiation per unit area of the solar heat collector installation surface where the circulation pump operates  \n",
    "$I_{s,sp,ss,d,t}$：日付$d$の時刻$t$における太陽熱集熱部設置面の単位面積当たりの平均日射量(W/m<sup>2</sup>) / Average solar radiation amount per unit area of solar heat collector installation surface at time $ t $ of date $ d $  \n",
    "$t_{cp,ss,d,t}$：日付$d$の時刻$t$における1時間当たりのソーラーシステムの循環ポンプの稼働時間(h/h) / Solar system circulation pump uptime per hour at time $ t $ on date $ d $  "
   ]
  },
  {
   "cell_type": "code",
   "execution_count": null,
   "metadata": {},
   "outputs": [],
   "source": [
    "def get_t_cp_ss_d_t(I_s_sp_ss_d_t):\n",
    "    \"\"\"1時間当たりのソーラーシステムの循環ポンプの稼働時間 (h/h) (16)\n",
    "\n",
    "    :param I_s_sp_ss_d_t: 傾斜面の単位面積当たりの平均日射量 (W/m2)\n",
    "    :type I_s_sp_ss_d_t: ndarray\n",
    "    :return: 1時間当たりのソーラーシステムの循環ポンプの稼働時間 (h/h)\n",
    "    :rtype: ndarray\n",
    "    \"\"\"\n",
    "    # ソーラーシステムの循環ポンプが稼働する太陽熱集熱部設置面の単位面積当たりの日射量の下限\n",
    "    I_s_lwlim_cp_ss = get_I_s_lwlim_cp_ss()\n",
    "\n",
    "    # 1時間当たりのソーラーシステムの循環ポンプの稼働時間の計算領域を確保\n",
    "    t_cp_ss_d_t = np.zeros(24 * 365, dtype=np.int32)\n",
    "\n",
    "    # I_s_lwlim_cp_ss <= I_s_sp_ss_d_t の場合\n",
    "    f1 = I_s_lwlim_cp_ss <= I_s_sp_ss_d_t\n",
    "    t_cp_ss_d_t[f1] = 1  # (15-1)\n",
    "\n",
    "    # I_s_sp_ss_d_t < I_s_lwlim_cp_ss  の場合\n",
    "    f2 = I_s_sp_ss_d_t < I_s_lwlim_cp_ss\n",
    "    t_cp_ss_d_t[f2] = 0  # (15-2)\n",
    "\n",
    "    return t_cp_ss_d_t\n"
   ]
  },
  {
   "cell_type": "markdown",
   "metadata": {},
   "source": [
    "ソーラーシステムの循環ポンプが稼働する太陽熱集熱部設置面の単位面積当たりの日射量の下限$I_{s,lwlim,cp,ss}$は、150 W/m<sup>2</sup> とする。 "
   ]
  },
  {
   "cell_type": "markdown",
   "metadata": {},
   "source": [
    "The lower limit $ 1_ {s, lwlim, cp, ss} $ of the amount of solar radiation per unit area of the solar heat collecting part installation surface on which the circulation pump of the solar system operates is 150 W/m<sup>2</sup>."
   ]
  },
  {
   "cell_type": "code",
   "execution_count": null,
   "metadata": {},
   "outputs": [],
   "source": [
    "def get_I_s_lwlim_cp_ss():\n",
    "    \"\"\"ソーラーシステムの循環ポンプが稼働する太陽熱集熱部設置面の単位面積当たりの日射量の下限 (W/2m)\n",
    "\n",
    "    :return: ソーラーシステムの循環ポンプが稼働する太陽熱集熱部設置面の単位面積当たりの日射量の下限 (W/2m)\n",
    "    :rtype: float\n",
    "    \"\"\"\n",
    "    return 150.0\n"
   ]
  },
  {
   "cell_type": "markdown",
   "metadata": {},
   "source": [
    "## 付録A / Appendix A "
   ]
  },
  {
   "cell_type": "markdown",
   "metadata": {},
   "source": [
    "省略"
   ]
  },
  {
   "cell_type": "markdown",
   "metadata": {},
   "source": [
    "Omission"
   ]
  }
 ],
 "metadata": {
  "kernelspec": {
   "display_name": "Python 3",
   "language": "python",
   "name": "python3"
  },
  "language_info": {
   "codemirror_mode": {
    "name": "ipython",
    "version": 3
   },
   "file_extension": ".py",
   "mimetype": "text/x-python",
   "name": "python",
   "nbconvert_exporter": "python",
   "pygments_lexer": "ipython3",
   "version": "3.6.6"
  }
 },
 "nbformat": 4,
 "nbformat_minor": 2
}
