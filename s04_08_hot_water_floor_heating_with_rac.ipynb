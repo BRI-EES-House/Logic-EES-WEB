{
 "cells": [
  {
   "cell_type": "markdown",
   "metadata": {},
   "source": [
    "# Chapter IV-VIII Heating and Cooling System - Hot Water Floor Heating with RAC / 暖冷房設備 - ルームエアコンディショナー付温水床暖房"
   ]
  },
  {
   "cell_type": "markdown",
   "metadata": {},
   "source": [
    "## Maximum Heating Power / 最大暖房出力"
   ]
  },
  {
   "cell_type": "markdown",
   "metadata": {},
   "source": [
    "The hourly maximum heating power $Q_{max,H}$ is calculated by the equation below."
   ]
  },
  {
   "cell_type": "markdown",
   "metadata": {},
   "source": [
    "$$\\large\n",
    "Q_{max,H} = Q_{max,H,floor} + Q_{max,H,RAC}\n",
    "$$"
   ]
  },
  {
   "cell_type": "markdown",
   "metadata": {},
   "source": [
    "Where  \n",
    "$Q_{max,H}$ is the hourly maximum heating power. / 1時間当たりの最大暖房出力(MJ/h)  \n",
    "$Q_{max,H,floor}$ is the hourly maximum heating power of hot water floor heating. / 1時間当たりの温水床暖房の最大暖房出力(MJ/h)   \n",
    "$Q_{max,H,RAC}$ is the hourly maximum heating power of room air conditioner. / 1時間当たりのルームエアコンディショナーの最大暖房出力(MJ/h)  "
   ]
  },
  {
   "cell_type": "markdown",
   "metadata": {},
   "source": [
    "The hourly maximum heating power $Q_{max,H,floor}$ of hot water floor heating shall be the hourly maximum heating power $Q_{max,H,rad,i}$ of the radiator installed in the heating and cooling compartment $i$ calculated by Chapter 4 Section 7, Appendix L.3 \"Maximum Heating Power\", depending on the forward hot water temperature $\\theta_{SW}$, the area $A_{HCZ}$ of heating / cooling compartment installed hot water floor heating with RAC and the installation rate $r_{Af}$ of hot water floor heating in the dwelling unit.  \n",
    "The hourly maximum heating power $Q_{max,H,RAC}$ of RAC shall be the hourly maximum heating power $Q_{max,H}$ calculated by Chapter 4 Section 3, 5 \"Maximum Heating Power\", depending on the outside air temperature $\\theta_{ex}$, the outside air relative humidity $h_{ex}$ and the area $A_{HCZ}$ of heating / cooling compartment installed hot water floor heating with RAC."
   ]
  },
  {
   "cell_type": "markdown",
   "metadata": {},
   "source": [
    "## Heating Energy Consumption / 暖房エネルギー消費量"
   ]
  },
  {
   "cell_type": "markdown",
   "metadata": {},
   "source": [
    "### 1. Power / 消費電力量"
   ]
  },
  {
   "cell_type": "markdown",
   "metadata": {},
   "source": [
    "The hourly electric power $E_{E}$ is calculated by the equation below.  "
   ]
  },
  {
   "cell_type": "markdown",
   "metadata": {},
   "source": [
    "$$\\large\n",
    "E_{E} = E_{E,hs}\n",
    "$$"
   ]
  },
  {
   "cell_type": "markdown",
   "metadata": {},
   "source": [
    "Where  \n",
    "$E_{E}$ is the hourly electric power. / 1時間当たりの消費電力量(kWh/h)  \n",
    "$E_{E,hs}$ is the hourly electric power of heat source machine. / 1時間当たりの熱源機の消費電力量(kWh/h)   "
   ]
  },
  {
   "cell_type": "markdown",
   "metadata": {},
   "source": [
    "### 2. Gas Consumption / ガス消費量"
   ]
  },
  {
   "cell_type": "markdown",
   "metadata": {},
   "source": [
    "The hourly gas consumption $E_{G}$ is set to 0. "
   ]
  },
  {
   "cell_type": "markdown",
   "metadata": {},
   "source": [
    "### 3. Kerosene Consumption / 灯油消費量"
   ]
  },
  {
   "cell_type": "markdown",
   "metadata": {},
   "source": [
    "The hourly kerosene consumption $E_{K}$ is set to 0. "
   ]
  },
  {
   "cell_type": "markdown",
   "metadata": {},
   "source": [
    "### 4. Primary Energy Consumption by Other Fuels / その他の燃料による一次エネルギー消費量"
   ]
  },
  {
   "cell_type": "markdown",
   "metadata": {},
   "source": [
    "The hourly primary energy consumption $E_{M}$ by other fuels is set to 0. "
   ]
  },
  {
   "cell_type": "markdown",
   "metadata": {},
   "source": [
    "## Heat Source Machine / 熱源機"
   ]
  },
  {
   "cell_type": "markdown",
   "metadata": {},
   "source": [
    "### 1. Power of Heat Source Machine / 熱源機の消費電力量"
   ]
  },
  {
   "cell_type": "markdown",
   "metadata": {},
   "source": [
    "The hourly electric power $E_{E,hs}$ of heat source machine is calculated by the equation below.  \n",
    "However, when the average heating power $q_{out,H,hs}$ of heat source machine is equals to 0, $E_{E,hs}$ = 0."
   ]
  },
  {
   "cell_type": "markdown",
   "metadata": {},
   "source": [
    "$$\\large\n",
    "E_{E,hs} = E_{comp,hs} + E_{aux,hs} + Q_{UT,H,hs} \\div 3600 \\times 10^{3}\n",
    "$$"
   ]
  },
  {
   "cell_type": "markdown",
   "metadata": {},
   "source": [
    "Where  \n",
    "$E_{E,hs}$ is the hourly electric power of heat source machine. / 1時間当たりの熱源機の消費電力量(kWh/h)  \n",
    "$E_{comp,hs}$ is the hourly electric power of compressor. / 1時間当たりの圧縮機の消費電力量(kWh/h)   \n",
    "$E_{aux,hs}$ is the hourly electric power of auxiliary machine. / 1時間当たりの補機の消費電力量(kWh/h)  \n",
    "$Q_{UT,H,hs}$ is the hourly unprocessed heating load of heat source machine. / 1時間当たりの熱源機の未処理暖房負荷(kWh/h)   "
   ]
  },
  {
   "cell_type": "markdown",
   "metadata": {},
   "source": [
    "### 2. Power of Compressor / 圧縮機の消費電力量"
   ]
  },
  {
   "cell_type": "markdown",
   "metadata": {},
   "source": [
    "The hourly electric power $E_{comp,hs}$ of compressor is calculated by the equation below."
   ]
  },
  {
   "cell_type": "markdown",
   "metadata": {},
   "source": [
    "$$\\large\n",
    "E_{comp,hs} = \\frac{q_{out,H,hs} + q_{loss,H,hs}}{\\eta \\times C_{df,H} \\times e_{ref,H,th}}\n",
    "$$"
   ]
  },
  {
   "cell_type": "markdown",
   "metadata": {},
   "source": [
    "Where  \n",
    "$E_{comp,hs}$ is the hourly electric power of compressor. / 1時間当たりの圧縮機の消費電力量(kWh/h)  \n",
    "$q_{out,H,hs}$ is the average heating power of heat source machine. / 熱源機の平均暖房出力(kW)   \n",
    "$q_{loss,H,hs}$ is the average heat dissipation loss inside the heat source machine. / 熱源機内の平均放熱損失(kW)  \n",
    "$\\eta$ is the compression efficiency of compressor. / 圧縮機の圧縮効率   \n",
    "$e_{ref,H,th}$ is the theoretical heating efficiency of heat pump cycle. / ヒートポンプサイクルの理論暖房効率   \n",
    "$C_{df,H}$ is the heating power correction coefficient for defrost. / デフロストに関する暖房出力補正係数   "
   ]
  },
  {
   "cell_type": "markdown",
   "metadata": {},
   "source": [
    "When the relation between the evaporation temperature $\\theta_{ref,evp}$ of the heat pump cycle and the condensation temperature $\\theta_{ref,cnd}$ of the heat pump cycle to be described later is $\\theta_{ref,evp} \\ge \\theta_{ref,cnd}$, $E_{comp,hs,H}$ = 0.  \n",
    "The heating power correction coefficient $C_{df,H}$ for defrost is set to 0.85 when the outside air temperature $\\theta_{ex}$ is less than 5℃ and the outside air relative humidity $h_{ex}$ is 80% or more, and in other conditions it is set to 1.0."
   ]
  },
  {
   "cell_type": "markdown",
   "metadata": {},
   "source": [
    "The compression efficiency $\\eta$ of compressor is calculated by the equation below."
   ]
  },
  {
   "cell_type": "markdown",
   "metadata": {},
   "source": [
    "$$\\large\n",
    "\\eta = -0.9645 \\times \\Biggl( \\frac{q_{out,H,hs} \\times 1000}{q_{max,H,hs}} \\Biggr)^2 + 1.245 \\times \n",
    "\\Biggl( \\frac{q_{out,H,hs} \\times 1000}{q_{max,H,hs}} \\Biggr) + 0.347\n",
    "$$"
   ]
  },
  {
   "cell_type": "markdown",
   "metadata": {},
   "source": [
    "Where  \n",
    "$q_{max,H,hs}$ is the maximum heating power of heat source machine. / 熱源機の最大暖房能力(W)   "
   ]
  },
  {
   "cell_type": "markdown",
   "metadata": {},
   "source": [
    "The theoretical heating efficiency $e_{ref,H,th}$ of heat pump cycle is calculated by the evaporation temperature $\\theta_{ref,evp}$ and the condensation temperature $\\theta_{ref,cnd}$ of heat pump cycle, and the supercooling degree $\\theta_{ref,SC}$ and the overheating degree $\\theta_{ref,SH}$ of heat pump cycle. The calculation method is based on Appendix A \"Method of calculating theoretical efficiency of heat pump cycle in R410A\".  \n",
    "However, when the theoretical heating efficiency $e_{ref,H,th}$ of heat pump cycle exceeds 10, $e_{ref,H,th}$ = 10."
   ]
  },
  {
   "cell_type": "markdown",
   "metadata": {},
   "source": [
    "The evaporation temperature $\\theta_{ref,evp}$ and the condensation temperature $\\theta_{ref,cnd}$ of heat pump cycle, and the supercooling degree $\\theta_{ref,SC}$ and the overheating degree $\\theta_{ref,SH}$ of heat pump cycle are calculated by the equations below."
   ]
  },
  {
   "cell_type": "markdown",
   "metadata": {},
   "source": [
    "$$\\large\n",
    "\\theta_{ref,evp} = -1.043 \\times q_{out,H,hs} + 1.008 \\times \\theta_{ex} + 0.032 \\times h_{ex} - 4.309\n",
    "$$\n",
    "<br><br>\n",
    "$$\\large\n",
    "\\theta_{ref,cnd} = 0.961 \\times \\theta_{SW} + 0.409 \\times q_{out,H,hs} + 3.301\n",
    "$$\n",
    "<br><br>\n",
    "$$\\large\n",
    "\\theta_{ref,SC} = -0.101 \\times \\theta_{SW} - 0.180 \\times q_{out,H,hs} + 7.162\n",
    "$$\n",
    "<br><br>\n",
    "$$\\large\n",
    "\\theta_{ref,SH} = -0.187 \\times q_{out,H,hs} + 0.142 \\times \\theta_{ex} + 1.873\n",
    "$$"
   ]
  },
  {
   "cell_type": "markdown",
   "metadata": {},
   "source": [
    "Where  \n",
    "$\\theta_{ref,evp}$ is the evaporation temperature of heat pump cycle. / ヒートポンプサイクルの蒸発温度(℃)  \n",
    "$\\theta_{ref,cnd}$ is the condensation temperature of heat pump cycle. / ヒートポンプサイクルの凝縮温度(℃)  \n",
    "$\\theta_{ref,SC}$ is the supercooling degree of heat pump cycle. / ヒートポンプサイクルの過冷却度(℃)  \n",
    "$\\theta_{ref,SH}$ is the overheating degree of heat pump cycle. / ヒートポンプサイクルの過熱度(℃)  \n",
    "$q_{out,H,hs}$ is the average heating power of heat source machine. / 熱源機の平均暖房出力(kW)  \n",
    "$\\theta_{ex}$ is the outside air temperature. / 外気温度(℃)  \n",
    "$h_{ex}$ is the outside air relative humidity. / 外気相対湿度(℃)  \n",
    "$\\theta_{SW}$ is the forward hot water temperature. / 往き温水温度(℃)  \n",
    "\n",
    "<br>\n",
    "When $\\theta_{ref,evp} < -50$, $\\theta_{ref,evp} = -50$.  \n",
    "When $\\theta_{ref,cnd} > 65$, $\\theta_{ref,cnd} = 65$.  \n",
    "When $\\theta_{ref,SC} < 0$, $\\theta_{ref,SC} = 0$.  \n",
    "When $\\theta_{ref,SH} < 0$, $\\theta_{ref,SH} = 0$."
   ]
  },
  {
   "cell_type": "markdown",
   "metadata": {},
   "source": [
    "The average heat dissipation loss $q_{loss,H,hs}$ inside the heat source machine is calculated by the equation below.  \n",
    "However, if $q_{loss,H,hs}$ is less than 0, this is set to 0."
   ]
  },
  {
   "cell_type": "markdown",
   "metadata": {},
   "source": [
    "$$\\large\n",
    "q_{loss,H,hs} = \\left\\{ \\begin{array}{ll}\n",
    "    0.004 \\times (\\theta_{SW} - \\theta_{ex}) & (Q_{dmd,H,hs,RAC} = 0)\\\\ \n",
    "    0.010 \\times (\\theta_{SW} - \\theta_{ex}) & (Q_{dmd,H,hs,RAC} > 0)\\\\ \n",
    "    \\end{array}\n",
    "\\right.\n",
    "$$"
   ]
  },
  {
   "cell_type": "markdown",
   "metadata": {},
   "source": [
    "Where  \n",
    "$Q_{dmd,H,hs,RAC}$ is the hourly heat demand of RAC part of heat source machine. / 1時間当たりの熱源機のルームエアコンディショナー部の熱需要(MJ/h)  "
   ]
  },
  {
   "cell_type": "markdown",
   "metadata": {},
   "source": [
    "### 3. Power of Auxiliary Machine / 補器の消費電力量"
   ]
  },
  {
   "cell_type": "markdown",
   "metadata": {},
   "source": [
    "The hourly electric power $E_{aux,hs}$ of auxiliary machine is calculated by the equation below."
   ]
  },
  {
   "cell_type": "markdown",
   "metadata": {},
   "source": [
    "$$\\large\n",
    "E_{aux,hs} = \\left\\{ \\begin{array}{ll}\n",
    "    0.034 \\times q_{out,H,hs} + 0.123 & (Q_{dmd,H,hs,RAC} = 0)\\\\ \n",
    "    0.020 \\times q_{out,H,hs} + 0.132 & (Q_{dmd,H,hs,RAC} > 0)\\\\ \n",
    "    \\end{array}\n",
    "\\right.\n",
    "$$"
   ]
  },
  {
   "cell_type": "markdown",
   "metadata": {},
   "source": [
    "Where  \n",
    "$E_{aux,hs}$ is the hourly electric power of auxiliary machine. / 1時間当たりの補機の消費電力量(kWh/h)  \n",
    "$q_{out,H,hs}$ is the average heating power of heat source machine. / 熱源機の平均暖房出力(kW)    \n",
    "$Q_{dmd,H,hs,RAC}$ is the hourly heat demand of RAC part of heat source machine. / 1時間当たりの熱源機のルームエアコンディショナー部の熱需要(MJ/h)  "
   ]
  },
  {
   "cell_type": "markdown",
   "metadata": {},
   "source": [
    "### 4. Heating Power of Heat Source Machine and Unprocessed Heating Load  / 熱源機の暖房出力と未処理暖房負荷"
   ]
  },
  {
   "cell_type": "markdown",
   "metadata": {},
   "source": [
    "The average heating power $q_{out,H,hs}$ of heat source machine is calculated by the equation below."
   ]
  },
  {
   "cell_type": "markdown",
   "metadata": {},
   "source": [
    "$$\\large\n",
    "q_{out,H,hs} = Q_{out,H,hs} \\div 3600 \\times 10^{3}\n",
    "$$"
   ]
  },
  {
   "cell_type": "markdown",
   "metadata": {},
   "source": [
    "Where  \n",
    "$q_{out,H,hs}$ is the average heating power of heat source machine. / 熱源機の平均暖房出力(kW)  \n",
    "$Q_{out,H,hs}$ is the hourly heating power of heat source machine. / 1時間当たりの熱源機暖房出力(MJ/h)  "
   ]
  },
  {
   "cell_type": "markdown",
   "metadata": {},
   "source": [
    "The hourly unprocessed heating load $Q_{UT,H,hs}$ of heat source machine is calculated by the equation below."
   ]
  },
  {
   "cell_type": "markdown",
   "metadata": {},
   "source": [
    "$$\\large\n",
    "Q_{UT,H,hs} = Q_{dmd,H,hs} - Q_{out,H,hs}\n",
    "$$"
   ]
  },
  {
   "cell_type": "markdown",
   "metadata": {},
   "source": [
    "Where  \n",
    "$Q_{UT,H,hs}$ is the hourly unprocessed heating load of heat source machine. /  1時間当たりの熱源機の未処理暖房負荷(MJ/h)  \n",
    "$Q_{dmd,H,hs}$ is the hourly heat demand of heat source machine. / 1時間当たりの熱源機の熱需要(MJ/h)  "
   ]
  },
  {
   "cell_type": "markdown",
   "metadata": {},
   "source": [
    " The hourly heating power $Q_{out,H,hs}$ of heat source machine is calculated by the equation below."
   ]
  },
  {
   "cell_type": "markdown",
   "metadata": {},
   "source": [
    "$$\\large\n",
    "Q_{out,H,hs} = \\left\\{ \\begin{array}{ll}\n",
    "    Q_{dmd,H,hs} & (Q_{dmd,H,hs} \\leq Q_{max,H,hs})\\\\ \n",
    "    Q_{max,H,hs} & (Q_{dmd,H,hs} > Q_{max,H,hs})\\\\ \n",
    "    \\end{array}\n",
    "\\right.\n",
    "$$"
   ]
  },
  {
   "cell_type": "markdown",
   "metadata": {},
   "source": [
    "Where  \n",
    "$Q_{max,H,hs}$ is the hourly maximum heating power of heat source machine. /  1 時間当たりの熱源機の最大暖房出力(MJ/h)  "
   ]
  },
  {
   "cell_type": "markdown",
   "metadata": {},
   "source": [
    "The hourly maximum heating power $Q_{max,H,hs}$ of heat source machine is calculated by the equation below."
   ]
  },
  {
   "cell_type": "markdown",
   "metadata": {},
   "source": [
    "$$\\large\n",
    "Q_{max,H,hs} = (11.62 + 0.2781 \\times \\theta_{ex} - 0.00113 \\times \\theta^2_{ex} - 0.1271 \\times \\theta_{SW} \\\\\n",
    "\\large\n",
    "- 0.00363 \\times \\theta_{ex} \\times \\theta_{SW}) \\times \\frac{q_{max,H,hs} \\times 0.8}{6} \\times \\frac{C_{df}}{0.85} \\times 3600 \\times 10^{-6}\n",
    "$$"
   ]
  },
  {
   "cell_type": "markdown",
   "metadata": {},
   "source": [
    "Where  \n",
    "$\\theta_{ex}$ is the outside air temperature. / 外気温度(℃)  \n",
    "$\\theta_{SW}$ is the forward hot water temperature. / 往き温水温度(℃)  \n",
    "$C_{df,H}$ is the heating power correction coefficient for defrost. / デフロストに関する暖房出力補正係数  \n",
    "$q_{max,H,hs}$ is the maximum heating power of heat source machine. / 熱源機の最大暖房能力(W)  "
   ]
  },
  {
   "cell_type": "markdown",
   "metadata": {},
   "source": [
    "The heating power correction coefficient $C_{df,H}$ for defrost is set to 0.85 when the outside air temperature $\\theta_{ex}$ is less than 5℃ and the outside air relative humidity $h_{ex}$ is 80% or more, and in other conditions it is set to 1.0."
   ]
  },
  {
   "cell_type": "markdown",
   "metadata": {},
   "source": [
    "The maximum heating power $q_{max,H,hs}$ of heat source machine is calculated by the equation below."
   ]
  },
  {
   "cell_type": "markdown",
   "metadata": {},
   "source": [
    "$$\\large\n",
    "q_{max,H,hs} = q_{rq,H} \\times A_{HCZ} \\times f_{cT} \\times f_{cI}\n",
    "$$"
   ]
  },
  {
   "cell_type": "markdown",
   "metadata": {},
   "source": [
    "Where  \n",
    "$q_{rq,H}$ is the required heating capacity per unit area. / 単位面積当たりの必要暖房能力(W/m<sup>2</sup>)  \n",
    "$A_{HCZ}$ is the floor area of heating and cooling compartment. / 暖冷房区画の床面積(m<sup>2</sup>)  \n",
    "$f_{cT}$ is the correction coefficient of outside air temperature capability. / 外気温度能力補正係数  \n",
    "$f_{cI}$ is the correction coefficient of intermittent operation ability. / 間歇運転能力補正係数  "
   ]
  },
  {
   "cell_type": "markdown",
   "metadata": {},
   "source": [
    "The required heating capacity $q_{rq,H}$ per unit area is determined according to Table 3 for each region classification and the type of heating / cooling compartment in which the radiator is installed."
   ]
  },
  {
   "cell_type": "markdown",
   "metadata": {},
   "source": [
    "The correction coefficient $f_{cT}$ of outside air temperature capability is set to 1.0.  \n",
    "The correction coefficient $f_{cI}$ of intermittent operation ability is set to 3.03 when of which is the main room, and is set to 1.62 when the other rooms."
   ]
  },
  {
   "cell_type": "markdown",
   "metadata": {},
   "source": [
    "<center>**Table 3. Required heating capacity per unit area (W/m<sup>2</sup>)**</center>\n",
    "\n",
    "|Region|Main room|Other rooms|\n",
    "|-|-|-|\n",
    "|1|139.26|62.28|\n",
    "|2|120.65|53.26|\n",
    "|3|111.32|53.81|\n",
    "|4|118.98|55.41|\n",
    "|5|126.56|59.43|\n",
    "|6|106.48|49.93|\n",
    "|7|112.91|53.48|\n",
    "|8|-|-|\n"
   ]
  },
  {
   "cell_type": "markdown",
   "metadata": {},
   "source": [
    "### 5. Heat Demand of Heat Source Machine / 熱源機の熱需要"
   ]
  },
  {
   "cell_type": "markdown",
   "metadata": {},
   "source": [
    "#### 5.1. Heat Demand of Heat Source Machine / 熱源機の熱需要"
   ]
  },
  {
   "cell_type": "markdown",
   "metadata": {},
   "source": [
    "The hourly heat demand $Q_{dmd,H,hs}$ of heat source machine is calculated by the equation below."
   ]
  },
  {
   "cell_type": "markdown",
   "metadata": {},
   "source": [
    "$$\\large\n",
    "Q_{dmd,H,hs} = Q_{dmd,H,hs,FH} + Q_{dmd,H,hs,RAC}\n",
    "$$"
   ]
  },
  {
   "cell_type": "markdown",
   "metadata": {},
   "source": [
    "Where  \n",
    "$Q_{dmd,H,hs}$ is the hourly heat demand of heat source machine. / 1時間当たりの熱源機の熱需要(MJ/h)  \n",
    "$Q_{dmd,H,hs,FH}$ is the hourly heat demand of hot water floor heating of heat source machine. / 1時間当たりの熱源機の温水床暖房部の熱需要(MJ/h)   \n",
    "$Q_{dmd,H,hs,RAC}$ is the hourly heat demand of RAC part of heat source machine. / 1時間当たりの熱源機のルームエアコンディショナー部の熱需要(MJ/h)  "
   ]
  },
  {
   "cell_type": "markdown",
   "metadata": {},
   "source": [
    "#### 5.2. Heat Demand of Hot Water Floor Heating of Heat Source Machine  / 熱源機の温水床暖房部の熱需要"
   ]
  },
  {
   "cell_type": "markdown",
   "metadata": {},
   "source": [
    " The hourly heat demand $Q_{dmd,H,hs,FH}$ of hot water floor heating of heat source machine is calculated by the equation below."
   ]
  },
  {
   "cell_type": "markdown",
   "metadata": {},
   "source": [
    "$$\\large\n",
    "Q_{dmd,H,hs,FH} = Q_{T,H,FH} + Q_{loss,FH} + Q_{loss,pp}\n",
    "$$"
   ]
  },
  {
   "cell_type": "markdown",
   "metadata": {},
   "source": [
    "Where  \n",
    "$Q_{dmd,H,hs,FH}$ is the hourly heat demand of hot water floor heating of heat source machine. / 1時間当たりの熱源機の温水床暖房部の熱需要(MJ/h)   \n",
    "$Q_{T,H,FH}$ is the hourly process heating load of hot water floor heating. / 1時間当たりの温水床暖房の処理暖房負荷(MJ/h)  \n",
    "$Q_{loss,FH}$ is the hourly heat dissipation loss of hot water floor heating. / 1時間当たりの温水床暖房の放熱損失(MJ/h)  \n",
    "$Q_{loss,pp}$ is the hourly heat dissipation loss of piping. / 1時間当たりの配管の放熱損失(MJ/h)  "
   ]
  },
  {
   "cell_type": "markdown",
   "metadata": {},
   "source": [
    "The hourly heat dissipation loss $Q_{loss,pp}$ of piping is calculated by the equation below."
   ]
  },
  {
   "cell_type": "markdown",
   "metadata": {},
   "source": [
    "$$\\large\n",
    "Q_{loss,pp} = \\Bigl( \\bigl( \\theta_{SW} - (\\theta_{ex} \\times 0.7 + 20 \\times 0.3) \\bigr) \\times \n",
    "L_{pp,ex} + (\\theta_{SW} - 20) \\times L_{pp,in} \\Bigr) \\times K_{loss,pp} \\\\\n",
    "\\large\n",
    "\\times r_{WS,rad} \\times 3600 \\times 10^{-6}\n",
    "$$"
   ]
  },
  {
   "cell_type": "markdown",
   "metadata": {},
   "source": [
    "Where  \n",
    "$\\theta_{SW}$ is the forward hot water temperature. / 往き温水温度(℃)   \n",
    "$\\theta_{ex}$ is the outside air temperature. / 外気温度(℃)  \n",
    "$L_{pp,ex}$ is the length of piping outside insulation compartment. / 配管の断熱区画外における長さ(m)  \n",
    "$L_{pp,in}$ is the length of piping inside insulation compartment. / 配管の断熱区画内における長さ(m)  \n",
    "$K_{loss,pp}$ is the line heat loss coefficient of piping. / 配管の線熱損失係数(W/mK)   \n",
    "$r_{WS,rad}$ is the hot water supply operation rate of hot water floor heating. / 温水床暖房の温水供給運転率  "
   ]
  },
  {
   "cell_type": "markdown",
   "metadata": {},
   "source": [
    "The length $L_{pp,ex}$ of piping outside insulation compartment and the length $L_{pp,in}$ of piping inside insulation compartment are calculated by the equations below."
   ]
  },
  {
   "cell_type": "markdown",
   "metadata": {},
   "source": [
    "$$\\large\n",
    "L_{pp,ex} = L_{pp,ex,R} \\times \\sqrt{\\frac{A_{A,act}}{A_{A,R}}} \\\\\n",
    "$$\n",
    "\n",
    "$$\\large\n",
    "L_{pp,in} = L_{pp,in,R} \\times \\sqrt{\\frac{A_{A,act}}{A_{A,R}}} \\\\\n",
    "$$"
   ]
  },
  {
   "cell_type": "markdown",
   "metadata": {},
   "source": [
    "Where  \n",
    "$L_{pp,ex,R}$, $L_{pp,in,R}$ is the coefficient represented by Table 4 for each heating and cooling compartment . / 暖冷房区画ごとに表 4 により表される係数  \n",
    "$A_{A,act}$ is the total floor area in the dwelling unit. / 当該住戸における床面積の合計(m<sup>2</sup>)  \n",
    "$A_{A,R}$ is the total floor area in standard dwelling unit. / 標準住戸における床面積の合計(m<sup>2</sup>)  "
   ]
  },
  {
   "cell_type": "markdown",
   "metadata": {},
   "source": [
    "The total floor area $A_{A,R}$ in standard dwelling unit is set to 120.08."
   ]
  },
  {
   "cell_type": "markdown",
   "metadata": {},
   "source": [
    "<center>**Table 4. Coefficient $L_{pp,ex,R}$ and $L_{pp,in,R}$**</center>\n",
    "\n",
    "<table style=\"border: 1px solid #666;\">\n",
    "<thead style=\"border: 1px solid #666;\">\n",
    "<tr>\n",
    "<th rowspan=\"3\"></th>\n",
    "<th colspan=\"4\" style=\"border: 1px solid #666;\">暖冷房区画の番号</th>\n",
    "</tr>\n",
    "<tr style=\"border: 1px solid #666;\">\n",
    "<th>1</th>\n",
    "<th>2</th>\n",
    "<th>3</th>\n",
    "<th>4</th>\n",
    "</tr>\n",
    "<tr style=\"border: 1px solid #666;\">\n",
    "<th>居間<br>食堂<br>台所</th>\n",
    "<th>主寝室</th>\n",
    "<th>子供室１</th>\n",
    "<th>子供室２</th>\n",
    "</tr>\n",
    "</thead>\n",
    "\n",
    "<tbody>\n",
    "<tr>\n",
    "<th>$L_{pp,ex,R}$</th>\n",
    "<td>27.86</td>\n",
    "<td>0.00</td>\n",
    "<td>0.00</td>\n",
    "<td>0.00</td>\n",
    "</tr>\n",
    "<tr>\n",
    "<th>$L_{pp,in,R}$</th>\n",
    "<td>0.00</td>\n",
    "<td>16.54</td>\n",
    "<td>12.90</td>\n",
    "<td>20.30</td>\n",
    "</tr>\n",
    "</tbody>\n",
    "</table>\n"
   ]
  },
  {
   "cell_type": "markdown",
   "metadata": {},
   "source": [
    "The line heat loss coefficient $K_{loss,pp}$ of piping is distinguished by existence or non-existence of heat insulation of piping. This is set to 0.21 for all parts of the piping when the coefficient of line heat loss is greater than 0.21 (W/mK), and 0.15 for others."
   ]
  },
  {
   "cell_type": "markdown",
   "metadata": {},
   "source": [
    "The hot water supply operation rate $r_{WS,rad}$ of hot water floor heating and the hourly heat dissipation loss $Q_{loss,FH}$ of hot water floor heating shall be the hourly heat loss $Q_{loss,rad,i}$ and the hot water supply operation rate $r_{WS,rad,i}$ of radiator installed in the heating and cooling compartment $i$ calculated by Chapter 4 Section 7 Appendix L.1 \"Heat loss\" and L.2 \"Hot water supply operation rate\", depending on the forward hot water temperature $\\theta_{SW}$, the floor area $A_{HCZ}$ of heating and cooling compartment in which hot water floor heating with RAC is installed, the installation rate $r_{Af}$ of hot water floor heating in the dwelling unit, the hourly process heating load $Q_{T,H,FH}$ of hot water floor heating and the heat radiation rate $r_{up}$ on the top surface."
   ]
  },
  {
   "cell_type": "markdown",
   "metadata": {},
   "source": [
    "#### 5.3. Heat Demand of RAC part of Heat Source Machine /  熱源機のルームエアコンディショナー部の熱需要"
   ]
  },
  {
   "cell_type": "markdown",
   "metadata": {},
   "source": [
    "The hourly heat demand $Q_{dmd,H,hs,RAC}$ of RAC part of heat source machine is calculated by the equation below."
   ]
  },
  {
   "cell_type": "markdown",
   "metadata": {},
   "source": [
    "$$\\large\n",
    "Q_{dmd,H,hs,RAC} = Q_{T,H,RAC}\n",
    "$$"
   ]
  },
  {
   "cell_type": "markdown",
   "metadata": {},
   "source": [
    "Where  \n",
    "$Q_{dmd,H,hs,RAC}$ is the hourly heat demand of RAC part of heat source machine. / 1時間当たりの熱源機のルームエアコンディショナー部の熱需要(MJ/h)  \n",
    "$Q_{T,H,RAC}$ is the hourly process heating load of RAC. / 1時間当たりのルームエアコンディショナーの処理暖房負荷(MJ/h)  "
   ]
  },
  {
   "cell_type": "markdown",
   "metadata": {},
   "source": [
    "### 6. Process Heating Load / 処理暖房負荷"
   ]
  },
  {
   "cell_type": "markdown",
   "metadata": {},
   "source": [
    "The hourly process heating load $Q_{T,H,FH}$ of hot water floor heating is calculated by the equation below."
   ]
  },
  {
   "cell_type": "markdown",
   "metadata": {},
   "source": [
    "$$\\large\n",
    "Q_{T,H,FH} = \\left\\{ \\begin{array}{ll}\n",
    "    Q_{T,H} & (Q_{T,H} \\leq Q_{max,H,floor})\\\\ \n",
    "    Q_{max,H,floor} & (Q_{T,H} > Q_{max,H,floor})\\\\ \n",
    "    \\end{array}\n",
    "\\right.\n",
    "$$"
   ]
  },
  {
   "cell_type": "markdown",
   "metadata": {},
   "source": [
    "The hourly process heating load $Q_{T,H,RAC}$ of RAC is calculated by the equation below."
   ]
  },
  {
   "cell_type": "markdown",
   "metadata": {},
   "source": [
    "$$\\large\n",
    "Q_{T,H,RAC} = Q_{T,H} - Q_{T,H,FH}\n",
    "$$"
   ]
  },
  {
   "cell_type": "markdown",
   "metadata": {},
   "source": [
    "Where  \n",
    "$Q_{T,H,FH}$ is the hourly process heating load of hot water floor heating. / 1時間当たりの温水床暖房の処理暖房負荷(MJ/h)  \n",
    "$Q_{T,H,RAC}$ is the hourly process heating load of RAC. / 1時間当たりのルームエアコンディショナーの処理暖房負荷(MJ/h)  \n",
    "$Q_{T,H}$ is the hourly process heating load. / 1時間当たりの処理暖房負荷(MJ/h)  \n",
    "$Q_{max,H,floor}$ is the hourly maximum heating power of hot water floor heating. / 1時間当たりの温水床暖房の最大暖房出力(MJ/h)  "
   ]
  },
  {
   "cell_type": "markdown",
   "metadata": {},
   "source": [
    "### 7. Forward Hot Water Temperature / 往き温水温度"
   ]
  },
  {
   "cell_type": "markdown",
   "metadata": {},
   "source": [
    "The forward hot water temperature $\\theta_{SW}$ is set to 36℃."
   ]
  },
  {
   "cell_type": "markdown",
   "metadata": {},
   "source": [
    "##  Cooling / 冷房"
   ]
  },
  {
   "cell_type": "markdown",
   "metadata": {},
   "source": [
    "The energy consumption and the maximum cooling power during cooling using hot water floor heating with RAC are defined by Chapter 4  Section 3, 6. \"Cooling\"."
   ]
  }
 ],
 "metadata": {
  "kernelspec": {
   "display_name": "Python 3",
   "language": "python",
   "name": "python3"
  },
  "language_info": {
   "codemirror_mode": {
    "name": "ipython",
    "version": 3
   },
   "file_extension": ".py",
   "mimetype": "text/x-python",
   "name": "python",
   "nbconvert_exporter": "python",
   "pygments_lexer": "ipython3",
   "version": "3.6.4"
  }
 },
 "nbformat": 4,
 "nbformat_minor": 2
}
