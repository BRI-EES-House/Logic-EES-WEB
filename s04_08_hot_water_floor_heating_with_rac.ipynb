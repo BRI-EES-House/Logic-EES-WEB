{
 "cells": [
  {
   "cell_type": "markdown",
   "metadata": {},
   "source": [
    "使用許諾条件\n",
    "\n",
    "①\t設計一次エネルギー消費量算定法に基づく計算方法をPythonによりコーディングし、Jupyter notebook形式で保存したファイル（以下、本ファイルと呼ぶ）の著作権は、一般社団法人日本サステナブル建築協会に帰属します。\n",
    "Copyright©2019. 一般社団法人日本サステナブル建築協会\n",
    "All rights reserved. \n",
    "\n",
    "②\t本ファイルは、住戸の設計一次エネルギー消費量算定方法に係る「平成28年省エネルギー基準に準拠したエネルギー消費性能の評価に関する技術情報（住宅）2.1算定方法（第四章第八節 ルームエアコンディショナー付温水床暖房）」に示す計算方法に基づき、国土交通省国土技術政策総合研究所・国立研究開発法人建築研究所、株式会社ユーワークス、株式会社住環境計画研究所が作成したものです。\n",
    "\n",
    "③\t本ファイルは、計算方法に示す計算過程の確認及び調査研究等に活用することを目的として作成されたものであり、一般社団法人日本サステナブル建築協会は著作権について放棄はしませんが、使用する各人の自己責任において仕様を変更することを妨げるものではありません。ただし、本ファイルによる計算結果を住宅の省エネルギー基準で規定する設計一次エネルギー消費量の結果として公的な申請に用いることはできません。\n",
    "\n",
    "④\t本ファイルを変更するかしないかを問わず、以下の条件を満たす場合に限り、頒布および使用が許可されます。\n",
    "1.\t頒布物の付属ドキュメント等の資料に、上記の著作権表示、本条件一覧、および下記免責条項を含めること。\n",
    "2.\t書面による特別の許可なしに、本ファイルから派生した製品の宣伝または販売の促進に、一般社団法人日本サステナブル建築協会、国土技術政策総合研究所・国立研究開発法人建築研究所および株式会社ユーワークス、株式会社住環境計画研究所の名前またはコントリビューターの名前を使用してはならない。\n",
    "\n",
    "⑤\t本ファイルは、著作権者およびコントリビューターによって「現状のまま」提供されており、明示黙示を問わず、商業的な使用可能性、および特定の目的に対する適合性に関する暗黙の保証も含め、またそれに限定されない、いかなる保証もありません。著作権もコントリビューターも、事由のいかんを問わず、損害発生の原因いかんを問わず、かつ責任の根拠が契約であるか厳格責任であるか（過失その他の）不法行為であるかを問わず、仮にそのような損害が発生する可能性を知らされていたとしても、本ファイルの使用によって発生した（代用品または代用サービスの調達、使用の喪失、データの喪失、利益の喪失、業務の中断も含め、またそれに限定されない）直接損害、間接損害、偶発的な損害、特別損害、懲罰的損害、または結果損害について、一切の責任を負わないものとします。\n",
    "\n"
   ]
  },
  {
   "cell_type": "code",
   "execution_count": null,
   "metadata": {},
   "outputs": [],
   "source": [
    "import nbimporter\n",
    "import numpy as np\n",
    "from math import sqrt\n",
    "\n",
    "from s04_01_general import get_Q_T_H_d_t_i\n",
    "\n",
    "# エアーコンディショナー\n",
    "import s04_03_room_air_conditioner as rac\n",
    "import s04_03_room_air_conditioner as rac_spec\n",
    "\n",
    "# 温水床暖房\n",
    "import s04_07_l_hot_water_floor_heating as hwfloor\n",
    "\n",
    "# R410A におけるヒートポンプサイクルの理論効率の計算方法\n",
    "from s04_08_hot_water_floor_heating_with_rac import get_e_ref_H_th\n",
    "\n",
    "# 地域の区分と外気条件\n",
    "from s11_01_external_condition import load_outdoor, get_Theta_ex, get_X_ex, get_h_ex"
   ]
  },
  {
   "cell_type": "markdown",
   "metadata": {},
   "source": [
    "## 第八節　ルームエアコンディショナー付温水床暖房 / Section 8  Hot Water Floor Heating with RAC"
   ]
  },
  {
   "cell_type": "markdown",
   "metadata": {},
   "source": [
    "1．適用範囲～4．記号及び単位は省略"
   ]
  },
  {
   "cell_type": "markdown",
   "metadata": {},
   "source": [
    "1. Scope of application ~ 4. Symbols and units are omitted"
   ]
  },
  {
   "cell_type": "markdown",
   "metadata": {},
   "source": [
    "### 5. 最大暖房出力 / Maximum heating output"
   ]
  },
  {
   "cell_type": "markdown",
   "metadata": {},
   "source": [
    "$$\\large\n",
    "Q_{max,H,d,t} = Q_{max,H,floor,d,t} + Q_{max,H,RAC,d,t}\n",
    "$$"
   ]
  },
  {
   "cell_type": "markdown",
   "metadata": {},
   "source": [
    "$Q_{max,H,d,t}$：日付$d$の時刻$t$における1時間当たりの最大暖房出力(MJ/h) / Maximum heating output per hour at time $ t $ of date $ d $  \n",
    "$Q_{max,H,floor,d,t}$：日付$d$の時刻$t$における1時間当たりの温水床暖房の最大暖房出力(MJ/h) / Maximum heating output of heated floor heating per hour at time $ t $ on date $ d $   \n",
    "$Q_{max,H,RAC,d,t}$：日付$d$の時刻$t$における1時間当たりのルームエアコンディショナーの最大暖房出力(MJ/h) / Maximum heating output of room air conditioner per hour at time $ t $ on date $ d $  "
   ]
  },
  {
   "cell_type": "code",
   "execution_count": null,
   "metadata": {},
   "outputs": [],
   "source": [
    "# 最大暖房出力 (1)\n",
    "def get_Q_max_H_d_t(region, Theta_SW_d_t, A_HCZ, r_Af):\n",
    "    \"\"\"\n",
    "    :param region: 省エネルギー地域区分\n",
    "    :param Theta_SW_d_t: 往き温水温度 (℃)\n",
    "    :param A_HCZ: ルームエアコンディショナー付温水床暖房を設置する暖冷房区画の面積 (m2)\n",
    "    :param r_Af: 当該住戸における温水床暖房の敷設率 (-)\n",
    "    :return: 最大暖房出力 (MJ/h)\n",
    "    \"\"\"\n",
    "    # 温水床暖房の最大暖房出力 (MJ/h)\n",
    "    Q_max_H_floor_d_t = get_Q_max_H_floor_d_t(Theta_SW_d_t, A_HCZ, r_Af)\n",
    "\n",
    "    # ルームエアコンディショナーの最大暖房出力 (MJ/h)\n",
    "    Q_max_H_RAC_d_t = get_Q_max_H_RAC_d_t(region, A_HCZ)\n",
    "\n",
    "    # ルームエアコンディショナー付温水床暖房の最大暖房出力 (MJ/h)\n",
    "    Q_max_H_d_t = Q_max_H_floor_d_t + Q_max_H_RAC_d_t\n",
    "\n",
    "    return Q_max_H_d_t\n",
    "\n",
    "# 温水床暖房の最大暖房出力\n",
    "def get_Q_max_H_floor_d_t(Theta_SW_d_t, A_HCZ, r_Af):\n",
    "    \"\"\"\n",
    "    :param Theta_SW_d_t: 往き温水温度 (℃)\n",
    "    :param A_HCZ: ルームエアコンディショナー付温水床暖房を設置する暖冷房区画の面積 (m2)\n",
    "    :param r_Af: 当該住戸における温水床暖房の敷設率 (-)\n",
    "    :return: 温水床暖房の最大暖房出力 (MJ/h)\n",
    "    \"\"\"\n",
    "    # 温水床暖房の敷設面積 (m2)\n",
    "    A_f = hwfloor.get_A_f(A_HCZ, r_Af)\n",
    "\n",
    "    # 温水床暖房の最大暖房出力 (MJ/h)\n",
    "    Q_max_H_floor_d_t = hwfloor.get_Q_max_H_rad(Theta_SW_d_t, A_f)\n",
    "\n",
    "    return Q_max_H_floor_d_t\n",
    "\n",
    "\n",
    "# ルームエアコンディショナーの最大暖房出力\n",
    "def get_Q_max_H_RAC_d_t(region, A_HCZ):\n",
    "    \"\"\"\n",
    "    :param region: 省エネルギー地域区分\n",
    "    :param A_HCZ: ルームエアコンディショナー付温水床暖房を設置する暖冷房区画の面積 (m2)\n",
    "    :return: ルームエアコンディショナーの最大暖房出力 (MJ/h)\n",
    "    \"\"\"\n",
    "    # 外気温度・湿度の取得\n",
    "    outdoor = load_outdoor()\n",
    "    Theta_ex_d_t = get_Theta_ex(region, outdoor)\n",
    "    X_ex = get_X_ex(region, outdoor)\n",
    "    h_ex = get_h_ex(X_ex, Theta_ex_d_t)\n",
    "\n",
    "    # 定格冷房能力\n",
    "    q_rtd_C = rac_spec.get_q_rtd_C(A_HCZ)\n",
    "\n",
    "    # 定格暖房能力\n",
    "    q_rtd_H = rac_spec.get_q_rtd_H(q_rtd_C)\n",
    "\n",
    "    # 最大冷房能力\n",
    "    q_max_C = rac_spec.get_q_max_C(q_rtd_C)\n",
    "\n",
    "    # 最大暖房能力\n",
    "    q_max_H = rac_spec.get_q_max_H(q_rtd_H, q_max_C)\n",
    "\n",
    "    # 最大暖房能力比\n",
    "    q_r_max_H = rac.get_q_r_max_H(q_max_H, q_rtd_H)\n",
    "\n",
    "    # 最大暖房出力比\n",
    "    Q_r_max_H_d_t = rac.get_Q_r_max_H_d_t(q_rtd_C, q_r_max_H, Theta_ex_d_t)\n",
    "\n",
    "    # 最大暖房出力\n",
    "    Q_max_H_RAC_d_t = rac.get_Q_max_H_d_t(Q_r_max_H_d_t, q_rtd_H, Theta_ex_d_t, h_ex)\n",
    "\n",
    "    return Q_max_H_RAC_d_t"
   ]
  },
  {
   "cell_type": "markdown",
   "metadata": {},
   "source": [
    "### 6. 暖房エネルギー消費量 / Heating energy consumption"
   ]
  },
  {
   "cell_type": "markdown",
   "metadata": {},
   "source": [
    "#### 6.1 消費電力量 / Power consumption"
   ]
  },
  {
   "cell_type": "markdown",
   "metadata": {},
   "source": [
    "$$\\large\n",
    "E_{E,d,t} = E_{E,hs,d,t}\n",
    "$$"
   ]
  },
  {
   "cell_type": "markdown",
   "metadata": {},
   "source": [
    "$E_{E,d,t}$：日付$d$の時刻$t$における1時間当たりの消費電力量(kWh/h) / Power consumption per hour at time $ t $ of date $ d $  \n",
    "$E_{E,hs,d,t}$：日付$d$の時刻$t$における1時間当たりの熱源機の消費電力量(kWh/h) / Power consumption of heat source unit per hour at time $ t $ of date $ d $   "
   ]
  },
  {
   "cell_type": "code",
   "execution_count": null,
   "metadata": {},
   "outputs": [],
   "source": [
    "# 1時間当たりの消費電力量 (2)\n",
    "def get_E_E_d_t(region, A_A_act, i, A_HCZ, r_Af, r_up, pipe_insulation, L_H_d_t):\n",
    "    # 往き温水温度\n",
    "    Theta_SW_d_t = get_Theta_SW_d_t()\n",
    "\n",
    "    # 最大暖房出力\n",
    "    Q_max_H_d_t = get_Q_max_H_d_t(region, Theta_SW_d_t, A_HCZ, r_Af)\n",
    "\n",
    "    # 処理暖房負荷\n",
    "    Q_T_H_d_t = get_Q_T_H_d_t_i(Q_max_H_d_t, L_H_d_t, None, '居室のみを暖房する方式でかつ主たる居室とその他の居室ともに温水暖房を設置する場合に該当しない場合')\n",
    "\n",
    "    # 1時間当たりの熱源機の消費電力量\n",
    "    E_E_hs_d_t = get_E_E_hs_d_t(region, A_A_act, i, A_HCZ, r_Af, r_up, pipe_insulation, Theta_SW_d_t, Q_T_H_d_t)\n",
    "\n",
    "    return E_E_hs_d_t\n",
    "\n",
    "\n",
    "def get_Q_UT_H_d_t(region, A_HCZ, r_Af, L_H_d_t):\n",
    "    # 往き温水温度\n",
    "    Theta_SW_d_t = get_Theta_SW_d_t()\n",
    "\n",
    "    # 最大暖房出力\n",
    "    Q_max_H_d_t = get_Q_max_H_d_t(region, Theta_SW_d_t, A_HCZ, r_Af)\n",
    "\n",
    "    # 処理暖房負荷\n",
    "    Q_T_H_d_t = get_Q_T_H_d_t_i(Q_max_H_d_t, L_H_d_t, None, '居室のみを暖房する方式でかつ主たる居室とその他の居室ともに温水暖房を設置する場合に該当しない場合')\n",
    "\n",
    "    return L_H_d_t - Q_T_H_d_t\n"
   ]
  },
  {
   "cell_type": "markdown",
   "metadata": {},
   "source": [
    "#### 6.2 ガス消費量 / Gas consumption"
   ]
  },
  {
   "cell_type": "markdown",
   "metadata": {},
   "source": [
    "日付$d$の時刻$t$における１時間当たりのガス消費量$E_{G,d,t}$は0とする。"
   ]
  },
  {
   "cell_type": "markdown",
   "metadata": {},
   "source": [
    "The gas consumption $ E_{G, d, t} $ per hour at the time $ t $ of the date $ d $ is 0."
   ]
  },
  {
   "cell_type": "code",
   "execution_count": null,
   "metadata": {},
   "outputs": [],
   "source": [
    "# 1時間当たりのガス消費量\n",
    "def get_E_G_d_t():\n",
    "    # 1時間当たりのガス消費量は0とする\n",
    "    return np.zeros(24 * 365)"
   ]
  },
  {
   "cell_type": "markdown",
   "metadata": {},
   "source": [
    "#### 6.3 灯油消費量 / Kerosene consumption"
   ]
  },
  {
   "cell_type": "markdown",
   "metadata": {},
   "source": [
    "日付$d$の時刻$t$における１時間当たりの灯油消費量$E_{K,d,t}$は0とする。"
   ]
  },
  {
   "cell_type": "markdown",
   "metadata": {},
   "source": [
    "The kerosene consumption $ E_{K, d, t} $ per hour at the time $ t $ of the date $ d $ is assumed to be zero."
   ]
  },
  {
   "cell_type": "code",
   "execution_count": null,
   "metadata": {},
   "outputs": [],
   "source": [
    "# 1時間当たりの灯油消費量\n",
    "def get_E_K_d_t():\n",
    "    # 1時間当たりの灯油消費量は0とする\n",
    "    return np.zeros(24 * 365)"
   ]
  },
  {
   "cell_type": "markdown",
   "metadata": {},
   "source": [
    "#### 6.4 その他の燃料による一次エネルギー消費量 / Primary energy consumption by other fuels"
   ]
  },
  {
   "cell_type": "markdown",
   "metadata": {},
   "source": [
    "日付$d$の時刻$t$における１時間当たりのその他の燃料による一次エネルギー消費量$E_{M,d,t}$は0とする。"
   ]
  },
  {
   "cell_type": "markdown",
   "metadata": {},
   "source": [
    "Primary energy consumption $ E_{M, d, t} $ by other fuel per hour at time $ t $ of date $ d $ is 0."
   ]
  },
  {
   "cell_type": "code",
   "execution_count": null,
   "metadata": {},
   "outputs": [],
   "source": [
    "# その他の燃料による一次エネルギー消費量\n",
    "def get_E_M_d_t():\n",
    "    # 1時間当たりのその他の燃料による一次エネルギー消費量は0とする\n",
    "    return np.zeros(24 * 365)"
   ]
  },
  {
   "cell_type": "markdown",
   "metadata": {},
   "source": [
    "### 7. 熱源機 / Heat source machine"
   ]
  },
  {
   "cell_type": "markdown",
   "metadata": {},
   "source": [
    "#### 7.1 熱源機の消費電力量 / Power consumption of heat source machine"
   ]
  },
  {
   "cell_type": "markdown",
   "metadata": {},
   "source": [
    "日付$d$の時刻$t$における熱源機の平均暖房出力$q_{out,H,hs,d,t}$が0に等しい場合は、$E_{E,hs,d,t}$ = 0とする。 "
   ]
  },
  {
   "cell_type": "markdown",
   "metadata": {},
   "source": [
    "If the average heating output $ q_{out, H, hs, d, t} $ of the heat source unit at time $ t $ on date $ d $ is equal to 0, then $ E_{E, hs, d, t} $ = It is assumed that 0."
   ]
  },
  {
   "cell_type": "markdown",
   "metadata": {},
   "source": [
    "$$\\large\n",
    "E_{E,hs,d,t} = E_{comp,hs,d,t} + E_{aux,hs,d,t} + Q_{UT,H,hs,d,t} \\div 3600 \\times 10^{3}\n",
    "$$"
   ]
  },
  {
   "cell_type": "markdown",
   "metadata": {},
   "source": [
    "$E_{E,hs,d,t}$：日付$d$の時刻$t$における1時間当たりの熱源機の消費電力量(kWh/h) / Power consumption of heat source unit per hour at time $ t $ of date $ d $  \n",
    "$E_{comp,hs,d,t}$：日付$d$の時刻$t$における1時間当たりの圧縮機の消費電力量(kWh/h) / Power consumption of compressor per hour at time $ t $ of date $ d $   \n",
    "$E_{aux,hs,d,t}$：日付$d$の時刻$t$における1時間当たりの補機の消費電力量(kWh/h) / Power consumption of accessory per hour at time $ t $ of date $ d $  \n",
    "$Q_{UT,H,hs,d,t}$：日付$d$の時刻$t$における1時間当たりの熱源機の未処理暖房負荷(kWh/h) / Raw heating load of heat source unit per hour at time $ t $ of date $ d $   "
   ]
  },
  {
   "cell_type": "code",
   "execution_count": null,
   "metadata": {},
   "outputs": [],
   "source": [
    "# 1時間当たりの熱源機の消費電力量 (3)\n",
    "def get_E_E_hs_d_t(region, A_A_act, i, A_HCZ, r_Af, r_up, pipe_insulation, Theta_SW_d_t, Q_T_H_d_t):\n",
    "    \"\"\"\n",
    "    :param region: 省エネルギー地域区分\n",
    "    :param A_A_act: 当該住戸における床面積の合計 (m2)\n",
    "    :param i: 暖冷房区画の番号\n",
    "    :param A_HCZ: ルームエアコンディショナー付温水床暖房を設置する暖冷房区画の面積 (m2)\n",
    "    :param r_Af: 当該住戸における温水床暖房の敷設率 (-)\n",
    "    :param r_up: 当該住戸の温水床暖房の上面放熱率\n",
    "    :param pipe_insulation: 配管断熱の有無\n",
    "    :param Theta_ex_d_t: 外気温度(℃)\n",
    "    :param h_ex_d_t: 外気相対湿度\n",
    "    :param Theta_SW_d_t: 往き温水温度(℃)\n",
    "    :param Q_T_H_d_t: 1時間当たりの処理暖房負荷 (MJ/h)\n",
    "    :return: 1時間当たりの熱源機の消費電力量 [kWh/h]\n",
    "    \"\"\"\n",
    "\n",
    "    # 外気温度湿度\n",
    "    outdoor = load_outdoor()\n",
    "    Theta_ex_d_t = get_Theta_ex(region, outdoor)\n",
    "    X_ex = get_X_ex(region, outdoor)\n",
    "    h_ex_d_t = get_h_ex(X_ex, Theta_ex_d_t)\n",
    "\n",
    "    # 温水床暖房の最大暖房出力\n",
    "    Q_max_H_floor_d_t = get_Q_max_H_floor_d_t(Theta_SW_d_t, A_HCZ, r_Af)\n",
    "\n",
    "    # 温水床暖房の処理暖房負荷 (22)\n",
    "    Q_T_H_FH_d_t = get_Q_T_H_FH_d_t(Q_T_H_d_t, Q_max_H_floor_d_t)\n",
    "\n",
    "    # 1時間当たりの熱源機の温水床暖房の熱需要 (18)\n",
    "    Q_dmd_H_hs_FH_d_t = get_Q_dmd_H_hs_FH_d_t(i, A_A_act, r_up, pipe_insulation, Theta_SW_d_t, Theta_ex_d_t, Q_max_H_floor_d_t,\n",
    "                                              Q_T_H_d_t)\n",
    "\n",
    "    # 熱源機の最大暖房能力 (16)\n",
    "    R_type = '主たる居室' if i == 1 else 'その他の居室'\n",
    "    q_max_H_hs = get_q_max_H_hs(region, A_HCZ, R_type)\n",
    "\n",
    "    # 1時間当たりの熱源機のルームエアコンディショナー部の熱需要 (21)\n",
    "    Q_dmd_H_hs_RAC_d_t = get_Q_dmd_H_hs_RAC_d_t(Q_T_H_d_t, Q_T_H_FH_d_t)\n",
    "\n",
    "    # 1時間当たりの熱源機の熱需要 (17)\n",
    "    Q_dmd_H_hs_d_t = get_Q_dmd_H_hs_d_t(Q_dmd_H_hs_FH_d_t, Q_dmd_H_hs_RAC_d_t)\n",
    "\n",
    "    # 1時間当たりの圧縮機の消費電力量 (4)\n",
    "    E_comp_hs_d_t = get_E_comp_hs_d_t(region, A_HCZ, r_Af, Theta_SW_d_t, q_max_H_hs, Q_dmd_H_hs_d_t, Q_T_H_d_t)\n",
    "\n",
    "    # 熱源機の最大暖房出力 (15)\n",
    "    Q_max_H_hs_d_t = get_Q_max_H_hs_d_t(Theta_ex_d_t, Theta_SW_d_t, q_max_H_hs, h_ex_d_t)\n",
    "\n",
    "    # 1時間当たりの熱源機暖房出力 (14)\n",
    "    Q_out_H_hs_d_t = get_Q_out_H_hs_d_t(Q_dmd_H_hs_d_t, Q_max_H_hs_d_t)\n",
    "\n",
    "    # 熱源機の平均暖房出力 (12)\n",
    "    q_out_H_hs_d_t = get_q_out_H_hs_d_t(Q_out_H_hs_d_t)\n",
    "\n",
    "    # 温水床暖房の最大暖房出力\n",
    "    Q_max_H_floor_d_t = get_Q_max_H_floor_d_t(Theta_SW_d_t, A_HCZ, r_Af)\n",
    "\n",
    "    # 温水床暖房の処理暖房負荷 (22)\n",
    "    Q_T_H_FH_d_t = get_Q_T_H_FH_d_t(Q_T_H_d_t, Q_max_H_floor_d_t)\n",
    "\n",
    "    # 熱源機のルームエアコンディショナー部の熱需要 (21)\n",
    "    Q_dmd_H_hs_RAC_d_t = get_Q_dmd_H_hs_RAC_d_t(Q_T_H_d_t, Q_T_H_FH_d_t)\n",
    "\n",
    "    # 1時間当たりの補器の消費電力量 (11)\n",
    "    E_aux_hs_d_t = get_E_aux_hs_d_t(q_out_H_hs_d_t, Q_dmd_H_hs_RAC_d_t)\n",
    "\n",
    "    # 1時間当たりの熱源機の未処理暖房負荷\n",
    "    Q_UT_H_hs_d_t = get_Q_UT_H_hs_d_t(Q_dmd_H_hs_d_t, Q_out_H_hs_d_t)\n",
    "\n",
    "    # 1時間当たりの熱源機の消費電力量 (3)\n",
    "    E_E_hs_d_t = E_comp_hs_d_t + E_aux_hs_d_t + Q_UT_H_hs_d_t / 3600 * 1000\n",
    "\n",
    "    # 熱源機の平均暖房出力が0に等しい場合は0\n",
    "    E_E_hs_d_t[q_out_H_hs_d_t == 0] = 0\n",
    "\n",
    "    return E_E_hs_d_t"
   ]
  },
  {
   "cell_type": "markdown",
   "metadata": {},
   "source": [
    "#### 7.2 圧縮機の消費電力量 / Power consumption of compressor"
   ]
  },
  {
   "cell_type": "markdown",
   "metadata": {},
   "source": [
    "$$\\large\n",
    "E_{comp,hs,d,t} = \\frac{q_{out,H,hs,d,t} + q_{loss,H,hs,d,t}}{\\eta_{d,t} \\times C_{df,H,d,t} \\times e_{ref,H,th,d,t}}\n",
    "$$"
   ]
  },
  {
   "cell_type": "markdown",
   "metadata": {},
   "source": [
    "$E_{comp,hs,d,t}$：日付$d$の時刻$t$における1時間当たりの圧縮機の消費電力量(kWh/h) / Power consumption of compressor per hour at time $ t $ of date $ d $  \n",
    "$q_{out,H,hs,d,t}$：日付$d$の時刻$t$における熱源機の平均暖房出力(kW) / Average heating output of heat source machine at time $ t $ of date $ d $   \n",
    "$q_{loss,H,hs,d,t}$：日付$d$の時刻$t$における熱源機内の平均放熱損失(kW) / Average heat dissipation loss in heat source machine at time $ t $ of date $ d $  \n",
    "$\\eta_{d,t}$：日付$d$の時刻$t$における圧縮機の圧縮効率 / Compressor compression efficiency at time $ t $ of date $ d $   \n",
    "$e_{ref,H,th,d,t}$：日付$d$の時刻$t$におけるヒートポンプサイクルの理論暖房効率 / Theoretical heating efficiency of heat pump cycle at time $ t $ of date $ d $   \n",
    "$C_{df,H,d,t}$：日付$d$の時刻$t$におけるデフロストに関する暖房出力補正係数 / Heating output correction factor for defrost at time $ t $ of date $ d $   "
   ]
  },
  {
   "cell_type": "markdown",
   "metadata": {},
   "source": [
    "日付$d$の時刻$t$におけるヒートポンプサイクルの蒸発温度$\\theta_{ref,evp,d,t}$及び日付$d$の時刻$t$におけるヒートポンプサイクルの凝縮温度$\\theta_{ref,cnd,d,t}$ の関係が、$\\theta_{ref,evp,d,t} \\ge \\theta_{ref,cnd,d,t}$のときは、 $E_{comp,hs,d,t}$ = 0とする。 "
   ]
  },
  {
   "cell_type": "markdown",
   "metadata": {},
   "source": [
    "If the relationship between the evaporation temperature $\\theta_{ref,evp,d,t}$ of the heat pump cycle at time $ t $ of date $ d $ and the condensation temperature $\\theta_{ref,cnd,d,t}$ of the heat pump cycle at time $ t $ of date $ d $ is $\\theta_{ref,evp,d,t} \\ge \\theta_{ref,cnd,d,t}$, then  $E_{comp,hs,d,t}$ = 0."
   ]
  },
  {
   "cell_type": "code",
   "execution_count": null,
   "metadata": {},
   "outputs": [],
   "source": [
    "# 1時間当たりの圧縮機の消費電力量 (4)\n",
    "def get_E_comp_hs_d_t(region, A_HCZ, r_Af, Theta_SW_d_t, q_max_H_hs, Q_dmd_H_hs_d_t, Q_T_H_d_t):\n",
    "    \"\"\"\n",
    "    :param region: 省エネルギー地域区分\n",
    "    :param A_HCZ: ルームエアコンディショナー付温水床暖房を設置する暖冷房区画の面積 (m2)\n",
    "    :param r_Af: 当該住戸における温水床暖房の敷設率 (-)\n",
    "    :param Theta_SW_d_t: 往き温水温度 (℃)\n",
    "    :param q_max_H_hs:\n",
    "    :param Q_dmd_H_hs_d_t:\n",
    "    :param Q_T_H_d_t: 1時間当たりの熱源機の処理暖房負荷 (MJ/h)\n",
    "    :return: 1時間当たりの圧縮機の消費電力量\n",
    "    \"\"\"\n",
    "    # 外気温度湿度を取得\n",
    "    outdoor = load_outdoor()\n",
    "    Theta_ex_d_t = get_Theta_ex(region, outdoor)\n",
    "    X_ex = get_X_ex(region, outdoor)\n",
    "    h_ex_d_t = get_h_ex(X_ex, Theta_ex_d_t)\n",
    "\n",
    "    # 熱源機の最大暖房出力 (15)\n",
    "    Q_max_H_hs_d_t = get_Q_max_H_hs_d_t(Theta_ex_d_t, Theta_SW_d_t, q_max_H_hs, h_ex_d_t)\n",
    "\n",
    "    # 1時間当たりの熱源機暖房出力 (14)\n",
    "    Q_out_H_hs_d_t = get_Q_out_H_hs_d_t(Q_dmd_H_hs_d_t, Q_max_H_hs_d_t)\n",
    "\n",
    "    # 熱源機の平均暖房出力 (12)\n",
    "    q_out_H_hs_d_t = get_q_out_H_hs_d_t(Q_out_H_hs_d_t)\n",
    "\n",
    "    # 温水床暖房の最大暖房出力\n",
    "    Q_max_H_floor_d_t = get_Q_max_H_floor_d_t(Theta_SW_d_t, A_HCZ, r_Af)\n",
    "\n",
    "    # 温水床暖房の処理暖房負荷 (22)\n",
    "    Q_T_H_FH_d_t = get_Q_T_H_FH_d_t(Q_T_H_d_t, Q_max_H_floor_d_t)\n",
    "\n",
    "    # 熱源機のルームエアコンディショナー部の熱需要 (21)\n",
    "    Q_dmd_H_hs_RAC_d_t = get_Q_dmd_H_hs_RAC_d_t(Q_T_H_d_t, Q_T_H_FH_d_t)\n",
    "\n",
    "    # 熱源機内の平均放熱温度 (10)\n",
    "    q_loss_H_hs_d_t = get_q_loss_H_hs_d_t(Theta_SW_d_t, Theta_ex_d_t, Q_dmd_H_hs_RAC_d_t)\n",
    "\n",
    "    # ヒートポンプサイクルの過熱度 (9)\n",
    "    Theta_ref_SH_d_t = get_Theta_ref_SH_d_t(q_out_H_hs_d_t, Theta_ex_d_t)\n",
    "\n",
    "    # ヒートポンプサイクルの過冷温度 (8)\n",
    "    Theta_ref_SC_d_t = get_Theta_ref_SC_d_t(Theta_SW_d_t, q_out_H_hs_d_t)\n",
    "\n",
    "    # ヒートポンプサイクルの凝縮温度 (7)\n",
    "    Theta_ref_cnd_d_t = get_Theta_ref_cnd_d_t(Theta_SW_d_t, q_out_H_hs_d_t)\n",
    "\n",
    "    # ヒートポンプサイクルの蒸発温度 (6)\n",
    "    Theta_ref_evp_d_t = get_Theta_ref_evp_d_t(q_out_H_hs_d_t, Theta_ex_d_t, h_ex_d_t)\n",
    "\n",
    "    # 圧縮機の圧縮効率 (5)\n",
    "    etr_d_t = get_etr_d_t(q_out_H_hs_d_t, q_max_H_hs)\n",
    "\n",
    "    # ヒートポンプサイクルの理論暖房効率 付録A (1)\n",
    "    e_ref_H_th_d_t = get_e_ref_H_th(Theta_ref_evp_d_t, Theta_ref_cnd_d_t, Theta_ref_SC_d_t, Theta_ref_SH_d_t)\n",
    "\n",
    "    # ただし、10を超える場合は10\n",
    "    e_ref_H_th_d_t[e_ref_H_th_d_t > 10] = 10\n",
    "\n",
    "    # 1時間当たりの圧縮機の消費電力量 (4)\n",
    "    C_df_H_d_t = get_C_df_H_d_t(Theta_ex_d_t, h_ex_d_t)\n",
    "    E_com_hs_d_t = (q_out_H_hs_d_t + q_loss_H_hs_d_t) / (etr_d_t * C_df_H_d_t * e_ref_H_th_d_t)\n",
    "\n",
    "    # ヒートポンプサイクルの蒸発温度が凝縮温度以上の場合は0\n",
    "    E_com_hs_d_t[Theta_ref_evp_d_t >= Theta_ref_cnd_d_t] = 0\n",
    "\n",
    "    return E_com_hs_d_t"
   ]
  },
  {
   "cell_type": "markdown",
   "metadata": {},
   "source": [
    "日付$d$の時刻$t$におけるデフロストに関する暖房出力補正係数$C_{df,H,d,t}$は、日付$d$の時刻$t$における外気温度$\\theta_{ex,d,t}$が5℃未満かつ日付$d$の時刻$t$における外気相対湿度$h_{ex,d,t}$が80％以上の場合は0.85とし、それ以外の場合は1.0とする。 "
   ]
  },
  {
   "cell_type": "markdown",
   "metadata": {},
   "source": [
    "Heating output correction factor $ C_ {df, H, d, t} $ for defrost at time $ t $ on date $ d $ is 0.85 when outside temperature $ \\theta_{ex, d, t} $ at time $ t $ with date $ d $ is less than 5°C and relative humidity at the time $ t $ of date $ d $ $ h_{ex, d, t} $ is 80% or more, and is otherwise 1.0."
   ]
  },
  {
   "cell_type": "code",
   "execution_count": null,
   "metadata": {},
   "outputs": [],
   "source": [
    "# デフロストに関する暖房出力補正係数\n",
    "def get_C_df_H_d_t(Theta_ex_d_t, h_ex_d_t):\n",
    "    C_df_H_d_t = np.ones(24 * 365)\n",
    "    C_df_H_d_t[(Theta_ex_d_t < 5.0) * (h_ex_d_t >= 80.0)] = 0.85\n",
    "    return C_df_H_d_t"
   ]
  },
  {
   "cell_type": "markdown",
   "metadata": {},
   "source": [
    "$$\\large\n",
    "\\eta_{d,t} = -0.9645 \\times \\Biggl( \\frac{q_{out,H,hs,d,t} \\times 1000}{q_{max,H,hs}} \\Biggr)^2 + 1.245 \\times \n",
    "\\Biggl( \\frac{q_{out,H,hs,d,t} \\times 1000}{q_{max,H,hs}} \\Biggr) + 0.347\n",
    "$$"
   ]
  },
  {
   "cell_type": "markdown",
   "metadata": {},
   "source": [
    "$q_{max,H,hs}$：熱源機の最大暖房能力(W) / Maximum heating capacity of heat source machine   "
   ]
  },
  {
   "cell_type": "code",
   "execution_count": null,
   "metadata": {},
   "outputs": [],
   "source": [
    "# 圧縮機の圧縮効率 (5)\n",
    "def get_etr_d_t(q_out_H_hs_d_t, q_max_H_hs):\n",
    "    tmp = (q_out_H_hs_d_t * 1000 / q_max_H_hs)\n",
    "    return -0.9645 * tmp * tmp \\\n",
    "           + 1.245 * tmp \\\n",
    "           + 0.347"
   ]
  },
  {
   "cell_type": "markdown",
   "metadata": {},
   "source": [
    "日付$d$の時刻$t$におけるヒートポンプサイクルの理論暖房効率$e_{ref,H,th,d,t}$が10を超える場合は、$e_{ref,H,th,d,t}$ = 10とする。 "
   ]
  },
  {
   "cell_type": "markdown",
   "metadata": {},
   "source": [
    "If the theoretical heating efficiency $ e_{ref, H, th, d, t} $ of the heat pump cycle at the time $ t $ of the date $ d $ exceeds 10, then $e_{ref,H,th,d,t}$ = 10."
   ]
  },
  {
   "cell_type": "markdown",
   "metadata": {},
   "source": [
    "$$\\large\n",
    "\\theta_{ref,evp,d,t} = -1.043 \\times q_{out,H,hs,d,t} + 1.008 \\times \\theta_{ex,d,t} + 0.032 \\times h_{ex,d,t} - 4.309\n",
    "$$\n",
    "<br><br>\n",
    "$$\\large\n",
    "\\theta_{ref,cnd,d,t} = 0.961 \\times \\theta_{SW,d,t} + 0.409 \\times q_{out,H,hs,d,t} + 3.301\n",
    "$$\n",
    "<br><br>\n",
    "$$\\large\n",
    "\\theta_{ref,SC,d,t} = -0.101 \\times \\theta_{SW,d,t} - 0.180 \\times q_{out,H,hs,d,t} + 7.162\n",
    "$$\n",
    "<br><br>\n",
    "$$\\large\n",
    "\\theta_{ref,SH,d,t} = -0.187 \\times q_{out,H,hs,d,t} + 0.142 \\times \\theta_{ex,d,t} + 1.873\n",
    "$$"
   ]
  },
  {
   "cell_type": "markdown",
   "metadata": {},
   "source": [
    "$\\theta_{ref,evp,d,t}$：日付$d$の時刻$t$におけるヒートポンプサイクルの蒸発温度(℃) / Evaporation temperature of heat pump cycle at time $ t $ of date $ d $  \n",
    "$\\theta_{ref,cnd,d,t}$：日付$d$の時刻$t$におけるヒートポンプサイクルの凝縮温度(℃) / Heat pump cycle condensation temperature at time $ t $ with date $ d $  \n",
    "$\\theta_{ref,SC,d,t}$：日付$d$の時刻$t$におけるヒートポンプサイクルの過冷却度(℃) / Degree of undercooling of heat pump cycle at time $ t $ of date $ d $  \n",
    "$\\theta_{ref,SH,d,t}$：日付$d$の時刻$t$におけるヒートポンプサイクルの過熱度(℃) / Heat pump cycle superheat at time $ t $ with date $ d $  \n",
    "$q_{out,H,hs,d,t}$：日付$d$の時刻$t$における熱源機の平均暖房出力(kW) / Average heating output of heat source machine at time $ t $ of date $ d $  \n",
    "$\\theta_{ex,d,t}$：日付$d$の時刻$t$における外気温度(℃) / Outside temperature at time $ t $ of date $ d $  \n",
    "$h_{ex,d,t}$：日付$d$の時刻$t$における外気相対湿度(℃) / Relative humidity at the time $ t $ of date $ d $  \n",
    "$\\theta_{SW,d,t}$：日付$d$の時刻$t$における往き温水温度(℃) / Hot water temperature at time $ t $ with date $ d $"
   ]
  },
  {
   "cell_type": "markdown",
   "metadata": {},
   "source": [
    "$\\theta_{ref,evp,d,t} < -50$のときは$\\theta_{ref,evp,d,t} = -50$とし、$\\theta_{ref,cnd,d,t} > 65$のときは$\\theta_{ref,cnd,d,t} = 65$とし、$\\theta_{ref,SC,d,t} < 0$のときは$\\theta_{ref,SC,d,t} = 0$とし、$\\theta_{ref,SH,d,t} < 0$のときは$\\theta_{ref,SH,d,t} = 0$とする。"
   ]
  },
  {
   "cell_type": "markdown",
   "metadata": {},
   "source": [
    "If $\\theta_{ref, evp, d, t} <-50$, then $\\theta_{ref, evp, d, t} = -50$, \n",
    "and when $\\theta_{ref, cnd, d, t}> 65$, then $\\theta_{ref, cnd, d, t} = 65$, \n",
    "and when $\\theta_{ref, SC, d, t} <0$, then $\\theta_{ref, SC, d,t} = 0$ \n",
    "and when $\\theta_{ref, SH, d, t} <0$, then $\\theta_{ref, SH, d, t} = 0$."
   ]
  },
  {
   "cell_type": "code",
   "execution_count": null,
   "metadata": {},
   "outputs": [],
   "source": [
    "# ヒートポンプサイクルの蒸発温度 (6)\n",
    "def get_Theta_ref_evp_d_t(q_out_H_hs_d_t, Theta_ex_d_t, h_ex_d_t):\n",
    "    Theta_ref_evp_d_t = -1.043 * q_out_H_hs_d_t + 1.008 * Theta_ex_d_t + 0.032 * h_ex_d_t - 4.309\n",
    "\n",
    "    # Theta_ref_evp_d_t < -50 のときは Theta_ref_evp_d_t = -50 とする\n",
    "    return np.clip(Theta_ref_evp_d_t, -50, None)\n",
    "\n",
    "\n",
    "# ヒートポンプサイクルの凝縮温度 (7)\n",
    "def get_Theta_ref_cnd_d_t(Theta_SW_d_t, q_out_H_hs_d_t):\n",
    "    Theta_ref_cnd_d_t = 0.961 * Theta_SW_d_t + 0.409 * q_out_H_hs_d_t + 3.301\n",
    "\n",
    "    # Theta_ref_cnd_d_t > 65 のときは Theta_ref_cnd_d_t = 65 とする\n",
    "    ## C#に合わせて 60上限とする\n",
    "    return np.clip(Theta_ref_cnd_d_t, None, 60)\n",
    "\n",
    "\n",
    "# ヒートポンプサイクルの過冷温度 (8)\n",
    "def get_Theta_ref_SC_d_t(Theta_SW_d_t, q_out_H_hs_d_t):\n",
    "    Theta_ref_SC_d_t = -0.101 * Theta_SW_d_t - 0.180 * q_out_H_hs_d_t + 7.162\n",
    "\n",
    "    # Theta_ref_SC_d_t < 0 のときは Theta_ref_SC_d_t = 0 とする\n",
    "    return np.clip(Theta_ref_SC_d_t, 0, None)\n",
    "\n",
    "\n",
    "# ヒートポンプサイクルの過熱度 (9)\n",
    "def get_Theta_ref_SH_d_t(q_out_H_hs_d_t, Theta_ex_d_t):\n",
    "    Theta_ref_SH_d_t = -0.187 * q_out_H_hs_d_t + 0.142 * Theta_ex_d_t + 1.873\n",
    "\n",
    "    # Theta_ref_SH_d_t < 0 のときは Theta_ref_SH_d_t = 0 とする\n",
    "    return np.clip(Theta_ref_SH_d_t, 0, None)"
   ]
  },
  {
   "cell_type": "markdown",
   "metadata": {},
   "source": [
    "$q_{loss,H,hs,d,t}$が0を下回る場合は、0とする。"
   ]
  },
  {
   "cell_type": "markdown",
   "metadata": {},
   "source": [
    "If $ q_{loss, H, hs, d, t} $ is less than 0, then 0."
   ]
  },
  {
   "cell_type": "markdown",
   "metadata": {},
   "source": [
    "$$\\large\n",
    "q_{loss,H,hs,d,t} = \\left\\{ \\begin{array}{ll}\n",
    "    0.004 \\times (\\theta_{SW,d,t} - \\theta_{ex,d,t}) & (Q_{dmd,H,hs,RAC,d,t} = 0)\\\\ \n",
    "    0.010 \\times (\\theta_{SW,d,t} - \\theta_{ex,d,t}) & (Q_{dmd,H,hs,RAC,d,t} > 0)\\\\ \n",
    "    \\end{array}\n",
    "\\right.\n",
    "$$"
   ]
  },
  {
   "cell_type": "markdown",
   "metadata": {},
   "source": [
    "$Q_{dmd,H,hs,RAC,d,t}$：日付$d$の時刻$t$における1時間当たりの熱源機のルームエアコンディショナー部の熱需要(MJ/h) / Heat demand of room air conditioner unit of heat source unit per hour at time $ t $ of date $ d $  "
   ]
  },
  {
   "cell_type": "code",
   "execution_count": null,
   "metadata": {},
   "outputs": [],
   "source": [
    "# 熱源機内の平均放熱温度 (10)\n",
    "def get_q_loss_H_hs_d_t(Theta_SW_d_t, Theta_ex_d_t, Q_dmd_H_hs_RAC_d_t):\n",
    "    # q_loss_H_hs_d_t が0を下回る場合は 0\n",
    "    q_loss_H_hs_d_t = np.zeros(24 * 365)\n",
    "\n",
    "    # Q_dmd_H_hs_RAC_d_t = 0 の場合\n",
    "    f1 = Q_dmd_H_hs_RAC_d_t == 0\n",
    "    q_loss_H_hs_d_t[f1] = 0.004 * (Theta_SW_d_t[f1] - Theta_ex_d_t[f1])\n",
    "\n",
    "    # Q_dmd_H_hs_RAC_d_t > 0 の場合\n",
    "    f2 = Q_dmd_H_hs_RAC_d_t > 0\n",
    "    q_loss_H_hs_d_t[f2] = 0.010 * (Theta_SW_d_t[f2] - Theta_ex_d_t[f2])\n",
    "\n",
    "    return q_loss_H_hs_d_t"
   ]
  },
  {
   "cell_type": "markdown",
   "metadata": {},
   "source": [
    "#### 7.3 補機の消費電力量 / Power consumption of auxiliary equipment"
   ]
  },
  {
   "cell_type": "markdown",
   "metadata": {},
   "source": [
    "$$\\large\n",
    "E_{aux,hs,d,t} = \\left\\{ \\begin{array}{ll}\n",
    "    0.034 \\times q_{out,H,hs,d,t} + 0.123 & (Q_{dmd,H,hs,RAC,d,t} = 0)\\\\ \n",
    "    0.020 \\times q_{out,H,hs,d,t} + 0.132 & (Q_{dmd,H,hs,RAC,d,t} > 0)\\\\ \n",
    "    \\end{array}\n",
    "\\right.\n",
    "$$"
   ]
  },
  {
   "cell_type": "markdown",
   "metadata": {},
   "source": [
    "$E_{aux,hs,d,t}$：日付$d$の時刻$t$における1時間当たりの補機の消費電力量(kWh/h) / Power consumption of accessory per hour at time $ t $ of date $ d $  \n",
    "$q_{out,H,hs,d,t}$：日付$d$の時刻$t$における熱源機の平均暖房出力(kW) / Average heating output of heat source machine at time $ t $ of date $ d $    \n",
    "$Q_{dmd,H,hs,RAC,d,t}$：日付$d$の時刻$t$における1時間当たりの熱源機のルームエアコンディショナー部の熱需要(MJ/h) / Heat demand of room air conditioner unit of heat source unit per hour at time $ t $ of date $ d $  "
   ]
  },
  {
   "cell_type": "code",
   "execution_count": null,
   "metadata": {},
   "outputs": [],
   "source": [
    "# 1時間当たりの補機の消費電力量 (11)\n",
    "def get_E_aux_hs_d_t(q_out_H_hs_d_t, Q_dmd_H_hs_RAC_d_t):\n",
    "    \"\"\"\n",
    "    :param q_out_H_hs_d_t: 熱源機の平均暖房出力 (kW)\n",
    "    :param Q_dmd_H_hs_RAC_d_t: 1時間当たりの熱源機のルームエアコンディショナー部の熱需要 (MJ/h)\n",
    "    :return: 1時間当たりの補機の消費電力量 (kWh/h)\n",
    "    \"\"\"\n",
    "    E_aux_hs_d_t = np.zeros(24 * 365)\n",
    "\n",
    "    # Q_dmd_H_hs_RAC_d_t = 0 の場合\n",
    "    f1 = Q_dmd_H_hs_RAC_d_t == 0\n",
    "    E_aux_hs_d_t[f1] = 0.034 * q_out_H_hs_d_t[f1] + 0.123\n",
    "\n",
    "    # Q_dmd_H_hs_RAC_d_t > 0 の場合\n",
    "    f2 = Q_dmd_H_hs_RAC_d_t > 0\n",
    "    E_aux_hs_d_t[f2] = 0.020 * q_out_H_hs_d_t[f2] + 0.132\n",
    "\n",
    "    return E_aux_hs_d_t"
   ]
  },
  {
   "cell_type": "markdown",
   "metadata": {},
   "source": [
    "#### 7.4 熱源機の暖房出力と未処理暖房負荷 / Heating output of heat source machine and unprocessed heating load"
   ]
  },
  {
   "cell_type": "markdown",
   "metadata": {},
   "source": [
    "$$\\large\n",
    "q_{out,H,hs,d,t} = Q_{out,H,hs,d,t} \\div 3600 \\times 10^{3}\n",
    "$$"
   ]
  },
  {
   "cell_type": "markdown",
   "metadata": {},
   "source": [
    "$q_{out,H,hs,d,t}$：日付$d$の時刻$t$における熱源機の平均暖房出力(kW) / Average heating output of heat source machine at time $ t $ of date $ d $  \n",
    "$Q_{out,H,hs,d,t}$：日付$d$の時刻$t$における1時間当たりの熱源機暖房出力(MJ/h) / Heat source machine heating output per hour at time $ t $ of date $ d $  "
   ]
  },
  {
   "cell_type": "code",
   "execution_count": null,
   "metadata": {},
   "outputs": [],
   "source": [
    "# 熱源機の平均暖房出力 (12)\n",
    "def get_q_out_H_hs_d_t(Q_out_H_hs_d_t):\n",
    "    \"\"\"\n",
    "    :param Q_out_H_hs_d_t: 1時間当たりの熱源機暖房出力 (MJ/h)\n",
    "    :return: 熱源機の平均暖房出力 (kW)\n",
    "    \"\"\"\n",
    "    return Q_out_H_hs_d_t / 3600 * 10 ** 3"
   ]
  },
  {
   "cell_type": "markdown",
   "metadata": {},
   "source": [
    "$$\\large\n",
    "Q_{UT,H,hs,d,t} = Q_{dmd,H,hs,d,t} - Q_{out,H,hs,d,t}\n",
    "$$"
   ]
  },
  {
   "cell_type": "markdown",
   "metadata": {},
   "source": [
    "$Q_{UT,H,hs,d,t}$：日付$d$の時刻$t$における1時間当たりの熱源機の未処理暖房負荷(MJ/h) / Raw heating load of heat source unit per hour at time $ t $ of date $ d $  \n",
    "$Q_{dmd,H,hs,d,t}$：日付$d$の時刻$t$における1時間当たりの熱源機の熱需要(MJ/h) / Heat demand of heat source machine per hour at time $ t $ of date $ d $  "
   ]
  },
  {
   "cell_type": "code",
   "execution_count": null,
   "metadata": {},
   "outputs": [],
   "source": [
    "# 1時間当たりの熱源機の未処理暖房負荷 (13)\n",
    "def get_Q_UT_H_hs_d_t(Q_dmd_H_hs_d_t, Q_out_H_hs_d_t):\n",
    "    \"\"\"\n",
    "    :param Q_dmd_H_hs_d_t: 1時間当たりの熱源機の熱需要 (MJ/h)\n",
    "    :param Q_out_H_hs_d_t: 1時間当たりの熱源機暖房出力 (MJ/h)\n",
    "    :return: 1時間当たりの熱源機の未処理暖房負荷 (MJ/h)\n",
    "    \"\"\"\n",
    "    return Q_dmd_H_hs_d_t - Q_out_H_hs_d_t"
   ]
  },
  {
   "cell_type": "markdown",
   "metadata": {},
   "source": [
    "$$\\large\n",
    "Q_{out,H,hs,d,t} = \\left\\{ \\begin{array}{ll}\n",
    "    Q_{dmd,H,hs,d,t} & (Q_{dmd,H,hs,d,t} \\leq Q_{max,H,hs,d,t})\\\\ \n",
    "    Q_{max,H,hs,d,t} & (Q_{dmd,H,hs,d,t} > Q_{max,H,hs,d,t})\\\\ \n",
    "    \\end{array}\n",
    "\\right.\n",
    "$$"
   ]
  },
  {
   "cell_type": "markdown",
   "metadata": {},
   "source": [
    "$Q_{max,H,hs,d,t}$：日付$d$の時刻$t$における1時間当たりの熱源機の最大暖房出力(MJ/h) / Maximum heating output of heat source unit per hour at time $ t $ of date $ d $"
   ]
  },
  {
   "cell_type": "code",
   "execution_count": null,
   "metadata": {},
   "outputs": [],
   "source": [
    "# 1時間当たりの熱源機暖房出力 (14)\n",
    "def get_Q_out_H_hs_d_t(Q_dmd_H_hs_d_t, Q_max_H_hs_d_t):\n",
    "    \"\"\"\n",
    "    :param Q_dmd_H_hs_d_t: 1時間当たりの熱源機の熱需要 (MJ/h)\n",
    "    :param Q_max_H_hs_d_t: 1時間当たりの熱源機の最大暖房出力 (MJ/h)\n",
    "    :return: 1時間当たりの熱源機暖房出力 (MJ/h)\n",
    "    \"\"\"\n",
    "    Q_out_H_hs_d_t = np.zeros(24 * 365)\n",
    "\n",
    "    # Q_dmd_H_hs_dt <= Q_max_H_hs_d_t の場合\n",
    "    f1 = Q_dmd_H_hs_d_t <= Q_max_H_hs_d_t\n",
    "    Q_out_H_hs_d_t[f1] = Q_dmd_H_hs_d_t[f1]\n",
    "\n",
    "    # Q_dmd_H_hs_dt > Q_max_H_hs_d_t の場合\n",
    "    f2 = Q_dmd_H_hs_d_t > Q_max_H_hs_d_t\n",
    "    Q_out_H_hs_d_t[f2] = Q_max_H_hs_d_t[f2]\n",
    "\n",
    "    return Q_out_H_hs_d_t"
   ]
  },
  {
   "cell_type": "markdown",
   "metadata": {},
   "source": [
    "$$\\large\n",
    "Q_{max,H,hs,d,t} = (11.62 + 0.2781 \\times \\theta_{ex,d,t} - 0.00113 \\times \\theta^2_{ex,d,t} - 0.1271 \\times \\theta_{SW,d,t} \\\\\n",
    "\\large\n",
    "- 0.00363 \\times \\theta_{ex,d,t} \\times \\theta_{SW,d,t}) \\times \\frac{q_{max,H,hs} \\times 0.8}{6} \\times \\frac{C_{df,d,t}}{0.85} \\times 3600 \\times 10^{-6}\n",
    "$$"
   ]
  },
  {
   "cell_type": "markdown",
   "metadata": {},
   "source": [
    "$\\theta_{ex,d,t}$：日付$d$の時刻$t$における外気温度(℃) / Outside temperature at time $ t $ of date $ d $  \n",
    "$\\theta_{SW,d,t}$：日付$d$の時刻$t$における往き温水温度(℃) / Hot water temperature at time $ t $ with date $ d $  \n",
    "$C_{df,H,d,t}$：日付$d$の時刻$t$におけるデフロストに関する暖房出力補正係数 / Heating output correction factor for defrost at time $ t $ of date $ d $  \n",
    "$q_{max,H,hs}$：熱源機の最大暖房能力(W) / Maximum heating capacity of heat source machine  "
   ]
  },
  {
   "cell_type": "markdown",
   "metadata": {},
   "source": [
    "日付$d$の時刻$t$におけるデフロストに関する暖房出力補正係数$C_{df,H,d,t}$は、日付$d$の時刻$t$における外気温度$\\theta_{ex,d,t}$が5℃未満かつ日付$d$の時刻$t$における外気相対湿度$h_{ex,d,t}$が80％以上の場合は0.85とし、それ以外の場合は1.0とする。 "
   ]
  },
  {
   "cell_type": "markdown",
   "metadata": {},
   "source": [
    "Heating output correction factor $ C_ {df, H, d, t} $ for defrost at time $ t $ on date $ d $ is 0.85 when outside temperature $ \\theta_{ex, d, t} $ at time $ t $ with date $ d $ is less than 5°C and relative humidity at the time $ t $ of date $ d $ $ h_{ex, d, t} $ is 80% or more, and is otherwise 1.0."
   ]
  },
  {
   "cell_type": "code",
   "execution_count": null,
   "metadata": {},
   "outputs": [],
   "source": [
    "# 熱源機の最大暖房出力 (15)\n",
    "def get_Q_max_H_hs_d_t(Theta_ex_d_t, Theta_SW_d_t, q_max_H_hs, h_ex_d_t):\n",
    "    \"\"\"\n",
    "    :param q_max_H_hs: 熱源機の最大暖房出力 (W)\n",
    "    :param Theta_SW_d_t: 往き温水温度 (℃)\n",
    "    :param Theta_ex_d_t: 外気温度 (℃)\n",
    "    :param h_ex_d_t: 外気相対湿度\n",
    "    :return: 熱源機の最大暖房出力 (MJ/h)\n",
    "    \"\"\"\n",
    "    # デフロストに関する暖房出力補正係数\n",
    "    # ※ (15)式の直下に書かれており、(4)式のそれと被るため、あえてここに記述します。\n",
    "    C_df_H_d_t = np.ones(24 * 365)\n",
    "    C_df_H_d_t[np.logical_and(Theta_ex_d_t < 5, h_ex_d_t >= 80.0)] = 0.85\n",
    "\n",
    "    # 熱源機の最大暖房出力\n",
    "    Q_max_H_hs_d_t = (11.62 + 0.2781 * Theta_ex_d_t - 0.00113 * Theta_ex_d_t ** 2 - 0.1271 * Theta_SW_d_t\n",
    "                      - 0.00363 * Theta_ex_d_t * Theta_SW_d_t) * (q_max_H_hs * 0.8 / 6) * \\\n",
    "                     (C_df_H_d_t / 0.85) * 3600 / 10 ** 6\n",
    "\n",
    "    return Q_max_H_hs_d_t"
   ]
  },
  {
   "cell_type": "markdown",
   "metadata": {},
   "source": [
    "$$\\large\n",
    "q_{max,H,hs} = q_{rq,H} \\times A_{HCZ} \\times f_{cT} \\times f_{cI}\n",
    "$$"
   ]
  },
  {
   "cell_type": "markdown",
   "metadata": {},
   "source": [
    "$q_{rq,H}$：単位面積当たりの必要暖房能力(W/m<sup>2</sup>) / Required heating capacity per unit area  \n",
    "$A_{HCZ}$：暖冷房区画の床面積(m<sup>2</sup>) / Floor area of heating and cooling compartment  \n",
    "$f_{cT}$：外気温度能力補正係数 / Outside air temperature ability correction factor  \n",
    "$f_{cI}$：間歇運転能力補正係数 / Intermittent driving ability correction factor  "
   ]
  },
  {
   "cell_type": "code",
   "execution_count": null,
   "metadata": {},
   "outputs": [],
   "source": [
    "# 熱源機の最大暖房能力 (16)\n",
    "def get_q_max_H_hs(region, A_HCZ, R_type):\n",
    "    \"\"\"\n",
    "    :param region: 省エネルギー地域区分\n",
    "    :param A_HCZ: 暖冷房区画の床面積 (m2)\n",
    "    :param R_type: 暖冷房区画の種類\n",
    "    :return: 熱源機の最大暖房能力 (W/m2)\n",
    "    \"\"\"\n",
    "    # 単位面積当たりの必要暖房能力 (W/m2)\n",
    "    q_rq_H = get_q_rq_H(region, R_type)\n",
    "\n",
    "    # 外気温度能力補正係数\n",
    "    f_cT = get_f_cT()\n",
    "\n",
    "    # 間歇運転能力補正係数\n",
    "    f_cI = get_f_cI(R_type)\n",
    "\n",
    "    return q_rq_H * A_HCZ * f_cT * f_cI"
   ]
  },
  {
   "cell_type": "markdown",
   "metadata": {},
   "source": [
    "外気温度能力補正係数$f_{cT}$は、1.05の値とする。間歇運転能力補正係数$f_{cI}$は、主たる居室の場合3.03とし、その他の居室の場合1.62とする。 "
   ]
  },
  {
   "cell_type": "markdown",
   "metadata": {},
   "source": [
    "The outside air temperature ability correction coefficient $ f_{cT} $ has a value of 1.05. The intermittent operation ability correction coefficient $ f_{cI} $ is set to 3.03 for the main room and 1.62 for the other rooms."
   ]
  },
  {
   "cell_type": "markdown",
   "metadata": {},
   "source": [
    "<div style=\"text-align: center;font-weight: bold;\">表　単位面積当たりの必要暖房能力(W/m<sup>2</sup>)<br>Table: Required heating capacity per unit area</div>\n",
    "\n",
    "|地域の区分<br>Segmentation of area|主たる居室<br>Main room|その他の居室<br>Other rooms|\n",
    "|-|-|-|\n",
    "|1|139.26|62.28|\n",
    "|2|120.65|53.26|\n",
    "|3|111.32|53.81|\n",
    "|4|118.98|55.41|\n",
    "|5|126.56|59.43|\n",
    "|6|106.48|49.93|\n",
    "|7|112.91|53.48|\n",
    "|8|-|-|\n"
   ]
  },
  {
   "cell_type": "code",
   "execution_count": null,
   "metadata": {},
   "outputs": [],
   "source": [
    "# 単位面積当たりの必要暖房能力\n",
    "def get_q_rq_H(region, R_type):\n",
    "    \"\"\"\n",
    "    :param region: 省エネルギー地域区分\n",
    "    :param R_type: 暖冷房区画の種類\n",
    "    :return: 単位面積当たりの必要暖房能力 (W/m2)\n",
    "    \"\"\"\n",
    "    if R_type == '主たる居室':\n",
    "        return table_3[region - 1][0]\n",
    "    elif R_type == 'その他の居室':\n",
    "        return table_3[region - 1][1]\n",
    "    else:\n",
    "        raise ValueError(R_type)\n",
    "        \n",
    "# 外気温度能力補正係数\n",
    "def get_f_cT():\n",
    "    return 1.05\n",
    "\n",
    "\n",
    "# 間歇運転能力補正係数\n",
    "def get_f_cI(R_type):\n",
    "    \"\"\"\n",
    "    :param R_type: 暖冷房区画の種類\n",
    "    :return: 間歇運転能力補正係数\n",
    "    \"\"\"\n",
    "    if R_type == '主たる居室':\n",
    "        return 3.03\n",
    "    elif R_type == 'その他の居室':\n",
    "        return 1.62\n",
    "    else:\n",
    "        raise NotImplementedError()\n",
    "\n",
    "\n",
    "# 表3 単位面積当たりの必要暖房能力 (W/m2)\n",
    "table_3 = [\n",
    "    (139.26, 62.28),\n",
    "    (120.65, 53.26),\n",
    "    (111.32, 53.81),\n",
    "    (118.98, 55.41),\n",
    "    (126.56, 59.43),\n",
    "    (106.48, 49.93),\n",
    "    (112.91, 53.48),\n",
    "    (None, None)\n",
    "]"
   ]
  },
  {
   "cell_type": "markdown",
   "metadata": {},
   "source": [
    "#### 7.5 熱源機の熱需要 / Heat demand of heat source machine"
   ]
  },
  {
   "cell_type": "markdown",
   "metadata": {},
   "source": [
    "#### 7.5.1 熱源機の熱需要 / Heat demand of heat source machine"
   ]
  },
  {
   "cell_type": "markdown",
   "metadata": {},
   "source": [
    "$$\\large\n",
    "Q_{dmd,H,hs,d,t} = Q_{dmd,H,hs,FH,d,t} + Q_{dmd,H,hs,RAC,d,t}\n",
    "$$"
   ]
  },
  {
   "cell_type": "markdown",
   "metadata": {},
   "source": [
    "$Q_{dmd,H,hs,d,t}$：日付$d$の時刻$t$における1時間当たりの熱源機の熱需要(MJ/h) / Heat demand of heat source machine per hour at time $ t $ of date $ d $  \n",
    "$Q_{dmd,H,hs,FH,d,t}$：日付$d$の時刻$t$における1時間当たりの熱源機の温水床暖房部の熱需要(MJ/h) / Heat demand of hot-bed floor heating unit of heat-source unit per hour at time $ t $ of date $ d $   \n",
    "$Q_{dmd,H,hs,RAC,d,t}$：日付$d$の時刻$t$における1時間当たりの熱源機のルームエアコンディショナー部の熱需要(MJ/h) / Heat demand of room air conditioner unit of heat source unit per hour at time $ t $ of date $ d $  "
   ]
  },
  {
   "cell_type": "code",
   "execution_count": null,
   "metadata": {},
   "outputs": [],
   "source": [
    "# 1時間当たりの熱源機の熱需要 (17)\n",
    "def get_Q_dmd_H_hs_d_t(Q_dmd_H_hs_FH_d_t, Q_dmd_H_hs_RAC_d_t):\n",
    "    # 1時間当たりの熱源機の熱需要\n",
    "    Q_dmd_H_hs_d_t = Q_dmd_H_hs_FH_d_t + Q_dmd_H_hs_RAC_d_t\n",
    "\n",
    "    return Q_dmd_H_hs_d_t"
   ]
  },
  {
   "cell_type": "markdown",
   "metadata": {},
   "source": [
    "#### 7.5.2 熱源機の温水床暖房部の熱需要 / Heat demand of the hot-water floor heating unit of the heat source machine"
   ]
  },
  {
   "cell_type": "markdown",
   "metadata": {},
   "source": [
    "$$\\large\n",
    "Q_{dmd,H,hs,FH,d,t} = Q_{T,H,FH,d,t} + Q_{loss,FH,d,t} + Q_{loss,pp,d,t}\n",
    "$$"
   ]
  },
  {
   "cell_type": "markdown",
   "metadata": {},
   "source": [
    "$Q_{dmd,H,hs,FH,d,t}$：日付$d$の時刻$t$における1時間当たりの熱源機の温水床暖房部の熱需要(MJ/h) / Heat demand of hot-bed floor heating unit of heat-source unit per hour at time $ t $ of date $ d $   \n",
    "$Q_{T,H,FH,d,t}$：日付$d$の時刻$t$における1時間当たりの温水床暖房の処理暖房負荷(MJ/h) / Processing heating load of heated floor heating per hour at time $ t $ on date $ d $  \n",
    "$Q_{loss,FH,d,t}$：日付$d$の時刻$t$における1時間当たりの温水床暖房の放熱損失(MJ/h) / Heat dissipation loss of heated floor heating per hour at time $ t $ of date $ d $  \n",
    "$Q_{loss,pp,d,t}$：日付$d$の時刻$t$における1時間当たりの配管の放熱損失(MJ/h) / Heat dissipation loss of piping per hour at time $ t $ of date $ d $  "
   ]
  },
  {
   "cell_type": "code",
   "execution_count": null,
   "metadata": {},
   "outputs": [],
   "source": [
    "# 1時間当たりの熱源機の温水床暖房部の熱需要 (18)\n",
    "def get_Q_dmd_H_hs_FH_d_t(i, A_A_act, r_up, has_pipe, Theta_SW_d_t, Theta_ex_d_t, Q_max_H_floor_d_t,\n",
    "                          Q_T_H_d_t):\n",
    "    \"\"\"\n",
    "    :param i: 暖冷房区画の番号\n",
    "    :param A_A_act: 当該住戸における床面積の合計 (m2)\n",
    "    :param r_up: 当該住戸の温水床暖房の上面放熱率\n",
    "    :param has_pipe: 配管断熱の有無\n",
    "    :param Theta_SW_d_t: 往き温水温度(℃)\n",
    "    :param Theta_ex_d_t: 外気温度(℃)\n",
    "    :param Q_max_H_floor_d_t: 1時間当たりの温水床暖房の最大暖房出力 (MJ/h)\n",
    "    :param Q_T_H_d_t: 1時間当たりの処理暖房負荷 (MJ/h)\n",
    "    :return: 1時間当たりの熱源機の温水床暖房部の熱需要 (MJ/h)\n",
    "    \"\"\"\n",
    "    # 配管の断熱区画外における長さ (20a)\n",
    "    L_pp_ex = get_L_pp_ex(i, A_A_act)\n",
    "\n",
    "    # 配管の断熱区間内における長さ (20b)\n",
    "    L_pp_in = get_L_pp_in(i, A_A_act)\n",
    "\n",
    "    # 1時間当たりの温水床暖房の処理暖房負荷\n",
    "    Q_T_H_FH_d_t = get_Q_T_H_FH_d_t(Q_T_H_d_t, Q_max_H_floor_d_t)\n",
    "\n",
    "    # 温水床暖房の温水供給運転率\n",
    "    r_WS_rad_d_t = get_r_WS_rad_d_t(Q_T_H_FH_d_t, Q_max_H_floor_d_t)\n",
    "\n",
    "    # 1時間当たりの配管の放熱損失 (19)\n",
    "    Q_loss_pp_d_t = get_Q_loss_pp_d_t(Theta_SW_d_t, Theta_ex_d_t, L_pp_ex, L_pp_in, has_pipe, r_WS_rad_d_t)\n",
    "\n",
    "    # 1時間当たりの温水床暖房の放熱損失\n",
    "    Q_loss_FH_d_t = get_Q_loss_FH_d_t(Q_T_H_FH_d_t, r_up)\n",
    "\n",
    "    # 1時間当たりの熱源機の温水床暖房部の熱需要 (18)\n",
    "    Q_dmd_H_hs_FH_d_t = Q_T_H_FH_d_t + Q_loss_FH_d_t + Q_loss_pp_d_t\n",
    "\n",
    "    return Q_dmd_H_hs_FH_d_t"
   ]
  },
  {
   "cell_type": "markdown",
   "metadata": {},
   "source": [
    "$$\\large\n",
    "Q_{loss,pp,d,t} = \\Bigl( \\bigl( \\theta_{SW,d,t} - (\\theta_{ex,d,t} \\times 0.7 + 20 \\times 0.3) \\bigr) \\times \n",
    "L_{pp,ex} + (\\theta_{SW,d,t} - 20) \\times L_{pp,in} \\Bigr) \\times K_{loss,pp} \\\\\n",
    "\\large\n",
    "\\times r_{WS,rad,d,t} \\times 3600 \\times 10^{-6}\n",
    "$$"
   ]
  },
  {
   "cell_type": "markdown",
   "metadata": {},
   "source": [
    "$\\theta_{SW,d,t}$：日付$d$の時刻$t$における往き温水温度(℃) / Hot water temperature at time $ t $ with date $ d $   \n",
    "$\\theta_{ex,d,t}$：日付$d$の時刻$t$における外気温度(℃) / Outside temperature at time $ t $ of date $ d $  \n",
    "$L_{pp,ex}$：配管の断熱区画外における長さ(m) / Length outside the adiabatic section of piping  \n",
    "$L_{pp,in}$：配管の断熱区画内における長さ(m) / Length in the adiabatic section of the piping  \n",
    "$K_{loss,pp}$：配管の線熱損失係数(W/mK) / Line heat loss coefficient of piping   \n",
    "$r_{WS,rad,d,t}$：日付$d$の時刻$t$における温水床暖房の温水供給運転率 / Hot water supply operation rate of heated floor heating at time $ t $ of date $ d $  "
   ]
  },
  {
   "cell_type": "code",
   "execution_count": null,
   "metadata": {},
   "outputs": [],
   "source": [
    "# 配管の熱損失 (19)\n",
    "def get_Q_loss_pp_d_t(Theta_SW_d_t, Theta_ex_d_t, L_pp_ex, L_pp_in, has_pipe, r_WS_rad_d_t):\n",
    "    \"\"\"\n",
    "    :param Theta_SW_d_t: 往き温水温度(℃)\n",
    "    :param Theta_ex_d_t: 外気温度(℃)\n",
    "    :param L_pp_ex: 配管の断熱区間外における長さ(m)\n",
    "    :param L_pp_in: 配管の断熱区間内における長さ(m)\n",
    "    :param has_pipe: 配管断熱の有無\n",
    "    :param r_WS_rad_d_t: 温水床暖房の温水供給運転率\n",
    "    :return: 1時間当たりの配管の放熱損失\n",
    "    \"\"\"\n",
    "\n",
    "    # 配管の線熱損失係数 (W/mK)\n",
    "    K_loss_pp = get_K_loss_pp(has_pipe)\n",
    "\n",
    "    return ((Theta_SW_d_t - (Theta_ex_d_t * 0.7 + 20 * 0.3)) * L_pp_ex + (\n",
    "            Theta_SW_d_t - 20) * L_pp_in) * K_loss_pp * r_WS_rad_d_t * 3600 / 1000000"
   ]
  },
  {
   "cell_type": "markdown",
   "metadata": {},
   "source": [
    "$$\\large\n",
    "L_{pp,ex} = L_{pp,ex,R} \\times \\sqrt{\\frac{A_{A,act}}{A_{A,R}}} \\\\\n",
    "$$\n",
    "\n",
    "$$\\large\n",
    "L_{pp,in} = L_{pp,in,R} \\times \\sqrt{\\frac{A_{A,act}}{A_{A,R}}} \\\\\n",
    "$$"
   ]
  },
  {
   "cell_type": "markdown",
   "metadata": {},
   "source": [
    "$L_{pp,ex,R}$, $L_{pp,in,R}$：暖冷房区画ごとに表により表される係数 / Coefficients represented by a table for each heating and cooling section  \n",
    "$A_{A,act}$：当該住戸における床面積の合計(m<sup>2</sup>) / Total floor area of the dwelling unit  \n",
    "$A_{A,R}$：標準住戸における床面積の合計(m<sup>2</sup>) / Total floor space of standard dwelling units  "
   ]
  },
  {
   "cell_type": "code",
   "execution_count": null,
   "metadata": {},
   "outputs": [],
   "source": [
    "# 配管の断熱区画外における長さ (20a)\n",
    "def get_L_pp_ex(i, A_A_act):\n",
    "    \"\"\"\n",
    "    :param i: 暖冷房区画の番号\n",
    "    :param A_A_act: 当該住戸における床面積の合計(m2)\n",
    "    :return: 配管の断熱区画外における長さ(m)\n",
    "    \"\"\"\n",
    "\n",
    "    # 暖冷房区画ごとに表4に表される係数\n",
    "    L_pp_ex_R = get_L_pp_ex_R(i)\n",
    "\n",
    "    # 標準住戸における床面積の合計\n",
    "    A_A_R = get_A_A_R()\n",
    "\n",
    "    # 配管の断熱区画外における長さ\n",
    "    L_pp_ex = L_pp_ex_R * sqrt(A_A_act / A_A_R)\n",
    "\n",
    "    return L_pp_ex\n",
    "\n",
    "\n",
    "# 配管の断熱区間内における長さ (20b)\n",
    "def get_L_pp_in(i, A_A_act):\n",
    "    \"\"\"\n",
    "    :param i: 暖冷房区画の番号\n",
    "    :param A_A_act: 当該住戸における床面積の合計(m2\n",
    "    :return: 配管の断熱区画内における長さ(m)\n",
    "    \"\"\"\n",
    "\n",
    "    # 暖冷房区画ごとに表4に表される係数\n",
    "    L_pp_in_R = get_L_pp_in_R(i)\n",
    "\n",
    "    # 標準住戸における床面積の合計\n",
    "    A_A_R = get_A_A_R()\n",
    "\n",
    "    # 配管の断熱区画内における長さ\n",
    "    L_pp_in = L_pp_in_R * sqrt(A_A_act / A_A_R)\n",
    "\n",
    "    return L_pp_in\n",
    "\n",
    "\n",
    "# 暖冷房区画ごとに表4に表される係数 L_pp_ex_R\n",
    "def get_L_pp_ex_R(i):\n",
    "    \"\"\"\n",
    "    :param i: 暖冷房区画の番号\n",
    "    :return: 暖冷房区画ごとに表4に表される係数\n",
    "    \"\"\"\n",
    "    if i == 1:\n",
    "        return table_4[0][0]\n",
    "    elif i in [3, 4, 5]:\n",
    "        return table_4[0][i - 2]\n",
    "    else:\n",
    "        ValueError(i)\n",
    "\n",
    "\n",
    "# 暖冷房区画ごとに表4に表される係数 L_pp_in_R\n",
    "def get_L_pp_in_R(i):\n",
    "    \"\"\"\n",
    "    :param i: 暖冷房区画の番号\n",
    "    :return: 暖冷房区画ごとに表4に表される係数\n",
    "    \"\"\"\n",
    "    if i == 1:\n",
    "        return table_4[1][0]\n",
    "    elif i in [3, 4, 5]:\n",
    "        return table_4[1][i - 2]\n",
    "    else:\n",
    "        ValueError(i)"
   ]
  },
  {
   "cell_type": "markdown",
   "metadata": {},
   "source": [
    "標準住戸における床面積の合計$A_{A,R}$は、120.08とする。 "
   ]
  },
  {
   "cell_type": "markdown",
   "metadata": {},
   "source": [
    "The total floor area $ A_{A, R} $ in the standard dwelling unit is 120.08."
   ]
  },
  {
   "cell_type": "code",
   "execution_count": null,
   "metadata": {},
   "outputs": [],
   "source": [
    "# 標準住戸における床面積の合計\n",
    "def get_A_A_R():\n",
    "    \"\"\"\n",
    "    :return: 標準住戸における床面積の合計(m2\n",
    "    \"\"\"\n",
    "    return 120.08"
   ]
  },
  {
   "cell_type": "markdown",
   "metadata": {},
   "source": [
    "<div style=\"text-align: center;font-weight: bold;\">表　係数$L_{pp,ex,R}$及び$L_{pp,in,R}$<br>Table: Coefficients $ L_ {pp, ex, R} $ and $ L_ {pp, in, R} $</div>\n",
    "\n",
    "<table>\n",
    "<thead>\n",
    "<tr>\n",
    "<th rowspan=\"3\"></th>\n",
    "<th colspan=\"4\" style=\"text-align:center\">暖冷房区画の番号<br>Number of heating and cooling section</th>\n",
    "</tr>\n",
    "<tr>\n",
    "<th>1</th>\n",
    "<th>2</th>\n",
    "<th>3</th>\n",
    "<th>4</th>\n",
    "</tr>\n",
    "<tr>\n",
    "<th>居間・食堂・台所<br>Living room<br>dining room<br>kitchen</th>\n",
    "<th>主寝室<br>Master bedroom</th>\n",
    "<th>子供室１<br>Children's room 1</th>\n",
    "<th>子供室２<br>Children's room 2</th>\n",
    "</tr>\n",
    "</thead>\n",
    "\n",
    "<tbody>\n",
    "<tr>\n",
    "<th>$L_{pp,ex,R}$</th>\n",
    "<td>27.86</td>\n",
    "<td>0.00</td>\n",
    "<td>0.00</td>\n",
    "<td>0.00</td>\n",
    "</tr>\n",
    "<tr>\n",
    "<th>$L_{pp,in,R}$</th>\n",
    "<td>0.00</td>\n",
    "<td>16.54</td>\n",
    "<td>12.90</td>\n",
    "<td>20.30</td>\n",
    "</tr>\n",
    "</tbody>\n",
    "</table>\n"
   ]
  },
  {
   "cell_type": "code",
   "execution_count": null,
   "metadata": {},
   "outputs": [],
   "source": [
    "# 表4 係数L_pp_ex_R及びL_pp_in_R\n",
    "table_4 = [\n",
    "    (27.86, 0.00, 0.00, 0.00),\n",
    "    (0.00, 16.54, 12.90, 20.30)\n",
    "]"
   ]
  },
  {
   "cell_type": "markdown",
   "metadata": {},
   "source": [
    "配管の線熱損失係数$K_{loss,pp}$は、配管の断熱の有無によって区別し、配管のすべての部分について線熱損失係数が0.21（W/mK）を上回るものについては0.21とし、それ以外のものについては0.15とする。 "
   ]
  },
  {
   "cell_type": "markdown",
   "metadata": {},
   "source": [
    "The line heat loss coefficient $ K_{loss, pp} $ of piping is distinguished according to the presence or absence of heat insulation of piping, and 0.21 (W / mK) is assumed for the linear heat loss coefficient of all parts of piping, For other things, it is 0.15."
   ]
  },
  {
   "cell_type": "code",
   "execution_count": null,
   "metadata": {},
   "outputs": [],
   "source": [
    "# 配管の線熱損失係数\n",
    "def get_K_loss_pp(has_pipe):\n",
    "    \"\"\"\n",
    "    :param has_pipe: 配管の断熱の有無\n",
    "    :return: 配管の線熱損失係数 (W/mK)\n",
    "    \"\"\"\n",
    "    if has_pipe:\n",
    "        return 0.15\n",
    "    else:\n",
    "        return 0.21\n"
   ]
  },
  {
   "cell_type": "markdown",
   "metadata": {},
   "source": [
    "#### 7.5.3 熱源機のルームエアコンディショナー部の熱需要 / Heat demand of room air conditioner unit of heat source machine"
   ]
  },
  {
   "cell_type": "markdown",
   "metadata": {},
   "source": [
    "$$\\large\n",
    "Q_{dmd,H,hs,RAC,d,t} = Q_{T,H,RAC,d,t}\n",
    "$$"
   ]
  },
  {
   "cell_type": "markdown",
   "metadata": {},
   "source": [
    "$Q_{dmd,H,hs,RAC,d,t}$：日付$d$の時刻$t$における1時間当たりの熱源機のルームエアコンディショナー部の熱需要(MJ/h) / Heat demand of room air conditioner unit of heat source unit per hour at time $ t $ of date $ d $  \n",
    "$Q_{T,H,RAC,d,t}$：日付$d$の時刻$t$における1時間当たりのルームエアコンディショナーの処理暖房負荷(MJ/h) / Processing heating load of room air conditioner per hour at time $ t $ of date $ d $  "
   ]
  },
  {
   "cell_type": "code",
   "execution_count": null,
   "metadata": {},
   "outputs": [],
   "source": [
    "# 熱源機のルームエアコンディショナー部の熱需要 (21)\n",
    "def get_Q_dmd_H_hs_RAC_d_t(Q_T_H_d_t, Q_T_H_FH_d_t):\n",
    "    \"\"\"\n",
    "    :param Q_T_H_d_t: 1時間当たりの処理暖房負荷 (MJ/h)\n",
    "    :param Q_T_H_FH_d_t: 1時間当たりの温水床暖房の処理暖房負荷 (MJ/h)\n",
    "    :return: 熱源機のルームエアコンディショナー部の熱需要 (MJ/h)\n",
    "    \"\"\"\n",
    "    return get_Q_T_H_RAC_d_t(Q_T_H_d_t, Q_T_H_FH_d_t)"
   ]
  },
  {
   "cell_type": "markdown",
   "metadata": {},
   "source": [
    "#### 7.6 処理暖房負荷 / Processing heating load"
   ]
  },
  {
   "cell_type": "markdown",
   "metadata": {},
   "source": [
    "$$\\large\n",
    "Q_{T,H,FH,d,t} = \\left\\{ \\begin{array}{ll}\n",
    "    Q_{T,H,d,t} & (Q_{T,H,d,t} \\leq Q_{max,H,floor,d,t})\\\\ \n",
    "    Q_{max,H,floor,d,t} & (Q_{T,H,d,t} > Q_{max,H,floor,d,t})\\\\ \n",
    "    \\end{array}\n",
    "\\right.\n",
    "$$"
   ]
  },
  {
   "cell_type": "markdown",
   "metadata": {},
   "source": [
    "$$\\large\n",
    "Q_{T,H,RAC,d,t} = Q_{T,H,d,t} - Q_{T,H,FH,d,t}\n",
    "$$"
   ]
  },
  {
   "cell_type": "markdown",
   "metadata": {},
   "source": [
    "$Q_{T,H,FH,d,t}$：日付$d$の時刻$t$における1時間当たりの温水床暖房の処理暖房負荷(MJ/h) / Processing heating load of heated floor heating per hour at time $ t $ on date $ d $  \n",
    "$Q_{T,H,RAC,d,t}$：日付$d$の時刻$t$における1時間当たりのルームエアコンディショナーの処理暖房負荷(MJ/h) / Processing heating load of room air conditioner per hour at time $ t $ of date $ d $  \n",
    "$Q_{T,H,d,t}$：日付$d$の時刻$t$における1時間当たりの処理暖房負荷(MJ/h) / Processing heating load per hour at time $ t $ of date $ d $  \n",
    "$Q_{max,H,floor,d,t}$：日付$d$の時刻$t$における1時間当たりの温水床暖房の最大暖房出力(MJ/h) / Maximum heating output of heated floor heating per hour at time $ t $ on date $ d $  "
   ]
  },
  {
   "cell_type": "code",
   "execution_count": null,
   "metadata": {},
   "outputs": [],
   "source": [
    "# 温水床暖房の処理暖房負荷 (22)\n",
    "def get_Q_T_H_FH_d_t(Q_T_H_d_t, Q_max_H_floor_d_t):\n",
    "    \"\"\"\n",
    "    :param Q_T_H_d_t: 1時間当たりの処理暖房負荷 (MJ/h)\n",
    "    :param Q_max_H_floor_d_t: 1時間当たりの温水床暖房の最大暖房出力 (MJ/h)\n",
    "    :return: 温水床暖房の処理暖房負荷 (MJ/h)\n",
    "    \"\"\"\n",
    "\n",
    "    Q_T_H_FH_d_t = np.zeros(24*365)\n",
    "\n",
    "    f1 = Q_T_H_d_t <= Q_max_H_floor_d_t\n",
    "    Q_T_H_FH_d_t[f1] = Q_T_H_d_t[f1]\n",
    "\n",
    "    f2 = Q_T_H_d_t > Q_max_H_floor_d_t\n",
    "    Q_T_H_FH_d_t[f2] = Q_max_H_floor_d_t[f2]\n",
    "\n",
    "    return Q_T_H_FH_d_t\n",
    "\n",
    "\n",
    "# ルームエアコンディショナーの処理暖房負荷 (23)\n",
    "def get_Q_T_H_RAC_d_t(Q_T_H_d_t, Q_T_H_FH_d_t):\n",
    "    \"\"\"\n",
    "    :param Q_T_H_d_t: 1時間当たりの処理暖房負荷 (MJ/h)\n",
    "    :param Q_T_H_FH_d_t: 1時間当たりの温水床暖房の処理暖房負荷 (MJ/h)\n",
    "    :return: 1時間当たりのルームエアコンディショナーの処理暖房負荷 (MJ/h)\n",
    "    \"\"\"\n",
    "    return Q_T_H_d_t - Q_T_H_FH_d_t"
   ]
  },
  {
   "cell_type": "markdown",
   "metadata": {},
   "source": [
    "#### 7.7 往き温水温度 / Hot water temperature going forward"
   ]
  },
  {
   "cell_type": "markdown",
   "metadata": {},
   "source": [
    "日付$d$の時刻$t$における往き温水温度$\\theta_{SW,d,t}$は36℃とする。"
   ]
  },
  {
   "cell_type": "markdown",
   "metadata": {},
   "source": [
    "The forward hot water temperature $ \\theta_{SW, d, t} $ at the time $ t $ of the date $ d $ is 36 ° C."
   ]
  },
  {
   "cell_type": "code",
   "execution_count": null,
   "metadata": {},
   "outputs": [],
   "source": [
    "# 往き温水温度 (℃)\n",
    "def get_Theta_SW_d_t():\n",
    "    return 36.0 * np.ones(24 * 365)"
   ]
  },
  {
   "cell_type": "markdown",
   "metadata": {},
   "source": [
    "### 8. 冷房 / Air conditioning"
   ]
  },
  {
   "cell_type": "markdown",
   "metadata": {},
   "source": [
    "ルームエアコンディショナー付温水床暖房における冷房時のエネルギー消費量及び最大冷房出力については、第四章「暖冷房」第三節「ルームエアコンディショナー」6.「冷房」により規定される。 "
   ]
  },
  {
   "cell_type": "markdown",
   "metadata": {},
   "source": [
    "The energy consumption and maximum cooling output at the time of cooling in a hot-water floor heating system with a room air conditioner are specified by Chapter 4, \"Heating and Cooling\", third section \"Room Air Conditioner\" 6. \"Cooling\"."
   ]
  },
  {
   "cell_type": "code",
   "execution_count": null,
   "metadata": {},
   "outputs": [],
   "source": [
    "# 消費電力量\n",
    "def get_E_E_C_d_t(region, outdoor, q_rtd_C, e_rtd_C, L_CS_d_t, L_CL_d_t):\n",
    "    return rac.get_E_E_C_d_t(region, outdoor, q_rtd_C, e_rtd_C, L_CS_d_t, L_CL_d_t)"
   ]
  },
  {
   "cell_type": "markdown",
   "metadata": {},
   "source": [
    "## 付録 A R410A におけるヒートポンプサイクルの理論効率の計算方法 / Appendix A Calculation method of theoretical efficiency of heat pump cycle in R410A "
   ]
  },
  {
   "cell_type": "markdown",
   "metadata": {},
   "source": [
    "### A.1 記号及び単位 / Symbol and unit"
   ]
  },
  {
   "cell_type": "markdown",
   "metadata": {},
   "source": [
    "省略"
   ]
  },
  {
   "cell_type": "markdown",
   "metadata": {},
   "source": [
    "ommision"
   ]
  },
  {
   "cell_type": "markdown",
   "metadata": {},
   "source": [
    "### A.2 本付録で用いる冷媒に関する関数 / Functions for refrigerants used in this appendix"
   ]
  },
  {
   "cell_type": "markdown",
   "metadata": {},
   "source": [
    "省略"
   ]
  },
  {
   "cell_type": "markdown",
   "metadata": {},
   "source": [
    "ommision"
   ]
  },
  {
   "cell_type": "markdown",
   "metadata": {},
   "source": [
    "### A.3 熱交換器における仮定 / Assumptions in heat exchangers"
   ]
  },
  {
   "cell_type": "markdown",
   "metadata": {},
   "source": [
    "省略"
   ]
  },
  {
   "cell_type": "markdown",
   "metadata": {},
   "source": [
    "ommision"
   ]
  },
  {
   "cell_type": "markdown",
   "metadata": {},
   "source": [
    "### A.4 ヒートポンプサイクルの理論効率 / Theoretical efficiency of heat pump cycle"
   ]
  },
  {
   "cell_type": "markdown",
   "metadata": {},
   "source": [
    "$$\\large\n",
    "e_{ref,H,th} = \\frac{h_{ref,comp,out} - h_{ref,cnd,out}}{h_{ref,comp,out} - h_{ref,comp,in}}\n",
    "$$"
   ]
  },
  {
   "cell_type": "code",
   "execution_count": null,
   "metadata": {},
   "outputs": [],
   "source": [
    "# ヒートポンプサイクルの理論暖房効率 (1)\n",
    "def get_e_ref_H_th(Theta_ref_evp, Theta_ref_cnd, Theta_ref_SC, Theta_ref_SH):\n",
    "    \"\"\"\n",
    "    :param Theta_ref_evp: 蒸発圧力 (MPa)\n",
    "    :param Theta_ref_cnd: ヒートポンプサイクルの凝縮温度 (℃)\n",
    "    :param Theta_ref_SC: ヒートポンプサイクルの過冷温度 (℃)\n",
    "    :param Theta_ref_SH: ヒートポンプサイクルの過熱度 (℃)\n",
    "    :param Theta_ref_cnd_out: ヒートポンプサイクルの凝縮温度 (℃)\n",
    "    :return: ヒートポンプサイクルの理論暖房効率 (-)\n",
    "    \"\"\"\n",
    "\n",
    "    # **  A.6 凝縮圧力および蒸発圧力 **\n",
    "\n",
    "    # 蒸発圧力 (12)\n",
    "    P_ref_evp = get_P_ref_evp(Theta_ref_evp)\n",
    "\n",
    "    # 凝縮圧力 (11)\n",
    "    P_ref_cnd = get_P_ref_cnd(Theta_ref_cnd)\n",
    "\n",
    "    # **  A.6 凝縮器出口エンタルピー **\n",
    "\n",
    "    # 凝縮器出力温度 (10)\n",
    "    Theta_ref_cnd_out = get_Theta_ref_cnd_out(Theta_ref_cnd, Theta_ref_SC)\n",
    "\n",
    "    # 凝縮器出口比エンタルピー (9)\n",
    "    h_ref_cnd_out = get_h_ref_cnd_out(P_ref_cnd, Theta_ref_cnd_out)\n",
    "\n",
    "    # ** A.5 圧縮機吐出及び吸入比エンタルピー **\n",
    "\n",
    "    # 圧縮機吸込温度 (8)\n",
    "    Theta_ref_comp_in = get_Theta_ref_comp_in(Theta_ref_evp, Theta_ref_SH)\n",
    "\n",
    "    # 圧縮機吸込圧力 (7)\n",
    "    P_ref_comp_in = get_P_ref_comp_in(P_ref_evp)\n",
    "\n",
    "    # 圧縮機吸込エンタルピー (6)\n",
    "    h_ref_comp_in = get_h_ref_comp_in(P_ref_comp_in, Theta_ref_comp_in)\n",
    "\n",
    "    # 圧縮機吐出比エンタルピー (2)\n",
    "    h_ref_comp_out = get_h_ref_comp_out(Theta_ref_evp, Theta_ref_SH, Theta_ref_cnd)\n",
    "\n",
    "    # ヒートポンプサイクルの理論暖房効率 (1)\n",
    "    e_ref_H_th = (h_ref_comp_out - h_ref_cnd_out) / (h_ref_comp_out - h_ref_comp_in)\n",
    "\n",
    "    return e_ref_H_th"
   ]
  },
  {
   "cell_type": "markdown",
   "metadata": {},
   "source": [
    "### A.5 圧縮機吐出及び吸込比エンタルピー / Compressor discharge and suction ratio enthalpy"
   ]
  },
  {
   "cell_type": "markdown",
   "metadata": {},
   "source": [
    "$$\\large\n",
    "h_{ref,comp,out} = f_{H,gas,comp,out} ( P_{ref,comp,out}, S_{ref,comp,out} )\n",
    "$$"
   ]
  },
  {
   "cell_type": "code",
   "execution_count": null,
   "metadata": {},
   "outputs": [],
   "source": [
    "# 圧縮機吐出比エンタルピー (2)\n",
    "def get_h_ref_comp_out(Theta_ref_evp, Theta_ref_SH, Theta_ref_cnd):\n",
    "    \"\"\"\n",
    "    :param Theta_ref_evp: 蒸発圧力 (MPa)\n",
    "    :param Theta_ref_SH: ヒートポンプサイクルの過熱度 (℃)\n",
    "    :param Theta_ref_cnd: ヒートポンプサイクルの凝縮温度 (℃)\n",
    "    :return: 圧縮機吐出比エンタルピー (kJ/kg)\n",
    "    \"\"\"\n",
    "    # 凝縮圧力 (11)\n",
    "    P_ref_cnd = get_P_ref_cnd(Theta_ref_cnd)\n",
    "\n",
    "    # 圧縮機吐出圧力 (3)\n",
    "    P_ref_comp_out = get_P_ref_comp_out(P_ref_cnd)\n",
    "\n",
    "    # 蒸発圧力 (12)\n",
    "    P_ref_evp = get_P_ref_evp(Theta_ref_evp)\n",
    "\n",
    "    # 圧縮機吸込温度 (8)\n",
    "    Theta_ref_comp_in = get_Theta_ref_comp_in(Theta_ref_evp, Theta_ref_SH)\n",
    "\n",
    "    # 圧縮機吸込圧力 (7)\n",
    "    P_ref_comp_in = get_P_ref_comp_in(P_ref_evp)\n",
    "\n",
    "    # 圧縮機吸込エンタルピー (6)\n",
    "    h_ref_comp_in = get_h_ref_comp_in(P_ref_comp_in, Theta_ref_comp_in)\n",
    "\n",
    "    # 圧縮機吸込比エントロピー (5)\n",
    "    S_ref_comp_in = get_S_ref_comp_in(P_ref_comp_in, h_ref_comp_in)\n",
    "\n",
    "    # 圧縮機吐出比エントロピー (4)\n",
    "    S_ref_comp_out = get_S_ref_comp_out(S_ref_comp_in)\n",
    "\n",
    "    # 圧縮機吐出比エンタルピー (2)\n",
    "    h_ref_comp_out = f_H_gas_comp_out(P_ref_comp_out, S_ref_comp_out)\n",
    "\n",
    "    return h_ref_comp_out"
   ]
  },
  {
   "cell_type": "markdown",
   "metadata": {},
   "source": [
    "$$\\large\n",
    "P_{ref,comp,out} = P_{ref,cnd}\n",
    "$$"
   ]
  },
  {
   "cell_type": "code",
   "execution_count": null,
   "metadata": {},
   "outputs": [],
   "source": [
    "# 圧縮機吐出圧力 (3)\n",
    "def get_P_ref_comp_out(P_ref_cnd):\n",
    "    \"\"\"\n",
    "    圧縮機吐出圧力は凝縮圧力と等しいとする。\n",
    "    :param P_ref_cnd: 凝縮圧力 (MPa)\n",
    "    :return: 圧縮機吐出圧力 (MPa)\n",
    "    \"\"\"\n",
    "    return P_ref_cnd"
   ]
  },
  {
   "cell_type": "markdown",
   "metadata": {},
   "source": [
    "$$\\large\n",
    "S_{ref,comp,out} = S_{ref,comp,in}\n",
    "$$"
   ]
  },
  {
   "cell_type": "code",
   "execution_count": null,
   "metadata": {},
   "outputs": [],
   "source": [
    "# 圧縮機吐出比エントロピー (4)\n",
    "def get_S_ref_comp_out(S_ref_comp_in):\n",
    "    \"\"\"\n",
    "    圧縮機吐出比エントロピーは圧縮機吸入比エントロピーに等しいとする。\n",
    "    :param S_ref_comp_in: 圧縮機吸入比エントロピー (kJ/kg・K)\n",
    "    :return: 圧縮機吐出比エントロピー (kJ/kg・K)\n",
    "    \"\"\"\n",
    "    return S_ref_comp_in"
   ]
  },
  {
   "cell_type": "markdown",
   "metadata": {},
   "source": [
    "$$\\large\n",
    "S_{ref,comp,in} = f_{S,gas} ( P_{ref,comp,in}, h_{ref,comp,in} )\n",
    "$$"
   ]
  },
  {
   "cell_type": "code",
   "execution_count": null,
   "metadata": {},
   "outputs": [],
   "source": [
    "# 圧縮機吸込比エントロピー (5)\n",
    "def get_S_ref_comp_in(P_ref_comp_in, h_ref_comp_in):\n",
    "    \"\"\"\n",
    "    :param P_ref_comp_in: 圧縮機吸込圧力 (MPa)\n",
    "    :param h_ref_comp_in: 圧縮機吸込エンタルピー (kJ/kg)\n",
    "    :return: 圧縮機吸込比エントロピー (kJ/kg・K)\n",
    "    \"\"\"\n",
    "    return f_S_gas(P_ref_comp_in, h_ref_comp_in)"
   ]
  },
  {
   "cell_type": "markdown",
   "metadata": {},
   "source": [
    "$$\\large\n",
    "h_{ref,comp,in} = f_{H,gas,comp,in} ( P_{ref,comp,in}, \\theta_{ref,comp,in} )\n",
    "$$"
   ]
  },
  {
   "cell_type": "code",
   "execution_count": null,
   "metadata": {},
   "outputs": [],
   "source": [
    "# 圧縮機吸込エンタルピー (6)\n",
    "def get_h_ref_comp_in(P_ref_comp_in, Theta_ref_comp_in):\n",
    "    \"\"\"\n",
    "    :param P_ref_comp_in: 圧縮機吸込圧力 (℃)\n",
    "    :param Theta_ref_comp_in: 圧縮機吸込温度 (℃)\n",
    "    :return: 圧縮機吸込エンタルピー (kJ/kg)\n",
    "    \"\"\"\n",
    "    return f_H_gas_comp_in(P=P_ref_comp_in, Theta=Theta_ref_comp_in)"
   ]
  },
  {
   "cell_type": "markdown",
   "metadata": {},
   "source": [
    "$$\\large\n",
    "P_{ref,comp,in} = P_{ref,evp}\n",
    "$$"
   ]
  },
  {
   "cell_type": "code",
   "execution_count": null,
   "metadata": {},
   "outputs": [],
   "source": [
    "# 圧縮機吸込圧力 (7)\n",
    "def get_P_ref_comp_in(P_ref_evp):\n",
    "    \"\"\"\n",
    "    圧縮機吸込圧力は蒸発圧力に等しいとする。\n",
    "    :param P_ref_evp: 蒸発圧力 (MPa)\n",
    "    :return: 圧縮機吸入圧力 (MPa)\n",
    "    \"\"\"\n",
    "    return P_ref_evp"
   ]
  },
  {
   "cell_type": "markdown",
   "metadata": {},
   "source": [
    "$$\\large\n",
    "\\theta_{ref,comp,in} = \\theta_{ref,evp} + \\theta_{ref,SH}\n",
    "$$"
   ]
  },
  {
   "cell_type": "code",
   "execution_count": null,
   "metadata": {},
   "outputs": [],
   "source": [
    "# 圧縮機吸込温度 (8)\n",
    "def get_Theta_ref_comp_in(Theta_ref_evp, Theta_ref_SH):\n",
    "    \"\"\"\n",
    "    :param Theta_ref_evp: ヒートポンプサイクルの蒸発温度 (℃)\n",
    "    :param Theta_ref_SH: ヒートポンプサイクルの過熱度 (℃)\n",
    "    :return: 圧縮機吸込温度 (℃)\n",
    "    \"\"\"\n",
    "    return Theta_ref_evp + Theta_ref_SH"
   ]
  },
  {
   "cell_type": "markdown",
   "metadata": {},
   "source": [
    "### A.6 凝縮器出口比エンタルピー / Condenser outlet specific enthalpy"
   ]
  },
  {
   "cell_type": "markdown",
   "metadata": {},
   "source": [
    "$$\\large\n",
    "h_{ref,cnd,out} = f_{H,liq} ( P_{ref,cnd}, \\theta_{ref,cnd,out} )\n",
    "$$"
   ]
  },
  {
   "cell_type": "code",
   "execution_count": null,
   "metadata": {},
   "outputs": [],
   "source": [
    "# 凝縮器出口比エンタルピー (9)\n",
    "def get_h_ref_cnd_out(P_ref_cnd, Theta_ref_cnd_out):\n",
    "    \"\"\"\n",
    "    :param P_ref_cnd: 凝縮圧力 (MPa)\n",
    "    :param Theta_ref_cnd_out: ヒートポンプサイクルの凝縮温度 (℃)\n",
    "    :return: 凝縮器出口比エンタルピー (kJ/kg)\n",
    "    \"\"\"\n",
    "    return f_H_liq(P=P_ref_cnd, Theta=Theta_ref_cnd_out)"
   ]
  },
  {
   "cell_type": "markdown",
   "metadata": {},
   "source": [
    "$$\\large\n",
    "\\theta_{ref,cnd,out} = \\theta_{ref,cnd} - \\theta_{ref,SC}\n",
    "$$"
   ]
  },
  {
   "cell_type": "code",
   "execution_count": null,
   "metadata": {},
   "outputs": [],
   "source": [
    "# 凝縮器出力温度 (10)\n",
    "def get_Theta_ref_cnd_out(Theta_ref_cnd, Theta_ref_SC):\n",
    "    \"\"\"\n",
    "    :param Theta_ref_cnd: ヒートポンプサイクルの凝縮温度 (℃)\n",
    "    :param Theta_ref_SC: ヒートポンプサイクルの過冷温度 (℃)\n",
    "    :return: 凝縮器出力温度 (℃)\n",
    "    \"\"\"\n",
    "    return Theta_ref_cnd - Theta_ref_SC"
   ]
  },
  {
   "cell_type": "markdown",
   "metadata": {},
   "source": [
    "### A.7 凝縮圧力および蒸発圧力 / Condensation pressure and evaporation pressure"
   ]
  },
  {
   "cell_type": "markdown",
   "metadata": {},
   "source": [
    "$$\\large\n",
    "P_{ref,cnd} = f_{P,sgas} ( \\theta_{ref,cnd} )\n",
    "$$"
   ]
  },
  {
   "cell_type": "code",
   "execution_count": null,
   "metadata": {},
   "outputs": [],
   "source": [
    "# 凝縮圧力 (11)\n",
    "def get_P_ref_cnd(Theta_ref_cnd):\n",
    "    \"\"\"\n",
    "    :param Theta_ref_cnd: ヒートポンプサイクルの凝縮温度 (℃)\n",
    "    :return: 凝縮圧力 (MPa)\n",
    "    \"\"\"\n",
    "    return f_p_sgas(Theta=Theta_ref_cnd)"
   ]
  },
  {
   "cell_type": "markdown",
   "metadata": {},
   "source": [
    "$$\\large\n",
    "P_{ref,evp} = f_{P,sgas} ( \\theta_{ref,evp} )\n",
    "$$"
   ]
  },
  {
   "cell_type": "code",
   "execution_count": null,
   "metadata": {},
   "outputs": [],
   "source": [
    "# 蒸発圧力 (12)\n",
    "def get_P_ref_evp(Theta_ref_evp):\n",
    "    \"\"\"\n",
    "    :param Theta_ref_evp: ヒートポンプサイクルの蒸発温度 (℃)\n",
    "    :return: 蒸発圧力 (MPa)\n",
    "    \"\"\"\n",
    "    return f_p_sgas(Theta=Theta_ref_evp)"
   ]
  },
  {
   "cell_type": "markdown",
   "metadata": {},
   "source": [
    "### A.8 冷媒に関する関数 / Function on refrigerant"
   ]
  },
  {
   "cell_type": "markdown",
   "metadata": {},
   "source": [
    "#### A.8.1 飽和蒸気に関する関数 / Function for saturated vapor"
   ]
  },
  {
   "cell_type": "markdown",
   "metadata": {},
   "source": [
    "$$\\large\n",
    "f_{P,sgas} ( \\theta ) = 2.75857926950901 \\times 10^{-17} \\times \\theta^{8} + 1.49382057911753 \\times 10^{-15} \\times \\theta^{7}\\\\\n",
    "\\large + 6.52001687267015 \\times 10^{-14} \\times \\theta^{6} + 9.14153034999975 \\times 10^{-12} \\times \\theta^{5}\\\\\n",
    "\\large + 3.18314616500361 \\times 10^{-9} \\times \\theta^{4} + 1.60703566663019 \\times 10^{-6} \\times \\theta^{3}\\\\\n",
    "\\large + 3.06278984019513 \\times 10^{-4} \\times \\theta^{2} + 2.54461992992037 \\times 10^{-2} \\times \\theta\\\\\n",
    "\\large + 7.98086455154775 \\times 10^{-1}\n",
    "$$"
   ]
  },
  {
   "cell_type": "markdown",
   "metadata": {},
   "source": [
    "$f_{P,sgas}$：飽和蒸気の圧力(MPa) / Saturated steam pressure  \n",
    "$\\theta$：飽和蒸気の温度(℃) / Saturated steam temperature  "
   ]
  },
  {
   "cell_type": "code",
   "execution_count": null,
   "metadata": {},
   "outputs": [],
   "source": [
    "# 飽和蒸気の温度から圧力を求める関数 (13)\n",
    "def f_p_sgas(Theta):\n",
    "    \"\"\"\n",
    "    :param Theta: 飽和蒸気の温度 (℃)\n",
    "    :return: 飽和蒸気の圧力 (MPa)\n",
    "    \"\"\"\n",
    "    return 2.75857926950901 * 10 ** (-17) * Theta ** 8 \\\n",
    "           + 1.49382057911753 * 10 ** (-15) * Theta ** 7 \\\n",
    "           + 6.52001687267015 * 10 ** (-14) * Theta ** 6 \\\n",
    "           + 9.14153034999975 * 10 ** (-12) * Theta ** 5 \\\n",
    "           + 3.18314616500361 * 10 ** (-9) * Theta ** 4 \\\n",
    "           + 1.60703566663019 * 10 ** (-6) * Theta ** 3 \\\n",
    "           + 3.06278984019513 * 10 ** (-4) * Theta ** 2 \\\n",
    "           + 2.54461992992037 * 10 ** (-2) * Theta \\\n",
    "           + 7.98086455154775 * 10 ** (-1)"
   ]
  },
  {
   "cell_type": "markdown",
   "metadata": {},
   "source": [
    "#### A.8.2 過熱蒸気に関する関数 / Function for superheated steam"
   ]
  },
  {
   "cell_type": "markdown",
   "metadata": {},
   "source": [
    "$$\\large\n",
    "f_{H,gas,comp,in} ( P, \\theta ) = - 1.00110355 \\times 10^{-1} \\times P^{3} - 1.184450639 \\times 10 \\times P^{2}\\\\\n",
    "\\large - 2.052740252 \\times 10^{2} \\times P + 3.20391 \\times 10^{-6} \\times (\\theta + 273.15)^{3}\\\\\n",
    "\\large - 2.24685 \\times 10^{-3} \\times (\\theta + 273.15)^{2} + 1.279436909 \\times (\\theta + 273.15)\\\\\n",
    "\\large + 3.1271238 \\times 10^{-2} \\times P^{2} \\times (\\theta + 273.15)\\\\\n",
    "\\large - 1.415359 \\times 10^{-3} \\times P \\times (\\theta + 273.15)^{2}\\\\\n",
    "\\large + 1.05553912 \\times P \\times (\\theta + 273.15) + 1.949505039  \\times 10^{2}\n",
    "$$"
   ]
  },
  {
   "cell_type": "markdown",
   "metadata": {},
   "source": [
    "$f_{H,gas,comp,in}$：過熱蒸気の比エンタルピー(kJ/kg) / Specific enthalpy of superheated steam  \n",
    "$P$：過熱蒸気の圧力(MPa) / Superheated steam pressure  \n",
    "$\\theta$：飽和蒸気の温度(℃) / Saturated steam temperature  "
   ]
  },
  {
   "cell_type": "code",
   "execution_count": null,
   "metadata": {},
   "outputs": [],
   "source": [
    "# 圧縮機吸引領域において過熱蒸気の圧力と温度から比エンタルピーを求める関数 (14)\n",
    "def f_H_gas_comp_in(P, Theta):\n",
    "    \"\"\"\n",
    "    :param P: 過熱蒸気の圧力 (MPa)\n",
    "    :param Theta: 過熱蒸気の温度 (℃)\n",
    "    :return: 過熱蒸気の比エンタルピー (kJ/kg)\n",
    "    \"\"\"\n",
    "    K = Theta + 273.15\n",
    "    K2=K*K\n",
    "    K3=K2*K\n",
    "    P2=P*P\n",
    "    P3=P2*P\n",
    "    P4=P2*P2\n",
    "    return -1.00110355 * 10 ** (-1) * P3 \\\n",
    "           - 1.184450639 * 10 * P2 \\\n",
    "           - 2.052740252 * 10 ** 2 * P \\\n",
    "           + 3.20391 * 10 ** (-6) * K3 \\\n",
    "           - 2.24685 * 10 ** (-3) * K2 \\\n",
    "           + 1.279436909 * K \\\n",
    "           + 3.1271238 * 10 ** (-2) * P2 * K \\\n",
    "           - 1.415359 * 10 ** (-3) * P * K2 \\\n",
    "           + 1.05553912 * P * K \\\n",
    "           + 1.949505039 * 10 ** 2"
   ]
  },
  {
   "cell_type": "markdown",
   "metadata": {},
   "source": [
    "$$\\large\n",
    "f_{H,gas,comp,out} ( P, S ) = -1.869892835947070 \\times 10^{-1} \\times P^{4} + 8.223224182177200 \\times 10^{-1} \\times P^{3}\\\\\n",
    "\\large +4.124595239531860 \\times P^{2} - 8.346302788803210 \\times 10 \\times P\\\\\n",
    "\\large -1.016388214044490 \\times 10^{2} \\times S^{4} + 8.652428629143880 \\times 10^{2} \\times S^{3}\\\\\n",
    "\\large -2.574830800631310 \\times 10^{3} \\times S^{2} +  3.462049327009730 \\times 10^{3} \\times S\\\\\n",
    "\\large +9.209837906396910 \\times 10^{-1} \\times P^{3} \\times S\\\\\n",
    "\\large -5.163305566700450 \\times 10^{-1} \\times P^{2} \\times S^{2}\\\\\n",
    "\\large +4.076727767130210 \\times P \\times S^{3} - 8.967168786520070 \\times P^{2} \\times S\\\\\n",
    "\\large -2.062021416757910 \\times 10 \\times P \\times S^{2} + 9.510257675728610 \\times 10 \\times P \\times S\\\\\n",
    "\\large -1.476914346214130 \\times 10^{3}\n",
    "$$"
   ]
  },
  {
   "cell_type": "markdown",
   "metadata": {},
   "source": [
    "$f_{H,gas,comp,out}$：過熱蒸気の比エンタルピー(kJ/kg) / Specific enthalpy of superheated steam  \n",
    "$P$：過熱蒸気の圧力(MPa) / Superheated steam pressure  \n",
    "$S$：過熱蒸気の比エントロピー(kJ/(kg・K)) / Specific entropy of superheated steam"
   ]
  },
  {
   "cell_type": "code",
   "execution_count": null,
   "metadata": {},
   "outputs": [],
   "source": [
    "# 圧縮機吐出領域において過熱蒸気の圧力と比エントロピーから比エンタルピーを求める関数 (15)\n",
    "def f_H_gas_comp_out(P, S):\n",
    "    \"\"\"\n",
    "    :param P: 過熱蒸気の圧力 (MPa)\n",
    "    :param S: 過熱蒸気の比エントロピー (kJ/kg・K)\n",
    "    :return: 過熱蒸気の比エンタルピー (kJ/kg)\n",
    "    \"\"\"\n",
    "    P2 = P * P\n",
    "    P3 = P2 * P\n",
    "    P4 = P2 * P2\n",
    "    S2 = S * S\n",
    "    S3 = S2 * S\n",
    "    S4 = S2 * S2\n",
    "    return -1.869892835947070 * 10 ** (-1) * P4 \\\n",
    "           + 8.223224182177200 * 10 ** (-1) * P3 \\\n",
    "           + 4.124595239531860 * P2 \\\n",
    "           - 8.346302788803210 * 10 * P \\\n",
    "           - 1.016388214044490 * 10 ** 2 * S4 \\\n",
    "           + 8.652428629143880 * 10 ** 2 * S3 \\\n",
    "           - 2.574830800631310 * 10 ** 3 * S2 \\\n",
    "           + 3.462049327009730 * 10 ** 3 * S \\\n",
    "           + 9.209837906396910 * 10 ** (-1) * P3 * S \\\n",
    "           - 5.163305566700450 * 10 ** (-1) * P2 * S2 \\\n",
    "           + 4.076727767130210 * P * S3 \\\n",
    "           - 8.967168786520070 * P2 * S \\\n",
    "           - 2.062021416757910 * 10 * P * S2 \\\n",
    "           + 9.510257675728610 * 10 * P * S \\\n",
    "           - 1.476914346214130 * 10 ** 3"
   ]
  },
  {
   "cell_type": "markdown",
   "metadata": {},
   "source": [
    "$$\\large\n",
    "f_{S,gas} ( P, h ) = 5.823109493752840 \\times 10^{-2} \\times P^{4} - 3.309666523931270 \\times 10^{-1} \\times P^{3}\\\\\n",
    "\\large +7.700179914440890 \\times 10^{-1} \\times P^{2} - 1.311726004718660 \\times P\\\\\n",
    "\\large +1.521486605815750 \\times 10^{-9} \\times h^{4} - 2.703698863404160 \\times 10^{-6} \\times h^{3}\\\\\n",
    "\\large +1.793443775071770 \\times 10^{-3} \\times h^{2} - 5.227303746767450 \\times 10^{-1} \\times h\\\\\n",
    "\\large +1.100368875131490 \\times 10^{-4} \\times P^{3} \\times h + 5.076769807083600 \\times 10^{-7} \\times P^{2} \\times h^{2}\\\\\n",
    "\\large +1.202580329499520 \\times 10^{-8} \\times P \\times h^{3} - 7.278049214744230 \\times 10^{-4} \\times P^{2} \\times h\\\\\n",
    "\\large -1.449198550965620 \\times 10^{-5} \\times P \\times h^{2} + 5.716086851760640 \\times 10^{-3} \\times P \\times h\\\\\n",
    "\\large +5.818448621582900 \\times 10\n",
    "$$"
   ]
  },
  {
   "cell_type": "markdown",
   "metadata": {},
   "source": [
    "$f_{S,gas}$：過熱蒸気の比エンタルピー(kJ/kg・K) / Specific enthalpy of superheated steam  \n",
    "$P$：過熱蒸気の圧力(MPa) / Superheated steam pressure  \n",
    "$h$：過熱蒸気の比エントロピー(kJ/kg) / Specific entropy of superheated steam"
   ]
  },
  {
   "cell_type": "code",
   "execution_count": null,
   "metadata": {},
   "outputs": [],
   "source": [
    "#  過熱蒸気の圧力と比エンタルピーから比エントロピーを求める関数 (16)\n",
    "def f_S_gas(P, h):\n",
    "    \"\"\"\n",
    "    :param P: 過熱蒸気の圧力 (MPa)\n",
    "    :param h: 過熱蒸気の比エンタルピー (kJ/kg)\n",
    "    :return: 過熱蒸気の比エントロピー (kJ/kg・K)\n",
    "    \"\"\"\n",
    "\n",
    "    P2 = P * P\n",
    "    P3 = P2 * P\n",
    "    P4 = P2 * P2\n",
    "\n",
    "    h2 = h * h\n",
    "    h3 = h2 * h\n",
    "    h4 = h2 * h2\n",
    "\n",
    "    return 5.823109493752840 * 10 ** (-2) * P4 \\\n",
    "           - 3.309666523931270 * 10 ** (-1) * P3 \\\n",
    "           + 7.700179914440890 * 10 ** (-1) * P2 \\\n",
    "           - 1.311726004718660 * P \\\n",
    "           + 1.521486605815750 * 10 ** (-9) * h4 \\\n",
    "           - 2.703698863404160 * 10 ** (-6) * h3 \\\n",
    "           + 1.793443775071770 * 10 ** (-3) * h2 \\\n",
    "           - 5.227303746767450 * 10 ** (-1) * h \\\n",
    "           + 1.100368875131490 * 10 ** (-4) * P ** 3 * h \\\n",
    "           + 5.076769807083600 * 10 ** (-7) * P ** 2 * h2 \\\n",
    "           + 1.202580329499520 * 10 ** (-8) * P * h3 \\\n",
    "           - 7.278049214744230 * 10 ** (-4) * P ** 2 * h \\\n",
    "           - 1.449198550965620 * 10 ** (-5) * P * h2 \\\n",
    "           + 5.716086851760640 * 10 ** (-3) * P * h \\\n",
    "           + 5.818448621582900 * 10"
   ]
  },
  {
   "cell_type": "markdown",
   "metadata": {},
   "source": [
    "#### A.8.3 過冷却液に関する関数 / Function for supercoolant"
   ]
  },
  {
   "cell_type": "markdown",
   "metadata": {},
   "source": [
    "$$\\large\n",
    "\\large f_{H,liq} ( P, \\theta ) = 1.7902915 \\times 10^{-2} \\times P^{3} + 7.96830322 \\times 10^{-1} \\times P^{2}\\\\\n",
    "\\large + 5.985874958 \\times 10 \\times P + 0 \\times (\\theta + 273.15)^{3}\\\\\n",
    "\\large + 9.86677 \\times 10^{-4} \\times (\\theta + 273.15)^{2} + 9.8051677 \\times 10^{-1} \\times (\\theta + 273.15)\\\\\n",
    "\\large - 3.58645 \\times 10^{-3} \\times P^{2} \\times (\\theta + 273.15) + 8.23122 \\times 10^{-4} \\times P \\times (\\theta + 273.15)^{2}\\\\\n",
    "\\large - 4.42639115 \\times 10^{-1} \\times P \\times (\\theta + 273.15) - 1.415490404 \\times 10^{2}\n",
    "$$"
   ]
  },
  {
   "cell_type": "markdown",
   "metadata": {},
   "source": [
    "$f_{H,liq}$：過冷却液の比エンタルピー(kJ/kg) / Specific enthalpy of supercooled liquid  \n",
    "$P$：過熱蒸気の圧力(MPa) / Superheated steam pressure  \n",
    "$\\theta$：過冷却液の温度(℃) / Supercoolant temperature  "
   ]
  },
  {
   "cell_type": "code",
   "execution_count": null,
   "metadata": {},
   "outputs": [],
   "source": [
    "# 過冷却液の圧力と温度から比エンタルピーを求める関数 (17)\n",
    "def f_H_liq(P, Theta):\n",
    "    \"\"\"\n",
    "    :param P: 過冷却液の圧力 (MPa)\n",
    "    :param Theta: 過冷却液の温度 (℃)\n",
    "    :return: 過冷却液のエンタルピー (kJ/kg)\n",
    "    \"\"\"\n",
    "    K = Theta + 273.15\n",
    "    K2 = K * K\n",
    "    K3 = K2 * K\n",
    "\n",
    "    P2 = P * P\n",
    "    P3 = P2 * P\n",
    "\n",
    "    return 1.7902915 * 10 ** (-2) * P3 \\\n",
    "           + 7.96830322 * 10 ** (-1) * P2 \\\n",
    "           + 5.985874958 * 10 * P \\\n",
    "           + 0 * K3 \\\n",
    "           + 9.86677 * 10 ** (-4) * K2 \\\n",
    "           + 9.8051677 * 10 ** (-1) * K \\\n",
    "           - 3.58645 * 10 ** (-3) * P ** 2 * K \\\n",
    "           + 8.23122 * 10 ** (-4) * P * K2 \\\n",
    "           - 4.42639115 * 10 ** (-1) * P * K \\\n",
    "           - 1.415490404 * 10 ** 2"
   ]
  },
  {
   "cell_type": "markdown",
   "metadata": {},
   "source": [
    "## 付録 B （参考）ルームエアコンディショナー付温水床暖房の同時運転時の定格暖房能力及び定格消費電力の計測方法 / Appendix E B (Reference) Measurement method of rated heating capacity and rated power consumption at the same time of hot water floor heating with room air conditioner"
   ]
  },
  {
   "cell_type": "markdown",
   "metadata": {},
   "source": [
    "省略"
   ]
  },
  {
   "cell_type": "markdown",
   "metadata": {},
   "source": [
    "ommision"
   ]
  }
 ],
 "metadata": {
  "kernelspec": {
   "display_name": "Python 3",
   "language": "python",
   "name": "python3"
  },
  "language_info": {
   "codemirror_mode": {
    "name": "ipython",
    "version": 3
   },
   "file_extension": ".py",
   "mimetype": "text/x-python",
   "name": "python",
   "nbconvert_exporter": "python",
   "pygments_lexer": "ipython3",
   "version": "3.6.6"
  }
 },
 "nbformat": 4,
 "nbformat_minor": 2
}
