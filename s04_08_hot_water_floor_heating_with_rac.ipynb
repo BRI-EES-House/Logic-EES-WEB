{
 "cells": [
  {
   "cell_type": "markdown",
   "metadata": {},
   "source": [
    "使用許諾条件\n",
    "\n",
    "①\t設計一次エネルギー消費量算定法に基づく計算方法をPythonによりコーディングし、Jupyter notebook形式で保存したファイル（以下、本ファイルと呼ぶ）の著作権は、一般社団法人日本サステナブル建築協会に帰属します。\n",
    "Copyright©2019. 一般社団法人日本サステナブル建築協会\n",
    "All rights reserved. \n",
    "\n",
    "②\t本ファイルは、住戸の設計一次エネルギー消費量算定方法に係る「平成28年省エネルギー基準に準拠したエネルギー消費性能の評価に関する技術情報（住宅）2.1算定方法（第四章第八節 ルームエアコンディショナー付温水床暖房）」に示す計算方法に基づき、国土交通省国土技術政策総合研究所・国立研究開発法人建築研究所、株式会社ユーワークス、株式会社住環境計画研究所が作成したものです。\n",
    "\n",
    "③\t本ファイルは、計算方法に示す計算過程の確認及び調査研究等に活用することを目的として作成されたものであり、一般社団法人日本サステナブル建築協会は著作権について放棄はしませんが、使用する各人の自己責任において仕様を変更することを妨げるものではありません。ただし、本ファイルによる計算結果を住宅の省エネルギー基準で規定する設計一次エネルギー消費量の結果として公的な申請に用いることはできません。\n",
    "\n",
    "④\t本ファイルを変更するかしないかを問わず、以下の条件を満たす場合に限り、頒布および使用が許可されます。\n",
    "1.\t頒布物の付属ドキュメント等の資料に、上記の著作権表示、本条件一覧、および下記免責条項を含めること。\n",
    "2.\t書面による特別の許可なしに、本ファイルから派生した製品の宣伝または販売の促進に、一般社団法人日本サステナブル建築協会、国土技術政策総合研究所・国立研究開発法人建築研究所および株式会社ユーワークス、株式会社住環境計画研究所の名前またはコントリビューターの名前を使用してはならない。\n",
    "\n",
    "⑤\t本ファイルは、著作権者およびコントリビューターによって「現状のまま」提供されており、明示黙示を問わず、商業的な使用可能性、および特定の目的に対する適合性に関する暗黙の保証も含め、またそれに限定されない、いかなる保証もありません。著作権もコントリビューターも、事由のいかんを問わず、損害発生の原因いかんを問わず、かつ責任の根拠が契約であるか厳格責任であるか（過失その他の）不法行為であるかを問わず、仮にそのような損害が発生する可能性を知らされていたとしても、本ファイルの使用によって発生した（代用品または代用サービスの調達、使用の喪失、データの喪失、利益の喪失、業務の中断も含め、またそれに限定されない）直接損害、間接損害、偶発的な損害、特別損害、懲罰的損害、または結果損害について、一切の責任を負わないものとします。\n",
    "\n"
   ]
  },
  {
   "cell_type": "code",
   "execution_count": 1,
   "metadata": {},
   "outputs": [
    {
     "name": "stdout",
     "output_type": "stream",
     "text": [
      "Importing Jupyter notebook from s04_01_general_Q.ipynb\n",
      "Importing Jupyter notebook from s04_03_room_air_conditioner.ipynb\n",
      "Importing Jupyter notebook from s11_01_external_condition.ipynb\n",
      "Importing Jupyter notebook from s04_07_l_hot_water_floor_heating.ipynb\n",
      "Importing Jupyter notebook from s04_08_a_heatpump_cycle.ipynb\n"
     ]
    }
   ],
   "source": [
    "import nbimporter\n",
    "import numpy as np\n",
    "from math import sqrt\n",
    "\n",
    "from s04_01_general_Q import get_Q_T_H_d_t_i\n",
    "\n",
    "# エアーコンディショナー\n",
    "import s04_03_room_air_conditioner as rac\n",
    "import s04_03_room_air_conditioner as rac_spec\n",
    "\n",
    "# 温水床暖房\n",
    "import s04_07_l_hot_water_floor_heating as hwfloor\n",
    "\n",
    "# R410A におけるヒートポンプサイクルの理論効率の計算方法\n",
    "from s04_08_a_heatpump_cycle import calc_e_ref_H_th\n",
    "\n",
    "# 地域の区分と外気条件\n",
    "from s11_01_external_condition import load_outdoor, get_Theta_ex, get_X_ex, calc_h_ex"
   ]
  },
  {
   "cell_type": "markdown",
   "metadata": {},
   "source": [
    "## 第八節　ルームエアコンディショナー付温水床暖房 / Section 8  Hot Water Floor Heating with RAC"
   ]
  },
  {
   "cell_type": "markdown",
   "metadata": {},
   "source": [
    "1．適用範囲～4．記号及び単位は省略"
   ]
  },
  {
   "cell_type": "markdown",
   "metadata": {},
   "source": [
    "1. Scope of application ~ 4. Symbols and units are omitted"
   ]
  },
  {
   "cell_type": "markdown",
   "metadata": {},
   "source": [
    "### 5. 最大暖房出力 / Maximum heating output"
   ]
  },
  {
   "cell_type": "markdown",
   "metadata": {},
   "source": [
    "$$\\large\n",
    "Q_{max,H,d,t} = Q_{max,H,floor,d,t} + Q_{max,H,RAC,d,t}\n",
    "$$"
   ]
  },
  {
   "cell_type": "markdown",
   "metadata": {},
   "source": [
    "$Q_{max,H,d,t}$：日付$d$の時刻$t$における1時間当たりの最大暖房出力(MJ/h) / Maximum heating output per hour at time $ t $ of date $ d $  \n",
    "$Q_{max,H,floor,d,t}$：日付$d$の時刻$t$における1時間当たりの温水床暖房の最大暖房出力(MJ/h) / Maximum heating output of heated floor heating per hour at time $ t $ on date $ d $   \n",
    "$Q_{max,H,RAC,d,t}$：日付$d$の時刻$t$における1時間当たりのルームエアコンディショナーの最大暖房出力(MJ/h) / Maximum heating output of room air conditioner per hour at time $ t $ on date $ d $  "
   ]
  },
  {
   "cell_type": "code",
   "execution_count": 2,
   "metadata": {},
   "outputs": [],
   "source": [
    "# 最大暖房出力 (1)\n",
    "def calc_Q_max_H_d_t(region, Theta_SW_d_t, A_HCZ, r_Af):\n",
    "    \"\"\"最大暖房出力 (1)\n",
    "    \n",
    "    :param region: 省エネルギー地域区分\n",
    "    :type region: int\n",
    "    :param Theta_SW_d_t: 往き温水温度 (℃)\n",
    "    :type Theta_SW_d_t: ndarray\n",
    "    :param A_HCZ: ルームエアコンディショナー付温水床暖房を設置する暖冷房区画の面積 (m2)\n",
    "    :type A_HCZ: float\n",
    "    :param r_Af: 当該住戸における温水床暖房の敷設率 (-)\n",
    "    :type r_Af: flloat\n",
    "    :return: 最大暖房出力 (MJ/h)\n",
    "    :rtype: ndarray\n",
    "    \"\"\"\n",
    "    # 温水床暖房の最大暖房出力 (MJ/h)\n",
    "    Q_max_H_floor_d_t = calc_Q_max_H_floor_d_t(Theta_SW_d_t, A_HCZ, r_Af)\n",
    "\n",
    "    # ルームエアコンディショナーの最大暖房出力 (MJ/h)\n",
    "    Q_max_H_RAC_d_t = calc_Q_max_H_RAC_d_t(region, A_HCZ)\n",
    "\n",
    "    # ルームエアコンディショナー付温水床暖房の最大暖房出力 (MJ/h)\n",
    "    Q_max_H_d_t = Q_max_H_floor_d_t + Q_max_H_RAC_d_t\n",
    "\n",
    "    return Q_max_H_d_t"
   ]
  },
  {
   "cell_type": "code",
   "execution_count": 3,
   "metadata": {},
   "outputs": [],
   "source": [
    "# 温水床暖房の最大暖房出力\n",
    "def calc_Q_max_H_floor_d_t(Theta_SW_d_t, A_HCZ, r_Af):\n",
    "    \"\"\"温水床暖房の最大暖房出力\n",
    "    \n",
    "    :param Theta_SW_d_t: 往き温水温度 (℃)\n",
    "    :type Theta_SW_d_t: ndarray\n",
    "    :param A_HCZ: ルームエアコンディショナー付温水床暖房を設置する暖冷房区画の面積 (m2)\n",
    "    :type A_HCZ: float\n",
    "    :param r_Af: 当該住戸における温水床暖房の敷設率 (-)\n",
    "    :type r_Af: float\n",
    "    :return: 温水床暖房の最大暖房出力 (MJ/h)\n",
    "    :rtype: ndarray\n",
    "    \"\"\"\n",
    "    \n",
    "    # 温水床暖房の敷設面積 (m2)\n",
    "    A_f = hwfloor.get_A_f(A_HCZ, r_Af)\n",
    "\n",
    "    # 温水床暖房の最大暖房出力 (MJ/h)\n",
    "    Q_max_H_floor_d_t = hwfloor.get_Q_max_H_rad(Theta_SW_d_t, A_f)\n",
    "\n",
    "    return Q_max_H_floor_d_t"
   ]
  },
  {
   "cell_type": "code",
   "execution_count": 4,
   "metadata": {},
   "outputs": [],
   "source": [
    "# ルームエアコンディショナーの最大暖房出力\n",
    "def calc_Q_max_H_RAC_d_t(region, A_HCZ):\n",
    "    \"\"\"ルームエアコンディショナーの最大暖房出力\n",
    "    \n",
    "    :param region: 省エネルギー地域区分\n",
    "    :type region: int\n",
    "    :param A_HCZ: ルームエアコンディショナー付温水床暖房を設置する暖冷房区画の面積 (m2)\n",
    "    :type A_HCZ: float\n",
    "    :return: ルームエアコンディショナーの最大暖房出力\n",
    "    :rtype: ndarray\n",
    "    \"\"\"\n",
    "    # 外気温度・湿度の取得\n",
    "    outdoor = load_outdoor()\n",
    "    Theta_ex_d_t = get_Theta_ex(region, outdoor)\n",
    "    X_ex = get_X_ex(region, outdoor)\n",
    "    h_ex = calc_h_ex(X_ex, Theta_ex_d_t)\n",
    "\n",
    "    # 定格冷房能力\n",
    "    q_rtd_C = rac_spec.get_q_rtd_C(A_HCZ)\n",
    "\n",
    "    # 定格暖房能力\n",
    "    q_rtd_H = rac_spec.get_q_rtd_H(q_rtd_C)\n",
    "\n",
    "    # 最大冷房能力\n",
    "    q_max_C = rac_spec.get_q_max_C(q_rtd_C)\n",
    "\n",
    "    # 最大暖房能力\n",
    "    q_max_H = rac_spec.get_q_max_H(q_rtd_H, q_max_C)\n",
    "\n",
    "    # 最大暖房能力比\n",
    "    q_r_max_H = rac.get_q_r_max_H(q_max_H, q_rtd_H)\n",
    "\n",
    "    # 最大暖房出力比\n",
    "    Q_r_max_H_d_t = rac.calc_Q_r_max_H_d_t(q_rtd_C, q_r_max_H, Theta_ex_d_t)\n",
    "\n",
    "    # 最大暖房出力\n",
    "    Q_max_H_RAC_d_t = rac.calc_Q_max_H_d_t(Q_r_max_H_d_t, q_rtd_H, Theta_ex_d_t, h_ex)\n",
    "\n",
    "    return Q_max_H_RAC_d_t\n"
   ]
  },
  {
   "cell_type": "markdown",
   "metadata": {},
   "source": [
    "### 6. 暖房エネルギー消費量 / Heating energy consumption"
   ]
  },
  {
   "cell_type": "markdown",
   "metadata": {},
   "source": [
    "#### 6.1 消費電力量 / Power consumption"
   ]
  },
  {
   "cell_type": "markdown",
   "metadata": {},
   "source": [
    "$$\\large\n",
    "E_{E,d,t} = E_{E,hs,d,t}\n",
    "$$"
   ]
  },
  {
   "cell_type": "markdown",
   "metadata": {},
   "source": [
    "$E_{E,d,t}$：日付$d$の時刻$t$における1時間当たりの消費電力量(kWh/h) / Power consumption per hour at time $ t $ of date $ d $  \n",
    "$E_{E,hs,d,t}$：日付$d$の時刻$t$における1時間当たりの熱源機の消費電力量(kWh/h) / Power consumption of heat source unit per hour at time $ t $ of date $ d $   "
   ]
  },
  {
   "cell_type": "code",
   "execution_count": 5,
   "metadata": {},
   "outputs": [],
   "source": [
    "# 1時間当たりの消費電力量 (2)\n",
    "def calc_E_E_d_t(region, A_A_act, i, A_HCZ, r_Af, r_up, pipe_insulation, L_H_d_t):\n",
    "    \"\"\"1時間当たりの消費電力量 (2)\n",
    "\n",
    "    :param region: 省エネルギー地域区分\n",
    "    :type region: int\n",
    "    :param A_A_act: 当該住戸における床面積の合計 (m2)\n",
    "    :type A_A_act: float\n",
    "    :param i: 暖冷房区画の番号\n",
    "    :type i: int\n",
    "    :param A_HCZ: ルームエアコンディショナー付温水床暖房を設置する暖冷房区画の面積 (m2)\n",
    "    :type A_HCZ: float\n",
    "    :param r_Af: 当該住戸における温水床暖房の敷設率 (-)\n",
    "    :type r_Af: float\n",
    "    :param r_up:  当該住戸の温水床暖房の上面放熱率\n",
    "    :type r_up: float\n",
    "    :param pipe_insulation: 配管断熱の有無\n",
    "    :type pipe_insulation: bool\n",
    "    :param L_H_d_t: 暖冷房区画݅の１時間当たりの暖房負荷\n",
    "    :type L_H_d_t: ndarray\n",
    "    :return: 1時間当たりの消費電力量\n",
    "    :rtype: ndarray\n",
    "    \"\"\"\n",
    "    # 往き温水温度\n",
    "    Theta_SW_d_t = get_Theta_SW_d_t()\n",
    "\n",
    "    # 最大暖房出力\n",
    "    Q_max_H_d_t = calc_Q_max_H_d_t(region, Theta_SW_d_t, A_HCZ, r_Af)\n",
    "\n",
    "    # 処理暖房負荷\n",
    "    Q_T_H_d_t = get_Q_T_H_d_t_i(Q_max_H_d_t, L_H_d_t)\n",
    "\n",
    "    # 1時間当たりの熱源機の消費電力量\n",
    "    E_E_hs_d_t = calc_E_E_hs_d_t(region, A_A_act, i, A_HCZ, r_Af, r_up, pipe_insulation, Theta_SW_d_t, Q_T_H_d_t)\n",
    "\n",
    "    return E_E_hs_d_t\n",
    "\n",
    "\n",
    "def calc_Q_UT_H_d_t(region, A_HCZ, r_Af, L_H_d_t):\n",
    "    \"\"\"未処理暖房負荷\n",
    "    \n",
    "    :param region: 省エネルギー地域区分\n",
    "    :type region: int\n",
    "    :param A_HCZ: ルームエアコンディショナー付温水床暖房を設置する暖冷房区画の面積 (m2)\n",
    "    :type A_HCZ: float\n",
    "    :param r_Af: 当該住戸における温水床暖房の敷設率 (-)\n",
    "    :type r_Af: float\n",
    "    :param L_H_d_t: 暖冷房区画݅の１時間当たりの暖房負荷\n",
    "    :type L_H_d_t: ndarray\n",
    "    :return: 未処理暖房負荷\n",
    "    :rtype: ndarray\n",
    "    \"\"\"\n",
    "    # 往き温水温度\n",
    "    Theta_SW_d_t = get_Theta_SW_d_t()\n",
    "\n",
    "    # 最大暖房出力\n",
    "    Q_max_H_d_t = calc_Q_max_H_d_t(region, Theta_SW_d_t, A_HCZ, r_Af)\n",
    "\n",
    "    # 処理暖房負荷\n",
    "    Q_T_H_d_t = get_Q_T_H_d_t_i(Q_max_H_d_t, L_H_d_t)\n",
    "\n",
    "    return L_H_d_t - Q_T_H_d_t"
   ]
  },
  {
   "cell_type": "markdown",
   "metadata": {},
   "source": [
    "#### 6.2 ガス消費量 / Gas consumption"
   ]
  },
  {
   "cell_type": "markdown",
   "metadata": {},
   "source": [
    "日付$d$の時刻$t$における１時間当たりのガス消費量$E_{G,d,t}$は0とする。"
   ]
  },
  {
   "cell_type": "markdown",
   "metadata": {},
   "source": [
    "The gas consumption $ E_{G, d, t} $ per hour at the time $ t $ of the date $ d $ is 0."
   ]
  },
  {
   "cell_type": "code",
   "execution_count": 6,
   "metadata": {},
   "outputs": [],
   "source": [
    "# 1時間当たりのガス消費量\n",
    "def get_E_G_d_t():\n",
    "    \"\"\"1時間当たりのガス消費量\n",
    "    \n",
    "    :return: 1時間当たりのガス消費量\n",
    "    :rtype: ndarray\n",
    "    \"\"\"\n",
    "    # 1時間当たりのガス消費量は0とする\n",
    "    return np.zeros(24 * 365)\n"
   ]
  },
  {
   "cell_type": "markdown",
   "metadata": {},
   "source": [
    "#### 6.3 灯油消費量 / Kerosene consumption"
   ]
  },
  {
   "cell_type": "markdown",
   "metadata": {},
   "source": [
    "日付$d$の時刻$t$における１時間当たりの灯油消費量$E_{K,d,t}$は0とする。"
   ]
  },
  {
   "cell_type": "markdown",
   "metadata": {},
   "source": [
    "The kerosene consumption $ E_{K, d, t} $ per hour at the time $ t $ of the date $ d $ is assumed to be zero."
   ]
  },
  {
   "cell_type": "code",
   "execution_count": 7,
   "metadata": {},
   "outputs": [],
   "source": [
    "# 1時間当たりの灯油消費量\n",
    "def get_E_K_d_t():\n",
    "    \"\"\"1時間当たりの灯油消費量\n",
    "    \n",
    "    :return: 1時間当たりの灯油消費量\n",
    "    :rtype: ndarray\n",
    "    \"\"\"\n",
    "    # 1時間当たりの灯油消費量は0とする\n",
    "    return np.zeros(24 * 365)\n"
   ]
  },
  {
   "cell_type": "markdown",
   "metadata": {},
   "source": [
    "#### 6.4 その他の燃料による一次エネルギー消費量 / Primary energy consumption by other fuels"
   ]
  },
  {
   "cell_type": "markdown",
   "metadata": {},
   "source": [
    "日付$d$の時刻$t$における１時間当たりのその他の燃料による一次エネルギー消費量$E_{M,d,t}$は0とする。"
   ]
  },
  {
   "cell_type": "markdown",
   "metadata": {},
   "source": [
    "Primary energy consumption $ E_{M, d, t} $ by other fuel per hour at time $ t $ of date $ d $ is 0."
   ]
  },
  {
   "cell_type": "code",
   "execution_count": 8,
   "metadata": {},
   "outputs": [],
   "source": [
    "# その他の燃料による一次エネルギー消費量\n",
    "def get_E_M_d_t():\n",
    "    \"\"\"その他の燃料による一次エネルギー消費量\n",
    "    \n",
    "    :return: その他の燃料による一次エネルギー消費量\n",
    "    :rtype: ndarray\n",
    "    \"\"\"\n",
    "    # 1時間当たりのその他の燃料による一次エネルギー消費量は0とする\n",
    "    return np.zeros(24 * 365)\n"
   ]
  },
  {
   "cell_type": "markdown",
   "metadata": {},
   "source": [
    "### 7. 熱源機 / Heat source machine"
   ]
  },
  {
   "cell_type": "markdown",
   "metadata": {},
   "source": [
    "#### 7.1 熱源機の消費電力量 / Power consumption of heat source machine"
   ]
  },
  {
   "cell_type": "markdown",
   "metadata": {},
   "source": [
    "日付$d$の時刻$t$における熱源機の平均暖房出力$q_{out,H,hs,d,t}$が0に等しい場合は、$E_{E,hs,d,t}$ = 0とする。 "
   ]
  },
  {
   "cell_type": "markdown",
   "metadata": {},
   "source": [
    "If the average heating output $ q_{out, H, hs, d, t} $ of the heat source unit at time $ t $ on date $ d $ is equal to 0, then $ E_{E, hs, d, t} $ = It is assumed that 0."
   ]
  },
  {
   "cell_type": "markdown",
   "metadata": {},
   "source": [
    "$$\\large\n",
    "E_{E,hs,d,t} = E_{comp,hs,d,t} + E_{aux,hs,d,t} + Q_{UT,H,hs,d,t} \\div 3600 \\times 10^{3}\n",
    "$$"
   ]
  },
  {
   "cell_type": "markdown",
   "metadata": {},
   "source": [
    "$E_{E,hs,d,t}$：日付$d$の時刻$t$における1時間当たりの熱源機の消費電力量(kWh/h) / Power consumption of heat source unit per hour at time $ t $ of date $ d $  \n",
    "$E_{comp,hs,d,t}$：日付$d$の時刻$t$における1時間当たりの圧縮機の消費電力量(kWh/h) / Power consumption of compressor per hour at time $ t $ of date $ d $   \n",
    "$E_{aux,hs,d,t}$：日付$d$の時刻$t$における1時間当たりの補機の消費電力量(kWh/h) / Power consumption of accessory per hour at time $ t $ of date $ d $  \n",
    "$Q_{UT,H,hs,d,t}$：日付$d$の時刻$t$における1時間当たりの熱源機の未処理暖房負荷(kWh/h) / Raw heating load of heat source unit per hour at time $ t $ of date $ d $   "
   ]
  },
  {
   "cell_type": "code",
   "execution_count": 9,
   "metadata": {},
   "outputs": [],
   "source": [
    "# 1時間当たりの熱源機の消費電力量 (3)\n",
    "def calc_E_E_hs_d_t(region, A_A_act, i, A_HCZ, r_Af, r_up, pipe_insulation, Theta_SW_d_t, Q_T_H_d_t):\n",
    "    \"\"\"熱源機の消費電力量\n",
    "    \n",
    "    :param region: 省エネルギー地域区分\n",
    "    :type region: int\n",
    "    :param A_A_act: 当該住戸における床面積の合計 (m2)\n",
    "    :type A_A_act: float\n",
    "    :param i: 暖冷房区画の番号\n",
    "    :type i: int\n",
    "    :param A_HCZ: ルームエアコンディショナー付温水床暖房を設置する暖冷房区画の面積 (m2)\n",
    "    :type A_HCZ: float\n",
    "    :param r_Af: 当該住戸における温水床暖房の敷設率 (-)\n",
    "    :type r_Af: float\n",
    "    :param r_up: 当該住戸の温水床暖房の上面放熱率\n",
    "    :type r_up: float\n",
    "    :param pipe_insulation: 配管断熱の有無\n",
    "    :type pipe_insulation: bool\n",
    "    :param Theta_SW_d_t: 往き温水温度(℃)\n",
    "    :type Theta_SW_d_t: ndarray\n",
    "    :param Q_T_H_d_t: 1時間当たりの処理暖房負荷 (MJ/h)\n",
    "    :type Q_T_H_d_t: ndarray\n",
    "    :return: 1時間当たりの熱源機の消費電力量 [kWh/h]\n",
    "    :rtype: ndarray\n",
    "    \"\"\"\n",
    "    # 未使用変数\n",
    "    #:param Theta_ex_d_t: 外気温度(℃)\n",
    "    #:param h_ex_d_t: 外気相対湿度\n",
    "\n",
    "    # 外気温度湿度\n",
    "    outdoor = load_outdoor()\n",
    "    Theta_ex_d_t = get_Theta_ex(region, outdoor)\n",
    "    X_ex = get_X_ex(region, outdoor)\n",
    "    h_ex_d_t = calc_h_ex(X_ex, Theta_ex_d_t)\n",
    "\n",
    "    # 温水床暖房の最大暖房出力\n",
    "    Q_max_H_floor_d_t = calc_Q_max_H_floor_d_t(Theta_SW_d_t, A_HCZ, r_Af)\n",
    "\n",
    "    # 温水床暖房の処理暖房負荷 (22)\n",
    "    Q_T_H_FH_d_t = get_Q_T_H_FH_d_t(Q_T_H_d_t, Q_max_H_floor_d_t)\n",
    "\n",
    "    # 1時間当たりの熱源機の温水床暖房の熱需要 (18)\n",
    "    Q_dmd_H_hs_FH_d_t = calc_Q_dmd_H_hs_FH_d_t(i, A_A_act, r_up, pipe_insulation, Theta_SW_d_t, Theta_ex_d_t, Q_max_H_floor_d_t,\n",
    "                                              Q_T_H_d_t)\n",
    "\n",
    "    # 熱源機の最大暖房能力 (16)\n",
    "    R_type = '主たる居室' if i == 1 else 'その他の居室'\n",
    "    q_max_H_hs = calc_q_max_H_hs(region, A_HCZ, R_type)\n",
    "\n",
    "    # 1時間当たりの熱源機のルームエアコンディショナー部の熱需要 (21)\n",
    "    Q_dmd_H_hs_RAC_d_t = calc_Q_dmd_H_hs_RAC_d_t(Q_T_H_d_t, Q_T_H_FH_d_t)\n",
    "\n",
    "    # 1時間当たりの熱源機の熱需要 (17)\n",
    "    Q_dmd_H_hs_d_t = get_Q_dmd_H_hs_d_t(Q_dmd_H_hs_FH_d_t, Q_dmd_H_hs_RAC_d_t)\n",
    "\n",
    "    # 1時間当たりの圧縮機の消費電力量 (4)\n",
    "    E_comp_hs_d_t = calc_E_comp_hs_d_t(region, A_HCZ, r_Af, Theta_SW_d_t, q_max_H_hs, Q_dmd_H_hs_d_t, Q_T_H_d_t)\n",
    "\n",
    "    # 熱源機の最大暖房出力 (15)\n",
    "    Q_max_H_hs_d_t = get_Q_max_H_hs_d_t(Theta_ex_d_t, Theta_SW_d_t, q_max_H_hs, h_ex_d_t)\n",
    "\n",
    "    # 1時間当たりの熱源機暖房出力 (14)\n",
    "    Q_out_H_hs_d_t = get_Q_out_H_hs_d_t(Q_dmd_H_hs_d_t, Q_max_H_hs_d_t)\n",
    "\n",
    "    # 熱源機の平均暖房出力 (12)\n",
    "    q_out_H_hs_d_t = get_q_out_H_hs_d_t(Q_out_H_hs_d_t)\n",
    "\n",
    "    # 温水床暖房の最大暖房出力\n",
    "    Q_max_H_floor_d_t = calc_Q_max_H_floor_d_t(Theta_SW_d_t, A_HCZ, r_Af)\n",
    "\n",
    "    # 温水床暖房の処理暖房負荷 (22)\n",
    "    Q_T_H_FH_d_t = get_Q_T_H_FH_d_t(Q_T_H_d_t, Q_max_H_floor_d_t)\n",
    "\n",
    "    # 熱源機のルームエアコンディショナー部の熱需要 (21)\n",
    "    Q_dmd_H_hs_RAC_d_t = calc_Q_dmd_H_hs_RAC_d_t(Q_T_H_d_t, Q_T_H_FH_d_t)\n",
    "\n",
    "    # 1時間当たりの補器の消費電力量 (11)\n",
    "    E_aux_hs_d_t = get_E_aux_hs_d_t(q_out_H_hs_d_t, Q_dmd_H_hs_RAC_d_t)\n",
    "\n",
    "    # 1時間当たりの熱源機の未処理暖房負荷\n",
    "    Q_UT_H_hs_d_t = get_Q_UT_H_hs_d_t(Q_dmd_H_hs_d_t, Q_out_H_hs_d_t)\n",
    "\n",
    "    # 1時間当たりの熱源機の消費電力量 (3)\n",
    "    E_E_hs_d_t = E_comp_hs_d_t + E_aux_hs_d_t + Q_UT_H_hs_d_t / 3600 * 1000\n",
    "\n",
    "    # 熱源機の平均暖房出力が0に等しい場合は0\n",
    "    E_E_hs_d_t[q_out_H_hs_d_t == 0] = 0\n",
    "\n",
    "    return E_E_hs_d_t\n"
   ]
  },
  {
   "cell_type": "markdown",
   "metadata": {},
   "source": [
    "#### 7.2 圧縮機の消費電力量 / Power consumption of compressor"
   ]
  },
  {
   "cell_type": "markdown",
   "metadata": {},
   "source": [
    "$$\\large\n",
    "E_{comp,hs,d,t} = \\frac{q_{out,H,hs,d,t} + q_{loss,H,hs,d,t}}{\\eta_{d,t} \\times C_{df,H,d,t} \\times e_{ref,H,th,d,t}}\n",
    "$$"
   ]
  },
  {
   "cell_type": "markdown",
   "metadata": {},
   "source": [
    "$E_{comp,hs,d,t}$：日付$d$の時刻$t$における1時間当たりの圧縮機の消費電力量(kWh/h) / Power consumption of compressor per hour at time $ t $ of date $ d $  \n",
    "$q_{out,H,hs,d,t}$：日付$d$の時刻$t$における熱源機の平均暖房出力(kW) / Average heating output of heat source machine at time $ t $ of date $ d $   \n",
    "$q_{loss,H,hs,d,t}$：日付$d$の時刻$t$における熱源機内の平均放熱損失(kW) / Average heat dissipation loss in heat source machine at time $ t $ of date $ d $  \n",
    "$\\eta_{d,t}$：日付$d$の時刻$t$における圧縮機の圧縮効率 / Compressor compression efficiency at time $ t $ of date $ d $   \n",
    "$e_{ref,H,th,d,t}$：日付$d$の時刻$t$におけるヒートポンプサイクルの理論暖房効率 / Theoretical heating efficiency of heat pump cycle at time $ t $ of date $ d $   \n",
    "$C_{df,H,d,t}$：日付$d$の時刻$t$におけるデフロストに関する暖房出力補正係数 / Heating output correction factor for defrost at time $ t $ of date $ d $   "
   ]
  },
  {
   "cell_type": "markdown",
   "metadata": {},
   "source": [
    "日付$d$の時刻$t$におけるヒートポンプサイクルの蒸発温度$\\theta_{ref,evp,d,t}$及び日付$d$の時刻$t$におけるヒートポンプサイクルの凝縮温度$\\theta_{ref,cnd,d,t}$ の関係が、$\\theta_{ref,evp,d,t} \\ge \\theta_{ref,cnd,d,t}$のときは、 $E_{comp,hs,d,t}$ = 0とする。 "
   ]
  },
  {
   "cell_type": "markdown",
   "metadata": {},
   "source": [
    "If the relationship between the evaporation temperature $\\theta_{ref,evp,d,t}$ of the heat pump cycle at time $ t $ of date $ d $ and the condensation temperature $\\theta_{ref,cnd,d,t}$ of the heat pump cycle at time $ t $ of date $ d $ is $\\theta_{ref,evp,d,t} \\ge \\theta_{ref,cnd,d,t}$, then  $E_{comp,hs,d,t}$ = 0."
   ]
  },
  {
   "cell_type": "code",
   "execution_count": 10,
   "metadata": {},
   "outputs": [],
   "source": [
    "# 1時間当たりの圧縮機の消費電力量 (4)\n",
    "def calc_E_comp_hs_d_t(region, A_HCZ, r_Af, Theta_SW_d_t, q_max_H_hs, Q_dmd_H_hs_d_t, Q_T_H_d_t):\n",
    "    \"\"\"[summary]\n",
    "    \n",
    "    :param region: 省エネルギー地域区分\n",
    "    :type region: int\n",
    "    :param A_HCZ: ルームエアコンディショナー付温水床暖房を設置する暖冷房区画の面積 (m2)\n",
    "    :type A_HCZ: float\n",
    "    :param r_Af: 当該住戸における温水床暖房の敷設率 (-)\n",
    "    :type r_Af: float\n",
    "    :param Theta_SW_d_t: 往き温水温度(℃)\n",
    "    :type Theta_SW_d_t: ndarray\n",
    "    :param q_max_H_hs: 熱源機の最大暖房能力 (W/m2)\n",
    "    :type q_max_H_hs: float\n",
    "    :param Q_dmd_H_hs_d_t: 1時間当たりの熱源機の熱需要 (MJ/h)\n",
    "    :type Q_dmd_H_hs_d_t: ndarray\n",
    "    :param Q_T_H_d_t: 1時間当たりの処理暖房負荷 (MJ/h)\n",
    "    :type Q_T_H_d_t: ndarray\n",
    "    :return: 1時間当たりの圧縮機の消費電力量\n",
    "    :rtype: ndarray\n",
    "    \"\"\"\n",
    "    # 外気温度湿度を取得\n",
    "    outdoor = load_outdoor()\n",
    "    Theta_ex_d_t = get_Theta_ex(region, outdoor)\n",
    "    X_ex = get_X_ex(region, outdoor)\n",
    "    h_ex_d_t = calc_h_ex(X_ex, Theta_ex_d_t)\n",
    "\n",
    "    # 熱源機の最大暖房出力 (15)\n",
    "    Q_max_H_hs_d_t = get_Q_max_H_hs_d_t(Theta_ex_d_t, Theta_SW_d_t, q_max_H_hs, h_ex_d_t)\n",
    "\n",
    "    # 1時間当たりの熱源機暖房出力 (14)\n",
    "    Q_out_H_hs_d_t = get_Q_out_H_hs_d_t(Q_dmd_H_hs_d_t, Q_max_H_hs_d_t)\n",
    "\n",
    "    # 熱源機の平均暖房出力 (12)\n",
    "    q_out_H_hs_d_t = get_q_out_H_hs_d_t(Q_out_H_hs_d_t)\n",
    "\n",
    "    # 温水床暖房の最大暖房出力\n",
    "    Q_max_H_floor_d_t = calc_Q_max_H_floor_d_t(Theta_SW_d_t, A_HCZ, r_Af)\n",
    "\n",
    "    # 温水床暖房の処理暖房負荷 (22)\n",
    "    Q_T_H_FH_d_t = get_Q_T_H_FH_d_t(Q_T_H_d_t, Q_max_H_floor_d_t)\n",
    "\n",
    "    # 熱源機のルームエアコンディショナー部の熱需要 (21)\n",
    "    Q_dmd_H_hs_RAC_d_t = calc_Q_dmd_H_hs_RAC_d_t(Q_T_H_d_t, Q_T_H_FH_d_t)\n",
    "\n",
    "    # 熱源機内の平均放熱温度 (10)\n",
    "    q_loss_H_hs_d_t = get_q_loss_H_hs_d_t(Theta_SW_d_t, Theta_ex_d_t, Q_dmd_H_hs_RAC_d_t)\n",
    "\n",
    "    # ヒートポンプサイクルの過熱度 (9)\n",
    "    Theta_ref_SH_d_t = get_Theta_ref_SH_d_t(q_out_H_hs_d_t, Theta_ex_d_t)\n",
    "\n",
    "    # ヒートポンプサイクルの過冷温度 (8)\n",
    "    Theta_ref_SC_d_t = get_Theta_ref_SC_d_t(Theta_SW_d_t, q_out_H_hs_d_t)\n",
    "\n",
    "    # ヒートポンプサイクルの凝縮温度 (7)\n",
    "    Theta_ref_cnd_d_t = get_Theta_ref_cnd_d_t(Theta_SW_d_t, q_out_H_hs_d_t)\n",
    "\n",
    "    # ヒートポンプサイクルの蒸発温度 (6)\n",
    "    Theta_ref_evp_d_t = get_Theta_ref_evp_d_t(q_out_H_hs_d_t, Theta_ex_d_t, h_ex_d_t)\n",
    "\n",
    "    # 圧縮機の圧縮効率 (5)\n",
    "    etr_d_t = get_etr_d_t(q_out_H_hs_d_t, q_max_H_hs)\n",
    "\n",
    "    # ヒートポンプサイクルの理論暖房効率 付録A (1)\n",
    "    e_ref_H_th_d_t = calc_e_ref_H_th(Theta_ref_evp_d_t, Theta_ref_cnd_d_t, Theta_ref_SC_d_t, Theta_ref_SH_d_t)\n",
    "\n",
    "    # ただし、10を超える場合は10\n",
    "    e_ref_H_th_d_t[e_ref_H_th_d_t > 10] = 10\n",
    "\n",
    "    # 1時間当たりの圧縮機の消費電力量 (4)\n",
    "    C_df_H_d_t = get_C_df_H_d_t(Theta_ex_d_t, h_ex_d_t)\n",
    "    E_com_hs_d_t = (q_out_H_hs_d_t + q_loss_H_hs_d_t) / (etr_d_t * C_df_H_d_t * e_ref_H_th_d_t)\n",
    "\n",
    "    # ヒートポンプサイクルの蒸発温度が凝縮温度以上の場合は0\n",
    "    E_com_hs_d_t[Theta_ref_evp_d_t >= Theta_ref_cnd_d_t] = 0\n",
    "\n",
    "    return E_com_hs_d_t\n"
   ]
  },
  {
   "cell_type": "markdown",
   "metadata": {},
   "source": [
    "日付$d$の時刻$t$におけるデフロストに関する暖房出力補正係数$C_{df,H,d,t}$は、日付$d$の時刻$t$における外気温度$\\theta_{ex,d,t}$が5℃未満かつ日付$d$の時刻$t$における外気相対湿度$h_{ex,d,t}$が80％以上の場合は0.85とし、それ以外の場合は1.0とする。 "
   ]
  },
  {
   "cell_type": "markdown",
   "metadata": {},
   "source": [
    "Heating output correction factor $ C_ {df, H, d, t} $ for defrost at time $ t $ on date $ d $ is 0.85 when outside temperature $ \\theta_{ex, d, t} $ at time $ t $ with date $ d $ is less than 5°C and relative humidity at the time $ t $ of date $ d $ $ h_{ex, d, t} $ is 80% or more, and is otherwise 1.0."
   ]
  },
  {
   "cell_type": "code",
   "execution_count": 11,
   "metadata": {},
   "outputs": [],
   "source": [
    "# デフロストに関する暖房出力補正係数\n",
    "def get_C_df_H_d_t(Theta_ex_d_t, h_ex_d_t):\n",
    "    \"\"\"デフロストに関する暖房出力補正係数\n",
    "    \n",
    "    :param Theta_ex_d_t: 外気温度(℃)\n",
    "    :type Theta_ex_d_t: ndarray\n",
    "    :param h_ex_d_t: 外気相対湿度\n",
    "    :type h_ex_d_t: ndarray\n",
    "    :return: デフロストに関する暖房出力補正係数\n",
    "    :rtype: ndarray\n",
    "    \"\"\"\n",
    "    C_df_H_d_t = np.ones(24 * 365)\n",
    "    C_df_H_d_t[(Theta_ex_d_t < 5.0) * (h_ex_d_t >= 80.0)] = 0.85\n",
    "    return C_df_H_d_t\n"
   ]
  },
  {
   "cell_type": "markdown",
   "metadata": {},
   "source": [
    "$$\\large\n",
    "\\eta_{d,t} = -0.9645 \\times \\Biggl( \\frac{q_{out,H,hs,d,t} \\times 1000}{q_{max,H,hs}} \\Biggr)^2 + 1.245 \\times \n",
    "\\Biggl( \\frac{q_{out,H,hs,d,t} \\times 1000}{q_{max,H,hs}} \\Biggr) + 0.347\n",
    "$$"
   ]
  },
  {
   "cell_type": "markdown",
   "metadata": {},
   "source": [
    "$q_{max,H,hs}$：熱源機の最大暖房能力(W) / Maximum heating capacity of heat source machine   "
   ]
  },
  {
   "cell_type": "code",
   "execution_count": 12,
   "metadata": {},
   "outputs": [],
   "source": [
    "# 圧縮機の圧縮効率 (5)\n",
    "def get_etr_d_t(q_out_H_hs_d_t, q_max_H_hs):\n",
    "    \"\"\"圧縮機の圧縮効率 (5)\n",
    "    \n",
    "    :param q_out_H_hs_d_t: 熱源機の平均暖房出力 (kW)\n",
    "    :type q_out_H_hs_d_t: ndarray\n",
    "    :param q_max_H_hs: 熱源機の最大暖房出力 (W)\n",
    "    :type q_max_H_hs: float\n",
    "    :return: 圧縮機の圧縮効率\n",
    "    :rtype: float\n",
    "    \"\"\"\n",
    "    tmp = (q_out_H_hs_d_t * 1000 / q_max_H_hs)\n",
    "    return -0.9645 * tmp * tmp \\\n",
    "           + 1.245 * tmp \\\n",
    "           + 0.347\n"
   ]
  },
  {
   "cell_type": "markdown",
   "metadata": {},
   "source": [
    "日付$d$の時刻$t$におけるヒートポンプサイクルの理論暖房効率$e_{ref,H,th,d,t}$が10を超える場合は、$e_{ref,H,th,d,t}$ = 10とする。 "
   ]
  },
  {
   "cell_type": "markdown",
   "metadata": {},
   "source": [
    "If the theoretical heating efficiency $ e_{ref, H, th, d, t} $ of the heat pump cycle at the time $ t $ of the date $ d $ exceeds 10, then $e_{ref,H,th,d,t}$ = 10."
   ]
  },
  {
   "cell_type": "markdown",
   "metadata": {},
   "source": [
    "$$\\large\n",
    "\\theta_{ref,evp,d,t} = -1.043 \\times q_{out,H,hs,d,t} + 1.008 \\times \\theta_{ex,d,t} + 0.032 \\times h_{ex,d,t} - 4.309\n",
    "$$\n",
    "<br><br>\n",
    "$$\\large\n",
    "\\theta_{ref,cnd,d,t} = 0.961 \\times \\theta_{SW,d,t} + 0.409 \\times q_{out,H,hs,d,t} + 3.301\n",
    "$$\n",
    "<br><br>\n",
    "$$\\large\n",
    "\\theta_{ref,SC,d,t} = -0.101 \\times \\theta_{SW,d,t} - 0.180 \\times q_{out,H,hs,d,t} + 7.162\n",
    "$$\n",
    "<br><br>\n",
    "$$\\large\n",
    "\\theta_{ref,SH,d,t} = -0.187 \\times q_{out,H,hs,d,t} + 0.142 \\times \\theta_{ex,d,t} + 1.873\n",
    "$$"
   ]
  },
  {
   "cell_type": "markdown",
   "metadata": {},
   "source": [
    "$\\theta_{ref,evp,d,t}$：日付$d$の時刻$t$におけるヒートポンプサイクルの蒸発温度(℃) / Evaporation temperature of heat pump cycle at time $ t $ of date $ d $  \n",
    "$\\theta_{ref,cnd,d,t}$：日付$d$の時刻$t$におけるヒートポンプサイクルの凝縮温度(℃) / Heat pump cycle condensation temperature at time $ t $ with date $ d $  \n",
    "$\\theta_{ref,SC,d,t}$：日付$d$の時刻$t$におけるヒートポンプサイクルの過冷却度(℃) / Degree of undercooling of heat pump cycle at time $ t $ of date $ d $  \n",
    "$\\theta_{ref,SH,d,t}$：日付$d$の時刻$t$におけるヒートポンプサイクルの過熱度(℃) / Heat pump cycle superheat at time $ t $ with date $ d $  \n",
    "$q_{out,H,hs,d,t}$：日付$d$の時刻$t$における熱源機の平均暖房出力(kW) / Average heating output of heat source machine at time $ t $ of date $ d $  \n",
    "$\\theta_{ex,d,t}$：日付$d$の時刻$t$における外気温度(℃) / Outside temperature at time $ t $ of date $ d $  \n",
    "$h_{ex,d,t}$：日付$d$の時刻$t$における外気相対湿度(℃) / Relative humidity at the time $ t $ of date $ d $  \n",
    "$\\theta_{SW,d,t}$：日付$d$の時刻$t$における往き温水温度(℃) / Hot water temperature at time $ t $ with date $ d $"
   ]
  },
  {
   "cell_type": "markdown",
   "metadata": {},
   "source": [
    "$\\theta_{ref,evp,d,t} < -50$のときは$\\theta_{ref,evp,d,t} = -50$とし、$\\theta_{ref,cnd,d,t} > 65$のときは$\\theta_{ref,cnd,d,t} = 65$とし、$\\theta_{ref,SC,d,t} < 0$のときは$\\theta_{ref,SC,d,t} = 0$とし、$\\theta_{ref,SH,d,t} < 0$のときは$\\theta_{ref,SH,d,t} = 0$とする。"
   ]
  },
  {
   "cell_type": "markdown",
   "metadata": {},
   "source": [
    "If $\\theta_{ref, evp, d, t} <-50$, then $\\theta_{ref, evp, d, t} = -50$, \n",
    "and when $\\theta_{ref, cnd, d, t}> 65$, then $\\theta_{ref, cnd, d, t} = 65$, \n",
    "and when $\\theta_{ref, SC, d, t} <0$, then $\\theta_{ref, SC, d,t} = 0$ \n",
    "and when $\\theta_{ref, SH, d, t} <0$, then $\\theta_{ref, SH, d, t} = 0$."
   ]
  },
  {
   "cell_type": "code",
   "execution_count": 13,
   "metadata": {},
   "outputs": [],
   "source": [
    "def get_Theta_ref_evp_d_t(q_out_H_hs_d_t, Theta_ex_d_t, h_ex_d_t):\n",
    "    \"\"\"ヒートポンプサイクルの蒸発温度 (6)\n",
    "    \n",
    "    :param q_out_H_hs_d_t: 熱源機の平均暖房出力 (kW)\n",
    "    :type q_out_H_hs_d_t: ndarray\n",
    "    :param Theta_ex_d_t: 外気温度(℃)\n",
    "    :type Theta_ex_d_t: ndarray\n",
    "    :param h_ex_d_t: 外気相対湿度\n",
    "    :type h_ex_d_t: ndarray\n",
    "    :return: ヒートポンプサイクルの蒸発温度\n",
    "    :rtype: ndarray\n",
    "    \"\"\"\n",
    "    Theta_ref_evp_d_t = -1.043 * q_out_H_hs_d_t + 1.008 * Theta_ex_d_t + 0.032 * h_ex_d_t - 4.309\n",
    "\n",
    "    # Theta_ref_evp_d_t < -50 のときは Theta_ref_evp_d_t = -50 とする\n",
    "    return np.clip(Theta_ref_evp_d_t, -50, None)\n"
   ]
  },
  {
   "cell_type": "code",
   "execution_count": 14,
   "metadata": {},
   "outputs": [],
   "source": [
    "def get_Theta_ref_cnd_d_t(Theta_SW_d_t, q_out_H_hs_d_t):\n",
    "    \"\"\"ヒートポンプサイクルの凝縮温度 (7)\n",
    "    \n",
    "    :param Theta_SW_d_t: 往き温水温度(℃)\n",
    "    :type Theta_SW_d_t: ndarray\n",
    "    :param q_out_H_hs_d_t: 熱源機の平均暖房出力 (kW)\n",
    "    :type q_out_H_hs_d_t: ndarray\n",
    "    :return: ヒートポンプサイクルの凝縮温度\n",
    "    :rtype: ndarray\n",
    "    \"\"\"\n",
    "    Theta_ref_cnd_d_t = 0.961 * Theta_SW_d_t + 0.409 * q_out_H_hs_d_t + 3.301\n",
    "\n",
    "    # Theta_ref_cnd_d_t > 65 のときは Theta_ref_cnd_d_t = 65 とする\n",
    "    ## C#に合わせて 60上限とする\n",
    "    return np.clip(Theta_ref_cnd_d_t, None, 60)\n"
   ]
  },
  {
   "cell_type": "code",
   "execution_count": 15,
   "metadata": {},
   "outputs": [],
   "source": [
    "def get_Theta_ref_SC_d_t(Theta_SW_d_t, q_out_H_hs_d_t):\n",
    "    \"\"\"ヒートポンプサイクルの過冷温度 (8)\n",
    "    \n",
    "    :param Theta_SW_d_t:  往き温水温度(℃)\n",
    "    :type Theta_SW_d_t: ndarray\n",
    "    :param q_out_H_hs_d_t: 熱源機の平均暖房出力 (kW)\n",
    "    :type q_out_H_hs_d_t: ndarray\n",
    "    :return: ヒートポンプサイクルの過冷温度\n",
    "    :rtype: ndarray\n",
    "    \"\"\"\n",
    "    Theta_ref_SC_d_t = -0.101 * Theta_SW_d_t - 0.180 * q_out_H_hs_d_t + 7.162\n",
    "\n",
    "    # Theta_ref_SC_d_t < 0 のときは Theta_ref_SC_d_t = 0 とする\n",
    "    return np.clip(Theta_ref_SC_d_t, 0, None)"
   ]
  },
  {
   "cell_type": "code",
   "execution_count": 16,
   "metadata": {},
   "outputs": [],
   "source": [
    "def get_Theta_ref_SH_d_t(q_out_H_hs_d_t, Theta_ex_d_t):\n",
    "    \"\"\"ヒートポンプサイクルの過熱度 (9)\n",
    "    \n",
    "    :param q_out_H_hs_d_t: 熱源機の平均暖房出力 (kW)\n",
    "    :type q_out_H_hs_d_t: ndarray\n",
    "    :param Theta_ex_d_t: 外気温度(℃)\n",
    "    :type Theta_ex_d_t: ndarray\n",
    "    :return: ヒートポンプサイクルの過熱度\n",
    "    :rtype: ndarray\n",
    "    \"\"\"\n",
    "    Theta_ref_SH_d_t = -0.187 * q_out_H_hs_d_t + 0.142 * Theta_ex_d_t + 1.873\n",
    "\n",
    "    # Theta_ref_SH_d_t < 0 のときは Theta_ref_SH_d_t = 0 とする\n",
    "    return np.clip(Theta_ref_SH_d_t, 0, None)"
   ]
  },
  {
   "cell_type": "markdown",
   "metadata": {},
   "source": [
    "$q_{loss,H,hs,d,t}$が0を下回る場合は、0とする。"
   ]
  },
  {
   "cell_type": "markdown",
   "metadata": {},
   "source": [
    "If $ q_{loss, H, hs, d, t} $ is less than 0, then 0."
   ]
  },
  {
   "cell_type": "markdown",
   "metadata": {},
   "source": [
    "$$\\large\n",
    "q_{loss,H,hs,d,t} = \\left\\{ \\begin{array}{ll}\n",
    "    0.004 \\times (\\theta_{SW,d,t} - \\theta_{ex,d,t}) & (Q_{dmd,H,hs,RAC,d,t} = 0)\\\\ \n",
    "    0.010 \\times (\\theta_{SW,d,t} - \\theta_{ex,d,t}) & (Q_{dmd,H,hs,RAC,d,t} > 0)\\\\ \n",
    "    \\end{array}\n",
    "\\right.\n",
    "$$"
   ]
  },
  {
   "cell_type": "markdown",
   "metadata": {},
   "source": [
    "$Q_{dmd,H,hs,RAC,d,t}$：日付$d$の時刻$t$における1時間当たりの熱源機のルームエアコンディショナー部の熱需要(MJ/h) / Heat demand of room air conditioner unit of heat source unit per hour at time $ t $ of date $ d $  "
   ]
  },
  {
   "cell_type": "code",
   "execution_count": 17,
   "metadata": {},
   "outputs": [],
   "source": [
    "def get_q_loss_H_hs_d_t(Theta_SW_d_t, Theta_ex_d_t, Q_dmd_H_hs_RAC_d_t):\n",
    "    \"\"\" 熱源機内の平均放熱温度 (10)\n",
    "    \n",
    "    :param Theta_SW_d_t: 往き温水温度(℃)\n",
    "    :type Theta_SW_d_t: ndarray\n",
    "    :param Theta_ex_d_t: 外気温度(℃)\n",
    "    :type Theta_ex_d_t: ndarray\n",
    "    :param Q_dmd_H_hs_RAC_d_t: 1時間当たりの熱源機のルームエアコンディショナー部の熱需要 (MJ/h)\n",
    "    :type Q_dmd_H_hs_RAC_d_t: ndarray\n",
    "    :return:  熱源機内の平均放熱温度\n",
    "    :rtype: ndarray\n",
    "    \"\"\"\n",
    "    # q_loss_H_hs_d_t が0を下回る場合は 0\n",
    "    q_loss_H_hs_d_t = np.zeros(24 * 365)\n",
    "\n",
    "    # Q_dmd_H_hs_RAC_d_t = 0 の場合\n",
    "    f1 = Q_dmd_H_hs_RAC_d_t == 0\n",
    "    q_loss_H_hs_d_t[f1] = 0.004 * (Theta_SW_d_t[f1] - Theta_ex_d_t[f1])\n",
    "\n",
    "    # Q_dmd_H_hs_RAC_d_t > 0 の場合\n",
    "    f2 = Q_dmd_H_hs_RAC_d_t > 0\n",
    "    q_loss_H_hs_d_t[f2] = 0.010 * (Theta_SW_d_t[f2] - Theta_ex_d_t[f2])\n",
    "\n",
    "    return q_loss_H_hs_d_t\n"
   ]
  },
  {
   "cell_type": "markdown",
   "metadata": {},
   "source": [
    "#### 7.3 補機の消費電力量 / Power consumption of auxiliary equipment"
   ]
  },
  {
   "cell_type": "markdown",
   "metadata": {},
   "source": [
    "$$\\large\n",
    "E_{aux,hs,d,t} = \\left\\{ \\begin{array}{ll}\n",
    "    0.034 \\times q_{out,H,hs,d,t} + 0.123 & (Q_{dmd,H,hs,RAC,d,t} = 0)\\\\ \n",
    "    0.020 \\times q_{out,H,hs,d,t} + 0.132 & (Q_{dmd,H,hs,RAC,d,t} > 0)\\\\ \n",
    "    \\end{array}\n",
    "\\right.\n",
    "$$"
   ]
  },
  {
   "cell_type": "markdown",
   "metadata": {},
   "source": [
    "$E_{aux,hs,d,t}$：日付$d$の時刻$t$における1時間当たりの補機の消費電力量(kWh/h) / Power consumption of accessory per hour at time $ t $ of date $ d $  \n",
    "$q_{out,H,hs,d,t}$：日付$d$の時刻$t$における熱源機の平均暖房出力(kW) / Average heating output of heat source machine at time $ t $ of date $ d $    \n",
    "$Q_{dmd,H,hs,RAC,d,t}$：日付$d$の時刻$t$における1時間当たりの熱源機のルームエアコンディショナー部の熱需要(MJ/h) / Heat demand of room air conditioner unit of heat source unit per hour at time $ t $ of date $ d $  "
   ]
  },
  {
   "cell_type": "code",
   "execution_count": 18,
   "metadata": {},
   "outputs": [],
   "source": [
    "def get_E_aux_hs_d_t(q_out_H_hs_d_t, Q_dmd_H_hs_RAC_d_t):\n",
    "    \"\"\"1時間当たりの補機の消費電力量 (11)\n",
    "    \n",
    "    :param q_out_H_hs_d_t:  熱源機の平均暖房出力 (kW)\n",
    "    :type q_out_H_hs_d_t: ndarray\n",
    "    :param Q_dmd_H_hs_RAC_d_t: 1時間当たりの熱源機のルームエアコンディショナー部の熱需要 (MJ/h)\n",
    "    :type Q_dmd_H_hs_RAC_d_t: ndarray\n",
    "    :return: 1時間当たりの補機の消費電力量 (kWh/h)\n",
    "    :rtype: ndarray\n",
    "    \"\"\"\n",
    "    E_aux_hs_d_t = np.zeros(24 * 365)\n",
    "\n",
    "    # Q_dmd_H_hs_RAC_d_t = 0 の場合\n",
    "    f1 = Q_dmd_H_hs_RAC_d_t == 0\n",
    "    E_aux_hs_d_t[f1] = 0.034 * q_out_H_hs_d_t[f1] + 0.123\n",
    "\n",
    "    # Q_dmd_H_hs_RAC_d_t > 0 の場合\n",
    "    f2 = Q_dmd_H_hs_RAC_d_t > 0\n",
    "    E_aux_hs_d_t[f2] = 0.020 * q_out_H_hs_d_t[f2] + 0.132\n",
    "\n",
    "    return E_aux_hs_d_t\n"
   ]
  },
  {
   "cell_type": "markdown",
   "metadata": {},
   "source": [
    "#### 7.4 熱源機の暖房出力と未処理暖房負荷 / Heating output of heat source machine and unprocessed heating load"
   ]
  },
  {
   "cell_type": "markdown",
   "metadata": {},
   "source": [
    "$$\\large\n",
    "q_{out,H,hs,d,t} = Q_{out,H,hs,d,t} \\div 3600 \\times 10^{3}\n",
    "$$"
   ]
  },
  {
   "cell_type": "markdown",
   "metadata": {},
   "source": [
    "$q_{out,H,hs,d,t}$：日付$d$の時刻$t$における熱源機の平均暖房出力(kW) / Average heating output of heat source machine at time $ t $ of date $ d $  \n",
    "$Q_{out,H,hs,d,t}$：日付$d$の時刻$t$における1時間当たりの熱源機暖房出力(MJ/h) / Heat source machine heating output per hour at time $ t $ of date $ d $  "
   ]
  },
  {
   "cell_type": "code",
   "execution_count": 19,
   "metadata": {},
   "outputs": [],
   "source": [
    "def get_q_out_H_hs_d_t(Q_out_H_hs_d_t):\n",
    "    \"\"\"熱源機の平均暖房出力 (12)\n",
    "    \n",
    "    :param Q_out_H_hs_d_t: 1時間当たりの熱源機暖房出力 (MJ/h)\n",
    "    :type Q_out_H_hs_d_t: ndarray\n",
    "    :return: 熱源機の平均暖房出力 (kW)\n",
    "    :rtype: ndarray\n",
    "    \"\"\"\n",
    "    return Q_out_H_hs_d_t / 3600 * 10 ** 3\n"
   ]
  },
  {
   "cell_type": "markdown",
   "metadata": {},
   "source": [
    "$$\\large\n",
    "Q_{UT,H,hs,d,t} = Q_{dmd,H,hs,d,t} - Q_{out,H,hs,d,t}\n",
    "$$"
   ]
  },
  {
   "cell_type": "markdown",
   "metadata": {},
   "source": [
    "$Q_{UT,H,hs,d,t}$：日付$d$の時刻$t$における1時間当たりの熱源機の未処理暖房負荷(MJ/h) / Raw heating load of heat source unit per hour at time $ t $ of date $ d $  \n",
    "$Q_{dmd,H,hs,d,t}$：日付$d$の時刻$t$における1時間当たりの熱源機の熱需要(MJ/h) / Heat demand of heat source machine per hour at time $ t $ of date $ d $  "
   ]
  },
  {
   "cell_type": "code",
   "execution_count": 20,
   "metadata": {},
   "outputs": [],
   "source": [
    "def get_Q_UT_H_hs_d_t(Q_dmd_H_hs_d_t, Q_out_H_hs_d_t):\n",
    "    \"\"\"1時間当たりの熱源機の未処理暖房負荷 (13)\n",
    "    \n",
    "    :param Q_dmd_H_hs_d_t:  1時間当たりの熱源機の熱需要 (MJ/h)\n",
    "    :type Q_dmd_H_hs_d_t: ndarray\n",
    "    :param Q_out_H_hs_d_t: 1時間当たりの熱源機暖房出力 (MJ/h)\n",
    "    :type Q_out_H_hs_d_t: ndarray\n",
    "    :return: 1時間当たりの熱源機の未処理暖房負荷 (MJ/h)\n",
    "    :rtype: ndarray\n",
    "    \"\"\"\n",
    "    return Q_dmd_H_hs_d_t - Q_out_H_hs_d_t\n"
   ]
  },
  {
   "cell_type": "markdown",
   "metadata": {},
   "source": [
    "$$\\large\n",
    "Q_{out,H,hs,d,t} = \\left\\{ \\begin{array}{ll}\n",
    "    Q_{dmd,H,hs,d,t} & (Q_{dmd,H,hs,d,t} \\leq Q_{max,H,hs,d,t})\\\\ \n",
    "    Q_{max,H,hs,d,t} & (Q_{dmd,H,hs,d,t} > Q_{max,H,hs,d,t})\\\\ \n",
    "    \\end{array}\n",
    "\\right.\n",
    "$$"
   ]
  },
  {
   "cell_type": "markdown",
   "metadata": {},
   "source": [
    "$Q_{max,H,hs,d,t}$：日付$d$の時刻$t$における1時間当たりの熱源機の最大暖房出力(MJ/h) / Maximum heating output of heat source unit per hour at time $ t $ of date $ d $"
   ]
  },
  {
   "cell_type": "code",
   "execution_count": 21,
   "metadata": {},
   "outputs": [],
   "source": [
    "def get_Q_out_H_hs_d_t(Q_dmd_H_hs_d_t, Q_max_H_hs_d_t):\n",
    "    \"\"\"1時間当たりの熱源機暖房出力 (14)\n",
    "    \n",
    "    :param Q_dmd_H_hs_d_t: 1時間当たりの熱源機の熱需要 (MJ/h)\n",
    "    :type Q_dmd_H_hs_d_t: ndarray\n",
    "    :param Q_max_H_hs_d_t: 1時間当たりの熱源機の最大暖房出力 (MJ/h)\n",
    "    :type Q_max_H_hs_d_t: ndarray\n",
    "    :return: 1時間当たりの熱源機暖房出力 (MJ/h)\n",
    "    :rtype: ndarray\n",
    "    \"\"\"\n",
    "    Q_out_H_hs_d_t = np.zeros(24 * 365)\n",
    "\n",
    "    # Q_dmd_H_hs_dt <= Q_max_H_hs_d_t の場合\n",
    "    f1 = Q_dmd_H_hs_d_t <= Q_max_H_hs_d_t\n",
    "    Q_out_H_hs_d_t[f1] = Q_dmd_H_hs_d_t[f1]\n",
    "\n",
    "    # Q_dmd_H_hs_dt > Q_max_H_hs_d_t の場合\n",
    "    f2 = Q_dmd_H_hs_d_t > Q_max_H_hs_d_t\n",
    "    Q_out_H_hs_d_t[f2] = Q_max_H_hs_d_t[f2]\n",
    "\n",
    "    return Q_out_H_hs_d_t"
   ]
  },
  {
   "cell_type": "markdown",
   "metadata": {},
   "source": [
    "$$\\large\n",
    "Q_{max,H,hs,d,t} = (11.62 + 0.2781 \\times \\theta_{ex,d,t} - 0.00113 \\times \\theta^2_{ex,d,t} - 0.1271 \\times \\theta_{SW,d,t} \\\\\n",
    "\\large\n",
    "- 0.00363 \\times \\theta_{ex,d,t} \\times \\theta_{SW,d,t}) \\times \\frac{q_{max,H,hs} \\times 0.8}{6} \\times \\frac{C_{df,d,t}}{0.85} \\times 3600 \\times 10^{-6}\n",
    "$$"
   ]
  },
  {
   "cell_type": "markdown",
   "metadata": {},
   "source": [
    "$\\theta_{ex,d,t}$：日付$d$の時刻$t$における外気温度(℃) / Outside temperature at time $ t $ of date $ d $  \n",
    "$\\theta_{SW,d,t}$：日付$d$の時刻$t$における往き温水温度(℃) / Hot water temperature at time $ t $ with date $ d $  \n",
    "$C_{df,H,d,t}$：日付$d$の時刻$t$におけるデフロストに関する暖房出力補正係数 / Heating output correction factor for defrost at time $ t $ of date $ d $  \n",
    "$q_{max,H,hs}$：熱源機の最大暖房能力(W) / Maximum heating capacity of heat source machine  "
   ]
  },
  {
   "cell_type": "markdown",
   "metadata": {},
   "source": [
    "日付$d$の時刻$t$におけるデフロストに関する暖房出力補正係数$C_{df,H,d,t}$は、日付$d$の時刻$t$における外気温度$\\theta_{ex,d,t}$が5℃未満かつ日付$d$の時刻$t$における外気相対湿度$h_{ex,d,t}$が80％以上の場合は0.85とし、それ以外の場合は1.0とする。 "
   ]
  },
  {
   "cell_type": "markdown",
   "metadata": {},
   "source": [
    "Heating output correction factor $ C_ {df, H, d, t} $ for defrost at time $ t $ on date $ d $ is 0.85 when outside temperature $ \\theta_{ex, d, t} $ at time $ t $ with date $ d $ is less than 5°C and relative humidity at the time $ t $ of date $ d $ $ h_{ex, d, t} $ is 80% or more, and is otherwise 1.0."
   ]
  },
  {
   "cell_type": "code",
   "execution_count": 22,
   "metadata": {},
   "outputs": [],
   "source": [
    "def get_Q_max_H_hs_d_t(Theta_ex_d_t, Theta_SW_d_t, q_max_H_hs, h_ex_d_t):\n",
    "    \"\"\"熱源機の最大暖房出力 (15)\n",
    "    \n",
    "    :param Theta_ex_d_t: 外気温度 (℃)\n",
    "    :type Theta_ex_d_t: ndarray\n",
    "    :param Theta_SW_d_t: 往き温水温度 (℃)\n",
    "    :type Theta_SW_d_t: ndarray\n",
    "    :param q_max_H_hs: 熱源機の最大暖房出力 (W)\n",
    "    :type q_max_H_hs: float\n",
    "    :param h_ex_d_t: 外気相対湿度\n",
    "    :type h_ex_d_t: ndarray\n",
    "    :return: 熱源機の最大暖房出力 (MJ/h)\n",
    "    :rtype: ndarray\n",
    "    \"\"\"\n",
    "    # デフロストに関する暖房出力補正係数\n",
    "    # ※ (15)式の直下に書かれており、(4)式のそれと被るため、あえてここに記述します。\n",
    "    C_df_H_d_t = np.ones(24 * 365)\n",
    "    C_df_H_d_t[np.logical_and(Theta_ex_d_t < 5, h_ex_d_t >= 80.0)] = 0.85\n",
    "\n",
    "    # 熱源機の最大暖房出力\n",
    "    Q_max_H_hs_d_t = (11.62 + 0.2781 * Theta_ex_d_t - 0.00113 * Theta_ex_d_t ** 2 - 0.1271 * Theta_SW_d_t\n",
    "                      - 0.00363 * Theta_ex_d_t * Theta_SW_d_t) * (q_max_H_hs * 0.8 / 6) * \\\n",
    "                     (C_df_H_d_t / 0.85) * 3600 / 10 ** 6\n",
    "\n",
    "    return Q_max_H_hs_d_t\n"
   ]
  },
  {
   "cell_type": "markdown",
   "metadata": {},
   "source": [
    "$$\\large\n",
    "q_{max,H,hs} = q_{rq,H} \\times A_{HCZ} \\times f_{cT} \\times f_{cI}\n",
    "$$"
   ]
  },
  {
   "cell_type": "markdown",
   "metadata": {},
   "source": [
    "$q_{rq,H}$：単位面積当たりの必要暖房能力(W/m<sup>2</sup>) / Required heating capacity per unit area  \n",
    "$A_{HCZ}$：暖冷房区画の床面積(m<sup>2</sup>) / Floor area of heating and cooling compartment  \n",
    "$f_{cT}$：外気温度能力補正係数 / Outside air temperature ability correction factor  \n",
    "$f_{cI}$：間歇運転能力補正係数 / Intermittent driving ability correction factor  "
   ]
  },
  {
   "cell_type": "code",
   "execution_count": 23,
   "metadata": {},
   "outputs": [],
   "source": [
    "def calc_q_max_H_hs(region, A_HCZ, R_type):\n",
    "    \"\"\"熱源機の最大暖房能力 (16)\n",
    "    \n",
    "    :param region: 省エネルギー地域区分\n",
    "    :type region: int\n",
    "    :param A_HCZ: 暖冷房区画の床面積 (m2)\n",
    "    :type A_HCZ: float\n",
    "    :param R_type: 暖冷房区画の種類\n",
    "    :type R_type: string\n",
    "    :return: 熱源機の最大暖房能力 (W/m2)\n",
    "    :rtype: float\n",
    "    \"\"\"\n",
    "    # 単位面積当たりの必要暖房能力 (W/m2)\n",
    "    q_rq_H = calc_q_rq_H(region, R_type)\n",
    "\n",
    "    # 外気温度能力補正係数\n",
    "    f_cT = get_f_cT()\n",
    "\n",
    "    # 間歇運転能力補正係数\n",
    "    f_cI = get_f_cI(R_type)\n",
    "\n",
    "    return q_rq_H * A_HCZ * f_cT * f_cI\n"
   ]
  },
  {
   "cell_type": "markdown",
   "metadata": {},
   "source": [
    "外気温度能力補正係数$f_{cT}$は、1.05の値とする。間歇運転能力補正係数$f_{cI}$は、主たる居室の場合3.03とし、その他の居室の場合1.62とする。 "
   ]
  },
  {
   "cell_type": "markdown",
   "metadata": {},
   "source": [
    "The outside air temperature ability correction coefficient $ f_{cT} $ has a value of 1.05. The intermittent operation ability correction coefficient $ f_{cI} $ is set to 3.03 for the main room and 1.62 for the other rooms."
   ]
  },
  {
   "cell_type": "markdown",
   "metadata": {},
   "source": [
    "<div style=\"text-align: center;font-weight: bold;\">表　単位面積当たりの必要暖房能力(W/m<sup>2</sup>)<br>Table: Required heating capacity per unit area</div>\n",
    "\n",
    "|地域の区分<br>Segmentation of area|主たる居室<br>Main room|その他の居室<br>Other rooms|\n",
    "|-|-|-|\n",
    "|1|139.26|62.28|\n",
    "|2|120.65|53.26|\n",
    "|3|111.32|53.81|\n",
    "|4|118.98|55.41|\n",
    "|5|126.56|59.43|\n",
    "|6|106.48|49.93|\n",
    "|7|112.91|53.48|\n",
    "|8|-|-|\n"
   ]
  },
  {
   "cell_type": "code",
   "execution_count": 24,
   "metadata": {},
   "outputs": [],
   "source": [
    "def calc_q_rq_H(region, R_type):\n",
    "    \"\"\"単位面積当たりの必要暖房能力\n",
    "    :param region: 省エネルギー地域区分\n",
    "    :type region: int\n",
    "    :param R_type: 暖冷房区画の種類\n",
    "    :type R_type: string\n",
    "    :raises ValueError: R_type が '主たる居室' または 'その他の居室' 以外の場合に発生する\n",
    "    :return: 単位面積当たりの必要暖房能力\n",
    "    :rtype: float\n",
    "    \"\"\"\n",
    "    table_3 = get_table_3()\n",
    "    if R_type == '主たる居室':\n",
    "        return table_3[region - 1][0]\n",
    "    elif R_type == 'その他の居室':\n",
    "        return table_3[region - 1][1]\n",
    "    else:\n",
    "        raise ValueError(R_type)\n",
    "\n",
    "\n",
    "# 外気温度能力補正係数\n",
    "def get_f_cT():\n",
    "    \"\"\"外気温度能力補正係数\n",
    "    \n",
    "    :return: 外気温度能力補正係数\n",
    "    :rtype: float\n",
    "    \"\"\"\n",
    "    return 1.05\n",
    "\n",
    "\n",
    "# 間歇運転能力補正係数\n",
    "def get_f_cI(R_type):\n",
    "    \"\"\"[summary]\n",
    "    \n",
    "    :param R_type: 暖冷房区画の種類\n",
    "    :type R_type: string\n",
    "    :raises NotImplementedError:  R_type が '主たる居室' または 'その他の居室' 以外の場合に発生する\n",
    "    :return: 間歇運転能力補正係数\n",
    "    :rtype: float\n",
    "    \"\"\"\n",
    "    if R_type == '主たる居室':\n",
    "        return 3.03\n",
    "    elif R_type == 'その他の居室':\n",
    "        return 1.62\n",
    "    else:\n",
    "        raise NotImplementedError()\n",
    "\n",
    "\n",
    "# 表3 単位面積当たりの必要暖房能力 (W/m2)\n",
    "def get_table_3():\n",
    "    \"\"\"表3 単位面積当たりの必要暖房能力 (W/m2)\n",
    "    \n",
    "    :return: 表3 単位面積当たりの必要暖房能力 (W/m2)\n",
    "    :rtype: list\n",
    "    \"\"\"\n",
    "    table_3 = [\n",
    "        (139.26, 62.28),\n",
    "        (120.65, 53.26),\n",
    "        (111.32, 53.81),\n",
    "        (118.98, 55.41),\n",
    "        (126.56, 59.43),\n",
    "        (106.48, 49.93),\n",
    "        (112.91, 53.48),\n",
    "        (None, None)\n",
    "    ]\n",
    "    return table_3"
   ]
  },
  {
   "cell_type": "markdown",
   "metadata": {},
   "source": [
    "#### 7.5 熱源機の熱需要 / Heat demand of heat source machine"
   ]
  },
  {
   "cell_type": "markdown",
   "metadata": {},
   "source": [
    "#### 7.5.1 熱源機の熱需要 / Heat demand of heat source machine"
   ]
  },
  {
   "cell_type": "markdown",
   "metadata": {},
   "source": [
    "$$\\large\n",
    "Q_{dmd,H,hs,d,t} = Q_{dmd,H,hs,FH,d,t} + Q_{dmd,H,hs,RAC,d,t}\n",
    "$$"
   ]
  },
  {
   "cell_type": "markdown",
   "metadata": {},
   "source": [
    "$Q_{dmd,H,hs,d,t}$：日付$d$の時刻$t$における1時間当たりの熱源機の熱需要(MJ/h) / Heat demand of heat source machine per hour at time $ t $ of date $ d $  \n",
    "$Q_{dmd,H,hs,FH,d,t}$：日付$d$の時刻$t$における1時間当たりの熱源機の温水床暖房部の熱需要(MJ/h) / Heat demand of hot-bed floor heating unit of heat-source unit per hour at time $ t $ of date $ d $   \n",
    "$Q_{dmd,H,hs,RAC,d,t}$：日付$d$の時刻$t$における1時間当たりの熱源機のルームエアコンディショナー部の熱需要(MJ/h) / Heat demand of room air conditioner unit of heat source unit per hour at time $ t $ of date $ d $  "
   ]
  },
  {
   "cell_type": "code",
   "execution_count": 25,
   "metadata": {},
   "outputs": [],
   "source": [
    "# 1時間当たりの熱源機の熱需要 (17)\n",
    "def get_Q_dmd_H_hs_d_t(Q_dmd_H_hs_FH_d_t, Q_dmd_H_hs_RAC_d_t):\n",
    "    \"\"\"[summary]\n",
    "    \n",
    "    :param Q_dmd_H_hs_FH_d_t: 1時間当たりの熱源機の温水床暖房部の熱需要\n",
    "    :type Q_dmd_H_hs_FH_d_t: ndarray\n",
    "    :param Q_dmd_H_hs_RAC_d_t: 1時間当たりの熱源機のルームエアコンディショナー部の熱需要 (MJ/h)\n",
    "    :type Q_dmd_H_hs_RAC_d_t: ndarray\n",
    "    :return: 1時間当たりの熱源機の熱需要 (17)\n",
    "    :rtype: ndarray\n",
    "    \"\"\"\n",
    "    # 1時間当たりの熱源機の熱需要\n",
    "    Q_dmd_H_hs_d_t = Q_dmd_H_hs_FH_d_t + Q_dmd_H_hs_RAC_d_t\n",
    "\n",
    "    return Q_dmd_H_hs_d_t\n"
   ]
  },
  {
   "cell_type": "markdown",
   "metadata": {},
   "source": [
    "#### 7.5.2 熱源機の温水床暖房部の熱需要 / Heat demand of the hot-water floor heating unit of the heat source machine"
   ]
  },
  {
   "cell_type": "markdown",
   "metadata": {},
   "source": [
    "$$\\large\n",
    "Q_{dmd,H,hs,FH,d,t} = Q_{T,H,FH,d,t} + Q_{loss,FH,d,t} + Q_{loss,pp,d,t}\n",
    "$$"
   ]
  },
  {
   "cell_type": "markdown",
   "metadata": {},
   "source": [
    "$Q_{dmd,H,hs,FH,d,t}$：日付$d$の時刻$t$における1時間当たりの熱源機の温水床暖房部の熱需要(MJ/h) / Heat demand of hot-bed floor heating unit of heat-source unit per hour at time $ t $ of date $ d $   \n",
    "$Q_{T,H,FH,d,t}$：日付$d$の時刻$t$における1時間当たりの温水床暖房の処理暖房負荷(MJ/h) / Processing heating load of heated floor heating per hour at time $ t $ on date $ d $  \n",
    "$Q_{loss,FH,d,t}$：日付$d$の時刻$t$における1時間当たりの温水床暖房の放熱損失(MJ/h) / Heat dissipation loss of heated floor heating per hour at time $ t $ of date $ d $  \n",
    "$Q_{loss,pp,d,t}$：日付$d$の時刻$t$における1時間当たりの配管の放熱損失(MJ/h) / Heat dissipation loss of piping per hour at time $ t $ of date $ d $  "
   ]
  },
  {
   "cell_type": "code",
   "execution_count": 26,
   "metadata": {},
   "outputs": [],
   "source": [
    "# 1時間当たりの熱源機の温水床暖房部の熱需要 (18)\n",
    "def calc_Q_dmd_H_hs_FH_d_t(i, A_A_act, r_up, has_pipe, Theta_SW_d_t, Theta_ex_d_t, Q_max_H_floor_d_t,\n",
    "                          Q_T_H_d_t):\n",
    "    \"\"\"1時間当たりの熱源機の温水床暖房部の熱需要 (18)\n",
    "    \n",
    "    :param i: 暖冷房区画の番号\n",
    "    :type i: int\n",
    "    :param A_A_act: 当該住戸における床面積の合計 (m2)\n",
    "    :type A_A_act: float\n",
    "    :param r_up: 当該住戸の温水床暖房の上面放熱率\n",
    "    :type r_up: float\n",
    "    :param has_pipe: 配管断熱の有無\n",
    "    :type has_pipe: bool\n",
    "    :param Theta_SW_d_t: 往き温水温度(℃)\n",
    "    :type Theta_SW_d_t: ndarray\n",
    "    :param Theta_ex_d_t: 外気温度(℃)\n",
    "    :type Theta_ex_d_t: ndarray\n",
    "    :param Q_max_H_floor_d_t: 1時間当たりの温水床暖房の最大暖房出力 (MJ/h)\n",
    "    :type Q_max_H_floor_d_t: ndarray\n",
    "    :param Q_T_H_d_t: 1時間当たりの処理暖房負荷 (MJ/h)\n",
    "    :type Q_T_H_d_t: ndarray\n",
    "    :return: 1時間当たりの熱源機の温水床暖房部の熱需要 (MJ/h)\n",
    "    :rtype: ndarray\n",
    "    \"\"\"\n",
    "    L_pp_ex = calc_L_pp_ex(i, A_A_act)\n",
    "\n",
    "    # 配管の断熱区間内における長さ (20b)\n",
    "    L_pp_in = calc_L_pp_in(i, A_A_act)\n",
    "\n",
    "    # 1時間当たりの温水床暖房の処理暖房負荷\n",
    "    Q_T_H_FH_d_t = get_Q_T_H_FH_d_t(Q_T_H_d_t, Q_max_H_floor_d_t)\n",
    "\n",
    "    # 温水床暖房の温水供給運転率\n",
    "    r_WS_rad_d_t = calc_r_WS_rad_d_t(Q_T_H_FH_d_t, Q_max_H_floor_d_t)\n",
    "\n",
    "    # 1時間当たりの配管の放熱損失 (19)\n",
    "    Q_loss_pp_d_t = calc_Q_loss_pp_d_t(Theta_SW_d_t, Theta_ex_d_t, L_pp_ex, L_pp_in, has_pipe, r_WS_rad_d_t)\n",
    "\n",
    "    # 1時間当たりの温水床暖房の放熱損失\n",
    "    Q_loss_FH_d_t = calc_Q_loss_FH_d_t(Q_T_H_FH_d_t, r_up)\n",
    "\n",
    "    # 1時間当たりの熱源機の温水床暖房部の熱需要 (18)\n",
    "    Q_dmd_H_hs_FH_d_t = Q_T_H_FH_d_t + Q_loss_FH_d_t + Q_loss_pp_d_t\n",
    "\n",
    "    return Q_dmd_H_hs_FH_d_t\n"
   ]
  },
  {
   "cell_type": "markdown",
   "metadata": {},
   "source": [
    "$$\\large\n",
    "Q_{loss,pp,d,t} = \\Bigl( \\bigl( \\theta_{SW,d,t} - (\\theta_{ex,d,t} \\times 0.7 + 20 \\times 0.3) \\bigr) \\times \n",
    "L_{pp,ex} + (\\theta_{SW,d,t} - 20) \\times L_{pp,in} \\Bigr) \\times K_{loss,pp} \\\\\n",
    "\\large\n",
    "\\times r_{WS,rad,d,t} \\times 3600 \\times 10^{-6}\n",
    "$$"
   ]
  },
  {
   "cell_type": "markdown",
   "metadata": {},
   "source": [
    "$\\theta_{SW,d,t}$：日付$d$の時刻$t$における往き温水温度(℃) / Hot water temperature at time $ t $ with date $ d $   \n",
    "$\\theta_{ex,d,t}$：日付$d$の時刻$t$における外気温度(℃) / Outside temperature at time $ t $ of date $ d $  \n",
    "$L_{pp,ex}$：配管の断熱区画外における長さ(m) / Length outside the adiabatic section of piping  \n",
    "$L_{pp,in}$：配管の断熱区画内における長さ(m) / Length in the adiabatic section of the piping  \n",
    "$K_{loss,pp}$：配管の線熱損失係数(W/mK) / Line heat loss coefficient of piping   \n",
    "$r_{WS,rad,d,t}$：日付$d$の時刻$t$における温水床暖房の温水供給運転率 / Hot water supply operation rate of heated floor heating at time $ t $ of date $ d $  "
   ]
  },
  {
   "cell_type": "code",
   "execution_count": 27,
   "metadata": {},
   "outputs": [],
   "source": [
    "def calc_Q_loss_pp_d_t(Theta_SW_d_t, Theta_ex_d_t, L_pp_ex, L_pp_in, has_pipe, r_WS_rad_d_t):\n",
    "    \"\"\"配管の熱損失 (19)\n",
    "    \n",
    "    :param Theta_SW_d_t: 往き温水温度(℃)\n",
    "    :type Theta_SW_d_t: ndarray\n",
    "    :param Theta_ex_d_t: 外気温度(℃)\n",
    "    :type Theta_ex_d_t: ndarray\n",
    "    :param L_pp_ex: 配管の断熱区間外における長さ(m)\n",
    "    :type L_pp_ex: float\n",
    "    :param L_pp_in: 配管の断熱区間内における長さ(m)\n",
    "    :type L_pp_in: float\n",
    "    :param has_pipe: 配管断熱の有無\n",
    "    :type has_pipe: bool\n",
    "    :param r_WS_rad_d_t: 温水床暖房の温水供給運転率\n",
    "    :type r_WS_rad_d_t: ndarray\n",
    "    :return: 1時間当たりの配管の放熱損失\n",
    "    :rtype: ndarray\n",
    "    \"\"\"\n",
    "    # 配管の線熱損失係数 (W/mK)\n",
    "    K_loss_pp = get_K_loss_pp(has_pipe)\n",
    "\n",
    "    return ((Theta_SW_d_t - (Theta_ex_d_t * 0.7 + 20 * 0.3)) * L_pp_ex + (\n",
    "            Theta_SW_d_t - 20) * L_pp_in) * K_loss_pp * r_WS_rad_d_t * 3600 / 1000000"
   ]
  },
  {
   "cell_type": "markdown",
   "metadata": {},
   "source": [
    "$$\\large\n",
    "L_{pp,ex} = L_{pp,ex,R} \\times \\sqrt{\\frac{A_{A,act}}{A_{A,R}}} \\\\\n",
    "$$\n",
    "\n",
    "$$\\large\n",
    "L_{pp,in} = L_{pp,in,R} \\times \\sqrt{\\frac{A_{A,act}}{A_{A,R}}} \\\\\n",
    "$$"
   ]
  },
  {
   "cell_type": "markdown",
   "metadata": {},
   "source": [
    "$L_{pp,ex,R}$, $L_{pp,in,R}$：暖冷房区画ごとに表により表される係数 / Coefficients represented by a table for each heating and cooling section  \n",
    "$A_{A,act}$：当該住戸における床面積の合計(m<sup>2</sup>) / Total floor area of the dwelling unit  \n",
    "$A_{A,R}$：標準住戸における床面積の合計(m<sup>2</sup>) / Total floor space of standard dwelling units  "
   ]
  },
  {
   "cell_type": "code",
   "execution_count": 28,
   "metadata": {},
   "outputs": [],
   "source": [
    "def calc_L_pp_ex(i, A_A_act):\n",
    "    \"\"\"配管の断熱区画外における長さ (20a)\n",
    "    \n",
    "    :param i: 暖冷房区画の番号\n",
    "    :type i: int\n",
    "    :param A_A_act: 当該住戸における床面積の合計(m2)\n",
    "    :type A_A_act: float\n",
    "    :return: 配管の断熱区画外における長さ(m)\n",
    "    :rtype: float\n",
    "    \"\"\"\n",
    "\n",
    "    # 暖冷房区画ごとに表4に表される係数\n",
    "    L_pp_ex_R = get_L_pp_ex_R(i)\n",
    "\n",
    "    # 標準住戸における床面積の合計\n",
    "    A_A_R = get_A_A_R()\n",
    "\n",
    "    # 配管の断熱区画外における長さ\n",
    "    L_pp_ex = L_pp_ex_R * sqrt(A_A_act / A_A_R)\n",
    "\n",
    "    return L_pp_ex\n",
    "\n",
    "\n",
    "# 配管の断熱区間内における長さ (20b)\n",
    "def calc_L_pp_in(i, A_A_act):\n",
    "    \"\"\"配管の断熱区間内における長さ (20b)\n",
    "    \n",
    "    :param i: 暖冷房区画の番号\n",
    "    :type i: int\n",
    "    :param A_A_act: 当該住戸における床面積の合計(m2)\n",
    "    :type A_A_act: float\n",
    "    :return: 配管の断熱区画内における長さ(m)\n",
    "    :rtype: float\n",
    "    \"\"\"\n",
    "\n",
    "    # 暖冷房区画ごとに表4に表される係数\n",
    "    L_pp_in_R = get_L_pp_in_R(i)\n",
    "\n",
    "    # 標準住戸における床面積の合計\n",
    "    A_A_R = get_A_A_R()\n",
    "\n",
    "    # 配管の断熱区画内における長さ\n",
    "    L_pp_in = L_pp_in_R * sqrt(A_A_act / A_A_R)\n",
    "\n",
    "    return L_pp_in\n",
    "\n",
    "\n",
    "# 暖冷房区画ごとに表4に表される係数 L_pp_ex_R\n",
    "def get_L_pp_ex_R(i):\n",
    "    \"\"\"暖冷房区画ごとに表4に表される係数 L_pp_ex_R\n",
    "    \n",
    "    :param i: 暖冷房区画の番号\n",
    "    :type i: int\n",
    "    :return: 暖冷房区画ごとに表4に表される係数\n",
    "    :rtype: float\n",
    "    \"\"\"\n",
    "    table_4 = get_table_4()\n",
    "    if i == 1:\n",
    "        return table_4[0][0]\n",
    "    elif i in [3, 4, 5]:\n",
    "        return table_4[0][i - 2]\n",
    "    else:\n",
    "        ValueError(i)\n",
    "\n",
    "\n",
    "# 暖冷房区画ごとに表4に表される係数 L_pp_in_R\n",
    "def get_L_pp_in_R(i):\n",
    "    \"\"\"暖冷房区画ごとに表4に表される係数 L_pp_in_R\n",
    "    \n",
    "    :param i: 暖冷房区画の番号\n",
    "    :type i: int\n",
    "    :return: 暖冷房区画ごとに表4に表される係数\n",
    "    :rtype: float\n",
    "    \"\"\"\n",
    "    table_4 = get_table_4()\n",
    "    if i == 1:\n",
    "        return table_4[1][0]\n",
    "    elif i in [3, 4, 5]:\n",
    "        return table_4[1][i - 2]\n",
    "    else:\n",
    "        ValueError(i)"
   ]
  },
  {
   "cell_type": "markdown",
   "metadata": {},
   "source": [
    "標準住戸における床面積の合計$A_{A,R}$は、120.08とする。 "
   ]
  },
  {
   "cell_type": "markdown",
   "metadata": {},
   "source": [
    "The total floor area $ A_{A, R} $ in the standard dwelling unit is 120.08."
   ]
  },
  {
   "cell_type": "code",
   "execution_count": 29,
   "metadata": {},
   "outputs": [],
   "source": [
    "def get_A_A_R():\n",
    "    \"\"\"標準住戸における床面積の合計\n",
    "    \n",
    "    :return: 標準住戸における床面積の合計(m2)\n",
    "    :rtype: float\n",
    "    \"\"\"\n",
    "    return 120.08\n"
   ]
  },
  {
   "cell_type": "markdown",
   "metadata": {},
   "source": [
    "<div style=\"text-align: center;font-weight: bold;\">表　係数$L_{pp,ex,R}$及び$L_{pp,in,R}$<br>Table: Coefficients $ L_ {pp, ex, R} $ and $ L_ {pp, in, R} $</div>\n",
    "\n",
    "<table>\n",
    "<thead>\n",
    "<tr>\n",
    "<th rowspan=\"3\"></th>\n",
    "<th colspan=\"4\" style=\"text-align:center\">暖冷房区画の番号<br>Number of heating and cooling section</th>\n",
    "</tr>\n",
    "<tr>\n",
    "<th>1</th>\n",
    "<th>2</th>\n",
    "<th>3</th>\n",
    "<th>4</th>\n",
    "</tr>\n",
    "<tr>\n",
    "<th>居間・食堂・台所<br>Living room<br>dining room<br>kitchen</th>\n",
    "<th>主寝室<br>Master bedroom</th>\n",
    "<th>子供室１<br>Children's room 1</th>\n",
    "<th>子供室２<br>Children's room 2</th>\n",
    "</tr>\n",
    "</thead>\n",
    "\n",
    "<tbody>\n",
    "<tr>\n",
    "<th>$L_{pp,ex,R}$</th>\n",
    "<td>27.86</td>\n",
    "<td>0.00</td>\n",
    "<td>0.00</td>\n",
    "<td>0.00</td>\n",
    "</tr>\n",
    "<tr>\n",
    "<th>$L_{pp,in,R}$</th>\n",
    "<td>0.00</td>\n",
    "<td>16.54</td>\n",
    "<td>12.90</td>\n",
    "<td>20.30</td>\n",
    "</tr>\n",
    "</tbody>\n",
    "</table>\n"
   ]
  },
  {
   "cell_type": "code",
   "execution_count": 30,
   "metadata": {},
   "outputs": [],
   "source": [
    "def get_table_4():\n",
    "    \"\"\"表4 係数L_pp_ex_R及びL_pp_in_R\n",
    "    \n",
    "    :return: 表4 係数L_pp_ex_R及びL_pp_in_R\n",
    "    :rtype: list\n",
    "    \"\"\"\n",
    "    # 表4 係数L_pp_ex_R及びL_pp_in_R\n",
    "    table_4 = [\n",
    "        (27.86, 0.00, 0.00, 0.00),\n",
    "        (0.00, 16.54, 12.90, 20.30)\n",
    "    ]\n",
    "    return table_4\n"
   ]
  },
  {
   "cell_type": "markdown",
   "metadata": {},
   "source": [
    "配管の線熱損失係数$K_{loss,pp}$は、配管の断熱の有無によって区別し、配管のすべての部分について線熱損失係数が0.21（W/mK）を上回るものについては0.21とし、それ以外のものについては0.15とする。 "
   ]
  },
  {
   "cell_type": "markdown",
   "metadata": {},
   "source": [
    "The line heat loss coefficient $ K_{loss, pp} $ of piping is distinguished according to the presence or absence of heat insulation of piping, and 0.21 (W / mK) is assumed for the linear heat loss coefficient of all parts of piping, For other things, it is 0.15."
   ]
  },
  {
   "cell_type": "code",
   "execution_count": 31,
   "metadata": {},
   "outputs": [],
   "source": [
    "def get_K_loss_pp(has_pipe):\n",
    "    \"\"\"配管の線熱損失係数\n",
    "    \n",
    "    :param has_pipe: 配管の断熱の有無\n",
    "    :type has_pipe: bool\n",
    "    :return: 配管の線熱損失係数 (W/mK)\n",
    "    :rtype: float\n",
    "    \"\"\"\n",
    "    if has_pipe:\n",
    "        return 0.15\n",
    "    else:\n",
    "        return 0.21\n"
   ]
  },
  {
   "cell_type": "code",
   "execution_count": 32,
   "metadata": {},
   "outputs": [],
   "source": [
    "def calc_r_WS_rad_d_t(Q_T_H_FH_d_t, Q_max_H_floor_d_t):\n",
    "    \"\"\"温水床暖房の温水供給運転率\n",
    "    \n",
    "    :param Q_T_H_FH_d_t: 温水床暖房の処理暖房負荷 [MJ/h]\n",
    "    :type Q_T_H_FH_d_t: ndarray\n",
    "    :param Q_max_H_floor_d_t: 温水床暖房の最大暖房出力\n",
    "    :type Q_max_H_floor_d_t: ndarray\n",
    "    :return: 温水床暖房の温水供給運転率\n",
    "    :rtype: ndarray\n",
    "    \"\"\"\n",
    "    return hwfloor.get_r_WS_rad(\n",
    "        Q_T_H_rad=Q_T_H_FH_d_t,\n",
    "        Q_max_H_rad=Q_max_H_floor_d_t\n",
    "    )\n"
   ]
  },
  {
   "cell_type": "code",
   "execution_count": 33,
   "metadata": {},
   "outputs": [],
   "source": [
    "def calc_Q_loss_FH_d_t(Q_T_H_FH_d_t, r_up):\n",
    "    \"\"\"温水床暖房の放熱損失\n",
    "    \n",
    "    :param Q_T_H_FH_d_t: 温水暖房の処理暖房負荷 [MJ/h]\n",
    "    :type Q_T_H_FH_d_t: ndarray\n",
    "    :param r_up: 当該住戸の温水床暖房の上面放熱率 [-]\n",
    "    :type r_up: ndarray\n",
    "    :return: 温水床暖房の放熱損失\n",
    "    :rtype: ndarray\n",
    "    \"\"\"\n",
    "    return hwfloor.get_Q_loss_rad(Q_T_H_rad=Q_T_H_FH_d_t, r_up=r_up)\n"
   ]
  },
  {
   "cell_type": "markdown",
   "metadata": {},
   "source": [
    "#### 7.5.3 熱源機のルームエアコンディショナー部の熱需要 / Heat demand of room air conditioner unit of heat source machine"
   ]
  },
  {
   "cell_type": "markdown",
   "metadata": {},
   "source": [
    "$$\\large\n",
    "Q_{dmd,H,hs,RAC,d,t} = Q_{T,H,RAC,d,t}\n",
    "$$"
   ]
  },
  {
   "cell_type": "markdown",
   "metadata": {},
   "source": [
    "$Q_{dmd,H,hs,RAC,d,t}$：日付$d$の時刻$t$における1時間当たりの熱源機のルームエアコンディショナー部の熱需要(MJ/h) / Heat demand of room air conditioner unit of heat source unit per hour at time $ t $ of date $ d $  \n",
    "$Q_{T,H,RAC,d,t}$：日付$d$の時刻$t$における1時間当たりのルームエアコンディショナーの処理暖房負荷(MJ/h) / Processing heating load of room air conditioner per hour at time $ t $ of date $ d $  "
   ]
  },
  {
   "cell_type": "code",
   "execution_count": 34,
   "metadata": {},
   "outputs": [],
   "source": [
    "def calc_Q_dmd_H_hs_RAC_d_t(Q_T_H_d_t, Q_T_H_FH_d_t):\n",
    "    \"\"\"熱源機のルームエアコンディショナー部の熱需要 (21)\n",
    "\n",
    "    :param Q_T_H_d_t: 1時間当たりの処理暖房負荷 (MJ/h)\n",
    "    :type Q_T_H_d_t: ndarray    \n",
    "    :param Q_T_H_FH_d_t: 1時間当たりの温水床暖房の処理暖房負荷 (MJ/h)\n",
    "    :type Q_T_H_FH_d_t: ndarray\n",
    "    :return: 熱源機のルームエアコンディショナー部の熱需要 (MJ/h)\n",
    "    :rtype: ndarray\n",
    "    \"\"\"\n",
    "    return get_Q_T_H_RAC_d_t(Q_T_H_d_t, Q_T_H_FH_d_t)"
   ]
  },
  {
   "cell_type": "markdown",
   "metadata": {},
   "source": [
    "#### 7.6 処理暖房負荷 / Processing heating load"
   ]
  },
  {
   "cell_type": "markdown",
   "metadata": {},
   "source": [
    "$$\\large\n",
    "Q_{T,H,FH,d,t} = \\left\\{ \\begin{array}{ll}\n",
    "    Q_{T,H,d,t} & (Q_{T,H,d,t} \\leq Q_{max,H,floor,d,t})\\\\ \n",
    "    Q_{max,H,floor,d,t} & (Q_{T,H,d,t} > Q_{max,H,floor,d,t})\\\\ \n",
    "    \\end{array}\n",
    "\\right.\n",
    "$$"
   ]
  },
  {
   "cell_type": "markdown",
   "metadata": {},
   "source": [
    "$$\\large\n",
    "Q_{T,H,RAC,d,t} = Q_{T,H,d,t} - Q_{T,H,FH,d,t}\n",
    "$$"
   ]
  },
  {
   "cell_type": "markdown",
   "metadata": {},
   "source": [
    "$Q_{T,H,FH,d,t}$：日付$d$の時刻$t$における1時間当たりの温水床暖房の処理暖房負荷(MJ/h) / Processing heating load of heated floor heating per hour at time $ t $ on date $ d $  \n",
    "$Q_{T,H,RAC,d,t}$：日付$d$の時刻$t$における1時間当たりのルームエアコンディショナーの処理暖房負荷(MJ/h) / Processing heating load of room air conditioner per hour at time $ t $ of date $ d $  \n",
    "$Q_{T,H,d,t}$：日付$d$の時刻$t$における1時間当たりの処理暖房負荷(MJ/h) / Processing heating load per hour at time $ t $ of date $ d $  \n",
    "$Q_{max,H,floor,d,t}$：日付$d$の時刻$t$における1時間当たりの温水床暖房の最大暖房出力(MJ/h) / Maximum heating output of heated floor heating per hour at time $ t $ on date $ d $  "
   ]
  },
  {
   "cell_type": "code",
   "execution_count": 35,
   "metadata": {},
   "outputs": [],
   "source": [
    "def get_Q_T_H_FH_d_t(Q_T_H_d_t, Q_max_H_floor_d_t):\n",
    "    \"\"\"温水床暖房の処理暖房負荷 (22)\n",
    "    \n",
    "    :param Q_T_H_d_t: 1時間当たりの処理暖房負荷 (MJ/h)\n",
    "    :type Q_T_H_d_t: ndarray\n",
    "    :param Q_max_H_floor_d_t: 1時間当たりの温水床暖房の最大暖房出力 (MJ/h)\n",
    "    :type Q_max_H_floor_d_t: ndarray\n",
    "    :return: 温水床暖房の処理暖房負荷 (MJ/h)\n",
    "    :rtype: ndarray\n",
    "    \"\"\"\n",
    "\n",
    "    Q_T_H_FH_d_t = np.zeros(24*365)\n",
    "\n",
    "    f1 = Q_T_H_d_t <= Q_max_H_floor_d_t\n",
    "    Q_T_H_FH_d_t[f1] = Q_T_H_d_t[f1]\n",
    "\n",
    "    f2 = Q_T_H_d_t > Q_max_H_floor_d_t\n",
    "    Q_T_H_FH_d_t[f2] = Q_max_H_floor_d_t[f2]\n",
    "\n",
    "    return Q_T_H_FH_d_t\n",
    "\n",
    "\n",
    "\n",
    "# ルームエアコンディショナーの処理暖房負荷 (23)\n",
    "def get_Q_T_H_RAC_d_t(Q_T_H_d_t, Q_T_H_FH_d_t):\n",
    "    \"\"\"ルームエアコンディショナーの処理暖房負荷 (23)\n",
    "    \n",
    "    :param Q_T_H_d_t: 1時間当たりの処理暖房負荷 (MJ/h)\n",
    "    :type Q_T_H_d_t: ndarray\n",
    "    :param Q_T_H_FH_d_t: 1時間当たりの温水床暖房の処理暖房負荷 (MJ/h)\n",
    "    :type Q_T_H_FH_d_t: ndarray\n",
    "    :return: 1時間当たりのルームエアコンディショナーの処理暖房負荷 (MJ/h)\n",
    "    :rtype: ndarray\n",
    "    \"\"\"\n",
    "    return Q_T_H_d_t - Q_T_H_FH_d_t\n"
   ]
  },
  {
   "cell_type": "markdown",
   "metadata": {},
   "source": [
    "#### 7.7 往き温水温度 / Hot water temperature going forward"
   ]
  },
  {
   "cell_type": "markdown",
   "metadata": {},
   "source": [
    "日付$d$の時刻$t$における往き温水温度$\\theta_{SW,d,t}$は36℃とする。"
   ]
  },
  {
   "cell_type": "markdown",
   "metadata": {},
   "source": [
    "The forward hot water temperature $ \\theta_{SW, d, t} $ at the time $ t $ of the date $ d $ is 36 ° C."
   ]
  },
  {
   "cell_type": "code",
   "execution_count": 36,
   "metadata": {},
   "outputs": [],
   "source": [
    "def get_Theta_SW_d_t():\n",
    "    \"\"\"往き温水温度 (℃)\n",
    "    \n",
    "    :return: 往き温水温度 (℃)\n",
    "    :rtype: ndarray\n",
    "    \"\"\"\n",
    "    return 36.0 * np.ones(24 * 365)\n"
   ]
  },
  {
   "cell_type": "markdown",
   "metadata": {},
   "source": [
    "### 8. 冷房 / Air conditioning"
   ]
  },
  {
   "cell_type": "markdown",
   "metadata": {},
   "source": [
    "ルームエアコンディショナー付温水床暖房における冷房時のエネルギー消費量及び最大冷房出力については、第四章「暖冷房」第三節「ルームエアコンディショナー」6.「冷房」により規定される。 "
   ]
  },
  {
   "cell_type": "markdown",
   "metadata": {},
   "source": [
    "The energy consumption and maximum cooling output at the time of cooling in a hot-water floor heating system with a room air conditioner are specified by Chapter 4, \"Heating and Cooling\", third section \"Room Air Conditioner\" 6. \"Cooling\"."
   ]
  },
  {
   "cell_type": "code",
   "execution_count": 37,
   "metadata": {},
   "outputs": [],
   "source": [
    "def calc_E_E_C_d_t(region, outdoor, q_rtd_C, e_rtd_C, L_CS_d_t, L_CL_d_t):\n",
    "    \"\"\"消費電力量\n",
    "    ルームエアコンディショナー付温水床暖房における冷房時のエネルギー所肥料及び最大冷房出力については、\n",
    "    ルームエアコンディショナーの冷房と同じ。\n",
    "    \n",
    "    :param region: 省エネルギー地域区分\n",
    "    :type region: int\n",
    "    :param outdoor: 気温[℃],絶湿[g/kg']\n",
    "    :type outdoor: DataFrame\n",
    "    :param q_rtd_C: 定格冷房能力\n",
    "    :type q_rtd_C: float\n",
    "    :param e_rtd_C: 定格冷房エネルギー消費効率\n",
    "    :type e_rtd_C: float\n",
    "    :param L_CS_d_t: 暖冷房区画の 1 時間当たりの冷房顕熱負荷\n",
    "    :type L_CS_d_t: ndarray\n",
    "    :param L_CL_d_t: 暖冷房区画の 1 時間当たりの冷房潜熱負荷\n",
    "    :type L_CL_d_t: ndarray\n",
    "    :return: 消費電力量\n",
    "    :rtype: ndarray\n",
    "    \"\"\"\n",
    "    return rac.calc_E_E_C_d_t(region, outdoor, q_rtd_C, e_rtd_C, L_CS_d_t, L_CL_d_t)\n"
   ]
  },
  {
   "cell_type": "markdown",
   "metadata": {},
   "source": [
    "## 試算例"
   ]
  },
  {
   "cell_type": "code",
   "execution_count": 38,
   "metadata": {},
   "outputs": [],
   "source": [
    "def calc_results(param, H_MR, H_OR, i):\n",
    "\n",
    "    if __name__ == \"__main__\":\n",
    "        from s02_01_b_heat_conversion_coefficient import get_f_prim\n",
    "        from s03_01_hc_load_general import get_Q, get_A_HCZ_i\n",
    "        from s03_02_envelope_performance import calc_r_env, get_Q_dash, get_eta_H, get_eta_C\n",
    "        from s04_01_general import calc_heating_load, get_alpha_UT_H_MR, get_alpha_UT_H_OR\n",
    "        from s04_01_a_heating_method import calc_heating_mode\n",
    "\n",
    "\n",
    "        region = param[\"region\"]\n",
    "        sol_region = None\n",
    "        A_A = param[\"A_A\"]\n",
    "        A_MR = param[\"A_MR\"]\n",
    "        A_OR = param[\"A_OR\"]\n",
    "        A_env = param[\"A_env\"]\n",
    "        U_A = param[\"U_A\"]\n",
    "        eta_A_H = param[\"eta_A_H\"]\n",
    "        eta_A_C = param[\"eta_A_C\"]\n",
    "        NV_MR = 0\n",
    "        NV_OR = 0\n",
    "        r_A_ufvnt = None\n",
    "        underfloor_insulation = False\n",
    "        TS = None\n",
    "        HEX = None\n",
    "\n",
    "        if i == 1 and H_MR is not None:\n",
    "            r_Af = H_MR['r_Af']\n",
    "            r_up = H_MR['r_up']\n",
    "            pipe_insulation = H_MR['pipe_insulation']\n",
    "        elif 2 <= i <= 5 and H_OR is not None:\n",
    "            r_Af = H_OR['r_Af']\n",
    "            r_up = H_OR['r_up']\n",
    "            pipe_insulation = H_OR['pipe_insulation']\n",
    "        else:\n",
    "            r_Af = None\n",
    "            r_up = None\n",
    "            pipe_insulation = None\n",
    "\n",
    "\n",
    "        mode_C = None\n",
    "        mode_H = '居室のみを暖房する方式でかつ主たる居室とその他の居室ともに温水暖房を設置する場合に該当しない場合'\n",
    "\n",
    "        # 暖冷房区画の床面積\n",
    "        A_HCZ = get_A_HCZ_i(i, A_A, A_MR, A_OR)\n",
    "        # print('A_HCZ:{}'.format(A_HCZ))\n",
    "\n",
    "        # 床面積の合計に対する外皮の部位の面積の合計の比\n",
    "        r_env = calc_r_env(method='当該住戸の外皮の部位の面積等を用いて外皮性能を評価する方法',\n",
    "                           A_env=A_env, A_A=A_A)\n",
    "\n",
    "        # 熱損失係数\n",
    "        Q_dash = get_Q_dash(U_A, r_env)\n",
    "        Q = get_Q(Q_dash)\n",
    "\n",
    "        # 日射取得係数\n",
    "        mu_H = get_eta_H(eta_A_H, r_env)\n",
    "        mu_C = get_eta_C(eta_A_C, r_env)\n",
    "\n",
    "        # 暖房方式及び運転方法の区分\n",
    "        mode_MR, mode_OR = calc_heating_mode(region=region, H_MR=H_MR, H_OR=H_OR)\n",
    "\n",
    "        # 暖房負荷\n",
    "        L_H_d_t = \\\n",
    "            calc_heating_load(region, sol_region, A_A, A_MR, A_OR, Q, mu_H, mu_C, NV_MR, NV_OR, TS, r_A_ufvnt, HEX,\n",
    "                              underfloor_insulation, mode_H, mode_C, spec_MR=H_MR, spec_OR=H_OR, mode_MR=mode_MR,\n",
    "                              mode_OR=mode_OR, SHC=None)[0][i - 1]\n",
    "\n",
    "\n",
    "        # 一次エネルギー消費量\n",
    "        E_E_d_t = calc_E_E_d_t(region, A_A, i, A_HCZ, r_Af, r_up, pipe_insulation, L_H_d_t)\n",
    "        E_G_d_t = get_E_G_d_t()\n",
    "        E_K_d_t = get_E_K_d_t()\n",
    "        E_M_d_t = get_E_M_d_t()\n",
    "\n",
    "\n",
    "        # 放熱器の未処理暖房負荷\n",
    "        Q_UT_H_d_t = calc_Q_UT_H_d_t(region, A_HCZ, r_Af, L_H_d_t)\n",
    "\n",
    "        alpha_UT_H = get_alpha_UT_H_MR(region, mode_MR) if i == 1 else get_alpha_UT_H_OR(region, mode_OR)\n",
    "        E_UT_H_d_t = Q_UT_H_d_t * alpha_UT_H\n",
    "\n",
    "        f_prim = get_f_prim()\n",
    "        E_H_d_t = E_E_d_t * f_prim / 1000 + E_G_d_t + E_K_d_t + E_M_d_t + E_UT_H_d_t\n",
    "\n",
    "        print('E_H:{}MJ/y'.format(np.sum(E_H_d_t)))\n",
    "\n",
    "        return E_H_d_t"
   ]
  },
  {
   "cell_type": "code",
   "execution_count": 39,
   "metadata": {},
   "outputs": [],
   "source": [
    "def get_each_graph(_E_H_d_t):\n",
    "\n",
    "    import matplotlib.pyplot as plt\n",
    "\n",
    "    _E_H_d = np.sum(_E_H_d_t.reshape(365,24), axis = 1)\n",
    "\n",
    "    fig = plt.figure(figsize = (20,7))\n",
    "\n",
    "    grh_day = fig.add_subplot(211)\n",
    "    grh_day.set_ylabel('MJ/d')\n",
    "    grh_day.set_xlabel('day')\n",
    "    grh_day.plot(_E_H_d, label = \"E_H\")\n",
    "    grh_day.legend()\n",
    "\n",
    "    grh_date = fig.add_subplot(212)\n",
    "    grh_date.set_ylabel('MJ/h')\n",
    "    grh_date.set_xlabel('hour')\n",
    "    grh_date.plot(_E_H_d_t.reshape(365,24)[334], label = \"E_H:12/1\")\n",
    "    grh_date.plot(_E_H_d_t.reshape(365,24)[59], label = \"E_H:3/1\")\n",
    "    grh_date.legend()\n",
    "\n",
    "    plt.show()\n"
   ]
  },
  {
   "cell_type": "markdown",
   "metadata": {},
   "source": [
    "|名称1|名称2|変数名|計算条件1|計算条件2|計算条件3|計算条件4|\n",
    "|----|------|--|--|--|--|--|\n",
    "|地域の区分|-|$ region$|6|6|6|6|\n",
    "|延床面積|合計|$A_A$|120.08|120.08|120.08|120.08|\n",
    "|延床面積|主居室|$A_{MR}$|29.81|29.81|29.81|29.81|\n",
    "|延床面積|その他居室|$A_{OR}$|51.34|51.34|51.34|51.34|\n",
    "|外皮面積|-|$A_{env}$|307.51|307.51|307.51|307.51|\n",
    "|外皮平均熱貫流率|-|$U_A$|0.87|0.87|0.87|0.87|\n",
    "|暖房期平均日射熱取得率|-|$\\eta_{AH}$|4.3|4.3|4.3|4.3|\n",
    "|冷房期平均日射熱取得率|-|$\\eta_{AC}$|2.8|2.8|2.8|2.8|\n",
    "|暖房設備（主居室）|設備|$type$|RAC付温水床暖|RAC付温水床暖|RAC付温水床暖|-|\n",
    "|暖房設備（主居室）|敷設率|$r_{Af}$|0.4|<b>0.3</b>|0.4|-|\n",
    "|暖房設備（主居室）|敷設率（仮想床除く）|$r'_{Af}$|-|<b>0.4</b>|-|-|\n",
    "|暖房設備（主居室）|上面放熱率|$r_{up}$|0.9|0.9|<b>0.95</b>|-|\n",
    "|暖房設備（主居室）|断熱配管の採用|$pipe_{insulation}$|有|有|<b>無</b>|-|\n",
    "|暖房設備（その他居室）|設備|$type$|-|-|-|<b>RAC付温水床暖</b>|\n",
    "|暖房設備（その他居室）|敷設率|$r_{Af}$|-|-|-|<b>0.3</b>|\n",
    "|暖房設備（その他居室）|上面放熱率|$r_{up}$|-|-|-|<b>0.9</b>|\n",
    "|暖房設備（その他居室）|断熱配管の採用|$pipe_{insulation}$|-|-|-|<b>有</b>|\n",
    "|暖冷房区画の番号|-|$i$|1|1|1|<b>5</b>|\n"
   ]
  },
  {
   "cell_type": "markdown",
   "metadata": {},
   "source": [
    "### 計算条件1"
   ]
  },
  {
   "cell_type": "code",
   "execution_count": 40,
   "metadata": {},
   "outputs": [
    {
     "name": "stdout",
     "output_type": "stream",
     "text": [
      "Importing Jupyter notebook from s02_01_b_heat_conversion_coefficient.ipynb\n",
      "Importing Jupyter notebook from s03_01_hc_load_general.ipynb\n",
      "Importing Jupyter notebook from s03_01_hc_load_general_file.ipynb\n",
      "Importing Jupyter notebook from s03_01_d_ventilation_via_underfloor.ipynb\n",
      "Importing Jupyter notebook from s03_01_e_underfloor_temperature.ipynb\n",
      "Importing Jupyter notebook from s03_02_envelope_performance.ipynb\n",
      "Importing Jupyter notebook from s03_02_08_envelope_performance_detail.ipynb\n",
      "Importing Jupyter notebook from s03_02_09_envelope_performance_simple.ipynb\n",
      "Importing Jupyter notebook from s03_02_b_temperature_difference_coefficient.ipynb\n",
      "Importing Jupyter notebook from s03_02_c_orientation_coefficient.ipynb\n",
      "Importing Jupyter notebook from s03_04_solar_heat_gain_coefficient.ipynb\n",
      "Importing Jupyter notebook from s04_01_general.ipynb\n",
      "Importing Jupyter notebook from s04_01_a_heating_method.ipynb\n",
      "Importing Jupyter notebook from s04_01_b_cooling_method.ipynb\n",
      "Importing Jupyter notebook from s04_02_central_heating_system_with_duct.ipynb\n",
      "Importing Jupyter notebook from s04_07_i_pipe.ipynb\n",
      "Importing Jupyter notebook from s11_03_life_schedule.ipynb\n",
      "Importing Jupyter notebook from s04_02_a_central_heating_system_with_duct.ipynb\n",
      "Importing Jupyter notebook from s04_02_b_central_heating_system_with_duct.ipynb\n",
      "Importing Jupyter notebook from s04_04_ff_type_heating.ipynb\n",
      "Importing Jupyter notebook from s04_05_electric_floor_heating.ipynb\n",
      "Importing Jupyter notebook from s04_06_electric_thermal_storage_type_heating.ipynb\n",
      "Importing Jupyter notebook from s04_07_Hot_water_heating.ipynb\n",
      "Importing Jupyter notebook from s04_07_a_kerosene_boiler.ipynb\n",
      "Importing Jupyter notebook from s04_07_h_max_capacity_of_hot_water_floor_heating.ipynb\n",
      "Importing Jupyter notebook from s04_07_b_gas_boiler.ipynb\n",
      "Importing Jupyter notebook from s04_07_c_electric_heater.ipynb\n",
      "Importing Jupyter notebook from s04_07_d_electric_heatpump.ipynb\n",
      "Importing Jupyter notebook from s04_07_e_hybrid_hw_gas_ht_hybrid.ipynb\n",
      "Importing Jupyter notebook from s04_07_common.ipynb\n",
      "Importing Jupyter notebook from s04_07_f_hybrid_hw_hybrid_ht_gas.ipynb\n",
      "Importing Jupyter notebook from s04_07_g_hybrid_hw_hybrid_ht_hybrid.ipynb\n",
      "Importing Jupyter notebook from s04_07_n.ipynb\n",
      "Importing Jupyter notebook from s04_07_j_panel_radiator.ipynb\n",
      "Importing Jupyter notebook from s04_07_m_max_capacity_of_radiator.ipynb\n",
      "Importing Jupyter notebook from s04_07_k_fan_convector.ipynb\n",
      "Importing Jupyter notebook from s04_08_hot_water_floor_heating_with_rac.ipynb\n",
      "E_H:12365.991906605313MJ/y\n"
     ]
    }
   ],
   "source": [
    "param = {\"region\": 6, \"A_A\": 120.08, \"A_MR\": 29.81, \"A_OR\": 51.34, \"A_env\": 307.51,\n",
    "         \"U_A\": 0.87, \"eta_A_H\": 4.3, \"eta_A_C\": 2.8}\n",
    "H_MR = {'type': 'ルームエアコンディショナー付温水床暖房機', 'r_Af': 0.4, 'r_up': 0.9, 'pipe_insulation': True}\n",
    "H_OR = None\n",
    "i = 1\n",
    "\n",
    "E_H_d_t_i_1 = calc_results(param, H_MR, H_OR, i)\n"
   ]
  },
  {
   "cell_type": "code",
   "execution_count": 41,
   "metadata": {},
   "outputs": [
    {
     "data": {
      "image/png": "[encoded data removed]",
      "text/plain": [
       "<Figure size 1440x504 with 2 Axes>"
      ]
     },
     "metadata": {
      "needs_background": "light"
     },
     "output_type": "display_data"
    }
   ],
   "source": [
    "get_each_graph(E_H_d_t_i_1)"
   ]
  },
  {
   "cell_type": "markdown",
   "metadata": {},
   "source": [
    "### 計算条件2"
   ]
  },
  {
   "cell_type": "code",
   "execution_count": 42,
   "metadata": {},
   "outputs": [
    {
     "name": "stdout",
     "output_type": "stream",
     "text": [
      "E_H:12366.867949013025MJ/y\n"
     ]
    }
   ],
   "source": [
    "param = {\"region\": 6, \"A_A\": 120.08, \"A_MR\": 29.81, \"A_OR\": 51.34, \"A_env\": 307.51,\n",
    "         \"U_A\": 0.87, \"eta_A_H\": 4.3, \"eta_A_C\": 2.8}\n",
    "H_MR = {'type': 'ルームエアコンディショナー付温水床暖房機', 'r_Af': 0.3, 'r_dash_Af': 0.4, 'r_up': 0.9, 'pipe_insulation': True}\n",
    "H_OR = None\n",
    "i = 1\n",
    "\n",
    "E_H_d_t_i_2 = calc_results(param, H_MR, H_OR, i)"
   ]
  },
  {
   "cell_type": "code",
   "execution_count": 43,
   "metadata": {},
   "outputs": [
    {
     "data": {
      "image/png": "[encoded data removed]",
      "text/plain": [
       "<Figure size 1440x504 with 2 Axes>"
      ]
     },
     "metadata": {
      "needs_background": "light"
     },
     "output_type": "display_data"
    }
   ],
   "source": [
    "get_each_graph(E_H_d_t_i_2)"
   ]
  },
  {
   "cell_type": "markdown",
   "metadata": {},
   "source": [
    "### 計算条件3"
   ]
  },
  {
   "cell_type": "code",
   "execution_count": 44,
   "metadata": {},
   "outputs": [
    {
     "name": "stdout",
     "output_type": "stream",
     "text": [
      "E_H:12361.117120496176MJ/y\n"
     ]
    }
   ],
   "source": [
    "param = {\"region\": 6, \"A_A\": 120.08, \"A_MR\": 29.81, \"A_OR\": 51.34, \"A_env\": 307.51,\n",
    "         \"U_A\": 0.87, \"eta_A_H\": 4.3, \"eta_A_C\": 2.8}\n",
    "H_MR = {'type': 'ルームエアコンディショナー付温水床暖房機', 'r_Af': 0.4, 'r_up': 0.95, 'pipe_insulation': False}\n",
    "H_OR = None\n",
    "i = 1\n",
    "\n",
    "E_H_d_t_i_3 = calc_results(param, H_MR, H_OR, i)"
   ]
  },
  {
   "cell_type": "code",
   "execution_count": 45,
   "metadata": {},
   "outputs": [
    {
     "data": {
      "image/png": "[encoded data removed]",
      "text/plain": [
       "<Figure size 1440x504 with 2 Axes>"
      ]
     },
     "metadata": {
      "needs_background": "light"
     },
     "output_type": "display_data"
    }
   ],
   "source": [
    "get_each_graph(E_H_d_t_i_3)"
   ]
  },
  {
   "cell_type": "markdown",
   "metadata": {},
   "source": [
    "### 計算条件4"
   ]
  },
  {
   "cell_type": "code",
   "execution_count": 46,
   "metadata": {},
   "outputs": [
    {
     "name": "stdout",
     "output_type": "stream",
     "text": [
      "E_H:2642.0944479095697MJ/y\n"
     ]
    }
   ],
   "source": [
    "param = {\"region\": 6, \"A_A\": 120.08, \"A_MR\": 29.81, \"A_OR\": 51.34, \"A_env\": 307.51,\n",
    "         \"U_A\": 0.87, \"eta_A_H\": 4.3, \"eta_A_C\": 2.8}\n",
    "H_MR = {'type': 'ルームエアコンディショナー付温水床暖房機', 'r_Af': 0.4, 'r_up': 0.95, 'pipe_insulation': False}\n",
    "H_OR = {'type': 'ルームエアコンディショナー付温水床暖房機', 'r_Af': 0.3, 'r_up': 0.90, 'pipe_insulation': True}\n",
    "i = 5\n",
    "\n",
    "E_H_d_t_i_4 = calc_results(param, H_MR, H_OR, i)"
   ]
  },
  {
   "cell_type": "code",
   "execution_count": 47,
   "metadata": {},
   "outputs": [
    {
     "data": {
      "image/png": "[encoded data removed]",
      "text/plain": [
       "<Figure size 1440x504 with 2 Axes>"
      ]
     },
     "metadata": {
      "needs_background": "light"
     },
     "output_type": "display_data"
    }
   ],
   "source": [
    "get_each_graph(E_H_d_t_i_4)"
   ]
  },
  {
   "cell_type": "markdown",
   "metadata": {},
   "source": [
    "### 比較"
   ]
  },
  {
   "cell_type": "code",
   "execution_count": 48,
   "metadata": {},
   "outputs": [
    {
     "data": {
      "image/png": "[encoded data removed]",
      "text/plain": [
       "<Figure size 1440x360 with 1 Axes>"
      ]
     },
     "metadata": {
      "needs_background": "light"
     },
     "output_type": "display_data"
    }
   ],
   "source": [
    "import matplotlib.pyplot as plt\n",
    "\n",
    "dat_H = {\"testcase1_H\": np.sum(E_H_d_t_i_1)/1000, \"testcase2_H\": np.sum(E_H_d_t_i_2)/1000, \"testcase3_H\": np.sum(E_H_d_t_i_3)/1000, \n",
    "         \"testcase4_H\": np.sum(E_H_d_t_i_4)/1000}\n",
    "\n",
    "x_H = list(dat_H.keys())\n",
    "y_H = list(dat_H.values())\n",
    "\n",
    "fig = plt.figure(figsize=(20,5))\n",
    "\n",
    "grh_H = fig.add_subplot(111)\n",
    "grh_H.barh(x_H,y_H, color = \"orange\")\n",
    "grh_H.set_xlabel(\"GJ/y\")\n",
    "grh_H.set_title(\"E_H\")\n",
    "\n",
    "plt.show()"
   ]
  }
 ],
 "metadata": {
  "kernelspec": {
   "display_name": "Python 3",
   "language": "python",
   "name": "python3"
  },
  "language_info": {
   "codemirror_mode": {
    "name": "ipython",
    "version": 3
   },
   "file_extension": ".py",
   "mimetype": "text/x-python",
   "name": "python",
   "nbconvert_exporter": "python",
   "pygments_lexer": "ipython3",
   "version": "3.6.6"
  },
  "toc": {
   "base_numbering": 1,
   "nav_menu": {},
   "number_sections": false,
   "sideBar": true,
   "skip_h1_title": false,
   "title_cell": "Table of Contents",
   "title_sidebar": "Contents",
   "toc_cell": false,
   "toc_position": {},
   "toc_section_display": true,
   "toc_window_display": true
  }
 },
 "nbformat": 4,
 "nbformat_minor": 2
}
