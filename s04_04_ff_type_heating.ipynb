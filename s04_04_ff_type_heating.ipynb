{
 "cells": [
  {
   "cell_type": "markdown",
   "metadata": {},
   "source": [
    "# Chapter IV-IV Heating and Cooling System - FF Type Heating / 暖冷房設備 - FF暖房機"
   ]
  },
  {
   "cell_type": "markdown",
   "metadata": {},
   "source": [
    "## Maximum Heating Output / 最大暖房出力"
   ]
  },
  {
   "cell_type": "markdown",
   "metadata": {},
   "source": [
    "The hourly maximum heating output $Q_{max,H}$ is calculated by the equation below."
   ]
  },
  {
   "cell_type": "markdown",
   "metadata": {},
   "source": [
    "$$\\large\n",
    "Q_{max,H} = q_{max,H} \\times 3600 \\times 10^{-6}\n",
    "$$"
   ]
  },
  {
   "cell_type": "markdown",
   "metadata": {},
   "source": [
    "Where  \n",
    "$Q_{max,H}$ is the hourly maximum heating output. / 1時間当たりの最大暖房出力(MJ/h)  \n",
    "$q_{max,H}$ is the maximum heating capacity. / 最大暖房能力(W)  "
   ]
  },
  {
   "cell_type": "markdown",
   "metadata": {},
   "source": [
    "The maximum heating capacity $q_{max,H}$  shall be calculated from the floor area $A_{HCZ}$ of the heating and cooling section heated by the FF type heating and shall be in accordance with Appendix A."
   ]
  },
  {
   "cell_type": "markdown",
   "metadata": {},
   "source": [
    "## Heating Energy Consumption / 暖房エネルギー消費量"
   ]
  },
  {
   "cell_type": "markdown",
   "metadata": {},
   "source": [
    "### 1. Power / 消費電力量"
   ]
  },
  {
   "cell_type": "markdown",
   "metadata": {},
   "source": [
    "The hourly electric power $E_{E,H}$ is calculated by the equation below."
   ]
  },
  {
   "cell_type": "markdown",
   "metadata": {},
   "source": [
    "$$\n",
    "\\large\n",
    "E_{E,H} = \\left\\{ \\begin{array}{ll}\n",
    "    P_{rtd,H} \\times \\frac{Q_{T,H}}{Q_{max,H}} \\times 10^{-3} & \\small(Q_{T,H} \\ge q_{min,H} \\times 3600 \\times 10^{-6}の場合)\\\\ \n",
    "    \\left(P_{rtd,H} \\times \\frac{Q_{T,H}}{Q_{max,H}} + P_{itm,H} \\right) \\times 10^{-3} & \\small(Q_{T,H} \\lt q_{min,H} \\times 3600 \\times 10^{-6}の場合)\\\\ \n",
    "    \\end{array}\n",
    "\\right.\n",
    "$$"
   ]
  },
  {
   "cell_type": "markdown",
   "metadata": {},
   "source": [
    "Where  \n",
    "$E_{E,H}$ is the hourly electric power. / 1時間当たりの消費電力量(kWh/h)  \n",
    "$q_{min,H}$ is the minimum capacity during continuous operation. / 連続運転時最小能力(W)  \n",
    "$P_{rtd,H}$ is the rated heating power consumption. / 定格暖房消費電力(W)  \n",
    "$P_{itm,H}$ is the intermittent power consumption. / 断続時消費電力(W)  \n",
    "$Q_{T,H}$ is the hourly process heating load. / 1時間当たりの処理暖房負荷(MJ/h)  \n",
    "$Q_{max,H}$ is the hourly maximum heating output. / 1時間当たりの最大暖房出力(MJ/h)  "
   ]
  },
  {
   "cell_type": "markdown",
   "metadata": {},
   "source": [
    "When the hourly process heating load $Q_{T,H}$ is 0, $E_{E,H} = 0$."
   ]
  },
  {
   "cell_type": "markdown",
   "metadata": {},
   "source": [
    "The minimum capacity during continuous operation $q_{min,H}$, the rated heating power consumption $P_{rtd,H}$ and the intermittent power consumption $P_{itm,H}$ shall be in accordance with Appendix A."
   ]
  },
  {
   "cell_type": "markdown",
   "metadata": {},
   "source": [
    "### 2. Gas Consumption / ガス消費量"
   ]
  },
  {
   "cell_type": "markdown",
   "metadata": {},
   "source": [
    "The hourly gas consumption $E_{G,H}$ shall be equal to the hourly fuel consumption $E_{F,H}$ when the fuel of the FF type heating is gas. Furthermore, it shall be equal to $0$ when the fuel of the FF type heating is kerosene. "
   ]
  },
  {
   "cell_type": "markdown",
   "metadata": {},
   "source": [
    "### 3. Kerosene Consumption / 灯油消費量"
   ]
  },
  {
   "cell_type": "markdown",
   "metadata": {},
   "source": [
    "The hourly kerosene consumption $E_{K,H}$ shall be equal to the hourly fuel consumption $E_{F,H}$ when the fuel of the FF type heating is kerosene. Furthermore, it shall be equal to $0$ when the fuel of the FF type heating is gas. "
   ]
  },
  {
   "cell_type": "markdown",
   "metadata": {},
   "source": [
    "### 4. Primary Energy Consumption by Other Fuels / その他の燃料による一次エネルギー消費量"
   ]
  },
  {
   "cell_type": "markdown",
   "metadata": {},
   "source": [
    "The hourly primary energy consumption $E_{M,H}$ by other fuels shall be equal to $0$. "
   ]
  },
  {
   "cell_type": "markdown",
   "metadata": {},
   "source": [
    "## Fuel Consumption / 燃料消費量"
   ]
  },
  {
   "cell_type": "markdown",
   "metadata": {},
   "source": [
    "The hourly fuel consumption $E_{F,H}$ is calculated by the equation below."
   ]
  },
  {
   "cell_type": "markdown",
   "metadata": {},
   "source": [
    "$$\\large\n",
    "E_{F,H} = \\frac{Q_{T,H}}{e_{rtd,H}}\n",
    "$$"
   ]
  },
  {
   "cell_type": "markdown",
   "metadata": {},
   "source": [
    "Where  \n",
    "$E_{F,H}$ is the hourly fuel consumption. / 1時間当たりの燃料消費量(MJ/h)  \n",
    "$Q_{T,H}$ is the hourly process heating load. / 1時間当たりの処理暖房負荷(MJ/h)  \n",
    "$e_{rtd,H}$ is the rated combustion efficiency. / 定格燃焼効率  "
   ]
  },
  {
   "cell_type": "markdown",
   "metadata": {},
   "source": [
    "The rated combustion efficiency $e_{rtd,H}$ shall be in accordance with Appendix A."
   ]
  }
 ],
 "metadata": {
  "kernelspec": {
   "display_name": "Python 3",
   "language": "python",
   "name": "python3"
  },
  "language_info": {
   "codemirror_mode": {
    "name": "ipython",
    "version": 3
   },
   "file_extension": ".py",
   "mimetype": "text/x-python",
   "name": "python",
   "nbconvert_exporter": "python",
   "pygments_lexer": "ipython3",
   "version": "3.6.4"
  }
 },
 "nbformat": 4,
 "nbformat_minor": 2
}
