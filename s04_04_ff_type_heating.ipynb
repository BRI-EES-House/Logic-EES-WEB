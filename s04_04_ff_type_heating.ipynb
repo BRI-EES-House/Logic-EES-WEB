{
 "cells": [
  {
   "cell_type": "markdown",
   "metadata": {},
   "source": [
    "# Chapter IV-IV Heating and Cooling System - FF Type Heating / 暖冷房設備 - FF暖房機"
   ]
  },
  {
   "cell_type": "markdown",
   "metadata": {},
   "source": [
    "## Maximum Heating Output / 最大暖房出力"
   ]
  },
  {
   "cell_type": "markdown",
   "metadata": {},
   "source": [
    "The hourly maximum heating output $Q_{max,H}$ is calculated by the equation below."
   ]
  },
  {
   "cell_type": "markdown",
   "metadata": {},
   "source": [
    "$$\\large\n",
    "Q_{max,H} = q_{max,H} \\times 3600 \\times 10^{-6}\n",
    "$$"
   ]
  },
  {
   "cell_type": "markdown",
   "metadata": {},
   "source": [
    "Where  \n",
    "$Q_{max,H}$ is the hourly maximum heating output. / 1時間当たりの最大暖房出力(MJ/h)  \n",
    "$q_{max,H}$ is the maximum heating capacity. / 最大暖房能力(W)  "
   ]
  },
  {
   "cell_type": "markdown",
   "metadata": {},
   "source": [
    "The maximum heating capacity $q_{max,H}$  shall be calculated from the floor area $A_{HCZ}$ of the heating and cooling section heated by the FF type heating and shall be in accordance with Appendix A."
   ]
  },
  {
   "cell_type": "code",
   "execution_count": 1,
   "metadata": {},
   "outputs": [],
   "source": [
    "def get_Q_max_H(A_HCZ):\n",
    "    \n",
    "    _q_max_H = 240.1 * A_HCZ #付録A\n",
    "    \n",
    "    return _q_max_H * 3600 * 10**-6"
   ]
  },
  {
   "cell_type": "markdown",
   "metadata": {},
   "source": [
    "#### test"
   ]
  },
  {
   "cell_type": "code",
   "execution_count": 2,
   "metadata": {},
   "outputs": [
    {
     "data": {
      "text/plain": [
       "17.2872"
      ]
     },
     "execution_count": 2,
     "metadata": {},
     "output_type": "execute_result"
    }
   ],
   "source": [
    "get_Q_max_H(A_HCZ = 20)"
   ]
  },
  {
   "cell_type": "markdown",
   "metadata": {},
   "source": [
    "## Heating Energy Consumption / 暖房エネルギー消費量"
   ]
  },
  {
   "cell_type": "markdown",
   "metadata": {},
   "source": [
    "### 1. Power / 消費電力量"
   ]
  },
  {
   "cell_type": "markdown",
   "metadata": {},
   "source": [
    "The hourly electric power $E_{E,H}$ is calculated by the equation below."
   ]
  },
  {
   "cell_type": "markdown",
   "metadata": {},
   "source": [
    "$$\n",
    "\\large\n",
    "E_{E,H} = \\left\\{ \\begin{array}{ll}\n",
    "    P_{rtd,H} \\times \\frac{Q_{T,H}}{Q_{max,H}} \\times 10^{-3} & \\small(Q_{T,H} \\ge q_{min,H} \\times 3600 \\times 10^{-6}の場合)\\\\ \n",
    "    \\left(P_{rtd,H} \\times \\frac{Q_{T,H}}{Q_{max,H}} + P_{itm,H} \\right) \\times 10^{-3} & \\small(Q_{T,H} \\lt q_{min,H} \\times 3600 \\times 10^{-6}の場合)\\\\ \n",
    "    \\end{array}\n",
    "\\right.\n",
    "$$"
   ]
  },
  {
   "cell_type": "markdown",
   "metadata": {},
   "source": [
    "Where  \n",
    "$E_{E,H}$ is the hourly electric power. / 1時間当たりの消費電力量(kWh/h)  \n",
    "$q_{min,H}$ is the minimum capacity during continuous operation. / 連続運転時最小能力(W)  \n",
    "$P_{rtd,H}$ is the rated heating power consumption. / 定格暖房消費電力(W)  \n",
    "$P_{itm,H}$ is the intermittent power consumption. / 断続時消費電力(W)  \n",
    "$Q_{T,H}$ is the hourly process heating load. / 1時間当たりの処理暖房負荷(MJ/h)  \n",
    "$Q_{max,H}$ is the hourly maximum heating output. / 1時間当たりの最大暖房出力(MJ/h)  "
   ]
  },
  {
   "cell_type": "markdown",
   "metadata": {},
   "source": [
    "When the hourly process heating load $Q_{T,H}$ is 0, $E_{E,H} = 0$."
   ]
  },
  {
   "cell_type": "markdown",
   "metadata": {},
   "source": [
    "The minimum capacity during continuous operation $q_{min,H}$, the rated heating power consumption $P_{rtd,H}$ and the intermittent power consumption $P_{itm,H}$ shall be in accordance with Appendix A."
   ]
  },
  {
   "cell_type": "code",
   "execution_count": 3,
   "metadata": {},
   "outputs": [],
   "source": [
    "def get_E_E_H(_Q_T_H, _q_min_H, _P_rtd_H):\n",
    "    \n",
    "    #_Q_T_Hは4-1から\n",
    "    #_Q_T_H = min(max(0, L_H), _Q_max_H)\n",
    "    \n",
    "    P_itm_H = 40.0\n",
    "    _Q_max_H = get_Q_max_H(A_HCZ = 20)\n",
    "    \n",
    "    if _Q_T_H == 0:\n",
    "        return 0\n",
    "    else:\n",
    "        \n",
    "        if _Q_T_H >= _q_min_H * 3600 * 10**-6:\n",
    "            return _P_rtd_H * _Q_T_H/_Q_max_H * 10**-3\n",
    "        \n",
    "        elif _Q_T_H < _q_min_H * 3600 * 10**-6:\n",
    "            return (_P_rtd_H * _Q_T_H/_Q_max_H + P_itm_H) * 10**-3"
   ]
  },
  {
   "cell_type": "markdown",
   "metadata": {},
   "source": [
    "#### test"
   ]
  },
  {
   "cell_type": "code",
   "execution_count": 4,
   "metadata": {},
   "outputs": [
    {
     "data": {
      "text/plain": [
       "0.2858466379749179"
      ]
     },
     "execution_count": 4,
     "metadata": {},
     "output_type": "execute_result"
    }
   ],
   "source": [
    "get_E_E_H(_Q_T_H = 0.850, _q_min_H = 1000, _P_rtd_H = 5000)"
   ]
  },
  {
   "cell_type": "markdown",
   "metadata": {},
   "source": [
    "### 2. Gas Consumption / ガス消費量"
   ]
  },
  {
   "cell_type": "markdown",
   "metadata": {},
   "source": [
    "The hourly gas consumption $E_{G,H}$ shall be equal to the hourly fuel consumption $E_{F,H}$ when the fuel of the FF type heating is gas. Furthermore, it shall be equal to $0$ when the fuel of the FF type heating is kerosene. "
   ]
  },
  {
   "cell_type": "markdown",
   "metadata": {},
   "source": [
    "### 3. Kerosene Consumption / 灯油消費量"
   ]
  },
  {
   "cell_type": "markdown",
   "metadata": {},
   "source": [
    "The hourly kerosene consumption $E_{K,H}$ shall be equal to the hourly fuel consumption $E_{F,H}$ when the fuel of the FF type heating is kerosene. Furthermore, it shall be equal to $0$ when the fuel of the FF type heating is gas. "
   ]
  },
  {
   "cell_type": "markdown",
   "metadata": {},
   "source": [
    "### 4. Primary Energy Consumption by Other Fuels / その他の燃料による一次エネルギー消費量"
   ]
  },
  {
   "cell_type": "markdown",
   "metadata": {},
   "source": [
    "The hourly primary energy consumption $E_{M,H}$ by other fuels shall be equal to $0$. "
   ]
  },
  {
   "cell_type": "markdown",
   "metadata": {},
   "source": [
    "## Fuel Consumption / 燃料消費量"
   ]
  },
  {
   "cell_type": "markdown",
   "metadata": {},
   "source": [
    "The hourly fuel consumption $E_{F,H}$ is calculated by the equation below."
   ]
  },
  {
   "cell_type": "markdown",
   "metadata": {},
   "source": [
    "$$\\large\n",
    "E_{F,H} = \\frac{Q_{T,H}}{e_{rtd,H}}\n",
    "$$"
   ]
  },
  {
   "cell_type": "markdown",
   "metadata": {},
   "source": [
    "Where  \n",
    "$E_{F,H}$ is the hourly fuel consumption. / 1時間当たりの燃料消費量(MJ/h)  \n",
    "$Q_{T,H}$ is the hourly process heating load. / 1時間当たりの処理暖房負荷(MJ/h)  \n",
    "$e_{rtd,H}$ is the rated combustion efficiency. / 定格燃焼効率  "
   ]
  },
  {
   "cell_type": "markdown",
   "metadata": {},
   "source": [
    "The rated combustion efficiency $e_{rtd,H}$ shall be in accordance with Appendix A."
   ]
  },
  {
   "cell_type": "code",
   "execution_count": 5,
   "metadata": {},
   "outputs": [],
   "source": [
    "def get_E_F_H(_Q_T_H):\n",
    "    \n",
    "    #Q_T_H は4-1から\n",
    "    \n",
    "    _e_rtd_H = 0.860\n",
    "    \n",
    "    return _Q_T_H / _e_rtd_H"
   ]
  },
  {
   "cell_type": "markdown",
   "metadata": {},
   "source": [
    "#### test"
   ]
  },
  {
   "cell_type": "code",
   "execution_count": 6,
   "metadata": {},
   "outputs": [
    {
     "data": {
      "text/plain": [
       "0.9883720930232558"
      ]
     },
     "execution_count": 6,
     "metadata": {},
     "output_type": "execute_result"
    }
   ],
   "source": [
    "get_E_F_H(_Q_T_H = 0.850)"
   ]
  },
  {
   "cell_type": "markdown",
   "metadata": {},
   "source": [
    "## 付録 A 機器の性能を表す仕様の決定方法"
   ]
  },
  {
   "cell_type": "markdown",
   "metadata": {},
   "source": [
    "### A.2 最大暖房能力"
   ]
  },
  {
   "cell_type": "markdown",
   "metadata": {},
   "source": [
    "$$\\large\n",
    "q_{max,H} = 240.1 \\times A_{HCZ}\n",
    "$$"
   ]
  },
  {
   "cell_type": "code",
   "execution_count": 7,
   "metadata": {},
   "outputs": [],
   "source": [
    "def get_q_max_H(A_HCZ):\n",
    "    return 240.1 * A_HCZ"
   ]
  },
  {
   "cell_type": "markdown",
   "metadata": {},
   "source": [
    "#### test"
   ]
  },
  {
   "cell_type": "code",
   "execution_count": 8,
   "metadata": {},
   "outputs": [
    {
     "data": {
      "text/plain": [
       "4802.0"
      ]
     },
     "execution_count": 8,
     "metadata": {},
     "output_type": "execute_result"
    }
   ],
   "source": [
    "get_q_max_H(A_HCZ = 20)"
   ]
  },
  {
   "cell_type": "markdown",
   "metadata": {},
   "source": [
    "### A.3 連続運転時最小能力"
   ]
  },
  {
   "cell_type": "markdown",
   "metadata": {},
   "source": [
    "$$\\large\n",
    "q_{min,H} = 0.4334 \\times q_{max,H} - 540.1\n",
    "$$"
   ]
  },
  {
   "cell_type": "code",
   "execution_count": 9,
   "metadata": {},
   "outputs": [],
   "source": [
    "def get_q_min_H(A_HCZ):\n",
    "    _q_max_H = get_q_max_H(A_HCZ)\n",
    "    return 0.4334 * _q_max_H - 540.1"
   ]
  },
  {
   "cell_type": "markdown",
   "metadata": {},
   "source": [
    "#### test"
   ]
  },
  {
   "cell_type": "code",
   "execution_count": 10,
   "metadata": {},
   "outputs": [
    {
     "data": {
      "text/plain": [
       "1541.0868"
      ]
     },
     "execution_count": 10,
     "metadata": {},
     "output_type": "execute_result"
    }
   ],
   "source": [
    "get_q_min_H(A_HCZ = 20)"
   ]
  },
  {
   "cell_type": "markdown",
   "metadata": {},
   "source": [
    "### A.5 定格暖房消費電力"
   ]
  },
  {
   "cell_type": "markdown",
   "metadata": {},
   "source": [
    "$$\\large\n",
    "P_{rtd,H} = 3.13 \\times 10^{-3} \\times q_{max,H}\n",
    "$$"
   ]
  },
  {
   "cell_type": "code",
   "execution_count": 11,
   "metadata": {},
   "outputs": [],
   "source": [
    "def get_P_rtd_H(A_HCZ):\n",
    "    _q_max_H = get_q_max_H(A_HCZ)\n",
    "    return 3.13 * 10**-3 * _q_max_H"
   ]
  },
  {
   "cell_type": "markdown",
   "metadata": {},
   "source": [
    "#### test"
   ]
  },
  {
   "cell_type": "code",
   "execution_count": 12,
   "metadata": {},
   "outputs": [
    {
     "data": {
      "text/plain": [
       "15.03026"
      ]
     },
     "execution_count": 12,
     "metadata": {},
     "output_type": "execute_result"
    }
   ],
   "source": [
    "get_P_rtd_H(A_HCZ = 20)"
   ]
  },
  {
   "cell_type": "markdown",
   "metadata": {},
   "source": [
    "## Integrated Function"
   ]
  },
  {
   "cell_type": "code",
   "execution_count": 13,
   "metadata": {},
   "outputs": [],
   "source": [
    "def get_Q_max_H(A_HCZ):\n",
    "    \n",
    "    _q_max_H = get_q_max_H(A_HCZ = 20)\n",
    "    \n",
    "    return _q_max_H * 3600 * 10**-6"
   ]
  },
  {
   "cell_type": "markdown",
   "metadata": {},
   "source": [
    "#### test"
   ]
  },
  {
   "cell_type": "code",
   "execution_count": 14,
   "metadata": {},
   "outputs": [
    {
     "data": {
      "text/plain": [
       "17.2872"
      ]
     },
     "execution_count": 14,
     "metadata": {},
     "output_type": "execute_result"
    }
   ],
   "source": [
    "get_Q_max_H(A_HCZ = 20)"
   ]
  },
  {
   "cell_type": "code",
   "execution_count": 15,
   "metadata": {},
   "outputs": [],
   "source": [
    "def get_E_E_H(_Q_T_H, A_HCZ):\n",
    "    \n",
    "    #Q_T_H は4-1から\n",
    "    \n",
    "    P_itm_H = 40.0\n",
    "    _Q_max_H = get_Q_max_H(A_HCZ)\n",
    "    _q_min_H = get_q_min_H(A_HCZ)\n",
    "    _P_rtd_H = get_P_rtd_H(A_HCZ)\n",
    "    \n",
    "    if _Q_T_H == 0:\n",
    "        return 0\n",
    "    else:\n",
    "        \n",
    "        if _Q_T_H >= _q_min_H * 3600 * 10**-6:\n",
    "            return _P_rtd_H * _Q_T_H/_Q_max_H * 10**-3\n",
    "        \n",
    "        elif _Q_T_H < _q_min_H * 3600 * 10**-6:\n",
    "            return (_P_rtd_H * _Q_T_H/_Q_max_H + P_itm_H) * 10**-3\n"
   ]
  },
  {
   "cell_type": "markdown",
   "metadata": {},
   "source": [
    "#### test"
   ]
  },
  {
   "cell_type": "code",
   "execution_count": 16,
   "metadata": {},
   "outputs": [
    {
     "data": {
      "text/plain": [
       "0.043695138888888894"
      ]
     },
     "execution_count": 16,
     "metadata": {},
     "output_type": "execute_result"
    }
   ],
   "source": [
    "get_E_E_H(_Q_T_H = 0.850, A_HCZ = 100)"
   ]
  },
  {
   "cell_type": "code",
   "execution_count": 17,
   "metadata": {},
   "outputs": [],
   "source": [
    "def get_E_F_H(_Q_T_H):\n",
    "    _e_rtd_H = 0.860\n",
    "    return _Q_T_H / _e_rtd_H"
   ]
  },
  {
   "cell_type": "markdown",
   "metadata": {},
   "source": [
    "#### test"
   ]
  },
  {
   "cell_type": "code",
   "execution_count": 18,
   "metadata": {},
   "outputs": [
    {
     "data": {
      "text/plain": [
       "0.9883720930232558"
      ]
     },
     "execution_count": 18,
     "metadata": {},
     "output_type": "execute_result"
    }
   ],
   "source": [
    "get_E_F_H(_Q_T_H = 0.850)"
   ]
  }
 ],
 "metadata": {
  "kernelspec": {
   "display_name": "Python 3",
   "language": "python",
   "name": "python3"
  },
  "language_info": {
   "codemirror_mode": {
    "name": "ipython",
    "version": 3
   },
   "file_extension": ".py",
   "mimetype": "text/x-python",
   "name": "python",
   "nbconvert_exporter": "python",
   "pygments_lexer": "ipython3",
   "version": "3.6.4"
  }
 },
 "nbformat": 4,
 "nbformat_minor": 2
}
