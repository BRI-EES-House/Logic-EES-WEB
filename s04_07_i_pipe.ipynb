{
 "cells": [
  {
   "cell_type": "markdown",
   "metadata": {},
   "source": [
    "使用許諾条件\n",
    "\n",
    "①\t設計一次エネルギー消費量算定法に基づく計算方法をPythonによりコーディングし、Jupyter notebook形式で保存したファイル（以下、本ファイルと呼ぶ）の著作権は、一般社団法人日本サステナブル建築協会に帰属します。\n",
    "Copyright©2019. 一般社団法人日本サステナブル建築協会\n",
    "All rights reserved. \n",
    "\n",
    "②\t本ファイルは、住戸の設計一次エネルギー消費量算定方法に係る「平成28年省エネルギー基準に準拠したエネルギー消費性能の評価に関する技術情報（住宅）2.1算定方法（第四章第七節 温水暖房）」に示す計算方法に基づき、国土交通省国土技術政策総合研究所・国立研究開発法人建築研究所、株式会社ユーワークス、株式会社住環境計画研究所が作成したものです。\n",
    "\n",
    "③\t本ファイルは、計算方法に示す計算過程の確認及び調査研究等に活用することを目的として作成されたものであり、一般社団法人日本サステナブル建築協会は著作権について放棄はしませんが、使用する各人の自己責任において仕様を変更することを妨げるものではありません。ただし、本ファイルによる計算結果を住宅の省エネルギー基準で規定する設計一次エネルギー消費量の結果として公的な申請に用いることはできません。\n",
    "\n",
    "④\t本ファイルを変更するかしないかを問わず、以下の条件を満たす場合に限り、頒布および使用が許可されます。\n",
    "1.\t頒布物の付属ドキュメント等の資料に、上記の著作権表示、本条件一覧、および下記免責条項を含めること。\n",
    "2.\t書面による特別の許可なしに、本ファイルから派生した製品の宣伝または販売の促進に、一般社団法人日本サステナブル建築協会、国土技術政策総合研究所・国立研究開発法人建築研究所および株式会社ユーワークス、株式会社住環境計画研究所の名前またはコントリビューターの名前を使用してはならない。\n",
    "\n",
    "⑤\t本ファイルは、著作権者およびコントリビューターによって「現状のまま」提供されており、明示黙示を問わず、商業的な使用可能性、および特定の目的に対する適合性に関する暗黙の保証も含め、またそれに限定されない、いかなる保証もありません。著作権もコントリビューターも、事由のいかんを問わず、損害発生の原因いかんを問わず、かつ責任の根拠が契約であるか厳格責任であるか（過失その他の）不法行為であるかを問わず、仮にそのような損害が発生する可能性を知らされていたとしても、本ファイルの使用によって発生した（代用品または代用サービスの調達、使用の喪失、データの喪失、利益の喪失、業務の中断も含め、またそれに限定されない）直接損害、間接損害、偶発的な損害、特別損害、懲罰的損害、または結果損害について、一切の責任を負わないものとします。\n"
   ]
  },
  {
   "cell_type": "code",
   "execution_count": null,
   "metadata": {},
   "outputs": [],
   "source": [
    "from math import sqrt"
   ]
  },
  {
   "cell_type": "markdown",
   "metadata": {},
   "source": [
    "## 付録I　配管  / Appendix I Pipe"
   ]
  },
  {
   "cell_type": "markdown",
   "metadata": {},
   "source": [
    "### I.1 記号及び単位 / Symbol and unit"
   ]
  },
  {
   "cell_type": "markdown",
   "metadata": {},
   "source": [
    "省略"
   ]
  },
  {
   "cell_type": "markdown",
   "metadata": {},
   "source": [
    "ommision"
   ]
  },
  {
   "cell_type": "markdown",
   "metadata": {},
   "source": [
    "### I.2 線熱損失係数 / Line heat loss coefficient"
   ]
  },
  {
   "cell_type": "markdown",
   "metadata": {},
   "source": [
    "線熱損失係数$K_{loss,pp}$は、配管の断熱被覆の有無によって区別し、当該住戸の配管のすべての部分について線熱損失係数が0.21（W/mK）を上回る場合については0.21とし、それ以外の場合については0.15とする。 "
   ]
  },
  {
   "cell_type": "markdown",
   "metadata": {},
   "source": [
    "The linear heat loss coefficient $ K_{loss, pp} $ is distinguished by the presence or absence of the thermal insulation coating of the piping, and the linear heat loss coefficient exceeds 0.21 (W / mK) for all parts of the piping of the relevant dwelling unit. And for all other cases it is 0.15."
   ]
  },
  {
   "cell_type": "code",
   "execution_count": null,
   "metadata": {},
   "outputs": [],
   "source": [
    "# 線熱損失係数\n",
    "def get_K_loss_pp(is_pipe_insulated):\n",
    "    if is_pipe_insulated:\n",
    "        return 0.15\n",
    "    else:\n",
    "        return 0.21"
   ]
  },
  {
   "cell_type": "markdown",
   "metadata": {},
   "source": [
    "### I.3 長さ / Length"
   ]
  },
  {
   "cell_type": "markdown",
   "metadata": {},
   "source": [
    "$$\\large\n",
    "L_{pp,ex,i} = L_{pp,ex,i,R} \\times \\sqrt{\\frac{A_A}{A_{A,R}}}\n",
    "$$\n",
    "\n",
    "$$\\large\n",
    "L_{pp,in,i} = L_{pp,in,i,R} \\times \\sqrt{\\frac{A_A}{A_{A,R}}}\n",
    "$$"
   ]
  },
  {
   "cell_type": "markdown",
   "metadata": {},
   "source": [
    "$L_{pp,ex,i,R}$：標準住戸における暖冷房区画$i$に対する配管$i$の断熱区画外における長さ(m) / Length outside piping section $ i $ outside heat insulation section for heating / cooling section $ i $ in standard dwelling  \n",
    "$L_{pp,in,i,R}$：標準住戸における暖冷房区画$i$に対する配管$i$の断熱区画内における長さ(m) / Length in insulated section of piping $ i $ for heating / cooling section $ i $ in standard dwelling unit  \n",
    "$A_A$：（当該住戸の）床面積の合計(m<sup>2</sup>) / Total floor area (of the relevant unit)  \n",
    "$A_{A,R}$：標準住戸の床面積の合計(m<sup>2</sup>) / Total floor area of standard dwelling units  "
   ]
  },
  {
   "cell_type": "code",
   "execution_count": null,
   "metadata": {},
   "outputs": [],
   "source": [
    "# 配管の断熱区画外における長さ (1a)\n",
    "def get_L_pp_ex_i(i, A_A, underfloor_pipe_insulation, MR_rad_type, r_Af_1):\n",
    "    # 標準住戸における配管の断熱区画外における長さ\n",
    "    L_pp_ex_i_R = get_L_pp_ex_R_i(i, underfloor_pipe_insulation, MR_rad_type, r_Af_1)\n",
    "\n",
    "    # 標準住戸の床面積の合計\n",
    "    A_A_R = get_A_A_R()\n",
    "\n",
    "    return L_pp_ex_i_R * sqrt(A_A / A_A_R)\n",
    "\n",
    "\n",
    "# 配管の断熱区画内における長さ (1b)\n",
    "def get_L_pp_in_i(i, A_A, underfloor_pipe_insulation, MR_rad_type, r_Af_1):\n",
    "    # 標準住戸における配管の断熱区画内における長さ\n",
    "    L_pp_in_i_R = get_L_pp_in_R_i(i, underfloor_pipe_insulation, MR_rad_type, r_Af_1)\n",
    "\n",
    "    # 標準住戸の床面積の合計\n",
    "    A_A_R = get_A_A_R()\n",
    "\n",
    "    return L_pp_in_i_R * sqrt(A_A / A_A_R)"
   ]
  },
  {
   "cell_type": "markdown",
   "metadata": {},
   "source": [
    "標準住戸の床面積の合計$A_{A,R}$は、120.08（m<sup>2</sup>）とする。 "
   ]
  },
  {
   "cell_type": "markdown",
   "metadata": {},
   "source": [
    "The total floor area $ A_{A, R} $ of the standard dwelling unit is 120.08 (m<sup>2</sup>)."
   ]
  },
  {
   "cell_type": "code",
   "execution_count": null,
   "metadata": {},
   "outputs": [],
   "source": [
    "# 標準住戸の床面積の合計\n",
    "def get_A_A_R():\n",
    "    return 120.08"
   ]
  },
  {
   "cell_type": "code",
   "execution_count": null,
   "metadata": {},
   "outputs": [],
   "source": [
    "# 標準住戸における配管の断熱区画外における長さ\n",
    "def get_L_pp_ex_R_i(i, underfloor_pipe_insulation, MR_rad_type, r_Af_1=None):\n",
    "    if underfloor_pipe_insulation:\n",
    "        if i in [1]:\n",
    "            L_pp_ex_R_i = table_i_3[0][0]\n",
    "        elif i in [3, 4, 5]:\n",
    "            L_pp_ex_R_i = table_i_3[0][i - 2]\n",
    "        else:\n",
    "            raise ValueError(i)\n",
    "    else:\n",
    "        if i in [1]:\n",
    "            L_pp_ex_R_i = table_i_3[2][0]\n",
    "        elif i in [3, 4, 5]:\n",
    "            L_pp_ex_R_i = table_i_3[2][i - 2]\n",
    "        else:\n",
    "            raise ValueError(i)\n",
    "\n",
    "    if callable(L_pp_ex_R_i):\n",
    "        return L_pp_ex_R_i(MR_rad_type, r_Af_1)\n",
    "    else:\n",
    "        return L_pp_ex_R_i\n",
    "\n",
    "\n",
    "# 標準住戸における配管の断熱区画内における長さ\n",
    "def get_L_pp_in_R_i(i, underfloor_pipe_insulation, MR_rad_type, r_Af_1):\n",
    "    if underfloor_pipe_insulation:\n",
    "        if i in [1]:\n",
    "            L_pp_in_R_i = table_i_3[1][0]\n",
    "        elif i in [3, 4, 5]:\n",
    "            L_pp_in_R_i = table_i_3[1][i - 2]\n",
    "        else:\n",
    "            raise ValueError()\n",
    "    else:\n",
    "        if i in [1]:\n",
    "            L_pp_in_R_i = table_i_3[3][0]\n",
    "        elif i in [3, 4, 5]:\n",
    "            L_pp_in_R_i = table_i_3[3][i - 2]\n",
    "        else:\n",
    "            raise ValueError()\n",
    "\n",
    "    if callable(L_pp_in_R_i):\n",
    "        return L_pp_in_R_i(MR_rad_type, r_Af_1)\n",
    "    else:\n",
    "        return L_pp_in_R_i"
   ]
  },
  {
   "cell_type": "markdown",
   "metadata": {},
   "source": [
    "<div style=\"text-align: center;font-weight: bold;\">表　係数 $L_{pp,ex,R}$ 及び $L_{pp,in,R}$<br>Table: Coefficients $ L_{pp, ex, R} $ and $ L_{pp, in, R} $</div>\n",
    "\n",
    "<table>\n",
    "<thead>\n",
    "<tr>\n",
    "<th colspan=\"2\" rowspan=\"3\"></th>\n",
    "<th colspan=\"4\">暖冷房区画の番号<br>Number of heating and cooling section</th>\n",
    "</tr>\n",
    "<tr>\n",
    "<th>1</th>\n",
    "<th>3</th>\n",
    "<th>4</th>\n",
    "<th>5</th>\n",
    "</tr>\n",
    "<tr>\n",
    "<th>居間・食堂・台所<br>Living room <br> dining room <br> kitchen</th>\n",
    "<th>主寝室<br>Master bedroom</th>\n",
    "<th>子供室１<br>Children's room 1</th>\n",
    "<th>子供室２<br>Children's room 2</th>\n",
    "</tr>\n",
    "</thead>\n",
    "\n",
    "<tbody>\n",
    "<tr>\n",
    "<th rowspan=\"2\">（い）配管が全て断熱区画内に<br>設置されると判断できる場合<br>(I) When it can be judged that all the pipes are <br>installed in the heat insulation section</th>\n",
    "<th>$L_{pp,ex,R}$</th>\n",
    "<td>0.00</td><td>0.00</td><td>0.00</td><td>0.00</td>\n",
    "</tr>\n",
    "<tr>\n",
    "<th>$L_{pp,in,R}$</th>\n",
    "<td>$L_{pp,R,1}$</td><td>22.86</td><td>19.22</td><td>26.62</td>\n",
    "</tr>\n",
    "\n",
    "<tr>\n",
    "<th rowspan=\"2\">（ろ）配管が全て断熱区画内に<br>設置されると判断できる場合以外<br>(RO) Except when it can be determined <br>that all the pipes will be installed in the heat insulation section</th>\n",
    "<th>$L_{pp,ex,R}$</th>\n",
    "<td>$L_{pp,R,1}$</td><td>0.00</td><td>0.00</td><td>0.00</td>\n",
    "</tr>\n",
    "<tr>\n",
    "<th>$L_{pp,in,R}$</th>\n",
    "<td>0.00</td><td>22.86</td><td>19.22</td><td>26.62</td>\n",
    "</tr>\n",
    "</tbody>\n",
    "</table>\n"
   ]
  },
  {
   "cell_type": "code",
   "execution_count": null,
   "metadata": {},
   "outputs": [],
   "source": [
    "# 表I.3 係数L_pp_ex_R及びL_pp_in_R\n",
    "table_i_3 = [\n",
    "    (0.00, 0.00, 0.00, 0.00),\n",
    "    (get_L_pp_R_1, 22.86, 19.22, 26.62),\n",
    "    (get_L_pp_R_1, 0.00, 0.00, 0.00),\n",
    "    (0.00, 22.86, 19.22, 26.62)\n",
    "]"
   ]
  },
  {
   "cell_type": "markdown",
   "metadata": {},
   "source": [
    "主たる居室に設置される放熱器の種類が温水床暖房の場合"
   ]
  },
  {
   "cell_type": "markdown",
   "metadata": {},
   "source": [
    "When the type of radiator installed in the main room is heated floor heating"
   ]
  },
  {
   "cell_type": "markdown",
   "metadata": {},
   "source": [
    "$$\\large\n",
    "L_{pp,R,1} = \\left\\{ \\begin{array}{ll}\n",
    "    16.38 &(0 < r_{Af,1} \\leq 0.542)\\\\ \n",
    "    16.38 \\times \\frac{(0.75 - r_{Af,1})}{0.75 - 0.542} + 29.58 \\times \\frac{(r_{Af,1} - 0.542)}{0.75 - 0.542} &(0.542 < r_{Af,1} \\leq 0.75)\\\\ \n",
    "    29.58 &(0.75  < r_{Af,1} \\leq 1)\n",
    "    \\end{array}\n",
    "\\right.\n",
    "$$"
   ]
  },
  {
   "cell_type": "markdown",
   "metadata": {},
   "source": [
    "主たる居室に設置される放熱器の種類がパネルラジエーター又はファンコンベクターの場合"
   ]
  },
  {
   "cell_type": "markdown",
   "metadata": {},
   "source": [
    "When the type of radiator installed in the main room is panel radiator or fan controller"
   ]
  },
  {
   "cell_type": "markdown",
   "metadata": {},
   "source": [
    "$$\\large\n",
    "L_{pp,R,1} = 29.58 \n",
    "$$"
   ]
  },
  {
   "cell_type": "markdown",
   "metadata": {},
   "source": [
    "$r_{Af,1}$：暖冷房区画 1 に設置された温水床暖房の敷設率 / The laying rate of heated floor heating installed in heating and cooling section 1  "
   ]
  },
  {
   "cell_type": "code",
   "execution_count": null,
   "metadata": {},
   "outputs": [],
   "source": [
    "# 標準住戸における暖冷房区画1に対する配管1の長さ (2)\n",
    "def get_L_pp_R_1(MR_rad_type, r_Af_1=None):\n",
    "    if MR_rad_type == '温水暖房用床暖房':\n",
    "        # (2a)\n",
    "        if 0 < r_Af_1 and r_Af_1 <= 0.542:\n",
    "            return 16.38\n",
    "        elif 0.542 < r_Af_1 and r_Af_1 <= 0.75:\n",
    "            return 16.38 * (0.75 - r_Af_1) / (0.75 - 0.542) + 29.58 * (r_Af_1 - 0.542) / (0.75 - 0.542)\n",
    "        elif 0.75 < r_Af_1 and r_Af_1 <= 1:\n",
    "            return 29.58\n",
    "        else:\n",
    "            raise NotImplementedError()\n",
    "    elif MR_rad_type == '温水暖房用パネルラジエーター' or MR_rad_type == '温水暖房用ファンコンベクター':\n",
    "        return 29.58\n",
    "    else:\n",
    "        raise ValueError(MR_rad_type)"
   ]
  }
 ],
 "metadata": {
  "kernelspec": {
   "display_name": "Python 3",
   "language": "python",
   "name": "python3"
  },
  "language_info": {
   "codemirror_mode": {
    "name": "ipython",
    "version": 3
   },
   "file_extension": ".py",
   "mimetype": "text/x-python",
   "name": "python",
   "nbconvert_exporter": "python",
   "pygments_lexer": "ipython3",
   "version": "3.6.6"
  }
 },
 "nbformat": 4,
 "nbformat_minor": 2
}
