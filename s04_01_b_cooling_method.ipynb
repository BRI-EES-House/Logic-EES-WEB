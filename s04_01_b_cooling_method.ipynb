{
 "cells": [
  {
   "cell_type": "markdown",
   "metadata": {},
   "source": [
    "## 付録 B 設置する冷房設備機器の種類に応じた冷房方式及び運転方法の決定方法並びに評価上想定される冷房設備機器の種類 / Appendix B How to determine the cooling method and operation method according to the type of cooling equipment to be installed and the type of cooling equipment assumed for evaluation "
   ]
  },
  {
   "cell_type": "markdown",
   "metadata": {},
   "source": [
    "「居室のみを冷房する方式」の場合の主たる居室及びその他の居室における運転方法はともに間歇運転とする。  \n",
    "主たる居室、その他の居室に冷房設備機器を設置しない場合又はルームエアコンディショナー以外の冷房設備機器を設置する場合は、ルームエアコンディショナーが設置されたものとして評価する。その際、ルームエアコンディショナーのエネルギー消費効率の区分は区分（ろ）とする。 "
   ]
  },
  {
   "cell_type": "markdown",
   "metadata": {},
   "source": [
    "The operation methods in the main room and the other rooms in the case of the \"system for cooling only the room\" are both intermittent.\n",
    "If no cooling equipment is installed in the main room or other rooms, or if cooling installations other than the room air conditioner are installed, the room air conditioner is evaluated as installed. At that time, division of energy consumption efficiency of room air conditioner is classified as division (RO)."
   ]
  },
  {
   "cell_type": "code",
   "execution_count": null,
   "metadata": {},
   "outputs": [],
   "source": [
    "def get_default_cooling_spec():\n",
    "    return {\n",
    "        'type': 'ルームエアコンディショナー',\n",
    "        'e_class': 'ろ',\n",
    "        'dualcompressor': False,\n",
    "    }"
   ]
  }
 ],
 "metadata": {
  "kernelspec": {
   "display_name": "Python 3",
   "language": "python",
   "name": "python3"
  },
  "language_info": {
   "codemirror_mode": {
    "name": "ipython",
    "version": 3
   },
   "file_extension": ".py",
   "mimetype": "text/x-python",
   "name": "python",
   "nbconvert_exporter": "python",
   "pygments_lexer": "ipython3",
   "version": "3.6.6"
  }
 },
 "nbformat": 4,
 "nbformat_minor": 2
}
