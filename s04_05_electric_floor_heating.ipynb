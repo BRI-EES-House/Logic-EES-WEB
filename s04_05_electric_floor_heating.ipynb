{
 "cells": [
  {
   "cell_type": "markdown",
   "metadata": {},
   "source": [
    "# Chapter IV-V Heating and Cooling System - Electric Floor Heating / 暖冷房設備 - 電気ヒーター床暖房"
   ]
  },
  {
   "cell_type": "markdown",
   "metadata": {},
   "source": [
    "## Maximum Heating Power / 最大暖房出力"
   ]
  },
  {
   "cell_type": "markdown",
   "metadata": {},
   "source": [
    "The hourly maximum heating power $Q_{max,H}$ is calculated by the equation below."
   ]
  },
  {
   "cell_type": "markdown",
   "metadata": {},
   "source": [
    "$$\\large\n",
    "Q_{max,H} = q_{max,H} \\times A_{f} \\times 3600 \\times 10^{-6}\n",
    "$$"
   ]
  },
  {
   "cell_type": "markdown",
   "metadata": {},
   "source": [
    "Where  \n",
    "$Q_{max,H}$ is the hourly maximum heating power. / 1時間当たりの最大暖房出力(MJ/h)  \n",
    "$q_{max,H}$ is the maximum heat radiation capacity on the top surface per unit area. / 単位面積当たりの上面最大放熱能力(W/m<sup>2</sup>)   \n",
    "$A_{f}$ is the laying area. / 敷設面積(m<sup>2</sup>)  "
   ]
  },
  {
   "cell_type": "markdown",
   "metadata": {},
   "source": [
    "The maximum heat radiation capacity $q_{max,H}$ on the top surface per unit area is set to 162W/m<sup>2</sup>.  \n",
    "The laying area $A_{f}$ is in accordance with Appendix A."
   ]
  },
  {
   "cell_type": "markdown",
   "metadata": {},
   "source": [
    "## Heating Energy Consumption / 暖房エネルギー消費量"
   ]
  },
  {
   "cell_type": "markdown",
   "metadata": {},
   "source": [
    "### 1. Power / 消費電力量"
   ]
  },
  {
   "cell_type": "markdown",
   "metadata": {},
   "source": [
    "The hourly electric power $E_{E,H}$ is calculated by the equation below.  "
   ]
  },
  {
   "cell_type": "markdown",
   "metadata": {},
   "source": [
    "$$\\large\n",
    "E_{E,H} = Q_{T,H} \\times \\frac{1}{r_{up}} \\times 10^{3} \\div 3600\n",
    "$$"
   ]
  },
  {
   "cell_type": "markdown",
   "metadata": {},
   "source": [
    "Where  \n",
    "$E_{E,H}$ is the hourly electric power. / １時間当たりの消費電力量(kWh/h)  \n",
    "$Q_{T,H}$ is the process heating load. / 処理暖房負荷(MJ/h)   \n",
    "$r_{up}$ is the heat radiation rate on the top surface. / 上面放熱率  "
   ]
  },
  {
   "cell_type": "markdown",
   "metadata": {},
   "source": [
    "The heat radiation rate $r_{up}$ on the top surface is in accordance with Appendix A."
   ]
  },
  {
   "cell_type": "markdown",
   "metadata": {},
   "source": [
    "### 2. Gas Consumption / ガス消費量"
   ]
  },
  {
   "cell_type": "markdown",
   "metadata": {},
   "source": [
    "The hourly gas consumption $E_{G,H}$ is set to 0. "
   ]
  },
  {
   "cell_type": "markdown",
   "metadata": {},
   "source": [
    "### 3. Kerosene Consumption / 灯油消費量"
   ]
  },
  {
   "cell_type": "markdown",
   "metadata": {},
   "source": [
    "The hourly kerosene consumption $E_{K,H}$ is set to 0. "
   ]
  },
  {
   "cell_type": "markdown",
   "metadata": {},
   "source": [
    "### 4. Primary Energy Consumption by Other Fuels / その他の燃料による一次エネルギー消費量"
   ]
  },
  {
   "cell_type": "markdown",
   "metadata": {},
   "source": [
    "The hourly primary energy consumption $E_{M,H}$ by other fuels is set to 0. "
   ]
  }
 ],
 "metadata": {
  "kernelspec": {
   "display_name": "Python 3",
   "language": "python",
   "name": "python3"
  },
  "language_info": {
   "codemirror_mode": {
    "name": "ipython",
    "version": 3
   },
   "file_extension": ".py",
   "mimetype": "text/x-python",
   "name": "python",
   "nbconvert_exporter": "python",
   "pygments_lexer": "ipython3",
   "version": "3.6.4"
  }
 },
 "nbformat": 4,
 "nbformat_minor": 2
}
