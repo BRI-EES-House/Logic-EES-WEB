{
 "cells": [
  {
   "cell_type": "code",
   "execution_count": null,
   "metadata": {},
   "outputs": [],
   "source": [
    "import numpy as np"
   ]
  },
  {
   "cell_type": "markdown",
   "metadata": {},
   "source": [
    "## 付録 E バックアップボイラーの温水暖房部（ガス熱源）  / Appendix E"
   ]
  },
  {
   "cell_type": "markdown",
   "metadata": {},
   "source": [
    "### E.1 記号及び単位 "
   ]
  },
  {
   "cell_type": "markdown",
   "metadata": {},
   "source": [
    "省略"
   ]
  },
  {
   "cell_type": "markdown",
   "metadata": {},
   "source": [
    "Omission"
   ]
  },
  {
   "cell_type": "markdown",
   "metadata": {},
   "source": [
    "### E.2 ガス消費量 "
   ]
  },
  {
   "cell_type": "markdown",
   "metadata": {},
   "source": [
    "$$\\large\n",
    "E_{G,BB,HWH,d,t} = \\left\\{ \\begin{array}{ll}\n",
    "    0 & (Q_{out,BB,HWH,d,t} = 0)\\\\  \n",
    "    \\frac{Q_{out,BB,HWH,d,t}+Q_{body,d,t}}{e_{ex,d,t}} &(Q_{out,BB,HWH,d,t} > 0)\\\\  \n",
    "    \\end{array}\n",
    "\\right.\n",
    "$$"
   ]
  },
  {
   "cell_type": "markdown",
   "metadata": {},
   "source": [
    "$E_{G,BB,HWH,d,t}$：日付$d$の時刻$t$における1時間当たりの温水暖房時のバックアップボイラーのガス消費量(MJ/h)  \n",
    "$Q_{out,BB,HWH,d,t}$：日付$d$の時刻$t$における1時間当たりのバックアップボイラーの温水暖房部の温水暖房出力(MJ/h)  \n",
    "$Q_{body,d,t}$：日付$d$の時刻$t$における1時間当たりのバックアップボイラーの温水暖房部の筐体放熱損失(MJ/h)  \n",
    "$e_{ex,d,t}$：日付$d$の時刻$t$における1時間平均のバックアップボイラーの温水暖房部の熱交換効率(-)  \n"
   ]
  },
  {
   "cell_type": "code",
   "execution_count": null,
   "metadata": {},
   "outputs": [],
   "source": [
    "def calc_E_G_BB_HWH_d_t(BB_type, e_rtd, q_rtd, L_BB_HWH_d_t, p_hs):\n",
    "    \"\"\"1時間当たりの温水暖房時のバックアップボイラーのガス消費量 (MJ/h)\n",
    "\n",
    "    :param BB_type: 当該バックアップボイラーの温水暖房部の種類\n",
    "    :type BB_type: str\n",
    "    :param e_rtd: バックアップボイラーの温水暖房部の定格効率 (-)\n",
    "    :type e_rtd: float\n",
    "    :param q_rtd: バックアップボイラーの温水暖房の定格能力 (W)\n",
    "    :type q_rtd: int\n",
    "    :param L_BB_HWH_d_t: 1時間当たりのバックアップボイラーが分担する温水暖房熱負荷 (MJ/h)\n",
    "    :type L_BB_HWH_d_t: ndarray\n",
    "    :param p_hs: 温水暖房用熱源機の往き温水温度の区分\n",
    "    :type p_hs: ndarray\n",
    "    :return: 1時間当たりの温水暖房時のバックアップボイラーのガス消費量 (MJ/h)\n",
    "    :rtype: ndarray\n",
    "    \"\"\"\n",
    "    # 1時間当たりの温水暖房時のバックアップボイラーの最大暖房出力 (MJ/h) (9)\n",
    "    Q_max_BB_HWH = get_Q_max_BB_HWH(q_rtd)\n",
    "\n",
    "    # 1時間当たりのバックアップボイラーの温水暖房部の温水暖房出力 (MJ/h) (8)\n",
    "    Q_out_BB_HWH_d_t = get_Q_out_BB_HWH_d_t(L_BB_HWH_d_t, Q_max_BB_HWH)\n",
    "\n",
    "    # 1時間平均の定格効率を補正する係数 (-) (4)\n",
    "    f_rtd_d_t = get_f_rtd_d_t(BB_type, p_hs)\n",
    "\n",
    "    # 1時間当たりのバックアップボイラーの温水暖房部の筐体熱損失 (MJ/h) (3)\n",
    "    Q_body_d_t = get_Q_body_d_t(BB_type, p_hs)\n",
    "\n",
    "    # 1時間平均のバックアップボイラーの温水暖房部の熱交換効率 (-) (2)\n",
    "    e_ex_d_t = get_e_ex_d_t(e_rtd, f_rtd_d_t, q_rtd, Q_body_d_t)\n",
    "\n",
    "    # 1時間当たりの温水暖房時のバックアップボイラーのガス消費量 (MJ/h) (1)\n",
    "    E_G_BB_HWH_d_t = get_E_G_BB_HWH_d_t(Q_out_BB_HWH_d_t, Q_body_d_t, e_ex_d_t)\n",
    "\n",
    "    print('Q_body = {} [MJ/yr]'.format(np.sum(Q_body_d_t)))\n",
    "    print('sum(e_ex_d_t) = {} [-]'.format(np.sum(e_ex_d_t)))\n",
    "    print('L_BB_HWH = {} [MJ/yr]'.format(np.sum(L_BB_HWH_d_t)))\n",
    "    print('Q_out_BB_HWH = {} [MJ/yr]'.format(np.sum(Q_out_BB_HWH_d_t)))\n",
    "    print('E_G_BB_HWH = {} [MJ/yr]'.format(np.sum(E_G_BB_HWH_d_t)))\n",
    "\n",
    "    return E_G_BB_HWH_d_t\n"
   ]
  },
  {
   "cell_type": "code",
   "execution_count": null,
   "metadata": {},
   "outputs": [],
   "source": [
    "def get_E_G_BB_HWH_d_t(Q_out_BB_HWH_d_t, Q_body_d_t, e_ex_d_t):\n",
    "    \"\"\"1時間当たりの温水暖房時のバックアップボイラーのガス消費量 (MJ/h) (1)\n",
    "\n",
    "    :param Q_out_BB_HWH_d_t: 1時間当たりのバックアップボイラーの温水暖房部の温水暖房出力 (MJ/h)\n",
    "    :type Q_out_BB_HWH_d_t: ndarray\n",
    "    :param Q_body_d_t: 1時間当たりのバックアップボイラーの温水暖房部の共闘放熱損失 (MJ/h)\n",
    "    :type Q_body_d_t: ndarray\n",
    "    :param e_ex_d_t: 1時間平均のバックアップボイラーの温水暖房部の熱交換効率 (-)\n",
    "    :type e_ex_d_t: ndarray\n",
    "    :return: 1時間当たりの温水暖房時のバックアップボイラーのガス消費量 (MJ/h)\n",
    "    :rtype: ndarray\n",
    "    \"\"\"\n",
    "    E_G_BB_HWH_d_t = np.zeros(24 * 365)\n",
    "\n",
    "    # Q_out_BB_HWH_d_t = 0 の場合\n",
    "    f1 = Q_out_BB_HWH_d_t == 0\n",
    "    E_G_BB_HWH_d_t[f1] = 0\n",
    "\n",
    "    # Q_out_BB_HWH_d_t > 0 の場合\n",
    "    f2 = Q_out_BB_HWH_d_t > 0\n",
    "    E_G_BB_HWH_d_t[f2] = (Q_out_BB_HWH_d_t[f2] + Q_body_d_t[f2]) / e_ex_d_t[f2]\n",
    "\n",
    "    return E_G_BB_HWH_d_t\n"
   ]
  },
  {
   "cell_type": "markdown",
   "metadata": {},
   "source": [
    "$$\\large\n",
    "e_{ex,d,t}=e_{rtd}\\times f_{rtd,d,t} \\times \\frac{q_{rtd}\\times 3600 \\times 10^{-6}+Q_{body,d,t}}{q_{rtd}\\times 3600\\times 10^{-6}}\n",
    "$$"
   ]
  },
  {
   "cell_type": "markdown",
   "metadata": {},
   "source": [
    "$e_{rtd}$：バックアップボイラーの温水暖房部の定格効率(-)  \n",
    "$f_{rtd,d,t}$：日付$d$の時刻$t$における1時間平均の定格効率を補正する係数(-)  \n",
    "$q_{rtd}$：バックアップボイラーの温水暖房部の定格能力(W)  \n",
    "$Q_{body,d,t}$：日付$d$の時刻$t$における1時間当たりのバックアップボイラーの温水暖房部の筐体放熱損失(MJ/h)  \n"
   ]
  },
  {
   "cell_type": "code",
   "execution_count": null,
   "metadata": {},
   "outputs": [],
   "source": [
    "def get_e_ex_d_t(e_rtd, f_rtd_d_t, q_rtd, Q_body_d_t):\n",
    "    \"\"\"1時間平均のバックアップボイラーの温水暖房部の熱交換効率 (-) (2)\n",
    "\n",
    "    :param e_rtd: バックアップボイラーの温水暖房部の定格効率 (-)\n",
    "    :type e_rtd: float\n",
    "    :param f_rtd_d_t: 1時間平均の定格効率を補正する係数 (-)\n",
    "    :type f_rtd_d_t: ndarray\n",
    "    :param q_rtd: バックアップボイラーの温水暖房部の定格能力 (W)\n",
    "    :type q_rtd: int\n",
    "    :param Q_body_d_t: 1時間当たりのバックアップボイラーの温水暖房部の筐体放熱損失 (MJ/h)\n",
    "    :type Q_body_d_t: ndarray\n",
    "    :return: 1時間平均のバックアップボイラーの温水暖房部の熱交換効率 (-)\n",
    "    :rtype: ndarray\n",
    "    \"\"\"\n",
    "    e_ex_d_t = e_rtd * f_rtd_d_t * (q_rtd * 3600 * 10 ** (-6) + Q_body_d_t) / (q_rtd * 3600 * 10 ** (-6))\n",
    "    return e_ex_d_t\n"
   ]
  },
  {
   "cell_type": "markdown",
   "metadata": {},
   "source": [
    "当該バックアップボイラーの温水暖房部がガス従来型の場合 "
   ]
  },
  {
   "cell_type": "markdown",
   "metadata": {},
   "source": [
    "$$\\large\n",
    "Q_{body,d,t}= 240.96 \\times 3600 \\times 10^{-6}\n",
    "$$"
   ]
  },
  {
   "cell_type": "markdown",
   "metadata": {},
   "source": [
    "当該バックアップボイラーの温水暖房部がガス潜熱回収型の場合 "
   ]
  },
  {
   "cell_type": "markdown",
   "metadata": {},
   "source": [
    "$$\\large\n",
    "Q_{body,d,t} = \\left\\{ \\begin{array}{ll}\n",
    "    225.26 \\times 3600 \\times 10^{-6} & (送水温度の区分p_{hs}が 1（送水温度 60℃）の場合)\\\\  \n",
    "    123.74 \\times 3600 \\times 10^{-6} &(送水温度の区分p_{hs}が 2（送水温度 40℃）の場合)\\\\  \n",
    "    \\end{array}\n",
    "\\right.\n",
    "$$"
   ]
  },
  {
   "cell_type": "code",
   "execution_count": null,
   "metadata": {},
   "outputs": [],
   "source": [
    "def get_Q_body_d_t(BB_type, p_hs=None):\n",
    "    \"\"\"1時間当たりのバックアップボイラーの温水暖房部の筐体熱損失 (MJ/h) (3)\n",
    "\n",
    "    :param BB_type: 当該バックアップボイラーの温水暖房部の種類\n",
    "    :type BB_type: str\n",
    "    :param p_hs: 送水温度の区分\n",
    "    :type p_hs: ndarray\n",
    "    :return: 1時間当たりのバックアップボイラーの温水暖房部の筐体熱損失 (MJ/h)\n",
    "    :rtype: ndarray\n",
    "    \"\"\"\n",
    "    Q_body_d_t = np.zeros(24 * 365)\n",
    "\n",
    "    if BB_type in ['ガス従来型', 'G_NEJ']:\n",
    "        Q_body_d_t[:] = 240.96 * 3600 * 10 ** (-6)\n",
    "    elif BB_type in ['ガス潜熱回収型', 'G_EJ']:\n",
    "        # 送水温度の区分p_hsが1(送水温度60℃)の場合\n",
    "        f1 = (p_hs == 1)\n",
    "        Q_body_d_t[f1] = 225.26 * 3600 * 10 ** (-6)\n",
    "\n",
    "        # 送水温度の区分p_hsが2(送水温度40℃)の場合\n",
    "        f2 = (p_hs == 2)\n",
    "        Q_body_d_t[f2] = 123.74 * 3600 * 10 ** (-6)\n",
    "    else:\n",
    "        raise ValueError(BB_type)\n",
    "\n",
    "    return Q_body_d_t\n"
   ]
  },
  {
   "cell_type": "markdown",
   "metadata": {},
   "source": [
    "当該バックアップボイラーの温水暖房部が従来型ガス熱源の場合"
   ]
  },
  {
   "cell_type": "markdown",
   "metadata": {},
   "source": [
    "$$\\large\n",
    "f_{rtd,d,t}= 0.985\n",
    "$$"
   ]
  },
  {
   "cell_type": "markdown",
   "metadata": {},
   "source": [
    "当該バックアップボイラーの温水暖房部が潜熱回収型ガス熱源の場合 "
   ]
  },
  {
   "cell_type": "markdown",
   "metadata": {},
   "source": [
    "$$\\large\n",
    "f_{rtd,d,t} = \\left\\{ \\begin{array}{ll}\n",
    "    1.038 & (送水温度の区分p_{hs}が 1（送水温度 60℃）の場合)\\\\  \n",
    "    1.064 & (送水温度の区分p_{hs}が 2（送水温度 40℃）の場合)\\\\  \n",
    "    \\end{array}\n",
    "\\right.\n",
    "$$"
   ]
  },
  {
   "cell_type": "code",
   "execution_count": null,
   "metadata": {},
   "outputs": [],
   "source": [
    "def get_f_rtd_d_t(BB_type, p_hs):\n",
    "    \"\"\"1時間平均の定格効率を補正する係数 (-) (4)\n",
    "\n",
    "    :param BB_type: 当該バックアップボイラーの温水暖房部の種類\n",
    "    :type BB_type: str\n",
    "    :param p_hs: 送水温度の区分\n",
    "    :type p_hs: ndarray\n",
    "    :return: 1時間平均の定格効率を補正する係数 (-)\n",
    "    :rtype: ndarray\n",
    "    \"\"\"\n",
    "    f_rtd_d_t = np.zeros(24 * 365)\n",
    "    if BB_type in ['ガス従来型', 'G_NEJ']:\n",
    "        f_rtd_d_t[:] = 0.985\n",
    "    elif BB_type in ['ガス潜熱回収型', 'G_EJ']:\n",
    "        # 送水温度の区分p_hsが1(送水温度60℃)の場合\n",
    "        f1 = (p_hs == 1)\n",
    "        f_rtd_d_t[f1] = 1.038\n",
    "\n",
    "        # 送水温度の区分p_hsが2(送水温度40℃)の場合\n",
    "        f2 = (p_hs == 2)\n",
    "        f_rtd_d_t[f2] = 1.064\n",
    "    else:\n",
    "        raise ValueError(BB_type)\n",
    "\n",
    "    return f_rtd_d_t\n"
   ]
  },
  {
   "cell_type": "markdown",
   "metadata": {},
   "source": [
    "### E.3 温水暖房出力"
   ]
  },
  {
   "cell_type": "markdown",
   "metadata": {},
   "source": [
    "$$\\large\n",
    "Q_{out,BB,HWH,d,t}= min(L_{BB,HWH,d,t}, Q_{max,BB,HWH})\n",
    "$$"
   ]
  },
  {
   "cell_type": "markdown",
   "metadata": {},
   "source": [
    "$Q_{out,BB,HWH,d,t}$：日付$d$の時刻$t$における 1 時間当たりのバックアップボイラーの温水暖房部の温水暖房出力(MJ/h)  \n",
    "$L_{BB,HWH,d,t}$：日付$d$の時刻$t$における 1 時間当たりのバックアップボイラーが分担する温水暖房熱負荷(MJ/h)  \n",
    "$Q_{max,BB,HWH}$：1 時間当たりの温水暖房時のバックアップボイラーの最大暖房出力(MJ/h)  \n"
   ]
  },
  {
   "cell_type": "code",
   "execution_count": null,
   "metadata": {},
   "outputs": [],
   "source": [
    "def get_Q_out_BB_HWH_d_t(L_BB_HWH_d_t, Q_max_BB_HWH):\n",
    "    \"\"\"1時間当たりのバックアップボイラーの温水暖房部の温水暖房出力 (MJ/h) (5)\n",
    "\n",
    "    :param L_BB_HWH_d_t: 1時間当たりのバックアップボイラーが分担する温水暖房熱負荷 (MJ/h)\n",
    "    :type L_BB_HWH_d_t: ndarray\n",
    "    :param Q_max_BB_HWH: 1時間当たりの温水暖房時のバックアップボイラーの最大暖房出力 (MJ/h)\n",
    "    :type Q_max_BB_HWH: float\n",
    "    :return: 1時間当たりのバックアップボイラーの温水暖房部の温水暖房出力 (MJ/h)\n",
    "    :rtype: ndarray\n",
    "    \"\"\"\n",
    "    Q_out_BB_HWH_d_t = np.clip(L_BB_HWH_d_t, None, Q_max_BB_HWH)\n",
    "    return Q_out_BB_HWH_d_t\n"
   ]
  },
  {
   "cell_type": "markdown",
   "metadata": {},
   "source": [
    "$$\\large\n",
    "Q_{max,BB,HWH} = q_{rtd,BB,HWH}\\times 3600 \\div 10^6\n",
    "$$"
   ]
  },
  {
   "cell_type": "markdown",
   "metadata": {},
   "source": [
    "$q_{rtd,BB,HWH}$：バックアップボイラーの温水暖房の定格能力(W)  \n"
   ]
  },
  {
   "cell_type": "code",
   "execution_count": null,
   "metadata": {},
   "outputs": [],
   "source": [
    "def get_Q_max_BB_HWH(q_rtd_BB_HWH):\n",
    "    \"\"\"1時間当たりの温水暖房時のバックアップボイラーの最大暖房出力 (MJ/h) (6)\n",
    "\n",
    "    :param q_rtd_BB_HWH: バックアップボイラーの温水暖房の定格能力 (W)\n",
    "    :type q_rtd_BB_HWH: float\n",
    "    :return: 1時間当たりの温水暖房時のバックアップボイラーの最大暖房出力 (MJ/h)\n",
    "    :rtype: float\n",
    "    \"\"\"\n",
    "    Q_max_BB_HWH = q_rtd_BB_HWH * 3600 / (10 ** 6)\n",
    "\n",
    "    return Q_max_BB_HWH\n"
   ]
  }
 ],
 "metadata": {
  "kernelspec": {
   "display_name": "Python 3",
   "language": "python",
   "name": "python3"
  },
  "language_info": {
   "codemirror_mode": {
    "name": "ipython",
    "version": 3
   },
   "file_extension": ".py",
   "mimetype": "text/x-python",
   "name": "python",
   "nbconvert_exporter": "python",
   "pygments_lexer": "ipython3",
   "version": "3.8.5"
  }
 },
 "nbformat": 4,
 "nbformat_minor": 2
}
