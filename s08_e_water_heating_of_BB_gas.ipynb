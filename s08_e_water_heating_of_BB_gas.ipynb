{
 "cells": [
  {
   "cell_type": "markdown",
   "metadata": {},
   "source": [
    "## 付録 E バックアップボイラーの温水暖房部（ガス熱源）  / Appendix E"
   ]
  },
  {
   "cell_type": "markdown",
   "metadata": {},
   "source": [
    "### E.1 記号及び単位 "
   ]
  },
  {
   "cell_type": "markdown",
   "metadata": {},
   "source": [
    "省略"
   ]
  },
  {
   "cell_type": "markdown",
   "metadata": {},
   "source": [
    "Omission"
   ]
  },
  {
   "cell_type": "markdown",
   "metadata": {},
   "source": [
    "### E.2 ガス消費量 "
   ]
  },
  {
   "cell_type": "markdown",
   "metadata": {},
   "source": [
    "$$\\large\n",
    "E_{G,BB,HWH,d,t} = \\left\\{ \\begin{array}{ll}\n",
    "    0 & (Q_{out,BB,HWH,d,t} = 0)\\\\  \n",
    "    \\frac{Q_{out,BB,HWH,d,t}+Q_{body,d,t}}{e_{ex,d,t}} &(Q_{out,BB,HWH,d,t} > 0)\\\\  \n",
    "    \\end{array}\n",
    "\\right.\n",
    "$$"
   ]
  },
  {
   "cell_type": "markdown",
   "metadata": {},
   "source": [
    "$E_{G,BB,HWH,d,t}$：日付$d$の時刻$t$における1時間当たりの温水暖房時のバックアップボイラーのガス消費量(MJ/h)  \n",
    "$Q_{out,BB,HWH,d,t}$：日付$d$の時刻$t$における1時間当たりのバックアップボイラーの温水暖房部の温水暖房出力(MJ/h)  \n",
    "$Q_{body,d,t}$：日付$d$の時刻$t$における1時間当たりのバックアップボイラーの温水暖房部の筐体放熱損失(MJ/h)  \n",
    "$e_{ex,d,t}$：日付$d$の時刻$t$における1時間平均のバックアップボイラーの温水暖房部の熱交換効率(-)  \n"
   ]
  },
  {
   "cell_type": "markdown",
   "metadata": {},
   "source": [
    "$$\\large\n",
    "e_{ex,d,t}=e_{rtd}\\times f_{rtd,d,t} \\times \\frac{q_{rtd}\\times 3600 \\times 10^{-6}+Q_{body,d,t}}{q_{rtd}\\times 3600\\times 10^{-6}}\n",
    "$$"
   ]
  },
  {
   "cell_type": "markdown",
   "metadata": {},
   "source": [
    "$e_{rtd}$：バックアップボイラーの温水暖房部の定格効率(-)  \n",
    "$f_{rtd,d,t}$：日付$d$の時刻$t$における1時間平均の定格効率を補正する係数(-)  \n",
    "$q_{rtd}$：バックアップボイラーの温水暖房部の定格能力(W)  \n",
    "$Q_{body,d,t}$：日付$d$の時刻$t$における1時間当たりのバックアップボイラーの温水暖房部の筐体放熱損失(MJ/h)  \n"
   ]
  },
  {
   "cell_type": "markdown",
   "metadata": {},
   "source": [
    "当該バックアップボイラーの温水暖房部がガス従来型の場合 "
   ]
  },
  {
   "cell_type": "markdown",
   "metadata": {},
   "source": [
    "$$\\large\n",
    "Q_{body,d,t}= 240.96 \\times 3600 \\times 10^{-6}\n",
    "$$"
   ]
  },
  {
   "cell_type": "markdown",
   "metadata": {},
   "source": [
    "当該バックアップボイラーの温水暖房部がガス潜熱回収型の場合 "
   ]
  },
  {
   "cell_type": "markdown",
   "metadata": {},
   "source": [
    "$$\\large\n",
    "Q_{body,d,t} = \\left\\{ \\begin{array}{ll}\n",
    "    225.26 \\times 3600 \\times 10^{-6} & (送水温度の区分p_{hs}が 1（送水温度 60℃）の場合)\\\\  \n",
    "    123.74 \\times 3600 \\times 10^{-6} &(送水温度の区分p_{hs}が 2（送水温度 40℃）の場合)\\\\  \n",
    "    \\end{array}\n",
    "\\right.\n",
    "$$"
   ]
  },
  {
   "cell_type": "markdown",
   "metadata": {},
   "source": [
    "当該バックアップボイラーの温水暖房部が従来型ガス熱源の場合"
   ]
  },
  {
   "cell_type": "markdown",
   "metadata": {},
   "source": [
    "$$\\large\n",
    "f_{rtd,d,t}= 0.985\n",
    "$$"
   ]
  },
  {
   "cell_type": "markdown",
   "metadata": {},
   "source": [
    "当該バックアップボイラーの温水暖房部が潜熱回収型ガス熱源の場合 "
   ]
  },
  {
   "cell_type": "markdown",
   "metadata": {},
   "source": [
    "$$\\large\n",
    "f_{rtd,d,t} = \\left\\{ \\begin{array}{ll}\n",
    "    1.038 & (送水温度の区分p_{hs}が 1（送水温度 60℃）の場合)\\\\  \n",
    "    1.064 & (送水温度の区分p_{hs}が 2（送水温度 40℃）の場合)\\\\  \n",
    "    \\end{array}\n",
    "\\right.\n",
    "$$"
   ]
  },
  {
   "cell_type": "markdown",
   "metadata": {},
   "source": [
    "### E.3 温水暖房出力"
   ]
  },
  {
   "cell_type": "markdown",
   "metadata": {},
   "source": [
    "$$\\large\n",
    "Q_{out,BB,HWH,d,t}= min(L_{BB,HWH,d,t}, Q_{max,BB,HWH})\n",
    "$$"
   ]
  },
  {
   "cell_type": "markdown",
   "metadata": {},
   "source": [
    "$Q_{out,BB,HWH,d,t}$：日付$d$の時刻$t$における 1 時間当たりのバックアップボイラーの温水暖房部の温水暖房出力(MJ/h)  \n",
    "$L_{BB,HWH,d,t}$：日付$d$の時刻$t$における 1 時間当たりのバックアップボイラーが分担する温水暖房熱負荷(MJ/h)  \n",
    "$Q_{max,BB,HWH}$：1 時間当たりの温水暖房時のバックアップボイラーの最大暖房出力(MJ/h)  \n"
   ]
  },
  {
   "cell_type": "markdown",
   "metadata": {},
   "source": [
    "$$\\large\n",
    "Q_{max,BB,HWH} = q_{rtd,BB,HWH}\\times 3600 \\div 10^6\n",
    "$$"
   ]
  },
  {
   "cell_type": "markdown",
   "metadata": {},
   "source": [
    "$q_{rtd,BB,HWH}$：バックアップボイラーの温水暖房の定格能力(W)  \n"
   ]
  },
  {
   "cell_type": "code",
   "execution_count": null,
   "metadata": {},
   "outputs": [],
   "source": []
  }
 ],
 "metadata": {
  "kernelspec": {
   "display_name": "Python 3",
   "language": "python",
   "name": "python3"
  },
  "language_info": {
   "codemirror_mode": {
    "name": "ipython",
    "version": 3
   },
   "file_extension": ".py",
   "mimetype": "text/x-python",
   "name": "python",
   "nbconvert_exporter": "python",
   "pygments_lexer": "ipython3",
   "version": "3.6.6"
  }
 },
 "nbformat": 4,
 "nbformat_minor": 2
}
