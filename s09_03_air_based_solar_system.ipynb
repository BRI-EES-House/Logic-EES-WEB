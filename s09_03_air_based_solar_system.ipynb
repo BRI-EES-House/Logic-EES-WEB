{
 "cells": [
  {
   "cell_type": "markdown",
   "metadata": {},
   "source": [
    "使用許諾条件\n",
    "\n",
    "①\t設計一次エネルギー消費量算定法に基づく計算方法をPythonによりコーディングし、Jupyter notebook形式で保存したファイル（以下、本ファイルと呼ぶ）の著作権は、一般社団法人日本サステナブル建築協会に帰属します。\n",
    "Copyright©2019. 一般社団法人日本サステナブル建築協会\n",
    "All rights reserved. \n",
    "\n",
    "②\t本ファイルは、住戸の設計一次エネルギー消費量算定方法に係る「平成28年省エネルギー基準に準拠したエネルギー消費性能の評価に関する技術情報（住宅）2.1算定方法（第九章第三節 空気集熱式太陽熱利用設備）」に示す計算方法に基づき、国土交通省国土技術政策総合研究所・国立研究開発法人建築研究所、株式会社ユーワークス、株式会社住環境計画研究所が作成したものです。\n",
    "\n",
    "③\t本ファイルは、計算方法に示す計算過程の確認及び調査研究等に活用することを目的として作成されたものであり、一般社団法人日本サステナブル建築協会は著作権について放棄はしませんが、使用する各人の自己責任において仕様を変更することを妨げるものではありません。ただし、本ファイルによる計算結果を住宅の省エネルギー基準で規定する設計一次エネルギー消費量の結果として公的な申請に用いることはできません。\n",
    "\n",
    "④\t本ファイルを変更するかしないかを問わず、以下の条件を満たす場合に限り、頒布および使用が許可されます。\n",
    "1.\t頒布物の付属ドキュメント等の資料に、上記の著作権表示、本条件一覧、および下記免責条項を含めること。\n",
    "2.\t書面による特別の許可なしに、本ファイルから派生した製品の宣伝または販売の促進に、一般社団法人日本サステナブル建築協会、国土技術政策総合研究所・国立研究開発法人建築研究所および株式会社ユーワークス、株式会社住環境計画研究所の名前またはコントリビューターの名前を使用してはならない。\n",
    "\n",
    "⑤\t本ファイルは、著作権者およびコントリビューターによって「現状のまま」提供されており、明示黙示を問わず、商業的な使用可能性、および特定の目的に対する適合性に関する暗黙の保証も含め、またそれに限定されない、いかなる保証もありません。著作権もコントリビューターも、事由のいかんを問わず、損害発生の原因いかんを問わず、かつ責任の根拠が契約であるか厳格責任であるか（過失その他の）不法行為であるかを問わず、仮にそのような損害が発生する可能性を知らされていたとしても、本ファイルの使用によって発生した（代用品または代用サービスの調達、使用の喪失、データの喪失、利益の喪失、業務の中断も含め、またそれに限定されない）直接損害、間接損害、偶発的な損害、特別損害、懲罰的損害、または結果損害について、一切の責任を負わないものとします。\n",
    "\n"
   ]
  },
  {
   "cell_type": "code",
   "execution_count": null,
   "metadata": {},
   "outputs": [],
   "source": [
    "import nbimporter\n",
    "import numpy as np\n",
    "\n",
    "from s03_01_10_heating_day import get_heating_flag_d\n",
    "\n",
    "import s03_01_e_underfloor_temperature as algo\n",
    "\n",
    "from s11_02_solar_radiation import  calc_I_s_d_t  # , get_Theta_ex"
   ]
  },
  {
   "cell_type": "markdown",
   "metadata": {},
   "source": [
    "# 第九章　自然エネルギー利用設備 / Chapter 9 Natural energy utilization equipment"
   ]
  },
  {
   "cell_type": "markdown",
   "metadata": {},
   "source": [
    "## 第三節　空気集熱式太陽熱利用設備 / Section 3 Air based solar system"
   ]
  },
  {
   "cell_type": "markdown",
   "metadata": {},
   "source": [
    "1．適用範囲～4．記号及び単位は省略"
   ]
  },
  {
   "cell_type": "markdown",
   "metadata": {},
   "source": [
    "1. Scope of application ~ 4. Symbols and units are omitted"
   ]
  },
  {
   "cell_type": "markdown",
   "metadata": {},
   "source": [
    "### 5．暖房負荷削減量 / Heating load reduction amount"
   ]
  },
  {
   "cell_type": "markdown",
   "metadata": {},
   "source": [
    "集熱後の空気を床下空間へ供給する場合： "
   ]
  },
  {
   "cell_type": "markdown",
   "metadata": {},
   "source": [
    "When supplying air after heat collection to the space below the floor:"
   ]
  },
  {
   "cell_type": "markdown",
   "metadata": {},
   "source": [
    "$L'_{H,R,d,t,i} \\leq 0$ または 当該時刻において集熱した熱を暖房に利用しない場合 ($r_{sa,d,t} = 0$) の場合： "
   ]
  },
  {
   "cell_type": "markdown",
   "metadata": {},
   "source": [
    "$ L'_{H, R, d, t, i} \\leq 0 $ or when not using the heat collected at that time for heating ($ r_ {sa, d, t} = 0 $):"
   ]
  },
  {
   "cell_type": "markdown",
   "metadata": {},
   "source": [
    "$$\\large\n",
    "\\begin{equation*}\n",
    "    \\Delta L'_{H,ass,d,t,i} = 0\n",
    "\\end{equation*}\n",
    "$$"
   ]
  },
  {
   "cell_type": "markdown",
   "metadata": {},
   "source": [
    "$0 < L'_{H,R,d,t,i}$ かつ 当該時刻において集熱した熱を暖房に利用する場合 ($0 < r_{sa,d,t}$) の場合： "
   ]
  },
  {
   "cell_type": "markdown",
   "metadata": {},
   "source": [
    "$0 < L'_{H,R,d,t,i}$ And when using the heat collected at that time for heating ($ 0 <r_ {sa, d, t} $):"
   ]
  },
  {
   "cell_type": "markdown",
   "metadata": {},
   "source": [
    "$$\\large\n",
    "\\begin{equation*}\n",
    "    \\Delta L'_{H,ass,d,t,i} = \\rho_{air} \\times c_{p_{air}} \\times V_{sa,d,t,i} \\times (\\theta_{uf,d,t} - \\theta_{in,d,t}) \\times 10^{-3}\\\\ \n",
    "    - U_s \\times A_{s,ufvnt,i} \\times (\\theta_{in,d,t} - \\theta_{uf,d,t}) \\times 3.6 \\times 10^{-3}\\\\\n",
    "    + U_{s,vert} \\times A_{s,ufvnt,i} \\times (\\theta_{in,d,t} - \\theta_{ex,d,t}) \\times H_{floor} \\times 3.6 \\times 10^{-3}\n",
    "\\end{equation*}\n",
    "$$"
   ]
  },
  {
   "cell_type": "markdown",
   "metadata": {},
   "source": [
    "集熱後の空気を居室へ直接供給する場合： "
   ]
  },
  {
   "cell_type": "markdown",
   "metadata": {},
   "source": [
    "When supplying air after collecting heat directly to the living room:"
   ]
  },
  {
   "cell_type": "markdown",
   "metadata": {},
   "source": [
    "$L'_{H,R,d,t,i} \\leq 0$ または 当該時刻において集熱した熱を暖房に利用しない場合 ($r_{sa,d,t} = 0$) の場合： \n"
   ]
  },
  {
   "cell_type": "markdown",
   "metadata": {},
   "source": [
    "$L'_{H,R,d,t,i} \\leq 0$ or when not using the heat collected at that time for heating ($ r_ {sa, d, t} = 0 $):"
   ]
  },
  {
   "cell_type": "markdown",
   "metadata": {},
   "source": [
    "$$\\large\n",
    "\\begin{equation*}\n",
    "    \\Delta L'_{H,ass,d,t,i} = 0\n",
    "\\end{equation*}\n",
    "$$"
   ]
  },
  {
   "cell_type": "markdown",
   "metadata": {},
   "source": [
    "$0 < L'_{H,R,d,t,i}$ かつ 当該時刻において集熱した熱を暖房に利用する場合 ($0 < r_{sa,d,t}$) の場合： \n"
   ]
  },
  {
   "cell_type": "markdown",
   "metadata": {},
   "source": [
    "$0 < L'_{H,R,d,t,i}$ And when using the heat collected at that time for heating ($ 0 <r_ {sa, d, t} $):"
   ]
  },
  {
   "cell_type": "markdown",
   "metadata": {},
   "source": [
    "$$\\large\n",
    "\\begin{equation*}\n",
    "    \\Delta L'_{H,ass,d,t,i} = \\rho_{air} \\times c_{p_{air}} \\times V_{sa,d,t,i} \\times (\\theta_{sa,d,t} - \\theta_{in,d,t}) \\times 10^{-3}\n",
    "\\end{equation*}\n",
    "$$"
   ]
  },
  {
   "cell_type": "markdown",
   "metadata": {},
   "source": [
    "$A_{s,ufvnt,i}$：暖冷房区画$i$の空気を供給する床下空間に接する床の面積(m<sup>2</sup>) / Floor area in contact with the underfloor space supplying air for heating and cooling section $ i $  \n",
    "$c_{p_{air}}$： 空気の比熱(kJ/(kg・K))  / Specific heat of air  \n",
    "$H_{floor}$：床の温度差係数(-) / Floor temperature difference coefficient  \n",
    "$L'_{H,R,d,t,i}$：日付$d$の時刻$t$における標準住戸の暖冷房区画$i$の負荷補正前の暖房負荷(MJ/h) / Heating load before load compensation of heating / cooling section $ i $ of standard dwelling unit at time $ t $ of date $ d $  \n",
    "$r_{sa,d,t}$：日付$d$の時刻$t$における 1 時間当たりの空気搬送ファンの風量のうち床下空間または居室へ供給する空気の風量の割合(-) / Ratio of the air volume of the air supplied to the space under the floor or the living room to the air volume of the air conveying fan per hour at the time $ t $ of the date $ d $  \n",
    "$U_s$：床の熱貫流率(W/(m<sup>2</sup>・K)) / Heat transmission coefficient of floor  \n",
    "$U_{s,vert}$：暖冷房負荷計算時に想定した床の熱貫流率(W/(m<sup>2</sup>・K)) / Heat transmission coefficient of floor assumed when calculating heating and cooling load  \n",
    "$V_{sa,d,t,i}$：日付$d$の時刻$t$における暖冷房区画$i$の1 時間当たりの床下空間または居室へ供給する空気の風量(m<sup>3</sup>/h) / Volume of air supplied to underfloor space or room per hour of heating / cooling compartment $ i $ at time $ t $ of date $ d $  \n",
    "$\\Delta L'_{H,ass,d,t,i}$：日付$d$の時刻$t$における暖冷房区画$i$の空気集熱式太陽熱利用設備による暖房負荷削減量(MJ/h) / Heating load reduction amount by air-collecting type solar utilization facility of heating and cooling division $ i $ at time $ t $ of date $ d $  \n",
    "$\\rho_{air}$：空気の密度(kg/m<sup>3</sup>) / Air density  \n",
    "$\\theta_{in,d,t}$：日付$d$の時刻$t$における室内温度(℃) / Room temperature at time $ t $ with date $ d $  \n",
    "$\\theta_{sa,d,t}$：日付$d$の時刻$t$において床下空間または居室へ供給する空気の温度(℃) / Temperature of air supplied to the space under the floor or room at time $ t $ of date $ d $  \n",
    "$\\theta_{uf,d,t}$：日付$d$の時刻$t$における床下温度(℃) / Underfloor temperature at time $ t $ with date $ d $  \n"
   ]
  },
  {
   "cell_type": "code",
   "execution_count": null,
   "metadata": {},
   "outputs": [],
   "source": [
    "def calc_delta_L_dash_H_ass_d_t_i(i, supply_target, L_dash_H_R_d_t_i, L_dash_CS_R_d_t_i, region, sol_region, A_HCZ_i,\n",
    "                                  A_A, A_MR, A_OR, Q,\n",
    "                                  hotwater_use, Theta_ex_d_t, P_alpha, P_beta,\n",
    "                                  A_col, V_fan_P0, m_fan_test, d0, d1, ufv_insulation, r_A_ufvnt):\n",
    "    \"\"\"空気集熱式太陽熱利用設備による暖房負荷削減量 (MJ/h)\n",
    "\n",
    "    :param i: 暖冷房区画の番号\n",
    "    :type i: int\n",
    "    :param supply_target: 集熱後の空気を供給する先\n",
    "    :type supply_target: str\n",
    "    :param L_dash_H_R_d_t_i: 空気集熱式太陽熱利用設備による暖房負荷削減量 (MJ/h)\n",
    "    :type L_dash_H_R_d_t_i: ndarray\n",
    "    :param L_dash_CS_R_d_t_i: 標準住戸の負荷補正前の冷房顕熱負荷 （MJ/h）\n",
    "    :type L_dash_CS_R_d_t_i: ndarray\n",
    "    :param region: 省エネルギー地域区分\n",
    "    :type region: int\n",
    "    :param sol_region: 年間日射地域区分(1-5)\n",
    "    :type sol_region: int\n",
    "    :param A_HCZ_i: 暖冷房区画iの床面積 (m2)\n",
    "    :type A_HCZ_i: float\n",
    "    :param A_A: 床面積の合計(m2)\n",
    "    :type A_A: float\n",
    "    :param A_MR: 主たる居室の床面積(m2)\n",
    "    :type A_MR: float\n",
    "    :param A_OR: その他の拠出の床面積(m2)\n",
    "    :type A_OR: float\n",
    "    :param Q: 当該住戸の熱損失係数 (W/m2K)\n",
    "    :type Q: float\n",
    "    :param hotwater_use: 空気集熱式太陽熱利用設備が給湯部を有する場合はTrue\n",
    "    :type hotwater_use: bool\n",
    "    :param Theta_ex_d_t: 外気温度 (℃)\n",
    "    :type Theta_ex_d_t: ndarray\n",
    "    :param P_alpha: 方位角 (°)\n",
    "    :type P_alpha: float\n",
    "    :param P_beta:傾斜角 (°)\n",
    "    :type P_beta: float\n",
    "    :param A_col: 集熱器群の面積 (m2)\n",
    "    :type A_col: tuple\n",
    "    :param V_fan_P0: 空気搬送ファンの送風機特性曲線において機外静圧をゼロとしたときの空気搬送ファンの風量 (m3/h)\n",
    "    :type V_fan_P0: float\n",
    "    :param m_fan_test: 集熱器群を構成する集熱器の集熱性能試験時における単位面積当たりの空気の質量流量 (kg/(s・m2))\n",
    "    :type m_fan_test: tuple\n",
    "    :param d0: 集熱器群を構成する集熱器の集熱効率特性線図一次近似式の切片 (-)\n",
    "    :type d0: tuple\n",
    "    :param d1: 集熱器群を構成する集熱器の集熱効率特性線図一次近似式の傾き (W/(m2K))\n",
    "    :type d1: tuple\n",
    "    :param ufv_insulation: 床下空間が断熱空間内である場合はTrue\n",
    "    :type ufv_insulation: bool\n",
    "    :param r_A_ufvnt: 当該住戸において、床下空間全体の面積に対する空気を供給する床下空間の面積の比 (-)\n",
    "    :type r_A_ufvnt: float\n",
    "    :return: 空気集熱式太陽熱利用設備による暖房負荷削減量\n",
    "    :rtype: ndarray\n",
    "    \"\"\"\n",
    "    # ----- 10 集熱部 -----\n",
    "\n",
    "    # 空気搬送ファン停止時および稼働時の集熱部の出口における空気温度 (℃)\n",
    "    Theta_col_nonopg_d_t, Theta_col_opg_d_t = calc_Theta_col(A_col=A_col, P_alpha=P_alpha, P_beta=P_beta,\n",
    "                                                             V_fan_P0=V_fan_P0, d0=d0, d1=d1, m_fan_test=m_fan_test,\n",
    "                                                             region=region, sol_region=sol_region,\n",
    "                                                             Theta_ex_d_t=Theta_ex_d_t)\n",
    "\n",
    "    # ----- 9. 空気搬送部 -----\n",
    "\n",
    "    # 1時間当たりの空気搬送ファンの稼働時間 (h/h) (12)\n",
    "    t_fan_d_t = get_t_fan_d_t(Theta_col_nonopg_d_t, Theta_col_opg_d_t)\n",
    "\n",
    "    # 1時間当たりの空気搬送ファンの風量 (m3/h) (13)\n",
    "    V_fan_d_t = get_V_fan_d_t(t_fan_d_t, V_fan_P0)\n",
    "\n",
    "    # 暖房日\n",
    "    heating_flag_d = get_heating_flag_d(L_dash_H_R_d_t_i)\n",
    "\n",
    "    # 1時間当たりの空気搬送ファンの風量のうち床下空間または居室へ供給する風量の割合 (17)\n",
    "    r_sa_d_t = get_r_sa_d_t(t_fan_d_t, heating_flag_d)\n",
    "\n",
    "    # 床下空間または居室へ供給する1時間当たりの空気の風量の合計 (m3/h) (16)\n",
    "    V_sa_d_t_A = get_V_sa_d_t_A(V_fan_d_t, r_sa_d_t)\n",
    "\n",
    "    # 1時間当たりの床下空間または居室へ供給する空気の風量 (15)\n",
    "    V_sa_d_t_i = get_V_sa_d_t_i(i, A_HCZ_i, A_MR, A_OR, V_sa_d_t_A)\n",
    "\n",
    "    # ----- 5. 暖房負荷削減量 -----\n",
    "\n",
    "    # 当該住戸の暖冷房区画iの外気を導入する床下空間に接する床の面積\n",
    "    if supply_target == '床下':\n",
    "        A_s_ufvnt_i = algo.calc_A_s_ufvnt_i(i, r_A_ufvnt, A_A, A_MR, A_OR)\n",
    "    else:\n",
    "        A_s_ufvnt_i = None\n",
    "\n",
    "    # 暖冷房負荷計算時に想定した床の熱貫流率 (W/m2K)\n",
    "    U_s_vert = algo.get_U_s_vert(region, Q)\n",
    "\n",
    "    # 1時間当たりの集熱部における集熱量 (MJ/h) (19)\n",
    "    Q_col_d_t = get_Q_col_d_t(V_fan_d_t, Theta_col_opg_d_t, Theta_ex_d_t)\n",
    "\n",
    "    # 1時間当たりの循環ポンプの稼働時間 (h/h) (6)\n",
    "    t_cp_d_t = get_t_cp_d_t(hotwater_use, t_fan_d_t, heating_flag_d)\n",
    "\n",
    "    # 1時間当たりの集熱部における集熱量のうちの給湯利用分 (MJ/h) (11)\n",
    "    Q_col_W_d_t = get_Q_col_w_d_t(Q_col_d_t, t_cp_d_t)\n",
    "\n",
    "    # 床下空間または居室へ供給する空気の温度 (℃) (18)\n",
    "    Theta_sa_d_t = get_Theta_sa_d_t(V_fan_d_t, Theta_col_opg_d_t, Q_col_W_d_t)\n",
    "\n",
    "    # 床下温度及び地盤またはそれを覆う基礎の表面温度 (℃)\n",
    "    if supply_target == '床下':\n",
    "        Theta_uf_d_t, Theta_g_surf_d_t = algo.calc_Theta(\n",
    "            region=region,\n",
    "            A_A=A_A,\n",
    "            A_MR=A_MR,\n",
    "            A_OR=A_OR,\n",
    "            Q=Q,\n",
    "            H_OR_C='H',\n",
    "            # 床下の設定\n",
    "            r_A_ufvnt=r_A_ufvnt,\n",
    "            underfloor_insulation=ufv_insulation,\n",
    "            V_sa_d_t_A=V_sa_d_t_A,\n",
    "            # 温度・負荷\n",
    "            Theta_sa_d_t=Theta_sa_d_t,\n",
    "            Theta_ex_d_t=Theta_ex_d_t,\n",
    "            L_dash_H_R_d_t=L_dash_H_R_d_t_i,\n",
    "            L_dash_CS_R_d_t=L_dash_CS_R_d_t_i\n",
    "        )\n",
    "    else:\n",
    "        Theta_uf_d_t, Theta_g_surf_d_t = None, None\n",
    "\n",
    "    # 暖房設定温度 (℃)\n",
    "    Theta_prst_H = get_Theta_prst_H()\n",
    "\n",
    "    # 室内温度 (℃)\n",
    "    Theta_in_d_t = get_Theta_in_d_t(Theta_prst_H)\n",
    "\n",
    "    # 空気集熱式太陽熱利用設備による暖房負荷削減量 (1)\n",
    "    delta_L_dash_H_ass_d_t_i = get_delta_L_dash_H_ass_d_t_i(\n",
    "        # 床下の設定\n",
    "        supply_target=supply_target,\n",
    "        A_s_ufvnt_i=A_s_ufvnt_i,\n",
    "        U_s_vert=U_s_vert,\n",
    "        V_sa_d_t_i=V_sa_d_t_i,\n",
    "        r_sa_d_t=r_sa_d_t,\n",
    "        # 温度・負荷\n",
    "        Theta_in_d_t=Theta_in_d_t,\n",
    "        Theta_uf_d_t=Theta_uf_d_t,\n",
    "        Theta_ex_d_t=Theta_ex_d_t,\n",
    "        Theta_sa_d_t=Theta_sa_d_t,\n",
    "        L_dash_H_R_d_t_i=L_dash_H_R_d_t_i[i - 1],\n",
    "    )\n",
    "\n",
    "    return delta_L_dash_H_ass_d_t_i"
   ]
  },
  {
   "cell_type": "code",
   "execution_count": null,
   "metadata": {},
   "outputs": [],
   "source": [
    "def get_delta_L_dash_H_ass_d_t_i(A_s_ufvnt_i, L_dash_H_R_d_t_i, Theta_in_d_t, Theta_ex_d_t, Theta_sa_d_t, Theta_uf_d_t,\n",
    "                                 U_s_vert, V_sa_d_t_i, r_sa_d_t, supply_target):\n",
    "    \"\"\"空気集熱式太陽熱利用設備による暖房負荷削減量 (1)\n",
    "\n",
    "    :param A_s_ufvnt_i: 暖冷房区画iの空気を供給する床下空間に接する床の面積 (m2)\n",
    "    :type A_s_ufvnt_i: float\n",
    "    :param L_dash_H_R_d_t_i: 標準住戸の暖冷房区画iの負荷補正前の暖房負荷 (MJ/h)\n",
    "    :type L_dash_H_R_d_t_i: ndarray\n",
    "    :param Theta_in_d_t: 室内温度 (℃)\n",
    "    :type Theta_in_d_t: ndarray\n",
    "    :param Theta_ex_d_t: 外気温度 (℃)\n",
    "    :type Theta_ex_d_t: ndarray\n",
    "    :param Theta_sa_d_t: 床下空間または居室へ供給する空気の温度 (℃)\n",
    "    :type Theta_sa_d_t: ndarray\n",
    "    :param Theta_uf_d_t: 当該住戸の床下温度 (℃)\n",
    "    :type Theta_uf_d_t: ndarray\n",
    "    :param U_s_vert: 暖冷房負荷計算時に想定した床の熱貫流率 (W/m2K)\n",
    "    :type U_s_vert: float\n",
    "    :param V_sa_d_t_i: 1時間当たりの床下空間または居室へ供給する空気の風量 (m3/h)\n",
    "    :type V_sa_d_t_i: ndarray\n",
    "    :param r_sa_d_t: 1時間当たりの空気搬送ファンの風量のうち床下空間または居室へ供給する風量の割合 (-)\n",
    "    :type r_sa_d_t: ndarray\n",
    "    :param supply_target: 集熱後の空気を供給する先\n",
    "    :type supply_target: str\n",
    "    :return: 空気集熱式太陽熱利用設備による暖房負荷削減量 (MJ/h)\n",
    "    :rtype: ndarray\n",
    "    \"\"\"\n",
    "\n",
    "    # 床の温度差係数( -)\n",
    "    H_floor = get_H_floor()\n",
    "\n",
    "    # 空気の密度[kg/m3]\n",
    "    ro_air = get_ro_air()\n",
    "\n",
    "    # 空気の比熱[kJ/(kgK)]\n",
    "    c_p_air = get_c_p_air()\n",
    "\n",
    "    # 床下の熱貫流率[W/m2K]\n",
    "    U_s = get_U_s()\n",
    "\n",
    "    if supply_target == '床下':\n",
    "        # 集熱後の空気を床下空間へ供給する場合\n",
    "\n",
    "        # (1-2a)\n",
    "        delta_L_dash_H_ass_d_t_i = (ro_air * c_p_air * V_sa_d_t_i * (Theta_uf_d_t - Theta_in_d_t) * 10 ** (-3)\n",
    "                                    - U_s * A_s_ufvnt_i * (Theta_in_d_t - Theta_uf_d_t) * 3.6 * 10 ** (-3)\n",
    "                                    + U_s_vert * A_s_ufvnt_i * (Theta_in_d_t - Theta_ex_d_t) * H_floor * 3.6 * 10 ** (-3))\n",
    "\n",
    "        # (1-1a)\n",
    "        delta_L_dash_H_ass_d_t_i[np.logical_or(L_dash_H_R_d_t_i <= 0, r_sa_d_t == 0)] = 0.0\n",
    "\n",
    "    elif supply_target == '居室':\n",
    "        # 集熱後の空気を居室へ直接供給する場合\n",
    "\n",
    "        # (1-2b)\n",
    "        delta_L_dash_H_ass_d_t_i = ro_air * c_p_air * V_sa_d_t_i * (Theta_sa_d_t - Theta_in_d_t) * 10 ** (-3)\n",
    "\n",
    "        # (1-2a)\n",
    "        delta_L_dash_H_ass_d_t_i[np.logical_or(L_dash_H_R_d_t_i <= 0, r_sa_d_t == 0)] = 0.0\n",
    "\n",
    "    else:\n",
    "        raise ValueError(supply_target)\n",
    "\n",
    "    return delta_L_dash_H_ass_d_t_i"
   ]
  },
  {
   "cell_type": "code",
   "execution_count": null,
   "metadata": {},
   "outputs": [],
   "source": [
    "def get_delta_L_dash_H_uf_d_t_i():\n",
    "    \"\"\"集熱後の空気を供給する空間及び標準住戸の負荷補正前の暖房負荷が0以下かつ、当該時刻において集熱した熱を暖房に利用しない場合\n",
    "\n",
    "    :return:　空気集熱式太陽熱利用設備による暖房負荷削減量 (MJ/h)\n",
    "    :rtype: ndarray\n",
    "    \"\"\"\n",
    "    return np.zeros(24 * 365)\n",
    "\n",
    "\n",
    "def get_delta_L_dash_CS_uf_d_t_i():\n",
    "    \"\"\"\n",
    "\n",
    "    :return:\n",
    "    :rtype:\n",
    "    \"\"\"\n",
    "    return np.zeros(24 * 365)"
   ]
  },
  {
   "cell_type": "markdown",
   "metadata": {},
   "source": [
    "空気の密度$\\rho_{air}$は、1.20 kg/m<sup>3</sup> とする。空気の比熱$c_{p_{air}}$は、1.006 kJ/(kg・K)とする。日付$d$の時刻$t$における室内温度$\\theta_{in,d,t}$は、暖房設定温度$\\theta_{prst,H}$に等しいとして20℃とする。床の熱貫流率$U_s$は、2.223W/(m<sup>2</sup>・K)とする。床の温度差係数$H_{floor}$は、0.7 とする。"
   ]
  },
  {
   "cell_type": "markdown",
   "metadata": {},
   "source": [
    "The density of air $ \\rho_ {air} $ is 1.20 kg / m<sup>3</sup>. The specific heat $ c_ {p_ {air}} $ of air is 1.006 kJ / (kg · K). The room temperature $ \\theta_ {in, d, t} $ at the time $ t $ of the date $ d $ is 20 ° C., which is equal to the heating set temperature $ \\theta_ {prst, H} $. The heat transmission coefficient $ U_s $ of the bed is 2.223 W / (m <sup> 2 </sup> · K). The floor temperature difference coefficient $ H_ {floor} $ is 0.7."
   ]
  },
  {
   "cell_type": "code",
   "execution_count": null,
   "metadata": {},
   "outputs": [],
   "source": [
    "def get_H_floor():\n",
    "    \"\"\"床の温度差係数 (-)\n",
    "\n",
    "    :return: 床の温度差係数 (-)\n",
    "    :rtype: float\n",
    "    \"\"\"\n",
    "    return 0.7\n",
    "\n",
    "\n",
    "def get_Theta_prst_H():\n",
    "    \"\"\"暖房設定温度 (℃)\n",
    "\n",
    "    :return: 暖房設定温度 (℃)\n",
    "    :rtype: float\n",
    "    \"\"\"\n",
    "    return 20.0\n",
    "\n",
    "\n",
    "def get_Theta_in_d_t(Theta_prst_H):\n",
    "    \"\"\"室内温度 (℃)\n",
    "\n",
    "    :param Theta_prst_H: 暖房設定温度 (℃)\n",
    "    :type float\n",
    "    :return: 1時間当たりの室内温度 (℃)\n",
    "    :rtype: ndarray\n",
    "    \"\"\"\n",
    "    return np.repeat(Theta_prst_H, 24 * 365)\n",
    "\n",
    "\n",
    "def get_ro_air():\n",
    "    \"\"\"空気の密度 (kg/m3)\n",
    "\n",
    "    :return: 空気の密度 (kg/m3)\n",
    "    :rtype: float\n",
    "    \"\"\"\n",
    "    return 1.20\n",
    "\n",
    "\n",
    "def get_c_p_air():\n",
    "    \"\"\"空気の比熱 (kJ/(kgK))\n",
    "\n",
    "    :return: 空気の比熱 (kJ/(kgK))\n",
    "    :rtype: float\n",
    "    \"\"\"\n",
    "    return 1.006\n",
    "\n",
    "\n",
    "def get_U_s():\n",
    "    \"\"\" 床下の熱貫流率 (W/m2K)\n",
    "\n",
    "    :return: 床下の熱貫流率 (W/m2K)\n",
    "    :rtype: float\n",
    "    \"\"\"\n",
    "    return 2.223\n"
   ]
  },
  {
   "cell_type": "markdown",
   "metadata": {},
   "source": [
    "### 6．補正集熱量 / Corrected heat collection"
   ]
  },
  {
   "cell_type": "markdown",
   "metadata": {},
   "source": [
    "$L'_{k,d} + L'_{s,d} + L'_{w,d} + L'_{b1,d} + L'_{b2,d} + L'_{ba1,d} = 0$ の場合："
   ]
  },
  {
   "cell_type": "markdown",
   "metadata": {},
   "source": [
    "In the case of $L'_{k,d} + L'_{s,d} + L'_{w,d} + L'_{b1,d} + L'_{b2,d} + L'_{ba1,d} = 0$"
   ]
  },
  {
   "cell_type": "markdown",
   "metadata": {},
   "source": [
    "$$\\large\n",
    "L_{sun,ass,d,t} = 0\n",
    "$$"
   ]
  },
  {
   "cell_type": "markdown",
   "metadata": {},
   "source": [
    "$L'_{k,d} + L'_{s,d} + L'_{w,d} + L'_{b1,d} + L'_{b2,d} + L'_{ba1,d} > 0$ の場合："
   ]
  },
  {
   "cell_type": "markdown",
   "metadata": {},
   "source": [
    "In the case of $L'_{k,d} + L'_{s,d} + L'_{w,d} + L'_{b1,d} + L'_{b2,d} + L'_{ba1,d} > 0$"
   ]
  },
  {
   "cell_type": "markdown",
   "metadata": {},
   "source": [
    "$$\\large\n",
    "L_{sun,ass,d,t} = L_{sun,ass,d} \\times \\frac{L'_{k,d,t} + L'_{s,d,t} + L'_{w,d,t} + L'_{b1,d,t} + L'_{b2,d,t} + L'_{ba1,d,t}}{L'_{k,d} + L'_{s,d} + L'_{w,d} + L'_{b1,d} + L'_{b2,d} + L'_{ba1,d}}\n",
    "$$"
   ]
  },
  {
   "cell_type": "markdown",
   "metadata": {},
   "source": [
    "$L_{sun,ass,d}$ : 日付$d$における1日当たりの空気集熱式太陽熱利用設備による補正集熱量(MJ/d) /  Corrected heat collection by air collecting solar utilization equipment per hour at time $ t $ of date $ d $  \n",
    "$L_{sun,ass,d,t}$ : 日付$d$の時刻$t$における1時間当たりの空気集熱式太陽熱利用設備による補正集熱量(MJ/h) /  Hot water correction hot water supply heat load on kitchen faucet per day on date $ d $  \n",
    "$L'_{k,d}$ : 日付$d$における1日当たりの台所水栓における節湯補正給湯熱負荷(MJ/d) /  Hot water correction hot water supply heat load in one day bathroom shower faucet on date $ d $  \n",
    "$L'_{s,d}$ : 日付$d$における1日当たりの浴室シャワー水栓における節湯補正給湯熱負荷(MJ/d) /  Hot water correction hot water supply heat load in the daily wash water faucet at date $ d $  \n",
    "$L'_{w,d}$ : 日付$d$における1日当たりの洗面水栓における節湯補正給湯熱負荷(MJ/d) /  Hot water correction hot water supply heat load at one day bathtub faucet hot water at date $ d $  \n",
    "$L'_{b1,d}$ : 日付$d$における1日当たりの浴槽水栓湯はり時における節湯補正給湯熱負荷(MJ/d) /  Hot water correction hot water supply heat load at one day bathtub automatic hot water heating at date $ d $  \n",
    "$L'_{b2,d}$ : 日付$d$における1日当たりの浴槽自動湯はり時における節湯補正給湯熱負荷(MJ/d) /  Hot water correction hot water supply heat load at the time of bathtub automatic hot water pouring per day at date $ d $  \n",
    "$L'_{ba1,d}$ : 日付$d$における1日当たりの浴槽水栓さし湯時における節湯補正給湯熱負荷(MJ/d) /  Hot water correction hot water supply heat load at kitchen faucet per hour at time $ t $ on date $ d $  \n",
    "$L'_{k,d,t}$ : 日付$d$の時刻$t$における1時間当たりの台所水栓における節湯補正給湯熱負荷(MJ/h) /  Hot water correction hot water supply heat load in bathroom shower faucet per hour at time $ t $ of date $ d $  \n",
    "$L'_{s,d,t}$ : 日付$d$の時刻$t$における1時間当たりの浴室シャワー水栓における節湯補正給湯熱負荷(MJ/h) /  Hot water correction hot water supply heat load in the faucet per hour at time $ t $ of date $ d $  \n",
    "$L'_{w,d,t}$ : 日付$d$の時刻$t$における1時間当たりの洗面水栓における節湯補正給湯熱負荷(MJ/h) /  Hot water correction hot water supply heat load at the time of bathtub 1 per hour at time $ t $ of date $ d $  \n",
    "$L'_{b1,d,t}$ : 日付$d$の時刻$t$における1時間当たりの浴槽水栓湯はり時における節湯補正給湯熱負荷(MJ/h) /  Hot water correction hot water supply heat load at the time of bathtub faucet bathing per hour per hour at time $ t $ of date $ d $  \n",
    "$L'_{b2,d,t}$ : 日付$d$の時刻$t$における1時間当たりの浴槽自動湯はり時における節湯補正給湯熱負荷(MJ/h) /  Hot water correction hot water supply heat load at the time of bathtub automatic water heating per hour at time $ t $ of date $ d $  \n",
    "$L'_{ba1,d,t}$ : 日付$d$の時刻$t$における1時間当たりの浴槽水栓さし湯時における節湯補正給湯熱負荷(MJ/h) /  Hot water correction hot water supply heat load at the time of bathtub faucet hot water per hour at time $ t $ of date $ d $  \n"
   ]
  },
  {
   "cell_type": "code",
   "execution_count": null,
   "metadata": {},
   "outputs": [],
   "source": [
    "def calc_L_sun_ass_d_t(L_tnk_d, L_dash_k_d_t, L_dash_s_d_t, L_dash_w_d_t, L_dash_b1_d_t, L_dash_b2_d_t, L_dash_ba1_d_t):\n",
    "    \"\"\"1時間当たりの空気集熱式太陽熱利用設備における補正集熱量 (MJ/d) (2)\n",
    "\n",
    "    :param L_tnk_d: 1日当たりの給湯部におけるタンク蓄熱量の上限による補正集熱量 (MJ/d)\n",
    "    :type L_tnk_d: ndarray\n",
    "    :param L_dash_k_d_t: 1時間当たりの台所水栓における節湯補正給湯熱負荷 (MJ/h)\n",
    "    :type L_dash_k_d_t: ndarray\n",
    "    :param L_dash_s_d_t: 1時間当たりの浴室シャワー水栓における節湯補正給湯熱負荷 (MJ/h)\n",
    "    :type L_dash_s_d_t: ndarray\n",
    "    :param L_dash_w_d_t: 1時間当たりの洗面水栓における節湯補正給湯熱負荷 (MJ/h)\n",
    "    :type L_dash_w_d_t: ndarray\n",
    "    :param L_dash_b1_d_t: 1時間当たりの浴槽水栓湯はり時における節湯補正給湯熱負荷 (MJ/h)\n",
    "    :type L_dash_b1_d_t: ndarray\n",
    "    :param L_dash_b2_d_t: 1時間当たりの浴槽自動湯はり時における節湯補正給湯熱負荷 (MJ/h)\n",
    "    :type L_dash_b2_d_t: ndarray\n",
    "    :param L_dash_ba1_d_t: 1時間当たりの浴槽水栓さし湯時における節湯補正給湯熱負荷 (MJ/h)\n",
    "    :type L_dash_ba1_d_t: ndarray\n",
    "    :return: 1時間当たりの空気集熱式太陽熱利用設備における補正集熱量 (MJ/h)\n",
    "    :rtype: ndarray\n",
    "    \"\"\"\n",
    "    # 1日あたりの節湯補正給湯熱負荷 (MJ/d)\n",
    "    L_dash_k_d = np.sum(L_dash_k_d_t.reshape(365, 24), axis=1)\n",
    "    L_dash_s_d = np.sum(L_dash_s_d_t.reshape(365, 24), axis=1)\n",
    "    L_dash_w_d = np.sum(L_dash_w_d_t.reshape(365, 24), axis=1)\n",
    "    L_dash_b1_d = np.sum(L_dash_b1_d_t.reshape(365, 24), axis=1)\n",
    "    L_dash_b2_d = np.sum(L_dash_b2_d_t.reshape(365, 24), axis=1)\n",
    "    L_dash_ba1_d = np.sum(L_dash_ba1_d_t.reshape(365, 24), axis=1)\n",
    "\n",
    "    # 1日当たりの空気集熱式太陽熱利用設備における補正集熱量 (MJ/d) (3)\n",
    "    L_sun_ass_d = calc_L_sun_ass_d(L_tnk_d, L_dash_k_d, L_dash_s_d, L_dash_w_d, L_dash_b1_d, L_dash_b2_d, L_dash_ba1_d)\n",
    "    L_sun_ass_d = np.repeat(L_sun_ass_d, 24)\n",
    "\n",
    "    # 1日当たりの空気集熱式太陽熱利用設備における補正集熱量 (MJ/d)\n",
    "    L_sun_ass_d_t = np.zeros(24 * 365)\n",
    "\n",
    "    # 24時間化\n",
    "    L_dash_k_d = np.repeat(L_dash_k_d, 24)\n",
    "    L_dash_s_d = np.repeat(L_dash_s_d, 24)\n",
    "    L_dash_w_d = np.repeat(L_dash_w_d, 24)\n",
    "    L_dash_b1_d = np.repeat(L_dash_b1_d, 24)\n",
    "    L_dash_b2_d = np.repeat(L_dash_b2_d, 24)\n",
    "    L_dash_ba1_d = np.repeat(L_dash_ba1_d, 24)\n",
    "\n",
    "    # 1) 1日あたりの節湯補正給湯熱負荷 = 0 の場合\n",
    "    f1 = (L_dash_k_d + L_dash_s_d + L_dash_w_d + L_dash_b1_d + L_dash_b2_d + L_dash_ba1_d) == 0\n",
    "    L_sun_ass_d_t[f1] = 0\n",
    "\n",
    "    # 2) 1日あたりの節湯補正給湯熱負荷 > 0 の場合\n",
    "    f2 = (L_dash_k_d + L_dash_s_d + L_dash_w_d + L_dash_b1_d + L_dash_b2_d + L_dash_ba1_d) > 0\n",
    "    L_dash_d = L_dash_k_d + L_dash_s_d + L_dash_w_d + L_dash_b1_d + L_dash_b2_d + L_dash_ba1_d\n",
    "    L_dash_d_t = L_dash_k_d_t + L_dash_s_d_t + L_dash_w_d_t + L_dash_b1_d_t + L_dash_b2_d_t + L_dash_ba1_d_t\n",
    "    L_sun_ass_d_t[f2] = L_sun_ass_d[f2] * L_dash_d_t[f2] / L_dash_d[f2]\n",
    "\n",
    "    return L_sun_ass_d_t"
   ]
  },
  {
   "cell_type": "markdown",
   "metadata": {},
   "source": [
    "$$\\large\n",
    "\\begin{equation*}\n",
    "    L_{sun,ass,d} = min \\left( L_{tunk,d} , \\: \\left( L'_{k,d} + L'_{s,d} + L'_{w,d} + L'_{b1,d} + L'_{b2,d} + L'_{ba1,d} \\right) \\times f_{sr,uplim} \\right)\n",
    "\\end{equation*}\n",
    "$$"
   ]
  },
  {
   "cell_type": "markdown",
   "metadata": {},
   "source": [
    "$f_{sr,uplim}$ : 給湯部の分担率上限値(-)  /  Corrected heat collection by air-collecting solar utilization equipment per day on date $ d $  \n",
    "$L_{sun,ass,d}$ : 日付$d$における1日当たりの空気集熱式太陽熱利用設備による補正集熱量(MJ/d) /  Corrected heat collection by the upper limit of the tank heat storage amount in the hot water supply section in one day at date $ d $  \n",
    "$L_{tnk,d}$ : 日付$d$における1日当たりの給湯部におけるタンク蓄熱量の上限による補正集熱量(MJ/d) /  Hot water correction hot water supply heat load on kitchen faucet per day on date $ d $  \n",
    "$L'_{k,d}$ : 日付$d$における1日当たりの台所水栓における節湯補正給湯熱負荷(MJ/d) /  Hot water correction hot water supply heat load in one day bathroom shower faucet on date $ d $  \n",
    "$L'_{s,d}$ : 日付$d$における1日当たりの浴室シャワー水栓における節湯補正給湯熱負荷(MJ/d) /  Hot water correction hot water supply heat load in the daily wash water faucet at date $ d $  \n",
    "$L'_{w,d}$ : 日付$d$における1日当たりの洗面水栓における節湯補正給湯熱負荷(MJ/d) /  Hot water correction hot water supply heat load at one day bathtub faucet hot water at date $ d $  \n",
    "$L'_{b1,d}$ : 日付$d$における1日当たりの浴槽水栓湯はり時における節湯補正給湯熱負荷(MJ/d) /  Hot water correction hot water supply heat load at one day bathtub automatic hot water heating at date $ d $  \n",
    "$L'_{b2,d}$ : 日付$d$における1日当たりの浴槽自動湯はり時における節湯補正給湯熱負荷(MJ/d) /  Hot water correction hot water supply heat load at the time of the day $ d $ in the bathtub faucet first time  \n",
    "$L'_{ba1,d}$ : 日付$d$における1日当たりの浴槽水栓さし湯時における節湯補正給湯熱負荷(MJ/d)\n"
   ]
  },
  {
   "cell_type": "code",
   "execution_count": null,
   "metadata": {},
   "outputs": [],
   "source": [
    "def calc_L_sun_ass_d(L_tnk_d, L_dash_k_d, L_dash_s_d, L_dash_w_d, L_dash_b1_d, L_dash_b2_d, L_dash_ba1_d):\n",
    "    \"\"\"1日当たりの空気集熱式太陽熱利用設備における補正集熱量 (MJ/d) (3)\n",
    "\n",
    "    :param L_tnk_d: 1日当たりの給湯部におけるタンク蓄熱量の上限による補正集熱量 (MJ/d)\n",
    "    :type L_tnk_d: ndarray\n",
    "    :param L_dash_k_d: 1日当たりの台所水栓における節湯補正給湯熱負荷 (MJ/d)\n",
    "    :type L_dash_k_d: ndarray\n",
    "    :param L_dash_s_d: 1日当たりの浴室シャワー水栓における節湯補正給湯熱負荷 (MJ/d)\n",
    "    :type L_dash_s_d: ndarray\n",
    "    :param L_dash_w_d: 1日当たりの洗面水栓における節湯補正給湯熱負荷 (MJ/d)\n",
    "    :type L_dash_w_d: ndarray\n",
    "    :param L_dash_b1_d: 1日当たりの浴槽水栓湯はり時における節湯補正給湯熱負荷 (MJ/d)\n",
    "    :type L_dash_b1_d: ndarray\n",
    "    :param L_dash_b2_d: 1日当たりの浴槽自動湯はり時における節湯補正給湯熱負荷 (MJ/d)\n",
    "    :type L_dash_b2_d: ndarray\n",
    "    :param L_dash_ba1_d: 1日当たりの浴槽水栓さし湯時における節湯補正給湯熱負荷 (MJ/d)\n",
    "    :type L_dash_ba1_d: ndarray\n",
    "    :return: 1日当たりの空気集熱式太陽熱利用設備における補正集熱量 (MJ/d)\n",
    "    :rtype: ndarray\n",
    "    \"\"\"\n",
    "    # 給湯部の分担率上限値\n",
    "    f_sr_uplim = get_f_sr_uplim()\n",
    "\n",
    "    # 1日当たりの空気集熱式太陽熱利用設備における補正集熱量 (MJ/d)\n",
    "    L_sun_ass_d = np.clip(\n",
    "        L_tnk_d,\n",
    "        None,\n",
    "        (L_dash_k_d + L_dash_s_d + L_dash_w_d + L_dash_b1_d + L_dash_b2_d + L_dash_ba1_d) * f_sr_uplim\n",
    "    )\n",
    "\n",
    "    return L_sun_ass_d"
   ]
  },
  {
   "cell_type": "markdown",
   "metadata": {},
   "source": [
    "給湯部の分担率上限値$f_{sr,uplim}$は、0.9とする。 "
   ]
  },
  {
   "cell_type": "markdown",
   "metadata": {},
   "source": [
    "The upper limit value $ f_ {sr, uplim} $ of the hot water supply division is set to 0.9."
   ]
  },
  {
   "cell_type": "code",
   "execution_count": null,
   "metadata": {},
   "outputs": [],
   "source": [
    "def get_f_sr_uplim():\n",
    "    \"\"\"給湯部の分担率上限値 (-)\n",
    "\n",
    "    :return: 給湯部の分担率上限値 (-)\n",
    "    :rtype: float\n",
    "    \"\"\"\n",
    "    return 0.9\n"
   ]
  },
  {
   "cell_type": "markdown",
   "metadata": {},
   "source": [
    "### 7．補機の消費電力量 / Power consumption of accessories"
   ]
  },
  {
   "cell_type": "markdown",
   "metadata": {},
   "source": [
    "当該時刻において集熱した熱を暖房と給湯とのどちらにも利用しない場合( $r_{sa,d,t} = 0$ かつ $t_{cp,d,t} = 0$ )： "
   ]
  },
  {
   "cell_type": "markdown",
   "metadata": {},
   "source": [
    "When the heat collected at the relevant time is not used for heating or hot water supply ($ r_ {sa, d, t} = 0 $ and $ t_ {cp, d, t} = 0 $):"
   ]
  },
  {
   "cell_type": "markdown",
   "metadata": {},
   "source": [
    "$$\\large\n",
    "E_{E,H,aux,ass,d,t} = 0\n",
    "$$\n",
    "\n",
    "$$\\large\n",
    "E_{E,W,aux,ass,d,t} = 0\n",
    "$$"
   ]
  },
  {
   "cell_type": "markdown",
   "metadata": {},
   "source": [
    "当該時刻において集熱した熱を暖房のみに利用する場合( $0 < r_{sa,d,t}$ かつ $t_{cp,d,t} = 0$ )： "
   ]
  },
  {
   "cell_type": "markdown",
   "metadata": {},
   "source": [
    "When using the heat collected at the relevant time for heating only ($ 0 <r_ {sa, d, t} $ and $ t_ {cp, d, t} = 0 $):"
   ]
  },
  {
   "cell_type": "markdown",
   "metadata": {},
   "source": [
    "$$\\large\n",
    "E_{E,H,aux,ass,d,t} = E_{E,fan,d,t}\n",
    "$$\n",
    "\n",
    "$$\\large\n",
    "E_{E,W,aux,ass,d,t} = 0\n",
    "$$"
   ]
  },
  {
   "cell_type": "markdown",
   "metadata": {},
   "source": [
    "当該時刻において集熱した熱を給湯のみに利用する場合( $r_{sa,d,t} = 0$ かつ $ 0 < t_{cp,d,t}$ )： "
   ]
  },
  {
   "cell_type": "markdown",
   "metadata": {},
   "source": [
    "When the heat collected at that time is used only for hot water supply ($ r_ {sa, d, t} = 0 $ and $ 0 <t_ {cp, d, t} $):"
   ]
  },
  {
   "cell_type": "markdown",
   "metadata": {},
   "source": [
    "$$\\large\n",
    "E_{E,H,aux,ass,d,t} = 0\n",
    "$$\n",
    "\n",
    "$$\\large\n",
    "E_{E,W,aux,ass,d,t} = E_{E,fan,d,t} + E_{E,cp,d,t}\n",
    "$$"
   ]
  },
  {
   "cell_type": "markdown",
   "metadata": {},
   "source": [
    "$E_{E,H,aux,ass,d,t}$ : 日付$d$の時刻$t$における1時間当たりの補機の消費電力量のうち暖房設備への付加分(kWh/h) / Amount of power consumption of auxiliary equipment per hour at time $ t $ of date $ d $, added to heating equipment   \n",
    "$E_{E,W,aux,ass,d,t}$ : 日付$d$の時刻$t$における1時間当たりの補機の消費電力量のうち給湯設備への付加分(kWh/h) / Of the power consumption of auxiliary equipment per hour at time $ t $ of date $ d $ Additive to water heater   \n",
    "$E_{E,cp,d,t}$ : 日付$d$の時刻$t$における1時間当たりの循環ポンプの消費電力量(kWh/h) / Power consumption of circulating pump per hour at time $ t $ of date $ d $   \n",
    "$E_{E,fan,d,t}$ : 日付$d$の時刻$t$における1時間当たりの空気搬送ファンの消費電力量(kWh/h) / Air-conveying fan power consumption per hour at time $ t $ on date $ d $      \n",
    "$t_{cp,d,t}$ : 日付$d$の時刻$t$における1時間当たりの循環ポンプの稼働時間(h/h) / Circulating pump operating time per hour at time $ t $ on date $ d $    \n",
    "$r_{sa,d,t}$ : 日付$d$の時刻$t$における1時間当たりの空気搬送ファンの風量のうち床下空間または居室へ供給する空気の風量の割合(-) / Ratio of the air volume of the air supplied to the space under the floor or the room to the air volume of the air conveying fan per hour at the time $ t $ of the date $ d $   "
   ]
  },
  {
   "cell_type": "code",
   "execution_count": null,
   "metadata": {},
   "outputs": [],
   "source": [
    "def calc_E_E_W_aux_ass_d_t(hotwater_use, heating_flag_d, region, sol_region, P_alpha, P_beta,\n",
    "                           A_col, V_fan_P0, m_fan_test, d0, d1, fan_sso, fan_type, pump_sso):\n",
    "    \"\"\"1時間当たりの補機の消費電力量のうちの給湯設備への付加分 (kWh/h)\n",
    "\n",
    "    :param hotwater_use: 空気集熱式太陽熱利用設備が給湯部を有する場合はTrue\n",
    "    :type hotwater_use: bool\n",
    "    :param heating_flag_d: 暖房日\n",
    "    :type heating_flag_d: ndarray\n",
    "    :param region: 省エネルギー地域区分\n",
    "    :type region: int\n",
    "    :param sol_region: 年間日射地域区分(1-5)\n",
    "    :type sol_region: int\n",
    "    :param P_alpha: 方位角 (°)\n",
    "    :type P_alpha: float\n",
    "    :param P_beta: 傾斜角 (°)\n",
    "    :type P_beta: tuple\n",
    "    :param A_col: 集熱器群の面積 (m2)\n",
    "    :type A_col: tuple\n",
    "    :param V_fan_P0: 空気搬送ファンの送風機特性曲線において機外静圧をゼロとしたときの空気搬送ファンの風量 (m3/h)\n",
    "    :type V_fan_P0: float\n",
    "    :param d0: 集熱器群を構成する集熱器の集熱効率特性線図一次近似式の切片 (-)\n",
    "    :type d0: tuple\n",
    "    :param d1: 集熱器群を構成する集熱器の集熱効率特性線図一次近似式の傾き (W/(m2K))\n",
    "    :type d1: tuple\n",
    "    :param m_fan_test: 集熱器群を構成する集熱器の集熱性能試験時における単位面積当たりの空気の質量流量 (kg/(s・m2))\n",
    "    :type m_fan_test: tuple\n",
    "    :param fan_sso: 空気搬送ファンの自立運転用太陽光発電装置を採用する場合はTrue\n",
    "    :type fan_sso: bool\n",
    "    :param fan_type: ファンの種別\n",
    "    :type fan_type: str\n",
    "    :param pump_sso: 循環ポンプの自立運転用太陽光発電装置を採用する場合はTrue\n",
    "    :type pump_sso: bool\n",
    "    :return: 1時間当たりの補機の消費電力量のうちの給湯設備への付加分 (kWh/h)\n",
    "    :rtype: ndarray\n",
    "    \"\"\"\n",
    "\n",
    "    from s11_01_external_condition import load_outdoor, get_Theta_ex\n",
    "    outdoor = load_outdoor()\n",
    "    Theta_ex_d_t = get_Theta_ex(region, outdoor)\n",
    "\n",
    "    # ----- 10 集熱部 -----\n",
    "\n",
    "    # 空気搬送ファン停止時および稼働時の集熱部の出口における空気温度 (℃)\n",
    "    Theta_col_nonopg_d_t, Theta_col_opg_d_t = calc_Theta_col(A_col=A_col, P_alpha=P_alpha, P_beta=P_beta,\n",
    "                                                             V_fan_P0=V_fan_P0, d0=d0, d1=d1, m_fan_test=m_fan_test,\n",
    "                                                             region=region, sol_region=sol_region,\n",
    "                                                             Theta_ex_d_t=Theta_ex_d_t)\n",
    "\n",
    "    # ----- 9. 空気搬送部 -----\n",
    "\n",
    "    # 1時間当たりの空気搬送ファンの稼働時間 (h/h) (12)\n",
    "    t_fan_d_t = get_t_fan_d_t(Theta_col_nonopg_d_t, Theta_col_opg_d_t)\n",
    "\n",
    "    # 1時間当たりの空気搬送ファンの風量 (m3/h) (13)\n",
    "    V_fan_d_t = get_V_fan_d_t(t_fan_d_t, V_fan_P0)\n",
    "\n",
    "    # 1時間当たりの空気搬送ファンの消費電力量 (kWh/h) (14)\n",
    "    E_E_fan_d_t = calc_E_E_fan_d_t(fan_sso, fan_type, V_fan_d_t, t_fan_d_t)\n",
    "\n",
    "    # 1時間当たりの空気搬送ファンの風量のうち床下空間または居室へ供給する風量の割合 (17)\n",
    "    r_sa_d_t = get_r_sa_d_t(t_fan_d_t, heating_flag_d)\n",
    "\n",
    "    # ----- 8. 給湯部 -----\n",
    "\n",
    "    # 1時間当たりの循環ポンプの稼働時間 (h/h) (6)\n",
    "    t_cp_d_t = get_t_cp_d_t(hotwater_use, t_fan_d_t, heating_flag_d)\n",
    "\n",
    "    # 1時間当たりの循環ポンプの消費電力量 (kWh/h) (7)\n",
    "    E_E_cp_d_t = get_E_E_cp_d_t(pump_sso, t_cp_d_t)\n",
    "\n",
    "    # ----- 7. 補機の消費電力量 -----\n",
    "\n",
    "    # 1時間当たりの補機の消費電力量のうち暖房設備への付加分 (kWh/h) (4)\n",
    "    E_E_W_aux_ass_d_t = get_E_E_W_aux_ass_d_t(r_sa_d_t, t_cp_d_t, E_E_fan_d_t, E_E_cp_d_t)\n",
    "\n",
    "    return E_E_W_aux_ass_d_t\n"
   ]
  },
  {
   "cell_type": "code",
   "execution_count": null,
   "metadata": {},
   "outputs": [],
   "source": [
    "def calc_E_E_H_aux_ass_d_t(hotwater_use, heating_flag_d, region, sol_region, P_alpha, P_beta,\n",
    "                           A_col, V_fan_P0, m_fan_test, d0, d1, fan_sso, fan_type):\n",
    "    \"\"\"1時間当たりの補機の消費電力量のうち暖房設備への付加分 (kWh/h) (4)\n",
    "\n",
    "    :param hotwater_use: 空気集熱式太陽熱利用設備が給湯部を有する場合はTrue\n",
    "    :type hotwater_use: bool\n",
    "    :param heating_flag_d: 暖房日\n",
    "    :type heating_flag_d: ndarray\n",
    "    :param region: 省エネルギー地域区分\n",
    "    :type region: int\n",
    "    :param sol_region: 年間日射地域区分(1-5)\n",
    "    :type sol_region: int\n",
    "    :param P_alpha: 方位角 (°)\n",
    "    :type P_alpha: float\n",
    "    :param P_beta: 傾斜角 (°)\n",
    "    :type P_beta: float\n",
    "    :param A_col: 集熱器群の面積 (m2)\n",
    "    :type A_col: tuple\n",
    "    :param V_fan_P0: 空気搬送ファンの送風機特性曲線において機外静圧をゼロとしたときの空気搬送ファンの風量 (m3/h)\n",
    "    :type V_fan_P0: float\n",
    "    :param d0: 集熱器群を構成する集熱器の集熱効率特性線図一次近似式の切片 (-)\n",
    "    :type d0: tuple\n",
    "    :param d1: 集熱器群を構成する集熱器の集熱効率特性線図一次近似式の傾き (W/(m2K))\n",
    "    :type d1: tuple\n",
    "    :param m_fan_test: 集熱器群を構成する集熱器の集熱性能試験時における単位面積当たりの空気の質量流量 (kg/(s・m2))\n",
    "    :type m_fan_test: tuple\n",
    "    :return: 1時間当たりの補機の消費電力量のうち暖房設備への付加分 (kWh/h)\n",
    "    :rtype: ndarray\n",
    "    \"\"\"\n",
    "    from s11_01_external_condition import load_outdoor, get_Theta_ex\n",
    "    outdoor = load_outdoor()\n",
    "    Theta_ex_d_t = get_Theta_ex(region, outdoor)\n",
    "\n",
    "    # ----- 10 集熱部 -----\n",
    "\n",
    "    # 空気搬送ファン停止時および稼働時の集熱部の出口における空気温度 (℃)\n",
    "    Theta_col_nonopg_d_t, Theta_col_opg_d_t = calc_Theta_col(A_col=A_col, P_alpha=P_alpha, P_beta=P_beta,\n",
    "                                                             V_fan_P0=V_fan_P0, d0=d0, d1=d1, m_fan_test=m_fan_test,\n",
    "                                                             region=region, sol_region=sol_region,\n",
    "                                                             Theta_ex_d_t=Theta_ex_d_t)\n",
    "\n",
    "    # ----- 9. 空気搬送部 -----\n",
    "\n",
    "    # 1時間当たりの空気搬送ファンの稼働時間 (h/h) (12)\n",
    "    t_fan_d_t = get_t_fan_d_t(Theta_col_nonopg_d_t, Theta_col_opg_d_t)\n",
    "\n",
    "    # 1時間当たりの空気搬送ファンの風量 (m3/h) (13)\n",
    "    V_fan_d_t = get_V_fan_d_t(t_fan_d_t, V_fan_P0)\n",
    "\n",
    "    # 1時間当たりの空気搬送ファンの消費電力量 (kWh/h) (14)\n",
    "    E_E_fan_d_t = calc_E_E_fan_d_t(fan_sso, fan_type, V_fan_d_t, t_fan_d_t)\n",
    "\n",
    "    # 1時間当たりの空気搬送ファンの風量のうち床下空間または居室へ供給する風量の割合 (17)\n",
    "    r_sa_d_t = get_r_sa_d_t(t_fan_d_t, heating_flag_d)\n",
    "\n",
    "    # ----- 8. 給湯部 -----\n",
    "\n",
    "    # 1時間当たりの循環ポンプの稼働時間 (h/h) (6)\n",
    "    t_cp_d_t = get_t_cp_d_t(hotwater_use, t_fan_d_t, heating_flag_d)\n",
    "\n",
    "    # ----- 7. 補機の消費電力量 -----\n",
    "\n",
    "    # 1時間当たりの補機の消費電力量のうち暖房設備への付加分 (kWh/h) (4)\n",
    "    E_E_H_aux_ass_d_t = get_E_E_H_aux_ass_d_t(r_sa_d_t, t_cp_d_t, E_E_fan_d_t)\n",
    "\n",
    "    return E_E_H_aux_ass_d_t\n",
    "\n",
    "\n",
    "def get_E_E_H_aux_ass_d_t(r_sa_d_t, t_cp_d_t, E_E_fan_d_t):\n",
    "    \"\"\"1時間当たりの補機の消費電力量のうち暖房設備への付加分 (kWh/h) (4)\n",
    "\n",
    "    :param r_sa_d_t: 1時間当たりの空気搬送ファンの風量のうち床下空間または居室へ供給する風量の割合 (-)\n",
    "    :type r_sa_d_t: ndarray\n",
    "    :param t_cp_d_t: 1時間当たりの循環ポンプの稼働時間 (h/h)\n",
    "    :type t_cp_d_t: ndarray\n",
    "    :param E_E_fan_d_t: 1時間当たりの空気搬送ファンの消費電力量 (kWh/h)\n",
    "    :type E_E_fan_d_t: ndarray\n",
    "    :return: 1時間当たりの補機の消費電力量のうち暖房設備への付加分 (kWh/h)\n",
    "    :rtype: ndarray\n",
    "    \"\"\"\n",
    "\n",
    "    E_E_H_aux_ass_d_t = np.zeros(24 * 365)\n",
    "\n",
    "    # (4)\n",
    "    f = np.logical_and(0 < r_sa_d_t, t_cp_d_t == 0)\n",
    "    E_E_H_aux_ass_d_t[f] = E_E_fan_d_t[f]\n",
    "\n",
    "    return E_E_H_aux_ass_d_t\n",
    "\n",
    "\n",
    "def get_E_E_W_aux_ass_d_t(r_sa_d_t, t_cp_d_t, E_E_fan_d_t, E_E_cp_d_t):\n",
    "    \"\"\"1時間当たりの補機の消費電力量のうち給湯設備への付加分 (kWh/h)\n",
    "\n",
    "    :param r_sa_d_t: 1時間当たりの空気搬送ファンの風量のうち床下空間または居室へ供給する風量の割合 (-)\n",
    "    :type r_sa_d_t: ndarray\n",
    "    :param t_cp_d_t: 1時間当たりの循環ポンプの稼働時間 (h/h)\n",
    "    :type t_cp_d_t: ndarray\n",
    "    :param E_E_fan_d_t: 1時間当たりの空気搬送ファンの消費電力量 (kWh/h)\n",
    "    :type E_E_fan_d_t: ndarray\n",
    "    :param E_E_cp_d_t: 1時間当たりの循環ポンプの消費電力量 (kWh/h)\n",
    "    :type E_E_cp_d_t: ndarray\n",
    "    :return: 1時間当たりの補機の消費電力量のうち給湯設備への付加分 (kWh/h)\n",
    "    :rtype: ndarray\n",
    "    \"\"\"\n",
    "    E_E_W_aux_ass_d_t = np.zeros(24 * 365)\n",
    "\n",
    "    # (5)\n",
    "    f = np.logical_and(r_sa_d_t == 0, 0 < t_cp_d_t)\n",
    "    E_E_W_aux_ass_d_t[f] = E_E_fan_d_t[f] + E_E_cp_d_t[f]\n",
    "\n",
    "    return E_E_W_aux_ass_d_t"
   ]
  },
  {
   "cell_type": "markdown",
   "metadata": {},
   "source": [
    "### 8．給湯部 / Hot water supply section"
   ]
  },
  {
   "cell_type": "markdown",
   "metadata": {},
   "source": [
    "#### 8.1　循環ポンプの稼働時間 / Circulating pump operating time"
   ]
  },
  {
   "cell_type": "markdown",
   "metadata": {},
   "source": [
    "空気集熱式太陽熱利用設備が給湯部を有さない場合、日付$d$の時刻$t$における1 時間当たりの循環ポンプの稼働時間$t_{cp,d,t}$は、ゼロとする。"
   ]
  },
  {
   "cell_type": "markdown",
   "metadata": {},
   "source": [
    "If the air collection solar system does not have a hot water supply unit, the operation time $ t_ {cp, d, t} $ of the circulating pump per hour at the time $ t $ of the date $ d $ shall be zero. ."
   ]
  },
  {
   "cell_type": "markdown",
   "metadata": {},
   "source": [
    "空気集熱式太陽熱利用設備が給湯部を有する場合、"
   ]
  },
  {
   "cell_type": "markdown",
   "metadata": {},
   "source": [
    "In the case where the air collecting type solar heating facility has a hot water supply unit,"
   ]
  },
  {
   "cell_type": "markdown",
   "metadata": {},
   "source": [
    "$t_{fan,d,t} = 0$、または、日付$d$が暖房日の場合： "
   ]
  },
  {
   "cell_type": "markdown",
   "metadata": {},
   "source": [
    "$ t_ {fan, d, t} = 0 $ or if the date $ d $ is a heating day:"
   ]
  },
  {
   "cell_type": "markdown",
   "metadata": {},
   "source": [
    "$$\\large\n",
    "t_{cp,d,t} = 0\n",
    "$$"
   ]
  },
  {
   "cell_type": "markdown",
   "metadata": {},
   "source": [
    "$0 < t_{fan,d,t}$、または、日付$d$が非暖房日の場合： "
   ]
  },
  {
   "cell_type": "markdown",
   "metadata": {},
   "source": [
    "$ 0 <t_ {fan, d, t} $, or if the date $ d $ is a non-heating day:"
   ]
  },
  {
   "cell_type": "markdown",
   "metadata": {},
   "source": [
    "$$\\large\n",
    "t_{cp,d,t} = 1\n",
    "$$"
   ]
  },
  {
   "cell_type": "markdown",
   "metadata": {},
   "source": [
    "$t_{cp,d,t}$ : 日付$d$の時刻$t$における1時間当たりの循環ポンプの稼働時間(h/h) / Circulating pump operating time per hour at time $ t $ on date $ d $    \n",
    "$t_{fan,d,t}$ : 日付$d$の時刻$t$における1時間当たりの空気搬送ファンの稼働時間(h/h) / Air transport fan operating time per hour at time $ t $ on date $ d $    "
   ]
  },
  {
   "cell_type": "code",
   "execution_count": null,
   "metadata": {},
   "outputs": [],
   "source": [
    "def get_t_cp_d_t(hotwater_use, t_fan_d_t, heating_flag_d):\n",
    "    \"\"\"1時間当たりの循環ポンプの稼働時間 (h/h) (6)\n",
    "\n",
    "    :param hotwater_use: 空気集熱式太陽熱利用設備が給湯部を有する場合はTrue\n",
    "    :type hotwater_use: bool\n",
    "    :param t_fan_d_t: 1時間当たりの空気搬送ファンの稼働時間 (h/h)\n",
    "    :type t_fan_d_t: ndarray\n",
    "    :param heating_flag_d: 暖房日であればTrue\n",
    "    :type heating_flag_d: bool\n",
    "    :return: 1時間当たりの循環ポンプの稼働時間 (h/h)\n",
    "    :rtype: ndarray\n",
    "    \"\"\"\n",
    "    t_cp_d_t = np.zeros(24 * 365)\n",
    "\n",
    "    if hotwater_use == False:\n",
    "        # (6-1) 集熱した熱を給湯に使用しない場合は循環ポンプは稼働しない\n",
    "        pass\n",
    "    else:\n",
    "        # 暖房日を時間ごとの配列へ展開 365->24*365\n",
    "        heating_flag_d_t = np.repeat(heating_flag_d, 24)\n",
    "\n",
    "        # (6-2) 空気搬送ファンが稼働しているが非暖房日の場合は循環ポンプは稼働する\n",
    "        f = np.logical_and(0 < t_fan_d_t, heating_flag_d_t == False)\n",
    "        t_cp_d_t[f] = 1.0\n",
    "\n",
    "    return t_cp_d_t"
   ]
  },
  {
   "cell_type": "markdown",
   "metadata": {},
   "source": [
    "#### 8.2　循環ポンプの消費電力量 / Power consumption of circulation pump"
   ]
  },
  {
   "cell_type": "markdown",
   "metadata": {},
   "source": [
    "循環ポンプの自立運転用太陽光発電装置を採用する場合、日付$d$の時刻$t$における1 時間当たりの循環ポンプの消費電力量$E_{E,cp,d,t}$は、ゼロとする。"
   ]
  },
  {
   "cell_type": "markdown",
   "metadata": {},
   "source": [
    "When adopting a solar power generator for self-sustaining operation of a circulating pump, the power consumption $E_{E,cp,d,t}$ of circulating pump per hour at the time $ t $ of date $ d $ is zero I assume."
   ]
  },
  {
   "cell_type": "markdown",
   "metadata": {},
   "source": [
    "循環ポンプの自立運転用太陽光発電装置を採用しない場合、"
   ]
  },
  {
   "cell_type": "markdown",
   "metadata": {},
   "source": [
    "When not using a solar power generator for self-sustaining operation of a circulation pump,"
   ]
  },
  {
   "cell_type": "markdown",
   "metadata": {},
   "source": [
    "$$\\large\n",
    "E_{E,cp,d,t} = P_{cp} \\times t_{cp,d,t} \\times 10^{-3}\n",
    "$$"
   ]
  },
  {
   "cell_type": "markdown",
   "metadata": {},
   "source": [
    "$E_{E,cp,d,t}$ : 日付$d$の時刻$t$における1時間当たりの循環ポンプの消費電力量(kWh/h) / Power consumption of circulating pump per hour at time $ t $ of date $ d $  \n",
    "$P_{cp}$ : 循環ポンプの消費電力(W) / Power consumption of circulation pump    \n",
    "$t_{cp,d,t}$ : 日付$d$の時刻$t$における1時間当たりの循環ポンプの稼働時間(h/h) / Circulating pump operating time per hour at time $ t $ on date $ d $    "
   ]
  },
  {
   "cell_type": "code",
   "execution_count": null,
   "metadata": {},
   "outputs": [],
   "source": [
    "def get_E_E_cp_d_t(pump_sso, t_cp_d_t):\n",
    "    \"\"\"1時間当たりの循環ポンプの消費電力量 (kWh/h) (7)\n",
    "\n",
    "    :param pump_sso: 循環ポンプの自立運転用太陽光発電装置を採用する場合はTrue\n",
    "    :type pump_sso: bool\n",
    "    :param t_cp_d_t: 1時間当たりの空気搬送ファンの稼働時間 (h/h)\n",
    "    :type t_cp_d_t: ndarray\n",
    "    :return: 1時間当たりの循環ポンプの消費電力量 (kWh/h)\n",
    "    :rtype: ndarray\n",
    "    \"\"\"\n",
    "    if pump_sso == True:\n",
    "        # 循環ポンプの自立運転用太陽光発電装置を採用する場合は、循環ポンプの消費電力を計上しない\n",
    "        E_E_cp_d_t = np.zeros(24 * 365)\n",
    "    else:\n",
    "        # 循環ポンプの消費電力[W]\n",
    "        P_cp = get_P_cp()\n",
    "\n",
    "        # 1時間当たりの循環ポンプの消費電力量 (kWh/h)\n",
    "        E_E_cp_d_t = P_cp * t_cp_d_t * 10 ** (-3)\n",
    "\n",
    "    return E_E_cp_d_t"
   ]
  },
  {
   "cell_type": "markdown",
   "metadata": {},
   "source": [
    "循環ポンプの消費電力$P_{cp}$は、80 W とする。 "
   ]
  },
  {
   "cell_type": "markdown",
   "metadata": {},
   "source": [
    "The power consumption $ P_ {cp} $ of the circulation pump is 80 W."
   ]
  },
  {
   "cell_type": "code",
   "execution_count": null,
   "metadata": {},
   "outputs": [],
   "source": [
    "def get_P_cp():\n",
    "    \"\"\"循環ポンプの消費電力[W]\n",
    "\n",
    "    :return:循環ポンプの消費電力[W]\n",
    "    :rtype: float\n",
    "    \"\"\"\n",
    "    return 80.0\n"
   ]
  },
  {
   "cell_type": "markdown",
   "metadata": {},
   "source": [
    "#### 8.3　タンク蓄熱量の上限による補正集熱量 / Corrected heat collection by upper limit of tank heat storage"
   ]
  },
  {
   "cell_type": "markdown",
   "metadata": {},
   "source": [
    "$$\\large\n",
    "\\begin{equation*}\n",
    "   L_{tnk,d} = min \\left( Q_{d} , \\: HC_{tnk,d} \\times \\alpha_{tnk,d} \\right)\n",
    "\\end{equation*}\n",
    "$$"
   ]
  },
  {
   "cell_type": "markdown",
   "metadata": {},
   "source": [
    "$L_{tnk,d}$ : 日付$d$における1日当たりの給湯部におけるタンク蓄熱量の上限による補正集熱量(MJ/d) / Corrected heat collection by the upper limit of the tank heat storage amount in the hot water supply section in one day at date $ d $  \n",
    "$Q_{d}$ : 日付$d$における1日当たりの基準集熱量(MJ/d) / Standard heat collection per day for date $ d $  \n",
    "$HC_{tnk,d}$ : 日付$d$における給湯部のタンク蓄熱量の上限(MJ) / The upper limit of the tank heat storage capacity of the hot water supply department at the date $ d $  \n",
    "$\\alpha_{tnk,d}$ : 日付$d$における給湯部のタンク有効利用率(1/d) / Effective utilization rate of hot water supply tank at date $ d $  "
   ]
  },
  {
   "cell_type": "code",
   "execution_count": null,
   "metadata": {},
   "outputs": [],
   "source": [
    "def calc_L_tnk_d(Q_d, W_tnk, Theta_wtr_d):\n",
    "    \"\"\"1日当たりの給湯部におけるタンク蓄熱量の上限による補正集熱量 (MJ/d) (8)\n",
    "\n",
    "    :param Q_d: 1日当たりの基準集熱量 (MJ/d)\n",
    "    :type Q_d: ndarray\n",
    "    :param W_tnk: 給湯部のタンク容量 (L)\n",
    "    :type W_tnk: float\n",
    "    :param Theta_wtr_d: 日平均給水温度 (℃)\n",
    "    :type Theta_wtr_d: ndarray\n",
    "    :return: 1日当たりの給湯部におけるタンク蓄熱量の上限による補正集熱量 (MJ/d)\n",
    "    :rtype: ndarray\n",
    "    \"\"\"\n",
    "    # 給湯部のタンク蓄熱量の上限 (MJ/d) (9)\n",
    "    HC_tnk_d = get_HC_tnk_d(W_tnk, Theta_wtr_d)\n",
    "\n",
    "    # 給湯部のタンク有効利用率\n",
    "    alpha_tnk_d = get_alpha_tnk_d()\n",
    "\n",
    "    # 1日当たりの給湯部におけるタンク蓄熱量の上限による補正集熱量 (MJ/d) (8)\n",
    "    L_tnk_d = np.clip(\n",
    "        Q_d,\n",
    "        None,\n",
    "        HC_tnk_d * alpha_tnk_d\n",
    "    )\n",
    "\n",
    "    return L_tnk_d"
   ]
  },
  {
   "cell_type": "markdown",
   "metadata": {},
   "source": [
    "日付$d$における給湯部のタンク有効利用率$\\alpha_{tnk,d}$は、日付$d$によらず1.0とする。 "
   ]
  },
  {
   "cell_type": "markdown",
   "metadata": {},
   "source": [
    "The tank utilization rate $ \\alpha_{tnk, d} $ of the hot water supply unit at the date $ d $ is 1.0 regardless of the date $ d $."
   ]
  },
  {
   "cell_type": "code",
   "execution_count": null,
   "metadata": {},
   "outputs": [],
   "source": [
    "def get_alpha_tnk_d():\n",
    "    \"\"\"給湯部のタンク有効利用率 [1/d]\n",
    "\n",
    "    :return: 給湯部のタンク有効利用率 [1/d]\n",
    "    :rtype: ndarray\n",
    "    \"\"\"\n",
    "    # 給湯タンク有効利用率は1.0固定とする\n",
    "    return np.ones(365)\n"
   ]
  },
  {
   "cell_type": "markdown",
   "metadata": {},
   "source": [
    "$$\\large\n",
    "\\begin{equation*}\n",
    "    HC_{tnk,d} = \\left( \\theta_{tnk} - \\theta_{wtr,d} \\right) \\times W_{tnk} \\times 4.186 \\times 10^{-3}\n",
    "\\end{equation*}\n",
    "$$"
   ]
  },
  {
   "cell_type": "markdown",
   "metadata": {},
   "source": [
    "$HC_{tnk,d}$ : 日付$d$における給湯部のタンク蓄熱量の上限(MJ/d) / The upper limit of the tank heat storage capacity of the hot water supply department at the date $ d $  \n",
    "$\\theta_{tnk}$ : 給湯部のタンク内温度(℃) / Tank temperature in the hot water supply unit   \n",
    "$\\theta_{wtr,d}$ : 日付$d$における日平均給水温度(℃) / Average daily water supply temperature on date $ d $  \n",
    "$W_{tnk}$ : 給湯部のタンク容量(L) / Tank capacity of hot water supply unit  "
   ]
  },
  {
   "cell_type": "markdown",
   "metadata": {},
   "source": [
    "給湯部のタンク内温度$ \\theta_{tnk} $は、65℃とする。"
   ]
  },
  {
   "cell_type": "markdown",
   "metadata": {},
   "source": [
    "The temperature in the tank of the hot water supply unit $ \\theta_{tnk} $ is 65 ° C."
   ]
  },
  {
   "cell_type": "code",
   "execution_count": null,
   "metadata": {},
   "outputs": [],
   "source": [
    "def get_HC_tnk_d(W_tnk, Theta_wtr_d):\n",
    "    \"\"\"給湯部のタンク蓄熱量の上限 (MJ/d) (9)\n",
    "\n",
    "    :param W_tnk: 給湯部のタンク容量 (L)\n",
    "    :type W_tnk: float\n",
    "    :param Theta_wtr_d: 日平均給水温度 (℃)\n",
    "    :type Theta_wtr_d: ndarray\n",
    "    :return: 給湯部のタンク蓄熱量の上限 (MJ/d)\n",
    "    :rtype: ndarray\n",
    "    \"\"\"\n",
    "    # 給湯部のタンク内温度 (℃)\n",
    "    Theta_tnk = 65.0\n",
    "\n",
    "    # 給湯部のタンク蓄熱量の上限 (MJ/d)\n",
    "    HC_tnk_d = (Theta_tnk - Theta_wtr_d) * W_tnk * 4.186 * 10 ** (-3)\n",
    "\n",
    "    return HC_tnk_d"
   ]
  },
  {
   "cell_type": "markdown",
   "metadata": {},
   "source": [
    "#### 8.4　基準集熱量 / Reference heat collection"
   ]
  },
  {
   "cell_type": "markdown",
   "metadata": {},
   "source": [
    "$$\\large\n",
    "\\begin{equation*}\n",
    "    Q_{d} = \\sum_{t=0}^{23} \\left( Q_{col,W,d,t} \\times f_{s}\\right)\n",
    "\\end{equation*}\n",
    "$$"
   ]
  },
  {
   "cell_type": "markdown",
   "metadata": {},
   "source": [
    "$f_{s}$ : 給湯部のシステム効率(-) / Hot water supply system efficiency  \n",
    "$Q_{d}$ : 日付$d$における1日当たりの基準集熱量(MJ/d) / Standard heat collection per day for date $ d $  \n",
    "$Q_{col,W,d,t}$ : 日付$d$の時刻$t$における1時間当たりの集熱部における集熱量のうちの給湯利用分(MJ/h) / Hot water use portion of heat collection in the heat collection unit per hour at time $ t $ of date $ d $   "
   ]
  },
  {
   "cell_type": "markdown",
   "metadata": {},
   "source": [
    "給湯部のシステム効率$f_{s}$は、0.85とする。 "
   ]
  },
  {
   "cell_type": "markdown",
   "metadata": {},
   "source": [
    "The system efficiency $ f_ {s} $ of the hot water supply unit is 0.85."
   ]
  },
  {
   "cell_type": "code",
   "execution_count": null,
   "metadata": {},
   "outputs": [],
   "source": [
    "def calc_Q_d(Q_col_d_t, t_cp_d_t):\n",
    "    \"\"\"1日当たりの基準集熱量 (MJ/d) (10)\n",
    "\n",
    "    :param Q_col_d_t: 1時間当たりの集熱部における集熱量 (MJ/d)\n",
    "    :type Q_col_d_t: ndarray\n",
    "    :param t_cp_d_t: 1時間当たりの循環ポンプの稼働時間 (h/h)\n",
    "    :type t_cp_d_t: ndarray\n",
    "    :return: 1日当たりの基準集熱量 (MJ/d)\n",
    "    :rtype: ndarray\n",
    "    \"\"\"\n",
    "    # 1時間当たりの集熱部における集熱量のうちの給湯利用分 (11)\n",
    "    Q_col_w_d_t = get_Q_col_w_d_t(Q_col_d_t, t_cp_d_t)\n",
    "\n",
    "    # 給湯部のシステム効率\n",
    "    f_s = 0.85\n",
    "\n",
    "    # 1日当たりの基準集熱量 (MJ/d) (10)\n",
    "    tmp = Q_col_w_d_t * f_s\n",
    "    Q_d = np.sum(tmp.reshape(365, 24), axis=1)\n",
    "\n",
    "    return Q_d"
   ]
  },
  {
   "cell_type": "markdown",
   "metadata": {},
   "source": [
    "$$\\large\n",
    "\\begin{equation*}\n",
    "    Q_{col,W,d,t} = Q_{col,d,t} \\times f_{hx} \\times t_{cp,d,t}\n",
    "\\end{equation*}\n",
    "$$"
   ]
  },
  {
   "cell_type": "markdown",
   "metadata": {},
   "source": [
    "$f_{hx}$ : 給湯部の熱交換効率(-) / Heat exchange efficiency of hot water supply unit  \n",
    "$Q_{col,d,t}$ : 日付$d$の時刻$t$における1時間当たりの集熱部における集熱量(MJ/h) / Heat collection amount in hourly collector at time $ t $ of date $ d $   \n",
    "$Q_{col,W,d,t}$ : 日付$d$の時刻$t$における1時間当たりの集熱部における集熱量のうちの給湯利用分(MJ/h) / Hot water use portion of heat collection in the heat collection unit per hour at time $ t $ of date $ d $   \n",
    "$t_{cp,d,t}$ : 日付$d$の時刻$t$における1時間当たりの循環ポンプの稼働時間(h/h) / Circulating pump operating time per hour at time $ t $ on date $ d $   "
   ]
  },
  {
   "cell_type": "markdown",
   "metadata": {},
   "source": [
    "給湯部の熱交換効率$f_{hx}$は、0.25とする。 "
   ]
  },
  {
   "cell_type": "markdown",
   "metadata": {},
   "source": [
    "The heat exchange efficiency $ f_ {hx} $ of the hot water supply unit is 0.25."
   ]
  },
  {
   "cell_type": "code",
   "execution_count": null,
   "metadata": {},
   "outputs": [],
   "source": [
    "def get_Q_col_w_d_t(Q_col_d_t, t_cp_d_t):\n",
    "    \"\"\"1時間当たりの集熱部における集熱量のうちの給湯利用分 (MJ/h) (11)\n",
    "\n",
    "    :param Q_col_d_t: 1時間当たりの集熱部における集熱量 (MJ/d)\n",
    "    :type Q_col_d_t: ndarray\n",
    "    :param t_cp_d_t: 1時間当たりの循環ポンプの稼働時間 (h/h)\n",
    "    :type t_cp_d_t: ndarray\n",
    "    :return: 1時間当たりの集熱部における集熱量のうちの給湯利用分 (MJ/h)\n",
    "    :rtype: ndarray\n",
    "    \"\"\"\n",
    "    # 給湯部の熱交換効率\n",
    "    f_hx = 0.25\n",
    "\n",
    "    # 1時間当たりの集熱部における集熱量のうちの給湯利用分 (MJ/h) (11)\n",
    "    Q_col_w_d_t = Q_col_d_t * f_hx * t_cp_d_t\n",
    "\n",
    "    return Q_col_w_d_t"
   ]
  },
  {
   "cell_type": "markdown",
   "metadata": {},
   "source": [
    "### 9．空気搬送部 / Air transport unit "
   ]
  },
  {
   "cell_type": "markdown",
   "metadata": {},
   "source": [
    "#### 9.1　空気搬送ファンの稼働時間 / Air transport fan operating time"
   ]
  },
  {
   "cell_type": "markdown",
   "metadata": {},
   "source": [
    "$30 \\leq \\theta_{col,nonopg,d,t}$ かつ $25 < \\theta_{col,opg,d,t}$の場合："
   ]
  },
  {
   "cell_type": "markdown",
   "metadata": {},
   "source": [
    "In the case of $ 30 \\leq \\theta_ {col, nonopg, d, t} $ and $ 25 <\\theta_ {col, opg, d, t} $:"
   ]
  },
  {
   "cell_type": "markdown",
   "metadata": {},
   "source": [
    "$$\\large\n",
    "\\begin{equation*}\n",
    "   t_{fan,d,t} = 1\n",
    "\\end{equation*}\n",
    "$$"
   ]
  },
  {
   "cell_type": "markdown",
   "metadata": {},
   "source": [
    "$\\theta_{col,nonopg,d,t} < 30$ または $\\theta_{col,opg,d,t} \\leq 25$の場合："
   ]
  },
  {
   "cell_type": "markdown",
   "metadata": {},
   "source": [
    "In the case of $ \\theta_ {col, nonopg, d, t} <30 $ or $ \\theta_ {col, opg, d, t} \\leq 25 $:"
   ]
  },
  {
   "cell_type": "markdown",
   "metadata": {},
   "source": [
    "$$\\large\n",
    "\\begin{equation*}\n",
    "   t_{fan,d,t} = 0\n",
    "\\end{equation*}\n",
    "$$"
   ]
  },
  {
   "cell_type": "markdown",
   "metadata": {},
   "source": [
    "$t_{fan,d,t}$ : 日付$d$の時刻$t$における1時間当たりの空気搬送ファンの稼働時間(h/h) / Air transport fan operating time per hour at time $ t $ on date $ d $  \n",
    "$\\theta_{col,opg,d,t}$ : 日付$d$の時刻$t$における空気搬送ファン稼働時の集熱部の出口における空気温度(℃) / Air temperature at the outlet of the heat collection unit when the air conveyance fan is operating at time $ t $ at date $ d $  \n",
    "$\\theta_{col,nonopg,d,t}$ : 日付$d$の時刻$t$における空気搬送ファン停止時の集熱部の出口における空気温度(℃) / The air temperature at the outlet of the heat collector at the time when the air conveying fan stops at time $ t $ of date $ d $  "
   ]
  },
  {
   "cell_type": "code",
   "execution_count": null,
   "metadata": {},
   "outputs": [],
   "source": [
    "def get_t_fan_d_t(Theta_col_nonopg_d_t, Theta_col_opg_d_t):\n",
    "    \"\"\"1時間当たりの空気搬送ファンの稼働時間 (h/h) (12)\n",
    "\n",
    "    :param Theta_col_nonopg_d_t: 空気搬送ファン停止時の集熱部の出口における空気温度 (℃)\n",
    "    :type Theta_col_nonopg_d_t: ndarray\n",
    "    :param Theta_col_opg_d_t:  空気搬送ファン稼働時の集熱部の出口における空気温度 (℃)\n",
    "    :type Theta_col_opg_d_t: ndarray\n",
    "    :return: 1時間当たりの空気搬送ファンの稼働時間 (h/h)\n",
    "    :rtype: ndarray\n",
    "    \"\"\"\n",
    "    # 空気搬送ファン稼働時の集熱部の出口における空気温度が25度より大、かつ\n",
    "    # 空気搬送ファン停止時の集熱部の出口における空気温度が30度以上の場合に稼働する\n",
    "    t_fan_d_t = np.zeros(24 * 365)\n",
    "    f = np.logical_and(30 <= Theta_col_nonopg_d_t, 25 < Theta_col_opg_d_t)\n",
    "    t_fan_d_t[f] = 1\n",
    "\n",
    "    return t_fan_d_t"
   ]
  },
  {
   "cell_type": "markdown",
   "metadata": {},
   "source": [
    "#### 9.2　空気搬送ファンの風量 / Air flow rate of air conveying fan"
   ]
  },
  {
   "cell_type": "markdown",
   "metadata": {},
   "source": [
    "$$\\large\n",
    "\\begin{equation*}\n",
    "   V_{fan,d,t} = V_{fan,P0} \\times t_{fan,d,t}\n",
    "\\end{equation*}\n",
    "$$"
   ]
  },
  {
   "cell_type": "markdown",
   "metadata": {},
   "source": [
    "$t_{fan,d,t}$ : 日付$d$の時刻$t$における1時間当たりの空気搬送ファンの稼働時間(h/h) / Air transport fan operating time per hour at time $ t $ on date $ d $  \n",
    "$V_{fan,d,t}$ : 日付$d$の時刻$t$における1時間当たりの空気搬送ファンの風量(m<sup>3</sup>/h) / Air-conveying fan air volume per hour at time $ t $ of date $ d $  \n",
    "$V_{fan,P0}$ : 空気搬送ファンの送風機特性曲線において機外静圧をゼロとした時の空気搬送ファンの風量(m<sup>3</sup>/h) / Air flow rate of the air conveying fan when the static pressure outside the machine is zero in the fan characteristic curve of the air conveying fan  "
   ]
  },
  {
   "cell_type": "code",
   "execution_count": null,
   "metadata": {},
   "outputs": [],
   "source": [
    "def get_V_fan_d_t(t_fan_d_t, V_fan_P0):\n",
    "    \"\"\"1時間当たりの空気搬送ファンの風量 (m3/h) (13)\n",
    "\n",
    "    :param t_fan_d_t: 1時間当たりの空気搬送ファンの稼働時間 (h/h)\n",
    "    :type t_fan_d_t: ndarray\n",
    "    :param V_fan_P0: 空気搬送ファンの送風機特性曲線において機外静圧をゼロとした時の空気搬送ファンの風量 (m3/h)\n",
    "    :type V_fan_P0: float\n",
    "    :return: 1時間当たりの空気搬送ファンの風量 (m3/h)\n",
    "    :rtype: ndarray\n",
    "    \"\"\"\n",
    "    V_fan_d_t = V_fan_P0 * t_fan_d_t\n",
    "    return V_fan_d_t"
   ]
  },
  {
   "cell_type": "markdown",
   "metadata": {},
   "source": [
    "#### 9.3　空気搬送ファンの消費電力量 / Power consumption of air conveying fan"
   ]
  },
  {
   "cell_type": "markdown",
   "metadata": {},
   "source": [
    "空気搬送ファンの自立運転用太陽光発電装置を採用する場合、日付$d$の時刻$t$における1 時間当たりの空気搬送ファンの消費電力量$E_{E,fan,d,t}$は、ゼロとする。 "
   ]
  },
  {
   "cell_type": "markdown",
   "metadata": {},
   "source": [
    "When adopting a solar power generator for self-supporting operation of the air conveying fan, the power consumption of the air conveying fan per hour at the time $ t $ of the date $ d $ is $ E_ {E, fan, d, t} $ , Zero."
   ]
  },
  {
   "cell_type": "markdown",
   "metadata": {},
   "source": [
    "空気搬送ファンの自立運転用太陽光発電装置を採用しない場合、"
   ]
  },
  {
   "cell_type": "markdown",
   "metadata": {},
   "source": [
    "When not using a solar power generator for self-sustaining operation of the air conveyance fan,"
   ]
  },
  {
   "cell_type": "markdown",
   "metadata": {},
   "source": [
    "$$\\large\n",
    "\\begin{equation*}\n",
    "    E_{E,fan,d,t} =f_{SFP} \\times V_{fan,d,t} \\times t_{fan,d,t} \\times 10^{-3}\n",
    "\\end{equation*}\n",
    "$$"
   ]
  },
  {
   "cell_type": "markdown",
   "metadata": {},
   "source": [
    "$E_{E,fan,d,t}$ : 日付$d$の時刻$t$における1時間当たりの空気搬送ファンの消費電力量(kWh/h) / Air-conveying fan power consumption per hour at time $ t $ on date $ d $  \n",
    "$f_{SFP}$ : 空気搬送ファンの比消費電力(W/(m<sup>3</sup>/h)) / Specific power consumption of air conveying fan  \n",
    "$t_{fan,d,t}$ : 日付$d$の時刻$t$における1時間当たりの空気搬送ファンの稼働時間(h/h) / Air transport fan operating time per hour at time $ t $ on date $ d $  \n",
    "$V_{fan,d,t}$ : 日付$d$の時刻$t$における1時間当たりの空気搬送ファンの風量(m<sup>3</sup>/h) / Air-conveying fan air volume per hour at time $ t $ of date $ d $  "
   ]
  },
  {
   "cell_type": "code",
   "execution_count": null,
   "metadata": {},
   "outputs": [],
   "source": [
    "def calc_E_E_fan_d_t(fan_sso, fan_type, V_fan_d_t, t_fan_d_t):\n",
    "    \"\"\"1時間当たりの空気搬送ファンの消費電力量 (kWh/h) (14)\n",
    "\n",
    "    :param fan_sso: 空気搬送ファンの自立運転用太陽光発電装置を採用する場合はTrue\n",
    "    :type fan_sso: bool\n",
    "    :param fan_type: ファンの種別\n",
    "    :type fan_type: str\n",
    "    :param V_fan_d_t: 1時間当たりの空気搬送ファンの風量 (m3/h)\n",
    "    :type V_fan_d_t: ndarray\n",
    "    :param t_fan_d_t: 1時間当たりの空気搬送ファンの稼働時間 (h/h)\n",
    "    :type t_fan_d_t: ndarray\n",
    "    :return: 1時間当たりの空気搬送ファンの消費電力量 (kWh/h)\n",
    "    :rtype: ndarray\n",
    "    \"\"\"\n",
    "    if fan_sso == True:\n",
    "        # 空気搬送ファンの自立運転用太陽光発電装置を採用する場合は、空気搬送ファンの消費電力を計上しない\n",
    "        E_E_fan_d_t = np.zeros(24 * 365)\n",
    "    else:\n",
    "        # 空気搬送ファンの比消費電力 (W/(m3/h))\n",
    "        f_SFP = get_f_SFP(fan_type)\n",
    "\n",
    "        # 1時間当たりの空気搬送ファンの消費電力量 (kWh/h) (14)\n",
    "        E_E_fan_d_t = f_SFP * V_fan_d_t * t_fan_d_t * 10 ** (-3)\n",
    "\n",
    "    return E_E_fan_d_t"
   ]
  },
  {
   "cell_type": "code",
   "execution_count": null,
   "metadata": {},
   "outputs": [],
   "source": [
    "def get_f_SFP(fan_type):\n",
    "    \"\"\"空気搬送ファンの比消費電力 (W/(m3/h))\n",
    "\n",
    "    :param fan_type: ファンの種別\n",
    "    :type fan_type: str\n",
    "    :return: 空気搬送ファンの比消費電力 (W/(m3/h))\n",
    "    :rtype: float\n",
    "    \"\"\"\n",
    "    if fan_type == 'AC':\n",
    "        return get_table_1()[0]\n",
    "    elif fan_type == 'DC':\n",
    "        return get_table_1()[1]\n",
    "    else:\n",
    "        raise ValueError(fan_type)"
   ]
  },
  {
   "cell_type": "markdown",
   "metadata": {},
   "source": [
    "<div style=\"text-align: center;font-weight: bold;\">表　空気搬送ファンの比消費電力$f_{SFP}$<br>Table: Specific power consumption $f_{SFP}$ of air conveying fan</div>\n",
    "\n",
    "|ファンの種別<br>Type of fan|ファンの比消費電力$f_{SFP}$(W/(m<sup>3</sup>/h))<br>Specific power consumption of fan|\n",
    "|-|-|\n",
    "|ACファン<br>AC fan|0.4|\n",
    "|DCファン<br>DC fan|0.2|\n"
   ]
  },
  {
   "cell_type": "code",
   "execution_count": null,
   "metadata": {},
   "outputs": [],
   "source": [
    "def get_table_1():\n",
    "    \"\"\"表1 空気搬送ファンの比消費電力 f_SFP\n",
    "\n",
    "    :return: 表1 空気搬送ファンの比消費電力 f_SFP\n",
    "    :rtype: list\n",
    "    \"\"\"\n",
    "    table_1 = (0.4, 0.2)\n",
    "    return table_1"
   ]
  },
  {
   "cell_type": "markdown",
   "metadata": {},
   "source": [
    "#### 9.4　床下空間または居室へ供給する空気の風量 / Air volume of air supplied to underfloor space or living room"
   ]
  },
  {
   "cell_type": "markdown",
   "metadata": {},
   "source": [
    "$$\n",
    "\\large\n",
    "V_{sa,d,t,i} = \\left\\{\n",
    "\\begin{array}{ll}\n",
    "V_{sa,d,t,A} \\times \\frac{A_{HCZ,i}}{A_{MR} + A_{OR}} & (i = 1～5 の場合)\\\\\n",
    "0 & (i = 6～12 の場合)\\\\\n",
    "\\end{array}\n",
    "\\right.\n",
    "$$"
   ]
  },
  {
   "cell_type": "markdown",
   "metadata": {},
   "source": [
    "$A_{HCZ,i}$ : 暖冷房区画$i$の床面積(m<sup>2</sup>) / Floor area of heating / cooling section $ i $  \n",
    "$A_{MR}$ : 主たる居室の床面積(m<sup>2</sup>) / Floor area of main room  \n",
    "$A_{OR}$ : その他の居室の床面積(m<sup>2</sup>) / Floor area of other rooms   \n",
    "$V_{sa,d,t,A}$ : 日付$d$の時刻$t$における1時間当たりの床下空間または居室へ供給する空気の風量の合計(m<sup>3</sup>/h) / Total volume of air supplied to the underfloor space or room per hour at time $ t $ on date $ d $  \n",
    "$V_{sa,d,t,i}$ : 日付$d$の時刻$t$における暖冷房区画$i$の1時間当たりの床下空間または居室へ供給する空気の風量(m<sup>3</sup>/h) / Amount of air supplied to the underfloor space or room per hour of heating / cooling compartment $ i $ at time $ t $ of date $ d $  "
   ]
  },
  {
   "cell_type": "code",
   "execution_count": null,
   "metadata": {},
   "outputs": [],
   "source": [
    "def get_V_sa_d_t_i(i, A_HCZ_i, A_MR, A_OR, V_sa_d_t_A):\n",
    "    \"\"\"1時間当たりの床下空間または居室へ供給する空気の風量 (m3/h) (15)\n",
    "\n",
    "    :param i: 暖冷房区画の番号\n",
    "    :type i: int\n",
    "    :param A_HCZ_i: 暖冷房区画iの床面積 (m2)\n",
    "    :type A_HCZ_i: float\n",
    "    :param A_MR: 主たる居室の床面積 (m2)\n",
    "    :type A_MR: float\n",
    "    :param A_OR: その他の居室の床面積 (m2)\n",
    "    :type A_OR: float\n",
    "    :param V_sa_d_t_A: 床下空間または居室へ供給する1時間当たりの空気の風量の合計\n",
    "    :type V_sa_d_t_A: ndarray\n",
    "    :return: 1時間当たりの床下空間または居室へ供給する空気の風量 (m3/h)\n",
    "    :rtype: ndarray\n",
    "    \"\"\"\n",
    "    if i in [1, 2, 3, 4, 5]:\n",
    "        return V_sa_d_t_A * A_HCZ_i / (A_MR + A_OR)\n",
    "\n",
    "    elif i in [6, 7, 8, 9, 10, 11, 12]:\n",
    "        return np.zeros(24 * 365)\n",
    "\n",
    "    else:\n",
    "        raise ValueError(i)"
   ]
  },
  {
   "cell_type": "markdown",
   "metadata": {},
   "source": [
    "$$\n",
    "\\large\n",
    "V_{sa,d,t,A} = V_{fan,d,t} \\times r_{sa,d,t}\n",
    "$$"
   ]
  },
  {
   "cell_type": "markdown",
   "metadata": {},
   "source": [
    "$r_{sa,d,t}$ : 日付$d$の時刻$t$における1 時間当たりの空気搬送ファンの風量のうち床下空間または居室へ供給する風量の割合(-) / Ratio of the air volume supplied to the space under the floor or the room in the air volume of the air conveying fan per hour at the time $ t $ of the date $ d $   \n",
    "$V_{fan,d,t}$ : 日付$d$の時刻$t$における1 時間当たりの空気搬送ファンの風量(m<sup>3</sup>/h) / Air-conveying fan air volume per hour at time $ t $ on date $ d $  \n",
    "$V_{sa,d,t,A}$ : 日付$d$の時刻$t$における1時間当たりの床下空間または居室へ供給する空気の風量の合計(m<sup>3</sup>/h) / Total volume of air supplied to the underfloor space or room per hour at time $ t $ on date $ d $  "
   ]
  },
  {
   "cell_type": "code",
   "execution_count": null,
   "metadata": {},
   "outputs": [],
   "source": [
    "def get_V_sa_d_t_A(V_fan_d_t, r_sa_d_t):\n",
    "    \"\"\"床下空間または居室へ供給する1時間当たりの空気の風量の合計 (m3/h) (16)\n",
    "\n",
    "    :param V_fan_d_t: 1時間当たりの空気搬送ファンの風量 (m3/h)\n",
    "    :type V_fan_d_t: ndarray\n",
    "    :param r_sa_d_t: 1時間当たりの空気搬送ファンの風量のうち床下空間または居室へ供給する風量の割合 (-)\n",
    "    :type r_sa_d_t: ndarray\n",
    "    :return: 床下空間または居室へ供給する1時間当たりの空気の風量の合計 (m3/h)\n",
    "    :rtype: ndarray\n",
    "    \"\"\"\n",
    "    V_sa_d_t_A = V_fan_d_t * r_sa_d_t\n",
    "\n",
    "    return V_sa_d_t_A\n"
   ]
  },
  {
   "cell_type": "markdown",
   "metadata": {},
   "source": [
    "$t_{fan,d,t} = 0$、または、日付$d$が非暖房日の場合： "
   ]
  },
  {
   "cell_type": "markdown",
   "metadata": {},
   "source": [
    "$ t_ {fan, d, t} = 0 $ or if the date $ d $ is a non-heating day:"
   ]
  },
  {
   "cell_type": "markdown",
   "metadata": {},
   "source": [
    "$$\\large\n",
    "r_{sa,d,t} = 0\n",
    "$$"
   ]
  },
  {
   "cell_type": "markdown",
   "metadata": {},
   "source": [
    "$0 < t_{fan,d,t}$ かつ日付$d$が暖房日の場合： "
   ]
  },
  {
   "cell_type": "markdown",
   "metadata": {},
   "source": [
    "If $ 0 <t_ {fan, d, t} $ and the date $ d $ is a heating day:"
   ]
  },
  {
   "cell_type": "markdown",
   "metadata": {},
   "source": [
    "$$\\large\n",
    "r_{sa,d,t} = 1\n",
    "$$"
   ]
  },
  {
   "cell_type": "markdown",
   "metadata": {},
   "source": [
    "$r_{sa,d,t}$ : 日付$d$の時刻$t$における1 時間当たりの空気搬送ファンの風量のうち床下空間または居室へ供給する風量の割合(-) / Ratio of the air volume supplied to the space under the floor or the room in the air volume of the air conveying fan per hour at the time $ t $ of the date $ d $   \n",
    "$t_{fan,d,t}$ : 日付$d$の時刻$t$における1時間当たりの空気搬送ファンの稼働時間(h/h) / Air transport fan operating time per hour at time $ t $ on date $ d $  "
   ]
  },
  {
   "cell_type": "code",
   "execution_count": null,
   "metadata": {},
   "outputs": [],
   "source": [
    "def get_r_sa_d_t(t_fan_d_t, heating_flag_d):\n",
    "    \"\"\"1時間当たりの空気搬送ファンの風量のうち床下空間または居室へ供給する風量の割合 (17)\n",
    "\n",
    "    :param t_fan_d_t: 1時間当たりの空気搬送ファンの稼働時間 (h/h)\n",
    "    :type t_fan_d_t: ndarray\n",
    "    :param heating_flag_d: 暖房日であればTrue\n",
    "    :type heating_flag_d: ndarray\n",
    "    :return: 1時間当たりの空気搬送ファンの風量のうち床下空間または居室へ供給する風量の割合 (-)\n",
    "    :rtype: ndarray\n",
    "    \"\"\"\n",
    "    # 暖房日を時間ごとの配列へ展開 365->24*365\n",
    "    heating_flag_d_t = np.repeat(heating_flag_d, 24)\n",
    "\n",
    "    # 空気搬送ファンの風量が0より多きい、かつ、暖房日である\n",
    "    r_sa_d_t = np.zeros(24 * 365)\n",
    "    f = np.logical_and(0.0 < t_fan_d_t, heating_flag_d_t == True)\n",
    "    r_sa_d_t[f] = 1.0\n",
    "\n",
    "    return r_sa_d_t"
   ]
  },
  {
   "cell_type": "markdown",
   "metadata": {},
   "source": [
    "#### 9.5　床下空間または居室へ供給する空気の温度 / Temperature of air supplied to underfloor space or living room"
   ]
  },
  {
   "cell_type": "markdown",
   "metadata": {},
   "source": [
    "$$\\large\n",
    "\\begin{equation*}\n",
    "   \\theta_{sa,d,t} = \\theta_{col,opg,d,t} - \\frac{Q_{col,W,d,t}}{\\rho_{air} \\times c_{p_{air}} \\times V_{fan,d,t}}\n",
    "\\end{equation*}\n",
    "$$"
   ]
  },
  {
   "cell_type": "markdown",
   "metadata": {},
   "source": [
    "$c_{p_{air}}$： 空気の比熱(kJ/(kg・K)) / Specific heat of air   \n",
    "$Q_{col,W,d,t}$ : 日付$d$の時刻$t$における1 時間当たりの集熱部における集熱量のうちの給湯利用分(MJ/h) / The amount of hot water used in the amount of heat collected in the heat collection unit per hour at time $ t $ of date $ d $   \n",
    "$V_{fan,d,t}$ : 日付$d$の時刻$t$における1 時間当たりの空気搬送ファンの風量(m<sup>3</sup>/h) / Air-conveying fan air volume per hour at time $ t $ on date $ d $  \n",
    "$\\theta_{col,opg,d,t}$：日付$d$の時刻$t$における空気搬送ファン稼働時の集熱部の出口における空気温度(℃) / Air temperature at the outlet of the heat collection unit when the air conveyance fan is operating at time $ t $ at date $ d $  \n",
    "$\\theta_{sa,d,t}$：日付$d$の時刻$t$において床下空間または居室へ供給する空気の温度(℃) / Temperature of air supplied to the space under the floor or room at time $ t $ of date $ d $  \n",
    "$\\rho_{air}$：空気の密度(kg/m<sup>3</sup>) / Air density  "
   ]
  },
  {
   "cell_type": "markdown",
   "metadata": {},
   "source": [
    "空気の密度$\\rho_{air}$は、1.20 kg/m<sup>3</sup> とする。空気の比熱$c_{p_{air}}$は、1.006 kJ/(kg・K)とする。 "
   ]
  },
  {
   "cell_type": "markdown",
   "metadata": {},
   "source": [
    "The density of air $ \\rho_ {air} $ is 1.20 kg / m<sup>3</sup>. The specific heat $ c_ {p_ {air}} $ of air is 1.006 kJ / (kg · K)."
   ]
  },
  {
   "cell_type": "code",
   "execution_count": null,
   "metadata": {},
   "outputs": [],
   "source": [
    "def get_Theta_sa_d_t(V_fan_d_t, Theta_col_opg_d_t, Q_col_W_d_t):\n",
    "    \"\"\"床下空間または居室へ供給する空気の温度 (℃) (18)\n",
    "\n",
    "    :param V_fan_d_t: 1時間当たりの空気搬送ファンの風量 (m3/h)\n",
    "    :type V_fan_d_t: ndarray\n",
    "    :param Theta_col_opg_d_t: 空気搬送ファンの稼働時の集熱部の出口における空気温度 (℃)\n",
    "    :type Theta_col_opg_d_t: ndarray\n",
    "    :param Q_col_W_d_t: 1時間当たりの集熱部における集熱量のうちの給湯利用分 (MJ/h)\n",
    "    :type Q_col_W_d_t: ndarray\n",
    "    :return: 床下空間または居室へ供給する空気の温度 (℃)\n",
    "    :rtype: ndarray\n",
    "    \"\"\"\n",
    "    # 空気の密度 [kg/m3]\n",
    "    ro_air = 1.20\n",
    "\n",
    "    # 空気の比熱 [kJ/(kgK)]\n",
    "    c_p_air = 1.006\n",
    "\n",
    "    # 床下空間または居室へ供給する空気の温度 (℃) (18)\n",
    "    Theta_sa_d_t = np.copy(Theta_col_opg_d_t)\n",
    "    f = V_fan_d_t > 0\n",
    "    Theta_sa_d_t[f] = Theta_col_opg_d_t[f] - (Q_col_W_d_t[f] / (ro_air * c_p_air * V_fan_d_t[f]))\n",
    "\n",
    "    return Theta_sa_d_t"
   ]
  },
  {
   "cell_type": "markdown",
   "metadata": {},
   "source": [
    "### 10．集熱部 / Heat collector"
   ]
  },
  {
   "cell_type": "code",
   "execution_count": null,
   "metadata": {},
   "outputs": [],
   "source": [
    "def calc_Theta_col(A_col, P_alpha, P_beta, V_fan_P0, d0, d1, m_fan_test, region, sol_region, Theta_ex_d_t):\n",
    "    \"\"\"空気搬送ファン停止時および稼働時の集熱部の出口における空気温度 (℃)\n",
    "\n",
    "    :param A_col: 集熱器群の面積 (m2)\n",
    "    :type A_col: tuple\n",
    "    :param P_alpha: 方位角 (°)\n",
    "    :type P_alpha: float\n",
    "    :param P_beta: 傾斜角 (°)\n",
    "    :type P_beta: tuple\n",
    "    :param V_fan_P0: 空気搬送ファンの送風機特性曲線において機外静圧をゼロとしたときの空気搬送ファンの風量 (m3/h)\n",
    "    :type V_fan_P0: float\n",
    "    :param d0: 集熱器群を構成する集熱器の集熱効率特性線図一次近似式の切片 (-)\n",
    "    :type d0: tuple\n",
    "    :param d1: 集熱器群を構成する集熱器の集熱効率特性線図一次近似式の傾き (W/(m2K))\n",
    "    :type d1: tuple\n",
    "    :param m_fan_test: 集熱器群を構成する集熱器の集熱性能試験時における単位面積当たりの空気の質量流量 (kg/(s・m2))\n",
    "    :type m_fan_test: tuple\n",
    "    :param region: 省エネルギー地域区分\n",
    "    :type region: int\n",
    "    :param sol_region: 年間日射地域区分(1-5)\n",
    "    :type sol_region: int\n",
    "    :param Theta_ex_d_t: 外気温度 (℃)\n",
    "    :type Theta_ex_d_t: ndarray\n",
    "    :return: 空気搬送ファン停止時および稼働時の集熱部の出口における空気温度 (℃)\n",
    "    :rtype: tuple\n",
    "    \"\"\"\n",
    "    # 集熱器群の数\n",
    "    n = len(A_col)\n",
    "\n",
    "    # 作業領域の確保\n",
    "    V_col_j_d_t = np.zeros((n, 24 * 365))\n",
    "    Theta_col_nonopg_j_d_t = np.zeros((n, 24 * 365))\n",
    "    Theta_col_opg_j_d_t = np.zeros((n, 24 * 365))\n",
    "\n",
    "    for j in range(1, n + 1):\n",
    "        # 空気搬送ファン稼働時に集熱器群jを流れる空気の体積流量 (m3/h) (24)\n",
    "        V_col_j_d_t[j - 1, :] = get_V_col_j_d_t(V_fan_P0, A_col[j - 1], A_col)\n",
    "\n",
    "        # 空気搬送ファン停止時の集熱器群jの出口における空気温度 (℃) (22)\n",
    "        Theta_col_nonopg_j_d_t[j - 1, :] = calc_Theta_col_nonopg_j_d_t(\n",
    "            P_alpha_j=P_alpha,\n",
    "            P_beta_j=P_beta[j - 1],\n",
    "            region=region,\n",
    "            sol_region=sol_region,\n",
    "            Theta_ex_d_t=Theta_ex_d_t,\n",
    "            d0_j=d0[j - 1],\n",
    "            d1_j=d1[j - 1]\n",
    "        )\n",
    "\n",
    "        # 集熱器群jを構成する集熱器の総合熱損失係数 (25)\n",
    "        U_c_j = get_U_c_j(m_fan_test[j - 1], d1[j - 1])\n",
    "\n",
    "        # 空気搬送ファン稼働時に集熱器群jを流れる空気の体積流量 (24)\n",
    "        V_col_j_d_t[j - 1, :] = get_V_col_j_d_t(V_fan_P0, A_col[j - 1], A_col)\n",
    "\n",
    "        # 空気搬送ファン稼働時の集熱器群jの出口における空気温度 (℃) (23)\n",
    "        Theta_col_opg_j_d_t[j - 1, :] = get_Theta_col_opg_j_d_t(\n",
    "            V_col_j_d_t=V_col_j_d_t[j - 1],\n",
    "            A_col_j=A_col[j - 1],\n",
    "            U_c_j=U_c_j,\n",
    "            Theta_col_nonopg_j_d_t=Theta_col_nonopg_j_d_t[j - 1],\n",
    "            Theta_ex_d_t=Theta_ex_d_t\n",
    "        )\n",
    "    # 空気搬送ファン稼働時の集熱部の出口における空気温度 (℃) (21)\n",
    "    Theta_col_opg_d_t = get_Theta_col_opg_d_t(Theta_col_opg_j_d_t, V_col_j_d_t)\n",
    "\n",
    "    # 空気搬送ファン停止時の集熱部の出口における空気温度 (℃) (20)\n",
    "    Theta_col_nonopg_d_t = get_Theta_col_nonopg_d_t(Theta_col_nonopg_j_d_t, V_col_j_d_t)\n",
    "\n",
    "    return Theta_col_nonopg_d_t, Theta_col_opg_d_t"
   ]
  },
  {
   "cell_type": "markdown",
   "metadata": {},
   "source": [
    "#### 10.1　集熱量 / Heat collection"
   ]
  },
  {
   "cell_type": "markdown",
   "metadata": {},
   "source": [
    "$$\\large\n",
    "\\begin{equation*}\n",
    "   Q_{col,d,t} = \\rho_{air} \\times c_{p_{air}} \\times V_{fan,d,t} \\times \\left( \\theta_{col,opg,d,t} - \\theta_{ex,d,t} \\right) \\times 10^{-3}\n",
    "\\end{equation*}\n",
    "$$"
   ]
  },
  {
   "cell_type": "markdown",
   "metadata": {},
   "source": [
    "$c_{p_{air}}$ : 空気の比熱(kJ/(kg$\\cdot$K)) / Specific heat of air  \n",
    "$Q_{col,d,t}$ : 空日付$d$の時刻$t$における1時間当たりの集熱部における集熱量(MJ/h) / Heat collection amount in hourly collector at time $ t $ of empty date $ d $  \n",
    "$V_{fan,d,t}$ : 日付$d$の時刻$t$における1時間当たりの空気搬送ファンの風量(m<sup>3</sup>/h) / Air-conveying fan air volume per hour at time $ t $ of date $ d $  \n",
    "$\\theta_{col,opg,d,t}$ : 日付$d$の時刻$t$における空気搬送ファン稼働時の集熱部の出口における空気温度(℃) / Air temperature at the outlet of the heat collection unit when the air conveyance fan is operating at time $ t $ at date $ d $  \n",
    "$\\theta_{ex,d,t}$ : 日付$d$の時刻$t$における外気温度(℃) / Outside temperature at time $ t $ of date $ d $  \n",
    "$\\rho_{air}$ : 空気の密度(kg/m<sup>3</sup>) / Air density   "
   ]
  },
  {
   "cell_type": "markdown",
   "metadata": {},
   "source": [
    "空気の密度$\\rho_{air}$は、1.20 kg/m<sup>3</sup> とする。空気の比熱$c_{p_{air}}$は、1.006 kJ/(kg・K)とする。 "
   ]
  },
  {
   "cell_type": "markdown",
   "metadata": {},
   "source": [
    "The density of air $ \\rho_ {air} $ is 1.20 kg / m<sup>3</sup>. The specific heat $ c_ {p_ {air}} $ of air is 1.006 kJ / (kg · K)."
   ]
  },
  {
   "cell_type": "code",
   "execution_count": null,
   "metadata": {},
   "outputs": [],
   "source": [
    "def get_Q_col_d_t(V_fan_d_t, Theta_col_opg_d_t, Theta_ex_d_t):\n",
    "    \"\"\"1時間当たりの集熱部における集熱量 (MJ/h) (19)\n",
    "\n",
    "    :param V_fan_d_t: 1時間当たりの空気搬送ファンの風量 (m3/h)\n",
    "    :type V_fan_d_t: ndarray\n",
    "    :param Theta_col_opg_d_t: 空気搬送ファン稼働時の集熱部の出口における空気温度 (℃)\n",
    "    :type Theta_col_opg_d_t: ndarray\n",
    "    :param Theta_ex_d_t: 外気温度 (℃)\n",
    "    :type Theta_ex_d_t: ndarray\n",
    "    :return: 1時間当たりの集熱部における集熱量 (MJ/h)\n",
    "    :rtype: ndarray\n",
    "    \"\"\"\n",
    "    # 空気の密度 [kg/m3]\n",
    "    ro_air = 1.20\n",
    "\n",
    "    # 空気の比熱 [kJ/(kgK)]\n",
    "    c_p_air = 1.006\n",
    "\n",
    "    # 1時間当たりの集熱部における集熱量 (MJ/h) (19)\n",
    "    Q_col_d_t = ro_air * c_p_air * V_fan_d_t * (Theta_col_opg_d_t - Theta_ex_d_t) * 10 ** (-3)\n",
    "\n",
    "    return Q_col_d_t\n"
   ]
  },
  {
   "cell_type": "markdown",
   "metadata": {},
   "source": [
    "#### 10.2　空気搬送ファン停止時の集熱部の出口における空気温度 / Air temperature at the outlet of the heat collector when the air conveyance fan stops"
   ]
  },
  {
   "cell_type": "markdown",
   "metadata": {},
   "source": [
    "$$\\large\n",
    "\\begin{equation*}\n",
    "   \\theta_{col,nonopg,d,t} = \\frac{\\displaystyle \\sum_{j=1}^{n} \\left( \\theta_{col,nonopg,j,d,t} \\times V_{col,j,d,t} \\right)}{\\displaystyle \\sum_{j=1}^{n} V_{col,j,d,t}}\n",
    "\\end{equation*}\n",
    "$$"
   ]
  },
  {
   "cell_type": "markdown",
   "metadata": {},
   "source": [
    "$n$ : 集熱器群の数(-) / Number of collectors  \n",
    "$V_{col,j,d,t}$ : 日付$d$の時刻$t$における空気集熱ファン稼働時に集熱器群$j$を流れる空気の体積流量(m<sup>3</sup>/h) / Volumetric flow of air flowing through the collectors $ j $ when the air collection fan is operating at time $ t $ on date $ d $  \n",
    "$\\theta_{col,nonopg,d,t}$ : 日付$d$の時刻$t$における空気搬送ファン停止時の集熱部の出口における空気温度(℃) / The air temperature at the outlet of the heat collector at the time when the air conveying fan stops at time $ t $ of date $ d $  \n",
    "$\\theta_{col,nonopg,j,d,t}$ : 日付$d$の時刻$t$における空気搬送ファン停止時の集熱器群$j$の出口における空気温度(℃) / Air temperature at the outlet of collectors $ j $ when the air conveying fan stops at time $ t $ of date $ d $  "
   ]
  },
  {
   "cell_type": "code",
   "execution_count": null,
   "metadata": {},
   "outputs": [],
   "source": [
    "def get_Theta_col_nonopg_d_t(Theta_col_nonopg_j_d_t, V_col_j_d_t):\n",
    "    \"\"\"空気搬送ファン停止時の集熱部の出口における空気温度 (℃) (20)\n",
    "\n",
    "    :param Theta_col_nonopg_j_d_t: 空気搬送ファン停止時の集熱器群ごとの出口における空気温度 (℃)\n",
    "    :type Theta_col_nonopg_j_d_t: ndarray\n",
    "    :param V_col_j_d_t: 空気搬送ファン稼働時に集熱器群ごとに流れる空気の体積流量 (m3/h)\n",
    "    :type V_col_j_d_t: ndarray\n",
    "    :return: 空気搬送ファン停止時の集熱部の出口における空気温度 (℃)\n",
    "    :rtype: ndarray\n",
    "    \"\"\"\n",
    "    # 集熱器群の数 (-)\n",
    "    n = Theta_col_nonopg_j_d_t.shape[0]\n",
    "\n",
    "    # 空気搬送ファン停止時の集熱部の出口における空気温度 (℃)\n",
    "    Theta_col_nonopg_d_t = (np.sum([Theta_col_nonopg_j_d_t[j] * V_col_j_d_t[j] for j in range(n)], axis=0)\n",
    "                            / np.sum([V_col_j_d_t[j] for j in range(n)], axis=0))\n",
    "\n",
    "    return Theta_col_nonopg_d_t"
   ]
  },
  {
   "cell_type": "markdown",
   "metadata": {},
   "source": [
    "#### 10.3　空気搬送ファン稼働時の集熱部の出口における空気温度 / Air temperature at the outlet of the heat collector when the air conveying fan is in operation"
   ]
  },
  {
   "cell_type": "markdown",
   "metadata": {},
   "source": [
    "$$\\large\n",
    "\\begin{equation*}\n",
    "   \\theta_{col,opg,d,t} = \\frac{\\displaystyle \\sum_{j=1}^{n} \\left( \\theta_{col,opg,j,d,t} \\times V_{col,j,d,t} \\right)}{\\displaystyle \\sum_{j=1}^{n} V_{col,j,d,t}}\n",
    "\\end{equation*}\n",
    "$$"
   ]
  },
  {
   "cell_type": "markdown",
   "metadata": {},
   "source": [
    "$n$ : 集熱器群の数(-) / Number of collectors  \n",
    "$V_{col,j,d,t}$ : 日付$d$の時刻$t$における空気集熱ファン稼働時に集熱器群$j$を流れる空気の体積流量(m<sup>3</sup>/h) / Volumetric flow of air flowing through the collectors $ j $ when the air collection fan is operating at time $ t $ on date $ d $  \n",
    "$\\theta_{col,opg,d,t}$ : 日付$d$の時刻$t$における空気搬送ファン稼働時の集熱部の出口における空気温度(℃) / Air temperature at the outlet of the heat collection unit when the air conveyance fan is operating at time $ t $ at date $ d $  \n",
    "$\\theta_{col,opg,j,d,t}$ : 日付$d$の時刻$t$における空気搬送ファン稼働時の集熱器群$j$の出口における空気温度(℃) / Air temperature at the outlet of collectors $ j $ when air conveying fan is in operation at time $ t $ on date $ d $  "
   ]
  },
  {
   "cell_type": "code",
   "execution_count": null,
   "metadata": {},
   "outputs": [],
   "source": [
    "def get_Theta_col_opg_d_t(Theta_col_opg_j_d_t, V_col_j_d_t):\n",
    "    \"\"\"空気搬送ファン稼働時の集熱部の出口における空気温度 (℃) (21)\n",
    "\n",
    "    :param Theta_col_opg_j_d_t: 空気搬送ファン稼働時の集熱器群ごとの出口における空気温度 (℃)\n",
    "    :type Theta_col_opg_j_d_t: ndarray\n",
    "    :param V_col_j_d_t: 空気搬送ファン稼働時に集熱器群ごとの空気の体積流量 (m3/h)\n",
    "    :type V_col_j_d_t: ndarray\n",
    "    :return: 空気搬送ファン稼働時の集熱部の出口における空気温度 (℃)\n",
    "    :rtype: ndarray\n",
    "    \"\"\"\n",
    "    # 集熱器群の数 (-)\n",
    "    n = Theta_col_opg_j_d_t.shape[0]\n",
    "\n",
    "    # 空気搬送ファン稼働時の集熱部の出口における空気温度 (℃) (21)\n",
    "    Theta_col_opg_d_t = (np.sum([Theta_col_opg_j_d_t[j] * V_col_j_d_t[j] for j in range(n)], axis=0)\n",
    "                         / np.sum([V_col_j_d_t[j] for j in range(n)], axis=0))\n",
    "\n",
    "    return Theta_col_opg_d_t"
   ]
  },
  {
   "cell_type": "markdown",
   "metadata": {},
   "source": [
    "#### 10.4　空気搬送ファン停止時の集熱器群の出口における空気温度 / Air temperature at the outlet of the heat collector group when the air conveying fan stops"
   ]
  },
  {
   "cell_type": "markdown",
   "metadata": {},
   "source": [
    "$$\\large\n",
    "\\begin{equation*}\n",
    "   \\theta_{col,nonopg,j,d,t} = \\frac{d_{0,j}}{d_{1,j}} ・ I_{s,j,d,t} + \\theta_{ex,d,t}\n",
    "\\end{equation*}\n",
    "$$"
   ]
  },
  {
   "cell_type": "markdown",
   "metadata": {},
   "source": [
    "$d_{0,j}$ : 集熱器群$j$を構成する集熱器の集熱効率特性線図一次近似式の切片(-) / Heat collection efficiency characteristic diagram of the collectors constituting the collector group $ j $ The intercept of the first-order approximation formula  \n",
    "$d_{1,j}$ : 集熱器群$j$を構成する集熱器の集熱効率特性線図一次近似式の傾き(W/(m<sup>2</sup>$\\cdot$K)) / Heat collection efficiency characteristic diagram of the heat collectors constituting the heat collector group $ j $ The inclination of the first-order approximation formula  \n",
    "$I_{s,j,d,t}$ : 日付$d$の時刻$t$における集熱器群$j$の単位面積当たりの平均日射量(W/m<sup>2</sup>) / Average solar radiation amount per unit area of collector $ j $ at time $ t $ of date $ d $  \n",
    "$\\theta_{ex,d,t}$ : 日付$d$の時刻$t$における外気温度(℃) / Outside temperature at time $ t $ of date $ d $  \n",
    "$\\theta_{col,nonopg,j,d,t}$ : 日付$d$の時刻$t$における空気搬送ファン停止時の集熱器群$j$の出口における空気温度(℃) / Air temperature at the outlet of collectors $ j $ when the air conveying fan stops at time $ t $ of date $ d $   "
   ]
  },
  {
   "cell_type": "code",
   "execution_count": null,
   "metadata": {},
   "outputs": [],
   "source": [
    "def calc_Theta_col_nonopg_j_d_t(P_alpha_j, P_beta_j, region, sol_region, Theta_ex_d_t, d0_j=None, d1_j=None):\n",
    "    \"\"\"空気搬送ファン停止時の集熱器群jの出口における空気温度 (℃) (22)\n",
    "\n",
    "    :param P_alpha_j: 方位角 (°)\n",
    "    :type P_alpha_j: float\n",
    "    :param P_beta_j: 傾斜角 (°)\n",
    "    :type P_beta_j: float\n",
    "    :param region: 省エネルギー地域区分\n",
    "    :type region: int\n",
    "    :param sol_region: 年間日射地域区分(1-5)\n",
    "    :type sol_region: int\n",
    "    :param Theta_ex_d_t: 外気温度 (℃)\n",
    "    :type Theta_ex_d_t: ndarray\n",
    "    :param d0_j: 集熱器群jを構成する集熱器の集熱効率特性線図一次近似式の切片 (-)\n",
    "    :type d0_j: float\n",
    "    :param d1_j: 集熱器群jを構成する集熱器の集熱効率特性線図一次近似式の傾き (W/(m2K))\n",
    "    :type d1_j: float\n",
    "    :return: 空気搬送ファン停止時の集熱器群jの出口における空気温度 (℃)\n",
    "    :rtype: ndarray\n",
    "    \"\"\"\n",
    "    # 日射量データの読み込み\n",
    "    from s11_02_solar_radiation import load_solrad  # , get_Theta_ex\n",
    "    solrad = load_solrad(region, sol_region)\n",
    "\n",
    "    # 単位面積当たりの平均日射量[W/m2]\n",
    "    I_s_j_d_t = calc_I_s_d_t(P_alpha_j, P_beta_j, solrad)\n",
    "\n",
    "    # 集熱効率特性線図一次近似式の切片および傾きの解決\n",
    "    if d0_j is None:\n",
    "        d0_j = get_d0_default()\n",
    "    if d1_j is None:\n",
    "        d1_j = get_d1_default()\n",
    "\n",
    "    # 空気搬送ファン停止時の集熱器群jの出口における空気温度(℃)\n",
    "    Theta_col_nonopg_j_d_t = d0_j / d1_j * I_s_j_d_t + Theta_ex_d_t\n",
    "\n",
    "    return Theta_col_nonopg_j_d_t"
   ]
  },
  {
   "cell_type": "markdown",
   "metadata": {},
   "source": [
    "#### 10.5　空気搬送ファン稼働時の集熱器群の出口における空気温度 / Air temperature at the outlet of the collector group when the air conveying fan is in operation"
   ]
  },
  {
   "cell_type": "markdown",
   "metadata": {},
   "source": [
    "$$\\large\n",
    "\\begin{equation*}\n",
    "   \\theta_{col,opg,j,d,t} = \\theta_{col,nonopg,j,d,t} + \\left( \\theta_{ex,d,t} - \\theta_{col,nonopg,j,d,t} \\right) \\times e^{- \\frac{U_{c,j} \\times A_{col,j}}{c_{p_{air}} \\times \\rho_{air} \\times V_{col,j,d,t} \\div 3600 \\times 10^{3}}}\n",
    "\\end{equation*}\n",
    "$$"
   ]
  },
  {
   "cell_type": "markdown",
   "metadata": {},
   "source": [
    "$A_{col,j}$ : 集熱器群$j$の面積(m<sup>2</sup>) / Area of ​​collectors $ j $  \n",
    "$c_{p_{air}}$ : 空気の比熱(kJ/(kg$\\cdot$K)) /  Specific heat of air  \n",
    "$U_{c,j}$ : 集熱器群$j$を構成する集熱器の集熱器総合熱損失係数(W/(m<sup>2</sup>$\\cdot$K)) /  Collector integrated heat loss coefficient of collectors constituting collector group $ j $  \n",
    "$V_{col,j,d,t}$ : 日付$d$の時刻$t$における空気集熱ファン稼働時に集熱器群$j$を流れる空気の体積流量(m<sup>3</sup>/h) /  Volumetric flow of air flowing through the collectors $ j $ when the air collection fan is operating at time $ t $ on date $ d $  \n",
    "$\\theta_{col,opg,j,d,t}$ : 日付$d$の時刻$t$における空気搬送ファン稼働時の集熱器群$j$の出口における空気温度(℃) /  Air temperature at the outlet of collectors $ j $ when air conveying fan is in operation at time $ t $ on date $ d $  \n",
    "$\\theta_{col,nonopg,j,d,t}$ : 日付$d$の時刻$t$における空気搬送ファン停止時の集熱器群$j$の出口における空気温度(℃) / Air temperature at the outlet of collectors $ j $ when the air conveying fan stops at time $ t $ on date $ d $  \n",
    "$\\theta_{ex,d,t}$ : 日付$d$の時刻$t$における外気温度(℃) /  Outside temperature at time $ t $ of date $ d $  \n",
    "$\\rho_{air}$ : 空気の密度(kg/m<sup>3</sup>) /  Air density  "
   ]
  },
  {
   "cell_type": "markdown",
   "metadata": {},
   "source": [
    "空気の密度$\\rho_{air}$は、1.20 kg/m<sup>3</sup> とする。空気の比熱$c_{p_{air}}$は、1.006 kJ/(kg・K)とする。 "
   ]
  },
  {
   "cell_type": "markdown",
   "metadata": {},
   "source": [
    "The density of air $ \\rho_ {air} $ is 1.20 kg / m<sup>3</sup>. The specific heat $ c_ {p_ {air}} $ of air is 1.006 kJ / (kg · K)."
   ]
  },
  {
   "cell_type": "code",
   "execution_count": null,
   "metadata": {},
   "outputs": [],
   "source": [
    "def get_Theta_col_opg_j_d_t(V_col_j_d_t, A_col_j, U_c_j, Theta_col_nonopg_j_d_t, Theta_ex_d_t):\n",
    "    \"\"\"空気搬送ファン稼働時の集熱器群jの出口における空気温度 (℃) (23)\n",
    "\n",
    "    :param V_col_j_d_t: 空気搬送ファン稼働時に集熱器群jを流れる空気の体積流量\n",
    "    :type V_col_j_d_t: ndarray\n",
    "    :param A_col_j: 集熱器群jの面積 (m2)\n",
    "    :type A_col_j: float\n",
    "    :param U_c_j: 集熱器群jを構成する集熱器の総合熱損失係数\n",
    "    :type U_c_j: float\n",
    "    :param Theta_col_nonopg_j_d_t: 空気搬送ファン停止時の集熱器群jの出口における空気温度 (℃)\n",
    "    :type Theta_col_nonopg_j_d_t: ndarray\n",
    "    :param Theta_ex_d_t: 外気温度 (℃)\n",
    "    :type Theta_ex_d_t: ndarray\n",
    "    :return: 空気搬送ファン稼働時の集熱器群jの出口における空気温度 (℃)\n",
    "    :rtype: ndarray\n",
    "    \"\"\"\n",
    "    # 空気の密度 [kg/m3]\n",
    "    ro_air = 1.20\n",
    "\n",
    "    # 空気の比熱 [kJ/(kgK)]\n",
    "    c_p_air = 1.006\n",
    "\n",
    "    # 空気搬送ファン稼働時の集熱器群jの出口における空気温度 (℃) (23)\n",
    "    Theta_col_opg_j_d_t = (Theta_col_nonopg_j_d_t + (Theta_ex_d_t - Theta_col_nonopg_j_d_t)\n",
    "                           * np.exp(- (U_c_j * A_col_j) / (c_p_air * ro_air * V_col_j_d_t / 3600 * 10 ** 3)))\n",
    "\n",
    "    return Theta_col_opg_j_d_t"
   ]
  },
  {
   "cell_type": "markdown",
   "metadata": {},
   "source": [
    "$$\\large\n",
    "\\begin{equation*}\n",
    "   V_{col,j,d,t} = V_{fan,P0} \\times \\frac{A_{col,j}}{\\displaystyle \\sum_{j=1}^{n} A_{col,j}}\n",
    "\\end{equation*}\n",
    "$$"
   ]
  },
  {
   "cell_type": "markdown",
   "metadata": {},
   "source": [
    "$A_{col,j}$ : 集熱器群$j$の面積(m<sup>2</sup>) /  Area of ​​collectors $ j $  \n",
    "$n$ : 集熱器群の数(-) /  Number of collectors  \n",
    "$V_{col,j,d,t}$ : 日付$d$の時刻$t$における空気集熱ファン稼働時に集熱器群$j$を流れる空気の体積流量(m<sup>3</sup>/h) /  Volumetric flow of air flowing through the collectors $ j $ when the air collection fan is operating at time $ t $ on date $ d $  \n",
    "$V_{fan,P0}$ : 空気搬送ファンの送風機特性曲線において機外静圧をゼロとした時の空気搬送ファンの風量(m<sup>3</sup>/h) /  Air flow rate of the air conveying fan when the static pressure outside the machine is zero in the fan characteristic curve of the air conveying fan  "
   ]
  },
  {
   "cell_type": "code",
   "execution_count": null,
   "metadata": {},
   "outputs": [],
   "source": [
    "def get_V_col_j_d_t(V_fan_P0_j, A_col_j, A_col):\n",
    "    \"\"\"空気搬送ファン稼働時に集熱器群jを流れる空気の体積流量 (m3/h) (24)\n",
    "\n",
    "    :param V_fan_P0_j: 空気搬送ファンの送風機特性曲線において機外静圧をゼロとしたときの空気搬送ファンの風量 (m3/h)\n",
    "    :type V_fan_P0_j: float\n",
    "    :param A_col_j: 集熱器群jの面積 (m2)\n",
    "    :type A_col_j: float\n",
    "    :param A_col: 集熱器群の面積 (m2)\n",
    "    :type A_col: tuple\n",
    "    :return: 空気搬送ファン稼働時に集熱器群jを流れる空気の体積流量 (m3/h)\n",
    "    :rtype: float\n",
    "    \"\"\"\n",
    "    V_col_j_d_t = V_fan_P0_j * A_col_j / sum(A_col)\n",
    "    return V_col_j_d_t"
   ]
  },
  {
   "cell_type": "markdown",
   "metadata": {},
   "source": [
    "$$\\large\n",
    "\\begin{equation*}\n",
    "   U_{c,j} = -c_{p_{air}} \\times \\dot{m}_{fan,test,j} \\times 10^{3} \\times ln \\left( 1 - \\frac{1}{c_{p_{air}} \\times \\dot{m}_{fan,test,j} \\times 10^{3}} \\times d_{1,j}  \\right)\n",
    "\\end{equation*}\n",
    "$$"
   ]
  },
  {
   "cell_type": "markdown",
   "metadata": {},
   "source": [
    "$c_{p_{air}}$ : 空気の比熱(kJ/(kg$\\cdot$K)) /  Specific heat of air  \n",
    "$d_{1,j}$ : 集熱器群$j$を構成する集熱器の集熱効率特性線図一次近似式の傾き(W/(m<sup>2</sup>$\\cdot$K)) /  Heat collection efficiency characteristic diagram of the heat collectors constituting the heat collector group $ j $ The inclination of the first-order approximation formula  \n",
    "$\\dot{m}_{fan,test,j}$ : 集熱器群$j$を構成する集熱器の集熱性能試験時における単位面積当たりの空気の質量流量(kg/(s$\\cdot$m<sup>2</sup>)) /  Mass flow rate of air per unit area during the heat collection performance test of the heat collectors constituting the heat collector group $ j $  \n",
    "$U_{c,j}$ : 集熱器群$j$を構成する集熱器の集熱器総合熱損失係数(W/(m<sup>2</sup>$\\cdot$K)) /  Collector integrated heat loss coefficient of collectors constituting collector group $ j $  "
   ]
  },
  {
   "cell_type": "markdown",
   "metadata": {},
   "source": [
    "空気の比熱$c_{p_{air}}$は、1.006 kJ/(kg・K)とする。 "
   ]
  },
  {
   "cell_type": "markdown",
   "metadata": {},
   "source": [
    "The specific heat $ c_ {p_ {air}} $ of air is 1.006 kJ / (kg · K)."
   ]
  },
  {
   "cell_type": "code",
   "execution_count": null,
   "metadata": {},
   "outputs": [],
   "source": [
    "def get_U_c_j(m_fan_test_j=None, d1_j=None):\n",
    "    \"\"\"集熱器群jを構成する集熱器の総合熱損失係数 (25)\n",
    "\n",
    "    :param m_fan_test_j: 集熱器群jを構成する集熱器の集熱性能試験時における単位面積当たりの空気の質量流量 (kg/(s・m2))\n",
    "    :type m_fan_test_j: float\n",
    "    :param d1_j: 集熱器群jを構成する集熱器の集熱効率特性線図一次近似式の傾き (W/m2K)\n",
    "    :type d1_j: float\n",
    "    :return: 集熱器群jを構成する集熱器の総合熱損失係数\n",
    "    :rtype: float\n",
    "    \"\"\"\n",
    "    # 空気の比熱 [kJ/(kgK)]\n",
    "    c_p_air = 1.006\n",
    "\n",
    "    if m_fan_test_j is None:\n",
    "        m_fan_test_j = 0.0107\n",
    "    if d1_j is None:\n",
    "        d1_j = 2.0\n",
    "\n",
    "    # 集熱器群jを構成する集熱器の総合熱損失係数 (25)\n",
    "    U_c_j = - c_p_air * m_fan_test_j * 10 ** 3 * np.log(1 - 1 / (c_p_air * m_fan_test_j * 10 ** 3) * d1_j)\n",
    "\n",
    "    return U_c_j\n"
   ]
  },
  {
   "cell_type": "markdown",
   "metadata": {},
   "source": [
    "集熱効率特性線図一次近似式の切片$d_{0,j}$、傾き$d_{1,j}$および集熱性能試験時における単位面積当たりの空気の質量流量は、これら全てを JIS A 4112 または SS－TS010 が定める集熱性能試験により得られる値とするか、集熱効率特性線図一次近似式の切片$d_{0,j}$に 0.1、傾き$d_{1,j}$に 2.0 W/(m<sup>2</sup>・K)、集熱性能試験時における単位面積当たりの空気の質量流量$\\dot{m}_{fan,test,j}$に 0.0107 kg/(s・m<sup>2</sup>)を用いることができる。"
   ]
  },
  {
   "cell_type": "markdown",
   "metadata": {},
   "source": [
    "The intercept $ d_ {0, j} $, slope $ d_ {1, j} $ and mass flow rate of air per unit area at the time of heat collection performance test of the heat collection efficiency characteristic diagram linear approximation formula are all JIS A The value obtained by the heat collection performance test determined by 4112 or SS-TS010, or the intercept of the heat collection efficiency characteristic diagram linear approximation formula $ d_ {0, j} $ 0.1, slope $ d_ {1, j} $ The mass flow rate of air per unit area at 2.0 W / (m<sup>2</sup> · K) and the heat collection performance test $ \\dot {m} _ {fan, test, j} $ 0.0107 kg / (s · m<sup>2</sup>) can be used."
   ]
  },
  {
   "cell_type": "code",
   "execution_count": null,
   "metadata": {},
   "outputs": [],
   "source": [
    "def get_d0_default():\n",
    "    \"\"\"集熱効率特性線図一次近似式の切片(規定値)[-]\n",
    "\n",
    "    :return: 集熱効率特性線図一次近似式の切片(規定値)[-]\n",
    "    :rtype: float\n",
    "    \"\"\"\n",
    "    return 0.1\n",
    "\n",
    "\n",
    "def get_d1_default():\n",
    "    \"\"\"集熱効率特性線図一次近似式の傾き(規定値)[m2K]\n",
    "\n",
    "    :return: 集熱効率特性線図一次近似式の傾き(規定値)[m2K]\n",
    "    :rtype: float\n",
    "    \"\"\"\n",
    "    return 2.0"
   ]
  }
 ],
 "metadata": {
  "kernelspec": {
   "display_name": "Python 3",
   "language": "python",
   "name": "python3"
  },
  "language_info": {
   "codemirror_mode": {
    "name": "ipython",
    "version": 3
   },
   "file_extension": ".py",
   "mimetype": "text/x-python",
   "name": "python",
   "nbconvert_exporter": "python",
   "pygments_lexer": "ipython3",
   "version": "3.6.6"
  },
  "toc": {
   "base_numbering": 1,
   "nav_menu": {},
   "number_sections": false,
   "sideBar": true,
   "skip_h1_title": false,
   "title_cell": "Table of Contents",
   "title_sidebar": "Contents",
   "toc_cell": false,
   "toc_position": {},
   "toc_section_display": true,
   "toc_window_display": false
  }
 },
 "nbformat": 4,
 "nbformat_minor": 2
}
