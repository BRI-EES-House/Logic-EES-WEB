{
 "cells": [
  {
   "cell_type": "markdown",
   "metadata": {},
   "source": [
    "# Chapter VI Lighting System / 照明設備"
   ]
  },
  {
   "cell_type": "markdown",
   "metadata": {},
   "source": [
    "## 1. Introduction"
   ]
  },
  {
   "cell_type": "markdown",
   "metadata": {},
   "source": [
    "## Electric Power of Lighting System / 照明設備の消費電力量"
   ]
  },
  {
   "cell_type": "markdown",
   "metadata": {},
   "source": [
    "The hourly electric power of lighting system $E_{E,L}$ is calculated by the equation below.  \n",
    "If there is no other room, $E_{E,L,OR}$ is set to 0. Likewise, $E_{E,L,NO}$ is set to be 0 if there is no non-room."
   ]
  },
  {
   "cell_type": "markdown",
   "metadata": {},
   "source": [
    "$$\n",
    "E_{E,L} = E_{E,L,MR} + E_{E,L,OR} + E_{E,L,NO}\n",
    "$$"
   ]
  },
  {
   "cell_type": "markdown",
   "metadata": {},
   "source": [
    "Where  \n",
    "$E_{E,L}$ is the hourly electric power of lighting system. / 1 時間当たりの照明設備の消費電力量(kWh/h)  \n",
    "$E_{E,L,MR}$ is the hourly electric power of lighting system in the main room. / 1 時間当たりの主たる居室の照明設備の消費電力量(kWh/h)  \n",
    "$E_{E,L,OR}$ is the hourly electric power of lighting system in other rooms. / 1 時間当たりのその他の居室の照明設備の消費電力量(kWh/h)  \n",
    "$E_{E,L,NO}$ is the hourly electric power of lighting system of non-room. / 1 時間当たりの非居室の照明設備の消費電力量(kWh/h)"
   ]
  },
  {
   "cell_type": "code",
   "execution_count": 1,
   "metadata": {},
   "outputs": [],
   "source": [
    "def get_E_E_L(_E_E_L_MR, _E_E_L_OR, _E_E_L_NO):\n",
    "    return _E_E_L_MR + _E_E_L_OR + _E_E_L_NO"
   ]
  },
  {
   "cell_type": "markdown",
   "metadata": {},
   "source": [
    "### 1) Main room / 主たる居室"
   ]
  },
  {
   "cell_type": "markdown",
   "metadata": {},
   "source": [
    "The hourly electric power of lighting system in the main room $E_{E,L,MR}$ is calculated by the equation below."
   ]
  },
  {
   "cell_type": "markdown",
   "metadata": {},
   "source": [
    "$$\n",
    "\\displaystyle\n",
    "E_{E,L,MR} = \\left\\{ \\begin{array}{ll}\n",
    "    E_{E,L,MR,p}|_{p=1} \\times \\frac{2 - n_p}{2 - 1} +  E_{E,L,MR,p}|_{p=2} \\times \\frac{n_p - 1}{2 - 1} & (1 \\leq n_p < 2)\\\\ \n",
    "    E_{E,L,MR,p}|_{p=2} \\times \\frac{3 - n_p}{3 - 2} +  E_{E,L,MR,p}|_{p=3} \\times \\frac{n_p - 2}{3 - 2} & (2 \\leq n_p < 3)\\\\ \n",
    "    E_{E,L,MR,p}|_{p=3} \\times \\frac{4 - n_p}{4 - 3} +  E_{E,L,MR,p}|_{p=4} \\times \\frac{n_p - 3}{4 - 3} & (3 \\leq n_p \\leq 4)\\\\ \n",
    "    \\end{array}\n",
    "\\right.\n",
    "$$"
   ]
  },
  {
   "cell_type": "markdown",
   "metadata": {},
   "source": [
    "Where  \n",
    "$E_{E,L,MR,p}$ is the hourly electric power of lighting system in the main room with $p$ resident people. / 1 時間当たりの居住人数が𝑝人における主たる居室の照明設備の消費電力量(kWh/h)  \n",
    "$n_p$ is the virtual resident number. / 仮想居住人数"
   ]
  },
  {
   "cell_type": "code",
   "execution_count": 3,
   "metadata": {},
   "outputs": [],
   "source": [
    "def get_E_E_L_MR(n_p, _E_E_L_MR_p, day, hour):\n",
    "    if 1 <= n_p < 2:\n",
    "        return _E_E_L_MR_p('p1', day, hour) * (2 - n_p) / (2 - 1) + _E_E_L_MR_p('p2', day, hour) * (n_p - 1) / (2 - 1)\n",
    "    elif 2 <= n_p < 3:\n",
    "        return _E_E_L_MR_p('p2', day, hour) * (3 - n_p) / (3 - 2) + _E_E_L_MR_p('p3', day, hour) * (n_p - 2) / (3 - 2)\n",
    "    elif 3 <= n_p <= 4:\n",
    "        return _E_E_L_MR_p('p3', day, hour) * (4 - n_p) / (4 - 3) + _E_E_L_MR_p('p4', day, hour) * (n_p - 3) / (4 - 3)\n",
    "    else:\n",
    "        raise Exception('Number of person should be between 1 and 4 persons.')"
   ]
  },
  {
   "cell_type": "markdown",
   "metadata": {},
   "source": [
    "The hourly electric power of lighting system in the main room with $p$ resident people $E_{E,L,MR,p}$ is calculated by the equation below."
   ]
  },
  {
   "cell_type": "markdown",
   "metadata": {},
   "source": [
    "$$\n",
    "E_{E,L,MR,p} = \\sum_{i = 1\\sim3} E_{E,L,i,p}\n",
    "$$"
   ]
  },
  {
   "cell_type": "markdown",
   "metadata": {},
   "source": [
    "Where  \n",
    "$E_{E,L,i,p}$ is the hourly electric power of lighting system installed in lighting section $i$ with $p$ resident people. /  1 時間当たりの居住人数が$p$人における照明区画$i$に設置された照明設備の消費電力量(kWh/h)  "
   ]
  },
  {
   "cell_type": "code",
   "execution_count": 4,
   "metadata": {},
   "outputs": [],
   "source": [
    "def get_E_E_L_MR_p(_E_E_L_i_p):\n",
    "    return sum([value if 1 <= i <= 3 else 0 for i,value in enumerate(_E_E_L_i_p)])\n",
    "    "
   ]
  },
  {
   "cell_type": "markdown",
   "metadata": {},
   "source": [
    "#### Example"
   ]
  },
  {
   "cell_type": "code",
   "execution_count": 5,
   "metadata": {},
   "outputs": [
    {
     "data": {
      "text/plain": [
       "9"
      ]
     },
     "execution_count": 5,
     "metadata": {},
     "output_type": "execute_result"
    }
   ],
   "source": [
    "get_E_E_L_MR_p([1,2,3,4,5,6,7,8,9,10])"
   ]
  },
  {
   "cell_type": "markdown",
   "metadata": {},
   "source": [
    "## （注）リストの要素の開始番号に注意してコーディングする。"
   ]
  },
  {
   "cell_type": "markdown",
   "metadata": {},
   "source": [
    "### 2) Other rooms / その他の居室"
   ]
  },
  {
   "cell_type": "markdown",
   "metadata": {},
   "source": [
    "The hourly electric power of lighting system in other rooms $E_{E,L,OR}$ is calculated by the equation below."
   ]
  },
  {
   "cell_type": "markdown",
   "metadata": {},
   "source": [
    "$$\n",
    "\\displaystyle\n",
    "E_{E,L,OR} = \\left\\{ \\begin{array}{ll}\n",
    "    E_{E,L,OR,p}|_{p=1} \\times \\frac{2 - n_p}{2 - 1} +  E_{E,L,OR,p}|_{p=2} \\times \\frac{n_p - 1}{2 - 1} & (1 \\leq n_p < 2)\\\\ \n",
    "    E_{E,L,OR,p}|_{p=2} \\times \\frac{3 - n_p}{3 - 2} +  E_{E,L,OR,p}|_{p=3} \\times \\frac{n_p - 2}{3 - 2} & (2 \\leq n_p < 3)\\\\ \n",
    "    E_{E,L,OR,p}|_{p=3} \\times \\frac{4 - n_p}{4 - 3} +  E_{E,L,OR,p}|_{p=4} \\times \\frac{n_p - 3}{4 - 3} & (3 \\leq n_p \\leq 4)\\\\ \n",
    "    \\end{array}\n",
    "\\right.\n",
    "$$"
   ]
  },
  {
   "cell_type": "markdown",
   "metadata": {},
   "source": [
    "Where  \n",
    "$E_{E,L,OR,p}$ is the hourly electric power of lighting system in other rooms with $p$ resident people. / 1 時間当たりの居住人数が𝑝人におけるその他の居室の照明設備の消費電力量(kWh/h)  \n",
    "$n_p$ is the virtual resident number. / 仮想居住人数"
   ]
  },
  {
   "cell_type": "markdown",
   "metadata": {},
   "source": [
    "The hourly electric power of lighting system in other rooms with $p$ resident people $E_{E,L,OR,p}$ is calculated by the equation below."
   ]
  },
  {
   "cell_type": "markdown",
   "metadata": {},
   "source": [
    "$$\n",
    "E_{E,L,OR,p} = \\sum_{i = 4\\sim7} E_{E,L,i,p}\n",
    "$$"
   ]
  },
  {
   "cell_type": "markdown",
   "metadata": {},
   "source": [
    "Where  \n",
    "$E_{E,L,i,p}$ is the hourly electric power of lighting system installed in lighting section $i$ with $p$ resident people. /  1 時間当たりの居住人数が$p$人における照明区画$i$に設置された照明設備の消費電力量(kWh/h)  "
   ]
  },
  {
   "cell_type": "markdown",
   "metadata": {},
   "source": [
    "### 3) Non-room / 非居室"
   ]
  },
  {
   "cell_type": "markdown",
   "metadata": {},
   "source": [
    "The hourly electric power of lighting system of non-room $E_{E,L,NO}$ is calculated by the equation below."
   ]
  },
  {
   "cell_type": "markdown",
   "metadata": {},
   "source": [
    "$$\n",
    "\\displaystyle\n",
    "E_{E,L,NO} = \\left\\{ \\begin{array}{ll}\n",
    "    E_{E,L,NO,p}|_{p=1} \\times \\frac{2 - n_p}{2 - 1} +  E_{E,L,NO,p}|_{p=2} \\times \\frac{n_p - 1}{2 - 1} & (1 \\leq n_p < 2)\\\\ \n",
    "    E_{E,L,NO,p}|_{p=2} \\times \\frac{3 - n_p}{3 - 2} +  E_{E,L,NO,p}|_{p=3} \\times \\frac{n_p - 2}{3 - 2} & (2 \\leq n_p < 3)\\\\ \n",
    "    E_{E,L,NO,p}|_{p=3} \\times \\frac{4 - n_p}{4 - 3} +  E_{E,L,NO,p}|_{p=4} \\times \\frac{n_p - 3}{4 - 3} & (3 \\leq n_p \\leq 4)\\\\ \n",
    "    \\end{array}\n",
    "\\right.\n",
    "$$"
   ]
  },
  {
   "cell_type": "markdown",
   "metadata": {},
   "source": [
    "Where  \n",
    "$E_{E,L,NO,p}$ is the hourly electric power of lighting system of non-room with $p$ resident people. / 1 時間当たりの居住人数が𝑝人におけるる非居室の照明設備の消費電力量(kWh/h)  \n",
    "$n_p$ is the virtual resident number. / 仮想居住人数"
   ]
  },
  {
   "cell_type": "markdown",
   "metadata": {},
   "source": [
    "The hourly electric power of lighting system of non-room with $p$ resident people $E_{E,L,NO,p}$ is calculated by the equation below."
   ]
  },
  {
   "cell_type": "markdown",
   "metadata": {},
   "source": [
    "$$\n",
    "E_{E,L,NO,p} = \\sum_{i = 8\\sim18} E_{E,L,i,p} + E_{E,L,port,p}\n",
    "$$"
   ]
  },
  {
   "cell_type": "markdown",
   "metadata": {},
   "source": [
    "Where  \n",
    "$E_{E,L,i,p}$ is the hourly electric power of lighting system installed in lighting section $i$ with $p$ resident people. /  1 時間当たりの居住人数が$p$人における照明区画$i$に設置された照明設備の消費電力量(kWh/h)  \n",
    "$E_{E,L,port,p}$ is the hourly electric power of lighting system installed in the entrance pouch with $p$ resident people. /  1 時間当たりの居住人数が$p$人における玄関ポーチに設置された照明設備の消費電力量(kWh/h)  "
   ]
  },
  {
   "cell_type": "markdown",
   "metadata": {},
   "source": [
    "##  Lighting system installed in the lighting section / 照明区画に設置された照明設備"
   ]
  },
  {
   "cell_type": "markdown",
   "metadata": {},
   "source": [
    "### 1) Power / 消費電力量"
   ]
  },
  {
   "cell_type": "markdown",
   "metadata": {},
   "source": [
    "The hourly electric power of lighting system installed in lighting section $i$ with $p$ resident people $E_{E,L,i,p}$ is calculated by the equation below."
   ]
  },
  {
   "cell_type": "markdown",
   "metadata": {},
   "source": [
    "$$\n",
    "E_{E,L,i,p} = (F_i \\div Le_i \\times Ce_i) \\times Cd_i \\times Cs_i \\times Cm_i \\times Ci_i \\times 10^{-3} \\times r_{i,p}\n",
    "$$"
   ]
  },
  {
   "cell_type": "markdown",
   "metadata": {},
   "source": [
    "Where  \n",
    "$E_{E,L,i,p}$ is the hourly electric power of lighting system installed in lighting section $i$ with $p$ resident people. / 1時間当たりの居住人数が$p$人における照明区画$i$に設置された照明設備の消費電力量(kWh/h)  \n",
    "$F_i$ is the indoor luminous flux in lighting section $i$. / 照明区画$i$における室内光束(lm)  \n",
    "$Le_i$ is the average overall efficiency of lighting system installed in lighting section $i$. / 照明区画$i$に設置された照明設備の平均総合効率(lm/W)  \n",
    "$Ce_i$ is the correction factor by special condition of lighting system installed in lighting section $i$. / 照明区画$i$に設置された照明設備の特殊条件による補正係数  \n",
    "$Cd_i$ is the correction factor by dimming of lighting system installed in lighting section $i$. / 照明区画$i$に設置された照明設備の調光による補正係数  \n",
    "$Cs_i$ is the correction factor by human sensor of lighting system installed in lighting section $i$. / 照明区画$i$に設置された照明設備の人感センサーによる補正係数  \n",
    "$Cm_i$ is the correction factor by multi-light distributed lighting system of lighting system installed in lighting section $i$. / 照明区画$i$に設置された照明設備の多灯分散照明方式による補正係数  \n",
    "$Ci_i$ is the correction factor by initial illumination correction control of lighting system installed in lighting section $i$. / 照明区画$i$に設置された照明設備の初期照度補正制御による補正係数  \n",
    "$r_{i,p}$ is the usage time ratio of lighting system installed in lighting section $i$ with $p$ resident people. / 居住人数が$p$人の場合の照明区画$i$に設置された照明設備の使用時間率"
   ]
  },
  {
   "cell_type": "markdown",
   "metadata": {},
   "source": [
    "### 2) Indoor luminous flux / 室内光束"
   ]
  },
  {
   "cell_type": "markdown",
   "metadata": {},
   "source": [
    "The indoor luminous flux in lighting section $i$ $F_i$ is calculated by the equation below, depending on the type of the lighting fixture.  "
   ]
  },
  {
   "cell_type": "markdown",
   "metadata": {},
   "source": [
    "When the type of the lighting fixture is a diffusive light distribution instrument:"
   ]
  },
  {
   "cell_type": "markdown",
   "metadata": {},
   "source": [
    "$$\n",
    "F_{i} = (232 \\times (A_{LZ,i} \\div 1.65) + 817) \\times (E_i \\div 50)\n",
    "$$"
   ]
  },
  {
   "cell_type": "markdown",
   "metadata": {},
   "source": [
    "When the type of the lighting fixture is a widely shining light distribution device:"
   ]
  },
  {
   "cell_type": "markdown",
   "metadata": {},
   "source": [
    "$$\n",
    "F_{i} = (177 \\times (A_{LZ,i} \\div 1.65) + 369) \\times (E_i \\div 50)\n",
    "$$"
   ]
  },
  {
   "cell_type": "markdown",
   "metadata": {},
   "source": [
    "Where  \n",
    "$A_{LZ,i}$ is the floor space in lighting section $i$. / 照明区画$i$の床面積(m<sup>2</sup>)  \n",
    "$E_i$ is the design illuminance in lighting section $i$. / 照明区画$i$の設計照度(lx)  "
   ]
  },
  {
   "cell_type": "markdown",
   "metadata": {},
   "source": [
    "The floor space in lighting section $i$ $A_{LZ,i}$ is calculated according to Appendix A.  \n",
    "The type of lighting fixture installed in  the lighting section $i$ and the design illuminance of the lighting section $i$ $E_i$ are from Table 3."
   ]
  },
  {
   "cell_type": "markdown",
   "metadata": {},
   "source": [
    "<center>**Table 3. Types of lighting fixtures and design illuminance**</center>  \n",
    "  \n",
    "|Number of lighting section $i$|Types of luminaires|The design illuminance $E_i$(lx)|\n",
    "|:---:|:---:|:---:|\n",
    "|1|Diffuse light distribution device<br>拡散配光器具|100|\n",
    "|2|Diffuse light distribution device<br>拡散配光器具|100|\n",
    "|3|Diffuse light distribution device<br>拡散配光器具|100|\n",
    "|4|Diffuse light distribution device<br>拡散配光器具|100|\n",
    "|5|Diffuse light distribution device<br>拡散配光器具|100|\n",
    "|6|Diffuse light distribution device<br>拡散配光器具|100|\n",
    "|7|Diffuse light distribution device<br>拡散配光器具|100|\n",
    "|8|Diffuse light distribution device<br>拡散配光器具|100|\n",
    "|9|Diffuse light distribution device<br>拡散配光器具|50|\n",
    "|10|Widely shining light distribution device<br>広照配光器具|50|\n",
    "|11|Diffuse light distribution device<br>拡散配光器具|50|\n",
    "|12|Widely shining light distribution device<br>広照配光器具|50|\n",
    "|13|Diffuse light distribution device<br>拡散配光器具|50|\n",
    "|14|Diffuse light distribution device<br>拡散配光器具|50|\n",
    "|15|Widely shining light distribution device<br>広照配光器具|50|\n",
    "|16|Widely shining light distribution device<br>広照配光器具|100|\n",
    "|17|Widely shining light distribution device<br>広照配光器具|50|\n",
    "|18|Diffuse light distribution device<br>拡散配光器具|50|\n"
   ]
  },
  {
   "cell_type": "markdown",
   "metadata": {},
   "source": [
    "### 3) Average overall efficiency / 平均総合効率"
   ]
  },
  {
   "cell_type": "markdown",
   "metadata": {},
   "source": [
    "\n",
    "#### 3.1) Main room / 主たる居室"
   ]
  },
  {
   "cell_type": "markdown",
   "metadata": {},
   "source": [
    "The average overall efficiency of the lighting system installed in the lighting section $i$ of the main room $Le_i(i = 1\\sim3)$ is from Table 4."
   ]
  },
  {
   "cell_type": "markdown",
   "metadata": {},
   "source": [
    "<center>**Table 4. The average overall efficiency of the lighting system installed in the lighting section $i$ of the main room**</center>  \n",
    "\n",
    "<table>\n",
    "<thead>\n",
    "    <tr>\n",
    "        <th style=\"text-align: center;\">Number of lighting section $i$</th>\n",
    "        <th width=\"28%\" style=\"text-align: center;vertical-align: top;\"><em>(I)</em> When one or more lighting systems are installed in the main room and LEDs are used in all the lighting systems</th>\n",
    "        <th width=\"28%\" style=\"text-align: center;vertical-align: top;\"><em>(RO)</em> When one or more lighting systems are installed in the main room and all these lighting systems are using other than incandescent lamps (except in the case of using LEDs in all lighting systems)</th>\n",
    "        <th width=\"28%\" style=\"text-align: center;vertical-align: top;\"><em>(HA)</em> When one or more lighting systems are installed in the main room and incandescent lamps are used in one of the lighting systems</th>\n",
    "    </tr>\n",
    "</thead>\n",
    "<tbody>\n",
    "    <tr>\n",
    "        <th>1</th>\n",
    "        <td>90.0</td>\n",
    "        <td>70.0</td>\n",
    "        <td>42.5</td>\n",
    "    </tr>\n",
    "    <tr>\n",
    "        <th>2</th>\n",
    "        <td>90.0</td>\n",
    "        <td>70.0</td>\n",
    "        <td>15.0</td>\n",
    "    </tr>\n",
    "    <tr>\n",
    "        <th>3</th>\n",
    "        <td>90.0</td>\n",
    "        <td>70.0</td>\n",
    "        <td>42.5</td>\n",
    "    </tr>\n",
    "</tbody>\n",
    "</table>"
   ]
  },
  {
   "cell_type": "markdown",
   "metadata": {},
   "source": [
    "When lighting system is not installed in the main room, the average overall efficiency in the <em>(HA)</em> column of Table 4 shall be used.  \n",
    "For hand lights in the range hood installed in the kitchen in the main room, since there are only a few products with appliances other than incandescent lamps installed, it is not subject to evaluation for the time being."
   ]
  },
  {
   "cell_type": "markdown",
   "metadata": {},
   "source": [
    "#### 3.2) Other rooms / その他の居室"
   ]
  },
  {
   "cell_type": "markdown",
   "metadata": {},
   "source": [
    "The average overall efficiency of the lighting system installed in the lighting section $i$ of other rooms $Le_i(i = 4\\sim7)$ is from Table 5."
   ]
  },
  {
   "cell_type": "markdown",
   "metadata": {},
   "source": [
    "<center>**Table 5. The average overall efficiency of the lighting system installed in the lighting section $i$ of other rooms**</center>  \n",
    "\n",
    "<table>\n",
    "<thead>\n",
    "    <tr>\n",
    "        <th style=\"text-align: center;\">Number of lighting section $i$</th>\n",
    "        <th width=\"28%\" style=\"text-align: center;vertical-align: top;\"><em>(I)</em> When one or more lighting systems are installed in other rooms and LEDs are used in all the lighting systems</th>\n",
    "        <th width=\"28%\" style=\"text-align: center;vertical-align: top;\"><em>(RO)</em> When one or more lighting systems are installed in other rooms and all these lighting systems are using other than incandescent lamps (except in the case of using LEDs in all lighting systems)</th>\n",
    "        <th width=\"28%\" style=\"text-align: center;vertical-align: top;\"><em>(HA)</em> When one or more lighting systems are installed in other rooms and incandescent lamps are used in one of the lighting systems</th>\n",
    "    </tr>\n",
    "</thead>\n",
    "<tbody>\n",
    "    <tr>\n",
    "        <th>4</th>\n",
    "        <td>90.0</td>\n",
    "        <td>70.0</td>\n",
    "        <td>42.5</td>\n",
    "    </tr>\n",
    "    <tr>\n",
    "        <th>5</th>\n",
    "        <td>90.0</td>\n",
    "        <td>70.0</td>\n",
    "        <td>42.5</td>\n",
    "    </tr>\n",
    "    <tr>\n",
    "        <th>6</th>\n",
    "        <td>90.0</td>\n",
    "        <td>70.0</td>\n",
    "        <td>42.5</td>\n",
    "    </tr>\n",
    "    <tr>\n",
    "        <th>7</th>\n",
    "        <td>90.0</td>\n",
    "        <td>70.0</td>\n",
    "        <td>42.5</td>\n",
    "    </tr>\n",
    "</tbody>\n",
    "</table>"
   ]
  },
  {
   "cell_type": "markdown",
   "metadata": {},
   "source": [
    "When lighting system is not installed in other rooms, the average overall efficiency in the <em>(HA)</em> column of Table 5 shall be used."
   ]
  },
  {
   "cell_type": "markdown",
   "metadata": {},
   "source": [
    "#### 3.3) Non-room / 非居室"
   ]
  },
  {
   "cell_type": "markdown",
   "metadata": {},
   "source": [
    "The average overall efficiency of the lighting system installed in the lighting section $i$ of non-room $Le_i(i = 8\\sim18)$ is from Table 6."
   ]
  },
  {
   "cell_type": "markdown",
   "metadata": {},
   "source": [
    "<center>**Table 6. The average overall efficiency of the lighting system installed in the lighting section $i$ of non-room**</center>  \n",
    "\n",
    "<table>\n",
    "<thead>\n",
    "    <tr>\n",
    "        <th style=\"text-align: center;\">Number of lighting section $i$</th>\n",
    "        <th width=\"28%\" style=\"text-align: center;vertical-align: top;\"><em>(I)</em> When one or more lighting systems are installed in non-room and LEDs are used in all the lighting systems</th>\n",
    "        <th width=\"28%\" style=\"text-align: center;vertical-align: top;\"><em>(RO)</em> When one or more lighting systems are installed in non-room and all these lighting systems are using other than incandescent lamps (except in the case of using LEDs in all lighting systems)</th>\n",
    "        <th width=\"28%\" style=\"text-align: center;vertical-align: top;\"><em>(HA)</em> When one or more lighting systems are installed in non-room and incandescent lamps are used in one of the lighting systems</th>\n",
    "    </tr>\n",
    "</thead>\n",
    "<tbody>\n",
    "    <tr>\n",
    "        <th>8</th>\n",
    "        <td>90.0</td>\n",
    "        <td>70.0</td>\n",
    "        <td>70.0</td>\n",
    "    </tr>\n",
    "    <tr>\n",
    "        <th>9</th>\n",
    "        <td>90.0</td>\n",
    "        <td>70.0</td>\n",
    "        <td>15.0</td>\n",
    "    </tr>\n",
    "    <tr>\n",
    "        <th>10</th>\n",
    "        <td>90.0</td>\n",
    "        <td>70.0</td>\n",
    "        <td>15.0</td>\n",
    "    </tr>\n",
    "    <tr>\n",
    "        <th>11</th>\n",
    "        <td>90.0</td>\n",
    "        <td>70.0</td>\n",
    "        <td>15.0</td>\n",
    "    </tr>\n",
    "    <tr>\n",
    "        <th>12</th>\n",
    "        <td>90.0</td>\n",
    "        <td>70.0</td>\n",
    "        <td>15.0</td>\n",
    "    </tr>\n",
    "    <tr>\n",
    "        <th>13</th>\n",
    "        <td>90.0</td>\n",
    "        <td>70.0</td>\n",
    "        <td>15.0</td>\n",
    "    </tr>\n",
    "    <tr>\n",
    "        <th>14</th>\n",
    "        <td>90.0</td>\n",
    "        <td>70.0</td>\n",
    "        <td>15.0</td>\n",
    "    </tr>\n",
    "    <tr>\n",
    "        <th>15</th>\n",
    "        <td>90.0</td>\n",
    "        <td>70.0</td>\n",
    "        <td>15.0</td>\n",
    "    </tr>\n",
    "    <tr>\n",
    "        <th>16</th>\n",
    "        <td>90.0</td>\n",
    "        <td>70.0</td>\n",
    "        <td>70.0</td>\n",
    "    </tr>\n",
    "    <tr>\n",
    "        <th>17</th>\n",
    "        <td>90.0</td>\n",
    "        <td>70.0</td>\n",
    "        <td>15.0</td>\n",
    "    </tr>\n",
    "    <tr>\n",
    "        <th>18</th>\n",
    "        <td>90.0</td>\n",
    "        <td>70.0</td>\n",
    "        <td>15.0</td>\n",
    "    </tr>\n",
    "</tbody>\n",
    "</table>"
   ]
  },
  {
   "cell_type": "markdown",
   "metadata": {},
   "source": [
    "When lighting system is not installed in non-room, the average overall efficiency in the <em>(RO)</em> column of Table 6 shall be used."
   ]
  },
  {
   "cell_type": "markdown",
   "metadata": {},
   "source": [
    "### 4) Correction factor by special condition / 特殊条件による補正係数"
   ]
  },
  {
   "cell_type": "markdown",
   "metadata": {},
   "source": [
    "The correction factor by special condition of the lighting system installed in the lighting section $i$ $Ce_i$ is from Table 7."
   ]
  },
  {
   "cell_type": "markdown",
   "metadata": {},
   "source": [
    "<center>**Table 7. The correction factor by special condition of the lighting system installed in the lighting section $i$**</center>  \n",
    "\n",
    "<table>\n",
    "<thead>\n",
    "    <tr>\n",
    "        <th style=\"text-align: center;\">Number of lighting section $i$</th>\n",
    "        <th style=\"text-align: center;\">The correction factor by special condition</th>\n",
    "    </tr>\n",
    "</thead>\n",
    "<tbody>\n",
    "    <tr><th>1</th><td>1.0</td></tr>\n",
    "    <tr><th>2</th><td>0.5</td></tr>\n",
    "    <tr><th>3</th><td>1.0</td></tr>\n",
    "    <tr><th>4</th><td>1.0</td></tr>\n",
    "    <tr><th>5</th><td>0.8</td></tr>\n",
    "    <tr><th>6</th><td>1.0</td></tr>\n",
    "    <tr><th>7</th><td>1.0</td></tr>\n",
    "    <tr><th>8</th><td>1.0</td></tr>\n",
    "    <tr><th>9</th><td>1.0</td></tr>\n",
    "    <tr><th>10</th><td>1.0</td></tr>\n",
    "    <tr><th>11</th><td>1.0</td></tr>\n",
    "    <tr><th>12</th><td>0.5</td></tr>\n",
    "    <tr><th>13</th><td>1.0</td></tr>\n",
    "    <tr><th>14</th><td>1.0</td></tr>\n",
    "    <tr><th>15</th><td>1.0</td></tr>\n",
    "    <tr><th>16</th><td>1.0</td></tr>\n",
    "    <tr><th>17</th><td>0.5</td></tr>\n",
    "    <tr><th>18</th><td>1.0</td></tr>\n",
    "</tbody>\n",
    "</table>"
   ]
  },
  {
   "cell_type": "markdown",
   "metadata": {},
   "source": [
    "### 5) Correction factor by dimming / 調光による補正係数"
   ]
  },
  {
   "cell_type": "markdown",
   "metadata": {},
   "source": [
    "#### 5.1) Main room / 主たる居室"
   ]
  },
  {
   "cell_type": "markdown",
   "metadata": {},
   "source": [
    "The correction factor by dimming of the lighting system installed in the lighting section $i$ of the main room $Cd_i (i = 1\\sim3)$ is from Table 8."
   ]
  },
  {
   "cell_type": "markdown",
   "metadata": {},
   "source": [
    "<center>**Table 8. The correction factor by dimming of the lighting system installed in the lighting section $i$ of the main room**</center>  \n",
    "\n",
    "<table width=\"90%\">\n",
    "<thead>\n",
    "    <tr>\n",
    "        <th style=\"text-align: center;\">Number of lighting section $i$</th>\n",
    "        <th width=\"40%\" style=\"text-align: center;vertical-align: top;\"><em>(I)</em> When one or more lighting systems are installed in the main room and controls capable of dimming are installed in one of these lighting systems</th>\n",
    "        <th width=\"40%\" style=\"text-align: center;vertical-align: top;\"><em>(RO)</em> When one or more lighting systems are installed in the main room and no control capable of dimming is installed in any of these lighting systems</th>\n",
    "    </tr>\n",
    "</thead>\n",
    "<tbody>\n",
    "    <tr>\n",
    "        <th>1</th>\n",
    "        <td>0.9</td>\n",
    "        <td>1.0</td>\n",
    "    </tr>\n",
    "    <tr>\n",
    "        <th>2</th>\n",
    "        <td>0.9</td>\n",
    "        <td>1.0</td>\n",
    "    </tr>\n",
    "    <tr>\n",
    "        <th>3</th>\n",
    "        <td>1.0</td>\n",
    "        <td>1.0</td>\n",
    "    </tr>\n",
    "</tbody>\n",
    "</table>"
   ]
  },
  {
   "cell_type": "markdown",
   "metadata": {},
   "source": [
    "When lighting system is not installed in the main room, the correction factor by dimming in the <em>(RO)</em> column of Table 8 shall be used."
   ]
  },
  {
   "cell_type": "markdown",
   "metadata": {},
   "source": [
    "#### 5.2) Other rooms / その他の居室"
   ]
  },
  {
   "cell_type": "markdown",
   "metadata": {},
   "source": [
    "The correction factor by dimming of the lighting system installed in the lighting section $i$ of other rooms $Cd_i (i = 4\\sim7)$ is from Table 9."
   ]
  },
  {
   "cell_type": "markdown",
   "metadata": {},
   "source": [
    "<center>**Table 9. The correction factor by dimming of the lighting system installed in the lighting section $i$ of other rooms**</center>  \n",
    "\n",
    "<table width=\"90%\">\n",
    "<thead>\n",
    "    <tr>\n",
    "        <th style=\"text-align: center;\">Number of lighting section $i$</th>\n",
    "        <th width=\"40%\" style=\"text-align: center;vertical-align: top;\"><em>(I)</em> When one or more lighting systems are installed in other rooms and controls capable of dimming are installed in one of these lighting systems</th>\n",
    "        <th width=\"40%\" style=\"text-align: center;vertical-align: top;\"><em>(RO)</em> When one or more lighting systems are installed in other rooms and no control capable of dimming is installed in any of these lighting systems</th>\n",
    "    </tr>\n",
    "</thead>\n",
    "<tbody>\n",
    "    <tr>\n",
    "        <th>4</th>\n",
    "        <td>0.9</td>\n",
    "        <td>1.0</td>\n",
    "    </tr>\n",
    "    <tr>\n",
    "        <th>5</th>\n",
    "        <td>0.9</td>\n",
    "        <td>1.0</td>\n",
    "    </tr>\n",
    "    <tr>\n",
    "        <th>6</th>\n",
    "        <td>0.9</td>\n",
    "        <td>1.0</td>\n",
    "    </tr>\n",
    "    <tr>\n",
    "        <th>7</th>\n",
    "        <td>0.9</td>\n",
    "        <td>1.0</td>\n",
    "    </tr>\n",
    "</tbody>\n",
    "</table>"
   ]
  },
  {
   "cell_type": "markdown",
   "metadata": {},
   "source": [
    "When lighting system is not installed in other rooms, the correction factor by dimming in the <em>(RO)</em> column of Table 9 shall be used."
   ]
  },
  {
   "cell_type": "markdown",
   "metadata": {},
   "source": [
    "#### 5.3) Non-room / 非居室"
   ]
  },
  {
   "cell_type": "markdown",
   "metadata": {},
   "source": [
    "The correction factor by dimming of the lighting system installed in the lighting section $i$ of non-room $Cd_i (i = 8\\sim18)$ is set to 1.0."
   ]
  },
  {
   "cell_type": "markdown",
   "metadata": {},
   "source": [
    "### 6) Correction factor by human sensor / 人感センサーによる補正係数"
   ]
  },
  {
   "cell_type": "markdown",
   "metadata": {},
   "source": [
    "#### 6.1) Main room / 主たる居室"
   ]
  },
  {
   "cell_type": "markdown",
   "metadata": {},
   "source": [
    "The correction factor by human sensor of the lighting system installed in the lighting section $i$ of the main room $Cs_i (i = 1\\sim3)$ is set to 1.0."
   ]
  },
  {
   "cell_type": "markdown",
   "metadata": {},
   "source": [
    "#### 6.2) Other rooms / その他の居室"
   ]
  },
  {
   "cell_type": "markdown",
   "metadata": {},
   "source": [
    "The correction factor by human sensor of the lighting system installed in the lighting section $i$ of other rooms $Cs_i (i = 4\\sim7)$ is set to 1.0."
   ]
  },
  {
   "cell_type": "markdown",
   "metadata": {},
   "source": [
    "#### 6.3) Non-room / 非居室"
   ]
  },
  {
   "cell_type": "markdown",
   "metadata": {},
   "source": [
    "The correction factor by human sensor of the lighting system installed in the lighting section $i$ of non-room $Cs_i (i = 8\\sim18)$ is from Table 10."
   ]
  },
  {
   "cell_type": "markdown",
   "metadata": {},
   "source": [
    "<center>**Table 10. The correction factor by human sensor of the lighting system installed in the lighting section $i$ of non-room**</center>  \n",
    "\n",
    "<table width=\"90%\">\n",
    "<thead>\n",
    "    <tr>\n",
    "        <th style=\"text-align: center;\">Number of lighting section $i$</th>\n",
    "        <th width=\"40%\" style=\"text-align: center;vertical-align: top;\"><em>(I)</em> When one or more lighting systems are installed in a non-room and a control capable of automatically and frequently turning on and off lighting is introduced in one of these lighting systems</th>\n",
    "        <th width=\"40%\" style=\"text-align: center;vertical-align: top;\"><em>(RO)</em> When one or more lighting systems are installed in a non-room and no control capable of automatically and frequently turning on and off lighting is introduced in any of these lighting systems</th>\n",
    "    </tr>\n",
    "</thead>\n",
    "<tbody>\n",
    "    <tr>\n",
    "        <th>8</th>\n",
    "        <td>1.0</td>\n",
    "        <td>1.0</td>\n",
    "    </tr>\n",
    "    <tr>\n",
    "        <th>9</th>\n",
    "        <td>1.0</td>\n",
    "        <td>1.0</td>\n",
    "    </tr>\n",
    "    <tr>\n",
    "        <th>10</th>\n",
    "        <td>0.9</td>\n",
    "        <td>1.0</td>\n",
    "    </tr>\n",
    "    <tr>\n",
    "        <th>11</th>\n",
    "        <td>0.9</td>\n",
    "        <td>1.0</td>\n",
    "    </tr>\n",
    "    <tr>\n",
    "        <th>12</th>\n",
    "        <td>0.9</td>\n",
    "        <td>1.0</td>\n",
    "    </tr>\n",
    "    <tr>\n",
    "        <th>13</th>\n",
    "        <td>0.9</td>\n",
    "        <td>1.0</td>\n",
    "    </tr>\n",
    "    <tr>\n",
    "        <th>14</th>\n",
    "        <td>0.9</td>\n",
    "        <td>1.0</td>\n",
    "    </tr>\n",
    "    <tr>\n",
    "        <th>15</th>\n",
    "        <td>0.9</td>\n",
    "        <td>1.0</td>\n",
    "    </tr>\n",
    "    <tr>\n",
    "        <th>16</th>\n",
    "        <td>1.0</td>\n",
    "        <td>1.0</td>\n",
    "    </tr>\n",
    "    <tr>\n",
    "        <th>17</th>\n",
    "        <td>0.9</td>\n",
    "        <td>1.0</td>\n",
    "    </tr>\n",
    "    <tr>\n",
    "        <th>18</th>\n",
    "        <td>0.9</td>\n",
    "        <td>1.0</td>\n",
    "    </tr>\n",
    "</tbody>\n",
    "</table>"
   ]
  },
  {
   "cell_type": "markdown",
   "metadata": {},
   "source": [
    "When lighting system is not installed in non-room, the correction factor by human sensor in the <em>(RO)</em> column of Table 10 shall be used."
   ]
  },
  {
   "cell_type": "markdown",
   "metadata": {},
   "source": [
    "### 7) Correction factor by multi-light distributed lighting system / 多灯分散照明方式による補正係数"
   ]
  },
  {
   "cell_type": "markdown",
   "metadata": {},
   "source": [
    "#### 7.1) Main room / 主たる居室"
   ]
  },
  {
   "cell_type": "markdown",
   "metadata": {},
   "source": [
    "The correction factor by multi-light distributed lighting system of the lighting system installed in the lighting section $i$ of the main room $Cm_i (i = 1\\sim3)$ is from Table 11."
   ]
  },
  {
   "cell_type": "markdown",
   "metadata": {},
   "source": [
    "<center>**Table 11. The correction factor by multi-light distributed lighting system of the lighting system installed in the lighting section $i$ of the main room**</center>  \n",
    "\n",
    "<table width=\"90%\">\n",
    "<thead>\n",
    "    <tr>\n",
    "        <th style=\"text-align: center;\">Number of lighting section $i$</th>\n",
    "        <th width=\"40%\" style=\"text-align: center;vertical-align: top;\"><em>(I)</em> When one or more lighting systems are installed in the main room, incandescent lamps are not used in these lighting systems, and the inequality below is satisfied</th>\n",
    "        <th width=\"40%\" style=\"text-align: center;vertical-align: top;\"><em>(RO)</em> When the condition of column <em>(I)</em> is not satisfied</th>\n",
    "    </tr>\n",
    "</thead>\n",
    "<tbody>\n",
    "    <tr>\n",
    "        <th>1</th>\n",
    "        <td>0.8</td>\n",
    "        <td>1.0</td>\n",
    "    </tr>\n",
    "    <tr>\n",
    "        <th>2</th>\n",
    "        <td>1.0</td>\n",
    "        <td>1.0</td>\n",
    "    </tr>\n",
    "    <tr>\n",
    "        <th>3</th>\n",
    "        <td>1.0</td>\n",
    "        <td>1.0</td>\n",
    "    </tr>\n",
    "</tbody>\n",
    "</table>\n"
   ]
  },
  {
   "cell_type": "markdown",
   "metadata": {},
   "source": [
    "Applicable condition of multi-light distributed lighting system of lighting system"
   ]
  },
  {
   "cell_type": "markdown",
   "metadata": {},
   "source": [
    "$$\n",
    "P_{MR} \\leq \\sum_{i=1}^3 (((232 \\times (A_{LZ,i} \\div 1.65) + 817) \\times (E_i \\div 50)  \\div Le_i  \\times Ce_i)\n",
    "$$"
   ]
  },
  {
   "cell_type": "markdown",
   "metadata": {},
   "source": [
    "Where  \n",
    "$P_{MR}$ is the total power of lighting system installed in the main room. / 主たる居室に設置された照明設備の消費電力の合計(W)  \n",
    "$A_{LZ,i}$ is the floor space of the lighting section $i$, where $A_{LZ,1}$ is the floor space of the living room, $A_{LZ,2}$ is the floor space of the dining and $A_{LZ,3}$ is the floor space of the kitchen. / 照明区画$i$の床面積であり、$A_{LZ,1}$をリビングの床面積、$A_{LZ,2}$をダイニングの床面積及び$A_{LZ,3}$を台所の床面積とする。(m<sup>2</sup>)  "
   ]
  },
  {
   "cell_type": "markdown",
   "metadata": {},
   "source": [
    "The design illuminance of the lighting section $i$ $E_i$ is from Table 3 of \"6.2 Indoor luminous flux\".  \n",
    "The average overall efficiency of the lighting system installed in the lighting section $i$ $Le_i$ is the value in column <em>(I)</em> of Table 4 \"<em>(I)</em> When one or more lighting systems are installed in the main room and the LEDs are used in all the lighting systems\", and is the value in the <em>(RO)</em> column of Table 4 \"<em>(RO)</em> When one or more lighting systems are installed in the main room, and all other lighting systems use non-incandescent lamps (except in the case of using LEDs in all lighting systems)\", in the \"6.3 Average overall efficiency\".  \n",
    "The correction factor by special condition of the lighting system installed in the lighting section $i$ $Ce_i$ is from Table 7 of \"6.4 Correction factor by special condition\"."
   ]
  },
  {
   "cell_type": "markdown",
   "metadata": {},
   "source": [
    "#### 7.2) Other rooms / その他の居室"
   ]
  },
  {
   "cell_type": "markdown",
   "metadata": {},
   "source": [
    "The correction factor by multi-light distributed lighting system of the lighting system installed in the lighting section $i$ of other rooms $Cm_i (i = 4\\sim8)$ is set to 1.0."
   ]
  },
  {
   "cell_type": "markdown",
   "metadata": {},
   "source": [
    "#### 7.3) Non-room / 非居室"
   ]
  },
  {
   "cell_type": "markdown",
   "metadata": {},
   "source": [
    "The correction factor by multi-light distributed lighting system of the lighting system installed in the lighting section $i$ of non-room $Cm_i (i = 9\\sim18)$ is set to 1.0."
   ]
  },
  {
   "cell_type": "markdown",
   "metadata": {},
   "source": [
    "### 8) Correction factor by initial illumination correction control / 初期照度補正制御による補正係数"
   ]
  },
  {
   "cell_type": "markdown",
   "metadata": {},
   "source": [
    "The correction factor by initial illumination correction control of the lighting system installed in the lighting section $i$ $Ci_i$ is set to 1.0."
   ]
  },
  {
   "cell_type": "markdown",
   "metadata": {},
   "source": [
    "### 9) Usage time ratio of lighting system / 照明設備の使用時間率"
   ]
  },
  {
   "cell_type": "markdown",
   "metadata": {},
   "source": [
    "The usage time ratio of lighting system installed in lighting section $i$ with $p$ resident people $r_{i,p}$ depends on the number of residents and the type of schedule and is defined by Appendix B."
   ]
  },
  {
   "cell_type": "markdown",
   "metadata": {},
   "source": [
    "##  Lighting system installed in the entrance pouch / 玄関ポーチに設置された照明設備"
   ]
  },
  {
   "cell_type": "markdown",
   "metadata": {},
   "source": [
    "The hourly electric power of lighting system installed in the entrance pouch with $p$ resident people $E_{E,L,port,p}$ is calculated by the equation below."
   ]
  },
  {
   "cell_type": "markdown",
   "metadata": {},
   "source": [
    "$$\n",
    "E_{E,L,port,p} = P_{port} \\times Cs_{port} \\times Ci_{port} \\times 10^{-3} \\times r_{port,p}\n",
    "$$"
   ]
  },
  {
   "cell_type": "markdown",
   "metadata": {},
   "source": [
    "Where  \n",
    "$E_{E,L,port,p}$ is the hourly electric power of lighting system installed in the entrance pouch with $p$ resident people. / 1 時間当たりの居住人数が𝑝人における玄関ポーチに設置された照明設備の消費電力量(kWh/h)  \n",
    "$P_{port}$ is the power of lighting system installed in the entrance pouch. / 玄関ポーチに設置された照明設備の消費電力(W)  \n",
    "$Cs_{port}$ is the correction factor by human sensor of lighting system installed in the entrance pouch. / 玄関ポーチに設置された照明設備の人感センサーによる補正係数  \n",
    "$Ci_{port}$ is the correction factor by initial illumination correction control of lighting system installed in the entrance pouch. / 玄関ポーチに設置された照明設備の初期照度補正制御による補正係数  \n",
    "$r_{port,p}$ is the usage time ratio of lighting system installed in the entrance pouch with $p$ resident people. / 居住人数が𝑝人の場合の玄関ポーチに設置された照明設備の使用時間率  "
   ]
  },
  {
   "cell_type": "markdown",
   "metadata": {},
   "source": [
    "The power of lighting system installed in the entrance pouch $P_{port}$ is from Table 12."
   ]
  },
  {
   "cell_type": "markdown",
   "metadata": {},
   "source": [
    "<center>**Table 12. The power of lighting system installed in the entrance pouch**</center>  \n",
    "\n",
    "<table>\n",
    "<thead>\n",
    "    <tr>\n",
    "        <th width=\"33%\" style=\"text-align: center;vertical-align: top;\"><em>(I)</em> When one or more lighting systems are installed in non-room and LEDs are used in all of these lighting systems</th>\n",
    "        <th width=\"33%\" style=\"text-align: center;vertical-align: top;\"><em>(RO)</em> When one or more lighting systems are installed in non-room and all other lighting systems are using other than incandescent lamps (except in the case of using LEDs in all lighting systems)</th>\n",
    "        <th width=\"33%\" style=\"text-align: center;vertical-align: top;\"><em>(HA)</em> When one or more lighting systems are installed in non-room and incandescent lamps are used in one of these lighting systems</th>\n",
    "    </tr>\n",
    "</thead>\n",
    "<tbody>\n",
    "    <tr>\n",
    "        <th>10.0</th>\n",
    "        <td>12.0</td>\n",
    "        <td>54.0</td>\n",
    "    </tr>\n",
    "</tbody>\n",
    "</table>\n"
   ]
  },
  {
   "cell_type": "markdown",
   "metadata": {},
   "source": [
    "When lighting system is not installed in non-room, the power in the <em>(RO)</em> column of Table 12 shall be used.  \n",
    "The correction factor by human sensor of lighting system installed in the entrance pouch $Cs_{port}$ is from Table 13."
   ]
  },
  {
   "cell_type": "markdown",
   "metadata": {},
   "source": [
    "<center>**Table 13. The correction factor by human sensor of lighting system installed in the entrance pouch**</center>  \n",
    "\n",
    "<table width=\"90%\">\n",
    "<thead>\n",
    "    <tr>\n",
    "        <th width=\"50%\" style=\"text-align: center;vertical-align: top;\"><em>(I)</em> When one or more lighting systems are installed in non-room and a control capable of automatically and frequently turning on and off lighting is introduced in one of these lighting systems</th>\n",
    "        <th width=\"50%\" style=\"text-align: center;vertical-align: top;\"><em>(RO)</em> When one or more lighting systems are installed in non-room and no control capable of automatically and frequently turning on and off lighting is introduced in any of these lighting systems</th>\n",
    "    </tr>\n",
    "</thead>\n",
    "<tbody>\n",
    "    <tr>\n",
    "        <td>0.9</td>\n",
    "        <td>1.0</td>\n",
    "    </tr>\n",
    "</tbody>\n",
    "</table>\n"
   ]
  },
  {
   "cell_type": "markdown",
   "metadata": {},
   "source": [
    "When lighting system is not installed in non-room, the correction factor by human sensor of lighting system in the <em>(RO)</em> column of Table 13 shall be used.  \n",
    "The correction factor by initial illumination correction control of lighting system installed in the entrance pouch $Ci_{port}$ is set to 1.0.  \n",
    "The usage time ratio of lighting system installed in the entrance pouch with $p$ resident people $r_{port,p}$ depends on the number of residents and the type of schedule and is defined by Appendix B."
   ]
  }
 ],
 "metadata": {
  "kernelspec": {
   "display_name": "Python 3",
   "language": "python",
   "name": "python3"
  },
  "language_info": {
   "codemirror_mode": {
    "name": "ipython",
    "version": 3
   },
   "file_extension": ".py",
   "mimetype": "text/x-python",
   "name": "python",
   "nbconvert_exporter": "python",
   "pygments_lexer": "ipython3",
   "version": "3.6.4"
  }
 },
 "nbformat": 4,
 "nbformat_minor": 2
}
