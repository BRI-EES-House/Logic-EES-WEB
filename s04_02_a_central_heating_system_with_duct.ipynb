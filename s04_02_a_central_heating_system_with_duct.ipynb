{
 "cells": [
  {
   "cell_type": "markdown",
   "metadata": {},
   "source": [
    "使用許諾条件\n",
    "\n",
    "①\t設計一次エネルギー消費量算定法に基づく計算方法をPythonによりコーディングし、Jupyter notebook形式で保存したファイル（以下、本ファイルと呼ぶ）の著作権は、一般社団法人日本サステナブル建築協会に帰属します。\n",
    "Copyright©2019. 一般社団法人日本サステナブル建築協会\n",
    "All rights reserved. \n",
    "\n",
    "②\t本ファイルは、住戸の設計一次エネルギー消費量算定方法に係る「平成28年省エネルギー基準に準拠したエネルギー消費性能の評価に関する技術情報（住宅）2.1算定方法（第四章第二節 ダクト式セントラル空調機）」に示す計算方法に基づき、国土交通省国土技術政策総合研究所・国立研究開発法人建築研究所、株式会社ユーワークス、株式会社住環境計画研究所が作成したものです。\n",
    "\n",
    "③\t本ファイルは、計算方法に示す計算過程の確認及び調査研究等に活用することを目的として作成されたものであり、一般社団法人日本サステナブル建築協会は著作権について放棄はしませんが、使用する各人の自己責任において仕様を変更することを妨げるものではありません。ただし、本ファイルによる計算結果を住宅の省エネルギー基準で規定する設計一次エネルギー消費量の結果として公的な申請に用いることはできません。\n",
    "\n",
    "④\t本ファイルを変更するかしないかを問わず、以下の条件を満たす場合に限り、頒布および使用が許可されます。\n",
    "1.\t頒布物の付属ドキュメント等の資料に、上記の著作権表示、本条件一覧、および下記免責条項を含めること。\n",
    "2.\t書面による特別の許可なしに、本ファイルから派生した製品の宣伝または販売の促進に、一般社団法人日本サステナブル建築協会、国土技術政策総合研究所・国立研究開発法人建築研究所および株式会社ユーワークス、株式会社住環境計画研究所の名前またはコントリビューターの名前を使用してはならない。\n",
    "\n",
    "⑤\t本ファイルは、著作権者およびコントリビューターによって「現状のまま」提供されており、明示黙示を問わず、商業的な使用可能性、および特定の目的に対する適合性に関する暗黙の保証も含め、またそれに限定されない、いかなる保証もありません。著作権もコントリビューターも、事由のいかんを問わず、損害発生の原因いかんを問わず、かつ責任の根拠が契約であるか厳格責任であるか（過失その他の）不法行為であるかを問わず、仮にそのような損害が発生する可能性を知らされていたとしても、本ファイルの使用によって発生した（代用品または代用サービスの調達、使用の喪失、データの喪失、利益の喪失、業務の中断も含め、またそれに限定されない）直接損害、間接損害、偶発的な損害、特別損害、懲罰的損害、または結果損害について、一切の責任を負わないものとします。\n",
    "\n"
   ]
  },
  {
   "cell_type": "code",
   "execution_count": 4,
   "metadata": {},
   "outputs": [
    {
     "name": "stdout",
     "output_type": "stream",
     "text": [
      "Importing Jupyter notebook from s04_08_a_heatpump_cycle.ipynb\n"
     ]
    },
    {
     "ename": "ImportError",
     "evalue": "cannot import name 'calc_e_ref_H_th'",
     "output_type": "error",
     "traceback": [
      "\u001b[1;31m---------------------------------------------------------------------------\u001b[0m",
      "\u001b[1;31mImportError\u001b[0m                               Traceback (most recent call last)",
      "\u001b[1;32m<ipython-input-4-e9077fc50acb>\u001b[0m in \u001b[0;36m<module>\u001b[1;34m\u001b[0m\n\u001b[0;32m      4\u001b[0m \u001b[1;33m\u001b[0m\u001b[0m\n\u001b[0;32m      5\u001b[0m \u001b[1;32mfrom\u001b[0m \u001b[0ms04_02_central_heating_system_with_duct\u001b[0m \u001b[1;32mimport\u001b[0m \u001b[0mget_season_array_d_t\u001b[0m\u001b[1;33m\u001b[0m\u001b[0m\n\u001b[1;32m----> 6\u001b[1;33m \u001b[1;32mfrom\u001b[0m \u001b[0ms04_08_a_heatpump_cycle\u001b[0m \u001b[1;32mimport\u001b[0m \u001b[0mcalc_e_ref_H_th\u001b[0m\u001b[1;33m\u001b[0m\u001b[0m\n\u001b[0m\u001b[0;32m      7\u001b[0m \u001b[1;32mfrom\u001b[0m \u001b[0ms11_01_external_condition\u001b[0m \u001b[1;32mimport\u001b[0m \u001b[0mload_outdoor\u001b[0m\u001b[1;33m,\u001b[0m \u001b[0mget_Theta_ex\u001b[0m\u001b[1;33m\u001b[0m\u001b[0m\n",
      "\u001b[1;31mImportError\u001b[0m: cannot import name 'calc_e_ref_H_th'"
     ]
    }
   ],
   "source": [
    "import nbimporter\n",
    "import numpy as np\n",
    "from scipy import optimize\n",
    "\n",
    "from s04_02_central_heating_system_with_duct import get_season_array_d_t\n",
    "from s04_08_a_heatpump_cycle import calc_e_ref_H_th\n",
    "from s11_01_external_condition import load_outdoor, get_Theta_ex\n"
   ]
  },
  {
   "cell_type": "markdown",
   "metadata": {},
   "source": [
    "## 付録 A ダクト式セントラル空調機のエネルギー消費量"
   ]
  },
  {
   "cell_type": "markdown",
   "metadata": {},
   "source": [
    "### A.1 記号及び単位"
   ]
  },
  {
   "cell_type": "markdown",
   "metadata": {},
   "source": [
    "省略"
   ]
  },
  {
   "cell_type": "markdown",
   "metadata": {},
   "source": [
    "### A.2 消費電力量"
   ]
  },
  {
   "cell_type": "markdown",
   "metadata": {},
   "source": [
    "$$\\large\n",
    "E_{E,H,d,t}=E_{E,comp,H,d,t}+E_{E,fan,H,d,t}\n",
    "$$"
   ]
  },
  {
   "cell_type": "markdown",
   "metadata": {},
   "source": [
    "$$\\large\n",
    "E_{E,C,d,t}=E_{E,comp,C,d,t}+E_{E,fan,C,d,t}\n",
    "$$"
   ]
  },
  {
   "cell_type": "markdown",
   "metadata": {},
   "source": [
    "$E_{E,C,d,t}$：日付$d$の時刻$t$における 1 時間当たりの冷房時の消費電力量(kWh/h)  \n",
    "$E_{E,H,d,t}$：日付$d$の時刻$t$における 1 時間当たりの暖房時の消費電力量(kWh/h)  \n",
    "$E_{E,comp,H,d,t}$：日付$d$の時刻$t$における 1 時間当たりの冷房時の圧縮機の消費電力量(kWh/h)  \n",
    "$E_{E,comp,H,d,t}$：日付$d$の時刻$t$における 1 時間当たりの暖房時の圧縮機の消費電力量(kWh/h)  \n",
    "$E_{E,fan,H,d,t}$：日付$d$の時刻$t$における 1 時間当たりの送風機の消費電力量のうちの冷房設備への付加分(kWh/h)  \n",
    "$E_{E,fan,H,d,t}$：日付$d$の時刻$t$における 1 時間当たりのの送風機の消費電力量のうちの暖房設備への付加分(kWh/h)  \n"
   ]
  },
  {
   "cell_type": "code",
   "execution_count": 81,
   "metadata": {},
   "outputs": [],
   "source": [
    "# 日付dの時刻tにおける1時間当たりの暖房時の消費電力量（kWh/h）(1)\n",
    "def calc_E_E_H_d_t(Theta_hs_out_d_t, Theta_hs_in_d_t, V_hs_supply_d_t, V_hs_vent_d_t, C_df_H_d_t,\n",
    "           q_hs_rtd_H, V_hs_dsgn_H, P_hs_mid_H, P_hs_rtd_H, P_fan_rtd_H, P_fan_mid_H, q_hs_min_H, q_hs_mid_H,\n",
    "           V_fan_rtd_H, V_fan_mid_H, EquipmentSpec, region):\n",
    "\n",
    "    # 外気条件\n",
    "    outdoor = load_outdoor()\n",
    "    Theta_ex_d_t = get_Theta_ex(region, outdoor)\n",
    "\n",
    "    # (3)\n",
    "    q_hs_H_d_t = get_q_hs_H_d_t(Theta_hs_out_d_t, Theta_hs_in_d_t, V_hs_supply_d_t, C_df_H_d_t, region)\n",
    "\n",
    "    # (37)\n",
    "    E_E_fan_H_d_t = get_E_E_fan_H_d_t(P_fan_rtd_H, V_hs_vent_d_t, V_hs_supply_d_t, V_hs_dsgn_H, q_hs_H_d_t)\n",
    "\n",
    "    # (20)\n",
    "    e_th_mid_H = calc_e_th_mid_H(V_fan_mid_H, q_hs_mid_H)\n",
    "\n",
    "    # (19)\n",
    "    e_th_rtd_H = calc_e_th_rtd_H(V_fan_rtd_H, q_hs_rtd_H)\n",
    "\n",
    "    # (17)\n",
    "    e_th_H_d_t = calc_e_th_H_d_t(Theta_ex_d_t, Theta_hs_in_d_t, Theta_hs_out_d_t, V_hs_supply_d_t)\n",
    "\n",
    "    # (11)\n",
    "    e_r_rtd_H = get_e_r_rtd_H(e_th_rtd_H, q_hs_rtd_H, P_hs_rtd_H, P_fan_rtd_H)\n",
    "\n",
    "    # (15)\n",
    "    e_r_min_H = get_e_r_min_H(e_r_rtd_H)\n",
    "\n",
    "    # (13)\n",
    "    e_r_mid_H = get_e_r_mid_H(e_r_rtd_H, e_th_mid_H, q_hs_mid_H, P_hs_mid_H, P_fan_mid_H, EquipmentSpec)\n",
    "\n",
    "    # (9)\n",
    "    e_r_H_d_t = get_e_r_H_d_t(q_hs_H_d_t, q_hs_rtd_H, q_hs_min_H, q_hs_mid_H, e_r_mid_H, e_r_min_H, e_r_rtd_H)\n",
    "\n",
    "    # (7)\n",
    "    e_hs_H_d_t = get_e_hs_H_d_t(e_th_H_d_t, e_r_H_d_t)\n",
    "\n",
    "    # (5)\n",
    "    E_E_comp_H_d_t = get_E_E_comp_H_d_t(q_hs_H_d_t, e_hs_H_d_t)\n",
    "\n",
    "    # (1)\n",
    "    E_E_H_d_t = E_E_comp_H_d_t + E_E_fan_H_d_t\n",
    "\n",
    "    return E_E_H_d_t\n",
    "\n",
    "\n",
    "# 日付dの時刻tにおける1時間当たりの冷房時の消費電力量（kWh/h）(2)\n",
    "def get_E_E_C_d_t(Theta_hs_out_d_t, Theta_hs_in_d_t,  X_hs_out_d_t, X_hs_in_d_t, V_hs_supply_d_t, V_hs_vent_d_t,\n",
    "                  q_hs_rtd_C, V_hs_dsgn_C, q_hs_mid_C, q_hs_min_C,\n",
    "                  P_fan_rtd_C, P_fan_mid_C, P_hs_rtd_C, P_hs_mid_C, V_fan_rtd_C, V_fan_mid_C, EquipmentSpec, region):\n",
    "\n",
    "    # 外気条件\n",
    "    outdoor = load_outdoor()\n",
    "    Theta_ex_d_t = get_Theta_ex(region, outdoor)\n",
    "\n",
    "    # (4)\n",
    "    q_hs_C_d_t = get_q_hs_C_d_t(Theta_hs_out_d_t, Theta_hs_in_d_t, X_hs_out_d_t, X_hs_in_d_t, V_hs_supply_d_t, region)\n",
    "\n",
    "    # (38)\n",
    "    E_E_fan_C_d_t = get_E_E_fan_C_d_t(P_fan_rtd_C, V_hs_vent_d_t, V_hs_supply_d_t, V_hs_dsgn_C, q_hs_C_d_t)\n",
    "\n",
    "    # (22)\n",
    "    e_th_mid_C = calc_e_th_mid_C(V_fan_mid_C, q_hs_mid_C)\n",
    "\n",
    "    # (21)\n",
    "    e_th_rtd_C = calc_e_th_rtd_C(V_fan_rtd_C, q_hs_rtd_C)\n",
    "\n",
    "    # (18)\n",
    "    e_th_C_d_t = calc_e_th_C_d_t(Theta_ex_d_t, Theta_hs_in_d_t, X_hs_in_d_t, Theta_hs_out_d_t, V_hs_supply_d_t)\n",
    "\n",
    "    # (12)\n",
    "    e_r_rtd_C = get_e_r_rtd_C(e_th_rtd_C, q_hs_rtd_C, P_hs_rtd_C, P_fan_rtd_C)\n",
    "\n",
    "    # (16)\n",
    "    e_r_min_C = get_e_r_min_C(e_r_rtd_C)\n",
    "\n",
    "    # (14)\n",
    "    e_r_mid_C = get_e_r_mid_C(e_r_rtd_C, e_th_mid_C, q_hs_mid_C, P_hs_mid_C, P_fan_mid_C, EquipmentSpec)\n",
    "\n",
    "    # (10)\n",
    "    e_r_C_d_t = get_e_r_C_d_t(q_hs_C_d_t, q_hs_rtd_C, q_hs_min_C, q_hs_mid_C, e_r_mid_C, e_r_min_C, e_r_rtd_C)\n",
    "\n",
    "    # (8)\n",
    "    e_hs_C_d_t = get_e_hs_C_d_t(e_th_C_d_t, e_r_C_d_t)\n",
    "\n",
    "    # (6)\n",
    "    E_E_comp_C_d_t = get_E_E_comp_C_d_t(q_hs_C_d_t, e_hs_C_d_t)\n",
    "\n",
    "    # (2)\n",
    "    E_E_C_d_t = E_E_comp_C_d_t + E_E_fan_C_d_t\n",
    "\n",
    "    return E_E_C_d_t"
   ]
  },
  {
   "cell_type": "markdown",
   "metadata": {},
   "source": [
    "### A.3 熱源機の平均暖房能力・平均冷房能力"
   ]
  },
  {
   "cell_type": "markdown",
   "metadata": {},
   "source": [
    "暖房期："
   ]
  },
  {
   "cell_type": "markdown",
   "metadata": {},
   "source": [
    "$$\\large\n",
    "q_{hs,H,d,t}=max\\left( c_{p_{air}}\\rho_{air}(\\theta_{hs,out,d,t}-\\theta_{hs,in,d,t}) \\frac{V_{hs,supply,d,t}}{3600} \\times \\frac{1}{C_{df,H,d,t}}, 0 \\right)\n",
    "$$"
   ]
  },
  {
   "cell_type": "markdown",
   "metadata": {},
   "source": [
    "$$\\large\n",
    "q_{hs,C,d,t}=0\n",
    "$$"
   ]
  },
  {
   "cell_type": "markdown",
   "metadata": {},
   "source": [
    "$$\\large\n",
    "q_{hs,CS,d,t}=0\n",
    "$$"
   ]
  },
  {
   "cell_type": "markdown",
   "metadata": {},
   "source": [
    "$$\\large\n",
    "q_{hs,CL,d,t}=0\n",
    "$$"
   ]
  },
  {
   "cell_type": "markdown",
   "metadata": {},
   "source": [
    "冷房期："
   ]
  },
  {
   "cell_type": "markdown",
   "metadata": {},
   "source": [
    "$$\\large\n",
    "q_{hs,H,d,t}=0\n",
    "$$"
   ]
  },
  {
   "cell_type": "markdown",
   "metadata": {},
   "source": [
    "$$\\large\n",
    "q_{hs,C,d,t}=q_{hs,CS,d,t}+q_{hs,CL,d,t}\n",
    "$$"
   ]
  },
  {
   "cell_type": "markdown",
   "metadata": {},
   "source": [
    "$$\\large\n",
    "q_{hs,CS,d,t}=max\\left( c_{p_{air}}\\rho_{air}(\\theta_{hs,in,d,t}-\\theta_{hs,out,d,t}) \\frac{V_{hs,supply,d,t}}{3600}, 0 \\right)\n",
    "$$"
   ]
  },
  {
   "cell_type": "markdown",
   "metadata": {},
   "source": [
    "$$\\large\n",
    "q_{hs,CL,d,t}=\\left\\{ \\begin{array}{ll}\n",
    "    max\\left( L_{wtr}\\rho_{air}(X_{hs,in,d,t}-X_{hs,out,d,t}) \\frac{V_{hs,supply,d,t}}{3600} \\times 10^3, 0 \\right) &(q_{hs,CS,d,t} > 0)\\\\ \n",
    "    0 &(q_{hs,CS,d,t} \\leq 0)\\\\ \n",
    "    \\end{array}\n",
    "\\right.\n",
    "$$"
   ]
  },
  {
   "cell_type": "markdown",
   "metadata": {},
   "source": [
    "中間期："
   ]
  },
  {
   "cell_type": "markdown",
   "metadata": {},
   "source": [
    "$$\\large\n",
    "q_{hs,H,d,t}=0\n",
    "$$"
   ]
  },
  {
   "cell_type": "markdown",
   "metadata": {},
   "source": [
    "$$\\large\n",
    "q_{hs,C,d,t}=0\n",
    "$$"
   ]
  },
  {
   "cell_type": "markdown",
   "metadata": {},
   "source": [
    "$$\\large\n",
    "q_{hs,CS,d,t}=0\n",
    "$$"
   ]
  },
  {
   "cell_type": "markdown",
   "metadata": {},
   "source": [
    "$$\\large\n",
    "q_{hs,CL,d,t}=0\n",
    "$$"
   ]
  },
  {
   "cell_type": "markdown",
   "metadata": {},
   "source": [
    "$C_{df,H,d,t}$：日付$d$の時刻$t$におけるデフロストに関する暖房出力補正係数(-)  \n",
    "$q_{hs,C,d,t}$：日付$d$の時刻$t$における1 時間当たりの熱源機の平均冷房能力(W)  \n",
    "$q_{hs,CL,d,t}$：日付$d$の時刻$t$における1 時間当たりの熱源機の平均冷房潜熱能力(W)  \n",
    "$q_{hs,CS,d,t}$：日付$d$の時刻$t$における1 時間当たりの熱源機の平均冷房顕熱能力(W)  \n",
    "$q_{hs,H,d,t}$：日付$d$の時刻$t$における1 時間当たりの熱源機の平均暖房能力(W)  \n",
    "$V_{hs,supply,d,t}$：日付$d$の時刻$t$における熱源機の風量($m^3$/h)  \n",
    "$X_{hs,in,d,t}$：日付$d$の時刻$t$における熱源機の入口における絶対湿度(kg/kg(DA))  \n",
    "$X_{hs,out,d,t}$：日付$d$の時刻$t$における熱源機の出口における絶対湿度(kg/kg(DA))  \n",
    "$\\theta_{hs,in,d,t}$：日付$d$の時刻$t$における熱源機の入口における空気温度(℃)  \n",
    "$\\theta_{hs,out,d,t}$：日付$d$の時刻$t$における熱源機の出口における空気温度(℃)  \n",
    "$c_{p_{air}}$：空気の比熱(J/(kg・K))  \n",
    "$L_{wtr}$：水の蒸発潜熱(kJ/kg)  \n",
    "$\\rho_{air}$：空気の密度(kg/$m^3$)  \n"
   ]
  },
  {
   "cell_type": "code",
   "execution_count": 82,
   "metadata": {},
   "outputs": [],
   "source": [
    "def get_q_hs_H_d_t(Theta_hs_out_d_t, Theta_hs_in_d_t, V_hs_supply_d_t, C_df_H_d_t, region):\n",
    "    \"\"\"(3-1)(3-2)(3-3)\n",
    "\n",
    "    :param Theta_hs_out_d_t:日付dの時刻tにおける熱源機の出口における空気温度（℃）\n",
    "    :param Theta_hs_in_d_t:日付dの時刻tにおける熱源機の入口における空気温度（℃）\n",
    "    :param V_hs_supply_d_t:日付dの時刻tにおける熱源機の風量（m3/h）\n",
    "    :param C_df_H_d_t:日付dの時刻tにおけるデフロストに関する暖房出力補正係数（-）\n",
    "    :param region:地域区分\n",
    "    :return:日付dの時刻tにおける1時間当たりの熱源機の平均暖房能力（-）\n",
    "    \"\"\"\n",
    "    H, C, M = get_season_array_d_t(region)\n",
    "    c_p_air = get_c_p_air()\n",
    "    rho_air = get_rho_air()\n",
    "\n",
    "    q_hs_H_d_t = np.zeros(24 * 365)\n",
    "\n",
    "    # 暖房期 (3-1)\n",
    "    q_hs_H_d_t[H] = np.clip(c_p_air * rho_air * (Theta_hs_out_d_t[H] - Theta_hs_in_d_t[H]) \\\n",
    "                    * (V_hs_supply_d_t[H] / 3600) * (1 / C_df_H_d_t[H]), 0, None)\n",
    "\n",
    "    # 冷房期 (3-2)\n",
    "    q_hs_H_d_t[C] = 0\n",
    "\n",
    "    # 中間期 (3-3)\n",
    "    q_hs_H_d_t[M] = 0\n",
    "\n",
    "    return q_hs_H_d_t\n",
    "\n",
    "\n",
    "def get_q_hs_C_d_t(Theta_hs_out_d_t, Theta_hs_in_d_t, X_hs_out_d_t, X_hs_in_d_t,V_hs_supply_d_t, region):\n",
    "    \"\"\"(4a-1)(4b-1)(4c-1)(4a-2)(4b-2)(4c-2)(4a-3)(4b-3)(4c-3)\n",
    "\n",
    "    :param Theta_hs_out_d_t:日付dの時刻tにおける熱源機の出口における空気温度（℃）\n",
    "    :param Theta_hs_in_d_t:日付dの時刻tにおける熱源機の入口における空気温度（℃）\n",
    "    :param X_hs_out_d_t:日付dの時刻tにおける熱源機の出口における絶対湿度（kg/kg(DA)）\n",
    "    :param X_hs_in_d_t:日付dの時刻tにおける熱源機の入口における絶対湿度（kg/kg(DA)）\n",
    "    :param V_hs_supply_d_t:日付dの時刻tにおける熱源機の風量（m3/h）\n",
    "    :param region:地域区分\n",
    "    :return:日付dの時刻tにおける1時間当たりの熱源機の平均冷房能力（-）\n",
    "    \"\"\"\n",
    "    H, C, M = get_season_array_d_t(region)\n",
    "    c_p_air = get_c_p_air()\n",
    "    rho_air = get_rho_air()\n",
    "    L_wtr = get_L_wtr()\n",
    "\n",
    "    # 暖房期および中間期 (4a-1)(4b-1)(4c-1)(4a-3)(4b-3)(4c-3)\n",
    "    q_hs_C_d_t = np.zeros(24 * 365)\n",
    "    q_hs_CS_d_t = np.zeros(24 * 365)\n",
    "    q_hs_CL_d_t = np.zeros(24 * 365)\n",
    "\n",
    "    # 冷房期 (4a-2)(4b-2)(4c-2)\n",
    "    q_hs_CS_d_t[C] = np.clip(c_p_air * rho_air * (Theta_hs_in_d_t[C] - Theta_hs_out_d_t[C]) * (V_hs_supply_d_t[C] / 3600), 0, None)\n",
    "\n",
    "    Cf = np.logical_and(C, q_hs_CS_d_t > 0)\n",
    "\n",
    "    q_hs_CL_d_t[Cf] = np.clip(L_wtr * rho_air * (X_hs_in_d_t[Cf] - X_hs_out_d_t[Cf]) * (V_hs_supply_d_t[Cf] / 3600) * 10 ** 3, 0, None)\n",
    "\n",
    "    q_hs_C_d_t = q_hs_CS_d_t + q_hs_CL_d_t\n",
    "\n",
    "    return q_hs_C_d_t"
   ]
  },
  {
   "cell_type": "markdown",
   "metadata": {},
   "source": [
    "### A.4 圧縮機"
   ]
  },
  {
   "cell_type": "markdown",
   "metadata": {},
   "source": [
    "#### A.4.1 消費電力量"
   ]
  },
  {
   "cell_type": "markdown",
   "metadata": {},
   "source": [
    "$$\\large\n",
    "E_{E,comp,H,d,t}=\\left\\{ \\begin{array}{ll}\n",
    "    \\frac{q_{hs,H,d,t}}{e_{hs,H,d,t}} \\times 10^{-3} &(q_{hs,H,d,t} > 0)\\\\ \n",
    "    0 &(q_{hs,H,d,t} \\leq 0)\\\\ \n",
    "    \\end{array}\n",
    "\\right.\n",
    "$$"
   ]
  },
  {
   "cell_type": "markdown",
   "metadata": {},
   "source": [
    "$$\\large\n",
    "E_{E,comp,C,d,t}=\\left\\{ \\begin{array}{ll}\n",
    "    \\frac{q_{hs,C,d,t}}{e_{hs,C,d,t}} \\times 10^{-3} &(q_{hs,C,d,t} > 0)\\\\ \n",
    "    0 &(q_{hs,C,d,t} \\leq 0)\\\\ \n",
    "    \\end{array}\n",
    "\\right.\n",
    "$$"
   ]
  },
  {
   "cell_type": "markdown",
   "metadata": {},
   "source": [
    "$E_{E,comp,C,d,t}$：日付$d$の時刻$t$における 1 時間当たりの冷房時の圧縮機の消費電力量(kWh/h)  \n",
    "$E_{E,comp,H,d,t}$：日付$d$の時刻$t$における 1 時間当たりの暖房時の圧縮機の消費電力量(kWh/h)  \n",
    "$e_{hs,C,d,t}$：日付$d$の時刻$t$における冷房時の熱源機の効率(-)  \n",
    "$e_{hs,H,d,t}$：日付$d$の時刻$t$における暖房時の熱源機の効率(-)  \n",
    "$q_{hs,C,d,t}$：日付$d$の時刻$t$における1 時間当たりの熱源機の平均冷房能力(W)  \n",
    "$q_{hs,H,d,t}$：日付$d$の時刻$t$における1 時間当たりの熱源機の平均暖房能力(W)  \n"
   ]
  },
  {
   "cell_type": "code",
   "execution_count": 83,
   "metadata": {},
   "outputs": [],
   "source": [
    "def get_E_E_comp_H_d_t(q_hs_H_d_t, e_hs_H_d_t):\n",
    "    \"\"\"(5)\n",
    "\n",
    "    :param q_hs_H_d_t:日付dの時刻tにおける1時間当たりの熱源機の平均暖房能力（-）\n",
    "    :param e_hs_H_d_t:日付dの時刻tにおける暖房時の熱源機の効率（-）\n",
    "    :return:日付dの時刻tにおける1時間当たりの暖房時の圧縮機の消費電力量（kWh/h）\n",
    "    \"\"\"\n",
    "    E_E_comp_H_d_t = np.zeros(24 * 365)\n",
    "\n",
    "    f = q_hs_H_d_t > 0\n",
    "\n",
    "    E_E_comp_H_d_t[f] = (q_hs_H_d_t[f] / e_hs_H_d_t[f]) * 10 ** (-3)\n",
    "\n",
    "    return E_E_comp_H_d_t\n",
    "\n",
    "\n",
    "def get_E_E_comp_C_d_t(q_hs_C_d_t, e_hs_C_d_t):\n",
    "    \"\"\"(6)\n",
    "\n",
    "    :param q_hs_C_d_t:日付dの時刻tにおける1時間当たりの熱源機の平均冷房能力（-）\n",
    "    :param e_hs_C_d_t:日付dの時刻tにおける冷房時の熱源機の効率（-）\n",
    "    :return:日付dの時刻tにおける1時間当たりの冷房時の圧縮機の消費電力量（kWh/h）\n",
    "    \"\"\"\n",
    "    E_E_comp_C_d_t = np.zeros(24 * 365)\n",
    "\n",
    "    f = q_hs_C_d_t > 0\n",
    "\n",
    "    E_E_comp_C_d_t[f] = (q_hs_C_d_t[f] / e_hs_C_d_t[f]) * 10 ** (-3)\n",
    "\n",
    "    return E_E_comp_C_d_t"
   ]
  },
  {
   "cell_type": "markdown",
   "metadata": {},
   "source": [
    "$$\\large\n",
    "e_{hs,H,d,t}=e_{th,H,d,t}\\times e_{r,H,d,t}\n",
    "$$"
   ]
  },
  {
   "cell_type": "markdown",
   "metadata": {},
   "source": [
    "$$\\large\n",
    "e_{hs,C,d,t}=e_{th,C,d,t}\\times e_{r,C,d,t}\n",
    "$$"
   ]
  },
  {
   "cell_type": "markdown",
   "metadata": {},
   "source": [
    "$e_{hs,C,d,t}$：日付$d$の時刻$t$における冷房時の熱源機の効率(-)  \n",
    "$e_{hs,H,d,t}$：日付$d$の時刻$t$における暖房時の熱源機の効率(-)  \n",
    "$e_{r,C,d,t}$：日付$d$の時刻$t$における冷房時のヒートポンプサイクルの理論効率に対する熱源機の効率の比(-)  \n",
    "$e_{r,H,d,t}$：日付$d$の時刻$t$における暖房時のヒートポンプサイクルの理論効率に対する熱源機の効率の比(-)  \n",
    "$e_{th,C,d,t}$：日付$d$の時刻$t$における冷房時のヒートポンプサイクルの理論効率(-)  \n",
    "$e_{th,H,d,t}$：日付$d$の時刻$t$における暖房時のヒートポンプサイクルの理論効率(-)  \n"
   ]
  },
  {
   "cell_type": "code",
   "execution_count": 84,
   "metadata": {},
   "outputs": [],
   "source": [
    "def get_e_hs_H_d_t(e_th_H_d_t, e_r_H_d_t):\n",
    "    \"\"\"(7)\n",
    "\n",
    "    :param e_th_H_d_t:日付dの時刻tにおける暖房時のヒートポンプサイクルの理論効率（-）\n",
    "    :param e_r_H_d_t:日付dの時刻tにおける暖房時のヒートポンプサイクルの理論効率に対する熱源機の効率の比（-）\n",
    "    :return:日付dの時刻tにおける暖房時の熱源機の効率（-）\n",
    "    \"\"\"\n",
    "    return e_th_H_d_t * e_r_H_d_t\n",
    "\n",
    "\n",
    "def get_e_hs_C_d_t(e_th_C_d_t, e_r_C_d_t):\n",
    "    \"\"\"(8)\n",
    "\n",
    "    :param e_th_C_d_t:日付dの時刻tにおける冷房時のヒートポンプサイクルの理論効率（-）\n",
    "    :param e_r_C_d_t:日付dの時刻tにおける冷房時のヒートポンプサイクルの理論効率に対する熱源機の効率の比（-）\n",
    "    :return:日付dの時刻tにおける冷房時の熱源機の効率（-）\n",
    "    \"\"\"\n",
    "    return e_th_C_d_t * e_r_C_d_t"
   ]
  },
  {
   "cell_type": "markdown",
   "metadata": {},
   "source": [
    "#### A.4.2 ヒートポンプサイクルの理論効率に対する熱源機の効率の比"
   ]
  },
  {
   "cell_type": "markdown",
   "metadata": {},
   "source": [
    "#### A.4.2.1 エネルギー消費量の算定におけるヒートポンプサイクルの理論効率に対する熱源機の効率の比"
   ]
  },
  {
   "cell_type": "markdown",
   "metadata": {},
   "source": [
    "暖房時："
   ]
  },
  {
   "cell_type": "markdown",
   "metadata": {},
   "source": [
    "$q_{hs,H,d,t} \\leq q_{hs,min,H}$の場合："
   ]
  },
  {
   "cell_type": "markdown",
   "metadata": {},
   "source": [
    "$$\\large\n",
    "e_{r,H,d,t}=e_{r,min,H} - (q_{hs,min,H}-q_{hs,H,d,t}) \\times \\frac{e_{r,min,H}}{q_{hs,min,H}}\n",
    "$$"
   ]
  },
  {
   "cell_type": "markdown",
   "metadata": {},
   "source": [
    "$q_{hs,min,H} < q_{hs,H,d,t} \\leq q_{hs,mid,H}$の場合："
   ]
  },
  {
   "cell_type": "markdown",
   "metadata": {},
   "source": [
    "$$\\large\n",
    "e_{r,H,d,t}=e_{r,mid,H} - (q_{hs,mid,H}-q_{hs,H,d,t}) \\times \\frac{e_{r,mid,H}-e_{r,min,H}}{q_{hs,mid,H}-q_{hs,min,H}}\n",
    "$$"
   ]
  },
  {
   "cell_type": "markdown",
   "metadata": {},
   "source": [
    "$q_{hs,mid,H} < q_{hs,H,d,t} \\leq q_{hs,rtd,H}$の場合："
   ]
  },
  {
   "cell_type": "markdown",
   "metadata": {},
   "source": [
    "$$\\large\n",
    "e_{r,H,d,t}=e_{r,rtd,H} - (q_{hs,rtd,H}-q_{hs,H,d,t}) \\times \\frac{e_{r,rtd,H}-e_{r,mid,H}}{q_{hs,rtd,H}-q_{hs,mid,H}}\n",
    "$$"
   ]
  },
  {
   "cell_type": "markdown",
   "metadata": {},
   "source": [
    "$q_{hs,rtd,H} < q_{hs,H,d,t}$の場合："
   ]
  },
  {
   "cell_type": "markdown",
   "metadata": {},
   "source": [
    "$$\\large\n",
    "e_{r,H,d,t}=\\left\\{ \\begin{array}{ll}\n",
    "    max\\left(e_{r,rtd,H}-(q_{hs,H,d,t}-q_{hs,rtd,H})\\times \\frac{e_{r,rtd,H}}{q_{hs,rtd,H}},0.4\\right) &(e_{r,rtd,H} > 0.4)\\\\ \n",
    "    e_{r,rtd,H} &(e_{r,rtd,H} \\leq 0.4)\\\\ \n",
    "    \\end{array}\n",
    "\\right.\n",
    "$$"
   ]
  },
  {
   "cell_type": "markdown",
   "metadata": {},
   "source": [
    "冷房時："
   ]
  },
  {
   "cell_type": "markdown",
   "metadata": {},
   "source": [
    "$q_{hs,C,d,t} \\leq q_{hs,min,C}$の場合："
   ]
  },
  {
   "cell_type": "markdown",
   "metadata": {},
   "source": [
    "$$\\large\n",
    "e_{r,C,d,t}=e_{r,min,C} - (q_{hs,min,C}-q_{hs,C,d,t}) \\times \\frac{e_{r,min,C}}{q_{hs,min,C}}\n",
    "$$"
   ]
  },
  {
   "cell_type": "markdown",
   "metadata": {},
   "source": [
    "$q_{hs,min,C} < q_{hs,C,d,t} \\leq q_{hs,mid,C}$の場合："
   ]
  },
  {
   "cell_type": "markdown",
   "metadata": {},
   "source": [
    "$$\\large\n",
    "e_{r,C,d,t}=e_{r,mid,C} - (q_{hs,mid,C}-q_{hs,C,d,t}) \\times \\frac{e_{r,mid,C}-e_{r,min,C}}{q_{hs,mid,C}-q_{hs,min,C}}\n",
    "$$"
   ]
  },
  {
   "cell_type": "markdown",
   "metadata": {},
   "source": [
    "$q_{hs,mid,C} < q_{hs,C,d,t} \\leq q_{hs,rtd,C}$の場合："
   ]
  },
  {
   "cell_type": "markdown",
   "metadata": {},
   "source": [
    "$$\\large\n",
    "e_{r,C,d,t}=e_{r,rtd,C} - (q_{hs,rtd,C}-q_{hs,C,d,t}) \\times \\frac{e_{r,rtd,C}-e_{r,mid,C}}{q_{hs,rtd,C}-q_{hs,mid,C}}\n",
    "$$"
   ]
  },
  {
   "cell_type": "markdown",
   "metadata": {},
   "source": [
    "$q_{hs,rtd,C} < q_{hs,C,d,t}$の場合："
   ]
  },
  {
   "cell_type": "markdown",
   "metadata": {},
   "source": [
    "$$\\large\n",
    "e_{r,C,d,t}=\\left\\{ \\begin{array}{ll}\n",
    "    max\\left(e_{r,rtd,C}-(q_{hs,C,d,t}-q_{hs,rtd,C})\\times \\frac{e_{r,rtd,C}}{q_{hs,rtd,C}},0.4\\right) &(e_{r,rtd,C} > 0.4)\\\\ \n",
    "    e_{r,rtd,C} &(e_{r,rtd,C} \\leq 0.4)\\\\ \n",
    "    \\end{array}\n",
    "\\right.\n",
    "$$"
   ]
  },
  {
   "cell_type": "markdown",
   "metadata": {},
   "source": [
    "$q_{hs,C,d,t}$：日付$d$の時刻$t$における 1 時間当たりの熱源機の平均冷房能力(W)  \n",
    "$q_{hs,mid,C}$：熱源機の中間冷房能力(W)  \n",
    "$q_{hs,min,C}$：熱源機の最小冷房能力(W)  \n",
    "$q_{hs,rtd,C}$：熱源機の定格冷房能力(W)  \n",
    "$q_{hs,H,d,t}$：日付$d$の時刻$t$における 1 時間当たりの熱源機の平均暖房能力(W)  \n",
    "$q_{hs,mid,H}$：熱源機の中間暖房能力(W)  \n",
    "$q_{hs,min,H}$：熱源機の最小暖房能力(W)  \n",
    "$q_{hs,rtd,H}$：熱源機の定格暖房能力(W)  \n",
    "$e_{r,C,d,t}$：日付$d$の時刻$t$における冷房時のヒートポンプサイクルの理論効率に対する熱源機の効率の比(-)  \n",
    "$e_{r,mid,C}$：中間冷房能力運転時のヒートポンプサイクルの理論効率に対する熱源機の効率の比(-)  \n",
    "$e_{r,min,C}$：最小冷房能力運転時のヒートポンプサイクルの理論効率に対する熱源機の効率の比(-)  \n",
    "$e_{r,rtd,C}$：定格冷房能力運転時のヒートポンプサイクルの理論効率に対する熱源機の効率の比(-)  \n",
    "$e_{r,H,d,t}$：日付$d$の時刻$t$における暖房時のヒートポンプサイクルの理論効率に対する熱源機の効率の比(-)  \n",
    "$e_{r,mid,H}$：中間暖房能力運転時のヒートポンプサイクルの理論効率に対する熱源機の効率の比(-)  \n",
    "$e_{r,min,H}$：最小暖房能力運転時のヒートポンプサイクルの理論効率に対する熱源機の効率の比(-)  \n",
    "$e_{r,rtd,H}$：定格暖房能力運転時のヒートポンプサイクルの理論効率に対する熱源機の効率の比(-)  \n"
   ]
  },
  {
   "cell_type": "code",
   "execution_count": 85,
   "metadata": {},
   "outputs": [],
   "source": [
    "def get_e_r_H_d_t(q_hs_H_d_t, q_hs_rtd_H, q_hs_min_H, q_hs_mid_H, e_r_mid_H, e_r_min_H, e_r_rtd_H):\n",
    "    \"\"\"(9-1)(9-2)(9-3)(9-4)\n",
    "\n",
    "    :param q_hs_H_d_t: 日付dの時刻tにおける1時間当たりの熱源機の平均暖房能力（-）\n",
    "    :param q_hs_rtd_H: 熱源機の定格暖房能力（-）\n",
    "    :param q_hs_min_H: 熱源機の最小暖房能力（-）\n",
    "    :param q_hs_mid_H: 熱源機の中間暖房能力（-）\n",
    "    :param e_r_mid_H: 中間暖房能力運転時のヒートポンプサイクルの理論効率に対する熱源機の効率の比（-）\n",
    "    :param e_r_min_H: 最小暖房能力運転時のヒートポンプサイクルの理論効率に対する熱源機の効率の比（-）\n",
    "    :param e_r_rtd_H: 定格暖房能力運転時のヒートポンプサイクルの理論効率に対する熱源機の効率の比（-）\n",
    "    :return: 日付dの時刻tにおける暖房時のヒートポンプサイクルの理論効率に対する熱源機の効率の比（-）\n",
    "    \"\"\"\n",
    "    f1 = q_hs_H_d_t <= q_hs_min_H\n",
    "    f2 = (q_hs_min_H < q_hs_H_d_t) & (q_hs_H_d_t <= q_hs_mid_H)\n",
    "    f3 = (q_hs_mid_H < q_hs_H_d_t) & (q_hs_H_d_t <= q_hs_rtd_H)\n",
    "    f4 = q_hs_rtd_H < q_hs_H_d_t\n",
    "\n",
    "    e_r_H_d_t = np.zeros(24 * 365)\n",
    "\n",
    "    # (9-1)\n",
    "    e_r_H_d_t[f1] = e_r_min_H - (q_hs_min_H - q_hs_H_d_t[f1]) * (e_r_min_H / q_hs_min_H)\n",
    "\n",
    "    # (9-2)\n",
    "    e_r_H_d_t[f2] = e_r_mid_H - (q_hs_mid_H - q_hs_H_d_t[f2]) \\\n",
    "                    * ((e_r_mid_H - e_r_min_H) / (q_hs_mid_H - q_hs_min_H))\n",
    "\n",
    "    # (9-3)\n",
    "    e_r_H_d_t[f3] = e_r_rtd_H - (q_hs_rtd_H - q_hs_H_d_t[f3]) \\\n",
    "                    * ((e_r_rtd_H - e_r_mid_H) / (q_hs_rtd_H - q_hs_mid_H))\n",
    "\n",
    "    # (9-4)\n",
    "    f5 = np.logical_and(f4, e_r_rtd_H > 0.4)\n",
    "    f6 = np.logical_and(f4, e_r_rtd_H <= 0.4)\n",
    "\n",
    "    e_r_H_d_t[f5] = np.clip(e_r_rtd_H - (q_hs_H_d_t[f5] - q_hs_rtd_H) * (e_r_rtd_H / q_hs_rtd_H), 0.4, None)\n",
    "\n",
    "    e_r_H_d_t[f6] = e_r_rtd_H\n",
    "\n",
    "    return e_r_H_d_t\n",
    "\n",
    "\n",
    "def get_e_r_C_d_t(q_hs_C_d_t, q_hs_rtd_C, q_hs_min_C, q_hs_mid_C, e_r_mid_C, e_r_min_C, e_r_rtd_C):\n",
    "    \"\"\"(10-1)(10-2)(10-3)(10-4)\n",
    "\n",
    "    :param q_hs_C_d_t: 日付dの時刻tにおける1時間当たりの熱源機の平均冷房能力（-）\n",
    "    :param q_hs_rtd_C: 熱源機の定格冷房能力（-）\n",
    "    :param q_hs_min_C: 熱源機の最小冷房能力（-）\n",
    "    :param q_hs_mid_C: 熱源機の中間冷房能力（-）\n",
    "    :param e_r_mid_C: 中間冷房能力運転時のヒートポンプサイクルの理論効率に対する熱源機の効率の比（-）\n",
    "    :param e_r_min_C: 最小冷房能力運転時のヒートポンプサイクルの理論効率に対する熱源機の効率の比（-）\n",
    "    :param e_r_rtd_C: 定格冷房能力運転時のヒートポンプサイクルの理論効率に対する熱源機の効率の比（-）\n",
    "    :return: 日付dの時刻tにおける冷房時のヒートポンプサイクルの理論効率に対する熱源機の効率の比（-）\n",
    "    \"\"\"\n",
    "    f1 = q_hs_C_d_t <= q_hs_min_C\n",
    "    f2 = (q_hs_min_C < q_hs_C_d_t) & (q_hs_C_d_t <= q_hs_mid_C)\n",
    "    f3 = (q_hs_mid_C < q_hs_C_d_t) & (q_hs_C_d_t <= q_hs_rtd_C)\n",
    "    f4 = q_hs_rtd_C < q_hs_C_d_t\n",
    "\n",
    "    e_r_C_d_t = np.zeros(24 * 365)\n",
    "\n",
    "    # (10-1)\n",
    "    e_r_C_d_t[f1] = e_r_min_C - (q_hs_min_C - q_hs_C_d_t[f1]) * (e_r_min_C / q_hs_min_C)\n",
    "\n",
    "    # (10-2)\n",
    "    e_r_C_d_t[f2] = e_r_mid_C - (q_hs_mid_C - q_hs_C_d_t[f2]) \\\n",
    "                    * ((e_r_mid_C - e_r_min_C) / (q_hs_mid_C - q_hs_min_C))\n",
    "\n",
    "    # (10-3)\n",
    "    e_r_C_d_t[f3] = e_r_rtd_C - (q_hs_rtd_C - q_hs_C_d_t[f3]) \\\n",
    "                    * ((e_r_rtd_C - e_r_mid_C) / (q_hs_rtd_C - q_hs_mid_C))\n",
    "\n",
    "    # (10-4)\n",
    "    f5 = np.logical_and(f4, e_r_rtd_C > 0.4)\n",
    "    f6 = np.logical_and(f4, e_r_rtd_C <= 0.4)\n",
    "\n",
    "    e_r_C_d_t[f5] = np.clip(e_r_rtd_C - (q_hs_C_d_t[f5] - q_hs_rtd_C) * (e_r_rtd_C / q_hs_rtd_C), 0.4, None)\n",
    "\n",
    "    e_r_C_d_t[f6] = e_r_rtd_C\n",
    "\n",
    "    return e_r_C_d_t"
   ]
  },
  {
   "cell_type": "markdown",
   "metadata": {},
   "source": [
    "#### A.4.2.2 JIS 試験におけるヒートポンプサイクルの理論効率に対する熱源機の効率の比"
   ]
  },
  {
   "cell_type": "markdown",
   "metadata": {},
   "source": [
    "定格暖房能力運転時のヒートポンプサイクルの理論効率に対する熱源機の効率の比$e_{r,rtd,H}$および定格冷房能力運転時のヒートポンプサイクルの理論効率に対する熱源機の効率の比$e_{r,rtd,C}$は、それぞれ、0 を下回る場合は 0 に等しいとし、1.0 を上回る場合は 1.0 に等しいとする。"
   ]
  },
  {
   "cell_type": "markdown",
   "metadata": {},
   "source": [
    "定格暖房能力運転時："
   ]
  },
  {
   "cell_type": "markdown",
   "metadata": {},
   "source": [
    "$$\\large\n",
    "e_{r,rtd,H}=\\frac{e_{hs,rtd,H}}{e_{th,rtd,H}}\n",
    "$$"
   ]
  },
  {
   "cell_type": "markdown",
   "metadata": {},
   "source": [
    "$$\\large\n",
    "e_{hs,rtd,H}=\\frac{q_{hs,rtd,H}}{P_{hs,rtd,H}-P_{fan,rtd,H}}\n",
    "$$"
   ]
  },
  {
   "cell_type": "markdown",
   "metadata": {},
   "source": [
    "定格冷房能力運転時："
   ]
  },
  {
   "cell_type": "markdown",
   "metadata": {},
   "source": [
    "$$\\large\n",
    "e_{r,rtd,C}=\\frac{e_{hs,rtd,C}}{e_{th,rtd,C}}\n",
    "$$"
   ]
  },
  {
   "cell_type": "markdown",
   "metadata": {},
   "source": [
    "$$\\large\n",
    "e_{hs,rtd,C}=\\frac{q_{hs,rtd,C}}{P_{hs,rtd,C}-P_{fan,rtd,C}}\n",
    "$$"
   ]
  },
  {
   "cell_type": "markdown",
   "metadata": {},
   "source": [
    "$e_{hs,rtd,C}$：定格冷房能力運転時の熱源機の効率(-)  \n",
    "$e_{hs,rtd,H}$：定格暖房能力運転時の熱源機の効率(-)  \n",
    "$e_{th,rtd,C}$：定格冷房能力運転時のヒートポンプサイクルの理論効率(-)  \n",
    "$e_{th,rtd,H}$：定格暖房能力運転時のヒートポンプサイクルの理論効率(-)  \n",
    "$P_{hs,rtd,C}$：熱源機の定格冷房消費電力(W)  \n",
    "$P_{hs,rtd,H}$：熱源機の定格暖房消費電力(W)  \n",
    "$P_{fan,rtd,C}$：定格冷房能力運転時の送風機の消費電力(W)  \n",
    "$P_{fan,rtd,H}$：定格暖房能力運転時の送風機の消費電力(W)  \n",
    "$q_{hs,rtd,C}$：熱源機の定格冷房能力(W)  \n",
    "$q_{hs,rtd,H}$：熱源機の定格暖房能力(W)  \n",
    "$e_{r,rtd,C}$：定格冷房能力運転時のヒートポンプサイクルの理論効率に対する熱源機の効率の比(-)  \n",
    "$e_{r,rtd,H}$：定格暖房能力運転時のヒートポンプサイクルの理論効率に対する熱源機の効率の比(-)  \n"
   ]
  },
  {
   "cell_type": "code",
   "execution_count": 86,
   "metadata": {},
   "outputs": [],
   "source": [
    "def get_e_r_rtd_H(e_th_rtd_H, q_hs_rtd_H, P_hs_rtd_H, P_fan_rtd_H):\n",
    "    \"\"\"(11a)(11b)\n",
    "\n",
    "    :param e_th_rtd_H: 定格暖房能力運転時のヒートポンプサイクルの理論効率（-）\n",
    "    :param q_hs_rtd_H: 熱源機の定格暖房能力（-）\n",
    "    :param P_hs_rtd_H: 熱源機の定格暖房消費電力（W）\n",
    "    :param P_fan_rtd_H: 定格暖房能力運転時の送風機の消費電力（W）\n",
    "    :return: 定格暖房能力運転時のヒートポンプサイクルの理論効率に対する熱源機の効率の比（-）\n",
    "    \"\"\"\n",
    "    # 定格暖房能力運転時の熱源機の効率（-）(11b)\n",
    "    if P_hs_rtd_H <= P_fan_rtd_H:\n",
    "        raise ValueError(P_fan_rtd_H)\n",
    "\n",
    "    e_hs_rtd_H = q_hs_rtd_H / (P_hs_rtd_H - P_fan_rtd_H)\n",
    "\n",
    "    # (11a)\n",
    "    e_r_rtd_H = e_hs_rtd_H / e_th_rtd_H\n",
    "\n",
    "    e_r_rtd_H = np.clip(e_r_rtd_H, 0, 1.0)\n",
    "\n",
    "    return e_r_rtd_H\n",
    "\n",
    "\n",
    "def get_e_r_rtd_C(e_th_rtd_C, q_hs_rtd_C, P_hs_rtd_C, P_fan_rtd_C):\n",
    "    \"\"\"(12a)(12b)\n",
    "\n",
    "    :param e_th_rtd_C: 定格冷房能力運転時のヒートポンプサイクルの理論効率（-）\n",
    "    :param q_hs_rtd_C: 熱源機の定格冷房能力（-）\n",
    "    :param P_hs_rtd_C: 熱源機の定格冷房消費電力（W）\n",
    "    :param P_fan_rtd_C: 定格冷房能力運転時の送風機の消費電力（W）\n",
    "    :return: 定格冷房能力運転時のヒートポンプサイクルの理論効率に対する熱源機の効率の比（-）\n",
    "    \"\"\"\n",
    "    # 定格暖房能力運転時の熱源機の効率（-）(12b)\n",
    "    if P_hs_rtd_C <= P_fan_rtd_C:\n",
    "        raise ValueError(P_hs_rtd_C)\n",
    "\n",
    "    e_hs_rtd_C = q_hs_rtd_C / (P_hs_rtd_C - P_fan_rtd_C)\n",
    "\n",
    "    # (12a)\n",
    "    e_r_rtd_C = e_hs_rtd_C / e_th_rtd_C\n",
    "\n",
    "    e_r_rtd_C = np.clip(e_r_rtd_C, 0, 1.0)\n",
    "\n",
    "    return e_r_rtd_C"
   ]
  },
  {
   "cell_type": "markdown",
   "metadata": {},
   "source": [
    "中間暖房能力運転時のヒートポンプサイクルの理論効率に対する熱源機の効率の比$e_{r,mid,H}$および中間冷房能力運転時のヒートポンプサイクルの理論効率に対する熱源機の効率の比$e_{r,mid,C}$は、それぞれ、0 を下回る場合は 0 に等しいとし、1.0 を上回る場合は 1.0 に等しいとする。"
   ]
  },
  {
   "cell_type": "markdown",
   "metadata": {},
   "source": [
    "中間暖房能力運転時："
   ]
  },
  {
   "cell_type": "markdown",
   "metadata": {},
   "source": [
    "性能試験により得られる値を用いる場合："
   ]
  },
  {
   "cell_type": "markdown",
   "metadata": {},
   "source": [
    "$$\\large\n",
    "e_{r,mid,H}=\\frac{e_{hs,mid,H}}{e_{th,mid,H}}\n",
    "$$"
   ]
  },
  {
   "cell_type": "markdown",
   "metadata": {},
   "source": [
    "$$\\large\n",
    "e_{hs,mid,H}=\\frac{q_{hs,mid,H}}{P_{hs,mid,H}-P_{fan,mid,H}}\n",
    "$$"
   ]
  },
  {
   "cell_type": "markdown",
   "metadata": {},
   "source": [
    "性能試験により得られる値を用いない場合："
   ]
  },
  {
   "cell_type": "markdown",
   "metadata": {},
   "source": [
    "$$\\large\n",
    "e_{r,mid,H}=e_{r,rtd,H} \\times 0.95\n",
    "$$"
   ]
  },
  {
   "cell_type": "markdown",
   "metadata": {},
   "source": [
    "中間冷房能力運転時："
   ]
  },
  {
   "cell_type": "markdown",
   "metadata": {},
   "source": [
    "性能試験により得られる値を用いる場合："
   ]
  },
  {
   "cell_type": "markdown",
   "metadata": {},
   "source": [
    "$$\\large\n",
    "e_{r,mid,C}=\\frac{e_{hs,mid,C}}{e_{th,mid,C}}\n",
    "$$"
   ]
  },
  {
   "cell_type": "markdown",
   "metadata": {},
   "source": [
    "$$\\large\n",
    "e_{hs,mid,C}=\\frac{q_{hs,mid,C}}{P_{hs,mid,C}-P_{fan,mid,C}}\n",
    "$$"
   ]
  },
  {
   "cell_type": "markdown",
   "metadata": {},
   "source": [
    "性能試験により得られる値を用いない場合："
   ]
  },
  {
   "cell_type": "markdown",
   "metadata": {},
   "source": [
    "$$\\large\n",
    "e_{r,mid,C}=e_{r,rtd,C} \\times 0.95\n",
    "$$"
   ]
  },
  {
   "cell_type": "markdown",
   "metadata": {},
   "source": [
    "$e_{hs,mid,C}$：中間冷房能力運転時の熱源機の効率(-)  \n",
    "$e_{hs,mid,H}$：中間暖房能力運転時の熱源機の効率(-)  \n",
    "$e_{th,mid,C}$：中間冷房能力運転時のヒートポンプサイクルの理論効率(-)  \n",
    "$e_{th,mid,H}$：中間暖房能力運転時のヒートポンプサイクルの理論効率(-)  \n",
    "$P_{hs,mid,C}$：熱源機の中間冷房消費電力(W)  \n",
    "$P_{hs,mid,H}$：熱源機の中間暖房消費電力(W)  \n",
    "$P_{fan,mid,C}$：中間冷房能力運転時の送風機の消費電力(W)  \n",
    "$P_{fan,mid,H}$：中間暖房能力運転時の送風機の消費電力(W)  \n",
    "$q_{hs,mid,C}$：中間冷房能力(W)  \n",
    "$q_{hs,mid,H}$：中間暖房能力(W)  \n",
    "$e_{r,mid,C}$：中間冷房能力運転時のヒートポンプサイクルの理論効率に対する熱源機の効率の比(-)  \n",
    "$e_{r,mid,H}$：中間暖房能力運転時のヒートポンプサイクルの理論効率に対する熱源機の効率の比(-)  \n",
    "$e_{r,rtd,C}$：定格冷房能力運転時のヒートポンプサイクルの理論効率に対する熱源機の効率の比(-)  \n",
    "$e_{r,rtd,H}$：定格暖房能力運転時のヒートポンプサイクルの理論効率に対する熱源機の効率の比(-)  \n"
   ]
  },
  {
   "cell_type": "code",
   "execution_count": 87,
   "metadata": {},
   "outputs": [],
   "source": [
    "def get_e_r_mid_H(e_r_rtd_H, e_th_mid_H, q_hs_mid_H, P_hs_mid_H, P_fan_mid_H, EquipmentSpec):\n",
    "    \"\"\"(13a-1)(13b)(13a-2)\n",
    "\n",
    "    :param e_r_rtd_H:定格暖房能力運転時のヒートポンプサイクルの理論効率に対する熱源機の効率の比（-）\n",
    "    :param e_th_mid_H:中間暖房能力運転時のヒートポンプサイクルの理論効率（-）\n",
    "    :param q_hs_mid_H:中間暖房能力（-）※ 付録B\n",
    "    :param P_hs_mid_H:熱源機の中間暖房消費電力（W）※ 付録B\n",
    "    :param P_fan_mid_H:中間暖房能力運転時の送風機の消費電力（W）※ 付録B\n",
    "    :param EquipmentSpec:機器の仕様\n",
    "    :return:中間暖房能力運転時のヒートポンプサイクルの理論効率に対する熱源機の効率の比（-）\n",
    "    \"\"\"\n",
    "    # (13a-2)\n",
    "    if EquipmentSpec == '入力しない' or EquipmentSpec == '定格能力試験の値を入力する':\n",
    "\n",
    "        e_r_mid_H = e_r_rtd_H * 0.95\n",
    "\n",
    "    # (13a-1)(13b)\n",
    "    elif EquipmentSpec == '定格能力試験と中間能力試験の値を入力する':\n",
    "\n",
    "        # 中間暖房能力運転時の熱源機の効率（-）\n",
    "        if P_hs_mid_H <= P_fan_mid_H:\n",
    "            raise ValueError(P_fan_mid_H)\n",
    "\n",
    "        e_hs_mid_H = q_hs_mid_H / (P_hs_mid_H - P_fan_mid_H)\n",
    "\n",
    "        e_r_mid_H = e_hs_mid_H / e_th_mid_H\n",
    "\n",
    "    else:\n",
    "        raise ValueError(EquipmentSpec)\n",
    "\n",
    "    e_r_mid_H = np.clip(e_r_mid_H, 0, 1.0)\n",
    "\n",
    "    return e_r_mid_H\n",
    "\n",
    "\n",
    "def get_e_r_mid_C(e_r_rtd_C, e_th_mid_C, q_hs_mid_C, P_hs_mid_C, P_fan_mid_C, EquipmentSpec):\n",
    "    \"\"\"(14a-1)(14b)(14a-2)\n",
    "\n",
    "    :param e_r_rtd_C:定格冷房能力運転時のヒートポンプサイクルの理論効率に対する熱源機の効率の比（-）\n",
    "    :param e_th_mid_C:中間冷房能力運転時のヒートポンプサイクルの理論効率（-）\n",
    "    :param q_hs_mid_C:中間冷房能力（-）※付録B\n",
    "    :param P_hs_mid_C:熱源機の中間冷房消費電力（W）※付録B\n",
    "    :param P_fan_mid_C:中間冷房能力運転時の送風機の消費電力（W）※付録B\n",
    "    :param EquipmentSpec:機器の仕様\n",
    "    :return:中間冷房能力運転時のヒートポンプサイクルの理論効率に対する熱源機の効率の比（-）\n",
    "    \"\"\"\n",
    "    # (14a-2)\n",
    "    if EquipmentSpec == '入力しない' or EquipmentSpec == '定格能力試験の値を入力する':\n",
    "\n",
    "        e_r_mid_C = e_r_rtd_C * 0.95\n",
    "\n",
    "    # (14a-1)(14b)\n",
    "    elif EquipmentSpec == '定格能力試験と中間能力試験の値を入力する':\n",
    "\n",
    "        # 中間暖房能力運転時の熱源機の効率（-）\n",
    "        if P_hs_mid_C <= P_fan_mid_C:\n",
    "            raise ValueError(P_hs_mid_C)\n",
    "\n",
    "        e_hs_mid_C = q_hs_mid_C / (P_hs_mid_C - P_fan_mid_C)\n",
    "\n",
    "        e_r_mid_C = e_hs_mid_C / e_th_mid_C\n",
    "\n",
    "    else:\n",
    "        raise ValueError(EquipmentSpec)\n",
    "\n",
    "    e_r_mid_C = np.clip(e_r_mid_C, 0, 1.0)\n",
    "\n",
    "    return e_r_mid_C"
   ]
  },
  {
   "cell_type": "markdown",
   "metadata": {},
   "source": [
    "最小暖房能力運転時："
   ]
  },
  {
   "cell_type": "markdown",
   "metadata": {},
   "source": [
    "$$\\large\n",
    "e_{r,min,H}=e_{r,rtd,H} \\times 0.65\n",
    "$$"
   ]
  },
  {
   "cell_type": "markdown",
   "metadata": {},
   "source": [
    "最小冷房能力運転時："
   ]
  },
  {
   "cell_type": "markdown",
   "metadata": {},
   "source": [
    "$$\\large\n",
    "e_{r,min,C}=e_{r,rtd,C} \\times 0.65\n",
    "$$"
   ]
  },
  {
   "cell_type": "markdown",
   "metadata": {},
   "source": [
    "$e_{r,min,C}$：最小冷房能力運転時のヒートポンプサイクルの理論効率に対する熱源機の効率の比(-)  \n",
    "$e_{r,min,H}$：最小暖房能力運転時のヒートポンプサイクルの理論効率に対する熱源機の効率の比(-)  \n",
    "$e_{r,rtd,C}$：定格冷房能力運転時のヒートポンプサイクルの理論効率に対する熱源機の効率の比(-)  \n",
    "$e_{r,rtd,H}$：定格暖房能力運転時のヒートポンプサイクルの理論効率に対する熱源機の効率の比(-)  \n"
   ]
  },
  {
   "cell_type": "code",
   "execution_count": 88,
   "metadata": {},
   "outputs": [],
   "source": [
    "def get_e_r_min_H(e_r_rtd_H):\n",
    "    \"\"\"(15)\n",
    "\n",
    "    :param e_r_rtd_H:定格暖房能力運転時のヒートポンプサイクルの理論効率に対する熱源機の効率の比（-）\n",
    "    :return:最小暖房能力運転時のヒートポンプサイクルの理論効率に対する熱源機の効率の比（-）\n",
    "    \"\"\"\n",
    "    return e_r_rtd_H * 0.65\n",
    "\n",
    "\n",
    "def get_e_r_min_C(e_r_rtd_C):\n",
    "    \"\"\"(16)\n",
    "\n",
    "    :param e_r_rtd_C:定格冷房能力運転時のヒートポンプサイクルの理論効率に対する熱源機の効率の比（-）\n",
    "    :return:最小冷房能力運転時のヒートポンプサイクルの理論効率に対する熱源機の効率の比（-）\n",
    "    \"\"\"\n",
    "    return e_r_rtd_C * 0.65"
   ]
  },
  {
   "cell_type": "markdown",
   "metadata": {},
   "source": [
    "#### A.4.3 ヒートポンプサイクルの理論効率"
   ]
  },
  {
   "cell_type": "markdown",
   "metadata": {},
   "source": [
    "#### A.4.3.1 エネルギー消費量の算定におけるヒートポンプサイクルの理論効率"
   ]
  },
  {
   "cell_type": "markdown",
   "metadata": {},
   "source": [
    "$$\\large\n",
    "e_{th,H,d,t}=e'_{th,d,t}\n",
    "$$"
   ]
  },
  {
   "cell_type": "markdown",
   "metadata": {},
   "source": [
    "$$\\large\n",
    "e_{th,C,d,t}=e'_{th,d,t}-1\n",
    "$$"
   ]
  },
  {
   "cell_type": "markdown",
   "metadata": {},
   "source": [
    "$e_{th,C,d,t}$：日付$d$の時刻$t$における冷房時のヒートポンプサイクルの理論効率(-)  \n",
    "$e_{th,H,d,t}$：日付$d$の時刻$t$における暖房時のヒートポンプサイクルの理論効率(-)  \n",
    "$e'_{th,d,t}$：日付$d$の時刻$t$におけるヒートポンプサイクル（加熱）の理論効率(-)  \n"
   ]
  },
  {
   "cell_type": "code",
   "execution_count": 89,
   "metadata": {},
   "outputs": [],
   "source": [
    "def calc_e_th_H_d_t(Theta_ex_d_t, Theta_hs_in_d_t, Theta_hs_out_d_t, V_hs_supply_d_t):\n",
    "    \"\"\"(17)\n",
    "\n",
    "    :param Theta_ex_d_t: 日付dの時刻tにおける外気温\n",
    "    :param Theta_hs_in_d_t: 日付dの時刻tにおける熱源機の入口における空気温度\n",
    "    :param Theta_hs_out_d_t: 日付dの時刻tにおける熱源機の出口における空気温度\n",
    "    :param V_hs_supply_d_t: 日付dの時刻tにおける熱源機の風量\n",
    "    :param alpha_c_hex_H: 暖房時の室内熱交換器表面の顕熱伝達率（W/(m2・K)）\n",
    "    :return: 日付dの時刻tにおける暖房時のヒートポンプサイクルの理論効率（-）\n",
    "    \"\"\"\n",
    "    e_dash_th_d_t = np.zeros(24 * 365)\n",
    "    for i in range(24 * 365):\n",
    "        # (35)\n",
    "        alpha_c_hex_H = get_alpha_c_hex_H(V_hs_supply_d_t[i])\n",
    "\n",
    "        # (31)\n",
    "        Theta_sur_f_hex_H = get_Theta_sur_f_hex_H_calc(Theta_hs_in_d_t[i], Theta_hs_out_d_t[i], V_hs_supply_d_t[i],\n",
    "                                                       alpha_c_hex_H)\n",
    "\n",
    "        # (23)\n",
    "        Theta_ref_cnd_H = get_Theta_ref_cnd_H(Theta_sur_f_hex_H)\n",
    "\n",
    "        # (24)\n",
    "        Theta_ref_evp_H = get_Theta_ref_evp_H(Theta_ex_d_t[i], Theta_ref_cnd_H)\n",
    "\n",
    "        # (25)\n",
    "        Theta_ref_SC_H = get_Theta_ref_SC_H(Theta_ref_cnd_H)\n",
    "\n",
    "        # (26)\n",
    "        Theta_ref_SH_H = get_Theta_ref_SH_H(Theta_ref_cnd_H)\n",
    "\n",
    "        # 4_8_a (1) ヒートポンプサイクルの理論暖房効率\n",
    "        e_dash_th_d_t[i] = calc_e_ref_H_th(Theta_ref_evp_H, Theta_ref_cnd_H, Theta_ref_SC_H, Theta_ref_SH_H)\n",
    "\n",
    "    # (17)\n",
    "    return e_dash_th_d_t\n",
    "\n",
    "\n",
    "def calc_e_th_C_d_t(Theta_ex_d_t, Theta_hs_in_d_t, X_hs_in_d_t, Theta_hs_out_d_t, V_hs_supply_d_t):\n",
    "    \"\"\"(18)\n",
    "\n",
    "    :param Theta_ex_d_t: 日付dの時刻tにおける外気温\n",
    "    :param Theta_hs_in_d_t: 日付dの時刻tにおける熱源機の入口における空気温度\n",
    "    :param X_hs_in_d_t: 日付dの時刻tにおける熱源機の入口における絶対湿度\n",
    "    :param Theta_hs_out_d_t: 日付dの時刻tにおける熱源機の出口における空気温度\n",
    "    :param V_hs_supply_d_t: 日付dの時刻tにおける熱源機の風量\n",
    "    :param alpha_c_hex_C: 冷房時の室内熱交換器表面の顕熱伝達率（W/(m2・K)）\n",
    "    :return: 日付dの時刻tにおける暖房時のヒートポンプサイクルの理論効率（-）\n",
    "    \"\"\"\n",
    "    e_dash_th_d_t = np.zeros(24 * 365)\n",
    "    Theta_sur_f_hex_C = np.zeros(24 * 365)\n",
    "    for i in range(24 * 365):\n",
    "        # (36)\n",
    "        alpha_c_hex_C, alpha_dash_c_hex_C = get_alpha_c_hex_C(V_hs_supply_d_t[i], X_hs_in_d_t[i])\n",
    "\n",
    "        # (32)\n",
    "        Theta_sur_f_hex_C[i] = get_Theta_sur_f_hex_C_calc(Theta_hs_in_d_t[i], Theta_hs_out_d_t[i], V_hs_supply_d_t[i],\n",
    "                                                       alpha_c_hex_C)\n",
    "\n",
    "        # (28)\n",
    "        Theta_ref_evp_C = get_Theta_ref_evp_C(Theta_sur_f_hex_C[i])\n",
    "\n",
    "        # (27)\n",
    "        Theta_ref_cnd_C = get_Theta_ref_cnd_C(Theta_ex_d_t[i], Theta_ref_evp_C)\n",
    "\n",
    "        # (29)\n",
    "        Theta_ref_SC_C = get_Theta_ref_SC_C(Theta_ref_cnd_C)\n",
    "\n",
    "        # (30)\n",
    "        Theta_ref_SH_C = get_Theta_ref_SH_C(Theta_ref_cnd_C)\n",
    "\n",
    "        # 4_8_a (1) ヒートポンプサイクルの理論暖房効率\n",
    "        e_dash_th_d_t[i] = calc_e_ref_H_th(Theta_ref_evp_C, Theta_ref_cnd_C, Theta_ref_SC_C, Theta_ref_SH_C)\n",
    "\n",
    "    # (18)\n",
    "    return e_dash_th_d_t - 1"
   ]
  },
  {
   "cell_type": "markdown",
   "metadata": {},
   "source": [
    "<div style=\"text-align: center;font-weight: bold;\">表　算定式における記号に対応する変数</div>\n",
    "\n",
    "<table>\n",
    "<thead>\n",
    "<tr>\n",
    "<th colspan=\"2\" rowspan=\"2\" style=\"text-align: center;\">算定式における記号</th>\n",
    "<th colspan=\"2\" style=\"text-align: center;\">算定式における記号に対応する変数</th>\n",
    "</tr>\n",
    "<tr>\n",
    "<th>暖房時のヒートポンプサイクル<br>\n",
    "の理論効率$e_{th,H,d,t}$（式 17）を<br>\n",
    "算定する場合</th>\n",
    "<th>冷房時のヒートポンプサイクル<br>\n",
    "の理論効率$e_{th,C,d,t}$（式 18）を<br>\n",
    "算定する場合</th>\n",
    "</tr>\n",
    "</thead>\n",
    "<tbody>\n",
    "<tr>\n",
    "    <th>暖房時の蒸発温度<br>$\\theta_{ref,env,H}$（式 24）<br>または<br>冷房時の凝縮温度<br>$\\theta_{ref,cnd,C}$（式 27）</th>\n",
    "    <th>外気温度(℃)$\\theta_{ex}$</th>\n",
    "    <td>日付$d$の時刻$t$における外気温度$\\theta_{ex,d,t}$</td>\n",
    "    <td>日付$d$の時刻$t$における外気温度$\\theta_{ex,d,t}$</td>\n",
    "</tr>\n",
    "<tr>\n",
    "    <th rowspan=\"4\">暖房時の室内機熱交換器の<br>表面温度$\\theta_{surf,hex,H}$（式 31）<br>または<br>冷房時の室内機熱交換器の<br>表面温度$\\theta_{surf,hex,C}$（式 32）</th>\n",
    "    <th>熱源機の入口における空気温度(℃)$\\theta_{hs,in}$</th>\n",
    "    <td>日付$d$の時刻$t$における熱源機の入口における空気温度$\\theta_{hs,in,d,t}$</td>\n",
    "    <td>日付$d$の時刻$t$における熱源機の入口における空気温度$\\theta_{hs,in,d,t}$</td>\n",
    "</tr>\n",
    "<tr>\n",
    "    <th>熱源機の入口における絶対湿度(kg/kg(DA))$X_{hs,in}$</th>\n",
    "    <td>-</td>\n",
    "    <td>日付$d$の時刻$t$における熱源機の入口における絶対湿度$X_{hs,in,d,t}$</td>\n",
    "</tr>\n",
    "<tr>\n",
    "    <th>熱源機の出口における空気温度(℃)$\\theta_{hs,out}$</th>\n",
    "    <td>日付$d$の時刻$t$における熱源機の出口における空気温度$\\theta_{hs,out,d,t}$</td>\n",
    "    <td>日付$d$の時刻$t$における熱源機の出口における空気温度$\\theta_{hs,out,d,t}$</td>\n",
    "</tr>\n",
    "<tr>\n",
    "    <th>熱源機の風量($m^3$/h)$V_{hs,supply}$</th>\n",
    "    <td>日付$d$の時刻$t$における熱源機の風量$V_{hs,supply,d,t}$</td>\n",
    "    <td>日付$d$の時刻$t$における熱源機の風量$V_{hs,supply,d,t}$</td>\n",
    "</tr>\n",
    "</tbody>\n",
    "</table>"
   ]
  },
  {
   "cell_type": "markdown",
   "metadata": {},
   "source": [
    "#### A.4.3.2 JIS 試験におけるヒートポンプサイクルの理論効率"
   ]
  },
  {
   "cell_type": "markdown",
   "metadata": {},
   "source": [
    "$$\\large\n",
    "e_{th,rtd,H}=e'_{th,rtd,H}\n",
    "$$"
   ]
  },
  {
   "cell_type": "markdown",
   "metadata": {},
   "source": [
    "$$\\large\n",
    "e_{th,mid,H}=e'_{th,mid,H}\n",
    "$$"
   ]
  },
  {
   "cell_type": "markdown",
   "metadata": {},
   "source": [
    "$$\\large\n",
    "e_{th,rtd,C}=e'_{th,rtd,C}-1\n",
    "$$"
   ]
  },
  {
   "cell_type": "markdown",
   "metadata": {},
   "source": [
    "$$\\large\n",
    "e_{th,mid,C}=e'_{th,mid,C}-1\n",
    "$$"
   ]
  },
  {
   "cell_type": "markdown",
   "metadata": {},
   "source": [
    "$e_{th,mid,C}$：中間冷房能力運転時のヒートポンプサイクルの理論効率(-)  \n",
    "$e_{th,mid,H}$：中間暖房能力運転時のヒートポンプサイクルの理論効率(-)  \n",
    "$e_{th,rtd,C}$：定格冷房能力運転時のヒートポンプサイクルの理論効率(-)  \n",
    "$e_{th,rtd,H}$：定格暖房能力運転時のヒートポンプサイクルの理論効率(-)  \n",
    "$e'_{th,mid,C}$：中間冷房能力運転時のヒートポンプサイクル（加熱）の理論効率(-)  \n",
    "$e'_{th,mid,H}$：中間暖房能力運転時のヒートポンプサイクル（加熱）の理論効率(-)  \n",
    "$e'_{th,rtd,C}$：定格冷房能力運転時のヒートポンプサイクル（加熱）の理論効率(-)  \n",
    "$e'_{th,rtd,H}$：定格暖房能力運転時のヒートポンプサイクル（加熱）の理論効率(-)  \n"
   ]
  },
  {
   "cell_type": "code",
   "execution_count": 90,
   "metadata": {},
   "outputs": [],
   "source": [
    "def calc_e_th_rtd_H(V_fan_rtd_H, q_hs_rtd_H):\n",
    "    \"\"\"(19)\n",
    "\n",
    "    :param V_fan_rtd_H: 定格暖房能力運転時の送風機の風量（m3/h）\n",
    "    :param q_hs_rtd_H: 定格暖房能力（W）\n",
    "    :param alpha_c_hex_H: 暖房時の室内熱交換器表面の顕熱伝達率（W/(m2・K)）\n",
    "    :return: 定格暖房能力運転時のヒートポンプサイクルサイクルの理論効率（-）\n",
    "    \"\"\"\n",
    "    # (35)\n",
    "    alpha_c_hex_H = get_alpha_c_hex_H(V_fan_rtd_H)\n",
    "\n",
    "    # (33)\n",
    "    Theta_sur_f_hex_H = get_Theta_sur_f_hex_H_JIS(V_fan_rtd_H, q_hs_rtd_H, alpha_c_hex_H)\n",
    "\n",
    "    # (23)\n",
    "    Theta_ref_cnd_H = get_Theta_ref_cnd_H(Theta_sur_f_hex_H)\n",
    "\n",
    "    # (24)\n",
    "    Theta_ref_evp_H = get_Theta_ref_evp_H(7, Theta_ref_cnd_H)\n",
    "\n",
    "     # (25)\n",
    "    Theta_ref_SC_H = get_Theta_ref_SC_H(Theta_ref_cnd_H)\n",
    "\n",
    "    # (26)\n",
    "    Theta_ref_SH_H = get_Theta_ref_SH_H(Theta_ref_cnd_H)\n",
    "\n",
    "    # 4_8_a (1) ヒートポンプサイクルの理論暖房効率\n",
    "    e_dash_th_rtd_H = calc_e_ref_H_th(Theta_ref_evp_H, Theta_ref_cnd_H, Theta_ref_SC_H, Theta_ref_SH_H)\n",
    "\n",
    "    # (19)\n",
    "    return e_dash_th_rtd_H\n",
    "\n",
    "\n",
    "def calc_e_th_mid_H(V_fan_mid_H, q_hs_mid_H):\n",
    "    \"\"\"(20)\n",
    "\n",
    "    :param V_fan_mid_H: 中間暖房能力運転時の送風機の風量（m3/h）\n",
    "    :param q_hs_mid_H: 熱源機の中間暖房能力（W）\n",
    "    :param alpha_c_hex_H: 暖房時の室内熱交換器表面の顕熱伝達率（W/(m2・K)）\n",
    "    :return: 中間暖房能力運転時のヒートポンプサイクルサイクルの理論効率（-）\n",
    "    \"\"\"\n",
    "    # (35)\n",
    "    alpha_c_hex_H = get_alpha_c_hex_H(V_fan_mid_H)\n",
    "\n",
    "    # (33)\n",
    "    Theta_sur_f_hex_H = get_Theta_sur_f_hex_H_JIS(V_fan_mid_H, q_hs_mid_H, alpha_c_hex_H)\n",
    "\n",
    "    # (23)\n",
    "    Theta_ref_cnd_H = get_Theta_ref_cnd_H(Theta_sur_f_hex_H)\n",
    "\n",
    "    # (24)\n",
    "    Theta_ref_evp_H = get_Theta_ref_evp_H(7, Theta_ref_cnd_H)\n",
    "\n",
    "     # (25)\n",
    "    Theta_ref_SC_H = get_Theta_ref_SC_H(Theta_ref_cnd_H)\n",
    "\n",
    "    # (26)\n",
    "    Theta_ref_SH_H = get_Theta_ref_SH_H(Theta_ref_cnd_H)\n",
    "\n",
    "    # 4_8_a (1) ヒートポンプサイクルの理論暖房効率\n",
    "    e_dash_th_mid_H = calc_e_ref_H_th(Theta_ref_evp_H, Theta_ref_cnd_H, Theta_ref_SC_H, Theta_ref_SH_H)\n",
    "\n",
    "    # (20)\n",
    "    return e_dash_th_mid_H\n",
    "\n",
    "\n",
    "def calc_e_th_rtd_C(V_fan_rtd_C, q_hs_rtd_C):\n",
    "    \"\"\"(21)\n",
    "\n",
    "    :param V_fan_rtd_H: 定格冷房能力運転時の送風機の風量（m3/h）\n",
    "    :param q_hs_rtd_H: 定格冷房能力（W）\n",
    "    :return: 定格冷房能力運転時のヒートポンプサイクルサイクルの理論効率（-）\n",
    "    \"\"\"\n",
    "    # 表5より\n",
    "    X_hs_in = 0.010376\n",
    "    # (36)\n",
    "    alpha_c_hex_C, alpha_dash_c_hex_C = get_alpha_c_hex_C(V_fan_rtd_C, X_hs_in)\n",
    "\n",
    "    # (34)\n",
    "    def func(x):\n",
    "        # 表5より\n",
    "        q_hs_C = q_hs_rtd_C\n",
    "\n",
    "        # 連立方程式を解くために(34a)の左辺を移項し、左辺を0にしておく\n",
    "        return calc_Theta_sur_f_hex_C_JIS(x, V_fan_rtd_C, alpha_c_hex_C, alpha_dash_c_hex_C) - q_hs_C\n",
    "\n",
    "    # x = fsolve(fun,x0) は、点 x0 を開始点として方程式 fun(x) = 0 (ゼロの配列) の解を求めようとする\n",
    "    Theta_sur_f_hex_C = optimize.bisect(func, -273.15, 99.96)\n",
    "\n",
    "    # (28)\n",
    "    Theta_ref_evp_C = get_Theta_ref_evp_C(Theta_sur_f_hex_C)\n",
    "\n",
    "    # (27)\n",
    "    Theta_ref_cnd_C = get_Theta_ref_cnd_C(35, Theta_ref_evp_C)\n",
    "\n",
    "    # (29)\n",
    "    Theta_ref_SC_C = get_Theta_ref_SC_C(Theta_ref_cnd_C)\n",
    "\n",
    "    # (30)\n",
    "    Theta_ref_SH_C = get_Theta_ref_SH_C(Theta_ref_cnd_C)\n",
    "\n",
    "    # 4_8_a (1) ヒートポンプサイクルの理論暖房効率\n",
    "    e_dash_th_rtd_C = calc_e_ref_H_th(Theta_ref_evp_C, Theta_ref_cnd_C, Theta_ref_SC_C, Theta_ref_SH_C)\n",
    "\n",
    "    # (21)\n",
    "    return e_dash_th_rtd_C - 1\n",
    "\n",
    "\n",
    "def calc_e_th_mid_C(V_fan_mid_C, q_hs_mid_C):\n",
    "    \"\"\"(22)\n",
    "\n",
    "    :param V_fan_rtd_H: 定格冷房能力運転時の送風機の風量（m3/h）\n",
    "    :param q_hs_rtd_H: 定格冷房能力（W）\n",
    "    :return: 定格冷房能力運転時のヒートポンプサイクルサイクルの理論効率（-）\n",
    "    \"\"\"\n",
    "    # 表5より\n",
    "    X_hs_in = 0.010376\n",
    "    # (36)\n",
    "    alpha_c_hex_C, alpha_dash_c_hex_C = get_alpha_c_hex_C(V_fan_mid_C, X_hs_in)\n",
    "\n",
    "    # (34)\n",
    "    def func(x):\n",
    "        # 表5より\n",
    "        q_hs_C = q_hs_mid_C\n",
    "\n",
    "        # 連立方程式を解くために(34a)の左辺を移項し、左辺を0にしておく\n",
    "        return calc_Theta_sur_f_hex_C_JIS(x, V_fan_mid_C, alpha_c_hex_C, alpha_dash_c_hex_C) - q_hs_C\n",
    "\n",
    "    # x = fsolve(fun,x0) は、点 x0 を開始点として方程式 fun(x) = 0 (ゼロの配列) の解を求めようとする\n",
    "    Theta_sur_f_hex_C = optimize.bisect(func, -273.15, 99.96)\n",
    "\n",
    "    # (28)\n",
    "    Theta_ref_evp_C = get_Theta_ref_evp_C(Theta_sur_f_hex_C)\n",
    "\n",
    "    # (27)\n",
    "    Theta_ref_cnd_C = get_Theta_ref_cnd_C(35, Theta_ref_evp_C)\n",
    "\n",
    "    # (29)\n",
    "    Theta_ref_SC_C = get_Theta_ref_SC_C(Theta_ref_cnd_C)\n",
    "\n",
    "    # (30)\n",
    "    Theta_ref_SH_C = get_Theta_ref_SH_C(Theta_ref_cnd_C)\n",
    "\n",
    "    # 4_8_a (1) ヒートポンプサイクルの理論暖房効率\n",
    "    e_dash_th_mid_C = calc_e_ref_H_th(Theta_ref_evp_C, Theta_ref_cnd_C, Theta_ref_SC_C, Theta_ref_SH_C)\n",
    "\n",
    "    # (22)\n",
    "    return e_dash_th_mid_C - 1"
   ]
  },
  {
   "cell_type": "markdown",
   "metadata": {},
   "source": [
    "<div style=\"text-align: center;font-weight: bold;\">表　記号に対応する変数</div>\n",
    "\n",
    "<table>\n",
    "<thead>\n",
    "<tr>\n",
    "<th colspan=\"2\" rowspan=\"2\" style=\"text-align: center;\">算定式における記号</th>\n",
    "<th colspan=\"4\" style=\"text-align: center;\">対応する変数</th>\n",
    "</tr>\n",
    "<tr>\n",
    "<th>定格暖房能力<br>\n",
    "運転時のヒート<br>\n",
    "ポンプサイクル<br>\n",
    "の理論効率<br>\n",
    "$e_{th,rtd,H}$（式 19）<br>\n",
    "を算定する場合</th>\n",
    "<th>中間暖房能力<br>\n",
    "運転時のヒート<br>\n",
    "ポンプサイクル<br>\n",
    "の理論効率<br>\n",
    "$e_{th,mid,H}$（式 20）<br>\n",
    "を算定する場合</th>\n",
    "<th>定格冷房能力<br>\n",
    "運転時のヒート<br>\n",
    "ポンプサイクル<br>\n",
    "の理論効率<br>\n",
    "$e_{th,rtd,C}$（式 21）<br>\n",
    "を算定する場合</th>\n",
    "<th>中間冷房能力<br>\n",
    "運転時のヒート<br>\n",
    "ポンプサイクル<br>\n",
    "の理論効率<br>\n",
    "$e_{th,mid,C}$（式 22）<br>\n",
    "を算定する場合</th>\n",
    "</tr>\n",
    "</thead>\n",
    "<tbody>\n",
    "<tr>\n",
    "    <th>暖房時の蒸発温度<br>$\\theta_{ref,env,H}$（式 24）<br>または<br>冷房時の凝縮温度<br>$\\theta_{ref,cnd,C}$（式 27）</th>\n",
    "    <th>外気温度(℃)$\\theta_{ex}$</th>\n",
    "    <td>7</td>\n",
    "    <td>7</td>\n",
    "    <td>35</td>\n",
    "    <td>35</td>\n",
    "</tr>\n",
    "<tr>\n",
    "    <th rowspan=\"5\">暖房時の室内機熱交換器の<br>表面温度$\\theta_{surf,hex,H}$（式 31）<br>または<br>冷房時の室内機熱交換器の<br>表面温度$\\theta_{surf,hex,C}$（式 32）</th>\n",
    "    <th>熱源機の入口における<br>空気温度(℃)$\\theta_{hs,in}$</th>\n",
    "    <td>20</td>\n",
    "    <td>20</td>\n",
    "    <td>27</td>\n",
    "    <td>27</td>\n",
    "</tr>\n",
    "<tr>\n",
    "    <th>熱源機の入口における<br>絶対湿度(kg/kg(DA))$X_{hs,in}$</th>\n",
    "    <td>-</td>\n",
    "    <td>-</td>\n",
    "    <td>0.010376</td>\n",
    "    <td>0.010376</td>\n",
    "</tr>\n",
    "<tr>\n",
    "    <th>熱源機の風量($m^3$/h)$V_{hs,supply}$</th>\n",
    "    <td>$V_{fan,rtd,H}$</td>\n",
    "    <td>$V_{fan,mid,H}$</td>\n",
    "    <td>$V_{fan,rtd,C}$</td>\n",
    "    <td>$V_{fan,mid,C}$</td>\n",
    "</tr>\n",
    "<tr>\n",
    "    <th>熱源機の暖房能力(W)$q_{hs,H}$</th>\n",
    "    <td>$q_{hs,rtd,H}$</td>\n",
    "    <td>$q_{hs,mid,H}$</td>\n",
    "    <td>-</td>\n",
    "    <td>-</td>\n",
    "</tr>\n",
    "<tr>\n",
    "    <th>熱源機の冷房能力(W)$q_{hs,C}$</th>\n",
    "    <td>-</td>\n",
    "    <td>-</td>\n",
    "    <td>$q_{hs,rtd,C}$</td>\n",
    "    <td>$q_{hs,mid,C}$</td>\n",
    "</tr>\n",
    "</tbody>\n",
    "</table>"
   ]
  },
  {
   "cell_type": "markdown",
   "metadata": {},
   "source": [
    "#### A.4.4 冷媒温度"
   ]
  },
  {
   "cell_type": "markdown",
   "metadata": {},
   "source": [
    "凝縮温度$\\theta_{ref,cnd,H}$は、65℃を上回る場合、65℃に等しいとする。蒸発温度$\\theta_{ref,evp,H}$は、-50℃を下回る場合、-50℃に等しいとし、また、$\\theta_{ref,cnd,H}$ − 5.0を上回る場合、$\\theta_{ref,cnd,H}$ −5.0に等しいとする。"
   ]
  },
  {
   "cell_type": "markdown",
   "metadata": {},
   "source": [
    "$$\\large\n",
    "\\theta_{ref,cnd,H}=\\theta_{surf,hex,H}\n",
    "$$"
   ]
  },
  {
   "cell_type": "markdown",
   "metadata": {},
   "source": [
    "$$\\large\n",
    "\\theta_{ref,evp,H}=\\theta_{ex}-(0.100 \\times \\theta_{ref,cnd,H} + 2.95)\n",
    "$$"
   ]
  },
  {
   "cell_type": "markdown",
   "metadata": {},
   "source": [
    "$$\\large\n",
    "\\theta_{ref,SC,H}=0.245 \\times \\theta_{ref,cnd,H} − 1.72\n",
    "$$"
   ]
  },
  {
   "cell_type": "markdown",
   "metadata": {},
   "source": [
    "$$\\large\n",
    "\\theta_{ref,SH,H}=4.49 − 0.036  \\times \\theta_{ref,cnd,H}\n",
    "$$"
   ]
  },
  {
   "cell_type": "markdown",
   "metadata": {},
   "source": [
    "$\\theta_{ex}$：外気温度(℃)  \n",
    "$\\theta_{ref,cnd,H}$：暖房時の冷媒の凝縮温度(℃)  \n",
    "$\\theta_{ref,evp,H}$：暖房時の冷媒の蒸発温度(℃)  \n",
    "$\\theta_{ref,SC,H}$：暖房時の冷媒の過冷却度(℃)  \n",
    "$\\theta_{ref,SH,H}$：暖房時の冷媒の過熱度(℃)  \n",
    "$\\theta_{surf,hex,H}$：暖房時の室内機熱交換器の表面温度(℃)  \n"
   ]
  },
  {
   "cell_type": "code",
   "execution_count": 91,
   "metadata": {},
   "outputs": [],
   "source": [
    "def get_Theta_ref_cnd_H(Theta_sur_f_hex_H):\n",
    "    \"\"\"(23)\n",
    "\n",
    "    :param Theta_sur_f_hex_H: 暖房時の室内機熱交換器の表面温度（℃）\n",
    "    :return: 暖房時の冷媒の凝縮温度（℃）\n",
    "    \"\"\"\n",
    "    Theta_ref_cnd_H = Theta_sur_f_hex_H\n",
    "\n",
    "    if Theta_ref_cnd_H > 65:\n",
    "        Theta_ref_cnd_H = 65\n",
    "\n",
    "    return Theta_ref_cnd_H\n",
    "\n",
    "\n",
    "def get_Theta_ref_evp_H(Theta_ex, Theta_ref_cnd_H):\n",
    "    \"\"\"(24)\n",
    "\n",
    "    :param Theta_ex:外気温度（℃）\n",
    "    :param Theta_ref_cnd_H:暖房時の冷媒の凝縮温度（℃）\n",
    "    :return:暖房時の冷媒の蒸発温度（℃）\n",
    "    \"\"\"\n",
    "    Theta_ref_evp_H = Theta_ex - (0.100 * Theta_ref_cnd_H + 2.95)\n",
    "\n",
    "    if Theta_ref_evp_H < -50:\n",
    "        Theta_ref_evp_H = -50\n",
    "\n",
    "    if Theta_ref_evp_H > Theta_ref_cnd_H - 5.0:\n",
    "        Theta_ref_evp_H = Theta_ref_cnd_H - 5.0\n",
    "\n",
    "    return Theta_ref_evp_H\n",
    "\n",
    "\n",
    "def get_Theta_ref_SC_H(Theta_ref_cnd_H):\n",
    "    \"\"\"(25)\n",
    "\n",
    "    :param Theta_ref_cnd_H: 暖房時の冷媒の凝縮温度（℃）\n",
    "    :return: 暖房時の冷媒の過冷却度（℃）\n",
    "    \"\"\"\n",
    "    return 0.245 * Theta_ref_cnd_H - 1.72\n",
    "\n",
    "\n",
    "def get_Theta_ref_SH_H(Theta_ref_cnd_H):\n",
    "    \"\"\"(26)\n",
    "\n",
    "    :param Theta_ref_cnd_H: 暖房時の冷媒の凝縮温度（℃）\n",
    "    :return: 暖房時の冷媒の過熱度（℃）\n",
    "    \"\"\"\n",
    "    return 4.49 - 0.036 * Theta_ref_cnd_H"
   ]
  },
  {
   "cell_type": "markdown",
   "metadata": {},
   "source": [
    "凝縮温度$\\theta_{ref,cnd,C}$は、65℃を上回る場合、65℃に等しいとし、また、$\\theta_{ref,evp,C}$ + 5.0を下回る場合、$\\theta_{ref,evp,C}$ + 5.0に等しいとする。蒸発温度$\\theta_{ref,evp,C}$は、-50℃を下回る場合、-50℃に等しいとする。"
   ]
  },
  {
   "cell_type": "markdown",
   "metadata": {},
   "source": [
    "$$\\large\n",
    "\\theta_{ref,cnd,C}=max(\\theta_{ex}+27.4 −1.35 \\times \\theta_{ref,evp,C},\\theta_{ex})\n",
    "$$"
   ]
  },
  {
   "cell_type": "markdown",
   "metadata": {},
   "source": [
    "$$\\large\n",
    "\\theta_{ref,evp,C}=\\theta_{surf,hex,C}\n",
    "$$"
   ]
  },
  {
   "cell_type": "markdown",
   "metadata": {},
   "source": [
    "$$\\large\n",
    "\\theta_{ref,SC,C}=max(0.772 \\times \\theta_{ref,cnd,C} − 25.6 , 0)\n",
    "$$"
   ]
  },
  {
   "cell_type": "markdown",
   "metadata": {},
   "source": [
    "$$\\large\n",
    "\\theta_{ref,SH,C}=max(0.194  \\times \\theta_{ref,cnd,C} −3.86 , 0)\n",
    "$$"
   ]
  },
  {
   "cell_type": "markdown",
   "metadata": {},
   "source": [
    "$\\theta_{ex}$：外気温度(℃)  \n",
    "$\\theta_{ref,cnd,C}$：冷房時の冷媒の凝縮温度(℃)  \n",
    "$\\theta_{ref,evp,C}$：冷房時の冷媒の蒸発温度(℃)  \n",
    "$\\theta_{ref,SC,C}$：冷房時の冷媒の過冷却度(℃)  \n",
    "$\\theta_{ref,SH,C}$：冷房時の冷媒の過熱度(℃)  \n",
    "$\\theta_{surf,hex,C}$：冷房時の室内機熱交換器の表面温度(℃)  \n"
   ]
  },
  {
   "cell_type": "code",
   "execution_count": 92,
   "metadata": {},
   "outputs": [],
   "source": [
    "def get_Theta_ref_cnd_C(Theta_ex, Theta_ref_evp_C):\n",
    "    \"\"\"(27)\n",
    "\n",
    "    :param Theta_ref_evp_C: 冷房時の冷媒の蒸発温度（℃）\n",
    "    :return: 冷房時の冷媒の凝縮温度（℃）\n",
    "    \"\"\"\n",
    "    Theta_ref_cnd_C = np.maximum(Theta_ex + 27.4 - 1.35 * Theta_ref_evp_C, Theta_ex)\n",
    "\n",
    "    if Theta_ref_cnd_C > 65:\n",
    "        Theta_ref_cnd_C = 65\n",
    "\n",
    "    if Theta_ref_cnd_C < Theta_ref_evp_C + 5.0:\n",
    "        Theta_ref_cnd_C = Theta_ref_evp_C + 5.0\n",
    "\n",
    "    return Theta_ref_cnd_C\n",
    "\n",
    "\n",
    "def get_Theta_ref_evp_C(Theta_sur_f_hex_C):\n",
    "    \"\"\"(28)\n",
    "\n",
    "    :param Theta_sur_f_hex_C:冷房時の室内機熱交換器の表面温度（℃）\n",
    "    :return:冷房時の冷媒の蒸発温度（℃）\n",
    "    \"\"\"\n",
    "    Theta_ref_evp_C = Theta_sur_f_hex_C\n",
    "\n",
    "    if Theta_ref_evp_C < -50:\n",
    "        Theta_ref_evp_C = -50\n",
    "\n",
    "    return Theta_ref_evp_C\n",
    "\n",
    "\n",
    "def get_Theta_ref_SC_C(Theta_ref_cnd_C):\n",
    "    \"\"\"(29)\n",
    "\n",
    "    :param Theta_ref_cnd_H: 暖房時の冷媒の凝縮温度（℃）\n",
    "    :return: 冷房時の冷媒の過冷却度（℃）\n",
    "    \"\"\"\n",
    "    return np.maximum(0.772 * Theta_ref_cnd_C - 25.6, 0)\n",
    "\n",
    "\n",
    "def get_Theta_ref_SH_C(Theta_ref_cnd_C):\n",
    "    \"\"\"(30)\n",
    "\n",
    "    :param Theta_ref_cnd_H: 暖房時の冷媒の凝縮温度（℃）\n",
    "    :return: 冷房時の冷媒の過熱度（℃）\n",
    "    \"\"\"\n",
    "    return np.maximum(0.194 * Theta_ref_cnd_C - 3.86, 0)"
   ]
  },
  {
   "cell_type": "markdown",
   "metadata": {},
   "source": [
    "### A.5 室内機熱交換器"
   ]
  },
  {
   "cell_type": "markdown",
   "metadata": {},
   "source": [
    "#### A.5.1 熱交換器の表面温度"
   ]
  },
  {
   "cell_type": "markdown",
   "metadata": {},
   "source": [
    "#### A.5.1.1 エネルギー消費量の算定における熱交換器の表面温度"
   ]
  },
  {
   "cell_type": "markdown",
   "metadata": {},
   "source": [
    "$$\\large\n",
    "\\theta_{surf,hex,H}=\\frac{\\theta_{hs,in}+\\theta_{hs,out}}{2}+\\frac{c_{p_{air}}\\rho_{air}V_{hs,supply}(\\theta_{hs,out}-\\theta_{hs,in})\\div 3600}{A_{e,hex}\\alpha_{c,hex,H}}\n",
    "$$"
   ]
  },
  {
   "cell_type": "markdown",
   "metadata": {},
   "source": [
    "$$\\large\n",
    "\\theta_{surf,hex,C}=\\frac{\\theta_{hs,in}+\\theta_{hs,out}}{2}+\\frac{c_{p_{air}}\\rho_{air}V_{hs,supply}(\\theta_{hs,in}-\\theta_{hs,out})\\div 3600}{A_{e,hex}\\alpha_{c,hex,C}}\n",
    "$$"
   ]
  },
  {
   "cell_type": "markdown",
   "metadata": {},
   "source": [
    "$A_{e,hex}$：室内機熱交換器の表面積のうち熱交換に有効な面積($m^2$)  \n",
    "$V_{hs,supply}$：熱源機の風量($m^3$/h)  \n",
    "$\\alpha_{c,hex,H}$：暖房時の室内熱交換器表面の顕熱伝達率(W/($m^2$・K))  \n",
    "$\\alpha_{c,hex,C}$：冷房時の室内熱交換器表面の顕熱伝達率(W/($m^2$・K))  \n",
    "$\\theta_{hs,in}$：熱源機の入口における空気温度(℃)  \n",
    "$\\theta_{hs,out}$：熱源機の出口における空気温度(℃)  \n",
    "$\\theta_{surf,hex,C}$：冷房時の室内機熱交換器の表面温度(℃)  \n",
    "$\\theta_{surf,hex,H}$：暖房時の室内機熱交換器の表面温度(℃)  \n",
    "$c_{p_{air}}$：空気の比熱(J/(kg・K))  \n",
    "$\\rho_{air}$：空気の密度(kg/$m^3$)  \n"
   ]
  },
  {
   "cell_type": "code",
   "execution_count": 93,
   "metadata": {},
   "outputs": [],
   "source": [
    "def get_Theta_sur_f_hex_H_calc(Theta_hs_in, Theta_hs_out, V_hs_supply, alpha_c_hex_H):\n",
    "    \"\"\"(31)\n",
    "\n",
    "    :param Theta_hs_in: 熱源機の入口における空気温度（℃）\n",
    "    :param Theta_hs_out: 熱源機の出口における空気温度（℃）\n",
    "    :param V_hs_supply: 熱源機の風量（m3/h）\n",
    "    :param alpha_c_hex_H: 暖房時の室内熱交換器表面の顕熱伝達率（W/(m2・K)）\n",
    "    :return: エネルギー消費量の算定における熱交換器の表面温度を算定する場合の暖房時の室内機熱交換器の表面温度（℃）\n",
    "    \"\"\"\n",
    "    c_p_air = get_c_p_air()\n",
    "    rho_air = get_rho_air()\n",
    "    A_e_hex = get_A_e_hex()\n",
    "\n",
    "    Theta_sur_f_hex_H = ((Theta_hs_in + Theta_hs_out) / 2) \\\n",
    "                        + (c_p_air * rho_air * V_hs_supply * (Theta_hs_out - Theta_hs_in) / 3600) / (A_e_hex * alpha_c_hex_H)\n",
    "\n",
    "    return Theta_sur_f_hex_H\n",
    "\n",
    "\n",
    "def get_Theta_sur_f_hex_C_calc(Theta_hs_in, Theta_hs_out, V_hs_supply, alpha_c_hex_C):\n",
    "    \"\"\"(32)\n",
    "\n",
    "    :param Theta_hs_in: 熱源機の入口における空気温度（℃）\n",
    "    :param Theta_hs_out: 熱源機の出口における空気温度（℃）\n",
    "    :param V_hs_supply: 熱源機の風量（m3/h）\n",
    "    :param alpha_c_hex_C: 冷房時の室内熱交換器表面の顕熱伝達率（W/(m2・K)）\n",
    "    :return: エネルギー消費量の算定における熱交換器の表面温度を算定する場合の冷房時の室内機熱交換器の表面温度（℃）\n",
    "    \"\"\"\n",
    "    c_p_air = get_c_p_air()\n",
    "    rho_air = get_rho_air()\n",
    "    A_e_hex = get_A_e_hex()\n",
    "\n",
    "    Theta_sur_f_hex_C = ((Theta_hs_in + Theta_hs_out) / 2) \\\n",
    "                        - (c_p_air * rho_air * V_hs_supply * (Theta_hs_in - Theta_hs_out) / 3600) / (A_e_hex * alpha_c_hex_C)\n",
    "\n",
    "    return Theta_sur_f_hex_C"
   ]
  },
  {
   "cell_type": "markdown",
   "metadata": {},
   "source": [
    "#### A.5.1.2 JIS 試験における熱交換器の表面温度"
   ]
  },
  {
   "cell_type": "markdown",
   "metadata": {},
   "source": [
    "$$\\large\n",
    "\\theta_{surf,hex,H}=\\theta_{hs,in} + \\frac{q_{hs,H}}{2c_{p_{air}}\\rho_{air}V_{hs,supply}}\\times3600+\\frac{q_{hs,H}}{A_{e,hex}\\alpha_{c,hex,H}}\n",
    "$$"
   ]
  },
  {
   "cell_type": "markdown",
   "metadata": {},
   "source": [
    "$A_{e,hex}$：室内機熱交換器の表面積のうち熱交換に有効な面積($m^2$)  \n",
    "$V_{hs,supply}$：熱源機の風量($m^3$/h)  \n",
    "$q_{hs,H}$：熱源機の暖房能力(W)  \n",
    "$\\alpha_{c,hex,H}$：暖房時の室内熱交換器表面の顕熱伝達率(W/($m^2$・K))  \n",
    "$\\theta_{hs,in}$：熱源機の入口における空気温度(℃)  \n",
    "$\\theta_{surf,hex,H}$：暖房時の室内機熱交換器の表面温度(℃)  \n",
    "$c_{p_{air}}$：空気の比熱(J/(kg・K))  \n",
    "$\\rho_{air}$：空気の密度(kg/$m^3$)  \n"
   ]
  },
  {
   "cell_type": "code",
   "execution_count": 94,
   "metadata": {},
   "outputs": [],
   "source": [
    "def get_Theta_sur_f_hex_H_JIS(V_fan_x_H, q_hs_X_H, alpha_c_hex_H):\n",
    "    \"\"\"(33)\n",
    "\n",
    "    :param V_fan_x_H: 熱源機の風量（m3/h）※式(19)を算定する場合はV_fan_rtd_H、式(20)を算定する場合はV_fan_mid_H\n",
    "    :param q_hs_X_H: 熱源機の暖房能力（W）※式(19)を算定する場合はq_hs_rtd_H、式(20)を算定する場合はq_hs_mid_H\n",
    "    :param alpha_c_hex_H: 暖房時の室内機熱交換器の表面温度（℃）\n",
    "    :return: JIS試験における熱交換器の表面温度を算定する場合の暖房時の室内機熱交換器の表面温度（℃）\n",
    "    \"\"\"\n",
    "    # 表5より\n",
    "    Theta_hs_in = 20\n",
    "    V_hs_supply = V_fan_x_H\n",
    "    q_hs_H = q_hs_X_H\n",
    "\n",
    "    c_p_air = get_c_p_air()\n",
    "    rho_air = get_rho_air()\n",
    "    A_e_hex = get_A_e_hex()\n",
    "\n",
    "    Theta_sur_f_hex_H_JIS = Theta_hs_in + (q_hs_H / (2 * c_p_air * rho_air * V_hs_supply)) * 3600 \\\n",
    "                            + (q_hs_H / (A_e_hex * alpha_c_hex_H))\n",
    "\n",
    "    return Theta_sur_f_hex_H_JIS"
   ]
  },
  {
   "cell_type": "markdown",
   "metadata": {},
   "source": [
    "$$\\large\n",
    "q_{hs,C}=q_{hs,CS}+q_{hs,CL}\n",
    "$$"
   ]
  },
  {
   "cell_type": "markdown",
   "metadata": {},
   "source": [
    "$$\\large\n",
    "q_{hs,CS}=(\\theta_{hs,in}-\\theta_{surf,hex,C})\\div \\left( \\frac{3600}{2c_{p_{air}}\\rho_{air}V_{hs,supply}} + \\frac{1}{A_{e,hex}\\alpha_{c,hex,H}} \\right)\n",
    "$$"
   ]
  },
  {
   "cell_type": "markdown",
   "metadata": {},
   "source": [
    "$$\\large\n",
    "q_{hs,CL}= max \\left( (X_{hs,in}-X_{surf,hex,C})\\div \\left( \\frac{3600}{2L_{wtr}\\rho_{air}V_{hs,supply}\\times10^3} + \\frac{1}{L_{wtr}A_{e,hex}\\alpha'_{c,hex,H}\\times10^3} \\right) , 0 \\right)\n",
    "$$"
   ]
  },
  {
   "cell_type": "markdown",
   "metadata": {},
   "source": [
    "$A_{e,hex}$：室内機熱交換器の表面積のうち熱交換に有効な面積($m^2$)  \n",
    "$q_{hs,C}$：熱源機の冷房能力(W)  \n",
    "$q_{hs,CS}$：熱源機のの冷房顕熱能力(W)  \n",
    "$q_{hs,CL}$：熱源機の冷房潜熱能力(W)  \n",
    "$V_{hs,supply}$：熱源機の風量($m^3$/h)  \n",
    "$X_{hs,in}$：熱源機の入口における絶対湿度(kg/kg(DA))  \n",
    "$X_{surf,hex,C}$：冷房時の室内機熱交換器の表面絶対湿度(kg/kg(DA))  \n",
    "$\\alpha_{c,hex,C}$：冷房時の室内熱交換器表面の顕熱伝達率(W/($m^2$・K))  \n",
    "$\\alpha'_{c,hex,C}$：冷房時の室内熱交換器表面の潜熱伝達率(kg/($m^2$・s))  \n",
    "$\\theta_{hs,in}$：熱源機の入口における空気温度(℃)  \n",
    "$\\theta_{surf,hex,C}$：冷房時の室内機熱交換器の表面温度(℃)  \n",
    "$c_{p_{air}}$：空気の比熱(J/(kg・K))  \n",
    "$L_{wtr}$：水の蒸発潜熱(kJ/kg)  \n",
    "$\\rho_{air}$：空気の密度(kg/$m^3$)  \n"
   ]
  },
  {
   "cell_type": "code",
   "execution_count": 95,
   "metadata": {},
   "outputs": [],
   "source": [
    "def calc_Theta_sur_f_hex_C_JIS(Theta_surf_hex_C, V_fan_x_C, alpha_c_hex_C, alpha_dash_c_hex_C):\n",
    "    \"\"\"(34a)\n",
    "\n",
    "    :param Theta_surf_hex_C:冷房時の室内機熱交換器の表面温度（℃）\n",
    "    :param V_fan_x_C:熱源機の風量（m3/h）\n",
    "    :param alpha_c_hex_C:冷房時の室内熱交換器表面の顕熱伝達率（W/(m2・K)）\n",
    "    :param alpha_dash_c_hex_C:冷房時の室内熱交換器表面の潜熱伝達率（kg/(m2・s)）\n",
    "    :return:冷房時の室内機熱交換器の表面温度（℃） ※連立方程式の解\n",
    "    \"\"\"\n",
    "    # (34b)\n",
    "    q_hs_CS = get_q_hs_CS(Theta_surf_hex_C, V_fan_x_C, alpha_c_hex_C)\n",
    "\n",
    "    # (34c)\n",
    "    q_hs_CL = get_q_hs_CL(Theta_surf_hex_C, V_fan_x_C, alpha_dash_c_hex_C)\n",
    "\n",
    "    # (34a)\n",
    "    return q_hs_CS + q_hs_CL\n",
    "\n",
    "\n",
    "def get_q_hs_CS(Theta_surf_hex_C, V_fan_x_C, alpha_c_hex_C):\n",
    "    \"\"\"(34b)\n",
    "\n",
    "    :param Theta_surf_hex_C: 冷房時の室内機熱交換器の表面温度（℃）\n",
    "    :param V_fan_x_C: 熱源機の風量（m3/h）\n",
    "    :param alpha_c_hex_C: 冷房時の室内熱交換器表面の顕熱伝達率（W/(m2・K)）\n",
    "    :return:熱源機の冷房顕熱能力（W）\n",
    "    \"\"\"\n",
    "    # 表5より\n",
    "    Theta_hs_in = 27\n",
    "    V_hs_supply = V_fan_x_C\n",
    "\n",
    "    c_p_air = get_c_p_air()\n",
    "    rho_air = get_rho_air()\n",
    "    A_e_hex = get_A_e_hex()\n",
    "\n",
    "    return (Theta_hs_in - Theta_surf_hex_C) / (3600 / (2 * c_p_air * rho_air * V_hs_supply) + 1 / (A_e_hex * alpha_c_hex_C))\n",
    "\n",
    "\n",
    "def get_q_hs_CL(Theta_surf_hex_C, V_fan_x_C, alpha_dash_c_hex_C):\n",
    "    \"\"\"(34c)\n",
    "\n",
    "    :param Theta_surf_hex_C: 冷房時の室内機熱交換器の表面温度（℃）\n",
    "    :param V_fan_x_C: 熱源機の風量（m3/h）\n",
    "    :param alpha_dash_c_hex_C: 冷房時の室内熱交換器表面の潜熱伝達率（kg/(m2・s)）\n",
    "    :return: 熱源機の冷房潜熱能力（W）\n",
    "    \"\"\"\n",
    "    # 表5より\n",
    "    X_hs_in = 0.010376\n",
    "    V_hs_supply = V_fan_x_C\n",
    "\n",
    "    L_wtr = get_L_wtr()\n",
    "    rho_air = get_rho_air()\n",
    "    A_e_hex = get_A_e_hex()\n",
    "\n",
    "    # ------ここから第11章5節------\n",
    "\n",
    "    Theta = Theta_surf_hex_C\n",
    "\n",
    "    # 大気圧（Pa）\n",
    "    F = 101325\n",
    "\n",
    "    # 絶対温度（K）\n",
    "    T = Theta + 273.16 #(6)\n",
    "\n",
    "    # 表1 式(5b)における係数の値\n",
    "    a1 = -6096.9385\n",
    "    a2 = 21.2409642\n",
    "    a3 = -0.02711193\n",
    "    a4 = 0.00001673952\n",
    "    a5 = 2.433502\n",
    "    b1 = -6024.5282\n",
    "    b2 = 29.32707\n",
    "    b3 = 0.010613863\n",
    "    b4 = -0.000013198825\n",
    "    b5 = -0.49382577\n",
    "\n",
    "    #(5b)\n",
    "    if Theta > 0:\n",
    "        k = a1 / T + a2 + a3 * T + a4 * T ** 2 + a5 * np.log(T)\n",
    "    else:\n",
    "        k = b1 / T + b2 + b3 * T + b4 * T ** 2 + b5 * np.log(T)\n",
    "\n",
    "    # 飽和水蒸気圧（Pa）\n",
    "    P_vs = np.exp(k) #(5a)\n",
    "\n",
    "    # 飽和空気の絶対湿度（kg/kg(DA)）\n",
    "    X_s = 0.622 * (P_vs / (F - P_vs)) #(3)\n",
    "\n",
    "    # ------ここまで第11章5節------\n",
    "\n",
    "    X_surf_hex_C = X_s\n",
    "\n",
    "    # (34c)\n",
    "    a = (X_hs_in - X_surf_hex_C) / (3600 / (2 * L_wtr * rho_air * V_hs_supply * 10 ** 3) \\\n",
    "                                    + 1 / (L_wtr * A_e_hex * alpha_dash_c_hex_C * 10 ** 3))\n",
    "    return np.maximum(a, 0)"
   ]
  },
  {
   "cell_type": "markdown",
   "metadata": {},
   "source": [
    "#### A.5.2 熱交換器表面の顕熱伝達率"
   ]
  },
  {
   "cell_type": "markdown",
   "metadata": {},
   "source": [
    "暖房時："
   ]
  },
  {
   "cell_type": "markdown",
   "metadata": {},
   "source": [
    "$$\\large\n",
    "\\alpha_{c,hex,H}=\\left\\{ -0.0017 \\times \\left( \\frac{V_{hs,supply}\\div3600}{A_{f,hex}} \\right)^2 + 0.044 \\times \\frac{V_{hs,supply}\\div3600}{A_{f,hex}} + 0.00271  \\right\\} \\times 10^3\n",
    "$$"
   ]
  },
  {
   "cell_type": "markdown",
   "metadata": {},
   "source": [
    "冷房時："
   ]
  },
  {
   "cell_type": "markdown",
   "metadata": {},
   "source": [
    "$$\\large\n",
    "\\alpha_{c,hex,C}=\\alpha'_{c,hex,C}\\times(c_{p_{air}}+c_{p_{w}}X_{hs,in})\n",
    "$$"
   ]
  },
  {
   "cell_type": "markdown",
   "metadata": {},
   "source": [
    "$$\\large\n",
    "\\alpha'_{c,hex,C}=0.050 \\times ln\\left( \\frac{max(V_{hs,supply},400)\\div 3600}{A_{f,hex}} \\right) + 0.073\n",
    "$$"
   ]
  },
  {
   "cell_type": "markdown",
   "metadata": {},
   "source": [
    "$A_{f,hex}$：室内機熱交換器の全面面積のうち熱交換に有効な面積($m^2$)  \n",
    "$V_{hs,supply}$：熱源機の風量($m^3$/h)  \n",
    "$X_{hs,in}$：熱源機の入口における絶対湿度(kg/kg(DA))  \n",
    "$\\alpha_{c,hex,H}$：暖房時の室内熱交換器表面の顕熱伝達率(W/($m^2$・K))  \n",
    "$\\alpha_{c,hex,C}$：冷房時の室内熱交換器表面の顕熱伝達率(W/($m^2$・K))  \n",
    "$\\alpha'_{c,hex,C}$：冷房時の室内熱交換器表面の潜熱伝達率(kg/($m^2$・s))  \n",
    "$c_{p_{air}}$：空気の比熱(J/(kg・K))  \n",
    "$c_{p_{w}}$：水蒸気の比熱(J/(kg・K))  \n"
   ]
  },
  {
   "cell_type": "code",
   "execution_count": 96,
   "metadata": {},
   "outputs": [],
   "source": [
    "def get_alpha_c_hex_H(V_fan_x_H):\n",
    "    \"\"\"(35)\n",
    "\n",
    "    :param V_fan_x_H:熱源機の風量（m3/h）\n",
    "    :return:暖房時の室内熱交換器表面の顕熱伝達率（W/(m2・K)）\n",
    "    \"\"\"\n",
    "    # 表5より\n",
    "    V_hs_supply = V_fan_x_H\n",
    "\n",
    "    A_f_hex = get_A_f_hex()\n",
    "\n",
    "    alpha_c_hex_H = (-0.0017 * ((V_hs_supply / 3600) / A_f_hex) ** 2 \\\n",
    "                     + 0.044 * ((V_hs_supply / 3600) / A_f_hex) + 0.0271) * 10 ** 3\n",
    "\n",
    "    return alpha_c_hex_H\n",
    "\n",
    "\n",
    "def get_alpha_c_hex_C(V_fan_x_C, X_hs_in):\n",
    "    \"\"\"(36)\n",
    "\n",
    "    :param V_fan_x_C:熱源機の風量（m3/h）\n",
    "    :param X_hs_in:冷房時の熱源機の入口における絶対湿度（kg/kg(DA)）\n",
    "    :return:冷房時の室内熱交換器表面の顕熱伝達率（W/(m2・K)）および 冷房時の室内熱交換器表面の潜熱伝達率（kg/(m2・s)）\n",
    "    \"\"\"\n",
    "    # 表5より\n",
    "    V_hs_supply = V_fan_x_C\n",
    "\n",
    "    A_f_hex = get_A_f_hex()\n",
    "    c_p_air = get_c_p_air()\n",
    "    c_p_w = get_c_p_w()\n",
    "\n",
    "    a = np.clip(V_hs_supply, 400, None)\n",
    "\n",
    "    # (36b)\n",
    "    alpha_dash_c_hex_C = 0.050 * np.log((a / 3600) / A_f_hex) + 0.073\n",
    "\n",
    "    # (36a)\n",
    "    alpha_c_hex_C = alpha_dash_c_hex_C * (c_p_air + c_p_w * X_hs_in)\n",
    "\n",
    "    return alpha_c_hex_C, alpha_dash_c_hex_C"
   ]
  },
  {
   "cell_type": "markdown",
   "metadata": {},
   "source": [
    "#### A.5.3 熱交換器の表面積"
   ]
  },
  {
   "cell_type": "markdown",
   "metadata": {},
   "source": [
    "室内機熱交換器の全面面積のうち熱交換に有効な面積$A_{f,hex}$は、0.23559 m2 とする。\n",
    "室内機熱交換器の表面積のうち熱交換に有効な面積$A_{e,hex}$は、6.396 m2 とする。"
   ]
  },
  {
   "cell_type": "code",
   "execution_count": 97,
   "metadata": {},
   "outputs": [],
   "source": [
    "# 室内機熱交換器の全面面積のうち熱交換に有効な面積 (m2)\n",
    "def get_A_f_hex():\n",
    "    return 0.23559\n",
    "\n",
    "\n",
    "# 室内機熱交換器の表面積のうち熱交換に有効な面積 (m2)\n",
    "def get_A_e_hex():\n",
    "    return 6.396"
   ]
  },
  {
   "cell_type": "markdown",
   "metadata": {},
   "source": [
    "### A.6 送風機"
   ]
  },
  {
   "cell_type": "markdown",
   "metadata": {},
   "source": [
    "$$\\large\n",
    "E_{E,fan,H,d,t}=\\left\\{ \\begin{array}{ll}\n",
    "    max\\left((P_{fan,rtd,H}-f_{SFP}V_{hs,vent,d,t}) \\times \\frac{V_{hs,supply,d,t}-V_{hs,vent,d,t}}{V_{hs,dsgn,H}-V_{hs,vent,d,t}} \\times 10^{-3}, 0 \\right) &(q_{hs,H,d,t} > 0)\\\\ \n",
    "    0 &(q_{hs,H,d,t} \\leq 0)\\\\ \n",
    "    \\end{array}\n",
    "\\right.\n",
    "$$"
   ]
  },
  {
   "cell_type": "markdown",
   "metadata": {},
   "source": [
    "$$\\large\n",
    "E_{E,fan,C,d,t}=\\left\\{ \\begin{array}{ll}\n",
    "    max\\left((P_{fan,rtd,C}-f_{SFP}V_{hs,vent,d,t}) \\times \\frac{V_{hs,supply,d,t}-V_{hs,vent,d,t}}{V_{hs,dsgn,C}-V_{hs,vent,d,t}} \\times 10^{-3}, 0 \\right) &(q_{hs,C,d,t} > 0)\\\\ \n",
    "    0 &(q_{hs,C,d,t} \\leq 0)\\\\ \n",
    "    \\end{array}\n",
    "\\right.\n",
    "$$"
   ]
  },
  {
   "cell_type": "markdown",
   "metadata": {},
   "source": [
    "$E_{E,fan,C,d,t}$：日付$d$の時刻$t$における1 時間当たりの送風機の消費電力量のうちの冷房設備への付加分(kWh/h)  \n",
    "$E_{E,fan,H,d,t}$：日付$d$の時刻$t$における1 時間当たりの送風機の消費電力量のうちの暖房設備への付加分(kWh/h)  \n",
    "$f_{SFP}$：全般換気設備の比消費電力(W/($m^3$/h))  \n",
    "$P_{fan,rtd,C}$：定格冷房能力運転時の送風機の消費電力(W)  \n",
    "$P_{fan,rtd,H}$：定格暖房能力運転時の送風機の消費電力(W)  \n",
    "$q_{hs,C,d,t}$：日付$d$の時刻$t$における1 時間当たりの熱源機の平均冷房能力(W)  \n",
    "$q_{hs,H,d,t}$：日付$d$の時刻$t$における1 時間当たりの熱源機の平均暖房能力(W)  \n",
    "$V_{hs,dsgn,C}$：冷房時の設計風量($m^3$/h)  \n",
    "$V_{hs,dsgn,H}$：暖房時の設計風量($m^3$/h)  \n",
    "$V_{hs,vent,d,t}$：日付$d$の時刻$t$における熱源機の風量のうちの全般換気分($m^3$/h)  \n"
   ]
  },
  {
   "cell_type": "code",
   "execution_count": 98,
   "metadata": {},
   "outputs": [],
   "source": [
    "def get_E_E_fan_H_d_t(P_fan_rtd_H, V_hs_vent_d_t, V_hs_supply_d_t, V_hs_dsgn_H, q_hs_H_d_t):\n",
    "    \"\"\"(37)\n",
    "\n",
    "    :param P_fan_rtd_H:定格暖房能力運転時の送風機の消費電力（W）\n",
    "    :param V_hs_vent_d_t:日付dの時刻tにおける熱源機の風量のうちの全般換気分（m3/h）\n",
    "    :param V_hs_supply_d_t:\n",
    "    :param V_hs_dsgn_H:暖房時の設計風量（m3/h）\n",
    "    :param q_hs_H_d_t:日付dの時刻tにおける1時間当たりの熱源機の平均暖房能力（-）\n",
    "    :return:日付dの時刻tにおける1時間当たりの送風機の消費電力量のうちの暖房設備への付加分（kWh/h）\n",
    "    \"\"\"\n",
    "    f_SFP = get_f_SFP()\n",
    "    E_E_fan_H_d_t = np.zeros(24 * 365)\n",
    "\n",
    "    a = (P_fan_rtd_H - f_SFP * V_hs_vent_d_t) \\\n",
    "        * ((V_hs_supply_d_t - V_hs_vent_d_t) / (V_hs_dsgn_H - V_hs_vent_d_t)) * 10 ** (-3)\n",
    "\n",
    "    E_E_fan_H_d_t[q_hs_H_d_t > 0] = np.clip(a[q_hs_H_d_t > 0], 0, None)\n",
    "\n",
    "    return E_E_fan_H_d_t\n",
    "\n",
    "def get_e_rtd_H():\n",
    "    \"\"\"定格暖房エネルギー消費効率\n",
    "    \n",
    "    :return: 定格暖房エネルギー消費効率\n",
    "    :rtype: float\n",
    "    \"\"\"\n",
    "    # 定格暖房エネルギー消費効率\n",
    "    e_rtd_H = 3.76\n",
    "    return e_rtd_H\n",
    "\n",
    "def get_e_rtd_C():\n",
    "    \"\"\"定格冷房エネルギー消費効率\n",
    "    \n",
    "    :return: 定格冷房エネルギー消費効率\n",
    "    :rtype: float\n",
    "    \"\"\"\n",
    "    # 定格冷房エネルギー消費効率\n",
    "    e_rtd_C = 3.17\n",
    "    return e_rtd_C\n",
    "\n",
    "def get_E_E_fan_C_d_t(P_fan_rtd_C, V_hs_vent_d_t, V_hs_supply_d_t, V_hs_dsgn_C, q_hs_C_d_t):\n",
    "    \"\"\"(38)\n",
    "\n",
    "    :param P_fan_rtd_C:定格冷房能力運転時の送風機の消費電力（W）\n",
    "    :param V_hs_vent_d_t:日付dの時刻tにおける熱源機の風量のうちの全般換気分（m3/h）\n",
    "    :param V_hs_supply_d_t:\n",
    "    :param V_hs_dsgn_C:冷房時の設計風量（m3/h）\n",
    "    :param q_hs_C_d_t:日付dの時刻tにおける1時間当たりの熱源機の平均冷房能力（-）\n",
    "    :return:日付dの時刻tにおける1時間当たりの送風機の消費電力量のうちの暖房設備への付加分（kWh/h）\n",
    "    \"\"\"\n",
    "    f_SFP = get_f_SFP()\n",
    "    E_E_fan_C_d_t = np.zeros(24 * 365)\n",
    "\n",
    "    a = (P_fan_rtd_C - f_SFP * V_hs_vent_d_t) \\\n",
    "        * ((V_hs_supply_d_t - V_hs_vent_d_t) / (V_hs_dsgn_C - V_hs_vent_d_t)) * 10 ** (-3)\n",
    "\n",
    "    E_E_fan_C_d_t[q_hs_C_d_t > 0] = np.clip(a[q_hs_C_d_t > 0], 0, None)\n",
    "\n",
    "    return E_E_fan_C_d_t"
   ]
  },
  {
   "cell_type": "markdown",
   "metadata": {},
   "source": [
    "全般換気設備の比消費電力$f_{SFP}$は、ダクト式第二種換気設備（直流）として 0.144（= 0.4 × 0.36）とする。"
   ]
  },
  {
   "cell_type": "code",
   "execution_count": 99,
   "metadata": {},
   "outputs": [],
   "source": [
    "# 全般換気設備の比消費電力（W/(m3/h)）\n",
    "def get_f_SFP():\n",
    "    return 0.4 * 0.36"
   ]
  },
  {
   "cell_type": "markdown",
   "metadata": {},
   "source": [
    "### A.7 熱源機および送風機の仕様"
   ]
  },
  {
   "cell_type": "markdown",
   "metadata": {},
   "source": [
    "省略"
   ]
  },
  {
   "cell_type": "markdown",
   "metadata": {},
   "source": [
    "### A.8 空気・水蒸気・水の物性値"
   ]
  },
  {
   "cell_type": "markdown",
   "metadata": {},
   "source": [
    "空気の比熱$c_{p_{air}}$は、1006.0 J/(kg・K)とする。空気の密度$\\rho_{air}$は、1.2 kg/$m^3$ とする。\n",
    "水蒸気の定圧比熱$c_{p_{w}}$は、1.846 J/(kg・K)とする。"
   ]
  },
  {
   "cell_type": "markdown",
   "metadata": {},
   "source": [
    "$$\\large\n",
    "L_{wtr}=2500.8 −2.3668 \\times \\theta\n",
    "$$"
   ]
  },
  {
   "cell_type": "markdown",
   "metadata": {},
   "source": [
    "$L_{wtr}$：水の蒸発潜熱(kJ/kg)  \n",
    "$\\theta$：温度(℃)  \n"
   ]
  },
  {
   "cell_type": "code",
   "execution_count": 100,
   "metadata": {},
   "outputs": [],
   "source": [
    "# 空気の比熱 (J/Kg・K)\n",
    "def get_c_p_air():\n",
    "    return 1006.0\n",
    "\n",
    "\n",
    "# 空気の密度 (kg/m3)\n",
    "def get_rho_air():\n",
    "    return 1.2\n",
    "\n",
    "\n",
    "# 水蒸気の定圧比熱  (J/Kg・K)\n",
    "def get_c_p_w():\n",
    "    return 1.846\n",
    "\n",
    "\n",
    "# 水の蒸発潜熱 (kJ/kg) (39)\n",
    "def get_L_wtr():\n",
    "    Theta = get_Theta()\n",
    "    return 2500.8 - 2.3668 * Theta"
   ]
  },
  {
   "cell_type": "markdown",
   "metadata": {},
   "source": [
    "温度$\\theta$は、冷房時を仮定し、27℃とする。\n"
   ]
  },
  {
   "cell_type": "code",
   "execution_count": 101,
   "metadata": {},
   "outputs": [],
   "source": [
    "# 冷房時を仮定した温度 (℃)\n",
    "def get_Theta():\n",
    "    return 27"
   ]
  },
  {
   "cell_type": "code",
   "execution_count": null,
   "metadata": {},
   "outputs": [],
   "source": []
  }
 ],
 "metadata": {
  "kernelspec": {
   "display_name": "Python 3",
   "language": "python",
   "name": "python3"
  },
  "language_info": {
   "codemirror_mode": {
    "name": "ipython",
    "version": 3
   },
   "file_extension": ".py",
   "mimetype": "text/x-python",
   "name": "python",
   "nbconvert_exporter": "python",
   "pygments_lexer": "ipython3",
   "version": "3.6.6"
  }
 },
 "nbformat": 4,
 "nbformat_minor": 2
}
