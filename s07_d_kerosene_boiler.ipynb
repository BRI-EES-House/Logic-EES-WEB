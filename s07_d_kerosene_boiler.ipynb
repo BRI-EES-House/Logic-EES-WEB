{
 "cells": [
  {
   "cell_type": "markdown",
   "metadata": {},
   "source": [
    "# 付録 D 石油給湯機及び石油給湯温水暖房機の給湯部 "
   ]
  },
  {
   "cell_type": "code",
   "execution_count": 1,
   "metadata": {},
   "outputs": [],
   "source": [
    "def get_kerosene_cons(hws_type, e_rtd, temp_ex_ave, l2d_k, l2d_s, l2d_w, l2d_b1, l2d_b2, l2d_ba1, l2d_ba2):\n",
    "    f_hs = ( 0.8669 * e_rtd + 0.091 ) / 0.796\n",
    "    a_k,   b_k,   c_k   = 0.0005 * f_hs,  0.0028 * f_hs, 0.6818 * f_hs\n",
    "    a_s,   b_s,   c_s   = 0.0024 * f_hs,  0.0021 * f_hs, 0.7560 * f_hs\n",
    "    a_w,   b_w,   c_w   = 0.0005 * f_hs,  0.0028 * f_hs, 0.6818 * f_hs\n",
    "    a_b1,  b_b1,  c_b1  = 0.0000 * f_hs, -0.0027 * f_hs, 0.9026 * f_hs\n",
    "    a_b2,  b_b2,  c_b2  = 0.0000 * f_hs, -0.0024 * f_hs, 0.8885 * f_hs\n",
    "    a_ba1, b_ba1, c_ba1 = 0.0000 * f_hs, -0.0027 * f_hs, 0.9026 * f_hs\n",
    "    a_ba2, b_ba2, c_ba2 = 0.0062 * f_hs,  0.0462 * f_hs, 0.4001 * f_hs\n",
    "    e_k   = min( a_k   * temp_ex_ave + b_k   * ( l2d_k + l2d_w ) + c_k,   1.0 )\n",
    "    e_s   = min( a_s   * temp_ex_ave + b_s   *   l2d_s           + c_s,   1.0 )\n",
    "    e_w   = min( a_w   * temp_ex_ave + b_w   * ( l2d_k + l2d_w ) + c_w,   1.0 )\n",
    "    e_b1  = min( a_b1  * temp_ex_ave + b_b1  *   l2d_b1          + c_b1,  1.0 )\n",
    "    e_b2  = min( a_b2  * temp_ex_ave + b_b2  *   l2d_b2          + c_b2,  1.0 )\n",
    "    e_ba1 = min( a_ba1 * temp_ex_ave + b_ba1 *   l2d_ba1         + c_ba1, 1.0 )\n",
    "    e_ba2 = min( a_ba2 * temp_ex_ave + b_ba2 *   l2d_ba2         + c_ba2, 1.0 )\n",
    "    if hws_type == 'Single':\n",
    "        return l2d_k / e_k + l2d_s / e_s + l2d_w / e_w + l2d_b1 / e_b1 + l2d_ba1 / e_ba1\n",
    "    elif hws_type == 'AutoNoReheat':\n",
    "        return l2d_k / e_k + l2d_s / e_s + l2d_w / e_w + l2d_b2 / e_b2 + l2d_ba1 / e_ba1\n",
    "    elif hws_type == 'AutoReheat':\n",
    "        return l2d_k / e_k + l2d_s / e_s + l2d_w / e_w + l2d_b2 / e_b2 + l2d_ba2 / e_ba2\n",
    "    else:\n",
    "        raise ValueError('Hot water supply heat source type is wrong.')"
   ]
  },
  {
   "cell_type": "code",
   "execution_count": 2,
   "metadata": {},
   "outputs": [],
   "source": [
    "# 式(4)\n",
    "def get_E_E_hs_aux3(_L_2dash_ba2):\n",
    "    if _L_2dash_ba2 > 0:\n",
    "        return (0.02102 * _L_2dash_ba2 + 0.12852) * 10**3 / 3600\n",
    "    elif _L_2dash_ba2 == 0:\n",
    "        return 0"
   ]
  },
  {
   "cell_type": "markdown",
   "metadata": {},
   "source": [
    "#### Example"
   ]
  },
  {
   "cell_type": "code",
   "execution_count": 3,
   "metadata": {},
   "outputs": [
    {
     "data": {
      "text/plain": [
       "0.0940888888888889"
      ]
     },
     "execution_count": 3,
     "metadata": {},
     "output_type": "execute_result"
    }
   ],
   "source": [
    "get_E_E_hs_aux3(_L_2dash_ba2=10)"
   ]
  },
  {
   "cell_type": "code",
   "execution_count": null,
   "metadata": {},
   "outputs": [],
   "source": []
  }
 ],
 "metadata": {
  "kernelspec": {
   "display_name": "Python 3",
   "language": "python",
   "name": "python3"
  },
  "language_info": {
   "codemirror_mode": {
    "name": "ipython",
    "version": 3
   },
   "file_extension": ".py",
   "mimetype": "text/x-python",
   "name": "python",
   "nbconvert_exporter": "python",
   "pygments_lexer": "ipython3",
   "version": "3.6.5"
  }
 },
 "nbformat": 4,
 "nbformat_minor": 2
}
