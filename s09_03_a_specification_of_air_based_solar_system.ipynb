{
 "cells": [
  {
   "cell_type": "markdown",
   "metadata": {},
   "source": [
    "## 付録 A 空気集熱式太陽熱利用設備の仕様 / Appendix A Specification of air collecting solar system"
   ]
  },
  {
   "cell_type": "markdown",
   "metadata": {},
   "source": [
    "### A.1 空気集熱式太陽熱利用設備の種類 / Types of air collecting solar heating equipment"
   ]
  },
  {
   "cell_type": "markdown",
   "metadata": {},
   "source": [
    "<div style=\"text-align: center;font-weight: bold;\">表　本算定方法が適用可能である空気集熱式太陽熱利用設備の種類<br>Table: Types of air-collecting solar thermal equipment to which this calculation method is applicable</div>\n",
    "\n",
    "<table>\n",
    "<thead>\n",
    "<tr>\n",
    "\t<th rowspan=\"3\">番号<br>number</th>\n",
    "\t<th colspan=\"3\">付加機能・装置の採否（○：採用、×：否採用）<br>Adoption / rejection of additional functions / devices (○: adopted, ×: not adopted)</th>\n",
    "</tr>\n",
    "<tr>\n",
    "\t<th rowspan=\"2\">給湯部<br>Hot water supply section</th>\n",
    "\t<th colspan=\"2\">自立運転用太陽光発電装置<br>Photovoltaic generator for independent operation</th>\n",
    "</tr>\n",
    "<tr>\n",
    "\t<th>空気搬送ファン<br>Air conveying fan</th>\n",
    "\t<th>循環ポンプ<br>Circulation pump</th>\n",
    "</tr>\n",
    "</thead>\n",
    "<tbody>\n",
    "<tr>\n",
    "\t<th>1</th>\n",
    "\t<td>○</td>\n",
    "\t<td>○</td>\n",
    "\t<td>○</td>\n",
    "</tr>\n",
    "<tr>\n",
    "\t<th>2</th>\n",
    "\t<td>○</td>\n",
    "\t<td>×</td>\n",
    "\t<td>○</td>\n",
    "</tr>\n",
    "<tr>\n",
    "\t<th>3</th>\n",
    "\t<td>○</td>\n",
    "\t<td>○</td>\n",
    "\t<td>×</td>\n",
    "</tr>\n",
    "<tr>\n",
    "\t<th>4</th>\n",
    "\t<td>○</td>\n",
    "\t<td>×</td>\n",
    "\t<td>×</td>\n",
    "</tr>\n",
    "<tr>\n",
    "\t<th>5</th>\n",
    "\t<td>×</td>\n",
    "\t<td>○</td>\n",
    "\t<td>○</td>\n",
    "</tr>\n",
    "<tr>\n",
    "\t<th>6</th>\n",
    "\t<td>×</td>\n",
    "\t<td>×</td>\n",
    "\t<td>○</td>\n",
    "</tr>\n",
    "<tr>\n",
    "\t<th>7</th>\n",
    "\t<td>×</td>\n",
    "\t<td>○</td>\n",
    "\t<td>×</td>\n",
    "</tr>\n",
    "<tr>\n",
    "\t<th>8</th>\n",
    "\t<td>×</td>\n",
    "\t<td>×</td>\n",
    "\t<td>×</td>\n",
    "</tr>\n",
    "</tbody>\n",
    "</table>"
   ]
  },
  {
   "cell_type": "code",
   "execution_count": 34,
   "metadata": {},
   "outputs": [
    {
     "ename": "SyntaxError",
     "evalue": "unexpected EOF while parsing (<ipython-input-34-cd670bf71e06>, line 16)",
     "output_type": "error",
     "traceback": [
      "\u001b[1;36m  File \u001b[1;32m\"<ipython-input-34-cd670bf71e06>\"\u001b[1;36m, line \u001b[1;32m16\u001b[0m\n\u001b[1;33m    (False, False, False),\u001b[0m\n\u001b[1;37m                          ^\u001b[0m\n\u001b[1;31mSyntaxError\u001b[0m\u001b[1;31m:\u001b[0m unexpected EOF while parsing\n"
     ]
    }
   ],
   "source": [
    "def get_spec(type_no):\n",
    "    \"\"\"本算定方式が適用可能である空気集熱式太陽熱利用設備の仕様\n",
    "\n",
    "    :param type_no: 本算定方式が適用可能である空気集熱式太陽熱利用設備の種類\n",
    "    :type type_no: int\n",
    "    :return: 表A.1 本算定方式が適用可能である空気集熱式太陽熱利用設備の種類\n",
    "    :rtype: list\n",
    "    \"\"\"\n",
    "    return get_table_a_1()[type_no - 1]"
   ]
  },
  {
   "cell_type": "code",
   "execution_count": null,
   "metadata": {},
   "outputs": [],
   "source": [
    "def get_table_a_1():\n",
    "    \"\"\"表A.1 本算定方式が適用可能である空気集熱式太陽熱利用設備の種類\n",
    "\n",
    "    :return: 表A.1 本算定方式が適用可能である空気集熱式太陽熱利用設備の種類\n",
    "    :rtype: list\n",
    "    \"\"\"\n",
    "    table_a_1 = [\n",
    "        # 給湯部 | 自立運転用太陽光発電装置\n",
    "        #       | 空気搬送ファン | 循環ポンプ\n",
    "        (True, True, True),\n",
    "        (True, False, True),\n",
    "        (True, True, False),\n",
    "        (True, False, False),\n",
    "        (False, True, True),\n",
    "        (False, False, True),\n",
    "        (False, True, False),\n",
    "        (False, False, False),\n",
    "    ]\n",
    "    return  table_a_1"
   ]
  },
  {
   "cell_type": "markdown",
   "metadata": {},
   "source": [
    "### A.2 付加機能・装置 / Additional function / device"
   ]
  },
  {
   "cell_type": "markdown",
   "metadata": {},
   "source": [
    "省略"
   ]
  },
  {
   "cell_type": "markdown",
   "metadata": {},
   "source": [
    "Omission"
   ]
  }
 ],
 "metadata": {
  "kernelspec": {
   "display_name": "Python 3",
   "language": "python",
   "name": "python3"
  },
  "language_info": {
   "codemirror_mode": {
    "name": "ipython",
    "version": 3
   },
   "file_extension": ".py",
   "mimetype": "text/x-python",
   "name": "python",
   "nbconvert_exporter": "python",
   "pygments_lexer": "ipython3",
   "version": "3.8.5"
  },
  "toc": {
   "base_numbering": 1,
   "nav_menu": {},
   "number_sections": false,
   "sideBar": true,
   "skip_h1_title": false,
   "title_cell": "Table of Contents",
   "title_sidebar": "Contents",
   "toc_cell": false,
   "toc_position": {},
   "toc_section_display": true,
   "toc_window_display": false
  }
 },
 "nbformat": 4,
 "nbformat_minor": 2
}
