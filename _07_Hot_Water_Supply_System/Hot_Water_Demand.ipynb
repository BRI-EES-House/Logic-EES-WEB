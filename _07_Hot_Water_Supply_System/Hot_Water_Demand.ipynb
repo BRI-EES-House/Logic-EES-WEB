{
 "cells": [
  {
   "cell_type": "code",
   "execution_count": 1,
   "metadata": {
    "collapsed": true
   },
   "outputs": [],
   "source": [
    "import math\n",
    "from enum import Enum"
   ]
  },
  {
   "cell_type": "code",
   "execution_count": 2,
   "metadata": {
    "collapsed": true
   },
   "outputs": [],
   "source": [
    "class SystemExistance(Enum):\n",
    "    ExistWithBath    = 0,\n",
    "    ExistWithoutBath = 1,\n",
    "    NotExist         = 2"
   ]
  },
  {
   "cell_type": "markdown",
   "metadata": {},
   "source": [
    "# Chapter VII-I Hot Water Supply System - Demand / 給湯設備 - 給湯需要"
   ]
  },
  {
   "cell_type": "markdown",
   "metadata": {},
   "source": [
    "## 1. Introduction"
   ]
  },
  {
   "cell_type": "markdown",
   "metadata": {},
   "source": [
    "This calculation depends on the specification of \"Chapter VII Hot Water Supply System\" in BRI.  \n",
    "This sheet include only the calculation of the demand of hot water supply system, excluding the calculation of the energy consumption of the water heater(electric heat source, gas/kerosene boiler etc...)."
   ]
  },
  {
   "cell_type": "markdown",
   "metadata": {},
   "source": [
    "## 2. Energy Consumption of Hot Water supply System / 給湯設備によるエネルギー消費量"
   ]
  },
  {
   "cell_type": "markdown",
   "metadata": {},
   "source": [
    "### 1) Power / 消費電力量"
   ]
  },
  {
   "cell_type": "markdown",
   "metadata": {},
   "source": [
    "Daily electric power of hot water supply system is calculated by the equation below.  \n",
    "When there is no systems of the kitchen, the washroom and the bathroom, the daily electric power is equals to be 0.0.\n",
    "\n",
    "$$\n",
    "\\displaystyle E_{E,W} = E_{E,hs} + E_{E,lss,aux}\n",
    "$$\n",
    "\n",
    "Where  \n",
    "$ E_{E,W} $ is the daily electric power of the hot water supply sustem / 1日当たりの給湯設備の消費電力量 (kWh/day);  \n",
    "$ E_{E,hs} $ is the daily electic power of the water heater / 1日当たりの給湯機の消費電力量 (kWh/day);    \n",
    "$ E_{E,lss,aux} $ is the daily electric power of the auxiliaries of the liquid collector type of the solar heating system / 液体集熱式太陽熱利用設備を採用する場合の1日当たりの補機の消費電力 (kWh/h)."
   ]
  },
  {
   "cell_type": "code",
   "execution_count": 3,
   "metadata": {
    "collapsed": true
   },
   "outputs": [],
   "source": [
    "def get_E_E_W(E_E_hs, E_E_lss_aux, _system_exist):\n",
    "    return 0.0 if _system_exist == SystemExistance.NotExist else E_E_hs + E_E_lss_aux "
   ]
  },
  {
   "cell_type": "markdown",
   "metadata": {},
   "source": [
    "#### Example"
   ]
  },
  {
   "cell_type": "markdown",
   "metadata": {},
   "source": [
    "$ E_{E,W} = 0.4 $ (kWh/day)  \n",
    "$ E_{E,hs} = 0.05 $ (kWh/day)  \n",
    "Exsitance of the syste is selected below:\n",
    "- Exsit with Bath\n",
    "- Exsit without Bath\n",
    "- Not Exsit"
   ]
  },
  {
   "cell_type": "code",
   "execution_count": 4,
   "metadata": {
    "collapsed": false
   },
   "outputs": [
    {
     "data": {
      "text/plain": [
       "0.45"
      ]
     },
     "execution_count": 4,
     "metadata": {},
     "output_type": "execute_result"
    }
   ],
   "source": [
    "get_E_E_W(0.4,0.05, SystemExistance.ExistWithBath)"
   ]
  },
  {
   "cell_type": "code",
   "execution_count": 5,
   "metadata": {
    "collapsed": false
   },
   "outputs": [
    {
     "data": {
      "text/plain": [
       "0.45"
      ]
     },
     "execution_count": 5,
     "metadata": {},
     "output_type": "execute_result"
    }
   ],
   "source": [
    "get_E_E_W(0.4,0.05, SystemExistance.ExistWithoutBath)"
   ]
  },
  {
   "cell_type": "code",
   "execution_count": 6,
   "metadata": {
    "collapsed": false
   },
   "outputs": [
    {
     "data": {
      "text/plain": [
       "0.0"
      ]
     },
     "execution_count": 6,
     "metadata": {},
     "output_type": "execute_result"
    }
   ],
   "source": [
    "get_E_E_W(0.4,0.05, SystemExistance.NotExist)"
   ]
  },
  {
   "cell_type": "markdown",
   "metadata": {},
   "source": [
    "### 2) Gas Consumption / ガス消費量"
   ]
  },
  {
   "cell_type": "markdown",
   "metadata": {},
   "source": [
    "Daily gas consumption of hot water supply system is calculated by the equation below.  \n",
    "When there is no systems of the ketchen, the washroom and the bathroom, the daily electric power is equals to be 0.0.\n",
    "\n",
    "$$\n",
    "\\displaystyle E_{G,W} = E_{G,hs}\n",
    "$$\n",
    "\n",
    "Where  \n",
    "$ E_{G,W} $ is the daily gas consumption of the hot water supply sustem / 1日当たりの給湯設備のガス消費電 (MJ/day);  \n",
    "$ E_{G,hs} $ is the daily gas consumption of the water heater / 1日当たりの給湯機のガス消費量 (MJ/day). "
   ]
  },
  {
   "cell_type": "code",
   "execution_count": 7,
   "metadata": {
    "collapsed": true
   },
   "outputs": [],
   "source": [
    "def get_E_G_W(E_G_hs, _system_exist):\n",
    "    return 0.0 if _system_exist == SystemExistance.NotExist else E_G_hs "
   ]
  },
  {
   "cell_type": "markdown",
   "metadata": {},
   "source": [
    "#### Example"
   ]
  },
  {
   "cell_type": "markdown",
   "metadata": {},
   "source": [
    "$ E_{G,W} = 80.0 $ (MJ/day)  \n",
    "Exsitance of the syste is selected below:\n",
    "- Exsit with Bath\n",
    "- Exsit without Bath\n",
    "- Not Exsit"
   ]
  },
  {
   "cell_type": "code",
   "execution_count": 8,
   "metadata": {
    "collapsed": false
   },
   "outputs": [
    {
     "data": {
      "text/plain": [
       "80.0"
      ]
     },
     "execution_count": 8,
     "metadata": {},
     "output_type": "execute_result"
    }
   ],
   "source": [
    "get_E_G_W(80.0, SystemExistance.ExistWithBath)"
   ]
  },
  {
   "cell_type": "code",
   "execution_count": 9,
   "metadata": {
    "collapsed": false
   },
   "outputs": [
    {
     "data": {
      "text/plain": [
       "80.0"
      ]
     },
     "execution_count": 9,
     "metadata": {},
     "output_type": "execute_result"
    }
   ],
   "source": [
    "get_E_G_W(80.0, SystemExistance.ExistWithoutBath)"
   ]
  },
  {
   "cell_type": "code",
   "execution_count": 10,
   "metadata": {
    "collapsed": false
   },
   "outputs": [
    {
     "data": {
      "text/plain": [
       "0.0"
      ]
     },
     "execution_count": 10,
     "metadata": {},
     "output_type": "execute_result"
    }
   ],
   "source": [
    "get_E_G_W(80.0, SystemExistance.NotExist)"
   ]
  },
  {
   "cell_type": "markdown",
   "metadata": {},
   "source": [
    "### 3) Kerosene Consumption / 灯油消費量"
   ]
  },
  {
   "cell_type": "markdown",
   "metadata": {},
   "source": [
    "Daily kerosene consumption of hot water supply system is calculated by the equation below.  \n",
    "When there is no systems of the ketchen, the washroom and the bathroom, the daily electric power is equals to be 0.0.\n",
    "\n",
    "$$\n",
    "\\displaystyle E_{K,W} = E_{K,hs}\n",
    "$$\n",
    "\n",
    "Where  \n",
    "$ E_{K,W} $ is the daily kerosene consumption of the hot water supply sustem / 1日当たりの給湯設備の灯油消費電 (MJ/day);  \n",
    "$ E_{K,hs} $ is the daily kerosene consumption of the water heater / 1日当たりの給湯機の灯油消費量 (MJ/day). "
   ]
  },
  {
   "cell_type": "code",
   "execution_count": 11,
   "metadata": {
    "collapsed": true
   },
   "outputs": [],
   "source": [
    "def get_E_K_W(E_K_hs, _system_exist):\n",
    "    return 0.0 if _system_exist == SystemExistance.NotExist else E_K_hs "
   ]
  },
  {
   "cell_type": "markdown",
   "metadata": {},
   "source": [
    "#### Example"
   ]
  },
  {
   "cell_type": "markdown",
   "metadata": {},
   "source": [
    "$ E_{K,W} = 80.0 $ (MJ/day)  \n",
    "Exsitance of the syste is selected below:\n",
    "- Exsit with Bath\n",
    "- Exsit without Bath\n",
    "- Not Exsit"
   ]
  },
  {
   "cell_type": "code",
   "execution_count": 12,
   "metadata": {
    "collapsed": false
   },
   "outputs": [
    {
     "data": {
      "text/plain": [
       "80.0"
      ]
     },
     "execution_count": 12,
     "metadata": {},
     "output_type": "execute_result"
    }
   ],
   "source": [
    "get_E_K_W(80.0, SystemExistance.ExistWithBath)"
   ]
  },
  {
   "cell_type": "code",
   "execution_count": 13,
   "metadata": {
    "collapsed": false
   },
   "outputs": [
    {
     "data": {
      "text/plain": [
       "80.0"
      ]
     },
     "execution_count": 13,
     "metadata": {},
     "output_type": "execute_result"
    }
   ],
   "source": [
    "get_E_K_W(80.0, SystemExistance.ExistWithoutBath)"
   ]
  },
  {
   "cell_type": "code",
   "execution_count": 14,
   "metadata": {
    "collapsed": false
   },
   "outputs": [
    {
     "data": {
      "text/plain": [
       "0.0"
      ]
     },
     "execution_count": 14,
     "metadata": {},
     "output_type": "execute_result"
    }
   ],
   "source": [
    "get_E_K_W(80.0, SystemExistance.NotExist)"
   ]
  },
  {
   "cell_type": "markdown",
   "metadata": {},
   "source": [
    "### 4) Primary Energy Consumption by Other Fuel / その他の燃料による一次エネルギー消費量"
   ]
  },
  {
   "cell_type": "markdown",
   "metadata": {},
   "source": [
    "Daily primary energy consumption by other fuel is calculated by the equation below.  \n",
    "\n",
    "$$\n",
    "\\displaystyle E_{M,W} = 0.0\n",
    "$$\n",
    "\n",
    "Where  \n",
    "$ E_{M,W} $ is the daily primary energy consumption by other fuel of the hot water supply sustem / 1日当たりの給湯設備のその他の燃料による一次エネルギー消費量 (MJ/day)."
   ]
  },
  {
   "cell_type": "code",
   "execution_count": 15,
   "metadata": {
    "collapsed": true
   },
   "outputs": [],
   "source": [
    "def get_E_M_W():\n",
    "    return 0.0"
   ]
  },
  {
   "cell_type": "markdown",
   "metadata": {},
   "source": [
    "#### Example"
   ]
  },
  {
   "cell_type": "code",
   "execution_count": 16,
   "metadata": {
    "collapsed": false
   },
   "outputs": [
    {
     "data": {
      "text/plain": [
       "0.0"
      ]
     },
     "execution_count": 16,
     "metadata": {},
     "output_type": "execute_result"
    }
   ],
   "source": [
    "get_E_M_W()"
   ]
  },
  {
   "cell_type": "markdown",
   "metadata": {},
   "source": [
    "## Energy Consumption of Water Heater / 給湯機のエネルギー消費量"
   ]
  },
  {
   "cell_type": "markdown",
   "metadata": {},
   "source": [
    "This calculation is represented in other sheet."
   ]
  },
  {
   "cell_type": "code",
   "execution_count": 17,
   "metadata": {
    "collapsed": false
   },
   "outputs": [],
   "source": [
    "def Get_E_hs():\n",
    "    return { \"Electric\": 0.0, \"Gas\": 0.0, \"Kerosene\": 0.0}  # dummy"
   ]
  },
  {
   "cell_type": "markdown",
   "metadata": {},
   "source": [
    "#### Example"
   ]
  },
  {
   "cell_type": "code",
   "execution_count": 18,
   "metadata": {
    "collapsed": false
   },
   "outputs": [
    {
     "data": {
      "text/plain": [
       "{'Electric': 0.0, 'Gas': 0.0, 'Kerosene': 0.0}"
      ]
     },
     "execution_count": 18,
     "metadata": {},
     "output_type": "execute_result"
    }
   ],
   "source": [
    "Get_E_hs()"
   ]
  },
  {
   "cell_type": "markdown",
   "metadata": {},
   "source": [
    "## Hot Water Supply Load Corrected for Solar Heat / 太陽熱補正給湯負荷"
   ]
  },
  {
   "cell_type": "markdown",
   "metadata": {},
   "source": [
    "Daily hot water supply load corrected for solar heat with each usage are calculated by the equations below."
   ]
  },
  {
   "cell_type": "markdown",
   "metadata": {},
   "source": [
    "$$\n",
    "\\displaystyle L''_K = L'_k - L_{sun} \\times \\frac { L'_k }{ (L'_k + L'_s + L'_w + L'_{b1} + L'_{b2} + L'_{ba1} ) }\n",
    "$$"
   ]
  },
  {
   "cell_type": "markdown",
   "metadata": {},
   "source": [
    "$$\n",
    "\\displaystyle L''_s = L'_s - L_{sun} \\times \\frac { L'_s }{ (L'_k + L'_s + L'_w + L'_{b1} + L'_{b2} + L'_{ba1} ) }\n",
    "$$"
   ]
  },
  {
   "cell_type": "markdown",
   "metadata": {},
   "source": [
    "$$\n",
    "\\displaystyle L''_w = L'_w - L_{sun} \\times \\frac { L'_w }{ (L'_k + L'_s + L'_w + L'_{b1} + L'_{b2} + L'_{ba1} ) }\n",
    "$$  "
   ]
  },
  {
   "cell_type": "markdown",
   "metadata": {},
   "source": [
    "$$\n",
    "\\displaystyle L''_{b1}= L'_{b1} - L_{sun} \\times \\frac{ L'_{b1} } {(L'_k + L'_s + L'_w + L'_{b1} + L'_{b2} + L'_{ba1} ) }\n",
    "$$"
   ]
  },
  {
   "cell_type": "markdown",
   "metadata": {
    "collapsed": true
   },
   "source": [
    "$$\n",
    "\\displaystyle L''_{b2}= L'_{b2} - L_{sun} \\times \\frac{ L'_{b2} } {(L'_k + L'_s + L'_w + L'_{b1} + L'_{b2} + L'_{ba1} ) }\n",
    "$$"
   ]
  },
  {
   "cell_type": "markdown",
   "metadata": {
    "collapsed": true
   },
   "source": [
    "$$\n",
    "\\displaystyle L''_{ba1} = L'_{ba1} - L_{sun} \\times \\frac{L'_{ba1}}{(L'_k + L'_s + L'_w + L'_{b1} + L'_{b2} + L'_{ba1})}\n",
    "$$"
   ]
  },
  {
   "cell_type": "markdown",
   "metadata": {
    "collapsed": true
   },
   "source": [
    "$$\n",
    "\\displaystyle L''_{ba2} = L'_{ba2}\n",
    "$$"
   ]
  },
  {
   "cell_type": "markdown",
   "metadata": {},
   "source": [
    "where  \n",
    "$ L''_{k} $ is the daily hot water supply load corrected for solar heat by the kitchen./1日当たりの台所水栓における太陽熱補正給湯熱負荷(MJ/day)  \n",
    "$ L''_{s} $ is the daily hot water supply load corrected for solar heat by the shower./1日当たりの浴室シャワー水栓における太陽熱補正給湯熱負荷(MJ/day)  \n",
    "$ L''_{w} $ is the daily hot water supply load corrected for solar heat by the washroom./1日当たりの洗面水栓における太陽熱補正給湯熱負荷(MJ/day)  \n",
    "$ L''_{b1} $ is the daily hot water supply load corrected for solar heat by filling the bathtub manually./1日当たりの浴槽水栓湯はり時における太陽熱補正給湯熱負荷(MJ/day)  \n",
    "$ L''_{b2} $ is the daily hot water supply load corrected for solar heat by filling the bathtub automattically./1日当たりの浴槽自動湯はり時における太陽熱補正給湯熱負荷(MJ/day)  \n",
    "$ L''_{ba1} $ is the daily hot water supply load corrected for solar heat by addition of hot water to bathtub./1日当たりの浴槽水栓さし湯時における太陽熱補正給湯熱負荷(MJ/day)  \n",
    "$ L''_{ba2} $ is the daily hot water supply load corrected for solar heat by rewarming./1日当たりの浴槽追焚時における太陽熱補正給湯熱負荷(MJ/day)  \n",
    "$ L'_{k} $ is the daily hot water supply load corrected for hot water saving by the kitchen./1日当たりの台所水栓における節湯補正給湯熱負荷(MJ/day)  \n",
    "$ L'_{s} $ is the daily hot water supply load corrected for hot water saving by the shower./1日当たりの浴室シャワー水栓における節湯補正給湯熱負荷(MJ/day)  \n",
    "$ L'_{w} $ is the daily hot water supply load corrected for hot water saving by the washroom./1日当たりの洗面水栓における節湯補正給湯熱負荷(MJ/day)  \n",
    "$ L'_{b1} $ is the daily hot water supply load corrected for hot water saving by filling the bathtub manually./1日当たりの浴槽水栓湯はり時における節湯補正給湯熱負荷(MJ/day)  \n",
    "$ L'_{b2} $ is the daily hot water supply load corrected for hot water saving by filling the bathtub automatically./1日当たりの浴槽自動湯はり時における節湯補正給湯熱負荷(MJ/day)  \n",
    "$ L'_{ba1} $ is the daily hot water supply load corrected for hot water saving by addition of hot water to bathtub./1日当たりの浴槽水栓さし湯時における節湯補正給湯熱負荷(MJ/day)  \n",
    "$ L'_{ba2} $ is the daily hot water supply load corrected for hot water saving by rewarming./1日当たりの浴槽追焚時における節湯補正給湯熱負荷(MJ/day)  \n",
    "$ L_{sun} $ is the daily heat collection by solar system./1日当たりの太陽熱利用給湯設備による補正集熱量(MJ/day)"
   ]
  },
  {
   "cell_type": "code",
   "execution_count": 2,
   "metadata": {
    "collapsed": true
   },
   "outputs": [],
   "source": [
    "def L_2dash_k(L_dash_k, L_dash_s, L_dash_w, L_dash_b1, L_dash_b2, L_dash_ba1, L_sun):\n",
    "    L_2dash_k = L_dash_k - L_sun * L_dash_k / (L_dash_k + L_dash_s + L_dash_w + L_dash_b1 + L_dash_b2 + L_dash_ba1)\n",
    "    return L_2dash_k   # dummy"
   ]
  },
  {
   "cell_type": "code",
   "execution_count": null,
   "metadata": {
    "collapsed": true
   },
   "outputs": [],
   "source": [
    "def L_2dash_s(L_dash_k, L_dash_s, L_dash_w, L_dash_b1, L_dash_b2, L_dash_ba1, L_sun):\n",
    "    L_2dash_s = L_dash_s - L_sun * L_dash_s / (L_dash_k + L_dash_s + L_dash_w + L_dash_b1 + L_dash_b2 + L_dash_ba1)\n",
    "    return L_2dash_s   # dummy"
   ]
  },
  {
   "cell_type": "code",
   "execution_count": null,
   "metadata": {
    "collapsed": true
   },
   "outputs": [],
   "source": [
    "def L_2dash_w(L_dash_k, L_dash_s, L_dash_w, L_dash_b1, L_dash_b2, L_dash_ba1, L_sun):\n",
    "    L_2dash_w = L_dash_w - L_sun * L_dash_w / (L_dash_k + L_dash_s + L_dash_w + L_dash_b1 + L_dash_b2 + L_dash_ba1)\n",
    "    return L_2dash_w   # dummy"
   ]
  },
  {
   "cell_type": "code",
   "execution_count": null,
   "metadata": {
    "collapsed": true
   },
   "outputs": [],
   "source": [
    "def L_2dash_b1(L_dash_k, L_dash_s, L_dash_w, L_dash_b1, L_dash_b2, L_dash_ba1, L_sun):\n",
    "    L_2dash_b1 = L_dash_b1 - L_sun * L_dash_b1 / (L_dash_k + L_dash_s + L_dash_w + L_dash_b1 + L_dash_b2 + L_dash_ba1)\n",
    "    return L_2dash_b1   # dummy"
   ]
  },
  {
   "cell_type": "code",
   "execution_count": 3,
   "metadata": {
    "collapsed": true
   },
   "outputs": [],
   "source": [
    "def L_2dash_b2(L_dash_k, L_dash_s, L_dash_w, L_dash_b1, L_dash_b2, L_dash_ba1, L_sun):\n",
    "    L_2dash_b2 = L_dash_b2 - L_sun * L_dash_b2 / (L_dash_k + L_dash_s + L_dash_w + L_dash_b1 + L_dash_b2 + L_dash_ba1)\n",
    "    return L_2dash_b2   # dummy"
   ]
  },
  {
   "cell_type": "code",
   "execution_count": 4,
   "metadata": {
    "collapsed": true
   },
   "outputs": [],
   "source": [
    "def L_2dash_ba1(L_dash_k, L_dash_s, L_dash_w, L_dash_b1, L_dash_b2, L_dash_ba1, L_sun):\n",
    "    L_2dash_ba1 = L_dash_ba1 - L_sun * L_dash_ba1 / (L_dash_k + L_dash_s + L_dash_w + L_dash_b1 + L_dash_b2 + L_dash_ba1)\n",
    "    return L_2dash_ba1   # dummy"
   ]
  },
  {
   "cell_type": "code",
   "execution_count": 6,
   "metadata": {
    "collapsed": true
   },
   "outputs": [],
   "source": [
    "def L_2dash_ba2(L_dash_ba2):\n",
    "    L_2dash_ba2 = L_dash_ba2\n",
    "    return L_dash_ba2"
   ]
  },
  {
   "cell_type": "markdown",
   "metadata": {},
   "source": [
    "#### Example"
   ]
  },
  {
   "cell_type": "markdown",
   "metadata": {},
   "source": [
    "$ L'_{k} = 1 $ MJ/day  \n",
    "$ L'_{s} = 1 $ MJ/day  \n",
    "$ L'_{w} = 1 $ MJ/day  \n",
    "$ L'_{b1} = 1 $ MJ/day  \n",
    "$ L'_{b2} = 1 $ MJ/day  \n",
    "$ L'_{ba1} = 1 $ MJ/day  \n",
    "$ L'_{ba2}  = 1 $ MJ/day\n",
    "$ L_{sun} = 1 $ MJ/day"
   ]
  },
  {
   "cell_type": "code",
   "execution_count": 3,
   "metadata": {},
   "outputs": [
    {
     "data": {
      "text/plain": [
       "0.8333333333333334"
      ]
     },
     "execution_count": 8,
     "metadata": {},
     "output_type": "execute_result"
    }
   ],
   "source": [
    "L_2dash_k(L_dash_k = 1, L_dash_s = 1, L_dash_w = 1, L_dash_b1 = 1, L_dash_b2 = 1, L_dash_ba1 = 1, L_sun = 1) "
   ]
  },
  {
   "cell_type": "markdown",
   "metadata": {},
   "source": [
    "## hot water supply load corrected for hot water saving / 節湯補正給湯熱負荷"
   ]
  },
  {
   "cell_type": "code",
   "execution_count": null,
   "metadata": {
    "collapsed": true
   },
   "outputs": [],
   "source": []
  },
  {
   "cell_type": "code",
   "execution_count": null,
   "metadata": {
    "collapsed": true
   },
   "outputs": [],
   "source": []
  },
  {
   "cell_type": "code",
   "execution_count": null,
   "metadata": {
    "collapsed": true
   },
   "outputs": [],
   "source": []
  },
  {
   "cell_type": "code",
   "execution_count": null,
   "metadata": {
    "collapsed": true
   },
   "outputs": [],
   "source": []
  }
 ],
 "metadata": {
  "kernelspec": {
   "display_name": "Python 3",
   "language": "python",
   "name": "python3"
  },
  "language_info": {
   "codemirror_mode": {
    "name": "ipython",
    "version": 3
   },
   "file_extension": ".py",
   "mimetype": "text/x-python",
   "name": "python",
   "nbconvert_exporter": "python",
   "pygments_lexer": "ipython3",
   "version": "3.6.2"
  }
 },
 "nbformat": 4,
 "nbformat_minor": 2
}
