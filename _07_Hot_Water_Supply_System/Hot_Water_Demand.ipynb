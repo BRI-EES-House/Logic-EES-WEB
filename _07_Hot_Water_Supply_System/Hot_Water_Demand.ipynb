{
 "cells": [
  {
   "cell_type": "code",
   "execution_count": 1,
   "metadata": {
    "collapsed": true
   },
   "outputs": [],
   "source": [
    "import math\n",
    "import numpy as np\n",
    "from enum import Enum"
   ]
  },
  {
   "cell_type": "code",
   "execution_count": 2,
   "metadata": {
    "collapsed": true
   },
   "outputs": [],
   "source": [
    "class SystemExistance(Enum):\n",
    "    ExistWithBath    = 0,\n",
    "    ExistWithoutBath = 1,\n",
    "    NotExist         = 2"
   ]
  },
  {
   "cell_type": "markdown",
   "metadata": {},
   "source": [
    "# Chapter VII-I Hot Water Supply System - Demand / 給湯設備 - 給湯需要"
   ]
  },
  {
   "cell_type": "markdown",
   "metadata": {},
   "source": [
    "## 1. Introduction"
   ]
  },
  {
   "cell_type": "markdown",
   "metadata": {},
   "source": [
    "This calculation depends on the specification of \"Chapter VII Hot Water Supply System\" in BRI.  \n",
    "This sheet include only the calculation of the demand of hot water supply system, excluding the calculation of the energy consumption of the water heater(electric heat source, gas/kerosene boiler etc...)."
   ]
  },
  {
   "cell_type": "markdown",
   "metadata": {},
   "source": [
    "## 2. Energy Consumption of Hot Water supply System / 給湯設備によるエネルギー消費量"
   ]
  },
  {
   "cell_type": "markdown",
   "metadata": {},
   "source": [
    "### 1) Power / 消費電力量"
   ]
  },
  {
   "cell_type": "markdown",
   "metadata": {},
   "source": [
    "Daily electric power of hot water supply system is calculated by the equation below.  \n",
    "When there is no systems of the kitchen, the washroom and the bathroom, the daily electric power is equals to be 0.0.\n",
    "\n",
    "$$\n",
    "\\displaystyle E_{E,W} = E_{E,hs} + E_{E,lss,aux}\n",
    "$$\n",
    "\n",
    "Where  \n",
    "$ E_{E,W} $ is the daily electric power of the hot water supply sustem / 1日当たりの給湯設備の消費電力量 (kWh/day);  \n",
    "$ E_{E,hs} $ is the daily electic power of the water heater / 1日当たりの給湯機の消費電力量 (kWh/day);    \n",
    "$ E_{E,lss,aux} $ is the daily electric power of the auxiliaries of the liquid collector type of the solar heating system / 液体集熱式太陽熱利用設備を採用する場合の1日当たりの補機の消費電力 (kWh/h)."
   ]
  },
  {
   "cell_type": "code",
   "execution_count": 3,
   "metadata": {
    "collapsed": true
   },
   "outputs": [],
   "source": [
    "def get_E_E_W(E_E_hs, E_E_lss_aux, _system_exist):\n",
    "    return 0.0 if _system_exist == SystemExistance.NotExist else E_E_hs + E_E_lss_aux "
   ]
  },
  {
   "cell_type": "markdown",
   "metadata": {},
   "source": [
    "#### Example"
   ]
  },
  {
   "cell_type": "markdown",
   "metadata": {},
   "source": [
    "$ E_{E,W} = 0.4 $ (kWh/day)  \n",
    "$ E_{E,hs} = 0.05 $ (kWh/day)  \n",
    "Exsitance of the syste is selected below:\n",
    "- Exsit with Bath\n",
    "- Exsit without Bath\n",
    "- Not Exsit"
   ]
  },
  {
   "cell_type": "code",
   "execution_count": 4,
   "metadata": {},
   "outputs": [
    {
     "data": {
      "text/plain": [
       "0.45"
      ]
     },
     "execution_count": 4,
     "metadata": {},
     "output_type": "execute_result"
    }
   ],
   "source": [
    "get_E_E_W(0.4,0.05, SystemExistance.ExistWithBath)"
   ]
  },
  {
   "cell_type": "code",
   "execution_count": 5,
   "metadata": {},
   "outputs": [
    {
     "data": {
      "text/plain": [
       "0.45"
      ]
     },
     "execution_count": 5,
     "metadata": {},
     "output_type": "execute_result"
    }
   ],
   "source": [
    "get_E_E_W(0.4,0.05, SystemExistance.ExistWithoutBath)"
   ]
  },
  {
   "cell_type": "code",
   "execution_count": 6,
   "metadata": {},
   "outputs": [
    {
     "data": {
      "text/plain": [
       "0.0"
      ]
     },
     "execution_count": 6,
     "metadata": {},
     "output_type": "execute_result"
    }
   ],
   "source": [
    "get_E_E_W(0.4,0.05, SystemExistance.NotExist)"
   ]
  },
  {
   "cell_type": "markdown",
   "metadata": {},
   "source": [
    "### 2) Gas Consumption / ガス消費量"
   ]
  },
  {
   "cell_type": "markdown",
   "metadata": {},
   "source": [
    "Daily gas consumption of hot water supply system is calculated by the equation below.  \n",
    "When there is no systems of the ketchen, the washroom and the bathroom, the daily electric power is equals to be 0.0.\n",
    "\n",
    "$$\n",
    "\\displaystyle E_{G,W} = E_{G,hs}\n",
    "$$\n",
    "\n",
    "Where  \n",
    "$ E_{G,W} $ is the daily gas consumption of the hot water supply sustem / 1日当たりの給湯設備のガス消費電 (MJ/day);  \n",
    "$ E_{G,hs} $ is the daily gas consumption of the water heater / 1日当たりの給湯機のガス消費量 (MJ/day). "
   ]
  },
  {
   "cell_type": "code",
   "execution_count": 7,
   "metadata": {
    "collapsed": true
   },
   "outputs": [],
   "source": [
    "def get_E_G_W(E_G_hs, _system_exist):\n",
    "    return 0.0 if _system_exist == SystemExistance.NotExist else E_G_hs "
   ]
  },
  {
   "cell_type": "markdown",
   "metadata": {},
   "source": [
    "#### Example"
   ]
  },
  {
   "cell_type": "markdown",
   "metadata": {},
   "source": [
    "$ E_{G,W} = 80.0 $ (MJ/day)  \n",
    "Exsitance of the syste is selected below:\n",
    "- Exsit with Bath\n",
    "- Exsit without Bath\n",
    "- Not Exsit"
   ]
  },
  {
   "cell_type": "code",
   "execution_count": 8,
   "metadata": {},
   "outputs": [
    {
     "data": {
      "text/plain": [
       "80.0"
      ]
     },
     "execution_count": 8,
     "metadata": {},
     "output_type": "execute_result"
    }
   ],
   "source": [
    "get_E_G_W(80.0, SystemExistance.ExistWithBath)"
   ]
  },
  {
   "cell_type": "code",
   "execution_count": 9,
   "metadata": {},
   "outputs": [
    {
     "data": {
      "text/plain": [
       "80.0"
      ]
     },
     "execution_count": 9,
     "metadata": {},
     "output_type": "execute_result"
    }
   ],
   "source": [
    "get_E_G_W(80.0, SystemExistance.ExistWithoutBath)"
   ]
  },
  {
   "cell_type": "code",
   "execution_count": 10,
   "metadata": {},
   "outputs": [
    {
     "data": {
      "text/plain": [
       "0.0"
      ]
     },
     "execution_count": 10,
     "metadata": {},
     "output_type": "execute_result"
    }
   ],
   "source": [
    "get_E_G_W(80.0, SystemExistance.NotExist)"
   ]
  },
  {
   "cell_type": "markdown",
   "metadata": {},
   "source": [
    "### 3) Kerosene Consumption / 灯油消費量"
   ]
  },
  {
   "cell_type": "markdown",
   "metadata": {},
   "source": [
    "Daily kerosene consumption of hot water supply system is calculated by the equation below.  \n",
    "When there is no systems of the ketchen, the washroom and the bathroom, the daily electric power is equals to be 0.0.\n",
    "\n",
    "$$\n",
    "\\displaystyle E_{K,W} = E_{K,hs}\n",
    "$$\n",
    "\n",
    "Where  \n",
    "$ E_{K,W} $ is the daily kerosene consumption of the hot water supply sustem / 1日当たりの給湯設備の灯油消費電 (MJ/day);  \n",
    "$ E_{K,hs} $ is the daily kerosene consumption of the water heater / 1日当たりの給湯機の灯油消費量 (MJ/day). "
   ]
  },
  {
   "cell_type": "code",
   "execution_count": 11,
   "metadata": {
    "collapsed": true
   },
   "outputs": [],
   "source": [
    "def get_E_K_W(E_K_hs, _system_exist):\n",
    "    return 0.0 if _system_exist == SystemExistance.NotExist else E_K_hs "
   ]
  },
  {
   "cell_type": "markdown",
   "metadata": {},
   "source": [
    "#### Example"
   ]
  },
  {
   "cell_type": "markdown",
   "metadata": {},
   "source": [
    "$ E_{K,W} = 80.0 $ (MJ/day)  \n",
    "Exsitance of the syste is selected below:\n",
    "- Exsit with Bath\n",
    "- Exsit without Bath\n",
    "- Not Exsit"
   ]
  },
  {
   "cell_type": "code",
   "execution_count": 12,
   "metadata": {},
   "outputs": [
    {
     "data": {
      "text/plain": [
       "80.0"
      ]
     },
     "execution_count": 12,
     "metadata": {},
     "output_type": "execute_result"
    }
   ],
   "source": [
    "get_E_K_W(80.0, SystemExistance.ExistWithBath)"
   ]
  },
  {
   "cell_type": "code",
   "execution_count": 13,
   "metadata": {},
   "outputs": [
    {
     "data": {
      "text/plain": [
       "80.0"
      ]
     },
     "execution_count": 13,
     "metadata": {},
     "output_type": "execute_result"
    }
   ],
   "source": [
    "get_E_K_W(80.0, SystemExistance.ExistWithoutBath)"
   ]
  },
  {
   "cell_type": "code",
   "execution_count": 14,
   "metadata": {},
   "outputs": [
    {
     "data": {
      "text/plain": [
       "0.0"
      ]
     },
     "execution_count": 14,
     "metadata": {},
     "output_type": "execute_result"
    }
   ],
   "source": [
    "get_E_K_W(80.0, SystemExistance.NotExist)"
   ]
  },
  {
   "cell_type": "markdown",
   "metadata": {},
   "source": [
    "### 4) Primary Energy Consumption by Other Fuel / その他の燃料による一次エネルギー消費量"
   ]
  },
  {
   "cell_type": "markdown",
   "metadata": {},
   "source": [
    "Daily primary energy consumption by other fuel is calculated by the equation below.  \n",
    "\n",
    "$$\n",
    "\\displaystyle E_{M,W} = 0.0\n",
    "$$\n",
    "\n",
    "Where  \n",
    "$ E_{M,W} $ is the daily primary energy consumption by other fuel of the hot water supply sustem / 1日当たりの給湯設備のその他の燃料による一次エネルギー消費量 (MJ/day)."
   ]
  },
  {
   "cell_type": "code",
   "execution_count": 15,
   "metadata": {
    "collapsed": true
   },
   "outputs": [],
   "source": [
    "def get_E_M_W():\n",
    "    return 0.0"
   ]
  },
  {
   "cell_type": "markdown",
   "metadata": {},
   "source": [
    "#### Example"
   ]
  },
  {
   "cell_type": "code",
   "execution_count": 16,
   "metadata": {},
   "outputs": [
    {
     "data": {
      "text/plain": [
       "0.0"
      ]
     },
     "execution_count": 16,
     "metadata": {},
     "output_type": "execute_result"
    }
   ],
   "source": [
    "get_E_M_W()"
   ]
  },
  {
   "cell_type": "markdown",
   "metadata": {},
   "source": [
    "## Energy Consumption of Water Heater / 給湯機のエネルギー消費量"
   ]
  },
  {
   "cell_type": "markdown",
   "metadata": {},
   "source": [
    "This calculation is represented in other sheet."
   ]
  },
  {
   "cell_type": "code",
   "execution_count": 17,
   "metadata": {},
   "outputs": [],
   "source": [
    "def Get_E_hs():\n",
    "    return { \"Electric\": 0.0, \"Gas\": 0.0, \"Kerosene\": 0.0}  # dummy"
   ]
  },
  {
   "cell_type": "markdown",
   "metadata": {},
   "source": [
    "#### Example"
   ]
  },
  {
   "cell_type": "code",
   "execution_count": 18,
   "metadata": {},
   "outputs": [
    {
     "data": {
      "text/plain": [
       "{'Electric': 0.0, 'Gas': 0.0, 'Kerosene': 0.0}"
      ]
     },
     "execution_count": 18,
     "metadata": {},
     "output_type": "execute_result"
    }
   ],
   "source": [
    "Get_E_hs()"
   ]
  },
  {
   "cell_type": "markdown",
   "metadata": {},
   "source": [
    "## Hot Water Supply Load Corrected for Solar Heat / 太陽熱補正給湯負荷"
   ]
  },
  {
   "cell_type": "markdown",
   "metadata": {},
   "source": [
    "Daily hot water supply load corrected for solar heat with each usage are calculated by the equations below."
   ]
  },
  {
   "cell_type": "markdown",
   "metadata": {},
   "source": [
    "$$\n",
    "\\displaystyle L''_K = L'_k - L_{sun} \\times \\frac { L'_k }{ (L'_k + L'_s + L'_w + L'_{b1} + L'_{b2} + L'_{ba1} ) }\n",
    "$$"
   ]
  },
  {
   "cell_type": "markdown",
   "metadata": {},
   "source": [
    "$$\n",
    "\\displaystyle L''_s = L'_s - L_{sun} \\times \\frac { L'_s }{ (L'_k + L'_s + L'_w + L'_{b1} + L'_{b2} + L'_{ba1} ) }\n",
    "$$"
   ]
  },
  {
   "cell_type": "markdown",
   "metadata": {},
   "source": [
    "$$\n",
    "\\displaystyle L''_w = L'_w - L_{sun} \\times \\frac { L'_w }{ (L'_k + L'_s + L'_w + L'_{b1} + L'_{b2} + L'_{ba1} ) }\n",
    "$$  "
   ]
  },
  {
   "cell_type": "markdown",
   "metadata": {},
   "source": [
    "$$\n",
    "\\displaystyle L''_{b1}= L'_{b1} - L_{sun} \\times \\frac{ L'_{b1} } {(L'_k + L'_s + L'_w + L'_{b1} + L'_{b2} + L'_{ba1} ) }\n",
    "$$"
   ]
  },
  {
   "cell_type": "markdown",
   "metadata": {
    "collapsed": true
   },
   "source": [
    "$$\n",
    "\\displaystyle L''_{b2}= L'_{b2} - L_{sun} \\times \\frac{ L'_{b2} } {(L'_k + L'_s + L'_w + L'_{b1} + L'_{b2} + L'_{ba1} ) }\n",
    "$$"
   ]
  },
  {
   "cell_type": "markdown",
   "metadata": {
    "collapsed": true
   },
   "source": [
    "$$\n",
    "\\displaystyle L''_{ba1} = L'_{ba1} - L_{sun} \\times \\frac{L'_{ba1}}{(L'_k + L'_s + L'_w + L'_{b1} + L'_{b2} + L'_{ba1})}\n",
    "$$"
   ]
  },
  {
   "cell_type": "markdown",
   "metadata": {
    "collapsed": true
   },
   "source": [
    "$$\n",
    "\\displaystyle L''_{ba2} = L'_{ba2}\n",
    "$$"
   ]
  },
  {
   "cell_type": "markdown",
   "metadata": {},
   "source": [
    "where  \n",
    "$ L''_{k} $ is the daily hot water supply load corrected for solar heat by the kitchen./1日当たりの台所水栓における太陽熱補正給湯熱負荷(MJ/day)  \n",
    "$ L''_{s} $ is the daily hot water supply load corrected for solar heat by the shower./1日当たりの浴室シャワー水栓における太陽熱補正給湯熱負荷(MJ/day)  \n",
    "$ L''_{w} $ is the daily hot water supply load corrected for solar heat by the washroom./1日当たりの洗面水栓における太陽熱補正給湯熱負荷(MJ/day)  \n",
    "$ L''_{b1} $ is the daily hot water supply load corrected for solar heat by filling the bathtub manually./1日当たりの浴槽水栓湯はり時における太陽熱補正給湯熱負荷(MJ/day)  \n",
    "$ L''_{b2} $ is the daily hot water supply load corrected for solar heat by filling the bathtub automattically./1日当たりの浴槽自動湯はり時における太陽熱補正給湯熱負荷(MJ/day)  \n",
    "$ L''_{ba1} $ is the daily hot water supply load corrected for solar heat by addition of hot water to bathtub./1日当たりの浴槽水栓さし湯時における太陽熱補正給湯熱負荷(MJ/day)  \n",
    "$ L''_{ba2} $ is the daily hot water supply load corrected for solar heat by rewarming./1日当たりの浴槽追焚時における太陽熱補正給湯熱負荷(MJ/day)  \n",
    "$ L'_{k} $ is the daily hot water supply load corrected for hot water saving by the kitchen./1日当たりの台所水栓における節湯補正給湯熱負荷(MJ/day)  \n",
    "$ L'_{s} $ is the daily hot water supply load corrected for hot water saving by the shower./1日当たりの浴室シャワー水栓における節湯補正給湯熱負荷(MJ/day)  \n",
    "$ L'_{w} $ is the daily hot water supply load corrected for hot water saving by the washroom./1日当たりの洗面水栓における節湯補正給湯熱負荷(MJ/day)  \n",
    "$ L'_{b1} $ is the daily hot water supply load corrected for hot water saving by filling the bathtub manually./1日当たりの浴槽水栓湯はり時における節湯補正給湯熱負荷(MJ/day)  \n",
    "$ L'_{b2} $ is the daily hot water supply load corrected for hot water saving by filling the bathtub automatically./1日当たりの浴槽自動湯はり時における節湯補正給湯熱負荷(MJ/day)  \n",
    "$ L'_{ba1} $ is the daily hot water supply load corrected for hot water saving by addition of hot water to bathtub./1日当たりの浴槽水栓さし湯時における節湯補正給湯熱負荷(MJ/day)  \n",
    "$ L'_{ba2} $ is the daily hot water supply load corrected for hot water saving by rewarming./1日当たりの浴槽追焚時における節湯補正給湯熱負荷(MJ/day)  \n",
    "$ L_{sun} $ is the daily heat collection by solar system./1日当たりの太陽熱利用給湯設備による補正集熱量(MJ/day)"
   ]
  },
  {
   "cell_type": "code",
   "execution_count": 1,
   "metadata": {
    "collapsed": true
   },
   "outputs": [],
   "source": [
    "def L_2dash_k(L_dash_k, L_dash_s, L_dash_w, L_dash_b1, L_dash_b2, L_dash_ba1, L_sun):\n",
    "    L_2dash_k = L_dash_k - L_sun * L_dash_k / (L_dash_k + L_dash_s + L_dash_w + L_dash_b1 + L_dash_b2 + L_dash_ba1)\n",
    "    return L_2dash_k"
   ]
  },
  {
   "cell_type": "code",
   "execution_count": 2,
   "metadata": {
    "collapsed": true
   },
   "outputs": [],
   "source": [
    "def L_2dash_s(L_dash_k, L_dash_s, L_dash_w, L_dash_b1, L_dash_b2, L_dash_ba1, L_sun):\n",
    "    L_2dash_s = L_dash_s - L_sun * L_dash_s / (L_dash_k + L_dash_s + L_dash_w + L_dash_b1 + L_dash_b2 + L_dash_ba1)\n",
    "    return L_2dash_s"
   ]
  },
  {
   "cell_type": "code",
   "execution_count": 3,
   "metadata": {
    "collapsed": true
   },
   "outputs": [],
   "source": [
    "def L_2dash_w(L_dash_k, L_dash_s, L_dash_w, L_dash_b1, L_dash_b2, L_dash_ba1, L_sun):\n",
    "    L_2dash_w = L_dash_w - L_sun * L_dash_w / (L_dash_k + L_dash_s + L_dash_w + L_dash_b1 + L_dash_b2 + L_dash_ba1)\n",
    "    return L_2dash_w"
   ]
  },
  {
   "cell_type": "code",
   "execution_count": 4,
   "metadata": {
    "collapsed": true
   },
   "outputs": [],
   "source": [
    "def L_2dash_b1(L_dash_k, L_dash_s, L_dash_w, L_dash_b1, L_dash_b2, L_dash_ba1, L_sun):\n",
    "    L_2dash_b1 = L_dash_b1 - L_sun * L_dash_b1 / (L_dash_k + L_dash_s + L_dash_w + L_dash_b1 + L_dash_b2 + L_dash_ba1)\n",
    "    return L_2dash_b1  "
   ]
  },
  {
   "cell_type": "code",
   "execution_count": 5,
   "metadata": {
    "collapsed": true
   },
   "outputs": [],
   "source": [
    "def L_2dash_b2(L_dash_k, L_dash_s, L_dash_w, L_dash_b1, L_dash_b2, L_dash_ba1, L_sun):\n",
    "    L_2dash_b2 = L_dash_b2 - L_sun * L_dash_b2 / (L_dash_k + L_dash_s + L_dash_w + L_dash_b1 + L_dash_b2 + L_dash_ba1)\n",
    "    return L_2dash_b2 "
   ]
  },
  {
   "cell_type": "code",
   "execution_count": 6,
   "metadata": {
    "collapsed": true
   },
   "outputs": [],
   "source": [
    "def L_2dash_ba1(L_dash_k, L_dash_s, L_dash_w, L_dash_b1, L_dash_b2, L_dash_ba1, L_sun):\n",
    "    L_2dash_ba1 = L_dash_ba1 - L_sun * L_dash_ba1 / (L_dash_k + L_dash_s + L_dash_w + L_dash_b1 + L_dash_b2 + L_dash_ba1)\n",
    "    return L_2dash_ba1  "
   ]
  },
  {
   "cell_type": "code",
   "execution_count": 7,
   "metadata": {
    "collapsed": true
   },
   "outputs": [],
   "source": [
    "def L_2dash_ba2(L_dash_ba2):\n",
    "    L_2dash_ba2 = L_dash_ba2\n",
    "    return L_dash_ba2"
   ]
  },
  {
   "cell_type": "markdown",
   "metadata": {},
   "source": [
    "#### Example"
   ]
  },
  {
   "cell_type": "markdown",
   "metadata": {},
   "source": [
    "$ L'_{k} = 1 $ MJ/day  \n",
    "$ L'_{s} = 1 $ MJ/day  \n",
    "$ L'_{w} = 1 $ MJ/day  \n",
    "$ L'_{b1} = 1 $ MJ/day  \n",
    "$ L'_{b2} = 1 $ MJ/day  \n",
    "$ L'_{ba1} = 1 $ MJ/day  \n",
    "$ L'_{ba2}  = 1 $ MJ/day\n",
    "$ L_{sun} = 1 $ MJ/day"
   ]
  },
  {
   "cell_type": "code",
   "execution_count": 3,
   "metadata": {},
   "outputs": [
    {
     "data": {
      "text/plain": [
       "0.8333333333333334"
      ]
     },
     "execution_count": 8,
     "metadata": {},
     "output_type": "execute_result"
    }
   ],
   "source": [
    "L_2dash_k(L_dash_k = 1, L_dash_s = 1, L_dash_w = 1, L_dash_b1 = 1, L_dash_b2 = 1, L_dash_ba1 = 1, L_sun = 1) "
   ]
  },
  {
   "cell_type": "markdown",
   "metadata": {},
   "source": [
    "## hot water supply load corrected for hot water saving / 節湯補正給湯熱負荷"
   ]
  },
  {
   "cell_type": "markdown",
   "metadata": {
    "collapsed": true
   },
   "source": [
    "1日当たりの台所水栓、浴室シャワー水栓、洗面における節湯補正給湯熱負荷の式は下記の通り"
   ]
  },
  {
   "cell_type": "markdown",
   "metadata": {
    "collapsed": true
   },
   "source": [
    "$$\n",
    "\\displaystyle L'_{k} = W'_k \\times (\\theta_{sw,k} - \\theta_{wtr}) \\times 4.186 \\times 10^{-3}\n",
    "$$"
   ]
  },
  {
   "cell_type": "markdown",
   "metadata": {
    "collapsed": true
   },
   "source": [
    "$$\n",
    "\\displaystyle L'_{s} = W'_s \\times (\\theta_{sw,s} - \\theta_{wtr}) \\times 4.186 \\times 10^{-3}\n",
    "$$"
   ]
  },
  {
   "cell_type": "markdown",
   "metadata": {},
   "source": [
    "$$\n",
    "\\displaystyle L'_{w} = W'_w \\times (\\theta_{sw,w} - \\theta_{wtr}) \\times 4.186 \\times 10^{-3}\n",
    "$$"
   ]
  },
  {
   "cell_type": "markdown",
   "metadata": {},
   "source": [
    "1日当たりの浴槽水栓湯はり時における説湯補正給湯熱負荷 $L'_{b1}$および浴槽自動湯張り時における節湯補正給湯熱負荷$L'_{b2}$は浴室等の有無及びふろ機能の種類（「給湯単機能」、「ふろ給湯機（追焚なし）」及び「ふろ給湯機（追焚あり）」）に応じて、下式により表される。"
   ]
  },
  {
   "cell_type": "markdown",
   "metadata": {},
   "source": [
    "浴室等が無い場合（ふろ機能の種類によらない）、"
   ]
  },
  {
   "cell_type": "markdown",
   "metadata": {},
   "source": [
    "$$\n",
    "\\displaystyle L'_{b1} = 0.0\n",
    "$$"
   ]
  },
  {
   "cell_type": "markdown",
   "metadata": {
    "collapsed": true
   },
   "source": [
    "$$\n",
    "\\displaystyle L'_{b2} = 0.0\n",
    "$$"
   ]
  },
  {
   "cell_type": "markdown",
   "metadata": {},
   "source": [
    "浴室等が有り、ふろ機能の種類が給湯単機能の場合、"
   ]
  },
  {
   "cell_type": "markdown",
   "metadata": {},
   "source": [
    "$$\n",
    "\\displaystyle L'_{b1} = W'_{b1} \\times ( \\theta_{sw,b1} - \\theta_{wtr} ) \\times 4.186 \\times 10^{-3}\n",
    "$$"
   ]
  },
  {
   "cell_type": "markdown",
   "metadata": {},
   "source": [
    "$$\n",
    "\\displaystyle L'_{b2} = 0.0\n",
    "$$"
   ]
  },
  {
   "cell_type": "markdown",
   "metadata": {},
   "source": [
    "浴室等が有り、ふろ機能の種類がふろ給湯機（追焚の有無によらない）の場合、"
   ]
  },
  {
   "cell_type": "markdown",
   "metadata": {},
   "source": [
    "$$\n",
    "\\displaystyle L'_{b1} = 0.0\n",
    "$$"
   ]
  },
  {
   "cell_type": "markdown",
   "metadata": {},
   "source": [
    "$$\n",
    "\\displaystyle L'_{b2} = W'_{b2} \\times ( \\theta_{sw,b2} - \\theta_{wtr} ) \\times 4.186 \\times 10^{-3}\n",
    "$$"
   ]
  },
  {
   "cell_type": "code",
   "execution_count": 38,
   "metadata": {
    "collapsed": true
   },
   "outputs": [],
   "source": [
    "def L_dash_k(W_dash_k, theta_sw, theta_wtr):\n",
    "    L_dash_k = W_dash_k * (theta_sw_k - theta_wtr) * 4.186 * 10**(-3)\n",
    "    return L_dash_k"
   ]
  },
  {
   "cell_type": "code",
   "execution_count": 39,
   "metadata": {
    "collapsed": true
   },
   "outputs": [],
   "source": [
    "def L_dash_s(W_dash_s, theta_sw_s, theta_wtr):\n",
    "    L_dash_s = W_dash_s * (theta_sw_s - theta_wtr) * 4.186 * 10**(-3)\n",
    "    return L_dash_s"
   ]
  },
  {
   "cell_type": "code",
   "execution_count": 40,
   "metadata": {
    "collapsed": true
   },
   "outputs": [],
   "source": [
    "def L_dash_w(W_dash_w, theta_sw_w, theta_wtr):\n",
    "    L_dash_w = W_dash_w * (theta_sw_w - theta_wtr) * 4.186 * 10**(-3)\n",
    "    return L_dash_w"
   ]
  },
  {
   "cell_type": "code",
   "execution_count": 87,
   "metadata": {
    "collapsed": true
   },
   "outputs": [],
   "source": [
    "def L_dash_b(input_bath, W_dash_b1, theta_sw_b1, theta_wtr, W_dash_b2, theta_sw_b2):\n",
    "    if input_bath == \"no_bath\":\n",
    "        L_dash_b1 = 0.0\n",
    "        L_dash_b2 = 0.0\n",
    "        return L_dash_b1, L_dash_b2\n",
    "    if input_bath == \"bath_and_no_oidaki\":\n",
    "        L_dash_b1 = W_dash_b1 * (theta_sw_b1 - theta_wtr) * 4.186 * 10**(-3)\n",
    "        L_dash_b2 = 0.0\n",
    "        return L_dash_b1, L_dash_b2\n",
    "    if input_bath == \"bath_and_oidaki\":\n",
    "        L_dash_b1 = 0.0\n",
    "        L_dash_b2 = W_dash_b2 * (theta_sw_b2 - theta_wtr) * 4.186 * 10**(-3)\n",
    "        return L_dash_b1, L_dash_b2\n",
    "    "
   ]
  },
  {
   "cell_type": "markdown",
   "metadata": {},
   "source": [
    "#### Example"
   ]
  },
  {
   "cell_type": "code",
   "execution_count": 41,
   "metadata": {},
   "outputs": [
    {
     "data": {
      "text/plain": [
       "0.016744"
      ]
     },
     "execution_count": 41,
     "metadata": {},
     "output_type": "execute_result"
    }
   ],
   "source": [
    "L_dash_w(W_dash_w = 1, theta_sw_w=5, theta_wtr = 1)"
   ]
  },
  {
   "cell_type": "markdown",
   "metadata": {},
   "source": [
    "一日当たりの浴槽水栓差し湯時における説湯補正給湯熱負荷$L'_{ba1}$および一日当たりの浴槽自動湯はり時における節湯補正給湯熱負荷$L'_{b2}$は、浴室等の有無及びふろ機能の種類（「給湯単機能」、「ふろ給湯機（追焚なし）」及び「ふろ給湯機（追焚あり）」に応じて、下式により表される。"
   ]
  },
  {
   "cell_type": "markdown",
   "metadata": {},
   "source": [
    "浴室等が無い場合、"
   ]
  },
  {
   "cell_type": "markdown",
   "metadata": {},
   "source": [
    "$$\n",
    "\\displaystyle L'_{ba1} = 0.0\n",
    "$$"
   ]
  },
  {
   "cell_type": "markdown",
   "metadata": {},
   "source": [
    "$$\n",
    "\\displaystyle L'_{ba2} = 0.0\n",
    "$$"
   ]
  },
  {
   "cell_type": "markdown",
   "metadata": {},
   "source": [
    "浴室等が有り、ふろ機能の種類が給湯単機能またはふろ給湯機（追焚なし）の場合、"
   ]
  },
  {
   "cell_type": "markdown",
   "metadata": {},
   "source": [
    "$$\n",
    "\\displaystyle L'_{ba1} = W'_{ba1} \\times ( \\theta_{sw,ba1} - \\theta_{wtr} ) \\times 4.186 \\times 10^{-3}\n",
    "$$"
   ]
  },
  {
   "cell_type": "markdown",
   "metadata": {},
   "source": [
    "$$\n",
    "\\displaystyle L'_{ba2} = 0.0\n",
    "$$"
   ]
  },
  {
   "cell_type": "markdown",
   "metadata": {},
   "source": [
    "浴室等が有り、ふろ機能の種類がふろ給湯機（追焚あり）の場合、"
   ]
  },
  {
   "cell_type": "markdown",
   "metadata": {},
   "source": [
    "$$\n",
    "\\displaystyle L'_{ba1} = 0.0\n",
    "$$"
   ]
  },
  {
   "cell_type": "markdown",
   "metadata": {},
   "source": [
    "$$\n",
    "\\displaystyle L'_{ba2} = L_{ba} \\times 1.25\n",
    "$$"
   ]
  },
  {
   "cell_type": "markdown",
   "metadata": {},
   "source": [
    "Where  \n",
    "$ L'_{k} $ is the daily hot water supply load corrected for hot water saving by the kitchen. / 1日当たりの台所水栓における節湯補正給湯熱負荷(MJ/day)  \n",
    "$ L'_{s} $ is the daily hot water supply load corrected for hot water saving by the shower. / 1日当たりの浴室シャワー水栓における節湯補正給湯熱負荷(MJ/day)  \n",
    "$ L'_{w} $ is the daily hot water supply load corrected for hot water saving by the washroom. / 1日当たりの洗面水栓における節湯補正給湯熱負荷(MJ/day)  \n",
    "$ L'_{b1} $ is the daily hot water supply load corrected for hot water saving by filling the bathtub manually. / 1日当たりの浴槽水栓湯はり時における節湯補正給湯熱負荷(MJ/day)  \n",
    "$ L'_{b2} $ is the daily hot water supply load corrected for hot water saving by filling the bathtub automattically. / 1日当たりの浴槽自動湯はり時における節湯補正給湯熱負荷(MJ/day)  \n",
    "$ L'_{ba1} $ is the daily hot water supply load corrected for hot water saving by addition of hot water to bathtub. / 1日当たりの浴槽水栓さし湯時における節湯補正給湯熱負荷(MJ/day)  \n",
    "$ L'_{ba2} $ is the daily hot water supply load corrected for hot water saving by rewarming. / 1日当たりの浴槽追焚時における節湯補正給湯熱負荷(MJ/day)  \n",
    "$ W'_{k} $ is the daily hot water supply amount corrected for hot water saving by the kitchen. / 1日当たりの台所水栓における節湯補正給湯量(L/day)  \n",
    "$ W'_{s} $ is the daily hot water supply amount corrected for hot water saving by the shower. / 1日当たりの浴室シャワー水栓における節湯補正給湯量(L/day)  \n",
    "$ W'_{w} $ is the daily hot water supply amount corrected for hot water saving by the washroom. / 1日当たりの洗面水栓における節湯補正給湯量(L/day)  \n",
    "$ W'_{b1} $ is the daily hot water supply amount corrected for hot water saving by filling the bathtub manually. / 1日当たりの浴槽水栓湯はり時における節湯補正給湯量(L/day)  \n",
    "$ W'_{b2} $ is the daily hot water supply amount corrected for hot water saving by filling the bathtub automattically. / 1日当たりの浴槽自動湯はり時における節湯補正給湯量(L/day)  \n",
    "$ W'_{ba1} $ is the daily hot water supply amount corrected for hot water saving by addition of hot water to bathtub. / 1日当たりの浴槽水栓さし湯時における節湯補正給湯量(L/day)  \n",
    "$ L'_{ba} $ is the daily hot water supply heat load by boiling the bathtub. / 1日当たりの浴槽沸かし直しによる給湯熱負荷(MJ/day)  \n",
    "$ \\theta_{sw,k} $ is the reference hot water supply temperature by the kitchen. / 台所水栓における基準給湯温度(℃)  \n",
    "$ \\theta_{sw,s} $ is the reference hot water supply temperature by the shower. / 浴室シャワー水栓における基準給湯温度(℃)  \n",
    "$ \\theta_{sw,w} $ is the reference hot water supply temperature by the washroom. / 洗面水栓における基準給湯温度(℃)  \n",
    "$ \\theta_{sw,b1} $ is the reference hot water supply temperature by filling the bathtub manually. / 浴槽水栓湯はり時における基準給湯温度(℃)  \n",
    "$ \\theta_{sw,b2} $ is the reference hot water supply temperature by filling the bathtub automattically. / 浴槽自動湯はり時における基準給湯温度(℃)  \n",
    "$ \\theta_{sw,ba1} $ is the reference hot water supply temperature by addition of hot water to bathtub. / 浴槽水栓さし湯時における基準給湯温度(℃)  \n",
    "$ \\theta_{wtr} $ is the daily average feed water temperature. / 日平均給水温度(℃)  "
   ]
  },
  {
   "cell_type": "markdown",
   "metadata": {},
   "source": [
    "#### <center>表5　用途ごとの基準給湯温度</center>\n",
    "\n",
    "| 用途 | 記号 | 基準給湯温度 |\n",
    "| ----- | ---- | ---- |\n",
    "| 台所水栓 | $\\theta_{sw,k}$ | 40 |\n",
    "|浴室シャワー水栓|$\\theta_{sw,s}$|40|\n",
    "|洗面水栓|$\\theta_{sw_w}$|40|\n",
    "|浴槽水栓湯はり|$\\theta_{sw,b1}$|40|\n",
    "|浴槽自動湯はり|$\\theta_{sw,b1}$|40|\n",
    "|浴槽水栓さし湯|$\\theta_{sw,ba1}$|60|\n"
   ]
  },
  {
   "cell_type": "code",
   "execution_count": 89,
   "metadata": {
    "collapsed": true
   },
   "outputs": [],
   "source": [
    "def L_dash_ba(input_bath, W_dash_b1, theta_sw_b1, theta_wtr, W_dash_b2, theta_sw_b2):\n",
    "    if input_bath == \"no_bath\":\n",
    "        L_dash_ba1 = 0.0\n",
    "        L_dash_ba2 = 0.0\n",
    "        return L_dash_b1, L_dash_b2\n",
    "    if input_bath == \"bath_and_no_oidaki\":\n",
    "        L_dash_ba1 = W_dash_ba1 * (theta_sw_ba1 - theta_wtr) * 4.186 * 10**(-3)\n",
    "        L_dash_ba2 = 0.0\n",
    "        return L_dash_ba1, L_dashba2\n",
    "    if input_bath == \"bath_and_oidaki\":\n",
    "        L_dash_ba1 = 0.0\n",
    "        L_dash_ba2 = L_ba * 1.25\n",
    "        return L_dash_ba1, L_dash_ba2\n",
    "    "
   ]
  },
  {
   "cell_type": "markdown",
   "metadata": {},
   "source": [
    "## 9.節湯補正給湯量"
   ]
  },
  {
   "cell_type": "markdown",
   "metadata": {},
   "source": [
    "1日当たりの各用途の節湯補正給湯量は下式により表される。"
   ]
  },
  {
   "cell_type": "markdown",
   "metadata": {},
   "source": [
    "$$\n",
    "\\displaystyle W'_k = W_k \\times f_{sk} \\times f_{sp}\n",
    "$$"
   ]
  },
  {
   "cell_type": "markdown",
   "metadata": {},
   "source": [
    "$$\n",
    "\\displaystyle W'_s = W_s \\times f_{ss} \\times f_{sp}\n",
    "$$"
   ]
  },
  {
   "cell_type": "markdown",
   "metadata": {},
   "source": [
    "$$\n",
    "\\displaystyle W'_w = W_w \\times f_{sw} \\times f_{sp}\n",
    "$$"
   ]
  },
  {
   "cell_type": "markdown",
   "metadata": {},
   "source": [
    "$$\n",
    "\\displaystyle W'_{b1} = W_{b1} \\times f_{sp} \\times f_{sb}\n",
    "$$"
   ]
  },
  {
   "cell_type": "markdown",
   "metadata": {},
   "source": [
    "$$\n",
    "\\displaystyle W'_{b2} = W_{b2} \\times f_{sb}\n",
    "$$"
   ]
  },
  {
   "cell_type": "markdown",
   "metadata": {},
   "source": [
    "$$\n",
    "\\displaystyle W'_{ba1} = W_{ba1} \\times f_{sp}\n",
    "$$"
   ]
  },
  {
   "cell_type": "markdown",
   "metadata": {},
   "source": [
    "Where  \n",
    "$ \\displaystyle W'_k $ is the daily hot water supply amount corrected for hot water saving by the kitchen./ 1 日当たりの台所水栓における節湯補正給湯量(L/day)  \n",
    "$ \\displaystyle W'_s $ is the daily hot water supply amount corrected for hot water saving by the shower./ 1 日当たりの浴室シャワー水栓における節湯補正給湯量(L/day)  \n",
    "$ \\displaystyle W'_w $ is the daily hot water supply amount corrected for hot water saving by the washroom./ 1 日当たりの洗面水栓における節湯補正給湯量(L/day)  \n",
    "$ \\displaystyle W'_{b1} $ is the daily hot water supply amount corrected for hot water saving by filling the bathtub manually./ 1 日当たりの浴槽水栓湯はり時における節湯補正給湯量(L/day)  \n",
    "$ \\displaystyle W'_{b2} $ is the daily hot water supply amount corrected for hot water saving by filling the bathtub automatically./ 1 日当たりの浴槽自動湯はり時における節湯補正給湯量(L/day)  \n",
    "$ \\displaystyle W'_{ba1} $ is the daily hot water supply amount corrected for hot water saving by addition of hot water to bathtub./ 1 日当たりの浴槽水栓さし湯時における節湯補正給湯量(L/day)  \n",
    "$ \\displaystyle W_k $ is the daily reference hot water supply amount by the kitchen./ 1 日当たりの台所水栓における基準給湯量(L/day)  \n",
    "$ \\displaystyle W_s $ is the daily reference hot water supply amount by the shower./ 1 日当たりの浴室シャワー水栓における基準給湯量(L/day)  \n",
    "$ \\displaystyle W_w $ is the daily reference hot water supply amount by the washroom./ 1 日当たりの洗面水栓における基準給湯量(L/day)  \n",
    "$ \\displaystyle W_{b1} $ is the daily reference hot water supply amount by filling the bathtub manually./ 1 日当たりの浴槽水栓湯はり時における基準給湯量(L/day)  \n",
    "$ \\displaystyle W_{b2} $ is the daily reference hot water supply amount by filling the bathtub automatically./ 1 日当たりの浴槽自動湯はり時における基準給湯量(L/day)  \n",
    "$ \\displaystyle W_{ba1} $ is the daily reference hot water supply amount by addition of hot water to bathtub./ 1 日当たりの浴槽水栓さし湯時における基準給湯量(L/day)  \n",
    "$ \\displaystyle f_{sk} $ is the effect factor of the hot water by the kitchen./ 台所水栓における節湯の効果係数  \n",
    "$ \\displaystyle f_{ss} $ is the effect factor of the hot water by the shower./ 浴室シャワー水栓における節湯の効果係数  \n",
    "$ \\displaystyle f_{sw} $ is the effect factor of the hot water by the washroom./ 洗面水栓における節湯の効果係数  \n",
    "$ \\displaystyle f_{sp} $ is the effect factor of the hot water by the ductwork./ 配管における節湯の効果係数  \n",
    "$ \\displaystyle f_{sb} $ is the effect factor of the hot water by the bathtub ./ 浴槽における節湯の効果係数  "
   ]
  },
  {
   "cell_type": "markdown",
   "metadata": {},
   "source": [
    "節湯の効果係数݂$ \\displaystyle f_{sk} $、݂$ \\displaystyle f_{ss} $、݂$ \\displaystyle f_{sw} $及び݂$ \\displaystyle f_{sp} $の値については、付録 J により定める。"
   ]
  },
  {
   "cell_type": "code",
   "execution_count": 49,
   "metadata": {
    "collapsed": true
   },
   "outputs": [],
   "source": [
    "def W_dash_k(W_k, f_sk, f_sp):\n",
    "    W_dash_k = W_k * f_sk * f_sp\n",
    "    return W_dash_k"
   ]
  },
  {
   "cell_type": "code",
   "execution_count": 50,
   "metadata": {
    "collapsed": true
   },
   "outputs": [],
   "source": [
    "def W_dash_s(W_s, f_sk, f_sp):\n",
    "    W_dash_s = W_s * f_ss * f_sp\n",
    "    return W_dash_s"
   ]
  },
  {
   "cell_type": "code",
   "execution_count": 51,
   "metadata": {
    "collapsed": true
   },
   "outputs": [],
   "source": [
    "def W_dash_w(W_w, f_sw, f_sp):\n",
    "    W_dash_w = W_w * f_sw * f_sp\n",
    "    return W_dash_w"
   ]
  },
  {
   "cell_type": "code",
   "execution_count": 52,
   "metadata": {
    "collapsed": true
   },
   "outputs": [],
   "source": [
    "def W_dash_b1(W_b1, f_sp, f_sb):\n",
    "    W_dash_b1 = W_b1 * f_sp * f_sb    \n",
    "    return W_dash_b1"
   ]
  },
  {
   "cell_type": "code",
   "execution_count": 46,
   "metadata": {
    "collapsed": true
   },
   "outputs": [],
   "source": [
    "def W_dash_b2(W_b2, f_sb):\n",
    "    W_dash_b2 = W_b2 * f_sb\n",
    "    return W_dash_b2"
   ]
  },
  {
   "cell_type": "code",
   "execution_count": 47,
   "metadata": {
    "collapsed": true
   },
   "outputs": [],
   "source": [
    "def W_dash_ba1(W_ba1, f_sp):\n",
    "    W_dash_ba1 = W_ba1 * f_sp\n",
    "    return W_dash_ba1"
   ]
  },
  {
   "cell_type": "markdown",
   "metadata": {},
   "source": [
    "## 10.基準給湯量"
   ]
  },
  {
   "cell_type": "markdown",
   "metadata": {},
   "source": [
    "1日当たりの用途$u$の基準給湯量は下式により表される。"
   ]
  },
  {
   "cell_type": "markdown",
   "metadata": {},
   "source": [
    "$$\n",
    "\\displaystyle\n",
    "W_k = \\left\\{ \\begin{array}{ll}\n",
    "    W_{k,p}|_{p=1} \\times \\frac{2 - n_p}{2 - 1} + W_{k,p}|_{p=2} \\times \\frac{n_p - 1}{2 - 1} & (1 \\leq n_p < 2)\\\\ \n",
    "    W_{k,p}|_{p=2} \\times \\frac{3 - n_p}{3 - 2} + W_{k,p}|_{p=3} \\times \\frac{n_p - 2}{3 - 2} & (2 \\leq n_p < 3)\\\\ \n",
    "    W_{k,p}|_{p=3} \\times \\frac{4 - n_p}{4 - 3} + W_{k,p}|_{p=4} \\times \\frac{n_p - 3}{4 - 3} & (3 \\leq n_p \\leq 4)\\\\ \n",
    "    \\end{array}\n",
    "\\right.\n",
    "$$"
   ]
  },
  {
   "cell_type": "markdown",
   "metadata": {},
   "source": [
    "$$\n",
    "\\displaystyle\n",
    "W_s = \\left\\{ \\begin{array}{ll}\n",
    "    W_{s,p}|_{p=1} \\times \\frac{2 - n_p}{2 - 1} + W_{s,p}|_{p=2} \\times \\frac{n_p - 1}{2 - 1} & (1 \\leq n_p < 2)\\\\ \n",
    "    W_{s,p}|_{p=2} \\times \\frac{3 - n_p}{3 - 2} + W_{s,p}|_{p=3} \\times \\frac{n_p - 2}{3 - 2} & (2 \\leq n_p < 3)\\\\ \n",
    "    W_{s,p}|_{p=3} \\times \\frac{4 - n_p}{4 - 3} + W_{s,p}|_{p=4} \\times \\frac{n_p - 3}{4 - 3} & (3 \\leq n_p \\leq 4)\\\\ \n",
    "    \\end{array}\n",
    "\\right.\n",
    "$$"
   ]
  },
  {
   "cell_type": "markdown",
   "metadata": {},
   "source": [
    "$$\n",
    "\\displaystyle\n",
    "W_w = \\left\\{ \\begin{array}{ll}\n",
    "    W_{w,p}|_{p=1} \\times \\frac{2 - n_p}{2 - 1} + W_{w,p}|_{p=2} \\times \\frac{n_p - 1}{2 - 1} & (1 \\leq n_p < 2)\\\\ \n",
    "    W_{w,p}|_{p=2} \\times \\frac{3 - n_p}{3 - 2} + W_{w,p}|_{p=3} \\times \\frac{n_p - 2}{3 - 2} & (2 \\leq n_p < 3)\\\\ \n",
    "    W_{w,p}|_{p=3} \\times \\frac{4 - n_p}{4 - 3} + W_{w,p}|_{p=4} \\times \\frac{n_p - 3}{4 - 3} & (3 \\leq n_p \\leq 4)\\\\ \n",
    "    \\end{array}\n",
    "\\right.\n",
    "$$"
   ]
  },
  {
   "cell_type": "markdown",
   "metadata": {},
   "source": [
    "Where  \n",
    "$ \\displaystyle W_{k} $ is the daily reference hot water supply amount by the kitchen./ 1 日当たりの台所水栓における基準給湯量(L/day)  \n",
    "$ \\displaystyle W_{k,p} $ is the daily reference hot water supply amount by the kitchen for residents of $p$./ 1 日当たりの居住人数が$p$人における台所水栓における基準給湯量(L/day)  \n",
    "$ \\displaystyle W_{s} $ is the daily reference hot water supply amount by the shower./ 1 日当たりの浴室シャワー水栓における基準給湯量(L/day)  \n",
    "$ \\displaystyle W_{s,p} $ is the daily reference hot water supply amount by the shower for residents of $p$./ 1 日当たりの居住人数が$p$人における浴室シャワー水栓における基準給湯量(L/day)  \n",
    "$ \\displaystyle W_{w} $ is the daily reference hot water supply amount by the washroom./ 1 日当たりの洗面水栓における基準給湯量(L/day)  \n",
    "$ \\displaystyle W_{w,p} $ is the daily reference hot water supply amount by the washroom for residents of $p$./ 1 日当たりの居住人数が$p$人における洗面水栓における基準給湯量(L/day)  \n",
    "$ \\displaystyle n_p $ is the virtual resident number./ 仮想居住人数"
   ]
  },
  {
   "cell_type": "markdown",
   "metadata": {},
   "source": [
    "1日当たりの居住人数が$p$人における台所水栓における基準給湯量ܹ$ \\displaystyle W_{k,p} $、1日当たりの居住人数が$p$人における浴室シャワー水栓における基準給湯量ܹ$ \\displaystyle W_{s,p} $及び 1日当たりの洗面水栓における居住人数が$p$人における基準給湯量ܹ$ \\displaystyle W_{w,p} $は、第十一章「その他」第三節「生活スケジュール」により定まる生活スケジュール及び居住人数に依存し、表 6 により定まる。  \n",
    "1日当たりの浴槽水栓湯はり時における基準給湯量ܹ$ \\displaystyle W_{b1} $はふろ機能の種類が給湯単機能の場合のみに発生し、1日当たりの浴槽自動湯はり時における基準給湯量ܹ$ \\displaystyle W_{b2} $はふろ機能の種類がふろ給湯機（追焚なし）又はふろ給湯機（追焚あり）の場合に発生し、いずれの場合も1日当たりの浴槽湯はり時における基準給湯量ܹ$ \\displaystyle W_{b} $に等しいとする。 "
   ]
  },
  {
   "cell_type": "markdown",
   "metadata": {},
   "source": [
    " 1 日当たりの浴槽湯はり時における基準給湯量ܹ$ \\displaystyle W_{b} $は、下式により表される。 "
   ]
  },
  {
   "cell_type": "markdown",
   "metadata": {},
   "source": [
    "$$\n",
    "\\displaystyle\n",
    "W_b = \\left\\{ \\begin{array}{ll}\n",
    "    W_{b,p}|_{p=1} \\times \\frac{2 - n_p}{2 - 1} + W_{b,p}|_{p=2} \\times \\frac{n_p - 1}{2 - 1} & (1 \\leq n_p < 2)\\\\ \n",
    "    W_{b,p}|_{p=2} \\times \\frac{3 - n_p}{3 - 2} + W_{b,p}|_{p=3} \\times \\frac{n_p - 2}{3 - 2} & (2 \\leq n_p < 3)\\\\ \n",
    "    W_{b,p}|_{p=3} \\times \\frac{4 - n_p}{4 - 3} + W_{b,p}|_{p=4} \\times \\frac{n_p - 3}{4 - 3} & (3 \\leq n_p \\leq 4)\\\\ \n",
    "    \\end{array}\n",
    "\\right.\n",
    "$$"
   ]
  },
  {
   "cell_type": "markdown",
   "metadata": {},
   "source": [
    "Where  \n",
    "$ \\displaystyle W_{b} $ is the daily reference hot water supply amount by filling the bathtub./ 1 日当たりの浴槽湯はり時における基準給湯量(L/day)  \n",
    "$ \\displaystyle W_{b,p} $ is the daily reference hot water supply amount by filling the bathtub for residents of $p$./ 1 日当たりの居住人数が$p$人における浴槽湯はり時における基準給湯量(L/day)  \n",
    "$ \\displaystyle n_p $ is the virtual resident number./ 仮想居住人数"
   ]
  },
  {
   "cell_type": "markdown",
   "metadata": {},
   "source": [
    "1 日当たりの居住人数が$p$人における浴槽湯はり時における基準給湯量ܹ$ \\displaystyle W_{b,p} $は、第十一章「その他」第三節「生活スケジュール」により定まる生活スケジュール及び居住人数に依存し、表 6 により定まる。 "
   ]
  },
  {
   "cell_type": "code",
   "execution_count": 49,
   "metadata": {
    "collapsed": true
   },
   "outputs": [],
   "source": [
    "def get_W_k(W_k_p, W_k_p_plus1, n_p):\n",
    "    if n_p < 1:\n",
    "        raise Exception('Number of person should not be less than 1 person.')\n",
    "    elif n_p == 1:\n",
    "        return W_k_p\n",
    "    elif 1 < n_p < 2:\n",
    "        return W_k_p * (2 - n_p) / (2 - 1) + W_k_p_plus1  * (n_p - 1) / (2 - 1)\n",
    "    elif  2 <= n_p < 3:\n",
    "        return W_k_p * (3 - n_p) / (3 - 2) + W_k_p_plus1  * (n_p - 2) / (3 - 2)\n",
    "    elif  3 <= n_p < 4:\n",
    "        return W_k_p * (4 - n_p) / (4 - 3) + W_k_p_plus1  * (n_p - 3) / (4 - 3)\n",
    "    elif n_p == 4:\n",
    "        return W_k_p_plus1\n",
    "    else:\n",
    "        raise Exception('Number of person should not be over 4 persons.')"
   ]
  },
  {
   "cell_type": "code",
   "execution_count": 50,
   "metadata": {
    "collapsed": true
   },
   "outputs": [],
   "source": [
    "def get_W_s(W_s_p, W_s_p_plus1, n_p):\n",
    "    if n_p < 1:\n",
    "        raise Exception('Number of person should not be less than 1 person.')\n",
    "    elif n_p == 1:\n",
    "        return W_s_p\n",
    "    elif 1 < n_p < 2:\n",
    "        return W_s_p * (2 - n_p) / (2 - 1) + W_s_p_plus1  * (n_p - 1) / (2 - 1)\n",
    "    elif  2 <= n_p < 3:\n",
    "        return W_s_p * (3 - n_p) / (3 - 2) + W_s_p_plus1  * (n_p - 2) / (3 - 2)\n",
    "    elif  3 <= n_p < 4:\n",
    "        return W_s_p * (4 - n_p) / (4 - 3) + W_s_p_plus1  * (n_p - 3) / (4 - 3)\n",
    "    elif n_p == 4:\n",
    "        return W_s_p_plus1\n",
    "    else:\n",
    "        raise Exception('Number of person should not be over 4 persons.')"
   ]
  },
  {
   "cell_type": "code",
   "execution_count": 51,
   "metadata": {
    "collapsed": true
   },
   "outputs": [],
   "source": [
    "def get_W_w(W_w_p, W_w_p_plus1, n_p):\n",
    "    if n_p < 1:\n",
    "        raise Exception('Number of person should not be less than 1 person.')\n",
    "    elif n_p == 1:\n",
    "        return W_w_p\n",
    "    elif 1 < n_p < 2:\n",
    "        return W_w_p * (2 - n_p) / (2 - 1) + W_w_p_plus1  * (n_p - 1) / (2 - 1)\n",
    "    elif  2 <= n_p < 3:\n",
    "        return W_w_p * (3 -\n"
   ]
  },
  {
   "cell_type": "markdown",
   "metadata": {},
   "source": [
    "#### <center>表6a  居住人数4人における基準給湯量(L/日)</center>\n",
    "\n",
    "|生活スケジュール|台所水栓|浴室シャワー水栓<br>浴室等が有る場合|浴室シャワー水栓<br>浴室等が無い場合|洗面水栓|浴槽湯はり<br>浴室等がある場合|浴槽湯はり<br>浴室等がない場合|\n",
    "|-|-|-|-|-|-|\n",
    "|休日在宅(大)|184|240|0|46|180|0|\n",
    "|休日在宅(小)|140|200|0|30|180|0|\n",
    "|　平日　(大)|136|200|0|34|180|0|\n",
    "|　平日　(中)|92 |150|0|28|180|0|\n",
    "|　平日　(小)|62 |100|0| 8|180|0|\n",
    "|休日外出　　|32 |190|0|28|  0|0|\n"
   ]
  },
  {
   "cell_type": "markdown",
   "metadata": {},
   "source": [
    "#### <center>表6b  居住人数3人における基準給湯量(L/日)</center>\n",
    "\n",
    "|生活スケジュール|台所水栓|浴室シャワー水栓<br>浴室等が有る場合|浴室シャワー水栓<br>浴室等が無い場合|洗面水栓|浴槽湯はり<br>浴室等がある場合|浴槽湯はり<br>浴室等がない場合|\n",
    "|-|-|-|-|-|-|\n",
    "|休日在宅(大)|164|210|0|46|180|0|\n",
    "|休日在宅(小)|136|160|0|24|180|0|\n",
    "|　平日　(大)|132|160|0|28|180|0|\n",
    "|　平日　(中)| 88|110|0|22|180|0|\n",
    "|　平日　(小)| 48|60 |0|12|180|0|\n",
    "|休日外出　　| 58|110|0|32|  0|0|\n",
    "\n"
   ]
  },
  {
   "cell_type": "markdown",
   "metadata": {},
   "source": [
    "#### <center>表6c  居住人数2人における基準給湯量(L/日)</center>\n",
    "\n",
    "|生活スケジュール|台所水栓|浴室シャワー水栓<br>浴室等が有る場合|浴室シャワー水栓<br>浴室等が無い場合|洗面水栓|浴槽湯はり<br>浴室等がある場合|浴槽湯はり<br>浴室等がない場合|\n",
    "|-|-|-|-|-|-|\n",
    "|休日在宅(大)|128|130|0|32|180|0|\n",
    "|休日在宅(小)| 96| 70|0|24|180|0|\n",
    "|　平日　(大)| 96| 70|0|24|180|0|\n",
    "|　平日　(中)| 44| 30|0|16|180|0|\n",
    "|　平日　(小)| 44|110|0|16|  0|0|\n",
    "|休日外出　　| 38| 20|0|12|  0|0|\n",
    "\n"
   ]
  },
  {
   "cell_type": "markdown",
   "metadata": {},
   "source": [
    "#### <center>表6d  居住人数1人における基準給湯量(L/日)</center>\n",
    "\n",
    "|生活スケジュール|台所水栓|浴室シャワー水栓<br>浴室等が有る場合|浴室シャワー水栓<br>浴室等が無い場合|洗面水栓|浴槽湯はり<br>浴室等がある場合|浴槽湯はり<br>浴室等がない場合|\n",
    "|-|-|-|-|-|-|\n",
    "|休日在宅(大)|28|80|0|32|180|0|\n",
    "|休日在宅(小)|26|20|0|24|180|0|\n",
    "|　平日　(大)|26|20|0|24|180|0|\n",
    "|　平日　(中)|56|90|0|36|  0|0|\n",
    "|　平日　(小)|34|60|0|16|  0|0|\n",
    "|休日外出　　| 8|20|0|12|  0|0|\n",
    "\n"
   ]
  },
  {
   "cell_type": "markdown",
   "metadata": {},
   "source": [
    "1日当たりの浴槽水栓さし湯時における基準給湯量$W_{ba1}$は、ふろ機能の種類が給湯単機能又はふろ給湯機（追焚なし）の場合のみに発生し、下式により表される。"
   ]
  },
  {
   "cell_type": "markdown",
   "metadata": {},
   "source": [
    "$$\n",
    "\\displaystyle W_{ba1} = L_{ba} \\times \\frac{1}{(\\theta_{sw,ba1} - \\theta_{wtr})} \\times \\frac{1}{4.186} \\times 10^3\n",
    "$$"
   ]
  },
  {
   "cell_type": "markdown",
   "metadata": {},
   "source": [
    "Where  \n",
    "$ \\displaystyle W_{ba1} $ is the daily reference hot water supply amount by addition of hot water to bathtub. / 1 日当たりの浴槽水栓さし湯時における基準給湯量(L/day)  \n",
    "$ \\displaystyle L_{ba} $ is the daily hot water supply heat load by boiling the bathtub. / 1 日当たりの浴槽沸かし直しによる給湯熱負荷(MJ/day)  \n",
    "$ \\theta_{sw,ba1} $ is the reference hot water supply temperature by addition of hot water to bathtub. / 浴槽水栓さし湯時における基準給湯温度(℃)  \n",
    "$ \\theta_{wtr} $ is the daily average feed-water temperature. / 日平均給水温度(℃)  "
   ]
  },
  {
   "cell_type": "markdown",
   "metadata": {},
   "source": [
    "浴槽水栓さし湯時における基準給湯温度$ \\theta_{sw,ba1} $は、表 5 から求める。"
   ]
  },
  {
   "cell_type": "code",
   "execution_count": 53,
   "metadata": {
    "collapsed": true
   },
   "outputs": [],
   "source": [
    "def W_ba1(L_ba, theta_sw_ba1, theta_wtr):\n",
    "    W_ba1 = L_ba * 1 / (theta_sw_ba1 - theta_wtr) * 1 / 4.186 * 10**3\n",
    "    return W_ba1"
   ]
  },
  {
   "cell_type": "markdown",
   "metadata": {},
   "source": [
    "## 浴槽沸かし直しによる給湯熱負荷"
   ]
  },
  {
   "cell_type": "markdown",
   "metadata": {},
   "source": [
    "1日当たりの浴槽沸かし直しによる給湯熱負荷$L_{ba}$は下式により表される。"
   ]
  },
  {
   "cell_type": "markdown",
   "metadata": {},
   "source": [
    "$$\n",
    "\\displaystyle\n",
    "L_{ba} = \\left\\{ \\begin{array}{ll}\n",
    "    L_{ba,p}|_{p=1} \\times \\frac{2 - n_p}{2 - 1} + L_{ba,p}|_{p=2} \\times \\frac{n_p - 1}{2 - 1} & (1 \\leq n_p < 2)\\\\ \n",
    "    L_{ba,p}|_{p=2} \\times \\frac{3 - n_p}{3 - 2} + L_{ba,p}|_{p=3} \\times \\frac{n_p - 2}{3 - 2} & (2 \\leq n_p < 3)\\\\ \n",
    "    L_{ba,p}|_{p=3} \\times \\frac{4 - n_p}{4 - 3} + L_{ba,p}|_{p=4} \\times \\frac{n_p - 3}{4 - 3} & (3 \\leq n_p \\leq 4)\\\\ \n",
    "    \\end{array}\n",
    "\\right.\n",
    "$$"
   ]
  },
  {
   "cell_type": "markdown",
   "metadata": {},
   "source": [
    "Where  \n",
    "$ \\displaystyle L_{ba} $ is the daily hot water supply heat load by boiling the bathtub. / 1日当たりの浴槽沸かし直しによる給湯熱負荷(MJ/day)  \n",
    "$ \\displaystyle L_{ba,p} $ is the daily hot water supply heat load by boiling the bathtub for residents of $p$./ 1 日当たりの居住人数が$p$人における浴槽沸かし直しによる給湯熱負荷(MJ/day)  \n",
    "$ \\displaystyle n_p $ is the virtual resident number./ 仮想居住人数"
   ]
  },
  {
   "cell_type": "code",
   "execution_count": 55,
   "metadata": {
    "collapsed": true
   },
   "outputs": [],
   "source": [
    "def get_L_ba(L_ba_p, L_ba_p_plus1, n_p):\n",
    "    if n_p < 1:\n",
    "        raise Exception('Number of person should not be less than 1 person.')\n",
    "    elif n_p == 1:\n",
    "        return L_ba_p\n",
    "    elif 1 < n_p < 2:\n",
    "        return L_ba_p * (2 - n_p) / (2 - 1) + L_ba_p_plus1  * (n_p - 1) / (2 - 1)\n",
    "    elif  2 <= n_p < 3:\n",
    "        return L_ba_p * (3 - n_p) / (3 - 2) + L_ba_p_plus1  * (n_p - 2) / (3 - 2)\n",
    "    elif  3 <= n_p < 4:\n",
    "        return L_ba_p * (4 - n_p) / (4 - 3) + L_ba_p_plus1  * (n_p - 3) / (4 - 3)\n",
    "    elif n_p == 4:\n",
    "        return L_ba_p_plus1\n",
    "    else:\n",
    "        raise Exception('Number of person should not be over 4 persons.')"
   ]
  },
  {
   "cell_type": "markdown",
   "metadata": {},
   "source": [
    "1日当たりの居住人数が$p$人における浴槽沸かし直しによる給湯熱負荷$L_{ba,p}$は下式により表される。"
   ]
  },
  {
   "cell_type": "markdown",
   "metadata": {},
   "source": [
    "$$\n",
    "\\displaystyle\n",
    "L_{ba,p} = \\left\\{ \\begin{array}{ll}\n",
    "    a_{ba,p} \\times \\theta_{ex,Ave} + b_{ba,p} & (W_{b,p} > 0)\\\\\n",
    "    0 & (W_{b,p} = 0)\\\\\n",
    "    \\end{array}\n",
    "\\right.\n",
    "$$"
   ]
  },
  {
   "cell_type": "markdown",
   "metadata": {},
   "source": [
    "Where  \n",
    "$ \\displaystyle L_{ba,p} $ is the daily hot water supply heat load by boiling the bathtub for residents of $p$./ 1 日当たりの居住人数が$p$人における浴槽沸かし直しによる給湯熱負荷(MJ/day)  \n",
    "$ \\displaystyle a_{ba,p}, b_{ba,p} $ is coefficient. / 係数  \n",
    "$ \\theta_{ex,Ave} $ is the daily average outside air temperature./ 日平均外気温度(℃)"
   ]
  },
  {
   "cell_type": "markdown",
   "metadata": {},
   "source": [
    "係数ܽ$ \\displaystyle a_{ba} $及びܾ$ \\displaystyle b_{ba} $は、日平均外気温度の条件及び浴槽の種類、居住人数により表 7 により定まる。"
   ]
  },
  {
   "cell_type": "markdown",
   "metadata": {},
   "source": [
    "<center>表7　係数$a_{ba}$及び$b_{ba}$の値</center>\n",
    "\n",
    "|日平均外気温度の条件|浴槽の種類|4人<br>$a_{ba}$|4人<br>$b_{ba}$|3人<br>$a_{ba}$|3人<br>$b_{ba}$|2人<br>$a_{ba}$|2人<br>$b_{ba}$|1人<br>$a_{ba}$|1人<br>$b_{ba}$|\n",
    "|-|-|-|-|-|-|-|-|-|-|\n",
    "|7℃未満|通常浴槽|-0.12|6|-0.1|4.91|-0.06|3.02|0|0|\n",
    "|7℃未満|高断熱浴槽|-0.07|3.98|-0.06|3.22|-0.04|2.01|0|0|\n",
    "|7℃以上かつ16℃未満|通常浴槽|-0.13|6.04|-0.1|4.93|-0.06|3.04|0|0|\n",
    "|7℃以上かつ16℃未満|高断熱浴槽|-0.08|4.02|-0.06|3.25|-0.04|2.03|0|0|\n",
    "|16℃以上かつ25℃未満|通常浴槽|-0.14|6.21|-0.11|5.07|-0.07|3.13|0|0|\n",
    "|16℃以上かつ25℃未満|高断熱浴槽|-0.09|4.19|-0.07|3.39|-0.04|2.12|0|0|\n",
    "|25℃以上|通常浴槽|-0.12|5.81|-0.1|4.77|-0.06|2.92|0|0|\n",
    "|25℃以上|高断熱浴槽|-0.07|3.8|-0.06|3.09|-0.04|1.92|0|0|\n"
   ]
  },
  {
   "cell_type": "code",
   "execution_count": 56,
   "metadata": {
    "collapsed": true
   },
   "outputs": [],
   "source": [
    "def get_L_ba_p(a_ba_p, theta_ex_Ave, b_ba_p, W_b_p):\n",
    "    if W_b_p > 0:\n",
    "        L_ba_p = a_ba_p * theta_ex_Ave + b_ba_p\n",
    "    elif W_b_p == 0:\n",
    "        L_ba_p = 0\n",
    "    else:\n",
    "        raise Exception('Hot water heat load should not be less than 0')\n",
    "    \n",
    "    return L_ba_p\n",
    "    "
   ]
  },
  {
   "cell_type": "markdown",
   "metadata": {},
   "source": [
    "#### Example"
   ]
  },
  {
   "cell_type": "code",
   "execution_count": 57,
   "metadata": {},
   "outputs": [
    {
     "data": {
      "text/plain": [
       "5"
      ]
     },
     "execution_count": 57,
     "metadata": {},
     "output_type": "execute_result"
    }
   ],
   "source": [
    "get_L_ba_p(1,2,3,2)"
   ]
  },
  {
   "cell_type": "markdown",
   "metadata": {},
   "source": [
    "## 12.日平均給水温度"
   ]
  },
  {
   "cell_type": "markdown",
   "metadata": {},
   "source": [
    "日平均給水温度$\\theta_{wtr}$は、外気温度に依存し、下式により表される。"
   ]
  },
  {
   "cell_type": "markdown",
   "metadata": {},
   "source": [
    "$$\n",
    "\\displaystyle \\theta_{wtr} = max(a_{wtr} \\times \\theta_{ex,prd,Ave} + b_{wtr}, 0.5)\n",
    "$$"
   ]
  },
  {
   "cell_type": "markdown",
   "metadata": {},
   "source": [
    "Where  \n",
    "$ \\theta_{wtr} $ is the daily average feed-water temperature. / 日平均給水温度(℃)  \n",
    "$ \\theta_{ex,prd,Ave} $ is the average outside air temperature within a time frame. / 期間平均外気温度(℃)  \n",
    "$ \\displaystyle a_{wtr}, b_{wtr} $ is regression coefficient when asking for the daily average feed-water temperature. / 日平均給水温度を求める際の回帰係数  "
   ]
  },
  {
   "cell_type": "markdown",
   "metadata": {},
   "source": [
    "日平均給水温度を求める際の回帰係数ܽ$ \\displaystyle a_{wtr} $及びܾ$ \\displaystyle b_{wtr} $は、告示に定める地域の区分に応じて表 8 により表される。 "
   ]
  },
  {
   "cell_type": "markdown",
   "metadata": {},
   "source": [
    "<center>表8　日平均給水温度を求める際の回帰係数の値</center>\n",
    "\n",
    "|地域の区分|$a_{wtr}$|$b_{wtr}$|\n",
    "|-|-|-|\n",
    "|1|0.6639|3.466|\n",
    "|2|0.6639|3.466|\n",
    "|3|0.6054|4.515|\n",
    "|4|0.6054|4.515|\n",
    "|5|0.8660|1.665|\n",
    "|6|0.8516|2.473|\n",
    "|7|0.9223|2.097|\n",
    "|8|0.6921|7.167|"
   ]
  },
  {
   "cell_type": "code",
   "execution_count": 19,
   "metadata": {
    "collapsed": true
   },
   "outputs": [],
   "source": [
    "a_wtr = {1:0.6639, 2:0.6639, 3:0.6054, 4:0.6054, 5:0.8660, 6:0.8516, 7:0.9223, 8:0.6921}\n",
    "b_wtr = {1:3.466,  2:3.466,  3:4.515,  4:4.515,  5:1.665,  6:2.473,  7:2.097,  8:7.167}\n",
    "\n",
    "def get_theta_wtr(theta_ex_prd_Ave, region):\n",
    "    return max(a_wtr[region] * theta_ex_prd_Ave + b_wtr[region], 0.5)"
   ]
  },
  {
   "cell_type": "markdown",
   "metadata": {},
   "source": [
    "#### Example"
   ]
  },
  {
   "cell_type": "code",
   "execution_count": 16,
   "metadata": {},
   "outputs": [
    {
     "name": "stdout",
     "output_type": "stream",
     "text": [
      "0.6054\n",
      "4.515\n"
     ]
    }
   ],
   "source": [
    "print(a_wtr[3])\n",
    "print(b_wtr[4])"
   ]
  },
  {
   "cell_type": "markdown",
   "metadata": {},
   "source": [
    "#### Example"
   ]
  },
  {
   "cell_type": "markdown",
   "metadata": {},
   "source": [
    "$ \\theta_{ex,prd,Ave} $ = 10  \n",
    "地域 = 6地域  "
   ]
  },
  {
   "cell_type": "code",
   "execution_count": 17,
   "metadata": {},
   "outputs": [
    {
     "data": {
      "text/plain": [
       "10.989"
      ]
     },
     "execution_count": 17,
     "metadata": {},
     "output_type": "execute_result"
    }
   ],
   "source": [
    "get_theta_wtr(10,6)"
   ]
  },
  {
   "cell_type": "code",
   "execution_count": 92,
   "metadata": {},
   "outputs": [
    {
     "data": {
      "text/plain": [
       "0.5"
      ]
     },
     "execution_count": 92,
     "metadata": {},
     "output_type": "execute_result"
    }
   ],
   "source": [
    "get_theta_wtr(-7, 2)"
   ]
  },
  {
   "cell_type": "markdown",
   "metadata": {},
   "source": [
    "$$\n",
    "\\displaystyle \\theta_{ex,prd,Ave} = \\sum_{k = 1}^{10} \\theta_{ex,Ave,d-k} / 10\n",
    "$$"
   ]
  },
  {
   "cell_type": "markdown",
   "metadata": {
    "collapsed": true
   },
   "source": [
    "期間平均外気温度$ \\theta_{ex,prd,Ave} $は、1 日前から 10 日前までの 10 日間における日平均外気温度の平均値であり、下式により表される。"
   ]
  },
  {
   "cell_type": "code",
   "execution_count": 20,
   "metadata": {
    "collapsed": true
   },
   "outputs": [],
   "source": [
    "def theta_ex_prd_Ave(theta_ex_Ave):\n",
    "    return sum(theta_ex_Ave) / 10\n",
    "        "
   ]
  },
  {
   "cell_type": "markdown",
   "metadata": {},
   "source": [
    "#### Example"
   ]
  },
  {
   "cell_type": "markdown",
   "metadata": {},
   "source": [
    "1℃から10℃の10日間の温度の平均値を算出。"
   ]
  },
  {
   "cell_type": "code",
   "execution_count": 31,
   "metadata": {},
   "outputs": [
    {
     "data": {
      "text/plain": [
       "5.5"
      ]
     },
     "execution_count": 31,
     "metadata": {},
     "output_type": "execute_result"
    }
   ],
   "source": [
    "a = [1,2,3,4,5,6,7,8,9,10]\n",
    "theta_ex_prd_Ave(a)"
   ]
  },
  {
   "cell_type": "markdown",
   "metadata": {},
   "source": [
    "Where  \n",
    "$ \\theta_{ex,Ave,d-k} $ is the daily average outside air temperature $k$ day's ago based on date $d$. / ݇日付݀$d$を基準とした$k$日前の日平均外気温度(℃)"
   ]
  },
  {
   "cell_type": "markdown",
   "metadata": {},
   "source": [
    "݀$d - k$が0以下の数となる場合は、݀$d - k +365$と読み替える。 "
   ]
  },
  {
   "cell_type": "markdown",
   "metadata": {},
   "source": [
    "## 13.日平均外気温度"
   ]
  },
  {
   "cell_type": "markdown",
   "metadata": {},
   "source": [
    "日平均外気温度$\\theta_{ex,Ave}$は下式により表される。"
   ]
  },
  {
   "cell_type": "markdown",
   "metadata": {},
   "source": [
    "$$\n",
    "\\displaystyle \\theta_{ex,Ave} = \\sum^{23}_{t = 0} \\theta_{ex} / 24\n",
    "$$"
   ]
  },
  {
   "cell_type": "markdown",
   "metadata": {},
   "source": [
    "Where  \n",
    "$ \\theta_{ex,Ave} $ is the daily average outside air temperature. / ݇日平均外気温度(℃)  \n",
    "$ \\theta_{ex} $ is the outside air temperature. / ݇外気温度(℃)  "
   ]
  },
  {
   "cell_type": "code",
   "execution_count": 33,
   "metadata": {
    "collapsed": true
   },
   "outputs": [],
   "source": [
    "def theta_ex_Ave(theta_ex):\n",
    "    return sum(theta_ex) / 24"
   ]
  },
  {
   "cell_type": "markdown",
   "metadata": {},
   "source": [
    "#### Example"
   ]
  },
  {
   "cell_type": "markdown",
   "metadata": {},
   "source": [
    "24時間の温度を使って日平均外気温度を算出。  \n",
    "0℃～23℃の平均"
   ]
  },
  {
   "cell_type": "code",
   "execution_count": 49,
   "metadata": {},
   "outputs": [
    {
     "data": {
      "text/plain": [
       "11.5"
      ]
     },
     "execution_count": 49,
     "metadata": {},
     "output_type": "execute_result"
    }
   ],
   "source": [
    "a = range(0,24)\n",
    "theta_ex_Ave(a)"
   ]
  },
  {
   "cell_type": "markdown",
   "metadata": {},
   "source": [
    "## 14.夜間平均外気温度"
   ]
  },
  {
   "cell_type": "markdown",
   "metadata": {},
   "source": [
    "夜間平均外気温度$\\theta_{ex,Nave}$は、前日の23時から当日の7時までの外気温度の平均とし、下式により表される。"
   ]
  },
  {
   "cell_type": "markdown",
   "metadata": {},
   "source": [
    "$$\n",
    "\\displaystyle \\theta_{ex,Nave} = (\\theta_{ex,d-1,23} + \\sum^6_{t=0}\\theta_{ex})/8\n",
    "$$"
   ]
  },
  {
   "cell_type": "markdown",
   "metadata": {},
   "source": [
    "Where  \n",
    "$ \\theta_{ex,d-1,23} $ is the outside air temperature at 23 o'clock in date ݀$d-1$. / ݇日付݀$d-1$における 23 時における外気温度(℃)  \n",
    "$ \\theta_{ex} $ is the outside air temperature. / ݇外気温度(℃)  "
   ]
  },
  {
   "cell_type": "markdown",
   "metadata": {},
   "source": [
    "$d - 1$が0の場合、$d - 1$を365と読み替える。 "
   ]
  },
  {
   "cell_type": "code",
   "execution_count": 78,
   "metadata": {
    "collapsed": true
   },
   "outputs": [],
   "source": [
    "def theta_ex_Nave(theta_ex_dminus1, theta_ex):\n",
    "    return sum(theta_ex_dminus1, theta_ex) / 8"
   ]
  },
  {
   "cell_type": "markdown",
   "metadata": {},
   "source": [
    "#### Example"
   ]
  },
  {
   "cell_type": "markdown",
   "metadata": {},
   "source": [
    "0℃から8℃までの8時間分の外気温度の平均を算出。"
   ]
  },
  {
   "cell_type": "code",
   "execution_count": 87,
   "metadata": {},
   "outputs": [
    {
     "data": {
      "text/plain": [
       "1591.25"
      ]
     },
     "execution_count": 87,
     "metadata": {},
     "output_type": "execute_result"
    }
   ],
   "source": [
    "a = range(160)\n",
    "b = 10\n",
    "\n",
    "theta_ex_Nave(a, b)"
   ]
  },
  {
   "cell_type": "markdown",
   "metadata": {},
   "source": [
    "## 15.温水暖房の熱負荷"
   ]
  },
  {
   "cell_type": "markdown",
   "metadata": {},
   "source": [
    "1日当たりの温水暖房の熱負荷$L_{HWH}$は、下式により表される。"
   ]
  },
  {
   "cell_type": "markdown",
   "metadata": {},
   "source": [
    "$$\n",
    "\\displaystyle L_{HWH} = \\sum^{23}_{t=0}L_{HWH,t}\n",
    "$$"
   ]
  },
  {
   "cell_type": "markdown",
   "metadata": {},
   "source": [
    "Where  \n",
    "$L_{HWH}$ is the heat load of hot water heating per day. / 1 日当たりの温水暖房の熱負荷(MJ/day)  \n",
    "$L_{HWH,t}$ is the heat load of hot water heating per hour at $t$ o'clock. / ݇時刻$t$における1 時間当たりの温水暖房の熱負荷(MJ/day)"
   ]
  },
  {
   "cell_type": "markdown",
   "metadata": {
    "collapsed": true
   },
   "source": [
    "日付݀$d$の時刻$t$における 1 時間当たりの温水暖房の熱負荷$L_{HWH,d,t}$は、第 4 章「暖冷房設備」第 7 節「温水暖房」における日付݀$d$の時刻$t$における 1 時間当たりの熱源機の温水熱需要$Q_{dmd,hs,d,t}$に等しいものとする。"
     ]
  },
  {
   "cell_type": "code",
   "execution_count": 88,
   "metadata": {
    "collapsed": true
   },
   "outputs": [],
   "source": [
    "def L_HWH(L_HWH_t):\n",
    "    return sum(L_HWH_t)"
   ]
  },
  {
   "cell_type": "markdown",
   "metadata": {},
   "source": [
    "#### Example"
   ]
  },
  {
   "cell_type": "markdown",
   "metadata": {
    "collapsed": true
   },
   "source": [
    "24時間分の温水暖房の熱負荷を合計して1日当たりの温水暖房の熱負荷を算出。"
   ]
  },
  {
   "cell_type": "code",
   "execution_count": 90,
   "metadata": {},
   "outputs": [
    {
     "data": {
      "text/plain": [
       "300"
      ]
     },
     "execution_count": 90,
     "metadata": {},
     "output_type": "execute_result"
    }
   ],
   "source": [
    "a = range(1,25)\n",
    "L_HWH(a)"
   ]
  }
 ],
 "metadata": {
  "kernelspec": {
   "display_name": "Python 3",
   "language": "python",
   "name": "python3"
  },
  "language_info": {
   "codemirror_mode": {
    "name": "ipython",
    "version": 3
   },
   "file_extension": ".py",
   "mimetype": "text/x-python",
   "name": "python",
   "nbconvert_exporter": "python",
   "pygments_lexer": "ipython3",
   "version": "3.6.4"
  }
 },
 "nbformat": 4,
 "nbformat_minor": 2
}
