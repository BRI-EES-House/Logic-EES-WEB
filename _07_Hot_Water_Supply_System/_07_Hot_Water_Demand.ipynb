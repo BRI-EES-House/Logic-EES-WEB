{
 "cells": [
  {
   "cell_type": "code",
   "execution_count": 1,
   "metadata": {},
   "outputs": [
    {
     "name": "stdout",
     "output_type": "stream",
     "text": [
      "Importing Jupyter notebook from ..\\_11_Others\\Life_Schedule.ipynb\n",
      "Importing Jupyter notebook from ..\\_11_Others\\External_Condition.ipynb\n",
      "Importing Jupyter notebook from ..\\_07_Hot_Water_Supply_System\\_07_AppJ_Water_Saving_Coefficient.ipynb\n"
     ]
    }
   ],
   "source": [
    "import sys\n",
    "sys.path.append('../')\n",
    "import nbimporter\n",
    "\n",
    "from _11_Others import Life_Schedule as LS\n",
    "from _11_Others import External_Condition as EC\n",
    "\n",
    "# importできない\n",
    "from _07_Hot_Water_Supply_System import _07_AppJ_Water_Saving_Coefficient as WaterSaving\n",
    "\n",
    "import math\n",
    "import numpy as np\n",
    "from enum import Enum"
   ]
  },
  {
   "cell_type": "code",
   "execution_count": 2,
   "metadata": {},
   "outputs": [],
   "source": [
    "class SystemExistance(Enum):\n",
    "    ExistWithBath    = 0,\n",
    "    ExistWithoutBath = 1,\n",
    "    NotExist         = 2"
   ]
  },
  {
   "cell_type": "markdown",
   "metadata": {},
   "source": [
    "# Chapter VII-I Hot Water Supply System - Demand / 給湯設備 - 給湯需要"
   ]
  },
  {
   "cell_type": "markdown",
   "metadata": {},
   "source": [
    "## 1. Introduction"
   ]
  },
  {
   "cell_type": "markdown",
   "metadata": {},
   "source": [
    "This calculation depends on the specification of \"Chapter VII Hot Water Supply System\" in BRI.  \n",
    "This sheet include only the calculation of the demand of hot water supply system, excluding the calculation of the energy consumption of the water heater(electric heat source, gas/kerosene boiler etc...)."
   ]
  },
  {
   "cell_type": "markdown",
   "metadata": {},
   "source": [
    "## 2. Energy Consumption of Hot Water supply System / 給湯設備によるエネルギー消費量"
   ]
  },
  {
   "cell_type": "markdown",
   "metadata": {},
   "source": [
    "### 1) Power / 消費電力量"
   ]
  },
  {
   "cell_type": "markdown",
   "metadata": {},
   "source": [
    "Daily electric power of hot water supply system is calculated by the equation below.  \n",
    "When there is no systems of the kitchen, the washroom and the bathroom, the daily electric power is equals to be 0.0.\n",
    "\n",
    "If you use the liquid collector type of the solar heating system:\n",
    "\n",
    "$$\n",
    "\\displaystyle E_{E,W} = E_{E,hs} + E_{E,lss,aux}\n",
    "$$\n",
    "\n",
    "If you use the air collector type of the solar heating system:\n",
    "\n",
    "$$\n",
    "\\displaystyle E_{E,W} = E_{E,hs} + E_{E,ass,aux,W}\n",
    "$$\n",
    "\n",
    "Where  \n",
    "$ E_{E,W} $ is the daily electric power of the hot water supply sustem. / 1日当たりの給湯設備の消費電力量 (kWh/day)  \n",
    "$ E_{E,hs} $ is the daily electric power of the water heater. / 1日当たりの給湯機の消費電力量 (kWh/day)    \n",
    "$ E_{E,lss} $ is the daily electric power of the liquid collector type of the solar heating system. /  1 日当たりの液体集熱式太陽熱利用設備消費電力量 (kWh/day)  \n",
    "$ E_{E,ass,aux,W} $ is the daily addition of electric power of the auxiliaries to the hot water supply equipment when use the air collector type of the solar heating system. / 空気集熱式太陽熱利用設備を採用する場合の1日当たりの補機の消費電力量のうちの給湯設備への付加分 (kWh/day)  \n",
    "$ E_{E,lss,aux} $ is the daily electric power of the auxiliaries of the liquid collector type of the solar heating system. / 液体集熱式太陽熱利用設備を採用する場合の1日当たりの補機の消費電力量 (kWh/day)  \n",
    "\n",
    "The daily electric power of the auxiliaries of the liquid collector type of the solar heating system $ E_{E,lss,aux} $ occurs only when liquid collector type of the solar heating system is adopted and it is fixed value by Chapter 9, Section 2 \"Liquid collecting type solar heat utilization equipment\".  \n",
    "The daily addition of electric power of the auxiliaries to the hot water supply equipment when use the air collector type of the solar heating system $ E_{E,ass,aux,W} $ occurs only when air collector type of the solar heating system is adopted and it is fixed value by Chapter 9, Section 3 \"Air collecting type solar heat utilization equipment\"."
   ]
  },
  {
   "cell_type": "code",
   "execution_count": 3,
   "metadata": {},
   "outputs": [],
   "source": [
    "def get_E_E_W(E_E_hs, E_E_lss_aux, _system_exist):\n",
    "    return 0.0 if _system_exist == SystemExistance.NotExist else E_E_hs + E_E_lss_aux "
   ]
  },
  {
   "cell_type": "markdown",
   "metadata": {},
   "source": [
    "#### Example"
   ]
  },
  {
   "cell_type": "markdown",
   "metadata": {},
   "source": [
    "$ E_{E,W} = 0.4 $ (kWh/day)  \n",
    "$ E_{E,hs} = 0.05 $ (kWh/day)  \n",
    "Exsitance of the syste is selected below:\n",
    "- Exsit with Bath\n",
    "- Exsit without Bath\n",
    "- Not Exsit"
   ]
  },
  {
   "cell_type": "code",
   "execution_count": 4,
   "metadata": {},
   "outputs": [
    {
     "data": {
      "text/plain": [
       "0.45"
      ]
     },
     "execution_count": 4,
     "metadata": {},
     "output_type": "execute_result"
    }
   ],
   "source": [
    "get_E_E_W(0.4,0.05, SystemExistance.ExistWithBath)"
   ]
  },
  {
   "cell_type": "code",
   "execution_count": 5,
   "metadata": {},
   "outputs": [
    {
     "data": {
      "text/plain": [
       "0.45"
      ]
     },
     "execution_count": 5,
     "metadata": {},
     "output_type": "execute_result"
    }
   ],
   "source": [
    "get_E_E_W(0.4,0.05, SystemExistance.ExistWithoutBath)"
   ]
  },
  {
   "cell_type": "code",
   "execution_count": 6,
   "metadata": {},
   "outputs": [
    {
     "data": {
      "text/plain": [
       "0.0"
      ]
     },
     "execution_count": 6,
     "metadata": {},
     "output_type": "execute_result"
    }
   ],
   "source": [
    "get_E_E_W(0.4,0.05, SystemExistance.NotExist)"
   ]
  },
  {
   "cell_type": "markdown",
   "metadata": {},
   "source": [
    "### 2) Gas Consumption / ガス消費量"
   ]
  },
  {
   "cell_type": "markdown",
   "metadata": {},
   "source": [
    "Daily gas consumption of hot water supply system is calculated by the equation below.  \n",
    "When there is no systems of the kitchen, the washroom and the bathroom, the daily electric power is equals to be 0.0.\n",
    "\n",
    "$$\n",
    "\\displaystyle E_{G,W} = E_{G,hs}\n",
    "$$\n",
    "\n",
    "Where  \n",
    "$ E_{G,W} $ is the daily gas consumption of the hot water supply sustem / 1日当たりの給湯設備のガス消費量 (MJ/day);  \n",
    "$ E_{G,hs} $ is the daily gas consumption of the water heater / 1日当たりの給湯機のガス消費量 (MJ/day). "
   ]
  },
  {
   "cell_type": "code",
   "execution_count": 7,
   "metadata": {},
   "outputs": [],
   "source": [
    "def get_E_G_W(E_G_hs, _system_exist):\n",
    "    return 0.0 if _system_exist == SystemExistance.NotExist else E_G_hs "
   ]
  },
  {
   "cell_type": "markdown",
   "metadata": {},
   "source": [
    "#### Example"
   ]
  },
  {
   "cell_type": "markdown",
   "metadata": {},
   "source": [
    "$ E_{G,W} = 80.0 $ (MJ/day)  \n",
    "Exsitance of the syste is selected below:\n",
    "- Exsit with Bath\n",
    "- Exsit without Bath\n",
    "- Not Exsit"
   ]
  },
  {
   "cell_type": "code",
   "execution_count": 8,
   "metadata": {},
   "outputs": [
    {
     "data": {
      "text/plain": [
       "80.0"
      ]
     },
     "execution_count": 8,
     "metadata": {},
     "output_type": "execute_result"
    }
   ],
   "source": [
    "get_E_G_W(80.0, SystemExistance.ExistWithBath)"
   ]
  },
  {
   "cell_type": "code",
   "execution_count": 9,
   "metadata": {},
   "outputs": [
    {
     "data": {
      "text/plain": [
       "80.0"
      ]
     },
     "execution_count": 9,
     "metadata": {},
     "output_type": "execute_result"
    }
   ],
   "source": [
    "get_E_G_W(80.0, SystemExistance.ExistWithoutBath)"
   ]
  },
  {
   "cell_type": "code",
   "execution_count": 10,
   "metadata": {},
   "outputs": [
    {
     "data": {
      "text/plain": [
       "0.0"
      ]
     },
     "execution_count": 10,
     "metadata": {},
     "output_type": "execute_result"
    }
   ],
   "source": [
    "get_E_G_W(80.0, SystemExistance.NotExist)"
   ]
  },
  {
   "cell_type": "markdown",
   "metadata": {},
   "source": [
    "### 3) Kerosene Consumption / 灯油消費量"
   ]
  },
  {
   "cell_type": "markdown",
   "metadata": {},
   "source": [
    "Daily kerosene consumption of hot water supply system is calculated by the equation below.  \n",
    "When there is no systems of the kitchen, the washroom and the bathroom, the daily electric power is equals to be 0.0.\n",
    "\n",
    "$$\n",
    "\\displaystyle E_{K,W} = E_{K,hs}\n",
    "$$\n",
    "\n",
    "Where  \n",
    "$ E_{K,W} $ is the daily kerosene consumption of the hot water supply sustem / 1日当たりの給湯設備の灯油消費電 (MJ/day);  \n",
    "$ E_{K,hs} $ is the daily kerosene consumption of the water heater / 1日当たりの給湯機の灯油消費量 (MJ/day). "
   ]
  },
  {
   "cell_type": "code",
   "execution_count": 11,
   "metadata": {},
   "outputs": [],
   "source": [
    "def get_E_K_W(E_K_hs, _system_exist):\n",
    "    return 0.0 if _system_exist == SystemExistance.NotExist else E_K_hs "
   ]
  },
  {
   "cell_type": "markdown",
   "metadata": {},
   "source": [
    "#### Example"
   ]
  },
  {
   "cell_type": "markdown",
   "metadata": {},
   "source": [
    "$ E_{K,W} = 80.0 $ (MJ/day)  \n",
    "Exsitance of the syste is selected below:\n",
    "- Exsit with Bath\n",
    "- Exsit without Bath\n",
    "- Not Exsit"
   ]
  },
  {
   "cell_type": "code",
   "execution_count": 12,
   "metadata": {},
   "outputs": [
    {
     "data": {
      "text/plain": [
       "80.0"
      ]
     },
     "execution_count": 12,
     "metadata": {},
     "output_type": "execute_result"
    }
   ],
   "source": [
    "get_E_K_W(80.0, SystemExistance.ExistWithBath)"
   ]
  },
  {
   "cell_type": "code",
   "execution_count": 13,
   "metadata": {},
   "outputs": [
    {
     "data": {
      "text/plain": [
       "80.0"
      ]
     },
     "execution_count": 13,
     "metadata": {},
     "output_type": "execute_result"
    }
   ],
   "source": [
    "get_E_K_W(80.0, SystemExistance.ExistWithoutBath)"
   ]
  },
  {
   "cell_type": "code",
   "execution_count": 14,
   "metadata": {},
   "outputs": [
    {
     "data": {
      "text/plain": [
       "0.0"
      ]
     },
     "execution_count": 14,
     "metadata": {},
     "output_type": "execute_result"
    }
   ],
   "source": [
    "get_E_K_W(80.0, SystemExistance.NotExist)"
   ]
  },
  {
   "cell_type": "markdown",
   "metadata": {},
   "source": [
    "### 4) Primary Energy Consumption by Other Fuel / その他の燃料による一次エネルギー消費量"
   ]
  },
  {
   "cell_type": "markdown",
   "metadata": {},
   "source": [
    "Daily primary energy consumption by other fuel is calculated by the equation below.  \n",
    "\n",
    "$$\n",
    "\\displaystyle E_{M,W} = 0.0\n",
    "$$\n",
    "\n",
    "Where  \n",
    "$ E_{M,W} $ is the daily primary energy consumption by other fuel of the hot water supply sustem / 1日当たりの給湯設備のその他の燃料による一次エネルギー消費量 (MJ/day)."
   ]
  },
  {
   "cell_type": "code",
   "execution_count": 15,
   "metadata": {},
   "outputs": [],
   "source": [
    "def get_E_M_W():\n",
    "    return 0.0"
   ]
  },
  {
   "cell_type": "markdown",
   "metadata": {},
   "source": [
    "#### Example"
   ]
  },
  {
   "cell_type": "code",
   "execution_count": 16,
   "metadata": {},
   "outputs": [
    {
     "data": {
      "text/plain": [
       "0.0"
      ]
     },
     "execution_count": 16,
     "metadata": {},
     "output_type": "execute_result"
    }
   ],
   "source": [
    "get_E_M_W()"
   ]
  },
  {
   "cell_type": "markdown",
   "metadata": {},
   "source": [
    "## Energy Consumption of Water Heater / 給湯機のエネルギー消費量"
   ]
  },
  {
   "cell_type": "markdown",
   "metadata": {},
   "source": [
    "This calculation is represented in other sheet."
   ]
  },
  {
   "cell_type": "code",
   "execution_count": 17,
   "metadata": {},
   "outputs": [],
   "source": [
    "def Get_E_hs():\n",
    "    return { \"Electric\": 0.0, \"Gas\": 0.0, \"Kerosene\": 0.0}  # dummy"
   ]
  },
  {
   "cell_type": "markdown",
   "metadata": {},
   "source": [
    "#### Example"
   ]
  },
  {
   "cell_type": "code",
   "execution_count": 18,
   "metadata": {},
   "outputs": [
    {
     "data": {
      "text/plain": [
       "{'Electric': 0.0, 'Gas': 0.0, 'Kerosene': 0.0}"
      ]
     },
     "execution_count": 18,
     "metadata": {},
     "output_type": "execute_result"
    }
   ],
   "source": [
    "Get_E_hs()"
   ]
  },
  {
   "cell_type": "markdown",
   "metadata": {},
   "source": [
    "## Hot Water Supply Load Corrected for Solar Heat / 太陽熱補正給湯負荷"
   ]
  },
  {
   "cell_type": "markdown",
   "metadata": {},
   "source": [
    "Daily hot water supply load corrected for solar heat with each usage are calculated by the equations below."
   ]
  },
  {
   "cell_type": "markdown",
   "metadata": {},
   "source": [
    "$$\n",
    "\\displaystyle L''_K = L'_k - L_{sun} \\times \\frac { L'_k }{ (L'_k + L'_s + L'_w + L'_{b1} + L'_{b2} + L'_{ba1} ) }\n",
    "$$"
   ]
  },
  {
   "cell_type": "markdown",
   "metadata": {},
   "source": [
    "$$\n",
    "\\displaystyle L''_s = L'_s - L_{sun} \\times \\frac { L'_s }{ (L'_k + L'_s + L'_w + L'_{b1} + L'_{b2} + L'_{ba1} ) }\n",
    "$$"
   ]
  },
  {
   "cell_type": "markdown",
   "metadata": {},
   "source": [
    "$$\n",
    "\\displaystyle L''_w = L'_w - L_{sun} \\times \\frac { L'_w }{ (L'_k + L'_s + L'_w + L'_{b1} + L'_{b2} + L'_{ba1} ) }\n",
    "$$  "
   ]
  },
  {
   "cell_type": "markdown",
   "metadata": {},
   "source": [
    "$$\n",
    "\\displaystyle L''_{b1}= L'_{b1} - L_{sun} \\times \\frac{ L'_{b1} } {(L'_k + L'_s + L'_w + L'_{b1} + L'_{b2} + L'_{ba1} ) }\n",
    "$$"
   ]
  },
  {
   "cell_type": "markdown",
   "metadata": {
    "collapsed": true
   },
   "source": [
    "$$\n",
    "\\displaystyle L''_{b2}= L'_{b2} - L_{sun} \\times \\frac{ L'_{b2} } {(L'_k + L'_s + L'_w + L'_{b1} + L'_{b2} + L'_{ba1} ) }\n",
    "$$"
   ]
  },
  {
   "cell_type": "markdown",
   "metadata": {
    "collapsed": true
   },
   "source": [
    "$$\n",
    "\\displaystyle L''_{ba1} = L'_{ba1} - L_{sun} \\times \\frac{L'_{ba1}}{(L'_k + L'_s + L'_w + L'_{b1} + L'_{b2} + L'_{ba1})}\n",
    "$$"
   ]
  },
  {
   "cell_type": "markdown",
   "metadata": {
    "collapsed": true
   },
   "source": [
    "$$\n",
    "\\displaystyle L''_{ba2} = L'_{ba2}\n",
    "$$"
   ]
  },
  {
   "cell_type": "markdown",
   "metadata": {},
   "source": [
    "where  \n",
    "$ L''_{k} $ is the daily hot water supply load corrected for solar heat by the kitchen./1日当たりの台所水栓における太陽熱補正給湯熱負荷(MJ/day)  \n",
    "$ L''_{s} $ is the daily hot water supply load corrected for solar heat by the shower./1日当たりの浴室シャワー水栓における太陽熱補正給湯熱負荷(MJ/day)  \n",
    "$ L''_{w} $ is the daily hot water supply load corrected for solar heat by the washroom./1日当たりの洗面水栓における太陽熱補正給湯熱負荷(MJ/day)  \n",
    "$ L''_{b1} $ is the daily hot water supply load corrected for solar heat by filling the bathtub manually./1日当たりの浴槽水栓湯はり時における太陽熱補正給湯熱負荷(MJ/day)  \n",
    "$ L''_{b2} $ is the daily hot water supply load corrected for solar heat by filling the bathtub automattically./1日当たりの浴槽自動湯はり時における太陽熱補正給湯熱負荷(MJ/day)  \n",
    "$ L''_{ba1} $ is the daily hot water supply load corrected for solar heat by addition of hot water to bathtub./1日当たりの浴槽水栓さし湯時における太陽熱補正給湯熱負荷(MJ/day)  \n",
    "$ L''_{ba2} $ is the daily hot water supply load corrected for solar heat by rewarming./1日当たりの浴槽追焚時における太陽熱補正給湯熱負荷(MJ/day)  \n",
    "$ L'_{k} $ is the daily hot water supply load corrected for hot water saving by the kitchen./1日当たりの台所水栓における節湯補正給湯熱負荷(MJ/day)  \n",
    "$ L'_{s} $ is the daily hot water supply load corrected for hot water saving by the shower./1日当たりの浴室シャワー水栓における節湯補正給湯熱負荷(MJ/day)  \n",
    "$ L'_{w} $ is the daily hot water supply load corrected for hot water saving by the washroom./1日当たりの洗面水栓における節湯補正給湯熱負荷(MJ/day)  \n",
    "$ L'_{b1} $ is the daily hot water supply load corrected for hot water saving by filling the bathtub manually./1日当たりの浴槽水栓湯はり時における節湯補正給湯熱負荷(MJ/day)  \n",
    "$ L'_{b2} $ is the daily hot water supply load corrected for hot water saving by filling the bathtub automatically./1日当たりの浴槽自動湯はり時における節湯補正給湯熱負荷(MJ/day)  \n",
    "$ L'_{ba1} $ is the daily hot water supply load corrected for hot water saving by addition of hot water to bathtub./1日当たりの浴槽水栓さし湯時における節湯補正給湯熱負荷(MJ/day)  \n",
    "$ L'_{ba2} $ is the daily hot water supply load corrected for hot water saving by rewarming./1日当たりの浴槽追焚時における節湯補正給湯熱負荷(MJ/day)  \n",
    "$ L_{sun} $ is the daily heat collection amount corrected for solar hot water supply equipment./1日当たりの太陽熱利用給湯設備による補正集熱量(MJ/day)"
   ]
  },
  {
   "cell_type": "markdown",
   "metadata": {},
   "source": [
    "The daily heat collection amount corrected for solar hot water supply equipment $ L_{sun} $ is a value calculated by Chapter 9, Section 2 \"Liquid collecting type solar thermal utilization equipment\" in the case where the solar heat utilization hot-water supply equipment is liquid collecting type, and is a value calculated by Chapter 9, Section 3 \"Air collecting type solar heat utilization equipment\" in the case of air collecting type."
   ]
  },
  {
   "cell_type": "code",
   "execution_count": 19,
   "metadata": {},
   "outputs": [],
   "source": [
    "def get_L_2dash_k(L_dash_k, L_dash_s, L_dash_w, L_dash_b1, L_dash_b2, L_dash_ba1, L_sun):\n",
    "    L_2dash_k = L_dash_k - L_sun * L_dash_k / (L_dash_k + L_dash_s + L_dash_w + L_dash_b1 + L_dash_b2 + L_dash_ba1)\n",
    "    return L_2dash_k"
   ]
  },
  {
   "cell_type": "code",
   "execution_count": 20,
   "metadata": {},
   "outputs": [],
   "source": [
    "def get_L_2dash_s(L_dash_k, L_dash_s, L_dash_w, L_dash_b1, L_dash_b2, L_dash_ba1, L_sun):\n",
    "    L_2dash_s = L_dash_s - L_sun * L_dash_s / (L_dash_k + L_dash_s + L_dash_w + L_dash_b1 + L_dash_b2 + L_dash_ba1)\n",
    "    return L_2dash_s"
   ]
  },
  {
   "cell_type": "code",
   "execution_count": 21,
   "metadata": {},
   "outputs": [],
   "source": [
    "def get_L_2dash_w(L_dash_k, L_dash_s, L_dash_w, L_dash_b1, L_dash_b2, L_dash_ba1, L_sun):\n",
    "    L_2dash_w = L_dash_w - L_sun * L_dash_w / (L_dash_k + L_dash_s + L_dash_w + L_dash_b1 + L_dash_b2 + L_dash_ba1)\n",
    "    return L_2dash_w"
   ]
  },
  {
   "cell_type": "code",
   "execution_count": 22,
   "metadata": {},
   "outputs": [],
   "source": [
    "def get_L_2dash_b1(L_dash_k, L_dash_s, L_dash_w, L_dash_b1, L_dash_b2, L_dash_ba1, L_sun):\n",
    "    L_2dash_b1 = L_dash_b1 - L_sun * L_dash_b1 / (L_dash_k + L_dash_s + L_dash_w + L_dash_b1 + L_dash_b2 + L_dash_ba1)\n",
    "    return L_2dash_b1  "
   ]
  },
  {
   "cell_type": "code",
   "execution_count": 23,
   "metadata": {},
   "outputs": [],
   "source": [
    "def get_L_2dash_b2(L_dash_k, L_dash_s, L_dash_w, L_dash_b1, L_dash_b2, L_dash_ba1, L_sun):\n",
    "    L_2dash_b2 = L_dash_b2 - L_sun * L_dash_b2 / (L_dash_k + L_dash_s + L_dash_w + L_dash_b1 + L_dash_b2 + L_dash_ba1)\n",
    "    return L_2dash_b2 "
   ]
  },
  {
   "cell_type": "code",
   "execution_count": 24,
   "metadata": {},
   "outputs": [],
   "source": [
    "def get_L_2dash_ba1(L_dash_k, L_dash_s, L_dash_w, L_dash_b1, L_dash_b2, L_dash_ba1, L_sun):\n",
    "    L_2dash_ba1 = L_dash_ba1 - L_sun * L_dash_ba1 / (L_dash_k + L_dash_s + L_dash_w + L_dash_b1 + L_dash_b2 + L_dash_ba1)\n",
    "    return L_2dash_ba1  "
   ]
  },
  {
   "cell_type": "code",
   "execution_count": 25,
   "metadata": {},
   "outputs": [],
   "source": [
    "def get_L_2dash_ba2(L_dash_ba2):\n",
    "    L_2dash_ba2 = L_dash_ba2\n",
    "    return L_dash_ba2"
   ]
  },
  {
   "cell_type": "markdown",
   "metadata": {},
   "source": [
    "#### Example"
   ]
  },
  {
   "cell_type": "markdown",
   "metadata": {},
   "source": [
    "$ L'_{k} = 1 $ MJ/day  \n",
    "$ L'_{s} = 1 $ MJ/day  \n",
    "$ L'_{w} = 1 $ MJ/day  \n",
    "$ L'_{b1} = 1 $ MJ/day  \n",
    "$ L'_{b2} = 1 $ MJ/day  \n",
    "$ L'_{ba1} = 1 $ MJ/day  \n",
    "$ L'_{ba2}  = 1 $ MJ/day  \n",
    "$ L_{sun} = 1 $ MJ/day"
   ]
  },
  {
   "cell_type": "code",
   "execution_count": 26,
   "metadata": {},
   "outputs": [
    {
     "data": {
      "text/plain": [
       "0.8333333333333334"
      ]
     },
     "execution_count": 26,
     "metadata": {},
     "output_type": "execute_result"
    }
   ],
   "source": [
    "get_L_2dash_k(L_dash_k = 1, L_dash_s = 1, L_dash_w = 1, L_dash_b1 = 1, L_dash_b2 = 1, L_dash_ba1 = 1, L_sun = 1) "
   ]
  },
  {
   "cell_type": "markdown",
   "metadata": {},
   "source": [
    "## hot water supply load corrected for hot water saving / 節湯補正給湯熱負荷"
   ]
  },
  {
   "cell_type": "markdown",
   "metadata": {
    "collapsed": true
   },
   "source": [
    "Daily hot water supply load corrected for hot water saving by the kitchen, the shower and the washroom is calculated by the equation below.  "
   ]
  },
  {
   "cell_type": "markdown",
   "metadata": {
    "collapsed": true
   },
   "source": [
    "$$\n",
    "\\displaystyle L'_{k} = W'_k \\times (\\theta_{sw,k} - \\theta_{wtr}) \\times 4.186 \\times 10^{-3}\n",
    "$$"
   ]
  },
  {
   "cell_type": "markdown",
   "metadata": {
    "collapsed": true
   },
   "source": [
    "$$\n",
    "\\displaystyle L'_{s} = W'_s \\times (\\theta_{sw,s} - \\theta_{wtr}) \\times 4.186 \\times 10^{-3}\n",
    "$$"
   ]
  },
  {
   "cell_type": "markdown",
   "metadata": {},
   "source": [
    "$$\n",
    "\\displaystyle L'_{w} = W'_w \\times (\\theta_{sw,w} - \\theta_{wtr}) \\times 4.186 \\times 10^{-3}\n",
    "$$"
   ]
  },
  {
   "cell_type": "markdown",
   "metadata": {},
   "source": [
    "Daily hot water supply load corrected for hot water saving by filling the bathtub manually $L'_{b1}$ and daily hot water supply load corrected for hot water saving by filling the bathtub automatically $L'_{b2}$ is calculated by the equation below, depending on presence of bathroom etc and type of bath function (\"Hot water supply single function\", \"Bathtub water heater (no additional firing)\" or \"Bathtub water heater (with additional firing)\")."
   ]
  },
  {
   "cell_type": "markdown",
   "metadata": {},
   "source": [
    "When there is no bathroom etc (not depending on the type of bath function),"
   ]
  },
  {
   "cell_type": "markdown",
   "metadata": {},
   "source": [
    "$$\n",
    "\\displaystyle L'_{b1} = 0.0\n",
    "$$"
   ]
  },
  {
   "cell_type": "markdown",
   "metadata": {
    "collapsed": true
   },
   "source": [
    "$$\n",
    "\\displaystyle L'_{b2} = 0.0\n",
    "$$"
   ]
  },
  {
   "cell_type": "markdown",
   "metadata": {},
   "source": [
    "When there is a bathroom etc, and the type of the bath function is a single hot-water supply function,"
   ]
  },
  {
   "cell_type": "markdown",
   "metadata": {},
   "source": [
    "$$\n",
    "\\displaystyle L'_{b1} = W'_{b1} \\times ( \\theta_{sw,b1} - \\theta_{wtr} ) \\times 4.186 \\times 10^{-3}\n",
    "$$"
   ]
  },
  {
   "cell_type": "markdown",
   "metadata": {},
   "source": [
    "$$\n",
    "\\displaystyle L'_{b2} = 0.0\n",
    "$$"
   ]
  },
  {
   "cell_type": "markdown",
   "metadata": {},
   "source": [
    "When there is a bathroom etc, the type of bath function is a bath water heater (not depending on the presence or absence of additional heating),"
   ]
  },
  {
   "cell_type": "markdown",
   "metadata": {},
   "source": [
    "$$\n",
    "\\displaystyle L'_{b1} = 0.0\n",
    "$$"
   ]
  },
  {
   "cell_type": "markdown",
   "metadata": {},
   "source": [
    "$$\n",
    "\\displaystyle L'_{b2} = W'_{b2} \\times ( \\theta_{sw,b2} - \\theta_{wtr} ) \\times 4.186 \\times 10^{-3}\n",
    "$$"
   ]
  },
  {
   "cell_type": "code",
   "execution_count": 27,
   "metadata": {},
   "outputs": [],
   "source": [
    "def get_L_dash_k(W_dash_k, theta_wtr):\n",
    "    \n",
    "    # definition\n",
    "    theta_sw_k = 40\n",
    "    \n",
    "    L_dash_k = W_dash_k * (theta_sw_k - theta_wtr) * 4.186 * 10**(-3)\n",
    "    return L_dash_k"
   ]
  },
  {
   "cell_type": "code",
   "execution_count": 28,
   "metadata": {},
   "outputs": [],
   "source": [
    "def get_L_dash_s(W_dash_s, theta_wtr):\n",
    "    \n",
    "    # definition\n",
    "    theta_sw_s = 40\n",
    "    \n",
    "    L_dash_s = W_dash_s * (theta_sw_s - theta_wtr) * 4.186 * 10**(-3)\n",
    "    return L_dash_s"
   ]
  },
  {
   "cell_type": "code",
   "execution_count": 29,
   "metadata": {},
   "outputs": [],
   "source": [
    "def get_L_dash_w(W_dash_w, theta_wtr):\n",
    "    \n",
    "    # definitiion\n",
    "    theta_sw_w = 40\n",
    "    \n",
    "    L_dash_w = W_dash_w * (theta_sw_w - theta_wtr) * 4.186 * 10**(-3)\n",
    "    return L_dash_w"
   ]
  },
  {
   "cell_type": "code",
   "execution_count": 30,
   "metadata": {},
   "outputs": [],
   "source": [
    "def get_L_dash_b(_system_exist, input_Bath_Function, W_dash_b1, theta_wtr, W_dash_b2):\n",
    "    \n",
    "    # definition\n",
    "    theta_sw_b1 = 40\n",
    "    theta_sw_b2 = 40\n",
    "    \n",
    "    if _system_exist == SystemExistance.ExistWithoutBath:\n",
    "        L_dash_b1 = 0.0\n",
    "        L_dash_b2 = 0.0\n",
    "        return {'L_dash_b1' : L_dash_b1, 'L_dash_b2' : L_dash_b2}\n",
    "    elif _system_exist == SystemExistance.ExistWithBath and input_Bath_Function == \"Bath_Only\":\n",
    "        L_dash_b1 = W_dash_b1 * (theta_sw_b1 - theta_wtr) * 4.186 * 10**(-3)\n",
    "        L_dash_b2 = 0.0\n",
    "        return {'L_dash_b1' : L_dash_b1, 'L_dash_b2' : L_dash_b2}\n",
    "    elif _system_exist == SystemExistance.ExistWithBath and (input_Bath_Function == \"Bath_With_Oidaki\" or input_Bath_Function == \"Bath_Without_Oidaki\"):\n",
    "        L_dash_b1 = 0.0\n",
    "        L_dash_b2 = W_dash_b2 * (theta_sw_b2 - theta_wtr) * 4.186 * 10**(-3)\n",
    "        return {'L_dash_b1' : L_dash_b1, 'L_dash_b2' : L_dash_b2}\n",
    "    "
   ]
  },
  {
   "cell_type": "markdown",
   "metadata": {},
   "source": [
    "#### Example"
   ]
  },
  {
   "cell_type": "code",
   "execution_count": 31,
   "metadata": {},
   "outputs": [
    {
     "data": {
      "text/plain": [
       "3.26508"
      ]
     },
     "execution_count": 31,
     "metadata": {},
     "output_type": "execute_result"
    }
   ],
   "source": [
    "get_L_dash_k(W_dash_k = 20, theta_wtr = 1)"
   ]
  },
  {
   "cell_type": "code",
   "execution_count": 32,
   "metadata": {},
   "outputs": [
    {
     "data": {
      "text/plain": [
       "0.16325399999999998"
      ]
     },
     "execution_count": 32,
     "metadata": {},
     "output_type": "execute_result"
    }
   ],
   "source": [
    "get_L_dash_w(W_dash_w = 1, theta_wtr = 1)"
   ]
  },
  {
   "cell_type": "code",
   "execution_count": 33,
   "metadata": {},
   "outputs": [
    {
     "data": {
      "text/plain": [
       "3.7674000000000003"
      ]
     },
     "execution_count": 33,
     "metadata": {},
     "output_type": "execute_result"
    }
   ],
   "source": [
    "get_L_dash_w(W_dash_w = 30, theta_wtr = 10)"
   ]
  },
  {
   "cell_type": "code",
   "execution_count": 34,
   "metadata": {},
   "outputs": [
    {
     "name": "stdout",
     "output_type": "stream",
     "text": [
      "{'L_dash_b1': 0.0, 'L_dash_b2': 0.0}\n",
      "{'L_dash_b1': 2.5116, 'L_dash_b2': 0.0}\n",
      "{'L_dash_b1': 0.0, 'L_dash_b2': 0.6279}\n",
      "{'L_dash_b1': 0.0, 'L_dash_b2': 0.6279}\n"
     ]
    }
   ],
   "source": [
    "print(get_L_dash_b(_system_exist = SystemExistance.ExistWithoutBath, input_Bath_Function = \"Bath_Only\", W_dash_b1 = 20, theta_wtr = 10, W_dash_b2 = 5))\n",
    "print(get_L_dash_b(_system_exist = SystemExistance.ExistWithBath, input_Bath_Function = \"Bath_Only\", W_dash_b1 = 20, theta_wtr = 10, W_dash_b2 = 5))\n",
    "print(get_L_dash_b(_system_exist = SystemExistance.ExistWithBath, input_Bath_Function = \"Bath_With_Oidaki\", W_dash_b1 = 20, theta_wtr = 10, W_dash_b2 = 5))\n",
    "print(get_L_dash_b(_system_exist = SystemExistance.ExistWithBath, input_Bath_Function = \"Bath_Without_Oidaki\", W_dash_b1 = 20, theta_wtr = 10, W_dash_b2 = 5))"
   ]
  },
  {
   "cell_type": "code",
   "execution_count": 35,
   "metadata": {},
   "outputs": [
    {
     "name": "stdout",
     "output_type": "stream",
     "text": [
      "{'L_dash_b1': 2.5116, 'L_dash_b2': 0.0}\n",
      "2.5116\n"
     ]
    }
   ],
   "source": [
    "print(get_L_dash_b(_system_exist = SystemExistance.ExistWithBath, input_Bath_Function = \"Bath_Only\", W_dash_b1 = 20, theta_wtr = 10, W_dash_b2 = 5))\n",
    "print(get_L_dash_b(_system_exist = SystemExistance.ExistWithBath, input_Bath_Function = \"Bath_Only\", W_dash_b1 = 20, theta_wtr = 10, W_dash_b2 = 5)['L_dash_b1'])"
   ]
  },
  {
   "cell_type": "markdown",
   "metadata": {},
   "source": [
    "Daily hot water supply load corrected for hot water saving by addition of hot water to bathtub $L'_{ba1}$ and daily hot water supply load corrected for hot water saving by rewarming $L'_{ba2}$ is calculated by the equation below, depending on presence of bathroom etc and type of bath function (\"Hot water supply single function\", \"Bathtub water heater (no additional firing)\" or \"Bathtub water heater (with additional firing)\")."
   ]
  },
  {
   "cell_type": "markdown",
   "metadata": {},
   "source": [
    "When there is no bathroom etc,"
   ]
  },
  {
   "cell_type": "markdown",
   "metadata": {},
   "source": [
    "$$\n",
    "\\displaystyle L'_{ba1} = 0.0\n",
    "$$"
   ]
  },
  {
   "cell_type": "markdown",
   "metadata": {},
   "source": [
    "$$\n",
    "\\displaystyle L'_{ba2} = 0.0\n",
    "$$"
   ]
  },
  {
   "cell_type": "markdown",
   "metadata": {},
   "source": [
    "When there is a bathroom etc, and the type of bath function is hot water supply single function or bath water heater (no additional firing),"
   ]
  },
  {
   "cell_type": "markdown",
   "metadata": {},
   "source": [
    "$$\n",
    "\\displaystyle L'_{ba1} = W'_{ba1} \\times ( \\theta_{sw,ba1} - \\theta_{wtr} ) \\times 4.186 \\times 10^{-3}\n",
    "$$"
   ]
  },
  {
   "cell_type": "markdown",
   "metadata": {},
   "source": [
    "$$\n",
    "\\displaystyle L'_{ba2} = 0.0\n",
    "$$"
   ]
  },
  {
   "cell_type": "markdown",
   "metadata": {},
   "source": [
    "When there is a bathroom etc, and the type of bath function is a bath water heater (with additional firing),"
   ]
  },
  {
   "cell_type": "markdown",
   "metadata": {},
   "source": [
    "$$\n",
    "\\displaystyle L'_{ba1} = 0.0\n",
    "$$"
   ]
  },
  {
   "cell_type": "markdown",
   "metadata": {},
   "source": [
    "$$\n",
    "\\displaystyle L'_{ba2} = L_{ba} \\times 1.25\n",
    "$$"
   ]
  },
  {
   "cell_type": "markdown",
   "metadata": {},
   "source": [
    "Where  \n",
    "$ L'_{k} $ is the daily hot water supply load corrected for hot water saving by the kitchen. / 1日当たりの台所水栓における節湯補正給湯熱負荷(MJ/day)  \n",
    "$ L'_{s} $ is the daily hot water supply load corrected for hot water saving by the shower. / 1日当たりの浴室シャワー水栓における節湯補正給湯熱負荷(MJ/day)  \n",
    "$ L'_{w} $ is the daily hot water supply load corrected for hot water saving by the washroom. / 1日当たりの洗面水栓における節湯補正給湯熱負荷(MJ/day)  \n",
    "$ L'_{b1} $ is the daily hot water supply load corrected for hot water saving by filling the bathtub manually. / 1日当たりの浴槽水栓湯はり時における節湯補正給湯熱負荷(MJ/day)  \n",
    "$ L'_{b2} $ is the daily hot water supply load corrected for hot water saving by filling the bathtub automattically. / 1日当たりの浴槽自動湯はり時における節湯補正給湯熱負荷(MJ/day)  \n",
    "$ L'_{ba1} $ is the daily hot water supply load corrected for hot water saving by addition of hot water to bathtub. / 1日当たりの浴槽水栓さし湯時における節湯補正給湯熱負荷(MJ/day)  \n",
    "$ L'_{ba2} $ is the daily hot water supply load corrected for hot water saving by rewarming. / 1日当たりの浴槽追焚時における節湯補正給湯熱負荷(MJ/day)  \n",
    "$ W'_{k} $ is the daily hot water supply amount corrected for hot water saving by the kitchen. / 1日当たりの台所水栓における節湯補正給湯量(L/day)  \n",
    "$ W'_{s} $ is the daily hot water supply amount corrected for hot water saving by the shower. / 1日当たりの浴室シャワー水栓における節湯補正給湯量(L/day)  \n",
    "$ W'_{w} $ is the daily hot water supply amount corrected for hot water saving by the washroom. / 1日当たりの洗面水栓における節湯補正給湯量(L/day)  \n",
    "$ W'_{b1} $ is the daily hot water supply amount corrected for hot water saving by filling the bathtub manually. / 1日当たりの浴槽水栓湯はり時における節湯補正給湯量(L/day)  \n",
    "$ W'_{b2} $ is the daily hot water supply amount corrected for hot water saving by filling the bathtub automattically. / 1日当たりの浴槽自動湯はり時における節湯補正給湯量(L/day)  \n",
    "$ W'_{ba1} $ is the daily hot water supply amount corrected for hot water saving by addition of hot water to bathtub. / 1日当たりの浴槽水栓さし湯時における節湯補正給湯量(L/day)  \n",
    "$ L'_{ba} $ is the daily hot water supply heat load by boiling the bathtub. / 1日当たりの浴槽沸かし直しによる給湯熱負荷(MJ/day)  \n",
    "$ \\theta_{sw,k} $ is the reference hot water supply temperature by the kitchen. / 台所水栓における基準給湯温度(℃)  \n",
    "$ \\theta_{sw,s} $ is the reference hot water supply temperature by the shower. / 浴室シャワー水栓における基準給湯温度(℃)  \n",
    "$ \\theta_{sw,w} $ is the reference hot water supply temperature by the washroom. / 洗面水栓における基準給湯温度(℃)  \n",
    "$ \\theta_{sw,b1} $ is the reference hot water supply temperature by filling the bathtub manually. / 浴槽水栓湯はり時における基準給湯温度(℃)  \n",
    "$ \\theta_{sw,b2} $ is the reference hot water supply temperature by filling the bathtub automattically. / 浴槽自動湯はり時における基準給湯温度(℃)  \n",
    "$ \\theta_{sw,ba1} $ is the reference hot water supply temperature by addition of hot water to bathtub. / 浴槽水栓さし湯時における基準給湯温度(℃)  \n",
    "$ \\theta_{wtr} $ is the daily average feed water temperature. / 日平均給水温度(℃)  "
   ]
  },
  {
   "cell_type": "markdown",
   "metadata": {},
   "source": [
    "The reference hot water supply temperature is represented by Table 5 for each application."
   ]
  },
  {
   "cell_type": "markdown",
   "metadata": {},
   "source": [
    "#### <center>表5　用途ごとの基準給湯温度</center>\n",
    "\n",
    "| 用途 | 記号 | 基準給湯温度 |\n",
    "| ----- | ---- | ---- |\n",
    "| 台所水栓 | $\\theta_{sw,k}$ | 40 |\n",
    "|浴室シャワー水栓|$\\theta_{sw,s}$|40|\n",
    "|洗面水栓|$\\theta_{sw_w}$|40|\n",
    "|浴槽水栓湯はり|$\\theta_{sw,b1}$|40|\n",
    "|浴槽自動湯はり|$\\theta_{sw,b1}$|40|\n",
    "|浴槽水栓さし湯|$\\theta_{sw,ba1}$|60|\n"
   ]
  },
  {
   "cell_type": "code",
   "execution_count": 36,
   "metadata": {},
   "outputs": [],
   "source": [
    "def get_L_dash_ba(_system_exist, input_Bath_Function, W_dash_ba1, theta_wtr, L_ba):\n",
    "    \n",
    "    # definition\n",
    "    theta_sw_ba1 = 60\n",
    "    \n",
    "    if _system_exist == SystemExistance.ExistWithoutBath:\n",
    "        L_dash_ba1 = 0.0\n",
    "        L_dash_ba2 = 0.0\n",
    "        return {'L_dash_ba1' : L_dash_ba1, 'L_dash_ba2' : L_dash_ba2}\n",
    "    elif _system_exist == SystemExistance.ExistWithBath and (input_Bath_Function == 'Bath_Only' or input_Bath_Function == \"Bath_Without_Oidaki\"):\n",
    "        L_dash_ba1 = W_dash_ba1 * (theta_sw_ba1 - theta_wtr) * 4.186 * 10**(-3)\n",
    "        L_dash_ba2 = 0.0\n",
    "        return {'L_dash_ba1' : L_dash_ba1, 'L_dash_ba2' : L_dash_ba2}\n",
    "    elif _system_exist == SystemExistance.ExistWithBath and input_Bath_Function == \"Bath_With_Oidaki\":\n",
    "        L_dash_ba1 = 0.0\n",
    "        L_dash_ba2 = L_ba * 1.25\n",
    "        return {'L_dash_ba1' : L_dash_ba1, 'L_dash_ba2' : L_dash_ba2}\n",
    "    "
   ]
  },
  {
   "cell_type": "markdown",
   "metadata": {},
   "source": [
    "#### Example"
   ]
  },
  {
   "cell_type": "code",
   "execution_count": 37,
   "metadata": {},
   "outputs": [
    {
     "name": "stdout",
     "output_type": "stream",
     "text": [
      "{'L_dash_ba1': 0.0, 'L_dash_ba2': 0.0}\n",
      "{'L_dash_ba1': 5.6511000000000005, 'L_dash_ba2': 0.0}\n",
      "{'L_dash_ba1': 5.6511000000000005, 'L_dash_ba2': 0.0}\n",
      "{'L_dash_ba1': 0.0, 'L_dash_ba2': 25.0}\n"
     ]
    }
   ],
   "source": [
    "print(get_L_dash_ba(_system_exist = SystemExistance.ExistWithoutBath, input_Bath_Function = 'Bath_only', W_dash_ba1 = 30, theta_wtr = 15, L_ba = 20))\n",
    "print(get_L_dash_ba(_system_exist = SystemExistance.ExistWithBath, input_Bath_Function = 'Bath_Only', W_dash_ba1 = 30, theta_wtr = 15, L_ba = 20))\n",
    "print(get_L_dash_ba(_system_exist = SystemExistance.ExistWithBath, input_Bath_Function = 'Bath_Without_Oidaki', W_dash_ba1 = 30, theta_wtr = 15, L_ba = 20))\n",
    "print(get_L_dash_ba(_system_exist = SystemExistance.ExistWithBath, input_Bath_Function = 'Bath_With_Oidaki', W_dash_ba1 = 30, theta_wtr = 15, L_ba = 20))"
   ]
  },
  {
   "cell_type": "markdown",
   "metadata": {},
   "source": [
    "## 9.節湯補正給湯量"
   ]
  },
  {
   "cell_type": "markdown",
   "metadata": {},
   "source": [
    "Daily hot water supply amount corrected for hot water saving for each use is calculated by the equation below."
   ]
  },
  {
   "cell_type": "markdown",
   "metadata": {},
   "source": [
    "$$\n",
    "\\displaystyle W'_k = W_k \\times f_{sk} \\times f_{sp}\n",
    "$$"
   ]
  },
  {
   "cell_type": "markdown",
   "metadata": {},
   "source": [
    "$$\n",
    "\\displaystyle W'_s = W_s \\times f_{ss} \\times f_{sp}\n",
    "$$"
   ]
  },
  {
   "cell_type": "markdown",
   "metadata": {},
   "source": [
    "$$\n",
    "\\displaystyle W'_w = W_w \\times f_{sw} \\times f_{sp}\n",
    "$$"
   ]
  },
  {
   "cell_type": "markdown",
   "metadata": {},
   "source": [
    "$$\n",
    "\\displaystyle W'_{b1} = W_{b1} \\times f_{sp} \\times f_{sb}\n",
    "$$"
   ]
  },
  {
   "cell_type": "markdown",
   "metadata": {},
   "source": [
    "$$\n",
    "\\displaystyle W'_{b2} = W_{b2} \\times f_{sb}\n",
    "$$"
   ]
  },
  {
   "cell_type": "markdown",
   "metadata": {},
   "source": [
    "$$\n",
    "\\displaystyle W'_{ba1} = W_{ba1} \\times f_{sp}\n",
    "$$"
   ]
  },
  {
   "cell_type": "markdown",
   "metadata": {},
   "source": [
    "Where  \n",
    "$ \\displaystyle W'_k $ is the daily hot water supply amount corrected for hot water saving by the kitchen./ 1 日当たりの台所水栓における節湯補正給湯量(L/day)  \n",
    "$ \\displaystyle W'_s $ is the daily hot water supply amount corrected for hot water saving by the shower./ 1 日当たりの浴室シャワー水栓における節湯補正給湯量(L/day)  \n",
    "$ \\displaystyle W'_w $ is the daily hot water supply amount corrected for hot water saving by the washroom./ 1 日当たりの洗面水栓における節湯補正給湯量(L/day)  \n",
    "$ \\displaystyle W'_{b1} $ is the daily hot water supply amount corrected for hot water saving by filling the bathtub manually./ 1 日当たりの浴槽水栓湯はり時における節湯補正給湯量(L/day)  \n",
    "$ \\displaystyle W'_{b2} $ is the daily hot water supply amount corrected for hot water saving by filling the bathtub automatically./ 1 日当たりの浴槽自動湯はり時における節湯補正給湯量(L/day)  \n",
    "$ \\displaystyle W'_{ba1} $ is the daily hot water supply amount corrected for hot water saving by addition of hot water to bathtub./ 1 日当たりの浴槽水栓さし湯時における節湯補正給湯量(L/day)  \n",
    "$ \\displaystyle W_k $ is the daily reference hot water supply amount by the kitchen./ 1 日当たりの台所水栓における基準給湯量(L/day)  \n",
    "$ \\displaystyle W_s $ is the daily reference hot water supply amount by the shower./ 1 日当たりの浴室シャワー水栓における基準給湯量(L/day)  \n",
    "$ \\displaystyle W_w $ is the daily reference hot water supply amount by the washroom./ 1 日当たりの洗面水栓における基準給湯量(L/day)  \n",
    "$ \\displaystyle W_{b1} $ is the daily reference hot water supply amount by filling the bathtub manually./ 1 日当たりの浴槽水栓湯はり時における基準給湯量(L/day)  \n",
    "$ \\displaystyle W_{b2} $ is the daily reference hot water supply amount by filling the bathtub automatically./ 1 日当たりの浴槽自動湯はり時における基準給湯量(L/day)  \n",
    "$ \\displaystyle W_{ba1} $ is the daily reference hot water supply amount by addition of hot water to bathtub./ 1 日当たりの浴槽水栓さし湯時における基準給湯量(L/day)  \n",
    "$ \\displaystyle f_{sk} $ is the effect factor of the hot water by the kitchen./ 台所水栓における節湯の効果係数  \n",
    "$ \\displaystyle f_{ss} $ is the effect factor of the hot water by the shower./ 浴室シャワー水栓における節湯の効果係数  \n",
    "$ \\displaystyle f_{sw} $ is the effect factor of the hot water by the washroom./ 洗面水栓における節湯の効果係数  \n",
    "$ \\displaystyle f_{sp} $ is the effect factor of the hot water by the ductwork./ 配管における節湯の効果係数  \n",
    "$ \\displaystyle f_{sb} $ is the effect factor of the hot water by the bathtub ./ 浴槽における節湯の効果係数  "
   ]
  },
  {
   "cell_type": "markdown",
   "metadata": {},
   "source": [
    "The value of the effect factor of the hot water $ \\displaystyle f_{sk} $、$ \\displaystyle f_{ss} $、$ \\displaystyle f_{sw} $ and $ \\displaystyle f_{sp} $ is determined by Appendix J."
   ]
  },
  {
   "cell_type": "code",
   "execution_count": 38,
   "metadata": {},
   "outputs": [],
   "source": [
    "def get_W_dash_k(W_k, f_sk_A_apply = 'None', f_sk_C_apply = 'None', f_sp_apply = 'None'):\n",
    "    f_sk_A = 1.00\n",
    "    f_sk_C = 1.00\n",
    "    f_sp = 1.00\n",
    "    if f_sk_A_apply == 'Saving':f_sk_A = 0.91\n",
    "    if f_sk_C_apply == 'Saving':f_sk_C = 0.70\n",
    "    if f_sp_apply == 'Saving':f_sp = 0.95\n",
    "    \n",
    "    f_sk = f_sk_A * f_sk_C\n",
    "    \n",
    "    # 付録Jを参照できない\n",
    "    #_sk = WaterSaving.get_f_sk(f_sk_A_apply, f_sk_C_apply)\n",
    "    #_sp = WwaterSaving.get_f_sp(f_sp_apply)\n",
    "    \n",
    "    W_dash_k = W_k * f_sk * f_sp\n",
    "    return W_dash_k"
   ]
  },
  {
   "cell_type": "code",
   "execution_count": 39,
   "metadata": {},
   "outputs": [],
   "source": [
    "def get_W_dash_s(W_s, f_ss_A_apply = 'None', f_ss_B_apply = 'None', f_sp_apply = 'None'):\n",
    "    f_ss_A = 1.00\n",
    "    f_ss_B = 1.00\n",
    "    f_sp = 1.00\n",
    "    if f_ss_A_apply == 'Saving':f_ss_A = 0.80\n",
    "    if f_ss_B_apply == 'Saving':f_ss_B = 0.85\n",
    "    if f_sp_apply == 'Saving':f_sp = 0.95\n",
    "    \n",
    "    f_ss = f_ss_A * f_ss_B\n",
    "    \n",
    "    # 付録Jを参照できない\n",
    "    #f_ss = WaterSaving.get_f_ss(f_ss_A_apply, f_ss_B_apply)\n",
    "    #f_sp = WaterSaving.get_f_sp(f_sp_apply)\n",
    "    W_dash_s = W_s * f_ss * f_sp\n",
    "    return W_dash_s"
   ]
  },
  {
   "cell_type": "code",
   "execution_count": 40,
   "metadata": {},
   "outputs": [],
   "source": [
    "def get_W_dash_w(W_w, f_sw_C_apply = 'None', f_sp_apply = 'None'):\n",
    "    f_sw = 1.00\n",
    "    f_sp = 1.00\n",
    "    if f_sw_C_apply == 'Saving':f_sw = 0.70\n",
    "    if f_sp_apply == 'Saving':f_sp = 0.95\n",
    "    \n",
    "    # 付録Jを参照できない\n",
    "    #f_sw = WaterSaving.get_f_sw(f_sw_C_apply)\n",
    "    #f_sp = WaterSaving.get_f_sp(f_sp_apply)\n",
    "    W_dash_w = W_w * f_sw * f_sp\n",
    "    return W_dash_w"
   ]
  },
  {
   "cell_type": "code",
   "execution_count": 41,
   "metadata": {},
   "outputs": [],
   "source": [
    "def get_W_dash_b1(W_b1, f_sp_apply = 'None'):\n",
    "    f_sp = 1.00\n",
    "    f_sb = 1.00\n",
    "    if f_sp_apply == 'Saving':f_sp = 0.95\n",
    "    \n",
    "    W_dash_b1 = W_b1 * f_sp * f_sb    \n",
    "    return W_dash_b1"
   ]
  },
  {
   "cell_type": "code",
   "execution_count": 42,
   "metadata": {},
   "outputs": [],
   "source": [
    "def get_W_dash_b2(W_b2):\n",
    "    f_sb = 1.00\n",
    "    W_dash_b2 = W_b2 * f_sb\n",
    "    return W_dash_b2"
   ]
  },
  {
   "cell_type": "code",
   "execution_count": 43,
   "metadata": {},
   "outputs": [],
   "source": [
    "def get_W_dash_ba1(W_ba1, f_sp_apply):\n",
    "    f_sp = 1.00\n",
    "    if f_sp_apply == 'Saving':f_sp=0.95\n",
    "    \n",
    "    W_dash_ba1 = W_ba1 * f_sp\n",
    "    return W_dash_ba1"
   ]
  },
  {
   "cell_type": "markdown",
   "metadata": {},
   "source": [
    "#### Exapmle"
   ]
  },
  {
   "cell_type": "markdown",
   "metadata": {},
   "source": [
    "Daily reference hot water supply amount for use of $u$ is calculated by the equation below."
   ]
  },
  {
   "cell_type": "code",
   "execution_count": 44,
   "metadata": {},
   "outputs": [
    {
     "data": {
      "text/plain": [
       "60.515"
      ]
     },
     "execution_count": 44,
     "metadata": {},
     "output_type": "execute_result"
    }
   ],
   "source": [
    "get_W_dash_k(W_k = 100, f_sk_A_apply = 'Saving', f_sk_C_apply = 'Saving', f_sp_apply = 'Saving')"
   ]
  },
  {
   "cell_type": "code",
   "execution_count": 45,
   "metadata": {},
   "outputs": [
    {
     "data": {
      "text/plain": [
       "100.0"
      ]
     },
     "execution_count": 45,
     "metadata": {},
     "output_type": "execute_result"
    }
   ],
   "source": [
    "get_W_dash_k(W_k=100)"
   ]
  },
  {
   "cell_type": "code",
   "execution_count": 46,
   "metadata": {},
   "outputs": [
    {
     "data": {
      "text/plain": [
       "64.6"
      ]
     },
     "execution_count": 46,
     "metadata": {},
     "output_type": "execute_result"
    }
   ],
   "source": [
    "get_W_dash_s(W_s = 100, f_ss_A_apply = 'Saving' , f_ss_B_apply = 'Saving', f_sp_apply = 'Saving')"
   ]
  },
  {
   "cell_type": "code",
   "execution_count": 47,
   "metadata": {},
   "outputs": [
    {
     "data": {
      "text/plain": [
       "66.5"
      ]
     },
     "execution_count": 47,
     "metadata": {},
     "output_type": "execute_result"
    }
   ],
   "source": [
    "get_W_dash_w(W_w = 100, f_sw_C_apply = 'Saving', f_sp_apply = 'Saving')"
   ]
  },
  {
   "cell_type": "code",
   "execution_count": 48,
   "metadata": {},
   "outputs": [
    {
     "data": {
      "text/plain": [
       "50.0"
      ]
     },
     "execution_count": 48,
     "metadata": {},
     "output_type": "execute_result"
    }
   ],
   "source": [
    "get_W_dash_b1(W_b1=50, f_sp_apply = 'None')"
   ]
  },
  {
   "cell_type": "code",
   "execution_count": 49,
   "metadata": {},
   "outputs": [
    {
     "data": {
      "text/plain": [
       "100.0"
      ]
     },
     "execution_count": 49,
     "metadata": {},
     "output_type": "execute_result"
    }
   ],
   "source": [
    "get_W_dash_b2(W_b2 = 100)"
   ]
  },
  {
   "cell_type": "code",
   "execution_count": 50,
   "metadata": {},
   "outputs": [
    {
     "data": {
      "text/plain": [
       "95.0"
      ]
     },
     "execution_count": 50,
     "metadata": {},
     "output_type": "execute_result"
    }
   ],
   "source": [
    "get_W_dash_ba1(W_ba1 = 100, f_sp_apply = 'Saving')"
   ]
  },
  {
   "cell_type": "markdown",
   "metadata": {},
   "source": [
    "## 10.基準給湯量"
   ]
  },
  {
   "cell_type": "markdown",
   "metadata": {},
   "source": [
    "1日当たりの用途$u$の基準給湯量は下式により表される。"
   ]
  },
  {
   "cell_type": "markdown",
   "metadata": {},
   "source": [
    "$$\n",
    "\\displaystyle\n",
    "W_k = \\left\\{ \\begin{array}{ll}\n",
    "    W_{k,p}|_{p=1} \\times \\frac{2 - n_p}{2 - 1} + W_{k,p}|_{p=2} \\times \\frac{n_p - 1}{2 - 1} & (1 \\leq n_p < 2)\\\\ \n",
    "    W_{k,p}|_{p=2} \\times \\frac{3 - n_p}{3 - 2} + W_{k,p}|_{p=3} \\times \\frac{n_p - 2}{3 - 2} & (2 \\leq n_p < 3)\\\\ \n",
    "    W_{k,p}|_{p=3} \\times \\frac{4 - n_p}{4 - 3} + W_{k,p}|_{p=4} \\times \\frac{n_p - 3}{4 - 3} & (3 \\leq n_p \\leq 4)\\\\ \n",
    "    \\end{array}\n",
    "\\right.\n",
    "$$"
   ]
  },
  {
   "cell_type": "markdown",
   "metadata": {},
   "source": [
    "$$\n",
    "\\displaystyle\n",
    "W_s = \\left\\{ \\begin{array}{ll}\n",
    "    W_{s,p}|_{p=1} \\times \\frac{2 - n_p}{2 - 1} + W_{s,p}|_{p=2} \\times \\frac{n_p - 1}{2 - 1} & (1 \\leq n_p < 2)\\\\ \n",
    "    W_{s,p}|_{p=2} \\times \\frac{3 - n_p}{3 - 2} + W_{s,p}|_{p=3} \\times \\frac{n_p - 2}{3 - 2} & (2 \\leq n_p < 3)\\\\ \n",
    "    W_{s,p}|_{p=3} \\times \\frac{4 - n_p}{4 - 3} + W_{s,p}|_{p=4} \\times \\frac{n_p - 3}{4 - 3} & (3 \\leq n_p \\leq 4)\\\\ \n",
    "    \\end{array}\n",
    "\\right.\n",
    "$$"
   ]
  },
  {
   "cell_type": "markdown",
   "metadata": {},
   "source": [
    "$$\n",
    "\\displaystyle\n",
    "W_w = \\left\\{ \\begin{array}{ll}\n",
    "    W_{w,p}|_{p=1} \\times \\frac{2 - n_p}{2 - 1} + W_{w,p}|_{p=2} \\times \\frac{n_p - 1}{2 - 1} & (1 \\leq n_p < 2)\\\\ \n",
    "    W_{w,p}|_{p=2} \\times \\frac{3 - n_p}{3 - 2} + W_{w,p}|_{p=3} \\times \\frac{n_p - 2}{3 - 2} & (2 \\leq n_p < 3)\\\\ \n",
    "    W_{w,p}|_{p=3} \\times \\frac{4 - n_p}{4 - 3} + W_{w,p}|_{p=4} \\times \\frac{n_p - 3}{4 - 3} & (3 \\leq n_p \\leq 4)\\\\ \n",
    "    \\end{array}\n",
    "\\right.\n",
    "$$"
   ]
  },
  {
   "cell_type": "markdown",
   "metadata": {},
   "source": [
    "Where  \n",
    "$ \\displaystyle W_{k} $ is the daily reference hot water supply amount by the kitchen./ 1 日当たりの台所水栓における基準給湯量(L/day)  \n",
    "$ \\displaystyle W_{k,p} $ is the daily reference hot water supply amount by the kitchen for residents of $p$./ 1 日当たりの居住人数が$p$人における台所水栓における基準給湯量(L/day)  \n",
    "$ \\displaystyle W_{s} $ is the daily reference hot water supply amount by the shower./ 1 日当たりの浴室シャワー水栓における基準給湯量(L/day)  \n",
    "$ \\displaystyle W_{s,p} $ is the daily reference hot water supply amount by the shower for residents of $p$./ 1 日当たりの居住人数が$p$人における浴室シャワー水栓における基準給湯量(L/day)  \n",
    "$ \\displaystyle W_{w} $ is the daily reference hot water supply amount by the washroom./ 1 日当たりの洗面水栓における基準給湯量(L/day)  \n",
    "$ \\displaystyle W_{w,p} $ is the daily reference hot water supply amount by the washroom for residents of $p$./ 1 日当たりの居住人数が$p$人における洗面水栓における基準給湯量(L/day)  \n",
    "$ \\displaystyle n_p $ is the virtual resident number./ 仮想居住人数"
   ]
  },
  {
   "cell_type": "markdown",
   "metadata": {},
   "source": [
    "The daily reference hot water supply amount by the kitchen $ \\displaystyle W_{k,p} $ for residents of $p$, the daily reference hot water supply amount by the shower $ \\displaystyle W_{s,p} $ for residents of $p$ and the daily reference hot water supply amount by the washroom $ \\displaystyle W_{w,p} $ for residents of $p$ are determined from Table 6, depending on the living schedule and the number of residents determined by Chapter 11, Section 3 \"Life Schedule\".  \n",
    "The daily reference hot water supply amount by filling the bathtub manually $ \\displaystyle W_{b1} $ occurs only when the type of bath function is hot water supply single function. The daily reference hot water supply amount by filling the bathtub automatically $ \\displaystyle W_{b2} $ occurs when the type of the bath function is a bath water heater (no additional heating) or a bath water heater (with additional heating). In both cases, it is assumed that it is equal to the daily reference hot water supply amount by filling the bathtub $ \\displaystyle W_{b} $."
   ]
  },
  {
   "cell_type": "markdown",
   "metadata": {},
   "source": [
    "Daily reference hot water supply amount by filling the bathtub $ \\displaystyle W_{b} $ is calculated by the equation below."
   ]
  },
  {
   "cell_type": "markdown",
   "metadata": {},
   "source": [
    "$$\n",
    "\\displaystyle\n",
    "W_b = \\left\\{ \\begin{array}{ll}\n",
    "    W_{b,p}|_{p=1} \\times \\frac{2 - n_p}{2 - 1} + W_{b,p}|_{p=2} \\times \\frac{n_p - 1}{2 - 1} & (1 \\leq n_p < 2)\\\\ \n",
    "    W_{b,p}|_{p=2} \\times \\frac{3 - n_p}{3 - 2} + W_{b,p}|_{p=3} \\times \\frac{n_p - 2}{3 - 2} & (2 \\leq n_p < 3)\\\\ \n",
    "    W_{b,p}|_{p=3} \\times \\frac{4 - n_p}{4 - 3} + W_{b,p}|_{p=4} \\times \\frac{n_p - 3}{4 - 3} & (3 \\leq n_p \\leq 4)\\\\ \n",
    "    \\end{array}\n",
    "\\right.\n",
    "$$"
   ]
  },
  {
   "cell_type": "markdown",
   "metadata": {},
   "source": [
    "Where  \n",
    "$ \\displaystyle W_{b} $ is the daily reference hot water supply amount by filling the bathtub./ 1 日当たりの浴槽湯はり時における基準給湯量(L/day)  \n",
    "$ \\displaystyle W_{b,p} $ is the daily reference hot water supply amount by filling the bathtub for residents of $p$./ 1 日当たりの居住人数が$p$人における浴槽湯はり時における基準給湯量(L/day)  \n",
    "$ \\displaystyle n_p $ is the virtual resident number./ 仮想居住人数"
   ]
  },
  {
   "cell_type": "markdown",
   "metadata": {},
   "source": [
    "The daily reference hot water supply amount by filling the bathtub $ \\displaystyle W_{b,p} $ for residents of $p$ is determined from Table 6, depending on the living schedule and the number of residents determined by Chapter 11, Section 3 \"Life Schedule\"."
   ]
  },
  {
   "cell_type": "code",
   "execution_count": 51,
   "metadata": {},
   "outputs": [],
   "source": [
    "def get_W_u(_system_exist, use, person, day):\n",
    "    \n",
    "    # 次のいずれかの変数を指定する。\n",
    "    # W_k, W_s, W_w, W_b\n",
    "    \n",
    "    # 浴室の有無による取得データの判定\n",
    "    if use == 'W_s':\n",
    "        if _system_exist == SystemExistance.ExistWithBath:\n",
    "            use = 'W_s_ari'\n",
    "        elif _system_exist == SystemExistance.ExistWithoutBath:\n",
    "            use = 'W_s_nasi'\n",
    "    \n",
    "    if use == 'W_b':\n",
    "        if _system_exist == SystemExistance.ExistWithBath:\n",
    "            use = 'W_b_ari'\n",
    "        elif _system_exist == SystemExistance.ExistWithoutBath:\n",
    "            use = 'W_b_nasi'\n",
    "    \n",
    "    data = {\n",
    "        'p4' : {\n",
    "            'SKD_W.HH_L' : {'W_k' : 184, 'W_s_ari' : 240, 'W_s_nasi' : 0, 'W_w' : 46, 'W_b_ari' : 180, 'W_b_nasi' : 0}, \n",
    "            'SKD_W.HH_S' : {'W_k' : 140, 'W_s_ari' : 200, 'W_s_nasi' : 0, 'W_w' : 30, 'W_b_ari' : 180, 'W_b_nasi' : 0}, \n",
    "            'SKD_W.W_L'  : {'W_k' : 136, 'W_s_ari' : 200, 'W_s_nasi' : 0, 'W_w' : 34, 'W_b_ari' : 180, 'W_b_nasi' : 0}, \n",
    "            'SKD_W.W_M'  : {'W_k' : 92, 'W_s_ari' : 150, 'W_s_nasi' : 0, 'W_w' : 28, 'W_b_ari' : 180, 'W_b_nasi' : 0}, \n",
    "            'SKD_W.W_S'  : {'W_k' : 62, 'W_s_ari' : 100, 'W_s_nasi' : 0, 'W_w' : 8, 'W_b_ari' : 180, 'W_b_nasi' : 0}, \n",
    "            'SKD_W.HA'   : {'W_k' : 32, 'W_s_ari' : 190, 'W_s_nasi' : 0, 'W_w' : 28, 'W_b_ari' : 0, 'W_b_nasi' : 0}\n",
    "        }, \n",
    "        'p3' : {\n",
    "            'SKD_W.HH_L' : {'W_k' : 164, 'W_s_ari' : 210, 'W_s_nasi' : 0, 'W_w' : 46, 'W_b_ari' : 180, 'W_b_nasi' : 0}, \n",
    "            'SKD_W.HH_S' : {'W_k' : 136, 'W_s_ari' : 160, 'W_s_nasi' : 0, 'W_w' : 24, 'W_b_ari' : 180, 'W_b_nasi' : 0}, \n",
    "            'SKD_W.W_L' : {'W_k' : 132, 'W_s_ari' : 160, 'W_s_nasi' : 0, 'W_w' : 28, 'W_b_ari' : 180, 'W_b_nasi' : 0}, \n",
    "            'SKD_W.W_M' : {'W_k' : 88, 'W_s_ari' : 110, 'W_s_nasi' : 0, 'W_w' : 22, 'W_b_ari' : 180, 'W_b_nasi' : 0},\n",
    "            'SKD_W.W_S' : {'W_k' : 48, 'W_s_ari' : 60, 'W_s_nasi' : 0, 'W_w' : 12, 'W_b_ari' : 180, 'W_b_nasi' : 0},\n",
    "            'SKD_W.HA' :  {'W_k' : 58, 'W_s_ari' : 110, 'W_s_nasi' : 0, 'W_w' : 32, 'W_b_ari' : 0, 'W_b_nasi' : 0}        \n",
    "        },\n",
    "        'p2' : {\n",
    "            'SKD_W.HH_L' : {'W_k' : 128, 'W_s_ari' : 130, 'W_s_nasi' : 0, 'W_w' : 32, 'W_b_ari' : 180, 'W_b_nasi' : 0},\n",
    "            'SKD_W.HH_S' : {'W_k' : 96, 'W_s_ari' : 70, 'W_s_nasi' : 0, 'W_w' : 24, 'W_b_ari' : 180, 'W_b_nasi' : 0},\n",
    "            'SKD_W.W_L' : {'W_k' : 96, 'W_s_ari' : 70, 'W_s_nasi' : 0, 'W_w' : 24, 'W_b_ari' : 180, 'W_b_nasi' : 0},\n",
    "            'SKD_W.W_M' : {'W_k' : 44, 'W_s_ari' : 30, 'W_s_nasi' : 0, 'W_w' : 16, 'W_b_ari' : 180, 'W_b_nasi' : 0},\n",
    "            'SKD_W.W_S' : {'W_k' : 44, 'W_s_ari' : 110, 'W_s_nasi' : 0, 'W_w' : 16, 'W_b_ari' : 0, 'W_b_nasi' : 0},\n",
    "            'SKD_W.HA' : {'W_k' : 38, 'W_s_ari' : 20, 'W_s_nasi' : 0, 'W_w' : 12, 'W_b_ari' : 0, 'W_b_nasi' : 0}\n",
    "        },\n",
    "        'p1' : {\n",
    "            'SKD_W.HH_L' : {'W_k' : 28, 'W_s_ari' : 80, 'W_s_nasi' : 0, 'W_w' : 32, 'W_b_ari' : 180, 'W_b_nasi' : 0},\n",
    "            'SKD_W.HH_S' : {'W_k' : 26, 'W_s_ari' : 20, 'W_s_nasi' : 0, 'W_w' : 24, 'W_b_ari' : 180, 'W_b_nasi' : 0},\n",
    "            'SKD_W.W_L' : {'W_k' : 26, 'W_s_ari' : 20, 'W_s_nasi' : 0, 'W_w' : 24, 'W_b_ari' : 180, 'W_b_nasi' : 0},\n",
    "            'SKD_W.W_M' : {'W_k' : 54, 'W_s_ari' : 90, 'W_s_nasi' : 0, 'W_w' : 36, 'W_b_ari' : 0, 'W_b_nasi' : 0},\n",
    "            'SKD_W.W_S' : {'W_k' : 34, 'W_s_ari' : 60, 'W_s_nasi' : 0, 'W_w' : 16, 'W_b_ari' : 0, 'W_b_nasi' : 0},\n",
    "            'SKD_W.HA' : {'W_k' : 8, 'W_s_ari' : 20, 'W_s_nasi' : 0, 'W_w' : 12, 'W_b_ari' : 0, 'W_b_nasi' : 0}\n",
    "        }\n",
    "    }\n",
    "\n",
    "    return data[person]['SKD_W.' + LS.get_Schedule('HotWaterSupply', day).name][use]\n",
    "    "
   ]
  },
  {
   "cell_type": "markdown",
   "metadata": {},
   "source": [
    "#### Example"
   ]
  },
  {
   "cell_type": "code",
   "execution_count": 52,
   "metadata": {},
   "outputs": [
    {
     "data": {
      "text/plain": [
       "30"
      ]
     },
     "execution_count": 52,
     "metadata": {},
     "output_type": "execute_result"
    }
   ],
   "source": [
    "get_W_u(SystemExistance.ExistWithBath, 'W_s', 'p2', '1/2')"
   ]
  },
  {
   "cell_type": "code",
   "execution_count": 53,
   "metadata": {},
   "outputs": [
    {
     "data": {
      "text/plain": [
       "184"
      ]
     },
     "execution_count": 53,
     "metadata": {},
     "output_type": "execute_result"
    }
   ],
   "source": [
    "get_W_u(SystemExistance.ExistWithBath, 'W_k', 'p4', '1/1')"
   ]
  },
  {
   "cell_type": "code",
   "execution_count": 54,
   "metadata": {},
   "outputs": [
    {
     "data": {
      "text/plain": [
       "0"
      ]
     },
     "execution_count": 54,
     "metadata": {},
     "output_type": "execute_result"
    }
   ],
   "source": [
    "get_W_u(SystemExistance.ExistWithoutBath, 'W_b', 'p3', '1/1')"
   ]
  },
  {
   "cell_type": "code",
   "execution_count": 55,
   "metadata": {},
   "outputs": [],
   "source": [
    "def get_W_k(_system_exist, n_p, day):\n",
    "    if n_p < 1:\n",
    "        raise Exception('Number of person should not be less than 1 person.')\n",
    "    elif 1 <= n_p < 2:\n",
    "        return get_W_u(_system_exist, \"W_k\", 'p1', day) * (2 - n_p) / (2 - 1) + get_W_u(_system_exist, \"W_k\", 'p2', day)  * (n_p - 1) / (2 - 1)\n",
    "    elif  2 <= n_p < 3:\n",
    "        return get_W_u(_system_exist, \"W_k\", 'p2', day) * (3 - n_p) / (3 - 2) + get_W_u(_system_exist, \"W_k\", 'p3', day)  * (n_p - 2) / (3 - 2)\n",
    "    elif  3 <= n_p <= 4:\n",
    "        return get_W_u(_system_exist, \"W_k\", 'p3', day) * (4 - n_p) / (4 - 3) + get_W_u(_system_exist, \"W_k\", 'p4', day)  * (n_p - 3) / (4 - 3)\n",
    "    else:\n",
    "        raise Exception('Number of person should not be over 4 persons.')"
   ]
  },
  {
   "cell_type": "code",
   "execution_count": 56,
   "metadata": {},
   "outputs": [],
   "source": [
    "def get_W_s(_system_exist, n_p, day):\n",
    "    if n_p < 1:\n",
    "        raise Exception('Number of person should not be less than 1 person.')\n",
    "    elif 1 <= n_p < 2:\n",
    "        return get_W_u(_system_exist, 'W_s', 'p1', day) * (2 - n_p) / (2 - 1) + get_W_u(_system_exist, 'W_s', 'p2', day)  * (n_p - 1) / (2 - 1)\n",
    "    elif  2 <= n_p < 3:\n",
    "        return get_W_u(_system_exist, 'W_s', 'p2', day) * (3 - n_p) / (3 - 2) + get_W_u(_system_exist, 'W_s', 'p3', day)  * (n_p - 2) / (3 - 2)\n",
    "    elif  3 <= n_p <= 4:\n",
    "        return get_W_u(_system_exist, 'W_s', 'p3', day) * (4 - n_p) / (4 - 3) + get_W_u(_system_exist, 'W_s', 'p4', day)  * (n_p - 3) / (4 - 3)\n",
    "    else:\n",
    "        raise Exception('Number of person should not be over 4 persons.')"
   ]
  },
  {
   "cell_type": "code",
   "execution_count": 57,
   "metadata": {},
   "outputs": [],
   "source": [
    "def get_W_w(_system_exist, n_p, day):\n",
    "    if n_p < 1:\n",
    "        raise Exception('Number of person should not be less than 1 person.')\n",
    "    elif 1 <= n_p < 2:\n",
    "        return get_W_u(_system_exist, 'W_w', 'p1', day) * (2 - n_p) / (2 - 1) + get_W_u(_system_exist, 'W_w', 'p2', day)  * (n_p - 1) / (2 - 1)\n",
    "    elif  2 <= n_p < 3:\n",
    "        return get_W_u(_system_exist, 'W_w', 'p2', day) * (3 - n_p) / (3 - 2) + get_W_u(_system_exist, 'W_w', 'p3', day) * (n_p - 2) / (3 - 2)\n",
    "    elif  3 <= n_p <= 4:\n",
    "        return get_W_u(_system_exist, 'W_w', 'p3', day) * (4 - n_p) / (4 - 3) + get_W_u(_system_exist, 'W_w', 'p4', day)  * (n_p - 3) / (4 - 3)\n",
    "    else:\n",
    "        raise Exception('Number of person should not be over 4 persons.')\n"
   ]
  },
  {
   "cell_type": "markdown",
   "metadata": {},
   "source": [
    "#### Example"
   ]
  },
  {
   "cell_type": "code",
   "execution_count": 58,
   "metadata": {},
   "outputs": [
    {
     "data": {
      "text/plain": [
       "184.0"
      ]
     },
     "execution_count": 58,
     "metadata": {},
     "output_type": "execute_result"
    }
   ],
   "source": [
    "get_W_k(_system_exist = SystemExistance.ExistWithBath, n_p=4, day = '1/1')"
   ]
  },
  {
   "cell_type": "code",
   "execution_count": 59,
   "metadata": {},
   "outputs": [
    {
     "name": "stdout",
     "output_type": "stream",
     "text": [
      "176.0\n",
      "0.0\n"
     ]
    }
   ],
   "source": [
    "print(get_W_s(_system_exist = SystemExistance.ExistWithBath, n_p = 3.4, day = '12/31'))\n",
    "print(get_W_s(_system_exist = SystemExistance.ExistWithoutBath, n_p = 3.4, day = '12/31'))"
   ]
  },
  {
   "cell_type": "code",
   "execution_count": 60,
   "metadata": {},
   "outputs": [
    {
     "data": {
      "text/plain": [
       "39.0"
      ]
     },
     "execution_count": 60,
     "metadata": {},
     "output_type": "execute_result"
    }
   ],
   "source": [
    "get_W_w(_system_exist = SystemExistance.ExistWithBath, n_p = 2.5, day = '1/1')"
   ]
  },
  {
   "cell_type": "code",
   "execution_count": 61,
   "metadata": {},
   "outputs": [],
   "source": [
    "def get_W_b(_system_exist, n_p, day):\n",
    "    if n_p < 1:\n",
    "        raise Exception('Number of person should not be less than 1 person.')\n",
    "    elif 1 <= n_p < 2:\n",
    "        return get_W_u(_system_exist, 'W_b', 'p1', day) * (2 - n_p) / (2 - 1) + get_W_u(_system_exist, 'W_b', 'p2', day) * (n_p - 1) / (2 - 1)\n",
    "    elif 2 <= n_p < 3:\n",
    "        return get_W_u(_system_exist, 'W_b', 'p2', day) * (3 - n_p) / (3 - 2) + get_W_u(_system_exist, 'W_b', 'p3', day) * (n_p - 2) / (3 - 2)\n",
    "    elif 3 <= n_p <= 4:\n",
    "        return get_W_u(_system_exist, 'W_b', 'p3', day) * (4 - n_p) / (4 - 3) + get_W_u(_system_exist, 'W_b', 'p4', day) * (n_p - 3) / (4 - 3)\n",
    "    elif n_p > 4:\n",
    "        raise Exception('Number of person should not be more than 4 persons.')\n",
    "\n"
   ]
  },
  {
   "cell_type": "markdown",
   "metadata": {},
   "source": [
    "#### Example"
   ]
  },
  {
   "cell_type": "code",
   "execution_count": 62,
   "metadata": {},
   "outputs": [
    {
     "data": {
      "text/plain": [
       "180.0"
      ]
     },
     "execution_count": 62,
     "metadata": {},
     "output_type": "execute_result"
    }
   ],
   "source": [
    "get_W_b(_system_exist = SystemExistance.ExistWithBath, n_p =1.5, day = '1/1')"
   ]
  },
  {
   "cell_type": "markdown",
   "metadata": {},
   "source": [
    "#### <center>表6a  居住人数4人における基準給湯量(L/日)</center>\n",
    "\n",
    "|生活スケジュール|台所水栓|浴室シャワー水栓<br>浴室等が有る場合|浴室シャワー水栓<br>浴室等が無い場合|洗面水栓|浴槽湯はり<br>浴室等がある場合|浴槽湯はり<br>浴室等がない場合|\n",
    "|-|-|-|-|-|-|\n",
    "|休日在宅(大)|184|240|0|46|180|0|\n",
    "|休日在宅(小)|140|200|0|30|180|0|\n",
    "|　平日　(大)|136|200|0|34|180|0|\n",
    "|　平日　(中)|92 |150|0|28|180|0|\n",
    "|　平日　(小)|62 |100|0| 8|180|0|\n",
    "|休日外出　　|32 |190|0|28|  0|0|\n"
   ]
  },
  {
   "cell_type": "markdown",
   "metadata": {},
   "source": [
    "#### <center>表6b  居住人数3人における基準給湯量(L/日)</center>\n",
    "\n",
    "|生活スケジュール|台所水栓|浴室シャワー水栓<br>浴室等が有る場合|浴室シャワー水栓<br>浴室等が無い場合|洗面水栓|浴槽湯はり<br>浴室等がある場合|浴槽湯はり<br>浴室等がない場合|\n",
    "|-|-|-|-|-|-|\n",
    "|休日在宅(大)|164|210|0|46|180|0|\n",
    "|休日在宅(小)|136|160|0|24|180|0|\n",
    "|　平日　(大)|132|160|0|28|180|0|\n",
    "|　平日　(中)| 88|110|0|22|180|0|\n",
    "|　平日　(小)| 48|60 |0|12|180|0|\n",
    "|休日外出　　| 58|110|0|32|  0|0|\n",
    "\n"
   ]
  },
  {
   "cell_type": "markdown",
   "metadata": {},
   "source": [
    "#### <center>表6c  居住人数2人における基準給湯量(L/日)</center>\n",
    "\n",
    "|生活スケジュール|台所水栓|浴室シャワー水栓<br>浴室等が有る場合|浴室シャワー水栓<br>浴室等が無い場合|洗面水栓|浴槽湯はり<br>浴室等がある場合|浴槽湯はり<br>浴室等がない場合|\n",
    "|-|-|-|-|-|-|\n",
    "|休日在宅(大)|128|130|0|32|180|0|\n",
    "|休日在宅(小)| 96| 70|0|24|180|0|\n",
    "|　平日　(大)| 96| 70|0|24|180|0|\n",
    "|　平日　(中)| 44| 30|0|16|180|0|\n",
    "|　平日　(小)| 44|110|0|16|  0|0|\n",
    "|休日外出　　| 38| 20|0|12|  0|0|\n",
    "\n"
   ]
  },
  {
   "cell_type": "markdown",
   "metadata": {},
   "source": [
    "#### <center>表6d  居住人数1人における基準給湯量(L/日)</center>\n",
    "\n",
    "|生活スケジュール|台所水栓|浴室シャワー水栓<br>浴室等が有る場合|浴室シャワー水栓<br>浴室等が無い場合|洗面水栓|浴槽湯はり<br>浴室等がある場合|浴槽湯はり<br>浴室等がない場合|\n",
    "|-|-|-|-|-|-|\n",
    "|休日在宅(大)|28|80|0|32|180|0|\n",
    "|休日在宅(小)|26|20|0|24|180|0|\n",
    "|　平日　(大)|26|20|0|24|180|0|\n",
    "|　平日　(中)|54|90|0|36|  0|0|\n",
    "|　平日　(小)|34|60|0|16|  0|0|\n",
    "|休日外出　　| 8|20|0|12|  0|0|\n",
    "\n"
   ]
  },
  {
   "cell_type": "markdown",
   "metadata": {},
   "source": [
    "Daily reference hot water supply amount by addition of hot water to bathtub $W_{ba1}$ occurs only when the type of the bath function is a hot water supply single function or a bath water heater (without additional heating), and is calculated by the equation below."
   ]
  },
  {
   "cell_type": "markdown",
   "metadata": {},
   "source": [
    "$$\n",
    "\\displaystyle W_{ba1} = L_{ba} \\times \\frac{1}{(\\theta_{sw,ba1} - \\theta_{wtr})} \\times \\frac{1}{4.186} \\times 10^3\n",
    "$$"
   ]
  },
  {
   "cell_type": "markdown",
   "metadata": {},
   "source": [
    "Where  \n",
    "$ \\displaystyle W_{ba1} $ is the daily reference hot water supply amount by addition of hot water to bathtub. / 1 日当たりの浴槽水栓さし湯時における基準給湯量(L/day)  \n",
    "$ \\displaystyle L_{ba} $ is the daily hot water supply heat load by boiling the bathtub. / 1 日当たりの浴槽沸かし直しによる給湯熱負荷(MJ/day)  \n",
    "$ \\theta_{sw,ba1} $ is the reference hot water supply temperature by addition of hot water to bathtub. / 浴槽水栓さし湯時における基準給湯温度(℃)  \n",
    "$ \\theta_{wtr} $ is the daily average feed-water temperature. / 日平均給水温度(℃)  "
   ]
  },
  {
   "cell_type": "markdown",
   "metadata": {},
   "source": [
    "The reference hot water supply temperature by addition of hot water to bathtub $ \\theta_{sw,ba1} $ is obtained from Table 5."
   ]
  },
  {
   "cell_type": "code",
   "execution_count": 63,
   "metadata": {},
   "outputs": [],
   "source": [
    "def get_W_ba1(input_Bath_Function, L_ba, theta_wtr):\n",
    "    \n",
    "    # definition\n",
    "    theta_sw_ba1 = 60\n",
    "    \n",
    "    if input_Bath_Function == 'Bath_Only' or input_Bath_Function == 'Bath_Without_Oidaki':\n",
    "        W_ba1 = L_ba * 1 / (theta_sw_ba1 - theta_wtr) * 1 / 4.186 * 10**3\n",
    "    else:\n",
    "        W_ba1 = 0\n",
    "    \n",
    "    return W_ba1"
   ]
  },
  {
   "cell_type": "markdown",
   "metadata": {},
   "source": [
    "#### Example"
   ]
  },
  {
   "cell_type": "code",
   "execution_count": 64,
   "metadata": {},
   "outputs": [
    {
     "data": {
      "text/plain": [
       "477.7830864787387"
      ]
     },
     "execution_count": 64,
     "metadata": {},
     "output_type": "execute_result"
    }
   ],
   "source": [
    "get_W_ba1(input_Bath_Function = 'Bath_Only', L_ba = 100, theta_wtr = 10)"
   ]
  },
  {
   "cell_type": "code",
   "execution_count": 65,
   "metadata": {},
   "outputs": [
    {
     "data": {
      "text/plain": [
       "0"
      ]
     },
     "execution_count": 65,
     "metadata": {},
     "output_type": "execute_result"
    }
   ],
   "source": [
    "get_W_ba1(input_Bath_Function = 'Bath_With_Oidaki', L_ba = 100, theta_wtr = 10)"
   ]
  },
  {
   "cell_type": "markdown",
   "metadata": {},
   "source": [
    "## 11.浴槽沸かし直しによる給湯熱負荷"
   ]
  },
  {
   "cell_type": "markdown",
   "metadata": {},
   "source": [
    "Daily hot water supply heat load by boiling the bathtub $L_{ba}$ is calculated by the equation below."
   ]
  },
  {
   "cell_type": "markdown",
   "metadata": {},
   "source": [
    "$$\n",
    "\\displaystyle\n",
    "L_{ba} = \\left\\{ \\begin{array}{ll}\n",
    "    L_{ba,p}|_{p=1} \\times \\frac{2 - n_p}{2 - 1} + L_{ba,p}|_{p=2} \\times \\frac{n_p - 1}{2 - 1} & (1 \\leq n_p < 2)\\\\ \n",
    "    L_{ba,p}|_{p=2} \\times \\frac{3 - n_p}{3 - 2} + L_{ba,p}|_{p=3} \\times \\frac{n_p - 2}{3 - 2} & (2 \\leq n_p < 3)\\\\ \n",
    "    L_{ba,p}|_{p=3} \\times \\frac{4 - n_p}{4 - 3} + L_{ba,p}|_{p=4} \\times \\frac{n_p - 3}{4 - 3} & (3 \\leq n_p \\leq 4)\\\\ \n",
    "    \\end{array}\n",
    "\\right.\n",
    "$$"
   ]
  },
  {
   "cell_type": "markdown",
   "metadata": {},
   "source": [
    "Where  \n",
    "$ \\displaystyle L_{ba} $ is the daily hot water supply heat load by boiling the bathtub. / 1日当たりの浴槽沸かし直しによる給湯熱負荷(MJ/day)  \n",
    "$ \\displaystyle L_{ba,p} $ is the daily hot water supply heat load by boiling the bathtub for residents of $p$./ 1 日当たりの居住人数が$p$人における浴槽沸かし直しによる給湯熱負荷(MJ/day)  \n",
    "$ \\displaystyle n_p $ is the virtual resident number./ 仮想居住人数"
   ]
  },
  {
   "cell_type": "markdown",
   "metadata": {},
   "source": [
    "Daily hot water supply heat load by boiling the bathtub $L_{ba,p}$ for residents of $p$ is calculated by the equation below."
   ]
  },
  {
   "cell_type": "markdown",
   "metadata": {},
   "source": [
    "$$\n",
    "\\displaystyle\n",
    "L_{ba,p} = \\left\\{ \\begin{array}{ll}\n",
    "    a_{ba,p} \\times \\theta_{ex,Ave} + b_{ba,p} & (W_{b,p} > 0)\\\\\n",
    "    0 & (W_{b,p} = 0)\\\\\n",
    "    \\end{array}\n",
    "\\right.\n",
    "$$"
   ]
  },
  {
   "cell_type": "markdown",
   "metadata": {},
   "source": [
    "Where  \n",
    "$ \\displaystyle L_{ba,p} $ is the daily hot water supply heat load by boiling the bathtub for residents of $p$./ 1 日当たりの居住人数が$p$人における浴槽沸かし直しによる給湯熱負荷(MJ/day)  \n",
    "$ \\displaystyle a_{ba,p}, b_{ba,p} $ is coefficient. / 係数  \n",
    "$ \\theta_{ex,Ave} $ is the daily average outside air temperature./ 日平均外気温度(℃)"
   ]
  },
  {
   "cell_type": "markdown",
   "metadata": {},
   "source": [
    "The coefficient $ \\displaystyle a_{ba} $ and $ \\displaystyle b_{ba} $ is determined by Table 7, depending on the daily average outdoor temperature condition and the type of bathtub, the number of people inhabited."
   ]
  },
  {
   "cell_type": "markdown",
   "metadata": {},
   "source": [
    "<center>表7　係数$a_{ba}$及び$b_{ba}$の値</center>\n",
    "\n",
    "|日平均外気温度の条件|浴槽の種類|4人<br>$a_{ba}$|4人<br>$b_{ba}$|3人<br>$a_{ba}$|3人<br>$b_{ba}$|2人<br>$a_{ba}$|2人<br>$b_{ba}$|1人<br>$a_{ba}$|1人<br>$b_{ba}$|\n",
    "|-|-|-|-|-|-|-|-|-|-|\n",
    "|7℃未満|通常浴槽|-0.12|6|-0.1|4.91|-0.06|3.02|0|0|\n",
    "|       |高断熱浴槽|-0.07|3.98|-0.06|3.22|-0.04|2.01|0|0|\n",
    "|7℃以上かつ16℃未満|通常浴槽|-0.13|6.04|-0.1|4.93|-0.06|3.04|0|0|\n",
    "|                   |高断熱浴槽|-0.08|4.02|-0.06|3.25|-0.04|2.03|0|0|\n",
    "|16℃以上かつ25℃未満|通常浴槽|-0.14|6.21|-0.11|5.07|-0.07|3.13|0|0|\n",
    "|                    |高断熱浴槽|-0.09|4.19|-0.07|3.39|-0.04|2.12|0|0|\n",
    "|25℃以上|通常浴槽|-0.12|5.81|-0.1|4.77|-0.06|2.92|0|0|\n",
    "|        |高断熱浴槽|-0.07|3.8|-0.06|3.09|-0.04|1.92|0|0|\n"
   ]
  },
  {
   "cell_type": "code",
   "execution_count": 66,
   "metadata": {},
   "outputs": [],
   "source": [
    "def get_L_ba_p(theta_ex_Ave, W_b_p, TypeOfBathtub, person):\n",
    "    \n",
    "    def get_coef_L_ba_p(theta_ex_Ave, TypeOfBathtub, person):\n",
    "        try:\n",
    "            if theta_ex_Ave < 7:\n",
    "                Cond_theta = 'under7'\n",
    "            elif 7 <= theta_ex_Ave < 16:\n",
    "                Cond_theta = '7to16'\n",
    "            elif 16 <= theta_ex_Ave < 25:\n",
    "                Cond_theta = '16to25'\n",
    "            elif theta_ex_Ave >= 25:\n",
    "                Cond_theta = '25over'\n",
    "\n",
    "            if person == 'p1':\n",
    "                return {'a_ba_p':0, 'b_ba_p':0}\n",
    "\n",
    "            elif person == 'p2' or person == 'p3' or person == 'p4':\n",
    "                a_ba_p = {'p2':{'under7':{'NormalBath' : -0.06, 'InsulationBath' : -0.04}, '7to16':{'NormalBath' : -0.06, 'InsulationBath' : -0.04}, '16to25':{'NormalBath' : -0.07, 'InsulationBath' : -0.04}, '25over':{'NormalBath' : -0.06, 'InsulationBath' : -0.04}},\n",
    "                          'p3':{'under7':{'NormalBath' : -0.10, 'InsulationBath' : -0.06}, '7to16':{'NormalBath' : -0.10, 'InsulationBath' : -0.06}, '16to25':{'NormalBath' : -0.11, 'InsulationBath' : -0.07}, '25over':{'NormalBath' : -0.10, 'InsulationBath' : -0.06}},\n",
    "                          'p4':{'under7':{'NormalBath' : -0.12, 'InsulationBath' : -0.07}, '7to16':{'NormalBath' : -0.13, 'InsulationBath' : -0.08}, '16to25':{'NormalBath' : -0.14, 'InsulationBath' : -0.09}, '25over':{'NormalBath' : -0.12, 'InsulationBath' : -0.07}}\n",
    "                         }\n",
    "\n",
    "                b_ba_p = {'p2':{'under7':{'NormalBath' : 3.02, 'InsulationBath' : 2.01}, '7to16':{'NormalBath' : 3.04, 'InsulationBath' : 2.03}, '16to25':{'NormalBath' : 3.13, 'InsulationBath' : 2.12}, '25over':{'NormalBath' : 2.92, 'InsulationBath' : 1.92}},\n",
    "                          'p3':{'under7':{'NormalBath' : 4.91, 'InsulationBath' : 3.22}, '7to16':{'NormalBath' : 4.93, 'InsulationBath' : 3.25}, '16to25':{'NormalBath' : 5.07, 'InsulationBath' : 3.39}, '25over':{'NormalBath' : 4.77, 'InsulationBath' : 3.09}},\n",
    "                          'p4':{'under7':{'NormalBath' : 6.00, 'InsulationBath' : 3.98}, '7to16':{'NormalBath' : 6.04, 'InsulationBath' : 4.02}, '16to25':{'NormalBath' : 6.21, 'InsulationBath' : 4.19}, '25over':{'NormalBath' : 5.81, 'InsulationBath' : 3.80}}\n",
    "                         }\n",
    "\n",
    "            return {'a_ba_p':a_ba_p[person][Cond_theta][TypeOfBathtub], 'b_ba_p':b_ba_p[person][Cond_theta][TypeOfBathtub]}\n",
    "\n",
    "        except:\n",
    "            return \"ERROR : Number of person should be between 1 and 4 persons or entry integers.\"\n",
    "    \n",
    "    \n",
    "    a_ba_p = get_coef_L_ba_p(theta_ex_Ave, TypeOfBathtub, person)['a_ba_p']\n",
    "    b_ba_p = get_coef_L_ba_p(theta_ex_Ave, TypeOfBathtub, person)['b_ba_p']\n",
    "    \n",
    "    if W_b_p > 0:\n",
    "        L_ba_p = a_ba_p * theta_ex_Ave + b_ba_p\n",
    "    elif W_b_p == 0:\n",
    "        L_ba_p = 0\n",
    "    else:\n",
    "        raise Exception('Hot water heat load should not be less than 0')\n",
    "    \n",
    "    return L_ba_p\n"
   ]
  },
  {
   "cell_type": "markdown",
   "metadata": {},
   "source": [
    "#### Example"
   ]
  },
  {
   "cell_type": "code",
   "execution_count": 67,
   "metadata": {},
   "outputs": [
    {
     "data": {
      "text/plain": [
       "7.563504"
      ]
     },
     "execution_count": 67,
     "metadata": {},
     "output_type": "execute_result"
    }
   ],
   "source": [
    "get_L_ba_p(theta_ex_Ave = -13.0292, W_b_p = 3, TypeOfBathtub = 'NormalBath', person = 'p4')"
   ]
  },
  {
   "cell_type": "code",
   "execution_count": 68,
   "metadata": {},
   "outputs": [
    {
     "data": {
      "text/plain": [
       "0"
      ]
     },
     "execution_count": 68,
     "metadata": {},
     "output_type": "execute_result"
    }
   ],
   "source": [
    "get_L_ba_p(theta_ex_Ave = 2, W_b_p = 0, TypeOfBathtub = 'NormalBath', person = 'p4')"
   ]
  },
  {
   "cell_type": "code",
   "execution_count": 69,
   "metadata": {},
   "outputs": [],
   "source": [
    "def get_L_ba(n_p, L_ba_p, L_ba_p_plus1):\n",
    "    if n_p < 1:\n",
    "        raise Exception('Number of person should not be less than 1 person.')\n",
    "    elif 1 <= n_p < 2:\n",
    "        return L_ba_p * (2 - n_p) / (2 - 1) + L_ba_p_plus1  * (n_p - 1) / (2 - 1)\n",
    "    elif  2 <= n_p < 3:\n",
    "        return L_ba_p * (3 - n_p) / (3 - 2) + L_ba_p_plus1  * (n_p - 2) / (3 - 2)\n",
    "    elif  3 <= n_p <= 4:\n",
    "        return L_ba_p * (4 - n_p) / (4 - 3) + L_ba_p_plus1  * (n_p - 3) / (4 - 3)\n",
    "    else:\n",
    "        raise Exception('Number of person should not be over 4 persons.')"
   ]
  },
  {
   "cell_type": "markdown",
   "metadata": {},
   "source": [
    "#### Example"
   ]
  },
  {
   "cell_type": "code",
   "execution_count": 70,
   "metadata": {
    "scrolled": true
   },
   "outputs": [
    {
     "data": {
      "text/plain": [
       "14.0"
      ]
     },
     "execution_count": 70,
     "metadata": {},
     "output_type": "execute_result"
    }
   ],
   "source": [
    "get_L_ba(n_p = 1.4, L_ba_p = 10, L_ba_p_plus1 = 20)"
   ]
  },
  {
   "cell_type": "markdown",
   "metadata": {},
   "source": [
    "## 12.日平均給水温度"
   ]
  },
  {
   "cell_type": "markdown",
   "metadata": {},
   "source": [
    "Daily average feed-water temperature $ \\theta_{wtr} $ is calculated by the equation below, depending on the outside air temperature."
   ]
  },
  {
   "cell_type": "markdown",
   "metadata": {},
   "source": [
    "$$\n",
    "\\displaystyle \\theta_{wtr} = max(a_{wtr} \\times \\theta_{ex,prd,Ave} + b_{wtr}, 0.5)\n",
    "$$"
   ]
  },
  {
   "cell_type": "markdown",
   "metadata": {},
   "source": [
    "Where  \n",
    "$ \\theta_{wtr} $ is the daily average feed-water temperature. / 日平均給水温度(℃)  \n",
    "$ \\theta_{ex,prd,Ave} $ is the average outside air temperature within a time frame. / 期間平均外気温度(℃)  \n",
    "$ \\displaystyle a_{wtr}, b_{wtr} $ is the regression coefficient when asking for the daily average feed-water temperature. / 日平均給水温度を求める際の回帰係数  "
   ]
  },
  {
   "cell_type": "markdown",
   "metadata": {},
   "source": [
    "The regression coefficient when asking for the daily average feed-water temperature $ \\displaystyle a_{wtr}, b_{wtr} $ is represented by Table 7, according to the division of the area specified in the notification."
   ]
  },
  {
   "cell_type": "markdown",
   "metadata": {},
   "source": [
    "<center>表8　日平均給水温度を求める際の回帰係数の値</center>\n",
    "\n",
    "|地域の区分|$a_{wtr}$|$b_{wtr}$|\n",
    "|-|-|-|\n",
    "|1|0.6639|3.466|\n",
    "|2|0.6639|3.466|\n",
    "|3|0.6054|4.515|\n",
    "|4|0.6054|4.515|\n",
    "|5|0.8660|1.665|\n",
    "|6|0.8516|2.473|\n",
    "|7|0.9223|2.097|\n",
    "|8|0.6921|7.167|"
   ]
  },
  {
   "cell_type": "code",
   "execution_count": 71,
   "metadata": {},
   "outputs": [],
   "source": [
    "def get_theta_wtr(theta_ex_prd_Ave, region):\n",
    "    a_wtr = {'Region1':0.6639, 'Region2':0.6639, 'Region3':0.6054, 'Region4':0.6054, 'Region5':0.8660, 'Region6':0.8516, 'Region7':0.9223, 'Region8':0.6921}\n",
    "    b_wtr = {'Region1':3.466,  'Region2':3.466,  'Region3':4.515,  'Region4':4.515,  'Region5':1.665,  'Region6':2.473,  'Region7':2.097,  'Region8':7.167}\n",
    "\n",
    "    return max(a_wtr[region] * theta_ex_prd_Ave + b_wtr[region], 0.5)"
   ]
  },
  {
   "cell_type": "markdown",
   "metadata": {},
   "source": [
    "#### Example"
   ]
  },
  {
   "cell_type": "markdown",
   "metadata": {},
   "source": [
    "$ \\theta_{ex,prd,Ave} $ = 10  \n",
    "地域 = 6地域  "
   ]
  },
  {
   "cell_type": "code",
   "execution_count": 72,
   "metadata": {},
   "outputs": [
    {
     "data": {
      "text/plain": [
       "10.989"
      ]
     },
     "execution_count": 72,
     "metadata": {},
     "output_type": "execute_result"
    }
   ],
   "source": [
    "get_theta_wtr(theta_ex_prd_Ave = 10, region = 'Region6')"
   ]
  },
  {
   "cell_type": "code",
   "execution_count": 73,
   "metadata": {},
   "outputs": [
    {
     "data": {
      "text/plain": [
       "0.5"
      ]
     },
     "execution_count": 73,
     "metadata": {},
     "output_type": "execute_result"
    }
   ],
   "source": [
    "get_theta_wtr(-7, 'Region2')"
   ]
  },
  {
   "cell_type": "markdown",
   "metadata": {
    "collapsed": true
   },
   "source": [
    "The period average outside air temperature$ \\theta_{ex,prd,Ave} $ is an average value of the daily average outside air temperature in 10 days from 1 day before to 10 days before, and is calculated by the equation below."
   ]
  },
  {
   "cell_type": "markdown",
   "metadata": {},
   "source": [
    "$$\n",
    "\\displaystyle \\theta_{ex,prd,Ave} = \\sum_{k = 1}^{10} \\theta_{ex,Ave,d-k} / 10\n",
    "$$"
   ]
  },
  {
   "cell_type": "markdown",
   "metadata": {},
   "source": [
    "Where  \n",
    "$ \\theta_{ex,Ave,d-k} $ is the daily average outside air temperature $k$ day's ago based on date $d$. / ݇日付݀$d$を基準とした$k$日前の日平均外気温度(℃)"
   ]
  },
  {
   "cell_type": "markdown",
   "metadata": {},
   "source": [
    "When $d - k$ is a number less than or equal to 0, it is read as $d - k +365$."
   ]
  },
  {
   "cell_type": "code",
   "execution_count": 74,
   "metadata": {},
   "outputs": [],
   "source": [
    "def get_theta_ex_prd_Ave(theta_ex_Ave):\n",
    "    return sum(theta_ex_Ave) / 10\n",
    "        "
   ]
  },
  {
   "cell_type": "markdown",
   "metadata": {},
   "source": [
    "#### Example"
   ]
  },
  {
   "cell_type": "markdown",
   "metadata": {},
   "source": [
    "1℃から10℃の10日間の温度の平均値を算出。"
   ]
  },
  {
   "cell_type": "code",
   "execution_count": 75,
   "metadata": {},
   "outputs": [
    {
     "data": {
      "text/plain": [
       "5.5"
      ]
     },
     "execution_count": 75,
     "metadata": {},
     "output_type": "execute_result"
    }
   ],
   "source": [
    "a = [1,2,3,4,5,6,7,8,9,10]\n",
    "get_theta_ex_prd_Ave(a)"
   ]
  },
  {
   "cell_type": "markdown",
   "metadata": {},
   "source": [
    "## 13.日平均外気温度"
   ]
  },
  {
   "cell_type": "markdown",
   "metadata": {},
   "source": [
    "The daily average outside air temperature $\\theta_{ex,Ave}$ is calculated by the equation below."
   ]
  },
  {
   "cell_type": "markdown",
   "metadata": {},
   "source": [
    "$$\n",
    "\\displaystyle \\theta_{ex,Ave} = \\sum^{23}_{t = 0} \\theta_{ex} / 24\n",
    "$$"
   ]
  },
  {
   "cell_type": "markdown",
   "metadata": {},
   "source": [
    "Where  \n",
    "$ \\theta_{ex,Ave} $ is the daily average outside air temperature. / ݇日平均外気温度(℃)  \n",
    "$ \\theta_{ex} $ is the outside air temperature. / ݇外気温度(℃)  "
   ]
  },
  {
   "cell_type": "code",
   "execution_count": 76,
   "metadata": {},
   "outputs": [],
   "source": [
    "def get_theta_ex_Ave(theta_ex):\n",
    "    return sum(theta_ex) / 24"
   ]
  },
  {
   "cell_type": "markdown",
   "metadata": {},
   "source": [
    "#### Example"
   ]
  },
  {
   "cell_type": "markdown",
   "metadata": {},
   "source": [
    "24時間の温度を使って日平均外気温度を算出。  \n",
    "0℃～23℃の平均"
   ]
  },
  {
   "cell_type": "code",
   "execution_count": 77,
   "metadata": {},
   "outputs": [
    {
     "data": {
      "text/plain": [
       "11.5"
      ]
     },
     "execution_count": 77,
     "metadata": {},
     "output_type": "execute_result"
    }
   ],
   "source": [
    "a = range(0,24)\n",
    "get_theta_ex_Ave(a)"
   ]
  },
  {
   "cell_type": "code",
   "execution_count": 78,
   "metadata": {},
   "outputs": [
    {
     "name": "stdout",
     "output_type": "stream",
     "text": [
      "(-7.8, -8.5, -8.7, -11.5, -11, -11, -11, -10.9, -11.6, -9.3, -3.6, -3.4, -3, -3.2, -3.7, -4.5, -5, -5.5, -6.7, -7.4, -8.5, -9.8, -10, -11.6)\n",
      "-7.8\n"
     ]
    }
   ],
   "source": [
    "a = () # tupleの初期化\n",
    "for time in range(0,24):\n",
    "    a += (EC.get_data(region = 'Region1', day = '12/31', hour = time)[0],)\n",
    "\n",
    "_a = get_theta_ex_Ave(a)\n",
    "    \n",
    "print(a)\n",
    "print(_a)"
   ]
  },
  {
   "cell_type": "markdown",
   "metadata": {},
   "source": [
    "## 14.夜間平均外気温度"
   ]
  },
  {
   "cell_type": "markdown",
   "metadata": {},
   "source": [
    "The nighttime average outside air temperature $\\theta_{ex,Nave}$ is an average of outside air temperatures from 23 o'clock of the previous day to 7 o'clock of the day and is calculated by the equation below."
   ]
  },
  {
   "cell_type": "markdown",
   "metadata": {},
   "source": [
    "$$\n",
    "\\displaystyle \\theta_{ex,Nave} = (\\theta_{ex,d-1,23} + \\sum^6_{t=0}\\theta_{ex})/8\n",
    "$$"
   ]
  },
  {
   "cell_type": "markdown",
   "metadata": {},
   "source": [
    "Where  \n",
    "$ \\theta_{ex,d-1,23} $ is the outside air temperature at 23 o'clock in date ݀$d-1$. / ݇日付݀$d-1$における 23 時における外気温度(℃)  \n",
    "$ \\theta_{ex} $ is the outside air temperature. / ݇外気温度(℃)  "
   ]
  },
  {
   "cell_type": "markdown",
   "metadata": {},
   "source": [
    "When $d - 1$ is 0, replace $d - 1$ with 365."
   ]
  },
  {
   "cell_type": "code",
   "execution_count": 79,
   "metadata": {},
   "outputs": [],
   "source": [
    "def get_theta_ex_Nave(theta_ex_dminus1, theta_ex):\n",
    "    return sum(theta_ex_dminus1, theta_ex) / 8"
   ]
  },
  {
   "cell_type": "markdown",
   "metadata": {},
   "source": [
    "#### Example"
   ]
  },
  {
   "cell_type": "markdown",
   "metadata": {},
   "source": [
    "0℃から8℃までの8時間分の外気温度の平均を算出。"
   ]
  },
  {
   "cell_type": "code",
   "execution_count": 80,
   "metadata": {},
   "outputs": [
    {
     "data": {
      "text/plain": [
       "5.75"
      ]
     },
     "execution_count": 80,
     "metadata": {},
     "output_type": "execute_result"
    }
   ],
   "source": [
    "a = [1,2,3,4,5,6,7,8]\n",
    "b = 10\n",
    "\n",
    "get_theta_ex_Nave(a, b)"
   ]
  },
  {
   "cell_type": "markdown",
   "metadata": {},
   "source": [
    "## 15.温水暖房の熱負荷"
   ]
  },
  {
   "cell_type": "markdown",
   "metadata": {},
   "source": [
    "The daily heat load of hot water heating $L_{HWH}$ is calculated by the equation below."
   ]
  },
  {
   "cell_type": "markdown",
   "metadata": {},
   "source": [
    "$$\n",
    "\\displaystyle L_{HWH} = \\sum^{23}_{t=0}L_{HWH,t}\n",
    "$$"
   ]
  },
  {
   "cell_type": "markdown",
   "metadata": {},
   "source": [
    "Where  \n",
    "$L_{HWH}$ is the daily heat load of hot water heating. / 1 日当たりの温水暖房の熱負荷(MJ/day)  \n",
    "$L_{HWH,t}$ is the heat load of hot water heating per hour at $t$ o'clock. / ݇時刻$t$における1 時間当たりの温水暖房の熱負荷(MJ/day)"
   ]
  },
  {
   "cell_type": "markdown",
   "metadata": {
    "collapsed": true
   },
   "source": [
    "The heat load of the hot water heating per hour $L_{HWH,d,t}$ at the time $t$ of the date $d$ is equal to the hot water heat demand of the heat source equipment per hour $Q_{dmd,hs,d,t}$ at the time $t$ of the date $d$ in Chapter 4, Section 7 \"Hot Water Heating\"."
   ]
  },
  {
   "cell_type": "code",
   "execution_count": 81,
   "metadata": {},
   "outputs": [],
   "source": [
    "def get_L_HWH(L_HWH_t):\n",
    "    return sum(L_HWH_t)"
   ]
  },
  {
   "cell_type": "markdown",
   "metadata": {},
   "source": [
    "#### Example"
   ]
  },
  {
   "cell_type": "markdown",
   "metadata": {
    "collapsed": true
   },
   "source": [
    "24時間分の温水暖房の熱負荷を合計して1日当たりの温水暖房の熱負荷を算出。"
   ]
  },
  {
   "cell_type": "code",
   "execution_count": 82,
   "metadata": {},
   "outputs": [
    {
     "data": {
      "text/plain": [
       "276"
      ]
     },
     "execution_count": 82,
     "metadata": {},
     "output_type": "execute_result"
    }
   ],
   "source": [
    "a = range(0,24)\n",
    "get_L_HWH(a)"
   ]
  },
  {
   "cell_type": "markdown",
   "metadata": {},
   "source": [
    "## Integration / 統合計算"
   ]
  },
  {
   "cell_type": "code",
   "execution_count": 83,
   "metadata": {},
   "outputs": [],
   "source": [
    "def L_2dash_u(_system_exist, region, A_A, TypeOfBathtub, input_Bath_Function, f_sk_A_apply, f_sk_C_apply, f_ss_A_apply, f_ss_B_apply, f_sw_C_apply, f_sp_apply, L_sun , day):\n",
    "    \n",
    "    # 仮想居住人数\n",
    "    def n_p(A_A):\n",
    "        if A_A <= 30:\n",
    "            return 1\n",
    "        elif A_A >= 120:\n",
    "            return 4\n",
    "        else:\n",
    "            return A_A / 30\n",
    "    \n",
    "    if n_p(A_A) ==1:\n",
    "        p = 'p1'\n",
    "        p_plus1 = 'p1'\n",
    "    elif n_p(A_A) == 4:\n",
    "        p = 'p4'\n",
    "        p_plus1 = 'p4'\n",
    "    else:\n",
    "        p = 'p' + str(int(n_p(A_A)))\n",
    "        p_plus1 = 'p' + str(int(n_p(A_A) + 1))\n",
    "    \n",
    "    \n",
    "    # 外気温度データの取得\n",
    "    def get_WeatherData(region,day,hour):\n",
    "        if hour > 23 or hour < 0 :\n",
    "            raise Exception('Out of Range of parameter hour')\n",
    "\n",
    "        d = {'Region1' : EC.get_EC_Region1,'Region2' : EC.get_EC_Region2,'Region3' : EC.get_EC_Region3,'Region4' : EC.get_EC_Region4,\n",
    "            'Region5' : EC.get_EC_Region5,'Region6' : EC.get_EC_Region6,'Region7' : EC.get_EC_Region7,'Region8' : EC.get_EC_Region8}[region]\n",
    "        nday = EC.get_Annual_Days().index(day) # start the number from 0\n",
    "        return d(nday * 24 + hour)\n",
    "    \n",
    "    \n",
    "    # 日平均外気温度\n",
    "    # 当該日の24時間分のデータから計算\n",
    "    _theta_ex = () # tupleの初期化\n",
    "    for time in range(0,24):\n",
    "        _theta_ex += (get_WeatherData(region, day, time)[0],)\n",
    "\n",
    "    _theta_ex_Ave = get_theta_ex_Ave(_theta_ex)\n",
    "\n",
    "    \n",
    "    # 日平均給水温度\n",
    "    # 当該日の「1日前から10日前までの10日間」から計算\n",
    "    days_wtr = () # tupleの初期化\n",
    "    ref_dayNum = EC.get_nday(day) -1 # 「1日前から」に対応して-1する。\n",
    "    if ref_dayNum <= 9:\n",
    "        days_wtr = tuple(range(0,ref_dayNum )) + tuple(range(355 + ref_dayNum, 365))\n",
    "    else:\n",
    "        days_wtr = tuple(range(ref_dayNum - 10, ref_dayNum))\n",
    "\n",
    "    date = ()\n",
    "    _theta_ex_Ave_wtr = () # tupleの初期化\n",
    "    for day_wtr in days_wtr:\n",
    "        _theta_ex_wtr = () # tupleの初期化\n",
    "        for time in range(0, 24):\n",
    "            _theta_ex_wtr += (get_WeatherData(region = region, day = EC.get_Annual_Days()[day_wtr], hour = time)[0],)\n",
    "\n",
    "        _theta_ex_Ave_wtr += (get_theta_ex_Ave(_theta_ex_wtr),)\n",
    "        date += (EC.get_Annual_Days()[day_wtr],)\n",
    "\n",
    "    _theta_ex_prd_Ave = get_theta_ex_prd_Ave(_theta_ex_Ave_wtr)\n",
    "    _theta_wtr = get_theta_wtr(_theta_ex_prd_Ave, region)\n",
    "\n",
    "    \n",
    "    # 基準給湯量（１）\n",
    "    _W_k = get_W_k(_system_exist, n_p(A_A), day)\n",
    "    _W_s = get_W_s(_system_exist, n_p(A_A), day)\n",
    "    _W_w = get_W_w(_system_exist, n_p(A_A), day)\n",
    "    _W_b = get_W_b(_system_exist, n_p(A_A), day)\n",
    "\n",
    "    \n",
    "    # 浴槽沸かし直しによる給湯熱負荷\n",
    "    _W_b_p = get_W_u(_system_exist, use = 'W_b', person = p, day = day)\n",
    "    _L_ba_p = get_L_ba_p(_theta_ex_Ave, _W_b_p, TypeOfBathtub, p )\n",
    "    _W_b_p_plus1 = get_W_u(_system_exist, use = 'W_b', person = p_plus1, day = day)\n",
    "    _L_ba_p_plus1 = get_L_ba_p(_theta_ex_Ave, _W_b_p_plus1, TypeOfBathtub, p_plus1 )\n",
    "    _L_ba = get_L_ba(n_p(A_A), _L_ba_p, _L_ba_p_plus1)\n",
    "    \n",
    "    # 基準給湯量（２）\n",
    "    _W_ba1 = get_W_ba1(input_Bath_Function, _L_ba, _theta_wtr)\n",
    "    if input_Bath_Function == 'Bath_Only':\n",
    "        _W_b1 = _W_b\n",
    "        _W_b2 = 0\n",
    "    elif input_Bath_Function == 'Bath_Without_Oidaki' or  input_Bath_Function == 'Bath_With_Oidaki':\n",
    "        _W_b1 = 0\n",
    "        _W_b2 = _W_b\n",
    "\n",
    "    \n",
    "    # 節湯補正給湯量\n",
    "    _W_dash_k = get_W_dash_k(_W_k, f_sk_A_apply, f_sk_C_apply, f_sp_apply)\n",
    "    _W_dash_s = get_W_dash_s(_W_s, f_ss_A_apply, f_ss_B_apply, f_sp_apply)\n",
    "    _W_dash_w = get_W_dash_w(_W_w, f_sw_C_apply, f_sp_apply)\n",
    "    _W_dash_b1 = get_W_dash_b1(_W_b1, f_sp_apply)\n",
    "    _W_dash_b2 = get_W_dash_b2(_W_b2)\n",
    "    _W_dash_ba1 = get_W_dash_ba1(_W_ba1, f_sp_apply)\n",
    "    \n",
    "    \n",
    "    # 節湯補正給湯熱負荷\n",
    "    _L_dash_k = get_L_dash_k(_W_dash_k, _theta_wtr)\n",
    "    _L_dash_s = get_L_dash_s(_W_dash_s, _theta_wtr)\n",
    "    _L_dash_w = get_L_dash_w(_W_dash_w, _theta_wtr)\n",
    "    _L_dash_b1 = get_L_dash_b(_system_exist, input_Bath_Function, _W_dash_b1, _theta_wtr, _W_dash_b2)['L_dash_b1']\n",
    "    _L_dash_b2 = get_L_dash_b(_system_exist, input_Bath_Function, _W_dash_b1, _theta_wtr, _W_dash_b2)['L_dash_b2']\n",
    "    _L_dash_ba1 = get_L_dash_ba(_system_exist, input_Bath_Function, _W_dash_ba1, _theta_wtr, _L_ba)['L_dash_ba1']\n",
    "    _L_dash_ba2 = get_L_dash_ba(_system_exist, input_Bath_Function, _W_dash_ba1, _theta_wtr, _L_ba)['L_dash_ba2']\n",
    "    \n",
    "    \n",
    "    # 太陽熱補正給湯熱負荷\n",
    "    _L_2dash_k = get_L_2dash_k(_L_dash_k, _L_dash_s, _L_dash_w, _L_dash_b1, _L_dash_b2, _L_dash_ba1, L_sun)\n",
    "    _L_2dash_s = get_L_2dash_s(_L_dash_k, _L_dash_s, _L_dash_w, _L_dash_b1, _L_dash_b2, _L_dash_ba1, L_sun)\n",
    "    _L_2dash_w = get_L_2dash_w(_L_dash_k, _L_dash_s, _L_dash_w, _L_dash_b1, _L_dash_b2, _L_dash_ba1, L_sun)\n",
    "    _L_2dash_b1 = get_L_2dash_b1(_L_dash_k, _L_dash_s, _L_dash_w, _L_dash_b1, _L_dash_b2, _L_dash_ba1, L_sun)\n",
    "    _L_2dash_b2 = get_L_2dash_b2(_L_dash_k, _L_dash_s, _L_dash_w, _L_dash_b1, _L_dash_b2, _L_dash_ba1, L_sun)\n",
    "    _L_2dash_ba1 = get_L_2dash_ba1(_L_dash_k, _L_dash_s, _L_dash_w, _L_dash_b1, _L_dash_b2, _L_dash_ba1, L_sun)\n",
    "    _L_2dash_ba2 = get_L_2dash_ba2(_L_dash_ba2)\n",
    "    \n",
    "    return {'_L_2dash_k' : _L_2dash_k, '_L_2dash_s' : _L_2dash_s, '_L_2dash_w' : _L_2dash_w, '_L_2dash_b1' : _L_2dash_b1, '_L_2dash_b2' : _L_2dash_b2, '_L_2dash_ba1' : _L_2dash_ba1, '_L_2dash_ba2' : _L_2dash_ba2}\n",
    "    "
   ]
  },
  {
   "cell_type": "markdown",
   "metadata": {},
   "source": [
    "#### Example"
   ]
  },
  {
   "cell_type": "code",
   "execution_count": 84,
   "metadata": {},
   "outputs": [
    {
     "data": {
      "text/plain": [
       "{'_L_2dash_b1': 0.0,\n",
       " '_L_2dash_b2': 29.76246,\n",
       " '_L_2dash_ba1': 0.0,\n",
       " '_L_2dash_ba2': 9.454375,\n",
       " '_L_2dash_k': 30.423848,\n",
       " '_L_2dash_s': 39.683279999999996,\n",
       " '_L_2dash_w': 7.605962}"
      ]
     },
     "execution_count": 84,
     "metadata": {},
     "output_type": "execute_result"
    }
   ],
   "source": [
    "L_2dash_u(_system_exist = SystemExistance.ExistWithBath, input_Bath_Function = 'Bath_With_Oidaki', region = 'Region1', TypeOfBathtub = 'NormalBath', A_A = 120, L_sun = 0, f_sk_A_apply = 'None', f_sk_C_apply = 'None', f_ss_A_apply = 'None', f_ss_B_apply = 'None', f_sw_C_apply = 'None', f_sp_apply = 'None', day = '1/1')"
   ]
  },
  {
   "cell_type": "code",
   "execution_count": 85,
   "metadata": {
    "scrolled": true
   },
   "outputs": [
    {
     "data": {
      "text/plain": [
       "{'_L_2dash_b1': 0.0,\n",
       " '_L_2dash_b2': 29.76246,\n",
       " '_L_2dash_ba1': 0.0,\n",
       " '_L_2dash_ba2': 5.295069444444445,\n",
       " '_L_2dash_k': 18.077938666666668,\n",
       " '_L_2dash_s': 16.5347,\n",
       " '_L_2dash_w': 3.968328}"
      ]
     },
     "execution_count": 85,
     "metadata": {},
     "output_type": "execute_result"
    }
   ],
   "source": [
    "SpecData = {'day' : '12/31', '_system_exist' : SystemExistance.ExistWithBath, 'input_Bath_Function' : 'Bath_With_Oidaki', 'region' : 'Region1', 'TypeOfBathtub' : 'NormalBath', \n",
    "            'A_A' : 70, 'f_sk_A_apply' : 'None', 'f_sk_C_apply' : 'None', 'f_ss_A_apply' : 'None', 'f_ss_B_apply' : 'None',\n",
    "            'f_sw_C_apply' : 'None', 'f_sp_apply' : 'None', 'L_sun' : 0}\n",
    "L_2dash_u(**SpecData)"
   ]
  },
  {
   "cell_type": "code",
   "execution_count": 86,
   "metadata": {
    "scrolled": true
   },
   "outputs": [
    {
     "data": {
      "text/plain": [
       "{'_L_2dash_b1': 0.0,\n",
       " '_L_2dash_b2': 7.551218695475003,\n",
       " '_L_2dash_ba1': 0.0,\n",
       " '_L_2dash_ba2': 1.1616666666666673,\n",
       " '_L_2dash_k': 3.4526017729170593,\n",
       " '_L_2dash_s': 7.588135764652876,\n",
       " '_L_2dash_w': 1.2274925501644356}"
      ]
     },
     "execution_count": 86,
     "metadata": {},
     "output_type": "execute_result"
    }
   ],
   "source": [
    "SpecData = {'day' : '1/3', '_system_exist' : SystemExistance.ExistWithBath, 'input_Bath_Function' : 'Bath_With_Oidaki', 'region' : 'Region7',\n",
    "            'TypeOfBathtub' : 'InsulationBath', 'A_A' : 70, 'f_sk_A_apply' : 'Saving', 'f_sk_C_apply' : 'Saving',\n",
    "            'f_ss_A_apply' : 'Saving', 'f_ss_B_apply' : 'Saving', 'f_sw_C_apply' : 'Saving', 'f_sp_apply' : 'Saving', 'L_sun' : 0}\n",
    "L_2dash_u(**SpecData)"
   ]
  }
 ],
 "metadata": {
  "kernelspec": {
   "display_name": "Python 3",
   "language": "python",
   "name": "python3"
  },
  "language_info": {
   "codemirror_mode": {
    "name": "ipython",
    "version": 3
   },
   "file_extension": ".py",
   "mimetype": "text/x-python",
   "name": "python",
   "nbconvert_exporter": "python",
   "pygments_lexer": "ipython3",
   "version": "3.6.4"
  }
 },
 "nbformat": 4,
 "nbformat_minor": 2
}
