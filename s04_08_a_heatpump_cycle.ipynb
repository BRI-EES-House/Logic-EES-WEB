{
 "cells": [
  {
   "cell_type": "markdown",
   "metadata": {},
   "source": [
    "## 付録 A R410A におけるヒートポンプサイクルの理論効率の計算方法 / Appendix A Calculation method of theoretical efficiency of heat pump cycle in R410A "
   ]
  },
  {
   "cell_type": "markdown",
   "metadata": {},
   "source": [
    "### A.1 記号及び単位 / Symbol and unit"
   ]
  },
  {
   "cell_type": "markdown",
   "metadata": {},
   "source": [
    "省略"
   ]
  },
  {
   "cell_type": "markdown",
   "metadata": {},
   "source": [
    "ommision"
   ]
  },
  {
   "cell_type": "markdown",
   "metadata": {},
   "source": [
    "### A.2 本付録で用いる冷媒に関する関数 / Functions for refrigerants used in this appendix"
   ]
  },
  {
   "cell_type": "markdown",
   "metadata": {},
   "source": [
    "省略"
   ]
  },
  {
   "cell_type": "markdown",
   "metadata": {},
   "source": [
    "ommision"
   ]
  },
  {
   "cell_type": "markdown",
   "metadata": {},
   "source": [
    "### A.3 熱交換器における仮定 / Assumptions in heat exchangers"
   ]
  },
  {
   "cell_type": "markdown",
   "metadata": {},
   "source": [
    "省略"
   ]
  },
  {
   "cell_type": "markdown",
   "metadata": {},
   "source": [
    "ommision"
   ]
  },
  {
   "cell_type": "markdown",
   "metadata": {},
   "source": [
    "### A.4 ヒートポンプサイクルの理論効率 / Theoretical efficiency of heat pump cycle"
   ]
  },
  {
   "cell_type": "markdown",
   "metadata": {},
   "source": [
    "$$\\large\n",
    "e_{ref,H,th} = \\frac{h_{ref,comp,out} - h_{ref,cnd,out}}{h_{ref,comp,out} - h_{ref,comp,in}}\n",
    "$$"
   ]
  },
  {
   "cell_type": "code",
   "execution_count": null,
   "metadata": {},
   "outputs": [],
   "source": [
    "def calc_e_ref_H_th(Theta_ref_evp, Theta_ref_cnd, Theta_ref_SC, Theta_ref_SH):\n",
    "    \"\"\"ヒートポンプサイクルの理論暖房効率 (1)\n",
    "    \n",
    "    :param Theta_ref_evp: 蒸発圧力 (MPa)\n",
    "    :type Theta_ref_evp: float\n",
    "    :param Theta_ref_cnd: ヒートポンプサイクルの凝縮温度 (℃)\n",
    "    :type Theta_ref_cnd: float\n",
    "    :param Theta_ref_SC: ヒートポンプサイクルの過冷温度 (℃)\n",
    "    :type Theta_ref_SC: float\n",
    "    :param Theta_ref_SH: ヒートポンプサイクルの過熱度 (℃)\n",
    "    :type Theta_ref_SH: float\n",
    "    :return: ヒートポンプサイクルの理論暖房効率 (-)\n",
    "    :rtype: float\n",
    "    \"\"\"\n",
    "    # 使用されていない変数\n",
    "    # :param Theta_ref_cnd_out: ヒートポンプサイクルの凝縮温度 (℃)\n",
    "\n",
    "    # **  A.6 凝縮圧力および蒸発圧力 **\n",
    "\n",
    "    # 蒸発圧力 (12)\n",
    "    P_ref_evp = calc_P_ref_evp(Theta_ref_evp)\n",
    "\n",
    "    # 凝縮圧力 (11)\n",
    "    P_ref_cnd = calc_P_ref_cnd(Theta_ref_cnd)\n",
    "\n",
    "    # **  A.6 凝縮器出口エンタルピー **\n",
    "\n",
    "    # 凝縮器出力温度 (10)\n",
    "    Theta_ref_cnd_out = get_Theta_ref_cnd_out(Theta_ref_cnd, Theta_ref_SC)\n",
    "\n",
    "    # 凝縮器出口比エンタルピー (9)\n",
    "    h_ref_cnd_out = calc_h_ref_cnd_out(P_ref_cnd, Theta_ref_cnd_out)\n",
    "\n",
    "    # ** A.5 圧縮機吐出及び吸入比エンタルピー **\n",
    "\n",
    "    # 圧縮機吸込温度 (8)\n",
    "    Theta_ref_comp_in = get_Theta_ref_comp_in(Theta_ref_evp, Theta_ref_SH)\n",
    "\n",
    "    # 圧縮機吸込圧力 (7)\n",
    "    P_ref_comp_in = get_P_ref_comp_in(P_ref_evp)\n",
    "\n",
    "    # 圧縮機吸込エンタルピー (6)\n",
    "    h_ref_comp_in = calc_h_ref_comp_in(P_ref_comp_in, Theta_ref_comp_in)\n",
    "\n",
    "    # 圧縮機吐出比エンタルピー (2)\n",
    "    h_ref_comp_out = calc_h_ref_comp_out(Theta_ref_evp, Theta_ref_SH, Theta_ref_cnd)\n",
    "\n",
    "    # ヒートポンプサイクルの理論暖房効率 (1)\n",
    "    e_ref_H_th = (h_ref_comp_out - h_ref_cnd_out) / (h_ref_comp_out - h_ref_comp_in)\n",
    "\n",
    "    return e_ref_H_th\n"
   ]
  },
  {
   "cell_type": "markdown",
   "metadata": {},
   "source": [
    "### A.5 圧縮機吐出及び吸込比エンタルピー / Compressor discharge and suction ratio enthalpy"
   ]
  },
  {
   "cell_type": "markdown",
   "metadata": {},
   "source": [
    "$$\\large\n",
    "h_{ref,comp,out} = f_{H,gas,comp,out} ( P_{ref,comp,out}, S_{ref,comp,out} )\n",
    "$$"
   ]
  },
  {
   "cell_type": "code",
   "execution_count": null,
   "metadata": {},
   "outputs": [],
   "source": [
    "def calc_h_ref_comp_out(Theta_ref_evp, Theta_ref_SH, Theta_ref_cnd):\n",
    "    \"\"\"圧縮機吐出比エンタルピー (2)\n",
    "    \n",
    "    :param Theta_ref_evp: 蒸発圧力 (MPa)\n",
    "    :type Theta_ref_evp: float\n",
    "    :param Theta_ref_SH: ヒートポンプサイクルの過熱度 (℃)\n",
    "    :type Theta_ref_SH: float\n",
    "    :param Theta_ref_cnd: ヒートポンプサイクルの凝縮温度 (℃)\n",
    "    :type Theta_ref_cnd: float\n",
    "    :return: 圧縮機吐出比エンタルピー (kJ/kg)\n",
    "    :rtype: float\n",
    "    \"\"\"\n",
    "    # 凝縮圧力 (11)\n",
    "    P_ref_cnd = calc_P_ref_cnd(Theta_ref_cnd)\n",
    "\n",
    "    # 圧縮機吐出圧力 (3)\n",
    "    P_ref_comp_out = get_P_ref_comp_out(P_ref_cnd)\n",
    "\n",
    "    # 蒸発圧力 (12)\n",
    "    P_ref_evp = calc_P_ref_evp(Theta_ref_evp)\n",
    "\n",
    "    # 圧縮機吸込温度 (8)\n",
    "    Theta_ref_comp_in = get_Theta_ref_comp_in(Theta_ref_evp, Theta_ref_SH)\n",
    "\n",
    "    # 圧縮機吸込圧力 (7)\n",
    "    P_ref_comp_in = get_P_ref_comp_in(P_ref_evp)\n",
    "\n",
    "    # 圧縮機吸込エンタルピー (6)\n",
    "    h_ref_comp_in = calc_h_ref_comp_in(P_ref_comp_in, Theta_ref_comp_in)\n",
    "\n",
    "    # 圧縮機吸込比エントロピー (5)\n",
    "    S_ref_comp_in = calc_S_ref_comp_in(P_ref_comp_in, h_ref_comp_in)\n",
    "\n",
    "    # 圧縮機吐出比エントロピー (4)\n",
    "    S_ref_comp_out = get_S_ref_comp_out(S_ref_comp_in)\n",
    "\n",
    "    # 圧縮機吐出比エンタルピー (2)\n",
    "    h_ref_comp_out = get_f_H_gas_comp_out(P_ref_comp_out, S_ref_comp_out)\n",
    "\n",
    "    return h_ref_comp_out"
   ]
  },
  {
   "cell_type": "markdown",
   "metadata": {},
   "source": [
    "$$\\large\n",
    "P_{ref,comp,out} = P_{ref,cnd}\n",
    "$$"
   ]
  },
  {
   "cell_type": "code",
   "execution_count": null,
   "metadata": {},
   "outputs": [],
   "source": [
    "def get_P_ref_comp_out(P_ref_cnd):\n",
    "    \"\"\"圧縮機吐出圧力 (3)\n",
    "    圧縮機吐出圧力は凝縮圧力と等しいとする。\n",
    "\n",
    "    :param P_ref_cnd:  凝縮圧力 (MPa)\n",
    "    :type P_ref_cnd: float\n",
    "    :return: 圧縮機吐出圧力 (MPa)\n",
    "    :rtype: float\n",
    "    \"\"\"\n",
    "    return P_ref_cnd\n"
   ]
  },
  {
   "cell_type": "markdown",
   "metadata": {},
   "source": [
    "$$\\large\n",
    "S_{ref,comp,out} = S_{ref,comp,in}\n",
    "$$"
   ]
  },
  {
   "cell_type": "code",
   "execution_count": null,
   "metadata": {},
   "outputs": [],
   "source": [
    "def get_S_ref_comp_out(S_ref_comp_in):\n",
    "    \"\"\" 圧縮機吐出比エントロピー (4)\n",
    "    圧縮機吐出比エントロピーは圧縮機吸入比エントロピーに等しいとする。\n",
    "    \n",
    "    :param S_ref_comp_in: 圧縮機吸入比エントロピー (kJ/kg・K)\n",
    "    :type S_ref_comp_in: float\n",
    "    :return: 圧縮機吐出比エントロピー (kJ/kg・K)\n",
    "    :rtype: float\n",
    "    \"\"\"\n",
    "    return S_ref_comp_in\n"
   ]
  },
  {
   "cell_type": "markdown",
   "metadata": {},
   "source": [
    "$$\\large\n",
    "S_{ref,comp,in} = f_{S,gas} ( P_{ref,comp,in}, h_{ref,comp,in} )\n",
    "$$"
   ]
  },
  {
   "cell_type": "code",
   "execution_count": null,
   "metadata": {},
   "outputs": [],
   "source": [
    "def calc_S_ref_comp_in(P_ref_comp_in, h_ref_comp_in):\n",
    "    \"\"\"圧縮機吸込比エントロピー (5)\n",
    "    \n",
    "    :param P_ref_comp_in: 圧縮機吸込圧力 (MPa)\n",
    "    :type P_ref_comp_in: float\n",
    "    :param h_ref_comp_in: 圧縮機吸込エンタルピー (kJ/kg)\n",
    "    :type h_ref_comp_in: float\n",
    "    :return: 圧縮機吸込比エントロピー (kJ/kg・K)\n",
    "    :rtype: float\n",
    "    \"\"\"\n",
    "    return get_f_S_gas(P_ref_comp_in, h_ref_comp_in)\n"
   ]
  },
  {
   "cell_type": "markdown",
   "metadata": {},
   "source": [
    "$$\\large\n",
    "h_{ref,comp,in} = f_{H,gas,comp,in} ( P_{ref,comp,in}, \\theta_{ref,comp,in} )\n",
    "$$"
   ]
  },
  {
   "cell_type": "code",
   "execution_count": null,
   "metadata": {},
   "outputs": [],
   "source": [
    "def calc_h_ref_comp_in(P_ref_comp_in, Theta_ref_comp_in):\n",
    "    \"\"\"圧縮機吸込エンタルピー (6)\n",
    "    \n",
    "    :param P_ref_comp_in: 圧縮機吸込圧力 (℃)\n",
    "    :type P_ref_comp_in: float\n",
    "    :param Theta_ref_comp_in: 圧縮機吸込温度 (℃)\n",
    "    :type Theta_ref_comp_in: float\n",
    "    :return: 圧縮機吸込エンタルピー (kJ/kg)\n",
    "    :rtype: float\n",
    "    \"\"\"\n",
    "    return get_f_H_gas_comp_in(P=P_ref_comp_in, Theta=Theta_ref_comp_in)\n"
   ]
  },
  {
   "cell_type": "markdown",
   "metadata": {},
   "source": [
    "$$\\large\n",
    "P_{ref,comp,in} = P_{ref,evp}\n",
    "$$"
   ]
  },
  {
   "cell_type": "code",
   "execution_count": null,
   "metadata": {},
   "outputs": [],
   "source": [
    "def get_P_ref_comp_in(P_ref_evp):\n",
    "    \"\"\"圧縮機吸込圧力 (7)\n",
    "    圧縮機吸込圧力は蒸発圧力に等しいとする。\n",
    "    \n",
    "    :param P_ref_evp: 蒸発圧力 (MPa)\n",
    "    :type P_ref_evp: float\n",
    "    :return: 圧縮機吸入圧力 (MPa)\n",
    "    :rtype: float\n",
    "    \"\"\"\n",
    "    return P_ref_evp\n"
   ]
  },
  {
   "cell_type": "markdown",
   "metadata": {},
   "source": [
    "$$\\large\n",
    "\\theta_{ref,comp,in} = \\theta_{ref,evp} + \\theta_{ref,SH}\n",
    "$$"
   ]
  },
  {
   "cell_type": "code",
   "execution_count": null,
   "metadata": {},
   "outputs": [],
   "source": [
    "def get_Theta_ref_comp_in(Theta_ref_evp, Theta_ref_SH):\n",
    "    \"\"\"圧縮機吸込温度 (8)\n",
    "    \n",
    "    :param Theta_ref_evp: ヒートポンプサイクルの蒸発温度 (℃)\n",
    "    :type Theta_ref_evp: float\n",
    "    :param Theta_ref_SH: ヒートポンプサイクルの過熱度 (℃)\n",
    "    :type Theta_ref_SH: float\n",
    "    :return: 圧縮機吸込温度 (℃)\n",
    "    :rtype: float\n",
    "    \"\"\"\n",
    "    return Theta_ref_evp + Theta_ref_SH\n"
   ]
  },
  {
   "cell_type": "markdown",
   "metadata": {},
   "source": [
    "### A.6 凝縮器出口比エンタルピー / Condenser outlet specific enthalpy"
   ]
  },
  {
   "cell_type": "markdown",
   "metadata": {},
   "source": [
    "$$\\large\n",
    "h_{ref,cnd,out} = f_{H,liq} ( P_{ref,cnd}, \\theta_{ref,cnd,out} )\n",
    "$$"
   ]
  },
  {
   "cell_type": "code",
   "execution_count": null,
   "metadata": {},
   "outputs": [],
   "source": [
    "def calc_h_ref_cnd_out(P_ref_cnd, Theta_ref_cnd_out):\n",
    "    \"\"\"凝縮器出口比エンタルピー (9)\n",
    "    \n",
    "    :param P_ref_cnd: 凝縮圧力 (MPa)\n",
    "    :type P_ref_cnd: float\n",
    "    :param Theta_ref_cnd_out: ヒートポンプサイクルの凝縮温度 (℃)\n",
    "    :type Theta_ref_cnd_out: float\n",
    "    :return: 凝縮器出口比エンタルピー (kJ/kg)\n",
    "    :rtype: float\n",
    "    \"\"\"\n",
    "    return get_f_H_liq(P=P_ref_cnd, Theta=Theta_ref_cnd_out)\n"
   ]
  },
  {
   "cell_type": "markdown",
   "metadata": {},
   "source": [
    "$$\\large\n",
    "\\theta_{ref,cnd,out} = \\theta_{ref,cnd} - \\theta_{ref,SC}\n",
    "$$"
   ]
  },
  {
   "cell_type": "code",
   "execution_count": null,
   "metadata": {},
   "outputs": [],
   "source": [
    "def get_Theta_ref_cnd_out(Theta_ref_cnd, Theta_ref_SC):\n",
    "    \"\"\"凝縮器出力温度 (10)\n",
    "    \n",
    "    :param Theta_ref_cnd: ヒートポンプサイクルの凝縮温度 (℃)\n",
    "    :type Theta_ref_cnd: float\n",
    "    :param Theta_ref_SC: ヒートポンプサイクルの過冷温度 (℃)\n",
    "    :type Theta_ref_SC: float\n",
    "    :return: 凝縮器出力温度 (℃)\n",
    "    :rtype: float\n",
    "    \"\"\"\n",
    "    return Theta_ref_cnd - Theta_ref_SC\n"
   ]
  },
  {
   "cell_type": "markdown",
   "metadata": {},
   "source": [
    "### A.7 凝縮圧力および蒸発圧力 / Condensation pressure and evaporation pressure"
   ]
  },
  {
   "cell_type": "markdown",
   "metadata": {},
   "source": [
    "$$\\large\n",
    "P_{ref,cnd} = f_{P,sgas} ( \\theta_{ref,cnd} )\n",
    "$$"
   ]
  },
  {
   "cell_type": "code",
   "execution_count": null,
   "metadata": {},
   "outputs": [],
   "source": [
    "def calc_P_ref_cnd(Theta_ref_cnd):\n",
    "    \"\"\"凝縮圧力 (11)\n",
    "    \n",
    "    :param Theta_ref_cnd: ヒートポンプサイクルの凝縮温度 (℃)\n",
    "    :type Theta_ref_cnd: float\n",
    "    :return: 凝縮圧力 (MPa)\n",
    "    :rtype: float\n",
    "    \"\"\"\n",
    "    return get_f_p_sgas(Theta=Theta_ref_cnd)\n"
   ]
  },
  {
   "cell_type": "markdown",
   "metadata": {},
   "source": [
    "$$\\large\n",
    "P_{ref,evp} = f_{P,sgas} ( \\theta_{ref,evp} )\n",
    "$$"
   ]
  },
  {
   "cell_type": "code",
   "execution_count": null,
   "metadata": {},
   "outputs": [],
   "source": [
    "def calc_P_ref_evp(Theta_ref_evp):\n",
    "    \"\"\"蒸発圧力 (12)\n",
    "    \n",
    "    :param Theta_ref_evp: ヒートポンプサイクルの蒸発温度 (℃)\n",
    "    :type Theta_ref_evp: float\n",
    "    :return: 蒸発圧力 (MPa)\n",
    "    :rtype: float\n",
    "    \"\"\"\n",
    "    return get_f_p_sgas(Theta=Theta_ref_evp)\n"
   ]
  },
  {
   "cell_type": "markdown",
   "metadata": {},
   "source": [
    "### A.8 冷媒に関する関数 / Function on refrigerant"
   ]
  },
  {
   "cell_type": "markdown",
   "metadata": {},
   "source": [
    "#### A.8.1 飽和蒸気に関する関数 / Function for saturated vapor"
   ]
  },
  {
   "cell_type": "markdown",
   "metadata": {},
   "source": [
    "$$\\large\n",
    "f_{P,sgas} ( \\theta ) = 2.75857926950901 \\times 10^{-17} \\times \\theta^{8} + 1.49382057911753 \\times 10^{-15} \\times \\theta^{7}\\\\\n",
    "\\large + 6.52001687267015 \\times 10^{-14} \\times \\theta^{6} + 9.14153034999975 \\times 10^{-12} \\times \\theta^{5}\\\\\n",
    "\\large + 3.18314616500361 \\times 10^{-9} \\times \\theta^{4} + 1.60703566663019 \\times 10^{-6} \\times \\theta^{3}\\\\\n",
    "\\large + 3.06278984019513 \\times 10^{-4} \\times \\theta^{2} + 2.54461992992037 \\times 10^{-2} \\times \\theta\\\\\n",
    "\\large + 7.98086455154775 \\times 10^{-1}\n",
    "$$"
   ]
  },
  {
   "cell_type": "markdown",
   "metadata": {},
   "source": [
    "$f_{P,sgas}$：飽和蒸気の圧力(MPa) / Saturated steam pressure  \n",
    "$\\theta$：飽和蒸気の温度(℃) / Saturated steam temperature  "
   ]
  },
  {
   "cell_type": "code",
   "execution_count": null,
   "metadata": {},
   "outputs": [],
   "source": [
    "def get_f_p_sgas(Theta):\n",
    "    \"\"\"飽和蒸気の温度から圧力を求める関数 (13)\n",
    "    \n",
    "    :param Theta: 飽和蒸気の温度 (℃)\n",
    "    :type Theta: float\n",
    "    :return: 飽和蒸気の圧力 (MPa)\n",
    "    :rtype: float\n",
    "    \"\"\"\n",
    "    return 2.75857926950901 * 10 ** (-17) * Theta ** 8 \\\n",
    "           + 1.49382057911753 * 10 ** (-15) * Theta ** 7 \\\n",
    "           + 6.52001687267015 * 10 ** (-14) * Theta ** 6 \\\n",
    "           + 9.14153034999975 * 10 ** (-12) * Theta ** 5 \\\n",
    "           + 3.18314616500361 * 10 ** (-9) * Theta ** 4 \\\n",
    "           + 1.60703566663019 * 10 ** (-6) * Theta ** 3 \\\n",
    "           + 3.06278984019513 * 10 ** (-4) * Theta ** 2 \\\n",
    "           + 2.54461992992037 * 10 ** (-2) * Theta \\\n",
    "           + 7.98086455154775 * 10 ** (-1)\n"
   ]
  },
  {
   "cell_type": "markdown",
   "metadata": {},
   "source": [
    "#### A.8.2 過熱蒸気に関する関数 / Function for superheated steam"
   ]
  },
  {
   "cell_type": "markdown",
   "metadata": {},
   "source": [
    "$$\\large\n",
    "f_{H,gas,comp,in} ( P, \\theta ) = - 1.00110355 \\times 10^{-1} \\times P^{3} - 1.184450639 \\times 10 \\times P^{2}\\\\\n",
    "\\large - 2.052740252 \\times 10^{2} \\times P + 3.20391 \\times 10^{-6} \\times (\\theta + 273.15)^{3}\\\\\n",
    "\\large - 2.24685 \\times 10^{-3} \\times (\\theta + 273.15)^{2} + 1.279436909 \\times (\\theta + 273.15)\\\\\n",
    "\\large + 3.1271238 \\times 10^{-2} \\times P^{2} \\times (\\theta + 273.15)\\\\\n",
    "\\large - 1.415359 \\times 10^{-3} \\times P \\times (\\theta + 273.15)^{2}\\\\\n",
    "\\large + 1.05553912 \\times P \\times (\\theta + 273.15) + 1.949505039  \\times 10^{2}\n",
    "$$"
   ]
  },
  {
   "cell_type": "markdown",
   "metadata": {},
   "source": [
    "$f_{H,gas,comp,in}$：過熱蒸気の比エンタルピー(kJ/kg) / Specific enthalpy of superheated steam  \n",
    "$P$：過熱蒸気の圧力(MPa) / Superheated steam pressure  \n",
    "$\\theta$：飽和蒸気の温度(℃) / Saturated steam temperature  "
   ]
  },
  {
   "cell_type": "code",
   "execution_count": null,
   "metadata": {},
   "outputs": [],
   "source": [
    "def get_f_H_gas_comp_in(P, Theta):\n",
    "    \"\"\"圧縮機吸引領域において過熱蒸気の圧力と温度から比エンタルピーを求める関数 (14)\n",
    "    \n",
    "    :param P: 過熱蒸気の圧力 (MPa)\n",
    "    :type P: float\n",
    "    :param Theta: 過熱蒸気の温度 (℃)\n",
    "    :type Theta: dloat\n",
    "    :return: 過熱蒸気の比エンタルピー (kJ/kg)\n",
    "    :rtype: float\n",
    "    \"\"\"\n",
    "    K = Theta + 273.15\n",
    "    K2=K*K\n",
    "    K3=K2*K\n",
    "    P2=P*P\n",
    "    P3=P2*P\n",
    "    P4=P2*P2\n",
    "    return -1.00110355 * 10 ** (-1) * P3 \\\n",
    "           - 1.184450639 * 10 * P2 \\\n",
    "           - 2.052740252 * 10 ** 2 * P \\\n",
    "           + 3.20391 * 10 ** (-6) * K3 \\\n",
    "           - 2.24685 * 10 ** (-3) * K2 \\\n",
    "           + 1.279436909 * K \\\n",
    "           + 3.1271238 * 10 ** (-2) * P2 * K \\\n",
    "           - 1.415359 * 10 ** (-3) * P * K2 \\\n",
    "           + 1.05553912 * P * K \\\n",
    "           + 1.949505039 * 10 ** 2"
   ]
  },
  {
   "cell_type": "markdown",
   "metadata": {},
   "source": [
    "$$\\large\n",
    "f_{H,gas,comp,out} ( P, S ) = -1.869892835947070 \\times 10^{-1} \\times P^{4} + 8.223224182177200 \\times 10^{-1} \\times P^{3}\\\\\n",
    "\\large +4.124595239531860 \\times P^{2} - 8.346302788803210 \\times 10 \\times P\\\\\n",
    "\\large -1.016388214044490 \\times 10^{2} \\times S^{4} + 8.652428629143880 \\times 10^{2} \\times S^{3}\\\\\n",
    "\\large -2.574830800631310 \\times 10^{3} \\times S^{2} +  3.462049327009730 \\times 10^{3} \\times S\\\\\n",
    "\\large +9.209837906396910 \\times 10^{-1} \\times P^{3} \\times S\\\\\n",
    "\\large -5.163305566700450 \\times 10^{-1} \\times P^{2} \\times S^{2}\\\\\n",
    "\\large +4.076727767130210 \\times P \\times S^{3} - 8.967168786520070 \\times P^{2} \\times S\\\\\n",
    "\\large -2.062021416757910 \\times 10 \\times P \\times S^{2} + 9.510257675728610 \\times 10 \\times P \\times S\\\\\n",
    "\\large -1.476914346214130 \\times 10^{3}\n",
    "$$"
   ]
  },
  {
   "cell_type": "markdown",
   "metadata": {},
   "source": [
    "$f_{H,gas,comp,out}$：過熱蒸気の比エンタルピー(kJ/kg) / Specific enthalpy of superheated steam  \n",
    "$P$：過熱蒸気の圧力(MPa) / Superheated steam pressure  \n",
    "$S$：過熱蒸気の比エントロピー(kJ/(kg・K)) / Specific entropy of superheated steam"
   ]
  },
  {
   "cell_type": "code",
   "execution_count": null,
   "metadata": {},
   "outputs": [],
   "source": [
    "def get_f_H_gas_comp_out(P, S):\n",
    "    \"\"\"圧縮機吐出領域において過熱蒸気の圧力と比エントロピーから比エンタルピーを求める関数 (15)\n",
    "    \n",
    "    :param P: 過熱蒸気の圧力 (MPa)\n",
    "    :type P: float\n",
    "    :param S: 過熱蒸気の比エントロピー (kJ/kg・K)\n",
    "    :type S: float\n",
    "    :return: 過熱蒸気の比エンタルピー (kJ/kg)\n",
    "    :rtype: float\n",
    "    \"\"\"\n",
    "    P2 = P * P\n",
    "    P3 = P2 * P\n",
    "    P4 = P2 * P2\n",
    "    S2 = S * S\n",
    "    S3 = S2 * S\n",
    "    S4 = S2 * S2\n",
    "    return -1.869892835947070 * 10 ** (-1) * P4 \\\n",
    "           + 8.223224182177200 * 10 ** (-1) * P3 \\\n",
    "           + 4.124595239531860 * P2 \\\n",
    "           - 8.346302788803210 * 10 * P \\\n",
    "           - 1.016388214044490 * 10 ** 2 * S4 \\\n",
    "           + 8.652428629143880 * 10 ** 2 * S3 \\\n",
    "           - 2.574830800631310 * 10 ** 3 * S2 \\\n",
    "           + 3.462049327009730 * 10 ** 3 * S \\\n",
    "           + 9.209837906396910 * 10 ** (-1) * P3 * S \\\n",
    "           - 5.163305566700450 * 10 ** (-1) * P2 * S2 \\\n",
    "           + 4.076727767130210 * P * S3 \\\n",
    "           - 8.967168786520070 * P2 * S \\\n",
    "           - 2.062021416757910 * 10 * P * S2 \\\n",
    "           + 9.510257675728610 * 10 * P * S \\\n",
    "           - 1.476914346214130 * 10 ** 3\n"
   ]
  },
  {
   "cell_type": "markdown",
   "metadata": {},
   "source": [
    "$$\\large\n",
    "f_{S,gas} ( P, h ) = 5.823109493752840 \\times 10^{-2} \\times P^{4} - 3.309666523931270 \\times 10^{-1} \\times P^{3}\\\\\n",
    "\\large +7.700179914440890 \\times 10^{-1} \\times P^{2} - 1.311726004718660 \\times P\\\\\n",
    "\\large +1.521486605815750 \\times 10^{-9} \\times h^{4} - 2.703698863404160 \\times 10^{-6} \\times h^{3}\\\\\n",
    "\\large +1.793443775071770 \\times 10^{-3} \\times h^{2} - 5.227303746767450 \\times 10^{-1} \\times h\\\\\n",
    "\\large +1.100368875131490 \\times 10^{-4} \\times P^{3} \\times h + 5.076769807083600 \\times 10^{-7} \\times P^{2} \\times h^{2}\\\\\n",
    "\\large +1.202580329499520 \\times 10^{-8} \\times P \\times h^{3} - 7.278049214744230 \\times 10^{-4} \\times P^{2} \\times h\\\\\n",
    "\\large -1.449198550965620 \\times 10^{-5} \\times P \\times h^{2} + 5.716086851760640 \\times 10^{-3} \\times P \\times h\\\\\n",
    "\\large +5.818448621582900 \\times 10\n",
    "$$"
   ]
  },
  {
   "cell_type": "markdown",
   "metadata": {},
   "source": [
    "$f_{S,gas}$：過熱蒸気の比エンタルピー(kJ/kg・K) / Specific enthalpy of superheated steam  \n",
    "$P$：過熱蒸気の圧力(MPa) / Superheated steam pressure  \n",
    "$h$：過熱蒸気の比エントロピー(kJ/kg) / Specific entropy of superheated steam"
   ]
  },
  {
   "cell_type": "code",
   "execution_count": null,
   "metadata": {},
   "outputs": [],
   "source": [
    "def get_f_S_gas(P, h):\n",
    "    \"\"\"過熱蒸気の圧力と比エンタルピーから比エントロピーを求める関数 (16)\n",
    "    \n",
    "    :param P: 過熱蒸気の圧力 (MPa)\n",
    "    :type P: float\n",
    "    :param h: 過熱蒸気の比エンタルピー (kJ/kg)\n",
    "    :type h: float\n",
    "    :return: 過熱蒸気の比エントロピー (kJ/kg・K)\n",
    "    :rtype: float\n",
    "    \"\"\"\n",
    "\n",
    "    P2 = P * P\n",
    "    P3 = P2 * P\n",
    "    P4 = P2 * P2\n",
    "\n",
    "    h2 = h * h\n",
    "    h3 = h2 * h\n",
    "    h4 = h2 * h2\n",
    "\n",
    "    return 5.823109493752840 * 10 ** (-2) * P4 \\\n",
    "           - 3.309666523931270 * 10 ** (-1) * P3 \\\n",
    "           + 7.700179914440890 * 10 ** (-1) * P2 \\\n",
    "           - 1.311726004718660 * P \\\n",
    "           + 1.521486605815750 * 10 ** (-9) * h4 \\\n",
    "           - 2.703698863404160 * 10 ** (-6) * h3 \\\n",
    "           + 1.793443775071770 * 10 ** (-3) * h2 \\\n",
    "           - 5.227303746767450 * 10 ** (-1) * h \\\n",
    "           + 1.100368875131490 * 10 ** (-4) * P ** 3 * h \\\n",
    "           + 5.076769807083600 * 10 ** (-7) * P ** 2 * h2 \\\n",
    "           + 1.202580329499520 * 10 ** (-8) * P * h3 \\\n",
    "           - 7.278049214744230 * 10 ** (-4) * P ** 2 * h \\\n",
    "           - 1.449198550965620 * 10 ** (-5) * P * h2 \\\n",
    "           + 5.716086851760640 * 10 ** (-3) * P * h \\\n",
    "           + 5.818448621582900 * 10"
   ]
  },
  {
   "cell_type": "markdown",
   "metadata": {},
   "source": [
    "#### A.8.3 過冷却液に関する関数 / Function for supercoolant"
   ]
  },
  {
   "cell_type": "markdown",
   "metadata": {},
   "source": [
    "$$\\large\n",
    "\\large f_{H,liq} ( P, \\theta ) = 1.7902915 \\times 10^{-2} \\times P^{3} + 7.96830322 \\times 10^{-1} \\times P^{2}\\\\\n",
    "\\large + 5.985874958 \\times 10 \\times P + 0 \\times (\\theta + 273.15)^{3}\\\\\n",
    "\\large + 9.86677 \\times 10^{-4} \\times (\\theta + 273.15)^{2} + 9.8051677 \\times 10^{-1} \\times (\\theta + 273.15)\\\\\n",
    "\\large - 3.58645 \\times 10^{-3} \\times P^{2} \\times (\\theta + 273.15) + 8.23122 \\times 10^{-4} \\times P \\times (\\theta + 273.15)^{2}\\\\\n",
    "\\large - 4.42639115 \\times 10^{-1} \\times P \\times (\\theta + 273.15) - 1.415490404 \\times 10^{2}\n",
    "$$"
   ]
  },
  {
   "cell_type": "markdown",
   "metadata": {},
   "source": [
    "$f_{H,liq}$：過冷却液の比エンタルピー(kJ/kg) / Specific enthalpy of supercooled liquid  \n",
    "$P$：過熱蒸気の圧力(MPa) / Superheated steam pressure  \n",
    "$\\theta$：過冷却液の温度(℃) / Supercoolant temperature  "
   ]
  },
  {
   "cell_type": "code",
   "execution_count": null,
   "metadata": {},
   "outputs": [],
   "source": [
    "def get_f_H_liq(P, Theta):\n",
    "    \"\"\"過冷却液の圧力と温度から比エンタルピーを求める関数 (17)\n",
    "    \n",
    "    :param P: 過冷却液の圧力 (MPa)\n",
    "    :type P: float\n",
    "    :param Theta: 過冷却液の温度 (℃)\n",
    "    :type Theta: float\n",
    "    :return:  過冷却液のエンタルピー (kJ/kg)\n",
    "    :rtype: float\n",
    "    \"\"\"\n",
    "    K = Theta + 273.15\n",
    "    K2 = K * K\n",
    "    K3 = K2 * K\n",
    "\n",
    "    P2 = P * P\n",
    "    P3 = P2 * P\n",
    "\n",
    "    return 1.7902915 * 10 ** (-2) * P3 \\\n",
    "           + 7.96830322 * 10 ** (-1) * P2 \\\n",
    "           + 5.985874958 * 10 * P \\\n",
    "           + 0 * K3 \\\n",
    "           + 9.86677 * 10 ** (-4) * K2 \\\n",
    "           + 9.8051677 * 10 ** (-1) * K \\\n",
    "           - 3.58645 * 10 ** (-3) * P ** 2 * K \\\n",
    "           + 8.23122 * 10 ** (-4) * P * K2 \\\n",
    "           - 4.42639115 * 10 ** (-1) * P * K \\\n",
    "           - 1.415490404 * 10 ** 2\n"
   ]
  },
  {
   "cell_type": "markdown",
   "metadata": {},
   "source": [
    "## 付録 B （参考）ルームエアコンディショナー付温水床暖房の同時運転時の定格暖房能力及び定格消費電力の計測方法 / Appendix E B (Reference) Measurement method of rated heating capacity and rated power consumption at the same time of hot water floor heating with room air conditioner"
   ]
  },
  {
   "cell_type": "markdown",
   "metadata": {},
   "source": [
    "省略"
   ]
  },
  {
   "cell_type": "markdown",
   "metadata": {},
   "source": [
    "ommision"
   ]
  }
 ],
 "metadata": {
  "kernelspec": {
   "display_name": "Python 3",
   "language": "python",
   "name": "python3"
  },
  "language_info": {
   "codemirror_mode": {
    "name": "ipython",
    "version": 3
   },
   "file_extension": ".py",
   "mimetype": "text/x-python",
   "name": "python",
   "nbconvert_exporter": "python",
   "pygments_lexer": "ipython3",
   "version": "3.6.6"
  }
 },
 "nbformat": 4,
 "nbformat_minor": 2
}
