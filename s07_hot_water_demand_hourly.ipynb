{
 "cells": [
  {
   "cell_type": "code",
   "execution_count": 1,
   "metadata": {},
   "outputs": [
    {
     "name": "stdout",
     "output_type": "stream",
     "text": [
      "Importing Jupyter notebook from ..\\_11_Others\\Life_Schedule.ipynb\n",
      "Importing Jupyter notebook from ..\\_11_Others\\External_Condition.ipynb\n",
      "Importing Jupyter notebook from ..\\_07_Hot_Water_Supply_System\\HWS_Hourly_Schedule.ipynb\n"
     ]
    }
   ],
   "source": [
    "import sys\n",
    "sys.path.append('../')\n",
    "import nbimporter\n",
    "\n",
    "from _11_Others import Life_Schedule as LS\n",
    "from _11_Others import External_Condition as EC\n",
    "from _07_Hot_Water_Supply_System import HWS_Hourly_Schedule as HS\n",
    "\n",
    "# importできない\n",
    "# from _07_Hot_Water_Supply_System import _07_AppJ_Water_Saving_Coefficient as WaterSaving\n",
    "\n",
    "import math\n",
    "import numpy as np\n",
    "from enum import Enum"
   ]
  },
  {
   "cell_type": "code",
   "execution_count": 2,
   "metadata": {},
   "outputs": [],
   "source": [
    "class SystemExistance(Enum):\n",
    "    ExistWithBath    = 0,\n",
    "    ExistWithoutBath = 1,\n",
    "    NotExist         = 2"
   ]
  },
  {
   "cell_type": "markdown",
   "metadata": {},
   "source": [
    "# Chapter VII-I Hot Water Supply System - Demand / 給湯設備 - 給湯需要"
   ]
  },
  {
   "cell_type": "markdown",
   "metadata": {},
   "source": [
    "## 1. Introduction"
   ]
  },
  {
   "cell_type": "markdown",
   "metadata": {},
   "source": [
    "This calculation depends on the specification of \"Chapter VII Hot Water Supply System\" in BRI.  \n",
    "This sheet include only the calculation of the demand of hot water supply system, excluding the calculation of the energy consumption of the water heater(electric heat source, gas/kerosene boiler etc...)."
   ]
  },
  {
   "cell_type": "markdown",
   "metadata": {},
   "source": [
    "## 2. Energy Consumption of Hot Water supply System / 給湯設備によるエネルギー消費量"
   ]
  },
  {
   "cell_type": "markdown",
   "metadata": {},
   "source": [
    "### 1) Power / 消費電力量"
   ]
  },
  {
   "cell_type": "markdown",
   "metadata": {},
   "source": [
    "Hourly electric power of hot water supply system is calculated by the equation below.  \n",
    "When there is no systems of the kitchen, the washroom and the bathroom, the hourly electric power is equals to be 0.0.\n",
    "\n",
    "If you use the liquid collector type of the solar heating system:\n",
    "\n",
    "$$\n",
    "\\displaystyle E_{E,W} = E_{E,hs} + E_{E,lss,aux}\n",
    "$$\n",
    "\n",
    "If you use the air collector type of the solar heating system:\n",
    "\n",
    "$$\n",
    "\\displaystyle E_{E,W} = E_{E,hs} + E_{E,ass,aux,W}\n",
    "$$\n",
    "\n",
    "Where  \n",
    "$ E_{E,W} $ is the hourly electric power of the hot water supply sustem. / 1時間当たりの給湯設備の消費電力量 (kWh/hour)  \n",
    "$ E_{E,hs} $ is the hourly electric power of the water heater. / 1時間当たりの給湯機の消費電力量 (kWh/hour)    \n",
    "$ E_{E,lss} $ is the hourly electric power of the liquid collector type of the solar heating system. /  1 日当たりの液体集熱式太陽熱利用設備消費電力量 (kWh/hour)  \n",
    "$ E_{E,ass,aux,W} $ is the hourly addition of electric power of the auxiliaries to the hot water supply equipment when use the air collector type of the solar heating system. / 空気集熱式太陽熱利用設備を採用する場合の1時間当たりの補機の消費電力量のうちの給湯設備への付加分 (kWh/hour)  \n",
    "$ E_{E,lss,aux} $ is the hourly electric power of the auxiliaries of the liquid collector type of the solar heating system. / 液体集熱式太陽熱利用設備を採用する場合の1時間当たりの補機の消費電力量 (kWh/hour)  \n",
    "\n",
    "The hourly electric power of the auxiliaries of the liquid collector type of the solar heating system $ E_{E,lss,aux} $ occurs only when liquid collector type of the solar heating system is adopted and it is fixed value by Chapter 9, Section 2 \"Liquid collecting type solar heat utilization equipment\".  \n",
    "The hourly addition of electric power of the auxiliaries to the hot water supply equipment when use the air collector type of the solar heating system $ E_{E,ass,aux,W} $ occurs only when air collector type of the solar heating system is adopted and it is fixed value by Chapter 9, Section 3 \"Air collecting type solar heat utilization equipment\"."
   ]
  },
  {
   "cell_type": "code",
   "execution_count": 3,
   "metadata": {},
   "outputs": [],
   "source": [
    "def get_E_E_W(E_E_hs, E_E_lss_aux, _system_exist):\n",
    "    return 0.0 if _system_exist == SystemExistance.NotExist else E_E_hs + E_E_lss_aux "
   ]
  },
  {
   "cell_type": "markdown",
   "metadata": {},
   "source": [
    "#### Example"
   ]
  },
  {
   "cell_type": "markdown",
   "metadata": {},
   "source": [
    "$ E_{E,W} = 0.4 $ (kWh/day)  \n",
    "$ E_{E,hs} = 0.05 $ (kWh/day)  \n",
    "Exsitance of the syste is selected below:\n",
    "- Exsit with Bath\n",
    "- Exsit without Bath\n",
    "- Not Exsit"
   ]
  },
  {
   "cell_type": "code",
   "execution_count": 4,
   "metadata": {},
   "outputs": [
    {
     "data": {
      "text/plain": [
       "0.45"
      ]
     },
     "execution_count": 4,
     "metadata": {},
     "output_type": "execute_result"
    }
   ],
   "source": [
    "get_E_E_W(0.4,0.05, SystemExistance.ExistWithBath)"
   ]
  },
  {
   "cell_type": "code",
   "execution_count": 5,
   "metadata": {},
   "outputs": [
    {
     "data": {
      "text/plain": [
       "0.45"
      ]
     },
     "execution_count": 5,
     "metadata": {},
     "output_type": "execute_result"
    }
   ],
   "source": [
    "get_E_E_W(0.4,0.05, SystemExistance.ExistWithoutBath)"
   ]
  },
  {
   "cell_type": "code",
   "execution_count": 6,
   "metadata": {},
   "outputs": [
    {
     "data": {
      "text/plain": [
       "0.0"
      ]
     },
     "execution_count": 6,
     "metadata": {},
     "output_type": "execute_result"
    }
   ],
   "source": [
    "get_E_E_W(0.4,0.05, SystemExistance.NotExist)"
   ]
  },
  {
   "cell_type": "markdown",
   "metadata": {},
   "source": [
    "### 2) Gas Consumption / ガス消費量"
   ]
  },
  {
   "cell_type": "markdown",
   "metadata": {},
   "source": [
    "Hourly gas consumption of hot water supply system is calculated by the equation below.  \n",
    "When there is no systems of the kitchen, the washroom and the bathroom, the daily electric power is equals to be 0.0.\n",
    "\n",
    "$$\n",
    "\\displaystyle E_{G,W} = E_{G,hs}\n",
    "$$\n",
    "\n",
    "Where  \n",
    "$ E_{G,W} $ is the hourly gas consumption of the hot water supply sustem / 1時間当たりの給湯設備のガス消費量 (MJ/hour);  \n",
    "$ E_{G,hs} $ is the hourly gas consumption of the water heater / 1時間当たりの給湯機のガス消費量 (MJ/hour). "
   ]
  },
  {
   "cell_type": "code",
   "execution_count": 7,
   "metadata": {},
   "outputs": [],
   "source": [
    "def get_E_G_W(E_G_hs, _system_exist):\n",
    "    return 0.0 if _system_exist == SystemExistance.NotExist else E_G_hs "
   ]
  },
  {
   "cell_type": "markdown",
   "metadata": {},
   "source": [
    "#### Example"
   ]
  },
  {
   "cell_type": "markdown",
   "metadata": {},
   "source": [
    "$ E_{G,W} = 80.0 $ (MJ/day)  \n",
    "Exsitance of the syste is selected below:\n",
    "- Exsit with Bath\n",
    "- Exsit without Bath\n",
    "- Not Exsit"
   ]
  },
  {
   "cell_type": "code",
   "execution_count": 8,
   "metadata": {},
   "outputs": [
    {
     "data": {
      "text/plain": [
       "80.0"
      ]
     },
     "execution_count": 8,
     "metadata": {},
     "output_type": "execute_result"
    }
   ],
   "source": [
    "get_E_G_W(80.0, SystemExistance.ExistWithBath)"
   ]
  },
  {
   "cell_type": "code",
   "execution_count": 9,
   "metadata": {},
   "outputs": [
    {
     "data": {
      "text/plain": [
       "80.0"
      ]
     },
     "execution_count": 9,
     "metadata": {},
     "output_type": "execute_result"
    }
   ],
   "source": [
    "get_E_G_W(80.0, SystemExistance.ExistWithoutBath)"
   ]
  },
  {
   "cell_type": "code",
   "execution_count": 10,
   "metadata": {},
   "outputs": [
    {
     "data": {
      "text/plain": [
       "0.0"
      ]
     },
     "execution_count": 10,
     "metadata": {},
     "output_type": "execute_result"
    }
   ],
   "source": [
    "get_E_G_W(80.0, SystemExistance.NotExist)"
   ]
  },
  {
   "cell_type": "markdown",
   "metadata": {},
   "source": [
    "### 3) Kerosene Consumption / 灯油消費量"
   ]
  },
  {
   "cell_type": "markdown",
   "metadata": {},
   "source": [
    "hourly kerosene consumption of hot water supply system is calculated by the equation below.  \n",
    "When there is no systems of the kitchen, the washroom and the bathroom, the daily electric power is equals to be 0.0.\n",
    "\n",
    "$$\n",
    "\\displaystyle E_{K,W} = E_{K,hs}\n",
    "$$\n",
    "\n",
    "Where  \n",
    "$ E_{K,W} $ is the hourly kerosene consumption of the hot water supply sustem / 1日当たりの給湯設備の灯油消費電 (MJ/hour);  \n",
    "$ E_{K,hs} $ is the hourly kerosene consumption of the water heater / 1日当たりの給湯機の灯油消費量 (MJ/hour). "
   ]
  },
  {
   "cell_type": "code",
   "execution_count": 11,
   "metadata": {},
   "outputs": [],
   "source": [
    "def get_E_K_W(E_K_hs, _system_exist):\n",
    "    return 0.0 if _system_exist == SystemExistance.NotExist else E_K_hs "
   ]
  },
  {
   "cell_type": "markdown",
   "metadata": {},
   "source": [
    "#### Example"
   ]
  },
  {
   "cell_type": "markdown",
   "metadata": {},
   "source": [
    "$ E_{K,W} = 80.0 $ (MJ/day)  \n",
    "Exsitance of the syste is selected below:\n",
    "- Exsit with Bath\n",
    "- Exsit without Bath\n",
    "- Not Exsit"
   ]
  },
  {
   "cell_type": "code",
   "execution_count": 12,
   "metadata": {},
   "outputs": [
    {
     "data": {
      "text/plain": [
       "80.0"
      ]
     },
     "execution_count": 12,
     "metadata": {},
     "output_type": "execute_result"
    }
   ],
   "source": [
    "get_E_K_W(80.0, SystemExistance.ExistWithBath)"
   ]
  },
  {
   "cell_type": "code",
   "execution_count": 13,
   "metadata": {},
   "outputs": [
    {
     "data": {
      "text/plain": [
       "80.0"
      ]
     },
     "execution_count": 13,
     "metadata": {},
     "output_type": "execute_result"
    }
   ],
   "source": [
    "get_E_K_W(80.0, SystemExistance.ExistWithoutBath)"
   ]
  },
  {
   "cell_type": "code",
   "execution_count": 14,
   "metadata": {},
   "outputs": [
    {
     "data": {
      "text/plain": [
       "0.0"
      ]
     },
     "execution_count": 14,
     "metadata": {},
     "output_type": "execute_result"
    }
   ],
   "source": [
    "get_E_K_W(80.0, SystemExistance.NotExist)"
   ]
  },
  {
   "cell_type": "markdown",
   "metadata": {},
   "source": [
    "### 4) Primary Energy Consumption by Other Fuel / その他の燃料による一次エネルギー消費量"
   ]
  },
  {
   "cell_type": "markdown",
   "metadata": {},
   "source": [
    "Hourly primary energy consumption by other fuel is calculated by the equation below.  \n",
    "\n",
    "$$\n",
    "\\displaystyle E_{M,W} = 0.0\n",
    "$$\n",
    "\n",
    "Where  \n",
    "$ E_{M,W} $ is the hourly primary energy consumption by other fuel of the hot water supply sustem / 1時間当たりの給湯設備のその他の燃料による一次エネルギー消費量 (MJ/hour)."
   ]
  },
  {
   "cell_type": "code",
   "execution_count": 15,
   "metadata": {},
   "outputs": [],
   "source": [
    "def get_E_M_W():\n",
    "    return 0.0"
   ]
  },
  {
   "cell_type": "markdown",
   "metadata": {},
   "source": [
    "#### Example"
   ]
  },
  {
   "cell_type": "code",
   "execution_count": 16,
   "metadata": {},
   "outputs": [
    {
     "data": {
      "text/plain": [
       "0.0"
      ]
     },
     "execution_count": 16,
     "metadata": {},
     "output_type": "execute_result"
    }
   ],
   "source": [
    "get_E_M_W()"
   ]
  },
  {
   "cell_type": "markdown",
   "metadata": {},
   "source": [
    "## Energy Consumption of Water Heater / 給湯機のエネルギー消費量"
   ]
  },
  {
   "cell_type": "markdown",
   "metadata": {},
   "source": [
    "This calculation is represented in other sheet."
   ]
  },
  {
   "cell_type": "code",
   "execution_count": 17,
   "metadata": {},
   "outputs": [],
   "source": [
    "def Get_E_hs():\n",
    "    return { \"Electric\": 0.0, \"Gas\": 0.0, \"Kerosene\": 0.0}  # dummy"
   ]
  },
  {
   "cell_type": "markdown",
   "metadata": {},
   "source": [
    "#### Example"
   ]
  },
  {
   "cell_type": "code",
   "execution_count": 18,
   "metadata": {},
   "outputs": [
    {
     "data": {
      "text/plain": [
       "{'Electric': 0.0, 'Gas': 0.0, 'Kerosene': 0.0}"
      ]
     },
     "execution_count": 18,
     "metadata": {},
     "output_type": "execute_result"
    }
   ],
   "source": [
    "Get_E_hs()"
   ]
  },
  {
   "cell_type": "markdown",
   "metadata": {},
   "source": [
    "## Hot Water Supply Load Corrected for Solar Heat / 太陽熱補正給湯負荷"
   ]
  },
  {
   "cell_type": "markdown",
   "metadata": {},
   "source": [
    "Hourly hot water supply load corrected for solar heat with each usage are calculated by the equations below."
   ]
  },
  {
   "cell_type": "markdown",
   "metadata": {},
   "source": [
    "If the sum of $L'_{k}$, $L'_{s}$, $L'_{w}$, $L'_{b1}$, $L'_{b2}$ and $L'_{ab1}$　is zero,"
   ]
  },
  {
   "cell_type": "markdown",
   "metadata": {},
   "source": [
    "$$\n",
    "\\begin{equation*}\n",
    "    L''_{k} = 0\n",
    "\\end{equation*}\n",
    "$$\n",
    "\n",
    "$$\n",
    "\\begin{equation*}\n",
    "    L''_{s} = 0\n",
    "\\end{equation*}\n",
    "$$\n",
    "\n",
    "$$\n",
    "\\begin{equation*}\n",
    "    L''_{w} = 0\n",
    "\\end{equation*}\n",
    "$$\n",
    "\n",
    "$$\n",
    "\\begin{equation*}\n",
    "    L''_{b1} = 0\n",
    "\\end{equation*}\n",
    "$$\n",
    "\n",
    "$$\n",
    "\\begin{equation*}\n",
    "    L''_{b2} = 0\n",
    "\\end{equation*}\n",
    "$$\n",
    "\n",
    "$$\n",
    "\\begin{equation*}\n",
    "    L''_{ba1} = 0\n",
    "\\end{equation*}\n",
    "$$\n",
    "\n",
    "$$\n",
    "\\begin{equation*}\n",
    "    L''_{ba2} = L'_{ba2}\n",
    "\\end{equation*}\n",
    "$$"
   ]
  },
  {
   "cell_type": "markdown",
   "metadata": {},
   "source": [
    "Otherwise,"
   ]
  },
  {
   "cell_type": "markdown",
   "metadata": {},
   "source": [
    "$$\n",
    "\\displaystyle L''_K = L'_k - L_{sun} \\times \\frac { L'_k }{ (L'_k + L'_s + L'_w + L'_{b1} + L'_{b2} + L'_{ba1} ) }\n",
    "$$"
   ]
  },
  {
   "cell_type": "markdown",
   "metadata": {},
   "source": [
    "$$\n",
    "\\displaystyle L''_s = L'_s - L_{sun} \\times \\frac { L'_s }{ (L'_k + L'_s + L'_w + L'_{b1} + L'_{b2} + L'_{ba1} ) }\n",
    "$$"
   ]
  },
  {
   "cell_type": "markdown",
   "metadata": {},
   "source": [
    "$$\n",
    "\\displaystyle L''_w = L'_w - L_{sun} \\times \\frac { L'_w }{ (L'_k + L'_s + L'_w + L'_{b1} + L'_{b2} + L'_{ba1} ) }\n",
    "$$  "
   ]
  },
  {
   "cell_type": "markdown",
   "metadata": {},
   "source": [
    "$$\n",
    "\\displaystyle L''_{b1}= L'_{b1} - L_{sun} \\times \\frac{ L'_{b1} } {(L'_k + L'_s + L'_w + L'_{b1} + L'_{b2} + L'_{ba1} ) }\n",
    "$$"
   ]
  },
  {
   "cell_type": "markdown",
   "metadata": {
    "collapsed": true
   },
   "source": [
    "$$\n",
    "\\displaystyle L''_{b2}= L'_{b2} - L_{sun} \\times \\frac{ L'_{b2} } {(L'_k + L'_s + L'_w + L'_{b1} + L'_{b2} + L'_{ba1} ) }\n",
    "$$"
   ]
  },
  {
   "cell_type": "markdown",
   "metadata": {
    "collapsed": true
   },
   "source": [
    "$$\n",
    "\\displaystyle L''_{ba1} = L'_{ba1} - L_{sun} \\times \\frac{L'_{ba1}}{(L'_k + L'_s + L'_w + L'_{b1} + L'_{b2} + L'_{ba1})}\n",
    "$$"
   ]
  },
  {
   "cell_type": "markdown",
   "metadata": {
    "collapsed": true
   },
   "source": [
    "$$\n",
    "\\displaystyle L''_{ba2} = L'_{ba2}\n",
    "$$"
   ]
  },
  {
   "cell_type": "markdown",
   "metadata": {},
   "source": [
    "where  \n",
    "$ L''_{k} $ is the hourly hot water supply load corrected for solar heat by the kitchen./1時間当たりの台所水栓における太陽熱補正給湯熱負荷(MJ/hour)  \n",
    "$ L''_{s} $ is the hourly hot water supply load corrected for solar heat by the shower./1時間当たりの浴室シャワー水栓における太陽熱補正給湯熱負荷(MJ/hour)  \n",
    "$ L''_{w} $ is the hourly hot water supply load corrected for solar heat by the washroom./1時間当たりの洗面水栓における太陽熱補正給湯熱負荷(MJ/hour)  \n",
    "$ L''_{b1} $ is the hourly hot water supply load corrected for solar heat by filling the bathtub manually./1時間当たりの浴槽水栓湯はり時における太陽熱補正給湯熱負荷(MJ/hour)  \n",
    "$ L''_{b2} $ is the hourly hot water supply load corrected for solar heat by filling the bathtub automattically./1時間当たりの浴槽自動湯はり時における太陽熱補正給湯熱負荷(MJ/hour)  \n",
    "$ L''_{ba1} $ is the hourly hot water supply load corrected for solar heat by addition of hot water to bathtub./1時間当たりの浴槽水栓さし湯時における太陽熱補正給湯熱負荷(MJ/hour)  \n",
    "$ L''_{ba2} $ is the hourly hot water supply load corrected for solar heat by rewarming./1時間当たりの浴槽追焚時における太陽熱補正給湯熱負荷(MJ/hour)  \n",
    "$ L'_{k} $ is the hourly hot water supply load corrected for hot water saving by the kitchen./1時間当たりの台所水栓における節湯補正給湯熱負荷(MJ/hour)  \n",
    "$ L'_{s} $ is the hourly hot water supply load corrected for hot water saving by the shower./1時間当たりの浴室シャワー水栓における節湯補正給湯熱負荷(MJ/hour)  \n",
    "$ L'_{w} $ is the hourly hot water supply load corrected for hot water saving by the washroom./1時間当たりの洗面水栓における節湯補正給湯熱負荷(MJ/hour)  \n",
    "$ L'_{b1} $ is the hourly hot water supply load corrected for hot water saving by filling the bathtub manually./1時間当たりの浴槽水栓湯はり時における節湯補正給湯熱負荷(MJ/hour)  \n",
    "$ L'_{b2} $ is the hourly hot water supply load corrected for hot water saving by filling the bathtub automatically./1時間当たりの浴槽自動湯はり時における節湯補正給湯熱負荷(MJ/hour)  \n",
    "$ L'_{ba1} $ is the hourly hot water supply load corrected for hot water saving by addition of hot water to bathtub./1時間当たりの浴槽水栓さし湯時における節湯補正給湯熱負荷(MJ/hour)  \n",
    "$ L'_{ba2} $ is the hourly hot water supply load corrected for hot water saving by rewarming./1時間当たりの浴槽追焚時における節湯補正給湯熱負荷(MJ/hour)  \n",
    "$ L_{sun} $ is the hourly heat collection amount corrected for solar hot water supply equipment./1時間当たりの太陽熱利用給湯設備による補正集熱量(MJ/hour)"
   ]
  },
  {
   "cell_type": "markdown",
   "metadata": {},
   "source": [
    "The hourly heat collection amount corrected for solar hot water supply equipment $ L_{sun} $ is a value calculated by Chapter 9, Section 2 \"Liquid collecting type solar thermal utilization equipment\" in the case where the solar heat utilization hot-water supply equipment is liquid collecting type, and is a value calculated by Chapter 9, Section 3 \"Air collecting type solar heat utilization equipment\" in the case of air collecting type."
   ]
  },
  {
   "cell_type": "code",
   "execution_count": 19,
   "metadata": {},
   "outputs": [],
   "source": [
    "def get_L_2dash( L_dash_k, L_dash_s, L_dash_w, L_dash_b1, L_dash_b2, L_dash_ba1, L_dash_ba2, L_sun ):\n",
    "    \n",
    "    if sum([L_dash_k, L_dash_s, L_dash_w, L_dash_b1, L_dash_b2, L_dash_ba1]) == 0:\n",
    "        L_2dash_k   = 0\n",
    "        L_2dash_s   = 0\n",
    "        L_2dash_w   = 0\n",
    "        L_2dash_b1  = 0\n",
    "        L_2dash_b2  = 0\n",
    "        L_2dash_ba1 = 0\n",
    "        L_2dash_ba2 = L_dash_ba2\n",
    "    else:\n",
    "        L_2dash_k   = L_dash_k   - L_sun * L_dash_k   / ( L_dash_k + L_dash_s + L_dash_w + L_dash_b1 + L_dash_b2 + L_dash_ba1 )\n",
    "        L_2dash_s   = L_dash_s   - L_sun * L_dash_s   / ( L_dash_k + L_dash_s + L_dash_w + L_dash_b1 + L_dash_b2 + L_dash_ba1 )\n",
    "        L_2dash_w   = L_dash_w   - L_sun * L_dash_w   / ( L_dash_k + L_dash_s + L_dash_w + L_dash_b1 + L_dash_b2 + L_dash_ba1 )\n",
    "        L_2dash_b1  = L_dash_b1  - L_sun * L_dash_b1  / ( L_dash_k + L_dash_s + L_dash_w + L_dash_b1 + L_dash_b2 + L_dash_ba1 )\n",
    "        L_2dash_b2  = L_dash_b2  - L_sun * L_dash_b2  / ( L_dash_k + L_dash_s + L_dash_w + L_dash_b1 + L_dash_b2 + L_dash_ba1 )\n",
    "        L_2dash_ba1 = L_dash_ba1 - L_sun * L_dash_ba1 / ( L_dash_k + L_dash_s + L_dash_w + L_dash_b1 + L_dash_b2 + L_dash_ba1 )\n",
    "        L_2dash_ba2 = L_dash_ba2\n",
    "        \n",
    "    return L_2dash_k, L_2dash_s, L_2dash_w, L_2dash_b1, L_2dash_b2, L_2dash_ba1, L_2dash_ba2"
   ]
  },
  {
   "cell_type": "markdown",
   "metadata": {},
   "source": [
    "#### Example"
   ]
  },
  {
   "cell_type": "markdown",
   "metadata": {},
   "source": [
    "$ L'_{k} = 1 $ MJ/hour  \n",
    "$ L'_{s} = 1 $ MJ/hour  \n",
    "$ L'_{w} = 1 $ MJ/hour  \n",
    "$ L'_{b1} = 1 $ MJ/hour  \n",
    "$ L'_{b2} = 1 $ MJ/hour  \n",
    "$ L'_{ba1} = 1 $ MJ/hour  \n",
    "$ L'_{ba2}  = 1 $ MJ/hour  \n",
    "$ L_{sun} = 1 $ MJ/hour"
   ]
  },
  {
   "cell_type": "code",
   "execution_count": 20,
   "metadata": {},
   "outputs": [
    {
     "data": {
      "text/plain": [
       "(0.8333333333333334,\n",
       " 0.8333333333333334,\n",
       " 0.8333333333333334,\n",
       " 0.8333333333333334,\n",
       " 0.8333333333333334,\n",
       " 0.8333333333333334,\n",
       " 1)"
      ]
     },
     "execution_count": 20,
     "metadata": {},
     "output_type": "execute_result"
    }
   ],
   "source": [
    "L_2dash_k, L_2dash_s, L_2dash_w, L_2dash_b1, L_2dash_b2, L_2dash_ba1, L_2dash_ba2 \\\n",
    "    = get_L_2dash( L_dash_k = 1, L_dash_s = 1, L_dash_w = 1, L_dash_b1 = 1, L_dash_b2 = 1, L_dash_ba1 = 1, L_dash_ba2 = 1, L_sun = 1 ) \n",
    "( L_2dash_k, L_2dash_s, L_2dash_w, L_2dash_b1, L_2dash_b2, L_2dash_ba1, L_2dash_ba2 )"
   ]
  },
  {
   "cell_type": "markdown",
   "metadata": {},
   "source": [
    "## hot water supply load corrected for hot water saving / 節湯補正給湯熱負荷"
   ]
  },
  {
   "cell_type": "markdown",
   "metadata": {
    "collapsed": true
   },
   "source": [
    "Hourly hot water supply load corrected for hot water saving by the kitchen, the shower and the washroom is calculated by the equation below.  "
   ]
  },
  {
   "cell_type": "markdown",
   "metadata": {
    "collapsed": true
   },
   "source": [
    "$$\n",
    "\\displaystyle L'_{k} = W'_k \\times (\\theta_{sw,k} - \\theta_{wtr}) \\times 4.186 \\times 10^{-3}\n",
    "$$"
   ]
  },
  {
   "cell_type": "markdown",
   "metadata": {
    "collapsed": true
   },
   "source": [
    "$$\n",
    "\\displaystyle L'_{s} = W'_s \\times (\\theta_{sw,s} - \\theta_{wtr}) \\times 4.186 \\times 10^{-3}\n",
    "$$"
   ]
  },
  {
   "cell_type": "markdown",
   "metadata": {},
   "source": [
    "$$\n",
    "\\displaystyle L'_{w} = W'_w \\times (\\theta_{sw,w} - \\theta_{wtr}) \\times 4.186 \\times 10^{-3}\n",
    "$$"
   ]
  },
  {
   "cell_type": "markdown",
   "metadata": {},
   "source": [
    "Hourly hot water supply load corrected for hot water saving by filling the bathtub manually $L'_{b1}$ and hourly hot water supply load corrected for hot water saving by filling the bathtub automatically $L'_{b2}$ is calculated by the equation below, depending on presence of bathroom etc and type of bath function (\"Hot water supply single function\", \"Bathtub water heater (no additional firing)\" or \"Bathtub water heater (with additional firing)\")."
   ]
  },
  {
   "cell_type": "markdown",
   "metadata": {},
   "source": [
    "When there is no bathroom etc (not depending on the type of bath function),"
   ]
  },
  {
   "cell_type": "markdown",
   "metadata": {},
   "source": [
    "$$\n",
    "\\displaystyle L'_{b1} = 0.0\n",
    "$$"
   ]
  },
  {
   "cell_type": "markdown",
   "metadata": {
    "collapsed": true
   },
   "source": [
    "$$\n",
    "\\displaystyle L'_{b2} = 0.0\n",
    "$$"
   ]
  },
  {
   "cell_type": "markdown",
   "metadata": {},
   "source": [
    "When there is a bathroom etc, and the type of the bath function is a single hot-water supply function,"
   ]
  },
  {
   "cell_type": "markdown",
   "metadata": {},
   "source": [
    "$$\n",
    "\\displaystyle L'_{b1} = W'_{b1} \\times ( \\theta_{sw,b1} - \\theta_{wtr} ) \\times 4.186 \\times 10^{-3}\n",
    "$$"
   ]
  },
  {
   "cell_type": "markdown",
   "metadata": {},
   "source": [
    "$$\n",
    "\\displaystyle L'_{b2} = 0.0\n",
    "$$"
   ]
  },
  {
   "cell_type": "markdown",
   "metadata": {},
   "source": [
    "When there is a bathroom etc, the type of bath function is a bath water heater (not depending on the presence or absence of additional heating),"
   ]
  },
  {
   "cell_type": "markdown",
   "metadata": {},
   "source": [
    "$$\n",
    "\\displaystyle L'_{b1} = 0.0\n",
    "$$"
   ]
  },
  {
   "cell_type": "markdown",
   "metadata": {},
   "source": [
    "$$\n",
    "\\displaystyle L'_{b2} = W'_{b2} \\times ( \\theta_{sw,b2} - \\theta_{wtr} ) \\times 4.186 \\times 10^{-3}\n",
    "$$"
   ]
  },
  {
   "cell_type": "markdown",
   "metadata": {},
   "source": [
    "Hourly hot water supply load corrected for hot water saving by addition of hot water to bathtub $L'_{ba1}$ and hourly hot water supply load corrected for hot water saving by rewarming $L'_{ba2}$ is calculated by the equation below, depending on presence of bathroom etc and type of bath function (\"Hot water supply single function\", \"Bathtub water heater (no additional firing)\" or \"Bathtub water heater (with additional firing)\")."
   ]
  },
  {
   "cell_type": "markdown",
   "metadata": {},
   "source": [
    "When there is no bathroom etc,"
   ]
  },
  {
   "cell_type": "markdown",
   "metadata": {},
   "source": [
    "$$\n",
    "\\displaystyle L'_{ba1} = 0.0\n",
    "$$"
   ]
  },
  {
   "cell_type": "markdown",
   "metadata": {},
   "source": [
    "$$\n",
    "\\displaystyle L'_{ba2} = 0.0\n",
    "$$"
   ]
  },
  {
   "cell_type": "markdown",
   "metadata": {},
   "source": [
    "When there is a bathroom etc, and the type of bath function is hot water supply single function or bath water heater (no additional firing),"
   ]
  },
  {
   "cell_type": "markdown",
   "metadata": {},
   "source": [
    "$$\n",
    "\\displaystyle L'_{ba1} = W'_{ba1} \\times ( \\theta_{sw,ba1} - \\theta_{wtr} ) \\times 4.186 \\times 10^{-3}\n",
    "$$"
   ]
  },
  {
   "cell_type": "markdown",
   "metadata": {},
   "source": [
    "$$\n",
    "\\displaystyle L'_{ba2} = 0.0\n",
    "$$"
   ]
  },
  {
   "cell_type": "markdown",
   "metadata": {},
   "source": [
    "When there is a bathroom etc, and the type of bath function is a bath water heater (with additional firing),"
   ]
  },
  {
   "cell_type": "markdown",
   "metadata": {},
   "source": [
    "$$\n",
    "\\displaystyle L'_{ba1} = 0.0\n",
    "$$"
   ]
  },
  {
   "cell_type": "markdown",
   "metadata": {},
   "source": [
    "$$\n",
    "\\displaystyle L'_{ba2} = L_{ba} \\times 1.25\n",
    "$$"
   ]
  },
  {
   "cell_type": "markdown",
   "metadata": {},
   "source": [
    "Where  \n",
    "$ L'_{k} $ is the hourly hot water supply load corrected for hot water saving by the kitchen. / 1時間当たりの台所水栓における節湯補正給湯熱負荷(MJ/hour)  \n",
    "$ L'_{s} $ is the hourly hot water supply load corrected for hot water saving by the shower. / 1時間当たりの浴室シャワー水栓における節湯補正給湯熱負荷(MJ/hour)  \n",
    "$ L'_{w} $ is the hourly hot water supply load corrected for hot water saving by the washroom. / 1時間当たりの洗面水栓における節湯補正給湯熱負荷(MJ/hour)  \n",
    "$ L'_{b1} $ is the hourly hot water supply load corrected for hot water saving by filling the bathtub manually. / 1時間当たりの浴槽水栓湯はり時における節湯補正給湯熱負荷(MJ/hour)  \n",
    "$ L'_{b2} $ is the hourly hot water supply load corrected for hot water saving by filling the bathtub automattically. / 1時間当たりの浴槽自動湯はり時における節湯補正給湯熱負荷(MJ/hour)  \n",
    "$ L'_{ba1} $ is the hourly hot water supply load corrected for hot water saving by addition of hot water to bathtub. / 1時間当たりの浴槽水栓さし湯時における節湯補正給湯熱負荷(MJ/hour)  \n",
    "$ L'_{ba2} $ is the hourly hot water supply load corrected for hot water saving by rewarming. / 1時間当たりの浴槽追焚時における節湯補正給湯熱負荷(MJ/hour)  \n",
    "$ W'_{k} $ is the hourly hot water supply amount corrected for hot water saving by the kitchen. / 1時間当たりの台所水栓における節湯補正給湯量(L/hour)  \n",
    "$ W'_{s} $ is the hourly hot water supply amount corrected for hot water saving by the shower. / 1時間当たりの浴室シャワー水栓における節湯補正給湯量(L/hour)  \n",
    "$ W'_{w} $ is the hourly hot water supply amount corrected for hot water saving by the washroom. / 1時間当たりの洗面水栓における節湯補正給湯量(L/hour)  \n",
    "$ W'_{b1} $ is the hourly hot water supply amount corrected for hot water saving by filling the bathtub manually. / 1時間当たりの浴槽水栓湯はり時における節湯補正給湯量(L/hour)  \n",
    "$ W'_{b2} $ is the hourly hot water supply amount corrected for hot water saving by filling the bathtub automattically. / 1時間当たりの浴槽自動湯はり時における節湯補正給湯量(L/hour)  \n",
    "$ W'_{ba1} $ is the hourly hot water supply amount corrected for hot water saving by addition of hot water to bathtub. / 1時間当たりの浴槽水栓さし湯時における節湯補正給湯量(L/hour)  \n",
    "$ L'_{ba} $ is the hourly hot water supply heat load by boiling the bathtub. / 1時間当たりの浴槽沸かし直しによる給湯熱負荷(MJ/hour)  \n",
    "$ \\theta_{sw,k} $ is the reference hot water supply temperature by the kitchen. / 台所水栓における基準給湯温度(℃)  \n",
    "$ \\theta_{sw,s} $ is the reference hot water supply temperature by the shower. / 浴室シャワー水栓における基準給湯温度(℃)  \n",
    "$ \\theta_{sw,w} $ is the reference hot water supply temperature by the washroom. / 洗面水栓における基準給湯温度(℃)  \n",
    "$ \\theta_{sw,b1} $ is the reference hot water supply temperature by filling the bathtub manually. / 浴槽水栓湯はり時における基準給湯温度(℃)  \n",
    "$ \\theta_{sw,b2} $ is the reference hot water supply temperature by filling the bathtub automattically. / 浴槽自動湯はり時における基準給湯温度(℃)  \n",
    "$ \\theta_{sw,ba1} $ is the reference hot water supply temperature by addition of hot water to bathtub. / 浴槽水栓さし湯時における基準給湯温度(℃)  \n",
    "$ \\theta_{wtr} $ is the hourly average feed water temperature. / 日平均給水温度(℃)  "
   ]
  },
  {
   "cell_type": "markdown",
   "metadata": {},
   "source": [
    "The reference hot water supply temperature is represented by Table 5 for each application."
   ]
  },
  {
   "cell_type": "markdown",
   "metadata": {},
   "source": [
    "#### <center>表5　用途ごとの基準給湯温度</center>\n",
    "\n",
    "| 用途 | 記号 | 基準給湯温度 |\n",
    "| ----- | ---- | ---- |\n",
    "| 台所水栓 | $\\theta_{sw,k}$ | 40 |\n",
    "|浴室シャワー水栓|$\\theta_{sw,s}$|40|\n",
    "|洗面水栓|$\\theta_{sw_w}$|40|\n",
    "|浴槽水栓湯はり|$\\theta_{sw,b1}$|40|\n",
    "|浴槽自動湯はり|$\\theta_{sw,b1}$|40|\n",
    "|浴槽水栓さし湯|$\\theta_{sw,ba1}$|60|\n"
   ]
  },
  {
   "cell_type": "code",
   "execution_count": 21,
   "metadata": {},
   "outputs": [],
   "source": [
    "def get_L_dash( W_dash_k, W_dash_s, W_dash_w, W_dash_b1, W_dash_b2, W_dash_ba1, L_ba, theta_wtr, system_exist, input_Bath_Function ):\n",
    "    \n",
    "    theta_sw_k, theta_sw_s, theta_sw_w, theta_sw_b1, theta_sw_b2, theta_sw_ba1 = 40.0, 40.0, 40.0, 40.0, 40.0, 60.0\n",
    "    \n",
    "    L_dash_k = W_dash_k * ( theta_sw_k - theta_wtr ) * 4.186 * 10**(-3)\n",
    "    L_dash_s = W_dash_s * ( theta_sw_s - theta_wtr ) * 4.186 * 10**(-3)\n",
    "    L_dash_w = W_dash_w * ( theta_sw_w - theta_wtr ) * 4.186 * 10**(-3)\n",
    "    \n",
    "    if system_exist == SystemExistance.ExistWithoutBath:\n",
    "        L_dash_b1 = 0.0\n",
    "        L_dash_b2 = 0.0\n",
    "        L_dash_ba1 = 0.0\n",
    "        L_dash_ba2 = 0.0\n",
    "    elif system_exist == SystemExistance.ExistWithBath:\n",
    "        if input_Bath_Function == 'Bath_Only':\n",
    "            L_dash_b1  = W_dash_b1  * ( theta_sw_b1  - theta_wtr ) * 4.186 * 10**(-3)\n",
    "            L_dash_b2  = 0.0\n",
    "            L_dash_ba1 = W_dash_ba1 * ( theta_sw_ba1 - theta_wtr ) * 4.186 * 10**(-3)\n",
    "            L_dash_ba2 = 0.0\n",
    "        elif input_Bath_Function == 'Bath_With_Oidaki':\n",
    "            L_dash_b1  = 0.0\n",
    "            L_dash_b2  = W_dash_b2  * ( theta_sw_b2  - theta_wtr ) * 4.186 * 10**(-3)\n",
    "            L_dash_ba1 = 0.0\n",
    "            L_dash_ba2 = L_ba * 1.25\n",
    "        elif input_Bath_Function == 'Bath_Without_Oidaki':\n",
    "            L_dash_b1  = 0.0\n",
    "            L_dash_b2  = W_dash_b2  * ( theta_sw_b2  - theta_wtr ) * 4.186 * 10**(-3)\n",
    "            L_dash_ba1 = W_dash_ba1 * ( theta_sw_ba1 - theta_wtr ) * 4.186 * 10**(-3)\n",
    "            L_dash_ba2 = 0.0\n",
    "        else:\n",
    "            raise ValueError('input_Bath_Function に不正な値が指定されました。')\n",
    "    else:\n",
    "        raise ValueError('system_exist に不正な値が指定されました。')\n",
    "\n",
    "    return L_dash_k, L_dash_s, L_dash_w, L_dash_b1, L_dash_b2, L_dash_ba1, L_dash_ba2"
   ]
  },
  {
   "cell_type": "markdown",
   "metadata": {},
   "source": [
    "#### Example"
   ]
  },
  {
   "cell_type": "code",
   "execution_count": 22,
   "metadata": {},
   "outputs": [
    {
     "data": {
      "text/plain": [
       "(2.093, 2.093, 3.1395, 0.0, 0.0, 0.0, 0.0)"
      ]
     },
     "execution_count": 22,
     "metadata": {},
     "output_type": "execute_result"
    }
   ],
   "source": [
    "get_L_dash( W_dash_k = 20.0, W_dash_s = 20.0, W_dash_w = 30.0, W_dash_b1 = 20.0, W_dash_b2 = 5.0, W_dash_ba1 = 30.0, L_ba = 20.0,\n",
    "            theta_wtr = 15.0, system_exist = SystemExistance.ExistWithoutBath, input_Bath_Function = \"Bath_Only\" )"
   ]
  },
  {
   "cell_type": "code",
   "execution_count": 23,
   "metadata": {},
   "outputs": [
    {
     "data": {
      "text/plain": [
       "(2.093, 2.093, 3.1395, 2.093, 0.0, 5.6511000000000005, 0.0)"
      ]
     },
     "execution_count": 23,
     "metadata": {},
     "output_type": "execute_result"
    }
   ],
   "source": [
    "get_L_dash( W_dash_k = 20.0, W_dash_s = 20.0, W_dash_w = 30.0, W_dash_b1 = 20.0, W_dash_b2 = 5.0, W_dash_ba1 = 30.0, L_ba = 20.0,\n",
    "            theta_wtr = 15.0, system_exist = SystemExistance.ExistWithBath, input_Bath_Function = \"Bath_Only\" )"
   ]
  },
  {
   "cell_type": "code",
   "execution_count": 24,
   "metadata": {},
   "outputs": [
    {
     "data": {
      "text/plain": [
       "(2.093, 2.093, 3.1395, 0.0, 0.52325, 0.0, 25.0)"
      ]
     },
     "execution_count": 24,
     "metadata": {},
     "output_type": "execute_result"
    }
   ],
   "source": [
    "get_L_dash( W_dash_k = 20.0, W_dash_s = 20.0, W_dash_w = 30.0, W_dash_b1 = 20.0, W_dash_b2 = 5.0, W_dash_ba1 = 30.0, L_ba = 20.0,\n",
    "            theta_wtr = 15.0, system_exist = SystemExistance.ExistWithBath, input_Bath_Function = \"Bath_With_Oidaki\" )"
   ]
  },
  {
   "cell_type": "code",
   "execution_count": 25,
   "metadata": {},
   "outputs": [
    {
     "data": {
      "text/plain": [
       "(2.093, 2.093, 3.1395, 0.0, 0.52325, 5.6511000000000005, 0.0)"
      ]
     },
     "execution_count": 25,
     "metadata": {},
     "output_type": "execute_result"
    }
   ],
   "source": [
    "get_L_dash( W_dash_k = 20.0, W_dash_s = 20.0, W_dash_w = 30.0, W_dash_b1 = 20.0, W_dash_b2 = 5.0, W_dash_ba1 = 30.0, L_ba = 20.0,\n",
    "            theta_wtr = 15.0, system_exist = SystemExistance.ExistWithBath, input_Bath_Function = \"Bath_Without_Oidaki\" )"
   ]
  },
  {
   "cell_type": "markdown",
   "metadata": {},
   "source": [
    "## 9.節湯補正給湯量"
   ]
  },
  {
   "cell_type": "markdown",
   "metadata": {},
   "source": [
    "Hourly hot water supply amount corrected for hot water saving for each use is calculated by the equation below."
   ]
  },
  {
   "cell_type": "markdown",
   "metadata": {},
   "source": [
    "$$\n",
    "\\displaystyle W'_k = W_k \\times f_{sk} \\times f_{sp}\n",
    "$$"
   ]
  },
  {
   "cell_type": "markdown",
   "metadata": {},
   "source": [
    "$$\n",
    "\\displaystyle W'_s = W_s \\times f_{ss} \\times f_{sp}\n",
    "$$"
   ]
  },
  {
   "cell_type": "markdown",
   "metadata": {},
   "source": [
    "$$\n",
    "\\displaystyle W'_w = W_w \\times f_{sw} \\times f_{sp}\n",
    "$$"
   ]
  },
  {
   "cell_type": "markdown",
   "metadata": {},
   "source": [
    "$$\n",
    "\\displaystyle W'_{b1} = W_{b1} \\times f_{sp} \\times f_{sb}\n",
    "$$"
   ]
  },
  {
   "cell_type": "markdown",
   "metadata": {},
   "source": [
    "$$\n",
    "\\displaystyle W'_{b2} = W_{b2} \\times f_{sb}\n",
    "$$"
   ]
  },
  {
   "cell_type": "markdown",
   "metadata": {},
   "source": [
    "$$\n",
    "\\displaystyle W'_{ba1} = W_{ba1} \\times f_{sp}\n",
    "$$"
   ]
  },
  {
   "cell_type": "markdown",
   "metadata": {},
   "source": [
    "Where  \n",
    "$ \\displaystyle W'_k $ is the hourly hot water supply amount corrected for hot water saving by the kitchen./ 1時間当たりの台所水栓における節湯補正給湯量(L/hour)  \n",
    "$ \\displaystyle W'_s $ is the hourly hot water supply amount corrected for hot water saving by the shower./ 1時間当たりの浴室シャワー水栓における節湯補正給湯量(L/hour)  \n",
    "$ \\displaystyle W'_w $ is the hourly hot water supply amount corrected for hot water saving by the washroom./ 1時間当たりの洗面水栓における節湯補正給湯量(L/hour)  \n",
    "$ \\displaystyle W'_{b1} $ is the hourly hot water supply amount corrected for hot water saving by filling the bathtub manually./ 1時間当たりの浴槽水栓湯はり時における節湯補正給湯量(L/hour)  \n",
    "$ \\displaystyle W'_{b2} $ is the hourly hot water supply amount corrected for hot water saving by filling the bathtub automatically./ 1時間当たりの浴槽自動湯はり時における節湯補正給湯量(L/hour)  \n",
    "$ \\displaystyle W'_{ba1} $ is the hourly hot water supply amount corrected for hot water saving by addition of hot water to bathtub./ 1時間当たりの浴槽水栓さし湯時における節湯補正給湯量(L/hour)  \n",
    "$ \\displaystyle W_k $ is the hourly reference hot water supply amount by the kitchen./ 1時間当たりの台所水栓における基準給湯量(L/hour)  \n",
    "$ \\displaystyle W_s $ is the hourly reference hot water supply amount by the shower./ 1時間当たりの浴室シャワー水栓における基準給湯量(L/hour)  \n",
    "$ \\displaystyle W_w $ is the hourly reference hot water supply amount by the washroom./ 1時間当たりの洗面水栓における基準給湯量(L/hour)  \n",
    "$ \\displaystyle W_{b1} $ is the hourly reference hot water supply amount by filling the bathtub manually./ 1時間当たりの浴槽水栓湯はり時における基準給湯量(L/hour)  \n",
    "$ \\displaystyle W_{b2} $ is the hourly reference hot water supply amount by filling the bathtub automatically./ 1時間当たりの浴槽自動湯はり時における基準給湯量(L/hour)  \n",
    "$ \\displaystyle W_{ba1} $ is the hourly reference hot water supply amount by addition of hot water to bathtub./ 1時間当たりの浴槽水栓さし湯時における基準給湯量(L/hour)  \n",
    "$ \\displaystyle f_{sk} $ is the effect factor of the hot water by the kitchen./ 台所水栓における節湯の効果係数  \n",
    "$ \\displaystyle f_{ss} $ is the effect factor of the hot water by the shower./ 浴室シャワー水栓における節湯の効果係数  \n",
    "$ \\displaystyle f_{sw} $ is the effect factor of the hot water by the washroom./ 洗面水栓における節湯の効果係数  \n",
    "$ \\displaystyle f_{sp} $ is the effect factor of the hot water by the ductwork./ 配管における節湯の効果係数  \n",
    "$ \\displaystyle f_{sb} $ is the effect factor of the hot water by the bathtub ./ 浴槽における節湯の効果係数  "
   ]
  },
  {
   "cell_type": "markdown",
   "metadata": {},
   "source": [
    "The value of the effect factor of the hot water $ \\displaystyle f_{sk} $、$ \\displaystyle f_{ss} $、$ \\displaystyle f_{sw} $ and $ \\displaystyle f_{sp} $ is determined by Appendix J."
   ]
  },
  {
   "cell_type": "code",
   "execution_count": 26,
   "metadata": {},
   "outputs": [],
   "source": [
    "def get_W_dash( W_k, W_s, W_w, W_b1, W_b2, W_ba1, f_sk_A_apply, f_sk_C_apply, f_ss_A_apply, f_ss_B_apply, f_sw_C_apply, f_sp_apply ):\n",
    "    \n",
    "    f_sk_A = { 'Saving' : 0.91, 'None' : 1.00 }[f_sk_A_apply]\n",
    "    f_sk_C = { 'Saving' : 0.70, 'None' : 1.00 }[f_sk_C_apply]\n",
    "    f_sk = f_sk_A * f_sk_C\n",
    "\n",
    "    f_ss_A = { 'Saving' : 0.80, 'None' : 1.00 }[f_ss_A_apply]\n",
    "    f_ss_B = { 'Saving' : 0.85, 'None' : 1.00 }[f_ss_B_apply]\n",
    "    f_ss = f_ss_A * f_ss_B\n",
    "    \n",
    "    f_sw_C = { 'Saving' : 0.70, 'None' : 1.00 }[f_sw_C_apply]\n",
    "    f_sw = f_sw_C\n",
    "\n",
    "    f_sp   = { 'Saving' : 0.95, 'None' : 1.00 }[f_sp_apply]\n",
    "    \n",
    "    f_sb = 1.0\n",
    "    \n",
    "    W_dash_k   = W_k   * f_sk * f_sp\n",
    "    W_dash_s   = W_s   * f_ss * f_sp\n",
    "    W_dash_w   = W_w   * f_sw * f_sp\n",
    "    W_dash_b1  = W_b1  * f_sp * f_sb\n",
    "    W_dash_b2  = W_b2  * f_sb\n",
    "    W_dash_ba1 = W_ba1 * f_sp\n",
    "\n",
    "    return W_dash_k, W_dash_s, W_dash_w, W_dash_b1, W_dash_b2, W_dash_ba1"
   ]
  },
  {
   "cell_type": "markdown",
   "metadata": {},
   "source": [
    "#### Exapmle"
   ]
  },
  {
   "cell_type": "code",
   "execution_count": 27,
   "metadata": {},
   "outputs": [
    {
     "data": {
      "text/plain": [
       "(60.515, 64.6, 66.5, 47.5, 100.0, 95.0)"
      ]
     },
     "execution_count": 27,
     "metadata": {},
     "output_type": "execute_result"
    }
   ],
   "source": [
    "get_W_dash( W_k = 100.0, W_s = 100.0, W_w = 100.0, W_b1 = 50.0, W_b2 = 100.0, W_ba1 = 100.0,\n",
    "            f_sk_A_apply = 'Saving', f_sk_C_apply = 'Saving', f_ss_A_apply ='Saving', f_ss_B_apply = 'Saving', f_sw_C_apply = 'Saving', f_sp_apply = 'Saving' )"
   ]
  },
  {
   "cell_type": "markdown",
   "metadata": {},
   "source": [
    "## 10.基準給湯量"
   ]
  },
  {
   "cell_type": "markdown",
   "metadata": {},
   "source": [
    "Hourly reference hot water supply amount for use of $u$ is calculated by the equation below."
   ]
  },
  {
   "cell_type": "markdown",
   "metadata": {},
   "source": [
    "$$\n",
    "\\displaystyle\n",
    "W_k = \\left\\{ \\begin{array}{ll}\n",
    "    W_{k,p}|_{p=1} \\times \\displaystyle \\frac{2 - n_p}{2 - 1} + W_{k,p}|_{p=2} \\displaystyle \\times \\frac{n_p - 1}{2 - 1} & (1 \\leq n_p < 2)\\\\ \n",
    "    W_{k,p}|_{p=2} \\times \\displaystyle \\frac{3 - n_p}{3 - 2} + W_{k,p}|_{p=3} \\displaystyle \\times \\frac{n_p - 2}{3 - 2} & (2 \\leq n_p < 3)\\\\ \n",
    "    W_{k,p}|_{p=3} \\times \\displaystyle \\frac{4 - n_p}{4 - 3} + W_{k,p}|_{p=4} \\displaystyle \\times \\frac{n_p - 3}{4 - 3} & (3 \\leq n_p \\leq 4)\\\\ \n",
    "    \\end{array}\n",
    "\\right.\n",
    "$$"
   ]
  },
  {
   "cell_type": "markdown",
   "metadata": {},
   "source": [
    "$$\n",
    "\\displaystyle\n",
    "W_s = \\left\\{ \\begin{array}{ll}\n",
    "    W_{s,p}|_{p=1} \\times \\displaystyle \\frac{2 - n_p}{2 - 1} + W_{s,p}|_{p=2} \\displaystyle \\times \\frac{n_p - 1}{2 - 1} & (1 \\leq n_p < 2)\\\\ \n",
    "    W_{s,p}|_{p=2} \\times \\displaystyle \\frac{3 - n_p}{3 - 2} + W_{s,p}|_{p=3} \\displaystyle \\times \\frac{n_p - 2}{3 - 2} & (2 \\leq n_p < 3)\\\\ \n",
    "    W_{s,p}|_{p=3} \\times \\displaystyle \\frac{4 - n_p}{4 - 3} + W_{s,p}|_{p=4} \\displaystyle \\times \\frac{n_p - 3}{4 - 3} & (3 \\leq n_p \\leq 4)\\\\ \n",
    "    \\end{array}\n",
    "\\right.\n",
    "$$"
   ]
  },
  {
   "cell_type": "markdown",
   "metadata": {},
   "source": [
    "$$\n",
    "\\displaystyle\n",
    "W_w = \\left\\{ \\begin{array}{ll}\n",
    "    W_{w,p}|_{p=1} \\times \\displaystyle \\frac{2 - n_p}{2 - 1} + W_{w,p}|_{p=2} \\displaystyle \\times \\frac{n_p - 1}{2 - 1} & (1 \\leq n_p < 2)\\\\ \n",
    "    W_{w,p}|_{p=2} \\times \\displaystyle \\frac{3 - n_p}{3 - 2} + W_{w,p}|_{p=3} \\displaystyle \\times \\frac{n_p - 2}{3 - 2} & (2 \\leq n_p < 3)\\\\ \n",
    "    W_{w,p}|_{p=3} \\times \\displaystyle \\frac{4 - n_p}{4 - 3} + W_{w,p}|_{p=4} \\displaystyle \\times \\frac{n_p - 3}{4 - 3} & (3 \\leq n_p \\leq 4)\\\\ \n",
    "    \\end{array}\n",
    "\\right.\n",
    "$$"
   ]
  },
  {
   "cell_type": "markdown",
   "metadata": {},
   "source": [
    "Where  \n",
    "$ \\displaystyle W_{k} $ is the hourly reference hot water supply amount by the kitchen./ 1時間当たりの台所水栓における基準給湯量(L/hour)  \n",
    "$ \\displaystyle W_{k,p} $ is the hourly reference hot water supply amount by the kitchen for residents of $p$./ 1時間当たりの居住人数が$p$人における台所水栓における基準給湯量(L/hour)  \n",
    "$ \\displaystyle W_{s} $ is the hourly reference hot water supply amount by the shower./ 1時間当たりの浴室シャワー水栓における基準給湯量(L/hour)  \n",
    "$ \\displaystyle W_{s,p} $ is the hourly reference hot water supply amount by the shower for residents of $p$./ 1時間当たりの居住人数が$p$人における浴室シャワー水栓における基準給湯量(L/hour)  \n",
    "$ \\displaystyle W_{w} $ is the hourly reference hot water supply amount by the washroom./ 1時間当たりの洗面水栓における基準給湯量(L/hour)  \n",
    "$ \\displaystyle W_{w,p} $ is the hourly reference hot water supply amount by the washroom for residents of $p$./ 1時間当たりの居住人数が$p$人における洗面水栓における基準給湯量(L/hour)  \n",
    "$ \\displaystyle n_p $ is the virtual resident number./ 仮想居住人数"
   ]
  },
  {
   "cell_type": "markdown",
   "metadata": {},
   "source": [
    "The hourly reference hot water supply amount by the kitchen $ \\displaystyle W_{k,p} $ for residents of $p$, the hourly reference hot water supply amount by the shower $ \\displaystyle W_{s,p} $ for residents of $p$ and the hourly reference hot water supply amount by the washroom $ \\displaystyle W_{w,p} $ for residents of $p$ are determined from Appendix M, depending on the living schedule and the number of residents determined by Chapter 11, Section 3 \"Life Schedule\".  \n",
    "The hourly reference hot water supply amount by filling the bathtub manually $ \\displaystyle W_{b1} $ occurs only when the type of bath function is hot water supply single function. The hourly reference hot water supply amount by filling the bathtub automatically $ \\displaystyle W_{b2} $ occurs when the type of the bath function is a bath water heater (no additional heating) or a bath water heater (with additional heating). In both cases, it is assumed that it is equal to the hourly reference hot water supply amount by filling the bathtub $ \\displaystyle W_{b} $."
   ]
  },
  {
   "cell_type": "markdown",
   "metadata": {},
   "source": [
    "Hourly reference hot water supply amount by filling the bathtub $ \\displaystyle W_{b} $ is calculated by the equation below."
   ]
  },
  {
   "cell_type": "markdown",
   "metadata": {},
   "source": [
    "$$\n",
    "\\displaystyle\n",
    "W_b = \\left\\{ \\begin{array}{ll}\n",
    "    W_{b,p}|_{p=1} \\times \\displaystyle \\frac{2 - n_p}{2 - 1} + W_{b,p}|_{p=2} \\times \\displaystyle \\frac{n_p - 1}{2 - 1} & (1 \\leq n_p < 2)\\\\ \n",
    "    W_{b,p}|_{p=2} \\times \\displaystyle \\frac{3 - n_p}{3 - 2} + W_{b,p}|_{p=3} \\times \\displaystyle \\frac{n_p - 2}{3 - 2} & (2 \\leq n_p < 3)\\\\ \n",
    "    W_{b,p}|_{p=3} \\times \\displaystyle \\frac{4 - n_p}{4 - 3} + W_{b,p}|_{p=4} \\times \\displaystyle \\frac{n_p - 3}{4 - 3} & (3 \\leq n_p \\leq 4)\\\\ \n",
    "    \\end{array}\n",
    "\\right.\n",
    "$$"
   ]
  },
  {
   "cell_type": "markdown",
   "metadata": {},
   "source": [
    "Where  \n",
    "$ \\displaystyle W_{b} $ is the hourly reference hot water supply amount by filling the bathtub./ 1時間当たりの浴槽湯はり時における基準給湯量(L/hour)  \n",
    "$ \\displaystyle W_{b,p} $ is the hourly reference hot water supply amount by filling the bathtub for residents of $p$./ 1時間当たりの居住人数が$p$人における浴槽湯はり時における基準給湯量(L/hour)  \n",
    "$ \\displaystyle n_p $ is the virtual resident number./ 仮想居住人数"
   ]
  },
  {
   "cell_type": "markdown",
   "metadata": {},
   "source": [
    "The hourly reference hot water supply amount by filling the bathtub $ \\displaystyle W_{b,p} $ for residents of $p$ is determined from Appenix M, depending on the living schedule and the number of residents determined by Chapter 11, Section 3 \"Life Schedule\"."
   ]
  },
  {
   "cell_type": "code",
   "execution_count": 28,
   "metadata": {},
   "outputs": [],
   "source": [
    "def get_W_u(_system_exist, person, day, hour):\n",
    "      \n",
    "    # 浴室の有無による取得データの判定\n",
    "    if _system_exist == SystemExistance.ExistWithBath:\n",
    "        se = 'ari'\n",
    "    elif _system_exist == SystemExistance.ExistWithoutBath:\n",
    "        se ='nasi'\n",
    "    \n",
    "    W_k = HS.get_WHS_Schedule(person, day, hour)['W_k']\n",
    "    W_s = HS.get_WHS_Schedule(person, day, hour)['W_s_' + se] \n",
    "    W_w = HS.get_WHS_Schedule(person, day, hour)['W_w']\n",
    "    W_b = HS.get_WHS_Schedule(person, day, hour)['W_b_' + se] \n",
    "    \n",
    "    return {'W_k' : W_k, 'W_s' : W_s, 'W_w' : W_w, 'W_b' : W_b}\n",
    "    "
   ]
  },
  {
   "cell_type": "markdown",
   "metadata": {},
   "source": [
    "#### Example"
   ]
  },
  {
   "cell_type": "code",
   "execution_count": 29,
   "metadata": {},
   "outputs": [
    {
     "data": {
      "text/plain": [
       "{'W_b': 0, 'W_k': 0, 'W_s': 0, 'W_w': 0}"
      ]
     },
     "execution_count": 29,
     "metadata": {},
     "output_type": "execute_result"
    }
   ],
   "source": [
    "get_W_u(SystemExistance.ExistWithBath, 'p2', '1/2', 19)"
   ]
  },
  {
   "cell_type": "code",
   "execution_count": 30,
   "metadata": {},
   "outputs": [
    {
     "data": {
      "text/plain": [
       "{'W_b': 180, 'W_k': 0, 'W_s': 0, 'W_w': 0}"
      ]
     },
     "execution_count": 30,
     "metadata": {},
     "output_type": "execute_result"
    }
   ],
   "source": [
    "get_W_u(SystemExistance.ExistWithBath, 'p4', '1/1', 19)"
   ]
  },
  {
   "cell_type": "code",
   "execution_count": 31,
   "metadata": {},
   "outputs": [
    {
     "data": {
      "text/plain": [
       "{'W_b': 0, 'W_k': 0, 'W_s': 0, 'W_w': 0}"
      ]
     },
     "execution_count": 31,
     "metadata": {},
     "output_type": "execute_result"
    }
   ],
   "source": [
    "get_W_u(SystemExistance.ExistWithBath, 'p3', '1/1', 19)"
   ]
  },
  {
   "cell_type": "code",
   "execution_count": 32,
   "metadata": {},
   "outputs": [],
   "source": [
    "def get_W(_system_exist, input_Bath_Function, n_p, day, hour):\n",
    "\n",
    "    def interpolation( system_exist, usage, day, hour, n_p):\n",
    "        \n",
    "        v1 = get_W_u( system_exist, 'p1', day, hour)[usage]\n",
    "        v2 = get_W_u( system_exist, 'p2', day, hour)[usage]\n",
    "        v3 = get_W_u( system_exist, 'p3', day, hour)[usage]\n",
    "        v4 = get_W_u( system_exist, 'p4', day, hour)[usage]\n",
    "        \n",
    "        if n_p < 1.0:\n",
    "            raise Exception('Number of person should not be less than 1 person.')\n",
    "        elif 1.0 <= n_p < 2.0:\n",
    "            return v1 * (2 - n_p) / (2 - 1) + v2 * (n_p - 1) / (2 - 1)\n",
    "        elif 2.0 <= n_p < 3.0:\n",
    "            return v2 * (3 - n_p) / (3 - 2) + v3 * (n_p - 2) / (3 - 2)\n",
    "        elif 3.0 <= n_p <= 4.0:\n",
    "            return v3 * (4 - n_p) / (4 - 3) + v4 * (n_p - 3) / (4 - 3)\n",
    "        else:\n",
    "            raise Exception('Number of person should not be over 4 persons.')\n",
    "    \n",
    "    W_k = interpolation( _system_exist, 'W_k', day, hour, n_p )\n",
    "    W_s = interpolation( _system_exist, 'W_s', day, hour, n_p )\n",
    "    W_w = interpolation( _system_exist, 'W_w', day, hour, n_p )\n",
    "    W_b = interpolation( _system_exist, 'W_b', day, hour, n_p )\n",
    "    \n",
    "    if input_Bath_Function == 'Bath_Only':\n",
    "        W_b1 = W_b\n",
    "        W_b2 = 0.0\n",
    "    elif input_Bath_Function == 'Bath_Without_Oidaki' or  input_Bath_Function == 'Bath_With_Oidaki':\n",
    "        W_b1 = 0.0\n",
    "        W_b2 = W_b\n",
    "    else:\n",
    "        raise ValueError('input_Bath_Function に指定された値が不正です。')\n",
    "\n",
    "    return W_k, W_s, W_w, W_b1, W_b2"
   ]
  },
  {
   "cell_type": "markdown",
   "metadata": {},
   "source": [
    "#### Example"
   ]
  },
  {
   "cell_type": "code",
   "execution_count": 33,
   "metadata": {},
   "outputs": [
    {
     "data": {
      "text/plain": [
       "(0.0, 0.0, 0.0, 0.0, 0.0)"
      ]
     },
     "execution_count": 33,
     "metadata": {},
     "output_type": "execute_result"
    }
   ],
   "source": [
    "get_W( _system_exist = SystemExistance.ExistWithBath, input_Bath_Function = 'Bath_Only', n_p = 2.5, day = '1/1', hour = 19  )"
   ]
  },
  {
   "cell_type": "code",
   "execution_count": 34,
   "metadata": {},
   "outputs": [
    {
     "data": {
      "text/plain": [
       "(0.0, 0.0, 0.0, 180.0, 0.0)"
      ]
     },
     "execution_count": 34,
     "metadata": {},
     "output_type": "execute_result"
    }
   ],
   "source": [
    "get_W( _system_exist = SystemExistance.ExistWithBath, input_Bath_Function = 'Bath_Only', n_p = 4.0, day = '1/1', hour = 19 )"
   ]
  },
  {
   "cell_type": "code",
   "execution_count": 35,
   "metadata": {},
   "outputs": [
    {
     "data": {
      "text/plain": [
       "(0.0, 0.0, 0.0, 0.0, 0.0)"
      ]
     },
     "execution_count": 35,
     "metadata": {},
     "output_type": "execute_result"
    }
   ],
   "source": [
    "get_W( _system_exist = SystemExistance.ExistWithoutBath, input_Bath_Function = 'Bath_Only', n_p = 3.4, day = '12/31', hour = 19  )"
   ]
  },
  {
   "cell_type": "code",
   "execution_count": 36,
   "metadata": {},
   "outputs": [
    {
     "data": {
      "text/plain": [
       "(0.0, 0.0, 0.0, 0.0, 0.0)"
      ]
     },
     "execution_count": 36,
     "metadata": {},
     "output_type": "execute_result"
    }
   ],
   "source": [
    "get_W( _system_exist = SystemExistance.ExistWithBath, input_Bath_Function = 'Bath_Only', n_p = 1.5, day = '1/1', hour = 19 )"
   ]
  },
  {
   "cell_type": "markdown",
   "metadata": {},
   "source": [
    "Hourly reference hot water supply amount by addition of hot water to bathtub $W_{ba1}$ occurs only when the type of the bath function is a hot water supply single function or a bath water heater (without additional heating), and is calculated by the equation below."
   ]
  },
  {
   "cell_type": "markdown",
   "metadata": {},
   "source": [
    "$$\n",
    "\\displaystyle W_{ba1} = L_{ba} \\times \\frac{1}{(\\theta_{sw,ba1} - \\theta_{wtr})} \\times \\frac{1}{4.186} \\times 10^3\n",
    "$$"
   ]
  },
  {
   "cell_type": "markdown",
   "metadata": {},
   "source": [
    "Where  \n",
    "$ \\displaystyle W_{ba1} $ is the hourly reference hot water supply amount by addition of hot water to bathtub. / 1時間当たりの浴槽水栓さし湯時における基準給湯量(L/hour)  \n",
    "$ \\displaystyle L_{ba} $ is the hourly hot water supply heat load by boiling the bathtub. / 1時間当たりの浴槽沸かし直しによる給湯熱負荷(MJ/hour)  \n",
    "$ \\theta_{sw,ba1} $ is the reference hot water supply temperature by addition of hot water to bathtub. / 浴槽水栓さし湯時における基準給湯温度(℃)  \n",
    "$ \\theta_{wtr} $ is the daily average feed-water temperature. / 日平均給水温度(℃)  "
   ]
  },
  {
   "cell_type": "markdown",
   "metadata": {},
   "source": [
    "The reference hot water supply temperature by addition of hot water to bathtub $ \\theta_{sw,ba1} $ is obtained from Table 5."
   ]
  },
  {
   "cell_type": "code",
   "execution_count": 37,
   "metadata": {},
   "outputs": [],
   "source": [
    "def get_W_ba1( input_Bath_Function, L_ba, theta_wtr ):\n",
    "    \n",
    "    theta_sw_ba1 = 60\n",
    "    \n",
    "    if input_Bath_Function == 'Bath_Only' or input_Bath_Function == 'Bath_Without_Oidaki':\n",
    "        W_ba1 = L_ba / ( theta_sw_ba1 - theta_wtr ) / 4.186 * 10**3\n",
    "    elif input_Bath_Function == 'Bath_With_Oidaki':\n",
    "        W_ba1 = 0.0\n",
    "    else:\n",
    "        raise ValueError('input_Bath_Function に不正な値が指定されました。')\n",
    "    \n",
    "    return W_ba1"
   ]
  },
  {
   "cell_type": "markdown",
   "metadata": {},
   "source": [
    "#### Example"
   ]
  },
  {
   "cell_type": "code",
   "execution_count": 38,
   "metadata": {},
   "outputs": [
    {
     "data": {
      "text/plain": [
       "477.7830864787387"
      ]
     },
     "execution_count": 38,
     "metadata": {},
     "output_type": "execute_result"
    }
   ],
   "source": [
    "get_W_ba1(input_Bath_Function = 'Bath_Only', L_ba = 100, theta_wtr = 10)"
   ]
  },
  {
   "cell_type": "code",
   "execution_count": 39,
   "metadata": {},
   "outputs": [
    {
     "data": {
      "text/plain": [
       "0.0"
      ]
     },
     "execution_count": 39,
     "metadata": {},
     "output_type": "execute_result"
    }
   ],
   "source": [
    "get_W_ba1(input_Bath_Function = 'Bath_With_Oidaki', L_ba = 100, theta_wtr = 10)"
   ]
  },
  {
   "cell_type": "markdown",
   "metadata": {},
   "source": [
    "## 11.浴槽沸かし直しによる給湯熱負荷"
   ]
  },
  {
   "cell_type": "markdown",
   "metadata": {},
   "source": [
    "Hourly hot water supply heat load by boiling the bathtub $L_{ba}$ is calculated by the equation below."
   ]
  },
  {
   "cell_type": "markdown",
   "metadata": {},
   "source": [
    "$$\n",
    "\\displaystyle\n",
    "L_{ba} = \\left\\{ \\begin{array}{ll}\n",
    "    L_{ba,p}|_{p=1} \\times \\displaystyle \\frac{2 - n_p}{2 - 1} + L_{ba,p}|_{p=2} \\times \\displaystyle \\frac{n_p - 1}{2 - 1} & (1 \\leq n_p < 2)\\\\ \n",
    "    L_{ba,p}|_{p=2} \\times \\displaystyle \\frac{3 - n_p}{3 - 2} + L_{ba,p}|_{p=3} \\times \\displaystyle \\frac{n_p - 2}{3 - 2} & (2 \\leq n_p < 3)\\\\ \n",
    "    L_{ba,p}|_{p=3} \\times \\displaystyle \\frac{4 - n_p}{4 - 3} + L_{ba,p}|_{p=4} \\times \\displaystyle \\frac{n_p - 3}{4 - 3} & (3 \\leq n_p \\leq 4)\\\\ \n",
    "    \\end{array}\n",
    "\\right.\n",
    "$$"
   ]
  },
  {
   "cell_type": "markdown",
   "metadata": {},
   "source": [
    "Where  \n",
    "$ \\displaystyle L_{ba} $ is the hourly hot water supply heat load by boiling the bathtub. / 1時間当たりの浴槽沸かし直しによる給湯熱負荷(MJ/hour)  \n",
    "$ \\displaystyle L_{ba,p} $ is the hourly hot water supply heat load by boiling the bathtub for residents of $p$./ 1時間当たりの居住人数が$p$人における浴槽沸かし直しによる給湯熱負荷(MJ/hour)  \n",
    "$ \\displaystyle n_p $ is the virtual resident number./ 仮想居住人数"
   ]
  },
  {
   "cell_type": "markdown",
   "metadata": {},
   "source": [
    "Hourly hot water supply heat load by boiling the bathtub $L_{ba,p}$ for residents of $p$ is calculated by the equation below."
   ]
  },
  {
   "cell_type": "markdown",
   "metadata": {},
   "source": [
    "$$\n",
    "\\displaystyle\n",
    "L_{ba,p} = \\left\\{ \\begin{array}{ll}\n",
    "    \\left( a_{ba,p} \\times \\theta_{ex,Ave} + b_{ba,p} \\right) \\times \\displaystyle \\frac{n_b}{p} & ( \\displaystyle \\sum_{t=0}^{23} W_{b,p} > 0)\\\\\n",
    "    0 & (\\displaystyle \\sum_{t=0}^{23} W_{b,p} = 0)\\\\\n",
    "    \\end{array}\n",
    "\\right.\n",
    "$$"
   ]
  },
  {
   "cell_type": "markdown",
   "metadata": {},
   "source": [
    "Where  \n",
    "$ \\displaystyle L_{ba,p} $ is the hourly hot water supply heat load by boiling the bathtub for residents of $p$./ 1時間当たりの居住人数が$p$人における浴槽沸かし直しによる給湯熱負荷(MJ/hour)  \n",
    "$ \\displaystyle a_{ba,p}, b_{ba,p} $ is coefficient. / 係数  \n",
    "$ \\theta_{ex,Ave} $ is the daily average outside air temperature./ 日平均外気温度(℃)  \n",
    "$n_{b,p}$ is the hourly number of person taking both./ 1時間当たりの居住人数が$p$人における入浴人数(人)"
   ]
  },
  {
   "cell_type": "markdown",
   "metadata": {},
   "source": [
    "The coefficient $ \\displaystyle a_{ba} $ and $ \\displaystyle b_{ba} $ is determined by Table 7, depending on the daily average outdoor temperature condition and the type of bathtub, the number of people inhabited. "
   ]
  },
  {
   "cell_type": "markdown",
   "metadata": {},
   "source": [
    "<center>表7　係数$a_{ba}$及び$b_{ba}$の値</center>\n",
    "\n",
    "|日平均外気温度の条件|浴槽の種類|4人<br>$a_{ba}$|4人<br>$b_{ba}$|3人<br>$a_{ba}$|3人<br>$b_{ba}$|2人<br>$a_{ba}$|2人<br>$b_{ba}$|1人<br>$a_{ba}$|1人<br>$b_{ba}$|\n",
    "|-|-|-|-|-|-|-|-|-|-|\n",
    "|7℃未満|通常浴槽|-0.12|6|-0.1|4.91|-0.06|3.02|0|0|\n",
    "|       |高断熱浴槽|-0.07|3.98|-0.06|3.22|-0.04|2.01|0|0|\n",
    "|7℃以上かつ16℃未満|通常浴槽|-0.13|6.04|-0.1|4.93|-0.06|3.04|0|0|\n",
    "|                   |高断熱浴槽|-0.08|4.02|-0.06|3.25|-0.04|2.03|0|0|\n",
    "|16℃以上かつ25℃未満|通常浴槽|-0.14|6.21|-0.11|5.07|-0.07|3.13|0|0|\n",
    "|                    |高断熱浴槽|-0.09|4.19|-0.07|3.39|-0.04|2.12|0|0|\n",
    "|25℃以上|通常浴槽|-0.12|5.81|-0.1|4.77|-0.06|2.92|0|0|\n",
    "|        |高断熱浴槽|-0.07|3.8|-0.06|3.09|-0.04|1.92|0|0|\n"
   ]
  },
  {
   "cell_type": "markdown",
   "metadata": {},
   "source": [
    "The hourly number of person taking both is determinded by Appendix M, according to the number of residents."
   ]
  },
  {
   "cell_type": "code",
   "execution_count": 40,
   "metadata": {},
   "outputs": [],
   "source": [
    "def get_L_ba_p(theta_ex_Ave, TypeOfBathtub, person, system_exist, day, hour):\n",
    "    \n",
    "    if theta_ex_Ave < 7:\n",
    "        Cond_theta = 'under7'\n",
    "    elif 7 <= theta_ex_Ave < 16:\n",
    "        Cond_theta = '7to16'\n",
    "    elif 16 <= theta_ex_Ave < 25:\n",
    "        Cond_theta = '16to25'\n",
    "    elif theta_ex_Ave >= 25:\n",
    "        Cond_theta = '25over'\n",
    "\n",
    "    coeff = {\n",
    "        'p4' : {\n",
    "            'under7' : { 'NormalBath' : ( -0.12, 6.00 ), 'InsulationBath' : ( -0.07, 3.98 ) },\n",
    "            '7to16'  : { 'NormalBath' : ( -0.13, 6.04 ), 'InsulationBath' : ( -0.08, 4.02 ) },\n",
    "            '16to25' : { 'NormalBath' : ( -0.14, 6.21 ), 'InsulationBath' : ( -0.09, 4.19 ) },\n",
    "            '25over' : { 'NormalBath' : ( -0.12, 5.81 ), 'InsulationBath' : ( -0.07, 3.80 ) }\n",
    "        },\n",
    "        'p3' : {\n",
    "            'under7' : { 'NormalBath' : ( -0.10, 4.91 ), 'InsulationBath' : ( -0.06, 3.22 ) },\n",
    "            '7to16'  : { 'NormalBath' : ( -0.10, 4.93 ), 'InsulationBath' : ( -0.06, 3.25 ) },\n",
    "            '16to25' : { 'NormalBath' : ( -0.11, 5.07 ), 'InsulationBath' : ( -0.07, 3.39 ) },\n",
    "            '25over' : { 'NormalBath' : ( -0.10, 4.77 ), 'InsulationBath' : ( -0.06, 3.09 ) }\n",
    "        },\n",
    "        'p2' : {\n",
    "            'under7' : { 'NormalBath' : ( -0.06, 3.02 ), 'InsulationBath' : ( -0.04, 2.01 ) },\n",
    "            '7to16'  : { 'NormalBath' : ( -0.06, 3.04 ), 'InsulationBath' : ( -0.04, 2.03 ) },\n",
    "            '16to25' : { 'NormalBath' : ( -0.07, 3.13 ), 'InsulationBath' : ( -0.04, 2.12 ) },\n",
    "            '25over' : { 'NormalBath' : ( -0.06, 2.92 ), 'InsulationBath' : ( -0.04, 1.92 ) }\n",
    "        },\n",
    "        'p1' : {\n",
    "            'under7' : { 'NormalBath' : (  0.00, 0.00 ), 'InsulationBath' : ( -0.00, 0.00 ) },\n",
    "            '7to16'  : { 'NormalBath' : (  0.00, 0.00 ), 'InsulationBath' : ( -0.00, 0.00 ) },\n",
    "            '16to25' : { 'NormalBath' : (  0.00, 0.00 ), 'InsulationBath' : ( -0.00, 0.00 ) },\n",
    "            '25over' : { 'NormalBath' : (  0.00, 0.00 ), 'InsulationBath' : ( -0.00, 0.00 ) }\n",
    "        }\n",
    "    }\n",
    "\n",
    "    ( a_ba_p, b_ba_p ) = coeff[person][Cond_theta][TypeOfBathtub]\n",
    "    \n",
    "    if system_exist == SystemExistance.ExistWithBath:\n",
    "        se = 'ari'\n",
    "    elif system_exist == SystemExistance.ExistWithoutBath:\n",
    "        se  = 'nasi'\n",
    "\n",
    "    W_b_p = sum([HS.get_WHS_Schedule(person, day, hour)['W_b_'+ se] for hour in range(0, 24, 1)])\n",
    "    n_b_p = HS.get_WHS_Schedule(person, day, hour)['n_b_'+ se]\n",
    "        \n",
    "    p = {'p4' : 4, 'p3' : 3, 'p2' : 2, 'p1' : 1}[person]\n",
    "    \n",
    "    return (a_ba_p * theta_ex_Ave + b_ba_p) * n_b_p / p if W_b_p > 0.0 else 0.0"
   ]
  },
  {
   "cell_type": "markdown",
   "metadata": {},
   "source": [
    "#### Example"
   ]
  },
  {
   "cell_type": "code",
   "execution_count": 41,
   "metadata": {
    "scrolled": true
   },
   "outputs": [
    {
     "data": {
      "text/plain": [
       "1.890876"
      ]
     },
     "execution_count": 41,
     "metadata": {},
     "output_type": "execute_result"
    }
   ],
   "source": [
    "get_L_ba_p( theta_ex_Ave = -13.0292, TypeOfBathtub = 'NormalBath', person = 'p4', system_exist = SystemExistance.ExistWithBath, day = '1/1' , hour =20\n",
    "          )"
   ]
  },
  {
   "cell_type": "code",
   "execution_count": 42,
   "metadata": {},
   "outputs": [],
   "source": [
    "def get_L_ba( theta_ex_Ave, TypeOfBathtub, system_exist, day, hour, n_p ):\n",
    "        \n",
    "        v1 = get_L_ba_p( theta_ex_Ave, TypeOfBathtub, 'p1', system_exist, day, hour )\n",
    "        v2 = get_L_ba_p( theta_ex_Ave, TypeOfBathtub, 'p2', system_exist, day, hour )\n",
    "        v3 = get_L_ba_p( theta_ex_Ave, TypeOfBathtub, 'p3', system_exist, day, hour )\n",
    "        v4 = get_L_ba_p( theta_ex_Ave, TypeOfBathtub, 'p4', system_exist, day, hour )\n",
    "        \n",
    "        if n_p < 1.0:\n",
    "            raise Exception('Number of person should not be less than 1 person.')\n",
    "        elif 1.0 <= n_p < 2.0:\n",
    "            return v1 * (2 - n_p) / (2 - 1) + v2 * (n_p - 1) / (2 - 1)\n",
    "        elif 2.0 <= n_p < 3.0:\n",
    "            return v2 * (3 - n_p) / (3 - 2) + v3 * (n_p - 2) / (3 - 2)\n",
    "        elif 3.0 <= n_p <= 4.0:\n",
    "            return v3 * (4 - n_p) / (4 - 3) + v4 * (n_p - 3) / (4 - 3)\n",
    "        else:\n",
    "            raise Exception('Number of person should not be over 4 persons.')"
   ]
  },
  {
   "cell_type": "markdown",
   "metadata": {},
   "source": [
    "#### Example"
   ]
  },
  {
   "cell_type": "code",
   "execution_count": 43,
   "metadata": {
    "scrolled": false
   },
   "outputs": [
    {
     "data": {
      "text/plain": [
       "0.0"
      ]
     },
     "execution_count": 43,
     "metadata": {},
     "output_type": "execute_result"
    }
   ],
   "source": [
    "get_L_ba( theta_ex_Ave = -13.0292, TypeOfBathtub = 'NormalBath', system_exist = SystemExistance.ExistWithBath, day = '1/1', hour =20, n_p = 2.4 )"
   ]
  },
  {
   "cell_type": "markdown",
   "metadata": {},
   "source": [
    "## 12.日平均給水温度"
   ]
  },
  {
   "cell_type": "markdown",
   "metadata": {},
   "source": [
    "Daily average feed-water temperature $ \\theta_{wtr} $ is calculated by the equation below, depending on the outside air temperature."
   ]
  },
  {
   "cell_type": "markdown",
   "metadata": {},
   "source": [
    "$$\n",
    "\\displaystyle \\theta_{wtr} = max(a_{wtr} \\times \\theta_{ex,prd,Ave} + b_{wtr}, 0.5)\n",
    "$$"
   ]
  },
  {
   "cell_type": "markdown",
   "metadata": {},
   "source": [
    "Where  \n",
    "$ \\theta_{wtr} $ is the daily average feed-water temperature. / 日平均給水温度(℃)  \n",
    "$ \\theta_{ex,prd,Ave} $ is the average outside air temperature within a time frame. / 期間平均外気温度(℃)  \n",
    "$ \\displaystyle a_{wtr}, b_{wtr} $ is the regression coefficient when asking for the daily average feed-water temperature. / 日平均給水温度を求める際の回帰係数  "
   ]
  },
  {
   "cell_type": "markdown",
   "metadata": {},
   "source": [
    "The regression coefficient when asking for the daily average feed-water temperature $ \\displaystyle a_{wtr}, b_{wtr} $ is represented by Table 7, according to the division of the area specified in the notification."
   ]
  },
  {
   "cell_type": "markdown",
   "metadata": {},
   "source": [
    "<center>表8　日平均給水温度を求める際の回帰係数の値</center>\n",
    "\n",
    "|地域の区分|$a_{wtr}$|$b_{wtr}$|\n",
    "|-|-|-|\n",
    "|1|0.6639|3.466|\n",
    "|2|0.6639|3.466|\n",
    "|3|0.6054|4.515|\n",
    "|4|0.6054|4.515|\n",
    "|5|0.8660|1.665|\n",
    "|6|0.8516|2.473|\n",
    "|7|0.9223|2.097|\n",
    "|8|0.6921|7.167|"
   ]
  },
  {
   "cell_type": "code",
   "execution_count": 44,
   "metadata": {},
   "outputs": [],
   "source": [
    "def get_theta_wtr( theta_ex_prd_Ave, region ):\n",
    "    \n",
    "    ( coeffA, coeffB ) = {\n",
    "        'Region1' : ( 0.6639, 3.466 ),\n",
    "        'Region2' : ( 0.6639, 3.466 ),\n",
    "        'Region3' : ( 0.6054, 4.515 ),\n",
    "        'Region4' : ( 0.6054, 4.515 ),\n",
    "        'Region5' : ( 0.8660, 1.665 ),\n",
    "        'Region6' : ( 0.8516, 2.473 ),\n",
    "        'Region7' : ( 0.9223, 2.097 ),\n",
    "        'Region8' : ( 0.6921, 7.167 ),\n",
    "    }[region]\n",
    "    \n",
    "    return max( coeffA * theta_ex_prd_Ave + coeffB, 0.5)"
   ]
  },
  {
   "cell_type": "markdown",
   "metadata": {},
   "source": [
    "#### Example"
   ]
  },
  {
   "cell_type": "markdown",
   "metadata": {},
   "source": [
    "$ \\theta_{ex,prd,Ave} $ = 10  \n",
    "地域 = 6地域  "
   ]
  },
  {
   "cell_type": "code",
   "execution_count": 45,
   "metadata": {},
   "outputs": [
    {
     "data": {
      "text/plain": [
       "10.989"
      ]
     },
     "execution_count": 45,
     "metadata": {},
     "output_type": "execute_result"
    }
   ],
   "source": [
    "get_theta_wtr(theta_ex_prd_Ave = 10, region = 'Region6')"
   ]
  },
  {
   "cell_type": "code",
   "execution_count": 46,
   "metadata": {},
   "outputs": [
    {
     "data": {
      "text/plain": [
       "0.5"
      ]
     },
     "execution_count": 46,
     "metadata": {},
     "output_type": "execute_result"
    }
   ],
   "source": [
    "get_theta_wtr(-7, 'Region2')"
   ]
  },
  {
   "cell_type": "markdown",
   "metadata": {},
   "source": [
    "## 13.日平均外気温度"
   ]
  },
  {
   "cell_type": "markdown",
   "metadata": {},
   "source": [
    "The daily average outside air temperature $\\theta_{ex,Ave}$ is calculated by the equation below."
   ]
  },
  {
   "cell_type": "markdown",
   "metadata": {},
   "source": [
    "$$\n",
    "\\displaystyle \\theta_{ex,Ave} = \\sum^{23}_{t = 0} \\theta_{ex} / 24\n",
    "$$"
   ]
  },
  {
   "cell_type": "markdown",
   "metadata": {},
   "source": [
    "$ \\theta_{ex,Ave} $ is the daily average outside air temperature. / ݇日平均外気温度(℃)  \n",
    "$ \\theta_{ex} $ is the outside air temperature. / ݇外気温度(℃)  "
   ]
  },
  {
   "cell_type": "code",
   "execution_count": 47,
   "metadata": {},
   "outputs": [],
   "source": [
    "def get_theta_ex_Ave( region, day ):\n",
    "    t = [ EC.get_temperature( region, day, hour ) for hour in range(0,24) ]\n",
    "    return sum( t ) / 24"
   ]
  },
  {
   "cell_type": "markdown",
   "metadata": {},
   "source": [
    "#### Example"
   ]
  },
  {
   "cell_type": "code",
   "execution_count": 48,
   "metadata": {},
   "outputs": [
    {
     "data": {
      "text/plain": [
       "-7.991666666666667"
      ]
     },
     "execution_count": 48,
     "metadata": {},
     "output_type": "execute_result"
    }
   ],
   "source": [
    "get_theta_ex_Ave( region = 'Region1', day = '12/31' )"
   ]
  },
  {
   "cell_type": "markdown",
   "metadata": {
    "collapsed": true
   },
   "source": [
    "The period average outside air temperature$ \\theta_{ex,prd,Ave} $ is an average value of the daily average outside air temperature in 10 days from 1 day before to 10 days before, and is calculated by the equation below."
   ]
  },
  {
   "cell_type": "markdown",
   "metadata": {},
   "source": [
    "$$\n",
    "\\displaystyle \\theta_{ex,prd,Ave} = \\sum_{k = 1}^{10} \\theta_{ex,Ave,d-k} / 10\n",
    "$$"
   ]
  },
  {
   "cell_type": "markdown",
   "metadata": {},
   "source": [
    "$ \\theta_{ex,Ave,d-k} $ is the daily average outside air temperature $k$ day's ago based on date $d$ / ݇日付݀$d$を基準とした$k$日前の日平均外気温度(℃)."
   ]
  },
  {
   "cell_type": "markdown",
   "metadata": {},
   "source": [
    "When $d - k$ is a number less than or equal to 0, it is read as $d - k +365$."
   ]
  },
  {
   "cell_type": "code",
   "execution_count": 49,
   "metadata": {},
   "outputs": [],
   "source": [
    "def get_previous_day( day, k ):\n",
    "    dayNum = EC.get_nday( day ) - k\n",
    "    if dayNum < 1:\n",
    "        return EC.get_Annual_Days()[ dayNum + 365 - 1 ]\n",
    "    else:\n",
    "        return EC.get_Annual_Days()[ dayNum - 1 ]"
   ]
  },
  {
   "cell_type": "code",
   "execution_count": 50,
   "metadata": {},
   "outputs": [
    {
     "data": {
      "text/plain": [
       "'1/3'"
      ]
     },
     "execution_count": 50,
     "metadata": {},
     "output_type": "execute_result"
    }
   ],
   "source": [
    "get_previous_day( '1/3', 0 )"
   ]
  },
  {
   "cell_type": "code",
   "execution_count": 51,
   "metadata": {},
   "outputs": [
    {
     "data": {
      "text/plain": [
       "'1/2'"
      ]
     },
     "execution_count": 51,
     "metadata": {},
     "output_type": "execute_result"
    }
   ],
   "source": [
    "get_previous_day( '1/3', 1 )"
   ]
  },
  {
   "cell_type": "code",
   "execution_count": 52,
   "metadata": {},
   "outputs": [
    {
     "data": {
      "text/plain": [
       "'12/31'"
      ]
     },
     "execution_count": 52,
     "metadata": {},
     "output_type": "execute_result"
    }
   ],
   "source": [
    "get_previous_day( '1/3', 3 )"
   ]
  },
  {
   "cell_type": "code",
   "execution_count": 53,
   "metadata": {},
   "outputs": [],
   "source": [
    "def get_theta_ex_prd_Ave( region, day ):\n",
    "    days = [ get_previous_day( day, k ) for k in range(1,11)]\n",
    "    theta_ex_aves = [ get_theta_ex_Ave( region, d ) for d in days ]\n",
    "    return sum( theta_ex_aves ) / 10"
   ]
  },
  {
   "cell_type": "markdown",
   "metadata": {},
   "source": [
    "#### Example"
   ]
  },
  {
   "cell_type": "code",
   "execution_count": 54,
   "metadata": {},
   "outputs": [
    {
     "data": {
      "text/plain": [
       "3.9199999999999995"
      ]
     },
     "execution_count": 54,
     "metadata": {},
     "output_type": "execute_result"
    }
   ],
   "source": [
    "get_theta_ex_prd_Ave( 'Region6', '1/5' )"
   ]
  },
  {
   "cell_type": "markdown",
   "metadata": {},
   "source": [
    "## 14.夜間平均外気温度"
   ]
  },
  {
   "cell_type": "markdown",
   "metadata": {},
   "source": [
    "The nighttime average outside air temperature $\\theta_{ex,Nave}$ is an average of outside air temperatures from 23 o'clock of the previous day to 7 o'clock of the day and is calculated by the equation below."
   ]
  },
  {
   "cell_type": "markdown",
   "metadata": {},
   "source": [
    "$$\n",
    "\\displaystyle \\theta_{ex,Nave} = (\\theta_{ex,d-1,23} + \\sum^6_{t=0}\\theta_{ex})/8\n",
    "$$"
   ]
  },
  {
   "cell_type": "markdown",
   "metadata": {},
   "source": [
    "Where  \n",
    "$ \\theta_{ex,d-1,23} $ is the outside air temperature at 23 o'clock in date ݀$d-1$. / ݇日付݀$d-1$における 23 時における外気温度(℃)  \n",
    "$ \\theta_{ex} $ is the outside air temperature. / ݇外気温度(℃)  "
   ]
  },
  {
   "cell_type": "markdown",
   "metadata": {},
   "source": [
    "When $d - 1$ is 0, replace $d - 1$ with 365."
   ]
  },
  {
   "cell_type": "code",
   "execution_count": 55,
   "metadata": {},
   "outputs": [],
   "source": [
    "def get_theta_ex_Nave( region, day ):\n",
    "    day_mns = get_previous_day( day, 1 )\n",
    "    t = [ EC.get_temperature( region, day_mns, 23 ) ] + [ EC.get_temperature( region, day, hour ) for hour in range(0,7) ]\n",
    "    return sum(t) / 8"
   ]
  },
  {
   "cell_type": "markdown",
   "metadata": {},
   "source": [
    "#### Example"
   ]
  },
  {
   "cell_type": "code",
   "execution_count": 56,
   "metadata": {},
   "outputs": [
    {
     "data": {
      "text/plain": [
       "2.5625000000000004"
      ]
     },
     "execution_count": 56,
     "metadata": {},
     "output_type": "execute_result"
    }
   ],
   "source": [
    "get_theta_ex_Nave( 'Region6', '1/1' )"
   ]
  },
  {
   "cell_type": "markdown",
   "metadata": {},
   "source": [
    "## 15.温水暖房の熱負荷"
   ]
  },
  {
   "cell_type": "markdown",
   "metadata": {},
   "source": [
    "The daily heat load of hot water heating $L_{HWH}$ is calculated by the equation below."
   ]
  },
  {
   "cell_type": "markdown",
   "metadata": {},
   "source": [
    "$$\n",
    "\\displaystyle L_{HWH} = \\sum^{23}_{t=0}L_{HWH,t}\n",
    "$$"
   ]
  },
  {
   "cell_type": "markdown",
   "metadata": {},
   "source": [
    "Where  \n",
    "$L_{HWH}$ is the daily heat load of hot water heating. / 1 日当たりの温水暖房の熱負荷(MJ/day)  \n",
    "$L_{HWH,t}$ is the heat load of hot water heating per hour at $t$ o'clock. / ݇時刻$t$における1 時間当たりの温水暖房の熱負荷(MJ/day)"
   ]
  },
  {
   "cell_type": "markdown",
   "metadata": {
    "collapsed": true
   },
   "source": [
    "The heat load of the hot water heating per hour $L_{HWH,d,t}$ at the time $t$ of the date $d$ is equal to the hot water heat demand of the heat source equipment per hour $Q_{dmd,hs,d,t}$ at the time $t$ of the date $d$ in Chapter 4, Section 7 \"Hot Water Heating\"."
   ]
  },
  {
   "cell_type": "code",
   "execution_count": 57,
   "metadata": {},
   "outputs": [],
   "source": [
    "def get_L_HWH(L_HWH_t):\n",
    "    return sum(L_HWH_t)"
   ]
  },
  {
   "cell_type": "markdown",
   "metadata": {},
   "source": [
    "#### Example"
   ]
  },
  {
   "cell_type": "markdown",
   "metadata": {
    "collapsed": true
   },
   "source": [
    "24時間分の温水暖房の熱負荷を合計して1日当たりの温水暖房の熱負荷を算出。"
   ]
  },
  {
   "cell_type": "code",
   "execution_count": 58,
   "metadata": {},
   "outputs": [
    {
     "data": {
      "text/plain": [
       "276"
      ]
     },
     "execution_count": 58,
     "metadata": {},
     "output_type": "execute_result"
    }
   ],
   "source": [
    "a = range(0,24)\n",
    "get_L_HWH(a)"
   ]
  },
  {
   "cell_type": "markdown",
   "metadata": {},
   "source": [
    "## Integration / 統合計算"
   ]
  },
  {
   "cell_type": "markdown",
   "metadata": {},
   "source": [
    "````\n",
    "spec = {\n",
    "    'General' : {\n",
    "        'Region'       : '', # region = 'Region1', 'Region2', 'Region3', 'Region4', 'Region5', 'Region6', 'Region7' or 'Region8' \n",
    "        'AllFloorArea' : '', # total floor area(m2) = decimal value represented as string\n",
    "    },\n",
    "    'HWS' : {\n",
    "        'SystemExist'            : '', # system = 'ExistWithBath', 'ExistWithoutBath' or 'NotExist'\n",
    "        'HeatSourceBathFunction' : '', # bath function = 'NotAutomatic', 'AutomaticWithReheat' or 'AutomaticWithoutReheat'\n",
    "        'Piping' : {\n",
    "            'Type'     : '', # type of piping = 'Header' or 'Branch'\n",
    "            'Diameter' : '', # diameter of piping for header type = 'NoMoreThan13A' or 'MoreThan13A'\n",
    "        },\n",
    "        'KitchenFaucet': {\n",
    "            'Type'               : '', # type of water faucet in kitchen = 'DoubleHandle' or 'Other'\n",
    "            'EasyDrawStopping'   : '', # easy draw stopping = 'NotAdopted' or 'Adopted'\n",
    "            'ColdWaterPriorDraw' : '', # cold water prior draw = 'NotAdopted' or 'Adopted'\n",
    "        },\n",
    "        'BathroomShowerFaucet': {\n",
    "            'Type'             : '', # type of water faucet in kitchen = 'DoubleHandle' or 'Other'\n",
    "            'EasyDrawStopping' : '', # easy draw stopping = 'NotAdopted' or 'Adopted'\n",
    "            'LowFlowRate'      : '', # low flow rate = 'NotAdopted' or 'Adopted'\n",
    "        },\n",
    "        'LavatoryFaucet': {\n",
    "            'Type'               : '', # type of water faucet in kitchen = 'DoubleHandle' or 'Other'\n",
    "            'ColdWaterPriorDraw' : '', # cold water prior draw = 'NotAdopted' or 'Adopted'\n",
    "        },\n",
    "        'Bathtub' : '', # insulation of bathtub = 'Normal' or 'Insulated'\n",
    "    }\n",
    "}\n",
    "````"
   ]
  },
  {
   "cell_type": "code",
   "execution_count": 59,
   "metadata": {},
   "outputs": [],
   "source": [
    "# 仮想居住人数\n",
    "def n_p(A_A):\n",
    "    if A_A <= 30.0:\n",
    "        return 1.0\n",
    "    elif A_A >= 120.0:\n",
    "        return 4.0\n",
    "    else:\n",
    "        return A_A / 30.0"
   ]
  },
  {
   "cell_type": "code",
   "execution_count": 60,
   "metadata": {},
   "outputs": [],
   "source": [
    "def L_2dash_u( spec, L_sun, day, hour):\n",
    "    \n",
    "    region = spec['General']['Region']\n",
    "    \n",
    "    A_A    = float(spec['General']['AllFloorArea'])\n",
    "    \n",
    "    _system_exist = {\n",
    "        'ExistWithBath'    : SystemExistance.ExistWithBath,\n",
    "        'ExistWithoutBath' : SystemExistance.ExistWithoutBath,\n",
    "        'NotExist'         : SystemExistance.NotExist\n",
    "    }[spec['HWS']['SystemExist']]\n",
    "    \n",
    "    input_Bath_Function = {\n",
    "        'NotAutomatic'           : 'Bath_Only',\n",
    "        'AutomaticWithReheat'    : 'Bath_With_Oidaki',\n",
    "        'AutomaticWithoutReheat' : 'Bath_Without_Oidaki'\n",
    "    }[spec['HWS']['HeatSourceBathFunction']]\n",
    "    \n",
    "    if spec['HWS']['Piping']['Type'] == 'Branch':\n",
    "        f_sp_apply = 'None'\n",
    "    elif spec['HWS']['Piping']['Type'] == 'Header':\n",
    "        f_sp_apply = { 'NoMoreThan13A' : 'Saving', 'MoreThan13A' : 'None' }[spec['HWS']['Piping']['Diameter']]\n",
    "    else:\n",
    "        raise Exception()\n",
    "    \n",
    "    if spec['HWS']['KitchenFaucet']['Type'] == 'DoubleHandle':\n",
    "        f_sk_A_apply = 'None'\n",
    "        f_sk_C_apply = 'None'\n",
    "    elif spec['HWS']['KitchenFaucet']['Type'] == 'Other':\n",
    "        f_sk_A_apply = { 'Adopted' : 'Saving', 'NotAdopted' : 'None' }[spec['HWS']['KitchenFaucet']['EasyDrawStopping']]\n",
    "        f_sk_C_apply = { 'Adopted' : 'Saving', 'NotAdopted' : 'None' }[spec['HWS']['KitchenFaucet']['ColdWaterPriorDraw']]\n",
    "    else:\n",
    "        raise Exception()\n",
    "    \n",
    "    if spec['HWS']['BathroomShowerFaucet']['Type'] == 'DoubleHandle':\n",
    "        f_ss_A_apply = 'None'\n",
    "        f_ss_B_apply = 'None'\n",
    "    elif spec['HWS']['BathroomShowerFaucet']['Type'] == 'Other':\n",
    "        f_ss_A_apply = { 'Adopted' : 'Saving', 'NotAdopted' : 'None' }[spec['HWS']['BathroomShowerFaucet']['EasyDrawStopping']]\n",
    "        f_ss_B_apply = { 'Adopted' : 'Saving', 'NotAdopted' : 'None' }[spec['HWS']['BathroomShowerFaucet']['LowFlowRate']]\n",
    "    else:\n",
    "        raise Exception()\n",
    "        \n",
    "    if spec['HWS']['LavatoryFaucet']['Type'] == 'DoubleHandle':\n",
    "        f_sw_C_apply = 'None'\n",
    "    elif spec['HWS']['LavatoryFaucet']['Type'] == 'Other':\n",
    "        f_sw_C_apply = { 'Adopted' : 'Saving', 'NotAdopted' : 'None' }[spec['HWS']['LavatoryFaucet']['ColdWaterPriorDraw']]\n",
    "    else:\n",
    "        raise Exception()\n",
    "        \n",
    "    TypeOfBathtub = {\n",
    "        'Normal'    : 'NormalBath',\n",
    "        'Insulated' : 'InsulationBath'\n",
    "    }[spec['HWS']['Bathtub']]\n",
    "\n",
    "    # 日平均外気温度\n",
    "    _theta_ex_Ave = get_theta_ex_Ave( region, day )\n",
    "    \n",
    "    # 期間平均外気温度\n",
    "    _theta_ex_prd_Ave = get_theta_ex_prd_Ave( region, day )\n",
    "    \n",
    "    # 日平均給水温度\n",
    "    _theta_wtr = get_theta_wtr( _theta_ex_prd_Ave, region )\n",
    "\n",
    "    # 浴槽沸かし直しによる給湯熱負荷\n",
    "    _L_ba = get_L_ba( _theta_ex_Ave, TypeOfBathtub, _system_exist, day, hour, n_p(A_A) )\n",
    "    \n",
    "    # 基準給湯量\n",
    "    _W_k, _W_s, _W_w, _W_b1, _W_b2 = get_W( _system_exist, input_Bath_Function, n_p(A_A), day, hour )\n",
    "    _W_ba1 = get_W_ba1( input_Bath_Function, _L_ba, _theta_wtr)\n",
    "    \n",
    "    # 節湯補正給湯量\n",
    "    _W_dash_k, _W_dash_s, _W_dash_w, _W_dash_b1, _W_dash_b2, _W_dash_ba1 \\\n",
    "        = get_W_dash( _W_k, _W_s, _W_w, _W_b1, _W_b2, _W_ba1,\n",
    "                      f_sk_A_apply, f_sk_C_apply, f_ss_A_apply, f_ss_B_apply, f_sw_C_apply, f_sp_apply )\n",
    "    \n",
    "    # 節湯補正給湯熱負荷\n",
    "    _L_dash_k, _L_dash_s, _L_dash_w, _L_dash_b1, _L_dash_b2, _L_dash_ba1, _L_dash_ba2 \\\n",
    "        = get_L_dash( _W_dash_k, _W_dash_s, _W_dash_w, _W_dash_b1, _W_dash_b2, _W_dash_ba1, _L_ba,\n",
    "                      _theta_wtr, _system_exist, input_Bath_Function )\n",
    "    \n",
    "    # 太陽熱補正給湯熱負荷\n",
    "    _L_2dash_k, _L_2dash_s, _L_2dash_w, _L_2dash_b1, _L_2dash_b2, _L_2dash_ba1, _L_2dash_ba2 \\\n",
    "        = get_L_2dash( _L_dash_k, _L_dash_s, _L_dash_w, _L_dash_b1, _L_dash_b2, _L_dash_ba1, _L_dash_ba2, L_sun )\n",
    "    \n",
    "    return {'_L_2dash_k' : _L_2dash_k, '_L_2dash_s' : _L_2dash_s, '_L_2dash_w' : _L_2dash_w, '_L_2dash_b1' : _L_2dash_b1, '_L_2dash_b2' : _L_2dash_b2, '_L_2dash_ba1' : _L_2dash_ba1, '_L_2dash_ba2' : _L_2dash_ba2}\n",
    "    "
   ]
  },
  {
   "cell_type": "markdown",
   "metadata": {},
   "source": [
    "#### Example"
   ]
  },
  {
   "cell_type": "code",
   "execution_count": 61,
   "metadata": {
    "scrolled": true
   },
   "outputs": [
    {
     "data": {
      "text/plain": [
       "{'_L_2dash_b1': 0,\n",
       " '_L_2dash_b2': 0,\n",
       " '_L_2dash_ba1': 0,\n",
       " '_L_2dash_ba2': 0.0,\n",
       " '_L_2dash_k': 0,\n",
       " '_L_2dash_s': 0,\n",
       " '_L_2dash_w': 0}"
      ]
     },
     "execution_count": 61,
     "metadata": {},
     "output_type": "execute_result"
    }
   ],
   "source": [
    "spec = {\n",
    "    'General' : {\n",
    "        'Region'       : 'Region1',\n",
    "        'AllFloorArea' : '70.0',\n",
    "    },\n",
    "    'HWS' : {\n",
    "        'SystemExist'            : 'ExistWithBath',\n",
    "        'HeatSourceBathFunction' :'AutomaticWithReheat',\n",
    "        'Piping'                 : { 'Type' : 'Branch', },\n",
    "        'KitchenFaucet'          : { 'Type' : 'DoubleHandle', },\n",
    "        'BathroomShowerFaucet'   : { 'Type' : 'DoubleHandle', },\n",
    "        'LavatoryFaucet'         : { 'Type' : 'DoubleHandle', }, \n",
    "        'Bathtub'                : 'Normal',\n",
    "    }\n",
    "}\n",
    "L_2dash_u( spec, L_sun = 0.0, day = '12/31', hour = 19  )"
   ]
  },
  {
   "cell_type": "code",
   "execution_count": 62,
   "metadata": {},
   "outputs": [
    {
     "data": {
      "text/plain": [
       "{'_L_2dash_b1': 0.0,\n",
       " '_L_2dash_b2': 29.76246,\n",
       " '_L_2dash_ba1': 0.0,\n",
       " '_L_2dash_ba2': 0.0,\n",
       " '_L_2dash_k': 0.0,\n",
       " '_L_2dash_s': 0.0,\n",
       " '_L_2dash_w': 0.0}"
      ]
     },
     "execution_count": 62,
     "metadata": {},
     "output_type": "execute_result"
    }
   ],
   "source": [
    "spec = {\n",
    "    'General' : {\n",
    "        'Region'       : 'Region1',\n",
    "        'AllFloorArea' : '120.0',\n",
    "    },\n",
    "    'HWS' : {\n",
    "        'SystemExist'            : 'ExistWithBath',  \n",
    "        'HeatSourceBathFunction' : 'AutomaticWithReheat',\n",
    "        'Piping'                 : { 'Type' : 'Branch', },\n",
    "        'KitchenFaucet'          : { 'Type' : 'DoubleHandle', },\n",
    "        'BathroomShowerFaucet'   : { 'Type' : 'DoubleHandle', },\n",
    "        'LavatoryFaucet'         : { 'Type' : 'DoubleHandle', }, \n",
    "        'Bathtub'                : 'Normal',\n",
    "    }\n",
    "}\n",
    "L_2dash_u( spec, L_sun = 0.0, day = '1/1', hour = 19 )"
   ]
  },
  {
   "cell_type": "code",
   "execution_count": 63,
   "metadata": {
    "scrolled": true
   },
   "outputs": [
    {
     "data": {
      "text/plain": [
       "{'_L_2dash_b1': 0,\n",
       " '_L_2dash_b2': 0,\n",
       " '_L_2dash_ba1': 0,\n",
       " '_L_2dash_ba2': 0.0,\n",
       " '_L_2dash_k': 0,\n",
       " '_L_2dash_s': 0,\n",
       " '_L_2dash_w': 0}"
      ]
     },
     "execution_count": 63,
     "metadata": {},
     "output_type": "execute_result"
    }
   ],
   "source": [
    "spec = {\n",
    "    'General' : {\n",
    "        'Region' : 'Region7',\n",
    "        'AllFloorArea' : '70.0',\n",
    "    },\n",
    "    'HWS' : {\n",
    "        'SystemExist'            : 'ExistWithBath',\n",
    "        'HeatSourceBathFunction' : 'AutomaticWithReheat',\n",
    "        'Piping'                 : { 'Type' : 'Header', 'Diameter' : 'NoMoreThan13A' },\n",
    "        'KitchenFaucet'          : { 'Type' : 'Other', 'EasyDrawStopping' : 'Adopted', 'ColdWaterPriorDraw' : 'Adopted', },\n",
    "        'BathroomShowerFaucet'   : { 'Type' : 'Other', 'EasyDrawStopping' : 'Adopted', 'LowFlowRate' : 'Adopted' },\n",
    "        'LavatoryFaucet'         : { 'Type' : 'Other', 'ColdWaterPriorDraw' : 'Adopted', },\n",
    "        'Bathtub'                : 'Insulated',\n",
    "    }\n",
    "}\n",
    "L_2dash_u( spec, L_sun = 0.0, day = '1/3', hour = 19  )"
   ]
  },
  {
   "cell_type": "markdown",
   "metadata": {},
   "source": [
    "#### 時刻別テスト"
   ]
  },
  {
   "cell_type": "code",
   "execution_count": 64,
   "metadata": {},
   "outputs": [],
   "source": [
    "spec = {\n",
    "    'General' : {\n",
    "        'Region'       : 'Region6',\n",
    "        'AllFloorArea' : '120.0',\n",
    "    },\n",
    "    'HWS' : {\n",
    "        'SystemExist'            : 'ExistWithBath',  \n",
    "        'HeatSourceBathFunction' : 'AutomaticWithReheat',\n",
    "        'Piping'                 : { 'Type' : 'Branch', },\n",
    "        'KitchenFaucet'          : { 'Type' : 'DoubleHandle', },\n",
    "        'BathroomShowerFaucet'   : { 'Type' : 'DoubleHandle', },\n",
    "        'LavatoryFaucet'         : { 'Type' : 'DoubleHandle', }, \n",
    "        'Bathtub'                : 'Normal',\n",
    "    }\n",
    "}"
   ]
  },
  {
   "cell_type": "code",
   "execution_count": 65,
   "metadata": {},
   "outputs": [],
   "source": [
    "def get_daily_L_2dash_u(spec, L_sun , day):\n",
    "    return {\n",
    "    '_L_2dash_b1' : sum([L_2dash_u( spec, L_sun, day, hour = h )['_L_2dash_b1'] for h in range(0, 24, 1)]),\n",
    "    '_L_2dash_b2' : sum([L_2dash_u( spec, L_sun, day, hour = h )['_L_2dash_b2'] for h in range(0, 24, 1)]),\n",
    "    '_L_2dash_ba1': sum([L_2dash_u( spec, L_sun, day, hour = h )['_L_2dash_ba1'] for h in range(0, 24, 1)]),\n",
    "    '_L_2dash_ba2': sum([L_2dash_u( spec, L_sun, day, hour = h )['_L_2dash_ba2'] for h in range(0, 24, 1)]),\n",
    "    '_L_2dash_k'  : sum([L_2dash_u( spec, L_sun, day, hour = h )['_L_2dash_k'] for h in range(0, 24, 1)]),\n",
    "    '_L_2dash_s'  : sum([L_2dash_u( spec, L_sun, day, hour = h )['_L_2dash_s'] for h in range(0, 24, 1)]),\n",
    "    '_L_2dash_w'  : sum([L_2dash_u( spec, L_sun, day, hour = h )['_L_2dash_w'] for h in range(0, 24, 1)])\n",
    "}"
   ]
  },
  {
   "cell_type": "code",
   "execution_count": 66,
   "metadata": {
    "scrolled": false
   },
   "outputs": [
    {
     "name": "stdout",
     "output_type": "stream",
     "text": [
      "_L_2dash_b1\n",
      "EXPECTED = 0.0 [MJ/day]\n",
      "RESULT   = 0.0 [MJ/day]\n",
      "OK\n",
      "_L_2dash_b2\n",
      "EXPECTED = 26.6914696667 [MJ/day]\n",
      "RESULT   = 26.69146966668 [MJ/day]\n",
      "OK\n",
      "_L_2dash_ba1\n",
      "EXPECTED = 0.0 [MJ/day]\n",
      "RESULT   = 0.0 [MJ/day]\n",
      "OK\n",
      "_L_2dash_ba2\n",
      "EXPECTED = 6.649375 [MJ/day]\n",
      "RESULT   = 6.649374999999999 [MJ/day]\n",
      "OK\n",
      "_L_2dash_k\n",
      "EXPECTED = 27.2846134371 [MJ/day]\n",
      "RESULT   = 27.284613437050666 [MJ/day]\n",
      "OK\n",
      "_L_2dash_s\n",
      "EXPECTED = 35.5886262222 [MJ/day]\n",
      "RESULT   = 35.58862622224 [MJ/day]\n",
      "OK\n",
      "_L_2dash_w\n",
      "EXPECTED = 6.8211533593 [MJ/day]\n",
      "RESULT   = 6.821153359262668 [MJ/day]\n",
      "OK\n"
     ]
    }
   ],
   "source": [
    "# 水栓別 日積算値[MJ/day]\n",
    "EXPECTED = {'_L_2dash_b1'  : 0.0,\n",
    "            '_L_2dash_b2' : 26.6914696667,\n",
    "            '_L_2dash_ba1':  0.0,\n",
    "            '_L_2dash_ba2':  6.6493750000,\n",
    "            '_L_2dash_k'  : 27.2846134371,\n",
    "            '_L_2dash_s'  : 35.5886262222,\n",
    "            '_L_2dash_w'  :  6.8211533593}\n",
    "RESULT = get_daily_L_2dash_u(spec, L_sun = 0.0 , day = '1/1')\n",
    "\n",
    "for key in EXPECTED.keys():\n",
    "    print(key)\n",
    "    print('EXPECTED = ' + str(EXPECTED[key]) +' [MJ/day]')\n",
    "    print('RESULT   = ' + str(RESULT  [key]) +' [MJ/day]')\n",
    "    \n",
    "    if abs(EXPECTED[key] - RESULT[key]) < 0.01:\n",
    "        print('OK')\n",
    "    else:\n",
    "        print('NG')"
   ]
  },
  {
   "cell_type": "code",
   "execution_count": 67,
   "metadata": {},
   "outputs": [
    {
     "name": "stdout",
     "output_type": "stream",
     "text": [
      "EXPECTED = 435.5745870232 [MJ/6 days]\n",
      "RESULT   = 435.57458702314995 [MJ/6 days]\n",
      "OK\n"
     ]
    }
   ],
   "source": [
    "# 年積算値[MJ/year]の計算負荷が高いため、とりあえず以下の生活スケジュールの異なる6日\n",
    "#EXPECTED = 18292.1458712125 [MJ/year]\n",
    "EXPECTED = 435.5745870232\n",
    "RESULT = sum([sum(get_daily_L_2dash_u( spec, L_sun = 0.0, day = d).values()) for d in ['1/1', '1/7', '1/11', '1/4', '1/3', '1/8']])\n",
    "\n",
    "print('EXPECTED = ' + str(EXPECTED) +' [MJ/6 days]')\n",
    "print('RESULT   = ' + str(RESULT) +' [MJ/6 days]')\n",
    "if abs(EXPECTED - RESULT) < 0.01:\n",
    "    print('OK')\n",
    "else:\n",
    "    print('NG')"
   ]
  }
 ],
 "metadata": {
  "kernelspec": {
   "display_name": "Python 3",
   "language": "python",
   "name": "python3"
  },
  "language_info": {
   "codemirror_mode": {
    "name": "ipython",
    "version": 3
   },
   "file_extension": ".py",
   "mimetype": "text/x-python",
   "name": "python",
   "nbconvert_exporter": "python",
   "pygments_lexer": "ipython3",
   "version": "3.6.4"
  }
 },
 "nbformat": 4,
 "nbformat_minor": 2
}
