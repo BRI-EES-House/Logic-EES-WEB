{
 "cells": [
  {
   "cell_type": "markdown",
   "metadata": {},
   "source": [
    "使用許諾条件\n",
    "\n",
    "①\t設計一次エネルギー消費量算定法に基づく計算方法をPythonによりコーディングし、Jupyter notebook形式で保存したファイル（以下、本ファイルと呼ぶ）の著作権は、一般社団法人日本サステナブル建築協会に帰属します。\n",
    "Copyright©2019. 一般社団法人日本サステナブル建築協会\n",
    "All rights reserved. \n",
    "\n",
    "②\t本ファイルは、住戸の設計一次エネルギー消費量算定方法に係る「平成28年省エネルギー基準に準拠したエネルギー消費性能の評価に関する技術情報（住宅）2.1算定方法（第四章第七節 温水暖房）」に示す計算方法に基づき、国土交通省国土技術政策総合研究所・国立研究開発法人建築研究所、株式会社ユーワークス、株式会社住環境計画研究所が作成したものです。\n",
    "\n",
    "③\t本ファイルは、計算方法に示す計算過程の確認及び調査研究等に活用することを目的として作成されたものであり、一般社団法人日本サステナブル建築協会は著作権について放棄はしませんが、使用する各人の自己責任において仕様を変更することを妨げるものではありません。ただし、本ファイルによる計算結果を住宅の省エネルギー基準で規定する設計一次エネルギー消費量の結果として公的な申請に用いることはできません。\n",
    "\n",
    "④\t本ファイルを変更するかしないかを問わず、以下の条件を満たす場合に限り、頒布および使用が許可されます。\n",
    "1.\t頒布物の付属ドキュメント等の資料に、上記の著作権表示、本条件一覧、および下記免責条項を含めること。\n",
    "2.\t書面による特別の許可なしに、本ファイルから派生した製品の宣伝または販売の促進に、一般社団法人日本サステナブル建築協会、国土技術政策総合研究所・国立研究開発法人建築研究所および株式会社ユーワークス、株式会社住環境計画研究所の名前またはコントリビューターの名前を使用してはならない。\n",
    "\n",
    "⑤\t本ファイルは、著作権者およびコントリビューターによって「現状のまま」提供されており、明示黙示を問わず、商業的な使用可能性、および特定の目的に対する適合性に関する暗黙の保証も含め、またそれに限定されない、いかなる保証もありません。著作権もコントリビューターも、事由のいかんを問わず、損害発生の原因いかんを問わず、かつ責任の根拠が契約であるか厳格責任であるか（過失その他の）不法行為であるかを問わず、仮にそのような損害が発生する可能性を知らされていたとしても、本ファイルの使用によって発生した（代用品または代用サービスの調達、使用の喪失、データの喪失、利益の喪失、業務の中断も含め、またそれに限定されない）直接損害、間接損害、偶発的な損害、特別損害、懲罰的損害、または結果損害について、一切の責任を負わないものとします。\n",
    "\n"
   ]
  },
  {
   "cell_type": "code",
   "execution_count": 1,
   "metadata": {},
   "outputs": [
    {
     "name": "stdout",
     "output_type": "stream",
     "text": [
      "Importing Jupyter notebook from s03_01_hc_load_general.ipynb\n",
      "Importing Jupyter notebook from s03_01_hc_load_general_file.ipynb\n",
      "Importing Jupyter notebook from s03_01_d_ventilation_via_underfloor.ipynb\n",
      "Importing Jupyter notebook from s03_01_e_underfloor_temperature.ipynb\n",
      "Importing Jupyter notebook from s11_01_external_condition.ipynb\n",
      "Importing Jupyter notebook from s04_07_a_kerosene_boiler.ipynb\n",
      "Importing Jupyter notebook from s04_07_h_max_capacity_of_hot_water_floor_heating.ipynb\n",
      "Importing Jupyter notebook from s04_07_b_gas_boiler.ipynb\n",
      "Importing Jupyter notebook from s04_07_c_electric_heater.ipynb\n",
      "Importing Jupyter notebook from s04_07_d_electric_heatpump.ipynb\n",
      "Importing Jupyter notebook from s04_07_e_hybrid_hw_gas_ht_hybrid.ipynb\n",
      "Importing Jupyter notebook from s04_07_common.ipynb\n",
      "Importing Jupyter notebook from s04_07_f_hybrid_hw_hybrid_ht_gas.ipynb\n",
      "Importing Jupyter notebook from s04_07_g_hybrid_hw_hybrid_ht_hybrid.ipynb\n",
      "Importing Jupyter notebook from s04_07_n.ipynb\n",
      "Importing Jupyter notebook from s04_08_a_heatpump_cycle.ipynb\n",
      "Importing Jupyter notebook from s04_07_j_panel_radiator.ipynb\n",
      "Importing Jupyter notebook from s04_07_m_max_capacity_of_radiator.ipynb\n",
      "Importing Jupyter notebook from s04_07_k_fan_convector.ipynb\n",
      "Importing Jupyter notebook from s04_07_l_hot_water_floor_heating.ipynb\n",
      "Importing Jupyter notebook from s04_07_i_pipe.ipynb\n"
     ]
    }
   ],
   "source": [
    "import nbimporter\n",
    "import numpy as np\n",
    "\n",
    "import s03_01_hc_load_general as ld\n",
    "\n",
    "import s04_07_a_kerosene_boiler as hs_oil\n",
    "import s04_07_b_gas_boiler as hs_gas\n",
    "import s04_07_c_electric_heater as hs_eheater\n",
    "import s04_07_d_electric_heatpump as hs_ehpump\n",
    "import s04_07_e_hybrid_hw_gas_ht_hybrid as hs_gas_hybrid\n",
    "import s04_07_f_hybrid_hw_hybrid_ht_gas as hs_hybrid_gas\n",
    "import s04_07_g_hybrid_hw_hybrid_ht_hybrid as hs_whybrid\n",
    "import s04_07_n as hs_ghpump\n",
    "\n",
    "import s04_07_j_panel_radiator as rad_panel\n",
    "import s04_07_k_fan_convector as rad_fanc\n",
    "import s04_07_l_hot_water_floor_heating as rad_floor\n",
    "\n",
    "import s04_07_i_pipe as pipe\n",
    "\n",
    "from s04_07_common import get_Q_out_H_hs_d_t\n",
    "\n",
    "from s11_01_external_condition import \\\n",
    "    load_outdoor, \\\n",
    "    get_Theta_ex, \\\n",
    "    get_X_ex, \\\n",
    "    calc_h_ex, \\\n",
    "    get_Theta_ex_a_Ave, \\\n",
    "    get_Theta_ex_d_Ave_d, \\\n",
    "    get_Theta_ex_H_Ave"
   ]
  },
  {
   "cell_type": "markdown",
   "metadata": {},
   "source": [
    "## 第七節　温水暖房 / Section 7 Hot Water Heating"
   ]
  },
  {
   "cell_type": "markdown",
   "metadata": {},
   "source": [
    "1．適用範囲～4．記号及び単位は省略"
   ]
  },
  {
   "cell_type": "markdown",
   "metadata": {},
   "source": [
    "1. Scope of application ~ 4. Symbols and units are omitted"
   ]
  },
  {
   "cell_type": "markdown",
   "metadata": {},
   "source": [
    "### 5. 最大暖房出力 / Maximum heating output"
   ]
  },
  {
   "cell_type": "markdown",
   "metadata": {},
   "source": [
    "日付$d$の時刻$t$における 1 時間当たりの暖冷房区画$i$に設置された暖房設備機器等の最大暖房出力$Q_{max,H,d,t,i}$は、日付$d$の時刻$t$における 1 時間当たりの暖冷房区画$i$に設置された放熱器の最大暖房出力$Q_{max,H,rad,d,t,i}$に等しいとする。 "
   ]
  },
  {
   "cell_type": "markdown",
   "metadata": {},
   "source": [
    "Maximum heating output $ Q_{max, H, d, t, i} $ of heating equipment installed in heating / cooling section $ i $ per hour at time $ t $ of date $ d $ is $ $ It is assumed that the maximum heating output $ Q_{max, H, rad, d, t, i} $ of the radiator installed in the heating / cooling section $ i $ per hour at time $ t $ of d $."
   ]
  },
  {
   "cell_type": "code",
   "execution_count": 2,
   "metadata": {},
   "outputs": [],
   "source": [
    "def calc_Q_max_H_d_t_i(radiator, A_HCZ, Theta_SW, region, mode, R_type):\n",
    "    \"\"\" 最大暖房出力\n",
    "\n",
    "    :param radiator: 放熱器仕様\n",
    "    :type radiator: dict\n",
    "    :param A_HCZ: 暖冷房区画の床面積\n",
    "    :type A_HCZ: float\n",
    "    :param Theta_SW: 往き温水温度\n",
    "    :type Theta_SW: float\n",
    "    :param region: 省エネルギー地域区分\n",
    "    :type region: int\n",
    "    :param mode: 運転モード 'い', 'ろ', 'は'\n",
    "    :type mode: str\n",
    "    :param R_type: 居室の形式\n",
    "    :type R_type: string\n",
    "    :return: 最大暖房出力\n",
    "    :rtype: ndarray\n",
    "    \"\"\"\n",
    "    return calc_Q_max_H_rad_d_t_i(radiator, A_HCZ, Theta_SW, region, mode, R_type)\n"
   ]
  },
  {
   "cell_type": "markdown",
   "metadata": {},
   "source": [
    "### 6. エネルギー消費量 / Energy consumption"
   ]
  },
  {
   "cell_type": "markdown",
   "metadata": {},
   "source": [
    "#### 6.1 消費電力量 / Power consumption"
   ]
  },
  {
   "cell_type": "markdown",
   "metadata": {},
   "source": [
    "$$\n",
    "\\large\n",
    "E_{E,H,d,t} = E_{E,hs,d,t} + \\sum_{i} (E_{E,rad,d,t,i})\n",
    "$$"
   ]
  },
  {
   "cell_type": "markdown",
   "metadata": {},
   "source": [
    "$E_{E,H,d,t}$：日付$d$の時刻$t$における1時間当たりの消費電力量(kWh/h) / Power consumption per hour at time $ t $ of date $ d $  \n",
    "$E_{E,hs,d,t}$：日付$d$の時刻$t$における1時間当たりの温水暖房用熱源機の消費電力量(kWh/h) / Power consumption of the hot water heating heater per hour at time $ t $ on date $ d $  \n",
    "$E_{E,rad,d,t,i}$：日付$d$の時刻$t$における1時間当たりの暖冷房区画$i$に設置された放熱器の消費電力量(kWh/h) / Power consumption of radiator installed in heating / cooling section $ i $ per hour at time $ t $ of date $ d $    "
   ]
  },
  {
   "cell_type": "code",
   "execution_count": 3,
   "metadata": {},
   "outputs": [],
   "source": [
    "def calc_E_E_H_d_t(H_HS, H_MR, H_OR, A_A, A_MR, A_OR, region, mode_MR, mode_OR, L_T_H_rad, L_CS_x_t, L_CL_x_t, CG=None):\n",
    "    \"\"\" 消費電力量 (1)\n",
    "\n",
    "    :param H_HS: 温水暖房機の仕様\n",
    "    :type H_HS: dict\n",
    "    :param H_MR: 暖房機器の仕様\n",
    "    :type H_MR: dict\n",
    "    :param H_OR: 暖房機器の仕様\n",
    "    :type H_OR: dict\n",
    "    :param A_MR: 主たる居室の床面積 (m2)\n",
    "    :type A_MR: float\n",
    "    :param A_OR: その他の居室の床面積 (m2)\n",
    "    :type A_OR: float\n",
    "    :param region: 省エネルギー地域区分\n",
    "    :type region: int\n",
    "    :param mode_MR: 主たる居室の運転モード 'い', 'ろ', 'は'\n",
    "    :type mode_MR: str\n",
    "    :param mode_OR: その他の居室の運転モード 'い', 'ろ', 'は'\n",
    "    :type mode_OR: str\n",
    "    :param L_T_H_rad: 放熱器の暖房負荷\n",
    "    :type L_T_H_rad: ndarray\n",
    "    :param L_CS_x_t: 暖冷房区画の冷房顕熱負荷\n",
    "    :type L_CS_x_t: ndarray\n",
    "    :param L_CL_x_t: 暖冷房区画の冷房潜熱負荷\n",
    "    :type L_CL_x_t: ndarray\n",
    "    :param CG: コージェネレーション設備の仕様\n",
    "    :type CG: dict\n",
    "    :return: 消費電力量 (1)\n",
    "    :rtype: ndarray\n",
    "    \"\"\"\n",
    "    rad_types = get_rad_type_list()\n",
    "\n",
    "    rad_list = get_rad_list(H_MR, H_OR)\n",
    "\n",
    "    E_E_hs_d_t = calc_E_E_hs_d_t(H_HS, H_MR, H_OR, region, A_A, A_MR, A_OR, mode_MR, mode_OR, L_T_H_rad, CG, L_CS_x_t, L_CL_x_t)\n",
    "\n",
    "    E_E_rad_d_t = np.zeros((5, 24 * 365))\n",
    "    for i in [1, 3, 4, 5]:\n",
    "        if rad_list[i - 1] is None:\n",
    "            continue\n",
    "        if rad_list[i - 1]['type'] in rad_types:\n",
    "            radiator = rad_list[i - 1]\n",
    "            R_type = '主たる居室' if i == 1 else 'その他の居室'\n",
    "            mode = mode_MR if i == 1 else mode_OR\n",
    "            A_HCZ = calc_A_HCZ_i(i, A_A, A_MR, A_OR)\n",
    "\n",
    "            Theta_SW_hs_op = get_Theta_SW_hs_op(H_HS['type'], CG)\n",
    "            p_hs_d_t = calc_p_hs_d_t(Theta_SW_hs_op, rad_list, L_T_H_rad, A_A, A_MR, A_OR, region, mode_MR, mode_OR)\n",
    "            Theta_SW_d_t = get_Theta_SW_d_t(Theta_SW_hs_op, p_hs_d_t)\n",
    "            Q_max_H_rad_d_t_i = calc_Q_max_H_rad_d_t_i(radiator, A_HCZ, Theta_SW_d_t, region, mode, R_type)\n",
    "            Q_T_H_rad_d_t_i = calc_Q_T_H_rad_d_t_i(Q_max_H_rad_d_t_i, L_T_H_rad[i - 1])\n",
    "\n",
    "            E_E_rad_d_t_i = calc_E_E_rad_d_t_i(i, radiator, Q_T_H_rad_d_t_i, Theta_SW_d_t, A_A, A_MR, A_OR, region, mode,\n",
    "                                               R_type)\n",
    "            E_E_rad_d_t[i - 1, :] = E_E_rad_d_t_i\n",
    "\n",
    "            # print('{} E_E_rad_d_t_{} = {} [KWh] (L_T_H_rad_d_t_{} = {} [MJ])'.format(radiator['type'], i,\n",
    "            #                                                                          np.sum(E_E_rad_d_t_i), i,\n",
    "            #                                                                          np.sum(L_T_H_rad[i - 1])))\n",
    "\n",
    "    E_E_H_d_t = E_E_hs_d_t + np.sum(E_E_rad_d_t, axis=0)\n",
    "\n",
    "    return E_E_H_d_t"
   ]
  },
  {
   "cell_type": "markdown",
   "metadata": {},
   "source": [
    "#### 6.2 灯油消費量 / Kerosene consumption"
   ]
  },
  {
   "cell_type": "markdown",
   "metadata": {},
   "source": [
    "$$\n",
    "\\large\n",
    "E_{K,H,d,t} = E_{K,hs,d,t}\n",
    "$$"
   ]
  },
  {
   "cell_type": "markdown",
   "metadata": {},
   "source": [
    "$E_{K,H,d,t}$：日付$d$の時刻$t$における1時間当たりの灯油消費量(MJ/h) / Kerosene consumption per hour at time $ t $ of date $ d $  \n",
    "$E_{K,hs,d,t}$：日付$d$の時刻$t$における1時間当たりの温水暖房用熱源機の灯油消費量(MJ/h) / Kerosene consumption of the heat source machine for hot water heating per hour at the time $ t $ of date $ d $ "
   ]
  },
  {
   "cell_type": "code",
   "execution_count": 4,
   "metadata": {},
   "outputs": [],
   "source": [
    "def calc_E_K_H_d_t(H_HS, H_MR, H_OR, A_A, A_MR, A_OR, region, mode_MR, mode_OR, L_T_H_rad, CG):\n",
    "    \"\"\" 灯油消費量 (2)\n",
    "\n",
    "    :param H_HS: 温水暖房機の仕様\n",
    "    :type H_HS: dict\n",
    "    :param H_MR: 暖房機器の仕様\n",
    "    :type H_MR: dict\n",
    "    :param H_OR: 暖房機器の仕様\n",
    "    :type H_OR: dict\n",
    "    :param A_A: 床面積の合計 (m2)\n",
    "    :type A_A: float\n",
    "    :param A_MR: 主たる居室の床面積 (m2)\n",
    "    :type A_MR: float\n",
    "    :param A_OR: その他の居室の床面積 (m2)\n",
    "    :type A_OR: float\n",
    "    :param region: 省エネルギー地域区分\n",
    "    :type region: int\n",
    "    :param mode_MR: 主たる居室の運転モード 'い', 'ろ', 'は'\n",
    "    :type mode_MR: str\n",
    "    :param mode_OR: その他の居室の運転モード 'い', 'ろ', 'は'\n",
    "    :type mode_OR: str\n",
    "    :param L_T_H_rad: 放熱器の暖房負荷\n",
    "    :type L_T_H_rad: ndarray\n",
    "    :param CG: コージェネレーションの機器\n",
    "    :type CG: dict\n",
    "    :return: 灯油消費量 (2)\n",
    "    :rtype: ndarray\n",
    "    \"\"\"\n",
    "    return calc_E_K_hs_d_t(H_HS, H_MR, H_OR, A_A, A_MR, A_OR, region, mode_MR, mode_OR, L_T_H_rad, CG)"
   ]
  },
  {
   "cell_type": "markdown",
   "metadata": {},
   "source": [
    "#### 6.3 ガス消費量 / Gas consumption"
   ]
  },
  {
   "cell_type": "markdown",
   "metadata": {},
   "source": [
    "$$\n",
    "\\large\n",
    "E_{G,H,d,t} = E_{G,hs,d,t}\n",
    "$$"
   ]
  },
  {
   "cell_type": "markdown",
   "metadata": {},
   "source": [
    "$E_{G,H,d,t}$：日付$d$の時刻$t$における1時間当たりのガス消費量(MJ/h) / Gas consumption per hour at time $ t $ of date $ d $  \n",
    "$E_{G,hs,d,t}$：日付$d$の時刻$t$における1時間当たりの温水暖房用熱源機のガス消費量(MJ/h) / Gas consumption of the hot water heating heat source machine per hour at time $ t $ of date $ d $  "
   ]
  },
  {
   "cell_type": "code",
   "execution_count": 5,
   "metadata": {},
   "outputs": [],
   "source": [
    "def calc_E_G_H_d_t(H_HS, H_MR, H_OR, A_A, A_MR, A_OR, region, mode_MR, mode_OR, L_T_H_rad, CG):\n",
    "    \"\"\" ガス消費量 (3)\n",
    "\n",
    "    :param H_HS: 温水暖房機の仕様\n",
    "    :type H_HS: dict\n",
    "    :param H_MR: 暖房機器の仕様\n",
    "    :type H_MR: dict\n",
    "    :param H_OR: 暖房機器の仕様\n",
    "    :type H_OR: dict\n",
    "    :param A_A: 床面積の合計 (m2)\n",
    "    :type A_A: float\n",
    "    :param A_MR: 主たる居室の床面積 (m2)\n",
    "    :type A_MR: float\n",
    "    :param A_OR: その他の居室の床面積 (m2)\n",
    "    :type A_OR: float\n",
    "    :param region: 省エネルギー地域区分\n",
    "    :type region: int\n",
    "    :param mode_MR: 主たる居室の運転モード 'い', 'ろ', 'は'\n",
    "    :type mode_MR: str\n",
    "    :param mode_OR: その他の居室の運転モード 'い', 'ろ', 'は'\n",
    "    :type mode_OR: str\n",
    "    :param L_T_H_rad: 放熱器の暖房負荷\n",
    "    :type L_T_H_rad: ndarray\n",
    "    :param CG: コージェネレーションの機器\n",
    "    :type CG: dict\n",
    "    :return: ガス消費量 (3)\n",
    "    :rtype: ndarray\n",
    "    \"\"\"\n",
    "    return calc_E_G_hs_d_t(H_HS, H_MR, H_OR, A_A, A_MR, A_OR, region, mode_MR, mode_OR, L_T_H_rad, CG)"
   ]
  },
  {
   "cell_type": "markdown",
   "metadata": {},
   "source": [
    "#### 6.4 その他の燃料による一次エネルギー消費量 / Primary energy consumption by other fuels"
   ]
  },
  {
   "cell_type": "markdown",
   "metadata": {},
   "source": [
    "$$\n",
    "\\large\n",
    "E_{M,H,d,t} = E_{M,hs,d,t}\n",
    "$$"
   ]
  },
  {
   "cell_type": "markdown",
   "metadata": {},
   "source": [
    "$E_{M,H,d,t}$：日付$d$の時刻$t$における1時間当たりのその他の燃料による一次エネルギー消費量(MJ/h) / Primary energy consumption by other fuels per hour at time $ t $ on date $ d $  \n",
    "$E_{M,hs,d,t}$：日付$d$の時刻$t$における1時間当たりの温水暖房用熱源機のその他の燃料による一次エネルギー消費量(MJ/h) / Primary energy consumption by the other fuels of the hot water heating heat source unit per hour at time $ t $ of date $ d $  "
   ]
  },
  {
   "cell_type": "code",
   "execution_count": 6,
   "metadata": {},
   "outputs": [],
   "source": [
    "def calc_E_M_H_d_t(H_HS):\n",
    "    \"\"\" その他の燃料による一次エネルギー消費量 (4)\n",
    "\n",
    "    :param H_HS: 温水暖房機の仕様\n",
    "    :type H_HS: dict\n",
    "    :return: その他の燃料による一次エネルギー消費量 (4)\n",
    "    :rtype: ndarray\n",
    "    \"\"\"\n",
    "    return get_E_M_hs_d_t(H_HS)"
   ]
  },
  {
   "cell_type": "markdown",
   "metadata": {},
   "source": [
    "### 7. 温水暖房用熱源機のエネルギー消費量 / Energy consumption of heat source equipment for hot water heating"
   ]
  },
  {
   "cell_type": "markdown",
   "metadata": {},
   "source": [
    "#### 7.1 エネルギー消費量 / Energy consumption"
   ]
  },
  {
   "cell_type": "markdown",
   "metadata": {},
   "source": [
    "省略"
   ]
  },
  {
   "cell_type": "markdown",
   "metadata": {},
   "source": [
    "ommision"
   ]
  },
  {
   "cell_type": "code",
   "execution_count": 7,
   "metadata": {},
   "outputs": [],
   "source": [
    "def calc_E_E_hs_d_t(H_HS, H_MR, H_OR, region, A_A, A_MR, A_OR, mode_MR, mode_OR, L_T_H_rad, CG, L_CS_x_t_i, L_CL_x_t_i):\n",
    "    \"\"\" 温水暖房用熱源機の消費電力量\n",
    "\n",
    "    :param H_HS: 温水暖房機の仕様\n",
    "    :type H_HS: dict\n",
    "    :param H_MR: 暖房機器の仕様\n",
    "    :type H_MR: dict\n",
    "    :param H_OR: 暖房機器の仕様\n",
    "    :type H_OR: dict\n",
    "    :param region: 省エネルギー地域区分\n",
    "    :type region: int\n",
    "    :param A_A: 床面積の合計 (m2)\n",
    "    :type A_A: float\n",
    "    :param A_MR: 主たる居室の床面積 (m2)\n",
    "    :type A_MR: float\n",
    "    :param A_OR: その他の居室の床面積 (m2)\n",
    "    :type A_OR: float\n",
    "    :param mode_MR: 主たる居室の運転モード 'い', 'ろ', 'は'\n",
    "    :type mode_MR: str\n",
    "    :param mode_OR: その他の居室の運転モード 'い', 'ろ', 'は'\n",
    "    :type mode_OR: str\n",
    "    :param L_T_H_rad: 放熱器の暖房負荷\n",
    "    :type L_T_H_rad: ndarray\n",
    "    :param CG: コージェネレーションの機器\n",
    "    :type CG: dict\n",
    "    :param L_CS_x_t_i: 日付dの時刻tにおける暖冷房区画iの冷房顕熱負荷 (MJ/h)\n",
    "    :type L_CS_x_t_i: ndarray\n",
    "    :param L_CL_x_t_i: 日付dの時刻tにおける暖冷房区画iの冷房潜熱負荷 (MJ/h)\n",
    "    :type L_CL_x_t_i: ndarray\n",
    "    :return: 水暖房用熱源機の消費電力量\n",
    "    :rtype: ndarray\n",
    "    \"\"\"\n",
    "    hs_type = H_HS['type']\n",
    "\n",
    "    # 主たる居室、その他の居室という単位で設定された放熱機器を暖房区画ごとの配列に変換\n",
    "    rad_list = get_rad_list(H_MR, H_OR)\n",
    "\n",
    "    # 温水暖房用熱源機の往き温水温度\n",
    "    Theta_SW_hs_op = get_Theta_SW_hs_op(hs_type, CG)\n",
    "    p_hs = calc_p_hs_d_t(Theta_SW_hs_op, rad_list, L_T_H_rad, A_A, A_MR, A_OR, region, mode_MR, mode_OR)\n",
    "    Theta_SW_d_t = get_Theta_SW_d_t(Theta_SW_hs_op, p_hs)\n",
    "\n",
    "    # 温水暖房用熱源機の温水熱需要\n",
    "    Q_dmd_H_hs_d_t = calc_Q_dmd_H_hs_d_t(rad_list, H_HS['pipe_insulation'], H_HS['underfloor_pipe_insulation'],\n",
    "                                         Theta_SW_d_t, A_A, A_MR, A_OR, region,\n",
    "                                         mode_MR, mode_OR, L_T_H_rad)\n",
    "\n",
    "    # 処理暖房負荷\n",
    "    Q_T_H_rad = np.zeros((5, 24 * 365))\n",
    "    for i in [1, 3, 4, 5]:\n",
    "\n",
    "        if rad_list[i - 1] is None:\n",
    "            continue\n",
    "\n",
    "        # 1時間当たりの暖冷房区画iに設置された放熱器の最大暖房出力\n",
    "        A_HCZ = calc_A_HCZ_i(i, A_A, A_MR, A_OR)\n",
    "        R_type = '主たる居室' if i == 1 else 'その他の居室'\n",
    "        mode = mode_MR if i == 1 else mode_OR\n",
    "        Q_max_H_rad_d_t_i = calc_Q_max_H_rad_d_t_i(rad_list[i - 1], A_HCZ, Theta_SW_d_t, region, mode, R_type)\n",
    "\n",
    "        # 1時間当たりの暖冷房区画iに設置された放熱器の処理暖房負荷\n",
    "        Q_T_H_rad[i - 1, :] = calc_Q_T_H_rad_d_t_i(Q_max_H_rad_d_t_i, L_T_H_rad[i - 1])\n",
    "\n",
    "    # 温水暖房用熱源機の温水供給運転率\n",
    "    r_WS_hs = calc_r_WS_hs_d_t(rad_list, Q_dmd_H_hs_d_t, Q_T_H_rad, Theta_SW_d_t, region, A_A, A_MR, A_OR, mode_MR)\n",
    "\n",
    "    if hs_type in ['石油温水暖房機', '石油給湯温水暖房機', '石油従来型温水暖房機', '石油従来型給湯温水暖房機', '石油潜熱回収型温水暖房機', '石油潜熱回収型給湯温水暖房機']:\n",
    "        # 温水暖房用熱源機の灯油消費量\n",
    "        E_K_hs = calc_E_K_hs_d_t(H_HS, H_MR, H_OR, A_A, A_MR, A_OR, region, mode_MR, mode_OR, L_T_H_rad, CG)\n",
    "\n",
    "        E_E_hs = hs_oil.calc_E_E_hs(\n",
    "            hs_type=hs_type,\n",
    "            r_WS_hs=r_WS_hs,\n",
    "            E_K_hs=E_K_hs\n",
    "        )\n",
    "    elif hs_type in ['ガス温水暖房機', 'ガス給湯温水暖房機', 'ガス従来型温水暖房機', 'ガス従来型給湯温水暖房機', 'ガス潜熱回収型温水暖房機', 'ガス潜熱回収型給湯温水暖房機']:\n",
    "        # 温水暖房用熱源機のガス消費量\n",
    "        E_G_hs = calc_E_G_hs_d_t(H_HS, H_MR, H_OR, A_A, A_MR, A_OR, region, mode_MR, mode_OR, L_T_H_rad, CG)\n",
    "\n",
    "        E_E_hs = hs_gas.calc_E_E_hs(\n",
    "            r_WS_hs=r_WS_hs,\n",
    "            E_G_hs=E_G_hs\n",
    "        )\n",
    "    elif hs_type == '電気ヒーター温水暖房機' or hs_type == '電気ヒーター給湯温水暖房機':\n",
    "        # 最大出力の計算のためのパラメータの取得\n",
    "        rad_types = get_rad_type_list()\n",
    "        has_MR_hwh = H_MR['type'] in rad_types\n",
    "        if H_OR is not None:\n",
    "            has_OR_hwh = H_OR['type'] in rad_types\n",
    "        else:\n",
    "            has_OR_hwh = False\n",
    "\n",
    "        # 最大出力\n",
    "        Q_max_H_hs_d_t = hs_eheater.calc_Q_max_H_hs(\n",
    "            region=region,\n",
    "            A_A=A_A,\n",
    "            A_MR=A_MR,\n",
    "            A_OR=A_OR,\n",
    "            mode_MR=mode_MR,\n",
    "            mode_OR=mode_OR,\n",
    "            has_MR_hwh=has_MR_hwh,\n",
    "            has_OR_hwh=has_OR_hwh\n",
    "        )\n",
    "\n",
    "        # 温水暖房用熱源機の暖房出力\n",
    "        Q_out_H_hs_d_t = get_Q_out_H_hs_d_t(Q_dmd_H_hs_d_t, Q_max_H_hs_d_t)\n",
    "\n",
    "        E_E_hs = hs_eheater.calc_E_E_hs(\n",
    "            Q_out_H_hs=Q_out_H_hs_d_t,\n",
    "            r_WS_hs=r_WS_hs\n",
    "        )\n",
    "    elif hs_type == '電気ヒートポンプ温水暖房機':\n",
    "        # 定格の計算のためのパラメータの取得\n",
    "        rad_types = get_rad_type_list()\n",
    "        has_MR_hwh = H_MR['type'] in rad_types\n",
    "        if H_OR is not None:\n",
    "            has_OR_hwh = H_OR['type'] in rad_types\n",
    "        else:\n",
    "            has_OR_hwh = False\n",
    "\n",
    "        # 定格能力\n",
    "        q_rtd_hs = hs_ehpump.calc_q_rtd_hs(\n",
    "            region=region,\n",
    "            A_A=A_A,\n",
    "            A_MR=A_MR,\n",
    "            A_OR=A_OR,\n",
    "            mode_MR=mode_MR,\n",
    "            mode_OR=mode_OR,\n",
    "            has_MR_hwh=has_MR_hwh,\n",
    "            has_OR_hwh=has_OR_hwh\n",
    "        )\n",
    "\n",
    "        # 外気条件の取得\n",
    "        outdoor = load_outdoor()\n",
    "        Theta_ex = get_Theta_ex(region, outdoor)\n",
    "        X_ex = get_X_ex(region, outdoor)\n",
    "        h_ex = calc_h_ex(X_ex, Theta_ex)\n",
    "\n",
    "        # 最大出力\n",
    "        Q_max_H_hs_d_t = hs_ehpump.calc_Q_max_H_hs(\n",
    "            q_rtd_hs=q_rtd_hs,\n",
    "            Theta_SW_hs=Theta_SW_d_t,\n",
    "            Theta_ex=Theta_ex,\n",
    "            h_ex=h_ex\n",
    "        )\n",
    "\n",
    "        # 温水暖房用熱源機の暖房出力\n",
    "        Q_out_H_hs_d_t = get_Q_out_H_hs_d_t(Q_dmd_H_hs_d_t, Q_max_H_hs_d_t)\n",
    "\n",
    "        # 1時間当たりの熱源機の消費電力量 (kWh/h)\n",
    "        E_E_hs = hs_ehpump.calc_E_E_hs(\n",
    "            Q_out_H_hs=Q_out_H_hs_d_t,\n",
    "            Q_max_H_hs=Q_max_H_hs_d_t,\n",
    "            Q_dmd_H_hs_d_t=Q_dmd_H_hs_d_t,\n",
    "            Theta_SW_hs=Theta_SW_d_t,\n",
    "            Theta_ex=Theta_ex,\n",
    "            q_rtd_hs=q_rtd_hs\n",
    "        )\n",
    "    elif hs_type == '電気ヒートポンプ・ガス瞬間式併用型給湯温水暖房機(給湯熱源：ガス瞬間式、暖房熱源：電気ヒートポンプ・ガス瞬間式併用)':\n",
    "        # 外気温\n",
    "        outdoor = load_outdoor()\n",
    "        Theta_ex = get_Theta_ex(region, outdoor)\n",
    "        X_ex = get_X_ex(region, outdoor)\n",
    "        h_ex = calc_h_ex(X_ex, Theta_ex)\n",
    "\n",
    "        # 戻り温水温度 (℃)\n",
    "        Theta_RW_hs = calc_Theta_RW_hs_d_t(Theta_SW_d_t, rad_list, H_HS['pipe_insulation'],\n",
    "                                           H_HS['underfloor_pipe_insulation'], A_A, A_MR, A_OR, region,\n",
    "                                           mode_MR, mode_OR, L_T_H_rad)\n",
    "\n",
    "        # 1時間当たりの熱源機の消費電力量 (kWh/h)\n",
    "        E_E_hs = hs_gas_hybrid.calc_E_E_hs(\n",
    "            Q_dmd_H_hs_d_t=Q_dmd_H_hs_d_t,\n",
    "            Theta_RW_hs=Theta_RW_hs,\n",
    "            Theta_ex=Theta_ex,\n",
    "            h_ex=h_ex,\n",
    "            Theta_SW_d_t=Theta_SW_d_t,\n",
    "            TU_place=H_HS['TU_place']\n",
    "        )\n",
    "    elif hs_type == '電気ヒートポンプ・ガス瞬間式併用型給湯温水暖房機(給湯熱源：電気ヒートポンプ・ガス瞬間式併用、暖房熱源：ガス瞬間式)(仕様による)':\n",
    "        # 温水暖房用熱源機のガス消費量 (MJ/h)\n",
    "        E_G_hs = calc_E_G_hs_d_t(H_HS, H_MR, H_OR, A_A, A_MR, A_OR, region, mode_MR, mode_OR, L_T_H_rad, CG)\n",
    "\n",
    "        # 1時間当たりの熱源機の消費電力量 (kWh/h)\n",
    "        E_E_hs = hs_hybrid_gas.calc_E_E_hs(\n",
    "            r_WS_hs=r_WS_hs,\n",
    "            E_G_hs=E_G_hs\n",
    "        )\n",
    "    elif hs_type == '電気ヒートポンプ・ガス瞬間式併用型給湯温水暖房機(給湯熱源：電気ヒートポンプ・ガス瞬間式併用、暖房熱源：電気ヒートポンプ・ガス瞬間式併用)':\n",
    "        # 1時間当たりの熱源機の消費電力量 (kWh/h)\n",
    "        return hs_whybrid.get_E_E_hs()\n",
    "    elif hs_type == 'コージェネレーションを使用する':\n",
    "        # コージェネレーションの場合は電力を計上しない\n",
    "        return np.zeros(24 * 365)\n",
    "    elif hs_type == '地中熱ヒートポンプ温水暖房機':\n",
    "        # 外気温\n",
    "        outdoor = load_outdoor()\n",
    "        Theta_ex = get_Theta_ex(region, outdoor)\n",
    "        Theta_ex_a_Ave = get_Theta_ex_a_Ave(Theta_ex)\n",
    "        Theta_ex_d_Ave_d = get_Theta_ex_d_Ave_d(Theta_ex)\n",
    "        Theta_ex_H_Ave = get_Theta_ex_H_Ave(Theta_ex, L_T_H_rad)\n",
    "\n",
    "        # 定格の計算のためのパラメータの取得\n",
    "        rad_types = get_rad_type_list()\n",
    "        has_MR_hwh = H_MR['type'] in rad_types\n",
    "        if H_OR is not None:\n",
    "            has_OR_hwh = H_OR['type'] in rad_types\n",
    "        else:\n",
    "            has_OR_hwh = False\n",
    "\n",
    "        # 定格能力 付録Hに定める温水暖房用熱源機の最大能力 q_max_hs に等しい\n",
    "        q_rtd_hs = hs_ghpump.calc_q_rtd_hs(\n",
    "            region=region,\n",
    "            A_A=A_A,\n",
    "            A_MR=A_MR,\n",
    "            A_OR=A_OR,\n",
    "            mode_MR=mode_MR,\n",
    "            mode_OR=mode_OR,\n",
    "            has_MR_hwh=has_MR_hwh,\n",
    "            has_OR_hwh=has_OR_hwh\n",
    "        )\n",
    "\n",
    "        # 1時間当たりの熱源機の消費電力量 (kWh/h)\n",
    "        E_E_hs = hs_ghpump.calc_E_E_hs_d_t(\n",
    "            Q_dmd_H_hs_d_t=Q_dmd_H_hs_d_t,\n",
    "            Theta_ex_a_Ave=Theta_ex_a_Ave,\n",
    "            Theta_ex_d_Ave_d=Theta_ex_d_Ave_d,\n",
    "            Theta_ex_H_Ave=Theta_ex_H_Ave,\n",
    "            Theta_SW_d_t=Theta_SW_d_t,\n",
    "            q_max_hs=q_rtd_hs,\n",
    "            L_H_x_t_i=L_T_H_rad,\n",
    "            L_CS_x_t_i=L_CS_x_t_i,\n",
    "            L_CL_x_t_i=L_CL_x_t_i,\n",
    "            HeatExchangerType=H_HS['HeatExchanger']\n",
    "        )\n",
    "    else:\n",
    "        raise ValueError(hs_type)\n",
    "\n",
    "    # print('{} E_E_hs = {} [kwh]'.format(hs_type, np.sum(E_E_hs)))\n",
    "\n",
    "    return E_E_hs\n"
   ]
  },
  {
   "cell_type": "code",
   "execution_count": 8,
   "metadata": {},
   "outputs": [],
   "source": [
    "def get_rad_type_list():\n",
    "    \"\"\" 放熱系の種類\n",
    "\n",
    "    :return: 放熱系の種類\n",
    "    :rtype: list\n",
    "    \"\"\"\n",
    "    # 放熱系の種類\n",
    "    return [\n",
    "        '温水暖房用パネルラジエーター',\n",
    "        '温水暖房用ファンコンベクター',\n",
    "        '温水暖房用床暖房'\n",
    "    ]\n",
    "\n",
    "\n",
    "def get_rad_list(H_MR, H_OR):\n",
    "    \"\"\" 主たる居室、その他の居室という単位で設定された放熱機器を暖房区画ごとの配列に変換\n",
    "\n",
    "    :param H_MR: 暖房機器の仕様\n",
    "    :type H_MR: dict\n",
    "    :param H_OR: 暖房機器の仕様\n",
    "    :type H_OR: dict\n",
    "    :return: 放熱機器の暖房区画ごとの配列\n",
    "    :rtype: list\n",
    "    \"\"\"\n",
    "    # 暖房区画i=1-5に対応した放熱器のリストを作成\n",
    "    rad_list = [None, None, None, None, None]\n",
    "\n",
    "    # 放熱系の種類\n",
    "    rad_types = get_rad_type_list()\n",
    "\n",
    "    # 主たる居室\n",
    "    if H_MR is not None:\n",
    "        if H_MR['type'] in rad_types:\n",
    "            rad_list[0] = H_MR\n",
    "\n",
    "    # その他の居室\n",
    "    if H_OR is not None:\n",
    "        if H_OR['type'] in rad_types:\n",
    "            rad_list[1] = H_OR\n",
    "            rad_list[2] = H_OR\n",
    "            rad_list[3] = H_OR\n",
    "            rad_list[4] = H_OR\n",
    "\n",
    "    return rad_list"
   ]
  },
  {
   "cell_type": "code",
   "execution_count": 9,
   "metadata": {},
   "outputs": [],
   "source": [
    "def calc_L_HWH(H_HS, H_MR, H_OR, A_A, A_MR, A_OR, region, mode_MR, mode_OR, L_T_H_rad, CG):\n",
    "    \"\"\" 温水暖房用熱源機の熱負荷\n",
    "\n",
    "    :param H_HS: 温水暖房機の仕様\n",
    "    :type H_HS: dict\n",
    "    :param H_MR: 暖房機器の仕様\n",
    "    :type H_MR: dict\n",
    "    :param H_OR: 暖房機器の仕様\n",
    "    :type H_OR: dict\n",
    "    :param A_A: 床面積の合計 (m2)\n",
    "    :type A_A: float\n",
    "    :param A_MR: 主たる居室の床面積 (m2)\n",
    "    :type A_MR: float\n",
    "    :param A_OR: その他の居室の床面積 (m2)\n",
    "    :type A_OR: float\n",
    "    :param region: 省エネルギー地域区分\n",
    "    :type region: int\n",
    "    :param mode_MR: 主たる居室の運転モード 'い', 'ろ', 'は'\n",
    "    :type mode_MR: str\n",
    "    :param mode_OR: その他の居室の運転モード 'い', 'ろ', 'は'\n",
    "    :type mode_OR: str\n",
    "    :param L_T_H_rad: 放熱器の暖房負荷\n",
    "    :type L_T_H_rad: ndarray\n",
    "    :param CG: コージェネレーションの機器\n",
    "    :type CG: dict\n",
    "    :return: 温水暖房用熱源機の熱負荷\n",
    "    :rtype: ndarray\n",
    "    \"\"\"\n",
    "    hs_type = H_HS['type']\n",
    "\n",
    "    # 主たる居室、その他の居室という単位で設定された放熱機器を暖房区画ごとの配列に変換\n",
    "    rad_list = get_rad_list(H_MR, H_OR)\n",
    "\n",
    "    # 温水暖房用熱源機の往き温水温度\n",
    "    Theta_SW_hs_op = get_Theta_SW_hs_op(hs_type, CG)\n",
    "    p_hs = calc_p_hs_d_t(Theta_SW_hs_op, rad_list, L_T_H_rad, A_A, A_MR, A_OR, region, mode_MR, mode_OR)\n",
    "    Theta_SW_d_t = get_Theta_SW_d_t(Theta_SW_hs_op, p_hs)\n",
    "\n",
    "    # 温水暖房用熱源機の温水熱需要\n",
    "    Q_dmd_H_hs_d_t = calc_Q_dmd_H_hs_d_t(rad_list, H_HS['pipe_insulation'], H_HS['underfloor_pipe_insulation'],\n",
    "                                         Theta_SW_d_t, A_A, A_MR, A_OR, region,\n",
    "                                         mode_MR, mode_OR, L_T_H_rad)\n",
    "\n",
    "    return Q_dmd_H_hs_d_t"
   ]
  },
  {
   "cell_type": "code",
   "execution_count": 10,
   "metadata": {},
   "outputs": [],
   "source": [
    "def calc_E_K_hs_d_t(H_HS, H_MR, H_OR, A_A, A_MR, A_OR, region, mode_MR, mode_OR, L_T_H_rad, CG):\n",
    "    \"\"\" 温水暖房用熱源機の灯油消費量\n",
    "\n",
    "    :param H_HS: 温水暖房機の仕様\n",
    "    :type H_HS: dict\n",
    "    :param H_MR: 暖房機器の仕様\n",
    "    :type H_MR: dict\n",
    "    :param H_OR: 暖房機器の仕様\n",
    "    :type H_OR: dict\n",
    "    :param A_A: 床面積の合計 (m2)\n",
    "    :type A_A: float\n",
    "    :param A_MR: 主たる居室の床面積 (m2)\n",
    "    :type A_MR: float\n",
    "    :param A_OR: その他の居室の床面積 (m2)\n",
    "    :type A_OR: float\n",
    "    :param region: 省エネルギー地域区分\n",
    "    :type region: int\n",
    "    :param mode_MR: 主たる居室の運転モード 'い', 'ろ', 'は'\n",
    "    :type mode_MR: str\n",
    "    :param mode_OR: その他の居室の運転モード 'い', 'ろ', 'は'\n",
    "    :type mode_OR: str\n",
    "    :param L_T_H_rad: 放熱器の暖房負荷\n",
    "    :type L_T_H_rad: ndarray\n",
    "    :param CG: コージェネレーションの機器\n",
    "    :type CG: dict\n",
    "    :return: 温水暖房用熱源機の灯油消費量\n",
    "    :rtype: ndarray\n",
    "    \"\"\"\n",
    "    hs_type = H_HS['type']\n",
    "\n",
    "    # 主たる居室、その他の居室という単位で設定された放熱機器を暖房区画ごとの配列に変換\n",
    "    rad_list = get_rad_list(H_MR, H_OR)\n",
    "\n",
    "    # 温水暖房用熱源機の往き温水温度\n",
    "    Theta_SW_hs_op = get_Theta_SW_hs_op(hs_type, CG)\n",
    "    p_hs = calc_p_hs_d_t(Theta_SW_hs_op, rad_list, L_T_H_rad, A_A, A_MR, A_OR, region, mode_MR, mode_OR)\n",
    "    Theta_SW_d_t = get_Theta_SW_d_t(Theta_SW_hs_op, p_hs)\n",
    "\n",
    "    if hs_type in ['石油温水暖房機', '石油給湯温水暖房機', '石油従来型温水暖房機', '石油従来型給湯温水暖房機', '石油潜熱回収型温水暖房機', '石油潜熱回収型給湯温水暖房機']:\n",
    "\n",
    "        # 定格効率\n",
    "        if 'e_rtd_hs' in H_HS:\n",
    "            e_rtd = H_HS['e_rtd_hs']\n",
    "        else:\n",
    "            e_rtd = hs_oil.get_e_rtd_default(hs_type)\n",
    "\n",
    "        # 温水暖房用熱源機の温水熱需要\n",
    "        Q_dmd_H_hs_d_t = calc_Q_dmd_H_hs_d_t(rad_list, H_HS['pipe_insulation'], H_HS['underfloor_pipe_insulation'],\n",
    "                                             Theta_SW_d_t, A_A, A_MR, A_OR, region,\n",
    "                                             mode_MR, mode_OR, L_T_H_rad)\n",
    "\n",
    "        # 定格能力の計算のためのパラメータの取得\n",
    "        rad_types = get_rad_type_list()\n",
    "        has_MR_hwh = H_MR['type'] in rad_types\n",
    "        if H_OR is not None:\n",
    "            has_OR_hwh = H_OR['type'] in rad_types\n",
    "        else:\n",
    "            has_OR_hwh = False\n",
    "\n",
    "        # 温水暖房熱源機の定格能力\n",
    "        q_rtd_hs = hs_oil.calc_q_rtd_hs(region, A_A, A_MR, A_OR, mode_MR, mode_OR, has_MR_hwh, has_OR_hwh)\n",
    "\n",
    "        # 最大暖房出力\n",
    "        Q_max_H_hs_d_t = hs_oil.get_Q_max_H_hs(q_rtd_hs)\n",
    "\n",
    "        # 温水暖房用熱源機の暖房出力\n",
    "        Q_out_H_hs = get_Q_out_H_hs_d_t(Q_dmd_H_hs_d_t, Q_max_H_hs_d_t)\n",
    "\n",
    "        # 戻り温水温度 (9)\n",
    "        Theta_RW_hs = calc_Theta_RW_hs_d_t(Theta_SW_d_t, rad_list, H_HS['pipe_insulation'],\n",
    "                                           H_HS['underfloor_pipe_insulation'], A_A, A_MR, A_OR, region,\n",
    "                                           mode_MR, mode_OR,\n",
    "                                           L_T_H_rad)\n",
    "\n",
    "        # 温水暖房用熱源機の灯油消費量\n",
    "        E_K_hs = hs_oil.calc_E_K_hs(\n",
    "            Q_out_H_hs=Q_out_H_hs,\n",
    "            e_rtd=e_rtd,\n",
    "            hs_type=hs_type,\n",
    "            Theta_SW_hs=Theta_SW_d_t,\n",
    "            Theta_RW_hs=Theta_RW_hs,\n",
    "            region=region,\n",
    "            A_A=A_A,\n",
    "            A_MR=A_MR,\n",
    "            A_OR=A_OR,\n",
    "            mode_MR=mode_MR,\n",
    "            mode_OR=mode_OR,\n",
    "            has_MR_hwh=has_MR_hwh,\n",
    "            has_OR_hwh=has_OR_hwh\n",
    "        )\n",
    "    elif hs_type in ['ガス温水暖房機', 'ガス給湯温水暖房機', 'ガス従来型温水暖房機', 'ガス従来型給湯温水暖房機', 'ガス潜熱回収型温水暖房機', 'ガス潜熱回収型給湯温水暖房機']:\n",
    "        E_K_hs = hs_gas.get_E_K_hs()\n",
    "    elif hs_type == '電気ヒーター温水暖房機' or hs_type == '電気ヒーター給湯温水暖房機':\n",
    "        E_K_hs = hs_eheater.get_E_K_hs()\n",
    "    elif hs_type == '電気ヒートポンプ温水暖房機':\n",
    "        E_K_hs = hs_ehpump.get_E_K_hs()\n",
    "    elif hs_type == '電気ヒートポンプ・ガス瞬間式併用型給湯温水暖房機(給湯熱源：ガス瞬間式、暖房熱源：電気ヒートポンプ・ガス瞬間式併用)':\n",
    "        E_K_hs = hs_gas_hybrid.get_E_K_hs()\n",
    "    elif hs_type == '電気ヒートポンプ・ガス瞬間式併用型給湯温水暖房機(給湯熱源：電気ヒートポンプ・ガス瞬間式併用、暖房熱源：ガス瞬間式)(仕様による)':\n",
    "        E_K_hs = hs_hybrid_gas.calc_E_K_hs()\n",
    "    elif hs_type == '電気ヒートポンプ・ガス瞬間式併用型給湯温水暖房機(給湯熱源：電気ヒートポンプ・ガス瞬間式併用、暖房熱源：電気ヒートポンプ・ガス瞬間式併用)':\n",
    "        E_K_hs = hs_whybrid.get_E_K_hs()\n",
    "    elif hs_type == 'コージェネレーションを使用する':\n",
    "        E_K_hs = np.zeros(24 * 365)\n",
    "    elif hs_type == '地中熱ヒートポンプ温水暖房機':\n",
    "        E_K_hs = hs_ghpump.get_E_K_hs_d_t()\n",
    "    else:\n",
    "        raise ValueError(hs_type)\n",
    "\n",
    "    # print('{} E_K_hs = {} [MJ] (L_T_H_rad = {} [MJ])'.format(hs_type, np.sum(E_K_hs), np.sum(L_T_H_rad)))\n",
    "\n",
    "    return E_K_hs"
   ]
  },
  {
   "cell_type": "code",
   "execution_count": 11,
   "metadata": {},
   "outputs": [],
   "source": [
    "def calc_E_G_hs_d_t(H_HS, H_MR, H_OR, A_A, A_MR, A_OR, region, mode_MR, mode_OR, L_T_H_rad, CG):\n",
    "    \"\"\" 温水暖房用熱源機のガス消費量\n",
    "\n",
    "    :param H_HS: 温水暖房機の仕様\n",
    "    :type H_HS: dict\n",
    "    :param H_MR: 暖房機器の仕様\n",
    "    :type H_MR: dict\n",
    "    :param H_OR: 暖房機器の仕様\n",
    "    :type H_OR: dict\n",
    "    :param A_A: 床面積の合計 (m2)\n",
    "    :type A_A: float\n",
    "    :param A_MR: 主たる居室の床面積 (m2)\n",
    "    :type A_MR: float\n",
    "    :param A_OR: その他の居室の床面積 (m2)\n",
    "    :type A_OR: float\n",
    "    :param region: 省エネルギー地域区分\n",
    "    :type region: int\n",
    "    :param mode_MR: 主たる居室の運転モード 'い', 'ろ', 'は'\n",
    "    :type mode_MR: str\n",
    "    :param mode_OR: その他の居室の運転モード 'い', 'ろ', 'は'\n",
    "    :type mode_OR: str\n",
    "    :param L_T_H_rad: 放熱器の暖房負荷\n",
    "    :type L_T_H_rad: ndarray\n",
    "    :param CG: コージェネレーションの機器\n",
    "    :type CG: dict\n",
    "    :return: 温水暖房用熱源機のガス消費量\n",
    "    :rtype: ndarray\n",
    "    \"\"\"\n",
    "    hs_type = H_HS['type']\n",
    "\n",
    "    # 主たる居室、その他の居室という単位で設定された放熱機器を暖房区画ごとの配列に変換\n",
    "    rad_list = get_rad_list(H_MR, H_OR)\n",
    "\n",
    "    # 温水暖房用熱源機の往き温水温度\n",
    "    Theta_SW_hs_op = get_Theta_SW_hs_op(hs_type, CG)\n",
    "    p_hs = calc_p_hs_d_t(Theta_SW_hs_op, rad_list, L_T_H_rad, A_A, A_MR, A_OR, region, mode_MR, mode_OR)\n",
    "    Theta_SW_d_t = get_Theta_SW_d_t(Theta_SW_hs_op, p_hs)\n",
    "\n",
    "    if hs_type in ['石油温水暖房機', '石油給湯温水暖房機', '石油従来型温水暖房機', '石油従来型給湯温水暖房機', '石油潜熱回収型温水暖房機', '石油潜熱回収型給湯温水暖房機']:\n",
    "        E_G_hs = hs_oil.get_E_G_hs()\n",
    "    elif hs_type in ['ガス温水暖房機', 'ガス給湯温水暖房機', 'ガス従来型温水暖房機', 'ガス従来型給湯温水暖房機', 'ガス潜熱回収型温水暖房機', 'ガス潜熱回収型給湯温水暖房機']:\n",
    "\n",
    "        # 定格効率\n",
    "        if 'e_rtd_hs' in H_HS:\n",
    "            e_rtd = H_HS['e_rtd_hs']\n",
    "        else:\n",
    "            e_rtd = hs_gas.get_e_rtd_default(hs_type)\n",
    "\n",
    "        # 温水暖房用熱源機の温水熱需要\n",
    "        Q_dmd_H_hs_d_t = calc_Q_dmd_H_hs_d_t(rad_list, H_HS['pipe_insulation'], H_HS['underfloor_pipe_insulation'],\n",
    "                                             Theta_SW_d_t, A_A, A_MR, A_OR, region,\n",
    "                                             mode_MR, mode_OR, L_T_H_rad)\n",
    "\n",
    "        # 定格能力の計算のためのパラメータの取得\n",
    "        rad_types = get_rad_type_list()\n",
    "        has_MR_hwh = H_MR['type'] in rad_types\n",
    "        if H_OR is not None:\n",
    "            has_OR_hwh = H_OR['type'] in rad_types\n",
    "        else:\n",
    "            has_OR_hwh = False\n",
    "\n",
    "        # 温水暖房熱源機の定格能力\n",
    "        q_rtd_hs = hs_gas.calc_q_rtd_hs(region, A_A, A_MR, A_OR, mode_MR, mode_OR, has_MR_hwh, has_OR_hwh)\n",
    "\n",
    "        # 最大暖房出力\n",
    "        Q_max_H_hs_d_t = hs_gas.get_Q_max_H_hs(q_rtd_hs)\n",
    "\n",
    "        # 温水暖房用熱源機の暖房出力\n",
    "        Q_out_H_hs = get_Q_out_H_hs_d_t(Q_dmd_H_hs_d_t, Q_max_H_hs_d_t)\n",
    "\n",
    "        # 戻り温水温度\n",
    "        Theta_RW_hs = calc_Theta_RW_hs_d_t(Theta_SW_d_t, rad_list, H_HS['pipe_insulation'],\n",
    "                                           H_HS['underfloor_pipe_insulation'], A_A, A_MR, A_OR, region,\n",
    "                                           mode_MR, mode_OR, L_T_H_rad)\n",
    "\n",
    "        # 温水暖房用熱源機の定格能力 (W)\n",
    "        q_rtd_hs = hs_gas.calc_q_rtd_hs(region, A_A, A_MR, A_OR, mode_MR, mode_OR, has_MR_hwh, has_OR_hwh)\n",
    "\n",
    "        E_G_hs = hs_gas.calc_E_G_hs(\n",
    "            e_rtd=e_rtd,\n",
    "            q_rtd_hs=q_rtd_hs,\n",
    "            Q_out_H_hs=Q_out_H_hs,\n",
    "            hs_type=hs_type,\n",
    "            P_hs=p_hs,\n",
    "        )\n",
    "    elif hs_type == '電気ヒーター温水暖房機' or hs_type == '電気ヒーター給湯温水暖房機':\n",
    "        E_G_hs = hs_eheater.get_E_G_hs()\n",
    "    elif hs_type == '電気ヒートポンプ温水暖房機':\n",
    "        E_G_hs = hs_ehpump.get_E_G_hs()\n",
    "    elif hs_type == '電気ヒートポンプ・ガス瞬間式併用型給湯温水暖房機(給湯熱源：ガス瞬間式、暖房熱源：電気ヒートポンプ・ガス瞬間式併用)':\n",
    "\n",
    "        # 外気温\n",
    "        outdoor = load_outdoor()\n",
    "        Theta_ex = get_Theta_ex(region, outdoor)\n",
    "        X_ex = get_X_ex(region, outdoor)\n",
    "        h_ex = calc_h_ex(X_ex, Theta_ex)\n",
    "\n",
    "        # 温水暖房用熱源機の温水熱需要\n",
    "        Q_dmd_H_hs_d_t = calc_Q_dmd_H_hs_d_t(rad_list, H_HS['pipe_insulation'], H_HS['underfloor_pipe_insulation'],\n",
    "                                             Theta_SW_d_t, A_A, A_MR, A_OR, region,\n",
    "                                             mode_MR, mode_OR, L_T_H_rad)\n",
    "\n",
    "        # 戻り温水温度\n",
    "        Theta_RW_hs = calc_Theta_RW_hs_d_t(Theta_SW_d_t, rad_list, H_HS['pipe_insulation'],\n",
    "                                           H_HS['underfloor_pipe_insulation'], A_A,\n",
    "                                           A_MR, A_OR, region, mode_MR, mode_OR,\n",
    "                                           L_T_H_rad)\n",
    "\n",
    "        E_G_hs = hs_gas_hybrid.calc_E_G_hs(\n",
    "            Theta_ex=Theta_ex,\n",
    "            Theta_SW_d_t=Theta_SW_d_t,\n",
    "            Theta_RW_hs=Theta_RW_hs,\n",
    "            TU_place=H_HS['TU_place'],\n",
    "            Q_dmd_H_hs_d_t=Q_dmd_H_hs_d_t\n",
    "        )\n",
    "    elif hs_type == '電気ヒートポンプ・ガス瞬間式併用型給湯温水暖房機(給湯熱源：電気ヒートポンプ・ガス瞬間式併用、暖房熱源：ガス瞬間式)(仕様による)':\n",
    "\n",
    "        # 温水暖房用熱源機の温水熱需要\n",
    "        Q_dmd_H_hs_d_t = calc_Q_dmd_H_hs_d_t(rad_list, H_HS['pipe_insulation'], H_HS['underfloor_pipe_insulation'],\n",
    "                                             Theta_SW_d_t, A_A, A_MR, A_OR, region,\n",
    "                                             mode_MR, mode_OR, L_T_H_rad)\n",
    "\n",
    "        # 定格能力の計算のためのパラメータの取得\n",
    "        rad_types = get_rad_type_list()\n",
    "        has_MR_hwh = H_MR['type'] in rad_types\n",
    "        if H_OR is not None:\n",
    "            has_OR_hwh = H_OR['type'] in rad_types\n",
    "        else:\n",
    "            has_OR_hwh = False\n",
    "\n",
    "        # 温水暖房熱源機の定格能力\n",
    "        q_rtd_hs = hs_gas.calc_q_rtd_hs(region, A_A, A_MR, A_OR, mode_MR, mode_OR, has_MR_hwh, has_OR_hwh)\n",
    "\n",
    "        # 最大暖房出力\n",
    "        Q_max_H_hs_d_t = hs_gas.get_Q_max_H_hs(q_rtd_hs)\n",
    "\n",
    "        # 温水暖房用熱源機の暖房出力\n",
    "        Q_out_H_hs = get_Q_out_H_hs_d_t(Q_dmd_H_hs_d_t, Q_max_H_hs_d_t)\n",
    "\n",
    "        # 戻り温水温度\n",
    "        Theta_RW_hs = calc_Theta_RW_hs_d_t(Theta_SW_d_t, rad_list, H_HS['pipe_insulation'],\n",
    "                                           H_HS['underfloor_pipe_insulation'], A_A, A_MR, A_OR, region,\n",
    "                                           mode_MR, mode_OR, L_T_H_rad)\n",
    "\n",
    "        E_G_hs = hs_hybrid_gas.calc_E_G_hs(\n",
    "            q_rtd_hs=q_rtd_hs,\n",
    "            Q_out_H_hs=Q_out_H_hs,\n",
    "            P_hs=p_hs\n",
    "        )\n",
    "    elif hs_type == '電気ヒートポンプ・ガス瞬間式併用型給湯温水暖房機(給湯熱源：電気ヒートポンプ・ガス瞬間式併用、暖房熱源：電気ヒートポンプ・ガス瞬間式併用)':\n",
    "        E_G_hs = hs_whybrid.get_E_G_hs()\n",
    "    elif hs_type == 'コージェネレーションを使用する':\n",
    "        E_G_hs = np.zeros(24 * 365)\n",
    "    elif hs_type == '地中熱ヒートポンプ温水暖房機':\n",
    "        E_G_hs = hs_ghpump.get_E_G_hs_d_t()\n",
    "    else:\n",
    "        raise ValueError(hs_type)\n",
    "\n",
    "    # print('{} E_G_hs = {} [MJ] (L_T_H_rad = {} [MJ])'.format(hs_type, np.sum(E_G_hs), np.sum(L_T_H_rad)))\n",
    "\n",
    "    return E_G_hs"
   ]
  },
  {
   "cell_type": "code",
   "execution_count": 12,
   "metadata": {},
   "outputs": [],
   "source": [
    "def get_E_M_hs_d_t(H_HS):\n",
    "    \"\"\" 温水暖房用熱源機のその他の燃料による一次エネルギー消費量\n",
    "\n",
    "    :param H_HS: 温水暖房機の仕様\n",
    "    :type H_HS: dict\n",
    "    :return: 温水暖房用熱源機のその他の燃料による一次エネルギー消費量\n",
    "    :rtype: ndarray\n",
    "    \"\"\"\n",
    "    hs_type = H_HS['type']\n",
    "\n",
    "    if hs_type in ['石油温水暖房機', '石油給湯温水暖房機', '石油従来型温水暖房機', '石油従来型給湯温水暖房機', '石油潜熱回収型温水暖房機', '石油潜熱回収型給湯温水暖房機']:\n",
    "        return hs_oil.get_E_M_hs()\n",
    "    elif hs_type in ['ガス温水暖房機', 'ガス給湯温水暖房機', 'ガス従来型温水暖房機', 'ガス従来型給湯温水暖房機', 'ガス潜熱回収型温水暖房機', 'ガス潜熱回収型給湯温水暖房機']:\n",
    "        return hs_gas.get_E_M_hs()\n",
    "    elif hs_type == '電気ヒーター温水暖房機' or hs_type == '電気ヒーター給湯温水暖房機':\n",
    "        return hs_eheater.get_E_M_hs()\n",
    "    elif hs_type == '電気ヒートポンプ温水暖房機':\n",
    "        return hs_ehpump.get_E_M_hs()\n",
    "    elif hs_type == '電気ヒートポンプ・ガス瞬間式併用型給湯温水暖房機(給湯熱源：ガス瞬間式、暖房熱源：電気ヒートポンプ・ガス瞬間式併用)':\n",
    "        return hs_gas_hybrid.get_E_M_hs()\n",
    "    elif hs_type == '電気ヒートポンプ・ガス瞬間式併用型給湯温水暖房機(給湯熱源：電気ヒートポンプ・ガス瞬間式併用、暖房熱源：ガス瞬間式)(仕様による)':\n",
    "        return hs_hybrid_gas.calc_E_M_hs()\n",
    "    elif hs_type == '電気ヒートポンプ・ガス瞬間式併用型給湯温水暖房機(給湯熱源：電気ヒートポンプ・ガス瞬間式併用、暖房熱源：電気ヒートポンプ・ガス瞬間式併用)':\n",
    "        return hs_whybrid.get_E_M_hs()\n",
    "    elif hs_type == 'コージェネレーションを使用する':\n",
    "        return np.zeros(24 * 365)\n",
    "    elif hs_type == '地中熱ヒートポンプ温水暖房機':\n",
    "        return hs_ghpump.get_E_M_hs_d_t()\n",
    "    else:\n",
    "        raise ValueError(hs_type)"
   ]
  },
  {
   "cell_type": "markdown",
   "metadata": {},
   "source": [
    "#### 7.2 暖房出力 / Heating output"
   ]
  },
  {
   "cell_type": "markdown",
   "metadata": {},
   "source": [
    "$$\n",
    "\\large\n",
    "Q_{out,H,hs,d,t} = min(Q_{dmd,H,hs,d,t}, Q_{max,H,hs,d,t})\n",
    "$$"
   ]
  },
  {
   "cell_type": "markdown",
   "metadata": {},
   "source": [
    "$Q_{out,H,hs,d,t}$：日付$d$の時刻$t$における1時間当たりの温水暖房用熱源機の暖房出力(MJ/h) / Heating output of the hot water heating heat source unit per hour at time $ t $ of date $ d $  \n",
    "$Q_{max,H,hs,d,t}$：日付$d$の時刻$t$における1時間当たりの温水暖房用熱源機の最大暖房出力(MJ/h) / Maximum heating output of the hot water heating heat source unit per hour at time $ t $ of date $ d $  \n",
    "$Q_{dmd,H,hs,d,t}$：日付$d$の時刻$t$における1時間当たりの温水暖房用熱源機の温水熱需要(MJ/h) / Hot water heat demand of the hot water heating heat source unit per hour at time $ t $ of date $ d $  "
   ]
  },
  {
   "cell_type": "markdown",
   "metadata": {},
   "source": [
    "$$\n",
    "\\large\n",
    "Q_{dmd,H,hs,d,t} = \\sum_{i} (Q_{dmd,H,ln,d,t,i})\n",
    "$$"
   ]
  },
  {
   "cell_type": "markdown",
   "metadata": {},
   "source": [
    "$Q_{dmd,H,ln,d,t,i}$：日付$d$の時刻$t$における1時間当たりの放熱系統$i$の温水熱需要(MJ/h) / Hot water heat demand of heat dissipation system $ i $ per hour at time $ t $ of date $ d $  "
   ]
  },
  {
   "cell_type": "code",
   "execution_count": 13,
   "metadata": {},
   "outputs": [],
   "source": [
    "def calc_Q_dmd_H_hs_d_t(rad_list, pipe_insulation, underfloor_pipe_insulation, Theta_SW_d_t, A_A, A_MR, A_OR, region,\n",
    "                        mode_MR, mode_OR,\n",
    "                        L_T_H_rad_d_t):\n",
    "    \"\"\" 温水暖房用熱源機の温水熱需要 (6)\n",
    "\n",
    "    :param rad_list: 放熱機器の暖房区画ごとの配列\n",
    "    :type rad_list: list\n",
    "    :param pipe_insulation: 配管断熱の有無\n",
    "    :type pipe_insulation: bool\n",
    "    :param underfloor_pipe_insulation: 床下配管断熱の有無\n",
    "    :type underfloor_pipe_insulation: bool\n",
    "    :param Theta_SW_d_t: 往き温水温度 (℃)\n",
    "    :type Theta_SW_d_t: ndarray\n",
    "    :param A_A: 床面積の合計 (m2)\n",
    "    :type A_A: float\n",
    "    :param A_MR: 主たる居室の床面積 (m2)\n",
    "    :type A_MR: float\n",
    "    :param A_OR: その他の居室の床面積 (m2)\n",
    "    :type A_OR: float\n",
    "    :param region: 省エネルギー地域区分\n",
    "    :type region: int\n",
    "    :param mode_MR: 主たる居室の運転モード 'い', 'ろ', 'は'\n",
    "    :type mode_MR: str\n",
    "    :param mode_OR: その他の居室の運転モード 'い', 'ろ', 'は'\n",
    "    :type mode_OR: str\n",
    "    :param L_T_H_rad: 放熱器の暖房負荷\n",
    "    :type L_T_H_rad: ndarray\n",
    "    :return: 温水暖房用熱源機の温水熱需要\n",
    "    :rtype: ndarray\n",
    "    \"\"\"\n",
    "    MR_rad_type, r_Af_1 = get_MR_rad_type_and_r_Af_1(rad_list)\n",
    "\n",
    "    outdoor = load_outdoor()\n",
    "    Theta_ex = get_Theta_ex(region, outdoor)\n",
    "\n",
    "    Q_dmd_H_hs_d_t = np.zeros_like(Theta_SW_d_t)\n",
    "\n",
    "    for i in [1, 3, 4, 5]:\n",
    "\n",
    "        if rad_list[i - 1] is None:\n",
    "            continue\n",
    "\n",
    "        # 1時間当たりの暖冷房区画iに設置された放熱器の最大暖房出力\n",
    "        A_HCZ = calc_A_HCZ_i(i, A_A, A_MR, A_OR)\n",
    "        R_type = '主たる居室' if i == 1 else 'その他の居室'\n",
    "        mode = mode_MR if i == 1 else mode_OR\n",
    "        Q_max_H_rad_d_t_i = calc_Q_max_H_rad_d_t_i(rad_list[i - 1], A_HCZ, Theta_SW_d_t, region, mode, R_type)\n",
    "\n",
    "        # 1時間当たりの暖冷房区画iに設置された放熱器の処理暖房負荷\n",
    "        Q_T_H_rad_d_t_i = calc_Q_T_H_rad_d_t_i(Q_max_H_rad_d_t_i, L_T_H_rad_d_t[i - 1])\n",
    "\n",
    "        # 1時間当たりの暖冷房区画iに設置された放熱器の温水供給運転率\n",
    "        r_WS_rad_d_t_i = calc_r_WS_rad_d_t_i(\n",
    "            A_HCZ=A_HCZ,\n",
    "            radiator=rad_list[i - 1],\n",
    "            Q_T_H_rad=Q_T_H_rad_d_t_i,\n",
    "            Theta_SW=Theta_SW_d_t,\n",
    "            region=region,\n",
    "            mode=mode,\n",
    "            R_type=R_type\n",
    "        )\n",
    "\n",
    "        Q_dmd_H_ln_d_t_i = calc_Q_dmd_H_ln_d_t_i(\n",
    "            i=i,\n",
    "            radiator=rad_list[i - 1],\n",
    "            Q_T_H_rad_d_t_i=Q_T_H_rad_d_t_i,\n",
    "            Q_max_H_rad_d_t_i=Q_max_H_rad_d_t_i,\n",
    "            L_T_H_rad_d_t_i=L_T_H_rad_d_t[i - 1],\n",
    "            Theta_SW_d_t=Theta_SW_d_t,\n",
    "            Theta_ex=Theta_ex,\n",
    "            r_WS_rad_d_t_i=r_WS_rad_d_t_i,\n",
    "            A_A=A_A,\n",
    "            pipe_insulation=pipe_insulation,\n",
    "            underfloor_pipe_insulation=underfloor_pipe_insulation,\n",
    "            MR_rad_type=MR_rad_type,\n",
    "            r_Af_1=r_Af_1\n",
    "        )\n",
    "\n",
    "        Q_dmd_H_hs_d_t = Q_dmd_H_hs_d_t + Q_dmd_H_ln_d_t_i\n",
    "\n",
    "    return Q_dmd_H_hs_d_t"
   ]
  },
  {
   "cell_type": "code",
   "execution_count": 14,
   "metadata": {},
   "outputs": [],
   "source": [
    "def get_MR_rad_type_and_r_Af_1(rad_list):\n",
    "    \"\"\"　主たる居室の放熱機器と当該住戸における温水床暖房の敷設率 (-)\n",
    "\n",
    "    :param rad_list: 放熱機器の暖房区画ごとの配列\n",
    "    :type rad_list: list\n",
    "    :return: 主たる居室の放熱機器と当該住戸における温水床暖房の敷設率 (-)\n",
    "    :rtype: tuple\n",
    "    \"\"\"\n",
    "    if rad_list[0] is not None:\n",
    "        MR_rad_type = rad_list[0]['type']\n",
    "        if 'r_Af' in rad_list[0]:\n",
    "            r_Af_1 = rad_list[0]['r_Af']\n",
    "        else:\n",
    "            r_Af_1 = None\n",
    "    else:\n",
    "        MR_rad_type = None\n",
    "        r_Af_1 = None\n",
    "    return MR_rad_type, r_Af_1"
   ]
  },
  {
   "cell_type": "markdown",
   "metadata": {},
   "source": [
    "#### 7.3 温水供給運転率 / Hot water supply operation rate"
   ]
  },
  {
   "cell_type": "markdown",
   "metadata": {},
   "source": [
    "$Q_{dmd,H,hs,d,t} > 0$ の場合"
   ]
  },
  {
   "cell_type": "markdown",
   "metadata": {},
   "source": [
    "If $ Q_{dmd, H, hs, d, t}> 0 $"
   ]
  },
  {
   "cell_type": "markdown",
   "metadata": {},
   "source": [
    "$$\\large\n",
    "r_{WS,hs,d,t} = \\left\\{ \\begin{array}{ll}\n",
    "    r_{WS,ln,d,t,i}&(放熱系統が1系統の場合)\\\\ \n",
    "    1&(放熱系統が2系統以上の場合)\\\\ \n",
    "    \\end{array}\n",
    "\\right.\n",
    "$$"
   ]
  },
  {
   "cell_type": "markdown",
   "metadata": {},
   "source": [
    "$Q_{dmd,H,hs,d,t} = 0$ の場合"
   ]
  },
  {
   "cell_type": "markdown",
   "metadata": {},
   "source": [
    "If $Q_{dmd,H,hs,d,t} = 0$"
   ]
  },
  {
   "cell_type": "markdown",
   "metadata": {},
   "source": [
    "$$\\large\n",
    "r_{WS,hs,d,t} = 0\n",
    "$$"
   ]
  },
  {
   "cell_type": "markdown",
   "metadata": {},
   "source": [
    "$r_{WS,hs,d,t}$：日付$d$の時刻$t$における温水暖房用熱源機の温水供給運転率 / Hot water supply operation rate of the heat source machine for hot water heating at time $ t $ of date $ d $  \n",
    "$r_{WS,ln,d,t,i}$：日付$d$の時刻$t$における放熱系統$i$の温水供給運転率（ただし、ここでは$i=1$である。） / Hot water supply operation rate of the heat dissipation system $ i $ at the time $ t $ of the date $ d $ (however, here, $ i = 1 $).   "
   ]
  },
  {
   "cell_type": "code",
   "execution_count": 15,
   "metadata": {},
   "outputs": [],
   "source": [
    "def calc_r_WS_hs_d_t(rad_list, Q_dmd_H_hs_d_t, Q_T_H_rad, Theta_SW, region, A_A, A_MR, A_OR, mode_MR):\n",
    "    \"\"\"　温水暖房用熱源機の温水供給運転率\n",
    "\n",
    "    :param rad_list: 放熱機器の暖房区画ごとの配列\n",
    "    :type rad_list: list\n",
    "    :param Q_dmd_H_hs_d_t:  1時間当たりの熱源機の熱需要 (MJ/h)\n",
    "    :type Q_dmd_H_hs_d_t: ndarray\n",
    "    :param Q_T_H_rad: 放熱器の処理暖房負荷\n",
    "    :type Q_T_H_rad: ndarray\n",
    "    :param Theta_SW: 往き温水温度 (℃)\n",
    "    :type Theta_SW: ndarray\n",
    "    :param region: 省エネルギー地域区分\n",
    "    :type region: int\n",
    "    :param A_A: 床面積の合計 (m2)\n",
    "    :type A_A: float\n",
    "    :param A_MR: 主たる居室の床面積 (m2)\n",
    "    :type A_MR: float\n",
    "    :param A_OR: その他の居室の床面積 (m2)\n",
    "    :type A_OR: float\n",
    "    :param mode_MR: 運転モード 'い', 'ろ', 'は'\n",
    "    :type mode_MR: str\n",
    "    :return:　温水暖房用熱源機の温水供給運転率\n",
    "    :rtype: ndarray\n",
    "    \"\"\"\n",
    "    # (7a)\n",
    "    n = sum([rad is not None for rad in rad_list])  # 放熱系統数\n",
    "    if n == 1:\n",
    "        A_HCZ = calc_A_HCZ_i(1, A_A, A_MR, A_OR)\n",
    "        radiator = rad_list[0]\n",
    "        R_type = '主たる居室'\n",
    "        tmp = calc_r_WS_ln_d_t_i(A_HCZ, radiator, Q_T_H_rad[0], Theta_SW, region, mode_MR, R_type)\n",
    "    elif n > 1:\n",
    "        tmp = np.ones(24 * 365)\n",
    "    else:\n",
    "        raise ValueError(n)\n",
    "\n",
    "    # (7b)\n",
    "    tmp[Q_dmd_H_hs_d_t == 0] = 0\n",
    "\n",
    "    return tmp\n"
   ]
  },
  {
   "cell_type": "markdown",
   "metadata": {},
   "source": [
    "#### 7.4 往き温水温度 / Hot water temperature going forward"
   ]
  },
  {
   "cell_type": "markdown",
   "metadata": {},
   "source": [
    "$\\theta_{SW,hs,op,1} > \\theta_{SW,hs,op,2} > \\theta_{SW,hs,op,3}$  "
   ]
  },
  {
   "cell_type": "markdown",
   "metadata": {},
   "source": [
    "$\\theta_{SW,hs,op,p}$：温水暖房用熱源機の往き温水温度の候補$p$(℃) / Hot water temperature candidate for hot water heating heat source machine $ p $  ."
   ]
  },
  {
   "cell_type": "markdown",
   "metadata": {},
   "source": [
    "<div style=\"text-align: center;font-weight: bold;\">表　温水暖房用熱源機における往き温水温度の区分及び候補(℃)<br>Table: Classification and candidates of forward hot water temperature in hot water heating heat source equipment</div>\n",
    "\n",
    "<table>\n",
    "<thead>\n",
    "<tr>\n",
    "<th colspan=\"2\" rowspan=\"2\">温水暖房用熱源機の種類<br>Kind of heat source machine for hot water heating</th>\n",
    "<th colspan=\"3\">往き温水温度の候補の区分 $p$<br>Classification $p$ of candidates for going hot water temperature</th>\n",
    "</tr>\n",
    "<tr>\n",
    "<th>1</th>\n",
    "<th>2</th>\n",
    "<th>3</th>\n",
    "</tr>\n",
    "</thead>\n",
    "\n",
    "<tbody>\n",
    "<tr>\n",
    "<th rowspan=\"2\">石油温水暖房機、石油給湯温水暖房機<br>Oil hot water heater, oil hot water heater hot water heater</th>\n",
    "<th>従来型<br>Conventional type</th>\n",
    "<td>60</td>\n",
    "<td>-</td>\n",
    "<td>-</td>\n",
    "</tr>\n",
    "<tr>\n",
    "<th>潜熱回収型<br>Latent heat recovery type</th>\n",
    "<td>60</td>\n",
    "<td>40</td>\n",
    "<td>-</td>\n",
    "</tr>\n",
    "\n",
    "<tr>\n",
    "<th rowspan=\"2\">ガス温水暖房機、ガス給湯温水暖房機<br>Gas hot water heater, gas hot water heater hot water heater</th>\n",
    "<th>従来型<br>Conventional type</th>\n",
    "<td>60</td>\n",
    "<td>-</td>\n",
    "<td>-</td>\n",
    "</tr>\n",
    "<tr>\n",
    "<th>潜熱回収型<br>Latent heat recovery type</th>\n",
    "<td>60</td>\n",
    "<td>40</td>\n",
    "<td>-</td>\n",
    "</tr>\n",
    "\n",
    "<tr>\n",
    "<th colspan=\"2\">電気ヒーター温水暖房機、電気ヒーター給湯温水暖房機<br>Electric heater hot water heater, electric heater hot water hot water heater</th>\n",
    "<td>60</td>\n",
    "<td>-</td>\n",
    "<td>-</td>\n",
    "</tr>\n",
    "\n",
    "<tr>\n",
    "<th colspan=\"2\">電気ヒートポンプ温水暖房機<br>Electric heat pump water heater</th>\n",
    "<td>55</td>\n",
    "<td>45</td>\n",
    "<td>35</td>\n",
    "</tr>\n",
    "\n",
    "<tr>\n",
    "<th colspan=\"2\">電気ヒートポンプ・ガス瞬間式併用型湯温水暖房機<br>\n",
    "（給湯熱源：ガス瞬間式、暖房熱源：電気ヒートポンプ・ガス瞬間式併用） <br>\n",
    "Electric heat pump gas instantaneous type combined hot water water heater<br>(Hot-water supply heat source: gas moment type, heating heat source: electric heat pump, gas moment type combined use)</th>\n",
    "<td>60</td>\n",
    "<td>40</td>\n",
    "<td>-</td>\n",
    "</tr>\n",
    "\n",
    "<tr>\n",
    "<th colspan=\"2\">電気ヒートポンプ・ガス瞬間式併用型給湯温水暖房機<br>\n",
    "（給湯熱源：電気ヒートポンプ・ガス瞬間式併用、暖房熱源：ガス瞬間式）<br>\n",
    "Electric heat pump, gas instantaneous type combined hot water supply hot water heater<br>(Hot-water supply heat source: electric heat pump and gas moment type combined use, heating heat source: gas moment type)\n",
    "</th>\n",
    "<td>60</td>\n",
    "<td>40</td>\n",
    "<td>-</td>\n",
    "</tr>\n",
    "\n",
    "<tr>\n",
    "<th colspan=\"2\">電気ヒートポンプ・ガス瞬間式併用型給湯温水暖房機<br>\n",
    "（給湯熱源：電気ヒートポンプ・ガス瞬間式併用、<br>\n",
    "暖房熱源：電気ヒートポンプ・ガス瞬間式併用）<br>\n",
    "Electric heat pump, gas instantaneous type combined hot water supply hot water heater<br>(Hot-water supply heat source: electric heat pump and gas moment type combined use, <br>heating heat source: electric heat pump and gas moment type combined use)</th>\n",
    "<td>60</td>\n",
    "<td>40</td>\n",
    "<td>-</td>\n",
    "</tr>\n",
    "\n",
    "<tr>\n",
    "<th colspan=\"2\">コージェネレーション設備<br>Cogeneration equipment</th>\n",
    "<td colspan=\"3\">コージェネレーション設備の種類に依る<br>Depending on the type of cogeneration equipment</td>\n",
    "</tr>\n",
    "\n",
    "</tbody>\n",
    "</table>\n"
   ]
  },
  {
   "cell_type": "code",
   "execution_count": 16,
   "metadata": {},
   "outputs": [],
   "source": [
    "def get_Theta_SW_hs_op(hs_type, CG=None):\n",
    "    \"\"\" 温水暖房用熱源機の往き温水温度の候補\n",
    "\n",
    "    :param hs_type: 温水暖房用熱源機の種類\n",
    "    :type hs_type: str\n",
    "    :param CG: コージェネレーションの機器\n",
    "    :type CG: dict\n",
    "    :return: 温水暖房用熱源機の往き温水温度の候補\n",
    "    :rtype: tuple\n",
    "    \"\"\"\n",
    "    if hs_type == '石油従来型温水暖房機' or hs_type == '石油従来型給湯温水暖房機':\n",
    "        return get_table_4()[0]\n",
    "    elif hs_type == '石油潜熱回収型温水暖房機' or hs_type == '石油潜熱回収型給湯温水暖房機':\n",
    "        ## TODO: 仕様書上は40,60℃\n",
    "        return (60,)\n",
    "        return get_table_4()[1]\n",
    "    elif hs_type == 'ガス従来型温水暖房機' or hs_type == 'ガス従来型給湯温水暖房機' or hs_type == 'ガス従来型' or hs_type == 'G_NEJ':\n",
    "        return get_table_4()[2]\n",
    "    elif hs_type == 'ガス潜熱回収型温水暖房機' or hs_type == 'ガス潜熱回収型給湯温水暖房機' or hs_type == 'ガス潜熱回収型' or hs_type == 'G_EJ':\n",
    "        return get_table_4()[3]\n",
    "    elif hs_type == '電気ヒーター温水暖房機' or hs_type == '電気ヒーター給湯温水暖房機':\n",
    "        return get_table_4()[4]\n",
    "    elif hs_type == '電気ヒートポンプ温水暖房機':\n",
    "        return get_table_4()[5]\n",
    "    elif hs_type == '地中熱ヒートポンプ温水暖房機':\n",
    "        return get_table_4()[6]\n",
    "    elif hs_type == '電気ヒートポンプ・ガス瞬間式併用型給湯温水暖房機(給湯熱源：ガス瞬間式、暖房熱源：電気ヒートポンプ・ガス瞬間式併用)':\n",
    "        return get_table_4()[7]\n",
    "    elif hs_type == '電気ヒートポンプ・ガス瞬間式併用型給湯温水暖房機(給湯熱源：電気ヒートポンプ・ガス瞬間式併用、暖房熱源：ガス瞬間式)(仕様による)':\n",
    "        return get_table_4()[8]\n",
    "    elif hs_type == '電気ヒートポンプ・ガス瞬間式併用型給湯温水暖房機(給湯熱源：電気ヒートポンプ・ガス瞬間式併用、暖房熱源：電気ヒートポンプ・ガス瞬間式併用)':\n",
    "        return get_table_4()[9]\n",
    "    elif hs_type == 'コージェネレーションを使用する':\n",
    "        from s08_a_cgs_specification import get_type_BB_HWH\n",
    "        if 'CG_category' in CG:\n",
    "            type_BB_HWH = get_type_BB_HWH(CG['CG_category'])\n",
    "        else:\n",
    "            type_BB_HWH = CG['type_BB_HWH']\n",
    "        return get_Theta_SW_hs_op(type_BB_HWH)\n",
    "    elif hs_type == '給湯・温水暖房一体型を使用する':\n",
    "        raise NotImplementedError()\n",
    "    else:\n",
    "        raise ValueError(hs_type)\n"
   ]
  },
  {
   "cell_type": "markdown",
   "metadata": {},
   "source": [
    "$$\n",
    "\\large\n",
    "p_{hs,d,t} = min(p_{ln,d,t,1}, p_{ln,d,t,2}, … p_{ln,d,t,m})\n",
    "$$"
   ]
  },
  {
   "cell_type": "markdown",
   "metadata": {},
   "source": [
    "$p_{hs,d,t}$：日付$d$の時刻$t$における温水暖房用熱源機の往き温水温度の区分(℃) / Division of the forward hot water temperature of the heat source machine for hot water heating at the time $ t $ on the date $ d $  \n",
    "$p_{ln,d,t,i}$：日付$d$の時刻$t$における放熱系統$i$の要求往き温水温度の区分(℃) / Division of heat dissipation system $ i $ at the time $ t $ of date $ d $  "
   ]
  },
  {
   "cell_type": "code",
   "execution_count": 17,
   "metadata": {},
   "outputs": [],
   "source": [
    "def calc_p_hs_d_t(Theta_SW_hs_op, rad_list, L_T_H_rad, A_A, A_MR, A_OR, region, mode_MR, mode_OR):\n",
    "    \"\"\" 温水暖房用熱源機の往き温水温度の区分 (8)\n",
    "\n",
    "    :param Theta_SW_hs_op: 温水暖房用熱源機の往き温水温度の候補\n",
    "    :type Theta_SW_hs_op: tuple\n",
    "    :param rad_list: 放熱機器の暖房区画ごとの配列\n",
    "    :type rad_list: list\n",
    "    :param L_T_H_rad: 放熱器の暖房負荷\n",
    "    :type L_T_H_rad: ndarray\n",
    "    :param A_A: 床面積の合計 (m2)\n",
    "    :type A_A: float\n",
    "    :param A_MR: 主たる居室の床面積 (m2)\n",
    "    :type A_MR: float\n",
    "    :param A_OR: その他の居室の床面積 (m2)\n",
    "    :type A_OR: float\n",
    "    :param region: 省エネルギー地域区分\n",
    "    :type region: int\n",
    "    :param mode_MR: 主たる居室の運転モード 'い', 'ろ', 'は'\n",
    "    :type mode_MR: str\n",
    "    :param mode_OR: その他の居室の運転モード 'い', 'ろ', 'は'\n",
    "    :type mode_OR: str\n",
    "    :return: 温水暖房用熱源機の往き温水温度の区分 (8)\n",
    "    :rtype: ndarray\n",
    "    \"\"\"\n",
    "    p_ln = np.zeros((5, 24 * 365), dtype=np.int32)\n",
    "\n",
    "    # 初期値として、最低温度を指定\n",
    "    p_ln[:] = len(Theta_SW_hs_op)\n",
    "\n",
    "    for i in [1, 3, 4, 5]:\n",
    "        if rad_list[i - 1] is not None:\n",
    "            A_HCZ_i = calc_A_HCZ_i(i, A_A, A_MR, A_OR)\n",
    "            mode = mode_MR if i == 1 else mode_OR\n",
    "            R_type = '主たる居室' if i == 1 else 'その他の居室'\n",
    "            p_ln_i = calc_p_ln_d_t_i(rad_list[i - 1], L_T_H_rad[i - 1], Theta_SW_hs_op, A_HCZ_i, region, mode, R_type)\n",
    "            p_ln[i - 1, :] = p_ln_i\n",
    "\n",
    "    return np.min(p_ln, axis=0)\n",
    "\n",
    "\n",
    "def get_Theta_SW_d_t(Theta_SW_hs_op, p_hs_d_t):\n",
    "    \"\"\" 要求往き温水温度\n",
    "\n",
    "    :param Theta_SW_hs_op: 温水暖房用熱源機の往き温水温度の候補\n",
    "    :type Theta_SW_hs_op: tuple\n",
    "    :param p_hs_d_t: 温水暖房用熱源機の往き温水温度\n",
    "    :type p_hs_d_t: ndarray\n",
    "    :return: 要求往き温水温度\n",
    "    :rtype: ndarray\n",
    "    \"\"\"\n",
    "    # 一括変換用のndarrayを作成\n",
    "    n = len(Theta_SW_hs_op)\n",
    "    array_Theta_SW_hs_op = np.array(Theta_SW_hs_op).reshape((n, 1))\n",
    "\n",
    "    # p_d_tに基づいて1時間当たりの往き温水温度を取得\n",
    "    Theta_SW_d_t = array_Theta_SW_hs_op[p_hs_d_t - 1]\n",
    "\n",
    "    return Theta_SW_d_t.reshape(p_hs_d_t.shape)\n",
    "\n",
    "def get_table_4():\n",
    "    \"\"\" 表4 温水暖房用熱源機における往き温水温度の区分及び候補\n",
    "\n",
    "    :return: 表4 温水暖房用熱源機における往き温水温度の区分及び候補\n",
    "    :rtype: list\n",
    "    \"\"\"\n",
    "    table_4 = [\n",
    "        (60,),\n",
    "        (60, 40),\n",
    "        (60,),\n",
    "        (60, 40),\n",
    "        (60,),\n",
    "        (55, 45, 35),\n",
    "        (55, 45, 35),\n",
    "        (60, 40),\n",
    "        (60, 40),\n",
    "        (60, 40),\n",
    "    ]\n",
    "\n",
    "    return table_4"
   ]
  },
  {
   "cell_type": "markdown",
   "metadata": {},
   "source": [
    "#### 7.5 戻り温水温度 / Return hot water temperature"
   ]
  },
  {
   "cell_type": "markdown",
   "metadata": {},
   "source": [
    "$$\\large\n",
    "\\theta_{RW,hs,d,t} = \\left\\{ \\begin{array}{ll}\n",
    "    0.0301 \\times (T_{dif})^2 - 0.1864 \\times T_{dif} + 20&(熱源機の往き温水温度\\theta_{SW,hs} = 60)\\\\ \n",
    "    0.0604 \\times (T_{dif})^2 - 0.1881 \\times T_{dif} + 20&(熱源機の往き温水温度\\theta_{SW,hs} = 40)\\\\ \n",
    "    \\end{array}\n",
    "\\right.\n",
    "$$"
   ]
  },
  {
   "cell_type": "markdown",
   "metadata": {},
   "source": [
    "$$\\large\n",
    "T_{dif,d,t} = \\frac{\\sum_{i}Q_{dmd,H,ln,d,t,i}}{\\sum_{i}Q'_{max,rad,d,t,i} \\times  0.027583}\n",
    "$$"
   ]
  },
  {
   "cell_type": "markdown",
   "metadata": {},
   "source": [
    "$$\\large\n",
    "Q'_{max,H,rad,d,t,i} = \\left\\{ \\begin{array}{ll}\n",
    "    Q_{max,H,rad,d,t,i}&(Q_{ln,dmd,d,t,i} > 0)\\\\ \n",
    "    0&(Q_{ln,dmd,d,t,i} = 0)\\\\ \n",
    "    \\end{array}\n",
    "\\right.\n",
    "$$"
   ]
  },
  {
   "cell_type": "markdown",
   "metadata": {},
   "source": [
    "$T_{dif,d,t}$：日付$d$の時刻$t$における対数平均温度差(℃) / Log average temperature difference at time $ t $ of date $ d $  \n",
    "$Q_{dmd,H,ln,d,t,i}$：日付$d$の時刻$t$における1時間当たりの放熱系統$i$の温水熱需要(MJ/h) / Hot water heat demand of heat dissipation system $ i $ per hour at time $ t $ of date $ d $  \n",
    "$Q'_{max,H,rad,d,t,i}$：日付$d$の時刻$t$における1時間当たりの温水熱需要が発生する場合の暖冷房区画$i$に設置された放熱器の最大暖房出力(MJ/h) / Maximum heating power of radiator installed in heating / cooling section $ i $ when hot water heat demand occurs per hour at time $ t $ of date $ d $  \n",
    "$Q_{max,H,rad,d,t,i}$：日付$d$の時刻$t$における1時間当たりの暖冷房区画$i$に設置された放熱器の最大暖房出力(MJ/h) / Maximum heating power of radiator installed in heating / cooling section $ i $ per hour at time $ t $ of date $ d $  "
   ]
  },
  {
   "cell_type": "code",
   "execution_count": 18,
   "metadata": {},
   "outputs": [],
   "source": [
    "def calc_Theta_RW_hs_d_t(Theta_SW_hs_d_t, rad_list, pipe_insulation, underfloor_pipe_insulation, A_A, A_MR, A_OR, region,\n",
    "                         mode_MR, mode_OR,\n",
    "                         L_T_H_rad):\n",
    "    \"\"\" 戻り温水温度 (9)\n",
    "\n",
    "    :param Theta_SW_hs_d_t: 温水暖房用熱源機の往き温水温度\n",
    "    :type Theta_SW_hs_d_t: ndarray\n",
    "    :param rad_list: 放熱機器の暖房区画ごとの配列\n",
    "    :type rad_list: list\n",
    "    :param pipe_insulation: 配管断熱の有無\n",
    "    :type pipe_insulation: bool\n",
    "    :param underfloor_pipe_insulation: 床下配管断熱の有無\n",
    "    :type underfloor_pipe_insulation: bool\n",
    "    :param A_A: 床面積の合計 (m2)\n",
    "    :type A_A: float\n",
    "    :param A_MR: 主たる居室の床面積 (m2)\n",
    "    :type A_MR: float\n",
    "    :param A_OR: その他の居室の床面積 (m2)\n",
    "    :type A_OR: float\n",
    "    :param region: 省エネルギー地域区分\n",
    "    :type region: int\n",
    "    :param mode_MR: 主たる居室の運転モード 'い', 'ろ', 'は'\n",
    "    :type mode_MR: str\n",
    "    :param mode_OR: その他の居室の運転モード 'い', 'ろ', 'は'\n",
    "    :type mode_OR: str\n",
    "    :param L_T_H_rad: 放熱器の暖房負荷\n",
    "    :type L_T_H_rad: ndarray\n",
    "    :return: 戻り温水温度 (9)\n",
    "    :rtype: ndarray\n",
    "    \"\"\"\n",
    "    MR_rad_type, r_Af_1 = get_MR_rad_type_and_r_Af_1(rad_list)\n",
    "\n",
    "    outdoor = load_outdoor()\n",
    "    Theta_ex = get_Theta_ex(region, outdoor)\n",
    "\n",
    "    Q_dmd_H_ln_d_t = np.zeros((5, 24 * 365))\n",
    "    Q_dash_max_H_rad_d_t = np.zeros((5, 24 * 365))\n",
    "\n",
    "    for i in [1, 3, 4, 5]:\n",
    "        if rad_list[i - 1] is None:\n",
    "            continue\n",
    "        else:\n",
    "            if rad_list[i - 1] is None:\n",
    "                continue\n",
    "\n",
    "            # 1時間当たりの暖冷房区画iに設置された放熱器の最大暖房出力\n",
    "            A_HCZ = calc_A_HCZ_i(i, A_A, A_MR, A_OR)\n",
    "            R_type = '主たる居室' if i == 1 else 'その他の居室'\n",
    "            mode = mode_MR if i == 1 else mode_OR\n",
    "            Q_max_H_rad_d_t_i = calc_Q_max_H_rad_d_t_i(rad_list[i - 1], A_HCZ, Theta_SW_hs_d_t, region, mode, R_type)\n",
    "\n",
    "            # 1時間当たりの暖冷房区画iに設置された放熱器の処理暖房負荷\n",
    "            Q_T_H_rad_d_t_i = calc_Q_T_H_rad_d_t_i(Q_max_H_rad_d_t_i, L_T_H_rad[i - 1])\n",
    "\n",
    "            # 1時間当たりの暖冷房区画iに設置された放熱器の温水供給運転率\n",
    "            r_WS_rad_d_t_i = calc_r_WS_rad_d_t_i(\n",
    "                A_HCZ=A_HCZ,\n",
    "                radiator=rad_list[i - 1],\n",
    "                Q_T_H_rad=Q_T_H_rad_d_t_i,\n",
    "                Theta_SW=Theta_SW_hs_d_t,\n",
    "                region=region,\n",
    "                mode=mode,\n",
    "                R_type=R_type\n",
    "            )\n",
    "\n",
    "            Q_dmd_H_ln_d_t[i - 1] = calc_Q_dmd_H_ln_d_t_i(\n",
    "                i=i,\n",
    "                radiator=rad_list[i - 1],\n",
    "                Q_T_H_rad_d_t_i=Q_T_H_rad_d_t_i,\n",
    "                Q_max_H_rad_d_t_i=Q_max_H_rad_d_t_i,\n",
    "                L_T_H_rad_d_t_i=L_T_H_rad[i - 1],\n",
    "                Theta_SW_d_t=Theta_SW_hs_d_t,\n",
    "                Theta_ex=Theta_ex,\n",
    "                r_WS_rad_d_t_i=r_WS_rad_d_t_i,\n",
    "                A_A=A_A,\n",
    "                pipe_insulation=pipe_insulation,\n",
    "                underfloor_pipe_insulation=underfloor_pipe_insulation,\n",
    "                MR_rad_type=MR_rad_type,\n",
    "                r_Af_1=r_Af_1\n",
    "            )\n",
    "\n",
    "            Q_dash_max_H_rad_d_t_i = get_Q_dash_max_H_rad_d_t_i(Q_max_H_rad_d_t_i, Q_dmd_H_ln_d_t[i - 1])\n",
    "            Q_dash_max_H_rad_d_t[i - 1, :] = Q_dash_max_H_rad_d_t_i\n",
    "\n",
    "    # 1時間ごとの対数平均温度差 (9b)\n",
    "    T_dif = get_T_dif_d_t(Q_dmd_H_ln_d_t, Q_dash_max_H_rad_d_t)\n",
    "\n",
    "    # 温水暖房用熱源機の戻り温水温度 (9a)\n",
    "    Theta_RW_hs_d_t = np.zeros(24 * 365)\n",
    "\n",
    "    # - 条件1 (熱源機の往き温水温度60度)\n",
    "    f1 = (Theta_SW_hs_d_t == 60)\n",
    "    Theta_RW_hs_d_t[f1] = 0.0301 * T_dif[f1] ** 2 - 0.1864 * T_dif[f1] + 20\n",
    "\n",
    "    # - 条件2 (熱源機の往き温水温度40度)\n",
    "    f2 = (Theta_SW_hs_d_t == 40)\n",
    "    Theta_RW_hs_d_t[f2] = 0.0604 * T_dif[f2] ** 2 - 0.1881 * T_dif[f2] + 20\n",
    "\n",
    "    # 温水暖房用戻り温度は往き温度を超えない\n",
    "    fover = (Theta_RW_hs_d_t > Theta_SW_hs_d_t)  # 温水暖房用戻り温度は往き温度を超えた日時インデックス\n",
    "    Theta_RW_hs_d_t[fover] = Theta_SW_hs_d_t[fover]  # 逆転日時の限り、戻り温度=往き温度とする\n",
    "\n",
    "    return Theta_RW_hs_d_t"
   ]
  },
  {
   "cell_type": "code",
   "execution_count": 19,
   "metadata": {},
   "outputs": [],
   "source": [
    "def get_Q_dash_max_H_rad_d_t_i(Q_max_H_rad_d_t_i, Q_dmd_H_ln_d_t_i):\n",
    "    \"\"\" 1時間当たりの温水熱需要が発生する場合の暖冷房区画iに設置された放熱器の最大暖房出力 (9c)\n",
    "\n",
    "    :param Q_max_H_rad_d_t_i: 1時間当たりの暖冷房区画iに設置された放熱器の最大暖房出力\n",
    "    :type Q_max_H_rad_d_t_i: ndarray\n",
    "    :param Q_dmd_H_ln_d_t_i: 1時間当たりの暖冷房区画iに設置された放熱器の放熱系統の温水熱需要\n",
    "    :type Q_dmd_H_ln_d_t_i: ndarray\n",
    "    :return: 1時間当たりの温水熱需要が発生する場合の暖冷房区画iに設置された放熱器の最大暖房出力 (9c)\n",
    "    :rtype: ndarray\n",
    "    \"\"\"\n",
    "    Q_dash_max_H_rad_d_t_i = np.copy(Q_max_H_rad_d_t_i)\n",
    "    Q_dash_max_H_rad_d_t_i[Q_dmd_H_ln_d_t_i == 0] = 0\n",
    "    return Q_dash_max_H_rad_d_t_i"
   ]
  },
  {
   "cell_type": "code",
   "execution_count": 20,
   "metadata": {},
   "outputs": [],
   "source": [
    "def get_T_dif_d_t(Q_dmd_H_ln_d_t, Q_dash_max_H_rad_d_t):\n",
    "    \"\"\" 1時間ごとの対数平均温度差 (9b)\n",
    "\n",
    "    :param Q_dmd_H_ln_d_t: 1時間当たりの放熱系統の温水熱需要\n",
    "    :type Q_dmd_H_ln_d_t: ndarray\n",
    "    :param Q_dash_max_H_rad_d_t: 1時間当たりの放熱器の最大暖房出力\n",
    "    :type Q_dash_max_H_rad_d_t: ndarray\n",
    "    :return: 1時間ごとの対数平均温度差 (9b)\n",
    "    :rtype: ndarray\n",
    "    \"\"\"\n",
    "    Q_dmd = np.sum(Q_dmd_H_ln_d_t, axis=0)\n",
    "    Q_dash_max = np.sum(Q_dash_max_H_rad_d_t, axis=0)\n",
    "\n",
    "    T_dif_d_t = np.zeros(24 * 365)\n",
    "    f = (Q_dmd > 0)\n",
    "    T_dif_d_t[f] = Q_dmd[f] / (Q_dash_max[f] * 0.027583)\n",
    "\n",
    "    return T_dif_d_t"
   ]
  },
  {
   "cell_type": "markdown",
   "metadata": {},
   "source": [
    "### 8. 放熱系統 / Heat dissipation system"
   ]
  },
  {
   "cell_type": "markdown",
   "metadata": {},
   "source": [
    "#### 8.1 温水熱需要 / Hot water heat demand"
   ]
  },
  {
   "cell_type": "markdown",
   "metadata": {},
   "source": [
    "$$\n",
    "\\large\n",
    "Q_{dmd,H,ln,d,t,i} = Q_{dmd,H,rad,d,t,i} + Q_{loss,pp,d,t,i}\n",
    "$$"
   ]
  },
  {
   "cell_type": "markdown",
   "metadata": {},
   "source": [
    "$Q_{dmd,H,rad,d,t,i}$：日付$d$の時刻$t$における1時間当たりの暖冷房区画$i$に設置された放熱器の温水熱需要(MJ/h) / Hot water heat demand of radiator installed in heating and cooling section $ i $ per hour at time $ t $ of date $ d $  \n",
    "$Q_{loss,pp,d,t,i}$：日付$d$の時刻$t$における1時間当たりの配管$i$の熱損失(MJ/h) / Heat loss of piping $ i $ per hour at time $ t $ of date $ d $  "
   ]
  },
  {
   "cell_type": "code",
   "execution_count": 21,
   "metadata": {},
   "outputs": [],
   "source": [
    "def calc_Q_dmd_H_ln_d_t_i(i, radiator, Q_T_H_rad_d_t_i, Q_max_H_rad_d_t_i, L_T_H_rad_d_t_i, Theta_SW_d_t, Theta_ex,\n",
    "                          r_WS_rad_d_t_i, A_A, pipe_insulation, underfloor_pipe_insulation,\n",
    "                          MR_rad_type, r_Af_1):\n",
    "    \"\"\" 1時間当たりの放熱系統iの温水熱需要 (10)\n",
    "\n",
    "    :param i: 暖冷房区画i\n",
    "    :type i: int\n",
    "    :param radiator: 放熱器仕様\n",
    "    :type radiator: dict\n",
    "    :param Q_T_H_rad_d_t_i: 1時間当たりの暖冷房区画iに設置された放熱器の処理暖房負荷\n",
    "    :type Q_T_H_rad_d_t_i: ndarray\n",
    "    :param Q_max_H_rad_d_t_i: 1時間当たりの暖冷房区画iに設置された放熱器の最大暖房出力\n",
    "    :type Q_max_H_rad_d_t_i: ndarray\n",
    "    :param L_T_H_rad_d_t_i: 1時間当たりの暖冷房区画iに設置された放熱器の暖房負荷\n",
    "    :type L_T_H_rad_d_t_i: ndarray\n",
    "    :param Theta_SW_d_t: 往き温水温度 (℃)\n",
    "    :type Theta_SW_d_t: ndarray\n",
    "    :param Theta_ex: 外気絶対温度[K]\n",
    "    :type Theta_ex: ndarray\n",
    "    :param r_WS_rad_d_t_i: 1時間当たりの暖冷房区画iに設置された温水床暖房の温水供給運転率\n",
    "    :type r_WS_rad_d_t_i: ndarray\n",
    "    :param A_A: 床面積の合計 (m2)\n",
    "    :type A_A: float\n",
    "    :param pipe_insulation: 配管断熱の有無\n",
    "    :type pipe_insulation: bool\n",
    "    :param underfloor_pipe_insulation: 床下配管断熱の有無\n",
    "    :type underfloor_pipe_insulation: bool\n",
    "    :param MR_rad_type: 主たる居室の放熱器の種類\n",
    "    :type MR_rad_type: str\n",
    "    :param r_Af_1: 当該住戸における温水床暖房の敷設率 (-)\n",
    "    :type r_Af_1: float\n",
    "    :return: 1時間当たりの放熱系統iの温水熱需要 (10)\n",
    "    :rtype: ndarray\n",
    "    \"\"\"\n",
    "    # 1時間当たりの暖冷房区画iに設置された放熱器の温水熱需要\n",
    "    Q_dmd_H_rad_d_t_i = calc_Q_dmd_H_rad_d_t_i(radiator, Q_max_H_rad_d_t_i, L_T_H_rad_d_t_i)\n",
    "\n",
    "    # 1時間当たりの配管iの熱損失\n",
    "    Q_loss_pp_d_t_i = calc_Q_loss_pp_d_t_i(\n",
    "        i=i,\n",
    "        Theta_SW_d_t=Theta_SW_d_t,\n",
    "        Theta_ex_d_t=Theta_ex,\n",
    "        r_WS_rad_d_t_i=r_WS_rad_d_t_i,\n",
    "        A_A=A_A,\n",
    "        pipe_insulation=pipe_insulation,\n",
    "        underfloor_pipe_insulation=underfloor_pipe_insulation,\n",
    "        MR_rad_type=MR_rad_type,\n",
    "        r_Af_1=r_Af_1\n",
    "    )\n",
    "\n",
    "    return Q_dmd_H_rad_d_t_i + Q_loss_pp_d_t_i"
   ]
  },
  {
   "cell_type": "markdown",
   "metadata": {},
   "source": [
    "#### 8.2 温水供給運転率 / Hot water supply operation rate"
   ]
  },
  {
   "cell_type": "markdown",
   "metadata": {},
   "source": [
    "$$\n",
    "\\large\n",
    "r_{WS,ln,d,t,i} = r_{WS,rad,d,t,i}\n",
    "$$"
   ]
  },
  {
   "cell_type": "markdown",
   "metadata": {},
   "source": [
    "$r_{WS,rad,d,t,i}$：日付$d$の時刻$t$における暖冷房区画$i$に設置された放熱器の温水供給運転率 / Hot water supply operation rate of radiator installed in heating / cooling section $ i $ at time $ t $ of date $ d $  "
   ]
  },
  {
   "cell_type": "code",
   "execution_count": 22,
   "metadata": {},
   "outputs": [],
   "source": [
    "def calc_r_WS_ln_d_t_i(A_HCZ, radiator, Q_T_H_rad, Theta_SW, region, mode, R_type):\n",
    "    \"\"\" 放熱系統iの温水供給運転率 (11)\n",
    "\n",
    "    :param A_HCZ: 暖冷房区画の床面積\n",
    "    :type A_HCZ: float\n",
    "    :param radiator: 放熱器仕様\n",
    "    :type radiator: dict\n",
    "    :param Q_T_H_rad: 放熱器の処理暖房負荷\n",
    "    :type Q_T_H_rad: ndarray\n",
    "    :param Theta_SW: 往き温水温度 (℃)\n",
    "    :type Theta_SW: ndarray\n",
    "    :param region: 省エネルギー地域区分\n",
    "    :type region: int\n",
    "    :param mode: 運転モード 'い', 'ろ', 'は'\n",
    "    :type mode: str\n",
    "    :param R_type: 居室の形式\n",
    "    :type R_type: string\n",
    "    :return: 放熱系統iの温水供給運転率 (11)\n",
    "    :rtype: tuple\n",
    "    \"\"\"\n",
    "    return calc_r_WS_rad_d_t_i(A_HCZ, radiator, Q_T_H_rad, Theta_SW, region, mode, R_type)"
   ]
  },
  {
   "cell_type": "markdown",
   "metadata": {},
   "source": [
    "#### 8.3 要求往き温水温度の区分 / Classification of demand and warm water temperature"
   ]
  },
  {
   "cell_type": "markdown",
   "metadata": {},
   "source": [
    "省略"
   ]
  },
  {
   "cell_type": "markdown",
   "metadata": {},
   "source": [
    "ommision"
   ]
  },
  {
   "cell_type": "code",
   "execution_count": 23,
   "metadata": {},
   "outputs": [],
   "source": [
    "def calc_p_ln_d_t_i(radiator, L_T_H_rad_d_t_i, Theta_SW_hs_op, A_HCZ, region, mode, R_type):\n",
    "    \"\"\" 放熱系統の要求往き温水温度の区分\n",
    "\n",
    "    :param radiator: 放熱器仕様\n",
    "    :type radiator: dict\n",
    "    :param L_T_H_rad_d_t_i: 1時間当たりの暖冷房区画iに設置された放熱器の暖房負荷\n",
    "    :type L_T_H_rad_d_t_i: ndarray\n",
    "    :param Theta_SW_hs_op: 温水暖房用熱源機の往き温水温度の候補\n",
    "    :type Theta_SW_hs_op: tuple\n",
    "    :param A_HCZ: 暖冷房区画の床面積\n",
    "    :type A_HCZ: float\n",
    "    :param region: 省エネルギー地域区分\n",
    "    :type region: int\n",
    "    :param mode: 運転モード 'い', 'ろ', 'は'\n",
    "    :type mode: str\n",
    "    :param R_type: 居室の形式\n",
    "    :type R_type: string\n",
    "    :return: 放熱系統の要求往き温水温度の区分\n",
    "    :rtype: float\n",
    "    \"\"\"\n",
    "    n = len(Theta_SW_hs_op)\n",
    "    if n == 1:\n",
    "        # 候補が1つの場合は決定\n",
    "        return np.ones(24 * 365)\n",
    "    else:\n",
    "        # 候補が2つ以上の場合は未処理負荷の発生状況を確認\n",
    "\n",
    "        # 放熱器がない暖房区画が指定されて場合は便宜上、最低の温水温度の区分を返す\n",
    "        if radiator is None:\n",
    "            return n * np.ones(24 * 365)\n",
    "\n",
    "        # 往き温水温度の候補ごとに未処理負荷の発生状況を確認する\n",
    "        # このとき、最大の往き温水温度の候補(p=1)は確認をしない\n",
    "        flag_UT_d_t_p = np.ones((n - 1, 24 * 365))  # 基本はp=1\n",
    "        for p in range(2, n + 1):\n",
    "            # 往き温水温度の候補p\n",
    "            Theta_SW = Theta_SW_hs_op[p - 1]\n",
    "\n",
    "            # 往き温水温度の候補pにおける放熱器の最大出力\n",
    "            Q_max_H_rad_d_t_i_p = calc_Q_max_H_rad_d_t_i(radiator, A_HCZ, Theta_SW, region, mode, R_type)\n",
    "\n",
    "            # 往き温水温度の候補pにおける1時間当たりの暖冷房区画iに設置された放熱器の処理暖房負荷\n",
    "            Q_T_H_rad_d_t_i_p = calc_Q_T_H_rad_d_t_i(Q_max_H_rad_d_t_i_p, L_T_H_rad_d_t_i)\n",
    "\n",
    "            # 往き温水温度の候補pにおける1時間当たりの暖冷房区画iに設置された放熱器の未処理暖房負荷\n",
    "            Q_UT_H_rad_d_t_i_p = L_T_H_rad_d_t_i - Q_T_H_rad_d_t_i_p\n",
    "\n",
    "            # 未処理負荷が発生しなかった時刻にはpを保存\n",
    "            flag_UT_d_t_i_p = Q_UT_H_rad_d_t_i_p <= 0.0\n",
    "            flag_UT_d_t_p[p - 2][flag_UT_d_t_i_p] = p\n",
    "\n",
    "        # 1時間当たりの往き温水温度の候補p\n",
    "        p_ln_d_t_i = np.max(flag_UT_d_t_p, axis=0)\n",
    "        return p_ln_d_t_i"
   ]
  },
  {
   "cell_type": "markdown",
   "metadata": {},
   "source": [
    "### 9. 配管 / Plumbing"
   ]
  },
  {
   "cell_type": "markdown",
   "metadata": {},
   "source": [
    "$$\\large\n",
    "Q_{loss,pp,d,t,i} = ((\\theta_{SW,d,t} - (\\theta_{ex,d,t} \\times 0.7 + 20 \\times 0.3)) \\times L_{pp,ex,i} + (\\theta_{SW,d,t} - 20) \\times L_{pp,in,i})\\\\\n",
    "\\large\n",
    "\\times K_{loss,pp,i} \\times r_{WS,rad,d,t,i} \\times 3600 \\times 10^{-6}\n",
    "$$"
   ]
  },
  {
   "cell_type": "markdown",
   "metadata": {},
   "source": [
    "$\\theta_{SW,d,t}$：日付$d$の時刻$t$における往き温水温度(℃) / Hot water temperature at time $ t $ with date $ d $    \n",
    "$\\theta_{ex,d,t}$：日付$d$の時刻$t$における外気温度(℃) / Outside temperature at time $ t $ of date $ d $  \n",
    "$L_{pp,ex,i}$：配管$i$の断熱区画外における長さ(m) / Length outside the adiabatic section of piping $ i $  \n",
    "$L_{pp,in,i}$：配管$i$の断熱区画内における長さ(m) / Length in the adiabatic section of piping $ i $  \n",
    "$K_{loss,pp,i}$：配管$i$の線熱損失係数(W/mK) / Line heat loss coefficient of piping $ i $  \n",
    "$r_{WS,rad,d,t,i}$：日付$d$の時刻$t$における暖冷房区画$i$に設置された放熱器の温水供給運転率 / Hot water supply operation rate of radiator installed in heating / cooling section $ i $ at time $ t $ of date $ d $   "
   ]
  },
  {
   "cell_type": "code",
   "execution_count": 24,
   "metadata": {},
   "outputs": [],
   "source": [
    "def calc_Q_loss_pp_d_t_i(i, Theta_SW_d_t, Theta_ex_d_t, r_WS_rad_d_t_i, A_A, pipe_insulation, underfloor_pipe_insulation,\n",
    "                         MR_rad_type, r_Af_1):\n",
    "    \"\"\" 1時間当たりの配管iの熱損失 (12)\n",
    "\n",
    "    :param i: 暖冷房区画の番号\n",
    "    :type i: int\n",
    "    :param Theta_SW_d_t: 往き温水温度 (℃)\n",
    "    :type Theta_SW_d_t: ndarray\n",
    "    :param Theta_ex_d_t: 外気温度(℃)\n",
    "    :type Theta_ex_d_t: ndarray\n",
    "    :param r_WS_rad_d_t_i: 1時間当たりの暖冷房区画iに設置された温水床暖房の温水供給運転率\n",
    "    :type r_WS_rad_d_t_i: ndarray\n",
    "    :param A_A: 床面積の合計 (m2)\n",
    "    :type A_A: float\n",
    "    :param pipe_insulation: 配管断熱の有無\n",
    "    :type pipe_insulation: bool\n",
    "    :param underfloor_pipe_insulation: 床下配管断熱の有無\n",
    "    :type underfloor_pipe_insulation: bool\n",
    "    :param MR_rad_type: 主たる居室の放熱器の種類\n",
    "    :type MR_rad_type: str\n",
    "    :param r_Af_1: 当該住戸における温水床暖房の敷設率 (-)\n",
    "    :type r_Af_1: float\n",
    "    :return: 1時間当たりの配管iの熱損失 (12)\n",
    "    :rtype: ndarray\n",
    "    \"\"\"\n",
    "    # 配管の断熱区画外における長さ\n",
    "    L_pp_ex_i = pipe.calc_L_pp_ex_i(i, A_A, underfloor_pipe_insulation, MR_rad_type, r_Af_1)\n",
    "\n",
    "    # 配管の断熱区画内における長さ\n",
    "    L_pp_in_i = pipe.calc_L_pp_in_i(i, A_A, underfloor_pipe_insulation, MR_rad_type, r_Af_1)\n",
    "\n",
    "    # 線熱損失係数\n",
    "    K_loss_pp_i = pipe.get_K_loss_pp(pipe_insulation)\n",
    "\n",
    "    return ((Theta_SW_d_t - (Theta_ex_d_t * 0.7 + 20 * 0.3)) * L_pp_ex_i + (Theta_SW_d_t - 20) * L_pp_in_i) \\\n",
    "           * K_loss_pp_i * r_WS_rad_d_t_i * 3600 * 10 ** (-6)"
   ]
  },
  {
   "cell_type": "markdown",
   "metadata": {},
   "source": [
    "### 10. 放熱器 / Radiator"
   ]
  },
  {
   "cell_type": "markdown",
   "metadata": {},
   "source": [
    "#### 10.1 供給熱量 / Heat supply"
   ]
  },
  {
   "cell_type": "markdown",
   "metadata": {},
   "source": [
    "$$\\large\n",
    "Q_{dmd,H,rad,d,t,i} = Q_{T,H,rad,d,t,i} + Q_{loss,rad,d,t,i}\n",
    "$$"
   ]
  },
  {
   "cell_type": "markdown",
   "metadata": {},
   "source": [
    "$Q_{T,H,rad,d,t,i}$：日付$d$の時刻$t$における1時間当たりの暖冷房区画$i$に設置された放熱器の処理暖房負荷(MJ/h) / Processing heating load of radiator installed in heating / cooling section $ i $ per hour at time $ t $ of date $ d $  \n",
    "$Q_{loss,rad,d,t,i}$：日付$d$の時刻$t$における1時間当たりの暖冷房区画$i$に設置された放熱器の熱損失(MJ/h) / Heat loss of radiator installed in heating / cooling compartment $ i $ per hour at time $ t $ of date $ d $  "
   ]
  },
  {
   "cell_type": "code",
   "execution_count": 25,
   "metadata": {},
   "outputs": [],
   "source": [
    "def calc_Q_dmd_H_rad_d_t_i(radiator, Q_max_H_rad_d_t_i, L_T_H_rad_d_t_i):\n",
    "    \"\"\" 1時間当たりの暖冷房区画iに設置された放熱器の温水熱需要 (13)\n",
    "\n",
    "    :param radiator: 放熱器仕様\n",
    "    :type radiator: dict\n",
    "    :param Q_max_H_rad_d_t_i: 1時間当たりの暖冷房区画iに設置された放熱器の最大暖房出力\n",
    "    :type Q_max_H_rad_d_t_i: ndarray\n",
    "    :param L_T_H_rad_d_t_i: 1時間当たりの暖冷房区画iに設置された放熱器の暖房負荷\n",
    "    :type L_T_H_rad_d_t_i: ndarray\n",
    "    :return: 1時間当たりの暖冷房区画iに設置された放熱器の温水熱需要\n",
    "    :rtype: ndarray\n",
    "    \"\"\"\n",
    "    # 1時間当たりの暖冷房区画iに設置された放熱器の処理暖房負荷\n",
    "    Q_T_H_rad_d_t_i = calc_Q_T_H_rad_d_t_i(Q_max_H_rad_d_t_i, L_T_H_rad_d_t_i)\n",
    "\n",
    "    # 1時間当たりの暖冷房区画iに設置された放熱器の熱損失\n",
    "    Q_loss_rad_d_t_i = calc_Q_loss_rad_d_t_i(radiator, Q_T_H_rad_d_t_i)\n",
    "\n",
    "    return Q_T_H_rad_d_t_i + Q_loss_rad_d_t_i"
   ]
  },
  {
   "cell_type": "markdown",
   "metadata": {},
   "source": [
    "#### 10.2 消費電力量 / Power consumption"
   ]
  },
  {
   "cell_type": "markdown",
   "metadata": {},
   "source": [
    "日付$d$の時刻$t$における 1 時間当たりの暖冷房区画$i$に設置された放熱器の消費電力量$E_{E,rad,d,t,i}$は、放熱器の種類がパネルラジエーター又は温水床暖房の場合は0とする。"
   ]
  },
  {
   "cell_type": "markdown",
   "metadata": {},
   "source": [
    "The power consumption $ E_{E, rad, d, t, i} $ of the radiator installed in the heating / cooling section $ i $ per hour at the time $ t $ of the date $ d $ is the type of radiator When it is a panel radiator or hot-water floor heating, it is 0."
   ]
  },
  {
   "cell_type": "code",
   "execution_count": 26,
   "metadata": {},
   "outputs": [],
   "source": [
    "def calc_E_E_rad_d_t_i(i, radiator, Q_T_H_rad, Theta_SW, A_A, A_MR, A_OR, region, mode, R_type):\n",
    "    \"\"\" 1時間当たりの暖冷房区画iに設置された放熱器の消費電力量\n",
    "\n",
    "    :param i: 暖冷房区画の番号\n",
    "    :type i: int\n",
    "    :param radiator: 放熱器仕様\n",
    "    :type radiator: dict\n",
    "    :param Q_T_H_rad: 放熱器の処理暖房負荷\n",
    "    :type Q_T_H_rad: ndarray\n",
    "    :param Theta_SW: 往き温水温度 (℃)\n",
    "    :type Theta_SW: ndarray\n",
    "    :param A_A: 床面積の合計 (m2)\n",
    "    :type A_A: float\n",
    "    :param A_MR: 主たる居室の床面積 (m2)\n",
    "    :type A_MR: float\n",
    "    :param A_OR: その他の居室の床面積 (m2)\n",
    "    :type A_OR: float\n",
    "    :param region: 省エネルギー地域区分\n",
    "    :type region: int\n",
    "    :param mode: 運転モード 'い', 'ろ', 'は'\n",
    "    :type mode: str\n",
    "    :param R_type: 居室の形式\n",
    "    :type R_type: string\n",
    "    :return: 1時間当たりの暖冷房区画iに設置された放熱器の消費電力量\n",
    "    :rtype: ndarray\n",
    "    \"\"\"\n",
    "    if radiator['type'] == '温水暖房用パネルラジエーター' or radiator['type'] == '温水暖房用床暖房':\n",
    "        return np.zeros(24 * 365)\n",
    "    elif radiator['type'] == '温水暖房用ファンコンベクター':\n",
    "\n",
    "        A_HCZ = calc_A_HCZ_i(i, A_A, A_MR, A_OR)\n",
    "\n",
    "        return rad_fanc.calc_E_E_rad(\n",
    "            A_HCZ=A_HCZ,\n",
    "            region=region,\n",
    "            mode=mode,\n",
    "            R_type=R_type,\n",
    "            Theta_SW=Theta_SW,\n",
    "            Q_T_H_rad=Q_T_H_rad,\n",
    "        )\n",
    "    else:\n",
    "        raise ValueError(radiator['type'])"
   ]
  },
  {
   "cell_type": "code",
   "execution_count": 27,
   "metadata": {},
   "outputs": [],
   "source": [
    "def calc_A_HCZ_i(i, A_A, A_MR, A_OR):\n",
    "    \"\"\" 暖冷房区画iの床面積\n",
    "\n",
    "    :param i: 暖冷房区画の番号\n",
    "    :type i: int\n",
    "    :param A_A: 床面積の合計 (m2)\n",
    "    :type A_A: float\n",
    "    :param A_MR: 主たる居室の床面積 (m2)\n",
    "    :type A_MR: float\n",
    "    :param A_OR: その他の居室の床面積 (m2)\n",
    "    :type A_OR: float\n",
    "    :return: 暖冷房区画iの床面積\n",
    "    :rtype: float\n",
    "    \"\"\"\n",
    "    return ld.get_A_HCZ_i(i, A_A, A_MR, A_OR)"
   ]
  },
  {
   "cell_type": "markdown",
   "metadata": {},
   "source": [
    "#### 10.3 熱損失 / Heat loss"
   ]
  },
  {
   "cell_type": "markdown",
   "metadata": {},
   "source": [
    "日付$d$の時刻$t$における 1 時間当たりの暖冷房区画$i$に設置された放熱器の熱損失$Q_{loss,rad,d,t,i}$は、放熱器の種類がパネルラジエーター又はファンコンベクターの場合は0とする。"
   ]
  },
  {
   "cell_type": "markdown",
   "metadata": {},
   "source": [
    "The heat loss $ Q_{loss, rad, d, t, i} $ of the radiator installed in the heating / cooling section $ i $ per hour at the time $ t $ of the date $ d $ has the type of radiator In the case of panel radiator or fan control vector, it is 0."
   ]
  },
  {
   "cell_type": "code",
   "execution_count": 28,
   "metadata": {},
   "outputs": [],
   "source": [
    "def calc_Q_loss_rad_d_t_i(radiator, Q_T_H_rad):\n",
    "    \"\"\" 1時間当たりの暖冷房区画iに設置された放熱器の熱損失\n",
    "\n",
    "    :param radiator: 放熱器仕様\n",
    "    :type radiator: dict\n",
    "    :param Q_T_H_rad: 放熱器の処理暖房負荷\n",
    "    :type Q_T_H_rad: ndarray\n",
    "    :return: 1時間当たりの暖冷房区画iに設置された放熱器の熱損失\n",
    "    :rtype: ndarray\n",
    "    \"\"\"\n",
    "    if radiator['type'] == '温水暖房用パネルラジエーター' or radiator['type'] == '温水暖房用ファンコンベクター':\n",
    "        return np.zeros_like(Q_T_H_rad)\n",
    "    elif radiator['type'] == '温水暖房用床暖房':\n",
    "        return rad_floor.get_Q_loss_rad(\n",
    "            r_up=radiator['r_up'],\n",
    "            Q_T_H_rad=Q_T_H_rad\n",
    "        )\n",
    "    else:\n",
    "        raise ValueError(radiator['type'])"
   ]
  },
  {
   "cell_type": "markdown",
   "metadata": {},
   "source": [
    "#### 10.4 温水供給運転率 / Hot water supply operation rate"
   ]
  },
  {
   "cell_type": "markdown",
   "metadata": {},
   "source": [
    "省略"
   ]
  },
  {
   "cell_type": "markdown",
   "metadata": {},
   "source": [
    "ommision"
   ]
  },
  {
   "cell_type": "code",
   "execution_count": 29,
   "metadata": {},
   "outputs": [],
   "source": [
    "def calc_r_WS_rad_d_t_i(A_HCZ, radiator, Q_T_H_rad, Theta_SW, region, mode, R_type):\n",
    "    \"\"\" 放熱器の温水供給運転率\n",
    "\n",
    "    :param A_HCZ: 暖冷房区画の床面積\n",
    "    :type A_HCZ: float\n",
    "    :param radiator: 放熱器仕様\n",
    "    :type radiator: dict\n",
    "    :param Q_T_H_rad: 放熱器の処理暖房負荷\n",
    "    :type Q_T_H_rad: ndarray\n",
    "    :param Theta_SW: 往き温水温度 (℃)\n",
    "    :type Theta_SW: ndarray\n",
    "    :param region: 省エネルギー地域区分\n",
    "    :type region: int\n",
    "    :param mode: 運転モード 'い', 'ろ', 'は'\n",
    "    :type mode: str\n",
    "    :param R_type: 居室の形式\n",
    "    :type R_type: string\n",
    "    :return: 放熱器の温水供給運転率\n",
    "    :rtype: ndarray\n",
    "    \"\"\"\n",
    "    if radiator['type'] == '温水暖房用パネルラジエーター':\n",
    "        # 温水供給運転率の計算\n",
    "        r_WS_rad_d_t_i = rad_panel.calc_r_WS_rad(\n",
    "            region=region,\n",
    "            mode=mode,\n",
    "            A_HCZ=A_HCZ,\n",
    "            R_type=R_type,\n",
    "            Theta_SW=Theta_SW,\n",
    "            Q_T_H_rad=Q_T_H_rad\n",
    "        )\n",
    "    elif radiator['type'] == '温水暖房用ファンコンベクター':\n",
    "        # 仕様の取得\n",
    "        q_max_FC = rad_fanc.calc_q_max_FC(region, mode, A_HCZ, R_type)\n",
    "        q_min_FC = rad_fanc.get_q_min_FC(q_max_FC)\n",
    "        Q_min_H_FC = rad_fanc.get_Q_min_H_FC(Theta_SW, q_min_FC)\n",
    "\n",
    "        # 温水供給運転率の計算\n",
    "        r_WS_rad_d_t_i = rad_fanc.get_r_WS_rad(\n",
    "            Q_min_H_FC=Q_min_H_FC,\n",
    "            Q_T_H_rad=Q_T_H_rad\n",
    "        )\n",
    "    elif radiator['type'] == '温水暖房用床暖房':\n",
    "        # 仕様の取得\n",
    "        A_f = rad_floor.get_A_f(A_HCZ, radiator['r_Af'])\n",
    "        Q_max_H_rad = rad_floor.get_Q_max_H_rad(Theta_SW, A_f)\n",
    "\n",
    "        # 温水供給運転率の計算\n",
    "        r_WS_rad_d_t_i = rad_floor.get_r_WS_rad(\n",
    "            Q_T_H_rad=Q_T_H_rad,\n",
    "            Q_max_H_rad=Q_max_H_rad\n",
    "        )\n",
    "    else:\n",
    "        raise ValueError(radiator['type'])\n",
    "\n",
    "    # 温水供給運転率が1を超える場合は1、0を下回る場合は0\n",
    "    r_WS_rad_d_t_i = np.clip(r_WS_rad_d_t_i, 0, 1)\n",
    "\n",
    "    return r_WS_rad_d_t_i"
   ]
  },
  {
   "cell_type": "markdown",
   "metadata": {},
   "source": [
    "#### 10.5 処理暖房負荷 / Processing heating load"
   ]
  },
  {
   "cell_type": "markdown",
   "metadata": {},
   "source": [
    "省略"
   ]
  },
  {
   "cell_type": "markdown",
   "metadata": {},
   "source": [
    "ommision"
   ]
  },
  {
   "cell_type": "code",
   "execution_count": 30,
   "metadata": {},
   "outputs": [],
   "source": [
    "def calc_Q_T_H_rad_d_t_i(Q_max_H_d_t_i, L_H_d_t_i):\n",
    "    \"\"\" 1時間当たりの暖冷房区画iに設置された放熱器の処理暖房負荷\n",
    "\n",
    "    :param Q_max_H_d_t_i: 日付dの時刻tにおける暖冷房区画iの1時間当たりの暖冷房区画𝑖に設置された放熱器の最大暖房出力\n",
    "    :type Q_max_H_d_t_i: ndarray\n",
    "    :param L_H_d_t_i:日付dの時刻tにおける暖冷房区画iの1時間当たりの暖房負荷（MJ/h）\n",
    "    :type L_H_d_t_i: ndarray\n",
    "    :return: 1時間当たりの暖冷房区画iに設置された放熱器の処理暖房負荷\n",
    "    :rtype: ndarray\n",
    "    \"\"\"\n",
    "    import s04_01_general_Q\n",
    "    return s04_01_general_Q.get_Q_T_H_d_t_i(Q_max_H_d_t_i, L_H_d_t_i)"
   ]
  },
  {
   "cell_type": "markdown",
   "metadata": {},
   "source": [
    "#### 10.6 最大暖房出力 / Maximum heating output"
   ]
  },
  {
   "cell_type": "markdown",
   "metadata": {},
   "source": [
    "省略"
   ]
  },
  {
   "cell_type": "markdown",
   "metadata": {},
   "source": [
    "ommision"
   ]
  },
  {
   "cell_type": "code",
   "execution_count": 31,
   "metadata": {},
   "outputs": [],
   "source": [
    "def calc_Q_max_H_rad_d_t_i(radiator, A_HCZ, Theta_SW, region, mode, R_type):\n",
    "    \"\"\" 放熱器の最大暖房出力\n",
    "\n",
    "    :param radiator: 放熱器仕様\n",
    "    :type radiator: dict\n",
    "    :param A_HCZ: 暖冷房区画の床面積\n",
    "    :type A_HCZ: float\n",
    "    :param Theta_SW: 往き温水温度 (℃)\n",
    "    :type Theta_SW: ndarray\n",
    "    :param region: 省エネルギー地域区分\n",
    "    :type region: int\n",
    "    :param mode: 運転モード 'い', 'ろ', 'は'\n",
    "    :type mode: str\n",
    "    :param R_type: 居室の形式\n",
    "    :type R_type: string\n",
    "    :return: 放熱器の最大暖房出力\n",
    "    :rtype: ndarray\n",
    "    \"\"\"\n",
    "    if radiator['type'] == '温水暖房用パネルラジエーター':\n",
    "        # 仕様の取得\n",
    "        q_max_rad = rad_panel.calc_q_max_rad(region, mode, A_HCZ, R_type)\n",
    "\n",
    "        # 最大暖房出力の計算\n",
    "        return rad_panel.get_Q_max_H_rad(\n",
    "            q_max_rad=q_max_rad,\n",
    "            Theta_SW=Theta_SW\n",
    "        )\n",
    "    elif radiator['type'] == '温水暖房用ファンコンベクター':\n",
    "        # 仕様の取得\n",
    "        q_max_FC = rad_fanc.calc_q_max_FC(region, mode, A_HCZ, R_type)\n",
    "\n",
    "        # 最大暖房出力の計算\n",
    "        return rad_fanc.calc_Q_max_H_rad(\n",
    "            q_max_FC=q_max_FC,\n",
    "            Theta_SW=Theta_SW\n",
    "        )\n",
    "    elif radiator['type'] == '温水暖房用床暖房':\n",
    "        # 仕様の取得\n",
    "        A_f = rad_floor.get_A_f(A_HCZ, radiator['r_Af'])\n",
    "\n",
    "        # 最大暖房出力の計算\n",
    "        return rad_floor.get_Q_max_H_rad(\n",
    "            A_f=A_f,\n",
    "            Theta_SW=Theta_SW\n",
    "        )\n",
    "    else:\n",
    "        raise ValueError(radiator['type'])"
   ]
  },
  {
   "cell_type": "markdown",
   "metadata": {},
   "source": [
    "## 試算例"
   ]
  },
  {
   "cell_type": "markdown",
   "metadata": {},
   "source": [
    "|名称1|名称2|変数名|計算条件1|計算条件2|計算条件3|計算条件4|計算条件5|計算条件6|\n",
    "|----|------|--|--|--|--|--|--|--|\n",
    "|地域の区分|-|$ region$|6|6|6|6|6|6|\n",
    "|延床面積|合計|$A_A$|120.08|120.08|120.08|120.08|120.08|120.08|\n",
    "|延床面積|主居室|$A_{MR}$|29.81|29.81|29.81|29.81|29.81|29.81|\n",
    "|延床面積|その他居室|$A_{OR}$|51.34|51.34|51.34|51.34|51.34|51.34|\n",
    "|外皮面積|-|$A_{env}$|307.51|307.51|307.51|307.51|307.51|307.51|\n",
    "|外皮平均熱貫流率|-|$U_A$|0.87|0.87|0.87|0.87|0.87|0.87|\n",
    "|暖房期平均日射熱取得率|-|$\\eta_{AH}$|4.3|4.3|4.3|4.3|4.3|4.3|\n",
    "|冷房期平均日射熱取得率|-|$\\eta_{AC}$|2.8|2.8|2.8|2.8|2.8|2.8|\n",
    "|暖房設備（主居室）|放熱器|$type$|パネラジ|<b>ファンコン</b>|<b>温水床暖</b>|<b>温水床暖</b>|<b>温水床暖</b>|<b>温水床暖</b>|\n",
    "|暖房設備（主居室）|敷設率|$r_{Af}$|-|-|0.3|0.4|0.4|0.4|\n",
    "|暖房設備（主居室）|敷設率（仮想床除く）|$r'_{Af}$|-|-|0.5|-|-|-|\n",
    "|暖房設備（主居室）|上面放熱率|$r_{up}$|-|-|0.9|0.9|0.9|0.9|0.9|\n",
    "|暖房設備（その他居室）|放熱器|$type$|パネラジ|<b>ファンコン</b>|温水床暖|-|-|-|\n",
    "|暖房設備（その他居室）|敷設率|$r_{Af}$|-|-|0.65|-|-|-|\n",
    "|暖房設備（その他居室）|上面放熱率|$r_{up}$|-|-|0.7|-|-|-|\n",
    "|温水暖房機|種類|$type$|石油従来型|<b>石油潜熱回収型</b>|<b>ガス従来型</b>|<b>ガス潜熱回収型</b>|<b>電気HP</b>|<b>電気ヒーター</b>|\n",
    "|温水暖房機|効率|$e_{rtd,hs}$|0.82|-|0.81|0.87|-|-|\n",
    "|温水暖房機|断熱配管|$pipe_{insulation}$|有|<b>無</b>|有|有|有|有|\n",
    "|温水暖房機|配管が通過する空間|$underfloor_{pipe_{insulation}}$|有|<b>無</b>|有|有|有|有|\n"
   ]
  },
  {
   "cell_type": "code",
   "execution_count": 32,
   "metadata": {},
   "outputs": [],
   "source": [
    "def calc_results(param, H_MR, H_OR, H_HS, HEX=None):\n",
    "\n",
    "    if __name__ == \"__main__\":\n",
    "\n",
    "        from s02_01_b_heat_conversion_coefficient import get_f_prim\n",
    "        from s03_01_hc_load_general import get_Q\n",
    "        from s03_02_envelope_performance import calc_r_env, get_Q_dash, get_eta_H, get_eta_C\n",
    "        from s04_01_general import calc_heating_load, get_alpha_UT_H_MR, get_alpha_UT_H_OR, calc_cooling_load, \\\n",
    "              get_virtual_heating_devices, get_virtual_heatsource, calc_Q_UT_H_MR_d_t, calc_Q_UT_H_OR_d_t\n",
    "        from s04_01_a_heating_method import calc_heating_mode\n",
    "\n",
    "\n",
    "        region = param[\"region\"]\n",
    "        sol_region = None\n",
    "        A_A = param[\"A_A\"]\n",
    "        A_MR = param[\"A_MR\"]\n",
    "        A_OR = param[\"A_OR\"]\n",
    "        A_env = param[\"A_env\"]\n",
    "        U_A = param[\"U_A\"]\n",
    "        eta_A_H = param[\"eta_A_H\"]\n",
    "        eta_A_C = param[\"eta_A_C\"]\n",
    "        NV_MR = 0\n",
    "        NV_OR = 0\n",
    "        r_A_ufvnt = None\n",
    "        underfloor_insulation = False\n",
    "        TS = None\n",
    "        CG = None\n",
    "\n",
    "\n",
    "        mode_C = None\n",
    "        mode_H = '居室のみを暖房する方式でかつ主たる居室とその他の居室ともに温水暖房を設置する場合に該当しない場合'\n",
    "\n",
    "        # 床面積の合計に対する外皮の部位の面積の合計の比\n",
    "        r_env = calc_r_env(method='当該住戸の外皮の部位の面積等を用いて外皮性能を評価する方法', A_env=A_env, A_A=A_A)\n",
    "\n",
    "        # 熱損失係数\n",
    "        Q_dash = get_Q_dash(U_A, r_env)\n",
    "        Q = get_Q(Q_dash)\n",
    "\n",
    "        # 日射取得係数\n",
    "        mu_H = get_eta_H(eta_A_H, r_env)\n",
    "        mu_C = get_eta_C(eta_A_C, r_env)\n",
    "\n",
    "        # 暖房方式及び運転方法の区分\n",
    "        mode_MR, mode_OR = calc_heating_mode(region=region, H_MR=H_MR, H_OR=H_OR)\n",
    "\n",
    "        # 実質的な温水暖房機の仕様を取得\n",
    "        spec_HS = get_virtual_heatsource(region, H_HS)\n",
    "\n",
    "        # 冷房負荷\n",
    "        L_CS_x_t, L_CL_x_t = calc_cooling_load(region, A_A, A_MR, A_OR, Q, mu_H, mu_C, NV_MR, NV_OR, r_A_ufvnt,\n",
    "                                                   underfloor_insulation, mode_C, mode_H, mode_MR, mode_OR, TS, HEX)\n",
    "\n",
    "        # 暖房負荷\n",
    "        L_T_H_rad, _ = \\\n",
    "            calc_heating_load(region, sol_region, A_A, A_MR, A_OR, Q, mu_H, mu_C, NV_MR, NV_OR, TS, r_A_ufvnt, HEX,\n",
    "                              underfloor_insulation, mode_H, mode_C, spec_MR=H_MR, spec_OR=H_OR, mode_MR=mode_MR,\n",
    "                              mode_OR=mode_OR, SHC=None)\n",
    "\n",
    "        # エネルギー消費量\n",
    "        E_E_H_d_t = calc_E_E_H_d_t(H_HS, H_MR, H_OR, A_A, A_MR, A_OR, region, mode_MR, mode_OR, L_T_H_rad, L_CS_x_t, L_CL_x_t, CG=None)\n",
    "        E_G_H_d_t = calc_E_G_H_d_t(H_HS, H_MR, H_OR, A_A, A_MR, A_OR, region, mode_MR, mode_OR, L_T_H_rad, CG)\n",
    "        E_K_H_d_t = calc_E_K_H_d_t(H_HS, H_MR, H_OR, A_A, A_MR, A_OR, region, mode_MR, mode_OR, L_T_H_rad, CG)\n",
    "        E_M_H_d_t = calc_E_M_H_d_t(H_HS)\n",
    "\n",
    "\n",
    "        # 未処理暖房負荷を未処理暖房負荷の設計一次エネルギー消費量相当値に換算するための係数\n",
    "        alpha_UT_H_MR = get_alpha_UT_H_MR(region, mode_MR)\n",
    "        alpha_UT_H_OR = get_alpha_UT_H_OR(region, mode_OR)\n",
    "\n",
    "\n",
    "        # 未処理暖房負荷\n",
    "        Q_UT_H_MR_d_t = calc_Q_UT_H_MR_d_t(region, A_A, A_MR, A_OR, H_MR, H_OR, spec_HS, mode_MR, mode_OR, CG, L_T_H_rad)\n",
    "\n",
    "        # その他居室の未処理暖房負荷\n",
    "        Q_UT_H_OR_d_t = calc_Q_UT_H_OR_d_t(region, A_A, A_MR, A_OR, H_MR, H_OR, spec_HS, mode_MR, mode_OR, CG,L_T_H_rad) \\\n",
    "                        if H_OR[\"type\"] in [\"温水暖房用パネルラジエーター\", \"温水暖房用ファンコンベクター\", \"温水暖房用床暖房\"] \\\n",
    "                        else np.zeros(24 * 365)\n",
    "\n",
    "\n",
    "        # 未処理暖房負荷に未処理暖房負荷の設計一次エネルギー消費量相当値に換算するための係数を掛けて合算\n",
    "        Q_UT_rad = Q_UT_H_MR_d_t * alpha_UT_H_MR + Q_UT_H_OR_d_t * alpha_UT_H_OR\n",
    "        E_UT_H_d_t =Q_UT_rad\n",
    "\n",
    "\n",
    "        f_prim = get_f_prim()\n",
    "        E_H_d_t = E_E_H_d_t * f_prim / 1000 + E_G_H_d_t + E_K_H_d_t + E_M_H_d_t + E_UT_H_d_t\n",
    "\n",
    "        print('E_H:{}MJ/y'.format(np.sum(E_H_d_t)))\n",
    "\n",
    "        return E_H_d_t"
   ]
  },
  {
   "cell_type": "code",
   "execution_count": 33,
   "metadata": {},
   "outputs": [],
   "source": [
    "def get_each_graph(_E_H_d_t):\n",
    "\n",
    "    import matplotlib.pyplot as plt\n",
    "\n",
    "    _E_H_d = np.sum(_E_H_d_t.reshape(365,24), axis = 1)\n",
    "\n",
    "    fig = plt.figure(figsize = (20,7))\n",
    "\n",
    "    grh_day = fig.add_subplot(211)\n",
    "    grh_day.set_ylabel('MJ/d')\n",
    "    grh_day.set_xlabel('day')\n",
    "    grh_day.plot(_E_H_d, label = \"E_H\")\n",
    "    grh_day.legend()\n",
    "\n",
    "    grh_date = fig.add_subplot(212)\n",
    "    grh_date.set_ylabel('MJ/h')\n",
    "    grh_date.set_xlabel('hour')\n",
    "    grh_date.plot(_E_H_d_t.reshape(365,24)[334], label = \"E_H:12/1\")\n",
    "    grh_date.plot(_E_H_d_t.reshape(365,24)[59], label = \"E_H:3/1\")\n",
    "    grh_date.legend()\n",
    "\n",
    "    plt.show()\n"
   ]
  },
  {
   "cell_type": "markdown",
   "metadata": {},
   "source": [
    "### 計算条件1"
   ]
  },
  {
   "cell_type": "code",
   "execution_count": 34,
   "metadata": {},
   "outputs": [
    {
     "name": "stdout",
     "output_type": "stream",
     "text": [
      "Importing Jupyter notebook from s02_01_b_heat_conversion_coefficient.ipynb\n",
      "Importing Jupyter notebook from s03_02_envelope_performance.ipynb\n",
      "Importing Jupyter notebook from s03_02_08_envelope_performance_detail.ipynb\n",
      "Importing Jupyter notebook from s03_02_09_envelope_performance_simple.ipynb\n",
      "Importing Jupyter notebook from s03_02_b_temperature_difference_coefficient.ipynb\n",
      "Importing Jupyter notebook from s03_02_c_orientation_coefficient.ipynb\n",
      "Importing Jupyter notebook from s03_04_solar_heat_gain_coefficient.ipynb\n",
      "Importing Jupyter notebook from s04_01_general.ipynb\n",
      "Importing Jupyter notebook from s04_01_a_heating_method.ipynb\n",
      "Importing Jupyter notebook from s04_01_b_cooling_method.ipynb\n",
      "Importing Jupyter notebook from s04_02_central_heating_system_with_duct.ipynb\n",
      "Importing Jupyter notebook from s11_03_life_schedule.ipynb\n",
      "Importing Jupyter notebook from s04_02_a_central_heating_system_with_duct.ipynb\n",
      "Importing Jupyter notebook from s04_02_b_central_heating_system_with_duct.ipynb\n",
      "Importing Jupyter notebook from s04_03_room_air_conditioner.ipynb\n",
      "Importing Jupyter notebook from s04_01_general_Q.ipynb\n",
      "Importing Jupyter notebook from s04_04_ff_type_heating.ipynb\n",
      "Importing Jupyter notebook from s04_05_electric_floor_heating.ipynb\n",
      "Importing Jupyter notebook from s04_06_electric_thermal_storage_type_heating.ipynb\n",
      "Importing Jupyter notebook from s04_07_Hot_water_heating.ipynb\n",
      "Importing Jupyter notebook from s04_08_hot_water_floor_heating_with_rac.ipynb\n",
      "E_H:41909.17228605997MJ/y\n"
     ]
    }
   ],
   "source": [
    "param = {\"region\": 6, \"A_A\": 120.08, \"A_MR\": 29.81, \"A_OR\": 51.34, \"A_env\": 307.51,\n",
    "         \"U_A\": 0.87, \"eta_A_H\": 4.3, \"eta_A_C\": 2.8}\n",
    "H_MR = {'type': '温水暖房用パネルラジエーター'}\n",
    "H_OR = {'type': '温水暖房用パネルラジエーター'}\n",
    "H_HS = {'type': '石油従来型温水暖房機', 'e_rtd_hs': 0.82, 'pipe_insulation': True, 'underfloor_pipe_insulation': True}\n",
    "\n",
    "E_H_d_t_1 = calc_results(param, H_MR, H_OR, H_HS)"
   ]
  },
  {
   "cell_type": "code",
   "execution_count": 35,
   "metadata": {},
   "outputs": [
    {
     "data": {
      "image/png": "[encoded data removed]",
      "text/plain": [
       "<Figure size 1440x504 with 2 Axes>"
      ]
     },
     "metadata": {
      "needs_background": "light"
     },
     "output_type": "display_data"
    }
   ],
   "source": [
    "get_each_graph(E_H_d_t_1)"
   ]
  },
  {
   "cell_type": "markdown",
   "metadata": {},
   "source": [
    "### 計算条件2"
   ]
  },
  {
   "cell_type": "code",
   "execution_count": 36,
   "metadata": {},
   "outputs": [
    {
     "name": "stdout",
     "output_type": "stream",
     "text": [
      "E_H:19978.860846061947MJ/y\n"
     ]
    }
   ],
   "source": [
    "param = {\"region\": 6, \"A_A\": 120.08, \"A_MR\": 29.81, \"A_OR\": 51.34, \"A_env\": 307.51,\n",
    "         \"U_A\": 0.87, \"eta_A_H\": 4.3, \"eta_A_C\": 2.8}\n",
    "H_MR = {'type': '温水暖房用ファンコンベクター'}\n",
    "H_OR = {'type': '温水暖房用ファンコンベクター'}\n",
    "H_HS = {'type': '石油潜熱回収型温水暖房機', 'pipe_insulation': False, 'underfloor_pipe_insulation': False}\n",
    "\n",
    "E_H_d_t_2 = calc_results(param, H_MR, H_OR, H_HS)\n"
   ]
  },
  {
   "cell_type": "code",
   "execution_count": 37,
   "metadata": {},
   "outputs": [
    {
     "data": {
      "image/png": "[encoded data removed]",
      "text/plain": [
       "<Figure size 1440x504 with 2 Axes>"
      ]
     },
     "metadata": {
      "needs_background": "light"
     },
     "output_type": "display_data"
    }
   ],
   "source": [
    "get_each_graph(E_H_d_t_2)"
   ]
  },
  {
   "cell_type": "markdown",
   "metadata": {},
   "source": [
    "### 計算条件3"
   ]
  },
  {
   "cell_type": "code",
   "execution_count": 38,
   "metadata": {},
   "outputs": [
    {
     "name": "stdout",
     "output_type": "stream",
     "text": [
      "E_H:44175.389744659886MJ/y\n"
     ]
    }
   ],
   "source": [
    "param = {\"region\": 6, \"A_A\": 120.08, \"A_MR\": 29.81, \"A_OR\": 51.34, \"A_env\": 307.51,\n",
    "         \"U_A\": 0.87, \"eta_A_H\": 4.3, \"eta_A_C\": 2.8}\n",
    "H_MR = {'type': '温水暖房用床暖房', 'r_Af': 0.3, 'r_dash_Af': 0.5, 'r_up': 0.9}\n",
    "H_OR = {'type': '温水暖房用床暖房', 'r_Af': 0.65, 'r_up': 0.7}\n",
    "H_HS = {'type': 'ガス従来型温水暖房機', 'e_rtd_hs': 0.81, 'pipe_insulation': True, 'underfloor_pipe_insulation': True}\n",
    "\n",
    "E_H_d_t_3 = calc_results(param, H_MR, H_OR, H_HS)"
   ]
  },
  {
   "cell_type": "code",
   "execution_count": 39,
   "metadata": {},
   "outputs": [
    {
     "data": {
      "image/png": "[encoded data removed]",
      "text/plain": [
       "<Figure size 1440x504 with 2 Axes>"
      ]
     },
     "metadata": {
      "needs_background": "light"
     },
     "output_type": "display_data"
    }
   ],
   "source": [
    "get_each_graph(E_H_d_t_3)"
   ]
  },
  {
   "cell_type": "markdown",
   "metadata": {},
   "source": [
    "### 計算条件4"
   ]
  },
  {
   "cell_type": "code",
   "execution_count": 40,
   "metadata": {},
   "outputs": [
    {
     "name": "stdout",
     "output_type": "stream",
     "text": [
      "E_H:14408.10505746133MJ/y\n"
     ]
    }
   ],
   "source": [
    "param = {\"region\": 6, \"A_A\": 120.08, \"A_MR\": 29.81, \"A_OR\": 51.34, \"A_env\": 307.51,\n",
    "         \"U_A\": 0.87, \"eta_A_H\": 4.3, \"eta_A_C\": 2.8}\n",
    "H_MR = {'type': '温水暖房用床暖房', 'r_Af': 0.4, 'r_up': 0.9}\n",
    "H_OR = {'type': 'ルームエアコンディショナー', 'e_class': 'ろ', 'dualcompressor': False}\n",
    "H_HS = {'type': 'ガス潜熱回収型温水暖房機', 'e_rtd_hs': 0.87, 'pipe_insulation': True, 'underfloor_pipe_insulation': True}\n",
    "\n",
    "E_H_d_t_4 = calc_results(param, H_MR, H_OR, H_HS)"
   ]
  },
  {
   "cell_type": "code",
   "execution_count": 41,
   "metadata": {},
   "outputs": [
    {
     "data": {
      "image/png": "[encoded data removed]",
      "text/plain": [
       "<Figure size 1440x504 with 2 Axes>"
      ]
     },
     "metadata": {
      "needs_background": "light"
     },
     "output_type": "display_data"
    }
   ],
   "source": [
    "get_each_graph(E_H_d_t_4)"
   ]
  },
  {
   "cell_type": "markdown",
   "metadata": {},
   "source": [
    "### 計算条件5"
   ]
  },
  {
   "cell_type": "code",
   "execution_count": 42,
   "metadata": {},
   "outputs": [
    {
     "name": "stdout",
     "output_type": "stream",
     "text": [
      "E_H:14716.370807563266MJ/y\n"
     ]
    }
   ],
   "source": [
    "param = {\"region\": 6, \"A_A\": 120.08, \"A_MR\": 29.81, \"A_OR\": 51.34, \"A_env\": 307.51,\n",
    "         \"U_A\": 0.87, \"eta_A_H\": 4.3, \"eta_A_C\": 2.8}\n",
    "H_MR = {'type': '温水暖房用床暖房', 'r_Af': 0.4, 'r_up': 0.9}\n",
    "H_OR = {'type': 'ルームエアコンディショナー', 'e_class': 'ろ', 'dualcompressor': False}\n",
    "H_HS = {'type': '電気ヒートポンプ温水暖房機', 'pipe_insulation': True, 'underfloor_pipe_insulation': True}\n",
    "\n",
    "E_H_d_t_5 = calc_results(param, H_MR, H_OR, H_HS)"
   ]
  },
  {
   "cell_type": "markdown",
   "metadata": {},
   "source": [
    "### 計算条件6"
   ]
  },
  {
   "cell_type": "code",
   "execution_count": 43,
   "metadata": {},
   "outputs": [
    {
     "name": "stdout",
     "output_type": "stream",
     "text": [
      "E_H:27521.5116359412MJ/y\n"
     ]
    }
   ],
   "source": [
    "param = {\"region\": 6, \"A_A\": 120.08, \"A_MR\": 29.81, \"A_OR\": 51.34, \"A_env\": 307.51,\n",
    "         \"U_A\": 0.87, \"eta_A_H\": 4.3, \"eta_A_C\": 2.8}\n",
    "H_MR = {'type': '温水暖房用床暖房', 'r_Af': 0.4, 'r_up': 0.9}\n",
    "H_OR = {'type': 'ルームエアコンディショナー', 'e_class': 'ろ', 'dualcompressor': False}\n",
    "H_HS = {'type': '電気ヒーター温水暖房機', 'pipe_insulation': True, 'underfloor_pipe_insulation': True}\n",
    "\n",
    "E_H_d_t_6 = calc_results(param, H_MR, H_OR, H_HS)"
   ]
  },
  {
   "cell_type": "markdown",
   "metadata": {},
   "source": [
    "## 比較"
   ]
  },
  {
   "cell_type": "code",
   "execution_count": 44,
   "metadata": {},
   "outputs": [
    {
     "data": {
      "image/png": "[encoded data removed]",
      "text/plain": [
       "<Figure size 1440x360 with 1 Axes>"
      ]
     },
     "metadata": {
      "needs_background": "light"
     },
     "output_type": "display_data"
    }
   ],
   "source": [
    "import matplotlib.pyplot as plt\n",
    "\n",
    "dat_H = {\"testcase1_H\": np.sum(E_H_d_t_1)/1000, \"testcase2_H\": np.sum(E_H_d_t_2)/1000, \"testcase3_H\": np.sum(E_H_d_t_3)/1000, \n",
    "         \"testcase4_H\": np.sum(E_H_d_t_4)/1000, \"testcase5_H\": np.sum(E_H_d_t_5)/1000, \"testcase6_H\": np.sum(E_H_d_t_6)/1000}\n",
    "\n",
    "x_H = list(dat_H.keys())\n",
    "y_H = list(dat_H.values())\n",
    "\n",
    "fig = plt.figure(figsize=(20,5))\n",
    "\n",
    "grh_H = fig.add_subplot(111)\n",
    "grh_H.barh(x_H,y_H, color = \"orange\")\n",
    "grh_H.set_xlabel(\"GJ/y\")\n",
    "grh_H.set_title(\"E_H\")\n",
    "\n",
    "plt.show()"
   ]
  }
 ],
 "metadata": {
  "kernelspec": {
   "display_name": "Python 3",
   "language": "python",
   "name": "python3"
  },
  "language_info": {
   "codemirror_mode": {
    "name": "ipython",
    "version": 3
   },
   "file_extension": ".py",
   "mimetype": "text/x-python",
   "name": "python",
   "nbconvert_exporter": "python",
   "pygments_lexer": "ipython3",
   "version": "3.6.6"
  },
  "toc": {
   "base_numbering": 1,
   "nav_menu": {},
   "number_sections": false,
   "sideBar": true,
   "skip_h1_title": false,
   "title_cell": "Table of Contents",
   "title_sidebar": "Contents",
   "toc_cell": false,
   "toc_position": {},
   "toc_section_display": true,
   "toc_window_display": false
  }
 },
 "nbformat": 4,
 "nbformat_minor": 2
}
