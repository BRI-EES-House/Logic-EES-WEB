{
 "cells": [
  {
   "cell_type": "markdown",
   "metadata": {},
   "source": [
    "### 8. 当該住戸の外皮の部位の面積等を用いて外皮性能を評価する方法 / Method to evaluate shell performance using area of part of shell of the dwelling unit concerned"
   ]
  },
  {
   "cell_type": "markdown",
   "metadata": {},
   "source": [
    "#### 8.1 外皮平均熱貫流率 / Average heat penetration coefficient of skin"
   ]
  },
  {
   "cell_type": "markdown",
   "metadata": {},
   "source": [
    "外皮平均熱貫流率$U_{A}$は100 分の 1 未満の端数を切り上げた小数第二位までの値とする。"
   ]
  },
  {
   "cell_type": "markdown",
   "metadata": {},
   "source": [
    "The average crustal heat transfer coefficient $U_{A}$ is a value up to the second decimal place rounded up to the nearest hundredth."
   ]
  },
  {
   "cell_type": "markdown",
   "metadata": {},
   "source": [
    "$$\\large\n",
    "U_{A} = \\bigg( \\sum_{i} (A_{i} \\times U_{i} \\times H_{i}) + \\sum_{i} (L_{j} \\times \\Psi_{j} \\times H_{j}) \\bigg) \\big/ A_{env}\n",
    "$$"
   ]
  },
  {
   "cell_type": "markdown",
   "metadata": {},
   "source": [
    "$A_{i}$：外皮の部位（一般部位又は開口部）$i$の面積(m<sup>2</sup>) / Area of skin (general part or opening) $i$  \n",
    "$U_{i}$：外皮の部位（一般部位又は開口部）$i$の熱貫流率(W/m<sup>2</sup>K) / Heat transmission coefficient of site (general site or opening) $i$ of outer skin  \n",
    "$H_{i}$：外皮の部位（一般部位又は開口部）$i$の温度差係数 / Temperature difference coefficient of site (general site or opening) $i$ of outer skin  \n",
    "$L_{j}$：熱橋等（熱橋及び土間床等の外周部）$j$の長さ(m<sup>2</sup>) / Thermal bridge, etc. (peripheral part of thermal bridge, floor between floors, etc.) Length of $ j $  \n",
    "$\\Psi_{j}$：熱橋等（熱橋及び土間床等の外周部）$j$の線熱貫流率(W/mK) / Heat transfer coefficient of thermal bridge etc. (peripheral part of thermal bridge and soil floor etc) $ j $  \n",
    "$H_{j}$：熱橋等（熱橋及び土間床等の外周部）$j$の温度差係数 / Thermal bridge, etc. (The outer circumference of the thermal bridge and the floor between soils, etc.) $ j $ temperature difference coefficient  \n",
    "$A_{env}$：外皮の部位の面積の合計(m<sup>2</sup>) / Total area of the area of the hull \n"
   ]
  },
  {
   "cell_type": "code",
   "execution_count": null,
   "metadata": {},
   "outputs": [],
   "source": [
    "def get_U_A(**args):\n",
    "    raise NotImplementedError()\n"
   ]
  },
  {
   "cell_type": "markdown",
   "metadata": {},
   "source": [
    "#### 8.2 暖房期の平均日射熱取得率及び冷房期の平均日射熱取得率 / Average solar heat gain rate in heating season and average solar heat gain rate in cooling season"
   ]
  },
  {
   "cell_type": "markdown",
   "metadata": {},
   "source": [
    "暖房期の平均日射熱取得率$\\eta_{A,H}$は、計算された値の 10 分の 1 未満の端数を切り下げ、小数第一位までの値とする。  \n",
    "冷房期の平均日射熱取得率$\\eta_{A,C}$は、10 分の 1 未満の端数を切り上げ、小数第一位までの値とする。"
   ]
  },
  {
   "cell_type": "markdown",
   "metadata": {},
   "source": [
    "The average solar heat gain rate $\\eta_{A, H}$ of the heating season is rounded down to the nearest tenth of the calculated value.  \n",
    "The average solar heat gain rate $\\eta_{A, C}$ in the cooling period shall be rounded up to the nearest tenth of a tenth."
   ]
  },
  {
   "cell_type": "markdown",
   "metadata": {},
   "source": [
    "$$\\large\n",
    "\\eta_{A,H} = \\sum_{i} (A_{i} \\eta_{H,i} \\nu_{H,i}) \\big/ A_{env} \\times 100\n",
    "$$\n",
    "\n",
    "$$\\large\n",
    "\\eta_{A,C} = \\sum_{i} (A_{i} \\eta_{C,i} \\nu_{C,i}) \\big/ A_{env} \\times 100\n",
    "$$"
   ]
  },
  {
   "cell_type": "markdown",
   "metadata": {},
   "source": [
    "$A_{i}$：外皮の部位（一般部位又は開口部）$i$の面積(m<sup>2</sup>) / Area of skin (general part or opening) $i$  \n",
    "$\\eta_{H,i}$：外皮の部位（一般部位又は開口部）$i$の暖房期の日射熱取得率 / Solar heat gain rate during the heating period $ i $ at the site (general site or opening) of the hull  \n",
    "$\\eta_{C,i}$：外皮の部位（一般部位又は開口部）$i$の冷房期の日射熱取得率 / Solar heat gain rate during the cooling period $ i $ at the site (general site or opening) of the hull  \n",
    "$\\nu_{H,i}$：外皮の部位（一般部位又は開口部）$i$の暖房期の方位係数 / Orientation factor of the heating phase $ i $ at the site (general site or opening) of the hull  \n",
    "$\\nu_{C,i}$：外皮の部位（一般部位又は開口部）$i$の冷房期の方位係数 / Orientation coefficient of the cooling period $ i $ of the hull part (general part or opening)  \n",
    "$A_{env}$：外皮の部位の面積の合計(m<sup>2</sup>) / Total area of the area of the hull \n"
   ]
  },
  {
   "cell_type": "code",
   "execution_count": null,
   "metadata": {},
   "outputs": [],
   "source": [
    "def get_eta_A_H(**args):\n",
    "    raise NotImplementedError()\n"
   ]
  },
  {
   "cell_type": "code",
   "execution_count": null,
   "metadata": {},
   "outputs": [],
   "source": [
    "def get_eta_A_C(**args):\n",
    "    raise NotImplementedError()"
   ]
  },
  {
   "cell_type": "markdown",
   "metadata": {},
   "source": [
    "#### 8.3 床面積の合計に対する外皮の部位の面積の合計の比 / Ratio of the sum of the area of the area of the hull to the sum of the floor area"
   ]
  },
  {
   "cell_type": "markdown",
   "metadata": {},
   "source": [
    "$$\\large\n",
    "r_{env} = \\frac{A_{env}}{A_{A}}\n",
    "$$"
   ]
  },
  {
   "cell_type": "markdown",
   "metadata": {},
   "source": [
    "$A_{env}$：外皮の部位の面積の合計(m<sup>2</sup>) / Total area of the area of the hull  \n",
    "$A_{A}$：（当該住戸の）床面積の合計(m<sup>2</sup>) / Total floor area (of the relevant unit)  "
   ]
  },
  {
   "cell_type": "markdown",
   "metadata": {},
   "source": [
    "$$\\large\n",
    "A_{env} = \\sum_{i} A_{i} + \\sum_{k} A_{EF,k}\n",
    "$$"
   ]
  },
  {
   "cell_type": "markdown",
   "metadata": {},
   "source": [
    "$A_{EF,k}$：（当該住戸の）土間床等$k$の面積(m<sup>2</sup>) / Floor space (for the relevant unit) $k$ area  "
   ]
  },
  {
   "cell_type": "code",
   "execution_count": null,
   "metadata": {},
   "outputs": [],
   "source": [
    "def get_r_env(A_env, A_A):\n",
    "    \"\"\" 床面積の合計に対する外皮の部位の面積の合計の比 (7)\n",
    "\n",
    "    :param A_env: 外皮の部位の面積の合計 (m2)\n",
    "    :param A_A: 床面積の合計 (m2)\n",
    "    :type A_A: float\n",
    "    :return: 床面積の合計に対する外皮の部位の面積の合計の比\n",
    "    :rtype: float\n",
    "    \"\"\"\n",
    "\n",
    "    return A_env / A_A\n"
   ]
  },
  {
   "cell_type": "markdown",
   "metadata": {},
   "source": [
    "#### 8.4 外皮の部位の面積及び熱橋等の長さ等 / Area of hull part and length of heat bridge etc."
   ]
  },
  {
   "cell_type": "markdown",
   "metadata": {},
   "source": [
    "省略"
   ]
  },
  {
   "cell_type": "markdown",
   "metadata": {},
   "source": [
    "ommision"
   ]
  },
  {
   "cell_type": "markdown",
   "metadata": {},
   "source": [
    "#### 8.5 外皮の部位及び熱橋等の温度差係数 / Temperature difference coefficient of hull part and thermal bridge etc."
   ]
  },
  {
   "cell_type": "markdown",
   "metadata": {},
   "source": [
    "省略"
   ]
  },
  {
   "cell_type": "markdown",
   "metadata": {},
   "source": [
    "ommision"
   ]
  },
  {
   "cell_type": "markdown",
   "metadata": {},
   "source": [
    "#### 8.6 外皮の部位の方位係数 / Orientation coefficient of the area of the hull"
   ]
  },
  {
   "cell_type": "markdown",
   "metadata": {},
   "source": [
    "省略"
   ]
  },
  {
   "cell_type": "markdown",
   "metadata": {},
   "source": [
    "ommision"
   ]
  },
  {
   "cell_type": "markdown",
   "metadata": {},
   "source": [
    "#### 8.7 外皮の部位の熱貫流率及び熱橋等の線熱貫流率 / Heat transmission coefficient at the site of skin and linear heat transmission coefficient of heat bridge etc."
   ]
  },
  {
   "cell_type": "markdown",
   "metadata": {},
   "source": [
    "省略"
   ]
  },
  {
   "cell_type": "markdown",
   "metadata": {},
   "source": [
    "ommision"
   ]
  },
  {
   "cell_type": "markdown",
   "metadata": {},
   "source": [
    "#### 8.8 外皮の部位の日射熱取得率 / Solar heat gain rate at the site of hull"
   ]
  },
  {
   "cell_type": "markdown",
   "metadata": {},
   "source": [
    "省略"
   ]
  },
  {
   "cell_type": "markdown",
   "metadata": {},
   "source": [
    "ommision"
   ]
  }
 ],
 "metadata": {
  "kernelspec": {
   "display_name": "Python 3",
   "language": "python",
   "name": "python3"
  },
  "language_info": {
   "codemirror_mode": {
    "name": "ipython",
    "version": 3
   },
   "file_extension": ".py",
   "mimetype": "text/x-python",
   "name": "python",
   "nbconvert_exporter": "python",
   "pygments_lexer": "ipython3",
   "version": "3.8.5"
  }
 },
 "nbformat": 4,
 "nbformat_minor": 2
}
