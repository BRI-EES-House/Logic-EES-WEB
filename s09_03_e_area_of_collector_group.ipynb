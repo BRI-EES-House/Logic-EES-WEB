{
 "cells": [
  {
   "cell_type": "markdown",
   "metadata": {},
   "source": [
    "## 付録 E 集熱器群の面積及び集熱後の空気を供給する床下の面積 / Appendix E  Area of collector group and area under the floor to supply air after collecting heat"
   ]
  },
  {
   "cell_type": "markdown",
   "metadata": {},
   "source": [
    "### E.1 集熱器群の面積 / Area of collector group"
   ]
  },
  {
   "cell_type": "markdown",
   "metadata": {},
   "source": [
    "集熱器群$j$の面積$A_{col,j}$は、集熱器群$j$を構成する集熱器の面積の合計とする。集熱器の面積は、小数点第二位を四捨五入した値とする。 "
   ]
  },
  {
   "cell_type": "markdown",
   "metadata": {},
   "source": [
    "The area $ A_ {col, j} $ of the collector group $ j $ is the sum of the areas of the collectors constituting the collector group $ j $. The area of the heat collector shall be rounded to the second decimal place."
   ]
  },
  {
   "cell_type": "code",
   "execution_count": null,
   "metadata": {},
   "outputs": [],
   "source": [
    "def get_A_col_j(A_col_j_raw):\n",
    "    \"\"\"集熱器の面積\n",
    "\n",
    "    :param A_col_j_raw: 集熱器群jの面積\n",
    "    :type A_col_j_raw: float\n",
    "    :return: 集熱器群jの面積の小数点第二位を四捨五入した値\n",
    "    :rtype:　float\n",
    "    \"\"\"\n",
    "    return round(A_col_j_raw * 10) / 10"
   ]
  },
  {
   "cell_type": "markdown",
   "metadata": {},
   "source": [
    "### E.2 集熱後の空気を供給する床下の面積 / Area under the floor to supply air after heat collection"
   ]
  },
  {
   "cell_type": "markdown",
   "metadata": {},
   "source": [
    "省略"
   ]
  },
  {
   "cell_type": "markdown",
   "metadata": {},
   "source": [
    "Omission"
   ]
  }
 ],
 "metadata": {
  "kernelspec": {
   "display_name": "Python 3",
   "language": "python",
   "name": "python3"
  },
  "language_info": {
   "codemirror_mode": {
    "name": "ipython",
    "version": 3
   },
   "file_extension": ".py",
   "mimetype": "text/x-python",
   "name": "python",
   "nbconvert_exporter": "python",
   "pygments_lexer": "ipython3",
   "version": "3.6.6"
  },
  "toc": {
   "base_numbering": 1,
   "nav_menu": {},
   "number_sections": false,
   "sideBar": true,
   "skip_h1_title": false,
   "title_cell": "Table of Contents",
   "title_sidebar": "Contents",
   "toc_cell": false,
   "toc_position": {},
   "toc_section_display": true,
   "toc_window_display": false
  }
 },
 "nbformat": 4,
 "nbformat_minor": 2
}
