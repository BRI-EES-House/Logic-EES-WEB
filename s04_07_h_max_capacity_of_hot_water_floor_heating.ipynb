{
 "cells": [
  {
   "cell_type": "markdown",
   "metadata": {},
   "source": [
    "使用許諾条件\n",
    "\n",
    "①\t設計一次エネルギー消費量算定法に基づく計算方法をPythonによりコーディングし、Jupyter notebook形式で保存したファイル（以下、本ファイルと呼ぶ）の著作権は、一般社団法人日本サステナブル建築協会に帰属します。\n",
    "Copyright©2019. 一般社団法人日本サステナブル建築協会\n",
    "All rights reserved. \n",
    "\n",
    "②\t本ファイルは、住戸の設計一次エネルギー消費量算定方法に係る「平成28年省エネルギー基準に準拠したエネルギー消費性能の評価に関する技術情報（住宅）2.1算定方法（第四章第七節 温水暖房）」に示す計算方法に基づき、国土交通省国土技術政策総合研究所・国立研究開発法人建築研究所、株式会社ユーワークス、株式会社住環境計画研究所が作成したものです。\n",
    "\n",
    "③\t本ファイルは、計算方法に示す計算過程の確認及び調査研究等に活用することを目的として作成されたものであり、一般社団法人日本サステナブル建築協会は著作権について放棄はしませんが、使用する各人の自己責任において仕様を変更することを妨げるものではありません。ただし、本ファイルによる計算結果を住宅の省エネルギー基準で規定する設計一次エネルギー消費量の結果として公的な申請に用いることはできません。\n",
    "\n",
    "④\t本ファイルを変更するかしないかを問わず、以下の条件を満たす場合に限り、頒布および使用が許可されます。\n",
    "1.\t頒布物の付属ドキュメント等の資料に、上記の著作権表示、本条件一覧、および下記免責条項を含めること。\n",
    "2.\t書面による特別の許可なしに、本ファイルから派生した製品の宣伝または販売の促進に、一般社団法人日本サステナブル建築協会、国土技術政策総合研究所・国立研究開発法人建築研究所および株式会社ユーワークス、株式会社住環境計画研究所の名前またはコントリビューターの名前を使用してはならない。\n",
    "\n",
    "⑤\t本ファイルは、著作権者およびコントリビューターによって「現状のまま」提供されており、明示黙示を問わず、商業的な使用可能性、および特定の目的に対する適合性に関する暗黙の保証も含め、またそれに限定されない、いかなる保証もありません。著作権もコントリビューターも、事由のいかんを問わず、損害発生の原因いかんを問わず、かつ責任の根拠が契約であるか厳格責任であるか（過失その他の）不法行為であるかを問わず、仮にそのような損害が発生する可能性を知らされていたとしても、本ファイルの使用によって発生した（代用品または代用サービスの調達、使用の喪失、データの喪失、利益の喪失、業務の中断も含め、またそれに限定されない）直接損害、間接損害、偶発的な損害、特別損害、懲罰的損害、または結果損害について、一切の責任を負わないものとします。\n",
    "\n"
   ]
  },
  {
   "cell_type": "code",
   "execution_count": null,
   "metadata": {},
   "outputs": [],
   "source": [
    "import nbimporter\n",
    "from s03_01_hc_load_general import get_A_HCZ_i"
   ]
  },
  {
   "cell_type": "markdown",
   "metadata": {},
   "source": [
    "## 付録H　温水暖房用熱源機の最大能力 / Appendix H Maximum capacity of heat source equipment for hot water heating "
   ]
  },
  {
   "cell_type": "markdown",
   "metadata": {},
   "source": [
    "### H.1 記号及び単位 / Symbol and unit"
   ]
  },
  {
   "cell_type": "markdown",
   "metadata": {},
   "source": [
    "省略"
   ]
  },
  {
   "cell_type": "markdown",
   "metadata": {},
   "source": [
    "ommision"
   ]
  },
  {
   "cell_type": "markdown",
   "metadata": {},
   "source": [
    "### H.2 温水暖房用熱源機の最大能力 / Maximum capacity of heat source equipment for hot water heating"
   ]
  },
  {
   "cell_type": "markdown",
   "metadata": {},
   "source": [
    "$$\\large\n",
    "q_{max,hs} = q_{rq,H} \\times \\sum_{i} A_{HCZ,i} \\times f_{cT} \\times f_{cI}\n",
    "$$"
   ]
  },
  {
   "cell_type": "markdown",
   "metadata": {},
   "source": [
    "$q_{max,hs}$：温水暖房用熱源機の最大能力(W) / Maximum capacity of heat source equipment for hot water heating  \n",
    "$q_{rq,H}$：単位面積当たりの必要暖房能力(W/m<sup>2</sup>) / Required heating capacity per unit area  \n",
    "$A_{HCZ,i}$：暖冷房区画$i$の床面積(m<sup>2</sup>) / Floor area of heating / cooling section $ i $  \n",
    "$f_{cT}$：外気温度能力補正係数 / Outside air temperature ability correction factor  \n",
    "$f_{cI}$：間歇運転能力補正係数 / Intermittent driving ability correction factor"
   ]
  },
  {
   "cell_type": "code",
   "execution_count": null,
   "metadata": {},
   "outputs": [],
   "source": [
    "def calc_q_max_hs(region, A_A, A_MR, A_OR, mode_MR, mode_OR, has_MR_hwh, has_OR_hwh):\n",
    "    \"\"\" 温水暖房用熱源機の最大能力 (1)\n",
    "\n",
    "    :param region: 省エネルギー地域区分\n",
    "    :type region: int\n",
    "    :param A_A: 床面積の合計 (m2)\n",
    "    :type A_A: float\n",
    "    :param A_MR: 主たる居室の床面積 (m2)\n",
    "    :type A_MR: float\n",
    "    :param A_OR: その他の居室の床面積 (m2)\n",
    "    :type A_OR: float\n",
    "    :param mode_MR: 主たる居室の運転モード 'い', 'ろ', 'は'\n",
    "    :type mode_MR: str\n",
    "    :param mode_OR: その他の居室の運転モード 'い', 'ろ', 'は'\n",
    "    :type mode_OR: str\n",
    "    :param has_MR_hwh: 温水暖房の放熱器を主たる居室に設置する場合はTrue\n",
    "    :type has_MR_hwh: bool\n",
    "    :param has_MR_hwh: 温水暖房の放熱器を主たる居室に設置する場合はTrue\n",
    "    :type has_OR_hwh: bool\n",
    "    :return: 温水暖房用熱源機の最大能力 (W)\n",
    "    :rtype: float\n",
    "    \"\"\"\n",
    "\n",
    "    # 単位面積当たりの必要暖房能力\n",
    "    q_rq_H = get_q_rq_H(region, has_MR_hwh, has_OR_hwh)\n",
    "\n",
    "    # 外気温度補正係数\n",
    "    f_cT = get_f_cT()\n",
    "\n",
    "    # 間歇運転能力補正係数\n",
    "    f_cI = get_f_cI(mode_MR, mode_OR, has_MR_hwh, has_OR_hwh)\n",
    "\n",
    "    # 暖冷房区画の床面積(温水暖房により暖 房される暖冷房区画のみを積算する)\n",
    "    A_HCZ_hs = 0\n",
    "    if has_MR_hwh:\n",
    "        A_HCZ_hs = get_A_HCZ_i(1, A_A, A_MR, A_OR)\n",
    "    if has_OR_hwh:\n",
    "        A_HCZ_hs = A_HCZ_hs + sum([get_A_HCZ_i(i, A_A, A_MR, A_OR) for i in range(2, 6)])\n",
    "\n",
    "    return q_rq_H * A_HCZ_hs * f_cT * f_cI"
   ]
  },
  {
   "cell_type": "code",
   "execution_count": null,
   "metadata": {},
   "outputs": [],
   "source": [
    "def get_q_rq_H(region, has_MR_hwh, has_OR_hwh):\n",
    "    \"\"\" 単位面積当たりの必要暖房能力 (W/m2)\n",
    "\n",
    "    :param region: 省エネルギー地域区分\n",
    "    :type region: int\n",
    "    :param has_MR_hwh: 温水暖房の放熱器を主たる居室に設置する場合はTrue\n",
    "    :type has_MR_hwh: bool\n",
    "    :param has_OR_hwh: 温水暖房の放熱器をその他の居室に設置する場合はTrue\n",
    "    :type has_OR_hwh: bool\n",
    "    :return: 単位面積当たりの必要暖房能力 (W/m2)\n",
    "    :rtype: float\n",
    "    \"\"\"\n",
    "\n",
    "    if has_MR_hwh and has_OR_hwh:\n",
    "        return get_table_h_3()[region - 1][0]\n",
    "    elif has_MR_hwh:\n",
    "        return get_table_h_3()[region - 1][1]\n",
    "    elif has_OR_hwh:\n",
    "        return get_table_h_3()[region - 1][2]\n",
    "    else:\n",
    "        raise ValueError('温水暖房の放熱器を主たる居室にもその他の居室にも設置しない場合の単位面積当たりの必要暖房能力は定義されません。')\n"
   ]
  },
  {
   "cell_type": "markdown",
   "metadata": {},
   "source": [
    "外気温度補正係数$f_{cT}$は、1.05の値とする。"
   ]
  },
  {
   "cell_type": "markdown",
   "metadata": {},
   "source": [
    "The outside air temperature correction coefficient $ f_ {cT} $ has a value of 1.05."
   ]
  },
  {
   "cell_type": "code",
   "execution_count": null,
   "metadata": {},
   "outputs": [],
   "source": [
    "def get_f_cT():\n",
    "    \"\"\" 外気温度補正係数\n",
    "\n",
    "    :return: 外気温度補正係数\n",
    "    :rtype: float\n",
    "    \"\"\"\n",
    "\n",
    "    return 1.05\n"
   ]
  },
  {
   "cell_type": "code",
   "execution_count": null,
   "metadata": {},
   "outputs": [],
   "source": [
    "def get_f_cI(mode_MR, mode_OR, has_MR_hwh, has_OR_hwh):\n",
    "    \"\"\" 間歇運転能力補正係数\n",
    "\n",
    "    :param mode_MR: 主たる居室の運転方法 (連続運転|間歇運転)\n",
    "    :type mode_MR: str\n",
    "    :param mode_OR: その他の居室の運転方法 (連続運転|間歇運転)\n",
    "    :type mode_OR: str\n",
    "    :param has_MR_hwh: 温水暖房の放熱器を主たる居室に設置する場合はTrue\n",
    "    :type has_MR_hwh: bool\n",
    "    :param has_OR_hwh: 温水暖房の放熱器をその他の居室に設置する場合はTrue\n",
    "    :type has_OR_hwh: bool\n",
    "    :return: 間歇運転能力補正係数\n",
    "    :rtype: float\n",
    "    \"\"\"\n",
    "    def normalize_mode(s):\n",
    "        if s == 'は':\n",
    "            return '間歇運転'\n",
    "        if s == 'ろ':\n",
    "            return '連続運転'\n",
    "        return s\n",
    "\n",
    "    mode_MR = normalize_mode(mode_MR)\n",
    "    mode_OR = normalize_mode(mode_OR)\n",
    "\n",
    "    if has_MR_hwh and has_OR_hwh:\n",
    "        if mode_MR == '連続運転':\n",
    "            if mode_OR == '連続運転':\n",
    "                return get_table_h_4()[0]\n",
    "            elif mode_OR == '間歇運転':\n",
    "                return get_table_h_4()[1]\n",
    "            else:\n",
    "                raise ValueError(mode_OR)\n",
    "        elif mode_MR == '間歇運転':\n",
    "            if mode_OR == '連続運転':\n",
    "                return get_table_h_4()[2]\n",
    "            elif mode_OR == '間歇運転':\n",
    "                return get_table_h_4()[3]\n",
    "            else:\n",
    "                raise ValueError(mode_MR)\n",
    "        else:\n",
    "            raise ValueError(mode_MR)\n",
    "    elif has_MR_hwh:\n",
    "        if mode_MR == '連続運転':\n",
    "            return get_table_h_4()[4]\n",
    "        elif mode_MR == '間歇運転':\n",
    "            return get_table_h_4()[5]\n",
    "        else:\n",
    "            raise ValueError(mode_MR)\n",
    "    elif has_OR_hwh:\n",
    "        if mode_OR == '連続運転':\n",
    "            return get_table_h_4()[6]\n",
    "        elif mode_OR == '間歇運転':\n",
    "            return get_table_h_4()[7]\n",
    "        else:\n",
    "            raise ValueError(mode_OR)"
   ]
  },
  {
   "cell_type": "markdown",
   "metadata": {},
   "source": [
    "<div style=\"text-align: center;font-weight: bold;\">表　単位面積当たりの必要暖房能力(W/m<sup>2</sup>)<br>Table: Required heating capacity per unit area</div>\n",
    "\n",
    "|地域の区分<br>Segmentation of area|（い）温水暖房の放熱器を主たる居室及びその他の居室に設置する場合<br>(I) When installing a radiator of hot water heating in the main room and other rooms|（ろ）温水暖房の放熱器を主たる居室に設置しその他の居室に設置しない場合<br>(RO) When the radiator of hot water heating is installed in the main room and not installed in other rooms|（は）温水暖房の放熱器を主たる居室に設置せずその他の居室に設置する場合<br>(HA) When installing in a room other than the main room without installing a radiator for hot water heating|\n",
    "|-|-|-|-|\n",
    "|1|90.02|139.26|62.28|\n",
    "|2|77.81|120.65|53.26|\n",
    "|3|73.86|111.32|53.81|\n",
    "|4|77.74|118.98|55.41|\n",
    "|5|83.24|126.56|59.43|\n",
    "|6|69.76|106.48|49.93|\n",
    "|7|74.66|112.91|53.48|\n",
    "|8|－|－|－|\n"
   ]
  },
  {
   "cell_type": "code",
   "execution_count": null,
   "metadata": {},
   "outputs": [],
   "source": [
    "def get_table_h_3():\n",
    "    \"\"\" 表 H.3 単位面積当たりの必要暖房能力\n",
    "\n",
    "    :return: 表 H.3 単位面積当たりの必要暖房能力\n",
    "    :rtype: list\n",
    "    \"\"\"\n",
    "    table_h_3 = [\n",
    "        (90.02, 139.26, 62.28),\n",
    "        (77.81, 120.65, 53.26),\n",
    "        (73.86, 111.32, 53.81),\n",
    "        (77.74, 118.98, 55.41),\n",
    "        (83.24, 126.56, 59.43),\n",
    "        (69.76, 106.48, 49.94),\n",
    "        (74.66, 112.91, 53.48)\n",
    "    ]\n",
    "    return table_h_3\n"
   ]
  },
  {
   "cell_type": "markdown",
   "metadata": {},
   "source": [
    "<div style=\"text-align: center;font-weight: bold;\">表　間歇運転能力補正係数<br>Table: Intermittent driving ability correction factor</div>\n",
    "\n",
    "|主たる居室の運転方法<br>How to operate the main room|その他の居室の運転方法<br>How to operate other rooms|間歇運転能力補正係数<br>Intermittent driving ability correction factor|\n",
    "|-|-|-|\n",
    "|連続運転<br>Continuous operation|連続運転<br>Continuous operation|1.0|\n",
    "|連続運転<br>Continuous operation|間歇運転<br>Intermittent operation|1.0|\n",
    "|間歇運転<br>Intermittent operation|連続運転<br>Continuous operation|2.25|\n",
    "|間歇運転<br>Intermittent operation|間歇運転<br>Intermittent operation|2.25|\n",
    "|連続運転<br>Continuous operation|放熱器を設置しない<sup>※</sup><br>Do not install a radiator|1.0|\n",
    "|間歇運転<br>Intermittent operation|放熱器を設置しない<sup>※</sup><br>Do not install a radiator|3.03|\n",
    "|放熱器を設置しない<br>Do not install a radiator|連続運転<br>Continuous operation|1.0|\n",
    "|放熱器を設置しない<br>Do not install a radiator|間歇運転<br>Intermittent operation|1.62|\n"
   ]
  },
  {
   "cell_type": "markdown",
   "metadata": {},
   "source": [
    "※ その他の居室が無い場合も含む。 "
   ]
  },
  {
   "cell_type": "markdown",
   "metadata": {},
   "source": [
    "※ Including cases where there are no other rooms."
   ]
  },
  {
   "cell_type": "code",
   "execution_count": null,
   "metadata": {},
   "outputs": [],
   "source": [
    "def get_table_h_4():\n",
    "    \"\"\" 表 H.4 間歇運転能力補正係数\n",
    "\n",
    "    :return: 表 H.4 間歇運転能力補正係数\n",
    "    :rtype: list\n",
    "    \"\"\"\n",
    "    table_h_4 = [\n",
    "        1.0,\n",
    "        1.0,\n",
    "        2.25,\n",
    "        2.25,\n",
    "        1.0,\n",
    "        3.03,\n",
    "        1.0,\n",
    "        1.62\n",
    "    ]\n",
    "    return table_h_4\n"
   ]
  }
 ],
 "metadata": {
  "kernelspec": {
   "display_name": "Python 3",
   "language": "python",
   "name": "python3"
  },
  "language_info": {
   "codemirror_mode": {
    "name": "ipython",
    "version": 3
   },
   "file_extension": ".py",
   "mimetype": "text/x-python",
   "name": "python",
   "nbconvert_exporter": "python",
   "pygments_lexer": "ipython3",
   "version": "3.6.6"
  },
  "toc": {
   "base_numbering": 1,
   "nav_menu": {},
   "number_sections": false,
   "sideBar": true,
   "skip_h1_title": false,
   "title_cell": "Table of Contents",
   "title_sidebar": "Contents",
   "toc_cell": false,
   "toc_position": {},
   "toc_section_display": true,
   "toc_window_display": false
  }
 },
 "nbformat": 4,
 "nbformat_minor": 2
}
