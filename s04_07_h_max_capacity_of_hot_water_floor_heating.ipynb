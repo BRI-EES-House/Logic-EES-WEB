{
 "cells": [
  {
   "cell_type": "code",
   "execution_count": null,
   "metadata": {},
   "outputs": [],
   "source": [
    "import nbimporter\n",
    "from s03_01_hc_load_general import get_A_HCZ_i"
   ]
  },
  {
   "cell_type": "markdown",
   "metadata": {},
   "source": [
    "## 付録H　温水暖房用熱源機の最大能力 / Appendix H Maximum capacity of heat source equipment for hot water heating "
   ]
  },
  {
   "cell_type": "markdown",
   "metadata": {},
   "source": [
    "### H.1 記号及び単位 / Symbol and unit"
   ]
  },
  {
   "cell_type": "markdown",
   "metadata": {},
   "source": [
    "省略"
   ]
  },
  {
   "cell_type": "markdown",
   "metadata": {},
   "source": [
    "ommision"
   ]
  },
  {
   "cell_type": "markdown",
   "metadata": {},
   "source": [
    "### H.2 温水暖房用熱源機の最大能力 / Maximum capacity of heat source equipment for hot water heating"
   ]
  },
  {
   "cell_type": "markdown",
   "metadata": {},
   "source": [
    "$$\\large\n",
    "q_{max,hs} = q_{rq,H} \\times \\sum_{i} A_{HCZ,i} \\times f_{cT} \\times f_{cI}\n",
    "$$"
   ]
  },
  {
   "cell_type": "markdown",
   "metadata": {},
   "source": [
    "$q_{max,hs}$：温水暖房用熱源機の最大能力(W) / Maximum capacity of heat source equipment for hot water heating  \n",
    "$q_{rq,H}$：単位面積当たりの必要暖房能力(W/m<sup>2</sup>) / Required heating capacity per unit area  \n",
    "$A_{HCZ,i}$：暖冷房区画$i$の床面積(m<sup>2</sup>) / Floor area of heating / cooling section $ i $  \n",
    "$f_{cT}$：外気温度能力補正係数 / Outside air temperature ability correction factor  \n",
    "$f_{cI}$：間歇運転能力補正係数 / Intermittent driving ability correction factor"
   ]
  },
  {
   "cell_type": "code",
   "execution_count": null,
   "metadata": {},
   "outputs": [],
   "source": [
    "def calc_q_max_hs(region, A_A, A_MR, A_OR, mode_MR, mode_OR, has_MR_hwh, has_OR_hwh):\n",
    "    \"\"\" 温水暖房用熱源機の最大能力 (1)\n",
    "\n",
    "    :param region: 省エネルギー地域区分\n",
    "    :type region: int\n",
    "    :param A_A: 床面積の合計 (m2)\n",
    "    :type A_A: float\n",
    "    :param A_MR: 主たる居室の床面積 (m2)\n",
    "    :type A_MR: float\n",
    "    :param A_OR: その他の居室の床面積 (m2)\n",
    "    :type A_OR: float\n",
    "    :param mode_MR: 主たる居室の運転モード 'い', 'ろ', 'は'\n",
    "    :type mode_MR: str\n",
    "    :param mode_OR: その他の居室の運転モード 'い', 'ろ', 'は'\n",
    "    :type mode_OR: str\n",
    "    :param has_MR_hwh: 温水暖房の放熱器を主たる居室に設置する場合はTrue\n",
    "    :type has_MR_hwh: bool\n",
    "    :param has_MR_hwh: 温水暖房の放熱器を主たる居室に設置する場合はTrue\n",
    "    :type has_OR_hwh: bool\n",
    "    :return: 温水暖房用熱源機の最大能力 (W)\n",
    "    :rtype: float\n",
    "    \"\"\"\n",
    "\n",
    "    # 単位面積当たりの必要暖房能力\n",
    "    q_rq_H = get_q_rq_H(region, has_MR_hwh, has_OR_hwh)\n",
    "\n",
    "    # 外気温度補正係数\n",
    "    f_cT = get_f_cT()\n",
    "\n",
    "    # 間歇運転能力補正係数\n",
    "    f_cI = get_f_cI(mode_MR, mode_OR, has_MR_hwh, has_OR_hwh)\n",
    "\n",
    "    # 暖冷房区画の床面積(温水暖房により暖 房される暖冷房区画のみを積算する)\n",
    "    A_HCZ_hs = 0\n",
    "    if has_MR_hwh:\n",
    "        A_HCZ_hs = get_A_HCZ_i(1, A_A, A_MR, A_OR)\n",
    "    if has_OR_hwh:\n",
    "        A_HCZ_hs = A_HCZ_hs + sum([get_A_HCZ_i(i, A_A, A_MR, A_OR) for i in range(2, 6)])\n",
    "\n",
    "    return q_rq_H * A_HCZ_hs * f_cT * f_cI"
   ]
  },
  {
   "cell_type": "code",
   "execution_count": null,
   "metadata": {},
   "outputs": [],
   "source": [
    "def get_q_rq_H(region, has_MR_hwh, has_OR_hwh):\n",
    "    \"\"\" 単位面積当たりの必要暖房能力 (W/m2)\n",
    "\n",
    "    :param region: 省エネルギー地域区分\n",
    "    :type region: int\n",
    "    :param has_MR_hwh: 温水暖房の放熱器を主たる居室に設置する場合はTrue\n",
    "    :type has_MR_hwh: bool\n",
    "    :param has_OR_hwh: 温水暖房の放熱器をその他の居室に設置する場合はTrue\n",
    "    :type has_OR_hwh: bool\n",
    "    :return: 単位面積当たりの必要暖房能力 (W/m2)\n",
    "    :rtype: float\n",
    "    \"\"\"\n",
    "\n",
    "    if has_MR_hwh and has_OR_hwh:\n",
    "        return get_table_h_3()[region - 1][0]\n",
    "    elif has_MR_hwh:\n",
    "        return get_table_h_3()[region - 1][1]\n",
    "    elif has_OR_hwh:\n",
    "        return get_table_h_3()[region - 1][2]\n",
    "    else:\n",
    "        raise ValueError('温水暖房の放熱器を主たる居室にもその他の居室にも設置しない場合の単位面積当たりの必要暖房能力は定義されません。')\n"
   ]
  },
  {
   "cell_type": "markdown",
   "metadata": {},
   "source": [
    "外気温度補正係数$f_{cT}$は、1.05の値とする。"
   ]
  },
  {
   "cell_type": "markdown",
   "metadata": {},
   "source": [
    "The outside air temperature correction coefficient $ f_ {cT} $ has a value of 1.05."
   ]
  },
  {
   "cell_type": "code",
   "execution_count": null,
   "metadata": {},
   "outputs": [],
   "source": [
    "def get_f_cT():\n",
    "    \"\"\" 外気温度補正係数\n",
    "\n",
    "    :return: 外気温度補正係数\n",
    "    :rtype: float\n",
    "    \"\"\"\n",
    "\n",
    "    return 1.05\n"
   ]
  },
  {
   "cell_type": "code",
   "execution_count": null,
   "metadata": {},
   "outputs": [],
   "source": [
    "def get_f_cI(mode_MR, mode_OR, has_MR_hwh, has_OR_hwh):\n",
    "    \"\"\" 間歇運転能力補正係数\n",
    "\n",
    "    :param mode_MR: 主たる居室の運転方法 (連続運転|間歇運転)\n",
    "    :type mode_MR: str\n",
    "    :param mode_OR: その他の居室の運転方法 (連続運転|間歇運転)\n",
    "    :type mode_OR: str\n",
    "    :param has_MR_hwh: 温水暖房の放熱器を主たる居室に設置する場合はTrue\n",
    "    :type has_MR_hwh: bool\n",
    "    :param has_OR_hwh: 温水暖房の放熱器をその他の居室に設置する場合はTrue\n",
    "    :type has_OR_hwh: bool\n",
    "    :return: 間歇運転能力補正係数\n",
    "    :rtype: float\n",
    "    \"\"\"\n",
    "    def normalize_mode(s):\n",
    "        if s == 'は':\n",
    "            return '間歇運転'\n",
    "        if s == 'ろ':\n",
    "            return '連続運転'\n",
    "        return s\n",
    "\n",
    "    mode_MR = normalize_mode(mode_MR)\n",
    "    mode_OR = normalize_mode(mode_OR)\n",
    "\n",
    "    if has_MR_hwh and has_OR_hwh:\n",
    "        if mode_MR == '連続運転':\n",
    "            if mode_OR == '連続運転':\n",
    "                return get_table_h_4()[0]\n",
    "            elif mode_OR == '間歇運転':\n",
    "                return get_table_h_4()[1]\n",
    "            else:\n",
    "                raise ValueError(mode_OR)\n",
    "        elif mode_MR == '間歇運転':\n",
    "            if mode_OR == '連続運転':\n",
    "                return get_table_h_4()[2]\n",
    "            elif mode_OR == '間歇運転':\n",
    "                return get_table_h_4()[3]\n",
    "            else:\n",
    "                raise ValueError(mode_MR)\n",
    "        else:\n",
    "            raise ValueError(mode_MR)\n",
    "    elif has_MR_hwh:\n",
    "        if mode_MR == '連続運転':\n",
    "            return get_table_h_4()[4]\n",
    "        elif mode_MR == '間歇運転':\n",
    "            return get_table_h_4()[5]\n",
    "        else:\n",
    "            raise ValueError(mode_MR)\n",
    "    elif has_OR_hwh:\n",
    "        if mode_OR == '連続運転':\n",
    "            return get_table_h_4()[6]\n",
    "        elif mode_OR == '間歇運転':\n",
    "            return get_table_h_4()[7]\n",
    "        else:\n",
    "            raise ValueError(mode_OR)"
   ]
  },
  {
   "cell_type": "markdown",
   "metadata": {},
   "source": [
    "<div style=\"text-align: center;font-weight: bold;\">表　単位面積当たりの必要暖房能力(W/m<sup>2</sup>)<br>Table: Required heating capacity per unit area</div>\n",
    "\n",
    "|地域の区分<br>Segmentation of area|（い）温水暖房の放熱器を主たる居室及びその他の居室に設置する場合<br>(I) When installing a radiator of hot water heating in the main room and other rooms|（ろ）温水暖房の放熱器を主たる居室に設置しその他の居室に設置しない場合<br>(RO) When the radiator of hot water heating is installed in the main room and not installed in other rooms|（は）温水暖房の放熱器を主たる居室に設置せずその他の居室に設置する場合<br>(HA) When installing in a room other than the main room without installing a radiator for hot water heating|\n",
    "|-|-|-|-|\n",
    "|1|90.02|139.26|62.28|\n",
    "|2|77.81|120.65|53.26|\n",
    "|3|73.86|111.32|53.81|\n",
    "|4|77.74|118.98|55.41|\n",
    "|5|83.24|126.56|59.43|\n",
    "|6|69.76|106.48|49.93|\n",
    "|7|74.66|112.91|53.48|\n",
    "|8|－|－|－|\n"
   ]
  },
  {
   "cell_type": "code",
   "execution_count": null,
   "metadata": {},
   "outputs": [],
   "source": [
    "def get_table_h_3():\n",
    "    \"\"\" 表 H.3 単位面積当たりの必要暖房能力\n",
    "\n",
    "    :return: 表 H.3 単位面積当たりの必要暖房能力\n",
    "    :rtype: list\n",
    "    \"\"\"\n",
    "    table_h_3 = [\n",
    "        (90.02, 139.26, 62.28),\n",
    "        (77.81, 120.65, 53.26),\n",
    "        (73.86, 111.32, 53.81),\n",
    "        (77.74, 118.98, 55.41),\n",
    "        (83.24, 126.56, 59.43),\n",
    "        (69.76, 106.48, 49.94),\n",
    "        (74.66, 112.91, 53.48)\n",
    "    ]\n",
    "    return table_h_3\n"
   ]
  },
  {
   "cell_type": "markdown",
   "metadata": {},
   "source": [
    "<div style=\"text-align: center;font-weight: bold;\">表　間歇運転能力補正係数<br>Table: Intermittent driving ability correction factor</div>\n",
    "\n",
    "|主たる居室の運転方法<br>How to operate the main room|その他の居室の運転方法<br>How to operate other rooms|間歇運転能力補正係数<br>Intermittent driving ability correction factor|\n",
    "|-|-|-|\n",
    "|連続運転<br>Continuous operation|連続運転<br>Continuous operation|1.0|\n",
    "|連続運転<br>Continuous operation|間歇運転<br>Intermittent operation|1.0|\n",
    "|間歇運転<br>Intermittent operation|連続運転<br>Continuous operation|2.25|\n",
    "|間歇運転<br>Intermittent operation|間歇運転<br>Intermittent operation|2.25|\n",
    "|連続運転<br>Continuous operation|放熱器を設置しない<sup>※</sup><br>Do not install a radiator|1.0|\n",
    "|間歇運転<br>Intermittent operation|放熱器を設置しない<sup>※</sup><br>Do not install a radiator|3.03|\n",
    "|放熱器を設置しない<br>Do not install a radiator|連続運転<br>Continuous operation|1.0|\n",
    "|放熱器を設置しない<br>Do not install a radiator|間歇運転<br>Intermittent operation|1.62|\n"
   ]
  },
  {
   "cell_type": "markdown",
   "metadata": {},
   "source": [
    "※ その他の居室が無い場合も含む。 "
   ]
  },
  {
   "cell_type": "markdown",
   "metadata": {},
   "source": [
    "※ Including cases where there are no other rooms."
   ]
  },
  {
   "cell_type": "code",
   "execution_count": null,
   "metadata": {},
   "outputs": [],
   "source": [
    "def get_table_h_4():\n",
    "    \"\"\" 表 H.4 間歇運転能力補正係数\n",
    "\n",
    "    :return: 表 H.4 間歇運転能力補正係数\n",
    "    :rtype: list\n",
    "    \"\"\"\n",
    "    table_h_4 = [\n",
    "        1.0,\n",
    "        1.0,\n",
    "        2.25,\n",
    "        2.25,\n",
    "        1.0,\n",
    "        3.03,\n",
    "        1.0,\n",
    "        1.62\n",
    "    ]\n",
    "    return table_h_4\n"
   ]
  }
 ],
 "metadata": {
  "kernelspec": {
   "display_name": "Python 3",
   "language": "python",
   "name": "python3"
  },
  "language_info": {
   "codemirror_mode": {
    "name": "ipython",
    "version": 3
   },
   "file_extension": ".py",
   "mimetype": "text/x-python",
   "name": "python",
   "nbconvert_exporter": "python",
   "pygments_lexer": "ipython3",
   "version": "3.8.5"
  },
  "toc": {
   "base_numbering": 1,
   "nav_menu": {},
   "number_sections": false,
   "sideBar": true,
   "skip_h1_title": false,
   "title_cell": "Table of Contents",
   "title_sidebar": "Contents",
   "toc_cell": false,
   "toc_position": {},
   "toc_section_display": true,
   "toc_window_display": false
  }
 },
 "nbformat": 4,
 "nbformat_minor": 2
}
