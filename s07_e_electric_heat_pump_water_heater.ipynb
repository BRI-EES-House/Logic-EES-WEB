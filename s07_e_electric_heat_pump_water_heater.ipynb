{
 "cells": [
  {
   "cell_type": "markdown",
   "metadata": {},
   "source": [
    "# 付録 E 電気ヒートポンプ給湯機 "
   ]
  },
  {
   "cell_type": "markdown",
   "metadata": {},
   "source": [
    "## 消費電力量 "
   ]
  },
  {
   "cell_type": "markdown",
   "metadata": {},
   "source": [
    "$$\n",
    "E_{E,hs} = \\{ f_{ex} \\times \\theta_{ex,NAve} + f_{L} \\times L'' + f_{e,rtd} \\times e_{rtd} + f_{itc} \\} \\times ( 1 + f_{mode2} \\times r_{mode2}) \\times C_{LT}  \\times C_{def} \\times 10^3 \\div 3600\n",
    "$$"
   ]
  },
  {
   "cell_type": "markdown",
   "metadata": {},
   "source": [
    "$E_{E,hs}$ ：1日当たりの給湯機の消費電力量（kWh/d）  \n",
    "$\\theta_{ex,NAve}$ ：夜間平均外気温度（℃）  \n",
    "$L''$ ：1日当たりの太陽熱補正給湯熱負荷（MJ/d）  \n",
    "$r_{mode2}$ ：制御におけるセカンドモードの割合  \n",
    "$e_{rtd}$ ：当該給湯機の効率  \n",
    "$C_{LT}$ ：1日当たりの低外気温領域でのヒートポンプ効率低下による補正係数  \n",
    "$C_{def}$ ：1日当たりのデフロスト運転による補正係数  "
   ]
  },
  {
   "cell_type": "markdown",
   "metadata": {},
   "source": [
    "$f_{ex}$及び$f_{L}$, $f_{e,rtd}$, $f_{itc}$, $ f_{mode2}$は表 E.3 に定める値とする。 "
   ]
  },
  {
   "cell_type": "markdown",
   "metadata": {},
   "source": [
    "<center>**表 E.3 係数**</center>\n",
    "\n",
    "|係数|値|\n",
    "|-|-|\n",
    "|$f_{ex}$|-0.302|\n",
    "|$f_{L}$|0.263|\n",
    "|$f_{e,rtd}$|-4.383|\n",
    "|$f_{itc}$|20.754|\n",
    "|$f_{mode2}$|0.235|"
   ]
  },
  {
   "cell_type": "markdown",
   "metadata": {},
   "source": [
    "当該給湯機の効率$e_{rtd}$は、2.7 とするか、対象機器の JIS C 9220 に基づく年間給湯保温効率（JIS）、年間給湯効率（JIS）、M1 スタンダードに基づく JIS 相当効率を用いることができる。設置する機種に、JIS C 9220 に基づく年間給湯保温効率（JIS）又は年間給湯効率（JIS）の値が表示されておらず、代わりに、日本冷凍空調工業会標準規格 JRA4050:2007R に基づく年間給湯効率（APF）が表示されている場合は、式(2a)又は(2b)により換算することができる。 "
   ]
  },
  {
   "cell_type": "markdown",
   "metadata": {},
   "source": [
    "ふろ機能の種類が「ふろ給湯機（追焚あり）」の場合\n",
    "݁$$\\large\n",
    "e_{rtd} = e_{APF} - 0.7\n",
    "$$\n",
    "\n",
    "ふろ機能の種類が「給湯単機能」又は「ふろ給湯機（追焚なし）」の場合 \n",
    "݁$$\\large\n",
    "e_{rtd} = e_{APF} - 0.5\n",
    "$$"
   ]
  },
  {
   "cell_type": "markdown",
   "metadata": {},
   "source": [
    "$e_{APF}$ ：年間給湯効率"
   ]
  },
  {
   "cell_type": "markdown",
   "metadata": {},
   "source": [
    "ただし、JIS C 9220 に基づく年間給湯保温効率（JIS）および年間給湯効率（JIS）の値、式（2a）および式（2b）により換算した値は、3.6 を超える場合には 3.6 に等しいとする。また、M1 スタンダードに基づく JIS 相当効率は、機種型番に応じて別途定める値を用いる。設置する給湯機が複数あり、いずれも電気ヒートポンプ給湯機でかつ効率が異なる場合は当該給湯機の効率の小さい方の値により評価する。   \n",
    "制御におけるセカンドモードの割合$r_{mode2}$は0.4とする。 "
   ]
  },
  {
   "cell_type": "markdown",
   "metadata": {},
   "source": [
    "1 日当たりの低外気温領域でのヒートポンプ効率低下による補正係数$C_{LT}$は、下式により表される。  "
   ]
  },
  {
   "cell_type": "markdown",
   "metadata": {},
   "source": [
    "$$\\large\n",
    "C_{LT} = \\left\\{ \\begin{array}{ll}\n",
    "    1.0 & (7 \\leq \\theta_{ex,Nave}の場合)\\\\ \n",
    "    1.0 + 0.0133 \\times (7 - \\theta_{ex,Nave}) & (\\theta_{ex,Nave} < 7の場合)\\\\ \n",
    "    \\end{array}\n",
    "\\right.\n",
    "$$"
   ]
  },
  {
   "cell_type": "markdown",
   "metadata": {},
   "source": [
    "1 日当たりのデフロスト運転による補正係数$C_{def}$は、下式により表される。"
   ]
  },
  {
   "cell_type": "markdown",
   "metadata": {},
   "source": [
    "$$\\large\n",
    "C_{def} = \\left\\{ \\begin{array}{ll}\n",
    "    1.0 & (5 \\leq \\theta_{ex,Nave}の場合)\\\\ \n",
    "    1.175 - \\theta_{ex,Nave} \\times 0.035 & (2 \\leq \\theta_{ex,Nave} < 5の場合)\\\\ \n",
    "    1.12 - \\theta_{ex,Nave} \\times 0.0075 & (-2 \\leq \\theta_{ex,Nave} < 2の場合)\\\\ \n",
    "    1.155 + \\theta_{ex,Nave} \\times 0.01 & (-15.5 \\leq \\theta_{ex,Nave} < -2の場合)\\\\ \n",
    "    1.0 & (\\theta_{ex,Nave}< -15.5の場合)\\\\ \n",
    "    \\end{array}\n",
    "\\right.\n",
    "$$"
   ]
  },
  {
   "cell_type": "markdown",
   "metadata": {},
   "source": [
    "1 日当たりの太陽熱補正給湯熱負荷$L''$は、下式により表される。 "
   ]
  },
  {
   "cell_type": "markdown",
   "metadata": {},
   "source": [
    "$$\\large\n",
    "L'' = L''_k + L''_s + L''_w + L''_{b1} + L''_{b2} + L''_{ba1} + L''_{ba2}\n",
    "$$"
   ]
  },
  {
   "cell_type": "markdown",
   "metadata": {},
   "source": [
    "$L''_k$ ：1日当たりの台所水栓における太陽熱補正給湯熱負荷（MJ/d）  \n",
    "$L''_s$ ：1日当たりの浴室シャワー水栓における太陽熱補正給湯熱負荷（MJ/d）   \n",
    "$L''_w$ ：1日当たりの洗面水栓における太陽熱補正給湯熱負荷（MJ/d）   \n",
    "$L''_{b1}$ ：1日当たりの浴槽水栓湯はり時における太陽熱補正給湯熱負荷（MJ/d）   \n",
    "$L''_{b2}$ ：1日当たりの浴槽自動湯はり時における太陽熱補正給湯熱負荷（MJ/d）   \n",
    "$L''_{ba1}$ ：1日当たりの浴槽水栓さし湯時における太陽熱補正給湯熱負荷（MJ/d）  \n",
    "$L''_{ba2}$ ：浴槽追焚時における太陽熱補正給湯熱負荷（MJ/d）  \n"
   ]
  },
  {
   "cell_type": "markdown",
   "metadata": {},
   "source": [
    "## ガス消費量 "
   ]
  },
  {
   "cell_type": "markdown",
   "metadata": {},
   "source": [
    "1 日当たりの給湯機のガス消費量$E_{G,h,s}$は0とする。 "
   ]
  },
  {
   "cell_type": "markdown",
   "metadata": {},
   "source": [
    "## 灯油消費量 "
   ]
  },
  {
   "cell_type": "markdown",
   "metadata": {},
   "source": [
    "1 日当たりの給湯機の灯油消費量$E_{K,h,s}$は0とする。 "
   ]
  }
 ],
 "metadata": {
  "kernelspec": {
   "display_name": "Python 3",
   "language": "python",
   "name": "python3"
  },
  "language_info": {
   "codemirror_mode": {
    "name": "ipython",
    "version": 3
   },
   "file_extension": ".py",
   "mimetype": "text/x-python",
   "name": "python",
   "nbconvert_exporter": "python",
   "pygments_lexer": "ipython3",
   "version": "3.6.7"
  }
 },
 "nbformat": 4,
 "nbformat_minor": 2
}
