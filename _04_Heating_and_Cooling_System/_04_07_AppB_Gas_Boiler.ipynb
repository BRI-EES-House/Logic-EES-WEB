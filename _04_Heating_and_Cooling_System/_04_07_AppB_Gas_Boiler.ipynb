{
 "cells": [
  {
   "cell_type": "markdown",
   "metadata": {},
   "source": [
    "# 七節　温水暖房"
   ]
  },
  {
   "cell_type": "markdown",
   "metadata": {},
   "source": [
    "## 付録B　ガス温水暖房機及びガス給湯温水暖房機"
   ]
  },
  {
   "cell_type": "code",
   "execution_count": 1,
   "metadata": {
    "collapsed": true
   },
   "outputs": [],
   "source": [
    "from enum import Enum"
   ]
  },
  {
   "cell_type": "code",
   "execution_count": 2,
   "metadata": {
    "collapsed": true
   },
   "outputs": [],
   "source": [
    "# 式（1）\n",
    "def get_E_G_hs(_Q_out_H_hs, _Q_body, _e_ex):\n",
    "    if _Q_out_H_hs == 0:\n",
    "        return 0\n",
    "    elif _Q_out_H_hs > 0:\n",
    "        return (_Q_out_H_hs + _Q_body) / _e_ex\n"
   ]
  },
  {
   "cell_type": "markdown",
   "metadata": {},
   "source": [
    "#### Example"
   ]
  },
  {
   "cell_type": "code",
   "execution_count": 3,
   "metadata": {},
   "outputs": [
    {
     "data": {
      "text/plain": [
       "43.75"
      ]
     },
     "execution_count": 3,
     "metadata": {},
     "output_type": "execute_result"
    }
   ],
   "source": [
    "get_E_G_hs(10,25,0.8)"
   ]
  },
  {
   "cell_type": "code",
   "execution_count": 4,
   "metadata": {
    "collapsed": true
   },
   "outputs": [],
   "source": [
    "# 式（2）\n",
    "def get_Q_body(_equipment, _supply_theta = None):\n",
    "    if _equipment == 'gasConv':\n",
    "        return 240.96 * 3600 * 10**(-6)\n",
    "    elif _equipment == 'gasCondensing' and _supply_theta == 60:\n",
    "        return 225.26 * 3600 * 10**(-6)\n",
    "    elif _equipment == 'gasCondensing' and _supply_theta == 40:\n",
    "        return 123.74 * 3600 * 10**(-6)"
   ]
  },
  {
   "cell_type": "markdown",
   "metadata": {},
   "source": [
    "#### Example"
   ]
  },
  {
   "cell_type": "code",
   "execution_count": 5,
   "metadata": {},
   "outputs": [
    {
     "data": {
      "text/plain": [
       "(0.867456, 0.810936, 0.44546399999999997)"
      ]
     },
     "execution_count": 5,
     "metadata": {},
     "output_type": "execute_result"
    }
   ],
   "source": [
    "gasConv = get_Q_body(_equipment = 'gasConv')\n",
    "gasCondensing_60 = get_Q_body(_equipment = 'gasCondensing', _supply_theta = 60)\n",
    "gasCondensing_40 = get_Q_body(_equipment = 'gasCondensing', _supply_theta = 40)\n",
    "gasConv, gasCondensing_60, gasCondensing_40"
   ]
  },
  {
   "cell_type": "code",
   "execution_count": 6,
   "metadata": {
    "collapsed": true
   },
   "outputs": [],
   "source": [
    "# 式（3）\n",
    "def get_e_ex(_equipment, _e_rtd, _q_rtd_hs, _Q_body, _supply_theta = None):\n",
    "    \n",
    "    # f_rtd\n",
    "    if _equipment == 'gasConv':\n",
    "        _f_rtd = 0.985\n",
    "    elif _equipment == 'gasCondensing' and _supply_theta == 60:\n",
    "        _f_rtd = 1.038\n",
    "    elif _equipment == 'gasCondensing' and _supply_theta == 40:\n",
    "        _f_rtd = 1.064\n",
    "    \n",
    "    return _e_rtd * _f_rtd * (_q_rtd_hs * 3600 * 10**(-6) + _Q_body) / (_q_rtd_hs * 3600 * 10**(-6))\n",
    "    "
   ]
  },
  {
   "cell_type": "markdown",
   "metadata": {},
   "source": [
    "#### Example"
   ]
  },
  {
   "cell_type": "code",
   "execution_count": 7,
   "metadata": {
    "scrolled": true
   },
   "outputs": [
    {
     "data": {
      "text/plain": [
       "0.8549598214285715"
      ]
     },
     "execution_count": 7,
     "metadata": {},
     "output_type": "execute_result"
    }
   ],
   "source": [
    "get_e_ex(_equipment = 'gasCondensing', _e_rtd = 0.81, _q_rtd_hs = 14000, _Q_body = 0.85, _supply_theta = 60)"
   ]
  },
  {
   "cell_type": "code",
   "execution_count": 8,
   "metadata": {
    "collapsed": true
   },
   "outputs": [],
   "source": [
    "class HeatRadiator_MainRoom_Exist(Enum):\n",
    "    Exist = 1,\n",
    "    NotExist = 2\n",
    "\n",
    "class HeatRadiator_OtherRoom_Exist(Enum):\n",
    "    Exist = 1,\n",
    "    NotExist = 2\n",
    "    "
   ]
  },
  {
   "cell_type": "code",
   "execution_count": 9,
   "metadata": {
    "collapsed": true
   },
   "outputs": [],
   "source": [
    "# 付録H　温水暖房用熱源機の最大能力\n",
    "\n",
    "# 暖冷房区画の床面積には、温水暖房により暖房される暖冷房区画のみを積算する。\n",
    "\n",
    "# 主居室、その他居室の放熱器の設置有無　＊　運転方法\n",
    "\n",
    "def get_q_max_hs(_region, _A_HCZ_i, _HeatRadiator_MainRoom_Exist, _HeatRadiator_OtherRoom_Exist, _HeatRadiator_MainRoom_Operation, _HeatRadiator_OtherRoom_Operation):\n",
    "    \n",
    "    _f_CT = 1.05\n",
    "    \n",
    "    # _q_rq_H\n",
    "    if _HeatRadiator_MainRoom_Exist == HeatRadiator_MainRoom_Exist.Exist and _HeatRadiator_OtherRoom_Exist == HeatRadiator_OtherRoom_Exist.Exist:\n",
    "        _HeatRadiator_Exist = 'BothRoom_Exist'\n",
    "    elif _HeatRadiator_MainRoom_Exist == HeatRadiator_MainRoom_Exist.Exist and _HeatRadiator_OtherRoom_Exist == HeatRadiator_OtherRoom_Exist.NotExist:\n",
    "        _HeatRadiator_Exist = 'MainRoom_Exist'\n",
    "    elif _HeatRadiator_MainRoom_Exist == HeatRadiator_MainRoom_Exist.NotExist and _HeatRadiator_OtherRoom_Exist == HeatRadiator_OtherRoom_Exist.Exist:\n",
    "        _HeatRadiator_Exist = 'OtherRoom_Exist'\n",
    "    \n",
    "    coef = {'Region1' : {'BothRoom_Exist' : 90.02, 'MainRoom_Exist' : 139.26, 'OtherRoom_Exist' : 62.28},\n",
    "            'Region2' : {'BothRoom_Exist' : 77.81, 'MainRoom_Exist' : 120.65, 'OtherRoom_Exist' : 53.26}        \n",
    "    }\n",
    "    _q_rq_H = coef[_region][_HeatRadiator_Exist]\n",
    "    \n",
    "    # _f_CI\n",
    "      # 主たる居室の運転方法、その他の居室の運転方法\n",
    "    _f_CI = {'Continuous'   : {'Continuous' : 1.0 , 'Intermittent' : 1.0 , 'NotExist' : 1.0 },\n",
    "             'Intermittent' : {'Continuous' : 2.25, 'Intermittent' : 2.25, 'NotExist' : 3.03},\n",
    "             'NotExist'     : {'Continuous' : 1.0 , 'Intermittent' : 1.62}\n",
    "    }[_HeatRadiator_MainRoom_Operation][_HeatRadiator_OtherRoom_Operation]\n",
    "    \n",
    "    print(_q_rq_H , sum(_A_HCZ_i) , _f_CT , _f_CI)\n",
    "    \n",
    "    return _q_rq_H * sum(_A_HCZ_i) * _f_CT * _f_CI\n",
    "    \n",
    "    \n",
    "    \n",
    "    \n",
    "    \n",
    "    "
   ]
  },
  {
   "cell_type": "markdown",
   "metadata": {},
   "source": [
    "#### Example"
   ]
  },
  {
   "cell_type": "code",
   "execution_count": 10,
   "metadata": {},
   "outputs": [
    {
     "name": "stdout",
     "output_type": "stream",
     "text": [
      "53.26 29.81 1.05 2.25\n"
     ]
    },
    {
     "data": {
      "text/plain": [
       "3750.8954175000003"
      ]
     },
     "execution_count": 10,
     "metadata": {},
     "output_type": "execute_result"
    }
   ],
   "source": [
    "get_q_max_hs(_region = 'Region2', _A_HCZ_i = (29.81,0), _HeatRadiator_MainRoom_Exist = HeatRadiator_MainRoom_Exist.NotExist, _HeatRadiator_OtherRoom_Exist = HeatRadiator_OtherRoom_Exist.Exist, _HeatRadiator_MainRoom_Operation = 'Intermittent', _HeatRadiator_OtherRoom_Operation = 'Intermittent')"
   ]
  },
  {
   "cell_type": "code",
   "execution_count": 11,
   "metadata": {
    "collapsed": true
   },
   "outputs": [],
   "source": [
    "# 式（4）\n",
    "def get_E_E_hs(_E_E_hs_pmp, _E_E_hs_fan):\n",
    "    return _E_E_hs_pmp + _E_E_hs_fan"
   ]
  },
  {
   "cell_type": "code",
   "execution_count": 12,
   "metadata": {
    "collapsed": true
   },
   "outputs": [],
   "source": [
    "# 式（5）\n",
    "# _r_WS_hsは4章本編の話と思われる。\n",
    "def get_E_E_hs_pmp(_r_WS_hs):\n",
    "    _P_hs_pmp = 73 # Unit : W\n",
    "    return _P_hs_pmp * _r_WS_hs * 10**(-3)"
   ]
  },
  {
   "cell_type": "code",
   "execution_count": 13,
   "metadata": {
    "collapsed": true
   },
   "outputs": [],
   "source": [
    "# 式（6）\n",
    "def get_E_E_hs_fan(_E_G_hs):\n",
    "    r = 0.003\n",
    "    return _E_G_hs * r * 10**(-3) / 3600\n",
    "    "
   ]
  },
  {
   "cell_type": "code",
   "execution_count": 14,
   "metadata": {
    "collapsed": true
   },
   "outputs": [],
   "source": [
    "# 式（7）\n",
    "def get_Q_max_H_hs(_region, _A_HCZ_i, _HeatRadiator_MainRoom_Exist, _HeatRadiator_OtherRoom_Exist, _HeatRadiator_MainRoom_Operation, _HeatRadiator_OtherRoom_Operation):\n",
    "    \n",
    "    q_rtd_hs = get_q_max_hs(_region, _A_HCZ_i, _HeatRadiator_MainRoom_Exist, _HeatRadiator_OtherRoom_Exist, _HeatRadiator_MainRoom_Operation, _HeatRadiator_OtherRoom_Operation)\n",
    "    \n",
    "    return q_rtd_hs * 3600 / 10**(6)"
   ]
  },
  {
   "cell_type": "code",
   "execution_count": 16,
   "metadata": {},
   "outputs": [
    {
     "ename": "SyntaxError",
     "evalue": "invalid syntax (<ipython-input-16-2362886f7f5b>, line 1)",
     "output_type": "error",
     "traceback": [
      "\u001b[1;36m  File \u001b[1;32m\"<ipython-input-16-2362886f7f5b>\"\u001b[1;36m, line \u001b[1;32m1\u001b[0m\n\u001b[1;33m    get_Q_max_H_hs(_region='Region1', _A_HCZ_i=(29,81, 10), _HeatRadiator_MainRoom_Exist = HeatRadiator_MainRoom_Exist.Exist, _HeatRadiator_OtherRoom_Exist = HeatRadiator_OtherRoom_Exist.NotExist, _HeatRadiator_MainRoom_Operation = 'Intermittent', _HeatRadiator_OtherRoom_Operation = 'NotExist'):\u001b[0m\n\u001b[1;37m                                                                                                                                                                                                                                                                                                        ^\u001b[0m\n\u001b[1;31mSyntaxError\u001b[0m\u001b[1;31m:\u001b[0m invalid syntax\n"
     ]
    }
   ],
   "source": [
    "get_Q_max_H_hs(_region='Region1', _A_HCZ_i=(29,81, 10), _HeatRadiator_MainRoom_Exist = HeatRadiator_MainRoom_Exist.Exist, _HeatRadiator_OtherRoom_Exist = HeatRadiator_OtherRoom_Exist.NotExist, _HeatRadiator_MainRoom_Operation = 'Intermittent', _HeatRadiator_OtherRoom_Operation = 'NotExist'):"
   ]
  },
  {
   "cell_type": "code",
   "execution_count": null,
   "metadata": {
    "collapsed": true
   },
   "outputs": [],
   "source": []
  },
  {
   "cell_type": "code",
   "execution_count": null,
   "metadata": {
    "collapsed": true
   },
   "outputs": [],
   "source": []
  }
 ],
 "metadata": {
  "kernelspec": {
   "display_name": "Python 3",
   "language": "python",
   "name": "python3"
  },
  "language_info": {
   "codemirror_mode": {
    "name": "ipython",
    "version": 3
   },
   "file_extension": ".py",
   "mimetype": "text/x-python",
   "name": "python",
   "nbconvert_exporter": "python",
   "pygments_lexer": "ipython3",
   "version": "3.6.2"
  }
 },
 "nbformat": 4,
 "nbformat_minor": 2
}
