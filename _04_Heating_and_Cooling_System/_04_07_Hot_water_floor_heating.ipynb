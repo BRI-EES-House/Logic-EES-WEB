{
 "cells": [
  {
   "cell_type": "code",
   "execution_count": 69,
   "metadata": {
    "collapsed": true
   },
   "outputs": [],
   "source": [
    "# 式（5）\n",
    "def get_Q_out_H_hs(_equipment, _Q_dmd_H_hs):\n",
    "    \n",
    "    if _equipment == 'gasConv' or 'gasCondensing':\n",
    "        \n",
    "    \n",
    "    \n",
    "    \n",
    "    min(_Q_dmd_H_hs , _Q_max_H_hs)"
   ]
  },
  {
   "cell_type": "code",
   "execution_count": 70,
   "metadata": {},
   "outputs": [
    {
     "data": {
      "text/plain": [
       "2"
      ]
     },
     "execution_count": 70,
     "metadata": {},
     "output_type": "execute_result"
    }
   ],
   "source": [
    "get_Q_out_H_hs(_Q_dmd_H_hs = 10,_Q_max_H_hs = 2)"
   ]
  },
  {
   "cell_type": "code",
   "execution_count": null,
   "metadata": {
    "collapsed": true
   },
   "outputs": [],
   "source": []
  },
  {
   "cell_type": "code",
   "execution_count": null,
   "metadata": {
    "collapsed": true
   },
   "outputs": [],
   "source": []
  },
  {
   "cell_type": "code",
   "execution_count": 47,
   "metadata": {
    "collapsed": true
   },
   "outputs": [],
   "source": [
    "# 式（7）　温水供給運転率\n",
    "def get_r_WS_hs(_Q_dmd_H_hs, _r_WS_ln_i):\n",
    "    if _Q_dmd_H_hs > 0:\n",
    "        \n",
    "        # 放熱系統の数を温水供給運転率の値の数で判定\n",
    "        rad_num = 0\n",
    "        for i in _r_WS_ln_i:\n",
    "            if type(i) == int or type(i) == float:\n",
    "                rad_num += 1\n",
    "                _r_WS_hs = i\n",
    "\n",
    "        if rad_num == 1:\n",
    "            return _r_WS_hs\n",
    "        elif rad_num >= 2:\n",
    "            return 1\n",
    "    elif _Q_dmd_H_hs == 0:\n",
    "        return 0"
   ]
  },
  {
   "cell_type": "markdown",
   "metadata": {},
   "source": [
    "#### Example"
   ]
  },
  {
   "cell_type": "code",
   "execution_count": 56,
   "metadata": {},
   "outputs": [
    {
     "data": {
      "text/plain": [
       "0.2"
      ]
     },
     "execution_count": 56,
     "metadata": {},
     "output_type": "execute_result"
    }
   ],
   "source": [
    "get_r_WS_hs(_Q_dmd_H_hs=1, _r_WS_ln_i=[None,None, 0.2])"
   ]
  }
 ],
 "metadata": {
  "kernelspec": {
   "display_name": "Python 3",
   "language": "python",
   "name": "python3"
  },
  "language_info": {
   "codemirror_mode": {
    "name": "ipython",
    "version": 3
   },
   "file_extension": ".py",
   "mimetype": "text/x-python",
   "name": "python",
   "nbconvert_exporter": "python",
   "pygments_lexer": "ipython3",
   "version": "3.6.2"
  }
 },
 "nbformat": 4,
 "nbformat_minor": 2
}
