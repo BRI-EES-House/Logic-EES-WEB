{
 "cells": [
  {
   "cell_type": "code",
   "execution_count": 5,
   "metadata": {
    "collapsed": true
   },
   "outputs": [],
   "source": [
    "import numpy as np\n",
    "import copy\n",
    "from enum import Enum"
   ]
  },
  {
   "cell_type": "code",
   "execution_count": 4,
   "metadata": {
    "collapsed": true
   },
   "outputs": [],
   "source": [
    "# 式（5）\n",
    "def get_Q_out_H_hs(_equipment, _Q_dmd_H_hs):\n",
    "    \n",
    "    if _equipment == 'gasConv' or 'gasCondensing':\n",
    "        _Q_max_H_hs = 1 # 暫定　付録Bの最大暖房出力を呼び出す\n",
    "    \n",
    "    \n",
    "    \n",
    "    return min(_Q_dmd_H_hs , _Q_max_H_hs)"
   ]
  },
  {
   "cell_type": "code",
   "execution_count": 6,
   "metadata": {},
   "outputs": [
    {
     "data": {
      "text/plain": [
       "1"
      ]
     },
     "execution_count": 6,
     "metadata": {},
     "output_type": "execute_result"
    }
   ],
   "source": [
    "get_Q_out_H_hs(_equipment = 'gasConv', _Q_dmd_H_hs = 10)"
   ]
  },
  {
   "cell_type": "code",
   "execution_count": null,
   "metadata": {
    "collapsed": true
   },
   "outputs": [],
   "source": []
  },
  {
   "cell_type": "code",
   "execution_count": null,
   "metadata": {
    "collapsed": true
   },
   "outputs": [],
   "source": []
  },
  {
   "cell_type": "code",
   "execution_count": 2,
   "metadata": {
    "collapsed": true
   },
   "outputs": [],
   "source": [
    "# 式（7）　温水供給運転率\n",
    "def get_r_WS_hs(_Q_dmd_H_hs, _r_WS_ln_i):\n",
    "    if _Q_dmd_H_hs > 0:\n",
    "        \n",
    "        # 放熱系統の数を温水供給運転率の値の数で判定\n",
    "        rad_num = 0\n",
    "        for i in _r_WS_ln_i:\n",
    "            if type(i) == int or type(i) == float:\n",
    "                rad_num += 1\n",
    "                _r_WS_hs = i\n",
    "\n",
    "        if rad_num == 1:\n",
    "            return _r_WS_hs\n",
    "        elif rad_num >= 2:\n",
    "            return 1\n",
    "    elif _Q_dmd_H_hs == 0:\n",
    "        return 0"
   ]
  },
  {
   "cell_type": "markdown",
   "metadata": {},
   "source": [
    "#### Example"
   ]
  },
  {
   "cell_type": "code",
   "execution_count": 4,
   "metadata": {},
   "outputs": [
    {
     "data": {
      "text/plain": [
       "0.2"
      ]
     },
     "execution_count": 4,
     "metadata": {},
     "output_type": "execute_result"
    }
   ],
   "source": [
    "get_r_WS_hs(_Q_dmd_H_hs=1, _r_WS_ln_i=[None, None, 0.2, None, None])"
   ]
  },
  {
   "cell_type": "code",
   "execution_count": 8,
   "metadata": {},
   "outputs": [],
   "source": [
    "# 式(9)\n",
    "def get_theta_RW_hs(_theta_SW_hs, _Q_dmd_H_ln_i, _Q_max_H_rad_i):\n",
    "    \n",
    "    i = 0\n",
    "    _Q_dmd_H_ln_i = np.array(_Q_dmd_H_ln_i)\n",
    "    _Q_dash_max_H_rad_i = copy.deepcopy(_Q_dmd_H_ln_i)\n",
    "    \n",
    "    for d in _Q_dmd_H_ln_i:\n",
    "        if d > 0:\n",
    "            _Q_dash_max_H_rad_i[i] = _Q_max_H_rad_i[i]\n",
    "        elif d == 0:\n",
    "            _Q_dash_max_H_rad_i[i] = 0\n",
    "        i += 1\n",
    "    print('_Q_dash_max_H_rad_i =', _Q_dash_max_H_rad_i, '_Q_dmd_H_ln_i =', _Q_dmd_H_ln_i)\n",
    "    \n",
    "    _T_dif = np.sum(_Q_dmd_H_ln_i) / (np.sum(_Q_dash_max_H_rad_i) * 0.027583)\n",
    "    print(_T_dif)    \n",
    "    \n",
    "    if 40 < _theta_SW_hs <= 60:\n",
    "        return 0.0301 * _T_dif**2 - 0.1864 * _T_dif + 20\n",
    "    elif _theta_SW_hs <= 40:\n",
    "        return 0.0604 * _T_dif**2 - 0.1881 * _T_dif + 20\n",
    "    else:\n",
    "        raise ValueError(\"_theta_SW_hsの値が不正です。\")\n"
   ]
  },
  {
   "cell_type": "markdown",
   "metadata": {},
   "source": [
    "#### Example"
   ]
  },
  {
   "cell_type": "code",
   "execution_count": 6,
   "metadata": {
    "scrolled": true
   },
   "outputs": [
    {
     "name": "stdout",
     "output_type": "stream",
     "text": [
      "<class 'list'>\n",
      "<class 'numpy.ndarray'>\n"
     ]
    }
   ],
   "source": [
    "a = [100, 0, 500, 300, 200]\n",
    "print(type(a))\n",
    "\n",
    "b = np.array(a)\n",
    "print(type(b))"
   ]
  },
  {
   "cell_type": "code",
   "execution_count": 9,
   "metadata": {
    "scrolled": false
   },
   "outputs": [
    {
     "name": "stdout",
     "output_type": "stream",
     "text": [
      "_Q_dash_max_H_rad_i = [20  0 10  5  4] _Q_dmd_H_ln_i = [100   0 500 300 200]\n",
      "1022.55476943\n"
     ]
    },
    {
     "data": {
      "text/plain": [
       "31302.505311015513"
      ]
     },
     "execution_count": 9,
     "metadata": {},
     "output_type": "execute_result"
    }
   ],
   "source": [
    "get_theta_RW_hs(_theta_SW_hs = 60, _Q_dmd_H_ln_i = [100, 0, 500, 300, 200], _Q_max_H_rad_i = [20, 15, 10, 5, 4])"
   ]
  },
  {
   "cell_type": "code",
   "execution_count": 10,
   "metadata": {
    "collapsed": true
   },
   "outputs": [],
   "source": [
    "# 式(10)\n",
    "get_Q_dmd_H_ln_i = lambda _Q_dmd_H_rad_i, _Q_loss_pp_i : [x + y for (x, y) in zip(_Q_dmd_H_rad_i, _Q_loss_pp_i)]\n"
   ]
  },
  {
   "cell_type": "code",
   "execution_count": 11,
   "metadata": {
    "collapsed": true
   },
   "outputs": [],
   "source": [
    "# 式(10)\n",
    "def get_Q_dmd_H_ln_i2(_Q_dmd_H_rad_i, _Q_loss_pp_i):\n",
    "    _Q_dmd_H_rad_i = np.array(_Q_dmd_H_rad_i)\n",
    "    _Q_loss_pp_i   = np.array(_Q_loss_pp_i)\n",
    "    \n",
    "    return _Q_dmd_H_rad_i + _Q_loss_pp_i"
   ]
  },
  {
   "cell_type": "markdown",
   "metadata": {},
   "source": [
    "#### Example"
   ]
  },
  {
   "cell_type": "code",
   "execution_count": 13,
   "metadata": {},
   "outputs": [
    {
     "data": {
      "text/plain": [
       "array([11, 22, 33, 44, 55])"
      ]
     },
     "execution_count": 13,
     "metadata": {},
     "output_type": "execute_result"
    }
   ],
   "source": [
    "get_Q_dmd_H_ln_i2(_Q_dmd_H_rad_i = [1,2,3,4,5], _Q_loss_pp_i = [10,20,30,40,50])"
   ]
  },
  {
   "cell_type": "code",
   "execution_count": 14,
   "metadata": {
    "collapsed": true
   },
   "outputs": [],
   "source": [
    "# 式(11)\n",
    "def get_r_WS_ln_i(_r_WS_rad_i):\n",
    "    return np.array(_r_WS_rad_i)"
   ]
  },
  {
   "cell_type": "markdown",
   "metadata": {},
   "source": [
    "#### Example"
   ]
  },
  {
   "cell_type": "code",
   "execution_count": 15,
   "metadata": {
    "scrolled": true
   },
   "outputs": [
    {
     "data": {
      "text/plain": [
       "array([ 0.4,  0. ,  0. ,  1. ,  0.8,  1. ])"
      ]
     },
     "execution_count": 15,
     "metadata": {},
     "output_type": "execute_result"
    }
   ],
   "source": [
    "get_r_WS_ln_i(_r_WS_rad_i = [0.4, 0, 0,1, 0.8, 1])"
   ]
  },
  {
   "cell_type": "code",
   "execution_count": 19,
   "metadata": {
    "collapsed": true
   },
   "outputs": [],
   "source": [
    "class Pipe_Insulation(Enum):\n",
    "    Insulation = 1,\n",
    "    NotInsulation = 2"
   ]
  },
  {
   "cell_type": "code",
   "execution_count": 18,
   "metadata": {
    "collapsed": true
   },
   "outputs": [],
   "source": [
    "class Under_Floor_Pipe(Enum):\n",
    "    All_Insulation = 1,\n",
    "    Some_Insulation = 2"
   ]
  },
  {
   "cell_type": "code",
   "execution_count": 185,
   "metadata": {},
   "outputs": [
    {
     "data": {
      "text/plain": [
       "3"
      ]
     },
     "execution_count": 185,
     "metadata": {},
     "output_type": "execute_result"
    }
   ],
   "source": [
    "{'Pipe_Insulation.Insulation' : 1, 'Pipe_Insulation.NotInsulation' : 3}['Pipe_Insulation.NotInsulation']"
   ]
  },
  {
   "cell_type": "code",
   "execution_count": 20,
   "metadata": {
    "collapsed": true
   },
   "outputs": [],
   "source": [
    "# 式(12)\n",
    "def get_Q_loss_pp_i(_theta_SW, _theta_ex, _A_A, _under_floor_pipe, _pipe_insulation, _r_WS_rad_i):\n",
    "    \n",
    "    _K_loss_pp_i = {Pipe_Insulation.Insulation : (0.21, 0.21, 0.21, 0.21, 0.21), Pipe_Insulation.NotInsulation : (0.15, 0.15, 0.15, 0.15, 0.15)}[_pipe_insulation]\n",
    "    \n",
    "    _L_pp_R_1 = 120\n",
    "    \n",
    "    _L_pp_ex_i_R, _L_pp_in_i_R = {Under_Floor_Pipe.Some_Insulation : {'_L_pp_ex_R' : (0.00     , 0.00, 0.00, 0.00), '_L_pp_in_R' : (_L_pp_R_1, 22.86, 19.22, 26.62)},\n",
    "                                  Under_Floor_Pipe.All_Insulation  : {'_L_pp_ex_R' : (_L_pp_R_1, 0.00, 0.00, 0.00), '_L_pp_in_R' : (0.00     , 22.86, 19.22, 26.62)}}[_under_floor_pipe]\n",
    "    \n",
    "    print(_L_pp_ex_i_R, _L_pp_in_i_R)\n",
    "    \n",
    "    _A_A_R = 120.08\n",
    "    if _under_floor_pipe == Under_Floor_Pipe.Some_Insulation:\n",
    "        _L_pp_ex_i = _L_pp_ex_i_R * np.sqrt(_A_A / _A_A_R)\n",
    "    elif _under_floor_pipe == Under_Floor_Pipe.All_Insulation:\n",
    "        _L_pp_in_i = _L_pp_in_i_R * np.sqrt(_A_A / _A_A_R)\n"
   ]
  },
  {
   "cell_type": "code",
   "execution_count": 192,
   "metadata": {},
   "outputs": [
    {
     "data": {
      "text/plain": [
       "(3, 4)"
      ]
     },
     "execution_count": 192,
     "metadata": {},
     "output_type": "execute_result"
    }
   ],
   "source": [
    "aa, bb = {'a' : (1,2), 'b':(3,4)}['b']\n",
    "aa, bb"
   ]
  },
  {
   "cell_type": "code",
   "execution_count": 21,
   "metadata": {
    "scrolled": false
   },
   "outputs": [
    {
     "name": "stdout",
     "output_type": "stream",
     "text": [
      "_L_pp_ex_R _L_pp_in_R\n"
     ]
    },
    {
     "ename": "TypeError",
     "evalue": "'numpy.float64' object cannot be interpreted as an integer",
     "output_type": "error",
     "traceback": [
      "\u001b[1;31m---------------------------------------------------------------------------\u001b[0m",
      "\u001b[1;31mTypeError\u001b[0m                                 Traceback (most recent call last)",
      "\u001b[1;32m<ipython-input-21-3308a51bed82>\u001b[0m in \u001b[0;36m<module>\u001b[1;34m()\u001b[0m\n\u001b[1;32m----> 1\u001b[1;33m \u001b[0mget_Q_loss_pp_i\u001b[0m\u001b[1;33m(\u001b[0m\u001b[0m_theta_SW\u001b[0m \u001b[1;33m=\u001b[0m \u001b[1;36m20\u001b[0m\u001b[1;33m,\u001b[0m \u001b[0m_theta_ex\u001b[0m \u001b[1;33m=\u001b[0m \u001b[1;36m40\u001b[0m\u001b[1;33m,\u001b[0m \u001b[0m_A_A\u001b[0m\u001b[1;33m=\u001b[0m\u001b[1;36m60\u001b[0m\u001b[1;33m,\u001b[0m \u001b[0m_under_floor_pipe\u001b[0m \u001b[1;33m=\u001b[0m \u001b[0mUnder_Floor_Pipe\u001b[0m\u001b[1;33m.\u001b[0m\u001b[0mAll_Insulation\u001b[0m\u001b[1;33m,\u001b[0m \u001b[0m_pipe_insulation\u001b[0m \u001b[1;33m=\u001b[0m \u001b[0mPipe_Insulation\u001b[0m\u001b[1;33m.\u001b[0m\u001b[0mInsulation\u001b[0m\u001b[1;33m,\u001b[0m \u001b[0m_r_WS_rad_i\u001b[0m \u001b[1;33m=\u001b[0m \u001b[1;33m[\u001b[0m\u001b[1;36m10\u001b[0m\u001b[1;33m,\u001b[0m\u001b[1;36m10\u001b[0m\u001b[1;33m,\u001b[0m\u001b[1;36m10\u001b[0m\u001b[1;33m,\u001b[0m\u001b[1;36m10\u001b[0m\u001b[1;33m,\u001b[0m\u001b[1;36m10\u001b[0m\u001b[1;33m]\u001b[0m\u001b[1;33m)\u001b[0m\u001b[1;33m\u001b[0m\u001b[0m\n\u001b[0m",
      "\u001b[1;32m<ipython-input-20-6b4231ddf612>\u001b[0m in \u001b[0;36mget_Q_loss_pp_i\u001b[1;34m(_theta_SW, _theta_ex, _A_A, _under_floor_pipe, _pipe_insulation, _r_WS_rad_i)\u001b[0m\n\u001b[0;32m     15\u001b[0m         \u001b[0m_L_pp_ex_i\u001b[0m \u001b[1;33m=\u001b[0m \u001b[0m_L_pp_ex_i_R\u001b[0m \u001b[1;33m*\u001b[0m \u001b[0mnp\u001b[0m\u001b[1;33m.\u001b[0m\u001b[0msqrt\u001b[0m\u001b[1;33m(\u001b[0m\u001b[0m_A_A\u001b[0m \u001b[1;33m/\u001b[0m \u001b[0m_A_A_R\u001b[0m\u001b[1;33m)\u001b[0m\u001b[1;33m\u001b[0m\u001b[0m\n\u001b[0;32m     16\u001b[0m     \u001b[1;32melif\u001b[0m \u001b[0m_under_floor_pipe\u001b[0m \u001b[1;33m==\u001b[0m \u001b[0mUnder_Floor_Pipe\u001b[0m\u001b[1;33m.\u001b[0m\u001b[0mAll_Insulation\u001b[0m\u001b[1;33m:\u001b[0m\u001b[1;33m\u001b[0m\u001b[0m\n\u001b[1;32m---> 17\u001b[1;33m         \u001b[0m_L_pp_in_i\u001b[0m \u001b[1;33m=\u001b[0m \u001b[0m_L_pp_in_i_R\u001b[0m \u001b[1;33m*\u001b[0m \u001b[0mnp\u001b[0m\u001b[1;33m.\u001b[0m\u001b[0msqrt\u001b[0m\u001b[1;33m(\u001b[0m\u001b[0m_A_A\u001b[0m \u001b[1;33m/\u001b[0m \u001b[0m_A_A_R\u001b[0m\u001b[1;33m)\u001b[0m\u001b[1;33m\u001b[0m\u001b[0m\n\u001b[0m",
      "\u001b[1;31mTypeError\u001b[0m: 'numpy.float64' object cannot be interpreted as an integer"
     ]
    }
   ],
   "source": [
    "get_Q_loss_pp_i(_theta_SW = 20, _theta_ex = 40, _A_A=60, _under_floor_pipe = Under_Floor_Pipe.All_Insulation, _pipe_insulation = Pipe_Insulation.Insulation, _r_WS_rad_i = [10,10,10,10,10])"
   ]
  },
  {
   "cell_type": "code",
   "execution_count": null,
   "metadata": {
    "collapsed": true
   },
   "outputs": [],
   "source": []
  },
  {
   "cell_type": "code",
   "execution_count": null,
   "metadata": {
    "collapsed": true
   },
   "outputs": [],
   "source": []
  }
 ],
 "metadata": {
  "kernelspec": {
   "display_name": "Python 3",
   "language": "python",
   "name": "python3"
  },
  "language_info": {
   "codemirror_mode": {
    "name": "ipython",
    "version": 3
   },
   "file_extension": ".py",
   "mimetype": "text/x-python",
   "name": "python",
   "nbconvert_exporter": "python",
   "pygments_lexer": "ipython3",
   "version": "3.6.2"
  }
 },
 "nbformat": 4,
 "nbformat_minor": 2
}
