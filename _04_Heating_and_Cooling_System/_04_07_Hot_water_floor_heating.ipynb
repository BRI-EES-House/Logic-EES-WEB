{
 "cells": [
  {
   "cell_type": "markdown",
   "metadata": {},
   "source": [
    "# Chapter IV-VII Heating and Cooling System - Hot Water Floor Heating / 暖冷房設備 - 温水暖房"
   ]
  },
  {
   "cell_type": "markdown",
   "metadata": {},
   "source": [
    "## Maximum Heating Power / 最大暖房出力"
   ]
  },
  {
   "cell_type": "markdown",
   "metadata": {},
   "source": [
    "The hourly maximum heating power $Q_{max,H,i}$ of the heating facility equipment etc. installed in the heating / cooling section $i$ is equal to the maximum heating power $Q_{max,H,rad,i}$ of radiator installed in the heating / cooling section $i$."
   ]
  },
  {
   "cell_type": "markdown",
   "metadata": {},
   "source": [
    "## Energy Consumption / エネルギー消費量"
   ]
  },
  {
   "cell_type": "markdown",
   "metadata": {},
   "source": [
    "### 1. Power / 消費電力量"
   ]
  },
  {
   "cell_type": "markdown",
   "metadata": {},
   "source": [
    "The hourly electric power $E_{E,H}$ is calculated by the equation below.  "
   ]
  },
  {
   "cell_type": "markdown",
   "metadata": {},
   "source": [
    "$$\n",
    "\\large\n",
    "E_{E,H} = E_{E,hs} + \\sum_{i} (E_{E,rad,i})\n",
    "$$"
   ]
  },
  {
   "cell_type": "markdown",
   "metadata": {},
   "source": [
    "Where  \n",
    "$E_{E,H}$ is the hourly electric power. / 1時間当たりの消費電力量(kWh/h)  \n",
    "$E_{E,hs}$ is the hourly electric power of heat source machine for hot water heating. / 1時間当たりの温水暖房用熱源機の消費電力量(kWh/h)  \n",
    "$E_{E,rad,i}$ is the hourly electric power of radiator installed in the heating / cooling section $i$. / 1時間当たりの暖冷房区画$i$に設置された放熱器の消費電力量(kWh/h)    "
   ]
  },
  {
   "cell_type": "markdown",
   "metadata": {},
   "source": [
    "### 2. Kerosene Consumption / 灯油消費量 ★並び順"
   ]
  },
  {
   "cell_type": "markdown",
   "metadata": {},
   "source": [
    "The hourly kerosene consumption $E_{K,H}$ is calculated by the equation below."
   ]
  },
  {
   "cell_type": "markdown",
   "metadata": {},
   "source": [
    "$$\n",
    "\\large\n",
    "E_{K,H} = E_{K,hs}\n",
    "$$"
   ]
  },
  {
   "cell_type": "markdown",
   "metadata": {},
   "source": [
    "Where  \n",
    "$E_{K,H}$ is the hourly kerosene consumption. / 1時間当たりの灯油消費量(MJ/h)  \n",
    "$E_{K,hs}$ is the hourly kerosene consumption of heat source machine for hot water heating. / 1時間当たりの温水暖房用熱源機の灯油消費量(MJ/h)  "
   ]
  },
  {
   "cell_type": "markdown",
   "metadata": {},
   "source": [
    "### 3. Gas Consumption / ガス消費量"
   ]
  },
  {
   "cell_type": "markdown",
   "metadata": {},
   "source": [
    "The hourly gas consumption $E_{G,H}$ is calculated by the equation below."
   ]
  },
  {
   "cell_type": "markdown",
   "metadata": {},
   "source": [
    "$$\n",
    "\\large\n",
    "E_{G,H} = E_{G,hs}\n",
    "$$"
   ]
  },
  {
   "cell_type": "markdown",
   "metadata": {},
   "source": [
    "Where  \n",
    "$E_{G,H}$ is the hourly gas consumption. / 1時間当たりのガス消費量(MJ/h)  \n",
    "$E_{G,hs}$ is the hourly gas consumption of heat source machine for hot water heating. / 1時間当たりの温水暖房用熱源機のガス消費量(MJ/h)  "
   ]
  },
  {
   "cell_type": "markdown",
   "metadata": {},
   "source": [
    "### 4. Primary Energy Consumption by Other Fuels / その他の燃料による一次エネルギー消費量"
   ]
  },
  {
   "cell_type": "markdown",
   "metadata": {},
   "source": [
    "The hourly primary energy consumption $E_{M,H}$ by other fuels is calculated by the equation below."
   ]
  },
  {
   "cell_type": "markdown",
   "metadata": {},
   "source": [
    "$$\n",
    "\\large\n",
    "E_{M,H} = E_{M,hs}\n",
    "$$"
   ]
  },
  {
   "cell_type": "markdown",
   "metadata": {},
   "source": [
    "Where  \n",
    "$E_{M,H}$ is the hourly primary energy consumption by other fuels. / 1時間当たりのその他の燃料による一次エネルギー消費量(MJ/h)  \n",
    "$E_{M,hs}$ is the hourly primary energy consumption by other fuels of heat source machine for hot water heating. / 1時間当たりの温水暖房用熱源機のその他の燃料による一次エネルギー消費量(MJ/h)  "
   ]
  },
  {
   "cell_type": "markdown",
   "metadata": {},
   "source": [
    "## Energy Consumption of Heat Source Machine for Hot Water Heating / 温水暖房用熱源機のエネルギー消費量"
   ]
  },
  {
   "cell_type": "markdown",
   "metadata": {},
   "source": [
    "### 1. Energy Consumption / エネルギー消費量"
   ]
  },
  {
   "cell_type": "markdown",
   "metadata": {},
   "source": [
    "The hourly electric power $E_{E,hs}$, the hourly kerosene consumption $E_{K,hs}$, the hourly gas consumption $E_{G,hs}$, the hourly primary energy consumption $E_{M,hs}$ by other fuels of heat source machine for hot water heating depends on the values listed in Table 3, and also according to the calculation methods listed in Table 3.  "
   ]
  },
  {
   "cell_type": "markdown",
   "metadata": {},
   "source": [
    "<center>**Table 3(a). Calculation method for obtaining energy consumption of hot water heating source machine**</center>\n",
    "\n",
    "|Types of heat source equipment for hot water heating|Method of calculation|\n",
    "|-|-|\n",
    "|Oil hot water heater<br>Oil hot water supply hot water heating machine|Appendix A|\n",
    "|Gas hot water heater<br>Gas hot water supply hot water heating machine|Appendix B|\n",
    "|Electric heater hot water heater<br>Electric heater hot water supply hot water heating machine|Appendix C|\n",
    "|Electric heat pump hot water heating machine|Appendix D|\n",
    "|Electric heat pump · gas instantaneous type combined use type hot water supply hot water heating machine<br>Hot water supply heat source: Gas instantaneous type<br>Heating heat source: Electric heat pump · gas instantaneous combination|Appendix E|\n",
    "|Electric heat pump · gas instantaneous type combined use type hot water supply hot water heating machine<br>Hot water supply heat source:  Electric heat pump · gas instantaneous combination<br>Heating heat source: Gas instantaneous type|Appendix F|\n",
    "|Electric heat pump · gas instantaneous type combined use type hot water supply hot water heating machine<br>Hot water supply heat source: Electric heat pump · gas instantaneous combination<br>Heating heat source: Electric heat pump · gas instantaneous combination|Appendix G|\n",
    "\n",
    "<br>\n",
    "\n",
    "<center>**Table 3(b). The dependent value for obtaining energy consumption of hot water heating source machine and the notation in the appendix**</center>\n",
    "\n",
    "|Dependent value|Notation in calculation method (in appendix)|\n",
    "|-|-|\n",
    "|Outside air temperature $\\theta_{ex}$|1 hour average outside air temperature $\\theta_{ex}$|\n",
    "|Outside air relative humidity $h_{ex}$|1 hour average outside air relative humidity $h_{ex}$|\n",
    "|Hourly heating power $Q_{out,H,hs}$ of heat source machine for hot water heating|Hourly heating power $Q_{out,H,hs}$ of heat source machine for hot water heating|\n",
    "|Hot water supply operation rate $r_{WS,hs}$ of heat source machine for hot water heating|Hourly average hot water supply operation rate $r_{WS,hs}$ of heat source machine for hot water heating|\n",
    "|Outward hot water temperature $\\theta_{SW,hs}$ of heat source machine for hot water heating|Hourly average outward hot water temperature $\\theta_{SW,hs}$ of heat source machine for hot water heating|\n",
    "|Return hot water temperature $\\theta_{RW,hs}$ of heat source machine for hot water heating|Hourly average return hot water temperature $\\theta_{RW,hs}$ of heat source machine for hot water heating|\n"
   ]
  },
  {
   "cell_type": "markdown",
   "metadata": {},
   "source": [
    "### 2. Heating Power / 暖房出力"
   ]
  },
  {
   "cell_type": "markdown",
   "metadata": {},
   "source": [
    "The hourly heating power $Q_{out,H,hs}$ of heat source machine for hot water heating is calculated by the equation below."
   ]
  },
  {
   "cell_type": "markdown",
   "metadata": {},
   "source": [
    "$$\n",
    "\\large\n",
    "Q_{out,H,hs} = min(Q_{dmd,H,hs}, Q_{max,H,hs})\n",
    "$$"
   ]
  },
  {
   "cell_type": "markdown",
   "metadata": {},
   "source": [
    "Where  \n",
    "$Q_{out,H,hs}$ is the hourly heating power of heat source machine for hot water heating. / 1時間当たりの温水暖房用熱源機の暖房出力(MJ/h)  \n",
    "$Q_{max,H,hs}$ is the hourly maximum heating power of heat source machine for hot water heating. / 1時間当たりの温水暖房用熱源機の最大暖房出力(MJ/h)  \n",
    "$Q_{dmd,H,hs}$ is the hourly hot water heat demand of heat source machine for hot water heating. / 1時間当たりの温水暖房用熱源機の温水熱需要(MJ/h)  "
   ]
  },
  {
   "cell_type": "markdown",
   "metadata": {},
   "source": [
    "The hourly maximum heating power $Q_{max,H,hs}$ of heat source machine for hot water heating depends on the ambient temperature and humidity, and it depends on the calculation method listed in Table 3."
   ]
  },
  {
   "cell_type": "markdown",
   "metadata": {},
   "source": [
    "The hourly hot water heat demand $Q_{dmd,H,hs}$ of heat source machine for hot water heating is calculated by the equation below."
   ]
  },
  {
   "cell_type": "markdown",
   "metadata": {},
   "source": [
    "$$\n",
    "\\large\n",
    "Q_{dmd,H,hs} = \\sum_{i} (Q_{dmd,H,ln,i})\n",
    "$$"
   ]
  },
  {
   "cell_type": "markdown",
   "metadata": {},
   "source": [
    "Where  \n",
    "$Q_{dmd,H,ln,i}$ is the hourly hot water heat demand of heat radiation system $i$. / 1時間当たりの放熱系統$i$の温水熱需要(MJ/h)  "
   ]
  },
  {
   "cell_type": "markdown",
   "metadata": {},
   "source": [
    "### 3. Hot Water Supply Operation Rate / 温水供給運転率"
   ]
  },
  {
   "cell_type": "markdown",
   "metadata": {},
   "source": [
    "The hot water supply operation rate $r_{WS,hs}$ of the heat source machine for hot water heating depends on the type of the heating / cooling section of the heat radiation system connected to the heat source machine for hot water heating and is calculated by the equation below."
   ]
  },
  {
   "cell_type": "markdown",
   "metadata": {},
   "source": [
    "When $Q_{dmd,H,hs} > 0$  \n",
    "$$\\large\n",
    "r_{WS,hs} = \\left\\{ \\begin{array}{ll}\n",
    "    r_{WS,ln,i}&(放熱系統が1系統の場合)\\\\ \n",
    "    1&(放熱系統が2系統以上の場合)\\\\ \n",
    "    \\end{array}\n",
    "\\right.\n",
    "$$\n",
    "\n",
    "<br>\n",
    "\n",
    "When $Q_{dmd,H,hs} = 0$  \n",
    "$$\\large\n",
    "r_{WS,hs} = 0\n",
    "$$"
   ]
  },
  {
   "cell_type": "markdown",
   "metadata": {},
   "source": [
    "Where  \n",
    "$r_{WS,hs}$ is the hot water supply operation rate of heat source machine for hot water heating. / 温水暖房用熱源機の温水供給運転率  \n",
    "$r_{WS,ln,i}$ is the hot water supply operation rate of heat radiation system $i$ (However, here $ i = 1 $.). / 放熱系統$i$の温水供給運転率（ただし、ここでは$i=1$である。）   "
   ]
  },
  {
   "cell_type": "markdown",
   "metadata": {},
   "source": [
    "### 4. Outward Hot Water Temperature / 往き温水温度"
   ]
  },
  {
   "cell_type": "markdown",
   "metadata": {},
   "source": [
    "Some of the heat source machine for hot water heating has a function to switch over the hot water temperature $\\theta_{SW,hs}$ depending on the heating load of the heating and cooling section where the radiator is installed. \n",
    "This multiple candidate of hot water temperature is expressed as candidate $\\theta_{SW,hs,op,p}$ and classification of the outward hot water temperature of the heat source machine for hot water heating. \n",
    "The division of the outward hot water temperature of theheat source machine for hot water heating is 3 at the maximum, and the number depends on the type and specification of the heat source machine for hot water heating. \n",
    "Table 4 shows the classification and candidates of the outward hot water temperature for each heat source machine for hot water heating.  \n",
    "\n",
    "Where, \n",
    "$\\theta_{SW,hs,op,1} > \\theta_{SW,hs,op,2} > \\theta_{SW,hs,op,3}$  \n",
    "In this equation, $\\theta_{SW,hs,op,p}$ represents the following numerical value.  \n",
    "$\\theta_{SW,hs,op,p}$ is the candidate of outward hot water temperature of heat source machine for hot water heating. / 温水暖房用熱源機の往き温水温度の候補$p$(℃)  "
   ]
  },
  {
   "cell_type": "markdown",
   "metadata": {},
   "source": [
    "<center>**Table 4. the classification and candidates of the outward hot water temperature for each heat source machine for hot water heating (℃) **</center>\n",
    "\n",
    "<table style=\"border: 1px solid #000;\">\n",
    "<thead>\n",
    "<tr style=\"border: 1px solid #000;\">\n",
    "<th style=\"border: 1px solid #000;\" colspan=\"2\" rowspan=\"2\">Types of heat source machine for hot water heating</th>\n",
    "<th style=\"border: 1px solid #000;\" colspan=\"3\">Classification $p$ of candidates for outward hot water temperature</th>\n",
    "</tr>\n",
    "<tr>\n",
    "<th style=\"border: 1px solid #000;\">1</th>\n",
    "<th style=\"border: 1px solid #000;\">2</th>\n",
    "<th style=\"border: 1px solid #000;\">3</th>\n",
    "</tr>\n",
    "</thead>\n",
    "\n",
    "<tbody>\n",
    "<tr>\n",
    "<th rowspan=\"2\">Oil hot water heater, Oil hot water supply hot water heating machine</th>\n",
    "<th>Conventional type</th>\n",
    "<td>60</td>\n",
    "<td>-</td>\n",
    "<td>-</td>\n",
    "</tr>\n",
    "<tr>\n",
    "<th>Latent heat recovery type</th>\n",
    "<td>60</td>\n",
    "<td>40</td>\n",
    "<td>-</td>\n",
    "</tr>\n",
    "\n",
    "<tr>\n",
    "<th rowspan=\"2\">Gas hot water heater, Gas hot water supply hot water heating machine</th>\n",
    "<th>Conventional type</th>\n",
    "<td>60</td>\n",
    "<td>-</td>\n",
    "<td>-</td>\n",
    "</tr>\n",
    "<tr>\n",
    "<th>Latent heat recovery type</th>\n",
    "<td>60</td>\n",
    "<td>40</td>\n",
    "<td>-</td>\n",
    "</tr>\n",
    "\n",
    "<tr>\n",
    "<th colspan=\"2\">Electric heater hot water heater, Electric heater hot water supply hot water heating machine</th>\n",
    "<td>60</td>\n",
    "<td>-</td>\n",
    "<td>-</td>\n",
    "</tr>\n",
    "\n",
    "<tr>\n",
    "<th colspan=\"2\">Electric heat pump hot water heating machine</th>\n",
    "<td>55</td>\n",
    "<td>45</td>\n",
    "<td>35</td>\n",
    "</tr>\n",
    "\n",
    "<tr>\n",
    "<th colspan=\"2\">Electric heat pump · gas instantaneous type combined use type hot water supply hot water heating machine<br>\n",
    "(Hot water supply heat source: Gas instantaneous type, <br>Heating heat source: Electric heat pump · gas instantaneous combination)</th>\n",
    "<td>60</td>\n",
    "<td>40</td>\n",
    "<td>-</td>\n",
    "</tr>\n",
    "\n",
    "<tr>\n",
    "<th colspan=\"2\">Electric heat pump · gas instantaneous type combined use type hot water supply hot water heating machine<br>\n",
    "(Hot water supply heat source: Electric heat pump · gas instantaneous combination, <br>Heating heat source: Gas instantaneous type)</th>\n",
    "<td>60</td>\n",
    "<td>40</td>\n",
    "<td>-</td>\n",
    "</tr>\n",
    "\n",
    "<tr>\n",
    "<th colspan=\"2\">Electric heat pump · gas instantaneous type combined use type hot water supply hot water heating machine<br>\n",
    "(Hot water supply heat source: Electric heat pump · gas instantaneous combination, <br>Heating heat source: Electric heat pump · gas instantaneous combination)</th>\n",
    "<td>60</td>\n",
    "<td>40</td>\n",
    "<td>-</td>\n",
    "</tr>\n",
    "\n",
    "<tr>\n",
    "<th colspan=\"2\">Cogeneration system</th>\n",
    "<td colspan=\"3\">Depending on the type of cogeneration system</td>\n",
    "</tr>\n",
    "\n",
    "</tbody>\n",
    "</table>\n"
   ]
  },
  {
   "cell_type": "markdown",
   "metadata": {},
   "source": [
    "The (classification of) outward hot water temperature of the heat source machine for hot water heating shall be changed every hour and expressed as a classification $p_{hs}$ of the outward hot water temperature of the heat source machine for hot water heating. \n",
    "In the case of one heat dissipation system, the classification of the outward hot water temperature of the heat source machine for hot water heating shall be equal to the classification $p_{ln, i}$ of the required outward hot water temperature of the heat radiation system $i$ (where $i = 1$), and in the case of multiple heat dissipation systems, it is calculated by the equation below."
   ]
  },
  {
   "cell_type": "markdown",
   "metadata": {},
   "source": [
    "$$\n",
    "\\large\n",
    "p_{hs} = min(p_{ln,1}, p_{ln,2}, … p_{ln,m})\n",
    "$$"
   ]
  },
  {
   "cell_type": "markdown",
   "metadata": {},
   "source": [
    "Where  \n",
    "$p_{hs}$ is the classification of outward hot water temperature of heat source machine for hot water heating. / 温水暖房用熱源機の往き温水温度の区分(℃)  \n",
    "$p_{ln,i}$ is the classification of the required outward hot water temperature of the heat radiation system $i$. / 放熱系統$i$の要求往き温水温度の区分(℃)  "
   ]
  },
  {
   "cell_type": "markdown",
   "metadata": {},
   "source": [
    "### 5. Return Hot Water Temperature / 戻り温水温度"
   ]
  },
  {
   "cell_type": "markdown",
   "metadata": {},
   "source": [
    "The return hot water temperature $\\theta_{RW,hs}$ of heat source machine for hot water heating shall be calculated by the equation below within a range not exceeding the outword hot water temperature $\\theta_{SW,hs}$ of the machine."
   ]
  },
  {
   "cell_type": "markdown",
   "metadata": {},
   "source": [
    "$$\\large\n",
    "\\theta_{RW,hs} = \\left\\{ \\begin{array}{ll}\n",
    "    0.0301 \\times (T_{dif})^2 - 0.1864 \\times T_{dif} + 20&(熱源機の往き温水温度\\theta_{SW,hs} = 60)\\\\ \n",
    "    0.0604 \\times (T_{dif})^2 - 0.1881 \\times T_{dif} + 20&(熱源機の往き温水温度\\theta_{SW,hs} = 40)\\\\ \n",
    "    \\end{array}\n",
    "\\right.\n",
    "$$\n",
    "<br><br>\n",
    "$$\\large\n",
    "T_{dif} = \\frac{\\sum_{i}Q_{dmd,H,ln,i}}{\\sum_{i}Q'_{max,rad,i} \\times  0.027583}\n",
    "$$\n",
    "<br><br>\n",
    "$$\\large\n",
    "Q'_{max,H,rad,i} = \\left\\{ \\begin{array}{ll}\n",
    "    Q_{max,H,rad,i}&(Q_{ln,dmd,i} > 0)\\\\ \n",
    "    0&(Q_{ln,dmd,i} = 0)\\\\ \n",
    "    \\end{array}\n",
    "\\right.\n",
    "$$"
   ]
  },
  {
   "cell_type": "markdown",
   "metadata": {},
   "source": [
    "Where  \n",
    "$T_{dif}$ is the logarithm average temperature difference. / 対数平均温度差(℃)  \n",
    "$Q_{dmd,H,ln,i}$ is the hourly hot water heat demand of heat radiation system $i$. / 1時間当たりの放熱系統$i$の温水熱需要(MJ/h)  \n",
    "$Q'_{max,H,rad,i}$ is the hourly maximum heating power of radiator installed in heating / cooling section $i$ when hot water heat demand occurs. / 1時間当たりの温水熱需要が発生する場合の暖冷房区画$i$に設置された放熱器の最大暖房出力(MJ/h)  \n",
    "$Q_{max,H,rad,i}$ is the hourly maximum heating power of radiator installed in heating / cooling section $i$. / 1時間当たりの暖冷房区画$i$に設置された放熱器の最大暖房出力(MJ/h)  "
   ]
  },
  {
   "cell_type": "markdown",
   "metadata": {},
   "source": [
    "## Heat Radiation System / 放熱系統"
   ]
  },
  {
   "cell_type": "markdown",
   "metadata": {},
   "source": [
    "### 1. Hot Water Heat Demand / 温水熱需要"
   ]
  },
  {
   "cell_type": "markdown",
   "metadata": {},
   "source": [
    "The hourly hot water heat demand $Q_{dmd,H,ln,i}$ of heat radiation system $i$ is calculated by the equation below."
   ]
  },
  {
   "cell_type": "markdown",
   "metadata": {},
   "source": [
    "$$\n",
    "\\large\n",
    "Q_{dmd,H,ln,i} = Q_{dmd,H,rad,i} + Q_{loss,pp,i}\n",
    "$$"
   ]
  },
  {
   "cell_type": "markdown",
   "metadata": {},
   "source": [
    "Where  \n",
    "$Q_{dmd,H,rad,i}$ is the hourly hot water heat demand of radiator installed in heating / cooling section $i$. / 1時間当たりの暖冷房区画$i$に設置された放熱器の温水熱需要(MJ/h)  \n",
    "$Q_{loss,pp,i}$ is the hourly heat loss of piping $i$. / 1時間当たりの配管$i$の熱損失(MJ/h)  "
   ]
  },
  {
   "cell_type": "markdown",
   "metadata": {},
   "source": [
    "### 2. Hot Water Supply Operation Rate / 温水供給運転率"
   ]
  },
  {
   "cell_type": "markdown",
   "metadata": {},
   "source": [
    "The hot water supply operation rate $r_{WS,ln,i}$ of heat radiation system $i$ is calculated by the equation below."
   ]
  },
  {
   "cell_type": "markdown",
   "metadata": {},
   "source": [
    "$$\n",
    "\\large\n",
    "r_{WS,ln,i} = r_{WS,rad,i}\n",
    "$$"
   ]
  },
  {
   "cell_type": "markdown",
   "metadata": {},
   "source": [
    "Where  \n",
    "$r_{WS,rad,i}$ is the hot water supply operation rate of heat sink installed in heating / cooling section $i$. / 暖冷房区画$i$に設置された放熱器の温水供給運転率  "
   ]
  },
  {
   "cell_type": "markdown",
   "metadata": {},
   "source": [
    "### 3. Classification of Requested Hot Water Temperature / 要求往き温水温度の区分"
   ]
  },
  {
   "cell_type": "markdown",
   "metadata": {},
   "source": [
    "The method of determining the classification $P_{ln,i}$ of the requested outward hot water temperature of the heat radiation system $i$ is shown below.  \n",
    "In Table 4, in the case of a hot water heating source machine having Category 3 of the requested outward hot water temperature, and when there is no unprocessed heating load in the heat radiation system $i$ at the outward hot water temperature of that classification, it is classified as Category 3. \n",
    "Next, in Table 4, \n",
    "in the case of a hot water heating source machine having Category 2 of the requested outward hot water temperature, and when there is no unprocessed heating load in the heat radiation system $i$, it is classified as Category 2. \n",
    "If it does not apply to either, it is classified as Category 1. \n",
    "Therefore, the following calculation is performed up to three times by changing the outward hot water temperature. \n",
    "Hereinafter, the outward hot water temperature to be set at that time is simply expressed as a outward hot water temperature $\\theta_{SW}$."
   ]
  },
  {
   "cell_type": "markdown",
   "metadata": {},
   "source": [
    "## Piping / 配管"
   ]
  },
  {
   "cell_type": "markdown",
   "metadata": {},
   "source": [
    "The hourly heat loss $Q_{loss,pp,i}$ of piping $i$ is calculated by the equation below."
   ]
  },
  {
   "cell_type": "markdown",
   "metadata": {},
   "source": [
    "$$\\large\n",
    "Q_{loss,pp,i} = ((\\theta_{SW} - (\\theta_{ex} \\times 0.7 + 20 \\times 0.3)) \\times L_{pp,ex,i} + (\\theta_{SW} - 20) \\times L_{pp,in,i})\\\\\n",
    "\\large\n",
    "\\times K_{loss,pp,i} \\times r_{WS,rad,i} \\times 3600 \\times 10^{-6}\n",
    "$$"
   ]
  },
  {
   "cell_type": "markdown",
   "metadata": {},
   "source": [
    "Where  \n",
    "$\\theta_{SW}$ is the outward hot water temperature. / 往き温水温度(℃)    \n",
    "$\\theta_{ex}$ is the outside air temperature. / 外気温度(℃)  \n",
    "$L_{pp,ex,i}$ is the length of piping $i$ outside insulation compartment. / 配管$i$の断熱区画外における長さ(m)  \n",
    "$L_{pp,in,i}$ is the length of piping $i$ inside insulation compartment. / 配管$i$の断熱区画内における長さ(m)  \n",
    "$K_{loss,pp,i}$ is the line heat loss coefficient of piping $i$. / 配管$i$の線熱損失係数(W/mK)  \n",
    "$r_{WS,rad,i}$ is the hot water supply operation rate of radiator installed in heating / cooling section $i$. / 暖冷房区画$i$に設置された放熱器の温水供給運転率  "
   ]
  },
  {
   "cell_type": "markdown",
   "metadata": {},
   "source": [
    "The length $L_{pp,ex,i}$ of piping $i$ outside insulation compartment, the length $L_{pp,in,i}$ of piping $i$ inside insulation compartment and the line heat loss coefficient $K_{loss,pp,i}$ of piping $i$ are specified in Appendix I."
   ]
  },
  {
   "cell_type": "markdown",
   "metadata": {},
   "source": [
    "## Radiator / 放熱器"
   ]
  },
  {
   "cell_type": "markdown",
   "metadata": {},
   "source": [
    "### 1. Supply Power / 供給熱量"
   ]
  },
  {
   "cell_type": "markdown",
   "metadata": {},
   "source": [
    "The hourly hot water heat demand $Q_{dmd,H,rad,i}$ of radiator installed in heating / cooling section $i$ is calculated by the equation below."
   ]
  },
  {
   "cell_type": "markdown",
   "metadata": {},
   "source": [
    "$$\\large\n",
    "Q_{dmd,H,rad,i} = Q_{T,H,rad,i} + Q_{loss,rad,i}\n",
    "$$"
   ]
  },
  {
   "cell_type": "markdown",
   "metadata": {},
   "source": [
    "Where  \n",
    "$Q_{T,H,rad,i}$ is the hourly process heating load of radiator installed in heating / cooling section $i$. / 1時間当たりの暖冷房区画$i$に設置された放熱器の処理暖房負荷(MJ/h)  \n",
    "$Q_{loss,rad,i}$ is the hourly heat loss of radiator installed in heating / cooling section $i$. / 1時間当たりの暖冷房区画$i$に設置された放熱器の熱損失(MJ/h)  "
   ]
  },
  {
   "cell_type": "markdown",
   "metadata": {},
   "source": [
    "### 2. Power / 消費電力量"
   ]
  },
  {
   "cell_type": "markdown",
   "metadata": {},
   "source": [
    "The hourly electric energy consumption $E_{E,rad,i}$ of the radiator installed in the heating / cooling section $i$ shall be 0 when the type of radiator is a panel radiator or hot water floor heating. \n",
    "Furthermore, when the type of radiator is fan-convector, it depends on the hourly process heating load $Q_{T,H,rad,i}$ of radiator installed in the heating / cooling section $i$ and the outward hot water temperature $\\theta_{SW}$. Its calculation method is defined in Appendix K."
   ]
  },
  {
   "cell_type": "markdown",
   "metadata": {},
   "source": [
    "### 3. Heat Loss / 熱損失"
   ]
  },
  {
   "cell_type": "markdown",
   "metadata": {},
   "source": [
    "The hourly heat loss $Q_{loss,rad,i}$ of the radiator installed in the heating / cooling section $i$ shall be 0 when the type of radiator is a panel radiator or fan-convector. Furthermore, when the type of radiator is hot water floor heating, it depends on the hourly process heating load $Q_{T,H,rad,i}$ of radiator installed in the heating / cooling section $i$. Its calculation method is defined in Appendix L."
   ]
  },
  {
   "cell_type": "markdown",
   "metadata": {},
   "source": [
    "### 4. Hot Water Supply Operation Rate / 温水供給運転率"
   ]
  },
  {
   "cell_type": "markdown",
   "metadata": {},
   "source": [
    "The hot water supply operation rate $r_{WS,rad,i}$ of the radiator installed in the heating / cooling section $i$ depends on the hourly process heating load $Q_{T,H,rad,i}$ of radiator installed in the heating / cooling section $i$.  \n",
    "The calculation method is defined respectively, depending on the type of radiator:  \n",
    "For a panel radiator, in Appendix J.  \n",
    "For fan-convector, in Appendix K.  \n",
    "For hot water floor heating, in Appendix L."
   ]
  },
  {
   "cell_type": "markdown",
   "metadata": {},
   "source": [
    "### 5. Process Heating Load / 処理暖房負荷"
   ]
  },
  {
   "cell_type": "markdown",
   "metadata": {},
   "source": [
    "The hourly process heating load $Q_{T,H,rad,i}$ of the radiator installed in the heating / cooling section $i$ is equal to the process heating load $Q_{T,H,i}$ of the heating and cooling facility equipment etc. installed in the heating / cooling section $i$ described in Chapter 4  section 1."
   ]
  },
  {
   "cell_type": "markdown",
   "metadata": {},
   "source": [
    "### 6. Maximum Heating Power / 最大暖房出力"
   ]
  },
  {
   "cell_type": "markdown",
   "metadata": {},
   "source": [
    "The hourly maximum heating power $Q_{max,H,rad,i}$ of the radiator installed in the heating / cooling section $i$ depends on the outward hot water temperature $\\theta_{SW}$.  \n",
    "The calculation method is defined respectively, depending on the type of radiator:  \n",
    "For a panel radiator, in Appendix J.  \n",
    "For fan-convector, in Appendix K.  \n",
    "For hot water floor heating, in Appendix L."
   ]
  }
 ],
 "metadata": {
  "kernelspec": {
   "display_name": "Python 3",
   "language": "python",
   "name": "python3"
  },
  "language_info": {
   "codemirror_mode": {
    "name": "ipython",
    "version": 3
   },
   "file_extension": ".py",
   "mimetype": "text/x-python",
   "name": "python",
   "nbconvert_exporter": "python",
   "pygments_lexer": "ipython3",
   "version": "3.6.4"
  }
 },
 "nbformat": 4,
 "nbformat_minor": 2
}
