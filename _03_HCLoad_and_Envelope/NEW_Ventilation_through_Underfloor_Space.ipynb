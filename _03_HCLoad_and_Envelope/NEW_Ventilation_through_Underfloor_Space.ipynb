{
 "cells": [
  {
   "cell_type": "code",
   "execution_count": 1,
   "metadata": {
    "collapsed": false
   },
   "outputs": [
    {
     "name": "stdout",
     "output_type": "stream",
     "text": [
      "Importing Jupyter notebook from ..\\_11_Others\\External_Condition.ipynb\n",
      "Importing Jupyter notebook from Heating_Cooling_Floor_Area.ipynb\n"
     ]
    }
   ],
   "source": [
    "import math\n",
    "import matplotlib.pyplot as plt\n",
    "import numpy as np\n",
    "from enum import Enum\n",
    "import sys\n",
    "sys.path.append('../')\n",
    "import nbimporter\n",
    "from _11_Others import External_Condition as EC\n",
    "import Heating_Cooling_Floor_Area as HCFA"
   ]
  },
  {
   "cell_type": "markdown",
   "metadata": {},
   "source": [
    "# Outside Air Intake Ventilation System through Underfloor Space / 床下空間を経由して外気を導入する換気方式"
   ]
  },
  {
   "cell_type": "markdown",
   "metadata": {},
   "source": [
    "## 1. Introduction"
   ]
  },
  {
   "cell_type": "markdown",
   "metadata": {},
   "source": [
    "This calculation depends on the specification of \"Chapter 3 - 1 - Apx.D Heating & Cooling Load and Envelope Performance - General - Appendix D Outside Air Intake Ventilation System\" in BRI."
   ]
  },
  {
   "cell_type": "markdown",
   "metadata": {},
   "source": [
    "## 2. Type"
   ]
  },
  {
   "cell_type": "markdown",
   "metadata": {},
   "source": [
    "## 3. Functions"
   ]
  },
  {
   "cell_type": "markdown",
   "metadata": {},
   "source": [
    "### 3.1 Heating & Cooling Load Reduction / 暖冷房負荷削減量"
   ]
  },
  {
   "cell_type": "markdown",
   "metadata": {},
   "source": [
    "暖冷房負荷削減量の定義の元の式は以下の式である。"
   ]
  },
  {
   "cell_type": "markdown",
   "metadata": {},
   "source": [
    "$$ \\begin{align}\n",
    "    \\displaystyle \\Delta L'_{H,uf,R,i} & = \\rho_{air} \\times Cp_{air} \\times V_{R,i} \\times ( \\theta_{uf,R} - \\theta_{ex} ) \\times 10^{-3} \\nonumber \\\\\n",
    "    & - U_s \\times A_{s,ufvnt,R,i} \\times ( \\theta_{in} - \\theta_{uf,R} ) \\times 3.6 \\times 10^{-3} \\nonumber \\\\\n",
    "    & + U_{s,vert} \\times A_{s,ufvnt,R,i} \\times ( \\theta_{in} - \\theta_{ex} ) \\times 0.7 \\times 3.6 \\times 10^{-3} \\nonumber\n",
    "\\end{align} $$"
   ]
  },
  {
   "cell_type": "markdown",
   "metadata": {},
   "source": [
    "$$ \\begin{align}\n",
    "    \\displaystyle \\Delta L'_{CS,uf,R,i} & = \\rho_{air} \\times Cp_{air} \\times V_{R,i} \\times ( \\theta_{ex} - \\theta_{uf,R} ) \\times 10^{-3} \\nonumber \\\\\n",
    "    & + U_s \\times A_{s,ufvnt,R,i} \\times ( \\theta_{in} - \\theta_{uf,R} ) \\times 3.6 \\times 10^{-3} \\nonumber \\\\\n",
    "    & - U_{s,vert} \\times A_{s,ufvnt,R,i} \\times ( \\theta_{in} - \\theta_{ex} ) \\times 0.7 \\times 3.6 \\times 10^{-3} \\nonumber\n",
    "\\end{align} $$"
   ]
  },
  {
   "cell_type": "markdown",
   "metadata": {},
   "source": [
    "$$\n",
    "\\theta_{uf,R} = \\frac{ \\rho_{air} \\times Cp_{air} \\times V_{R,A} \\times \\theta_{ex} + { A_{s,ufvnt,R,A} \\times ( U_s \\times \\theta_{in} + U_{gf} \\times \\theta_g ) + \\psi \\times L_{uf,R} \\times \\theta_{ex} } \\times 3.6 }{ \\rho_{air} \\times Cp_{air} \\times V_{R,A} + { A_{s,ufvnt,R,A} \\times ( U_s + U_{gf} ) + \\psi \\times L_{uf,R} } \\times 3.6 }\n",
    "$$"
   ]
  },
  {
   "cell_type": "markdown",
   "metadata": {},
   "source": [
    "Where  \n",
    "$ \\Delta L'_{H,uf,R,i} $ is the hourly heating load reduction by outside air intake ventilation system through underfloor heating & cooling area  $i$  in the standard model house / 暖冷房区画$i$の標準住戸の床下空間を経由して外気を導入する換気方式による1時間当たりの暖房負荷削減量 (MJ/h);  \n",
    "$ \\Delta L'_{CS,uf,R,i} $ is the hourly sensible cooling load reduction by outside air intake ventilation system through underfloor heating & cooling area  $i$  in the standard model house / 暖冷房区画$i$の標準住戸の床下空間を経由して外気を導入する換気方式による1時間当たりの冷房顕熱負荷削減量 (MJ/h);  \n",
    "$ \\rho_{air} $ is the air density / 空気の密度 (kg/m<sup>3</sup>, 1.2);  \n",
    "$ Cp_{air} $ is the specific heat of air / 空気の比熱 (kJ/kgK, 1.006);  \n",
    "$ V_{R,i} $ is the hourly ventiration amount of heating & cooling area $i$ in the standard model house / 暖冷房区画$i$の標準住戸の1時間当たりの換気量 (m<sup>3</sup>/h);  \n",
    "$ V_{R,A} $ is the hourly ventiration amount in the standard model house / 標準住戸の1時間当たりの換気量 (m<sup>3</sup>/h);  \n",
    "$ U_s $ is the thermal transmittance of floor / 床の熱貫流率 (W/m<sup>2</sup>K);  \n",
    "$ U_{s,vert} $ is the vertual thermal tranmittance of floor assumed when the heating & cooling load were calculated / 暖冷房負荷計算時に想定した床の熱貫流率(W/m<sup>2</sup>K);  \n",
    "$ U_{gf} $ is the thermal transmittance of the ground / 地盤の熱貫流率 (W/m<sup>2</sup>K);  \n",
    "$ \\psi $ is the linier thermal transmittance of the basement / 基礎の線熱貫流率 (W/mK);  \n",
    "$ A_{s,ufvnt,R,i} $ is the floor area of heating & cooling area $i$ adjacent to the under floor space with outside air intake in the standard model house / 暖冷房区画$i$の標準住戸の外気を導入する床下空間に接する床の面積 (m<sup>2</sup>);  \n",
    "$ A_{s,ufvnt,R,A} $ is the floor area adjacent to the under floor space with outside air intake in the standard model house / 標準住戸の外気を導入する床下空間に接する床の面積 (m<sup>2</sup>);  \n",
    "$ L_{uf,R} $ is the perimeter length of the basement of the under floor space with outside air intake in the standard model house / 標準住戸の外気を導入する床下空間の基礎外周長さ (m);  \n",
    "$ \\theta_{ex} $ is the outside air temperature / 外気温度 (degree C);  \n",
    "$ \\theta_{uf,R} $ is the temperature in the undefloor space in the standard model house / 標準住戸の床下温度 (<sup>o</sup>C);  \n",
    "$ \\theta_{in} $ is the inside air temperature / 室内温度 (degree C);  \n",
    "$ \\theta_g $ is the ground temperature / 地盤温度 (degree C)."
   ]
  },
  {
   "cell_type": "code",
   "execution_count": 2,
   "metadata": {
    "collapsed": true
   },
   "outputs": [],
   "source": [
    "def get_delta_L_H_uf_R_i(V_R_i, Theta_uf_R, Theta_ex, A_s_ufvnt_R_i, U_s_vert ):\n",
    "    U_s      = 2.223 # W/m2K\n",
    "    Theta_in = 20.0  # degree C\n",
    "    rho_air  = 1.20  # kg/m3\n",
    "    Cp_air   = 1.006 # kJ/kgK\n",
    "    return   rho_air * Cp_air * V_R_i * ( Theta_uf_R - Theta_ex ) * ( 1/1000 ) \\\n",
    "           - U_s * A_s_ufvnt_R_i * ( Theta_in - Theta_uf_R ) * ( 3.6/1000 ) \\\n",
    "           + U_s_vert * A_s_ufvnt_R_i * ( Theta_in - Theta_ex ) * 0.7 * ( 3.6/1000 )"
   ]
  },
  {
   "cell_type": "code",
   "execution_count": 3,
   "metadata": {
    "collapsed": true
   },
   "outputs": [],
   "source": [
    "def get_delta_L_CS_uf_R_i(V_R_i, Theta_uf_R, Theta_ex, A_s_ufvnt_R_i, U_s_vert ):\n",
    "    U_s      = 2.223 # W/m2K\n",
    "    Theta_in = 27.0  # degree C\n",
    "    rho_air  = 1.20  # kg/m3\n",
    "    Cp_air   = 1.006 # kJ/kgK\n",
    "    return - rho_air * Cp_air * V_R_i * ( Theta_uf_R - Theta_ex ) * ( 1/1000 ) \\\n",
    "           + U_s * A_s_ufvnt_R_i * ( Theta_in - Theta_uf_R ) * ( 3.6/1000 ) \\\n",
    "           - U_s_vert * A_s_ufvnt_R_i * ( Theta_in - Theta_ex ) * 0.7 * ( 3.6/1000 )"
   ]
  },
  {
   "cell_type": "code",
   "execution_count": 4,
   "metadata": {
    "collapsed": false
   },
   "outputs": [],
   "source": [
    "def get_theta_uf_R(V_R_A, theta_ex, A_s_ufvnt_R_A, theta_g, psi, L_uf_R, HCSeason):\n",
    "    rho_air  = 1.20  # kg/m3\n",
    "    Cp_air   = 1.006 # kJ/kgK\n",
    "    U_s      = 2.223 # W/m2K\n",
    "    U_gf     = 2.223 # W/m2K\n",
    "    theta_in = { 'heating' : 20.0, 'cooling' : 27.0 }[HCSeason]\n",
    "    return ( rho_air * Cp_air * V_R_A * theta_ex + ( A_s_ufvnt_R_A * ( U_s * theta_in + U_gf * theta_g) + psi * L_uf_R * theta_ex ) * 3.6 ) \\\n",
    "           / ( rho_air * Cp_air * V_R_A + ( A_s_ufvnt_R_A * ( U_s + U_gf) + psi * L_uf_R ) * 3.6 )"
   ]
  },
  {
   "cell_type": "markdown",
   "metadata": {},
   "source": [
    "#### Example"
   ]
  },
  {
   "cell_type": "code",
   "execution_count": 5,
   "metadata": {
    "collapsed": false,
    "scrolled": true
   },
   "outputs": [
    {
     "data": {
      "text/plain": [
       "0.3966346363440001"
      ]
     },
     "execution_count": 5,
     "metadata": {},
     "output_type": "execute_result"
    }
   ],
   "source": [
    "get_delta_L_H_uf_R_i( V_R_i=52.933, Theta_uf_R=14.13, Theta_ex=2.6, A_s_ufvnt_R_i=14.905, U_s_vert=0.55090 )"
   ]
  },
  {
   "cell_type": "code",
   "execution_count": 6,
   "metadata": {
    "collapsed": false
   },
   "outputs": [
    {
     "data": {
      "text/plain": [
       "0.29349255987599987"
      ]
     },
     "execution_count": 6,
     "metadata": {},
     "output_type": "execute_result"
    }
   ],
   "source": [
    "get_delta_L_CS_uf_R_i( V_R_i=52.933, Theta_uf_R=14.13, Theta_ex=2.6, A_s_ufvnt_R_i=14.905, U_s_vert=0.55090 )"
   ]
  },
  {
   "cell_type": "code",
   "execution_count": 7,
   "metadata": {
    "collapsed": false
   },
   "outputs": [
    {
     "data": {
      "text/plain": [
       "14.132923012411124"
      ]
     },
     "execution_count": 7,
     "metadata": {},
     "output_type": "execute_result"
    }
   ],
   "source": [
    "get_theta_uf_R(144.096,2.6,32.705,19.108478700327,0.858509693537642,23.3328204896022,'heating')"
   ]
  },
  {
   "cell_type": "markdown",
   "metadata": {},
   "source": [
    "### 3.1-NEW Heating & Cooling Load Reduction / 暖冷房負荷削減量"
   ]
  },
  {
   "cell_type": "markdown",
   "metadata": {},
   "source": [
    "現行評価は標準住戸における暖冷房負荷削減量を計算し、その後で面積補正を行っている。"
   ]
  },
  {
   "cell_type": "markdown",
   "metadata": {},
   "source": [
    "$$\n",
    "\\displaystyle \\Delta L'_{H,uf,i} = \\Delta L'_{H,uf,R,i} \\times \\frac{ A_{HCZ,i} }{ A_{HCZ,R,i} }\n",
    "$$"
   ]
  },
  {
   "cell_type": "markdown",
   "metadata": {},
   "source": [
    "$$\n",
    "\\displaystyle \\Delta L'_{CS,uf,i} = \\Delta L'_{CS,uf,R,i} \\times \\frac{ A_{HCZ,i} }{ A_{HCZ,R,i} }\n",
    "$$"
   ]
  },
  {
   "cell_type": "markdown",
   "metadata": {},
   "source": [
    "今回の変更では、面積補正等を行わずに $\\Delta L'_{H,uf,i}$、$\\Delta CS'_{H,uf,i}$ を求めるのが狙いである。なるべく、もとの式を壊さないように式変形を行うことで、現行評価結果からの乖離を少なくする。"
   ]
  },
  {
   "cell_type": "markdown",
   "metadata": {},
   "source": [
    "$$ \\begin{align}\n",
    "    \\displaystyle\n",
    "    \\Delta L'_{H,uf,i} & = \\Delta L'_{H,uf,R,i} \\times \\frac{ A_{HCZ,i} }{ A_{HCZ,R,i} } \\nonumber \\\\\n",
    "    & = \\rho_{air} \\times Cp_{air} \\times V_{R,i} \\times \\frac{ A_{HCZ,i} }{ A_{HCZ,R,i} } \\times ( \\theta_{uf,R} - \\theta_{ex} ) \\times 10^{-3} \\nonumber \\\\\n",
    "    & - U_s \\times A_{s,ufvnt,R,i} \\times \\frac{ A_{HCZ,i} }{ A_{HCZ,R,i} } \\times ( \\theta_{in} - \\theta_{uf,R} ) \\times 3.6 \\times 10^{-3} \\nonumber \\\\\n",
    "    & + U_{s,vert} \\times A_{s,ufvnt,R,i} \\times \\frac{ A_{HCZ,i} }{ A_{HCZ,R,i} } \\times ( \\theta_{in} - \\theta_{ex} ) \\times 0.7 \\times 3.6 \\times 10^{-3} \\nonumber \\\\\n",
    "    & = \\rho_{air} \\times Cp_{air} \\times V_i \\times ( \\theta_{uf} - \\theta_{ex} ) \\times 10^{-3} \\nonumber \\\\\n",
    "    & - U_s \\times A_{s,ufvnt,i} \\times ( \\theta_{in} - \\theta_{uf} ) \\times 3.6 \\times 10^{-3} \\nonumber \\\\\n",
    "    & + U_{s,vert} \\times A_{s,ufvnt,i} \\times ( \\theta_{in} - \\theta_{ex} ) \\times 0.7 \\times 3.6 \\times 10^{-3} \\nonumber\n",
    "\\end{align} $$"
   ]
  },
  {
   "cell_type": "markdown",
   "metadata": {},
   "source": [
    "$$ \\begin{align}\n",
    "    \\displaystyle\n",
    "    \\Delta L'_{CS,uf,i} & = \\Delta L'_{CS,uf,R,i} \\times \\frac{ A_{HCZ,i} }{ A_{HCZ,R,i} } \\nonumber \\\\\n",
    "    & = \\rho_{air} \\times Cp_{air} \\times V_{R,i} \\times \\frac{ A_{HCZ,i} }{ A_{HCZ,R,i} } \\times ( \\theta_{ex} - \\theta_{uf,R} ) \\times 10^{-3} \\nonumber \\\\\n",
    "    & + U_s \\times A_{s,ufvnt,R,i} \\times \\frac{ A_{HCZ,i} }{ A_{HCZ,R,i} } \\times ( \\theta_{in} - \\theta_{uf,R} ) \\times 3.6 \\times 10^{-3} \\nonumber \\\\\n",
    "    & - U_{s,vert} \\times A_{s,ufvnt,R,i} \\times \\frac{ A_{HCZ,i} }{ A_{HCZ,R,i} } \\times ( \\theta_{in} - \\theta_{ex} ) \\times 0.7 \\times 3.6 \\times 10^{-3} \\nonumber \\\\\n",
    "    & = \\rho_{air} \\times Cp_{air} \\times V_i \\times ( \\theta_{ex} - \\theta_{uf} ) \\times 10^{-3} \\nonumber \\\\\n",
    "    & + U_s \\times A_{s,ufvnt,i} \\times ( \\theta_{in} - \\theta_{uf} ) \\times 3.6 \\times 10^{-3} \\nonumber \\\\\n",
    "    & - U_{s,vert} \\times A_{s,ufvnt,i} \\times ( \\theta_{in} - \\theta_{ex} ) \\times 0.7 \\times 3.6 \\times 10^{-3} \\nonumber\n",
    "\\end{align} $$"
   ]
  },
  {
   "cell_type": "markdown",
   "metadata": {},
   "source": [
    "ここで、"
   ]
  },
  {
   "cell_type": "markdown",
   "metadata": {},
   "source": [
    "$$\n",
    "\\displaystyle\n",
    "V_i = V_{R,i} \\times \\frac{A_{HCZ,i}}{A_{HCZ,R,i}}\n",
    "$$"
   ]
  },
  {
   "cell_type": "markdown",
   "metadata": {},
   "source": [
    "$$\n",
    "\\displaystyle\n",
    "A_{s,ufvnt,i} = A_{s,ufvnt,R,i} \\times \\frac{A_{HCZ,i}}{A_{HCZ,R,i}}\n",
    "$$"
   ]
  },
  {
   "cell_type": "markdown",
   "metadata": {},
   "source": [
    "の関係が維持されるのであれば、計算方法の修正前後で結果は変動しないはずである。"
   ]
  },
  {
   "cell_type": "markdown",
   "metadata": {},
   "source": [
    "床下温度を計算する以下の式は、分母分子に、$A_A \\div A_{A,R}$を乗じることで、式変形をしておく。"
   ]
  },
  {
   "cell_type": "markdown",
   "metadata": {},
   "source": [
    "$$\n",
    "\\theta_{uf,R} = \\frac{ \\rho_{air} \\times Cp_{air} \\times V_{R,A} \\times \\theta_{ex} + { A_{s,ufvnt,R,A} \\times ( U_s \\times \\theta_{in} + U_{gf} \\times \\theta_g ) + \\psi \\times L_{uf,R} \\times \\theta_{ex} } \\times 3.6 }{ \\rho_{air} \\times Cp_{air} \\times V_{R,A} + { A_{s,ufvnt,R,A} \\times ( U_s + U_{gf} ) + \\psi \\times L_{uf,R} } \\times 3.6 }\n",
    "$$"
   ]
  },
  {
   "cell_type": "markdown",
   "metadata": {},
   "source": [
    "式変形後"
   ]
  },
  {
   "cell_type": "markdown",
   "metadata": {},
   "source": [
    "$$\n",
    "\\theta_{uf} = \\frac{ \\rho_{air} \\times Cp_{air} \\times V_A \\times \\theta_{ex} + { A_{s,ufvnt,A} \\times ( U_s \\times \\theta_{in} + U_{gf} \\times \\theta_g ) + \\psi \\times L_{uf} \\times \\theta_{ex} } \\times 3.6 }{ \\rho_{air} \\times Cp_{air} \\times V_A + { A_{s,ufvnt,A} \\times ( U_s + U_{gf} ) + \\psi \\times L_{uf} } \\times 3.6 }\n",
    "$$"
   ]
  },
  {
   "cell_type": "markdown",
   "metadata": {},
   "source": [
    "ここで、"
   ]
  },
  {
   "cell_type": "markdown",
   "metadata": {},
   "source": [
    "$$\n",
    "\\displaystyle\n",
    "V_A = V_{R,A} \\times \\frac{A_A}{A_{A,R}}\n",
    "$$"
   ]
  },
  {
   "cell_type": "markdown",
   "metadata": {},
   "source": [
    "$$\n",
    "\\displaystyle\n",
    "A_{s,ufvnt,A} = A_{s,ufvnt,R,A} \\times \\frac{A_A}{A_{A,R}}\n",
    "$$"
   ]
  },
  {
   "cell_type": "markdown",
   "metadata": {},
   "source": [
    "$$\n",
    "\\displaystyle\n",
    "L_{uf} = L_{uf,R} \\times \\frac{A_A}{A_{A,R}}\n",
    "$$"
   ]
  },
  {
   "cell_type": "markdown",
   "metadata": {},
   "source": [
    "が成り立つものと仮定している。  \n",
    "成り立つのであれば、修正前後で値は変わらないが、成り立たないのであれば、修正前後で値が変わることを意味する。  \n",
    "（後述するように長さ$L_{uf}$については面積補正とは次元が異なるため、成り立たない。）"
   ]
  },
  {
   "cell_type": "code",
   "execution_count": 8,
   "metadata": {
    "collapsed": true
   },
   "outputs": [],
   "source": [
    "def NEW_get_delta_L_H_uf_i(V_i, Theta_uf, Theta_ex, A_s_ufvnt_i, U_s_vert ):\n",
    "    U_s      = 2.223 # W/m2K\n",
    "    Theta_in = 20.0  # degree C\n",
    "    rho_air  = 1.20  # kg/m3\n",
    "    Cp_air   = 1.006 # kJ/kgK\n",
    "    return   rho_air * Cp_air * V_i * ( Theta_uf - Theta_ex ) * ( 1/1000 ) \\\n",
    "           - U_s * A_s_ufvnt_i * ( Theta_in - Theta_uf ) * ( 3.6/1000 ) \\\n",
    "           + U_s_vert * A_s_ufvnt_i * ( Theta_in - Theta_ex ) * 0.7 * ( 3.6/1000 )"
   ]
  },
  {
   "cell_type": "code",
   "execution_count": 9,
   "metadata": {
    "collapsed": true
   },
   "outputs": [],
   "source": [
    "def NEW_get_delta_L_CS_uf_i(V_i, Theta_uf, Theta_ex, A_s_ufvnt_i, U_s_vert ):\n",
    "    U_s      = 2.223 # W/m2K\n",
    "    Theta_in = 27.0  # degree C\n",
    "    rho_air  = 1.20  # kg/m3\n",
    "    Cp_air   = 1.006 # kJ/kgK\n",
    "    return - rho_air * Cp_air * V_i * ( Theta_uf - Theta_ex ) * ( 1/1000 ) \\\n",
    "           + U_s * A_s_ufvnt_i * ( Theta_in - Theta_uf ) * ( 3.6/1000 ) \\\n",
    "           - U_s_vert * A_s_ufvnt_i * ( Theta_in - Theta_ex ) * 0.7 * ( 3.6/1000 )"
   ]
  },
  {
   "cell_type": "code",
   "execution_count": 10,
   "metadata": {
    "collapsed": true
   },
   "outputs": [],
   "source": [
    "def NEW_get_theta_uf(V_A, theta_ex, A_s_ufvnt_A, theta_g, psi, L_uf, HCSeason):\n",
    "    rho_air  = 1.20  # kg/m3\n",
    "    Cp_air   = 1.006 # kJ/kgK\n",
    "    U_s      = 2.223 # W/m2K\n",
    "    U_gf     = 2.223 # W/m2K\n",
    "    theta_in = { 'heating' : 20.0, 'cooling' : 27.0 }[HCSeason]\n",
    "    return ( rho_air * Cp_air * V_A * theta_ex + ( A_s_ufvnt_A * ( U_s * theta_in + U_gf * theta_g) + psi * L_uf * theta_ex ) * 3.6 ) \\\n",
    "           / ( rho_air * Cp_air * V_A + ( A_s_ufvnt_A * ( U_s + U_gf) + psi * L_uf ) * 3.6 )"
   ]
  },
  {
   "cell_type": "markdown",
   "metadata": {},
   "source": [
    "仮に当該住戸のある部屋が標準住戸に比べて1.2倍の面積の関係にあったとする。"
   ]
  },
  {
   "cell_type": "markdown",
   "metadata": {},
   "source": [
    "暖房負荷削減量の新旧評価方法の比較"
   ]
  },
  {
   "cell_type": "code",
   "execution_count": 11,
   "metadata": {
    "collapsed": false
   },
   "outputs": [
    {
     "data": {
      "text/plain": [
       "0.47596156361280006"
      ]
     },
     "execution_count": 11,
     "metadata": {},
     "output_type": "execute_result"
    }
   ],
   "source": [
    "get_delta_L_H_uf_R_i( V_R_i = 52.933, Theta_uf_R = 14.13, Theta_ex = 2.6, A_s_ufvnt_R_i = 14.905, U_s_vert = 0.55090 )*1.2"
   ]
  },
  {
   "cell_type": "code",
   "execution_count": 12,
   "metadata": {
    "collapsed": false
   },
   "outputs": [
    {
     "data": {
      "text/plain": [
       "0.4759615636128002"
      ]
     },
     "execution_count": 12,
     "metadata": {},
     "output_type": "execute_result"
    }
   ],
   "source": [
    "NEW_get_delta_L_H_uf_i( V_i = 52.933 * 1.2, Theta_uf = 14.13, Theta_ex = 2.6, A_s_ufvnt_i = 14.905 * 1.2, U_s_vert = 0.55090 )"
   ]
  },
  {
   "cell_type": "markdown",
   "metadata": {},
   "source": [
    "冷房顕熱負荷削減量の新旧評価方法の比較"
   ]
  },
  {
   "cell_type": "code",
   "execution_count": 13,
   "metadata": {
    "collapsed": false
   },
   "outputs": [
    {
     "data": {
      "text/plain": [
       "0.35219107185119986"
      ]
     },
     "execution_count": 13,
     "metadata": {},
     "output_type": "execute_result"
    }
   ],
   "source": [
    "get_delta_L_CS_uf_R_i( V_R_i = 52.933, Theta_uf_R = 14.13, Theta_ex = 2.6, A_s_ufvnt_R_i = 14.905, U_s_vert = 0.55090 ) * 1.2"
   ]
  },
  {
   "cell_type": "code",
   "execution_count": 14,
   "metadata": {
    "collapsed": false
   },
   "outputs": [
    {
     "data": {
      "text/plain": [
       "0.3521910718511996"
      ]
     },
     "execution_count": 14,
     "metadata": {},
     "output_type": "execute_result"
    }
   ],
   "source": [
    "NEW_get_delta_L_CS_uf_i( V_i = 52.933 * 1.2, Theta_uf = 14.13, Theta_ex = 2.6, A_s_ufvnt_i = 14.905 * 1.2, U_s_vert = 0.55090 )"
   ]
  },
  {
   "cell_type": "markdown",
   "metadata": {},
   "source": [
    "床下空間の温度の比較"
   ]
  },
  {
   "cell_type": "code",
   "execution_count": 15,
   "metadata": {
    "collapsed": false
   },
   "outputs": [
    {
     "data": {
      "text/plain": [
       "14.132923012411124"
      ]
     },
     "execution_count": 15,
     "metadata": {},
     "output_type": "execute_result"
    }
   ],
   "source": [
    "get_theta_uf_R( V_R_A = 144.096, theta_ex = 2.6, A_s_ufvnt_R_A = 32.705, theta_g = 19.108478700327, psi = 0.858509693537642, L_uf_R = 23.3328204896022, HCSeason = 'heating')"
   ]
  },
  {
   "cell_type": "code",
   "execution_count": 16,
   "metadata": {
    "collapsed": false
   },
   "outputs": [
    {
     "data": {
      "text/plain": [
       "14.132923012411121"
      ]
     },
     "execution_count": 16,
     "metadata": {},
     "output_type": "execute_result"
    }
   ],
   "source": [
    "NEW_get_theta_uf( V_A = 144.096 * 1.2, theta_ex = 2.6, A_s_ufvnt_A = 32.705 * 1.2, theta_g = 19.108478700327, psi = 0.858509693537642, L_uf = 23.3328204896022 * 1.2, HCSeason = 'heating')"
   ]
  },
  {
   "cell_type": "markdown",
   "metadata": {},
   "source": [
    "以上、換気量、床面積、長さについて、標準住戸と当該住戸の比が一定であるという仮定に基づく限り、新旧評価は一致していることを確認した。"
   ]
  },
  {
   "cell_type": "markdown",
   "metadata": {
    "collapsed": true
   },
   "source": [
    "### 3.2 Ventilation Amount / 換気量"
   ]
  },
  {
   "cell_type": "markdown",
   "metadata": {},
   "source": [
    "$$\n",
    "\\displaystyle V_{R,i} = V_{R,A} \\times \\frac{ A_{HCZ,R,i } }{ A_{MR,R} + A_{OR,R} }\n",
    "$$"
   ]
  },
  {
   "cell_type": "markdown",
   "metadata": {},
   "source": [
    "$$\n",
    "\\displaystyle V_{R,A} = ( A_{MR,R} + A_{OR,R} + A_{NO,R} ) \\times 2.4 \\times 0.5\n",
    "$$"
   ]
  },
  {
   "cell_type": "markdown",
   "metadata": {},
   "source": [
    "Where  \n",
    "$V_{R,i}$ is the hourly ventilation amount at heating and cooling area $i$ of the standard house / 標準住戸における暖冷房区画 $i$ の1時間当たりの換気量 (m<sup>3</sup>/h);  \n",
    "$V_{R,A}$ is the hourly ventilation amount of the standard house / 標準住戸における1時間当たりの換気量 (m<sup>3</sup>/h);  \n",
    "$ A_{HCZ,R,i} $ is the floor area of heating and cooling area $i$ of the standard house / 標準住戸における暖冷房区画 $i$ の床面積 (m<sup>2</sup>);  \n",
    "$ A_{MR,R} $ is the floor area of the main habitable room of the standard house / 標準住戸の主たる居室の床面積 (m<sup>2</sup>);  \n",
    "$ A_{OR,R} $ is the floor area of the other habitable room of the standard house / 標準住戸のその他の居室の床面積 (m<sup>2</sup>);  \n",
    "$ A_{NO,R} $ is the floor area of the non habitable room of the standard house / 標準住戸の非居室の床面積 (m<sup>2</sup>)."
   ]
  },
  {
   "cell_type": "markdown",
   "metadata": {},
   "source": [
    "$ A_{MR,R}$"
   ]
  },
  {
   "cell_type": "code",
   "execution_count": 17,
   "metadata": {
    "collapsed": false
   },
   "outputs": [
    {
     "data": {
      "text/plain": [
       "29.81"
      ]
     },
     "execution_count": 17,
     "metadata": {},
     "output_type": "execute_result"
    }
   ],
   "source": [
    "HCFA.get_A_MR_R()"
   ]
  },
  {
   "cell_type": "markdown",
   "metadata": {},
   "source": [
    "$A_{OR,R}$"
   ]
  },
  {
   "cell_type": "code",
   "execution_count": 18,
   "metadata": {
    "collapsed": false
   },
   "outputs": [
    {
     "data": {
      "text/plain": [
       "51.34"
      ]
     },
     "execution_count": 18,
     "metadata": {},
     "output_type": "execute_result"
    }
   ],
   "source": [
    "HCFA.get_A_OR_R()"
   ]
  },
  {
   "cell_type": "markdown",
   "metadata": {},
   "source": [
    "$A_{NO,R}$"
   ]
  },
  {
   "cell_type": "code",
   "execution_count": 19,
   "metadata": {
    "collapsed": false
   },
   "outputs": [
    {
     "data": {
      "text/plain": [
       "38.93"
      ]
     },
     "execution_count": 19,
     "metadata": {},
     "output_type": "execute_result"
    }
   ],
   "source": [
    "HCFA.get_A_NO_R()"
   ]
  },
  {
   "cell_type": "markdown",
   "metadata": {},
   "source": [
    "$A_{HCZ,R,i}$"
   ]
  },
  {
   "cell_type": "code",
   "execution_count": 20,
   "metadata": {
    "collapsed": false
   },
   "outputs": [
    {
     "data": {
      "text/plain": [
       "[29.81, 16.56, 13.25, 10.76, 10.77, 3.31, 1.66, 3.31, 13.25, 4.97, 10.77, 1.66]"
      ]
     },
     "execution_count": 20,
     "metadata": {},
     "output_type": "execute_result"
    }
   ],
   "source": [
    "HCFA.get_A_HCZ_R()"
   ]
  },
  {
   "cell_type": "code",
   "execution_count": 21,
   "metadata": {
    "collapsed": true
   },
   "outputs": [],
   "source": [
    "def get_V_R_A():\n",
    "    return ( HCFA.get_A_MR_R() + HCFA.get_A_OR_R() + HCFA.get_A_NO_R() ) * 2.4 * 0.5"
   ]
  },
  {
   "cell_type": "code",
   "execution_count": 22,
   "metadata": {
    "collapsed": true
   },
   "outputs": [],
   "source": [
    "def get_V_R():\n",
    "    return [ get_V_R_A() * A_HCZ_R_i / ( HCFA.get_A_MR_R() + HCFA.get_A_OR_R() ) for A_HCZ_R_i in HCFA.get_A_HCZ_R() ]"
   ]
  },
  {
   "cell_type": "markdown",
   "metadata": {},
   "source": [
    "#### Example"
   ]
  },
  {
   "cell_type": "code",
   "execution_count": 23,
   "metadata": {
    "collapsed": false
   },
   "outputs": [
    {
     "data": {
      "text/plain": [
       "144.096"
      ]
     },
     "execution_count": 23,
     "metadata": {},
     "output_type": "execute_result"
    }
   ],
   "source": [
    "get_V_R_A()"
   ]
  },
  {
   "cell_type": "code",
   "execution_count": 24,
   "metadata": {
    "collapsed": false
   },
   "outputs": [
    {
     "data": {
      "text/plain": [
       "[52.93286210720887,\n",
       " 29.40517264325323,\n",
       " 23.527689463955635,\n",
       " 19.106259519408503,\n",
       " 19.12401626617375,\n",
       " 5.877483179297597,\n",
       " 2.947619963031423,\n",
       " 5.877483179297597,\n",
       " 23.527689463955635,\n",
       " 8.82510314232902,\n",
       " 19.12401626617375,\n",
       " 2.947619963031423]"
      ]
     },
     "execution_count": 24,
     "metadata": {},
     "output_type": "execute_result"
    }
   ],
   "source": [
    "get_V_R()"
   ]
  },
  {
   "cell_type": "markdown",
   "metadata": {},
   "source": [
    "### 3.2-NEW Ventilation Amount / 換気量"
   ]
  },
  {
   "cell_type": "markdown",
   "metadata": {},
   "source": [
    "換気量を面積補正した上で式変形していく。"
   ]
  },
  {
   "cell_type": "markdown",
   "metadata": {},
   "source": [
    "$$ \\begin{align}\n",
    "\\displaystyle\n",
    "V_i &= V_{R,i} \\times \\frac{A_{HCZ,i}}{A_{HCZ,R,i}} \\nonumber \\\\\n",
    "&= V_{R,A} \\times \\frac{ A_{HCZ,R,i } }{ A_{MR,R} + A_{OR,R} }  \\times \\frac{A_{HCZ,i}}{A_{HCZ,R,i}} \\nonumber \\\\\n",
    "&= \\frac{ A_{A,R} }{ A_{MR,R} + A_{OR,R} } \\times 2.4 \\times 0.5 \\times A_{HCZ,i} \\nonumber \\\\\n",
    "\\end{align} $$"
   ]
  },
  {
   "cell_type": "markdown",
   "metadata": {},
   "source": [
    "省エネ基準上、換気量は（非居室も含めた）住宅全体の換気量として計算されている。従って、単純に居室の容積に0.5回換気を想定したものよりは換気量は多くなる。その値は、$A_{A,R} \\div (A_{MR,R}+A_{OR,R})$で表される。ただし、この値は標準住戸における比率よりは実住戸における比率を用いる方が望ましく、本来であれば以下の式が好ましい。"
   ]
  },
  {
   "cell_type": "markdown",
   "metadata": {},
   "source": [
    "$$\n",
    "\\displaystyle\n",
    "V_i = \\frac{ A_A }{ A_{MR} + A_{OR} } \\times 2.4 \\times 0.5 \\times A_{HCZ,i}\n",
    "$$"
   ]
  },
  {
   "cell_type": "markdown",
   "metadata": {},
   "source": [
    "ところで、"
   ]
  },
  {
   "cell_type": "markdown",
   "metadata": {},
   "source": [
    "$$\n",
    "\\displaystyle\n",
    "\\frac{A_A}{A_{MR}+A_{OR}} = \\frac{1}{1-\\frac{A_{NO}}{A_A}}\n",
    "$$"
   ]
  },
  {
   "cell_type": "markdown",
   "metadata": {},
   "source": [
    "だから、$A_{NO} \\div A_A$の値が大きければ大きいほど換気量は大きく見積もられ、負荷削減量も大きくなる。標準住戸において、"
   ]
  },
  {
   "cell_type": "markdown",
   "metadata": {},
   "source": [
    "$$ \\displaystyle\n",
    "\\frac{A_{NO,R}}{A_{A,R}} = \\frac{38.93}{120.08} \n",
    "$$"
   ]
  },
  {
   "cell_type": "markdown",
   "metadata": {},
   "source": [
    "だから、この値よりも当該住戸の値が大きければ負荷削減量は大きくなる。"
   ]
  },
  {
   "cell_type": "markdown",
   "metadata": {},
   "source": [
    "また、"
   ]
  },
  {
   "cell_type": "markdown",
   "metadata": {},
   "source": [
    "$$\n",
    "\\displaystyle\n",
    "V_i = \\frac{ A_A }{ A_{MR} + A_{OR} } \\times 2.4 \\times 0.5 \\times A_{HCZ,i}\n",
    "$$"
   ]
  },
  {
   "cell_type": "markdown",
   "metadata": {},
   "source": [
    "で表される式では、$A_{HCZ,i}$が非居室の場合は換気量を0にしないと辻褄が合わない。つまり、"
   ]
  },
  {
   "cell_type": "markdown",
   "metadata": {},
   "source": [
    "$$\n",
    "\\displaystyle\n",
    "V_i = \\left\\{\n",
    "\\begin{array}{ll}\n",
    "    \\frac{ A_A }{ A_{MR} + A_{OR} } \\times 2.4 \\times 0.5 \\times A_{HCZ,i} & (i=1\\sim5) \\\\\n",
    "    0 & (i=6 \\sim 12)\n",
    "\\end{array}\n",
    "\\right.\n",
    "$$"
   ]
  },
  {
   "cell_type": "markdown",
   "metadata": {},
   "source": [
    "が本来正しい式である。"
   ]
  },
  {
   "cell_type": "code",
   "execution_count": 25,
   "metadata": {
    "collapsed": true
   },
   "outputs": [],
   "source": [
    "# 従前評価から等価な式\n",
    "def NEW_get_V(A_A, A_MR, A_OR, A_HCZ):\n",
    "    return [ HCFA.get_A_A_R() / ( HCFA.get_A_MR_R() + HCFA.get_A_OR_R() ) * 2.4 * 0.5 * A_HCZ_i  for A_HCZ_i in A_HCZ ]"
   ]
  },
  {
   "cell_type": "code",
   "execution_count": 26,
   "metadata": {
    "collapsed": true
   },
   "outputs": [],
   "source": [
    "# 修正案1(当該住戸の床面積を使用)\n",
    "def NEW1_get_V(A_A, A_MR, A_OR, A_HCZ):\n",
    "    return [ A_A / ( A_MR + A_OR ) * 2.4 * 0.5 * A_HCZ_i for A_HCZ_i in A_HCZ ]"
   ]
  },
  {
   "cell_type": "code",
   "execution_count": 27,
   "metadata": {
    "collapsed": true
   },
   "outputs": [],
   "source": [
    "# 修正案2(非居室の面積を考慮しない)\n",
    "def NEW2_get_V(A_A, A_MR, A_OR, A_HCZ):\n",
    "    def f(i, A_A, A_MR, A_OR, A_HCZ_i):\n",
    "        if i in (0,1,2,3,4):\n",
    "            return A_A / ( A_MR + A_OR ) * 2.4 * 0.5 * A_HCZ_i\n",
    "        else:\n",
    "            return 0.0\n",
    "    return [ f(i, A_A, A_MR, A_OR, A_HCZ_i) for i, A_HCZ_i in enumerate(A_HCZ) ]"
   ]
  },
  {
   "cell_type": "markdown",
   "metadata": {},
   "source": [
    "一方、"
   ]
  },
  {
   "cell_type": "markdown",
   "metadata": {},
   "source": [
    "$$ \\begin{align}\n",
    "\\displaystyle\n",
    "V_A &= V_{R,A} \\times \\frac{A_A}{A_{A,R}} \\nonumber \\\\\n",
    "&= ( A_{MR,R} + A_{OR,R} + A_{NO,R} ) \\times 2.4 \\times 0.5 \\times \\frac{A_A}{A_{A,R}} \\nonumber \\\\\n",
    "&= A_{A,R} \\times 2.4 \\times 0.5 \\times \\frac{A_A}{A_{A,R}} \\nonumber \\\\\n",
    "&= A_A \\times 2.4 \\times 0.5 \\nonumber \\\\\n",
    "\\end{align} $$"
   ]
  },
  {
   "cell_type": "markdown",
   "metadata": {},
   "source": [
    "である。"
   ]
  },
  {
   "cell_type": "code",
   "execution_count": 28,
   "metadata": {
    "collapsed": true
   },
   "outputs": [],
   "source": [
    "def NEW_get_V_A(A_A):\n",
    "    return A_A * 2.4 * 0.5"
   ]
  },
  {
   "cell_type": "markdown",
   "metadata": {
    "collapsed": true
   },
   "source": [
    "### 3.3 Thermal Transmittance of Floor and Linier Thermal Transmittance of Basement / 床の熱貫流率及び基礎の線熱貫流率"
   ]
  },
  {
   "cell_type": "markdown",
   "metadata": {},
   "source": [
    "Region 1 ~ 7:"
   ]
  },
  {
   "cell_type": "markdown",
   "metadata": {},
   "source": [
    "$$\n",
    "\\displaystyle U_{s,vert} = \\left\\{\n",
    "\\begin{array}{ll}\n",
    "    \\frac{Q-Q_1}{Q_0-Q_1} \\times U_{s,R,Q_0} + \\frac{Q-Q_0}{Q_1-Q_0} \\times U_{s,R,Q_1} & (Q > Q_1) \\\\\n",
    "    \\frac{Q-Q_2}{Q_1-Q_2} \\times U_{s,R,Q_1} + \\frac{Q-Q_1}{Q_2-Q_1} \\times U_{s,R,Q_2} & (Q_1 \\ge Q > Q_2) \\\\\n",
    "    \\frac{Q-Q_3}{Q_2-Q_3} \\times U_{s,R,Q_2} + \\frac{Q-Q_2}{Q_3-Q_2} \\times U_{s,R,Q_3} & (Q_2 \\ge Q > Q_3) \\\\\n",
    "    \\frac{Q-Q_4}{Q_3-Q_4} \\times U_{s,R,Q_3} + \\frac{Q-Q_3}{Q_4-Q_3} \\times U_{s,R,Q_4} & (Q_3 \\ge Q) \\\\\n",
    "\\end{array}\n",
    "\\right.\n",
    "$$"
   ]
  },
  {
   "cell_type": "markdown",
   "metadata": {},
   "source": [
    "Where, in case that $U_{s,vert}$ is over 2.223, let $U_{s,vert}$ equal to 2.223."
   ]
  },
  {
   "cell_type": "markdown",
   "metadata": {},
   "source": [
    "Region 8:"
   ]
  },
  {
   "cell_type": "markdown",
   "metadata": {},
   "source": [
    "$$\n",
    "\\displaystyle U_{s,vert} = 2.223\n",
    "$$"
   ]
  },
  {
   "cell_type": "markdown",
   "metadata": {},
   "source": [
    "Where  \n",
    "$ U_{s,vert} $ is the vertual thermal tranmittance of floor assumed when the heating & cooling load were calculated / 暖冷房負荷計算時に想定した床の熱貫流率(W/m<sup>2</sup>K);  \n",
    "$Q$ is the heat loss coefficient of the concerned house.  "
   ]
  },
  {
   "cell_type": "markdown",
   "metadata": {},
   "source": [
    "$Q_j$ is defined depending the region and j in the table below."
   ]
  },
  {
   "cell_type": "markdown",
   "metadata": {},
   "source": [
    "| | Region1 | Region2 | Region3 | Region4 | Region5 | Region6 | Region7 |\n",
    "| --- | --- | --- | --- | --- | --- | --- | --- |\n",
    "| $j=0$ | 8.26 | 8.26 | 8.26 | 8.49 | 8.49 | 8.49 | 8.49 |\n",
    "| $j=1$ | 2.8  | 2.8  | 4.0  | 4.7  | 5.19 | 5.19 | 8.27 |\n",
    "| $j=2$ | 1.8  | 1.8  | 2.7  | 3.3  | 4.2  | 4.2  | 4.59 |\n",
    "| $j=3$ | 1.6  | 1.6  | 1.9  | 2.4  | 2.7  | 2.7  | 2.7  |\n",
    "| $j=4$ | 1.4  | 1.4  | 1.4  | 1.9  | 1.9  | 1.9  | 1.9  |"
   ]
  },
  {
   "cell_type": "code",
   "execution_count": 29,
   "metadata": {
    "collapsed": false
   },
   "outputs": [],
   "source": [
    "Q_j = {\n",
    "    'Region1' : [8.26, 2.8,  1.8,  1.6, 1.4],\n",
    "    'Region2' : [8.26, 2.8,  1.8,  1.6, 1.4],\n",
    "    'Region3' : [8.26, 4.0,  2.7,  1.9, 1.4],\n",
    "    'Region4' : [8.49, 4.7,  3.3,  2.4, 1.9],\n",
    "    'Region5' : [8.49, 5.19, 4.2,  2.7, 1.9],\n",
    "    'Region6' : [8.49, 5.19, 4.2,  2.7, 1.9],\n",
    "    'Region7' : [8.49, 8.27, 4.59, 2.7, 1.9]\n",
    "}"
   ]
  },
  {
   "cell_type": "markdown",
   "metadata": {},
   "source": [
    "$U_{s,R,Q_j}$ is defined depending the region and $j$ in the table below."
   ]
  },
  {
   "cell_type": "markdown",
   "metadata": {},
   "source": [
    "| | Region1 | Region2 | Region3 | Region4 | Region5 | Region6 | Region7 |\n",
    "| --- | --- | --- | --- | --- | --- | --- | --- |\n",
    "| $j=0$ | 2.223 | 2.223 | 2.223 | 2.223 | 2.223 | 2.223 | 2.223 |\n",
    "| $j=1$ | 0.342 | 0.342 | 0.964 | 0.949 | 1.208 | 1.208 | 2.223 |\n",
    "| $j=2$ | 0.427 | 0.427 | 0.791 | 0.825 | 1.360 | 1.360 | 1.633 |\n",
    "| $j=3$ | 0.319 | 0.319 | 0.359 | 0.564 | 0.554 | 0.554 | 0.554 |\n",
    "| $j=4$ | 0.272 | 0.272 | 0.272 | 0.373 | 0.373 | 0.373 | 0.373 |"
   ]
  },
  {
   "cell_type": "code",
   "execution_count": 30,
   "metadata": {
    "collapsed": true
   },
   "outputs": [],
   "source": [
    "U_s_R_Q_j = {\n",
    "    'Region1' : [2.223, 0.342, 0.427, 0.319, 0.272],\n",
    "    'Region2' : [2.223, 0.342, 0.427, 0.319, 0.272],\n",
    "    'Region3' : [2.223, 0.964, 0.791, 0.359, 0.272],\n",
    "    'Region4' : [2.223, 0.949, 0.825, 0.564, 0.373],\n",
    "    'Region5' : [2.223, 1.208, 1.360, 0.554, 0.373],\n",
    "    'Region6' : [2.223, 1.208, 1.360, 0.554, 0.373],\n",
    "    'Region7' : [2.223, 2.223, 1.633, 0.554, 0.373]\n",
    "}"
   ]
  },
  {
   "cell_type": "code",
   "execution_count": 31,
   "metadata": {
    "collapsed": false
   },
   "outputs": [],
   "source": [
    "def get_U_s_vert(Region, Q):\n",
    "    if Region == 'Region8':\n",
    "        return 2.223\n",
    "    else:\n",
    "        if Q > Q_j[Region][1]:\n",
    "            return min(2.223, ( Q - Q_j[Region][1] ) / ( Q_j[Region][0] - Q_j[Region][1]) * U_s_R_Q_j[Region][0] + ( Q - Q_j[Region][0] ) / ( Q_j[Region][1] - Q_j[Region][0]) * U_s_R_Q_j[Region][1] )\n",
    "        elif Q > Q_j[Region][2]:\n",
    "            return min(2.223, ( Q - Q_j[Region][2] ) / ( Q_j[Region][1] - Q_j[Region][2]) * U_s_R_Q_j[Region][1] + ( Q - Q_j[Region][1] ) / ( Q_j[Region][2] - Q_j[Region][1]) * U_s_R_Q_j[Region][2] )\n",
    "        elif Q > Q_j[Region][3]:\n",
    "            return min(2.223, ( Q - Q_j[Region][3] ) / ( Q_j[Region][2] - Q_j[Region][3]) * U_s_R_Q_j[Region][2] + ( Q - Q_j[Region][2] ) / ( Q_j[Region][3] - Q_j[Region][2]) * U_s_R_Q_j[Region][3] )\n",
    "        else:\n",
    "            return min(2.223, ( Q - Q_j[Region][4] ) / ( Q_j[Region][3] - Q_j[Region][4]) * U_s_R_Q_j[Region][3] + ( Q - Q_j[Region][3] ) / ( Q_j[Region][4] - Q_j[Region][3]) * U_s_R_Q_j[Region][4] )"
   ]
  },
  {
   "cell_type": "markdown",
   "metadata": {},
   "source": [
    "Region 1 ~ 7:"
   ]
  },
  {
   "cell_type": "markdown",
   "metadata": {},
   "source": [
    "$$\n",
    "\\displaystyle \\psi = \\left\\{\n",
    "\\begin{array}{ll}\n",
    "    \\frac{Q-Q_1}{Q_0-Q_1} \\times \\psi_{Q_0} + \\frac{Q-Q_0}{Q_1-Q_0} \\times \\psi_{Q_1} & (Q > Q_1) \\\\\n",
    "    \\frac{Q-Q_2}{Q_1-Q_2} \\times \\psi_{Q_1} + \\frac{Q-Q_1}{Q_2-Q_1} \\times \\psi_{Q_2} & (Q_1 \\ge Q > Q_2) \\\\\n",
    "    \\frac{Q-Q_3}{Q_2-Q_3} \\times \\psi_{Q_2} + \\frac{Q-Q_2}{Q_3-Q_2} \\times \\psi_{Q_3} & (Q_2 \\ge Q > Q_3) \\\\\n",
    "    \\frac{Q-Q_4}{Q_3-Q_4} \\times \\psi_{Q_3} + \\frac{Q-Q_3}{Q_4-Q_3} \\times \\psi_{Q_4} & (Q_3 \\ge Q) \\\\\n",
    "\\end{array}\n",
    "\\right.\n",
    "$$"
   ]
  },
  {
   "cell_type": "markdown",
   "metadata": {},
   "source": [
    "Where, in case that $\\psi$ is over 2.289, let $\\psi$ equal to 2.289."
   ]
  },
  {
   "cell_type": "markdown",
   "metadata": {},
   "source": [
    "Region 8:"
   ]
  },
  {
   "cell_type": "markdown",
   "metadata": {},
   "source": [
    "$$\n",
    "\\displaystyle U_{s,vert} = 2.289\n",
    "$$"
   ]
  },
  {
   "cell_type": "markdown",
   "metadata": {},
   "source": [
    "Where  \n",
    "$ \\psi $ is the linier thermal transmittance of the basement / 基礎の線熱貫流率 (W/mK)."
   ]
  },
  {
   "cell_type": "markdown",
   "metadata": {},
   "source": [
    "$\\psi_{Q_j}$ is defined depending the region and $j$ in the table below."
   ]
  },
  {
   "cell_type": "markdown",
   "metadata": {},
   "source": [
    "| | Region1 | Region2 | Region3 | Region4 | Region5 | Region6 | Region7 |\n",
    "| --- | --- | --- | --- | --- | --- | --- | --- |\n",
    "| $j=0$ | 2.289 | 2.289 | 2.289 | 2.289 | 2.289 | 2.289 | 2.289 |\n",
    "| $j=1$ | 0.635 | 0.635 | 1.517 | 1.504 | 1.872 | 1.872 | 2.289 |\n",
    "| $j=2$ | 0.675 | 0.675 | 1.272 | 1.329 | 2.087 | 2.087 | 2.289 |\n",
    "| $j=3$ | 0.516 | 0.516 | 0.573 | 0.877 | 0.863 | 0.863 | 0.863 |\n",
    "| $j=4$ | 0.450 | 0.450 | 0.450 | 0.601 | 0.601 | 0.601 | 0.601 |"
   ]
  },
  {
   "cell_type": "code",
   "execution_count": 32,
   "metadata": {
    "collapsed": true
   },
   "outputs": [],
   "source": [
    "psi_Q_j = {\n",
    "    'Region1' : [2.289, 0.635, 0.675, 0.516, 0.450],\n",
    "    'Region2' : [2.289, 0.635, 0.675, 0.516, 0.450],\n",
    "    'Region3' : [2.289, 1.517, 1.272, 0.573, 0.450],\n",
    "    'Region4' : [2.289, 1.504, 1.329, 0.877, 0.601],\n",
    "    'Region5' : [2.289, 1.872, 2.087, 0.863, 0.601],\n",
    "    'Region6' : [2.289, 1.872, 2.087, 0.863, 0.601],\n",
    "    'Region7' : [2.289, 2.289, 2.289, 0.863, 0.601]    \n",
    "}"
   ]
  },
  {
   "cell_type": "code",
   "execution_count": 33,
   "metadata": {
    "collapsed": true
   },
   "outputs": [],
   "source": [
    "def get_psi(Region, Q):\n",
    "    if Region == 'Region8':\n",
    "        return 2.289\n",
    "    else:\n",
    "        if Q > Q_j[Region][1]:\n",
    "            return min(2.289, ( Q - Q_j[Region][1] ) / ( Q_j[Region][0] - Q_j[Region][1]) * psi_Q_j[Region][0] + ( Q - Q_j[Region][0] ) / ( Q_j[Region][1] - Q_j[Region][0]) * psi_Q_j[Region][1] )\n",
    "        elif Q > Q_j[Region][2]:\n",
    "            return min(2.289, ( Q - Q_j[Region][2] ) / ( Q_j[Region][1] - Q_j[Region][2]) * psi_Q_j[Region][1] + ( Q - Q_j[Region][1] ) / ( Q_j[Region][2] - Q_j[Region][1]) * psi_Q_j[Region][2] )\n",
    "        elif Q > Q_j[Region][3]:\n",
    "            return min(2.289, ( Q - Q_j[Region][3] ) / ( Q_j[Region][2] - Q_j[Region][3]) * psi_Q_j[Region][2] + ( Q - Q_j[Region][2] ) / ( Q_j[Region][3] - Q_j[Region][2]) * psi_Q_j[Region][3] )\n",
    "        else:\n",
    "            return min(2.289, ( Q - Q_j[Region][4] ) / ( Q_j[Region][3] - Q_j[Region][4]) * psi_Q_j[Region][3] + ( Q - Q_j[Region][3] ) / ( Q_j[Region][4] - Q_j[Region][3]) * psi_Q_j[Region][4] )"
   ]
  },
  {
   "cell_type": "markdown",
   "metadata": {},
   "source": [
    "#### Example"
   ]
  },
  {
   "cell_type": "code",
   "execution_count": 34,
   "metadata": {
    "collapsed": false
   },
   "outputs": [
    {
     "data": {
      "text/plain": [
       "0.554"
      ]
     },
     "execution_count": 34,
     "metadata": {},
     "output_type": "execute_result"
    }
   ],
   "source": [
    "get_U_s_vert('Region6', 2.7)"
   ]
  },
  {
   "cell_type": "code",
   "execution_count": 35,
   "metadata": {
    "collapsed": false
   },
   "outputs": [
    {
     "data": {
      "text/plain": [
       "0.863"
      ]
     },
     "execution_count": 35,
     "metadata": {},
     "output_type": "execute_result"
    }
   ],
   "source": [
    "get_psi('Region6',2.7)"
   ]
  },
  {
   "cell_type": "markdown",
   "metadata": {},
   "source": [
    "### 3.4 Floor Area on Under Floor Space and Basement Perimeter Length of Under Floor Space / 床下空間に接する床の面積及び床下空間の基礎外周長さ"
   ]
  },
  {
   "cell_type": "markdown",
   "metadata": {},
   "source": [
    "$$\n",
    "\\displaystyle L_{uf,R} = r \\times 4 \\times \\sqrt{A_{s,ufvnt,R,A}}\n",
    "$$"
   ]
  },
  {
   "cell_type": "markdown",
   "metadata": {},
   "source": [
    "Where  \n",
    "$ L_{uf,R} $ is the perimeter length of the basement of the under floor space with outside air intake in the standard model house / 標準住戸の外気を導入する床下空間の基礎外周長さ (m);  \n",
    "$r$ is the ratio which represents the horizontal plan shape (like aspect ratio) / 床下の平面形状(アスペクト比等)を考慮した係数(無次元数) (=1.02);  \n",
    "$A_{s,ufvnt,R,i}$ is the floor area on the under floor space with air intake at heating and cooling area $i$ in the standard house / 暖冷房空間$i$の標準住戸の外気を導入する床下空間に接する床の面積の合計 (m<sup>2</sup>)."
   ]
  },
  {
   "cell_type": "code",
   "execution_count": 36,
   "metadata": {
    "collapsed": false
   },
   "outputs": [],
   "source": [
    "def get_L_uf_R(A_s_ufvnt_R_A):\n",
    "    r = 1.02\n",
    "    return r * 4 * (A_s_ufvnt_R_A ** 0.5)"
   ]
  },
  {
   "cell_type": "markdown",
   "metadata": {},
   "source": [
    "$$\n",
    "\\displaystyle A_{s,ufvnt,R,i} = A_{s,uf,R,i} \\times r_{A,ufvnt}\n",
    "$$"
   ]
  },
  {
   "cell_type": "markdown",
   "metadata": {},
   "source": [
    "$A_{s,ufvnt,R,i}$ is the floor area on the under floor space with air intake at heating and cooling area $i$ in the standard house / 暖冷房空間$i$の標準住戸の外気を導入する床下空間に接する床の面積の合計 (m<sup>2</sup>)  \n",
    "$A_{s,uf,R,i}$ is the floor area on the under floor space of heating and cooling area $i$ / 暖冷房区画$i$の標準住戸の床下空間に接する床の面積 (m<sup>2</sup>)  \n",
    "$r_{A,ufvnt}$ is the ratio of the under floor space area with air intake to the under floor space area / 当該住戸において、床下空間全体の面積に対する外気を導入する床下空間の面積の比"
   ]
  },
  {
   "cell_type": "markdown",
   "metadata": {},
   "source": [
    "$A_{s,uf,R,i}$ (m<sup>2</sup>) is defined in the table below."
   ]
  },
  {
   "cell_type": "markdown",
   "metadata": {},
   "source": [
    "| Heating and Cooling<br> Area Number | Room Name | Flooa Area<br>on Under Floor Space (m<sup>2</sup>) |\n",
    "| :---: | :---: | :---: |\n",
    "| 1 | LDK | 29.81 |\n",
    "| 2 | Japanese Style Room / 和室 | 16.56 |\n",
    "| 3 | Bedroom / 主寝室 | 0.0 |\n",
    "| 4 | Children Room 1 / 子供室1 | 0.0 |\n",
    "| 5 | Children Room 2 / 子供室2 | 0.0 |\n",
    "| 6 | Bathroom / 浴室 | 3.31 |\n",
    "| 7 | Toilet on 1st. floor / 1階便所 | 1.66 |\n",
    "| 8 | Washroom / 洗面所 | 3.31 |\n",
    "| 9 | Hall / ホール | 10.76 |\n",
    "| 10 | Closet / クローゼット | 0.0 |\n",
    "| 11 | Hall on 2nd. floor / 2階ホール | 0.0 |\n",
    "| 12 | Toilet on 2nd. floor / 2階便所 | 0.0 |"
   ]
  },
  {
   "cell_type": "code",
   "execution_count": 37,
   "metadata": {
    "collapsed": true
   },
   "outputs": [],
   "source": [
    "def get_A_s_ufvnt_R(r_A_ufvnt): \n",
    "    return [ A * r_A_ufvnt for A in [29.81, 16.56, 0.0, 0.0, 0.0, 3.31, 1.66, 3.31, 10.76, 0.0, 0.0, 0.0] ] "
   ]
  },
  {
   "cell_type": "markdown",
   "metadata": {},
   "source": [
    "The sum of the floor area on the under floor space with air intake in the standard house $A_{s,ufvnt,R,i}$ is calculated below."
   ]
  },
  {
   "cell_type": "markdown",
   "metadata": {},
   "source": [
    "$$\n",
    "\\displaystyle A_{s,ufvnt,R,A} = \\sum_{i=1}^{12}{A_{s,ufvnt,R,i}}\n",
    "$$"
   ]
  },
  {
   "cell_type": "code",
   "execution_count": 38,
   "metadata": {
    "collapsed": true
   },
   "outputs": [],
   "source": [
    "def get_A_s_ufvnt_R_A (A_s_ufvnt_R):\n",
    "    return np.array(A_s_ufvnt_R).sum()"
   ]
  },
  {
   "cell_type": "markdown",
   "metadata": {},
   "source": [
    "#### Example"
   ]
  },
  {
   "cell_type": "code",
   "execution_count": 39,
   "metadata": {
    "collapsed": false
   },
   "outputs": [
    {
     "data": {
      "text/plain": [
       "23.332820489602195"
      ]
     },
     "execution_count": 39,
     "metadata": {},
     "output_type": "execute_result"
    }
   ],
   "source": [
    "get_L_uf_R( get_A_s_ufvnt_R_A ( get_A_s_ufvnt_R(0.5) ))"
   ]
  },
  {
   "cell_type": "code",
   "execution_count": 40,
   "metadata": {
    "collapsed": false
   },
   "outputs": [
    {
     "data": {
      "text/plain": [
       "[14.905, 8.28, 0.0, 0.0, 0.0, 1.655, 0.83, 1.655, 5.38, 0.0, 0.0, 0.0]"
      ]
     },
     "execution_count": 40,
     "metadata": {},
     "output_type": "execute_result"
    }
   ],
   "source": [
    "get_A_s_ufvnt_R(0.5)"
   ]
  },
  {
   "cell_type": "code",
   "execution_count": 41,
   "metadata": {
    "collapsed": false
   },
   "outputs": [
    {
     "data": {
      "text/plain": [
       "32.704999999999998"
      ]
     },
     "execution_count": 41,
     "metadata": {},
     "output_type": "execute_result"
    }
   ],
   "source": [
    "get_A_s_ufvnt_R_A ( get_A_s_ufvnt_R(0.5) )"
   ]
  },
  {
   "cell_type": "markdown",
   "metadata": {},
   "source": [
    "### 3.4-NEW Floor Area on Under Floor Space and Basement Perimeter Length of Under Floor Space / 床下空間に接する床の面積及び床下空間の基礎外周長さ"
   ]
  },
  {
   "cell_type": "markdown",
   "metadata": {},
   "source": [
    "床の面積 $A_{s,ufvnt,i}$は以下の式で定義される。"
   ]
  },
  {
   "cell_type": "markdown",
   "metadata": {},
   "source": [
    "$$\n",
    "\\displaystyle\n",
    "\\begin{align}\n",
    "    A_{s,ufvnt,i} &= A_{s,ufvnt,R,i} \\times \\frac{A_{HCZ,i}}{A_{HCZ,R,i}} \\nonumber \\\\\n",
    "    &= A_{s,uf,R,i} \\times r_{A,ufvnt} \\times \\frac{A_{HCZ,i}}{A_{HCZ,R,i}} \\nonumber \\\\\n",
    "    &= \\frac{ A_{s,uf,R,i} }{ A_{HCZ,R,i} } \\times A_{HCZ,i} \\times r_{A,ufvnt} \\nonumber\n",
    "\\end{align}\n",
    "$$"
   ]
  },
  {
   "cell_type": "markdown",
   "metadata": {},
   "source": [
    "ここで、以下の式が得られる。分母・分子ともに標準住戸の値であるから、室$i$に対して一意に決まる値である。"
   ]
  },
  {
   "cell_type": "markdown",
   "metadata": {},
   "source": [
    "$$\n",
    "\\displaystyle\n",
    "\\frac{ A_{s,uf,R,i} }{ A_{HCZ,R,i} } = \\left\\{\n",
    "    \\begin{array}{ll}\n",
    "        1.0 & ( i = 0,1,5,6,7) \\\\\n",
    "        0.0 & ( i = 2,3,4,9,10,11 ) \\\\\n",
    "        \\frac{ 10.76 }{ 13.25 } & ( i = 8 )\n",
    "    \\end{array}\n",
    "\\right.\n",
    "$$"
   ]
  },
  {
   "cell_type": "markdown",
   "metadata": {},
   "source": [
    "| Heating and Cooling<br> Area Number | Assumed Room Name | Flooa Area<br>on Under Floor Space (m<sup>2</sup>) |  Flooa Area (m<sup>2</sup>) | rate |\n",
    "| :---: | :---: | :---: | :---: | :---: |\n",
    "| 1 | LDK | 29.81 | 29.81 | 1.0 |\n",
    "| 2 | Japanese Style Room / 和室 | 16.56 | 16.56 | 1.0 |\n",
    "| 3 | Bedroom / 主寝室 | 0.0 | 13.25 | 0.0 |\n",
    "| 4 | Children Room 1 / 子供室1 | 0.0 | 10.76 | 0.0 |\n",
    "| 5 | Children Room 2 / 子供室2 | 0.0 | 10.77 | 0.0 |\n",
    "| 6 | Bathroom / 浴室 | 3.31 | 3.31 | 1.0 |\n",
    "| 7 | Toilet on 1st. floor / 1階便所 | 1.66 | 1.66 | 1.0 |\n",
    "| 8 | Washroom / 洗面所 | 3.31 | 3.31 | 1.0 |\n",
    "| 9 | Hall / ホール | 10.76 |13.25 | 10.76/13.25 |\n",
    "| 10 | Closet / クローゼット | 0.0 | 4.97 | 0.0 |\n",
    "| 11 | Hall on 2nd. floor / 2階ホール | 0.0 | 10.77 | 0.0 |\n",
    "| 12 | Toilet on 2nd. floor / 2階便所 | 0.0 | 1.66 | 0.0 |"
   ]
  },
  {
   "cell_type": "code",
   "execution_count": 42,
   "metadata": {
    "collapsed": false
   },
   "outputs": [],
   "source": [
    "def NEW_get_A_s_ufvnt(r_A_ufvnt, A_HCZ): \n",
    "    return [ r * A_HCZ_i * r_A_ufvnt for r, A_HCZ_i in zip( [1.0, 1.0, 0.0, 0.0, 0.0, 1.0, 1.0, 1.0, 10.76/13.25, 0.0, 0.0, 0.0], A_HCZ ) ]"
   ]
  },
  {
   "cell_type": "markdown",
   "metadata": {},
   "source": [
    "床の面積 $A_{s,ufvnt,A}$ についても、以下のように、当該住宅の床面積の合計 $A_A$ 等を用いて表すことができる。"
   ]
  },
  {
   "cell_type": "markdown",
   "metadata": {},
   "source": [
    "$$\n",
    "\\displaystyle\n",
    "\\begin{align}\n",
    "    A_{s,ufvnt,A} &= A_{s,ufvnt,R,A} \\times \\frac{A_A}{A_{A,R}} \\nonumber \\\\\n",
    "    &= \\sum_{i=1}^{12}{ A_{s,uf,R,i} } \\times r_{A,ufvnt} \\times \\frac{A_A}{A_{A,R}} \\nonumber \\\\\n",
    "    &= \\frac{ \\sum_{i=1}^{12}{ A_{s,uf,R,i} } }{ A_{A,R} } \\times r_{A,ufvnt} \\times A_A \\nonumber\n",
    "\\nonumber\n",
    "\\end{align}\n",
    "$$"
   ]
  },
  {
   "cell_type": "code",
   "execution_count": 43,
   "metadata": {
    "collapsed": true
   },
   "outputs": [],
   "source": [
    "def NEW_get_A_s_ufvnt_A (r_A_ufvnt, A_A):\n",
    "    A_s_uf_R = [ r * A_HCZ_R_i for r, A_HCZ_R_i \n",
    "                in zip( [1.0, 1.0, 0.0, 0.0, 0.0, 1.0, 1.0, 1.0, 10.76/13.25, 0.0, 0.0, 0.0], HCFA.get_A_HCZ_R() ) ]\n",
    "    return ( np.array( A_s_uf_R ).sum() )/ HCFA.get_A_A_R() * r_A_ufvnt * A_A"
   ]
  },
  {
   "cell_type": "markdown",
   "metadata": {},
   "source": [
    "$$\n",
    "\\displaystyle\n",
    "\\begin{align}  \n",
    "    L_{uf} &= L_{uf,R} \\times \\frac{A_A}{A_{A,R}} \\nonumber \\\\\n",
    "    &= r \\times 4 \\times \\sqrt{ A_{s,ufvnt,R,A} } \\times \\frac{A_A}{A_{A,R}} \\nonumber \\\\\n",
    "    &= r \\times 4 \\times \\sqrt{ \\sum_{i=1}^{12}{ A_{s,uf,R,i} } \\times r_{A,ufvnt} } \\times \\frac{A_A}{A_{A,R}} \\nonumber\n",
    "\\end{align}\n",
    "$$"
   ]
  },
  {
   "cell_type": "markdown",
   "metadata": {},
   "source": [
    "一方で、式のもつ意味からは、以下の関係があるのが望ましい。"
   ]
  },
  {
   "cell_type": "markdown",
   "metadata": {},
   "source": [
    "$$\n",
    "\\displaystyle\n",
    "L_{uf} = r \\times 4 \\times \\sqrt{ A_{s,ufvnt,A} }\n",
    "$$"
   ]
  },
  {
   "cell_type": "markdown",
   "metadata": {},
   "source": [
    "この式を変形すると、"
   ]
  },
  {
   "cell_type": "markdown",
   "metadata": {},
   "source": [
    "$$\n",
    "\\displaystyle\n",
    "\\begin{align}  \n",
    "    L_{uf} &= r \\times 4 \\times \\sqrt{ A_{s,ufvnt,A} } \\nonumber \\\\\n",
    "    &= r \\times 4 \\times \\sqrt{ \\frac{ \\sum_{i=1}^{12}{ A_{s,uf,R,i} } }{ A_{A,R} } \\times r_{A,ufvnt} \\times A_A } \\nonumber \\\\\n",
    "    &= r \\times 4 \\times \\sqrt{ \\sum_{i=1}^{12}{ A_{s,uf,R,i} } \\times r_{A,ufvnt} } \\times \\sqrt{ \\frac{ A_A }{ A_{A,R} } } \\nonumber\n",
    "\\end{align}\n",
    "$$"
   ]
  },
  {
   "cell_type": "markdown",
   "metadata": {},
   "source": [
    "となり、現行の評価式との違いを比べると、標準住戸の床面積の合計に対する当該住戸の床面積の合計の比率 $ A_A \\div A_{A,R} $ に平方根があるかないかの違いといえる。$L_{uf}$が大きければ大きいほど外気温度の影響を受け、床下換気の効果が薄れることを考えると、以下のようにまとめられる。  \n",
    "- 標準住戸の床面積の合計よりも当該住戸の床面積の合計が大きい場合、床下換気の省エネ効果は少なくなる。  \n",
    "- 標準住戸の床面積の合計よりも当該住戸の床面積の合計が小さい場合、床下換気の省エネ効果は大きくなる。  "
   ]
  },
  {
   "cell_type": "code",
   "execution_count": 44,
   "metadata": {
    "collapsed": true
   },
   "outputs": [],
   "source": [
    "def NEW_get_L_uf(r_A_ufvnt, A_A):\n",
    "    A_s_uf_R = [ r * A_HCZ_R_i for r, A_HCZ_R_i \n",
    "                in zip( [1.0, 1.0, 0.0, 0.0, 0.0, 1.0, 1.0, 1.0, 10.76/13.25, 0.0, 0.0, 0.0], HCFA.get_A_HCZ_R() ) ]\n",
    "    r = 1.02\n",
    "    return r * 4 * ( ( np.array( A_s_uf_R ).sum() * r_A_ufvnt ) ** 0.5 ) * ( A_A / HCFA.get_A_A_R() )"
   ]
  },
  {
   "cell_type": "code",
   "execution_count": 45,
   "metadata": {
    "collapsed": true
   },
   "outputs": [],
   "source": [
    "def NEW1_get_L_uf(r_A_ufvnt, A_A):\n",
    "    A_s_uf_R = [ r * A_HCZ_R_i for r, A_HCZ_R_i \n",
    "                in zip( [1.0, 1.0, 0.0, 0.0, 0.0, 1.0, 1.0, 1.0, 10.76/13.25, 0.0, 0.0, 0.0], HCFA.get_A_HCZ_R() ) ]\n",
    "    r = 1.02\n",
    "    return r * 4 * ( ( np.array( A_s_uf_R ).sum() * r_A_ufvnt ) ** 0.5 ) * ( ( A_A / HCFA.get_A_A_R() ) ** 0.5 )"
   ]
  },
  {
   "cell_type": "markdown",
   "metadata": {
    "collapsed": true
   },
   "source": [
    "### 3.5 Ground Temperature / 地盤温度"
   ]
  },
  {
   "cell_type": "markdown",
   "metadata": {},
   "source": [
    "$$\n",
    "\\displaystyle \\theta_{g,d} = \\theta_{uf,R,ave} + \\frac{ (\\theta_{ex,ave,max}-\\theta_{ex,ave,min}) }{ 2 } \\times \\mathrm{e}^{-0.526(Z+Z_c)} \\times \\cos{ [ { n- ( 213 + n_c ) - 30.556 \\times Z } \\times 0.017214 ] }\n",
    "$$"
   ]
  },
  {
   "cell_type": "markdown",
   "metadata": {},
   "source": [
    "Where  \n",
    "$\\theta_{g,d}$ is the ground temperature at day $d$ (degree C);\n",
    "$\\theta_{ex,ave,max}$ is the maximum daily average outdoor temperature through a year / 日平均外気温度の年最大値 (degree C);  \n",
    "$\\theta_{ex,ave,min}$ is the minimum daily average outdoor temperature through a year / 日平均外気温度の年最小値 (degree C);  \n",
    "$\\theta_{uf,R,ave}$ is the annual average under floor temperature at  the standard house / 標準住戸の床下温度の年平均値 (degree C);  \n",
    "$Z$ is the depth of ground / 地中深さ (m) (=0.3m);  \n",
    "$Z_c$ is the correcte depth of ground / 補正地中深さ (m) (=2.0m);  \n",
    "$n$ is the total days from January 1st. / 1月1日を起点とする述べ日数 (日);  \n",
    "$n_c$ is the corrected total days / 補正日数 (日) (=45)."
   ]
  },
  {
   "cell_type": "markdown",
   "metadata": {},
   "source": [
    "$\\theta_{ex,ave,max}$ and $\\theta_{ex,ave,min}$ are defined at the table below."
   ]
  },
  {
   "cell_type": "markdown",
   "metadata": {},
   "source": [
    "| | 1 | 2 | 3 | 4 | 5 | 6 | 7 | 8 |\n",
    "| :---: | :---: | :---: | :---: | :---: | :---: | :---: | :---: | :---: |\n",
    "| $\\theta_{ex,ave,max}$ | 26.7 | 24.9 | 26.2 | 28.0 | 29.4 | 31.2 | 29.7 | 29.7 |\n",
    "| $\\theta_{ex,ave,min}$ | -15.2 | -12.6 | -5.5 | -5.3 | -2.1 | -1.0 | -0.6 | 13.6 |"
   ]
  },
  {
   "cell_type": "code",
   "execution_count": 46,
   "metadata": {
    "collapsed": true
   },
   "outputs": [],
   "source": [
    "def get_theta_g(theta_uf_R_ave, Region, n):\n",
    "    theta_ex_ave_max = {\n",
    "        'Region1': 26.7, \n",
    "        'Region2': 24.9, \n",
    "        'Region3': 26.2, \n",
    "        'Region4': 28.0, \n",
    "        'Region5': 29.4, \n",
    "        'Region6': 31.2,\n",
    "        'Region7': 29.7,\n",
    "        'Region8': 29.7\n",
    "    }\n",
    "    theta_ex_ave_min = {\n",
    "        'Region1': -15.2,\n",
    "        'Region2': -12.6,\n",
    "        'Region3':  -5.5,\n",
    "        'Region4':  -5.3,\n",
    "        'Region5':  -2.1,\n",
    "        'Region6':  -1.0,\n",
    "        'Region7':  -0.6,\n",
    "        'Region8':  13.6\n",
    "    }\n",
    "    Z = 0.3\n",
    "    Z_c = 2.0\n",
    "    n_c = 45\n",
    "    return theta_uf_R_ave + (theta_ex_ave_max[Region] - theta_ex_ave_min[Region])/2 * math.exp(-0.526*(Z+Z_c)) * math.cos(( n - (213+n_c) -30.556*Z )*0.017214)\n"
   ]
  },
  {
   "cell_type": "markdown",
   "metadata": {},
   "source": [
    "#### Example"
   ]
  },
  {
   "cell_type": "markdown",
   "metadata": {},
   "source": [
    "The average temperature at under floor space of referenced house is 19.733872 degree C.  \n",
    "Region 6  \n",
    "Total days is 1"
   ]
  },
  {
   "cell_type": "code",
   "execution_count": 47,
   "metadata": {
    "collapsed": false
   },
   "outputs": [
    {
     "data": {
      "text/plain": [
       "19.108550407189064"
      ]
     },
     "execution_count": 47,
     "metadata": {},
     "output_type": "execute_result"
    }
   ],
   "source": [
    "get_theta_g(19.733872, 'Region6', 1)"
   ]
  },
  {
   "cell_type": "markdown",
   "metadata": {},
   "source": [
    "### 3.6 Average Temperature at Under Floor Space of Referenced House / 標準住戸の床下温度の年平均値"
   ]
  },
  {
   "cell_type": "markdown",
   "metadata": {},
   "source": [
    "$$\n",
    "\\displaystyle \\theta _{uf,R,ave} = a \\times Q + b\n",
    "$$"
   ]
  },
  {
   "cell_type": "markdown",
   "metadata": {},
   "source": [
    "$\\theta_{uf,R,ave}$ is the annual average temperature at under floor space of referenced house / 標準住戸の床下温度の年平均値 (degree C)."
   ]
  },
  {
   "cell_type": "markdown",
   "metadata": {},
   "source": [
    "The coefficient a and b is defined based on the region and the heating operation mode in the table below."
   ]
  },
  {
   "cell_type": "markdown",
   "metadata": {},
   "source": [
    "When the operation modes between the main habitable room and the other habitable room are different, the value of the 'Intermittent' shall be used."
   ]
  },
  {
   "cell_type": "markdown",
   "metadata": {},
   "source": [
    "<center>Coefficient $a$</center>"
   ]
  },
  {
   "cell_type": "markdown",
   "metadata": {},
   "source": [
    "| Region | Intermittent | Continuous | Whole House |\n",
    "| :---: | :---: | :---: | :---: |\n",
    "| 1 | -0.527 | -0.469 | -0.302 |\n",
    "| 2 | -0.484 | -0.431 | -0.281 |\n",
    "| 3 | -0.409 | -0.359 | -0.233 |\n",
    "| 4 | -0.331 | -0.298 | -0.196 |\n",
    "| 5 | -0.321 | -0.292 | -0.206 |\n",
    "| 6 | -0.273 | -0.248 | -0.184 |\n",
    "| 7 | -0.236 | -0.238 | -0.210 |\n",
    "| 8 | -0.033 | -0.032 | -0.048 |\n"
   ]
  },
  {
   "cell_type": "markdown",
   "metadata": {},
   "source": [
    "<center>Coefficient $b$<center>"
   ]
  },
  {
   "cell_type": "markdown",
   "metadata": {},
   "source": [
    "| Region | Intermittent | Continuous | Whole House |\n",
    "| :---: | :---: | :---: | :---: |\n",
    "| 1 | 14.4 | 15.5 | 16.6 |\n",
    "| 2 | 15.4 | 16.4 | 17.3 |\n",
    "| 3 | 16.7 | 17.5 | 18.2 |\n",
    "| 4 | 17.3 | 18.1 | 18.8 |\n",
    "| 5 | 18.4 | 19.0 | 19.5 |\n",
    "| 6 | 20.0 | 20.4 | 20.7 |\n",
    "| 7 | 21.2 | 21.3 | 21.4 |\n",
    "| 8 | 24.1 | 24.0 | 23.8 |"
   ]
  },
  {
   "cell_type": "code",
   "execution_count": 48,
   "metadata": {
    "collapsed": false
   },
   "outputs": [],
   "source": [
    "def get_theta_uf_R_ave(Q,Region,OperationMode):\n",
    "    om = { 'Intermittent_Intermittent' : 'Intermittent',\n",
    "           'Intermittent_Continuous'   : 'Intermittent',\n",
    "           'Continuous_Intermittent'   : 'Intermittent',\n",
    "           'Continuous_Continuous'     : 'Continuous',\n",
    "           'WholeHouse'                : 'WholeHouse'\n",
    "         }[OperationMode]\n",
    "    \n",
    "    Coefficient_a = {\n",
    "        'Region1': { 'Intermittent' : -0.527, 'Continuous' : -0.469, 'WholeHouse' : -0.302 },\n",
    "        'Region2': { 'Intermittent' : -0.484, 'Continuous' : -0.431, 'WholeHouse' : -0.281 },\n",
    "        'Region3': { 'Intermittent' : -0.409, 'Continuous' : -0.359, 'WholeHouse' : -0.233 },\n",
    "        'Region4': { 'Intermittent' : -0.331, 'Continuous' : -0.298, 'WholeHouse' : -0.196 },\n",
    "        'Region5': { 'Intermittent' : -0.321, 'Continuous' : -0.292, 'WholeHouse' : -0.206 },\n",
    "        'Region6': { 'Intermittent' : -0.273, 'Continuous' : -0.248, 'WholeHouse' : -0.184 },\n",
    "        'Region7': { 'Intermittent' : -0.236, 'Continuous' : -0.238, 'WholeHouse' : -0.210 },\n",
    "        'Region8': { 'Intermittent' : -0.033, 'Continuous' : -0.032, 'WholeHouse' : -0.048 }\n",
    "    }\n",
    "\n",
    "    Coefficient_b = {\n",
    "        'Region1': { 'Intermittent' : 14.4, 'Continuous' : 15.5, 'WholeHouse' :16.6 },\n",
    "        'Region2': { 'Intermittent' : 15.4, 'Continuous' : 16.4, 'WholeHouse' :17.3 },\n",
    "        'Region3': { 'Intermittent' : 16.7, 'Continuous' : 17.5, 'WholeHouse' :18.2 },\n",
    "        'Region4': { 'Intermittent' : 17.3, 'Continuous' : 18.1, 'WholeHouse' :18.8 },\n",
    "        'Region5': { 'Intermittent' : 18.4, 'Continuous' : 19.0, 'WholeHouse' :19.5 },\n",
    "        'Region6': { 'Intermittent' : 20.0, 'Continuous' : 20.4, 'WholeHouse' :20.7 },\n",
    "        'Region7': { 'Intermittent' : 21.2, 'Continuous' : 21.3, 'WholeHouse' :21.4 },\n",
    "        'Region8': { 'Intermittent' : 24.1, 'Continuous' : 24.0, 'WholeHouse' :23.8 }\n",
    "    }\n",
    "    return Coefficient_a[Region][om] * Q + Coefficient_b[Region][om]"
   ]
  },
  {
   "cell_type": "markdown",
   "metadata": {},
   "source": [
    "#### Example"
   ]
  },
  {
   "cell_type": "markdown",
   "metadata": {},
   "source": [
    "Q Value = 2.686 (W/m<sup>2</sup>K)  \n",
    "Region all   \n",
    "Heating Operating Mode is 'Continuous'"
   ]
  },
  {
   "cell_type": "code",
   "execution_count": 49,
   "metadata": {
    "collapsed": false
   },
   "outputs": [
    {
     "data": {
      "text/plain": [
       "[14.240266,\n",
       " 15.242334,\n",
       " 16.535726,\n",
       " 17.299572,\n",
       " 18.215688,\n",
       " 19.733871999999998,\n",
       " 20.660732,\n",
       " 23.914048]"
      ]
     },
     "execution_count": 49,
     "metadata": {},
     "output_type": "execute_result"
    }
   ],
   "source": [
    "[ get_theta_uf_R_ave(2.686, r, 'Continuous_Continuous') for r in ['Region1','Region2','Region3','Region4','Region5','Region6','Region7','Region8'] ]"
   ]
  },
  {
   "cell_type": "code",
   "execution_count": 50,
   "metadata": {
    "collapsed": false
   },
   "outputs": [
    {
     "data": {
      "text/plain": [
       "-3.2"
      ]
     },
     "execution_count": 50,
     "metadata": {},
     "output_type": "execute_result"
    }
   ],
   "source": [
    "EC.get_temperature('Region2','1/2',23)"
   ]
  },
  {
   "cell_type": "markdown",
   "metadata": {},
   "source": [
    "## 4. Integrated Function"
   ]
  },
  {
   "cell_type": "markdown",
   "metadata": {},
   "source": [
    "### 4.1 Input Data"
   ]
  },
  {
   "cell_type": "markdown",
   "metadata": {},
   "source": [
    "#### General / 基本情報"
   ]
  },
  {
   "cell_type": "markdown",
   "metadata": {},
   "source": [
    "<table>\n",
    "    <tr>\n",
    "        <th>item</th>\n",
    "        <th>ID</th>\n",
    "        <th>option</th>\n",
    "    </tr>\n",
    "    <tr>\n",
    "        <td>Sum of Floor Area / 床面積の合計</td>\n",
    "        <td>bsc_nobeyuka_menseki</td>\n",
    "        <td>1.00~5000.00(m<sup>2</sup>)</td>\n",
    "    </tr>\n",
    "    <tr>\n",
    "        <td>Region (defined in Energy Efficiency Standard) / 省エネルギー基準地域区分</td>\n",
    "        <td>env_chiiki</td>\n",
    "        <td>1: Region 1 / 1地域<br>2: Region 2 / 2地域<br>3: Region 3 / 3地域<br>4: Region 4 / 4地域<br>5: Region 5 / 5地域<br>6: Region 6 / 6地域<br>7: Region 7 / 7地域<br>8: Region 8 / 8地域</td>\n",
    "    </tr>\n",
    "</table>"
   ]
  },
  {
   "cell_type": "markdown",
   "metadata": {},
   "source": [
    "````\n",
    "DataGeneral = {\n",
    "    'bsc_nobeyuka_menseki': '' # Decimal Value represented string\n",
    "    'env_chiiki'          : ''\n",
    "}\n",
    "````"
   ]
  },
  {
   "cell_type": "markdown",
   "metadata": {},
   "source": [
    "#### Envelope"
   ]
  },
  {
   "cell_type": "markdown",
   "metadata": {},
   "source": [
    "<table>\n",
    "    <tr>\n",
    "        <th> tab </th>\n",
    "        <th> item </th>\n",
    "        <th> ID </th>\n",
    "        <th> option </th>\n",
    "    </tr>\n",
    "    <tr>\n",
    "        <td rowspan=2>Envelope / 外皮</td>\n",
    "        <td>Apply of Ventilation System with Outdoor Intake through Underfloor Space / 床下を経由して外気を導入する換気方式の採用</td>\n",
    "        <td>ip_ufv</td>\n",
    "        <td>1: Not Apply / 採用しない<br>2: Apply in a year / 通年利用する<br>3: Apply in a cooling season / 冷房期間のみ利用する<br>4: Apply in a heating season / 暖房期間のみ利用する</td>\n",
    "    </tr>\n",
    "        <td>Ratio of Area in Underfloor Space used for Supply Air Path / 外気が経由する床下の面積の割合</td>\n",
    "        <td>ip_ufv_area_rate</td>\n",
    "        <td>1~100 (%)</td>\n",
    "    <tr>\n",
    "    </tr>\n",
    "</table>"
   ]
  },
  {
   "cell_type": "markdown",
   "metadata": {},
   "source": [
    "````\n",
    "DataEnvelope = {\n",
    "    'ip_ufv'           = '',\n",
    "    'ip_ufv_area_rate' = ''\n",
    "}\n",
    "````"
   ]
  },
  {
   "cell_type": "code",
   "execution_count": 51,
   "metadata": {
    "collapsed": true
   },
   "outputs": [],
   "source": [
    "def get_ground_temperature( region, Q, OperationMode, day ):\n",
    "    nday = EC.get_nday(day)\n",
    "    theta_uf_R_ave = get_theta_uf_R_ave(Q, region, OperationMode)\n",
    "    return get_theta_g( theta_uf_R_ave, region, nday)"
   ]
  },
  {
   "cell_type": "code",
   "execution_count": 52,
   "metadata": {
    "collapsed": true
   },
   "outputs": [],
   "source": [
    "def get_underfloor_temp(theta_ex, A_s_ufvnt_R_A, HCSeason, theta_g, psi):\n",
    "    \n",
    "    # perimeter length\n",
    "    L_uf_R = get_L_uf_R(A_s_ufvnt_R_A)\n",
    "        \n",
    "    V_R_A = get_V_R_A()\n",
    "        \n",
    "    return get_theta_uf_R(V_R_A, theta_ex, A_s_ufvnt_R_A, theta_g, psi, L_uf_R, HCSeason)"
   ]
  },
  {
   "cell_type": "code",
   "execution_count": 53,
   "metadata": {
    "collapsed": false
   },
   "outputs": [
    {
     "ename": "SyntaxError",
     "evalue": "invalid syntax (<ipython-input-53-01c6c19af807>, line 6)",
     "output_type": "error",
     "traceback": [
      "\u001b[0;36m  File \u001b[0;32m\"<ipython-input-53-01c6c19af807>\"\u001b[0;36m, line \u001b[0;32m6\u001b[0m\n\u001b[0;31m    HCFA.get_A_HCZ(A_A=,A_MR=,A_OR=)\u001b[0m\n\u001b[0m                       ^\u001b[0m\n\u001b[0;31mSyntaxError\u001b[0m\u001b[0;31m:\u001b[0m invalid syntax\n"
     ]
    }
   ],
   "source": [
    "def COMPARISON_get_hourly_HC_load_reduction(region,A_A,uf_ratio):\n",
    "    print(\"地域の区分: \" + str(region))\n",
    "    print(\"床下換気利用の面積比率(0～1): \" + str(uf_ratio))\n",
    "    A_s_ufvnt_R_i = get_A_s_ufvnt_R(uf_ratio)\n",
    "    print(\"標準住戸の床下に面する床面積(m2)\" + str(A_s_ufvnt_R_i))\n",
    "    HCFA.get_A_HCZ(A_A=,A_MR=,A_OR=)\n",
    "    def NEW_get_A_s_ufvnt(uf_ratio, A_HCZ)"
   ]
  },
  {
   "cell_type": "code",
   "execution_count": null,
   "metadata": {
    "collapsed": false
   },
   "outputs": [],
   "source": [
    "HCFA.get_A_A_R()"
   ]
  },
  {
   "cell_type": "code",
   "execution_count": null,
   "metadata": {
    "collapsed": false
   },
   "outputs": [],
   "source": [
    "COMPARISON_get_hourly_HC_load_reduction('Region6',120.08,0.5)"
   ]
  },
  {
   "cell_type": "code",
   "execution_count": null,
   "metadata": {
    "collapsed": true
   },
   "outputs": [],
   "source": [
    "def get_hourly_HC_load_reduction(DataGeneral, DataEnvelope, Q, OperationMode, day, hour, HCSeason, nRoom):\n",
    "\n",
    "    # region\n",
    "    region = DataGeneral[\"env_chiiki\"]\n",
    "    \n",
    "    # the ratio of the under floor space area with air intake to the under floor space area\n",
    "    r_UFArea = DataEnvelope['ip_ufv_area_rate'] * 0.01\n",
    "    \n",
    "    # floor area on under floor space with air intake in the standard house\n",
    "    A_s_ufvnt_R_i = get_A_s_ufvnt_R(r_UFArea)\n",
    "    A_s_ufvnt_R_A = get_A_s_ufvnt_R_A(A_s_ufvnt_R_i)\n",
    "    \n",
    "    U_s_vert = get_U_s_vert(region, Q)\n",
    "    \n",
    "    psi = get_psi(region, Q)\n",
    "    \n",
    "    V_R = get_V_R()\n",
    "\n",
    "    # outdoor temperature\n",
    "    theta_ex = EC.get_temperature(region, day, hour)\n",
    "    \n",
    "    # ground temperature\n",
    "    theta_g = get_ground_temperature(region, Q, OperationMode, day)\n",
    "    \n",
    "    # underfloor temperature\n",
    "    theta_uf_R = get_underfloor_temp(theta_ex, A_s_ufvnt_R_A, HCSeason, theta_g, psi)\n",
    "    \n",
    "    return {\n",
    "        'heating' : get_delta_L_H_uf_R_i( V_R[nRoom], theta_uf_R, theta_ex, A_s_ufvnt_R_i[nRoom], U_s_vert ),\n",
    "        'cooling' : get_delta_L_CS_uf_R_i( V_R[nRoom], theta_uf_R, theta_ex, A_s_ufvnt_R_i[nRoom], U_s_vert )\n",
    "    }[HCSeason]"
   ]
  },
  {
   "cell_type": "markdown",
   "metadata": {},
   "source": [
    "#### Example"
   ]
  },
  {
   "cell_type": "code",
   "execution_count": null,
   "metadata": {
    "collapsed": false,
    "scrolled": false
   },
   "outputs": [],
   "source": [
    "get_hourly_HC_load_reduction({'bsc_nobeyuka_menseki':120.08,'env_chiiki':'Region6'},\n",
    "                             {'ip_ufv':2,'ip_ufv_area_rate':50.0},2.686289141,'Intermittent_Intermittent','1/1',1, 'heating', 0)"
   ]
  },
  {
   "cell_type": "code",
   "execution_count": null,
   "metadata": {
    "collapsed": false
   },
   "outputs": [],
   "source": [
    "get_hourly_HC_load_reduction({'bsc_nobeyuka_menseki':120.08,'env_chiiki':'Region6'},\n",
    "                             {'ip_ufv':2,'ip_ufv_area_rate':50.0},2.686289141,'Intermittent_Intermittent','8/1',1, 'cooling', 0)"
   ]
  },
  {
   "cell_type": "markdown",
   "metadata": {},
   "source": [
    "## 5. Explanation"
   ]
  },
  {
   "cell_type": "markdown",
   "metadata": {},
   "source": [
    "### 5.1 Average Temperature at Under Floor Space"
   ]
  },
  {
   "cell_type": "markdown",
   "metadata": {},
   "source": [
    "The value depends on the region, heating operation mode and Q Value."
   ]
  },
  {
   "cell_type": "code",
   "execution_count": null,
   "metadata": {
    "collapsed": false
   },
   "outputs": [],
   "source": [
    "fignum = 8\n",
    "xs = [ 0.1 * x for x in range(0,100) ]\n",
    "plt.figure( figsize = (15,4*fignum/2), dpi=80 )\n",
    "for i,r in enumerate(['Region1','Region2','Region3','Region4','Region5','Region6','Region7','Region8']):\n",
    "    plt.subplot(fignum/2,2,i+1)\n",
    "    ys1 = [ get_theta_uf_R_ave(x,r,'Intermittent_Intermittent') for x in xs ]\n",
    "    ys2 = [ get_theta_uf_R_ave(x,r,'Continuous_Continuous') for x in xs ]\n",
    "    ys3 = [ get_theta_uf_R_ave(x,r,'WholeHouse') for x in xs ]\n",
    "    plt.plot(xs, ys1, label='Intermittent')\n",
    "    plt.plot(xs, ys2, label='Continuous')\n",
    "    plt.plot(xs, ys3, label='Whole House')\n",
    "    plt.ylim(9.0,25.0)\n",
    "    plt.title(r)\n",
    "    plt.legend()\n",
    "plt.show()"
   ]
  },
  {
   "cell_type": "markdown",
   "metadata": {},
   "source": [
    "### 5.2 Ground Temperature Curve for a Year"
   ]
  },
  {
   "cell_type": "markdown",
   "metadata": {},
   "source": [
    "Groud temperature curve in the case of Q value of 2.686."
   ]
  },
  {
   "cell_type": "code",
   "execution_count": null,
   "metadata": {
    "collapsed": false
   },
   "outputs": [],
   "source": [
    "days = [ i + 1 for i in range(365) ]\n",
    "def get_y(region,op,day):\n",
    "    Q = 2.686\n",
    "    t = get_theta_uf_R_ave(Q,region,op)\n",
    "    return get_theta_g(t,region,day)\n",
    "fignum = 3\n",
    "plt.figure( figsize = ( 30, 8*fignum ) )\n",
    "for i, op in enumerate(['Intermittent_Intermittent', 'Continuous_Continuous', 'WholeHouse']):\n",
    "    plt.subplot(fignum,1,i+1)\n",
    "    for r in ['Region1','Region2','Region3','Region4','Region5','Region6','Region7','Region8']:\n",
    "        y = [ get_y(r,op,d) for d in days ]\n",
    "        plt.plot(days,y,label=r)\n",
    "    plt.xlim(1,365)\n",
    "    plt.ylim(5.0,30.0)\n",
    "    plt.title(op)\n",
    "    plt.legend()\n",
    "plt.show()\n"
   ]
  },
  {
   "cell_type": "markdown",
   "metadata": {},
   "source": [
    "### 5.3 $Q$ Value vs. $U_{s,vert}$ Value"
   ]
  },
  {
   "cell_type": "code",
   "execution_count": null,
   "metadata": {
    "collapsed": false
   },
   "outputs": [],
   "source": [
    "fignum = 8\n",
    "xs = [ 0.01 * x for x in range(0,1000) ]\n",
    "plt.figure( figsize = ( 15, 4*fignum/2 ), dpi=80 )\n",
    "for i,r in enumerate(['Region1','Region2','Region3','Region4','Region5','Region6','Region7','Region8']):\n",
    "    plt.subplot(fignum/2,2,i+1)\n",
    "    ys = [ get_U_s_vert(r,x) for x in xs ]\n",
    "    plt.plot(xs, ys)\n",
    "    plt.ylim(0.0,5.0)\n",
    "    plt.title(r)\n",
    "plt.show()"
   ]
  },
  {
   "cell_type": "markdown",
   "metadata": {},
   "source": [
    "### 5.4 $Q$ Value vs. $\\psi$ Value"
   ]
  },
  {
   "cell_type": "code",
   "execution_count": null,
   "metadata": {
    "collapsed": false
   },
   "outputs": [],
   "source": [
    "fignum = 8\n",
    "xs = [ 0.01 * x for x in range(0,1000) ]\n",
    "plt.figure( figsize = ( 15, 4*fignum/2 ), dpi=80 )\n",
    "for i,r in enumerate(['Region1','Region2','Region3','Region4','Region5','Region6','Region7','Region8']):\n",
    "    plt.subplot(fignum/2,2,i+1)\n",
    "    ys = [ get_psi(r,x) for x in xs ]\n",
    "    plt.plot(xs, ys)\n",
    "    plt.ylim(0.0,5.0)\n",
    "    plt.title(r)\n",
    "plt.show()"
   ]
  },
  {
   "cell_type": "markdown",
   "metadata": {},
   "source": [
    "### 5.5 Under floor space temperature"
   ]
  },
  {
   "cell_type": "code",
   "execution_count": null,
   "metadata": {
    "collapsed": true
   },
   "outputs": [],
   "source": [
    "def show_annual_underfloor_temp(region, r_UFArea, Q, OperationMode, nRoom):\n",
    "\n",
    "    def calc_underfloor_temp(region, r_UFArea, Q, OperationMode, day, hour, HCSeason, nRoom):\n",
    "        \n",
    "        # floor area on under floor space with air intake in the standard house\n",
    "        A_s_ufvnt_R_i = get_A_s_ufvnt_R(r_UFArea)\n",
    "        A_s_ufvnt_R_A = get_A_s_ufvnt_R_A(A_s_ufvnt_R_i)\n",
    "    \n",
    "        U_s_vert = get_U_s_vert(region, Q)\n",
    "        \n",
    "        psi = get_psi(region, Q)\n",
    "\n",
    "        V_R = get_V_R()\n",
    "\n",
    "        # ground temperature\n",
    "        theta_g = get_ground_temperature(region, Q, OperationMode, day)\n",
    "        \n",
    "        return np.average( np.array( [\n",
    "            get_underfloor_temp(EC.get_temperature(region, day, h), A_s_ufvnt_R_A, HCSeason, theta_g, psi) for h in range(24)\n",
    "        ]) )\n",
    "    \n",
    "    plt.figure( figsize = (30, 8) )\n",
    "\n",
    "    days = [ i + 1 for i in range(365) ]\n",
    "    \n",
    "    tempH = [ calc_underfloor_temp(region, r_UFArea, Q, OperationMode, EC.get_Annual_Days()[day-1], 1, 'heating', nRoom) for day in days ]\n",
    "    tempC = [ calc_underfloor_temp(region, r_UFArea, Q, OperationMode, EC.get_Annual_Days()[day-1], 1, 'cooling', nRoom) for day in days ]\n",
    "    \n",
    "    plt.plot(days,tempH, label='heating')\n",
    "    plt.plot(days,tempC, label='cooling')\n",
    "    plt.xlim(1,365)\n",
    "    plt.legend()\n",
    "    plt.show()"
   ]
  },
  {
   "cell_type": "code",
   "execution_count": null,
   "metadata": {
    "collapsed": false
   },
   "outputs": [],
   "source": [
    "show_annual_underfloor_temp('Region6', 0.5, 2.686289141, 'Intermittent_Intermittent', 0)"
   ]
  },
  {
   "cell_type": "markdown",
   "metadata": {},
   "source": [
    "### 5.6 Annual Heating or Cooling Load Reduction"
   ]
  },
  {
   "cell_type": "code",
   "execution_count": null,
   "metadata": {
    "collapsed": false
   },
   "outputs": [],
   "source": [
    "def show_annual_HC_load_reduction(DataGeneral, DataEnvelope, Q, OperationMode, nRoom):\n",
    "    \n",
    "    def sum_daily_HC_load_reduction(DataGeneral, DataEnvelope, Q, OperationMode, day, HCSeason, nRoom):\n",
    "        return np.sum( np.array( [\n",
    "            get_hourly_HC_load_reduction(DataGeneral, DataEnvelope, Q, OperationMode, day, h, HCSeason, nRoom) for h in range(24)\n",
    "        ] ) )\n",
    "    \n",
    "    plt.figure( figsize = (30, 8) )\n",
    "\n",
    "    days = [ i + 1 for i in range(365) ]\n",
    "    \n",
    "    loadH = [ sum_daily_HC_load_reduction(DataGeneral, DataEnvelope, Q, OperationMode, EC.get_Annual_Days()[d-1], 'heating', nRoom) for d in days ]\n",
    "    loadC = [ sum_daily_HC_load_reduction(DataGeneral, DataEnvelope, Q, OperationMode, EC.get_Annual_Days()[d-1], 'cooling', nRoom) for d in days ]\n",
    "        \n",
    "    plt.plot(days,loadH, label='heating')\n",
    "    plt.plot(days,loadC, label='cooling')\n",
    "    plt.xlim(1,365)\n",
    "    plt.legend()\n",
    "    plt.show()"
   ]
  },
  {
   "cell_type": "code",
   "execution_count": null,
   "metadata": {
    "collapsed": false
   },
   "outputs": [],
   "source": [
    "show_annual_HC_load_reduction({'bsc_nobeyuka_menseki':120.08,'env_chiiki':'Region6'},\n",
    "                              {'ip_ufv':2,'ip_ufv_area_rate':50.0},2.686289141,'Intermittent_Intermittent', 0)"
   ]
  }
 ],
 "metadata": {
  "kernelspec": {
   "display_name": "Python 3",
   "language": "python",
   "name": "python3"
  },
  "language_info": {
   "codemirror_mode": {
    "name": "ipython",
    "version": 3
   },
   "file_extension": ".py",
   "mimetype": "text/x-python",
   "name": "python",
   "nbconvert_exporter": "python",
   "pygments_lexer": "ipython3",
   "version": "3.6.2"
  }
 },
 "nbformat": 4,
 "nbformat_minor": 2
}
