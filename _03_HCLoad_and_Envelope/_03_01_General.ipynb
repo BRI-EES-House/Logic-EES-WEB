{
 "cells": [
  {
   "cell_type": "code",
   "execution_count": 1,
   "metadata": {
    "collapsed": true
   },
   "outputs": [],
   "source": [
    "# 式（1）\n",
    "def get_L_H_i(_Ldash_H_i, _f_R_Evp_i, _f_R_Eqp_i, _f_TD_i):\n",
    "    return _Ldash_H_i * _f_R_Evp_i * _f_R_Eqp_i * _f_TD_i\n"
   ]
  },
  {
   "cell_type": "code",
   "execution_count": 2,
   "metadata": {
    "collapsed": true
   },
   "outputs": [],
   "source": [
    "# 式（2）\n",
    "def get_f_R_evp_i(_Q, _region, _HeatingOperation):\n",
    "    \n",
    "    # table\n",
    "    (a_R_Evp_i, b_R_Evp_i) = {\n",
    "        'Region1' : {'I' : (0.031, 0.971), 'RO' : (0.041, 0.975), 'HA' : (0.059, 1.038)},\n",
    "        'Region2' : {'I' : (0.032, 0.966), 'RO' : (0.043, 0.970), 'HA' : (0.060, 1.034)},\n",
    "        'Region3' : {'I' : (0.030, 0.963), 'RO' : (0.039, 0.970), 'HA' : (0.050, 1.049)},\n",
    "        'Region4' : {'I' : (0.027, 0.972), 'RO' : (0.033, 0.985), 'HA' : (0.040, 1.081)},\n",
    "        'Region5' : {'I' : (0.028, 0.966), 'RO' : (0.034, 0.981), 'HA' : (0.038, 1.092)},\n",
    "        'Region6' : {'I' : (0.029, 0.961), 'RO' : (0.035, 0.974), 'HA' : (0.039, 1.090)},\n",
    "        'Region7' : {'I' : (0.020, 0.921), 'RO' : (0.024, 0.937), 'HA' : (0.021, 1.094)},\n",
    "    }[_region][_HeatingOperation]\n",
    "    \n",
    "    return a_R_Evp_i * _Q + b_R_Evp_i"
   ]
  },
  {
   "cell_type": "markdown",
   "metadata": {},
   "source": [
    "#### Example"
   ]
  },
  {
   "cell_type": "code",
   "execution_count": 3,
   "metadata": {},
   "outputs": [
    {
     "data": {
      "text/plain": [
       "22.094"
      ]
     },
     "execution_count": 3,
     "metadata": {},
     "output_type": "execute_result"
    }
   ],
   "source": [
    "get_f_R_evp_i(1000, 'Region7', 'HA')"
   ]
  },
  {
   "cell_type": "code",
   "execution_count": 4,
   "metadata": {},
   "outputs": [],
   "source": [
    "# 式（3）\n",
    "def get_f_R_Eqp_i(_R_l_i, _Equipment, _HeatingOperation):\n",
    "    \n",
    "    #table\n",
    "    a_R_Eqp_i = {'I' : -0.105, 'RO' : -0.137, 'HA' : -0.231}[_HeatingOperation]\n",
    "    \n",
    "    if _Equipment == 'yukadanbo': # 暫定の名称。\n",
    "        return a_R_Eqp_i * _R_l_i + 1\n",
    "    elif _Equipment != 'yukadanbo':\n",
    "        return 1\n",
    "\n"
   ]
  },
  {
   "cell_type": "markdown",
   "metadata": {},
   "source": [
    "####  Example"
   ]
  },
  {
   "cell_type": "code",
   "execution_count": 5,
   "metadata": {},
   "outputs": [
    {
     "data": {
      "text/plain": [
       "-0.050000000000000044"
      ]
     },
     "execution_count": 5,
     "metadata": {},
     "output_type": "execute_result"
    }
   ],
   "source": [
    "get_f_R_Eqp_i(10,'yukadanbo', 'I')"
   ]
  }
 ],
 "metadata": {
  "kernelspec": {
   "display_name": "Python 3",
   "language": "python",
   "name": "python3"
  },
  "language_info": {
   "codemirror_mode": {
    "name": "ipython",
    "version": 3
   },
   "file_extension": ".py",
   "mimetype": "text/x-python",
   "name": "python",
   "nbconvert_exporter": "python",
   "pygments_lexer": "ipython3",
   "version": "3.6.2"
  }
 },
 "nbformat": 4,
 "nbformat_minor": 2
}
