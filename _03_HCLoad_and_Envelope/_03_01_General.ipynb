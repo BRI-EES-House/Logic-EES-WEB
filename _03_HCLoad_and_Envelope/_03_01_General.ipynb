{
 "cells": [
  {
   "cell_type": "code",
   "execution_count": 1,
   "metadata": {
    "collapsed": true
   },
   "outputs": [],
   "source": [
    "from enum import Enum"
   ]
  },
  {
   "cell_type": "code",
   "execution_count": 1,
   "metadata": {
    "collapsed": true
   },
   "outputs": [],
   "source": [
    "# 式（1）\n",
    "def get_L_H_i(_Ldash_H_i, _f_R_Evp_i, _f_R_Eqp_i, _f_TD_i):\n",
    "    return _Ldash_H_i * _f_R_Evp_i * _f_R_Eqp_i * _f_TD_i\n"
   ]
  },
  {
   "cell_type": "code",
   "execution_count": 2,
   "metadata": {
    "collapsed": true
   },
   "outputs": [],
   "source": [
    "# 式（2）\n",
    "def get_f_R_evp_i(_Q, _region, _HeatingOperation):\n",
    "    \n",
    "    # table\n",
    "    (a_R_Evp_i, b_R_Evp_i) = {\n",
    "        'Region1' : {'I' : (0.031, 0.971), 'RO' : (0.041, 0.975), 'HA' : (0.059, 1.038)},\n",
    "        'Region2' : {'I' : (0.032, 0.966), 'RO' : (0.043, 0.970), 'HA' : (0.060, 1.034)},\n",
    "        'Region3' : {'I' : (0.030, 0.963), 'RO' : (0.039, 0.970), 'HA' : (0.050, 1.049)},\n",
    "        'Region4' : {'I' : (0.027, 0.972), 'RO' : (0.033, 0.985), 'HA' : (0.040, 1.081)},\n",
    "        'Region5' : {'I' : (0.028, 0.966), 'RO' : (0.034, 0.981), 'HA' : (0.038, 1.092)},\n",
    "        'Region6' : {'I' : (0.029, 0.961), 'RO' : (0.035, 0.974), 'HA' : (0.039, 1.090)},\n",
    "        'Region7' : {'I' : (0.020, 0.921), 'RO' : (0.024, 0.937), 'HA' : (0.021, 1.094)},\n",
    "    }[_region][_HeatingOperation]\n",
    "    \n",
    "    return a_R_Evp_i * _Q + b_R_Evp_i"
   ]
  },
  {
   "cell_type": "markdown",
   "metadata": {},
   "source": [
    "#### Example"
   ]
  },
  {
   "cell_type": "code",
   "execution_count": 3,
   "metadata": {},
   "outputs": [
    {
     "data": {
      "text/plain": [
       "22.094"
      ]
     },
     "execution_count": 3,
     "metadata": {},
     "output_type": "execute_result"
    }
   ],
   "source": [
    "get_f_R_evp_i(1000, 'Region7', 'HA')"
   ]
  },
  {
   "cell_type": "code",
   "execution_count": 4,
   "metadata": {
    "collapsed": true
   },
   "outputs": [],
   "source": [
    "# 式（3）\n",
    "def get_f_R_Eqp_i(_R_l_i, _Equipment, _HeatingOperation):\n",
    "    \n",
    "    #table\n",
    "    a_R_Eqp_i = {'I' : -0.105, 'RO' : -0.137, 'HA' : -0.231}[_HeatingOperation]\n",
    "    \n",
    "    if _Equipment == 'yukadanbo': # 暫定の名称。\n",
    "        return a_R_Eqp_i * _R_l_i + 1\n",
    "    elif _Equipment != 'yukadanbo':\n",
    "        return 1\n",
    "\n"
   ]
  },
  {
   "cell_type": "markdown",
   "metadata": {},
   "source": [
    "####  Example"
   ]
  },
  {
   "cell_type": "code",
   "execution_count": 5,
   "metadata": {},
   "outputs": [
    {
     "data": {
      "text/plain": [
       "-0.050000000000000044"
      ]
     },
     "execution_count": 5,
     "metadata": {},
     "output_type": "execute_result"
    }
   ],
   "source": [
    "get_f_R_Eqp_i(10,'yukadanbo', 'I')"
   ]
  },
  {
   "cell_type": "code",
   "execution_count": 6,
   "metadata": {
    "collapsed": true
   },
   "outputs": [],
   "source": [
    "# 式（4）\n",
    "def f_TD_i(_Q, _Equipment, _HeatingOperation, _region):\n",
    "    \n",
    "    (a_TD_i, f_TD_max) = {\n",
    "        'Region1' : {'I' : (0.0157, 1.0842), 'RO' : (0.0163, 1.0862), 'HA' : (0.0176, 1.0860)},\n",
    "        'Region2' : {'I' : (0.0157, 1.0928), 'RO' : (0.0163, 1.0954), 'HA' : (0.0176, 1.0981)},\n",
    "        'Region3' : {'I' : (0.0097, 1.1048), 'RO' : (0.0101, 1.1079), 'HA' : (0.0110, 1.1147)},\n",
    "        'Region4' : {'I' : (0.0063, 1.1111), 'RO' : (0.0066, 1.1146), 'HA' : (0.0072, 1.1235)},\n",
    "        'Region5' : {'I' : (0.0045, 1.1223), 'RO' : (0.0047, 1.1264), 'HA' : (0.0053, 1.1391)},\n",
    "        'Region6' : {'I' : (0.0045, 1.1277), 'RO' : (0.0047, 1.1320), 'HA' : (0.0053, 1.1465)},\n",
    "        'Region7' : {'I' : (0.0014, 1.1357), 'RO' : (0.0015, 1.1404), 'HA' : (0.0017, 1.1576)},\n",
    "    }[_region][_HeatingOperation]\n",
    "    \n",
    "    if _Equipment == 'yukadanbo': # 暫定の名称\n",
    "        return 1\n",
    "    elif _Equipment != 'yukadanbo':\n",
    "        return min(a_TD_i * pow(_Q,2) + 1, f_TD_max)\n",
    "    \n",
    "\n"
   ]
  },
  {
   "cell_type": "code",
   "execution_count": 7,
   "metadata": {},
   "outputs": [
    {
     "data": {
      "text/plain": [
       "1.000425"
      ]
     },
     "execution_count": 7,
     "metadata": {},
     "output_type": "execute_result"
    }
   ],
   "source": [
    "f_TD_i(_Q=0.5, _Equipment='a', _HeatingOperation='HA', _region='Region7')\n"
   ]
  },
  {
   "cell_type": "code",
   "execution_count": 8,
   "metadata": {
    "collapsed": true
   },
   "outputs": [],
   "source": [
    "# 式（5a）\n",
    "def L_CS_i(_Ldash_CS_i):\n",
    "    return _Ldash_CS_i\n"
   ]
  },
  {
   "cell_type": "code",
   "execution_count": 9,
   "metadata": {
    "collapsed": true
   },
   "outputs": [],
   "source": [
    "# 式（5b）\n",
    "def L_CL_i(_Ldash_CL_i):\n",
    "    return _Ldash_CL_i"
   ]
  },
  {
   "cell_type": "code",
   "execution_count": 4,
   "metadata": {
    "collapsed": true
   },
   "outputs": [],
   "source": [
    "# 式（6） ※12個の居室を配列で計算するか。\n",
    "# 入力は主居室、その他居室、全体となる。これをどこで12個に分解するか。\n",
    "def get_L_dash_H_i(_L_dash_H_R_i, _A_HCZ_i, _A_HCZ_R_i):\n",
    "    return _L_dash_H_R_i * _A_HCZ_i / _A_HCZ_R_i\n",
    "\n",
    "def get_L_dash_CS_i(_L_dash_CS_R_i, _A_HCZ_i, _A_HCZ_R_i):\n",
    "    return _L_dash_CS_R_i * _A_HCZ_i / _A_HCZ_R_i\n",
    "\n",
    "def get_L_dash_CL_i(L_dash_CL_R_i, A_HCZ_i, A_HCZ_R_i):\n",
    "    return L_dash_CL_R_i * A_HCZ_i / A_HCZ_R_i"
   ]
  },
  {
   "cell_type": "markdown",
   "metadata": {},
   "source": [
    "#### Example"
   ]
  },
  {
   "cell_type": "code",
   "execution_count": 7,
   "metadata": {},
   "outputs": [
    {
     "name": "stdout",
     "output_type": "stream",
     "text": [
      "6.709158000670916\n",
      "19.477989871445267\n",
      "15.0\n"
     ]
    }
   ],
   "source": [
    "print(get_L_dash_H_i(10, 20, 29.81))\n",
    "print(get_L_dash_CS_i(20, 50, 51.34))\n",
    "print(get_L_dash_CL_i(30, 10, 20))"
   ]
  },
  {
   "cell_type": "code",
   "execution_count": 2,
   "metadata": {
    "collapsed": true
   },
   "outputs": [],
   "source": [
    "class Heat_Storage(Enum):\n",
    "    Exist = 1,\n",
    "    NotExist = 2"
   ]
  },
  {
   "cell_type": "code",
   "execution_count": 3,
   "metadata": {
    "collapsed": true
   },
   "outputs": [],
   "source": [
    "# 式（7）\n",
    "# WEBプログラムの実装状況によっては修正が始まる。\n",
    "def get_L_dash_H_R_i(_HeatStorage, L_dash_H_R_TS_0_i, L_dash_H_R_TS_1_i, _delta_L_dash_H_uf_R_i):\n",
    "    if _HeatStorage == Heat_Storage.NotExist or L_dash_H_R_TS_0_i <= L_dash_H_R_TS_1_i:\n",
    "        return L_dash_H_R_TS_0_i - _delta_L_dash_H_uf_R_i\n",
    "    elif _heatStorage == Heat_Storage.Exist and L_dash_H_R_TS_0_i > L_dash_H_R_TS_1_i:\n",
    "        return L_dash_H_R_TS_1_i - _delta_L_dash_H_uf_R_i\n",
    "        "
   ]
  },
  {
   "cell_type": "code",
   "execution_count": 9,
   "metadata": {
    "collapsed": true
   },
   "outputs": [],
   "source": [
    "# 式（8）\n",
    "def L_dash_H_R_TSl_i(_Q_HEXC, person):\n",
    "    \n",
    "    L_Q1 = 1\n",
    "    \n",
    "    \n",
    "    (_Q_HEXC - _Q2) / (_Q1 - _Q2) * L_Q1 + (_Q_HEXC - _Q1) * L_Q2 / (_Q2 - _Q1)\n",
    "    "
   ]
  },
  {
   "cell_type": "code",
   "execution_count": null,
   "metadata": {
    "collapsed": true
   },
   "outputs": [],
   "source": []
  },
  {
   "cell_type": "code",
   "execution_count": null,
   "metadata": {
    "collapsed": true
   },
   "outputs": [],
   "source": []
  },
  {
   "cell_type": "code",
   "execution_count": null,
   "metadata": {
    "collapsed": true
   },
   "outputs": [],
   "source": []
  },
  {
   "cell_type": "code",
   "execution_count": null,
   "metadata": {
    "collapsed": true
   },
   "outputs": [],
   "source": []
  },
  {
   "cell_type": "code",
   "execution_count": null,
   "metadata": {
    "collapsed": true
   },
   "outputs": [],
   "source": []
  }
 ],
 "metadata": {
  "kernelspec": {
   "display_name": "Python 3",
   "language": "python",
   "name": "python3"
  },
  "language_info": {
   "codemirror_mode": {
    "name": "ipython",
    "version": 3
   },
   "file_extension": ".py",
   "mimetype": "text/x-python",
   "name": "python",
   "nbconvert_exporter": "python",
   "pygments_lexer": "ipython3",
   "version": "3.6.2"
  }
 },
 "nbformat": 4,
 "nbformat_minor": 2
}
