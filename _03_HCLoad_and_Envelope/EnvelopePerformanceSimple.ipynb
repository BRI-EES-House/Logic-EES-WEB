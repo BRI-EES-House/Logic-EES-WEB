{
 "cells": [
  {
   "cell_type": "code",
   "execution_count": 1,
   "metadata": {
    "collapsed": false
   },
   "outputs": [
    {
     "name": "stdout",
     "output_type": "stream",
     "text": [
      "Importing Jupyter notebook from DirectionCoefficient.ipynb\n",
      "Importing Jupyter notebook from fValue.ipynb\n"
     ]
    }
   ],
   "source": [
    "import numpy as np\n",
    "from decimal import Decimal\n",
    "\n",
    "import nbimporter\n",
    "from DirectionCoefficient import get_nu_H as DC_get_nu_H\n",
    "from DirectionCoefficient import get_nu_C as DC_get_nu_C\n",
    "from fValue import f1f2Value"
   ]
  },
  {
   "cell_type": "markdown",
   "metadata": {},
   "source": [
    "# Envelope Performance / 外皮性能"
   ]
  },
  {
   "cell_type": "markdown",
   "metadata": {},
   "source": [
    "## Envelope Evaluation Method by Not Using Area of Envelope Units of Actual House / 当該住戸の外皮の部位の面積等を用いずに外皮性能を評価する方法"
   ]
  },
  {
   "cell_type": "markdown",
   "metadata": {},
   "source": [
    "## 1. Introduction"
   ]
  },
  {
   "cell_type": "markdown",
   "metadata": {},
   "source": [
    "This calculation depends on the specification of \"Chapter III Heating / Cooling Load and Envelope Performance - II Envelope Performance\" in BRI."
   ]
  },
  {
   "cell_type": "markdown",
   "metadata": {},
   "source": [
    "## 2. Type"
   ]
  },
  {
   "cell_type": "markdown",
   "metadata": {},
   "source": [
    "### 2.1 Region / 地域区分 "
   ]
  },
  {
   "cell_type": "markdown",
   "metadata": {},
   "source": [
    "Region consists of 'region1', 'region2', 'region3', ... , 'region8' as string."
   ]
  },
  {
   "cell_type": "markdown",
   "metadata": {},
   "source": [
    "### 2.2 Direction / 方位"
   ]
  },
  {
   "cell_type": "markdown",
   "metadata": {},
   "source": [
    "Direction consists of 'S', 'SW', 'W', 'NW', 'N', 'NE', 'E', 'SE', 'top' and 'bottom' as string."
   ]
  },
  {
   "cell_type": "markdown",
   "metadata": {},
   "source": [
    "### 2.3 Type of Reference House for Simple Evaluation / 簡易法における標準住戸の種類 "
   ]
  },
  {
   "cell_type": "markdown",
   "metadata": {},
   "source": [
    "The type of reference house for simple evaluation consists below;  \n",
    "* floor_ins : Floor insulated house\n",
    "* base_ins  : Base insulated house\n",
    "* floor_and_base_ins : The house which hase the parts of both floor insulated part and base insulated part"
   ]
  },
  {
   "cell_type": "markdown",
   "metadata": {},
   "source": [
    "The type of bathroom insulation of the 'floor_ins' and 'floor_and_base_ins' houses consists below;  \n",
    "- bath_floor_ins: floor insulated\n",
    "- bath_base_ins: base insulated\n",
    "- bath_2nd_floor: the bathroom is at 2nd floor"
   ]
  },
  {
   "cell_type": "markdown",
   "metadata": {},
   "source": [
    "The type of bathroom insulation of the 'base_ins' house is 'bath_base_ins'."
   ]
  },
  {
   "cell_type": "markdown",
   "metadata": {},
   "source": [
    "## 3. Functions"
   ]
  },
  {
   "cell_type": "markdown",
   "metadata": {},
   "source": [
    "### 3.1. Heat Loss Coefficient without Ventilation Loss / 熱損失係数(換気による熱損失を含まない)"
   ]
  },
  {
   "cell_type": "markdown",
   "metadata": {},
   "source": [
    "$ Q' = U_A \\times r_{env} $"
   ]
  },
  {
   "cell_type": "markdown",
   "metadata": {},
   "source": [
    "$Q'$ is the heat loss coefficient without ventilation loss / 熱損失係数(換気による熱損失を含まない) (W/m<sup>2</sup>K)  \n",
    "$U_A$ is the average envelope thermal transmittance rate / 外皮平均熱貫流率(W/m<sup>2</sup>K)  \n",
    "$r_{env}$ is the ratio of the total envelope parts area to the total floor area / 床面積の合計に対する外皮の部位の面積の合計の比"
   ]
  },
  {
   "cell_type": "code",
   "execution_count": 2,
   "metadata": {
    "collapsed": false
   },
   "outputs": [],
   "source": [
    "def get_Q_dash(U_A, r_env):\n",
    "    return U_A * r_env"
   ]
  },
  {
   "cell_type": "markdown",
   "metadata": {},
   "source": [
    "#### Comment"
   ]
  },
  {
   "cell_type": "markdown",
   "metadata": {},
   "source": [
    "The average envelope thermal transmittance rate is the value of the heat loss per the unit temperature difference $q$ divided by the total floor area $ A_f $.  \n",
    "$ U_A = q \\div A_f $  \n",
    "The heat loss coefficient withou ventilation loss is tha value of the heat loss per the unit temperature difference $q$ divided by the total envelope parts area $ A_{env} $.  \n",
    "$ Q' = q \\div A_{env} $  \n",
    "The ratio of the total envelope parts area to the total floor area $r_{env}$ is the coefficient for converting $U_A$ value to $Q'$ value."
   ]
  },
  {
   "cell_type": "markdown",
   "metadata": {},
   "source": [
    "#### Example"
   ]
  },
  {
   "cell_type": "code",
   "execution_count": 3,
   "metadata": {
    "collapsed": false
   },
   "outputs": [
    {
     "data": {
      "text/plain": [
       "2.227962191872085"
      ]
     },
     "execution_count": 3,
     "metadata": {},
     "output_type": "execute_result"
    }
   ],
   "source": [
    "get_Q_dash( 0.87 , 307.51/120.08 )"
   ]
  },
  {
   "cell_type": "markdown",
   "metadata": {},
   "source": [
    "### 3.2 Solar Gain Coefficient / 日射取得係数"
   ]
  },
  {
   "cell_type": "markdown",
   "metadata": {},
   "source": [
    "$ \\mu_H = \\frac { \\eta_{A,H} }{100} \\times r_{env} $"
   ]
  },
  {
   "cell_type": "markdown",
   "metadata": {},
   "source": [
    "$ \\mu_C = \\frac { \\eta_{A,C} }{100} \\times r_{env} $"
   ]
  },
  {
   "cell_type": "markdown",
   "metadata": {},
   "source": [
    "$ \\mu_H $ is the solar gain coefficient in the heating season / 暖房期の日射取得係数;  \n",
    "$ \\mu_C $ is the solar gain coefficient in the cooling season / 冷房期の日射取得係数;  \n",
    "$ \\eta_{A,H} $ is the average solar heat gain ratio in the heating season / 暖房期の平均日射熱取得率 (%);  \n",
    "$ \\eta_{A,C} $ is the average solar heat gain ratio in the cooling season / 冷房期の平均日射熱取得率 (%);  \n",
    "$r_{env}$ is the ratio of the total envelope parts area to the total floor area / 床面積の合計に対する外皮の部位の面積の合計の比."
   ]
  },
  {
   "cell_type": "code",
   "execution_count": 4,
   "metadata": {
    "collapsed": true
   },
   "outputs": [],
   "source": [
    "def get_mu_H(eta_A_H, r_env):\n",
    "    return eta_A_H * r_env / 100"
   ]
  },
  {
   "cell_type": "code",
   "execution_count": 5,
   "metadata": {
    "collapsed": true
   },
   "outputs": [],
   "source": [
    "def get_mu_C(eta_A_C, r_env):\n",
    "    return eta_A_C * r_env / 100"
   ]
  },
  {
   "cell_type": "markdown",
   "metadata": {},
   "source": [
    "#### Example"
   ]
  },
  {
   "cell_type": "code",
   "execution_count": 6,
   "metadata": {
    "collapsed": false
   },
   "outputs": [
    {
     "data": {
      "text/plain": [
       "0.11011767155229846"
      ]
     },
     "execution_count": 6,
     "metadata": {},
     "output_type": "execute_result"
    }
   ],
   "source": [
    "get_mu_H(4.3, 307.51/120.08 )"
   ]
  },
  {
   "cell_type": "code",
   "execution_count": 7,
   "metadata": {
    "collapsed": false
   },
   "outputs": [
    {
     "data": {
      "text/plain": [
       "0.07170453031312457"
      ]
     },
     "execution_count": 7,
     "metadata": {},
     "output_type": "execute_result"
    }
   ],
   "source": [
    "get_mu_C(2.8, 307.51/120.08 )"
   ]
  },
  {
   "cell_type": "markdown",
   "metadata": {},
   "source": [
    "### 3.3 Ratio of Total Envelope Parts Area to Total Floor Area  / 床面積の合計に対する外皮の部位の面積の合計の比"
   ]
  },
  {
   "cell_type": "markdown",
   "metadata": {},
   "source": [
    "$ \\displaystyle r_{env} = \\frac{ A_{env} }{ A_A } $ "
   ]
  },
  {
   "cell_type": "markdown",
   "metadata": {},
   "source": [
    "$r_{env}$ is the ratio of the total envelope parts area to the total floor area / 床面積の合計に対する外皮の部位の面積の合計の比;  \n",
    "$A_{env}$ is the total envelope parts area / 外皮の部位の面積の合計 (m<sup>2</sup>);  \n",
    "$A_A$ is the total floor area / 床面積の合計 (m<sup>2</sup>)."
   ]
  },
  {
   "cell_type": "code",
   "execution_count": 8,
   "metadata": {
    "collapsed": true
   },
   "outputs": [],
   "source": [
    "def get_r_env(A_env, A_A):\n",
    "    return A_env / A_A"
   ]
  },
  {
   "cell_type": "markdown",
   "metadata": {},
   "source": [
    "#### Example"
   ]
  },
  {
   "cell_type": "code",
   "execution_count": 9,
   "metadata": {
    "collapsed": false
   },
   "outputs": [
    {
     "data": {
      "text/plain": [
       "2.560876082611592"
      ]
     },
     "execution_count": 9,
     "metadata": {},
     "output_type": "execute_result"
    }
   ],
   "source": [
    "get_r_env( 307.51, 120.08 )"
   ]
  },
  {
   "cell_type": "markdown",
   "metadata": {},
   "source": [
    "### 3.4 Average Envelope Thermal Transmittance Rate / 外皮平均熱貫流率"
   ]
  },
  {
   "cell_type": "markdown",
   "metadata": {},
   "source": [
    "Where there are any fractions after two decimal places of $U_A$ value, they shall be rounded up. "
   ]
  },
  {
   "cell_type": "markdown",
   "metadata": {},
   "source": [
    "$ \\displaystyle U_A = \\frac{ q }{ A_{env} } $"
   ]
  },
  {
   "cell_type": "markdown",
   "metadata": {},
   "source": [
    "$U_A$ is the average envelope thermal transmittance rate / 外皮平均熱貫流率 (W/m<sup>2</sup>K);  \n",
    "$q$ is the envelope heat loss per unit temperature difference / 単位温度差当たりの外皮熱損失量(W/K);   \n",
    "$A_{env}$ is the total envelope parts area / 外皮の部位の面積の合計 (m<sup>2</sup>)."
   ]
  },
  {
   "cell_type": "markdown",
   "metadata": {},
   "source": [
    "$ \\begin{align*}\n",
    "    q &= A_{roof} \\times H_{roof} \\times U_{roof} \\\\\n",
    "      &+ ( A_{wall,0} + A_{wall,90} + A_{wall,180} + A_{wall,270} ) \\times H_{wall} \\times U_{wall} \\\\\n",
    "      &+ ( A_{door,0} + A_{door,90} + A_{door,180} + A_{door,270} ) \\times H_{door} \\times U_{door} \\\\\n",
    "      &+ ( A_{window,0}  + A_{window,90}  + A_{window,180}  + A_{window,270}  ) \\times H_{window}  \\times U_{window}  \\\\\n",
    "      &+ A_{floor,bath} \\times H_{floor} \\times U_{floor,bath} \\\\\n",
    "      &+ A_{floor,other} \\times H_{floor} \\times U_{floor,other} \\\\\n",
    "      &+ ( ( A_{base,etrc,OS,0} + A_{base,etrc,OS,90} + A_{base,etrc,OS,180} + A_{base,etrc,OS,270} ) \\times H_{base,OS} + A_{base,etrc,IS} \\times H_{base,IS} ) \\times U_{base,etrc} \\\\\n",
    "      &+ ( ( A_{base,bath,OS,0} + A_{base,bath,OS,90} + A_{base,bath,OS,180} + A_{base,bath,OS,270} ) \\times H_{base,OS} + A_{base,bath,IS} \\times H_{base,IS} ) \\times U_{base,bath} \\\\\n",
    "      &+ ( ( A_{base,other,OS,0} + A_{base,other,OS,90} + A_{base,other,OS,180} + A_{base,other,OS,270} ) \\times H_{base,OS} + A_{base,other,IS} \\times H_{base,IS} ) \\times U_{base,other} \\\\\n",
    "      &+ ( ( L_{prm,etrc,OS,0} + L_{prm,etrc,OS,90} + L_{prm,etrc,OS,180} + L_{prm,etrc,OS,270} ) \\times H_{prm,OS} + L_{prm,etrc,IS} \\times H_{prm,IS} ) \\times \\psi_{prm,etrc} \\\\\n",
    "      &+ ( ( L_{prm,bath,OS,0} + L_{prm,bath,OS,90} + L_{prm,bath,OS,180} + L_{prm,bath,OS,270} ) \\times H_{prm,OS} + L_{prm,bath,IS} \\times H_{prm,IS} ) \\times \\psi_{prm,bath} \\\\\n",
    "      &+ ( ( L_{prm,other,OS,0} + L_{prm,other,OS,90} + L_{prm,other,OS,180} + L_{prm,other,OS,270} ) \\times H_{prm,OS} + L_{prm,other,IS} \\times H_{prm,IS} ) \\times \\psi_{prm,other} \\\\\n",
    "\\end{align*} $"
   ]
  },
  {
   "cell_type": "markdown",
   "metadata": {},
   "source": [
    "$ A $ is the area / 面積 (m<sup>2</sup>);  \n",
    "$ L $ is the length / 長さ (m);  \n",
    "$ H $ is the temperature difference coefficient / 温度差係数;  \n",
    "$ U $ is the thermal transmittance rate / 熱貫流率 (W/m<sup>2</sup>K);  \n",
    "$ \\psi $ is the linear thermal transmittance rate / 線熱貫流率 (W/mK).  \n",
    "\n",
    "subscript  \n",
    "roof : the roof / 屋根;  \n",
    "wall : the (external) wall / 壁;  \n",
    "door : the door / ドア;  \n",
    "window : the window / 窓;  \n",
    "floor : the (external) floor / 床;  \n",
    "base : the base / 基礎;  \n",
    "prm : the perimeter of the earth floor / 土間床外周部;  \n",
    "etrc : the entrance / 玄関部分;  \n",
    "bath : the bathroom / 浴室;  \n",
    "other : the part except the entrance and the bath / 玄関部分及び浴室を除く部分;  \n",
    "0,90,180,270 : the direction of 0, 90, 180 and 270 degree of clockwise from the south / 南から時計回りに0,90,180,270度の方向;  \n",
    "OS,IS : the outside and inside / 室外側及び室内側."
   ]
  },
  {
   "cell_type": "code",
   "execution_count": 10,
   "metadata": {
    "collapsed": false
   },
   "outputs": [],
   "source": [
    "class Orientation():\n",
    "    def __init__(self,_D0,_D90,_D180,_D270):\n",
    "        self.D0   = _D0;\n",
    "        self.D90  = _D90;\n",
    "        self.D180 = _D180;\n",
    "        self.D270 = _D270;\n",
    "    def sum(self):\n",
    "        return self.D0 + self.D90 + self.D180 + self.D270\n",
    "    def __mul__(x,y):\n",
    "        return Orientation(x.D0 * y.D0, x.D90 * y.D90, x.D180 * y.D180, x.D270 * y.D270)"
   ]
  },
  {
   "cell_type": "markdown",
   "metadata": {},
   "source": [
    "D0:   direction of   0 degree of clockwise from the south    \n",
    "D90:  direction of  90 degree of clockwise from the south  \n",
    "D180: direction of 180 degree of clockwise from the south  \n",
    "D270: direction of 270 degree of clockwise from the south  "
   ]
  },
  {
   "cell_type": "code",
   "execution_count": 11,
   "metadata": {
    "collapsed": false
   },
   "outputs": [],
   "source": [
    "def get_simple_U_A (A, L, H, U, psi):\n",
    "\n",
    "    # A : Area\n",
    "    #     roof, floorBath, floorOther, baseEtrcIS, baseBathIS, baseOtherIS, total_env : float\n",
    "    #     wall, door, window, baseEtrcOS, baseBathOS, baseOtherOS : class 'Orientation' which has D0,D90,D180 and D270 as float\n",
    "    # L : Length\n",
    "    #     prmEtrcIS, prmBathIS, prmOtherIS : float\n",
    "    #     prmEtrcOS, prmBathOS, prmOtherOS : class 'Orientation' which has D0,D90,D180 and D270 as float\n",
    "    # H : Temperature difference coefficient\n",
    "    #     roof, wall, door, window, floor, baseOS, baseIS, prmOS, prmIS: float\n",
    "    # U : U-Value\n",
    "    #     roof, wall, door, window, floorBath, floorOther, baseEtrc, baseBath, baseOther: float\n",
    "    # psi : psi value\n",
    "    #     prmEtrc, prmBath, prmOther : float\n",
    "\n",
    "    q = A['roof']         * H['roof']   * U['roof']   \\\n",
    "      + A['wall'].sum()   * H['wall']   * U['wall']   \\\n",
    "      + A['door'].sum()   * H['door']   * U['door']   \\\n",
    "      + A['window'].sum() * H['window'] * U['window'] \\\n",
    "      + A['floorBath']    * H['floor']  * U['floorBath'] \\\n",
    "      + A['floorOther']   * H['floor']  * U['floorOther'] \\\n",
    "      + ( A['baseEtrcOS'].sum()  * H['baseOS'] + A['baseEtrcIS']  * H['baseIS'] ) * U['baseEtrc']  \\\n",
    "      + ( A['baseBathOS'].sum()  * H['baseOS'] + A['baseBathIS']  * H['baseIS'] ) * U['baseBath']  \\\n",
    "      + ( A['baseOtherOS'].sum() * H['baseOS'] + A['baseOtherIS'] * H['baseIS'] ) * U['baseOther'] \\\n",
    "      + ( L['prmEtrcOS'].sum()   * H['prmOS']  + L['prmEtrcIS']   * H['prmIS']  ) * psi['prmEtrc'] \\\n",
    "      + ( L['prmBathOS'].sum()   * H['prmOS']  + L['prmBathIS']   * H['prmIS']  ) * psi['prmBath'] \\\n",
    "      + ( L['prmOtherOS'].sum()  * H['prmOS']  + L['prmOtherIS']  * H['prmIS']  ) * psi['prmOther']\n",
    "    \n",
    "    return float(Decimal(q / A['total_env']).quantize(Decimal('0.00'), rounding='ROUND_UP'))"
   ]
  },
  {
   "cell_type": "markdown",
   "metadata": {},
   "source": [
    "#### Example"
   ]
  },
  {
   "cell_type": "code",
   "execution_count": 12,
   "metadata": {
    "collapsed": false
   },
   "outputs": [
    {
     "data": {
      "text/plain": [
       "0.97"
      ]
     },
     "execution_count": 12,
     "metadata": {},
     "output_type": "execute_result"
    }
   ],
   "source": [
    "get_simple_U_A ( A = {\n",
    "                     'roof'        : 50.85,\n",
    "                     'wall'        : Orientation(30.47, 22.37, 47.92, 22.28),\n",
    "                     'door'        : Orientation( 0.00,  1.89,  1.62,  0.00),\n",
    "                     'window'      : Orientation(22.69,  2.38,  3.63,  4.37),\n",
    "                     'floorBath'   : 3.31,\n",
    "                     'floorOther'  : 45.05,\n",
    "                     'baseEtrcOS'  : Orientation(0.00, 0.33, 0.25, 0.00),\n",
    "                     'baseEtrcIS'  : 0.57,\n",
    "                     'baseBathOS'  : Orientation(0.00, 0.91, 0.91, 0.00),\n",
    "                     'baseBathIS'  : 1.82, \n",
    "                     'baseOtherOS' : Orientation(0.00, 0.00, 0.00, 0.00),\n",
    "                     'baseOtherIS' : 0.00, \n",
    "                     'total_env'   : 266.10\n",
    "                 },\n",
    "                 L = {\n",
    "                     'prmEtrcOS'  : Orientation(  0.00, 1.82, 1.37, 0.00 ),\n",
    "                     'prmEtrcIS'  : 3.19,\n",
    "                     'prmBathOS'  : Orientation(  0.00, 1.82, 1.82, 0.00 ),\n",
    "                     'prmBathIS'  : 3.64,\n",
    "                     'prmOtherOS' : Orientation(  0.00, 0.00, 0.00, 0.00 ),\n",
    "                     'prmOtherIS' : 0.00\n",
    "                 },\n",
    "                 H = {\n",
    "                     'roof'   : 1.0,\n",
    "                     'wall'   : 1.0,\n",
    "                     'door'   : 1.0,\n",
    "                     'window' : 1.0,\n",
    "                     'floor'  : 0.7,\n",
    "                     'baseOS' : 1.0,\n",
    "                     'baseIS' : 0.7,\n",
    "                     'prmOS'  : 1.0,\n",
    "                     'prmIS'  : 0.7\n",
    "                 },\n",
    "                 U = {\n",
    "                     'roof'       : 1.0,\n",
    "                     'wall'       : 1.0,\n",
    "                     'door'       : 1.0,\n",
    "                     'window'     : 1.0,\n",
    "                     'floorBath'  : 0.0,\n",
    "                     'floorOther' : 1.0,\n",
    "                     'baseEtrc'   : 1.0,\n",
    "                     'baseBath'   : 1.0,\n",
    "                     'baseOther'  : 0.0,\n",
    "                 },\n",
    "                 psi = {\n",
    "                     'prmEtrc'  : 1.0,\n",
    "                     'prmBath'  : 1.0,\n",
    "                     'prmOther' : 0.0,\n",
    "                 }\n",
    "               )                    "
   ]
  },
  {
   "cell_type": "markdown",
   "metadata": {},
   "source": [
    "### 3.5 Average Solar Heat Gain Ratio in Heating and Cooling Season / 暖房期の平均日射熱取得率及び冷房期の平均日射熱取得率"
   ]
  },
  {
   "cell_type": "markdown",
   "metadata": {},
   "source": [
    "Where there are any fractions after one decimal places of $\\eta_{A,H}$, they shall be rounded down. "
   ]
  },
  {
   "cell_type": "markdown",
   "metadata": {},
   "source": [
    "$ \\displaystyle \\eta_{A,H} = \\frac{m_H}{A_{env}} \\times 100 $"
   ]
  },
  {
   "cell_type": "markdown",
   "metadata": {},
   "source": [
    "$ \\eta_{A,H} $ is the average solar heat gain ratio in the heating season / 暖房期の平均日射熱取得率 (%);  \n",
    "$ m_H $ is the solar heat gain in the heating season per unit solar radiation intensity / 単位日射強度当たりの暖房期の日射熱取得量(W/(W/m<sup>2</sup>));  \n",
    "$ A_{env} $ is the total envelope parts area / 外皮の部位の面積の合計 (m<sup>2</sup>)."
   ]
  },
  {
   "cell_type": "markdown",
   "metadata": {},
   "source": [
    "Where there are any fractions after one decimal places of $\\eta_{A,C}$, they shall be rounded up. "
   ]
  },
  {
   "cell_type": "markdown",
   "metadata": {},
   "source": [
    "$ \\displaystyle \\eta_{A,C} = \\frac{m_C}{A_{env}} \\times 100 $"
   ]
  },
  {
   "cell_type": "markdown",
   "metadata": {},
   "source": [
    "$ \\eta_{A,C} $ is the average solar heat gain ratio in the cooling season / 冷房期の平均日射熱取得率 (%);  \n",
    "$ m_C $ is the solar heat gain in the cooling season per unit solar radiation intensity / 単位日射強度当たりの冷房期の日射熱取得量(W/(W/m<sup>2</sup>))."
   ]
  },
  {
   "cell_type": "markdown",
   "metadata": {},
   "source": [
    "$ \\begin{align*}\n",
    "    m_H &= A_{roof} \\times \\nu_{H,top} \\times \\eta_{H,roof} \\\\\n",
    "        &+ ( A_{wall,0} \\times \\nu_{H,0} + A_{wall,90} \\times \\nu_{H,90} + A_{wall,180} \\times \\nu_{H,180} + A_{wall,270} \\times \\nu_{H,270} ) \\times \\eta_{H,wall} \\\\\n",
    "        &+ ( A_{door,0} \\times \\nu_{H,0} + A_{door,90} \\times \\nu_{H,90} + A_{door,180} \\times \\nu_{H,180} + A_{door,270} \\times \\nu_{H,270} ) \\times \\eta_{H,door} \\\\\n",
    "        &+ A_{window,0} \\times \\nu_{H,0} \\times \\eta_{H,window,0} + A_{window,90} \\times \\nu_{H,90} \\times \\eta_{H,window,90} \\\\\n",
    "        &+ A_{window,180} \\times \\nu_{H,180} \\times \\eta_{H,window,180} + A_{window,270} \\times \\nu_{H,270} \\times \\eta_{H,window,270} \\\\\n",
    "        &+ ( A_{base,etrc,0} \\times \\nu_{H,0} + A_{base,etrc,90} \\times \\nu_{H,90} + A_{base,etrc,180} \\times \\nu_{H,180} + A_{base,etrc,270} \\times \\nu_{H,270} ) \\times \\eta_{H,base,etrc} \\\\\n",
    "        &+ ( A_{base,bath,0} \\times \\nu_{H,0} + A_{base,bath,90} \\times \\nu_{H,90} + A_{base,bath,180} \\times \\nu_{H,180} + A_{base,bath,270} \\times \\nu_{H,270} ) \\times \\eta_{H,base,bath} \\\\\n",
    "        &+ ( A_{base,other,0} \\times \\nu_{H,0} + A_{base,other,90} \\times \\nu_{H,90} + A_{base,other,180} \\times \\nu_{H,180} + A_{base,other,270} \\times \\nu_{H,270} ) \\times \\eta_{H,base,other} \\\\\n",
    "\\end{align*} $  "
   ]
  },
  {
   "cell_type": "markdown",
   "metadata": {},
   "source": [
    "$ \\begin{align*}\n",
    "    m_C &= A_{roof} \\times \\nu_{C,top} \\times \\eta_{C,roof} \\\\\n",
    "        &+ ( A_{wall,0} \\times \\nu_{C,0} + A_{wall,90} \\times \\nu_{C,90} + A_{wall,180} \\times \\nu_{C,180} + A_{wall,270} \\times \\nu_{C,270} ) \\times \\eta_{C,wall} \\\\\n",
    "        &+ ( A_{door,0} \\times \\nu_{C,0} + A_{door,90} \\times \\nu_{C,90} + A_{door,180} \\times \\nu_{C,180} + A_{door,270} \\times \\nu_{C,270} ) \\times \\eta_{C,door} \\\\\n",
    "        &+ A_{window,0} \\times \\nu_{C,0} \\times \\eta_{C,window,0} + A_{window,90} \\times \\nu_{C,90} \\times \\eta_{C,window,90} \\\\\n",
    "        &+ A_{window,180} \\times \\nu_{C,180} \\times \\eta_{C,window,180} + A_{window,270} \\times \\nu_{C,270} \\times \\eta_{C,window,270} \\\\\n",
    "        &+ ( A_{base,etrc,0} \\times \\nu_{C,0} + A_{base,etrc,90} \\times \\nu_{C,90} + A_{base,etrc,180} \\times \\nu_{C,180} + A_{base,etrc,270} \\times \\nu_{C,270} ) \\times \\eta_{C,base,etrc} \\\\\n",
    "        &+ ( A_{base,bath,0} \\times \\nu_{C,0} + A_{base,bath,90} \\times \\nu_{C,90} + A_{base,bath,180} \\times \\nu_{C,180} + A_{base,bath,270} \\times \\nu_{C,270} ) \\times \\eta_{C,base,bath} \\\\\n",
    "        &+ ( A_{base,other,0} \\times \\nu_{C,0} + A_{base,other,90} \\times \\nu_{C,90} + A_{base,other,180} \\times \\nu_{C,180} + A_{base,other,270} \\times \\nu_{C,270} ) \\times \\eta_{C,base,other}\n",
    "\\end{align*}$  "
   ]
  },
  {
   "cell_type": "markdown",
   "metadata": {},
   "source": [
    "$ A $ is the area / 面積 (m<sup>2</sup>);  \n",
    "$ \\nu $ is the direction coefficient / 方位係数;  \n",
    "$ \\eta $ is the solar heat gain ratio / 日射熱取得率  \n",
    "\n",
    "subscript  \n",
    "roof : the roof / 屋根;  \n",
    "wall : the (external) wall / 壁;  \n",
    "door : the door / ドア;  \n",
    "window : the window / 窓;  \n",
    "base : the base / 基礎;  \n",
    "etrc : the entrance / 玄関部分;  \n",
    "bath : the bath / 浴室;  \n",
    "other : the part except the entrance and the bath / 玄関部分及び浴室を除く部分;  \n",
    "0,90,180,270 : the direction of 0, 90, 180 and 270 degree of clockwise from the south / 南から時計回りに0,90,180,270度の方向;  \n",
    "top : the direction of the top / 上向き方向;  \n",
    "OS,IS : the outside and inside / 室外側及び室内側;  \n",
    "H : heating season / 暖房期;  \n",
    "C : cooling season / 冷房期.  "
   ]
  },
  {
   "cell_type": "code",
   "execution_count": 13,
   "metadata": {
    "collapsed": false
   },
   "outputs": [],
   "source": [
    "def get_simple_eta_A_H(A, nuHTop, nuH, etaH):\n",
    "    # A : Area\n",
    "    #     roof, total_env : float\n",
    "    #     wall, door, window, baseEtrcOS, baseOtherOS : class 'Orientation' which has D0,D90,D180 and D270 as float\n",
    "    # nuHTop: float\n",
    "    # nuH: class 'Orientation' which has D0,D90,D180 and D270 as float\n",
    "    # etaH : eta for heating\n",
    "    #     roof, wall, door, baseEtrc, baseOther : float\n",
    "    #     window : class 'Orientation' which has D0,D90,D180 and D270 as float\n",
    "    \n",
    "    mH =   A['roof']        * nuHTop      * etaH['roof'] \\\n",
    "       + ( A['wall']        * nuH ).sum() * etaH['wall'] \\\n",
    "       + ( A['door']        * nuH ).sum() * etaH['door'] \\\n",
    "       + ( A['window']      * nuH         * etaH['window'] ).sum() \\\n",
    "       + ( A['baseEtrcOS']  * nuH ).sum() * etaH['baseEtrc'] \\\n",
    "       + ( A['baseBathOS']  * nuH ).sum() * etaH['baseBath'] \\\n",
    "       + ( A['baseOtherOS'] * nuH ).sum() * etaH['baseOther']\n",
    "\n",
    "    return float(Decimal( mH / A['total_env'] * 100 ).quantize(Decimal('0.0'), rounding = 'ROUND_DOWN'))"
   ]
  },
  {
   "cell_type": "code",
   "execution_count": 14,
   "metadata": {
    "collapsed": false
   },
   "outputs": [],
   "source": [
    "def get_simple_eta_A_C(A, nuCTop, nuC, etaC):\n",
    "    # A : Area\n",
    "    #     roof, total_env : float\n",
    "    #     wall, door, window, baseEtrcOS, baseOtherOS : class 'Orientation' which has D0,D90,D180 and D270 as float\n",
    "    # nu_C_top; float\n",
    "    # nu_C: class 'Orientation' which has D0,D90,D180 and D270 as float\n",
    "    # etaC\n",
    "    #     roof, wall, door, baseEtrc, baseOther : float\n",
    "    #     window : class 'Orientation' which has D0,D90,D180 and D270 as float\n",
    "\n",
    "    mC = A['roof']          * nuCTop      * etaC['roof'] \\\n",
    "       + ( A['wall']        * nuC ).sum() * etaC['wall'] \\\n",
    "       + ( A['door']        * nuC ).sum() * etaC['door'] \\\n",
    "       + ( A['window']      * nuC         * etaC['window'] ).sum() \\\n",
    "       + ( A['baseEtrcOS']  * nuC ).sum() * etaC['baseEtrc'] \\\n",
    "       + ( A['baseBathOS']  * nuC ).sum() * etaC['baseBath'] \\\n",
    "       + ( A['baseOtherOS'] * nuC ).sum() * etaC['baseOther']\n",
    "\n",
    "    return float(Decimal( mC / A['total_env'] * 100 ).quantize(Decimal('0.0'), rounding = 'ROUND_UP'))"
   ]
  },
  {
   "cell_type": "markdown",
   "metadata": {},
   "source": [
    "#### Example"
   ]
  },
  {
   "cell_type": "code",
   "execution_count": 15,
   "metadata": {
    "collapsed": false
   },
   "outputs": [
    {
     "data": {
      "text/plain": [
       "5.7"
      ]
     },
     "execution_count": 15,
     "metadata": {},
     "output_type": "execute_result"
    }
   ],
   "source": [
    "A = {\n",
    "    'roof'        : 50.85,\n",
    "    'wall'        : Orientation(30.47, 22.37, 47.92, 22.28),\n",
    "    'door'        : Orientation( 0.00,  1.89,  1.62,  0.00),\n",
    "    'window'      : Orientation(22.69,  2.38,  3.63,  4.37),\n",
    "    'baseEtrcOS'  : Orientation( 0.00,  0.33,  0.25,  0.00),\n",
    "    'baseBathOS'  : Orientation( 0.00,  0.91,  0.91,  0.00),\n",
    "    'baseOtherOS' : Orientation( 0.00,  0.00,  0.00,  0.00),\n",
    "    'total_env'   : 266.10\n",
    "}\n",
    "etaH = {\n",
    "    'roof'      : 0.034,\n",
    "    'wall'      : 0.034,\n",
    "    'door'      : 0.034,\n",
    "    'window'    : Orientation(0.5, 0.5, 0.5, 0.5),\n",
    "    'baseEtrc'  : 0.034,\n",
    "    'baseBath'  : 0.034,\n",
    "    'baseOther' : 0.034\n",
    "}\n",
    "get_simple_eta_A_H( A, 1.0, Orientation(0.763, 0.317, 0.325, 0.833), etaH )"
   ]
  },
  {
   "cell_type": "code",
   "execution_count": 16,
   "metadata": {
    "collapsed": false
   },
   "outputs": [
    {
     "data": {
      "text/plain": [
       "4.4"
      ]
     },
     "execution_count": 16,
     "metadata": {},
     "output_type": "execute_result"
    }
   ],
   "source": [
    "A = {\n",
    "    'roof'        : 50.85,\n",
    "    'wall'        : Orientation(30.47, 22.37, 47.92, 22.28),\n",
    "    'door'        : Orientation( 0.00,  1.89,  1.62,  0.00),\n",
    "    'window'      : Orientation(22.69,  2.38,  3.63,  4.37),\n",
    "    'baseEtrcOS'  : Orientation( 0.00,  0.33,  0.25,  0.00),\n",
    "    'baseBathOS'  : Orientation( 0.00,  0.91,  0.91,  0.00),\n",
    "    'baseOtherOS' : Orientation( 0.00,  0.00,  0.00,  0.00),\n",
    "    'total_env'   : 266.10\n",
    "}\n",
    "etaC = {\n",
    "    'roof'      : 0.034,\n",
    "    'wall'      : 0.034,\n",
    "    'door'      : 0.034,\n",
    "    'window'    : Orientation(0.5, 0.5, 0.5, 0.5),\n",
    "    'baseEtrc'  : 0.034,\n",
    "    'baseBath'  : 0.034,\n",
    "    'baseOther' : 0.034\n",
    "    \n",
    "}\n",
    "get_simple_eta_A_C( A, 1.0, Orientation(0.491, 0.427, 0.431, 0.498), etaC )"
   ]
  },
  {
   "cell_type": "markdown",
   "metadata": {},
   "source": [
    "### 3.6 Direction Coefficient / 方位係数"
   ]
  },
  {
   "cell_type": "markdown",
   "metadata": {},
   "source": [
    "Main direction is the southwest."
   ]
  },
  {
   "cell_type": "code",
   "execution_count": 17,
   "metadata": {
    "collapsed": false
   },
   "outputs": [],
   "source": [
    "def get_simple_Orientation_value_from_Direction(direction):\n",
    "    # direction: [(S,SW,W,NW,N,NE,E,SE,top,bottom)の辞書型]\n",
    "    return Orientation( direction['SW'], direction['NW'], direction['NE'], direction['SE'] )"
   ]
  },
  {
   "cell_type": "markdown",
   "metadata": {},
   "source": [
    "### 3.7 Area of Envelope parts and Perimeter Length of Earth Floor for Referenced House / 標準住戸における外皮の部位の面積及び土間床等の外周部の長さ等"
   ]
  },
  {
   "cell_type": "code",
   "execution_count": 18,
   "metadata": {
    "collapsed": true
   },
   "outputs": [],
   "source": [
    "def getSimpleAreaAndLength(houseType, bathInsType):\n",
    "    \n",
    "    ht  = { 'floor_ins' : 'f', 'base_ins' : 'b' }[houseType]\n",
    "    bit = { 'bath_floor_ins' : 'bf', 'bath_base_ins' : 'bb', 'bath_2nd_floor' : 'bf' }[bathInsType]\n",
    "    \n",
    "    area = {\n",
    "        'total_env'   : { 'f' : 266.10,\n",
    "                          'b' : 275.69 }[ht],\n",
    "        'total_floor' : 90.0,\n",
    "        'roof'        : 50.85,\n",
    "        'wall'        : Orientation( 30.47, 22.37, 47.92, 22.28 ),\n",
    "        'door'        : Orientation(  0.00,  1.89,  1.62,  0.00 ),\n",
    "        'window'      : Orientation( 22.69,  2.38,  3.63,  4.37 ),\n",
    "        'floorBath'   : { 'f' : { 'bf' : 3.31, 'bb' : 0.00 }[bit],\n",
    "                          'b' : 0.00 }[ht],\n",
    "        'floorOther'  : { 'f' : 45.05,\n",
    "                          'b' : 0.00 }[ht],\n",
    "        'baseEtrcOS'  : Orientation(  0.00,  0.33,  0.25,  0.00 ),\n",
    "        'baseEtrcIS'  : { 'f' : 0.57,\n",
    "                          'b' : 0.00 }[ht],\n",
    "        'baseBathOS'  : { 'f' : { 'bf' : Orientation( 0.00, 0.00, 0.00, 0.00 ), 'bb' : Orientation(  0.00,  0.91,  0.91,  0.00 ) }[bit],\n",
    "                          'b' : Orientation(  0.00,  0.91,  0.91,  0.00 ) }[ht],\n",
    "        'baseBathIS'  : { 'f' : { 'bf' : 0.00, 'bb' : 1.82 }[bit],\n",
    "                          'b' : 0.00 }[ht],\n",
    "        'baseOtherOS' : { 'f' : Orientation(  0.00,  0.00,  0.00,  0.00 ),\n",
    "                          'b' : Orientation(  5.30,  0.57,  3.71,  2.40 ) }[ht],\n",
    "        'baseOtherIS' : 0.00\n",
    "    }\n",
    "    \n",
    "    length = {\n",
    "        'prmEtrcOS'  : Orientation(  0.00,  1.82,  1.37,  0.00 ),\n",
    "        'prmEtrcIS'  : { 'f' : 3.19, 'b' : 0.00 }[ht],\n",
    "        'prmBathOS'  : Orientation(  0.00,  1.82,  1.82,  0.00 ),\n",
    "        'prmBathIS'  : { 'f' : 3.64, 'b' : 0.00 }[ht],\n",
    "        'prmOtherOS' : { 'f' : Orientation(  0.00,  0.00,  0.00,  0.00 ), 'b' : Orientation( 10.61,  1.15,  7.42,  4.79 ) }[ht],\n",
    "        'prmOtherIS' : 0.00\n",
    "    }\n",
    "    \n",
    "    return ( area, length )"
   ]
  },
  {
   "cell_type": "markdown",
   "metadata": {},
   "source": [
    "#### Example"
   ]
  },
  {
   "cell_type": "code",
   "execution_count": 19,
   "metadata": {
    "collapsed": false
   },
   "outputs": [
    {
     "data": {
      "text/plain": [
       "266.1"
      ]
     },
     "execution_count": 19,
     "metadata": {},
     "output_type": "execute_result"
    }
   ],
   "source": [
    "area, length = getSimpleAreaAndLength( houseType = 'floor_ins' , bathInsType = 'bath_floor_ins' )\n",
    "area['total_env']"
   ]
  },
  {
   "cell_type": "markdown",
   "metadata": {},
   "source": [
    "### 3.8 Judgement of Applyment of Floor Insulated House or Base Insulated House for Evaluation / 床断熱住宅か基礎断熱住宅の判断"
   ]
  },
  {
   "cell_type": "markdown",
   "metadata": {},
   "source": [
    "When the house is 'floor_and_base_ins' house, decide which 'floor_ins' house or 'base_ins' house is applyed for this simple evaluation base on the UA value. The house which has the larger UA shall be applied. "
   ]
  },
  {
   "cell_type": "code",
   "execution_count": 20,
   "metadata": {
    "collapsed": true
   },
   "outputs": [],
   "source": [
    "def judge_simple_house_type(floor_ins_U_A, base_ins_U_A):\n",
    "    return (floor_ins_U_A, 'floor_ins') if floor_ins_U_A > base_ins_U_A else (base_ins_U_A, 'base_ins')"
   ]
  },
  {
   "cell_type": "markdown",
   "metadata": {},
   "source": [
    "#### Example"
   ]
  },
  {
   "cell_type": "markdown",
   "metadata": {},
   "source": [
    "The case that UA of the floor insulated house is larger."
   ]
  },
  {
   "cell_type": "code",
   "execution_count": 21,
   "metadata": {
    "collapsed": false
   },
   "outputs": [
    {
     "data": {
      "text/plain": [
       "(2.2, 'floor_ins')"
      ]
     },
     "execution_count": 21,
     "metadata": {},
     "output_type": "execute_result"
    }
   ],
   "source": [
    "judge_simple_house_type(2.2, 1.1)"
   ]
  },
  {
   "cell_type": "markdown",
   "metadata": {},
   "source": [
    "The case that UA of the base insulated house is larger."
   ]
  },
  {
   "cell_type": "code",
   "execution_count": 22,
   "metadata": {
    "collapsed": false
   },
   "outputs": [
    {
     "data": {
      "text/plain": [
       "(2.2, 'base_ins')"
      ]
     },
     "execution_count": 22,
     "metadata": {},
     "output_type": "execute_result"
    }
   ],
   "source": [
    "judge_simple_house_type(1.1, 2.2)"
   ]
  },
  {
   "cell_type": "markdown",
   "metadata": {},
   "source": [
    "### 3.9 Temperature Difference Coefficient / 外皮の部位及び土間床等の周辺部の温度差係数"
   ]
  },
  {
   "cell_type": "markdown",
   "metadata": {},
   "source": [
    "| part | H |\n",
    "| --- | --- |\n",
    "| roof | 1.0 |\n",
    "| wall | 1.0 |\n",
    "| door | 1.0 |\n",
    "| window | 1.0 |\n",
    "| floor | 1.0 |\n",
    "| basement to Outdoor Side | 1.0 |\n",
    "| basement to Internal Side | 1.0 |\n",
    "| perimeter to Outdoor Side | 1.0 |\n",
    "| perimeter to Internal Side | 1.0 |\n"
   ]
  },
  {
   "cell_type": "code",
   "execution_count": 23,
   "metadata": {
    "collapsed": true
   },
   "outputs": [],
   "source": [
    "def getSimpleHValue():\n",
    "    return {\n",
    "        'roof'    : 1.0,\n",
    "        'wall'    : 1.0,\n",
    "        'door'    : 1.0,\n",
    "        'window'  : 1.0,\n",
    "        'floor'   : 0.7,\n",
    "        'baseOS' : 1.0,\n",
    "        'baseIS' : 0.7,\n",
    "        'prmOS'  : 1.0,\n",
    "        'prmIS'  : 0.7\n",
    "    }"
   ]
  },
  {
   "cell_type": "markdown",
   "metadata": {},
   "source": [
    "### 3.10 Linear Thermal Transmittance Rate of Perimeter of Earth Floor / 土間床外周部の線熱貫流率"
   ]
  },
  {
   "cell_type": "markdown",
   "metadata": {},
   "source": [
    "The defalut value is 1.8 (W/mK)"
   ]
  },
  {
   "cell_type": "code",
   "execution_count": 24,
   "metadata": {
    "collapsed": true
   },
   "outputs": [],
   "source": [
    "def setPsiPerimeter(psi):\n",
    "    if psi['useDefault'] == 'yes':\n",
    "        psi['prmEtrc'] = 1.8\n",
    "        psi['prmOther']    = 1.8\n",
    "    return psi"
   ]
  },
  {
   "cell_type": "markdown",
   "metadata": {},
   "source": [
    "### 3.11 Solar Heat Gain Ratio of Envelope Parts except for Windows / 外皮の部位(窓を除く)の日射熱取得率"
   ]
  },
  {
   "cell_type": "markdown",
   "metadata": {},
   "source": [
    "$ \\eta_{H,roof} = 0.034 \\times U_{roof} \\times \\gamma_H $  \n",
    "$ \\eta_{C,roof} = 0.034 \\times U_{roof} \\times \\gamma_C $  \n",
    "$ \\eta_{H,wall} = 0.034 \\times U_{wall} \\times \\gamma_H $  \n",
    "$ \\eta_{C,wall} = 0.034 \\times U_{wall} \\times \\gamma_C $  \n",
    "$ \\eta_{H,door} = 0.034 \\times U_{door} \\times \\gamma_H $  \n",
    "$ \\eta_{C,door} = 0.034 \\times U_{door} \\times \\gamma_C $  \n",
    "$ \\eta_{H,base,O} = 0.034 \\times U_{base,O} \\times \\gamma_H $  \n",
    "$ \\eta_{C,base,O} = 0.034 \\times U_{base,O} \\times \\gamma_C $  \n",
    "$ \\eta_{H,base,e} = 0.034 \\times U_{base,e} \\times \\gamma_H $  \n",
    "$ \\eta_{C,base,e} = 0.034 \\times U_{base,e} \\times \\gamma_C $  \n"
   ]
  },
  {
   "cell_type": "markdown",
   "metadata": {},
   "source": [
    "$ \\eta $ is the solar heat gain ratio / 日射熱取得率  \n",
    "$ U $ is the thermal transmittance rate / 熱貫流率 (W/m<sup>2</sup>K);  \n",
    "\n",
    "subscript  \n",
    "roof : the roof / 屋根;  \n",
    "wall : the (external) wall / 壁;  \n",
    "door : the door / ドア;  \n",
    "base : the base / 基礎;  \n",
    "H : heating season / 暖房期;  \n",
    "C : cooling season / 冷房期.  \n",
    "b : the bath / 浴室;  \n",
    "e : the entrance / 玄関部分;  \n",
    "o : the part except the entrance and the bath / 玄関部分及び浴室を除く部分;  "
   ]
  },
  {
   "cell_type": "code",
   "execution_count": 25,
   "metadata": {
    "collapsed": false
   },
   "outputs": [],
   "source": [
    "def get_simple_eta_not_window(U_part):\n",
    "    gamma_H = 1.0 # 暖房期の日除けの効果係数\n",
    "    gamma_C = 1.0 # 冷房期の日除けの効果係数\n",
    "    return ( 0.034 * U_part * gamma_H, 0.034 * U_part * gamma_C)"
   ]
  },
  {
   "cell_type": "markdown",
   "metadata": {},
   "source": [
    "#### Example"
   ]
  },
  {
   "cell_type": "markdown",
   "metadata": {},
   "source": [
    "$U$ = 1.0"
   ]
  },
  {
   "cell_type": "code",
   "execution_count": 26,
   "metadata": {
    "collapsed": false
   },
   "outputs": [
    {
     "data": {
      "text/plain": [
       "(0.034, 0.034)"
      ]
     },
     "execution_count": 26,
     "metadata": {},
     "output_type": "execute_result"
    }
   ],
   "source": [
    "get_simple_eta_not_window(1.0)"
   ]
  },
  {
   "cell_type": "markdown",
   "metadata": {},
   "source": [
    "### 3.12 Solar Heat Gain Ratio of Windows / 窓の日射熱取得率"
   ]
  },
  {
   "cell_type": "markdown",
   "metadata": {},
   "source": [
    "#### Heating Season"
   ]
  },
  {
   "cell_type": "markdown",
   "metadata": {},
   "source": [
    "$ \\eta_{H,window,0} = \\eta_{d,H} \\times f_{H,0} $  \n",
    "$ \\eta_{H,window,90} = \\eta_{d,H} \\times f_{H,90} $  \n",
    "$ \\eta_{H,window,180} = \\eta_{d,H} \\times f_{H,180} $  \n",
    "$ \\eta_{H,window,270} = \\eta_{d,H} \\times f_{H,270} $  "
   ]
  },
  {
   "cell_type": "markdown",
   "metadata": {},
   "source": [
    "$ \\eta_{H,window} $ is the solar heat gain ratio of the windows in heating season / 暖房期の窓の日射熱取得率  \n",
    "$ \\eta_d $ is the solar heat gain ratio of the windows for prependicular solar direction / 垂直面日射熱取得率  \n",
    "$ f_H $ is the correction factor for the solar heat gain of the windows in heating season / 暖房期の窓の取得日射熱補正係数\n",
    "\n",
    "subscript  \n",
    "0,90,180,270 : the direction of 0, 90, 180 and 270 degree of clockwise from the south / 南から時計回りに0,90,180,270度の方向;  "
   ]
  },
  {
   "cell_type": "markdown",
   "metadata": {},
   "source": [
    "In case of using the default value for $f_H$, $f_H$ shall be calculated in the condition that $l_1 = 0$, $l_2 = 1 \\div 0.3$, the glass type is 'Type7' for the each direction of the southwest, the northwest, the northeast and the southeast in each region. "
   ]
  },
  {
   "cell_type": "code",
   "execution_count": 27,
   "metadata": {
    "collapsed": true
   },
   "outputs": [],
   "source": [
    "def get_f_H_default(region):\n",
    "    my_round = lambda x: (x * 1000 * 2 + 1) // 2 / 1000\n",
    "    v = f1f2Value()\n",
    "    return Orientation(\n",
    "        my_round( v.getValue(glassType = 'Type7', season = 'Heating', region = region, direction = 'SW', lValue = 1/0.3) ),\n",
    "        my_round( v.getValue(glassType = 'Type7', season = 'Heating', region = region, direction = 'NW', lValue = 1/0.3) ),\n",
    "        my_round( v.getValue(glassType = 'Type7', season = 'Heating', region = region, direction = 'NE', lValue = 1/0.3) ),\n",
    "        my_round( v.getValue(glassType = 'Type7', season = 'Heating', region = region, direction = 'SE', lValue = 1/0.3) )\n",
    "    )"
   ]
  },
  {
   "cell_type": "markdown",
   "metadata": {},
   "source": [
    "f_H value in each regions."
   ]
  },
  {
   "cell_type": "code",
   "execution_count": 28,
   "metadata": {
    "collapsed": false
   },
   "outputs": [
    {
     "name": "stdout",
     "output_type": "stream",
     "text": [
      "region1: {'D0': 0.658, 'D90': 0.605, 'D180': 0.602, 'D270': 0.665}\n",
      "region2: {'D0': 0.648, 'D90': 0.604, 'D180': 0.605, 'D270': 0.656}\n",
      "region3: {'D0': 0.65, 'D90': 0.602, 'D180': 0.602, 'D270': 0.649}\n",
      "region4: {'D0': 0.642, 'D90': 0.595, 'D180': 0.598, 'D270': 0.642}\n",
      "region5: {'D0': 0.667, 'D90': 0.595, 'D180': 0.592, 'D270': 0.671}\n",
      "region6: {'D0': 0.654, 'D90': 0.595, 'D180': 0.589, 'D270': 0.675}\n",
      "region7: {'D0': 0.67, 'D90': 0.589, 'D180': 0.587, 'D270': 0.666}\n"
     ]
    }
   ],
   "source": [
    "for r in ['region1','region2','region3','region4','region5','region6','region7']:\n",
    "    print( str(r) + ': ' + str(vars(get_f_H_default(r)) ))"
   ]
  },
  {
   "cell_type": "code",
   "execution_count": 29,
   "metadata": {
    "collapsed": false
   },
   "outputs": [],
   "source": [
    "def get_simple_eta_H_window(eta_d_H, f_H, is_f_value_default, region):\n",
    "    if is_f_value_default == True :\n",
    "        default_f_H = get_f_H_default(region)\n",
    "        return Orientation(eta_d_H * default_f_H.D0, eta_d_H * default_f_H.D90, eta_d_H * default_f_H.D180, eta_d_H * default_f_H.D270)\n",
    "    else:\n",
    "        return Orientation(eta_d_H * f_H, eta_d_H * f_H, eta_d_H * f_H, eta_d_H * f_H)"
   ]
  },
  {
   "cell_type": "markdown",
   "metadata": {},
   "source": [
    "#### Example"
   ]
  },
  {
   "cell_type": "markdown",
   "metadata": {},
   "source": [
    "Use default value for f_H"
   ]
  },
  {
   "cell_type": "code",
   "execution_count": 30,
   "metadata": {
    "collapsed": false
   },
   "outputs": [
    {
     "data": {
      "text/plain": [
       "{'D0': 0.327, 'D180': 0.2945, 'D270': 0.3375, 'D90': 0.2975}"
      ]
     },
     "execution_count": 30,
     "metadata": {},
     "output_type": "execute_result"
    }
   ],
   "source": [
    "vars(get_simple_eta_H_window(0.5, 0.7, True, 'region6'))"
   ]
  },
  {
   "cell_type": "markdown",
   "metadata": {},
   "source": [
    "Not use default value for f_H"
   ]
  },
  {
   "cell_type": "code",
   "execution_count": 31,
   "metadata": {
    "collapsed": false
   },
   "outputs": [
    {
     "data": {
      "text/plain": [
       "{'D0': 0.35, 'D180': 0.35, 'D270': 0.35, 'D90': 0.35}"
      ]
     },
     "execution_count": 31,
     "metadata": {},
     "output_type": "execute_result"
    }
   ],
   "source": [
    "vars(get_simple_eta_H_window(0.5, 0.7, False, 'region6'))"
   ]
  },
  {
   "cell_type": "markdown",
   "metadata": {},
   "source": [
    "#### Cooling Season"
   ]
  },
  {
   "cell_type": "markdown",
   "metadata": {},
   "source": [
    "$ \\eta_{C,window,0} = \\eta_{d,C} \\times f_{C,0} $  \n",
    "$ \\eta_{C,window,90} = \\eta_{d,C} \\times f_{C,90} $  \n",
    "$ \\eta_{C,window,180} = \\eta_{d,C} \\times f_{C,180} $  \n",
    "$ \\eta_{C,window,270} = \\eta_{d,C} \\times f_{C,270} $  "
   ]
  },
  {
   "cell_type": "markdown",
   "metadata": {},
   "source": [
    "$ \\eta_{C,window} $ is the solar heat gain ratio of the windows in cooling season / 冷房期の窓の日射熱取得率  \n",
    "$ \\eta_d $ is the solar heat gain ratio of the windows for prependicular solar direction / 垂直面日射熱取得率  \n",
    "$ f_C $ is the correction factor for the solar heat gain of the windows in cooling season / 冷房期の窓の取得日射熱補正係数\n",
    "\n",
    "subscript  \n",
    "0,90,180,270 : the direction of 0, 90, 180 and 270 degree of clockwise from the south / 南から時計回りに0,90,180,270度の方向;  "
   ]
  },
  {
   "cell_type": "markdown",
   "metadata": {},
   "source": [
    "In case of using the default value for $f_C$, $f_C$ shall be calculated in the condition that $l = 20$, the glass type is 'Type1' for the each direction of the southwest, the northwest, the northeast and the southeast in each region. "
   ]
  },
  {
   "cell_type": "code",
   "execution_count": 32,
   "metadata": {
    "collapsed": true
   },
   "outputs": [],
   "source": [
    "def get_f_C_default(region):\n",
    "    my_round = lambda x: (x * 1000 * 2 + 1) // 2 / 1000\n",
    "    v = f1f2Value()\n",
    "    return Orientation(\n",
    "        my_round( v.getValue(glassType = 'Type1', season = 'Cooling', region = region, direction = 'SW', lValue = 20.0) ),\n",
    "        my_round( v.getValue(glassType = 'Type1', season = 'Cooling', region = region, direction = 'NW', lValue = 20.0) ),\n",
    "        my_round( v.getValue(glassType = 'Type1', season = 'Cooling', region = region, direction = 'NE', lValue = 20.0) ),\n",
    "        my_round( v.getValue(glassType = 'Type1', season = 'Cooling', region = region, direction = 'SE', lValue = 20.0) ),\n",
    "    )"
   ]
  },
  {
   "cell_type": "markdown",
   "metadata": {},
   "source": [
    "f_C value in each regions."
   ]
  },
  {
   "cell_type": "code",
   "execution_count": 33,
   "metadata": {
    "collapsed": false
   },
   "outputs": [
    {
     "name": "stdout",
     "output_type": "stream",
     "text": [
      "region1: {'D0': 0.86, 'D90': 0.866, 'D180': 0.865, 'D270': 0.864}\n",
      "region2: {'D0': 0.861, 'D90': 0.864, 'D180': 0.864, 'D270': 0.858}\n",
      "region3: {'D0': 0.859, 'D90': 0.865, 'D180': 0.862, 'D270': 0.853}\n",
      "region4: {'D0': 0.85, 'D90': 0.861, 'D180': 0.861, 'D270': 0.853}\n",
      "region5: {'D0': 0.858, 'D90': 0.862, 'D180': 0.863, 'D270': 0.854}\n",
      "region6: {'D0': 0.852, 'D90': 0.864, 'D180': 0.862, 'D270': 0.852}\n",
      "region7: {'D0': 0.847, 'D90': 0.862, 'D180': 0.861, 'D270': 0.849}\n",
      "region8: {'D0': 0.858, 'D90': 0.859, 'D180': 0.857, 'D270': 0.86}\n"
     ]
    }
   ],
   "source": [
    "for r in ['region1','region2','region3','region4','region5','region6','region7','region8']:\n",
    "    print( str(r) + ': ' + str(vars(get_f_C_default(r))) )"
   ]
  },
  {
   "cell_type": "code",
   "execution_count": 34,
   "metadata": {
    "collapsed": true
   },
   "outputs": [],
   "source": [
    "def get_simple_eta_C_window(eta_d_C, f_C, is_f_value_default, region):\n",
    "    if is_f_value_default == True :\n",
    "        default_f_C = get_f_C_default(region)\n",
    "        return Orientation(eta_d_C * default_f_C.D0, eta_d_C * default_f_C.D90, eta_d_C * default_f_C.D180, eta_d_C * default_f_C.D270)\n",
    "    else:\n",
    "        return Orientation(eta_d_C * f_C, eta_d_C * f_C, eta_d_C * f_C, eta_d_C * f_C)"
   ]
  },
  {
   "cell_type": "markdown",
   "metadata": {},
   "source": [
    "#### Example"
   ]
  },
  {
   "cell_type": "markdown",
   "metadata": {},
   "source": [
    "Use default value for f_C"
   ]
  },
  {
   "cell_type": "code",
   "execution_count": 35,
   "metadata": {
    "collapsed": false
   },
   "outputs": [
    {
     "data": {
      "text/plain": [
       "{'D0': 0.5112, 'D180': 0.5172, 'D270': 0.5112, 'D90': 0.5184}"
      ]
     },
     "execution_count": 35,
     "metadata": {},
     "output_type": "execute_result"
    }
   ],
   "source": [
    "vars(get_simple_eta_C_window(0.6, 1.0, True, 'region6'))"
   ]
  },
  {
   "cell_type": "markdown",
   "metadata": {},
   "source": [
    "Not use default value for f_C"
   ]
  },
  {
   "cell_type": "code",
   "execution_count": 36,
   "metadata": {
    "collapsed": false
   },
   "outputs": [
    {
     "data": {
      "text/plain": [
       "{'D0': 0.6, 'D180': 0.6, 'D270': 0.6, 'D90': 0.6}"
      ]
     },
     "execution_count": 36,
     "metadata": {},
     "output_type": "execute_result"
    }
   ],
   "source": [
    "vars(get_simple_eta_C_window(0.6, 1.0, False, 'region6'))"
   ]
  },
  {
   "cell_type": "markdown",
   "metadata": {},
   "source": [
    "#### Comment"
   ]
  },
  {
   "cell_type": "markdown",
   "metadata": {},
   "source": [
    "①窓の暖房期の日射熱取得率($\\eta_{H,wnd,SW}$・$\\eta_{H,wnd,NW}$・$\\eta_{H,wnd,NE}$・$\\eta_{H,wnd,SE}$)  \n",
    "窓の暖房期の日射熱取得率$\\eta_{H,wnd,SW}$・$\\eta_{H,wnd,NW}$・$\\eta_{H,wnd,NE}$・$\\eta_{H,wnd,SE}$は、当該住戸の窓の垂直面日射熱取得率を用いて第3章第4節「外皮の日射熱取得」に定める方法により計算した値とする。各部位で複数の異なる仕様を有する場合は、垂直面日射熱取得率が最も小さい部位の垂直面日射熱取得率の値とする。その際、暖房期の取得日射量補正係数$f_H$は、当該住戸で最も小さい値を用いるか、又は、ガラス区分を7、$l_1=0$、$l_2=1⁄0.3$として、地域の区分に応じて、南西、北西、北東及び南東の値を第3章第4節「外皮の日射熱取得」に定める方法により計算した値とする。ただし、窓の面積（当該窓が二以上の場合においては、その合計の面積。）が単位住戸の床面積に0.04を乗じた数値以下となるものを除くことができる。  \n",
    "\n",
    "$\\begin{align}l_1 = \\frac{y_1}{z}\\end{align}$  \n",
    "\n",
    "$\\begin{align}l_2 = \\frac{(y_1+y_2)}{z}\\end{align}$  \n",
    "\n",
    "ここで、$l_1=0$から、$y_1=0.0$であり、$y_2=1.0$とすると$z=0.3$となる。  \n",
    "\n",
    "$\\begin{align}f &= \\frac{ ( f_2 \\times ( y_1 + y_2 ) － f_1 \\times y_1 ) }{ y_2 } \\\\\n",
    "                &= f_2 \\end{align}$  \n",
    "\n",
    "となる。"
   ]
  },
  {
   "cell_type": "markdown",
   "metadata": {},
   "source": [
    "### 3.13 Direction Coefficient / 方位係数"
   ]
  },
  {
   "cell_type": "markdown",
   "metadata": {},
   "source": [
    "#### Example"
   ]
  },
  {
   "cell_type": "code",
   "execution_count": 37,
   "metadata": {
    "collapsed": false
   },
   "outputs": [
    {
     "data": {
      "text/plain": [
       "0.564"
      ]
     },
     "execution_count": 37,
     "metadata": {},
     "output_type": "execute_result"
    }
   ],
   "source": [
    "DC_get_nu_H('region1')['E']"
   ]
  },
  {
   "cell_type": "code",
   "execution_count": 38,
   "metadata": {
    "collapsed": false
   },
   "outputs": [
    {
     "data": {
      "text/plain": [
       "0.545"
      ]
     },
     "execution_count": 38,
     "metadata": {},
     "output_type": "execute_result"
    }
   ],
   "source": [
    "DC_get_nu_C('region1')['E']"
   ]
  },
  {
   "cell_type": "markdown",
   "metadata": {},
   "source": [
    "## 4. Integration"
   ]
  },
  {
   "cell_type": "markdown",
   "metadata": {},
   "source": [
    "### 4.1 Input Data"
   ]
  },
  {
   "cell_type": "markdown",
   "metadata": {},
   "source": [
    "````\n",
    "spec = {\n",
    "    'house_type' : 'base_ins', # 'floor_ins', 'base_ins' or 'floor_and_base_ins'\n",
    "    'region'     : 'region6',  # 'region1', 'region2', ..., 'region8'\n",
    "    'U' : {\n",
    "        'roof'       : 0.240, # U value of roof (W/m2K)\n",
    "        'wall'       : 0.530, # U value of wall (W/m2K)\n",
    "        'door'       : 2.330, # U value of door (W/m2K)\n",
    "        'window'     : 3.490, # U value of window (W/m2K)\n",
    "        'floorBath'  : 0.480, # U value of floor of bathroom (W/m2K)\n",
    "        'floorOther' : 0.480, # U value of floor of other part (W/m2K)\n",
    "        'baseEtrc'   : 0.000, # U value of base of entrance (W/m2K)\n",
    "        'baseBath'   : 0.000, # U value of base of bathroom (W/m2K)\n",
    "        'baseOther'  : 0.000, # U value of base of other part (W/m2K)\n",
    "    },\n",
    "    'psi' : {\n",
    "        'useDefault' : 'yes', # 'yes' or 'no', which are defalut 'prmEtrc' and 'prmOther' used or not.\n",
    "        'prmEtrc'    : 1.8,   # psi value of perimeter of entrance (W/mK), which is not used in case that 'useDefault' is 'yes'.\n",
    "        'prmBath'    : 1.8,   # psi value of perimeter of bathroom (W/mK), which is not used in case that 'useDefault' is 'yes'.\n",
    "        'prmOther'   : 1.8,   # psi value of perimeter of other part (W/mK), which is not used in case that 'useDefault' is 'yes'.\n",
    "    },\n",
    "    'eta_d' : {\n",
    "        'heating' : 0.510, # eta d value in heating season\n",
    "        'cooling' : 0.510  # eta d value in cooling season\n",
    "    },\n",
    "    'fValue' : {\n",
    "        'useDefault' : 'yes', # 'yes' or 'no'  which is default f-value used or not \n",
    "        'heating'    : 1.0,   # f-value in heating season, which is not used in case that 'useDefault' is 'yes'\n",
    "        'cooling'    : 1.0    # f-value in cooling season, which is not used in case that 'useDefault' is 'yes'\n",
    "    }\n",
    "}\n",
    "````"
   ]
  },
  {
   "cell_type": "markdown",
   "metadata": {},
   "source": [
    "### 4.2 Function"
   ]
  },
  {
   "cell_type": "code",
   "execution_count": 39,
   "metadata": {
    "collapsed": false
   },
   "outputs": [],
   "source": [
    "def simpleEnvPerformanceSelected(spec):\n",
    "\n",
    "    def get_U_A_provisional(house_type, U, psi):\n",
    "        A, L = getSimpleAreaAndLength(house_type)\n",
    "        H = getSimpleHValue()\n",
    "        return get_simple_U_A ( A = A, L = L, H = H, U = U, psi = psi )\n",
    "    \n",
    "    is_f_value_default = { 'yes' : True, 'no' : False }[spec['fValue']['useDefault']]\n",
    "    \n",
    "    spec['psi'] = setPsiPerimeter(spec['psi'])\n",
    "    \n",
    "    # U_A in case of both of floor insulated house and base insulated house\n",
    "    U_A_floor_ins = get_U_A_provisional('floor_ins', spec['U'], spec['psi'])\n",
    "    U_A_base_ins  = get_U_A_provisional('base_ins' , spec['U'], spec['psi'])\n",
    "\n",
    "    # decide whether the floor insulated house or the base insulated house is applied for the evaluation,\n",
    "    # when the actual house is the floor and base insulated house\n",
    "    U_A, house_type_on_calc = {\n",
    "        'floor_ins' : ( U_A_floor_ins, 'floor_ins' ),\n",
    "        'base_ins'  : ( U_A_base_ins,  'base_ins'  ),\n",
    "        'floor_and_base_ins' : judge_simple_house_type(U_A_floor_ins, U_A_base_ins)\n",
    "    }[spec['house_type']]\n",
    "    \n",
    "    # area and length\n",
    "    A, L = getSimpleAreaAndLength(house_type_on_calc)\n",
    "\n",
    "    # eta in heating and cooling season\n",
    "    etaH = {}\n",
    "    etaC = {}\n",
    "    etaH['roof'],      etaC['roof']      = get_simple_eta_not_window(spec['U']['roof'])\n",
    "    etaH['wall'],      etaC['wall']      = get_simple_eta_not_window(spec['U']['wall'])\n",
    "    etaH['door'],      etaC['door']      = get_simple_eta_not_window(spec['U']['door'])\n",
    "    etaH['baseEtrc'],  etaC['baseEtrc']  = get_simple_eta_not_window(spec['U']['baseEtrc'])\n",
    "    etaH['baseBath'],  etaC['baseBath']  = get_simple_eta_not_window(spec['U']['baseBath'])\n",
    "    etaH['baseOther'], etaC['baseOther'] = get_simple_eta_not_window(spec['U']['baseOther'])\n",
    "\n",
    "    # r_env\n",
    "    r_env = get_r_env(A['total_env'], A['total_floor'])\n",
    "\n",
    "    # Q'\n",
    "    Q_dash = get_Q_dash( float(U_A), r_env )\n",
    "\n",
    "    # --- heating season ---\n",
    "    if spec['region'] == 'region8':\n",
    "        eta_A_H = 'ND'\n",
    "        mu_H    = 'ND'\n",
    "    else:\n",
    "        # eta for windows\n",
    "        etaH['window'] = get_simple_eta_H_window(spec['eta_d']['heating'], spec['fValue']['heating'], is_f_value_default, spec['region'])\n",
    "        # nu\n",
    "        nuH = DC_get_nu_H(spec['region'])\n",
    "        nuTopH, nuHorizontalH = ( nuH['top'], get_simple_Orientation_value_from_Direction(nuH) )\n",
    "        # eta_A\n",
    "        eta_A_H = get_simple_eta_A_H( A, nuTopH, nuHorizontalH, etaH )\n",
    "        # mu\n",
    "        mu_H = get_mu_H(float(eta_A_H), r_env)\n",
    "    \n",
    "    # --- cooling season ---\n",
    "    # eta for windows\n",
    "    etaC['window'] = get_simple_eta_C_window(spec['eta_d']['cooling'], spec['fValue']['cooling'], is_f_value_default, spec['region'])\n",
    "    # nu\n",
    "    nuC = DC_get_nu_C(spec['region'])\n",
    "    nuTopC, nuHorizontalC = ( nuC['top'], get_simple_Orientation_value_from_Direction(nuC) )\n",
    "    # eta_A\n",
    "    eta_A_C = get_simple_eta_A_C( A, nuTopC, nuHorizontalC, etaC )\n",
    "    # mu\n",
    "    mu_C = get_mu_C(float(eta_A_C), r_env)\n",
    "\n",
    "    return {\n",
    "        'UA' : U_A,\n",
    "        'etaAH' : eta_A_H,\n",
    "        'etaAC' : eta_A_C,\n",
    "        'Qdash' : Q_dash,\n",
    "        'muH'   : mu_H,\n",
    "        'muC'   : mu_C\n",
    "    }"
   ]
  },
  {
   "cell_type": "markdown",
   "metadata": {},
   "source": [
    "#### Example"
   ]
  },
  {
   "cell_type": "code",
   "execution_count": 40,
   "metadata": {
    "collapsed": false
   },
   "outputs": [],
   "source": [
    "spec = {\n",
    "    'house_type' : 'base_ins',\n",
    "    'region'     : 'region6',\n",
    "    'U' : {\n",
    "        'roof'       : 0.240,\n",
    "        'wall'       : 0.530,\n",
    "        'door'       : 2.330,\n",
    "        'window'     : 3.490,\n",
    "        'floorBath'  : 0.000,\n",
    "        'floorOther' : 0.480,\n",
    "        'baseEtrc'   : 0.000,\n",
    "        'baseBath'   : 0.000,\n",
    "        'baseOther'  : 0.000\n",
    "    },\n",
    "    'psi' : {\n",
    "        'useDefault' : 'yes',\n",
    "        'prmEtrc'    : 1.8,\n",
    "        'prmBath'    : 1.8,\n",
    "        'prmOther'   : 1.8\n",
    "    },\n",
    "    'eta_d' : {\n",
    "        'heating' : 0.510, # eta d value in heating season\n",
    "        'cooling' : 0.510  # eta d value in cooling season\n",
    "    },\n",
    "    'fValue' : {\n",
    "        'useDefault' : 'yes', # 'yes' or 'no'  which is default f-value used or not \n",
    "        'heating'    : 1.0,   # f-value in heating season, which is not used in case that 'UseDefault' is 'yes'\n",
    "        'cooling'    : 1.0    # f-value in cooling season, which is not used in case that 'UseDefault' is 'yes'\n",
    "    }\n",
    "}"
   ]
  },
  {
   "cell_type": "code",
   "execution_count": 41,
   "metadata": {
    "collapsed": false,
    "scrolled": true
   },
   "outputs": [
    {
     "ename": "TypeError",
     "evalue": "getSimpleAreaAndLength() missing 1 required positional argument: 'bathInsType'",
     "output_type": "error",
     "traceback": [
      "\u001b[0;31m---------------------------------------------------------------------------\u001b[0m",
      "\u001b[0;31mTypeError\u001b[0m                                 Traceback (most recent call last)",
      "\u001b[0;32m<ipython-input-41-4d261e586158>\u001b[0m in \u001b[0;36m<module>\u001b[0;34m()\u001b[0m\n\u001b[0;32m----> 1\u001b[0;31m \u001b[0msimpleEnvPerformanceSelected\u001b[0m\u001b[1;33m(\u001b[0m \u001b[0mspec\u001b[0m \u001b[1;33m=\u001b[0m \u001b[0mspec\u001b[0m \u001b[1;33m)\u001b[0m\u001b[1;33m\u001b[0m\u001b[0m\n\u001b[0m",
      "\u001b[0;32m<ipython-input-39-025794de3be5>\u001b[0m in \u001b[0;36msimpleEnvPerformanceSelected\u001b[0;34m(spec)\u001b[0m\n\u001b[1;32m     11\u001b[0m \u001b[1;33m\u001b[0m\u001b[0m\n\u001b[1;32m     12\u001b[0m     \u001b[1;31m# U_A in case of both of floor insulated house and base insulated house\u001b[0m\u001b[1;33m\u001b[0m\u001b[1;33m\u001b[0m\u001b[0m\n\u001b[0;32m---> 13\u001b[0;31m     \u001b[0mU_A_floor_ins\u001b[0m \u001b[1;33m=\u001b[0m \u001b[0mget_U_A_provisional\u001b[0m\u001b[1;33m(\u001b[0m\u001b[1;34m'floor_ins'\u001b[0m\u001b[1;33m,\u001b[0m \u001b[0mspec\u001b[0m\u001b[1;33m[\u001b[0m\u001b[1;34m'U'\u001b[0m\u001b[1;33m]\u001b[0m\u001b[1;33m,\u001b[0m \u001b[0mspec\u001b[0m\u001b[1;33m[\u001b[0m\u001b[1;34m'psi'\u001b[0m\u001b[1;33m]\u001b[0m\u001b[1;33m)\u001b[0m\u001b[1;33m\u001b[0m\u001b[0m\n\u001b[0m\u001b[1;32m     14\u001b[0m     \u001b[0mU_A_base_ins\u001b[0m  \u001b[1;33m=\u001b[0m \u001b[0mget_U_A_provisional\u001b[0m\u001b[1;33m(\u001b[0m\u001b[1;34m'base_ins'\u001b[0m \u001b[1;33m,\u001b[0m \u001b[0mspec\u001b[0m\u001b[1;33m[\u001b[0m\u001b[1;34m'U'\u001b[0m\u001b[1;33m]\u001b[0m\u001b[1;33m,\u001b[0m \u001b[0mspec\u001b[0m\u001b[1;33m[\u001b[0m\u001b[1;34m'psi'\u001b[0m\u001b[1;33m]\u001b[0m\u001b[1;33m)\u001b[0m\u001b[1;33m\u001b[0m\u001b[0m\n\u001b[1;32m     15\u001b[0m \u001b[1;33m\u001b[0m\u001b[0m\n",
      "\u001b[0;32m<ipython-input-39-025794de3be5>\u001b[0m in \u001b[0;36mget_U_A_provisional\u001b[0;34m(house_type, U, psi)\u001b[0m\n\u001b[1;32m      2\u001b[0m \u001b[1;33m\u001b[0m\u001b[0m\n\u001b[1;32m      3\u001b[0m     \u001b[1;32mdef\u001b[0m \u001b[0mget_U_A_provisional\u001b[0m\u001b[1;33m(\u001b[0m\u001b[0mhouse_type\u001b[0m\u001b[1;33m,\u001b[0m \u001b[0mU\u001b[0m\u001b[1;33m,\u001b[0m \u001b[0mpsi\u001b[0m\u001b[1;33m)\u001b[0m\u001b[1;33m:\u001b[0m\u001b[1;33m\u001b[0m\u001b[0m\n\u001b[0;32m----> 4\u001b[0;31m         \u001b[0mA\u001b[0m\u001b[1;33m,\u001b[0m \u001b[0mL\u001b[0m \u001b[1;33m=\u001b[0m \u001b[0mgetSimpleAreaAndLength\u001b[0m\u001b[1;33m(\u001b[0m\u001b[0mhouse_type\u001b[0m\u001b[1;33m)\u001b[0m\u001b[1;33m\u001b[0m\u001b[0m\n\u001b[0m\u001b[1;32m      5\u001b[0m         \u001b[0mH\u001b[0m \u001b[1;33m=\u001b[0m \u001b[0mgetSimpleHValue\u001b[0m\u001b[1;33m(\u001b[0m\u001b[1;33m)\u001b[0m\u001b[1;33m\u001b[0m\u001b[0m\n\u001b[1;32m      6\u001b[0m         \u001b[1;32mreturn\u001b[0m \u001b[0mget_simple_U_A\u001b[0m \u001b[1;33m(\u001b[0m \u001b[0mA\u001b[0m \u001b[1;33m=\u001b[0m \u001b[0mA\u001b[0m\u001b[1;33m,\u001b[0m \u001b[0mL\u001b[0m \u001b[1;33m=\u001b[0m \u001b[0mL\u001b[0m\u001b[1;33m,\u001b[0m \u001b[0mH\u001b[0m \u001b[1;33m=\u001b[0m \u001b[0mH\u001b[0m\u001b[1;33m,\u001b[0m \u001b[0mU\u001b[0m \u001b[1;33m=\u001b[0m \u001b[0mU\u001b[0m\u001b[1;33m,\u001b[0m \u001b[0mpsi\u001b[0m \u001b[1;33m=\u001b[0m \u001b[0mpsi\u001b[0m \u001b[1;33m)\u001b[0m\u001b[1;33m\u001b[0m\u001b[0m\n",
      "\u001b[0;31mTypeError\u001b[0m: getSimpleAreaAndLength() missing 1 required positional argument: 'bathInsType'"
     ]
    }
   ],
   "source": [
    "simpleEnvPerformanceSelected( spec = spec )    "
   ]
  },
  {
   "cell_type": "code",
   "execution_count": null,
   "metadata": {
    "collapsed": true
   },
   "outputs": [],
   "source": []
  }
 ],
 "metadata": {
  "kernelspec": {
   "display_name": "Python 3",
   "language": "python",
   "name": "python3"
  },
  "language_info": {
   "codemirror_mode": {
    "name": "ipython",
    "version": 3
   },
   "file_extension": ".py",
   "mimetype": "text/x-python",
   "name": "python",
   "nbconvert_exporter": "python",
   "pygments_lexer": "ipython3",
   "version": "3.6.2"
  }
 },
 "nbformat": 4,
 "nbformat_minor": 2
}
