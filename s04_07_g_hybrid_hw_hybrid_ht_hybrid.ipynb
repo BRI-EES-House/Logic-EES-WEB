{
 "cells": [
  {
   "cell_type": "code",
   "execution_count": null,
   "metadata": {},
   "outputs": [],
   "source": [
    "import numpy as np"
   ]
  },
  {
   "cell_type": "markdown",
   "metadata": {},
   "source": [
    "## 付録G　ヒートポンプ・ガス瞬間式併用型給湯温水暖房機（給湯熱源：ヒートポンプ・ガス瞬間式併用、暖房熱源：ヒートポンプ・ガス瞬間式併用）  / Appendix G Heat pump gas instantaneous type combined hot water supply hot water heater (hot water supply heat source: heat pump gas instantaneous type combined use, heating heat source: heat pump gas instantaneous type combined)"
   ]
  },
  {
   "cell_type": "markdown",
   "metadata": {},
   "source": [
    "ヒートポンプ・ガス瞬間式併用型給湯温水暖房機（給湯熱源：ヒートポンプ・ガス瞬間式併用、暖房熱源：ヒートポンプ・ガス瞬間式併用）の暖房部のエネルギー消費量は、7 章 1 節「給湯設備」に記される計算方法によるものとする。 "
   ]
  },
  {
   "cell_type": "markdown",
   "metadata": {},
   "source": [
    "The energy consumption of the heating part of heat pump and gas instantaneous type combined hot water supply hot water heater (hot water supply heat source: heat pump and gas instantaneous type combination, heating heat source: heat pump and gas instantaneous type combined) It shall be based on the calculation method described in Chapter 7 Section 1 “Hot water supply equipment”.  "
   ]
  },
  {
   "cell_type": "code",
   "execution_count": null,
   "metadata": {},
   "outputs": [],
   "source": [
    "def get_E_E_hs():\n",
    "    \"\"\" 消費電力量\n",
    "\n",
    "    :return: 消費電力量\n",
    "    :rtype: ndarray\n",
    "    \"\"\"\n",
    "    return np.zeros(24 * 365)\n",
    "\n",
    "\n",
    "def get_E_G_hs():\n",
    "    \"\"\" ガス消費量\n",
    "\n",
    "    :return: ガス消費量\n",
    "    :rtype: ndarray\n",
    "    \"\"\"\n",
    "    return np.zeros(24 * 365)\n",
    "\n",
    "\n",
    "def get_E_K_hs():\n",
    "    \"\"\" 灯油消費量\n",
    "\n",
    "    :return: 灯油消費量\n",
    "    :rtype: ndarray\n",
    "    \"\"\"\n",
    "\n",
    "    return np.zeros(24 * 365)\n",
    "\n",
    "\n",
    "def get_E_M_hs():\n",
    "    \"\"\" その他の一次エネルギー消費量\n",
    "\n",
    "    :return: その他の一次エネルギー消費量\n",
    "    :rtype: ndarray\n",
    "    \"\"\"\n",
    "    return np.zeros(24 * 365)\n"
   ]
  }
 ],
 "metadata": {
  "kernelspec": {
   "display_name": "Python 3",
   "language": "python",
   "name": "python3"
  },
  "language_info": {
   "codemirror_mode": {
    "name": "ipython",
    "version": 3
   },
   "file_extension": ".py",
   "mimetype": "text/x-python",
   "name": "python",
   "nbconvert_exporter": "python",
   "pygments_lexer": "ipython3",
   "version": "3.8.5"
  },
  "toc": {
   "base_numbering": 1,
   "nav_menu": {},
   "number_sections": false,
   "sideBar": true,
   "skip_h1_title": false,
   "title_cell": "Table of Contents",
   "title_sidebar": "Contents",
   "toc_cell": false,
   "toc_position": {},
   "toc_section_display": true,
   "toc_window_display": false
  }
 },
 "nbformat": 4,
 "nbformat_minor": 2
}
