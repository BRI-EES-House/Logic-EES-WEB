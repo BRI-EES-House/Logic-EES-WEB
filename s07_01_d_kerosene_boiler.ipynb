{
 "cells": [
  {
   "cell_type": "markdown",
   "metadata": {},
   "source": [
    "使用許諾条件\n",
    "\n",
    "①\t設計一次エネルギー消費量算定法に基づく計算方法をPythonによりコーディングし、Jupyter notebook形式で保存したファイル（以下、本ファイルと呼ぶ）の著作権は、一般社団法人日本サステナブル建築協会に帰属します。\n",
    "Copyright©2019. 一般社団法人日本サステナブル建築協会\n",
    "All rights reserved. \n",
    "\n",
    "②\t本ファイルは、住戸の設計一次エネルギー消費量算定方法に係る「平成28年省エネルギー基準に準拠したエネルギー消費性能の評価に関する技術情報（住宅）2.1算定方法（第七章第一節 給湯設備）」に示す計算方法に基づき、国土交通省国土技術政策総合研究所・国立研究開発法人建築研究所、株式会社ユーワークス、株式会社住環境計画研究所が作成したものです。\n",
    "\n",
    "③\t本ファイルは、計算方法に示す計算過程の確認及び調査研究等に活用することを目的として作成されたものであり、一般社団法人日本サステナブル建築協会は著作権について放棄はしませんが、使用する各人の自己責任において仕様を変更することを妨げるものではありません。ただし、本ファイルによる計算結果を住宅の省エネルギー基準で規定する設計一次エネルギー消費量の結果として公的な申請に用いることはできません。\n",
    "\n",
    "④\t本ファイルを変更するかしないかを問わず、以下の条件を満たす場合に限り、頒布および使用が許可されます。\n",
    "1.\t頒布物の付属ドキュメント等の資料に、上記の著作権表示、本条件一覧、および下記免責条項を含めること。\n",
    "2.\t書面による特別の許可なしに、本ファイルから派生した製品の宣伝または販売の促進に、一般社団法人日本サステナブル建築協会、国土技術政策総合研究所・国立研究開発法人建築研究所および株式会社ユーワークス、株式会社住環境計画研究所の名前またはコントリビューターの名前を使用してはならない。\n",
    "\n",
    "⑤\t本ファイルは、著作権者およびコントリビューターによって「現状のまま」提供されており、明示黙示を問わず、商業的な使用可能性、および特定の目的に対する適合性に関する暗黙の保証も含め、またそれに限定されない、いかなる保証もありません。著作権もコントリビューターも、事由のいかんを問わず、損害発生の原因いかんを問わず、かつ責任の根拠が契約であるか厳格責任であるか（過失その他の）不法行為であるかを問わず、仮にそのような損害が発生する可能性を知らされていたとしても、本ファイルの使用によって発生した（代用品または代用サービスの調達、使用の喪失、データの喪失、利益の喪失、業務の中断も含め、またそれに限定されない）直接損害、間接損害、偶発的な損害、特別損害、懲罰的損害、または結果損害について、一切の責任を負わないものとします。\n",
    "\n"
   ]
  },
  {
   "cell_type": "code",
   "execution_count": null,
   "metadata": {},
   "outputs": [],
   "source": [
    "import numpy as np"
   ]
  },
  {
   "cell_type": "markdown",
   "metadata": {},
   "source": [
    "## 付録D　石油給湯機及び石油給湯温水暖房機の給湯部  / Appendix D Water heater of oil water heater and oil water heater hot water heater"
   ]
  },
  {
   "cell_type": "markdown",
   "metadata": {},
   "source": [
    "### D.1 記号及び単位 / Symbol and unit"
   ]
  },
  {
   "cell_type": "markdown",
   "metadata": {},
   "source": [
    "省略"
   ]
  },
  {
   "cell_type": "markdown",
   "metadata": {},
   "source": [
    "Omission"
   ]
  },
  {
   "cell_type": "markdown",
   "metadata": {},
   "source": [
    "### D.2 消費電力量 / Power consumption"
   ]
  },
  {
   "cell_type": "markdown",
   "metadata": {},
   "source": [
    "$$\\large\n",
    "E_{E,hs,d,t} = E_{E,hs,aux1,d,t} + E_{E,hs,aux2,d,t} + E_{E,hs,aux3,d,t}\n",
    "$$"
   ]
  },
  {
   "cell_type": "markdown",
   "metadata": {},
   "source": [
    "$E_{E,hs,d,t}$：日付$d$の時刻$t$における 1時間当たりの給湯機の消費電力量(kWh/h) / Water heater power consumption per hour at time $ t $ on date $ d $  \n",
    "$E_{E,hs,aux1,d,t}$：日付$d$の時刻$t$における 1時間当たりの給湯機の待機時及び水栓給湯時の補機による消費電力量(kWh/h) / Power consumption by the auxiliary unit at the time of standby of the water heater and hourly water supply at the time $ t $ of date $ d $  \n",
    "$E_{E,hs,aux2,d,t}$：日付$d$の時刻$t$における 1時間当たりの給湯機の湯はり時の補機による消費電力量(kWh/h) / Power consumption by auxiliary equipment at the time of hot water heating of water heater per hour at time $ t $ of date $ d $  \n",
    "$E_{E,hs,aux3,d,t}$：日付$d$の時刻$t$における 1時間当たりの給湯機の保温時の補機による消費電力量(kWh/h) / Power consumption by auxiliary equipment at the time of hot water heater warm-up per hour at time $ t $ of date $ d $  "
   ]
  },
  {
   "cell_type": "code",
   "execution_count": null,
   "metadata": {},
   "outputs": [],
   "source": [
    "# 1時間当たりの給湯機の消費電力量 (1)\n",
    "def get_E_E_hs_d_t(W_dash_k_d_t, W_dash_s_d_t, W_dash_w_d_t, W_dash_b1_d_t, W_dash_ba1_d_t, W_dash_b2_d_t,\n",
    "                   Theta_ex_Ave_d, L_dashdash_ba2_d_t):\n",
    "    \"\"\"\n",
    "    :param W_dash_k_d_t: 1日当たりの台所水栓における節湯補正給湯量 (L/h)\n",
    "    :param W_dash_s_d_t: 1日当たりの浴室シャワー水栓における節湯補正給湯量 (L/h)\n",
    "    :param W_dash_w_d_t: 1日当たりの洗面水栓における節湯補正給湯量 (L/h)\n",
    "    :param W_dash_b1_d_t: 1日当たりの浴槽水栓湯はり時における節湯補正給湯量 (L/h)\n",
    "    :param W_dash_ba1_d_t: 1日当たりの浴槽水栓さし湯時における節湯補正給湯量 (L/h)\n",
    "    :param W_dash_b2_d_t: 1日当たりの浴槽追焚時における節湯補正給湯量 (L/h)\n",
    "    :param Theta_ex_Ave_d: 日平均外気温度 (℃)\n",
    "    :param L_dashdash_ba2_d_t: 1日当たりの浴槽追焚時における太陽熱補正給湯熱負荷 (MJ/h)\n",
    "    :return: 1時間当たりの給湯機の消費電力量 (kWh/h)\n",
    "    \"\"\"\n",
    "    # 待機時及び水栓給湯時の補機による消費電力量 (2)\n",
    "    E_E_hs_aux1_d_t = get_E_E_hs_aux1_d_t(W_dash_k_d_t, W_dash_s_d_t, W_dash_w_d_t, W_dash_b1_d_t, W_dash_ba1_d_t,\n",
    "                                          Theta_ex_Ave_d)\n",
    "\n",
    "    # 湯はり時の補機による消費電力量 (3)\n",
    "    E_E_hs_aux2_d_t = get_E_E_hs_aux2_d_t(W_dash_b2_d_t)\n",
    "\n",
    "    # 保温時の補機による消費電力量 (4)\n",
    "    E_E_hs_aux3_d_t = get_E_E_hs_aux3_d_t(L_dashdash_ba2_d_t)\n",
    "\n",
    "    # 1日当たりの給湯機の消費電力量 (1)\n",
    "    E_E_hs_d_t = E_E_hs_aux1_d_t + E_E_hs_aux2_d_t + E_E_hs_aux3_d_t\n",
    "\n",
    "    return E_E_hs_d_t"
   ]
  },
  {
   "cell_type": "markdown",
   "metadata": {},
   "source": [
    "$$\\large\n",
    "E_{E,hs,aux1,d,t} = \\big\\{ \\big( -0.00235 \\times \\theta_{ex,Ave,d} + 0.3388 \\big) \\div 24\\\\\n",
    "\\large + 0.000780 \\times \\big(W'_{k,d,t}+W'_{s,d,t}+W'_{w,d,t}+W'_{b1,d,t}+W'_{ba1,d,t}\\big) \\big\\} \\times 10^{3} \\div 3600\n",
    "$$"
   ]
  },
  {
   "cell_type": "markdown",
   "metadata": {},
   "source": [
    "$E_{E,hs,aux1,d,t}$：日付$d$の時刻$t$における 1時間当たりの給湯機の待機時及び水栓給湯時の補機による消費電力量(kWh/h) / Power consumption by the auxiliary unit at the time of standby of the water heater and hourly water supply at the time $ t $ of date $ d $  \n",
    "$ W'_{k,d,t} $：日付$d$の時刻$t$における 1時間当たりの台所水栓における節湯補正給湯量(L/h) / Hot water correction amount of hot water at kitchen faucet per hour at time $ t $ on date $ d $  \n",
    "$ W'_{s,d,t} $：日付$d$の時刻$t$における 1時間当たりの浴室シャワー水栓における節湯補正給湯量(L/h) / Hot water correction amount of hot water in bathroom shower faucet per hour at time $ t $ of date $ d $  \n",
    "$ W'_{w,d,t} $：日付$d$の時刻$t$における 1時間当たりの洗面水栓における節湯補正給湯量(L/h) / Hot water correction amount of hot water in the faucet per hour at time $ t $ of date $ d $  \n",
    "$ W'_{b1,d,t} $：日付$d$の時刻$t$における 1時間当たりの浴槽水栓湯はり時における節湯補正給湯量(L/h) / Hot water correction hot-water supply amount at the time of bathtub $ 1 $ per hour at date $ t $ on date $ d $  \n",
    "$ W'_{ba1,d,t} $：日付$d$の時刻$t$における 1時間当たりの浴槽水栓さし湯時における節湯補正給湯量(L/h) / Hot water correction hot-water supply amount at the time of $ t $ for the time $ t $ on the date $ t $  \n",
    "$\\theta_{ex,Ave,d}$：日付$d$における日平均外気温度(℃) / Daily average outside temperature on date $ d $  "
   ]
  },
  {
   "cell_type": "code",
   "execution_count": null,
   "metadata": {},
   "outputs": [],
   "source": [
    "# 1時間当たりの給湯機の待機時及び水栓給湯時の補機による消費電力量 (2)\n",
    "def get_E_E_hs_aux1_d_t(W_dash_k_d_t, W_dash_s_d_t, W_dash_w_d_t, W_dash_b1_d_t, W_dash_ba1_d_t, Theta_ex_Ave_d):\n",
    "    \"\"\"\n",
    "    :param W_dash_k_d_t: 1日当たりの台所水栓における節湯補正給湯量 (L/h)\n",
    "    :param W_dash_s_d_t: 1日当たりの浴室シャワー水栓における節湯補正給湯量 (L/h)\n",
    "    :param W_dash_w_d_t: 1日当たりの洗面水栓における節湯補正給湯量 (L/h)\n",
    "    :param W_dash_b1_d_t: 1日当たりの浴槽水栓湯はり時における節湯補正給湯量 (L/h)\n",
    "    :param W_dash_ba1_d_t: 1日当たりの浴槽水栓さし湯時における節湯補正給湯量 (L/h)\n",
    "    :param Theta_ex_Ave_d: 日平均外気温度 (℃)\n",
    "    :return: 1時間当たりの給湯機の待機時及び水栓給湯時の補機による消費電力量 (kWh/h)\n",
    "    \"\"\"\n",
    "    # 1時間当たりの給湯機の待機時及び水栓給湯時の補機による消費電力量 (2)\n",
    "    E_E_hs_aux1_d_t = ((-0.00235 * np.repeat(Theta_ex_Ave_d, 24) + 0.3388) / 24\n",
    "                       + 0.000780 * (\n",
    "                               W_dash_k_d_t + W_dash_s_d_t + W_dash_w_d_t + W_dash_b1_d_t + W_dash_ba1_d_t)) * 10 ** 3 / 3600\n",
    "\n",
    "    return E_E_hs_aux1_d_t"
   ]
  },
  {
   "cell_type": "markdown",
   "metadata": {},
   "source": [
    "$$\\large\n",
    "E_{E,hs,aux2,d,t} = \\left\\{ \\begin{array}{ll}\n",
    "    0.07 \\times 10^{3} \\div 3600 \\times \\frac{W'_{b2,d,t}}{\\sum_{t=0}^{23} W'_{b2,d,t}} & \\big(\\sum_{t=0}^{23} W'_{b2,d,t} > 0 \\big)\\\\ \n",
    "    0 & \\big(\\sum_{t=0}^{23} W'_{b2,d,t} = 0 \\big)\\\\ \n",
    "    \\end{array}\n",
    "\\right.\n",
    "$$"
   ]
  },
  {
   "cell_type": "markdown",
   "metadata": {},
   "source": [
    "$E_{E,hs,aux2,d,t}$：日付$d$の時刻$t$における 1時間当たりの給湯機の湯はり時の補機による消費電力量(kWh/h) / Power consumption by auxiliary equipment at the time of hot water heating of water heater per hour at time $ t $ of date $ d $  \n",
    "$W'_{b2,d,t}$：日付$d$の時刻$t$における 1時間当たりの浴槽自動湯はり時における節湯補正給湯量(L/h) / Hot water correction hot water supply amount at the time of bathtub automatic water heating per hour at time $ t $ of date $ d $  "
   ]
  },
  {
   "cell_type": "code",
   "execution_count": null,
   "metadata": {},
   "outputs": [],
   "source": [
    "# 1時間当たりの給湯機の湯はり時の補機による消費電力量 (3)\n",
    "def get_E_E_hs_aux2_d_t(W_dash_b2_d_t):\n",
    "    \"\"\"\n",
    "    :param W_dash_b2_d_t: 1日当たりの浴槽追焚時における節湯補正給湯量 (L/h)\n",
    "    :return: 1時間当たりの給湯機の湯はり時の補機による消費電力量 (kWh/h)\n",
    "    \"\"\"\n",
    "    E_E_hs_aux2_d_t = np.zeros(24 * 365)\n",
    "\n",
    "    # 1日ごとにまとめる\n",
    "    W_dash_b2_d = np.repeat(np.sum(W_dash_b2_d_t.reshape(365, 24), axis=1), 24)\n",
    "\n",
    "    # W_dash_b2_d > 0 の場合\n",
    "    f = W_dash_b2_d > 0\n",
    "    E_E_hs_aux2_d_t[f] = (0.07 * 10 ** 3 / 3600) * W_dash_b2_d_t[f] / W_dash_b2_d[f]\n",
    "\n",
    "    return E_E_hs_aux2_d_t"
   ]
  },
  {
   "cell_type": "markdown",
   "metadata": {},
   "source": [
    "$$\\large\n",
    "E_{E,hs,aux3,d,t} = \\left\\{ \\begin{array}{ll}\n",
    "    (0.02102 \\times L''_{ba2,d} + 0.12852) \\times 10^{3} \\div 3600 \\times \\frac{L''_{ba2,d,t}}{L''_{ba2,d}} & \\big(L''_{ba2,d} > 0 \\big)\\\\ \n",
    "    0 & \\big(L''_{ba2,d} = 0 \\big)\\\\ \n",
    "    \\end{array}\n",
    "\\right.\n",
    "$$"
   ]
  },
  {
   "cell_type": "markdown",
   "metadata": {},
   "source": [
    "$E_{E,hs,aux3,d,t}$：日付$d$の時刻$t$における 1時間当たりの給湯機の保温時の補機による消費電力量(kWh/h) / Power consumption by auxiliary equipment at the time of hot water heater warm-up per hour at time $ t $ of date $ d $  \n",
    "$ L''_{ba2,d} $：日付$d$における1 日当たりの浴槽追焚時における太陽熱補正給湯熱負荷(MJ/d) / Solar heat correction hot water supply heat load at the time of one day bathtub remembrance at date $ d $  \n",
    "$ L''_{ba2,d,t} $：日付$d$の時刻$t$における 1時間当たりの浴槽追焚時における太陽熱補正給湯熱負荷(MJ/h) / Solar heat correction hot water supply heat load at the time of tub recollection per hour at time $ t $ of date $ d $  "
   ]
  },
  {
   "cell_type": "code",
   "execution_count": null,
   "metadata": {},
   "outputs": [],
   "source": [
    "# 1時間当たりの給湯機の保温時の補機による消費電力量 (4)\n",
    "def get_E_E_hs_aux3_d_t(L_dashdash_ba2_d_t):\n",
    "    \"\"\"\n",
    "    :param L_dashdash_ba2_d_t: 1日当たりの浴槽追焚時における太陽熱補正給湯熱負荷 (MJ/d)\n",
    "    :return: 1日当たりの給湯機の保温時の補機による消費電力量 (kWh/d)\n",
    "    \"\"\"\n",
    "    E_E_hs_aux3 = np.zeros(24 * 365)\n",
    "\n",
    "    L_dashdash_ba2_d = get_L_dashdash_ba2_d(L_dashdash_ba2_d_t)\n",
    "    L_dashdash_ba2_d = np.repeat(L_dashdash_ba2_d, 24)\n",
    "\n",
    "    f = (L_dashdash_ba2_d > 0)\n",
    "    E_E_hs_aux3[f] = (0.02102 * L_dashdash_ba2_d[f] + 0.12852) * 10 ** 3 / 3600 \\\n",
    "                     * L_dashdash_ba2_d_t[f] / L_dashdash_ba2_d[f]\n",
    "\n",
    "    return E_E_hs_aux3\n"
   ]
  },
  {
   "cell_type": "markdown",
   "metadata": {},
   "source": [
    "### D.3 ガス消費量 / Gas consumption"
   ]
  },
  {
   "cell_type": "markdown",
   "metadata": {},
   "source": [
    "日付$d$の時刻$t$における 1時間当たりの給湯機のガス消費量$E_{G,hs,d,t}$は0とする。"
   ]
  },
  {
   "cell_type": "markdown",
   "metadata": {},
   "source": [
    "The gas consumption $ E_ {G, hs, d, t} $ of the water heater per hour at the time $ t $ of the date $ d $ is 0."
   ]
  },
  {
   "cell_type": "code",
   "execution_count": null,
   "metadata": {},
   "outputs": [],
   "source": [
    "# 1日当たりの給湯機のガス消費量\n",
    "def get_E_G_hs_d_t():\n",
    "    # 1日当たりの給湯機のガス消費量は0とする\n",
    "    return np.zeros(24 * 365)"
   ]
  },
  {
   "cell_type": "markdown",
   "metadata": {},
   "source": [
    "### D.4 灯油消費量 / Kerosene consumption"
   ]
  },
  {
   "cell_type": "markdown",
   "metadata": {},
   "source": [
    "給湯単機能の場合"
   ]
  },
  {
   "cell_type": "markdown",
   "metadata": {},
   "source": [
    "In the case of the hot water supply single function"
   ]
  },
  {
   "cell_type": "markdown",
   "metadata": {},
   "source": [
    "$$\\large\n",
    "E_{K,hs,d,t} = \\frac{L''_{k,d,t}}{e_{k,d}} + \\frac{L''_{s,d,t}}{e_{s,d}} + \\frac{L''_{w,d,t}}{e_{w,d}} + \\frac{L''_{b1,d,t}}{e_{b1,d}} + \\frac{L''_{ba1,d,t}}{e_{ba1,d}}\n",
    "$$"
   ]
  },
  {
   "cell_type": "markdown",
   "metadata": {},
   "source": [
    "ふろ給湯機（追焚なし）の場合"
   ]
  },
  {
   "cell_type": "markdown",
   "metadata": {},
   "source": [
    "In the case of bath heater (without follow-up)"
   ]
  },
  {
   "cell_type": "markdown",
   "metadata": {},
   "source": [
    "$$\\large\n",
    "E_{K,hs,d,t} = \\frac{L''_{k,d,t}}{e_{k,d}} + \\frac{L''_{s,d,t}}{e_{s,d}} + \\frac{L''_{w,d,t}}{e_{w,d}} + \\frac{L''_{b2,d,t}}{e_{b2,d}} + \\frac{L''_{ba1,d,t}}{e_{ba1,d}}\n",
    "$$"
   ]
  },
  {
   "cell_type": "markdown",
   "metadata": {},
   "source": [
    "ふろ給湯機（追焚あり）の場合"
   ]
  },
  {
   "cell_type": "markdown",
   "metadata": {},
   "source": [
    "In the case of bath heater (with a memorial service)"
   ]
  },
  {
   "cell_type": "markdown",
   "metadata": {},
   "source": [
    "$$\\large\n",
    "E_{K,hs,d,t} = \\frac{L''_{k,d,t}}{e_{k,d}} + \\frac{L''_{s,d,t}}{e_{s,d}} + \\frac{L''_{w,d,t}}{e_{w,d}} + \\frac{L''_{b2,d,t}}{e_{b2,d}} + \\frac{L''_{ba2,d,t}}{e_{ba2,d}}\n",
    "$$"
   ]
  },
  {
   "cell_type": "markdown",
   "metadata": {},
   "source": [
    "$E_{K,hs,d,t}$：日付$d$の時刻$t$における 1時間当たりの給湯機の灯油消費量(MJ/h) / Water heater kerosene consumption per hour at time $ t $ on date $ d $  \n",
    "$ L''_{k,d,t}$：日付$d$の時刻$t$における1時間当たりの台所水栓における太陽熱補正給湯熱負荷(MJ/h) / Solar heat correction hot water supply heat load on kitchen faucet per hour at time $ t $ of date $ d $  \n",
    "$ L''_{s,d,t}$：日付$d$の時刻$t$における1時間当たりの浴室シャワー水栓における太陽熱補正給湯熱負荷(MJ/h) / Solar heat correction hot water supply heat load in bathroom shower faucet per hour at time $ t $ of date $ d $  \n",
    "$ L''_{w,d,t}$：日付$d$の時刻$t$における1時間当たりの洗面水栓における太陽熱補正給湯熱負荷(MJ/h) / Solar heat correction hot water supply heat load in the faucet per hour at time $ t $ of date $ d $  \n",
    "$ L''_{b1,d,t}$：日付$d$の時刻$t$における1時間当たりの浴槽水栓湯はり時における太陽熱補正給湯熱負荷(MJ/h) / Solar heat correction hot water supply heat load at the time of bathtub tap water heating per hour at time $ t $ of date $ d $  \n",
    "$ L''_{b2,d,t}$：日付$d$の時刻$t$における1時間当たりの浴槽自動湯はり時における太陽熱補正給湯熱負荷(MJ/h) / Solar heat correction hot water supply heat load at the time of bathtub automatic water heating per hour at time $ t $ of date $ d $  \n",
    "$ L''_{ba1,d,t}$：日付$d$の時刻$t$における1時間当たりの浴槽水栓さし湯時における太陽熱補正給湯熱負荷(MJ/h) / Solar heat correction hot water supply heat load at the time of bathtub faucet breaking water per hour at time $ t $ of date $ d $   \n",
    "$ L''_{ba2,d,t}$：日付$d$の時刻$t$における1時間当たりの浴槽追焚時における太陽熱補正給湯熱負荷(MJ/h) / Solar heat correction hot water supply heat load at the time of tub recollection per hour at time $ t $ of date $ d $  \n",
    "$ e_{k,d} $：日付$d$における台所水栓の給湯使用時における日平均給湯機効率(-) / Daily average water heater efficiency when using hot water of kitchen faucet on date $ d $  \n",
    "$ e_{s,d} $：日付$d$における浴室シャワー水栓の給湯使用時における日平均給湯機効率(-) / Daily average water heater efficiency when using hot water in bathroom shower faucet with date $ d $  \n",
    "$ e_{w,d} $：日付$d$における洗面水栓の給湯使用時における日平均給湯機効率(-) / Daily average water heater efficiency when using hot water supply of wash water faucet on date $ d $  \n",
    "$ e_{b1,d} $：日付$d$における浴槽水栓湯はり時における日平均給湯機効率(-) / Daily average water heater efficiency at bathtub faucet hot water at date $ d $  \n",
    "$ e_{b2,d} $：日付$d$における浴槽自動湯はり時における日平均給湯機効率(-) / Daily average water heater efficiency at bathtub automatic water bathing on date $ d $  \n",
    "$ e_{ba1,d} $：日付$d$における浴槽水栓さし湯時における日平均給湯機効率(-) / Daily average hot water supply efficiency at the time of bathtub faucet opening at date $ d $  \n",
    "$ e_{ba2,d} $：日付$d$における浴槽追焚時における日平均給湯機効率(-) / Daily average water heater efficiency at the time of bathtub remembrance on date $ d $  "
   ]
  },
  {
   "cell_type": "code",
   "execution_count": null,
   "metadata": {},
   "outputs": [],
   "source": [
    "# 灯油消費量 (5)\n",
    "def get_E_K_hs_d_t(hw_type, e_rtd, e_dash_rtd, bath_function, Theta_ex_Ave_d, L_dashdash_k_d_t, L_dashdash_s_d_t, L_dashdash_w_d_t,\n",
    "                   L_dashdash_b1_d_t, L_dashdash_b2_d_t, L_dashdash_ba1_d_t, L_dashdash_ba2_d_t):\n",
    "    \"\"\"\n",
    "    :param hw_type: 給湯機／給湯温水暖房機の種類\n",
    "    :param e_rtd: 当該給湯機の効率\n",
    "    :param e_dash_rtd: ：「エネルギーの使用の合理化に関する法律」に基づく「特定機器の性能の向上に関する製造事業者等の 判断の基準等」（ガス温水機器）に定義される「エネルギー消費効率」\n",
    "    :param bath_function: ふろ機能の種類\n",
    "    :param Theta_ex_Ave_d: 日平均外気温度 (℃)\n",
    "    :param L_dashdash_k_d_t: 1時間当たりの台所水栓における節湯補正給湯熱負荷 (MJ/h)\n",
    "    :param L_dashdash_s_d_t: 1時間当たりの浴室シャワー水栓における節湯補正給湯熱負荷 (MJ/h)\n",
    "    :param L_dashdash_w_d_t: 1時間当たりの洗面水栓における節湯補正給湯熱負荷 (MJ/h)\n",
    "    :param L_dashdash_b1_d_t: 1時間当たりの浴槽水栓湯はり時における節湯補正給湯熱負荷 (MJ/h)\n",
    "    :param L_dashdash_b2_d_t: 1時間当たりの浴槽追焚時における節湯補正給湯熱負荷 (MJ/h)\n",
    "    :param L_dashdash_ba1_d_t: 1時間当たりの浴槽水栓さし湯時における節湯補正給湯熱負荷 (MJ/h)\n",
    "    :param L_dashdash_ba2_d_t: 1時間当たりの浴槽追焚時における節湯補正給湯熱負荷 (MJ/h)\n",
    "    :return: 1時間当たりの給湯機の灯油消費量 (MJ/h)\n",
    "    \"\"\"\n",
    "    # 効率の決定\n",
    "    if e_rtd == None:\n",
    "        if e_dash_rtd == None:\n",
    "            e_rtd = get_e_rtd_default(hw_type)\n",
    "        else:\n",
    "            e_rtd = get_e_rtd(e_dash_rtd)\n",
    "\n",
    "    # 1日当たりの太陽熱補正給湯熱負荷\n",
    "    L_dashdash_k_d = get_L_dashdash_k_d(L_dashdash_k_d_t)\n",
    "    L_dashdash_s_d = get_L_dashdash_s_d(L_dashdash_s_d_t)\n",
    "    L_dashdash_w_d = get_L_dashdash_w_d(L_dashdash_w_d_t)\n",
    "    L_dashdash_b1_d = get_L_dashdash_b1_d(L_dashdash_b1_d_t)\n",
    "    L_dashdash_b2_d = get_L_dashdash_b2_d(L_dashdash_b2_d_t)\n",
    "    L_dashdash_ba1_d = get_L_dashdash_ba1_d(L_dashdash_ba1_d_t)\n",
    "    L_dashdash_ba2_d = get_L_dashdash_ba2_d(L_dashdash_ba2_d_t)\n",
    "\n",
    "    # 日平均給湯機効率\n",
    "    e_k_d = get_e_k_d(e_rtd, Theta_ex_Ave_d, L_dashdash_k_d, L_dashdash_w_d)\n",
    "    e_s_d = get_e_s_d(e_rtd, Theta_ex_Ave_d, L_dashdash_s_d)\n",
    "    e_w_d = get_e_w_d(e_rtd, Theta_ex_Ave_d, L_dashdash_k_d, L_dashdash_w_d)\n",
    "    e_b1_d = get_e_b1_d(e_rtd, Theta_ex_Ave_d, L_dashdash_b1_d)\n",
    "    e_b2_d = get_e_b2_d(e_rtd, Theta_ex_Ave_d, L_dashdash_b2_d)\n",
    "    e_ba1_d = get_e_ba1_d(e_rtd, Theta_ex_Ave_d, L_dashdash_ba1_d)\n",
    "    e_ba2_d = get_e_ba2_d(e_rtd, Theta_ex_Ave_d, L_dashdash_ba2_d)\n",
    "\n",
    "    e_k_d = np.repeat(e_k_d, 24)\n",
    "    e_s_d = np.repeat(e_s_d, 24)\n",
    "    e_w_d = np.repeat(e_w_d, 24)\n",
    "    e_b1_d = np.repeat(e_b1_d, 24)\n",
    "    e_b2_d = np.repeat(e_b2_d, 24)\n",
    "    e_ba1_d = np.repeat(e_ba1_d, 24)\n",
    "    e_ba2_d = np.repeat(e_ba2_d, 24)\n",
    "\n",
    "    if bath_function == '給湯単機能':\n",
    "        # (5a)\n",
    "        return L_dashdash_k_d_t / e_k_d \\\n",
    "               + L_dashdash_s_d_t / e_s_d \\\n",
    "               + L_dashdash_w_d_t / e_w_d \\\n",
    "               + L_dashdash_b1_d_t / e_b1_d \\\n",
    "               + L_dashdash_ba1_d_t / e_ba1_d\n",
    "    elif bath_function == 'ふろ給湯機(追焚なし)':\n",
    "        # (5b)\n",
    "        return L_dashdash_k_d_t / e_k_d \\\n",
    "               + L_dashdash_s_d_t / e_s_d \\\n",
    "               + L_dashdash_w_d_t / e_w_d \\\n",
    "               + L_dashdash_b2_d_t / e_b2_d \\\n",
    "               + L_dashdash_ba1_d_t / e_ba1_d\n",
    "    elif bath_function == 'ふろ給湯機(追焚あり)':\n",
    "        # (5c)\n",
    "        return L_dashdash_k_d_t / e_k_d \\\n",
    "               + L_dashdash_s_d_t / e_s_d \\\n",
    "               + L_dashdash_w_d_t / e_w_d \\\n",
    "               + L_dashdash_b2_d_t / e_b2_d \\\n",
    "               + L_dashdash_ba2_d_t / e_ba2_d\n",
    "    else:\n",
    "        raise ValueError(bath_function)\n"
   ]
  },
  {
   "cell_type": "markdown",
   "metadata": {},
   "source": [
    "各用途の日平均給湯機効率$e_{u,d}$は1.0を超えない。"
   ]
  },
  {
   "cell_type": "markdown",
   "metadata": {},
   "source": [
    "The daily average water heater efficiency $ e_ {u, d} $ for each application does not exceed 1.0."
   ]
  },
  {
   "cell_type": "markdown",
   "metadata": {},
   "source": [
    "$$\\large\n",
    "e_{k,d} = a_{k} \\times \\theta_{ex,Ave,d} + b_{k} \\times (L''_{k,d} + L''_{w,d}) + c_{k}\n",
    "$$\n",
    "\n",
    "$$\\large\n",
    "e_{s,d} = a_{s} \\times \\theta_{ex,Ave,d} + b_{s} \\times L''_{s,d} + c_{s}\n",
    "$$\n",
    "\n",
    "$$\\large\n",
    "e_{w,d} = a_{w} \\times \\theta_{ex,Ave,d} + b_{w} \\times (L''_{k,d} + L''_{w,d}) + c_{w}\n",
    "$$\n",
    "\n",
    "$$\\large\n",
    "e_{b1,d} = a_{b1} \\times \\theta_{ex,Ave,d} + b_{b1} \\times L''_{b1,d} + c_{b1}\n",
    "$$\n",
    "\n",
    "$$\\large\n",
    "e_{b2,d} = a_{b2} \\times \\theta_{ex,Ave,d} + b_{b2} \\times L''_{b2,d} + c_{b2}\n",
    "$$\n",
    "\n",
    "$$\\large\n",
    "e_{ba1,d} = a_{ba1} \\times \\theta_{ex,Ave,d} + b_{ba1} \\times L''_{ba1,d} + c_{ba1}\n",
    "$$\n",
    "\n",
    "$$\\large\n",
    "e_{ba2,d} = a_{ba2} \\times \\theta_{ex,Ave,d} + b_{ba2} \\times L''_{ba2,d} + c_{ba2}\n",
    "$$"
   ]
  },
  {
   "cell_type": "markdown",
   "metadata": {},
   "source": [
    "$ e_{k,d} $：日付$d$における台所水栓の給湯使用時における日平均給湯機効率(-) / Daily average water heater efficiency when using hot water of kitchen faucet on date $ d $  \n",
    "$ e_{s,d} $：日付$d$における浴室シャワー水栓の給湯使用時における日平均給湯機効率(-) / Daily average water heater efficiency when using hot water in bathroom shower faucet with date $ d $  \n",
    "$ e_{w,d} $：日付$d$における洗面水栓の給湯使用時における日平均給湯機効率(-) / Daily average water heater efficiency at the time of using hot water supply of wash water faucet on date $ d $  \n",
    "$ e_{b1,d} $：日付$d$における浴槽水栓湯はり時における日平均給湯機効率(-) / Daily average water heater efficiency at bathtub faucet hot water at date $ d $  \n",
    "$ e_{b2,d} $：日付$d$における浴槽自動湯はり時における日平均給湯機効率(-) / Daily average water heater efficiency at bathtub automatic bathing at date $ d $  \n",
    "$ e_{ba1,d} $：日付$d$における浴槽水栓さし湯時における日平均給湯機効率(-) / Daily average water heater efficiency at the time of bathtub faucet breaking water at date $ d $  \n",
    "$ e_{ba2,d} $：日付$d$における浴槽追焚時における日平均給湯機効率(-) / Daily average water heater efficiency at bathtub remembrance on date $ d $  \n",
    "$L''_{k,d}$：日付$d$における1 日当たりの台所水栓における太陽熱補正給湯熱負荷(MJ/d) / Solar heat correction hot water supply heat load in a kitchen faucet per day at date $ d $  \n",
    "$L''_{s,d}$：日付$d$における1 日当たりの浴室シャワー水栓における太陽熱補正給湯熱負荷(MJ/d) / Solar thermal correction hot water supply heat load at one day bathroom shower faucet at date $ d $  \n",
    "$L''_{w,d}$：日付$d$における1 日当たりの洗面水栓における太陽熱補正給湯熱負荷(MJ/d) / Solar heat correction hot water supply heat load in a single day water faucet at date $ d $  \n",
    "$L''_{b1,d}$：日付$d$における1 日当たりの浴槽水栓湯はり時における太陽熱補正給湯熱負荷(MJ/d) / Solar heat correction hot water supply heat load at one day bathtub bathtub faucet at date $ d $  \n",
    "$L''_{b2,d}$：日付$d$における1 日当たりの浴槽自動湯はり時における太陽熱補正給湯熱負荷(MJ/d) / Solar thermal correction hot water supply heat load at one day bathtub automatic bath heating on date $ d $  \n",
    "$L''_{ba1,d}$：日付$d$における1 日当たりの浴槽水栓さし湯時における太陽熱補正給湯熱負荷(MJ/d) / Solar heat correction hot water supply heat load at the time of one day bathtub bathtub faucet at date $ d $  \n",
    "$L''_{ba2,d}$：日付$d$における1 日当たりの浴槽追焚時における太陽熱補正給湯熱負荷(MJ/d) / Solar heat correction hot water supply heat load at the time of one day bathtub remembrance at date $ d $  \n",
    "$\\theta_{ex,Ave,d}$：日付$d$における日平均外気温度(℃) / Daily average outside temperature on date $ d $  \n",
    "$a_{u}, b_{u}, c_{u}$：回帰係数(-) / Regression coefficient  \n",
    "$u$：用途を表す添え字($k,s,w,b1,b2,ba1,ba2$) / Index indicating use"
   ]
  },
  {
   "cell_type": "markdown",
   "metadata": {},
   "source": [
    "$$\\large\n",
    "a_{u} = a_{std,u} \\times f_{hs}\n",
    "$$\n",
    "\n",
    "$$\\large\n",
    "b_{u} = b_{std,u} \\times f_{hs}\n",
    "$$\n",
    "\n",
    "$$\\large\n",
    "c_{u} = c_{std,u} \\times f_{hs}\n",
    "$$"
   ]
  },
  {
   "cell_type": "markdown",
   "metadata": {},
   "source": [
    "$a_{u}, b_{u}, c_{u}$：回帰係数(-) / Regression coefficient  \n",
    "$a_{std,u}, b_{std,u}, c_{std,u}$：表により求まる係数(-) / Coefficient determined by table  \n",
    "$f_{hs}$：当該給湯機に対する効率の補正係数(-) / Correction factor of efficiency for the relevant water heater    \n",
    "$u$：用途を表す添え字（$k, s, w, b1, b2, ba1, ba2$) / Index indicating use   "
   ]
  },
  {
   "cell_type": "code",
   "execution_count": null,
   "metadata": {},
   "outputs": [],
   "source": [
    "# 台所水栓の給湯使用時における日平均給湯機効率 (6a)\n",
    "def get_e_k_d(e_rtd, Theta_ex_Ave_d, L_dashdash_k_d, L_dashdash_w_d):\n",
    "    \"\"\"\n",
    "    :param e_rtd: 当該給湯機の効率\n",
    "    :param Theta_ex_Ave_d: 日平均外気温度 (℃)\n",
    "    :param L_dashdash_k_d: 1日当たりの台所水栓における太陽熱補正給湯熱負荷 (MJ/d)\n",
    "    :param L_dashdash_w_d: 1日当たりの洗面水栓における太陽熱補正給湯熱負荷 (MJ/d)\n",
    "    :return: 台所水栓の給湯使用時における日平均給湯機効率\n",
    "    \"\"\"\n",
    "    # 当該給湯機に対する効率の補正係数\n",
    "    f_hs = get_f_hs(e_rtd)\n",
    "\n",
    "    # 石油給湯機効率の回帰係数\n",
    "    a_std_k = table_d_3()[0][0]\n",
    "    b_std_k = table_d_3()[1][0]\n",
    "    c_std_k = table_d_3()[2][0]\n",
    "    a_k = a_std_k * f_hs  # (7a)\n",
    "    b_k = b_std_k * f_hs  # (7b)\n",
    "    c_k = c_std_k * f_hs  # (7c)\n",
    "\n",
    "    e_k = a_k * Theta_ex_Ave_d + b_k * (L_dashdash_k_d + L_dashdash_w_d) + c_k\n",
    "\n",
    "    return np.clip(e_k, 0.0, 1.0)\n",
    "\n",
    "\n",
    "# 浴室シャワー水栓の給湯使用時における日平均給湯機効率 (6b)\n",
    "def get_e_s_d(e_rtd, Theta_ex_Ave_d, L_dashdash_s_d):\n",
    "    \"\"\"\n",
    "    :param e_rtd: 当該給湯機の効率\n",
    "    :param Theta_ex_Ave_d: 日平均外気温度 (℃)\n",
    "    :param L_dashdash_s_d: 1日当たりの浴室シャワー水栓における太陽熱補正給湯熱負荷 (MJ/d)\n",
    "    :return: 浴室シャワー水栓における日平均給湯機効率\n",
    "    \"\"\"\n",
    "    # 当該給湯機に対する効率の補正係数\n",
    "    f_hs = get_f_hs(e_rtd)\n",
    "\n",
    "    # 石油給湯機効率の回帰係数\n",
    "    a_std_s = table_d_3()[0][1]\n",
    "    b_std_s = table_d_3()[1][1]\n",
    "    c_std_s = table_d_3()[2][1]\n",
    "    a_s = a_std_s * f_hs  # (7a)\n",
    "    b_s = b_std_s * f_hs  # (7b)\n",
    "    c_s = c_std_s * f_hs  # (7c)\n",
    "\n",
    "    e_s = a_s * Theta_ex_Ave_d + b_s * L_dashdash_s_d + c_s\n",
    "\n",
    "    return np.clip(e_s, 0.0, 1.0)\n",
    "\n",
    "\n",
    "# 洗面水栓の給湯使用時における日平均給湯機効率 (6c)\n",
    "def get_e_w_d(e_rtd, Theta_ex_Ave_d, L_dashdash_k_d, L_dashdash_w_d):\n",
    "    \"\"\"\n",
    "    :param e_rtd: 当該給湯機の効率\n",
    "    :param Theta_ex_Ave_d: 日平均外気温度 (℃)\n",
    "    :param L_dashdash_k_d: 1日当たりの台所水栓における太陽熱補正給湯熱負荷 (MJ/d)\n",
    "    :param L_dashdash_w_d: 1日当たりの洗面水栓における太陽熱補正給湯熱負荷 (MJ/d)\n",
    "    :return: 洗面水栓の給湯使用時における日平均給湯機効率\n",
    "    \"\"\"\n",
    "    # 当該給湯機に対する効率の補正係数\n",
    "    f_hs = get_f_hs(e_rtd)\n",
    "\n",
    "    # 石油給湯機効率の回帰係数\n",
    "    a_std_w = table_d_3()[0][2]\n",
    "    b_std_w = table_d_3()[1][2]\n",
    "    c_std_w = table_d_3()[2][2]\n",
    "    a_w = a_std_w * f_hs  # (7a)\n",
    "    b_w = b_std_w * f_hs  # (7b)\n",
    "    c_w = c_std_w * f_hs  # (7c)\n",
    "\n",
    "    e_w = a_w * Theta_ex_Ave_d + b_w * (L_dashdash_k_d + L_dashdash_w_d) + c_w\n",
    "\n",
    "    return np.clip(e_w, 0.0, 1.0)\n",
    "\n",
    "\n",
    "# 浴槽水栓湯はり時における日平均給湯機効率 (6d)\n",
    "def get_e_b1_d(e_rtd, Theta_ex_Ave_d, L_dashdash_b1_d):\n",
    "    \"\"\"\n",
    "    :param e_rtd: 当該給湯機の効率\n",
    "    :param Theta_ex_Ave_d: 日平均外気温度 (℃)\n",
    "    :param L_dashdash_b1_d: 1日当たりの浴槽水栓湯はり時における太陽熱補正給湯熱負荷 (MJ/d)\n",
    "    :return: 浴槽水栓湯はり時における日平均給湯機効率\n",
    "    \"\"\"\n",
    "    # 当該給湯機に対する効率の補正係数\n",
    "    f_hs = get_f_hs(e_rtd)\n",
    "\n",
    "    # 石油給湯機効率の回帰係数\n",
    "    a_std_b1 = table_d_3()[0][3]\n",
    "    b_std_b1 = table_d_3()[1][3]\n",
    "    c_std_b1 = table_d_3()[2][3]\n",
    "    a_b1 = a_std_b1 * f_hs  # (7a)\n",
    "    b_b1 = b_std_b1 * f_hs  # (7b)\n",
    "    c_b1 = c_std_b1 * f_hs  # (7c)\n",
    "\n",
    "    e_b1 = a_b1 * Theta_ex_Ave_d + b_b1 * L_dashdash_b1_d + c_b1\n",
    "\n",
    "    return np.clip(e_b1, 0.0, 1.0)\n",
    "\n",
    "\n",
    "# 浴槽自動湯はり時における日平均給湯機効率 (6e)\n",
    "def get_e_b2_d(e_rtd, Theta_ex_Ave_d, L_dashdash_b2_d):\n",
    "    \"\"\"\n",
    "    :param e_rtd: 当該給湯機の効率\n",
    "    :param Theta_ex_Ave_d: 日平均外気温度 (℃)\n",
    "    :param L_dashdash_b2_d: 1日当たりの浴槽自動湯はり時における太陽熱補正給湯熱負荷 (MJ/d)\n",
    "    :return: 浴槽自動湯はり時における日平均給湯機効率\n",
    "    \"\"\"\n",
    "    # 当該給湯機に対する効率の補正係数\n",
    "    f_hs = get_f_hs(e_rtd)\n",
    "\n",
    "    # 石油給湯機効率の回帰係数\n",
    "    a_std_b2 = table_d_3()[0][4]\n",
    "    b_std_b2 = table_d_3()[1][4]\n",
    "    c_std_b2 = table_d_3()[2][4]\n",
    "    a_b2 = a_std_b2 * f_hs  # (7a)\n",
    "    b_b2 = b_std_b2 * f_hs  # (7b)\n",
    "    c_b2 = c_std_b2 * f_hs  # (7c)\n",
    "\n",
    "    e_b2 = a_b2 * Theta_ex_Ave_d + b_b2 * L_dashdash_b2_d + c_b2\n",
    "\n",
    "    return np.clip(e_b2, 0.0, 1.0)\n",
    "\n",
    "\n",
    "# 浴槽水さし時における日平均給湯機効率 (6f)\n",
    "def get_e_ba1_d(e_rtd, Theta_ex_Ave_d, L_dashdash_ba1_d):\n",
    "    \"\"\"\n",
    "    :param e_rtd: 当該給湯機の効率\n",
    "    :param Theta_ex_Ave_d: 日平均外気温度 (℃)\n",
    "    :param L_dashdash_ba1_d: 1日当たりの浴槽水栓さし湯時における太陽熱補正給湯熱負荷 (MJ/d)\n",
    "    :return: 浴槽水さし時における日平均給湯機効率\n",
    "    \"\"\"\n",
    "    # 当該給湯機に対する効率の補正係数\n",
    "    f_hs = get_f_hs(e_rtd)\n",
    "\n",
    "    # 石油給湯機効率の回帰係数\n",
    "    a_std_ba1 = table_d_3()[0][5]\n",
    "    b_std_ba1 = table_d_3()[1][5]\n",
    "    c_std_ba1 = table_d_3()[2][5]\n",
    "    a_ba1 = a_std_ba1 * f_hs  # (7a)\n",
    "    b_ba1 = b_std_ba1 * f_hs  # (7b)\n",
    "    c_ba1 = c_std_ba1 * f_hs  # (7c)\n",
    "\n",
    "    e_ba1 = a_ba1 * Theta_ex_Ave_d + b_ba1 * L_dashdash_ba1_d + c_ba1\n",
    "\n",
    "    return np.clip(e_ba1, 0.0, 1.0)\n",
    "\n",
    "\n",
    "# 浴槽追焚時における日平均給湯機効率 (6g)\n",
    "def get_e_ba2_d(e_rtd, Theta_ex_Ave_d, L_dashdash_ba2_d):\n",
    "    \"\"\"\n",
    "    :param e_rtd: 当該給湯機の効率\n",
    "    :param Theta_ex_Ave_d: 日平均外気温度 (℃)\n",
    "    :param L_dashdash_ba2_d: 1日当たりの浴槽追焚時における太陽熱補正給湯熱負荷 (MJ/d)\n",
    "    :return: 浴槽追焚時における日平均給湯機効率\n",
    "    \"\"\"\n",
    "    # 当該給湯機に対する効率の補正係数\n",
    "    f_hs = get_f_hs(e_rtd)\n",
    "\n",
    "    # 石油給湯機効率の回帰係数\n",
    "    a_std_ba2 = table_d_3()[0][6]\n",
    "    b_std_ba2 = table_d_3()[1][6]\n",
    "    c_std_ba2 = table_d_3()[2][6]\n",
    "    a_ba2 = a_std_ba2 * f_hs  # (7a)\n",
    "    b_ba2 = b_std_ba2 * f_hs  # (7b)\n",
    "    c_ba2 = c_std_ba2 * f_hs  # (7c)\n",
    "\n",
    "    e_ba2 = a_ba2 * Theta_ex_Ave_d + b_ba2 * L_dashdash_ba2_d + c_ba2\n",
    "\n",
    "    return np.clip(e_ba2, 0.0, 1.0)"
   ]
  },
  {
   "cell_type": "markdown",
   "metadata": {},
   "source": [
    "<div style=\"text-align: center;font-weight: bold;\">表　石油給湯機効率の回帰係数$a_{std,u}$、$b_{std,u}$及び$c_{std,u}$<br>Table: Regression coefficients $ a_ {std, u} $, $ b_ {std, u} $ and $ c_ {std, u} $ of oil water heater efficiency</div>\n",
    "\n",
    "<table>\n",
    "<thead>\n",
    "<tr>\n",
    "<th rowspan=\"2\">回帰係数<br>Regression coefficient</th>\n",
    "<th colspan=\"7\" style=\"text-align: center;\">添え字 $u$ （用途）<br>Subscript $ u $ (use)</th>\n",
    "</tr>\n",
    "<tr>\n",
    "<th>台所水栓<br> $k$<br>Kitchen faucet</th>\n",
    "<th>浴室<br>シャワー水栓<br> $s$<br>Bathroom shower faucet</th>\n",
    "<th>洗面水栓<br> $w$<br>Bathroom faucet</th>\n",
    "<th>浴槽水栓<br>湯はり<br> $b1$<br>Bathtub faucet hot water</th>\n",
    "<th>浴槽自動<br>湯はり<br> $b2$<br>Automatic bath tub</th>\n",
    "<th>浴槽水栓<br>差し湯<br> $ba1$<br>Bathtub faucet hot water</th>\n",
    "<th>浴槽追焚<br> $ba2$<br>Bathtub memory</th>\n",
    "</tr>\n",
    "</thead>\n",
    "\n",
    "<tbody>\n",
    "<tr>\n",
    "<th>$a_{std,u}$</th><td>0.0005</td><td>0.0024</td><td>0.0005</td><td>0.0000</td><td>0.0000</td><td>0.0000</td><td>0.0062</td>\n",
    "</tr>\n",
    "<tr>\n",
    "<th>$b_{std,u}$</th><td>0.0028</td><td>0.0021</td><td>0.0028</td><td>-0.0027</td><td>-0.0024</td><td>-0.0027</td><td>0.0462</td>\n",
    "</tr>\n",
    "<tr>\n",
    "<th>$c_{std,u}$</th><td>0.6818</td><td>0.7560</td><td>0.6818</td><td>0.9026</td><td>0.8885</td><td>0.9026</td><td>0.4001</td>\n",
    "</tr>\n",
    "</tbody>\n",
    "</table>\n"
   ]
  },
  {
   "cell_type": "code",
   "execution_count": null,
   "metadata": {},
   "outputs": [],
   "source": [
    "# 表 D.3 石油給湯機効率の回帰係\n",
    "def table_d_3():\n",
    "    tmp = [\n",
    "        (0.0005, 0.0024, 0.0005, 0.0000, 0.0000, 0.0000, 0.0062),\n",
    "        (0.0028, 0.0021, 0.0028, -0.0027, -0.0024, -0.0027, 0.0462),\n",
    "        (0.6818, 0.7560, 0.6818, 0.9026, 0.8885, 0.9026, 0.4001)\n",
    "    ]\n",
    "    return tmp"
   ]
  },
  {
   "cell_type": "markdown",
   "metadata": {},
   "source": [
    "$$\\large\n",
    "f_{hs} = \\frac{(0.8669 \\times e_{rtd} + 0.091)}{0.796}\n",
    "$$"
   ]
  },
  {
   "cell_type": "markdown",
   "metadata": {},
   "source": [
    "$e_{rtd}$：当該給湯機の効率(-) / Efficiency of the water heater concerned  \n",
    "$f_{hs}$：当該給湯機に対する効率の補正係数(-) / Correction factor of efficiency for the relevant water heater "
   ]
  },
  {
   "cell_type": "code",
   "execution_count": null,
   "metadata": {},
   "outputs": [],
   "source": [
    "# 当該給湯機に対する効率の補正係数 (8)\n",
    "def get_f_hs(e_rtd):\n",
    "    \"\"\"\n",
    "    :param e_rtd: 当該給湯機の効率\n",
    "    :return: 当該給湯機に対する効率の補正係数\n",
    "    \"\"\"\n",
    "    return (0.8669 * e_rtd + 0.091) / 0.796"
   ]
  },
  {
   "cell_type": "markdown",
   "metadata": {},
   "source": [
    "$$\\large\n",
    "e_{rtd} = e'_{rtd} -  0.081 \n",
    "$$"
   ]
  },
  {
   "cell_type": "markdown",
   "metadata": {},
   "source": [
    "$e_{rtd}$：当該給湯機の効率(-) / Efficiency of the water heater concerned  \n",
    "$e'_{rtd}$：当該給湯機の JIS S 3031 の連続給湯効率試験方法又は湯沸効率試験方法に基づく「熱効率」(-) / \"Thermal efficiency\" based on JIS S 3031 continuous hot water supply efficiency test method or hot water efficiency test method of the water heater concerned "
   ]
  },
  {
   "cell_type": "code",
   "execution_count": null,
   "metadata": {},
   "outputs": [],
   "source": [
    "# 当該給湯機の効率\n",
    "def get_e_rtd_default(hw_type):\n",
    "    \"\"\"\n",
    "    :param hw_type: 給湯機／給湯温水暖房機の種類\n",
    "    :return: 当該給湯機の効率\n",
    "    \"\"\"\n",
    "    if hw_type in ['石油潜熱回収型給湯機', '石油潜熱回収型給湯温水暖房機']:\n",
    "        return 0.819\n",
    "    elif hw_type in ['石油従来型給湯機', '石油従来型給湯温水暖房機']:\n",
    "        return 0.779\n",
    "    else:\n",
    "        raise ValueError(hw_type)\n",
    "\n",
    "\n",
    "# 「エネルギーの使用の合理化に関する法律」に基づく「特定機器の性能の向上に関する製造事業者等の 判断の基準等」（ガス温水機器）\n",
    "# に定義される「エネルギー消費効率」 から 当該給湯器の効率を取得\n",
    "def get_e_rtd(e_dash_rtd):\n",
    "    \"\"\"\n",
    "    :param e_dash_rtd: ：「エネルギーの使用の合理化に関する法律」に基づく「特定機器の性能の向上に関する製造事業者等の 判断の基準等」（ガス温水機器）に定義される「エネルギー消費効率」\n",
    "    :return: 換算された当該給湯器の効率\n",
    "    \"\"\"\n",
    "    return e_dash_rtd - 0.081"
   ]
  },
  {
   "cell_type": "markdown",
   "metadata": {},
   "source": [
    "### C.5 １日当たりの太陽熱補正給湯熱負荷 / Solar heat correction hot water supply heat load per day\n"
   ]
  },
  {
   "cell_type": "markdown",
   "metadata": {},
   "source": [
    "$$\\large\n",
    "L''_{k,d} = \\sum_{t=0}^{23} L''_{k,d,t}\n",
    "$$\n",
    "\n",
    "$$\\large\n",
    "L''_{s,d} = \\sum_{t=0}^{23} L''_{s,d,t}\n",
    "$$\n",
    "\n",
    "$$\\large\n",
    "L''_{w,d} = \\sum_{t=0}^{23} L''_{w,d,t}\n",
    "$$\n",
    "\n",
    "$$\\large\n",
    "L''_{b1,d} = \\sum_{t=0}^{23} L''_{b1,d,t}\n",
    "$$\n",
    "\n",
    "$$\\large\n",
    "L''_{b2,d} = \\sum_{t=0}^{23} L''_{b2,d,t}\n",
    "$$\n",
    "\n",
    "$$\\large\n",
    "L''_{ba1,d} = \\sum_{t=0}^{23} L''_{ba1,d,t}\n",
    "$$\n",
    "\n",
    "$$\\large\n",
    "L''_{ba2,d} = \\sum_{t=0}^{23} L''_{ba2,d,t}\n",
    "$$"
   ]
  },
  {
   "cell_type": "markdown",
   "metadata": {},
   "source": [
    "$L''_{k,d}$：日付$d$における1 日当たりの台所水栓における太陽熱補正給湯熱負荷(MJ/d) / Solar heat correction hot water supply heat load on a kitchen faucet per day at date $ d $  \n",
    "$L''_{s,d}$：日付$d$における1 日当たりの浴室シャワー水栓における太陽熱補正給湯熱負荷(MJ/d) / Solar heat correction hot water supply heat load at one day bathroom shower faucet at date $ d $  \n",
    "$L''_{w,d}$：日付$d$における1 日当たりの洗面水栓における太陽熱補正給湯熱負荷(MJ/d) / Solar heat correction hot water supply heat load in a single day water faucet at date $ d $  \n",
    "$L''_{b1,d}$：日付$d$における1 日当たりの浴槽水栓湯はり時における太陽熱補正給湯熱負荷(MJ/d) / Solar heat correction hot water supply heat load at the time of one day bathtub faucet hot water at date $ d $  \n",
    "$L''_{b2,d}$：日付$d$における1 日当たりの浴槽自動湯はり時における太陽熱補正給湯熱負荷(MJ/d) / Solar heat correction hot water supply heat load at the time of one day bathtub automatic bath heating on date $ d $  \n",
    "$L''_{ba1,d}$：日付$d$における1 日当たりの浴槽水栓さし湯時における太陽熱補正給湯熱負荷(MJ/d) / Solar heat correction hot water supply heat load at the time of one day bathtub bathtub faucet at date $ d $  \n",
    "$L''_{ba2,d}$：日付$d$における1 日当たりの浴槽追焚時における太陽熱補正給湯熱負荷(MJ/d) / Solar heat correction hot water supply heat load at the time of one day bathtub remembrance at date $ d $  \n",
    "$ L''_{k,d,t} $：日付$d$の時刻$t$における 1時間当たりの台所水栓における太陽熱補正給湯熱負荷(MJ/h) / Solar heat correction hot water supply heat load on kitchen faucet per hour at time $ t $ of date $ d $  \n",
    "$ L''_{s,d,t} $：日付$d$の時刻$t$における 1時間当たりの浴室シャワー水栓における太陽熱補正給湯熱負荷(MJ/h) / Solar heat correction hot water supply heat load in bathroom shower faucet per hour at time $ t $ of date $ d $  \n",
    "$ L''_{w,d,t} $：日付$d$の時刻$t$における 1時間当たりの洗面水栓における太陽熱補正給湯熱負荷(MJ/h) / Solar heat correction hot water supply heat load in the faucet per hour at time $ t $ of date $ d $  \n",
    "$ L''_{b1,d,t} $：日付$d$の時刻$t$における 1時間当たりの浴槽水栓湯はり時における太陽熱補正給湯熱負荷(MJ/h) / Solar heat correction hot water supply heat load at the time of bathtub faucet bathing per hour at time $ t $ of date $ d $  \n",
    "$ L''_{b2,d,t} $：日付$d$の時刻$t$における 1時間当たりの浴槽自動湯はり時における太陽熱補正給湯熱負荷(MJ/h) / Solar heat correction hot water supply heat load at the time of bathtub automatic water heating per hour at time $ t $ of date $ d $  \n",
    "$ L''_{ba1,d,t} $：日付$d$の時刻$t$における 1時間当たりの浴槽水栓さし湯時における太陽熱補正給湯熱負荷(MJ/h) / Solar heat correction hot water supply heat load at the time of bathtub faucet breaking water per hour at time $ t $ of date $ d $  \n",
    "$ L''_{ba2,d,t} $：日付$d$の時刻$t$における 1時間当たりの浴槽追焚時における太陽熱補正給湯熱負荷(MJ/h) / Solar heat correction hot water supply heat load at the time of bathtub remembrance per hour at time $ t $ of date $ d $  "
   ]
  },
  {
   "cell_type": "code",
   "execution_count": null,
   "metadata": {},
   "outputs": [],
   "source": [
    "# 1日当たりの台所水栓における太陽熱補正給湯熱負荷 (MJ/d)\n",
    "def get_L_dashdash_k_d(L_dashdash_k_d_t):\n",
    "    \"\"\"\n",
    "    :param L_dashdash_k_d_t: 1時間当たりの台所水栓における太陽熱補正給湯熱負荷 (MJ/h)\n",
    "    :return: 1日当たりの台所水栓における太陽熱補正給湯熱負荷 (MJ/d)\n",
    "    \"\"\"\n",
    "    return np.sum(L_dashdash_k_d_t.reshape((365, 24)), axis=1)\n",
    "\n",
    "\n",
    "# 1日当たりの浴室シャワー水栓における太陽熱補正給湯負荷 (MJ/d)\n",
    "def get_L_dashdash_s_d(L_dashdash_s_d_t):\n",
    "    \"\"\"\n",
    "    :param L_dashdash_s_d_t: 1時間当たりの浴室シャワー水栓における太陽熱補正給湯負荷 (MJ/h)\n",
    "    :return: 1日当たりの浴室シャワー水栓における太陽熱補正給湯負荷 (MJ/d)\n",
    "    \"\"\"\n",
    "    return np.sum(L_dashdash_s_d_t.reshape((365, 24)), axis=1)\n",
    "\n",
    "\n",
    "# 1日当たりの洗面水栓における太陽熱補正給湯負荷 (MJ/d)\n",
    "def get_L_dashdash_w_d(L_dashdash_w_d_t):\n",
    "    \"\"\"\n",
    "    :param L_dashdash_w_d_t: 1時間当たりの洗面水栓における太陽熱補正給湯負荷 (MJ/h)\n",
    "    :return: 1日当たりの洗面水栓における太陽熱補正給湯負荷 (MJ/d)\n",
    "    \"\"\"\n",
    "    return np.sum(L_dashdash_w_d_t.reshape((365, 24)), axis=1)\n",
    "\n",
    "\n",
    "# 1日当たりの浴槽水栓湯はり時における太陽熱補正給湯負荷 (MJ/d)\n",
    "def get_L_dashdash_b1_d(L_dashdash_b1_d_t):\n",
    "    \"\"\"\n",
    "    :param L_dashdash_b1_d_t: 1時間当たりの浴槽水栓湯はり時における太陽熱補正給湯負荷 (MJ/h)\n",
    "    :return: 1日当たりの浴槽水栓湯はり時における太陽熱補正給湯負荷 (MJ/d)\n",
    "    \"\"\"\n",
    "    return np.sum(L_dashdash_b1_d_t.reshape((365, 24)), axis=1)\n",
    "\n",
    "\n",
    "# 1日当たりの浴槽自動湯はり時における太陽熱補正給湯負荷 (MJ/d)\n",
    "def get_L_dashdash_b2_d(L_dashdash_b2_d_t):\n",
    "    \"\"\"\n",
    "    :param L_dashdash_b2_d_t: 1時間当たりの浴槽自動湯はり時における太陽熱補正給湯負荷 (MJ/h)\n",
    "    :return: 1日当たりの浴槽自動湯はり時における太陽熱補正給湯負荷 (MJ/d)\n",
    "    \"\"\"\n",
    "    return np.sum(L_dashdash_b2_d_t.reshape((365, 24)), axis=1)\n",
    "\n",
    "\n",
    "# 1日当たりの浴槽水栓さし湯時における太陽熱補正給湯負荷 (MJ/d)\n",
    "def get_L_dashdash_ba1_d(L_dashdash_ba1_d_t):\n",
    "    \"\"\"\n",
    "    :param L_dashdash_ba1_d_t: 1時間当たりの浴槽水栓さし湯時における太陽熱補正給湯負荷 (MJ/h)\n",
    "    :return: 1日当たりの浴槽水栓さし湯時における太陽熱補正給湯負荷 (MJ/d)\n",
    "    \"\"\"\n",
    "    return np.sum(L_dashdash_ba1_d_t.reshape((365, 24)), axis=1)\n",
    "\n",
    "\n",
    "# 1日当たりの浴槽追焚時における太陽熱補正給湯負荷 (MJ/d)\n",
    "def get_L_dashdash_ba2_d(L_dashdash_ba2_d_t):\n",
    "    \"\"\"\n",
    "    :param L_dashdash_ba2_d_t: 1時間当たりの浴槽追焚時における太陽熱補正給湯負荷 (MJ/h)\n",
    "    :return: 1日当たりの浴槽追焚時における太陽熱補正給湯負荷 (MJ/d)\n",
    "    \"\"\"\n",
    "    return np.sum(L_dashdash_ba2_d_t.reshape((365, 24)), axis=1)\n"
   ]
  }
 ],
 "metadata": {
  "kernelspec": {
   "display_name": "Python 3",
   "language": "python",
   "name": "python3"
  },
  "language_info": {
   "codemirror_mode": {
    "name": "ipython",
    "version": 3
   },
   "file_extension": ".py",
   "mimetype": "text/x-python",
   "name": "python",
   "nbconvert_exporter": "python",
   "pygments_lexer": "ipython3",
   "version": "3.6.6"
  }
 },
 "nbformat": 4,
 "nbformat_minor": 2
}
