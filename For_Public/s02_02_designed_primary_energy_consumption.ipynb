{
 "cells": [
  {
   "cell_type": "markdown",
   "metadata": {},
   "source": [
    "# 第二章　単位住戸の一次エネルギー消費量"
   ]
  },
  {
   "cell_type": "markdown",
   "metadata": {},
   "source": [
    "## 第二節　設計一次エネルギー消費量"
   ]
  },
  {
   "cell_type": "markdown",
   "metadata": {},
   "source": [
    "1．適用範囲～4．記号及び単位は省略"
   ]
  },
  {
   "cell_type": "markdown",
   "metadata": {},
   "source": [
    "### 5．設計一次エネルギー消費量"
   ]
  },
  {
   "cell_type": "markdown",
   "metadata": {},
   "source": [
    "$$\n",
    "\\large \n",
    "E_{T}^* = E_{H} + E_{C} + E_{V} + E_{L} + E_{W} - E_{S} + E_{M}\n",
    "$$"
   ]
  },
  {
   "cell_type": "markdown",
   "metadata": {},
   "source": [
    "$E_{T}^*$：1 年当たりの設計一次エネルギー消費量(MJ/年)  \n",
    "$E_{H}$：1 年当たりの暖房設備の設計一次エネルギー消費量(MJ/年)  \n",
    "$E_{C}$：1 年当たりの冷房設備の設計一次エネルギー消費量(MJ/年)  \n",
    "$E_{V}$：1 年当たりの機械換気設備の設計一次エネルギー消費量(MJ/年)  \n",
    "$E_{L}$：1 年当たりの照明設備の設計一次エネルギー消費量(MJ/年)  \n",
    "$E_{W}$：1 年当たりの給湯設備（コージェネレーション設備を含む）の設計一次エネルギー消費量(MJ/年)  \n",
    "$E_{S}$：1 年当たりのエネルギー利用効率化設備による設計一次エネルギー消費量の削減量(MJ/年)  \n",
    "$E_{M}$：1 年当たりのその他の設計一次エネルギー消費量(MJ/年)  "
   ]
  },
  {
   "cell_type": "markdown",
   "metadata": {},
   "source": [
    "### 6．暖房設備の設計一次エネルギー消費量"
   ]
  },
  {
   "cell_type": "markdown",
   "metadata": {},
   "source": [
    "$$\n",
    "\\large E_H = \\sum_{d=1}^{365}{\\sum_{t=0}^{23}{E_{H,d,t} }}\n",
    "$$"
   ]
  },
  {
   "cell_type": "markdown",
   "metadata": {},
   "source": [
    "$E_{H,d,t}$：日付$d$の時刻$t$における1 年当たりの暖房設備の設計一次エネルギー消費量(MJ/h)  "
   ]
  },
  {
   "cell_type": "markdown",
   "metadata": {},
   "source": [
    "日付$d$の時刻$t$における1 時間当たりの暖房設備の設計一次エネルギー消費量$E_{H,d,t}$は、地域の区分が 8 地域の場合は0とする。"
   ]
  },
  {
   "cell_type": "markdown",
   "metadata": {},
   "source": [
    "$$\n",
    "\\large \n",
    "E_{H,d,t} = E_{E,H,d,t} \\times f_{prim} \\times 10^{-3} + E_{G,H,d,t} + E_{K,H,d,t} + E_{M,H,d,t} + E_{UT,H,d,t}\n",
    "$$"
   ]
  },
  {
   "cell_type": "markdown",
   "metadata": {},
   "source": [
    "$E_{E,H,d,t}$：日付$d$の時刻$t$における1時間当たりの暖房設備の消費電力量(kWh/h)  \n",
    "$f_{prim}$：電気の量 1kWh を熱量に換算する係数（第二章第一節付録 B）(kJ/kWh)  \n",
    "$E_{G,H,d,t}$：日付$d$の時刻$t$における1時間当たりの暖房設備のガス消費量(MJ/h)  \n",
    "$E_{K,H,d,t}$：日付$d$の時刻$t$における1時間当たりの暖房設備の灯油消費量(MJ/h)  \n",
    "$E_{M,H,d,t}$：日付$d$の時刻$t$における1時間当たりの暖房設備のその他の燃料による一次エネルギー消費量(MJ/h)  \n",
    "$E_{UT,H,d,t}$：日付$d$の時刻$t$における1時間当たりの暖房設備の未処理暖房負荷の設計一次エネルギー消費量相当値(MJ/h)  "
   ]
  },
  {
   "cell_type": "markdown",
   "metadata": {},
   "source": [
    "### 7．冷房設備の設計一次エネルギー消費量"
   ]
  },
  {
   "cell_type": "markdown",
   "metadata": {},
   "source": [
    "$$\n",
    "\\large E_C = \\sum_{d=1}^{365}{\\sum_{t=0}^{23}{E_{C,d,t} }}\n",
    "$$"
   ]
  },
  {
   "cell_type": "markdown",
   "metadata": {},
   "source": [
    "$E_{C,d,t}$：日付$d$の時刻$t$における1 年当たりの冷房設備の設計一次エネルギー消費量(MJ/h)  "
   ]
  },
  {
   "cell_type": "markdown",
   "metadata": {},
   "source": [
    "$$\n",
    "\\large \n",
    "E_{C,d,t} = E_{E,C,d,t} \\times f_{prim} \\times 10^{-3} + E_{G,C,d,t} + E_{K,C,d,t} + E_{M,C,d,t}\n",
    "$$"
   ]
  },
  {
   "cell_type": "markdown",
   "metadata": {},
   "source": [
    "$E_{E,C,d,t}$：日付$d$の時刻$t$における1時間当たりの冷房設備の消費電力量(kWh/h)  \n",
    "$f_{prim}$：電気の量1kWhを熱量に換算する係数（第二章第一節付録 B）(kJ/kWh)  \n",
    "$E_{G,C,d,t}$：日付$d$の時刻$t$における1時間当たりの冷房設備のガス消費量(MJ/h)  \n",
    "$E_{K,C,d,t}$：日付$d$の時刻$t$における1時間当たりの冷房設備の灯油消費量(MJ/h)  \n",
    "$E_{M,C,d,t}$：日付$d$の時刻$t$における1時間当たりの冷房設備のその他の燃料による一次エネルギー消費量(MJ/h)  "
   ]
  },
  {
   "cell_type": "markdown",
   "metadata": {},
   "source": [
    "### 8．機械換気設備の設計一次エネルギー消費量"
   ]
  },
  {
   "cell_type": "markdown",
   "metadata": {},
   "source": [
    "$$\n",
    "\\large E_V = \\sum_{d=1}^{365}{\\sum_{t=0}^{23}{E_{E,V,d,t} \\times f_{prim} \\times 10^{-3} }}\n",
    "$$"
   ]
  },
  {
   "cell_type": "markdown",
   "metadata": {},
   "source": [
    "$E_{E,V,d,t}$：日付$d$の時刻$t$における1時間当たりの機械換気設備の消費電力量(kWh/h)  \n",
    "$f_{prim}$：電気の量 1kWh を熱量に換算する係数（第二章第一節付録 B）(kJ/kWh)  "
   ]
  },
  {
   "cell_type": "markdown",
   "metadata": {},
   "source": [
    "### 9．照明設備の設計一次エネルギー消費量"
   ]
  },
  {
   "cell_type": "markdown",
   "metadata": {},
   "source": [
    "$$\n",
    "\\large E_L = \\sum_{d=1}^{365}{\\sum_{t=0}^{23}{E_{E,L,d,t} \\times f_{prim} \\times 10^{-3} }}\n",
    "$$"
   ]
  },
  {
   "cell_type": "markdown",
   "metadata": {},
   "source": [
    "$E_{E,L,d,t}$：日付$d$の時刻$t$における1時間当たりの照明設備の消費電力量(kWh/h)  "
   ]
  },
  {
   "cell_type": "markdown",
   "metadata": {},
   "source": [
    "### 10．給湯設備及びコージェネレーション設備の設計一次エネルギー消費量"
   ]
  },
  {
   "cell_type": "markdown",
   "metadata": {},
   "source": [
    "$$\n",
    "\\large E_W = {\\sum_{d=1}^{365}{E_{W,d} }}\n",
    "$$\n",
    "\n",
    "$$\n",
    "\\large E_W = {\\sum_{d=1}^{365}{E_{CG,d} }}\n",
    "$$"
   ]
  },
  {
   "cell_type": "markdown",
   "metadata": {},
   "source": [
    "$E_{W,d}$：日付$d$の 1 日当たりの給湯設備の設計一次エネルギー消費量(MJ/日)  \n",
    "$E_{CG,d}$：日付$d$の 1 日当たりのコージェネレーション設備の設計一次エネルギー消費量(MJ/日)  "
   ]
  },
  {
   "cell_type": "markdown",
   "metadata": {},
   "source": [
    "#### 10.1 給湯設備の設計一次エネルギー消費量"
   ]
  },
  {
   "cell_type": "markdown",
   "metadata": {},
   "source": [
    "$$\n",
    "\\large \n",
    "E_{W,d} = E_{E,W,d} \\times f_{prim} \\times 10^{-3} + E_{G,W,d} + E_{K,W,d} + E_{M,W,d}\n",
    "$$"
   ]
  },
  {
   "cell_type": "markdown",
   "metadata": {},
   "source": [
    "$E_{E,W,d}$：日付$d$における1 日当たりの給湯設備の消費電力量(kWh/日)    \n",
    "$f_{prim}$：電気の量 1kWh を熱量に換算する係数（第二章第一節付録 B）(kJ/kWh)  \n",
    "$E_{G,W,d}$：日付$d$における1 日当たりの給湯設備のガス消費量(MJ/日)  \n",
    "$E_{K,W,d}$：日付$d$における1 日当たりの給湯設備の灯油消費量(MJ/日)   \n",
    "$E_{M,W,d}$：日付$d$における1 日当たりの給湯設備のその他の燃料による一次エネルギー消費量(MJ/日)   "
   ]
  },
  {
   "cell_type": "markdown",
   "metadata": {},
   "source": [
    "#### 10.2 コージェネレーション設備の設計一次エネルギー消費量"
   ]
  },
  {
   "cell_type": "markdown",
   "metadata": {},
   "source": [
    "$$\n",
    "\\large \n",
    "E_{CG,d} = E_{G,CG,d} + E_{K,CG,d}\n",
    "$$"
   ]
  },
  {
   "cell_type": "markdown",
   "metadata": {},
   "source": [
    "$E_{G,CG,d}$：日付$d$における1 日当たりのコージェネレーション設備のガス消費量(MJ/日)    \n",
    "$E_{K,CG,d}$：日付$d$における1 日当たりのコージェネレーション設備の灯油消費量(MJ/日)   "
   ]
  },
  {
   "cell_type": "markdown",
   "metadata": {},
   "source": [
    "$$\n",
    "\\large \n",
    "E_{E,dmd,d,t} = E_{E,H,d,t} + E_{E,C,d,t} + E_{E,V,d,t} + E_{E,L,d,t} + E_{E,AP,d,t}\n",
    "$$"
   ]
  },
  {
   "cell_type": "markdown",
   "metadata": {},
   "source": [
    "$E_{E,dmd,d,t}$：日付$d$の時刻$t$における1 時間当たりの電力需要(kWh/h)    \n",
    "$E_{E,H,d,t}$：日付$d$の時刻$t$における1 時間当たりの暖房設備の消費電力量(kWh/h)    \n",
    "$E_{E,C,d,t}$：日付$d$の時刻$t$における1 時間当たりの冷房設備の消費電力量(kWh/h)    \n",
    "$E_{E,V,d,t}$：日付$d$の時刻$t$における1 時間当たりの機械換気設備の消費電力量(kWh/h)    \n",
    "$E_{E,L,d,t}$：日付$d$の時刻$t$における1 時間当たりの照明設備の消費電力量(kWh/h)    \n",
    "$E_{E,AP,d,t}$：日付$d$の時刻$t$における1 時間当たりの家電の消費電力量(kWh/h)    "
   ]
  },
  {
   "cell_type": "markdown",
   "metadata": {},
   "source": [
    "### 11．その他の設計一次エネルギー消費量"
   ]
  },
  {
   "cell_type": "markdown",
   "metadata": {},
   "source": [
    "$$\n",
    "\\large E_M = \\sum_{d=1}^{365}{\\sum_{t=0}^{23}{(E_{AP,d,t} + E_{CC,d,t})}}\n",
    "$$"
   ]
  },
  {
   "cell_type": "markdown",
   "metadata": {},
   "source": [
    "$E_{AP,d,t}$：日付$d$の時刻$t$における1 時間当たりの家電の設計一次エネルギー消費量(MJ/h)   \n",
    "$E_{CC,d,t}$：日付$d$の時刻$t$における1 時間当たりの調理の設計一次エネルギー消費量(MJ/h)   "
   ]
  },
  {
   "cell_type": "markdown",
   "metadata": {},
   "source": [
    "#### 11.1 家電の設計一次エネルギー消費量"
   ]
  },
  {
   "cell_type": "markdown",
   "metadata": {},
   "source": [
    "$$\n",
    "\\large \n",
    "E_{AP,d,t} = E_{E,AP,d,t} \\times f_{prim} \\times 10^{-3} + E_{G,AP,d,t} + E_{K,AP,d,t} + E_{M,AP,d,t}\n",
    "$$"
   ]
  },
  {
   "cell_type": "markdown",
   "metadata": {},
   "source": [
    "$E_{E,AP,d,t}$：日付$d$の時刻$t$における1 時間当たりの家電の消費電力量(kWh/h)    \n",
    "$f_{prim}$：電気の量 1kWh を熱量に換算する係数（第二章第一節付録 B）(kJ/kWh)  \n",
    "$E_{G,AP,d,t}$：日付$d$の時刻$t$における1 時間当たりの家電のガス消費量(MJ/h)  \n",
    "$E_{K,AP,d,t}$：日付$d$の時刻$t$における1 時間当たりの家電の灯油消費量(MJ/h)   \n",
    "$E_{M,AP,d,t}$：日付$d$の時刻$t$における1 時間当たりの家電のその他の燃料による一次エネルギー消費量(MJ/h)   "
   ]
  },
  {
   "cell_type": "markdown",
   "metadata": {},
   "source": [
    "#### 11.2 調理の設計一次エネルギー消費量"
   ]
  },
  {
   "cell_type": "markdown",
   "metadata": {},
   "source": [
    "$$\n",
    "\\large \n",
    "E_{CC,d,t} = E_{E,CC,d,t} \\times f_{prim} \\times 10^{-3} + E_{G,CC,d,t} + E_{K,CC,d,t} + E_{M,CC,d,t}\n",
    "$$"
   ]
  },
  {
   "cell_type": "markdown",
   "metadata": {},
   "source": [
    "$E_{E,CC,d,t}$：日付$d$の時刻$t$における1 時間当たりの調理の消費電力量(kWh/h)    \n",
    "$f_{prim}$：電気の量 1kWh を熱量に換算する係数（第二章第一節付録 B）(kJ/kWh)  \n",
    "$E_{G,CC,d,t}$：日付$d$の時刻$t$における1 時間当たりの調理のガス消費量(MJ/h)  \n",
    "$E_{K,CC,d,t}$：日付$d$の時刻$t$における1 時間当たりの調理の灯油消費量(MJ/h)   \n",
    "$E_{M,CC,d,t}$：日付$d$の時刻$t$における1 時間当たりの調理のその他の燃料による一次エネルギー消費量(MJ/h)   "
   ]
  },
  {
   "cell_type": "markdown",
   "metadata": {},
   "source": [
    "### 12．エネルギー利用効率化設備による設計一次エネルギー消費量の削減量"
   ]
  },
  {
   "cell_type": "markdown",
   "metadata": {},
   "source": [
    "$$\n",
    "\\large E_S = \\sum_{d=1}^{365}{\\sum_{t=0}^{23}{(E_{E,PV,h,d,t} + E_{E,CG,gen,d,t}) \\times f_{prim} \\times 10^{-3} }}\n",
    "$$"
   ]
  },
  {
   "cell_type": "markdown",
   "metadata": {},
   "source": [
    "$E_{E,PV,h,d,t}$：日付$d$の時刻$t$における1 時間当たりの太陽光発電設備による消費電力削減量(kWh/h)   \n",
    "$E_{E,CG,gen,d,t}$：日付$d$の時刻$t$における1 時間当たりのコージェネレーション設備による発電量(kWh/h)   "
   ]
  },
  {
   "cell_type": "markdown",
   "metadata": {},
   "source": [
    "#### 12.1 太陽光発電設備による消費電力削減量"
   ]
  },
  {
   "cell_type": "markdown",
   "metadata": {},
   "source": [
    "$$\n",
    "\\large \n",
    "E_{E,PV,h,d,t} = min(E_{E,PV,d,t}, E_{E,dmd,d,t} - E_{E,CG,gen,d,t})\n",
    "$$"
   ]
  },
  {
   "cell_type": "markdown",
   "metadata": {},
   "source": [
    "$E_{E,PV,h,d,t}$：日付$d$の時刻$t$における1 時間当たりの太陽光発電設備による消費電力削減量(kWh/h)    \n",
    "$E_{E,PV,d,t}$：日付$d$の時刻$t$における1 時間当たりの太陽光発電設備による発電量(kWh/h)  \n",
    "$E_{E,dmd,d,t}$：日付$d$の時刻$t$における1 時間当たりの電力需要(kWh/h)   \n",
    "$E_{E,CG,gen,d,t}$：日付$d$の時刻$t$における1 時間当たりのコージェネレーション設備による発電量(kWh/h)   "
   ]
  },
  {
   "cell_type": "markdown",
   "metadata": {},
   "source": [
    "#### 12.2 コージェネレーション設備による発電量"
   ]
  },
  {
   "cell_type": "markdown",
   "metadata": {},
   "source": [
    "省略"
   ]
  },
  {
   "cell_type": "markdown",
   "metadata": {},
   "source": [
    "#### 12.3 太陽光発電設備による売電量（参考） "
   ]
  },
  {
   "cell_type": "markdown",
   "metadata": {},
   "source": [
    "$$\n",
    "\\large \n",
    "E_{PV,sell} = \\sum_{d=1}^{365}{\\sum_{t=0}^{23}{E_{E,PV,sell,d,t} \\times f_{prim} \\times 10^{-3} }}\n",
    "$$"
   ]
  },
  {
   "cell_type": "markdown",
   "metadata": {},
   "source": [
    "$E_{PV,sell}$：1 年当たりの太陽光発電設備による売電量（一次エネルギー）(MJ/年)   \n",
    "$E_{E,PV,sell,d,t}$：日付$d$の時刻$t$における1 時間当たりの太陽光発電設備による売電量（二次エネルギー）(kWh/h)   \n",
    "$f_{prim}$：電気の量 1kWh を熱量に換算する係数（第二章第一節付録 B）(kJ/kWh)  "
   ]
  },
  {
   "cell_type": "markdown",
   "metadata": {},
   "source": [
    "$$\n",
    "\\large \n",
    "E_{E,PV,sell,d,t} = E_{E,PV,d,t} - E_{E,PV,h,d,t}\n",
    "$$"
   ]
  },
  {
   "cell_type": "markdown",
   "metadata": {},
   "source": [
    "### 13．設計二次エネルギー消費量"
   ]
  },
  {
   "cell_type": "markdown",
   "metadata": {},
   "source": [
    "$$\n",
    "\\displaystyle E_E = \\sum_{d=1}^{365}{\\sum_{t=0}^{23}{E_{E,H,d,t} }} + \\sum_{d=1}^{365}{\\sum_{t=0}^{23}{E_{E,C,d,t} }} + \\sum_{d=1}^{365}{\\sum_{t=0}^{23}{E_{E,V,d,t} }} + \\sum_{d=1}^{365}{\\sum_{t=0}^{23}{E_{E,L,d,t} }} + \\sum_{d=1}^{365}{\\sum_{t=0}^{23}{E_{E,W,d} }} + \\sum_{d=1}^{365}{\\sum_{t=0}^{23}{E_{E,AP,d,t} }} + \\sum_{d=1}^{365}{\\sum_{t=0}^{23}{E_{E,CC,d,t} }} - \\sum_{d=1}^{365}{\\sum_{t=0}^{23}{E_{E,PV,h,d,t} }} - \\sum_{d=1}^{365}{\\sum_{t=0}^{23}{E_{E,CG,gen,d,t} }}\n",
    "$$"
   ]
  },
  {
   "cell_type": "markdown",
   "metadata": {},
   "source": [
    "$E_{E}$：1 年当たりの設計消費電力量(kWh/年)   \n",
    "$E_{E,H,d,t}$：日付$d$の時刻$t$における1 時間当たりの暖房設備の消費電力量(kWh/h)    \n",
    "$E_{E,C,d,t}$：日付$d$の時刻$t$における1 時間当たりの冷房設備の消費電力量(kWh/h)    \n",
    "$E_{E,V,d,t}$：日付$d$の時刻$t$における1 時間当たりの機械換気設備の消費電力量(kWh/h)    \n",
    "$E_{E,L,d,t}$：日付$d$の時刻$t$における1 時間当たりの照明設備の消費電力量(kWh/h)    \n",
    "$E_{E,W,d}$：日付$d$における1 日当たりの給湯設備の消費電力量(kWh/日)    \n",
    "$E_{E,AP,d,t}$：日付$d$の時刻$t$における1 時間当たりの家電の消費電力量(kWh/h)    \n",
    "$E_{E,CC,d,t}$：日付$d$の時刻$t$における1 時間当たりの調理の消費電力量(kWh/h)    \n",
    "$E_{E,PV,h,d,t}$：日付$d$の時刻$t$における1 時間当たりの太陽光発電設備による消費電力削減量(kWh/h)    \n",
    "$E_{E,CG,gen,d,t}$：日付$d$の時刻$t$における1 時間当たりのコージェネレーション設備による発電量(kWh/h)   "
   ]
  },
  {
   "cell_type": "markdown",
   "metadata": {},
   "source": [
    "1 年当たりの設計消費電力量$E_{E}$は、数値に小数点以下一位未満の端数があるときは、これを四捨五入する。 "
   ]
  },
  {
   "cell_type": "markdown",
   "metadata": {},
   "source": [
    "$$\n",
    "\\displaystyle E_{G} = \\sum_{d=1}^{365}{\\sum_{t=0}^{23}{E_{G,H,d,t} }} + \\sum_{d=1}^{365}{\\sum_{t=0}^{23}{E_{G,C,d,t} }} + \\sum_{d=1}^{365}{\\sum_{t=0}^{23}{E_{G,W,d} }} + \\sum_{d=1}^{365}{\\sum_{t=0}^{23}{E_{G,CG,d} }} + \\sum_{d=1}^{365}{\\sum_{t=0}^{23}{E_{G,AP,d,t} }} + \\sum_{d=1}^{365}{\\sum_{t=0}^{23}{E_{G,CC,d,t} }}\n",
    "$$"
   ]
  },
  {
   "cell_type": "markdown",
   "metadata": {},
   "source": [
    "$E_{G}$：1 年当たりの設計ガス消費量(MJ/年)   \n",
    "$E_{G,H,d,t}$：日付$d$の時刻$t$における1 時間当たりの暖房設備のガス消費量(MJ/h)    \n",
    "$E_{G,C,d,t}$：日付$d$の時刻$t$における1 時間当たりの冷房設備のガス消費量(MJ/h)    \n",
    "$E_{G,W,d}$：日付$d$における1 日当たりの給湯設備のガス消費量(MJ/日)    \n",
    "$E_{G,CG,d}$：日付$d$における1 日当たりのコージェネレーション設備のガス消費量(MJ/日)    \n",
    "$E_{G,AP,d,t}$：日付$d$の時刻$t$における1 時間当たりの家電のガス消費量(MJ/h)    \n",
    "$E_{G,CC,d,t}$：日付$d$の時刻$t$における1 時間当たりの調理のガス消費量(MJ/h)    "
   ]
  },
  {
   "cell_type": "markdown",
   "metadata": {},
   "source": [
    "1 年当たりの設計ガス消費量$E_{G}$は、数値に小数点以下一位未満の端数があるときは、これを四捨五入する。 "
   ]
  },
  {
   "cell_type": "markdown",
   "metadata": {},
   "source": [
    "$$\n",
    "\\large E_{K} = \\sum_{d=1}^{365}{\\sum_{t=0}^{23}{E_{K,H,d,t} }} + \\sum_{d=1}^{365}{\\sum_{t=0}^{23}{E_{K,C,d,t} }} + \\sum_{d=1}^{365}{\\sum_{t=0}^{23}{E_{K,W,d} }} + \\sum_{d=1}^{365}{\\sum_{t=0}^{23}{E_{K,CG,d} }} + \\sum_{d=1}^{365}{\\sum_{t=0}^{23}{E_{K,AP,d,t} }} + \\sum_{d=1}^{365}{\\sum_{t=0}^{23}{E_{K,CC,d,t} }}\n",
    "$$"
   ]
  },
  {
   "cell_type": "markdown",
   "metadata": {},
   "source": [
    "$E_{K}$：1 年当たりの設計灯油消費量(MJ/年)   \n",
    "$E_{K,H,d,t}$：日付$d$の時刻$t$における1 時間当たりの暖房設備の灯油消費量(MJ/h)    \n",
    "$E_{K,C,d,t}$：日付$d$の時刻$t$における1 時間当たりの冷房設備の灯油消費量(MJ/h)    \n",
    "$E_{K,W,d}$：日付$d$における1 日当たりの給湯設備の灯油消費量(MJ/日)    \n",
    "$E_{K,CG,d}$：日付$d$における1 日当たりのコージェネレーション設備の灯油消費量(MJ/日)    \n",
    "$E_{K,AP,d,t}$：日付$d$の時刻$t$における1 時間当たりの家電の灯油消費量(MJ/h)    \n",
    "$E_{K,CC,d,t}$：日付$d$の時刻$t$における1 時間当たりの調理の灯油消費量(MJ/h)    "
   ]
  },
  {
   "cell_type": "markdown",
   "metadata": {},
   "source": [
    "1 年当たりの設計灯油消費量$E_{K}$は、数値に小数点以下一位未満の端数があるときは、これを四捨五入する。 "
   ]
  },
  {
   "cell_type": "markdown",
   "metadata": {},
   "source": [
    "$$\n",
    "\\large E_{UT,H} = \\sum_{d=1}^{365}{\\sum_{t=0}^{23}{E_{UT,H,d,t} }}\n",
    "$$"
   ]
  },
  {
   "cell_type": "markdown",
   "metadata": {},
   "source": [
    "$E_{UT,H}$：1 年当たりの未処理暖房負荷の設計一次エネルギー消費量相当値(MJ/年)   \n",
    "$E_{UT,H,d,t}$：日付$d$の時刻$t$における1 時間当たりの暖房設備の未処理暖房負荷の設計一次エネルギー消費量相当値(MJ/h)    "
   ]
  },
  {
   "cell_type": "markdown",
   "metadata": {},
   "source": [
    "1 年当たりの未処理暖房負荷の設計一次エネルギー消費量相当値$E_{UT,H}$は、数値に小数点以下一位未満の端数があるときは、これを四捨五入する。 "
   ]
  }
 ],
 "metadata": {
  "kernelspec": {
   "display_name": "Python 3",
   "language": "python",
   "name": "python3"
  },
  "language_info": {
   "codemirror_mode": {
    "name": "ipython",
    "version": 3
   },
   "file_extension": ".py",
   "mimetype": "text/x-python",
   "name": "python",
   "nbconvert_exporter": "python",
   "pygments_lexer": "ipython3",
   "version": "3.6.7"
  }
 },
 "nbformat": 4,
 "nbformat_minor": 2
}
