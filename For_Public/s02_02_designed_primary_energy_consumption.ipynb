{
 "cells": [
  {
   "cell_type": "markdown",
   "metadata": {},
   "source": [
    "# 第二章　単位住戸の一次エネルギー消費量"
   ]
  },
  {
   "cell_type": "markdown",
   "metadata": {},
   "source": [
    "## 第二節　設計一次エネルギー消費量"
   ]
  },
  {
   "cell_type": "markdown",
   "metadata": {},
   "source": [
    "1．適用範囲～4．記号及び単位は省略"
   ]
  },
  {
   "cell_type": "markdown",
   "metadata": {},
   "source": [
    "### 5．設計一次エネルギー消費量"
   ]
  },
  {
   "cell_type": "markdown",
   "metadata": {},
   "source": [
    "$$\n",
    "\\large \n",
    "E_{T}^* = E_{H} + E_{C} + E_{V} + E_{L} + E_{W} - E_{S} + E_{M}\n",
    "$$"
   ]
  },
  {
   "cell_type": "markdown",
   "metadata": {},
   "source": [
    "$E_{T}^*$：1 年当たりの設計一次エネルギー消費量(MJ/年)  \n",
    "$E_{H}$：1 年当たりの暖房設備の設計一次エネルギー消費量(MJ/年)  \n",
    "$E_{C}$：1 年当たりの冷房設備の設計一次エネルギー消費量(MJ/年)  \n",
    "$E_{V}$：1 年当たりの機械換気設備の設計一次エネルギー消費量(MJ/年)  \n",
    "$E_{L}$：1 年当たりの照明設備の設計一次エネルギー消費量(MJ/年)  \n",
    "$E_{W}$：1 年当たりの給湯設備（コージェネレーション設備を含む）の設計一次エネルギー消費量(MJ/年)  \n",
    "$E_{S}$：1 年当たりのエネルギー利用効率化設備による設計一次エネルギー消費量の削減量(MJ/年)  \n",
    "$E_{M}$：1 年当たりのその他の設計一次エネルギー消費量(MJ/年)  "
   ]
  },
  {
   "cell_type": "markdown",
   "metadata": {},
   "source": [
    "### 6．暖房設備の設計一次エネルギー消費量"
   ]
  },
  {
   "cell_type": "markdown",
   "metadata": {},
   "source": [
    "$$\n",
    "\\large E_H = \\sum_{d=1}^{365}{\\sum_{t=0}^{23}{E_{H,d,t} }}\n",
    "$$"
   ]
  },
  {
   "cell_type": "markdown",
   "metadata": {},
   "source": [
    "$E_{H}$：1 年当たりの暖房設備の設計一次エネルギー消費量(MJ/年)  \n",
    "$E_{H,d,t}$：日付$d$の時刻$t$における1時間当たりの暖房設備の設計一次エネルギー消費量(MJ/h)  "
   ]
  },
  {
   "cell_type": "markdown",
   "metadata": {},
   "source": [
    "日付$d$の時刻$t$における1 時間当たりの暖房設備の設計一次エネルギー消費量$E_{H,d,t}$は、地域の区分が 8 地域の場合は0とする。"
   ]
  },
  {
   "cell_type": "markdown",
   "metadata": {},
   "source": [
    "$$\n",
    "\\large \n",
    "E_{H,d,t} = E_{E,H,d,t} \\times f_{prim} \\times 10^{-3} + E_{G,H,d,t} + E_{K,H,d,t} + E_{M,H,d,t} + E_{UT,H,d,t}\n",
    "$$"
   ]
  },
  {
   "cell_type": "markdown",
   "metadata": {},
   "source": [
    "$E_{E,H,d,t}$：日付$d$の時刻$t$における1時間当たりの暖房設備の消費電力量(kWh/h)  \n",
    "$f_{prim}$：電気の量 1kWh を熱量に換算する係数（第二章第一節付録 B）(kJ/kWh)  \n",
    "$E_{G,H,d,t}$：日付$d$の時刻$t$における1時間当たりの暖房設備のガス消費量(MJ/h)  \n",
    "$E_{H,d,t}$：日付$d$の時刻$t$における1時間当たりの暖房設備の設計一次エネルギー消費量(MJ/h)  \n",
    "$E_{K,H,d,t}$：日付$d$の時刻$t$における1時間当たりの暖房設備の灯油消費量(MJ/h)  \n",
    "$E_{M,H,d,t}$：日付$d$の時刻$t$における1時間当たりの暖房設備のその他の燃料による一次エネルギー消費量(MJ/h)  \n",
    "$E_{UT,H,d,t}$：日付$d$の時刻$t$における1時間当たりの暖房設備の未処理暖房負荷の設計一次エネルギー消費量相当値(MJ/h)  "
   ]
  },
  {
   "cell_type": "markdown",
   "metadata": {},
   "source": [
    "### 7．冷房設備の設計一次エネルギー消費量"
   ]
  },
  {
   "cell_type": "markdown",
   "metadata": {},
   "source": [
    "$$\n",
    "\\large E_C = \\sum_{d=1}^{365}{\\sum_{t=0}^{23}{E_{C,d,t} }}\n",
    "$$"
   ]
  },
  {
   "cell_type": "markdown",
   "metadata": {},
   "source": [
    "$E_{C}$：1年当たりの冷房設備の設計一次エネルギー消費量(MJ/年)  \n",
    "$E_{C,d,t}$：日付$d$の時刻$t$における1時間当たりの冷房設備の設計一次エネルギー消費量(MJ/h)  "
   ]
  },
  {
   "cell_type": "markdown",
   "metadata": {},
   "source": [
    "$$\n",
    "\\large \n",
    "E_{C,d,t} = E_{E,C,d,t} \\times f_{prim} \\times 10^{-3} + E_{G,C,d,t} + E_{K,C,d,t} + E_{M,C,d,t}\n",
    "$$"
   ]
  },
  {
   "cell_type": "markdown",
   "metadata": {},
   "source": [
    "$E_{C,d,t}$：日付$d$の時刻$t$における1時間当たりの冷房設備の設計一次エネルギー消費量(MJ/h)  \n",
    "$E_{E,C,d,t}$：日付$d$の時刻$t$における1時間当たりの冷房設備の消費電力量(kWh/h)  \n",
    "$E_{G,C,d,t}$：日付$d$の時刻$t$における1時間当たりの冷房設備のガス消費量(MJ/h)  \n",
    "$E_{K,C,d,t}$：日付$d$の時刻$t$における1時間当たりの冷房設備の灯油消費量(MJ/h)  \n",
    "$E_{M,C,d,t}$：日付$d$の時刻$t$における1時間当たりの冷房設備のその他の燃料による一次エネルギー消費量(MJ/h)  \n",
    "$f_{prim}$：電気の量1kWhを熱量に換算する係数（第二章第一節付録 B）(kJ/kWh)  "
   ]
  },
  {
   "cell_type": "markdown",
   "metadata": {},
   "source": [
    "### 8．機械換気設備の設計一次エネルギー消費量"
   ]
  },
  {
   "cell_type": "markdown",
   "metadata": {},
   "source": [
    "$$\n",
    "\\large E_V = \\sum_{d=1}^{365}{\\sum_{t=0}^{23}{E_{E,V,d,t} \\times f_{prim} \\times 10^{-3} }}\n",
    "$$"
   ]
  },
  {
   "cell_type": "markdown",
   "metadata": {},
   "source": [
    "$E_{E,V,d,t}$：日付$d$の時刻$t$における1時間当たりの機械換気設備の消費電力量(kWh/h)  \n",
    "$E_{V}$：1年当たりの機械換気設備の設計一次エネルギー消費量(MJ/年)  \n",
    "$f_{prim}$：電気の量 1kWh を熱量に換算する係数（第二章第一節付録 B）(kJ/kWh)  "
   ]
  },
  {
   "cell_type": "markdown",
   "metadata": {},
   "source": [
    "### 9．照明設備の設計一次エネルギー消費量"
   ]
  },
  {
   "cell_type": "markdown",
   "metadata": {},
   "source": [
    "$$\n",
    "\\large E_L = \\sum_{d=1}^{365}{\\sum_{t=0}^{23}{E_{E,L,d,t} \\times f_{prim} \\times 10^{-3} }}\n",
    "$$"
   ]
  },
  {
   "cell_type": "markdown",
   "metadata": {},
   "source": [
    "$E_{E,L,d,t}$：日付$d$の時刻$t$における1時間当たりの照明設備の消費電力量(kWh/h)  \n",
    "$E_{L}$：1年当たりの照明設備の設計一次エネルギー消費量(MJ/年)  \n",
    "$f_{prim}$：電気の量1kWhを熱量に換算する係数（第二章第一節付録 B）(kJ/kWh)  "
   ]
  },
  {
   "cell_type": "markdown",
   "metadata": {},
   "source": [
    "### 10．給湯設備及びコージェネレーション設備の設計一次エネルギー消費量"
   ]
  },
  {
   "cell_type": "markdown",
   "metadata": {},
   "source": [
    "給湯設備がコージェネレーション設備でない場合"
   ]
  },
  {
   "cell_type": "markdown",
   "metadata": {},
   "source": [
    "$$\n",
    "\\large E_W = {\\sum_{d=1}^{365} \\sum_{t=0}^{23} {E_{W,d,t} }}\n",
    "$$"
   ]
  },
  {
   "cell_type": "markdown",
   "metadata": {},
   "source": [
    "給湯設備がコージェネレーション設備の場合"
   ]
  },
  {
   "cell_type": "markdown",
   "metadata": {},
   "source": [
    "$$\n",
    "\\large E_W = {\\sum_{d=1}^{365} \\sum_{t=0}^{23} {E_{CG,d,t} }}\n",
    "$$"
   ]
  },
  {
   "cell_type": "markdown",
   "metadata": {},
   "source": [
    "$E_{W,d,t}$：日付$d$の時刻$t$における1時間当たりの給湯設備の設計一次エネルギー消費量(MJ/h)  \n",
    "$E_{CG,d,t}$：日付$d$の時刻$t$における1時間当たりのコージェネレーション設備の設計一次エネルギー消費量(MJ/h)  \n",
    "$E_{W}$：1年当たりの給湯設備（コージェネレーション設備を含む）の設計一次エネルギー消費量(MJ/年)  "
   ]
  },
  {
   "cell_type": "markdown",
   "metadata": {},
   "source": [
    "#### 10.1 給湯設備の設計一次エネルギー消費量"
   ]
  },
  {
   "cell_type": "markdown",
   "metadata": {},
   "source": [
    "$$\n",
    "\\large \n",
    "E_{W,d,t} = E_{E,W,d,t} \\times f_{prim} \\times 10^{-3} + E_{G,W,d,t} + E_{K,W,d,t} + E_{M,W,d,t}\n",
    "$$"
   ]
  },
  {
   "cell_type": "markdown",
   "metadata": {},
   "source": [
    "$E_{E,W,d,t}$：日付$d$の時刻$t$における1時間当たりの給湯設備の消費電力量(kWh/h)    \n",
    "$E_{G,W,d,t}$：日付$d$の時刻$t$における1時間当たりの給湯設備のガス消費量(MJ/h)  \n",
    "$E_{K,W,d,t}$：日付$d$の時刻$t$における1時間当たりの給湯設備の灯油消費量(MJ/h)   \n",
    "$E_{M,W,d,t}$：日付$d$の時刻$t$における1時間当たりの給湯設備のその他の燃料による一次エネルギー消費量(MJ/h)   \n",
    "$E_{W,d,t}$：日付$d$の時刻$t$における1時間当たりの給湯設備の設計一次エネルギー消費量(MJ/h)  \n",
    "$f_{prim}$：電気の量 1kWh を熱量に換算する係数（第二章第一節付録 B）(kJ/kWh)  "
   ]
  },
  {
   "cell_type": "markdown",
   "metadata": {},
   "source": [
    "#### 10.2 コージェネレーション設備の設計一次エネルギー消費量"
   ]
  },
  {
   "cell_type": "markdown",
   "metadata": {},
   "source": [
    "$$\n",
    "\\large \n",
    "E_{CG,d,t} = E_{G,CG,d,t} + E_{K,CG,d,t}\n",
    "$$"
   ]
  },
  {
   "cell_type": "markdown",
   "metadata": {},
   "source": [
    "$E_{CG,d,t}$：日付$d$の時刻$t$における1時間当たりのコージェネレーション設備の設計一次エネルギー消費量(MJ/h)    \n",
    "$E_{G,CG,d,t}$：日付$d$の時刻$t$における1時間当たりのコージェネレーション設備のガス消費量(MJ/h)    \n",
    "$E_{K,CG,d,t}$：日付$d$の時刻$t$における1時間当たりのコージェネレーション設備の灯油消費量(MJ/h)   "
   ]
  },
  {
   "cell_type": "markdown",
   "metadata": {},
   "source": [
    "### 11．その他の設計一次エネルギー消費量"
   ]
  },
  {
   "cell_type": "markdown",
   "metadata": {},
   "source": [
    "$$\n",
    "\\large E_M = \\sum_{d=1}^{365}{\\sum_{t=0}^{23}{(E_{AP,d,t} + E_{CC,d,t})}}\n",
    "$$"
   ]
  },
  {
   "cell_type": "markdown",
   "metadata": {},
   "source": [
    "$E_{AP,d,t}$：日付$d$の時刻$t$における1 時間当たりの家電の設計一次エネルギー消費量(MJ/h)   \n",
    "$E_{CC,d,t}$：日付$d$の時刻$t$における1 時間当たりの調理の設計一次エネルギー消費量(MJ/h)   \n",
    "$E_{M}$：1 年当たりのその他の設計一次エネルギー消費量(MJ/年)   "
   ]
  },
  {
   "cell_type": "markdown",
   "metadata": {},
   "source": [
    "#### 11.1 家電の設計一次エネルギー消費量"
   ]
  },
  {
   "cell_type": "markdown",
   "metadata": {},
   "source": [
    "$$\n",
    "\\large \n",
    "E_{AP,d,t} = E_{E,AP,d,t} \\times f_{prim} \\times 10^{-3} + E_{G,AP,d,t} + E_{K,AP,d,t} + E_{M,AP,d,t}\n",
    "$$"
   ]
  },
  {
   "cell_type": "markdown",
   "metadata": {},
   "source": [
    "$E_{AP,d,t}$：日付$d$の時刻$t$における1 時間当たりの家電の設計一次エネルギー消費量(MJ/h)    \n",
    "$E_{E,AP,d,t}$：日付$d$の時刻$t$における1 時間当たりの家電の消費電力量(kWh/h)    \n",
    "$E_{G,AP,d,t}$：日付$d$の時刻$t$における1 時間当たりの家電のガス消費量(MJ/h)  \n",
    "$E_{K,AP,d,t}$：日付$d$の時刻$t$における1 時間当たりの家電の灯油消費量(MJ/h)   \n",
    "$E_{M,AP,d,t}$：日付$d$の時刻$t$における1 時間当たりの家電のその他の燃料による一次エネルギー消費量(MJ/h)   \n",
    "$f_{prim}$：電気の量1kWhを熱量に換算する係数（第二章第一節付録 B）(kJ/kWh)  "
   ]
  },
  {
   "cell_type": "markdown",
   "metadata": {},
   "source": [
    "#### 11.2 調理の設計一次エネルギー消費量"
   ]
  },
  {
   "cell_type": "markdown",
   "metadata": {},
   "source": [
    "$$\n",
    "\\large \n",
    "E_{CC,d,t} = E_{E,CC,d,t} \\times f_{prim} \\times 10^{-3} + E_{G,CC,d,t} + E_{K,CC,d,t} + E_{M,CC,d,t}\n",
    "$$"
   ]
  },
  {
   "cell_type": "markdown",
   "metadata": {},
   "source": [
    "$E_{CC,d,t}$：日付$d$の時刻$t$における1 時間当たりの調理の設計一次エネルギー消費量(kWh/h)    \n",
    "$E_{E,CC,d,t}$：日付$d$の時刻$t$における1 時間当たりの調理の消費電力量(kWh/h)    \n",
    "$E_{G,CC,d,t}$：日付$d$の時刻$t$における1 時間当たりの調理のガス消費量(MJ/h)  \n",
    "$E_{K,CC,d,t}$：日付$d$の時刻$t$における1 時間当たりの調理の灯油消費量(MJ/h)   \n",
    "$E_{M,CC,d,t}$：日付$d$の時刻$t$における1 時間当たりの調理のその他の燃料による一次エネルギー消費量(MJ/h)   \n",
    "$f_{prim}$：電気の量1kWhを熱量に換算する係数（第二章第一節付録 B）(kJ/kWh)  "
   ]
  },
  {
   "cell_type": "markdown",
   "metadata": {},
   "source": [
    "### 12．エネルギー利用効率化設備による設計一次エネルギー消費量の削減量"
   ]
  },
  {
   "cell_type": "markdown",
   "metadata": {},
   "source": [
    "$$\n",
    "\\large E_S = E_{S,h} + E_{S,sell}\n",
    "$$"
   ]
  },
  {
   "cell_type": "markdown",
   "metadata": {},
   "source": [
    "$E_S$：1 年当たりのエネルギー利用効率化設備による設計一次エネルギー消費量の削減量(MJ/年)   \n",
    "$E_{S,h}$：1 年当たりのエネルギー利用効率化設備による発電量のうちの自家消費分に係る設計一次エネルギー\n",
    "消費量の削減量(MJ/年)   \n",
    "$E_{S,sell}$：1 年当たりのコージェネレーション設備による売電量に係る設計一次エネルギー消費量の控除量(MJ/年)   "
   ]
  },
  {
   "cell_type": "markdown",
   "metadata": {},
   "source": [
    "$$\n",
    "\\large E_{S,h} = \\sum_{d=1}^{365}{\\sum_{t=0}^{23}{(E_{E,PV,h,d,t} + E_{E,CG,h,d,t}) \\times f_{prim} \\times 10^{-3} }}\n",
    "$$"
   ]
  },
  {
   "cell_type": "markdown",
   "metadata": {},
   "source": [
    "$E_{E,PV,h,d,t}$：日付$d$の時刻$t$における1 時間当たりの太陽光発電設備による発電量のうちの自家消費分(kWh/h)   \n",
    "$E_{E,CG,h,d,t}$：日付$d$の時刻$t$における1 時間当たりのコージェネレーション設備による発電量のうちの自家消費分\n",
    "(kWh/h)   \n",
    "$E_{S,h}$：1 年当たりのエネルギー利用効率化設備による発電量のうちの自家消費分に係る設計一次エネルギー\n",
    "消費量の削減量(MJ/年)   \n",
    "$f_{prim}$：電気の量1kWhを熱量に換算する係数（第二章第一節付録 B）(kJ/kWh)  "
   ]
  },
  {
   "cell_type": "markdown",
   "metadata": {},
   "source": [
    "$$\n",
    "\\large E_{S,sell} = E_{G,CG,sell}\n",
    "$$"
   ]
  },
  {
   "cell_type": "markdown",
   "metadata": {},
   "source": [
    "$E_{S,sell}$：1 年当たりのコージェネレーション設備による売電量に係る設計一次エネルギー消費量の控除量(MJ/年)   \n",
    "$E_{G,CG,sell}$：1 年当たりのコージェネレーション設備による売電量に係るガス消費量の控除量(MJ/年)   "
   ]
  },
  {
   "cell_type": "markdown",
   "metadata": {},
   "source": [
    "#### 12.1 太陽光発電設備による発電量のうちの自家消費分 "
   ]
  },
  {
   "cell_type": "markdown",
   "metadata": {},
   "source": [
    "太陽光発電設備を採用しない場合"
   ]
  },
  {
   "cell_type": "markdown",
   "metadata": {},
   "source": [
    "$$\n",
    "\\large \n",
    "E_{E,PV,h,d,t} = 0\n",
    "$$"
   ]
  },
  {
   "cell_type": "markdown",
   "metadata": {},
   "source": [
    "太陽光発電設備を採用する場合"
   ]
  },
  {
   "cell_type": "markdown",
   "metadata": {},
   "source": [
    "$$\n",
    "\\large \n",
    "E_{E,PV,h,d,t} = min(E_{E,PV,d,t}, E_{E,dmd,d,t} - E_{E,CG,h,d,t})\n",
    "$$"
   ]
  },
  {
   "cell_type": "markdown",
   "metadata": {},
   "source": [
    "$E_{E,PV,h,d,t}$：日付$d$の時刻$t$における1 時間当たりの太陽光発電設備による発電量のうちの自家消費分(kWh/h)    \n",
    "$E_{E,PV,d,t}$：日付$d$の時刻$t$における1 時間当たりの太陽光発電設備による発電量(kWh/h)  \n",
    "$E_{E,dmd,d,t}$：日付$d$の時刻$t$における1 時間当たりの電力需要(kWh/h)   \n",
    "$E_{E,CG,h,d,t}$：日付$d$の時刻$t$における1 時間当たりのコージェネレーション設備による発電量(kWh/h)   "
   ]
  },
  {
   "cell_type": "markdown",
   "metadata": {},
   "source": [
    "#### 12.2 コージェネレーション設備による発電量のうちの自家消費分"
   ]
  },
  {
   "cell_type": "markdown",
   "metadata": {},
   "source": [
    "$$\n",
    "\\large \n",
    "E_{E,CG,h} = \\sum_{d=1}^{365} \\sum_{t=0}^{23} E_{E,CG,h,d,t}\n",
    "$$"
   ]
  },
  {
   "cell_type": "markdown",
   "metadata": {},
   "source": [
    "$E_{E,CG,h}$：1 年当たりのコージェネレーション設備による発電量のうちの自家消費分(kWh/年)    \n",
    "$E_{E,CG,h,d,t}$：日付$d$の時刻$t$における1 時間当たりのコージェネレーション設備による発電量のうちの自家消費分(kWh/h)  "
   ]
  },
  {
   "cell_type": "markdown",
   "metadata": {},
   "source": [
    "コージェネレーション設備を採用しない場合"
   ]
  },
  {
   "cell_type": "markdown",
   "metadata": {},
   "source": [
    "$$\n",
    "\\large \n",
    "E_{E,CG,h,d,t} = 0\n",
    "$$"
   ]
  },
  {
   "cell_type": "markdown",
   "metadata": {},
   "source": [
    "コージェネレーション設備を採用する場合"
   ]
  },
  {
   "cell_type": "markdown",
   "metadata": {},
   "source": [
    "$$\n",
    "\\large \n",
    "E_{E,CG,h,d,t} = min(E_{E,CG,gen,d,t}, E_{E,dmd,d,t})\n",
    "$$"
   ]
  },
  {
   "cell_type": "markdown",
   "metadata": {},
   "source": [
    "$E_{E,CG,h,d,t}$：日付$d$の時刻$t$における1 時間当たりのコージェネレーション設備による発電量のうちの自家消費分(kWh/h)  \n",
    "$E_{E,dmd,d,t}$：日付$d$の時刻$t$における1 時間当たりの電力需要(kWh/h)   \n",
    "$E_{E,CG,gen,d,t}$：日付$d$の時刻$t$における1 時間当たりのコージェネレーション設備による発電量(kWh/h)   "
   ]
  },
  {
   "cell_type": "markdown",
   "metadata": {},
   "source": [
    "#### 12.3 コージェネレーション設備による売電量に係るガス消費量の控除量"
   ]
  },
  {
   "cell_type": "markdown",
   "metadata": {},
   "source": [
    "コージェネレーション設備を採用しない場合"
   ]
  },
  {
   "cell_type": "markdown",
   "metadata": {},
   "source": [
    "$$\n",
    "\\large \n",
    "E_{E,CG,sell} = 0\n",
    "$$"
   ]
  },
  {
   "cell_type": "markdown",
   "metadata": {},
   "source": [
    "コージェネレーション設備を採用する場合"
   ]
  },
  {
   "cell_type": "markdown",
   "metadata": {},
   "source": [
    "$$\n",
    "\\large \n",
    "E_{E,CG,sell} = E_{G,CG,ded} \\times \\frac{E_{CG,sell}}{E_{CG,sell}+(E_{E,CG,self}+E_{E,CG,h}) \\times f_{prim} \\times 10^{-3} + Q_{CG,h} \\div e_{BB,ave}}\n",
    "$$"
   ]
  },
  {
   "cell_type": "markdown",
   "metadata": {},
   "source": [
    "$E_{CG,sell}$：1 年当たりのコージェネレーション設備による売電量（一次エネルギー）(MJ/年)  \n",
    "$E_{E,CG,self}$：1 年当たりのコージェネレーション設備による発電量のうちの自己消費分(kWh/年)  \n",
    "$E_{E,CG,h}$：1 年当たりのコージェネレーション設備による発電量のうちの自家消費分(kWh/年)  \n",
    "$E_{G,CG,sell}$：1 年当たりのコージェネレーション設備による売電量に係るガス消費量の控除量(MJ/年)  \n",
    "$E_{G,CG,ded}$：：1 年当たりのコージェネレーション設備のガス消費量のうちの売電に係る控除対象分(MJ/年)  \n",
    "$e_{BB,ave}$：コージェネレーション設備の給湯時のバックアップボイラーの年間平均効率(-)  \n",
    "$f_{prim}$：電気の量1kWhを熱量に換算する係数（第二章第一節付録 B）(kJ/kWh)  \n",
    "$Q_{CG,h}$：1 年当たりのコージェネレーション設備による製造熱量のうちの自家消費算入分(MJ/年)   "
   ]
  },
  {
   "cell_type": "markdown",
   "metadata": {},
   "source": [
    "$$\n",
    "\\large E_S = E_{S,h} + E_{S,sell}\n",
    "$$"
   ]
  },
  {
   "cell_type": "markdown",
   "metadata": {},
   "source": [
    "$E_S$：1 年当たりのエネルギー利用効率化設備による設計一次エネルギー消費量の削減量(MJ/年)   \n",
    "$E_{S,h}$：1 年当たりのエネルギー利用効率化設備による発電量のうちの自家消費分に係る設計一次エネルギー\n",
    "消費量の削減量(MJ/年)   \n",
    "$E_{S,sell}$：1 年当たりのコージェネレーション設備による売電量に係る設計一次エネルギー消費量の控除量(MJ/年)   "
   ]
  },
  {
   "cell_type": "markdown",
   "metadata": {},
   "source": [
    "#### 12.4 太陽光発電設備による売電量（参考） "
   ]
  },
  {
   "cell_type": "markdown",
   "metadata": {},
   "source": [
    "$$\n",
    "\\large \n",
    "E_{PV,sell} = \\sum_{d=1}^{365}{\\sum_{t=0}^{23}{E_{E,PV,sell,d,t} \\times f_{prim} \\times 10^{-3} }}\n",
    "$$"
   ]
  },
  {
   "cell_type": "markdown",
   "metadata": {},
   "source": [
    "$E_{PV,sell}$：1 年当たりの太陽光発電設備による売電量（一次エネルギー）(MJ/年)   \n",
    "$E_{E,PV,sell,d,t}$：日付$d$の時刻$t$における1 時間当たりの太陽光発電設備による売電量（二次エネルギー）(kWh/h)   \n",
    "$f_{prim}$：電気の量 1kWh を熱量に換算する係数（第二章第一節付録 B）(kJ/kWh)  "
   ]
  },
  {
   "cell_type": "markdown",
   "metadata": {},
   "source": [
    "$$\n",
    "\\large \n",
    "E_{E,PV,sell,d,t} = E_{E,PV,d,t} - E_{E,PV,h,d,t}\n",
    "$$"
   ]
  },
  {
   "cell_type": "markdown",
   "metadata": {},
   "source": [
    "$E_{E,PV,d,t}$：日付$d$の時刻$t$における1 時間当たりの太陽光発電設備による発電量(kWh/h)  \n",
    "$E_{E,PV,h,d,t}$：日付$d$の時刻$t$における1 時間当たりの太陽光発電設備による発電量のうちの自家消費分(kWh/h)   \n",
    "$E_{E,PV,sell,d,t}$：日付$d$の時刻$t$における1 時間当たりの太陽光発電設備による売電量（二次エネルギー）(kWh/h)  "
   ]
  },
  {
   "cell_type": "markdown",
   "metadata": {},
   "source": [
    "#### 12.5 コージェネレーション設備による売電量（参考） "
   ]
  },
  {
   "cell_type": "markdown",
   "metadata": {},
   "source": [
    "$$\n",
    "\\large \n",
    "E_{CG,sell} = \\sum_{d=1}^{365}{\\sum_{t=0}^{23}{E_{E,CG,sell,d,t} \\times f_{prim} \\times 10^{-3} }}\n",
    "$$"
   ]
  },
  {
   "cell_type": "markdown",
   "metadata": {},
   "source": [
    "$E_{CG,sell}$：1 年当たりのコージェネレーション設備による売電量（一次エネルギー）(MJ/年)   \n",
    "$E_{E,CG,sell,d,t}$：日付$d$の時刻$t$における1 時間当たりのコージェネレーション設備による売電量（二次エネルギー）(kWh/h)   \n",
    "$f_{prim}$：電気の量1kWhを熱量に換算する係数(kJ/kWh)  "
   ]
  },
  {
   "cell_type": "markdown",
   "metadata": {},
   "source": [
    "逆潮流を行わない場合"
   ]
  },
  {
   "cell_type": "markdown",
   "metadata": {},
   "source": [
    "$$\n",
    "\\large \n",
    "E_{E,CG,sell,d,t} = 0\n",
    "$$"
   ]
  },
  {
   "cell_type": "markdown",
   "metadata": {},
   "source": [
    "逆潮流を行う場合"
   ]
  },
  {
   "cell_type": "markdown",
   "metadata": {},
   "source": [
    "$$\n",
    "\\large \n",
    "E_{E,CG,sell,d,t} = E_{E,CG,gen,d,t} - E_{E,CG,h,d,t}\n",
    "$$"
   ]
  },
  {
   "cell_type": "markdown",
   "metadata": {},
   "source": [
    "$E_{E,CG,gen,d,t}$：日付$d$の時刻$t$における1 時間当たりのコージェネレーション設備による発電量(kWh/h)   \n",
    "$E_{E,CG,h,d,t}$：日付$d$の時刻$t$における1 時間当たりのコージェネレーション設備による発電量のうちの自家消費分(kWh/h)   \n",
    "$E_{E,CG,sell,d,t}$：日付$d$の時刻$t$における1 時間当たりのコージェネレーション設備による売電量（二次エネルギー）(kWh/h)   "
   ]
  },
  {
   "cell_type": "markdown",
   "metadata": {},
   "source": [
    "### 13．設計二次エネルギー消費量"
   ]
  },
  {
   "cell_type": "markdown",
   "metadata": {},
   "source": [
    "$$\n",
    "\\displaystyle E_E = \\sum_{d=1}^{365}{\\sum_{t=0}^{23}{E_{E,H,d,t} }} + \\sum_{d=1}^{365}{\\sum_{t=0}^{23}{E_{E,C,d,t} }} + \\sum_{d=1}^{365}{\\sum_{t=0}^{23}{E_{E,V,d,t} }} + \\sum_{d=1}^{365}{\\sum_{t=0}^{23}{E_{E,L,d,t} }} + \\sum_{d=1}^{365}{\\sum_{t=0}^{23}{E_{E,W,d,t} }} + \\sum_{d=1}^{365}{\\sum_{t=0}^{23}{E_{E,AP,d,t} }} + \\sum_{d=1}^{365}{\\sum_{t=0}^{23}{E_{E,CC,d,t} }} - \\sum_{d=1}^{365}{\\sum_{t=0}^{23}{E_{E,PV,h,d,t} }} - \\sum_{d=1}^{365}{\\sum_{t=0}^{23}{E_{E,CG,h,d,t} }}\n",
    "$$"
   ]
  },
  {
   "cell_type": "markdown",
   "metadata": {},
   "source": [
    "$E_{E}$：1 年当たりの設計消費電力量(kWh/年)   \n",
    "$E_{E,H,d,t}$：日付$d$の時刻$t$における1 時間当たりの暖房設備の消費電力量(kWh/h)    \n",
    "$E_{E,C,d,t}$：日付$d$の時刻$t$における1 時間当たりの冷房設備の消費電力量(kWh/h)    \n",
    "$E_{E,V,d,t}$：日付$d$の時刻$t$における1 時間当たりの機械換気設備の消費電力量(kWh/h)    \n",
    "$E_{E,L,d,t}$：日付$d$の時刻$t$における1 時間当たりの照明設備の消費電力量(kWh/h)    \n",
    "$E_{E,W,d,t}$：日付$d$の時刻$t$における1 時間当たりの給湯設備の消費電力量(kWh/h)    \n",
    "$E_{E,AP,d,t}$：日付$d$の時刻$t$における1 時間当たりの家電の消費電力量(kWh/h)    \n",
    "$E_{E,CC,d,t}$：日付$d$の時刻$t$における1 時間当たりの調理の消費電力量(kWh/h)    \n",
    "$E_{E,PV,h,d,t}$：日付$d$の時刻$t$における1 時間当たりの太陽光発電設備による発電量のうちの自家消費分(kWh/h)    \n",
    "$E_{E,CG,h,d,t}$：日付$d$の時刻$t$における1 時間当たりのコージェネレーション設備による発電量のうちの自家消費分(kWh/h)   "
   ]
  },
  {
   "cell_type": "markdown",
   "metadata": {},
   "source": [
    "1 年当たりの設計消費電力量$E_{E}$は、数値に小数点以下一位未満の端数があるときは、これを四捨五入する。 "
   ]
  },
  {
   "cell_type": "markdown",
   "metadata": {},
   "source": [
    "$$\n",
    "\\displaystyle E_{G} = \\sum_{d=1}^{365}{\\sum_{t=0}^{23}{E_{G,H,d,t} }} + \\sum_{d=1}^{365}{\\sum_{t=0}^{23}{E_{G,C,d,t} }} + \\sum_{d=1}^{365}{\\sum_{t=0}^{23}{E_{G,W,d,t} }} + \\sum_{d=1}^{365}{\\sum_{t=0}^{23}{E_{G,CG,d,t} }} + \\sum_{d=1}^{365}{\\sum_{t=0}^{23}{E_{G,AP,d,t} }} + \\sum_{d=1}^{365}{\\sum_{t=0}^{23}{E_{G,CC,d,t} }} - E_{G,CG,sell}\n",
    "$$"
   ]
  },
  {
   "cell_type": "markdown",
   "metadata": {},
   "source": [
    "$E_{G}$：1 年当たりの設計ガス消費量(MJ/年)   \n",
    "$E_{G,H,d,t}$：日付$d$の時刻$t$における1 時間当たりの暖房設備のガス消費量(MJ/h)    \n",
    "$E_{G,C,d,t}$：日付$d$の時刻$t$における1 時間当たりの冷房設備のガス消費量(MJ/h)    \n",
    "$E_{G,W,d,t}$：日付$d$の時刻$t$における1 時間当たりの給湯設備のガス消費量(MJ/h)    \n",
    "$E_{G,CG,d,t}$：日付$d$の時刻$t$における1 時間当たりのコージェネレーション設備のガス消費量(MJ/h)   \n",
    "$E_{G,CG,sell}$：1 年当たりのコージェネレーション設備による売電量に係るガス消費量の控除量(MJ/年)   \n",
    "$E_{G,AP,d,t}$：日付$d$の時刻$t$における1 時間当たりの家電のガス消費量(MJ/h)    \n",
    "$E_{G,CC,d,t}$：日付$d$の時刻$t$における1 時間当たりの調理のガス消費量(MJ/h)    "
   ]
  },
  {
   "cell_type": "markdown",
   "metadata": {},
   "source": [
    "1 年当たりの設計ガス消費量$E_{G}$は、数値に小数点以下一位未満の端数があるときは、これを四捨五入する。 "
   ]
  },
  {
   "cell_type": "markdown",
   "metadata": {},
   "source": [
    "$$\n",
    "\\displaystyle E_{K} = \\sum_{d=1}^{365}{\\sum_{t=0}^{23}{E_{K,H,d,t} }} + \\sum_{d=1}^{365}{\\sum_{t=0}^{23}{E_{K,C,d,t} }} + \\sum_{d=1}^{365}{\\sum_{t=0}^{23}{E_{K,W,d,t} }} + \\sum_{d=1}^{365}{\\sum_{t=0}^{23}{E_{K,CG,d,t} }} + \\sum_{d=1}^{365}{\\sum_{t=0}^{23}{E_{K,AP,d,t} }} + \\sum_{d=1}^{365}{\\sum_{t=0}^{23}{E_{K,CC,d,t} }}\n",
    "$$"
   ]
  },
  {
   "cell_type": "markdown",
   "metadata": {},
   "source": [
    "$E_{K}$：1 年当たりの設計灯油消費量(MJ/年)   \n",
    "$E_{K,H,d,t}$：日付$d$の時刻$t$における1 時間当たりの暖房設備の灯油消費量(MJ/h)    \n",
    "$E_{K,C,d,t}$：日付$d$の時刻$t$における1 時間当たりの冷房設備の灯油消費量(MJ/h)    \n",
    "$E_{K,W,d,t}$：日付$d$の時刻$t$における1 時間当たりの給湯設備の灯油消費量(MJ/h)    \n",
    "$E_{K,CG,d,t}$：日付$d$の時刻$t$における1 時間当たりのコージェネレーション設備の灯油消費量(MJ/h)    \n",
    "$E_{K,AP,d,t}$：日付$d$の時刻$t$における1 時間当たりの家電の灯油消費量(MJ/h)    \n",
    "$E_{K,CC,d,t}$：日付$d$の時刻$t$における1 時間当たりの調理の灯油消費量(MJ/h)    "
   ]
  },
  {
   "cell_type": "markdown",
   "metadata": {},
   "source": [
    "1 年当たりの設計灯油消費量$E_{K}$は、数値に小数点以下一位未満の端数があるときは、これを四捨五入する。 "
   ]
  },
  {
   "cell_type": "markdown",
   "metadata": {},
   "source": [
    "$$\n",
    "\\large E_{UT,H} = \\sum_{d=1}^{365}{\\sum_{t=0}^{23}{E_{UT,H,d,t} }}\n",
    "$$"
   ]
  },
  {
   "cell_type": "markdown",
   "metadata": {},
   "source": [
    "$E_{UT,H}$：1 年当たりの未処理暖房負荷の設計一次エネルギー消費量相当値(MJ/年)   \n",
    "$E_{UT,H,d,t}$：日付$d$の時刻$t$における1 時間当たりの暖房設備の未処理暖房負荷の設計一次エネルギー消費量相当値(MJ/h)    "
   ]
  },
  {
   "cell_type": "markdown",
   "metadata": {},
   "source": [
    "1 年当たりの未処理暖房負荷の設計一次エネルギー消費量相当値$E_{UT,H}$は、数値に小数点以下一位未満の端数があるときは、これを四捨五入する。 "
   ]
  },
  {
   "cell_type": "markdown",
   "metadata": {},
   "source": [
    "### 14. 各設備のエネルギー消費量等"
   ]
  },
  {
   "cell_type": "markdown",
   "metadata": {},
   "source": [
    "省略"
   ]
  },
  {
   "cell_type": "markdown",
   "metadata": {},
   "source": [
    "### 15. 居住人数"
   ]
  },
  {
   "cell_type": "markdown",
   "metadata": {},
   "source": [
    "省略"
   ]
  },
  {
   "cell_type": "markdown",
   "metadata": {},
   "source": [
    "### 16. 電力需要"
   ]
  },
  {
   "cell_type": "markdown",
   "metadata": {},
   "source": [
    "$$\n",
    "\\large \n",
    "E_{E,dmd,d,t} = E_{E,H,d,t} + E_{E,C,d,t} + E_{E,V,d,t} + E_{E,L,d,t} + E_{E,W,d,t} + E_{E,AP,d,t}\n",
    "$$"
   ]
  },
  {
   "cell_type": "markdown",
   "metadata": {},
   "source": [
    "$E_{E,dmd,d,t}$：日付$d$の時刻$t$における1 時間当たりの電力需要(kWh/h)    \n",
    "$E_{E,H,d,t}$：日付$d$の時刻$t$における1 時間当たりの暖房設備の消費電力量(kWh/h)    \n",
    "$E_{E,C,d,t}$：日付$d$の時刻$t$における1 時間当たりの冷房設備の消費電力量(kWh/h)    \n",
    "$E_{E,V,d,t}$：日付$d$の時刻$t$における1 時間当たりの機械換気設備の消費電力量(kWh/h)    \n",
    "$E_{E,L,d,t}$：日付$d$の時刻$t$における1 時間当たりの照明設備の消費電力量(kWh/h)    \n",
    "$E_{E,W,d,t}$：日付$d$の時刻$t$における1 時間当たりの給湯設備の消費電力量(kWh/h)    \n",
    "$E_{E,AP,d,t}$：日付$d$の時刻$t$における1 時間当たりの家電の消費電力量(kWh/h)    "
   ]
  }
 ],
 "metadata": {
  "kernelspec": {
   "display_name": "Python 3",
   "language": "python",
   "name": "python3"
  },
  "language_info": {
   "codemirror_mode": {
    "name": "ipython",
    "version": 3
   },
   "file_extension": ".py",
   "mimetype": "text/x-python",
   "name": "python",
   "nbconvert_exporter": "python",
   "pygments_lexer": "ipython3",
   "version": "3.6.7"
  }
 },
 "nbformat": 4,
 "nbformat_minor": 2
}
