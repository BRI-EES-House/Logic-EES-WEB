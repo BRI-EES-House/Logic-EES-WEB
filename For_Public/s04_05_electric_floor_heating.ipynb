{
 "cells": [
  {
   "cell_type": "code",
   "execution_count": null,
   "metadata": {},
   "outputs": [],
   "source": [
    "import numpy as np\n",
    "from section4_1_Q import get_Q_T_H_d_t_i"
   ]
  },
  {
   "cell_type": "markdown",
   "metadata": {},
   "source": [
    "## 第五節　電気ヒーター床暖房 / Section 5  Electric floor heating"
   ]
  },
  {
   "cell_type": "markdown",
   "metadata": {},
   "source": [
    "1．適用範囲～4．記号及び単位は省略"
   ]
  },
  {
   "cell_type": "markdown",
   "metadata": {},
   "source": [
    "1. Scope of application ~ 4. Symbols and units are omitted"
   ]
  },
  {
   "cell_type": "markdown",
   "metadata": {},
   "source": [
    "### 5．最大暖房出力 / Maximum heating output"
   ]
  },
  {
   "cell_type": "markdown",
   "metadata": {},
   "source": [
    "$$\\large\n",
    "Q_{max,H,d,t} = q_{max,H} \\times A_{f} \\times 3600 \\times 10^{-6}\n",
    "$$"
   ]
  },
  {
   "cell_type": "markdown",
   "metadata": {},
   "source": [
    "$Q_{max,H,d,t}$：日付$d$の時刻$t$における1時間当たりの最大暖房出力(MJ/h) / Maximum heating output per hour at time $ t $ of date $ d $  \n",
    "$q_{max,H}$：単位面積当たりの上面最大放熱能力(W/m<sup>2</sup>) / Maximum top surface heat dissipation capacity per unit area   \n",
    "$A_{f}$：敷設面積(m<sup>2</sup>) / Laying area  "
   ]
  },
  {
   "cell_type": "markdown",
   "metadata": {},
   "source": [
    "単位面積当たりの上面最大放熱能力$q_{max,H}$は 162W/m<sup>2</sup> とする。"
   ]
  },
  {
   "cell_type": "markdown",
   "metadata": {},
   "source": [
    "The top surface maximum heat dissipation capacity $ q_{max, H} $ per unit area is set to 162 W/m<sup>2</sup>."
   ]
  },
  {
   "cell_type": "code",
   "execution_count": null,
   "metadata": {},
   "outputs": [],
   "source": [
    "def get_Q_max_H_d_t(A_f):\n",
    "    q_max_H = 162.0\n",
    "    return np.ones(24 * 365) * q_max_H * A_f * 3600 * 10 ** (-6)  # (1)"
   ]
  },
  {
   "cell_type": "markdown",
   "metadata": {},
   "source": [
    "### 6．暖房エネルギー消費量 / Heating energy consumption"
   ]
  },
  {
   "cell_type": "markdown",
   "metadata": {},
   "source": [
    "#### 6.1　消費電力量 / Power consumption"
   ]
  },
  {
   "cell_type": "markdown",
   "metadata": {},
   "source": [
    "$$\n",
    "\\large\n",
    "E_{E,H,d,t} = Q_{T,H,d,t} \\times \\frac{1}{r_{up}} \\times 10^{3} \\div 3600\n",
    "$$"
   ]
  },
  {
   "cell_type": "markdown",
   "metadata": {},
   "source": [
    "$E_{E,H,d,t}$：日付$d$の時刻$t$における1時間当たりの消費電力量(kWh/h) / Power consumption per hour at time $ t $ of date $ d $  \n",
    "$Q_{T,H,d,t}$：日付$d$の時刻$t$における処理暖房負荷(MJ/h) / Processing heating load at time $ t $ of date $ d $   \n",
    "$r_{up}$：上面放熱率 / Top surface heat release rate  "
   ]
  },
  {
   "cell_type": "code",
   "execution_count": null,
   "metadata": {},
   "outputs": [],
   "source": [
    "def get_E_E_H_d_t(A_f, r_up, L_H_d_t):\n",
    "    # 最大暖房出力\n",
    "    Q_max_H_d_t = get_Q_max_H_d_t(A_f)\n",
    "\n",
    "    # 処理暖房負荷\n",
    "    Q_T_H_d_t = get_Q_T_H_d_t_i(Q_max_H_d_t, L_H_d_t, None, '居室のみを暖房する方式でかつ主たる居室とその他の居室ともに温水暖房を設置する場合に該当しない場合')\n",
    "\n",
    "    # 消費電力量\n",
    "    E_E_H_d_t = Q_T_H_d_t / r_up * 10 ** 3 / 3600  # (2)\n",
    "\n",
    "    return E_E_H_d_t\n",
    "\n",
    "\n",
    "def get_Q_UT_H_d_t(A_f, r_up, L_H_d_t):\n",
    "    # 最大暖房出力\n",
    "    Q_max_H_d_t = get_Q_max_H_d_t(A_f)\n",
    "\n",
    "    # 処理暖房負荷\n",
    "    Q_T_H_d_t = get_Q_T_H_d_t_i(Q_max_H_d_t, L_H_d_t, None, '居室のみを暖房する方式でかつ主たる居室とその他の居室ともに温水暖房を設置する場合に該当しない場合')\n",
    "\n",
    "    # 未処理暖房負荷\n",
    "    Q_UT_H_d_t = L_H_d_t - Q_T_H_d_t\n",
    "\n",
    "    return Q_UT_H_d_t"
   ]
  },
  {
   "cell_type": "markdown",
   "metadata": {},
   "source": [
    "#### 6.2　ガス消費量 / Kerosene consumption"
   ]
  },
  {
   "cell_type": "markdown",
   "metadata": {},
   "source": [
    "日付$d$の時刻$t$における１時間当たりのガス消費量$E_{G,H,d,t}$は0とする。"
   ]
  },
  {
   "cell_type": "markdown",
   "metadata": {},
   "source": [
    "It is assumed that gas consumption $ E_{G, H, d, t} $ per hour at time $ t $ of date $ d $ is zero."
   ]
  },
  {
   "cell_type": "code",
   "execution_count": null,
   "metadata": {},
   "outputs": [],
   "source": [
    "def get_E_G_H_d_t():\n",
    "    return np.zeros(24 * 365)"
   ]
  },
  {
   "cell_type": "markdown",
   "metadata": {},
   "source": [
    "#### 6.3　灯油消費量 / Kerosene consumption"
   ]
  },
  {
   "cell_type": "markdown",
   "metadata": {},
   "source": [
    "日付$d$の時刻$t$における１時間当たりの灯油消費量$E_{K,H,d,t}$は0とする。"
   ]
  },
  {
   "cell_type": "markdown",
   "metadata": {},
   "source": [
    "It is assumed that kerosene consumption $ E_{K, H, d, t} $ per hour at time $ t $ of date $ d $ is zero."
   ]
  },
  {
   "cell_type": "code",
   "execution_count": null,
   "metadata": {},
   "outputs": [],
   "source": [
    "def get_E_K_H_d_t():\n",
    "    return np.zeros(24 * 365)"
   ]
  },
  {
   "cell_type": "markdown",
   "metadata": {},
   "source": [
    "#### 6.4　その他の燃料による一次エネルギー消費量 / Primary energy consumption by other fuels"
   ]
  },
  {
   "cell_type": "markdown",
   "metadata": {},
   "source": [
    "日付$d$の時刻$t$における１時間当たりのその他の燃料による一次エネルギー消費量$E_{M,H,d,t}$は0とする。"
   ]
  },
  {
   "cell_type": "markdown",
   "metadata": {},
   "source": [
    "Primary energy consumption $ E_{M, H, d, t} $ by other fuel per hour at time $ t $ of date $ d $ is 0."
   ]
  },
  {
   "cell_type": "code",
   "execution_count": null,
   "metadata": {},
   "outputs": [],
   "source": [
    "def get_E_M_H_d_t():\n",
    "    return np.zeros(24 * 365)"
   ]
  },
  {
   "cell_type": "markdown",
   "metadata": {},
   "source": [
    "## 付録 A 機器の性能を表す仕様の決定方法 / Appendix A How to determine the specification that represents the performance of the device"
   ]
  },
  {
   "cell_type": "markdown",
   "metadata": {},
   "source": [
    "### A.1　記号及び単位 / Symbol and unit"
   ]
  },
  {
   "cell_type": "markdown",
   "metadata": {},
   "source": [
    "省略"
   ]
  },
  {
   "cell_type": "markdown",
   "metadata": {},
   "source": [
    "### A.2　敷設面積 / Laying area"
   ]
  },
  {
   "cell_type": "markdown",
   "metadata": {},
   "source": [
    "$$\\large\n",
    "A_{f} = A_{HCZ} \\times r_{Af}\n",
    "$$"
   ]
  },
  {
   "cell_type": "markdown",
   "metadata": {},
   "source": [
    "$A_{f}$：敷設面積(m<sup>2</sup>) / Laying area  \n",
    "$A_{HCZ}$：電気ヒーター床暖房により暖房される暖冷房区画の床面積(m<sup>2</sup>) / Electric heating floor area of heating and cooling compartments heated by floor heating   \n",
    "$r_{Af}$：床暖房パネルの敷設率 / Floor heating panel laying rate"
   ]
  },
  {
   "cell_type": "code",
   "execution_count": null,
   "metadata": {},
   "outputs": [],
   "source": [
    "# 敷設面積 A_f\n",
    "def get_A_f(A_HCZ, r_Af):\n",
    "    return A_HCZ * r_Af  # (1)"
   ]
  },
  {
   "cell_type": "markdown",
   "metadata": {},
   "source": [
    "$$\\large\n",
    "r_{Af} =  \\frac{A_{f}}{A_{HCZ}}\n",
    "$$"
   ]
  },
  {
   "cell_type": "markdown",
   "metadata": {},
   "source": [
    "$A_{f}$：床暖房パネルの敷設面積(m<sup>2</sup>) / Floor heating panel laying area  \n",
    "$A_{HCZ}$：電気ヒーター床暖房により暖房される暖冷房区画の床面積(m<sup>2</sup>) / Electric heating floor area of heating and cooling compartments heated by floor heating  "
   ]
  },
  {
   "cell_type": "code",
   "execution_count": null,
   "metadata": {},
   "outputs": [],
   "source": [
    "# 床暖房パネルの敷設率 r_Af\n",
    "def get_r_Af(A_f, A_HCZ):\n",
    "    return A_f / A_HCZ  # (2)"
   ]
  },
  {
   "cell_type": "markdown",
   "metadata": {},
   "source": [
    "### A.3　上面放熱率 / Top surface heat release rate"
   ]
  },
  {
   "cell_type": "markdown",
   "metadata": {},
   "source": [
    "$$\\large\n",
    "r_{up} =  \\frac{(1-H) \\times (R_{si}+R_{U})+(R_{P}+R_{D}+R_{se})}{R_{si}+R_{U}+R_{P}+R_{D}+R_{se}}\\\\\n",
    "\\\\\n",
    "\\large = 1-H \\times \\frac{(R_{si}+R_{U})}{R_{si}+R_{U}+R_{P}+R_{D}+R_{se}}\\\\\n",
    "\\\\\n",
    "\\large = 1-H \\times (R_{si}+R_{U}) \\times U\n",
    "$$"
   ]
  },
  {
   "cell_type": "markdown",
   "metadata": {},
   "source": [
    "$r_{up}$：上面放熱率 / Top surface heat release rate  \n",
    "$R_{si}$：床暖房パネルの床上側表面熱伝達抵抗(m<sup>2</sup>K/W) / Floor top surface heat transfer resistance of floor heating panel  \n",
    "$R_{U}$：床暖房パネル内の発熱体から床仕上げ材上側表面までの熱抵抗(m<sup>2</sup>K/W) / Thermal resistance from the heating element in the floor heating panel to the upper surface of the floor finish  \n",
    "$R_{P}$：床暖房パネル内の発熱体から床暖房パネル床下側表面までの熱抵抗(m<sup>2</sup>K/W) / Thermal resistance from the heating element in the floor heating panel to the floor under surface of the floor heating panel  \n",
    "$R_{D}$：床暖房パネルの下端から床下側表面までの熱抵抗(m<sup>2</sup>K/W) / Thermal resistance from the lower edge of the floor heating panel to the underfloor surface  \n",
    "$R_{se}$：床下側表面熱伝達抵抗(m<sup>2</sup>K/W) / Underfloor surface heat transfer resistance  \n",
    "$H$：温度差係数 / Temperature difference coefficient   \n",
    "$U$：当該床の部位の熱貫流率(W/m<sup>2</sup>K) / Heat transmission coefficient of the area of the floor "
   ]
  },
  {
   "cell_type": "code",
   "execution_count": null,
   "metadata": {},
   "outputs": [],
   "source": [
    "def get_r_up():\n",
    "    r_up = 1.0 - H * (R_si + R_U) * R_U     #(3)\n",
    "    return (r_up * 100) / 100"
   ]
  },
  {
   "cell_type": "markdown",
   "metadata": {},
   "source": [
    "### A.4　複数の電気ヒーター床暖房が設置される場合の仕様の決定方法 / How to determine the specifications when multiple electric heater floor heating is installed"
   ]
  },
  {
   "cell_type": "markdown",
   "metadata": {},
   "source": [
    "省略"
   ]
  },
  {
   "cell_type": "markdown",
   "metadata": {},
   "source": [
    "ommision"
   ]
  }
 ],
 "metadata": {
  "kernelspec": {
   "display_name": "Python 3",
   "language": "python",
   "name": "python3"
  },
  "language_info": {
   "codemirror_mode": {
    "name": "ipython",
    "version": 3
   },
   "file_extension": ".py",
   "mimetype": "text/x-python",
   "name": "python",
   "nbconvert_exporter": "python",
   "pygments_lexer": "ipython3",
   "version": "3.6.7"
  }
 },
 "nbformat": 4,
 "nbformat_minor": 2
}
