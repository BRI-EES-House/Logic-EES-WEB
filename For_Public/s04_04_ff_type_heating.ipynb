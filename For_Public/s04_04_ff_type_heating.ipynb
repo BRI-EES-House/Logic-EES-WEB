{
 "cells": [
  {
   "cell_type": "markdown",
   "metadata": {},
   "source": [
    "## 第四節　FF暖房機"
   ]
  },
  {
   "cell_type": "markdown",
   "metadata": {},
   "source": [
    "1．適用範囲～4．記号及び単位は省略"
   ]
  },
  {
   "cell_type": "markdown",
   "metadata": {},
   "source": [
    "### 5．最大暖房出力"
   ]
  },
  {
   "cell_type": "markdown",
   "metadata": {},
   "source": [
    "$$\\large\n",
    "Q_{max,H,d,t} = q_{max,H} \\times 3600 \\times 10^{-6}\n",
    "$$"
   ]
  },
  {
   "cell_type": "markdown",
   "metadata": {},
   "source": [
    "$Q_{max,H,d,t}$：日付$d$の時刻$t$における1時間当たりの最大暖房出力(MJ/h)  \n",
    "$q_{max,H}$：最大暖房能力(W)"
   ]
  },
  {
   "cell_type": "markdown",
   "metadata": {},
   "source": [
    "### 6．暖房エネルギー消費量"
   ]
  },
  {
   "cell_type": "markdown",
   "metadata": {},
   "source": [
    "#### 6.1　消費電力量"
   ]
  },
  {
   "cell_type": "markdown",
   "metadata": {},
   "source": [
    "$$\n",
    "\\large\n",
    "E_{E,H,d,t} = \\left\\{ \\begin{array}{ll}\n",
    "    P_{rtd,H} \\times \\frac{Q_{T,H,d,t}}{Q_{max,H,d,t}} \\times 10^{-3} & \\small(Q_{T,H,d,t} \\ge q_{min,H} \\times 3600 \\times 10^{-6}の場合)\\\\ \n",
    "    \\left(P_{rtd,H} \\times \\frac{Q_{T,H,d,t}}{Q_{max,H,d,t}} + P_{itm,H} \\right) \\times 10^{-3} & \\small(Q_{T,H,d,t} \\lt q_{min,H} \\times 3600 \\times 10^{-6}の場合)\\\\ \n",
    "    \\end{array}\n",
    "\\right.\n",
    "$$"
   ]
  },
  {
   "cell_type": "markdown",
   "metadata": {},
   "source": [
    "$E_{E,H,d,t}$：日付$d$の時刻$t$における1時間当たりの消費電力量(kWh/h)  \n",
    "$q_{min,H}$：連続運転時最小能力(W)  \n",
    "$P_{rtd,H}$：定格暖房消費電力(W)  \n",
    "$P_{itm,H}$：断続時消費電力(W)  \n",
    "$Q_{T,H,d,t}$：日付$d$の時刻$t$における1時間当たりの処理暖房負荷(MJ/h)  \n",
    "$Q_{max,H,d,t}$：日付$d$の時刻$t$における1時間当たりの最大暖房出力(MJ/h)  "
   ]
  },
  {
   "cell_type": "markdown",
   "metadata": {},
   "source": [
    "日付$d$の時刻$t$における1時間当たりの処理暖房負荷$Q_{T,H,d,t}$が 0 の場合、$E_{E,H,d,t} = 0$とする。"
   ]
  },
  {
   "cell_type": "markdown",
   "metadata": {},
   "source": [
    "#### 6.2　ガス消費量"
   ]
  },
  {
   "cell_type": "markdown",
   "metadata": {},
   "source": [
    "日付$d$の時刻$t$における１時間当たりのガス消費量$E_{G,H,d,t}$は、FF暖房機の燃料がガスの場合日付$d$の時刻$t$における１時間当たりの燃料消費量$E_{F,H,d,t}$に等しいとし、FF暖房機の燃料が灯油の場合0とする。"
   ]
  },
  {
   "cell_type": "markdown",
   "metadata": {},
   "source": [
    "#### 6.3　灯油消費量"
   ]
  },
  {
   "cell_type": "markdown",
   "metadata": {},
   "source": [
    "日付$d$の時刻$t$における１時間当たりの灯油消費量$E_{K,H,d,t}$は、FF暖房機の燃料が灯油の場合日付$d$の時刻$t$における１時間当たりの燃料消費量$E_{F,H,d,t}$に等しいとし、FF暖房機の燃料がガスの場合0とする。"
   ]
  },
  {
   "cell_type": "markdown",
   "metadata": {},
   "source": [
    "#### 6.4　その他の燃料による一次エネルギー消費量"
   ]
  },
  {
   "cell_type": "markdown",
   "metadata": {},
   "source": [
    "日付$d$の時刻$t$における１時間当たりのその他の燃料による一次エネルギー消費量$E_{M,H,d,t}$は、0とする。"
   ]
  },
  {
   "cell_type": "markdown",
   "metadata": {},
   "source": [
    "### 7．燃料消費量"
   ]
  },
  {
   "cell_type": "markdown",
   "metadata": {},
   "source": [
    "$$\\large\n",
    "E_{F,H,d,t} = \\frac{Q_{T,H,d,t}}{e_{rtd,H}}\n",
    "$$"
   ]
  },
  {
   "cell_type": "markdown",
   "metadata": {},
   "source": [
    "$E_{F,H,d,t}$：日付$d$の時刻$t$における1時間当たりの燃料消費量(MJ/h)  \n",
    "$Q_{T,H,d,t}$：日付$d$の時刻$t$における1時間当たりの処理暖房負荷(MJ/h)  \n",
    "$e_{rtd,H}$：定格燃焼効率  "
   ]
  },
  {
   "cell_type": "markdown",
   "metadata": {},
   "source": [
    "## 付録 A 機器の性能を表す仕様の決定方法"
   ]
  },
  {
   "cell_type": "markdown",
   "metadata": {},
   "source": [
    "### A.1　記号及び単位"
   ]
  },
  {
   "cell_type": "markdown",
   "metadata": {},
   "source": [
    "省略"
   ]
  },
  {
   "cell_type": "markdown",
   "metadata": {},
   "source": [
    "### A.2　最大暖房能力"
   ]
  },
  {
   "cell_type": "markdown",
   "metadata": {},
   "source": [
    "$$\\large\n",
    "q_{max,H} = 240.1 \\times A_{HCZ}\n",
    "$$"
   ]
  },
  {
   "cell_type": "markdown",
   "metadata": {},
   "source": [
    "$q_{max,H}$：最大暖房能力(W)  \n",
    "$A_{HCZ}$：FF 暖房機により暖房される暖冷房区画の床面積(m<sup>2</sup>)  "
   ]
  },
  {
   "cell_type": "markdown",
   "metadata": {},
   "source": [
    "### A.3　連続運転時最小能力"
   ]
  },
  {
   "cell_type": "markdown",
   "metadata": {},
   "source": [
    "連続運転時最小能力$q_{min,H}$が0を下回る場合は0とする。"
   ]
  },
  {
   "cell_type": "markdown",
   "metadata": {},
   "source": [
    "$$\\large\n",
    "q_{min,H} = 0.4334 \\times q_{max,H} - 540.1\n",
    "$$"
   ]
  },
  {
   "cell_type": "markdown",
   "metadata": {},
   "source": [
    "$q_{min,H}$：連続運転時最小能力(W)"
   ]
  },
  {
   "cell_type": "markdown",
   "metadata": {},
   "source": [
    "### A.4　定格燃焼効率"
   ]
  },
  {
   "cell_type": "markdown",
   "metadata": {},
   "source": [
    "省略"
   ]
  },
  {
   "cell_type": "markdown",
   "metadata": {},
   "source": [
    "### A.5　定格暖房消費電力"
   ]
  },
  {
   "cell_type": "markdown",
   "metadata": {},
   "source": [
    "$$\\large\n",
    "P_{rtd,H} = 3.13 \\times 10^{-3} \\times q_{max,H}\n",
    "$$"
   ]
  },
  {
   "cell_type": "markdown",
   "metadata": {},
   "source": [
    "$P_{rtd,H}$：定格暖房消費電力(W)"
   ]
  },
  {
   "cell_type": "markdown",
   "metadata": {},
   "source": [
    "### A.6　断続時消費電力"
   ]
  },
  {
   "cell_type": "markdown",
   "metadata": {},
   "source": [
    "断続時消費電力$P_{itm,H}$は、40.0Wとする。"
   ]
  },
  {
   "cell_type": "markdown",
   "metadata": {},
   "source": [
    "### A.7　複数のFF暖房機が設置される場合の仕様の決定方法"
   ]
  },
  {
   "cell_type": "markdown",
   "metadata": {},
   "source": [
    "省略"
   ]
  }
 ],
 "metadata": {
  "kernelspec": {
   "display_name": "Python 3",
   "language": "python",
   "name": "python3"
  },
  "language_info": {
   "codemirror_mode": {
    "name": "ipython",
    "version": 3
   },
   "file_extension": ".py",
   "mimetype": "text/x-python",
   "name": "python",
   "nbconvert_exporter": "python",
   "pygments_lexer": "ipython3",
   "version": "3.6.4"
  }
 },
 "nbformat": 4,
 "nbformat_minor": 2
}
