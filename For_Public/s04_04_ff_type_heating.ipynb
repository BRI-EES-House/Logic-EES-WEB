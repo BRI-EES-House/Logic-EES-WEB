{
 "cells": [
  {
   "cell_type": "code",
   "execution_count": null,
   "metadata": {},
   "outputs": [],
   "source": [
    "import numpy as np\n",
    "from section4_1_Q import get_Q_T_H_d_t_i"
   ]
  },
  {
   "cell_type": "markdown",
   "metadata": {},
   "source": [
    "## 第四節　FF暖房機"
   ]
  },
  {
   "cell_type": "markdown",
   "metadata": {},
   "source": [
    "1．適用範囲～4．記号及び単位は省略"
   ]
  },
  {
   "cell_type": "markdown",
   "metadata": {},
   "source": [
    "### 5．最大暖房出力"
   ]
  },
  {
   "cell_type": "markdown",
   "metadata": {},
   "source": [
    "$$\\large\n",
    "Q_{max,H,d,t} = q_{max,H} \\times 3600 \\times 10^{-6}\n",
    "$$"
   ]
  },
  {
   "cell_type": "markdown",
   "metadata": {},
   "source": [
    "$Q_{max,H,d,t}$：日付$d$の時刻$t$における1時間当たりの最大暖房出力(MJ/h)  \n",
    "$q_{max,H}$：最大暖房能力(W)"
   ]
  },
  {
   "cell_type": "code",
   "execution_count": null,
   "metadata": {},
   "outputs": [],
   "source": [
    "def get_Q_max_H_d_t(q_max_H):\n",
    "    return np.ones(24 * 365) * q_max_H * 3600 * 10 ** (-6)  # (1)"
   ]
  },
  {
   "cell_type": "markdown",
   "metadata": {},
   "source": [
    "### 6．暖房エネルギー消費量"
   ]
  },
  {
   "cell_type": "markdown",
   "metadata": {},
   "source": [
    "#### 6.1　消費電力量"
   ]
  },
  {
   "cell_type": "markdown",
   "metadata": {},
   "source": [
    "$$\n",
    "\\large\n",
    "E_{E,H,d,t} = \\left\\{ \\begin{array}{ll}\n",
    "    P_{rtd,H} \\times \\frac{Q_{T,H,d,t}}{Q_{max,H,d,t}} \\times 10^{-3} & \\small(Q_{T,H,d,t} \\ge q_{min,H} \\times 3600 \\times 10^{-6}の場合)\\\\ \n",
    "    \\left(P_{rtd,H} \\times \\frac{Q_{T,H,d,t}}{Q_{max,H,d,t}} + P_{itm,H} \\right) \\times 10^{-3} & \\small(Q_{T,H,d,t} \\lt q_{min,H} \\times 3600 \\times 10^{-6}の場合)\\\\ \n",
    "    \\end{array}\n",
    "\\right.\n",
    "$$"
   ]
  },
  {
   "cell_type": "markdown",
   "metadata": {},
   "source": [
    "$E_{E,H,d,t}$：日付$d$の時刻$t$における1時間当たりの消費電力量(kWh/h)  \n",
    "$q_{min,H}$：連続運転時最小能力(W)  \n",
    "$P_{rtd,H}$：定格暖房消費電力(W)  \n",
    "$P_{itm,H}$：断続時消費電力(W)  \n",
    "$Q_{T,H,d,t}$：日付$d$の時刻$t$における1時間当たりの処理暖房負荷(MJ/h)  \n",
    "$Q_{max,H,d,t}$：日付$d$の時刻$t$における1時間当たりの最大暖房出力(MJ/h)  "
   ]
  },
  {
   "cell_type": "markdown",
   "metadata": {},
   "source": [
    "日付$d$の時刻$t$における1時間当たりの処理暖房負荷$Q_{T,H,d,t}$が 0 の場合、$E_{E,H,d,t} = 0$とする。"
   ]
  },
  {
   "cell_type": "code",
   "execution_count": null,
   "metadata": {},
   "outputs": [],
   "source": [
    "def get_E_E_H_d_t(q_max_H, q_min_H, P_rtd_H, P_itm_H, L_H_d_t):\n",
    "    # 最大暖房出力\n",
    "    Q_max_H_d_t = get_Q_max_H_d_t(q_max_H)\n",
    "\n",
    "    # 処理暖房負荷\n",
    "    Q_T_H_d_t = get_Q_T_H_d_t_i(Q_max_H_d_t, L_H_d_t, None, '居室のみを暖房する方式でかつ主たる居室とその他の居室ともに温水暖房を設置する場合に該当しない場合')\n",
    "\n",
    "    # 消費電力量\n",
    "    tmp1 = P_rtd_H * Q_T_H_d_t / Q_max_H_d_t * 10 ** (-3)\n",
    "    tmp1[Q_T_H_d_t < q_min_H * 3600 * 10 ** (-6)] = 0.0\n",
    "\n",
    "    tmp2 = (P_rtd_H * Q_T_H_d_t / Q_max_H_d_t + P_itm_H) * 10 ** (-3)\n",
    "    tmp2[Q_T_H_d_t >= q_min_H * 3600 * 10 ** (-6)] = 0.0\n",
    "\n",
    "    E_E_H_d_t = tmp1 + tmp2\n",
    "\n",
    "    # ただし、Q_T_H_d_tが0の場合は0\n",
    "    E_E_H_d_t[Q_T_H_d_t == 0] = 0\n",
    "\n",
    "    return E_E_H_d_t"
   ]
  },
  {
   "cell_type": "markdown",
   "metadata": {},
   "source": [
    "#### 6.2　ガス消費量"
   ]
  },
  {
   "cell_type": "markdown",
   "metadata": {},
   "source": [
    "日付$d$の時刻$t$における１時間当たりのガス消費量$E_{G,H,d,t}$は、FF暖房機の燃料がガスの場合日付$d$の時刻$t$における１時間当たりの燃料消費量$E_{F,H,d,t}$に等しいとし、FF暖房機の燃料が灯油の場合0とする。"
   ]
  },
  {
   "cell_type": "code",
   "execution_count": null,
   "metadata": {},
   "outputs": [],
   "source": [
    "def get_E_G_H_d_t(fuel, q_max_H, e_rtd_H, L_H_d_t):\n",
    "    if fuel == 'G':\n",
    "        return get_E_F_H_d_t(q_max_H, e_rtd_H, L_H_d_t)\n",
    "    elif fuel == 'K':\n",
    "        return np.zeros(24 * 365)\n",
    "    else:\n",
    "        raise ValueError(fuel)"
   ]
  },
  {
   "cell_type": "markdown",
   "metadata": {},
   "source": [
    "#### 6.3　灯油消費量"
   ]
  },
  {
   "cell_type": "markdown",
   "metadata": {},
   "source": [
    "日付$d$の時刻$t$における１時間当たりの灯油消費量$E_{K,H,d,t}$は、FF暖房機の燃料が灯油の場合日付$d$の時刻$t$における１時間当たりの燃料消費量$E_{F,H,d,t}$に等しいとし、FF暖房機の燃料がガスの場合0とする。"
   ]
  },
  {
   "cell_type": "code",
   "execution_count": null,
   "metadata": {},
   "outputs": [],
   "source": [
    "def get_E_K_H_d_t(fuel, q_max_H, e_rtd_H, L_H_d_t):\n",
    "    if fuel == 'K':\n",
    "        return get_E_F_H_d_t(q_max_H, e_rtd_H, L_H_d_t)\n",
    "    elif fuel == 'G':\n",
    "        return np.zeros(24 * 365)\n",
    "    else:\n",
    "        raise ValueError(fuel)"
   ]
  },
  {
   "cell_type": "markdown",
   "metadata": {},
   "source": [
    "#### 6.4　その他の燃料による一次エネルギー消費量"
   ]
  },
  {
   "cell_type": "markdown",
   "metadata": {},
   "source": [
    "日付$d$の時刻$t$における１時間当たりのその他の燃料による一次エネルギー消費量$E_{M,H,d,t}$は、0とする。"
   ]
  },
  {
   "cell_type": "code",
   "execution_count": null,
   "metadata": {},
   "outputs": [],
   "source": [
    "def get_E_M_H_d_t():\n",
    "    return np.zeros(24 * 365)"
   ]
  },
  {
   "cell_type": "markdown",
   "metadata": {},
   "source": [
    "### 7．燃料消費量"
   ]
  },
  {
   "cell_type": "markdown",
   "metadata": {},
   "source": [
    "$$\\large\n",
    "E_{F,H,d,t} = \\frac{Q_{T,H,d,t}}{e_{rtd,H}}\n",
    "$$"
   ]
  },
  {
   "cell_type": "markdown",
   "metadata": {},
   "source": [
    "$E_{F,H,d,t}$：日付$d$の時刻$t$における1時間当たりの燃料消費量(MJ/h)  \n",
    "$Q_{T,H,d,t}$：日付$d$の時刻$t$における1時間当たりの処理暖房負荷(MJ/h)  \n",
    "$e_{rtd,H}$：定格燃焼効率  "
   ]
  },
  {
   "cell_type": "code",
   "execution_count": null,
   "metadata": {},
   "outputs": [],
   "source": [
    "def get_E_F_H_d_t(q_max_H, e_rtd_H, L_H_d_t):\n",
    "    # 最大暖房出力\n",
    "    Q_max_H_d_t = get_Q_max_H_d_t(q_max_H)\n",
    "\n",
    "    # 処理暖房負荷\n",
    "    Q_T_H_d_t = get_Q_T_H_d_t_i(Q_max_H_d_t, L_H_d_t, None, '居室のみを暖房する方式でかつ主たる居室とその他の居室ともに温水暖房を設置する場合に該当しない場合')\n",
    "\n",
    "    E_F_H_d_t = Q_T_H_d_t / e_rtd_H  # (3)\n",
    "\n",
    "    return E_F_H_d_t\n",
    "\n",
    "\n",
    "def get_Q_UT_H_d_t(q_max_H, L_H_d_t):\n",
    "    # 最大暖房出力\n",
    "    Q_max_H_d_t = get_Q_max_H_d_t(q_max_H)\n",
    "\n",
    "    # 処理暖房負荷\n",
    "    Q_T_H_d_t = get_Q_T_H_d_t_i(Q_max_H_d_t, L_H_d_t, None, '居室のみを暖房する方式でかつ主たる居室とその他の居室ともに温水暖房を設置する場合に該当しない場合')\n",
    "\n",
    "    # 未処理暖房負荷\n",
    "    Q_UT_H_d_t = L_H_d_t - Q_T_H_d_t\n",
    "\n",
    "    return Q_UT_H_d_t"
   ]
  },
  {
   "cell_type": "markdown",
   "metadata": {},
   "source": [
    "## 付録 A 機器の性能を表す仕様の決定方法"
   ]
  },
  {
   "cell_type": "markdown",
   "metadata": {},
   "source": [
    "### A.1　記号及び単位"
   ]
  },
  {
   "cell_type": "markdown",
   "metadata": {},
   "source": [
    "省略"
   ]
  },
  {
   "cell_type": "markdown",
   "metadata": {},
   "source": [
    "### A.2　最大暖房能力"
   ]
  },
  {
   "cell_type": "markdown",
   "metadata": {},
   "source": [
    "$$\\large\n",
    "q_{max,H} = 240.1 \\times A_{HCZ}\n",
    "$$"
   ]
  },
  {
   "cell_type": "markdown",
   "metadata": {},
   "source": [
    "$q_{max,H}$：最大暖房能力(W)  \n",
    "$A_{HCZ}$：FF 暖房機により暖房される暖冷房区画の床面積(m<sup>2</sup>)  "
   ]
  },
  {
   "cell_type": "code",
   "execution_count": null,
   "metadata": {},
   "outputs": [],
   "source": [
    "def get_q_max_H(A_HCZ):\n",
    "    return 240.1 * A_HCZ  # (1)"
   ]
  },
  {
   "cell_type": "markdown",
   "metadata": {},
   "source": [
    "### A.3　連続運転時最小能力"
   ]
  },
  {
   "cell_type": "markdown",
   "metadata": {},
   "source": [
    "連続運転時最小能力$q_{min,H}$が0を下回る場合は0とする。"
   ]
  },
  {
   "cell_type": "markdown",
   "metadata": {},
   "source": [
    "$$\\large\n",
    "q_{min,H} = 0.4334 \\times q_{max,H} - 540.1\n",
    "$$"
   ]
  },
  {
   "cell_type": "markdown",
   "metadata": {},
   "source": [
    "$q_{min,H}$：連続運転時最小能力(W)"
   ]
  },
  {
   "cell_type": "code",
   "execution_count": null,
   "metadata": {},
   "outputs": [],
   "source": [
    "def get_q_min_H(q_max_H):\n",
    "    q_min_H = 0.4334 * q_max_H - 540.1  # (2)\n",
    "    return max(0.0, q_min_H)"
   ]
  },
  {
   "cell_type": "markdown",
   "metadata": {},
   "source": [
    "### A.4　定格燃焼効率"
   ]
  },
  {
   "cell_type": "markdown",
   "metadata": {},
   "source": [
    "定格燃焼効率$e_{trd,H}$は0.860（86.0%）とするか、ガスを燃料にするものについては JIS S 2122 に定められた測定方法による熱効率又は灯油を燃料にするものについては JIS S 3031 に定められた測定方法による空気を暖める方式の機器の熱効率を確認し、1000 分の 1 未満の端数を四捨五入し小数第三位までの値とする。"
   ]
  },
  {
   "cell_type": "code",
   "execution_count": null,
   "metadata": {},
   "outputs": [],
   "source": [
    "def get_e_rtd_H_default():\n",
    "    return 0.860\n",
    "\n",
    "\n",
    "def get_e_rtd_H(e_rtd_H_raw):\n",
    "    return round(e_rtd_H_raw * 1000) / 1000"
   ]
  },
  {
   "cell_type": "markdown",
   "metadata": {},
   "source": [
    "### A.5　定格暖房消費電力"
   ]
  },
  {
   "cell_type": "markdown",
   "metadata": {},
   "source": [
    "$$\\large\n",
    "P_{rtd,H} = 3.13 \\times 10^{-3} \\times q_{max,H}\n",
    "$$"
   ]
  },
  {
   "cell_type": "markdown",
   "metadata": {},
   "source": [
    "$P_{rtd,H}$：定格暖房消費電力(W)"
   ]
  },
  {
   "cell_type": "code",
   "execution_count": null,
   "metadata": {},
   "outputs": [],
   "source": [
    "def get_P_rtd_H(q_max_H):\n",
    "    return 3.13 / 1000 * q_max_H  # (3)"
   ]
  },
  {
   "cell_type": "markdown",
   "metadata": {},
   "source": [
    "### A.6　断続時消費電力"
   ]
  },
  {
   "cell_type": "markdown",
   "metadata": {},
   "source": [
    "断続時消費電力$P_{itm,H}$は、40.0Wとする。"
   ]
  },
  {
   "cell_type": "code",
   "execution_count": null,
   "metadata": {},
   "outputs": [],
   "source": [
    "def get_P_itm_H():\n",
    "    return 40.0"
   ]
  },
  {
   "cell_type": "markdown",
   "metadata": {},
   "source": [
    "### A.7　複数のFF暖房機が設置される場合の仕様の決定方法"
   ]
  },
  {
   "cell_type": "markdown",
   "metadata": {},
   "source": [
    "「主たる居室」に 2 台以上の暖房機が設置される場合、「その他の居室」に 2 台以上の暖房機が設置される場合又は複数の「その他の居室」においてそれぞれに暖房機が設置される場合は、「主たる居室」及び「その他の居室」それぞれにおいて、複数の機器の定格燃焼効率のうち最も小さい値を採用することとする。"
   ]
  },
  {
   "cell_type": "code",
   "execution_count": null,
   "metadata": {},
   "outputs": [],
   "source": [
    "def get_e_rtd_from_multi_devices(e_rtd_list):\n",
    "    return min(e_rtd_list)"
   ]
  }
 ],
 "metadata": {
  "kernelspec": {
   "display_name": "Python 3",
   "language": "python",
   "name": "python3"
  },
  "language_info": {
   "codemirror_mode": {
    "name": "ipython",
    "version": 3
   },
   "file_extension": ".py",
   "mimetype": "text/x-python",
   "name": "python",
   "nbconvert_exporter": "python",
   "pygments_lexer": "ipython3",
   "version": "3.6.4"
  }
 },
 "nbformat": 4,
 "nbformat_minor": 2
}
