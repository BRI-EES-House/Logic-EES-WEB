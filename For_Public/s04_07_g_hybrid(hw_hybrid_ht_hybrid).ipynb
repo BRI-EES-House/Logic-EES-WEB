{
 "cells": [
  {
   "cell_type": "code",
   "execution_count": null,
   "metadata": {},
   "outputs": [],
   "source": [
    "import numpy as np"
   ]
  },
  {
   "cell_type": "markdown",
   "metadata": {},
   "source": [
    "## 付録G　ヒートポンプ・ガス瞬間式併用型給湯温水暖房機（給湯熱源：ヒートポンプ・ガス瞬間式併用、暖房熱源：ヒートポンプ・ガス瞬間式併用）"
   ]
  },
  {
   "cell_type": "markdown",
   "metadata": {},
   "source": [
    "ヒートポンプ・ガス瞬間式併用型給湯温水暖房機（給湯熱源：ヒートポンプ・ガス瞬間式併用、暖房熱源：ヒートポンプ・ガス瞬間式併用）の暖房部のエネルギー消費量は、7 章 1 節「給湯設備」に記される計算方法によるものとする。 "
   ]
  },
  {
   "cell_type": "code",
   "execution_count": null,
   "metadata": {},
   "outputs": [],
   "source": [
    "# 消費電力量\n",
    "def get_E_E_hs():\n",
    "    return np.zeros(24 * 365)\n",
    "\n",
    "\n",
    "# ガス消費量\n",
    "def get_E_G_hs():\n",
    "    return np.zeros(24 * 365)\n",
    "\n",
    "\n",
    "# 灯油消費量\n",
    "def get_E_K_hs():\n",
    "    return np.zeros(24 * 365)\n",
    "\n",
    "\n",
    "# その他の一次エネルギー消費量\n",
    "def get_E_M_hs():\n",
    "    return np.zeros(24 * 365)"
   ]
  }
 ],
 "metadata": {
  "kernelspec": {
   "display_name": "Python 3",
   "language": "python",
   "name": "python3"
  },
  "language_info": {
   "codemirror_mode": {
    "name": "ipython",
    "version": 3
   },
   "file_extension": ".py",
   "mimetype": "text/x-python",
   "name": "python",
   "nbconvert_exporter": "python",
   "pygments_lexer": "ipython3",
   "version": "3.6.4"
  }
 },
 "nbformat": 4,
 "nbformat_minor": 2
}
