{
 "cells": [
  {
   "cell_type": "markdown",
   "metadata": {},
   "source": [
    "## 付録G　ヒートポンプ・ガス瞬間式併用型給湯温水暖房機（給湯熱源：ヒートポンプ・ガス瞬間式併用、暖房熱源：ヒートポンプ・ガス瞬間式併用）"
   ]
  },
  {
   "cell_type": "markdown",
   "metadata": {},
   "source": [
    "ヒートポンプ・ガス瞬間式併用型給湯温水暖房機（給湯熱源：ヒートポンプ・ガス瞬間式併用、暖房熱源：ヒートポンプ・ガス瞬間式併用）の暖房部のエネルギー消費量は、7 章 1 節「給湯設備」に記される計算方法によるものとする。 "
   ]
  }
 ],
 "metadata": {
  "kernelspec": {
   "display_name": "Python 3",
   "language": "python",
   "name": "python3"
  },
  "language_info": {
   "codemirror_mode": {
    "name": "ipython",
    "version": 3
   },
   "file_extension": ".py",
   "mimetype": "text/x-python",
   "name": "python",
   "nbconvert_exporter": "python",
   "pygments_lexer": "ipython3",
   "version": "3.6.2"
  }
 },
 "nbformat": 4,
 "nbformat_minor": 2
}
