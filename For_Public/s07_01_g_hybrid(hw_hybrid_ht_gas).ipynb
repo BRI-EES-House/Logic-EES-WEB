{
 "cells": [
  {
   "cell_type": "markdown",
   "metadata": {},
   "source": [
    "## 付録G　電気ヒートポンプ・ガス瞬間式併用型給湯温水暖房機（給湯熱源：電気ヒートポンプ・ガス瞬間式併用、暖房熱源：ガス瞬間式）"
   ]
  },
  {
   "cell_type": "markdown",
   "metadata": {},
   "source": [
    "### G.1 はじめに"
   ]
  },
  {
   "cell_type": "markdown",
   "metadata": {},
   "source": [
    "省略"
   ]
  },
  {
   "cell_type": "markdown",
   "metadata": {},
   "source": [
    "### G.2 仕様による方法"
   ]
  },
  {
   "cell_type": "markdown",
   "metadata": {},
   "source": [
    "#### G.2.1 記号"
   ]
  },
  {
   "cell_type": "markdown",
   "metadata": {},
   "source": [
    "省略"
   ]
  },
  {
   "cell_type": "markdown",
   "metadata": {},
   "source": [
    "#### G.2.2 添え字"
   ]
  },
  {
   "cell_type": "markdown",
   "metadata": {},
   "source": [
    "省略"
   ]
  },
  {
   "cell_type": "markdown",
   "metadata": {},
   "source": [
    "#### G.2.3 消費電力量"
   ]
  },
  {
   "cell_type": "markdown",
   "metadata": {},
   "source": [
    "$$\\large\n",
    "E_{E,hs} = max \\big( \\{ (a \\times \\theta_{ex,Ave} + b \\times (L''_{k}+L''_{s}+L''_{w}+L''_{b2}) + c) \\times C_{E,def} \\\\\n",
    "\\large + (0.01723 \\times L''_{ba2} + 0.06099) \\} \\times 10^{3} \\div 3600 , 0 \\big)\n",
    "$$"
   ]
  },
  {
   "cell_type": "markdown",
   "metadata": {},
   "source": [
    "$E_{E,hs}$：1 日当たりの給湯機の消費電力量(kWh/d)  \n",
    "$\\theta_{ex,Ave}$：日平均外気温度(℃)  \n",
    "$ L''_{k} $：1 日当たりの台所水栓における太陽熱補正給湯熱負荷(MJ/d)  \n",
    "$ L''_{s} $：1 日当たりの浴室シャワー水栓における太陽熱補正給湯熱負荷(MJ/d)  \n",
    "$ L''_{w} $：1 日当たりの洗面水栓における太陽熱補正給湯熱負荷(MJ/d)  \n",
    "$ L''_{b2} $：1 日当たりの浴槽自動湯はり時における太陽熱補正給湯熱負荷(MJ/d)  \n",
    "$ L''_{ba2} $：1 日当たりの浴槽追焚時における太陽熱補正給湯熱負荷(MJ/d)  \n",
    "$ C_{E,def} $：1 日当たりのデフロスト運転による消費電力量の補正係数 "
   ]
  },
  {
   "cell_type": "markdown",
   "metadata": {},
   "source": [
    "<div style=\"text-align: center;font-weight: bold;\">表　係数</div>\n",
    "\n",
    "<table>\n",
    "<thead>\n",
    "<tr>\n",
    "<th rowspan=\"2\"></th>\n",
    "<th colspan=\"3\">電気ヒートポンプ・ガス瞬間式併用型給湯機</th>\n",
    "</tr>\n",
    "<tr>\n",
    "<th>区分１</th><th>区分２</th><th>区分３</th>\n",
    "</tr>\n",
    "</thead>\n",
    "\n",
    "<tr><th>a</th><td>-0.18441</td><td>-0.18114</td><td>-0.18441</td></tr>\n",
    "<tr><th>b</th><td>0.18530</td><td>0.10483</td><td>0.18530</td></tr>\n",
    "<tr><th>c</th><td>3.51058</td><td>5.85285</td><td>3.51058</td></tr>\n",
    "</table>\n"
   ]
  },
  {
   "cell_type": "markdown",
   "metadata": {},
   "source": [
    "$$\\large\n",
    "C_{E,def} = \\left\\{ \\begin{array}{ll}\n",
    "    1.0 &(7 \\leq \\theta_{ex,Ave}の場合)\\\\ \n",
    "    1 + (7 - \\theta_{ex,Ave}) \\times 0.0091 &(\\theta_{ex,Ave} < 7の場合)\\\\ \n",
    "    \\end{array}\n",
    "\\right.\n",
    "$$"
   ]
  },
  {
   "cell_type": "markdown",
   "metadata": {},
   "source": [
    "#### G.2.4 ガス消費量"
   ]
  },
  {
   "cell_type": "markdown",
   "metadata": {},
   "source": [
    "$$\\large\n",
    "E_{G,hs} = max \\big( \\big \\{ (d \\times \\theta_{ex,Ave} + e \\times (L''_{k}+L''_{s}+L''_{w}+L''_{b2}) + f) \\times C_{G,def}  + \\frac{L''_{ba2}}{e_{ba2}} \\big \\} , 0 \\big)\n",
    "$$"
   ]
  },
  {
   "cell_type": "markdown",
   "metadata": {},
   "source": [
    "$E_{G,hs}$：1 日当たりの給湯機のガス消費量(MJ/d)  \n",
    "$\\theta_{ex,Ave}$：日平均外気温度(℃)  \n",
    "$ L''_{k} $：1 日当たりの台所水栓における太陽熱補正給湯熱負荷(MJ/d)  \n",
    "$ L''_{s} $：1 日当たりの浴室シャワー水栓における太陽熱補正給湯熱負荷(MJ/d)  \n",
    "$ L''_{w} $：1 日当たりの洗面水栓における太陽熱補正給湯熱負荷(MJ/d)  \n",
    "$ L''_{b2} $：1 日当たりの浴槽自動湯はり時における太陽熱補正給湯熱負荷(MJ/d)  \n",
    "$ L''_{ba2} $：1 日当たりの浴槽追焚時における太陽熱補正給湯熱負荷(MJ/d)  \n",
    "$ e_{ba2} $：浴槽追焚時における日平均給湯機効率  \n",
    "$ C_{G,def} $：1 日当たりのデフロスト運転によるガス消費量の補正係数 "
   ]
  },
  {
   "cell_type": "markdown",
   "metadata": {},
   "source": [
    "<div style=\"text-align: center;font-weight: bold;\">表　係数</div>\n",
    "\n",
    "<table>\n",
    "<thead>\n",
    "<tr>\n",
    "<th rowspan=\"2\"></th>\n",
    "<th colspan=\"3\">電気ヒートポンプ・ガス瞬間式併用型給湯機</th>\n",
    "</tr>\n",
    "<tr>\n",
    "<th>区分１</th><th>区分２</th><th>区分３</th>\n",
    "</tr>\n",
    "</thead>\n",
    "\n",
    "<tr><th>d</th><td>-0.52617</td><td>-0.05770</td><td>-0.52617</td></tr>\n",
    "<tr><th>e</th><td>0.15061</td><td>0.47525</td><td>0.15061</td></tr>\n",
    "<tr><th>f</th><td>15.18195</td><td>-6.34593</td><td> 15.18195</td></tr>\n",
    "</table>\n"
   ]
  },
  {
   "cell_type": "markdown",
   "metadata": {},
   "source": [
    "浴槽追焚時における日平均給湯機効率$e_{ba2}$は1.0を超えない。"
   ]
  },
  {
   "cell_type": "markdown",
   "metadata": {},
   "source": [
    "$$\\large\n",
    "e_{ba2} = g \\times \\theta_{ex,Ave} + h \\times L''_{ba2} + i\n",
    "$$"
   ]
  },
  {
   "cell_type": "markdown",
   "metadata": {},
   "source": [
    "<div style=\"text-align: center;font-weight: bold;\">表　係数</div>\n",
    "\n",
    "<table>\n",
    "<tr><th>係数</th><td>値</td></tr>\n",
    "<tr><th>g</th><td>0.0048</td></tr>\n",
    "<tr><th>h</th><td>0.0060</td></tr>\n",
    "<tr><th>i</th><td>0.7544</td></tr>\n",
    "</table>\n"
   ]
  },
  {
   "cell_type": "markdown",
   "metadata": {},
   "source": [
    "$$\\large\n",
    "C_{G,def} = \\left\\{ \\begin{array}{ll}\n",
    "    1.0 &(7 \\leq \\theta_{ex,Ave}の場合)\\\\ \n",
    "    1 + (7 - \\theta_{ex,Ave}) \\times 0.0205 &(\\theta_{ex,Ave} < 7の場合)\\\\ \n",
    "    \\end{array}\n",
    "\\right.\n",
    "$$"
   ]
  },
  {
   "cell_type": "markdown",
   "metadata": {},
   "source": [
    "#### G.2.5 灯油消費量"
   ]
  },
  {
   "cell_type": "markdown",
   "metadata": {},
   "source": [
    "1 日当たりの給湯機の灯油消費量$E_{K,hs}$は0とする。"
   ]
  },
  {
   "cell_type": "markdown",
   "metadata": {},
   "source": [
    "#### G.2.6 電気ヒートポンプ・ガス瞬間式併用型給湯温水暖房機の区分"
   ]
  },
  {
   "cell_type": "markdown",
   "metadata": {},
   "source": [
    "省略"
   ]
  },
  {
   "cell_type": "markdown",
   "metadata": {},
   "source": [
    "#### G.3 試験された値を用いる方法"
   ]
  },
  {
   "cell_type": "markdown",
   "metadata": {},
   "source": [
    "#### G.3.1 記号"
   ]
  },
  {
   "cell_type": "markdown",
   "metadata": {},
   "source": [
    "省略"
   ]
  },
  {
   "cell_type": "markdown",
   "metadata": {},
   "source": [
    "#### G.3.2 添え字"
   ]
  },
  {
   "cell_type": "markdown",
   "metadata": {},
   "source": [
    "省略"
   ]
  },
  {
   "cell_type": "markdown",
   "metadata": {},
   "source": [
    "#### G.3.3 ハイブリッド給湯機の仕様"
   ]
  },
  {
   "cell_type": "markdown",
   "metadata": {},
   "source": [
    "省略"
   ]
  },
  {
   "cell_type": "markdown",
   "metadata": {},
   "source": [
    "#### G.3.4 消費電力量"
   ]
  },
  {
   "cell_type": "markdown",
   "metadata": {},
   "source": [
    "$$\\large\n",
    "E_{E,hs} = E_{E,hs,HP} + E_{E,hs,TU} + E_{E,hs,BB}\n",
    "$$"
   ]
  },
  {
   "cell_type": "markdown",
   "metadata": {},
   "source": [
    "$E_{E,hs}$：1 日当たりの給湯機の消費電力量(kWh/d)  \n",
    "$E_{E,hs,HP}$：1 日当たりの電気ヒートポンプの消費電力量(kWh/d)  \n",
    "$E_{E,hs,TU}$：1 日当たりのタンクユニットの消費電力量(kWh/d)  \n",
    "$E_{E,hs,BB}$：1 日当たりの保温時における消費電力量(kWh/d)  "
   ]
  },
  {
   "cell_type": "markdown",
   "metadata": {},
   "source": [
    "$$\\large\n",
    "E_{E,hs,HP} = \\frac{Q_{HP}}{3.6 \\times e_{HP}}\n",
    "$$"
   ]
  },
  {
   "cell_type": "markdown",
   "metadata": {},
   "source": [
    "$Q_{HP}$：1 日当たりの電気ヒートポンプの加熱量(MJ/d)  \n",
    "$e_{HP}$：電気ヒートポンプの日平均熱効率(-)  "
   ]
  },
  {
   "cell_type": "markdown",
   "metadata": {},
   "source": [
    "$$\\large\n",
    "E_{E,hs,TU} = a_{TU} \\times L'' + b_{TU}\n",
    "$$"
   ]
  },
  {
   "cell_type": "markdown",
   "metadata": {},
   "source": [
    "$ L''$：1 日当たりの太陽熱補正給湯熱負荷(MJ/d)  "
   ]
  },
  {
   "cell_type": "markdown",
   "metadata": {},
   "source": [
    "ふろ機能の種類が給湯単機能又はふろ給湯機（追焚なし）の場合"
   ]
  },
  {
   "cell_type": "markdown",
   "metadata": {},
   "source": [
    "$$\\large\n",
    "E_{E,hs,BB} = \\left\\{ \\begin{array}{ll}\n",
    "    0.000393 \\times W'_{ba1} \\times 10^{3} \\div 3600 &(W'_{ba1} > 0)\\\\ \n",
    "    0 &(W'_{ba1} = 0)\\\\ \n",
    "    \\end{array}\n",
    "\\right.\n",
    "$$"
   ]
  },
  {
   "cell_type": "markdown",
   "metadata": {},
   "source": [
    "ふろ機能の種類がふろ給湯機（追焚あり）の場合"
   ]
  },
  {
   "cell_type": "markdown",
   "metadata": {},
   "source": [
    "$$\\large\n",
    "E_{E,hs,BB} = \\left\\{ \\begin{array}{ll}\n",
    "    (0.01723 \\times L_{BB,ba2} + 0.06099) \\times 10^{3} \\div 3600 &(L_{BB,ba2} > 0)\\\\ \n",
    "    0 &(L_{BB,ba2} = 0)\\\\ \n",
    "    \\end{array}\n",
    "\\right.\n",
    "$$"
   ]
  },
  {
   "cell_type": "markdown",
   "metadata": {},
   "source": [
    "$ W'_{ba1} $：1 日当たりの浴槽水栓さし湯時における節湯補正給湯量(L/d)  \n",
    "$L_{BB,ba2}$：1 日当たりの浴槽追焚時におけるバックアップボイラーが分担する給湯熱負荷(MJ/d)  "
   ]
  },
  {
   "cell_type": "markdown",
   "metadata": {},
   "source": [
    "#### G.3.5 ガス消費量"
   ]
  },
  {
   "cell_type": "markdown",
   "metadata": {},
   "source": [
    "ふろ機能の種類が「給湯単機能」の場合"
   ]
  },
  {
   "cell_type": "markdown",
   "metadata": {},
   "source": [
    "$$\\large\n",
    "E_{G,hs} = \\frac{L_{BB,k}}{e_{BB,k}} + \\frac{L_{BB,s}}{e_{BB,s}} + \\frac{L_{BB,w}}{e_{BB,w}} + \\frac{L_{BB,b1}}{e_{BB,b1}} + \\frac{L_{BB,ba1}}{e_{BB,ba1}}\n",
    "$$\n"
   ]
  },
  {
   "cell_type": "markdown",
   "metadata": {},
   "source": [
    "ふろ機能の種類が「ふろ給湯機（追焚なし）」の場合"
   ]
  },
  {
   "cell_type": "markdown",
   "metadata": {},
   "source": [
    "$$\\large\n",
    "E_{G,hs} = \\frac{L_{BB,k}}{e_{BB,k}} + \\frac{L_{BB,s}}{e_{BB,s}} + \\frac{L_{BB,w}}{e_{BB,w}} + \\frac{L_{BB,b2}}{e_{BB,b2}} + \\frac{L_{BB,ba1}}{e_{BB,ba1}}\n",
    "$$"
   ]
  },
  {
   "cell_type": "markdown",
   "metadata": {},
   "source": [
    "ふろ機能の種類が「ふろ給湯機（追焚あり）」の場合"
   ]
  },
  {
   "cell_type": "markdown",
   "metadata": {},
   "source": [
    "$$\\large\n",
    "E_{G,hs} = \\frac{L_{BB,k}}{e_{BB,k}} + \\frac{L_{BB,s}}{e_{BB,s}} + \\frac{L_{BB,w}}{e_{BB,w}} + \\frac{L_{BB,b2}}{e_{BB,b2}} + \\frac{L_{BB,ba2}}{e_{BB,ba2}}\n",
    "$$"
   ]
  },
  {
   "cell_type": "markdown",
   "metadata": {},
   "source": [
    "$ L_{BB,k} $：1 日当たりの台所水栓におけるバックアップボイラーが分担する給湯熱負荷(MJ/d)  \n",
    "$ L_{BB,s} $：1 日当たりの浴室シャワー水栓におけるバックアップボイラーが分担する給湯熱負荷(MJ/d)  \n",
    "$ L_{BB,w} $：1 日当たりの洗面水栓におけるバックアップボイラーが分担する給湯熱負荷(MJ/d)  \n",
    "$ L_{BB,b1} $：1 日当たりの浴槽水栓湯はり時におけるバックアップボイラーが分担する給湯熱負荷(MJ/d)  \n",
    "$ L_{BB,b2} $：1 日当たりの浴槽自動湯はり時におけるバックアップボイラーが分担する給湯熱負荷(MJ/d)  \n",
    "$ L_{BB,ba1} $：1 日当たりの浴槽水栓さし湯時におけるバックアップボイラーが分担する給湯熱負荷(MJ/d)  \n",
    "$ L_{BB,ba2} $：1 日当たりの浴槽追焚時におけるバックアップボイラーが分担する給湯熱負荷(MJ/d)  \n",
    "$ e_{BB,k} $：台所水栓の給湯使用時におけるバックアップボイラーの日平均熱効率  \n",
    "$ e_{BB,s} $：浴室シャワー水栓の給湯使用時におけるバックアップボイラーの日平均熱効率  \n",
    "$ e_{BB,w} $：洗面水栓の給湯使用時におけるバックアップボイラーの日平均熱効率  \n",
    "$ e_{BB,b1} $：浴槽水栓湯はり時におけるバックアップボイラーの日平均熱効率  \n",
    "$ e_{BB,b2} $：浴槽自動湯はり時におけるバックアップボイラーの日平均熱効率  \n",
    "$ e_{BB,ba1} $：浴槽水栓さし湯時におけるバックアップボイラーの日平均熱効率  \n",
    "$ e_{BB,ba2} $：浴槽追焚時におけるバックアップボイラーの日平均熱効率  "
   ]
  },
  {
   "cell_type": "markdown",
   "metadata": {},
   "source": [
    "#### G.3.6 電気ヒートポンプの加熱量"
   ]
  },
  {
   "cell_type": "markdown",
   "metadata": {},
   "source": [
    "$$\\large\n",
    "Q_{HP} = \\frac{L_{HP}}{1 - \\eta_{loss,TU}}\n",
    "$$"
   ]
  },
  {
   "cell_type": "markdown",
   "metadata": {},
   "source": [
    "$L_{HP}$：1 日当たりの電気ヒートポンプが分担する給湯熱負荷(MJ/d)  \n",
    "$\\eta_{loss,TU}$：年平均貯湯槽熱損失率(-)  "
   ]
  },
  {
   "cell_type": "markdown",
   "metadata": {},
   "source": [
    "#### G.3.7 電気ヒートポンプの日平均熱効率"
   ]
  },
  {
   "cell_type": "markdown",
   "metadata": {},
   "source": [
    "$$\\large\n",
    "e_{HP} = \\left\\{ \\begin{array}{ll}\n",
    "    e_{HPstd,2} - \\frac{2 - \\theta_{ex,Ave}}{9} (e_{HPstd,2} - e_{HPstd,-7}) &(\\theta_{ex,Ave}<2)\\\\ \n",
    "    e_{HPstd,7} - \\frac{7 - \\theta_{ex,Ave}}{5} (e_{HPstd,7} - e_{HPstd,2}) &(2 \\leq \\theta_{ex,Ave}<7)\\\\ \n",
    "    e_{HPstd,25} - \\frac{25 - \\theta_{ex,Ave}}{18} (e_{HPstd,25} - e_{HPstd,7}) &(7 \\leq \\theta_{ex,Ave}<25)\\\\ \n",
    "    e_{HPstd,25} &(\\theta_{ex,Ave} \\geq 25)\\\\ \n",
    "    \\end{array}\n",
    "\\right.\n",
    "$$"
   ]
  },
  {
   "cell_type": "markdown",
   "metadata": {},
   "source": [
    "$e_{HPstd,-7}$：外気温度-7℃におけるヒートポンプ基準加熱効率(-)  \n",
    "$e_{HPstd,2}$：外気温度2℃におけるヒートポンプ基準加熱効率(-)  \n",
    "$e_{HPstd,7}$：外気温度7℃におけるヒートポンプ基準加熱効率(-)  \n",
    "$e_{HPstd,25}$：外気温度25℃におけるヒートポンプ基準加熱効率(-)  \n",
    "$\\theta_{ex,Ave}$：日平均外気温度(℃)  "
   ]
  },
  {
   "cell_type": "markdown",
   "metadata": {},
   "source": [
    "#### G.3.8 給湯熱負荷"
   ]
  },
  {
   "cell_type": "markdown",
   "metadata": {},
   "source": [
    "$$\\large\n",
    "\\displaystyle\n",
    "L_{BB,k} = L''_{k} - L_{HP} \\times \\frac{L''_{k}}{L''}\n",
    "$$\n",
    "\n",
    "$$\\large\n",
    "\\displaystyle\n",
    "L_{BB,s} = L''_{s} - L_{HP} \\times \\frac{L''_{s}}{L''}\n",
    "$$\n",
    "\n",
    "$$\\large\n",
    "\\displaystyle\n",
    "L_{BB,w} = L''_{w} - L_{HP} \\times \\frac{L''_{w}}{L''}\n",
    "$$\n",
    "\n",
    "$$\\large\n",
    "\\displaystyle\n",
    "L_{BB,b1} = L''_{b1} - L_{HP} \\times \\frac{L''_{b1}}{L''}\n",
    "$$\n",
    "\n",
    "$$\\large\n",
    "\\displaystyle\n",
    "L_{BB,b2} = L''_{b2} - L_{HP} \\times \\frac{L''_{b2}}{L''}\n",
    "$$\n",
    "\n",
    "$$\\large\n",
    "\\displaystyle\n",
    "L_{BB,ba1} = L''_{ba1} - L_{HP} \\times \\frac{L''_{ba1}}{L''}\n",
    "$$\n",
    "\n",
    "$$\\large\n",
    "\\displaystyle\n",
    "L_{BB,ba2} = L''_{ba2}\n",
    "$$"
   ]
  },
  {
   "cell_type": "markdown",
   "metadata": {},
   "source": [
    "$ L''_{k} $：1 日当たりの台所水栓における太陽熱補正給湯熱負荷(MJ/d)  \n",
    "$ L''_{s} $：1 日当たりの浴室シャワー水栓における太陽熱補正給湯熱負荷(MJ/d)  \n",
    "$ L''_{w} $：1 日当たりの洗面水栓における太陽熱補正給湯熱負荷(MJ/d)  \n",
    "$ L''_{b1} $：1 日当たりの浴槽水栓湯はり時における太陽熱補正給湯熱負荷(MJ/d)  \n",
    "$ L''_{b2} $：1 日当たりの浴槽自動湯はり時における太陽熱補正給湯熱負荷(MJ/d)  \n",
    "$ L''_{ba1} $：1 日当たりの浴槽水栓さし湯時における太陽熱補正給湯熱負荷(MJ/d)  \n",
    "$ L''_{ba2} $：1 日当たりの浴槽追焚時における太陽熱補正給湯熱負荷(MJ/d)  \n",
    "$ L_{HP} $：1 日当たりの電気ヒートポンプが分担する給湯熱負荷(MJ/d)  "
   ]
  },
  {
   "cell_type": "markdown",
   "metadata": {},
   "source": [
    "&#9312;$\\theta_{ex,Ave} \\geq \\theta_{ex,min,HP}$ の場合"
   ]
  },
  {
   "cell_type": "markdown",
   "metadata": {},
   "source": [
    "$$\\large\n",
    "L_{HP} = min \\big((a_{HP} \\times L'' + b_{HP}) \\times (1 - \\eta_{loss,TU}) , L'', Q_{HP,max} \\times (1 - \\eta_{loss,TU}) \\big)\n",
    "$$"
   ]
  },
  {
   "cell_type": "markdown",
   "metadata": {},
   "source": [
    "&#9313;$\\theta_{ex,Ave} < \\theta_{ex,min,HP}$ の場合"
   ]
  },
  {
   "cell_type": "markdown",
   "metadata": {},
   "source": [
    "$$\\large\n",
    "L_{HP} = 0\n",
    "$$"
   ]
  },
  {
   "cell_type": "markdown",
   "metadata": {},
   "source": [
    "$\\theta_{ex,Ave}$：日平均外気温度(℃)  \n",
    "$\\theta_{ex,min,HP}$：ヒートポンプ運転下限外気温(℃)  \n",
    "$ L''$：1 日当たりの太陽熱補正給湯熱負荷(MJ/d)  \n",
    "$\\eta_{loss,TU}$：年平均貯湯槽熱損失率(-)  \n",
    "$Q_{HP,max}$：最大ヒートポンプ加熱量(MJ/d)  "
   ]
  },
  {
   "cell_type": "markdown",
   "metadata": {},
   "source": [
    "$$\\large\n",
    "\\displaystyle\n",
    "L'' = L''_{k}+L''_{s}+L''_{w}+L''_{b1}+L''_{b2}+L''_{ba1}\n",
    "$$"
   ]
  },
  {
   "cell_type": "markdown",
   "metadata": {},
   "source": [
    "$ L''_{k} $：1 日当たりの台所水栓における太陽熱補正給湯熱負荷(MJ/d)  \n",
    "$ L''_{s} $：1 日当たりの浴室シャワー水栓における太陽熱補正給湯熱負荷(MJ/d)  \n",
    "$ L''_{w} $：1 日当たりの洗面水栓における太陽熱補正給湯熱負荷(MJ/d)  \n",
    "$ L''_{b1} $：1 日当たりの浴槽水栓湯はり時における太陽熱補正給湯熱負荷(MJ/d)  \n",
    "$ L''_{b2} $：1 日当たりの浴槽自動湯はり時における太陽熱補正給湯熱負荷(MJ/d)  \n",
    "$ L''_{ba1} $：1 日当たりの浴槽水栓さし湯時における太陽熱補正給湯熱負荷(MJ/d)  "
   ]
  }
 ],
 "metadata": {
  "kernelspec": {
   "display_name": "Python 3",
   "language": "python",
   "name": "python3"
  },
  "language_info": {
   "codemirror_mode": {
    "name": "ipython",
    "version": 3
   },
   "file_extension": ".py",
   "mimetype": "text/x-python",
   "name": "python",
   "nbconvert_exporter": "python",
   "pygments_lexer": "ipython3",
   "version": "3.6.2"
  }
 },
 "nbformat": 4,
 "nbformat_minor": 2
}
