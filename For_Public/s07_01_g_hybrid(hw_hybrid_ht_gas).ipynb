{
 "cells": [
  {
   "cell_type": "markdown",
   "metadata": {},
   "source": [
    "## 付録G　電気ヒートポンプ・ガス瞬間式併用型給湯温水暖房機（給湯熱源：電気ヒートポンプ・ガス瞬間式併用、暖房熱源：ガス瞬間式）"
   ]
  },
  {
   "cell_type": "markdown",
   "metadata": {},
   "source": [
    "### G.1 はじめに"
   ]
  },
  {
   "cell_type": "markdown",
   "metadata": {},
   "source": [
    "省略"
   ]
  },
  {
   "cell_type": "markdown",
   "metadata": {},
   "source": [
    "### G.2 仕様による方法"
   ]
  },
  {
   "cell_type": "markdown",
   "metadata": {},
   "source": [
    "#### G.2.1 記号"
   ]
  },
  {
   "cell_type": "markdown",
   "metadata": {},
   "source": [
    "省略"
   ]
  },
  {
   "cell_type": "markdown",
   "metadata": {},
   "source": [
    "#### G.2.2 添え字"
   ]
  },
  {
   "cell_type": "markdown",
   "metadata": {},
   "source": [
    "省略"
   ]
  },
  {
   "cell_type": "markdown",
   "metadata": {},
   "source": [
    "#### G.2.3 消費電力量"
   ]
  },
  {
   "cell_type": "markdown",
   "metadata": {},
   "source": [
    "$L''_{k,d}+L''_{s,d}+L''_{w,d}+L''_{b2,d}+L''_{ba2,d} = 0 $\n",
    "の場合"
   ]
  },
  {
   "cell_type": "markdown",
   "metadata": {},
   "source": [
    "$$\\large\n",
    "E_{E,hs,d,t} = E_{E,hs,d} \\div 24\n",
    "$$"
   ]
  },
  {
   "cell_type": "markdown",
   "metadata": {},
   "source": [
    "$L''_{k,d}+L''_{s,d}+L''_{w,d}+L''_{b2,d}+L''_{ba2,d} > 0$\n",
    "の場合"
   ]
  },
  {
   "cell_type": "markdown",
   "metadata": {},
   "source": [
    "$$\\large\n",
    "E_{E,hs,d,t} = E_{E,hs,d} \\times \\frac{L''_{k,d,t}+L''_{s,d,t}+L''_{w,d,t}+L''_{b2,d,t}+L''_{ba2,d,t}}{L''_{k,d}+L''_{s,d}+L''_{w,d}+L''_{b2,d}+L''_{ba2,d}}\n",
    "$$"
   ]
  },
  {
   "cell_type": "markdown",
   "metadata": {},
   "source": [
    "$E_{E,hs,d}$：日付$d$における1 日当たりの給湯機の消費電力量(kWh/d)  \n",
    "$E_{E,hs,d,t}$：日付$d$の時刻$t$における1時間当たりの給湯機の消費電力量(kWh/h)  \n",
    "$ L''_{k,d} $：日付$d$における1 日当たりの台所水栓における太陽熱補正給湯熱負荷(MJ/d)  \n",
    "$ L''_{s,d} $：日付$d$における1 日当たりの浴室シャワー水栓における太陽熱補正給湯熱負荷(MJ/d)  \n",
    "$ L''_{w,d} $：日付$d$における1 日当たりの洗面水栓における太陽熱補正給湯熱負荷(MJ/d)  \n",
    "$ L''_{b2,d} $：日付$d$における1 日当たりの浴槽自動湯はり時における太陽熱補正給湯熱負荷(MJ/d)  \n",
    "$ L''_{ba2,d} $：日付$d$における1 日当たりの浴槽追焚時における太陽熱補正給湯熱負荷(MJ/d)  \n",
    "$ L''_{k,d,t} $：日付$d$の時刻$t$における 1時間当たりの台所水栓における太陽熱補正給湯熱負荷(MJ/h)  \n",
    "$ L''_{s,d,t} $：日付$d$の時刻$t$における 1時間当たりの浴室シャワー水栓における太陽熱補正給湯熱負荷(MJ/h)  \n",
    "$ L''_{w,d,t} $：日付$d$の時刻$t$における 1時間当たりの洗面水栓における太陽熱補正給湯熱負荷(MJ/h)  \n",
    "$ L''_{b2,d,t} $：日付$d$の時刻$t$における 1時間当たりの浴槽自動湯はり時における太陽熱補正給湯熱負荷(MJ/h)  \n",
    "$ L''_{ba2,d,t} $：日付$d$の時刻$t$における 1時間当たりの浴槽追焚時における太陽熱補正給湯熱負荷(MJ/h)  "
   ]
  },
  {
   "cell_type": "markdown",
   "metadata": {},
   "source": [
    "$$\\large\n",
    "E_{E,hs,d} = max \\big( \\{ (a \\times \\theta_{ex,Ave,d} + b \\times (L''_{k,d}+L''_{s,d}+L''_{w,d}+L''_{b2,d}) + c) \\times C_{E,def,d} \\\\\n",
    "\\large + (0.01723 \\times L''_{ba2,d} + 0.06099) \\} \\times 10^{3} \\div 3600 , 0 \\big)\n",
    "$$"
   ]
  },
  {
   "cell_type": "markdown",
   "metadata": {},
   "source": [
    "$ C_{E,def,d} $：日付$d$における1 日当たりのデフロスト運転による消費電力量の補正係数(-)  \n",
    "$E_{E,hs,d}$：日付$d$における1 日当たりの給湯機の消費電力量(kWh/d)  \n",
    "$ L''_{k,d} $：日付$d$における1 日当たりの台所水栓における太陽熱補正給湯熱負荷(MJ/d)  \n",
    "$ L''_{s,d} $：日付$d$における1 日当たりの浴室シャワー水栓における太陽熱補正給湯熱負荷(MJ/d)  \n",
    "$ L''_{w,d} $：日付$d$における1 日当たりの洗面水栓における太陽熱補正給湯熱負荷(MJ/d)  \n",
    "$ L''_{b2,d} $：日付$d$における1 日当たりの浴槽自動湯はり時における太陽熱補正給湯熱負荷(MJ/d)  \n",
    "$ L''_{ba2,d} $：日付$d$における1 日当たりの浴槽追焚時における太陽熱補正給湯熱負荷(MJ/d)  \n",
    "$\\theta_{ex,Ave,d}$：日付$d$における日平均外気温度(℃)  \n",
    "$a, b, c$：係数(-)  "
   ]
  },
  {
   "cell_type": "markdown",
   "metadata": {},
   "source": [
    "<div style=\"text-align: center;font-weight: bold;\">表　係数</div>\n",
    "\n",
    "<table>\n",
    "<thead>\n",
    "<tr>\n",
    "<th rowspan=\"2\"></th>\n",
    "<th colspan=\"3\">電気ヒートポンプ・ガス瞬間式併用型給湯機</th>\n",
    "</tr>\n",
    "<tr>\n",
    "<th>区分１</th><th>区分２</th><th>区分３</th>\n",
    "</tr>\n",
    "</thead>\n",
    "\n",
    "<tr><th>a</th><td>-0.18441</td><td>-0.18114</td><td>-0.18441</td></tr>\n",
    "<tr><th>b</th><td>0.18530</td><td>0.10483</td><td>0.18530</td></tr>\n",
    "<tr><th>c</th><td>3.51058</td><td>5.85285</td><td>3.51058</td></tr>\n",
    "</table>\n"
   ]
  },
  {
   "cell_type": "markdown",
   "metadata": {},
   "source": [
    "$$\\large\n",
    "C_{E,def,d} = \\left\\{ \\begin{array}{ll}\n",
    "    1.0 &(7 \\leq \\theta_{ex,Ave,d}の場合)\\\\ \n",
    "    1 + (7 - \\theta_{ex,Ave,d}) \\times 0.0091 &(\\theta_{ex,Ave,d} < 7の場合)\\\\ \n",
    "    \\end{array}\n",
    "\\right.\n",
    "$$"
   ]
  },
  {
   "cell_type": "markdown",
   "metadata": {},
   "source": [
    "$ C_{E,def,d} $：日付$d$における1 日当たりのデフロスト運転による消費電力量の補正係数(-)  \n",
    "$\\theta_{ex,Ave,d}$：日付$d$における日平均外気温度(℃)  "
   ]
  },
  {
   "cell_type": "markdown",
   "metadata": {},
   "source": [
    "#### G.2.4 ガス消費量"
   ]
  },
  {
   "cell_type": "markdown",
   "metadata": {},
   "source": [
    "$L''_{k,d}+L''_{s,d}+L''_{w,d}+L''_{b2,d}+L''_{ba2,d} = 0 $\n",
    "の場合"
   ]
  },
  {
   "cell_type": "markdown",
   "metadata": {},
   "source": [
    "$$\\large\n",
    "E_{G,hs,d,t} = E_{G,hs,d} \\div 24\n",
    "$$"
   ]
  },
  {
   "cell_type": "markdown",
   "metadata": {},
   "source": [
    "$L''_{k,d}+L''_{s,d}+L''_{w,d}+L''_{b2,d}+L''_{ba2,d} > 0$\n",
    "の場合"
   ]
  },
  {
   "cell_type": "markdown",
   "metadata": {},
   "source": [
    "$$\\large\n",
    "E_{G,hs,d,t} = E_{G,hs,d} \\times \\frac{L''_{k,d,t}+L''_{s,d,t}+L''_{w,d,t}+L''_{b2,d,t}+L''_{ba2,d,t}}{L''_{k,d}+L''_{s,d}+L''_{w,d}+L''_{b2,d}+L''_{ba2,d}}\n",
    "$$"
   ]
  },
  {
   "cell_type": "markdown",
   "metadata": {},
   "source": [
    "$E_{G,hs,d}$：日付$d$における1 日当たりの給湯機のガス消費量(MJ/d)  \n",
    "$E_{G,hs,d,t}$：日付$d$の時刻$t$における1時間当たりの給湯機のガス消費量(MJ/h)  \n",
    "$ L''_{k,d} $：日付$d$における1 日当たりの台所水栓における太陽熱補正給湯熱負荷(MJ/d)  \n",
    "$ L''_{s,d} $：日付$d$における1 日当たりの浴室シャワー水栓における太陽熱補正給湯熱負荷(MJ/d)  \n",
    "$ L''_{w,d} $：日付$d$における1 日当たりの洗面水栓における太陽熱補正給湯熱負荷(MJ/d)  \n",
    "$ L''_{b2,d} $：日付$d$における1 日当たりの浴槽自動湯はり時における太陽熱補正給湯熱負荷(MJ/d)  \n",
    "$ L''_{ba2,d} $：日付$d$における1 日当たりの浴槽追焚時における太陽熱補正給湯熱負荷(MJ/d)  \n",
    "$ L''_{k,d,t} $：日付$d$の時刻$t$における 1時間当たりの台所水栓における太陽熱補正給湯熱負荷(MJ/h)  \n",
    "$ L''_{s,d,t} $：日付$d$の時刻$t$における 1時間当たりの浴室シャワー水栓における太陽熱補正給湯熱負荷(MJ/h)  \n",
    "$ L''_{w,d,t} $：日付$d$の時刻$t$における 1時間当たりの洗面水栓における太陽熱補正給湯熱負荷(MJ/h)  \n",
    "$ L''_{b2,d,t} $：日付$d$の時刻$t$における 1時間当たりの浴槽自動湯はり時における太陽熱補正給湯熱負荷(MJ/h)  \n",
    "$ L''_{ba2,d,t} $：日付$d$の時刻$t$における 1時間当たりの浴槽追焚時における太陽熱補正給湯熱負荷(MJ/h)  "
   ]
  },
  {
   "cell_type": "markdown",
   "metadata": {},
   "source": [
    "$$\n",
    "E_{G,hs,d} = max \\bigg( \\bigg \\{ (d \\times \\theta_{ex,Ave,d} + e \\times (L''_{k,d}+L''_{s,d}+L''_{w,d}+L''_{b2,d}) + f) \\times C_{G,def,d}  + \\frac{L''_{ba2,d}}{e_{ba2,d}} \\bigg \\} , 0 \\bigg)\n",
    "$$"
   ]
  },
  {
   "cell_type": "markdown",
   "metadata": {},
   "source": [
    "$ C_{G,def,d} $：日付$d$における1 日当たりのデフロスト運転によるガス消費量の補正係数(-)  \n",
    "$E_{G,hs,d}$：日付$d$における1 日当たりの給湯機のガス消費量(MJ/d)  \n",
    "$ e_{ba2,d} $：日付$d$における浴槽追焚時における日平均給湯機効率(-)  \n",
    "$ L''_{k,d} $：日付$d$における1 日当たりの台所水栓における太陽熱補正給湯熱負荷(MJ/d)  \n",
    "$ L''_{s,d} $：日付$d$における1 日当たりの浴室シャワー水栓における太陽熱補正給湯熱負荷(MJ/d)  \n",
    "$ L''_{w,d} $：日付$d$における1 日当たりの洗面水栓における太陽熱補正給湯熱負荷(MJ/d)  \n",
    "$ L''_{b2,d} $：日付$d$における1 日当たりの浴槽自動湯はり時における太陽熱補正給湯熱負荷(MJ/d)  \n",
    "$ L''_{ba2,d} $：日付$d$における1 日当たりの浴槽追焚時における太陽熱補正給湯熱負荷(MJ/d)  \n",
    "$\\theta_{ex,Ave,d}$：日付$d$における日平均外気温度(℃)  \n",
    "$d, e, f$：係数(-)  "
   ]
  },
  {
   "cell_type": "markdown",
   "metadata": {},
   "source": [
    "<div style=\"text-align: center;font-weight: bold;\">表　係数</div>\n",
    "\n",
    "<table>\n",
    "<thead>\n",
    "<tr>\n",
    "<th rowspan=\"2\"></th>\n",
    "<th colspan=\"3\">電気ヒートポンプ・ガス瞬間式併用型給湯機</th>\n",
    "</tr>\n",
    "<tr>\n",
    "<th>区分１</th><th>区分２</th><th>区分３</th>\n",
    "</tr>\n",
    "</thead>\n",
    "\n",
    "<tr><th>d</th><td>-0.52617</td><td>-0.05770</td><td>-0.52617</td></tr>\n",
    "<tr><th>e</th><td>0.15061</td><td>0.47525</td><td>0.15061</td></tr>\n",
    "<tr><th>f</th><td>15.18195</td><td>-6.34593</td><td> 15.18195</td></tr>\n",
    "</table>\n"
   ]
  },
  {
   "cell_type": "markdown",
   "metadata": {},
   "source": [
    "浴槽追焚時における日平均給湯機効率$e_{ba2,d}$は1.0を超えない。"
   ]
  },
  {
   "cell_type": "markdown",
   "metadata": {},
   "source": [
    "$$\\large\n",
    "e_{ba2,d} = g \\times \\theta_{ex,Ave,d} + h \\times L''_{ba2,d} + i\n",
    "$$"
   ]
  },
  {
   "cell_type": "markdown",
   "metadata": {},
   "source": [
    "$ e_{ba2,d} $：日付$d$における浴槽追焚時における日平均給湯機効率(-)  \n",
    "$ L''_{ba2,d} $：日付$d$における1 日当たりの浴槽追焚時における太陽熱補正給湯熱負荷(MJ/d)  \n",
    "$\\theta_{ex,Ave,d}$：日付$d$における日平均外気温度(℃)  \n",
    "$g, h, i$：係数(-)  "
   ]
  },
  {
   "cell_type": "markdown",
   "metadata": {},
   "source": [
    "<div style=\"text-align: center;font-weight: bold;\">表　係数</div>\n",
    "\n",
    "<table>\n",
    "<tr><th>係数</th><td>値</td></tr>\n",
    "<tr><th>g</th><td>0.0048</td></tr>\n",
    "<tr><th>h</th><td>0.0060</td></tr>\n",
    "<tr><th>i</th><td>0.7544</td></tr>\n",
    "</table>\n"
   ]
  },
  {
   "cell_type": "markdown",
   "metadata": {},
   "source": [
    "$$\\large\n",
    "C_{G,def,d} = \\left\\{ \\begin{array}{ll}\n",
    "    1.0 &(7 \\leq \\theta_{ex,Ave,d}の場合)\\\\ \n",
    "    1 + (7 - \\theta_{ex,Ave,d}) \\times 0.0205 &(\\theta_{ex,Ave,d} < 7の場合)\\\\ \n",
    "    \\end{array}\n",
    "\\right.\n",
    "$$"
   ]
  },
  {
   "cell_type": "markdown",
   "metadata": {},
   "source": [
    "$ C_{G,def,d} $：日付$d$における1 日当たりのデフロスト運転によるガス消費量の補正係数(-)  \n",
    "$\\theta_{ex,Ave,d}$：日付$d$における日平均外気温度(℃)  "
   ]
  },
  {
   "cell_type": "markdown",
   "metadata": {},
   "source": [
    "#### G.2.5 灯油消費量"
   ]
  },
  {
   "cell_type": "markdown",
   "metadata": {},
   "source": [
    "日付$d$の時刻$t$における1時間当たりの給湯機の灯油消費量$E_{K,hs,d,t}$は0とする。"
   ]
  },
  {
   "cell_type": "markdown",
   "metadata": {},
   "source": [
    "#### G.2.6 電気ヒートポンプ・ガス瞬間式併用型給湯温水暖房機の区分"
   ]
  },
  {
   "cell_type": "markdown",
   "metadata": {},
   "source": [
    "省略"
   ]
  },
  {
   "cell_type": "markdown",
   "metadata": {},
   "source": [
    "### G.3 試験された値を用いる方法"
   ]
  },
  {
   "cell_type": "markdown",
   "metadata": {},
   "source": [
    "#### G.3.1 記号"
   ]
  },
  {
   "cell_type": "markdown",
   "metadata": {},
   "source": [
    "省略"
   ]
  },
  {
   "cell_type": "markdown",
   "metadata": {},
   "source": [
    "#### G.3.2 添え字"
   ]
  },
  {
   "cell_type": "markdown",
   "metadata": {},
   "source": [
    "省略"
   ]
  },
  {
   "cell_type": "markdown",
   "metadata": {},
   "source": [
    "#### G.3.3 ハイブリッド給湯機の仕様"
   ]
  },
  {
   "cell_type": "markdown",
   "metadata": {},
   "source": [
    "省略"
   ]
  },
  {
   "cell_type": "markdown",
   "metadata": {},
   "source": [
    "#### G.3.4 消費電力量"
   ]
  },
  {
   "cell_type": "markdown",
   "metadata": {},
   "source": [
    "$$\\large\n",
    "E_{E,hs,d,t} = E_{E,hs,HP,d,t} + E_{E,hs,TU,d,t} + E_{E,hs,BB,d,t}\n",
    "$$"
   ]
  },
  {
   "cell_type": "markdown",
   "metadata": {},
   "source": [
    "$E_{E,hs,d,t}$：日付$d$の時刻$t$における1時間当たりの給湯機の消費電力量(kWh/h)  \n",
    "$E_{E,hs,HP,d,t}$：日付$d$の時刻$t$における1時間当たりの電気ヒートポンプの消費電力量(kWh/h)  \n",
    "$E_{E,hs,TU,d,t}$：日付$d$の時刻$t$における1時間当たりのタンクユニットの消費電力量(kWh/h)  \n",
    "$E_{E,hs,BB,d,t}$：日付$d$の時刻$t$における1時間当たりの保温時における消費電力量(kWh/h)  "
   ]
  },
  {
   "cell_type": "markdown",
   "metadata": {},
   "source": [
    "$$\\large\n",
    "E_{E,hs,HP,d,t} = \\left\\{ \\begin{array}{ll}\n",
    "    \\frac{Q_{HP,d}}{3.6 \\times e_{HP,d}} \\times \\frac{L''_{d,t}}{L''_{d}} & (L''_{d} > 0)\\\\ \n",
    "    0 & (L''_{d} = 0)\\\\ \n",
    "    \\end{array}\n",
    "\\right.\n",
    "$$"
   ]
  },
  {
   "cell_type": "markdown",
   "metadata": {},
   "source": [
    "$E_{E,hs,HP,d,t}$：日付$d$の時刻$t$における1時間当たりの電気ヒートポンプの消費電力量(kWh/h)  \n",
    "$e_{HP,d}$：日付$d$における電気ヒートポンプの日平均熱効率(-)  \n",
    "$L''_{d}$：日付$d$における1 日当たりの太陽熱補正給湯熱負荷(MJ/d)  \n",
    "$L''_{d,t}$：日付$d$の時刻$t$における1時間当たりの太陽熱補正給湯熱負荷(MJ/h)  \n",
    "$Q_{HP,d}$：日付$d$における1 日当たりの電気ヒートポンプの加熱量(MJ/d)  "
   ]
  },
  {
   "cell_type": "markdown",
   "metadata": {},
   "source": [
    "$$\\large\n",
    "E_{E,hs,TU,d,t} = a_{TU} \\times L''_{d,t} + b_{TU} \\div 24\n",
    "$$"
   ]
  },
  {
   "cell_type": "markdown",
   "metadata": {},
   "source": [
    "$E_{E,hs,TU,d,t}$：日付$d$の時刻$t$における1時間当たりのタンクユニットの消費電力量(kWh/h)  \n",
    "$L''_{d}$：日付$d$における1 日当たりの太陽熱補正給湯熱負荷(MJ/d)  \n",
    "$L''_{d,t}$：日付$d$の時刻$t$における1時間当たりの太陽熱補正給湯熱負荷(MJ/h)  \n",
    "$a_{TU}, b_{TU}$：係数(-)  "
   ]
  },
  {
   "cell_type": "markdown",
   "metadata": {},
   "source": [
    "ふろ機能の種類が給湯単機能又はふろ給湯機（追焚なし）の場合"
   ]
  },
  {
   "cell_type": "markdown",
   "metadata": {},
   "source": [
    "$$\\large\n",
    "E_{E,hs,BB,d,t} = 0.000393 \\times W'_{ba1,d,t} \\times 10^{3} \\div 3600\n",
    "$$"
   ]
  },
  {
   "cell_type": "markdown",
   "metadata": {},
   "source": [
    "ふろ機能の種類がふろ給湯機（追焚あり）の場合"
   ]
  },
  {
   "cell_type": "markdown",
   "metadata": {},
   "source": [
    "$$\n",
    "E_{E,hs,BB,d,t} = \\left\\{ \\begin{array}{ll}\n",
    "    (0.01723 \\times L_{BB,ba2,d} + 0.06099) \\times 10^{3} \\div 3600 \\times \\frac{L_{BB,ba2,d,t}}{L_{BB,ba2,d}} &(L_{BB,ba2,d} > 0)\\\\ \n",
    "    0 &(L_{BB,ba2,d} = 0)\\\\ \n",
    "    \\end{array}\n",
    "\\right.\n",
    "$$"
   ]
  },
  {
   "cell_type": "markdown",
   "metadata": {},
   "source": [
    "$E_{E,hs,BB,d,t}$：日付$d$の時刻$t$における1時間当たりの保温時における消費電力量(kWh/h)  \n",
    "$L_{BB,ba2,d}$：日付$d$における1 日当たりの浴槽追焚時におけるバックアップボイラーが分担する給湯熱負荷(MJ/d)  \n",
    "$L_{BB,ba2,d,t}$：日付$d$の時刻$t$における1時間当たりの浴槽追焚時におけるバックアップボイラーが分担する給湯熱負荷(MJ/h)  \n",
    "$ W'_{ba1,d,t} $：日付$d$の時刻$t$における1時間当たりの浴槽水栓さし湯時における節湯補正給湯量(L/h)  "
   ]
  },
  {
   "cell_type": "markdown",
   "metadata": {},
   "source": [
    "#### G.3.5 ガス消費量"
   ]
  },
  {
   "cell_type": "markdown",
   "metadata": {},
   "source": [
    "ふろ機能の種類が「給湯単機能」の場合"
   ]
  },
  {
   "cell_type": "markdown",
   "metadata": {},
   "source": [
    "$$\\large\n",
    "E_{G,hs,d,t} = \\frac{L_{BB,k,d,t}}{e_{BB,k,d}} + \\frac{L_{BB,s,d,t}}{e_{BB,s,d}} + \\frac{L_{BB,w,d,t}}{e_{BB,w,d}} + \\frac{L_{BB,b1,d,t}}{e_{BB,b1,d}} + \\frac{L_{BB,ba1,d,t}}{e_{BB,ba1,d}}\n",
    "$$\n"
   ]
  },
  {
   "cell_type": "markdown",
   "metadata": {},
   "source": [
    "ふろ機能の種類が「ふろ給湯機（追焚なし）」の場合"
   ]
  },
  {
   "cell_type": "markdown",
   "metadata": {},
   "source": [
    "$$\\large\n",
    "E_{G,hs,d,t} = \\frac{L_{BB,k,d,t}}{e_{BB,k,d}} + \\frac{L_{BB,s,d,t}}{e_{BB,s,d}} + \\frac{L_{BB,w,d,t}}{e_{BB,w,d}} + \\frac{L_{BB,b2,d,t}}{e_{BB,b2,d}} + \\frac{L_{BB,ba1,d,t}}{e_{BB,ba1,d}}\n",
    "$$"
   ]
  },
  {
   "cell_type": "markdown",
   "metadata": {},
   "source": [
    "ふろ機能の種類が「ふろ給湯機（追焚あり）」の場合"
   ]
  },
  {
   "cell_type": "markdown",
   "metadata": {},
   "source": [
    "$$\\large\n",
    "E_{G,hs,d,t} = \\frac{L_{BB,k,d,t}}{e_{BB,k,d}} + \\frac{L_{BB,s,d,t}}{e_{BB,s,d}} + \\frac{L_{BB,w,d,t}}{e_{BB,w,d}} + \\frac{L_{BB,b2,d,t}}{e_{BB,b2,d}} + \\frac{L_{BB,ba2,d,t}}{e_{BB,ba2,d}}\n",
    "$$"
   ]
  },
  {
   "cell_type": "markdown",
   "metadata": {},
   "source": [
    "$E_{G,hs,d,t}$：日付$d$の時刻$t$における1時間当たりの給湯機のガス消費量(MJ/h)  \n",
    "$ L_{BB,k,d,t} $：日付$d$の時刻$t$における1時間当たりの台所水栓におけるバックアップボイラーが分担する給湯熱負荷(MJ/h)  \n",
    "$ L_{BB,s,d,t} $：日付$d$の時刻$t$における1時間当たりの浴室シャワー水栓におけるバックアップボイラーが分担する給湯熱負荷(MJ/h)  \n",
    "$ L_{BB,w,d,t} $：日付$d$の時刻$t$における1時間当たりの洗面水栓におけるバックアップボイラーが分担する給湯熱負荷(MJ/h)  \n",
    "$ L_{BB,b1,d,t} $：日付$d$の時刻$t$における1時間当たりの浴槽水栓湯はり時におけるバックアップボイラーが分担する給湯熱負荷(MJ/h)  \n",
    "$ L_{BB,b2,d,t} $：日付$d$の時刻$t$における1時間当たりの浴槽自動湯はり時におけるバックアップボイラーが分担する給湯熱負荷(MJ/h)  \n",
    "$ L_{BB,ba1,d,t} $：日付$d$の時刻$t$における1時間当たりの浴槽水栓さし湯時におけるバックアップボイラーが分担する給湯熱負荷(MJ/h)  \n",
    "$ L_{BB,ba2,d,t} $：日付$d$の時刻$t$における1時間当たりの浴槽追焚時におけるバックアップボイラーが分担する給湯熱負荷(MJ/h)  \n",
    "$ e_{BB,k,d} $：日付$d$における台所水栓の給湯使用時におけるバックアップボイラーの日平均熱効率(-)  \n",
    "$ e_{BB,s,d} $：日付$d$における浴室シャワー水栓の給湯使用時におけるバックアップボイラーの日平均熱効率(-)  \n",
    "$ e_{BB,w,d} $：日付$d$における洗面水栓の給湯使用時におけるバックアップボイラーの日平均熱効率(-)  \n",
    "$ e_{BB,b1,d} $：日付$d$における浴槽水栓湯はり時におけるバックアップボイラーの日平均熱効率(-)  \n",
    "$ e_{BB,b2,d} $：日付$d$における浴槽自動湯はり時におけるバックアップボイラーの日平均熱効率(-)  \n",
    "$ e_{BB,ba1,d} $：日付$d$における浴槽水栓さし湯時におけるバックアップボイラーの日平均熱効率(-)  \n",
    "$ e_{BB,ba2,d} $：日付$d$における浴槽追焚時におけるバックアップボイラーの日平均熱効率(-)  "
   ]
  },
  {
   "cell_type": "markdown",
   "metadata": {},
   "source": [
    "#### G.3.6 電気ヒートポンプの加熱量"
   ]
  },
  {
   "cell_type": "markdown",
   "metadata": {},
   "source": [
    "$$\\large\n",
    "Q_{HP,d} = \\frac{L_{HP,d}}{1 - \\eta_{loss,TU}}\n",
    "$$"
   ]
  },
  {
   "cell_type": "markdown",
   "metadata": {},
   "source": [
    "$L_{HP,d}$：日付$d$における1 日当たりの電気ヒートポンプが分担する給湯熱負荷(MJ/d)  \n",
    "$Q_{HP,d}$：日付$d$における1 日当たりの電気ヒートポンプの加熱量(MJ/d)  \n",
    "$\\eta_{loss,TU}$：年平均貯湯槽熱損失率(-)  "
   ]
  },
  {
   "cell_type": "markdown",
   "metadata": {},
   "source": [
    "#### G.3.7 電気ヒートポンプの日平均熱効率"
   ]
  },
  {
   "cell_type": "markdown",
   "metadata": {},
   "source": [
    "$$\\large\n",
    "e_{HP,d} = \\left\\{ \\begin{array}{ll}\n",
    "    e_{HPstd,2} - \\frac{2 - \\theta_{ex,Ave,d}}{9} (e_{HPstd,2} - e_{HPstd,-7}) &(\\theta_{ex,Ave,d}<2)\\\\ \n",
    "    e_{HPstd,7} - \\frac{7 - \\theta_{ex,Ave,d}}{5} (e_{HPstd,7} - e_{HPstd,2}) &(2 \\leq \\theta_{ex,Ave,d}<7)\\\\ \n",
    "    e_{HPstd,25} - \\frac{25 - \\theta_{ex,Ave,d}}{18} (e_{HPstd,25} - e_{HPstd,7}) &(7 \\leq \\theta_{ex,Ave,d}<25)\\\\ \n",
    "    e_{HPstd,25} &(\\theta_{ex,Ave,d} \\geq 25)\\\\ \n",
    "    \\end{array}\n",
    "\\right.\n",
    "$$"
   ]
  },
  {
   "cell_type": "markdown",
   "metadata": {},
   "source": [
    "$e_{HP,d}$：日付$d$における電気ヒートポンプの日平均熱効率(-)  \n",
    "$e_{HPstd,-7}$：外気温度-7℃におけるヒートポンプ基準加熱効率(-)  \n",
    "$e_{HPstd,2}$：外気温度2℃におけるヒートポンプ基準加熱効率(-)  \n",
    "$e_{HPstd,7}$：外気温度7℃におけるヒートポンプ基準加熱効率(-)  \n",
    "$e_{HPstd,25}$：外気温度25℃におけるヒートポンプ基準加熱効率(-)  \n",
    "$\\theta_{ex,Ave,d}$：日付$d$における日平均外気温度(℃)  "
   ]
  },
  {
   "cell_type": "markdown",
   "metadata": {},
   "source": [
    "#### G.3.8 給湯熱負荷"
   ]
  },
  {
   "cell_type": "markdown",
   "metadata": {},
   "source": [
    "$$\\large\n",
    "\\displaystyle\n",
    "L_{BB,k,d,t} = \\left\\{ \\begin{array}{ll}\n",
    "    L_{BB,k,d} \\times \\frac{L''_{k,d,t}}{L''_{k,d}} & (L''_{k,d} > 0)\\\\ \n",
    "    0 & (L''_{k,d} = 0)\\\\ \n",
    "    \\end{array}\n",
    "\\right.\n",
    "$$\n",
    "\n",
    "$$\\large\n",
    "\\displaystyle\n",
    "L_{BB,s,d,t} = \\left\\{ \\begin{array}{ll}\n",
    "    L_{BB,s,d} \\times \\frac{L''_{s,d,t}}{L''_{s,d}} & (L''_{s,d} > 0)\\\\ \n",
    "    0 & (L''_{s,d} = 0)\\\\ \n",
    "    \\end{array}\n",
    "\\right.\n",
    "$$\n",
    "\n",
    "$$\\large\n",
    "\\displaystyle\n",
    "L_{BB,w,d,t} = \\left\\{ \\begin{array}{ll}\n",
    "    L_{BB,w,d} \\times \\frac{L''_{w,d,t}}{L''_{w,d}} & (L''_{w,d} > 0)\\\\ \n",
    "    0 & (L''_{w,d} = 0)\\\\ \n",
    "    \\end{array}\n",
    "\\right.\n",
    "$$\n",
    "\n",
    "$$\\large\n",
    "\\displaystyle\n",
    "L_{BB,b1,d,t} = \\left\\{ \\begin{array}{ll}\n",
    "    L_{BB,b1,d} \\times \\frac{L''_{b1,d,t}}{L''_{b1,d}} & (L''_{b1,d} > 0)\\\\ \n",
    "    0 & (L''_{b1,d} = 0)\\\\ \n",
    "    \\end{array}\n",
    "\\right.\n",
    "$$\n",
    "\n",
    "$$\\large\n",
    "\\displaystyle\n",
    "L_{BB,b2,d,t} = \\left\\{ \\begin{array}{ll}\n",
    "    L_{BB,b2,d} \\times \\frac{L''_{b2,d,t}}{L''_{b2,d}} & (L''_{b2,d} > 0)\\\\ \n",
    "    0 & (L''_{b2,d} = 0)\\\\ \n",
    "    \\end{array}\n",
    "\\right.\n",
    "$$\n",
    "\n",
    "$$\\large\n",
    "\\displaystyle\n",
    "L_{BB,ba1,d,t} = \\left\\{ \\begin{array}{ll}\n",
    "    L_{BB,ba1,d} \\times \\frac{L''_{ba1,d,t}}{L''_{ba1,d}} & (L''_{ba1,d} > 0)\\\\ \n",
    "    0 & (L''_{ba1,d} = 0)\\\\ \n",
    "    \\end{array}\n",
    "\\right.\n",
    "$$\n",
    "\n",
    "$$\\large\n",
    "\\displaystyle\n",
    "L_{BB,ba2,d,t} = L''_{ba2,d,t}\n",
    "$$"
   ]
  },
  {
   "cell_type": "markdown",
   "metadata": {},
   "source": [
    "$ L_{BB,k,d} $：日付$d$における1日当たりの台所水栓におけるバックアップボイラーが分担する給湯熱負荷(MJ/d)  \n",
    "$ L_{BB,s,d} $：日付$d$における1日当たりの浴室シャワー水栓におけるバックアップボイラーが分担する給湯熱負荷(MJ/d)  \n",
    "$ L_{BB,w,d} $：日付$d$における1日当たりの洗面水栓におけるバックアップボイラーが分担する給湯熱負荷(MJ/d)  \n",
    "$ L_{BB,b1,d} $：日付$d$における1日当たりの浴槽水栓湯はり時におけるバックアップボイラーが分担する給湯熱負荷(MJ/d)  \n",
    "$ L_{BB,b2,d} $：日付$d$における1日当たりの浴槽自動湯はり時におけるバックアップボイラーが分担する給湯熱負荷(MJ/d)  \n",
    "$ L_{BB,ba1,d} $：日付$d$における1日当たりの浴槽水栓さし湯時におけるバックアップボイラーが分担する給湯熱負荷(MJ/d)  \n",
    "$ L_{BB,ba2,d} $：日付$d$における1日当たりの浴槽追焚時におけるバックアップボイラーが分担する給湯熱負荷(MJ/d)  \n",
    "$ L_{BB,k,d,t} $：日付$d$の時刻$t$における1時間当たりの台所水栓におけるバックアップボイラーが分担する給湯熱負荷(MJ/h)  \n",
    "$ L_{BB,s,d,t} $：日付$d$の時刻$t$における1時間当たりの浴室シャワー水栓におけるバックアップボイラーが分担する給湯熱負荷(MJ/h)  \n",
    "$ L_{BB,w,d,t} $：日付$d$の時刻$t$における1時間当たりの洗面水栓におけるバックアップボイラーが分担する給湯熱負荷(MJ/h)  \n",
    "$ L_{BB,b1,d,t} $：日付$d$の時刻$t$における1時間当たりの浴槽水栓湯はり時におけるバックアップボイラーが分担する給湯熱負荷(MJ/h)  \n",
    "$ L_{BB,b2,d,t} $：日付$d$の時刻$t$における1時間当たりの浴槽自動湯はり時におけるバックアップボイラーが分担する給湯熱負荷(MJ/h)  \n",
    "$ L_{BB,ba1,d,t} $：日付$d$の時刻$t$における1時間当たりの浴槽水栓さし湯時におけるバックアップボイラーが分担する給湯熱負荷(MJ/h)  \n",
    "$ L_{BB,ba2,d,t} $：日付$d$の時刻$t$における1時間当たりの浴槽追焚時におけるバックアップボイラーが分担する給湯熱負荷(MJ/h)  \n",
    "$L''_{d}$：日付$d$における1 日当たりの太陽熱補正給湯熱負荷(MJ/d)  \n",
    "$ L''_{k,d} $：日付$d$における1 日当たりの台所水栓における太陽熱補正給湯熱負荷(MJ/d)  \n",
    "$ L''_{s,d} $：日付$d$における1 日当たりの浴室シャワー水栓における太陽熱補正給湯熱負荷(MJ/d)  \n",
    "$ L''_{w,d} $：日付$d$における1 日当たりの洗面水栓における太陽熱補正給湯熱負荷(MJ/d)  \n",
    "$ L''_{b1,d} $：日付$d$における1 日当たりの浴槽水栓湯はり時における太陽熱補正給湯熱負荷(MJ/d)  \n",
    "$ L''_{b2,d} $：日付$d$における1 日当たりの浴槽自動湯はり時における太陽熱補正給湯熱負荷(MJ/d)  \n",
    "$ L''_{ba1,d} $：日付$d$における1 日当たりの浴槽水栓さし湯時における太陽熱補正給湯熱負荷(MJ/d)  \n",
    "$ L''_{ba2,d} $：日付$d$における1 日当たりの浴槽追焚時における太陽熱補正給湯熱負荷(MJ/d)  \n",
    "$L''_{d,t}$：日付$d$の時刻$t$における1時間当たりの太陽熱補正給湯熱負荷(MJ/h)  \n",
    "$ L''_{k,d,t} $：日付$d$の時刻$t$における 1時間当たりの台所水栓における太陽熱補正給湯熱負荷(MJ/h)  \n",
    "$ L''_{s,d,t} $：日付$d$の時刻$t$における 1時間当たりの浴室シャワー水栓における太陽熱補正給湯熱負荷(MJ/h)  \n",
    "$ L''_{w,d,t} $：日付$d$の時刻$t$における 1時間当たりの洗面水栓における太陽熱補正給湯熱負荷(MJ/h)  \n",
    "$ L''_{b1,d,t} $：日付$d$の時刻$t$における 1時間当たりの浴槽水栓湯はり時における太陽熱補正給湯熱負荷(MJ/h)  \n",
    "$ L''_{b2,d,t} $：日付$d$の時刻$t$における 1時間当たりの浴槽自動湯はり時における太陽熱補正給湯熱負荷(MJ/h)  \n",
    "$ L''_{ba1,d,t} $：日付$d$の時刻$t$における 1時間当たりの浴槽水栓さし湯時における太陽熱補正給湯熱負荷(MJ/h)  \n",
    "$ L''_{ba2,d,t} $：日付$d$の時刻$t$における 1時間当たりの浴槽追焚時における太陽熱補正給湯熱負荷(MJ/h)  "
   ]
  },
  {
   "cell_type": "markdown",
   "metadata": {},
   "source": [
    "$$\\large\n",
    "\\displaystyle\n",
    "L_{BB,k,d} = L''_{k,d} - L_{HP,d} \\times \\frac{L''_{k,d}}{L''_{d}}\n",
    "$$\n",
    "\n",
    "$$\\large\n",
    "\\displaystyle\n",
    "L_{BB,s,d} = L''_{s,d} - L_{HP,d} \\times \\frac{L''_{s,d}}{L''_{d}}\n",
    "$$\n",
    "\n",
    "$$\\large\n",
    "\\displaystyle\n",
    "L_{BB,w,d} = L''_{w,d} - L_{HP,d} \\times \\frac{L''_{w,d}}{L''_{d}}\n",
    "$$\n",
    "\n",
    "$$\\large\n",
    "\\displaystyle\n",
    "L_{BB,b1,d} = L''_{b1,d} - L_{HP,d} \\times \\frac{L''_{b1,d}}{L''_{d}}\n",
    "$$\n",
    "\n",
    "$$\\large\n",
    "\\displaystyle\n",
    "L_{BB,b2,d} = L''_{b2,d} - L_{HP,d} \\times \\frac{L''_{b2,d}}{L''_{d}}\n",
    "$$\n",
    "\n",
    "$$\\large\n",
    "\\displaystyle\n",
    "L_{BB,ba1,d} = L''_{ba1,d} - L_{HP,d} \\times \\frac{L''_{ba1,d}}{L''_{d}}\n",
    "$$\n",
    "\n",
    "$$\\large\n",
    "\\displaystyle\n",
    "L_{BB,ba2,d} = L''_{ba2,d}\n",
    "$$"
   ]
  },
  {
   "cell_type": "markdown",
   "metadata": {},
   "source": [
    "$ L_{BB,k,d} $：日付$d$における1日当たりの台所水栓におけるバックアップボイラーが分担する給湯熱負荷(MJ/d)  \n",
    "$ L_{BB,s,d} $：日付$d$における1日当たりの浴室シャワー水栓におけるバックアップボイラーが分担する給湯熱負荷(MJ/d)  \n",
    "$ L_{BB,w,d} $：日付$d$における1日当たりの洗面水栓におけるバックアップボイラーが分担する給湯熱負荷(MJ/d)  \n",
    "$ L_{BB,b1,d} $：日付$d$における1日当たりの浴槽水栓湯はり時におけるバックアップボイラーが分担する給湯熱負荷(MJ/d)  \n",
    "$ L_{BB,b2,d} $：日付$d$における1日当たりの浴槽自動湯はり時におけるバックアップボイラーが分担する給湯熱負荷(MJ/d)  \n",
    "$ L_{BB,ba1,d} $：日付$d$における1日当たりの浴槽水栓さし湯時におけるバックアップボイラーが分担する給湯熱負荷(MJ/d)  \n",
    "$ L_{BB,ba2,d} $：日付$d$における1日当たりの浴槽追焚時におけるバックアップボイラーが分担する給湯熱負荷(MJ/d)  \n",
    "$L''_{d}$：日付$d$における1 日当たりの太陽熱補正給湯熱負荷(MJ/d)  \n",
    "$ L''_{k,d} $：日付$d$における1 日当たりの台所水栓における太陽熱補正給湯熱負荷(MJ/d)  \n",
    "$ L''_{s,d} $：日付$d$における1 日当たりの浴室シャワー水栓における太陽熱補正給湯熱負荷(MJ/d)  \n",
    "$ L''_{w,d} $：日付$d$における1 日当たりの洗面水栓における太陽熱補正給湯熱負荷(MJ/d)  \n",
    "$ L''_{b1,d} $：日付$d$における1 日当たりの浴槽水栓湯はり時における太陽熱補正給湯熱負荷(MJ/d)  \n",
    "$ L''_{b2,d} $：日付$d$における1 日当たりの浴槽自動湯はり時における太陽熱補正給湯熱負荷(MJ/d)  \n",
    "$ L''_{ba1,d} $：日付$d$における1 日当たりの浴槽水栓さし湯時における太陽熱補正給湯熱負荷(MJ/d)  \n",
    "$ L''_{ba2,d} $：日付$d$における1 日当たりの浴槽追焚時における太陽熱補正給湯熱負荷(MJ/d)  \n",
    "$ L_{HP,d} $：日付$d$における1 日当たりの電気ヒートポンプが分担する給湯熱負荷(MJ/d)  "
   ]
  },
  {
   "cell_type": "markdown",
   "metadata": {},
   "source": [
    "$\\theta_{ex,Ave,d} \\geq \\theta_{ex,min,HP}$ の場合"
   ]
  },
  {
   "cell_type": "markdown",
   "metadata": {},
   "source": [
    "$$\\large\n",
    "L_{HP,d} = min \\big((a_{HP} \\times L''_{d} + b_{HP}) \\times (1 - \\eta_{loss,TU}) , L''_{d}, Q_{HP,max} \\times (1 - \\eta_{loss,TU}) \\big)\n",
    "$$"
   ]
  },
  {
   "cell_type": "markdown",
   "metadata": {},
   "source": [
    "$\\theta_{ex,Ave,d} < \\theta_{ex,min,HP}$ の場合"
   ]
  },
  {
   "cell_type": "markdown",
   "metadata": {},
   "source": [
    "$$\\large\n",
    "L_{HP,d} = 0\n",
    "$$"
   ]
  },
  {
   "cell_type": "markdown",
   "metadata": {},
   "source": [
    "$L''_{d}$：日付$d$における1 日当たりの太陽熱補正給湯熱負荷(MJ/d)  \n",
    "$Q_{HP,max}$：最大ヒートポンプ加熱量(MJ/d)  \n",
    "$\\eta_{loss,TU}$：年平均貯湯槽熱損失率(-)  \n",
    "$\\theta_{ex,Ave,d}$：日付$d$における日平均外気温度(℃)  \n",
    "$\\theta_{ex,min,HP}$：ヒートポンプ運転下限外気温(℃)  \n",
    "$a_{HP}, b_{HP}$：係数(-)  "
   ]
  },
  {
   "cell_type": "markdown",
   "metadata": {},
   "source": [
    "### G.4 １日当たりの太陽熱補正給湯熱負荷及び1時間当たりの太陽熱補正給湯熱負荷"
   ]
  },
  {
   "cell_type": "markdown",
   "metadata": {},
   "source": [
    "$$\\large\n",
    "\\displaystyle\n",
    "L''_{d} = \\sum_{t=0}^{23} L''_{d,t}\n",
    "$$"
   ]
  },
  {
   "cell_type": "markdown",
   "metadata": {},
   "source": [
    "$L''_{d}$：日付$d$における1 日当たりの太陽熱補正給湯熱負荷(MJ/d)  \n",
    "$L''_{d,t}$：日付$d$の時刻$t$における1時間当たりの太陽熱補正給湯熱負荷(MJ/h)  "
   ]
  },
  {
   "cell_type": "markdown",
   "metadata": {},
   "source": [
    "$$\\large\n",
    "\\displaystyle\n",
    "L''_{d,t} = L''_{k,d,t}+L''_{s,d,t}+L''_{w,d,t}+L''_{b1,d,t}+L''_{b2,d,t}+L''_{ba1,d,t}\n",
    "$$"
   ]
  },
  {
   "cell_type": "markdown",
   "metadata": {},
   "source": [
    "$L''_{d,t}$：日付$d$の時刻$t$における1時間当たりの太陽熱補正給湯熱負荷(MJ/h)  \n",
    "$ L''_{k,d,t} $：日付$d$の時刻$t$における 1時間当たりの台所水栓における太陽熱補正給湯熱負荷(MJ/h)  \n",
    "$ L''_{s,d,t} $：日付$d$の時刻$t$における 1時間当たりの浴室シャワー水栓における太陽熱補正給湯熱負荷(MJ/h)  \n",
    "$ L''_{w,d,t} $：日付$d$の時刻$t$における 1時間当たりの洗面水栓における太陽熱補正給湯熱負荷(MJ/h)  \n",
    "$ L''_{b1,d,t} $：日付$d$の時刻$t$における 1時間当たりの浴槽水栓湯はり時における太陽熱補正給湯熱負荷(MJ/h)  \n",
    "$ L''_{b2,d,t} $：日付$d$の時刻$t$における 1時間当たりの浴槽自動湯はり時における太陽熱補正給湯熱負荷(MJ/h)  \n",
    "$ L''_{ba1,d,t} $：日付$d$の時刻$t$における 1時間当たりの浴槽水栓さし湯時における太陽熱補正給湯熱負荷(MJ/h)  "
   ]
  },
  {
   "cell_type": "markdown",
   "metadata": {},
   "source": [
    "$$\\large\n",
    "\\displaystyle\n",
    "L''_{k,d} = \\sum_{t=0}^{23} L''_{k,d,t}\n",
    "$$\n",
    "\n",
    "$$\\large\n",
    "\\displaystyle\n",
    "L''_{s,d} = \\sum_{t=0}^{23} L''_{s,d,t}\n",
    "$$\n",
    "\n",
    "$$\\large\n",
    "\\displaystyle\n",
    "L''_{w,d} = \\sum_{t=0}^{23} L''_{w,d,t}\n",
    "$$\n",
    "\n",
    "$$\\large\n",
    "\\displaystyle\n",
    "L''_{b1,d} = \\sum_{t=0}^{23} L''_{b1,d,t}\n",
    "$$\n",
    "\n",
    "$$\\large\n",
    "\\displaystyle\n",
    "L''_{b2,d} = \\sum_{t=0}^{23} L''_{b2,d,t}\n",
    "$$\n",
    "\n",
    "$$\\large\n",
    "\\displaystyle\n",
    "L''_{ba1,d} = \\sum_{t=0}^{23} L''_{ba1,d,t}\n",
    "$$\n",
    "\n",
    "$$\\large\n",
    "\\displaystyle\n",
    "L''_{ba2,d} = \\sum_{t=0}^{23} L''_{ba2,d,t}\n",
    "$$\n"
   ]
  },
  {
   "cell_type": "markdown",
   "metadata": {},
   "source": [
    "$ L''_{k,d} $：日付$d$における1 日当たりの台所水栓における太陽熱補正給湯熱負荷(MJ/d)  \n",
    "$ L''_{s,d} $：日付$d$における1 日当たりの浴室シャワー水栓における太陽熱補正給湯熱負荷(MJ/d)  \n",
    "$ L''_{w,d} $：日付$d$における1 日当たりの洗面水栓における太陽熱補正給湯熱負荷(MJ/d)  \n",
    "$ L''_{b1,d} $：日付$d$における1 日当たりの浴槽水栓湯はり時における太陽熱補正給湯熱負荷(MJ/d)  \n",
    "$ L''_{b2,d} $：日付$d$における1 日当たりの浴槽自動湯はり時における太陽熱補正給湯熱負荷(MJ/d)  \n",
    "$ L''_{ba1,d} $：日付$d$における1 日当たりの浴槽水栓さし湯時における太陽熱補正給湯熱負荷(MJ/d)  \n",
    "$ L''_{ba2,d} $：日付$d$における1 日当たりの浴槽追焚時における太陽熱補正給湯熱負荷(MJ/d)  \n",
    "$ L''_{k,d,t} $：日付$d$の時刻$t$における 1時間当たりの台所水栓における太陽熱補正給湯熱負荷(MJ/h)  \n",
    "$ L''_{s,d,t} $：日付$d$の時刻$t$における 1時間当たりの浴室シャワー水栓における太陽熱補正給湯熱負荷(MJ/h)  \n",
    "$ L''_{w,d,t} $：日付$d$の時刻$t$における 1時間当たりの洗面水栓における太陽熱補正給湯熱負荷(MJ/h)  \n",
    "$ L''_{b1,d,t} $：日付$d$の時刻$t$における 1時間当たりの浴槽水栓湯はり時における太陽熱補正給湯熱負荷(MJ/h)  \n",
    "$ L''_{b2,d,t} $：日付$d$の時刻$t$における 1時間当たりの浴槽自動湯はり時における太陽熱補正給湯熱負荷(MJ/h)  \n",
    "$ L''_{ba1,d,t} $：日付$d$の時刻$t$における 1時間当たりの浴槽水栓さし湯時における太陽熱補正給湯熱負荷(MJ/h)  \n",
    "$ L''_{ba2,d,t} $：日付$d$の時刻$t$における 1時間当たりの浴槽追焚時における太陽熱補正給湯熱負荷(MJ/h)  "
   ]
  }
 ],
 "metadata": {
  "kernelspec": {
   "display_name": "Python 3",
   "language": "python",
   "name": "python3"
  },
  "language_info": {
   "codemirror_mode": {
    "name": "ipython",
    "version": 3
   },
   "file_extension": ".py",
   "mimetype": "text/x-python",
   "name": "python",
   "nbconvert_exporter": "python",
   "pygments_lexer": "ipython3",
   "version": "3.6.6"
  }
 },
 "nbformat": 4,
 "nbformat_minor": 2
}
