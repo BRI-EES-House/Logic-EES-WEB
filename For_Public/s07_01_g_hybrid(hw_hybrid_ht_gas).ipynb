{
 "cells": [
  {
   "cell_type": "code",
   "execution_count": null,
   "metadata": {},
   "outputs": [],
   "source": [
    "import numpy as np\n",
    "import pandas as pd\n",
    "\n",
    "from section7_1_c import \\\n",
    "    get_e_k_d, \\\n",
    "    get_e_s_d, \\\n",
    "    get_e_w_d, \\\n",
    "    get_e_b1_d, \\\n",
    "    get_e_b2_d, \\\n",
    "    get_e_ba1_d, \\\n",
    "    get_e_ba2_d, \\\n",
    "    get_f_hs"
   ]
  },
  {
   "cell_type": "markdown",
   "metadata": {},
   "source": [
    "## 付録G　電気ヒートポンプ・ガス瞬間式併用型給湯温水暖房機（給湯熱源：電気ヒートポンプ・ガス瞬間式併用、暖房熱源：ガス瞬間式）"
   ]
  },
  {
   "cell_type": "markdown",
   "metadata": {},
   "source": [
    "### G.1 はじめに"
   ]
  },
  {
   "cell_type": "markdown",
   "metadata": {},
   "source": [
    "省略"
   ]
  },
  {
   "cell_type": "markdown",
   "metadata": {},
   "source": [
    "### G.2 仕様による方法"
   ]
  },
  {
   "cell_type": "markdown",
   "metadata": {},
   "source": [
    "#### G.2.1 記号"
   ]
  },
  {
   "cell_type": "markdown",
   "metadata": {},
   "source": [
    "省略"
   ]
  },
  {
   "cell_type": "markdown",
   "metadata": {},
   "source": [
    "#### G.2.2 添え字"
   ]
  },
  {
   "cell_type": "markdown",
   "metadata": {},
   "source": [
    "省略"
   ]
  },
  {
   "cell_type": "markdown",
   "metadata": {},
   "source": [
    "#### G.2.3 消費電力量"
   ]
  },
  {
   "cell_type": "markdown",
   "metadata": {},
   "source": [
    "$L''_{k,d}+L''_{s,d}+L''_{w,d}+L''_{b2,d}+L''_{ba2,d} = 0 $\n",
    "の場合"
   ]
  },
  {
   "cell_type": "markdown",
   "metadata": {},
   "source": [
    "$$\\large\n",
    "E_{E,hs,d,t} = E_{E,hs,d} \\div 24\n",
    "$$"
   ]
  },
  {
   "cell_type": "markdown",
   "metadata": {},
   "source": [
    "$L''_{k,d}+L''_{s,d}+L''_{w,d}+L''_{b2,d}+L''_{ba2,d} > 0$\n",
    "の場合"
   ]
  },
  {
   "cell_type": "markdown",
   "metadata": {},
   "source": [
    "$$\\large\n",
    "E_{E,hs,d,t} = E_{E,hs,d} \\times \\frac{L''_{k,d,t}+L''_{s,d,t}+L''_{w,d,t}+L''_{b2,d,t}+L''_{ba2,d,t}}{L''_{k,d}+L''_{s,d}+L''_{w,d}+L''_{b2,d}+L''_{ba2,d}}\n",
    "$$"
   ]
  },
  {
   "cell_type": "markdown",
   "metadata": {},
   "source": [
    "$E_{E,hs,d}$：日付$d$における1 日当たりの給湯機の消費電力量(kWh/d)  \n",
    "$E_{E,hs,d,t}$：日付$d$の時刻$t$における1時間当たりの給湯機の消費電力量(kWh/h)  \n",
    "$ L''_{k,d} $：日付$d$における1 日当たりの台所水栓における太陽熱補正給湯熱負荷(MJ/d)  \n",
    "$ L''_{s,d} $：日付$d$における1 日当たりの浴室シャワー水栓における太陽熱補正給湯熱負荷(MJ/d)  \n",
    "$ L''_{w,d} $：日付$d$における1 日当たりの洗面水栓における太陽熱補正給湯熱負荷(MJ/d)  \n",
    "$ L''_{b2,d} $：日付$d$における1 日当たりの浴槽自動湯はり時における太陽熱補正給湯熱負荷(MJ/d)  \n",
    "$ L''_{ba2,d} $：日付$d$における1 日当たりの浴槽追焚時における太陽熱補正給湯熱負荷(MJ/d)  \n",
    "$ L''_{k,d,t} $：日付$d$の時刻$t$における 1時間当たりの台所水栓における太陽熱補正給湯熱負荷(MJ/h)  \n",
    "$ L''_{s,d,t} $：日付$d$の時刻$t$における 1時間当たりの浴室シャワー水栓における太陽熱補正給湯熱負荷(MJ/h)  \n",
    "$ L''_{w,d,t} $：日付$d$の時刻$t$における 1時間当たりの洗面水栓における太陽熱補正給湯熱負荷(MJ/h)  \n",
    "$ L''_{b2,d,t} $：日付$d$の時刻$t$における 1時間当たりの浴槽自動湯はり時における太陽熱補正給湯熱負荷(MJ/h)  \n",
    "$ L''_{ba2,d,t} $：日付$d$の時刻$t$における 1時間当たりの浴槽追焚時における太陽熱補正給湯熱負荷(MJ/h)  "
   ]
  },
  {
   "cell_type": "code",
   "execution_count": null,
   "metadata": {},
   "outputs": [],
   "source": [
    "# 1時間当たりの給湯機の消費電力量 (1)\n",
    "def get_E_E_hs_d_t(hybrid_category, Theta_ex_Ave_d, L_dashdash_k_d_t, L_dashdash_s_d_t, L_dashdash_w_d_t,\n",
    "                   L_dashdash_b2_d_t, L_dashdash_ba2_d_t):\n",
    "    \"\"\"\n",
    "    :param hybrid_category: 電気ヒートポンプ・ガス瞬間式併用型給湯温水暖房機の区分\n",
    "    :param Theta_ex_Ave_d: 日平均外気温度 (℃)\n",
    "    :param L_dashdash_k_d_t: 1時間当たりの台所水栓における太陽熱補正給湯熱負荷 (MJ/h)\n",
    "    :param L_dashdash_s_d_t: 1時間当たりの浴室シャワー水栓における対応熱補正給湯負荷 (MJ/hd)\n",
    "    :param L_dashdash_w_d_t: 1時間当たりの洗面水栓における対応熱補正給湯負荷 (MJ/h)\n",
    "    :param L_dashdash_b2_d_t: 1時間当たりの浴槽自動湯はり時における対応熱補正給湯負荷 (MJ/h)\n",
    "    :param L_dashdash_ba2_d_t: 1時間当たりの浴槽追焚時における対応熱補正給湯負荷 (MJ/h)\n",
    "    :return: 1時間当たりの給湯機の消費電力量 (kWh/h)\n",
    "    \"\"\"\n",
    "    # 1日当たりの太陽熱補正給湯熱負荷\n",
    "    L_dashdash_k_d = get_L_dashdash_k_d(L_dashdash_k_d_t)\n",
    "    L_dashdash_s_d = get_L_dashdash_s_d(L_dashdash_s_d_t)\n",
    "    L_dashdash_w_d = get_L_dashdash_w_d(L_dashdash_w_d_t)\n",
    "    L_dashdash_b2_d = get_L_dashdash_b2_d(L_dashdash_b2_d_t)\n",
    "    L_dashdash_ba2_d = get_L_dashdash_ba2_d(L_dashdash_ba2_d_t)\n",
    "\n",
    "    # 1日当たりの給湯機の消費電力量 (2)\n",
    "    E_E_hs_d = get_E_E_hs_d(hybrid_category, Theta_ex_Ave_d, L_dashdash_k_d, L_dashdash_s_d, L_dashdash_w_d,\n",
    "                            L_dashdash_b2_d, L_dashdash_ba2_d)\n",
    "\n",
    "    # 1日当たりの太陽熱補正給湯熱負荷、給湯機の消費電力量の配列要素を1時間ごとに引き延ばす(合計値は24倍になることに注意)\n",
    "    E_E_hs_d = np.repeat(E_E_hs_d, 24)\n",
    "    L_dashdash_k_d = np.repeat(L_dashdash_k_d, 24)\n",
    "    L_dashdash_s_d = np.repeat(L_dashdash_s_d, 24)\n",
    "    L_dashdash_w_d = np.repeat(L_dashdash_w_d, 24)\n",
    "    L_dashdash_b2_d = np.repeat(L_dashdash_b2_d, 24)\n",
    "    L_dashdash_ba2_d = np.repeat(L_dashdash_ba2_d, 24)\n",
    "\n",
    "    E_E_hs_d_t = np.zeros(24 * 365)\n",
    "\n",
    "    # (1-1) 太陽熱補正給湯熱負荷が発生しない日 => 24時間で単純分割\n",
    "    f1 = (L_dashdash_k_d + L_dashdash_s_d + L_dashdash_w_d + L_dashdash_b2_d + L_dashdash_ba2_d == 0)\n",
    "    E_E_hs_d_t[f1] = E_E_hs_d[f1] / 24\n",
    "\n",
    "    # (1-2) 太陽熱補正給湯熱負荷が発生する日 => 負荷で按分\n",
    "    f2 = (L_dashdash_k_d + L_dashdash_s_d + L_dashdash_w_d + L_dashdash_b2_d + L_dashdash_ba2_d > 0)\n",
    "    E_E_hs_d_t[f2] = E_E_hs_d[f2] * (\n",
    "            L_dashdash_k_d_t[f2] + L_dashdash_s_d_t[f2] + L_dashdash_w_d_t[f2] + L_dashdash_b2_d_t[f2] +\n",
    "            L_dashdash_ba2_d_t[f2]) / (\n",
    "                             L_dashdash_k_d[f2] + L_dashdash_s_d[f2] + L_dashdash_w_d[f2] + L_dashdash_b2_d[f2] +\n",
    "                             L_dashdash_ba2_d[f2])\n",
    "\n",
    "    return E_E_hs_d_t"
   ]
  },
  {
   "cell_type": "markdown",
   "metadata": {},
   "source": [
    "$$\\large\n",
    "E_{E,hs,d} = max \\big( \\{ (a \\times \\theta_{ex,Ave,d} + b \\times (L''_{k,d}+L''_{s,d}+L''_{w,d}+L''_{b2,d}) + c) \\times C_{E,def,d} \\\\\n",
    "\\large + (0.01723 \\times L''_{ba2,d} + 0.06099) \\} \\times 10^{3} \\div 3600 , 0 \\big)\n",
    "$$"
   ]
  },
  {
   "cell_type": "markdown",
   "metadata": {},
   "source": [
    "$ C_{E,def,d} $：日付$d$における1 日当たりのデフロスト運転による消費電力量の補正係数(-)  \n",
    "$E_{E,hs,d}$：日付$d$における1 日当たりの給湯機の消費電力量(kWh/d)  \n",
    "$ L''_{k,d} $：日付$d$における1 日当たりの台所水栓における太陽熱補正給湯熱負荷(MJ/d)  \n",
    "$ L''_{s,d} $：日付$d$における1 日当たりの浴室シャワー水栓における太陽熱補正給湯熱負荷(MJ/d)  \n",
    "$ L''_{w,d} $：日付$d$における1 日当たりの洗面水栓における太陽熱補正給湯熱負荷(MJ/d)  \n",
    "$ L''_{b2,d} $：日付$d$における1 日当たりの浴槽自動湯はり時における太陽熱補正給湯熱負荷(MJ/d)  \n",
    "$ L''_{ba2,d} $：日付$d$における1 日当たりの浴槽追焚時における太陽熱補正給湯熱負荷(MJ/d)  \n",
    "$\\theta_{ex,Ave,d}$：日付$d$における日平均外気温度(℃)  \n",
    "$a, b, c$：係数(-)  "
   ]
  },
  {
   "cell_type": "code",
   "execution_count": null,
   "metadata": {},
   "outputs": [],
   "source": [
    "# 1日当たりの給湯機の消費電力量 (2)\n",
    "def get_E_E_hs_d(hybrid_category, Theta_ex_Ave_d, L_dashdash_k_d, L_dashdash_s_d, L_dashdash_w_d,\n",
    "                 L_dashdash_b2_d, L_dashdash_ba2_d):\n",
    "    \"\"\"\n",
    "    :param hybrid_category: 電気ヒートポンプ・ガス瞬間式併用型給湯温水暖房機の区分\n",
    "    :param Theta_ex_Ave_d: 日平均外気温度 (℃)\n",
    "    :param L_dashdash_k_d: 1日当たりの台所水栓における太陽熱補正給湯熱負荷 (MJ/d)\n",
    "    :param L_dashdash_s_d: 1日当たりの浴室シャワー水栓における対応熱補正給湯負荷 (MJ/d)\n",
    "    :param L_dashdash_w_d: 1日当たりの洗面水栓における対応熱補正給湯負荷 (MJ/d)\n",
    "    :param L_dashdash_b2_d: 1日当たりの浴槽自動湯はり時における対応熱補正給湯負荷 (MJ/d)\n",
    "    :param L_dashdash_ba2_d: 1日当たりの浴槽追焚時における対応熱補正給湯負荷 (MJ/d)\n",
    "    :return: 1日当たりの給湯機の消費電力量 (kWh/d)\n",
    "    \"\"\"\n",
    "    # 係数a,b,c\n",
    "    a, b, c = get_coeff_eq1(hybrid_category)\n",
    "\n",
    "    # デフロスト運転による消費電力量の補正係数 (3)\n",
    "    C_E_def = get_C_E_def_d(Theta_ex_Ave_d)\n",
    "\n",
    "    # 1日当たりの給湯機の消費電力量 (2)\n",
    "    E_E_hs_d = ((a * Theta_ex_Ave_d + b * (\n",
    "            L_dashdash_k_d + L_dashdash_s_d + L_dashdash_w_d + L_dashdash_b2_d) + c) * C_E_def\n",
    "                + (0.01723 * L_dashdash_ba2_d + 0.06099)) * 10 ** 3 / 3600\n",
    "    E_E_hs_d = np.clip(E_E_hs_d, 0, None)\n",
    "\n",
    "    return E_E_hs_d"
   ]
  },
  {
   "cell_type": "code",
   "execution_count": null,
   "metadata": {},
   "outputs": [],
   "source": [
    "# 係数a,b,c\n",
    "def get_coeff_eq1(hybrid_category):\n",
    "    \"\"\"\n",
    "    :param hybrid_category: 電気ヒートポンプ・ガス瞬間式併用型給湯温水暖房機の区分\n",
    "    :return: 式(1)における係数 a, b, c\n",
    "    \"\"\"\n",
    "    if hybrid_category == '区分1':\n",
    "        return table_g_2[0][0], table_g_2[1][0], table_g_2[2][0]\n",
    "    elif hybrid_category == '区分2':\n",
    "        return table_g_2[0][1], table_g_2[1][1], table_g_2[2][1]\n",
    "    elif hybrid_category == '区分3':\n",
    "        return table_g_2[0][2], table_g_2[1][2], table_g_2[2][2]\n",
    "    else:\n",
    "        raise ValueError(hybrid_category)"
   ]
  },
  {
   "cell_type": "markdown",
   "metadata": {},
   "source": [
    "<div style=\"text-align: center;font-weight: bold;\">表　係数</div>\n",
    "\n",
    "<table>\n",
    "<thead>\n",
    "<tr>\n",
    "<th rowspan=\"2\"></th>\n",
    "<th colspan=\"3\">電気ヒートポンプ・ガス瞬間式併用型給湯機</th>\n",
    "</tr>\n",
    "<tr>\n",
    "<th>区分１</th><th>区分２</th><th>区分３</th>\n",
    "</tr>\n",
    "</thead>\n",
    "\n",
    "<tr><th>a</th><td>-0.18441</td><td>-0.18114</td><td>-0.18441</td></tr>\n",
    "<tr><th>b</th><td>0.18530</td><td>0.10483</td><td>0.18530</td></tr>\n",
    "<tr><th>c</th><td>3.51058</td><td>5.85285</td><td>3.51058</td></tr>\n",
    "</table>\n"
   ]
  },
  {
   "cell_type": "code",
   "execution_count": null,
   "metadata": {},
   "outputs": [],
   "source": [
    "# 表G.2 係数\n",
    "table_g_2 = [\n",
    "    (-0.18441, -0.18114, -0.18441),\n",
    "    (0.18530, 0.10483, 0.18530),\n",
    "    (3.51058, 5.85285, 3.51058)\n",
    "]"
   ]
  },
  {
   "cell_type": "markdown",
   "metadata": {},
   "source": [
    "$$\\large\n",
    "C_{E,def,d} = \\left\\{ \\begin{array}{ll}\n",
    "    1.0 &(7 \\leq \\theta_{ex,Ave,d}の場合)\\\\ \n",
    "    1 + (7 - \\theta_{ex,Ave,d}) \\times 0.0091 &(\\theta_{ex,Ave,d} < 7の場合)\\\\ \n",
    "    \\end{array}\n",
    "\\right.\n",
    "$$"
   ]
  },
  {
   "cell_type": "markdown",
   "metadata": {},
   "source": [
    "$ C_{E,def,d} $：日付$d$における1 日当たりのデフロスト運転による消費電力量の補正係数(-)  \n",
    "$\\theta_{ex,Ave,d}$：日付$d$における日平均外気温度(℃)  "
   ]
  },
  {
   "cell_type": "code",
   "execution_count": null,
   "metadata": {},
   "outputs": [],
   "source": [
    "# 1日当たりのデフロスト運転による消費電力量の補正係数 (3)\n",
    "def get_C_E_def_d(Theta_ex_Ave_d):\n",
    "    \"\"\"\n",
    "    :param Theta_ex_Ave_d: 日平均外気温度 (℃)\n",
    "    :return: 1日当たりのデフロスト運転による消費電力量の補正係数 (-)\n",
    "    \"\"\"\n",
    "    C_E_def_d = np.ones(365)\n",
    "\n",
    "    # Theta_ex_Ave_d < 7 の場合\n",
    "    f = Theta_ex_Ave_d < 7\n",
    "    C_E_def_d[f] = 1.0 + (7 - Theta_ex_Ave_d[f]) * 0.0091\n",
    "\n",
    "    return C_E_def_d"
   ]
  },
  {
   "cell_type": "markdown",
   "metadata": {},
   "source": [
    "#### G.2.4 ガス消費量"
   ]
  },
  {
   "cell_type": "markdown",
   "metadata": {},
   "source": [
    "$L''_{k,d}+L''_{s,d}+L''_{w,d}+L''_{b2,d}+L''_{ba2,d} = 0 $\n",
    "の場合"
   ]
  },
  {
   "cell_type": "markdown",
   "metadata": {},
   "source": [
    "$$\\large\n",
    "E_{G,hs,d,t} = E_{G,hs,d} \\div 24\n",
    "$$"
   ]
  },
  {
   "cell_type": "markdown",
   "metadata": {},
   "source": [
    "$L''_{k,d}+L''_{s,d}+L''_{w,d}+L''_{b2,d}+L''_{ba2,d} > 0$\n",
    "の場合"
   ]
  },
  {
   "cell_type": "markdown",
   "metadata": {},
   "source": [
    "$$\\large\n",
    "E_{G,hs,d,t} = E_{G,hs,d} \\times \\frac{L''_{k,d,t}+L''_{s,d,t}+L''_{w,d,t}+L''_{b2,d,t}+L''_{ba2,d,t}}{L''_{k,d}+L''_{s,d}+L''_{w,d}+L''_{b2,d}+L''_{ba2,d}}\n",
    "$$"
   ]
  },
  {
   "cell_type": "markdown",
   "metadata": {},
   "source": [
    "$E_{G,hs,d}$：日付$d$における1 日当たりの給湯機のガス消費量(MJ/d)  \n",
    "$E_{G,hs,d,t}$：日付$d$の時刻$t$における1時間当たりの給湯機のガス消費量(MJ/h)  \n",
    "$ L''_{k,d} $：日付$d$における1 日当たりの台所水栓における太陽熱補正給湯熱負荷(MJ/d)  \n",
    "$ L''_{s,d} $：日付$d$における1 日当たりの浴室シャワー水栓における太陽熱補正給湯熱負荷(MJ/d)  \n",
    "$ L''_{w,d} $：日付$d$における1 日当たりの洗面水栓における太陽熱補正給湯熱負荷(MJ/d)  \n",
    "$ L''_{b2,d} $：日付$d$における1 日当たりの浴槽自動湯はり時における太陽熱補正給湯熱負荷(MJ/d)  \n",
    "$ L''_{ba2,d} $：日付$d$における1 日当たりの浴槽追焚時における太陽熱補正給湯熱負荷(MJ/d)  \n",
    "$ L''_{k,d,t} $：日付$d$の時刻$t$における 1時間当たりの台所水栓における太陽熱補正給湯熱負荷(MJ/h)  \n",
    "$ L''_{s,d,t} $：日付$d$の時刻$t$における 1時間当たりの浴室シャワー水栓における太陽熱補正給湯熱負荷(MJ/h)  \n",
    "$ L''_{w,d,t} $：日付$d$の時刻$t$における 1時間当たりの洗面水栓における太陽熱補正給湯熱負荷(MJ/h)  \n",
    "$ L''_{b2,d,t} $：日付$d$の時刻$t$における 1時間当たりの浴槽自動湯はり時における太陽熱補正給湯熱負荷(MJ/h)  \n",
    "$ L''_{ba2,d,t} $：日付$d$の時刻$t$における 1時間当たりの浴槽追焚時における太陽熱補正給湯熱負荷(MJ/h)  "
   ]
  },
  {
   "cell_type": "code",
   "execution_count": null,
   "metadata": {},
   "outputs": [],
   "source": [
    "# 1時間当たりの給湯機のガス消費量 (4)\n",
    "def get_E_G_hs_d_t(hybrid_category, Theta_ex_Ave_d, L_dashdash_k_d_t, L_dashdash_s_d_t, L_dashdash_w_d_t,\n",
    "                   L_dashdash_b2_d_t, L_dashdash_ba2_d_t):\n",
    "    \"\"\"\n",
    "    :param hybrid_category: 電気ヒートポンプ・ガス瞬間式併用型給湯温水暖房機の区分\n",
    "    :param Theta_ex_Ave_d: 日平均外気温度 (℃)\n",
    "    :param L_dashdash_k_d_t: 1日当たりの台所水栓における太陽熱補正給湯熱負荷 (MJ/h)\n",
    "    :param L_dashdash_s_d_t: 1日当たりの浴室シャワー水栓における対応熱補正給湯負荷 (MJ/hd)\n",
    "    :param L_dashdash_w_d_t: 1日当たりの洗面水栓における対応熱補正給湯負荷 (MJ/h)\n",
    "    :param L_dashdash_b2_d_t: 1日当たりの浴槽自動湯はり時における対応熱補正給湯負荷 (MJ/h)\n",
    "    :param L_dashdash_ba2_d_t: 1日当たりの浴槽追焚時における対応熱補正給湯負荷 (MJ/h)\n",
    "    :return: 1時間当たりの給湯機のガス消費量 (MJ/h)\n",
    "    \"\"\"\n",
    "    # 1日当たりの太陽熱補正給湯熱負荷\n",
    "    L_dashdash_k_d = get_L_dashdash_k_d(L_dashdash_k_d_t)\n",
    "    L_dashdash_s_d = get_L_dashdash_s_d(L_dashdash_s_d_t)\n",
    "    L_dashdash_w_d = get_L_dashdash_w_d(L_dashdash_w_d_t)\n",
    "    L_dashdash_b2_d = get_L_dashdash_b2_d(L_dashdash_b2_d_t)\n",
    "    L_dashdash_ba2_d = get_L_dashdash_ba2_d(L_dashdash_ba2_d_t)\n",
    "\n",
    "    # 1日当たりの給湯機のガス消費量 (4)\n",
    "    E_G_hs_d = get_E_G_hs_d(hybrid_category, Theta_ex_Ave_d, L_dashdash_k_d, L_dashdash_s_d, L_dashdash_w_d,\n",
    "                            L_dashdash_b2_d, L_dashdash_ba2_d)\n",
    "\n",
    "    # 1日当たりの太陽熱補正給湯熱負荷、給湯機のガス消費量の配列要素を1時間ごとに引き延ばす(合計値は24倍になることに注意)\n",
    "    E_G_hs_d = np.repeat(E_G_hs_d, 24)\n",
    "    L_dashdash_k_d = np.repeat(L_dashdash_k_d, 24)\n",
    "    L_dashdash_s_d = np.repeat(L_dashdash_s_d, 24)\n",
    "    L_dashdash_w_d = np.repeat(L_dashdash_w_d, 24)\n",
    "    L_dashdash_b2_d = np.repeat(L_dashdash_b2_d, 24)\n",
    "    L_dashdash_ba2_d = np.repeat(L_dashdash_ba2_d, 24)\n",
    "\n",
    "    E_G_hs_d_t = np.zeros(24 * 365)\n",
    "\n",
    "    # (4-1) 太陽熱補正給湯熱負荷が発生しない日 => 24時間で単純分割\n",
    "    f1 = (L_dashdash_k_d + L_dashdash_s_d + L_dashdash_w_d + L_dashdash_b2_d + L_dashdash_ba2_d == 0)\n",
    "    E_G_hs_d_t[f1] = E_G_hs_d[f1] / 24\n",
    "\n",
    "    # (4-2) 太陽熱補正給湯熱負荷が発生する日 => 負荷で按分\n",
    "    f2 = (L_dashdash_k_d + L_dashdash_s_d + L_dashdash_w_d + L_dashdash_b2_d + L_dashdash_ba2_d > 0)\n",
    "    E_G_hs_d_t[f2] = E_G_hs_d[f2] * (\n",
    "            L_dashdash_k_d_t[f2] + L_dashdash_s_d_t[f2] + L_dashdash_w_d_t[f2] + L_dashdash_b2_d_t[f2] +\n",
    "            L_dashdash_ba2_d_t[f2]) / (\n",
    "                             L_dashdash_k_d[f2] + L_dashdash_s_d[f2] + L_dashdash_w_d[f2] + L_dashdash_b2_d[f2] +\n",
    "                             L_dashdash_ba2_d[f2])\n",
    "    return E_G_hs_d_t"
   ]
  },
  {
   "cell_type": "markdown",
   "metadata": {},
   "source": [
    "$$\n",
    "E_{G,hs,d} = max \\bigg( \\bigg \\{ (d \\times \\theta_{ex,Ave,d} + e \\times (L''_{k,d}+L''_{s,d}+L''_{w,d}+L''_{b2,d}) + f) \\times C_{G,def,d}  + \\frac{L''_{ba2,d}}{e_{ba2,d}} \\bigg \\} , 0 \\bigg)\n",
    "$$"
   ]
  },
  {
   "cell_type": "markdown",
   "metadata": {},
   "source": [
    "$ C_{G,def,d} $：日付$d$における1 日当たりのデフロスト運転によるガス消費量の補正係数(-)  \n",
    "$E_{G,hs,d}$：日付$d$における1 日当たりの給湯機のガス消費量(MJ/d)  \n",
    "$ e_{ba2,d} $：日付$d$における浴槽追焚時における日平均給湯機効率(-)  \n",
    "$ L''_{k,d} $：日付$d$における1 日当たりの台所水栓における太陽熱補正給湯熱負荷(MJ/d)  \n",
    "$ L''_{s,d} $：日付$d$における1 日当たりの浴室シャワー水栓における太陽熱補正給湯熱負荷(MJ/d)  \n",
    "$ L''_{w,d} $：日付$d$における1 日当たりの洗面水栓における太陽熱補正給湯熱負荷(MJ/d)  \n",
    "$ L''_{b2,d} $：日付$d$における1 日当たりの浴槽自動湯はり時における太陽熱補正給湯熱負荷(MJ/d)  \n",
    "$ L''_{ba2,d} $：日付$d$における1 日当たりの浴槽追焚時における太陽熱補正給湯熱負荷(MJ/d)  \n",
    "$\\theta_{ex,Ave,d}$：日付$d$における日平均外気温度(℃)  \n",
    "$d, e, f$：係数(-)  "
   ]
  },
  {
   "cell_type": "code",
   "execution_count": null,
   "metadata": {},
   "outputs": [],
   "source": [
    "# 1日当たりの給湯機のガス消費量 (5)\n",
    "def get_E_G_hs_d(hybrid_category, Theta_ex_Ave_d, L_dashdash_k_d, L_dashdash_s_d, L_dashdash_w_d, L_dashdash_b2_d,\n",
    "                 L_dashdash_ba2_d):\n",
    "    \"\"\"\n",
    "    :param hybrid_category: 電気ヒートポンプ・ガス瞬間式併用型給湯温水暖房機の区分\n",
    "    :param Theta_ex_Ave_d: 日平均外気温度 (℃)\n",
    "    :param L_dashdash_k_d: 1日当たりの台所水栓における太陽熱補正給湯熱負荷 (MJ/d)\n",
    "    :param L_dashdash_s_d: 1日当たりの浴室シャワー水栓における対応熱補正給湯負荷 (MJ/d)\n",
    "    :param L_dashdash_w_d: 1日当たりの洗面水栓における対応熱補正給湯負荷 (MJ/d)\n",
    "    :param L_dashdash_b2_d: 1日当たりの浴槽自動湯はり時における対応熱補正給湯負荷 (MJ/d)\n",
    "    :param L_dashdash_ba2_d: 1日当たりの浴槽追焚時における対応熱補正給湯負荷 (MJ/d)\n",
    "    :return: 1日当たりの給湯機のガス消費量 (MJ/d)\n",
    "    \"\"\"\n",
    "    # 係数d,e,f\n",
    "    d, e, f = get_coeff_eq3(hybrid_category)\n",
    "\n",
    "    # デフロスト係数\n",
    "    C_G_def_d = get_C_G_def_d(Theta_ex_Ave_d)\n",
    "\n",
    "    # 浴槽追焚時における日平均給湯機効率\n",
    "    e_ba2 = get_e_ba2_d(Theta_ex_Ave_d, L_dashdash_ba2_d)\n",
    "\n",
    "    # 1日当たりの給湯機のガス消費量 (3)\n",
    "    E_G_hs = (d * Theta_ex_Ave_d + e * (\n",
    "            L_dashdash_k_d + L_dashdash_s_d + L_dashdash_w_d + L_dashdash_b2_d) + f) * C_G_def_d + (\n",
    "                         L_dashdash_ba2_d / e_ba2)\n",
    "    E_G_hs = np.clip(E_G_hs, 0, None)\n",
    "\n",
    "    return E_G_hs"
   ]
  },
  {
   "cell_type": "markdown",
   "metadata": {},
   "source": [
    "<div style=\"text-align: center;font-weight: bold;\">表　係数</div>\n",
    "\n",
    "<table>\n",
    "<thead>\n",
    "<tr>\n",
    "<th rowspan=\"2\"></th>\n",
    "<th colspan=\"3\">電気ヒートポンプ・ガス瞬間式併用型給湯機</th>\n",
    "</tr>\n",
    "<tr>\n",
    "<th>区分１</th><th>区分２</th><th>区分３</th>\n",
    "</tr>\n",
    "</thead>\n",
    "\n",
    "<tr><th>d</th><td>-0.52617</td><td>-0.05770</td><td>-0.52617</td></tr>\n",
    "<tr><th>e</th><td>0.15061</td><td>0.47525</td><td>0.15061</td></tr>\n",
    "<tr><th>f</th><td>15.18195</td><td>-6.34593</td><td> 15.18195</td></tr>\n",
    "</table>\n"
   ]
  },
  {
   "cell_type": "code",
   "execution_count": null,
   "metadata": {},
   "outputs": [],
   "source": [
    "# 係数d,e,f\n",
    "def get_coeff_eq3(hybrid_category):\n",
    "    \"\"\"\n",
    "    :param hybrid_category: 電気ヒートポンプ・ガス瞬間式併用型給湯温水暖房機の区分\n",
    "    :return: 式(3)における係数 d,e,f\n",
    "    \"\"\"\n",
    "    # 表G.3 係数\n",
    "    table_g_3 = [\n",
    "        (-0.52617, -0.05770, -0.52617),\n",
    "        (0.15061, 0.47525, 0.15061),\n",
    "        (15.18195, -6.34593, 15.18195)\n",
    "    ]\n",
    "    if hybrid_category == '区分1':\n",
    "        return table_g_3[0][0], table_g_3[1][0], table_g_3[2][0]\n",
    "    elif hybrid_category == '区分2':\n",
    "        return table_g_3[0][1], table_g_3[1][1], table_g_3[2][1]\n",
    "    elif hybrid_category == '区分3':\n",
    "        return table_g_3[0][2], table_g_3[1][2], table_g_3[2][2]\n",
    "    else:\n",
    "        raise ValueError(hybrid_category)"
   ]
  },
  {
   "cell_type": "markdown",
   "metadata": {},
   "source": [
    "浴槽追焚時における日平均給湯機効率$e_{ba2,d}$は1.0を超えない。"
   ]
  },
  {
   "cell_type": "markdown",
   "metadata": {},
   "source": [
    "$$\\large\n",
    "e_{ba2,d} = g \\times \\theta_{ex,Ave,d} + h \\times L''_{ba2,d} + i\n",
    "$$"
   ]
  },
  {
   "cell_type": "markdown",
   "metadata": {},
   "source": [
    "$ e_{ba2,d} $：日付$d$における浴槽追焚時における日平均給湯機効率(-)  \n",
    "$ L''_{ba2,d} $：日付$d$における1 日当たりの浴槽追焚時における太陽熱補正給湯熱負荷(MJ/d)  \n",
    "$\\theta_{ex,Ave,d}$：日付$d$における日平均外気温度(℃)  \n",
    "$g, h, i$：係数(-)  "
   ]
  },
  {
   "cell_type": "code",
   "execution_count": null,
   "metadata": {},
   "outputs": [],
   "source": [
    "# 浴槽追焚時における日平均給湯機効率 (6)\n",
    "def get_e_ba2_d(Theta_ex_Ave_d, L_dashdash_ba2_d):\n",
    "    \"\"\"\n",
    "    :param Theta_ex_Ave_d: 日平均外気温度 (℃)\n",
    "    :param L_dashdash_ba2_d: 1日当たりの浴槽追焚時における対応熱補正給湯負荷 (MJ/d)\n",
    "    :return: 浴槽追焚時における日平均給湯機効率 (-)\n",
    "    \"\"\"\n",
    "    # 係数g,h,i\n",
    "    g, h, i = get_coeff_eq4()\n",
    "\n",
    "    e_ba2 = g * Theta_ex_Ave_d + h * L_dashdash_ba2_d + i\n",
    "\n",
    "    # 効率が1.0を超えない範囲\n",
    "    e_ba2 = np.clip(e_ba2, None, 1)\n",
    "\n",
    "    return e_ba2"
   ]
  },
  {
   "cell_type": "markdown",
   "metadata": {},
   "source": [
    "<div style=\"text-align: center;font-weight: bold;\">表　係数</div>\n",
    "\n",
    "<table>\n",
    "<tr><th>係数</th><td>値</td></tr>\n",
    "<tr><th>g</th><td>0.0048</td></tr>\n",
    "<tr><th>h</th><td>0.0060</td></tr>\n",
    "<tr><th>i</th><td>0.7544</td></tr>\n",
    "</table>\n"
   ]
  },
  {
   "cell_type": "code",
   "execution_count": null,
   "metadata": {},
   "outputs": [],
   "source": [
    "# 係数 g, h, i\n",
    "def get_coeff_eq4():\n",
    "    \"\"\"\n",
    "    :return: 式(4)における係数 g,h,i\n",
    "    \"\"\"\n",
    "    # 表G.4 係数\n",
    "    table_g_4 = (0.0048, 0.0060, 0.7544)\n",
    "\n",
    "    return table_g_4"
   ]
  },
  {
   "cell_type": "markdown",
   "metadata": {},
   "source": [
    "$$\\large\n",
    "C_{G,def,d} = \\left\\{ \\begin{array}{ll}\n",
    "    1.0 &(7 \\leq \\theta_{ex,Ave,d}の場合)\\\\ \n",
    "    1 + (7 - \\theta_{ex,Ave,d}) \\times 0.0205 &(\\theta_{ex,Ave,d} < 7の場合)\\\\ \n",
    "    \\end{array}\n",
    "\\right.\n",
    "$$"
   ]
  },
  {
   "cell_type": "markdown",
   "metadata": {},
   "source": [
    "$ C_{G,def,d} $：日付$d$における1 日当たりのデフロスト運転によるガス消費量の補正係数(-)  \n",
    "$\\theta_{ex,Ave,d}$：日付$d$における日平均外気温度(℃)  "
   ]
  },
  {
   "cell_type": "code",
   "execution_count": null,
   "metadata": {},
   "outputs": [],
   "source": [
    "# 1日当たりのデフロスト運転によるガス消費量の補正係数 (7)\n",
    "def get_C_G_def_d(Theta_ex_Ave_d):\n",
    "    \"\"\"\n",
    "    :param Theta_ex_Ave_d: 日平均外気温度 (℃)\n",
    "    :return: 1日当たりのデフロスト運転によるガス消費量の補正係数 (-)\n",
    "    \"\"\"\n",
    "    C_G_def_d = np.ones(365)\n",
    "\n",
    "    # Theta_ex_Ave_d < 7 の場合\n",
    "    f = (Theta_ex_Ave_d < 7)\n",
    "    C_G_def_d[f] = 1.0 + (7 - Theta_ex_Ave_d[f]) * 0.0205\n",
    "\n",
    "    return C_G_def_d"
   ]
  },
  {
   "cell_type": "markdown",
   "metadata": {},
   "source": [
    "#### G.2.5 灯油消費量"
   ]
  },
  {
   "cell_type": "markdown",
   "metadata": {},
   "source": [
    "日付$d$の時刻$t$における1時間当たりの給湯機の灯油消費量$E_{K,hs,d,t}$は0とする。"
   ]
  },
  {
   "cell_type": "code",
   "execution_count": null,
   "metadata": {},
   "outputs": [],
   "source": [
    "# 1時間当たりの給湯機の灯油消費量\n",
    "def get_E_K_hs_d_t():\n",
    "    # 1日当たりの給湯機の灯油消費量は0とする\n",
    "    return np.zeros(24 * 365)"
   ]
  },
  {
   "cell_type": "markdown",
   "metadata": {},
   "source": [
    "#### G.2.6 電気ヒートポンプ・ガス瞬間式併用型給湯温水暖房機の区分"
   ]
  },
  {
   "cell_type": "markdown",
   "metadata": {},
   "source": [
    "省略"
   ]
  },
  {
   "cell_type": "markdown",
   "metadata": {},
   "source": [
    "### G.3 試験された値を用いる方法"
   ]
  },
  {
   "cell_type": "markdown",
   "metadata": {},
   "source": [
    "#### G.3.1 記号"
   ]
  },
  {
   "cell_type": "markdown",
   "metadata": {},
   "source": [
    "省略"
   ]
  },
  {
   "cell_type": "markdown",
   "metadata": {},
   "source": [
    "#### G.3.2 添え字"
   ]
  },
  {
   "cell_type": "markdown",
   "metadata": {},
   "source": [
    "省略"
   ]
  },
  {
   "cell_type": "markdown",
   "metadata": {},
   "source": [
    "#### G.3.3 ハイブリッド給湯機の仕様"
   ]
  },
  {
   "cell_type": "markdown",
   "metadata": {},
   "source": [
    "省略"
   ]
  },
  {
   "cell_type": "code",
   "execution_count": null,
   "metadata": {},
   "outputs": [],
   "source": [
    "# ハイブリッド給湯機の仕様一覧を読み込む\n",
    "def load_specification(filename):\n",
    "    \"\"\"\n",
    "    :param filename: ファイル名\n",
    "    \"\"\"\n",
    "    global csv\n",
    "    csv = pd.read_csv(filename, encoding='Shift_JIS')\n",
    "\n",
    "\n",
    "# ハイブリッド給湯機の仕様を取得する\n",
    "def get_specification(package_id):\n",
    "    \"\"\"\n",
    "    :param package_id: パッケージID\n",
    "    :return: ハイブリッド給湯機の仕様\n",
    "    \"\"\"\n",
    "    list = csv[csv['NO'] == int(package_id)]\n",
    "    data = list.values[0, 12:24]\n",
    "    return {\n",
    "        'a_HP': data[0],\n",
    "        'b_HP': data[1],\n",
    "        'a_TU': data[2],\n",
    "        'b_TU': data[3],\n",
    "        'e_HP_std_m7': data[4],\n",
    "        'e_HP_std_2': data[5],\n",
    "        'e_HP_std_7': data[6],\n",
    "        'e_HP_std_25': data[7],\n",
    "        'Q_HP_max': data[8],\n",
    "        'etr_loss_TU': data[9],\n",
    "        'Theta_ex_min_HP': data[10],\n",
    "        'e_BB_jis': data[11]\n",
    "    }"
   ]
  },
  {
   "cell_type": "markdown",
   "metadata": {},
   "source": [
    "#### G.3.4 消費電力量"
   ]
  },
  {
   "cell_type": "markdown",
   "metadata": {},
   "source": [
    "$$\\large\n",
    "E_{E,hs,d,t} = E_{E,hs,HP,d,t} + E_{E,hs,TU,d,t} + E_{E,hs,BB,d,t}\n",
    "$$"
   ]
  },
  {
   "cell_type": "markdown",
   "metadata": {},
   "source": [
    "$E_{E,hs,d,t}$：日付$d$の時刻$t$における1時間当たりの給湯機の消費電力量(kWh/h)  \n",
    "$E_{E,hs,HP,d,t}$：日付$d$の時刻$t$における1時間当たりの電気ヒートポンプの消費電力量(kWh/h)  \n",
    "$E_{E,hs,TU,d,t}$：日付$d$の時刻$t$における1時間当たりのタンクユニットの消費電力量(kWh/h)  \n",
    "$E_{E,hs,BB,d,t}$：日付$d$の時刻$t$における1時間当たりの保温時における消費電力量(kWh/h)  "
   ]
  },
  {
   "cell_type": "code",
   "execution_count": null,
   "metadata": {},
   "outputs": [],
   "source": [
    "# 1日当たりの給湯機の消費電量量 (8)\n",
    "def get_E_E_hs_d_t(bath_function, package_id, Theta_ex_Ave_d, L_dashdash_k_d_t, L_dashdash_s_d_t, L_dashdash_w_d_t,\n",
    "                   L_dashdash_b1_d_t, L_dashdash_b2_d_t, L_dashdash_ba1_d_t, L_dashdash_ba2_d_t, W_dash_ba1_d_t):\n",
    "    # ハイブリッド給湯機の仕様\n",
    "    spec = get_specification(package_id)\n",
    "\n",
    "    # 1時間当たりの太陽熱補正給湯熱負荷 (MJ/h)\n",
    "    L_dashdash_d_t = get_L_dashdash_d_t(L_dashdash_k_d_t, L_dashdash_s_d_t, L_dashdash_w_d_t, L_dashdash_b1_d_t,\n",
    "                                        L_dashdash_b2_d_t, L_dashdash_ba1_d_t)\n",
    "\n",
    "    # 1日当たりの太陽熱補正給湯熱負荷 (MJ/d)\n",
    "    L_dashdash_d = get_L_dashdash_d(L_dashdash_d_t)\n",
    "\n",
    "    # 1日当たりの電気ヒートポンプが分担する給湯熱負荷 (MJ/d)\n",
    "    L_HP_d = get_L_HP_d(spec['Theta_ex_min_HP'], spec['a_HP'], spec['b_HP'], spec['etr_loss_TU'], spec['Q_HP_max'],\n",
    "                      L_dashdash_d, Theta_ex_Ave_d)\n",
    "\n",
    "    # 1日当たりの電気ヒートポンプの加熱量 (MJ/d)\n",
    "    Q_HP_d = get_Q_HP_d(L_HP_d, spec['etr_loss_TU'])\n",
    "\n",
    "    # 電気ヒートポンプの日平均熱効率 (-)\n",
    "    e_HP_d = get_e_HP_d(spec['e_HP_std_m7'], spec['e_HP_std_2'], spec['e_HP_std_7'], spec['e_HP_std_25'], Theta_ex_Ave_d)\n",
    "\n",
    "    # 1時間当たりの電気ヒートポンプの消費電力量 (kWh/h)\n",
    "    E_E_hs_HP_d_t = get_E_E_hs_HP_d_t(Q_HP_d, e_HP_d, L_dashdash_d, L_dashdash_d_t)\n",
    "\n",
    "    # 1時間当たりのタンクユニットの消費電力量 (kWh/h)\n",
    "    E_E_hs_TU_d_t = get_E_E_hs_TU_d_t(spec['a_TU'], spec['b_TU'], L_dashdash_d, L_dashdash_d_t)\n",
    "\n",
    "    # 1時間当たりの保温時における消費電力量 (kWh/h)\n",
    "    L_dashdash_ba2_d = get_L_dashdash_ba2_d(L_dashdash_ba2_d_t)\n",
    "    L_BB_ba2_d = get_L_BB_ba2_d(L_dashdash_ba2_d)\n",
    "    L_BB_ba2_d_t = get_L_BB_ba2_d_t(L_dashdash_ba2_d_t)\n",
    "    E_E_hs_BB_d_t = get_E_E_hs_BB_d_t(W_dash_ba1_d_t, L_BB_ba2_d, L_BB_ba2_d_t, bath_function)\n",
    "\n",
    "    print('E_E_hs_HP = {}'.format(np.sum(E_E_hs_HP_d_t)))\n",
    "    print('E_E_hs_TU = {}'.format(np.sum(E_E_hs_TU_d_t)))\n",
    "    print('E_E_hs_BB = {}'.format(np.sum(E_E_hs_BB_d_t)))\n",
    "\n",
    "    return E_E_hs_HP_d_t + E_E_hs_TU_d_t + E_E_hs_BB_d_t"
   ]
  },
  {
   "cell_type": "markdown",
   "metadata": {},
   "source": [
    "$$\\large\n",
    "E_{E,hs,HP,d,t} = \\left\\{ \\begin{array}{ll}\n",
    "    \\frac{Q_{HP,d}}{3.6 \\times e_{HP,d}} \\times \\frac{L''_{d,t}}{L''_{d}} & (L''_{d} > 0)\\\\ \n",
    "    0 & (L''_{d} = 0)\\\\ \n",
    "    \\end{array}\n",
    "\\right.\n",
    "$$"
   ]
  },
  {
   "cell_type": "markdown",
   "metadata": {},
   "source": [
    "$E_{E,hs,HP,d,t}$：日付$d$の時刻$t$における1時間当たりの電気ヒートポンプの消費電力量(kWh/h)  \n",
    "$e_{HP,d}$：日付$d$における電気ヒートポンプの日平均熱効率(-)  \n",
    "$L''_{d}$：日付$d$における1 日当たりの太陽熱補正給湯熱負荷(MJ/d)  \n",
    "$L''_{d,t}$：日付$d$の時刻$t$における1時間当たりの太陽熱補正給湯熱負荷(MJ/h)  \n",
    "$Q_{HP,d}$：日付$d$における1 日当たりの電気ヒートポンプの加熱量(MJ/d)  "
   ]
  },
  {
   "cell_type": "code",
   "execution_count": null,
   "metadata": {},
   "outputs": [],
   "source": [
    "# 1時間当たりの電気ヒートポンプ消費電力量 (kWh/h) (9)\n",
    "def get_E_E_hs_HP_d_t(Q_HP_d, e_HP_d, L_dashdash_d, L_dashdash_d_t):\n",
    "    \"\"\"\n",
    "    :param Q_HP_d: 1日当たりの電気ヒートポンプの過熱量 (MJ/d)\n",
    "    :param e_HP_d: 電気ヒートポンプの日平均熱効率 (-)\n",
    "    :param L_dashdash_d: 1日当たりの太陽熱補正給湯熱負荷 (MJ/d)\n",
    "    :param L_dashdash_d_t: 1時間当たりの太陽熱補正給湯熱負荷 (MJ/h)\n",
    "    :return: 1時間当たりの電気ヒートポンプ消費電力量 (kWh/h)\n",
    "    \"\"\"\n",
    "    E_E_hs_HP_d_t = np.zeros(24 * 365)\n",
    "\n",
    "    L_dashdash_d = np.repeat(L_dashdash_d, 24)\n",
    "    e_HP_d = np.repeat(e_HP_d, 24)\n",
    "    Q_HP_d = np.repeat(Q_HP_d, 24)\n",
    "\n",
    "    f = L_dashdash_d > 0\n",
    "    E_E_hs_HP_d_t[f] = Q_HP_d[f] / (3.6 * e_HP_d[f]) * L_dashdash_d_t[f] / L_dashdash_d[f]\n",
    "\n",
    "    return E_E_hs_HP_d_t"
   ]
  },
  {
   "cell_type": "markdown",
   "metadata": {},
   "source": [
    "$$\\large\n",
    "E_{E,hs,TU,d,t} = a_{TU} \\times L''_{d,t} + b_{TU} \\div 24\n",
    "$$"
   ]
  },
  {
   "cell_type": "markdown",
   "metadata": {},
   "source": [
    "$E_{E,hs,TU,d,t}$：日付$d$の時刻$t$における1時間当たりのタンクユニットの消費電力量(kWh/h)  \n",
    "$L''_{d}$：日付$d$における1 日当たりの太陽熱補正給湯熱負荷(MJ/d)  \n",
    "$L''_{d,t}$：日付$d$の時刻$t$における1時間当たりの太陽熱補正給湯熱負荷(MJ/h)  \n",
    "$a_{TU}, b_{TU}$：係数(-)  "
   ]
  },
  {
   "cell_type": "code",
   "execution_count": null,
   "metadata": {},
   "outputs": [],
   "source": [
    "# 1時間当たりのタンクユニットの消費電力量 (10)\n",
    "def get_E_E_hs_TU_d_t(a_TU, b_TU, L_dashdash_d, L_dashdash_d_t):\n",
    "    E_E_hs_TU_d_t = np.zeros(24 * 365)\n",
    "\n",
    "    L_dashdash_d = np.repeat(L_dashdash_d, 24)\n",
    "\n",
    "    # L_dasdash_d > 0\n",
    "    f1 = L_dashdash_d > 0\n",
    "    E_E_hs_TU_d_t[f1] = (a_TU * L_dashdash_d[f1] + b_TU) * L_dashdash_d_t[f1] / L_dashdash_d[f1]\n",
    "\n",
    "    # L_dashdash_d = 0\n",
    "    f2 = L_dashdash_d == 0\n",
    "    E_E_hs_TU_d_t[f2] = b_TU / 24\n",
    "\n",
    "    return E_E_hs_TU_d_t"
   ]
  },
  {
   "cell_type": "markdown",
   "metadata": {},
   "source": [
    "ふろ機能の種類が給湯単機能又はふろ給湯機（追焚なし）の場合"
   ]
  },
  {
   "cell_type": "markdown",
   "metadata": {},
   "source": [
    "$$\\large\n",
    "E_{E,hs,BB,d,t} = 0.000393 \\times W'_{ba1,d,t} \\times 10^{3} \\div 3600\n",
    "$$"
   ]
  },
  {
   "cell_type": "markdown",
   "metadata": {},
   "source": [
    "ふろ機能の種類がふろ給湯機（追焚あり）の場合"
   ]
  },
  {
   "cell_type": "markdown",
   "metadata": {},
   "source": [
    "$$\n",
    "E_{E,hs,BB,d,t} = \\left\\{ \\begin{array}{ll}\n",
    "    (0.01723 \\times L_{BB,ba2,d} + 0.06099) \\times 10^{3} \\div 3600 \\times \\frac{L_{BB,ba2,d,t}}{L_{BB,ba2,d}} &(L_{BB,ba2,d} > 0)\\\\ \n",
    "    0 &(L_{BB,ba2,d} = 0)\\\\ \n",
    "    \\end{array}\n",
    "\\right.\n",
    "$$"
   ]
  },
  {
   "cell_type": "markdown",
   "metadata": {},
   "source": [
    "$E_{E,hs,BB,d,t}$：日付$d$の時刻$t$における1時間当たりの保温時における消費電力量(kWh/h)  \n",
    "$L_{BB,ba2,d}$：日付$d$における1 日当たりの浴槽追焚時におけるバックアップボイラーが分担する給湯熱負荷(MJ/d)  \n",
    "$L_{BB,ba2,d,t}$：日付$d$の時刻$t$における1時間当たりの浴槽追焚時におけるバックアップボイラーが分担する給湯熱負荷(MJ/h)  \n",
    "$ W'_{ba1,d,t} $：日付$d$の時刻$t$における1時間当たりの浴槽水栓さし湯時における節湯補正給湯量(L/h)  "
   ]
  },
  {
   "cell_type": "code",
   "execution_count": null,
   "metadata": {},
   "outputs": [],
   "source": [
    "# 1日当たりの保温時における消費電力量 (11)\n",
    "def get_E_E_hs_BB_d_t(W_dash_ba1_d_t, L_BB_ba2_d, L_BB_ba2_d_t, bath_function):\n",
    "    if bath_function == '給湯単機能' or bath_function == 'ふろ給湯機(追焚なし)':\n",
    "        # (11a)\n",
    "        return (0.000393 * W_dash_ba1_d_t * 10 ** 3 / 3600)\n",
    "    elif bath_function == 'ふろ給湯機(追焚あり)':\n",
    "        # (11b)\n",
    "        L_BB_ba2_d = np.repeat(L_BB_ba2_d, 24)\n",
    "        E_E_hs_BB_d_t = np.zeros(24 * 365)\n",
    "\n",
    "        fb1 = L_BB_ba2_d > 0\n",
    "        E_E_hs_BB_d_t[fb1] = ((0.01723 * L_BB_ba2_d[fb1] + 0.06099) * 10 ** 3 / 3600) \\\n",
    "                             * L_BB_ba2_d_t[fb1] / L_BB_ba2_d[fb1]\n",
    "\n",
    "        fb2 = L_BB_ba2_d == 0\n",
    "        E_E_hs_BB_d_t[fb2] = 0\n",
    "\n",
    "        return E_E_hs_BB_d_t\n",
    "    else:\n",
    "        raise ValueError(bath_function)"
   ]
  },
  {
   "cell_type": "markdown",
   "metadata": {},
   "source": [
    "#### G.3.5 ガス消費量"
   ]
  },
  {
   "cell_type": "markdown",
   "metadata": {},
   "source": [
    "ふろ機能の種類が「給湯単機能」の場合"
   ]
  },
  {
   "cell_type": "markdown",
   "metadata": {},
   "source": [
    "$$\\large\n",
    "E_{G,hs,d,t} = \\frac{L_{BB,k,d,t}}{e_{BB,k,d}} + \\frac{L_{BB,s,d,t}}{e_{BB,s,d}} + \\frac{L_{BB,w,d,t}}{e_{BB,w,d}} + \\frac{L_{BB,b1,d,t}}{e_{BB,b1,d}} + \\frac{L_{BB,ba1,d,t}}{e_{BB,ba1,d}}\n",
    "$$\n"
   ]
  },
  {
   "cell_type": "markdown",
   "metadata": {},
   "source": [
    "ふろ機能の種類が「ふろ給湯機（追焚なし）」の場合"
   ]
  },
  {
   "cell_type": "markdown",
   "metadata": {},
   "source": [
    "$$\\large\n",
    "E_{G,hs,d,t} = \\frac{L_{BB,k,d,t}}{e_{BB,k,d}} + \\frac{L_{BB,s,d,t}}{e_{BB,s,d}} + \\frac{L_{BB,w,d,t}}{e_{BB,w,d}} + \\frac{L_{BB,b2,d,t}}{e_{BB,b2,d}} + \\frac{L_{BB,ba1,d,t}}{e_{BB,ba1,d}}\n",
    "$$"
   ]
  },
  {
   "cell_type": "markdown",
   "metadata": {},
   "source": [
    "ふろ機能の種類が「ふろ給湯機（追焚あり）」の場合"
   ]
  },
  {
   "cell_type": "markdown",
   "metadata": {},
   "source": [
    "$$\\large\n",
    "E_{G,hs,d,t} = \\frac{L_{BB,k,d,t}}{e_{BB,k,d}} + \\frac{L_{BB,s,d,t}}{e_{BB,s,d}} + \\frac{L_{BB,w,d,t}}{e_{BB,w,d}} + \\frac{L_{BB,b2,d,t}}{e_{BB,b2,d}} + \\frac{L_{BB,ba2,d,t}}{e_{BB,ba2,d}}\n",
    "$$"
   ]
  },
  {
   "cell_type": "markdown",
   "metadata": {},
   "source": [
    "$E_{G,hs,d,t}$：日付$d$の時刻$t$における1時間当たりの給湯機のガス消費量(MJ/h)  \n",
    "$ L_{BB,k,d,t} $：日付$d$の時刻$t$における1時間当たりの台所水栓におけるバックアップボイラーが分担する給湯熱負荷(MJ/h)  \n",
    "$ L_{BB,s,d,t} $：日付$d$の時刻$t$における1時間当たりの浴室シャワー水栓におけるバックアップボイラーが分担する給湯熱負荷(MJ/h)  \n",
    "$ L_{BB,w,d,t} $：日付$d$の時刻$t$における1時間当たりの洗面水栓におけるバックアップボイラーが分担する給湯熱負荷(MJ/h)  \n",
    "$ L_{BB,b1,d,t} $：日付$d$の時刻$t$における1時間当たりの浴槽水栓湯はり時におけるバックアップボイラーが分担する給湯熱負荷(MJ/h)  \n",
    "$ L_{BB,b2,d,t} $：日付$d$の時刻$t$における1時間当たりの浴槽自動湯はり時におけるバックアップボイラーが分担する給湯熱負荷(MJ/h)  \n",
    "$ L_{BB,ba1,d,t} $：日付$d$の時刻$t$における1時間当たりの浴槽水栓さし湯時におけるバックアップボイラーが分担する給湯熱負荷(MJ/h)  \n",
    "$ L_{BB,ba2,d,t} $：日付$d$の時刻$t$における1時間当たりの浴槽追焚時におけるバックアップボイラーが分担する給湯熱負荷(MJ/h)  \n",
    "$ e_{BB,k,d} $：日付$d$における台所水栓の給湯使用時におけるバックアップボイラーの日平均熱効率(-)  \n",
    "$ e_{BB,s,d} $：日付$d$における浴室シャワー水栓の給湯使用時におけるバックアップボイラーの日平均熱効率(-)  \n",
    "$ e_{BB,w,d} $：日付$d$における洗面水栓の給湯使用時におけるバックアップボイラーの日平均熱効率(-)  \n",
    "$ e_{BB,b1,d} $：日付$d$における浴槽水栓湯はり時におけるバックアップボイラーの日平均熱効率(-)  \n",
    "$ e_{BB,b2,d} $：日付$d$における浴槽自動湯はり時におけるバックアップボイラーの日平均熱効率(-)  \n",
    "$ e_{BB,ba1,d} $：日付$d$における浴槽水栓さし湯時におけるバックアップボイラーの日平均熱効率(-)  \n",
    "$ e_{BB,ba2,d} $：日付$d$における浴槽追焚時におけるバックアップボイラーの日平均熱効率(-)  "
   ]
  },
  {
   "cell_type": "code",
   "execution_count": null,
   "metadata": {},
   "outputs": [],
   "source": [
    "# 1日当たりの給湯機のガス消費量 (12)\n",
    "def get_E_G_hs_d_t(bath_function, package_id, Theta_ex_Ave_d, L_dashdash_k_d_t, L_dashdash_s_d_t, L_dashdash_w_d_t,\n",
    "                   L_dashdash_b1_d_t, L_dashdash_b2_d_t, L_dashdash_ba1_d_t, L_dashdash_ba2_d_t, W_dash_ba1_d_t):\n",
    "    # ハイブリッド給湯機の仕様\n",
    "    spec = get_specification(package_id)\n",
    "\n",
    "    # 当該給湯機に対する効率の補正係数\n",
    "    f_hs = get_f_hs(spec['e_BB_jis'])\n",
    "\n",
    "    L_dashdash_d_t = get_L_dashdash_d_t(\n",
    "        L_dashdash_k_d_t=L_dashdash_k_d_t,\n",
    "        L_dashdash_s_d_t=L_dashdash_s_d_t,\n",
    "        L_dashdash_w_d_t=L_dashdash_w_d_t,\n",
    "        L_dashdash_b1_d_t=L_dashdash_b1_d_t,\n",
    "        L_dashdash_b2_d_t=L_dashdash_b2_d_t,\n",
    "        L_dashdash_ba1_d_t=L_dashdash_ba1_d_t,\n",
    "    )\n",
    "    L_dashdash_k_d = get_L_dashdash_k_d(L_dashdash_k_d_t)\n",
    "    L_dashdash_s_d = get_L_dashdash_s_d(L_dashdash_s_d_t)\n",
    "    L_dashdash_w_d = get_L_dashdash_w_d(L_dashdash_w_d_t)\n",
    "    L_dashdash_b1_d = get_L_dashdash_b1_d(L_dashdash_b1_d_t)\n",
    "    L_dashdash_b2_d = get_L_dashdash_b2_d(L_dashdash_b2_d_t)\n",
    "    L_dashdash_ba1_d = get_L_dashdash_ba1_d(L_dashdash_ba1_d_t)\n",
    "    L_dashdash_ba2_d = get_L_dashdash_ba1_d(L_dashdash_ba2_d_t)\n",
    "    L_dashdash_d = get_L_dashdash_d(L_dashdash_d_t)\n",
    "\n",
    "    L_HP = get_L_HP_d(\n",
    "        Theta_ex_min_HP=spec['Theta_ex_min_HP'],\n",
    "        a_HP=spec['a_HP'],\n",
    "        b_HP=spec['b_HP'],\n",
    "        etr_loss_TU=spec['etr_loss_TU'],\n",
    "        Q_HP_max=spec['Q_HP_max'],\n",
    "        L_dashdash_d=L_dashdash_d,\n",
    "        Theta_ex_Ave_d=Theta_ex_Ave_d\n",
    "    )\n",
    "    L_BB_k_d = get_L_BB_k_d(L_HP, L_dashdash_d, L_dashdash_k_d)\n",
    "    L_BB_s_d = get_L_BB_s_d(L_HP, L_dashdash_d, L_dashdash_s_d)\n",
    "    L_BB_w_d = get_L_BB_w_d(L_HP, L_dashdash_d, L_dashdash_w_d)\n",
    "    L_BB_b1_d = get_L_BB_b1_d(L_HP, L_dashdash_d, L_dashdash_b1_d)\n",
    "    L_BB_b2_d = get_L_BB_b2_d(L_HP, L_dashdash_d, L_dashdash_b2_d)\n",
    "    L_BB_ba1_d = get_L_BB_ba1_d(L_HP, L_dashdash_d, L_dashdash_ba1_d)\n",
    "    L_BB_ba2_d = get_L_BB_ba2_d(L_dashdash_ba2_d)\n",
    "\n",
    "    L_BB_k_d_t = get_L_BB_k_d_t(L_BB_k_d, L_dashdash_k_d_t)\n",
    "    L_BB_s_d_t = get_L_BB_s_d_t(L_BB_s_d, L_dashdash_s_d_t)\n",
    "    L_BB_w_d_t = get_L_BB_w_d_t(L_BB_w_d, L_dashdash_w_d_t)\n",
    "    L_BB_b1_d_t = get_L_BB_b1_d_t(L_BB_b1_d, L_dashdash_b1_d_t)\n",
    "    L_BB_b2_d_t = get_L_BB_b2_d_t(L_BB_b2_d, L_dashdash_b2_d_t)\n",
    "    L_BB_ba1_d_t = get_L_BB_ba1_d_t(L_BB_ba1_d, L_dashdash_ba1_d_t)\n",
    "    L_BB_ba2_d_t = get_L_BB_ba2_d_t(L_dashdash_ba2_d_t)\n",
    "\n",
    "    # 日平均給湯機効率\n",
    "    e_BB_k_d = get_e_k_d(Theta_ex_Ave_d, L_BB_k_d, L_BB_w_d, f_hs)\n",
    "    e_BB_s_d = get_e_s_d(Theta_ex_Ave_d, L_BB_s_d, f_hs)\n",
    "    e_BB_w_d = get_e_w_d(Theta_ex_Ave_d, L_BB_k_d, L_BB_w_d, f_hs)\n",
    "\n",
    "    if bath_function == '給湯単機能':\n",
    "\n",
    "        # 日平均給湯機効率\n",
    "        e_BB_b1_d = get_e_b1_d(Theta_ex_Ave_d, L_BB_b1_d, f_hs)\n",
    "        e_BB_ba1_d = get_e_ba1_d(Theta_ex_Ave_d, L_BB_ba1_d, f_hs)\n",
    "\n",
    "        # (12a)\n",
    "        E_G_hs_d_t = L_BB_k_d_t / np.repeat(e_BB_k_d, 24) \\\n",
    "                     + L_BB_s_d_t / np.repeat(e_BB_s_d, 24) \\\n",
    "                     + L_BB_w_d_t / np.repeat(e_BB_w_d, 24) \\\n",
    "                     + L_BB_b1_d_t / np.repeat(e_BB_b1_d, 24) \\\n",
    "                     + L_BB_ba1_d_t / np.repeat(e_BB_ba1_d, 24)\n",
    "    elif bath_function == 'ふろ給湯機(追焚なし)':\n",
    "\n",
    "        # 日平均給湯機効率\n",
    "        e_BB_b2_d = get_e_b2_d(Theta_ex_Ave_d, L_BB_b2_d, f_hs)\n",
    "        e_BB_ba1_d = get_e_ba1_d(Theta_ex_Ave_d, L_BB_ba1_d, f_hs)\n",
    "\n",
    "        # (12b)\n",
    "        E_G_hs_d_t = L_BB_k_d_t / np.repeat(e_BB_k_d, 24) \\\n",
    "                     + L_BB_s_d_t / np.repeat(e_BB_s_d, 24) \\\n",
    "                     + L_BB_w_d_t / np.repeat(e_BB_w_d, 24) \\\n",
    "                     + L_BB_b2_d_t / np.repeat(e_BB_b2_d, 24) \\\n",
    "                     + L_BB_ba1_d_t / np.repeat(e_BB_ba1_d, 24)\n",
    "    elif bath_function == 'ふろ給湯機(追焚あり)':\n",
    "\n",
    "        # 日平均給湯機効率\n",
    "        e_BB_b2_d = get_e_b2_d(Theta_ex_Ave_d, L_BB_b2_d, f_hs)\n",
    "        e_BB_ba2_d = get_e_ba2_d(Theta_ex_Ave_d, L_BB_ba2_d, f_hs)\n",
    "\n",
    "        # (12c)\n",
    "        E_G_hs_d_t = L_BB_k_d_t / np.repeat(e_BB_k_d, 24) \\\n",
    "                     + L_BB_s_d_t / np.repeat(e_BB_s_d, 24) \\\n",
    "                     + L_BB_w_d_t / np.repeat(e_BB_w_d, 24) \\\n",
    "                     + L_BB_b2_d_t / np.repeat(e_BB_b2_d, 24) \\\n",
    "                     + L_BB_ba2_d_t / np.repeat(e_BB_ba2_d, 24)\n",
    "    else:\n",
    "        raise ValueError(bath_function)\n",
    "\n",
    "    return E_G_hs_d_t"
   ]
  },
  {
   "cell_type": "markdown",
   "metadata": {},
   "source": [
    "#### G.3.6 電気ヒートポンプの加熱量"
   ]
  },
  {
   "cell_type": "markdown",
   "metadata": {},
   "source": [
    "$$\\large\n",
    "Q_{HP,d} = \\frac{L_{HP,d}}{1 - \\eta_{loss,TU}}\n",
    "$$"
   ]
  },
  {
   "cell_type": "markdown",
   "metadata": {},
   "source": [
    "$L_{HP,d}$：日付$d$における1 日当たりの電気ヒートポンプが分担する給湯熱負荷(MJ/d)  \n",
    "$Q_{HP,d}$：日付$d$における1 日当たりの電気ヒートポンプの加熱量(MJ/d)  \n",
    "$\\eta_{loss,TU}$：年平均貯湯槽熱損失率(-)  "
   ]
  },
  {
   "cell_type": "code",
   "execution_count": null,
   "metadata": {},
   "outputs": [],
   "source": [
    "# 1日当たりの電気ヒートポンプの加熱量 (13)\n",
    "def get_Q_HP_d(L_HP_d, etr_loss_TU):\n",
    "    return L_HP_d / (1 - etr_loss_TU)"
   ]
  },
  {
   "cell_type": "markdown",
   "metadata": {},
   "source": [
    "#### G.3.7 電気ヒートポンプの日平均熱効率"
   ]
  },
  {
   "cell_type": "markdown",
   "metadata": {},
   "source": [
    "$$\\large\n",
    "e_{HP,d} = \\left\\{ \\begin{array}{ll}\n",
    "    e_{HPstd,2} - \\frac{2 - \\theta_{ex,Ave,d}}{9} (e_{HPstd,2} - e_{HPstd,-7}) &(\\theta_{ex,Ave,d}<2)\\\\ \n",
    "    e_{HPstd,7} - \\frac{7 - \\theta_{ex,Ave,d}}{5} (e_{HPstd,7} - e_{HPstd,2}) &(2 \\leq \\theta_{ex,Ave,d}<7)\\\\ \n",
    "    e_{HPstd,25} - \\frac{25 - \\theta_{ex,Ave,d}}{18} (e_{HPstd,25} - e_{HPstd,7}) &(7 \\leq \\theta_{ex,Ave,d}<25)\\\\ \n",
    "    e_{HPstd,25} &(\\theta_{ex,Ave,d} \\geq 25)\\\\ \n",
    "    \\end{array}\n",
    "\\right.\n",
    "$$"
   ]
  },
  {
   "cell_type": "markdown",
   "metadata": {},
   "source": [
    "$e_{HP,d}$：日付$d$における電気ヒートポンプの日平均熱効率(-)  \n",
    "$e_{HPstd,-7}$：外気温度-7℃におけるヒートポンプ基準加熱効率(-)  \n",
    "$e_{HPstd,2}$：外気温度2℃におけるヒートポンプ基準加熱効率(-)  \n",
    "$e_{HPstd,7}$：外気温度7℃におけるヒートポンプ基準加熱効率(-)  \n",
    "$e_{HPstd,25}$：外気温度25℃におけるヒートポンプ基準加熱効率(-)  \n",
    "$\\theta_{ex,Ave,d}$：日付$d$における日平均外気温度(℃)  "
   ]
  },
  {
   "cell_type": "code",
   "execution_count": null,
   "metadata": {},
   "outputs": [],
   "source": [
    "# 電気ヒートポンプの日平均熱効率 (14)\n",
    "def get_e_HP_d(e_HP_std_m7, e_HP_std_2, e_HP_std_7, e_HP_std_25, Theta_ex_Ave_d):\n",
    "    e_HP_d = np.zeros(365)\n",
    "\n",
    "    # 1) Theta_ex_Ave_d < 2\n",
    "    f1 = (Theta_ex_Ave_d < 2)\n",
    "    e_HP_d[f1] = e_HP_std_2 - (2 - Theta_ex_Ave_d[f1]) / 9 * (e_HP_std_2 - e_HP_std_m7)\n",
    "\n",
    "    # 2) 2 <= Theta_ex_Ave_d < 7\n",
    "    f2 = np.logical_and(2 <= Theta_ex_Ave_d, Theta_ex_Ave_d < 7)\n",
    "    e_HP_d[f2] = e_HP_std_7 - (7 - Theta_ex_Ave_d[f2]) / 5 * (e_HP_std_7 - e_HP_std_2)\n",
    "\n",
    "    # 3) 7 <= Theta_ex_Ave_d < 25\n",
    "    f3 = np.logical_and(7 <= Theta_ex_Ave_d, Theta_ex_Ave_d < 25)\n",
    "    e_HP_d[f3] = e_HP_std_25 - (25 - Theta_ex_Ave_d[f3]) / 18 * (e_HP_std_25 - e_HP_std_7)\n",
    "\n",
    "    # 4) 25 <= Theta_ex_Ave_d\n",
    "    f4 = 25 <= Theta_ex_Ave_d\n",
    "    e_HP_d[f4] = e_HP_std_25\n",
    "\n",
    "    return e_HP_d"
   ]
  },
  {
   "cell_type": "markdown",
   "metadata": {},
   "source": [
    "#### G.3.8 給湯熱負荷"
   ]
  },
  {
   "cell_type": "markdown",
   "metadata": {},
   "source": [
    "$$\\large\n",
    "\\displaystyle\n",
    "L_{BB,k,d,t} = \\left\\{ \\begin{array}{ll}\n",
    "    L_{BB,k,d} \\times \\frac{L''_{k,d,t}}{L''_{k,d}} & (L''_{k,d} > 0)\\\\ \n",
    "    0 & (L''_{k,d} = 0)\\\\ \n",
    "    \\end{array}\n",
    "\\right.\n",
    "$$\n",
    "\n",
    "$$\\large\n",
    "\\displaystyle\n",
    "L_{BB,s,d,t} = \\left\\{ \\begin{array}{ll}\n",
    "    L_{BB,s,d} \\times \\frac{L''_{s,d,t}}{L''_{s,d}} & (L''_{s,d} > 0)\\\\ \n",
    "    0 & (L''_{s,d} = 0)\\\\ \n",
    "    \\end{array}\n",
    "\\right.\n",
    "$$\n",
    "\n",
    "$$\\large\n",
    "\\displaystyle\n",
    "L_{BB,w,d,t} = \\left\\{ \\begin{array}{ll}\n",
    "    L_{BB,w,d} \\times \\frac{L''_{w,d,t}}{L''_{w,d}} & (L''_{w,d} > 0)\\\\ \n",
    "    0 & (L''_{w,d} = 0)\\\\ \n",
    "    \\end{array}\n",
    "\\right.\n",
    "$$\n",
    "\n",
    "$$\\large\n",
    "\\displaystyle\n",
    "L_{BB,b1,d,t} = \\left\\{ \\begin{array}{ll}\n",
    "    L_{BB,b1,d} \\times \\frac{L''_{b1,d,t}}{L''_{b1,d}} & (L''_{b1,d} > 0)\\\\ \n",
    "    0 & (L''_{b1,d} = 0)\\\\ \n",
    "    \\end{array}\n",
    "\\right.\n",
    "$$\n",
    "\n",
    "$$\\large\n",
    "\\displaystyle\n",
    "L_{BB,b2,d,t} = \\left\\{ \\begin{array}{ll}\n",
    "    L_{BB,b2,d} \\times \\frac{L''_{b2,d,t}}{L''_{b2,d}} & (L''_{b2,d} > 0)\\\\ \n",
    "    0 & (L''_{b2,d} = 0)\\\\ \n",
    "    \\end{array}\n",
    "\\right.\n",
    "$$\n",
    "\n",
    "$$\\large\n",
    "\\displaystyle\n",
    "L_{BB,ba1,d,t} = \\left\\{ \\begin{array}{ll}\n",
    "    L_{BB,ba1,d} \\times \\frac{L''_{ba1,d,t}}{L''_{ba1,d}} & (L''_{ba1,d} > 0)\\\\ \n",
    "    0 & (L''_{ba1,d} = 0)\\\\ \n",
    "    \\end{array}\n",
    "\\right.\n",
    "$$\n",
    "\n",
    "$$\\large\n",
    "\\displaystyle\n",
    "L_{BB,ba2,d,t} = L''_{ba2,d,t}\n",
    "$$"
   ]
  },
  {
   "cell_type": "markdown",
   "metadata": {},
   "source": [
    "$ L_{BB,k,d} $：日付$d$における1日当たりの台所水栓におけるバックアップボイラーが分担する給湯熱負荷(MJ/d)  \n",
    "$ L_{BB,s,d} $：日付$d$における1日当たりの浴室シャワー水栓におけるバックアップボイラーが分担する給湯熱負荷(MJ/d)  \n",
    "$ L_{BB,w,d} $：日付$d$における1日当たりの洗面水栓におけるバックアップボイラーが分担する給湯熱負荷(MJ/d)  \n",
    "$ L_{BB,b1,d} $：日付$d$における1日当たりの浴槽水栓湯はり時におけるバックアップボイラーが分担する給湯熱負荷(MJ/d)  \n",
    "$ L_{BB,b2,d} $：日付$d$における1日当たりの浴槽自動湯はり時におけるバックアップボイラーが分担する給湯熱負荷(MJ/d)  \n",
    "$ L_{BB,ba1,d} $：日付$d$における1日当たりの浴槽水栓さし湯時におけるバックアップボイラーが分担する給湯熱負荷(MJ/d)  \n",
    "$ L_{BB,ba2,d} $：日付$d$における1日当たりの浴槽追焚時におけるバックアップボイラーが分担する給湯熱負荷(MJ/d)  \n",
    "$ L_{BB,k,d,t} $：日付$d$の時刻$t$における1時間当たりの台所水栓におけるバックアップボイラーが分担する給湯熱負荷(MJ/h)  \n",
    "$ L_{BB,s,d,t} $：日付$d$の時刻$t$における1時間当たりの浴室シャワー水栓におけるバックアップボイラーが分担する給湯熱負荷(MJ/h)  \n",
    "$ L_{BB,w,d,t} $：日付$d$の時刻$t$における1時間当たりの洗面水栓におけるバックアップボイラーが分担する給湯熱負荷(MJ/h)  \n",
    "$ L_{BB,b1,d,t} $：日付$d$の時刻$t$における1時間当たりの浴槽水栓湯はり時におけるバックアップボイラーが分担する給湯熱負荷(MJ/h)  \n",
    "$ L_{BB,b2,d,t} $：日付$d$の時刻$t$における1時間当たりの浴槽自動湯はり時におけるバックアップボイラーが分担する給湯熱負荷(MJ/h)  \n",
    "$ L_{BB,ba1,d,t} $：日付$d$の時刻$t$における1時間当たりの浴槽水栓さし湯時におけるバックアップボイラーが分担する給湯熱負荷(MJ/h)  \n",
    "$ L_{BB,ba2,d,t} $：日付$d$の時刻$t$における1時間当たりの浴槽追焚時におけるバックアップボイラーが分担する給湯熱負荷(MJ/h)  \n",
    "$L''_{d}$：日付$d$における1 日当たりの太陽熱補正給湯熱負荷(MJ/d)  \n",
    "$ L''_{k,d} $：日付$d$における1 日当たりの台所水栓における太陽熱補正給湯熱負荷(MJ/d)  \n",
    "$ L''_{s,d} $：日付$d$における1 日当たりの浴室シャワー水栓における太陽熱補正給湯熱負荷(MJ/d)  \n",
    "$ L''_{w,d} $：日付$d$における1 日当たりの洗面水栓における太陽熱補正給湯熱負荷(MJ/d)  \n",
    "$ L''_{b1,d} $：日付$d$における1 日当たりの浴槽水栓湯はり時における太陽熱補正給湯熱負荷(MJ/d)  \n",
    "$ L''_{b2,d} $：日付$d$における1 日当たりの浴槽自動湯はり時における太陽熱補正給湯熱負荷(MJ/d)  \n",
    "$ L''_{ba1,d} $：日付$d$における1 日当たりの浴槽水栓さし湯時における太陽熱補正給湯熱負荷(MJ/d)  \n",
    "$ L''_{ba2,d} $：日付$d$における1 日当たりの浴槽追焚時における太陽熱補正給湯熱負荷(MJ/d)  \n",
    "$L''_{d,t}$：日付$d$の時刻$t$における1時間当たりの太陽熱補正給湯熱負荷(MJ/h)  \n",
    "$ L''_{k,d,t} $：日付$d$の時刻$t$における 1時間当たりの台所水栓における太陽熱補正給湯熱負荷(MJ/h)  \n",
    "$ L''_{s,d,t} $：日付$d$の時刻$t$における 1時間当たりの浴室シャワー水栓における太陽熱補正給湯熱負荷(MJ/h)  \n",
    "$ L''_{w,d,t} $：日付$d$の時刻$t$における 1時間当たりの洗面水栓における太陽熱補正給湯熱負荷(MJ/h)  \n",
    "$ L''_{b1,d,t} $：日付$d$の時刻$t$における 1時間当たりの浴槽水栓湯はり時における太陽熱補正給湯熱負荷(MJ/h)  \n",
    "$ L''_{b2,d,t} $：日付$d$の時刻$t$における 1時間当たりの浴槽自動湯はり時における太陽熱補正給湯熱負荷(MJ/h)  \n",
    "$ L''_{ba1,d,t} $：日付$d$の時刻$t$における 1時間当たりの浴槽水栓さし湯時における太陽熱補正給湯熱負荷(MJ/h)  \n",
    "$ L''_{ba2,d,t} $：日付$d$の時刻$t$における 1時間当たりの浴槽追焚時における太陽熱補正給湯熱負荷(MJ/h)  "
   ]
  },
  {
   "cell_type": "code",
   "execution_count": null,
   "metadata": {},
   "outputs": [],
   "source": [
    "# バックアップボイラーが分担する給湯熱負荷\n",
    "\n",
    "# (15a)\n",
    "def get_L_BB_k_d_t(L_BB_k_d, L_dashdash_k_d_t):\n",
    "    L_BB_k_d_t = np.zeros(24 * 365)\n",
    "\n",
    "    L_BB_k_d = np.repeat(L_BB_k_d, 24)\n",
    "    L_dashdash_k_d = np.repeat(get_L_dashdash_k_d(L_dashdash_k_d_t), 24)\n",
    "\n",
    "    f = L_dashdash_k_d > 0\n",
    "    L_BB_k_d_t[f] = L_BB_k_d[f] * L_dashdash_k_d_t[f] / L_dashdash_k_d[f]\n",
    "\n",
    "    return L_BB_k_d_t\n",
    "\n",
    "\n",
    "# (15b)\n",
    "def get_L_BB_s_d_t(L_BB_s_d, L_dashdash_s_d_t):\n",
    "    L_BB_s_d_t = np.zeros(24 * 365)\n",
    "\n",
    "    L_BB_s_d = np.repeat(L_BB_s_d, 24)\n",
    "    L_dashdash_s_d = np.repeat(get_L_dashdash_s_d(L_dashdash_s_d_t), 24)\n",
    "\n",
    "    f = L_dashdash_s_d > 0\n",
    "    L_BB_s_d_t[f] = L_BB_s_d[f] * L_dashdash_s_d_t[f] / L_dashdash_s_d[f]\n",
    "\n",
    "    return L_BB_s_d_t\n",
    "\n",
    "\n",
    "# (15c)\n",
    "def get_L_BB_w_d_t(L_BB_w_d, L_dashdash_w_d_t):\n",
    "    L_BB_w_d_t = np.zeros(24 * 365)\n",
    "\n",
    "    L_BB_w_d = np.repeat(L_BB_w_d, 24)\n",
    "    L_dashdash_w_d = np.repeat(get_L_dashdash_w_d(L_dashdash_w_d_t), 24)\n",
    "\n",
    "    f = L_dashdash_w_d > 0\n",
    "    L_BB_w_d_t[f] = L_BB_w_d[f] * L_dashdash_w_d_t[f] / L_dashdash_w_d[f]\n",
    "\n",
    "    return L_BB_w_d_t\n",
    "\n",
    "\n",
    "# (15d)\n",
    "def get_L_BB_b1_d_t(L_BB_b1_d, L_dashdash_b1_d_t):\n",
    "    L_BB_b1_d_t = np.zeros(24 * 365)\n",
    "\n",
    "    L_BB_b1_d = np.repeat(L_BB_b1_d, 24)\n",
    "    L_dashdash_b1_d = np.repeat(get_L_dashdash_b1_d(L_dashdash_b1_d_t), 24)\n",
    "\n",
    "    f = L_dashdash_b1_d > 0\n",
    "    L_BB_b1_d_t[f] = L_BB_b1_d[f] * L_dashdash_b1_d_t[f] / L_dashdash_b1_d[f]\n",
    "\n",
    "    return L_BB_b1_d_t\n",
    "\n",
    "\n",
    "# (15e)\n",
    "def get_L_BB_b2_d_t(L_BB_b2_d, L_dashdash_b2_d_t):\n",
    "    L_BB_b2_d_t = np.zeros(24 * 365)\n",
    "\n",
    "    L_BB_b2_d = np.repeat(L_BB_b2_d, 24)\n",
    "    L_dashdash_b2_d = np.repeat(get_L_dashdash_b2_d(L_dashdash_b2_d_t), 24)\n",
    "\n",
    "    f = L_dashdash_b2_d > 0\n",
    "    L_BB_b2_d_t[f] = L_BB_b2_d[f] * L_dashdash_b2_d_t[f] / L_dashdash_b2_d[f]\n",
    "\n",
    "    return L_BB_b2_d_t\n",
    "\n",
    "\n",
    "# (15f)\n",
    "def get_L_BB_ba1_d_t(L_BB_ba1_d, L_dashdash_ba1_d_t):\n",
    "    L_BB_ba1_d_t = np.zeros(24 * 365)\n",
    "\n",
    "    L_BB_ba1_d = np.repeat(L_BB_ba1_d, 24)\n",
    "    L_dashdash_ba1_d = np.repeat(get_L_dashdash_ba1_d(L_dashdash_ba1_d_t), 24)\n",
    "\n",
    "    f = L_dashdash_ba1_d > 0\n",
    "    L_BB_ba1_d_t[f] = L_BB_ba1_d[f] * L_dashdash_ba1_d_t[f] / L_dashdash_ba1_d[f]\n",
    "\n",
    "    return L_BB_ba1_d_t\n",
    "\n",
    "\n",
    "# (15g)\n",
    "def get_L_BB_ba2_d_t(L_dashdash_ba2_d_t):\n",
    "    return L_dashdash_ba2_d_t"
   ]
  },
  {
   "cell_type": "markdown",
   "metadata": {},
   "source": [
    "$$\\large\n",
    "\\displaystyle\n",
    "L_{BB,k,d} = L''_{k,d} - L_{HP,d} \\times \\frac{L''_{k,d}}{L''_{d}}\n",
    "$$\n",
    "\n",
    "$$\\large\n",
    "\\displaystyle\n",
    "L_{BB,s,d} = L''_{s,d} - L_{HP,d} \\times \\frac{L''_{s,d}}{L''_{d}}\n",
    "$$\n",
    "\n",
    "$$\\large\n",
    "\\displaystyle\n",
    "L_{BB,w,d} = L''_{w,d} - L_{HP,d} \\times \\frac{L''_{w,d}}{L''_{d}}\n",
    "$$\n",
    "\n",
    "$$\\large\n",
    "\\displaystyle\n",
    "L_{BB,b1,d} = L''_{b1,d} - L_{HP,d} \\times \\frac{L''_{b1,d}}{L''_{d}}\n",
    "$$\n",
    "\n",
    "$$\\large\n",
    "\\displaystyle\n",
    "L_{BB,b2,d} = L''_{b2,d} - L_{HP,d} \\times \\frac{L''_{b2,d}}{L''_{d}}\n",
    "$$\n",
    "\n",
    "$$\\large\n",
    "\\displaystyle\n",
    "L_{BB,ba1,d} = L''_{ba1,d} - L_{HP,d} \\times \\frac{L''_{ba1,d}}{L''_{d}}\n",
    "$$\n",
    "\n",
    "$$\\large\n",
    "\\displaystyle\n",
    "L_{BB,ba2,d} = L''_{ba2,d}\n",
    "$$"
   ]
  },
  {
   "cell_type": "markdown",
   "metadata": {},
   "source": [
    "$ L_{BB,k,d} $：日付$d$における1日当たりの台所水栓におけるバックアップボイラーが分担する給湯熱負荷(MJ/d)  \n",
    "$ L_{BB,s,d} $：日付$d$における1日当たりの浴室シャワー水栓におけるバックアップボイラーが分担する給湯熱負荷(MJ/d)  \n",
    "$ L_{BB,w,d} $：日付$d$における1日当たりの洗面水栓におけるバックアップボイラーが分担する給湯熱負荷(MJ/d)  \n",
    "$ L_{BB,b1,d} $：日付$d$における1日当たりの浴槽水栓湯はり時におけるバックアップボイラーが分担する給湯熱負荷(MJ/d)  \n",
    "$ L_{BB,b2,d} $：日付$d$における1日当たりの浴槽自動湯はり時におけるバックアップボイラーが分担する給湯熱負荷(MJ/d)  \n",
    "$ L_{BB,ba1,d} $：日付$d$における1日当たりの浴槽水栓さし湯時におけるバックアップボイラーが分担する給湯熱負荷(MJ/d)  \n",
    "$ L_{BB,ba2,d} $：日付$d$における1日当たりの浴槽追焚時におけるバックアップボイラーが分担する給湯熱負荷(MJ/d)  \n",
    "$L''_{d}$：日付$d$における1 日当たりの太陽熱補正給湯熱負荷(MJ/d)  \n",
    "$ L''_{k,d} $：日付$d$における1 日当たりの台所水栓における太陽熱補正給湯熱負荷(MJ/d)  \n",
    "$ L''_{s,d} $：日付$d$における1 日当たりの浴室シャワー水栓における太陽熱補正給湯熱負荷(MJ/d)  \n",
    "$ L''_{w,d} $：日付$d$における1 日当たりの洗面水栓における太陽熱補正給湯熱負荷(MJ/d)  \n",
    "$ L''_{b1,d} $：日付$d$における1 日当たりの浴槽水栓湯はり時における太陽熱補正給湯熱負荷(MJ/d)  \n",
    "$ L''_{b2,d} $：日付$d$における1 日当たりの浴槽自動湯はり時における太陽熱補正給湯熱負荷(MJ/d)  \n",
    "$ L''_{ba1,d} $：日付$d$における1 日当たりの浴槽水栓さし湯時における太陽熱補正給湯熱負荷(MJ/d)  \n",
    "$ L''_{ba2,d} $：日付$d$における1 日当たりの浴槽追焚時における太陽熱補正給湯熱負荷(MJ/d)  \n",
    "$ L_{HP,d} $：日付$d$における1 日当たりの電気ヒートポンプが分担する給湯熱負荷(MJ/d)  "
   ]
  },
  {
   "cell_type": "code",
   "execution_count": null,
   "metadata": {},
   "outputs": [],
   "source": [
    "# (16a)\n",
    "def get_L_BB_k_d(L_HP_d, L_dashdash_d, L_dashdash_k_d):\n",
    "    return L_dashdash_k_d - L_HP_d * (L_dashdash_k_d / L_dashdash_d)\n",
    "\n",
    "\n",
    "# (16b)\n",
    "def get_L_BB_s_d(L_HP_d, L_dashdash_d, L_dashdash_s_d):\n",
    "    return L_dashdash_s_d - L_HP_d * (L_dashdash_s_d / L_dashdash_d)\n",
    "\n",
    "\n",
    "# (16c)\n",
    "def get_L_BB_w_d(L_HP_d, L_dashdash_d, L_dashdash_w_d):\n",
    "    return L_dashdash_w_d - L_HP_d * (L_dashdash_w_d / L_dashdash_d)\n",
    "\n",
    "\n",
    "# (16d)\n",
    "def get_L_BB_b1_d(L_HP_d, L_dashdash_d, L_dashdash_b1_d):\n",
    "    return L_dashdash_b1_d - L_HP_d * (L_dashdash_b1_d / L_dashdash_d)\n",
    "\n",
    "\n",
    "# (16e)\n",
    "def get_L_BB_b2_d(L_HP_d, L_dashdash_d, L_dashdash_b2_d):\n",
    "    return L_dashdash_b2_d - L_HP_d * (L_dashdash_b2_d / L_dashdash_d)\n",
    "\n",
    "\n",
    "# (16f)\n",
    "def get_L_BB_ba1_d(L_HP_d, L_dashdash_d, L_dashdash_ba1_d):\n",
    "    return L_dashdash_ba1_d - L_HP_d * (L_dashdash_ba1_d / L_dashdash_d)\n",
    "\n",
    "\n",
    "# (16g)\n",
    "def get_L_BB_ba2_d(L_dashdash_ba2_d):\n",
    "    return L_dashdash_ba2_d"
   ]
  },
  {
   "cell_type": "markdown",
   "metadata": {},
   "source": [
    "$\\theta_{ex,Ave,d} \\geq \\theta_{ex,min,HP}$ の場合"
   ]
  },
  {
   "cell_type": "markdown",
   "metadata": {},
   "source": [
    "$$\\large\n",
    "L_{HP,d} = min \\big((a_{HP} \\times L''_{d} + b_{HP}) \\times (1 - \\eta_{loss,TU}) , L''_{d}, Q_{HP,max} \\times (1 - \\eta_{loss,TU}) \\big)\n",
    "$$"
   ]
  },
  {
   "cell_type": "markdown",
   "metadata": {},
   "source": [
    "$\\theta_{ex,Ave,d} < \\theta_{ex,min,HP}$ の場合"
   ]
  },
  {
   "cell_type": "markdown",
   "metadata": {},
   "source": [
    "$$\\large\n",
    "L_{HP,d} = 0\n",
    "$$"
   ]
  },
  {
   "cell_type": "markdown",
   "metadata": {},
   "source": [
    "$L''_{d}$：日付$d$における1 日当たりの太陽熱補正給湯熱負荷(MJ/d)  \n",
    "$Q_{HP,max}$：最大ヒートポンプ加熱量(MJ/d)  \n",
    "$\\eta_{loss,TU}$：年平均貯湯槽熱損失率(-)  \n",
    "$\\theta_{ex,Ave,d}$：日付$d$における日平均外気温度(℃)  \n",
    "$\\theta_{ex,min,HP}$：ヒートポンプ運転下限外気温(℃)  \n",
    "$a_{HP}, b_{HP}$：係数(-)  "
   ]
  },
  {
   "cell_type": "code",
   "execution_count": null,
   "metadata": {},
   "outputs": [],
   "source": [
    "# 1日当たりの電気ヒートポンプが分担する給湯熱負荷 (17)\n",
    "def get_L_HP_d(Theta_ex_min_HP, a_HP, b_HP, etr_loss_TU, Q_HP_max, L_dashdash_d, Theta_ex_Ave_d):\n",
    "    L_HP_d = np.zeros(365)\n",
    "\n",
    "    # 1. Theta_ex_Ave_d >= Theta_ex_min_HP (17a)\n",
    "    f1 = (Theta_ex_Ave_d >= Theta_ex_min_HP)\n",
    "    L_HP_d[f1] = np.clip(\n",
    "        (a_HP * L_dashdash_d[f1] + b_HP) * (1 - etr_loss_TU),\n",
    "        None,\n",
    "        np.clip(L_dashdash_d[f1], None, Q_HP_max * (1 - etr_loss_TU))\n",
    "    )\n",
    "\n",
    "    # 2. Theta_ex_Ave_d < Theta_ex_min_HP (17b)\n",
    "    f2 = (Theta_ex_Ave_d < Theta_ex_min_HP)\n",
    "    L_HP_d[f2] = 0\n",
    "\n",
    "    return L_HP_d"
   ]
  },
  {
   "cell_type": "markdown",
   "metadata": {},
   "source": [
    "### G.4 １日当たりの太陽熱補正給湯熱負荷及び1時間当たりの太陽熱補正給湯熱負荷"
   ]
  },
  {
   "cell_type": "markdown",
   "metadata": {},
   "source": [
    "$$\\large\n",
    "\\displaystyle\n",
    "L''_{d} = \\sum_{t=0}^{23} L''_{d,t}\n",
    "$$"
   ]
  },
  {
   "cell_type": "markdown",
   "metadata": {},
   "source": [
    "$L''_{d}$：日付$d$における1 日当たりの太陽熱補正給湯熱負荷(MJ/d)  \n",
    "$L''_{d,t}$：日付$d$の時刻$t$における1時間当たりの太陽熱補正給湯熱負荷(MJ/h)  "
   ]
  },
  {
   "cell_type": "code",
   "execution_count": null,
   "metadata": {},
   "outputs": [],
   "source": [
    "# 1日当たりの太陽熱補正給湯熱負荷 (MJ/d) (18)\n",
    "def get_L_dashdash_d(L_dashdash_d_t):\n",
    "    \"\"\"\n",
    "    :param L_dashdash_d_t: 1時間当たりの太陽熱補正給湯熱負荷 (MJ/h)\n",
    "    :return: 1日当たりの太陽熱補正給湯熱負荷 (MJ/d)\n",
    "    \"\"\"\n",
    "    return np.sum(L_dashdash_d_t.reshape(365, 24), axis=1)"
   ]
  },
  {
   "cell_type": "markdown",
   "metadata": {},
   "source": [
    "$$\\large\n",
    "\\displaystyle\n",
    "L''_{d,t} = L''_{k,d,t}+L''_{s,d,t}+L''_{w,d,t}+L''_{b1,d,t}+L''_{b2,d,t}+L''_{ba1,d,t}\n",
    "$$"
   ]
  },
  {
   "cell_type": "markdown",
   "metadata": {},
   "source": [
    "$L''_{d,t}$：日付$d$の時刻$t$における1時間当たりの太陽熱補正給湯熱負荷(MJ/h)  \n",
    "$ L''_{k,d,t} $：日付$d$の時刻$t$における 1時間当たりの台所水栓における太陽熱補正給湯熱負荷(MJ/h)  \n",
    "$ L''_{s,d,t} $：日付$d$の時刻$t$における 1時間当たりの浴室シャワー水栓における太陽熱補正給湯熱負荷(MJ/h)  \n",
    "$ L''_{w,d,t} $：日付$d$の時刻$t$における 1時間当たりの洗面水栓における太陽熱補正給湯熱負荷(MJ/h)  \n",
    "$ L''_{b1,d,t} $：日付$d$の時刻$t$における 1時間当たりの浴槽水栓湯はり時における太陽熱補正給湯熱負荷(MJ/h)  \n",
    "$ L''_{b2,d,t} $：日付$d$の時刻$t$における 1時間当たりの浴槽自動湯はり時における太陽熱補正給湯熱負荷(MJ/h)  \n",
    "$ L''_{ba1,d,t} $：日付$d$の時刻$t$における 1時間当たりの浴槽水栓さし湯時における太陽熱補正給湯熱負荷(MJ/h)  "
   ]
  },
  {
   "cell_type": "code",
   "execution_count": null,
   "metadata": {},
   "outputs": [],
   "source": [
    "# 1時間当たりの太陽熱補正給湯熱負荷 (MJ/h) (19)\n",
    "def get_L_dashdash_d_t(L_dashdash_k_d_t, L_dashdash_s_d_t, L_dashdash_w_d_t, L_dashdash_b1_d_t, L_dashdash_b2_d_t,\n",
    "                       L_dashdash_ba1_d_t):\n",
    "    \"\"\"\n",
    "    :param L_dashdash_k_d_t: 1時間当たりの台所水栓における太陽熱補正給湯熱負荷 (MJ/h)\n",
    "    :param L_dashdash_s_d_t: 1時間当たりの浴室シャワー水栓における太陽熱補正給湯負荷 (MJ/h)\n",
    "    :param L_dashdash_w_d_t: 1時間当たりの洗面水栓における太陽熱補正給湯負荷 (MJ/h)\n",
    "    :param L_dashdash_b1_d_t: 1時間当たりの浴槽水栓湯はり時における太陽熱補正給湯負荷 (MJ/h)\n",
    "    :param L_dashdash_b2_d_t: 1時間当たりの浴槽自動湯はり時における太陽熱補正給湯負荷 (MJ/h)\n",
    "    :param L_dashdash_ba1_d_t: 1時間当たりの浴槽水栓さし湯時における太陽熱補正給湯負荷 (MJ/h)\n",
    "    :return: 1時間当たりの太陽熱補正給湯熱負荷 (MJ/h)\n",
    "    \"\"\"\n",
    "    return L_dashdash_k_d_t \\\n",
    "           + L_dashdash_s_d_t \\\n",
    "           + L_dashdash_w_d_t \\\n",
    "           + L_dashdash_b1_d_t \\\n",
    "           + L_dashdash_b2_d_t \\\n",
    "           + L_dashdash_ba1_d_t"
   ]
  },
  {
   "cell_type": "markdown",
   "metadata": {},
   "source": [
    "$$\\large\n",
    "\\displaystyle\n",
    "L''_{k,d} = \\sum_{t=0}^{23} L''_{k,d,t}\n",
    "$$\n",
    "\n",
    "$$\\large\n",
    "\\displaystyle\n",
    "L''_{s,d} = \\sum_{t=0}^{23} L''_{s,d,t}\n",
    "$$\n",
    "\n",
    "$$\\large\n",
    "\\displaystyle\n",
    "L''_{w,d} = \\sum_{t=0}^{23} L''_{w,d,t}\n",
    "$$\n",
    "\n",
    "$$\\large\n",
    "\\displaystyle\n",
    "L''_{b1,d} = \\sum_{t=0}^{23} L''_{b1,d,t}\n",
    "$$\n",
    "\n",
    "$$\\large\n",
    "\\displaystyle\n",
    "L''_{b2,d} = \\sum_{t=0}^{23} L''_{b2,d,t}\n",
    "$$\n",
    "\n",
    "$$\\large\n",
    "\\displaystyle\n",
    "L''_{ba1,d} = \\sum_{t=0}^{23} L''_{ba1,d,t}\n",
    "$$\n",
    "\n",
    "$$\\large\n",
    "\\displaystyle\n",
    "L''_{ba2,d} = \\sum_{t=0}^{23} L''_{ba2,d,t}\n",
    "$$\n"
   ]
  },
  {
   "cell_type": "markdown",
   "metadata": {},
   "source": [
    "$ L''_{k,d} $：日付$d$における1 日当たりの台所水栓における太陽熱補正給湯熱負荷(MJ/d)  \n",
    "$ L''_{s,d} $：日付$d$における1 日当たりの浴室シャワー水栓における太陽熱補正給湯熱負荷(MJ/d)  \n",
    "$ L''_{w,d} $：日付$d$における1 日当たりの洗面水栓における太陽熱補正給湯熱負荷(MJ/d)  \n",
    "$ L''_{b1,d} $：日付$d$における1 日当たりの浴槽水栓湯はり時における太陽熱補正給湯熱負荷(MJ/d)  \n",
    "$ L''_{b2,d} $：日付$d$における1 日当たりの浴槽自動湯はり時における太陽熱補正給湯熱負荷(MJ/d)  \n",
    "$ L''_{ba1,d} $：日付$d$における1 日当たりの浴槽水栓さし湯時における太陽熱補正給湯熱負荷(MJ/d)  \n",
    "$ L''_{ba2,d} $：日付$d$における1 日当たりの浴槽追焚時における太陽熱補正給湯熱負荷(MJ/d)  \n",
    "$ L''_{k,d,t} $：日付$d$の時刻$t$における 1時間当たりの台所水栓における太陽熱補正給湯熱負荷(MJ/h)  \n",
    "$ L''_{s,d,t} $：日付$d$の時刻$t$における 1時間当たりの浴室シャワー水栓における太陽熱補正給湯熱負荷(MJ/h)  \n",
    "$ L''_{w,d,t} $：日付$d$の時刻$t$における 1時間当たりの洗面水栓における太陽熱補正給湯熱負荷(MJ/h)  \n",
    "$ L''_{b1,d,t} $：日付$d$の時刻$t$における 1時間当たりの浴槽水栓湯はり時における太陽熱補正給湯熱負荷(MJ/h)  \n",
    "$ L''_{b2,d,t} $：日付$d$の時刻$t$における 1時間当たりの浴槽自動湯はり時における太陽熱補正給湯熱負荷(MJ/h)  \n",
    "$ L''_{ba1,d,t} $：日付$d$の時刻$t$における 1時間当たりの浴槽水栓さし湯時における太陽熱補正給湯熱負荷(MJ/h)  \n",
    "$ L''_{ba2,d,t} $：日付$d$の時刻$t$における 1時間当たりの浴槽追焚時における太陽熱補正給湯熱負荷(MJ/h)  "
   ]
  },
  {
   "cell_type": "code",
   "execution_count": null,
   "metadata": {},
   "outputs": [],
   "source": [
    "# 1日当たりの台所水栓における太陽熱補正給湯熱負荷 (MJ/d)\n",
    "def get_L_dashdash_k_d(L_dashdash_k_d_t):\n",
    "    \"\"\"\n",
    "    :param L_dashdash_k_d_t: 1時間当たりの台所水栓における太陽熱補正給湯熱負荷 (MJ/h)\n",
    "    :return: 1日当たりの台所水栓における太陽熱補正給湯熱負荷 (MJ/d)\n",
    "    \"\"\"\n",
    "    return np.sum(L_dashdash_k_d_t.reshape((365, 24)), axis=1)\n",
    "\n",
    "\n",
    "# 1日当たりの浴室シャワー水栓における太陽熱補正給湯負荷 (MJ/d)\n",
    "def get_L_dashdash_s_d(L_dashdash_s_d_t):\n",
    "    \"\"\"\n",
    "    :param L_dashdash_s_d_t: 1時間当たりの浴室シャワー水栓における太陽熱補正給湯負荷 (MJ/h)\n",
    "    :return: 1日当たりの浴室シャワー水栓における太陽熱補正給湯負荷 (MJ/d)\n",
    "    \"\"\"\n",
    "    return np.sum(L_dashdash_s_d_t.reshape((365, 24)), axis=1)\n",
    "\n",
    "\n",
    "# 1日当たりの洗面水栓における太陽熱補正給湯負荷 (MJ/d)\n",
    "def get_L_dashdash_w_d(L_dashdash_w_d_t):\n",
    "    \"\"\"\n",
    "    :param L_dashdash_w_d_t: 1時間当たりの洗面水栓における太陽熱補正給湯負荷 (MJ/h)\n",
    "    :return: 1日当たりの洗面水栓における太陽熱補正給湯負荷 (MJ/d)\n",
    "    \"\"\"\n",
    "    return np.sum(L_dashdash_w_d_t.reshape((365, 24)), axis=1)\n",
    "\n",
    "\n",
    "# 1日当たりの浴槽水栓湯はり時における太陽熱補正給湯負荷 (MJ/d)\n",
    "def get_L_dashdash_b1_d(L_dashdash_b1_d_t):\n",
    "    \"\"\"\n",
    "    :param L_dashdash_b1_d_t: 1時間当たりの浴槽水栓湯はり時における太陽熱補正給湯負荷 (MJ/h)\n",
    "    :return: 1日当たりの浴槽水栓湯はり時における太陽熱補正給湯負荷 (MJ/d)\n",
    "    \"\"\"\n",
    "    return np.sum(L_dashdash_b1_d_t.reshape((365, 24)), axis=1)\n",
    "\n",
    "\n",
    "# 1日当たりの浴槽自動湯はり時における太陽熱補正給湯負荷 (MJ/d)\n",
    "def get_L_dashdash_b2_d(L_dashdash_b2_d_t):\n",
    "    \"\"\"\n",
    "    :param L_dashdash_b2_d_t: 1時間当たりの浴槽自動湯はり時における太陽熱補正給湯負荷 (MJ/h)\n",
    "    :return: 1日当たりの浴槽自動湯はり時における太陽熱補正給湯負荷 (MJ/d)\n",
    "    \"\"\"\n",
    "    return np.sum(L_dashdash_b2_d_t.reshape((365, 24)), axis=1)\n",
    "\n",
    "\n",
    "# 1日当たりの浴槽水栓さし湯時における太陽熱補正給湯負荷 (MJ/d)\n",
    "def get_L_dashdash_ba1_d(L_dashdash_ba1_d_t):\n",
    "    \"\"\"\n",
    "    :param L_dashdash_ba1_d_t: 1時間当たりの浴槽水栓さし湯時における太陽熱補正給湯負荷 (MJ/h)\n",
    "    :return: 1日当たりの浴槽水栓さし湯時における太陽熱補正給湯負荷 (MJ/d)\n",
    "    \"\"\"\n",
    "    return np.sum(L_dashdash_ba1_d_t.reshape((365, 24)), axis=1)\n",
    "\n",
    "\n",
    "# 1日当たりの浴槽追焚時における太陽熱補正給湯負荷 (MJ/d)\n",
    "def get_L_dashdash_ba2_d(L_dashdash_ba2_d_t):\n",
    "    \"\"\"\n",
    "    :param L_dashdash_ba2_d_t: 1時間当たりの浴槽追焚時における太陽熱補正給湯負荷 (MJ/h)\n",
    "    :return: 1日当たりの浴槽追焚時における太陽熱補正給湯負荷 (MJ/d)\n",
    "    \"\"\"\n",
    "    return np.sum(L_dashdash_ba2_d_t.reshape((365, 24)), axis=1)"
   ]
  }
 ],
 "metadata": {
  "kernelspec": {
   "display_name": "Python 3",
   "language": "python",
   "name": "python3"
  },
  "language_info": {
   "codemirror_mode": {
    "name": "ipython",
    "version": 3
   },
   "file_extension": ".py",
   "mimetype": "text/x-python",
   "name": "python",
   "nbconvert_exporter": "python",
   "pygments_lexer": "ipython3",
   "version": "3.7.3"
  }
 },
 "nbformat": 4,
 "nbformat_minor": 2
}
