{
 "cells": [
  {
   "cell_type": "code",
   "execution_count": null,
   "metadata": {},
   "outputs": [],
   "source": [
    "import nbimporter\n",
    "\n",
    "import numpy as np\n",
    "from math import ceil\n",
    "from s11_03_life_schedule import load_schedule, get_schedule_v\n"
   ]
  },
  {
   "cell_type": "markdown",
   "metadata": {},
   "source": [
    "# 第五章　換気設備 / Chapter 5 Ventilation System"
   ]
  },
  {
   "cell_type": "markdown",
   "metadata": {},
   "source": [
    "1．適用範囲～4．記号及び単位は省略"
   ]
  },
  {
   "cell_type": "markdown",
   "metadata": {},
   "source": [
    "1. Scope of application ~ 4. Symbols and units are omitted"
   ]
  },
  {
   "cell_type": "markdown",
   "metadata": {},
   "source": [
    "## 5．機械換気設備の消費電力量 /  Power consumption of mechanical ventilation equipment"
   ]
  },
  {
   "cell_type": "markdown",
   "metadata": {},
   "source": [
    "$$\n",
    "\\large \n",
    "E_{E,V,d,t} = E_{E,VG,d,t} + E_{E,VL,d,t}\n",
    "$$"
   ]
  },
  {
   "cell_type": "markdown",
   "metadata": {},
   "source": [
    "$ E_{E,V,d,t}$：日付$d$の時刻$t$における1時間当たりの機械換気設備の消費電力量(kWh/h) / Power consumption of mechanical ventilation equipment per hour at time $t$ of date $d$  \n",
    "$ E_{E,VG,d,t}$：日付$d$の時刻$t$における1時間当たりの全般換気設備の消費電力量(kWh/h) / Power consumption of general ventilation system per hour at time $t$ of date $d$    \n",
    "$ E_{E,VL,d,t}$：日付$d$の時刻$t$における1時間当たりの局所換気設備の消費電力量(kWh/h) / Power consumption of local ventilation system per hour at time $t$ of date $d$"
   ]
  },
  {
   "cell_type": "code",
   "execution_count": null,
   "metadata": {},
   "outputs": [],
   "source": [
    "# 1 時間当たりの機械換気設備の消費電力量（kWh/h）\n",
    "def get_E_E_V_d_t(n_p, A_A, V, HEX=None):\n",
    "    schedule =load_schedule()\n",
    "    schedule_v = get_schedule_v(schedule)\n",
    "\n",
    "    input = V['input']\n",
    "\n",
    "    type = V['type']\n",
    "\n",
    "    # 熱交換型換気への配慮\n",
    "    if HEX is not None:\n",
    "        type_he = type + '（熱交換型換気設備）'\n",
    "    else:\n",
    "        type_he = type\n",
    "\n",
    "    # 有効換気量率\n",
    "    if type.endswith('第一種換気設備'):\n",
    "        e = V['v_e']\n",
    "    else:\n",
    "        e = 1.0\n",
    "\n",
    "    if input == '評価しない':\n",
    "        # SFP計算\n",
    "        if type.startswith(\"ダクト式\"):\n",
    "            f_SFP = table_a_1[type_he]\n",
    "        elif type.startswith(\"壁付け式\"):\n",
    "            f_SFP = table_a_3[type_he]\n",
    "        else:\n",
    "            raise ValueError(type)\n",
    "\n",
    "    elif input == '省エネルギー手法':\n",
    "        # SFP計算\n",
    "        if type.startswith(\"ダクト式\"):\n",
    "            f_SFP = table_a_1[type_he] * table_a_2[type][V['duct']][V['current']]\n",
    "        elif type.startswith(\"壁付け式\"):\n",
    "            f_SFP = table_a_3[type_he]\n",
    "        else:\n",
    "            raise ValueError(type)\n",
    "\n",
    "    elif input == '比消費電力':\n",
    "        f_SFP = V['f_SFP']\n",
    "    else:\n",
    "        raise ValueError(input)\n",
    "\n",
    "    E_E_VG_d_t = get_E_E_VG_d_t(f_SFP, A_A, V['N'], e)\n",
    "    E_E_VL_d_t = get_E_E_VL_d_t(n_p, schedule_v)\n",
    "\n",
    "    return E_E_VG_d_t + E_E_VL_d_t  # (1)\n"
   ]
  },
  {
   "cell_type": "markdown",
   "metadata": {},
   "source": [
    "## 6．全般換気設備の参照機械換気量 / Reference mechanical ventilation of general ventilation equipment"
   ]
  },
  {
   "cell_type": "markdown",
   "metadata": {},
   "source": [
    "$$\n",
    "\\large \n",
    "E_{E,VG,d,t} = f_{SFP} \\times V_R \\times 10^{-3}\n",
    "$$"
   ]
  },
  {
   "cell_type": "markdown",
   "metadata": {},
   "source": [
    "$ f_{SFP} $：全般換気設備の比消費電力(W/(m<sup>3</sup>/h)) / Specific power consumption of general ventilation equipment  \n",
    "$ V_R $：全般換気設備の参照機械換気量(m<sup>3</sup>/h) / Reference mechanical ventilation of general ventilation equipment"
   ]
  },
  {
   "cell_type": "code",
   "execution_count": null,
   "metadata": {},
   "outputs": [],
   "source": [
    "# 1 時間当たりの全般換気設備の消費電力量（kWh/h）\n",
    "def get_E_E_VG_d_t(f_FSP, A_A, N, e):\n",
    "    V_R = get_V_R(A_A, N, e)\n",
    "    return [f_FSP * V_R / 1000] * 24 * 365\n"
   ]
  },
  {
   "cell_type": "markdown",
   "metadata": {},
   "source": [
    "$$\n",
    "\\large \n",
    "V_R = A_A \\times H_R \\times N \\times a \\div e\n",
    "$$"
   ]
  },
  {
   "cell_type": "markdown",
   "metadata": {},
   "source": [
    "$ A_A $：床面積の合計(m<sup>2</sup>) / Total floor area  \n",
    "$ H_R $：参照天井高さ(m)(=2.4m) / Reference ceiling height  \n",
    "$ N $：換気回数(1/h) / Ventilation frequency  \n",
    "$ a $：全般換気設備の換気量の余裕率(=1.1) / Margin rate of ventilation volume of general ventilation equipment  \n",
    "$ e $：有効換気量率 / Effective ventilation rate rate"
   ]
  },
  {
   "cell_type": "code",
   "execution_count": null,
   "metadata": {},
   "outputs": [],
   "source": [
    "# 全般換気設備の参照機械換気量\n",
    "def get_V_R(A_A, N, e):\n",
    "    H_R = get_H_R()\n",
    "    a = get_a()\n",
    "    return A_A * H_R * N * a / e\n"
   ]
  },
  {
   "cell_type": "markdown",
   "metadata": {},
   "source": [
    "### 6.1　参照天井高さ / Reference ceiling height"
   ]
  },
  {
   "cell_type": "markdown",
   "metadata": {},
   "source": [
    "参照天井高さ$ H_R $は、2.4mに等しいとする。"
   ]
  },
  {
   "cell_type": "markdown",
   "metadata": {},
   "source": [
    "The reference ceiling height $H_R$ shall be equal to 2.4 m."
   ]
  },
  {
   "cell_type": "code",
   "execution_count": null,
   "metadata": {},
   "outputs": [],
   "source": [
    "def get_H_R():\n",
    "    return 2.4"
   ]
  },
  {
   "cell_type": "markdown",
   "metadata": {},
   "source": [
    "### 6.2　換気回数 / Ventilation frequency"
   ]
  },
  {
   "cell_type": "markdown",
   "metadata": {},
   "source": [
    "省略"
   ]
  },
  {
   "cell_type": "markdown",
   "metadata": {},
   "source": [
    "Omission"
   ]
  },
  {
   "cell_type": "markdown",
   "metadata": {},
   "source": [
    "### 6.3　全般換気設備の換気量の余裕率 / Margin rate of ventilation volume of general ventilation equipment"
   ]
  },
  {
   "cell_type": "markdown",
   "metadata": {},
   "source": [
    "全般換気設備の換気量の余裕率$ a $は1.1に等しいものとする。"
   ]
  },
  {
   "cell_type": "markdown",
   "metadata": {},
   "source": [
    "The ventilation rate a of the general ventilation system $a$ shall be equal to 1.1."
   ]
  },
  {
   "cell_type": "code",
   "execution_count": null,
   "metadata": {},
   "outputs": [],
   "source": [
    "def get_a():\n",
    "    return 1.1"
   ]
  },
  {
   "cell_type": "markdown",
   "metadata": {},
   "source": [
    "### 6.4　比消費電力 / Specific power consumption"
   ]
  },
  {
   "cell_type": "markdown",
   "metadata": {},
   "source": [
    "省略"
   ]
  },
  {
   "cell_type": "markdown",
   "metadata": {},
   "source": [
    "Omission"
   ]
  },
  {
   "cell_type": "markdown",
   "metadata": {},
   "source": [
    "### 6.5　有効換気量率 / Effective ventilation rate rate"
   ]
  },
  {
   "cell_type": "markdown",
   "metadata": {},
   "source": [
    "省略"
   ]
  },
  {
   "cell_type": "markdown",
   "metadata": {},
   "source": [
    "Omission"
   ]
  },
  {
   "cell_type": "markdown",
   "metadata": {},
   "source": [
    "## 7．局所換気設備の消費電力量 / Power consumption of local ventilation system"
   ]
  },
  {
   "cell_type": "markdown",
   "metadata": {},
   "source": [
    "$$\n",
    "\\large\n",
    "E_{E,VL,d,t} = \\left\\{\n",
    "\\begin{array}{ll}\n",
    "E_{E,VL,p,d,t} \\mid _{p=1} \\times \\frac{2 - n_p}{2 - 1} + E_{E,VL,p,d,t} \\mid _{p=2} \\times \\frac{n_p - 1}{2 - 1} & (1 \\leq n_p < 2 )\\\\\n",
    "E_{E,VL,p,d,t} \\mid _{p=2} \\times \\frac{3 - n_p}{3 - 2} + E_{E,VL,p,d,t} \\mid _{p=3} \\times \\frac{n_p - 2}{3 - 2} & (2 \\leq n_p < 3)\\\\\n",
    "E_{E,VL,p,d,t} \\mid _{p=3} \\times \\frac{4 - n_p}{4 - 3} + E_{E,VL,p,d,t} \\mid _{p=4} \\times \\frac{n_p - 3}{4 - 3} & (3 \\leq n_p \\leq 4)\n",
    "\\end{array}\n",
    "\\right.\n",
    "$$"
   ]
  },
  {
   "cell_type": "markdown",
   "metadata": {},
   "source": [
    "$ E_{E,V,d,t}$：日付$d$の時刻$t$における1時間当たりの局所換気設備の消費電力量(kWh/h) / Power consumption of local ventilation system per hour at time $t$ of date $d$  \n",
    "$ E_{E,VL,p,d,t}$：日付$d$の時刻$t$における1時間当たりの居住人数が$p$人における局所換気設備の消費電力量(kWh/h) / The power consumption of the local ventilation system when the number of residents per hour at time $t$ of date $d$ is $p$  \n",
    "$ n_p $：仮想居住人数 / Virtual number of people"
   ]
  },
  {
   "cell_type": "code",
   "execution_count": null,
   "metadata": {},
   "outputs": [],
   "source": [
    "# 1 時間当たりの局所換気設備の消費電力量\n",
    "def get_E_E_VL_d_t(n_p, schedule_v):\n",
    "    # (5)\n",
    "    if 1 <= n_p and n_p <= 2:\n",
    "        E_E_VL_1_d_t = get_E_E_VL_p_d_t(1, schedule_v)\n",
    "        E_E_VL_2_d_t = get_E_E_VL_p_d_t(2, schedule_v)\n",
    "        return E_E_VL_1_d_t * (2 - n_p) / (2 - 1) + E_E_VL_2_d_t * (n_p - 1) / (2 - 1)\n",
    "    elif 2 <= n_p and n_p <= 3:\n",
    "        E_E_VL_2_d_t = get_E_E_VL_p_d_t(2, schedule_v)\n",
    "        E_E_VL_3_d_t = get_E_E_VL_p_d_t(3, schedule_v)\n",
    "        return E_E_VL_2_d_t * (3 - n_p) / (3 - 2) + E_E_VL_3_d_t * (n_p - 2) / (3 - 2)\n",
    "    elif 3 <= n_p and n_p <= 4:\n",
    "        E_E_VL_3_d_t = get_E_E_VL_p_d_t(3, schedule_v)\n",
    "        E_E_VL_4_d_t = get_E_E_VL_p_d_t(4, schedule_v)\n",
    "        return E_E_VL_3_d_t * (4 - n_p) / (4 - 3) + E_E_VL_4_d_t * (n_p - 3) / (4 - 3)\n"
   ]
  },
  {
   "cell_type": "code",
   "execution_count": null,
   "metadata": {},
   "outputs": [],
   "source": [
    "# 局所換気設備の 1 時間当たりの消費電力量\n",
    "def get_E_E_VL_p_d_t(p, schedule_v):\n",
    "    # 全日平日とみなした24時間365日の消費電力量\n",
    "    tmp_0 = [table_c_1[i][(p - 1) * 3] for i in range(24)] * 365\n",
    "\n",
    "    # 休日外出とみなした24時間365日の消費電力量\n",
    "    tmp_1 = [table_c_1[i][(p - 1) * 3 + 1] for i in range(24)] * 365\n",
    "\n",
    "    # 休日在宅とみなした24時間365日の消費電力量\n",
    "    tmp_2 = [table_c_1[i][(p - 1) * 3 + 2] for i in range(24)] * 365\n",
    "\n",
    "    # 時間単位に展開した生活パターン\n",
    "    schedule_extend = np.array([[i] * 24 for i in schedule_v]).reshape(24 * 365)\n",
    "\n",
    "    tmp = tmp_0 * (schedule_extend == '平日') \\\n",
    "          + tmp_1 * (schedule_extend == '休日外') \\\n",
    "          + tmp_2 * (schedule_extend == '休日在')\n",
    "\n",
    "    return tmp / 1000\n"
   ]
  },
  {
   "cell_type": "markdown",
   "metadata": {},
   "source": [
    "## 付録 A 全般換気設備の比消費電力"
   ]
  },
  {
   "cell_type": "markdown",
   "metadata": {},
   "source": [
    "### A.1 ダクト式換気設備"
   ]
  },
  {
   "cell_type": "markdown",
   "metadata": {},
   "source": [
    "<div style=\"text-align: center;font-weight: bold;\">表　基本となる比消費電力</div>\n",
    "\n",
    "|全般換気設備の種類|基本となる比消費電力|\n",
    "|-|-|\n",
    "|ダクト式第一種換気設備（熱交換型換気設備）|0.70|\n",
    "|ダクト式第一種換気設備|0.50|\n",
    "|ダクト式第二種換気設備又はダクト式第三種換気設備|0.40|\n"
   ]
  },
  {
   "cell_type": "code",
   "execution_count": null,
   "metadata": {},
   "outputs": [],
   "source": [
    "# 表 基本となる比消費電力\n",
    "table_a_1 = {\n",
    "    'ダクト式第一種換気設備（熱交換型換気設備）': 0.70,\n",
    "    'ダクト式第一種換気設備': 0.50,\n",
    "    'ダクト式第二種換気設備又はダクト式第三種換気設備': 0.40\n",
    "}"
   ]
  },
  {
   "cell_type": "markdown",
   "metadata": {},
   "source": [
    "<div style=\"text-align: center;font-weight: bold;\">表　省エネルギー対策の効果率</div>\n",
    "\n",
    "<table>\n",
    "<thead>\n",
    "<tr>\n",
    "<th>換気設備の種類</th>\n",
    "<th>ダクトの内径</th>\n",
    "<th>電動機の種類</th>\n",
    "<th>効果率</th>\n",
    "</tr>\n",
    "</thead>\n",
    "<tbody>\n",
    "<tr>\n",
    "<th rowspan=\"3\">ダクト式第一種換気設備</th>\n",
    "<td rowspan=\"2\">内径 75mm 以上の<br>ダクトのみ使用</td>\n",
    "<td>直流</td>\n",
    "<td>0.455</td>\n",
    "</tr>\n",
    "<tr>\n",
    "<td>交流、又は直流と交流の併用</td>\n",
    "<td>0.700</td>\n",
    "</tr>\n",
    "<tr>\n",
    "<td>上記以外</td>\n",
    "<td>直流あるいは交流</td>\n",
    "<td>1.000</td>\n",
    "</tr>\n",
    "<tr>\n",
    "<th rowspan=\"3\">ダクト式第二種換気設備<br>又は<br>ダクト式第三種換気設備</th>\n",
    "<td rowspan=\"2\">内径 75mm 以上の<br>ダクトのみ使用</td>\n",
    "<td>直流</td>\n",
    "<td>0.360</td>\n",
    "</tr>\n",
    "<tr>\n",
    "<td>交流、又は直流と交流の併用</td>\n",
    "<td>0.600</td>\n",
    "</tr>\n",
    "<tr>\n",
    "<td>上記以外</td>\n",
    "<td>直流あるいは交流</td>\n",
    "<td>1.000</td>\n",
    "</tr>\n",
    "</tbody>\n",
    "</table>\n"
   ]
  },
  {
   "cell_type": "code",
   "execution_count": null,
   "metadata": {},
   "outputs": [],
   "source": [
    "# 省エネルギー対策の効果率\n",
    "table_a_2 = {\n",
    "    'ダクト式第一種換気設備': {\n",
    "        '内径 75mm 以上のダクトのみ使用': {\n",
    "            '直流': 0.455,\n",
    "            '交流、又は直流と交流の併用': 0.700\n",
    "        },\n",
    "        '上記以外': {\n",
    "            '直流あるいは交流': 1.000\n",
    "        }\n",
    "    },\n",
    "    'ダクト式第二種換気設備又はダクト式第三種換気設備': {\n",
    "        '内径 75mm 以上のダクトのみ使用': {\n",
    "            '直流': 0.360,\n",
    "            '交流、又は直流と交流の併用': 0.600\n",
    "        },\n",
    "        '上記以外': {\n",
    "            '直流あるいは交流': 1.000\n",
    "        }\n",
    "    }\n",
    "}\n"
   ]
  },
  {
   "cell_type": "markdown",
   "metadata": {},
   "source": [
    "### A.2 壁付け式換気設備"
   ]
  },
  {
   "cell_type": "markdown",
   "metadata": {},
   "source": [
    "<div style=\"text-align: center;font-weight: bold;\">表　壁付け式全般換気設備の比消費電力</div>\n",
    "\n",
    "|全般換気設備の種類|比消費電力|\n",
    "|-|-|\n",
    "|壁付け式第一種換気設備（熱交換型換気設備）|0.70|\n",
    "|壁付け式第一種換気設備|0.40|\n",
    "|壁付け式第二種換気設備|0.30|\n",
    "|壁付け式第三種換気設備|0.30|\n"
   ]
  },
  {
   "cell_type": "code",
   "execution_count": null,
   "metadata": {},
   "outputs": [],
   "source": [
    "# 表 壁付け式全般換気設備の比消費電力\n",
    "table_a_3 = {\n",
    "    '壁付け式第一種換気設備（熱交換型換気設備）': 0.70,\n",
    "    '壁付け式第一種換気設備': 0.40,\n",
    "    '壁付け式第二種換気設備設備又は壁付け式第三種換気設備': 0.30,\n",
    "}\n"
   ]
  },
  {
   "cell_type": "markdown",
   "metadata": {},
   "source": [
    "## 付録 B 換気設備の設計風量の計算方法"
   ]
  },
  {
   "cell_type": "markdown",
   "metadata": {},
   "source": [
    "省略"
   ]
  },
  {
   "cell_type": "markdown",
   "metadata": {},
   "source": [
    "## 付録 C 局所換気設備の 1 時間当たりの消費電力量"
   ]
  },
  {
   "cell_type": "markdown",
   "metadata": {},
   "source": [
    "日付$d$の時刻$t$における1 時間当たりの局所換気設備の消費電力量$ E_{E,VL,d,t}$は、居住人数により時刻ごとに表に掲げる数値を1000で除した値（kWh/hに換算した値）を用いるものとする。"
   ]
  },
  {
   "cell_type": "markdown",
   "metadata": {},
   "source": [
    "<div style=\"text-align: center;font-weight: bold;\">表　 時間当たりの局所換気設備の消費電力量（Wh/h）</div>\n",
    "\n",
    "|時刻（時）|（1人）<br>平日|（1人）<br>休日<br>外出|（1人）<br>休日<br>在宅|（2人）<br>平日|（2人）<br>休日<br>外出|（2人）<br>休日<br>在宅|（3人）<br>平日|（3人）<br>休日<br>外出|（3人）<br>休日<br>在宅|（4人）<br>平日|（4人）<br>休日<br>外出|（4人）<br>休日<br>在宅|\n",
    "|-|-|-|-|-|-|-|-|-|-|-|-|-|\n",
    "|0:00|0.13|0.13|0.13|0.25|0.25|0.25|0.38|0.38|0.38|0.50|0.50|0.50|\n",
    "|1:00|0.13|0.13|0.13|0.25|0.25|0.25|0.38|0.38|0.38|0.50|0.50|0.50|\n",
    "|2:00|0.13|0.13|0.13|0.25|0.25|0.25|0.38|0.38|0.38|0.50|0.50|0.50|\n",
    "|3:00|0.13|0.13|0.13|0.25|0.25|0.25|0.38|0.38|0.38|0.50|0.50|0.50|\n",
    "|4:00|0.13|0.13|0.13|0.25|0.25|0.25|0.38|0.38|0.38|0.50|0.50|0.50|\n",
    "|5:00|0.13|0.13|0.13|0.25|0.25|0.25|0.38|0.38|0.38|0.50|0.50|0.50|\n",
    "|6:00|3.38|0.33|0.13|6.75|0.67|0.25|10.13|1.00|0.38|13.51|1.33|0.50|\n",
    "|7:00|0.54|0.33|0.54|1.08|0.67|1.08|1.63|1.00|1.63|2.17|1.33|2.17|\n",
    "|8:00|0.54|7.05|3.79|1.08|14.09|7.59|1.63|21.14|11.38|2.17|28.18|15.18|\n",
    "|9:00|0.13|0.13|0.33|0.25|0.25|0.67|0.38|0.38|1.00|0.50|0.50|1.33|\n",
    "|10:00|0.33|0.13|0.54|0.67|0.25|1.08|1.00|0.38|1.63|1.33|0.50|2.17|\n",
    "|11:00|0.13|0.13|0.33|0.25|0.25|0.67|0.38|0.38|1.00|0.50|0.50|1.33|\n",
    "|12:00|3.38|0.13|3.38|6.75|0.25|6.75|10.13|0.38|10.13|13.51|0.50|13.51|\n",
    "|13:00|0.33|0.13|0.33|0.67|0.25|0.67|1.00|0.38|1.00|1.33|0.50|1.33|\n",
    "|14:00|0.13|0.13|0.13|0.25|0.25|0.25|0.38|0.38|0.38|0.50|0.50|0.50|\n",
    "|15:00|0.13|0.13|0.13|0.25|0.25|0.25|0.38|0.38|0.38|0.50|0.50|0.50|\n",
    "|16:00|0.33|0.13|0.54|0.67|0.25|1.08|1.00|0.38|1.63|1.33|0.50|2.17|\n",
    "|17:00|0.33|0.13|6.42|0.67|0.25|12.84|1.00|0.38|19.26|1.33|0.50|25.68|\n",
    "|18:00|6.42|0.13|6.42|12.84|0.25|12.84|19.26|0.38|19.26|25.68|0.50|25.68|\n",
    "|19:00|6.42|0.13|0.13|12.84|0.25|0.25|19.26|0.38|0.38|25.68|0.50|0.50|\n",
    "|20:00|0.33|0.54|0.33|0.67|1.08|0.67|1.00|1.63|1.00|1.33|2.17|1.33|\n",
    "|21:00|0.33|0.33|6.28|0.67|0.67|12.56|1.00|1.00|18.84|1.33|1.33|25.12|\n",
    "|22:00|6.28|3.52|6.49|12.56|7.03|12.98|18.84|10.55|19.47|25.12|14.06|25.95|\n",
    "|23:00|6.70|6.28|3.31|13.39|12.56|6.61|20.09|18.84|9.92|26.79|25.12|13.23|\n"
   ]
  },
  {
   "cell_type": "code",
   "execution_count": null,
   "metadata": {},
   "outputs": [],
   "source": [
    "# 付録 C 局所換気設備の 1 時間当たりの消費電力量\n",
    "table_c_1 = [\n",
    "    (0.13, 0.13, 0.13, 0.25, 0.25, 0.25, 0.38, 0.38, 0.38, 0.5, 0.5, 0.5),\n",
    "    (0.13, 0.13, 0.13, 0.25, 0.25, 0.25, 0.38, 0.38, 0.38, 0.5, 0.5, 0.5),\n",
    "    (0.13, 0.13, 0.13, 0.25, 0.25, 0.25, 0.38, 0.38, 0.38, 0.5, 0.5, 0.5),\n",
    "    (0.13, 0.13, 0.13, 0.25, 0.25, 0.25, 0.38, 0.38, 0.38, 0.5, 0.5, 0.5),\n",
    "    (0.13, 0.13, 0.13, 0.25, 0.25, 0.25, 0.38, 0.38, 0.38, 0.5, 0.5, 0.5),\n",
    "    (0.13, 0.13, 0.13, 0.25, 0.25, 0.25, 0.38, 0.38, 0.38, 0.5, 0.5, 0.5),\n",
    "    (3.38, 0.33, 0.13, 6.75, 0.67, 0.25, 10.13, 1, 0.38, 13.51, 1.33, 0.5),\n",
    "    (0.54, 0.33, 0.54, 1.08, 0.67, 1.08, 1.63, 1, 1.63, 2.17, 1.33, 2.17),\n",
    "    (0.54, 7.05, 3.79, 1.08, 14.09, 7.59, 1.63, 21.14, 11.38, 2.17, 28.18, 15.18),\n",
    "    (0.13, 0.13, 0.33, 0.25, 0.25, 0.67, 0.38, 0.38, 1, 0.5, 0.5, 1.33),\n",
    "    (0.33, 0.13, 0.54, 0.67, 0.25, 1.08, 1, 0.38, 1.63, 1.33, 0.5, 2.17),\n",
    "    (0.13, 0.13, 0.33, 0.25, 0.25, 0.67, 0.38, 0.38, 1, 0.5, 0.5, 1.33),\n",
    "    (3.38, 0.13, 3.38, 6.75, 0.25, 6.75, 10.13, 0.38, 10.13, 13.51, 0.5, 13.51),\n",
    "    (0.33, 0.13, 0.33, 0.67, 0.25, 0.67, 1, 0.38, 1, 1.33, 0.5, 1.33),\n",
    "    (0.13, 0.13, 0.13, 0.25, 0.25, 0.25, 0.38, 0.38, 0.38, 0.5, 0.5, 0.5),\n",
    "    (0.13, 0.13, 0.13, 0.25, 0.25, 0.25, 0.38, 0.38, 0.38, 0.5, 0.5, 0.5),\n",
    "    (0.33, 0.13, 0.54, 0.67, 0.25, 1.08, 1, 0.38, 1.63, 1.33, 0.5, 2.17),\n",
    "    (0.33, 0.13, 6.42, 0.67, 0.25, 12.84, 1, 0.38, 19.26, 1.33, 0.5, 25.68),\n",
    "    (6.42, 0.13, 6.42, 12.84, 0.25, 12.84, 19.26, 0.38, 19.26, 25.68, 0.5, 25.68),\n",
    "    (6.42, 0.13, 0.13, 12.84, 0.25, 0.25, 19.26, 0.38, 0.38, 25.68, 0.5, 0.5),\n",
    "    (0.33, 0.54, 0.33, 0.67, 1.08, 0.67, 1, 1.63, 1, 1.33, 2.17, 1.33),\n",
    "    (0.33, 0.33, 6.28, 0.67, 0.67, 12.56, 1, 1, 18.84, 1.33, 1.33, 25.12),\n",
    "    (6.28, 3.52, 6.49, 12.56, 7.03, 12.98, 18.84, 10.55, 19.47, 25.12, 14.06, 25.95),\n",
    "    (6.7, 6.28, 3.31, 13.39, 12.56, 6.61, 20.09, 18.84, 9.92, 26.79, 25.12, 13.23)\n",
    "]\n"
   ]
  },
  {
   "cell_type": "markdown",
   "metadata": {},
   "source": [
    "## 付録 D  換気設備を構成する部材の風量-静圧特性の計測方法"
   ]
  },
  {
   "cell_type": "markdown",
   "metadata": {},
   "source": [
    "省略"
   ]
  }
 ],
 "metadata": {
  "kernelspec": {
   "display_name": "Python 3",
   "language": "python",
   "name": "python3"
  },
  "language_info": {
   "codemirror_mode": {
    "name": "ipython",
    "version": 3
   },
   "file_extension": ".py",
   "mimetype": "text/x-python",
   "name": "python",
   "nbconvert_exporter": "python",
   "pygments_lexer": "ipython3",
   "version": "3.7.1"
  }
 },
 "nbformat": 4,
 "nbformat_minor": 2
}
