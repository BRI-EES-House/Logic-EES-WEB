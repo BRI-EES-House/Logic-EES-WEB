{
 "cells": [
  {
   "cell_type": "code",
   "execution_count": null,
   "metadata": {},
   "outputs": [],
   "source": [
    "import numpy as np"
   ]
  },
  {
   "cell_type": "markdown",
   "metadata": {},
   "source": [
    "## 付録M　放熱器の最大能力 / Appendix M Max Capacity of Radiator"
   ]
  },
  {
   "cell_type": "markdown",
   "metadata": {},
   "source": [
    "### M.1 記号及び単位 / Symbol and unit"
   ]
  },
  {
   "cell_type": "markdown",
   "metadata": {},
   "source": [
    "省略"
   ]
  },
  {
   "cell_type": "markdown",
   "metadata": {},
   "source": [
    "ommision"
   ]
  },
  {
   "cell_type": "markdown",
   "metadata": {},
   "source": [
    "### M.2 放熱器の最大能力 / Maximum capacity of radiator"
   ]
  },
  {
   "cell_type": "markdown",
   "metadata": {},
   "source": [
    "$$\\large\n",
    "q_{max,rad} = q_{rq,H} \\times A_{HCZ} \\times f_{cT} \\times f_{cI}\n",
    "$$"
   ]
  },
  {
   "cell_type": "markdown",
   "metadata": {},
   "source": [
    "$q_{max,rad}$：放熱器の最大能力(W) / Maximum capacity of radiator  \n",
    "$q_{rq,H}$：単位面積当たりの必要暖房能力(W/m<sup>2</sup>) / Required heating capacity per unit area  \n",
    "$A_{HCZ}$：暖冷房区画の床面積(m<sup>2</sup>) / Floor area of heating and cooling compartment  \n",
    "$f_{cT}$：外気温度能力補正係数 / Outside air temperature ability correction factor  \n",
    "$f_{cI}$：間歇運転能力補正係数 / Intermittent driving ability correction factor  "
   ]
  },
  {
   "cell_type": "code",
   "execution_count": null,
   "metadata": {},
   "outputs": [],
   "source": [
    "# 放熱器の最大能力 (1)\n",
    "def get_q_max_rad(region, mode, A_HCZ, R_type):\n",
    "    # 単位面積当たりの必要暖房能力\n",
    "    q_rq_H = get_q_rq_H(region, R_type)\n",
    "\n",
    "    # 外気温度補正係数\n",
    "    f_cT = get_f_cT()\n",
    "\n",
    "    # 間歇運転能力補正係数\n",
    "    f_cI = get_f_cI(mode, R_type)\n",
    "\n",
    "    return np.ones(24*365) * q_rq_H * A_HCZ * f_cT * f_cI\n",
    "\n",
    "\n",
    "# 単位面積当たりの必要暖房能力\n",
    "def get_q_rq_H(region, R_type):\n",
    "    if R_type == '主たる居室':\n",
    "        return table_m_2[0][region - 1]\n",
    "    elif R_type == 'その他の居室':\n",
    "        return table_m_2[1][region - 1]\n",
    "    else:\n",
    "        raise ValueError(R_type)"
   ]
  },
  {
   "cell_type": "markdown",
   "metadata": {},
   "source": [
    "外気温度補正係数$f_{cT}$の値は1.05とする。"
   ]
  },
  {
   "cell_type": "markdown",
   "metadata": {},
   "source": [
    "The value of the outside air temperature correction coefficient $ f_{cT} $ is set to 1.05."
   ]
  },
  {
   "cell_type": "code",
   "execution_count": null,
   "metadata": {},
   "outputs": [],
   "source": [
    "# 外気温度補正係数\n",
    "def get_f_cT():\n",
    "    return 1.05"
   ]
  },
  {
   "cell_type": "markdown",
   "metadata": {},
   "source": [
    "<div style=\"text-align: center;font-weight: bold;\">表　単位面積当たりの必要暖房能力(W/m<sup>2</sup>)<br>Table: Required heating capacity per unit area</div>\n",
    "\n",
    "<table>\n",
    "<tr>\n",
    "<th rowspan=\"2\"></th>\n",
    "<th colspan=\"8\">地域の区分<br>Segmentation of area</th>\n",
    "</tr>\n",
    "<tr>\n",
    "<th>1</th>\n",
    "<th>2</th>\n",
    "<th>3</th>\n",
    "<th>4</th>\n",
    "<th>5</th>\n",
    "<th>6</th>\n",
    "<th>7</th>\n",
    "<th>8</th>\n",
    "</tr>\n",
    "\n",
    "<tr>\n",
    "<th>主たる居室<br>Main room</th><td>139.26</td><td>120.65</td><td>111.32</td><td>118.98</td><td>126.56</td><td>106.48</td><td>112.91</td><td>－</td>\n",
    "</tr>\n",
    "<tr>\n",
    "<th>その他の居室<br>Other rooms</th><td>95.97</td><td>82.03</td><td>84.97</td><td>86.55</td><td>94.44</td><td>80.58</td><td>84.94</td><td>－</td>\n",
    "</tr>\n",
    "</table>\n"
   ]
  },
  {
   "cell_type": "code",
   "execution_count": null,
   "metadata": {},
   "outputs": [],
   "source": [
    "# 表M.2 単位面積当たりの必要暖房能力\n",
    "table_m_2 = [\n",
    "    (139.26, 120.65, 111.32, 118.98, 126.56, 106.48, 112.91),\n",
    "    (95.97, 82.03, 84.97, 86.55, 94.44, 80.58, 84.94)\n",
    "]"
   ]
  },
  {
   "cell_type": "code",
   "execution_count": null,
   "metadata": {},
   "outputs": [],
   "source": [
    "# 間歇運転能力補正係数\n",
    "def get_f_cI(mode, R_type):\n",
    "    if mode in ['連続運転', '連続', 'ろ']:\n",
    "        y = 0\n",
    "    elif mode in ['間歇運転','間歇','は']:\n",
    "        y = 1\n",
    "    else:\n",
    "        raise ValueError(mode)\n",
    "\n",
    "    if R_type == '主たる居室':\n",
    "        return table_m_3[y][0]\n",
    "    elif R_type == 'その他の居室':\n",
    "        return table_m_3[y][1]\n",
    "    else:\n",
    "        raise ValueError(R_type)"
   ]
  },
  {
   "cell_type": "markdown",
   "metadata": {},
   "source": [
    "<div style=\"text-align: center;font-weight: bold;\">表　間歇運転能力補正係数<br>Table: Intermittent driving ability correction factor</div>\n",
    "\n",
    "|　|主たる居室<br>Main room|その他の居室<br>Other rooms|\n",
    "|-|-|-|\n",
    "|連続運転の場合<br>Continuous operation|1.0|1.0|\n",
    "|間歇運転の場合<br>Intermittent operation|3.034|4.805|\n"
   ]
  },
  {
   "cell_type": "code",
   "execution_count": null,
   "metadata": {},
   "outputs": [],
   "source": [
    "# 表M.3 間歇運転能力補正係数\n",
    "table_m_3 = [\n",
    "    (1.0, 1.0),\n",
    "    (3.034, 4.804)\n",
    "]"
   ]
  }
 ],
 "metadata": {
  "kernelspec": {
   "display_name": "Python 3",
   "language": "python",
   "name": "python3"
  },
  "language_info": {
   "codemirror_mode": {
    "name": "ipython",
    "version": 3
   },
   "file_extension": ".py",
   "mimetype": "text/x-python",
   "name": "python",
   "nbconvert_exporter": "python",
   "pygments_lexer": "ipython3",
   "version": "3.6.7"
  }
 },
 "nbformat": 4,
 "nbformat_minor": 2
}
