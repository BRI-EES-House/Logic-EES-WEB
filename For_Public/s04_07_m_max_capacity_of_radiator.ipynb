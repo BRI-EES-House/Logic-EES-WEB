{
 "cells": [
  {
   "cell_type": "markdown",
   "metadata": {},
   "source": [
    "### 付録M　放熱器の最大能力"
   ]
  },
  {
   "cell_type": "markdown",
   "metadata": {},
   "source": [
    "#### M.1 記号及び単位"
   ]
  },
  {
   "cell_type": "markdown",
   "metadata": {},
   "source": [
    "省略"
   ]
  },
  {
   "cell_type": "markdown",
   "metadata": {},
   "source": [
    "#### M.2 放熱器の最大能力"
   ]
  },
  {
   "cell_type": "markdown",
   "metadata": {},
   "source": [
    "$$\\large\n",
    "q_{max,rad} = q_{rq,H} \\times A_{HCZ} \\times f_{cT} \\times f_{cI}\n",
    "$$"
   ]
  },
  {
   "cell_type": "markdown",
   "metadata": {},
   "source": [
    "$q_{max,rad}$：放熱器の最大能力(W)  \n",
    "$q_{rq,H}$：単位面積当たりの必要暖房能力(W/m<sup>2</sup>)  \n",
    "$A_{HCZ}$：暖冷房区画の床面積(m<sup>2</sup>)  \n",
    "$f_{cT}$：外気温度能力補正係数  \n",
    "$f_{cI}$：間歇運転能力補正係数  "
   ]
  },
  {
   "cell_type": "markdown",
   "metadata": {},
   "source": [
    "外気温度補正係数$f_{cT}$の値は1.05とする。"
   ]
  },
  {
   "cell_type": "markdown",
   "metadata": {},
   "source": [
    "<div style=\"text-align: center;font-weight: bold;\">表　単位面積当たりの必要暖房能力(W/m<sup>2</sup>)</div>\n",
    "\n",
    "<table>\n",
    "<tr>\n",
    "<th rowspan=\"2\"></th>\n",
    "<th colspan=\"8\">地域の区分</th>\n",
    "</tr>\n",
    "<tr>\n",
    "<th>1</th>\n",
    "<th>2</th>\n",
    "<th>3</th>\n",
    "<th>4</th>\n",
    "<th>5</th>\n",
    "<th>6</th>\n",
    "<th>7</th>\n",
    "<th>8</th>\n",
    "</tr>\n",
    "\n",
    "<tr>\n",
    "<th>主たる居室</th><td>139.26</td><td>120.65</td><td>111.32</td><td>118.98</td><td>126.56</td><td>106.48</td><td>112.91</td><td>－</td>\n",
    "</tr>\n",
    "<tr>\n",
    "<th>その他の居室</th><td>95.97</td><td>82.03</td><td>84.97</td><td>86.55</td><td>94.44</td><td>80.58</td><td>84.94</td><td>－</td>\n",
    "</tr>\n",
    "</table>\n"
   ]
  },
  {
   "cell_type": "markdown",
   "metadata": {},
   "source": [
    "<div style=\"text-align: center;font-weight: bold;\">表　間歇運転能力補正係数</div>\n",
    "\n",
    "|　|主たる居室|その他の居室|\n",
    "|-|-|-|\n",
    "|連続運転の場合|1.0|1.0|\n",
    "|間歇運転の場合|3.034|4.805|\n"
   ]
  }
 ],
 "metadata": {
  "kernelspec": {
   "display_name": "Python 3",
   "language": "python",
   "name": "python3"
  },
  "language_info": {
   "codemirror_mode": {
    "name": "ipython",
    "version": 3
   },
   "file_extension": ".py",
   "mimetype": "text/x-python",
   "name": "python",
   "nbconvert_exporter": "python",
   "pygments_lexer": "ipython3",
   "version": "3.6.7"
  }
 },
 "nbformat": 4,
 "nbformat_minor": 2
}
