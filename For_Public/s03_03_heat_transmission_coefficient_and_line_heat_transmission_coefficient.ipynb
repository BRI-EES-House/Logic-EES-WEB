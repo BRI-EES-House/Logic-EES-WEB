{
 "cells": [
  {
   "cell_type": "markdown",
   "metadata": {},
   "source": [
    "## 第三節　熱貫流率及び線熱貫流率 "
   ]
  },
  {
   "cell_type": "markdown",
   "metadata": {},
   "source": [
    "1．適用範囲～4．記号及び単位は省略"
   ]
  },
  {
   "cell_type": "markdown",
   "metadata": {},
   "source": [
    "### 5. 部位の熱貫流率"
   ]
  },
  {
   "cell_type": "markdown",
   "metadata": {},
   "source": [
    "#### 5.1 一般部位"
   ]
  },
  {
   "cell_type": "markdown",
   "metadata": {},
   "source": [
    "#### 5.1.1 木造"
   ]
  },
  {
   "cell_type": "markdown",
   "metadata": {},
   "source": [
    "#### 1) 詳細計算法"
   ]
  },
  {
   "cell_type": "markdown",
   "metadata": {},
   "source": [
    "$$\\large\n",
    "U_{i} = \\sum_{k} (a_{i,k} \\times U_{i,k})\n",
    "$$"
   ]
  },
  {
   "cell_type": "markdown",
   "metadata": {},
   "source": [
    "$U_{i}$：一般部位$i$の熱貫流率(W/m<sup>2</sup>K)  \n",
    "$a_{i,k}$：一般部位$i$の部分$k$の面積比率   \n",
    "$U_{i,k}$：一般部位$i$の部分$k$の熱貫流率(W/m<sup>2</sup>K)  \n"
   ]
  },
  {
   "cell_type": "markdown",
   "metadata": {},
   "source": [
    "$$\\large\n",
    "a_{i,k} = \\frac{S_{i,k}}{\\sum_{k} (S_{i,k})}\n",
    "$$"
   ]
  },
  {
   "cell_type": "markdown",
   "metadata": {},
   "source": [
    "$S_{i,k}$：一般部位$i$の部分$k$の見付面積(m<sup>2</sup>)  \n"
   ]
  },
  {
   "cell_type": "markdown",
   "metadata": {},
   "source": [
    "#### 2) 面積比率法（充填断熱する場合又は充填断熱し付加断熱する場合）（簡略計算方法&#9312;）"
   ]
  },
  {
   "cell_type": "markdown",
   "metadata": {},
   "source": [
    "<div style=\"text-align: center;font-weight: bold;\">表　木造における床の面積比率</div>\n",
    "\n",
    "<table>\n",
    "<thead>\n",
    "<tr>\n",
    "<th rowspan=\"2\" colspan=\"3\">工法の種類等</th>\n",
    "<th colspan=\"2\" style=\"text-align:center\">面積比率</th>\n",
    "</tr>\n",
    "<tr>\n",
    "<th>熱橋部分<br>（軸組部分）</th>\n",
    "<th>断熱部分<br>（一般部分）</th>\n",
    "</tr>\n",
    "</thead>\n",
    "\n",
    "<tbody>\n",
    "<tr>\n",
    "<th rowspan=\"6\">軸組構法</th>\n",
    "<th>床梁工法</th>\n",
    "<th>根太間に断熱する場合</th>\n",
    "<td>0.20</td>\n",
    "<td>0.80</td>\n",
    "</tr>\n",
    "<tr>\n",
    "<th rowspan=\"3\">束立大引工法</th>\n",
    "<th>根太間に断熱する場合</th>\n",
    "<td>0.20</td>\n",
    "<td>0.80</td>\n",
    "</tr>\n",
    "<tr>\n",
    "<th>大引間に断熱する場合</th>\n",
    "<td>0.15</td>\n",
    "<td>0.85</td>\n",
    "</tr>\n",
    "<tr>\n",
    "<th>根太間及び大引間に断熱する場合</th>\n",
    "<td colspan=\"2\">下表 参照</td>\n",
    "</tr>\n",
    "<tr>\n",
    "<th colspan=\"2\">剛床工法</th>\n",
    "<td>0.15</td>\n",
    "<td>0.85</td>\n",
    "</tr>\n",
    "<tr>\n",
    "<th>床梁土台同面工法</th>\n",
    "<th>根太間に断熱する場合</th>\n",
    "<td>0.30</td>\n",
    "<td>0.70</td>\n",
    "</tr>\n",
    "<tr>\n",
    "<th>枠組壁工法</th>\n",
    "<th colspan=\"2\">根太間に断熱する場合</th>\n",
    "<td>0.13</td>\n",
    "<td>0.87</td>\n",
    "</tr>\n",
    "</tbody>\n",
    "</table>\n"
   ]
  },
  {
   "cell_type": "markdown",
   "metadata": {},
   "source": [
    "<div style=\"text-align: center;font-weight: bold;\">表　軸組構法の束立大引工法において根太間及び大引間に断熱する場合の床の面積比率</div>\n",
    "\n",
    "<table>\n",
    "<thead>\n",
    "<tr>\n",
    "<th colspan=\"4\" style=\"text-align:center;\">面積比率</th>\n",
    "</tr>\n",
    "<tr>\n",
    "<th>断熱部分</th>\n",
    "<th colspan=\"2\">断熱部分＋熱橋部分</th>\n",
    "<th>熱橋部分</th>\n",
    "</tr>\n",
    "<tr>\n",
    "<th>根太間断熱材<br>＋大引間断熱材</th>\n",
    "<th>根太間断熱材<br>＋大引材等</th>\n",
    "<th>根太材<br>＋大引間断熱材</th>\n",
    "<th>根太材<br>＋大引材等</th>\n",
    "</tr>\n",
    "</thead>\n",
    "\n",
    "<tbody>\n",
    "<tr>\n",
    "<td>0.72</td>\n",
    "<td>0.12</td>\n",
    "<td>0.13</td>\n",
    "<td>0.03</td>\n",
    "</tr>\n",
    "</tbody>\n",
    "</table>"
   ]
  },
  {
   "cell_type": "markdown",
   "metadata": {},
   "source": [
    "<div style=\"text-align: center;font-weight: bold;\">表　木造における外壁（界壁）の面積比率 </div>\n",
    "\n",
    "<table>\n",
    "<thead>\n",
    "<tr>\n",
    "<th rowspan=\"2\" colspan=\"2\" style=\"text-align:center\">工法の種類等</th>\n",
    "<th colspan=\"2\" style=\"text-align:center;\">面積比率</th>\n",
    "</tr>\n",
    "<tr>\n",
    "<th>熱橋部分<br>（軸組部分）</th>\n",
    "<th>断熱部分<br>（一般部分）</th>\n",
    "</tr>\n",
    "</thead>\n",
    "\n",
    "<tbody>\n",
    "<tr>\n",
    "<th rowspan=\"2\">軸組構法</th>\n",
    "<th>柱・間柱間に断熱する場合</th>\n",
    "<td>0.17</td>\n",
    "<td>0.83</td>\n",
    "</tr>\n",
    "<tr>\n",
    "<th>柱・間柱間に断熱し付加断熱する場合</th>\n",
    "<td colspan=\"2\">下表 参照</td>\n",
    "</tr>\n",
    "<tr>\n",
    "<th rowspan=\"2\">枠組壁工法</th>\n",
    "<th>たて枠間に断熱する場合</th>\n",
    "<td>0.23</td>\n",
    "<td>0.77</td>\n",
    "</tr>\n",
    "<tr>\n",
    "<th>たて枠間に断熱し付加断熱する場合</th>\n",
    "<td colspan=\"2\">下表 参照</td>\n",
    "</tr>\n",
    "</tbody>\n",
    "</table>\n"
   ]
  },
  {
   "cell_type": "markdown",
   "metadata": {},
   "source": [
    "<div style=\"text-align: center;font-weight: bold;\">表　軸組構法において柱・間柱間に断熱し付加断熱する場合の外壁の面積比率</div>\n",
    "\n",
    "<table>\n",
    "<thead>\n",
    "<tr>\n",
    "<th rowspan=\"3\">&nbsp;</th>\n",
    "<th colspan=\"4\" style=\"text-align:center;\">面積比率</th>\n",
    "</tr>\n",
    "<tr>\n",
    "<th>断熱部分</th>\n",
    "<th colspan=\"2\">断熱部分＋熱橋部分</th>\n",
    "<th>熱橋部分</th>\n",
    "</tr>\n",
    "<tr>\n",
    "<th>柱・間柱間断熱材<br>＋付加断熱材</th>\n",
    "<th>柱・間柱間断熱材<br>＋付加断熱層内<br>熱橋部分</th>\n",
    "<th>構造部材等<br>＋付加断熱材</th>\n",
    "<th>構造部材等<br>＋付加断熱層内<br>熱橋部分</th>\n",
    "</tr>\n",
    "</thead>\n",
    "\n",
    "<tbody>\n",
    "<tr>\n",
    "<th>付加断熱層内熱橋部分が<br>「横下地」の場合</th>\n",
    "<td>0.75</td>\n",
    "<td>0.08</td>\n",
    "<td>0.12</td>\n",
    "<td>0.05</td>\n",
    "</tr>\n",
    "<tr>\n",
    "<th>付加断熱層内熱橋部分が<br>「縦下地」の場合</th>\n",
    "<td>0.79</td>\n",
    "<td>0.04</td>\n",
    "<td>0.04</td>\n",
    "<td>0.13</td>\n",
    "</tr>\n",
    "</tbody>\n",
    "</table>\n"
   ]
  },
  {
   "cell_type": "markdown",
   "metadata": {},
   "source": [
    "<div style=\"text-align: center;font-weight: bold;\">表　枠組壁工法においてたて枠間に断熱し付加断熱する場合の外壁の面積比率</div>\n",
    "\n",
    "<table>\n",
    "<thead>\n",
    "<tr>\n",
    "<th rowspan=\"3\">&nbsp;</th>\n",
    "<th colspan=\"6\" style=\"text-align:center;\">面積比率</th>\n",
    "</tr>\n",
    "<tr>\n",
    "<th>断熱部分</th>\n",
    "<th colspan=\"3\">断熱部分＋熱橋部分</th>\n",
    "<th colspan=\"2\">熱橋部分</th>\n",
    "</tr>\n",
    "<tr>\n",
    "<th>充填断熱材<br>＋付加断熱材</th>\n",
    "<th>充填断熱材<br>＋付加断熱<br>層内熱橋部</th>\n",
    "<th>構造部材等<br>＋付加断熱材</th>\n",
    "<th>まぐさ<br>＋付加断熱材</th>\n",
    "<th>構造部材等<br>＋付加断熱<br>層内熱橋部</th>\n",
    "<th>まぐさ<br>＋付加断熱<br>層内熱橋部</th>\n",
    "</tr>\n",
    "</thead>\n",
    "\n",
    "<tbody>\n",
    "<tr>\n",
    "<th>付加断熱層内熱橋部が<br>「横下地」の場合</th>\n",
    "<td>0.69</td>\n",
    "<td>0.08</td>\n",
    "<td>0.14</td>\n",
    "<td>0.02</td>\n",
    "<td>0.06</td>\n",
    "<td>0.01</td>\n",
    "</tr>\n",
    "<tr>\n",
    "<th>付加断熱層内熱橋部が <br>「縦下地」の場合</th>\n",
    "<td>0.76</td>\n",
    "<td>0.01</td>\n",
    "<td>-</td>\n",
    "<td>0.02</td>\n",
    "<td>0.2</td>\n",
    "<td>0.01</td>\n",
    "</tr>\n",
    "</tbody>\n",
    "</table>\n"
   ]
  },
  {
   "cell_type": "markdown",
   "metadata": {},
   "source": [
    "<div style=\"text-align: center;font-weight: bold;\">表　木造における天井の面積比率</div>\n",
    "\n",
    "<table>\n",
    "<thead>\n",
    "<tr>\n",
    "<th rowspan=\"2\">工法の種類等</th>\n",
    "<th colspan=\"2\" style=\"text-align:center;\">面積比率</th>\n",
    "</tr>\n",
    "<tr>\n",
    "<th>熱橋部分</th>\n",
    "<th>断熱部分</th>\n",
    "</tr>\n",
    "</thead>\n",
    "\n",
    "<tbody>\n",
    "<tr>\n",
    "<th>桁・梁間に断熱する場合</th>\n",
    "<td>0.13</td>\n",
    "<td>0.87</td>\n",
    "</tr>\n",
    "</tbody>\n",
    "</table>\n"
   ]
  },
  {
   "cell_type": "markdown",
   "metadata": {},
   "source": [
    "<div style=\"text-align: center;font-weight: bold;\">表　木造における屋根の面積比率</div>\n",
    "\n",
    "<table>\n",
    "<thead>\n",
    "<tr>\n",
    "<th rowspan=\"2\">工法の種類等</th>\n",
    "<th colspan=\"2\" style=\"text-align:center;\">面積比率</th>\n",
    "</tr>\n",
    "<tr>\n",
    "<th>熱橋部分</th>\n",
    "<th>断熱部分</th>\n",
    "</tr>\n",
    "</thead>\n",
    "\n",
    "<tbody>\n",
    "<tr>\n",
    "<th>たるき間に断熱する場合</th>\n",
    "<td>0.14</td>\n",
    "<td>0.86</td>\n",
    "</tr>\n",
    "<tr>\n",
    "<th>たるき間に断熱し付加断熱（横下地）する場合</th>\n",
    "<td colspan=\"2\">下表 参照</td>\n",
    "</tr>\n",
    "</tbody>\n",
    "</table>\n"
   ]
  },
  {
   "cell_type": "markdown",
   "metadata": {},
   "source": [
    "<div style=\"text-align: center;font-weight: bold;\">表　木造においてたるき間に断熱し付加断熱（横下地）する場合の屋根の面積比率</div>\n",
    "\n",
    "<table>\n",
    "<thead>\n",
    "<tr>\n",
    "<th colspan=\"4\" style=\"text-align:center;\">面積比率</th>\n",
    "</tr>\n",
    "<tr>\n",
    "<th>断熱部分</th>\n",
    "<th colspan=\"2\">断熱部分＋熱橋部分</th>\n",
    "<th>熱橋部分</th>\n",
    "</tr>\n",
    "<tr>\n",
    "<th>たる木間断熱材<br>＋付加断熱材</th>\n",
    "<th>たる木間断熱材<br>＋付加断熱層内熱橋部<br>（下地たる木）</th>\n",
    "<th>構造部材<br>＋付加断熱材</th>\n",
    "<th>構造部材<br>＋付加断熱層内熱橋部<br>（下地たる木）</th>\n",
    "</tr>\n",
    "</thead>\n",
    "\n",
    "<tbody>\n",
    "<tr>\n",
    "<td>0.79</td>\n",
    "<td>0.08</td>\n",
    "<td>0.12</td>\n",
    "<td>0.01</td>\n",
    "</tr>\n",
    "</tbody>\n",
    "</table>"
   ]
  },
  {
   "cell_type": "markdown",
   "metadata": {},
   "source": [
    "#### 3) 熱貫流率補正法（簡略計算方法&#9313;）"
   ]
  },
  {
   "cell_type": "markdown",
   "metadata": {},
   "source": [
    "$$\\large\n",
    "U_{i} = \\frac{1}{R_{g,i}} + U_{r,i}\n",
    "$$"
   ]
  },
  {
   "cell_type": "markdown",
   "metadata": {},
   "source": [
    "$U_{i}$：一般部位$i$の熱貫流率(W/m<sup>2</sup>K)  \n",
    "$R_{g,i}$：一般部位$i$の断熱部分の熱抵抗(m<sup>2</sup>K/W)   \n",
    "$U_{r,i}$：一般部位$i$の補正熱貫流率(W/m<sup>2</sup>K)  \n"
   ]
  },
  {
   "cell_type": "markdown",
   "metadata": {},
   "source": [
    "<div style=\"text-align: center;font-weight: bold;\">表　木造における一般部位の断熱工法等に応じた補正熱貫流率</div>\n",
    "\n",
    "<table>\n",
    "<thead>\n",
    "<tr>\n",
    "<th rowspan=\"2\">部位</th>\n",
    "<th rowspan=\"2\">断熱工法等</th>\n",
    "<th colspan=\"2\">補正熱貫流率 $U_r$</th>\n",
    "</tr>\n",
    "<tr>\n",
    "<th>軸組構法</th>\n",
    "<th>枠組壁工法</th>\n",
    "</tr>\n",
    "</thead>\n",
    "\n",
    "<tbody>\n",
    "<tr>\n",
    "<th>床<br>上階側界床<br>下階側界床</th>\n",
    "<th>-</th>\n",
    "<td>0.13</td>\n",
    "<td>0.08</td>\n",
    "</tr>\n",
    "<tr>\n",
    "<th rowspan=\"3\">外壁<br>界壁</th>\n",
    "<th>充填断熱（柱・間柱間に断熱）する場合<br>充填断熱（柱・間柱間に断熱）し付加断熱する場合</th>\n",
    "<td>0.09</td>\n",
    "<td>0.13</td>\n",
    "</tr>\n",
    "<tr>\n",
    "<th>土壁で外張断熱の場合</th>\n",
    "<td colspan=\"2\">0.04</td>\n",
    "</tr>\n",
    "<tr>\n",
    "<th>土壁以外で外張断熱の場合</th>\n",
    "<td colspan=\"2\">0.02</td>\n",
    "</tr>\n",
    "<tr>\n",
    "<th>天井</th>\n",
    "<th>桁・梁間に断熱する場合</th>\n",
    "<td colspan=\"2\">0.05</td>\n",
    "</tr>\n",
    "\n",
    "<tr>\n",
    "<th rowspan=\"2\">屋根</th>\n",
    "<th>充填断熱（たるき間に断熱）する場合<br>充填断熱（たるき間に断熱）し付加断熱する場合</th>\n",
    "<td colspan=\"2\">0.11</td>\n",
    "</tr>\n",
    "<tr>\n",
    "<th>外張断熱工法</th>\n",
    "<td colspan=\"2\">0.02</td>\n",
    "</tr>\n",
    "</tbody>\n",
    "</table>\n",
    "\n"
   ]
  },
  {
   "cell_type": "markdown",
   "metadata": {},
   "source": [
    "#### 5.1.2 鉄筋コンクリート造等"
   ]
  },
  {
   "cell_type": "markdown",
   "metadata": {},
   "source": [
    "省略"
   ]
  },
  {
   "cell_type": "markdown",
   "metadata": {},
   "source": [
    "#### 5.1.3 鉄骨造"
   ]
  },
  {
   "cell_type": "markdown",
   "metadata": {},
   "source": [
    "$$\\large\n",
    "U_{i} = U_{g,i} + U_{r,i}\n",
    "$$"
   ]
  },
  {
   "cell_type": "markdown",
   "metadata": {},
   "source": [
    "$U_{i}$：一般部位$i$の熱貫流率(W/m<sup>2</sup>K)  \n",
    "$U_{g,i}$：一般部位$i$の断熱部分の熱貫流率(W/m<sup>2</sup>K)   \n",
    "$U_{r,i}$：一般部位$i$の補正熱貫流率(W/m<sup>2</sup>K)  \n"
   ]
  },
  {
   "cell_type": "markdown",
   "metadata": {},
   "source": [
    "<div style=\"text-align: center;font-weight: bold;\">表　鉄骨造における一般部位の熱橋部分（柱及び梁以外）の仕様に応じた補正熱貫流率</div>\n",
    "\n",
    "<table>\n",
    "<thead>\n",
    "<tr>\n",
    "<th>「外装材＋断熱補強材」の熱抵抗(m<sup>2・</sup>K/W)</th>\n",
    "<th>補正熱貫流率 $U_r$</th>\n",
    "</tr>\n",
    "</thead>\n",
    "\n",
    "<tbody>\n",
    "<tr><th>1.7以上</th><td>0.00</td></tr>\n",
    "<tr><th>1.7未満1.5以上</th><td>0.10</td></tr>\n",
    "<tr><th>1.5未満1.3以上</th><td>0.13</td></tr>\n",
    "<tr><th>1.3未満1.1以上</th><td>0.14</td></tr>\n",
    "<tr><th>1.1未満0.9以上</th><td>0.18</td></tr>\n",
    "<tr><th>0.9未満0.7以上</th><td>0.22</td></tr>\n",
    "<tr><th>0.7未満0.5以上</th><td>0.40</td></tr>\n",
    "<tr><th>0.5未満0.3以上</th><td>0.45</td></tr>\n",
    "<tr><th>0.3未満0.1以上</th><td>0.60</td></tr>\n",
    "<tr><th>0.1未満</th><td>0.70</td></tr>\n",
    "</tbody>\n",
    "</table>\n"
   ]
  },
  {
   "cell_type": "markdown",
   "metadata": {},
   "source": [
    "#### 5.1.4 一般部位の断面構成が同一である部分の熱貫流率"
   ]
  },
  {
   "cell_type": "markdown",
   "metadata": {},
   "source": [
    "$$\\large\n",
    "U_{i,k} = \\frac{1}{R_{se,i} + R_{si,i} + \\sum_{l} R_{i,k,l}}\n",
    "$$"
   ]
  },
  {
   "cell_type": "markdown",
   "metadata": {},
   "source": [
    "$U_{i,k}$：一般部位$i$の部分$k$の熱貫流率(W/m<sup>2</sup>K)  \n",
    "$R_{se,i}$：一般部位$i$の熱的境界外側の表面熱伝達抵抗(m<sup>2</sup>K/W)   \n",
    "$R_{si,i}$：一般部位$i$の熱的境界内側の表面熱伝達抵抗(m<sup>2</sup>K/W)  \n",
    "$R_{i,k,l}$：一般部位$i$の部分$k$の層$l$の熱抵抗(m<sup>2</sup>K/W)  \n"
   ]
  },
  {
   "cell_type": "markdown",
   "metadata": {},
   "source": [
    "$$\\large\n",
    "R_{i,k,l} = \\frac{d_{i,k,l}}{\\lambda_{i,k,l}}\n",
    "$$"
   ]
  },
  {
   "cell_type": "markdown",
   "metadata": {},
   "source": [
    "$d_{i,k,l}$：一般部位$i$の部分$k$の層$l$の建材等の厚さ(m)  \n",
    "$\\lambda_{i,k,l}$：一般部位$i$の部分$k$の層$l$の建材等の熱伝導率(W/m K)  \n"
   ]
  },
  {
   "cell_type": "markdown",
   "metadata": {},
   "source": [
    "<div style=\"text-align: center;font-weight: bold;\">表　木造における外張断熱における断熱材熱抵抗の低減率</div>\n",
    "\n",
    "<table>\n",
    "<thead>\n",
    "<tr>\n",
    "<th>&nbsp;</th>\n",
    "<th>１層張りの下地併用の場合</th>\n",
    "</tr>\n",
    "</thead>\n",
    "\n",
    "<tbody>\n",
    "<tr><th>木造軸組構法・木造枠組壁工法</th><td>0.9</td></tr>\n",
    "</tbody>\n",
    "</table>\n"
   ]
  },
  {
   "cell_type": "markdown",
   "metadata": {},
   "source": [
    "#### 5.2 開口部"
   ]
  },
  {
   "cell_type": "markdown",
   "metadata": {},
   "source": [
    "#### 5.2.1 付属部材が付与されずかつ風除室に面しない場合"
   ]
  },
  {
   "cell_type": "markdown",
   "metadata": {},
   "source": [
    "省略"
   ]
  },
  {
   "cell_type": "markdown",
   "metadata": {},
   "source": [
    "#### 5.2.2 付属部材が付与される場合"
   ]
  },
  {
   "cell_type": "markdown",
   "metadata": {},
   "source": [
    "$$\\large\n",
    "U_{i} = 0.5U_{d,i} + 0.5U_{d,r,i}\n",
    "$$"
   ]
  },
  {
   "cell_type": "markdown",
   "metadata": {},
   "source": [
    "$U_{i}$：開口部$i$の熱貫流率(W/m<sup>2</sup>K)  \n",
    "$U_{d,i}$：窓又はドア$i$の熱貫流率(W/m<sup>2</sup>K)   \n",
    "$U_{d,r,i}$：付属部材が付与された窓又はドア$i$の熱貫流率(W/m<sup>2</sup>K)  \n"
   ]
  },
  {
   "cell_type": "markdown",
   "metadata": {},
   "source": [
    "$$\\large\n",
    "U_{d,r,i} = \\frac{1}{ \\frac{1}{U_{d,i}} + \\Delta R_{atc,i} }\n",
    "$$"
   ]
  },
  {
   "cell_type": "markdown",
   "metadata": {},
   "source": [
    "$\\Delta R_{atc,i}$：開口部$i$に付与される付属部材の熱抵抗として表に定める値(m<sup>2</sup>K/W) "
   ]
  },
  {
   "cell_type": "markdown",
   "metadata": {},
   "source": [
    "<div style=\"text-align: center;font-weight: bold;\">表　付属部材の熱抵抗</div>\n",
    "\n",
    "<table>\n",
    "<thead>\n",
    "<tr>\n",
    "<th>付属部材の種類等</th>\n",
    "<th>熱抵抗 $\\Delta R_{atc}$ (m<sup>2</sup>K/W)</th>\n",
    "</tr>\n",
    "</thead>\n",
    "\n",
    "<tbody>\n",
    "<tr><th>シャッター又は雨戸</th><td>0.10</td></tr>\n",
    "<tr><th>障子</th><td>0.18</td></tr>\n",
    "</tbody>\n",
    "</table>\n"
   ]
  },
  {
   "cell_type": "markdown",
   "metadata": {},
   "source": [
    "#### 5.2.3 風除室に面する場合"
   ]
  },
  {
   "cell_type": "markdown",
   "metadata": {},
   "source": [
    "$$\\large\n",
    "U_{i} = \\frac{1}{ \\frac{1}{U_{d,i}} + 0.1 }\n",
    "$$"
   ]
  },
  {
   "cell_type": "markdown",
   "metadata": {},
   "source": [
    "$U_{i}$：開口部$i$の熱貫流率(W/m<sup>2</sup>K)  \n",
    "$U_{d,i}$：窓又はドア$i$の熱貫流率(W/m<sup>2</sup>K)   \n"
   ]
  },
  {
   "cell_type": "markdown",
   "metadata": {},
   "source": [
    "#### 5.2.4 窓又はドアの熱貫流率"
   ]
  },
  {
   "cell_type": "markdown",
   "metadata": {},
   "source": [
    "二重窓の場合"
   ]
  },
  {
   "cell_type": "markdown",
   "metadata": {},
   "source": [
    "$$\\large\n",
    "U_{d} = \\frac{1}{ \\frac{1}{U_{d,ex}} + \\frac{A_{ex}}{A_{in} U_{d,in}} - R_{s} + \\Delta R_{a} }\n",
    "$$"
   ]
  },
  {
   "cell_type": "markdown",
   "metadata": {},
   "source": [
    "$U_{d}$：窓の熱貫流率(W/m<sup>2</sup>K)  \n",
    "$U_{d,ex}$：二重窓における外気側窓の熱貫流率(W/m<sup>2</sup>K)   \n",
    "$U_{d,in}$：二重窓における室内側窓の熱貫流率(W/m<sup>2</sup>K)  \n",
    "$A_{ex}$：二重窓における外気側窓の伝熱開口面積(m<sup>2</sup>)   \n",
    "$A_{in}$：二重窓における室内側窓の伝熱開口面積(m<sup>2</sup>)  \n",
    "$R_{s}$：二重窓における外気側と室内側の表面熱伝達抵抗の和(m<sup>2</sup>K/W)   \n",
    "$\\Delta R_{a}$：二重窓における二重窓中空層の熱抵抗(m<sup>2</sup>K/W)   \n"
   ]
  },
  {
   "cell_type": "markdown",
   "metadata": {},
   "source": [
    "二重窓における外気側と室内側の表面熱伝達抵抗の和$R_{s}$は0.17とし、二重窓における二重窓中空層の熱抵抗$\\Delta R_{a}$は0.173とする。"
   ]
  },
  {
   "cell_type": "markdown",
   "metadata": {},
   "source": [
    "### 6. 熱橋等の線熱貫流率"
   ]
  },
  {
   "cell_type": "markdown",
   "metadata": {},
   "source": [
    "#### 6.1 熱橋"
   ]
  },
  {
   "cell_type": "markdown",
   "metadata": {},
   "source": [
    "#### 6.1.1 木造"
   ]
  },
  {
   "cell_type": "markdown",
   "metadata": {},
   "source": [
    "熱橋$j$の線熱貫流率$\\Psi_{j}$は0 W/m K とする。 "
   ]
  },
  {
   "cell_type": "markdown",
   "metadata": {},
   "source": [
    "#### 6.1.2 鉄筋コンクリート造等"
   ]
  },
  {
   "cell_type": "markdown",
   "metadata": {},
   "source": [
    "省略"
   ]
  },
  {
   "cell_type": "markdown",
   "metadata": {},
   "source": [
    "#### 6.1.3 鉄骨造"
   ]
  },
  {
   "cell_type": "markdown",
   "metadata": {},
   "source": [
    "<div style=\"text-align: center;font-weight: bold;\">表　鉄骨造における一般部位の熱橋の線熱貫流率</div>\n",
    "\n",
    "<table>\n",
    "<thead>\n",
    "<tr>\n",
    "<th rowspan=\"3\">「外装材＋断熱補強材」の<br>熱抵抗(m<sup>2 </sup>K/W)</th>\n",
    "<th colspan=\"4\" style=\"text-align:center;\">一般部位の熱橋の線熱貫流率</th>\n",
    "</tr>\n",
    "<tr>\n",
    "<th colspan=\"4\" style=\"text-align:center;\">柱見付寸法（mm）</th>\n",
    "</tr>\n",
    "<tr>\n",
    "<th>300以上</th>\n",
    "<th>200以上300未満</th>\n",
    "<th>100以上200未満</th>\n",
    "<th>100未満</th>\n",
    "</tr>\n",
    "</thead>\n",
    "\n",
    "<tbody>\n",
    "<tr><th>1.7以上</th><td>0</td><td>0</td><td>0</td><td>0</td></tr>\n",
    "<tr><th>1.7未満1.5以上</th><td>0.15</td><td>0.12</td><td>0.05</td><td>0.04</td></tr>\n",
    "<tr><th>1.5未満1.3以上</th><td>0.18</td><td>0.14</td><td>0.06</td><td>0.05</td></tr>\n",
    "<tr><th>1.3未満1.1以上</th><td>0.20</td><td>0.16</td><td>0.07</td><td>0.06</td></tr>\n",
    "<tr><th>1.1未満0.9以上</th><td>0.25</td><td>0.18</td><td>0.08</td><td>0.07</td></tr>\n",
    "<tr><th>0.9未満0.7以上</th><td>0.30</td><td>0.22</td><td>0.11</td><td>0.09</td></tr>\n",
    "<tr><th>0.7未満0.5以上</th><td>0.35</td><td>0.27</td><td>0.12</td><td>0.10</td></tr>\n",
    "<tr><th>0.5未満0.3以上</th><td>0.43</td><td>0.32</td><td>0.15</td><td>0.14</td></tr>\n",
    "<tr><th>0.3未満0.1以上</th><td>0.60</td><td>0.40</td><td>0.18</td><td>0.17</td></tr>\n",
    "<tr><th>0.1未満</th><td>0.80</td><td>0.55</td><td>0.25</td><td>0.21</td></tr>\n",
    "</tbody>\n",
    "</table>\n"
   ]
  },
  {
   "cell_type": "markdown",
   "metadata": {},
   "source": [
    "<div style=\"text-align: center;font-weight: bold;\">表　鉄骨造における一般部位の熱橋の線熱貫流率</div>\n",
    "\n",
    "<table>\n",
    "<thead>\n",
    "<tr>\n",
    "<th rowspan=\"3\">「外装材＋断熱補強材」の<br>熱抵抗(m<sup>2 </sup>K/W)</th>\n",
    "<th colspan=\"3\" style=\"text-align:center;\">一般部位の熱橋の線熱貫流率</th>\n",
    "</tr>\n",
    "<tr>\n",
    "<th colspan=\"3\" style=\"text-align:center;\">梁見付寸法（mm）</th>\n",
    "</tr>\n",
    "<tr>\n",
    "<th>400以上</th>\n",
    "<th>200以上400未満</th>\n",
    "<th>200未満</th>\n",
    "</tr>\n",
    "</thead>\n",
    "\n",
    "<tbody>\n",
    "<tr><th>1.7以上</th><td>0</td><td>0</td><td>0</td></tr>\n",
    "<tr><th>1.7未満1.5以上</th><td>0.35</td><td>0.20</td><td>0.10</td></tr>\n",
    "<tr><th>1.5未満1.3以上</th><td>0.45</td><td>0.30</td><td>0.15</td></tr>\n",
    "<tr><th>1.3未満1.1以上</th><td>0.50</td><td>0.35</td><td>0.20</td></tr>\n",
    "<tr><th>1.1未満0.9以上</th><td>0.55</td><td>0.40</td><td>0.25</td></tr>\n",
    "<tr><th>0.9未満0.7以上</th><td>0.60</td><td>0.45</td><td>0.30</td></tr>\n",
    "<tr><th>0.7未満0.5以上</th><td>0.65</td><td>0.50</td><td>0.35</td></tr>\n",
    "<tr><th>0.5未満0.3以上</th><td>0.75</td><td>0.60</td><td>0.40</td></tr>\n",
    "<tr><th>0.3未満0.1以上</th><td>1.00</td><td>0.75</td><td>0.45</td></tr>\n",
    "<tr><th>0.1未満</th><td>1.20</td><td>1.10</td><td>0.60</td></tr></tbody>\n",
    "</table>\n"
   ]
  },
  {
   "cell_type": "markdown",
   "metadata": {},
   "source": [
    "#### 6.2 土間床等の外周部"
   ]
  },
  {
   "cell_type": "markdown",
   "metadata": {},
   "source": [
    "省略"
   ]
  },
  {
   "cell_type": "markdown",
   "metadata": {},
   "source": [
    "#### 基礎等の熱損失を含めた土間床等の外周部の線熱貫流率"
   ]
  },
  {
   "cell_type": "markdown",
   "metadata": {},
   "source": [
    "基礎等の熱貫流率$\\Psi_{F,j}$が、0.05W/m K 未満の場合は、基礎等の熱貫流率$\\Psi_{F,j}$は0.05 W/m K とする。"
   ]
  },
  {
   "cell_type": "markdown",
   "metadata": {},
   "source": [
    "$$\n",
    "\\Psi_{F,j} = 1.80 - 1.36 \\big( R_{1} (H_{1}+W_{1}) + R_{4} (H_{1}-H_{2}) \\big)^{0.15} - 0.01 (6.14-R_{1}) \\big(R_{2}+0.5R_{3})W \\big)^{0.5}\n",
    "$$"
   ]
  },
  {
   "cell_type": "markdown",
   "metadata": {},
   "source": [
    "$$\n",
    "\\Psi_{F,j} = \\left\\{ \\begin{array}{ll}\n",
    "    0.76 -  0.05 (R_{1}+R_{4}) - 0.1 (R_{2}+0.5R_{3}) & (R_{1} + R_{4} \\ge 3のとき) \\\\\n",
    "    1.30 -  0.23 (R_{1}+R_{4}) - 0.1 (R_{2}+0.5R_{3})W　& (3 > (R_{1} + R_{4}) \\ge 0.1のとき) \\\\\n",
    "    1.80 -  0.1 (R_{2}+0.5R_{3})W　& (0.1 > (R_{1} + R_{4})のとき) \\\\\n",
    "\\end{array}\n",
    "\\right.\n",
    "$$"
   ]
  },
  {
   "cell_type": "markdown",
   "metadata": {},
   "source": [
    "$$\n",
    "\\Psi_{F,j} = \\left\\{ \\begin{array}{ll}\n",
    "    1.80 - 1.47 (R_{1}+R_{4})^{0.08} & ((R_{1} + R_{4}) \\ge 3のとき)\\\\\n",
    "    1.80 - 1.36 (R_{1}+R_{4})^{0.15} & ((R_{1} + R_{4}) < 3のとき)\\\\\n",
    "\\end{array}\n",
    "\\right.\n",
    "$$"
   ]
  },
  {
   "cell_type": "markdown",
   "metadata": {},
   "source": [
    "$$\n",
    "\\Psi_{F,j} = \\left\\{ \\begin{array}{ll}\n",
    "    0.36 - 0.03 (R_{1}+R_{4}) & ((R_{1} + R_{4}) \\ge 2のとき)\\\\\n",
    "    1.80 - 0.75 (R_{1}+R_{4}) & ((R_{1} + R_{4}) < 2のとき)\\\\\n",
    "\\end{array}\n",
    "\\right.\n",
    "$$"
   ]
  },
  {
   "cell_type": "markdown",
   "metadata": {},
   "source": [
    "$\\Psi_{F,j}$：土間床等の外周部及び基礎等の線熱貫流率(W/m<sup>2</sup>K)  \n",
    "$R_{1}$：基礎等の立ち上がり部分の外気側に設置した断熱材の熱抵抗(m<sup>2</sup>K/W)   \n",
    "$R_{2}$：基礎等の底盤部分等の室内側に設置した断熱材の熱抵抗(m<sup>2</sup>K/W)   \n",
    "$R_{3}$：基礎等の底盤部分等の外気側に設置した断熱材の熱抵抗(m<sup>2</sup>K/W)   \n",
    "$R_{4}$：基礎等の立ち上がり部分の室内側に設置した断熱材の熱抵抗(m<sup>2</sup>K/W)   \n",
    "$H_{1}$：地盤面からの基礎等の寸法（0.4を超える場合は0.4とする。）(m)   \n",
    "$H_{2}$：地盤面からの基礎等の底盤等上端までの寸法。ただし、地盤面より上方を正の値、下方を負の値とする。(m)   \n",
    "$W_{1}$：地盤面より下の基礎等の立ち上がり部分の外気側の断熱材の施工深さ(m)   \n",
    "$W_{2}$：基礎等の底盤部分等の室内側に設置した断熱材の水平方向の折返し寸法(m)   \n",
    "$W_{3}$：基礎等の底盤部分等の外気側に設置した断熱材の水平方向の折返し寸法(m)   \n",
    "$W$：$W_{2}$及び$W_{3}$の寸法のうちいずれか大きい方の寸法。ただし、0.9を超える場合は0.9とする。(m)   \n"
   ]
  },
  {
   "cell_type": "markdown",
   "metadata": {},
   "source": [
    "## 付録 A 住宅の平均熱貫流率算出に用いる建材等の熱物性値等 "
   ]
  },
  {
   "cell_type": "markdown",
   "metadata": {},
   "source": [
    "省略"
   ]
  },
  {
   "cell_type": "markdown",
   "metadata": {},
   "source": [
    "## 付録 B 窓又はドアの熱貫流率 "
   ]
  },
  {
   "cell_type": "markdown",
   "metadata": {},
   "source": [
    "省略"
   ]
  },
  {
   "cell_type": "markdown",
   "metadata": {},
   "source": [
    "## 付録 C 鉄筋コンクリート造等住宅の熱橋形状等に応じた線熱貫流率"
   ]
  },
  {
   "cell_type": "markdown",
   "metadata": {},
   "source": [
    "省略"
   ]
  }
 ],
 "metadata": {
  "kernelspec": {
   "display_name": "Python 3",
   "language": "python",
   "name": "python3"
  },
  "language_info": {
   "codemirror_mode": {
    "name": "ipython",
    "version": 3
   },
   "file_extension": ".py",
   "mimetype": "text/x-python",
   "name": "python",
   "nbconvert_exporter": "python",
   "pygments_lexer": "ipython3",
   "version": "3.7.1"
  }
 },
 "nbformat": 4,
 "nbformat_minor": 2
}
