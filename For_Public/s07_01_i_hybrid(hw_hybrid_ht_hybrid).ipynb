{
 "cells": [
  {
   "cell_type": "markdown",
   "metadata": {},
   "source": [
    "## 付録I　電気ヒートポンプ・ガス瞬間式併用型給湯温水暖房機（給湯熱源：電気ヒートポンプ・ガス瞬間式併用、暖房熱源：電気ヒートポンプ・ガス瞬間式併用）"
   ]
  },
  {
   "cell_type": "markdown",
   "metadata": {},
   "source": [
    "### I.1 記号及び単位"
   ]
  },
  {
   "cell_type": "markdown",
   "metadata": {},
   "source": [
    "省略"
   ]
  },
  {
   "cell_type": "markdown",
   "metadata": {},
   "source": [
    "### I.2 消費電力量"
   ]
  },
  {
   "cell_type": "markdown",
   "metadata": {},
   "source": [
    "$L''_{k,d}+L''_{s,d}+L''_{w,d}+L''_{b2,d}+L''_{ba2,d}+L_{HWH,d} = 0 $\n",
    "の場合"
   ]
  },
  {
   "cell_type": "markdown",
   "metadata": {},
   "source": [
    "$$\\large\n",
    "E_{E,hs,d,t} = E_{E,hs,d} \\div 24\n",
    "$$"
   ]
  },
  {
   "cell_type": "markdown",
   "metadata": {},
   "source": [
    "$L''_{k,d}+L''_{s,d}+L''_{w,d}+L''_{b2,d}+L''_{ba2,d}+L_{HWH,d} > 0$\n",
    "の場合"
   ]
  },
  {
   "cell_type": "markdown",
   "metadata": {},
   "source": [
    "$$\\large\n",
    "E_{E,hs,d,t} = E_{E,hs,d} \\times \\frac{L''_{k,d,t}+L''_{s,d,t}+L''_{w,d,t}+L''_{b2,d,t}+L''_{ba2,d,t}+L_{HWH,d,t}}{L''_{k,d}+L''_{s,d}+L''_{w,d}+L''_{b2,d}+L''_{ba2,d}+L_{HWH,d}}\n",
    "$$"
   ]
  },
  {
   "cell_type": "markdown",
   "metadata": {},
   "source": [
    "$E_{E,hs,d}$：日付$d$における1 日当たりの給湯機の消費電力量(kWh/d)  \n",
    "$E_{E,hs,d,t}$：日付$d$の時刻$t$における1時間当たりの給湯機の消費電力量(kWh/h)  \n",
    "$ L''_{k,d} $：日付$d$における1 日当たりの台所水栓における太陽熱補正給湯熱負荷(MJ/d)  \n",
    "$ L''_{s,d} $：日付$d$における1 日当たりの浴室シャワー水栓における太陽熱補正給湯熱負荷(MJ/d)  \n",
    "$ L''_{w,d} $：日付$d$における1 日当たりの洗面水栓における太陽熱補正給湯熱負荷(MJ/d)  \n",
    "$ L''_{b2,d} $：日付$d$における1 日当たりの浴槽自動湯はり時における太陽熱補正給湯熱負荷(MJ/d)  \n",
    "$ L''_{ba2,d} $：日付$d$における1 日当たりの浴槽追焚時における太陽熱補正給湯熱負荷(MJ/d)  \n",
    "$L_{HWH,d}$：日付$d$における1日当たりの温水暖房の熱負荷(MJ/d)  \n",
    "$ L''_{k,d,t} $：日付$d$の時刻$t$における 1時間当たりの台所水栓における太陽熱補正給湯熱負荷(MJ/h)  \n",
    "$ L''_{s,d,t} $：日付$d$の時刻$t$における 1時間当たりの浴室シャワー水栓における太陽熱補正給湯熱負荷(MJ/h)  \n",
    "$ L''_{w,d,t} $：日付$d$の時刻$t$における 1時間当たりの洗面水栓における太陽熱補正給湯熱負荷(MJ/h)  \n",
    "$ L''_{b2,d,t} $：日付$d$の時刻$t$における 1時間当たりの浴槽自動湯はり時における太陽熱補正給湯熱負荷(MJ/h)  \n",
    "$ L''_{ba2,d,t} $：日付$d$の時刻$t$における 1時間当たりの浴槽追焚時における太陽熱補正給湯熱負荷(MJ/h)  \n",
    "$L_{HWH,d,t}$：日付$d$の時刻$t$における 1時間当たりの温水暖房の熱負荷(MJ/h)  "
   ]
  },
  {
   "cell_type": "markdown",
   "metadata": {},
   "source": [
    "$$\\large\n",
    "E_{E,hs,d} = \\{ (a_{1} \\times \\theta_{ex,Ave,d} + a_{2} \\times (L''_{k,d}+L''_{s,d}+L''_{w,d}+L''_{b2,d}) + a_{3} \\times L_{HWH,d} + a_{4}) \\times C_{E,def,d} \\\\\n",
    "\\large + (0.01723 \\times L''_{ba2,d} + 0.06099) \\} \\times 10^{3} \\div 3600\n",
    "$$"
   ]
  },
  {
   "cell_type": "markdown",
   "metadata": {},
   "source": [
    "$ C_{E,def,d} $：日付$d$における1 日当たりのデフロスト運転による消費電力量の補正係数(-)  \n",
    "$E_{E,hs,d}$：日付$d$における1 日当たりの給湯機の消費電力量(kWh/d)  \n",
    "$ L''_{k,d} $：日付$d$における1 日当たりの台所水栓における太陽熱補正給湯熱負荷(MJ/d)  \n",
    "$ L''_{s,d} $：日付$d$における1 日当たりの浴室シャワー水栓における太陽熱補正給湯熱負荷(MJ/d)  \n",
    "$ L''_{w,d} $：日付$d$における1 日当たりの洗面水栓における太陽熱補正給湯熱負荷(MJ/d)  \n",
    "$ L''_{b2,d} $：日付$d$における1 日当たりの浴槽自動湯はり時における太陽熱補正給湯熱負荷(MJ/d)  \n",
    "$ L''_{ba2,d} $：日付$d$における1 日当たりの浴槽追焚時における太陽熱補正給湯熱負荷(MJ/d)  \n",
    "$L_{HWH,d}$：日付$d$における1 日当たりの温水暖房の熱負荷(MJ/d)  \n",
    "$\\theta_{ex,Ave,d}$：日付$d$における日平均外気温度(℃)  \n",
    "$a_{1}, a_{2}, a_{3}, a_{4}$：係数(-)  "
   ]
  },
  {
   "cell_type": "markdown",
   "metadata": {},
   "source": [
    "1 日当たりの温水暖房の熱負荷$L_{HWH,d}$が0より大の場合は（い）欄の値を用いることとし、0に等しい場合は（ろ）欄の値を用いることとする。 "
   ]
  },
  {
   "cell_type": "markdown",
   "metadata": {},
   "source": [
    "<div style=\"text-align: center;font-weight: bold;\">表　係数</div>\n",
    "\n",
    "<table>\n",
    "<thead>\n",
    "<tr>\n",
    "<th rowspan=\"2\">係数</th>\n",
    "<th colspan=\"2\" style=\"text-align:center;\">（い）1 日当たりの温水暖房の熱負荷$L_{HWH,d}$が<br>0 より大の場合</th>\n",
    "<th colspan=\"2\" style=\"text-align:center;\">（ろ）1 日当たりの温水暖房の熱負荷$L_{HWH,d}$が<br>0 の場合</th>\n",
    "</tr>\n",
    "<tr>\n",
    "<th>区分 1</th>\n",
    "<th>区分 2</th>\n",
    "<th>区分 1</th>\n",
    "<th>区分 2</th>\n",
    "</tr>\n",
    "</thead>\n",
    "\n",
    "<tbody>\n",
    "<tr>\n",
    "<th>$a_{1}$</th><td>-0.51375</td><td>-0.57722</td><td>-0.18114</td><td>-0.30429</td>\n",
    "</tr>\n",
    "<tr>\n",
    "<th>$a_{2}$</th><td>-0.01782</td><td>0.03865</td><td>0.10483</td><td>0.08497</td>\n",
    "</tr>\n",
    "<tr>\n",
    "<th>$a_{3}$</th><td>0.27640</td><td>0.18173</td><td>0.0</td><td>0.0</td>\n",
    "</tr>\n",
    "<tr>\n",
    "<th>$a_{4}$</th><td>9.40671</td><td>15.30711</td><td>5.85285</td><td>10.66158</td>\n",
    "</tr>\n",
    "</tbody>\n",
    "</table>"
   ]
  },
  {
   "cell_type": "markdown",
   "metadata": {},
   "source": [
    "$$\\large\n",
    "C_{E,def,d} = \\left\\{ \\begin{array}{ll}\n",
    "    1.0 &(7 \\leq \\theta_{ex,Ave,d}の場合)\\\\ \n",
    "    1 + (7 - \\theta_{ex,Ave,d}) \\times 0.0091 &(\\theta_{ex,Ave,d} < 7の場合)\\\\ \n",
    "    \\end{array}\n",
    "\\right.\n",
    "$$"
   ]
  },
  {
   "cell_type": "markdown",
   "metadata": {},
   "source": [
    "$ C_{E,def,d} $：日付$d$における1 日当たりのデフロスト運転による消費電力量の補正係数(-)  \n",
    "$\\theta_{ex,Ave,d}$：日付$d$における日平均外気温度(℃)  "
   ]
  },
  {
   "cell_type": "markdown",
   "metadata": {},
   "source": [
    "### I.3 ガス消費量"
   ]
  },
  {
   "cell_type": "markdown",
   "metadata": {},
   "source": [
    "$L''_{k,d}+L''_{s,d}+L''_{w,d}+L''_{b2,d}+L''_{ba2,d} = 0 $\n",
    "の場合"
   ]
  },
  {
   "cell_type": "markdown",
   "metadata": {},
   "source": [
    "$$\\large\n",
    "E_{G,hs,d,t} = E_{G,hs,d} \\div 24\n",
    "$$"
   ]
  },
  {
   "cell_type": "markdown",
   "metadata": {},
   "source": [
    "$L''_{k,d}+L''_{s,d}+L''_{w,d}+L''_{b2,d}+L''_{ba2,d} > 0$\n",
    "の場合"
   ]
  },
  {
   "cell_type": "markdown",
   "metadata": {},
   "source": [
    "$$\\large\n",
    "E_{G,hs,d,t} = E_{G,hs,d} \\times \\frac{L''_{k,d,t}+L''_{s,d,t}+L''_{w,d,t}+L''_{b2,d,t}+L''_{ba2,d,t}}{L''_{k,d}+L''_{s,d}+L''_{w,d}+L''_{b2,d}+L''_{ba2,d}}\n",
    "$$"
   ]
  },
  {
   "cell_type": "markdown",
   "metadata": {},
   "source": [
    "$E_{G,hs,d}$：日付$d$における1 日当たりの給湯機のガス消費量(MJ/d)  \n",
    "$E_{G,hs,d,t}$：日付$d$の時刻$t$における1時間当たりの給湯機のガス消費量(MJ/h)  \n",
    "$ L''_{k,d} $：日付$d$における1 日当たりの台所水栓における太陽熱補正給湯熱負荷(MJ/d)  \n",
    "$ L''_{s,d} $：日付$d$における1 日当たりの浴室シャワー水栓における太陽熱補正給湯熱負荷(MJ/d)  \n",
    "$ L''_{w,d} $：日付$d$における1 日当たりの洗面水栓における太陽熱補正給湯熱負荷(MJ/d)  \n",
    "$ L''_{b2,d} $：日付$d$における1 日当たりの浴槽自動湯はり時における太陽熱補正給湯熱負荷(MJ/d)  \n",
    "$ L''_{ba2,d} $：日付$d$における1 日当たりの浴槽追焚時における太陽熱補正給湯熱負荷(MJ/d)  \n",
    "$ L''_{k,d,t} $：日付$d$の時刻$t$における 1時間当たりの台所水栓における太陽熱補正給湯熱負荷(MJ/h)  \n",
    "$ L''_{s,d,t} $：日付$d$の時刻$t$における 1時間当たりの浴室シャワー水栓における太陽熱補正給湯熱負荷(MJ/h)  \n",
    "$ L''_{w,d,t} $：日付$d$の時刻$t$における 1時間当たりの洗面水栓における太陽熱補正給湯熱負荷(MJ/h)  \n",
    "$ L''_{b2,d,t} $：日付$d$の時刻$t$における 1時間当たりの浴槽自動湯はり時における太陽熱補正給湯熱負荷(MJ/h)  \n",
    "$ L''_{ba2,d,t} $：日付$d$の時刻$t$における 1時間当たりの浴槽追焚時における太陽熱補正給湯熱負荷(MJ/h)  "
   ]
  },
  {
   "cell_type": "markdown",
   "metadata": {},
   "source": [
    "$$\\large\n",
    "E_{G,hs,d} = \\bigg \\{ (b_{1} \\times \\theta_{ex,Ave,d} + b_{2} \\times (L''_{k,d}+L''_{s,d}+L''_{w,d}+L''_{b2,d}) + b_{3} \\times L_{HWH,d} + b_{4})\\\\\n",
    "\\large \\times C_{G,def,d} + \\frac{L''_{ba2,d}}{e_{ba2,d}} \\bigg \\}\n",
    "$$"
   ]
  },
  {
   "cell_type": "markdown",
   "metadata": {},
   "source": [
    "$ C_{G,def,d} $：日付$d$における1 日当たりのデフロスト運転によるガス消費量の補正係数(-)  \n",
    "$E_{G,hs,d}$：日付$d$における1 日当たりの給湯機のガス消費量(MJ/d)  \n",
    "$ e_{ba2,d} $：日付$d$における浴槽追焚時における日平均給湯機効率(-)  \n",
    "$ L''_{k,d} $：日付$d$における1 日当たりの台所水栓における太陽熱補正給湯熱負荷(MJ/d)  \n",
    "$ L''_{s,d} $：日付$d$における1 日当たりの浴室シャワー水栓における太陽熱補正給湯熱負荷(MJ/d)  \n",
    "$ L''_{w,d} $：日付$d$における1 日当たりの洗面水栓における太陽熱補正給湯熱負荷(MJ/d)  \n",
    "$ L''_{b2,d} $：日付$d$における1 日当たりの浴槽自動湯はり時における太陽熱補正給湯熱負荷(MJ/d)  \n",
    "$ L''_{ba2,d} $：日付$d$における1 日当たりの浴槽追焚時における太陽熱補正給湯熱負荷(MJ/d)  \n",
    "$L_{HWH,d}$：日付$d$における1 日当たりの温水暖房の熱負荷(MJ/d)  \n",
    "$\\theta_{ex,Ave,d}$：日付$d$における日平均外気温度(℃)  \n",
    "$b_{1}, b_{2}, b_{3}, b_{4}$：係数(-)  "
   ]
  },
  {
   "cell_type": "markdown",
   "metadata": {},
   "source": [
    "1 日当たりの温水暖房の熱負荷$L_{HWH,d}$が0より大の場合は（い）欄の値を用いることとし、0に等しい場合は（ろ）欄の値を用いることとする。 "
   ]
  },
  {
   "cell_type": "markdown",
   "metadata": {},
   "source": [
    "<div style=\"text-align: center;font-weight: bold;\">表　係数</div>\n",
    "\n",
    "<table>\n",
    "<thead>\n",
    "<tr>\n",
    "<th rowspan=\"2\">係数</th>\n",
    "<th colspan=\"2\" style=\"text-align:center;\">（い）1 日当たりの温水暖房の熱負荷$L_{HWH,d}$が<br>0 より大の場合</th>\n",
    "<th colspan=\"2\" style=\"text-align:center;\">（ろ）1 日当たりの温水暖房の熱負荷$L_{HWH,d}$が<br>0 の場合</th>\n",
    "</tr>\n",
    "<tr>\n",
    "<th>区分 1</th>\n",
    "<th>区分 2</th>\n",
    "<th>区分 1</th>\n",
    "<th>区分 2</th>\n",
    "</tr>\n",
    "</thead>\n",
    "\n",
    "<tbody>\n",
    "<tr>\n",
    "<th>$b_{1}$</th><td>-0.19841</td><td>-0.5782</td><td>-0.05770</td><td>0.14061</td>\n",
    "</tr>\n",
    "<tr>\n",
    "<th>$b_{2}$</th><td>1.10632 </td><td>0.75066</td><td>0.47525</td><td>0.3227</td>\n",
    "</tr>\n",
    "<tr>\n",
    "<th>$b_{3}$</th><td>0.19307</td><td>0.46244</td><td>0.0</td><td>0.0</td>\n",
    "</tr>\n",
    "<tr>\n",
    "<th>$b_{4}$</th><td>-10.36669</td><td>-12.55999</td><td>-6.34593</td><td>-13.43567</td>\n",
    "</tr>\n",
    "</tbody>\n",
    "</table>"
   ]
  },
  {
   "cell_type": "markdown",
   "metadata": {},
   "source": [
    "浴槽追焚時における日平均給湯機効率$e_{ba2,d}$は、1.0を超えない。"
   ]
  },
  {
   "cell_type": "markdown",
   "metadata": {},
   "source": [
    "$$\\large\n",
    "e_{ba2,d} = c_{1} \\times \\theta_{ex,Ave,d} + c_{2} \\times L''_{ba2,d} + c_{3}\n",
    "$$"
   ]
  },
  {
   "cell_type": "markdown",
   "metadata": {},
   "source": [
    "$ e_{ba2,d} $：日付$d$における浴槽追焚時における日平均給湯機効率(-)  \n",
    "$ L''_{ba2,d} $：日付$d$における1 日当たりの浴槽追焚時における太陽熱補正給湯熱負荷(MJ/d)  \n",
    "$\\theta_{ex,Ave,d}$：日付$d$における日平均外気温度(℃)  \n",
    "$c_{1}, c_{2}, c_{3}$：係数(-)  "
   ]
  },
  {
   "cell_type": "markdown",
   "metadata": {},
   "source": [
    "<div style=\"text-align: center;font-weight: bold;\">表　係数</div>\n",
    "\n",
    "<table>\n",
    "<tr><th>係数</th><td>値</td></tr>\n",
    "<tr><th>$c_{1}$</th><td>0.0048</td></tr>\n",
    "<tr><th>$c_{2}$</th><td>0.0060</td></tr>\n",
    "<tr><th>$c_{3}$</th><td>0.7544</td></tr>\n",
    "</table>\n"
   ]
  },
  {
   "cell_type": "markdown",
   "metadata": {},
   "source": [
    "$$\\large\n",
    "C_{G,def,d} = \\left\\{ \\begin{array}{ll}\n",
    "    1.0 &(7 \\leq \\theta_{ex,Ave,d}の場合)\\\\ \n",
    "    1 + (7 - \\theta_{ex,Ave,d}) \\times 0.0205 &(\\theta_{ex,Ave,d} < 7の場合)\\\\ \n",
    "    \\end{array}\n",
    "\\right.\n",
    "$$"
   ]
  },
  {
   "cell_type": "markdown",
   "metadata": {},
   "source": [
    "$ C_{G,def,d} $：日付$d$における1 日当たりのデフロスト運転によるガス消費量の補正係数(-)  \n",
    "$\\theta_{ex,Ave,d}$：日付$d$における日平均外気温度(℃)  "
   ]
  },
  {
   "cell_type": "markdown",
   "metadata": {},
   "source": [
    "### I.4 灯油消費量"
   ]
  },
  {
   "cell_type": "markdown",
   "metadata": {},
   "source": [
    "日付$d$の時刻$t$における1時間当たりの給湯機の灯油消費量$E_{K,hs,d,t}$は0とする。"
   ]
  },
  {
   "cell_type": "markdown",
   "metadata": {},
   "source": [
    "### I.5 １日当たりの太陽熱補正給湯熱負荷"
   ]
  },
  {
   "cell_type": "markdown",
   "metadata": {},
   "source": [
    "$$\\large\n",
    "\\displaystyle\n",
    "L''_{k,d} = \\sum_{t=0}^{23} L''_{k,d,t}\n",
    "$$\n",
    "\n",
    "$$\\large\n",
    "\\displaystyle\n",
    "L''_{s,d} = \\sum_{t=0}^{23} L''_{s,d,t}\n",
    "$$\n",
    "\n",
    "$$\\large\n",
    "\\displaystyle\n",
    "L''_{w,d} = \\sum_{t=0}^{23} L''_{w,d,t}\n",
    "$$\n",
    "\n",
    "$$\\large\n",
    "\\displaystyle\n",
    "L''_{b1,d} = \\sum_{t=0}^{23} L''_{b1,d,t}\n",
    "$$\n",
    "\n",
    "$$\\large\n",
    "\\displaystyle\n",
    "L''_{b2,d} = \\sum_{t=0}^{23} L''_{b2,d,t}\n",
    "$$\n",
    "\n",
    "$$\\large\n",
    "\\displaystyle\n",
    "L''_{ba1,d} = \\sum_{t=0}^{23} L''_{ba1,d,t}\n",
    "$$\n",
    "\n",
    "$$\\large\n",
    "\\displaystyle\n",
    "L''_{ba2,d} = \\sum_{t=0}^{23} L''_{ba2,d,t}\n",
    "$$\n"
   ]
  },
  {
   "cell_type": "markdown",
   "metadata": {},
   "source": [
    "$ L''_{k,d} $：日付$d$における1 日当たりの台所水栓における太陽熱補正給湯熱負荷(MJ/d)  \n",
    "$ L''_{s,d} $：日付$d$における1 日当たりの浴室シャワー水栓における太陽熱補正給湯熱負荷(MJ/d)  \n",
    "$ L''_{w,d} $：日付$d$における1 日当たりの洗面水栓における太陽熱補正給湯熱負荷(MJ/d)  \n",
    "$ L''_{b1,d} $：日付$d$における1 日当たりの浴槽水栓湯はり時における太陽熱補正給湯熱負荷(MJ/d)  \n",
    "$ L''_{b2,d} $：日付$d$における1 日当たりの浴槽自動湯はり時における太陽熱補正給湯熱負荷(MJ/d)  \n",
    "$ L''_{ba1,d} $：日付$d$における1 日当たりの浴槽水栓さし湯時における太陽熱補正給湯熱負荷(MJ/d)  \n",
    "$ L''_{ba2,d} $：日付$d$における1 日当たりの浴槽追焚時における太陽熱補正給湯熱負荷(MJ/d)  \n",
    "$ L''_{k,d,t} $：日付$d$の時刻$t$における 1時間当たりの台所水栓における太陽熱補正給湯熱負荷(MJ/h)  \n",
    "$ L''_{s,d,t} $：日付$d$の時刻$t$における 1時間当たりの浴室シャワー水栓における太陽熱補正給湯熱負荷(MJ/h)  \n",
    "$ L''_{w,d,t} $：日付$d$の時刻$t$における 1時間当たりの洗面水栓における太陽熱補正給湯熱負荷(MJ/h)  \n",
    "$ L''_{b1,d,t} $：日付$d$の時刻$t$における 1時間当たりの浴槽水栓湯はり時における太陽熱補正給湯熱負荷(MJ/h)  \n",
    "$ L''_{b2,d,t} $：日付$d$の時刻$t$における 1時間当たりの浴槽自動湯はり時における太陽熱補正給湯熱負荷(MJ/h)  \n",
    "$ L''_{ba1,d,t} $：日付$d$の時刻$t$における 1時間当たりの浴槽水栓さし湯時における太陽熱補正給湯熱負荷(MJ/h)  \n",
    "$ L''_{ba2,d,t} $：日付$d$の時刻$t$における 1時間当たりの浴槽追焚時における太陽熱補正給湯熱負荷(MJ/h)  "
   ]
  },
  {
   "cell_type": "markdown",
   "metadata": {},
   "source": [
    "### I.6１日当たりの温水暖房の熱負荷"
   ]
  },
  {
   "cell_type": "markdown",
   "metadata": {},
   "source": [
    "$$\\large\n",
    "\\displaystyle\n",
    "L_{HWH,d} = \\sum_{t=0}^{23} L_{HWH,d,t}\n",
    "$$\n"
   ]
  },
  {
   "cell_type": "markdown",
   "metadata": {},
   "source": [
    "$ L_{HWH,d} $：日付$d$における1 日当たりの温水暖房の熱負荷(MJ/d)  \n",
    "$ L_{HWH,d,t} $：日付$d$の時刻$t$における 1時間当たりの温水暖房の熱負荷(MJ/h)  \n"
   ]
  },
  {
   "cell_type": "markdown",
   "metadata": {},
   "source": [
    "### I.7 温水暖房における熱源機の往き温水温度の候補"
   ]
  },
  {
   "cell_type": "markdown",
   "metadata": {},
   "source": [
    "温水暖房における熱源機の往き温水温度の候補は、60℃及び40℃とする。"
   ]
  },
  {
   "cell_type": "markdown",
   "metadata": {},
   "source": [
    "### I.8 電気ヒートポンプ・ガス瞬間式併用型給湯機（給湯熱源：電気ヒートポンプ・ガス瞬間式併用、暖房熱源：電気ヒートポンプ・ガス瞬間式併用）の定義"
   ]
  },
  {
   "cell_type": "markdown",
   "metadata": {},
   "source": [
    "省略"
   ]
  }
 ],
 "metadata": {
  "kernelspec": {
   "display_name": "Python 3",
   "language": "python",
   "name": "python3"
  },
  "language_info": {
   "codemirror_mode": {
    "name": "ipython",
    "version": 3
   },
   "file_extension": ".py",
   "mimetype": "text/x-python",
   "name": "python",
   "nbconvert_exporter": "python",
   "pygments_lexer": "ipython3",
   "version": "3.6.7"
  }
 },
 "nbformat": 4,
 "nbformat_minor": 2
}
