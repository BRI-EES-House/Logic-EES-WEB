{
 "cells": [
  {
   "cell_type": "markdown",
   "metadata": {},
   "source": [
    "### 付録I　電気ヒートポンプ・ガス瞬間式併用型給湯温水暖房機（給湯熱源：電気ヒートポンプ・ガス瞬間式併用、暖房熱源：電気ヒートポンプ・ガス瞬間式併用）"
   ]
  },
  {
   "cell_type": "markdown",
   "metadata": {},
   "source": [
    "#### I.1 記号及び単位"
   ]
  },
  {
   "cell_type": "markdown",
   "metadata": {},
   "source": [
    "省略"
   ]
  },
  {
   "cell_type": "markdown",
   "metadata": {},
   "source": [
    "#### I.2 消費電力量"
   ]
  },
  {
   "cell_type": "markdown",
   "metadata": {},
   "source": [
    "$$\\large\n",
    "E_{E,hs} = \\{ (a_{1} \\times \\theta_{ex,Ave} + a_{2} \\times (L''_{k}+L''_{s}+L''_{w}+L''_{b2}) + a_{3} \\times L_{HWH} + a_{4}) \\times C_{E,def} \\\\\n",
    "\\large + (0.01723 \\times L''_{ba2} + 0.06099) \\} \\times 10^{3} \\div 3600\n",
    "$$"
   ]
  },
  {
   "cell_type": "markdown",
   "metadata": {},
   "source": [
    "$E_{E,hs}$：1 日当たりの給湯機の消費電力量(kWh/d)  \n",
    "$\\theta_{ex,Ave}$：日平均外気温度(℃)  \n",
    "$ L''_{k} $：1 日当たりの台所水栓における太陽熱補正給湯熱負荷(MJ/d)  \n",
    "$ L''_{s} $：1 日当たりの浴室シャワー水栓における太陽熱補正給湯熱負荷(MJ/d)  \n",
    "$ L''_{w} $：1 日当たりの洗面水栓における太陽熱補正給湯熱負荷(MJ/d)  \n",
    "$ L''_{b2} $：1 日当たりの浴槽自動湯はり時における太陽熱補正給湯熱負荷(MJ/d)  \n",
    "$ L''_{ba2} $：1 日当たりの浴槽追焚時における太陽熱補正給湯熱負荷(MJ/d)  \n",
    "$L_{HWH}$：1 日当たりの温水暖房の熱負荷(MJ/d)  \n",
    "$C_{E,def}$：1 日当たりのデフロスト運転による消費電力量の補正係数  "
   ]
  },
  {
   "cell_type": "markdown",
   "metadata": {},
   "source": [
    "1 日当たりの温水暖房の熱負荷$L_{HWH}$が0より大の場合は（い）欄の値を用いることとし、0に等しい場合は（ろ）欄の値を用いることとする。 "
   ]
  },
  {
   "cell_type": "markdown",
   "metadata": {},
   "source": [
    "<div style=\"text-align: center;font-weight: bold;\">表　係数</div>\n",
    "\n",
    "<table>\n",
    "<thead>\n",
    "<tr>\n",
    "<th rowspan=\"2\">係数</th>\n",
    "<th colspan=\"2\">（い）1 日当たりの温水暖房の熱負荷$L_{HWH}$が<br>0 より大の場合</th>\n",
    "<th colspan=\"2\">（ろ）1 日当たりの温水暖房の熱負荷$L_{HWH}$が<br>0 の場合</th>\n",
    "</tr>\n",
    "<tr>\n",
    "<th>区分 1</th>\n",
    "<th>区分 2</th>\n",
    "<th>区分 1</th>\n",
    "<th>区分 2</th>\n",
    "</tr>\n",
    "</thead>\n",
    "\n",
    "<tbody>\n",
    "<tr>\n",
    "<th>$a_{1}$</th><td>-0.51375</td><td>-0.57722</td><td>-0.18114</td><td>-0.30429</td>\n",
    "</tr>\n",
    "<tr>\n",
    "<th>$a_{2}$</th><td>-0.01782</td><td>0.03865</td><td>0.10483</td><td>0.08497</td>\n",
    "</tr>\n",
    "<tr>\n",
    "<th>$a_{3}$</th><td>0.27640</td><td>0.18173</td><td>0.0</td><td>0.0</td>\n",
    "</tr>\n",
    "<tr>\n",
    "<th>$a_{4}$</th><td>9.40671</td><td>15.30711</td><td>5.85285</td><td>10.66158</td>\n",
    "</tr>\n",
    "</tbody>\n",
    "</table>"
   ]
  },
  {
   "cell_type": "markdown",
   "metadata": {},
   "source": [
    "$$\\large\n",
    "C_{E,def} = \\left\\{ \\begin{array}{ll}\n",
    "    1.0 &(7 \\leq \\theta_{ex,Ave}の場合)\\\\ \n",
    "    1 + (7 - \\theta_{ex,Ave}) \\times 0.0091 &(\\theta_{ex,Ave} < 7の場合)\\\\ \n",
    "    \\end{array}\n",
    "\\right.\n",
    "$$"
   ]
  },
  {
   "cell_type": "markdown",
   "metadata": {},
   "source": [
    "#### I.3 ガス消費量"
   ]
  },
  {
   "cell_type": "markdown",
   "metadata": {},
   "source": [
    "$$\\large\n",
    "E_{G,hs} = \\bigg \\{ (b_{1} \\times \\theta_{ex,Ave} + b_{2} \\times (L''_{k}+L''_{s}+L''_{w}+L''_{b2}) + b_{3} \\times L_{HWH} + b_{4})\\\\\n",
    "\\large \\times C_{G,def} + \\frac{L''_{ba2}}{e_{ba2}} \\bigg \\}\n",
    "$$"
   ]
  },
  {
   "cell_type": "markdown",
   "metadata": {},
   "source": [
    "$E_{G,hs}$：1 日当たりの給湯機のガス消費量(MJ/d)  \n",
    "$\\theta_{ex,Ave}$：日平均外気温度(℃)  \n",
    "$ L''_{k} $：1 日当たりの台所水栓における太陽熱補正給湯熱負荷(MJ/d)  \n",
    "$ L''_{s} $：1 日当たりの浴室シャワー水栓における太陽熱補正給湯熱負荷(MJ/d)  \n",
    "$ L''_{w} $：1 日当たりの洗面水栓における太陽熱補正給湯熱負荷(MJ/d)  \n",
    "$ L''_{b2} $：1 日当たりの浴槽自動湯はり時における太陽熱補正給湯熱負荷(MJ/d)  \n",
    "$ L''_{ba2} $：1 日当たりの浴槽追焚時における太陽熱補正給湯熱負荷(MJ/d)  \n",
    "$L_{HWH}$：1 日当たりの温水暖房の熱負荷(MJ/d)  \n",
    "$ e_{ba2} $：浴槽追焚時における日平均給湯機効率  \n",
    "$ C_{G,def} $：1 日当たりのデフロスト運転によるガス消費量の補正係数 "
   ]
  },
  {
   "cell_type": "markdown",
   "metadata": {},
   "source": [
    "1 日当たりの温水暖房の熱負荷$L_{HWH}$が0より大の場合は（い）欄の値を用いることとし、0に等しい場合は（ろ）欄の値を用いることとする。 "
   ]
  },
  {
   "cell_type": "markdown",
   "metadata": {},
   "source": [
    "<div style=\"text-align: center;font-weight: bold;\">表　係数</div>\n",
    "\n",
    "<table>\n",
    "<thead>\n",
    "<tr>\n",
    "<th rowspan=\"2\">係数</th>\n",
    "<th colspan=\"2\">（い）1 日当たりの温水暖房の熱負荷$L_{HWH}$が<br>0 より大の場合</th>\n",
    "<th colspan=\"2\">（ろ）1 日当たりの温水暖房の熱負荷$L_{HWH}$が<br>0 の場合</th>\n",
    "</tr>\n",
    "<tr>\n",
    "<th>区分 1</th>\n",
    "<th>区分 2</th>\n",
    "<th>区分 1</th>\n",
    "<th>区分 2</th>\n",
    "</tr>\n",
    "</thead>\n",
    "\n",
    "<tbody>\n",
    "<tr>\n",
    "<th>$b_{1}$</th><td>-0.19841</td><td>-0.5782</td><td>-0.05770</td><td>0.14061</td>\n",
    "</tr>\n",
    "<tr>\n",
    "<th>$b_{2}$</th><td>1.10632 </td><td>0.75066</td><td>0.47525</td><td>0.3227</td>\n",
    "</tr>\n",
    "<tr>\n",
    "<th>$b_{3}$</th><td>0.19307</td><td>0.46244</td><td>0.0</td><td>0.0</td>\n",
    "</tr>\n",
    "<tr>\n",
    "<th>$b_{4}$</th><td>-10.36669</td><td>-12.55999</td><td>-6.34593</td><td>-13.43567</td>\n",
    "</tr>\n",
    "</tbody>\n",
    "</table>"
   ]
  },
  {
   "cell_type": "markdown",
   "metadata": {},
   "source": [
    "浴槽追焚時における日平均給湯機効率$e_{ba2}は、$1.0を超えない。"
   ]
  },
  {
   "cell_type": "markdown",
   "metadata": {},
   "source": [
    "$$\\large\n",
    "e_{ba2} = c_{1} \\times \\theta_{ex,Ave} + c_{2} \\times L''_{ba2} + c_{3}\n",
    "$$"
   ]
  },
  {
   "cell_type": "markdown",
   "metadata": {},
   "source": [
    "<div style=\"text-align: center;font-weight: bold;\">表　係数</div>\n",
    "\n",
    "<table>\n",
    "<tr><th>係数</th><td>値</td></tr>\n",
    "<tr><th>$c_{1}$</th><td>0.0048</td></tr>\n",
    "<tr><th>$c_{2}$</th><td>0.0060</td></tr>\n",
    "<tr><th>$c_{3}$</th><td>0.7544</td></tr>\n",
    "</table>\n"
   ]
  },
  {
   "cell_type": "markdown",
   "metadata": {},
   "source": [
    "$$\\large\n",
    "C_{G,def} = \\left\\{ \\begin{array}{ll}\n",
    "    1.0 &(7 \\leq \\theta_{ex,Ave}の場合)\\\\ \n",
    "    1 + (7 - \\theta_{ex,Ave}) \\times 0.0205 &(\\theta_{ex,Ave} < 7の場合)\\\\ \n",
    "    \\end{array}\n",
    "\\right.\n",
    "$$"
   ]
  },
  {
   "cell_type": "markdown",
   "metadata": {},
   "source": [
    "#### I.4 灯油消費量"
   ]
  },
  {
   "cell_type": "markdown",
   "metadata": {},
   "source": [
    "1 日当たりの給湯機の灯油消費量$E_{K,hs}$は0とする。"
   ]
  },
  {
   "cell_type": "markdown",
   "metadata": {},
   "source": [
    "#### I.5 温水暖房における熱源機の往き温水温度の候補"
   ]
  },
  {
   "cell_type": "markdown",
   "metadata": {},
   "source": [
    "温水暖房における熱源機の往き温水温度の候補は、60℃及び40℃とする。"
   ]
  },
  {
   "cell_type": "markdown",
   "metadata": {},
   "source": [
    "#### I.6 電気ヒートポンプ・ガス瞬間式併用型給湯機（給湯熱源：電気ヒートポンプ・ガス瞬間式併用、暖房熱源：電気ヒートポンプ・ガス瞬間式併用）の定義"
   ]
  },
  {
   "cell_type": "markdown",
   "metadata": {},
   "source": [
    "省略"
   ]
  }
 ],
 "metadata": {
  "kernelspec": {
   "display_name": "Python 3",
   "language": "python",
   "name": "python3"
  },
  "language_info": {
   "codemirror_mode": {
    "name": "ipython",
    "version": 3
   },
   "file_extension": ".py",
   "mimetype": "text/x-python",
   "name": "python",
   "nbconvert_exporter": "python",
   "pygments_lexer": "ipython3",
   "version": "3.6.7"
  }
 },
 "nbformat": 4,
 "nbformat_minor": 2
}
