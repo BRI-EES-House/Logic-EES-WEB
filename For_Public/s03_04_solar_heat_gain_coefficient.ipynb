{
 "cells": [
  {
   "cell_type": "code",
   "execution_count": null,
   "metadata": {},
   "outputs": [],
   "source": [
    "import pandas as pd\n",
    "import numpy as np"
   ]
  },
  {
   "cell_type": "markdown",
   "metadata": {},
   "source": [
    "## 第四節　日射熱取得率 / Section 4 Solar heat gain coefficient"
   ]
  },
  {
   "cell_type": "markdown",
   "metadata": {},
   "source": [
    "1．適用範囲～4．記号及び単位は省略"
   ]
  },
  {
   "cell_type": "markdown",
   "metadata": {},
   "source": [
    "1. Scope of application ~ 4. Symbols and units are omitted"
   ]
  },
  {
   "cell_type": "markdown",
   "metadata": {},
   "source": [
    "### 5．一般部位 / General part"
   ]
  },
  {
   "cell_type": "markdown",
   "metadata": {},
   "source": [
    "$$\\large\n",
    "\\eta_{H,i} = \\left\\{ \\begin{array}{ll}\n",
    "   \\gamma_{H,i} \\times 0.034 \\times U_{i}\\\\\n",
    "   \\gamma_{H,i} \\times 0.034 \\times \\frac{L_{i,j} \\times \\psi_{i,j}}{A_{i}}\\\\\n",
    "\\end{array}\n",
    "\\right.\n",
    "$$"
   ]
  },
  {
   "cell_type": "markdown",
   "metadata": {},
   "source": [
    "$$\\large\n",
    "\\eta_{C,i} = \\left\\{ \\begin{array}{ll}\n",
    "   \\gamma_{C,i} \\times 0.034 \\times U_{i}\\\\\n",
    "   \\gamma_{C,i} \\times 0.034 \\times \\frac{L_{i,j} \\times \\psi_{i,j}}{A_{i}}\\\\\n",
    "\\end{array}\n",
    "\\right.\n",
    "$$"
   ]
  },
  {
   "cell_type": "markdown",
   "metadata": {},
   "source": [
    "$\\gamma_{H,i}$：一般部位$i$の暖房期の日除けの効果係数 / Effect factor of heating season awning of general part $i$  \n",
    "$\\gamma_{C,i}$：一般部位$i$の冷房期の日除けの効果係数 / Effect factor of cooling period shading of general part $i$  \n",
    "$U_{i}$：一般部位$i$の熱貫流率(W/m<sup>2</sup>K) / Heat transmission coefficient of general part $i$  \n",
    "$\\psi_{i,j}$：一般部位$i$に接する熱橋$j$の線熱貫流率(Wh/m K) / Heat transfer coefficient of thermal bridge $j$ in contact with general part $i$  \n",
    "$L_{i,j}$：一般部位$i$に接する熱橋$j$の長さ(m) / Length of thermal bridge $j$ in contact with general part $i$  \n",
    "$A_{i}$：一般部位$i$の面積(m<sup>2</sup>) / Area of general part $i$  \n"
   ]
  },
  {
   "cell_type": "code",
   "execution_count": null,
   "metadata": {},
   "outputs": [],
   "source": [
    "# 一般部位の暖房期の日射熱取得率(熱貫流率から計算) (1)\n",
    "def get_eta_H_i_1(gamma_H_i, U_i):\n",
    "    return gamma_H_i * 0.034 * U_i\n",
    "\n",
    "# 一般部位の暖房期の日射熱取得率(線熱貫流率から計算) (1)\n",
    "def get_eta_H_i_2(gamma_H_i, L_i_j, phi_i_j, A_i):\n",
    "    return gamma_H_i * 0.034 * L_i_j * phi_i_j / A_i"
   ]
  },
  {
   "cell_type": "code",
   "execution_count": null,
   "metadata": {},
   "outputs": [],
   "source": [
    "# 一般部位の冷房期の日射熱取得率(熱貫流率から計算) (2)\n",
    "def get_eta_C_i_1(gamma_C_i, U_i):\n",
    "    return gamma_C_i * 0.034 * U_i\n",
    "\n",
    "# 一般部位の冷房期の日射熱取得率(線熱貫流率から計算) (2)\n",
    "def get_eta_C_i_2(gamma_C_i, L_i_j, phi_i_j, A_i):\n",
    "    return gamma_C_i * 0.034 * L_i_j * phi_i_j / A_i"
   ]
  },
  {
   "cell_type": "markdown",
   "metadata": {},
   "source": [
    "### 6．大部分がガラスで構成されている窓等の開口部 / Openings such as windows that are mostly made of glass"
   ]
  },
  {
   "cell_type": "markdown",
   "metadata": {},
   "source": [
    "#### 6.1 日射熱取得率 / Solar heat gain rate"
   ]
  },
  {
   "cell_type": "markdown",
   "metadata": {},
   "source": [
    "$$\\large\n",
    "\\eta_{H,i} = f_{H,i} \\times \\eta_{d,i}\n",
    "$$"
   ]
  },
  {
   "cell_type": "markdown",
   "metadata": {},
   "source": [
    "$$\\large\n",
    "\\eta_{C,i} = f_{C,i} \\times \\eta_{d,i}\n",
    "$$"
   ]
  },
  {
   "cell_type": "markdown",
   "metadata": {},
   "source": [
    "$f_{H,i}$：開口部$i$の暖房期の取得日射熱補正係数 / Acquired solar radiation heat correction factor for the heating season of the opening $ i $  \n",
    "$f_{C,i}$：開口部$i$の冷房期の取得日射熱補正係数 / Acquired solar radiation heat correction coefficient of the cooling period of the opening $ i $  \n",
    "$\\eta_{d,i}$：開口部$i$の垂直面日射熱取得率 / Vertical surface solar heat gain rate of opening $ i $  "
   ]
  },
  {
   "cell_type": "code",
   "execution_count": null,
   "metadata": {},
   "outputs": [],
   "source": [
    "# 開口部の暖房期の日射熱取得率 (-) (3)\n",
    "def get_eta_H_i(f_H_i, etr_d_i):\n",
    "    \"\"\"\n",
    "    :param f_H_i: 開口部の暖房期の取得日射熱補正係数 (-)\n",
    "    :param etr_d_i: 開口部の垂直面日射熱出得率 (-)\n",
    "    :return: 開口部の暖房期の日射熱取得率 (-)\n",
    "    \"\"\"\n",
    "    return f_H_i * etr_d_i"
   ]
  },
  {
   "cell_type": "code",
   "execution_count": null,
   "metadata": {},
   "outputs": [],
   "source": [
    "# 開口部の冷房期の日射熱取得率 (-) (3)\n",
    "def get_eta_C_i(f_C_i, etr_d_i):\n",
    "    \"\"\"\n",
    "    :param f_C_i: 開口部の冷房期の取得日射熱補正係数 (-)\n",
    "    :param etr_d_i: 開口部の垂直面日射熱出得率 (-)\n",
    "    :return: 開口部の冷房期の日射熱取得率 (-)\n",
    "    \"\"\"\n",
    "    return f_C_i * etr_d_i"
   ]
  },
  {
   "cell_type": "markdown",
   "metadata": {},
   "source": [
    "#### 6.2 垂直面日射熱取得率 / Vertical surface solar heat gain rate"
   ]
  },
  {
   "cell_type": "markdown",
   "metadata": {},
   "source": [
    "$$\\large\n",
    "\\eta_{d,i} = \\eta_{d1,i} \\times \\eta_{d2,i} \\times 1.06 \\div r_{f}\n",
    "$$"
   ]
  },
  {
   "cell_type": "markdown",
   "metadata": {},
   "source": [
    "$\\eta_{d1,i}$：開口部$i$の外気側の窓の垂直面日射熱取得率 / Vertical surface solar heat gain rate of the open-air side window of opening $ i $  \n",
    "$\\eta_{d2,i}$：開口部$i$の室内側の窓の垂直面日射熱取得率 / Vertical surface solar heat gain rate of the window on the indoor side of the opening $ i $  \n",
    "$r_{f}$：開口部$i$の全体の面積に対するガラス部分の面積の比 / Ratio of the area of the glass portion to the total area of the opening $ i $  "
   ]
  },
  {
   "cell_type": "markdown",
   "metadata": {},
   "source": [
    "開口部$i$の全体の面積に対するガラス部分の面積の比$r_{f}$は、室内側の窓及び外気側の窓の両方の枠が木製建具又は樹脂製建具の場合は0.72とし、それ以外の場合は0.8とする。 "
   ]
  },
  {
   "cell_type": "markdown",
   "metadata": {},
   "source": [
    "The ratio of the area of the glass part to the total area of the opening $i$, $r_{f}$, is 0.72 if the frame on both the indoor side window and the outdoor side window is a wooden or resin fitting, Otherwise it is 0.8."
   ]
  },
  {
   "cell_type": "code",
   "execution_count": null,
   "metadata": {},
   "outputs": [],
   "source": [
    "# 二重窓等の複数の開口部が組み合わさった開口部の垂直面日射熱取得率 (-) (5)\n",
    "def get_eta_d_i(etr_d1_i, etr_d2_i, r_f):\n",
    "    \"\"\"\n",
    "    :param etr_d1_i: 開口部の外気側の窓の垂直面日射熱取得率 (-)\n",
    "    :param etr_d2_i: 開口部の室内側の窓の垂直面日射熱取得率 (-)\n",
    "    :param r_f: 開口部の全体の面積に対するガラス部分の面積の比 (-)\n",
    "    :return: 二重窓等の複数の開口部が組み合わさった開口部の垂直面日射熱取得率 (-)\n",
    "    \"\"\"\n",
    "    return etr_d1_i * etr_d2_i * 1.06 / r_f\n",
    "\n",
    "\n",
    "# 開口部の全体の面積に対するガラス部分の面積の比 (-)\n",
    "def get_r_f(frame_type):\n",
    "    if frame_type == '室内側の窓及び外気側の窓の両方の枠が木製建具又は樹脂製建具':\n",
    "        return 0.72\n",
    "    elif frame_type == 'それ以外':\n",
    "        return 0.8\n",
    "    else:\n",
    "        raise ValueError(frame_type)"
   ]
  },
  {
   "cell_type": "markdown",
   "metadata": {},
   "source": [
    "### 7．大部分がガラスで構成されていないドア等の開口部 / Openings such as doors that are not mostly made of glass"
   ]
  },
  {
   "cell_type": "markdown",
   "metadata": {},
   "source": [
    "$$\\large\n",
    "\\eta_{H,i} = \\gamma_{H,i} \\times 0.034 \\times U_{i}\n",
    "$$"
   ]
  },
  {
   "cell_type": "markdown",
   "metadata": {},
   "source": [
    "$$\\large\n",
    "\\eta_{C,i} = \\gamma_{C,i} \\times 0.034 \\times U_{i}\n",
    "$$"
   ]
  },
  {
   "cell_type": "markdown",
   "metadata": {},
   "source": [
    "$\\gamma_{H,i}$：開口部$i$の暖房期の日除けの効果係数 / Opening $ i $ heating season awning effect factor  \n",
    "$\\gamma_{C,i}$：開口部$i$の冷房期の日除けの効果係数 / Cooling factor awning effect factor for opening $ i $  \n",
    "$U_{i}$：開口部$i$の熱貫流率(W/m<sup>2</sup>K) / Heat transmission coefficient of opening $ i $  "
   ]
  },
  {
   "cell_type": "code",
   "execution_count": null,
   "metadata": {},
   "outputs": [],
   "source": [
    "# 開口部の暖房期の日射熱取得率 (-)\n",
    "def get_eta_H_i(gamma_H_i, U_i):\n",
    "    \"\"\"\n",
    "    :param gamma_H_i: 開口部の暖房期の日除けの効果係数 (-)\n",
    "    :param U_i: 開口部の熱貫流率 (W/m2K)\n",
    "    :return: 開口部の暖房期の日射熱取得率 (-)\n",
    "    \"\"\"\n",
    "    return gamma_H_i * U_i"
   ]
  },
  {
   "cell_type": "code",
   "execution_count": null,
   "metadata": {},
   "outputs": [],
   "source": [
    "# 開口部の冷房期の日射熱取得率 (-)\n",
    "def get_eta_C_i(gamma_C_i, U_i):\n",
    "    \"\"\"\n",
    "    :param gamma_C_i: 開口部の冷房期の日除けの効果係数 (-)\n",
    "    :param U_i: 開口部の熱貫流率 (W/m2K)\n",
    "    :return: 開口部の冷房期の日射熱取得率 (-)\n",
    "    \"\"\"\n",
    "    return gamma_C_i * U_i"
   ]
  },
  {
   "cell_type": "markdown",
   "metadata": {},
   "source": [
    "## 付録 A 一般部位及び大部分がガラスで構成されていないドア等の開口部における日除けの効果係数 / Appendix A  Effect factor of shading on the opening of the door such as general part and the part which is not mostly composed of glass"
   ]
  },
  {
   "cell_type": "markdown",
   "metadata": {},
   "source": [
    "一般部位݅又は大部分がガラスで構成されていないドア等の開口部݅の暖房期の日除けの効果係数$ \\gamma_{H,i} $及び冷房期の日除けの効果係数$ \\gamma_{C,i} $は 1.0 とするか、下記式により求める値とする。 "
   ]
  },
  {
   "cell_type": "markdown",
   "metadata": {},
   "source": [
    "Effect factor of heating season awning of opening part such as general part brow or door which is not mostly composed of glass $ \\gamma_{H, i} $ and effect factor of cooling brow $\\gamma_{C, i} $ should be 1.0 or the value obtained by the following formula."
   ]
  },
  {
   "cell_type": "markdown",
   "metadata": {},
   "source": [
    "$$\\large\n",
    "\\gamma = \\frac{\\gamma_{2} \\times (y_{1}+y_{2})-\\gamma_{1} \\times y_{1}}{y_{2}}\n",
    "$$"
   ]
  },
  {
   "cell_type": "markdown",
   "metadata": {},
   "source": [
    "$y_{1}$：日除け下端から一般部位及び大部分がガラスで構成されていないドア等の開口部の上端までの垂直方向の距離(mm) / The vertical distance from the bottom edge of the sunshade to the top edge of the general part and the opening such as a door that is not mostly made of glass  \n",
    "$y_{2}$：一般部位及び大部分がガラスで構成されていないドア等の開口部の高さ寸法(mm) / Height dimensions of openings such as doors that are not made of general parts and most of them are made of glass  \n",
    "$z$：壁面からの日除けの張り出し寸法（軒等の出寸法は壁表面から先端までの寸法とする）(mm) / The overhang size of the sunshade from the wall (The dimensions of the eaves etc. shall be from the wall surface to the tip)   \n",
    "$\\gamma_{1}, \\gamma_{2}$：$l_{1}$及び$l_{2}$をパラメーターとして、地域の区分に応じ、データ「日除けの効果係数」より算出した値である。ただし、データ「日除けの効果係数」より算出した値を適用する場合、暖房期のみの適用あるいは冷房期のみの適用といった部分的な適用は認めない。$l$の値が表に定められてない場合、直近の上下の値を直線補完し補正係数を求めることとする。なお、݈$l$の値が 20 を超える場合は、20 として定められた値を用いる。 / It is a value calculated from the data \"effect factor of shading\" according to the division of the area, using $ l_ {1} $ and $ l_ {2} $ as parameters. However, when applying the value calculated from the data “Effect factor of shading”, partial application such as application of heating period only or application of cooling period only is not permitted. If the value of $ l $ is not defined in the table, the nearest upper and lower values are linearly interpolated to obtain a correction coefficient. If the value of ݈ $ l $ exceeds 20, use the value defined as 20. "
   ]
  },
  {
   "cell_type": "code",
   "execution_count": 1,
   "metadata": {},
   "outputs": [],
   "source": [
    "def get_gamma_H_default():\n",
    "    return 1.0"
   ]
  },
  {
   "cell_type": "code",
   "execution_count": null,
   "metadata": {},
   "outputs": [],
   "source": [
    "def get_gamma_C_default():\n",
    "    return 1.0"
   ]
  },
  {
   "cell_type": "code",
   "execution_count": null,
   "metadata": {},
   "outputs": [],
   "source": [
    "# 一般部位及び大部分がガラスで構成されていないドア等の開口部における日除けの効果係数 (-)\n",
    "def get_gamma(y1, y2, gamma1, gamma2):\n",
    "    \"\"\"\n",
    "    :param y1: 日除け下端から一般部及び大部分がガラスで構成されていないドア等の開口部の上端までの垂直方向距離 (mm)\n",
    "    :param y2: 一般部及び大部分がガラスで構成されていないドア等の開口部の高さ寸法 (mm)\n",
    "    :param gamma1:\n",
    "    :param gamma2:\n",
    "    :return: 一般部位及び大部分がガラスで構成されていないドア等の開口部における日除けの効果係数 (-)\n",
    "    \"\"\"\n",
    "    gamma = (gamma2 * (y1 + y2) - gamma1 * y1) / y2\n",
    "    return gamma"
   ]
  },
  {
   "cell_type": "markdown",
   "metadata": {},
   "source": [
    "$$\\large\n",
    "l_{1} = \\frac{y_{1}}{z}\n",
    "$$"
   ]
  },
  {
   "cell_type": "markdown",
   "metadata": {},
   "source": [
    "$$\\large\n",
    "l_{2} = \\frac{y_{1}+y_{2}}{z}\n",
    "$$"
   ]
  },
  {
   "cell_type": "code",
   "execution_count": null,
   "metadata": {},
   "outputs": [],
   "source": [
    "def get_l1(y1, z):\n",
    "    \"\"\"\n",
    "    :param y1: 日除け下端から一般部及び大部分がガラスで構成されていないドア等の開口部の上端までの垂直方向距離 (mm)\n",
    "    :param z: 壁面からの日除けの張り出し寸法（軒等の出寸法は壁表面から先端までの寸法とする）(mm)\n",
    "    :return: l1\n",
    "    \"\"\"\n",
    "    l1 = y1 / z\n",
    "    return l1"
   ]
  },
  {
   "cell_type": "code",
   "execution_count": null,
   "metadata": {},
   "outputs": [],
   "source": [
    "def get_l2(y1, y2, z):\n",
    "    \"\"\"\n",
    "    :param y1: 日除け下端から一般部及び大部分がガラスで構成されていないドア等の開口部の上端までの垂直方向距離 (mm)\n",
    "    :param y2: 一般部及び大部分がガラスで構成されていないドア等の開口部の高さ寸法 (mm)\n",
    "    :param z: 壁面からの日除けの張り出し寸法（軒等の出寸法は壁表面から先端までの寸法とする）(mm)\n",
    "    :return:\n",
    "    \"\"\"\n",
    "    return (y1 + y2) / z"
   ]
  },
  {
   "cell_type": "markdown",
   "metadata": {},
   "source": [
    "## 付録 B 大部分がガラスで構成されている窓等の開口部における取得日射熱補正係数 / Appendix B  Acquired solar radiation heat correction factor at the opening such as a window that is mostly made of glass"
   ]
  },
  {
   "cell_type": "markdown",
   "metadata": {},
   "source": [
    "### B.1 取得日射熱補正係数 / Acquisition solar heat correction factor"
   ]
  },
  {
   "cell_type": "markdown",
   "metadata": {},
   "source": [
    "開口部$i$の暖房期の取得日射熱補正係数$f_{H,i}$は0.51とし開口部$i$の冷房期の取得日射熱補正係数$f_{C,i}$は0.93とするか、又は、開口部の上部に日除けが設置されている場合は B.1.1 に示す方法により求めた値、開口部の上部に日除けが設置されていない場合は B.1.2 に示す方法により求めた値とする。"
   ]
  },
  {
   "cell_type": "markdown",
   "metadata": {},
   "source": [
    "Acquisition of solar radiation heat correction coefficient $ f_{H, i} $ in the heating period of opening $ i $ is 0.51, and acquisition of solar radiation heat correction coefficient $ f_{C, i} $ of the opening $ i $ is 0.93 Or if the sunshade is installed at the top of the opening, the value obtained by the method shown in B.1.1, if the sunshade is not installed at the top of the opening, it is obtained using the method shown in B.1.2. Value."
   ]
  },
  {
   "cell_type": "code",
   "execution_count": null,
   "metadata": {},
   "outputs": [],
   "source": [
    "# 開口部の暖房期の取得日射熱補正係数(規定値)\n",
    "def get_f_H_i_default():\n",
    "    return 0.51"
   ]
  },
  {
   "cell_type": "code",
   "execution_count": null,
   "metadata": {},
   "outputs": [],
   "source": [
    "# 開口部の冷房期の取得日射熱補正係数(規定値)\n",
    "def get_f_C_i_default():\n",
    "    return 0.93"
   ]
  },
  {
   "cell_type": "markdown",
   "metadata": {},
   "source": [
    "#### B.1.1 開口部の上部に日除けが設置されている場合 / If a sunshade is installed at the top of the opening"
   ]
  },
  {
   "cell_type": "markdown",
   "metadata": {},
   "source": [
    "$$\\large\n",
    "f = \\frac{f_{2} \\times (y_{1}+y_{2})-f_{1} \\times y_{1}}{y_{2}}\n",
    "$$"
   ]
  },
  {
   "cell_type": "code",
   "execution_count": null,
   "metadata": {},
   "outputs": [],
   "source": [
    "# 開口部の暖房期の取得日射熱補正係数(面する方位に応じない求め方) 式(1)\n",
    "def calc_f_H_1(region, glass_spec_category, direction, y1, y2, z):\n",
    "    l1 = get_l1(y1, z)\n",
    "    l2 = get_l2(y1, y2, z)\n",
    "    f1 = get_glass_f(region, glass_spec_category, l1, 'H', direction)\n",
    "    f2 = get_glass_f(region, glass_spec_category, l2, 'H', direction)\n",
    "    f = get_f(f1, f2, y1, y2)\n",
    "    return f"
   ]
  },
  {
   "cell_type": "code",
   "execution_count": null,
   "metadata": {},
   "outputs": [],
   "source": [
    "# 開口部の冷房期の取得日射熱補正係数(面する方位に応じない求め方) 式(1)\n",
    "def calc_f_C_1(region, glass_spec_category, direction, y1, y2, z):\n",
    "    l1 = get_l1(y1, z)\n",
    "    l2 = get_l2(y1, y2, z)\n",
    "    f1 = get_glass_f(region, glass_spec_category, l1, 'C', direction)\n",
    "    f2 = get_glass_f(region, glass_spec_category, l2, 'C', direction)\n",
    "    f = get_f(f1, f2, y1, y2)\n",
    "    return f"
   ]
  },
  {
   "cell_type": "code",
   "execution_count": null,
   "metadata": {},
   "outputs": [],
   "source": [
    "def get_glass_f(region, glass_spec_category, l, H_or_C, direction):\n",
    "    glass_index = (glass_spec_category - 1) * 44\n",
    "    if H_or_C == 'C':\n",
    "        HC_index = 0\n",
    "    elif H_or_C == 'H':\n",
    "        HC_index = 22\n",
    "    else:\n",
    "        raise ValueError(H_or_C)\n",
    "\n",
    "    dir_dic = {\n",
    "        '北': 0, '北東': 1, '東': 2, '南東': 3, '南': 4, '南西': 5, '西': 6, '北西': 7\n",
    "    }\n",
    "    dir_index = dir_dic[direction]\n",
    "\n",
    "    index_base = glass_index + HC_index\n",
    "\n",
    "    region_index = 3 + (region - 1) * 8\n",
    "\n",
    "    df = get_glass_f_table()\n",
    "    f_cd = df[2][index_base:index_base + 22]\n",
    "    index = np.argwhere(f_cd == l)\n",
    "\n",
    "    if len(index) == 1:\n",
    "        # 按分不要の場合\n",
    "        f = float(df[region_index + dir_index][index_base + index[0]])\n",
    "    else:\n",
    "        # 按分が必要な場合\n",
    "        index_a = np.min(np.argwhere(f_cd > l)) - 1\n",
    "        index_b = np.max(np.argwhere(f_cd < l)) + 1\n",
    "        la = float(df[2][index_base + index_a])\n",
    "        lb = float(df[2][index_base + index_b])\n",
    "        fa = float(df[region_index + dir_index][index_base + index_a])\n",
    "        fb = float(df[region_index + dir_index][index_base + index_b])\n",
    "\n",
    "        f = fa + (fb - fa) / (lb - la) * (l - la)\n",
    "\n",
    "    return f\n",
    "\n",
    "\n"
   ]
  },
  {
   "cell_type": "code",
   "execution_count": null,
   "metadata": {},
   "outputs": [],
   "source": [
    "@lru_cache()\n",
    "def get_glass_f_table():\n",
    "    df = pd.read_csv('data/glass_f.csv', header=None, skiprows=2)\n",
    "    return d"
   ]
  },
  {
   "cell_type": "code",
   "execution_count": null,
   "metadata": {},
   "outputs": [],
   "source": [
    "# 開口部の取得日射熱補正係数(面する方位に応じない求め方) 式(1)\n",
    "def get_f(f1, f2, y1=0, y2=None):\n",
    "    if y1 == 0:\n",
    "        f = f2\n",
    "    else:\n",
    "        f = (f2 * (y1 + y2) - f1 * y1) / y2\n",
    "    return f"
   ]
  },
  {
   "cell_type": "markdown",
   "metadata": {},
   "source": [
    "暖房期における 1 地域から 7 地域までの南東面・南面・南西面"
   ]
  },
  {
   "cell_type": "markdown",
   "metadata": {},
   "source": [
    "Southeast, south, south-west from 1 area to 7 area in heating season"
   ]
  },
  {
   "cell_type": "markdown",
   "metadata": {},
   "source": [
    "$$\\large\n",
    "f_{H} = min \\bigg( 0.01 \\times \\big( 5 + 20 \\times \\frac{3y_{1} + y_{2}}{Z} \\big), 0.72 \\bigg)\n",
    "$$"
   ]
  },
  {
   "cell_type": "markdown",
   "metadata": {},
   "source": [
    "暖房期における 1 地域から 7 地域までの南東面・南面・南西面以外"
   ]
  },
  {
   "cell_type": "markdown",
   "metadata": {},
   "source": [
    "Other than south-east, south-south, south-south, from 1 area to 7 areas in heating season"
   ]
  },
  {
   "cell_type": "markdown",
   "metadata": {},
   "source": [
    "$$\\large\n",
    "f_{H} = min \\bigg( 0.01 \\times \\big( 10 + 15 \\times \\frac{2y_{1} + y_{2}}{Z} \\big), 0.72 \\bigg)\n",
    "$$"
   ]
  },
  {
   "cell_type": "markdown",
   "metadata": {},
   "source": [
    "冷房期における 1 地域から 7 地域までの南面"
   ]
  },
  {
   "cell_type": "markdown",
   "metadata": {},
   "source": [
    "South face from 1 area to 7 areas in the cooling period"
   ]
  },
  {
   "cell_type": "markdown",
   "metadata": {},
   "source": [
    "$$\\large\n",
    "f_{C} = min \\bigg( 0.01 \\times \\big( 24 + 9 \\times \\frac{3y_{1} + y_{2}}{Z} \\big), 0.93 \\bigg)\n",
    "$$"
   ]
  },
  {
   "cell_type": "markdown",
   "metadata": {},
   "source": [
    "冷房期における 1 地域から 7 地域までの南面以外及び 8 地域の南東面・南面・南西面以外"
   ]
  },
  {
   "cell_type": "markdown",
   "metadata": {},
   "source": [
    "Other than south from 1 area to 7 areas in cooling season and other than south east, south and south west of 8 areas"
   ]
  },
  {
   "cell_type": "markdown",
   "metadata": {},
   "source": [
    "$$\\large\n",
    "f_{C} = min \\bigg( 0.01 \\times \\big( 16 + 24 \\times \\frac{2y_{1} + y_{2}}{Z} \\big), 0.93 \\bigg)\n",
    "$$"
   ]
  },
  {
   "cell_type": "markdown",
   "metadata": {},
   "source": [
    "冷房期における 8 地域の南東面・南面・南西面"
   ]
  },
  {
   "cell_type": "markdown",
   "metadata": {},
   "source": [
    "Southeast, south, southwest of 8 regions in cooling season"
   ]
  },
  {
   "cell_type": "markdown",
   "metadata": {},
   "source": [
    "$$\\large\n",
    "f_{C} = min \\bigg( 0.01 \\times \\big( 16 + 19 \\times \\frac{2y_{1} + y_{2}}{Z} \\big), 0.93 \\bigg)\n",
    "$$"
   ]
  },
  {
   "cell_type": "markdown",
   "metadata": {},
   "source": [
    "$y_{1}$：日除け下端から窓上端までの垂直方向の距離(mm) / Vertical distance from the bottom of the sunshade to the top of the window  \n",
    "$y_{2}$：窓の開口高さ寸法(mm) / Window opening height dimension  \n",
    "$Z$：壁面からの日除けの張り出し寸法（ひさし等のオーバーハング型日除けの出寸法は壁表面から先端までの寸法とする）(mm) / The overhang size of the sunshade from the wall (The overhang size of the overhang type sunshade such as eaves shall be from the wall surface to the tip)   \n",
    "$f_{1}, f_{2}$：$l_{1}$及び$l_{2}$をパラメーターとして、地域の区分及びガラスの仕様の区分に応じ、データ「取得日射熱補正係数」より算出した値である。$l_{1}$又は$l_{2}$の値が表に定められてない場合、直近の上下の値を直線補完し補正係数を求めることとする。なお、$l_{1}$又は$l_{2}$の値が20を超える場合は、20として定められた値を用いる。  / With $ l_{1} $ and $ l_{2} $ as parameters, this is a value calculated from the data “acquired solar radiation heat correction coefficient” according to the division of the area and the specification of the glass. If the value of $ l_{1} $ or $ l_{2} $ is not defined in the table, the nearest upper and lower values are linearly complemented to obtain a correction coefficient. When the value of $ l_{1} $ or $ l_{2} $ exceeds 20, the value determined as 20 is used."
   ]
  },
  {
   "cell_type": "markdown",
   "metadata": {},
   "source": [
    "$$\\large\n",
    "l_{1} = \\frac{y_{1}}{z}\n",
    "$$"
   ]
  },
  {
   "cell_type": "markdown",
   "metadata": {},
   "source": [
    "$$\\large\n",
    "l_{2} = \\frac{y_{1}+y_{2}}{z}\n",
    "$$"
   ]
  },
  {
   "cell_type": "code",
   "execution_count": null,
   "metadata": {},
   "outputs": [],
   "source": [
    "# 開口部の暖房期の取得日射熱補正係数(面する方位に応じた求め方) (2)\n",
    "def get_f_H_2(region, direction, y1, y2, z):\n",
    "    \"\"\"\n",
    "    :param region: 地域区分\n",
    "    :param direction: 開口部の方位\n",
    "    :param y1: 日除け下端から窓上端までの垂直方向の距離（mm）\n",
    "    :param y2: 窓の開口高さ寸法（mm）\n",
    "    :param z: 壁面からの日除けの張り出し寸法（ひさし等のオーバーハング型日除けの出寸法は壁表面から先端までの寸法とする）(mm)\n",
    "    :return: 開口部の暖房期の取得日射熱補正係数\n",
    "    \"\"\"\n",
    "    if region in [1, 2, 3, 4, 5, 6, 7]:\n",
    "        if direction in ['南東', '南', '南西']:\n",
    "            # 暖房期における1地域から7地域までの南東面・南面・南西面 (2a)\n",
    "            f_H = min(0.01 * (5 + 20 * (3 * y1 + y2) / z), 0.72)\n",
    "        else:\n",
    "            # 暖房期における1地域から7地域までの南東面・南面・南西面以外 (2b)\n",
    "            f_H = min(0.01 * (10 + 15 * (2 * y1 + y2) / z), 0.72)\n",
    "    elif region in [8]:\n",
    "        return None\n",
    "    else:\n",
    "        raise ValueError(region)\n",
    "\n",
    "    return f_H"
   ]
  },
  {
   "cell_type": "code",
   "execution_count": null,
   "metadata": {},
   "outputs": [],
   "source": [
    "# 開口部の冷房期の取得日射熱補正係数(面する方位に応じた求め方) (3)\n",
    "def get_f_C_2(region, direction, y1, y2, z):\n",
    "    \"\"\"\n",
    "    :param region: 地域区分\n",
    "    :param direction: 開口部の方位\n",
    "    :param y1: 日除け下端から窓上端までの垂直方向の距離（mm）\n",
    "    :param y2: 窓の開口高さ寸法（mm）\n",
    "    :param z: 壁面からの日除けの張り出し寸法（ひさし等のオーバーハング型日除けの出寸法は壁表面から先端までの寸法とする）(mm)\n",
    "    :return: 開口部の冷房期の取得日射熱補正係数\n",
    "    \"\"\"\n",
    "    if region in [1, 2, 3, 4, 5, 6, 7]:\n",
    "        if direction in ['南東', '南', '南西']:\n",
    "            # 冷房期における1地域から7地域までの南東面・南面・南西面 (3a)\n",
    "            f_C = min(0.01 * (24 + 9 * (3 * y1 + y2) / z), 0.93)\n",
    "        else:\n",
    "            # 冷房期における1地域から7地域までの南東面・南面・南西面以外 (3b)\n",
    "            f_C = min(0.01 * (16 + 24 * (2 * y1 + y2) / z), 0.93)\n",
    "    elif region in [8]:\n",
    "        if direction in ['南東', '南', '南西']:\n",
    "            # 冷房期における8地域の南東面・南面・南西面 (3c)\n",
    "            f_C = min(0.01 * (16 + 19 * (2 * y1 + y2) / z), 0.93)\n",
    "        else:\n",
    "            return None\n",
    "    else:\n",
    "        raise ValueError(region)\n",
    "\n",
    "    return f_C"
   ]
  },
  {
   "cell_type": "code",
   "execution_count": null,
   "metadata": {},
   "outputs": [],
   "source": [
    "# 式 (4a)\n",
    "def get_l1(y1, z):\n",
    "    \"\"\"\n",
    "    :param y1: 日除け下端から窓上端までの垂直方向の距離（mm）\n",
    "    :param z: 壁面からの日除けの張り出し寸法（ひさし等のオーバーハング型日除けの出寸法は壁表面から先端までの寸法とする）(mm)\n",
    "    :return:\n",
    "    \"\"\"\n",
    "    return y1 / z"
   ]
  },
  {
   "cell_type": "code",
   "execution_count": null,
   "metadata": {},
   "outputs": [],
   "source": [
    "# 式 (4b)\n",
    "def get_l2(y1, y2, z):\n",
    "    \"\"\"\n",
    "    :param y1: 日除け下端から窓上端までの垂直方向の距離（mm）\n",
    "    :param y2: 窓の開口高さ寸法（mm）\n",
    "    :param z: 壁面からの日除けの張り出し寸法（ひさし等のオーバーハング型日除けの出寸法は壁表面から先端までの寸法とする）(mm)\n",
    "    :return:\n",
    "    \"\"\"\n",
    "    return (y1 + y2) / z"
   ]
  },
  {
   "cell_type": "markdown",
   "metadata": {},
   "source": [
    "#### B.1.2 開口部の上部に日除けが設置されていない場合 / If no sunshade is installed at the top of the opening"
   ]
  },
  {
   "cell_type": "markdown",
   "metadata": {},
   "source": [
    "<div style=\"text-align: center;font-weight: bold;\">表　屋根又は屋根の直下の天井に設置されている開口部の暖房期の取得日射熱補正係数<br>Table: Acquired solar radiation heat correction factor of the heating period of the opening installed in the roof directly below the roof or roof</div>\n",
    "\n",
    "<table>\n",
    "<thead>\n",
    "<tr>\n",
    "<th rowspan=\"2\" colspan=\"2\"></th>\n",
    "<th colspan=\"8\">地域の区分<br>Segmentation of area</th>\n",
    "</tr>\n",
    "<tr>\n",
    "<th>1</th>\n",
    "<th>2</th>\n",
    "<th>3</th>\n",
    "<th>4</th>\n",
    "<th>5</th>\n",
    "<th>6</th>\n",
    "<th>7</th>\n",
    "<th>8</th>\n",
    "</tr>\n",
    "</thead>\n",
    "\n",
    "<tbody>\n",
    "<tr>\n",
    "<th rowspan=\"7\">ガラスの<br>仕様の区分<br>Classification of<br>glass specifications</th>\n",
    "<th>区分1<br>Category 1</th><td>0.90</td><td>0.91</td><td>0.91</td><td>0.91</td><td>0.90</td><td>0.90</td><td>0.90</td><td>-</td></tr>\n",
    "\n",
    "<tr><th>区分2<br>Category 2</th><td>0.85</td><td>0.86</td><td>0.86</td><td>0.87</td><td>0.85</td><td>0.85</td><td>0.85</td><td>-</td></tr>\n",
    "<tr><th>区分3<br>Category 3</th><td>0.83</td><td>0.84</td><td>0.84</td><td>0.85</td><td>0.83</td><td>0.84</td><td>0.83</td><td>-</td></tr>\n",
    "<tr><th>区分4<br>Category 4</th><td>0.85</td><td>0.86</td><td>0.86</td><td>0.87</td><td>0.85</td><td>0.85</td><td>0.85</td><td>-</td></tr>\n",
    "<tr><th>区分5<br>Category 5</th><td>0.82</td><td>0.83</td><td>0.83</td><td>0.84</td><td>0.82</td><td>0.82</td><td>0.82</td><td>-</td></tr>\n",
    "<tr><th>区分6<br>Category 6</th><td>0.82</td><td>0.83</td><td>0.83</td><td>0.84</td><td>0.82</td><td>0.82</td><td>0.82</td><td>-</td></tr>\n",
    "<tr><th>区分7<br>Category 7</th><td>0.80</td><td>0.81</td><td>0.81</td><td>0.82</td><td>0.80</td><td>0.80</td><td>0.80</td><td>-</td></tr>\n",
    "\n",
    "</tbody>\n",
    "</table>\n"
   ]
  },
  {
   "cell_type": "code",
   "execution_count": null,
   "metadata": {},
   "outputs": [],
   "source": [
    "# 天窓等の屋根又は屋根の直下の天井に設置されている開口部の暖房期の取得日射熱補正係数\n",
    "def get_f_H_i_1(region, glass_spec_category):\n",
    "    # 表1(a) 天窓等の屋根又は屋根の直下の天井に設置されている開口部の暖房期の取得日射熱補正係数\n",
    "    table_1_a = [\n",
    "        (0.90, 0.91, 0.91, 0.91, 0.90, 0.90, 0.90, None),\n",
    "        (0.85, 0.86, 0.86, 0.87, 0.85, 0.85, 0.85, None),\n",
    "        (0.83, 0.84, 0.84, 0.85, 0.83, 0.84, 0.83, None),\n",
    "        (0.85, 0.86, 0.86, 0.87, 0.85, 0.85, 0.85, None),\n",
    "        (0.82, 0.83, 0.83, 0.84, 0.82, 0.82, 0.82, None),\n",
    "        (0.82, 0.83, 0.83, 0.84, 0.82, 0.82, 0.82, None),\n",
    "        (0.80, 0.81, 0.81, 0.82, 0.80, 0.80, 0.80, None)\n",
    "    ]\n",
    "    return table_1_a[glass_spec_category - 1][region - 1]"
   ]
  },
  {
   "cell_type": "markdown",
   "metadata": {},
   "source": [
    "<div style=\"text-align: center;font-weight: bold;\">表　屋根又は屋根の直下の天井に設置されている開口部の冷房期の取得日射熱補正係数<br>Table: Acquired solar radiation heat correction factor of the cooling period of the opening installed in the roof directly below the roof or roof</div>\n",
    "\n",
    "<table>\n",
    "<thead>\n",
    "<tr>\n",
    "<th rowspan=\"2\" colspan=\"2\"></th>\n",
    "<th colspan=\"8\">地域の区分<br>Segmentation of area</th>\n",
    "</tr>\n",
    "<tr>\n",
    "<th>1</th>\n",
    "<th>2</th>\n",
    "<th>3</th>\n",
    "<th>4</th>\n",
    "<th>5</th>\n",
    "<th>6</th>\n",
    "<th>7</th>\n",
    "<th>8</th>\n",
    "</tr>\n",
    "</thead>\n",
    "\n",
    "<tbody>\n",
    "<tr>\n",
    "<th rowspan=\"7\">ガラスの<br>仕様の区分<br>Classification of<br>glass specifications</th>\n",
    "<th>区分1<br>Category 1</th><td>0.93</td><td>0.93</td><td>0.93</td><td>0.94</td><td>0.93</td><td>0.94</td><td>0.94</td><td>0.93</td></tr>\n",
    "\n",
    "<tr><th>区分2<br>Category 2</th><td>0.90</td><td>0.90</td><td>0.90</td><td>0.91</td><td>0.90</td><td>0.90</td><td>0.91</td><td>0.90</td></tr>\n",
    "<tr><th>区分3<br>Category 3</th><td>0.88</td><td>0.88</td><td>0.89</td><td>0.89</td><td>0.88</td><td>0.89</td><td>0.89</td><td>0.88</td></tr>\n",
    "<tr><th>区分4<br>Category 4</th><td>0.89</td><td>0.89</td><td>0.90</td><td>0.90</td><td>0.89</td><td>0.90</td><td>0.90</td><td>0.90</td></tr>\n",
    "<tr><th>区分5<br>Category 5</th><td>0.87</td><td>0.87</td><td>0.88</td><td>0.88</td><td>0.87</td><td>0.88</td><td>0.88</td><td>0.88</td></tr>\n",
    "<tr><th>区分6<br>Category 6</th><td>0.87</td><td>0.88</td><td>0.88</td><td>0.89</td><td>0.88</td><td>0.88</td><td>0.89</td><td>0.88</td></tr>\n",
    "<tr><th>区分7<br>Category 7</th><td>0.86</td><td>0.86</td><td>0.86</td><td>0.87</td><td>0.86</td><td>0.87</td><td>0.87</td><td>0.86</td></tr>\n",
    "\n",
    "</tbody>\n",
    "</table>\n"
   ]
  },
  {
   "cell_type": "code",
   "execution_count": null,
   "metadata": {},
   "outputs": [],
   "source": [
    "# 天窓等の屋根又は屋根の直下の天井に設置されている開口部の冷房期の取得日射熱補正係数\n",
    "def get_f_C_i_1(region, glass_spec_category):\n",
    "    # 表1(b) 天窓等の屋根又は屋根の直下の天井に設置されている開口部の冷房期の取得日射熱補正係数\n",
    "    table_1_b = [\n",
    "        (0.93, 0.93, 0.93, 0.94, 0.93, 0.94, 0.94, 0.93),\n",
    "        (0.90, 0.90, 0.90, 0.91, 0.90, 0.90, 0.91, 0.90),\n",
    "        (0.88, 0.88, 0.89, 0.89, 0.88, 0.89, 0.89, 0.88),\n",
    "        (0.89, 0.89, 0.90, 0.90, 0.89, 0.90, 0.90, 0.90),\n",
    "        (0.87, 0.87, 0.88, 0.88, 0.87, 0.88, 0.88, 0.88),\n",
    "        (0.87, 0.88, 0.88, 0.89, 0.88, 0.88, 0.89, 0.88),\n",
    "        (0.86, 0.86, 0.86, 0.87, 0.86, 0.87, 0.87, 0.86)\n",
    "    ]\n",
    "    return table_1_b[glass_spec_category - 1][region - 1]"
   ]
  },
  {
   "cell_type": "code",
   "execution_count": null,
   "metadata": {},
   "outputs": [],
   "source": [
    "# 当該開口部の上部に日除けが設置されていない場合の開口部の暖房期の取得日射熱補正係数\n",
    "def get_f_H_i_2(region, glass_spec_category, direction):\n",
    "    return get_table_2(region, glass_spec_category, 'H', direction)"
   ]
  },
  {
   "cell_type": "code",
   "execution_count": null,
   "metadata": {},
   "outputs": [],
   "source": [
    "# 当該開口部の上部に日除けが設置されていない場合の開口部の冷房期の取得日射熱補正係数\n",
    "def get_f_C_i_2(region, glass_spec_category, direction):\n",
    "    return get_table_2(region, glass_spec_category, 'C', direction)"
   ]
  },
  {
   "cell_type": "markdown",
   "metadata": {},
   "source": [
    "<div style=\"text-align: center;font-weight: bold;\">表　当該開口部の上部に日除けが設置されていない場合の開口部の取得日射熱補正係数<br>Table: Acquisition solar radiation heat correction coefficient of the opening when the sunshade is not installed above the opening</div>\n",
    "\n",
    "<table>\n",
    "<thead>\n",
    "<tr>\n",
    "<th rowspan=\"2\">地域の区分<br>Segmentation of area</th>\n",
    "<th rowspan=\"2\">ガラス仕様の区分<br>Classification of<br>glass specifications</th>\n",
    "<th rowspan=\"2\">期間<br>period</th>\n",
    "<th colspan=\"8\">開口部の面する方位<br>Orientation of the opening facing</th>\n",
    "</tr>\n",
    "<tr>\n",
    "<th>北<br>North</th>\n",
    "<th>北東<br>Northeast</th>\n",
    "<th>東<br>East</th>\n",
    "<th>南東<br>Southeast</th>\n",
    "<th>南<br>South</th>\n",
    "<th>南西<br>Southwest</th>\n",
    "<th>西<br>West</th>\n",
    "<th>北西<br>Northwest</th>\n",
    "</tr>\n",
    "</thead>\n",
    "\n",
    "<tbody>\n",
    "\n",
    "<tr>\n",
    "<th rowspan=\"14\">1</th>\n",
    "<th rowspan=\"2\">区分1<br>Category 1</th>\n",
    "<th>冷房<br>cooling</th><td>0.853</td><td>0.865</td><td>0.882</td><td>0.864</td><td>0.807</td><td>0.860</td><td>0.880</td><td>0.866</td>\n",
    "</tr>\n",
    "<tr><th>暖房<br>heating</th><td>0.862</td><td>0.848</td><td>0.871</td><td>0.892</td><td>0.892</td><td>0.888</td><td>0.869</td><td>0.850</td></tr>\n",
    "<tr><th rowspan=\"2\">区分2<br>Category 2</th><th>冷房<br>cooling</th><td>0.807</td><td>0.821</td><td>0.847</td><td>0.820</td><td>0.746</td><td>0.814</td><td>0.844</td><td>0.822</td></tr>\n",
    "<tr><th>暖房<br>heating</th><td>0.818</td><td>0.799</td><td>0.831</td><td>0.858</td><td>0.856</td><td>0.853</td><td>0.828</td><td>0.802</td></tr>\n",
    "<tr><th rowspan=\"2\">区分3<br>Category 3</th><th>冷房<br>cooling</th><td>0.791</td><td>0.805</td><td>0.833</td><td>0.802</td><td>0.727</td><td>0.797</td><td>0.830</td><td>0.806</td></tr>\n",
    "<tr><th>暖房<br>heating</th><td>0.803</td><td>0.783</td><td>0.816</td><td>0.844</td><td>0.842</td><td>0.839</td><td>0.813</td><td>0.787</td></tr>\n",
    "<tr><th rowspan=\"2\">区分4<br>Category 4</th><th>冷房<br>cooling</th><td>0.805</td><td>0.818</td><td>0.844</td><td>0.816</td><td>0.745</td><td>0.811</td><td>0.841</td><td>0.819</td></tr>\n",
    "<tr><th>暖房<br>heating</th><td>0.816</td><td>0.797</td><td>0.828</td><td>0.854</td><td>0.853</td><td>0.850</td><td>0.825</td><td>0.800</td></tr>\n",
    "<tr><th rowspan=\"2\">区分5<br>Category 5</th><th>冷房<br>cooling</th><td>0.776</td><td>0.791</td><td>0.823</td><td>0.789</td><td>0.707</td><td>0.783</td><td>0.820</td><td>0.792</td></tr>\n",
    "<tr><th>暖房<br>heating</th><td>0.789</td><td>0.767</td><td>0.804</td><td>0.834</td><td>0.831</td><td>0.829</td><td>0.800</td><td>0.771</td></tr>\n",
    "<tr><th rowspan=\"2\">区分6<br>Category 6</th><th>冷房<br>cooling</th><td>0.781</td><td>0.796</td><td>0.826</td><td>0.793</td><td>0.715</td><td>0.787</td><td>0.823</td><td>0.797</td></tr>\n",
    "<tr><th>暖房<br>heating</th><td>0.793</td><td>0.772</td><td>0.806</td><td>0.836</td><td>0.833</td><td>0.831</td><td>0.803</td><td>0.775</td></tr>\n",
    "<tr><th rowspan=\"2\">区分7<br>Category 7</th><th>冷房<br>cooling</th><td>0.761</td><td>0.776</td><td>0.810</td><td>0.772</td><td>0.688</td><td>0.766</td><td>0.806</td><td>0.777</td></tr>\n",
    "<tr><th>暖房<br>heating</th><td>0.773</td><td>0.751</td><td>0.788</td><td>0.820</td><td>0.816</td><td>0.814</td><td>0.785</td><td>0.755</td></tr>\n",
    "\n",
    "<tr><th rowspan=\"14\">2</th>\n",
    "<th rowspan=\"2\">区分1<br>Category 1</th><th>冷房<br>cooling</th><td>0.857</td><td>0.864</td><td>0.877</td><td>0.858</td><td>0.812</td><td>0.861</td><td>0.878</td><td>0.864</td></tr>\n",
    "<tr><th>暖房<br>heating</th><td>0.860</td><td>0.851</td><td>0.873</td><td>0.888</td><td>0.880</td><td>0.885</td><td>0.874</td><td>0.850</td></tr>\n",
    "<tr><th rowspan=\"2\">区分2<br>Category 2</th><th>冷房<br>cooling</th><td>0.812</td><td>0.820</td><td>0.839</td><td>0.814</td><td>0.753</td><td>0.817</td><td>0.841</td><td>0.819</td></tr>\n",
    "<tr><th>暖房<br>heating</th><td>0.815</td><td>0.802</td><td>0.833</td><td>0.853</td><td>0.840</td><td>0.848</td><td>0.835</td><td>0.802</td></tr>\n",
    "<tr><th rowspan=\"2\">区分3<br>Category 3</th><th>冷房<br>cooling</th><td>0.796</td><td>0.804</td><td>0.825</td><td>0.796</td><td>0.734</td><td>0.799</td><td>0.827</td><td>0.803</td></tr>\n",
    "<tr><th>暖房<br>heating</th><td>0.801</td><td>0.787</td><td>0.819</td><td>0.840</td><td>0.825</td><td>0.834</td><td>0.821</td><td>0.786</td></tr>\n",
    "<tr><th rowspan=\"2\">区分4<br>Category 4</th><th>冷房<br>cooling</th><td>0.810</td><td>0.817</td><td>0.836</td><td>0.810</td><td>0.751</td><td>0.813</td><td>0.838</td><td>0.817</td></tr>\n",
    "<tr><th>暖房<br>heating</th><td>0.814</td><td>0.801</td><td>0.831</td><td>0.850</td><td>0.837</td><td>0.845</td><td>0.832</td><td>0.800</td></tr>\n",
    "<tr><th rowspan=\"2\">区分5<br>Category 5</th><th>冷房<br>cooling</th><td>0.782</td><td>0.790</td><td>0.814</td><td>0.783</td><td>0.714</td><td>0.786</td><td>0.816</td><td>0.790</td></tr>\n",
    "<tr><th>暖房<br>heating</th><td>0.786</td><td>0.771</td><td>0.807</td><td>0.829</td><td>0.813</td><td>0.824</td><td>0.809</td><td>0.770</td></tr>\n",
    "<tr><th rowspan=\"2\">区分6<br>Category 6</th><th>冷房<br>cooling</th><td>0.787</td><td>0.794</td><td>0.817</td><td>0.787</td><td>0.721</td><td>0.790</td><td>0.820</td><td>0.794</td></tr>\n",
    "<tr><th>暖房<br>heating</th><td>0.790</td><td>0.775</td><td>0.810</td><td>0.831</td><td>0.815</td><td>0.826</td><td>0.811</td><td>0.775</td></tr>\n",
    "<tr><th rowspan=\"2\">区分7<br>Category 7</th><th>冷房<br>cooling</th><td>0.767</td><td>0.774</td><td>0.800</td><td>0.766</td><td>0.695</td><td>0.768</td><td>0.803</td><td>0.774</td></tr>\n",
    "<tr><th>暖房<br>heating</th><td>0.771</td><td>0.754</td><td>0.792</td><td>0.815</td><td>0.797</td><td>0.809</td><td>0.794</td><td>0.754</td></tr>\n",
    "\n",
    "</tbody>\n",
    "</table>\n",
    "\n"
   ]
  },
  {
   "cell_type": "markdown",
   "metadata": {},
   "source": [
    "<div style=\"text-align: center;font-weight: bold;\">表　当該開口部の上部に日除けが設置されていない場合の開口部の取得日射熱補正係数（続き）<br>Table: Acquisition solar radiation heat correction coefficient of the opening when the sunshade is not installed above the opening (Cont.)</div>\n",
    "\n",
    "<table>\n",
    "<thead>\n",
    "<tr>\n",
    "<th rowspan=\"2\">地域の区分<br>Segmentation of area</th>\n",
    "<th rowspan=\"2\">ガラス仕様の区分<br>Classification of<br>glass specifications</th>\n",
    "<th rowspan=\"2\">期間<br>period</th>\n",
    "<th colspan=\"8\" style=\"text-align:center;\">開口部の面する方位<br>Orientation of the opening facing</th>\n",
    "</tr>\n",
    "<tr>\n",
    "<th>北<br>North</th>\n",
    "<th>北東<br>Northeast</th>\n",
    "<th>東<br>East</th>\n",
    "<th>南東<br>Southeast</th>\n",
    "<th>南<br>South</th>\n",
    "<th>南西<br>Southwest</th>\n",
    "<th>西<br>West</th>\n",
    "<th>北西<br>Northwest</th>\n",
    "</tr>\n",
    "</thead>\n",
    "\n",
    "<tbody>\n",
    "\n",
    "<tr>\n",
    "<th rowspan=\"14\">3</th><th rowspan=\"2\">区分1<br>Category 1</th><th>冷房<br>cooling</th><td>0.853</td><td>0.862</td><td>0.870</td><td>0.853</td><td>0.799</td><td>0.859</td><td>0.883</td><td>0.865</td></tr>\n",
    "<tr><th>暖房<br>heating</th><td>0.862</td><td>0.850</td><td>0.869</td><td>0.885</td><td>0.884</td><td>0.885</td><td>0.871</td><td>0.850</td></tr>\n",
    "<tr><th rowspan=\"2\">区分2<br>Category 2</th><th>冷房<br>cooling</th><td>0.807</td><td>0.817</td><td>0.830</td><td>0.806</td><td>0.738</td><td>0.813</td><td>0.849</td><td>0.821</td></tr>\n",
    "<tr><th>暖房<br>heating</th><td>0.818</td><td>0.803</td><td>0.828</td><td>0.850</td><td>0.846</td><td>0.849</td><td>0.831</td><td>0.802</td></tr>\n",
    "<tr><th rowspan=\"2\">区分3<br>Category 3</th><th>冷房<br>cooling</th><td>0.791</td><td>0.802</td><td>0.816</td><td>0.788</td><td>0.720</td><td>0.795</td><td>0.835</td><td>0.805</td></tr>\n",
    "<tr><th>暖房<br>heating</th><td>0.804</td><td>0.787</td><td>0.814</td><td>0.836</td><td>0.831</td><td>0.836</td><td>0.816</td><td>0.787</td></tr>\n",
    "<tr><th rowspan=\"2\">区分4<br>Category 4</th><th>冷房<br>cooling</th><td>0.805</td><td>0.815</td><td>0.828</td><td>0.803</td><td>0.737</td><td>0.810</td><td>0.846</td><td>0.819</td></tr>\n",
    "<tr><th>暖房<br>heating</th><td>0.816</td><td>0.801</td><td>0.826</td><td>0.847</td><td>0.842</td><td>0.846</td><td>0.828</td><td>0.801</td></tr>\n",
    "<tr><th rowspan=\"2\">区分5<br>Category 5</th><th>冷房<br>cooling</th><td>0.777</td><td>0.788</td><td>0.804</td><td>0.774</td><td>0.699</td><td>0.781</td><td>0.825</td><td>0.792</td></tr>\n",
    "<tr><th>暖房<br>heating</th><td>0.790</td><td>0.772</td><td>0.801</td><td>0.825</td><td>0.819</td><td>0.825</td><td>0.804</td><td>0.771</td></tr>\n",
    "<tr><th rowspan=\"2\">区分6<br>Category 6</th><th>冷房<br>cooling</th><td>0.782</td><td>0.792</td><td>0.808</td><td>0.778</td><td>0.707</td><td>0.786</td><td>0.828</td><td>0.796</td></tr>\n",
    "<tr><th>暖房<br>heating</th><td>0.793</td><td>0.776</td><td>0.804</td><td>0.827</td><td>0.821</td><td>0.827</td><td>0.807</td><td>0.776</td></tr>\n",
    "<tr><th rowspan=\"2\">区分7<br>Category 7</th><th>冷房<br>cooling</th><td>0.761</td><td>0.772</td><td>0.790</td><td>0.757</td><td>0.681</td><td>0.764</td><td>0.812</td><td>0.776</td></tr>\n",
    "<tr><th>暖房<br>heating</th><td>0.774</td><td>0.756</td><td>0.786</td><td>0.811</td><td>0.803</td><td>0.810</td><td>0.789</td><td>0.755</td></tr>\n",
    "\n",
    "<tr>\n",
    "<th rowspan=\"14\">4</th><th rowspan=\"2\">区分1<br>Category 1</th><th>冷房<br>cooling</th><td>0.852</td><td>0.861</td><td>0.881</td><td>0.853</td><td>0.784</td><td>0.850</td><td>0.876</td><td>0.861</td></tr>\n",
    "<tr><th>暖房<br>heating</th><td>0.861</td><td>0.846</td><td>0.874</td><td>0.883</td><td>0.874</td><td>0.882</td><td>0.872</td><td>0.845</td></tr>\n",
    "<tr><th rowspan=\"2\">区分2<br>Category 2</th><th>冷房<br>cooling</th><td>0.806</td><td>0.816</td><td>0.845</td><td>0.805</td><td>0.721</td><td>0.802</td><td>0.839</td><td>0.816</td></tr>\n",
    "<tr><th>暖房<br>heating</th><td>0.816</td><td>0.797</td><td>0.834</td><td>0.846</td><td>0.832</td><td>0.846</td><td>0.833</td><td>0.796</td></tr>\n",
    "<tr><th rowspan=\"2\">区分3<br>Category 3</th><th>冷房<br>cooling</th><td>0.790</td><td>0.800</td><td>0.831</td><td>0.787</td><td>0.704</td><td>0.785</td><td>0.824</td><td>0.800</td></tr>\n",
    "<tr><th>暖房<br>heating</th><td>0.802</td><td>0.782</td><td>0.819</td><td>0.833</td><td>0.817</td><td>0.832</td><td>0.818</td><td>0.780</td></tr>\n",
    "<tr><th rowspan=\"2\">区分4<br>Category 4</th><th>冷房<br>cooling</th><td>0.804</td><td>0.813</td><td>0.842</td><td>0.802</td><td>0.721</td><td>0.799</td><td>0.836</td><td>0.813</td></tr>\n",
    "<tr><th>暖房<br>heating</th><td>0.814</td><td>0.796</td><td>0.831</td><td>0.843</td><td>0.829</td><td>0.843</td><td>0.830</td><td>0.794</td></tr>\n",
    "<tr><th rowspan=\"2\">区分5<br>Category 5</th><th>冷房<br>cooling</th><td>0.776</td><td>0.786</td><td>0.820</td><td>0.772</td><td>0.683</td><td>0.770</td><td>0.813</td><td>0.786</td></tr>\n",
    "<tr><th>暖房<br>heating</th><td>0.787</td><td>0.766</td><td>0.807</td><td>0.822</td><td>0.804</td><td>0.821</td><td>0.806</td><td>0.764</td></tr>\n",
    "<tr><th rowspan=\"2\">区分6<br>Category 6</th><th>冷房<br>cooling</th><td>0.781</td><td>0.791</td><td>0.823</td><td>0.777</td><td>0.691</td><td>0.775</td><td>0.817</td><td>0.790</td></tr>\n",
    "<tr><th>暖房<br>heating</th><td>0.791</td><td>0.770</td><td>0.810</td><td>0.824</td><td>0.807</td><td>0.824</td><td>0.809</td><td>0.769</td></tr>\n",
    "<tr><th rowspan=\"2\">区分7<br>Category 7</th><th>冷房<br>cooling</th><td>0.761</td><td>0.770</td><td>0.806</td><td>0.754</td><td>0.665</td><td>0.752</td><td>0.799</td><td>0.770</td></tr>\n",
    "<tr><th>暖房<br>heating</th><td>0.772</td><td>0.749</td><td>0.792</td><td>0.807</td><td>0.787</td><td>0.807</td><td>0.791</td><td>0.747</td></tr>\n",
    "\n",
    "<tr>\n",
    "<th rowspan=\"14\">5</th><th rowspan=\"2\">区分1<br>Category 1</th><th>冷房<br>cooling</th><td>0.860</td><td>0.863</td><td>0.874</td><td>0.854</td><td>0.807</td><td>0.858</td><td>0.875</td><td>0.862</td></tr>\n",
    "<tr><th>暖房<br>heating</th><td>0.867</td><td>0.838</td><td>0.874</td><td>0.894</td><td>0.894</td><td>0.891</td><td>0.871</td><td>0.840</td></tr>\n",
    "<tr><th rowspan=\"2\">区分2<br>Category 2</th><th>冷房<br>cooling</th><td>0.816</td><td>0.820</td><td>0.835</td><td>0.807</td><td>0.749</td><td>0.813</td><td>0.837</td><td>0.817</td></tr>\n",
    "<tr><th>暖房<br>heating</th><td>0.823</td><td>0.787</td><td>0.834</td><td>0.861</td><td>0.858</td><td>0.857</td><td>0.830</td><td>0.789</td></tr>\n",
    "<tr><th rowspan=\"2\">区分3<br>Category 3</th><th>冷房<br>cooling</th><td>0.800</td><td>0.804</td><td>0.820</td><td>0.790</td><td>0.732</td><td>0.795</td><td>0.822</td><td>0.801</td></tr>\n",
    "<tr><th>暖房<br>heating</th><td>0.809</td><td>0.771</td><td>0.819</td><td>0.848</td><td>0.842</td><td>0.845</td><td>0.815</td><td>0.773</td></tr>\n",
    "<tr><th rowspan=\"2\">区分4<br>Category 4</th><th>冷房<br>cooling</th><td>0.813</td><td>0.817</td><td>0.832</td><td>0.804</td><td>0.749</td><td>0.809</td><td>0.834</td><td>0.815</td></tr>\n",
    "<tr><th>暖房<br>heating</th><td>0.821</td><td>0.786</td><td>0.831</td><td>0.858</td><td>0.854</td><td>0.854</td><td>0.827</td><td>0.788</td></tr>\n",
    "<tr><th rowspan=\"2\">区分5<br>Category 5</th><th>冷房<br>cooling</th><td>0.786</td><td>0.791</td><td>0.809</td><td>0.775</td><td>0.713</td><td>0.782</td><td>0.811</td><td>0.788</td></tr>\n",
    "<tr><th>暖房<br>heating</th><td>0.795</td><td>0.754</td><td>0.807</td><td>0.839</td><td>0.832</td><td>0.835</td><td>0.803</td><td>0.756</td></tr>\n",
    "<tr><th rowspan=\"2\">区分6<br>Category 6</th><th>冷房<br>cooling</th><td>0.791</td><td>0.795</td><td>0.812</td><td>0.780</td><td>0.720</td><td>0.786</td><td>0.815</td><td>0.792</td></tr>\n",
    "<tr><th>暖房<br>heating</th><td>0.798</td><td>0.759</td><td>0.810</td><td>0.841</td><td>0.833</td><td>0.837</td><td>0.806</td><td>0.761</td></tr>\n",
    "<tr><th rowspan=\"2\">区分7<br>Category 7</th><th>冷房<br>cooling</th><td>0.771</td><td>0.775</td><td>0.794</td><td>0.758</td><td>0.696</td><td>0.765</td><td>0.797</td><td>0.772</td></tr>\n",
    "<tr><th>暖房<br>heating</th><td>0.779</td><td>0.737</td><td>0.791</td><td>0.826</td><td>0.816</td><td>0.821</td><td>0.787</td><td>0.740</td></tr>\n",
    "\n",
    "</tbody>\n",
    "</table>\n"
   ]
  },
  {
   "cell_type": "markdown",
   "metadata": {},
   "source": [
    "<div style=\"text-align: center;font-weight: bold;\">表　当該開口部の上部に日除けが設置されていない場合の開口部の取得日射熱補正係数（続き）<br>Table: Acquisition solar radiation heat correction coefficient of the opening when the sunshade is not installed above the opening (Cont.)</div>\n",
    "\n",
    "<table>\n",
    "<thead>\n",
    "<tr>\n",
    "<th rowspan=\"2\">地域の区分<br>Segmentation of area</th>\n",
    "<th rowspan=\"2\">ガラス仕様の区分<br>Classification of<br>glass specifications</th>\n",
    "<th rowspan=\"2\">期間<br>period</th>\n",
    "<th colspan=\"8\" style=\"text-align:center;\">開口部の面する方位<br>Orientation of the opening facing</th>\n",
    "</tr>\n",
    "<tr>\n",
    "<th>北<br>North</th>\n",
    "<th>北東<br>Northeast</th>\n",
    "<th>東<br>East</th>\n",
    "<th>南東<br>Southeast</th>\n",
    "<th>南<br>South</th>\n",
    "<th>南西<br>Southwest</th>\n",
    "<th>西<br>West</th>\n",
    "<th>北西<br>Northwest</th>\n",
    "</tr>\n",
    "</thead>\n",
    "\n",
    "<tbody>\n",
    "<tr>\n",
    "<th rowspan=\"14\">6</th><th rowspan=\"2\">区分1<br>Category 1</th><th>冷房</th><td>0.847</td><td>0.862</td><td>0.880</td><td>0.852</td><td>0.795</td><td>0.852</td><td>0.880</td><td>0.864</td></tr>\n",
    "<tr><th>暖房</th><td>0.870</td><td>0.839</td><td>0.874</td><td>0.896</td><td>0.889</td><td>0.885</td><td>0.874</td><td>0.844</td></tr>\n",
    "<tr><th rowspan=\"2\">区分2<br>Category 2</th><th>冷房</th><td>0.800</td><td>0.818</td><td>0.843</td><td>0.804</td><td>0.738</td><td>0.804</td><td>0.843</td><td>0.820</td></tr>\n",
    "<tr><th>暖房</th><td>0.827</td><td>0.788</td><td>0.834</td><td>0.865</td><td>0.851</td><td>0.850</td><td>0.833</td><td>0.794</td></tr>\n",
    "<tr><th rowspan=\"2\">区分3<br>Category 3</th><th>冷房</th><td>0.784</td><td>0.802</td><td>0.829</td><td>0.786</td><td>0.721</td><td>0.786</td><td>0.829</td><td>0.805</td></tr>\n",
    "<tr><th>暖房</th><td>0.813</td><td>0.772</td><td>0.819</td><td>0.852</td><td>0.836</td><td>0.837</td><td>0.818</td><td>0.778</td></tr>\n",
    "<tr><th rowspan=\"2\">区分4<br>Category 4</th><th>冷房</th><td>0.798</td><td>0.816</td><td>0.840</td><td>0.801</td><td>0.737</td><td>0.801</td><td>0.840</td><td>0.818</td></tr>\n",
    "<tr><th>暖房</th><td>0.825</td><td>0.787</td><td>0.831</td><td>0.862</td><td>0.848</td><td>0.847</td><td>0.830</td><td>0.793</td></tr>\n",
    "<tr><th rowspan=\"2\">区分5<br>Category 5</th><th>冷房</th><td>0.769</td><td>0.789</td><td>0.818</td><td>0.771</td><td>0.702</td><td>0.771</td><td>0.818</td><td>0.791</td></tr>\n",
    "<tr><th>暖房</th><td>0.799</td><td>0.755</td><td>0.806</td><td>0.843</td><td>0.824</td><td>0.827</td><td>0.806</td><td>0.762</td></tr>\n",
    "<tr><th rowspan=\"2\">区分6<br>Category 6</th><th>冷房</th><td>0.774</td><td>0.793</td><td>0.821</td><td>0.776</td><td>0.709</td><td>0.776</td><td>0.821</td><td>0.796</td></tr>\n",
    "<tr><th>暖房</th><td>0.803</td><td>0.760</td><td>0.809</td><td>0.845</td><td>0.826</td><td>0.829</td><td>0.809</td><td>0.767</td></tr>\n",
    "<tr><th rowspan=\"2\">区分7<br>Category 7</th><th>冷房</th><td>0.754</td><td>0.773</td><td>0.804</td><td>0.754</td><td>0.685</td><td>0.754</td><td>0.804</td><td>0.776</td></tr>\n",
    "<tr><th>暖房</th><td>0.784</td><td>0.739</td><td>0.791</td><td>0.830</td><td>0.808</td><td>0.813</td><td>0.790</td><td>0.745</td></tr>\n",
    "<tr>\n",
    "<th rowspan=\"14\">7</th><th rowspan=\"2\">区分1<br>Category 1</th><th>冷房</th><td>0.838</td><td>0.861</td><td>0.881</td><td>0.849</td><td>0.788</td><td>0.847</td><td>0.880</td><td>0.862</td></tr>\n",
    "<tr><th>暖房</th><td>0.873</td><td>0.833</td><td>0.868</td><td>0.892</td><td>0.896</td><td>0.894</td><td>0.870</td><td>0.834</td></tr>\n",
    "<tr><th rowspan=\"2\">区分2<br>Category 2</th><th>冷房</th><td>0.788</td><td>0.817</td><td>0.845</td><td>0.800</td><td>0.730</td><td>0.798</td><td>0.843</td><td>0.818</td></tr>\n",
    "<tr><th>暖房</th><td>0.831</td><td>0.780</td><td>0.827</td><td>0.859</td><td>0.860</td><td>0.861</td><td>0.829</td><td>0.780</td></tr>\n",
    "<tr><th rowspan=\"2\">区分3<br>Category 3</th><th>冷房</th><td>0.772</td><td>0.801</td><td>0.831</td><td>0.782</td><td>0.713</td><td>0.780</td><td>0.829</td><td>0.802</td></tr>\n",
    "<tr><th>暖房</th><td>0.817</td><td>0.764</td><td>0.812</td><td>0.847</td><td>0.844</td><td>0.849</td><td>0.814</td><td>0.764</td></tr>\n",
    "<tr><th rowspan=\"2\">区分4<br>Category 4</th><th>冷房</th><td>0.787</td><td>0.814</td><td>0.842</td><td>0.797</td><td>0.729</td><td>0.795</td><td>0.840</td><td>0.815</td></tr>\n",
    "<tr><th>暖房</th><td>0.829</td><td>0.779</td><td>0.824</td><td>0.856</td><td>0.856</td><td>0.858</td><td>0.826</td><td>0.779</td></tr>\n",
    "<tr><th rowspan=\"2\">区分5<br>Category 5</th><th>冷房</th><td>0.757</td><td>0.787</td><td>0.821</td><td>0.767</td><td>0.694</td><td>0.764</td><td>0.818</td><td>0.788</td></tr>\n",
    "<tr><th>暖房</th><td>0.803</td><td>0.746</td><td>0.799</td><td>0.837</td><td>0.833</td><td>0.839</td><td>0.801</td><td>0.746</td></tr>\n",
    "<tr><th rowspan=\"2\">区分6<br>Category 6</th><th>冷房</th><td>0.762</td><td>0.792</td><td>0.824</td><td>0.772</td><td>0.701</td><td>0.770</td><td>0.822</td><td>0.793</td></tr>\n",
    "<tr><th>暖房</th><td>0.807</td><td>0.752</td><td>0.802</td><td>0.839</td><td>0.835</td><td>0.841</td><td>0.804</td><td>0.752</td></tr>\n",
    "<tr><th rowspan=\"2\">区分7<br>Category 7</th><th>冷房</th><td>0.741</td><td>0.772</td><td>0.808</td><td>0.749</td><td>0.677</td><td>0.747</td><td>0.805</td><td>0.772</td></tr>\n",
    "<tr><th>暖房</th><td>0.788</td><td>0.729</td><td>0.783</td><td>0.824</td><td>0.816</td><td>0.826</td><td>0.785</td><td>0.729</td></tr>\n",
    "<tr>\n",
    "<th rowspan=\"7\">8</th>\n",
    "<th>区分1<br>Category 1</th><th>冷房</th><td>0.848</td><td>0.857</td><td>0.877</td><td>0.860</td><td>0.824</td><td>0.858</td><td>0.876</td><td>0.859</td></tr>\n",
    "<tr><th>区分2<br>Category 2</th><th>冷房</th><td>0.801</td><td>0.811</td><td>0.840</td><td>0.816</td><td>0.773</td><td>0.813</td><td>0.839</td><td>0.814</td></tr>\n",
    "<tr><th>区分3<br>Category 3</th><th>冷房</th><td>0.786</td><td>0.795</td><td>0.825</td><td>0.799</td><td>0.755</td><td>0.796</td><td>0.825</td><td>0.798</td></tr>\n",
    "<tr><th>区分4<br>Category 4</th><th>冷房</th><td>0.799</td><td>0.809</td><td>0.837</td><td>0.813</td><td>0.771</td><td>0.810</td><td>0.836</td><td>0.812</td></tr>\n",
    "<tr><th>区分5<br>Category 5</th><th>冷房</th><td>0.771</td><td>0.780</td><td>0.815</td><td>0.786</td><td>0.739</td><td>0.782</td><td>0.814</td><td>0.784</td></tr>\n",
    "<tr><th>区分6<br>Category 6</th><th>冷房</th><td>0.776</td><td>0.785</td><td>0.818</td><td>0.790</td><td>0.745</td><td>0.786</td><td>0.817</td><td>0.789</td></tr>\n",
    "<tr><th>区分7<br>Category 7</th><th>冷房</th><td>0.756</td><td>0.764</td><td>0.801</td><td>0.770</td><td>0.722</td><td>0.766</td><td>0.800</td><td>0.768</td></tr>\n",
    "</tbody>\n",
    "</table>\n",
    "\n"
   ]
  },
  {
   "cell_type": "code",
   "execution_count": null,
   "metadata": {},
   "outputs": [],
   "source": [
    "# 当該開口部の上部に日除けが設置されていない場合の開口部の取得日射熱補正係数\n",
    "def get_table_2(region, glass_spec_category, H_or_C, direction):\n",
    "    # 表2 当該開口部の上部に日除けが設置されていない場合の開口部の取得日射熱補正係数\n",
    "    table_2 = [\n",
    "        (0.853, 0.865, 0.882, 0.864, 0.807, 0.860, 0.880, 0.866),\n",
    "        (0.862, 0.848, 0.871, 0.892, 0.892, 0.888, 0.869, 0.850),\n",
    "        (0.807, 0.821, 0.847, 0.820, 0.746, 0.814, 0.844, 0.822),\n",
    "        (0.818, 0.799, 0.831, 0.858, 0.856, 0.853, 0.828, 0.802),\n",
    "        (0.791, 0.805, 0.833, 0.802, 0.727, 0.797, 0.830, 0.806),\n",
    "        (0.803, 0.783, 0.816, 0.844, 0.842, 0.839, 0.813, 0.787),\n",
    "        (0.805, 0.818, 0.844, 0.816, 0.745, 0.811, 0.841, 0.819),\n",
    "        (0.816, 0.797, 0.828, 0.854, 0.853, 0.850, 0.825, 0.800),\n",
    "        (0.776, 0.791, 0.823, 0.789, 0.707, 0.783, 0.820, 0.792),\n",
    "        (0.789, 0.767, 0.804, 0.834, 0.831, 0.829, 0.800, 0.771),\n",
    "        (0.781, 0.796, 0.826, 0.793, 0.715, 0.787, 0.823, 0.797),\n",
    "        (0.793, 0.772, 0.806, 0.836, 0.833, 0.831, 0.803, 0.775),\n",
    "        (0.761, 0.776, 0.810, 0.772, 0.688, 0.766, 0.806, 0.777),\n",
    "        (0.773, 0.751, 0.788, 0.820, 0.816, 0.814, 0.785, 0.755),\n",
    "        (0.857, 0.864, 0.877, 0.858, 0.812, 0.861, 0.878, 0.864),\n",
    "        (0.860, 0.851, 0.873, 0.888, 0.880, 0.885, 0.874, 0.850),\n",
    "        (0.812, 0.820, 0.839, 0.814, 0.753, 0.817, 0.841, 0.819),\n",
    "        (0.815, 0.802, 0.833, 0.853, 0.840, 0.848, 0.835, 0.802),\n",
    "        (0.796, 0.804, 0.825, 0.796, 0.734, 0.799, 0.827, 0.803),\n",
    "        (0.801, 0.787, 0.819, 0.840, 0.825, 0.834, 0.821, 0.786),\n",
    "        (0.810, 0.817, 0.836, 0.810, 0.751, 0.813, 0.838, 0.817),\n",
    "        (0.814, 0.801, 0.831, 0.850, 0.837, 0.845, 0.832, 0.800),\n",
    "        (0.782, 0.790, 0.814, 0.783, 0.714, 0.786, 0.816, 0.790),\n",
    "        (0.786, 0.771, 0.807, 0.829, 0.813, 0.824, 0.809, 0.770),\n",
    "        (0.787, 0.794, 0.817, 0.787, 0.721, 0.790, 0.820, 0.794),\n",
    "        (0.790, 0.775, 0.810, 0.831, 0.815, 0.826, 0.811, 0.775),\n",
    "        (0.767, 0.774, 0.800, 0.766, 0.695, 0.768, 0.803, 0.774),\n",
    "        (0.771, 0.754, 0.792, 0.815, 0.797, 0.809, 0.794, 0.754),\n",
    "        (0.853, 0.862, 0.870, 0.853, 0.799, 0.859, 0.883, 0.865),\n",
    "        (0.862, 0.850, 0.869, 0.885, 0.884, 0.885, 0.871, 0.850),\n",
    "        (0.807, 0.817, 0.830, 0.806, 0.738, 0.813, 0.849, 0.821),\n",
    "        (0.818, 0.803, 0.828, 0.850, 0.846, 0.849, 0.831, 0.802),\n",
    "        (0.791, 0.802, 0.816, 0.788, 0.720, 0.795, 0.835, 0.805),\n",
    "        (0.804, 0.787, 0.814, 0.836, 0.831, 0.836, 0.816, 0.787),\n",
    "        (0.805, 0.815, 0.828, 0.803, 0.737, 0.810, 0.846, 0.819),\n",
    "        (0.816, 0.801, 0.826, 0.847, 0.842, 0.846, 0.828, 0.801),\n",
    "        (0.777, 0.788, 0.804, 0.774, 0.699, 0.781, 0.825, 0.792),\n",
    "        (0.790, 0.772, 0.801, 0.825, 0.819, 0.825, 0.804, 0.771),\n",
    "        (0.782, 0.792, 0.808, 0.778, 0.707, 0.786, 0.828, 0.796),\n",
    "        (0.793, 0.776, 0.804, 0.827, 0.821, 0.827, 0.807, 0.776),\n",
    "        (0.761, 0.772, 0.790, 0.757, 0.681, 0.764, 0.812, 0.776),\n",
    "        (0.774, 0.756, 0.786, 0.811, 0.803, 0.810, 0.789, 0.755),\n",
    "        (0.852, 0.861, 0.881, 0.853, 0.784, 0.850, 0.876, 0.861),\n",
    "        (0.861, 0.846, 0.874, 0.883, 0.874, 0.882, 0.872, 0.845),\n",
    "        (0.806, 0.816, 0.845, 0.805, 0.721, 0.802, 0.839, 0.816),\n",
    "        (0.816, 0.797, 0.834, 0.846, 0.832, 0.846, 0.833, 0.796),\n",
    "        (0.790, 0.800, 0.831, 0.787, 0.704, 0.785, 0.824, 0.800),\n",
    "        (0.802, 0.782, 0.819, 0.833, 0.817, 0.832, 0.818, 0.780),\n",
    "        (0.804, 0.813, 0.842, 0.802, 0.721, 0.799, 0.836, 0.813),\n",
    "        (0.814, 0.796, 0.831, 0.843, 0.829, 0.843, 0.830, 0.794),\n",
    "        (0.776, 0.786, 0.820, 0.772, 0.683, 0.770, 0.813, 0.786),\n",
    "        (0.787, 0.766, 0.807, 0.822, 0.804, 0.821, 0.806, 0.764),\n",
    "        (0.781, 0.791, 0.823, 0.777, 0.691, 0.775, 0.817, 0.790),\n",
    "        (0.791, 0.770, 0.810, 0.824, 0.807, 0.824, 0.809, 0.769),\n",
    "        (0.761, 0.770, 0.806, 0.754, 0.665, 0.752, 0.799, 0.770),\n",
    "        (0.772, 0.749, 0.792, 0.807, 0.787, 0.807, 0.791, 0.747),\n",
    "        (0.860, 0.863, 0.874, 0.854, 0.807, 0.858, 0.875, 0.862),\n",
    "        (0.867, 0.838, 0.874, 0.894, 0.894, 0.891, 0.871, 0.840),\n",
    "        (0.816, 0.820, 0.835, 0.807, 0.749, 0.813, 0.837, 0.817),\n",
    "        (0.823, 0.787, 0.834, 0.861, 0.858, 0.857, 0.830, 0.789),\n",
    "        (0.800, 0.804, 0.820, 0.790, 0.732, 0.795, 0.822, 0.801),\n",
    "        (0.809, 0.771, 0.819, 0.848, 0.842, 0.845, 0.815, 0.773),\n",
    "        (0.813, 0.817, 0.832, 0.804, 0.749, 0.809, 0.834, 0.815),\n",
    "        (0.821, 0.786, 0.831, 0.858, 0.854, 0.854, 0.827, 0.788),\n",
    "        (0.786, 0.791, 0.809, 0.775, 0.713, 0.782, 0.811, 0.788),\n",
    "        (0.795, 0.754, 0.807, 0.839, 0.832, 0.835, 0.803, 0.756),\n",
    "        (0.791, 0.795, 0.812, 0.780, 0.720, 0.786, 0.815, 0.792),\n",
    "        (0.798, 0.759, 0.810, 0.841, 0.833, 0.837, 0.806, 0.761),\n",
    "        (0.771, 0.775, 0.794, 0.758, 0.696, 0.765, 0.797, 0.772),\n",
    "        (0.779, 0.737, 0.791, 0.826, 0.816, 0.821, 0.787, 0.740),\n",
    "        (0.847, 0.862, 0.880, 0.852, 0.795, 0.852, 0.880, 0.864),\n",
    "        (0.870, 0.839, 0.874, 0.896, 0.889, 0.885, 0.874, 0.844),\n",
    "        (0.800, 0.818, 0.843, 0.804, 0.738, 0.804, 0.843, 0.820),\n",
    "        (0.827, 0.788, 0.834, 0.865, 0.851, 0.850, 0.833, 0.794),\n",
    "        (0.784, 0.802, 0.829, 0.786, 0.721, 0.786, 0.829, 0.805),\n",
    "        (0.813, 0.772, 0.819, 0.852, 0.836, 0.837, 0.818, 0.778),\n",
    "        (0.798, 0.816, 0.840, 0.801, 0.737, 0.801, 0.840, 0.818),\n",
    "        (0.825, 0.787, 0.831, 0.862, 0.848, 0.847, 0.830, 0.793),\n",
    "        (0.769, 0.789, 0.818, 0.771, 0.702, 0.771, 0.818, 0.791),\n",
    "        (0.799, 0.755, 0.806, 0.843, 0.824, 0.827, 0.806, 0.762),\n",
    "        (0.774, 0.793, 0.821, 0.776, 0.709, 0.776, 0.821, 0.796),\n",
    "        (0.803, 0.760, 0.809, 0.845, 0.826, 0.829, 0.809, 0.767),\n",
    "        (0.754, 0.773, 0.804, 0.754, 0.685, 0.754, 0.804, 0.776),\n",
    "        (0.784, 0.739, 0.791, 0.830, 0.808, 0.813, 0.790, 0.745),\n",
    "        (0.838, 0.861, 0.881, 0.849, 0.788, 0.847, 0.880, 0.862),\n",
    "        (0.873, 0.833, 0.868, 0.892, 0.896, 0.894, 0.870, 0.834),\n",
    "        (0.788, 0.817, 0.845, 0.800, 0.730, 0.798, 0.843, 0.818),\n",
    "        (0.831, 0.780, 0.827, 0.859, 0.860, 0.861, 0.829, 0.780),\n",
    "        (0.772, 0.801, 0.831, 0.782, 0.713, 0.780, 0.829, 0.802),\n",
    "        (0.817, 0.764, 0.812, 0.847, 0.844, 0.849, 0.814, 0.764),\n",
    "        (0.787, 0.814, 0.842, 0.797, 0.729, 0.795, 0.840, 0.815),\n",
    "        (0.829, 0.779, 0.824, 0.856, 0.856, 0.858, 0.826, 0.779),\n",
    "        (0.757, 0.787, 0.821, 0.767, 0.694, 0.764, 0.818, 0.788),\n",
    "        (0.803, 0.746, 0.799, 0.837, 0.833, 0.839, 0.801, 0.746),\n",
    "        (0.762, 0.792, 0.824, 0.772, 0.701, 0.770, 0.822, 0.793),\n",
    "        (0.807, 0.752, 0.802, 0.839, 0.835, 0.841, 0.804, 0.752),\n",
    "        (0.741, 0.772, 0.808, 0.749, 0.677, 0.747, 0.805, 0.772),\n",
    "        (0.788, 0.729, 0.783, 0.824, 0.816, 0.826, 0.785, 0.729),\n",
    "        (0.848, 0.857, 0.877, 0.860, 0.824, 0.858, 0.876, 0.859),\n",
    "        (0.801, 0.811, 0.840, 0.816, 0.773, 0.813, 0.839, 0.814),\n",
    "        (0.786, 0.795, 0.825, 0.799, 0.755, 0.796, 0.825, 0.798),\n",
    "        (0.799, 0.809, 0.837, 0.813, 0.771, 0.810, 0.836, 0.812),\n",
    "        (0.771, 0.780, 0.815, 0.786, 0.739, 0.782, 0.814, 0.784),\n",
    "        (0.776, 0.785, 0.818, 0.790, 0.745, 0.786, 0.817, 0.789),\n",
    "        (0.756, 0.764, 0.801, 0.770, 0.722, 0.766, 0.800, 0.768),\n",
    "    ]\n",
    "\n",
    "    # 開口部の面する方位からインデックスへ\n",
    "    dir_dic = {\n",
    "        '北': 0,\n",
    "        '北東': 1,\n",
    "        '東': 2,\n",
    "        '南東': 3,\n",
    "        '南': 4,\n",
    "        '南西': 5,\n",
    "        '西': 6,\n",
    "        '北西': 7,\n",
    "    }\n",
    "    dir_index = dir_dic[direction]\n",
    "\n",
    "    if glass_spec_category not in [1, 2, 3, 4, 5, 6, 7]:\n",
    "        raise ValueError(glass_spec_category)\n",
    "\n",
    "    if region not in [1, 2, 3, 4, 5, 6, 7, 8]:\n",
    "        raise ValueError(region)\n",
    "\n",
    "    region_index = (region - 1) * 14\n",
    "    glass_index = (glass_spec_category - 1) * 2\n",
    "\n",
    "    if H_or_C == 'C':\n",
    "        HC_index = 0\n",
    "    elif H_or_C == 'H':\n",
    "        HC_index = 1\n",
    "    else:\n",
    "        raise ValueError(H_or_C)\n",
    "\n",
    "    index = region_index + glass_index + HC_index\n",
    "\n",
    "    return table_2[index][dir_index]"
   ]
  },
  {
   "cell_type": "markdown",
   "metadata": {},
   "source": [
    "### B.2 ガラスの仕様の区分 / Classification of glass specifications"
   ]
  },
  {
   "cell_type": "markdown",
   "metadata": {},
   "source": [
    "<div style=\"text-align: center;font-weight: bold;\">表　ガラスの仕様の区分<br>Table: Classification of glass specifications</div>\n",
    "\n",
    "<table>\n",
    "<thead>\n",
    "<tr>\n",
    "<th style=\"text-align: left;\" rowspan=\"2\" colspan=\"3\"></th>\n",
    "<th style=\"text-align: left;\" colspan=\"7\">ガラスの仕様の区分<br>Classification of glass specifications</th>\n",
    "</tr>\n",
    "<tr>\n",
    "<th style=\"text-align: left;\" style=\"text-align: center;\">1</th>\n",
    "<th style=\"text-align: left;\" style=\"text-align: center;\">2</th>\n",
    "<th style=\"text-align: left;\" style=\"text-align: center;\">3</th>\n",
    "<th style=\"text-align: left;\" style=\"text-align: center;\">4</th>\n",
    "<th style=\"text-align: left;\" style=\"text-align: center;\">5</th>\n",
    "<th style=\"text-align: left;\" style=\"text-align: center;\">6</th>\n",
    "<th style=\"text-align: left;\" style=\"text-align: center;\">7</th>\n",
    "</tr>\n",
    "</thead>\n",
    "\n",
    "<tbody>\n",
    "<tr>\n",
    "<th style=\"text-align: left;\" rowspan=\"4\">三層複層<br>Three layer double layer</th>\n",
    "<th style=\"text-align: left;\" rowspan=\"2\">2 枚以上のガラス表面に<br>Low-E膜を使用した<br>Low-E 三層複層ガラス<br>Low-E Three Layer Double Layer Glass <br>Using Low-E Film on Two or More Glass Surfaces</th>\n",
    "<th style=\"text-align: left;\">日射取得型<br>Solar radiation acquisition type</th>\n",
    "<td></td>\n",
    "<td></td>\n",
    "<td></td>\n",
    "<td></td>\n",
    "<td></td>\n",
    "<td><span style=\"font-size: 200%;\">○</span></td>\n",
    "<td></td>\n",
    "</tr>\n",
    "<tr>\n",
    "<th style=\"text-align: left;\">日射遮蔽型<br>Solar shading type</th>\n",
    "<td></td>\n",
    "<td></td>\n",
    "<td><span style=\"font-size: 200%;\">○</span></td>\n",
    "<td></td>\n",
    "<td></td>\n",
    "<td></td>\n",
    "<td></td>\n",
    "</tr>\n",
    "<tr>\n",
    "<th style=\"text-align: left;\" rowspan=\"2\">Low-E 三層複層ガラス<br>Low-E Three Layer Double Glass</th>\n",
    "<th style=\"text-align: left;\">日射取得型<br>Solar radiation acquisition type</th>\n",
    "<td></td>\n",
    "<td></td>\n",
    "<td></td>\n",
    "<td></td>\n",
    "<td></td>\n",
    "<td><span style=\"font-size: 200%;\">○</span></td>\n",
    "<td></td>\n",
    "</tr>\n",
    "<tr>\n",
    "<th style=\"text-align: left;\">日射遮蔽型<br>Solar shading type</th>\n",
    "<td></td>\n",
    "<td></td>\n",
    "<td></td>\n",
    "<td></td>\n",
    "<td></td>\n",
    "<td><span style=\"font-size: 200%;\">○</span></td>\n",
    "<td></td>\n",
    "</tr>\n",
    "\n",
    "<tr>\n",
    "<th style=\"text-align: left;\" rowspan=\"4\">二層複層<br>Double layer double layer</th>\n",
    "<th style=\"text-align: left;\" rowspan=\"2\">Low-E 二層複層ガラス<br>Low-E Double Layer Double Glass</th>\n",
    "<th style=\"text-align: left;\">日射取得型<br>Solar radiation acquisition type</th>\n",
    "<td></td>\n",
    "<td></td>\n",
    "<td><span style=\"font-size: 200%;\">○</span></td>\n",
    "<td></td>\n",
    "<td></td>\n",
    "<td></td>\n",
    "<td></td>\n",
    "</tr>\n",
    "<tr>\n",
    "<th style=\"text-align: left;\">日射遮蔽型<br>Solar shading type</th>\n",
    "<td></td>\n",
    "<td></td>\n",
    "<td></td>\n",
    "<td><span style=\"font-size: 200%;\">○</span></td>\n",
    "<td></td>\n",
    "<td></td>\n",
    "<td></td>\n",
    "</tr>\n",
    "<tr>\n",
    "<th style=\"text-align: left;\" colspan=\"2\">二層複層ガラス<br>Double layer double glazing</th>\n",
    "<td></td>\n",
    "<td><span style=\"font-size: 200%;\">○</span></td>\n",
    "<td></td>\n",
    "<td></td>\n",
    "<td></td>\n",
    "<td></td>\n",
    "<td></td>\n",
    "</tr>\n",
    "<tr>\n",
    "<th style=\"text-align: left;\" colspan=\"2\">単板ガラス 2 枚を組み合わせたもの<br>A combination of 2 single sheets of glass</th>\n",
    "<td></td>\n",
    "<td><span style=\"font-size: 200%;\">○</span></td>\n",
    "<td></td>\n",
    "<td></td>\n",
    "<td></td>\n",
    "<td></td>\n",
    "<td></td>\n",
    "</tr>\n",
    "\n",
    "<tr>\n",
    "<th style=\"text-align: left;\">単層<br>Single layer</th>\n",
    "<th style=\"text-align: left;\" colspan=\"2\">単板ガラス<br>Veneer glass</th>\n",
    "<td><span style=\"font-size: 200%;\">○</span></td>\n",
    "<td></td>\n",
    "<td></td>\n",
    "<td></td>\n",
    "<td></td>\n",
    "<td></td>\n",
    "<td></td>\n",
    "</tr>\n",
    "\n",
    "<tr>\n",
    "<th style=\"text-align: left;\" rowspan=\"4\">二重窓<br>Double window</th>\n",
    "<th style=\"text-align: left;\" colspan=\"2\">単板ガラス 2 枚を組み合わせたもの<br>A combination of 2 single sheets of glass</th>\n",
    "<td></td>\n",
    "<td><span style=\"font-size: 200%;\">○</span></td>\n",
    "<td></td>\n",
    "<td></td>\n",
    "<td></td>\n",
    "<td></td>\n",
    "<td></td>\n",
    "</tr>\n",
    "<tr>\n",
    "<th style=\"text-align: left;\" colspan=\"2\">単板ガラスと複層ガラスを組み合わせたもの<br>A combination of single sheet glass and double layer glass</th>\n",
    "<td></td>\n",
    "<td></td>\n",
    "<td></td>\n",
    "<td></td>\n",
    "<td><span style=\"font-size: 200%;\">○</span></td>\n",
    "<td></td>\n",
    "<td></td>\n",
    "</tr>\n",
    "<tr>\n",
    "<th style=\"text-align: left;\" rowspan=\"2\">単板ガラスとLow-E複層ガラスを<br>組み合わせたもの<br>A combination of single sheet glass <br>and Low-E double layer glass</th>\n",
    "<th style=\"text-align: left;\">日射取得型<br>Solar radiation acquisition type</th>\n",
    "<td></td>\n",
    "<td></td>\n",
    "<td></td>\n",
    "<td></td>\n",
    "<td></td>\n",
    "<td></td>\n",
    "<td><span style=\"font-size: 200%;\">○</span></td>\n",
    "</tr>\n",
    "<tr>\n",
    "<th style=\"text-align: left;\">日射遮蔽型<br>Solar shading type</th>\n",
    "<td></td>\n",
    "<td></td>\n",
    "<td></td>\n",
    "<td></td>\n",
    "<td></td>\n",
    "<td><span style=\"font-size: 200%;\">○</span></td>\n",
    "<td></td>\n",
    "</tr>\n",
    "</tbody>\n",
    "</table>\n"
   ]
  },
  {
   "cell_type": "code",
   "execution_count": null,
   "metadata": {},
   "outputs": [],
   "source": [
    "# ガラスの仕様の区分はガラスの仕様に応じて返す\n",
    "def get_glass_spec_category(glass_spec_name):\n",
    "    # 表3 ガラスの仕様の区分\n",
    "    table_3 = {\n",
    "        '2枚以上のガラス表面にLow-E膜を使用したLow-E三層複層ガラス(日射取得型)': 6,\n",
    "        '2枚以上のガラス表面にLow-E膜を使用したLow-E三層複層ガラス(日射遮蔽型)': 3,\n",
    "        'Low-E三層複層ガラス(日射取得型)': 6,\n",
    "        'Low-E三層複層ガラス(日射遮蔽型)': 6,\n",
    "        'Low-E二層複層ガラス(日射取得型)': 3,\n",
    "        'Low-E二層複層ガラス(日射遮蔽型)': 4,\n",
    "        '二層複層ガラス': 2,\n",
    "        '単板ガラス2枚を組み合わせたもの': 2,\n",
    "        '単板ガラス': 1,\n",
    "        '単板ガラスと複層ガラスを組み合わせたもの': 5,\n",
    "        '単板ガラスとLow-E複層ガラスを組み合わせたもの(日射取得型)': 7,\n",
    "        '単板ガラスとLow-E複層ガラスを組み合わせたもの(日射遮蔽型)': 6,\n",
    "    }\n",
    "\n",
    "    return table_3[glass_spec_name]"
   ]
  },
  {
   "cell_type": "markdown",
   "metadata": {},
   "source": [
    "## 付録 C 大部分がガラスで構成される窓等の開口部の垂直面日射熱取得率－ガラスの日射熱取得率等を用いる場合－ / Appendix C  Vertical surface solar heat gain rate of openings such as windows composed mostly of glass - When using the solar heat gain rate of glass -"
   ]
  },
  {
   "cell_type": "markdown",
   "metadata": {},
   "source": [
    "枠が木製建具又は樹脂製建具の場合"
   ]
  },
  {
   "cell_type": "markdown",
   "metadata": {},
   "source": [
    "When the frame is a wooden fixture or resin fixture"
   ]
  },
  {
   "cell_type": "markdown",
   "metadata": {},
   "source": [
    "$$\\large\n",
    "\\eta_{d,i} = \\eta_{g,i} \\times 0.72\n",
    "$$"
   ]
  },
  {
   "cell_type": "markdown",
   "metadata": {},
   "source": [
    "枠が木と金属の複合材料製建具、樹脂と金属の複合材料製建具、金属製熱遮断構造建具又は金属製建具の場合"
   ]
  },
  {
   "cell_type": "markdown",
   "metadata": {},
   "source": [
    "In the case of a frame made of wood and metal composite material, a resin and metal composite material, a metal heat blocking structure fixture or a metal fixture"
   ]
  },
  {
   "cell_type": "markdown",
   "metadata": {},
   "source": [
    "$$\\large\n",
    "\\eta_{d,i} = \\eta_{g,i} \\times 0.8\n",
    "$$"
   ]
  },
  {
   "cell_type": "markdown",
   "metadata": {},
   "source": [
    "枠の影響が無い場合"
   ]
  },
  {
   "cell_type": "markdown",
   "metadata": {},
   "source": [
    "When there is no influence of the frame"
   ]
  },
  {
   "cell_type": "markdown",
   "metadata": {},
   "source": [
    "$$\\large\n",
    "\\eta_{d,i} = \\eta_{g,i}\n",
    "$$"
   ]
  },
  {
   "cell_type": "markdown",
   "metadata": {},
   "source": [
    "$\\eta_{g,i}$：開口部$i$のガラスの垂直面日射熱取得率 / Vertical surface solar heat gain rate of glass for opening $ i $"
   ]
  },
  {
   "cell_type": "code",
   "execution_count": null,
   "metadata": {},
   "outputs": [],
   "source": [
    "# 開口部の垂直面日射熱取得率 (-) (1a, 1b, 1c)\n",
    "def get_etr_d_i(etr_g_i, frame_type):\n",
    "    \"\"\"\n",
    "    :param etr_g_i: 開口部のガラスの垂直面日射熱取得率 (-)\n",
    "    :param frame_type: 枠の種類\n",
    "    :return: 開口部の垂直面日射熱取得率 (-)\n",
    "    \"\"\"\n",
    "    if frame_type == '木製建具又は樹脂製建具':\n",
    "        etr_d_i = etr_g_i * 0.72\n",
    "    elif frame_type == '木と金属の複合材料製建具、樹脂と金属の複合材料製建具、金属製熱遮断構造建具又は金属製建具':\n",
    "        etr_d_i = etr_g_i * 0.8\n",
    "    elif frame_type == '影響がない':\n",
    "        etr_d_i = etr_g_i\n",
    "    return etr_d_i"
   ]
  },
  {
   "cell_type": "markdown",
   "metadata": {},
   "source": [
    "<div style=\"text-align: center;font-weight: bold;\">表　ガラスの垂直面日射熱取得率<br>Table: Vertical surface solar heat gain rate of glass</div>\n",
    "\n",
    "<table>\n",
    "<thead>\n",
    "<tr>\n",
    "<th style=\"text-align: center;\" rowspan=\"2\" colspan=\"3\">ガラスの仕様<br>Specification of glass</th>\n",
    "<th style=\"text-align: center;\" colspan=\"3\">日射熱取得率$\\eta_{d}$<br>Solar heat gain rate</th>\n",
    "</tr>\n",
    "<tr>\n",
    "<th style=\"text-align: left;\">付属部材なし<br>No accessories</th>\n",
    "<th style=\"text-align: left;\">和障子<br>Shoji</th>\n",
    "<th style=\"text-align: left;\">外付け<br>ブラインド<br>External blind</th>\n",
    "</tr>\n",
    "</thead>\n",
    "\n",
    "<tbody>\n",
    "<tr>\n",
    "<th style=\"text-align: left;\" rowspan=\"5\">三層複層<br>Three layer double layer</th>\n",
    "<th style=\"text-align: left;\" rowspan=\"2\">2 枚以上のガラス表面に<br>Low-E膜を使用した<br>Low-E 三層複層ガラス<br>Low-E Three Layer Double Layer Glass <br>Using Low-E Film on Two or More Glass Surfaces</th>\n",
    "<th style=\"text-align: left;\">日射取得型<br>Solar radiation acquisition type</th>\n",
    "<td>0.54</td>\n",
    "<td>0.34</td>\n",
    "<td>0.12</td>\n",
    "</tr>\n",
    "<tr>\n",
    "<th style=\"text-align: left;\">日射遮蔽型<br>Solar shading type</th>\n",
    "<td>0.33</td>\n",
    "<td>0.22</td>\n",
    "<td>0.08</td>\n",
    "</tr>\n",
    "<tr>\n",
    "<th style=\"text-align: left;\" rowspan=\"2\">Low-E 三層複層ガラス<br>Low-E Three Layer Double Glass</th>\n",
    "<th style=\"text-align: left;\">日射取得型<br>Solar radiation acquisition type</th>\n",
    "<td>0.59</td>\n",
    "<td>0.37</td>\n",
    "<td>0.14</td>\n",
    "</tr>\n",
    "<tr>\n",
    "<th style=\"text-align: left;\">日射遮蔽型<br>Solar shading type</th>\n",
    "<td>0.37</td>\n",
    "<td>0.25</td>\n",
    "<td>0.10</td>\n",
    "</tr>\n",
    "<tr>\n",
    "<th style=\"text-align: left;\" colspan=\"2\">三層複層ガラス<br>Three layer double glazing</th>\n",
    "<td>0.72</td>\n",
    "<td>0.38</td>\n",
    "<td>0.18</td>\n",
    "</tr>\n",
    "\n",
    "<tr>\n",
    "<th style=\"text-align: left;\" rowspan=\"4\">二層複層<br>Double layer double layer</th>\n",
    "<th style=\"text-align: left;\" rowspan=\"2\">Low-E 二層複層ガラス<br>Low-E Double Layer Double Glass</th>\n",
    "<th style=\"text-align: left;\">日射取得型<br>Solar radiation acquisition type</th>\n",
    "<td>0.64</td>\n",
    "<td>0.38</td>\n",
    "<td>0.15</td>\n",
    "</tr>\n",
    "<tr>\n",
    "<th style=\"text-align: left;\">日射遮蔽型<br>Solar shading type</th>\n",
    "<td>0.40</td>\n",
    "<td>0.26</td>\n",
    "<td>0.11</td>\n",
    "</tr>\n",
    "<tr>\n",
    "<th style=\"text-align: left;\" colspan=\"2\">二層複層ガラス<br>Double layer double glazing</th>\n",
    "<td>0.79</td>\n",
    "<td>0.38</td>\n",
    "<td>0.17</td>\n",
    "</tr>\n",
    "<tr>\n",
    "<th style=\"text-align: left;\" colspan=\"2\">単板ガラス 2 枚を組み合わせたもの<br>A combination of 2 single sheets of glass</th>\n",
    "<td>0.79</td>\n",
    "<td>0.38</td>\n",
    "<td>0.17</td>\n",
    "</tr>\n",
    "\n",
    "<tr>\n",
    "<th style=\"text-align: left;\">単層<br>Single layer</th>\n",
    "<th style=\"text-align: left;\" colspan=\"2\">単板ガラス<br>Veneer glass</th>\n",
    "<td>0.88</td>\n",
    "<td>0.38</td>\n",
    "<td>0.19</td>\n",
    "</tr>\n",
    "</tbody>\n",
    "</table>\n"
   ]
  },
  {
   "cell_type": "code",
   "execution_count": null,
   "metadata": {},
   "outputs": [],
   "source": [
    "# ガラスの垂直面日射熱取得率 (-)\n",
    "def get_etr_g(glass_type, attachment):\n",
    "    \"\"\"\n",
    "    :param glass_type: ガラスの仕様\n",
    "    :param attachment: 付属部材\n",
    "    :return: ガラスの垂直面日射熱取得率 (-)\n",
    "    \"\"\"\n",
    "    # 表1 ガラスの垂直面日射熱取得率\n",
    "    table_1 = {\n",
    "        '2枚以上のガラス表面にLow-E膜を使用したLow-E三層複層ガラス(日射取得型)': (0.54, 0.34, 0.12),\n",
    "        '2枚以上のガラス表面にLow-E膜を使用したLow-E三層複層ガラス(日射遮蔽型)': (0.33, 0.22, 0.08),\n",
    "        'Low-E三層複層ガラス(日射取得型)': (0.59, 0.37, 0.14),\n",
    "        'Low-E三層複層ガラス(日射遮蔽型)': (0.37, 0.25, 0.10),\n",
    "        '三層複層ガラス': (0.72, 0.38, 0.18),\n",
    "        'Low-E二層複層ガラス(日射取得型)': (0.64, 0.38, 0.15),\n",
    "        'Low-E二層複層ガラス(日射遮蔽型)': (0.40, 0.26, 0.11),\n",
    "        '二層複層ガラス': (0.79, 0.38, 0.17),\n",
    "        '単板ガラス2枚を組み合わせたもの': (0.79, 0.38, 0.17),\n",
    "        '単板ガラス': (0.88, 0.38, 0.19)\n",
    "    }\n",
    "    i = {'付属部材なし': 0, '和障子': 1, '外付けブラインド': 2}[attachment]\n",
    "    return table_1[glass_type][i]"
   ]
  },
  {
   "cell_type": "markdown",
   "metadata": {},
   "source": [
    "<div style=\"text-align: center;font-weight: bold;\">表　（参考）大部分がガラスで構成される窓等の開口部（一重構造の建具）の垂直面日射熱取得率（木製建具又は樹脂製建具）<br>Table: (Reference) Vertical surface sunshine heat gain rate (wood fixtures or resin fixtures) of openings (a single-structure fixture) such as windows that consist mostly of glass</div>\n",
    "\n",
    "<table>\n",
    "<thead>\n",
    "<tr>\n",
    "<th style=\"text-align: center;\" rowspan=\"2\" colspan=\"3\">ガラスの仕様<br>Specification of glass</th>\n",
    "<th style=\"text-align: center;\" colspan=\"3\">日射熱取得率$\\eta_{d}$<br>Solar heat gain rate</th>\n",
    "</tr>\n",
    "<tr>\n",
    "<th style=\"text-align: left;\">付属部材なし<br>No accessories</th>\n",
    "<th style=\"text-align: left;\">和障子<br>Shoji</th>\n",
    "<th style=\"text-align: left;\">外付け<br>ブラインド<br>External blind</th>\n",
    "</tr>\n",
    "</thead>\n",
    "\n",
    "<tbody>\n",
    "<tr>\n",
    "<th style=\"text-align: left;\" rowspan=\"5\">三層複層<br>Three layer double layer</th>\n",
    "<th style=\"text-align: left;\" rowspan=\"2\">2 枚以上のガラス表面に<br>Low-E膜を使用した<br>Low-E 三層複層ガラス<br>Low-E Three Layer Double Layer Glass <br>Using Low-E Film on Two or More Glass Surfaces</th>\n",
    "<th style=\"text-align: left;\">日射取得型<br>Solar radiation acquisition type</th>\n",
    "<td>0.39</td>\n",
    "<td>0.24</td>\n",
    "<td>0.09</td>\n",
    "</tr>\n",
    "<tr>\n",
    "<th style=\"text-align: left;\">日射遮蔽型<br>Solar shading type</th>\n",
    "<td>0.24</td>\n",
    "<td>0.16</td>\n",
    "<td>0.06</td>\n",
    "</tr>\n",
    "<tr>\n",
    "<th style=\"text-align: left;\" rowspan=\"2\">Low-E 三層複層ガラス<br>Low-E Three Layer Double Glass</th>\n",
    "<th style=\"text-align: left;\">日射取得型<br>Solar radiation acquisition type</th>\n",
    "<td>0.42</td>\n",
    "<td>0.27</td>\n",
    "<td>0.10</td>\n",
    "</tr>\n",
    "<tr>\n",
    "<th style=\"text-align: left;\">日射遮蔽型<br>Solar shading type</th>\n",
    "<td>0.27</td>\n",
    "<td>0.18</td>\n",
    "<td>0.07</td>\n",
    "</tr>\n",
    "<tr>\n",
    "<th style=\"text-align: left;\" colspan=\"2\">三層複層ガラス<br>Three layer double glazing</th>\n",
    "<td>0.52</td>\n",
    "<td>0.27</td>\n",
    "<td>0.13</td>\n",
    "</tr>\n",
    "\n",
    "<tr>\n",
    "<th style=\"text-align: left;\" rowspan=\"4\">二層複層<br>Double layer double layer</th>\n",
    "<th style=\"text-align: left;\" rowspan=\"2\">Low-E 二層複層ガラス<br>Low-E Double Layer Double Glass</th>\n",
    "<th style=\"text-align: left;\">日射取得型<br>Solar radiation acquisition type</th>\n",
    "<td>0.46</td>\n",
    "<td>0.27</td>\n",
    "<td>0.11</td>\n",
    "</tr>\n",
    "<tr>\n",
    "<th style=\"text-align: left;\">日射遮蔽型<br>Solar shading type</th>\n",
    "<td>0.29</td>\n",
    "<td>0.19</td>\n",
    "<td>0.08</td>\n",
    "</tr>\n",
    "<tr>\n",
    "<th style=\"text-align: left;\" colspan=\"2\">二層複層ガラス<br>Double layer double glazing</th>\n",
    "<td>0.57</td>\n",
    "<td>0.27</td>\n",
    "<td>0.12</td>\n",
    "</tr>\n",
    "<tr>\n",
    "<th style=\"text-align: left;\" colspan=\"2\">単板ガラス 2 枚を組み合わせたもの<br>A combination of 2 single sheets of glass</th>\n",
    "<td>0.57</td>\n",
    "<td>0.27</td>\n",
    "<td>0.12</td>\n",
    "</tr>\n",
    "\n",
    "<tr>\n",
    "<th style=\"text-align: left;\">単層<br>Single layer</th>\n",
    "<th style=\"text-align: left;\" colspan=\"2\">単板ガラス<br>Veneer glass</th>\n",
    "<td>0.63</td>\n",
    "<td>0.27</td>\n",
    "<td>0.14</td>\n",
    "</tr>\n",
    "</tbody>\n",
    "</table>\n"
   ]
  },
  {
   "cell_type": "code",
   "execution_count": null,
   "metadata": {},
   "outputs": [],
   "source": [
    "# 大部分がガラスで構成される窓等の開口部（一重構造の建具）の垂直面日射熱取得率\n",
    "def get_etr_d_win_wood_or_resin(glass_type, attachment):\n",
    "    \"\"\"\n",
    "    :param glass_type: ガラスの仕様\n",
    "    :param attachment: 付属部材\n",
    "    :return: ガラスの垂直面日射熱取得率 (-)\n",
    "    \"\"\"\n",
    "    table_2_a = {\n",
    "        '2枚以上のガラス表面にLow-E膜を使用したLow-E三層複層ガラス(日射取得型)': (0.39, 0.24, 0.09),\n",
    "        '2枚以上のガラス表面にLow-E膜を使用したLow-E三層複層ガラス(日射遮蔽型)': (0.24, 0.16, 0.06),\n",
    "        'Low-E三層複層ガラス(日射取得型)': (0.42, 0.27, 0.10),\n",
    "        'Low-E三層複層ガラス(日射遮蔽型)': (0.27, 0.18, 0.07),\n",
    "        '三層複層ガラス': (0.52, 0.27, 0.13),\n",
    "        'Low-E二層複層ガラス(日射取得型)': (0.46, 0.27, 0.11),\n",
    "        'Low-E二層複層ガラス(日射遮蔽型)': (0.29, 0.19, 0.08),\n",
    "        '二層複層ガラス': (0.57, 0.27, 0.12),\n",
    "        '単板ガラス2枚を組み合わせたもの': (0.57, 0.27, 0.12),\n",
    "        '単板ガラス': (0.63, 0.27, 0.14)\n",
    "    }\n",
    "    i = {'付属部材なし': 0, '和障子': 1, '外付けブラインド': 2}[attachment]\n",
    "    return table_2_a[glass_type][i]"
   ]
  },
  {
   "cell_type": "markdown",
   "metadata": {},
   "source": [
    "<div style=\"text-align: center;font-weight: bold;\">表　（参考）大部分がガラスで構成される窓等の開口部（一重構造の建具）の垂直面日射熱取得率（木と金属の複合材料製建具又は樹脂と金属の複合材料製建具、金属製熱遮断構造建具又は金属製建具）<br>Table: (Reference) Vertical surface sunshine heat gain rate (a joint made of wood and metal composites or a joint made of resin and metal composites, openings made of windows, etc. mostly composed of glass) Metal heat blocking structure fittings or metal fittings)</div>\n",
    "\n",
    "<table>\n",
    "<thead>\n",
    "<tr>\n",
    "<th style=\"text-align: center;\" rowspan=\"2\" colspan=\"3\">ガラスの仕様<br>Specification of glass</th>\n",
    "<th style=\"text-align: center;\" colspan=\"3\">日射熱取得率$\\eta_{d}$<br>Solar heat gain rate</th>\n",
    "</tr>\n",
    "<tr>\n",
    "<th style=\"text-align: left;\">付属部材なし<br>No accessories</th>\n",
    "<th style=\"text-align: left;\">和障子<br>Shoji</th>\n",
    "<th style=\"text-align: left;\">外付け<br>ブラインド<br>External blind</th>\n",
    "</tr>\n",
    "</thead>\n",
    "\n",
    "<tbody>\n",
    "<tr>\n",
    "<th style=\"text-align: left;\" rowspan=\"5\">三層複層<br>Three layer double layer</th>\n",
    "<th style=\"text-align: left;\" rowspan=\"2\">2 枚以上のガラス表面に<br>Low-E膜を使用した<br>Low-E 三層複層ガラス<br>Low-E Three Layer Double Layer Glass <br>Using Low-E Film on Two or More Glass Surfaces</th>\n",
    "<th style=\"text-align: left;\">日射取得型<br>Solar radiation acquisition type</th>\n",
    "<td>0.43</td>\n",
    "<td>0.27</td>\n",
    "<td>0.10</td>\n",
    "</tr>\n",
    "<tr>\n",
    "<th style=\"text-align: left;\">日射遮蔽型<br>Solar shading type</th>\n",
    "<td>0.26</td>\n",
    "<td>0.18</td>\n",
    "<td>0.06</td>\n",
    "</tr>\n",
    "<tr>\n",
    "<th style=\"text-align: left;\" rowspan=\"2\">Low-E 三層複層ガラス<br>Low-E Three Layer Double Glass</th>\n",
    "<th style=\"text-align: left;\">日射取得型<br>Solar radiation acquisition type</th>\n",
    "<td>0.47</td>\n",
    "<td>0.30</td>\n",
    "<td>0.11</td>\n",
    "</tr>\n",
    "<tr>\n",
    "<th style=\"text-align: left;\">日射遮蔽型<br>Solar shading type</th>\n",
    "<td>0.30</td>\n",
    "<td>0.20</td>\n",
    "<td>0.08</td>\n",
    "</tr>\n",
    "<tr>\n",
    "<th style=\"text-align: left;\" colspan=\"2\">三層複層ガラス<br>Three layer double glazing</th>\n",
    "<td>0.58</td>\n",
    "<td>0.30</td>\n",
    "<td>0.14</td>\n",
    "</tr>\n",
    "\n",
    "<tr>\n",
    "<th style=\"text-align: left;\" rowspan=\"4\">二層複層<br>Double layer double layer</th>\n",
    "<th style=\"text-align: left;\" rowspan=\"2\">Low-E 二層複層ガラス<br>Low-E Double Layer Double Glass</th>\n",
    "<th style=\"text-align: left;\">日射取得型<br>Solar radiation acquisition type</th>\n",
    "<td>0.51</td>\n",
    "<td>0.30</td>\n",
    "<td>0.12</td>\n",
    "</tr>\n",
    "<tr>\n",
    "<th style=\"text-align: left;\">日射遮蔽型<br>Solar shading type</th>\n",
    "<td>0.32</td>\n",
    "<td>0.21</td>\n",
    "<td>0.09</td>\n",
    "</tr>\n",
    "<tr>\n",
    "<th style=\"text-align: left;\" colspan=\"2\">二層複層ガラス<br>Double layer double glazing</th>\n",
    "<td>0.63</td>\n",
    "<td>0.30</td>\n",
    "<td>0.14</td>\n",
    "</tr>\n",
    "<tr>\n",
    "<th style=\"text-align: left;\" colspan=\"2\">単板ガラス 2 枚を組み合わせたもの<br>A combination of 2 single sheets of glass</th>\n",
    "<td>0.63</td>\n",
    "<td>0.30</td>\n",
    "<td>0.14</td>\n",
    "</tr>\n",
    "\n",
    "<tr>\n",
    "<th style=\"text-align: left;\">単層<br>Single layer</th>\n",
    "<th style=\"text-align: left;\" colspan=\"2\">単板ガラス<br>Veneer glass</th>\n",
    "<td>0.70</td>\n",
    "<td>0.30</td>\n",
    "<td>0.15</td>\n",
    "</tr>\n",
    "</tbody>\n",
    "</table>\n"
   ]
  },
  {
   "cell_type": "code",
   "execution_count": null,
   "metadata": {},
   "outputs": [],
   "source": [
    "# 大部分がガラスで構成される窓等の開口部（一重構造の建具）の垂直面日射熱取得率\n",
    "def get_etr_d_win_composite(glass_type, attachment):\n",
    "    \"\"\"\n",
    "    :param glass_type: ガラスの仕様\n",
    "    :param attachment: 付属部材\n",
    "    :return: ガラスの垂直面日射熱取得率 (-)\n",
    "    \"\"\"\n",
    "    table_2_b = {\n",
    "        '2枚以上のガラス表面にLow-E膜を使用したLow-E三層複層ガラス(日射取得型)': (0.43, 0.27, 0.10),\n",
    "        '2枚以上のガラス表面にLow-E膜を使用したLow-E三層複層ガラス(日射遮蔽型)': (0.26, 0.18, 0.06),\n",
    "        'Low-E三層複層ガラス(日射取得型)': (0.47, 0.30, 0.11),\n",
    "        'Low-E三層複層ガラス(日射遮蔽型)': (0.30, 0.20, 0.08),\n",
    "        '三層複層ガラス': (0.58, 0.30, 0.14),\n",
    "        'Low-E二層複層ガラス(日射取得型)': (0.51, 0.30, 0.12),\n",
    "        'Low-E二層複層ガラス(日射遮蔽型)': (0.32, 0.21, 0.09),\n",
    "        '二層複層ガラス': (0.63, 0.30, 0.14),\n",
    "        '単板ガラス2枚を組み合わせたもの': (0.63, 0.30, 0.14),\n",
    "        '単板ガラス': (0.70, 0.30, 0.15)\n",
    "    }\n",
    "    i = {'付属部材なし': 0, '和障子': 1, '外付けブラインド': 2}[attachment]\n",
    "    return table_2_b[glass_type][i]"
   ]
  }
 ],
 "metadata": {
  "kernelspec": {
   "display_name": "Python 3",
   "language": "python",
   "name": "python3"
  },
  "language_info": {
   "codemirror_mode": {
    "name": "ipython",
    "version": 3
   },
   "file_extension": ".py",
   "mimetype": "text/x-python",
   "name": "python",
   "nbconvert_exporter": "python",
   "pygments_lexer": "ipython3",
   "version": "3.6.6"
  }
 },
 "nbformat": 4,
 "nbformat_minor": 2
}
