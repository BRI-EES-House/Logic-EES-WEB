{
 "cells": [
  {
   "cell_type": "markdown",
   "metadata": {},
   "source": [
    "## 第四節　日射熱取得率"
   ]
  },
  {
   "cell_type": "markdown",
   "metadata": {},
   "source": [
    "1．適用範囲～4．記号及び単位は省略"
   ]
  },
  {
   "cell_type": "markdown",
   "metadata": {},
   "source": [
    "### 5．一般部位"
   ]
  },
  {
   "cell_type": "markdown",
   "metadata": {},
   "source": [
    "$$\\large\n",
    "\\eta_{H,i} = \\left\\{ \\begin{array}{ll}\n",
    "   \\gamma_{H,i} \\times 0.034 \\times U_{i}\\\\\n",
    "   \\gamma_{H,i} \\times 0.034 \\times \\frac{L_{i,j} \\times \\psi_{i,j}}{A_{i}}\\\\\n",
    "\\end{array}\n",
    "\\right.\n",
    "$$"
   ]
  },
  {
   "cell_type": "markdown",
   "metadata": {},
   "source": [
    "$$\\large\n",
    "\\eta_{C,i} = \\left\\{ \\begin{array}{ll}\n",
    "   \\gamma_{C,i} \\times 0.034 \\times U_{i}\\\\\n",
    "   \\gamma_{C,i} \\times 0.034 \\times \\frac{L_{i,j} \\times \\psi_{i,j}}{A_{i}}\\\\\n",
    "\\end{array}\n",
    "\\right.\n",
    "$$"
   ]
  },
  {
   "cell_type": "markdown",
   "metadata": {},
   "source": [
    "$\\gamma_{H,i}$：一般部位$i$の暖房期の日除けの効果係数  \n",
    "$\\gamma_{C,i}$：一般部位$i$の冷房期の日除けの効果係数  \n",
    "$U_{i}$：一般部位$i$の熱貫流率(W/m<sup>2</sup>K)  \n",
    "$\\psi_{i,j}$：一般部位$i$に接する熱橋$j$の線熱貫流率(Wh/m K)  \n",
    "$L_{i,j}$：一般部位$i$に接する熱橋$j$の長さ(m)  \n",
    "$A_{i}$：一般部位$i$の面積(m<sup>2</sup>)  \n"
   ]
  },
  {
   "cell_type": "code",
   "execution_count": null,
   "metadata": {},
   "outputs": [],
   "source": [
    "# 一般部位の暖房期の日射熱取得率(熱貫流率から計算) (1)\n",
    "def get_eta_H_i_1(gamma_H_i, U_i):\n",
    "    return gamma_H_i * 0.034 * U_i\n",
    "\n",
    "# 一般部位の暖房期の日射熱取得率(線熱貫流率から計算) (1)\n",
    "def get_eta_H_i_2(gamma_H_i, L_i_j, phi_i_j, A_i):\n",
    "    return gamma_H_i * 0.034 * L_i_j * phi_i_j / A_i"
   ]
  },
  {
   "cell_type": "code",
   "execution_count": null,
   "metadata": {},
   "outputs": [],
   "source": [
    "# 一般部位の冷房期の日射熱取得率(熱貫流率から計算) (2)\n",
    "def get_eta_C_i_1(gamma_C_i, U_i):\n",
    "    return gamma_C_i * 0.034 * U_i\n",
    "\n",
    "# 一般部位の冷房期の日射熱取得率(線熱貫流率から計算) (2)\n",
    "def get_eta_C_i_2(gamma_C_i, L_i_j, phi_i_j, A_i):\n",
    "    return gamma_C_i * 0.034 * L_i_j * phi_i_j / A_i"
   ]
  },
  {
   "cell_type": "markdown",
   "metadata": {},
   "source": [
    "### 6．大部分がガラスで構成されている窓等の開口部"
   ]
  },
  {
   "cell_type": "markdown",
   "metadata": {},
   "source": [
    "#### 6.1 日射熱取得率"
   ]
  },
  {
   "cell_type": "markdown",
   "metadata": {},
   "source": [
    "$$\\large\n",
    "\\eta_{H,i} = f_{H,i} \\times \\eta_{d,i}\n",
    "$$"
   ]
  },
  {
   "cell_type": "markdown",
   "metadata": {},
   "source": [
    "$$\\large\n",
    "\\eta_{C,i} = f_{C,i} \\times \\eta_{d,i}\n",
    "$$"
   ]
  },
  {
   "cell_type": "markdown",
   "metadata": {},
   "source": [
    "$f_{H,i}$：開口部$i$の暖房期の取得日射熱補正係数  \n",
    "$f_{C,i}$：開口部$i$の冷房期の取得日射熱補正係数  \n",
    "$\\eta_{d,i}$：開口部$i$の垂直面日射熱取得率  "
   ]
  },
  {
   "cell_type": "code",
   "execution_count": null,
   "metadata": {},
   "outputs": [],
   "source": [
    "# 開口部の暖房期の日射熱取得率 (-) (3)\n",
    "def get_eta_H_i(f_H_i, etr_d_i):\n",
    "    \"\"\"\n",
    "    :param f_H_i: 開口部の暖房期の取得日射熱補正係数 (-)\n",
    "    :param etr_d_i: 開口部の垂直面日射熱出得率 (-)\n",
    "    :return: 開口部の暖房期の日射熱取得率 (-)\n",
    "    \"\"\"\n",
    "    return f_H_i * etr_d_i"
   ]
  },
  {
   "cell_type": "code",
   "execution_count": null,
   "metadata": {},
   "outputs": [],
   "source": [
    "# 開口部の冷房期の日射熱取得率 (-) (3)\n",
    "def get_eta_C_i(f_C_i, etr_d_i):\n",
    "    \"\"\"\n",
    "    :param f_C_i: 開口部の冷房期の取得日射熱補正係数 (-)\n",
    "    :param etr_d_i: 開口部の垂直面日射熱出得率 (-)\n",
    "    :return: 開口部の冷房期の日射熱取得率 (-)\n",
    "    \"\"\"\n",
    "    return f_C_i * etr_d_i"
   ]
  },
  {
   "cell_type": "markdown",
   "metadata": {},
   "source": [
    "#### 6.2 垂直面日射熱取得率"
   ]
  },
  {
   "cell_type": "markdown",
   "metadata": {},
   "source": [
    "$$\\large\n",
    "\\eta_{d,i} = \\eta_{d1,i} \\times \\eta_{d2,i} \\times 1.06 \\div r_{f}\n",
    "$$"
   ]
  },
  {
   "cell_type": "markdown",
   "metadata": {},
   "source": [
    "$\\eta_{d1,i}$：開口部$i$の外気側の窓の垂直面日射熱取得率  \n",
    "$\\eta_{d2,i}$：開口部$i$の室内側の窓の垂直面日射熱取得率  \n",
    "$r_{f}$：開口部$i$の全体の面積に対するガラス部分の面積の比  "
   ]
  },
  {
   "cell_type": "markdown",
   "metadata": {},
   "source": [
    "開口部$i$の全体の面積に対するガラス部分の面積の比$r_{f}$は、室内側の窓及び外気側の窓の両方の枠が木製建具又は樹脂製建具の場合は0.72とし、それ以外の場合は0.8とする。 "
   ]
  },
  {
   "cell_type": "code",
   "execution_count": null,
   "metadata": {},
   "outputs": [],
   "source": [
    "# 二重窓等の複数の開口部が組み合わさった開口部の垂直面日射熱取得率 (-) (5)\n",
    "def get_eta_d_i(etr_d1_i, etr_d2_i, r_f):\n",
    "    \"\"\"\n",
    "    :param etr_d1_i: 開口部の外気側の窓の垂直面日射熱取得率 (-)\n",
    "    :param etr_d2_i: 開口部の室内側の窓の垂直面日射熱取得率 (-)\n",
    "    :param r_f: 開口部の全体の面積に対するガラス部分の面積の比 (-)\n",
    "    :return: 二重窓等の複数の開口部が組み合わさった開口部の垂直面日射熱取得率 (-)\n",
    "    \"\"\"\n",
    "    return etr_d1_i * etr_d2_i * 1.06 / r_f\n",
    "\n",
    "\n",
    "# 開口部の全体の面積に対するガラス部分の面積の比 (-)\n",
    "def get_r_f(frame_type):\n",
    "    if frame_type == '室内側の窓及び外気側の窓の両方の枠が木製建具又は樹脂製建具':\n",
    "        return 0.72\n",
    "    elif frame_type == 'それ以外':\n",
    "        return 0.8\n",
    "    else:\n",
    "        raise ValueError(frame_type)"
   ]
  },
  {
   "cell_type": "markdown",
   "metadata": {},
   "source": [
    "### 7．大部分がガラスで構成されていないドア等の開口部"
   ]
  },
  {
   "cell_type": "markdown",
   "metadata": {},
   "source": [
    "$$\\large\n",
    "\\eta_{H,i} = \\gamma_{H,i} \\times 0.034 \\times U_{i}\n",
    "$$"
   ]
  },
  {
   "cell_type": "markdown",
   "metadata": {},
   "source": [
    "$$\\large\n",
    "\\eta_{C,i} = \\gamma_{C,i} \\times 0.034 \\times U_{i}\n",
    "$$"
   ]
  },
  {
   "cell_type": "markdown",
   "metadata": {},
   "source": [
    "$\\gamma_{H,i}$：開口部$i$の暖房期の日除けの効果係数  \n",
    "$\\gamma_{C,i}$：開口部$i$の冷房期の日除けの効果係数  \n",
    "$U_{i}$：開口部$i$の熱貫流率(W/m<sup>2</sup>K)  "
   ]
  },
  {
   "cell_type": "code",
   "execution_count": null,
   "metadata": {},
   "outputs": [],
   "source": [
    "# 開口部の暖房期の日射熱取得率 (-)\n",
    "def get_eta_H_i(gamma_H_i, U_i):\n",
    "    \"\"\"\n",
    "    :param gamma_H_i: 開口部の暖房期の日除けの効果係数 (-)\n",
    "    :param U_i: 開口部の熱貫流率 (W/m2K)\n",
    "    :return: 開口部の暖房期の日射熱取得率 (-)\n",
    "    \"\"\"\n",
    "    return gamma_H_i * U_i"
   ]
  },
  {
   "cell_type": "code",
   "execution_count": null,
   "metadata": {},
   "outputs": [],
   "source": [
    "# 開口部の冷房期の日射熱取得率 (-)\n",
    "def get_eta_C_i(gamma_C_i, U_i):\n",
    "    \"\"\"\n",
    "    :param gamma_C_i: 開口部の冷房期の日除けの効果係数 (-)\n",
    "    :param U_i: 開口部の熱貫流率 (W/m2K)\n",
    "    :return: 開口部の冷房期の日射熱取得率 (-)\n",
    "    \"\"\"\n",
    "    return gamma_C_i * U_i"
   ]
  },
  {
   "cell_type": "markdown",
   "metadata": {},
   "source": [
    "### 付録 A 一般部位及び大部分がガラスで構成されていないドア等の開口部における日除けの効果係数"
   ]
  },
  {
   "cell_type": "markdown",
   "metadata": {},
   "source": [
    "省略"
   ]
  },
  {
   "cell_type": "markdown",
   "metadata": {},
   "source": [
    "### 付録 B 大部分がガラスで構成されている窓等の開口部における取得日射熱補正係数"
   ]
  },
  {
   "cell_type": "markdown",
   "metadata": {},
   "source": [
    "省略"
   ]
  },
  {
   "cell_type": "markdown",
   "metadata": {},
   "source": [
    "### 付録 C 大部分がガラスで構成される窓等の開口部の垂直面日射熱取得率－ガラスの日射熱取得率等を用いる場合－"
   ]
  },
  {
   "cell_type": "markdown",
   "metadata": {},
   "source": [
    "省略"
   ]
  }
 ],
 "metadata": {
  "kernelspec": {
   "display_name": "Python 3",
   "language": "python",
   "name": "python3"
  },
  "language_info": {
   "codemirror_mode": {
    "name": "ipython",
    "version": 3
   },
   "file_extension": ".py",
   "mimetype": "text/x-python",
   "name": "python",
   "nbconvert_exporter": "python",
   "pygments_lexer": "ipython3",
   "version": "3.6.4"
  }
 },
 "nbformat": 4,
 "nbformat_minor": 2
}
