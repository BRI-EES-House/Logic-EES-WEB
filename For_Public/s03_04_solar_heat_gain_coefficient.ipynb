{
 "cells": [
  {
   "cell_type": "markdown",
   "metadata": {},
   "source": [
    "## 第四節　日射熱取得率"
   ]
  },
  {
   "cell_type": "markdown",
   "metadata": {},
   "source": [
    "1．適用範囲～4．記号及び単位は省略"
   ]
  },
  {
   "cell_type": "markdown",
   "metadata": {},
   "source": [
    "### 5．一般部位"
   ]
  },
  {
   "cell_type": "markdown",
   "metadata": {},
   "source": [
    "$$\\large\n",
    "\\eta_{H,i} = \\left\\{ \\begin{array}{ll}\n",
    "   \\gamma_{H,i} \\times 0.034 \\times U_{i}\\\\\n",
    "   \\gamma_{H,i} \\times 0.034 \\times \\frac{L_{i,j} \\times \\psi_{i,j}}{A_{i}}\\\\\n",
    "\\end{array}\n",
    "\\right.\n",
    "$$"
   ]
  },
  {
   "cell_type": "markdown",
   "metadata": {},
   "source": [
    "$$\\large\n",
    "\\eta_{C,i} = \\left\\{ \\begin{array}{ll}\n",
    "   \\gamma_{C,i} \\times 0.034 \\times U_{i}\\\\\n",
    "   \\gamma_{C,i} \\times 0.034 \\times \\frac{L_{i,j} \\times \\psi_{i,j}}{A_{i}}\\\\\n",
    "\\end{array}\n",
    "\\right.\n",
    "$$"
   ]
  },
  {
   "cell_type": "markdown",
   "metadata": {},
   "source": [
    "$\\gamma_{H,i}$：一般部位$i$の暖房期の日除けの効果係数  \n",
    "$\\gamma_{C,i}$：一般部位$i$の冷房期の日除けの効果係数  \n",
    "$U_{i}$：一般部位$i$の熱貫流率(W/m<sup>2</sup>K)  \n",
    "$\\psi_{i,j}$：一般部位$i$に接する熱橋$j$の線熱貫流率(Wh/m K)  \n",
    "$L_{i,j}$：一般部位$i$に接する熱橋$j$の長さ(m)  \n",
    "$A_{i}$：一般部位$i$の面積(m<sup>2</sup>)  \n"
   ]
  },
  {
   "cell_type": "code",
   "execution_count": null,
   "metadata": {},
   "outputs": [],
   "source": [
    "# 一般部位の暖房期の日射熱取得率(熱貫流率から計算) (1)\n",
    "def get_eta_H_i_1(gamma_H_i, U_i):\n",
    "    return gamma_H_i * 0.034 * U_i\n",
    "\n",
    "# 一般部位の暖房期の日射熱取得率(線熱貫流率から計算) (1)\n",
    "def get_eta_H_i_2(gamma_H_i, L_i_j, phi_i_j, A_i):\n",
    "    return gamma_H_i * 0.034 * L_i_j * phi_i_j / A_i"
   ]
  },
  {
   "cell_type": "code",
   "execution_count": null,
   "metadata": {},
   "outputs": [],
   "source": [
    "# 一般部位の冷房期の日射熱取得率(熱貫流率から計算) (2)\n",
    "def get_eta_C_i_1(gamma_C_i, U_i):\n",
    "    return gamma_C_i * 0.034 * U_i\n",
    "\n",
    "# 一般部位の冷房期の日射熱取得率(線熱貫流率から計算) (2)\n",
    "def get_eta_C_i_2(gamma_C_i, L_i_j, phi_i_j, A_i):\n",
    "    return gamma_C_i * 0.034 * L_i_j * phi_i_j / A_i"
   ]
  },
  {
   "cell_type": "markdown",
   "metadata": {},
   "source": [
    "### 6．大部分がガラスで構成されている窓等の開口部"
   ]
  },
  {
   "cell_type": "markdown",
   "metadata": {},
   "source": [
    "#### 6.1 日射熱取得率"
   ]
  },
  {
   "cell_type": "markdown",
   "metadata": {},
   "source": [
    "$$\\large\n",
    "\\eta_{H,i} = f_{H,i} \\times \\eta_{d,i}\n",
    "$$"
   ]
  },
  {
   "cell_type": "markdown",
   "metadata": {},
   "source": [
    "$$\\large\n",
    "\\eta_{C,i} = f_{C,i} \\times \\eta_{d,i}\n",
    "$$"
   ]
  },
  {
   "cell_type": "markdown",
   "metadata": {},
   "source": [
    "$f_{H,i}$：開口部$i$の暖房期の取得日射熱補正係数  \n",
    "$f_{C,i}$：開口部$i$の冷房期の取得日射熱補正係数  \n",
    "$\\eta_{d,i}$：開口部$i$の垂直面日射熱取得率  "
   ]
  },
  {
   "cell_type": "code",
   "execution_count": null,
   "metadata": {},
   "outputs": [],
   "source": [
    "# 開口部の暖房期の日射熱取得率 (-) (3)\n",
    "def get_eta_H_i(f_H_i, etr_d_i):\n",
    "    \"\"\"\n",
    "    :param f_H_i: 開口部の暖房期の取得日射熱補正係数 (-)\n",
    "    :param etr_d_i: 開口部の垂直面日射熱出得率 (-)\n",
    "    :return: 開口部の暖房期の日射熱取得率 (-)\n",
    "    \"\"\"\n",
    "    return f_H_i * etr_d_i"
   ]
  },
  {
   "cell_type": "code",
   "execution_count": null,
   "metadata": {},
   "outputs": [],
   "source": [
    "# 開口部の冷房期の日射熱取得率 (-) (3)\n",
    "def get_eta_C_i(f_C_i, etr_d_i):\n",
    "    \"\"\"\n",
    "    :param f_C_i: 開口部の冷房期の取得日射熱補正係数 (-)\n",
    "    :param etr_d_i: 開口部の垂直面日射熱出得率 (-)\n",
    "    :return: 開口部の冷房期の日射熱取得率 (-)\n",
    "    \"\"\"\n",
    "    return f_C_i * etr_d_i"
   ]
  },
  {
   "cell_type": "markdown",
   "metadata": {},
   "source": [
    "#### 6.2 垂直面日射熱取得率"
   ]
  },
  {
   "cell_type": "markdown",
   "metadata": {},
   "source": [
    "$$\\large\n",
    "\\eta_{d,i} = \\eta_{d1,i} \\times \\eta_{d2,i} \\times 1.06 \\div r_{f}\n",
    "$$"
   ]
  },
  {
   "cell_type": "markdown",
   "metadata": {},
   "source": [
    "$\\eta_{d1,i}$：開口部$i$の外気側の窓の垂直面日射熱取得率  \n",
    "$\\eta_{d2,i}$：開口部$i$の室内側の窓の垂直面日射熱取得率  \n",
    "$r_{f}$：開口部$i$の全体の面積に対するガラス部分の面積の比  "
   ]
  },
  {
   "cell_type": "markdown",
   "metadata": {},
   "source": [
    "開口部$i$の全体の面積に対するガラス部分の面積の比$r_{f}$は、室内側の窓及び外気側の窓の両方の枠が木製建具又は樹脂製建具の場合は0.72とし、それ以外の場合は0.8とする。 "
   ]
  },
  {
   "cell_type": "code",
   "execution_count": null,
   "metadata": {},
   "outputs": [],
   "source": [
    "# 二重窓等の複数の開口部が組み合わさった開口部の垂直面日射熱取得率 (-) (5)\n",
    "def get_eta_d_i(etr_d1_i, etr_d2_i, r_f):\n",
    "    \"\"\"\n",
    "    :param etr_d1_i: 開口部の外気側の窓の垂直面日射熱取得率 (-)\n",
    "    :param etr_d2_i: 開口部の室内側の窓の垂直面日射熱取得率 (-)\n",
    "    :param r_f: 開口部の全体の面積に対するガラス部分の面積の比 (-)\n",
    "    :return: 二重窓等の複数の開口部が組み合わさった開口部の垂直面日射熱取得率 (-)\n",
    "    \"\"\"\n",
    "    return etr_d1_i * etr_d2_i * 1.06 / r_f\n",
    "\n",
    "\n",
    "# 開口部の全体の面積に対するガラス部分の面積の比 (-)\n",
    "def get_r_f(frame_type):\n",
    "    if frame_type == '室内側の窓及び外気側の窓の両方の枠が木製建具又は樹脂製建具':\n",
    "        return 0.72\n",
    "    elif frame_type == 'それ以外':\n",
    "        return 0.8\n",
    "    else:\n",
    "        raise ValueError(frame_type)"
   ]
  },
  {
   "cell_type": "markdown",
   "metadata": {},
   "source": [
    "### 7．大部分がガラスで構成されていないドア等の開口部"
   ]
  },
  {
   "cell_type": "markdown",
   "metadata": {},
   "source": [
    "$$\\large\n",
    "\\eta_{H,i} = \\gamma_{H,i} \\times 0.034 \\times U_{i}\n",
    "$$"
   ]
  },
  {
   "cell_type": "markdown",
   "metadata": {},
   "source": [
    "$$\\large\n",
    "\\eta_{C,i} = \\gamma_{C,i} \\times 0.034 \\times U_{i}\n",
    "$$"
   ]
  },
  {
   "cell_type": "markdown",
   "metadata": {},
   "source": [
    "$\\gamma_{H,i}$：開口部$i$の暖房期の日除けの効果係数  \n",
    "$\\gamma_{C,i}$：開口部$i$の冷房期の日除けの効果係数  \n",
    "$U_{i}$：開口部$i$の熱貫流率(W/m<sup>2</sup>K)  "
   ]
  },
  {
   "cell_type": "code",
   "execution_count": null,
   "metadata": {},
   "outputs": [],
   "source": [
    "# 開口部の暖房期の日射熱取得率 (-)\n",
    "def get_eta_H_i(gamma_H_i, U_i):\n",
    "    \"\"\"\n",
    "    :param gamma_H_i: 開口部の暖房期の日除けの効果係数 (-)\n",
    "    :param U_i: 開口部の熱貫流率 (W/m2K)\n",
    "    :return: 開口部の暖房期の日射熱取得率 (-)\n",
    "    \"\"\"\n",
    "    return gamma_H_i * U_i"
   ]
  },
  {
   "cell_type": "code",
   "execution_count": null,
   "metadata": {},
   "outputs": [],
   "source": [
    "# 開口部の冷房期の日射熱取得率 (-)\n",
    "def get_eta_C_i(gamma_C_i, U_i):\n",
    "    \"\"\"\n",
    "    :param gamma_C_i: 開口部の冷房期の日除けの効果係数 (-)\n",
    "    :param U_i: 開口部の熱貫流率 (W/m2K)\n",
    "    :return: 開口部の冷房期の日射熱取得率 (-)\n",
    "    \"\"\"\n",
    "    return gamma_C_i * U_i"
   ]
  },
  {
   "cell_type": "markdown",
   "metadata": {},
   "source": [
    "### 付録 A 一般部位及び大部分がガラスで構成されていないドア等の開口部における日除けの効果係数"
   ]
  },
  {
   "cell_type": "markdown",
   "metadata": {},
   "source": [
    "$$\\large\n",
    "\\gamma = \\frac{\\gamma_{2} \\times (y_{1}+y_{2})-\\gamma_{1} \\times y_{1}}{y_{2}}\n",
    "$$"
   ]
  },
  {
   "cell_type": "markdown",
   "metadata": {},
   "source": [
    "$y_{1}$：日除け下端から一般部位及び大部分がガラスで構成されていないドア等の開口部の上端までの垂直方向の距離(mm)  \n",
    "$y_{2}$：一般部位及び大部分がガラスで構成されていないドア等の開口部の高さ寸法(mm)  \n",
    "$z$：壁面からの日除けの張り出し寸法（軒等の出寸法は壁表面から先端までの寸法とする）(mm)   \n",
    "$\\gamma_{1}, \\gamma_{2}$：$l_{1}$及び$l_{2}$をパラメーターとして、地域の区分に応じ、データ「日除けの効果係数」より算出した値である。ただし、データ「日除けの効果係数」より算出した値を適用する場合、暖房期のみの適用あるいは冷房期のみの適用といった部分的な適用は認めない。$l$の値が表に定められてない場合、直近の上下の値を直線補完し補正係数を求めることとする。なお、݈$l$の値が 20 を超える場合は、20 として定められた値を用いる。 "
   ]
  },
  {
   "cell_type": "markdown",
   "metadata": {},
   "source": [
    "$$\\large\n",
    "l_{1} = \\frac{y_{1}}{z}\n",
    "$$"
   ]
  },
  {
   "cell_type": "markdown",
   "metadata": {},
   "source": [
    "$$\\large\n",
    "l_{2} = \\frac{y_{1}+y_{2}}{z}\n",
    "$$"
   ]
  },
  {
   "cell_type": "markdown",
   "metadata": {},
   "source": [
    "### 付録 B 大部分がガラスで構成されている窓等の開口部における取得日射熱補正係数"
   ]
  },
  {
   "cell_type": "markdown",
   "metadata": {},
   "source": [
    "#### B.1 取得日射熱補正係数"
   ]
  },
  {
   "cell_type": "markdown",
   "metadata": {},
   "source": [
    "開口部$i$の暖房期の取得日射熱補正係数$f_{H,i}$は0.51とし開口部$i$の冷房期の取得日射熱補正係数$f_{C,i}$は0.93とするか、又は、開口部の上部に日除けが設置されている場合は B.1.1 に示す方法により求めた値、開口部の上部に日除けが設置されていない場合は B.1.2 に示す方法により求めた値とする。"
   ]
  },
  {
   "cell_type": "markdown",
   "metadata": {},
   "source": [
    "#### B.1.1 開口部の上部に日除けが設置されている場合"
   ]
  },
  {
   "cell_type": "markdown",
   "metadata": {},
   "source": [
    "$$\\large\n",
    "f = \\frac{f_{2} \\times (y_{1}+y_{2})-f_{1} \\times y_{1}}{y_{2}}\n",
    "$$"
   ]
  },
  {
   "cell_type": "markdown",
   "metadata": {},
   "source": [
    "暖房期における 1 地域から 7 地域までの南東面・南面・南西面"
   ]
  },
  {
   "cell_type": "markdown",
   "metadata": {},
   "source": [
    "$$\\large\n",
    "f_{H} = min \\bigg( 0.01 \\times \\big( 5 + 20 \\times \\frac{3y_{1} + y_{2}}{Z} \\big), 0.72 \\bigg)\n",
    "$$"
   ]
  },
  {
   "cell_type": "markdown",
   "metadata": {},
   "source": [
    "暖房期における 1 地域から 7 地域までの南東面・南面・南西面以外"
   ]
  },
  {
   "cell_type": "markdown",
   "metadata": {},
   "source": [
    "$$\\large\n",
    "f_{H} = min \\bigg( 0.01 \\times \\big( 10 + 15 \\times \\frac{2y_{1} + y_{2}}{Z} \\big), 0.72 \\bigg)\n",
    "$$"
   ]
  },
  {
   "cell_type": "markdown",
   "metadata": {},
   "source": [
    "冷房期における 1 地域から 7 地域までの南面"
   ]
  },
  {
   "cell_type": "markdown",
   "metadata": {},
   "source": [
    "$$\\large\n",
    "f_{C} = min \\bigg( 0.01 \\times \\big( 24 + 9 \\times \\frac{3y_{1} + y_{2}}{Z} \\big), 0.93 \\bigg)\n",
    "$$"
   ]
  },
  {
   "cell_type": "markdown",
   "metadata": {},
   "source": [
    "冷房期における 1 地域から 7 地域までの南面以外及び 8 地域の南東面・南面・南西面以外"
   ]
  },
  {
   "cell_type": "markdown",
   "metadata": {},
   "source": [
    "$$\\large\n",
    "f_{C} = min \\bigg( 0.01 \\times \\big( 16 + 24 \\times \\frac{2y_{1} + y_{2}}{Z} \\big), 0.93 \\bigg)\n",
    "$$"
   ]
  },
  {
   "cell_type": "markdown",
   "metadata": {},
   "source": [
    "冷房期における 8 地域の南東面・南面・南西面"
   ]
  },
  {
   "cell_type": "markdown",
   "metadata": {},
   "source": [
    "$$\\large\n",
    "f_{C} = min \\bigg( 0.01 \\times \\big( 16 + 19 \\times \\frac{2y_{1} + y_{2}}{Z} \\big), 0.93 \\bigg)\n",
    "$$"
   ]
  },
  {
   "cell_type": "markdown",
   "metadata": {},
   "source": [
    "$y_{1}$：日除け下端から窓上端までの垂直方向の距離(mm)  \n",
    "$y_{2}$：窓の開口高さ寸法(mm)  \n",
    "$Z$：壁面からの日除けの張り出し寸法（ひさし等のオーバーハング型日除けの出寸法は壁表面から先端までの寸法とする）(mm)   \n",
    "$f_{1}, f_{2}$：$l_{1}$及び$l_{2}$をパラメーターとして、地域の区分及びガラスの仕様の区分に応じ、データ「取得日射熱補正係数」より算出した値である。$l_{1}$又は$l_{2}$の値が表に定められてない場合、直近の上下の値を直線補完し補正係数を求めることとする。なお、$l_{1}$又は$l_{2}$の値が20を超える場合は、20として定められた値を用いる。 "
   ]
  },
  {
   "cell_type": "markdown",
   "metadata": {},
   "source": [
    "$$\\large\n",
    "l_{1} = \\frac{y_{1}}{z}\n",
    "$$"
   ]
  },
  {
   "cell_type": "markdown",
   "metadata": {},
   "source": [
    "$$\\large\n",
    "l_{2} = \\frac{y_{1}+y_{2}}{z}\n",
    "$$"
   ]
  },
  {
   "cell_type": "markdown",
   "metadata": {},
   "source": [
    "#### B.1.2 開口部の上部に日除けが設置されていない場合"
   ]
  },
  {
   "cell_type": "markdown",
   "metadata": {},
   "source": [
    "<div style=\"text-align: center;font-weight: bold;\">表　屋根又は屋根の直下の天井に設置されている開口部の暖房期の取得日射熱補正係数</div>\n",
    "\n",
    "<table>\n",
    "<thead>\n",
    "<tr>\n",
    "<th rowspan=\"2\" colspan=\"2\"></th>\n",
    "<th colspan=\"8\">地域の区分</th>\n",
    "</tr>\n",
    "<tr>\n",
    "<th>1</th>\n",
    "<th>2</th>\n",
    "<th>3</th>\n",
    "<th>4</th>\n",
    "<th>5</th>\n",
    "<th>6</th>\n",
    "<th>7</th>\n",
    "<th>8</th>\n",
    "</tr>\n",
    "</thead>\n",
    "\n",
    "<tbody>\n",
    "<tr>\n",
    "<th rowspan=\"7\">ガラスの<br>仕様の<br>区分</th>\n",
    "<th>区分1</th><td>0.90</td><td>0.91</td><td>0.91</td><td>0.91</td><td>0.90</td><td>0.90</td><td>0.90</td><td>-</td></tr>\n",
    "\n",
    "<tr><th>区分2</th><td>0.85</td><td>0.86</td><td>0.86</td><td>0.87</td><td>0.85</td><td>0.85</td><td>0.85</td><td>-</td></tr>\n",
    "<tr><th>区分3</th><td>0.83</td><td>0.84</td><td>0.84</td><td>0.85</td><td>0.83</td><td>0.84</td><td>0.83</td><td>-</td></tr>\n",
    "<tr><th>区分4</th><td>0.85</td><td>0.86</td><td>0.86</td><td>0.87</td><td>0.85</td><td>0.85</td><td>0.85</td><td>-</td></tr>\n",
    "<tr><th>区分5</th><td>0.82</td><td>0.83</td><td>0.83</td><td>0.84</td><td>0.82</td><td>0.82</td><td>0.82</td><td>-</td></tr>\n",
    "<tr><th>区分6</th><td>0.82</td><td>0.83</td><td>0.83</td><td>0.84</td><td>0.82</td><td>0.82</td><td>0.82</td><td>-</td></tr>\n",
    "<tr><th>区分7</th><td>0.80</td><td>0.81</td><td>0.81</td><td>0.82</td><td>0.80</td><td>0.80</td><td>0.80</td><td>-</td></tr>\n",
    "\n",
    "</tbody>\n",
    "</table>\n"
   ]
  },
  {
   "cell_type": "markdown",
   "metadata": {},
   "source": [
    "<div style=\"text-align: center;font-weight: bold;\">表　屋根又は屋根の直下の天井に設置されている開口部の冷房期の取得日射熱補正係数</div>\n",
    "\n",
    "<table>\n",
    "<thead>\n",
    "<tr>\n",
    "<th rowspan=\"2\" colspan=\"2\"></th>\n",
    "<th colspan=\"8\">地域の区分</th>\n",
    "</tr>\n",
    "<tr>\n",
    "<th>1</th>\n",
    "<th>2</th>\n",
    "<th>3</th>\n",
    "<th>4</th>\n",
    "<th>5</th>\n",
    "<th>6</th>\n",
    "<th>7</th>\n",
    "<th>8</th>\n",
    "</tr>\n",
    "</thead>\n",
    "\n",
    "<tbody>\n",
    "<tr>\n",
    "<th rowspan=\"7\">ガラスの<br>仕様の<br>区分</th>\n",
    "<th>区分1</th><td>0.93</td><td>0.93</td><td>0.93</td><td>0.94</td><td>0.93</td><td>0.94</td><td>0.94</td><td>0.93</td></tr>\n",
    "\n",
    "<tr><th>区分2</th><td>0.90</td><td>0.90</td><td>0.90</td><td>0.91</td><td>0.90</td><td>0.90</td><td>0.91</td><td>0.90</td></tr>\n",
    "<tr><th>区分3</th><td>0.88</td><td>0.88</td><td>0.89</td><td>0.89</td><td>0.88</td><td>0.89</td><td>0.89</td><td>0.88</td></tr>\n",
    "<tr><th>区分4</th><td>0.89</td><td>0.89</td><td>0.90</td><td>0.90</td><td>0.89</td><td>0.90</td><td>0.90</td><td>0.90</td></tr>\n",
    "<tr><th>区分5</th><td>0.87</td><td>0.87</td><td>0.88</td><td>0.88</td><td>0.87</td><td>0.88</td><td>0.88</td><td>0.88</td></tr>\n",
    "<tr><th>区分6</th><td>0.87</td><td>0.88</td><td>0.88</td><td>0.89</td><td>0.88</td><td>0.88</td><td>0.89</td><td>0.88</td></tr>\n",
    "<tr><th>区分7</th><td>0.86</td><td>0.86</td><td>0.86</td><td>0.87</td><td>0.86</td><td>0.87</td><td>0.87</td><td>0.86</td></tr>\n",
    "\n",
    "</tbody>\n",
    "</table>\n"
   ]
  },
  {
   "cell_type": "markdown",
   "metadata": {},
   "source": [
    "<div style=\"text-align: center;font-weight: bold;\">表　当該開口部の上部に日除けが設置されていない場合の開口部の取得日射熱補正係数</div>\n",
    "\n",
    "<table>\n",
    "<thead>\n",
    "<tr>\n",
    "<th rowspan=\"2\">地域の区分</th>\n",
    "<th rowspan=\"2\">ガラス仕様の区分</th>\n",
    "<th rowspan=\"2\">期間</th>\n",
    "<th colspan=\"8\">開口部の面する方位</th>\n",
    "</tr>\n",
    "<tr>\n",
    "<th>北</th>\n",
    "<th>北東</th>\n",
    "<th>東</th>\n",
    "<th>南東</th>\n",
    "<th>南</th>\n",
    "<th>南西</th>\n",
    "<th>西</th>\n",
    "<th>北西</th>\n",
    "</tr>\n",
    "</thead>\n",
    "\n",
    "<tbody>\n",
    "\n",
    "<tr>\n",
    "<th rowspan=\"14\">1</th>\n",
    "<th rowspan=\"2\">区分1</th>\n",
    "<th>冷房</th><td>0.853</td><td>0.865</td><td>0.882</td><td>0.864</td><td>0.807</td><td>0.860</td><td>0.880</td><td>0.866</td>\n",
    "</tr>\n",
    "<tr><th>暖房</th><td>0.862</td><td>0.848</td><td>0.871</td><td>0.892</td><td>0.892</td><td>0.888</td><td>0.869</td><td>0.850</td></tr>\n",
    "<tr><th rowspan=\"2\">区分2</th><th>冷房</th><td>0.807</td><td>0.821</td><td>0.847</td><td>0.820</td><td>0.746</td><td>0.814</td><td>0.844</td><td>0.822</td></tr>\n",
    "<tr><th>暖房</th><td>0.818</td><td>0.799</td><td>0.831</td><td>0.858</td><td>0.856</td><td>0.853</td><td>0.828</td><td>0.802</td></tr>\n",
    "<tr><th rowspan=\"2\">区分3</th><th>冷房</th><td>0.791</td><td>0.805</td><td>0.833</td><td>0.802</td><td>0.727</td><td>0.797</td><td>0.830</td><td>0.806</td></tr>\n",
    "<tr><th>暖房</th><td>0.803</td><td>0.783</td><td>0.816</td><td>0.844</td><td>0.842</td><td>0.839</td><td>0.813</td><td>0.787</td></tr>\n",
    "<tr><th rowspan=\"2\">区分4</th><th>冷房</th><td>0.805</td><td>0.818</td><td>0.844</td><td>0.816</td><td>0.745</td><td>0.811</td><td>0.841</td><td>0.819</td></tr>\n",
    "<tr><th>暖房</th><td>0.816</td><td>0.797</td><td>0.828</td><td>0.854</td><td>0.853</td><td>0.850</td><td>0.825</td><td>0.800</td></tr>\n",
    "<tr><th rowspan=\"2\">区分5</th><th>冷房</th><td>0.776</td><td>0.791</td><td>0.823</td><td>0.789</td><td>0.707</td><td>0.783</td><td>0.820</td><td>0.792</td></tr>\n",
    "<tr><th>暖房</th><td>0.789</td><td>0.767</td><td>0.804</td><td>0.834</td><td>0.831</td><td>0.829</td><td>0.800</td><td>0.771</td></tr>\n",
    "<tr><th rowspan=\"2\">区分6</th><th>冷房</th><td>0.781</td><td>0.796</td><td>0.826</td><td>0.793</td><td>0.715</td><td>0.787</td><td>0.823</td><td>0.797</td></tr>\n",
    "<tr><th>暖房</th><td>0.793</td><td>0.772</td><td>0.806</td><td>0.836</td><td>0.833</td><td>0.831</td><td>0.803</td><td>0.775</td></tr>\n",
    "<tr><th rowspan=\"2\">区分7</th><th>冷房</th><td>0.761</td><td>0.776</td><td>0.810</td><td>0.772</td><td>0.688</td><td>0.766</td><td>0.806</td><td>0.777</td></tr>\n",
    "<tr><th>暖房</th><td>0.773</td><td>0.751</td><td>0.788</td><td>0.820</td><td>0.816</td><td>0.814</td><td>0.785</td><td>0.755</td></tr>\n",
    "\n",
    "<tr><th rowspan=\"14\">2</th>\n",
    "<th rowspan=\"2\">区分1</th><th>冷房</th><td>0.857</td><td>0.864</td><td>0.877</td><td>0.858</td><td>0.812</td><td>0.861</td><td>0.878</td><td>0.864</td></tr>\n",
    "<tr><th>暖房</th><td>0.860</td><td>0.851</td><td>0.873</td><td>0.888</td><td>0.880</td><td>0.885</td><td>0.874</td><td>0.850</td></tr>\n",
    "<tr><th rowspan=\"2\">区分2</th><th>冷房</th><td>0.812</td><td>0.820</td><td>0.839</td><td>0.814</td><td>0.753</td><td>0.817</td><td>0.841</td><td>0.819</td></tr>\n",
    "<tr><th>暖房</th><td>0.815</td><td>0.802</td><td>0.833</td><td>0.853</td><td>0.840</td><td>0.848</td><td>0.835</td><td>0.802</td></tr>\n",
    "<tr><th rowspan=\"2\">区分3</th><th>冷房</th><td>0.796</td><td>0.804</td><td>0.825</td><td>0.796</td><td>0.734</td><td>0.799</td><td>0.827</td><td>0.803</td></tr>\n",
    "<tr><th>暖房</th><td>0.801</td><td>0.787</td><td>0.819</td><td>0.840</td><td>0.825</td><td>0.834</td><td>0.821</td><td>0.786</td></tr>\n",
    "<tr><th rowspan=\"2\">区分4</th><th>冷房</th><td>0.810</td><td>0.817</td><td>0.836</td><td>0.810</td><td>0.751</td><td>0.813</td><td>0.838</td><td>0.817</td></tr>\n",
    "<tr><th>暖房</th><td>0.814</td><td>0.801</td><td>0.831</td><td>0.850</td><td>0.837</td><td>0.845</td><td>0.832</td><td>0.800</td></tr>\n",
    "<tr><th rowspan=\"2\">区分5</th><th>冷房</th><td>0.782</td><td>0.790</td><td>0.814</td><td>0.783</td><td>0.714</td><td>0.786</td><td>0.816</td><td>0.790</td></tr>\n",
    "<tr><th>暖房</th><td>0.786</td><td>0.771</td><td>0.807</td><td>0.829</td><td>0.813</td><td>0.824</td><td>0.809</td><td>0.770</td></tr>\n",
    "<tr><th rowspan=\"2\">区分6</th><th>冷房</th><td>0.787</td><td>0.794</td><td>0.817</td><td>0.787</td><td>0.721</td><td>0.790</td><td>0.820</td><td>0.794</td></tr>\n",
    "<tr><th>暖房</th><td>0.790</td><td>0.775</td><td>0.810</td><td>0.831</td><td>0.815</td><td>0.826</td><td>0.811</td><td>0.775</td></tr>\n",
    "<tr><th rowspan=\"2\">区分7</th><th>冷房</th><td>0.767</td><td>0.774</td><td>0.800</td><td>0.766</td><td>0.695</td><td>0.768</td><td>0.803</td><td>0.774</td></tr>\n",
    "<tr><th>暖房</th><td>0.771</td><td>0.754</td><td>0.792</td><td>0.815</td><td>0.797</td><td>0.809</td><td>0.794</td><td>0.754</td></tr>\n",
    "\n",
    "</tbody>\n",
    "</table>\n",
    "\n"
   ]
  },
  {
   "cell_type": "markdown",
   "metadata": {},
   "source": [
    "<div style=\"text-align: center;font-weight: bold;\">表　当該開口部の上部に日除けが設置されていない場合の開口部の取得日射熱補正係数（続き）</div>\n",
    "\n",
    "<table>\n",
    "<thead>\n",
    "<tr>\n",
    "<th rowspan=\"2\">地域の区分</th>\n",
    "<th rowspan=\"2\">ガラス仕様の区分</th>\n",
    "<th rowspan=\"2\">期間</th>\n",
    "<th colspan=\"8\">開口部の面する方位</th>\n",
    "</tr>\n",
    "<tr>\n",
    "<th>北</th>\n",
    "<th>北東</th>\n",
    "<th>東</th>\n",
    "<th>南東</th>\n",
    "<th>南</th>\n",
    "<th>南西</th>\n",
    "<th>西</th>\n",
    "<th>北西</th>\n",
    "</tr>\n",
    "</thead>\n",
    "\n",
    "<tbody>\n",
    "\n",
    "<tr>\n",
    "<th rowspan=\"14\">3</th><th rowspan=\"2\">区分1</th><th>冷房</th><td>0.853</td><td>0.862</td><td>0.870</td><td>0.853</td><td>0.799</td><td>0.859</td><td>0.883</td><td>0.865</td></tr>\n",
    "<tr><th>暖房</th><td>0.862</td><td>0.850</td><td>0.869</td><td>0.885</td><td>0.884</td><td>0.885</td><td>0.871</td><td>0.850</td></tr>\n",
    "<tr><th rowspan=\"2\">区分2</th><th>冷房</th><td>0.807</td><td>0.817</td><td>0.830</td><td>0.806</td><td>0.738</td><td>0.813</td><td>0.849</td><td>0.821</td></tr>\n",
    "<tr><th>暖房</th><td>0.818</td><td>0.803</td><td>0.828</td><td>0.850</td><td>0.846</td><td>0.849</td><td>0.831</td><td>0.802</td></tr>\n",
    "<tr><th rowspan=\"2\">区分3</th><th>冷房</th><td>0.791</td><td>0.802</td><td>0.816</td><td>0.788</td><td>0.720</td><td>0.795</td><td>0.835</td><td>0.805</td></tr>\n",
    "<tr><th>暖房</th><td>0.804</td><td>0.787</td><td>0.814</td><td>0.836</td><td>0.831</td><td>0.836</td><td>0.816</td><td>0.787</td></tr>\n",
    "<tr><th rowspan=\"2\">区分4</th><th>冷房</th><td>0.805</td><td>0.815</td><td>0.828</td><td>0.803</td><td>0.737</td><td>0.810</td><td>0.846</td><td>0.819</td></tr>\n",
    "<tr><th>暖房</th><td>0.816</td><td>0.801</td><td>0.826</td><td>0.847</td><td>0.842</td><td>0.846</td><td>0.828</td><td>0.801</td></tr>\n",
    "<tr><th rowspan=\"2\">区分5</th><th>冷房</th><td>0.777</td><td>0.788</td><td>0.804</td><td>0.774</td><td>0.699</td><td>0.781</td><td>0.825</td><td>0.792</td></tr>\n",
    "<tr><th>暖房</th><td>0.790</td><td>0.772</td><td>0.801</td><td>0.825</td><td>0.819</td><td>0.825</td><td>0.804</td><td>0.771</td></tr>\n",
    "<tr><th rowspan=\"2\">区分6</th><th>冷房</th><td>0.782</td><td>0.792</td><td>0.808</td><td>0.778</td><td>0.707</td><td>0.786</td><td>0.828</td><td>0.796</td></tr>\n",
    "<tr><th>暖房</th><td>0.793</td><td>0.776</td><td>0.804</td><td>0.827</td><td>0.821</td><td>0.827</td><td>0.807</td><td>0.776</td></tr>\n",
    "<tr><th rowspan=\"2\">区分7</th><th>冷房</th><td>0.761</td><td>0.772</td><td>0.790</td><td>0.757</td><td>0.681</td><td>0.764</td><td>0.812</td><td>0.776</td></tr>\n",
    "<tr><th>暖房</th><td>0.774</td><td>0.756</td><td>0.786</td><td>0.811</td><td>0.803</td><td>0.810</td><td>0.789</td><td>0.755</td></tr>\n",
    "\n",
    "<tr>\n",
    "<th rowspan=\"14\">4</th><th rowspan=\"2\">区分1</th><th>冷房</th><td>0.852</td><td>0.861</td><td>0.881</td><td>0.853</td><td>0.784</td><td>0.850</td><td>0.876</td><td>0.861</td></tr>\n",
    "<tr><th>暖房</th><td>0.861</td><td>0.846</td><td>0.874</td><td>0.883</td><td>0.874</td><td>0.882</td><td>0.872</td><td>0.845</td></tr>\n",
    "<tr><th rowspan=\"2\">区分2</th><th>冷房</th><td>0.806</td><td>0.816</td><td>0.845</td><td>0.805</td><td>0.721</td><td>0.802</td><td>0.839</td><td>0.816</td></tr>\n",
    "<tr><th>暖房</th><td>0.816</td><td>0.797</td><td>0.834</td><td>0.846</td><td>0.832</td><td>0.846</td><td>0.833</td><td>0.796</td></tr>\n",
    "<tr><th rowspan=\"2\">区分3</th><th>冷房</th><td>0.790</td><td>0.800</td><td>0.831</td><td>0.787</td><td>0.704</td><td>0.785</td><td>0.824</td><td>0.800</td></tr>\n",
    "<tr><th>暖房</th><td>0.802</td><td>0.782</td><td>0.819</td><td>0.833</td><td>0.817</td><td>0.832</td><td>0.818</td><td>0.780</td></tr>\n",
    "<tr><th rowspan=\"2\">区分4</th><th>冷房</th><td>0.804</td><td>0.813</td><td>0.842</td><td>0.802</td><td>0.721</td><td>0.799</td><td>0.836</td><td>0.813</td></tr>\n",
    "<tr><th>暖房</th><td>0.814</td><td>0.796</td><td>0.831</td><td>0.843</td><td>0.829</td><td>0.843</td><td>0.830</td><td>0.794</td></tr>\n",
    "<tr><th rowspan=\"2\">区分5</th><th>冷房</th><td>0.776</td><td>0.786</td><td>0.820</td><td>0.772</td><td>0.683</td><td>0.770</td><td>0.813</td><td>0.786</td></tr>\n",
    "<tr><th>暖房</th><td>0.787</td><td>0.766</td><td>0.807</td><td>0.822</td><td>0.804</td><td>0.821</td><td>0.806</td><td>0.764</td></tr>\n",
    "<tr><th rowspan=\"2\">区分6</th><th>冷房</th><td>0.781</td><td>0.791</td><td>0.823</td><td>0.777</td><td>0.691</td><td>0.775</td><td>0.817</td><td>0.790</td></tr>\n",
    "<tr><th>暖房</th><td>0.791</td><td>0.770</td><td>0.810</td><td>0.824</td><td>0.807</td><td>0.824</td><td>0.809</td><td>0.769</td></tr>\n",
    "<tr><th rowspan=\"2\">区分7</th><th>冷房</th><td>0.761</td><td>0.770</td><td>0.806</td><td>0.754</td><td>0.665</td><td>0.752</td><td>0.799</td><td>0.770</td></tr>\n",
    "<tr><th>暖房</th><td>0.772</td><td>0.749</td><td>0.792</td><td>0.807</td><td>0.787</td><td>0.807</td><td>0.791</td><td>0.747</td></tr>\n",
    "\n",
    "<tr>\n",
    "<th rowspan=\"14\">5</th><th rowspan=\"2\">区分1</th><th>冷房</th><td>0.860</td><td>0.863</td><td>0.874</td><td>0.854</td><td>0.807</td><td>0.858</td><td>0.875</td><td>0.862</td></tr>\n",
    "<tr><th>暖房</th><td>0.867</td><td>0.838</td><td>0.874</td><td>0.894</td><td>0.894</td><td>0.891</td><td>0.871</td><td>0.840</td></tr>\n",
    "<tr><th rowspan=\"2\">区分2</th><th>冷房</th><td>0.816</td><td>0.820</td><td>0.835</td><td>0.807</td><td>0.749</td><td>0.813</td><td>0.837</td><td>0.817</td></tr>\n",
    "<tr><th>暖房</th><td>0.823</td><td>0.787</td><td>0.834</td><td>0.861</td><td>0.858</td><td>0.857</td><td>0.830</td><td>0.789</td></tr>\n",
    "<tr><th rowspan=\"2\">区分3</th><th>冷房</th><td>0.800</td><td>0.804</td><td>0.820</td><td>0.790</td><td>0.732</td><td>0.795</td><td>0.822</td><td>0.801</td></tr>\n",
    "<tr><th>暖房</th><td>0.809</td><td>0.771</td><td>0.819</td><td>0.848</td><td>0.842</td><td>0.845</td><td>0.815</td><td>0.773</td></tr>\n",
    "<tr><th rowspan=\"2\">区分4</th><th>冷房</th><td>0.813</td><td>0.817</td><td>0.832</td><td>0.804</td><td>0.749</td><td>0.809</td><td>0.834</td><td>0.815</td></tr>\n",
    "<tr><th>暖房</th><td>0.821</td><td>0.786</td><td>0.831</td><td>0.858</td><td>0.854</td><td>0.854</td><td>0.827</td><td>0.788</td></tr>\n",
    "<tr><th rowspan=\"2\">区分5</th><th>冷房</th><td>0.786</td><td>0.791</td><td>0.809</td><td>0.775</td><td>0.713</td><td>0.782</td><td>0.811</td><td>0.788</td></tr>\n",
    "<tr><th>暖房</th><td>0.795</td><td>0.754</td><td>0.807</td><td>0.839</td><td>0.832</td><td>0.835</td><td>0.803</td><td>0.756</td></tr>\n",
    "<tr><th rowspan=\"2\">区分6</th><th>冷房</th><td>0.791</td><td>0.795</td><td>0.812</td><td>0.780</td><td>0.720</td><td>0.786</td><td>0.815</td><td>0.792</td></tr>\n",
    "<tr><th>暖房</th><td>0.798</td><td>0.759</td><td>0.810</td><td>0.841</td><td>0.833</td><td>0.837</td><td>0.806</td><td>0.761</td></tr>\n",
    "<tr><th rowspan=\"2\">区分7</th><th>冷房</th><td>0.771</td><td>0.775</td><td>0.794</td><td>0.758</td><td>0.696</td><td>0.765</td><td>0.797</td><td>0.772</td></tr>\n",
    "<tr><th>暖房</th><td>0.779</td><td>0.737</td><td>0.791</td><td>0.826</td><td>0.816</td><td>0.821</td><td>0.787</td><td>0.740</td></tr>\n",
    "\n",
    "</tbody>\n",
    "</table>\n",
    "\n"
   ]
  },
  {
   "cell_type": "markdown",
   "metadata": {},
   "source": [
    "<div style=\"text-align: center;font-weight: bold;\">表　当該開口部の上部に日除けが設置されていない場合の開口部の取得日射熱補正係数（続き）</div>\n",
    "\n",
    "<table>\n",
    "<thead>\n",
    "<tr>\n",
    "<th rowspan=\"2\">地域の区分</th>\n",
    "<th rowspan=\"2\">ガラス仕様の区分</th>\n",
    "<th rowspan=\"2\">期間</th>\n",
    "<th colspan=\"8\">開口部の面する方位</th>\n",
    "</tr>\n",
    "<tr>\n",
    "<th>北</th>\n",
    "<th>北東</th>\n",
    "<th>東</th>\n",
    "<th>南東</th>\n",
    "<th>南</th>\n",
    "<th>南西</th>\n",
    "<th>西</th>\n",
    "<th>北西</th>\n",
    "</tr>\n",
    "</thead>\n",
    "\n",
    "<tbody>\n",
    "<tr>\n",
    "<th rowspan=\"14\">6</th><th rowspan=\"2\">区分1</th><th>冷房</th><td>0.847</td><td>0.862</td><td>0.880</td><td>0.852</td><td>0.795</td><td>0.852</td><td>0.880</td><td>0.864</td></tr>\n",
    "<tr><th>暖房</th><td>0.870</td><td>0.839</td><td>0.874</td><td>0.896</td><td>0.889</td><td>0.885</td><td>0.874</td><td>0.844</td></tr>\n",
    "<tr><th rowspan=\"2\">区分2</th><th>冷房</th><td>0.800</td><td>0.818</td><td>0.843</td><td>0.804</td><td>0.738</td><td>0.804</td><td>0.843</td><td>0.820</td></tr>\n",
    "<tr><th>暖房</th><td>0.827</td><td>0.788</td><td>0.834</td><td>0.865</td><td>0.851</td><td>0.850</td><td>0.833</td><td>0.794</td></tr>\n",
    "<tr><th rowspan=\"2\">区分3</th><th>冷房</th><td>0.784</td><td>0.802</td><td>0.829</td><td>0.786</td><td>0.721</td><td>0.786</td><td>0.829</td><td>0.805</td></tr>\n",
    "<tr><th>暖房</th><td>0.813</td><td>0.772</td><td>0.819</td><td>0.852</td><td>0.836</td><td>0.837</td><td>0.818</td><td>0.778</td></tr>\n",
    "<tr><th rowspan=\"2\">区分4</th><th>冷房</th><td>0.798</td><td>0.816</td><td>0.840</td><td>0.801</td><td>0.737</td><td>0.801</td><td>0.840</td><td>0.818</td></tr>\n",
    "<tr><th>暖房</th><td>0.825</td><td>0.787</td><td>0.831</td><td>0.862</td><td>0.848</td><td>0.847</td><td>0.830</td><td>0.793</td></tr>\n",
    "<tr><th rowspan=\"2\">区分5</th><th>冷房</th><td>0.769</td><td>0.789</td><td>0.818</td><td>0.771</td><td>0.702</td><td>0.771</td><td>0.818</td><td>0.791</td></tr>\n",
    "<tr><th>暖房</th><td>0.799</td><td>0.755</td><td>0.806</td><td>0.843</td><td>0.824</td><td>0.827</td><td>0.806</td><td>0.762</td></tr>\n",
    "<tr><th rowspan=\"2\">区分6</th><th>冷房</th><td>0.774</td><td>0.793</td><td>0.821</td><td>0.776</td><td>0.709</td><td>0.776</td><td>0.821</td><td>0.796</td></tr>\n",
    "<tr><th>暖房</th><td>0.803</td><td>0.760</td><td>0.809</td><td>0.845</td><td>0.826</td><td>0.829</td><td>0.809</td><td>0.767</td></tr>\n",
    "<tr><th rowspan=\"2\">区分7</th><th>冷房</th><td>0.754</td><td>0.773</td><td>0.804</td><td>0.754</td><td>0.685</td><td>0.754</td><td>0.804</td><td>0.776</td></tr>\n",
    "<tr><th>暖房</th><td>0.784</td><td>0.739</td><td>0.791</td><td>0.830</td><td>0.808</td><td>0.813</td><td>0.790</td><td>0.745</td></tr>\n",
    "<tr>\n",
    "<th rowspan=\"14\">7</th><th rowspan=\"2\">区分1</th><th>冷房</th><td>0.838</td><td>0.861</td><td>0.881</td><td>0.849</td><td>0.788</td><td>0.847</td><td>0.880</td><td>0.862</td></tr>\n",
    "<tr><th>暖房</th><td>0.873</td><td>0.833</td><td>0.868</td><td>0.892</td><td>0.896</td><td>0.894</td><td>0.870</td><td>0.834</td></tr>\n",
    "<tr><th rowspan=\"2\">区分2</th><th>冷房</th><td>0.788</td><td>0.817</td><td>0.845</td><td>0.800</td><td>0.730</td><td>0.798</td><td>0.843</td><td>0.818</td></tr>\n",
    "<tr><th>暖房</th><td>0.831</td><td>0.780</td><td>0.827</td><td>0.859</td><td>0.860</td><td>0.861</td><td>0.829</td><td>0.780</td></tr>\n",
    "<tr><th rowspan=\"2\">区分3</th><th>冷房</th><td>0.772</td><td>0.801</td><td>0.831</td><td>0.782</td><td>0.713</td><td>0.780</td><td>0.829</td><td>0.802</td></tr>\n",
    "<tr><th>暖房</th><td>0.817</td><td>0.764</td><td>0.812</td><td>0.847</td><td>0.844</td><td>0.849</td><td>0.814</td><td>0.764</td></tr>\n",
    "<tr><th rowspan=\"2\">区分4</th><th>冷房</th><td>0.787</td><td>0.814</td><td>0.842</td><td>0.797</td><td>0.729</td><td>0.795</td><td>0.840</td><td>0.815</td></tr>\n",
    "<tr><th>暖房</th><td>0.829</td><td>0.779</td><td>0.824</td><td>0.856</td><td>0.856</td><td>0.858</td><td>0.826</td><td>0.779</td></tr>\n",
    "<tr><th rowspan=\"2\">区分5</th><th>冷房</th><td>0.757</td><td>0.787</td><td>0.821</td><td>0.767</td><td>0.694</td><td>0.764</td><td>0.818</td><td>0.788</td></tr>\n",
    "<tr><th>暖房</th><td>0.803</td><td>0.746</td><td>0.799</td><td>0.837</td><td>0.833</td><td>0.839</td><td>0.801</td><td>0.746</td></tr>\n",
    "<tr><th rowspan=\"2\">区分6</th><th>冷房</th><td>0.762</td><td>0.792</td><td>0.824</td><td>0.772</td><td>0.701</td><td>0.770</td><td>0.822</td><td>0.793</td></tr>\n",
    "<tr><th>暖房</th><td>0.807</td><td>0.752</td><td>0.802</td><td>0.839</td><td>0.835</td><td>0.841</td><td>0.804</td><td>0.752</td></tr>\n",
    "<tr><th rowspan=\"2\">区分7</th><th>冷房</th><td>0.741</td><td>0.772</td><td>0.808</td><td>0.749</td><td>0.677</td><td>0.747</td><td>0.805</td><td>0.772</td></tr>\n",
    "<tr><th>暖房</th><td>0.788</td><td>0.729</td><td>0.783</td><td>0.824</td><td>0.816</td><td>0.826</td><td>0.785</td><td>0.729</td></tr>\n",
    "<tr>\n",
    "<th rowspan=\"7\">8</th>\n",
    "<th>区分1</th><th>冷房</th><td>0.848</td><td>0.857</td><td>0.877</td><td>0.860</td><td>0.824</td><td>0.858</td><td>0.876</td><td>0.859</td></tr>\n",
    "<tr><th>区分2</th><th>冷房</th><td>0.801</td><td>0.811</td><td>0.840</td><td>0.816</td><td>0.773</td><td>0.813</td><td>0.839</td><td>0.814</td></tr>\n",
    "<tr><th>区分3</th><th>冷房</th><td>0.786</td><td>0.795</td><td>0.825</td><td>0.799</td><td>0.755</td><td>0.796</td><td>0.825</td><td>0.798</td></tr>\n",
    "<tr><th>区分4</th><th>冷房</th><td>0.799</td><td>0.809</td><td>0.837</td><td>0.813</td><td>0.771</td><td>0.810</td><td>0.836</td><td>0.812</td></tr>\n",
    "<tr><th>区分5</th><th>冷房</th><td>0.771</td><td>0.780</td><td>0.815</td><td>0.786</td><td>0.739</td><td>0.782</td><td>0.814</td><td>0.784</td></tr>\n",
    "<tr><th>区分6</th><th>冷房</th><td>0.776</td><td>0.785</td><td>0.818</td><td>0.790</td><td>0.745</td><td>0.786</td><td>0.817</td><td>0.789</td></tr>\n",
    "<tr><th>区分7</th><th>冷房</th><td>0.756</td><td>0.764</td><td>0.801</td><td>0.770</td><td>0.722</td><td>0.766</td><td>0.800</td><td>0.768</td></tr>\n",
    "</tbody>\n",
    "</table>\n",
    "\n"
   ]
  },
  {
   "cell_type": "markdown",
   "metadata": {},
   "source": [
    "#### B.2 ガラスの仕様の区分"
   ]
  },
  {
   "cell_type": "markdown",
   "metadata": {},
   "source": [
    "<div style=\"text-align: center;font-weight: bold;\">表　ガラスの仕様の区分</div>\n",
    "\n",
    "<table>\n",
    "<thead>\n",
    "<tr>\n",
    "<th style=\"text-align: left;\" rowspan=\"2\" colspan=\"3\"></th>\n",
    "<th style=\"text-align: left;\" colspan=\"7\">ガラスの仕様の区分</th>\n",
    "</tr>\n",
    "<tr>\n",
    "<th style=\"text-align: left;\" style=\"text-align: center;\">1</th>\n",
    "<th style=\"text-align: left;\" style=\"text-align: center;\">2</th>\n",
    "<th style=\"text-align: left;\" style=\"text-align: center;\">3</th>\n",
    "<th style=\"text-align: left;\" style=\"text-align: center;\">4</th>\n",
    "<th style=\"text-align: left;\" style=\"text-align: center;\">5</th>\n",
    "<th style=\"text-align: left;\" style=\"text-align: center;\">6</th>\n",
    "<th style=\"text-align: left;\" style=\"text-align: center;\">7</th>\n",
    "</tr>\n",
    "</thead>\n",
    "\n",
    "<tbody>\n",
    "<tr>\n",
    "<th style=\"text-align: left;\" rowspan=\"4\">三層複層</th>\n",
    "<th style=\"text-align: left;\" rowspan=\"2\">2 枚以上のガラス表面に<br>Low-E膜を使用した<br>Low-E 三層複層ガラス</th>\n",
    "<th style=\"text-align: left;\">日射取得型</th>\n",
    "<td></td>\n",
    "<td></td>\n",
    "<td></td>\n",
    "<td></td>\n",
    "<td></td>\n",
    "<td><span style=\"font-size: 200%;\">○</span></td>\n",
    "<td></td>\n",
    "</tr>\n",
    "<tr>\n",
    "<th style=\"text-align: left;\">日射遮蔽型</th>\n",
    "<td></td>\n",
    "<td></td>\n",
    "<td><span style=\"font-size: 200%;\">○</span></td>\n",
    "<td></td>\n",
    "<td></td>\n",
    "<td></td>\n",
    "<td></td>\n",
    "</tr>\n",
    "<tr>\n",
    "<th style=\"text-align: left;\" rowspan=\"2\">Low-E 三層複層ガラス</th>\n",
    "<th style=\"text-align: left;\">日射取得型</th>\n",
    "<td></td>\n",
    "<td></td>\n",
    "<td></td>\n",
    "<td></td>\n",
    "<td></td>\n",
    "<td><span style=\"font-size: 200%;\">○</span></td>\n",
    "<td></td>\n",
    "</tr>\n",
    "<tr>\n",
    "<th style=\"text-align: left;\">日射遮蔽型</th>\n",
    "<td></td>\n",
    "<td></td>\n",
    "<td></td>\n",
    "<td></td>\n",
    "<td></td>\n",
    "<td><span style=\"font-size: 200%;\">○</span></td>\n",
    "<td></td>\n",
    "</tr>\n",
    "\n",
    "<tr>\n",
    "<th style=\"text-align: left;\" rowspan=\"4\">二層複層</th>\n",
    "<th style=\"text-align: left;\" rowspan=\"2\">Low-E 二層複層ガラス</th>\n",
    "<th style=\"text-align: left;\">日射取得型</th>\n",
    "<td></td>\n",
    "<td></td>\n",
    "<td><span style=\"font-size: 200%;\">○</span></td>\n",
    "<td></td>\n",
    "<td></td>\n",
    "<td></td>\n",
    "<td></td>\n",
    "</tr>\n",
    "<tr>\n",
    "<th style=\"text-align: left;\">日射遮蔽型</th>\n",
    "<td></td>\n",
    "<td></td>\n",
    "<td></td>\n",
    "<td><span style=\"font-size: 200%;\">○</span></td>\n",
    "<td></td>\n",
    "<td></td>\n",
    "<td></td>\n",
    "</tr>\n",
    "<tr>\n",
    "<th style=\"text-align: left;\" colspan=\"2\">二層複層ガラス</th>\n",
    "<td></td>\n",
    "<td><span style=\"font-size: 200%;\">○</span></td>\n",
    "<td></td>\n",
    "<td></td>\n",
    "<td></td>\n",
    "<td></td>\n",
    "<td></td>\n",
    "</tr>\n",
    "<tr>\n",
    "<th style=\"text-align: left;\" colspan=\"2\">単板ガラス 2 枚を組み合わせたもの</th>\n",
    "<td></td>\n",
    "<td><span style=\"font-size: 200%;\">○</span></td>\n",
    "<td></td>\n",
    "<td></td>\n",
    "<td></td>\n",
    "<td></td>\n",
    "<td></td>\n",
    "</tr>\n",
    "\n",
    "<tr>\n",
    "<th style=\"text-align: left;\">単層</th>\n",
    "<th style=\"text-align: left;\" colspan=\"2\">単板ガラス</th>\n",
    "<td><span style=\"font-size: 200%;\">○</span></td>\n",
    "<td></td>\n",
    "<td></td>\n",
    "<td></td>\n",
    "<td></td>\n",
    "<td></td>\n",
    "<td></td>\n",
    "</tr>\n",
    "\n",
    "<tr>\n",
    "<th style=\"text-align: left;\" rowspan=\"4\">二重窓</th>\n",
    "<th style=\"text-align: left;\" colspan=\"2\">単板ガラス 2 枚を組み合わせたもの</th>\n",
    "<td></td>\n",
    "<td><span style=\"font-size: 200%;\">○</span></td>\n",
    "<td></td>\n",
    "<td></td>\n",
    "<td></td>\n",
    "<td></td>\n",
    "<td></td>\n",
    "</tr>\n",
    "<tr>\n",
    "<th style=\"text-align: left;\" colspan=\"2\">単板ガラスと複層ガラスを組み合わせたもの</th>\n",
    "<td></td>\n",
    "<td></td>\n",
    "<td></td>\n",
    "<td></td>\n",
    "<td><span style=\"font-size: 200%;\">○</span></td>\n",
    "<td></td>\n",
    "<td></td>\n",
    "</tr>\n",
    "<tr>\n",
    "<th style=\"text-align: left;\" rowspan=\"2\">単板ガラスとLow-E複層ガラスを<br>組み合わせたもの</th>\n",
    "<th style=\"text-align: left;\">日射取得型</th>\n",
    "<td></td>\n",
    "<td></td>\n",
    "<td></td>\n",
    "<td></td>\n",
    "<td></td>\n",
    "<td></td>\n",
    "<td><span style=\"font-size: 200%;\">○</span></td>\n",
    "</tr>\n",
    "<tr>\n",
    "<th style=\"text-align: left;\">日射遮蔽型 </th>\n",
    "<td></td>\n",
    "<td></td>\n",
    "<td></td>\n",
    "<td></td>\n",
    "<td></td>\n",
    "<td><span style=\"font-size: 200%;\">○</span></td>\n",
    "<td></td>\n",
    "</tr>\n",
    "</tbody>\n",
    "</table>\n"
   ]
  },
  {
   "cell_type": "markdown",
   "metadata": {},
   "source": [
    "### 付録 C 大部分がガラスで構成される窓等の開口部の垂直面日射熱取得率－ガラスの日射熱取得率等を用いる場合－"
   ]
  },
  {
   "cell_type": "markdown",
   "metadata": {},
   "source": [
    "枠が木製建具又は樹脂製建具の場合、"
   ]
  },
  {
   "cell_type": "markdown",
   "metadata": {},
   "source": [
    "$$\\large\n",
    "\\eta_{d,i} = \\eta_{g,i} \\times 0.72\n",
    "$$"
   ]
  },
  {
   "cell_type": "markdown",
   "metadata": {},
   "source": [
    "枠が木と金属の複合材料製建具、樹脂と金属の複合材料製建具、金属製熱遮断構造建具又は金属製建具の場合、"
   ]
  },
  {
   "cell_type": "markdown",
   "metadata": {},
   "source": [
    "$$\\large\n",
    "\\eta_{d,i} = \\eta_{g,i} \\times 0.8\n",
    "$$"
   ]
  },
  {
   "cell_type": "markdown",
   "metadata": {},
   "source": [
    "枠の影響が無い場合、 "
   ]
  },
  {
   "cell_type": "markdown",
   "metadata": {},
   "source": [
    "$$\\large\n",
    "\\eta_{d,i} = \\eta_{g,i}\n",
    "$$"
   ]
  },
  {
   "cell_type": "markdown",
   "metadata": {},
   "source": [
    "$\\eta_{g,i}$：開口部$i$のガラスの垂直面日射熱取得率"
   ]
  },
  {
   "cell_type": "markdown",
   "metadata": {},
   "source": [
    "<div style=\"text-align: center;font-weight: bold;\">表　ガラスの垂直面日射熱取得率</div>\n",
    "\n",
    "<table>\n",
    "<thead>\n",
    "<tr>\n",
    "<th style=\"text-align: left;\" rowspan=\"2\" colspan=\"3\">ガラスの仕様</th>\n",
    "<th style=\"text-align: left;\" colspan=\"3\">日射熱取得率$\\eta_{d}$</th>\n",
    "</tr>\n",
    "<tr>\n",
    "<th style=\"text-align: left;\">付属部材なし</th>\n",
    "<th style=\"text-align: left;\">和障子</th>\n",
    "<th style=\"text-align: left;\">外付け<br>ブラインド</th>\n",
    "</tr>\n",
    "</thead>\n",
    "\n",
    "<tbody>\n",
    "<tr>\n",
    "<th style=\"text-align: left;\" rowspan=\"5\">三層複層</th>\n",
    "<th style=\"text-align: left;\" rowspan=\"2\">2 枚以上のガラス表面に<br>Low-E膜を使用した<br>Low-E 三層複層ガラス</th>\n",
    "<th style=\"text-align: left;\">日射取得型</th>\n",
    "<td>0.54</td>\n",
    "<td>0.34</td>\n",
    "<td>0.12</td>\n",
    "</tr>\n",
    "<tr>\n",
    "<th style=\"text-align: left;\">日射遮蔽型</th>\n",
    "<td>0.33</td>\n",
    "<td>0.22</td>\n",
    "<td>0.08</td>\n",
    "</tr>\n",
    "<tr>\n",
    "<th style=\"text-align: left;\" rowspan=\"2\">Low-E 三層複層ガラス</th>\n",
    "<th style=\"text-align: left;\">日射取得型</th>\n",
    "<td>0.59</td>\n",
    "<td>0.37</td>\n",
    "<td>0.14</td>\n",
    "</tr>\n",
    "<tr>\n",
    "<th style=\"text-align: left;\">日射遮蔽型</th>\n",
    "<td>0.37</td>\n",
    "<td>0.25</td>\n",
    "<td>0.10</td>\n",
    "</tr>\n",
    "<tr>\n",
    "<th style=\"text-align: left;\" colspan=\"2\">三層複層ガラス</th>\n",
    "<td>0.72</td>\n",
    "<td>0.38</td>\n",
    "<td>0.18</td>\n",
    "</tr>\n",
    "\n",
    "<tr>\n",
    "<th style=\"text-align: left;\" rowspan=\"4\">二層複層</th>\n",
    "<th style=\"text-align: left;\" rowspan=\"2\">Low-E 二層複層ガラス</th>\n",
    "<th style=\"text-align: left;\">日射取得型</th>\n",
    "<td>0.64</td>\n",
    "<td>0.38</td>\n",
    "<td>0.15</td>\n",
    "</tr>\n",
    "<tr>\n",
    "<th style=\"text-align: left;\">日射遮蔽型</th>\n",
    "<td>0.40</td>\n",
    "<td>0.26</td>\n",
    "<td>0.11</td>\n",
    "</tr>\n",
    "<tr>\n",
    "<th style=\"text-align: left;\" colspan=\"2\">二層複層ガラス</th>\n",
    "<td>0.79</td>\n",
    "<td>0.38</td>\n",
    "<td>0.17</td>\n",
    "</tr>\n",
    "<tr>\n",
    "<th style=\"text-align: left;\" colspan=\"2\">単板ガラス 2 枚を組み合わせたもの</th>\n",
    "<td>0.79</td>\n",
    "<td>0.38</td>\n",
    "<td>0.17</td>\n",
    "</tr>\n",
    "\n",
    "<tr>\n",
    "<th style=\"text-align: left;\">単層</th>\n",
    "<th style=\"text-align: left;\" colspan=\"2\">単板ガラス</th>\n",
    "<td>0.88</td>\n",
    "<td>0.38</td>\n",
    "<td>0.19</td>\n",
    "</tr>\n",
    "</tbody>\n",
    "</table>\n"
   ]
  },
  {
   "cell_type": "markdown",
   "metadata": {},
   "source": [
    "<div style=\"text-align: center;font-weight: bold;\">表　（参考）大部分がガラスで構成される窓等の開口部（一重構造の建具）の垂直面日射熱取得率（木製建具又は樹脂製建具）</div>\n",
    "\n",
    "<table>\n",
    "<thead>\n",
    "<tr>\n",
    "<th style=\"text-align: left;\" rowspan=\"2\" colspan=\"3\">ガラスの仕様</th>\n",
    "<th style=\"text-align: left;\" colspan=\"3\">日射熱取得率$\\eta_{d}$</th>\n",
    "</tr>\n",
    "<tr>\n",
    "<th style=\"text-align: left;\">付属部材なし</th>\n",
    "<th style=\"text-align: left;\">和障子</th>\n",
    "<th style=\"text-align: left;\">外付け<br>ブラインド</th>\n",
    "</tr>\n",
    "</thead>\n",
    "\n",
    "<tbody>\n",
    "<tr>\n",
    "<th style=\"text-align: left;\" rowspan=\"5\">三層複層</th>\n",
    "<th style=\"text-align: left;\" rowspan=\"2\">2 枚以上のガラス表面に<br>Low-E膜を使用した<br>Low-E 三層複層ガラス</th>\n",
    "<th style=\"text-align: left;\">日射取得型</th>\n",
    "<td>0.39</td>\n",
    "<td>0.24</td>\n",
    "<td>0.09</td>\n",
    "</tr>\n",
    "<tr>\n",
    "<th style=\"text-align: left;\">日射遮蔽型</th>\n",
    "<td>0.24</td>\n",
    "<td>0.16</td>\n",
    "<td>0.06</td>\n",
    "</tr>\n",
    "<tr>\n",
    "<th style=\"text-align: left;\" rowspan=\"2\">Low-E 三層複層ガラス</th>\n",
    "<th style=\"text-align: left;\">日射取得型</th>\n",
    "<td>0.42</td>\n",
    "<td>0.27</td>\n",
    "<td>0.10</td>\n",
    "</tr>\n",
    "<tr>\n",
    "<th style=\"text-align: left;\">日射遮蔽型</th>\n",
    "<td>0.27</td>\n",
    "<td>0.18</td>\n",
    "<td>0.07</td>\n",
    "</tr>\n",
    "<tr>\n",
    "<th style=\"text-align: left;\" colspan=\"2\">三層複層ガラス</th>\n",
    "<td>0.52</td>\n",
    "<td>0.27</td>\n",
    "<td>0.13</td>\n",
    "</tr>\n",
    "\n",
    "<tr>\n",
    "<th style=\"text-align: left;\" rowspan=\"4\">二層複層</th>\n",
    "<th style=\"text-align: left;\" rowspan=\"2\">Low-E 二層複層ガラス</th>\n",
    "<th style=\"text-align: left;\">日射取得型</th>\n",
    "<td>0.46</td>\n",
    "<td>0.27</td>\n",
    "<td>0.11</td>\n",
    "</tr>\n",
    "<tr>\n",
    "<th style=\"text-align: left;\">日射遮蔽型</th>\n",
    "<td>0.29</td>\n",
    "<td>0.19</td>\n",
    "<td>0.08</td>\n",
    "</tr>\n",
    "<tr>\n",
    "<th style=\"text-align: left;\" colspan=\"2\">二層複層ガラス</th>\n",
    "<td>0.57</td>\n",
    "<td>0.27</td>\n",
    "<td>0.12</td>\n",
    "</tr>\n",
    "<tr>\n",
    "<th style=\"text-align: left;\" colspan=\"2\">単板ガラス 2 枚を組み合わせたもの</th>\n",
    "<td>0.57</td>\n",
    "<td>0.27</td>\n",
    "<td>0.12</td>\n",
    "</tr>\n",
    "\n",
    "<tr>\n",
    "<th style=\"text-align: left;\">単層</th>\n",
    "<th style=\"text-align: left;\" colspan=\"2\">単板ガラス</th>\n",
    "<td>0.63</td>\n",
    "<td>0.27</td>\n",
    "<td>0.14</td>\n",
    "</tr>\n",
    "</tbody>\n",
    "</table>\n"
   ]
  },
  {
   "cell_type": "markdown",
   "metadata": {},
   "source": [
    "<div style=\"text-align: center;font-weight: bold;\">表　（参考）大部分がガラスで構成される窓等の開口部（一重構造の建具）の垂直面日射熱取得率（木と金属の複合材料製建具又は樹脂と金属の複合材料製建具、金属製熱遮断構造建具又は金属製建具）</div>\n",
    "\n",
    "<table>\n",
    "<thead>\n",
    "<tr>\n",
    "<th style=\"text-align: left;\" rowspan=\"2\" colspan=\"3\">ガラスの仕様</th>\n",
    "<th style=\"text-align: left;\" colspan=\"3\">日射熱取得率$\\eta_{d}$</th>\n",
    "</tr>\n",
    "<tr>\n",
    "<th style=\"text-align: left;\">付属部材なし</th>\n",
    "<th style=\"text-align: left;\">和障子</th>\n",
    "<th style=\"text-align: left;\">外付け<br>ブラインド</th>\n",
    "</tr>\n",
    "</thead>\n",
    "\n",
    "<tbody>\n",
    "<tr>\n",
    "<th style=\"text-align: left;\" rowspan=\"5\">三層複層</th>\n",
    "<th style=\"text-align: left;\" rowspan=\"2\">2 枚以上のガラス表面に<br>Low-E膜を使用した<br>Low-E 三層複層ガラス</th>\n",
    "<th style=\"text-align: left;\">日射取得型</th>\n",
    "<td>0.43</td>\n",
    "<td>0.27</td>\n",
    "<td>0.10</td>\n",
    "</tr>\n",
    "<tr>\n",
    "<th style=\"text-align: left;\">日射遮蔽型</th>\n",
    "<td>0.26</td>\n",
    "<td>0.18</td>\n",
    "<td>0.06</td>\n",
    "</tr>\n",
    "<tr>\n",
    "<th style=\"text-align: left;\" rowspan=\"2\">Low-E 三層複層ガラス</th>\n",
    "<th style=\"text-align: left;\">日射取得型</th>\n",
    "<td>0.47</td>\n",
    "<td>0.30</td>\n",
    "<td>0.11</td>\n",
    "</tr>\n",
    "<tr>\n",
    "<th style=\"text-align: left;\">日射遮蔽型</th>\n",
    "<td>0.30</td>\n",
    "<td>0.20</td>\n",
    "<td>0.08</td>\n",
    "</tr>\n",
    "<tr>\n",
    "<th style=\"text-align: left;\" colspan=\"2\">三層複層ガラス</th>\n",
    "<td>0.58</td>\n",
    "<td>0.30</td>\n",
    "<td>0.14</td>\n",
    "</tr>\n",
    "\n",
    "<tr>\n",
    "<th style=\"text-align: left;\" rowspan=\"4\">二層複層</th>\n",
    "<th style=\"text-align: left;\" rowspan=\"2\">Low-E 二層複層ガラス</th>\n",
    "<th style=\"text-align: left;\">日射取得型</th>\n",
    "<td>0.51</td>\n",
    "<td>0.30</td>\n",
    "<td>0.12</td>\n",
    "</tr>\n",
    "<tr>\n",
    "<th style=\"text-align: left;\">日射遮蔽型</th>\n",
    "<td>0.32</td>\n",
    "<td>0.21</td>\n",
    "<td>0.09</td>\n",
    "</tr>\n",
    "<tr>\n",
    "<th style=\"text-align: left;\" colspan=\"2\">二層複層ガラス</th>\n",
    "<td>0.63</td>\n",
    "<td>0.30</td>\n",
    "<td>0.14</td>\n",
    "</tr>\n",
    "<tr>\n",
    "<th style=\"text-align: left;\" colspan=\"2\">単板ガラス 2 枚を組み合わせたもの</th>\n",
    "<td>0.63</td>\n",
    "<td>0.30</td>\n",
    "<td>0.14</td>\n",
    "</tr>\n",
    "\n",
    "<tr>\n",
    "<th style=\"text-align: left;\">単層</th>\n",
    "<th style=\"text-align: left;\" colspan=\"2\">単板ガラス</th>\n",
    "<td>0.70</td>\n",
    "<td>0.30</td>\n",
    "<td>0.15</td>\n",
    "</tr>\n",
    "</tbody>\n",
    "</table>\n"
   ]
  }
 ],
 "metadata": {
  "kernelspec": {
   "display_name": "Python 3",
   "language": "python",
   "name": "python3"
  },
  "language_info": {
   "codemirror_mode": {
    "name": "ipython",
    "version": 3
   },
   "file_extension": ".py",
   "mimetype": "text/x-python",
   "name": "python",
   "nbconvert_exporter": "python",
   "pygments_lexer": "ipython3",
   "version": "3.6.7"
  }
 },
 "nbformat": 4,
 "nbformat_minor": 2
}
