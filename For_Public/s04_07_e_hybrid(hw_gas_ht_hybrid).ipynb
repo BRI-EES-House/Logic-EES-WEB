{
 "cells": [
  {
   "cell_type": "markdown",
   "metadata": {},
   "source": [
    "### 付録E　電気ヒートポンプ・ガス瞬間式併用型給湯温水暖房機（給湯熱源：ガス瞬間式、暖房熱源：電気ヒートポンプ・ガス瞬間式併用）"
   ]
  },
  {
   "cell_type": "markdown",
   "metadata": {},
   "source": [
    "#### E.1 記号及び単位"
   ]
  },
  {
   "cell_type": "markdown",
   "metadata": {},
   "source": [
    "省略"
   ]
  },
  {
   "cell_type": "markdown",
   "metadata": {},
   "source": [
    "#### E.2 エネルギー消費量"
   ]
  },
  {
   "cell_type": "markdown",
   "metadata": {},
   "source": [
    "#### E.2.1 消費電力量"
   ]
  },
  {
   "cell_type": "markdown",
   "metadata": {},
   "source": [
    "1 時間当たりの熱源機の消費電力量$E_{E,hs}$は、1 時間当たりの熱源機の暖房出力$Q_{out,hs}$が0の場合は0とする。"
   ]
  },
  {
   "cell_type": "markdown",
   "metadata": {},
   "source": [
    "$$\\large\n",
    "E_{E,hs} = E_{E,HPU} + E_{E,GU,aux} + E_{E,TU,aux}\n",
    "$$"
   ]
  },
  {
   "cell_type": "markdown",
   "metadata": {},
   "source": [
    "$E_{E,hs}$：1 時間当たりの熱源機の消費電力量(kWh/h)  \n",
    "$E_{E,HPU}$：1 時間当たりのヒートポンプユニットの消費電力量(kWh/h)  \n",
    "$E_{E,GU,aux}$：1 時間当たりのガスユニットの補機の消費電力量(kWh/h)  \n",
    "$E_{E,TU,aux}$：1 時間当たりのタンクユニットの補機の消費電力量(kWh/h)  "
   ]
  },
  {
   "cell_type": "markdown",
   "metadata": {},
   "source": [
    "#### E.2.2 ガス消費量"
   ]
  },
  {
   "cell_type": "markdown",
   "metadata": {},
   "source": [
    "1 時間当たりの熱源機のガス消費量$E_{G,hs}$は、1 時間当たりの熱源機の暖房出力$Q_{out,hs}$が0の場合は0とする。"
   ]
  },
  {
   "cell_type": "markdown",
   "metadata": {},
   "source": [
    "$$\\large\n",
    "E_{G,hs} = E_{G,GU}\n",
    "$$"
   ]
  },
  {
   "cell_type": "markdown",
   "metadata": {},
   "source": [
    "$E_{G,hs}$：1 時間当たりの熱源機のガス消費量(MJ/h)  \n",
    "$E_{G,GU}$：1 時間当たりのガスユニットのガス消費量(MJ/h)  "
   ]
  },
  {
   "cell_type": "markdown",
   "metadata": {},
   "source": [
    "#### E.2.3 灯油消費量"
   ]
  },
  {
   "cell_type": "markdown",
   "metadata": {},
   "source": [
    "1 時間当たりの熱源機の灯油消費量$E_{K,hs}$は0とする。 "
   ]
  },
  {
   "cell_type": "markdown",
   "metadata": {},
   "source": [
    "#### E.2.4 その他の燃料の一次エネルギー消費量"
   ]
  },
  {
   "cell_type": "markdown",
   "metadata": {},
   "source": [
    "1 時間当たりの熱源機のその他の燃料の一次エネルギー消費量$E_{M,hs}$は0とする。 "
   ]
  },
  {
   "cell_type": "markdown",
   "metadata": {},
   "source": [
    "#### E.3 消費電力量及びガス消費量"
   ]
  },
  {
   "cell_type": "markdown",
   "metadata": {},
   "source": [
    "#### E.3.1 タンクユニットの補機消費電力量"
   ]
  },
  {
   "cell_type": "markdown",
   "metadata": {},
   "source": [
    "$$\\large\n",
    "E_{E,TU,aux} = P_{TU,aux} \\times 10^{-3}\n",
    "$$\n",
    "\n",
    "$$\\large\n",
    "P_{TU,aux} = f_{TU,P,aux} (r_{intmit})\n",
    "$$"
   ]
  },
  {
   "cell_type": "markdown",
   "metadata": {},
   "source": [
    "$P_{TU,aux}$：1 時間平均のタンクユニットの補機の消費電力(W)  \n",
    "$r_{intmit}$：1 時間平均のヒートポンプユニットの断続運転率"
   ]
  },
  {
   "cell_type": "markdown",
   "metadata": {},
   "source": [
    "#### E.3.2 ヒートポンプユニットの消費電力量"
   ]
  },
  {
   "cell_type": "markdown",
   "metadata": {},
   "source": [
    "$q_{HPU,ave} \\geq q_{HPU,min} $ の場合（連続運転の場合）"
   ]
  },
  {
   "cell_type": "markdown",
   "metadata": {},
   "source": [
    "$$\\large\n",
    "E_{E,HPU} = P_{HPU,ctn} \\times 10^{-3}\n",
    "$$\n",
    "\n",
    "$$\\large\n",
    "P_{HPU,ctn} = f_{HPU,P} (\\theta_{ex}, h_{ex}, \\theta_{RW,hs}, \\theta_{HPU,out}, q_{HPU,ave})\n",
    "$$"
   ]
  },
  {
   "cell_type": "markdown",
   "metadata": {},
   "source": [
    "$q_{HPU,ave} < q_{HPU,min} $ の場合（断続運転の場合）"
   ]
  },
  {
   "cell_type": "markdown",
   "metadata": {},
   "source": [
    "$$\\large\n",
    "E_{E,HPU} = \\frac{q_{HPU,ave}}{\\frac{q_{HPU,min}}{P_{HPU,min}} \\times (1 - CD \\times (1 - r_{intmit}))} \\times 10^{-3}\n",
    "$$\n",
    "\n",
    "$$\\large\n",
    "P_{HPU,min} = f_{HPU,P} (\\theta_{ex}, h_{ex}, \\theta_{RW,hs}, \\theta_{HPU,out}, q_{HPU,min})\n",
    "$$"
   ]
  },
  {
   "cell_type": "markdown",
   "metadata": {},
   "source": [
    "$q_{HPU,ave}$：1 時間平均のヒートポンプユニットの暖房出力(W)  \n",
    "$q_{HPU,min}$：1 時間平均のヒートポンプユニットの最小暖房出力(W)  \n",
    "$P_{HPU,ctn}$：1 時間平均の連続運転時のヒートポンプユニットの消費電力(W)  \n",
    "$P_{HPU,min}$：1 時間平均のヒートポンプユニットの最小消費電力(W)  \n",
    "$\\theta_{ex}$：1 時間平均の外気温度(℃)  \n",
    "$h_{ex}$：1 時間平均の外気相対湿度(％)  \n",
    "$\\theta_{RW,hs}$：1 時間平均の熱源機の戻り温水温度(℃)  \n",
    "$\\theta_{HPU,out}$：1 時間平均のヒートポンプユニットの出湯温度(℃)  \n",
    "$CD$：CD 値  \n",
    "$r_{intmit}$：ヒートポンプユニットの 1 時間平均の断続運転率"
   ]
  },
  {
   "cell_type": "markdown",
   "metadata": {},
   "source": [
    "CD 値は0.23とする。"
   ]
  },
  {
   "cell_type": "markdown",
   "metadata": {},
   "source": [
    "1 時間平均のヒートポンプユニットの断続運転率$r_{intmit}$は、1.0を超えない。"
   ]
  },
  {
   "cell_type": "markdown",
   "metadata": {},
   "source": [
    "$$\\large\n",
    "r_{intmit} = \\frac{q_{HPU,ave}}{q_{HPU,min}}\n",
    "$$"
   ]
  },
  {
   "cell_type": "markdown",
   "metadata": {},
   "source": [
    "$q_{HPU,ave}$：1 時間平均のヒートポンプユニットの暖房出力(W)  \n",
    "$q_{HPU,min}$：1 時間平均のヒートポンプユニットの最小暖房出力(W)  "
   ]
  },
  {
   "cell_type": "markdown",
   "metadata": {},
   "source": [
    "$$\\large\n",
    "q_{HPU,min} = f_{HPU,q,min} (\\theta_{ex}, \\theta_{RW,hs}, \\theta_{HPU,out})\n",
    "$$"
   ]
  },
  {
   "cell_type": "markdown",
   "metadata": {},
   "source": [
    "$\\theta_{ex}$：1 時間平均の外気温度(℃)  \n",
    "$\\theta_{RW,hs}$：1 時間平均の熱源機の戻り温水温度(℃)  \n",
    "$\\theta_{HPU,out}$：1 時間平均のヒートポンプユニットの出湯温度(℃)  "
   ]
  },
  {
   "cell_type": "markdown",
   "metadata": {},
   "source": [
    "$$\\large\n",
    "q_{HPU,ave} = Q_{HPU} \\times 10^{6} \\div 3600\n",
    "$$"
   ]
  },
  {
   "cell_type": "markdown",
   "metadata": {},
   "source": [
    "$Q_{HPU}$：1 時間当たりのヒートポンプユニットの暖房出力(MJ/h)  "
   ]
  },
  {
   "cell_type": "markdown",
   "metadata": {},
   "source": [
    "#### E.3.3 ヒートポンプユニットの暖房出力"
   ]
  },
  {
   "cell_type": "markdown",
   "metadata": {},
   "source": [
    "$$\\large\n",
    "Q_{HPU} = Q_{out,hs,HPU} + Q_{GU,loss,HPU} + Q_{TU,tank,loss} + Q_{TU,pipe,loss}\n",
    "$$"
   ]
  },
  {
   "cell_type": "markdown",
   "metadata": {},
   "source": [
    "$Q_{out,hs,HPU}$：1 時間当たりの熱源機のヒートポンプユニット分担暖房出力(MJ/h)  \n",
    "$Q_{GU,loss,HPU}$：1 時間当たりのヒートポンプユニット運転時のガスユニットの熱損失量(MJ/h)  \n",
    "$Q_{TU,tank,loss}$：1 時間当たりのタンクユニットのタンクの熱損失量(MJ/h)  \n",
    "$Q_{TU,pipe,loss}$：1 時間当たりのタンクユニットのヒートポンプ配管の熱損失量(MJ/h)  "
   ]
  },
  {
   "cell_type": "markdown",
   "metadata": {},
   "source": [
    "$$\\large\n",
    "Q_{TU,pipe,loss} = q_{TU,pipe,loss} \\times 3600 \\times 10^{-6}\n",
    "$$\n",
    "\n",
    "$$\\large\n",
    "q_{TU,pipe,loss} = f_{TU,q,HPP} (\\theta_{SW,hs}, \\theta_{ex})\n",
    "$$"
   ]
  },
  {
   "cell_type": "markdown",
   "metadata": {},
   "source": [
    "$q_{TU,pipe,loss}$：1 時間平均のタンクユニットのヒートポンプ配管の熱損失(W)  \n",
    "$\\theta_{SW,hs}$：1 時間平均の熱源機の往き温水温度(℃)  \n",
    "$\\theta_{ex}$：1 時間平均の外気温度(℃)  "
   ]
  },
  {
   "cell_type": "markdown",
   "metadata": {},
   "source": [
    "$$\\large\n",
    "Q_{TU,tank,loss} = q_{TU,tank,loss} \\times 3600 \\times 10^{-6}\n",
    "$$\n",
    "\n",
    "$$\\large\n",
    "q_{TU,tank,loss} = f_{TU,q,tank} (\\theta_{HPU,out}, \\theta_{TU,amb})\n",
    "$$"
   ]
  },
  {
   "cell_type": "markdown",
   "metadata": {},
   "source": [
    "$q_{TU,tank,loss}$：1 時間平均のタンクユニットのタンクの熱損失(W)  \n",
    "$\\theta_{HPU,out}$：1 時間平均のヒートポンプユニットの出湯温度(℃)  \n",
    "$\\theta_{TU,amb}$：1 時間平均のタンクユニットの周囲空気温度(℃)  "
   ]
  },
  {
   "cell_type": "markdown",
   "metadata": {},
   "source": [
    "1 時間平均のヒートポンプユニットの出湯温度$\\theta_{HPU,out}$は、1 時間平均の熱源機のヒートポンプユニットの暖\n",
    "房出力分担率$r_{HPU}$が1.0を下回る場合は85℃とし、1.0に等しいかつ 1 時間平均の熱源機の往き温水温度\n",
    "$\\theta_{SW,hs}$が40℃の場合は65℃とし、1.0に等しいかつ 1 時間平均の熱源機の往き温水温度$\\theta_{SW,hs}$が60℃の\n",
    "場合は85℃とする。 "
   ]
  },
  {
   "cell_type": "markdown",
   "metadata": {},
   "source": [
    "$$\\large\n",
    "Q_{GU,loss,HPU} = q_{GU,loss,HPU} \\times r_{HPU} \\times 3600 \\times 10^{-6}\n",
    "$$\n",
    "\n",
    "$$\\large\n",
    "q_{GU,loss,HPU} = f_{GU,q,lossHP} (\\theta_{SW,hs}, \\theta_{TU,amb})\n",
    "$$"
   ]
  },
  {
   "cell_type": "markdown",
   "metadata": {},
   "source": [
    "$q_{GU,loss,HPU}$：1 時間平均のヒートポンプユニット運転時のガスユニットの熱損失(W)  \n",
    "$\\theta_{SW,hs}$：1 時間平均の熱源機の往き温水温度(℃)  \n",
    "$\\theta_{TU,amb}$：1 時間平均のタンクユニットの周囲空気温度(℃)  \n",
    "$r_{HPU}$：1 時間平均のヒートポンプユニットの暖房出力分担率  "
   ]
  },
  {
   "cell_type": "markdown",
   "metadata": {},
   "source": [
    "$$\\large\n",
    "Q_{out,hs,HPU} = Q_{out,hs} \\times r_{HPU}\n",
    "$$"
   ]
  },
  {
   "cell_type": "markdown",
   "metadata": {},
   "source": [
    "$Q_{out,hs}$：1 時間平均の熱源機の暖房出力(MJ/h)  \n",
    "$r_{HPU}$：1 時間平均のヒートポンプユニットの暖房出力分担率  "
   ]
  },
  {
   "cell_type": "markdown",
   "metadata": {},
   "source": [
    "#### E.3.4 ガスユニットの補機の消費電力"
   ]
  },
  {
   "cell_type": "markdown",
   "metadata": {},
   "source": [
    "$$\\large\n",
    "E_{E,GU,aux} = (P_{GU,aux,ON} \\times r_{GU} + P_{GU,aux,OFF} \\times r_{HPU}) \\times 10^{-3}\n",
    "$$\n",
    "\n",
    "$$\\large\n",
    "P_{GU,aux,ON} = f_{GU,P,aux} (q_{G,GU})\n",
    "$$\n",
    "\n",
    "$$\\large\n",
    "P_{GU,aux,OFF} = f_{GU,P,aux} (0.0)\n",
    "$$"
   ]
  },
  {
   "cell_type": "markdown",
   "metadata": {},
   "source": [
    "$P_{GU,aux,ON}$：1 時間平均のガス燃焼時のガスユニットの補機の消費電力(W)  \n",
    "$P_{GU,aux,OFF}$：1 時間平均のガス非燃焼時のガスユニットの補機の消費電力(W)  \n",
    "$r_{GU}$：1 時間平均のガスユニットの暖房出力分担率  \n",
    "$r_{HPU}$：1 時間平均のヒートポンプユニットの暖房出力分担率  \n",
    "$q_{G,GU}$：1 時間平均のガスユニットのガス消費量(W)  "
   ]
  },
  {
   "cell_type": "markdown",
   "metadata": {},
   "source": [
    "#### E.3.5 ガスユニットのガス消費量"
   ]
  },
  {
   "cell_type": "markdown",
   "metadata": {},
   "source": [
    "$$\\large\n",
    "E_{E,GU} = q_{G,GU} \\times r_{GU} \\times 3600 \\times 10^{-6}\n",
    "$$\n",
    "\n",
    "$$\\large\n",
    "q_{G,GU} = f_{GU,G} (q_{GU}, e_{GU,rtd}, q_{GU,rtd})\n",
    "$$\n",
    "\n",
    "$$\\large\n",
    "q_{GU} = min(q_{out,hs}, q_{GU,rtd})\n",
    "$$"
   ]
  },
  {
   "cell_type": "markdown",
   "metadata": {},
   "source": [
    "$q_{G,GU}$：1 時間平均のガスユニットのガス消費量(W)  \n",
    "$r_{GU}$：1 時間平均のガスユニットの暖房出力分担率  \n",
    "$q_{GU}$：1 時間平均のガスユニットの暖房出力(W)  \n",
    "$q_{out,hs}$：1 時間平均の熱源機の暖房出力(W)  \n",
    "$e_{GU,rtd}$：ガスユニットの定格暖房効率  \n",
    "$q_{GU,rtd}$：ガスユニットの定格暖房能力(W)  "
   ]
  },
  {
   "cell_type": "markdown",
   "metadata": {},
   "source": [
    "ガスユニットの定格暖房効率$e_{rtd}$は0.87に等しいとし、ガスユニットの定格暖房能力$q_{GU,rtd}$は14000に等しいとする。 "
   ]
  },
  {
   "cell_type": "markdown",
   "metadata": {},
   "source": [
    "#### E.3.6 暖房出力分担率"
   ]
  },
  {
   "cell_type": "markdown",
   "metadata": {},
   "source": [
    "1 時間平均のヒートポンプユニットの暖房出力分担率$r_{HPU}$は0を下回る場合は0とし、1を上回る場合は1とする。 "
   ]
  },
  {
   "cell_type": "markdown",
   "metadata": {},
   "source": [
    "$$\\large\n",
    "r_{GU} = 1 - r_{HPU}\n",
    "$$\n",
    "\n",
    "$$\\large\n",
    "r_{HPU} = \\frac{q_{HPU,max} - q'_{TU,tank,loss} - q'_{TU,pipe,loss}}{q_{out,hs} + q'_{GU,loss,HPU}}\n",
    "$$"
   ]
  },
  {
   "cell_type": "markdown",
   "metadata": {},
   "source": [
    "$q_{HPU,max}$：1 時間平均のヒートポンプユニットの最大暖房出力(W)  \n",
    "$q'_{TU,tank,loss}$：1 時間平均のヒートポンプユニット最大運転時のタンクユニットのタンクの熱損失(W)  \n",
    "$q'_{TU,pipe,loss}$：1 時間平均のヒートポンプユニット最大運転時のタンクユニットのヒートポンプ配管の熱損失(W)  \n",
    "$q_{out,hs}$：1 時間平均の熱源機の暖房出力(W)  \n",
    "$q'_{GU,loss,HPU}$：1 時間平均のヒートポンプユニット最大運転時のヒートポンプユニット運転時のガスユニットの熱損失(W)  "
   ]
  },
  {
   "cell_type": "markdown",
   "metadata": {},
   "source": [
    "$$\\large\n",
    "q_{HPU,max} = f_{HPU,q,max} (\\theta_{ex}, \\theta_{RW,hs}, \\theta'_{HPU,out})\n",
    "$$"
   ]
  },
  {
   "cell_type": "markdown",
   "metadata": {},
   "source": [
    "$\\theta_{ex}$：1 時間平均の外気温度(℃)  \n",
    "$\\theta_{RW,hs}$：1 時間平均の熱源機の戻り温水温度(℃)  \n",
    "$\\theta'_{HPU,out}$：1 時間平均のヒートポンプ最大運転時のヒートポンプユニットの出湯温度(℃)"
   ]
  },
  {
   "cell_type": "markdown",
   "metadata": {},
   "source": [
    "$$\\large\n",
    "q'_{TU,pipe,loss} = f_{TU,q,HPP} (\\theta_{SW,hs}, \\theta_{ex})\n",
    "$$"
   ]
  },
  {
   "cell_type": "markdown",
   "metadata": {},
   "source": [
    "$\\theta_{SW,hs}$：1 時間平均の熱源機の往き温水温度(℃)  \n",
    "$\\theta_{ex}$：1 時間平均の外気温度(℃)  "
   ]
  },
  {
   "cell_type": "markdown",
   "metadata": {},
   "source": [
    "$$\\large\n",
    "q'_{TU,tank,loss} = f_{TU,q,tank} (\\theta'_{HPU,out}, \\theta_{TU,amb})\n",
    "$$"
   ]
  },
  {
   "cell_type": "markdown",
   "metadata": {},
   "source": [
    "$\\theta'_{HPU,out}$：1 時間平均のヒートポンプ最大運転時のヒートポンプユニットの出湯温度(℃)  \n",
    "$\\theta_{TU,amb}$：1 時間平均のタンクユニットの周囲空気温度(℃)  "
   ]
  },
  {
   "cell_type": "markdown",
   "metadata": {},
   "source": [
    "$$\\large\n",
    "q'_{GU,loss,HPU} = f_{GU,q,lossHP} (\\theta_{SW,hs}, \\theta_{TU,amb})\n",
    "$$"
   ]
  },
  {
   "cell_type": "markdown",
   "metadata": {},
   "source": [
    "$\\theta_{SW,hs}$：1 時間平均の熱源機の往き温水温度(℃)  \n",
    "$\\theta_{TU,amb}$：1 時間平均のタンクユニットの周囲空気温度(℃)  "
   ]
  },
  {
   "cell_type": "markdown",
   "metadata": {},
   "source": [
    "1 時間平均のヒートポンプ最大運転時のヒートポンプユニットの出湯温度$\\theta'_{HPU,out}$ は 85℃する。 "
   ]
  },
  {
   "cell_type": "markdown",
   "metadata": {},
   "source": [
    "#### E.3.7 熱源機の平均暖房出力及び熱源機最大暖房出力"
   ]
  },
  {
   "cell_type": "markdown",
   "metadata": {},
   "source": [
    "$$\\large\n",
    "q_{out,hs} = Q_{out,hs} \\times 10^{6} \\div 3600\n",
    "$$"
   ]
  },
  {
   "cell_type": "markdown",
   "metadata": {},
   "source": [
    "$Q_{out,hs}$：1時間当たりの熱源機の暖房出力(MJ/h)  "
   ]
  },
  {
   "cell_type": "markdown",
   "metadata": {},
   "source": [
    "1 時間当たりの熱源機の暖房出力$Q_{out,hs}$は、本文により定義される、1 時間当たりの熱源機の最大暖房出力$Q_{max,hs}$を超えない範囲で 1 時間当たりの温水熱需要$Q_{dmd,hs}$に等しい。 "
   ]
  },
  {
   "cell_type": "markdown",
   "metadata": {},
   "source": [
    "$$\\large\n",
    "q_{max,hs} = q_{GU,rtd} \\times 3600 \\times 10^{-6}\n",
    "$$"
   ]
  },
  {
   "cell_type": "markdown",
   "metadata": {},
   "source": [
    "$q_{GU,rtd}$：ガスユニットの定格暖房能力(W)  "
   ]
  },
  {
   "cell_type": "markdown",
   "metadata": {},
   "source": [
    "#### E.3.8 タンクユニット周囲の空気温度"
   ]
  },
  {
   "cell_type": "markdown",
   "metadata": {},
   "source": [
    "タンクユニットを室内に設置する場合"
   ]
  },
  {
   "cell_type": "markdown",
   "metadata": {},
   "source": [
    "$$\\large\n",
    "\\theta_{TU,amb} = 0.25 \\times \\theta_{ex} + 0.75 \\times \\theta_{in} \n",
    "$$"
   ]
  },
  {
   "cell_type": "markdown",
   "metadata": {},
   "source": [
    "タンクユニットを室外に設置する場合"
   ]
  },
  {
   "cell_type": "markdown",
   "metadata": {},
   "source": [
    "$$\\large\n",
    "\\theta_{TU,amb} = \\theta_{ex}\n",
    "$$"
   ]
  },
  {
   "cell_type": "markdown",
   "metadata": {},
   "source": [
    "$\\theta_{ex}$：1 時間平均の外気温度(℃)  \n",
    "$\\theta_{in}$：1 時間平均の室内温度(℃)  "
   ]
  },
  {
   "cell_type": "markdown",
   "metadata": {},
   "source": [
    "暖房運転時において、1 時間平均の室内温度$\\theta_{in}$は、20℃とする。"
   ]
  },
  {
   "cell_type": "markdown",
   "metadata": {},
   "source": [
    "#### E.4 評価関数"
   ]
  },
  {
   "cell_type": "markdown",
   "metadata": {},
   "source": [
    "#### E.4.1 ヒートポンプユニット "
   ]
  },
  {
   "cell_type": "markdown",
   "metadata": {},
   "source": [
    "$$\n",
    "f_{HPU,P} (\\theta_{ex}, h_{ex},\\theta_{RW,hs},\\theta_{HP,out}, q_{HPU,out}) = (0.1869 \\times P^{2} + 0.2963 \\times P + 0.565) \\times 10^{3}\n",
    "$$\n",
    "\n",
    "$$\n",
    "P =  0.42108 \\times q_{HPU,out} \\times 10^{-3} - 0.03889 \\times \\theta_{ex} - 0.00762 \\times h_{ex} +  0.03313 \\times \\theta_{RW,hs}\\\\ + 0.00449 \\times \\theta_{HP,out} - 0.82066\n",
    "$$"
   ]
  },
  {
   "cell_type": "markdown",
   "metadata": {},
   "source": [
    "$\\theta_{ex}$：外気温度(℃)  \n",
    "$h_{ex}$：外気相対湿度(％)  \n",
    "$q_{HPU,out}$：ヒートポンプユニットの平均暖房出力(W)  \n",
    "$\\theta_{RW,hs}$：熱源機の戻り温水温度(℃)  \n",
    "$\\theta_{HP,out}$：ヒートポンプユニットの出湯温度(℃)  "
   ]
  },
  {
   "cell_type": "markdown",
   "metadata": {},
   "source": [
    "ヒートポンプユニットの最小暖房出力"
   ]
  },
  {
   "cell_type": "markdown",
   "metadata": {},
   "source": [
    "$$\n",
    "f_{HPU,q,min} (\\theta_{ex}, \\theta_{RW,hs},\\theta_{HPU,out}) = 6.08 \\times \\theta_{ex} - 46.56 \\times \\theta_{RW,hs} +0.04 \\times \\theta_{HPU,out} + 4739.62\n",
    "$$"
   ]
  },
  {
   "cell_type": "markdown",
   "metadata": {},
   "source": [
    "ヒートポンプユニットの最大暖房出力"
   ]
  },
  {
   "cell_type": "markdown",
   "metadata": {},
   "source": [
    "$$\n",
    "f_{HPU,q,max} (\\theta_{ex}, \\theta_{RW,hs},\\theta_{HPU,out}) = 1.36 \\times \\theta_{ex} - 89.85 \\times \\theta_{RW,hs} +  46.5 \\times \\theta_{HPU,out} +  5627.07\n",
    "$$"
   ]
  },
  {
   "cell_type": "markdown",
   "metadata": {},
   "source": [
    "$\\theta_{ex}$：外気温度(℃)  \n",
    "$\\theta_{RW,hs}$：熱源機の戻り温水温度(℃)  \n",
    "$\\theta_{HPU,out}$：ヒートポンプユニットの出湯温度(℃)  "
   ]
  },
  {
   "cell_type": "markdown",
   "metadata": {},
   "source": [
    "#### E.4.2 タンクユニット "
   ]
  },
  {
   "cell_type": "markdown",
   "metadata": {},
   "source": [
    "$$\\large\n",
    "f_{TU,P,aux} (r_{intmit}) = 5 + 10 + r_{intmit}\n",
    "$$"
   ]
  },
  {
   "cell_type": "markdown",
   "metadata": {},
   "source": [
    "$r_{intmit}$：ヒートポンプユニットの断続運転率  "
   ]
  },
  {
   "cell_type": "markdown",
   "metadata": {},
   "source": [
    "$$\\large\n",
    "f_{TU,q,HPP} (\\theta_{SW,hs}, \\theta_{ex}) = 2.8 \\times (\\theta_{SW,hs} - \\theta_{ex})\n",
    "$$"
   ]
  },
  {
   "cell_type": "markdown",
   "metadata": {},
   "source": [
    "$\\theta_{SW,hs}$：熱源機の往き温水温度(℃)  \n",
    "$\\theta_{ex}$：外気温度(℃)  "
   ]
  },
  {
   "cell_type": "markdown",
   "metadata": {},
   "source": [
    "$$\\large\n",
    "f_{TU,q,tank} (\\theta_{HP,out}, \\theta_{TU,amb}) = max(0, 1.6 \\times (\\theta_{HP,out} - \\theta_{TU,amb})-72.1)\n",
    "$$"
   ]
  },
  {
   "cell_type": "markdown",
   "metadata": {},
   "source": [
    "$\\theta_{HP,out}$：ヒートポンプユニットの出湯温度(℃)  \n",
    "$\\theta_{TU,amb}$：タンクユニットの周囲空気温度(℃)  "
   ]
  },
  {
   "cell_type": "markdown",
   "metadata": {},
   "source": [
    "#### E.4.3 ガスユニット "
   ]
  },
  {
   "cell_type": "markdown",
   "metadata": {},
   "source": [
    "$$\\large\n",
    "f_{GU,G} (q_{GU},e_{GU,rtd},q_{GU,rtd}) = (q_{GU} + q_{body}) \\div e_{ex}\n",
    "$$\n",
    "\n",
    "$$\\large\n",
    "e_{ex} = e_{GU,rtd} \\times f_{ex} \\times (q_{GU,rtd} + q_{body}) \\div q_{GU,rtd}\n",
    "$$"
   ]
  },
  {
   "cell_type": "markdown",
   "metadata": {},
   "source": [
    "$q_{GU}$：ガスユニットの暖房出力(W)  \n",
    "$q_{body}$：ガスユニットの筐体放熱損失(W)  \n",
    "$e_{ex}$：ガスユニット燃焼室の熱交換効率  \n",
    "$f_{ex}$：ガスユニットの定格暖房効率を補正する係数  \n",
    "$e_{GU,rtd}$：ガスユニットの定格暖房効率  \n",
    "$q_{GU,rtd}$：ガスユニットの定格暖房能力(W)  "
   ]
  },
  {
   "cell_type": "markdown",
   "metadata": {},
   "source": [
    "<div style=\"text-align: center;font-weight: bold;\">表　ガスユニットの定格暖房効率を補正する係数及びガスユニットの筐体放熱損失</div>\n",
    "\n",
    "<table>\n",
    "<thead>\n",
    "<tr>\n",
    "<th rowspan=\"2\"></th>\n",
    "<th colspan=\"2\">熱源機の往き温水温度 $\\theta_{SW,hs}$</th>\n",
    "</tr>\n",
    "<tr>\n",
    "<th>40℃の場合</th>\n",
    "<th>60℃の場合</th>\n",
    "</tr>\n",
    "</thead>\n",
    "\n",
    "<tbody>\n",
    "<tr>\n",
    "<th>ガスユニットの定格暖房効率を補正する係数 $f_{ex}$</th>\n",
    "<td>1.064</td>\n",
    "<td>1.038</td>\n",
    "</tr>\n",
    "<tr>\n",
    "<th>ガスユニットの筐体放熱損失 $q_{body}$</th>\n",
    "<td>123.74</td>\n",
    "<td>225.26</td>\n",
    "</tr>\n",
    "\n",
    "</tbody>\n",
    "</table>\n"
   ]
  },
  {
   "cell_type": "markdown",
   "metadata": {},
   "source": [
    "$$\\large\n",
    "f_{GU,q,lossHP} (\\theta_{SW,hs}, \\theta_{TU,amb}) = max(5 \\times (\\theta_{SW,hs} - \\theta_{TU,amb}) -100, 0)\n",
    "$$"
   ]
  },
  {
   "cell_type": "markdown",
   "metadata": {},
   "source": [
    "$\\theta_{SW,hs}$：熱源機の往き温水温度(℃)  \n",
    "$\\theta_{TU,amb}$：タンクユニットの周囲空気温度(℃)  "
   ]
  },
  {
   "cell_type": "markdown",
   "metadata": {},
   "source": [
    "$$\\large\n",
    "f_{GU,P,aux} (q_{G,GU}) =73 + 0.003 \\times q_{G,GU}\n",
    "$$"
   ]
  },
  {
   "cell_type": "markdown",
   "metadata": {},
   "source": [
    "$q_{G,GU}$：ガスユニットのガス消費量(W)  "
   ]
  },
  {
   "cell_type": "markdown",
   "metadata": {},
   "source": [
    "#### E.5 電気ヒートポンプ・ガス瞬間式併用型給湯温水暖房機（給湯熱源：ガス瞬間式、暖房熱源：電気ヒートポンプ・ガス瞬間式併用）の定義"
   ]
  },
  {
   "cell_type": "markdown",
   "metadata": {},
   "source": [
    "省略"
   ]
  },
  {
   "cell_type": "markdown",
   "metadata": {},
   "source": [
    "#### E.6 品番の追加（参考）"
   ]
  },
  {
   "cell_type": "markdown",
   "metadata": {},
   "source": [
    "省略"
   ]
  }
 ],
 "metadata": {
  "kernelspec": {
   "display_name": "Python 3",
   "language": "python",
   "name": "python3"
  },
  "language_info": {
   "codemirror_mode": {
    "name": "ipython",
    "version": 3
   },
   "file_extension": ".py",
   "mimetype": "text/x-python",
   "name": "python",
   "nbconvert_exporter": "python",
   "pygments_lexer": "ipython3",
   "version": "3.6.7"
  }
 },
 "nbformat": 4,
 "nbformat_minor": 2
}
