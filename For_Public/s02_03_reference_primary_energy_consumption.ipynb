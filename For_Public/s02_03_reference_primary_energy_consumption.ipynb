{
 "cells": [
  {
   "cell_type": "markdown",
   "metadata": {},
   "source": [
    "# 第二章　単位住戸の一次エネルギー消費量"
   ]
  },
  {
   "cell_type": "markdown",
   "metadata": {},
   "source": [
    "## 第三節　基準一次エネルギー消費量"
   ]
  },
  {
   "cell_type": "markdown",
   "metadata": {},
   "source": [
    "1．適用範囲～4．記号及び単位は省略"
   ]
  },
  {
   "cell_type": "markdown",
   "metadata": {},
   "source": [
    "### 5．基準一次エネルギー消費量"
   ]
  },
  {
   "cell_type": "markdown",
   "metadata": {},
   "source": [
    "建築物エネルギー消費性能基準（H28 年 4 月以降）： "
   ]
  },
  {
   "cell_type": "markdown",
   "metadata": {},
   "source": [
    "$$\n",
    "\\large \n",
    "E_{ST}^* = E_{SH} + E_{SC} + E_{SV} + E_{SL} + E_{SW} + E_{SM}\n",
    "$$"
   ]
  },
  {
   "cell_type": "markdown",
   "metadata": {},
   "source": [
    "建築物エネルギー消費性能基準（H28 年 4 月現存）： "
   ]
  },
  {
   "cell_type": "markdown",
   "metadata": {},
   "source": [
    "$$\n",
    "\\large \n",
    "E_{ST}^* = (E_{SH} + E_{SC} + E_{SV} + E_{SL} + E_{SW}) \\times 1.1 + E_{SM}\n",
    "$$"
   ]
  },
  {
   "cell_type": "markdown",
   "metadata": {},
   "source": [
    "建築物のエネルギー消費性能の向上の一層の促進のために誘導すべき基準（H28 年 4 月以降）： "
   ]
  },
  {
   "cell_type": "markdown",
   "metadata": {},
   "source": [
    "$$\n",
    "\\large \n",
    "E_{ST}^* = (E_{SH} + E_{SC} + E_{SV} + E_{SL} + E_{SW}) \\times 0.9 + E_{SM}\n",
    "$$"
   ]
  },
  {
   "cell_type": "markdown",
   "metadata": {},
   "source": [
    "建築物のエネルギー消費性能の向上の一層の促進のために誘導すべき基準（H28 年 4 月現存）： "
   ]
  },
  {
   "cell_type": "markdown",
   "metadata": {},
   "source": [
    "$$\n",
    "\\large \n",
    "E_{ST}^* = E_{SH} + E_{SC} + E_{SV} + E_{SL} + E_{SW} + E_{SM}\n",
    "$$"
   ]
  },
  {
   "cell_type": "markdown",
   "metadata": {},
   "source": [
    "$E_{ST}^*$：1 年当たりの基準一次エネルギー消費量(MJ/年)  \n",
    "$E_{SH}$：1 年当たりの暖房設備の基準一次エネルギー消費量(MJ/年)  \n",
    "$E_{SC}$：1 年当たりの冷房設備の基準一次エネルギー消費量(MJ/年)  \n",
    "$E_{SV}$：1 年当たりの機械換気設備の基準一次エネルギー消費量(MJ/年)  \n",
    "$E_{SL}$：1 年当たりの照明設備の基準一次エネルギー消費量(MJ/年)  \n",
    "$E_{SW}$：1 年当たりの給湯設備（コージェネレーション設備を含む）の基準一次エネルギー消費量(MJ/年)  \n",
    "$E_{SM}$：1 年当たりのその他の基準一次エネルギー消費量(MJ/年)  "
   ]
  },
  {
   "cell_type": "markdown",
   "metadata": {},
   "source": [
    "### 6. 暖房設備の基準一次エネルギー消費量"
   ]
  },
  {
   "cell_type": "markdown",
   "metadata": {},
   "source": [
    "$$\n",
    "\\large \n",
    "E_{SH} = \\sum_{d=1}^{365} \\sum_{t=0}^{23} E_{SH,d,t}\n",
    "$$"
   ]
  },
  {
   "cell_type": "markdown",
   "metadata": {},
   "source": [
    "$E_{SH,d,t}$：日付$d$の時刻$t$における1時間当たりの暖房設備の基準一次エネルギー消費量(MJ/h)  "
   ]
  },
  {
   "cell_type": "markdown",
   "metadata": {},
   "source": [
    "日付$d$の時刻$t$における1 時間当たりの暖房設備の基準一次エネルギー消費量$E_{SH,d,t}$は、地域の区分が 8\n",
    "地域の場合は0とし、それ以外の場合は、式により表される。 "
   ]
  },
  {
   "cell_type": "markdown",
   "metadata": {},
   "source": [
    "$$\n",
    "\\large \n",
    "E_{SH,d,t} = E_{E,SH,d,t} \\times f_{prim} \\times 10^{-3} + E_{G,SH,d,t} + E_{K,SH,d,t} + E_{M,SH,d,t} + E_{UT,SH,d,t}\n",
    "$$"
   ]
  },
  {
   "cell_type": "markdown",
   "metadata": {},
   "source": [
    "$E_{E,SH,d,t}$：日付$d$の時刻$t$における 1 時間当たりの暖房設備の消費電力量(kWh/h)  \n",
    "$f_{prim}$：電気の量 1kWh を熱量に換算する係数（第二章第一節付録 B）(kJ/kWh)  \n",
    "$E_{G,SH,d,t}$：日付$d$の時刻$t$における 1 時間当たりの暖房設備のガス消費量(MJ/h)  \n",
    "$E_{K,SH,d,t}$：日付$d$の時刻$t$における 1 時間当たりの暖房設備の灯油消費量(MJ/h)  \n",
    "$E_{M,SH,d,t}$：日付$d$の時刻$t$における 1 時間当たりの暖房設備のその他の燃料による一次エネルギー消費量(MJ/h)  \n",
    "$E_{UT,SH,d,t}$：日付$d$の時刻$t$における 1 時間当たりの暖房設備の未処理暖房負荷の基準一次エネルギー消費量相当値(MJ/h)  "
   ]
  },
  {
   "cell_type": "markdown",
   "metadata": {},
   "source": [
    "### 7. 冷房設備の基準一次エネルギー消費量"
   ]
  },
  {
   "cell_type": "markdown",
   "metadata": {},
   "source": [
    "$$\n",
    "\\large \n",
    "E_{SC} = \\sum_{d=1}^{365} \\sum_{t=0}^{23} E_{SC,d,t}\n",
    "$$"
   ]
  },
  {
   "cell_type": "markdown",
   "metadata": {},
   "source": [
    "$E_{SC,d,t}$：日付$d$の時刻$t$における1時間当たりの冷房設備の基準一次エネルギー消費量(MJ/h)  "
   ]
  },
  {
   "cell_type": "markdown",
   "metadata": {},
   "source": [
    "$$\n",
    "\\large \n",
    "E_{SC,d,t} = E_{E,SC,d,t} \\times f_{prim} \\times 10^{-3} + E_{G,SC,d,t} + E_{K,SC,d,t} + E_{M,SC,d,t}\n",
    "$$"
   ]
  },
  {
   "cell_type": "markdown",
   "metadata": {},
   "source": [
    "$E_{E,SC,d,t}$：日付$d$の時刻$t$における 1 時間当たりの冷房設備の消費電力量(kWh/h)  \n",
    "$f_{prim}$：電気の量1kWhを熱量に換算する係数（第二章第一節付録 B）(kJ/kWh)  \n",
    "$E_{G,SC,d,t}$：日付$d$の時刻$t$における 1 時間当たりの冷房設備のガス消費量(MJ/h)  \n",
    "$E_{K,SC,d,t}$：日付$d$の時刻$t$における 1 時間当たりの冷房設備の灯油消費量(MJ/h)  \n",
    "$E_{M,SC,d,t}$：日付$d$の時刻$t$における 1 時間当たりの冷房設備のその他の燃料による一次エネルギー消費量(MJ/h)  "
   ]
  },
  {
   "cell_type": "markdown",
   "metadata": {},
   "source": [
    "### 8. 機械換気設備の基準一次エネルギー消費量"
   ]
  },
  {
   "cell_type": "markdown",
   "metadata": {},
   "source": [
    "$$\n",
    "\\large \n",
    "E_{SV} = \\alpha_{SV} A_{A} + \\beta_{SV}\n",
    "$$"
   ]
  },
  {
   "cell_type": "markdown",
   "metadata": {},
   "source": [
    "$A_{A}$：床面積の合計(m<sup>2</sup>)  \n",
    "$\\alpha_{SV}$：係数(MJ/(m<sup>2</sup>・年))  \n",
    "$\\beta_{SV}$：係数(MJ/年)  "
   ]
  },
  {
   "cell_type": "markdown",
   "metadata": {},
   "source": [
    "係数$\\alpha_{SV}$および$\\beta_{SV}$は、床面積の合計$A_{A}$に応じて表により定まる。 "
   ]
  },
  {
   "cell_type": "markdown",
   "metadata": {},
   "source": [
    "<div style=\"text-align: center;font-weight: bold;\">表　機械換気設備の一次エネルギー消費量の算出に用いる係数$\\alpha_{SV}$・$\\beta_{SV}$</div>\n",
    "\n",
    "<table>\n",
    "<thead>\n",
    "\t<tr>\n",
    "        <th rowspan=\"2\">係数</th>\n",
    "\t\t<th colspan=\"3\" style=\"text-align: center;\">床面積の合計$A_{A}$の区分 </th>\n",
    "\t</tr>\n",
    "\t<tr>\n",
    "\t\t<th>（い）<br>床面積の合計が30m<sup>2</sup>未満</th>\n",
    "\t\t<th>（ろ）<br>床面積の合計が30m<sup>2</sup>以上 120m<sup>2</sup>未満</th>\n",
    "\t\t<th>（は）<br>床面積の合計が120m<sup>2</sup>以上</th>\n",
    "\t</tr>\n",
    "</thead>\n",
    "<tbody>\n",
    "\t<tr>\n",
    "\t\t<th>$\\alpha_{SV}$</th>\n",
    "\t\t<td>33</td>\n",
    "\t\t<td>38</td>\n",
    "\t\t<td>33</td>\n",
    "\t</tr>\n",
    "    <tr>\n",
    "\t\t<th>$\\beta_{SV}$</th>\n",
    "\t\t<td>129</td>\n",
    "\t\t<td>-21</td>\n",
    "\t\t<td>579</td>\n",
    "\t</tr>\n",
    "</tbody>\n",
    "</table>"
   ]
  },
  {
   "cell_type": "markdown",
   "metadata": {},
   "source": [
    "### 9. 照明設備の基準一次エネルギー消費量"
   ]
  },
  {
   "cell_type": "markdown",
   "metadata": {},
   "source": [
    "$$\n",
    "\\large \n",
    "E_{SL} = 31 \\times A_{A} + 169 \\times A_{MR} + 39 \\times A_{OR}\n",
    "$$"
   ]
  },
  {
   "cell_type": "markdown",
   "metadata": {},
   "source": [
    "$A_{A}$：床面積の合計(m<sup>2</sup>)  \n",
    "$A_{MR}$：主たる居室の床面積(m<sup>2</sup>)  \n",
    "$A_{OR}$：その他の居室の床面積(m<sup>2</sup>)  "
   ]
  },
  {
   "cell_type": "markdown",
   "metadata": {},
   "source": [
    "### 10. 給湯設備及びコージェネレーション設備の基準一次エネルギー消費量"
   ]
  },
  {
   "cell_type": "markdown",
   "metadata": {},
   "source": [
    "浴室等、台所及び洗面所が無い場合、1 年当たりの給湯設備（コージェネレーション設備を含む）の基準一次エネルギー消費量$E_{SW}$は、ゼロとする。"
   ]
  },
  {
   "cell_type": "markdown",
   "metadata": {},
   "source": [
    "浴室等が有る場合、もしくは浴室等が無く、台所又は洗面所が有る場合、"
   ]
  },
  {
   "cell_type": "markdown",
   "metadata": {},
   "source": [
    "$$\n",
    "\\large \n",
    "E_{SW} = \\alpha_{SW} A_{A} + \\beta_{SW}\n",
    "$$"
   ]
  },
  {
   "cell_type": "markdown",
   "metadata": {},
   "source": [
    "$A_{A}$：床面積の合計(m<sup>2</sup>)  \n",
    "$\\alpha_{SW}$：係数(MJ/(m<sup>2</sup>・年))  \n",
    "$\\beta_{SW}$：係数(MJ/年)  "
   ]
  },
  {
   "cell_type": "markdown",
   "metadata": {},
   "source": [
    "<div style=\"text-align: center;font-weight: bold;\">表　給湯設備の一次エネルギー消費量の算出に用いる係数$\\alpha_{SW}$・$\\beta_{SW}$</div>\n",
    "\n",
    "<table>\n",
    "<thead>\n",
    "\t<tr>\n",
    "        <th rowspan=\"2\">地域の区分</th>\n",
    "        <th rowspan=\"2\">給湯対象室</th>\n",
    "        <th rowspan=\"2\">係数</th>\n",
    "\t\t<th colspan=\"5\" style=\"text-align: center;\">床面積の合計$A_{A}$の区分 </th>\n",
    "\t</tr>\n",
    "\t<tr>\n",
    "\t\t<th>（い）<br>床面積の<br>合計が<br>30m<sup>2</sup>未満</th>\n",
    "\t\t<th>（ろ）<br>床面積の<br>合計が<br>30m<sup>2</sup>以上<br>60m<sup>2</sup>未満</th>\n",
    "\t\t<th>（は）<br>床面積の<br>合計が<br>60m<sup>2</sup>以上<br>90m<sup>2</sup>未満</th>\n",
    "\t\t<th>（に）<br>床面積の<br>合計が<br>90m<sup>2</sup>以上<br>120m<sup>2</sup>未満</th>\n",
    "\t\t<th>（ほ）<br>床面積の<br>合計が<br>120m<sup>2</sup>以上</th>\n",
    "\t</tr>\n",
    "</thead>\n",
    "    \n",
    "<tbody>\n",
    "\t<tr>\n",
    "        <th rowspan=\"4\">1</th>\n",
    "        <th rowspan=\"2\">浴室等が有る場合</th>\n",
    "\t\t<th>$\\alpha_{SW}$</th>\n",
    "\t\t<td>－</td><td>234</td><td>307</td><td>109</td><td>－</td>\n",
    "\t</tr>\n",
    "    <tr>\n",
    "\t\t<th>$\\beta_{SW}$</th>\n",
    "\t\t<td>11946</td><td>4926</td><td>546</td><td>18366</td><td>31446</td>\n",
    "\t</tr>\n",
    "    <tr>\n",
    "        <th rowspan=\"2\">浴室等が無く、台所<br>又は洗面が有る場合</th>\n",
    "\t\t<th>$\\alpha_{SW}$</th>\n",
    "\t\t<td>－</td><td>32</td><td>78</td><td>15</td><td>－</td>\n",
    "\t</tr>\n",
    "    <tr>\n",
    "\t\t<th>$\\beta_{SW}$</th>\n",
    "\t\t<td>4835</td><td>3875</td><td>1115</td><td>6785</td><td>8585</td>\n",
    "\t</tr>\n",
    "    <tr>\n",
    "        <th rowspan=\"4\">2</th>\n",
    "        <th rowspan=\"2\">浴室等が有る場合</th>\n",
    "\t\t<th>$\\alpha_{SW}$</th>\n",
    "\t\t<td>－</td><td>228</td><td>300</td><td>107</td><td>－</td>\n",
    "\t</tr>\n",
    "    <tr>\n",
    "\t\t<th>$\\beta_{SW}$</th>\n",
    "\t\t<td>11696</td><td>4856</td><td>536</td><td>17906</td><td>30746</td>\n",
    "\t</tr>\n",
    "    <tr>\n",
    "        <th rowspan=\"2\">浴室等が無く、台所<br>又は洗面が有る場合</th>\n",
    "\t\t<th>$\\alpha_{SW}$</th>\n",
    "\t\t<td>－</td><td>32</td><td>77</td><td>15</td><td>－</td>\n",
    "\t</tr>\n",
    "    <tr>\n",
    "\t\t<th>$\\beta_{SW}$</th>\n",
    "\t\t<td>4742</td><td>3782</td><td>1082</td><td>6662</td><td>8462</td>\n",
    "\t</tr>\n",
    "    <tr>\n",
    "        <th rowspan=\"4\">3</th>\n",
    "        <th rowspan=\"2\">浴室等が有る場合</th>\n",
    "        <th>$\\alpha_{SW}$</th>\n",
    "        <td>－</td><td>212</td><td>280</td><td>100</td><td>－</td>\n",
    "    </tr>\n",
    "    <tr>\n",
    "        <th>$\\beta_{SW}$</th>\n",
    "        <td>10892</td><td>4532</td><td>452</td><td>16652</td><td>28652</td>\n",
    "    </tr>\n",
    "    <tr>\n",
    "        <th rowspan=\"2\">浴室等が無く、台所<br>又は洗面が有る場合</th>\n",
    "        <th>$\\alpha_{SW}$</th>\n",
    "        <td>－</td><td>30</td><td>72</td><td>14</td><td>－</td>\n",
    "    </tr>\n",
    "    <tr>\n",
    "        <th>$\\beta_{SW}$</th>\n",
    "        <td>4442</td><td>3542</td><td>1022</td><td>6242</td><td>7922</td>\n",
    "    </tr>\n",
    "    <tr>\n",
    "        <th rowspan=\"4\">4</th>\n",
    "        <th rowspan=\"2\">浴室等が有る場合</th>\n",
    "        <th>$\\alpha_{SW}$</th>\n",
    "        <td>－</td><td>205</td><td>272</td><td>97</td><td>－</td>\n",
    "    </tr>\n",
    "    <tr>\n",
    "        <th>$\\beta_{SW}$</th>\n",
    "        <td>10575</td><td>4425</td><td>405</td><td>16155</td><td>27795</td>\n",
    "    </tr>\n",
    "    <tr>\n",
    "        <th rowspan=\"2\">浴室等が無く、台所<br>又は洗面が有る場合</th>\n",
    "        <th>$\\alpha_{SW}$</th>\n",
    "        <td>－</td><td>29</td><td>70</td><td>13</td><td>－</td>\n",
    "    </tr>\n",
    "    <tr>\n",
    "        <th>$\\beta_{SW}$</th>\n",
    "        <td>4321</td><td>3451</td><td>991</td><td>6121</td><td>7681</td>\n",
    "    </tr>\n",
    "    <tr>\n",
    "        <th rowspan=\"4\">5</th>\n",
    "        <th rowspan=\"2\">浴室等が有る場合</th>\n",
    "        <th>$\\alpha_{SW}$</th>\n",
    "        <td>－</td><td>200</td><td>276</td><td>103</td><td>－</td>\n",
    "    </tr>\n",
    "    <tr>\n",
    "        <th>$\\beta_{SW}$</th>\n",
    "        <td>10440</td><td>4440</td><td>-120</td><td>15450</td><td>27810</td>\n",
    "    </tr>\n",
    "    <tr>\n",
    "        <th rowspan=\"2\">浴室等が無く、台所<br>又は洗面が有る場合</th>\n",
    "        <th>$\\alpha_{SW}$</th>\n",
    "        <td>－</td><td>29</td><td>71</td><td>14</td><td>－</td>\n",
    "    </tr>\n",
    "    <tr>\n",
    "        <th>$\\beta_{SW}$</th>\n",
    "        <td>4165</td><td>3295</td><td>775</td><td>5905</td><td>7585</td>\n",
    "    </tr>\n",
    "    <tr>\n",
    "        <th rowspan=\"4\">6</th>\n",
    "        <th rowspan=\"2\">浴室等が有る場合</th>\n",
    "        <th>$\\alpha_{SW}$</th>\n",
    "        <td>－</td><td>181</td><td>249</td><td>93</td><td>－</td>\n",
    "    </tr>\n",
    "    <tr>\n",
    "        <th>$\\beta_{SW}$</th>\n",
    "        <td>9401</td><td>3971</td><td>-109</td><td>13931</td><td>25091</td>\n",
    "    </tr>\n",
    "    <tr>\n",
    "        <th rowspan=\"2\">浴室等が無く、台所<br>又は洗面が有る場合</th>\n",
    "        <th>$\\alpha_{SW}$</th>\n",
    "        <td>－</td><td>26</td><td>64</td><td>12</td><td>－</td>\n",
    "    </tr>\n",
    "    <tr>\n",
    "        <th>$\\beta_{SW}$</th>\n",
    "        <td>3755</td><td>2975</td><td>695</td><td>5375</td><td>6815</td>\n",
    "    </tr>\n",
    "    <tr>\n",
    "        <th rowspan=\"4\">7</th>\n",
    "        <th rowspan=\"2\">浴室等が有る場合</th>\n",
    "        <th>$\\alpha_{SW}$</th>\n",
    "        <td>－</td><td>165</td><td>227</td><td>85</td><td>－</td>\n",
    "    </tr>\n",
    "    <tr>\n",
    "        <th>$\\beta_{SW}$</th>\n",
    "        <td>8499</td><td>3549</td><td>-171</td><td>12609</td><td>22809</td>\n",
    "    </tr>\n",
    "    <tr>\n",
    "        <th rowspan=\"2\">浴室等が無く、台所<br>又は洗面が有る場合</th>\n",
    "        <th>$\\alpha_{SW}$</th>\n",
    "        <td>－</td><td>23</td><td>57</td><td>11</td><td>－</td>\n",
    "    </tr>\n",
    "    <tr>\n",
    "        <th>$\\beta_{SW}$</th>\n",
    "        <td>3402</td><td>2712</td><td>672</td><td>4812</td><td>6132</td>\n",
    "    </tr>\n",
    "    <tr>\n",
    "        <th rowspan=\"4\">8</th>\n",
    "        <th rowspan=\"2\">浴室等が有る場合</th>\n",
    "        <th>$\\alpha_{SW}$</th>\n",
    "        <td>－</td><td>130</td><td>178</td><td>67</td><td>－</td>\n",
    "    </tr>\n",
    "    <tr>\n",
    "        <th>$\\beta_{SW}$</th>\n",
    "        <td>6672</td><td>2772</td><td>-108</td><td>9882</td><td>17922</td>\n",
    "    </tr>\n",
    "    <tr>\n",
    "        <th rowspan=\"2\">浴室等が無く、台所<br>又は洗面が有る場合</th>\n",
    "        <th>$\\alpha_{SW}$</th>\n",
    "        <td>－</td><td>18</td><td>45</td><td>9</td><td>－</td>\n",
    "    </tr>\n",
    "    <tr>\n",
    "        <th>$\\beta_{SW}$</th>\n",
    "        <td>2679</td><td>2139</td><td>519</td><td>3759</td><td>4839</td>\n",
    "    </tr>\n",
    "</tbody>\n",
    "</table>"
   ]
  },
  {
   "cell_type": "markdown",
   "metadata": {},
   "source": [
    "### 11. その他の基準一次エネルギー消費量"
   ]
  },
  {
   "cell_type": "markdown",
   "metadata": {},
   "source": [
    "$$\n",
    "\\large \n",
    "E_{SM} = \\alpha_{SM} A_{A} + \\beta_{SM}\n",
    "$$"
   ]
  },
  {
   "cell_type": "markdown",
   "metadata": {},
   "source": [
    "$A_{A}$：床面積の合計(m<sup>2</sup>)  \n",
    "$\\alpha_{SM}$：係数(MJ/(m<sup>2</sup>・年))  \n",
    "$\\beta_{SM}$：係数(MJ/年)  "
   ]
  },
  {
   "cell_type": "markdown",
   "metadata": {},
   "source": [
    "<div style=\"text-align: center;font-weight: bold;\">表　その他の一次エネルギー消費量の算出に用いる係数$\\alpha_{SM}$・$\\beta_{SM}$</div>\n",
    "\n",
    "<table>\n",
    "<thead>\n",
    "\t<tr>\n",
    "        <th rowspan=\"2\">係数</th>\n",
    "\t\t<th colspan=\"5\" style=\"text-align: center;\">床面積の合計$A_{A}$の区分 </th>\n",
    "\t</tr>\n",
    "\t<tr>\n",
    "\t\t<th>（い）<br>床面積の<br>合計が<br>30m<sup>2</sup>未満</th>\n",
    "\t\t<th>（ろ）<br>床面積の<br>合計が<br>30m<sup>2</sup>以上<br>60m<sup>2</sup>未満</th>\n",
    "\t\t<th>（は）<br>床面積の<br>合計が<br>60m<sup>2</sup>以上<br>90m<sup>2</sup>未満</th>\n",
    "\t\t<th>（に）<br>床面積の<br>合計が<br>90m<sup>2</sup>以上<br>120m<sup>2</sup>未満</th>\n",
    "\t\t<th>（ほ）<br>床面積の<br>合計が<br>120m<sup>2</sup>以上</th>\n",
    "\t</tr>\n",
    "</thead>\n",
    "<tbody>\n",
    "\t<tr>\n",
    "\t\t<th>$\\alpha_{SM}$</th>\n",
    "\t\t<td>0</td>\n",
    "\t\t<td>87.63</td>\n",
    "\t\t<td>166.71</td>\n",
    "\t\t<td>47.64</td>\n",
    "\t\t<td>0</td>\n",
    "\t</tr>\n",
    "    <tr>\n",
    "\t\t<th>$\\beta_{SM}$</th>\n",
    "\t\t<td>12181.13</td>\n",
    "\t\t<td>9552.23</td>\n",
    "\t\t<td>4807.43</td>\n",
    "\t\t<td>15523.73</td>\n",
    "\t\t<td>21240.53</td>\n",
    "\t</tr>\n",
    "</tbody>\n",
    "</table>"
   ]
  },
  {
   "cell_type": "markdown",
   "metadata": {},
   "source": [
    "## 付録 A 暖冷房負荷と外皮性能の算定に係る設定"
   ]
  },
  {
   "cell_type": "markdown",
   "metadata": {},
   "source": [
    "### A.1 地域の区分"
   ]
  },
  {
   "cell_type": "markdown",
   "metadata": {},
   "source": [
    "省略"
   ]
  },
  {
   "cell_type": "markdown",
   "metadata": {},
   "source": [
    "### A.2 床面積の合計・主たる居室の床面積・その他の居室の床面積"
   ]
  },
  {
   "cell_type": "markdown",
   "metadata": {},
   "source": [
    "省略"
   ]
  },
  {
   "cell_type": "markdown",
   "metadata": {},
   "source": [
    "### A.3 外皮の部位の面積の合計"
   ]
  },
  {
   "cell_type": "markdown",
   "metadata": {},
   "source": [
    "省略"
   ]
  },
  {
   "cell_type": "markdown",
   "metadata": {},
   "source": [
    "### A.4 外皮平均熱貫流率・平均日射熱取得率 "
   ]
  },
  {
   "cell_type": "markdown",
   "metadata": {},
   "source": [
    "<div style=\"text-align: center;font-weight: bold;\">表　外皮平均熱貫流率および平均日射熱取得率</div>\n",
    "\n",
    "<table>\n",
    "<thead>\n",
    "<tr>\n",
    "<th rowspan=\"2\">項目</th>\n",
    "<th rowspan=\"2\">住宅の種類</th>\n",
    "<th colspan=\"8\">地域の区分</th>\n",
    "</tr>\n",
    "<tr>\n",
    "<th>1</th>\n",
    "<th>2</th>\n",
    "<th>3</th>\n",
    "<th>4</th>\n",
    "<th>5</th>\n",
    "<th>6</th>\n",
    "<th>7</th>\n",
    "<th>8</th>\n",
    "</tr>\n",
    "</thead>\n",
    "\n",
    "<tbody>\n",
    "<tr>\n",
    "<th rowspan=\"2\">外皮平均熱貫流率</th>\n",
    "<th>戸建て</th>\n",
    "<td>0.46</td><td>0.46</td><td>0.56</td><td>0.75</td><td>0.87</td><td>0.87</td><td>0.87</td><td>2.14</td>\n",
    "</tr>\n",
    "<tr>\n",
    "<th>共同</th>\n",
    "<td>0.41</td><td>0.41</td><td>0.44</td><td>0.69</td><td>0.75</td><td>0.75</td><td>0.75</td><td>1.67</td>\n",
    "</tr>\n",
    "<tr>\n",
    "<th rowspan=\"2\">暖房期の<br>平均日射取得率</th>\n",
    "<th>戸建て</th>\n",
    "<td>2.5</td><td>2.3</td><td>2.7</td><td>3.7</td><td>4.5</td><td>4.3</td><td>4.6</td><td>―</td>\n",
    "</tr>\n",
    "<tr>\n",
    "<th>共同</th>\n",
    "<td>1.5</td><td>1.3</td><td>1.5</td><td>1.8</td><td>2.1</td><td>2.0</td><td>2.1</td><td>―</td>\n",
    "</tr>\n",
    "<tr>\n",
    "<th rowspan=\"2\">冷房期の<br>平均日射取得率</th>\n",
    "<th>戸建て</th>\n",
    "<td>1.9</td><td>1.9</td><td>2.0</td><td>2.7</td><td>3.0</td><td>2.8</td><td>2.7</td><td>3.2</td>\n",
    "</tr>\n",
    "<tr>\n",
    "<th>共同</th>\n",
    "<td>1.1</td><td>1.1</td><td>1.1</td><td>1.4</td><td>1.5</td><td>1.4</td><td>1.3</td><td>2.4</td>\n",
    "</tr>\n",
    "</tbody>\n",
    "</table>\n"
   ]
  },
  {
   "cell_type": "markdown",
   "metadata": {},
   "source": [
    "### A.5 通風の利用 "
   ]
  },
  {
   "cell_type": "markdown",
   "metadata": {},
   "source": [
    "省略"
   ]
  },
  {
   "cell_type": "markdown",
   "metadata": {},
   "source": [
    "### A.6 蓄熱の利用 "
   ]
  },
  {
   "cell_type": "markdown",
   "metadata": {},
   "source": [
    "省略"
   ]
  },
  {
   "cell_type": "markdown",
   "metadata": {},
   "source": [
    "### A.7 床下空間を経由して外気を導入する換気方式の採用"
   ]
  },
  {
   "cell_type": "markdown",
   "metadata": {},
   "source": [
    "省略"
   ]
  },
  {
   "cell_type": "markdown",
   "metadata": {},
   "source": [
    "### A.8 熱交換型換気の採用 "
   ]
  },
  {
   "cell_type": "markdown",
   "metadata": {},
   "source": [
    "省略"
   ]
  },
  {
   "cell_type": "markdown",
   "metadata": {},
   "source": [
    "## 付録 B 暖房設備の基準一次エネルギー消費量の算定に係る設定"
   ]
  },
  {
   "cell_type": "markdown",
   "metadata": {},
   "source": [
    "省略"
   ]
  },
  {
   "cell_type": "markdown",
   "metadata": {},
   "source": [
    "## 付録 C 冷房設備の基準一次エネルギー消費量の算定に係る設定"
   ]
  },
  {
   "cell_type": "markdown",
   "metadata": {},
   "source": [
    "省略"
   ]
  },
  {
   "cell_type": "markdown",
   "metadata": {},
   "source": [
    "\n",
    "\n",
    "\n",
    "\n",
    "\n",
    "\n",
    "\n",
    "\n",
    "\n",
    "\n",
    "\n",
    "\n",
    "\n",
    "\n",
    "\n",
    "\n",
    "\n",
    "\n",
    "\n",
    "\n",
    "\n",
    "\n",
    "\n",
    "\n",
    "\n",
    "\n",
    "\n",
    "\n",
    "\n",
    "\n"
   ]
  }
 ],
 "metadata": {
  "kernelspec": {
   "display_name": "Python 3",
   "language": "python",
   "name": "python3"
  },
  "language_info": {
   "codemirror_mode": {
    "name": "ipython",
    "version": 3
   },
   "file_extension": ".py",
   "mimetype": "text/x-python",
   "name": "python",
   "nbconvert_exporter": "python",
   "pygments_lexer": "ipython3",
   "version": "3.6.7"
  }
 },
 "nbformat": 4,
 "nbformat_minor": 2
}
