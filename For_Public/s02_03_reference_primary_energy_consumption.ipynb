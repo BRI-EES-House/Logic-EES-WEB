{
 "cells": [
  {
   "cell_type": "code",
   "execution_count": null,
   "metadata": {},
   "outputs": [],
   "source": [
    "from math import floor\n",
    "from section2_2 import get_E_C, get_E_H\n",
    "from section4_1 import get_cooling_load, get_heating_load, get_virtual_heating_devices, get_heating_mode"
   ]
  },
  {
   "cell_type": "markdown",
   "metadata": {},
   "source": [
    "# 第二章　単位住戸の一次エネルギー消費量 / Chapter 2 Designed Primary Energy Consumption"
   ]
  },
  {
   "cell_type": "markdown",
   "metadata": {},
   "source": [
    "## 第三節　基準一次エネルギー消費量 / Section 3 Standard primary energy consumption"
   ]
  },
  {
   "cell_type": "markdown",
   "metadata": {},
   "source": [
    "1．適用範囲～4．記号及び単位は省略"
   ]
  },
  {
   "cell_type": "markdown",
   "metadata": {},
   "source": [
    "1. Scope of application ~ 4. Symbols and units are omitted"
   ]
  },
  {
   "cell_type": "markdown",
   "metadata": {},
   "source": [
    "### 5．基準一次エネルギー消費量 / Standard primary energy consumption"
   ]
  },
  {
   "cell_type": "markdown",
   "metadata": {},
   "source": [
    "建築物エネルギー消費性能基準（H28 年 4 月以降）： "
   ]
  },
  {
   "cell_type": "markdown",
   "metadata": {},
   "source": [
    "Building energy consumption performance standard (after April 28, H28):"
   ]
  },
  {
   "cell_type": "markdown",
   "metadata": {},
   "source": [
    "$$\n",
    "\\large \n",
    "E_{ST}^* = E_{SH} + E_{SC} + E_{SV} + E_{SL} + E_{SW} + E_{SM}\n",
    "$$"
   ]
  },
  {
   "cell_type": "markdown",
   "metadata": {},
   "source": [
    "建築物エネルギー消費性能基準（H28 年 4 月現存）： "
   ]
  },
  {
   "cell_type": "markdown",
   "metadata": {},
   "source": [
    "Building energy consumption performance standard (as of April, H28):"
   ]
  },
  {
   "cell_type": "markdown",
   "metadata": {},
   "source": [
    "$$\n",
    "\\large \n",
    "E_{ST}^* = (E_{SH} + E_{SC} + E_{SV} + E_{SL} + E_{SW}) \\times 1.1 + E_{SM}\n",
    "$$"
   ]
  },
  {
   "cell_type": "markdown",
   "metadata": {},
   "source": [
    "建築物のエネルギー消費性能の向上の一層の促進のために誘導すべき基準（H28 年 4 月以降）： "
   ]
  },
  {
   "cell_type": "markdown",
   "metadata": {},
   "source": [
    "Criteria to be derived to further promote the improvement of energy consumption performance of buildings (after April 28):"
   ]
  },
  {
   "cell_type": "markdown",
   "metadata": {},
   "source": [
    "$$\n",
    "\\large \n",
    "E_{ST}^* = (E_{SH} + E_{SC} + E_{SV} + E_{SL} + E_{SW}) \\times 0.9 + E_{SM}\n",
    "$$"
   ]
  },
  {
   "cell_type": "markdown",
   "metadata": {},
   "source": [
    "建築物のエネルギー消費性能の向上の一層の促進のために誘導すべき基準（H28 年 4 月現存）： "
   ]
  },
  {
   "cell_type": "markdown",
   "metadata": {},
   "source": [
    "Criteria to be derived to further promote the improvement of the energy consumption performance of buildings (H28, as of April 28):"
   ]
  },
  {
   "cell_type": "markdown",
   "metadata": {},
   "source": [
    "$$\n",
    "\\large \n",
    "E_{ST}^* = E_{SH} + E_{SC} + E_{SV} + E_{SL} + E_{SW} + E_{SM}\n",
    "$$"
   ]
  },
  {
   "cell_type": "markdown",
   "metadata": {},
   "source": [
    "$E_{ST}^*$：1 年当たりの基準一次エネルギー消費量(MJ/年) / Standard primary energy consumption per year   \n",
    "$E_{SH}$：1 年当たりの暖房設備の基準一次エネルギー消費量(MJ/年) / Standard primary energy consumption of the heating system per year  \n",
    "$E_{SC}$：1 年当たりの冷房設備の基準一次エネルギー消費量(MJ/年) / Primary primary energy consumption of cooling system per year  \n",
    "$E_{SV}$：1 年当たりの機械換気設備の基準一次エネルギー消費量(MJ/年) / Standard primary energy consumption of mechanical ventilation equipment per year   \n",
    "$E_{SL}$：1 年当たりの照明設備の基準一次エネルギー消費量(MJ/年) / Standard primary energy consumption of lighting fixtures per year  \n",
    "$E_{SW}$：1 年当たりの給湯設備（コージェネレーション設備を含む）の基準一次エネルギー消費量(MJ/年) / Standard primary energy consumption of hot water supply equipment (including cogeneration equipment) per year  \n",
    "$E_{SM}$：1 年当たりのその他の基準一次エネルギー消費量(MJ/年) / Other baseline primary energy consumption per year  "
   ]
  },
  {
   "cell_type": "code",
   "execution_count": null,
   "metadata": {},
   "outputs": [],
   "source": [
    "def get_E_ST_star():\n",
    "    return 0"
   ]
  },
  {
   "cell_type": "markdown",
   "metadata": {},
   "source": [
    "### 6. 暖房設備の基準一次エネルギー消費量 / Standard primary energy consumption of heating equipment"
   ]
  },
  {
   "cell_type": "markdown",
   "metadata": {},
   "source": [
    "$$\n",
    "\\large \n",
    "E_{SH} = \\sum_{d=1}^{365} \\sum_{t=0}^{23} E_{SH,d,t}\n",
    "$$"
   ]
  },
  {
   "cell_type": "markdown",
   "metadata": {},
   "source": [
    "$E_{SH,d,t}$：日付$d$の時刻$t$における1時間当たりの暖房設備の基準一次エネルギー消費量(MJ/h) / Standard primary energy consumption of heating equipment per hour at time $ t $ on date $ d $  "
   ]
  },
  {
   "cell_type": "markdown",
   "metadata": {},
   "source": [
    "日付$d$の時刻$t$における1 時間当たりの暖房設備の基準一次エネルギー消費量$E_{SH,d,t}$は、地域の区分が 8地域の場合は0とし、それ以外の場合は、式により表される。 "
   ]
  },
  {
   "cell_type": "markdown",
   "metadata": {},
   "source": [
    "The standard primary energy consumption $ E_ {SH, d, t} $ of the heating equipment per hour at the time $ t $ of the date $ d $ is 0 if the area division is 8 areas, otherwise Is represented by a formula."
   ]
  },
  {
   "cell_type": "markdown",
   "metadata": {},
   "source": [
    "$$\n",
    "\\large \n",
    "E_{SH,d,t} = E_{E,SH,d,t} \\times f_{prim} \\times 10^{-3} + E_{G,SH,d,t} + E_{K,SH,d,t} + E_{M,SH,d,t} + E_{UT,SH,d,t}\n",
    "$$"
   ]
  },
  {
   "cell_type": "markdown",
   "metadata": {},
   "source": [
    "$E_{E,SH,d,t}$：日付$d$の時刻$t$における 1 時間当たりの暖房設備の消費電力量(kWh/h) / Power consumption of heating equipment per hour at time $ t $ on date $ d $  \n",
    "$f_{prim}$：電気の量 1kWh を熱量に換算する係数（第二章第一節付録 B）(kJ/kWh) / A factor to convert 1kWh of electricity into heat quantity (Chapter 2, Section 1 Appendix B)  \n",
    "$E_{G,SH,d,t}$：日付$d$の時刻$t$における 1 時間当たりの暖房設備のガス消費量(MJ/h) / Gas consumption of heating system per hour at time $ t $ on date $ d $  \n",
    "$E_{K,SH,d,t}$：日付$d$の時刻$t$における 1 時間当たりの暖房設備の灯油消費量(MJ/h) / Kerosene consumption of heating system per hour at time $ t $ on date $ d $  \n",
    "$E_{M,SH,d,t}$：日付$d$の時刻$t$における 1 時間当たりの暖房設備のその他の燃料による一次エネルギー消費量(MJ/h) / Primary energy consumption by heating unit other fuel per hour at time $ t $ on date $ d $  \n",
    "$E_{UT,SH,d,t}$：日付$d$の時刻$t$における 1 時間当たりの暖房設備の未処理暖房負荷の基準一次エネルギー消費量相当値(MJ/h) / Reference primary energy consumption equivalent value of the heating equipment's raw heating load per hour at time $ t $ on date $ d $  "
   ]
  },
  {
   "cell_type": "code",
   "execution_count": null,
   "metadata": {},
   "outputs": [],
   "source": [
    "def calc_E_SH(type, tatekata, region, sol_region, A_A, A_MR, A_OR, ENV, mode_H, H_MR, H_OR):\n",
    "    if region == 8:\n",
    "        return 0\n",
    "\n",
    "    if mode_H == '住戸全体を連続的に暖房する方式':\n",
    "        H_A = {\n",
    "            'type': 'ダクト式セントラル空調機',\n",
    "            'C_pl_H': 1.22\n",
    "        }\n",
    "        H_MR = None\n",
    "        H_OR = None\n",
    "        H_HS = None\n",
    "    elif mode_H == '居室のみを暖房する方式でかつ主たる居室とその他の居室ともに温水暖房を設置する場合に該当しない場合' or mode_H is None:\n",
    "\n",
    "        # 実質的な暖房機器の仕様を取得\n",
    "        spec_MR, spec_OR = get_virtual_heating_devices(region, H_MR, H_OR)\n",
    "        if spec_MR is None and spec_OR is None:\n",
    "            return 0\n",
    "\n",
    "        # 暖房方式及び運転方法の区分\n",
    "        mode_MR, mode_OR = get_heating_mode(region=region, H_MR=spec_MR, H_OR=spec_OR)\n",
    "\n",
    "        H_A = None\n",
    "        H_HS = None\n",
    "\n",
    "        if mode_MR == 'ろ':\n",
    "            if region in [1,2,3,4]:\n",
    "                H_MR = {\n",
    "                    'type': '温水暖房用パネルラジエーター',\n",
    "                }\n",
    "                H_HS = {\n",
    "                    'type': '石油従来型温水暖房機',\n",
    "                    'e_rtd_hs': 0.83,\n",
    "                    'pipe_insulation': True,\n",
    "                    'underfloor_pipe_insulation': False\n",
    "                }\n",
    "            elif region in [5,6,7,8]:\n",
    "                H_MR = {\n",
    "                    'type': '温水暖房用パネルラジエーター',\n",
    "                }\n",
    "                H_HS = {\n",
    "                    'type': 'ガス潜熱回収型温水暖房機',\n",
    "                    'e_rtd_hs': 0.825,\n",
    "                    'pipe_insulation': True,\n",
    "                    'underfloor_pipe_insulation': False\n",
    "                }\n",
    "            else:\n",
    "                raise ValueError(region)\n",
    "        elif mode_MR == 'は':\n",
    "            if region in [1,2,3,4]:\n",
    "                H_MR = {\n",
    "                    'type': 'FF暖房機',\n",
    "                    'e_rtd': 0.86\n",
    "                }\n",
    "            elif region in [5,6,7,8]:\n",
    "                H_MR = {\n",
    "                    'type': 'ルームエアコンディショナー',\n",
    "                    'e_class': 'ろ',\n",
    "                    'dualcompressor': False\n",
    "                }\n",
    "            else:\n",
    "                raise ValueError(region)\n",
    "        else:\n",
    "            raise ValueError(mode_MR)\n",
    "\n",
    "        if mode_OR == 'ろ':\n",
    "            if region in [1,2,3,4]:\n",
    "                H_OR = {\n",
    "                    'type': '温水暖房用パネルラジエーター',\n",
    "                }\n",
    "                H_HS = {\n",
    "                    'type': '石油従来型温水暖房機',\n",
    "                    'e_rtd_hs': 0.83,\n",
    "                    'pipe_insulation': True,\n",
    "                    'underfloor_pipe_insulation': False\n",
    "                }\n",
    "            elif region in [4,5,6,7]:\n",
    "                H_OR = {\n",
    "                    'type': '温水暖房用パネルラジエーター',\n",
    "                }\n",
    "                H_HS = {\n",
    "                    'type': 'ガス潜熱回収型温水暖房機',\n",
    "                    'e_rtd_hs': 0.825,\n",
    "                    'pipe_insulation': True,\n",
    "                    'underfloor_pipe_insulation': False\n",
    "                }\n",
    "            else:\n",
    "                raise ValueError(region)\n",
    "        elif mode_OR == 'は':\n",
    "            if region in [1,2,3,4]:\n",
    "                H_OR = {\n",
    "                    'type': 'FF暖房機',\n",
    "                    'e_rtd': 0.86\n",
    "                }\n",
    "            elif region in [5,6,7,8]:\n",
    "                H_OR = {\n",
    "                    'type': 'ルームエアコンディショナー',\n",
    "                    'e_class': 'ろ',\n",
    "                    'dualcompressor': False\n",
    "                }\n",
    "            else:\n",
    "                raise ValueError(region)\n",
    "        elif mode_OR is None:\n",
    "            pass\n",
    "        else:\n",
    "            raise ValueError(mode_OR)\n",
    "    else:\n",
    "        raise ValueError(mode_H)\n",
    "\n",
    "    from section3_1 import get_Q\n",
    "\n",
    "    if type != '行政庁認定住宅':\n",
    "        from section2_3_a import get_U_A, get_etr_A_H\n",
    "\n",
    "        U_A = get_U_A(tatekata, region)\n",
    "        etr_A_H = get_etr_A_H(tatekata, region)\n",
    "\n",
    "        from section3_2 import get_Q_dash, get_eta_H\n",
    "\n",
    "        if ENV['method'] == '当該住宅の外皮面積の合計を用いて評価する':\n",
    "            A_env = ENV['A_env']\n",
    "            r_env = A_env / A_A  # 床面積の合計に対する外皮の部位の面積の合計の比\n",
    "        elif ENV['method'] == '簡易的に求めた外皮面積の合計を用いて評価する':\n",
    "            from section3_2_9 import get_A_dash_env, get_A_dash_A, get_r_env\n",
    "            A_dash_env = get_A_dash_env(ENV['house_insulation_type'])\n",
    "            A_dash_A = get_A_dash_A()\n",
    "            r_env = get_r_env(A_dash_env, A_dash_A)\n",
    "        elif ENV['method'] == '当該住戸の外皮の部位の面積等を用いて外皮性能を評価する方法':\n",
    "            from section3_2_9 import get_A_dash_env, get_A_dash_A, get_r_env\n",
    "            from section3_2 import calc_insulation_performance\n",
    "            _, _, _, _, _, _, _, house_insulation_type = calc_insulation_performance(**ENV)\n",
    "            A_dash_env = get_A_dash_env(house_insulation_type)\n",
    "            A_dash_A = get_A_dash_A()\n",
    "            r_env = get_r_env(A_dash_env, A_dash_A)\n",
    "\n",
    "        Q_dash = get_Q_dash(U_A, r_env)\n",
    "\n",
    "        eta_H = get_eta_H(etr_A_H, r_env)\n",
    "    else:\n",
    "        from section3_2 import calc_insulation_performance\n",
    "        U_A, r_env, eta_A_H, eta_A_C, Q_dash, eta_H, eta_C,_ = calc_insulation_performance(**ENV)\n",
    "\n",
    "    Q = get_Q(Q_dash)\n",
    "\n",
    "    if mode_H is None:\n",
    "        mode_H = '居室のみを暖房する方式でかつ主たる居室とその他の居室ともに温水暖房を設置する場合に該当しない場合'\n",
    "\n",
    "    # 暖房方式及び運転方法の区分\n",
    "    mode_MR, mode_OR = get_heating_mode(region=region, H_MR=H_MR, H_OR=H_OR)\n",
    "\n",
    "    # 暖房負荷の取得\n",
    "    L_H_A_d_t, L_T_H_d_t_i, L_dash_H_R_d_t_i = get_heating_load(\n",
    "        region, sol_region,\n",
    "        A_A, A_MR, A_OR,\n",
    "        Q, eta_H, None, None, None,\n",
    "        None, mode_H,\n",
    "        H_MR, H_OR, mode_MR, mode_OR, None)\n",
    "\n",
    "    E_SH = get_E_H(region, sol_region, A_A, A_MR, A_OR, mode_H,\n",
    "                  H_A, H_MR, H_OR, H_HS, mode_MR, mode_OR, None, None,\n",
    "                  None, L_H_A_d_t, L_T_H_d_t_i)\n",
    "\n",
    "    return E_SH"
   ]
  },
  {
   "cell_type": "markdown",
   "metadata": {},
   "source": [
    "### 7. 冷房設備の基準一次エネルギー消費量 / Standard primary energy consumption of cooling system"
   ]
  },
  {
   "cell_type": "markdown",
   "metadata": {},
   "source": [
    "$$\n",
    "\\large \n",
    "E_{SC} = \\sum_{d=1}^{365} \\sum_{t=0}^{23} E_{SC,d,t}\n",
    "$$"
   ]
  },
  {
   "cell_type": "markdown",
   "metadata": {},
   "source": [
    "$E_{SC,d,t}$：日付$d$の時刻$t$における1時間当たりの冷房設備の基準一次エネルギー消費量(MJ/h) / Basic primary energy consumption of cooling system per hour at time $ t $ of date $ d $  "
   ]
  },
  {
   "cell_type": "markdown",
   "metadata": {},
   "source": [
    "$$\n",
    "\\large \n",
    "E_{SC,d,t} = E_{E,SC,d,t} \\times f_{prim} \\times 10^{-3} + E_{G,SC,d,t} + E_{K,SC,d,t} + E_{M,SC,d,t}\n",
    "$$"
   ]
  },
  {
   "cell_type": "markdown",
   "metadata": {},
   "source": [
    "$E_{E,SC,d,t}$：日付$d$の時刻$t$における 1 時間当たりの冷房設備の消費電力量(kWh/h) / Power consumption of cooling system per hour at time $ t $ on date $ d $   \n",
    "$f_{prim}$：電気の量1kWhを熱量に換算する係数（第二章第一節付録 B）(kJ/kWh) / A factor to convert 1 kWh of electricity into heat quantity (Chapter 2, Section 1 Appendix B)  \n",
    "$E_{G,SC,d,t}$：日付$d$の時刻$t$における 1 時間当たりの冷房設備のガス消費量(MJ/h) / Gas consumption of cooling system per hour at time $ t $ on date $ d $   \n",
    "$E_{K,SC,d,t}$：日付$d$の時刻$t$における 1 時間当たりの冷房設備の灯油消費量(MJ/h) / Kerosene consumption of cooling system per hour at time $ t $ on date $ d $  \n",
    "$E_{M,SC,d,t}$：日付$d$の時刻$t$における 1 時間当たりの冷房設備のその他の燃料による一次エネルギー消費量(MJ/h) / Primary energy consumption by cooling system other fuel per hour at time $ t $ on date $ d $  "
   ]
  },
  {
   "cell_type": "code",
   "execution_count": null,
   "metadata": {},
   "outputs": [],
   "source": [
    "def calc_E_SC(type, tatekata, region, A_A, A_MR, A_OR, ENV, mode_C):\n",
    "    if ENV is None:\n",
    "        return 0.0\n",
    "\n",
    "    if mode_C == '住戸全体を連続的に冷房する方式':\n",
    "        C_A = {\n",
    "            'type': 'ダクト式セントラル空調機',\n",
    "            'C_pl_C': 1.25\n",
    "        }\n",
    "        C_MR = None\n",
    "        C_OR = None\n",
    "    elif mode_C == '居室のみを冷房する方式' or mode_C is None:\n",
    "        C_A = None\n",
    "        C_MR = {\n",
    "            'type': 'ルームエアコンディショナー',\n",
    "            'e_class': 'ろ',\n",
    "            'dualcompressor': False\n",
    "        }\n",
    "        C_OR = {\n",
    "            'type': 'ルームエアコンディショナー',\n",
    "            'e_class': 'ろ',\n",
    "            'dualcompressor': False\n",
    "        }\n",
    "    else:\n",
    "        raise ValueError(mode_C)\n",
    "\n",
    "    from section2_3_a import get_U_A, get_etr_A_C\n",
    "    from section3_2 import get_Q_dash, get_eta_C\n",
    "    from section3_1 import get_Q\n",
    "\n",
    "    if type != '行政庁認定住宅':\n",
    "        U_A = get_U_A(tatekata, region)\n",
    "        etr_A_C = get_etr_A_C(tatekata, region)\n",
    "\n",
    "        if ENV['method'] == '当該住宅の外皮面積の合計を用いて評価する':\n",
    "            A_env = ENV['A_env']\n",
    "            r_env = A_env / A_A  # 床面積の合計に対する外皮の部位の面積の合計の比\n",
    "        elif ENV['method'] == '簡易的に求めた外皮面積の合計を用いて評価する':\n",
    "            from section3_2_9 import get_A_dash_env, get_A_dash_A, get_r_env\n",
    "            A_dash_env = get_A_dash_env(ENV['house_insulation_type'])\n",
    "            A_dash_A = get_A_dash_A()\n",
    "            r_env = get_r_env(A_dash_env, A_dash_A)\n",
    "        elif ENV['method'] == '当該住戸の外皮の部位の面積等を用いて外皮性能を評価する方法':\n",
    "            from section3_2_9 import get_A_dash_env, get_A_dash_A, get_r_env\n",
    "            from section3_2 import calc_insulation_performance\n",
    "            _, _, _, _, _, _, _, house_insulation_type = calc_insulation_performance(**ENV)\n",
    "            A_dash_env = get_A_dash_env(house_insulation_type)\n",
    "            A_dash_A = get_A_dash_A()\n",
    "            r_env = get_r_env(A_dash_env, A_dash_A)\n",
    "\n",
    "        Q_dash = get_Q_dash(U_A, r_env)\n",
    "\n",
    "        eta_C = get_eta_C(etr_A_C, r_env)\n",
    "    else:\n",
    "        from section3_2 import calc_insulation_performance\n",
    "        U_A, r_env, _, _, Q_dash, _, eta_C, _ = calc_insulation_performance(**ENV)\n",
    "\n",
    "    Q = get_Q(Q_dash)\n",
    "\n",
    "    if mode_C is None:\n",
    "        mode_C = '居室のみを冷房する方式'\n",
    "\n",
    "    # 冷房負荷の計算\n",
    "    L_CS_A_d_t, L_CL_A_d_t, L_CS_d_t, L_CL_d_t = get_cooling_load(\n",
    "        region=region,\n",
    "        A_A=A_A,\n",
    "        A_MR=A_MR,\n",
    "        A_OR=A_OR,\n",
    "        Q=Q,\n",
    "        mu_C=eta_C,\n",
    "        # 通風なし\n",
    "        NV_MR=0,\n",
    "        NV_OR=0,\n",
    "        # 床下換気なし\n",
    "        r_A_ufvnt=None,\n",
    "        underfloor_insulation=None,\n",
    "        mode_C=mode_C\n",
    "    )\n",
    "\n",
    "    # 1 年当たりの冷房設備の設計一次エネルギー消費量\n",
    "    E_SC = get_E_C(region, A_A, A_MR, A_OR, C_A, C_MR, C_OR, L_CS_A_d_t, L_CL_A_d_t, L_CS_d_t, L_CL_d_t)\n",
    "\n",
    "    return E_SC"
   ]
  },
  {
   "cell_type": "markdown",
   "metadata": {},
   "source": [
    "### 8. 機械換気設備の基準一次エネルギー消費量 / Standard primary energy consumption of mechanical ventilation equipment"
   ]
  },
  {
   "cell_type": "markdown",
   "metadata": {},
   "source": [
    "$$\n",
    "\\large \n",
    "E_{SV} = \\alpha_{SV} A_{A} + \\beta_{SV}\n",
    "$$"
   ]
  },
  {
   "cell_type": "code",
   "execution_count": null,
   "metadata": {},
   "outputs": [],
   "source": [
    "def calc_E_SV(A_A):\n",
    "    \"\"\"\n",
    "    :param A_A: 床面積の合計(付録Aによる定まる値) (m2)\n",
    "    :return: 1年あたりの機械換気設備の基準一次エネルギー消費量 (MJ/年)\n",
    "    \"\"\"\n",
    "    # 係数 a_SV, b_SV\n",
    "    a_SV, b_SV = get_table3_coeff(A_A)\n",
    "\n",
    "    # 1年あたりの機械換気設備の基準一次エネルギー消費量 (9)\n",
    "    E_SV = get_E_SV(A_A, a_SV, b_SV)\n",
    "\n",
    "    return E_SV\n",
    "\n",
    "def get_E_SV(A_A, a_SV, b_SV):\n",
    "    \"\"\"\n",
    "    :param A_A: 床面積の合計 (m2)\n",
    "    :param a_SV: 係数 (MJ/(m2・年))\n",
    "    :param b_SV: 係数 (MJ/年)\n",
    "    :return: 1年あたりの機械換気設備の基準一次エネルギー消費量 (MJ/年)\n",
    "    \"\"\"\n",
    "    E_SV = a_SV * A_A + b_SV\n",
    "    return E_SV"
   ]
  },
  {
   "cell_type": "markdown",
   "metadata": {},
   "source": [
    "$A_{A}$：床面積の合計(m<sup>2</sup>) / Total floor area  \n",
    "$\\alpha_{SV}$：係数(MJ/(m<sup>2</sup>・年)) / coefficient  \n",
    "$\\beta_{SV}$：係数(MJ/年) / coefficient  "
   ]
  },
  {
   "cell_type": "markdown",
   "metadata": {},
   "source": [
    "係数$\\alpha_{SV}$および$\\beta_{SV}$は、床面積の合計$A_{A}$に応じて表により定まる。 "
   ]
  },
  {
   "cell_type": "markdown",
   "metadata": {},
   "source": [
    "The coefficients $ \\alpha_ {SV} $ and $ \\beta_ {SV} $ are tabulated according to the total floor area $ A_ {A} $."
   ]
  },
  {
   "cell_type": "markdown",
   "metadata": {},
   "source": [
    "<div style=\"text-align: center;font-weight: bold;\">表　機械換気設備の一次エネルギー消費量の算出に用いる係数$\\alpha_{SV}$・$\\beta_{SV}$<br>Table: Coefficients used to calculate primary energy consumption of mechanical ventilation equipment $ \\alpha_{SV} $ ・ $ \\beta_{SV} $</div>\n",
    "\n",
    "<table>\n",
    "<thead>\n",
    "\t<tr>\n",
    "        <th rowspan=\"2\">係数<br>coefficient</th>\n",
    "\t\t<th colspan=\"3\" style=\"text-align: center;\">床面積の合計$A_{A}$の区分<br>Division of floor space total $ A_ {A} $</th>\n",
    "\t</tr>\n",
    "\t<tr>\n",
    "\t\t<th>（い）床面積の合計が30m<sup>2</sup>未満<br>(I) total floor area is less than 30m<sup>2</sup></th>\n",
    "\t\t<th>（ろ）床面積の合計が30m<sup>2</sup>以上 120m<sup>2</sup>未満<br>(RO) The total floor area is<br>more than 30m<sup>2</sup> and less than 120m<sup>2</sup></th>\n",
    "\t\t<th>（は）床面積の合計が120m<sup>2</sup>以上<br>(HA)Total floor area is over 120m<sup>2</sup></th>\n",
    "\t</tr>\n",
    "</thead>\n",
    "<tbody>\n",
    "\t<tr>\n",
    "\t\t<th>$\\alpha_{SV}$</th>\n",
    "\t\t<td>33</td>\n",
    "\t\t<td>38</td>\n",
    "\t\t<td>33</td>\n",
    "\t</tr>\n",
    "    <tr>\n",
    "\t\t<th>$\\beta_{SV}$</th>\n",
    "\t\t<td>129</td>\n",
    "\t\t<td>-21</td>\n",
    "\t\t<td>579</td>\n",
    "\t</tr>\n",
    "</tbody>\n",
    "</table>"
   ]
  },
  {
   "cell_type": "code",
   "execution_count": null,
   "metadata": {},
   "outputs": [],
   "source": [
    "def get_table3_coeff(A_A):\n",
    "    \"\"\"\n",
    "    :param A_A: 床面積の合計 (m2)\n",
    "    :return: 係数 a_SV, b_SV\n",
    "    \"\"\"\n",
    "    if A_A < 30:\n",
    "        index = 0\n",
    "    elif A_A < 120:\n",
    "        index = 1\n",
    "    else:\n",
    "        index = 2\n",
    "\n",
    "    a_SV = table_3[0][index]\n",
    "    b_SV = table_3[1][index]\n",
    "\n",
    "    return a_SV, b_SV\n",
    "\n",
    "table_3 = [\n",
    "    (33, 38, 33),\n",
    "    (129, -21, 579)\n",
    "]\n"
   ]
  },
  {
   "cell_type": "markdown",
   "metadata": {},
   "source": [
    "### 9. 照明設備の基準一次エネルギー消費量 / Standard Primary Energy Consumption of Lighting Fixtures"
   ]
  },
  {
   "cell_type": "markdown",
   "metadata": {},
   "source": [
    "$$\n",
    "\\large \n",
    "E_{SL} = 31 \\times A_{A} + 169 \\times A_{MR} + 39 \\times A_{OR}\n",
    "$$"
   ]
  },
  {
   "cell_type": "code",
   "execution_count": null,
   "metadata": {},
   "outputs": [],
   "source": [
    "# 1年あたりの照明の基準一次エネルギー消費量 (7)\n",
    "def calc_E_SL(A_A, A_MR, A_OR):\n",
    "    \"\"\"\n",
    "    :param A_A: 床面積の合計(付録Aによる定まる値) (m2)\n",
    "    :param A_MR: 主たる居室の床面積の合計(付録Aによる定まる値) (m2)\n",
    "    :param A_OR: その他の居室の床面積の合計(付録Aによる定まる値) (m2)\n",
    "    :return: 1年あたりの照明の基準一次エネルギー消費量 (MJ/年)\n",
    "    \"\"\"\n",
    "    E_SL = get_E_SL(A_A, A_MR, A_OR)\n",
    "    return E_SL\n",
    "\n",
    "\n",
    "# 1年あたりの照明の基準一次エネルギー消費量 (7)\n",
    "def get_E_SL(A_A, A_MR, A_OR):\n",
    "    \"\"\"\n",
    "    :param A_A: 床面積の合計(付録Aによる定まる値) (m2)\n",
    "    :param A_MR: 主たる居室の床面積の合計(付録Aによる定まる値) (m2)\n",
    "    :param A_OR: その他の居室の床面積の合計(付録Aによる定まる値) (m2)\n",
    "    :return: 1年あたりの照明の基準一次エネルギー消費量 (MJ/年)\n",
    "    \"\"\"\n",
    "    E_SL = 31 * A_A + 169 * A_MR + 39 * A_OR\n",
    "    return E_SL"
   ]
  },
  {
   "cell_type": "markdown",
   "metadata": {},
   "source": [
    "$A_{A}$：床面積の合計(m<sup>2</sup>) / total floor area  \n",
    "$A_{MR}$：主たる居室の床面積(m<sup>2</sup>) / Floor area of main room  \n",
    "$A_{OR}$：その他の居室の床面積(m<sup>2</sup>) / Floor area of other rooms  "
   ]
  },
  {
   "cell_type": "markdown",
   "metadata": {},
   "source": [
    "### 10. 給湯設備及びコージェネレーション設備の基準一次エネルギー消費量 / Standard primary energy consumption of hot water supply equipment and cogeneration equipment"
   ]
  },
  {
   "cell_type": "markdown",
   "metadata": {},
   "source": [
    "浴室等、台所及び洗面所が無い場合、1 年当たりの給湯設備（コージェネレーション設備を含む）の基準一次エネルギー消費量$E_{SW}$は、ゼロとする。"
   ]
  },
  {
   "cell_type": "markdown",
   "metadata": {},
   "source": [
    "If there is no kitchen and bathroom, etc., the standard primary energy consumption $ E_ {SW} $ of hot water supply equipment (including cogeneration equipment) per year is zero."
   ]
  },
  {
   "cell_type": "markdown",
   "metadata": {},
   "source": [
    "浴室等が有る場合、もしくは浴室等が無く、台所又は洗面所が有る場合、"
   ]
  },
  {
   "cell_type": "markdown",
   "metadata": {},
   "source": [
    "If there is a bathroom, etc., or if there is no bathroom, and there is a kitchen or a lavatory,"
   ]
  },
  {
   "cell_type": "markdown",
   "metadata": {},
   "source": [
    "$$\n",
    "\\large \n",
    "E_{SW} = \\alpha_{SW} A_{A} + \\beta_{SW}\n",
    "$$"
   ]
  },
  {
   "cell_type": "code",
   "execution_count": null,
   "metadata": {},
   "outputs": [],
   "source": [
    "# 1年当たりの給湯設備の設計一次エネルギー消費量 (8)\n",
    "def calc_E_SW(region, A_A, HW):\n",
    "    if HW is None or HW['hw_type'] is None:\n",
    "        return 0.0\n",
    "    else:\n",
    "        a_SW, b_SW = get_table4_coeff(region, A_A, HW['has_bath'])\n",
    "        E_SW = get_E_SW(A_A, a_SW, b_SW)\n",
    "        return E_SW\n",
    "\n",
    "\n",
    "# 1年当たりの給湯設備の設計一次エネルギー消費量 (8)\n",
    "def get_E_SW(A_A, a_SW, b_SW):\n",
    "    if a_SW is None:\n",
    "        E_SW = b_SW\n",
    "    else:\n",
    "        E_SW = a_SW * A_A + b_SW\n",
    "    return E_SW"
   ]
  },
  {
   "cell_type": "markdown",
   "metadata": {},
   "source": [
    "$A_{A}$：床面積の合計(m<sup>2</sup>) / total floor area  \n",
    "$\\alpha_{SW}$：係数(MJ/(m<sup>2</sup>・年)) / coefficient  \n",
    "$\\beta_{SW}$：係数(MJ/年) / coefficient  "
   ]
  },
  {
   "cell_type": "markdown",
   "metadata": {},
   "source": [
    "<div style=\"text-align: center;font-weight: bold;\">表　給湯設備の一次エネルギー消費量の算出に用いる係数$\\alpha_{SW}$・$\\beta_{SW}$<br>Table: Factors $ \\alpha_ {SW} $ ・ $ \\beta_ {SW} $ used to calculate the primary energy consumption of water heaters</div>\n",
    "\n",
    "<table>\n",
    "<thead>\n",
    "\t<tr>\n",
    "        <th rowspan=\"2\">地域の区分<br>Segmentation of area</th>\n",
    "        <th rowspan=\"2\">給湯対象室<br>Hot water supply target room</th>\n",
    "        <th rowspan=\"2\">係数<br>coefficient</th>\n",
    "\t\t<th colspan=\"5\" style=\"text-align: center;\">床面積の合計$A_{A}$の区分<br>Division of floor space total $ A_ {A} $</th>\n",
    "\t</tr>\n",
    "\t<tr>\n",
    "\t\t<th>（い）<br>床面積の<br>合計が<br>30m<sup>2</sup>未満<br>(I) total floor area is less than 30m<sup>2</sup></th>\n",
    "\t\t<th>（ろ）<br>床面積の<br>合計が<br>30m<sup>2</sup>以上<br>60m<sup>2</sup>未満<br>(RO)total floor area is more than 30m<sup>2</sup> and less than 60m<sup>2</sup></th>\n",
    "\t\t<th>（は）<br>床面積の<br>合計が<br>60m<sup>2</sup>以上<br>90m<sup>2</sup>未満<br>(HA)Total floor area is 60m<sup>2</sup> or more and less than 90m<sup>2</sup></th>\n",
    "\t\t<th>（に）<br>床面積の<br>合計が<br>90m<sup>2</sup>以上<br>120m<sup>2</sup>未満<br>(NI)Total floor area is 90m<sup>2</sup> or more and less than 120m<sup>2</sup></th>\n",
    "\t\t<th>（ほ）<br>床面積の<br>合計が<br>120m<sup>2</sup>以上<br>(HO)Total floor area is 120m<sup>2</sup></th>\n",
    "\t</tr>\n",
    "</thead>\n",
    "    \n",
    "<tbody>\n",
    "\t<tr>\n",
    "        <th rowspan=\"4\">1</th>\n",
    "        <th rowspan=\"2\">浴室等が有る場合<br>When there is bathroom</th>\n",
    "\t\t<th>$\\alpha_{SW}$</th>\n",
    "\t\t<td>－</td><td>234</td><td>307</td><td>109</td><td>－</td>\n",
    "\t</tr>\n",
    "    <tr>\n",
    "\t\t<th>$\\beta_{SW}$</th>\n",
    "\t\t<td>11946</td><td>4926</td><td>546</td><td>18366</td><td>31446</td>\n",
    "\t</tr>\n",
    "    <tr>\n",
    "        <th rowspan=\"2\">浴室等が無く、台所<br>又は洗面が有る場合<br>When there is no bathroom, and there is a kitchen or bathroom</th>\n",
    "\t\t<th>$\\alpha_{SW}$</th>\n",
    "\t\t<td>－</td><td>32</td><td>78</td><td>15</td><td>－</td>\n",
    "\t</tr>\n",
    "    <tr>\n",
    "\t\t<th>$\\beta_{SW}$</th>\n",
    "\t\t<td>4835</td><td>3875</td><td>1115</td><td>6785</td><td>8585</td>\n",
    "\t</tr>\n",
    "    <tr>\n",
    "        <th rowspan=\"4\">2</th>\n",
    "        <th rowspan=\"2\">浴室等が有る場合<br>When there is bathroom</th>\n",
    "\t\t<th>$\\alpha_{SW}$</th>\n",
    "\t\t<td>－</td><td>228</td><td>300</td><td>107</td><td>－</td>\n",
    "\t</tr>\n",
    "    <tr>\n",
    "\t\t<th>$\\beta_{SW}$</th>\n",
    "\t\t<td>11696</td><td>4856</td><td>536</td><td>17906</td><td>30746</td>\n",
    "\t</tr>\n",
    "    <tr>\n",
    "        <th rowspan=\"2\">浴室等が無く、台所<br>又は洗面が有る場合<br>When there is no bathroom, and there is a kitchen or bathroom</th>\n",
    "\t\t<th>$\\alpha_{SW}$</th>\n",
    "\t\t<td>－</td><td>32</td><td>77</td><td>15</td><td>－</td>\n",
    "\t</tr>\n",
    "    <tr>\n",
    "\t\t<th>$\\beta_{SW}$</th>\n",
    "\t\t<td>4742</td><td>3782</td><td>1082</td><td>6662</td><td>8462</td>\n",
    "\t</tr>\n",
    "    <tr>\n",
    "        <th rowspan=\"4\">3</th>\n",
    "        <th rowspan=\"2\">浴室等が有る場合<br>When there is bathroom</th>\n",
    "        <th>$\\alpha_{SW}$</th>\n",
    "        <td>－</td><td>212</td><td>280</td><td>100</td><td>－</td>\n",
    "    </tr>\n",
    "    <tr>\n",
    "        <th>$\\beta_{SW}$</th>\n",
    "        <td>10892</td><td>4532</td><td>452</td><td>16652</td><td>28652</td>\n",
    "    </tr>\n",
    "    <tr>\n",
    "        <th rowspan=\"2\">浴室等が無く、台所<br>又は洗面が有る場合<br>When there is no bathroom, and there is a kitchen or bathroom</th>\n",
    "        <th>$\\alpha_{SW}$</th>\n",
    "        <td>－</td><td>30</td><td>72</td><td>14</td><td>－</td>\n",
    "    </tr>\n",
    "    <tr>\n",
    "        <th>$\\beta_{SW}$</th>\n",
    "        <td>4442</td><td>3542</td><td>1022</td><td>6242</td><td>7922</td>\n",
    "    </tr>\n",
    "    <tr>\n",
    "        <th rowspan=\"4\">4</th>\n",
    "        <th rowspan=\"2\">浴室等が有る場合<br>When there is bathroom</th>\n",
    "        <th>$\\alpha_{SW}$</th>\n",
    "        <td>－</td><td>205</td><td>272</td><td>97</td><td>－</td>\n",
    "    </tr>\n",
    "    <tr>\n",
    "        <th>$\\beta_{SW}$</th>\n",
    "        <td>10575</td><td>4425</td><td>405</td><td>16155</td><td>27795</td>\n",
    "    </tr>\n",
    "    <tr>\n",
    "        <th rowspan=\"2\">浴室等が無く、台所<br>又は洗面が有る場合<br>When there is no bathroom, and there is a kitchen or bathroom</th>\n",
    "        <th>$\\alpha_{SW}$</th>\n",
    "        <td>－</td><td>29</td><td>70</td><td>13</td><td>－</td>\n",
    "    </tr>\n",
    "    <tr>\n",
    "        <th>$\\beta_{SW}$</th>\n",
    "        <td>4321</td><td>3451</td><td>991</td><td>6121</td><td>7681</td>\n",
    "    </tr>\n",
    "    <tr>\n",
    "        <th rowspan=\"4\">5</th>\n",
    "        <th rowspan=\"2\">浴室等が有る場合<br>When there is bathroom</th>\n",
    "        <th>$\\alpha_{SW}$</th>\n",
    "        <td>－</td><td>200</td><td>276</td><td>103</td><td>－</td>\n",
    "    </tr>\n",
    "    <tr>\n",
    "        <th>$\\beta_{SW}$</th>\n",
    "        <td>10440</td><td>4440</td><td>-120</td><td>15450</td><td>27810</td>\n",
    "    </tr>\n",
    "    <tr>\n",
    "        <th rowspan=\"2\">浴室等が無く、台所<br>又は洗面が有る場合<br>When there is no bathroom, and there is a kitchen or bathroom</th>\n",
    "        <th>$\\alpha_{SW}$</th>\n",
    "        <td>－</td><td>29</td><td>71</td><td>14</td><td>－</td>\n",
    "    </tr>\n",
    "    <tr>\n",
    "        <th>$\\beta_{SW}$</th>\n",
    "        <td>4165</td><td>3295</td><td>775</td><td>5905</td><td>7585</td>\n",
    "    </tr>\n",
    "    <tr>\n",
    "        <th rowspan=\"4\">6</th>\n",
    "        <th rowspan=\"2\">浴室等が有る場合<br>When there is bathroom</th>\n",
    "        <th>$\\alpha_{SW}$</th>\n",
    "        <td>－</td><td>181</td><td>249</td><td>93</td><td>－</td>\n",
    "    </tr>\n",
    "    <tr>\n",
    "        <th>$\\beta_{SW}$</th>\n",
    "        <td>9401</td><td>3971</td><td>-109</td><td>13931</td><td>25091</td>\n",
    "    </tr>\n",
    "    <tr>\n",
    "        <th rowspan=\"2\">浴室等が無く、台所<br>又は洗面が有る場合<br>When there is no bathroom, and there is a kitchen or bathroom</th>\n",
    "        <th>$\\alpha_{SW}$</th>\n",
    "        <td>－</td><td>26</td><td>64</td><td>12</td><td>－</td>\n",
    "    </tr>\n",
    "    <tr>\n",
    "        <th>$\\beta_{SW}$</th>\n",
    "        <td>3755</td><td>2975</td><td>695</td><td>5375</td><td>6815</td>\n",
    "    </tr>\n",
    "    <tr>\n",
    "        <th rowspan=\"4\">7</th>\n",
    "        <th rowspan=\"2\">浴室等が有る場合<br>When there is bathroom</th>\n",
    "        <th>$\\alpha_{SW}$</th>\n",
    "        <td>－</td><td>165</td><td>227</td><td>85</td><td>－</td>\n",
    "    </tr>\n",
    "    <tr>\n",
    "        <th>$\\beta_{SW}$</th>\n",
    "        <td>8499</td><td>3549</td><td>-171</td><td>12609</td><td>22809</td>\n",
    "    </tr>\n",
    "    <tr>\n",
    "        <th rowspan=\"2\">浴室等が無く、台所<br>又は洗面が有る場合<br>When there is no bathroom, and there is a kitchen or bathroom</th>\n",
    "        <th>$\\alpha_{SW}$</th>\n",
    "        <td>－</td><td>23</td><td>57</td><td>11</td><td>－</td>\n",
    "    </tr>\n",
    "    <tr>\n",
    "        <th>$\\beta_{SW}$</th>\n",
    "        <td>3402</td><td>2712</td><td>672</td><td>4812</td><td>6132</td>\n",
    "    </tr>\n",
    "    <tr>\n",
    "        <th rowspan=\"4\">8</th>\n",
    "        <th rowspan=\"2\">浴室等が有る場合<br>When there is bathroom</th>\n",
    "        <th>$\\alpha_{SW}$</th>\n",
    "        <td>－</td><td>130</td><td>178</td><td>67</td><td>－</td>\n",
    "    </tr>\n",
    "    <tr>\n",
    "        <th>$\\beta_{SW}$</th>\n",
    "        <td>6672</td><td>2772</td><td>-108</td><td>9882</td><td>17922</td>\n",
    "    </tr>\n",
    "    <tr>\n",
    "        <th rowspan=\"2\">浴室等が無く、台所<br>又は洗面が有る場合<br>When there is no bathroom, and there is a kitchen or bathroom</th>\n",
    "        <th>$\\alpha_{SW}$</th>\n",
    "        <td>－</td><td>18</td><td>45</td><td>9</td><td>－</td>\n",
    "    </tr>\n",
    "    <tr>\n",
    "        <th>$\\beta_{SW}$</th>\n",
    "        <td>2679</td><td>2139</td><td>519</td><td>3759</td><td>4839</td>\n",
    "    </tr>\n",
    "</tbody>\n",
    "</table>"
   ]
  },
  {
   "cell_type": "code",
   "execution_count": null,
   "metadata": {},
   "outputs": [],
   "source": [
    "def get_table4_coeff(region, A_A, has_bath):\n",
    "    row_index = (region - 1) * 4 + (0 if has_bath else 2)\n",
    "    column_index = min(4, floor(A_A / 30))\n",
    "    a_SW = table_4[row_index][column_index]\n",
    "    b_SW = table_4[row_index + 1][column_index]\n",
    "    return a_SW, b_SW\n",
    "\n",
    "\n",
    "# 表4 給湯設備の一次エネルギー消費量の算出に用いる係数\n",
    "table_4 = [\n",
    "    (None, 234, 307, 109, None),\n",
    "    (11946, 4926, 546, 18366, 31446),\n",
    "    (None, 32, 78, 15, None),\n",
    "    (4835, 3875, 1115, 6785, 8585),\n",
    "    (None, 228, 300, 107, None),\n",
    "    (11696, 4856, 536, 17906, 30746),\n",
    "    (None, 32, 77, 15, None),\n",
    "    (4742, 3782, 1082, 6662, 8462),\n",
    "    (None, 212, 280, 100, None),\n",
    "    (10892, 4532, 452, 16652, 28652),\n",
    "    (None, 30, 72, 14, None),\n",
    "    (4442, 3542, 1022, 6242, 7922),\n",
    "    (None, 205, 272, 97, None),\n",
    "    (10575, 4425, 405, 16155, 27795),\n",
    "    (None, 29, 70, 13, None),\n",
    "    (4321, 3451, 991, 6121, 7681),\n",
    "    (None, 200, 276, 103, None),\n",
    "    (10440, 4440, -120, 15450, 27810),\n",
    "    (None, 29, 71, 14, None),\n",
    "    (4165, 3295, 775, 5905, 7585),\n",
    "    (None, 181, 249, 93, None),\n",
    "    (9401, 3971, -109, 13931, 25091),\n",
    "    (None, 26, 64, 12, None),\n",
    "    (3755, 2975, 695, 5375, 6815),\n",
    "    (None, 165, 227, 85, None),\n",
    "    (8499, 3549, -171, 12609, 22809),\n",
    "    (None, 23, 57, 11, None),\n",
    "    (3402, 2712, 672, 4812, 6132),\n",
    "    (None, 130, 178, 67, None),\n",
    "    (6672, 2772, -108, 9882, 17922),\n",
    "    (None, 18, 45, 9, None),\n",
    "    (2679, 2139, 519, 3759, 4839)\n",
    "]\n"
   ]
  },
  {
   "cell_type": "markdown",
   "metadata": {},
   "source": [
    "### 11. その他の基準一次エネルギー消費量 / Other standard primary energy consumption"
   ]
  },
  {
   "cell_type": "markdown",
   "metadata": {},
   "source": [
    "$$\n",
    "\\large \n",
    "E_{SM} = \\alpha_{SM} A_{A} + \\beta_{SM}\n",
    "$$"
   ]
  },
  {
   "cell_type": "code",
   "execution_count": null,
   "metadata": {},
   "outputs": [],
   "source": [
    "# 1年あたりのその他の基準一次エネルギー消費量 (9)\n",
    "def calc_E_SM(A_A):\n",
    "    \"\"\"\n",
    "    :param A_A: 床面積の合計(付録Aによる定まる値) (m2)\n",
    "    :return: 1年あたりのその他の基準一次エネルギー消費量 (MJ/年)\n",
    "    \"\"\"\n",
    "    # 係数 a_SM, b_SM\n",
    "    a_SM, b_SM = get_table5_coeff(A_A)\n",
    "\n",
    "    # 1年あたりのその他の基準一次エネルギー消費量 (9)\n",
    "    E_SM = get_E_SM(A_A, a_SM, b_SM)\n",
    "\n",
    "    return E_SM\n",
    "\n",
    "\n",
    "# 1年あたりのその他の基準一次エネルギー消費量 (9)\n",
    "def get_E_SM(A_A, a_SM, b_SM):\n",
    "    \"\"\"\n",
    "    :param A_A: 床面積の合計 (m2)\n",
    "    :param a_SM: 係数 (MJ/(m2・年))\n",
    "    :param b_SM: 係数 (MJ/年)\n",
    "    :return: 1年あたりのその他の基準一次エネルギー消費量 (MJ/年)\n",
    "    \"\"\"\n",
    "    E_SM = a_SM * A_A + b_SM\n",
    "    return E_SM"
   ]
  },
  {
   "cell_type": "markdown",
   "metadata": {},
   "source": [
    "$A_{A}$：床面積の合計(m<sup>2</sup>) / total floor area  \n",
    "$\\alpha_{SM}$：係数(MJ/(m<sup>2</sup>・年)) / coefficient  \n",
    "$\\beta_{SM}$：係数(MJ/年) / coefficient  "
   ]
  },
  {
   "cell_type": "markdown",
   "metadata": {},
   "source": [
    "<div style=\"text-align: center;font-weight: bold;\">表　その他の一次エネルギー消費量の算出に用いる係数$\\alpha_{SM}$・$\\beta_{SM}$<br>Table: Coefficients used to calculate other primary energy consumption $ \\alpha_ {SM} $ ・ $ \\beta_ {SM} $</div>\n",
    "\n",
    "<table>\n",
    "<thead>\n",
    "\t<tr>\n",
    "        <th rowspan=\"2\">係数<br>coefficient</th>\n",
    "\t\t<th colspan=\"5\" style=\"text-align: center;\">床面積の合計$A_{A}$の区分<br>Division of floor space total $ A_ {A} $</th>\n",
    "\t</tr>\n",
    "\t<tr>\n",
    "\t\t<th>（い）<br>床面積の<br>合計が<br>30m<sup>2</sup>未満<br>(I) total floor area is less than 30m<sup>2</sup></th>\n",
    "\t\t<th>（ろ）<br>床面積の<br>合計が<br>30m<sup>2</sup>以上<br>60m<sup>2</sup>未満<br>(RO)total floor area is more than 30m<sup>2</sup> and less than 60m<sup>2</sup></th>\n",
    "\t\t<th>（は）<br>床面積の<br>合計が<br>60m<sup>2</sup>以上<br>90m<sup>2</sup>未満<br>(HA)Total floor area is 60m<sup>2</sup> or more and less than 90m<sup>2</sup></th>\n",
    "\t\t<th>（に）<br>床面積の<br>合計が<br>90m<sup>2</sup>以上<br>120m<sup>2</sup>未満<br>(NI)Total floor area is 90m<sup>2</sup> or more and less than 120m<sup>2</sup></th>\n",
    "\t\t<th>（ほ）<br>床面積の<br>合計が<br>120m<sup>2</sup>以上<br>(HO)Total floor area is 120m<sup>2</sup></th>\n",
    "\t</tr>\n",
    "</thead>\n",
    "<tbody>\n",
    "\t<tr>\n",
    "\t\t<th>$\\alpha_{SM}$</th>\n",
    "\t\t<td>0</td>\n",
    "\t\t<td>87.63</td>\n",
    "\t\t<td>166.71</td>\n",
    "\t\t<td>47.64</td>\n",
    "\t\t<td>0</td>\n",
    "\t</tr>\n",
    "    <tr>\n",
    "\t\t<th>$\\beta_{SM}$</th>\n",
    "\t\t<td>12181.13</td>\n",
    "\t\t<td>9552.23</td>\n",
    "\t\t<td>4807.43</td>\n",
    "\t\t<td>15523.73</td>\n",
    "\t\t<td>21240.53</td>\n",
    "\t</tr>\n",
    "</tbody>\n",
    "</table>"
   ]
  },
  {
   "cell_type": "code",
   "execution_count": null,
   "metadata": {},
   "outputs": [],
   "source": [
    "def get_table5_coeff(A_A):\n",
    "    \"\"\"\n",
    "    :param A_A: 床面積の合計 (m2)\n",
    "    :return: 係数 a_SM, b_SM\n",
    "    \"\"\"\n",
    "    index = min(4, floor(A_A / 30))\n",
    "    a_SM = table_5[0][index]\n",
    "    b_SM = table_5[1][index]\n",
    "    return a_SM, b_SM\n",
    "\n",
    "\n",
    "# その他の一次エネルギー消費量の算出に用いる係数\n",
    "table_5 = [\n",
    "    (0, 87.63, 166.71, 47.64, 0),\n",
    "    (12181.13, 9552.23, 4807.43, 15523.73, 21240.53)\n",
    "]"
   ]
  },
  {
   "cell_type": "markdown",
   "metadata": {},
   "source": [
    "## 付録 A 暖冷房負荷と外皮性能の算定に係る設定 / Appendix A Settings pertaining to calculation of heating and cooling loads and shell performance"
   ]
  },
  {
   "cell_type": "markdown",
   "metadata": {},
   "source": [
    "### A.1 地域の区分 / Segmentation of area"
   ]
  },
  {
   "cell_type": "markdown",
   "metadata": {},
   "source": [
    "地域の区分は、当該住戸と同じとする。"
   ]
  },
  {
   "cell_type": "markdown",
   "metadata": {},
   "source": [
    "Division of area assumes that it is the same as the said dwelling unit."
   ]
  },
  {
   "cell_type": "code",
   "execution_count": null,
   "metadata": {},
   "outputs": [],
   "source": [
    "# 地域の区分\n",
    "def get_region(region):\n",
    "    return region"
   ]
  },
  {
   "cell_type": "markdown",
   "metadata": {},
   "source": [
    "### A.2 床面積の合計・主たる居室の床面積・その他の居室の床面積 / Total floor area, floor area of main living room, floor area of other living rooms"
   ]
  },
  {
   "cell_type": "markdown",
   "metadata": {},
   "source": [
    "床面積の合計、主たる居室の床面積およびその他の居室の床面積は、当該住戸と同じとする。 "
   ]
  },
  {
   "cell_type": "markdown",
   "metadata": {},
   "source": [
    "The total floor area, the floor area of the main living room, and the floor areas of other living rooms are the same as those of the dwelling unit."
   ]
  },
  {
   "cell_type": "code",
   "execution_count": null,
   "metadata": {},
   "outputs": [],
   "source": [
    "# 床面積の合計・主たる居室の面積・その他の居室の面積\n",
    "def get_A(A_A, A_MR, A_OR):\n",
    "    return A_A, A_MR, A_OR"
   ]
  },
  {
   "cell_type": "markdown",
   "metadata": {},
   "source": [
    "### A.3 外皮の部位の面積の合計 / Total area of the area of the hull"
   ]
  },
  {
   "cell_type": "markdown",
   "metadata": {},
   "source": [
    "第三章「暖冷房負荷と外皮性能」第二節「外皮性能」の「8. 当該住戸の外皮の部位の面積等を用いて外皮性能を評価する方法」を用いる場合、外皮の部位の面積の合計は、当該住戸と同じとする。第三章「暖冷房負荷と外皮性能」第二節「外皮性能」の「9. 当該住戸の外皮の部位の面積等を用いずに外皮性能を評価する方法」を用いる場合、外皮の部位の面積の合計は、標準住戸と同じとする。 "
   ]
  },
  {
   "cell_type": "markdown",
   "metadata": {},
   "source": [
    "When using “8. Method of evaluating skin performance using the area of the skin area of the relevant dwelling unit” in the third chapter “Heating and cooling load and shell performance”, Section 2 “The skin performance”, the area of the skin area The total of the same shall be the same as the dwelling unit concerned. When using “9. Method to evaluate the shell performance without using the area of the shell of the relevant dwelling unit” in the third chapter “Cooling load and shell performance”, Section 2 “The shell performance” The sum of the area is the same as the standard dwelling unit."
   ]
  },
  {
   "cell_type": "code",
   "execution_count": null,
   "metadata": {},
   "outputs": [],
   "source": [
    "def get_env_A(env_A):\n",
    "    return env_A"
   ]
  },
  {
   "cell_type": "markdown",
   "metadata": {},
   "source": [
    "### A.4 外皮平均熱貫流率・平均日射熱取得率  / Average heat transmission coefficient of heat transfer rate, average solar heat gain rate"
   ]
  },
  {
   "cell_type": "code",
   "execution_count": null,
   "metadata": {},
   "outputs": [],
   "source": [
    "def get_U_A(tatekata, region):\n",
    "    if tatekata == '戸建住宅':\n",
    "        return table_a_1[0][region - 1]\n",
    "    elif tatekata == '共同住宅':\n",
    "        return table_a_1[1][region - 1]\n",
    "    else:\n",
    "        raise ValueError(tatekata)\n",
    "\n",
    "\n",
    "def get_etr_A_H(tatekata, region):\n",
    "    if tatekata == '戸建住宅':\n",
    "        return table_a_1[2][region - 1]\n",
    "    elif tatekata == '共同住宅':\n",
    "        return table_a_1[3][region - 1]\n",
    "    else:\n",
    "        raise ValueError(tatekata)\n",
    "\n",
    "\n",
    "def get_etr_A_C(tatekata, region):\n",
    "    if tatekata == '戸建住宅':\n",
    "        return table_a_1[4][region - 1]\n",
    "    elif tatekata == '共同住宅':\n",
    "        return table_a_1[5][region - 1]\n",
    "    else:\n",
    "        raise ValueError(tatekata)\n",
    "\n",
    "\n",
    "table_a_1 = [\n",
    "    (0.46, 0.46, 0.56, 0.75, 0.87, 0.87, 0.87, 2.14),\n",
    "    (0.41, 0.41, 0.44, 0.69, 0.75, 0.75, 0.75, 1.67),\n",
    "    (2.5, 2.3, 2.7, 3.7, 4.5, 4.3, 4.6, None),\n",
    "    (1.5, 1.3, 1.5, 1.8, 2.1, 2.0, 2.1, None),\n",
    "    (1.9, 1.9, 2.0, 2.7, 3.0, 2.8, 2.7, 3.2),\n",
    "    (1.1, 1.1, 1.1, 1.4, 1.5, 1.4, 1.3, 2.4)\n",
    "]"
   ]
  },
  {
   "cell_type": "markdown",
   "metadata": {},
   "source": [
    "<div style=\"text-align: center;font-weight: bold;\">表　外皮平均熱貫流率および平均日射熱取得率<br>Table: Skin average heat transmission coefficient and average solar heat gain rate</div>\n",
    "\n",
    "<table>\n",
    "<thead>\n",
    "<tr>\n",
    "<th rowspan=\"2\">項目<br>item</th>\n",
    "<th rowspan=\"2\">住宅の種類<br>Housing type</th>\n",
    "<th colspan=\"8\">地域の区分<br>Segmentation of area</th>\n",
    "</tr>\n",
    "<tr>\n",
    "<th>1</th>\n",
    "<th>2</th>\n",
    "<th>3</th>\n",
    "<th>4</th>\n",
    "<th>5</th>\n",
    "<th>6</th>\n",
    "<th>7</th>\n",
    "<th>8</th>\n",
    "</tr>\n",
    "</thead>\n",
    "\n",
    "<tbody>\n",
    "<tr>\n",
    "<th rowspan=\"2\">外皮平均熱貫流率<br>Average heat penetration coefficient of skin</th>\n",
    "<th>戸建て<br>Detached house</th>\n",
    "<td>0.46</td><td>0.46</td><td>0.56</td><td>0.75</td><td>0.87</td><td>0.87</td><td>0.87</td><td>2.14</td>\n",
    "</tr>\n",
    "<tr>\n",
    "<th>共同<br>Shared housing</th>\n",
    "<td>0.41</td><td>0.41</td><td>0.44</td><td>0.69</td><td>0.75</td><td>0.75</td><td>0.75</td><td>1.67</td>\n",
    "</tr>\n",
    "<tr>\n",
    "<th rowspan=\"2\">暖房期の<br>平均日射取得率<br>Average solar radiation acquisition rate<br>during the heating season</th>\n",
    "<th>戸建て<br>Detached house</th>\n",
    "<td>2.5</td><td>2.3</td><td>2.7</td><td>3.7</td><td>4.5</td><td>4.3</td><td>4.6</td><td>―</td>\n",
    "</tr>\n",
    "<tr>\n",
    "<th>共同<br>Shared housing</th>\n",
    "<td>1.5</td><td>1.3</td><td>1.5</td><td>1.8</td><td>2.1</td><td>2.0</td><td>2.1</td><td>―</td>\n",
    "</tr>\n",
    "<tr>\n",
    "<th rowspan=\"2\">冷房期の<br>平均日射取得率<br>Average solar radiation acquisition rate<br>during the cooling season</th>\n",
    "<th>戸建て<br>Detached house</th>\n",
    "<td>1.9</td><td>1.9</td><td>2.0</td><td>2.7</td><td>3.0</td><td>2.8</td><td>2.7</td><td>3.2</td>\n",
    "</tr>\n",
    "<tr>\n",
    "<th>共同<br>Shared housing</th>\n",
    "<td>1.1</td><td>1.1</td><td>1.1</td><td>1.4</td><td>1.5</td><td>1.4</td><td>1.3</td><td>2.4</td>\n",
    "</tr>\n",
    "</tbody>\n",
    "</table>\n"
   ]
  },
  {
   "cell_type": "markdown",
   "metadata": {},
   "source": [
    "### A.5 通風の利用 / Use of ventilation "
   ]
  },
  {
   "cell_type": "markdown",
   "metadata": {},
   "source": [
    "通風の利用は、主たる居室・その他の居室ともになしとする。 "
   ]
  },
  {
   "cell_type": "markdown",
   "metadata": {},
   "source": [
    "Use of ventilation is considered as none of the main room and other rooms."
   ]
  },
  {
   "cell_type": "code",
   "execution_count": null,
   "metadata": {},
   "outputs": [],
   "source": [
    "def get_NV():\n",
    "    return 0, 0"
   ]
  },
  {
   "cell_type": "markdown",
   "metadata": {},
   "source": [
    "### A.6 蓄熱の利用 / Use of heat storage"
   ]
  },
  {
   "cell_type": "markdown",
   "metadata": {},
   "source": [
    "蓄熱の利用は、なしとする。 "
   ]
  },
  {
   "cell_type": "markdown",
   "metadata": {},
   "source": [
    "Use of heat storage is assumed to be none."
   ]
  },
  {
   "cell_type": "code",
   "execution_count": null,
   "metadata": {},
   "outputs": [],
   "source": [
    "def get_thermal_storage():\n",
    "    return False"
   ]
  },
  {
   "cell_type": "markdown",
   "metadata": {},
   "source": [
    "### A.7 床下空間を経由して外気を導入する換気方式の採用 / Adoption of ventilation system to introduce outside air via underfloor space"
   ]
  },
  {
   "cell_type": "markdown",
   "metadata": {},
   "source": [
    "床下空間を経由して外気を導入する換気方式の採用は、なしとする。 "
   ]
  },
  {
   "cell_type": "markdown",
   "metadata": {},
   "source": [
    "There is no adoption of a ventilation system that introduces outside air via the floor space."
   ]
  },
  {
   "cell_type": "code",
   "execution_count": null,
   "metadata": {},
   "outputs": [],
   "source": [
    "def get_underfloor_ventilation():\n",
    "    return False"
   ]
  },
  {
   "cell_type": "markdown",
   "metadata": {},
   "source": [
    "### A.8 熱交換型換気の採用 / Adoption of heat exchange type ventilation "
   ]
  },
  {
   "cell_type": "markdown",
   "metadata": {},
   "source": [
    "熱交換型換気の採用は、なしとする。 "
   ]
  },
  {
   "cell_type": "markdown",
   "metadata": {},
   "source": [
    "Adoption of heat exchange type ventilation is none."
   ]
  },
  {
   "cell_type": "code",
   "execution_count": null,
   "metadata": {},
   "outputs": [],
   "source": [
    "def get_heatexchanger():\n",
    "    return False"
   ]
  },
  {
   "cell_type": "markdown",
   "metadata": {},
   "source": [
    "## 付録 B 暖房設備の基準一次エネルギー消費量の算定に係る設定 / Appendix B Setting concerning calculation of standard primary energy consumption of heating installation"
   ]
  },
  {
   "cell_type": "markdown",
   "metadata": {},
   "source": [
    "省略"
   ]
  },
  {
   "cell_type": "markdown",
   "metadata": {},
   "source": [
    "Omission"
   ]
  },
  {
   "cell_type": "markdown",
   "metadata": {},
   "source": [
    "## 付録 C 冷房設備の基準一次エネルギー消費量の算定に係る設定 / Appendix C Setting concerning calculation of standard primary energy consumption of cooling system"
   ]
  },
  {
   "cell_type": "markdown",
   "metadata": {},
   "source": [
    "### C.1 冷房方式 / Cooling method"
   ]
  },
  {
   "cell_type": "markdown",
   "metadata": {},
   "source": [
    "省略"
   ]
  },
  {
   "cell_type": "markdown",
   "metadata": {},
   "source": [
    "Omission"
   ]
  },
  {
   "cell_type": "markdown",
   "metadata": {},
   "source": [
    "### C.2 標準的な冷房設備 / Standard cooling equipment"
   ]
  },
  {
   "cell_type": "markdown",
   "metadata": {},
   "source": [
    "#### C.2.1 冷房設備の種類 / Type of cooling system"
   ]
  },
  {
   "cell_type": "markdown",
   "metadata": {},
   "source": [
    "<div style=\"text-align: center;font-weight: bold;\">表　冷房設備の種類<br>Table: Types of cooling equipment</div>\n",
    "\n",
    "<table>\n",
    "<thead>\n",
    "<tr>\n",
    "<th rowspan=\"4\">地域の区分<br>Segmentation of area</th>\n",
    "<th colspan=\"5\" style=\"text-align: center;\">冷房方式<br>Cooling method</th>\n",
    "</tr>\n",
    "<tr>\n",
    "<th rowspan=\"3\" style=\"vertical-align: top;\">住戸全体を連続的に<br>冷房する方式<br>A method of continuously cooling<br>the entire dwelling unit</th>\n",
    "<th colspan=\"4\" style=\"text-align: center;vertical-align: top;\">居室のみを冷房する方式<br>Method of cooling only the room</th>\n",
    "</tr>\n",
    "<tr>\n",
    "<th colspan=\"2\" style=\"text-align: center;\">主たる居室<br>Main room</th>\n",
    "<th colspan=\"2\" style=\"text-align: center;\">主たる居室以外の居室<br>Rooms other than the main room</th>\n",
    "</tr>\n",
    "<tr>\n",
    "<th style=\"text-align: center;\">連続運転<br>Continuous operation</th>\n",
    "<th style=\"text-align: center;\">間歇運転<br>Intermittent operation</th>\n",
    "<th style=\"text-align: center;\">連続運転<br>Continuous operation</th>\n",
    "<th style=\"text-align: center;\">間歇運転<br>Intermittent operation</th>\n",
    "</tr>\n",
    "</thead>\n",
    "\n",
    "<tbody>\n",
    "<tr>\n",
    "<th>1～8</th>\n",
    "<td>ダクト式セントラル空調機<br>Duct type central air conditioner</td>\n",
    "<td>‐</td>\n",
    "<td>ルームエア<br>コンディショナー<br>Room air conditioner</td>\n",
    "<td>‐</td>\n",
    "<td>ルームエア<br>コンディショナー<br>Room air conditioner</td>\n",
    "</tr>\n",
    "</tbody>\n",
    "</table>"
   ]
  },
  {
   "cell_type": "markdown",
   "metadata": {},
   "source": [
    "#### C.2.2 ダクト式セントラル空調機 / Duct type central air conditioner\t"
   ]
  },
  {
   "cell_type": "markdown",
   "metadata": {},
   "source": [
    "省略"
   ]
  },
  {
   "cell_type": "markdown",
   "metadata": {},
   "source": [
    "Omission"
   ]
  },
  {
   "cell_type": "markdown",
   "metadata": {},
   "source": [
    "#### C.2.3 ルームエアコンディショナー / Room air conditioner"
   ]
  },
  {
   "cell_type": "markdown",
   "metadata": {},
   "source": [
    "省略"
   ]
  },
  {
   "cell_type": "markdown",
   "metadata": {},
   "source": [
    "Omission"
   ]
  },
  {
   "cell_type": "code",
   "execution_count": null,
   "metadata": {},
   "outputs": [],
   "source": [
    "# 表 C.1 冷房設備の種類\n",
    "table_c_1 = [\n",
    "    ('ダクト式セントラル空調機', None, 'ルームエアコンディショナー', None, 'ルームエアコンディショナー')\n",
    "]"
   ]
  },
  {
   "cell_type": "markdown",
   "metadata": {},
   "source": [
    "\n",
    "\n",
    "\n",
    "\n",
    "\n",
    "\n",
    "\n",
    "\n",
    "\n",
    "\n",
    "\n",
    "\n",
    "\n",
    "\n",
    "\n",
    "\n",
    "\n",
    "\n",
    "\n",
    "\n",
    "\n",
    "\n",
    "\n",
    "\n",
    "\n",
    "\n",
    "\n",
    "\n",
    "\n",
    "\n"
   ]
  }
 ],
 "metadata": {
  "kernelspec": {
   "display_name": "Python 3",
   "language": "python",
   "name": "python3"
  },
  "language_info": {
   "codemirror_mode": {
    "name": "ipython",
    "version": 3
   },
   "file_extension": ".py",
   "mimetype": "text/x-python",
   "name": "python",
   "nbconvert_exporter": "python",
   "pygments_lexer": "ipython3",
   "version": "3.6.7"
  }
 },
 "nbformat": 4,
 "nbformat_minor": 2
}
