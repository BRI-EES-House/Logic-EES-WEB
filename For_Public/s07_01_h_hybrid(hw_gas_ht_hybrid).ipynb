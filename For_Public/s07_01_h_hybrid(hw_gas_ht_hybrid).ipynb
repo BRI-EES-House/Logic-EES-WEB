{
 "cells": [
  {
   "cell_type": "code",
   "execution_count": null,
   "metadata": {},
   "outputs": [],
   "source": [
    "import numpy as np\n",
    "\n",
    "import section7_1_c as gas"
   ]
  },
  {
   "cell_type": "markdown",
   "metadata": {},
   "source": [
    "## 付録H　電気ヒートポンプ・ガス瞬間式併用型給湯温水暖房機（給湯熱源：ガス瞬間式、暖房熱源：電気ヒートポンプ・ガス瞬間式併用）"
   ]
  },
  {
   "cell_type": "markdown",
   "metadata": {},
   "source": [
    "電気ヒートポンプ・ガス瞬間式併用型給湯温水暖房機（給湯熱源：ガス瞬間式、暖房熱源：電気ヒートポンプ・ガス瞬間式併用）の給湯部の給湯機の効率を0.866（86.6%）とする。 "
   ]
  },
  {
   "cell_type": "code",
   "execution_count": null,
   "metadata": {},
   "outputs": [],
   "source": [
    "# 1日当たりの給湯機の消費電力量\n",
    "def get_E_E_hs(W_dash_k_d_t, W_dash_s_d_t, W_dash_w_d_t, W_dash_b1_d_t, W_dash_b2_d_t, W_dash_ba1_d_t, Theta_ex_Ave_d, L_dashdash_ba2_d_t):\n",
    "    \"\"\"\n",
    "    :param W_dash_k_d_t: 1日当たりの台所水栓における節湯補正給湯量 (L/d)\n",
    "    :param W_dash_s_d_t: 1日当たりの浴室シャワー水栓における節湯補正給湯量 (L/d)\n",
    "    :param W_dash_w_d_t: 1日当たりの洗面水栓における節湯補正給湯量 (L/d)\n",
    "    :param W_dash_b1_d_t: 1日当たりの浴槽水栓湯はり時における節湯補正給湯量 (L/d)\n",
    "    :param W_dash_b2_d_t: 1日当たりの浴槽追焚時における節湯補正給湯量 (L/d)\n",
    "    :param W_dash_ba1_d_t: 1日当たりの浴槽水栓さし湯時における節湯補正給湯量 (L/d)\n",
    "    :param Theta_ex_Ave_d: 日平均外気温度 (℃)\n",
    "    :param L_dashdash_ba2_d_t: 1日当たりの浴槽追焚時における太陽熱補正給湯熱負荷 (MJ/d)\n",
    "    :return: 1日当たりの給湯機の消費電力量 (kWh/d)\n",
    "    \"\"\"\n",
    "    return gas.get_E_E_hs_d_t(\n",
    "        W_dash_k_d_t=W_dash_k_d_t,\n",
    "        W_dash_s_d_t=W_dash_s_d_t,\n",
    "        W_dash_w_d_t=W_dash_w_d_t,\n",
    "        W_dash_b1_d_t=W_dash_b1_d_t,\n",
    "        W_dash_b2_d_t=W_dash_b2_d_t,\n",
    "        W_dash_ba1_d_t=W_dash_ba1_d_t,\n",
    "        Theta_ex_Ave_d=Theta_ex_Ave_d,\n",
    "        L_dashdash_ba2_d_t=L_dashdash_ba2_d_t\n",
    "    )\n",
    "\n",
    "\n",
    "# 1日当たりの給湯機のガス消費量\n",
    "def get_E_G_hs(Theta_ex_Ave, L_dashdash_k, L_dashdash_s, L_dashdash_w, L_dashdash_b1, L_dashdash_b2,\n",
    "               L_dashdash_ba1, L_dashdash_ba2, bath_function):\n",
    "    \"\"\"\n",
    "    :param Theta_ex_Ave: 日平均外気温度 (℃)\n",
    "    :param L_dash_k_d: 1日当たりの台所水栓における節湯補正給湯熱負荷 (MJ/d)\n",
    "    :param L_dash_s_d: 1日当たりの浴室シャワー水栓における節湯補正給湯熱負荷 (MJ/d)\n",
    "    :param L_dash_w_d: 1日当たりの洗面水栓における節湯補正給湯熱負荷 (MJ/d)\n",
    "    :param L_dash_b1_d: 1日当たりの浴槽水栓湯はり時における節湯補正給湯熱負荷 (MJ/d)\n",
    "    :param L_dash_b2_d: 1日当たりの浴槽追焚時における節湯補正給湯熱負荷 (MJ/d)\n",
    "    :param L_dash_ba1_d: 1日当たりの浴槽水栓さし湯時における節湯補正給湯熱負荷 (MJ/d)\n",
    "    :param L_dash_ba2_d: 1日当たりの浴槽追焚時における節湯補正給湯熱負荷 (MJ/d)\n",
    "    :param L_HWH: 1日当たりの温水暖房の熱負荷 (MJ/d)\n",
    "    :param bath_function: ふろ機能の種類\n",
    "    :return: 1日当たりの給湯機のガス消費量 (MJ/d)\n",
    "    \"\"\"\n",
    "    return gas.get_E_G_hs_d_t(\n",
    "        hw_type=None,\n",
    "        Theta_ex_Ave_d=Theta_ex_Ave,\n",
    "        L_dashdash_k_d_t=L_dashdash_k,\n",
    "        L_dashdash_s_d_t=L_dashdash_s,\n",
    "        L_dashdash_w_d_t=L_dashdash_w,\n",
    "        L_dashdash_b1_d_t=L_dashdash_b1,\n",
    "        L_dashdash_b2_d_t=L_dashdash_b2,\n",
    "        L_dashdash_ba1_d_t=L_dashdash_ba1,\n",
    "        L_dashdash_ba2_d_t=L_dashdash_ba2,\n",
    "        bath_function=bath_function,\n",
    "        e_rtd=0.866\n",
    "    )\n",
    "\n",
    "\n",
    "# 1日当たりの給湯機の灯油消費量\n",
    "def get_E_K_hs():\n",
    "    # 1日当たりの給湯機の灯油消費量は0とする\n",
    "    return gas.get_E_K_hs_d_t()"
   ]
  }
 ],
 "metadata": {
  "kernelspec": {
   "display_name": "Python 3",
   "language": "python",
   "name": "python3"
  },
  "language_info": {
   "codemirror_mode": {
    "name": "ipython",
    "version": 3
   },
   "file_extension": ".py",
   "mimetype": "text/x-python",
   "name": "python",
   "nbconvert_exporter": "python",
   "pygments_lexer": "ipython3",
   "version": "3.7.3"
  }
 },
 "nbformat": 4,
 "nbformat_minor": 2
}
