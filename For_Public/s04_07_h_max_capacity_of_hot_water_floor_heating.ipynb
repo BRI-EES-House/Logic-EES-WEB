{
 "cells": [
  {
   "cell_type": "code",
   "execution_count": null,
   "metadata": {},
   "outputs": [],
   "source": [
    "from section3_1 import get_A_HCZ_i"
   ]
  },
  {
   "cell_type": "markdown",
   "metadata": {},
   "source": [
    "## 付録H　温水暖房用熱源機の最大能力"
   ]
  },
  {
   "cell_type": "markdown",
   "metadata": {},
   "source": [
    "### H.1 記号及び単位"
   ]
  },
  {
   "cell_type": "markdown",
   "metadata": {},
   "source": [
    "省略"
   ]
  },
  {
   "cell_type": "markdown",
   "metadata": {},
   "source": [
    "### H.2 温水暖房用熱源機の最大能力"
   ]
  },
  {
   "cell_type": "markdown",
   "metadata": {},
   "source": [
    "$$\\large\n",
    "q_{max,hs} = q_{rq,H} \\times \\sum_{i} A_{HCZ,i} \\times f_{cT} \\times f_{cI}\n",
    "$$"
   ]
  },
  {
   "cell_type": "markdown",
   "metadata": {},
   "source": [
    "$q_{max,hs}$：温水暖房用熱源機の最大能力(W)  \n",
    "$q_{rq,H}$：単位面積当たりの必要暖房能力(W/m<sup>2</sup>)  \n",
    "$A_{HCZ,i}$：暖冷房区画$i$の床面積(m<sup>2</sup>)  \n",
    "$f_{cT}$：外気温度能力補正係数  \n",
    "$f_{cI}$：間歇運転能力補正係数"
   ]
  },
  {
   "cell_type": "code",
   "execution_count": null,
   "metadata": {},
   "outputs": [],
   "source": [
    "# 温水暖房用熱源機の最大能力 (1)\n",
    "def get_q_max_hs(region, A_A, A_MR, A_OR, mode_MR, mode_OR, has_MR_hwh, has_OR_hwh):\n",
    "    \"\"\"\n",
    "    :param region: 省エネルギー地域区分\n",
    "    :param A_A: 床面積の合計 (m2)\n",
    "    :param A_MR: 主たる居室の床面積 (m2)\n",
    "    :param A_OR: その他の居室の床面積 (m2)\n",
    "    :param has_MR_hwh: 温水暖房の放熱器を主たる居室に設置する場合はTrue\n",
    "    :param has_OR_hwh: 温水暖房の放熱器をその他の居室に設置する場合はTrue\n",
    "    :param has_MR_hwh: 温水暖房の放熱器を主たる居室に設置する場合はTrue\n",
    "    :param has_OR_hwh: 温水暖房の放熱器をその他の居室に設置する場合はTrue\n",
    "    :return: 温水暖房用熱源機の最大能力 (W)\n",
    "    \"\"\"\n",
    "    # 単位面積当たりの必要暖房能力\n",
    "    q_rq_H = get_q_rq_H(region, has_MR_hwh, has_OR_hwh)\n",
    "\n",
    "    # 外気温度補正係数\n",
    "    f_cT = get_f_cT()\n",
    "\n",
    "    # 間歇運転能力補正係数\n",
    "    f_cI = get_f_cI(mode_MR, mode_OR, has_MR_hwh, has_OR_hwh)\n",
    "\n",
    "    # 暖冷房区画の床面積(温水暖房により暖 房される暖冷房区画のみを積算する)\n",
    "    A_HCZ_hs = 0\n",
    "    if has_MR_hwh:\n",
    "        A_HCZ_hs = get_A_HCZ_i(1, A_A, A_MR, A_OR)\n",
    "    if has_OR_hwh:\n",
    "        A_HCZ_hs = A_HCZ_hs + sum([get_A_HCZ_i(i, A_A, A_MR, A_OR) for i in range(2, 6)])\n",
    "\n",
    "    return q_rq_H * A_HCZ_hs * f_cT * f_cI\n",
    "\n",
    "\n",
    "# 単位面積当たりの必要暖房能力\n",
    "def get_q_rq_H(region, has_MR_hwh, has_OR_hwh):\n",
    "    \"\"\"\n",
    "    :param region: 省エネルギー地域区分\n",
    "    :param has_MR_hwh: 温水暖房の放熱器を主たる居室に設置する場合はTrue\n",
    "    :param has_OR_hwh: 温水暖房の放熱器をその他の居室に設置する場合はTrue\n",
    "    :return: 単位面積当たりの必要暖房能力 (W/m2)\n",
    "    \"\"\"\n",
    "    if has_MR_hwh and has_OR_hwh:\n",
    "        return table_h_3[region - 1][0]\n",
    "    elif has_MR_hwh:\n",
    "        return table_h_3[region - 1][1]\n",
    "    elif has_OR_hwh:\n",
    "        return table_h_3[region - 1][2]\n",
    "    else:\n",
    "        raise ValueError('温水暖房の放熱器を主たる居室にもその他の居室にも設置しない場合の単位面積当たりの必要暖房能力は定義されません。')\n"
   ]
  },
  {
   "cell_type": "markdown",
   "metadata": {},
   "source": [
    "外気温度補正係数$f_{cT}$は、1.05の値とする。"
   ]
  },
  {
   "cell_type": "code",
   "execution_count": null,
   "metadata": {},
   "outputs": [],
   "source": [
    "# 外気温度補正係数\n",
    "def get_f_cT():\n",
    "    return 1.05"
   ]
  },
  {
   "cell_type": "code",
   "execution_count": null,
   "metadata": {},
   "outputs": [],
   "source": [
    "# 間歇運転能力補正係数\n",
    "def get_f_cI(mode_MR, mode_OR, has_MR_hwh, has_OR_hwh):\n",
    "    \"\"\"\n",
    "    :param mode_MR: 主たる居室の運転方法 (連続運転|間歇運転)\n",
    "    :param mode_OR: その他の居室の運転方法 (連続運転|間歇運転)\n",
    "    :param has_MR_hwh: 温水暖房の放熱器を主たる居室に設置する場合はTrue\n",
    "    :param has_OR_hwh: 温水暖房の放熱器をその他の居室に設置する場合はTrue\n",
    "    :return: 間歇運転能力補正係数\n",
    "    \"\"\"\n",
    "\n",
    "    def normalize_mode(s):\n",
    "        if s == 'は':\n",
    "            return '間歇運転'\n",
    "        if s == 'ろ':\n",
    "            return '連続運転'\n",
    "        return s\n",
    "\n",
    "    mode_MR = normalize_mode(mode_MR)\n",
    "    mode_OR = normalize_mode(mode_OR)\n",
    "\n",
    "    if has_MR_hwh and has_OR_hwh:\n",
    "        if mode_MR == '連続運転':\n",
    "            if mode_OR == '連続運転':\n",
    "                return table_h_4[0]\n",
    "            elif mode_OR == '間歇運転':\n",
    "                return table_h_4[1]\n",
    "            else:\n",
    "                raise ValueError(mode_OR)\n",
    "        elif mode_MR == '間歇運転':\n",
    "            if mode_OR == '連続運転':\n",
    "                return table_h_4[2]\n",
    "            elif mode_OR == '間歇運転':\n",
    "                return table_h_4[3]\n",
    "            else:\n",
    "                raise ValueError(mode_MR)\n",
    "        else:\n",
    "            raise ValueError(mode_MR)\n",
    "    elif has_MR_hwh:\n",
    "        if mode_MR == '連続運転':\n",
    "            return table_h_4[4]\n",
    "        elif mode_MR == '間歇運転':\n",
    "            return table_h_4[5]\n",
    "        else:\n",
    "            raise ValueError(mode_MR)\n",
    "    elif has_OR_hwh:\n",
    "        if mode_OR == '連続運転':\n",
    "            return table_h_4[6]\n",
    "        elif mode_OR == '間歇運転':\n",
    "            return table_h_4[7]\n",
    "        else:\n",
    "            raise ValueError(mode_OR)"
   ]
  },
  {
   "cell_type": "markdown",
   "metadata": {},
   "source": [
    "<div style=\"text-align: center;font-weight: bold;\">表　単位面積当たりの必要暖房能力(W/m<sup>2</sup>)</div>\n",
    "\n",
    "|地域の区分|（い）温水暖房の放熱器を主たる居室及びその他の居室に設置する場合|（ろ）温水暖房の放熱器を主たる居室に設置しその他の居室に設置しない場合|（は）温水暖房の放熱器を主たる居室に設置せずその他の居室に設置する場合|\n",
    "|-|-|-|-|\n",
    "|1|90.02|139.26|62.28|\n",
    "|2|77.81|120.65|53.26|\n",
    "|3|73.86|111.32|53.81|\n",
    "|4|77.74|118.98|55.41|\n",
    "|5|83.24|126.56|59.43|\n",
    "|6|69.76|106.48|49.93|\n",
    "|7|74.66|112.91|53.48|\n",
    "|8|－|－|－|\n"
   ]
  },
  {
   "cell_type": "code",
   "execution_count": null,
   "metadata": {},
   "outputs": [],
   "source": [
    "# 表 H.3 単位面積当たりの必要暖房能力\n",
    "table_h_3 = [\n",
    "    (90.02, 139.26, 62.28),\n",
    "    (77.81, 120.65, 53.26),\n",
    "    (73.86, 111.32, 53.81),\n",
    "    (77.74, 118.98, 55.41),\n",
    "    (83.24, 126.56, 59.43),\n",
    "    (69.76, 106.48, 49.94),\n",
    "    (74.66, 112.91, 53.48)\n",
    "]"
   ]
  },
  {
   "cell_type": "markdown",
   "metadata": {},
   "source": [
    "<div style=\"text-align: center;font-weight: bold;\">表　間歇運転能力補正係数</div>\n",
    "\n",
    "|主たる居室の運転方法|その他の居室の運転方法|間歇運転能力補正係数|\n",
    "|-|-|-|\n",
    "|連続運転|連続運転|1.0|\n",
    "|連続運転|間歇運転|1.0|\n",
    "|間歇運転|連続運転|2.25|\n",
    "|間歇運転|間歇運転|2.25|\n",
    "|連続運転|放熱器を設置しない<sup>※</sup>|1.0|\n",
    "|間歇運転|放熱器を設置しない<sup>※</sup>|3.03|\n",
    "|放熱器を設置しない|連続運転|1.0|\n",
    "|放熱器を設置しない|間歇運転|1.62|\n"
   ]
  },
  {
   "cell_type": "markdown",
   "metadata": {},
   "source": [
    "※ その他の居室が無い場合も含む。 "
   ]
  },
  {
   "cell_type": "code",
   "execution_count": 1,
   "metadata": {},
   "outputs": [],
   "source": [
    "# 表 H.4 間歇運転能力補正係数\n",
    "table_h_4 = [\n",
    "    1.0,\n",
    "    1.0,\n",
    "    2.25,\n",
    "    2.25,\n",
    "    1.0,\n",
    "    3.03,\n",
    "    1.0,\n",
    "    1.62\n",
    "]"
   ]
  }
 ],
 "metadata": {
  "kernelspec": {
   "display_name": "Python 3",
   "language": "python",
   "name": "python3"
  },
  "language_info": {
   "codemirror_mode": {
    "name": "ipython",
    "version": 3
   },
   "file_extension": ".py",
   "mimetype": "text/x-python",
   "name": "python",
   "nbconvert_exporter": "python",
   "pygments_lexer": "ipython3",
   "version": "3.6.4"
  }
 },
 "nbformat": 4,
 "nbformat_minor": 2
}
