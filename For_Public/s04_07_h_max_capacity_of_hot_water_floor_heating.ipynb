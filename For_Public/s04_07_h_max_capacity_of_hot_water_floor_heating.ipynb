{
 "cells": [
  {
   "cell_type": "markdown",
   "metadata": {},
   "source": [
    "### 付録H　温水暖房用熱源機の最大能力"
   ]
  },
  {
   "cell_type": "markdown",
   "metadata": {},
   "source": [
    "#### H.1 記号及び単位"
   ]
  },
  {
   "cell_type": "markdown",
   "metadata": {},
   "source": [
    "省略"
   ]
  },
  {
   "cell_type": "markdown",
   "metadata": {},
   "source": [
    "#### H.2 温水暖房用熱源機の最大能力"
   ]
  },
  {
   "cell_type": "markdown",
   "metadata": {},
   "source": [
    "$$\\large\n",
    "q_{max,hs} = q_{rq,H} \\times \\sum_{i} A_{HCZ,i} \\times f_{cT} \\times f_{cI}\n",
    "$$"
   ]
  },
  {
   "cell_type": "markdown",
   "metadata": {},
   "source": [
    "$q_{max,hs}$：温水暖房用熱源機の最大能力(W)  \n",
    "$q_{rq,H}$：単位面積当たりの必要暖房能力(W/m<sup>2</sup>)  \n",
    "$A_{HCZ,i}$：暖冷房区画$i$の床面積(m<sup>2</sup>)  \n",
    "$f_{cT}$：外気温度能力補正係数  \n",
    "$f_{cI}$：間歇運転能力補正係数"
   ]
  },
  {
   "cell_type": "markdown",
   "metadata": {},
   "source": [
    "外気温度補正係数$f_{cT}$は、1.05の値とする。"
   ]
  },
  {
   "cell_type": "markdown",
   "metadata": {},
   "source": [
    "<div style=\"text-align: center;font-weight: bold;\">表　単位面積当たりの必要暖房能力(W/m<sup>2</sup>)</div>\n",
    "\n",
    "|地域の区分|（い）温水暖房の放熱器を主たる居室及びその他の居室に設置する場合|（ろ）温水暖房の放熱器を主たる居室に設置しその他の居室に設置しない場合|（は）温水暖房の放熱器を主たる居室に設置せずその他の居室に設置する場合|\n",
    "|-|-|-|-|\n",
    "|1|90.02|139.26|62.28|\n",
    "|2|77.81|120.65|53.26|\n",
    "|3|73.86|111.32|53.81|\n",
    "|4|77.74|118.98|55.41|\n",
    "|5|83.24|126.56|59.43|\n",
    "|6|69.76|106.48|49.93|\n",
    "|7|74.66|112.91|53.48|\n",
    "|8|－|－|－|\n"
   ]
  },
  {
   "cell_type": "markdown",
   "metadata": {},
   "source": [
    "<div style=\"text-align: center;font-weight: bold;\">表　間歇運転能力補正係数</div>\n",
    "\n",
    "|主たる居室の運転方法|その他の居室の運転方法|間歇運転能力補正係数|\n",
    "|-|-|-|\n",
    "|連続運転|連続運転|1.0|\n",
    "|連続運転|間歇運転|1.0|\n",
    "|間歇運転|連続運転|2.25|\n",
    "|間歇運転|間歇運転|2.25|\n",
    "|連続運転|放熱器を設置しない<sup>※</sup>|1.0|\n",
    "|間歇運転|放熱器を設置しない<sup>※</sup>|3.03|\n",
    "|放熱器を設置しない|連続運転|1.0|\n",
    "|放熱器を設置しない|間歇運転|1.62|\n"
   ]
  },
  {
   "cell_type": "markdown",
   "metadata": {},
   "source": [
    "※ その他の居室が無い場合も含む。 "
   ]
  }
 ],
 "metadata": {
  "kernelspec": {
   "display_name": "Python 3",
   "language": "python",
   "name": "python3"
  },
  "language_info": {
   "codemirror_mode": {
    "name": "ipython",
    "version": 3
   },
   "file_extension": ".py",
   "mimetype": "text/x-python",
   "name": "python",
   "nbconvert_exporter": "python",
   "pygments_lexer": "ipython3",
   "version": "3.6.7"
  }
 },
 "nbformat": 4,
 "nbformat_minor": 2
}
