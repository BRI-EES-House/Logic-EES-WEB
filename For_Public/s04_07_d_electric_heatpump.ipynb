{
 "cells": [
  {
   "cell_type": "code",
   "execution_count": null,
   "metadata": {},
   "outputs": [],
   "source": [
    "import section4_7_h as appendix_H\n",
    "\n",
    "import numpy as np"
   ]
  },
  {
   "cell_type": "markdown",
   "metadata": {},
   "source": [
    "## 付録D　電気ヒートポンプ温水暖房機（フロン系） / Appendix D Electric heat pump water heater (fluorocarbon type)"
   ]
  },
  {
   "cell_type": "markdown",
   "metadata": {},
   "source": [
    "### D.1 記号及び単位 / Symbol and unit"
   ]
  },
  {
   "cell_type": "markdown",
   "metadata": {},
   "source": [
    "省略"
   ]
  },
  {
   "cell_type": "markdown",
   "metadata": {},
   "source": [
    "ommision"
   ]
  },
  {
   "cell_type": "markdown",
   "metadata": {},
   "source": [
    "### D.2 エネルギー消費量 / Energy consumption"
   ]
  },
  {
   "cell_type": "markdown",
   "metadata": {},
   "source": [
    "#### D.2.1 消費電力量 / Power consumption"
   ]
  },
  {
   "cell_type": "markdown",
   "metadata": {},
   "source": [
    "$$\\large\n",
    "E_{E,hs} = \\frac{Q_{out,H,hs}}{e_{hs}} \\times 10^{3} \\div 3600\n",
    "$$"
   ]
  },
  {
   "cell_type": "markdown",
   "metadata": {},
   "source": [
    "$E_{E,hs}$：1 時間当たりの温水暖房用熱源機の消費電力量(kWh/h) / Power consumption of the hot water heating heat source unit per hour  \n",
    "$Q_{out,H,hs}$：1 時間当たりの温水暖房用熱源機の暖房出力(MJ/h) / Heating output of the heat source machine for hot water heating per hour  \n",
    "$e_{hs}$：1 時間平均の温水暖房用熱源機の効率 / 1 hour average hot water heating heat source machine efficiency"
   ]
  },
  {
   "cell_type": "code",
   "execution_count": null,
   "metadata": {},
   "outputs": [],
   "source": [
    "# 1時間当たりの消費電力量 (1)\n",
    "def get_E_E_hs(Q_out_H_hs, Q_max_H_hs, Q_dmd_H_hs_d_t, Theta_SW_hs, Theta_ex, q_rtd_hs):\n",
    "    # 定格効率\n",
    "    e_rtd = get_e_rtd()\n",
    "\n",
    "    # 定格消費電力\n",
    "    P_rtd_hs = get_P_rtd_hs(q_rtd_hs, e_rtd)\n",
    "\n",
    "    # 1 時間平均の温水暖房用熱源機の効率\n",
    "    e_hs = get_e_hs(Q_max_H_hs, Theta_SW_hs, Theta_ex, Q_out_H_hs, P_rtd_hs)\n",
    "\n",
    "    # 消費電力量\n",
    "    E_E_hs = Q_out_H_hs / e_hs * 10 ** 3 / 3600\n",
    "    E_E_hs[Q_dmd_H_hs_d_t == 0] = 0\n",
    "\n",
    "    return E_E_hs"
   ]
  },
  {
   "cell_type": "markdown",
   "metadata": {},
   "source": [
    "$$\\large\n",
    "e_{hs} = \\frac{Q_{max,H,hs} \\times 10^{6} \\div 3600}{P_{max,hs}} \\times er_{hs}\n",
    "$$"
   ]
  },
  {
   "cell_type": "markdown",
   "metadata": {},
   "source": [
    "$Q_{max,H,hs}$：1 時間当たりの温水暖房用熱源機の暖房出力(MJ/h) / Heating output of the heat source machine for hot water heating per hour  \n",
    "$P_{max,hs}$：温水暖房用熱源機の最大消費電力(W) / Maximum power consumption of heat source equipment for hot water heating  \n",
    "$er_{hs}$：1 時間平均の温水暖房用熱源機の効率比 / 1 hour average efficiency ratio of hot water heating heat source machine"
   ]
  },
  {
   "cell_type": "code",
   "execution_count": null,
   "metadata": {},
   "outputs": [],
   "source": [
    "# 1 時間平均の温水暖房用熱源機の効率 (2)\n",
    "def get_e_hs(Q_max_H_hs, Theta_SW_hs, Theta_ex, Q_out_H_hs, P_rtd_hs):\n",
    "\n",
    "    # 1時間平均の効率比\n",
    "    e_r_hs = get_e_r_hs(Theta_SW_hs, Theta_ex, Q_out_H_hs, Q_max_H_hs)\n",
    "\n",
    "    # 最大消費電力\n",
    "    P_max_hs = get_P_max_hs(P_rtd_hs)\n",
    "\n",
    "    return (Q_max_H_hs * 10 ** 6 / 3600) / P_max_hs * e_r_hs"
   ]
  },
  {
   "cell_type": "markdown",
   "metadata": {},
   "source": [
    "$$\\large\n",
    "P_{max,hs} = \\frac{P_{rtd,hs}}{0.6}\n",
    "$$"
   ]
  },
  {
   "cell_type": "markdown",
   "metadata": {},
   "source": [
    "$P_{rtd,hs}$：温水暖房用熱源機の定格消費電力(W) / Rated power consumption of heat source equipment for hot water heating  "
   ]
  },
  {
   "cell_type": "code",
   "execution_count": null,
   "metadata": {},
   "outputs": [],
   "source": [
    "# 最大消費電力 (3)\n",
    "def get_P_max_hs(P_rtd_hs):\n",
    "    return P_rtd_hs / 0.6"
   ]
  },
  {
   "cell_type": "markdown",
   "metadata": {},
   "source": [
    "$$\\large\n",
    "P_{rtd,hs} = \\frac{q_{rtd,hs}}{e_{rtd}}\n",
    "$$"
   ]
  },
  {
   "cell_type": "markdown",
   "metadata": {},
   "source": [
    "$q_{rtd,hs}$：温水暖房用熱源機の定格能力(W) / Rated capacity of hot water heating heat source machine  \n",
    "$e_{rtd}$：温水暖房用熱源機の定格効率 / Rated efficiency of the hot water heating heat source machine"
   ]
  },
  {
   "cell_type": "code",
   "execution_count": null,
   "metadata": {},
   "outputs": [],
   "source": [
    "# 定格消費電力 (4)\n",
    "def get_P_rtd_hs(q_rtd_hs, e_rtd):\n",
    "    return q_rtd_hs / e_rtd"
   ]
  },
  {
   "cell_type": "markdown",
   "metadata": {},
   "source": [
    "温水暖房用熱源機の定格効率$e_{rtd}$は4.05とする。"
   ]
  },
  {
   "cell_type": "markdown",
   "metadata": {},
   "source": [
    "The rated efficiency $ e_{rtd} $ of the hot water heating heat source unit is 4.05."
   ]
  },
  {
   "cell_type": "code",
   "execution_count": null,
   "metadata": {},
   "outputs": [],
   "source": [
    "# 定格効率\n",
    "def get_e_rtd():\n",
    "    return 4.05"
   ]
  },
  {
   "cell_type": "markdown",
   "metadata": {},
   "source": [
    "$$\\large\n",
    "q_{rtd,hs} = q_{max,hs} \\times 0.8\n",
    "$$"
   ]
  },
  {
   "cell_type": "markdown",
   "metadata": {},
   "source": [
    "$q_{max,hs}$：温水暖房用熱源機の最大能力(W) / Maximum capacity of heat source equipment for hot water heating  "
   ]
  },
  {
   "cell_type": "code",
   "execution_count": null,
   "metadata": {},
   "outputs": [],
   "source": [
    "# 定格能力 (5)\n",
    "def get_q_rtd_hs(region, A_A, A_MR, A_OR, mode_MR, mode_OR, has_MR_hwh, has_OR_hwh):\n",
    "    # 最大能力\n",
    "    q_max_hs = appendix_H.get_q_max_hs(region, A_A, A_MR, A_OR, mode_MR, mode_OR, has_MR_hwh, has_OR_hwh)\n",
    "\n",
    "    return q_max_hs * 0.8"
   ]
  },
  {
   "cell_type": "markdown",
   "metadata": {},
   "source": [
    "$$\\large\n",
    "er_{hs} = \\big(1.120656 - 0.03703 \\times (\\theta_{SW,hs} - \\theta_{ex})\\big) \\times \\bigg(1 - \\frac{Q_{out,H,hs}}{Q_{max,H,hs}}\\bigg)^{2}\\\\\n",
    "\\large + \\big(-0.36786 + 0.012152 \\times (\\theta_{SW,hs} - \\theta_{ex})\\big) \\times \\bigg(1 - \\frac{Q_{out,H,hs}}{Q_{max,H,hs}}\\bigg)\\\\\n",
    "\\large + 1\n",
    "$$"
   ]
  },
  {
   "cell_type": "markdown",
   "metadata": {},
   "source": [
    "$\\theta_{SW,hs}$：1 時間平均の温水暖房用熱源機の往き温水温度(℃) / 1 hour average hot water temperature of the hot water source heater for hot water heating  \n",
    "$\\theta_{ex}$：1 時間平均の外気温度(℃) / 1 hour average outside temperature"
   ]
  },
  {
   "cell_type": "code",
   "execution_count": null,
   "metadata": {},
   "outputs": [],
   "source": [
    "# 1時間平均の効率比 (6)\n",
    "def get_e_r_hs(Theta_SW_hs, Theta_ex, Q_out_H_hs, Q_max_H_hs):\n",
    "    return (1.120656 - 0.03703 * (Theta_SW_hs - Theta_ex)) * (1 - Q_out_H_hs / Q_max_H_hs) ** 2 \\\n",
    "           + (-0.36786 + 0.012152 * (Theta_SW_hs - Theta_ex)) * (1 - Q_out_H_hs / Q_max_H_hs) \\\n",
    "           + 1"
   ]
  },
  {
   "cell_type": "markdown",
   "metadata": {},
   "source": [
    "#### D.2.2 ガス消費量 / Gas consumption"
   ]
  },
  {
   "cell_type": "markdown",
   "metadata": {},
   "source": [
    "1 時間当たりの温水暖房用熱源機のガス消費量$E_{G,hs}$は0とする。"
   ]
  },
  {
   "cell_type": "markdown",
   "metadata": {},
   "source": [
    "The gas consumption $ E_{G, hs} $ of the hot water heating heat source unit per hour is assumed to be zero."
   ]
  },
  {
   "cell_type": "code",
   "execution_count": null,
   "metadata": {},
   "outputs": [],
   "source": [
    "# ガス消費量\n",
    "def get_E_G_hs():\n",
    "    return np.zeros(24 * 365)"
   ]
  },
  {
   "cell_type": "markdown",
   "metadata": {},
   "source": [
    "#### D.2.3 石油消費量 / Oil consumption"
   ]
  },
  {
   "cell_type": "markdown",
   "metadata": {},
   "source": [
    "1 時間当たりの温水暖房用熱源機の石油消費量$E_{K,hs}$は0とする。"
   ]
  },
  {
   "cell_type": "markdown",
   "metadata": {},
   "source": [
    "The oil consumption $ E_{K, hs} $ of the hot water heating heat source unit per hour is 0."
   ]
  },
  {
   "cell_type": "code",
   "execution_count": null,
   "metadata": {},
   "outputs": [],
   "source": [
    "# 灯油消費量\n",
    "def get_E_K_hs():\n",
    "    return np.zeros(24 * 365)"
   ]
  },
  {
   "cell_type": "markdown",
   "metadata": {},
   "source": [
    "#### D.2.4 その他の一次エネルギー消費量 / Other primary energy consumption"
   ]
  },
  {
   "cell_type": "markdown",
   "metadata": {},
   "source": [
    "1 時間当たりの温水暖房用熱源機のその他の一次エネルギー消費量$E_{M,hs}$は0とする。"
   ]
  },
  {
   "cell_type": "markdown",
   "metadata": {},
   "source": [
    "The other primary energy consumption $ E_{M, hs} $ of the hot water heating heat source unit per hour is assumed to be zero."
   ]
  },
  {
   "cell_type": "code",
   "execution_count": null,
   "metadata": {},
   "outputs": [],
   "source": [
    "# その他の一次エネルギー消費量\n",
    "def get_E_M_hs():\n",
    "    return np.zeros(24 * 365)"
   ]
  },
  {
   "cell_type": "markdown",
   "metadata": {},
   "source": [
    "### D.3 最大暖房出力 / Maximum heating output"
   ]
  },
  {
   "cell_type": "markdown",
   "metadata": {},
   "source": [
    "$$\\large\n",
    "Q_{max,H,hs} = (11.62 + 0.2781 \\times \\theta_{ex} - 0.00113 \\times \\theta_{ex}^{2}\\\\\n",
    "\\large -0.1271 \\times \\theta_{SW,hs} - 0.00363 \\times \\theta_{ex} \\times \\theta_{SW,hs})\n",
    "\\times \\frac{q_{rtd,hs}}{6} \\times \\frac{C_{def}}{0.85} \\times 3600 \\times 10^{-6}\n",
    "$$"
   ]
  },
  {
   "cell_type": "markdown",
   "metadata": {},
   "source": [
    "$C_{def}$：1 時間あたりのデフロスト補正係数 / Hourly Defrost Correction Factor"
   ]
  },
  {
   "cell_type": "code",
   "execution_count": null,
   "metadata": {},
   "outputs": [],
   "source": [
    "# 最大暖房出力 (7)\n",
    "def get_Q_max_H_hs(q_rtd_hs, Theta_SW_hs, Theta_ex, h_ex):\n",
    "    # デフロスト補正係数\n",
    "    C_def = get_C_def(Theta_ex, h_ex)\n",
    "\n",
    "    return (\n",
    "                       11.62 + 0.2781 * Theta_ex - 0.00113 * Theta_ex ** 2 - 0.1271 * Theta_SW_hs - 0.00363 * Theta_ex * Theta_SW_hs) \\\n",
    "           * (q_rtd_hs / 6) * (C_def / 0.85) * 3600 * 10 ** (-6)"
   ]
  },
  {
   "cell_type": "markdown",
   "metadata": {},
   "source": [
    "1 時間あたりのデフロスト補正係数$C_{def}$は、1 時間平均の外気温度$\\theta_{ex}$が5℃ 未満かつ 1 時間平均の外気相対湿度$h_{ex}$が80%以上の場合は0.85とし、それ以外の場合は1.0とする。 "
   ]
  },
  {
   "cell_type": "markdown",
   "metadata": {},
   "source": [
    "The hourly defrost correction coefficient $ C_{def} $ is an hourly average outdoor temperature $ \\theta_{ex} $ less than 5 ° C and an hourly average outdoor relative humidity $ h_{ex} $ 80% or more In the case of 0.85, and in other cases 1.0."
   ]
  },
  {
   "cell_type": "code",
   "execution_count": null,
   "metadata": {},
   "outputs": [],
   "source": [
    "# デフロスト補正係数\n",
    "def get_C_def(Theta_ex, h_ex):\n",
    "    C_def = np.zeros(24 * 365)\n",
    "    C_def[:] = 1\n",
    "    C_def[(Theta_ex < 5) * (h_ex >= 80)] = 0.85\n",
    "    return C_def"
   ]
  }
 ],
 "metadata": {
  "kernelspec": {
   "display_name": "Python 3",
   "language": "python",
   "name": "python3"
  },
  "language_info": {
   "codemirror_mode": {
    "name": "ipython",
    "version": 3
   },
   "file_extension": ".py",
   "mimetype": "text/x-python",
   "name": "python",
   "nbconvert_exporter": "python",
   "pygments_lexer": "ipython3",
   "version": "3.6.7"
  }
 },
 "nbformat": 4,
 "nbformat_minor": 2
}
