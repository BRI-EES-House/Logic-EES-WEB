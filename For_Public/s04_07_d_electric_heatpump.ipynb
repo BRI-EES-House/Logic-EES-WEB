{
 "cells": [
  {
   "cell_type": "markdown",
   "metadata": {},
   "source": [
    "## 付録D　電気ヒートポンプ温水暖房機（フロン系）"
   ]
  },
  {
   "cell_type": "markdown",
   "metadata": {},
   "source": [
    "### D.1 記号及び単位"
   ]
  },
  {
   "cell_type": "markdown",
   "metadata": {},
   "source": [
    "省略"
   ]
  },
  {
   "cell_type": "markdown",
   "metadata": {},
   "source": [
    "### D.2 エネルギー消費量"
   ]
  },
  {
   "cell_type": "markdown",
   "metadata": {},
   "source": [
    "#### D.2.1 消費電力量"
   ]
  },
  {
   "cell_type": "markdown",
   "metadata": {},
   "source": [
    "$$\\large\n",
    "E_{E,hs} = \\frac{Q_{out,H,hs}}{e_{hs}} \\times 10^{3} \\div 3600\n",
    "$$"
   ]
  },
  {
   "cell_type": "markdown",
   "metadata": {},
   "source": [
    "$E_{E,hs}$：1 時間当たりの温水暖房用熱源機の消費電力量(kWh/h)  \n",
    "$Q_{out,H,hs}$：1 時間当たりの温水暖房用熱源機の暖房出力(MJ/h)  \n",
    "$e_{hs}$：1 時間平均の温水暖房用熱源機の効率"
   ]
  },
  {
   "cell_type": "markdown",
   "metadata": {},
   "source": [
    "$$\\large\n",
    "e_{hs} = \\frac{Q_{max,H,hs} \\times 10^{6} \\div 3600}{P_{max,hs}} \\times er_{hs}\n",
    "$$"
   ]
  },
  {
   "cell_type": "markdown",
   "metadata": {},
   "source": [
    "$Q_{max,H,hs}$：1 時間当たりの温水暖房用熱源機の暖房出力(MJ/h)  \n",
    "$P_{max,hs}$：温水暖房用熱源機の最大消費電力(W)  \n",
    "$er_{hs}$：1 時間平均の温水暖房用熱源機の効率比"
   ]
  },
  {
   "cell_type": "markdown",
   "metadata": {},
   "source": [
    "$$\\large\n",
    "P_{max,hs} = \\frac{P_{rtd,hs}}{0.6}\n",
    "$$"
   ]
  },
  {
   "cell_type": "markdown",
   "metadata": {},
   "source": [
    "$P_{rtd,hs}$：温水暖房用熱源機の定格消費電力(W)  "
   ]
  },
  {
   "cell_type": "markdown",
   "metadata": {},
   "source": [
    "$$\\large\n",
    "P_{rtd,hs} = \\frac{q_{rtd,hs}}{e_{rtd}}\n",
    "$$"
   ]
  },
  {
   "cell_type": "markdown",
   "metadata": {},
   "source": [
    "$q_{rtd,hs}$：温水暖房用熱源機の定格能力(W)  \n",
    "$e_{rtd}$：温水暖房用熱源機の定格効率"
   ]
  },
  {
   "cell_type": "markdown",
   "metadata": {},
   "source": [
    "温水暖房用熱源機の定格効率$e_{rtd}$は4.05とする。"
   ]
  },
  {
   "cell_type": "markdown",
   "metadata": {},
   "source": [
    "$$\\large\n",
    "q_{rtd,hs} = q_{max,hs} \\times 0.8\n",
    "$$"
   ]
  },
  {
   "cell_type": "markdown",
   "metadata": {},
   "source": [
    "$q_{max,hs}$：温水暖房用熱源機の最大能力(W)  "
   ]
  },
  {
   "cell_type": "markdown",
   "metadata": {},
   "source": [
    "$$\\large\n",
    "er_{hs} = \\big(1.120656 - 0.03703 \\times (\\theta_{SW,hs} - \\theta_{ex})\\big) \\times \\bigg(1 - \\frac{Q_{out,H,hs}}{Q_{max,H,hs}}\\bigg)^{2}\\\\\n",
    "\\large + \\big(-0.36786 + 0.012152 \\times (\\theta_{SW,hs} - \\theta_{ex})\\big) \\times \\bigg(1 - \\frac{Q_{out,H,hs}}{Q_{max,H,hs}}\\bigg)\\\\\n",
    "\\large + 1\n",
    "$$"
   ]
  },
  {
   "cell_type": "markdown",
   "metadata": {},
   "source": [
    "$\\theta_{SW,hs}$：1 時間平均の温水暖房用熱源機の往き温水温度(℃)  \n",
    "$\\theta_{ex}$：1 時間平均の外気温度(℃)"
   ]
  },
  {
   "cell_type": "markdown",
   "metadata": {},
   "source": [
    "#### D.2.2 ガス消費量"
   ]
  },
  {
   "cell_type": "markdown",
   "metadata": {},
   "source": [
    "1 時間当たりの温水暖房用熱源機のガス消費量$E_{G,hs}$は0とする。"
   ]
  },
  {
   "cell_type": "markdown",
   "metadata": {},
   "source": [
    "#### D.2.3 石油消費量"
   ]
  },
  {
   "cell_type": "markdown",
   "metadata": {},
   "source": [
    "1 時間当たりの温水暖房用熱源機の石油消費量$E_{K,hs}$は0とする。"
   ]
  },
  {
   "cell_type": "markdown",
   "metadata": {},
   "source": [
    "#### D.2.4 その他の一次エネルギー消費量"
   ]
  },
  {
   "cell_type": "markdown",
   "metadata": {},
   "source": [
    "1 時間当たりの温水暖房用熱源機のその他の一次エネルギー消費量$E_{M,hs}$は0とする。"
   ]
  },
  {
   "cell_type": "markdown",
   "metadata": {},
   "source": [
    "### D.3 最大暖房出力"
   ]
  },
  {
   "cell_type": "markdown",
   "metadata": {},
   "source": [
    "$$\\large\n",
    "Q_{max,H,hs} = (11.62 + 0.2781 \\times \\theta_{ex} - 0.00113 \\times \\theta_{ex}^{2}\\\\\n",
    "\\large -0.1271 \\times \\theta_{SW,hs} - 0.00363 \\times \\theta_{ex} \\times \\theta_{SW,hs})\n",
    "\\times \\frac{q_{rtd,hs}}{6} \\times \\frac{C_{def}}{0.85} \\times 3600 \\times 10^{-6}\n",
    "$$"
   ]
  },
  {
   "cell_type": "markdown",
   "metadata": {},
   "source": [
    "$C_{def}$：1 時間あたりのデフロスト補正係数"
   ]
  },
  {
   "cell_type": "markdown",
   "metadata": {},
   "source": [
    "1 時間あたりのデフロスト補正係数$C_{def}$は、1 時間平均の外気温度$\\theta_{ex}$が5℃ 未満かつ 1 時間平均の外気相対湿度$h_{ex}$が80%以上の場合は0.85とし、それ以外の場合は1.0とする。 "
   ]
  }
 ],
 "metadata": {
  "kernelspec": {
   "display_name": "Python 3",
   "language": "python",
   "name": "python3"
  },
  "language_info": {
   "codemirror_mode": {
    "name": "ipython",
    "version": 3
   },
   "file_extension": ".py",
   "mimetype": "text/x-python",
   "name": "python",
   "nbconvert_exporter": "python",
   "pygments_lexer": "ipython3",
   "version": "3.6.2"
  }
 },
 "nbformat": 4,
 "nbformat_minor": 2
}
