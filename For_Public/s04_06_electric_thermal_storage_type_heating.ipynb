{
 "cells": [
  {
   "cell_type": "code",
   "execution_count": null,
   "metadata": {},
   "outputs": [],
   "source": [
    "import numpy as np\n",
    "from section4_1_Q import get_Q_T_H_d_t_i"
   ]
  },
  {
   "cell_type": "markdown",
   "metadata": {},
   "source": [
    "## 第六節　電気蓄熱暖房器"
   ]
  },
  {
   "cell_type": "markdown",
   "metadata": {},
   "source": [
    "1．適用範囲～4．記号及び単位は省略"
   ]
  },
  {
   "cell_type": "markdown",
   "metadata": {},
   "source": [
    "### 5．最大暖房出力"
   ]
  },
  {
   "cell_type": "markdown",
   "metadata": {},
   "source": [
    "$$\\large\n",
    "Q_{max,H,d,t} = q_{rtd,H} \\times 3600 \\times 10^{-6}\n",
    "$$"
   ]
  },
  {
   "cell_type": "markdown",
   "metadata": {},
   "source": [
    "$Q_{max,H,d,t}$：日付$d$の時刻$t$における1時間当たりの最大暖房出力(MJ/h)  \n",
    "$q_{rtd,H}$：定格暖房能力(W)"
   ]
  },
  {
   "cell_type": "code",
   "execution_count": null,
   "metadata": {},
   "outputs": [],
   "source": [
    "def get_Q_max_H_d_t(q_rtd_H):\n",
    "    return np.ones(24 * 365) * (q_rtd_H * 3600 / 1000000)  # (1)"
   ]
  },
  {
   "cell_type": "markdown",
   "metadata": {},
   "source": [
    "### 6．暖房エネルギー消費量"
   ]
  },
  {
   "cell_type": "markdown",
   "metadata": {},
   "source": [
    "#### 6.1　消費電力量"
   ]
  },
  {
   "cell_type": "markdown",
   "metadata": {},
   "source": [
    "$$\n",
    "\\large\n",
    "E_{E,H,d,t} = Q_{T,H,d,t} \\times \\frac{1}{e_{rtd,H}} \\times 10^3 \\div 3600\n",
    "$$"
   ]
  },
  {
   "cell_type": "markdown",
   "metadata": {},
   "source": [
    "$E_{E,H,d,t}$：日付$d$の時刻$t$における1時間当たりの消費電力量(kWh/h)  \n",
    "$Q_{T,H,d,t}$：日付$d$の時刻$t$における1時間当たりの処理暖房負荷(MJ/h)  \n",
    "$e_{rtd,H}$：蓄熱効率  "
   ]
  },
  {
   "cell_type": "code",
   "execution_count": null,
   "metadata": {},
   "outputs": [],
   "source": [
    "def get_E_E_H_d_t(q_rtd_H, e_rtd_H, L_H_d_t):\n",
    "    # 最大暖房出力\n",
    "    Q_max_H_d_t = get_Q_max_H_d_t(q_rtd_H)\n",
    "\n",
    "    # 処理暖房負荷\n",
    "    Q_T_H_d_t = get_Q_T_H_d_t_i(Q_max_H_d_t, L_H_d_t, None, '居室のみを暖房する方式でかつ主たる居室とその他の居室ともに温水暖房を設置する場合に該当しない場合')\n",
    "\n",
    "    return Q_T_H_d_t * (1.0 / e_rtd_H) * 1000 / 3600  # (2)\n",
    "\n",
    "\n",
    "def get_Q_UT_H_d_t(q_rtd_H, e_rtd_H, L_H_d_t):\n",
    "    # 最大暖房出力\n",
    "    Q_max_H_d_t = get_Q_max_H_d_t(q_rtd_H)\n",
    "\n",
    "    # 処理暖房負荷\n",
    "    Q_T_H_d_t = get_Q_T_H_d_t_i(Q_max_H_d_t, L_H_d_t, None, '居室のみを暖房する方式でかつ主たる居室とその他の居室ともに温水暖房を設置する場合に該当しない場合')\n",
    "\n",
    "    return L_H_d_t - Q_T_H_d_t"
   ]
  },
  {
   "cell_type": "markdown",
   "metadata": {},
   "source": [
    "#### 6.2　ガス消費量"
   ]
  },
  {
   "cell_type": "markdown",
   "metadata": {},
   "source": [
    "日付$d$の時刻$t$における１時間当たりのガス消費量$E_{G,H,d,t}$は0とする。"
   ]
  },
  {
   "cell_type": "code",
   "execution_count": null,
   "metadata": {},
   "outputs": [],
   "source": [
    "def get_E_G_H_d_t():\n",
    "    return np.zeros(24 * 365)"
   ]
  },
  {
   "cell_type": "markdown",
   "metadata": {},
   "source": [
    "#### 6.3　灯油消費量"
   ]
  },
  {
   "cell_type": "markdown",
   "metadata": {},
   "source": [
    "日付$d$の時刻$t$における１時間当たりの灯油消費量$E_{K,H,d,t}$は0とする。"
   ]
  },
  {
   "cell_type": "code",
   "execution_count": null,
   "metadata": {},
   "outputs": [],
   "source": [
    "def get_E_K_H_d_t():\n",
    "    return np.zeros(24 * 365)"
   ]
  },
  {
   "cell_type": "markdown",
   "metadata": {},
   "source": [
    "#### 6.4　その他の燃料による一次エネルギー消費量"
   ]
  },
  {
   "cell_type": "markdown",
   "metadata": {},
   "source": [
    "日付$d$の時刻$t$における１時間当たりのその他の燃料による一次エネルギー消費量$E_{M,H,d,t}$は0とする。"
   ]
  },
  {
   "cell_type": "code",
   "execution_count": null,
   "metadata": {},
   "outputs": [],
   "source": [
    "def get_E_M_H_d_t():\n",
    "    return np.zeros(24 * 365)"
   ]
  },
  {
   "cell_type": "markdown",
   "metadata": {},
   "source": [
    "## 付録 A 機器の性能を表す仕様の決定方法"
   ]
  },
  {
   "cell_type": "markdown",
   "metadata": {},
   "source": [
    "### A.1　記号及び単位"
   ]
  },
  {
   "cell_type": "markdown",
   "metadata": {},
   "source": [
    "省略"
   ]
  },
  {
   "cell_type": "markdown",
   "metadata": {},
   "source": [
    "### A.2　定格暖房能力"
   ]
  },
  {
   "cell_type": "markdown",
   "metadata": {},
   "source": [
    "$$\\large\n",
    "q_{rtd,H} = q_{rq,H} \\times A_{HCZ} \\times f_{cT} \\times f_{cI}\n",
    "$$"
   ]
  },
  {
   "cell_type": "markdown",
   "metadata": {},
   "source": [
    "$q_{rtd,H}$：定格暖房能力(kWh/h)  \n",
    "$q_{rq,H}$：単位面積当たりの必要暖房能力(W/m<sup>2</sup>)  \n",
    "$A_{HCZ}$：電気蓄熱暖房器により暖房される暖冷房区画の床面積(m<sup>2</sup>)  \n",
    "$f_{cT}$：外気温度能力補正係数  \n",
    "$f_{cI}$：間歇運転能力補正係数  "
   ]
  },
  {
   "cell_type": "markdown",
   "metadata": {},
   "source": [
    "外気温度補正係数$f_{cT}$の値は1.05とする。"
   ]
  },
  {
   "cell_type": "code",
   "execution_count": null,
   "metadata": {},
   "outputs": [],
   "source": [
    "def get_q_rtd_H(q_rq_H, A_HCZ, f_cT, f_cI):\n",
    "    return q_rq_H * A_HCZ * f_cT * f_cI  # (1)\n",
    "\n",
    "\n",
    "# 単位面積当たりの必要暖房能力\n",
    "def get_q_rq_H(region):\n",
    "    return table_a_2[region - 1]\n",
    "\n",
    "\n",
    "# 外気温度補正係数\n",
    "def get_f_cT(region):\n",
    "    return 1.05\n",
    "\n",
    "\n",
    "# 間歇運転能力補正係数\n",
    "def get_f_cI(mode, R_type):\n",
    "    if mode in ['ろ', '連続']:\n",
    "        y = 0\n",
    "    elif mode in ['は', '間歇']:\n",
    "        y = 1\n",
    "    else:\n",
    "        raise ValueError(mode)\n",
    "\n",
    "    if R_type == '主たる居室':\n",
    "        x = 0\n",
    "    elif R_type == 'その他の居室':\n",
    "        x = 1\n",
    "    else:\n",
    "        raise ValueError(R_type)\n",
    "\n",
    "    return table_a_3[y][x]"
   ]
  },
  {
   "cell_type": "markdown",
   "metadata": {},
   "source": [
    "<div style=\"text-align: center;font-weight: bold;\">表　単位面積当たりの必要暖房能力（W/m<sup>2</sup>）</div>\n",
    "\n",
    "|地域の区分|1|2|3|4|5|6|7|8|\n",
    "|-|-|-|-|-|-|-|-|-|\n",
    "|　|139.3|120.7|111.3|119.0|126.6|106.5|112.9|-|"
   ]
  },
  {
   "cell_type": "code",
   "execution_count": null,
   "metadata": {},
   "outputs": [],
   "source": [
    "# 表A.2 単位面積当たりの必要暖房能力\n",
    "table_a_2 = [\n",
    "    139.3,\n",
    "    120.7,\n",
    "    111.3,\n",
    "    119.0,\n",
    "    126.6,\n",
    "    106.5,\n",
    "    112.9\n",
    "]"
   ]
  },
  {
   "cell_type": "markdown",
   "metadata": {},
   "source": [
    "<div style=\"text-align: center;font-weight: bold;\">表　間歇運転能力補正係数</div>\n",
    "\n",
    "|　|主たる居室|その他の居室|\n",
    "|-|-|-|\n",
    "|連続運転の場合|1.0|1.0|\n",
    "|間歇運転の場合 |3.034|4.805|"
   ]
  },
  {
   "cell_type": "code",
   "execution_count": null,
   "metadata": {},
   "outputs": [],
   "source": [
    "# 表A.3 間歇運転能力補正係数\n",
    "table_a_3 = [\n",
    "    (1.0, 1.0),\n",
    "    (3.034, 4.805)\n",
    "]"
   ]
  },
  {
   "cell_type": "markdown",
   "metadata": {},
   "source": [
    "### A.3　蓄熱効率 "
   ]
  },
  {
   "cell_type": "markdown",
   "metadata": {},
   "source": [
    "蓄熱効率$e_{rtd.H}$は0.850（85.0%）とする。 "
   ]
  },
  {
   "cell_type": "code",
   "execution_count": null,
   "metadata": {},
   "outputs": [],
   "source": [
    "def get_e_rtd_H():\n",
    "    return 0.850"
   ]
  }
 ],
 "metadata": {
  "kernelspec": {
   "display_name": "Python 3",
   "language": "python",
   "name": "python3"
  },
  "language_info": {
   "codemirror_mode": {
    "name": "ipython",
    "version": 3
   },
   "file_extension": ".py",
   "mimetype": "text/x-python",
   "name": "python",
   "nbconvert_exporter": "python",
   "pygments_lexer": "ipython3",
   "version": "3.6.4"
  }
 },
 "nbformat": 4,
 "nbformat_minor": 2
}
