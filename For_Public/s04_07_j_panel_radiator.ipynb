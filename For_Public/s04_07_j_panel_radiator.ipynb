{
 "cells": [
  {
   "cell_type": "code",
   "execution_count": null,
   "metadata": {},
   "outputs": [],
   "source": [
    "import numpy as np\n",
    "import section4_7_m as appendix_M"
   ]
  },
  {
   "cell_type": "markdown",
   "metadata": {},
   "source": [
    "## 付録J　パネルラジエーター"
   ]
  },
  {
   "cell_type": "markdown",
   "metadata": {},
   "source": [
    "### J.1 記号及び単位"
   ]
  },
  {
   "cell_type": "markdown",
   "metadata": {},
   "source": [
    "省略"
   ]
  },
  {
   "cell_type": "markdown",
   "metadata": {},
   "source": [
    "### J.2 温水供給運転率"
   ]
  },
  {
   "cell_type": "markdown",
   "metadata": {},
   "source": [
    "$$\\large\n",
    "r_{WS,rad} = \\frac{Q_{T,H,rad}}{Q_{max,rad}}\n",
    "$$"
   ]
  },
  {
   "cell_type": "markdown",
   "metadata": {},
   "source": [
    "$r_{WS,rad}$：1 時間平均の放熱器の温水供給運転率  \n",
    "$Q_{T,H,rad}$：1 時間当たりの放熱器の処理暖房負荷(MJ/h)  \n",
    "$Q_{max,rad}$：1 時間当たりの放熱器の最大暖房出力(MJ/h)  "
   ]
  },
  {
   "cell_type": "code",
   "execution_count": null,
   "metadata": {},
   "outputs": [],
   "source": [
    "# 1 時間平均の放熱器の温水供給運転率 (1)\n",
    "def get_r_WS_rad(region, mode, A_HCZ, R_type, Theta_SW, Q_T_H_rad):\n",
    "    # 放熱器の最大能力\n",
    "    q_max_rad = get_q_max_rad(region, mode, A_HCZ, R_type)\n",
    "\n",
    "    # 最大暖房出力\n",
    "    Q_max_H_rad = get_Q_max_H_rad(Theta_SW, q_max_rad)\n",
    "\n",
    "    return Q_T_H_rad / Q_max_H_rad\n"
   ]
  },
  {
   "cell_type": "markdown",
   "metadata": {},
   "source": [
    "### J.3 最大暖房出力"
   ]
  },
  {
   "cell_type": "markdown",
   "metadata": {},
   "source": [
    "$$\\large\n",
    "Q_{max,H,rad} = q_{max,rad} \\times \\frac{\\theta_{SW} - 20}{60 - 20} \\times 3600 \\div 10^{6}\n",
    "$$"
   ]
  },
  {
   "cell_type": "markdown",
   "metadata": {},
   "source": [
    "$q_{max,rad}$：放熱器の最大能力(W)  \n",
    "$\\theta_{SW}$：1 時間平均の往き送水温度(℃)  "
   ]
  },
  {
   "cell_type": "code",
   "execution_count": null,
   "metadata": {},
   "outputs": [],
   "source": [
    "# 最大暖房出力 (2)\n",
    "def get_Q_max_H_rad(Theta_SW, q_max_rad):\n",
    "    return np.ones(24*365) *  q_max_rad * (Theta_SW - 20) / (60 - 20) * 3600 / (10 ** 6)"
   ]
  },
  {
   "cell_type": "markdown",
   "metadata": {},
   "source": [
    "放熱器の最大能力$q_{max,rad}$は、付録Mに定める放熱器の最大能力$q_{max,rad}$に等しいものとする。"
   ]
  },
  {
   "cell_type": "code",
   "execution_count": 1,
   "metadata": {},
   "outputs": [],
   "source": [
    "# 放熱器の最大能力\n",
    "def get_q_max_rad(region, mode, A_HCZ, R_type):\n",
    "    # 付録Mに定める放熱器の最大能力 q_max_rad に等しいものとする。\n",
    "    return appendix_M.get_q_max_rad(region, mode, A_HCZ, R_type)"
   ]
  }
 ],
 "metadata": {
  "kernelspec": {
   "display_name": "Python 3",
   "language": "python",
   "name": "python3"
  },
  "language_info": {
   "codemirror_mode": {
    "name": "ipython",
    "version": 3
   },
   "file_extension": ".py",
   "mimetype": "text/x-python",
   "name": "python",
   "nbconvert_exporter": "python",
   "pygments_lexer": "ipython3",
   "version": "3.6.4"
  }
 },
 "nbformat": 4,
 "nbformat_minor": 2
}
