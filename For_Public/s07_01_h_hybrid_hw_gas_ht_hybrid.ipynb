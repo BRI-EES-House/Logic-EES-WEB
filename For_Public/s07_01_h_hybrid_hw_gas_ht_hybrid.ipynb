{
 "cells": [
  {
   "cell_type": "markdown",
   "metadata": {},
   "source": [
    "使用許諾条件\n",
    "\n",
    "①\t設計一次エネルギー消費量算定法に基づく計算方法をPythonによりコーディングし、Jupyter notebook形式で保存したファイル（以下、本ファイルと呼ぶ）の著作権は、一般社団法人日本サステナブル建築協会に帰属します。\n",
    "Copyright©2019. 一般社団法人日本サステナブル建築協会\n",
    "All rights reserved. \n",
    "\n",
    "②\t本ファイルは、住戸の設計一次エネルギー消費量算定方法に係る「平成28年省エネルギー基準に準拠したエネルギー消費性能の評価に関する技術情報（住宅）2.1算定方法（第七章第一節 給湯設備）」に示す計算方法に基づき、国土交通省国土技術政策総合研究所・国立研究開発法人建築研究所、株式会社ユーワークス、株式会社住環境計画研究所が作成したものです。\n",
    "\n",
    "③\t本ファイルは、計算方法に示す計算過程の確認及び調査研究等に活用することを目的として作成されたものであり、一般社団法人日本サステナブル建築協会は著作権について放棄はしませんが、使用する各人の自己責任において仕様を変更することを妨げるものではありません。ただし、本ファイルによる計算結果を住宅の省エネルギー基準で規定する設計一次エネルギー消費量の結果として公的な申請に用いることはできません。\n",
    "\n",
    "④\t本ファイルを変更するかしないかを問わず、以下の条件を満たす場合に限り、頒布および使用が許可されます。\n",
    "1.\t頒布物の付属ドキュメント等の資料に、上記の著作権表示、本条件一覧、および下記免責条項を含めること。\n",
    "2.\t書面による特別の許可なしに、本ファイルから派生した製品の宣伝または販売の促進に、一般社団法人日本サステナブル建築協会、国土技術政策総合研究所・国立研究開発法人建築研究所および株式会社ユーワークス、株式会社住環境計画研究所の名前またはコントリビューターの名前を使用してはならない。\n",
    "\n",
    "⑤\t本ファイルは、著作権者およびコントリビューターによって「現状のまま」提供されており、明示黙示を問わず、商業的な使用可能性、および特定の目的に対する適合性に関する暗黙の保証も含め、またそれに限定されない、いかなる保証もありません。著作権もコントリビューターも、事由のいかんを問わず、損害発生の原因いかんを問わず、かつ責任の根拠が契約であるか厳格責任であるか（過失その他の）不法行為であるかを問わず、仮にそのような損害が発生する可能性を知らされていたとしても、本ファイルの使用によって発生した（代用品または代用サービスの調達、使用の喪失、データの喪失、利益の喪失、業務の中断も含め、またそれに限定されない）直接損害、間接損害、偶発的な損害、特別損害、懲罰的損害、または結果損害について、一切の責任を負わないものとします。\n",
    "\n"
   ]
  },
  {
   "cell_type": "code",
   "execution_count": null,
   "metadata": {},
   "outputs": [],
   "source": [
    "import nbimporter\n",
    "import numpy as np\n",
    "\n",
    "import s07_01_c_gas_boiler as gas"
   ]
  },
  {
   "cell_type": "markdown",
   "metadata": {},
   "source": [
    "## 付録H　電気ヒートポンプ・ガス瞬間式併用型給湯温水暖房機（給湯熱源：ガス瞬間式、暖房熱源：電気ヒートポンプ・ガス瞬間式併用） / Appendix H Electric heat pump, gas moment type combined hot water supply hot water heater (hot water supply heat source: gas moment type, heating heat source: electric heat pump, gas moment type combined use)"
   ]
  },
  {
   "cell_type": "markdown",
   "metadata": {},
   "source": [
    "電気ヒートポンプ・ガス瞬間式併用型給湯温水暖房機（給湯熱源：ガス瞬間式、暖房熱源：電気ヒートポンプ・ガス瞬間式併用）の給湯部の給湯機の効率を0.866（86.6%）とする。 "
   ]
  },
  {
   "cell_type": "markdown",
   "metadata": {},
   "source": [
    "The efficiency of the hot water heater of the hot water supply unit of the electric heat pump gas instantaneous type combined hot water supply hot water heater (hot water source heat source: gas instantaneous type, heating heat source: electric heat pump gas instant type combined) is 0.866 (86.6%)."
   ]
  },
  {
   "cell_type": "code",
   "execution_count": null,
   "metadata": {},
   "outputs": [],
   "source": [
    "# 1日当たりの給湯機の消費電力量\n",
    "def get_E_E_hs(W_dash_k_d_t, W_dash_s_d_t, W_dash_w_d_t, W_dash_b1_d_t, W_dash_b2_d_t, W_dash_ba1_d_t, Theta_ex_Ave_d, L_dashdash_ba2_d_t):\n",
    "    \"\"\"\n",
    "    :param W_dash_k_d_t: 1日当たりの台所水栓における節湯補正給湯量 (L/d)\n",
    "    :param W_dash_s_d_t: 1日当たりの浴室シャワー水栓における節湯補正給湯量 (L/d)\n",
    "    :param W_dash_w_d_t: 1日当たりの洗面水栓における節湯補正給湯量 (L/d)\n",
    "    :param W_dash_b1_d_t: 1日当たりの浴槽水栓湯はり時における節湯補正給湯量 (L/d)\n",
    "    :param W_dash_b2_d_t: 1日当たりの浴槽追焚時における節湯補正給湯量 (L/d)\n",
    "    :param W_dash_ba1_d_t: 1日当たりの浴槽水栓さし湯時における節湯補正給湯量 (L/d)\n",
    "    :param Theta_ex_Ave_d: 日平均外気温度 (℃)\n",
    "    :param L_dashdash_ba2_d_t: 1日当たりの浴槽追焚時における太陽熱補正給湯熱負荷 (MJ/d)\n",
    "    :return: 1日当たりの給湯機の消費電力量 (kWh/d)\n",
    "    \"\"\"\n",
    "    return gas.get_E_E_hs_d_t(\n",
    "        W_dash_k_d_t=W_dash_k_d_t,\n",
    "        W_dash_s_d_t=W_dash_s_d_t,\n",
    "        W_dash_w_d_t=W_dash_w_d_t,\n",
    "        W_dash_b1_d_t=W_dash_b1_d_t,\n",
    "        W_dash_b2_d_t=W_dash_b2_d_t,\n",
    "        W_dash_ba1_d_t=W_dash_ba1_d_t,\n",
    "        Theta_ex_Ave_d=Theta_ex_Ave_d,\n",
    "        L_dashdash_ba2_d_t=L_dashdash_ba2_d_t\n",
    "    )\n",
    "\n",
    "\n",
    "# 1日当たりの給湯機のガス消費量\n",
    "def get_E_G_hs(Theta_ex_Ave, L_dashdash_k, L_dashdash_s, L_dashdash_w, L_dashdash_b1, L_dashdash_b2,\n",
    "               L_dashdash_ba1, L_dashdash_ba2, bath_function):\n",
    "    \"\"\"\n",
    "    :param Theta_ex_Ave: 日平均外気温度 (℃)\n",
    "    :param L_dash_k_d: 1日当たりの台所水栓における節湯補正給湯熱負荷 (MJ/d)\n",
    "    :param L_dash_s_d: 1日当たりの浴室シャワー水栓における節湯補正給湯熱負荷 (MJ/d)\n",
    "    :param L_dash_w_d: 1日当たりの洗面水栓における節湯補正給湯熱負荷 (MJ/d)\n",
    "    :param L_dash_b1_d: 1日当たりの浴槽水栓湯はり時における節湯補正給湯熱負荷 (MJ/d)\n",
    "    :param L_dash_b2_d: 1日当たりの浴槽追焚時における節湯補正給湯熱負荷 (MJ/d)\n",
    "    :param L_dash_ba1_d: 1日当たりの浴槽水栓さし湯時における節湯補正給湯熱負荷 (MJ/d)\n",
    "    :param L_dash_ba2_d: 1日当たりの浴槽追焚時における節湯補正給湯熱負荷 (MJ/d)\n",
    "    :param L_HWH: 1日当たりの温水暖房の熱負荷 (MJ/d)\n",
    "    :param bath_function: ふろ機能の種類\n",
    "    :return: 1日当たりの給湯機のガス消費量 (MJ/d)\n",
    "    \"\"\"\n",
    "    return gas.get_E_G_hs_d_t(\n",
    "        hw_type=None,\n",
    "        Theta_ex_Ave_d=Theta_ex_Ave,\n",
    "        L_dashdash_k_d_t=L_dashdash_k,\n",
    "        L_dashdash_s_d_t=L_dashdash_s,\n",
    "        L_dashdash_w_d_t=L_dashdash_w,\n",
    "        L_dashdash_b1_d_t=L_dashdash_b1,\n",
    "        L_dashdash_b2_d_t=L_dashdash_b2,\n",
    "        L_dashdash_ba1_d_t=L_dashdash_ba1,\n",
    "        L_dashdash_ba2_d_t=L_dashdash_ba2,\n",
    "        bath_function=bath_function,\n",
    "        e_rtd=0.866\n",
    "    )\n",
    "\n",
    "\n",
    "# 1日当たりの給湯機の灯油消費量\n",
    "def get_E_K_hs():\n",
    "    # 1日当たりの給湯機の灯油消費量は0とする\n",
    "    return gas.get_E_K_hs_d_t()"
   ]
  }
 ],
 "metadata": {
  "kernelspec": {
   "display_name": "Python 3",
   "language": "python",
   "name": "python3"
  },
  "language_info": {
   "codemirror_mode": {
    "name": "ipython",
    "version": 3
   },
   "file_extension": ".py",
   "mimetype": "text/x-python",
   "name": "python",
   "nbconvert_exporter": "python",
   "pygments_lexer": "ipython3",
   "version": "3.6.6"
  }
 },
 "nbformat": 4,
 "nbformat_minor": 2
}
