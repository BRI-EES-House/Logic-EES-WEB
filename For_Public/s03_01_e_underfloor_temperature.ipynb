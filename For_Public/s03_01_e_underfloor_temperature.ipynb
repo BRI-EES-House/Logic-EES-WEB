{
 "cells": [
  {
   "cell_type": "markdown",
   "metadata": {},
   "source": [
    "### 付録E　床下に空気を供給する場合の床下温度等の算定方法"
   ]
  },
  {
   "cell_type": "markdown",
   "metadata": {},
   "source": [
    "#### E.1 記号及び単位"
   ]
  },
  {
   "cell_type": "markdown",
   "metadata": {},
   "source": [
    "省略"
   ]
  },
  {
   "cell_type": "markdown",
   "metadata": {},
   "source": [
    "#### E.2 床下温度"
   ]
  },
  {
   "cell_type": "markdown",
   "metadata": {},
   "source": [
    "$$\n",
    "\\begin{equation*}\n",
    "   \\theta_{uf,d,t} = \\frac{\\rho_{air} c_{p_{air}} V_{sa,d,t,A} \\theta_{sa,d,t} + \\left( \\sum_{i=1}^{12} U_s A_{s,ufvnt,i} H_{d,t,i}^* \\theta_{d,t,i}^* + \\varphi L_{uf} \\theta_{ex,d,t} + \\frac{A_{s,ufvnt,A}}{R_g} \\frac{\\sum_{m=1}^{M} \\theta'_{g,surf,A,m.d,t} + \\theta_{g,avg}}{1 + \\frac{\\phi_{A,0}}{R_g}} \\right) \\times 3.6}{\\rho_{air} c_{p_{air}} V_{sa,d,t,A} + \\left( \\sum_{i=1}^{12} U_s A_{s,ufvnt,i} H_{d,t,i}^* + \\varphi L_{uf} + \\frac{A_{s,ufvnt,A}}{R_g} \\frac{1}{1 + \\frac{\\phi_{A,0}}{R_g}} \\right) \\times 3.6}\n",
    "\\end{equation*}\n",
    "$$"
   ]
  },
  {
   "cell_type": "markdown",
   "metadata": {},
   "source": [
    "$\\rho_{air}$： 空気の密度(kg/m<sup>3</sup>)   \n",
    "$c_{p_{air}}$： 空気の比熱(kJ/(kg・K))   \n",
    "$H_{d,t,i}^*$：日付$d$の時刻$t$における暖冷房区画$i$の参照温度差係数(-)  \n",
    "$V_{sa,d,t,A}$：日付$d$の時刻$t$における1 時間当たりの床下空間へ供給する空気の風量の合計(m<sup>3</sup>/h)  \n",
    "$U_s$：床の熱貫流率(W/(m<sup>2</sup>・K))  \n",
    "$A_{s,ufvnt,i}$：：当該住戸の暖冷房区画$i$の空気を供給する床下空間に接する床の面積(m<sup>2</sup>)  \n",
    "$A_{s,ufvnt,A}$：：当該住戸の空気を供給する床下空間に接する床の面積の合計(m<sup>2</sup>)  \n",
    "$L_{uf}$：当該住戸の空気を供給する床下空間の基礎外周長さ(m)  \n",
    "$M$：指数項の総数(-)  \n",
    "$R_g$：地盤またはそれを覆う基礎の表面熱伝達抵抗((m<sup>2</sup>・K)/W)  \n",
    "$\\theta_{d,t,i}^*$：日付$d$の時刻$t$における暖冷房区画$i$の参照空気温度(℃)  \n",
    "$\\theta_{ex,d,t}$：日付$d$の時刻$t$における外気温度(℃)  \n",
    "$\\theta_{g,avg}$：地盤の不易層温度(℃)  \n",
    "$\\theta_{uf,d,t}$：日付$d$の時刻$t$における当該住戸の床下温度(℃)  \n",
    "$\\theta_{sa,d,t}$：日付$d$の時刻$t$において床下空間へ供給する空気の温度(℃)  \n",
    "$\\theta'_{g,surf,A,m,d,t}$：日付$d$の時刻$t$における指数項$m$の吸熱応答の項別成分(℃)  \n",
    "$\\varphi$：基礎の線熱貫流率(W/(m・K))  \n",
    "$\\phi_{A,0}$：吸熱応答係数の初項((m<sup>2</sup>・K)/W)  "
   ]
  },
  {
   "cell_type": "markdown",
   "metadata": {},
   "source": [
    "空気の密度$\\rho_{air}$は、1.20 kg/m<sup>3</sup>とする。空気の比熱$c_{p_{air}}$は、1.006 kJ/(kg・K)とする。床の熱貫流率$U_s$は、2.223W/(m<sup>2</sup>・K)とする。"
   ]
  },
  {
   "cell_type": "markdown",
   "metadata": {},
   "source": [
    "$L'_{H,R,d,t,i} \\leq 0$ かつ $\\theta_{ex,d,t} < \\theta_{in,H}$ の場合： "
   ]
  },
  {
   "cell_type": "markdown",
   "metadata": {},
   "source": [
    "$$\\large\n",
    "\\begin{equation*}\n",
    "\\theta_{d,t,i}^* = \\theta_{in,H}\n",
    "\\end{equation*}\n",
    "$$\n",
    "\n",
    "$$\\large\n",
    "\\begin{equation*}\n",
    "H_{d,t,i}^* = 1\n",
    "\\end{equation*}\n",
    "$$"
   ]
  },
  {
   "cell_type": "markdown",
   "metadata": {},
   "source": [
    "$L'_{H,R,d,t,i} \\leq 0$ かつ $\\theta_{in,H} \\leq \\theta_{ex,d,t} \\leq \\theta_{in,C}$ の場合： "
   ]
  },
  {
   "cell_type": "markdown",
   "metadata": {},
   "source": [
    "$$\\large\n",
    "\\begin{equation*}\n",
    "\\theta_{d,t,i}^* = \\theta_{ex,d,t}\n",
    "\\end{equation*}\n",
    "$$\n",
    "\n",
    "$$\\large\n",
    "\\begin{equation*}\n",
    "H_{d,t,i}^* = H_{floor}\n",
    "\\end{equation*}\n",
    "$$"
   ]
  },
  {
   "cell_type": "markdown",
   "metadata": {},
   "source": [
    "$L'_{H,R,d,t,i} \\leq 0$ かつ $\\theta_{in,C} < \\theta_{ex,d,t}$ の場合： "
   ]
  },
  {
   "cell_type": "markdown",
   "metadata": {},
   "source": [
    "$$\\large\n",
    "\\begin{equation*}\n",
    "\\theta_{d,t,i}^* = \\theta_{in,C}\n",
    "\\end{equation*}\n",
    "$$\n",
    "\n",
    "$$\\large\n",
    "\\begin{equation*}\n",
    "H_{d,t,i}^* = 1\n",
    "\\end{equation*}\n",
    "$$"
   ]
  },
  {
   "cell_type": "markdown",
   "metadata": {},
   "source": [
    "$0 < L'_{H,R,d,t,i}$ の場合： "
   ]
  },
  {
   "cell_type": "markdown",
   "metadata": {},
   "source": [
    "$$\\large\n",
    "\\begin{equation*}\n",
    "\\theta_{d,t,i}^* = \\theta_{in,H}\n",
    "\\end{equation*}\n",
    "$$\n",
    "\n",
    "$$\\large\n",
    "\\begin{equation*}\n",
    "H_{d,t,i}^* = 1\n",
    "\\end{equation*}\n",
    "$$"
   ]
  },
  {
   "cell_type": "markdown",
   "metadata": {},
   "source": [
    "$L'_{CS,R,d,t,i} \\leq 0$ かつ $\\theta_{ex,d,t} < \\theta_{in,H}$ の場合： "
   ]
  },
  {
   "cell_type": "markdown",
   "metadata": {},
   "source": [
    "$$\\large\n",
    "\\begin{equation*}\n",
    "\\theta_{d,t,i}^* = \\theta_{in,H}\n",
    "\\end{equation*}\n",
    "$$\n",
    "\n",
    "$$\\large\n",
    "\\begin{equation*}\n",
    "H_{d,t,i}^* = 1\n",
    "\\end{equation*}\n",
    "$$"
   ]
  },
  {
   "cell_type": "markdown",
   "metadata": {},
   "source": [
    "$L'_{CS,R,d,t,i} \\leq 0$ かつ $\\theta_{in,H} \\leq \\theta_{ex,d,t} \\leq \\theta_{in,C}$ の場合： "
   ]
  },
  {
   "cell_type": "markdown",
   "metadata": {},
   "source": [
    "$$\\large\n",
    "\\begin{equation*}\n",
    "\\theta_{d,t,i}^* = \\theta_{ex,d,t}\n",
    "\\end{equation*}\n",
    "$$\n",
    "\n",
    "$$\\large\n",
    "\\begin{equation*}\n",
    "H_{d,t,i}^* = H_{floor}\n",
    "\\end{equation*}\n",
    "$$"
   ]
  },
  {
   "cell_type": "markdown",
   "metadata": {},
   "source": [
    "$L'_{CS,R,d,t,i} \\leq 0$ かつ $\\theta_{in,C} < \\theta_{ex,d,t}$ の場合： "
   ]
  },
  {
   "cell_type": "markdown",
   "metadata": {},
   "source": [
    "$$\\large\n",
    "\\begin{equation*}\n",
    "\\theta_{d,t,i}^* = \\theta_{in,C}\n",
    "\\end{equation*}\n",
    "$$\n",
    "\n",
    "$$\\large\n",
    "\\begin{equation*}\n",
    "H_{d,t,i}^* = 1\n",
    "\\end{equation*}\n",
    "$$"
   ]
  },
  {
   "cell_type": "markdown",
   "metadata": {},
   "source": [
    "$0 < L'_{CS,R,d,t,i}$ の場合： "
   ]
  },
  {
   "cell_type": "markdown",
   "metadata": {},
   "source": [
    "$$\\large\n",
    "\\begin{equation*}\n",
    "\\theta_{d,t,i}^* = \\theta_{in,H}\n",
    "\\end{equation*}\n",
    "$$\n",
    "\n",
    "$$\\large\n",
    "\\begin{equation*}\n",
    "H_{d,t,i}^* = 1\n",
    "\\end{equation*}\n",
    "$$"
   ]
  },
  {
   "cell_type": "markdown",
   "metadata": {},
   "source": [
    "$H_{d,t,i}^*$：日付$d$の時刻$t$における暖冷房区画$i$の参照温度差係数(-)  \n",
    "$H_{floor}$：床の温度差係数(-)  \n",
    "$L'_{CS,R,d,t,i}$：日付$d$の時刻$t$における標準住戸の暖冷房区画$i$の負荷補正前の冷房顕熱負荷(MJ/h)  \n",
    "$L'_{H,R,d,t,i}$：日付$d$の時刻$t$における標準住戸の暖冷房区画$i$の負荷補正前の暖房負荷(MJ/h)  \n",
    "$\\theta_{ex,d,t}$：日付$d$の時刻$t$における外気温度(℃)  \n",
    "$\\theta_{in,C}$：冷房時の室温(℃)  \n",
    "$\\theta_{in,H}$：暖房時の室温(℃)  \n",
    "$\\theta_{d,t,i}^*$：日付$d$の時刻$t$における暖冷房区画$i$の参照空気温度(℃)  "
   ]
  },
  {
   "cell_type": "markdown",
   "metadata": {},
   "source": [
    "床の温度差係数$H_{floor}$は、0.7 とする。暖房時の室温$\\theta_{in,H}$は、20℃とする。冷房時の室温$\\theta_{in,C}$は、27℃とする。 "
   ]
  },
  {
   "cell_type": "markdown",
   "metadata": {},
   "source": [
    "#### E.3 床の熱貫流率及び基礎の線熱貫流率"
   ]
  },
  {
   "cell_type": "markdown",
   "metadata": {},
   "source": [
    "暖冷房負荷計算時に\n",
    "想定した床の熱貫流率$U_{s,vert}$が2.223 W/(m<sup>2</sup>・K)を上回る場合には、2.223 W/(m2・K)とする。また、8 地域においては、暖冷房負荷計算時に想定した床の熱貫流率$U_{s,vert}$は、当該住戸の熱損失係数$Q$に係わらず2.223W/(m<sup>2</sup>・K)とする。 "
   ]
  },
  {
   "cell_type": "markdown",
   "metadata": {},
   "source": [
    "$$\n",
    "\\large\n",
    "U_{s,vert} = \\left\\{\n",
    "\\begin{array}{ll}\n",
    "\\frac{Q - Q_{1}}{Q_{0} - Q_{1}} \\times U_{s,R,Q_{0}} + \\frac{Q - Q_{0}}{Q_{1} - Q_{0}} \\times U_{s,R,Q_{1}} & (Q > Q_{1} の場合)\\\\\n",
    "\\frac{Q - Q_{2}}{Q_{1} - Q_{2}} \\times U_{s,R,Q_{1}} + \\frac{Q - Q_{1}}{Q_{2} - Q_{1}} \\times U_{s,R,Q_{2}} & (Q_{1} \\geq Q > Q_{2} の場合)\\\\\n",
    "\\frac{Q - Q_{3}}{Q_{2} - Q_{3}} \\times U_{s,R,Q_{2}} + \\frac{Q - Q_{2}}{Q_{3} - Q_{2}} \\times U_{s,R,Q_{3}} & (Q_{2} \\geq Q > Q_{3} の場合)\\\\\n",
    "\\frac{Q - Q_{4}}{Q_{3} - Q_{4}} \\times U_{s,R,Q_{3}} + \\frac{Q - Q_{3}}{Q_{4} - Q_{3}} \\times U_{s,R,Q_{4}} & (Q_{3} \\geq Q の場合)\\\\\n",
    "\\end{array}\n",
    "\\right.\n",
    "$$"
   ]
  },
  {
   "cell_type": "markdown",
   "metadata": {},
   "source": [
    "$U_{s,R,Q_{j}}$：断熱性能の区分${j}$の熱損失係数$Q_{j}$における標準住戸の床の熱貫流率(W/(m<sup>2</sup>・K))  \n",
    "$U_{s,vert}$：暖冷房負荷計算時に想定した床の熱貫流率(W/(m<sup>2</sup>・K))  \n",
    "$Q$：当該住戸の熱損失係数(W/m<sup>2</sup>・K)  \n",
    "$Q_{j}$：断熱性能の区分${j}$の熱損失係数(W/m<sup>2</sup>・K)  "
   ]
  },
  {
   "cell_type": "markdown",
   "metadata": {},
   "source": [
    "<div style=\"text-align: center;font-weight: bold;\">表　断熱性能の区分${j}$の熱損失係数$Q_{j}$における標準住戸の床の熱貫流率$U_{s,R,Q_{j}}$(W/(m<sup>2</sup>・K))</div>\n",
    "\n",
    "<table>\n",
    "<thead>\n",
    "<tr>\n",
    "<th rowspan=\"2\" colspan=\"2\"></th>\n",
    "<th colspan=\"7\">地域の区分</th>\n",
    "</tr>\n",
    "<tr>\n",
    "<th>1</th>\n",
    "<th>2</th>\n",
    "<th>3</th>\n",
    "<th>4</th>\n",
    "<th>5</th>\n",
    "<th>6</th>\n",
    "<th>7</th>\n",
    "</tr>\n",
    "</thead>\n",
    "\n",
    "<tbody>\n",
    "<tr>\n",
    "<th rowspan=\"5\">断熱性能の区分</th>\n",
    "<th>0</th>\n",
    "<td>2.223</td><td>2.223</td><td>2.223</td><td>2.223</td><td>2.223</td><td>2.223</td><td>2.223</td>\n",
    "</tr>\n",
    "<tr>\n",
    "<th>1</th>\n",
    "<td>0.342</td><td>0.342</td><td>0.964</td><td>0.949</td><td>1.208</td><td>1.208</td><td>2.223</td>\n",
    "</tr>\n",
    "<tr>\n",
    "<th>2</th>\n",
    "<td>0.427</td><td>0.427</td><td>0.791</td><td>0.825</td><td>1.360</td><td>1.360</td><td>1.633</td>\n",
    "</tr>\n",
    "<tr>\n",
    "<th>3</th>\n",
    "<td>0.319</td><td>0.319</td><td>0.359</td><td>0.564</td><td>0.554</td><td>0.554</td><td>0.554</td>\n",
    "</tr>\n",
    "<tr>\n",
    "<th>4</th>\n",
    "<td>0.272</td><td>0.272</td><td>0.272</td><td>0.373</td><td>0.373</td><td>0.373</td><td>0.373</td></tr>\n",
    "</tbody>\n",
    "</table>"
   ]
  },
  {
   "cell_type": "markdown",
   "metadata": {},
   "source": [
    "基礎の線熱貫流率$\\varphi$が2.289 W/(m・K)を上回る場合には、2.289 W/(m・K)とする。また、8 地域においては、基礎の線熱貫流率$\\varphi$は、当該住戸の熱損失係数$Q$に係わらず2.289 W/(m・K)とする。 "
   ]
  },
  {
   "cell_type": "markdown",
   "metadata": {},
   "source": [
    "$$\n",
    "\\large\n",
    "\\varphi = \\left\\{\n",
    "\\begin{array}{ll}\n",
    "\\frac{Q - Q_{1}}{Q_{0} - Q_{1}} \\times \\varphi_{Q_{0}} + \\frac{Q - Q_{0}}{Q_{1} - Q_{0}} \\times \\varphi_{Q_{1}} & (Q > Q_{1} の場合)\\\\\n",
    "\\frac{Q - Q_{2}}{Q_{1} - Q_{2}} \\times \\varphi_{Q_{1}} + \\frac{Q - Q_{1}}{Q_{2} - Q_{1}} \\times \\varphi_{Q_{2}} & (Q_{1} \\geq Q > Q_{2} の場合)\\\\\n",
    "\\frac{Q - Q_{3}}{Q_{2} - Q_{3}} \\times \\varphi_{Q_{2}} + \\frac{Q - Q_{2}}{Q_{3} - Q_{2}} \\times \\varphi_{Q_{3}} & (Q_{2} \\geq Q > Q_{3} の場合)\\\\\n",
    "\\frac{Q - Q_{4}}{Q_{3} - Q_{4}} \\times \\varphi_{Q_{3}} + \\frac{Q - Q_{3}}{Q_{4} - Q_{3}} \\times \\varphi_{Q_{4}} & (Q_{3} \\geq Q の場合)\\\\\n",
    "\\end{array}\n",
    "\\right.\n",
    "$$"
   ]
  },
  {
   "cell_type": "markdown",
   "metadata": {},
   "source": [
    "$\\varphi$：基礎の線熱貫流率(W/(m・K))  \n",
    "$\\varphi_{Q_{j}}$：断熱性能の区分${j}$の熱損失係数$Q_{j}$における基礎の線熱貫流率(W/(m・K))  \n",
    "$Q$：当該住戸の熱損失係数(W/m<sup>2</sup>・K)  \n",
    "$Q_{j}$：断熱性能の区分${j}$の熱損失係数(W/m<sup>2</sup>・K)  "
   ]
  },
  {
   "cell_type": "markdown",
   "metadata": {},
   "source": [
    "<div style=\"text-align: center;font-weight: bold;\">表　断熱性能の区分${j}$の熱損失係数$Q_{j}$における基礎の線熱貫流率$\\varphi_{Q_{j}}$ (W/(m・K)) </div>\n",
    "\n",
    "<table>\n",
    "<thead>\n",
    "<tr>\n",
    "<th rowspan=\"2\" colspan=\"2\"></th>\n",
    "<th colspan=\"7\">地域の区分</th>\n",
    "</tr>\n",
    "<tr>\n",
    "<th>1</th>\n",
    "<th>2</th>\n",
    "<th>3</th>\n",
    "<th>4</th>\n",
    "<th>5</th>\n",
    "<th>6</th>\n",
    "<th>7</th>\n",
    "</tr>\n",
    "</thead>\n",
    "\n",
    "<tbody>\n",
    "<tr>\n",
    "<th rowspan=\"5\">断熱性能の区分</th>\n",
    "<th>0</th>\n",
    "<td>2.289</td><td>2.289</td><td>2.289</td><td>2.289</td><td>2.289</td><td>2.289</td><td>2.289</td>\n",
    "</tr>\n",
    "<tr>\n",
    "<th>1</th>\n",
    "<td>0.635</td><td>0.635</td><td>1.517</td><td>1.504</td><td>1.872</td><td>1.872</td><td>2.289</td>\n",
    "</tr>\n",
    "<tr>\n",
    "<th>2</th>\n",
    "<td>0.675</td><td>0.675</td><td>1.272</td><td>1.329</td><td>2.087</td><td>2.087</td><td>2.289</td>\n",
    "</tr>\n",
    "<tr>\n",
    "<th>3</th>\n",
    "<td>0.516</td><td>0.516</td><td>0.573</td><td>0.877</td><td>0.863</td><td>0.863</td><td>0.863</td>\n",
    "</tr>\n",
    "<tr>\n",
    "<th>4</th>\n",
    "<td>0.450</td><td>0.450</td><td>0.450</td><td>0.601</td><td>0.601</td><td>0.601</td><td>0.601</td>\n",
    "</tbody>\n",
    "</table>"
   ]
  },
  {
   "cell_type": "markdown",
   "metadata": {},
   "source": [
    "<div style=\"text-align: center;font-weight: bold;\">表　断熱性能の区分${j}$の熱損失係数$Q_{j}$ (W/(m<sup>2</sup>・K)) </div>\n",
    "\n",
    "<table>\n",
    "<thead>\n",
    "<tr>\n",
    "<th rowspan=\"2\" colspan=\"2\"></th>\n",
    "<th colspan=\"7\">地域の区分</th>\n",
    "</tr>\n",
    "<tr>\n",
    "<th>1</th>\n",
    "<th>2</th>\n",
    "<th>3</th>\n",
    "<th>4</th>\n",
    "<th>5</th>\n",
    "<th>6</th>\n",
    "<th>7</th>\n",
    "</tr>\n",
    "</thead>\n",
    "\n",
    "<tbody>\n",
    "<tr>\n",
    "<th rowspan=\"5\">断熱性能の区分</th>\n",
    "<th>0</th>\n",
    "<td>8.26</td><td>8.26</td><td>8.26</td><td>8.49</td><td>8.49</td><td>8.49</td><td>8.49</td>\n",
    "</tr>\n",
    "<tr>\n",
    "<th>1</th>\n",
    "<td>2.8</td><td>2.8</td><td>4.0</td><td>4.7</td><td>5.19</td><td>5.19</td><td>8.27</td>\n",
    "</tr>\n",
    "<tr>\n",
    "<th>2</th>\n",
    "<td>1.8</td><td>1.8</td><td>2.7</td><td>3.3</td><td>4.2</td><td>4.2</td><td>4.59</td>\n",
    "</tr>\n",
    "<tr>\n",
    "<th>3</th>\n",
    "<td>1.6</td><td>1.6</td><td>1.9</td><td>2.4</td><td>2.7</td><td>2.7</td><td>2.7</td>\n",
    "</tr>\n",
    "<tr>\n",
    "<th>4</th>\n",
    "<td>1.4</td><td>1.4</td><td>1.4</td><td>1.9</td><td>1.9</td><td>1.9</td><td>1.9</td>\n",
    "</tbody>\n",
    "</table>"
   ]
  },
  {
   "cell_type": "markdown",
   "metadata": {},
   "source": [
    "#### E.4 床下空間に接する床の面積及び床下空間の基礎外周長さ"
   ]
  },
  {
   "cell_type": "markdown",
   "metadata": {},
   "source": [
    "$$\\large\n",
    "\\begin{equation*}\n",
    "L_{uf} = r_{a} \\times 4 \\times \\sqrt{A_{s,ufvnt,A}}\n",
    "\\end{equation*}\n",
    "$$"
   ]
  },
  {
   "cell_type": "markdown",
   "metadata": {},
   "source": [
    "$L_{uf}$：当該住戸の外気を導入する床下空間の基礎外周長さ(m)  \n",
    "$r_{a}$：床下の平面形状（アスペクト比等）を考慮した係数（無次元）。$r_{a} = 1.02$ とする。   \n",
    "$A_{s,ufvnt,A}$：当該住戸の空気を供給する床下空間に接する床の面積の合計(m<sup>2</sup>)  "
   ]
  },
  {
   "cell_type": "markdown",
   "metadata": {},
   "source": [
    "$$\\large\n",
    "\\begin{equation*}\n",
    "A_{s,ufvnt,i} = r_{A,uf,i} \\times A_{HCZ,i} \\times r_{A,ufvnt}\n",
    "\\end{equation*}\n",
    "$$\n",
    "\n",
    "$$\\large\n",
    "\\begin{equation*}\n",
    "A_{s,ufvnt,A} = \\sum_{i=1}^{12} A_{s,ufvnt,i}\n",
    "\\end{equation*}\n",
    "$$"
   ]
  },
  {
   "cell_type": "markdown",
   "metadata": {},
   "source": [
    "$A_{s,ufvnt,A}$：当該住戸の空気を供給する床下空間に接する床の面積の合計(m<sup>2</sup>)  \n",
    "$A_{s,ufvnt,i}$：当該住戸の暖冷房区画$i$の空気を供給する床下空間に接する床の面積(m<sup>2</sup>)  \n",
    "$A_{HCZ,i}$：暖冷房区画$i$の床面積(m<sup>2</sup>)  \n",
    "$r_{A,ufvnt}$：当該住戸において、床下空間全体の面積に対する空気を供給する床下空間の面積の比(-)   \n",
    "$r_{A,uf,i}$：当該住戸の暖冷房区画$i$の床面積のうち床下空間に接する床面積の割合(-)   "
   ]
  },
  {
   "cell_type": "markdown",
   "metadata": {},
   "source": [
    "<div style=\"text-align: center;font-weight: bold;\">表　暖冷房区画$i$の床面積のうち床下空間に接する床面積の割合$r_{A,uf,i}$</div>\n",
    "\n",
    "|暖冷房区画$i$の番号|室名|床下空間に接する床面積の割合$r_{A,uf,i}$（-）|\n",
    "|-|-|-|\n",
    "|1|LDK|1.0|\n",
    "|2|和室|1.0|\n",
    "|3|主寝室|0|\n",
    "|4|子供室1|0|\n",
    "|5|子供室2|0|\n",
    "|6|浴室|1.0|\n",
    "|7|1F便所|1.0|\n",
    "|8|洗面所|1.0|\n",
    "|9|ホール|$\\frac{10.76}{13.25}$|\n",
    "|10|クローゼット|0|\n",
    "|11|2Fホール|0|\n",
    "|12|2F便所|0|\n"
   ]
  },
  {
   "cell_type": "markdown",
   "metadata": {},
   "source": [
    "#### E.5 地盤またはそれを覆う基礎"
   ]
  },
  {
   "cell_type": "markdown",
   "metadata": {},
   "source": [
    "$$\\large\n",
    "\\begin{equation*}\n",
    "   \\theta_{g,surf,d,t} = \\frac{\\frac{\\phi_{A,0}}{R_g} \\theta_{uf,d,t} + \\sum_{m=1}^{M} \\theta'_{g,surf,A,m,d,t} + \\theta_{g,avg}}{1 + \\frac{\\phi_{A,0}}{R_g}}\n",
    "\\end{equation*}\n",
    "$$"
   ]
  },
  {
   "cell_type": "markdown",
   "metadata": {},
   "source": [
    "$M$：指数項の総数(-)  \n",
    "$R_g$：地盤またはそれを覆う基礎の表面熱伝達抵抗((m<sup>2</sup>・K)/W)  \n",
    "$\\theta_{g,avg}$：地盤の不易層温度(℃)  \n",
    "$\\theta_{uf,d,t}$：日付$d$の時刻$t$における当該住戸の床下温度(℃)  \n",
    "$\\theta_{g,surf,d,t}$：日付$d$の時刻$t$における地盤またはそれを覆う基礎の表面温度(℃)  \n",
    "$\\theta'_{g,surf,A,m,d,t}$：日付$d$の時刻$t$における指数項$m$の吸熱応答の項別成分(℃)  \n",
    "$\\phi_{A,0}$：吸熱応答係数の初項((m<sup>2</sup>・K)/W)  "
   ]
  },
  {
   "cell_type": "markdown",
   "metadata": {},
   "source": [
    "指数項の総数$M$は、10とする。地盤またはそれを覆う基礎の表面熱伝達抵抗$R_g$は、0.15 (m<sup>2</sup>・K)/W とする。吸熱応答係数の初項$\\phi_{A,0}$は、0.025504994 (m<sup>2</sup>・K)/W とする。"
   ]
  },
  {
   "cell_type": "markdown",
   "metadata": {},
   "source": [
    "$$\\large\n",
    "\\begin{equation*}\n",
    "   \\theta_{g,avg} = \\frac{\\sum_{d=1}^{365} \\sum_{t=0}^{23} \\theta_{ex,d,t}}{8760}\n",
    "\\end{equation*}\n",
    "$$"
   ]
  },
  {
   "cell_type": "markdown",
   "metadata": {},
   "source": [
    "$\\theta_{ex,d,t}$：日付$d$の時刻$t$における外気温度(℃)  \n",
    "$\\theta_{g,avg}$：地盤の不易層温度(℃)  "
   ]
  },
  {
   "cell_type": "markdown",
   "metadata": {},
   "source": [
    "$$\\large\n",
    "\\begin{equation*}\n",
    "    \\theta'_{g,surf,A,m,d,t} = \\phi_{1,A,m} q_{g,d,t-1} + r_{m} \\theta'_{g,surf,A,m,d,t-1}\n",
    "\\end{equation*}\n",
    "$$"
   ]
  },
  {
   "cell_type": "markdown",
   "metadata": {},
   "source": [
    "$q_{g,d,t-1}$：日付$d$の時刻$t-1$における地盤またはそれを覆う基礎の表面熱流(W/m<sup>2</sup>)   \n",
    "$r_{m}$：指数項$m$における公比(-)  \n",
    "$\\theta'_{g,surf,A,m,d,t-1}$：日付$d$の時刻$t-1$における指数項$m$の吸熱応答の項別成分(℃)  \n",
    "$\\phi_{1,A,m}$：指数項$m$における吸熱応答係数((m<sup>2</sup>・K)/W)  "
   ]
  },
  {
   "cell_type": "markdown",
   "metadata": {},
   "source": [
    "<div style=\"text-align: center;font-weight: bold;\">表　指数項$m$における公比$r_{m}$及び吸熱応答係数$\\phi_{1,A,m}$</div>\n",
    "\n",
    "|指数項$m$|公比$r_{m}$(-)|吸熱応答係数$\\phi_{1,A,m}$((m<sup>2</sup>・K)/W)|\n",
    "|-|-|-|\n",
    "|1|0.999996185007277|-0.0000000373932617900396|\n",
    "|2|0.999984740116433|0.0000007335783188647870|\n",
    "|3|0.999938961862903|-0.0000099402124533592900|\n",
    "|4|0.999755929789981|0.0005842990301842850000|\n",
    "|5|0.999023876718580|0.0003844348238087120000|\n",
    "|6|0.996101618495491|0.0006186789168868810000|\n",
    "|7|0.984491514535530|0.0027429049659913000000|\n",
    "|8|0.939413062813476|0.0008772601274016750000|\n",
    "|9|0.778800783071405|0.0116100392142522000000|\n",
    "|10|0.367879441171442|0.0015655689737126900000|\n"
   ]
  },
  {
   "cell_type": "markdown",
   "metadata": {},
   "source": [
    "$$\\large\n",
    "\\begin{equation*}\n",
    "    q_{g,d,t-1} = \\frac{1}{R_g} (\\theta_{uf,d,t-1} - \\theta_{g,surf,d,t-1})\n",
    "\\end{equation*}\n",
    "$$"
   ]
  },
  {
   "cell_type": "markdown",
   "metadata": {},
   "source": [
    "$q_{g,d,t-1}$：日付$d$の時刻$t-1$における地盤またはそれを覆う基礎の表面熱流(W/m<sup>2</sup>)   \n",
    "$R_g$：地盤またはそれを覆う基礎の表面熱伝達抵抗((m<sup>2</sup>・K)/W)  \n",
    "$\\theta_{uf,d,t-1}$：日付$d$の時刻$t-1$における当該住戸の床下温度(℃)  \n",
    "$\\theta_{g,surf,d,t-1}$：日付$d$の時刻$t-1$における地盤またはそれを覆う基礎の表面温度(℃)  "
   ]
  },
  {
   "cell_type": "markdown",
   "metadata": {},
   "source": [
    "地盤またはそれを覆う基礎の表面熱伝達抵抗$R_g$は、0.15 (m<sup>2</sup>・K)/W とする。 "
   ]
  },
  {
   "cell_type": "markdown",
   "metadata": {},
   "source": [
    "日付$d$の時刻$t$が 1 月 1 日 0 時の場合、1 時刻前における当該住戸の床下温度$\\theta_{uf,d,t-1}$、地盤またはそれを覆う基礎の表面温度$\\theta_{g,surf,d,t-1}$及び指数項$m$の吸熱応答の項別成分$\\theta'_{g,surf,A,m,d,t-1}$ には、地盤またはそれを覆う基礎の表面温度について助走計算を行うことにより得られる最終値を用いることとする。 "
   ]
  },
  {
   "cell_type": "markdown",
   "metadata": {},
   "source": [
    "助走計算では、計算タイムステップを 1 時間、計算期間を 1 月 1 日 0 時から 12 月 31 日 23 時までの 1 年間とする。"
   ]
  },
  {
   "cell_type": "markdown",
   "metadata": {},
   "source": [
    "床下空間が断熱区画内である場合： "
   ]
  },
  {
   "cell_type": "markdown",
   "metadata": {},
   "source": [
    "$\\theta_{ex,d,t} < \\theta_{in,H}$ の場合： "
   ]
  },
  {
   "cell_type": "markdown",
   "metadata": {},
   "source": [
    "$$\\large\n",
    "\\begin{equation*}\n",
    "\\theta_{uf,d,t} = \\theta_{in,H}\n",
    "\\end{equation*}\n",
    "$$"
   ]
  },
  {
   "cell_type": "markdown",
   "metadata": {},
   "source": [
    "$\\theta_{in,C} < \\theta_{ex,d,t}$ の場合： "
   ]
  },
  {
   "cell_type": "markdown",
   "metadata": {},
   "source": [
    "$$\\large\n",
    "\\begin{equation*}\n",
    "\\theta_{uf,d,t} = \\theta_{in,C}\n",
    "\\end{equation*}\n",
    "$$"
   ]
  },
  {
   "cell_type": "markdown",
   "metadata": {},
   "source": [
    "$\\theta_{in,H} \\leq \\theta_{ex,d,t} \\leq \\theta_{in,C}$ の場合： "
   ]
  },
  {
   "cell_type": "markdown",
   "metadata": {},
   "source": [
    "$$\\large\n",
    "\\begin{equation*}\n",
    "\\theta_{uf,d,t} = \\theta_{ex,d,t}\n",
    "\\end{equation*}\n",
    "$$"
   ]
  },
  {
   "cell_type": "markdown",
   "metadata": {},
   "source": [
    "床下空間が断熱区画外である場合："
   ]
  },
  {
   "cell_type": "markdown",
   "metadata": {},
   "source": [
    "$\\theta_{ex,d,t} < \\theta_{in,H}$ の場合： "
   ]
  },
  {
   "cell_type": "markdown",
   "metadata": {},
   "source": [
    "$$\\large\n",
    "\\begin{equation*}\n",
    "\\theta_{uf,d,t} = \\theta_{ex,d,t} \\times H_{base,IS} + \\theta_{in,H} \\times (1 - H_{floor})\n",
    "\\end{equation*}\n",
    "$$"
   ]
  },
  {
   "cell_type": "markdown",
   "metadata": {},
   "source": [
    "$\\theta_{in,C} < \\theta_{ex,d,t}$ の場合： "
   ]
  },
  {
   "cell_type": "markdown",
   "metadata": {},
   "source": [
    "$$\\large\n",
    "\\begin{equation*}\n",
    "\\theta_{uf,d,t} = \\theta_{ex,d,t} \\times H_{base,IS} + \\theta_{in,C} \\times (1 - H_{floor})\n",
    "\\end{equation*}\n",
    "$$"
   ]
  },
  {
   "cell_type": "markdown",
   "metadata": {},
   "source": [
    "$\\theta_{in,H} \\leq \\theta_{ex,d,t} \\leq \\theta_{in,C}$ の場合： "
   ]
  },
  {
   "cell_type": "markdown",
   "metadata": {},
   "source": [
    "$$\\large\n",
    "\\begin{equation*}\n",
    "\\theta_{uf,d,t} = \\theta_{ex,d,t}\n",
    "\\end{equation*}\n",
    "$$"
   ]
  },
  {
   "cell_type": "markdown",
   "metadata": {},
   "source": [
    "$H_{floor}$：床の温度差係数(-)  \n",
    "$\\theta_{ex,d,t}$：日付$d$の時刻$t$における外気温度(℃)  \n",
    "$\\theta_{in,C}$：冷房時の室温(℃)  \n",
    "$\\theta_{in,H}$：暖房時の室温(℃)  \n",
    "$\\theta_{uf,d,t}$：日付$d$の時刻$t$における当該住戸の床下温度(℃)  "
   ]
  },
  {
   "cell_type": "markdown",
   "metadata": {},
   "source": [
    "床の温度差係数$H_{floor}$は、0.7 とする。冷房時の室温$\\theta_{in,C}$は、27℃とする。暖房時の室温$\\theta_{in,H}$は、20℃とする。また、日付$d$の時刻$t$が 1 月 1 日 0 時の場合、1 時刻前における当該住戸の床下温度$\\theta_{uf,d,t-1}$、地盤またはそれを覆う基礎の表面温度$\\theta_{g,surf,d,t-1}$及び指数項$m$の吸熱応答の項別成分$\\theta'_{g,surf,A,m,d,t-1}$ は、いずれもゼロとする。 "
   ]
  }
 ],
 "metadata": {
  "kernelspec": {
   "display_name": "Python 3",
   "language": "python",
   "name": "python3"
  },
  "language_info": {
   "codemirror_mode": {
    "name": "ipython",
    "version": 3
   },
   "file_extension": ".py",
   "mimetype": "text/x-python",
   "name": "python",
   "nbconvert_exporter": "python",
   "pygments_lexer": "ipython3",
   "version": "3.7.1"
  }
 },
 "nbformat": 4,
 "nbformat_minor": 2
}
