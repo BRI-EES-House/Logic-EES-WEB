{
 "cells": [
  {
   "cell_type": "code",
   "execution_count": null,
   "metadata": {},
   "outputs": [],
   "source": [
    "import numpy as np"
   ]
  },
  {
   "cell_type": "markdown",
   "metadata": {},
   "source": [
    "## 付録L　温水床暖房"
   ]
  },
  {
   "cell_type": "markdown",
   "metadata": {},
   "source": [
    "### L.1 記号及び単位"
   ]
  },
  {
   "cell_type": "markdown",
   "metadata": {},
   "source": [
    "省略"
   ]
  },
  {
   "cell_type": "markdown",
   "metadata": {},
   "source": [
    "### L.2 熱損失"
   ]
  },
  {
   "cell_type": "markdown",
   "metadata": {},
   "source": [
    "$$\\large\n",
    "Q_{loss,rad} = Q_{T,H,rad} \\times \\frac{(1 - r_{up})}{r_{up}}\n",
    "$$"
   ]
  },
  {
   "cell_type": "markdown",
   "metadata": {},
   "source": [
    "$Q_{T,H,rad}$：1 時間当たりの放熱器の処理暖房負荷(MJ/h)  \n",
    "$r_{up}$：温水床暖房の上面放熱率  "
   ]
  },
  {
   "cell_type": "code",
   "execution_count": null,
   "metadata": {},
   "outputs": [],
   "source": [
    "# 放熱器の熱損失 (1)\n",
    "def get_Q_loss_rad(Q_T_H_rad, r_up):\n",
    "    \"\"\"\n",
    "    :param Q_T_H_rad: 1時間当たりの放熱器の処理暖房負荷 (MJ/h)\n",
    "    :param r_up: 温水床暖房の定免法熱率 (-)\n",
    "    :return: 放熱器の熱損失 (MJ/h)\n",
    "    \"\"\"\n",
    "    return Q_T_H_rad * (1 - r_up) / r_up"
   ]
  },
  {
   "cell_type": "markdown",
   "metadata": {},
   "source": [
    "### L.3 温水供給運転率"
   ]
  },
  {
   "cell_type": "markdown",
   "metadata": {},
   "source": [
    "$$\\large\n",
    "r_{WS,rad} = \\frac{Q_{T,H,rad}}{Q_{max,H,rad}}\n",
    "$$"
   ]
  },
  {
   "cell_type": "markdown",
   "metadata": {},
   "source": [
    "$r_{WS,rad}$：放熱器の温水供給運転率  \n",
    "$Q_{T,H,rad}$：1 時間当たりの放熱器の処理暖房負荷(MJ/h)  \n",
    "$Q_{max,H,rad}$：1 時間当たりの放熱器の最大暖房出力(MJ/h)  "
   ]
  },
  {
   "cell_type": "code",
   "execution_count": null,
   "metadata": {},
   "outputs": [],
   "source": [
    "# 温水供給運転率 (2)\n",
    "def get_r_WS_rad(Q_T_H_rad, Q_max_H_rad):\n",
    "    \"\"\"\n",
    "    :param Q_T_H_rad: 1時間当たりの放熱器の処理暖房負荷 (MJ/h)\n",
    "    :param Q_max_H_rad: 1時間当たりの放熱器の最大暖房出力 (MJ/h)\n",
    "    :return: 温水供給運転率 (-)\n",
    "    \"\"\"\n",
    "    return Q_T_H_rad / Q_max_H_rad"
   ]
  },
  {
   "cell_type": "markdown",
   "metadata": {},
   "source": [
    "### L.4 最大暖房出力"
   ]
  },
  {
   "cell_type": "markdown",
   "metadata": {},
   "source": [
    "$$\\large\n",
    "Q_{max,H,rad} = q_{max,fh} \\times A_{f} \\times \\frac{\\theta_{SW} - 20}{60 - 20} \\times 3600 \\times 10^{-6}\n",
    "$$"
   ]
  },
  {
   "cell_type": "markdown",
   "metadata": {},
   "source": [
    "$Q_{max,H,rad}$：1 時間当たりの放熱器の最大暖房出力(MJ/h)  \n",
    "$q_{max,fh}$：温水床暖房の単位面積当たりの上面最大放熱能力(W/m<sup>2</sup>)  \n",
    "$A_{f}$：温水床暖房の敷設面積(m<sup>2</sup>)  \n",
    "$\\theta_{SW}$：1 時間平均の往き送水温度(℃)  "
   ]
  },
  {
   "cell_type": "code",
   "execution_count": null,
   "metadata": {},
   "outputs": [],
   "source": [
    "# 放熱器の最大暖房出力 (3)\n",
    "def get_Q_max_H_rad(Theta_SW, A_f):\n",
    "    \"\"\"\n",
    "    :param Theta_SW: 1時間平均の往き温水温度 (℃)\n",
    "    :param A_f: 温水床暖房の敷設面積 (m2)\n",
    "    :return: 放熱器の最大暖房出力 (MJ/h)\n",
    "    \"\"\"\n",
    "\n",
    "    # 温水床暖房の単位面積当たりの上面最大放熱能力 (W/m2)\n",
    "    q_max_fh = get_q_max_fh()\n",
    "\n",
    "    Q_max_H_rad = np.ones(24*365) * q_max_fh * A_f * (Theta_SW - 20) / (60 - 20) * 3600 * 10 ** (-6)\n",
    "\n",
    "    return Q_max_H_rad"
   ]
  },
  {
   "cell_type": "markdown",
   "metadata": {},
   "source": [
    "温水床暖房の単位面積当たりの上面最大放熱能力$q_{max,fh}$は162W/m<sup>2</sup> とする。 "
   ]
  },
  {
   "cell_type": "code",
   "execution_count": null,
   "metadata": {},
   "outputs": [],
   "source": [
    "# 温水床暖房の単位面積当たりの上面最大放熱能力 (W/m2)\n",
    "def get_q_max_fh():\n",
    "    return 162"
   ]
  },
  {
   "cell_type": "markdown",
   "metadata": {},
   "source": [
    "### L.5 敷設面積"
   ]
  },
  {
   "cell_type": "markdown",
   "metadata": {},
   "source": [
    "$$\\large\n",
    "A_{f} = A_{HCZ} \\times r_{Af}\n",
    "$$"
   ]
  },
  {
   "cell_type": "markdown",
   "metadata": {},
   "source": [
    "$A_{f}$：温水床暖房の敷設面積(m<sup>2</sup>)  \n",
    "$A_{HCZ}$：暖冷房区画の床面積(m<sup>2</sup>)  \n",
    "$r_{Af}$：温水床暖房の敷設率  "
   ]
  },
  {
   "cell_type": "code",
   "execution_count": null,
   "metadata": {},
   "outputs": [],
   "source": [
    "# 温水床暖房の敷設面積 (4)\n",
    "def get_A_f(A_HCZ, r_Af):\n",
    "    \"\"\"\n",
    "    :param A_HCZ: 温水床暖房の敷設面積 (m2)\n",
    "    :param r_Af: 暖冷房区画の床面積 (m2)\n",
    "    :return: 温水床暖房の敷設面積 (m2)\n",
    "    \"\"\"\n",
    "    return A_HCZ * r_Af"
   ]
  },
  {
   "cell_type": "code",
   "execution_count": null,
   "metadata": {},
   "outputs": [],
   "source": [
    "# 温水床暖房の敷設率 (5)\n",
    "def get_r_f(A_f, A_HCZ):\n",
    "    \"\"\"\n",
    "    :param A_f: 温水床暖房の敷設面積 (m2)\n",
    "    :param A_HCZ: 温水床暖房の敷設面積 (m2)\n",
    "    :return: 温水床暖房の敷設率 (-)\n",
    "    \"\"\"\n",
    "    r_f = A_f / A_HCZ\n",
    "\n",
    "    # 1000分の1未満の端数を切り下げた小数第三位までの値とする\n",
    "    r_f = floor(r_f * 1000) / 1000\n",
    "\n",
    "    return r_f"
   ]
  },
  {
   "cell_type": "markdown",
   "metadata": {},
   "source": [
    "### L.6 上面放熱率"
   ]
  },
  {
   "cell_type": "markdown",
   "metadata": {},
   "source": [
    "省略"
   ]
  },
  {
   "cell_type": "code",
   "execution_count": null,
   "metadata": {},
   "outputs": [],
   "source": [
    "# 上面放熱率 (6)\n",
    "def get_r_up(is_domayuka):\n",
    "    # 土間床に設置された温水床暖房の上面放熱率は0.90とする\n",
    "    if is_domayuka:\n",
    "        return 0.90\n",
    "\n",
    "    else:\n",
    "        # R_si + R_U\n",
    "        R_si_plus_R_U = get_R_si_plus_R_U()\n",
    "\n",
    "        # (6)\n",
    "        r_up = 1 - H * R_si_plus_R_U * R_U\n",
    "\n",
    "        # 100 分の 1 未満の端数を切り捨てした小数点第 二位までの値\n",
    "        return floor(r_up * 100) / 100"
   ]
  },
  {
   "cell_type": "code",
   "execution_count": null,
   "metadata": {},
   "outputs": [],
   "source": [
    "# 1) 床暖房パネルの床上側表面熱伝達抵抗と床暖房パネル内の配管から床仕上げ材上側表面までの熱抵抗の合計\n",
    "def get_R_si_plus_R_U():\n",
    "    return 0.269"
   ]
  },
  {
   "cell_type": "code",
   "execution_count": null,
   "metadata": {},
   "outputs": [],
   "source": [
    "# 2) 温度差係数U\n",
    "def get_H(region, is_adjacent_not_insulated):\n",
    "    # TODO: 第3章第2節への参照\n",
    "    if is_adjacent_not_insulated:\n",
    "        raise NotImplementedError()\n",
    "    else:\n",
    "        if region in [1, 2, 3]:\n",
    "            return 0.05\n",
    "        elif region in [4, 5, 6, 7]:\n",
    "            return 0.15\n",
    "        else:\n",
    "            raise NotImplementedError()"
   ]
  },
  {
   "cell_type": "markdown",
   "metadata": {},
   "source": [
    "### L.7 複数の温水床暖房が設置される場合の仕様の決定方法"
   ]
  },
  {
   "cell_type": "markdown",
   "metadata": {},
   "source": [
    "省略"
   ]
  }
 ],
 "metadata": {
  "kernelspec": {
   "display_name": "Python 3",
   "language": "python",
   "name": "python3"
  },
  "language_info": {
   "codemirror_mode": {
    "name": "ipython",
    "version": 3
   },
   "file_extension": ".py",
   "mimetype": "text/x-python",
   "name": "python",
   "nbconvert_exporter": "python",
   "pygments_lexer": "ipython3",
   "version": "3.6.4"
  }
 },
 "nbformat": 4,
 "nbformat_minor": 2
}
