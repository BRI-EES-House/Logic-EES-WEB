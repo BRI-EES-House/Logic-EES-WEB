{
 "cells": [
  {
   "cell_type": "markdown",
   "metadata": {},
   "source": [
    "使用許諾条件\n",
    "\n",
    "①\t設計一次エネルギー消費量算定法に基づく計算方法をPythonによりコーディングし、Jupyter notebook形式で保存したファイル（以下、本ファイルと呼ぶ）の著作権は、一般社団法人日本サステナブル建築協会に帰属します。\n",
    "Copyright©2019. 一般社団法人日本サステナブル建築協会\n",
    "All rights reserved. \n",
    "\n",
    "②\t本ファイルは、住戸の設計一次エネルギー消費量算定方法に係る「平成28年省エネルギー基準に準拠したエネルギー消費性能の評価に関する技術情報（住宅）2.1算定方法（第三章第二節 外皮性能）」に示す計算方法に基づき、国土交通省国土技術政策総合研究所・国立研究開発法人建築研究所、株式会社ユーワークス、株式会社住環境計画研究所が作成したものです。\n",
    "\n",
    "③\t本ファイルは、計算方法に示す計算過程の確認及び調査研究等に活用することを目的として作成されたものであり、一般社団法人日本サステナブル建築協会は著作権について放棄はしませんが、使用する各人の自己責任において仕様を変更することを妨げるものではありません。ただし、本ファイルによる計算結果を住宅の省エネルギー基準で規定する設計一次エネルギー消費量の結果として公的な申請に用いることはできません。\n",
    "\n",
    "④\t本ファイルを変更するかしないかを問わず、以下の条件を満たす場合に限り、頒布および使用が許可されます。\n",
    "1.\t頒布物の付属ドキュメント等の資料に、上記の著作権表示、本条件一覧、および下記免責条項を含めること。\n",
    "2.\t書面による特別の許可なしに、本ファイルから派生した製品の宣伝または販売の促進に、一般社団法人日本サステナブル建築協会、国土技術政策総合研究所・国立研究開発法人建築研究所および株式会社ユーワークス、株式会社住環境計画研究所の名前またはコントリビューターの名前を使用してはならない。\n",
    "\n",
    "⑤\t本ファイルは、著作権者およびコントリビューターによって「現状のまま」提供されており、明示黙示を問わず、商業的な使用可能性、および特定の目的に対する適合性に関する暗黙の保証も含め、またそれに限定されない、いかなる保証もありません。著作権もコントリビューターも、事由のいかんを問わず、損害発生の原因いかんを問わず、かつ責任の根拠が契約であるか厳格責任であるか（過失その他の）不法行為であるかを問わず、仮にそのような損害が発生する可能性を知らされていたとしても、本ファイルの使用によって発生した（代用品または代用サービスの調達、使用の喪失、データの喪失、利益の喪失、業務の中断も含め、またそれに限定されない）直接損害、間接損害、偶発的な損害、特別損害、懲罰的損害、または結果損害について、一切の責任を負わないものとします。\n",
    "\n"
   ]
  },
  {
   "cell_type": "code",
   "execution_count": null,
   "metadata": {},
   "outputs": [],
   "source": [
    "import section3_4 as eater\n"
   ]
  },
  {
   "cell_type": "markdown",
   "metadata": {},
   "source": [
    "## 第二節　外皮性能 / Section 2 Envelope Performance"
   ]
  },
  {
   "cell_type": "markdown",
   "metadata": {},
   "source": [
    "1．適用範囲～4．記号及び単位は省略"
   ]
  },
  {
   "cell_type": "markdown",
   "metadata": {},
   "source": [
    "1. Scope of application ~ 4. Symbols and units are omitted"
   ]
  },
  {
   "cell_type": "code",
   "execution_count": 1,
   "metadata": {},
   "outputs": [],
   "source": [
    "def calc_insulation_performance(method, A_env=None, A_A=None, U_A=None, eta_A_H=None, eta_A_C=None,\n",
    "                                house_insulation_type=None, insulation_structure=None,\n",
    "                                U_spec=None,f_H=None,f_C=None,eta_d_H=None,eta_d_C=None,region=None):\n",
    "    if method == '当該住宅の外皮面積の合計を用いて評価する':\n",
    "        # 床面積の合計に対する外皮の部位の面積の合計の比\n",
    "        r_env = calc_r_env(\n",
    "            method='当該住戸の外皮の部位の面積等を用いて外皮性能を評価する方法',\n",
    "            A_env=A_env,\n",
    "            A_A=A_A\n",
    "        )\n",
    "    elif method == '簡易的に求めた外皮面積の合計を用いて評価する':\n",
    "        # 床面積の合計に対する外皮の部位の面積の合計の比\n",
    "        r_env = calc_r_env(\n",
    "            method='当該住戸の外皮の部位の面積等を用いずに外皮性能を評価する方法',\n",
    "            house_insulation_type=house_insulation_type\n",
    "        )\n",
    "    elif method == '当該住戸の外皮の部位の面積等を用いて外皮性能を評価する方法':\n",
    "        # 断熱構造による住戸の種類に応じてU_A値を計算する\n",
    "        U_A, U = simple.calc_U_A(insulation_structure, **U_spec)\n",
    "\n",
    "        # 床面積の合計に対する外皮の部位の面積の合計の比\n",
    "        r_env = calc_r_env(\n",
    "            method='当該住戸の外皮の部位の面積等を用いずに外皮性能を評価する方法',\n",
    "            house_insulation_type=U['house_insulation_type']\n",
    "        )\n",
    "\n",
    "        # 暖房期平均日射熱取得率(ηAH)\n",
    "        eta_A_H = calc_eta_A_H(\n",
    "            method='当該住戸の外皮の部位の面積等を用いずに外皮性能を評価する方法',\n",
    "            region=region,\n",
    "            house_insulation_type=U['house_insulation_type'],\n",
    "            U_roof=U['U_roof'],\n",
    "            U_wall=U['U_wall'],\n",
    "            U_door=U['U_door'],\n",
    "            U_base_etrc=U['U_base_etrc'],\n",
    "            U_base_bath=U['U_base_bath'],\n",
    "            U_base_other=U['U_base_other'],\n",
    "            etr_d=eta_d_H,\n",
    "            f_H=f_H\n",
    "        )\n",
    "\n",
    "        # 冷房期平均日射熱取得率(ηAC)\n",
    "        eta_A_C = calc_eta_A_C(\n",
    "            method='当該住戸の外皮の部位の面積等を用いずに外皮性能を評価する方法',\n",
    "            region=region,\n",
    "            house_insulation_type=U['house_insulation_type'],\n",
    "            U_roof=U['U_roof'],\n",
    "            U_wall=U['U_wall'],\n",
    "            U_door=U['U_door'],\n",
    "            U_base_etrc=U['U_base_etrc'],\n",
    "            U_base_bath=U['U_base_bath'],\n",
    "            U_base_other=U['U_base_other'],\n",
    "            etr_d=eta_d_C,\n",
    "            f_C=f_C\n",
    "        )\n",
    "\n",
    "        house_insulation_type = U['house_insulation_type']\n",
    "    else:\n",
    "        raise ValueError(method)\n",
    "\n",
    "    # 熱損失係数（換気による熱損失を含まない）\n",
    "    Q_dash = get_Q_dash(U_A, r_env)\n",
    "\n",
    "    # 日射取得係数\n",
    "    eta_H = get_eta_H(eta_A_H, r_env)\n",
    "    eta_C = get_eta_C(eta_A_C, r_env)\n",
    "\n",
    "    return U_A, r_env, eta_A_H, eta_A_C, Q_dash, eta_H, eta_C, house_insulation_type"
   ]
  },
  {
   "cell_type": "markdown",
   "metadata": {},
   "source": [
    "### 5. 熱損失係数（換気による熱損失を含まない） / Heat loss coefficient (does not include heat loss due to ventilation)"
   ]
  },
  {
   "cell_type": "markdown",
   "metadata": {},
   "source": [
    "$$\\large\n",
    "Q' = U_{A} \\times r_{env}\n",
    "$$"
   ]
  },
  {
   "cell_type": "markdown",
   "metadata": {},
   "source": [
    "$Q'$：熱損失係数（換気による熱損失を含まない）(W/m<sup>2</sup>K) / Heat loss coefficient (does not include heat loss due to ventilation)  \n",
    "$U_{A}$：外皮平均熱貫流率(W/m<sup>2</sup>K) / Average heat penetration coefficient of skin  \n",
    "$r_{env}$：床面積の合計に対する外皮の部位の面積の合計の比 / Ratio of the sum of the area of the area of the hull to the sum of the floor area "
   ]
  },
  {
   "cell_type": "code",
   "execution_count": 1,
   "metadata": {},
   "outputs": [],
   "source": [
    "# 熱損失係数（換気による熱損失を含まない） (1)\n",
    "def get_Q_dash(U_A, r_env):\n",
    "    return U_A * r_env  # (1)"
   ]
  },
  {
   "cell_type": "markdown",
   "metadata": {},
   "source": [
    "### 6. 日射取得係数 / Solar radiation acquisition coefficient"
   ]
  },
  {
   "cell_type": "markdown",
   "metadata": {},
   "source": [
    "$$\\large\n",
    "\\mu_{H} = \\frac{\\eta_{A,H}}{100} \\times r_{env}\n",
    "$$\n",
    "\n",
    "$$\\large\n",
    "\\mu_{C} = \\frac{\\eta_{A,C}}{100} \\times r_{env}\n",
    "$$"
   ]
  },
  {
   "cell_type": "markdown",
   "metadata": {},
   "source": [
    "$\\mu_{H}$：暖房期の日射取得係数(-) / Solar radiation acquisition factor of heating season  \n",
    "$\\mu_{C}$：冷房期の日射取得係数(-) / Solar radiation acquisition coefficient during the cooling period  \n",
    "$\\eta_{A,H}$：暖房期の平均日射熱取得率(％) / Average solar heat gain rate during the heating season  \n",
    "$\\eta_{A,C}$：冷房期の平均日射熱取得率(％) / Average solar heat gain rate during the cooling period  \n",
    "$r_{env}$：床面積の合計に対する外皮の部位の面積の合計の比 / Ratio of the total area of the area of the hull to the total floor area"
   ]
  },
  {
   "cell_type": "code",
   "execution_count": 2,
   "metadata": {},
   "outputs": [],
   "source": [
    "# 暖房期の日射取得係数 (2)\n",
    "def get_eta_H(eta_A_H, r_env):\n",
    "    if eta_A_H is None:\n",
    "        return None\n",
    "    return eta_A_H / 100.0 * r_env"
   ]
  },
  {
   "cell_type": "code",
   "execution_count": 3,
   "metadata": {},
   "outputs": [],
   "source": [
    "# 冷房期の日射取得係数 (3)\n",
    "def get_eta_C(eta_A_C, r_env):\n",
    "    return eta_A_C / 100.0 * r_env"
   ]
  },
  {
   "cell_type": "markdown",
   "metadata": {},
   "source": [
    "### 7. 外皮平均熱貫流率並びに暖房期及び冷房期の平均日射熱取得率 / Skin average heat transmission rate and average solar heat gain rate during heating and cooling periods"
   ]
  },
  {
   "cell_type": "markdown",
   "metadata": {},
   "source": [
    "省略"
   ]
  },
  {
   "cell_type": "markdown",
   "metadata": {},
   "source": [
    "ommision"
   ]
  },
  {
   "cell_type": "markdown",
   "metadata": {},
   "source": [
    "### 8. 当該住戸の外皮の部位の面積等を用いて外皮性能を評価する方法 / Method to evaluate shell performance using area of part of shell of the dwelling unit concerned"
   ]
  },
  {
   "cell_type": "markdown",
   "metadata": {},
   "source": [
    "#### 8.1 外皮平均熱貫流率 / Average heat penetration coefficient of skin"
   ]
  },
  {
   "cell_type": "markdown",
   "metadata": {},
   "source": [
    "外皮平均熱貫流率$U_{A}$は100 分の 1 未満の端数を切り上げた小数第二位までの値とする。"
   ]
  },
  {
   "cell_type": "markdown",
   "metadata": {},
   "source": [
    "The average crustal heat transfer coefficient $U_{A}$ is a value up to the second decimal place rounded up to the nearest hundredth."
   ]
  },
  {
   "cell_type": "markdown",
   "metadata": {},
   "source": [
    "$$\\large\n",
    "U_{A} = \\bigg( \\sum_{i} (A_{i} \\times U_{i} \\times H_{i}) + \\sum_{i} (L_{j} \\times \\Psi_{j} \\times H_{j}) \\bigg) \\big/ A_{env}\n",
    "$$"
   ]
  },
  {
   "cell_type": "markdown",
   "metadata": {},
   "source": [
    "$A_{i}$：外皮の部位（一般部位又は開口部）$i$の面積(m<sup>2</sup>) / Area of skin (general part or opening) $i$  \n",
    "$U_{i}$：外皮の部位（一般部位又は開口部）$i$の熱貫流率(W/m<sup>2</sup>K) / Heat transmission coefficient of site (general site or opening) $i$ of outer skin  \n",
    "$H_{i}$：外皮の部位（一般部位又は開口部）$i$の温度差係数 / Temperature difference coefficient of site (general site or opening) $i$ of outer skin  \n",
    "$L_{j}$：熱橋等（熱橋及び土間床等の外周部）$j$の長さ(m<sup>2</sup>) / Thermal bridge, etc. (peripheral part of thermal bridge, floor between floors, etc.) Length of $ j $  \n",
    "$\\Psi_{j}$：熱橋等（熱橋及び土間床等の外周部）$j$の線熱貫流率(W/mK) / Heat transfer coefficient of thermal bridge etc. (peripheral part of thermal bridge and soil floor etc) $ j $  \n",
    "$H_{j}$：熱橋等（熱橋及び土間床等の外周部）$j$の温度差係数 / Thermal bridge, etc. (The outer circumference of the thermal bridge and the floor between soils, etc.) $ j $ temperature difference coefficient  \n",
    "$A_{env}$：外皮の部位の面積の合計(m<sup>2</sup>) / Total area of the area of the hull \n"
   ]
  },
  {
   "cell_type": "code",
   "execution_count": 7,
   "metadata": {},
   "outputs": [],
   "source": [
    "# 外皮平均熱貫流率\n",
    "def calc_U_A(method, **args):\n",
    "    if method == '当該住戸の外皮の部位の面積等を用いて外皮性能を評価する方法':\n",
    "        return get_U_A(**args)\n",
    "    elif method == '当該住戸の外皮の部位の面積等を用いずに外皮性能を評価する方法':\n",
    "        return get_U_A(**args)\n",
    "    else:\n",
    "        raise ValueError(method)"
   ]
  },
  {
   "cell_type": "code",
   "execution_count": null,
   "metadata": {},
   "outputs": [],
   "source": [
    "def get_U_A(**args):\n",
    "    raise NotImplementedError()\n"
   ]
  },
  {
   "cell_type": "markdown",
   "metadata": {},
   "source": [
    "#### 8.2 暖房期の平均日射熱取得率及び冷房期の平均日射熱取得率 / Average solar heat gain rate in heating season and average solar heat gain rate in cooling season"
   ]
  },
  {
   "cell_type": "markdown",
   "metadata": {},
   "source": [
    "暖房期の平均日射熱取得率$\\eta_{A,H}$は、計算された値の 10 分の 1 未満の端数を切り下げ、小数第一位までの値とする。  \n",
    "冷房期の平均日射熱取得率$\\eta_{A,C}$は、10 分の 1 未満の端数を切り上げ、小数第一位までの値とする。"
   ]
  },
  {
   "cell_type": "markdown",
   "metadata": {},
   "source": [
    "The average solar heat gain rate $\\eta_{A, H}$ of the heating season is rounded down to the nearest tenth of the calculated value.  \n",
    "The average solar heat gain rate $\\eta_{A, C}$ in the cooling period shall be rounded up to the nearest tenth of a tenth."
   ]
  },
  {
   "cell_type": "markdown",
   "metadata": {},
   "source": [
    "$$\\large\n",
    "\\eta_{A,H} = \\sum_{i} (A_{i} \\eta_{H,i} \\nu_{H,i}) \\big/ A_{env} \\times 100\n",
    "$$\n",
    "\n",
    "$$\\large\n",
    "\\eta_{A,C} = \\sum_{i} (A_{i} \\eta_{C,i} \\nu_{C,i}) \\big/ A_{env} \\times 100\n",
    "$$"
   ]
  },
  {
   "cell_type": "markdown",
   "metadata": {},
   "source": [
    "$A_{i}$：外皮の部位（一般部位又は開口部）$i$の面積(m<sup>2</sup>) / Area of skin (general part or opening) $i$  \n",
    "$\\eta_{H,i}$：外皮の部位（一般部位又は開口部）$i$の暖房期の日射熱取得率 / Solar heat gain rate during the heating period $ i $ at the site (general site or opening) of the hull  \n",
    "$\\eta_{C,i}$：外皮の部位（一般部位又は開口部）$i$の冷房期の日射熱取得率 / Solar heat gain rate during the cooling period $ i $ at the site (general site or opening) of the hull  \n",
    "$\\nu_{H,i}$：外皮の部位（一般部位又は開口部）$i$の暖房期の方位係数 / Orientation factor of the heating phase $ i $ at the site (general site or opening) of the hull  \n",
    "$\\nu_{C,i}$：外皮の部位（一般部位又は開口部）$i$の冷房期の方位係数 / Orientation coefficient of the cooling period $ i $ of the hull part (general part or opening)  \n",
    "$A_{env}$：外皮の部位の面積の合計(m<sup>2</sup>) / Total area of the area of the hull \n"
   ]
  },
  {
   "cell_type": "code",
   "execution_count": 5,
   "metadata": {},
   "outputs": [],
   "source": [
    "# 暖房期の平均日射熱取得率\n",
    "def calc_eta_A_H(method, **args):\n",
    "    if method == '当該住戸の外皮の部位の面積等を用いて外皮性能を評価する方法':\n",
    "        return get_eta_A_H(**args)\n",
    "    elif method == '当該住戸の外皮の部位の面積等を用いずに外皮性能を評価する方法':\n",
    "\n",
    "        # 単位日射強度当たりの暖房期の日射熱取得量[W/(W/m2)]\n",
    "        m_H = get_m_H(\n",
    "            region=args['region'],\n",
    "            house_insulation_type=args['house_insulation_type'],\n",
    "            U_roof=args['U_roof'],\n",
    "            U_wall=args['U_wall'],\n",
    "            U_door=args['U_door'],\n",
    "            U_base_etrc=args['U_base_etrc'],\n",
    "            U_base_bath=args['U_base_bath'],\n",
    "            U_base_other=args['U_base_other'],\n",
    "            etr_d=args['etr_d'],\n",
    "            f_H=args['f_H']\n",
    "        )\n",
    "\n",
    "        A_dash_env = get_A_dash_env(args['house_insulation_type'])\n",
    "\n",
    "        return get_eta_A_H(m_H=m_H, A_dash_env=A_dash_env)\n",
    "    else:\n",
    "        raise ValueError(method)"
   ]
  },
  {
   "cell_type": "code",
   "execution_count": null,
   "metadata": {},
   "outputs": [],
   "source": [
    "def get_eta_A_H(**args):\n",
    "    raise NotImplementedError()\n"
   ]
  },
  {
   "cell_type": "code",
   "execution_count": null,
   "metadata": {},
   "outputs": [],
   "source": [
    "# 冷房期の平均日射熱取得率\n",
    "def calc_eta_A_C(method, **args):\n",
    "    if method == '当該住戸の外皮の部位の面積等を用いて外皮性能を評価する方法':\n",
    "        return get_eta_A_C(**args)\n",
    "    elif method == '当該住戸の外皮の部位の面積等を用いずに外皮性能を評価する方法':\n",
    "\n",
    "        # 単位日射強度当たりの冷房期の日射熱取得量[W/(W/m2)]\n",
    "        m_C = get_m_C(\n",
    "            region=args['region'],\n",
    "            house_insulation_type=args['house_insulation_type'],\n",
    "            U_roof=args['U_roof'],\n",
    "            U_wall=args['U_wall'],\n",
    "            U_door=args['U_door'],\n",
    "            U_base_etrc=args['U_base_etrc'],\n",
    "            U_base_bath=args['U_base_bath'],\n",
    "            U_base_other=args['U_base_other'],\n",
    "            etr_d=args['etr_d'],\n",
    "            f_C=args['f_C'])\n",
    "\n",
    "        A_dash_env = get_A_dash_env(args['house_insulation_type'])\n",
    "\n",
    "        return get_eta_A_C(m_C=m_C, A_dash_env=A_dash_env)\n",
    "    else:\n",
    "        raise ValueError(method)"
   ]
  },
  {
   "cell_type": "code",
   "execution_count": null,
   "metadata": {},
   "outputs": [],
   "source": [
    "def get_eta_A_C(**args):\n",
    "    raise NotImplementedError()"
   ]
  },
  {
   "cell_type": "markdown",
   "metadata": {},
   "source": [
    "#### 8.3 床面積の合計に対する外皮の部位の面積の合計の比 / Ratio of the sum of the area of the area of the hull to the sum of the floor area"
   ]
  },
  {
   "cell_type": "markdown",
   "metadata": {},
   "source": [
    "$$\\large\n",
    "r_{env} = \\frac{A_{env}}{A_{A}}\n",
    "$$"
   ]
  },
  {
   "cell_type": "markdown",
   "metadata": {},
   "source": [
    "$A_{env}$：外皮の部位の面積の合計(m<sup>2</sup>) / Total area of the area of the hull  \n",
    "$A_{A}$：（当該住戸の）床面積の合計(m<sup>2</sup>) / Total floor area (of the relevant unit)  "
   ]
  },
  {
   "cell_type": "markdown",
   "metadata": {},
   "source": [
    "$$\\large\n",
    "A_{env} = \\sum_{i} A_{i} + \\sum_{k} A_{EF,k}\n",
    "$$"
   ]
  },
  {
   "cell_type": "markdown",
   "metadata": {},
   "source": [
    "$A_{EF,k}$：（当該住戸の）土間床等$k$の面積(m<sup>2</sup>) / Floor space (for the relevant unit) $k$ area  "
   ]
  },
  {
   "cell_type": "code",
   "execution_count": 1,
   "metadata": {},
   "outputs": [],
   "source": [
    "def get_r_env(A_env, A_A):\n",
    "    \"\"\"\n",
    "    :param A_env: 外皮の部位の面積の合計 (m2)\n",
    "    :param A_A: 床面積の合計 (m2)\n",
    "    :return: 床面積の合計に対する外皮の部位の面積の合計の比 (-)\n",
    "    \"\"\"\n",
    "    return A_env / A_A"
   ]
  },
  {
   "cell_type": "markdown",
   "metadata": {},
   "source": [
    "#### 8.4 外皮の部位の面積及び熱橋等の長さ等 / Area of hull part and length of heat bridge etc."
   ]
  },
  {
   "cell_type": "markdown",
   "metadata": {},
   "source": [
    "省略"
   ]
  },
  {
   "cell_type": "markdown",
   "metadata": {},
   "source": [
    "ommision"
   ]
  },
  {
   "cell_type": "markdown",
   "metadata": {},
   "source": [
    "#### 8.5 外皮の部位及び熱橋等の温度差係数 / Temperature difference coefficient of hull part and thermal bridge etc."
   ]
  },
  {
   "cell_type": "markdown",
   "metadata": {},
   "source": [
    "省略"
   ]
  },
  {
   "cell_type": "markdown",
   "metadata": {},
   "source": [
    "ommision"
   ]
  },
  {
   "cell_type": "markdown",
   "metadata": {},
   "source": [
    "#### 8.6 外皮の部位の方位係数 / Orientation coefficient of the area of the hull"
   ]
  },
  {
   "cell_type": "markdown",
   "metadata": {},
   "source": [
    "省略"
   ]
  },
  {
   "cell_type": "markdown",
   "metadata": {},
   "source": [
    "ommision"
   ]
  },
  {
   "cell_type": "markdown",
   "metadata": {},
   "source": [
    "#### 8.7 外皮の部位の熱貫流率及び熱橋等の線熱貫流率 / Heat transmission coefficient at the site of skin and linear heat transmission coefficient of heat bridge etc."
   ]
  },
  {
   "cell_type": "markdown",
   "metadata": {},
   "source": [
    "省略"
   ]
  },
  {
   "cell_type": "markdown",
   "metadata": {},
   "source": [
    "ommision"
   ]
  },
  {
   "cell_type": "markdown",
   "metadata": {},
   "source": [
    "#### 8.8 外皮の部位の日射熱取得率 / Solar heat gain rate at the site of hull"
   ]
  },
  {
   "cell_type": "markdown",
   "metadata": {},
   "source": [
    "省略"
   ]
  },
  {
   "cell_type": "markdown",
   "metadata": {},
   "source": [
    "ommision"
   ]
  },
  {
   "cell_type": "markdown",
   "metadata": {},
   "source": [
    "### 9. 当該住戸の外皮の部位の面積等を用いずに外皮性能を評価する方法 / Method to evaluate shell performance without using area of shell part of the dwelling unit concerned"
   ]
  },
  {
   "cell_type": "markdown",
   "metadata": {},
   "source": [
    "#### 9.1 適用範囲 / Scope of application"
   ]
  },
  {
   "cell_type": "markdown",
   "metadata": {},
   "source": [
    "省略"
   ]
  },
  {
   "cell_type": "markdown",
   "metadata": {},
   "source": [
    "ommision"
   ]
  },
  {
   "cell_type": "markdown",
   "metadata": {},
   "source": [
    "#### 9.2 外皮平均熱貫流率 / Average heat penetration coefficient of skin"
   ]
  },
  {
   "cell_type": "markdown",
   "metadata": {},
   "source": [
    "外皮平均熱貫流率$U_{A}$は100 分の 1 未満の端数を切り上げた小数第二位までの値とする。"
   ]
  },
  {
   "cell_type": "markdown",
   "metadata": {},
   "source": [
    "The average crustal heat transfer coefficient $U_{A}$ is a value up to the second decimal place rounded up to the nearest hundredth."
   ]
  },
  {
   "cell_type": "markdown",
   "metadata": {},
   "source": [
    "$$\\large\n",
    "U_{A} = \\frac{q}{A'_{env}}\n",
    "$$"
   ]
  },
  {
   "cell_type": "markdown",
   "metadata": {},
   "source": [
    "$$\\displaystyle\n",
    "q = A'_{roof} \\times H_{roof} \\times U_{roof} \\\\\n",
    "+ (A'_{wall,0} + A'_{wall,90} + A'_{wall,180} + A'_{wall,270}) \\times H_{wall} \\times U_{wall} \\\\\n",
    "+ (A'_{door,0} + A'_{door,90} + A'_{door,180} + A'_{door,270}) \\times H_{door} \\times U_{door} \\\\\n",
    "+ (A'_{window,0} + A'_{window,90} + A'_{window,180} + A'_{window,270}) \\times H_{window} \\times U_{window} \\\\\n",
    "+ A'_{floor,bath} \\times H_{floor,bath} \\times U_{floor,bath} + A'_{floor,other} \\times H_{floor,other} \\times U_{floor,other} \\\\\n",
    "+ ((A'_{base,etrc,OS,0} + A'_{base,etrc,OS,90} + A'_{base,etrc,OS,180} + A'_{base,etrc,OS,270}) \\times H_{base,OS} + A'_{base,etrc,IS} \\times H_{base,IS} ) \\times U_{base,etrc} \\\\\n",
    "+ ((A'_{base,bath,OS,0} + A'_{base,bath,OS,90} + A'_{base,bath,OS,180} + A'_{base,bath,OS,270}) \\times H_{base,OS} + A'_{base,bath,IS} \\times H_{base,IS} ) \\times U_{base,bath} \\\\\n",
    "+ ((A'_{base,other,OS,0} + A'_{base,other,OS,90} + A'_{base,other,OS,180} + A'_{base,other,OS,270}) \\times H_{base,OS} + A'_{base,other,IS} \\times H_{base,IS} ) \\times U_{base,other} \\\\\n",
    "+ ((L'_{prm,etrc,OS,0} + L'_{prm,etrc,OS,90} + L'_{prm,etrc,OS,180} + L'_{prm,etrc,OS,270}) \\times H_{prm,OS} + L'_{prm,etrc,IS} \\times H_{prm,IS} ) \\times \\Psi_{prm,etrc} \\\\\n",
    "+ ((L'_{prm,bath,OS,0} + L'_{prm,bath,OS,90} + L'_{prm,bath,OS,180} + L'_{prm,bath,OS,270}) \\times H_{prm,OS} + L'_{prm,bath,IS} \\times H_{prm,IS} ) \\times \\Psi_{prm,bath} \\\\\n",
    "+ ((L'_{prm,other,OS,0} + L'_{prm,other,OS,90} + L'_{prm,other,OS,180} + L'_{prm,other,OS,270}) \\times H_{prm,OS} + L'_{prm,other,IS} \\times H_{prm,IS} ) \\times \\Psi_{prm,other} \\\\\n",
    "$$"
   ]
  },
  {
   "cell_type": "markdown",
   "metadata": {},
   "source": [
    "$q$：単位温度差当たりの外皮熱損失量(W/K) / Skin heat loss per unit temperature difference  \n",
    "$A'_{env}$：標準住戸における外皮の部位の面積の合計(m<sup>2</sup>) / Sum of the area of the crust on the standard dwelling unit  \n",
    "$A'_{roof}$：標準住戸における屋根又は天井の面積(m<sup>2</sup>) / The area of the roof or ceiling in a standard dwelling unit  \n",
    "$A'_{wall,0}$：標準住戸における主開口方位から時計回りに 0°の方向に面した壁の面積(m<sup>2</sup>) / Area of wall facing 0°clockwise from the main opening direction in the standard dwelling unit  \n",
    "$A'_{wall,90}$：標準住戸における主開口方位から時計回りに 90°の方向に面した壁の面積(m<sup>2</sup>) / Area of wall facing 90°clockwise from the main opening direction in the standard dwelling unit  \n",
    "$A'_{wall,180}$：標準住戸における主開口方位から時計回りに 180°の方向に面した壁の面積(m<sup>2</sup>) / The area of the wall facing 180°clockwise from the main opening direction in the standard dwelling  \n",
    "$A'_{wall,270}$：標準住戸における主開口方位から時計回りに 270°の方向に面した壁の面積(m<sup>2</sup>) / the area of the wall facing in the direction of 270°clockwise from the main opening direction in the standard dwelling unit  \n",
    "$A'_{door,0}$：標準住戸における主開口方位から時計回りに 0°の方向に面したドアの面積(m<sup>2</sup>) / Area of the door facing 0°clockwise from the main opening direction in the standard dwelling unit  \n",
    "$A'_{door,90}$：標準住戸における主開口方位から時計回りに 90°の方向に面したドアの面積(m<sup>2</sup>) / Area of the door facing 90°clockwise from the main opening direction in the standard dwelling unit  \n",
    "$A'_{door,180}$：標準住戸における主開口方位から時計回りに 180°の方向に面したドアの面積(m<sup>2</sup>) / Area of the door facing 180°clockwise from the main opening direction in the standard dwelling  \n",
    "$A'_{door,270}$：標準住戸における主開口方位から時計回りに 270°の方向に面したドアの面積(m<sup>2</sup>) / The area of the door facing in the direction of 270°clockwise from the main opening direction in the standard dwelling unit  \n",
    "$A'_{window,0}$：標準住戸における主開口方位から時計回りに 0°の方向に面した窓の面積(m<sup>2</sup>) / The Area of the window facing 0°clockwise from the main opening direction in the standard dwelling unit  \n",
    "$A'_{window,90}$：標準住戸における主開口方位から時計回りに 90°の方向に面した窓の面積(m<sup>2</sup>) / The area of the window facing 90°clockwise from the main opening direction in the standard dwelling unit  \n",
    "$A'_{window,180}$：標準住戸における主開口方位から時計回りに 180°の方向に面した窓の面積(m<sup>2</sup>) / The area of the window facing 180°clockwise from the main opening direction in the standard dwelling unit  \n",
    "$A'_{window,270}$：標準住戸における主開口方位から時計回りに 270°の方向に面した窓の面積(m<sup>2</sup>) / Area of the window facing in the direction of 270°clockwise from the main opening direction in the standard dwelling unit  \n",
    "$A'_{floor,bath}$：標準住戸における床断熱した浴室の床の面積(m<sup>2</sup>) / Floor area of ​​floor insulated bathroom in standard dwelling unit  \n",
    "$A'_{floor,other}$：標準住戸における床断熱したその他の床（玄関、勝手口（以下、「玄関等」という。及び浴室を除く床をいう。）の面積(m<sup>2</sup>) / The area of the floor insulated other floor in the standard dwelling unit (the entrance, the entrance (hereinafter referred to as the entrance etc. and the floor excluding the bathroom))  \n",
    "$A'_{base,etrc,OS,0}$：標準住戸における主開口方位から時計回りに 0°の方向の外気に面した玄関等の基礎の面積(m<sup>2</sup>) / Area of the foundation such as the entrance facing in the direction of 0°clockwise from the main opening direction in the standard dwelling unit  \n",
    "$A'_{base,etrc,OS,90}$：標準住戸における主開口方位から時計回りに 90°の方向の外気に面した玄関等の基礎の面積(m<sup>2</sup>) / Area of the foundation such as the entrance facing in the direction of 90°clockwise from the main opening direction in the standard dwelling unit  \n",
    "$A'_{base,etrc,OS,180}$：標準住戸における主開口方位から時計回りに 180°の方向の外気に面した玄関等の基礎の面積(m<sup>2</sup>) / Area of the foundation such as the entrance facing in the direction of 180°clockwise from the main opening direction in the standard dwelling unit  \n",
    "$A'_{base,etrc,OS,270}$：標準住戸における主開口方位から時計回りに 270°の方向の外気に面した玄関等の基礎の面積(m<sup>2</sup>) / Area of ​​foundation such as entrance facing in the direction of 270°clockwise from the main opening direction in the standard dwelling unit  \n",
    "$A'_{base,etrc,IS}$：標準住戸における床下に面した玄関等の基礎の面積(m<sup>2</sup>) / Area of the foundation such as the entrance facing the floor in the standard dwelling unit  \n",
    "$A'_{base,bath,OS,0}$：標準住戸における主開口方位から時計回りに 0°の方向の外気に面した浴室の基礎の面積(m<sup>2</sup>) / The area of the bathroom base facing the outside in the direction of 0°clockwise from the main opening direction in the standard dwelling unit  \n",
    "$A'_{base,bath,OS,90}$：標準住戸における主開口方位から時計回りに 90°の方向の外気に面した浴室の基礎の面積(m<sup>2</sup>) / Area of the floor of the bathroom facing the outside in the direction of 90°clockwise from the main opening direction in the standard dwelling unit  \n",
    "$A'_{base,bath,OS,180}$：標準住戸における主開口方位から時計回りに 180°の方向の外気に面した浴室の基礎の面積(m<sup>2</sup>) / Area of the floor of the bathroom facing the outside in the direction of 180°clockwise from the main opening direction in the standard dwelling unit  \n",
    "$A'_{base,bath,OS,270}$：標準住戸における主開口方位から時計回りに 270°の方向の外気に面した浴室の基礎の面積(m<sup>2</sup>) / The area of the floor of the bathroom facing the outside in the direction of 270°clockwise from the main opening direction in the standard dwelling unit  \n",
    "$A'_{base,bath,IS}$：標準住戸における床下に面した浴室の基礎の面積(m<sup>2</sup>) / The area of the floor of the bathroom facing the floor in standard dwelling units  \n",
    "$A'_{base,other,OS,0}$：標準住戸における主開口方位から時計回りに 0°の方向の外気に面したその他の基礎（玄関等及び浴室を除く基礎をいう。）の面積(m<sup>2</sup>) / The area of other foundations (meaning foundations excluding entrances and bathrooms) facing the outside in the direction of 0 ° clockwise from the main opening direction in the quasi-residential unit.  \n",
    "$A'_{base,other,OS,90}$：標準住戸における主開口方位から時計回りに 90°の方向の外気に面したその他の基礎の面積(m<sup>2</sup>) / The area of the other foundation facing the outside in the direction of 90°clockwise from the main opening direction in the standard dwelling unit  \n",
    "$A'_{base,other,OS,180}$：標準住戸における主開口方位から時計回りに 180°の方向の外気に面したその他の基礎の面積(m<sup>2</sup>) / The area of the other foundation facing the outside in the direction of 180°clockwise from the main opening direction in the standard dwelling unit  \n",
    "$A'_{base,other,OS,270}$：標準住戸における主開口方位から時計回りに 270°の方向の外気に面したその他の基礎の面積(m<sup>2</sup>) / The area of the other foundation facing outside in the direction of 270°clockwise from the main opening direction in the standard dwelling unit  \n",
    "$A'_{base,other,IS}$：標準住戸における床下に面したその他の基礎の面積(m<sup>2</sup>) / Area of ​​other foundations facing the floor in standard dwelling unit  \n",
    "$L'_{prm,etrc,OS,0}$：標準住戸における主開口方位から時計回りに 0°の方向の外気に面した玄関等の土間床等の外周部の長さ(m) / Length of the outer periphery of the floor, such as the floor, in the entrance facing in the direction 0°clockwise from the main opening direction in the standard dwelling unit  \n",
    "$L'_{prm,etrc,OS,90}$：標準住戸における主開口方位から時計回りに 90°の方向の外気に面した玄関等の土間床等の外周部の長さ(m) / Length of the outer periphery of the floor, such as the floor, facing the outside in the direction of 90°clockwise from the main opening direction in the standard dwelling unit  \n",
    "$L'_{prm,etrc,OS,180}$：標準住戸における主開口方位から時計回りに 180°の方向の外気に面した玄関等の土間床等の外周部の長さ(m) / Length of the outer periphery of the floor, such as the floor, facing the outside in the direction of 180°clockwise from the main opening direction in the standard dwelling unit  \n",
    "$L'_{prm,etrc,OS,270}$：標準住戸における主開口方位から時計回りに 270°の方向の外気に面した玄関等の土間床等の外周部の長さ(m) / Length of the outer periphery of the floor, such as the floor, facing the outside in the direction of 270°clockwise from the main opening direction in the standard dwelling unit  \n",
    "$L'_{prm,etrc,IS}$：標準住戸における床下に面した玄関等の土間床等の外周部の長さ(m) / Length of the outer periphery of the floor such as the entrance facing the floor in the standard dwelling unit  \n",
    "$L'_{prm,bath,OS,0}$：標準住戸における主開口方位から時計回りに 0°の方向の外気に面した浴室の土間床等の外周部の長さ(m) / Length of the outer periphery of the floor surface of the bathroom facing the outside in the direction of 0°clockwise from the main opening direction in the standard dwelling unit  \n",
    "$L'_{prm,bath,OS,90}$：標準住戸における主開口方位から時計回りに 90°の方向の外気に面した浴室の土間床等の外周部の長さ(m) / Length of the outer floor of the floor, etc. of the bathroom facing the outside in the direction of 90°clockwise from the main opening direction in the standard dwelling unit  \n",
    "$L'_{prm,bath,OS,180}$：標準住戸における主開口方位から時計回りに 180°の方向の外気に面した浴室の土間床等の外周部の長さ(m) / Length of the outer floor of the bathroom floor facing the outside in the direction of 180°clockwise from the main opening direction in the standard dwelling unit  \n",
    "$L'_{prm,bath,OS,270}$：標準住戸における主開口方位から時計回りに 270°の方向の外気に面した浴室の土間床等の外周部の長さ(m) / Length of the outer floor of the bathroom floor facing the outside in the direction of 270°clockwise from the main opening direction in the standard dwelling unit  \n",
    "$L'_{prm,bath,IS}$：標準住戸における床下に面した浴室の土間床等の外周部の長さ(m) / Length of the outer periphery of the floor in the bathroom facing the floor of a standard dwelling unit  \n",
    "$L'_{prm,other,OS,0}$：標準住戸における主開口方位から時計回りに 0°の方向の外気に面したその他の土間床等の外周部の長さ(m) / Length of outer periphery of other soil floor facing the outside in the direction of 0°clockwise from the main opening direction in the standard dwelling unit  \n",
    "$L'_{prm,other,OS,90}$：標準住戸における主開口方位から時計回りに 90°の方向の外気に面したその他の土間床等の外周部の長さ(m) / Length of outer periphery of other soil floor facing the outside in the direction of 90°clockwise from the main opening direction in the standard dwelling unit  \n",
    "$L'_{prm,other,OS,180}$：標準住戸における主開口方位から時計回りに 180°の方向の外気に面したその他の土間床等の外周部 / The outer periphery of other soil floor facing the outside in the direction of 180°clockwise from the main opening direction in the standard dwelling unit  \n",
    "$L'_{prm,other,OS,270}$：標準住戸における主開口方位から時計回りに 270°の方向の外気に面したその他の土間床等の外周部の長さ(m) / Length of outer periphery of other soil floor facing the outside in the direction of 270°clockwise from the main opening direction in the standard dwelling unit  \n",
    "$L'_{prm,other,IS}$：標準住戸における床下に面したその他の土間床等（玄関等及び浴室を除く土間床等をいう。）の外周部の長さ(m) / Length of the outer periphery of the other soil floor facing the floor in the standard dwelling unit (refer to the floor between the entrance and the bathroom and excluding the bathroom)  \n",
    "$H_{roof}$：屋根又は天井の温度差係数(-) / Roof or ceiling temperature difference coefficient  \n",
    "$H_{wall}$：壁の温度差係数(-) / Temperature difference coefficient of wall  \n",
    "$H_{door}$：ドアの温度差係数(-) / Temperature difference coefficient of the door  \n",
    "$H_{window}$：窓の温度差係数(-) / Temperature difference coefficient of window  \n",
    "$H_{floor}$：床の温度差係数(-) / Floor temperature difference coefficient  \n",
    "$H_{base,OS}$：外気に面した基礎の温度差係数(-) / Temperature difference coefficient of the base facing the atmosphere  \n",
    "$H_{base,IS}$：床下に面した基礎の温度差係数(-) / Temperature difference coefficient of the floor facing the floor  \n",
    "$H_{prm,OS}$：外気に面した土間床等の周辺部の温度差係数(-) / Temperature difference coefficient of the soil floor facing the outside air  \n",
    "$H_{prm,IS}$：床下に面した土間床等の周辺部の温度差係数(-) / Temperature difference coefficient of the surrounding area such as the floor facing the floor  \n",
    "$U_{roof}$：屋根又は天井の熱貫流率(W/m<sup>2</sup>K) / Heat transmission coefficient of roof or ceiling  \n",
    "$U_{wall}$：壁の熱貫流率(W/m<sup>2</sup>K) / Heat penetration coefficient of wall  \n",
    "$U_{door}$：ドアの熱貫流率(W/m<sup>2</sup>K) / Heat penetration coefficient of the door  \n",
    "$U_{window}$：窓の熱貫流率(W/m<sup>2</sup>K) / Heat transmission coefficient of the window  \n",
    "$U_{floor,bath}$：浴室の床の熱貫流率(W/m<sup>2</sup>K) / Heat transfer coefficient of bathroom floor  \n",
    "$U_{floor,other}$：その他の床の熱貫流率(W/m<sup>2</sup>K) / Heat flow coefficient of other bed  \n",
    "$U_{base,etrc}$：玄関等の基礎の熱貫流率(W/m<sup>2</sup>K) / Heat penetration coefficient of foundation such as entrance  \n",
    "$U_{base,bath}$：浴室の基礎の熱貫流率(W/m<sup>2</sup>K) / Heat penetration coefficient of bathroom foundation  \n",
    "$U_{base,other}$：その他の基礎の熱貫流率(W/m<sup>2</sup>K) / Heat conductivity of other foundations  \n",
    "$\\Psi_{prm,etrc}$：玄関等の土間床等の外周部の線熱貫流率(W/mK) / Line heat transmission coefficient of the outer periphery of the ground floor, etc.  \n",
    "$\\Psi_{prm,bath}$：浴室の土間床等の外周部の線熱貫流率(W/mK) / Line heat penetration coefficient of the outer periphery of soil floor of bathroom  \n",
    "$\\Psi_{prm,other}$：その他の土間床等の外周部の線熱貫流率(W/mK) / Line heat transmission coefficient of the outer part such as other soil floor  \n"
   ]
  },
  {
   "cell_type": "code",
   "execution_count": 2,
   "metadata": {},
   "outputs": [],
   "source": [
    "def get_U_A(q, A_dash_env):\n",
    "    U_A_raw = q / A_dash_env\n",
    "    U_A = ceil(U_A_raw * 100) / 100\n",
    "    return U_A"
   ]
  },
  {
   "cell_type": "code",
   "execution_count": null,
   "metadata": {},
   "outputs": [],
   "source": [
    "def get_q(house_insulation_type,\n",
    "          U_roof, U_wall, U_door, U_window, U_floor_bath, U_floor_other,\n",
    "          U_base_etrc, U_base_bath, U_base_other,\n",
    "          Psi_prm_etrc, Psi_prm_bath, Psi_prm_other\n",
    "          ):\n",
    "    \"\"\"\n",
    "    :param house_insulation_type: '床断熱住戸'または'基礎断熱住戸'\n",
    "    :param U_roof: 屋根又は天井の熱貫流率\n",
    "    :param U_wall: 壁の熱貫流率\n",
    "    :param U_door: ドアの熱貫流率\n",
    "    :param U_window: 窓の熱貫流率\n",
    "    :param U_floor_bath: 浴室の床の熱貫流率\n",
    "    :param U_floor_other: その他の熱貫流率\n",
    "    :param Psi_prm_etrc: 玄関等の土間床等の外周部の線熱貫流率\n",
    "    :param Psi_prm_bath: 浴室の土間床等の外周部の線熱貫流率\n",
    "    :param Psi_prm_other: その他の土間床等の外周部の線熱貫流率\n",
    "    :return: 単位温度差当たりの外皮熱損失量[W/K]\n",
    "    \"\"\"\n",
    "    A_dash_roof = get_A_dash_roof()\n",
    "    A_dash_wall_0 = get_A_dash_wall_0()\n",
    "    A_dash_wall_90 = get_A_dash_wall_90()\n",
    "    A_dash_wall_180 = get_A_dash_wall_180()\n",
    "    A_dash_wall_270 = get_A_dash_wall_270()\n",
    "    A_dash_door_0 = get_A_dash_door_0()\n",
    "    A_dash_door_90 = get_A_dash_door_90()\n",
    "    A_dash_door_180 = get_A_dash_door_180()\n",
    "    A_dash_door_270 = get_A_dash_door_270()\n",
    "    A_dash_window_0 = get_A_dash_window_0()\n",
    "    A_dash_window_90 = get_A_dash_window_90()\n",
    "    A_dash_window_180 = get_A_dash_window_180()\n",
    "    A_dash_window_270 = get_A_dash_window_270()\n",
    "    A_dash_floor_bath = get_A_dash_floor_bath(house_insulation_type)\n",
    "    A_dash_floor_other = get_A_dash_floor_other(house_insulation_type)\n",
    "    A_dash_base_etrc_OS_0 = get_A_dash_base_etrc_OS_0(house_insulation_type)\n",
    "    A_dash_base_etrc_OS_90 = get_A_dash_base_etrc_OS_90(house_insulation_type)\n",
    "    A_dash_base_etrc_OS_180 = get_A_dash_base_etrc_OS_180(house_insulation_type)\n",
    "    A_dash_base_etrc_OS_270 = get_A_dash_base_etrc_OS_270(house_insulation_type)\n",
    "    A_dash_base_etrc_IS = get_A_dash_base_etrc_IS(house_insulation_type)\n",
    "    A_dash_base_bath_OS_0 = get_A_dash_base_bath_OS_0(house_insulation_type)\n",
    "    A_dash_base_bath_OS_90 = get_A_dash_base_bath_OS_90(house_insulation_type)\n",
    "    A_dash_base_bath_OS_180 = get_A_dash_base_bath_OS_180(house_insulation_type)\n",
    "    A_dash_base_bath_OS_270 = get_A_dash_base_bath_OS_270(house_insulation_type)\n",
    "    A_dash_base_bath_IS = get_A_dash_base_bath_IS(house_insulation_type)\n",
    "    A_dash_base_other_OS_0 = get_A_dash_base_other_OS_0(house_insulation_type)\n",
    "    A_dash_base_other_OS_90 = get_A_dash_base_other_OS_90(house_insulation_type)\n",
    "    A_dash_base_other_OS_180 = get_A_dash_base_other_OS_180(house_insulation_type)\n",
    "    A_dash_base_other_OS_270 = get_A_dash_base_other_OS_270(house_insulation_type)\n",
    "    A_dash_base_other_IS = get_A_dash_base_other_IS(house_insulation_type)\n",
    "    L_dash_prm_etrc_OS_0 = get_L_dash_prm_etrc_OS_0(house_insulation_type)\n",
    "    L_dash_prm_etrc_OS_90 = get_L_dash_prm_etrc_OS_90(house_insulation_type)\n",
    "    L_dash_prm_etrc_OS_180 = get_L_dash_prm_etrc_OS_180(house_insulation_type)\n",
    "    L_dash_prm_etrc_OS_270 = get_L_dash_prm_etrc_OS_270(house_insulation_type)\n",
    "    L_dash_prm_etrc_IS = get_L_dash_prm_etrc_IS(house_insulation_type)\n",
    "    L_dash_prm_bath_OS_0 = get_L_dash_prm_bath_OS_0(house_insulation_type)\n",
    "    L_dash_prm_bath_OS_90 = get_L_dash_prm_bath_OS_90(house_insulation_type)\n",
    "    L_dash_prm_bath_OS_180 = get_L_dash_prm_bath_OS_180(house_insulation_type)\n",
    "    L_dash_prm_bath_OS_270 = get_L_dash_prm_bath_OS_270(house_insulation_type)\n",
    "    L_dash_prm_bath_IS = get_L_dash_prm_bath_IS(house_insulation_type)\n",
    "    L_dash_prm_other_OS_0 = get_L_dash_prm_other_OS_0(house_insulation_type)\n",
    "    L_dash_prm_other_OS_90 = get_L_dash_prm_other_OS_90(house_insulation_type)\n",
    "    L_dash_prm_other_OS_180 = get_L_dash_prm_other_OS_180(house_insulation_type)\n",
    "    L_dash_prm_other_OS_270 = get_L_dash_prm_other_OS_270(house_insulation_type)\n",
    "    L_dash_prm_other_IS = get_L_dash_prm_other_IS(house_insulation_type)\n",
    "    H_roof = get_H_roof()\n",
    "    H_wall = get_H_wall()\n",
    "    H_door = get_H_door()\n",
    "    H_window = get_H_window()\n",
    "    H_floor_bath = get_H_floor()\n",
    "    H_floor_other = get_H_floor()\n",
    "    H_base_OS = get_H_base_OS()\n",
    "    H_base_IS = get_H_base_IS()\n",
    "    H_prm_OS = get_H_prm_OS()\n",
    "    H_prm_IS = get_H_prm_IS()\n",
    "\n",
    "    q_list = [\n",
    "        # 屋根又は天井\n",
    "        A_dash_roof * H_roof * U_roof,\n",
    "        # 壁\n",
    "        (A_dash_wall_0\n",
    "         + A_dash_wall_90\n",
    "         + A_dash_wall_180\n",
    "         + A_dash_wall_270) * H_wall * U_wall,\n",
    "        # ドア\n",
    "        (A_dash_door_0\n",
    "         + A_dash_door_90\n",
    "         + A_dash_door_180\n",
    "         + A_dash_door_270) * H_door * U_door,\n",
    "        # 窓\n",
    "        (A_dash_window_0\n",
    "         + A_dash_window_90\n",
    "         + A_dash_window_180\n",
    "         + A_dash_window_270) * H_window * U_window,\n",
    "        # floor bath\n",
    "        A_dash_floor_bath * H_floor_bath * U_floor_bath,\n",
    "        # floor other\n",
    "        A_dash_floor_other * H_floor_other * U_floor_other,\n",
    "        # 玄関等の基礎\n",
    "        ((A_dash_base_etrc_OS_0\n",
    "          + A_dash_base_etrc_OS_90\n",
    "          + A_dash_base_etrc_OS_180\n",
    "          + A_dash_base_etrc_OS_270) * H_base_OS\n",
    "         + A_dash_base_etrc_IS * H_base_IS) * U_base_etrc,\n",
    "        # 浴室の床\n",
    "        ((A_dash_base_bath_OS_0\n",
    "          + A_dash_base_bath_OS_90\n",
    "          + A_dash_base_bath_OS_180\n",
    "          + A_dash_base_bath_OS_270) * H_base_OS\n",
    "         + A_dash_base_bath_IS * H_base_IS) * U_base_bath,\n",
    "        # その他\n",
    "        ((A_dash_base_other_OS_0\n",
    "          + A_dash_base_other_OS_90\n",
    "          + A_dash_base_other_OS_180\n",
    "          + A_dash_base_other_OS_270) * H_base_OS\n",
    "         + A_dash_base_other_IS * H_base_IS) * U_base_other,\n",
    "        # 玄関等の土間床等の外周部\n",
    "        ((L_dash_prm_etrc_OS_0\n",
    "          + L_dash_prm_etrc_OS_90\n",
    "          + L_dash_prm_etrc_OS_180\n",
    "          + L_dash_prm_etrc_OS_270) * H_prm_OS\n",
    "         + L_dash_prm_etrc_IS * H_prm_IS) * Psi_prm_etrc,\n",
    "        # 浴室の土間床等の外周部\n",
    "        ((L_dash_prm_bath_OS_0\n",
    "          + L_dash_prm_bath_OS_90\n",
    "          + L_dash_prm_bath_OS_180\n",
    "          + L_dash_prm_bath_OS_270) * H_prm_OS\n",
    "         + L_dash_prm_bath_IS * H_prm_IS) * Psi_prm_bath,\n",
    "        # その他の土間床等の外周部\n",
    "        ((L_dash_prm_other_OS_0\n",
    "          + L_dash_prm_other_OS_90\n",
    "          + L_dash_prm_other_OS_180\n",
    "          + L_dash_prm_other_OS_270) * H_prm_OS\n",
    "         + L_dash_prm_other_IS * H_prm_IS) * Psi_prm_other\n",
    "    ]\n",
    "\n",
    "    q = sum(q_list)\n",
    "\n",
    "    return q"
   ]
  },
  {
   "cell_type": "markdown",
   "metadata": {},
   "source": [
    "#### 9.3 暖房期の平均日射熱取得率及び冷房期の平均日射熱取得率 / Average solar heat gain rate in heating season and average solar heat gain rate in cooling season"
   ]
  },
  {
   "cell_type": "markdown",
   "metadata": {},
   "source": [
    "暖房期の平均日射熱取得率$\\eta_{A,H}$は、10 分の 1 未満の端数を切り下げ、小数第一位までの値とする。  \n",
    "冷房期の平均日射熱取得率$\\eta_{A,C}$は、10 分の 1 未満の端数を切り上げ、小数第一位までの値とする。 "
   ]
  },
  {
   "cell_type": "markdown",
   "metadata": {},
   "source": [
    "The average solar heat gain rate $\\eta_{A, H}$ in the heating season is rounded down to the nearest tenth.  \n",
    "The average solar heat gain rate $\\eta_{A, C}$ in the cooling period shall be rounded up to the nearest tenth of a tenth."
   ]
  },
  {
   "cell_type": "markdown",
   "metadata": {},
   "source": [
    "$$\\large\n",
    "\\eta_{A,H} = m_{H} / A'_{env} \\times 100\n",
    "$$"
   ]
  },
  {
   "cell_type": "markdown",
   "metadata": {},
   "source": [
    "$$\n",
    "m_{H} = A'_{roof} \\times \\nu_{H,top} \\times \\eta_{H,roof} \\\\\n",
    "+ (A'_{wall,0} \\times \\nu_{H,0} + A'_{wall,90} \\times \\nu_{H,90} + A'_{wall,180} \\times \\nu_{H,180} + A'_{wall,270} \\times \\nu_{H,270}) \\times \\eta_{H,wall} \\\\\n",
    "+ (A'_{door,0} \\times \\nu_{H,0} + A'_{door,90} \\times \\nu_{H,90} + A'_{door,180} \\times \\nu_{H,180} + A'_{door,270} \\times \\nu_{H,270}) \\times \\eta_{H,door} \\\\\n",
    "+ A'_{window,0} \\times \\nu_{H,0} \\times \\eta_{H,window,0} + A'_{window,90} \\times \\nu_{H,90} \\times \\eta_{H,window,90} \\\\\n",
    "+ A'_{window,180} \\times \\nu_{H,180} \\times \\eta_{H,window,180} + A'_{window,270} \\times \\nu_{H,270} \\times \\eta_{H,window,270} \\\\\n",
    "+ (A'_{base,etrc,OS,0} \\times \\nu_{H,0} + A'_{base,etrc,OS,90} \\times \\nu_{H,90} + A'_{base,etrc,OS,180} \\times \\nu_{H,180} + A'_{base,etrc,OS,270} \\times \\nu_{H,270}) \\times \\eta_{H,base,etrc} \\\\\n",
    "+ (A'_{base,bath,OS,0} \\times \\nu_{H,0} + A'_{base,bath,OS,90} \\times \\nu_{H,90} + A'_{base,bath,OS,180} \\times \\nu_{H,180} + A'_{base,bath,OS,270} \\times \\nu_{H,270}) \\times \\eta_{H,base,bath} \\\\\n",
    "+ (A'_{base,other,OS,0} \\times \\nu_{H,0} + A'_{base,other,OS,90} \\times \\nu_{H,90} + A'_{base,other,OS,180} \\times \\nu_{H,180} + A'_{base,other,OS,270} \\times \\nu_{H,270}) \\times \\eta_{H,base,other} \\\\\n",
    "$$"
   ]
  },
  {
   "cell_type": "markdown",
   "metadata": {},
   "source": [
    "$$\\large\n",
    "\\eta_{A,C} = m_{C} / A'_{env} \\times 100\n",
    "$$"
   ]
  },
  {
   "cell_type": "markdown",
   "metadata": {},
   "source": [
    "$$\n",
    "m_{C} = A'_{roof} \\times \\nu_{C,top} \\times \\eta_{C,roof} \\\\\n",
    "+ (A'_{wall,0} \\times \\nu_{C,0} + A'_{wall,90} \\times \\nu_{C,90} + A'_{wall,180} \\times \\nu_{C,180} + A'_{wall,270} \\times \\nu_{C,270}) \\times \\eta_{C,wall} \\\\\n",
    "+ (A'_{door,0} \\times \\nu_{C,0} + A'_{door,90} \\times \\nu_{C,90} + A'_{door,180} \\times \\nu_{C,180} + A'_{door,270} \\times \\nu_{C,270}) \\times \\eta_{C,door} \\\\\n",
    "+ A'_{window,0} \\times \\nu_{C,0} \\times \\eta_{C,window,0} + A'_{window,90} \\times \\nu_{C,90} \\times \\eta_{C,window,90} \\\\\n",
    "+ A'_{window,180} \\times \\nu_{C,180} \\times \\eta_{C,window,180} + A'_{window,270} \\times \\nu_{C,270} \\times \\eta_{C,window,270} \\\\\n",
    "+ (A'_{base,etrc,OS,0} \\times \\nu_{C,0} + A'_{base,etrc,OS,90} \\times \\nu_{C,90} + A'_{base,etrc,OS,180} \\times \\nu_{C,180} + A'_{base,etrc,OS,270} \\times \\nu_{C,270}) \\times \\eta_{C,base,etrc} \\\\\n",
    "+ (A'_{base,bath,OS,0} \\times \\nu_{C,0} + A'_{base,bath,OS,90} \\times \\nu_{C,90} + A'_{base,bath,OS,180} \\times \\nu_{C,180} + A'_{base,bath,OS,270} \\times \\nu_{C,270}) \\times \\eta_{C,base,bath} \\\\\n",
    "+ (A'_{base,other,OS,0} \\times \\nu_{C,0} + A'_{base,other,OS,90} \\times \\nu_{C,90} + A'_{base,other,OS,180} \\times \\nu_{C,180} + A'_{base,other,OS,270} \\times \\nu_{C,270}) \\times \\eta_{C,base,other} \\\\\n",
    "$$"
   ]
  },
  {
   "cell_type": "markdown",
   "metadata": {},
   "source": [
    "$m_{H}$：単位日射強度当たりの暖房期の日射熱取得量(W/(W/m<sup>2</sup>)) / Solar heat gain during the heating season per unit solar radiation intensity  \n",
    "$m_{C}$：単位日射強度当たりの冷房期の日射熱取得量(W/(W/m<sup>2</sup>)) / Solar heat gain in the cooling period per unit of solar radiation intensity  \n",
    "$A'_{env}$：標準住戸における外皮の部位の面積の合計(m<sup>2</sup>) / Total area of outer skin area in standard housing unit  \n",
    "$A'_{roof}$：標準住戸における屋根又は天井の面積(m<sup>2</sup>) / Area of roof or ceiling in standard dwelling unit  \n",
    "$A'_{wall,0}$：標準住戸における主開口方位から時計回りに 0°の方向に面した壁の面積(m<sup>2</sup>) / The area of the wall facing 0°clockwise from the main opening direction in the standard dwelling  \n",
    "$A'_{wall,90}$：標準住戸における主開口方位から時計回りに 90°の方向に面した壁の面積(m<sup>2</sup>) / The area of the wall facing 90°clockwise from the main opening direction in the standard dwelling  \n",
    "$A'_{wall,180}$：標準住戸における主開口方位から時計回りに 180°の方向に面した壁の面積(m<sup>2</sup>) / The area of the wall facing 180°clockwise from the main opening direction in the standard dwelling  \n",
    "$A'_{wall,270}$：標準住戸における主開口方位から時計回りに 270°の方向に面した壁の面積(m<sup>2</sup>) / The area of the wall facing in the direction of 270°clockwise from the main opening direction in the standard dwelling unit  \n",
    "$A'_{door,0}$：標準住戸における主開口方位から時計回りに 0°の方向に面したドアの面積(m<sup>2</sup>) / The area of the door facing 0°clockwise from the main opening direction in the standard dwelling  \n",
    "$A'_{door,90}$：標準住戸における主開口方位から時計回りに 90°の方向に面したドアの面積(m<sup>2</sup>) / The area of the door facing 90°clockwise from the main opening direction in the standard dwelling  \n",
    "$A'_{door,180}$：標準住戸における主開口方位から時計回りに 180°の方向に面したドアの面積(m<sup>2</sup>) / The area of the door facing 180°clockwise from the main opening direction in the standard dwelling  \n",
    "$A'_{door,270}$：標準住戸における主開口方位から時計回りに 270°の方向に面したドアの面積(m<sup>2</sup>) / The area of the door facing in the direction of 270°clockwise from the main opening direction in the standard dwelling unit  \n",
    "$A'_{window,0}$：標準住戸における主開口方位から時計回りに 0°の方向に面した窓の面積(m<sup>2</sup>) / The area of the window facing 0°clockwise from the main opening direction in the standard dwelling  \n",
    "$A'_{window,90}$：標準住戸における主開口方位から時計回りに 90°の方向に面した窓の面積(m<sup>2</sup>) / The area of the window facing in the direction of 90°clockwise from the main opening direction in the standard dwelling unit  \n",
    "$A'_{window,180}$：標準住戸における主開口方位から時計回りに 180°の方向に面した窓の面積(m<sup>2</sup>) / The area of the window facing 180°clockwise from the main opening direction in the standard dwelling  \n",
    "$A'_{window,270}$：標準住戸における主開口方位から時計回りに 270°の方向に面した窓の面積(m<sup>2</sup>) / The area of the window facing in the direction of 270°clockwise from the main opening direction in the standard dwelling unit  \n",
    "$A'_{base,etrc,OS,0}$：標準住戸における主開口方位から時計回りに 0°の方向の外気に面した玄関等の基礎の面積(m<sup>2</sup>) / The area of the foundation such as the entrance facing the outside in the direction of 0°clockwise from the main opening direction in the standard dwelling unit  \n",
    "$A'_{base,etrc,OS,90}$：標準住戸における主開口方位から時計回りに 90°の方向の外気に面した玄関等の基礎の面積(m<sup>2</sup>) / Area of foundation such as entrance facing the outside in the direction of 90°clockwise from the main opening direction in the standard dwelling unit  \n",
    "$A'_{base,etrc,OS,180}$：標準住戸における主開口方位から時計回りに 180°の方向の外気に面した玄関等の基礎の面積(m<sup>2</sup>) / The area of the foundation such as the entrance facing the outside in the direction of 180°clockwise from the main opening direction in the standard dwelling unit  \n",
    "$A'_{base,etrc,OS,270}$：標準住戸における主開口方位から時計回りに 270°の方向の外気に面した玄関等の基礎の面積(m<sup>2</sup>) / The area of the foundation such as the entrance facing the outside in the direction of 270°clockwise from the main opening direction in the standard dwelling unit  \n",
    "$A'_{base,bath,OS,0}$：標準住戸における主開口方位から時計回りに 0°の方向の外気に面した浴室の基礎の面積(m<sup>2</sup>) / The area of the base of the bathroom facing the open air in the direction of 0°clockwise from the main opening direction in the standard dwelling unit  \n",
    "$A'_{base,bath,OS,90}$：標準住戸における主開口方位から時計回りに 90°の方向の外気に面した浴室の基礎の面積(m<sup>2</sup>) / The area of the base of the bathroom facing the open air in the direction of 90°clockwise from the main opening direction in the standard dwelling unit  \n",
    "$A'_{base,bath,OS,180}$：標準住戸における主開口方位から時計回りに 180°の方向の外気に面した浴室の基礎の面積(m<sup>2</sup>) / The area of the base of the bathroom facing the open air in the direction of 180°clockwise from the main opening direction in the standard dwelling unit  \n",
    "$A'_{base,bath,OS,270}$：標準住戸における主開口方位から時計回りに 270°の方向の外気に面した浴室の基礎の面積(m<sup>2</sup>) / The area of the base of the bathroom facing the open air in the direction of 270°clockwise from the main opening orientation in the standard dwelling unit  \n",
    "$A'_{base,other,OS,0}$：標準住戸における主開口方位から時計回りに 0°の方向の外気に面したその他の基礎の面積(m<sup>2</sup>) / The area of other foundations facing the outside air in the direction of 0°clockwise from the main opening direction in the standard dwelling unit  \n",
    "$A'_{base,other,OS,90}$：標準住戸における主開口方位から時計回りに 90°の方向の外気に面したその他の基礎の面積(m<sup>2</sup>) / The area of other foundations facing the outside in the direction of 90°clockwise from the main opening direction in the standard dwelling unit  \n",
    "$A'_{base,other,OS,180}$：標準住戸における主開口方位から時計回りに 180°の方向の外気に面したその他の基礎の面積(m<sup>2</sup>) / The area of other foundations facing the outside in the direction of 180°clockwise from the main opening direction in the standard dwelling unit  \n",
    "$A'_{base,other,OS,270}$：標準住戸における主開口方位から時計回りに 270°の方向の外気に面したその他の基礎の面積(m<sup>2</sup>) / The area of other foundations facing the outside in the direction of 270°clockwise from the main opening direction in the standard dwelling unit  \n",
    "$\\nu_{H,top}$：上面に面した外皮の部位の暖房期の方位係数 / Orientation factor of the heating period of the part of the hull facing the top surface  \n",
    "$\\nu_{H,0}$：主開口方位から時計回りに 0°の方向に面した外皮の部位の暖房期の方位係数 / Orientation coefficient of the heating period of the part of the hull facing 0°clockwise from the main opening orientation  \n",
    "$\\nu_{H,90}$：主開口方位から時計回りに 90°の方向に面した外皮の部位の暖房期の方位係数 / Orientation coefficient of the heating period of the part of the hull facing 90°clockwise from the main opening orientation  \n",
    "$\\nu_{H,180}$：主開口方位から時計回りに 180°の方向に面した外皮の部位の暖房期の方位係数 / Orientation coefficient of the heating period of the portion of the hull facing 180°clockwise from the main opening orientation  \n",
    "$\\nu_{H,270}$：主開口方位から時計回りに 270°の方向に面した外皮の部位の暖房期の方位係数 / Orientation coefficient of the heating period of the part of the hull facing the direction of 270°clockwise from the main opening orientation  \n",
    "$\\nu_{C,top}$：上面に面した外皮の部位の冷房期の方位係数 / Orientation coefficient of the cooling period in the region of the hull facing the top  \n",
    "$\\nu_{C,0}$：主開口方位から時計回りに 0°の方向に面した外皮の部位の冷房期の方位係数 / Orientation coefficient of cooling period in the region of the shell facing 0°clockwise from the main opening orientation  \n",
    "$\\nu_{C,90}$：主開口方位から時計回りに 90°の方向に面した外皮の部位の冷房期の方位係数 / Cooling factor orientation factor of the portion of the hull facing 90°clockwise from the main opening orientation  \n",
    "$\\nu_{C,180}$：主開口方位から時計回りに 180°の方向に面した外皮の部位の冷房期の方位係数 / Cooling factor orientation factor of the part of the hull facing 180°clockwise from the main opening orientation  \n",
    "$\\nu_{C,270}$：主開口方位から時計回りに 270°の方向に面した外皮の部位の冷房期の方位係数 / Cooling factor orientation factor of the portion of the hull facing 270°clockwise from the main opening orientation  \n",
    "$\\eta_{H,roof}$：屋根又は天井の暖房期の日射熱取得率 / Solar heat gain rate of the roof or ceiling heating season  \n",
    "$\\eta_{H,wall}$：壁の暖房期の日射熱取得率  / Heat gain rate of heating period of wall  \n",
    "$\\eta_{H,door}$：ドアの暖房期の日射熱取得率 / Solar heat gain rate of the door heating period  \n",
    "$\\eta_{H,window,0}$：主開口方位から時計回りに 0°の方向に面した窓の暖房期の日射熱取得率 / Solar heat gain rate during the heating phase of the window facing 0°clockwise from the main opening direction  \n",
    "$\\eta_{H,window,90}$：主開口方位から時計回りに 90°の方向に面した窓の暖房期の日射熱取得率 / Solar heat gain rate during the heating phase of the window facing 90°clockwise from the main opening direction  \n",
    "$\\eta_{H,window,180}$：主開口方位から時計回りに 180°の方向に面した窓の暖房期の日射熱取得率 / Solar heat gain rate during the heating phase of the window facing 180°clockwise from the main opening direction  \n",
    "$\\eta_{H,window,270}$：主開口方位から時計回りに 270°の方向に面した窓の暖房期の日射熱取得率 / Solar heat gain rate during the heating period of the window facing 270°clockwise from the main opening direction  \n",
    "$\\eta_{H,base,etrc}$：玄関等の基礎の暖房期の日射熱取得率 / Solar heat gain rate of the heating period of the foundation such as the entrance  \n",
    "$\\eta_{H,base,bath}$：浴室の基礎の暖房期の日射熱取得率 / Solar heat gain rate of the heating period of the basis of the bathroom  \n",
    "$\\eta_{H,base,other}$：その他の基礎の暖房期の日射熱取得率 / Heat gain rate of other basic heating seasons  \n",
    "$\\eta_{C,roof}$：屋根又は天井の冷房期の日射熱取得率 / Solar heat gain rate of the cooling period of the roof or ceiling  \n",
    "$\\eta_{C,wall}$：壁の冷房期の日射熱取得率 / Solar heat gain rate of the wall cooling period  \n",
    "$\\eta_{C,door}$：ドアの冷房期の日射熱取得率 / Solar heat gain rate of the door cooling period  \n",
    "$\\eta_{C,window,0}$：主開口方位から時計回りに 0°の方向に面した窓の冷房期の日射熱取得率 / Solar heat gain factor during the cooling period of a window facing 0°clockwise from the main opening orientation  \n",
    "$\\eta_{C,window,90}$：主開口方位から時計回りに 90°の方向に面した窓の冷房期の日射熱取得率 / Solar heat gain factor during the cooling period of a window facing 90°clockwise from the main opening orientation  \n",
    "$\\eta_{C,window,180}$：主開口方位から時計回りに 180°の方向に面した窓の冷房期の日射熱取得率 / Solar heat gain rate during cooling period of a window facing 180°clockwise from the main opening direction  \n",
    "$\\eta_{C,window,270}$：主開口方位から時計回りに 270°の方向に面した窓の冷房期の日射熱取得率 / Solar heat gain factor during the cooling period of a window facing 270°clockwise from the main opening orientation  \n",
    "$\\eta_{C,base,etrc}$：玄関等の基礎の冷房期の日射熱取得率 / Solar heat gain rate of cooling period of foundation such as entrances  \n",
    "$\\eta_{C,base,bath}$：浴室の基礎の冷房期の日射熱取得率 / Solar heat gain rate of the cooling period of the basis of the bathroom  \n",
    "$\\eta_{C,base,other}$：その他の基礎の冷房期の日射熱取得率 / Solar heat gain rate of cooling period of other foundations  \n"
   ]
  },
  {
   "cell_type": "code",
   "execution_count": null,
   "metadata": {},
   "outputs": [],
   "source": [
    "def get_eta_A_H(m_H, A_dash_env):\n",
    "    \"\"\"\n",
    "    :param m_H: 単位日射強度当たりの暖房期の日射熱取得量 (W/(W/m2))\n",
    "    :param A_dash_env: 標準住戸における外皮の部位の面積の合計 (m2)\n",
    "    :return: 暖房期の平均日射熱取得率 (-)\n",
    "    \"\"\"\n",
    "    if m_H is None:\n",
    "        return None\n",
    "    etr_A_H = m_H / A_dash_env * 100\n",
    "    return floor(etr_A_H * 10) / 10"
   ]
  },
  {
   "cell_type": "code",
   "execution_count": null,
   "metadata": {},
   "outputs": [],
   "source": [
    "def get_m_H(region, house_insulation_type, U_roof, U_wall, U_door,\n",
    "            U_base_etrc, U_base_bath, U_base_other, etr_d, f_H=None):\n",
    "    \"\"\"\n",
    "    :param region: 地域区分\n",
    "    :param house_insulation_type: '床断熱住戸'または'基礎断熱住戸'\n",
    "    :param U_roof: 屋根又は天井の熱貫流率\n",
    "    :param U_wall: 壁の熱貫流率\n",
    "    :param U_door: ドアの熱貫流率\n",
    "    :param etr_d: 暖房期の垂直面日射熱取得率 (-)\n",
    "    :param f_H: 暖房期の取得日射熱補正係数 (-)\n",
    "    :param U_base_etrc: 玄関等の基礎の熱貫流率\n",
    "    :param U_base_bath: 浴室の基礎の熱貫流率\n",
    "    :param U_base_other: その他の基礎の熱貫流率\n",
    "    :return: 単位日射強度当たりの暖房期の日射熱取得量[W/(W/m2)]\n",
    "    \"\"\"\n",
    "    if region == 8:\n",
    "        return None\n",
    "\n",
    "    A_dash_roof = get_A_dash_roof()\n",
    "    A_dash_wall_0 = get_A_dash_wall_0()\n",
    "    A_dash_wall_90 = get_A_dash_wall_90()\n",
    "    A_dash_wall_180 = get_A_dash_wall_180()\n",
    "    A_dash_wall_270 = get_A_dash_wall_270()\n",
    "    A_dash_door_0 = get_A_dash_door_0()\n",
    "    A_dash_door_90 = get_A_dash_door_90()\n",
    "    A_dash_door_180 = get_A_dash_door_180()\n",
    "    A_dash_door_270 = get_A_dash_door_270()\n",
    "    A_dash_window_0 = get_A_dash_window_0()\n",
    "    A_dash_window_90 = get_A_dash_window_90()\n",
    "    A_dash_window_180 = get_A_dash_window_180()\n",
    "    A_dash_window_270 = get_A_dash_window_270()\n",
    "    A_dash_base_etrc_OS_0 = get_A_dash_base_etrc_OS_0(house_insulation_type)\n",
    "    A_dash_base_etrc_OS_90 = get_A_dash_base_etrc_OS_90(house_insulation_type)\n",
    "    A_dash_base_etrc_OS_180 = get_A_dash_base_etrc_OS_180(house_insulation_type)\n",
    "    A_dash_base_etrc_OS_270 = get_A_dash_base_etrc_OS_270(house_insulation_type)\n",
    "    A_dash_base_bath_OS_0 = get_A_dash_base_bath_OS_0(house_insulation_type)\n",
    "    A_dash_base_bath_OS_90 = get_A_dash_base_bath_OS_90(house_insulation_type)\n",
    "    A_dash_base_bath_OS_180 = get_A_dash_base_bath_OS_180(house_insulation_type)\n",
    "    A_dash_base_bath_OS_270 = get_A_dash_base_bath_OS_270(house_insulation_type)\n",
    "    A_dash_base_other_OS_0 = get_A_dash_base_other_OS_0(house_insulation_type)\n",
    "    A_dash_base_other_OS_90 = get_A_dash_base_other_OS_90(house_insulation_type)\n",
    "    A_dash_base_other_OS_180 = get_A_dash_base_other_OS_180(house_insulation_type)\n",
    "    A_dash_base_other_OS_270 = get_A_dash_base_other_OS_270(house_insulation_type)\n",
    "\n",
    "    # 主方位=南西\n",
    "    nu_H_top = get_nu_H(region, '上面')\n",
    "    nu_H_0 = get_nu_H(region, '南西')\n",
    "    nu_H_90 = get_nu_H(region, '北西')\n",
    "    nu_H_180 = get_nu_H(region, '北東')\n",
    "    nu_H_270 = get_nu_H(region, '南東')\n",
    "\n",
    "    # 屋根又は天井・壁・ドアの日射熱取得率\n",
    "    eta_H_roof = get_eta_H_roof(U_roof)\n",
    "    eta_H_wall = get_eta_H_wall(U_wall)\n",
    "    eta_H_door = get_eta_H_door(U_door)\n",
    "\n",
    "    # 窓の日射熱取得率\n",
    "    eta_H_window_0, eta_H_window_90, eta_H_window_180, eta_H_window_270 = get_eta_H_window(region, etr_d, f_H)\n",
    "\n",
    "    # 玄関等・浴室・その他の基礎の日射熱取得率\n",
    "    eta_H_base_etrc = get_eta_H_base_etrc(U_base_etrc)\n",
    "    eta_H_base_bath = get_eta_H_base_bath(U_base_bath)\n",
    "    eta_H_base_other = get_eta_H_base_other(U_base_other)\n",
    "\n",
    "    m_H_list = [\n",
    "        # roof\n",
    "        A_dash_roof * nu_H_top * eta_H_roof,\n",
    "        # wall\n",
    "        (A_dash_wall_0 * nu_H_0\n",
    "         + A_dash_wall_90 * nu_H_90\n",
    "         + A_dash_wall_180 * nu_H_180\n",
    "         + A_dash_wall_270 * nu_H_270) * eta_H_wall,\n",
    "        # door\n",
    "        (A_dash_door_0 * nu_H_0\n",
    "         + A_dash_door_90 * nu_H_90\n",
    "         + A_dash_door_180 * nu_H_180\n",
    "         + A_dash_door_270 * nu_H_270) * eta_H_door,\n",
    "        # window\n",
    "        (A_dash_window_0 * nu_H_0 * eta_H_window_0\n",
    "         + A_dash_window_90 * nu_H_90 * eta_H_window_90\n",
    "         + A_dash_window_180 * nu_H_180 * eta_H_window_180\n",
    "         + A_dash_window_270 * nu_H_270 * eta_H_window_270),\n",
    "        # base entrance\n",
    "        (A_dash_base_etrc_OS_0 * nu_H_0\n",
    "         + A_dash_base_etrc_OS_90 * nu_H_90\n",
    "         + A_dash_base_etrc_OS_180 * nu_H_180\n",
    "         + A_dash_base_etrc_OS_270 * nu_H_270) * eta_H_base_etrc,\n",
    "        # base bath\n",
    "        (A_dash_base_bath_OS_0 * nu_H_0\n",
    "         + A_dash_base_bath_OS_90 * nu_H_90\n",
    "         + A_dash_base_bath_OS_180 * nu_H_180\n",
    "         + A_dash_base_bath_OS_270 * nu_H_270) * eta_H_base_bath,\n",
    "        # base other\n",
    "        (A_dash_base_other_OS_0 * nu_H_0\n",
    "         + A_dash_base_other_OS_90 * nu_H_90\n",
    "         + A_dash_base_other_OS_180 * nu_H_180\n",
    "         + A_dash_base_other_OS_270 * nu_H_270) * eta_H_base_other\n",
    "    ]\n",
    "\n",
    "    m_H = sum(m_H_list)\n",
    "\n",
    "    return m_H"
   ]
  },
  {
   "cell_type": "code",
   "execution_count": null,
   "metadata": {},
   "outputs": [],
   "source": [
    "def get_eta_A_C(m_C, A_dash_env):\n",
    "    \"\"\"\n",
    "    :param m_C: 単位日射強度当たりの冷房期の日射熱取得量 (W/(W/m2))\n",
    "    :param A_dash_env: 標準住戸における外皮の部位の面積の合計 (m2)\n",
    "    :return: 冷房期の平均日射熱取得率 (-)\n",
    "    \"\"\"\n",
    "    etr_A_C = m_C / A_dash_env * 100\n",
    "    return ceil(etr_A_C * 10) / 10"
   ]
  },
  {
   "cell_type": "code",
   "execution_count": null,
   "metadata": {},
   "outputs": [],
   "source": [
    "def get_m_C(region, house_insulation_type, U_roof, U_wall, U_door,\n",
    "            U_base_etrc, U_base_bath, U_base_other, etr_d, f_C=None):\n",
    "    \"\"\"\n",
    "    :param region: 地域区分\n",
    "    :param house_insulation_type: '床断熱住戸'または'基礎断熱住戸'\n",
    "    :param U_roof: 屋根又は天井の熱貫流率\n",
    "    :param U_wall: 壁の熱貫流率\n",
    "    :param U_door: ドアの熱貫流率\n",
    "    :param etr_d: 冷房期の垂直面日射熱取得率 (-)\n",
    "    :param f_C: 冷房期の取得日射熱補正係数 (-)\n",
    "    :param U_base_etrc: 玄関等の基礎の熱貫流率\n",
    "    :param U_base_bath: 浴室の基礎の熱貫流率\n",
    "    :param U_base_other: その他の基礎の熱貫流率\n",
    "    :return: 単位日射強度当たりの冷房期の日射熱取得量[W/(W/m2)]\n",
    "    \"\"\"\n",
    "    A_dash_roof = get_A_dash_roof()\n",
    "    A_dash_wall_0 = get_A_dash_wall_0()\n",
    "    A_dash_wall_90 = get_A_dash_wall_90()\n",
    "    A_dash_wall_180 = get_A_dash_wall_180()\n",
    "    A_dash_wall_270 = get_A_dash_wall_270()\n",
    "    A_dash_door_0 = get_A_dash_door_0()\n",
    "    A_dash_door_90 = get_A_dash_door_90()\n",
    "    A_dash_door_180 = get_A_dash_door_180()\n",
    "    A_dash_door_270 = get_A_dash_door_270()\n",
    "    A_dash_window_0 = get_A_dash_window_0()\n",
    "    A_dash_window_90 = get_A_dash_window_90()\n",
    "    A_dash_window_180 = get_A_dash_window_180()\n",
    "    A_dash_window_270 = get_A_dash_window_270()\n",
    "    A_dash_base_etrc_OS_0 = get_A_dash_base_etrc_OS_0(house_insulation_type)\n",
    "    A_dash_base_etrc_OS_90 = get_A_dash_base_etrc_OS_90(house_insulation_type)\n",
    "    A_dash_base_etrc_OS_180 = get_A_dash_base_etrc_OS_180(house_insulation_type)\n",
    "    A_dash_base_etrc_OS_270 = get_A_dash_base_etrc_OS_270(house_insulation_type)\n",
    "    A_dash_base_bath_OS_0 = get_A_dash_base_bath_OS_0(house_insulation_type)\n",
    "    A_dash_base_bath_OS_90 = get_A_dash_base_bath_OS_90(house_insulation_type)\n",
    "    A_dash_base_bath_OS_180 = get_A_dash_base_bath_OS_180(house_insulation_type)\n",
    "    A_dash_base_bath_OS_270 = get_A_dash_base_bath_OS_270(house_insulation_type)\n",
    "    A_dash_base_other_OS_0 = get_A_dash_base_other_OS_0(house_insulation_type)\n",
    "    A_dash_base_other_OS_90 = get_A_dash_base_other_OS_90(house_insulation_type)\n",
    "    A_dash_base_other_OS_180 = get_A_dash_base_other_OS_180(house_insulation_type)\n",
    "    A_dash_base_other_OS_270 = get_A_dash_base_other_OS_270(house_insulation_type)\n",
    "\n",
    "    # 主方位=南西\n",
    "    nu_C_top = get_nu_C(region, '上面')\n",
    "    nu_C_0 = get_nu_C(region, '南西')\n",
    "    nu_C_90 = get_nu_C(region, '北西')\n",
    "    nu_C_180 = get_nu_C(region, '北東')\n",
    "    nu_C_270 = get_nu_C(region, '南東')\n",
    "\n",
    "    # 屋根又は天井・壁・ドアの日射熱取得率\n",
    "    eta_C_roof = get_eta_C_roof(U_roof)\n",
    "    eta_C_wall = get_eta_C_wall(U_wall)\n",
    "    eta_C_door = get_eta_C_door(U_door)\n",
    "\n",
    "    # 窓の日射熱取得率\n",
    "    eta_C_window_0, eta_C_window_90, eta_C_window_180, eta_C_window_270 = get_eta_C_window(region, etr_d, f_C)\n",
    "\n",
    "    # 玄関等・浴室・その他の基礎の日射熱取得率\n",
    "    eta_C_base_etrc = get_eta_C_base_etrc(U_base_etrc)\n",
    "    eta_C_base_bath = get_eta_C_base_bath(U_base_bath)\n",
    "    eta_C_base_other = get_eta_C_base_other(U_base_other)\n",
    "\n",
    "    m_C_list = [\n",
    "        # roof\n",
    "        A_dash_roof * nu_C_top * eta_C_roof,\n",
    "        # wall\n",
    "        (A_dash_wall_0 * nu_C_0\n",
    "         + A_dash_wall_90 * nu_C_90\n",
    "         + A_dash_wall_180 * nu_C_180\n",
    "         + A_dash_wall_270 * nu_C_270) * eta_C_wall,\n",
    "        # door\n",
    "        (A_dash_door_0 * nu_C_0\n",
    "         + A_dash_door_90 * nu_C_90\n",
    "         + A_dash_door_180 * nu_C_180\n",
    "         + A_dash_door_270 * nu_C_270) * eta_C_door,\n",
    "        # window\n",
    "        (A_dash_window_0 * nu_C_0 * eta_C_window_0\n",
    "         + A_dash_window_90 * nu_C_90 * eta_C_window_90\n",
    "         + A_dash_window_180 * nu_C_180 * eta_C_window_180\n",
    "         + A_dash_window_270 * nu_C_270 * eta_C_window_270),\n",
    "        # base entrance\n",
    "        (A_dash_base_etrc_OS_0 * nu_C_0\n",
    "         + A_dash_base_etrc_OS_90 * nu_C_90\n",
    "         + A_dash_base_etrc_OS_180 * nu_C_180\n",
    "         + A_dash_base_etrc_OS_270 * nu_C_270) * eta_C_base_etrc,\n",
    "        # base bath\n",
    "        (A_dash_base_bath_OS_0 * nu_C_0\n",
    "         + A_dash_base_bath_OS_90 * nu_C_90\n",
    "         + A_dash_base_bath_OS_180 * nu_C_180\n",
    "         + A_dash_base_bath_OS_270 * nu_C_270) * eta_C_base_bath,\n",
    "        # base other\n",
    "        (A_dash_base_other_OS_0 * nu_C_0\n",
    "         + A_dash_base_other_OS_90 * nu_C_90\n",
    "         + A_dash_base_other_OS_180 * nu_C_180\n",
    "         + A_dash_base_other_OS_270 * nu_C_270) * eta_C_base_other\n",
    "    ]\n",
    "\n",
    "    m_C = sum(m_C_list)\n",
    "\n",
    "    return m_C"
   ]
  },
  {
   "cell_type": "markdown",
   "metadata": {},
   "source": [
    "#### 9.4 床面積の合計に対する外皮の部位の面積の合計の比 / Ratio of the sum of the area of the area of the hull to the sum of the floor area"
   ]
  },
  {
   "cell_type": "markdown",
   "metadata": {},
   "source": [
    "$$\\large\n",
    "r_{env} = \\frac{A'_{env}}{A'_{A}}\n",
    "$$"
   ]
  },
  {
   "cell_type": "markdown",
   "metadata": {},
   "source": [
    "$A'_{env}$：標準住戸における外皮の部位の面積の合計(m<sup>2</sup>) / Total area of outer skin area in standard housing unit  \n",
    "$A'_{A}$：標準住戸における床面積の合計(m<sup>2</sup>) / Total floor area of standard dwelling units  \n"
   ]
  },
  {
   "cell_type": "code",
   "execution_count": null,
   "metadata": {},
   "outputs": [],
   "source": [
    "# 床面積の合計に対する外皮の部位の面積の合計の比  (12)\n",
    "def get_r_env(A_dash_env, A_dash_A):\n",
    "    \"\"\"\n",
    "    :param A_dash_env: 標準住戸における外皮の部位の面積の合計 (m2)\n",
    "    :param A_dash_A: 標準住戸における床面積の合計 (m2)\n",
    "    :return: 床面積の合計に対する外皮の部位の面積の合計の比 (-)\n",
    "    \"\"\"\n",
    "    return A_dash_env / A_dash_A"
   ]
  },
  {
   "cell_type": "markdown",
   "metadata": {},
   "source": [
    "#### 9.5 標準住戸における外皮の部位の面積及び土間床等の外周部の長さ等 / Area of outer skin part in standard dwelling unit and length of outer periphery of soil floor etc."
   ]
  },
  {
   "cell_type": "markdown",
   "metadata": {},
   "source": [
    "<div style=\"text-align: center;font-weight: bold;\">表　標準住戸における部位の面積及び土間床等の外周部の長さ等<br>Table: Area of part in standard dwelling unit and length of outer periphery of soil floor etc.</div>\n",
    "\n",
    "<table>\n",
    "<thead>\n",
    "<tr>\n",
    "<th rowspan=\"2\" style=\"text-align:center;vertical-align: top;\">項目<br>item</th>\n",
    "<th rowspan=\"2\" style=\"width: 15%;text-align:center;vertical-align: top;\">記号<br>symbol</th>\n",
    "<th rowspan=\"2\" style=\"width: 6%;vertical-align: top;\">単位<br>unit</th>\n",
    "<th colspan=\"2\" style=\"width: 34%;text-align:center\">値<br>value</th>\n",
    "</tr>\n",
    "<tr>\n",
    "<th>（い）床断熱住戸の場合<br>(I) In the case of floor insulation dwelling unit</th>\n",
    "<th>（ろ）基礎断熱住戸の場合<br>(RO) In the case of the basic insulation unit</th>\n",
    "</tr>\n",
    "</thead>\n",
    "\n",
    "<tbody>\n",
    "<tr><th>外皮の部位の面積の合計<br>Total area of the area of the hull</th><td>$A'_{env}$</td><td>m<sup>2</sup></td><td>266.10</td><td>275.69</td></tr>\n",
    "\n",
    "<tr><th>床面積の合計<br>Total floor area</th><td>$A'_{A}$</td><td>m<sup>2</sup></td><td colspan=\"2\" style=\"text-align: center;\">90.0</td></tr>\n",
    "<tr><th>屋根又は天井の面積<br>Roof or ceiling area</th><td>$A'_{roof}$</td><td>m<sup>2</sup></td><td colspan=\"2\" style=\"text-align: center;\">50.85</td></tr>\n",
    "<tr><th>主開口方位から時計回りに90°の方向に面した壁の面積<br>The area of the wall facing 90° clockwise from the main aperture orientation</th><td>$A'_{wall,90}$</td><td>m<sup>2</sup></td><td colspan=\"2\" style=\"text-align: center;\">22.37</td></tr>\n",
    "<tr><th>主開口方位から時計回りに180°の方向に面した壁の面積<br>The area of the wall facing 180° clockwise from the main aperture orientation</th><td>$A'_{wall,180}$</td><td>m<sup>2</sup></td><td colspan=\"2\" style=\"text-align: center;\">47.92</td></tr>\n",
    "<tr><th>主開口方位から時計回りに270°の方向に面した壁の面積<br>The area of the wall facing in the direction of 270° clockwise from the main opening orientation</th><td>$A'_{wall,270}$</td><td>m<sup>2</sup></td><td colspan=\"2\" style=\"text-align: center;\">22.28</td></tr>\n",
    "<tr><th>主開口方位から時計回りに0°の方向に面したドアの面積<br>The area of the door facing 0° clockwise from the main opening orientation</th><td>$A'_{door,0}$</td><td>m<sup>2</sup></td><td colspan=\"2\" style=\"text-align: center;\">0.0</td></tr>\n",
    "<tr><th>主開口方位から時計回りに90°の方向に面したドアの面積<br>The area of the door facing 90° clockwise from the main opening orientation</th><td>$A'_{door,90}$</td><td>m<sup>2</sup></td><td colspan=\"2\" style=\"text-align: center;\">1.89</td></tr>\n",
    "<tr><th>主開口方位から時計回りに180°の方向に面したドアの面積<br>The area of the door facing 180° clockwise from the main opening orientation</th><td>$A'_{door,180}$</td><td>m<sup>2</sup></td><td colspan=\"2\" style=\"text-align: center;\">1.62</td></tr>\n",
    "<tr><th>主開口方位から時計回りに270°の方向に面したドアの面積<br>Door area facing 270° clockwise from the main opening orientation</th><td>$A'_{door,270}$</td><td>m<sup>2</sup></td><td colspan=\"2\" style=\"text-align: center;\">0.0</td></tr>\n",
    "<tr><th>主開口方位から時計回りに0°の方向に面した窓の面積<br>Window area facing 0° clockwise from the main aperture orientation</th><td>$A'_{window,0}$</td><td>m<sup>2</sup></td><td colspan=\"2\" style=\"text-align: center;\">22.69</td></tr>\n",
    "<tr><th>主開口方位から時計回りに90°の方向に面した窓の面積<br>The area of the window facing 90° clockwise from the main aperture orientation</th><td>$A'_{window,90}$</td><td>m<sup>2</sup></td><td colspan=\"2\" style=\"text-align: center;\">2.38</td></tr>\n",
    "<tr><th>主開口方位から時計回りに180°の方向に面した窓の面積<br>Window area facing 180° clockwise from the main aperture orientation</th><td>$A'_{window,180}$</td><td>m<sup>2</sup></td><td colspan=\"2\" style=\"text-align: center;\">3.63</td></tr>\n",
    "<tr><th>主開口方位から時計回りに270°の方向に面した窓の面積<br>The area of the window facing 270° clockwise from the main aperture orientation</th><td>$A'_{window,270}$</td><td>m<sup>2</sup></td><td colspan=\"2\" style=\"text-align: center;\">4.37</td></tr>\n",
    "\n",
    "<tr><th>浴室の床の面積<br>Floor area of bathroom</th><td>$A'_{floor,bath}$</td><td>m<sup>2</sup></td><td>3.31(※1)</td><td>0.00</td></tr>\n",
    "<tr><th>その他の床の面積<br>Other floor area</th><td>$A'_{floor,other}$</td><td>m<sup>2</sup></td><td>45.05</td><td>0.00</td></tr>\n",
    "\n",
    "<tr><th>主開口方位から時計回りに<br>0°の方向の外気に面した玄関等の基礎の面積<br>Area of the foundation such as the entrance facing in the direction of 0° clockwise from the main opening direction</th><td>$A'_{base,etrc,OS,0}$</td><td>m<sup>2</sup></td><td>0.00</td><td>0.00</td></tr>\n",
    "<tr><th>主開口方位から時計回りに<br>90°の方向の外気に面した玄関等の基礎の面積<br>Area of the foundation such as the front facing in the direction of 90° clockwise from the main opening direction</th><td>$A'_{base,etrc,OS,90}$</td><td>m<sup>2</sup></td><td>0.33</td><td>0.33</td></tr>\n",
    "<tr><th>主開口方位から時計回りに<br>180°の方向の外気に面した玄関等の基礎の面積<br>Area of the foundation such as the entrance facing in the direction of 180° clockwise from the main opening direction</th><td>$A'_{base,etrc,OS,180}$</td><td>m<sup>2</sup></td><td>0.25</td><td>0.25</td></tr>\n",
    "<tr><th>主開口方位から時計回りに<br>270°の方向の外気に面した玄関等の基礎の面積<br>Area of the foundation such as the entrance facing in the direction of 270° clockwise from the main opening direction</th><td>$A'_{base,etrc,OS,270}$</td><td>m<sup>2</sup></td><td>0.00</td><td>0.00</td></tr>\n",
    "<tr><th>床下に面した玄関等の基礎の面積<br>Area of foundation such as entrances facing the floor</th><td>$A'_{base,etrc,IS}$</td><td>m<sup>2</sup></td><td>0.57</td><td>0.00</td></tr>\n",
    "<tr><th>主開口方位から時計回りに<br>0°の方向の外気に面した浴室の基礎の面積<br>Area of the base of the bathroom facing the open air in the direction of 0° clockwise from the main opening orientation</th><td>$A'_{base,bath,OS,0}$</td><td>m<sup>2</sup></td><td>0.00(※2)</td><td>0.00</td></tr>\n",
    "<tr><th>主開口方位から時計回りに<br>90°の方向の外気に面した浴室の基礎の面積<br>Area of the base of the bathroom facing the open air in the direction of 90° clockwise from the main opening orientation</th><td>$A'_{base,bath,OS,90}$</td><td>m<sup>2</sup></td><td>0.91(※2)</td><td>0.91</td></tr>\n",
    "<tr><th>主開口方位から時計回りに<br>180°の方向の外気に面した浴室の基礎の面積<br>Area of the base of the bathroom facing the open air in the direction of 180° clockwise from the main opening orientation</th><td>$A'_{base,bath,OS,180}$</td><td>m<sup>2</sup></td><td>0.91(※2)</td><td>0.91</td></tr>\n",
    "<tr><th>主開口方位から時計回りに<br>270°の方向の外気に面した浴室の基礎の面積<br>Area of the base of the bathroom facing the open air in the direction of 270° clockwise from the main opening orientation</th><td>$A'_{base,bath,OS,270}$</td><td>m<sup>2</sup></td><td>0.00(※2)</td><td>0.00</td></tr>\n",
    "<tr><th>床下に面した浴室の基礎の面積<br>Area of foundation of bathroom facing floor</th><td>$A'_{base,bath,IS}$</td><td>m<sup>2</sup></td><td>1.82(※2)</td><td>0.00</td></tr>\n",
    "<tr><th>主開口方位から時計回りに<br>0°の方向の外気に面したその他の基礎の面積<br>The area of other foundations facing the outside air in the direction of 0° clockwise from the main aperture direction</th><td>$A'_{base,other,OS,0}$</td><td>m<sup>2</sup></td><td>0.00</td><td>5.30</td></tr>\n",
    "<tr><th>主開口方位から時計回りに<br>90°の方向の外気に面したその他の基礎の面積<br>The area of the other foundation facing the outside air in the direction of 90° clockwise from the main aperture direction</th><td>$A'_{base,other,OS,90}$</td><td>m<sup>2</sup></td><td>0.00</td><td>0.57</td></tr>\n",
    "<tr><th>主開口方位から時計回りに<br>180°の方向の外気に面したその他の基礎の面積<br>The area of other foundations facing the outside air in the direction of 180° clockwise from the main aperture direction</th><td>$A'_{base,other,OS,180}$</td><td>m<sup>2</sup></td><td>0.00</td><td>3.71</td></tr>\n",
    "<tr><th>主開口方位から時計回りに<br>270°の方向の外気に面したその他の基礎の面積<br>The area of other foundations facing the outside air in the direction of 270° clockwise from the main aperture direction</th><td>$A'_{base,other,OS,270}$</td><td>m<sup>2</sup></td><td>0.00</td><td>2.40</td></tr>\n",
    "<tr><th>床下に面したその他の基礎の面積<br>Other floor area facing the floor</th><td>$A'_{base,other,IS}$</td><td>m<sup>2</sup></td><td>0.00</td><td>0.00</td></tr>\n",
    "<tr><th>主開口方位から時計回りに<br>0°の方向の外気に面した玄関等の土間床等の外周部の長さ<br>The length of the outer periphery of the floor, such as the entrance facing the outside in the direction of 0° clockwise from the main opening direction</th><td>$L'_{prm,etrc,OS,0}$</td><td>m</td><td>0.00</td><td>0.00</td></tr>\n",
    "<tr><th>主開口方位から時計回りに<br>90°の方向の外気に面した玄関等の土間床等の外周部の長さ<br>The length of the outer periphery of the floor, such as the entrance facing the outside in the direction of 90° clockwise from the main opening direction</th><td>$L'_{prm,etrc,OS,90}$</td><td>m</td><td>1.82</td><td>1.82</td></tr>\n",
    "<tr><th>主開口方位から時計回りに<br>180°の方向の外気に面した玄関等の土間床等の外周部の長さ<br>The length of the outer periphery of the floor, such as the entrance facing the outside in the direction of 180° clockwise from the main opening direction</th><td>$L'_{prm,etrc,OS,180}$</td><td>m</td><td>1.37</td><td>1.37</td></tr>\n",
    "<tr><th>主開口方位から時計回りに<br>270°の方向の外気に面した玄関等の土間床等の外周部の長さ<br>The length of the outer periphery of the floor, such as the entrance facing the outside in the direction of 270° clockwise from the main opening direction</th><td>$L'_{prm,etrc,OS,270}$</td><td>m</td><td>0.00</td><td>0.00</td></tr>\n",
    "<tr><th>床下に面した玄関等の土間床等の外周部の長さ<br>The length of the outer periphery of the floor, such as the entrance floor facing the floor</th><td>$L'_{prm,etrc,IS}$</td><td>m</td><td>3.19</td><td>0.00</td></tr>\n",
    "<tr><th>主開口方位から時計回りに<br>0°の方向の外気に面した浴室の土間床等の外周部の長さ<br>The length of the outer periphery of the floor, etc., of the bathroom facing the open air in the direction of 0° clockwise from the main opening direction</th><td>$L'_{prm,bath,OS,0}$</td><td>m</td><td>0.00(※3)</td><td>0.00</td></tr>\n",
    "<tr><th>主開口方位から時計回りに<br>90°の方向の外気に面した浴室の土間床等の外周部の長さ<br>The length of the outer periphery of the floor, etc. of the bathroom facing the open air in the direction of 90° clockwise from the main opening direction</th><td>$L'_{prm,bath,OS,90}$</td><td>m</td><td>1.82(※3)</td><td>1.82</td></tr>\n",
    "<tr><th>主開口方位から時計回りに<br>180°の方向の外気に面した浴室の土間床等の外周部の長さ<br>The length of the outer periphery of the floor, etc. of the bathroom facing the open air in the direction of 180° clockwise from the main opening direction</th><td>$L'_{prm,bath,OS,180}$</td><td>m</td><td>1.82(※3)</td><td>1.82</td></tr>\n",
    "<tr><th>主開口方位から時計回りに<br>270°の方向の外気に面した浴室の土間床等の外周部の長さ<br>The length of the outer periphery of the floor, etc. of the bathroom facing the open air in the direction of 270° clockwise from the main opening direction</th><td>$L'_{prm,bath,OS,270}$</td><td>m</td><td>0.00(※3)</td><td>0.00</td></tr>\n",
    "<tr><th>床下に面した浴室の土間床等の外周部の長さ<br>Length of the outer periphery of the floor of the bathroom facing the floor</th><td>$L'_{prm,bath,IS}$</td><td>m</td><td>3.64(※3)</td><td>0.00</td></tr>\n",
    "<tr><th>主開口方位から時計回りに<br>0°の方向の外気に面したその他の土間床等の外周部の長さ<br>Length of outer periphery of other soil floor facing external air in the direction of 0° clockwise from the main opening direction</th><td>$L'_{prm,other,OS,0}$</td><td>m</td><td>0.00</td><td>10.61</td></tr>\n",
    "<tr><th>主開口方位から時計回りに<br>90°の方向の外気に面したその他の土間床等の外周部の長さ<br>The length of the outer periphery of other soil floor facing the outside air in the direction of 90° clockwise from the main opening direction</th><td>$L'_{prm,other,OS,90}$</td><td>m</td><td>0.00</td><td>1.15</td></tr>\n",
    "<tr><th>主開口方位から時計回りに<br>180°の方向の外気に面したその他の土間床等の外周部の長さ<br>The length of the outer periphery of other soil floor facing the outside air in the direction of 180° clockwise from the main opening direction</th><td>$L'_{prm,other,OS,180}$</td><td>m</td><td>0.00</td><td>7.42</td></tr>\n",
    "<tr><th>主開口方位から時計回りに<br>270°の方向の外気に面したその他の土間床等の外周部の長さ<br>Length of outer periphery of other soil floor facing external air in the direction of 270° clockwise from the main opening direction</th><td>$L'_{prm,other,OS,270}$</td><td>m</td><td>0.00</td><td>4.79</td></tr>\n",
    "<tr><th>床下に面したその他の土間床等の外周部の長さ<br>Length of outer periphery of other soil floor facing the floor</th><td>$L'_{prm,other,IS}$</td><td>m</td><td>0.00</td><td>0.00</td></tr>\n",
    "\n",
    "</table>"
   ]
  },
  {
   "cell_type": "markdown",
   "metadata": {},
   "source": [
    "※1 浴室部分の外皮を床とする場合および外皮の部位として浴室の床が存在しない場合。浴室部分の外皮を土間床等の外周部の基礎とする場合は 0.0(m<sup>2</sup>)とする。  \n",
    "※2 浴室部分の外皮を土間床等の外周部の基礎とする場合。浴室部分の外皮を床とする場合および外皮の部位として浴室の床が存在しない場合は 0.0(m<sup>2</sup>)とする。  \n",
    "※3 浴室部分の外皮を土間床等の外周部の基礎とする場合。浴室部分の外皮を床とする場合および外皮の部位として浴室の床が存在しない場合は 0.0(m)とする。"
   ]
  },
  {
   "cell_type": "markdown",
   "metadata": {},
   "source": [
    "※1 When the floor of the bathroom part is a floor and if there is no bathroom floor as a part of the hull. If the outer skin of the bathroom part is to be the basis of the outer periphery of the floor, etc., it shall be 0.0(m<sup>2</sup>).  \n",
    "※2 In the case of using the outer shell of the bathroom part as the basis of the outer periphery of the floor between soils and the like. When the floor of the bathroom part is a floor and the floor of the bathroom does not exist as a part of the hull, it shall be 0.0(m<sup>2</sup>).  \n",
    "※3 In the case of using the outer shell of the bathroom part as the basis of the outer periphery of the floor between soils and the like. When the floor of the bathroom part is a floor and the floor of the bathroom does not exist as a part of the hull, it is 0.0 (m)."
   ]
  },
  {
   "cell_type": "code",
   "execution_count": null,
   "metadata": {},
   "outputs": [],
   "source": [
    "# 表3 標準住戸における部位の面積及び土間床等の外周部の長さ等\n",
    "def get_table_3(i, house_insulation_type):\n",
    "    \"\"\"\n",
    "    :param i: 表3における行番号\n",
    "    :param house_insulation_type: '床断熱'または'基礎断熱'\n",
    "    :return: 標準住戸における部位の面積及び土間床等の外周部の長さ等 (m)または(m2)\n",
    "    \"\"\"\n",
    "    if house_insulation_type == '床断熱住戸':\n",
    "        return table_3[i][0]\n",
    "    elif house_insulation_type == '基礎断熱住戸':\n",
    "        return table_3[i][1]\n",
    "    else:\n",
    "        raise ValueError(house_insulation_type)\n",
    "\n",
    "\n",
    "# 標準住戸における外皮の部位の面積の合計 (m2)\n",
    "def get_A_dash_env(house_insulation_type):\n",
    "    return get_table_3(0, house_insulation_type)\n",
    "\n",
    "\n",
    "# 床面積の合計 (m2)\n",
    "def get_A_dash_A():\n",
    "    return table_3[1]\n",
    "\n",
    "\n",
    "# 屋根又は天井の面積 (m2)\n",
    "def get_A_dash_roof():\n",
    "    return table_3[2]\n",
    "\n",
    "\n",
    "# 主開口方向から時計回りに0°の方向に面した壁の面積 (m2)\n",
    "def get_A_dash_wall_0():\n",
    "    return table_3[3]\n",
    "\n",
    "\n",
    "# 主開口方向から時計回りに90°の方向に面した壁の面積 (m2)\n",
    "def get_A_dash_wall_90():\n",
    "    return table_3[4]\n",
    "\n",
    "\n",
    "# 主開口方向から時計回りに180°の方向に面した壁の面積 (m2)\n",
    "def get_A_dash_wall_180():\n",
    "    return table_3[5]\n",
    "\n",
    "\n",
    "# 主開口方向から時計回りに270°の方向に面した壁の面積 (m2)\n",
    "def get_A_dash_wall_270():\n",
    "    return table_3[6]\n",
    "\n",
    "\n",
    "# 主開口方向から時計回りに0°の方向に面したドアの面積 (m2)\n",
    "def get_A_dash_door_0():\n",
    "    return table_3[7]\n",
    "\n",
    "\n",
    "# 主開口方向から時計回りに90°の方向に面したドアの面積 (m2)\n",
    "def get_A_dash_door_90():\n",
    "    return table_3[8]\n",
    "\n",
    "\n",
    "# 主開口方向から時計回りに180°の方向に面したドアの面積 (m2)\n",
    "def get_A_dash_door_180():\n",
    "    return table_3[9]\n",
    "\n",
    "\n",
    "# 主開口方向から時計回りに270°の方向に面したドアの面積 (m2)\n",
    "def get_A_dash_door_270():\n",
    "    return table_3[10]\n",
    "\n",
    "\n",
    "# 主開口方向から時計回りに0°の方向に面した窓の面積 (m2)\n",
    "def get_A_dash_window_0():\n",
    "    return table_3[11]\n",
    "\n",
    "\n",
    "# 主開口方向から時計回りに90°の方向に面した窓の面積 (m2)\n",
    "def get_A_dash_window_90():\n",
    "    return table_3[12]\n",
    "\n",
    "\n",
    "# 主開口方向から時計回りに180°の方向に面した窓の面積 (m2)\n",
    "def get_A_dash_window_180():\n",
    "    return table_3[13]\n",
    "\n",
    "\n",
    "# 主開口方向から時計回りに270°の方向に面した窓の面積 (m2)\n",
    "def get_A_dash_window_270():\n",
    "    return table_3[14]\n",
    "\n",
    "\n",
    "# 浴室の床の面積 (m2)\n",
    "def get_A_dash_floor_bath(house_insulation_type):\n",
    "    return get_table_3(15, house_insulation_type)\n",
    "\n",
    "\n",
    "# 浴室の床の面積 (m2)\n",
    "def get_A_dash_floor_other(house_insulation_type):\n",
    "    return get_table_3(16, house_insulation_type)\n",
    "\n",
    "\n",
    "# 主開口方向から時計回りに0°の方向の外気に面した玄関等の基礎の面積 (m2)\n",
    "def get_A_dash_base_etrc_OS_0(house_insulation_type):\n",
    "    return get_table_3(17, house_insulation_type)\n",
    "\n",
    "\n",
    "# 主開口方向から時計回りに90°の方向の外気に面した玄関等の基礎の面積 (m2)\n",
    "def get_A_dash_base_etrc_OS_90(house_insulation_type):\n",
    "    return get_table_3(18, house_insulation_type)\n",
    "\n",
    "\n",
    "# 主開口方向から時計回りに180°の方向の外気に面した玄関等の基礎の面積 (m2)\n",
    "def get_A_dash_base_etrc_OS_180(house_insulation_type):\n",
    "    return get_table_3(19, house_insulation_type)\n",
    "\n",
    "\n",
    "# 主開口方向から時計回りに270°の方向の外気に面した玄関等の基礎の面積 (m2)\n",
    "def get_A_dash_base_etrc_OS_270(house_insulation_type):\n",
    "    return get_table_3(20, house_insulation_type)\n",
    "\n",
    "\n",
    "# 床下に面した玄関等の基礎の面積 (m2)\n",
    "def get_A_dash_base_etrc_IS(house_insulation_type):\n",
    "    return get_table_3(21, house_insulation_type)\n",
    "\n",
    "\n",
    "# 主開口方向から時計回りに0°の方向の外気に面した浴室の基礎の面積 (m2)\n",
    "def get_A_dash_base_bath_OS_0(house_insulation_type):\n",
    "    return get_table_3(22, house_insulation_type)\n",
    "\n",
    "\n",
    "# 主開口方向から時計回りに90°の方向の外気に面した浴室の基礎の面積 (m2)\n",
    "def get_A_dash_base_bath_OS_90(house_insulation_type):\n",
    "    return get_table_3(23, house_insulation_type)\n",
    "\n",
    "\n",
    "# 主開口方向から時計回りに180°の方向の外気に面した浴室の基礎の面積 (m2)\n",
    "def get_A_dash_base_bath_OS_180(floor_insulation):\n",
    "    return get_table_3(24, floor_insulation)\n",
    "\n",
    "\n",
    "# 主開口方向から時計回りに270°の方向の外気に面した浴室の基礎の面積 (m2)\n",
    "def get_A_dash_base_bath_OS_270(house_insulation_type):\n",
    "    return get_table_3(25, house_insulation_type)\n",
    "\n",
    "\n",
    "# 床下に面した浴室の基礎の面積 (m2)\n",
    "def get_A_dash_base_bath_IS(house_insulation_type):\n",
    "    return get_table_3(26, house_insulation_type)\n",
    "\n",
    "\n",
    "# 主開口方向から時計回りに0°の方向の外気に面したその他の基礎の面積 (m2)\n",
    "def get_A_dash_base_other_OS_0(house_insulation_type):\n",
    "    return get_table_3(27, house_insulation_type)\n",
    "\n",
    "\n",
    "# 主開口方向から時計回りに90°の方向の外気に面したその他の基礎の面積 (m2)\n",
    "def get_A_dash_base_other_OS_90(house_insulation_type):\n",
    "    return get_table_3(28, house_insulation_type)\n",
    "\n",
    "\n",
    "# 主開口方向から時計回りに180°の方向の外気に面したその他の基礎の面積 (m2)\n",
    "def get_A_dash_base_other_OS_180(house_insulation_type):\n",
    "    return get_table_3(29, house_insulation_type)\n",
    "\n",
    "\n",
    "# 主開口方向から時計回りに270°の方向の外気に面したその他の基礎の面積 (m2)\n",
    "def get_A_dash_base_other_OS_270(house_insulation_type):\n",
    "    return get_table_3(30, house_insulation_type)\n",
    "\n",
    "\n",
    "# 床下に面したその他の基礎の面積 (m2)\n",
    "def get_A_dash_base_other_IS(house_insulation_type):\n",
    "    return get_table_3(31, house_insulation_type)\n",
    "\n",
    "\n",
    "# 主開口方向から時計回りに0°の方向の外気に面した玄関等の土間床等の外周部の長さ (m)\n",
    "def get_L_dash_prm_etrc_OS_0(house_insulation_type):\n",
    "    return get_table_3(32, house_insulation_type)\n",
    "\n",
    "\n",
    "# 主開口方向から時計回りに90°の方向の外気に面した玄関等の土間床等の外周部の長さ (m)\n",
    "def get_L_dash_prm_etrc_OS_90(house_insulation_type):\n",
    "    return get_table_3(33, house_insulation_type)\n",
    "\n",
    "\n",
    "# 主開口方向から時計回りに180°の方向の外気に面した玄関等の土間床等の外周部の長さ (m)\n",
    "def get_L_dash_prm_etrc_OS_180(floor_insulation):\n",
    "    return get_table_3(34, floor_insulation)\n",
    "\n",
    "\n",
    "# 主開口方向から時計回りに270°の方向の外気に面した玄関等の土間床等の外周部の長さ (m)\n",
    "def get_L_dash_prm_etrc_OS_270(house_insulation_type):\n",
    "    return get_table_3(35, house_insulation_type)\n",
    "\n",
    "\n",
    "# 床下に面した玄関等の土間床等の外周部の長さ (m)\n",
    "def get_L_dash_prm_etrc_IS(house_insulation_type):\n",
    "    return get_table_3(36, house_insulation_type)\n",
    "\n",
    "\n",
    "# 主開口方向から時計回りに0°の方向の外気に面した浴室の土間床等の外周部の長さ (m)\n",
    "def get_L_dash_prm_bath_OS_0(house_insulation_type):\n",
    "    return get_table_3(37, house_insulation_type)\n",
    "\n",
    "\n",
    "# 主開口方向から時計回りに90°の方向の外気に面した浴室の土間床等の外周部の長さ (m)\n",
    "def get_L_dash_prm_bath_OS_90(house_insulation_type):\n",
    "    return get_table_3(38, house_insulation_type)\n",
    "\n",
    "\n",
    "# 主開口方向から時計回りに180°の方向の外気に面した浴室の土間床等の外周部の長さ (m)\n",
    "def get_L_dash_prm_bath_OS_180(house_insulation_type):\n",
    "    return get_table_3(39, house_insulation_type)\n",
    "\n",
    "\n",
    "# 主開口方向から時計回りに270°の方向の外気に面した浴室の土間床等の外周部の長さ (m)\n",
    "def get_L_dash_prm_bath_OS_270(house_insulation_type):\n",
    "    return get_table_3(40, house_insulation_type)\n",
    "\n",
    "\n",
    "# 床下に面した浴室の土間床等の外周部の長さ (m)\n",
    "def get_L_dash_prm_bath_IS(house_insulation_type):\n",
    "    return get_table_3(41, house_insulation_type)\n",
    "\n",
    "\n",
    "# 主開口方向から時計回りに0°の方向の外気に面したその他の土間床等の外周部の長さ (m)\n",
    "def get_L_dash_prm_other_OS_0(house_insulation_type):\n",
    "    return get_table_3(42, house_insulation_type)\n",
    "\n",
    "\n",
    "# 主開口方向から時計回りに90°の方向の外気に面したその他の土間床等の外周部の長さ (m)\n",
    "def get_L_dash_prm_other_OS_90(house_insulation_type):\n",
    "    return get_table_3(43, house_insulation_type)\n",
    "\n",
    "\n",
    "# 主開口方向から時計回りに180°の方向の外気に面したその他の土間床等の外周部の長さ (m)\n",
    "def get_L_dash_prm_other_OS_180(house_insulation_type):\n",
    "    return get_table_3(44, house_insulation_type)\n",
    "\n",
    "\n",
    "# 主開口方向から時計回りに270°の方向の外気に面したその他の土間床等の外周部の長さ (m)\n",
    "def get_L_dash_prm_other_OS_270(house_insulation_type):\n",
    "    return get_table_3(45, house_insulation_type)\n",
    "\n",
    "\n",
    "# 床下に面したその他の土間床等の外周部の長さ (m)\n",
    "def get_L_dash_prm_other_IS(house_insulation_type):\n",
    "    return get_table_3(46, house_insulation_type)"
   ]
  },
  {
   "cell_type": "code",
   "execution_count": null,
   "metadata": {},
   "outputs": [],
   "source": [
    "# 表 3 標準住戸における部位の面積及び土間床等の外周部の長さ等\n",
    "table_3 = [\n",
    "    (266.10, 275.69),\n",
    "    90.0,\n",
    "    50.85,\n",
    "    30.47,\n",
    "    22.37,\n",
    "    47.92,\n",
    "    22.28,\n",
    "    0.0,\n",
    "    1.89,\n",
    "    1.62,\n",
    "    0.0,\n",
    "    22.69,\n",
    "    2.38,\n",
    "    3.63,\n",
    "    4.37,\n",
    "    (3.31, 0.00),\n",
    "    (45.05, 0.00),\n",
    "    (0.00, 0.00),\n",
    "    (0.33, 0.33),\n",
    "    (0.25, 0.25),\n",
    "    (0.00, 0.00),\n",
    "    (0.57, 0.00),\n",
    "    (0.00, 0.00),\n",
    "    (0.91, 0.91),\n",
    "    (0.91, 0.91),\n",
    "    (0.00, 0.00),\n",
    "    (1.82, 0.00),\n",
    "    (0.00, 5.30),\n",
    "    (0.00, 0.57),\n",
    "    (0.00, 3.71),\n",
    "    (0.00, 2.40),\n",
    "    (0.00, 0.00),\n",
    "    (0.00, 0.00),\n",
    "    (1.82, 1.82),\n",
    "    (1.37, 1.37),\n",
    "    (0.00, 0.00),\n",
    "    (3.19, 0.00),\n",
    "    (0.00, 0.00),\n",
    "    (1.82, 1.82),\n",
    "    (1.82, 1.82),\n",
    "    (0.00, 0.00),\n",
    "    (3.64, 0.00),\n",
    "    (0.00, 10.61),\n",
    "    (0.00, 1.15),\n",
    "    (0.00, 7.42),\n",
    "    (0.00, 4.79),\n",
    "    (0.00, 0.00),\n",
    "]"
   ]
  },
  {
   "cell_type": "markdown",
   "metadata": {},
   "source": [
    "#### 9.6 外皮の部位及び土間床等の周辺部の温度差係数 / Temperature difference coefficient of the surrounding area such as the site of the hull and the soil floor"
   ]
  },
  {
   "cell_type": "markdown",
   "metadata": {},
   "source": [
    "<div style=\"text-align: center;font-weight: bold;\">表　温度差係数<br>Table: Temperature difference coefficient</div>\n",
    "\n",
    "<table>\n",
    "<thead>\n",
    "<tr>\n",
    "<th>意味<br>meaning</th>\n",
    "<th style=\"width: 20%;text-align:center;\">記号<br>symbol</th>\n",
    "<th style=\"text-align:center;\">値<br>value</th>\n",
    "</tr>\n",
    "</thead>\n",
    "\n",
    "<tbody>\n",
    "<tr><th>屋根又は天井の温度差係数<br>Roof or ceiling temperature difference coefficient</th><td>$H_{roof}$</td><td>1.0</td></tr>\n",
    "<tr><th>壁の温度差係数<br>Wall temperature difference coefficient</th><td>$H_{wall}$</td><td>1.0</td></tr>\n",
    "<tr><th>ドアの温度差係数<br>Door temperature difference coefficient</th><td>$H_{door}$</td><td>1.0</td></tr>\n",
    "<tr><th>窓の温度差係数<br>Window temperature difference coefficient</th><td>$H_{wnd}$</td><td>1.0</td></tr>\n",
    "<tr><th>床の温度差係数<br>Floor temperature difference coefficient</th><td>$H_{floor}$</td><td>0.7</td></tr>\n",
    "<tr><th>外気に面した基礎の温度差係数<br>Temperature difference coefficient of foundation facing external air</th><td>$H_{base,OS}$</td><td>1.0</td></tr>\n",
    "<tr><th>床下に面した基礎の温度差係数<br>Temperature difference coefficient of foundation facing floor</th><td>$H_{base,IS}$</td><td>0.7</td></tr>\n",
    "<tr><th>外気に面した土間床等の外周部の温度差係数<br>Temperature difference coefficient of the outer periphery of soil floor facing the open air</th><td>$H_{prm,OS}$</td><td>1.0</td></tr>\n",
    "<tr><th>床下に面した土間床等の外周部の温度差係数<br>Temperature difference coefficient of the outer circumference of soil floor facing underfloor</th><td>$H_{prm,IS}$</td><td>0.7</td></tr>\n",
    "</tbody>\n",
    "</table>"
   ]
  },
  {
   "cell_type": "code",
   "execution_count": 4,
   "metadata": {},
   "outputs": [],
   "source": [
    "# 屋根又は天井の温度差係数 (-)\n",
    "def get_H_roof():\n",
    "    return table_4[0]\n",
    "\n",
    "\n",
    "# 壁の温度差係数 (-)\n",
    "def get_H_wall():\n",
    "    return table_4[1]\n",
    "\n",
    "\n",
    "# ドアの温度差係数 (-)\n",
    "def get_H_door():\n",
    "    return table_4[2]\n",
    "\n",
    "\n",
    "# 窓の温度差係数 (-)\n",
    "def get_H_window():\n",
    "    return table_4[3]\n",
    "\n",
    "\n",
    "# 床の温度差係数 (-)\n",
    "def get_H_floor():\n",
    "    return table_4[4]\n",
    "\n",
    "\n",
    "# 外気に面した基礎の温度差係数 (-)\n",
    "def get_H_base_OS():\n",
    "    return table_4[5]\n",
    "\n",
    "\n",
    "# 床下に面した基礎の温度差係数 (-)\n",
    "def get_H_base_IS():\n",
    "    return table_4[6]\n",
    "\n",
    "\n",
    "# 外気に面した土間床等の外周部の温度差係数 (-)\n",
    "def get_H_prm_OS():\n",
    "    return table_4[7]\n",
    "\n",
    "\n",
    "# 床下に面した土間床等の外周部の温度差係数 (-)\n",
    "def get_H_prm_IS():\n",
    "    return table_4[8]"
   ]
  },
  {
   "cell_type": "code",
   "execution_count": 3,
   "metadata": {},
   "outputs": [],
   "source": [
    "# 表 4 式(9b)における温度差係数\n",
    "table_4 = [\n",
    "    1.0,\n",
    "    1.0,\n",
    "    1.0,\n",
    "    1.0,\n",
    "    0.7,\n",
    "    1.0,\n",
    "    0.7,\n",
    "    1.0,\n",
    "    0.7,\n",
    "]\n"
   ]
  },
  {
   "cell_type": "markdown",
   "metadata": {},
   "source": [
    "#### 9.7 外皮の部位の方位係数 / Orientation coefficient of the area of the hull"
   ]
  },
  {
   "cell_type": "markdown",
   "metadata": {},
   "source": [
    "省略"
   ]
  },
  {
   "cell_type": "markdown",
   "metadata": {},
   "source": [
    "ommision"
   ]
  },
  {
   "cell_type": "markdown",
   "metadata": {},
   "source": [
    "#### 9.8 外皮の部位の熱貫流率及び土間床等の周辺部の線熱貫流率 / Heat transmission coefficient at the site of crust and linear heat transmission coefficient around the soil floor etc."
   ]
  },
  {
   "cell_type": "markdown",
   "metadata": {},
   "source": [
    "#### 9.8.1 屋根又は天井の熱貫流率（ $U_{roof}$ ） / Heat transmission coefficient of roof or ceiling"
   ]
  },
  {
   "cell_type": "markdown",
   "metadata": {},
   "source": [
    "　当該住戸の外皮の部位における屋根及び天井の熱貫流率の値とする。各部位で複数の異なる仕様を有する場合は、熱貫流率に温度差係数を乗じた値が最も大きい部位の熱貫流率の値とする。 "
   ]
  },
  {
   "cell_type": "markdown",
   "metadata": {},
   "source": [
    "Let the value of the heat transmission coefficient of the roof and the ceiling in the part of the shell of the dwelling unit concerned. When there are a plurality of different specifications at each site, the value of the thermal transmission coefficient multiplied by the temperature difference coefficient is taken as the value of the thermal transmission coefficient of the largest site."
   ]
  },
  {
   "cell_type": "code",
   "execution_count": null,
   "metadata": {},
   "outputs": [],
   "source": [
    "# 9.8.1 屋根又は天井の熱貫流率\n",
    "def get_U_roof(U_roof, H_roof=None):\n",
    "    if type(U_roof) in [list, tuple]:\n",
    "        return U_roof[np.argmax(np.array(U_roof) * np.array(H_roof))]\n",
    "    else:\n",
    "        return U_roof"
   ]
  },
  {
   "cell_type": "markdown",
   "metadata": {},
   "source": [
    "#### 9.8.2 壁の熱貫流率（ $U_{wall}$ ） / Heat transmission coefficient of wall"
   ]
  },
  {
   "cell_type": "markdown",
   "metadata": {},
   "source": [
    "省略"
   ]
  },
  {
   "cell_type": "markdown",
   "metadata": {},
   "source": [
    "ommision"
   ]
  },
  {
   "cell_type": "markdown",
   "metadata": {},
   "source": [
    "#### 9.8.3 ドアの熱貫流率（ $U_{door}$ ） / Heat penetration coefficient of the door"
   ]
  },
  {
   "cell_type": "markdown",
   "metadata": {},
   "source": [
    "省略"
   ]
  },
  {
   "cell_type": "markdown",
   "metadata": {},
   "source": [
    "ommision"
   ]
  },
  {
   "cell_type": "markdown",
   "metadata": {},
   "source": [
    "#### 9.8.4 窓の熱貫流率（ $U_{window}$ ） / Heat transmission coefficient of windows"
   ]
  },
  {
   "cell_type": "markdown",
   "metadata": {},
   "source": [
    "省略"
   ]
  },
  {
   "cell_type": "markdown",
   "metadata": {},
   "source": [
    "ommision"
   ]
  },
  {
   "cell_type": "markdown",
   "metadata": {},
   "source": [
    "#### 9.8.5 その他の床の熱貫流率（ $U_{floor,other}$ ） / Heat transmission coefficient of other floors"
   ]
  },
  {
   "cell_type": "markdown",
   "metadata": {},
   "source": [
    "省略"
   ]
  },
  {
   "cell_type": "markdown",
   "metadata": {},
   "source": [
    "ommision"
   ]
  },
  {
   "cell_type": "markdown",
   "metadata": {},
   "source": [
    "#### 9.8.6 浴室の床の熱貫流率（ $U_{floor,bath}$ ） / Heat transfer coefficient of bathroom floor"
   ]
  },
  {
   "cell_type": "markdown",
   "metadata": {},
   "source": [
    "省略"
   ]
  },
  {
   "cell_type": "markdown",
   "metadata": {},
   "source": [
    "ommision"
   ]
  },
  {
   "cell_type": "markdown",
   "metadata": {},
   "source": [
    "#### 9.8.7 玄関等の基礎の熱貫流率（ $U_{base,etrc}$ ） / Heat transmission coefficient of foundation such as entrance"
   ]
  },
  {
   "cell_type": "markdown",
   "metadata": {},
   "source": [
    "省略"
   ]
  },
  {
   "cell_type": "markdown",
   "metadata": {},
   "source": [
    "ommision"
   ]
  },
  {
   "cell_type": "markdown",
   "metadata": {},
   "source": [
    "#### 9.8.8 浴室の基礎の熱貫流率（ $U_{base,bath}$ ）/ Heat transmission coefficient of bathroom foundation"
   ]
  },
  {
   "cell_type": "markdown",
   "metadata": {},
   "source": [
    "省略"
   ]
  },
  {
   "cell_type": "markdown",
   "metadata": {},
   "source": [
    "ommision"
   ]
  },
  {
   "cell_type": "markdown",
   "metadata": {},
   "source": [
    "#### 9.8.9 その他の基礎の熱貫流率（ $U_{base,other}$ ） / Heat penetration coefficient of other foundations"
   ]
  },
  {
   "cell_type": "markdown",
   "metadata": {},
   "source": [
    "省略"
   ]
  },
  {
   "cell_type": "markdown",
   "metadata": {},
   "source": [
    "ommision"
   ]
  },
  {
   "cell_type": "markdown",
   "metadata": {},
   "source": [
    "#### 9.8.10 玄関等の土間床等の外周部の線熱貫流率（ $\\Psi_{prm,etrc}$ ） / Line heat transmission coefficient of the outer periphery of the floor such as the entrance"
   ]
  },
  {
   "cell_type": "markdown",
   "metadata": {},
   "source": [
    "省略"
   ]
  },
  {
   "cell_type": "markdown",
   "metadata": {},
   "source": [
    "ommision"
   ]
  },
  {
   "cell_type": "markdown",
   "metadata": {},
   "source": [
    "#### 9.8.11 浴室の土間床等の外周部の線熱貫流率（ $\\Psi_{prm,bath}$ ） / Line heat transmission coefficient of the outer periphery of a floor in a bathroom"
   ]
  },
  {
   "cell_type": "markdown",
   "metadata": {},
   "source": [
    "省略"
   ]
  },
  {
   "cell_type": "markdown",
   "metadata": {},
   "source": [
    "ommision"
   ]
  },
  {
   "cell_type": "markdown",
   "metadata": {},
   "source": [
    "#### 9.8.12 その他の土間床等の外周部の線熱貫流率（ $\\Psi_{prm,other}$ ） / Line heat transmission coefficient of outer periphery of other soil floor"
   ]
  },
  {
   "cell_type": "markdown",
   "metadata": {},
   "source": [
    "省略"
   ]
  },
  {
   "cell_type": "markdown",
   "metadata": {},
   "source": [
    "ommision"
   ]
  },
  {
   "cell_type": "markdown",
   "metadata": {},
   "source": [
    "#### 9.9 外皮の部位の日射熱取得率 / Solar heat gain rate at the site of hull"
   ]
  },
  {
   "cell_type": "markdown",
   "metadata": {},
   "source": [
    "#### 9.9.1 屋根又は天井の日射熱取得率（ $\\eta_{H,roof}$  ・ $\\eta_{C,roof}$ ） / Solar heat gain rate of roof or ceiling"
   ]
  },
  {
   "cell_type": "markdown",
   "metadata": {},
   "source": [
    "暖房期の日除けの効果係数$\\gamma_{H}$及び冷房期の日除けの効果係数$\\gamma_{C}$は1.0とする。 "
   ]
  },
  {
   "cell_type": "markdown",
   "metadata": {},
   "source": [
    "The effect factor $\\gamma_{H}$ of the awning of the heating period and the effect factor $\\gamma_{C}$ of the awning of the cooling period are 1.0."
   ]
  },
  {
   "cell_type": "code",
   "execution_count": null,
   "metadata": {},
   "outputs": [],
   "source": [
    "# 9.9.1 屋根又は天井の日射熱取得率(暖房期)\n",
    "def get_eta_H_roof(U_roof):\n",
    "    \"\"\"\n",
    "    :param U_wall: 屋根又は天井の熱貫流率\n",
    "    :return: 屋根又は天井の日射熱取得率(暖房期)\n",
    "    \"\"\"\n",
    "    return eater.common.get_eta_H_i_1(1.0, U_roof)\n",
    "\n",
    "# 9.9.1 屋根又は天井の日射熱取得率(冷房期)\n",
    "def get_eta_C_roof(U_roof):\n",
    "    \"\"\"\n",
    "    :param U_wall: 屋根又は天井の熱貫流率\n",
    "    :return: 屋根又は天井の日射熱取得率(冷房期)\n",
    "    \"\"\"\n",
    "    return eater.common.get_eta_C_i_1(1.0, U_roof)"
   ]
  },
  {
   "cell_type": "markdown",
   "metadata": {},
   "source": [
    "#### 9.9.2 壁の日射熱取得率（ $\\eta_{H,wall}$  ・ $\\eta_{C,wall}$ ） / Solar heat gain rate of the wall"
   ]
  },
  {
   "cell_type": "markdown",
   "metadata": {},
   "source": [
    "暖房期の日除けの効果係数$\\gamma_{H}$及び冷房期の日除けの効果係数$\\gamma_{C}$は1.0とする。 "
   ]
  },
  {
   "cell_type": "markdown",
   "metadata": {},
   "source": [
    "The effect factor $\\gamma_{H}$ of the awning of the heating period and the effect factor $\\gamma_{C}$ of the awning of the cooling period are 1.0."
   ]
  },
  {
   "cell_type": "code",
   "execution_count": null,
   "metadata": {},
   "outputs": [],
   "source": [
    "# 9.9.2 壁の日射熱取得率(暖房期)\n",
    "def get_eta_H_wall(U_wall):\n",
    "    \"\"\"\n",
    "    :param U_wall: 壁の熱貫流率\n",
    "    :return: 壁の日射熱取得率(暖房期)\n",
    "    \"\"\"\n",
    "    return eater.common.get_eta_H_i_1(1.0, U_wall)\n",
    "\n",
    "\n",
    "# 9.9.2 壁の日射熱取得率(冷房期)\n",
    "def get_eta_C_wall(U_wall):\n",
    "    \"\"\"\n",
    "    :param U_wall: 壁の熱貫流率\n",
    "    :return: 壁の日射熱取得率(冷房期)\n",
    "    \"\"\"\n",
    "    return eater.common.get_eta_C_i_1(1.0, U_wall)"
   ]
  },
  {
   "cell_type": "markdown",
   "metadata": {},
   "source": [
    "#### 9.9.3 ドアの日射熱取得率（ $\\eta_{H,door}$  ・ $\\eta_{C,door}$ ） / Solar heat gain rate of the door"
   ]
  },
  {
   "cell_type": "markdown",
   "metadata": {},
   "source": [
    "暖房期の日除けの効果係数$\\gamma_{H}$及び冷房期の日除けの効果係数$\\gamma_{C}$は1.0とする。 "
   ]
  },
  {
   "cell_type": "markdown",
   "metadata": {},
   "source": [
    "The effect factor $\\gamma_{H} $ of the awning of the heating period and the effect factor $\\gamma_{C} $ of the awning of the cooling period are 1.0."
   ]
  },
  {
   "cell_type": "code",
   "execution_count": null,
   "metadata": {},
   "outputs": [],
   "source": [
    "# 9.9.3 ドアの日射熱取得率(暖房期)\n",
    "def get_eta_H_door(U_door):\n",
    "    \"\"\"\n",
    "    :param U_door: ドアの熱貫流率\n",
    "    :return: ドアの日射熱取得率(暖房期)\n",
    "    \"\"\"\n",
    "    return eater.common.get_eta_H_i_1(1.0, U_door)\n",
    "    # なぜ 3.4.7を使わない?\n",
    "    return eater.door.get_eta_H_i(1.0, U_door)"
   ]
  },
  {
   "cell_type": "markdown",
   "metadata": {},
   "source": [
    "#### 9.9.4 窓の日射熱取得率 / Solar heat gain rate of windows"
   ]
  },
  {
   "cell_type": "markdown",
   "metadata": {},
   "source": [
    "#### &#9312; 窓の暖房期の日射熱取得率（$\\eta_{H,window,0}$ ・ $\\eta_{H,window,90}$ ・ $\\eta_{H,window,180}$ ・ $\\eta_{H,window,270}$） / Solar heat gain rate of window heating period"
   ]
  },
  {
   "cell_type": "markdown",
   "metadata": {},
   "source": [
    "省略"
   ]
  },
  {
   "cell_type": "markdown",
   "metadata": {},
   "source": [
    "ommision"
   ]
  },
  {
   "cell_type": "markdown",
   "metadata": {},
   "source": [
    "#### &#9313; 窓の冷房期の日射熱取得率（$\\eta_{C,window,0}$ ・ $\\eta_{C,window,90}$ ・ $\\eta_{C,window,180}$ ・ $\\eta_{C,window,270}$） / Solar heat gain rate during window cooling period"
   ]
  },
  {
   "cell_type": "markdown",
   "metadata": {},
   "source": [
    "省略"
   ]
  },
  {
   "cell_type": "markdown",
   "metadata": {},
   "source": [
    "ommision"
   ]
  },
  {
   "cell_type": "markdown",
   "metadata": {},
   "source": [
    "#### 9.9.5 玄関等の基礎の日射熱取得率（$\\eta_{H,base,etrc}$ ・ $\\eta_{C,base,etrc}$） / Solar heat gain rate of foundations such as entrances"
   ]
  },
  {
   "cell_type": "markdown",
   "metadata": {},
   "source": [
    "暖房期の日除けの効果係数$\\gamma_{H}$及び冷房期の日除けの効果係数$\\gamma_{C}$は1.0とする。 "
   ]
  },
  {
   "cell_type": "markdown",
   "metadata": {},
   "source": [
    "The effect factor $\\gamma_{H} $ of the awning of the heating period and the effect factor $\\gamma_{C} $ of the awning of the cooling period are 1.0."
   ]
  },
  {
   "cell_type": "code",
   "execution_count": null,
   "metadata": {},
   "outputs": [],
   "source": [
    "# 9.9.5 玄関等の基礎の日射熱取得率(暖房期)\n",
    "def get_eta_H_base_etrc(U_base_etrc):\n",
    "    \"\"\"\n",
    "    :param U_base_etrc: 玄関等の基礎の熱貫流率\n",
    "    :return: 玄関等の基礎の日射熱取得率(暖房期)\n",
    "    \"\"\"\n",
    "    return eater.common.get_eta_H_i_1(1.0, U_base_etrc)\n",
    "\n",
    "\n",
    "# 9.9.5 玄関等の基礎の日射熱取得率(冷房期)\n",
    "def get_eta_C_base_etrc(U_base_etrc):\n",
    "    \"\"\"\n",
    "    :param U_base_etrc: 玄関等の基礎の熱貫流率\n",
    "    :return: 玄関等の基礎の日射熱取得率(冷房期)\n",
    "    \"\"\"\n",
    "    return eater.common.get_eta_C_i_1(1.0, U_base_etrc)"
   ]
  },
  {
   "cell_type": "markdown",
   "metadata": {},
   "source": [
    "#### 9.9.6 浴室の基礎の日射熱取得率（$\\eta_{H,base,bath}$ ・ $\\eta_{C,base,bath}$） / Solar heat gain rate of bathroom basics"
   ]
  },
  {
   "cell_type": "markdown",
   "metadata": {},
   "source": [
    "暖房期の日除けの効果係数$\\gamma_{H}$及び冷房期の日除けの効果係数$\\gamma_{C}$は1.0とする。 "
   ]
  },
  {
   "cell_type": "markdown",
   "metadata": {},
   "source": [
    "The effect factor $\\gamma_{H} $ of the awning of the heating period and the effect factor $\\gamma_{C} $ of the awning of the cooling period are 1.0."
   ]
  },
  {
   "cell_type": "code",
   "execution_count": null,
   "metadata": {},
   "outputs": [],
   "source": [
    "# 9.9.6 浴室の基礎の日射熱取得率(暖房期)\n",
    "def get_eta_H_base_bath(U_base_bath):\n",
    "    \"\"\"\n",
    "    :param U_base_bath: 浴室の基礎の熱貫流率\n",
    "    :return: 浴室の基礎の日射熱取得率(暖房期)\n",
    "    \"\"\"\n",
    "    return eater.common.get_eta_H_i_1(1.0, U_base_bath)\n",
    "\n",
    "\n",
    "# 9.9.6 浴室の基礎の日射熱取得率(冷房期)\n",
    "def get_eta_C_base_bath(U_base_bath):\n",
    "    \"\"\"\n",
    "    :param U_base_bath: 浴室の基礎の熱貫流率\n",
    "    :return: 浴室の基礎の日射熱取得率(冷房期)\n",
    "    \"\"\"\n",
    "    return eater.common.get_eta_C_i_1(1.0, U_base_bath)"
   ]
  },
  {
   "cell_type": "markdown",
   "metadata": {},
   "source": [
    "#### 9.9.7 その他の基礎の日射熱取得率（$\\eta_{H,base,other}$ ・ $\\eta_{C,base,other}$） / Solar heat gain rate of other foundations"
   ]
  },
  {
   "cell_type": "markdown",
   "metadata": {},
   "source": [
    "暖房期の日除けの効果係数$\\gamma_{H}$及び冷房期の日除けの効果係数$\\gamma_{C}$は1.0とする。 "
   ]
  },
  {
   "cell_type": "markdown",
   "metadata": {},
   "source": [
    "The effect factor $\\gamma_{H} $ of the awning of the heating period and the effect factor $\\gamma_{C} $ of the awning of the cooling period are 1.0."
   ]
  },
  {
   "cell_type": "code",
   "execution_count": null,
   "metadata": {},
   "outputs": [],
   "source": [
    "# 9.9.7 その他の基礎の日射熱取得率(暖房期)\n",
    "def get_eta_H_base_other(U_base_other):\n",
    "    \"\"\"\n",
    "    :param U_base_other: その他の基礎の熱貫流率\n",
    "    :return: その他の基礎の日射熱取得率(暖房期)\n",
    "    \"\"\"\n",
    "    return eater.common.get_eta_H_i_1(1.0, U_base_other)\n",
    "\n",
    "\n",
    "# 9.9.7 その他の基礎の日射熱取得率(冷房期)\n",
    "def get_eta_C_base_other(U_base_other):\n",
    "    \"\"\"\n",
    "    :param U_base_other: その他の基礎の熱貫流率\n",
    "    :return: その他の基礎の日射熱取得率(冷房期)\n",
    "    \"\"\"\n",
    "    return eater.common.get_eta_C_i_1(1.0, U_base_other)"
   ]
  },
  {
   "cell_type": "markdown",
   "metadata": {},
   "source": [
    "## 付録 A 外皮の部位の面積及び熱橋等の長さ等 / Appendix A Area of hull part and length of heat bridge etc."
   ]
  },
  {
   "cell_type": "markdown",
   "metadata": {},
   "source": [
    "省略"
   ]
  },
  {
   "cell_type": "markdown",
   "metadata": {},
   "source": [
    "ommision"
   ]
  },
  {
   "cell_type": "markdown",
   "metadata": {},
   "source": [
    "## 付録 B 温度差係数 / Appendix B Temperature difference coefficient"
   ]
  },
  {
   "cell_type": "markdown",
   "metadata": {},
   "source": [
    "<div style=\"text-align: center;font-weight: bold;\">表　温度差係数<br>Table: Temperature difference coefficient</div>\n",
    "\n",
    "<table>\n",
    "<thead>\n",
    "<tr>\n",
    "<th colspan=\"4\" style=\"text-align:center;\">隣接空間の種類<br>Adjacent space type</th>\n",
    "</tr>\n",
    "<tr>\n",
    "<th rowspan=\"2\" style=\"text-align:center;\">外気<br>外気に通じる空間<br>Outside air<br>Space that leads to the open air</th>\n",
    "<th rowspan=\"2\" style=\"text-align:center;\">外気に通じていない空間<br>外気に通じる床裏<br>Space that does not communicate outside<br>The floor is open to the atmosphere</th>\n",
    "<th colspan=\"2\" style=\"text-align:center;\">住戸及び住戸と同様の熱的環境の空間<br>外気に通じていない床裏<br>Space of thermal environment similar to dwelling unit and dwelling unit<br>The floor does not communicate with the outside air</th>\n",
    "</tr>\n",
    "<tr>\n",
    "<th>1～3 地域<br>1 to 3 area</th>\n",
    "<th>4～8 地域<br>4 to 8 area</th>\n",
    "</tr>\n",
    "</thead>\n",
    "\n",
    "<tbody>\n",
    "<tr>\n",
    "<td>1.0</td><td>0.7</td><td>0.05</td><td>0.15</td>\n",
    "</tr>\n",
    "</tbody>\n",
    "</table>\n"
   ]
  },
  {
   "cell_type": "code",
   "execution_count": 1,
   "metadata": {},
   "outputs": [],
   "source": [
    "# 温度差係数\n",
    "def get_H(adjacent_type, region):\n",
    "    \"\"\"\n",
    "    :param adjacent_type: 隣接空間の種類\n",
    "    :param region: 地域区分\n",
    "    :return: 温度差係数 (-)\n",
    "    \"\"\"\n",
    "    # 表1 温度差係数\n",
    "    table_1 = (1.0, 0.7, 0.05, 0.15)\n",
    "    if adjacent_type == '外気・外気に通じる空間':\n",
    "        return table_1[0]\n",
    "    elif adjacent_type == '外気に通じていない空間・外気に通じる床裏':\n",
    "        return table_1[1]\n",
    "    elif adjacent_type == '住戸及び住戸と同様の熱的環境の空間・外気に通じていない床裏':\n",
    "        if region in [1, 2, 3]:\n",
    "            return table_1[2]\n",
    "        elif region in [4, 5, 6, 7, 8]:\n",
    "            return table_1[3]\n",
    "        else:\n",
    "            raise ValueError(region)\n",
    "    else:\n",
    "        raise ValueError(adjacent_type)"
   ]
  },
  {
   "cell_type": "markdown",
   "metadata": {},
   "source": [
    "## 付録  C 方位係数 / Appendix C Orientation coefficient"
   ]
  },
  {
   "cell_type": "markdown",
   "metadata": {},
   "source": [
    "界壁及び界床の方位係数は0とする。"
   ]
  },
  {
   "cell_type": "markdown",
   "metadata": {},
   "source": [
    "The orientation coefficient of the boundary wall and the boundary floor is 0."
   ]
  },
  {
   "cell_type": "code",
   "execution_count": null,
   "metadata": {},
   "outputs": [],
   "source": [
    "# 界壁及び界床の方位係数 (-)\n",
    "def get_nu_boundary():\n",
    "    return 0.0"
   ]
  },
  {
   "cell_type": "markdown",
   "metadata": {},
   "source": [
    "<div style=\"text-align: center;font-weight: bold;\">表　暖房期の方位係数<br>Table: Orientation factor for heating season</div>\n",
    "\n",
    "<table>\n",
    "<thead>\n",
    "<tr>\n",
    "<th rowspan=\"2\">方位<br>Orientation</th>\n",
    "<th colspan=\"8\">地域の区分<br>Segmentation of area</th>\n",
    "</tr>\n",
    "<tr>\n",
    "<th>1</th>\n",
    "<th>2</th>\n",
    "<th>3</th>\n",
    "<th>4</th>\n",
    "<th>5</th>\n",
    "<th>6</th>\n",
    "<th>7</th>\n",
    "<th>8</th>\n",
    "</tr>\n",
    "</thead>\n",
    "\n",
    "<tbody>\n",
    "<tr>\n",
    "<th>上面<br>Top surface</th><td colspan=\"7\" style=\"text-align: center;\">1.0</td><td rowspan=\"10\">-</td>\n",
    "</tr>\n",
    "<tr><th>北<br>North</th><td>0.260</td><td>0.263</td><td>0.284</td><td>0.256</td><td>0.238</td><td>0.261</td><td>0.227</td></tr>\n",
    "<tr><th>北東<br>Northeast</th><td>0.333</td><td>0.341</td><td>0.348</td><td>0.330</td><td>0.310</td><td>0.325</td><td>0.281</td></tr>\n",
    "<tr><th>東<br>East</th><td>0.564</td><td>0.554</td><td>0.540</td><td>0.531</td><td>0.568</td><td>0.579</td><td>0.543</td></tr>\n",
    "<tr><th>南東<br>Southeast</th><td>0.823</td><td>0.766</td><td>0.751</td><td>0.724</td><td>0.846</td><td>0.833</td><td>0.843</td></tr>\n",
    "<tr><th>南<br>South</th><td>0.935</td><td>0.856</td><td>0.851</td><td>0.815</td><td>0.983</td><td>0.936</td><td>1.023</td></tr>\n",
    "<tr><th>南西<br>Southwest</th><td>0.790</td><td>0.753</td><td>0.750</td><td>0.723</td><td>0.815</td><td>0.763</td><td>0.848</td></tr>\n",
    "<tr><th>西<br>West</th><td>0.535</td><td>0.544</td><td>0.542</td><td>0.527</td><td>0.538</td><td>0.523</td><td>0.548</td></tr>\n",
    "<tr><th>北西<br>Northwest</th><td>0.325</td><td>0.341</td><td>0.351</td><td>0.326</td><td>0.297</td><td>0.317</td><td>0.284</td></tr>\n",
    "<tr>\n",
    "<th>下面<br>Bottom side</th><td colspan=\"7\" style=\"text-align: center;\">0.0</td>\n",
    "</tr>\n",
    "</tbody>\n",
    "</table>\n"
   ]
  },
  {
   "cell_type": "code",
   "execution_count": null,
   "metadata": {},
   "outputs": [],
   "source": [
    "# 外皮の部位の暖房期の方位係数\n",
    "def get_nu_H(region, direction):\n",
    "    \"\"\"\n",
    "    :param region: 地域の区分(1,2,3,4,5,6,7,8)\n",
    "    :param direction: 外皮の部位の方位\n",
    "    :return: 外皮の部位の暖房期の方位係数 (-)\n",
    "    \"\"\"\n",
    "    # 表1 暖房期の方位係数\n",
    "    table_1 = {\n",
    "        '上面': (1.0, 1.0, 1.0, 1.0, 1.0, 1.0, 1.0, None),\n",
    "        '北': (0.260, 0.263, 0.284, 0.256, 0.238, 0.261, 0.227, None),\n",
    "        '北東': (0.333, 0.341, 0.348, 0.330, 0.310, 0.325, 0.281, None),\n",
    "        '東': (0.564, 0.554, 0.540, 0.531, 0.568, 0.579, 0.543, None),\n",
    "        '南東': (0.823, 0.766, 0.751, 0.724, 0.846, 0.833, 0.843, None),\n",
    "        '南': (0.935, 0.856, 0.851, 0.815, 0.983, 0.936, 1.023, None),\n",
    "        '南西': (0.790, 0.753, 0.750, 0.723, 0.815, 0.763, 0.848, None),\n",
    "        '西': (0.535, 0.544, 0.542, 0.527, 0.538, 0.523, 0.548, None),\n",
    "        '北西': (0.325, 0.341, 0.351, 0.326, 0.297, 0.317, 0.284, None),\n",
    "        '下面': (0.0, 0.0, 0.0, 0.0, 0.0, 0.0, 0.0, None),\n",
    "    }\n",
    "    return table_1[direction][region - 1]"
   ]
  },
  {
   "cell_type": "markdown",
   "metadata": {},
   "source": [
    "<div style=\"text-align: center;font-weight: bold;\">表　冷房期の方位係数<br>Table: Orientation coefficient in the cooling period</div>\n",
    "\n",
    "<table>\n",
    "<thead>\n",
    "<tr>\n",
    "<th rowspan=\"2\">方位<br>Orientation</th>\n",
    "<th colspan=\"8\">地域の区分<br>Segmentation of area</th>\n",
    "</tr>\n",
    "<tr>\n",
    "<th>1</th>\n",
    "<th>2</th>\n",
    "<th>3</th>\n",
    "<th>4</th>\n",
    "<th>5</th>\n",
    "<th>6</th>\n",
    "<th>7</th>\n",
    "<th>8</th>\n",
    "</tr>\n",
    "</thead>\n",
    "\n",
    "<tbody>\n",
    "<tr>\n",
    "<th>上面<br>Top surface</th><td colspan=\"8\" style=\"text-align: center;\">1.0</td>\n",
    "</tr>\n",
    "<tr><th>北<br>North</th><td>0.329</td><td>0.341</td><td>0.335</td><td>0.322</td><td>0.373</td><td>0.341</td><td>0.307</td><td>0.325</td></tr>\n",
    "<tr><th>北東<br>Northeast</th><td>0.430</td><td>0.412</td><td>0.390</td><td>0.426</td><td>0.437</td><td>0.431</td><td>0.415</td><td>0.414</td></tr>\n",
    "<tr><th>東<br>East</th><td>0.545</td><td>0.503</td><td>0.468</td><td>0.518</td><td>0.500</td><td>0.512</td><td>0.509</td><td>0.515</td></tr>\n",
    "<tr><th>南東<br>Southeast</th><td>0.560</td><td>0.527</td><td>0.487</td><td>0.508</td><td>0.500</td><td>0.498</td><td>0.490</td><td>0.528</td></tr>\n",
    "<tr><th>南<br>South</th><td>0.502</td><td>0.507</td><td>0.476</td><td>0.437</td><td>0.472</td><td>0.434</td><td>0.412</td><td>0.480</td></tr>\n",
    "<tr><th>南西<br>Southwest</th><td>0.526</td><td>0.548</td><td>0.550</td><td>0.481</td><td>0.520</td><td>0.491</td><td>0.479</td><td>0.517</td></tr>\n",
    "<tr><th>西<br>West</th><td>0.508</td><td>0.529</td><td>0.553</td><td>0.481</td><td>0.518</td><td>0.504</td><td>0.495</td><td>0.505</td></tr>\n",
    "<tr><th>北西<br>Northwest</th><td>0.411</td><td>0.428</td><td>0.447</td><td>0.401</td><td>0.442</td><td>0.427</td><td>0.406</td><td>0.411</td></tr>\n",
    "<tr>\n",
    "<th>下面<br>Bottom side</th><td colspan=\"8\" style=\"text-align: center;\">0.0</td>\n",
    "</tr>\n",
    "</tbody>\n",
    "</table>\n"
   ]
  },
  {
   "cell_type": "code",
   "execution_count": null,
   "metadata": {},
   "outputs": [],
   "source": [
    "# 外皮の部位の冷房期の方位係数\n",
    "def get_nu_C(region, direction):\n",
    "    \"\"\"\n",
    "    :param region: 地域の区分(1,2,3,4,5,6,7,8)\n",
    "    :param direction: 外皮の部位の方位\n",
    "    :return: 外皮の部位の暖房期の方位係数 (-)\n",
    "    \"\"\"\n",
    "    # 表2 冷房期の方位係数\n",
    "    table_2 = {\n",
    "        '上面': (1.0, 1.0, 1.0, 1.0, 1.0, 1.0, 1.0, 1.0),\n",
    "        '北': (0.329, 0.341, 0.335, 0.322, 0.373, 0.341, 0.307, 0.325),\n",
    "        '北東': (0.430, 0.412, 0.390, 0.426, 0.437, 0.431, 0.415, 0.414),\n",
    "        '東': (0.545, 0.503, 0.468, 0.518, 0.500, 0.512, 0.509, 0.515),\n",
    "        '南東': (0.560, 0.527, 0.487, 0.508, 0.500, 0.498, 0.490, 0.528),\n",
    "        '南': (0.502, 0.507, 0.476, 0.437, 0.472, 0.434, 0.412, 0.480),\n",
    "        '南西': (0.526, 0.548, 0.550, 0.481, 0.520, 0.491, 0.479, 0.517),\n",
    "        '西': (0.508, 0.529, 0.553, 0.481, 0.518, 0.503, 0.495, 0.505),\n",
    "        '北西': (0.411, 0.428, 0.447, 0.401, 0.442, 0.427, 0.406, 0.411),\n",
    "        '下面': (0.0, 0.0, 0.0, 0.0, 0.0, 0.0, 0.0, 0.0),\n",
    "    }\n",
    "    return table_2[direction][region - 1]"
   ]
  }
 ],
 "metadata": {
  "kernelspec": {
   "display_name": "Python 3",
   "language": "python",
   "name": "python3"
  },
  "language_info": {
   "codemirror_mode": {
    "name": "ipython",
    "version": 3
   },
   "file_extension": ".py",
   "mimetype": "text/x-python",
   "name": "python",
   "nbconvert_exporter": "python",
   "pygments_lexer": "ipython3",
   "version": "3.6.6"
  }
 },
 "nbformat": 4,
 "nbformat_minor": 2
}
