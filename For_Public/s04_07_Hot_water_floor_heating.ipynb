{
 "cells": [
  {
   "cell_type": "code",
   "execution_count": null,
   "metadata": {},
   "outputs": [],
   "source": [
    "import numpy as np\n",
    "\n",
    "import section3_1 as ld\n",
    "\n",
    "import section4_7_a as hs_oil\n",
    "import section4_7_b as hs_gas\n",
    "import section4_7_c as hs_eheater\n",
    "import section4_7_d as hs_ehpump\n",
    "import section4_7_e as hs_gas_hybrid\n",
    "import section4_7_f as hs_hybrid_gas\n",
    "import section4_7_g as hs_whybrid\n",
    "\n",
    "import section4_7_j as rad_panel\n",
    "import section4_7_k as rad_fanc\n",
    "import section4_7_l as rad_floor\n",
    "\n",
    "import section4_7_i as pipe\n",
    "\n",
    "from section4_7_common import get_Q_out_H_hs_d_t\n",
    "\n",
    "from section11_1 import \\\n",
    "    load_outdoor, \\\n",
    "    get_Theta_ex, \\\n",
    "    get_X_ex, \\\n",
    "    get_h_ex"
   ]
  },
  {
   "cell_type": "markdown",
   "metadata": {},
   "source": [
    "## 第七節　温水暖房"
   ]
  },
  {
   "cell_type": "markdown",
   "metadata": {},
   "source": [
    "1．適用範囲～4．記号及び単位は省略"
   ]
  },
  {
   "cell_type": "markdown",
   "metadata": {},
   "source": [
    "### 5. 最大暖房出力"
   ]
  },
  {
   "cell_type": "markdown",
   "metadata": {},
   "source": [
    "省略"
   ]
  },
  {
   "cell_type": "code",
   "execution_count": null,
   "metadata": {},
   "outputs": [],
   "source": [
    "# 最大暖房出力\n",
    "def get_Q_max_H_d_t_i(radiator, A_HCZ, Theta_SW, region, mode, R_type):\n",
    "    return get_Q_max_H_rad_d_t_i(radiator, A_HCZ, Theta_SW, region, mode, R_type)"
   ]
  },
  {
   "cell_type": "markdown",
   "metadata": {},
   "source": [
    "### 6. エネルギー消費量"
   ]
  },
  {
   "cell_type": "markdown",
   "metadata": {},
   "source": [
    "#### 6.1 消費電力量"
   ]
  },
  {
   "cell_type": "markdown",
   "metadata": {},
   "source": [
    "$$\n",
    "\\large\n",
    "E_{E,H,d,t} = E_{E,hs,d,t} + \\sum_{i} (E_{E,rad,d,t,i})\n",
    "$$"
   ]
  },
  {
   "cell_type": "markdown",
   "metadata": {},
   "source": [
    "$E_{E,H,d,t}$：日付$d$の時刻$t$における1時間当たりの消費電力量(kWh/h)  \n",
    "$E_{E,hs,d,t}$：日付$d$の時刻$t$における1時間当たりの温水暖房用熱源機の消費電力量(kWh/h)  \n",
    "$E_{E,rad,d,t,i}$：日付$d$の時刻$t$における1時間当たりの暖冷房区画$i$に設置された放熱器の消費電力量(kWh/h)    "
   ]
  },
  {
   "cell_type": "code",
   "execution_count": null,
   "metadata": {},
   "outputs": [],
   "source": [
    "# 消費電力量 (1)\n",
    "def get_E_E_H_d_t(H_HS, H_MR, H_OR, A_A, A_MR, A_OR, region, mode_MR, mode_OR, L_T_H_rad, CG=None):\n",
    "    rad_types = get_rad_type_list()\n",
    "\n",
    "    rad_list = get_rad_list(H_MR, H_OR)\n",
    "\n",
    "    E_E_hs_d_t = get_E_E_hs_d_t(H_HS, H_MR, H_OR, region, A_A, A_MR, A_OR, mode_MR, mode_OR, L_T_H_rad, CG)\n",
    "\n",
    "    E_E_rad_d_t = np.zeros((5, 24 * 365))\n",
    "    for i in [1, 3, 4, 5]:\n",
    "        if rad_list[i - 1] is None:\n",
    "            continue\n",
    "        if rad_list[i - 1]['type'] in rad_types:\n",
    "            radiator = rad_list[i - 1]\n",
    "            R_type = '主たる居室' if i == 1 else 'その他の居室'\n",
    "            mode = mode_MR if i == 1 else mode_OR\n",
    "            A_HCZ = get_A_HCZ_i(i, A_A, A_MR, A_OR)\n",
    "\n",
    "            Theta_SW_hs_op = get_Theta_SW_hs_op(H_HS['type'], CG['CG_category'] if CG is not None else None)\n",
    "            p_hs_d_t = get_p_hs_d_t(Theta_SW_hs_op, rad_list, L_T_H_rad, A_A, A_MR, A_OR, region, mode_MR, mode_OR)\n",
    "            Theta_SW_d_t = get_Theta_SW_d_t(Theta_SW_hs_op, p_hs_d_t)\n",
    "            Q_max_H_rad_d_t_i = get_Q_max_H_rad_d_t_i(radiator, A_HCZ, Theta_SW_d_t, region, mode, R_type)\n",
    "            Q_T_H_rad_d_t_i = get_Q_T_H_rad_d_t_i(Q_max_H_rad_d_t_i, L_T_H_rad[i - 1])\n",
    "\n",
    "            E_E_rad_d_t_i = get_E_E_rad_d_t_i(i, radiator, Q_T_H_rad_d_t_i, Theta_SW_d_t, A_A, A_MR, A_OR, region, mode,\n",
    "                                              R_type)\n",
    "            E_E_rad_d_t[i - 1, :] = E_E_rad_d_t_i\n",
    "\n",
    "            print('{} E_E_rad_d_t_{} = {} [KWh] (L_T_H_rad_d_t_{} = {} [MJ])'.format(radiator['type'], i,\n",
    "                                                                                     np.sum(E_E_rad_d_t_i), i,\n",
    "                                                                                     np.sum(L_T_H_rad[i - 1])))\n",
    "\n",
    "    E_E_H_d_t = E_E_hs_d_t + np.sum(E_E_rad_d_t, axis=0)\n",
    "\n",
    "    return E_E_H_d_t"
   ]
  },
  {
   "cell_type": "markdown",
   "metadata": {},
   "source": [
    "#### 6.2 灯油消費量"
   ]
  },
  {
   "cell_type": "markdown",
   "metadata": {},
   "source": [
    "$$\n",
    "\\large\n",
    "E_{K,H,d,t} = E_{K,hs,d,t}\n",
    "$$"
   ]
  },
  {
   "cell_type": "markdown",
   "metadata": {},
   "source": [
    "$E_{K,H,d,t}$：日付$d$の時刻$t$における1時間当たりの灯油消費量(MJ/h)  \n",
    "$E_{K,hs,d,t}$：日付$d$の時刻$t$における1時間当たりの温水暖房用熱源機の灯油消費量(MJ/h) "
   ]
  },
  {
   "cell_type": "code",
   "execution_count": null,
   "metadata": {},
   "outputs": [],
   "source": [
    "# 灯油消費量 (2)\n",
    "def get_E_K_H_d_t(H_HS, H_MR, H_OR, A_A, A_MR, A_OR, region, mode_MR, mode_OR, L_T_H_rad, CG):\n",
    "    return get_E_K_hs_d_t(H_HS, H_MR, H_OR, A_A, A_MR, A_OR, region, mode_MR, mode_OR, L_T_H_rad, CG)"
   ]
  },
  {
   "cell_type": "markdown",
   "metadata": {},
   "source": [
    "#### 6.3 ガス消費量"
   ]
  },
  {
   "cell_type": "markdown",
   "metadata": {},
   "source": [
    "$$\n",
    "\\large\n",
    "E_{G,H,d,t} = E_{G,hs,d,t}\n",
    "$$"
   ]
  },
  {
   "cell_type": "markdown",
   "metadata": {},
   "source": [
    "$E_{G,H,d,t}$：日付$d$の時刻$t$における1時間当たりのガス消費量(MJ/h)  \n",
    "$E_{G,hs,d,t}$：日付$d$の時刻$t$における1時間当たりの温水暖房用熱源機のガス消費量(MJ/h)  "
   ]
  },
  {
   "cell_type": "code",
   "execution_count": null,
   "metadata": {},
   "outputs": [],
   "source": [
    "# ガス消費量 (3)\n",
    "def get_E_G_H_d_t(H_HS, H_MR, H_OR, A_A, A_MR, A_OR, region, mode_MR, mode_OR, L_T_H_rad, CG):\n",
    "    return get_E_G_hs_d_t(H_HS, H_MR, H_OR, A_A, A_MR, A_OR, region, mode_MR, mode_OR, L_T_H_rad, CG)"
   ]
  },
  {
   "cell_type": "markdown",
   "metadata": {},
   "source": [
    "#### 6.4 その他の燃料による一次エネルギー消費量"
   ]
  },
  {
   "cell_type": "markdown",
   "metadata": {},
   "source": [
    "$$\n",
    "\\large\n",
    "E_{M,H,d,t} = E_{M,hs,d,t}\n",
    "$$"
   ]
  },
  {
   "cell_type": "markdown",
   "metadata": {},
   "source": [
    "$E_{M,H,d,t}$：日付$d$の時刻$t$における1時間当たりのその他の燃料による一次エネルギー消費量(MJ/h)  \n",
    "$E_{M,hs,d,t}$：日付$d$の時刻$t$における1時間当たりの温水暖房用熱源機のその他の燃料による一次エネルギー消費量(MJ/h)  "
   ]
  },
  {
   "cell_type": "code",
   "execution_count": null,
   "metadata": {},
   "outputs": [],
   "source": [
    "# その他の燃料による一次エネルギー消費量 (4)\n",
    "def get_E_M_H_d_t(H_HS):\n",
    "    return get_E_M_hs_d_t(H_HS)"
   ]
  },
  {
   "cell_type": "markdown",
   "metadata": {},
   "source": [
    "### 7. 温水暖房用熱源機のエネルギー消費量"
   ]
  },
  {
   "cell_type": "markdown",
   "metadata": {},
   "source": [
    "#### 7.1 エネルギー消費量"
   ]
  },
  {
   "cell_type": "markdown",
   "metadata": {},
   "source": [
    "省略"
   ]
  },
  {
   "cell_type": "markdown",
   "metadata": {},
   "source": [
    "#### 7.2 暖房出力"
   ]
  },
  {
   "cell_type": "markdown",
   "metadata": {},
   "source": [
    "$$\n",
    "\\large\n",
    "Q_{out,H,hs,d,t} = min(Q_{dmd,H,hs,d,t}, Q_{max,H,hs,d,t})\n",
    "$$"
   ]
  },
  {
   "cell_type": "markdown",
   "metadata": {},
   "source": [
    "$Q_{out,H,hs,d,t}$：日付$d$の時刻$t$における1時間当たりの温水暖房用熱源機の暖房出力(MJ/h)  \n",
    "$Q_{max,H,hs,d,t}$：日付$d$の時刻$t$における1時間当たりの温水暖房用熱源機の最大暖房出力(MJ/h)  \n",
    "$Q_{dmd,H,hs,d,t}$：日付$d$の時刻$t$における1時間当たりの温水暖房用熱源機の温水熱需要(MJ/h)  "
   ]
  },
  {
   "cell_type": "markdown",
   "metadata": {},
   "source": [
    "$$\n",
    "\\large\n",
    "Q_{dmd,H,hs,d,t} = \\sum_{i} (Q_{dmd,H,ln,d,t,i})\n",
    "$$"
   ]
  },
  {
   "cell_type": "markdown",
   "metadata": {},
   "source": [
    "$Q_{dmd,H,ln,d,t,i}$：日付$d$の時刻$t$における1時間当たりの放熱系統$i$の温水熱需要(MJ/h)  "
   ]
  },
  {
   "cell_type": "code",
   "execution_count": null,
   "metadata": {},
   "outputs": [],
   "source": [
    "# 温水暖房用熱源機の温水熱需要 (6)\n",
    "def get_Q_dmd_H_hs_d_t(rad_list, pipe_insulation, underfloor_pipe_insulation, Theta_SW_d_t, A_A, A_MR, A_OR, region,\n",
    "                       mode_MR, mode_OR,\n",
    "                       L_T_H_rad_d_t):\n",
    "    MR_rad_type, r_Af_1 = get_MR_rad_type_and_r_Af_1(rad_list)\n",
    "\n",
    "    outdoor = load_outdoor()\n",
    "    Theta_ex = get_Theta_ex(region, outdoor)\n",
    "\n",
    "    Q_dmd_H_hs_d_t = np.zeros_like(Theta_SW_d_t)\n",
    "\n",
    "    for i in [1, 3, 4, 5]:\n",
    "\n",
    "        if rad_list[i - 1] is None:\n",
    "            continue\n",
    "\n",
    "        # 1時間当たりの暖冷房区画iに設置された放熱器の最大暖房出力\n",
    "        A_HCZ = get_A_HCZ_i(i, A_A, A_MR, A_OR)\n",
    "        R_type = '主たる居室' if i == 1 else 'その他の居室'\n",
    "        mode = mode_MR if i == 1 else mode_OR\n",
    "        Q_max_H_rad_d_t_i = get_Q_max_H_rad_d_t_i(rad_list[i - 1], A_HCZ, Theta_SW_d_t, region, mode, R_type)\n",
    "\n",
    "        # 1時間当たりの暖冷房区画iに設置された放熱器の処理暖房負荷\n",
    "        Q_T_H_rad_d_t_i = get_Q_T_H_rad_d_t_i(Q_max_H_rad_d_t_i, L_T_H_rad_d_t[i - 1])\n",
    "\n",
    "        # 1時間当たりの暖冷房区画iに設置された放熱器の温水供給運転率\n",
    "        r_WS_rad_d_t_i = get_r_WS_rad_d_t_i(\n",
    "            A_HCZ=A_HCZ,\n",
    "            radiator=rad_list[i - 1],\n",
    "            Q_T_H_rad=Q_T_H_rad_d_t_i,\n",
    "            Theta_SW=Theta_SW_d_t,\n",
    "            region=region,\n",
    "            mode=mode,\n",
    "            R_type=R_type\n",
    "        )\n",
    "\n",
    "        Q_dmd_H_ln_d_t_i = get_Q_dmd_H_ln_d_t_i(\n",
    "            i=i,\n",
    "            radiator=rad_list[i - 1],\n",
    "            Q_T_H_rad_d_t_i=Q_T_H_rad_d_t_i,\n",
    "            Q_max_H_rad_d_t_i=Q_max_H_rad_d_t_i,\n",
    "            L_T_H_rad_d_t_i=L_T_H_rad_d_t[i - 1],\n",
    "            Theta_SW_d_t=Theta_SW_d_t,\n",
    "            Theta_ex=Theta_ex,\n",
    "            r_WS_rad_d_t_i=r_WS_rad_d_t_i,\n",
    "            A_A=A_A,\n",
    "            pipe_insulation=pipe_insulation,\n",
    "            underfloor_pipe_insulation=underfloor_pipe_insulation,\n",
    "            MR_rad_type=MR_rad_type,\n",
    "            r_Af_1=r_Af_1\n",
    "        )\n",
    "\n",
    "        Q_dmd_H_hs_d_t = Q_dmd_H_hs_d_t + Q_dmd_H_ln_d_t_i\n",
    "\n",
    "    return Q_dmd_H_hs_d_t\n",
    "\n",
    "\n",
    "def get_MR_rad_type_and_r_Af_1(rad_list):\n",
    "    if rad_list[0] is not None:\n",
    "        MR_rad_type = rad_list[0]['type']\n",
    "        if 'r_Af' in rad_list[0]:\n",
    "            r_Af_1 = rad_list[0]['r_Af']\n",
    "        else:\n",
    "            r_Af_1 = None\n",
    "    else:\n",
    "        MR_rad_type = None\n",
    "        r_Af_1 = None\n",
    "    return MR_rad_type, r_Af_1"
   ]
  },
  {
   "cell_type": "markdown",
   "metadata": {},
   "source": [
    "#### 7.3 温水供給運転率"
   ]
  },
  {
   "cell_type": "markdown",
   "metadata": {},
   "source": [
    "$Q_{dmd,H,hs,d,t} > 0$ の場合"
   ]
  },
  {
   "cell_type": "markdown",
   "metadata": {},
   "source": [
    "$$\\large\n",
    "r_{WS,hs,d,t} = \\left\\{ \\begin{array}{ll}\n",
    "    r_{WS,ln,d,t,i}&(放熱系統が1系統の場合)\\\\ \n",
    "    1&(放熱系統が2系統以上の場合)\\\\ \n",
    "    \\end{array}\n",
    "\\right.\n",
    "$$"
   ]
  },
  {
   "cell_type": "markdown",
   "metadata": {},
   "source": [
    "$Q_{dmd,H,hs,d,t} = 0$ の場合"
   ]
  },
  {
   "cell_type": "markdown",
   "metadata": {},
   "source": [
    "$$\\large\n",
    "r_{WS,hs,d,t} = 0\n",
    "$$"
   ]
  },
  {
   "cell_type": "markdown",
   "metadata": {},
   "source": [
    "$r_{WS,hs,d,t}$：日付$d$の時刻$t$における温水暖房用熱源機の温水供給運転率  \n",
    "$r_{WS,ln,d,t,i}$：日付$d$の時刻$t$における放熱系統$i$の温水供給運転率（ただし、ここでは$i=1$である。）   "
   ]
  },
  {
   "cell_type": "code",
   "execution_count": null,
   "metadata": {},
   "outputs": [],
   "source": [
    "# 温水暖房用熱源機の温水供給運転率\n",
    "def get_r_WS_hs_d_t(rad_list, Q_dmd_H_hs_d_t, Q_T_H_rad, Theta_SW, region, A_A, A_MR, A_OR, mode_MR):\n",
    "    # (7a)\n",
    "    n = sum([rad is not None for rad in rad_list])  # 放熱系統数\n",
    "    if n == 1:\n",
    "        A_HCZ = get_A_HCZ_i(1, A_A, A_MR, A_OR)\n",
    "        radiator = rad_list[0]\n",
    "        R_type = '主たる居室'\n",
    "        tmp = get_r_WS_ln_d_t_i(A_HCZ, radiator, Q_T_H_rad[0], Theta_SW, region, mode_MR, R_type)\n",
    "    elif n > 1:\n",
    "        tmp = np.ones(24 * 365)\n",
    "    else:\n",
    "        raise ValueError(n)\n",
    "\n",
    "    # (7b)\n",
    "    tmp[Q_dmd_H_hs_d_t == 0] = 0\n",
    "\n",
    "    return tmp"
   ]
  },
  {
   "cell_type": "markdown",
   "metadata": {},
   "source": [
    "#### 7.4 往き温水温度"
   ]
  },
  {
   "cell_type": "markdown",
   "metadata": {},
   "source": [
    "$\\theta_{SW,hs,op,1} > \\theta_{SW,hs,op,2} > \\theta_{SW,hs,op,3}$  "
   ]
  },
  {
   "cell_type": "markdown",
   "metadata": {},
   "source": [
    "$\\theta_{SW,hs,op,p}$：温水暖房用熱源機の往き温水温度の候補$p$(℃)  "
   ]
  },
  {
   "cell_type": "markdown",
   "metadata": {},
   "source": [
    "<div style=\"text-align: center;font-weight: bold;\">表　温水暖房用熱源機における往き温水温度の区分及び候補(℃)</div>\n",
    "\n",
    "<table>\n",
    "<thead>\n",
    "<tr>\n",
    "<th colspan=\"2\" rowspan=\"2\">温水暖房用熱源機の種類</th>\n",
    "<th colspan=\"3\">往き温水温度の候補の区分 $p$</th>\n",
    "</tr>\n",
    "<tr>\n",
    "<th>1</th>\n",
    "<th>2</th>\n",
    "<th>3</th>\n",
    "</tr>\n",
    "</thead>\n",
    "\n",
    "<tbody>\n",
    "<tr>\n",
    "<th rowspan=\"2\">石油温水暖房機、石油給湯温水暖房機</th>\n",
    "<th>従来型</th>\n",
    "<td>60</td>\n",
    "<td>-</td>\n",
    "<td>-</td>\n",
    "</tr>\n",
    "<tr>\n",
    "<th>潜熱回収型</th>\n",
    "<td>60</td>\n",
    "<td>40</td>\n",
    "<td>-</td>\n",
    "</tr>\n",
    "\n",
    "<tr>\n",
    "<th rowspan=\"2\">ガス温水暖房機、ガス給湯温水暖房機</th>\n",
    "<th>従来型</th>\n",
    "<td>60</td>\n",
    "<td>-</td>\n",
    "<td>-</td>\n",
    "</tr>\n",
    "<tr>\n",
    "<th>潜熱回収型</th>\n",
    "<td>60</td>\n",
    "<td>40</td>\n",
    "<td>-</td>\n",
    "</tr>\n",
    "\n",
    "<tr>\n",
    "<th colspan=\"2\">電気ヒーター温水暖房機、電気ヒーター給湯温水暖房機</th>\n",
    "<td>60</td>\n",
    "<td>-</td>\n",
    "<td>-</td>\n",
    "</tr>\n",
    "\n",
    "<tr>\n",
    "<th colspan=\"2\">電気ヒートポンプ温水暖房機</th>\n",
    "<td>55</td>\n",
    "<td>45</td>\n",
    "<td>35</td>\n",
    "</tr>\n",
    "\n",
    "<tr>\n",
    "<th colspan=\"2\">電気ヒートポンプ・ガス瞬間式併用型湯温水暖房機<br>\n",
    "（給湯熱源：ガス瞬間式、暖房熱源：電気ヒートポンプ・ガス瞬間式併用） </th>\n",
    "<td>60</td>\n",
    "<td>40</td>\n",
    "<td>-</td>\n",
    "</tr>\n",
    "\n",
    "<tr>\n",
    "<th colspan=\"2\">電気ヒートポンプ・ガス瞬間式併用型給湯温水暖房機<br>\n",
    "（給湯熱源：電気ヒートポンプ・ガス瞬間式併用、暖房熱源：ガス瞬間式）</th>\n",
    "<td>60</td>\n",
    "<td>40</td>\n",
    "<td>-</td>\n",
    "</tr>\n",
    "\n",
    "<tr>\n",
    "<th colspan=\"2\">電気ヒートポンプ・ガス瞬間式併用型給湯温水暖房機<br>\n",
    "（給湯熱源：電気ヒートポンプ・ガス瞬間式併用、<br>\n",
    "暖房熱源：電気ヒートポンプ・ガス瞬間式併用）</th>\n",
    "<td>60</td>\n",
    "<td>40</td>\n",
    "<td>-</td>\n",
    "</tr>\n",
    "\n",
    "<tr>\n",
    "<th colspan=\"2\">コージェネレーション設備</th>\n",
    "<td colspan=\"3\">コージェネレーション設備の種類に依る</td>\n",
    "</tr>\n",
    "\n",
    "</tbody>\n",
    "</table>\n"
   ]
  },
  {
   "cell_type": "code",
   "execution_count": null,
   "metadata": {},
   "outputs": [],
   "source": [
    "# 温水暖房用熱源機の往き温水温度の候補\n",
    "def get_Theta_SW_hs_op(hs_type, CG_category=None):\n",
    "    if hs_type == '石油従来型温水暖房機' or hs_type == '石油従来型給湯温水暖房機':\n",
    "        return table_4[0]\n",
    "    elif hs_type == '石油潜熱回収型温水暖房機' or hs_type == '石油潜熱回収型給湯温水暖房機':\n",
    "        ## TODO: 仕様書上は40,60℃\n",
    "        return (60,)\n",
    "        return table_4[1]\n",
    "    elif hs_type == 'ガス従来型温水暖房機' or hs_type == 'ガス従来型給湯温水暖房機' or hs_type == 'ガス従来型':\n",
    "        return table_4[2]\n",
    "    elif hs_type == 'ガス潜熱回収型温水暖房機' or hs_type == 'ガス潜熱回収型給湯温水暖房機' or hs_type == 'ガス潜熱回収型':\n",
    "        return table_4[3]\n",
    "    elif hs_type == '電気ヒーター温水暖房機' or hs_type == '電気ヒーター給湯温水暖房機':\n",
    "        return table_4[4]\n",
    "    elif hs_type == '電気ヒートポンプ温水暖房機':\n",
    "        return table_4[5]\n",
    "    elif hs_type == '電気ヒートポンプ・ガス瞬間式併用型給湯温水暖房機(給湯熱源：ガス瞬間式、暖房熱源：電気ヒートポンプ・ガス瞬間式併用)':\n",
    "        return table_4[6]\n",
    "    elif hs_type == '電気ヒートポンプ・ガス瞬間式併用型給湯温水暖房機(給湯熱源：電気ヒートポンプ・ガス瞬間式併用、暖房熱源：ガス瞬間式)(仕様による)':\n",
    "        return table_4[7]\n",
    "    elif hs_type == '電気ヒートポンプ・ガス瞬間式併用型給湯温水暖房機(給湯熱源：電気ヒートポンプ・ガス瞬間式併用、暖房熱源：電気ヒートポンプ・ガス瞬間式併用)':\n",
    "        return table_4[8]\n",
    "    elif hs_type == 'コージェネレーションを使用する':\n",
    "        from section8_a import get_type_BB_HWH\n",
    "        type_BB_HWH = get_type_BB_HWH(CG_category)\n",
    "        return get_Theta_SW_hs_op(type_BB_HWH)\n",
    "    elif hs_type == '給湯・温水暖房一体型を使用する':\n",
    "        raise NotImplementedError()\n",
    "    else:\n",
    "        raise ValueError(hs_type)"
   ]
  },
  {
   "cell_type": "markdown",
   "metadata": {},
   "source": [
    "$$\n",
    "\\large\n",
    "p_{hs,d,t} = min(p_{ln,d,t,1}, p_{ln,d,t,2}, … p_{ln,d,t,m})\n",
    "$$"
   ]
  },
  {
   "cell_type": "markdown",
   "metadata": {},
   "source": [
    "$p_{hs,d,t}$：日付$d$の時刻$t$における温水暖房用熱源機の往き温水温度の区分(℃)  \n",
    "$p_{ln,d,t,i}$：日付$d$の時刻$t$における放熱系統$i$の要求往き温水温度の区分(℃)  "
   ]
  },
  {
   "cell_type": "code",
   "execution_count": null,
   "metadata": {},
   "outputs": [],
   "source": [
    "# 温水暖房用熱源機の往き温水温度の区分 (8)\n",
    "def get_p_hs_d_t(Theta_SW_hs_op, rad_list, L_T_H_rad, A_A, A_MR, A_OR, region, mode_MR, mode_OR):\n",
    "    p_ln = np.zeros((5, 24 * 365), dtype=np.int32)\n",
    "\n",
    "    # 初期値として、最低温度を指定\n",
    "    p_ln[:] = len(Theta_SW_hs_op)\n",
    "\n",
    "    for i in [1, 3, 4, 5]:\n",
    "        if rad_list[i - 1] is not None:\n",
    "            A_HCZ_i = get_A_HCZ_i(i, A_A, A_MR, A_OR)\n",
    "            mode = mode_MR if i == 1 else mode_OR\n",
    "            R_type = '主たる居室' if i == 1 else 'その他の居室'\n",
    "            p_ln_i = get_p_ln_d_t_i(rad_list[i - 1], L_T_H_rad[i - 1], Theta_SW_hs_op, A_HCZ_i, region, mode, R_type)\n",
    "            p_ln[i - 1, :] = p_ln_i\n",
    "\n",
    "    return np.min(p_ln, axis=0)\n",
    "\n",
    "\n",
    "# 要求往き温水温度\n",
    "def get_Theta_SW_d_t(Theta_SW_hs_op, p_hs_d_t):\n",
    "    # 一括変換用のndarrayを作成\n",
    "    n = len(Theta_SW_hs_op)\n",
    "    array_Theta_SW_hs_op = np.array(Theta_SW_hs_op).reshape((n, 1))\n",
    "\n",
    "    # p_d_tに基づいて1時間当たりの往き温水温度を取得\n",
    "    Theta_SW_d_t = array_Theta_SW_hs_op[p_hs_d_t - 1]\n",
    "\n",
    "    return Theta_SW_d_t.reshape(p_hs_d_t.shape)\n",
    "\n",
    "\n",
    "# 表4 温水暖房用熱源機における往き温水温度の区分及び候補\n",
    "table_4 = [\n",
    "    (60,),\n",
    "    (60, 40),\n",
    "    (60,),\n",
    "    (60, 40),\n",
    "    (60,),\n",
    "    (55, 45, 35),\n",
    "    (60, 40),\n",
    "    (60, 40),\n",
    "    (60, 40),\n",
    "]"
   ]
  },
  {
   "cell_type": "markdown",
   "metadata": {},
   "source": [
    "#### 7.5 戻り温水温度"
   ]
  },
  {
   "cell_type": "markdown",
   "metadata": {},
   "source": [
    "$$\\large\n",
    "\\theta_{RW,hs,d,t} = \\left\\{ \\begin{array}{ll}\n",
    "    0.0301 \\times (T_{dif})^2 - 0.1864 \\times T_{dif} + 20&(熱源機の往き温水温度\\theta_{SW,hs} = 60)\\\\ \n",
    "    0.0604 \\times (T_{dif})^2 - 0.1881 \\times T_{dif} + 20&(熱源機の往き温水温度\\theta_{SW,hs} = 40)\\\\ \n",
    "    \\end{array}\n",
    "\\right.\n",
    "$$"
   ]
  },
  {
   "cell_type": "markdown",
   "metadata": {},
   "source": [
    "$$\\large\n",
    "T_{dif,d,t} = \\frac{\\sum_{i}Q_{dmd,H,ln,d,t,i}}{\\sum_{i}Q'_{max,rad,d,t,i} \\times  0.027583}\n",
    "$$"
   ]
  },
  {
   "cell_type": "markdown",
   "metadata": {},
   "source": [
    "$$\\large\n",
    "Q'_{max,H,rad,d,t,i} = \\left\\{ \\begin{array}{ll}\n",
    "    Q_{max,H,rad,d,t,i}&(Q_{ln,dmd,d,t,i} > 0)\\\\ \n",
    "    0&(Q_{ln,dmd,d,t,i} = 0)\\\\ \n",
    "    \\end{array}\n",
    "\\right.\n",
    "$$"
   ]
  },
  {
   "cell_type": "markdown",
   "metadata": {},
   "source": [
    "$T_{dif,d,t}$：日付$d$の時刻$t$における対数平均温度差(℃)  \n",
    "$Q_{dmd,H,ln,d,t,i}$：日付$d$の時刻$t$における1時間当たりの放熱系統$i$の温水熱需要(MJ/h)  \n",
    "$Q'_{max,H,rad,d,t,i}$：日付$d$の時刻$t$における1時間当たりの温水熱需要が発生する場合の暖冷房区画$i$に設置された放熱器の最大暖房出力(MJ/h)  \n",
    "$Q_{max,H,rad,d,t,i}$：日付$d$の時刻$t$における1時間当たりの暖冷房区画$i$に設置された放熱器の最大暖房出力(MJ/h)  "
   ]
  },
  {
   "cell_type": "code",
   "execution_count": null,
   "metadata": {},
   "outputs": [],
   "source": [
    "# 戻り温水温度 (9)\n",
    "def get_Theta_RW_hs_d_t(Theta_SW_hs_d_t, rad_list, pipe_insulation, underfloor_pipe_insulation, A_A, A_MR, A_OR, region,\n",
    "                        mode_MR, mode_OR,\n",
    "                        L_T_H_rad):\n",
    "    MR_rad_type, r_Af_1 = get_MR_rad_type_and_r_Af_1(rad_list)\n",
    "\n",
    "    outdoor = load_outdoor()\n",
    "    Theta_ex = get_Theta_ex(region, outdoor)\n",
    "\n",
    "    Q_dmd_H_ln_d_t = np.zeros((5, 24 * 365))\n",
    "    Q_dash_max_H_rad_d_t = np.zeros((5, 24 * 365))\n",
    "\n",
    "    for i in [1, 3, 4, 5]:\n",
    "        if rad_list[i - 1] is None:\n",
    "            continue\n",
    "        else:\n",
    "            if rad_list[i - 1] is None:\n",
    "                continue\n",
    "\n",
    "            # 1時間当たりの暖冷房区画iに設置された放熱器の最大暖房出力\n",
    "            A_HCZ = get_A_HCZ_i(i, A_A, A_MR, A_OR)\n",
    "            R_type = '主たる居室' if i == 1 else 'その他の居室'\n",
    "            mode = mode_MR if i == 1 else mode_OR\n",
    "            Q_max_H_rad_d_t_i = get_Q_max_H_rad_d_t_i(rad_list[i - 1], A_HCZ, Theta_SW_hs_d_t, region, mode, R_type)\n",
    "\n",
    "            # 1時間当たりの暖冷房区画iに設置された放熱器の処理暖房負荷\n",
    "            Q_T_H_rad_d_t_i = get_Q_T_H_rad_d_t_i(Q_max_H_rad_d_t_i, L_T_H_rad[i - 1])\n",
    "\n",
    "            # 1時間当たりの暖冷房区画iに設置された放熱器の温水供給運転率\n",
    "            r_WS_rad_d_t_i = get_r_WS_rad_d_t_i(\n",
    "                A_HCZ=A_HCZ,\n",
    "                radiator=rad_list[i - 1],\n",
    "                Q_T_H_rad=Q_T_H_rad_d_t_i,\n",
    "                Theta_SW=Theta_SW_hs_d_t,\n",
    "                region=region,\n",
    "                mode=mode,\n",
    "                R_type=R_type\n",
    "            )\n",
    "\n",
    "            Q_dmd_H_ln_d_t[i - 1] = get_Q_dmd_H_ln_d_t_i(\n",
    "                i=i,\n",
    "                radiator=rad_list[i - 1],\n",
    "                Q_T_H_rad_d_t_i=Q_T_H_rad_d_t_i,\n",
    "                Q_max_H_rad_d_t_i=Q_max_H_rad_d_t_i,\n",
    "                L_T_H_rad_d_t_i=L_T_H_rad[i - 1],\n",
    "                Theta_SW_d_t=Theta_SW_hs_d_t,\n",
    "                Theta_ex=Theta_ex,\n",
    "                r_WS_rad_d_t_i=r_WS_rad_d_t_i,\n",
    "                A_A=A_A,\n",
    "                pipe_insulation=pipe_insulation,\n",
    "                underfloor_pipe_insulation=underfloor_pipe_insulation,\n",
    "                MR_rad_type=MR_rad_type,\n",
    "                r_Af_1=r_Af_1\n",
    "            )\n",
    "\n",
    "            Q_dash_max_H_rad_d_t_i = get_Q_dash_max_H_rad_d_t_i(Q_max_H_rad_d_t_i, Q_dmd_H_ln_d_t[i - 1])\n",
    "            Q_dash_max_H_rad_d_t[i - 1, :] = Q_dash_max_H_rad_d_t_i\n",
    "\n",
    "    # 1時間ごとの対数平均温度差 (9b)\n",
    "    T_dif = get_T_dif_d_t(Q_dmd_H_ln_d_t, Q_dash_max_H_rad_d_t)\n",
    "\n",
    "    # 温水暖房用熱源機の戻り温水温度 (9a)\n",
    "    Theta_RW_hs_d_t = np.zeros(24 * 365)\n",
    "\n",
    "    # - 条件1 (熱源機の往き温水温度60度)\n",
    "    f1 = (Theta_SW_hs_d_t == 60)\n",
    "    Theta_RW_hs_d_t[f1] = 0.0301 * T_dif[f1] ** 2 - 0.1864 * T_dif[f1] + 20\n",
    "\n",
    "    # - 条件2 (熱源機の往き温水温度40度)\n",
    "    f2 = (Theta_SW_hs_d_t == 40)\n",
    "    Theta_RW_hs_d_t[f2] = 0.0604 * T_dif[f2] ** 2 - 0.1881 * T_dif[f2] + 20\n",
    "\n",
    "    # 温水暖房用戻り温度は往き温度を超えない\n",
    "    fover = (Theta_RW_hs_d_t > Theta_SW_hs_d_t)  # 温水暖房用戻り温度は往き温度を超えた日時インデックス\n",
    "    Theta_RW_hs_d_t[fover] = Theta_SW_hs_d_t[fover]  # 逆転日時の限り、戻り温度=往き温度とする\n",
    "\n",
    "    return Theta_RW_hs_d_t\n",
    "\n",
    "\n",
    "# 1時間当たりの温水熱需要が発生する場合の暖冷房区画iに設置された放熱器の最大暖房出力 (9c)\n",
    "def get_Q_dash_max_H_rad_d_t_i(Q_max_H_rad_d_t_i, Q_dmd_H_ln_d_t_i):\n",
    "    Q_dash_max_H_rad_d_t_i = np.copy(Q_max_H_rad_d_t_i)\n",
    "    Q_dash_max_H_rad_d_t_i[Q_dmd_H_ln_d_t_i == 0] = 0\n",
    "    return Q_dash_max_H_rad_d_t_i\n",
    "\n",
    "\n",
    "# 1時間ごとの対数平均温度差 (9b)\n",
    "def get_T_dif_d_t(Q_dmd_H_ln_d_t, Q_dash_max_H_rad_d_t):\n",
    "    Q_dmd = np.sum(Q_dmd_H_ln_d_t, axis=0)\n",
    "    Q_dash_max = np.sum(Q_dash_max_H_rad_d_t, axis=0)\n",
    "\n",
    "    T_dif_d_t = np.zeros(24 * 365)\n",
    "    f = (Q_dmd > 0)\n",
    "    T_dif_d_t[f] = Q_dmd[f] / (Q_dash_max[f] * 0.027583)\n",
    "\n",
    "    return T_dif_d_t"
   ]
  },
  {
   "cell_type": "markdown",
   "metadata": {},
   "source": [
    "### 8. 放熱系統"
   ]
  },
  {
   "cell_type": "markdown",
   "metadata": {},
   "source": [
    "#### 8.1 温水熱需要"
   ]
  },
  {
   "cell_type": "markdown",
   "metadata": {},
   "source": [
    "$$\n",
    "\\large\n",
    "Q_{dmd,H,ln,d,t,i} = Q_{dmd,H,rad,d,t,i} + Q_{loss,pp,d,t,i}\n",
    "$$"
   ]
  },
  {
   "cell_type": "markdown",
   "metadata": {},
   "source": [
    "$Q_{dmd,H,rad,d,t,i}$：日付$d$の時刻$t$における1時間当たりの暖冷房区画$i$に設置された放熱器の温水熱需要(MJ/h)  \n",
    "$Q_{loss,pp,d,t,i}$：日付$d$の時刻$t$における1時間当たりの配管$i$の熱損失(MJ/h)  "
   ]
  },
  {
   "cell_type": "code",
   "execution_count": null,
   "metadata": {},
   "outputs": [],
   "source": [
    "# 1時間当たりの放熱系統iの温水熱需要 (10)\n",
    "def get_Q_dmd_H_ln_d_t_i(i, radiator, Q_T_H_rad_d_t_i, Q_max_H_rad_d_t_i, L_T_H_rad_d_t_i, Theta_SW_d_t, Theta_ex,\n",
    "                         r_WS_rad_d_t_i, A_A, pipe_insulation, underfloor_pipe_insulation,\n",
    "                         MR_rad_type, r_Af_1):\n",
    "    # 1時間当たりの暖冷房区画iに設置された放熱器の温水熱需要\n",
    "    Q_dmd_H_rad_d_t_i = get_Q_dmd_H_rad_d_t_i(radiator, Q_max_H_rad_d_t_i, L_T_H_rad_d_t_i)\n",
    "\n",
    "    # 1時間当たりの配管iの熱損失\n",
    "    Q_loss_pp_d_t_i = get_Q_loss_pp_d_t_i(\n",
    "        i=i,\n",
    "        Theta_SW_d_t=Theta_SW_d_t,\n",
    "        Theta_ex_d_t=Theta_ex,\n",
    "        r_WS_rad_d_t_i=r_WS_rad_d_t_i,\n",
    "        A_A=A_A,\n",
    "        pipe_insulation=pipe_insulation,\n",
    "        underfloor_pipe_insulation=underfloor_pipe_insulation,\n",
    "        MR_rad_type=MR_rad_type,\n",
    "        r_Af_1=r_Af_1\n",
    "    )\n",
    "\n",
    "    return Q_dmd_H_rad_d_t_i + Q_loss_pp_d_t_i"
   ]
  },
  {
   "cell_type": "markdown",
   "metadata": {},
   "source": [
    "#### 8.2 温水供給運転率"
   ]
  },
  {
   "cell_type": "markdown",
   "metadata": {},
   "source": [
    "$$\n",
    "\\large\n",
    "r_{WS,ln,d,t,i} = r_{WS,rad,d,t,i}\n",
    "$$"
   ]
  },
  {
   "cell_type": "markdown",
   "metadata": {},
   "source": [
    "$r_{WS,rad,d,t,i}$：日付$d$の時刻$t$における暖冷房区画$i$に設置された放熱器の温水供給運転率  "
   ]
  },
  {
   "cell_type": "code",
   "execution_count": null,
   "metadata": {},
   "outputs": [],
   "source": [
    "# 放熱系統iの温水供給運転率 (11)\n",
    "def get_r_WS_ln_d_t_i(A_HCZ, radiator, Q_T_H_rad, Theta_SW, region, mode, R_type):\n",
    "    return get_r_WS_rad_d_t_i(A_HCZ, radiator, Q_T_H_rad, Theta_SW, region, mode, R_type)"
   ]
  },
  {
   "cell_type": "markdown",
   "metadata": {},
   "source": [
    "#### 8.3 要求往き温水温度の区分"
   ]
  },
  {
   "cell_type": "markdown",
   "metadata": {},
   "source": [
    "省略"
   ]
  },
  {
   "cell_type": "code",
   "execution_count": null,
   "metadata": {},
   "outputs": [],
   "source": [
    "# 放熱系統の要求往き温水温度の区分\n",
    "def get_p_ln_d_t_i(radiator, L_T_H_rad_d_t_i, Theta_SW_hs_op, A_HCZ, region, mode, R_type):\n",
    "    n = len(Theta_SW_hs_op)\n",
    "    if n == 1:\n",
    "        # 候補が1つの場合は決定\n",
    "        return np.ones(24 * 365)\n",
    "    else:\n",
    "        # 候補が2つ以上の場合は未処理負荷の発生状況を確認\n",
    "\n",
    "        # 放熱器がない暖房区画が指定されて場合は便宜上、最低の温水温度の区分を返す\n",
    "        if radiator is None:\n",
    "            return n * np.ones(24 * 365)\n",
    "\n",
    "        # 往き温水温度の候補ごとに未処理負荷の発生状況を確認する\n",
    "        # このとき、最大の往き温水温度の候補(p=1)は確認をしない\n",
    "        flag_UT_d_t_p = np.ones((n - 1, 24 * 365))  # 基本はp=1\n",
    "        for p in range(2, n + 1):\n",
    "            # 往き温水温度の候補p\n",
    "            Theta_SW = Theta_SW_hs_op[p - 1]\n",
    "\n",
    "            # 往き温水温度の候補pにおける放熱器の最大出力\n",
    "            Q_max_H_rad_d_t_i_p = get_Q_max_H_rad_d_t_i(radiator, A_HCZ, Theta_SW, region, mode, R_type)\n",
    "\n",
    "            # 往き温水温度の候補pにおける1時間当たりの暖冷房区画iに設置された放熱器の処理暖房負荷\n",
    "            Q_T_H_rad_d_t_i_p = get_Q_T_H_rad_d_t_i(Q_max_H_rad_d_t_i_p, L_T_H_rad_d_t_i)\n",
    "\n",
    "            # 往き温水温度の候補pにおける1時間当たりの暖冷房区画iに設置された放熱器の未処理暖房負荷\n",
    "            Q_UT_H_rad_d_t_i_p = L_T_H_rad_d_t_i - Q_T_H_rad_d_t_i_p\n",
    "\n",
    "            # 未処理負荷が発生しなかった時刻にはpを保存\n",
    "            flag_UT_d_t_i_p = Q_UT_H_rad_d_t_i_p <= 0.0\n",
    "            flag_UT_d_t_p[p - 2][flag_UT_d_t_i_p] = p\n",
    "\n",
    "        # 1時間当たりの往き温水温度の候補p\n",
    "        p_ln_d_t_i = np.max(flag_UT_d_t_p, axis=0)\n",
    "        return p_ln_d_t_i"
   ]
  },
  {
   "cell_type": "markdown",
   "metadata": {},
   "source": [
    "### 9. 配管"
   ]
  },
  {
   "cell_type": "markdown",
   "metadata": {},
   "source": [
    "$$\\large\n",
    "Q_{loss,pp,d,t,i} = ((\\theta_{SW,d,t} - (\\theta_{ex,d,t} \\times 0.7 + 20 \\times 0.3)) \\times L_{pp,ex,i} + (\\theta_{SW,d,t} - 20) \\times L_{pp,in,i})\\\\\n",
    "\\large\n",
    "\\times K_{loss,pp,i} \\times r_{WS,rad,d,t,i} \\times 3600 \\times 10^{-6}\n",
    "$$"
   ]
  },
  {
   "cell_type": "markdown",
   "metadata": {},
   "source": [
    "$\\theta_{SW,d,t}$：日付$d$の時刻$t$における往き温水温度(℃)    \n",
    "$\\theta_{ex,d,t}$：日付$d$の時刻$t$における外気温度(℃)  \n",
    "$L_{pp,ex,i}$：配管$i$の断熱区画外における長さ(m)  \n",
    "$L_{pp,in,i}$：配管$i$の断熱区画内における長さ(m)  \n",
    "$K_{loss,pp,i}$：配管$i$の線熱損失係数(W/mK)  \n",
    "$r_{WS,rad,d,t,i}$：日付$d$の時刻$t$における暖冷房区画$i$に設置された放熱器の温水供給運転率  "
   ]
  },
  {
   "cell_type": "code",
   "execution_count": null,
   "metadata": {},
   "outputs": [],
   "source": [
    "# 1時間当たりの配管iの熱損失 (12)\n",
    "def get_Q_loss_pp_d_t_i(i, Theta_SW_d_t, Theta_ex_d_t, r_WS_rad_d_t_i, A_A, pipe_insulation, underfloor_pipe_insulation,\n",
    "                        MR_rad_type, r_Af_1):\n",
    "    # 配管の断熱区画外における長さ\n",
    "    L_pp_ex_i = pipe.get_L_pp_ex_i(i, A_A, underfloor_pipe_insulation, MR_rad_type, r_Af_1)\n",
    "\n",
    "    # 配管の断熱区画内における長さ\n",
    "    L_pp_in_i = pipe.get_L_pp_in_i(i, A_A, underfloor_pipe_insulation, MR_rad_type, r_Af_1)\n",
    "\n",
    "    # 線熱損失係数\n",
    "    K_loss_pp_i = pipe.get_K_loss_pp(pipe_insulation)\n",
    "\n",
    "    return ((Theta_SW_d_t - (Theta_ex_d_t * 0.7 + 20 * 0.3)) * L_pp_ex_i + (Theta_SW_d_t - 20) * L_pp_in_i) \\\n",
    "           * K_loss_pp_i * r_WS_rad_d_t_i * 3600 * 10 ** (-6)"
   ]
  },
  {
   "cell_type": "markdown",
   "metadata": {},
   "source": [
    "### 10. 放熱器"
   ]
  },
  {
   "cell_type": "markdown",
   "metadata": {},
   "source": [
    "#### 10.1 供給熱量"
   ]
  },
  {
   "cell_type": "markdown",
   "metadata": {},
   "source": [
    "$$\\large\n",
    "Q_{dmd,H,rad,d,t,i} = Q_{T,H,rad,d,t,i} + Q_{loss,rad,d,t,i}\n",
    "$$"
   ]
  },
  {
   "cell_type": "markdown",
   "metadata": {},
   "source": [
    "$Q_{T,H,rad,d,t,i}$：日付$d$の時刻$t$における1時間当たりの暖冷房区画$i$に設置された放熱器の処理暖房負荷(MJ/h)  \n",
    "$Q_{loss,rad,d,t,i}$：日付$d$の時刻$t$における1時間当たりの暖冷房区画$i$に設置された放熱器の熱損失(MJ/h)  "
   ]
  },
  {
   "cell_type": "code",
   "execution_count": null,
   "metadata": {},
   "outputs": [],
   "source": [
    "# 1時間当たりの暖冷房区画iに設置された放熱器の温水熱需要 (13)\n",
    "def get_Q_dmd_H_rad_d_t_i(radiator, Q_max_H_rad_d_t_i, L_T_H_rad_d_t_i):\n",
    "    # 1時間当たりの暖冷房区画iに設置された放熱器の処理暖房負荷\n",
    "    Q_T_H_rad_d_t_i = get_Q_T_H_rad_d_t_i(Q_max_H_rad_d_t_i, L_T_H_rad_d_t_i)\n",
    "\n",
    "    # 1時間当たりの暖冷房区画iに設置された放熱器の熱損失\n",
    "    Q_loss_rad_d_t_i = get_Q_loss_rad_d_t_i(radiator, Q_T_H_rad_d_t_i)\n",
    "\n",
    "    return Q_T_H_rad_d_t_i + Q_loss_rad_d_t_i"
   ]
  },
  {
   "cell_type": "markdown",
   "metadata": {},
   "source": [
    "#### 10.2 消費電力量"
   ]
  },
  {
   "cell_type": "markdown",
   "metadata": {},
   "source": [
    "日付$d$の時刻$t$における 1 時間当たりの暖冷房区画$i$に設置された放熱器の消費電力量$E_{E,rad,d,t,i}$は、放熱器の種類がパネルラジエーター又は温水床暖房の場合は0とする。"
   ]
  },
  {
   "cell_type": "code",
   "execution_count": null,
   "metadata": {},
   "outputs": [],
   "source": [
    "# 1時間当たりの暖冷房区画iに設置された放熱器の消費電力量\n",
    "def get_E_E_rad_d_t_i(i, radiator, Q_T_H_rad, Theta_SW, A_A, A_MR, A_OR, region, mode, R_type):\n",
    "    if radiator['type'] == '温水暖房用パネルラジエーター' or radiator['type'] == '温水暖房用床暖房':\n",
    "        return np.zeros(24 * 365)\n",
    "    elif radiator['type'] == '温水暖房用ファンコンベクター':\n",
    "\n",
    "        A_HCZ = get_A_HCZ_i(i, A_A, A_MR, A_OR)\n",
    "\n",
    "        return rad_fanc.get_E_E_rad(\n",
    "            A_HCZ=A_HCZ,\n",
    "            region=region,\n",
    "            mode=mode,\n",
    "            R_type=R_type,\n",
    "            Theta_SW=Theta_SW,\n",
    "            Q_T_H_rad=Q_T_H_rad,\n",
    "        )\n",
    "    else:\n",
    "        raise ValueError(radiator['type'])\n"
   ]
  },
  {
   "cell_type": "code",
   "execution_count": null,
   "metadata": {},
   "outputs": [],
   "source": [
    "def get_A_HCZ_i(i, A_A, A_MR, A_OR):\n",
    "    return ld.get_A_HCZ_i(i, A_A, A_MR, A_OR)"
   ]
  },
  {
   "cell_type": "markdown",
   "metadata": {},
   "source": [
    "#### 10.3 熱損失"
   ]
  },
  {
   "cell_type": "markdown",
   "metadata": {},
   "source": [
    "日付$d$の時刻$t$における 1 時間当たりの暖冷房区画$i$に設置された放熱器の熱損失$Q_{loss,rad,d,t,i}$は、放熱器の種類がパネルラジエーター又はファンコンベクターの場合は0とする。"
   ]
  },
  {
   "cell_type": "code",
   "execution_count": null,
   "metadata": {},
   "outputs": [],
   "source": [
    "# 1時間当たりの暖冷房区画iに設置された放熱器の熱損失\n",
    "def get_Q_loss_rad_d_t_i(radiator, Q_T_H_rad):\n",
    "    if radiator['type'] == '温水暖房用パネルラジエーター' or radiator['type'] == '温水暖房用ファンコンベクター':\n",
    "        return np.zeros_like(Q_T_H_rad)\n",
    "    elif radiator['type'] == '温水暖房用床暖房':\n",
    "        return rad_floor.get_Q_loss_rad(\n",
    "            r_up=radiator['r_up'],\n",
    "            Q_T_H_rad=Q_T_H_rad\n",
    "        )\n",
    "    else:\n",
    "        raise ValueError(radiator['type'])"
   ]
  },
  {
   "cell_type": "markdown",
   "metadata": {},
   "source": [
    "#### 10.4 温水供給運転率"
   ]
  },
  {
   "cell_type": "markdown",
   "metadata": {},
   "source": [
    "省略"
   ]
  },
  {
   "cell_type": "markdown",
   "metadata": {},
   "source": [
    "#### 10.5 処理暖房負荷"
   ]
  },
  {
   "cell_type": "markdown",
   "metadata": {},
   "source": [
    "省略"
   ]
  },
  {
   "cell_type": "markdown",
   "metadata": {},
   "source": [
    "#### 10.6 最大暖房出力"
   ]
  },
  {
   "cell_type": "markdown",
   "metadata": {},
   "source": [
    "省略"
   ]
  }
 ],
 "metadata": {
  "kernelspec": {
   "display_name": "Python 3",
   "language": "python",
   "name": "python3"
  },
  "language_info": {
   "codemirror_mode": {
    "name": "ipython",
    "version": 3
   },
   "file_extension": ".py",
   "mimetype": "text/x-python",
   "name": "python",
   "nbconvert_exporter": "python",
   "pygments_lexer": "ipython3",
   "version": "3.7.1"
  }
 },
 "nbformat": 4,
 "nbformat_minor": 2
}
