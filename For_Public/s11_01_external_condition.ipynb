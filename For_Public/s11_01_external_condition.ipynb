{
 "cells": [
  {
   "cell_type": "markdown",
   "metadata": {},
   "source": [
    "## 第一節　地域の区分と外気条件"
   ]
  },
  {
   "cell_type": "markdown",
   "metadata": {},
   "source": [
    "### 1．適用範囲"
   ]
  },
  {
   "cell_type": "markdown",
   "metadata": {},
   "source": [
    "省略"
   ]
  },
  {
   "cell_type": "markdown",
   "metadata": {},
   "source": [
    "### 2. 引用規格"
   ]
  },
  {
   "cell_type": "markdown",
   "metadata": {},
   "source": [
    "省略"
   ]
  },
  {
   "cell_type": "markdown",
   "metadata": {},
   "source": [
    "### 3. 用語の定義"
   ]
  },
  {
   "cell_type": "markdown",
   "metadata": {},
   "source": [
    "省略"
   ]
  },
  {
   "cell_type": "markdown",
   "metadata": {},
   "source": [
    "### 4. 外気条件"
   ]
  },
  {
   "cell_type": "markdown",
   "metadata": {},
   "source": [
    "省略"
   ]
  },
  {
   "cell_type": "markdown",
   "metadata": {},
   "source": [
    "### 5. 地域の区分"
   ]
  },
  {
   "cell_type": "markdown",
   "metadata": {},
   "source": [
    "省略"
   ]
  },
  {
   "cell_type": "markdown",
   "metadata": {},
   "source": [
    "## 付録 A 外気相対湿度の計算方法"
   ]
  },
  {
   "cell_type": "markdown",
   "metadata": {},
   "source": [
    "### A.1 記号及び単位"
   ]
  },
  {
   "cell_type": "markdown",
   "metadata": {},
   "source": [
    "省略"
   ]
  },
  {
   "cell_type": "markdown",
   "metadata": {},
   "source": [
    "### A.2 外気相対湿度の計算方法"
   ]
  },
  {
   "cell_type": "markdown",
   "metadata": {},
   "source": [
    "$$\\large\n",
    "h_{ex} = \\frac{P_{v}}{P_{vs}}\\times 100\n",
    "$$"
   ]
  },
  {
   "cell_type": "markdown",
   "metadata": {},
   "source": [
    "$h_{ex}$：外気相対湿度(%)  \n",
    "$P_{v}$：外気の水蒸気圧(Pa)    \n",
    "$P_{vs}$：外気の飽和水蒸気圧(Pa)  "
   ]
  },
  {
   "cell_type": "markdown",
   "metadata": {},
   "source": [
    "$$\\large\n",
    "P_{v} = 101325 \\times \\frac{X_{ex}}{(622+X_{ex})}\n",
    "$$"
   ]
  },
  {
   "cell_type": "markdown",
   "metadata": {},
   "source": [
    "$X_{ex}$：外気絶対湿度(g/kg')  "
   ]
  },
  {
   "cell_type": "markdown",
   "metadata": {},
   "source": [
    "$$\\large\n",
    "P_{vs} = e^{k}\n",
    "$$"
   ]
  },
  {
   "cell_type": "markdown",
   "metadata": {},
   "source": [
    "$$\\large\n",
    "\\displaystyle\n",
    "k = \\left\\{ \\begin{array}{ll}\n",
    "    \\frac{a_{1}}{T_{ex}}+a_{2}+a_{3}\\times T_{ex}+a_{4}\\times T_{ex}^{2}+a_{5}\\times log_{e}(T_{ex}) & (\\theta_{ex} > 0)\\\\\n",
    "    \\frac{b_{1}}{T_{ex}}+b_{2}+b_{3}\\times T_{ex}+b_{4}\\times T_{ex}^{2}+b_{5}\\times log_{e}(T_{ex}) & (\\theta_{ex} \\leq 0)\\\\\n",
    "    \\end{array}\n",
    "\\right.\n",
    "$$"
   ]
  },
  {
   "cell_type": "markdown",
   "metadata": {},
   "source": [
    "$T_{ex}$：外気絶対温度(K)  \n",
    "$\\theta_{ex}$：外気温度(℃)  "
   ]
  },
  {
   "cell_type": "markdown",
   "metadata": {},
   "source": [
    "<div style=\"text-align: center;font-weight: bold;\">表　式における係数の値 </div>\n",
    "\n",
    "<table>\n",
    "    <thead>\n",
    "<tr><th>係数</th><th>値</th></tr>\n",
    "    </thead>\n",
    "    <tbody>\n",
    "<tr><th>$a_{1}$</th><td>－6096.9385</td></tr>\n",
    "<tr><th>$a_{2}$</th><td>21.2409642</td></tr>\n",
    "<tr><th>$a_{3}$</th><td>－0.02711193</td></tr>\n",
    "<tr><th>$a_{4}$</th><td>0.00001673952</td></tr>\n",
    "<tr><th>$a_{5}$</th><td>2.433502</td></tr>\n",
    "<tr><th>$b_{1}$</th><td>－6024.5282</td></tr>\n",
    "<tr><th>$b_{2}$</th><td>29.32707</td></tr>\n",
    "<tr><th>$b_{3}$</th><td>0.010613863</td></tr>\n",
    "<tr><th>$b_{4}$</th><td>－0.000013198825</td></tr>\n",
    "<tr><th>$b_{5}$</th><td>－0.49382577</td></tr>\n",
    "    </tbody>\n",
    "</table>\n"
   ]
  },
  {
   "cell_type": "markdown",
   "metadata": {},
   "source": [
    "$$\\large\n",
    "T_{ex} = \\theta_{ex}+273.16\n",
    "$$"
   ]
  }
 ],
 "metadata": {
  "kernelspec": {
   "display_name": "Python 3",
   "language": "python",
   "name": "python3"
  },
  "language_info": {
   "codemirror_mode": {
    "name": "ipython",
    "version": 3
   },
   "file_extension": ".py",
   "mimetype": "text/x-python",
   "name": "python",
   "nbconvert_exporter": "python",
   "pygments_lexer": "ipython3",
   "version": "3.6.7"
  }
 },
 "nbformat": 4,
 "nbformat_minor": 2
}
