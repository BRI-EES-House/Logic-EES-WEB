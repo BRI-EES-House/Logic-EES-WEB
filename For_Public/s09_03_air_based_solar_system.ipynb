{
 "cells": [
  {
   "cell_type": "markdown",
   "metadata": {},
   "source": [
    "# 【確認】3-1-eの記述を確認"
   ]
  },
  {
   "cell_type": "code",
   "execution_count": null,
   "metadata": {},
   "outputs": [],
   "source": [
    "import numpy as np\n",
    "\n",
    "from section3_1_heatingday import \\\n",
    "    get_heating_flag_d\n",
    "\n",
    "import section3_1_e as algo\n",
    "\n",
    "from section11_2 import \\\n",
    "    get_I_s_d_t, \\\n",
    "    get_Theta_ex"
   ]
  },
  {
   "cell_type": "markdown",
   "metadata": {},
   "source": [
    "# 第九章　自然エネルギー利用設備"
   ]
  },
  {
   "cell_type": "markdown",
   "metadata": {},
   "source": [
    "## 第三節　空気集熱式太陽熱利用設備"
   ]
  },
  {
   "cell_type": "markdown",
   "metadata": {},
   "source": [
    "1．適用範囲～4．記号及び単位は省略"
   ]
  },
  {
   "cell_type": "markdown",
   "metadata": {},
   "source": [
    "### 5．暖房負荷削減量"
   ]
  },
  {
   "cell_type": "markdown",
   "metadata": {},
   "source": [
    "集熱後の空気を床下空間へ供給する場合： "
   ]
  },
  {
   "cell_type": "markdown",
   "metadata": {},
   "source": [
    "$L'_{H,R,d,t,i} \\leq 0$ または 当該時刻において集熱した熱を暖房に利用しない場合 ($r_{sa,d,t} = 0$) の場合： \n"
   ]
  },
  {
   "cell_type": "markdown",
   "metadata": {},
   "source": [
    "$$\\large\n",
    "\\begin{equation*}\n",
    "    \\Delta L'_{H,ass,d,t,i} = 0\n",
    "\\end{equation*}\n",
    "$$"
   ]
  },
  {
   "cell_type": "markdown",
   "metadata": {},
   "source": [
    "$0 < L'_{H,R,d,t,i}$ かつ 当該時刻において集熱した熱を暖房に利用する場合 ($0 < r_{sa,d,t}$) の場合： \n"
   ]
  },
  {
   "cell_type": "markdown",
   "metadata": {},
   "source": [
    "$$\\large\n",
    "\\begin{equation*}\n",
    "    \\Delta L'_{H,ass,d,t,i} = \\rho_{air} \\times c_{p_{air}} \\times V_{sa,d,t,i} \\times (\\theta_{uf,d,t} - \\theta_{in,d,t}) \\times 10^{-3}\\\\ \n",
    "    - U_s \\times A_{s,ufvnt,i} \\times (\\theta_{in,d,t} - \\theta_{uf,d,t}) \\times 3.6 \\times 10^{-3}\\\\\n",
    "    + U_{s,vert} \\times A_{s,ufvnt,i} \\times (\\theta_{in,d,t} - \\theta_{ex,d,t}) \\times H_{floor} \\times 3.6 \\times 10^{-3}\n",
    "\\end{equation*}\n",
    "$$"
   ]
  },
  {
   "cell_type": "markdown",
   "metadata": {},
   "source": [
    "集熱後の空気を居室へ直接供給する場合： "
   ]
  },
  {
   "cell_type": "markdown",
   "metadata": {},
   "source": [
    "$L'_{H,R,d,t,i} \\leq 0$ または 当該時刻において集熱した熱を暖房に利用しない場合 ($r_{sa,d,t} = 0$) の場合： \n"
   ]
  },
  {
   "cell_type": "markdown",
   "metadata": {},
   "source": [
    "$$\\large\n",
    "\\begin{equation*}\n",
    "    \\Delta L'_{H,ass,d,t,i} = 0\n",
    "\\end{equation*}\n",
    "$$"
   ]
  },
  {
   "cell_type": "markdown",
   "metadata": {},
   "source": [
    "$0 < L'_{H,R,d,t,i}$ かつ 当該時刻において集熱した熱を暖房に利用する場合 ($0 < r_{sa,d,t}$) の場合： \n"
   ]
  },
  {
   "cell_type": "markdown",
   "metadata": {},
   "source": [
    "$$\\large\n",
    "\\begin{equation*}\n",
    "    \\Delta L'_{H,ass,d,t,i} = \\rho_{air} \\times c_{p_{air}} \\times V_{sa,d,t,i} \\times (\\theta_{sa,d,t} - \\theta_{in,d,t}) \\times 10^{-3}\n",
    "\\end{equation*}\n",
    "$$"
   ]
  },
  {
   "cell_type": "markdown",
   "metadata": {},
   "source": [
    "$A_{s,ufvnt,i}$：暖冷房区画$i$の空気を供給する床下空間に接する床の面積(m<sup>2</sup>)  \n",
    "$c_{p_{air}}$： 空気の比熱(kJ/(kg・K))   \n",
    "$H_{floor}$：床の温度差係数(-)  \n",
    "$L'_{H,R,d,t,i}$：日付$d$の時刻$t$における標準住戸の暖冷房区画$i$の負荷補正前の暖房負荷(MJ/h)  \n",
    "$r_{sa,d,t}$：日付$d$の時刻$t$における 1 時間当たりの空気搬送ファンの風量のうち床下空間または居室へ供給する空気の風量の割合(-)  \n",
    "$U_s$：床の熱貫流率(W/(m<sup>2</sup>・K))  \n",
    "$U_{s,vert}$：暖冷房負荷計算時に想定した床の熱貫流率(W/(m<sup>2</sup>・K))  \n",
    "$V_{sa,d,t,i}$：日付$d$の時刻$t$における暖冷房区画$i$の1 時間当たりの床下空間または居室へ供給する空気の風量(m<sup>3</sup>/h)  \n",
    "$\\Delta L'_{H,ass,d,t,i}$：日付$d$の時刻$t$における暖冷房区画$i$の空気集熱式太陽熱利用設備による暖房負荷削減量(MJ/h)  \n",
    "$\\rho_{air}$：空気の密度(kg/m<sup>3</sup>)  \n",
    "$\\theta_{in,d,t}$：日付$d$の時刻$t$における室内温度(℃)  \n",
    "$\\theta_{sa,d,t}$：日付$d$の時刻$t$において床下空間または居室へ供給する空気の温度(℃)  \n",
    "$\\theta_{uf,d,t}$：日付$d$の時刻$t$における床下温度(℃)  "
   ]
  },
  {
   "cell_type": "code",
   "execution_count": null,
   "metadata": {},
   "outputs": [],
   "source": [
    "# 空気集熱式太陽熱利用設備による暖房負荷削減量 (MJ/h)\n",
    "def calc_delta_L_dash_H_ass_d_t_i(i, supply_target, L_dash_H_R_d_t_i, region, sol_region, A_HCZ_i, A_A, A_MR, A_OR, Q,\n",
    "                                  hotwater_use, Theta_ex_d_t, P_alpha, P_beta,\n",
    "                                  A_col, V_fan_P0, m_fan_test, d0, d1, ufv_insulation, r_A_ufvnt):\n",
    "    \"\"\"\n",
    "    :param i: 暖冷房区画の番号\n",
    "    :param supply_target: 集熱後の空気を供給する先\n",
    "    :param L_dash_H_R_d_t_i:\n",
    "    :param region: 省エネルギー地域区分\n",
    "    :param sol_region: 年間日射地域区分(1-5)\n",
    "    :param A_HCZ_i: 暖冷房区画iの床面積 (m2)\n",
    "    :param A_A:\n",
    "    :param A_MR:\n",
    "    :param A_OR:\n",
    "    :param Q:\n",
    "    :param Theta_sa_d_t: 床下空間または居室へ供給する空気の温度 (℃)\n",
    "    :param Theta_ex_d_t: 外気温度 (℃)\n",
    "    :param P_alpha:\n",
    "    :param P_beta:\n",
    "    :param A_col:\n",
    "    :param V_fan_P0: 空気搬送ファンの送風機特性曲線において機外静圧をゼロとしたときの空気搬送ファンの風量 (m3/h)\n",
    "    :param m_fan_test:\n",
    "    :param d0:\n",
    "    :param d1:\n",
    "    :param ufv_insulation:\n",
    "    :param r_A_ufvnt:\n",
    "    :return:\n",
    "    \"\"\"\n",
    "    # ----- 10 集熱部 -----\n",
    "\n",
    "    # 空気搬送ファン停止時および稼働時の集熱部の出口における空気温度 (℃)\n",
    "    Theta_col_nonopg_d_t, Theta_col_opg_d_t = calc_Theta_col(A_col=A_col, P_alpha=P_alpha, P_beta=P_beta,\n",
    "                                                             V_fan_P0=V_fan_P0, d0=d0, d1=d1, m_fan_test=m_fan_test,\n",
    "                                                             region=region, sol_region=sol_region,\n",
    "                                                             Theta_ex_d_t=Theta_ex_d_t)\n",
    "\n",
    "    # ----- 9. 空気搬送部 -----\n",
    "\n",
    "    # 1時間当たりの空気搬送ファンの稼働時間 (h/h) (12)\n",
    "    t_fan_d_t = get_t_fan_d_t(Theta_col_nonopg_d_t, Theta_col_opg_d_t)\n",
    "\n",
    "    # 1時間当たりの空気搬送ファンの風量 (m3/h) (13)\n",
    "    V_fan_d_t = get_V_fan_d_t(t_fan_d_t, V_fan_P0)\n",
    "\n",
    "    # 暖房日\n",
    "    heating_flag_d = get_heating_flag_d(L_dash_H_R_d_t_i)\n",
    "\n",
    "    # 1時間当たりの空気搬送ファンの風量のうち床下空間または居室へ供給する風量の割合 (17)\n",
    "    r_sa_d_t = get_r_sa_d_t(t_fan_d_t, heating_flag_d)\n",
    "\n",
    "    # 床下空間または居室へ供給する1時間当たりの空気の風量の合計 (m3/h) (16)\n",
    "    V_sa_d_t_A = get_V_sa_d_t_A(V_fan_d_t, r_sa_d_t)\n",
    "\n",
    "    # 1時間当たりの床下空間または居室へ供給する空気の風量 (15)\n",
    "    V_sa_d_t_i = get_V_sa_d_t_i(i, A_HCZ_i, A_MR, A_OR, V_sa_d_t_A)\n",
    "\n",
    "    # ----- 5. 暖房負荷削減量 -----\n",
    "\n",
    "    # 当該住戸の暖冷房区画iの外気を導入する床下空間に接する床の面積\n",
    "    if supply_target == '床下':\n",
    "        A_s_ufvnt_i = algo.get_A_s_ufvnt_i(i, r_A_ufvnt, A_A, A_MR, A_OR)\n",
    "    else:\n",
    "        A_s_ufvnt_i = None\n",
    "\n",
    "    # 暖冷房負荷計算時に想定した床の熱貫流率 (W/m2K)\n",
    "    U_s_vert = algo.get_U_s_vert(region, Q)\n",
    "\n",
    "    # 1時間当たりの集熱部における集熱量 (MJ/h) (19)\n",
    "    Q_col_d_t = get_Q_col_d_t(V_fan_d_t, Theta_col_opg_d_t, Theta_ex_d_t)\n",
    "\n",
    "    # 1時間当たりの循環ポンプの稼働時間 (h/h) (6)\n",
    "    t_cp_d_t = get_t_cp_d_t(hotwater_use, t_fan_d_t, heating_flag_d)\n",
    "\n",
    "    # 1時間当たりの集熱部における集熱量のうちの給湯利用分 (MJ/h) (11)\n",
    "    Q_col_W_d_t = get_Q_col_w_d_t(Q_col_d_t, t_cp_d_t)\n",
    "\n",
    "    # 床下空間または居室へ供給する空気の温度 (℃) (18)\n",
    "    Theta_sa_d_t = get_Theta_sa_d_t(V_fan_d_t, Theta_col_opg_d_t, Q_col_W_d_t)\n",
    "\n",
    "    # 床下温度及び地盤またはそれを覆う基礎の表面温度 (℃)\n",
    "    if supply_target == '床下':\n",
    "        Theta_uf_d_t, Theta_g_surf_d_t = algo.calc_Theta(\n",
    "            region=region,\n",
    "            A_A=A_A,\n",
    "            A_MR=A_MR,\n",
    "            A_OR=A_OR,\n",
    "            Q=Q,\n",
    "            H_OR_C='H',\n",
    "            # 床下の設定\n",
    "            r_A_ufvnt=r_A_ufvnt,\n",
    "            underfloor_insulation=ufv_insulation,\n",
    "            V_sa_d_t_A=V_sa_d_t_A,\n",
    "            # 温度・負荷\n",
    "            Theta_sa_d_t=Theta_sa_d_t,\n",
    "            Theta_ex_d_t=Theta_ex_d_t,\n",
    "            L_dash_H_R_d_t=L_dash_H_R_d_t_i,\n",
    "        )\n",
    "    else:\n",
    "        Theta_uf_d_t, Theta_g_surf_d_t = None, None\n",
    "\n",
    "    # 空気集熱式太陽熱利用設備による暖房負荷削減量 (1)\n",
    "    delta_L_dash_H_ass_d_t_i = get_delta_L_dash_H_ass_d_t_i(\n",
    "        # 床下の設定\n",
    "        supply_target=supply_target,\n",
    "        A_s_ufvnt_i=A_s_ufvnt_i,\n",
    "        U_s_vert=U_s_vert,\n",
    "        V_sa_d_t_i=V_sa_d_t_i,\n",
    "        r_sa_d_t=r_sa_d_t,\n",
    "        # 温度・負荷\n",
    "        Theta_uf_d_t=Theta_uf_d_t,\n",
    "        Theta_ex_d_t=Theta_ex_d_t,\n",
    "        Theta_sa_d_t=Theta_sa_d_t,\n",
    "        L_dash_H_R_d_t_i=L_dash_H_R_d_t_i[i - 1],\n",
    "    )\n",
    "\n",
    "    return delta_L_dash_H_ass_d_t_i\n",
    "\n",
    "\n",
    "# 空気集熱式太陽熱利用設備による暖房負荷削減量 (1)\n",
    "def get_delta_L_dash_H_ass_d_t_i(A_s_ufvnt_i, L_dash_H_R_d_t_i, Theta_ex_d_t, Theta_sa_d_t, Theta_uf_d_t, U_s_vert,\n",
    "                                 V_sa_d_t_i, r_sa_d_t, supply_target):\n",
    "    \"\"\"\n",
    "    :param A_s_ufvnt_i: 暖冷房区画iの空気を供給する床下空間に接する床の面積 (m2)\n",
    "    :param L_dash_H_R_d_t_i: 標準住戸の暖冷房区画iの負荷補正前の暖房負荷 (MJ/h)\n",
    "    :param Theta_ex_d_t: 外気温度 (℃)\n",
    "    :param Theta_sa_d_t: 床下空間または居室へ供給する空気の温度 (℃)\n",
    "    :param Theta_uf_d_t: 当該住戸の床下温度 (℃)\n",
    "    :param U_s_vert: 暖冷房負荷計算時に想定した床の熱貫流率 (W/m2K)\n",
    "    :param V_sa_d_t_i: 1時間当たりの床下空間または居室へ供給する空気の風量 (m3/h)\n",
    "    :param r_sa_d_t: 1時間当たりの空気搬送ファンの風量のうち床下空間または居室へ供給する風量の割合 (-)\n",
    "    :param supply_target: 集熱後の空気を供給する先\n",
    "    :return: 空気集熱式太陽熱利用設備による暖房負荷削減量 (MJ/h)\n",
    "    \"\"\"\n",
    "\n",
    "    # 床の温度差係数( -)\n",
    "    H_floor = get_H_floor()\n",
    "\n",
    "    # 暖房設定温度 (℃)\n",
    "    Theta_prst_H = get_Theta_prst_H()\n",
    "\n",
    "    # 室内温度 (℃)\n",
    "    Theta_in_d_t = get_Theta_in_d_t(Theta_prst_H)\n",
    "\n",
    "    # 空気の密度[kg/m3]\n",
    "    ro_air = get_ro_air()\n",
    "\n",
    "    # 空気の比熱[kJ/(kgK)]\n",
    "    c_p_air = get_c_p_air()\n",
    "\n",
    "    # 床下の熱貫流率[W/m2K]\n",
    "    U_s = get_U_s()\n",
    "\n",
    "    if supply_target == '床下':\n",
    "        # 集熱後の空気を床下空間へ供給する場合\n",
    "\n",
    "        # (1-2a)\n",
    "        delta_L_dash_H_ass_d_t_i = \\\n",
    "            ro_air * c_p_air * V_sa_d_t_i * (Theta_uf_d_t - Theta_in_d_t) * 10 ** (-3) \\\n",
    "            - U_s * A_s_ufvnt_i * (Theta_in_d_t - Theta_uf_d_t) * 3.6 * 10 ** (-3) \\\n",
    "            + U_s_vert * A_s_ufvnt_i * (Theta_in_d_t - Theta_ex_d_t) * H_floor * 3.6 * 10 ** (-3)\n",
    "\n",
    "        # (1-1a)\n",
    "        delta_L_dash_H_ass_d_t_i[np.logical_or(L_dash_H_R_d_t_i <= 0, r_sa_d_t == 0)] = 0.0\n",
    "\n",
    "    elif supply_target == '居室':\n",
    "        # 集熱後の空気を居室へ直接供給する場合\n",
    "\n",
    "        # (1-2b)\n",
    "        delta_L_dash_H_ass_d_t_i = \\\n",
    "            ro_air * c_p_air * V_sa_d_t_i * (Theta_sa_d_t - Theta_in_d_t) * 10 ** (-3)\n",
    "\n",
    "        # (1-2a)\n",
    "        delta_L_dash_H_ass_d_t_i[np.logical_or(L_dash_H_R_d_t_i <= 0, r_sa_d_t == 0)] = 0.0\n",
    "\n",
    "    else:\n",
    "        raise ValueError(supply_target)\n",
    "\n",
    "    return delta_L_dash_H_ass_d_t_i\n",
    "\n",
    "\n",
    "def get_delta_L_dash_H_uf_d_t_i():\n",
    "    return np.zeros(24 * 365)\n",
    "\n",
    "\n",
    "def get_delta_L_dash_CS_uf_d_t_i():\n",
    "    return np.zeros(24 * 365)"
   ]
  },
  {
   "cell_type": "markdown",
   "metadata": {},
   "source": [
    "空気の密度$\\rho_{air}$は、1.20 kg/m<sup>3</sup> とする。空気の比熱$c_{p_{air}}$は、1.006 kJ/(kg・K)とする。日付$d$の時刻$t$における室内温度$\\theta_{in,d,t}$は、暖房設定温度$\\theta_{prst,H}$に等しいとして20℃とする。床の熱貫流率$U_s$は、2.223W/(m<sup>2</sup>・K)とする。床の温度差係数$H_{floor}$は、0.7 とする。"
   ]
  },
  {
   "cell_type": "code",
   "execution_count": null,
   "metadata": {},
   "outputs": [],
   "source": [
    "# 床の温度差係数 (-)\n",
    "def get_H_floor():\n",
    "    return 0.7\n",
    "\n",
    "\n",
    "# 暖房設定温度 (℃)\n",
    "def get_Theta_prst_H():\n",
    "    return 20.0\n",
    "\n",
    "\n",
    "# 室内温度 (℃)\n",
    "def get_Theta_in_d_t(Theta_prst_H):\n",
    "    \"\"\"\n",
    "    :param Theta_prst_H: 暖房設定温度 (℃)\n",
    "    :return: 1時間当たりの室内温度 (℃)\n",
    "    \"\"\"\n",
    "    return np.repeat(Theta_prst_H, 24 * 365)\n",
    "\n",
    "\n",
    "# 空気の密度 (kg/m3)\n",
    "def get_ro_air():\n",
    "    return 1.20\n",
    "\n",
    "\n",
    "# 空気の比熱 (kJ/(kgK))\n",
    "def get_c_p_air():\n",
    "    return 1.006\n",
    "\n",
    "\n",
    "# 床下の熱貫流率 (W/m2K)\n",
    "def get_U_s():\n",
    "    return 2.223"
   ]
  },
  {
   "cell_type": "markdown",
   "metadata": {},
   "source": [
    "### 6．補正集熱量"
   ]
  },
  {
   "cell_type": "markdown",
   "metadata": {},
   "source": [
    "$L'_{k,d} + L'_{s,d} + L'_{w,d} + L'_{b1,d} + L'_{b2,d} + L'_{ba1,d} = 0$ の場合："
   ]
  },
  {
   "cell_type": "markdown",
   "metadata": {},
   "source": [
    "$$\\large\n",
    "L_{sun,ass,d,t} = 0\n",
    "$$"
   ]
  },
  {
   "cell_type": "markdown",
   "metadata": {},
   "source": [
    "$L'_{k,d} + L'_{s,d} + L'_{w,d} + L'_{b1,d} + L'_{b2,d} + L'_{ba1,d} > 0$ の場合："
   ]
  },
  {
   "cell_type": "markdown",
   "metadata": {},
   "source": [
    "$$\\large\n",
    "L_{sun,ass,d,t} = L_{sun,ass,d} \\times \\frac{L'_{k,d,t} + L'_{s,d,t} + L'_{w,d,t} + L'_{b1,d,t} + L'_{b2,d,t} + L'_{ba1,d,t}}{L'_{k,d} + L'_{s,d} + L'_{w,d} + L'_{b1,d} + L'_{b2,d} + L'_{ba1,d}}\n",
    "$$"
   ]
  },
  {
   "cell_type": "markdown",
   "metadata": {},
   "source": [
    "$L_{sun,ass,d}$ : 日付$d$における1日当たりの空気集熱式太陽熱利用設備による補正集熱量(MJ/d)  \n",
    "$L_{sun,ass,d,t}$ : 日付$d$の時刻$t$における1時間当たりの空気集熱式太陽熱利用設備による補正集熱量(MJ/h)  \n",
    "$L'_{k,d}$ : 日付$d$における1日当たりの台所水栓における節湯補正給湯熱負荷(MJ/d)  \n",
    "$L'_{s,d}$ : 日付$d$における1日当たりの浴室シャワー水栓における節湯補正給湯熱負荷(MJ/d)  \n",
    "$L'_{w,d}$ : 日付$d$における1日当たりの洗面水栓における節湯補正給湯熱負荷(MJ/d)  \n",
    "$L'_{b1,d}$ : 日付$d$における1日当たりの浴槽水栓湯はり時における節湯補正給湯熱負荷(MJ/d)  \n",
    "$L'_{b2,d}$ : 日付$d$における1日当たりの浴槽自動湯はり時における節湯補正給湯熱負荷(MJ/d)  \n",
    "$L'_{ba1,d}$ : 日付$d$における1日当たりの浴槽水栓さし湯時における節湯補正給湯熱負荷(MJ/d)  \n",
    "$L'_{k,d,t}$ : 日付$d$の時刻$t$における1時間当たりの台所水栓における節湯補正給湯熱負荷(MJ/h)  \n",
    "$L'_{s,d,t}$ : 日付$d$の時刻$t$における1時間当たりの浴室シャワー水栓における節湯補正給湯熱負荷(MJ/h)  \n",
    "$L'_{w,d,t}$ : 日付$d$の時刻$t$における1時間当たりの洗面水栓における節湯補正給湯熱負荷(MJ/h)  \n",
    "$L'_{b1,d,t}$ : 日付$d$の時刻$t$における1時間当たりの浴槽水栓湯はり時における節湯補正給湯熱負荷(MJ/h)  \n",
    "$L'_{b2,d,t}$ : 日付$d$の時刻$t$における1時間当たりの浴槽自動湯はり時における節湯補正給湯熱負荷(MJ/h)  \n",
    "$L'_{ba1,d,t}$ : 日付$d$の時刻$t$における1時間当たりの浴槽水栓さし湯時における節湯補正給湯熱負荷(MJ/h)"
   ]
  },
  {
   "cell_type": "code",
   "execution_count": null,
   "metadata": {},
   "outputs": [],
   "source": [
    "# 1時間当たりの空気集熱式太陽熱利用設備における補正集熱量 (MJ/d) (2)\n",
    "def get_L_sun_ass_d_t(L_tnk_d, L_dash_k_d_t, L_dash_s_d_t, L_dash_w_d_t, L_dash_b1_d_t, L_dash_b2_d_t, L_dash_ba1_d_t):\n",
    "    \"\"\"\n",
    "    :param L_tnk_d: 1日当たりの給湯部におけるタンク蓄熱量の上限による補正集熱量 (MJ/d)\n",
    "    :param L_dash_k_d_t: 1時間当たりの台所水栓における節湯補正給湯熱負荷 (MJ/h)\n",
    "    :param L_dash_s_d_t: 1時間当たりの浴室シャワー水栓における節湯補正給湯熱負荷 (MJ/h)\n",
    "    :param L_dash_w_d_t: 1時間当たりの洗面水栓における節湯補正給湯熱負荷 (MJ/h)\n",
    "    :param L_dash_b1_d_t: 1時間当たりの浴槽水栓湯はり時における節湯補正給湯熱負荷 (MJ/h)\n",
    "    :param L_dash_b2_d_t: 1時間当たりの浴槽自動湯はり時における節湯補正給湯熱負荷 (MJ/h)\n",
    "    :param L_dash_ba1_d_t: 1時間当たりの浴槽水栓さし湯時における節湯補正給湯熱負荷 (MJ/h)\n",
    "    :return: 1時間当たりの空気集熱式太陽熱利用設備における補正集熱量 (MJ/h)\n",
    "    \"\"\"\n",
    "    # 1日あたりの節湯補正給湯熱負荷 (MJ/d)\n",
    "    L_dash_k_d = np.sum(L_dash_k_d_t.reshape(365, 24), axis=1)\n",
    "    L_dash_s_d = np.sum(L_dash_s_d_t.reshape(365, 24), axis=1)\n",
    "    L_dash_w_d = np.sum(L_dash_w_d_t.reshape(365, 24), axis=1)\n",
    "    L_dash_b1_d = np.sum(L_dash_b1_d_t.reshape(365, 24), axis=1)\n",
    "    L_dash_b2_d = np.sum(L_dash_b2_d_t.reshape(365, 24), axis=1)\n",
    "    L_dash_ba1_d = np.sum(L_dash_ba1_d_t.reshape(365, 24), axis=1)\n",
    "\n",
    "    # 1日当たりの空気集熱式太陽熱利用設備における補正集熱量 (MJ/d) (3)\n",
    "    L_sun_ass_d = get_L_sun_ass_d(L_tnk_d, L_dash_k_d, L_dash_s_d, L_dash_w_d, L_dash_b1_d, L_dash_b2_d, L_dash_ba1_d)\n",
    "    L_sun_ass_d = np.repeat(L_sun_ass_d, 24)\n",
    "\n",
    "    # 1日当たりの空気集熱式太陽熱利用設備における補正集熱量 (MJ/d)\n",
    "    L_sun_ass_d_t = np.zeros(24 * 365)\n",
    "\n",
    "    # 24時間化\n",
    "    L_dash_k_d = np.repeat(L_dash_k_d, 24)\n",
    "    L_dash_s_d = np.repeat(L_dash_s_d, 24)\n",
    "    L_dash_w_d = np.repeat(L_dash_w_d, 24)\n",
    "    L_dash_b1_d = np.repeat(L_dash_b1_d, 24)\n",
    "    L_dash_b2_d = np.repeat(L_dash_b2_d, 24)\n",
    "    L_dash_ba1_d = np.repeat(L_dash_ba1_d, 24)\n",
    "\n",
    "    # 1) 1日あたりの節湯補正給湯熱負荷 = 0 の場合\n",
    "    f1 = (L_dash_k_d + L_dash_s_d + L_dash_w_d + L_dash_b1_d + L_dash_b2_d + L_dash_ba1_d) == 0\n",
    "    L_sun_ass_d_t[f1] = 0\n",
    "\n",
    "    # 2) 1日あたりの節湯補正給湯熱負荷 > 0 の場合\n",
    "    f2 = (L_dash_k_d + L_dash_s_d + L_dash_w_d + L_dash_b1_d + L_dash_b2_d + L_dash_ba1_d) > 0\n",
    "    L_dash_d = L_dash_k_d + L_dash_s_d + L_dash_w_d + L_dash_b1_d + L_dash_b2_d + L_dash_ba1_d\n",
    "    L_dash_d_t = L_dash_k_d_t + L_dash_s_d_t + L_dash_w_d_t + L_dash_b1_d_t + L_dash_b2_d_t + L_dash_ba1_d_t\n",
    "    L_sun_ass_d_t[f2] = L_sun_ass_d[f2] * L_dash_d_t[f2] / L_dash_d[f2]\n",
    "\n",
    "    return L_sun_ass_d_t"
   ]
  },
  {
   "cell_type": "markdown",
   "metadata": {},
   "source": [
    "$$\\large\n",
    "\\begin{equation*}\n",
    "    L_{sun,ass,d} = min \\left( L_{tunk,d} , \\: \\left( L'_{k,d} + L'_{s,d} + L'_{w,d} + L'_{b1,d} + L'_{b2,d} + L'_{ba1,d} \\right) \\times f_{sr,uplim} \\right)\n",
    "\\end{equation*}\n",
    "$$"
   ]
  },
  {
   "cell_type": "markdown",
   "metadata": {},
   "source": [
    "$f_{sr,uplim}$ : 給湯部の分担率上限値(-)   \n",
    "$L_{sun,ass,d}$ : 日付$d$における1日当たりの空気集熱式太陽熱利用設備による補正集熱量(MJ/d)  \n",
    "$L_{tnk,d}$ : 日付$d$における1日当たりの給湯部におけるタンク蓄熱量の上限による補正集熱量(MJ/d)  \n",
    "$L'_{k,d}$ : 日付$d$における1日当たりの台所水栓における節湯補正給湯熱負荷(MJ/d)  \n",
    "$L'_{s,d}$ : 日付$d$における1日当たりの浴室シャワー水栓における節湯補正給湯熱負荷(MJ/d)  \n",
    "$L'_{w,d}$ : 日付$d$における1日当たりの洗面水栓における節湯補正給湯熱負荷(MJ/d)  \n",
    "$L'_{b1,d}$ : 日付$d$における1日当たりの浴槽水栓湯はり時における節湯補正給湯熱負荷(MJ/d)  \n",
    "$L'_{b2,d}$ : 日付$d$における1日当たりの浴槽自動湯はり時における節湯補正給湯熱負荷(MJ/d)  \n",
    "$L'_{ba1,d}$ : 日付$d$における1日当たりの浴槽水栓さし湯時における節湯補正給湯熱負荷(MJ/d)"
   ]
  },
  {
   "cell_type": "code",
   "execution_count": null,
   "metadata": {},
   "outputs": [],
   "source": [
    "# 1日当たりの空気集熱式太陽熱利用設備における補正集熱量 (MJ/d) (3)\n",
    "def get_L_sun_ass_d(L_tnk_d, L_dash_k_d, L_dash_s_d, L_dash_w_d, L_dash_b1_d, L_dash_b2_d, L_dash_ba1_d):\n",
    "    \"\"\"\n",
    "    :param L_tnk_d: 1日当たりの給湯部におけるタンク蓄熱量の上限による補正集熱量 (MJ/d)\n",
    "    :param L_dash_k_d: 1日当たりの台所水栓における節湯補正給湯熱負荷 (MJ/d)\n",
    "    :param L_dash_s_d: 1日当たりの浴室シャワー水栓における節湯補正給湯熱負荷 (MJ/d)\n",
    "    :param L_dash_w_d: 1日当たりの洗面水栓における節湯補正給湯熱負荷 (MJ/d)\n",
    "    :param L_dash_b1_d: 1日当たりの浴槽水栓湯はり時における節湯補正給湯熱負荷 (MJ/d)\n",
    "    :param L_dash_b2_d: 1日当たりの浴槽自動湯はり時における節湯補正給湯熱負荷 (MJ/d)\n",
    "    :param L_dash_ba1_d: 1日当たりの浴槽水栓さし湯時における節湯補正給湯熱負荷 (MJ/d)\n",
    "    :return: 1日当たりの空気集熱式太陽熱利用設備における補正集熱量 (MJ/d)\n",
    "    \"\"\"\n",
    "    # 給湯部の分担率上限値\n",
    "    f_sr_uplim = get_f_sr_uplim()\n",
    "\n",
    "    # 1日当たりの空気集熱式太陽熱利用設備における補正集熱量 (MJ/d)\n",
    "    L_sun_ass_d = np.clip(\n",
    "        L_tnk_d,\n",
    "        None,\n",
    "        (L_dash_k_d + L_dash_s_d + L_dash_w_d + L_dash_b1_d + L_dash_b2_d + L_dash_ba1_d) * f_sr_uplim\n",
    "    )\n",
    "\n",
    "    return L_sun_ass_d"
   ]
  },
  {
   "cell_type": "markdown",
   "metadata": {},
   "source": [
    "給湯部の分担率上限値$f_{sr,uplim}$は、0.9とする。 "
   ]
  },
  {
   "cell_type": "code",
   "execution_count": null,
   "metadata": {},
   "outputs": [],
   "source": [
    "# 給湯部の分担率上限値 (-)\n",
    "def get_f_sr_uplim():\n",
    "    return 0.9"
   ]
  },
  {
   "cell_type": "markdown",
   "metadata": {},
   "source": [
    "### 7．補機の消費電力量"
   ]
  },
  {
   "cell_type": "markdown",
   "metadata": {},
   "source": [
    "当該時刻において集熱した熱を暖房と給湯とのどちらにも利用しない場合( $r_{sa,d,t} = 0$ かつ $t_{cp,d,t} = 0$ )： "
   ]
  },
  {
   "cell_type": "markdown",
   "metadata": {},
   "source": [
    "$$\\large\n",
    "E_{E,H,aux,ass,d,t} = 0\n",
    "$$\n",
    "\n",
    "$$\\large\n",
    "E_{E,W,aux,ass,d,t} = 0\n",
    "$$"
   ]
  },
  {
   "cell_type": "markdown",
   "metadata": {},
   "source": [
    "当該時刻において集熱した熱を暖房のみに利用する場合( $0 < r_{sa,d,t}$ かつ $t_{cp,d,t} = 0$ )： "
   ]
  },
  {
   "cell_type": "markdown",
   "metadata": {},
   "source": [
    "$$\\large\n",
    "E_{E,H,aux,ass,d,t} = E_{E,fan,d,t}\n",
    "$$\n",
    "\n",
    "$$\\large\n",
    "E_{E,W,aux,ass,d,t} = 0\n",
    "$$"
   ]
  },
  {
   "cell_type": "markdown",
   "metadata": {},
   "source": [
    "当該時刻において集熱した熱を給湯のみに利用する場合( $r_{sa,d,t} = 0$ かつ $ 0 < t_{cp,d,t}$ )： "
   ]
  },
  {
   "cell_type": "markdown",
   "metadata": {},
   "source": [
    "$$\\large\n",
    "E_{E,H,aux,ass,d,t} = 0\n",
    "$$\n",
    "\n",
    "$$\\large\n",
    "E_{E,W,aux,ass,d,t} = E_{E,fan,d,t} + E_{E,cp,d,t}\n",
    "$$"
   ]
  },
  {
   "cell_type": "markdown",
   "metadata": {},
   "source": [
    "$E_{E,H,aux,ass,d,t}$ : 日付$d$の時刻$t$における1時間当たりの補機の消費電力量のうち暖房設備への付加分(kWh/h)   \n",
    "$E_{E,W,aux,ass,d,t}$ : 日付$d$の時刻$t$における1時間当たりの補機の消費電力量のうち給湯設備への付加分(kWh/h)   \n",
    "$E_{E,cp,d,t}$ : 日付$d$の時刻$t$における1時間当たりの循環ポンプの消費電力量(kWh/h)   \n",
    "$E_{E,fan,d,t}$ : 日付$d$の時刻$t$における1時間当たりの空気搬送ファンの消費電力量(kWh/h)      \n",
    "$t_{cp,d,t}$ : 日付$d$の時刻$t$における1時間当たりの循環ポンプの稼働時間(h/h)    \n",
    "$r_{sa,d,t}$ : 日付$d$の時刻$t$における1時間当たりの空気搬送ファンの風量のうち床下空間または居室へ供給する空気の風量の割合(-)   "
   ]
  },
  {
   "cell_type": "code",
   "execution_count": null,
   "metadata": {},
   "outputs": [],
   "source": [
    "# 1時間当たりの補機の消費電力量のうちの給湯設備への付加分 (kWh/h)\n",
    "def calc_E_E_W_aux_ass_d_t(hotwater_use, heating_flag_d, region, sol_region, P_alpha, P_beta,\n",
    "                           A_col, V_fan_P0, m_fan_test, d0, d1, fan_sso, fan_type, pump_sso):\n",
    "    \"\"\"\n",
    "    :param hotwater_use: 空気集熱式太陽熱利用設備が給湯部を有する場合はTrue\n",
    "    :param heating_flag_d: 暖房日\n",
    "    :param region: 省エネルギー地域区分\n",
    "    :param sol_region: 年間日射地域区分(1-5)\n",
    "    :param P_alpha: 方位角 (°)\n",
    "    :param P_beta: 傾斜角 (°)\n",
    "    :param A_col: 集熱器群の面積 (m2)\n",
    "    :param V_fan_P0: 空気搬送ファンの送風機特性曲線において機外静圧をゼロとしたときの空気搬送ファンの風量 (m3/h)\n",
    "    :param d0: 集熱器群を構成する集熱器の集熱効率特性線図一次近似式の切片 (-)\n",
    "    :param d1: 集熱器群を構成する集熱器の集熱効率特性線図一次近似式の傾き (W/(m2K))\n",
    "    :param m_fan_test: 集熱器群を構成する集熱器の集熱性能試験時における単位面積当たりの空気の質量流量 (kg/(s・m2))\n",
    "    :param fan_sso:\n",
    "    :param fan_type: ファンの種別\n",
    "    :param pump_sso: 循環ポンプの自立運転用太陽光発電装置を採用する場合はTrue\n",
    "    :return: 1時間当たりの補機の消費電力量のうちの給湯設備への付加分 (kWh/h)\n",
    "    \"\"\"\n",
    "\n",
    "    from section11_1 import load_outdoor, get_Theta_ex\n",
    "    outdoor = load_outdoor()\n",
    "    Theta_ex_d_t = get_Theta_ex(region, outdoor)\n",
    "\n",
    "    # ----- 10 集熱部 -----\n",
    "\n",
    "    # 空気搬送ファン停止時および稼働時の集熱部の出口における空気温度 (℃)\n",
    "    Theta_col_nonopg_d_t, Theta_col_opg_d_t = calc_Theta_col(A_col=A_col, P_alpha=P_alpha, P_beta=P_beta,\n",
    "                                                             V_fan_P0=V_fan_P0, d0=d0, d1=d1, m_fan_test=m_fan_test,\n",
    "                                                             region=region, sol_region=sol_region,\n",
    "                                                             Theta_ex_d_t=Theta_ex_d_t)\n",
    "\n",
    "    # ----- 9. 空気搬送部 -----\n",
    "\n",
    "    # 1時間当たりの空気搬送ファンの稼働時間 (h/h) (12)\n",
    "    t_fan_d_t = get_t_fan_d_t(Theta_col_nonopg_d_t, Theta_col_opg_d_t)\n",
    "\n",
    "    # 1時間当たりの空気搬送ファンの風量 (m3/h) (13)\n",
    "    V_fan_d_t = get_V_fan_d_t(t_fan_d_t, V_fan_P0)\n",
    "\n",
    "    # 1時間当たりの空気搬送ファンの消費電力量 (kWh/h) (14)\n",
    "    E_E_fan_d_t = get_E_E_fan_d_t(fan_sso, fan_type, V_fan_d_t, t_fan_d_t)\n",
    "\n",
    "    # 1時間当たりの空気搬送ファンの風量のうち床下空間または居室へ供給する風量の割合 (17)\n",
    "    r_sa_d_t = get_r_sa_d_t(t_fan_d_t, heating_flag_d)\n",
    "\n",
    "    # ----- 8. 給湯部 -----\n",
    "\n",
    "    # 1時間当たりの循環ポンプの稼働時間 (h/h) (6)\n",
    "    t_cp_d_t = get_t_cp_d_t(hotwater_use, t_fan_d_t, heating_flag_d)\n",
    "\n",
    "    # 1時間当たりの循環ポンプの消費電力量 (kWh/h) (7)\n",
    "    E_E_cp_d_t = get_E_E_cp_d_t(pump_sso, t_cp_d_t)\n",
    "\n",
    "    # ----- 7. 補機の消費電力量 -----\n",
    "\n",
    "    # 1時間当たりの補機の消費電力量のうち暖房設備への付加分 (kWh/h) (4)\n",
    "    E_E_W_aux_ass_d_t = get_E_E_W_aux_ass_d_t(r_sa_d_t, t_cp_d_t, E_E_fan_d_t, E_E_cp_d_t)\n",
    "\n",
    "    return E_E_W_aux_ass_d_t\n",
    "\n",
    "\n",
    "# 1時間当たりの補機の消費電力量のうち暖房設備への付加分 (kWh/h) (4)\n",
    "def calc_E_E_H_aux_ass_d_t(hotwater_use, heating_flag_d, region, sol_region, P_alpha, P_beta,\n",
    "                           A_col, V_fan_P0, m_fan_test, d0, d1, fan_sso, fan_type):\n",
    "    \"\"\"\n",
    "    :param hotwater_use: 空気集熱式太陽熱利用設備が給湯部を有する場合はTrue\n",
    "    :param heating_flag_d: 暖房日\n",
    "    :param region: 省エネルギー地域区分\n",
    "    :param sol_region: 年間日射地域区分(1-5)\n",
    "    :param P_alpha: 方位角 (°)\n",
    "    :param P_beta: 傾斜角 (°)\n",
    "    :param A_col: 集熱器群の面積 (m2)\n",
    "    :param V_fan_P0: 空気搬送ファンの送風機特性曲線において機外静圧をゼロとしたときの空気搬送ファンの風量 (m3/h)\n",
    "    :param d0: 集熱器群を構成する集熱器の集熱効率特性線図一次近似式の切片 (-)\n",
    "    :param d1: 集熱器群を構成する集熱器の集熱効率特性線図一次近似式の傾き (W/(m2K))\n",
    "    :param m_fan_test: 集熱器群を構成する集熱器の集熱性能試験時における単位面積当たりの空気の質量流量 (kg/(s・m2))\n",
    "    :return: 1時間当たりの補機の消費電力量のうち暖房設備への付加分 (kWh/h)\n",
    "    \"\"\"\n",
    "    from section11_1 import load_outdoor, get_Theta_ex\n",
    "    outdoor = load_outdoor()\n",
    "    Theta_ex_d_t = get_Theta_ex(region, outdoor)\n",
    "\n",
    "    # ----- 10 集熱部 -----\n",
    "\n",
    "    # 空気搬送ファン停止時および稼働時の集熱部の出口における空気温度 (℃)\n",
    "    Theta_col_nonopg_d_t, Theta_col_opg_d_t = calc_Theta_col(A_col=A_col, P_alpha=P_alpha, P_beta=P_beta,\n",
    "                                                             V_fan_P0=V_fan_P0, d0=d0, d1=d1, m_fan_test=m_fan_test,\n",
    "                                                             region=region, sol_region=sol_region,\n",
    "                                                             Theta_ex_d_t=Theta_ex_d_t)\n",
    "\n",
    "    # ----- 9. 空気搬送部 -----\n",
    "\n",
    "    # 1時間当たりの空気搬送ファンの稼働時間 (h/h) (12)\n",
    "    t_fan_d_t = get_t_fan_d_t(Theta_col_nonopg_d_t, Theta_col_opg_d_t)\n",
    "\n",
    "    # 1時間当たりの空気搬送ファンの風量 (m3/h) (13)\n",
    "    V_fan_d_t = get_V_fan_d_t(t_fan_d_t, V_fan_P0)\n",
    "\n",
    "    # 1時間当たりの空気搬送ファンの消費電力量 (kWh/h) (14)\n",
    "    E_E_fan_d_t = get_E_E_fan_d_t(fan_sso, fan_type, V_fan_d_t, t_fan_d_t)\n",
    "\n",
    "    # 1時間当たりの空気搬送ファンの風量のうち床下空間または居室へ供給する風量の割合 (17)\n",
    "    r_sa_d_t = get_r_sa_d_t(t_fan_d_t, heating_flag_d)\n",
    "\n",
    "    # ----- 8. 給湯部 -----\n",
    "\n",
    "    # 1時間当たりの循環ポンプの稼働時間 (h/h) (6)\n",
    "    t_cp_d_t = get_t_cp_d_t(hotwater_use, t_fan_d_t, heating_flag_d)\n",
    "\n",
    "    # ----- 7. 補機の消費電力量 -----\n",
    "\n",
    "    # 1時間当たりの補機の消費電力量のうち暖房設備への付加分 (kWh/h) (4)\n",
    "    E_E_H_aux_ass_d_t = get_E_E_H_aux_ass_d_t(r_sa_d_t, t_cp_d_t, E_E_fan_d_t)\n",
    "\n",
    "    return E_E_H_aux_ass_d_t\n",
    "\n",
    "\n",
    "# 1時間当たりの補機の消費電力量のうち暖房設備への付加分 (kWh/h) (4)\n",
    "def get_E_E_H_aux_ass_d_t(r_sa_d_t, t_cp_d_t, E_E_fan_d_t):\n",
    "    \"\"\"\n",
    "    :param r_sa_d_t: 1時間当たりの空気搬送ファンの風量のうち床下空間または居室へ供給する風量の割合 (-)\n",
    "    :param t_cp_d_t: 1時間当たりの循環ポンプの稼働時間 (h/h)\n",
    "    :param E_E_fan_d_t: 1時間当たりの空気搬送ファンの消費電力量 (kWh/h)\n",
    "    :return: 1時間当たりの補機の消費電力量のうち暖房設備への付加分 (kWh/h)\n",
    "    \"\"\"\n",
    "\n",
    "    E_E_H_aux_ass_d_t = np.zeros(24 * 365)\n",
    "\n",
    "    # (4)\n",
    "    f = np.logical_and(0 < r_sa_d_t, t_cp_d_t == 0)\n",
    "    E_E_H_aux_ass_d_t[f] = E_E_fan_d_t[f]\n",
    "\n",
    "    return E_E_H_aux_ass_d_t\n",
    "\n",
    "\n",
    "# 1時間当たりの補機の消費電力量のうち給湯設備への付加分 (kWh/h)\n",
    "def get_E_E_W_aux_ass_d_t(r_sa_d_t, t_cp_d_t, E_E_fan_d_t, E_E_cp_d_t):\n",
    "    \"\"\"\n",
    "    :param r_sa_d_t: 1時間当たりの空気搬送ファンの風量のうち床下空間または居室へ供給する風量の割合 (-)\n",
    "    :param t_cp_d_t: 1時間当たりの循環ポンプの稼働時間 (h/h)\n",
    "    :param E_E_fan_d_t: 1時間当たりの空気搬送ファンの消費電力量 (kWh/h)\n",
    "    :param E_E_cp_d_t: 1時間当たりの循環ポンプの消費電力量 (kWh/h)\n",
    "    :return: 1時間当たりの補機の消費電力量のうち給湯設備への付加分 (kWh/h)\n",
    "    \"\"\"\n",
    "    E_E_W_aux_ass_d_t = np.zeros(24 * 365)\n",
    "\n",
    "    # (5)\n",
    "    f = np.logical_and(r_sa_d_t == 0, 0 < t_cp_d_t)\n",
    "    E_E_W_aux_ass_d_t[f] = E_E_fan_d_t[f] + E_E_cp_d_t[f]\n",
    "\n",
    "    return E_E_W_aux_ass_d_t"
   ]
  },
  {
   "cell_type": "markdown",
   "metadata": {},
   "source": [
    "### 8．給湯部"
   ]
  },
  {
   "cell_type": "markdown",
   "metadata": {},
   "source": [
    "#### 8.1　循環ポンプの稼働時間"
   ]
  },
  {
   "cell_type": "markdown",
   "metadata": {},
   "source": [
    "空気集熱式太陽熱利用設備が給湯部を有さない場合、日付$d$の時刻$t$における1 時間当たりの循環ポンプの稼働時間$t_{cp,d,t}$は、ゼロとする。"
   ]
  },
  {
   "cell_type": "markdown",
   "metadata": {},
   "source": [
    "空気集熱式太陽熱利用設備が給湯部を有する場合、"
   ]
  },
  {
   "cell_type": "markdown",
   "metadata": {},
   "source": [
    "$t_{fan,d,t} = 0$、または、日付$d$が暖房日の場合： "
   ]
  },
  {
   "cell_type": "markdown",
   "metadata": {},
   "source": [
    "$$\\large\n",
    "t_{cp,d,t} = 0\n",
    "$$"
   ]
  },
  {
   "cell_type": "markdown",
   "metadata": {},
   "source": [
    "$0 < t_{fan,d,t}$、または、日付$d$が非暖房日の場合： "
   ]
  },
  {
   "cell_type": "markdown",
   "metadata": {},
   "source": [
    "$$\\large\n",
    "t_{cp,d,t} = 1\n",
    "$$"
   ]
  },
  {
   "cell_type": "markdown",
   "metadata": {},
   "source": [
    "$t_{cp,d,t}$ : 日付$d$の時刻$t$における1時間当たりの循環ポンプの稼働時間(h/h)    \n",
    "$t_{fan,d,t}$ : 日付$d$の時刻$t$における1時間当たりの空気搬送ファンの稼働時間(h/h)    "
   ]
  },
  {
   "cell_type": "code",
   "execution_count": null,
   "metadata": {},
   "outputs": [],
   "source": [
    "# 1時間当たりの循環ポンプの稼働時間 (h/h) (6)\n",
    "def get_t_cp_d_t(hotwater_use, t_fan_d_t, heating_flag_d):\n",
    "    \"\"\"\n",
    "    :param hotwater_use: 空気集熱式太陽熱利用設備が給湯部を有する場合はTrue\n",
    "    :param t_fan_d_t: 1時間当たりの空気搬送ファンの稼働時間 (h/h)\n",
    "    :param heating_flag_d: 暖房日であればTrue\n",
    "    :return: 1時間当たりの循環ポンプの稼働時間 (h/h)\n",
    "    \"\"\"\n",
    "    t_cp_d_t = np.zeros(24 * 365)\n",
    "\n",
    "    if hotwater_use == False:\n",
    "        # (6-1) 集熱した熱を給湯に使用しない場合は循環ポンプは稼働しない\n",
    "        pass\n",
    "    else:\n",
    "        # 暖房日を時間ごとの配列へ展開 365->24*365\n",
    "        heating_flag_d_t = np.repeat(heating_flag_d, 24)\n",
    "\n",
    "        # (6-2) 空気搬送ファンが稼働しているが非暖房日の場合は循環ポンプは稼働する\n",
    "        f = np.logical_and(0 < t_fan_d_t, heating_flag_d_t == False)\n",
    "        t_cp_d_t[f] = 1.0\n",
    "\n",
    "    return t_cp_d_t"
   ]
  },
  {
   "cell_type": "markdown",
   "metadata": {},
   "source": [
    "#### 8.2　循環ポンプの消費電力量"
   ]
  },
  {
   "cell_type": "markdown",
   "metadata": {},
   "source": [
    "循環ポンプの自立運転用太陽光発電装置を採用する場合、日付$d$の時刻$t$における1 時間当たりの循環ポンプの消費電力量$E_{E,cp,d,t}$は、ゼロとする。"
   ]
  },
  {
   "cell_type": "markdown",
   "metadata": {},
   "source": [
    "循環ポンプの自立運転用太陽光発電装置を採用しない場合、"
   ]
  },
  {
   "cell_type": "markdown",
   "metadata": {},
   "source": [
    "$$\\large\n",
    "E_{E,cp,d,t} = P_{cp} \\times t_{cp,d,t} \\times 10^{-3}\n",
    "$$"
   ]
  },
  {
   "cell_type": "markdown",
   "metadata": {},
   "source": [
    "$E_{E,cp,d,t}$ : 日付$d$の時刻$t$における1時間当たりの循環ポンプの消費電力量(kWh/h)  \n",
    "$P_{cp}$ : 循環ポンプの消費電力(W)    \n",
    "$t_{cp,d,t}$ : 日付$d$の時刻$t$における1時間当たりの循環ポンプの稼働時間(h/h)    "
   ]
  },
  {
   "cell_type": "code",
   "execution_count": null,
   "metadata": {},
   "outputs": [],
   "source": [
    "# 1時間当たりの循環ポンプの消費電力量 (kWh/h) (7)\n",
    "def get_E_E_cp_d_t(pump_sso, t_cp_d_t):\n",
    "    \"\"\"\n",
    "    :param pump_sso: 循環ポンプの自立運転用太陽光発電装置を採用する場合はTrue\n",
    "    :param t_fan_d_t: 1時間当たりの空気搬送ファンの稼働時間 (h/h)\n",
    "    :return: 1時間当たりの循環ポンプの消費電力量 (kWh/h)\n",
    "    \"\"\"\n",
    "    if pump_sso == True:\n",
    "        # 循環ポンプの自立運転用太陽光発電装置を採用する場合は、循環ポンプの消費電力を計上しない\n",
    "        E_E_cp_d_t = np.zeros(24 * 365)\n",
    "    else:\n",
    "        # 循環ポンプの消費電力[W]\n",
    "        P_cp = get_P_cp()\n",
    "\n",
    "        # 1時間当たりの循環ポンプの消費電力量 (kWh/h)\n",
    "        E_E_cp_d_t = P_cp * t_cp_d_t * 10 ** (-3)\n",
    "\n",
    "    return E_E_cp_d_t"
   ]
  },
  {
   "cell_type": "markdown",
   "metadata": {},
   "source": [
    "循環ポンプの消費電力$P_{cp}$は、80 W とする。 "
   ]
  },
  {
   "cell_type": "code",
   "execution_count": null,
   "metadata": {},
   "outputs": [],
   "source": [
    "# 循環ポンプの消費電力[W]\n",
    "def get_P_cp():\n",
    "    return 80.0"
   ]
  },
  {
   "cell_type": "markdown",
   "metadata": {},
   "source": [
    "#### 8.3　タンク蓄熱量の上限による補正集熱量"
   ]
  },
  {
   "cell_type": "markdown",
   "metadata": {},
   "source": [
    "$$\\large\n",
    "\\begin{equation*}\n",
    "   L_{tnk,d} = min \\left( Q_{d} , \\: HC_{tnk,d} \\times \\alpha_{tnk,d} \\right)\n",
    "\\end{equation*}\n",
    "$$"
   ]
  },
  {
   "cell_type": "markdown",
   "metadata": {},
   "source": [
    "$L_{tnk,d}$ : 日付$d$における1日当たりの給湯部におけるタンク蓄熱量の上限による補正集熱量(MJ/d)  \n",
    "$Q_{d}$ : 日付$d$における1日当たりの基準集熱量(MJ/d)  \n",
    "$HC_{tnk,d}$ : 日付$d$における給湯部のタンク蓄熱量の上限(MJ)  \n",
    "$\\alpha_{tnk,d}$ : 日付$d$における給湯部のタンク有効利用率(1/d)  "
   ]
  },
  {
   "cell_type": "code",
   "execution_count": null,
   "metadata": {},
   "outputs": [],
   "source": [
    "# 1日当たりの給湯部におけるタンク蓄熱量の上限による補正集熱量 (MJ/d) (8)\n",
    "def get_L_tnk_d(Q_d, W_tnk, Theta_wtr_d):\n",
    "    \"\"\"\n",
    "    :param Q_d: 1日当たりの基準集熱量 (MJ/d)\n",
    "    :param W_tnk: 給湯部のタンク容量 (L)\n",
    "    :param Theta_wtr_d: 日平均給水温度 (℃)\n",
    "    :return: 1日当たりの給湯部におけるタンク蓄熱量の上限による補正集熱量 (MJ/d)\n",
    "    \"\"\"\n",
    "    # 給湯部のタンク蓄熱量の上限 (MJ/d) (9)\n",
    "    HC_tnk_d = get_HC_tnk_d(W_tnk, Theta_wtr_d)\n",
    "\n",
    "    # 給湯部のタンク有効利用率\n",
    "    alpha_tnk_d = get_alpha_tnk_d()\n",
    "\n",
    "    # 1日当たりの給湯部におけるタンク蓄熱量の上限による補正集熱量 (MJ/d) (8)\n",
    "    L_tnk_d = np.clip(\n",
    "        Q_d,\n",
    "        None,\n",
    "        HC_tnk_d * alpha_tnk_d\n",
    "    )\n",
    "\n",
    "    return L_tnk_d"
   ]
  },
  {
   "cell_type": "markdown",
   "metadata": {},
   "source": [
    "日付$d$における給湯部のタンク有効利用率$\\alpha_{tnk,d}$は、日付$d$によらず1.0とする。 "
   ]
  },
  {
   "cell_type": "code",
   "execution_count": null,
   "metadata": {},
   "outputs": [],
   "source": [
    "# 給湯部のタンク有効利用率 [1/d]\n",
    "def get_alpha_tnk_d():\n",
    "    # 給湯タンク有効利用率は1.0固定とする\n",
    "    return np.ones(365)"
   ]
  },
  {
   "cell_type": "markdown",
   "metadata": {},
   "source": [
    "$$\\large\n",
    "\\begin{equation*}\n",
    "    HC_{tnk,d} = \\left( \\theta_{tnk} - \\theta_{wtr,d} \\right) \\times W_{tnk} \\times 4.186 \\times 10^{-3}\n",
    "\\end{equation*}\n",
    "$$"
   ]
  },
  {
   "cell_type": "markdown",
   "metadata": {},
   "source": [
    "$HC_{tnk,d}$ : 日付$d$における給湯部のタンク蓄熱量の上限(MJ/d)  \n",
    "$\\theta_{tnk}$ : 給湯部のタンク内温度(℃)   \n",
    "$\\theta_{wtr,d}$ : 日付$d$における日平均給水温度(℃)  \n",
    "$W_{tnk}$ : 給湯部のタンク容量(L)  "
   ]
  },
  {
   "cell_type": "markdown",
   "metadata": {},
   "source": [
    "給湯部のタンク内温度$ \\theta_{tnk} $は、65℃とする。"
   ]
  },
  {
   "cell_type": "code",
   "execution_count": null,
   "metadata": {},
   "outputs": [],
   "source": [
    "# 給湯部のタンク蓄熱量の上限 (MJ/d) (9)\n",
    "def get_HC_tnk_d(W_tnk, Theta_wtr_d):\n",
    "    \"\"\"\n",
    "    :param W_tnk: 給湯部のタンク容量 (L)\n",
    "    :param Theta_wtr_d: 日平均給水温度 (℃)\n",
    "    :return: 給湯部のタンク蓄熱量の上限 (MJ/d)\n",
    "    \"\"\"\n",
    "    # 給湯部のタンク内温度 (℃)\n",
    "    Theta_tnk = 65.0\n",
    "\n",
    "    # 給湯部のタンク蓄熱量の上限 (MJ/d)\n",
    "    HC_tnk_d = (Theta_tnk - Theta_wtr_d) * W_tnk * 4.186 * 10 ** (-3)\n",
    "\n",
    "    return HC_tnk_d"
   ]
  },
  {
   "cell_type": "markdown",
   "metadata": {},
   "source": [
    "#### 8.4　基準集熱量"
   ]
  },
  {
   "cell_type": "markdown",
   "metadata": {},
   "source": [
    "$$\\large\n",
    "\\begin{equation*}\n",
    "    Q_{d} = \\sum_{t=0}^{23} \\left( Q_{col,W,d,t} \\times f_{s}\\right)\n",
    "\\end{equation*}\n",
    "$$"
   ]
  },
  {
   "cell_type": "markdown",
   "metadata": {},
   "source": [
    "$f_{s}$ : 給湯部のシステム効率(-)  \n",
    "$Q_{d}$ : 日付$d$における1日当たりの基準集熱量(MJ/d)  \n",
    "$Q_{col,W,d,t}$ : 日付$d$の時刻$t$における1時間当たりの集熱部における集熱量のうちの給湯利用分(MJ/h)   "
   ]
  },
  {
   "cell_type": "markdown",
   "metadata": {},
   "source": [
    "給湯部のシステム効率$f_{s}$は、0.85とする。 "
   ]
  },
  {
   "cell_type": "code",
   "execution_count": null,
   "metadata": {},
   "outputs": [],
   "source": [
    "# 1日当たりの基準集熱量 (MJ/d) (10)\n",
    "def get_Q_d(Q_col_d_t, t_cp_d_t):\n",
    "    \"\"\"\n",
    "    :param Q_col_d_t: 1時間当たりの集熱部における集熱量 (MJ/d)\n",
    "    :param t_cp_d_t: 1時間当たりの循環ポンプの稼働時間 (h/h)\n",
    "    :return: 1日当たりの基準集熱量 (MJ/d)\n",
    "    \"\"\"\n",
    "    # 1時間当たりの集熱部における集熱量のうちの給湯利用分 (11)\n",
    "    Q_col_w_d_t = get_Q_col_w_d_t(Q_col_d_t, t_cp_d_t)\n",
    "\n",
    "    # 給湯部のシステム効率\n",
    "    f_s = 0.85\n",
    "\n",
    "    # 1日当たりの基準集熱量 (MJ/d) (10)\n",
    "    tmp = Q_col_w_d_t * f_s\n",
    "    Q_d = np.sum(tmp.reshape(365, 24), axis=1)\n",
    "\n",
    "    return Q_d"
   ]
  },
  {
   "cell_type": "markdown",
   "metadata": {},
   "source": [
    "$$\\large\n",
    "\\begin{equation*}\n",
    "    Q_{col,W,d,t} = Q_{col,d,t} \\times f_{hx} \\times t_{cp,d,t}\n",
    "\\end{equation*}\n",
    "$$"
   ]
  },
  {
   "cell_type": "markdown",
   "metadata": {},
   "source": [
    "$f_{hx}$ : 給湯部の熱交換効率(-)  \n",
    "$Q_{col,d,t}$ : 日付$d$の時刻$t$における1時間当たりの集熱部における集熱量(MJ/h)   \n",
    "$Q_{col,W,d,t}$ : 日付$d$の時刻$t$における1時間当たりの集熱部における集熱量のうちの給湯利用分(MJ/h)   \n",
    "$t_{cp,d,t}$ : 日付$d$の時刻$t$における1時間当たりの循環ポンプの稼働時間(h/h)   "
   ]
  },
  {
   "cell_type": "markdown",
   "metadata": {},
   "source": [
    "給湯部の熱交換効率$f_{hx}$は、0.25とする。 "
   ]
  },
  {
   "cell_type": "code",
   "execution_count": null,
   "metadata": {},
   "outputs": [],
   "source": [
    "# 1時間当たりの集熱部における集熱量のうちの給湯利用分 (MJ/h) (11)\n",
    "def get_Q_col_w_d_t(Q_col_d_t, t_cp_d_t):\n",
    "    \"\"\"\n",
    "    :param Q_col_d_t: 1時間当たりの集熱部における集熱量 (MJ/d)\n",
    "    :param t_cp_d_t: 1時間当たりの循環ポンプの稼働時間 (h/h)\n",
    "    :return: 1時間当たりの集熱部における集熱量のうちの給湯利用分 (MJ/h)\n",
    "    \"\"\"\n",
    "    # 給湯部の熱交換効率\n",
    "    f_hx = 0.25\n",
    "\n",
    "    # 1時間当たりの集熱部における集熱量のうちの給湯利用分 (MJ/h) (11)\n",
    "    Q_col_w_d_t = Q_col_d_t * f_hx * t_cp_d_t\n",
    "\n",
    "    return Q_col_w_d_t"
   ]
  },
  {
   "cell_type": "markdown",
   "metadata": {},
   "source": [
    "### 9．空気搬送部 "
   ]
  },
  {
   "cell_type": "markdown",
   "metadata": {},
   "source": [
    "#### 9.1　空気搬送ファンの稼働時間"
   ]
  },
  {
   "cell_type": "markdown",
   "metadata": {},
   "source": [
    "$30 \\leq \\theta_{col,nonopg,d,t}$ かつ $25 < \\theta_{col,opg,d,t}$の場合："
   ]
  },
  {
   "cell_type": "markdown",
   "metadata": {},
   "source": [
    "$$\\large\n",
    "\\begin{equation*}\n",
    "   t_{fan,d,t} = 1\n",
    "\\end{equation*}\n",
    "$$"
   ]
  },
  {
   "cell_type": "markdown",
   "metadata": {},
   "source": [
    "$\\theta_{col,nonopg,d,t} < 30$ または $\\theta_{col,opg,d,t} \\leq 25$の場合："
   ]
  },
  {
   "cell_type": "markdown",
   "metadata": {},
   "source": [
    "$$\\large\n",
    "\\begin{equation*}\n",
    "   t_{fan,d,t} = 0\n",
    "\\end{equation*}\n",
    "$$"
   ]
  },
  {
   "cell_type": "markdown",
   "metadata": {},
   "source": [
    "$t_{fan,d,t}$ : 日付$d$の時刻$t$における1時間当たりの空気搬送ファンの稼働時間(h/h)  \n",
    "$\\theta_{col,opg,d,t}$ : 日付$d$の時刻$t$における空気搬送ファン稼働時の集熱部の出口における空気温度(℃)  \n",
    "$\\theta_{col,nonopg,d,t}$ : 日付$d$の時刻$t$における空気搬送ファン停止時の集熱部の出口における空気温度(℃)  "
   ]
  },
  {
   "cell_type": "code",
   "execution_count": null,
   "metadata": {},
   "outputs": [],
   "source": [
    "# 1時間当たりの空気搬送ファンの稼働時間 (h/h) (12)\n",
    "def get_t_fan_d_t(Theta_col_nonopg_d_t, Theta_col_opg_d_t):\n",
    "    \"\"\"\n",
    "    :param Theta_col_nonopg_d_t: 空気搬送ファン停止時の集熱部の出口における空気温度 (℃)\n",
    "    :param Theta_col_opg_d_t:  空気搬送ファン稼働時の集熱部の出口における空気温度 (℃)\n",
    "    :return: 1時間当たりの空気搬送ファンの稼働時間 (h/h)\n",
    "    \"\"\"\n",
    "    # 空気搬送ファン稼働時の集熱部の出口における空気温度が25度より大、かつ\n",
    "    # 空気搬送ファン停止時の集熱部の出口における空気温度が30度以上の場合に稼働する\n",
    "    t_fan_d_t = np.zeros(24 * 365)\n",
    "    f = np.logical_and(30 <= Theta_col_nonopg_d_t, 25 < Theta_col_opg_d_t)\n",
    "    t_fan_d_t[f] = 1\n",
    "\n",
    "    return t_fan_d_t"
   ]
  },
  {
   "cell_type": "markdown",
   "metadata": {},
   "source": [
    "#### 9.2　空気搬送ファンの風量"
   ]
  },
  {
   "cell_type": "markdown",
   "metadata": {},
   "source": [
    "$$\\large\n",
    "\\begin{equation*}\n",
    "   V_{fan,d,t} = V_{fan,P0} \\times t_{fan,d,t}\n",
    "\\end{equation*}\n",
    "$$"
   ]
  },
  {
   "cell_type": "markdown",
   "metadata": {},
   "source": [
    "$t_{fan,d,t}$ : 日付$d$の時刻$t$における1時間当たりの空気搬送ファンの稼働時間(h/h)  \n",
    "$V_{fan,d,t}$ : 日付$d$の時刻$t$における1時間当たりの空気搬送ファンの風量(m<sup>3</sup>/h)  \n",
    "$V_{fan,P0}$ : 空気搬送ファンの送風機特性曲線において機外静圧をゼロとした時の空気搬送ファンの風量(m<sup>3</sup>/h)  "
   ]
  },
  {
   "cell_type": "code",
   "execution_count": null,
   "metadata": {},
   "outputs": [],
   "source": [
    "# 1時間当たりの空気搬送ファンの風量 (m3/h) (13)\n",
    "def get_V_fan_d_t(t_fan_d_t, V_fan_P0):\n",
    "    \"\"\"\n",
    "    :param t_fan_d_t: 1時間当たりの空気搬送ファンの稼働時間 (h/h)\n",
    "    :param V_fan_P0: 空気搬送ファンの送風機特性曲線において機外静圧をゼロとした時の空気搬送ファンの風量 (m3/h)\n",
    "    :return: 1時間当たりの空気搬送ファンの風量 (m3/h)\n",
    "    \"\"\"\n",
    "    V_fan_d_t = V_fan_P0 * t_fan_d_t\n",
    "    return V_fan_d_t"
   ]
  },
  {
   "cell_type": "markdown",
   "metadata": {},
   "source": [
    "#### 9.3　空気搬送ファンの消費電力量"
   ]
  },
  {
   "cell_type": "markdown",
   "metadata": {},
   "source": [
    "空気搬送ファンの自立運転用太陽光発電装置を採用する場合、日付$d$の時刻$t$における1 時間当たりの空気搬送ファンの消費電力量$E_{E,fan,d,t}$は、ゼロとする。 "
   ]
  },
  {
   "cell_type": "markdown",
   "metadata": {},
   "source": [
    "空気搬送ファンの自立運転用太陽光発電装置を採用しない場合、"
   ]
  },
  {
   "cell_type": "markdown",
   "metadata": {},
   "source": [
    "$$\\large\n",
    "\\begin{equation*}\n",
    "    E_{E,fan,d,t} =f_{SFP} \\times V_{fan,d,t} \\times t_{fan,d,t} \\times 10^{-3}\n",
    "\\end{equation*}\n",
    "$$"
   ]
  },
  {
   "cell_type": "markdown",
   "metadata": {},
   "source": [
    "$E_{E,fan,d,t}$ : 日付$d$の時刻$t$における1時間当たりの空気搬送ファンの消費電力量(kWh/h)  \n",
    "$f_{SFP}$ : 空気搬送ファンの比消費電力(W/(m<sup>3</sup>/h))  \n",
    "$t_{fan,d,t}$ : 日付$d$の時刻$t$における1時間当たりの空気搬送ファンの稼働時間(h/h)  \n",
    "$V_{fan,d,t}$ : 日付$d$の時刻$t$における1時間当たりの空気搬送ファンの風量(m<sup>3</sup>/h)  "
   ]
  },
  {
   "cell_type": "code",
   "execution_count": null,
   "metadata": {},
   "outputs": [],
   "source": [
    "# 1時間当たりの空気搬送ファンの消費電力量 (kWh/h) (14)\n",
    "def get_E_E_fan_d_t(fan_sso, fan_type, V_fan_d_t, t_fan_d_t):\n",
    "    \"\"\"\n",
    "    :param fan_sso: 空気搬送ファンの自立運転用太陽光発電装置を採用する場合はTrue\n",
    "    :param fan_type: ファンの種別\n",
    "    :param V_fan_d_t: 1時間当たりの空気搬送ファンの風量 (m3/h)\n",
    "    :param t_fan_d_t: 1時間当たりの空気搬送ファンの稼働時間 (h/h)\n",
    "    :return: 1時間当たりの空気搬送ファンの消費電力量 (kWh/h)\n",
    "    \"\"\"\n",
    "    if fan_sso == True:\n",
    "        # 空気搬送ファンの自立運転用太陽光発電装置を採用する場合は、空気搬送ファンの消費電力を計上しない\n",
    "        E_E_fan_d_t = np.zeros(24 * 365)\n",
    "    else:\n",
    "        # 空気搬送ファンの比消費電力 (W/(m3/h))\n",
    "        f_SFP = get_f_SFP(fan_type)\n",
    "\n",
    "        # 1時間当たりの空気搬送ファンの消費電力量 (kWh/h) (14)\n",
    "        E_E_fan_d_t = f_SFP * V_fan_d_t * t_fan_d_t * 10 ** (-3)\n",
    "\n",
    "    return E_E_fan_d_t"
   ]
  },
  {
   "cell_type": "code",
   "execution_count": null,
   "metadata": {},
   "outputs": [],
   "source": [
    "# 空気搬送ファンの比消費電力 (W/(m3/h))\n",
    "def get_f_SFP(fan_type):\n",
    "    \"\"\"\n",
    "    :param fan_type: ファンの種別\n",
    "    :return: 空気搬送ファンの比消費電力 (W/(m3/h))\n",
    "    \"\"\"\n",
    "    if fan_type == 'AC':\n",
    "        return table_1[0]\n",
    "    elif fan_type == 'DC':\n",
    "        return table_1[1]\n",
    "    else:\n",
    "        raise ValueError(fan_type)"
   ]
  },
  {
   "cell_type": "markdown",
   "metadata": {},
   "source": [
    "<div style=\"text-align: center;font-weight: bold;\">表　空気搬送ファンの比消費電力$f_{SFP}$</div>\n",
    "\n",
    "|ファンの種別|ファンの比消費電力$f_{SFP}$<br/>(W/(m<sup>3</sup>/h))|\n",
    "|-|-|\n",
    "|ACファン|0.4|\n",
    "|DCファン|0.2|\n"
   ]
  },
  {
   "cell_type": "code",
   "execution_count": null,
   "metadata": {},
   "outputs": [],
   "source": [
    "# 表1 空気搬送ファンの比消費電力 f_SFP\n",
    "table_1 = (0.4, 0.2)"
   ]
  },
  {
   "cell_type": "markdown",
   "metadata": {},
   "source": [
    "#### 9.4　床下空間または居室へ供給する空気の風量"
   ]
  },
  {
   "cell_type": "markdown",
   "metadata": {},
   "source": [
    "$$\n",
    "\\large\n",
    "V_{sa,d,t,i} = \\left\\{\n",
    "\\begin{array}{ll}\n",
    "V_{sa,d,t,A} \\times \\frac{A_{HCZ,i}}{A_{MR} + A_{OR}} & (i = 1～5 の場合)\\\\\n",
    "0 & (i = 6～12 の場合)\\\\\n",
    "\\end{array}\n",
    "\\right.\n",
    "$$"
   ]
  },
  {
   "cell_type": "markdown",
   "metadata": {},
   "source": [
    "$A_{HCZ,i}$ : 暖冷房区画$i$の床面積(m<sup>2</sup>)  \n",
    "$A_{MR}$ : 主たる居室の床面積(m<sup>2</sup>)  \n",
    "$A_{OR}$ : その他の居室の床面積(m<sup>2</sup>)  \n",
    "$V_{sa,d,t,A}$ : 日付$d$の時刻$t$における1時間当たりの床下空間または居室へ供給する空気の風量の合計(m<sup>3</sup>/h)  \n",
    "$V_{sa,d,t,i}$ : 日付$d$の時刻$t$における暖冷房区画$i$の1時間当たりの床下空間または居室へ供給する空気の風量(m<sup>3</sup>/h)  "
   ]
  },
  {
   "cell_type": "code",
   "execution_count": null,
   "metadata": {},
   "outputs": [],
   "source": [
    "# 1時間当たりの床下空間または居室へ供給する空気の風量 (m3/h) (15)\n",
    "def get_V_sa_d_t_i(i, A_HCZ_i, A_MR, A_OR, V_sa_d_t_A):\n",
    "    \"\"\"\n",
    "    :param i: 暖冷房区画の番号\n",
    "    :param A_HCZ_i: 暖冷房区画iの床面積 (m2)\n",
    "    :param A_MR: 主たる居室の床面積 (m2)\n",
    "    :param A_OR: その他の居室の床面積 (m2)\n",
    "    :param V_fan_d_t: 1時間当たりの空気搬送ファンの風量のうち床下空間または居室へ供給する風量の割合 (-)\n",
    "    :param t_fan_d_t: 1時間当たりの床下空間または居室へ供給する1時間当たりの空気の風量の合計 (m3/h)\n",
    "    :param heating_flag_d: 暖房日であればTrue\n",
    "    :param r_sa_d_t: 1時間当たりの空気搬送ファンの風量のうち床下空間または居室へ供給する風量の割合\n",
    "    :param V_sa_d_t_A: 床下空間または居室へ供給する1時間当たりの空気の風量の合計\n",
    "    :return: 1時間当たりの床下空間または居室へ供給する空気の風量 (m3/h)\n",
    "    \"\"\"\n",
    "    if i in [1, 2, 3, 4, 5]:\n",
    "        return V_sa_d_t_A * A_HCZ_i / (A_MR + A_OR)\n",
    "\n",
    "    elif i in [6, 7, 8, 9, 10, 11, 12]:\n",
    "        return np.zeros(24 * 365)\n",
    "\n",
    "    else:\n",
    "        raise ValueError(i)"
   ]
  },
  {
   "cell_type": "markdown",
   "metadata": {},
   "source": [
    "$$\n",
    "\\large\n",
    "V_{sa,d,t,A} = V_{fan,d,t} \\times r_{sa,d,t}\n",
    "$$"
   ]
  },
  {
   "cell_type": "markdown",
   "metadata": {},
   "source": [
    "$r_{sa,d,t}$ : 日付$d$の時刻$t$における1 時間当たりの空気搬送ファンの風量のうち床下空間または居室へ供給する風量の割合(-)   \n",
    "$V_{fan,d,t}$ : 日付$d$の時刻$t$における1 時間当たりの空気搬送ファンの風量(m<sup>3</sup>/h)  \n",
    "$V_{sa,d,t,A}$ : 日付$d$の時刻$t$における1時間当たりの床下空間または居室へ供給する空気の風量の合計(m<sup>3</sup>/h)  "
   ]
  },
  {
   "cell_type": "code",
   "execution_count": null,
   "metadata": {},
   "outputs": [],
   "source": [
    "# 床下空間または居室へ供給する1時間当たりの空気の風量の合計 (m3/h) (16)\n",
    "def get_V_sa_d_t_A(V_fan_d_t, r_sa_d_t):\n",
    "    \"\"\"\n",
    "    :param V_fan_d_t: 1時間当たりの空気搬送ファンの風量 (m3/h)\n",
    "    :param r_sa_d_t: 1時間当たりの空気搬送ファンの風量のうち床下空間または居室へ供給する風量の割合 (-)\n",
    "    :return: 床下空間または居室へ供給する1時間当たりの空気の風量の合計 (m3/h)\n",
    "    \"\"\"\n",
    "    V_sa_d_t_A = V_fan_d_t * r_sa_d_t\n",
    "\n",
    "    return V_sa_d_t_A"
   ]
  },
  {
   "cell_type": "markdown",
   "metadata": {},
   "source": [
    "$t_{fan,d,t} = 0$、または、日付$d$が非暖房日の場合： "
   ]
  },
  {
   "cell_type": "markdown",
   "metadata": {},
   "source": [
    "$$\\large\n",
    "r_{sa,d,t} = 0\n",
    "$$"
   ]
  },
  {
   "cell_type": "markdown",
   "metadata": {},
   "source": [
    "$0 < t_{fan,d,t}$ かつ日付$d$が暖房日の場合： "
   ]
  },
  {
   "cell_type": "markdown",
   "metadata": {},
   "source": [
    "$$\\large\n",
    "r_{sa,d,t} = 1\n",
    "$$"
   ]
  },
  {
   "cell_type": "markdown",
   "metadata": {},
   "source": [
    "$r_{sa,d,t}$ : 日付$d$の時刻$t$における1 時間当たりの空気搬送ファンの風量のうち床下空間または居室へ供給する風量の割合(-)   \n",
    "$t_{fan,d,t}$ : 日付$d$の時刻$t$における1時間当たりの空気搬送ファンの稼働時間(h/h)  "
   ]
  },
  {
   "cell_type": "code",
   "execution_count": null,
   "metadata": {},
   "outputs": [],
   "source": [
    "# 1時間当たりの空気搬送ファンの風量のうち床下空間または居室へ供給する風量の割合 (17)\n",
    "def get_r_sa_d_t(t_fan_d_t, heating_flag_d):\n",
    "    \"\"\"\n",
    "    :param t_fan_d_t: 1時間当たりの空気搬送ファンの稼働時間 (h/h)\n",
    "    :param heating_flag_d: 暖房日であればTrue\n",
    "    :return: 1時間当たりの空気搬送ファンの風量のうち床下空間または居室へ供給する風量の割合 (-)\n",
    "    \"\"\"\n",
    "    # 暖房日を時間ごとの配列へ展開 365->24*365\n",
    "    heating_flag_d_t = np.repeat(heating_flag_d, 24)\n",
    "\n",
    "    # 空気搬送ファンの風量が0より大きい、かつ、暖房日である\n",
    "    r_sa_d_t = np.zeros(24 * 365)\n",
    "    f = np.logical_and(0.0 < t_fan_d_t, heating_flag_d_t == True)\n",
    "    r_sa_d_t[f] = 1.0\n",
    "\n",
    "    return r_sa_d_t"
   ]
  },
  {
   "cell_type": "markdown",
   "metadata": {},
   "source": [
    "#### 9.5　床下空間または居室へ供給する空気の温度"
   ]
  },
  {
   "cell_type": "markdown",
   "metadata": {},
   "source": [
    "$$\\large\n",
    "\\begin{equation*}\n",
    "   \\theta_{sa,d,t} = \\theta_{col,opg,d,t} - \\frac{Q_{col,W,d,t}}{\\rho_{air} \\times c_{p_{air}} \\times V_{fan,d,t}}\n",
    "\\end{equation*}\n",
    "$$"
   ]
  },
  {
   "cell_type": "markdown",
   "metadata": {},
   "source": [
    "$c_{p_{air}}$： 空気の比熱(kJ/(kg・K))   \n",
    "$Q_{col,W,d,t}$ : 日付$d$の時刻$t$における1 時間当たりの集熱部における集熱量のうちの給湯利用分(MJ/h)   \n",
    "$V_{fan,d,t}$ : 日付$d$の時刻$t$における1 時間当たりの空気搬送ファンの風量(m<sup>3</sup>/h)  \n",
    "$\\theta_{col,opg,d,t}$：日付$d$の時刻$t$における空気搬送ファン稼働時の集熱部の出口における空気温度(℃)  \n",
    "$\\theta_{sa,d,t}$：日付$d$の時刻$t$において床下空間または居室へ供給する空気の温度(℃)  \n",
    "$\\rho_{air}$：空気の密度(kg/m<sup>3</sup>)  "
   ]
  },
  {
   "cell_type": "markdown",
   "metadata": {},
   "source": [
    "空気の密度$\\rho_{air}$は、1.20 kg/m<sup>3</sup> とする。空気の比熱$c_{p_{air}}$は、1.006 kJ/(kg・K)とする。 "
   ]
  },
  {
   "cell_type": "code",
   "execution_count": null,
   "metadata": {},
   "outputs": [],
   "source": [
    "# 床下空間または居室へ供給する空気の温度 (℃) (18)\n",
    "def get_Theta_sa_d_t(V_fan_d_t, Theta_col_opg_d_t, Q_col_W_d_t):\n",
    "    \"\"\"\n",
    "    :param V_fan_d_t: 1時間当たりの空気搬送ファンの風量 (m3/h)\n",
    "    :param Theta_col_opg_d_t:  空気搬送ファンの稼働時の集熱部の出口における空気温度 (℃)\n",
    "    :param Q_col_W_d_t: 1時間当たりの集熱部における集熱量のうちの給湯利用分 (MJ/h)\n",
    "    :return: 床下空間または居室へ供給する空気の温度 (℃)\n",
    "    \"\"\"\n",
    "    # 空気の密度 [kg/m3]\n",
    "    ro_air = 1.20\n",
    "\n",
    "    # 空気の比熱 [kJ/(kgK)]\n",
    "    c_p_air = 1.006\n",
    "\n",
    "    # 床下空間または居室へ供給する空気の温度 (℃) (18)\n",
    "    Theta_sa_d_t = np.copy(Theta_col_opg_d_t)\n",
    "    f = V_fan_d_t > 0\n",
    "    Theta_sa_d_t[f] = Theta_col_opg_d_t[f] - (Q_col_W_d_t[f] / (ro_air * c_p_air * V_fan_d_t[f]))\n",
    "\n",
    "    return Theta_sa_d_t"
   ]
  },
  {
   "cell_type": "markdown",
   "metadata": {},
   "source": [
    "### 10．集熱部 "
   ]
  },
  {
   "cell_type": "code",
   "execution_count": null,
   "metadata": {},
   "outputs": [],
   "source": [
    "# 空気搬送ファン停止時および稼働時の集熱部の出口における空気温度 (℃)\n",
    "def calc_Theta_col(A_col, P_alpha, P_beta, V_fan_P0, d0, d1, m_fan_test, region, sol_region, Theta_ex_d_t):\n",
    "    \"\"\"\n",
    "    :param A_col: 集熱器群の面積 (m2)\n",
    "    :param V_fan_P0: 空気搬送ファンの送風機特性曲線において機外静圧をゼロとしたときの空気搬送ファンの風量 (m3/h)\n",
    "    :param d0: 集熱器群を構成する集熱器の集熱効率特性線図一次近似式の切片 (-)\n",
    "    :param d1: 集熱器群を構成する集熱器の集熱効率特性線図一次近似式の傾き (W/(m2K))\n",
    "    :param m_fan_test: 集熱器群を構成する集熱器の集熱性能試験時における単位面積当たりの空気の質量流量 (kg/(s・m2))\n",
    "    :param region: 省エネルギー地域区分\n",
    "    :param sol_region: 年間日射地域区分(1-5)\n",
    "    :param Theta_ex_d_t: 外気温度 (℃)\n",
    "    :return: 空気搬送ファン停止時および稼働時の集熱部の出口における空気温度 (℃)\n",
    "    \"\"\"\n",
    "    # 集熱器群の数\n",
    "    n = len(A_col)\n",
    "\n",
    "    # 作業領域の確保\n",
    "    V_col_j_d_t = np.zeros((n, 24 * 365))\n",
    "    Theta_col_nonopg_j_d_t = np.zeros((n, 24 * 365))\n",
    "    Theta_col_opg_j_d_t = np.zeros((n, 24 * 365))\n",
    "\n",
    "    for j in range(1, n + 1):\n",
    "        # 空気搬送ファン稼働時に集熱器群jを流れる空気の体積流量 (m3/h) (24)\n",
    "        V_col_j_d_t[j - 1, :] = get_V_col_j_d_t(V_fan_P0, A_col[j - 1], A_col)\n",
    "\n",
    "        # 空気搬送ファン停止時の集熱器群jの出口における空気温度 (℃) (22)\n",
    "        Theta_col_nonopg_j_d_t[j - 1, :] = get_Theta_col_nonopg_j_d_t(\n",
    "            P_alpha_j=P_alpha,\n",
    "            P_beta_j=P_beta[j - 1],\n",
    "            region=region,\n",
    "            sol_region=sol_region,\n",
    "            Theta_ex_d_t=Theta_ex_d_t,\n",
    "            d0_j=d0[j - 1],\n",
    "            d1_j=d1[j - 1]\n",
    "        )\n",
    "\n",
    "        # 集熱器群jを構成する集熱器の総合熱損失係数 (25)\n",
    "        U_c_j = get_U_c_j(m_fan_test[j - 1], d1[j - 1])\n",
    "\n",
    "        # 空気搬送ファン稼働時に集熱器群jを流れる空気の体積流量 (24)\n",
    "        V_col_j_d_t[j - 1, :] = get_V_col_j_d_t(V_fan_P0, A_col[j - 1], A_col)\n",
    "\n",
    "        # 空気搬送ファン稼働時の集熱器群jの出口における空気温度 (℃) (23)\n",
    "        Theta_col_opg_j_d_t[j - 1, :] = get_Theta_col_opg_j_d_t(\n",
    "            V_col_j_d_t=V_col_j_d_t[j - 1],\n",
    "            A_col_j=A_col[j - 1],\n",
    "            U_c_j=U_c_j,\n",
    "            Theta_col_nonopg_j_d_t=Theta_col_nonopg_j_d_t[j - 1],\n",
    "            Theta_ex_d_t=Theta_ex_d_t\n",
    "        )\n",
    "    # 空気搬送ファン稼働時の集熱部の出口における空気温度 (℃) (21)\n",
    "    Theta_col_opg_d_t = get_Theta_col_opg_d_t(Theta_col_opg_j_d_t, V_col_j_d_t)\n",
    "\n",
    "    # 空気搬送ファン停止時の集熱部の出口における空気温度 (℃) (20)\n",
    "    Theta_col_nonopg_d_t = get_Theta_col_nonopg_d_t(Theta_col_nonopg_j_d_t, V_col_j_d_t)\n",
    "\n",
    "    return Theta_col_nonopg_d_t, Theta_col_opg_d_t"
   ]
  },
  {
   "cell_type": "markdown",
   "metadata": {},
   "source": [
    "#### 10.1　集熱量"
   ]
  },
  {
   "cell_type": "markdown",
   "metadata": {},
   "source": [
    "$$\\large\n",
    "\\begin{equation*}\n",
    "   Q_{col,d,t} = \\rho_{air} \\times c_{p_{air}} \\times V_{fan,d,t} \\times \\left( \\theta_{col,opg,d,t} - \\theta_{ex,d,t} \\right) \\times 10^{-3}\n",
    "\\end{equation*}\n",
    "$$"
   ]
  },
  {
   "cell_type": "markdown",
   "metadata": {},
   "source": [
    "$c_{p_{air}}$ : 空気の比熱(kJ/(kg$\\cdot$K))  \n",
    "$Q_{col,d,t}$ : 空日付$d$の時刻$t$における1時間当たりの集熱部における集熱量(MJ/h)  \n",
    "$V_{fan,d,t}$ : 日付$d$の時刻$t$における1時間当たりの空気搬送ファンの風量(m<sup>3</sup>/h)  \n",
    "$\\theta_{col,opg,d,t}$ : 日付$d$の時刻$t$における空気搬送ファン稼働時の集熱部の出口における空気温度(℃)  \n",
    "$\\theta_{ex,d,t}$ : 日付$d$の時刻$t$における外気温度(℃)  \n",
    "$\\rho_{air}$ : 空気の密度(kg/m<sup>3</sup>)  "
   ]
  },
  {
   "cell_type": "markdown",
   "metadata": {},
   "source": [
    "空気の密度$\\rho_{air}$は、1.20 kg/m<sup>3</sup> とする。空気の比熱$c_{p_{air}}$は、1.006 kJ/(kg・K)とする。 "
   ]
  },
  {
   "cell_type": "code",
   "execution_count": null,
   "metadata": {},
   "outputs": [],
   "source": [
    "# 1時間当たりの集熱部における集熱量 (MJ/h) (19)\n",
    "def get_Q_col_d_t(V_fan_d_t, Theta_col_opg_d_t, Theta_ex_d_t):\n",
    "    \"\"\"\n",
    "    :param V_fan_d_t: 1時間当たりの空気搬送ファンの風量 (m3/h)\n",
    "    :param Theta_col_opg_d_t: 空気搬送ファン稼働時の集熱部の出口における空気温度 (℃)\n",
    "    :param Theta_ex_d_t: 外気温度 (℃)\n",
    "    :return: 1時間当たりの集熱部における集熱量 (MJ/h)\n",
    "    \"\"\"\n",
    "    # 空気の密度 [kg/m3]\n",
    "    ro_air = 1.20\n",
    "\n",
    "    # 空気の比熱 [kJ/(kgK)]\n",
    "    c_p_air = 1.006\n",
    "\n",
    "    # 1時間当たりの集熱部における集熱量 (MJ/h) (19)\n",
    "    Q_col_d_t = ro_air * c_p_air * V_fan_d_t * (Theta_col_opg_d_t - Theta_ex_d_t) * 10 ** (-3)\n",
    "\n",
    "    return Q_col_d_t"
   ]
  },
  {
   "cell_type": "markdown",
   "metadata": {},
   "source": [
    "#### 10.2　空気搬送ファン停止時の集熱部の出口における空気温度"
   ]
  },
  {
   "cell_type": "markdown",
   "metadata": {},
   "source": [
    "$$\\large\n",
    "\\begin{equation*}\n",
    "   \\theta_{col,nonopg,d,t} = \\frac{\\displaystyle \\sum_{j=1}^{n} \\left( \\theta_{col,nonopg,j,d,t} \\times V_{col,j,d,t} \\right)}{\\displaystyle \\sum_{j=1}^{n} V_{col,j,d,t}}\n",
    "\\end{equation*}\n",
    "$$"
   ]
  },
  {
   "cell_type": "markdown",
   "metadata": {},
   "source": [
    "$n$ : 集熱器群の数(-)  \n",
    "$V_{col,j,d,t}$ : 日付$d$の時刻$t$における空気集熱ファン稼働時に集熱器群$j$を流れる空気の体積流量(m<sup>3</sup>/h)  \n",
    "$\\theta_{col,nonopg,d,t}$ : 日付$d$の時刻$t$における空気搬送ファン停止時の集熱部の出口における空気温度(℃)  \n",
    "$\\theta_{col,nonopg,j,d,t}$ : 日付$d$の時刻$t$における空気搬送ファン停止時の集熱器群$j$の出口における空気温度(℃)  "
   ]
  },
  {
   "cell_type": "code",
   "execution_count": null,
   "metadata": {},
   "outputs": [],
   "source": [
    "# 空気搬送ファン停止時の集熱部の出口における空気温度 (℃) (20)\n",
    "def get_Theta_col_nonopg_d_t(Theta_col_nonopg_j_d_t, V_col_j_d_t):\n",
    "    \"\"\"\n",
    "    :param Theta_col_nonopg_j_d_t: 空気搬送ファン停止時の集熱器群ごとの出口における空気温度 (℃)\n",
    "    :param V_col_j_d_t: 空気搬送ファン稼働時に集熱器群ごとに流れる空気の体積流量 (m3/h)\n",
    "    :return: 空気搬送ファン停止時の集熱部の出口における空気温度 (℃)\n",
    "    \"\"\"\n",
    "    # 集熱器群の数 (-)\n",
    "    n = Theta_col_nonopg_j_d_t.shape[0]\n",
    "\n",
    "    # 空気搬送ファン停止時の集熱部の出口における空気温度 (℃)\n",
    "    Theta_col_nonopg_d_t = \\\n",
    "        np.sum([Theta_col_nonopg_j_d_t[j] * V_col_j_d_t[j] for j in range(n)], axis=0) \\\n",
    "        / np.sum([V_col_j_d_t[j] for j in range(n)], axis=0)\n",
    "\n",
    "    return Theta_col_nonopg_d_t"
   ]
  },
  {
   "cell_type": "markdown",
   "metadata": {},
   "source": [
    "#### 10.3　空気搬送ファン稼働時の集熱部の出口における空気温度"
   ]
  },
  {
   "cell_type": "markdown",
   "metadata": {},
   "source": [
    "$$\\large\n",
    "\\begin{equation*}\n",
    "   \\theta_{col,opg,d,t} = \\frac{\\displaystyle \\sum_{j=1}^{n} \\left( \\theta_{col,opg,j,d,t} \\times V_{col,j,d,t} \\right)}{\\displaystyle \\sum_{j=1}^{n} V_{col,j,d,t}}\n",
    "\\end{equation*}\n",
    "$$"
   ]
  },
  {
   "cell_type": "markdown",
   "metadata": {},
   "source": [
    "$n$ : 集熱器群の数(-)  \n",
    "$V_{col,j,d,t}$ : 日付$d$の時刻$t$における空気集熱ファン稼働時に集熱器群$j$を流れる空気の体積流量(m<sup>3</sup>/h)  \n",
    "$\\theta_{col,opg,d,t}$ : 日付$d$の時刻$t$における空気搬送ファン稼働時の集熱部の出口における空気温度(℃)  \n",
    "$\\theta_{col,opg,j,d,t}$ : 日付$d$の時刻$t$における空気搬送ファン稼働時の集熱器群$j$の出口における空気温度(℃)  "
   ]
  },
  {
   "cell_type": "code",
   "execution_count": null,
   "metadata": {},
   "outputs": [],
   "source": [
    "# 空気搬送ファン稼働時の集熱部の出口における空気温度 (℃) (21)\n",
    "def get_Theta_col_opg_d_t(Theta_col_opg_j_d_t, V_col_j_d_t):\n",
    "    \"\"\"\n",
    "    :param Theta_col_opg_j_d_t: 空気搬送ファン稼働時の集熱器群ごとの出口における空気温度 (℃)\n",
    "    :param V_col_j_d_t: 空気搬送ファン稼働時に集熱器群ごとの空気の体積流量 (m3/h)\n",
    "    :return: 空気搬送ファン稼働時の集熱部の出口における空気温度 (℃)\n",
    "    \"\"\"\n",
    "    # 集熱器群の数 (-)\n",
    "    n = Theta_col_opg_j_d_t.shape[0]\n",
    "\n",
    "    # 空気搬送ファン稼働時の集熱部の出口における空気温度 (℃) (21)\n",
    "    Theta_col_opg_d_t = \\\n",
    "        np.sum([Theta_col_opg_j_d_t[j] * V_col_j_d_t[j] for j in range(n)], axis=0) \\\n",
    "        / np.sum([V_col_j_d_t[j] for j in range(n)], axis=0)\n",
    "\n",
    "    return Theta_col_opg_d_t"
   ]
  },
  {
   "cell_type": "markdown",
   "metadata": {},
   "source": [
    "#### 10.4　空気搬送ファン停止時の集熱器群の出口における空気温度"
   ]
  },
  {
   "cell_type": "markdown",
   "metadata": {},
   "source": [
    "$$\\large\n",
    "\\begin{equation*}\n",
    "   \\theta_{col,nonopg,j,d,t} = \\frac{d_{0,j}}{d_{1,j}} ・ I_{s,j,d,t} + \\theta_{ex,d,t}\n",
    "\\end{equation*}\n",
    "$$"
   ]
  },
  {
   "cell_type": "markdown",
   "metadata": {},
   "source": [
    "$d_{0,j}$ : 集熱器群$j$を構成する集熱器の集熱効率特性線図一次近似式の切片(-)  \n",
    "$d_{1,j}$ : 集熱器群$j$を構成する集熱器の集熱効率特性線図一次近似式の傾き(W/(m<sup>2</sup>$\\cdot$K))  \n",
    "$I_{s,j,d,t}$ : 日付$d$の時刻$t$における集熱器群$j$の単位面積当たりの平均日射量(W/m<sup>2</sup>)  \n",
    "$\\theta_{ex,d,t}$ : 日付$d$の時刻$t$における外気温度(℃)  \n",
    "$\\theta_{col,nonopg,j,d,t}$ : 日付$d$の時刻$t$における空気搬送ファン停止時の集熱器群$j$の出口における空気温度(℃)  "
   ]
  },
  {
   "cell_type": "code",
   "execution_count": null,
   "metadata": {},
   "outputs": [],
   "source": [
    "# 空気搬送ファン停止時の集熱器群jの出口における空気温度 (℃) (22)\n",
    "def get_Theta_col_nonopg_j_d_t(P_alpha_j, P_beta_j, region, sol_region, Theta_ex_d_t, d0_j=None, d1_j=None):\n",
    "    \"\"\"\n",
    "    :param P_alpha_j: 方位角 (°)\n",
    "    :param P_beta_j: 傾斜角 (°)\n",
    "    :param d0_j: 集熱器群jを構成する集熱器の集熱効率特性線図一次近似式の切片 (-)\n",
    "    :param d1_j: 集熱器群jを構成する集熱器の集熱効率特性線図一次近似式の傾き (W/(m2K))\n",
    "    :param region: 省エネルギー地域区分\n",
    "    :param sol_region: 年間日射地域区分(1-5)\n",
    "    :return: 空気搬送ファン停止時の集熱器群jの出口における空気温度 (℃)\n",
    "    \"\"\"\n",
    "    # 日射量データの読み込み\n",
    "    from section11_2 import load_solrad, get_Theta_ex\n",
    "    solrad = load_solrad(region, sol_region)\n",
    "\n",
    "    # 単位面積当たりの平均日射量[W/m2]\n",
    "    I_s_j_d_t = get_I_s_d_t(P_alpha_j, P_beta_j, solrad)\n",
    "\n",
    "    # 集熱効率特性線図一次近似式の切片および傾きの解決\n",
    "    if d0_j is None:\n",
    "        d0_j = get_d0_default()\n",
    "    if d1_j is None:\n",
    "        d1_j = get_d1_default()\n",
    "\n",
    "    # 空気搬送ファン停止時の集熱器群jの出口における空気温度(℃)\n",
    "    Theta_col_nonopg_j_d_t = d0_j / d1_j * I_s_j_d_t + Theta_ex_d_t\n",
    "\n",
    "    return Theta_col_nonopg_j_d_t"
   ]
  },
  {
   "cell_type": "code",
   "execution_count": null,
   "metadata": {},
   "outputs": [],
   "source": [
    "# 集熱効率特性線図一次近似式の切片(規定値)[-]\n",
    "def get_d0_default():\n",
    "    return 0.1\n",
    "\n",
    "\n",
    "# 集熱効率特性線図一次近似式の傾き(規定値)[m2K]\n",
    "def get_d1_default():\n",
    "    return 2.0"
   ]
  },
  {
   "cell_type": "markdown",
   "metadata": {},
   "source": [
    "#### 10.5　空気搬送ファン稼働時の集熱器群の出口における空気温度"
   ]
  },
  {
   "cell_type": "markdown",
   "metadata": {},
   "source": [
    "$$\\large\n",
    "\\begin{equation*}\n",
    "   \\theta_{col,opg,j,d,t} = \\theta_{col,nonopg,j,d,t} + \\left( \\theta_{ex,d,t} - \\theta_{col,nonopg,j,d,t} \\right) \\times e^{- \\frac{U_{c,j} \\times A_{col,j}}{c_{p_{air}} \\times \\rho_{air} \\times V_{col,j,d,t} \\div 3600 \\times 10^{3}}}\n",
    "\\end{equation*}\n",
    "$$"
   ]
  },
  {
   "cell_type": "markdown",
   "metadata": {},
   "source": [
    "$A_{col,j}$ : 集熱器群$j$の面積(m<sup>2</sup>)  \n",
    "$c_{p_{air}}$ : 空気の比熱(kJ/(kg$\\cdot$K))  \n",
    "$U_{c,j}$ : 集熱器群$j$を構成する集熱器の集熱器総合熱損失係数(W/(m<sup>2</sup>$\\cdot$K))  \n",
    "$V_{col,j,d,t}$ : 日付$d$の時刻$t$における空気集熱ファン稼働時に集熱器群$j$を流れる空気の体積流量(m<sup>3</sup>/h)  \n",
    "$\\theta_{col,opg,j,d,t}$ : 日付$d$の時刻$t$における空気搬送ファン稼働時の集熱器群$j$の出口における空気温度(℃)  \n",
    "$\\theta_{col,nonopg,j,d,t}$ : 日付$d$の時刻$t$における空気搬送ファン停止時の集熱器群$j$の出口における空気温度(℃)  \n",
    "$\\theta_{ex,d,t}$ : 日付$d$の時刻$t$における外気温度(℃)  \n",
    "$\\rho_{air}$ : 空気の密度(kg/m<sup>3</sup>)  "
   ]
  },
  {
   "cell_type": "markdown",
   "metadata": {},
   "source": [
    "空気の密度$\\rho_{air}$は、1.20 kg/m<sup>3</sup> とする。空気の比熱$c_{p_{air}}$は、1.006 kJ/(kg・K)とする。 "
   ]
  },
  {
   "cell_type": "code",
   "execution_count": null,
   "metadata": {},
   "outputs": [],
   "source": [
    "# 空気搬送ファン稼働時の集熱器群jの出口における空気温度 (℃) (23)\n",
    "def get_Theta_col_opg_j_d_t(V_col_j_d_t, A_col_j, U_c_j, Theta_col_nonopg_j_d_t, Theta_ex_d_t):\n",
    "    \"\"\"\n",
    "    :param V_col_j_d_t: 空気搬送ファン稼働時に集熱器群jを流れる空気の体積流量\n",
    "    :param A_col_j: 集熱器群jの面積 (m2)\n",
    "    :param U_c_j: 集熱器群jを構成する集熱器の総合熱損失係数\n",
    "    :param Theta_col_nonopg_j_d_t: 空気搬送ファン停止時の集熱器群jの出口における空気温度 (℃)\n",
    "    :param Theta_ex_d_t: 外気温度 (℃)\n",
    "    :return: 空気搬送ファン稼働時の集熱器群jの出口における空気温度 (℃)\n",
    "    \"\"\"\n",
    "    # 空気の密度 [kg/m3]\n",
    "    ro_air = 1.20\n",
    "\n",
    "    # 空気の比熱 [kJ/(kgK)]\n",
    "    c_p_air = 1.006\n",
    "\n",
    "    # 空気搬送ファン稼働時の集熱器群jの出口における空気温度 (℃) (23)\n",
    "    Theta_col_opg_j_d_t = Theta_col_nonopg_j_d_t + (Theta_ex_d_t - Theta_col_nonopg_j_d_t) * np.exp(\n",
    "        - (U_c_j * A_col_j) / (c_p_air * ro_air * V_col_j_d_t / 3600 * 10 ** 3))\n",
    "\n",
    "    return Theta_col_opg_j_d_t"
   ]
  },
  {
   "cell_type": "markdown",
   "metadata": {},
   "source": [
    "$$\\large\n",
    "\\begin{equation*}\n",
    "   V_{col,j,d,t} = V_{fan,P0} \\times \\frac{A_{col,j}}{\\displaystyle \\sum_{j=1}^{n} A_{col,j}}\n",
    "\\end{equation*}\n",
    "$$"
   ]
  },
  {
   "cell_type": "markdown",
   "metadata": {},
   "source": [
    "$A_{col,j}$ : 集熱器群$j$の面積(m<sup>2</sup>)  \n",
    "$n$ : 集熱器群の数(-)  \n",
    "$V_{col,j,d,t}$ : 日付$d$の時刻$t$における空気集熱ファン稼働時に集熱器群$j$を流れる空気の体積流量(m<sup>3</sup>/h)  \n",
    "$V_{fan,P0}$ : 空気搬送ファンの送風機特性曲線において機外静圧をゼロとした時の空気搬送ファンの風量(m<sup>3</sup>/h)  "
   ]
  },
  {
   "cell_type": "code",
   "execution_count": null,
   "metadata": {},
   "outputs": [],
   "source": [
    "# 空気搬送ファン稼働時に集熱器群jを流れる空気の体積流量 (m3/h) (24)\n",
    "def get_V_col_j_d_t(V_fan_P0_j, A_col_j, A_col):\n",
    "    \"\"\"\n",
    "    :param V_fan_P0_j: 空気搬送ファンの送風機特性曲線において機外静圧をゼロとしたときの空気搬送ファンの風量 (m3/h)\n",
    "    :param A_col_j: 集熱器群jの面積 (m2)\n",
    "    :param A_col: 集熱器群の面積 (m2)\n",
    "    :return: 空気搬送ファン稼働時に集熱器群jを流れる空気の体積流量 (m3/h)\n",
    "    \"\"\"\n",
    "    V_col_j_d_t = V_fan_P0_j * A_col_j / sum(A_col)\n",
    "    return V_col_j_d_t"
   ]
  },
  {
   "cell_type": "markdown",
   "metadata": {},
   "source": [
    "$$\\large\n",
    "\\begin{equation*}\n",
    "   U_{c,j} = -c_{p_{air}} \\times \\dot{m}_{fan,test,j} \\times 10^{3} \\times ln \\left( 1 - \\frac{1}{c_{p_{air}} \\times \\dot{m}_{fan,test,j} \\times 10^{3}} \\times d_{1,j}  \\right)\n",
    "\\end{equation*}\n",
    "$$"
   ]
  },
  {
   "cell_type": "markdown",
   "metadata": {},
   "source": [
    "$c_{p_{air}}$ : 空気の比熱(kJ/(kg$\\cdot$K))  \n",
    "$d_{1,j}$ : 集熱器群$j$を構成する集熱器の集熱効率特性線図一次近似式の傾き(W/(m<sup>2</sup>$\\cdot$K))  \n",
    "$\\dot{m}_{fan,test,j}$ : 集熱器群$j$を構成する集熱器の集熱性能試験時における単位面積当たりの空気の質量流量(kg/(s$\\cdot$m<sup>2</sup>))  \n",
    "$U_{c,j}$ : 集熱器群$j$を構成する集熱器の集熱器総合熱損失係数(W/(m<sup>2</sup>$\\cdot$K))  "
   ]
  },
  {
   "cell_type": "markdown",
   "metadata": {},
   "source": [
    "空気の比熱$c_{p_{air}}$は、1.006 kJ/(kg・K)とする。 "
   ]
  },
  {
   "cell_type": "code",
   "execution_count": null,
   "metadata": {},
   "outputs": [],
   "source": [
    "# 集熱器群jを構成する集熱器の総合熱損失係数 (25)\n",
    "def get_U_c_j(m_fan_test_j=None, d1_j=None):\n",
    "    \"\"\"\n",
    "    :param m_fan_test_j: 集熱器群jを構成する集熱器の集熱性能試験時における単位面積当たりの空気の質量流量 (kg/(s・m2))\n",
    "    :param d1_j: 集熱器群jを構成する集熱器の集熱効率特性線図一次近似式の傾き (W/m2K)\n",
    "    :return: 集熱器群jを構成する集熱器の総合熱損失係数\n",
    "    \"\"\"\n",
    "    # 空気の比熱 [kJ/(kgK)]\n",
    "    c_p_air = 1.006\n",
    "\n",
    "    if m_fan_test_j is None:\n",
    "        m_fan_test_j = 0.0107\n",
    "    if d1_j is None:\n",
    "        d1_j = 2.0\n",
    "\n",
    "    # 集熱器群jを構成する集熱器の総合熱損失係数 (25)\n",
    "    U_c_j = - c_p_air * m_fan_test_j * 10 ** 3 * np.log(1 - 1 / (c_p_air * m_fan_test_j * 10 ** 3) * d1_j)\n",
    "\n",
    "    return U_c_j"
   ]
  },
  {
   "cell_type": "markdown",
   "metadata": {},
   "source": [
    "## 付録 A ~ F"
   ]
  },
  {
   "cell_type": "markdown",
   "metadata": {},
   "source": [
    "省略"
   ]
  }
 ],
 "metadata": {
  "kernelspec": {
   "display_name": "Python 3",
   "language": "python",
   "name": "python3"
  },
  "language_info": {
   "codemirror_mode": {
    "name": "ipython",
    "version": 3
   },
   "file_extension": ".py",
   "mimetype": "text/x-python",
   "name": "python",
   "nbconvert_exporter": "python",
   "pygments_lexer": "ipython3",
   "version": "3.7.3"
  }
 },
 "nbformat": 4,
 "nbformat_minor": 2
}
