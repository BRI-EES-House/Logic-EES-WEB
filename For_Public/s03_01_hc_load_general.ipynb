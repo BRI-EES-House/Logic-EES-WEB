{
 "cells": [
  {
   "cell_type": "markdown",
   "metadata": {},
   "source": [
    "# 第三章　暖冷房負荷と外皮性能"
   ]
  },
  {
   "cell_type": "markdown",
   "metadata": {},
   "source": [
    "## 第一節　全般"
   ]
  },
  {
   "cell_type": "markdown",
   "metadata": {},
   "source": [
    "1．適用範囲～4．記号及び単位は省略"
   ]
  },
  {
   "cell_type": "markdown",
   "metadata": {},
   "source": [
    "### 5．暖冷房負荷の補正"
   ]
  },
  {
   "cell_type": "markdown",
   "metadata": {},
   "source": [
    "$$\\large\n",
    "L_{H,d,t,i} = L'_{H,d,t,i} \\times f_{R,Evp,i} \\times f_{R,Eqp,i} \\times f_{TD,i}  \n",
    "$$"
   ]
  },
  {
   "cell_type": "markdown",
   "metadata": {},
   "source": [
    "$L_{H,d,t,i}$：日付$d$の時刻$t$における暖冷房区画$i$の暖房負荷(MJ/h)  \n",
    "$L'_{H,d,t,i}$：日付$d$の時刻$t$における暖冷房区画$i$の負荷補正前の暖房負荷(MJ/h)  \n",
    "$f_{R,Evp,i}$：暖冷房区画$i$における外皮等の表面温度による放射温度を考慮した負荷補正係数  \n",
    "$f_{R,Eqp,i}$：暖冷房区画$i$における暖房設備の方式による放射温度を考慮した負荷補正係数  \n",
    "$f_{TD,i}$：暖冷房区画$i$における上下温度分布を考慮した負荷補正係数  "
   ]
  },
  {
   "cell_type": "markdown",
   "metadata": {},
   "source": [
    "$$\\large\n",
    "f_{R,Evp,i} = a_{R,Evp,i} \\times Q + b_{R,Evp,i} \n",
    "$$"
   ]
  },
  {
   "cell_type": "markdown",
   "metadata": {},
   "source": [
    "$Q$：熱損失係数(W/(m<sup>2</sup>K))  "
   ]
  },
  {
   "cell_type": "markdown",
   "metadata": {},
   "source": [
    "<div style=\"text-align: center;font-weight: bold;\">表　係数$a_{R,Evp,i}$及び$b_{R,Evp,i}$</div>\n",
    "\n",
    "<table>\n",
    "<thead>\n",
    "<tr>\n",
    "<th rowspan=\"4\">地域の区分</th>\n",
    "<th colspan=\"6\">暖房方式及び運転方法の区分</th>\n",
    "</tr>\n",
    "<tr>\n",
    "<th colspan=\"2\">（い）</th>\n",
    "<th colspan=\"2\">（ろ）</th>\n",
    "<th colspan=\"2\">（は）</th>\n",
    "</tr>\n",
    "<tr>\n",
    "<th colspan=\"2\">「住戸全体を連続的に<br>暖房する方式」 </th>\n",
    "<th colspan=\"2\">「居室のみを暖房する方式」<br>かつ「連続運転」の場合 </th>\n",
    "<th colspan=\"2\">「居室のみを暖房する方式」<br>かつ「間歇運転」の場合</th>\n",
    "</tr>\n",
    "<tr>\n",
    "<th>$a_{R,Evp,i}$</th>\n",
    "<th>$b_{R,Evp,i}$</th>\n",
    "<th>$a_{R,Evp,i}$</th>\n",
    "<th>$b_{R,Evp,i}$</th>\n",
    "<th>$a_{R,Evp,i}$</th>\n",
    "<th>$b_{R,Evp,i}$</th>\n",
    "</tr>\n",
    "</thead>\n",
    "\n",
    "<tbody>\n",
    "<tr>\n",
    "<th>1</th>\n",
    "<td>0.031</td>\n",
    "<td>0.971</td>\n",
    "<td>0.041</td>\n",
    "<td>0.975</td>\n",
    "<td>0.059</td>\n",
    "<td>1.038</td>\n",
    "</tr>\n",
    "<tr>\n",
    "<th>2</th>\n",
    "<td>0.032</td>\n",
    "<td>0.966</td>\n",
    "<td>0.043</td>\n",
    "<td>0.970</td>\n",
    "<td>0.060</td>\n",
    "<td>1.034</td>\n",
    "</tr>\n",
    "<tr>\n",
    "<th>3</th>\n",
    "<td>0.030</td>\n",
    "<td>0.963</td>\n",
    "<td>0.039</td>\n",
    "<td>0.970</td>\n",
    "<td>0.050</td>\n",
    "<td>1.049</td>\n",
    "</tr>\n",
    "<tr>\n",
    "<th>4</th>\n",
    "<td>0.027</td>\n",
    "<td>0.972</td>\n",
    "<td>0.033</td>\n",
    "<td>0.985</td>\n",
    "<td>0.040</td>\n",
    "<td>1.081</td>\n",
    "</tr>\n",
    "<tr>\n",
    "<th>5</th>\n",
    "<td>0.028</td>\n",
    "<td>0.966</td>\n",
    "<td>0.034</td>\n",
    "<td>0.981</td>\n",
    "<td>0.038</td>\n",
    "<td>1.092</td>\n",
    "</tr>\n",
    "<tr>\n",
    "<th>6</th>\n",
    "<td>0.029</td>\n",
    "<td>0.961</td>\n",
    "<td>0.035</td>\n",
    "<td>0.974</td>\n",
    "<td>0.039</td>\n",
    "<td>1.090</td>\n",
    "</tr>\n",
    "<tr>\n",
    "<th>7</th>\n",
    "<td>0.020</td>\n",
    "<td>0.921</td>\n",
    "<td>0.024</td>\n",
    "<td>0.937</td>\n",
    "<td>0.021</td>\n",
    "<td>1.094</td>\n",
    "</tr>\n",
    "</tbody>\n",
    "</table>\n"
   ]
  },
  {
   "cell_type": "markdown",
   "metadata": {},
   "source": [
    "温水床暖房又は電気ヒーター床暖房を暖冷房区画$i$において採用しない場合は、1.0とする。 "
   ]
  },
  {
   "cell_type": "markdown",
   "metadata": {},
   "source": [
    "$$\\large\n",
    "f_{R,Eqp,i} = a_{R,Eqp,i} \\times R_{l,i} + 1 \n",
    "$$"
   ]
  },
  {
   "cell_type": "markdown",
   "metadata": {},
   "source": [
    "$R_{l,i}$：暖冷房区画$i$に設置された温水床暖房又は電気ヒーター床暖房の敷設率  "
   ]
  },
  {
   "cell_type": "markdown",
   "metadata": {},
   "source": [
    "$$\\large\n",
    "r'_{Af} = \\frac{A_{f}}{A'_{HCZ}}\n",
    "$$"
   ]
  },
  {
   "cell_type": "markdown",
   "metadata": {},
   "source": [
    "$A_{f}$：（当該住戸における）床暖房パネルの敷設面積(m<sup>2</sup>)  \n",
    "$A'_{HCZ}$：（当該住戸における）主たる居室における仮想床の床面積を除いた床面積(m<sup>2</sup>)  "
   ]
  },
  {
   "cell_type": "markdown",
   "metadata": {},
   "source": [
    "<div style=\"text-align: center;font-weight: bold;\">表　係数$a_{R,Eqp,i}$</div>\n",
    "\n",
    "<table>\n",
    "<thead>\n",
    "<tr>\n",
    "<th colspan=\"3\">暖房方式及び運転方法の区分</th>\n",
    "</tr>\n",
    "<tr>\n",
    "<th>（い）</th>\n",
    "<th>（ろ）</th>\n",
    "<th>（は）</th>\n",
    "</tr>\n",
    "<tr>\n",
    "<th>「住宅全体を連続して暖房する方式」 </th>\n",
    "<th>「居室のみを暖房する方式」<br>かつ「連続運転」の場合</th>\n",
    "<th>「居室のみを暖房する方式」<br>かつ「間歇運転」の場合</th>\n",
    "</tr>\n",
    "</thead>\n",
    "\n",
    "<tbody>\n",
    "<tr>\n",
    "<td>-0.105</td>\n",
    "<td>-0.137</td>\n",
    "<td>-0.231</td>\n",
    "</tr>\n",
    "</tbody>\n",
    "</table>\n"
   ]
  },
  {
   "cell_type": "markdown",
   "metadata": {},
   "source": [
    "暖冷房区画$i$に温水床暖房又は電気ヒーター床暖房を採用する場合は1.0とし、それ以外の場合は、下式により表される。 "
   ]
  },
  {
   "cell_type": "markdown",
   "metadata": {},
   "source": [
    "$$\\large\n",
    "f_{TD,i} = min(a_{TD,i} \\times Q^2 + 1, f_{TD,max})\n",
    "$$"
   ]
  },
  {
   "cell_type": "markdown",
   "metadata": {},
   "source": [
    "<div style=\"text-align: center;font-weight: bold;\">表　係数$a_{TD,i}$</div>\n",
    "\n",
    "<table>\n",
    "<thead>\n",
    "<tr>\n",
    "<th rowspan=\"4\">地域の区分</th>\n",
    "<th colspan=\"6\">暖房方式及び運転方法の区分</th>\n",
    "</tr>\n",
    "<tr>\n",
    "<th colspan=\"2\">（い）</th>\n",
    "<th colspan=\"2\">（ろ）</th>\n",
    "<th colspan=\"2\">（は）</th>\n",
    "</tr>\n",
    "<tr>\n",
    "<th colspan=\"2\">「住戸全体を連続的に<br>暖房する方式」 </th>\n",
    "<th colspan=\"2\">「居室のみを暖房する方式」<br>かつ「連続運転」の場合 </th>\n",
    "<th colspan=\"2\">「居室のみを暖房する方式」<br>かつ「間歇運転」の場合</th>\n",
    "</tr>\n",
    "<tr>\n",
    "<th>$a_{TD,i}$</th>\n",
    "<th>$f_{TD,max}$</th>\n",
    "<th>$a_{TD,i}$</th>\n",
    "<th>$f_{TD,max}$</th>\n",
    "<th>$a_{TD,i}$</th>\n",
    "<th>$f_{TD,max}$</th>\n",
    "</tr>\n",
    "</thead>\n",
    "\n",
    "<tbody>\n",
    "<tr>\n",
    "<th>1</th>\n",
    "<td>0.0157</td>\n",
    "<td>1.0842</td>\n",
    "<td>0.0163</td>\n",
    "<td>1.0862</td>\n",
    "<td>0.0176</td>\n",
    "<td>1.0860</td>\n",
    "</tr>\n",
    "<tr>\n",
    "<th>2</th>\n",
    "<td>0.0157</td>\n",
    "<td>1.0928</td>\n",
    "<td>0.0163</td>\n",
    "<td>1.0954</td>\n",
    "<td>0.0176</td>\n",
    "<td>1.0981</td>\n",
    "</tr>\n",
    "<tr>\n",
    "<th>3</th>\n",
    "<td>0.0097</td>\n",
    "<td>1.1048</td>\n",
    "<td>0.0101</td>\n",
    "<td>1.1079</td>\n",
    "<td>0.0110</td>\n",
    "<td>1.1147</td>\n",
    "</tr>\n",
    "<tr>\n",
    "<th>4</th>\n",
    "<td>0.0063</td>\n",
    "<td>1.1111</td>\n",
    "<td>0.0066</td>\n",
    "<td>1.1146</td>\n",
    "<td>0.0072</td>\n",
    "<td>1.1235</td>\n",
    "</tr>\n",
    "<tr>\n",
    "<th>5</th>\n",
    "<td>0.0045</td>\n",
    "<td>1.1223</td>\n",
    "<td>0.0047</td>\n",
    "<td>1.1264</td>\n",
    "<td>0.0053</td>\n",
    "<td>1.1391</td>\n",
    "</tr>\n",
    "<tr>\n",
    "<th>6</th>\n",
    "<td>0.0045</td>\n",
    "<td>1.1277</td>\n",
    "<td>0.0047</td>\n",
    "<td>1.1320</td>\n",
    "<td>0.0053</td>\n",
    "<td>1.1465</td>\n",
    "</tr>\n",
    "<tr>\n",
    "<th>7</th>\n",
    "<td>0.0014</td>\n",
    "<td>1.1357</td>\n",
    "<td>0.0015</td>\n",
    "<td>1.1404</td>\n",
    "<td>0.0017</td>\n",
    "<td>1.1576</td>\n",
    "</tr>\n",
    "</tbody>\n",
    "</table>\n"
   ]
  },
  {
   "cell_type": "markdown",
   "metadata": {},
   "source": [
    "$$\\large\n",
    "L_{CS,d,t,i} = L'_{CS,d,t,i}\n",
    "$$\n",
    "\n",
    "$$\\large\n",
    "L_{CL,d,t,i} = L'_{CL,d,t,i}\n",
    "$$"
   ]
  },
  {
   "cell_type": "markdown",
   "metadata": {},
   "source": [
    "$L_{CS,d,t,i}$：日付$d$の時刻$t$における暖冷房区画$i$の冷房顕熱負荷(MJ/h)  \n",
    "$L_{CL,d,t,i}$：日付$d$の時刻$t$における暖冷房区画$i$の冷房潜熱負荷(MJ/h)  \n",
    "$L'_{CS,d,t,i}$：日付$d$の時刻$t$における暖冷房区画$i$の負荷補正前の冷房顕熱負荷(MJ/h)  \n",
    "$L'_{CL,d,t,i}$：日付$d$の時刻$t$における暖冷房区画$i$の負荷補正前の冷房潜熱負荷(MJ/h)  "
   ]
  },
  {
   "cell_type": "markdown",
   "metadata": {},
   "source": [
    "### 6．負荷補正前の暖冷房負荷"
   ]
  },
  {
   "cell_type": "markdown",
   "metadata": {},
   "source": [
    "$$\\large\n",
    "L'_{H,d,t,i} = L'_{H,R,d,t,i} \\times \\frac{A_{HCZ,i}}{A_{HCZ,R,i}} - \\Delta L'_{H,uf,d,t,i} - \\Delta L'_{H,ass,d,t,i}\n",
    "$$\n",
    "\n",
    "$$\\large\n",
    "L'_{CS,d,t,i} = L'_{CS,R,d,t,i} \\times \\frac{A_{HCZ,i}}{A_{HCZ,R,i}} - \\Delta L'_{CS,uf,d,t,i}\n",
    "$$\n",
    "\n",
    "$$\\large\n",
    "L'_{CL,d,t,i} = L'_{CL,R,d,t,i} \\times \\frac{A_{HCZ,i}}{A_{HCZ,R,i}}\n",
    "$$"
   ]
  },
  {
   "cell_type": "markdown",
   "metadata": {},
   "source": [
    "$L'_{H,R,d,t,i}$：日付$d$の時刻$t$における暖冷房区画$i$の標準住戸の負荷補正前の暖房負荷(MJ/h)  \n",
    "$L'_{CS,R,d,t,i}$：日付$d$の時刻$t$における暖冷房区画$i$の標準住戸の負荷補正前の冷房顕熱負荷(MJ/h)  \n",
    "$L'_{CL,R,d,t,i}$：日付$d$の時刻$t$における暖冷房区画$i$の標準住戸の負荷補正前の冷房潜熱負荷(MJ/h)  \n",
    "$\\Delta L'_{H,ass,d,t,i}$：日付$d$の時刻$t$における当該住戸の暖冷房区画$i$の空気集熱式太陽熱利用設備による暖房負荷削減量(MJ/h)  \n",
    "$\\Delta L'_{H,uf,d,t,i}$：日付$d$の時刻$t$における当該住戸の暖冷房区画$i$の床下空間を経由して外気を導入する換気方式による暖房負荷削減量(MJ/h)  \n",
    "$\\Delta L'_{CS,uf,d,t,i}$：日付$d$の時刻$t$における当該住戸の暖冷房区画$i$の床下空間を経由して外気を導入する換気方式による冷房顕熱負荷削減量(MJ/h)  \n",
    "$A_{HCZ,i}$：暖冷房区画$i$の床面積(m<sup>2</sup>)  \n",
    "$A_{HCZ,R,i}$：標準住戸の暖冷房区画$i$の床面積(m<sup>2</sup>)  "
   ]
  },
  {
   "cell_type": "markdown",
   "metadata": {},
   "source": [
    "日付$d$の時刻$t$における当該住戸の暖冷房区画$i$の床下空間を経由して外気を導入する換気方式による暖房負荷削減量$\\Delta L'_{H,uf,d,t,i}$ 及び日付$d$の時刻$t$における当該住戸の暖冷房区画$i$の床下空間を経由して外気を導入する換気方式による冷房顕熱負荷削減量$\\Delta L'_{CS,uf,d,t,i}$ は、床下空間を経由して外気を導入する換気方式を採用しない場合はゼロとする。  \n",
    "日付$d$の時刻$t$における当該住戸の暖冷房区画$i$の空気集熱式太陽熱利用設備による暖房負荷削減量$\\Delta L'_{H,ass,d,t,i}$ は、空気集熱式太陽熱利用設備を採用しない場合はゼロとする。  "
   ]
  },
  {
   "cell_type": "markdown",
   "metadata": {},
   "source": [
    "### 7．標準住戸の負荷補正前の暖冷房負荷"
   ]
  },
  {
   "cell_type": "markdown",
   "metadata": {},
   "source": [
    "#### 7.1　標準住戸の負荷補正前の暖房負荷"
   ]
  },
  {
   "cell_type": "markdown",
   "metadata": {},
   "source": [
    "蓄熱の利用なしの場合： "
   ]
  },
  {
   "cell_type": "markdown",
   "metadata": {},
   "source": [
    "$$\\large\n",
    "L'_{H,R,d,t,i} = L'_{H,R,TS_0,d,t,i}\n",
    "$$"
   ]
  },
  {
   "cell_type": "markdown",
   "metadata": {},
   "source": [
    "蓄熱の利用ありの場合： "
   ]
  },
  {
   "cell_type": "markdown",
   "metadata": {},
   "source": [
    "$$\\large\n",
    "L'_{H,R,d,t,i} = L'_{H,R,TS_1,d,t,i}\n",
    "$$"
   ]
  },
  {
   "cell_type": "markdown",
   "metadata": {},
   "source": [
    "$L'_{H,R,TS_l,d,t,i}$：日付$d$の時刻$t$における暖冷房区画$i$の蓄熱の利用の程度$TS_l$の標準住戸の負荷補正前の暖房負荷(MJ/h)  "
   ]
  },
  {
   "cell_type": "markdown",
   "metadata": {},
   "source": [
    "<div style=\"text-align: center;font-weight: bold;\">表　蓄熱の採用の可否</div>\n",
    "\n",
    "<table>\n",
    "<thead>\n",
    "<tr>\n",
    "<th rowspan=\"2\">地域区分</th>\n",
    "<th colspan=\"5\">暖房期の日射地域区分</th>\n",
    "</tr>\n",
    "<tr>\n",
    "<th>H1</th>\n",
    "<th>H2</th>\n",
    "<th>H3</th>\n",
    "<th>H4</th>\n",
    "<th>H5</th>\n",
    "</tr>\n",
    "</thead>\n",
    "\n",
    "<tbody>\n",
    "<tr>\n",
    "<th>1</th>\n",
    "<td>不可</td>\n",
    "<td>不可</td>\n",
    "<td>可</td>\n",
    "<td>可</td>\n",
    "<td>可</td>\n",
    "</tr>\n",
    "<tr>\n",
    "<th>2</th>\n",
    "<td>不可</td>\n",
    "<td>不可</td>\n",
    "<td>可</td>\n",
    "<td>可</td>\n",
    "<td>可</td>\n",
    "</tr>\n",
    "<tr>\n",
    "<th>3</th>\n",
    "<td>不可</td>\n",
    "<td>不可</td>\n",
    "<td>可</td>\n",
    "<td>可</td>\n",
    "<td>可</td>\n",
    "</tr>\n",
    "<tr>\n",
    "<th>4</th>\n",
    "<td>不可</td>\n",
    "<td>不可</td>\n",
    "<td>可</td>\n",
    "<td>可</td>\n",
    "<td>可</td>\n",
    "</tr>\n",
    "<tr>\n",
    "<th>5</th>\n",
    "<td>不可</td>\n",
    "<td>不可</td>\n",
    "<td>可</td>\n",
    "<td>可</td>\n",
    "<td>可</td>\n",
    "</tr>\n",
    "<tr>\n",
    "<th>6</th>\n",
    "<td>不可</td>\n",
    "<td>不可</td>\n",
    "<td>不可</td>\n",
    "<td>可</td>\n",
    "<td>可</td>\n",
    "</tr>\n",
    "<tr>\n",
    "<th>7</th>\n",
    "<td>不可</td>\n",
    "<td>不可</td>\n",
    "<td>不可</td>\n",
    "<td>可</td>\n",
    "<td>可</td>\n",
    "</tr>\n",
    "</tbody>\n",
    "</table>\n"
   ]
  },
  {
   "cell_type": "markdown",
   "metadata": {},
   "source": [
    "1～7 地域の場合"
   ]
  },
  {
   "cell_type": "markdown",
   "metadata": {},
   "source": [
    "$$\\large\n",
    "L'_{H,R,TS_l,d,t,i} = \\left\\{ \\begin{array}{ll}\n",
    "    \\frac{Q_{HEXC}-Q_2}{Q_1 - Q_2} \\times L'_{H,R,TS_l,Q_1,d,t,i} + \\frac{Q_{HEXC}-Q_1}{Q_2 - Q_1} \\times L'_{H,R,TS_l,Q_2,d,t,i} & (Q \\ge Q_2の場合) \\\\\n",
    "    \\frac{Q_{HEXC}-Q_3}{Q_2 - Q_3} \\times L'_{H,R,TS_l,Q_2,d,t,i} + \\frac{Q_{HEXC}-Q_2}{Q_3 - Q_2} \\times L'_{H,R,TS_l,Q_3,d,t,i} & (Q_2 > Q \\ge Q_3の場合) \\\\\n",
    "    \\frac{Q_{HEXC}-Q_4}{Q_3 - Q_4} \\times L'_{H,R,TS_l,Q_3,d,t,i} + \\frac{Q_{HEXC}-Q_3}{Q_4 - Q_3} \\times L'_{H,R,TS_l,Q_4,d,t,i} & (Q_3 > Qの場合) \\\\\n",
    "\\end{array}\n",
    "\\right.\n",
    "$$"
   ]
  },
  {
   "cell_type": "markdown",
   "metadata": {},
   "source": [
    "8 地域の場合"
   ]
  },
  {
   "cell_type": "markdown",
   "metadata": {},
   "source": [
    "$$\\large\n",
    "L'_{H,R,TS_l,d,t,i} = \\left\\{ \\begin{array}{ll}\n",
    "    \\frac{Q_{HEXC}-Q_2}{Q_1 - Q_2} \\times L'_{H,R,TS_l,Q_1,d,t,i} + \\frac{Q_{HEXC}-Q_1}{Q_2 - Q_1} \\times L'_{H,R,TS_l,Q_2,d,t,i} & (Q \\ge Q_2の場合) \\\\\n",
    "    \\frac{Q_{HEXC}-Q_3}{Q_2 - Q_3} \\times L'_{H,R,TS_l,Q_2,d,t,i} + \\frac{Q_{HEXC}-Q_2}{Q_3 - Q_2} \\times L'_{H,R,TS_l,Q_3,d,t,i} & (Q_2 > Qの場合) \\\\\n",
    "\\end{array}\n",
    "\\right.\n",
    "$$"
   ]
  },
  {
   "cell_type": "markdown",
   "metadata": {},
   "source": [
    "$Q_{HEXC}$：熱交換型換気設備による暖房負荷低減を考慮した補正熱損失係数(W/m<sup>2</sup>K)  \n",
    "$L'_{H,R,TS_l,Q_j,d,t,i}$：日付$d$の時刻$t$における暖冷房区画$i$の蓄熱の利用の程度$TS_l$の熱損失係数$Q_{j}$の標準住戸の負荷補正前の暖房負荷(MJ/h)  \n",
    "$Q_{j}$：断熱性能の区分$j$の熱損失係数(W/(m<sup>2</sup>K))  "
   ]
  },
  {
   "cell_type": "markdown",
   "metadata": {},
   "source": [
    "$$\\large\n",
    "L'_{H,R,TS_l,Q_j,d,t,i} = \\left\\{ \\begin{array}{ll}\n",
    "    \\frac{\\mu_H - \\mu_{H,j,2}}{\\mu_{H,j,1} - \\mu_{H,j,2}} \\times L'_{H,R,TS_l,Q_j,\\mu_{H,j,1},d,t,i} + \\frac{\\mu_{H} - \\mu_{H,j,1}}{\\mu_{H,j,2} - \\mu_{H,j,1}} \\times L'_{H,R,TS_l,Q_j,\\mu_{H,j,2},d,t,i} & (\\mu_{H} < \\mu_{H,j,2}) \\\\\n",
    "    \\frac{\\mu_H - \\mu_{H,j,3}}{\\mu_{H,j,2} - \\mu_{H,j,3}} \\times L'_{H,R,TS_l,Q_j,\\mu_{H,j,2},d,t,i} + \\frac{\\mu_{H} - \\mu_{H,j,2}}{\\mu_{H,j,3} - \\mu_{H,j,2}} \\times L'_{H,R,TS_l,Q_j,\\mu_{H,j,3},d,t,i} & (\\mu_{H,j,2} \\le \\mu_{H}) \\\\\n",
    "\\end{array}\n",
    "\\right.\n",
    "$$"
   ]
  },
  {
   "cell_type": "markdown",
   "metadata": {},
   "source": [
    "$L'_{H,R,TS_l,Q_j,\\mu_{H,j,k},d,t,i}$：日付$d$の時刻$t$における暖冷房区画$i$の蓄熱の利用の程度$TS_l$の熱損失係数$Q_{j}$かつ暖房期の日射取得係数$\\mu_{H,j,k}$の標準住戸の負荷補正前の暖房負荷(MJ/h)  \n",
    "$\\mu_H$：暖房期の日射取得係数  \n",
    "$\\mu_{H,j,k}$：断熱性能の区分$j$における日射取得性能の区分$k$の暖房期の日射取得係数  "
   ]
  },
  {
   "cell_type": "markdown",
   "metadata": {},
   "source": [
    "<div style=\"text-align: center;font-weight: bold;\">表　断熱性能の区分$j$の熱損失係数$Q_{j}$</div>\n",
    "\n",
    "<table>\n",
    "<thead>\n",
    "<tr>\n",
    "<th rowspan=\"2\" colspan=\"2\"></th>\n",
    "<th colspan=\"8\">地域の区分</th>\n",
    "</tr>\n",
    "<tr>\n",
    "<th>1</th>\n",
    "<th>2</th>\n",
    "<th>3</th>\n",
    "<th>4</th>\n",
    "<th>5</th>\n",
    "<th>6</th>\n",
    "<th>7</th>\n",
    "<th>8</th>\n",
    "</tr>\n",
    "</thead>\n",
    "\n",
    "<tbody>\n",
    "<tr>\n",
    "<th rowspan=\"4\">断熱性能の区分$j$</th>\n",
    "<th>1</th>\n",
    "<td>2.8</td>\n",
    "<td>2.8</td>\n",
    "<td>4.0</td>\n",
    "<td>4.7</td>\n",
    "<td>5.19</td>\n",
    "<td>5.19</td>\n",
    "<td>8.27</td>\n",
    "<td>8.27</td>\n",
    "</tr>\n",
    "<tr>\n",
    "<th>2</th>\n",
    "<td>1.8</td>\n",
    "<td>1.8</td>\n",
    "<td>2.7</td>\n",
    "<td>3.3</td>\n",
    "<td>4.2</td>\n",
    "<td>4.2</td>\n",
    "<td>4.59</td>\n",
    "<td>8.01</td>\n",
    "</tr>\n",
    "<tr>\n",
    "<th>3</th>\n",
    "<td>1.6</td>\n",
    "<td>1.6</td>\n",
    "<td>1.9</td>\n",
    "<td>2.4</td>\n",
    "<td>2.7</td>\n",
    "<td>2.7</td>\n",
    "<td>2.7</td>\n",
    "<td>3.7</td>\n",
    "</tr>\n",
    "<tr>\n",
    "<th>4</th>\n",
    "<td>1.4</td>\n",
    "<td>1.4</td>\n",
    "<td>1.4</td>\n",
    "<td>1.9</td>\n",
    "<td>1.9</td>\n",
    "<td>1.9</td>\n",
    "<td>1.9</td>\n",
    "<td>3.7</td>\n",
    "</tr>\n",
    "</tbody>\n",
    "</table>"
   ]
  },
  {
   "cell_type": "markdown",
   "metadata": {},
   "source": [
    "<div style=\"text-align: center;font-weight: bold;\">表　断熱性能の区分$j$における日射取得性能の区分$k$の<br>暖房期の日射取得係数$\\mu_{H,j,k}$及び冷房期の日射取得係数$\\mu_{C,j,k}$</div>\n",
    "<div style=\"text-align: center;\">（上段：暖房期の日射取得係数$\\mu_{H,j,k}$下段：冷房期の日射取得係数$\\mu_{C,j,k}$</div>\n",
    "\n",
    "<table>\n",
    "<thead>\n",
    "<tr>\n",
    "<th rowspan=\"2\">断熱性能の<br>区分$j$</th>\n",
    "<th rowspan=\"2\">日射取得性能の<br>区分$k$</th>\n",
    "<th colspan=\"8\">地域の区分</th>\n",
    "</tr>\n",
    "<tr>\n",
    "<th>1</th><th>2</th><th>3</th><th>4</th><th>5</th><th>6</th><th>7</th><th>8</th>\n",
    "</tr>\n",
    "</thead>\n",
    "\n",
    "<tbody>\n",
    "<tr>\n",
    "<th>1</th><th>1</th>\n",
    "<td>0.029<br>0.021</td>\n",
    "<td>0.027<br>0.022</td>\n",
    "<td>0.044<br>0.036</td>\n",
    "<td>0.048<br>0.039</td>\n",
    "<td>0.062<br>0.050</td>\n",
    "<td>0.061<br>0.048</td>\n",
    "<td>0.129<br>0.106</td>\n",
    "<td>-<br>0.110</td>\n",
    "</tr>\n",
    "<tr>\n",
    "<th>1</th><th>2</th>\n",
    "<td>0.079<br>0.052</td>\n",
    "<td>0.074<br>0.052</td>\n",
    "<td>0.091<br>0.065</td>\n",
    "<td>0.112<br>0.080</td>\n",
    "<td>0.138<br>0.095</td>\n",
    "<td>0.134<br>0.090</td>\n",
    "<td>0.206<br>0.146</td>\n",
    "<td>-<br>0.154</td>\n",
    "</tr>\n",
    "<tr>\n",
    "<th>1</th><th>3</th>\n",
    "<td>0.115<br>0.071</td>\n",
    "<td>0.106<br>0.071</td>\n",
    "<td>0.123<br>0.083</td>\n",
    "<td>0.161<br>0.107</td>\n",
    "<td>0.197<br>0.124</td>\n",
    "<td>0.191<br>0.117</td>\n",
    "<td>0.268<br>0.172</td>\n",
    "<td>-<br>0.184</td>\n",
    "</tr>\n",
    "<tr>\n",
    "<th>2</th><th>1</th>\n",
    "<td>0.029<br>0.021</td>\n",
    "<td>0.027<br>0.022</td>\n",
    "<td>0.040<br>0.032</td>\n",
    "<td>0.046<br>0.037</td>\n",
    "<td>0.057<br>0.044</td>\n",
    "<td>0.056<br>0.043</td>\n",
    "<td>0.063<br>0.046</td>\n",
    "<td>-<br>0.129</td>\n",
    "</tr>\n",
    "<tr>\n",
    "<th>2</th><th>2</th>\n",
    "<td>0.075<br>0.049</td>\n",
    "<td>0.070<br>0.049</td>\n",
    "<td>0.087<br>0.061</td>\n",
    "<td>0.102<br>0.072</td>\n",
    "<td>0.132<br>0.089</td>\n",
    "<td>0.128<br>0.085</td>\n",
    "<td>0.140<br>0.086</td>\n",
    "<td>-<br>0.174</td>\n",
    "</tr>\n",
    "<tr>\n",
    "<th>2</th><th>3</th>\n",
    "<td>0.109<br>0.068</td>\n",
    "<td>0.101<br>0.068</td>\n",
    "<td>0.119<br>0.079</td>\n",
    "<td>0.142<br>0.094</td>\n",
    "<td>0.191<br>0.119</td>\n",
    "<td>0.185<br>0.112</td>\n",
    "<td>0.202<br>0.111</td>\n",
    "<td>-<br>0.204</td>\n",
    "</tr>\n",
    "<tr>\n",
    "<th>3</th><th>1</th>\n",
    "<td>0.025<br>0.019</td>\n",
    "<td>0.024<br>0.019</td>\n",
    "<td>0.030<br>0.023</td>\n",
    "<td>0.033<br>0.026</td>\n",
    "<td>0.038<br>0.027</td>\n",
    "<td>0.037<br>0.026</td>\n",
    "<td>0.038<br>0.025</td>\n",
    "<td>-<br>0.023</td>\n",
    "</tr>\n",
    "<tr>\n",
    "<th>3</th><th>2</th>\n",
    "<td>0.071<br>0.046</td>\n",
    "<td>0.066<br>0.046</td>\n",
    "<td>0.072<br>0.049</td>\n",
    "<td>0.090<br>0.061</td>\n",
    "<td>0.104<br>0.066</td>\n",
    "<td>0.101<br>0.062</td>\n",
    "<td>0.107<br>0.059</td>\n",
    "<td>-<br>0.068</td>\n",
    "</tr>\n",
    "<tr>\n",
    "<th>3</th><th>3</th>\n",
    "<td>0.106<br>0.065</td>\n",
    "<td>0.098<br>0.065</td>\n",
    "<td>0.104<br>0.067</td>\n",
    "<td>0.130<br>0.082</td>\n",
    "<td>0.153<br>0.090</td>\n",
    "<td>0.148<br>0.084</td>\n",
    "<td>0.158<br>0.080</td>\n",
    "<td>-<br>0.098</td>\n",
    "</tr>\n",
    "<tr>\n",
    "<th>4</th><th>1</th>\n",
    "<td>0.024<br>0.017</td>\n",
    "<td>0.022<br>0.017</td>\n",
    "<td>0.022<br>0.017</td>\n",
    "<td>0.026<br>0.019</td>\n",
    "<td>0.030<br>0.021</td>\n",
    "<td>0.029<br>0.020</td>\n",
    "<td>0.030<br>0.019</td>\n",
    "<td>-<br>0.019</td>\n",
    "</tr>\n",
    "<tr>\n",
    "<th>4</th><th>2</th>\n",
    "<td>0.070<br>0.045</td>\n",
    "<td>0.065<br>0.045</td>\n",
    "<td>0.065<br>0.043</td>\n",
    "<td>0.078<br>0.052</td>\n",
    "<td>0.090<br>0.056</td>\n",
    "<td>0.087<br>0.053</td>\n",
    "<td>0.092<br>0.050</td>\n",
    "<td>-<br>0.050</td>\n",
    "</tr>\n",
    "<tr>\n",
    "<th>4</th><th>3</th>\n",
    "<td>0.104<br>0.063</td>\n",
    "<td>0.096<br>0.063</td>\n",
    "<td>0.096<br>0.060</td>\n",
    "<td>0.116<br>0.072</td>\n",
    "<td>0.137<br>0.078</td>\n",
    "<td>0.132<br>0.073</td>\n",
    "<td>0.141<br>0.070</td>\n",
    "<td>-<br>0.065</td>\n",
    "</tr>\n",
    "</tbody>\n",
    "</table>\n"
   ]
  },
  {
   "cell_type": "markdown",
   "metadata": {},
   "source": [
    "#### 7.2　標準住戸の負荷補正前の冷房負荷"
   ]
  },
  {
   "cell_type": "markdown",
   "metadata": {},
   "source": [
    "$$\\large\n",
    "L'_{CS,R,d,t,i} = \\left\\{ \\begin{array}{ll}\n",
    "    (\\frac{NV-NV_2}{NV_1-NV_2} \\times L'_{CS,R,NV_1,d,t,i} + \\frac{NV-NV_1}{NV_2-NV_1} \\times L'_{CS,R,NV_2,d,t,i}) & (NV < NV_2の場合) \\\\\n",
    "    (\\frac{NV-NV_3}{NV_2-NV_3} \\times L'_{CS,R,NV_2,d,t,i} + \\frac{NV-NV_2}{NV_3-NV_2} \\times L'_{CS,R,NV_3,d,t,i}) & (NV_2 \\le NVの場合) \\\\\n",
    "\\end{array}\n",
    "\\right.\n",
    "$$\n",
    "\n",
    "$$\\large\n",
    "L'_{CL,R,d,t,i} = \\left\\{ \\begin{array}{ll}\n",
    "    \\frac{NV-NV_2}{NV_1-NV_2} \\times L'_{CL,R,NV_1,d,t,i} + \\frac{NV-NV_1}{NV_2-NV_1} \\times L'_{CL,R,NV_2,d,t,i} & (NV < NV_2の場合) \\\\\n",
    "    \\frac{NV-NV_3}{NV_2-NV_3} \\times L'_{CL,R,NV_2,d,t,i} + \\frac{NV-NV_2}{NV_3-NV_2} \\times L'_{CL,R,NV_3,d,t,i} & (NV_2 \\le NVの場合) \\\\\n",
    "\\end{array}\n",
    "\\right.\n",
    "$$"
   ]
  },
  {
   "cell_type": "markdown",
   "metadata": {},
   "source": [
    "$NV$：通風の利用における相当換気回数(1/h)  \n",
    "$NV_l$：通風の利用に関する区分$l$の通風の利用における相当換気回数(1/h)  \n",
    "$L'_{CS,R,NV_l,d,t,i}$：日付$d$の時刻$t$における暖冷房区画$i$の通風の利用における相当換気回数$NV_l$の標準住戸の負荷補正前の冷房顕熱負荷(MJ/h)  \n",
    "$L'_{CL,R,NV_l,d,t,i}$：日付$d$の時刻$t$における暖冷房区画$i$の通風の利用における相当換気回数$NV_l$の標準住戸の負荷補正前の冷房潜熱負荷(MJ/h)  "
   ]
  },
  {
   "cell_type": "markdown",
   "metadata": {},
   "source": [
    "通風の利用における相当換気回数$NV$は、「住戸全体を連続的に冷房する方式」の場合はすべての暖冷房区画（$i = 1～12$）において0.0回/h とする。 "
   ]
  },
  {
   "cell_type": "markdown",
   "metadata": {},
   "source": [
    "主たる居室において通風の利用が「通風を利用しない」に該当する場合は暖冷房区画$i = 1$における通風の利用における相当換気回数$NV$は0.0回/h とし、通風の利用が「通風を利用する（換気回数5回/h 相当以上）」に該当する場合は暖冷房区画$i = 1$における通風の利用における相当換気回数$NV$は5.0回/h とし、通風の利用が「通風を利用する（換気回数20回/h 相当以上）」に該当する場合は暖冷房区画$i = 1$における通風の利用における相当換気回数$NV$は20.0回/h とする。  "
   ]
  },
  {
   "cell_type": "markdown",
   "metadata": {},
   "source": [
    "その他の居室において通風の利用が「通風を利用しない」に該当する場合は暖冷房区画$i = 2～5$における通風の利用における相当換気回数$NV$は0.0回/h とし、通風の利用が「通風を利用する（換気回数5回/h 相当以上）」に該当する場合は暖冷房区画$i = 2～5$における通風の利用における相当換気回数$NV$は5.0回/h とし、通風の利用が「通風を利用する（換気回数20回/h 相当以上）」に該当する場合は暖冷房区画$i = 2～5$における通風の利用における相当換気回数$NV$は20.0回/h とする。 "
   ]
  },
  {
   "cell_type": "markdown",
   "metadata": {},
   "source": [
    "<div style=\"text-align: center;font-weight: bold;\">表　通風の利用に関する区分$l$の通風の利用における相当換気回数$NV_l$</div>\n",
    "\n",
    "|通風の利用に関する区分$l$|通風の利用における相当換気回数$NV_l$|\n",
    "|-|-|\n",
    "|1|0.0|\n",
    "|2|5.0|\n",
    "|3|20.0|\n"
   ]
  },
  {
   "cell_type": "markdown",
   "metadata": {},
   "source": [
    "1～7 地域の場合"
   ]
  },
  {
   "cell_type": "markdown",
   "metadata": {},
   "source": [
    "$$\\large\n",
    "L'_{CS,R,NV_l,d,t,i} = \\left\\{ \\begin{array}{ll}\n",
    "    \\frac{Q - Q_2}{Q_1 - Q_2} \\times L'_{CS,R,NV_l,Q_1,d,t,i} + \\frac{Q - Q_1}{Q_2 - Q_1} \\times L'_{CS,R,NV_l,Q_2,d,t,i} & (Q \\ge Q_2の場合) \\\\\n",
    "    \\frac{Q - Q_3}{Q_2 - Q_3} \\times L'_{CS,R,NV_l,Q_2,d,t,i} + \\frac{Q - Q_2}{Q_3 - Q_2} \\times L'_{CS,R,NV_l,Q_3,d,t,i} & (Q_2 > Q \\ge Q_3の場合) \\\\\n",
    "    \\frac{Q - Q_4}{Q_3 - Q_4} \\times L'_{CS,R,NV_l,Q_3,d,t,i} + \\frac{Q - Q_3}{Q_4 - Q_3} \\times L'_{CS,R,NV_l,Q_4,d,t,i} & (Q_3 > Qの場合) \\\\\n",
    "\\end{array}\n",
    "\\right.\n",
    "$$\n",
    "\n",
    "$$\\large\n",
    "L'_{CL,R,NV_l,d,t,i} = \\left\\{ \\begin{array}{ll}\n",
    "    \\frac{Q - Q_2}{Q_1 - Q_2} \\times L'_{CL,R,NV_l,Q_1,d,t,i} + \\frac{Q - Q_1}{Q_2 - Q_1} \\times L'_{CL,R,NV_l,Q_2,d,t,i} & (Q \\ge Q_2の場合) \\\\\n",
    "    \\frac{Q - Q_3}{Q_2 - Q_3} \\times L'_{CL,R,NV_l,Q_2,d,t,i} + \\frac{Q - Q_2}{Q_3 - Q_2} \\times L'_{CL,R,NV_l,Q_3,d,t,i} & (Q_2 > Q \\ge Q_3の場合) \\\\\n",
    "    \\frac{Q - Q_4}{Q_3 - Q_4} \\times L'_{CL,R,NV_l,Q_3,d,t,i} + \\frac{Q - Q_3}{Q_4 - Q_3} \\times L'_{CL,R,NV_l,Q_4,d,t,i} & (Q_3 > Qの場合) \\\\\n",
    "\\end{array}\n",
    "\\right.\n",
    "$$"
   ]
  },
  {
   "cell_type": "markdown",
   "metadata": {},
   "source": [
    "8 地域の場合"
   ]
  },
  {
   "cell_type": "markdown",
   "metadata": {},
   "source": [
    "$$\\large\n",
    "L'_{CS,R,NV_l,d,t,i} = \\left\\{ \\begin{array}{ll}\n",
    "    \\frac{Q-Q_2}{Q_1 - Q_2} \\times L'_{CS,R,NV_l,Q_1,d,t,i} + \\frac{Q - Q_1}{Q_2 - Q_1} \\times L'_{CS,R,NV_l,Q_2,d,t,i} & (Q \\ge Q_2の場合) \\\\\n",
    "    \\frac{Q-Q_3}{Q_2 - Q_3} \\times L'_{CS,R,NV_l,Q_2,d,t,i} + \\frac{Q - Q_2}{Q_3 - Q_2} \\times L'_{CS,R,NV_l,Q_3,d,t,i} & (Q_2 > Qの場合) \\\\\n",
    "\\end{array}\n",
    "\\right.\n",
    "$$\n",
    "\n",
    "$$\\large\n",
    "L'_{CL,R,NV_l,d,t,i} = \\left\\{ \\begin{array}{ll}\n",
    "    \\frac{Q - Q_2}{Q_1 - Q_2} \\times L'_{CL,R,NV_l,Q_1,d,t,i} + \\frac{Q - Q_1}{Q_2 - Q_1} \\times L'_{CL,R,NV_l,Q_2,d,t,i} & (Q \\ge Q_2の場合) \\\\\n",
    "    \\frac{Q - Q_3}{Q_2 - Q_3} \\times L'_{CL,R,NV_l,Q_2,d,t,i} + \\frac{Q - Q_2}{Q_3 - Q_2} \\times L'_{CL,R,NV_l,Q_3,d,t,i} & (Q_2 > Qの場合) \\\\\n",
    "\\end{array}\n",
    "\\right.\n",
    "$$"
   ]
  },
  {
   "cell_type": "markdown",
   "metadata": {},
   "source": [
    "$L'_{CS,R,NV_l,Q_j,d,t,i}$：日付$d$の時刻$t$における暖冷房区画$i$の通風の利用における相当換気回数$NV_l$の熱損失係数$Q_j$の標準住戸の負荷補正前の冷房顕熱負荷(MJ/h)  \n",
    "$L'_{CL,R,NV_l,Q_j,d,t,i}$：日付$d$の時刻$t$における暖冷房区画$i$の通風の利用における相当換気回数$NV_l$の熱損失係数$Q_j$の標準住戸の負荷補正前の冷房潜熱負荷(MJ/h)  "
   ]
  },
  {
   "cell_type": "markdown",
   "metadata": {},
   "source": [
    "$$\\large\n",
    "L'_{CS,R,NV_l,Q_j,d,t,i} = \\left\\{ \\begin{array}{ll}\n",
    "    \\frac{\\mu_C - \\mu_{C,j,2}}{\\mu_{C,j,1} - \\mu_{C,j,2}} \\times L'_{CS,R,NV_l,Q_j,\\mu_{C,j,1},d,t,i} + \\frac{\\mu_C - \\mu_{C,j,1}}{\\mu_{C,j,2} - \\mu_{C,j,1}} \\times L'_{CS,R,NV_l,Q_j,\\mu_{C,j,2},d,t,i} & (\\mu_C < \\mu_{C,j,2}) \\\\\n",
    "    \\frac{\\mu_C - \\mu_{C,j,3}}{\\mu_{C,j,2} - \\mu_{C,j,3}} \\times L'_{CS,R,NV_l,Q_j,\\mu_{C,j,2},d,t,i} + \\frac{\\mu_C - \\mu_{C,j,2}}{\\mu_{C,j,3} - \\mu_{C,j,2}} \\times L'_{CS,R,NV_l,Q_j,\\mu_{C,j,3},d,t,i} & (\\mu_{C,j,2} \\le \\mu_C) \\\\\n",
    "\\end{array}\n",
    "\\right.\n",
    "$$\n",
    "\n",
    "$$\\large\n",
    "L'_{CL,R,NV_l,Q_j,d,t,i} = \\left\\{ \\begin{array}{ll}\n",
    "    \\frac{\\mu_C - \\mu_{C,j,2}}{\\mu_{C,j,1} - \\mu_{C,j,2}} \\times L'_{CL,R,NV_l,Q_j,\\mu_{C,j,1},d,t,i} + \\frac{\\mu_C - \\mu_{C,j,1}}{\\mu_{C,j,2} - \\mu_{C,j,1}} \\times L'_{CL,R,NV_l,Q_j,\\mu_{C,j,2},d,t,i} & (\\mu_C < \\mu_{C,j,2}) \\\\\n",
    "    \\frac{\\mu_C - \\mu_{C,j,3}}{\\mu_{C,j,2} - \\mu_{C,j,3}} \\times L'_{CL,R,NV_l,Q_j,\\mu_{C,j,2},d,t,i} + \\frac{\\mu_C - \\mu_{C,j,2}}{\\mu_{C,j,3} - \\mu_{C,j,2}} \\times L'_{CL,R,NV_l,Q_j,\\mu_{C,j,3},d,t,i} & (\\mu_{C,j,2} \\le \\mu_C) \\\\\n",
    "\\end{array}\n",
    "\\right.\n",
    "$$\n"
   ]
  },
  {
   "cell_type": "markdown",
   "metadata": {},
   "source": [
    "$L'_{CS,R,NV_l,Q_j,\\mu_{C,j,k},d,t,i}$：日付$d$の時刻$t$における暖冷房区画$i$の通風の利用における相当換気回数$NV_l$の熱損失係数$Q_j$かつ冷房期の日射取得係数$\\mu_{C,j,k}$の標準住戸の負荷補正前の冷房顕熱負荷(MJ/h)  \n",
    "$L'_{CL,R,NV_l,Q_j,\\mu_{C,j,1},d,t,i}$：日付$d$の時刻$t$における暖冷房区画$i$の通風の利用における相当換気回数$NV_l$の熱損失係数$Q_j$かつ冷房期の日射取得係数$\\mu_{C,j,k}$のの標準住戸の負荷補正前の冷房潜熱負荷(MJ/h)  \n",
    "$\\mu_C$：冷房期の日射取得係数  \n",
    "$\\mu_{C,j,k}$：断熱性能の区分$j$における日射取得性能の区分$k$の冷房期の日射取得係数  "
   ]
  },
  {
   "cell_type": "markdown",
   "metadata": {},
   "source": [
    "### 8．熱損失係数の計算方法"
   ]
  },
  {
   "cell_type": "markdown",
   "metadata": {},
   "source": [
    "地域の区分が 8 地域又は熱交換型換気設備を採用していない場合は、熱損失係数$Q$に等しいとする。 "
   ]
  },
  {
   "cell_type": "markdown",
   "metadata": {},
   "source": [
    "$$\\large\n",
    "Q_{HEXC} = Q - C_{V} \\times r_{V} \\times \\eta'_{t}\n",
    "$$"
   ]
  },
  {
   "cell_type": "markdown",
   "metadata": {},
   "source": [
    "$Q$：熱損失係数(W/m<sup>2</sup>K)  \n",
    "$C_{V}$：空気の容積比熱(Wh/m<sup>2</sup>K)  \n",
    "$r_{V}$：床面積当たりの換気量の比((m<sup>3</sup>/h)/m<sup>2</sup>)  \n",
    "$\\eta'_{t}$：熱交換型換気設備の補正温度交換効率  "
   ]
  },
  {
   "cell_type": "markdown",
   "metadata": {},
   "source": [
    "空気の容積比熱$C_{V}$は0.35とし、床面積当たりの換気量の比$r_{V}$は4⁄3（床面積120m<sup>2</sup> に対する換気量160m<sup>3</sup>/h）とする。"
   ]
  },
  {
   "cell_type": "markdown",
   "metadata": {},
   "source": [
    "$$\\large\n",
    "Q = Q' + 0.35 \\times 0.5 \\times 2.4\n",
    "$$"
   ]
  },
  {
   "cell_type": "markdown",
   "metadata": {},
   "source": [
    "$Q'$：熱損失係数数（換気による熱損失を含まない）(W/m<sup>2</sup>K)  "
   ]
  },
  {
   "cell_type": "markdown",
   "metadata": {},
   "source": [
    "### 9．暖冷房区画$i$の床面積"
   ]
  },
  {
   "cell_type": "markdown",
   "metadata": {},
   "source": [
    "$$\\large\n",
    "A_{HCZ,i} = \\left\\{ \\begin{array}{ll}\n",
    "   A_{HCZ,R,i} \\times \\frac{A_{MR}}{A_{MR,R}} & (i = 1) \\\\\n",
    "   A_{HCZ,R,i} \\times \\frac{A_{OR}}{A_{OR,R}} & (i = 2～5) \\\\\n",
    "   A_{HCZ,R,i} \\times \\frac{(A_{A}-A_{MR}-A_{OR})}{A_{NO,R}} & (i = 6～12) \\\\\n",
    "\\end{array}\n",
    "\\right.\n",
    "$$"
   ]
  },
  {
   "cell_type": "markdown",
   "metadata": {},
   "source": [
    "$A_{HCZ,R,i}$：標準住戸における暖冷房区画$i$の床面積(m<sup>2</sup>)  \n",
    "$A_{MR}$：主たる居室の床面積(m<sup>2</sup>)  \n",
    "$A_{OR}$：その他の居室の床面積(m<sup>2</sup>)  \n",
    "$A_{A}$：床面積の合計(m<sup>2</sup>)  \n",
    "$A_{MR,R}$：標準住戸の主たる居室の床面積(m<sup>2</sup>)  \n",
    "$A_{OR,R}$：標準住戸のその他の居室の床面積(m<sup>2</sup>)  \n",
    "$A_{NO,R}$：標準住戸の非居室の床面積(m<sup>2</sup>)  "
   ]
  },
  {
   "cell_type": "markdown",
   "metadata": {},
   "source": [
    "<div style=\"text-align: center;font-weight: bold;\">表　標準住戸における主たる居室、その他の居室及び非居室の面積、並びに暖冷房区画݅の床面積</div>\n",
    "\n",
    "<table>\n",
    "<thead>\n",
    "<tr>\n",
    "<th>暖冷房区画$i$の番号</th>\n",
    "<th>（参考）<br>想定する居室の種類 </th>\n",
    "<th>居室の種類 </th>\n",
    "<th>暖冷房区画$i$の<br>床面積(m<sup>2</sup>)</th>\n",
    "<th>主たる居室、<br>その他の居室、<br>非居室の床面積<br>(m<sup>2</sup>)</th>\n",
    "</tr>\n",
    "</thead>\n",
    "    \n",
    "<tbody>\n",
    "<tr>\n",
    "<th>1</th>\n",
    "<th>居間食堂（LD）・台所（Ｋ）</th>\n",
    "<th>主たる居室</th>\n",
    "<td>29.81</td>\n",
    "<td>29.81</td>\n",
    "</tr>\n",
    "<tr>\n",
    "<th>2</th>\n",
    "<th>和室</th>\n",
    "<th rowspan=\"4\">その他の居室</th>\n",
    "<td>16.56</td>\n",
    "<td rowspan=\"4\">51.34</td>\n",
    "</tr>\n",
    "<tr>\n",
    "<th>3</th>\n",
    "<th>主寝室</th>\n",
    "<td>13.25</td>\n",
    "</tr>\n",
    "<tr>\n",
    "<th>4</th>\n",
    "<th>子供室 1 </th>\n",
    "<td>10.76</td>\n",
    "</tr>\n",
    "<tr>\n",
    "<th>5</th>\n",
    "<th>子供室 2 </th>\n",
    "<td>10.77</td>\n",
    "</tr>\n",
    "<tr>\n",
    "<th>6</th>\n",
    "<th>浴室</th>\n",
    "<th rowspan=\"7\">非居室</th>\n",
    "<td>3.31</td>\n",
    "<td rowspan=\"7\">38.93\n",
    "</td>\n",
    "</tr>\n",
    "<tr>\n",
    "<th>7</th>\n",
    "<th>1F 便所</th>\n",
    "<td>1.66</td>\n",
    "</tr>\n",
    "<tr>\n",
    "<th>8</th>\n",
    "<th>洗面所</th>\n",
    "<td>3.31</td>\n",
    "</tr>\n",
    "<tr>\n",
    "<th>9</th>\n",
    "<th>ホール</th>\n",
    "<td>13.25</td>\n",
    "</tr>\n",
    "<tr>\n",
    "<th>10</th>\n",
    "<th>クローゼット</th>\n",
    "<td>4.97</td>\n",
    "</tr>\n",
    "<tr>\n",
    "<th>11</th>\n",
    "<th>2F ホール</th>\n",
    "<td>10.77</td>\n",
    "</tr>\n",
    "<tr>\n",
    "<th>12</th>\n",
    "<th>2F 便所</th>\n",
    "<td>1.66</td>\n",
    "</tr>\n",
    "</tbody>\n",
    "</table>"
   ]
  },
  {
   "cell_type": "markdown",
   "metadata": {},
   "source": [
    "### 10．暖房日"
   ]
  },
  {
   "cell_type": "markdown",
   "metadata": {},
   "source": [
    "暖房日は暖房使用が発生することが見込まれる日と定義し、当該日の前日において標準住戸全体の負荷補正前の暖房負荷を日積算した値がゼロを超える場合（すなわち、$0 < \\sum_{t=0}^{23} \\sum_{i=1}^{12} L'_{H,R,d-1,t,i}$ の場合）、日付$d$は暖房日とする。ただし、日積算においては、日付$d-1$の時刻$t$における暖冷房区画$i$の標準住戸の負荷補正前の暖房負荷$L'_{H,R,d-1,t,i}$は、ゼロ未満の場合はゼロとする。また、日付$d$が 1 月 1 日である場合、日付݀は暖房日とする。 "
   ]
  },
  {
   "cell_type": "markdown",
   "metadata": {},
   "source": [
    "### 付録 A 熱交換型換気設備"
   ]
  },
  {
   "cell_type": "markdown",
   "metadata": {},
   "source": [
    "省略"
   ]
  },
  {
   "cell_type": "markdown",
   "metadata": {},
   "source": [
    "### 付録 B 蓄熱の利用"
   ]
  },
  {
   "cell_type": "markdown",
   "metadata": {},
   "source": [
    "省略"
   ]
  },
  {
   "cell_type": "markdown",
   "metadata": {},
   "source": [
    "### 付録 C 通風を確保する措置の有無の判定"
   ]
  },
  {
   "cell_type": "markdown",
   "metadata": {},
   "source": [
    "省略"
   ]
  }
 ],
 "metadata": {
  "kernelspec": {
   "display_name": "Python 3",
   "language": "python",
   "name": "python3"
  },
  "language_info": {
   "codemirror_mode": {
    "name": "ipython",
    "version": 3
   },
   "file_extension": ".py",
   "mimetype": "text/x-python",
   "name": "python",
   "nbconvert_exporter": "python",
   "pygments_lexer": "ipython3",
   "version": "3.6.7"
  }
 },
 "nbformat": 4,
 "nbformat_minor": 2
}
