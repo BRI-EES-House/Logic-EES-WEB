{
 "cells": [
  {
   "cell_type": "code",
   "execution_count": null,
   "metadata": {},
   "outputs": [],
   "source": [
    "import numpy as np\n",
    "from functools import lru_cache\n",
    "\n",
    "# 暖冷房負荷ファイルの読み込み\n",
    "from section3_1_file import \\\n",
    "    get_filename, \\\n",
    "    get_L_dash_H_R_TSl_Qj_muH_j_k_d_t_i, \\\n",
    "    get_L_dash_CS_R_NVl_Qj_muH_j_k_d_t_i, \\\n",
    "    get_L_dash_CL_R_NVl_Qj_muH_j_k_d_t_i\n",
    "\n",
    "# 床下空間を経由して外気を導入する方式\n",
    "import section3_1_d as uf\n",
    "\n",
    "# 空気集熱式太陽熱利用設備による負荷削減量\n",
    "import section9_3 as ass\n",
    "\n",
    "from section11_1 import load_outdoor, get_Theta_ex\n"
   ]
  },
  {
   "cell_type": "markdown",
   "metadata": {},
   "source": [
    "# 第三章　暖冷房負荷と外皮性能 / Chapter 3 Heating and cooling load and shell performance"
   ]
  },
  {
   "cell_type": "markdown",
   "metadata": {},
   "source": [
    "## 第一節　全般 / Section 1 General"
   ]
  },
  {
   "cell_type": "markdown",
   "metadata": {},
   "source": [
    "1．適用範囲～4．記号及び単位は省略"
   ]
  },
  {
   "cell_type": "markdown",
   "metadata": {},
   "source": [
    "1. Scope of application ~ 4. Symbols and units are omitted"
   ]
  },
  {
   "cell_type": "markdown",
   "metadata": {},
   "source": [
    "### 5．暖冷房負荷の補正 / Correction of heating and cooling load"
   ]
  },
  {
   "cell_type": "markdown",
   "metadata": {},
   "source": [
    "$$\\large\n",
    "L_{H,d,t,i} = L'_{H,d,t,i} \\times f_{R,Evp,i} \\times f_{R,Eqp,i} \\times f_{TD,i}  \n",
    "$$"
   ]
  },
  {
   "cell_type": "markdown",
   "metadata": {},
   "source": [
    "$L_{H,d,t,i}$：日付$d$の時刻$t$における暖冷房区画$i$の暖房負荷(MJ/h) / Heating load of heating / cooling section $ i $ at time $ t $ with date $ d $  \n",
    "$L'_{H,d,t,i}$：日付$d$の時刻$t$における暖冷房区画$i$の負荷補正前の暖房負荷(MJ/h) / Heating load before load correction of heating / cooling section $ i $ at time $ t $ of date $ d $  \n",
    "$f_{R,Evp,i}$：暖冷房区画$i$における外皮等の表面温度による放射温度を考慮した負荷補正係数 / Load correction factor considering radiation temperature due to surface temperature of hull etc. in heating / cooling section $ i $  \n",
    "$f_{R,Eqp,i}$：暖冷房区画$i$における暖房設備の方式による放射温度を考慮した負荷補正係数 / Load correction factor considering the radiation temperature by the method of heating equipment in heating and cooling division $ i $  \n",
    "$f_{TD,i}$：暖冷房区画$i$における上下温度分布を考慮した負荷補正係数 / Load correction factor considering temperature distribution in heating / cooling section $ i $  "
   ]
  },
  {
   "cell_type": "code",
   "execution_count": null,
   "metadata": {},
   "outputs": [],
   "source": [
    "# 暖冷房区画i݅の１時間当たりの暖房負荷 (1)\n",
    "@lru_cache()\n",
    "def get_L_H_d_t_i(region, A_A, A_MR, A_OR, mode, TS, Q, mu_H, hex, etr_dash_t, r_A_ufvnt, underfloor_insulation,\n",
    "                   R_l_i, floorheating, hotwater_use=None, supply_target=None, sol_region=None, P_alpha=None, P_beta=None,\n",
    "                       A_col=None, V_fan_P0=None, m_fan_test=None, d0=None, d1=None, r_A_ufvnt_ass=None, ufv_insulation=None):\n",
    "    L_H_d_t_i = np.zeros((12, 24 * 365))\n",
    "\n",
    "    outdoor = load_outdoor()\n",
    "    Theta_ex_d_t = get_Theta_ex(region, outdoor)\n",
    "\n",
    "    # 負荷補正前の暖房負荷\n",
    "    L_dash_H_d_t_i, L_dash_H_R_d_t_i = get_L_dash_H_d_t_i(\n",
    "        region=region,\n",
    "        A_A=A_A,\n",
    "        A_MR=A_MR,\n",
    "        A_OR=A_OR,\n",
    "        mode=mode,\n",
    "        TS=TS,\n",
    "        Q=Q,\n",
    "        mu_H=mu_H,\n",
    "        hex=hex,\n",
    "        etr_dash_t=etr_dash_t,\n",
    "        r_A_ufvnt=r_A_ufvnt,\n",
    "        underfloor_insulation=underfloor_insulation,\n",
    "        Theta_ex_d_t=Theta_ex_d_t,\n",
    "        hotwater_use=hotwater_use,\n",
    "        supply_target=supply_target,\n",
    "        sol_region=sol_region,\n",
    "        P_alpha=P_alpha,\n",
    "        P_beta=P_beta,\n",
    "        A_col=A_col,\n",
    "        V_fan_P0=V_fan_P0,\n",
    "        m_fan_test=m_fan_test,\n",
    "        d0=d0,\n",
    "        d1=d1,\n",
    "        r_A_ufvnt_ass=r_A_ufvnt_ass,\n",
    "        ufv_insulation=ufv_insulation\n",
    "    )\n",
    "\n",
    "    # ----- 負荷補正の実施 -----\n",
    "    for i in range(1, 13):\n",
    "        if mode[i - 1] is not None:\n",
    "            # 外皮等の表面温度による放射温度を考慮した負荷補正係数\n",
    "            f_R_Evp_i = get_f_R_Evp_i(region=region, mode=mode[i - 1], Q=Q)\n",
    "\n",
    "            # 暖房設備の方式による放射温度を考慮した負荷補正係数\n",
    "            f_R_Eqp_i = get_f_R_Eqp_i(floorheating=floorheating[i - 1], mode=mode[i - 1], R_l_i=R_l_i[i - 1])\n",
    "\n",
    "            # 上下温度分布を考慮した負荷補正係数\n",
    "            f_TD_i = get_f_TD_i(floorheating=floorheating[i - 1], region=region, mode=mode[i - 1], Q=Q)\n",
    "\n",
    "            L_H_d_t_i[i - 1, :] = L_dash_H_d_t_i[i - 1, :] * f_R_Evp_i * f_R_Eqp_i * f_TD_i  # (1)\n",
    "        else:\n",
    "            L_H_d_t_i[i - 1, :] = L_dash_H_d_t_i[i - 1, :]  # (1)\n",
    "\n",
    "    return L_H_d_t_i, L_dash_H_R_d_t_i\n"
   ]
  },
  {
   "cell_type": "markdown",
   "metadata": {},
   "source": [
    "$$\\large\n",
    "f_{R,Evp,i} = a_{R,Evp,i} \\times Q + b_{R,Evp,i} \n",
    "$$"
   ]
  },
  {
   "cell_type": "markdown",
   "metadata": {},
   "source": [
    "$Q$：熱損失係数(W/(m<sup>2</sup>K)) / Heat loss coefficient  "
   ]
  },
  {
   "cell_type": "markdown",
   "metadata": {},
   "source": [
    "<div style=\"text-align: center;font-weight: bold;\">表　係数$a_{R,Evp,i}$及び$b_{R,Evp,i}$<br>Table: Coefficients $ a_ {R, Evp, i} $ and $ b_ {R, Evp, i} $</div>\n",
    "\n",
    "<table>\n",
    "<thead>\n",
    "<tr>\n",
    "<th rowspan=\"4\">地域の区分<br>Segmentation of area</th>\n",
    "<th colspan=\"6\"><center>暖房方式及び運転方法の区分<br>Classification of heating method and operation method</center></th>\n",
    "</tr>\n",
    "<tr>\n",
    "<th colspan=\"2\">（い）<br>(I)</th>\n",
    "<th colspan=\"2\">（ろ）<br>(RO)</th>\n",
    "<th colspan=\"2\">（は）<br>(HA)</th>\n",
    "</tr>\n",
    "<tr>\n",
    "<th colspan=\"2\">「住戸全体を連続的に<br>暖房する方式」<br>\"Method to heat the entire dwelling unit continuously\" </th>\n",
    "<th colspan=\"2\">「居室のみを暖房する方式」<br>かつ「連続運転」の場合 <br>In the case of \"method to heat only the living room\" and \"continuous operation\"</th>\n",
    "<th colspan=\"2\">「居室のみを暖房する方式」<br>かつ「間歇運転」の場合<br>In the case of \"method to heat only the living room\" and \"intermittent operation\"</th>\n",
    "</tr>\n",
    "<tr>\n",
    "<th>$a_{R,Evp,i}$</th>\n",
    "<th>$b_{R,Evp,i}$</th>\n",
    "<th>$a_{R,Evp,i}$</th>\n",
    "<th>$b_{R,Evp,i}$</th>\n",
    "<th>$a_{R,Evp,i}$</th>\n",
    "<th>$b_{R,Evp,i}$</th>\n",
    "</tr>\n",
    "</thead>\n",
    "\n",
    "<tbody>\n",
    "<tr>\n",
    "<th>1</th>\n",
    "<td>0.031</td>\n",
    "<td>0.971</td>\n",
    "<td>0.041</td>\n",
    "<td>0.975</td>\n",
    "<td>0.059</td>\n",
    "<td>1.038</td>\n",
    "</tr>\n",
    "<tr>\n",
    "<th>2</th>\n",
    "<td>0.032</td>\n",
    "<td>0.966</td>\n",
    "<td>0.043</td>\n",
    "<td>0.970</td>\n",
    "<td>0.060</td>\n",
    "<td>1.034</td>\n",
    "</tr>\n",
    "<tr>\n",
    "<th>3</th>\n",
    "<td>0.030</td>\n",
    "<td>0.963</td>\n",
    "<td>0.039</td>\n",
    "<td>0.970</td>\n",
    "<td>0.050</td>\n",
    "<td>1.049</td>\n",
    "</tr>\n",
    "<tr>\n",
    "<th>4</th>\n",
    "<td>0.027</td>\n",
    "<td>0.972</td>\n",
    "<td>0.033</td>\n",
    "<td>0.985</td>\n",
    "<td>0.040</td>\n",
    "<td>1.081</td>\n",
    "</tr>\n",
    "<tr>\n",
    "<th>5</th>\n",
    "<td>0.028</td>\n",
    "<td>0.966</td>\n",
    "<td>0.034</td>\n",
    "<td>0.981</td>\n",
    "<td>0.038</td>\n",
    "<td>1.092</td>\n",
    "</tr>\n",
    "<tr>\n",
    "<th>6</th>\n",
    "<td>0.029</td>\n",
    "<td>0.961</td>\n",
    "<td>0.035</td>\n",
    "<td>0.974</td>\n",
    "<td>0.039</td>\n",
    "<td>1.090</td>\n",
    "</tr>\n",
    "<tr>\n",
    "<th>7</th>\n",
    "<td>0.020</td>\n",
    "<td>0.921</td>\n",
    "<td>0.024</td>\n",
    "<td>0.937</td>\n",
    "<td>0.021</td>\n",
    "<td>1.094</td>\n",
    "</tr>\n",
    "</tbody>\n",
    "</table>\n"
   ]
  },
  {
   "cell_type": "code",
   "execution_count": null,
   "metadata": {},
   "outputs": [],
   "source": [
    "# 外皮等の表面温度による放射温度を考慮した負荷補正係数 (2)\n",
    "def get_f_R_Evp_i(region, mode, Q):\n",
    "    # 表 3 式(2)における係数\n",
    "    table_3 = [\n",
    "        (0.031, 0.971, 0.041, 0.975, 0.059, 1.038),\n",
    "        (0.032, 0.966, 0.043, 0.970, 0.060, 1.034),\n",
    "        (0.030, 0.963, 0.039, 0.970, 0.050, 1.049),\n",
    "        (0.027, 0.972, 0.033, 0.985, 0.040, 1.081),\n",
    "        (0.028, 0.966, 0.034, 0.981, 0.038, 1.092),\n",
    "        (0.029, 0.961, 0.035, 0.974, 0.039, 1.090),\n",
    "        (0.020, 0.921, 0.024, 0.937, 0.021, 1.094)\n",
    "    ]\n",
    "\n",
    "    # 式(2)における係数\n",
    "    if mode == 'い' or mode == '住戸全体を連続的に暖房する方式' or mode == '全館連続':\n",
    "        a_R_Evp_i = table_3[region - 1][0]\n",
    "        b_R_Evp_i = table_3[region - 1][1]\n",
    "    elif mode == 'ろ':\n",
    "        a_R_Evp_i = table_3[region - 1][2]\n",
    "        b_R_Evp_i = table_3[region - 1][3]\n",
    "    elif mode == 'は':\n",
    "        a_R_Evp_i = table_3[region - 1][4]\n",
    "        b_R_Evp_i = table_3[region - 1][5]\n",
    "    else:\n",
    "        raise ValueError(mode)\n",
    "\n",
    "    return a_R_Evp_i * Q + b_R_Evp_i  # (2)"
   ]
  },
  {
   "cell_type": "markdown",
   "metadata": {},
   "source": [
    "温水床暖房又は電気ヒーター床暖房を暖冷房区画$i$において採用しない場合は、1.0とする。 "
   ]
  },
  {
   "cell_type": "markdown",
   "metadata": {},
   "source": [
    "If hot floor heating or electric heater floor heating is not adopted in heating / cooling section $ i $, it is 1.0."
   ]
  },
  {
   "cell_type": "markdown",
   "metadata": {},
   "source": [
    "$$\\large\n",
    "f_{R,Eqp,i} = a_{R,Eqp,i} \\times R_{l,i} + 1 \n",
    "$$"
   ]
  },
  {
   "cell_type": "markdown",
   "metadata": {},
   "source": [
    "$R_{l,i}$：暖冷房区画$i$に設置された温水床暖房又は電気ヒーター床暖房の敷設率 / Rate of laying hot floor heating or electric heating floor heating installed in heating and cooling section $ i $  "
   ]
  },
  {
   "cell_type": "code",
   "execution_count": null,
   "metadata": {},
   "outputs": [],
   "source": [
    "def get_f_R_Eqp_i(floorheating, mode, R_l_i):\n",
    "    # 表 4 式(3)における係数\n",
    "    table_4 = (-0.105, -0.137, -0.231)\n",
    "\n",
    "    # 温水床暖房又は電気ヒーター床暖房を暖冷房区画݅において採用する場合は、式(3)により表されるものとし、\n",
    "    # 温水床暖房又は電気ヒーター床暖房を暖冷房区画݅において採用しない場合は、1.0とする。\n",
    "    if floorheating:\n",
    "\n",
    "        # 式(3)における係数\n",
    "        if mode == 'い':\n",
    "            a_R_Eqp_i = table_4[0]\n",
    "        elif mode == 'ろ':\n",
    "            a_R_Eqp_i = table_4[1]\n",
    "        elif mode == 'は':\n",
    "            a_R_Eqp_i = table_4[2]\n",
    "        else:\n",
    "            raise ValueError(mode)\n",
    "\n",
    "        return a_R_Eqp_i * R_l_i + 1.0  # (3)\n",
    "    else:\n",
    "        return 1.0"
   ]
  },
  {
   "cell_type": "markdown",
   "metadata": {},
   "source": [
    "$$\\large\n",
    "r'_{Af} = \\frac{A_{f}}{A'_{HCZ}}\n",
    "$$"
   ]
  },
  {
   "cell_type": "markdown",
   "metadata": {},
   "source": [
    "$A_{f}$：（当該住戸における）床暖房パネルの敷設面積(m<sup>2</sup>) / Flooring panel floor area (in the relevant unit)  \n",
    "$A'_{HCZ}$：（当該住戸における）主たる居室における仮想床の床面積を除いた床面積(m<sup>2</sup>) / Floor area excluding the floor area of the virtual floor in the main room (in the relevant dwelling unit)  "
   ]
  },
  {
   "cell_type": "markdown",
   "metadata": {},
   "source": [
    "<div style=\"text-align: center;font-weight: bold;\">表　係数$a_{R,Eqp,i}$<br>Table: Coefficients</div>\n",
    "\n",
    "<table>\n",
    "<thead>\n",
    "<tr>\n",
    "<th colspan=\"3\"><center>暖房方式及び運転方法の区分<br>Classification of heating method and operation method</center></th>\n",
    "</tr>\n",
    "<tr>\n",
    "<th>（い）<br>(I)</th>\n",
    "<th>（ろ）<br>(RO)</th>\n",
    "<th>（は）<br>(HA)</th>\n",
    "</tr>\n",
    "<tr>\n",
    "<th>「住宅全体を連続して暖房する方式」<br>\"Continuous heating system of the whole house\"</th>\n",
    "<th>「居室のみを暖房する方式」<br>かつ「連続運転」の場合<br>In the case of \"method to heat only the living room\" and \"continuous operation\"</th>\n",
    "<th>「居室のみを暖房する方式」<br>かつ「間歇運転」の場合<br>\"Method to heat only the living room\" and in the case of \"intermittent operation\"</th>\n",
    "</tr>\n",
    "</thead>\n",
    "\n",
    "<tbody>\n",
    "<tr>\n",
    "<td>-0.105</td>\n",
    "<td>-0.137</td>\n",
    "<td>-0.231</td>\n",
    "</tr>\n",
    "</tbody>\n",
    "</table>\n"
   ]
  },
  {
   "cell_type": "markdown",
   "metadata": {},
   "source": [
    "暖冷房区画$i$に温水床暖房又は電気ヒーター床暖房を採用する場合は1.0とし、それ以外の場合は、下式により表される。 "
   ]
  },
  {
   "cell_type": "markdown",
   "metadata": {},
   "source": [
    "In the case where hot floor heating or electric heater floor heating is adopted for the heating and cooling section $ i $, it is 1.0, and in the other cases, it is expressed by the following equation."
   ]
  },
  {
   "cell_type": "markdown",
   "metadata": {},
   "source": [
    "$$\\large\n",
    "f_{TD,i} = min(a_{TD,i} \\times Q^2 + 1, f_{TD,max})\n",
    "$$"
   ]
  },
  {
   "cell_type": "markdown",
   "metadata": {},
   "source": [
    "<div style=\"text-align: center;font-weight: bold;\">表　係数$a_{TD,i}$<br>Table: Coefficients $a_{TD,i}$</div>\n",
    "\n",
    "<table>\n",
    "<thead>\n",
    "<tr>\n",
    "<th rowspan=\"4\">地域の区分<br>Segmentation of area</th>\n",
    "    <th colspan=\"6\"><center>暖房方式及び運転方法の区分<br>Classification of heating method and operation method</center></th>\n",
    "</tr>\n",
    "<tr>\n",
    "<th colspan=\"2\">（い）<br>(I)</th>\n",
    "<th colspan=\"2\">（ろ）<br>(RO)</th>\n",
    "<th colspan=\"2\">（は）<br>(HA)</th>\n",
    "</tr>\n",
    "<tr>\n",
    "<th colspan=\"2\">「住戸全体を連続的に<br>暖房する方式」<br>\"Method to heat the entire dwelling unit continuously\"</th>\n",
    "<th colspan=\"2\">「居室のみを暖房する方式」<br>かつ「連続運転」の場合<br>In the case of \"method to heat only the living room\" and \"continuous operation\"</th>\n",
    "<th colspan=\"2\">「居室のみを暖房する方式」<br>かつ「間歇運転」の場合<br>\"Method to heat only the living room\" and in the case of \"intermittent operation\"</tr>\n",
    "<tr>\n",
    "<th>$a_{TD,i}$</th>\n",
    "<th>$f_{TD,max}$</th>\n",
    "<th>$a_{TD,i}$</th>\n",
    "<th>$f_{TD,max}$</th>\n",
    "<th>$a_{TD,i}$</th>\n",
    "<th>$f_{TD,max}$</th>\n",
    "</tr>\n",
    "</thead>\n",
    "\n",
    "<tbody>\n",
    "<tr>\n",
    "<th>1</th>\n",
    "<td>0.0157</td>\n",
    "<td>1.0842</td>\n",
    "<td>0.0163</td>\n",
    "<td>1.0862</td>\n",
    "<td>0.0176</td>\n",
    "<td>1.0860</td>\n",
    "</tr>\n",
    "<tr>\n",
    "<th>2</th>\n",
    "<td>0.0157</td>\n",
    "<td>1.0928</td>\n",
    "<td>0.0163</td>\n",
    "<td>1.0954</td>\n",
    "<td>0.0176</td>\n",
    "<td>1.0981</td>\n",
    "</tr>\n",
    "<tr>\n",
    "<th>3</th>\n",
    "<td>0.0097</td>\n",
    "<td>1.1048</td>\n",
    "<td>0.0101</td>\n",
    "<td>1.1079</td>\n",
    "<td>0.0110</td>\n",
    "<td>1.1147</td>\n",
    "</tr>\n",
    "<tr>\n",
    "<th>4</th>\n",
    "<td>0.0063</td>\n",
    "<td>1.1111</td>\n",
    "<td>0.0066</td>\n",
    "<td>1.1146</td>\n",
    "<td>0.0072</td>\n",
    "<td>1.1235</td>\n",
    "</tr>\n",
    "<tr>\n",
    "<th>5</th>\n",
    "<td>0.0045</td>\n",
    "<td>1.1223</td>\n",
    "<td>0.0047</td>\n",
    "<td>1.1264</td>\n",
    "<td>0.0053</td>\n",
    "<td>1.1391</td>\n",
    "</tr>\n",
    "<tr>\n",
    "<th>6</th>\n",
    "<td>0.0045</td>\n",
    "<td>1.1277</td>\n",
    "<td>0.0047</td>\n",
    "<td>1.1320</td>\n",
    "<td>0.0053</td>\n",
    "<td>1.1465</td>\n",
    "</tr>\n",
    "<tr>\n",
    "<th>7</th>\n",
    "<td>0.0014</td>\n",
    "<td>1.1357</td>\n",
    "<td>0.0015</td>\n",
    "<td>1.1404</td>\n",
    "<td>0.0017</td>\n",
    "<td>1.1576</td>\n",
    "</tr>\n",
    "</tbody>\n",
    "</table>\n"
   ]
  },
  {
   "cell_type": "code",
   "execution_count": null,
   "metadata": {},
   "outputs": [],
   "source": [
    "# 暖冷房区画݅における上下温度分布を考慮した負荷補正係数\n",
    "def get_f_TD_i(floorheating, region, mode, Q):\n",
    "    # 表 5 式(5)における係数\n",
    "    table_5 = [\n",
    "        (0.0157, 1.0842, 0.0163, 1.0862, 0.0176, 1.0860),\n",
    "        (0.0157, 1.0928, 0.0163, 1.0954, 0.0176, 1.0981),\n",
    "        (0.0097, 1.1048, 0.0101, 1.1079, 0.0110, 1.1147),\n",
    "        (0.0063, 1.1111, 0.0066, 1.1146, 0.0072, 1.1235),\n",
    "        (0.0045, 1.1223, 0.0047, 1.1264, 0.0053, 1.1391),\n",
    "        (0.0045, 1.1277, 0.0047, 1.1320, 0.0053, 1.1465),\n",
    "        (0.0014, 1.1357, 0.0015, 1.1404, 0.0017, 1.1576)\n",
    "    ]\n",
    "\n",
    "    # 暖冷房区画iに温水床暖房又は電気ヒーター床暖房を採用する場合は1.0とし、それ以外の場合は、式(5)により表される。\n",
    "    if floorheating:\n",
    "        return 1.0\n",
    "    else:\n",
    "\n",
    "        if mode == 'い' or mode == '住戸全体を連続的に暖房する方式' or mode == '全館連続':\n",
    "            a_TD_i = table_5[region - 1][0]\n",
    "            f_TD_max = table_5[region - 1][1]\n",
    "        elif mode == 'ろ':\n",
    "            a_TD_i = table_5[region - 1][2]\n",
    "            f_TD_max = table_5[region - 1][3]\n",
    "        elif mode == 'は':\n",
    "            a_TD_i = table_5[region - 1][4]\n",
    "            f_TD_max = table_5[region - 1][5]\n",
    "        else:\n",
    "            raise ValueError(mode)\n",
    "\n",
    "        return min(a_TD_i * Q ** 2 + 1, f_TD_max)  # (5)"
   ]
  },
  {
   "cell_type": "markdown",
   "metadata": {},
   "source": [
    "$$\\large\n",
    "L_{CS,d,t,i} = L'_{CS,d,t,i}\n",
    "$$\n",
    "\n",
    "$$\\large\n",
    "L_{CL,d,t,i} = L'_{CL,d,t,i}\n",
    "$$"
   ]
  },
  {
   "cell_type": "markdown",
   "metadata": {},
   "source": [
    "$L_{CS,d,t,i}$：日付$d$の時刻$t$における暖冷房区画$i$の冷房顕熱負荷(MJ/h) / Cooling sensible heat load of heating / cooling section $ i $ at time $ t $ of date $ d $  \n",
    "$L_{CL,d,t,i}$：日付$d$の時刻$t$における暖冷房区画$i$の冷房潜熱負荷(MJ/h) / Cooling latent heat load of heating / cooling section $ i $ at time $ t $ of date $ d $  \n",
    "$L'_{CS,d,t,i}$：日付$d$の時刻$t$における暖冷房区画$i$の負荷補正前の冷房顕熱負荷(MJ/h) / Cooling sensible heat load before load correction of heating / cooling section $ i $ at time $ t $ of date $ d $  \n",
    "$L'_{CL,d,t,i}$：日付$d$の時刻$t$における暖冷房区画$i$の負荷補正前の冷房潜熱負荷(MJ/h) / Cooling latent heat load before load correction of heating / cooling section $ i $ at time $ t $ of date $ d $  "
   ]
  },
  {
   "cell_type": "code",
   "execution_count": null,
   "metadata": {},
   "outputs": [],
   "source": [
    "# 暖冷房区画iの 1 時間当たりの冷房顕熱負荷\n",
    "def get_L_CS_d_t_i(region, A_A, A_MR, A_OR, mode, NV_MR, NV_OR, Q, mu_C, r_A_ufvnt, underfloor_insulation):\n",
    "    from section11_1 import load_outdoor, get_Theta_ex\n",
    "    outdoor = load_outdoor()\n",
    "    Theta_ex_d_t = get_Theta_ex(region, outdoor)\n",
    "\n",
    "    L_CS_d_t_i = get_L_dash_CS_d_t_i(region, A_A, A_MR, A_OR, mode, NV_MR, NV_OR, Q, mu_C, r_A_ufvnt,\n",
    "                                     underfloor_insulation, Theta_ex_d_t)  # (6a)\n",
    "    return L_CS_d_t_i\n",
    "\n",
    "\n",
    "# 暖冷房区画iの 1 時間当たりの冷房潜熱負荷\n",
    "def get_L_CL_d_t_i(region, A_A, A_MR, A_OR, mode, NV_MR, NV_OR, Q, mu_C):\n",
    "    L_CL_d_t_i = get_L_dash_CL_d_t_i(region, A_A, A_MR, A_OR, mode, NV_MR, NV_OR, Q, mu_C)  # (6a)\n",
    "    return L_CL_d_t_i"
   ]
  },
  {
   "cell_type": "markdown",
   "metadata": {},
   "source": [
    "### 6．負荷補正前の暖冷房負荷 / Heating and cooling load before load correction"
   ]
  },
  {
   "cell_type": "markdown",
   "metadata": {},
   "source": [
    "$$\\large\n",
    "L'_{H,d,t,i} = L'_{H,R,d,t,i} \\times \\frac{A_{HCZ,i}}{A_{HCZ,R,i}} - \\Delta L'_{H,uf,d,t,i} - \\Delta L'_{H,ass,d,t,i}\n",
    "$$\n",
    "\n",
    "$$\\large\n",
    "L'_{CS,d,t,i} = L'_{CS,R,d,t,i} \\times \\frac{A_{HCZ,i}}{A_{HCZ,R,i}} - \\Delta L'_{CS,uf,d,t,i}\n",
    "$$\n",
    "\n",
    "$$\\large\n",
    "L'_{CL,d,t,i} = L'_{CL,R,d,t,i} \\times \\frac{A_{HCZ,i}}{A_{HCZ,R,i}}\n",
    "$$"
   ]
  },
  {
   "cell_type": "markdown",
   "metadata": {},
   "source": [
    "$L'_{H,R,d,t,i}$：日付$d$の時刻$t$における暖冷房区画$i$の標準住戸の負荷補正前の暖房負荷(MJ/h) / Heating load before load compensation of a standard dwelling unit $ i $ in a heating and cooling compartment $ i $ at a time $ t $ on a date $ d $  \n",
    "$L'_{CS,R,d,t,i}$：日付$d$の時刻$t$における暖冷房区画$i$の標準住戸の負荷補正前の冷房顕熱負荷(MJ/h) / Cooling sensible heat load before load compensation of standard dwelling unit $ i $ in heating / cooling section $ i $ at time $ t $ on date $ d $  \n",
    "$L'_{CL,R,d,t,i}$：日付$d$の時刻$t$における暖冷房区画$i$の標準住戸の負荷補正前の冷房潜熱負荷(MJ/h) / Cooling latent heat load before load compensation of standard dwelling unit of heating / cooling section $ i $ at time $ t $ of date $ d $  \n",
    "$\\Delta L'_{H,ass,d,t,i}$：日付$d$の時刻$t$における当該住戸の暖冷房区画$i$の空気集熱式太陽熱利用設備による暖房負荷削減量(MJ/h) / The amount of heating load reduction by the air collection solar heating equipment of heating / cooling section $ i $ of the relevant dwelling unit at time $ t $ of date $ d $  \n",
    "$\\Delta L'_{H,uf,d,t,i}$：日付$d$の時刻$t$における当該住戸の暖冷房区画$i$の床下空間を経由して外気を導入する換気方式による暖房負荷削減量(MJ/h) / The amount of heating load reduction by the ventilation system that introduces outside air via the floor space of the heating and cooling section $ i $ of the relevant dwelling unit at the time $ t $ of date $ d $  \n",
    "$\\Delta L'_{CS,uf,d,t,i}$：日付$d$の時刻$t$における当該住戸の暖冷房区画$i$の床下空間を経由して外気を導入する換気方式による冷房顕熱負荷削減量(MJ/h) / Cooling sensible heat load reduction amount by ventilation system which introduces outside air via underfloor space of heating and cooling section $ i $ of the dwelling unit at time $ t $ of date $ d $  \n",
    "$A_{HCZ,i}$：暖冷房区画$i$の床面積(m<sup>2</sup>) / Floor area of heating / cooling section $ i $  \n",
    "$A_{HCZ,R,i}$：標準住戸の暖冷房区画$i$の床面積(m<sup>2</sup>) / Floor area of heating / cooling section $ i $ of standard dwelling unit  "
   ]
  },
  {
   "cell_type": "markdown",
   "metadata": {},
   "source": [
    "日付$d$の時刻$t$における当該住戸の暖冷房区画$i$の床下空間を経由して外気を導入する換気方式による暖房負荷削減量$\\Delta L'_{H,uf,d,t,i}$ 及び日付$d$の時刻$t$における当該住戸の暖冷房区画$i$の床下空間を経由して外気を導入する換気方式による冷房顕熱負荷削減量$\\Delta L'_{CS,uf,d,t,i}$ は、床下空間を経由して外気を導入する換気方式を採用しない場合はゼロとする。  \n",
    "日付$d$の時刻$t$における当該住戸の暖冷房区画$i$の空気集熱式太陽熱利用設備による暖房負荷削減量$\\Delta L'_{H,ass,d,t,i}$ は、空気集熱式太陽熱利用設備を採用しない場合はゼロとする。  "
   ]
  },
  {
   "cell_type": "markdown",
   "metadata": {},
   "source": [
    "Heating load reduction amount $\\Delta L'_{CS,uf,d,t,i}$ by ventilation system introducing outside air via heating and cooling division $ i $ under floor space of the dwelling unit at time $ t $ of date $ d $ and time $ t $ of date $ d $ The cooling sensible heat load reduction amount $\\Delta L'_{CS,uf,d,t,i}$ by the ventilation system that introduces outside air via the floor space under the heating and cooling section $ i $ of the relevant dwelling unit in the house does not adopt the ventilation system that introduces the outside air via the floor space If it is zero.  \n",
    "Heating load reduction amount by air-collecting type solar utilization equipment of heating / cooling section $ i $ of the relevant dwelling unit at time $ t $ of date $ d $ $ \\Delta L '_ {H, ass, d, t, i} $ If no air collection solar utilization equipment is adopted, it shall be zero."
   ]
  },
  {
   "cell_type": "code",
   "execution_count": null,
   "metadata": {},
   "outputs": [],
   "source": [
    "# 負荷補正前の暖房負荷 (7a)\n",
    "def get_L_dash_H_d_t_i(region, A_A, A_MR, A_OR, mode, TS, Q, mu_H, hex, etr_dash_t, r_A_ufvnt, underfloor_insulation,\n",
    "                       Theta_ex_d_t, hotwater_use=None, supply_target=None, sol_region=None, P_alpha=None, P_beta=None,\n",
    "                       A_col=None, V_fan_P0=None, m_fan_test=None, d0=None, d1=None, r_A_ufvnt_ass=None, ufv_insulation=None):\n",
    "    # 標準住戸の負荷補正前の暖房負荷 (8)\n",
    "    L_dash_H_R_d_t_i = calc_dash_H_R_d_t_i(A_A, A_MR, A_OR, Q, TS, etr_dash_t, hex, mode, mu_H, region)\n",
    "\n",
    "    # 床面積按分及び床下換気・空気集熱式太陽熱利用設備による負荷削減\n",
    "    L_dash_H_d_t_i = np.zeros((12, 24 * 365))\n",
    "    for i in range(1, 13):\n",
    "        # 床面積\n",
    "        A_HCZ_R_i = get_A_HCZ_R_i(i)\n",
    "        A_HCZ_i = get_A_HCZ_i(i, A_A, A_MR, A_OR)\n",
    "\n",
    "        # 床下空間を経由して外気を導入する換気方式による暖房負荷削減\n",
    "        delta_L_dash_H_uf_d_t_i = uf.get_delta_L_dash_H_uf_d_t_i(\n",
    "            i=i,\n",
    "            A_A=A_A,\n",
    "            A_MR=A_MR,\n",
    "            A_OR=A_OR,\n",
    "            A_HCZ_i=A_HCZ_i,\n",
    "            region=region,\n",
    "            Q=Q,\n",
    "            r_A_ufvnt=r_A_ufvnt,\n",
    "            underfloor_insulation=underfloor_insulation,\n",
    "            Theta_ex_d_t=Theta_ex_d_t,\n",
    "            L_dash_H_R_d_t_i=L_dash_H_R_d_t_i\n",
    "        )\n",
    "\n",
    "        # 空気集熱式太陽熱利用設備を採用する場合\n",
    "        if supply_target is not None:\n",
    "            delta_L_dash_H_ass_d_t_i = ass.calc_delta_L_dash_H_ass_d_t_i(\n",
    "                i=i,\n",
    "                supply_target=supply_target,\n",
    "                L_dash_H_R_d_t_i=L_dash_H_R_d_t_i,\n",
    "                region=region,\n",
    "                sol_region=sol_region,\n",
    "                A_HCZ_i=A_HCZ_i,\n",
    "                A_A=A_A,\n",
    "                A_MR=A_MR,\n",
    "                A_OR=A_OR,\n",
    "                Q=Q,\n",
    "                hotwater_use=hotwater_use,\n",
    "                Theta_ex_d_t=Theta_ex_d_t,\n",
    "                P_alpha=P_alpha,\n",
    "                P_beta=P_beta,\n",
    "                A_col=A_col,\n",
    "                V_fan_P0=V_fan_P0,\n",
    "                m_fan_test=m_fan_test,\n",
    "                d0=d0,\n",
    "                d1=d1,\n",
    "                ufv_insulation=ufv_insulation,\n",
    "                r_A_ufvnt=r_A_ufvnt_ass\n",
    "            )\n",
    "        else:\n",
    "            delta_L_dash_H_ass_d_t_i = np.zeros(24 * 365)\n",
    "\n",
    "        # (7a)\n",
    "        L_dash_H_d_t_i[i - 1, :] = L_dash_H_R_d_t_i[i - 1, :] * (A_HCZ_i / A_HCZ_R_i)\n",
    "\n",
    "        f = L_dash_H_d_t_i[i - 1, :] > 0\n",
    "        L_dash_H_d_t_i[i - 1, f] = L_dash_H_d_t_i[i - 1, f] - delta_L_dash_H_uf_d_t_i[f]\n",
    "\n",
    "        f = L_dash_H_d_t_i[i - 1, :] > 0\n",
    "        L_dash_H_d_t_i[i - 1, f] = L_dash_H_d_t_i[i - 1, f] - delta_L_dash_H_ass_d_t_i[f]\n",
    "\n",
    "    return L_dash_H_d_t_i, L_dash_H_R_d_t_i\n",
    "\n",
    "\n",
    "\n",
    "# 負荷補正前の冷房顕熱負荷 (7b)\n",
    "def get_L_dash_CS_d_t_i(region, A_A, A_MR, A_OR, mode, NV_MR, NV_OR, Q, mu_C, r_A_ufvnt, underfloor_insulation,\n",
    "                        Theta_ex_d_t):\n",
    "    L_dash_CS_R_d_t_i = np.zeros((12, 24 * 365))\n",
    "    L_dash_CS_d_t_i = np.zeros((12, 24 * 365))\n",
    "\n",
    "    for i in range(1, 13):\n",
    "        if mode[i - 1] is not None:\n",
    "            L_dash_CS_R_d_t_i[i - 1, :] = get_L_dash_CS_R_d_t_i(region, mode[i - 1], NV_MR, NV_OR, Q, mu_C, i)\n",
    "\n",
    "    # 床面積による按分と床下空間を経由して外気を導入する換気方式による冷房顕熱負荷削減\n",
    "    for i in range(1, 13):\n",
    "        if mode[i - 1] is not None:\n",
    "            # 床面積\n",
    "            A_HCZ_R_i = get_A_HCZ_R_i(i)\n",
    "            A_HCZ_i = get_A_HCZ_i(i, A_A, A_MR, A_OR)\n",
    "\n",
    "            # 床下空間を経由して外気を導入する換気方式による冷房顕熱負荷削減\n",
    "            delta_L_dash_CS_uf_d_t_i = uf.get_delta_L_dash_CS_R_d_t_i(i, region, Q, r_A_ufvnt, underfloor_insulation,\n",
    "                                                                      A_A, A_MR, A_OR, A_HCZ_i, Theta_ex_d_t,\n",
    "                                                                      L_dash_CS_R_d_t_i)\n",
    "\n",
    "            L_dash_CS_d_t_i[i - 1, :] = L_dash_CS_R_d_t_i[i - 1, :] * (\n",
    "                    A_HCZ_i / A_HCZ_R_i) - delta_L_dash_CS_uf_d_t_i  # (7b)\n",
    "\n",
    "    return L_dash_CS_d_t_i\n",
    "\n",
    "\n",
    "# 負荷補正前の冷房潜熱負荷 (7c)\n",
    "def get_L_dash_CL_d_t_i(region, A_A, A_MR, A_OR, mode, NV_MR, NV_OR, Q, mu_C):\n",
    "    L_dash_CL_R_d_t_i = np.zeros((12, 24 * 365))\n",
    "    L_dash_CL_d_t_i = np.zeros((12, 24 * 365))\n",
    "\n",
    "    for i in range(1, 13):\n",
    "        if mode[i - 1] is not None:\n",
    "            # 床面積\n",
    "            A_HCZ_R_i = get_A_HCZ_R_i(i)\n",
    "            A_HCZ_i = get_A_HCZ_i(i, A_A, A_MR, A_OR)\n",
    "\n",
    "            L_dash_CL_R_d_t_i[i - 1, :] = get_L_dash_CL_R_d_t_i(region, mode[i - 1], NV_MR, NV_OR, Q, mu_C, i)\n",
    "\n",
    "            L_dash_CL_d_t_i[i - 1, :] = L_dash_CL_R_d_t_i[i - 1, :] * (A_HCZ_i / A_HCZ_R_i)  # (7c)\n",
    "\n",
    "    return L_dash_CL_d_t_i"
   ]
  },
  {
   "cell_type": "markdown",
   "metadata": {},
   "source": [
    "### 7．標準住戸の負荷補正前の暖冷房負荷 / Heating and cooling load before load compensation of standard dwelling unit"
   ]
  },
  {
   "cell_type": "markdown",
   "metadata": {},
   "source": [
    "#### 7.1　標準住戸の負荷補正前の暖房負荷 / Heating load before load compensation of standard dwelling unit"
   ]
  },
  {
   "cell_type": "markdown",
   "metadata": {},
   "source": [
    "蓄熱の利用なしの場合： "
   ]
  },
  {
   "cell_type": "markdown",
   "metadata": {},
   "source": [
    "With no use of heat storage:"
   ]
  },
  {
   "cell_type": "markdown",
   "metadata": {},
   "source": [
    "$$\\large\n",
    "L'_{H,R,d,t,i} = L'_{H,R,TS_0,d,t,i}\n",
    "$$"
   ]
  },
  {
   "cell_type": "markdown",
   "metadata": {},
   "source": [
    "蓄熱の利用ありの場合： "
   ]
  },
  {
   "cell_type": "markdown",
   "metadata": {},
   "source": [
    "With the use of heat storage:"
   ]
  },
  {
   "cell_type": "markdown",
   "metadata": {},
   "source": [
    "$$\\large\n",
    "L'_{H,R,d,t,i} = L'_{H,R,TS_1,d,t,i}\n",
    "$$"
   ]
  },
  {
   "cell_type": "markdown",
   "metadata": {},
   "source": [
    "$L'_{H,R,TS_l,d,t,i}$：日付$d$の時刻$t$における暖冷房区画$i$の蓄熱の利用の程度$TS_l$の標準住戸の負荷補正前の暖房負荷(MJ/h) / Degree of heat storage utilization of heating / cooling compartment $ i $ at time $ t $ of date $ d $ Heating load before load compensation of standard dwelling unit $ TS_l $  "
   ]
  },
  {
   "cell_type": "markdown",
   "metadata": {},
   "source": [
    "<div style=\"text-align: center;font-weight: bold;\">表　蓄熱の採用の可否<br>Table: Availability of heat storage</div>\n",
    "\n",
    "<table>\n",
    "<thead>\n",
    "<tr>\n",
    "<th rowspan=\"2\">地域区分<br>Regional division</th>\n",
    "<th colspan=\"5\">暖房期の日射地域区分<br>Solar radiation area division of heating season</th>\n",
    "</tr>\n",
    "<tr>\n",
    "<th>H1</th>\n",
    "<th>H2</th>\n",
    "<th>H3</th>\n",
    "<th>H4</th>\n",
    "<th>H5</th>\n",
    "</tr>\n",
    "</thead>\n",
    "\n",
    "<tbody>\n",
    "<tr>\n",
    "<th>1</th>\n",
    "<td>不可<br>Impossible</td>\n",
    "<td>不可<br>Impossible</td>\n",
    "<td>可<br>Possible</td>\n",
    "<td>可<br>Possible</td>\n",
    "<td>可<br>Possible</td>\n",
    "</tr>\n",
    "<tr>\n",
    "<th>2</th>\n",
    "<td>不可<br>Impossible</td>\n",
    "<td>不可<br>Impossible</td>\n",
    "<td>可<br>Possible</td>\n",
    "<td>可<br>Possible</td>\n",
    "<td>可<br>Possible</td>\n",
    "</tr>\n",
    "<tr>\n",
    "<th>3</th>\n",
    "<td>不可<br>Impossible</td>\n",
    "<td>不可<br>Impossible</td>\n",
    "<td>可<br>Possible</td>\n",
    "<td>可<br>Possible</td>\n",
    "<td>可<br>Possible</td>\n",
    "</tr>\n",
    "<tr>\n",
    "<th>4</th>\n",
    "<td>不可<br>Impossible</td>\n",
    "<td>不可<br>Impossible</td>\n",
    "<td>可<br>Possible</td>\n",
    "<td>可<br>Possible</td>\n",
    "<td>可<br>Possible</td>\n",
    "</tr>\n",
    "<tr>\n",
    "<th>5</th>\n",
    "<td>不可<br>Impossible</td>\n",
    "<td>不可<br>Impossible</td>\n",
    "<td>可<br>Possible</td>\n",
    "<td>可<br>Possible</td>\n",
    "<td>可<br>Possible</td>\n",
    "</tr>\n",
    "<tr>\n",
    "<th>6</th>\n",
    "<td>不可<br>Impossible</td>\n",
    "<td>不可<br>Impossible</td>\n",
    "<td>不可<br>Impossible</td>\n",
    "<td>可<br>Possible</td>\n",
    "<td>可<br>Possible</td>\n",
    "</tr>\n",
    "<tr>\n",
    "<th>7</th>\n",
    "<td>不可<br>Impossible</td>\n",
    "<td>不可<br>Impossible</td>\n",
    "<td>不可<br>Impossible</td>\n",
    "<td>可<br>Possible</td>\n",
    "<td>可<br>Possible</td>\n",
    "</tr>\n",
    "</tbody>\n",
    "</table>\n"
   ]
  },
  {
   "cell_type": "code",
   "execution_count": null,
   "metadata": {},
   "outputs": [],
   "source": [
    "# 標準住戸の負荷補正前の暖房負荷 (8)\n",
    "def calc_dash_H_R_d_t_i(A_A, A_MR, A_OR, Q, TS, etr_dash_t, hex, mode, mu_H, region):\n",
    "    L_dash_H_R_d_t_i = np.zeros((12, 24 * 365))\n",
    "\n",
    "    # 標準住戸の負荷補正前の暖房負荷を全居室求める\n",
    "    for i in range(1, 13):\n",
    "        # 床面積\n",
    "        A_HCZ_i = get_A_HCZ_i(i, A_A, A_MR, A_OR)\n",
    "\n",
    "        if mode[i - 1] is not None and A_HCZ_i > 0:\n",
    "            L_dash_H_R_d_t_i[i - 1, :] = get_L_dash_H_R_d_t_i(\n",
    "                region=region,\n",
    "                mode=mode[i - 1],\n",
    "                TS=TS,\n",
    "                Q=Q,\n",
    "                mu_H=mu_H,\n",
    "                hex=hex,\n",
    "                etr_dash_t=etr_dash_t,\n",
    "                i=i\n",
    "            )\n",
    "        else:\n",
    "            L_dash_H_R_d_t_i[i - 1, :] = np.zeros(24 * 365)\n",
    "    return L_dash_H_R_d_t_i\n",
    "\n",
    "\n",
    "# 標準住戸の負荷補正前の暖房負荷 (8)\n",
    "def get_L_dash_H_R_d_t_i(region, mode, TS, Q, mu_H, hex, etr_dash_t, i):\n",
    "    if not TS:\n",
    "        # 蓄熱の利用なしの場合\n",
    "        L_dash_H_R_TSl_d_t_i = get_L_dash_H_R_TSl_d_t_i(region, mode, 1, Q, mu_H, hex, etr_dash_t, i)  # (8-1)\n",
    "    else:\n",
    "        # 蓄熱の利用ありの場合\n",
    "        L_dash_H_R_TSl_d_t_i = get_L_dash_H_R_TSl_d_t_i(region, mode, 2, Q, mu_H, hex, etr_dash_t, i)  # (8-2)\n",
    "\n",
    "    return L_dash_H_R_TSl_d_t_i\n",
    "\n",
    "\n",
    "# 表 6 蓄熱の採用の可否\n",
    "table_6 = [\n",
    "    ('不可', '不可', '可', '可', '可'),\n",
    "    ('不可', '不可', '可', '可', '可'),\n",
    "    ('不可', '不可', '可', '可', '可'),\n",
    "    ('不可', '不可', '可', '可', '可'),\n",
    "    ('不可', '不可', '可', '可', '可'),\n",
    "    ('不可', '不可', '不可', '可', '可'),\n",
    "    ('不可', '不可', '不可', '可', '可')\n",
    "]"
   ]
  },
  {
   "cell_type": "markdown",
   "metadata": {},
   "source": [
    "1～7 地域の場合"
   ]
  },
  {
   "cell_type": "markdown",
   "metadata": {},
   "source": [
    "In the case of 1-7 areas"
   ]
  },
  {
   "cell_type": "markdown",
   "metadata": {},
   "source": [
    "$$\\large\n",
    "L'_{H,R,TS_l,d,t,i} = \\left\\{ \\begin{array}{ll}\n",
    "    \\frac{Q_{HEXC}-Q_2}{Q_1 - Q_2} \\times L'_{H,R,TS_l,Q_1,d,t,i} + \\frac{Q_{HEXC}-Q_1}{Q_2 - Q_1} \\times L'_{H,R,TS_l,Q_2,d,t,i} & (Q \\ge Q_2の場合) \\\\\n",
    "    \\frac{Q_{HEXC}-Q_3}{Q_2 - Q_3} \\times L'_{H,R,TS_l,Q_2,d,t,i} + \\frac{Q_{HEXC}-Q_2}{Q_3 - Q_2} \\times L'_{H,R,TS_l,Q_3,d,t,i} & (Q_2 > Q \\ge Q_3の場合) \\\\\n",
    "    \\frac{Q_{HEXC}-Q_4}{Q_3 - Q_4} \\times L'_{H,R,TS_l,Q_3,d,t,i} + \\frac{Q_{HEXC}-Q_3}{Q_4 - Q_3} \\times L'_{H,R,TS_l,Q_4,d,t,i} & (Q_3 > Qの場合) \\\\\n",
    "\\end{array}\n",
    "\\right.\n",
    "$$"
   ]
  },
  {
   "cell_type": "markdown",
   "metadata": {},
   "source": [
    "8 地域の場合"
   ]
  },
  {
   "cell_type": "markdown",
   "metadata": {},
   "source": [
    "In the case of 8 areas"
   ]
  },
  {
   "cell_type": "markdown",
   "metadata": {},
   "source": [
    "$$\\large\n",
    "L'_{H,R,TS_l,d,t,i} = \\left\\{ \\begin{array}{ll}\n",
    "    \\frac{Q_{HEXC}-Q_2}{Q_1 - Q_2} \\times L'_{H,R,TS_l,Q_1,d,t,i} + \\frac{Q_{HEXC}-Q_1}{Q_2 - Q_1} \\times L'_{H,R,TS_l,Q_2,d,t,i} & (Q \\ge Q_2の場合) \\\\\n",
    "    \\frac{Q_{HEXC}-Q_3}{Q_2 - Q_3} \\times L'_{H,R,TS_l,Q_2,d,t,i} + \\frac{Q_{HEXC}-Q_2}{Q_3 - Q_2} \\times L'_{H,R,TS_l,Q_3,d,t,i} & (Q_2 > Qの場合) \\\\\n",
    "\\end{array}\n",
    "\\right.\n",
    "$$"
   ]
  },
  {
   "cell_type": "markdown",
   "metadata": {},
   "source": [
    "$Q_{HEXC}$：熱交換型換気設備による暖房負荷低減を考慮した補正熱損失係数(W/m<sup>2</sup>K) / Corrected heat loss coefficient considering heating load reduction by heat exchange type ventilation equipment  \n",
    "$L'_{H,R,TS_l,Q_j,d,t,i}$：日付$d$の時刻$t$における暖冷房区画$i$の蓄熱の利用の程度$TS_l$の熱損失係数$Q_{j}$の標準住戸の負荷補正前の暖房負荷(MJ/h) / Degree of heat storage utilization of heating / cooling division $ i $ at time $ t $ of date $ d $ Heat loss coefficient of standard dwelling unit of $ Q_ {j} $, heat loss coefficient of $ TS_l $  \n",
    "$Q_{j}$：断熱性能の区分$j$の熱損失係数(W/(m<sup>2</sup>K)) / Heat loss coefficient of division $ j $ of thermal insulation performance  "
   ]
  },
  {
   "cell_type": "code",
   "execution_count": null,
   "metadata": {},
   "outputs": [],
   "source": [
    "# 暖房負荷のQ値按分 (9)\n",
    "def get_L_dash_H_R_TSl_d_t_i(region, mode, l, Q, mu_H, hex, etr_dash_t, i):\n",
    "    # 熱交換型換気設備による暖房負荷低減を考慮した補正熱損失係数\n",
    "    Q_HEXC = get_Q_HEXC(region, Q, hex, etr_dash_t)\n",
    "\n",
    "    if region in [1, 2, 3, 4, 5, 6, 7]:\n",
    "\n",
    "        Q1 = get_Q_j(region, 1)\n",
    "        Q2 = get_Q_j(region, 2)\n",
    "        Q3 = get_Q_j(region, 3)\n",
    "        Q4 = get_Q_j(region, 4)\n",
    "\n",
    "        # (9a)\n",
    "        if Q_HEXC == Q1:\n",
    "            return get_L_dash_H_R_TSl_Qj_d_t_i(region, mode, l, 1, mu_H, hex, i)\n",
    "        elif Q_HEXC == Q2:\n",
    "            return get_L_dash_H_R_TSl_Qj_d_t_i(region, mode, l, 2, mu_H, hex, i)\n",
    "        elif Q_HEXC == Q3:\n",
    "            return get_L_dash_H_R_TSl_Qj_d_t_i(region, mode, l, 3, mu_H, hex, i)\n",
    "        elif Q_HEXC == Q4:\n",
    "            return get_L_dash_H_R_TSl_Qj_d_t_i(region, mode, l, 4, mu_H, hex, i)\n",
    "        elif Q_HEXC >= Q2:\n",
    "            return (Q_HEXC - Q2) / (Q1 - Q2) * get_L_dash_H_R_TSl_Qj_d_t_i(region, mode, l, 1, mu_H, hex, i) \\\n",
    "                   + (Q_HEXC - Q1) / (Q2 - Q1) * get_L_dash_H_R_TSl_Qj_d_t_i(region, mode, l, 2, mu_H, hex, i)\n",
    "        elif Q2 > Q_HEXC and Q_HEXC >= Q3:\n",
    "            return (Q_HEXC - Q3) / (Q2 - Q3) * get_L_dash_H_R_TSl_Qj_d_t_i(region, mode, l, 2, mu_H, hex, i) \\\n",
    "                   + (Q_HEXC - Q2) / (Q3 - Q2) * get_L_dash_H_R_TSl_Qj_d_t_i(region, mode, l, 3, mu_H, hex, i)\n",
    "        elif Q3 > Q_HEXC:\n",
    "            return (Q_HEXC - Q4) / (Q3 - Q4) * get_L_dash_H_R_TSl_Qj_d_t_i(region, mode, l, 3, mu_H, hex, i) \\\n",
    "                   + (Q_HEXC - Q3) / (Q4 - Q3) * get_L_dash_H_R_TSl_Qj_d_t_i(region, mode, l, 4, mu_H, hex, i)\n",
    "        else:\n",
    "            raise ValueError(Q_HEXC)\n",
    "\n",
    "    elif region in [8]:\n",
    "\n",
    "        Q1 = get_Q_j(region, 1)\n",
    "        Q2 = get_Q_j(region, 2)\n",
    "        Q3 = get_Q_j(region, 3)\n",
    "\n",
    "        # (9b)\n",
    "        if Q == Q1:\n",
    "            return get_L_dash_H_R_TSl_Qj_d_t_i(region, mode, l, 1, mu_H, hex, i)\n",
    "        elif Q == Q2:\n",
    "            return get_L_dash_H_R_TSl_Qj_d_t_i(region, mode, l, 2, mu_H, hex, i)\n",
    "        elif Q == Q3:\n",
    "            return get_L_dash_H_R_TSl_Qj_d_t_i(region, mode, l, 3, mu_H, hex, i)\n",
    "        elif Q >= Q2:\n",
    "            return (Q_HEXC - Q2) / (Q1 - Q2) * get_L_dash_H_R_TSl_Qj_d_t_i(region, mode, l, 1, mu_H, hex, i) \\\n",
    "                   + (Q_HEXC - Q1) / (Q2 - Q1) * get_L_dash_H_R_TSl_Qj_d_t_i(region, mode, l, 2, mu_H, hex, i)\n",
    "        elif Q2 > Q and Q >= Q3:\n",
    "            return (Q_HEXC - Q3) / (Q2 - Q3) * get_L_dash_H_R_TSl_Qj_d_t_i(region, mode, l, 2, mu_H, hex, i) \\\n",
    "                   + (Q_HEXC - Q2) / (Q3 - Q2) * get_L_dash_H_R_TSl_Qj_d_t_i(region, mode, l, 3, mu_H, hex, i)\n",
    "        else:\n",
    "            raise ValueError(Q)\n",
    "\n",
    "    else:\n",
    "        raise ValueError(region)"
   ]
  },
  {
   "cell_type": "markdown",
   "metadata": {},
   "source": [
    "$$\\large\n",
    "L'_{H,R,TS_l,Q_j,d,t,i} = \\left\\{ \\begin{array}{ll}\n",
    "    \\frac{\\mu_H - \\mu_{H,j,2}}{\\mu_{H,j,1} - \\mu_{H,j,2}} \\times L'_{H,R,TS_l,Q_j,\\mu_{H,j,1},d,t,i} + \\frac{\\mu_{H} - \\mu_{H,j,1}}{\\mu_{H,j,2} - \\mu_{H,j,1}} \\times L'_{H,R,TS_l,Q_j,\\mu_{H,j,2},d,t,i} & (\\mu_{H} < \\mu_{H,j,2}) \\\\\n",
    "    \\frac{\\mu_H - \\mu_{H,j,3}}{\\mu_{H,j,2} - \\mu_{H,j,3}} \\times L'_{H,R,TS_l,Q_j,\\mu_{H,j,2},d,t,i} + \\frac{\\mu_{H} - \\mu_{H,j,2}}{\\mu_{H,j,3} - \\mu_{H,j,2}} \\times L'_{H,R,TS_l,Q_j,\\mu_{H,j,3},d,t,i} & (\\mu_{H,j,2} \\le \\mu_{H}) \\\\\n",
    "\\end{array}\n",
    "\\right.\n",
    "$$"
   ]
  },
  {
   "cell_type": "markdown",
   "metadata": {},
   "source": [
    "$L'_{H,R,TS_l,Q_j,\\mu_{H,j,k},d,t,i}$：日付$d$の時刻$t$における暖冷房区画$i$の蓄熱の利用の程度$TS_l$の熱損失係数$Q_{j}$かつ暖房期の日射取得係数$\\mu_{H,j,k}$の標準住戸の負荷補正前の暖房負荷(MJ/h) / The standard heat load before load correction of the standard dwelling unit with the heat loss coefficient $Q_{j}$ of the degree $TS_l$ of utilization of heat storage utilization of the heating and cooling compartment $ i $ at the time $ t $ of date $ d $ and the solar radiation acquisition coefficient $\\mu_{H,j,k}$ of the heating period  \n",
    "$\\mu_H$：暖房期の日射取得係数 / Solar radiation acquisition factor of heating season  \n",
    "$\\mu_{H,j,k}$：断熱性能の区分$j$における日射取得性能の区分$k$の暖房期の日射取得係数 / Division of solar radiation acquisition performance in division $ j $ of thermal insulation performance Division of solar radiation acquisition coefficient of heating season of $ k $  "
   ]
  },
  {
   "cell_type": "code",
   "execution_count": null,
   "metadata": {},
   "outputs": [],
   "source": [
    "# 暖房負荷 μ値按分 (10)\n",
    "def get_L_dash_H_R_TSl_Qj_d_t_i(region, mode, l, j, mu_H, hex, i):\n",
    "    mu_H_j_1 = get_mu_H_j_k(region, j, 1)\n",
    "    mu_H_j_2 = get_mu_H_j_k(region, j, 2)\n",
    "    mu_H_j_3 = get_mu_H_j_k(region, j, 3)\n",
    "\n",
    "    if mu_H < mu_H_j_2:\n",
    "        return (mu_H - mu_H_j_2) / (mu_H_j_1 - mu_H_j_2) * get_L_dash_H_R_TSl_Qj_muH_j_k_d_t_i(region, mode, l, j, 1,\n",
    "                                                                                               hex, i) \\\n",
    "               + (mu_H - mu_H_j_1) / (mu_H_j_2 - mu_H_j_1) * get_L_dash_H_R_TSl_Qj_muH_j_k_d_t_i(region, mode, l, j, 2,\n",
    "                                                                                                 hex, i)\n",
    "    elif mu_H_j_2 <= mu_H:\n",
    "        return (mu_H - mu_H_j_3) / (mu_H_j_2 - mu_H_j_3) * get_L_dash_H_R_TSl_Qj_muH_j_k_d_t_i(region, mode, l, j, 2,\n",
    "                                                                                               hex, i) \\\n",
    "               + (mu_H - mu_H_j_2) / (mu_H_j_3 - mu_H_j_2) * get_L_dash_H_R_TSl_Qj_muH_j_k_d_t_i(region, mode, l, j, 3,\n",
    "                                                                                                 hex, i)\n",
    "    else:\n",
    "        raise ValueError(mu_H)"
   ]
  },
  {
   "cell_type": "markdown",
   "metadata": {},
   "source": [
    "<div style=\"text-align: center;font-weight: bold;\">表　断熱性能の区分$j$の熱損失係数$Q_{j}$<br>Table: Heat loss coefficient of insulation performance division $ j $</div>\n",
    "\n",
    "<table>\n",
    "<thead>\n",
    "<tr>\n",
    "<th rowspan=\"2\" colspan=\"2\"></th>\n",
    "    <th colspan=\"8\"><center>地域の区分<br>Segmentation of area</center></th>\n",
    "</tr>\n",
    "<tr>\n",
    "<th>1</th>\n",
    "<th>2</th>\n",
    "<th>3</th>\n",
    "<th>4</th>\n",
    "<th>5</th>\n",
    "<th>6</th>\n",
    "<th>7</th>\n",
    "<th>8</th>\n",
    "</tr>\n",
    "</thead>\n",
    "\n",
    "<tbody>\n",
    "<tr>\n",
    "<th rowspan=\"4\">断熱性能の区分$j$<br>Classification $j$<br>of thermal insulation performance</th>\n",
    "<th>1</th>\n",
    "<td>2.8</td>\n",
    "<td>2.8</td>\n",
    "<td>4.0</td>\n",
    "<td>4.7</td>\n",
    "<td>5.19</td>\n",
    "<td>5.19</td>\n",
    "<td>8.27</td>\n",
    "<td>8.27</td>\n",
    "</tr>\n",
    "<tr>\n",
    "<th>2</th>\n",
    "<td>1.8</td>\n",
    "<td>1.8</td>\n",
    "<td>2.7</td>\n",
    "<td>3.3</td>\n",
    "<td>4.2</td>\n",
    "<td>4.2</td>\n",
    "<td>4.59</td>\n",
    "<td>8.01</td>\n",
    "</tr>\n",
    "<tr>\n",
    "<th>3</th>\n",
    "<td>1.6</td>\n",
    "<td>1.6</td>\n",
    "<td>1.9</td>\n",
    "<td>2.4</td>\n",
    "<td>2.7</td>\n",
    "<td>2.7</td>\n",
    "<td>2.7</td>\n",
    "<td>3.7</td>\n",
    "</tr>\n",
    "<tr>\n",
    "<th>4</th>\n",
    "<td>1.4</td>\n",
    "<td>1.4</td>\n",
    "<td>1.4</td>\n",
    "<td>1.9</td>\n",
    "<td>1.9</td>\n",
    "<td>1.9</td>\n",
    "<td>1.9</td>\n",
    "<td>3.7</td>\n",
    "</tr>\n",
    "</tbody>\n",
    "</table>"
   ]
  },
  {
   "cell_type": "code",
   "execution_count": null,
   "metadata": {},
   "outputs": [],
   "source": [
    "# 断熱性能の区分j݆の熱損失係数ܳQ_j\n",
    "def get_Q_j(region, j):\n",
    "    # 表 7 断熱性能の区分݆jの熱損失係数Qj\n",
    "    table_7 = [\n",
    "        (2.8, 2.8, 4.0, 4.7, 5.19, 5.19, 8.27, 8.27),\n",
    "        (1.8, 1.8, 2.7, 3.3, 4.2, 4.2, 4.59, 8.01),\n",
    "        (1.6, 1.6, 1.9, 2.4, 2.7, 2.7, 2.7, 3.7),\n",
    "        (1.4, 1.4, 1.4, 1.9, 1.9, 1.9, 1.9, 3.7)\n",
    "    ]\n",
    "\n",
    "    # 断熱性能の区分݆の熱損失係数Q_j(j=1-4)は地域の区分に応じて表 7 により表される。\n",
    "    return table_7[j - 1][region - 1]"
   ]
  },
  {
   "cell_type": "markdown",
   "metadata": {},
   "source": [
    "<div style=\"text-align: center;font-weight: bold;\">表　断熱性能の区分$j$における日射取得性能の区分$k$の<br>暖房期の日射取得係数$\\mu_{H,j,k}$及び冷房期の日射取得係数$\\mu_{C,j,k}$<br>Table: Division $ k $ of solar radiation acquisition performance in division $ j $ of insulation performance <br> Solar acquisition coefficient $ \\mu_ {H, j, k} $ of heating period and solar radiation acquisition coefficient $ \\mu_ {C,  j, k} $of cooling period</div>\n",
    "<div style=\"text-align: center;\">（上段：暖房期の日射取得係数$\\mu_{H,j,k}$　下段：冷房期の日射取得係数$\\mu_{C,j,k}$）<br>(Upper: Solar radiation acquisition coefficient $ \\mu_ {H, j, k} $ for heating season, Lower: Solar radiation acquisition coefficient $ \\mu_ {C, j, k} $ for cooling season)</div>\n",
    "\n",
    "<table>\n",
    "<thead>\n",
    "<tr>\n",
    "<th rowspan=\"2\">断熱性能の<br>区分$j$<br>Classification $j$ <br>of thermal insulation performance</th>\n",
    "<th rowspan=\"2\">日射取得性能の<br>区分$k$<br>Classification $k$ <br>of solar radiation acquisition performance</th>\n",
    "    <th colspan=\"8\"><center>地域の区分<br>Segmentation of area</center></th>\n",
    "</tr>\n",
    "<tr>\n",
    "<th>1</th><th>2</th><th>3</th><th>4</th><th>5</th><th>6</th><th>7</th><th>8</th>\n",
    "</tr>\n",
    "</thead>\n",
    "\n",
    "<tbody>\n",
    "<tr>\n",
    "<th>1</th><th>1</th>\n",
    "<td>0.029<br>0.021</td>\n",
    "<td>0.027<br>0.022</td>\n",
    "<td>0.044<br>0.036</td>\n",
    "<td>0.048<br>0.039</td>\n",
    "<td>0.062<br>0.050</td>\n",
    "<td>0.061<br>0.048</td>\n",
    "<td>0.129<br>0.106</td>\n",
    "<td>-<br>0.110</td>\n",
    "</tr>\n",
    "<tr>\n",
    "<th>1</th><th>2</th>\n",
    "<td>0.079<br>0.052</td>\n",
    "<td>0.074<br>0.052</td>\n",
    "<td>0.091<br>0.065</td>\n",
    "<td>0.112<br>0.080</td>\n",
    "<td>0.138<br>0.095</td>\n",
    "<td>0.134<br>0.090</td>\n",
    "<td>0.206<br>0.146</td>\n",
    "<td>-<br>0.154</td>\n",
    "</tr>\n",
    "<tr>\n",
    "<th>1</th><th>3</th>\n",
    "<td>0.115<br>0.071</td>\n",
    "<td>0.106<br>0.071</td>\n",
    "<td>0.123<br>0.083</td>\n",
    "<td>0.161<br>0.107</td>\n",
    "<td>0.197<br>0.124</td>\n",
    "<td>0.191<br>0.117</td>\n",
    "<td>0.268<br>0.172</td>\n",
    "<td>-<br>0.184</td>\n",
    "</tr>\n",
    "<tr>\n",
    "<th>2</th><th>1</th>\n",
    "<td>0.029<br>0.021</td>\n",
    "<td>0.027<br>0.022</td>\n",
    "<td>0.040<br>0.032</td>\n",
    "<td>0.046<br>0.037</td>\n",
    "<td>0.057<br>0.044</td>\n",
    "<td>0.056<br>0.043</td>\n",
    "<td>0.063<br>0.046</td>\n",
    "<td>-<br>0.129</td>\n",
    "</tr>\n",
    "<tr>\n",
    "<th>2</th><th>2</th>\n",
    "<td>0.075<br>0.049</td>\n",
    "<td>0.070<br>0.049</td>\n",
    "<td>0.087<br>0.061</td>\n",
    "<td>0.102<br>0.072</td>\n",
    "<td>0.132<br>0.089</td>\n",
    "<td>0.128<br>0.085</td>\n",
    "<td>0.140<br>0.086</td>\n",
    "<td>-<br>0.174</td>\n",
    "</tr>\n",
    "<tr>\n",
    "<th>2</th><th>3</th>\n",
    "<td>0.109<br>0.068</td>\n",
    "<td>0.101<br>0.068</td>\n",
    "<td>0.119<br>0.079</td>\n",
    "<td>0.142<br>0.094</td>\n",
    "<td>0.191<br>0.119</td>\n",
    "<td>0.185<br>0.112</td>\n",
    "<td>0.202<br>0.111</td>\n",
    "<td>-<br>0.204</td>\n",
    "</tr>\n",
    "<tr>\n",
    "<th>3</th><th>1</th>\n",
    "<td>0.025<br>0.019</td>\n",
    "<td>0.024<br>0.019</td>\n",
    "<td>0.030<br>0.023</td>\n",
    "<td>0.033<br>0.026</td>\n",
    "<td>0.038<br>0.027</td>\n",
    "<td>0.037<br>0.026</td>\n",
    "<td>0.038<br>0.025</td>\n",
    "<td>-<br>0.023</td>\n",
    "</tr>\n",
    "<tr>\n",
    "<th>3</th><th>2</th>\n",
    "<td>0.071<br>0.046</td>\n",
    "<td>0.066<br>0.046</td>\n",
    "<td>0.072<br>0.049</td>\n",
    "<td>0.090<br>0.061</td>\n",
    "<td>0.104<br>0.066</td>\n",
    "<td>0.101<br>0.062</td>\n",
    "<td>0.107<br>0.059</td>\n",
    "<td>-<br>0.068</td>\n",
    "</tr>\n",
    "<tr>\n",
    "<th>3</th><th>3</th>\n",
    "<td>0.106<br>0.065</td>\n",
    "<td>0.098<br>0.065</td>\n",
    "<td>0.104<br>0.067</td>\n",
    "<td>0.130<br>0.082</td>\n",
    "<td>0.153<br>0.090</td>\n",
    "<td>0.148<br>0.084</td>\n",
    "<td>0.158<br>0.080</td>\n",
    "<td>-<br>0.098</td>\n",
    "</tr>\n",
    "<tr>\n",
    "<th>4</th><th>1</th>\n",
    "<td>0.024<br>0.017</td>\n",
    "<td>0.022<br>0.017</td>\n",
    "<td>0.022<br>0.017</td>\n",
    "<td>0.026<br>0.019</td>\n",
    "<td>0.030<br>0.021</td>\n",
    "<td>0.029<br>0.020</td>\n",
    "<td>0.030<br>0.019</td>\n",
    "<td>-<br>0.019</td>\n",
    "</tr>\n",
    "<tr>\n",
    "<th>4</th><th>2</th>\n",
    "<td>0.070<br>0.045</td>\n",
    "<td>0.065<br>0.045</td>\n",
    "<td>0.065<br>0.043</td>\n",
    "<td>0.078<br>0.052</td>\n",
    "<td>0.090<br>0.056</td>\n",
    "<td>0.087<br>0.053</td>\n",
    "<td>0.092<br>0.050</td>\n",
    "<td>-<br>0.050</td>\n",
    "</tr>\n",
    "<tr>\n",
    "<th>4</th><th>3</th>\n",
    "<td>0.104<br>0.063</td>\n",
    "<td>0.096<br>0.063</td>\n",
    "<td>0.096<br>0.060</td>\n",
    "<td>0.116<br>0.072</td>\n",
    "<td>0.137<br>0.078</td>\n",
    "<td>0.132<br>0.073</td>\n",
    "<td>0.141<br>0.070</td>\n",
    "<td>-<br>0.065</td>\n",
    "</tr>\n",
    "</tbody>\n",
    "</table>\n"
   ]
  },
  {
   "cell_type": "code",
   "execution_count": null,
   "metadata": {},
   "outputs": [],
   "source": [
    "# 表 8 断熱性能の区分݆における日射取得性能の区分݇の暖房期の日射取得係数mu_H_j_k及び冷房期の日射取得係数mu_C_j_k\n",
    "table_8 = [\n",
    "    (0.029, 0.027, 0.044, 0.048, 0.062, 0.061, 0.129, 0),\n",
    "    (0.021, 0.022, 0.036, 0.039, 0.050, 0.048, 0.106, 0.11),\n",
    "    (0.079, 0.074, 0.091, 0.112, 0.138, 0.134, 0.206, 0),\n",
    "    (0.052, 0.052, 0.065, 0.080, 0.095, 0.090, 0.146, 0.154),\n",
    "    (0.115, 0.106, 0.123, 0.161, 0.197, 0.191, 0.268, 0),\n",
    "    (0.071, 0.071, 0.083, 0.107, 0.124, 0.117, 0.172, 0.184),\n",
    "    (0.029, 0.027, 0.040, 0.046, 0.057, 0.056, 0.063, 0),\n",
    "    (0.021, 0.022, 0.032, 0.037, 0.044, 0.043, 0.046, 0.129),\n",
    "    (0.075, 0.070, 0.087, 0.102, 0.132, 0.128, 0.140, 0),\n",
    "    (0.049, 0.049, 0.061, 0.072, 0.089, 0.085, 0.086, 0.174),\n",
    "    (0.109, 0.101, 0.119, 0.142, 0.191, 0.185, 0.202, 0),\n",
    "    (0.068, 0.068, 0.079, 0.094, 0.119, 0.112, 0.111, 0.204),\n",
    "    (0.025, 0.024, 0.030, 0.033, 0.038, 0.037, 0.038, 0),\n",
    "    (0.019, 0.019, 0.023, 0.026, 0.027, 0.026, 0.025, 0.023),\n",
    "    (0.071, 0.066, 0.072, 0.090, 0.104, 0.101, 0.107, 0),\n",
    "    (0.046, 0.046, 0.049, 0.061, 0.066, 0.062, 0.059, 0.068),\n",
    "    (0.106, 0.098, 0.104, 0.130, 0.153, 0.148, 0.158, 0),\n",
    "    (0.065, 0.065, 0.067, 0.082, 0.090, 0.084, 0.080, 0.098),\n",
    "    (0.024, 0.022, 0.022, 0.026, 0.030, 0.029, 0.030, 0),\n",
    "    (0.017, 0.017, 0.017, 0.019, 0.021, 0.020, 0.019, 0.019),\n",
    "    (0.070, 0.065, 0.065, 0.078, 0.090, 0.087, 0.092, 0),\n",
    "    (0.045, 0.045, 0.043, 0.052, 0.056, 0.053, 0.050, 0.050),\n",
    "    (0.104, 0.096, 0.096, 0.116, 0.137, 0.132, 0.141, 0),\n",
    "    (0.063, 0.063, 0.060, 0.072, 0.078, 0.073, 0.070, 0.065)\n",
    "]\n",
    "\n",
    "# 断熱性能の区分݆jにおける日射取得性能の区分k݇の暖房期の日射取得係数 mu_H_j_k\n",
    "def get_mu_H_j_k(region, j, k):\n",
    "    return table_8[(j - 1) * 6 + (k - 1) * 2 + 0][region - 1]\n",
    "\n",
    "\n",
    "# 断熱性能の区分݆jにおける日射取得性能の区分k݇の冷房期の日射取得係数 mu_C_j_k\n",
    "def get_mu_C_j_k(region, j, k):\n",
    "    return table_8[(j - 1) * 6 + (k - 1) * 2 + 1][region - 1]"
   ]
  },
  {
   "cell_type": "markdown",
   "metadata": {},
   "source": [
    "#### 7.2　標準住戸の負荷補正前の冷房負荷 / Cooling load before load compensation of standard dwelling unit"
   ]
  },
  {
   "cell_type": "markdown",
   "metadata": {},
   "source": [
    "$$\\large\n",
    "L'_{CS,R,d,t,i} = \\left\\{ \\begin{array}{ll}\n",
    "    (\\frac{NV-NV_2}{NV_1-NV_2} \\times L'_{CS,R,NV_1,d,t,i} + \\frac{NV-NV_1}{NV_2-NV_1} \\times L'_{CS,R,NV_2,d,t,i}) & (NV < NV_2の場合) \\\\\n",
    "    (\\frac{NV-NV_3}{NV_2-NV_3} \\times L'_{CS,R,NV_2,d,t,i} + \\frac{NV-NV_2}{NV_3-NV_2} \\times L'_{CS,R,NV_3,d,t,i}) & (NV_2 \\le NVの場合) \\\\\n",
    "\\end{array}\n",
    "\\right.\n",
    "$$\n",
    "\n",
    "$$\\large\n",
    "L'_{CL,R,d,t,i} = \\left\\{ \\begin{array}{ll}\n",
    "    \\frac{NV-NV_2}{NV_1-NV_2} \\times L'_{CL,R,NV_1,d,t,i} + \\frac{NV-NV_1}{NV_2-NV_1} \\times L'_{CL,R,NV_2,d,t,i} & (NV < NV_2の場合) \\\\\n",
    "    \\frac{NV-NV_3}{NV_2-NV_3} \\times L'_{CL,R,NV_2,d,t,i} + \\frac{NV-NV_2}{NV_3-NV_2} \\times L'_{CL,R,NV_3,d,t,i} & (NV_2 \\le NVの場合) \\\\\n",
    "\\end{array}\n",
    "\\right.\n",
    "$$"
   ]
  },
  {
   "cell_type": "markdown",
   "metadata": {},
   "source": [
    "$NV$：通風の利用における相当換気回数(1/h) / Equivalent ventilation frequency in the use of ventilation  \n",
    "$NV_l$：通風の利用に関する区分$l$の通風の利用における相当換気回数(1/h) / The equivalent ventilation frequency in the use of ventilation of division $ l $ concerning the use of ventilation  \n",
    "$L'_{CS,R,NV_l,d,t,i}$：日付$d$の時刻$t$における暖冷房区画$i$の通風の利用における相当換気回数$NV_l$の標準住戸の負荷補正前の冷房顕熱負荷(MJ/h) / Cooling sensible heat load before load compensation of standard dwellings of equivalent ventilation frequency $ NV_l $ in utilization of ventilation of heating / cooling section $ i $ at time $ t $ of date $ d $  \n",
    "$L'_{CL,R,NV_l,d,t,i}$：日付$d$の時刻$t$における暖冷房区画$i$の通風の利用における相当換気回数$NV_l$の標準住戸の負荷補正前の冷房潜熱負荷(MJ/h) / Cooling latent heat load before load compensation of standard dwellings with equivalent ventilation frequency $ NV_l $ in utilization of ventilation of heating / cooling section $ i $ at time $ t $ of date $ d $  "
   ]
  },
  {
   "cell_type": "markdown",
   "metadata": {},
   "source": [
    "通風の利用における相当換気回数$NV$は、「住戸全体を連続的に冷房する方式」の場合はすべての暖冷房区画（$i = 1～12$）において0.0回/h とする。 "
   ]
  },
  {
   "cell_type": "markdown",
   "metadata": {},
   "source": [
    "The equivalent ventilation frequency $ NV $ in the use of ventilation is 0.0 times / h in all heating and cooling sections ($ i = 1 to 12 $) in the case of the “system for continuously cooling the entire dwelling unit”."
   ]
  },
  {
   "cell_type": "markdown",
   "metadata": {},
   "source": [
    "主たる居室において通風の利用が「通風を利用しない」に該当する場合は暖冷房区画$i = 1$における通風の利用における相当換気回数$NV$は0.0回/h とし、通風の利用が「通風を利用する（換気回数5回/h 相当以上）」に該当する場合は暖冷房区画$i = 1$における通風の利用における相当換気回数$NV$は5.0回/h とし、通風の利用が「通風を利用する（換気回数20回/h 相当以上）」に該当する場合は暖冷房区画$i = 1$における通風の利用における相当換気回数$NV$は20.0回/h とする。  "
   ]
  },
  {
   "cell_type": "markdown",
   "metadata": {},
   "source": [
    "If the use of ventilation is \"do not use ventilation\" in the main room, the equivalent ventilation frequency $ NV $ in the utilization of ventilation in the heating and cooling section $ i = 1 $ is 0.0 times / h, and the utilization of ventilation is \"ventilation\" In the case where it corresponds to the use of (ventilation frequency 5 times / h equivalent or more), the equivalent ventilation frequency $ NV $ in the utilization of ventilation in heating / cooling section $ i = 1 $ is 5.0 times / h, and utilization of ventilation is \" In the case of using ventilation (20 times of ventilation / h or more equivalent), the equivalent ventilation frequency $ NV $ for using ventilation in heating / cooling section $ i = 1 $ is 20.0 times / h."
   ]
  },
  {
   "cell_type": "markdown",
   "metadata": {},
   "source": [
    "その他の居室において通風の利用が「通風を利用しない」に該当する場合は暖冷房区画$i = 2～5$における通風の利用における相当換気回数$NV$は0.0回/h とし、通風の利用が「通風を利用する（換気回数5回/h 相当以上）」に該当する場合は暖冷房区画$i = 2～5$における通風の利用における相当換気回数$NV$は5.0回/h とし、通風の利用が「通風を利用する（換気回数20回/h 相当以上）」に該当する場合は暖冷房区画$i = 2～5$における通風の利用における相当換気回数$NV$は20.0回/h とする。 "
   ]
  },
  {
   "cell_type": "markdown",
   "metadata": {},
   "source": [
    "If the use of ventilation is \"do not use ventilation\" in the other rooms, the equivalent ventilation frequency $ NV $ in the utilization of ventilation in the heating and cooling section $ i = 2 to 5 $ is set to 0.0 times / h, and the use of ventilation In the case of using “ventilation” (ventilation frequency 5 times / h or more equivalent), the equivalent ventilation frequency $ NV $ for using ventilation in the heating and cooling section $ i = 2 to 5 $ is 5.0 times / h, When the use of ventilation corresponds to \"use ventilation (20 times of ventilation / h equivalent or more)\", the equivalent ventilation frequency $ NV $ in utilization of ventilation in heating and cooling section $ i = 2 to 5 $ let be 20.0 / h ."
   ]
  },
  {
   "cell_type": "code",
   "execution_count": null,
   "metadata": {},
   "outputs": [],
   "source": [
    "# 標準住戸の負荷補正前の冷房顕熱負荷\n",
    "def get_L_dash_CS_R_d_t_i(region, mode, NV_MR, NV_OR, Q, mu_C, i):\n",
    "    if mode == 'い' or mode == '全館連続':\n",
    "        # 通風の利用における相当換気回数ܸܰは、「住戸全体を連続的に冷房する方式」の場合はすべての暖冷房区画において0.0回/h とする。\n",
    "        NV = 0.0\n",
    "    elif mode in ['ろ', 'は'] or mode == '居室間歇':\n",
    "        # 主たる居室\n",
    "        if i == 1:\n",
    "            if NV_MR == 0:\n",
    "                NV = 0.0\n",
    "            elif NV_MR == 5:\n",
    "                NV = 5.0\n",
    "            elif NV_MR == 20:\n",
    "                NV = 20.0\n",
    "            else:\n",
    "                raise ValueError(NV_MR)\n",
    "        # その他の居室\n",
    "        elif 2 <= i and i <= 5:\n",
    "            if NV_OR == 0:\n",
    "                NV = 0.0\n",
    "            elif NV_OR == 5:\n",
    "                NV = 5.0\n",
    "            elif NV_OR == 20:\n",
    "                NV = 20.0\n",
    "            else:\n",
    "                raise ValueError(NV_OR)\n",
    "        else:\n",
    "            raise ValueError(i)\n",
    "    else:\n",
    "        raise ValueError(mode)\n",
    "\n",
    "    NV1 = get_NV(1)\n",
    "    NV2 = get_NV(2)\n",
    "    NV3 = get_NV(3)\n",
    "\n",
    "    # (11a)\n",
    "    if NV == NV1:\n",
    "        return get_L_dash_CS_R_NVl_d_t_i(region, mode, 1, Q, mu_C, i)\n",
    "    elif NV == NV2:\n",
    "        return get_L_dash_CS_R_NVl_d_t_i(region, mode, 2, Q, mu_C, i)\n",
    "    elif NV == NV3:\n",
    "        return get_L_dash_CS_R_NVl_d_t_i(region, mode, 3, Q, mu_C, i)\n",
    "    elif NV < NV2:\n",
    "        L_dash_CS_R_NV1_d_t_i = get_L_dash_CS_R_NVl_d_t_i(region, mode, 1, Q, mu_C, i)\n",
    "        L_dash_CS_R_NV2_d_t_i = get_L_dash_CS_R_NVl_d_t_i(region, mode, 2, Q, mu_C, i)\n",
    "        return (NV - NV2) / (NV1 - NV2) * L_dash_CS_R_NV1_d_t_i + (NV - NV1) / (NV2 - NV1) * L_dash_CS_R_NV2_d_t_i\n",
    "    elif NV2 <= NV:\n",
    "        L_dash_CS_R_NV2_d_t_i = get_L_dash_CS_R_NVl_d_t_i(region, mode, 2, Q, mu_C, i)\n",
    "        L_dash_CS_R_NV3_d_t_i = get_L_dash_CS_R_NVl_d_t_i(region, mode, 3, Q, mu_C, i)\n",
    "        return (NV - NV3) / (NV2 - NV3) * L_dash_CS_R_NV2_d_t_i + (NV - NV2) / (NV3 - NV2) * L_dash_CS_R_NV3_d_t_i\n",
    "    else:\n",
    "        raise NotImplementedError()\n",
    "\n",
    "\n",
    "# 標準住戸の負荷補正前の冷房潜熱負荷\n",
    "def get_L_dash_CL_R_d_t_i(region, mode, NV_MR, NV_OR, Q, mu_C, i):\n",
    "    if mode == 'い' or mode == '全館連続':\n",
    "        # 通風の利用における相当換気回数ܸܰは、「住戸全体を連続的に冷房する方式」の場合はすべての暖冷房区画において0.0回/h とする。\n",
    "        NV = 0.0\n",
    "    elif mode in ['ろ', 'は'] or mode == '居室間歇':\n",
    "        # 主たる居室\n",
    "        if i == 1:\n",
    "            if NV_MR == 0:\n",
    "                NV = 0.0\n",
    "            elif NV_MR == 5:\n",
    "                NV = 5.0\n",
    "            elif NV_MR == 20:\n",
    "                NV = 20.0\n",
    "            else:\n",
    "                raise ValueError(NV_MR)\n",
    "        # その他の居室\n",
    "        elif 2 <= i and i <= 5:\n",
    "            if NV_OR == 0:\n",
    "                NV = 0.0\n",
    "            elif NV_OR == 5:\n",
    "                NV = 5.0\n",
    "            elif NV_OR == 20:\n",
    "                NV = 20.0\n",
    "            else:\n",
    "                raise ValueError(NV_OR)\n",
    "        else:\n",
    "            raise ValueError(i)\n",
    "    else:\n",
    "        raise ValueError(mode)\n",
    "\n",
    "    NV1 = get_NV(1)\n",
    "    NV2 = get_NV(2)\n",
    "    NV3 = get_NV(3)\n",
    "\n",
    "    # (11b)\n",
    "    if NV == NV1:\n",
    "        return get_L_dash_CL_R_NVl_d_t_i(region, mode, 1, Q, mu_C, i)\n",
    "    elif NV == NV2:\n",
    "        return get_L_dash_CL_R_NVl_d_t_i(region, mode, 2, Q, mu_C, i)\n",
    "    elif NV == NV3:\n",
    "        return get_L_dash_CL_R_NVl_d_t_i(region, mode, 3, Q, mu_C, i)\n",
    "    elif NV < NV2:\n",
    "        L_dash_CL_R_NV1_d_t_i = get_L_dash_CL_R_NVl_d_t_i(region, mode, 1, Q, mu_C, i)\n",
    "        L_dash_CL_R_NV2_d_t_i = get_L_dash_CL_R_NVl_d_t_i(region, mode, 2, Q, mu_C, i)\n",
    "        return (NV - NV2) / (NV1 - NV2) * L_dash_CL_R_NV1_d_t_i + (NV - NV1) / (NV2 - NV1) * L_dash_CL_R_NV2_d_t_i\n",
    "    elif NV2 <= NV:\n",
    "        L_dash_CL_R_NV2_d_t_i = get_L_dash_CL_R_NVl_d_t_i(region, mode, 2, Q, mu_C, i)\n",
    "        L_dash_CL_R_NV3_d_t_i = get_L_dash_CL_R_NVl_d_t_i(region, mode, 3, Q, mu_C, i)\n",
    "        return (NV - NV3) / (NV2 - NV3) * L_dash_CL_R_NV2_d_t_i + (NV - NV2) / (NV3 - NV2) * L_dash_CL_R_NV3_d_t_i\n",
    "    else:\n",
    "        raise NotImplementedError()"
   ]
  },
  {
   "cell_type": "markdown",
   "metadata": {},
   "source": [
    "<div style=\"text-align: center;font-weight: bold;\">表　通風の利用に関する区分$l$の通風の利用における相当換気回数$NV_l$<br>Table: Use of ventilation Ventilation in the use of category $l$ of ventilation $ NV_l $</div>\n",
    "\n",
    "|通風の利用に関する区分$l$<br>Classification $l$ about the use of ventilation|通風の利用における相当換気回数$NV_l$<br>Equivalent ventilation frequency in the use of ventilation $NV_l$|\n",
    "|-|-|\n",
    "|1|0.0|\n",
    "|2|5.0|\n",
    "|3|20.0|\n"
   ]
  },
  {
   "cell_type": "code",
   "execution_count": null,
   "metadata": {},
   "outputs": [],
   "source": [
    "# 表 9 通風の利用に関する区分݈の通風の利用における相当換気回数 NV_l\n",
    "def get_NV(l):\n",
    "    table_9 = (0.0, 5.0, 20.0)\n",
    "    return table_9[l - 1]"
   ]
  },
  {
   "cell_type": "markdown",
   "metadata": {},
   "source": [
    "1～7 地域の場合"
   ]
  },
  {
   "cell_type": "markdown",
   "metadata": {},
   "source": [
    "In the case of 1-7 areas"
   ]
  },
  {
   "cell_type": "markdown",
   "metadata": {},
   "source": [
    "$$\\large\n",
    "L'_{CS,R,NV_l,d,t,i} = \\left\\{ \\begin{array}{ll}\n",
    "    \\frac{Q - Q_2}{Q_1 - Q_2} \\times L'_{CS,R,NV_l,Q_1,d,t,i} + \\frac{Q - Q_1}{Q_2 - Q_1} \\times L'_{CS,R,NV_l,Q_2,d,t,i} & (Q \\ge Q_2の場合) \\\\\n",
    "    \\frac{Q - Q_3}{Q_2 - Q_3} \\times L'_{CS,R,NV_l,Q_2,d,t,i} + \\frac{Q - Q_2}{Q_3 - Q_2} \\times L'_{CS,R,NV_l,Q_3,d,t,i} & (Q_2 > Q \\ge Q_3の場合) \\\\\n",
    "    \\frac{Q - Q_4}{Q_3 - Q_4} \\times L'_{CS,R,NV_l,Q_3,d,t,i} + \\frac{Q - Q_3}{Q_4 - Q_3} \\times L'_{CS,R,NV_l,Q_4,d,t,i} & (Q_3 > Qの場合) \\\\\n",
    "\\end{array}\n",
    "\\right.\n",
    "$$\n",
    "\n",
    "$$\\large\n",
    "L'_{CL,R,NV_l,d,t,i} = \\left\\{ \\begin{array}{ll}\n",
    "    \\frac{Q - Q_2}{Q_1 - Q_2} \\times L'_{CL,R,NV_l,Q_1,d,t,i} + \\frac{Q - Q_1}{Q_2 - Q_1} \\times L'_{CL,R,NV_l,Q_2,d,t,i} & (Q \\ge Q_2の場合) \\\\\n",
    "    \\frac{Q - Q_3}{Q_2 - Q_3} \\times L'_{CL,R,NV_l,Q_2,d,t,i} + \\frac{Q - Q_2}{Q_3 - Q_2} \\times L'_{CL,R,NV_l,Q_3,d,t,i} & (Q_2 > Q \\ge Q_3の場合) \\\\\n",
    "    \\frac{Q - Q_4}{Q_3 - Q_4} \\times L'_{CL,R,NV_l,Q_3,d,t,i} + \\frac{Q - Q_3}{Q_4 - Q_3} \\times L'_{CL,R,NV_l,Q_4,d,t,i} & (Q_3 > Qの場合) \\\\\n",
    "\\end{array}\n",
    "\\right.\n",
    "$$"
   ]
  },
  {
   "cell_type": "markdown",
   "metadata": {},
   "source": [
    "8 地域の場合"
   ]
  },
  {
   "cell_type": "markdown",
   "metadata": {},
   "source": [
    "In the case of 8 area"
   ]
  },
  {
   "cell_type": "markdown",
   "metadata": {},
   "source": [
    "$$\\large\n",
    "L'_{CS,R,NV_l,d,t,i} = \\left\\{ \\begin{array}{ll}\n",
    "    \\frac{Q-Q_2}{Q_1 - Q_2} \\times L'_{CS,R,NV_l,Q_1,d,t,i} + \\frac{Q - Q_1}{Q_2 - Q_1} \\times L'_{CS,R,NV_l,Q_2,d,t,i} & (Q \\ge Q_2の場合) \\\\\n",
    "    \\frac{Q-Q_3}{Q_2 - Q_3} \\times L'_{CS,R,NV_l,Q_2,d,t,i} + \\frac{Q - Q_2}{Q_3 - Q_2} \\times L'_{CS,R,NV_l,Q_3,d,t,i} & (Q_2 > Qの場合) \\\\\n",
    "\\end{array}\n",
    "\\right.\n",
    "$$\n",
    "\n",
    "$$\\large\n",
    "L'_{CL,R,NV_l,d,t,i} = \\left\\{ \\begin{array}{ll}\n",
    "    \\frac{Q - Q_2}{Q_1 - Q_2} \\times L'_{CL,R,NV_l,Q_1,d,t,i} + \\frac{Q - Q_1}{Q_2 - Q_1} \\times L'_{CL,R,NV_l,Q_2,d,t,i} & (Q \\ge Q_2の場合) \\\\\n",
    "    \\frac{Q - Q_3}{Q_2 - Q_3} \\times L'_{CL,R,NV_l,Q_2,d,t,i} + \\frac{Q - Q_2}{Q_3 - Q_2} \\times L'_{CL,R,NV_l,Q_3,d,t,i} & (Q_2 > Qの場合) \\\\\n",
    "\\end{array}\n",
    "\\right.\n",
    "$$"
   ]
  },
  {
   "cell_type": "markdown",
   "metadata": {},
   "source": [
    "$L'_{CS,R,NV_l,Q_j,d,t,i}$：日付$d$の時刻$t$における暖冷房区画$i$の通風の利用における相当換気回数$NV_l$の熱損失係数$Q_j$の標準住戸の負荷補正前の冷房顕熱負荷(MJ/h) / Cooling sensible heat load before load correction of standard dwelling unit with heat loss coefficient $ Q_j $ equivalent heat exchange factor $ NV_l $ in utilization of ventilation of heating / cooling section $ i $ at time $ t $ of date $ d $  \n",
    "$L'_{CL,R,NV_l,Q_j,d,t,i}$：日付$d$の時刻$t$における暖冷房区画$i$の通風の利用における相当換気回数$NV_l$の熱損失係数$Q_j$の標準住戸の負荷補正前の冷房潜熱負荷(MJ/h) / Cooling latent heat load before load compensation of standard dwellings with the equivalent ventilation frequency $ NV_l $ heat loss coefficient $ Q_j $ in utilization of ventilation of heating / cooling compartment $ i $ at time $ t $ of date $ d $  "
   ]
  },
  {
   "cell_type": "code",
   "execution_count": null,
   "metadata": {},
   "outputs": [],
   "source": [
    "# 冷房顕熱負荷のQ値按分 (12)\n",
    "def get_L_dash_CS_R_NVl_d_t_i(region, mode, l, Q, mu_C, i):\n",
    "    if region in [1, 2, 3, 4, 5, 6, 7]:\n",
    "\n",
    "        Q1 = get_Q_j(region, 1)\n",
    "        Q2 = get_Q_j(region, 2)\n",
    "        Q3 = get_Q_j(region, 3)\n",
    "        Q4 = get_Q_j(region, 4)\n",
    "\n",
    "        # (12a)\n",
    "        if Q == Q1:\n",
    "            return get_L_dash_CS_R_NVl_Qj_d_t_i(region, mode, l, 1, mu_C, i)\n",
    "        elif Q == Q2:\n",
    "            return get_L_dash_CS_R_NVl_Qj_d_t_i(region, mode, l, 2, mu_C, i)\n",
    "        elif Q == Q3:\n",
    "            return get_L_dash_CS_R_NVl_Qj_d_t_i(region, mode, l, 3, mu_C, i)\n",
    "        elif Q == Q4:\n",
    "            return get_L_dash_CS_R_NVl_Qj_d_t_i(region, mode, l, 4, mu_C, i)\n",
    "        elif Q >= Q2:\n",
    "            L_dash_CS_R_NVl_Q1_d_t_i = get_L_dash_CS_R_NVl_Qj_d_t_i(region, mode, l, 1, mu_C, i)\n",
    "            L_dash_CS_R_NVl_Q2_d_t_i = get_L_dash_CS_R_NVl_Qj_d_t_i(region, mode, l, 2, mu_C, i)\n",
    "            return (Q - Q2) / (Q1 - Q2) * L_dash_CS_R_NVl_Q1_d_t_i + (Q - Q1) / (Q2 - Q1) * L_dash_CS_R_NVl_Q2_d_t_i\n",
    "        elif Q2 > Q and Q >= Q3:\n",
    "            L_dash_CS_R_NVl_Q2_d_t_i = get_L_dash_CS_R_NVl_Qj_d_t_i(region, mode, l, 2, mu_C, i)\n",
    "            L_dash_CS_R_NVl_Q3_d_t_i = get_L_dash_CS_R_NVl_Qj_d_t_i(region, mode, l, 3, mu_C, i)\n",
    "            return (Q - Q3) / (Q2 - Q3) * L_dash_CS_R_NVl_Q2_d_t_i + (Q - Q2) / (Q3 - Q2) * L_dash_CS_R_NVl_Q3_d_t_i\n",
    "        elif Q3 > Q:\n",
    "            L_dash_CS_R_NVl_Q3_d_t_i = get_L_dash_CS_R_NVl_Qj_d_t_i(region, mode, l, 3, mu_C, i)\n",
    "            L_dash_CS_R_NVl_Q4_d_t_i = get_L_dash_CS_R_NVl_Qj_d_t_i(region, mode, l, 4, mu_C, i)\n",
    "            return (Q - Q4) / (Q3 - Q4) * L_dash_CS_R_NVl_Q3_d_t_i + (Q - Q3) / (Q4 - Q3) * L_dash_CS_R_NVl_Q4_d_t_i\n",
    "        else:\n",
    "            raise NotImplementedError()\n",
    "    elif region in [8]:\n",
    "\n",
    "        Q1 = get_Q_j(region, 1)\n",
    "        Q2 = get_Q_j(region, 2)\n",
    "        Q3 = get_Q_j(region, 3)\n",
    "\n",
    "        # (12c)\n",
    "        if Q == Q1:\n",
    "            return get_L_dash_CS_R_NVl_Qj_d_t_i(region, mode, l, 1, mu_C, i)\n",
    "        elif Q == Q2:\n",
    "            return get_L_dash_CS_R_NVl_Qj_d_t_i(region, mode, l, 2, mu_C, i)\n",
    "        elif Q == Q3:\n",
    "            return get_L_dash_CS_R_NVl_Qj_d_t_i(region, mode, l, 3, mu_C, i)\n",
    "        elif Q >= Q2:\n",
    "            L_dash_CS_R_NVl_Q1_d_t_i = get_L_dash_CS_R_NVl_Qj_d_t_i(region, mode, l, 1, mu_C, i)\n",
    "            L_dash_CS_R_NVl_Q2_d_t_i = get_L_dash_CS_R_NVl_Qj_d_t_i(region, mode, l, 2, mu_C, i)\n",
    "            return (Q - Q2) / (Q1 - Q2) * L_dash_CS_R_NVl_Q1_d_t_i + (Q - Q1) / (Q2 - Q1) * L_dash_CS_R_NVl_Q2_d_t_i\n",
    "        elif Q2 > Q:\n",
    "            L_dash_CS_R_NVl_Q2_d_t_i = get_L_dash_CS_R_NVl_Qj_d_t_i(region, mode, l, 2, mu_C, i)\n",
    "            L_dash_CS_R_NVl_Q3_d_t_i = get_L_dash_CS_R_NVl_Qj_d_t_i(region, mode, l, 3, mu_C, i)\n",
    "            return (Q - Q3) / (Q2 - Q3) * L_dash_CS_R_NVl_Q2_d_t_i + (Q - Q2) / (Q3 - Q2) * L_dash_CS_R_NVl_Q3_d_t_i\n",
    "        else:\n",
    "            raise ValueError(Q)\n",
    "    else:\n",
    "        raise ValueError(region)\n",
    "\n",
    "\n",
    "# 冷房潜熱負荷のQ値按分 (12)\n",
    "def get_L_dash_CL_R_NVl_d_t_i(region, mode, l, Q, mu_C, i):\n",
    "    if region in [1, 2, 3, 4, 5, 6, 7]:\n",
    "\n",
    "        Q1 = get_Q_j(region, 1)\n",
    "        Q2 = get_Q_j(region, 2)\n",
    "        Q3 = get_Q_j(region, 3)\n",
    "        Q4 = get_Q_j(region, 4)\n",
    "\n",
    "        # (12b)\n",
    "        if Q == Q1:\n",
    "            return get_L_dash_CL_R_NVl_Qj_d_t_i(region, mode, l, 1, mu_C, i)\n",
    "        elif Q == Q2:\n",
    "            return get_L_dash_CL_R_NVl_Qj_d_t_i(region, mode, l, 2, mu_C, i)\n",
    "        elif Q == Q3:\n",
    "            return get_L_dash_CL_R_NVl_Qj_d_t_i(region, mode, l, 3, mu_C, i)\n",
    "        elif Q == Q4:\n",
    "            return get_L_dash_CL_R_NVl_Qj_d_t_i(region, mode, l, 4, mu_C, i)\n",
    "        elif Q >= Q2:\n",
    "            L_dash_CL_R_NVl_Q1_d_t_i = get_L_dash_CL_R_NVl_Qj_d_t_i(region, mode, l, 1, mu_C, i)\n",
    "            L_dash_CL_R_NVl_Q2_d_t_i = get_L_dash_CL_R_NVl_Qj_d_t_i(region, mode, l, 2, mu_C, i)\n",
    "            return (Q - Q2) / (Q1 - Q2) * L_dash_CL_R_NVl_Q1_d_t_i + (Q - Q1) / (Q2 - Q1) * L_dash_CL_R_NVl_Q2_d_t_i\n",
    "        elif Q2 > Q and Q >= Q3:\n",
    "            L_dash_CL_R_NVl_Q2_d_t_i = get_L_dash_CL_R_NVl_Qj_d_t_i(region, mode, l, 2, mu_C, i)\n",
    "            L_dash_CL_R_NVl_Q3_d_t_i = get_L_dash_CL_R_NVl_Qj_d_t_i(region, mode, l, 3, mu_C, i)\n",
    "            return (Q - Q3) / (Q2 - Q3) * L_dash_CL_R_NVl_Q2_d_t_i + (Q - Q2) / (Q3 - Q2) * L_dash_CL_R_NVl_Q3_d_t_i\n",
    "        elif Q3 > Q:\n",
    "            L_dash_CL_R_NVl_Q3_d_t_i = get_L_dash_CL_R_NVl_Qj_d_t_i(region, mode, l, 3, mu_C, i)\n",
    "            L_dash_CL_R_NVl_Q4_d_t_i = get_L_dash_CL_R_NVl_Qj_d_t_i(region, mode, l, 4, mu_C, i)\n",
    "            return (Q - Q4) / (Q3 - Q4) * L_dash_CL_R_NVl_Q3_d_t_i + (Q - Q3) / (Q4 - Q3) * L_dash_CL_R_NVl_Q4_d_t_i\n",
    "        else:\n",
    "            raise ValueError(Q)\n",
    "    elif region in [8]:\n",
    "\n",
    "        Q1 = get_Q_j(region, 1)\n",
    "        Q2 = get_Q_j(region, 2)\n",
    "        Q3 = get_Q_j(region, 3)\n",
    "\n",
    "        # (12d)\n",
    "        if Q == Q1:\n",
    "            return get_L_dash_CL_R_NVl_Qj_d_t_i(region, mode, l, 1, mu_C, i)\n",
    "        elif Q == Q2:\n",
    "            return get_L_dash_CL_R_NVl_Qj_d_t_i(region, mode, l, 2, mu_C, i)\n",
    "        elif Q == Q3:\n",
    "            return get_L_dash_CL_R_NVl_Qj_d_t_i(region, mode, l, 3, mu_C, i)\n",
    "        elif Q >= Q2:\n",
    "            L_dash_CL_R_NVl_Q1_d_t_i = get_L_dash_CL_R_NVl_Qj_d_t_i(region, mode, l, 1, mu_C, i)\n",
    "            L_dash_CL_R_NVl_Q2_d_t_i = get_L_dash_CL_R_NVl_Qj_d_t_i(region, mode, l, 2, mu_C, i)\n",
    "            return (Q - Q2) / (Q1 - Q2) * L_dash_CL_R_NVl_Q1_d_t_i + (Q - Q1) / (Q2 - Q1) * L_dash_CL_R_NVl_Q2_d_t_i\n",
    "        elif Q2 > Q:\n",
    "            L_dash_CL_R_NVl_Q2_d_t_i = get_L_dash_CL_R_NVl_Qj_d_t_i(region, mode, l, 2, mu_C, i)\n",
    "            L_dash_CL_R_NVl_Q3_d_t_i = get_L_dash_CL_R_NVl_Qj_d_t_i(region, mode, l, 3, mu_C, i)\n",
    "            return (Q - Q3) / (Q2 - Q3) * L_dash_CL_R_NVl_Q2_d_t_i + (Q - Q2) / (Q3 - Q2) * L_dash_CL_R_NVl_Q3_d_t_i\n",
    "        else:\n",
    "            raise ValueError(Q)\n",
    "    else:\n",
    "        raise ValueError(region)"
   ]
  },
  {
   "cell_type": "markdown",
   "metadata": {},
   "source": [
    "$$\\large\n",
    "L'_{CS,R,NV_l,Q_j,d,t,i} = \\left\\{ \\begin{array}{ll}\n",
    "    \\frac{\\mu_C - \\mu_{C,j,2}}{\\mu_{C,j,1} - \\mu_{C,j,2}} \\times L'_{CS,R,NV_l,Q_j,\\mu_{C,j,1},d,t,i} + \\frac{\\mu_C - \\mu_{C,j,1}}{\\mu_{C,j,2} - \\mu_{C,j,1}} \\times L'_{CS,R,NV_l,Q_j,\\mu_{C,j,2},d,t,i} & (\\mu_C < \\mu_{C,j,2}) \\\\\n",
    "    \\frac{\\mu_C - \\mu_{C,j,3}}{\\mu_{C,j,2} - \\mu_{C,j,3}} \\times L'_{CS,R,NV_l,Q_j,\\mu_{C,j,2},d,t,i} + \\frac{\\mu_C - \\mu_{C,j,2}}{\\mu_{C,j,3} - \\mu_{C,j,2}} \\times L'_{CS,R,NV_l,Q_j,\\mu_{C,j,3},d,t,i} & (\\mu_{C,j,2} \\le \\mu_C) \\\\\n",
    "\\end{array}\n",
    "\\right.\n",
    "$$\n",
    "\n",
    "$$\\large\n",
    "L'_{CL,R,NV_l,Q_j,d,t,i} = \\left\\{ \\begin{array}{ll}\n",
    "    \\frac{\\mu_C - \\mu_{C,j,2}}{\\mu_{C,j,1} - \\mu_{C,j,2}} \\times L'_{CL,R,NV_l,Q_j,\\mu_{C,j,1},d,t,i} + \\frac{\\mu_C - \\mu_{C,j,1}}{\\mu_{C,j,2} - \\mu_{C,j,1}} \\times L'_{CL,R,NV_l,Q_j,\\mu_{C,j,2},d,t,i} & (\\mu_C < \\mu_{C,j,2}) \\\\\n",
    "    \\frac{\\mu_C - \\mu_{C,j,3}}{\\mu_{C,j,2} - \\mu_{C,j,3}} \\times L'_{CL,R,NV_l,Q_j,\\mu_{C,j,2},d,t,i} + \\frac{\\mu_C - \\mu_{C,j,2}}{\\mu_{C,j,3} - \\mu_{C,j,2}} \\times L'_{CL,R,NV_l,Q_j,\\mu_{C,j,3},d,t,i} & (\\mu_{C,j,2} \\le \\mu_C) \\\\\n",
    "\\end{array}\n",
    "\\right.\n",
    "$$\n"
   ]
  },
  {
   "cell_type": "markdown",
   "metadata": {},
   "source": [
    "$L'_{CS,R,NV_l,Q_j,\\mu_{C,j,k},d,t,i}$：日付$d$の時刻$t$における暖冷房区画$i$の通風の利用における相当換気回数$NV_l$の熱損失係数$Q_j$かつ冷房期の日射取得係数$\\mu_{C,j,k}$の標準住戸の負荷補正前の冷房顕熱負荷(MJ/h) / Heat loss coefficient $ Q_j $ of equivalent ventilation frequency $ NV_l $ in utilization of ventilation of heating / cooling section $ i $ at time $ t $ of date $ d $ and solar radiation acquisition  coefficient $\\mu_{C,j,k},d,t,i$ during cooling period Cooling sensible heat load before load compensation for standard dwelling unit  \n",
    "$L'_{CL,R,NV_l,Q_j,\\mu_{C,j,1},d,t,i}$：日付$d$の時刻$t$における暖冷房区画$i$の通風の利用における相当換気回数$NV_l$の熱損失係数$Q_j$かつ冷房期の日射取得係数$\\mu_{C,j,k}$の標準住戸の負荷補正前の冷房潜熱負荷(MJ/h) / Heat loss coefficient $ Q_j $ of equivalent ventilation frequency $ NV_l $ in utilization of ventilation of heating / cooling section $ i $ at time $ t $ of date $ d $ and solar radiation acquisition coefficient $\\mu_{C,j,k},d,t,i$ during cooling period Cooling latent heat load before load compensation for  standard dwelling unit   \n",
    "$\\mu_C$：冷房期の日射取得係数 / Solar radiation acquisition coefficient during the cooling period   \n",
    "$\\mu_{C,j,k}$：断熱性能の区分$j$における日射取得性能の区分$k$の冷房期の日射取得係数 / Division $ j $ of insulation performance division Division of solar radiation acquisition performance division Solar radiation acquisition coefficient of cooling period during $ k $  "
   ]
  },
  {
   "cell_type": "code",
   "execution_count": null,
   "metadata": {},
   "outputs": [],
   "source": [
    "# 冷房顕熱負荷のμ値按分 (13a)\n",
    "def get_L_dash_CS_R_NVl_Qj_d_t_i(region, mode, l, j, mu_C, i):\n",
    "    mu_C_j_1 = get_mu_C_j_k(region, j, 1)\n",
    "    mu_C_j_2 = get_mu_C_j_k(region, j, 2)\n",
    "    mu_C_j_3 = get_mu_C_j_k(region, j, 3)\n",
    "\n",
    "    if mu_C == mu_C_j_1:\n",
    "        return get_L_dash_CS_R_NVl_Qj_muH_j_k_d_t_i(region, mode, l, j, 1, i)\n",
    "    elif mu_C == mu_C_j_2:\n",
    "        return get_L_dash_CS_R_NVl_Qj_muH_j_k_d_t_i(region, mode, l, j, 2, i)\n",
    "    elif mu_C == mu_C_j_3:\n",
    "        return get_L_dash_CS_R_NVl_Qj_muH_j_k_d_t_i(region, mode, l, j, 3, i)\n",
    "    elif mu_C < mu_C_j_2:\n",
    "        L_dash_CS_R_NVl_Qj_muH_j_1_d_t_i = get_L_dash_CS_R_NVl_Qj_muH_j_k_d_t_i(region, mode, l, j, 1, i)\n",
    "        L_dash_CS_R_NVl_Qj_muH_j_2_d_t_i = get_L_dash_CS_R_NVl_Qj_muH_j_k_d_t_i(region, mode, l, j, 2, i)\n",
    "        return (mu_C - mu_C_j_2) / (mu_C_j_1 - mu_C_j_2) * L_dash_CS_R_NVl_Qj_muH_j_1_d_t_i \\\n",
    "               + (mu_C - mu_C_j_1) / (mu_C_j_2 - mu_C_j_1) * L_dash_CS_R_NVl_Qj_muH_j_2_d_t_i\n",
    "    elif mu_C_j_2 <= mu_C:\n",
    "        L_dash_CS_R_NVl_Qj_muH_j_2_d_t_i = get_L_dash_CS_R_NVl_Qj_muH_j_k_d_t_i(region, mode, l, j, 2, i)\n",
    "        L_dash_CS_R_NVl_Qj_muH_j_3_d_t_i = get_L_dash_CS_R_NVl_Qj_muH_j_k_d_t_i(region, mode, l, j, 3, i)\n",
    "        return (mu_C - mu_C_j_3) / (mu_C_j_2 - mu_C_j_3) * L_dash_CS_R_NVl_Qj_muH_j_2_d_t_i \\\n",
    "               + (mu_C - mu_C_j_2) / (mu_C_j_3 - mu_C_j_2) * L_dash_CS_R_NVl_Qj_muH_j_3_d_t_i\n",
    "    else:\n",
    "        raise ValueError(mu_C)\n",
    "\n",
    "\n",
    "# 冷房潜熱負荷のμ値按分 (13b)\n",
    "def get_L_dash_CL_R_NVl_Qj_d_t_i(region, mode, l, j, mu_C, i):\n",
    "    mu_C_j_1 = get_mu_C_j_k(region, j, 1)\n",
    "    mu_C_j_2 = get_mu_C_j_k(region, j, 2)\n",
    "    mu_C_j_3 = get_mu_C_j_k(region, j, 3)\n",
    "\n",
    "    if mu_C == mu_C_j_1:\n",
    "        return get_L_dash_CL_R_NVl_Qj_muH_j_k_d_t_i(region, mode, l, j, 1, i)\n",
    "    elif mu_C == mu_C_j_2:\n",
    "        return get_L_dash_CL_R_NVl_Qj_muH_j_k_d_t_i(region, mode, l, j, 2, i)\n",
    "    elif mu_C == mu_C_j_3:\n",
    "        return get_L_dash_CL_R_NVl_Qj_muH_j_k_d_t_i(region, mode, l, j, 3, i)\n",
    "    elif mu_C < mu_C_j_2:\n",
    "        L_dash_CL_R_NVl_Qj_muH_j_1_d_t_i = get_L_dash_CL_R_NVl_Qj_muH_j_k_d_t_i(region, mode, l, j, 1, i)\n",
    "        L_dash_CL_R_NVl_Qj_muH_j_2_d_t_i = get_L_dash_CL_R_NVl_Qj_muH_j_k_d_t_i(region, mode, l, j, 2, i)\n",
    "        return (mu_C - mu_C_j_2) / (mu_C_j_1 - mu_C_j_2) * L_dash_CL_R_NVl_Qj_muH_j_1_d_t_i \\\n",
    "               + (mu_C - mu_C_j_1) / (mu_C_j_2 - mu_C_j_1) * L_dash_CL_R_NVl_Qj_muH_j_2_d_t_i\n",
    "    elif mu_C_j_2 <= mu_C:\n",
    "        L_dash_CL_R_NVl_Qj_muH_j_2_d_t_i = get_L_dash_CL_R_NVl_Qj_muH_j_k_d_t_i(region, mode, l, j, 2, i)\n",
    "        L_dash_CL_R_NVl_Qj_muH_j_3_d_t_i = get_L_dash_CL_R_NVl_Qj_muH_j_k_d_t_i(region, mode, l, j, 3, i)\n",
    "        return (mu_C - mu_C_j_3) / (mu_C_j_2 - mu_C_j_3) * L_dash_CL_R_NVl_Qj_muH_j_2_d_t_i \\\n",
    "               + (mu_C - mu_C_j_2) / (mu_C_j_3 - mu_C_j_2) * L_dash_CL_R_NVl_Qj_muH_j_3_d_t_i\n",
    "    else:\n",
    "        raise ValueError(mu_C)"
   ]
  },
  {
   "cell_type": "markdown",
   "metadata": {},
   "source": [
    "### 8．熱損失係数の計算方法 / Calculation method of heat loss coefficient"
   ]
  },
  {
   "cell_type": "markdown",
   "metadata": {},
   "source": [
    "地域の区分が 8 地域又は熱交換型換気設備を採用していない場合は、熱損失係数$Q$に等しいとする。 "
   ]
  },
  {
   "cell_type": "markdown",
   "metadata": {},
   "source": [
    "If the division of the area does not adopt 8 areas or heat exchange type ventilation equipment, it shall be equal to the heat loss coefficient $ Q $."
   ]
  },
  {
   "cell_type": "markdown",
   "metadata": {},
   "source": [
    "$$\\large\n",
    "Q_{HEXC} = Q - C_{V} \\times r_{V} \\times \\eta'_{t}\n",
    "$$"
   ]
  },
  {
   "cell_type": "markdown",
   "metadata": {},
   "source": [
    "$Q$：熱損失係数(W/m<sup>2</sup>K) / Heat loss coefficient  \n",
    "$C_{V}$：空気の容積比熱(Wh/m<sup>2</sup>K) / Volumetric specific heat of air  \n",
    "$r_{V}$：床面積当たりの換気量の比((m<sup>3</sup>/h)/m<sup>2</sup>) / Ratio of ventilation volume per floor area  \n",
    "$\\eta'_{t}$：熱交換型換気設備の補正温度交換効率 / Corrected temperature exchange efficiency of heat exchange type ventilation equipment  "
   ]
  },
  {
   "cell_type": "code",
   "execution_count": null,
   "metadata": {},
   "outputs": [],
   "source": [
    "# 熱交換型換気設備による暖房負荷低減を考慮した補正熱損失係数\n",
    "# etr_dash_t: 熱交換型換気設備の補正温度交換効率[-]\n",
    "def get_Q_HEXC(region, Q, hex, etr_dash_t):\n",
    "    # 地域の区分が 1 地域～７地域において熱交換型換気設備を採用している場合は、式(14)により表されることとし、\n",
    "    # 地域の区分が 8 地域又は熱交換型換気設備を採用していない場合は、熱損失係数ܳに等しいとする。\n",
    "    if region == 8 or hex == False:\n",
    "        return Q\n",
    "    elif region in [1, 2, 3, 4, 5, 6, 7]:\n",
    "        C_V = 0.35  # 空気の容積比熱\n",
    "        r_V = 4.0 / 3.0  # 床面積当たりの換気量の比\n",
    "        return Q - C_V * r_V * etr_dash_t  # (14)\n",
    "    else:\n",
    "        raise ValueError((region, hex))\n"
   ]
  },
  {
   "cell_type": "markdown",
   "metadata": {},
   "source": [
    "空気の容積比熱$C_{V}$は0.35とし、床面積当たりの換気量の比$r_{V}$は4⁄3（床面積120m<sup>2</sup> に対する換気量160m<sup>3</sup>/h）とする。"
   ]
  },
  {
   "cell_type": "markdown",
   "metadata": {},
   "source": [
    "The volume specific heat of air $ C_ {V} $ is 0.35, and the ratio of ventilation volume per floor area $ r_ {V} $ is 4⁄3 (ventilation volume 160 m<sup>3</sup> / h for floor area 120 m<sup>2</sup>)."
   ]
  },
  {
   "cell_type": "markdown",
   "metadata": {},
   "source": [
    "$$\\large\n",
    "Q = Q' + 0.35 \\times 0.5 \\times 2.4\n",
    "$$"
   ]
  },
  {
   "cell_type": "markdown",
   "metadata": {},
   "source": [
    "$Q'$：熱損失係数数（換気による熱損失を含まない）(W/m<sup>2</sup>K) / Heat loss factor number (does not include heat loss due to ventilation)  "
   ]
  },
  {
   "cell_type": "code",
   "execution_count": null,
   "metadata": {},
   "outputs": [],
   "source": [
    "# 熱損失係数\n",
    "# Q_dash: ：熱損失係数（換気による熱損失を含まない）(W/m2K)\n",
    "def get_Q(Q_dash):\n",
    "    return Q_dash + 0.35 * 0.5 * 2.4  # (15)"
   ]
  },
  {
   "cell_type": "markdown",
   "metadata": {},
   "source": [
    "### 9．暖冷房区画$i$の床面積 / Floor area of heating / cooling section $ i $"
   ]
  },
  {
   "cell_type": "markdown",
   "metadata": {},
   "source": [
    "$$\\large\n",
    "A_{HCZ,i} = \\left\\{ \\begin{array}{ll}\n",
    "   A_{HCZ,R,i} \\times \\frac{A_{MR}}{A_{MR,R}} & (i = 1) \\\\\n",
    "   A_{HCZ,R,i} \\times \\frac{A_{OR}}{A_{OR,R}} & (i = 2～5) \\\\\n",
    "   A_{HCZ,R,i} \\times \\frac{(A_{A}-A_{MR}-A_{OR})}{A_{NO,R}} & (i = 6～12) \\\\\n",
    "\\end{array}\n",
    "\\right.\n",
    "$$"
   ]
  },
  {
   "cell_type": "markdown",
   "metadata": {},
   "source": [
    "$A_{HCZ,R,i}$：標準住戸における暖冷房区画$i$の床面積(m<sup>2</sup>) / Floor area of heating / cooling section $ i $ in standard dwelling unit  \n",
    "$A_{MR}$：主たる居室の床面積(m<sup>2</sup>) / Floor area of main room  \n",
    "$A_{OR}$：その他の居室の床面積(m<sup>2</sup>) / Floor area of other rooms  \n",
    "$A_{A}$：床面積の合計(m<sup>2</sup>) / Total floor area  \n",
    "$A_{MR,R}$：標準住戸の主たる居室の床面積(m<sup>2</sup>) / Floor area of main room of standard dwelling unit  \n",
    "$A_{OR,R}$：標準住戸のその他の居室の床面積(m<sup>2</sup>) / Floor area of other rooms in standard units  \n",
    "$A_{NO,R}$：標準住戸の非居室の床面積(m<sup>2</sup>) / Floor area of non-living room of standard dwelling unit  "
   ]
  },
  {
   "cell_type": "code",
   "execution_count": null,
   "metadata": {},
   "outputs": [],
   "source": [
    "# 暖冷房区画iの床面積 (16)\n",
    "def get_A_HCZ_i(i, A_A, A_MR, A_OR):\n",
    "    \"\"\"\n",
    "    :param i: 暖冷房区画の番号\n",
    "    :param A_A: 床面積の合計 (m2)\n",
    "    :param A_MR: 主たる居室の床面積 (m2)\n",
    "    :param A_OR: その他の居室の床面積 (m2)\n",
    "    :return: 暖冷房区画iの床面積 (m2)\n",
    "    \"\"\"\n",
    "    # 標準住戸における暖冷房区画iの床面積\n",
    "    A_HCZ_R_i = get_A_HCZ_R_i(i)\n",
    "\n",
    "    A_MR_R = 29.81\n",
    "    A_OR_R = 51.34\n",
    "    A_NO_R = 38.93\n",
    "\n",
    "    # 暖冷房区画iの床面積を按分して求める\n",
    "    if i == 1:\n",
    "        return A_HCZ_R_i * A_MR / A_MR_R\n",
    "    elif 2 <= i and i <= 5:\n",
    "        return A_HCZ_R_i * A_OR / A_OR_R\n",
    "    elif 6 <= i and i <= 12:\n",
    "        return A_HCZ_R_i * (A_A - A_MR - A_OR) / A_NO_R\n",
    "    else:\n",
    "        raise ValueError(i)"
   ]
  },
  {
   "cell_type": "markdown",
   "metadata": {},
   "source": [
    "<div style=\"text-align: center;font-weight: bold;\">表　標準住戸における主たる居室、その他の居室及び非居室の面積、並びに暖冷房区画݅の床面積<br>Table: Main living room in standard dwelling unit, area of other living rooms and non-living rooms, and floor area of heating and cooling compartments</div>\n",
    "\n",
    "<table>\n",
    "<thead>\n",
    "<tr>\n",
    "<th>暖冷房区画$i$の番号<br>Number of heating / cooling section $ i $</th>\n",
    "<th>（参考）<br>想定する居室の種類<br>(Reference) <br>Type of room to be assumed</th>\n",
    "<th>居室の種類<br>Type of room</th>\n",
    "<th>暖冷房区画$i$の<br>床面積(m<sup>2</sup>)<br>Floor area of heating / cooling section $ i $</th>\n",
    "<th>主たる居室、<br>その他の居室、<br>非居室の床面積<br>(m<sup>2</sup>)<br>Main living room, <br>other living room, <br>floor space of non-living room</th>\n",
    "</tr>\n",
    "</thead>\n",
    "    \n",
    "<tbody>\n",
    "<tr>\n",
    "<th>1</th>\n",
    "<th>居間食堂（LD）・台所（K）<br>Living room dining room (LD) / kitchen (K)</th>\n",
    "<th>主たる居室<br>Main room</th>\n",
    "<td>29.81</td>\n",
    "<td>29.81</td>\n",
    "</tr>\n",
    "<tr>\n",
    "<th>2</th>\n",
    "<th>和室<br>Japanese room</th>\n",
    "<th rowspan=\"4\">その他の居室<br>Other rooms</th>\n",
    "<td>16.56</td>\n",
    "<td rowspan=\"4\">51.34</td>\n",
    "</tr>\n",
    "<tr>\n",
    "<th>3</th>\n",
    "<th>主寝室<br>Master bedroom</th>\n",
    "<td>13.25</td>\n",
    "</tr>\n",
    "<tr>\n",
    "<th>4</th>\n",
    "<th>子供室 1<br>Children's room 1</th>\n",
    "<td>10.76</td>\n",
    "</tr>\n",
    "<tr>\n",
    "<th>5</th>\n",
    "<th>子供室 2<br>Children's room 2</th>\n",
    "<td>10.77</td>\n",
    "</tr>\n",
    "<tr>\n",
    "<th>6</th>\n",
    "<th>浴室<br>bathroom</th>\n",
    "<th rowspan=\"7\">非居室<br>No living room</th>\n",
    "<td>3.31</td>\n",
    "<td rowspan=\"7\">38.93\n",
    "</td>\n",
    "</tr>\n",
    "<tr>\n",
    "<th>7</th>\n",
    "<th>1F 便所<br>1F Toilet</th>\n",
    "<td>1.66</td>\n",
    "</tr>\n",
    "<tr>\n",
    "<th>8</th>\n",
    "<th>洗面所<br>Washroom</th>\n",
    "<td>3.31</td>\n",
    "</tr>\n",
    "<tr>\n",
    "<th>9</th>\n",
    "<th>ホール<br>hall</th>\n",
    "<td>13.25</td>\n",
    "</tr>\n",
    "<tr>\n",
    "<th>10</th>\n",
    "<th>クローゼット<br>closet</th>\n",
    "<td>4.97</td>\n",
    "</tr>\n",
    "<tr>\n",
    "<th>11</th>\n",
    "<th>2F ホール<br>2F hall</th>\n",
    "<td>10.77</td>\n",
    "</tr>\n",
    "<tr>\n",
    "<th>12</th>\n",
    "<th>2F 便所<br>2F Toilet</th>\n",
    "<td>1.66</td>\n",
    "</tr>\n",
    "</tbody>\n",
    "</table>"
   ]
  },
  {
   "cell_type": "code",
   "execution_count": null,
   "metadata": {},
   "outputs": [],
   "source": [
    "# 標準住戸における暖冷房区画iの床面積\n",
    "def get_A_HCZ_R_i(i):\n",
    "    # 表10 標準住戸における主たる居室、その他の居室及び非居室の面積、並びに暖冷房区画iの床面積\n",
    "    table_10 = [\n",
    "        29.81,\n",
    "        16.56,\n",
    "        13.25,\n",
    "        10.76,\n",
    "        10.77,\n",
    "        3.31,\n",
    "        1.66,\n",
    "        3.31,\n",
    "        13.25,\n",
    "        4.97,\n",
    "        10.77,\n",
    "        1.66\n",
    "    ]\n",
    "    return table_10[i - 1]\n"
   ]
  },
  {
   "cell_type": "markdown",
   "metadata": {},
   "source": [
    "### 10．暖房日 / Heating day"
   ]
  },
  {
   "cell_type": "markdown",
   "metadata": {},
   "source": [
    "暖房日は暖房使用が発生することが見込まれる日と定義し、当該日の前日において標準住戸全体の負荷補正前の暖房負荷を日積算した値がゼロを超える場合（すなわち、$0 < \\sum_{t=0}^{23} \\sum_{i=1}^{12} L'_{H,R,d-1,t,i}$ の場合）、日付$d$は暖房日とする。ただし、日積算においては、日付$d-1$の時刻$t$における暖冷房区画$i$の標準住戸の負荷補正前の暖房負荷$L'_{H,R,d-1,t,i}$は、ゼロ未満の場合はゼロとする。また、日付$d$が 1 月 1 日である場合、日付݀は暖房日とする。 "
   ]
  },
  {
   "cell_type": "markdown",
   "metadata": {},
   "source": [
    "A heating day is defined as a day when heating use is expected to occur, and if the value obtained by integrating the heating load before the load correction of the entire standard dwellings on the day before that day exceeds zero (That is, in the case of $ 0 <\\sum_ {t = 0} ^ {23} \\sum_ {i = 1} ^ {12} L '_ {H, R, d-1, t, i} $), the date $ d $ Is a heating day. However, in the daily integration, the heating load $L'_{H,R,d-1,t,i}$ before the load correction of the standard dwelling unit $ i $ of the heating / cooling section $ i $ at the time $ t $ of the date $ d-1 $ is zero if less than zero. Also, if the date $ d $ is January 1, the date is the heating day."
   ]
  },
  {
   "cell_type": "code",
   "execution_count": null,
   "metadata": {},
   "outputs": [],
   "source": [
    "# 暖房日\n",
    "# 暖房日 = 暖房使用が発生することが見込まれる日\n",
    "def get_heating_flag_d(L_dash_H_R_d_t_i):\n",
    "    L_dash_H_R_d_t = np.sum(L_dash_H_R_d_t_i, axis=0)\n",
    "    L_dash_H_R_d_t = np.clip(L_dash_H_R_d_t, 0, None)\n",
    "    L_dash_H_R_d = np.sum(L_dash_H_R_d_t.reshape(365, 24), axis=1)\n",
    "\n",
    "    heating_flag_d = np.ones(365)\n",
    "    heating_flag_d[1:] = L_dash_H_R_d[0:364] > 0\n",
    "\n",
    "    return heating_flag_d"
   ]
  },
  {
   "cell_type": "markdown",
   "metadata": {},
   "source": [
    "## 付録 A 熱交換型換気設備 / Appendix A Heat exchange ventilation system"
   ]
  },
  {
   "cell_type": "markdown",
   "metadata": {},
   "source": [
    "### A.1 記号及び単位 / Symbol and unit"
   ]
  },
  {
   "cell_type": "markdown",
   "metadata": {},
   "source": [
    "省略"
   ]
  },
  {
   "cell_type": "markdown",
   "metadata": {},
   "source": [
    "Omission"
   ]
  },
  {
   "cell_type": "markdown",
   "metadata": {},
   "source": [
    "### A.2 熱交換型換気設備の補正温度交換効率 / Corrected temperature exchange efficiency of heat exchange type ventilation equipment"
   ]
  },
  {
   "cell_type": "markdown",
   "metadata": {},
   "source": [
    "$$\\large\n",
    "\\eta'_{t} = \\eta_{t} \\times C_{tol} \\times C_{eff} \\times C_{bal} \\times C_{leak}\n",
    "$$"
   ]
  },
  {
   "cell_type": "markdown",
   "metadata": {},
   "source": [
    "$\\eta'_{t}$：熱交換型換気設備の補正温度交換効率 / Corrected temperature exchange efficiency of heat exchange type ventilation equipment  \n",
    "$\\eta_{t}$：熱交換型換気設備の温度交換効率 / Temperature exchange efficiency of heat exchange type ventilation equipment  \n",
    "$C_{tol}$：カタログ表記誤差による温度交換効率の補正係数 / Correction factor of temperature exchange efficiency by catalog notation error  \n",
    "$C_{eff}$：有効換気量率による温度交換効率の補正係数 / Correction factor of temperature exchange efficiency by effective ventilation rate rate  \n",
    "$C_{bal}$：給気と排気の比率による温度交換効率の補正係数 / Correction factor of temperature exchange efficiency by ratio of air supply and exhaust  \n",
    "$C_{leak}$：排気過多時における住宅外皮経由の漏気による温度交換効率の補正係数 / Correction factor of temperature exchange efficiency due to air leakage through the housing skin at the time of exhaust excess  "
   ]
  },
  {
   "cell_type": "markdown",
   "metadata": {},
   "source": [
    "### A.3 熱交換型換気設備の温度交換効率 / Temperature exchange efficiency of heat exchange type ventilation equipment"
   ]
  },
  {
   "cell_type": "markdown",
   "metadata": {},
   "source": [
    "温度交換効率$\\eta_{t}$が0.4を下回る場合、又は、定格条件における給気風量が定格条件における還気風量の半分未満、若しくは 2 倍より大きい場合は、熱交換型換気設備による暖房負荷の削減効果を見込むことはできない。また、温度交換効率$\\eta_{t}$が0.95を上回る場合は、温度交換効率$\\eta_{t}$を0.95とする。 "
   ]
  },
  {
   "cell_type": "markdown",
   "metadata": {},
   "source": [
    "If the temperature exchange efficiency $ \\eta_ {t} $ is less than 0.4, or if the supply air volume at rated conditions is less than half or more than twice the return air volume at rated conditions, heating by heat exchange ventilators We can not anticipate the reduction effect of the load. If the temperature exchange efficiency $ \\eta_ {t} $ exceeds 0.95, the temperature exchange efficiency $ \\eta_ {t} $ is set to 0.95."
   ]
  },
  {
   "cell_type": "markdown",
   "metadata": {},
   "source": [
    "### A.4 カタログ表記誤差による温度交換効率の補正係数 / Correction factor of temperature exchange efficiency by catalog notation error"
   ]
  },
  {
   "cell_type": "markdown",
   "metadata": {},
   "source": [
    "カタログ表記誤差による温度交換効率の補正係数$C_{tol}$は、0.95とする。 "
   ]
  },
  {
   "cell_type": "markdown",
   "metadata": {},
   "source": [
    "The correction coefficient $ C_ {tol} $ of the temperature exchange efficiency due to the catalog notation error is 0.95."
   ]
  },
  {
   "cell_type": "markdown",
   "metadata": {},
   "source": [
    "### A.5 有効換気量率による温度交換効率の補正係数 / Correction factor of temperature exchange efficiency by effective ventilation rate rate"
   ]
  },
  {
   "cell_type": "markdown",
   "metadata": {},
   "source": [
    "有効換気量率による温度交換効率の補正係数$C_{eff}$が 0 未満の値となる場合は、有効換気量率による温度交換効率の補正係数$C_{eff}$は 0 に等しいとする。"
   ]
  },
  {
   "cell_type": "markdown",
   "metadata": {},
   "source": [
    "If the correction coefficient $ C_ {eff} $ of the temperature exchange efficiency by the effective ventilation rate ratio is less than 0, the correction coefficient $ C_ {eff} $ of the temperature exchange efficiency by the effective ventilation volume rate is equal to 0."
   ]
  },
  {
   "cell_type": "markdown",
   "metadata": {},
   "source": [
    "$$\\large\n",
    "C_{eff} = 1 - \\frac{(\\frac{1}{e}-1)(1-\\eta_{t})}{\\eta_{t}}\n",
    "$$"
   ]
  },
  {
   "cell_type": "markdown",
   "metadata": {},
   "source": [
    "$e$：全般換気設備の有効換気量率 / Effective ventilation rate rate of general ventilation equipment  \n",
    "$\\eta_{t}$：熱交換型換気設備の温度交換効率 / Temperature exchange efficiency of heat exchange type ventilation equipment  "
   ]
  },
  {
   "cell_type": "markdown",
   "metadata": {},
   "source": [
    "### A.6 給気と排気の比率による温度交換効率の補正係数 / Correction factor of temperature exchange efficiency by ratio of air supply and exhaust"
   ]
  },
  {
   "cell_type": "markdown",
   "metadata": {},
   "source": [
    "給気と排気の比率による温度交換効率の補正係数$C_{bal}$は0.90を用いるか、以下に示す方法に依ることができる。"
   ]
  },
  {
   "cell_type": "markdown",
   "metadata": {},
   "source": [
    "The correction coefficient $ C_ {bal} $ of the temperature exchange efficiency according to the ratio of air supply to exhaust can use 0.90 or can be according to the method described below."
   ]
  },
  {
   "cell_type": "markdown",
   "metadata": {},
   "source": [
    "$$\\large\n",
    "C_{bal} = \\frac{\\eta_{t,d}}{\\eta_{t}}\n",
    "$$"
   ]
  },
  {
   "cell_type": "markdown",
   "metadata": {},
   "source": [
    "$\\eta_{t,d}$：当該住戸における補正設計風量比での熱交換型換気設備の温度交換効率 / Temperature exchange efficiency of heat exchange type ventilation equipment at corrected design air volume ratio in the dwelling unit concerned  \n",
    "$\\eta_{t}$：熱交換型換気設備の温度交換効率 / Temperature exchange efficiency of heat exchange type ventilation equipment  "
   ]
  },
  {
   "cell_type": "markdown",
   "metadata": {},
   "source": [
    "$$\\large\n",
    "\\eta_{t,d} = \\left\\{ \\begin{array}{ll}\n",
    "   \\eta_{d} & (V_{d,RA} > V_{d,SA}) \\\\\n",
    "   \\eta_{d} \\times R'_{vnt,d} & (V_{d,RA} \\leq V_{d,SA}) \\\\\n",
    "\\end{array}\n",
    "\\right.\n",
    "$$"
   ]
  },
  {
   "cell_type": "markdown",
   "metadata": {},
   "source": [
    "$\\eta_{d}$：当該住戸における補正設計風量比での熱通過有効度 / Heat passing effectiveness at the corrected design air volume ratio in the relevant dwelling unit  \n",
    "$R'_{vnt,d}$：当該住戸における補正設計風量比 / Corrected design air volume ratio in the relevant dwelling unit  \n",
    "$V_{d,SA}$：当該住戸における設計給気風量(m<sup>3</sup>/h) / Design supply air volume in the relevant dwelling unit  \n",
    "$V_{d,RA}$：当該住戸における設計還気風量(m<sup>3</sup>/h) / Design return air volume at the relevant unit  "
   ]
  },
  {
   "cell_type": "markdown",
   "metadata": {},
   "source": [
    "当該住戸における補正設計風量比での熱通過有効度$\\eta_{d}$は、式により表される。"
   ]
  },
  {
   "cell_type": "markdown",
   "metadata": {},
   "source": [
    "The heat passing effectiveness factor $ \\ eta_ {d} $ at the corrected design air volume ratio in the relevant dwelling unit is expressed by the equation."
   ]
  },
  {
   "cell_type": "markdown",
   "metadata": {},
   "source": [
    "直交流型熱交換器の場合"
   ]
  },
  {
   "cell_type": "markdown",
   "metadata": {},
   "source": [
    "In the case of a cross flow heat exchanger"
   ]
  },
  {
   "cell_type": "markdown",
   "metadata": {},
   "source": [
    "$$\\large\n",
    "\\eta_{d} = 1-e^{ \\Biggl[ \\frac{e^{\\big(-N_{d}^{0.78}・R'_{vnt,d}\\big)}-1}{ N_{d}^{-0.22}・R'_{vnt,d} } \\Biggr]}\n",
    "$$"
   ]
  },
  {
   "cell_type": "markdown",
   "metadata": {},
   "source": [
    "向流-直交流複合型熱交換器の場合"
   ]
  },
  {
   "cell_type": "markdown",
   "metadata": {},
   "source": [
    "In the case of a countercurrent-crossflow combined heat exchanger"
   ]
  },
  {
   "cell_type": "markdown",
   "metadata": {},
   "source": [
    "$$\\large\n",
    "\\eta_{d} = \\frac{ 1-e^{ \\Biggl[ -(1-R'_{vnt,d}) \\Big( 1+ \\frac{\\frac{b}{l} sin\\ \\alpha\\ cos\\ \\alpha}{0.0457143N_{d}^{2}+0.0691429N_{d}+0.9954286}  \\Big) N_{d} \\Biggr]} }{ 1-R'_{vnt,d}・e^{ \\Biggl[ -(1-R'_{vnt,d}) \\Big( 1+ \\frac{\\frac{b}{l} sin\\ \\alpha\\ cos\\ \\alpha}{0.0457143N_{d}^{2}+0.0691429N_{d}+0.9954286}  \\Big) N_{d} \\Biggr]} }\n",
    "$$"
   ]
  },
  {
   "cell_type": "markdown",
   "metadata": {},
   "source": [
    "$N_{d}$：当該住戸における設計風量比での伝熱単位数 / Number of heat transfer units at the design air volume ratio in the relevant dwelling unit  \n",
    "$b$：向流-直交流複合型熱交換器の向流部の幅(m) / Countercurrent width of countercurrent-crossflow combined heat exchanger  \n",
    "$l$：向流-直交流複合型熱交換器の向流部の長さ(m) / Length of counterflow part of countercurrent-crossflow combined heat exchanger  \n",
    "$\\alpha$：向流-直交流複合型熱交換器の向流部と直交流部の接続角度(°) / Connection angle between the counterflow and crossflow of the countercurrent-crossflow combined heat exchanger  "
   ]
  },
  {
   "cell_type": "markdown",
   "metadata": {},
   "source": [
    "ただし、向流-直交流複合型熱交換器の向流部の幅$b$が0.01(m)以上2.0(m)以下、かつ向流部の長さ$l$が0.01(m)以上3.0(m)以下、かつ向流部と直交流部の接続角度$\\alpha$が15°以上60°以下を満たしていない場合は熱交換型換気設備による暖房負荷の削減効果を見込むことはできない。 "
   ]
  },
  {
   "cell_type": "markdown",
   "metadata": {},
   "source": [
    "However, the width $ b $ of the counterflow part of the countercurrent-crossflow combined heat exchanger is 0.01 (m) or more and 2.0 (m) or less, and the length $ l $ of the counterflow part is 0.01 (m) or more and 3.0 (m) If the connection angle $ \\alpha $ between the countercurrent part and the crossflow part does not satisfy 15 ° or more and 60 ° or less, it is impossible to anticipate the heating load reduction effect of the heat exchange ventilator."
   ]
  },
  {
   "cell_type": "code",
   "execution_count": 1,
   "metadata": {},
   "outputs": [],
   "source": [
    "# 熱交換型換気設備の補正熱交換効率 (-) (1)\n",
    "def calc_etr_dash_t(etr_t_raw, e, C_bal, C_leak):\n",
    "    \"\"\"\n",
    "    :param etr_t_raw: 熱交換型換気設備の温度交換効率 (-)\n",
    "    :param e: 有効換気量率 (-)\n",
    "    :param C_bal: 給気と排気の比率による温度交換効率の補正係数 (-)\n",
    "    :param C_leak: 排気過多時における住宅外皮経由の漏気による温度交換効率の補正係数 (-)\n",
    "    :return: 熱交換型換気設備の補正熱交換効率 (-)\n",
    "    \"\"\"\n",
    "    # 熱交換型換気設備の温度交換効率\n",
    "    etr_t = get_etr_t(etr_t_raw)\n",
    "\n",
    "    # カタログ表記誤差による温度交換効率の補正係数 (-)\n",
    "    C_tol = get_C_tol()\n",
    "\n",
    "    # 有効換気量率による温度交換効率の補正係数 (2)\n",
    "    C_eff = get_C_eff(etr_t, e)\n",
    "\n",
    "    # 熱交換型換気設備の補正熱交換効率 (-) (1)\n",
    "    etr_dash_t = get_etr_dash_t(etr_t, C_tol, C_eff, C_bal, C_leak)\n",
    "\n",
    "    return etr_dash_t"
   ]
  },
  {
   "cell_type": "code",
   "execution_count": null,
   "metadata": {},
   "outputs": [],
   "source": [
    "# 熱交換型換気設備の補正熱交換効率 (-) (1)\n",
    "def get_etr_dash_t(etr_t, C_tol, C_eff, C_bal, C_leak):\n",
    "    \"\"\"\n",
    "    :param etr_t: 熱交換型換気設備の温度交換効率 (-)\n",
    "    :param C_tol: カタログ表示誤差による温度交換効率の補正係数 (-)\n",
    "    :param C_eff: 有効換気量率による温度交換効率の補正係数 (-)\n",
    "    :param C_bal: 給気と排気の比率による温度交換効率の補正係数 (-)\n",
    "    :param C_leak: 排気過多時における住宅外皮経由の漏気による温度交換効率の補正係数 (-)\n",
    "    :return: 熱交換型換気設備の補正熱交換効率 (-)\n",
    "    \"\"\"\n",
    "    etr_dash_t = etr_t * C_tol * C_eff * C_bal * C_leak  # (1)\n",
    "    return etr_dash_t"
   ]
  },
  {
   "cell_type": "code",
   "execution_count": null,
   "metadata": {},
   "outputs": [],
   "source": [
    "# 熱交換型換気設備の温度交換効率\n",
    "def get_etr_t(etr_t_raw):\n",
    "    # 温度交換効率の値は、100 分の 1 未満の端数を切り下げた小数第二位までの値\n",
    "    etr_t = ceil(etr_t_raw * 100) / 100\n",
    "    if etr_t > 0.95:\n",
    "        return 0.95\n",
    "    else:\n",
    "        return etr_t"
   ]
  },
  {
   "cell_type": "code",
   "execution_count": null,
   "metadata": {},
   "outputs": [],
   "source": [
    "# カタログ表記誤差による温度交換効率の補正係数\n",
    "def get_C_tol():\n",
    "    return 0.95"
   ]
  },
  {
   "cell_type": "code",
   "execution_count": null,
   "metadata": {},
   "outputs": [],
   "source": [
    "# 有効換気量率による温度交換効率の補正係数 (2)\n",
    "def get_C_eff(etr_t, e):\n",
    "    \"\"\"\n",
    "    :param etr_t: 熱交換型換気設備の温度交換効率 (-)\n",
    "    :param e: 有効換気量率 (-)\n",
    "    :return: 有効換気量率による温度交換効率の補正係数 (-)\n",
    "    \"\"\"\n",
    "    C_eff = 1 - ((1 / e - 1) * (1 - etr_t) / etr_t)  # (2)\n",
    "\n",
    "    #100 分の 1 未満の端数を切り下げた小数第二位までの値\n",
    "    C_eff = floor(C_eff * 100) / 100\n",
    "    if C_eff < 0.0:\n",
    "        C_eff = 0.0\n",
    "\n",
    "    return C_eff"
   ]
  },
  {
   "cell_type": "code",
   "execution_count": null,
   "metadata": {},
   "outputs": [],
   "source": [
    "C_bal_default = 0.90\n",
    "\n",
    "\n",
    "def get_C_bal():\n",
    "    return etr_t_d / etr_t_d  # (3)\n",
    "\n",
    "\n",
    "def get_etr_t_d():\n",
    "    # (4)\n",
    "    if V_d_RA > V_d_SA:\n",
    "        return etr_d\n",
    "    elif V_d_RA <= V_d_SA:\n",
    "        return etr_d * R_dash_vnt_d\n",
    "\n",
    "\n",
    "def get_etr_d_ac():\n",
    "    # (5a)\n",
    "    return 1 - exp((exp(-pow(N_d, 0.78) * R_dash_vnt_d) - 1) / (pow(N_d, -0.22) * R_dash_vnt_d))\n",
    "\n",
    "\n",
    "def get_etr_d_dc():\n",
    "    return (1 - exp(-(1 - R_dash_vnt_d) * (\n",
    "            1 + ((b / l) * sin(alpha) * cos(alpha) / (0.0457143 * N_d ** 2 + 0.0691429 * N_d + 0.9954286))) * N_d)) \\\n",
    "           / (1 - R_dash_vnt_d * exp(-(1 - R_dash_vnt_d) * (\n",
    "            ((b / l) * sin(alpha) * cos(alpha)) / (0.00457143 * N_d ** 2 + 0.0691429 ** N_d + 0.9954286)) * N_d))\n"
   ]
  },
  {
   "cell_type": "markdown",
   "metadata": {},
   "source": [
    "## 付録 B 蓄熱の利用 / Appendix B Use of heat storage"
   ]
  },
  {
   "cell_type": "markdown",
   "metadata": {},
   "source": [
    "省略"
   ]
  },
  {
   "cell_type": "markdown",
   "metadata": {},
   "source": [
    "Omission"
   ]
  },
  {
   "cell_type": "markdown",
   "metadata": {},
   "source": [
    "## 付録 C 通風を確保する措置の有無の判定 / Appendix C Judgment of existence of measures to secure ventilation"
   ]
  },
  {
   "cell_type": "markdown",
   "metadata": {},
   "source": [
    "省略"
   ]
  },
  {
   "cell_type": "markdown",
   "metadata": {},
   "source": [
    "Omission"
   ]
  }
 ],
 "metadata": {
  "kernelspec": {
   "display_name": "Python 3",
   "language": "python",
   "name": "python3"
  },
  "language_info": {
   "codemirror_mode": {
    "name": "ipython",
    "version": 3
   },
   "file_extension": ".py",
   "mimetype": "text/x-python",
   "name": "python",
   "nbconvert_exporter": "python",
   "pygments_lexer": "ipython3",
   "version": "3.6.7"
  }
 },
 "nbformat": 4,
 "nbformat_minor": 2
}
