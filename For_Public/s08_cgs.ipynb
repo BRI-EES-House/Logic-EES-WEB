{
 "cells": [
  {
   "cell_type": "markdown",
   "metadata": {},
   "source": [
    "# 第八章　コージェネレーション設備"
   ]
  },
  {
   "cell_type": "markdown",
   "metadata": {},
   "source": [
    "1．適用範囲～4．記号及び単位は省略"
   ]
  },
  {
   "cell_type": "markdown",
   "metadata": {},
   "source": [
    "### 5. ガス消費量"
   ]
  },
  {
   "cell_type": "markdown",
   "metadata": {},
   "source": [
    "$$\\large\n",
    "\\displaystyle\n",
    "E_{G,CG,d,t} = E_{G,PU,d,t} + E_{G,BB,DHW,d,t} + E_{G,BB,HWH,d,t}\n",
    "$$"
   ]
  },
  {
   "cell_type": "markdown",
   "metadata": {},
   "source": [
    "$E_{G,CG,d,t}$：日付$d$の時刻$t$における1時間当たりのコージェネレーション設備のガス消費量(MJ/h)  \n",
    "$E_{G,PU,d,t}$：日付$d$の時刻$t$における1時間当たりの発電ユニットのガス消費量(MJ/h)  \n",
    "$E_{G,BB,DHW,d,t}$：日付$d$の時刻$t$における1時間当たりの給湯時のバックアップボイラーのガス消費量(MJ/h)  \n",
    "$E_{G,BB,HWH,d,t}$：日付$d$の時刻$t$における1時間当たりの温水暖房時のバックアップボイラーのガス消費量(MJ/h)  "
   ]
  },
  {
   "cell_type": "markdown",
   "metadata": {},
   "source": [
    "### 6. 灯油消費量"
   ]
  },
  {
   "cell_type": "markdown",
   "metadata": {},
   "source": [
    "日付$d$の時刻$t$における1時間当たりのコージェネレーション設備の灯油消費量$E_{K,CG,d,t}$は、0とする。 "
   ]
  },
  {
   "cell_type": "markdown",
   "metadata": {},
   "source": [
    "### 7. 発電量"
   ]
  },
  {
   "cell_type": "markdown",
   "metadata": {},
   "source": [
    "$$\\large\n",
    "\\displaystyle\n",
    "E_{E,CG,gen,d,t} = E_{E,gen,PU,d,t} - E_{E,TU,aux,d,t}\n",
    "$$"
   ]
  },
  {
   "cell_type": "markdown",
   "metadata": {},
   "source": [
    "$E_{E,CG,gen,d,t}$：日付$d$の時刻$t$における1時間当たりのコージェネレーション設備による発電量(kWh/h)  \n",
    "$E_{E,gen,PU,d,t}$：日付$d$の時刻$t$における1時間当たりの発電ユニットの発電量(kWh/h)  \n",
    "$E_{E,TU,aux,d,t}$：日付$d$の時刻$t$における1時間当たりのタンクユニットの補機消費電力量(kWh/h)  "
   ]
  },
  {
   "cell_type": "markdown",
   "metadata": {},
   "source": [
    "### 8. ガス消費量のうちの売電に係る控除対象分"
   ]
  },
  {
   "cell_type": "markdown",
   "metadata": {},
   "source": [
    "$$\\large\n",
    "\\displaystyle\n",
    "E_{G,CG,ded} = \\sum^{365}_{d=1} \\sum^{23}_{t=0} \\bigg(E_{G,PU,d,t}+E_{G,BB,DHW,d,t}-E_{G,BB,DHW,ba2,d,t}\\bigg)\n",
    "$$"
   ]
  },
  {
   "cell_type": "markdown",
   "metadata": {},
   "source": [
    "$E_{G,CG,ded}$：1 年当たりのコージェネレーション設備のガス消費量のうちの売電に係る控除対象分(MJ/yr)  \n",
    "$E_{G,BB,DHW,ba2,d,t}$：日付$d$の時刻$t$における1時間当たりの浴槽追焚時におけるバックアップボイラーのガス消費量(MJ/h)  \n",
    "$E_{G,BB,DHW,d,t}$：日付$d$の時刻$t$における1時間当たりの給湯時のバックアップボイラーのガス消費量(MJ/h)  \n",
    "$E_{G,PU,d,t}$：日付$d$の時刻$t$における1時間当たりの発電ユニットのガス消費量(MJ/h)  "
   ]
  },
  {
   "cell_type": "markdown",
   "metadata": {},
   "source": [
    "### 9. 発電量のうちの自己消費分"
   ]
  },
  {
   "cell_type": "markdown",
   "metadata": {},
   "source": [
    "$$\\large\n",
    "\\displaystyle\n",
    "E_{G,CG,self} = \\sum^{365}_{d=1} \\sum^{23}_{t=0} E_{E,TU,aux,d,t}\n",
    "$$"
   ]
  },
  {
   "cell_type": "markdown",
   "metadata": {},
   "source": [
    "$E_{G,CG,self}$：1 年当たりのコージェネレーション設備による発電量のうちの自己消費分(kWh/yr)  \n",
    "$ E_{E,TU,aux,d,t}$：日付$d$の時刻$t$における1時間当たりのタンクユニットの補機消費電力量(kWh/h)  "
   ]
  },
  {
   "cell_type": "markdown",
   "metadata": {},
   "source": [
    "### 10. 製造熱量のうちの自家消費算入分"
   ]
  },
  {
   "cell_type": "markdown",
   "metadata": {},
   "source": [
    "$$\\large\n",
    "\\displaystyle\n",
    "Q_{CG,h} = \\sum^{365}_{d=1} \\sum^{23}_{t=0} L_{DHW,d,t}\n",
    "$$"
   ]
  },
  {
   "cell_type": "markdown",
   "metadata": {},
   "source": [
    "$Q_{CG,h}$：1 年当たりのコージェネレーション設備による製造熱量のうちの自家消費算入分(MJ/yr)  \n",
    "$L_{DHW,d,t}$：日付$d$の時刻$t$における1時間当たりの浴槽追焚を除く太陽熱補正給湯熱負荷(MJ/h)  "
   ]
  },
  {
   "cell_type": "markdown",
   "metadata": {},
   "source": [
    "### 11. 給湯時のバックアップボイラーの年間平均効率"
   ]
  },
  {
   "cell_type": "markdown",
   "metadata": {},
   "source": [
    "$$\\large\n",
    "\\displaystyle\n",
    "e_{BB,ave} = \\frac{\\sum^{365}_{d=1} \\sum^{23}_{t=0} (L_{BB,DHW,d,t}-L_{BB,DHW,ba2,d,t})}{\\sum^{365}_{d=1} \\sum^{23}_{t=0} (E_{G,BB,DHW,d,t}-E_{G,BB,DHW,ba2,d,t})}\n",
    "$$"
   ]
  },
  {
   "cell_type": "markdown",
   "metadata": {},
   "source": [
    "$e_{BB,ave}$：給湯時のバックアップボイラーの年間平均効率(-)  \n",
    "$L_{BB,DHW,d,t}$：日付$d$の時刻$t$における1時間当たりのバックアップボイラーが分担する給湯熱負荷(MJ/h)  \n",
    "$L_{BB,DHW,ba2,d,t}$：日付$d$の時刻$t$における1時間当たりの浴槽追焚時におけるバックアップボイラーが分担する給湯熱負荷(MJ/h)  \n",
    "$E_{G,BB,DHW,d,t}$：日付$d$の時刻$t$における1時間当たりの給湯時のバックアップボイラーのガス消費量(MJ/h)  \n",
    "$E_{G,BB,DHW,ba2,d,t}$：日付$d$の時刻$t$における1時間当たりの浴槽追焚時におけるバックアップボイラーのガス消費量(MJ/h)  "
   ]
  },
  {
   "cell_type": "markdown",
   "metadata": {},
   "source": [
    "### 12. 給湯時のバックアップボイラーのガス消費量"
   ]
  },
  {
   "cell_type": "markdown",
   "metadata": {},
   "source": [
    "#### 12.1 ガス消費量"
   ]
  },
  {
   "cell_type": "markdown",
   "metadata": {},
   "source": [
    "日付$d$の時刻$t$における1時間当たりの給湯時のバックアップボイラーのガス消費量$E_{G,BB,DHW,d,t}$および浴槽追焚時におけるバックアップボイラーのガス消費量$E_{G,BB,DHW,ba2,d,t}$は、ふろ機能の種類、日付$d$の時刻$t$における1時間当たりの台所水栓、浴室シャワー水栓、洗面水栓、浴槽水栓湯はり、浴槽自動湯はり、浴槽水栓さ\n",
    "し湯、及び浴槽追焚時におけるバックアップボイラーが分担する給湯熱負荷$L_{BB,DHW,k,d,t}$、$L_{BB,DHW,s,d,t}$、$L_{BB,DHW,w,d,t}$、$L_{BB,DHW,b1,d,t}$、$L_{BB,DHW,b2,d,t}$、$L_{BB,DHW,ba1,d,t}$及び$L_{BB,DHW,ba2,d,t}$、日付$d$における日平均外気温度$\\theta_{ex,ave,d}$に応じて、付録 D により求まる。 "
   ]
  },
  {
   "cell_type": "markdown",
   "metadata": {},
   "source": [
    "#### 12.2 バックアップボイラーが分担する給湯熱負荷"
   ]
  },
  {
   "cell_type": "markdown",
   "metadata": {},
   "source": [
    "$$\\large\n",
    "\\displaystyle\n",
    "L_{BB,DHW,d,t} = L_{BB,DHW,k,d,t}+L_{BB,DHW,s,d,t}+L_{BB,DHW,w,d,t}+L_{BB,DHW,b1,d,t}+L_{BB,DHW,b2,d,t}+L_{BB,DHW,ba1,d,t}+L_{BB,DHW,ba2,d,t}\n",
    "$$\n",
    "\n",
    "$$\\large\n",
    "\\displaystyle\n",
    "L_{BB,DHW,k,d,t} = L''_{k,d,t} - Q_{gen,DHW,d} \\times \\frac{L''_{k,d,t}}{L_{DHW,d}}\n",
    "$$\n",
    "\n",
    "$$\\large\n",
    "\\displaystyle\n",
    "L_{BB,DHW,s,d,t} = L''_{s,d,t} - Q_{gen,DHW,d} \\times \\frac{L''_{s,d,t}}{L_{DHW,d}}\n",
    "$$\n",
    "\n",
    "$$\\large\n",
    "\\displaystyle\n",
    "L_{BB,DHW,w,d,t} = L''_{w,d,t} - Q_{gen,DHW,d} \\times \\frac{L''_{w,d,t}}{L_{DHW,d}}\n",
    "$$\n",
    "\n",
    "$$\\large\n",
    "\\displaystyle\n",
    "L_{BB,DHW,b1,d,t} = L''_{b1,d,t} - Q_{gen,DHW,d} \\times \\frac{L''_{b1,d,t}}{L_{DHW,d}}\n",
    "$$\n",
    "\n",
    "$$\\large\n",
    "\\displaystyle\n",
    "L_{BB,DHW,b2,d,t} = L''_{b2,d,t} - Q_{gen,DHW,d} \\times \\frac{L''_{b2,d,t}}{L_{DHW,d}}\n",
    "$$\n",
    "\n",
    "$$\\large\n",
    "\\displaystyle\n",
    "L_{BB,DHW,ba1,d,t} = L''_{ba1,d,t} - Q_{gen,DHW,d} \\times \\frac{L''_{ba1,d,t}}{L_{DHW,d}}\n",
    "$$\n",
    "\n",
    "$$\\large\n",
    "\\displaystyle\n",
    "L_{BB,DHW,ba2,d,t} = L''_{ba2,d,t}\n",
    "$$"
   ]
  },
  {
   "cell_type": "markdown",
   "metadata": {},
   "source": [
    "$L_{BB,DHW,k,d,t}$：日付$d$の時刻$t$における1時間当たりの台所水栓におけるバックアップボイラーが分担する給湯熱負荷(MJ/h)  \n",
    "$L_{BB,DHW,s,d,t}$：日付$d$の時刻$t$における1時間当たりの浴室シャワー水栓におけるバックアップボイラーが分担する給湯熱負荷(MJ/h)  \n",
    "$L_{BB,DHW,w,d,t}$：日付$d$の時刻$t$における1時間当たりの洗面水栓におけるバックアップボイラーが分担する給湯熱負荷(MJ/h)  \n",
    "$L_{BB,DHW,b1,d,t}$：日付$d$の時刻$t$における1時間当たりの浴槽水栓湯はりにおけるバックアップボイラーが分担する給湯熱負荷(MJ/h)  \n",
    "$L_{BB,DHW,b2,d,t}$：日付$d$の時刻$t$における1時間当たりの浴槽自動湯はりにおけるバックアップボイラーが分担する給湯熱負荷(MJ/h)  \n",
    "$L_{BB,DHW,ba1,d,t}$：日付$d$の時刻$t$における1時間当たりの浴槽水栓さし湯におけるバックアップボイラーが分担する給湯熱負荷(MJ/h)  \n",
    "$L_{BB,DHW,ba2,d,t}$：日付$d$の時刻$t$における1時間当たりの浴槽追焚におけるバックアップボイラーが分担する給湯熱負荷(MJ/h)  \n",
    "$L_{DHW,d}$：日付$d$における1日当たりの浴槽追焚を除く太陽熱補正給湯熱負荷(MJ/d)  \n",
    "$Q_{gen,DHW,d}$：日付$d$における1日当たりの給湯の排熱利用量(MJ/d)  \n",
    "$L''_{k,d,t}$：日付$d$の時刻$t$における1時間当たりの台所水栓における太陽熱補正給湯熱負荷(MJ/h)  \n",
    "$L''_{w,d,t}$：日付$d$の時刻$t$における1時間当たりの洗面水栓における太陽熱補正給湯熱負荷(MJ/h)  \n",
    "$L''_{s,d,t}$：日付$d$の時刻$t$における1時間当たりの浴室シャワー水栓における太陽熱補正給湯熱負荷(MJ/h)  \n",
    "$L''_{b1,d,t}$：日付$d$の時刻$t$における1時間当たりの浴槽水栓湯はりにおける太陽熱補正給湯熱負荷(MJ/h)  \n",
    "$L''_{b2,d,t}$：日付$d$の時刻$t$における1時間当たりの浴槽自動湯はりにおける太陽熱補正給湯熱負荷(MJ/h)  \n",
    "$L''_{ba1,d,t}$：日付$d$の時刻$t$における1時間当たりの浴槽水栓さし湯における太陽熱補正給湯熱負荷(MJ/h)  \n",
    "$L''_{ba2,d,t}$：日付$d$の時刻$t$における1時間当たりの浴槽追焚における太陽熱補正給湯熱負荷(MJ/h)  "
   ]
  },
  {
   "cell_type": "markdown",
   "metadata": {},
   "source": [
    "### 13. 温水暖房時のバックアップボイラーのガス消費量"
   ]
  },
  {
   "cell_type": "markdown",
   "metadata": {},
   "source": [
    "日付$d$の時刻$t$における1 時間当たりの温水暖房時のバックアップボイラーのガス消費量$E_{G,BB,HWH,d,t}$は、温水暖房のバックアップボイラーの種類、定格効率、定格能力、日付$d$の時刻$t$における 1 時間当たりのバックアップボイラーが分担する温水暖房熱負荷$L_{BB,HWH,d,t}$及び日付$d$の時刻$t$における 1 時間平均の温水暖房用熱源機の往き温水温度$\\theta_{SW,HWH,d,t}$に依存し、付録 E によるものとする。"
   ]
  },
  {
   "cell_type": "markdown",
   "metadata": {},
   "source": [
    "$$\\large\n",
    "\\displaystyle\n",
    "L_{BB,HWH,d,t} = \\left\\{ \\begin{array}{ll}\n",
    "    L_{HWH,d,t} - Q_{gen,HWH,d} \\times \\frac{L_{HWH,d,t}}{L_{HWH,d}} & (L_{HWH,d} > Q_{gen,HWH,d})\\\\ \n",
    "    0 & (L_{HWH,d} \\leq Q_{gen,HWH,d})\\\\ \n",
    "    \\end{array}\n",
    "\\right.\n",
    "$$"
   ]
  },
  {
   "cell_type": "markdown",
   "metadata": {},
   "source": [
    "$L_{HWH,d,t}$：日付$d$の時刻$t$における1時間当たりの温水暖房の熱負荷(MJ/h)  \n",
    "$L_{HWH,d}$：日付$d$における1日当たりの温水暖房の熱負荷(MJ/d)  \n",
    "$Q_{gen,HWH,d}$：日付$d$における1日当たりの温水暖房の排熱利用量(MJ/d)  "
   ]
  },
  {
   "cell_type": "markdown",
   "metadata": {},
   "source": [
    "### 14. 発電ユニット"
   ]
  },
  {
   "cell_type": "markdown",
   "metadata": {},
   "source": [
    "#### 14.1 排熱利用量 "
   ]
  },
  {
   "cell_type": "markdown",
   "metadata": {},
   "source": [
    "&#9312;温水暖房への排熱利用がない場合"
   ]
  },
  {
   "cell_type": "markdown",
   "metadata": {},
   "source": [
    "$$\\large\n",
    "\\displaystyle\n",
    "Q_{gen,DHW,d} = \\min \\left( Q_{PU,gen,d} \\times r_{DHW,gen,PU},L_{DHW,d} \\right)\n",
    "$$\n",
    "\n",
    "$$\\large\n",
    "\\displaystyle\n",
    "Q_{gen,HWH,d} = 0.0\n",
    "$$"
   ]
  },
  {
   "cell_type": "markdown",
   "metadata": {},
   "source": [
    "&#9313;温水暖房への排熱利用がある場合で給湯優先の機種"
   ]
  },
  {
   "cell_type": "markdown",
   "metadata": {},
   "source": [
    "$$\\large\n",
    "\\displaystyle\n",
    "Q_{gen,DHW,d} = \\min \\left( Q_{PU,gen,d} \\times r_{DHW,gen,PU},L_{DHW,d} \\right)\n",
    "$$\n",
    "\n",
    "$$\\large\n",
    "\\displaystyle\n",
    "Q_{gen,HWH,d} = \\min \\left( (Q_{PU,gen,d} - Q_{gen,DHW,d}) \\times r_{HWH,gen,PU},L_{HWH,d} \\right)\n",
    "$$"
   ]
  },
  {
   "cell_type": "markdown",
   "metadata": {},
   "source": [
    "&#9314;温水暖房への排熱利用がある場合で温水暖房優先の機種"
   ]
  },
  {
   "cell_type": "markdown",
   "metadata": {},
   "source": [
    "$$\\large\n",
    "\\displaystyle\n",
    "Q_{gen,HWH,d} = \\min \\left( Q_{PU,gen,d} \\times r_{HWH,gen,PU},L_{HWH,d} \\right)\n",
    "$$\n",
    "\n",
    "$$\\large\n",
    "\\displaystyle\n",
    "Q_{gen,DHW,d} = \\min \\left( (Q_{PU,gen,d} - Q_{gen,HWH,d}) \\times r_{DHW,gen,PU},L_{DHW,d} \\right)\n",
    "$$"
   ]
  },
  {
   "cell_type": "markdown",
   "metadata": {},
   "source": [
    "$Q_{gen,DHW,d}$：日付$d$における1日当たりの給湯の排熱利用量(MJ/d)  \n",
    "$Q_{gen,HWH,d}$：日付$d$における1日当たりの温水暖房の排熱利用量(MJ/d)  \n",
    "$Q_{PU,gen,d}$：日付$d$における1日当たりの発電ユニット排熱量(MJ/d)  \n",
    "$r_{DHW,gen,PU}$：発電ユニットの給湯排熱利用率  \n",
    "$r_{HWH,gen,PU}$：発電ユニットの温水暖房排熱利用率  \n",
    "$L_{DHW,d}$：日付$d$における1日当たりの浴槽追焚を除く太陽熱補正給湯熱負荷(MJ/d)  \n",
    "$L_{HWH,d}$：日付$d$における1日当たりの温水暖房の熱負荷(MJ/d)  "
   ]
  },
  {
   "cell_type": "markdown",
   "metadata": {},
   "source": [
    "$$\\large\n",
    "\\displaystyle\n",
    "Q_{PU,gen,d} = E_{G,PU,d} \\times e_{H,PU,d}\n",
    "$$"
   ]
  },
  {
   "cell_type": "markdown",
   "metadata": {},
   "source": [
    "$E_{G,PU,d}$：日付$d$における1日当たりの発電ユニットのガス消費量(MJ/d)  \n",
    "$e_{H,PU,d}$：日付$d$における発電ユニットの日平均排熱効率  "
   ]
  },
  {
   "cell_type": "markdown",
   "metadata": {},
   "source": [
    "#### 14.2 発電量"
   ]
  },
  {
   "cell_type": "markdown",
   "metadata": {},
   "source": [
    "$$\\large\n",
    "E_{E,gen,PU,d,t} = E_{G,PU,d,t} \\times e_{E,PU,d} \\div 3.6\n",
    "$$"
   ]
  },
  {
   "cell_type": "markdown",
   "metadata": {},
   "source": [
    "$E_{E,gen,PU,d,t}$：日付$d$の時刻$t$における1時間当たりの発電ユニットの発電量(kWh/h)  \n",
    "$E_{G,PU,d,t}$：日付$d$の時刻$t$における1時間当たりの発電ユニットのガス消費量(MJ/h)  \n",
    "$e_{E,PU,d}$：日付$d$における発電ユニットの日平均発電効率  "
   ]
  },
  {
   "cell_type": "markdown",
   "metadata": {},
   "source": [
    "#### 14.3 ガス消費量"
   ]
  },
  {
   "cell_type": "markdown",
   "metadata": {},
   "source": [
    "$t^*_{PU,start,d}< 23$ の場合"
   ]
  },
  {
   "cell_type": "markdown",
   "metadata": {},
   "source": [
    "$$\\large\n",
    "\\displaystyle\n",
    "E_{G,PU,d,t} = \\left\\{ \\begin{array}{ll}\n",
    "    0 & (t < t^*_{PU,start,d})\\\\ \n",
    "    E_{G,PU,d} - E'_{G,PU,d,t+1} & (t = t^*_{PU,start,d})\\\\ \n",
    "    E_{E,PU,d,t} \\times 3.6 \\div e_{E,PU,d} & (t > t^*_{PU,start,d})\\\\ \n",
    "    \\end{array}\n",
    "\\right.\n",
    "$$"
   ]
  },
  {
   "cell_type": "markdown",
   "metadata": {},
   "source": [
    "$t^*_{PU,start,d}= 23$ の場合"
   ]
  },
  {
   "cell_type": "markdown",
   "metadata": {},
   "source": [
    "$$\\large\n",
    "\\displaystyle\n",
    "E_{G,PU,d,t} = \\left\\{ \\begin{array}{ll}\n",
    "    0 & (t < t^*_{PU,start,d})\\\\ \n",
    "    E_{G,PU,d} & (t = t^*_{PU,start,d})\\\\ \n",
    "    \\end{array}\n",
    "\\right.\n",
    "$$"
   ]
  },
  {
   "cell_type": "markdown",
   "metadata": {},
   "source": [
    "$E_{E,PU,d,t}$：日付$d$の時刻$t$における1時間当たりの発電ユニットの分担可能電力負荷(kWh/h)  \n",
    "$e_{E,PU,d}$：日付$d$における発電ユニットの日平均発電効率(-)  \n",
    "$E_{G,PU,d}$：日付$d$における1日当たりの発電ユニットのガス消費量(MJ/d)  \n",
    "$E'_{G,PU,d,t+1}$：日付$d$の時刻$t+1$における当該時刻から 23 時までの発電ユニットのガス消費量(MJ)  \n",
    "$t^*_{PU,start,d}$：日付$d$における発電ユニットの稼働開始時刻(-)  "
   ]
  },
  {
   "cell_type": "markdown",
   "metadata": {},
   "source": [
    "$$\\large\n",
    "\\displaystyle\n",
    "t^*_{PU,start,d} = max \\{ h| E_{G,PU,d} \\leq E'_{G,PU,d,h} \\}\n",
    "$$"
   ]
  },
  {
   "cell_type": "markdown",
   "metadata": {},
   "source": [
    "$E'_{G,PU,d,h}$：日付$d$の時刻$h$における当該時刻から 23 時までの発電ユニットのガス消費量(MJ)  \n",
    "$E_{G,PU,d}$：日付$d$における1日当たりの発電ユニットのガス消費量(MJ/d)  "
   ]
  },
  {
   "cell_type": "markdown",
   "metadata": {},
   "source": [
    "$$\\large\n",
    "\\displaystyle\n",
    "E'_{G,PU,d,h} = \\sum^{23}_{t=h} E_{E,PU,d,t} \\times 3.6 \\div e_{E,PU,d}\n",
    "$$"
   ]
  },
  {
   "cell_type": "markdown",
   "metadata": {},
   "source": [
    "$E_{E,PU,d,t}$：日付$d$の時刻$h$における 1 時間当たりの発電ユニットの分担可能電力負荷(kWh/h)  \n",
    "$e_{E,PU,d}$：日付$d$における発電ユニットの日平均発電効率(-)  "
   ]
  },
  {
   "cell_type": "markdown",
   "metadata": {},
   "source": [
    "&#9312;発電ユニットの発電方式が「熱主」の場合 "
   ]
  },
  {
   "cell_type": "markdown",
   "metadata": {},
   "source": [
    "$$\\large\n",
    "E_{G,PU,d} = min(E_{G,PU,EVt,d}, E_{G,PU,HVt,d})\n",
    "$$"
   ]
  },
  {
   "cell_type": "markdown",
   "metadata": {},
   "source": [
    "&#9313;発電ユニットの発電方式が「電主」の場合"
   ]
  },
  {
   "cell_type": "markdown",
   "metadata": {},
   "source": [
    "$$\\large\n",
    "E_{G,PU,d} = E_{G,PU,EVt,d}\n",
    "$$"
   ]
  },
  {
   "cell_type": "markdown",
   "metadata": {},
   "source": [
    "$E_{G,PU,EVt,d}$：日付$d$における1日当たりの発電ユニットの発電量推定時の仮想ガス消費量(MJ/d)  \n",
    "$E_{G,PU,HVt,d}$：日付$d$における1日当たりの発電ユニットの排熱量推定時の仮想ガス消費量(MJ/d)  "
   ]
  },
  {
   "cell_type": "markdown",
   "metadata": {},
   "source": [
    "$$\\large\n",
    "E_{G,PU,EVt,d} = E_{E,gen,PU,EVt,d} \\times 3.6 \\div e_{E,PU,d} \n",
    "$$"
   ]
  },
  {
   "cell_type": "markdown",
   "metadata": {},
   "source": [
    "$E_{E,gen,PU,EVt,d}$：日付$d$における1日当たりの発電ユニットの発電量推定時の仮想発電量(kWh/d)  \n",
    "$e_{E,PU,d}$：日付$d$における発電ユニットの日平均発電効率  "
   ]
  },
  {
   "cell_type": "markdown",
   "metadata": {},
   "source": [
    "$$\\large\n",
    "\\displaystyle\n",
    "E_{E,gen,PU,EVt,d} = \\min ( a_{PU} \\times E_{E,PU,d} \\times 3.6 + a_{DHW} \\times L_{DHW,d} + a_{HWH} \\times L_{HWH,d} \\\\\n",
    "\\large+ b, E_{E,PU,d} \\times c \\times 3.6) \\div 3.6\n",
    "$$"
   ]
  },
  {
   "cell_type": "markdown",
   "metadata": {},
   "source": [
    "$E_{E,PU,d}$：日付$d$における1日当たりの発電ユニットの分担可能電力負荷(kWh/d)  \n",
    "$L_{DHW,d}$：日付$d$における1日当たりの浴槽追焚を除く太陽熱補正給湯熱負荷(MJ/d)  \n",
    "$L_{HWH,d}$：日付$d$における1日当たりの温水暖房の熱負荷(MJ/d)  "
   ]
  },
  {
   "cell_type": "markdown",
   "metadata": {},
   "source": [
    "$$\\large\n",
    "\\displaystyle\n",
    "E_{G,PU,HVt,d} = (a_{DHW} \\times L_{DHW,d} + a_{HWH} \\times L_{HWH,d}) \\times r_{H,gen,PU,HVt,d} \\div e_{H,PU,d}\n",
    "$$"
   ]
  },
  {
   "cell_type": "markdown",
   "metadata": {},
   "source": [
    "$L_{DHW,d}$：日付$d$における1日当たりの浴槽追焚を除く太陽熱補正給湯熱負荷(MJ/d)  \n",
    "$L_{HWH,d}$：日付$d$における1日当たりの温水暖房の熱負荷(MJ/d)  \n",
    "$r_{H,gen,PU,HVt,d}$：日付$d$における発電ユニットの排熱量推定時の仮想排熱量上限比  \n",
    "$e_{H,PU,d}$：日付$d$における発電ユニットの日平均排熱効率  "
   ]
  },
  {
   "cell_type": "markdown",
   "metadata": {},
   "source": [
    "$$\\large\n",
    "\\displaystyle\n",
    "r_{H,gen,PU,HVt,d} = a_{DHW} \\times L_{DHW,d} + a_{HWH} \\times L_{HWH,d} + b\n",
    "$$"
   ]
  },
  {
   "cell_type": "markdown",
   "metadata": {},
   "source": [
    "$L_{DHW,d}$：日付$d$における1日当たりの浴槽追焚を除く太陽熱補正給湯熱負荷(MJ/d)  \n",
    "$L_{HWH,d}$：日付$d$における1日当たりの温水暖房の熱負荷(MJ/d)  "
   ]
  },
  {
   "cell_type": "markdown",
   "metadata": {},
   "source": [
    "#### 14.4 発電効率 "
   ]
  },
  {
   "cell_type": "markdown",
   "metadata": {},
   "source": [
    "発電ユニットの発電効率の上限値を上回る場合は上限値に等しいとし、下限値を下回る場合は下限値に等しいとする。"
   ]
  },
  {
   "cell_type": "markdown",
   "metadata": {},
   "source": [
    "$$\\large\n",
    "\\displaystyle\n",
    "e_{E,PU,d} = a_{PU} \\times E_{E,PU,d} \\times 3.6 + a_{DHW} \\times L_{DHW,d} + a_{HWH} \\times L_{HWH,d} + b\n",
    "$$"
   ]
  },
  {
   "cell_type": "markdown",
   "metadata": {},
   "source": [
    "$E_{E,PU,d}$：日付$d$における1日当たりの発電ユニットの分担可能電力負荷(kWh/d)  \n",
    "$L_{DHW,d}$：日付$d$における1日当たりの浴槽追焚を除く太陽熱補正給湯熱負荷(MJ/d)  \n",
    "$L_{HWH,d}$：日付$d$における1日当たりの温水暖房の熱負荷(MJ/d)  "
   ]
  },
  {
   "cell_type": "markdown",
   "metadata": {},
   "source": [
    "#### 14.5 排熱効率 "
   ]
  },
  {
   "cell_type": "markdown",
   "metadata": {},
   "source": [
    "発電ユニットの排熱効率の上限値を上回る場合は上限値に等しいとし、下限値を下回る場合は下限値に等しいとする。"
   ]
  },
  {
   "cell_type": "markdown",
   "metadata": {},
   "source": [
    "$$\\large\n",
    "\\displaystyle\n",
    "e_{H,PU,d} = a_{PU} \\times E_{E,PU,d} \\times 3.6 + a_{DHW} \\times L_{DHW,d} + a_{HWH} \\times L_{HWH,d} + b\n",
    "$$"
   ]
  },
  {
   "cell_type": "markdown",
   "metadata": {},
   "source": [
    "$E_{E,PU,d}$：日付$d$における1日当たりの発電ユニットの分担可能電力負荷(kWh/d)  \n",
    "$L_{DHW,d}$：日付$d$における1日当たりの浴槽追焚を除く太陽熱補正給湯熱負荷(MJ/d)  \n",
    "$L_{HWH,d}$：日付$d$における1日当たりの温水暖房の熱負荷(MJ/d)  "
   ]
  },
  {
   "cell_type": "markdown",
   "metadata": {},
   "source": [
    "#### 14.6 分担可能電力負荷 "
   ]
  },
  {
   "cell_type": "markdown",
   "metadata": {},
   "source": [
    "$$\\large\n",
    "\\displaystyle\n",
    "E_{E,PU,d} = \\sum E_{E,PU,d,t}\n",
    "$$"
   ]
  },
  {
   "cell_type": "markdown",
   "metadata": {},
   "source": [
    "$E_{E,PU,d,t}$：日付$d$の時刻$t$における1時間当たりの発電ユニットの分担可能電力負荷(kWh/h)  "
   ]
  },
  {
   "cell_type": "markdown",
   "metadata": {},
   "source": [
    "$$\\large\n",
    "\\displaystyle\n",
    "E_{E,PU,d,t} = \\left\\{ \\begin{array}{ll}\n",
    "    \\min \\left( E_{E,dmd,PU,d,t}, P_{rtd,PU} \\times 10^{-3} \\right) & (逆潮流がない場合)\\\\ \n",
    "    P_{rtd,PU} \\times 10^{-3} & (逆潮流がある場合)\\\\ \n",
    "    \\end{array}\n",
    "\\right.\n",
    "$$"
   ]
  },
  {
   "cell_type": "markdown",
   "metadata": {},
   "source": [
    "$E_{E,dmd,PU,d,t}$：日付$d$の時刻$t$における1時間当たりの発電ユニットの電力需要(kWh/h)  \n",
    "$P_{rtd,PU}$：定格発電出力(W)  "
   ]
  },
  {
   "cell_type": "markdown",
   "metadata": {},
   "source": [
    "$$\\large\n",
    "\\displaystyle\n",
    "E_{E,dmd,PU,d,t} = E_{E,dmd,d,t} + E_{E,TU,aux,d,t}\n",
    "$$"
   ]
  },
  {
   "cell_type": "markdown",
   "metadata": {},
   "source": [
    "$E_{E,dmd,d,t}$：日付$d$の時刻$t$における1時間当たりの電力需要(kWh/h)  \n",
    "$E_{E,TU,aux,d,t}$：日付$d$の時刻$t$における1時間当たりのタンクユニットの補機消費電力量(kWh/h)  "
   ]
  },
  {
   "cell_type": "markdown",
   "metadata": {},
   "source": [
    "### 15. タンクユニットの補機消費電力"
   ]
  },
  {
   "cell_type": "markdown",
   "metadata": {},
   "source": [
    "$$\\large\n",
    "\\displaystyle\n",
    "E_{E,TU,aux,d,t} = E_{E,TU,aux,DHW,d,t} + E_{E,TU,aux,HWH,d,t} + E_{E,TU,aux,ba2,d,t}\n",
    "$$"
   ]
  },
  {
   "cell_type": "markdown",
   "metadata": {},
   "source": [
    "$E_{E,TU,aux,DHW,d,t}$：日付$d$の時刻$t$における1時間当たりの給湯時のタンクユニットの補機消費電力量(kWh/h)  \n",
    "$E_{E,TU,aux,HWH,d,t}$：日付$d$の時刻$t$における1時間当たりの温水暖房時のタンクユニットの補機消費電力量(kWh/h)  \n",
    "$E_{E,TU,aux,ba2,d,t}$：日付$d$の時刻$t$における1時間当たりの浴槽追焚のタンクユニットの補機消費電力量(kWh/h)  "
   ]
  },
  {
   "cell_type": "markdown",
   "metadata": {},
   "source": [
    "$$\\large\n",
    "\\displaystyle\n",
    "E_{E,TU,aux,DHW,d,t} = P_{TU,aux,DHW} \\times 10^{-3}\n",
    "$$"
   ]
  },
  {
   "cell_type": "markdown",
   "metadata": {},
   "source": [
    "$P_{TU,aux,DHW}$：給湯のタンクユニットの補機消費電力(W)  "
   ]
  },
  {
   "cell_type": "markdown",
   "metadata": {},
   "source": [
    "$$\\large\n",
    "\\displaystyle\n",
    "E_{E,TU,aux,HWH,d,t} = P_{TU,aux,HWH} \\times r_{WS,HWH,d,t} \\times 10^{-3}\n",
    "$$"
   ]
  },
  {
   "cell_type": "markdown",
   "metadata": {},
   "source": [
    "$P_{TU,aux,HWH}$：温水暖房のタンクユニットの補機消費電力(W)  \n",
    "$r_{WS,HWH,d,t}$：日付$d$の時刻$t$における温水暖房の温水供給運転率 "
   ]
  },
  {
   "cell_type": "markdown",
   "metadata": {},
   "source": [
    "温水暖房のタンクユニットの補機消費電力$P_{TU,aux,HWH}$は、温水暖房への排熱利用がある場合は付録A に定める値とし、温水暖房への排熱利用がない場合は 73W とする。 "
   ]
  },
  {
   "cell_type": "markdown",
   "metadata": {},
   "source": [
    "$$\\large\n",
    "\\displaystyle\n",
    "L_{BB,DHW,ba2,d,t} = L''_{ba2,d,t}\n",
    "$$"
   ]
  },
  {
   "cell_type": "markdown",
   "metadata": {},
   "source": [
    "$L_{BB,DHW,ba2,d,t}$：日付$d$の時刻$t$における1時間当たりの浴槽追焚時におけるバックアップボイラーが分担する給湯熱負荷(MJ/h)  \n",
    "$L''_{ba2,d,t}$：日付$d$の時刻$t$における1時間当たりの浴槽追焚時の太陽熱補正給湯熱負荷(MJ/h)  "
   ]
  },
  {
   "cell_type": "markdown",
   "metadata": {},
   "source": [
    "### 16. その他"
   ]
  },
  {
   "cell_type": "markdown",
   "metadata": {},
   "source": [
    "$$\\large\n",
    "\\displaystyle\n",
    "L_{DHW,d} = \\sum^{23}_{t=0} L_{DHW,d,t}\n",
    "$$"
   ]
  },
  {
   "cell_type": "markdown",
   "metadata": {},
   "source": [
    "$L_{DHW,d}$：日付$d$における1日当たりの発電ユニットにおける浴槽追焚を除く給湯熱負荷(MJ/d)  \n",
    "$L_{DHW,d,t}$：日付$d$の時刻$t$における1 時間当たりの発電ユニットにおける浴槽追焚を除く給湯熱負荷(MJ/h)  "
   ]
  },
  {
   "cell_type": "markdown",
   "metadata": {},
   "source": [
    "$$\\large\n",
    "\\displaystyle\n",
    "L_{DHW,d,t} = L''_{k,d,t} + L''_{w,d,t} + L''_{s,d,t} + L''_{b1,d,t} + L''_{b2,d,t} + L''_{ba1,d,t}\n",
    "$$"
   ]
  },
  {
   "cell_type": "markdown",
   "metadata": {},
   "source": [
    "$ L''_{k,d,t}$：日付$d$の時刻$t$における1 時間当たりの台所水栓の太陽熱補正給湯熱負荷(MJ/h)  \n",
    "$ L''_{w,d,t}$：日付$d$の時刻$t$における1 時間当たりの洗面水栓の太陽熱補正給湯熱負荷(MJ/h)  \n",
    "$ L''_{s,d,t}$：日付$d$の時刻$t$における1 時間当たりの浴室シャワー水栓の太陽熱補正給湯熱負荷(MJ/h)  \n",
    "$ L''_{b1,d,t}$：日付$d$の時刻$t$における1 時間当たりの浴槽水栓湯はりの太陽熱補正給湯熱負荷(MJ/h)  \n",
    "$ L''_{b2,d,t}$：日付$d$の時刻$t$における1 時間当たりの浴槽自動湯はりの太陽熱補正給湯熱負荷(MJ/h)  \n",
    "$ L''_{ba1,d,t}$：日付$d$の時刻$t$における1 時間当たりの浴槽水栓さし湯の太陽熱補正給湯熱負荷(MJ/h)  "
   ]
  },
  {
   "cell_type": "markdown",
   "metadata": {},
   "source": [
    "$$\\large\n",
    "\\displaystyle\n",
    "L_{HWH,d} = \\sum^{23}_{t=0}L_{HWH,d,t}\n",
    "$$"
   ]
  },
  {
   "cell_type": "markdown",
   "metadata": {},
   "source": [
    "$L_{HWH,d,t}$：日付$d$の時刻$t$における1 時間当たりの温水暖房の熱負荷(MJ/h)  "
   ]
  },
  {
   "cell_type": "markdown",
   "metadata": {},
   "source": [
    "## 付録 A ~ C"
   ]
  },
  {
   "cell_type": "markdown",
   "metadata": {},
   "source": [
    "省略"
   ]
  }
 ],
 "metadata": {
  "kernelspec": {
   "display_name": "Python 3",
   "language": "python",
   "name": "python3"
  },
  "language_info": {
   "codemirror_mode": {
    "name": "ipython",
    "version": 3
   },
   "file_extension": ".py",
   "mimetype": "text/x-python",
   "name": "python",
   "nbconvert_exporter": "python",
   "pygments_lexer": "ipython3",
   "version": "3.6.7"
  }
 },
 "nbformat": 4,
 "nbformat_minor": 2
}
