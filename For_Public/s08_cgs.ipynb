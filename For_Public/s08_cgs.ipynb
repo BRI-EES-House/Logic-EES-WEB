{
 "cells": [
  {
   "cell_type": "markdown",
   "metadata": {},
   "source": [
    "# 第八章　コージェネレーション設備"
   ]
  },
  {
   "cell_type": "markdown",
   "metadata": {},
   "source": [
    "1．適用範囲～4．記号及び単位は省略"
   ]
  },
  {
   "cell_type": "markdown",
   "metadata": {},
   "source": [
    "### 5. ガス消費量及び灯油消費量"
   ]
  },
  {
   "cell_type": "markdown",
   "metadata": {},
   "source": [
    "$$\\large\n",
    "\\displaystyle\n",
    "E_{CG,d} = E_{F,PU,d} + E_{F,BB,DHW,d} + E_{F,BB,HWH,d}\n",
    "$$"
   ]
  },
  {
   "cell_type": "markdown",
   "metadata": {},
   "source": [
    "$E_{CG,d}$：日付$d$における1日当たりのコージェネレーション設備の一次エネルギー消費量(MJ/d)  \n",
    "$E_{F,PU,d}$：日付$d$における1日当たりの発電ユニットの燃料消費量(MJ/d)  \n",
    "$E_{F,BB,DHW,d}$：日付$d$における1日当たりの給湯時のバックアップボイラーの燃料消費量(MJ/d)  \n",
    "$E_{F,BB,HWH,d}$：日付$d$における1日当たりの温水暖房時のバックアップボイラーの燃料消費量(MJ/d)  "
   ]
  },
  {
   "cell_type": "markdown",
   "metadata": {},
   "source": [
    "### 6. 発電量"
   ]
  },
  {
   "cell_type": "markdown",
   "metadata": {},
   "source": [
    "&#9312;温水暖房への排熱利用がない場合、 "
   ]
  },
  {
   "cell_type": "markdown",
   "metadata": {},
   "source": [
    "$$\\large\n",
    "\\displaystyle\n",
    "E_{E,CG,gen,d,t} = E_{E,gen,PU,d,t} - E_{E,BB,aux,ba2,d,t} - E_{E,BB,aux,HWH,d,t} - E_{E,TU,aux,d,t}\n",
    "$$"
   ]
  },
  {
   "cell_type": "markdown",
   "metadata": {},
   "source": [
    "&#9313;温水暖房への排熱利用がある場合、 "
   ]
  },
  {
   "cell_type": "markdown",
   "metadata": {},
   "source": [
    "$$\\large\n",
    "\\displaystyle\n",
    "E_{E,CG,gen,d,t} = E_{E,gen,PU,d,t} - E_{E,BB,aux,ba2,d,t} - E_{E,TU,aux,d,t}\n",
    "$$"
   ]
  },
  {
   "cell_type": "markdown",
   "metadata": {},
   "source": [
    "$E_{E,CG,gen,d,t}$：日付$d$の時刻$t$における1時間当たりのコージェネレーション設備による発電量(kWh/h)  \n",
    "$E_{E,gen,PU,d,t}$：日付$d$の時刻$t$における1時間当たりの発電ユニットの発電量(kWh/h)  \n",
    "$E_{E,BB,aux,ba2,d,t}$：日付$d$の時刻$t$における1時間当たりの浴槽追焚時のバックアップボイラーの補機消費電力量(kWh/h)  \n",
    "$E_{E,BB,aux,HWH,d,t}$：日付$d$の時刻$t$における1時間当たりの温水暖房時のバックアップボイラーの補機消費電力量(kWh/h)  \n",
    "$E_{E,TU,aux,d,t}$：日付$d$の時刻$t$における1時間当たりのタンクユニットの補機消費電力量(kWh/h)  "
   ]
  },
  {
   "cell_type": "markdown",
   "metadata": {},
   "source": [
    "### 7. 給湯のバックアップボイラーの燃料消費量"
   ]
  },
  {
   "cell_type": "markdown",
   "metadata": {},
   "source": [
    "#### 7.1 用途別の燃料消費量 "
   ]
  },
  {
   "cell_type": "markdown",
   "metadata": {},
   "source": [
    "$$\\large\n",
    "\\displaystyle\n",
    "E_{F,BB,DHW,d} = E_{F,BB,k,d} + E_{F,BB,w,d} + E_{F,BB,s,d} + E_{F,BB,b1,d} + E_{F,BB,b2,d} + E_{F,BB,ba1,d} + E_{F,BB,ba2,d}\n",
    "$$"
   ]
  },
  {
   "cell_type": "markdown",
   "metadata": {},
   "source": [
    "$E_{F,BB,DHW,d}$：日付$d$における1日当たりの給湯時のバックアップボイラーの燃料消費量(MJ/d)  \n",
    "$E_{F,BB,k,d}$：日付$d$における1日当たりの台所水栓におけるバックアップボイラーの燃料消費量(MJ/d)  \n",
    "$E_{F,BB,w,d}$：日付$d$における1日当たりの洗面水栓におけるバックアップボイラーの燃料消費量(MJ/d)  \n",
    "$E_{F,BB,s,d}$：日付$d$における1日当たりの浴室シャワー水栓におけるバックアップボイラーの燃料消費量(MJ/d)  \n",
    "$E_{F,BB,b1,d}$：日付$d$における1日当たりの浴槽水栓湯はりにおけるバックアップボイラーの燃料消費量(MJ/d)  \n",
    "$E_{F,BB,b2,d}$：日付$d$における1日当たりの浴槽自動湯はりにおけるバックアップボイラーの燃料消費量(MJ/d)  \n",
    "$E_{F,BB,ba1,d}$：日付$d$における1日当たりの浴槽水栓さし湯におけるバックアップボイラーの燃料消費量(MJ/d)  \n",
    "$E_{F,BB,ba2,d}$：日付$d$における1日当たりの浴槽追焚におけるバックアップボイラーの燃料消費量(MJ/d)  "
   ]
  },
  {
   "cell_type": "markdown",
   "metadata": {},
   "source": [
    "$$\\large\n",
    "\\displaystyle\n",
    "E_{F,BB,k,d} = L_{BB,k,d} \\div e_{BB,k,d}\n",
    "$$\n",
    "\n",
    "$$\\large\n",
    "\\displaystyle\n",
    "E_{F,BB,w,d} = L_{BB,w,d} \\div e_{BB,w,d}\n",
    "$$\n",
    "\n",
    "$$\\large\n",
    "\\displaystyle\n",
    "E_{F,BB,s,d} = L_{BB,s,d} \\div e_{BB,s,d}\n",
    "$$\n",
    "\n",
    "$$\\large\n",
    "\\displaystyle\n",
    "E_{F,BB,b1,d} = L_{BB,b1,d} \\div e_{BB,b1,d}\n",
    "$$\n",
    "\n",
    "$$\\large\n",
    "\\displaystyle\n",
    "E_{F,BB,b2,d} = L_{BB,b2,d} \\div e_{BB,b2,d}\n",
    "$$\n",
    "\n",
    "$$\\large\n",
    "\\displaystyle\n",
    "E_{F,BB,ba1,d} = L_{BB,ba1,d} \\div e_{BB,ba1,d}\n",
    "$$\n",
    "\n",
    "$$\\large\n",
    "\\displaystyle\n",
    "E_{F,BB,ba2,d} = L_{BB,ba2,d} \\div e_{BB,ba2,d}\n",
    "$$"
   ]
  },
  {
   "cell_type": "markdown",
   "metadata": {},
   "source": [
    "$L_{BB,k,d}$：日付$d$における1日当たりの台所水栓におけるバックアップボイラーが分担する給湯熱負荷(MJ/d)  \n",
    "$L_{BB,w,d}$：日付$d$における1日当たりの洗面水栓におけるバックアップボイラーが分担する給湯熱負荷(MJ/d)  \n",
    "$L_{BB,s,d}$：日付$d$における1日当たりの浴室シャワー水栓におけるバックアップボイラーが分担する給湯熱負荷(MJ/d)  \n",
    "$L_{BB,b1,d}$：日付$d$における1日当たりの浴槽水栓湯はりにおけるバックアップボイラーが分担する給湯熱負荷(MJ/d)  \n",
    "$L_{BB,b2,d}$：日付$d$における1日当たりの浴槽自動湯はりにおけるバックアップボイラーが分担する給湯熱負荷(MJ/d)  \n",
    "$L_{BB,ba1,d}$：日付$d$における1日当たりの浴槽水栓さし湯におけるバックアップボイラーが分担する給湯熱負荷(MJ/d)  \n",
    "$L_{BB,ba2,d}$：日付$d$における1日当たりの浴槽追焚におけるバックアップボイラーが分担する給湯熱負荷(MJ/d)  \n",
    "$e_{BB,k,d}$：日付$d$における台所水栓における日平均バックアップボイラー効率  \n",
    "$e_{BB,w,d}$：日付$d$における洗面水栓における日平均バックアップボイラー効率  \n",
    "$e_{BB,s,d}$：日付$d$における浴室シャワー水栓における日平均バックアップボイラー効率  \n",
    "$e_{BB,b1,d}$：日付$d$における浴槽水栓湯はりにおける日平均バックアップボイラー効率  \n",
    "$e_{BB,b2,d}$：日付$d$における浴槽自動湯はりにおける日平均バックアップボイラー効率  \n",
    "$e_{BB,ba1,d}$：日付$d$における浴槽水栓さし湯における日平均バックアップボイラー効率  \n",
    "$e_{BB,ba2,d}$：日付$d$における浴槽追焚における日平均バックアップボイラー効率  "
   ]
  },
  {
   "cell_type": "markdown",
   "metadata": {},
   "source": [
    "#### 7.2 給湯使用時のバックアップボイラーの効率 "
   ]
  },
  {
   "cell_type": "markdown",
   "metadata": {},
   "source": [
    "省略"
   ]
  },
  {
   "cell_type": "markdown",
   "metadata": {},
   "source": [
    "#### 7.3 バックアップボイラーが分担する給湯熱負荷 "
   ]
  },
  {
   "cell_type": "markdown",
   "metadata": {},
   "source": [
    "$$\\large\n",
    "\\displaystyle\n",
    "L_{BB,k,d} = L_{BB,DHW,d} \\times \\frac{L''_{k,d}}{L_{DHW,d}}\n",
    "$$\n",
    "\n",
    "$$\\large\n",
    "\\displaystyle\n",
    "L_{BB,w,d} = L_{BB,DHW,d} \\times \\frac{L''_{w,d}}{L_{DHW,d}}\n",
    "$$\n",
    "\n",
    "$$\\large\n",
    "\\displaystyle\n",
    "L_{BB,s,d} = L_{BB,DHW,d} \\times \\frac{L''_{s,d}}{L_{DHW,d}}\n",
    "$$\n",
    "\n",
    "$$\\large\n",
    "\\displaystyle\n",
    "L_{BB,b1,d} = L_{BB,DHW,d} \\times \\frac{L''_{b1,d}}{L_{DHW,d}}\n",
    "$$\n",
    "\n",
    "$$\\large\n",
    "\\displaystyle\n",
    "L_{BB,b2,d} = L_{BB,DHW,d} \\times \\frac{L''_{b2,d}}{L_{DHW,d}}\n",
    "$$\n",
    "\n",
    "$$\\large\n",
    "\\displaystyle\n",
    "L_{BB,ba1,d} = L_{BB,DHW,d} \\times \\frac{L''_{ba1,d}}{L_{DHW,d}}\n",
    "$$"
   ]
  },
  {
   "cell_type": "markdown",
   "metadata": {},
   "source": [
    "$L_{BB,DHW,d}$：日付$d$における1日当たりの給湯のバックアップボイラーが分担する給湯熱負荷(MJ/d)  \n",
    "$L_{DHW,d}$：日付$d$における1日当たりの浴槽追焚を除く太陽熱補正給湯熱負荷(MJ/d)  \n",
    "$L''_{k,d}$：日付$d$における1日当たりの台所水栓における太陽熱補正給湯熱負荷(MJ/d)  \n",
    "$L''_{w,d}$：日付$d$における1日当たりの洗面水栓における太陽熱補正給湯熱負荷(MJ/d)  \n",
    "$L''_{s,d}$：日付$d$における1日当たりの浴室シャワー水栓における太陽熱補正給湯熱負荷(MJ/d)  \n",
    "$L''_{b1,d}$：日付$d$における1日当たりの浴槽水栓湯はりにおける太陽熱補正給湯熱負荷(MJ/d)  \n",
    "$L''_{b2,d}$：日付$d$における1日当たりの浴槽自動湯はりにおける太陽熱補正給湯熱負荷(MJ/d)  \n",
    "$L''_{ba1,d}$：日付$d$における1日当たりの浴槽水栓さし湯における太陽熱補正給湯熱負荷(MJ/d)  "
   ]
  },
  {
   "cell_type": "markdown",
   "metadata": {},
   "source": [
    "$$\\large\n",
    "\\displaystyle\n",
    "L_{BB,DHW,d} = L_{DHW,d} - Q_{gen,DHW,d}\n",
    "$$"
   ]
  },
  {
   "cell_type": "markdown",
   "metadata": {},
   "source": [
    "$Q_{gen,DHW,d}$：日付$d$における1日当たりの給湯の排熱利用量(MJ/d)  "
   ]
  },
  {
   "cell_type": "markdown",
   "metadata": {},
   "source": [
    "### 8. 温水暖房への排熱利用がある場合の温水暖房時のバックアップボイラーの燃料消費量及び補機の消費電力"
   ]
  },
  {
   "cell_type": "markdown",
   "metadata": {},
   "source": [
    "#### 8.1 補機消費電力量 "
   ]
  },
  {
   "cell_type": "markdown",
   "metadata": {},
   "source": [
    "日付$d$の時刻$t$における温水暖房時のバックアップボイラーの補機消費電力量$E_{E,BB,aux,HWH,d,t}$は0とする。 "
   ]
  },
  {
   "cell_type": "markdown",
   "metadata": {},
   "source": [
    "#### 8.2 燃料消費量 "
   ]
  },
  {
   "cell_type": "markdown",
   "metadata": {},
   "source": [
    "$$\\large\n",
    "\\displaystyle\n",
    "E_{F,BB,HWH,d} = \\sum_{t} E_{F,BB,HWH,d,t}\n",
    "$$"
   ]
  },
  {
   "cell_type": "markdown",
   "metadata": {},
   "source": [
    "$E_{F,BB,HWH,d,t}$：日付$d$の時刻$t$における1日当たりの温水暖房時のバックアップボイラーの燃料消費量(MJ/h)  "
   ]
  },
  {
   "cell_type": "markdown",
   "metadata": {},
   "source": [
    "$$\\large\n",
    "\\displaystyle\n",
    "Q_{out,BB,HWH,d,t} = \\min \\left( L_{BB,HWH,d,t}, Q_{max,BB,HWH} \\right)\n",
    "$$"
   ]
  },
  {
   "cell_type": "markdown",
   "metadata": {},
   "source": [
    "$L_{BB,HWH,d,t}$：日付$d$の時刻$t$における1日当たりの温水暖房時のバックアップボイラーが分担する温水暖房の熱負荷(MJ/h)  \n",
    "$Q_{max,BB,HWH}$：1 時間当たりの温水暖房時のバックアップボイラーの最大出力(MJ/h)  "
   ]
  },
  {
   "cell_type": "markdown",
   "metadata": {},
   "source": [
    "$$\\large\n",
    "\\displaystyle\n",
    "L_{BB,HWH,d,t} = \\left\\{ \\begin{array}{ll}\n",
    "    L_{BB,HWH,d} \\times \\frac{L_{HWH,d,t}}{L_{HWH,d}} & (L_{HWH,d} \\neq 0)\\\\ \n",
    "    0 & (L_{HWH,d} = 0)\\\\ \n",
    "    \\end{array}\n",
    "\\right.\n",
    "$$"
   ]
  },
  {
   "cell_type": "markdown",
   "metadata": {},
   "source": [
    "$L_{BB,HWH,d}$：日付$d$における1日当たりの温水暖房時のバックアップボイラーが分担する温水暖房の熱負荷(MJ/d)  \n",
    "$L_{HWH,d,t}$：日付$d$の時刻$t$における1 時間当たりの温水暖房の熱負荷(MJ/h)  \n",
    "$L_{HWH,d}$：日付$d$における1日当たりの温水暖房の熱負荷(MJ/d)  "
   ]
  },
  {
   "cell_type": "markdown",
   "metadata": {},
   "source": [
    "$$\\large\n",
    "\\displaystyle\n",
    "L_{BB,HWH,d} = L_{HWH,d} - Q_{gen,HWH,d}\n",
    "$$"
   ]
  },
  {
   "cell_type": "markdown",
   "metadata": {},
   "source": [
    "$Q_{gen,HWH,d}$：日付$d$における1日当たりの温水暖房の排熱利用量(MJ/d)  "
   ]
  },
  {
   "cell_type": "markdown",
   "metadata": {},
   "source": [
    "### 9. 発電ユニット"
   ]
  },
  {
   "cell_type": "markdown",
   "metadata": {},
   "source": [
    "#### 9.1 排熱利用量 "
   ]
  },
  {
   "cell_type": "markdown",
   "metadata": {},
   "source": [
    "&#9312;温水暖房への排熱利用がない場合、 "
   ]
  },
  {
   "cell_type": "markdown",
   "metadata": {},
   "source": [
    "$$\\large\n",
    "\\displaystyle\n",
    "Q_{gen,DHW,d} = \\min \\left( Q_{PU,gen,d} \\times r_{DHW,gen,PU,d},L_{DHW,d} \\right)\n",
    "$$\n",
    "\n",
    "$$\\large\n",
    "\\displaystyle\n",
    "Q_{gen,HWH,d} = 0.0\n",
    "$$"
   ]
  },
  {
   "cell_type": "markdown",
   "metadata": {},
   "source": [
    "&#9313;温水暖房への排熱利用がある場合で給湯優先の機種、 "
   ]
  },
  {
   "cell_type": "markdown",
   "metadata": {},
   "source": [
    "$$\\large\n",
    "\\displaystyle\n",
    "Q_{gen,DHW,d} = \\min \\left( Q_{PU,gen,d} \\times r_{DHW,gen,PU,d},L_{DHW,d} \\right)\n",
    "$$\n",
    "\n",
    "$$\\large\n",
    "\\displaystyle\n",
    "Q_{gen,HWH,d} = \\min \\left( (Q_{PU,gen,d} - Q_{gen,DHW,d}) \\times r_{HWH,gen,PU,d},L_{HWH,d} \\right)\n",
    "$$"
   ]
  },
  {
   "cell_type": "markdown",
   "metadata": {},
   "source": [
    "&#9314;温水暖房への排熱利用がある場合で温水暖房優先の機種、 "
   ]
  },
  {
   "cell_type": "markdown",
   "metadata": {},
   "source": [
    "$$\\large\n",
    "\\displaystyle\n",
    "Q_{gen,HWH,d} = \\min \\left( Q_{PU,gen,d} \\times r_{HWH,gen,PU,d},L_{HWH,d} \\right)\n",
    "$$\n",
    "\n",
    "$$\\large\n",
    "\\displaystyle\n",
    "Q_{gen,DHW,d} = \\min \\left( (Q_{PU,gen,d} - Q_{gen,HWH,d}) \\times r_{DHW,gen,PU,d},L_{DHW,d} \\right)\n",
    "$$"
   ]
  },
  {
   "cell_type": "markdown",
   "metadata": {},
   "source": [
    "$Q_{PU,gen,d}$：日付$d$における1日当たりの発電ユニット排熱量(MJ/d)  \n",
    "$r_{DHW,gen,PU,d}$：日付$d$における発電ユニットの給湯排熱利用率  \n",
    "$r_{HWH,gen,PU,d}$：日付$d$における発電ユニットの温水暖房排熱利用率  \n",
    "$L_{DHW,d}$：日付$d$における1日当たりの浴槽追焚を除く太陽熱補正給湯熱負荷(MJ/d)  "
   ]
  },
  {
   "cell_type": "markdown",
   "metadata": {},
   "source": [
    "$$\\large\n",
    "\\displaystyle\n",
    "Q_{PU,gen,d} = E_{F,PU,d} \\times e_{H,PU,d}\n",
    "$$"
   ]
  },
  {
   "cell_type": "markdown",
   "metadata": {},
   "source": [
    "$E_{F,PU,d}$：日付$d$における1日当たりの発電ユニットの燃料消費量(MJ/d)  \n",
    "$e_{H,PU,d}$：日付$d$における発電ユニットの日平均排熱効率  "
   ]
  },
  {
   "cell_type": "markdown",
   "metadata": {},
   "source": [
    "#### 9.2 発電量"
   ]
  },
  {
   "cell_type": "markdown",
   "metadata": {},
   "source": [
    "$$\\large\n",
    "E_{E,gen,PU,d,t} = E_{E,gen,PU,d} \\times \\frac{E_{E,PU,d,t}}{E_{E,PU,d}}\n",
    "$$"
   ]
  },
  {
   "cell_type": "markdown",
   "metadata": {},
   "source": [
    "$E_{E,gen,PU,d}$：日付$d$における1日当たりの発電ユニットの発電量(kWh/d)  \n",
    "$E_{E,PU,d,t}$：日付$d$の時刻$t$における1時間当たりの発電ユニットの分担可能電力負荷(kWh/h)  \n",
    "$E_{E,PU,d}$：日付$d$における1日当たりの発電ユニットの分担可能電力負荷(kWh/d)  "
   ]
  },
  {
   "cell_type": "markdown",
   "metadata": {},
   "source": [
    "$$\\large\n",
    "E_{E,gen,PU,d} = E_{F,PU,d} \\times e_{E,PU,d} \\div 3.6\n",
    "$$"
   ]
  },
  {
   "cell_type": "markdown",
   "metadata": {},
   "source": [
    "$E_{F,PU,d}$：日付$d$における1日当たりの発電ユニットの燃料消費量(MJ/d)  \n",
    "$e_{E,PU,d}$：日付$d$における発電ユニットの日平均発電効率  "
   ]
  },
  {
   "cell_type": "markdown",
   "metadata": {},
   "source": [
    "#### 9.3 燃料消費量"
   ]
  },
  {
   "cell_type": "markdown",
   "metadata": {},
   "source": [
    "&#9312;発電ユニットの発電方式が「熱主」の場合、 "
   ]
  },
  {
   "cell_type": "markdown",
   "metadata": {},
   "source": [
    "$$\\large\n",
    "E_{F,PU,d} = min(E_{F,PU,EVt,d}, E_{F,PU,HVt,d})\n",
    "$$"
   ]
  },
  {
   "cell_type": "markdown",
   "metadata": {},
   "source": [
    "&#9313;発電ユニットの発電方式が「電主」の場合、 "
   ]
  },
  {
   "cell_type": "markdown",
   "metadata": {},
   "source": [
    "$$\\large\n",
    "E_{F,PU,d} = E_{F,PU,EVt,d}\n",
    "$$"
   ]
  },
  {
   "cell_type": "markdown",
   "metadata": {},
   "source": [
    "$E_{F,PU,EVt,d}$：日付$d$における1日当たりの発電ユニットの発電量推定時の仮想燃料消費量(MJ/d)  \n",
    "$E_{F,PU,HVt,d}$：日付$d$における1日当たりの発電ユニットの排熱量推定時の仮想燃料消費量(MJ/d)  "
   ]
  },
  {
   "cell_type": "markdown",
   "metadata": {},
   "source": [
    "$$\\large\n",
    "E_{F,PU,EVt,d} = E_{E,gen,PU,EVt,d} \\times 3.6 \\div e_{E,PU,d} \n",
    "$$"
   ]
  },
  {
   "cell_type": "markdown",
   "metadata": {},
   "source": [
    "$E_{E,gen,PU,EVt,d}$：日付$d$における1日当たりの発電ユニットの発電量推定時の仮想発電量(kWh/d)  \n",
    "$e_{E,PU,d}$：日付$d$における発電ユニットの日平均発電効率  "
   ]
  },
  {
   "cell_type": "markdown",
   "metadata": {},
   "source": [
    "$$\\large\n",
    "\\displaystyle\n",
    "E_{E,gen,PU,EVt,d} = \\min ( a_{PU} \\times E_{E,PU,d} \\times 3.6 + a_{DHW} \\times L_{DHW,d} + a_{HWH} \\times L_{HWH,d} \\\\\n",
    "\\large+ b, E_{E,PU,d} \\times c \\times 3.6) \\div 3.6\n",
    "$$"
   ]
  },
  {
   "cell_type": "markdown",
   "metadata": {},
   "source": [
    "$E_{E,PU,d}$：日付$d$における1日当たりの発電ユニットの分担可能電力負荷(kWh/d)  \n",
    "$L_{DHW,d}$：日付$d$における1日当たりの浴槽追焚を除く太陽熱補正給湯熱負荷(MJ/d)  \n",
    "$L_{HWH,d}$：日付$d$における1日当たりの温水暖房の熱負荷(MJ/d)  "
   ]
  },
  {
   "cell_type": "markdown",
   "metadata": {},
   "source": [
    "$$\\large\n",
    "\\displaystyle\n",
    "E_{F,PU,HVt,d} = (a_{DHW} \\times L_{DHW,d} + a_{HWH} \\times L_{HWH,d}) \\times r_{H,gen,PU,HVt,d} \\div e_{H,PU,d}\n",
    "$$"
   ]
  },
  {
   "cell_type": "markdown",
   "metadata": {},
   "source": [
    "$L_{DHW,d}$：日付$d$における1日当たりの浴槽追焚を除く太陽熱補正給湯熱負荷(MJ/d)  \n",
    "$L_{HWH,d}$：日付$d$における1日当たりの温水暖房の熱負荷(MJ/d)  \n",
    "$r_{H,gen,PU,HVt,d}$：日付$d$における発電ユニットの排熱量推定時の仮想排熱量上限比  \n",
    "$e_{H,PU,d}$：日付$d$における発電ユニットの日平均排熱効率  "
   ]
  },
  {
   "cell_type": "markdown",
   "metadata": {},
   "source": [
    "$$\\large\n",
    "\\displaystyle\n",
    "r_{H,gen,PU,HVt,d} = a_{DHW} \\times L_{DHW,d} + a_{HWH} \\times L_{HWH,d} + b\n",
    "$$"
   ]
  },
  {
   "cell_type": "markdown",
   "metadata": {},
   "source": [
    "$L_{DHW,d}$：日付$d$における1日当たりの浴槽追焚を除く太陽熱補正給湯熱負荷(MJ/d)  \n",
    "$L_{HWH,d}$：日付$d$における1日当たりの温水暖房の熱負荷(MJ/d)  "
   ]
  },
  {
   "cell_type": "markdown",
   "metadata": {},
   "source": [
    "#### 9.4 発電効率 "
   ]
  },
  {
   "cell_type": "markdown",
   "metadata": {},
   "source": [
    "発電ユニットの発電効率の上限値を上回る場合は上限値に等しいとし、下限値を下回る場合は下限値に等しいとする。"
   ]
  },
  {
   "cell_type": "markdown",
   "metadata": {},
   "source": [
    "$$\\large\n",
    "\\displaystyle\n",
    "e_{E,PU,d} = a_{PU} \\times E_{E,PU,d} \\times 3.6 + a_{DHW} \\times L_{DHW,d} + a_{HWH} \\times L_{HWH,d} + b\n",
    "$$"
   ]
  },
  {
   "cell_type": "markdown",
   "metadata": {},
   "source": [
    "$E_{E,PU,d}$：日付$d$における1日当たりの発電ユニットの分担可能電力負荷(kWh/d)  \n",
    "$L_{DHW,d}$：日付$d$における1日当たりの浴槽追焚を除く太陽熱補正給湯熱負荷(MJ/d)  \n",
    "$L_{HWH,d}$：日付$d$における1日当たりの温水暖房の熱負荷(MJ/d)  "
   ]
  },
  {
   "cell_type": "markdown",
   "metadata": {},
   "source": [
    "#### 9.5 排熱効率 "
   ]
  },
  {
   "cell_type": "markdown",
   "metadata": {},
   "source": [
    "発電ユニットの排熱効率の上限値を上回る場合は上限値に等しいとし、下限値を下回る場合は下限値に等しいとする。"
   ]
  },
  {
   "cell_type": "markdown",
   "metadata": {},
   "source": [
    "$$\\large\n",
    "\\displaystyle\n",
    "e_{H,PU,d} = a_{PU} \\times E_{E,PU,d} \\times 3.6 + a_{DHW} \\times L_{DHW,d} + a_{HWH} \\times L_{HWH,d} + b\n",
    "$$"
   ]
  },
  {
   "cell_type": "markdown",
   "metadata": {},
   "source": [
    "$E_{E,PU,d}$：日付$d$における1日当たりの発電ユニットの分担可能電力負荷(kWh/d)  \n",
    "$L_{DHW,d}$：日付$d$における1日当たりの浴槽追焚を除く太陽熱補正給湯熱負荷(MJ/d)  \n",
    "$L_{HWH,d}$：日付$d$における1日当たりの温水暖房の熱負荷(MJ/d)  "
   ]
  },
  {
   "cell_type": "markdown",
   "metadata": {},
   "source": [
    "#### 9.6 分担可能電力負荷 "
   ]
  },
  {
   "cell_type": "markdown",
   "metadata": {},
   "source": [
    "$$\\large\n",
    "\\displaystyle\n",
    "E_{E,PU,d} = \\sum E_{E,PU,d,t}\n",
    "$$"
   ]
  },
  {
   "cell_type": "markdown",
   "metadata": {},
   "source": [
    "$E_{E,PU,d,t}$：日付$d$の時刻$t$における1時間当たりの発電ユニットの分担可能電力負荷(kWh/h)  "
   ]
  },
  {
   "cell_type": "markdown",
   "metadata": {},
   "source": [
    "$$\\large\n",
    "\\displaystyle\n",
    "E_{E,PU,d,t} = \\min \\left( E_{E,dmd,PU,d,t}, P_{rtd,PU} \\times 10^{-3} \\right)\n",
    "$$"
   ]
  },
  {
   "cell_type": "markdown",
   "metadata": {},
   "source": [
    "$E_{E,dmd,PU,d,t}$：日付$d$の時刻$t$における1時間当たりの発電ユニットの電力需要(kWh/h)  \n",
    "$P_{rtd,PU}$：定格発電出力(W)  "
   ]
  },
  {
   "cell_type": "markdown",
   "metadata": {},
   "source": [
    "&#9312;温水暖房への排熱利用がない場合、 "
   ]
  },
  {
   "cell_type": "markdown",
   "metadata": {},
   "source": [
    "$$\\large\n",
    "\\displaystyle\n",
    "E_{E,dmd,PU,d,t} = E_{E,dmd,d,t} + E_{E,BB,aux,ba2,d,t} + E_{E,BB,aux,HWH,d,t} + E_{E,TU,aux,d,t}\n",
    "$$"
   ]
  },
  {
   "cell_type": "markdown",
   "metadata": {},
   "source": [
    "&#9313;温水暖房への排熱利用がある場合、 "
   ]
  },
  {
   "cell_type": "markdown",
   "metadata": {},
   "source": [
    "$$\\large\n",
    "\\displaystyle\n",
    "E_{E,dmd,PU,d,t} = E_{E,dmd,d,t} + E_{E,BB,aux,ba2,d,t} + E_{E,TU,aux,d,t}\n",
    "$$"
   ]
  },
  {
   "cell_type": "markdown",
   "metadata": {},
   "source": [
    "$E_{E,dmd,d,t}$：日付$d$の時刻$t$における1時間当たりの電力需要(kWh/h)  \n",
    "$E_{E,BB,aux,ba2,d,t}$：日付$d$の時刻$t$における1時間当たりの浴槽追焚時のバックアップボイラーの補機消費電力量(kWh/h)  \n",
    "$E_{E,BB,aux,HWH,d,t}$：日付$d$の時刻$t$における1時間当たりの温水暖房時のバックアップボイラーの補機消費電力量(kWh/h)  \n",
    "$E_{E,TU,aux,d,t}$：日付$d$の時刻$t$における1時間当たりのタンクユニットの補機消費電力量(kWh/h)  "
   ]
  },
  {
   "cell_type": "markdown",
   "metadata": {},
   "source": [
    "### 10. 温水暖房への排熱利用がない場合の温水暖房時のバックアップボイラーの燃料消費量と補機消費電力"
   ]
  },
  {
   "cell_type": "markdown",
   "metadata": {},
   "source": [
    "#### 10.1 補機消費電力 "
   ]
  },
  {
   "cell_type": "markdown",
   "metadata": {},
   "source": [
    "省略"
   ]
  },
  {
   "cell_type": "markdown",
   "metadata": {},
   "source": [
    "#### 10.2 燃料消費量 "
   ]
  },
  {
   "cell_type": "markdown",
   "metadata": {},
   "source": [
    "$$\\large\n",
    "\\displaystyle\n",
    "E_{F,BB,HWH,d} = \\sum E_{F,BB,HWH,d,t}\n",
    "$$"
   ]
  },
  {
   "cell_type": "markdown",
   "metadata": {},
   "source": [
    "$E_{F,BB,HWH,d,t}$：日付$d$の時刻$t$における1時間当たりの温水暖房のバックアップボイラーの燃料消費量(MJ/h)  "
   ]
  },
  {
   "cell_type": "markdown",
   "metadata": {},
   "source": [
    "$$\\large\n",
    "\\displaystyle\n",
    "Q_{out,BB,HWH,d,t} = \\min \\left( L_{BB,HWH,d,t}, Q_{max,BB,HWH} \\right)\n",
    "$$"
   ]
  },
  {
   "cell_type": "markdown",
   "metadata": {},
   "source": [
    "$L_{BB,HWH,d,t}$：日付$d$の時刻$t$における1時間当たりの温水暖房時のバックアップボイラーが分担する温水暖房の熱負荷(MJ/h)  \n",
    "$Q_{max,BB,HWH}$：1 時間当たりの温水暖房時のバックアップボイラーの最大出力(MJ/h)  "
   ]
  },
  {
   "cell_type": "markdown",
   "metadata": {},
   "source": [
    "$$\\large\n",
    "\\displaystyle\n",
    "L_{BB,HWH,d,t} = L_{HWH,d,t}\n",
    "$$"
   ]
  },
  {
   "cell_type": "markdown",
   "metadata": {},
   "source": [
    "### 11. 浴槽追焚"
   ]
  },
  {
   "cell_type": "markdown",
   "metadata": {},
   "source": [
    "日付$d$における 1 日当たりの浴槽追焚の補機消費電力量$E_{E,BB,aux,ba2,d,t}$は、1 日当たりの浴槽追焚のバックアップボイラーが分担する給湯熱負荷$L_{BB,ba2}$が 0 より大の場合に発生する。"
   ]
  },
  {
   "cell_type": "markdown",
   "metadata": {},
   "source": [
    "$$\\large\n",
    "\\displaystyle\n",
    "E_{E,BB,aux,ba2,d,t} = \\left\\{ \\begin{array}{ll}\n",
    "    E_{E,BB,aux,ba2,d} & (t = 19)\\\\ \n",
    "    0 & (t \\neq 19)\\\\ \n",
    "    \\end{array}\n",
    "\\right.\n",
    "$$"
   ]
  },
  {
   "cell_type": "markdown",
   "metadata": {},
   "source": [
    "$$\\large\n",
    "\\displaystyle\n",
    "L_{BB,ba2,d} = L''_{ba2,d}\n",
    "$$"
   ]
  },
  {
   "cell_type": "markdown",
   "metadata": {},
   "source": [
    "$L''_{ba2,d}$：日付$d$における1 日当たりの浴槽追焚の太陽熱補正給湯熱負荷(MJ/d)  "
   ]
  },
  {
   "cell_type": "markdown",
   "metadata": {},
   "source": [
    "### 12. タンクユニットの補機消費電力"
   ]
  },
  {
   "cell_type": "markdown",
   "metadata": {},
   "source": [
    "&#9312;温水暖房への排熱利用がない場合、 "
   ]
  },
  {
   "cell_type": "markdown",
   "metadata": {},
   "source": [
    "$$\\large\n",
    "\\displaystyle\n",
    "E_{E,TU,aux,d,t} = P_{TU,aux,DHW} \\times 10^{-3}\n",
    "$$"
   ]
  },
  {
   "cell_type": "markdown",
   "metadata": {},
   "source": [
    "&#9313;温水暖房への排熱利用がある場合、 "
   ]
  },
  {
   "cell_type": "markdown",
   "metadata": {},
   "source": [
    "$$\\large\n",
    "\\displaystyle\n",
    "E_{E,TU,aux,d,t} = (P_{TU,aux,DHW} +  P_{TU,aux,HWH} \\times r_{WS,HWH,d,t}) \\times 10^{-3}\n",
    "$$"
   ]
  },
  {
   "cell_type": "markdown",
   "metadata": {},
   "source": [
    "$P_{TU,aux,DHW}$：給湯のタンクユニットの補機消費電力(W)  \n",
    "$P_{TU,aux,HWH}$：温水暖房のタンクユニットの補機消費電力(W)  \n",
    "$r_{WS,HWH,d,t}$：日付$d$の時刻$t$における温水暖房の温水供給運転率"
   ]
  },
  {
   "cell_type": "markdown",
   "metadata": {},
   "source": [
    "### 13. その他"
   ]
  },
  {
   "cell_type": "markdown",
   "metadata": {},
   "source": [
    "$$\\large\n",
    "\\displaystyle\n",
    "L_{DHW,d} = L''_{k,d} + L''_{w,d} + L''_{s,d} + L''_{b1,d} + L''_{b2,d} + L''_{ba1,d}\n",
    "$$"
   ]
  },
  {
   "cell_type": "markdown",
   "metadata": {},
   "source": [
    "$ L''_{k,d}$：日付$d$における1日当たりの台所水栓の太陽熱補正給湯熱負荷(MJ/d)  \n",
    "$ L''_{w,d}$：日付$d$における1日当たりの洗面水栓の太陽熱補正給湯熱負荷(MJ/d)  \n",
    "$ L''_{s,d}$：日付$d$における1日当たりの浴室シャワー水栓の太陽熱補正給湯熱負荷(MJ/d)  \n",
    "$ L''_{b1,d}$：日付$d$における1日当たりの浴槽水栓湯はりの太陽熱補正給湯熱負荷(MJ/d)  \n",
    "$ L''_{b2,d}$：日付$d$における1日当たりの浴槽自動湯はりの太陽熱補正給湯熱負荷(MJ/d)  \n",
    "$ L''_{ba1,d}$：日付$d$における1日当たりの浴槽水栓さし湯の太陽熱補正給湯熱負荷(MJ/d)  "
   ]
  },
  {
   "cell_type": "markdown",
   "metadata": {},
   "source": [
    "$$\\large\n",
    "\\displaystyle\n",
    "L_{HWH,d} = \\sum^{23}_{t=0}L_{HWH,d,t}\n",
    "$$"
   ]
  },
  {
   "cell_type": "markdown",
   "metadata": {},
   "source": [
    "$L_{HWH,d,t}$：日付$d$の時刻$t$における1 時間当たりの温水暖房の熱負荷(MJ/h)  "
   ]
  },
  {
   "cell_type": "markdown",
   "metadata": {},
   "source": [
    "$$\\large\n",
    "\\displaystyle\n",
    "E_{E,dmd,d,t} = E_{E,H,d,t} + E_{E,C,d,t} + E_{E,V,d,t} + E_{E,L,d,t} + E_{E,AP,d,t}\n",
    "$$"
   ]
  },
  {
   "cell_type": "markdown",
   "metadata": {},
   "source": [
    "$E_{E,dmd,d,t}$：日付$d$の時刻$t$における1時間当たりの電力需要(kWh/h)  \n",
    "$E_{E,H,d,t}$：日付$d$の時刻$t$における1時間当たりの暖房設備の消費電力量(kWh/h)  \n",
    "$E_{E,C,d,t}$：日付$d$の時刻$t$における1時間当たりの冷房設備の消費電力量(kWh/h)  \n",
    "$E_{E,V,d,t}$：日付$d$の時刻$t$における1時間当たりの機械換気設備の消費電力量(kWh/h)  \n",
    "$E_{E,L,d,t}$：日付$d$の時刻$t$における1時間当たりの照明設備の消費電力量(kWh/h)  \n",
    "$E_{E,AP,d,t}$：日付$d$の時刻$t$における1時間当たりの家電の消費電力量(kWh/h)  "
   ]
  },
  {
   "cell_type": "markdown",
   "metadata": {},
   "source": [
    "## 付録 A ~ C"
   ]
  },
  {
   "cell_type": "markdown",
   "metadata": {},
   "source": [
    "省略"
   ]
  }
 ],
 "metadata": {
  "kernelspec": {
   "display_name": "Python 3",
   "language": "python",
   "name": "python3"
  },
  "language_info": {
   "codemirror_mode": {
    "name": "ipython",
    "version": 3
   },
   "file_extension": ".py",
   "mimetype": "text/x-python",
   "name": "python",
   "nbconvert_exporter": "python",
   "pygments_lexer": "ipython3",
   "version": "3.6.7"
  }
 },
 "nbformat": 4,
 "nbformat_minor": 2
}
