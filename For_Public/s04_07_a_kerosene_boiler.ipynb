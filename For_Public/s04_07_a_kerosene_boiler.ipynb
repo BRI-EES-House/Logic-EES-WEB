{
 "cells": [
  {
   "cell_type": "markdown",
   "metadata": {},
   "source": [
    "### 付録A　石油温水暖房機及び石油給湯温水暖房機"
   ]
  },
  {
   "cell_type": "markdown",
   "metadata": {},
   "source": [
    "#### A.1 記号及び単位"
   ]
  },
  {
   "cell_type": "markdown",
   "metadata": {},
   "source": [
    "省略"
   ]
  },
  {
   "cell_type": "markdown",
   "metadata": {},
   "source": [
    "#### A.2 エネルギー消費量"
   ]
  },
  {
   "cell_type": "markdown",
   "metadata": {},
   "source": [
    "#### A.2.1 灯油消費量"
   ]
  },
  {
   "cell_type": "markdown",
   "metadata": {},
   "source": [
    "$$\\large\n",
    "E_{K,hs} = \\left\\{ \\begin{array}{ll}\n",
    "    0&(Q_{out, H,hs} = 0)\\\\ \n",
    "    \\frac{Q_{out, H,hs} + Q_{body}}{e_{ex}} &(Q_{out, H,hs} > 0)\\\\ \n",
    "    \\end{array}\n",
    "\\right.\n",
    "$$"
   ]
  },
  {
   "cell_type": "markdown",
   "metadata": {},
   "source": [
    "$E_{K,hs}$：1 時間当たりの温水暖房用熱源機の灯油消費量(MJ/h)  \n",
    "$Q_{out, H,hs}$：1 時間当たりの温水暖房用熱源機の暖房出力(MJ/h)  \n",
    "$Q_{body}$：1 時間当たりの温水暖房用熱源機の筐体放熱損失(MJ/h)  \n",
    "$e_{ex}$：1 時間平均の温水暖房用熱源機の熱交換効率"
   ]
  },
  {
   "cell_type": "markdown",
   "metadata": {},
   "source": [
    "当該住戸の石油温水暖房機が石油従来型暖房機の場合"
   ]
  },
  {
   "cell_type": "markdown",
   "metadata": {},
   "source": [
    "$$\\large\n",
    "Q_{body} = 234 \\times 3600 \\times 10^{-6}\n",
    "$$"
   ]
  },
  {
   "cell_type": "markdown",
   "metadata": {},
   "source": [
    "当該住戸の石油温水暖房機が石油潜熱回収型暖房機の場合"
   ]
  },
  {
   "cell_type": "markdown",
   "metadata": {},
   "source": [
    "$$\\large\n",
    "Q_{body} = (5.3928 \\times \\theta_{SW,hs} - 71.903) \\times 3600 \\times 10^{-6}\n",
    "$$"
   ]
  },
  {
   "cell_type": "markdown",
   "metadata": {},
   "source": [
    "$\\theta_{SW,hs}$：1 時間平均の温水暖房用熱源機の往き温水温度(℃)"
   ]
  },
  {
   "cell_type": "markdown",
   "metadata": {},
   "source": [
    "$$\\large\n",
    "e_{ex} = e_{rtd} \\times f_{rtd} \\times \\frac{q_{rtd,hs} \\times 3600 \\times 10^{-6} + Q_{body,rtd}}{q_{rtd,hs} \\times 3600 \\times 10^{-6}}\n",
    "$$"
   ]
  },
  {
   "cell_type": "markdown",
   "metadata": {},
   "source": [
    "$e_{rtd}$：温水暖房用熱源機の定格効率  \n",
    "$f_{rtd}$：1 時間平均の定格効率を補正する係数  \n",
    "$q_{rtd,hs}$：温水暖房用熱源機の定格能力(W)  \n",
    "$Q_{body,rtd}$：1 時間当たりの定格試験時の温水暖房用熱源機の筐体放熱損失(MJ/h)"
   ]
  },
  {
   "cell_type": "markdown",
   "metadata": {},
   "source": [
    "当該住戸の石油熱源機が従来型石油熱源機の場合"
   ]
  },
  {
   "cell_type": "markdown",
   "metadata": {},
   "source": [
    "$$\\large\n",
    "Q_{body,rtd} = 234 \\times 3600 \\times 10^{-6}\n",
    "$$"
   ]
  },
  {
   "cell_type": "markdown",
   "metadata": {},
   "source": [
    "当該住戸の石油熱源機が潜熱回収型石油熱源機の場合"
   ]
  },
  {
   "cell_type": "markdown",
   "metadata": {},
   "source": [
    "$$\\large\n",
    "Q_{body,rtd} = (5.3928 \\times \\theta_{SW,hs,rtd} - 71.903) \\times 3600 \\times 10^{-6}\n",
    "$$"
   ]
  },
  {
   "cell_type": "markdown",
   "metadata": {},
   "source": [
    "$\\theta_{SW,hs,rtd}$：温水暖房用熱源機の定格試験時の往き温水温度(℃)"
   ]
  },
  {
   "cell_type": "markdown",
   "metadata": {},
   "source": [
    "当該住戸の石油熱源機が従来型石油熱源機の場合"
   ]
  },
  {
   "cell_type": "markdown",
   "metadata": {},
   "source": [
    "$$\\large\n",
    "f_{rtd} = 0.946\n",
    "$$"
   ]
  },
  {
   "cell_type": "markdown",
   "metadata": {},
   "source": [
    "当該住戸の石油熱源機が潜熱回収型石油熱源機の場合"
   ]
  },
  {
   "cell_type": "markdown",
   "metadata": {},
   "source": [
    "$$\\large\n",
    "f_{rtd} = \\left\\{ \\begin{array}{ll}\n",
    "    0.9768 &(\\theta_{RW,hs} \\geq 46.5, \\theta_{RW,hs,rtd} \\geq 46.5)\\\\ \n",
    "    \\frac{(-0.0023 \\times \\theta_{RW,hs} + 1.014)}{0.907} \\times 0.9768 &(\\theta_{RW,hs} < 46.5, \\theta_{RW,hs,rtd} \\geq 46.5)\\\\ \n",
    "    \\frac{0.907}{(-0.0023 \\times \\theta_{RW,hs,rtd} + 1.014)} \\times 0.9768 &(\\theta_{RW,hs} \\geq 46.5, \\theta_{RW,hs,rtd} < 46.5)\\\\ \n",
    "    \\frac{(-0.0023 \\times \\theta_{RW,hs} + 1.014)}{(-0.0023 \\times \\theta_{RW,hs,rtd} + 1.014)} \\times 0.9768 &(\\theta_{RW,hs} < 46.5, \\theta_{RW,hs,rtd} < 46.5)\\\\ \n",
    "    \\end{array}\n",
    "\\right.\n",
    "$$"
   ]
  },
  {
   "cell_type": "markdown",
   "metadata": {},
   "source": [
    "$\\theta_{RW,hs}$：1 時間平均の温水暖房用熱源機の戻り温水温度(℃)  \n",
    "$\\theta_{RW,hs,rtd}$：温水暖房用熱源機の定格試験時の戻り温水温度(℃)"
   ]
  },
  {
   "cell_type": "markdown",
   "metadata": {},
   "source": [
    "当該住戸の石油温水暖房機が潜熱回収型石油温水暖房機の場合、定格効率$e_{rtd}$は0.91とし、温水暖房用熱源機の定格試験時の往き温水温度$\\theta_{SW,hs,rtd}$は70℃、温水暖房用熱源機の定格試験時の戻り温水温度$\\theta_{RW,hs,rtd}$は50℃とする。 "
   ]
  },
  {
   "cell_type": "markdown",
   "metadata": {},
   "source": [
    "#### A.2.2 消費電力量"
   ]
  },
  {
   "cell_type": "markdown",
   "metadata": {},
   "source": [
    "$$\\large\n",
    "E_{E,hs} = E_{E,hs,pmp} + E_{E,hs,fan}\n",
    "$$"
   ]
  },
  {
   "cell_type": "markdown",
   "metadata": {},
   "source": [
    "$E_{E,hs}$：1 時間当たりの温水暖房用熱源機の消費電力量(kWh/h)  \n",
    "$E_{E,hs,pmp}$：1 時間当たりの温水暖房用熱源機の送水ポンプの消費電力量(kWh/h)  \n",
    "$E_{E,hs,fan}$：1 時間当たりの温水暖房用熱源機の排気ファンの消費電力量(kWh/h)  "
   ]
  },
  {
   "cell_type": "markdown",
   "metadata": {},
   "source": [
    "$$\\large\n",
    "E_{E,hs,pmp} = P_{hs,pmp} \\times r_{WS,hs} \\times 10^{-3}\n",
    "$$"
   ]
  },
  {
   "cell_type": "markdown",
   "metadata": {},
   "source": [
    "$P_{hs,pmp}$：温水暖房用熱源機の送水ポンプの消費電力(W)  \n",
    "$r_{WS,hs}$：1 時間平均の温水暖房用熱源機の温水供給運転率"
   ]
  },
  {
   "cell_type": "markdown",
   "metadata": {},
   "source": [
    "温水暖房用熱源機の送水ポンプの消費電力$P_{hs,pmp}$は、当該住戸の石油温水暖房機が石油従来型温水暖房機の場合は90(W)とし、当該住戸の石油温水暖房機が石油潜熱回収型温水暖房機の場合は70（W）とする。 "
   ]
  },
  {
   "cell_type": "markdown",
   "metadata": {},
   "source": [
    "$$\\large\n",
    "E_{E,hs,fan} = E_{K,hs} \\times \\gamma \\times 10^{3} \\div 3600\n",
    "$$"
   ]
  },
  {
   "cell_type": "markdown",
   "metadata": {},
   "source": [
    "$E_{K,hs}$：1 時間当たりの温水暖房用熱源機の灯油消費量(MJ/h)  \n",
    "$\\gamma$：排気ファンの効率  "
   ]
  },
  {
   "cell_type": "markdown",
   "metadata": {},
   "source": [
    "排気ファンの効率$\\gamma$は0.003とする。"
   ]
  },
  {
   "cell_type": "markdown",
   "metadata": {},
   "source": [
    "#### A.2.3 ガス消費量"
   ]
  },
  {
   "cell_type": "markdown",
   "metadata": {},
   "source": [
    "1 時間当たりの温水暖房用熱源機のガス消費量$E_{G,hs}$は0とする。 "
   ]
  },
  {
   "cell_type": "markdown",
   "metadata": {},
   "source": [
    "#### A.2.4 その他の燃料による一次エネルギー消費量"
   ]
  },
  {
   "cell_type": "markdown",
   "metadata": {},
   "source": [
    "1 時間当たりの温水暖房用熱源機のその他の燃料による一次エネルギー消費量$E_{H,hs}$は0とする。 "
   ]
  },
  {
   "cell_type": "markdown",
   "metadata": {},
   "source": [
    "#### A.3 最大暖房出力"
   ]
  },
  {
   "cell_type": "markdown",
   "metadata": {},
   "source": [
    "$$\\large\n",
    "Q_{max,H,hs} = q_{rtd,hs} \\times 3600 \\div 10^{6} \n",
    "$$"
   ]
  }
 ],
 "metadata": {
  "kernelspec": {
   "display_name": "Python 3",
   "language": "python",
   "name": "python3"
  },
  "language_info": {
   "codemirror_mode": {
    "name": "ipython",
    "version": 3
   },
   "file_extension": ".py",
   "mimetype": "text/x-python",
   "name": "python",
   "nbconvert_exporter": "python",
   "pygments_lexer": "ipython3",
   "version": "3.6.7"
  }
 },
 "nbformat": 4,
 "nbformat_minor": 2
}
