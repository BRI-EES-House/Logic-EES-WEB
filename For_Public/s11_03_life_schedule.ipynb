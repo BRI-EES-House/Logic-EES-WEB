{
 "cells": [
  {
   "cell_type": "markdown",
   "metadata": {},
   "source": [
    "## 第三節　生活スケジュール"
   ]
  },
  {
   "cell_type": "markdown",
   "metadata": {},
   "source": [
    "1．適用範囲～3. 用語の定義は省略"
   ]
  },
  {
   "cell_type": "markdown",
   "metadata": {},
   "source": [
    "### 4．生活スケジュール"
   ]
  },
  {
   "cell_type": "markdown",
   "metadata": {},
   "source": [
    "<div style=\"text-align: center;font-weight: bold;\">表　用途別の生活スケジュールの種類</div>\n",
    "\n",
    "|用途|生活スケジュールの種類|\n",
    "|-|-|\n",
    "|暖冷房|「平日」「休日」|\n",
    "|換気|「平日」「休日在宅」「休日外出」|\n",
    "|照明|「平日」「休日在宅」「休日外出」|\n",
    "|給湯|「平日（大）」「平日（中）」「平日（小）」「休日在宅（大）」「休日在宅（小）」<br>「休日外出」|\n",
    "|家電|「平日」「休日在宅」「休日外出」|\n",
    "|調理|「平日」「休日在宅」「休日外出」|"
   ]
  }
 ],
 "metadata": {
  "kernelspec": {
   "display_name": "Python 3",
   "language": "python",
   "name": "python3"
  },
  "language_info": {
   "codemirror_mode": {
    "name": "ipython",
    "version": 3
   },
   "file_extension": ".py",
   "mimetype": "text/x-python",
   "name": "python",
   "nbconvert_exporter": "python",
   "pygments_lexer": "ipython3",
   "version": "3.6.7"
  }
 },
 "nbformat": 4,
 "nbformat_minor": 2
}
