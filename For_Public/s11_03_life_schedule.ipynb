{
 "cells": [
  {
   "cell_type": "code",
   "execution_count": null,
   "metadata": {},
   "outputs": [],
   "source": [
    "import pandas as pd\n",
    "from functools import lru_cache"
   ]
  },
  {
   "cell_type": "markdown",
   "metadata": {},
   "source": [
    "## 第三節　生活スケジュール"
   ]
  },
  {
   "cell_type": "markdown",
   "metadata": {},
   "source": [
    "1．適用範囲～3. 用語の定義は省略"
   ]
  },
  {
   "cell_type": "markdown",
   "metadata": {},
   "source": [
    "### 4．生活スケジュール"
   ]
  },
  {
   "cell_type": "markdown",
   "metadata": {},
   "source": [
    "<div style=\"text-align: center;font-weight: bold;\">表　用途別の生活スケジュールの種類</div>\n",
    "\n",
    "|用途|生活スケジュールの種類|\n",
    "|-|-|\n",
    "|暖冷房|「平日」「休日」|\n",
    "|換気|「平日」「休日在宅」「休日外出」|\n",
    "|照明|「平日」「休日在宅」「休日外出」|\n",
    "|給湯|「平日（大）」「平日（中）」「平日（小）」「休日在宅（大）」「休日在宅（小）」<br>「休日外出」|\n",
    "|家電|「平日」「休日在宅」「休日外出」|\n",
    "|調理|「平日」「休日在宅」「休日外出」|"
   ]
  },
  {
   "cell_type": "code",
   "execution_count": null,
   "metadata": {},
   "outputs": [],
   "source": [
    "# スケジュール読み込み\n",
    "@lru_cache()\n",
    "def load_schedule():\n",
    "    return pd.read_csv('data/schedule.csv')\n"
   ]
  },
  {
   "cell_type": "code",
   "execution_count": null,
   "metadata": {},
   "outputs": [],
   "source": [
    "# 暖冷房スケジュール\n",
    "def get_schedule_ac(df):\n",
    "    return df['暖冷房'].values\n",
    "\n",
    "\n",
    "# 換気スケジュール\n",
    "def get_schedule_v(df):\n",
    "    return df['換気'].values\n",
    "\n",
    "\n",
    "# 給湯スケジュール\n",
    "def get_schedule_hw(df):\n",
    "    return df['給湯'].values\n",
    "\n",
    "\n",
    "# 照明スケジュール\n",
    "def get_schedule_l(df):\n",
    "    return df['照明'].values\n",
    "\n",
    "\n",
    "# 家電スケジュール\n",
    "def get_schedule_app(df):\n",
    "    return df['家電'].values\n",
    "\n",
    "\n",
    "# 調理スケジュール\n",
    "def get_schedule_cc(df):\n",
    "    return df['調理'].values\n"
   ]
  }
 ],
 "metadata": {
  "kernelspec": {
   "display_name": "Python 3",
   "language": "python",
   "name": "python3"
  },
  "language_info": {
   "codemirror_mode": {
    "name": "ipython",
    "version": 3
   },
   "file_extension": ".py",
   "mimetype": "text/x-python",
   "name": "python",
   "nbconvert_exporter": "python",
   "pygments_lexer": "ipython3",
   "version": "3.6.4"
  }
 },
 "nbformat": 4,
 "nbformat_minor": 2
}
