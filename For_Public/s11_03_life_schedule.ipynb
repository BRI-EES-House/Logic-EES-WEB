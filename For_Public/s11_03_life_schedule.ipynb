{
 "cells": [
  {
   "cell_type": "markdown",
   "metadata": {},
   "source": [
    "使用許諾条件\n",
    "\n",
    "①\t設計一次エネルギー消費量算定法に基づく計算方法をPythonによりコーディングし、Jupyter notebook形式で保存したファイル（以下、本ファイルと呼ぶ）の著作権は、一般社団法人日本サステナブル建築協会に帰属します。\n",
    "Copyright©2019. 一般社団法人日本サステナブル建築協会\n",
    "All rights reserved. \n",
    "\n",
    "②\t本ファイルは、住戸の設計一次エネルギー消費量算定方法に係る「平成28年省エネルギー基準に準拠したエネルギー消費性能の評価に関する技術情報（住宅）2.1算定方法（第十一章第三節 生活スケジュール）」に示す計算方法に基づき、国土交通省国土技術政策総合研究所・国立研究開発法人建築研究所、株式会社ユーワークス、株式会社住環境計画研究所が作成したものです。\n",
    "\n",
    "③\t本ファイルは、計算方法に示す計算過程の確認及び調査研究等に活用することを目的として作成されたものであり、一般社団法人日本サステナブル建築協会は著作権について放棄はしませんが、使用する各人の自己責任において仕様を変更することを妨げるものではありません。ただし、本ファイルによる計算結果を住宅の省エネルギー基準で規定する設計一次エネルギー消費量の結果として公的な申請に用いることはできません。\n",
    "\n",
    "④\t本ファイルを変更するかしないかを問わず、以下の条件を満たす場合に限り、頒布および使用が許可されます。\n",
    "1.\t頒布物の付属ドキュメント等の資料に、上記の著作権表示、本条件一覧、および下記免責条項を含めること。\n",
    "2.\t書面による特別の許可なしに、本ファイルから派生した製品の宣伝または販売の促進に、一般社団法人日本サステナブル建築協会、国土技術政策総合研究所・国立研究開発法人建築研究所および株式会社ユーワークス、株式会社住環境計画研究所の名前またはコントリビューターの名前を使用してはならない。\n",
    "\n",
    "⑤\t本ファイルは、著作権者およびコントリビューターによって「現状のまま」提供されており、明示黙示を問わず、商業的な使用可能性、および特定の目的に対する適合性に関する暗黙の保証も含め、またそれに限定されない、いかなる保証もありません。著作権もコントリビューターも、事由のいかんを問わず、損害発生の原因いかんを問わず、かつ責任の根拠が契約であるか厳格責任であるか（過失その他の）不法行為であるかを問わず、仮にそのような損害が発生する可能性を知らされていたとしても、本ファイルの使用によって発生した（代用品または代用サービスの調達、使用の喪失、データの喪失、利益の喪失、業務の中断も含め、またそれに限定されない）直接損害、間接損害、偶発的な損害、特別損害、懲罰的損害、または結果損害について、一切の責任を負わないものとします。\n",
    "\n"
   ]
  },
  {
   "cell_type": "code",
   "execution_count": null,
   "metadata": {},
   "outputs": [],
   "source": [
    "import pandas as pd\n",
    "from functools import lru_cache"
   ]
  },
  {
   "cell_type": "markdown",
   "metadata": {},
   "source": [
    "## 第三節　生活スケジュール / Section 3 Life schedule"
   ]
  },
  {
   "cell_type": "markdown",
   "metadata": {},
   "source": [
    "1．適用範囲～3. 用語の定義は省略"
   ]
  },
  {
   "cell_type": "markdown",
   "metadata": {},
   "source": [
    "1. Scope of application ~ 3. Definition of terms are omitted"
   ]
  },
  {
   "cell_type": "markdown",
   "metadata": {},
   "source": [
    "### 4．生活スケジュール / Life schedule"
   ]
  },
  {
   "cell_type": "markdown",
   "metadata": {},
   "source": [
    "<div style=\"text-align: center;font-weight: bold;\">表　用途別の生活スケジュールの種類<br>Table: Types of life schedule by application</div>\n",
    "\n",
    "|用途<br>Use|生活スケジュールの種類<br>Kind of life schedule|\n",
    "|-|-|\n",
    "|暖冷房<br>Heating and cooling|「平日」「休日」<br>\"Weekday\" \"holiday\"|\n",
    "|換気<br>ventilation|「平日」「休日在宅」「休日外出」<br>\"Weekdays\" \"Holiday home\" \"Holiday outing\"|\n",
    "|照明<br>illumination|「平日」「休日在宅」「休日外出」<br>\"Weekdays\" \"Holiday home\" \"Holiday outing\"|\n",
    "|給湯<br>Hot water supply|「平日（大）」「平日（中）」「平日（小）」「休日在宅（大）」「休日在宅（小）」「休日外出」<br>\"Weekday (large)\" \"Weekday (middle)\" \"Weekday (small)\"<br> \"Holiday home (large)\" \"Holiday home (small)\" \"Holiday outing\"|\n",
    "|家電<br>Household appliances|「平日」「休日在宅」「休日外出」<br>\"Weekdays\" \"Holiday home\" \"Holiday outing\"|\n",
    "|調理<br>cooking|「平日」「休日在宅」「休日外出」<br>\"Weekdays\" \"Holiday home\" \"Holiday outing\"|"
   ]
  },
  {
   "cell_type": "code",
   "execution_count": null,
   "metadata": {},
   "outputs": [],
   "source": [
    "# スケジュール読み込み\n",
    "@lru_cache()\n",
    "def load_schedule():\n",
    "    return pd.read_csv('data/schedule.csv')\n"
   ]
  },
  {
   "cell_type": "code",
   "execution_count": null,
   "metadata": {},
   "outputs": [],
   "source": [
    "# 暖冷房スケジュール\n",
    "def get_schedule_ac(df):\n",
    "    return df['暖冷房'].values\n",
    "\n",
    "\n",
    "# 換気スケジュール\n",
    "def get_schedule_v(df):\n",
    "    return df['換気'].values\n",
    "\n",
    "\n",
    "# 給湯スケジュール\n",
    "def get_schedule_hw(df):\n",
    "    return df['給湯'].values\n",
    "\n",
    "\n",
    "# 照明スケジュール\n",
    "def get_schedule_l(df):\n",
    "    return df['照明'].values\n",
    "\n",
    "\n",
    "# 家電スケジュール\n",
    "def get_schedule_app(df):\n",
    "    return df['家電'].values\n",
    "\n",
    "\n",
    "# 調理スケジュール\n",
    "def get_schedule_cc(df):\n",
    "    return df['調理'].values\n"
   ]
  }
 ],
 "metadata": {
  "kernelspec": {
   "display_name": "Python 3",
   "language": "python",
   "name": "python3"
  },
  "language_info": {
   "codemirror_mode": {
    "name": "ipython",
    "version": 3
   },
   "file_extension": ".py",
   "mimetype": "text/x-python",
   "name": "python",
   "nbconvert_exporter": "python",
   "pygments_lexer": "ipython3",
   "version": "3.6.6"
  }
 },
 "nbformat": 4,
 "nbformat_minor": 2
}
