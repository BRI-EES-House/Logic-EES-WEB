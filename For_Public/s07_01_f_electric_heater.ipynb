{
 "cells": [
  {
   "cell_type": "markdown",
   "metadata": {},
   "source": [
    "## 付録F　電気ヒーター給湯機及び電気ヒーター給湯温水暖房機の給湯部"
   ]
  },
  {
   "cell_type": "markdown",
   "metadata": {},
   "source": [
    "### F.1 記号及び単位"
   ]
  },
  {
   "cell_type": "markdown",
   "metadata": {},
   "source": [
    "省略"
   ]
  },
  {
   "cell_type": "markdown",
   "metadata": {},
   "source": [
    "### F.2 消費電力量"
   ]
  },
  {
   "cell_type": "markdown",
   "metadata": {},
   "source": [
    "1日当たりの沸き上げ時間$ \\Delta t_{wh} $は8時間とする。"
   ]
  },
  {
   "cell_type": "markdown",
   "metadata": {},
   "source": [
    "$$\\large\n",
    "E_{E,hs,d,t} = \\left\\{ \\begin{array}{ll}\n",
    "    (a \\times \\theta_{ex,Ave,d} + b \\times L''_{d} + c) \\div 3.6 \\div \\Delta t_{wh} & \\big(t=0～6 \\big)\\\\ \n",
    "    0 & \\big(t=7～22 \\big)\\\\ \n",
    "    (a \\times \\theta_{ex,Ave,d+1} + b \\times L''_{d+1} + c) \\div 3.6 \\div \\Delta t_{wh} & \\big(t=23 \\big)\\\\ \n",
    "    \\end{array}\n",
    "\\right.\n",
    "$$"
   ]
  },
  {
   "cell_type": "markdown",
   "metadata": {},
   "source": [
    "$E_{E,hs,d,t}$：日付$d$の時刻$t$における1時間当たりの給湯機の消費電力量(kWh/h)  \n",
    "$L''_{d}$：日付$d$における1 日当たりの太陽熱補正給湯熱負荷(MJ/d)  \n",
    "$\\Delta t_{wh}$：1日当たりの沸き上げ時間(h/d)  \n",
    "$\\theta_{ex,Ave,d}$：日付$d$における日平均外気温度(℃)  \n",
    "$a, b, c$：係数(-)  "
   ]
  },
  {
   "cell_type": "markdown",
   "metadata": {},
   "source": [
    "日付$d$が12月31日の場合、日付$d+1$は1月1日と読み替える。"
   ]
  },
  {
   "cell_type": "markdown",
   "metadata": {},
   "source": [
    "<div style=\"text-align: center;font-weight: bold;\">表　係数</div>\n",
    "\n",
    "<table>\n",
    "<tr><th>a</th><td>-0.13801</td></tr>\n",
    "<tr><th>b</th><td>0.975853</td></tr>\n",
    "<tr><th>c</th><td>13.7426</td></tr>\n",
    "</table>\n"
   ]
  },
  {
   "cell_type": "markdown",
   "metadata": {},
   "source": [
    "### F.3 ガス消費量"
   ]
  },
  {
   "cell_type": "markdown",
   "metadata": {},
   "source": [
    "日付$d$の時刻$t$における 1時間当たりの給湯機のガス消費量$E_{G,hs,d,t}$は0とする。"
   ]
  },
  {
   "cell_type": "markdown",
   "metadata": {},
   "source": [
    "### F.4 灯油消費量 "
   ]
  },
  {
   "cell_type": "markdown",
   "metadata": {},
   "source": [
    "日付$d$の時刻$t$における 1時間当たりの給湯機の灯油消費量$E_{K,hs,d,t}$は0とする。"
   ]
  },
  {
   "cell_type": "markdown",
   "metadata": {},
   "source": [
    "### F.5 １日当たりの太陽熱補正給湯熱負荷"
   ]
  },
  {
   "cell_type": "markdown",
   "metadata": {},
   "source": [
    "$$\\large\n",
    "\\displaystyle\n",
    "L''_{d} = L''_{k,d}+L''_{s,d}+L''_{w,d}+L''_{b1,d}+L''_{b2,d}+L''_{ba1,d}+L''_{ba2,d}\n",
    "$$"
   ]
  },
  {
   "cell_type": "markdown",
   "metadata": {},
   "source": [
    "$ L''_{d} $：日付$d$における1 日当たりの太陽熱補正給湯熱負荷(MJ/d)  \n",
    "$ L''_{k,d} $：日付$d$における1 日当たりの台所水栓における太陽熱補正給湯熱負荷(MJ/d)  \n",
    "$ L''_{s,d} $：日付$d$における1 日当たりの浴室シャワー水栓における太陽熱補正給湯熱負荷(MJ/d)  \n",
    "$ L''_{w,d} $：日付$d$における1 日当たりの洗面水栓における太陽熱補正給湯熱負荷(MJ/d)  \n",
    "$ L''_{b1,d} $：日付$d$における1 日当たりの浴槽水栓湯はり時における太陽熱補正給湯熱負荷(MJ/d)  \n",
    "$ L''_{b2,d} $：日付$d$における1 日当たりの浴槽自動湯はり時における太陽熱補正給湯熱負荷(MJ/d)  \n",
    "$ L''_{ba1,d} $：日付$d$における1 日当たりの浴槽水栓さし湯時における太陽熱補正給湯熱負荷(MJ/d)  \n",
    "$ L''_{ba2,d} $：日付$d$における1 日当たりの浴槽追焚時における太陽熱補正給湯熱負荷(MJ/d)  "
   ]
  },
  {
   "cell_type": "markdown",
   "metadata": {},
   "source": [
    "$$\\large\n",
    "L''_{k,d} = \\sum_{t=0}^{23} L''_{k,d,t}\n",
    "$$\n",
    "\n",
    "$$\\large\n",
    "L''_{s,d} = \\sum_{t=0}^{23} L''_{s,d,t}\n",
    "$$\n",
    "\n",
    "$$\\large\n",
    "L''_{w,d} = \\sum_{t=0}^{23} L''_{w,d,t}\n",
    "$$\n",
    "\n",
    "$$\\large\n",
    "L''_{b1,d} = \\sum_{t=0}^{23} L''_{b1,d,t}\n",
    "$$\n",
    "\n",
    "$$\\large\n",
    "L''_{b2,d} = \\sum_{t=0}^{23} L''_{b2,d,t}\n",
    "$$\n",
    "\n",
    "$$\\large\n",
    "L''_{ba1,d} = \\sum_{t=0}^{23} L''_{ba1,d,t}\n",
    "$$\n",
    "\n",
    "$$\\large\n",
    "L''_{ba2,d} = \\sum_{t=0}^{23} L''_{ba2,d,t}\n",
    "$$"
   ]
  },
  {
   "cell_type": "markdown",
   "metadata": {},
   "source": [
    "$L''_{k,d}$：：日付$d$における1 日当たりの台所水栓における太陽熱補正給湯熱負荷(MJ/d)  \n",
    "$L''_{s,d}$：：日付$d$における1 日当たりの浴室シャワー水栓における太陽熱補正給湯熱負荷(MJ/d)  \n",
    "$L''_{w,d}$：：日付$d$における1 日当たりの洗面水栓における太陽熱補正給湯熱負荷(MJ/d)  \n",
    "$L''_{b1,d}$：：日付$d$における1 日当たりの浴槽水栓湯はり時における太陽熱補正給湯熱負荷(MJ/d)  \n",
    "$L''_{b2,d}$：：日付$d$における1 日当たりの浴槽自動湯はり時における太陽熱補正給湯熱負荷(MJ/d)  \n",
    "$L''_{ba1,d}$：日付$d$における1 日当たりの浴槽水栓さし湯時における太陽熱補正給湯熱負荷(MJ/d)  \n",
    "$L''_{ba2,d}$：日付$d$における1 日当たりの浴槽追焚時における太陽熱補正給湯熱負荷(MJ/d)  \n",
    "$ L''_{k,d,t} $：日付$d$の時刻$t$における 1時間当たりの台所水栓における太陽熱補正給湯熱負荷(MJ/h)  \n",
    "$ L''_{s,d,t} $：日付$d$の時刻$t$における 1時間当たりの浴室シャワー水栓における太陽熱補正給湯熱負荷(MJ/h)  \n",
    "$ L''_{w,d,t} $：日付$d$の時刻$t$における 1時間当たりの洗面水栓における太陽熱補正給湯熱負荷(MJ/h)  \n",
    "$ L''_{b1,d,t} $：日付$d$の時刻$t$における 1時間当たりの浴槽水栓湯はり時における太陽熱補正給湯熱負荷(MJ/h)  \n",
    "$ L''_{b2,d,t} $：日付$d$の時刻$t$における 1時間当たりの浴槽自動湯はり時における太陽熱補正給湯熱負荷(MJ/h)  \n",
    "$ L''_{ba1,d,t} $：日付$d$の時刻$t$における 1時間当たりの浴槽水栓さし湯時における太陽熱補正給湯熱負荷(MJ/h)  \n",
    "$ L''_{ba2,d,t} $：日付$d$の時刻$t$における 1時間当たりの浴槽追焚時における太陽熱補正給湯熱負荷(MJ/h)  "
   ]
  }
 ],
 "metadata": {
  "kernelspec": {
   "display_name": "Python 3",
   "language": "python",
   "name": "python3"
  },
  "language_info": {
   "codemirror_mode": {
    "name": "ipython",
    "version": 3
   },
   "file_extension": ".py",
   "mimetype": "text/x-python",
   "name": "python",
   "nbconvert_exporter": "python",
   "pygments_lexer": "ipython3",
   "version": "3.6.7"
  }
 },
 "nbformat": 4,
 "nbformat_minor": 2
}
