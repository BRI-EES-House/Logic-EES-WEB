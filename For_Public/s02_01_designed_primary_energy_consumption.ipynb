{
 "cells": [
  {
   "cell_type": "markdown",
   "metadata": {},
   "source": [
    "# 第二章　単位住戸の一次エネルギー消費量"
   ]
  },
  {
   "cell_type": "markdown",
   "metadata": {},
   "source": [
    "## 第一節　全般"
   ]
  },
  {
   "cell_type": "markdown",
   "metadata": {},
   "source": [
    "1．適用範囲～4．記号及び単位は省略"
   ]
  },
  {
   "cell_type": "markdown",
   "metadata": {},
   "source": [
    "### 5．住戸の床面積並びに主たる居室、その他の居室及び非居室の定義"
   ]
  },
  {
   "cell_type": "markdown",
   "metadata": {},
   "source": [
    "省略"
   ]
  },
  {
   "cell_type": "markdown",
   "metadata": {},
   "source": [
    "### 6．電気の量 1kWh を熱量に換算する係数"
   ]
  },
  {
   "cell_type": "markdown",
   "metadata": {},
   "source": [
    "省略"
   ]
  },
  {
   "cell_type": "markdown",
   "metadata": {},
   "source": [
    "### 7．仮想居住人数"
   ]
  },
  {
   "cell_type": "markdown",
   "metadata": {},
   "source": [
    "省略"
   ]
  },
  {
   "cell_type": "markdown",
   "metadata": {},
   "source": [
    "### 8．設計一次エネルギー消費量"
   ]
  },
  {
   "cell_type": "markdown",
   "metadata": {},
   "source": [
    "$$\n",
    "\\large \n",
    "E_{T} = E_{T}^* \\times 10^{-3}\n",
    "$$"
   ]
  },
  {
   "cell_type": "markdown",
   "metadata": {},
   "source": [
    "$E_{T}$：設計一次エネルギー消費量(GJ/年)  \n",
    "$E_{T}^*$：設計一次エネルギー消費量(MJ/年)  "
   ]
  },
  {
   "cell_type": "markdown",
   "metadata": {},
   "source": [
    "設計一次エネルギー消費量$E_{T}$は、数値に小数点以下一位未満の端数があるときは、これを切り上げる。 "
   ]
  },
  {
   "cell_type": "markdown",
   "metadata": {},
   "source": [
    "### 9．基準一次エネルギー消費量"
   ]
  },
  {
   "cell_type": "markdown",
   "metadata": {},
   "source": [
    "$$\n",
    "\\large \n",
    "E_{ST} = E_{ST}^* \\times 10^{-3}\n",
    "$$"
   ]
  },
  {
   "cell_type": "markdown",
   "metadata": {},
   "source": [
    "$E_{ST}$：基準一次エネルギー消費量(GJ/年)  \n",
    "$E_{ST}^*$：基準一次エネルギー消費量(MJ/年)  "
   ]
  },
  {
   "cell_type": "markdown",
   "metadata": {},
   "source": [
    "基準一次エネルギー消費量$E_{ST}$は、数値に小数点以下一位未満の端数があるときは、これを切り上げる。"
   ]
  },
  {
   "cell_type": "markdown",
   "metadata": {},
   "source": [
    "### 10．BEI (Building Energy Index）"
   ]
  },
  {
   "cell_type": "markdown",
   "metadata": {},
   "source": [
    "$$\n",
    "\\large \n",
    "BEI = \\frac{E'_{T}}{E'_{ST}}\n",
    "$$\n",
    "\n",
    "$$\n",
    "\\large \n",
    "E'_{T} = (E^*_{T} - E_{M}) / 1000\n",
    "$$\n",
    "\n",
    "$$\n",
    "\\large \n",
    "E'_{ST} = (E^*_{ST} - E_{SM}) / 1000\n",
    "$$"
   ]
  },
  {
   "cell_type": "markdown",
   "metadata": {},
   "source": [
    "$BEI$：Building Energy Index(-)  \n",
    "$E_{ST}^*$：基準一次エネルギー消費量(MJ/年)  \n",
    "$E'_{ST}$：その他の基準一次エネルギー消費量を除いた基準一次エネルギー消費量(GJ/年)  \n",
    "$E_{SM}$：1 年当たりのその他の基準一次エネルギー消費量(MJ/年)  \n",
    "$E_{T}^*$：設計一次エネルギー消費量(MJ/年)  \n",
    "$E'_{T}$：その他の設計一次エネルギー消費量を除いた設計一次エネルギー消費量(GJ/年)  \n",
    "$E_{M}$：1 年当たりのその他の設計一次エネルギー消費量(MJ/年)  "
   ]
  },
  {
   "cell_type": "markdown",
   "metadata": {},
   "source": [
    "その他の基準一次エネルギー消費量を除いた基準一次エネルギー消費量$E'_{ST}$ およびその他の設計一次エネルギー消費量を除いた設計一次エネルギー消費量$E'_{T}$は、数値に小数点以下一位未満の端数があるときは、これを切り上げる。$BEI$は、数値に小数点以下二位未満の端数があるときは、これを切り上げる。"
   ]
  },
  {
   "cell_type": "markdown",
   "metadata": {},
   "source": [
    "## 付録 A 「主たる居室」、「その他の居室」及び「非居室」の定義並びに各床面積及び床面積の合計の算出方法"
   ]
  },
  {
   "cell_type": "markdown",
   "metadata": {},
   "source": [
    "省略"
   ]
  },
  {
   "cell_type": "markdown",
   "metadata": {},
   "source": [
    "## 付録 B 電気の量 1kWh を熱量に換算する係数"
   ]
  },
  {
   "cell_type": "markdown",
   "metadata": {},
   "source": [
    "電気の量1kWhを熱量に換算する係数は、1キロワット時につき 9760キロジュールを使用するものとする。"
   ]
  },
  {
   "cell_type": "markdown",
   "metadata": {},
   "source": [
    "## 付録 C 仮想居住人数"
   ]
  },
  {
   "cell_type": "markdown",
   "metadata": {},
   "source": [
    "$$\n",
    "\\large\n",
    "n_{p} = \\left\\{\n",
    "\\begin{array}{ll}\n",
    "1.0 & (A_A < 30)\\\\\n",
    "A_A \\div 30 & (30 \\leq A_A < 120)\\\\\n",
    "4.0 & (120 \\leq A_A)\n",
    "\\end{array}\n",
    "\\right.\n",
    "$$"
   ]
  },
  {
   "cell_type": "markdown",
   "metadata": {},
   "source": [
    "$n_{p}$：仮想居住人数  \n",
    "$A_A$：床面積の合計(m<sup>2</sup>)  "
   ]
  }
 ],
 "metadata": {
  "kernelspec": {
   "display_name": "Python 3",
   "language": "python",
   "name": "python3"
  },
  "language_info": {
   "codemirror_mode": {
    "name": "ipython",
    "version": 3
   },
   "file_extension": ".py",
   "mimetype": "text/x-python",
   "name": "python",
   "nbconvert_exporter": "python",
   "pygments_lexer": "ipython3",
   "version": "3.6.7"
  }
 },
 "nbformat": 4,
 "nbformat_minor": 2
}
