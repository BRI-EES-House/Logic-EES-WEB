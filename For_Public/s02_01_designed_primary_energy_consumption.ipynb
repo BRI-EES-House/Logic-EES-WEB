{
 "cells": [
  {
   "cell_type": "code",
   "execution_count": null,
   "metadata": {},
   "outputs": [],
   "source": [
    "import numpy as np\n",
    "from math import ceil\n",
    "\n",
    "from section2_1_b import get_f_prim\n",
    "from section2_2 import get_E_T_star, get_E_H, get_E_C, get_E_W, get_E_L, get_E_V, get_E_M, get_heating_load, get_cooling_load, \\\n",
    "    get_virtual_heating_devices, get_virtual_heatsource, get_heating_mode, calc_L_HWH, get_E_E, get_E_G, get_E_K, \\\n",
    "    get_E_UT_H, calc_E_S, get_E_E_CG_h\n",
    "from section2_3 import get_E_ST_star, calc_E_SH, calc_E_SC, calc_E_SV, calc_E_SW, calc_E_SL, calc_E_SM\n",
    "from section3_1 import get_Q\n",
    "from section3_2 import calc_insulation_performance\n",
    "from section7_1_b import get_virtual_hotwater"
   ]
  },
  {
   "cell_type": "markdown",
   "metadata": {},
   "source": [
    "# 第二章　単位住戸の一次エネルギー消費量 / Chapter 2 Designed Primary Energy Consumption"
   ]
  },
  {
   "cell_type": "markdown",
   "metadata": {},
   "source": [
    "## 第一節　全般 / Section 1 General"
   ]
  },
  {
   "cell_type": "markdown",
   "metadata": {},
   "source": [
    "1．適用範囲～4．記号及び単位は省略"
   ]
  },
  {
   "cell_type": "markdown",
   "metadata": {},
   "source": [
    "1. Scope of application ~ 4. Symbols and units are omitted"
   ]
  },
  {
   "cell_type": "markdown",
   "metadata": {},
   "source": [
    "### 5．住戸の床面積並びに主たる居室、その他の居室及び非居室の定義 / Floor area of dwelling unit and definition of main living room, other living room and non-living room"
   ]
  },
  {
   "cell_type": "markdown",
   "metadata": {},
   "source": [
    "省略"
   ]
  },
  {
   "cell_type": "markdown",
   "metadata": {},
   "source": [
    "Omission"
   ]
  },
  {
   "cell_type": "markdown",
   "metadata": {},
   "source": [
    "### 6．電気の量 1kWh を熱量に換算する係数 / A factor to convert 1kWh of electricity into heat"
   ]
  },
  {
   "cell_type": "markdown",
   "metadata": {},
   "source": [
    "省略"
   ]
  },
  {
   "cell_type": "markdown",
   "metadata": {},
   "source": [
    "Omission"
   ]
  },
  {
   "cell_type": "markdown",
   "metadata": {},
   "source": [
    "### 7．仮想居住人数 / Virtual number of people"
   ]
  },
  {
   "cell_type": "markdown",
   "metadata": {},
   "source": [
    "省略"
   ]
  },
  {
   "cell_type": "markdown",
   "metadata": {},
   "source": [
    "Omission"
   ]
  },
  {
   "cell_type": "markdown",
   "metadata": {},
   "source": [
    "### 8．設計一次エネルギー消費量 / Design primary energy consumption"
   ]
  },
  {
   "cell_type": "markdown",
   "metadata": {},
   "source": [
    "$$\n",
    "\\large \n",
    "E_{T} = E_{T}^* \\times 10^{-3}\n",
    "$$"
   ]
  },
  {
   "cell_type": "code",
   "execution_count": null,
   "metadata": {},
   "outputs": [],
   "source": [
    "# ============================================================================\n",
    "# 8. 設計一次エネルギー消費量\n",
    "# ============================================================================\n",
    "\n",
    "def calc_E_T(spec):\n",
    "    E_H = None\n",
    "    E_C = None\n",
    "    E_W = None\n",
    "    E_L = None\n",
    "    E_V = None\n",
    "    E_M = None\n",
    "    E_gen = None\n",
    "    E_E_gen = None\n",
    "    E_S = None\n",
    "\n",
    "    E_E = None\n",
    "    E_G = None\n",
    "    E_K = None\n",
    "    UPL = None\n",
    "\n",
    "    # ---- 事前データ読み込み ----\n",
    "\n",
    "    # 日射量データの読み込み\n",
    "    from section11_2 import load_solrad\n",
    "    from section9_1 import get_E_E_PV_d_t\n",
    "\n",
    "    solrad = None\n",
    "    if (spec['SHC'] is not None or spec['PV'] is not None) and 'sol_region' in spec:\n",
    "        if spec['sol_region'] is not None:\n",
    "            solrad = load_solrad(spec['region'], spec['sol_region'])\n",
    "\n",
    "    # ハイブリッド給湯機の仕様読み込み\n",
    "    if spec['HW'] is not None and 'package_id' in spec['HW']:\n",
    "        import section7_1_g_3\n",
    "        section7_1_g_3.load_specification('HybridWaterHeater_package_list_TestCaseTest_sample.csv')\n",
    "\n",
    "    # ---- 外皮の計算 ----\n",
    "\n",
    "    # 外皮の断熱性能の計算\n",
    "    if spec['ENV'] is not None:\n",
    "        U_A, _, _, _, Q_dash, eta_H, eta_C, _ = calc_insulation_performance(**spec['ENV'])\n",
    "        # 熱損失係数\n",
    "        Q = get_Q(Q_dash)\n",
    "    else:\n",
    "        Q = None\n",
    "        eta_H, eta_C = None, None\n",
    "\n",
    "    # ---- 暖房設備 ----\n",
    "\n",
    "    # 1 時間当たりの暖房設備の設計一次エネルギー消費量\n",
    "\n",
    "    # 実質的な暖房機器の仕様を取得\n",
    "    spec_MR, spec_OR = get_virtual_heating_devices(spec['region'], spec['H_MR'], spec['H_OR'])\n",
    "\n",
    "    # 実質的な温水暖房機の仕様を取得\n",
    "    spec_HS = get_virtual_heatsource(spec['region'], spec['H_HS'])\n",
    "\n",
    "    # 暖房方式及び運転方法の区分\n",
    "    mode_MR, mode_OR = get_heating_mode(region=spec['region'], H_MR=spec_MR, H_OR=spec_OR)\n",
    "\n",
    "    # 暖房負荷の取得\n",
    "    L_H_A_d_t, L_T_H_d_t_i, L_dash_H_R_d_t_i = get_heating_load(\n",
    "        spec['region'], spec['sol_region'],\n",
    "        spec['A_A'], spec['A_MR'], spec['A_OR'],\n",
    "        Q, eta_H, spec['TS'], spec['r_A_ufvnt'], spec['HEX'],\n",
    "        spec['underfloor_insulation'], spec['mode_H'],\n",
    "        spec_MR, spec_OR, mode_MR, mode_OR, spec['SHC'])\n",
    "\n",
    "    # 暖房日の計算\n",
    "    if spec['SHC'] is not None and spec['SHC']['type'] == '空気集熱式':\n",
    "        from section3_1_heatingday import get_heating_flag_d\n",
    "\n",
    "        heating_flag_d = get_heating_flag_d(L_dash_H_R_d_t_i)\n",
    "    else:\n",
    "        heating_flag_d = None\n",
    "\n",
    "    E_H = get_E_H(spec['region'], spec['sol_region'], spec['A_A'], spec['A_MR'], spec['A_OR'],\n",
    "                  spec['mode_H'],\n",
    "                  spec['H_A'], spec_MR, spec_OR, spec_HS, mode_MR, mode_OR, spec['CG'], spec['SHC'],\n",
    "                  heating_flag_d, L_H_A_d_t, L_T_H_d_t_i)\n",
    "\n",
    "    # 暖房設備の未処理暖房負荷の設計一次エネルギー消費量相当値\n",
    "    UPL = get_E_UT_H(spec['region'], spec['A_A'], spec['A_MR'], spec['A_OR'], spec['mode_H'],\n",
    "                     spec['H_A'], spec_MR, spec_OR, spec_HS, mode_MR, mode_OR, spec['CG'],\n",
    "                     L_H_A_d_t, L_T_H_d_t_i)\n",
    "    UPL = np.sum(UPL)\n",
    "\n",
    "    # 温水暖房負荷の計算\n",
    "    L_HWH = calc_L_HWH(spec['A_A'], spec['A_MR'], spec['A_OR'], spec['HEX'], spec['H_HS'], spec['H_MR'],\n",
    "                           spec['H_OR'], Q, spec['SHC'], spec['TS'], eta_H, spec['r_A_ufvnt'],\n",
    "                           spec['region'], spec['sol_region'], spec['underfloor_insulation'],\n",
    "                           spec['CG'])\n",
    "\n",
    "    # ---- 冷房設備 ----\n",
    "\n",
    "    # 冷房負荷の計算\n",
    "    L_CS_A_d_t, L_CL_A_d_t, L_CS_d_t, L_CL_d_t = \\\n",
    "        get_cooling_load(spec['region'], spec['A_A'], spec['A_MR'], spec['A_OR'], Q, eta_C,\n",
    "                         spec['NV_MR'], spec['NV_OR'], spec['r_A_ufvnt'], spec['underfloor_insulation'],\n",
    "                         spec['mode_C'])\n",
    "\n",
    "    # 1 年当たりの冷房設備の設計一次エネルギー消費量\n",
    "    E_C = get_E_C(spec['region'], spec['A_A'], spec['A_MR'], spec['A_OR'],\n",
    "                  spec['C_A'], spec['C_MR'], spec['C_OR'],\n",
    "                  L_CS_A_d_t, L_CL_A_d_t, L_CS_d_t, L_CL_d_t)\n",
    "\n",
    "\n",
    "    # ---- 給湯/コージェネ設備 ----\n",
    "\n",
    "    # その他または設置しない場合\n",
    "    spec_HW = get_virtual_hotwater(spec['region'], spec['HW'])\n",
    "\n",
    "    # 1 年当たりの給湯設備（コージェネレーション設備を含む）の設計一次エネルギー消費量\n",
    "    E_W, E_E_CG_gen_d_t, _, E_E_TU_aux_d_t, E_E_CG_h_d_t, E_G_CG_ded, e_BB_ave, Q_CG_h \\\n",
    "            = get_E_W(spec['A_A'], spec['region'], spec['sol_region'], spec_HW, spec['SHC'], spec['CG'],\n",
    "                      spec['H_A'],\n",
    "                      spec['H_MR'], spec['H_OR'], spec['H_HS'], spec['C_A'], spec['C_MR'], spec['C_OR'],\n",
    "                      spec['V'],\n",
    "                      spec['L'], spec['A_MR'], spec['A_OR'], Q, eta_H, eta_C,\n",
    "                      spec['NV_MR'],\n",
    "                      spec['NV_OR'], spec['TS'], spec['r_A_ufvnt'], spec['HEX'],\n",
    "                      spec['underfloor_insulation'],\n",
    "                      spec['mode_H'], spec['mode_C'])\n",
    "\n",
    "    # ---- 照明,換気,その他設備 ----\n",
    "\n",
    "    # 1 年当たりの照明設備の設計一次エネルギー消費量\n",
    "    E_L = get_E_L(spec['A_A'], spec['A_MR'], spec['A_OR'], spec['L'])\n",
    "\n",
    "    # 1 年当たりの機械換気設備の設計一次エネルギー消費量\n",
    "    E_V = get_E_V(spec['A_A'], spec['V'], spec['HEX'])\n",
    "\n",
    "    # 1年当たりのその他の設計一次エネルギー消費量\n",
    "    E_M = get_E_M(spec['A_A'])\n",
    "\n",
    "    # ---- 二次エネの計算 ----\n",
    "\n",
    "    # 1 年当たりの設計消費電力量（kWh/年）\n",
    "    E_E, E_E_PV_h_d_t, E_E_PV_d_t, E_E_CG_gen_d_t, E_E_CG_h_d_t, E_E_dmd_d_t, E_E_TU_aux_d_t = \\\n",
    "                get_E_E(spec['region'], spec['sol_region'], spec['A_A'], spec['A_MR'], spec['A_OR'],\n",
    "                        spec_HW, Q, spec['TS'], eta_H, eta_C, spec['r_A_ufvnt'],\n",
    "                        spec['underfloor_insulation'], spec['NV_MR'], spec['NV_OR'],\n",
    "                        spec['mode_H'], spec['mode_C'],\n",
    "                        spec['V'], spec['L'],\n",
    "                        spec['H_A'], spec['H_MR'], spec['H_OR'], spec['H_HS'],\n",
    "                        spec['CG'], spec['SHC'],\n",
    "                        L_H_A_d_t, L_T_H_d_t_i,\n",
    "                        spec['C_A'], spec['C_MR'], spec['C_OR'], L_CS_A_d_t, L_CL_A_d_t,\n",
    "                        L_CS_d_t, L_CL_d_t,\n",
    "                        spec['HEX'], spec['PV'], solrad\n",
    "                        )\n",
    "    f_prim = get_f_prim()\n",
    "    E_gen = (np.sum(E_E_PV_d_t) + np.sum(E_E_CG_gen_d_t)) * f_prim / 1000\n",
    "\n",
    "    # 1 年当たりの設計ガス消費量（MJ/年）\n",
    "    E_G = get_E_G(spec['region'], spec['sol_region'], spec['A_A'], spec['A_MR'], spec['A_OR'],\n",
    "                          Q, eta_H, eta_C, spec['NV_MR'], spec['NV_OR'], spec['TS'],\n",
    "                          spec['r_A_ufvnt'], spec['HEX'], spec['underfloor_insulation'],\n",
    "                          spec['H_A'], spec['H_MR'], spec['H_OR'], spec['H_HS'], spec['C_A'], spec['C_MR'],\n",
    "                          spec['C_OR'], spec['V'], spec['L'], spec_HW, spec['SHC'],\n",
    "                          spec_MR, spec_OR, spec_HS, mode_MR, mode_OR, spec['mode_H'], spec['mode_C'],\n",
    "                          spec['CG'],\n",
    "                          L_T_H_d_t_i, L_HWH, heating_flag_d)\n",
    "\n",
    "    # 1 年当たりの設計灯油消費量（MJ/年）\n",
    "    E_K = get_E_K(spec['region'], spec['sol_region'], spec['A_A'], spec['A_MR'], spec['A_OR'],\n",
    "                          spec['H_A'],\n",
    "                          spec_MR, spec_OR, spec_HS, mode_MR, mode_OR, spec['CG'],\n",
    "                          L_T_H_d_t_i,\n",
    "                          L_HWH, heating_flag_d, spec_HW, spec['SHC'])\n",
    "\n",
    "    # ---- エネルギー利用効率化の評価 ----\n",
    "\n",
    "    # エネルギー利用効率化設備による設計一次エネルギー消費量の削減量\n",
    "    E_E_CG_h = get_E_E_CG_h(E_E_CG_h_d_t)\n",
    "    E_S = calc_E_S(spec['region'], spec['sol_region'], spec['PV'], spec['CG'], E_E_dmd_d_t, E_E_CG_gen_d_t,\n",
    "                   E_E_TU_aux_d_t, E_E_CG_h, E_G_CG_ded, e_BB_ave, Q_CG_h)\n",
    "\n",
    "    E_E_gen = np.sum(get_E_E_PV_d_t(spec['PV'], solrad) + E_E_CG_gen_d_t)\n",
    "\n",
    "    # ---- 合計 ----\n",
    "\n",
    "    E_T = get_E_T(E_H, E_C, E_V, E_L, E_W, E_S, E_M)\n",
    "\n",
    "    return E_T, E_H, E_C, E_V, E_L, E_W, E_S, E_M, UPL, E_gen, E_E_gen, E_E_PV_h_d_t, E_E, E_G, E_K\n",
    "\n",
    "\n",
    "# 設計一次エネルギー消費量（GJ/年）(1)\n",
    "def get_E_T(E_H, E_C, E_V, E_L, E_W, E_S, E_M):\n",
    "    # 1 年当たりの設計一次エネルギー消費量（MJ/年）(s2-2-1)\n",
    "    E_T_star = get_E_T_star(E_H, E_C, E_V, E_L, E_W, E_S, E_M)\n",
    "\n",
    "    # 小数点以下一位未満の端数があるときはこれを切り上げる\n",
    "    E_T = ceil(E_T_star / 100) / 10  # (1)\n",
    "\n",
    "    return E_T"
   ]
  },
  {
   "cell_type": "markdown",
   "metadata": {},
   "source": [
    "$E_{T}$：設計一次エネルギー消費量(GJ/年) / Design primary energy consumption  \n",
    "$E_{T}^*$：設計一次エネルギー消費量(MJ/年) / Design primary energy consumption  "
   ]
  },
  {
   "cell_type": "markdown",
   "metadata": {},
   "source": [
    "設計一次エネルギー消費量$E_{T}$は、数値に小数点以下一位未満の端数があるときは、これを切り上げる。 "
   ]
  },
  {
   "cell_type": "markdown",
   "metadata": {},
   "source": [
    "Design Primary Energy Consumption $ E_{T} $ is rounded up if the number has a fraction less than one decimal place."
   ]
  },
  {
   "cell_type": "markdown",
   "metadata": {},
   "source": [
    "### 9．基準一次エネルギー消費量 / Standard primary energy consumption"
   ]
  },
  {
   "cell_type": "markdown",
   "metadata": {},
   "source": [
    "$$\n",
    "\\large \n",
    "E_{ST} = E_{ST}^* \\times 10^{-3}\n",
    "$$"
   ]
  },
  {
   "cell_type": "code",
   "execution_count": null,
   "metadata": {},
   "outputs": [],
   "source": [
    "# ============================================================================\n",
    "# 9. 基準一次エネルギー消費量\n",
    "# ============================================================================\n",
    "\n",
    "def calc_E_ST(spec):\n",
    "    # 1年当たりの機械換気設備の基準一次エネルギー消費量\n",
    "    E_SV = calc_E_SV(spec['A_A'])\n",
    "\n",
    "    # 1 時間当たりの暖房設備の設計一次エネルギー消費量\n",
    "    E_SH = calc_E_SH(spec['type'], spec['tatekata'], spec['region'], spec['sol_region'], spec['A_A'],\n",
    "                     spec['A_MR'], spec['A_OR'], spec['ENV'], spec['mode_H'], spec['H_MR'], spec['H_OR'])\n",
    "\n",
    "    # 1 時間当たりの冷房設備の設計一次エネルギー消費量\n",
    "    E_SC = calc_E_SC(spec['type'], spec['tatekata'], spec['region'], spec['A_A'], spec['A_MR'],\n",
    "                     spec['A_OR'], spec['ENV'], spec['mode_C'])\n",
    "\n",
    "    # 1年当たりの照明設備の基準一次エネルギー消費量\n",
    "    E_SW = calc_E_SW(spec['region'], spec['A_A'], spec['HW'])\n",
    "\n",
    "    # 1年当たりの照明設備の基準一次エネルギー消費量\n",
    "    E_SL = calc_E_SL(spec['A_A'], spec['A_MR'], spec['A_OR'])\n",
    "\n",
    "    # 1年当たりのその他の基準一次エネルギー消費量\n",
    "    E_SM = calc_E_SM(spec['A_A'])\n",
    "\n",
    "    # 合計\n",
    "    E_ST = get_E_ST()\n",
    "\n",
    "    return E_ST, E_SH, E_SC, E_SV, E_SL, E_SW, E_SM\n",
    "\n",
    "# 基準一次エネルギー消費量（GJ/年）\n",
    "def get_E_ST():\n",
    "    # 小数点以下一位未満の端数があるときはこれを切り上げる\n",
    "    return ceil(get_E_ST_star() / 100) / 10  # (2)"
   ]
  },
  {
   "cell_type": "markdown",
   "metadata": {},
   "source": [
    "$E_{ST}$：基準一次エネルギー消費量(GJ/年) / Standard primary energy consumption  \n",
    "$E_{ST}^*$：基準一次エネルギー消費量(MJ/年) / Standard primary energy consumption  "
   ]
  },
  {
   "cell_type": "markdown",
   "metadata": {},
   "source": [
    "基準一次エネルギー消費量$E_{ST}$は、数値に小数点以下一位未満の端数があるときは、これを切り上げる。"
   ]
  },
  {
   "cell_type": "markdown",
   "metadata": {},
   "source": [
    "The standard primary energy consumption $ E_ {ST} $ is rounded up if there are fractions less than one decimal place in the number."
   ]
  },
  {
   "cell_type": "markdown",
   "metadata": {},
   "source": [
    "### 10．BEI (Building Energy Index）"
   ]
  },
  {
   "cell_type": "markdown",
   "metadata": {},
   "source": [
    "$$\n",
    "\\large \n",
    "BEI = \\frac{E'_{T}}{E'_{ST}}\n",
    "$$\n",
    "\n",
    "$$\n",
    "\\large \n",
    "E'_{T} = (E^*_{T} - E_{M}) / 1000\n",
    "$$\n",
    "\n",
    "$$\n",
    "\\large \n",
    "E'_{ST} = (E^*_{ST} - E_{SM}) / 1000\n",
    "$$"
   ]
  },
  {
   "cell_type": "code",
   "execution_count": null,
   "metadata": {},
   "outputs": [],
   "source": [
    "# ============================================================================\n",
    "# 10. BEI(Building Energy Index）\n",
    "# ============================================================================\n",
    "\n",
    "# BEI(Building Energy Index）\n",
    "def get_BEI(E_T, E_M, E_ST, E_SM):\n",
    "    f_prim = get_f_prim()\n",
    "    # 小数点以下一位未満の端数があるときはこれを切り上げる\n",
    "    E_T_dash = ceil((E_T_star - E_M) / 100) / 10  # (3-2)\n",
    "    E_ST_dash = ceil((E_ST_star - E_SM) / 100) / 10  # (3-3)\n",
    "    # 小数点以下二位未満の端数があるときはこれを切り上げる\n",
    "    BEI = ceil(E_T_dash / E_ST_dash * 100) / 100  # (3-1)\n",
    "    return BEI"
   ]
  },
  {
   "cell_type": "markdown",
   "metadata": {},
   "source": [
    "$BEI$：Building Energy Index(-)  \n",
    "$E_{ST}^*$：基準一次エネルギー消費量(MJ/年) / Standard primary energy consumption  \n",
    "$E'_{ST}$：その他の基準一次エネルギー消費量を除いた基準一次エネルギー消費量(GJ/年) / Other criteria Primary energy consumption excluding primary energy consumption  \n",
    "$E_{SM}$：1 年当たりのその他の基準一次エネルギー消費量(MJ/年) / Other baseline primary energy consumption per year  \n",
    "$E_{T}^*$：設計一次エネルギー消費量(MJ/年) / Design primary energy consumption  \n",
    "$E'_{T}$：その他の設計一次エネルギー消費量を除いた設計一次エネルギー消費量(GJ/年) / Other design primary energy consumption excluding primary energy consumption  \n",
    "$E_{M}$：1 年当たりのその他の設計一次エネルギー消費量(MJ/年) / Other design primary energy consumption per year  "
   ]
  },
  {
   "cell_type": "markdown",
   "metadata": {},
   "source": [
    "その他の基準一次エネルギー消費量を除いた基準一次エネルギー消費量$E'_{ST}$ およびその他の設計一次エネルギー消費量を除いた設計一次エネルギー消費量$E'_{T}$は、数値に小数点以下一位未満の端数があるときは、これを切り上げる。$BEI$は、数値に小数点以下二位未満の端数があるときは、これを切り上げる。"
   ]
  },
  {
   "cell_type": "markdown",
   "metadata": {},
   "source": [
    "Other criteria Primary energy consumption $ E'_{ST} $ excluding primary energy consumption and design primary energy consumption $ E'_{T} $ excluding other design primary energy consumption are numerical values If there is a fraction less than one decimal place in, round it up. $ BEI $ rounds up if the number has a fraction less than two decimal places."
   ]
  },
  {
   "cell_type": "markdown",
   "metadata": {},
   "source": [
    "## 付録 A 「主たる居室」、「その他の居室」及び「非居室」の定義並びに各床面積及び床面積の合計の算出方法 / Appendix A Definitions of \"main room\", \"other rooms\" and \"non-rooms\" and calculation method of total floor area and total floor area"
   ]
  },
  {
   "cell_type": "markdown",
   "metadata": {},
   "source": [
    "省略"
   ]
  },
  {
   "cell_type": "markdown",
   "metadata": {},
   "source": [
    "Omission"
   ]
  },
  {
   "cell_type": "markdown",
   "metadata": {},
   "source": [
    "## 付録 B 電気の量 1kWh を熱量に換算する係数 / Appendix B  A factor to convert 1kWh of electricity into heat"
   ]
  },
  {
   "cell_type": "markdown",
   "metadata": {},
   "source": [
    "電気の量1kWhを熱量に換算する係数は、1キロワット時につき 9760キロジュールを使用するものとする。"
   ]
  },
  {
   "cell_type": "markdown",
   "metadata": {},
   "source": [
    "The factor for converting 1 kWh of electricity into heat is assumed to be 9,760 kilojoules per kilowatt hour."
   ]
  },
  {
   "cell_type": "code",
   "execution_count": null,
   "metadata": {},
   "outputs": [],
   "source": [
    "# 電気の量 1kWh を熱量に換算する係数 (kJ/kWh)\n",
    "def get_f_prim():\n",
    "    return 9760"
   ]
  },
  {
   "cell_type": "markdown",
   "metadata": {},
   "source": [
    "## 付録 C 仮想居住人数 / Appendix C Virtual number of people"
   ]
  },
  {
   "cell_type": "markdown",
   "metadata": {},
   "source": [
    "$$\n",
    "\\large\n",
    "n_{p} = \\left\\{\n",
    "\\begin{array}{ll}\n",
    "1.0 & (A_A < 30)\\\\\n",
    "A_A \\div 30 & (30 \\leq A_A < 120)\\\\\n",
    "4.0 & (120 \\leq A_A)\n",
    "\\end{array}\n",
    "\\right.\n",
    "$$"
   ]
  },
  {
   "cell_type": "code",
   "execution_count": null,
   "metadata": {},
   "outputs": [],
   "source": [
    "def get_n_p(A_A):\n",
    "    if A_A < 30:\n",
    "        return 1.0\n",
    "    elif A_A < 120:\n",
    "        return A_A / 30\n",
    "    else:\n",
    "        return 4.0"
   ]
  },
  {
   "cell_type": "markdown",
   "metadata": {},
   "source": [
    "$n_{p}$：仮想居住人数 / Virtual number of people  \n",
    "$A_A$：床面積の合計(m<sup>2</sup>) / Total floor area  "
   ]
  }
 ],
 "metadata": {
  "kernelspec": {
   "display_name": "Python 3",
   "language": "python",
   "name": "python3"
  },
  "language_info": {
   "codemirror_mode": {
    "name": "ipython",
    "version": 3
   },
   "file_extension": ".py",
   "mimetype": "text/x-python",
   "name": "python",
   "nbconvert_exporter": "python",
   "pygments_lexer": "ipython3",
   "version": "3.6.7"
  }
 },
 "nbformat": 4,
 "nbformat_minor": 2
}
