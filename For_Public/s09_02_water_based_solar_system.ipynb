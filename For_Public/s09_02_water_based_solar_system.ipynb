{
 "cells": [
  {
   "cell_type": "code",
   "execution_count": null,
   "metadata": {},
   "outputs": [],
   "source": [
    "import numpy as np\n",
    "from section11_2 import \\\n",
    "    load_solrad, \\\n",
    "    get_I_s_d_t, \\\n",
    "    get_Theta_ex"
   ]
  },
  {
   "cell_type": "markdown",
   "metadata": {},
   "source": [
    "# 第九章　自然エネルギー利用設備"
   ]
  },
  {
   "cell_type": "markdown",
   "metadata": {},
   "source": [
    "## 第二節　液体集熱式太陽熱利用設備"
   ]
  },
  {
   "cell_type": "markdown",
   "metadata": {},
   "source": [
    "1．適用範囲～4．記号及び単位は省略"
   ]
  },
  {
   "cell_type": "markdown",
   "metadata": {},
   "source": [
    "### 5．全般"
   ]
  },
  {
   "cell_type": "markdown",
   "metadata": {},
   "source": [
    "#### 5.1 補正集熱量"
   ]
  },
  {
   "cell_type": "markdown",
   "metadata": {},
   "source": [
    "採用する設備が太陽熱温水器の場合： "
   ]
  },
  {
   "cell_type": "markdown",
   "metadata": {},
   "source": [
    "$$\\large\n",
    "L_{sun,lss,d,t} = L_{sun,lss,sh,d,t}\n",
    "$$"
   ]
  },
  {
   "cell_type": "markdown",
   "metadata": {},
   "source": [
    "採用する設備がソーラーシステムの場合： "
   ]
  },
  {
   "cell_type": "markdown",
   "metadata": {},
   "source": [
    "$$\\large\n",
    "L_{sun,lss,d,t} = L_{sun,lss,ss,d,t}\n",
    "$$"
   ]
  },
  {
   "cell_type": "markdown",
   "metadata": {},
   "source": [
    "$L_{sun,lss,d,t}$：日付$d$の時刻$t$における1時間当たりの液体集熱式太陽熱利用設備による補正集熱量(MJ/h)  \n",
    "$L_{sun,lss,sh,d,t}$：採用する設備が太陽熱温水器の場合の日付$d$の時刻$t$における1時間当たりの液体集熱式太陽熱利用設備による補正集熱量(MJ/h)  \n",
    "$L_{sun,lss,ss,d,t}$：採用する設備がソーラーシステムの場合の日付$d$の時刻$t$における1時間当たりの液体集熱式太陽熱利用設備による補正集熱量(MJ/h)  "
   ]
  },
  {
   "cell_type": "code",
   "execution_count": null,
   "metadata": {},
   "outputs": [],
   "source": [
    "# 1時間当たりの液体集熱式太陽熱利用設備による補正集熱量 (1)\n",
    "def get_L_sun_lss_d_t(region, sol_region, ls_type, A_sp, P_alpha_sp, P_beta_sp, W_tnk_ss, Theta_wtr_d, L_dash_k_d_t,\n",
    "                      L_dash_s_d_t, L_dash_w_d_t,\n",
    "                      L_dash_b1_d_t, L_dash_b2_d_t, L_dash_ba1_d_t):\n",
    "    \"\"\"\n",
    "    :param region: 省エネルギー地域区分\n",
    "    :param sol_region: 年間日射地域区分\n",
    "    :param ls_type: 液体集熱式太陽熱利用設備の種類 (太陽熱温水器,ソーラーシステム)\n",
    "    :param A_sp: 太陽熱集熱部の有効集熱面積 (m2)\n",
    "    :param P_alpha_sp: 太陽熱集熱部の方位角 (°)\n",
    "    :param P_beta_sp: 太陽熱集熱部の傾斜角 (°)\n",
    "    :param W_tnk_ss: タンク容量 (L)\n",
    "    :param Theta_wtr_d: 日平均給水温度 (℃)\n",
    "    :param L_dash_k_d_t: 1時間当たりの台所水栓における節湯補正給湯熱負荷 (MJ/h)\n",
    "    :param L_dash_s_d_t: 1時間当たりの浴室シャワー水栓における節湯補正給湯熱負荷 (MJ/h)\n",
    "    :param L_dash_w_d_t: 1時間当たりの洗面水栓における節湯補正給湯熱負荷 (MJ/h)\n",
    "    :param L_dash_b1_d_t: 1時間当たりの浴槽水栓湯はりにおける節湯補正給湯熱負荷 (MJ/h)\n",
    "    :param L_dash_b2_d_t: 1時間当たりの浴槽自動湯はりにおける節湯補正給湯熱負荷 (MJ/h)\n",
    "    :param L_dash_ba1_d_t: 1時間当たりの浴槽水栓さし湯における節湯補正給湯熱負荷 (MJ/h)\n",
    "    :return: 1時間当たりの液体集熱式太陽熱利用設備による補正集熱量 (MJ/h)\n",
    "    \"\"\"\n",
    "    if ls_type == '太陽熱温水器':\n",
    "        # 採用する設備が太陽熱温水器の場合\n",
    "\n",
    "        # 1日当たりの基準集熱量\n",
    "        Q_sh_d = get_Q_sh_d(\n",
    "            A_sp_sh=A_sp,\n",
    "            P_alpha_sp_sh=P_alpha_sp,\n",
    "            P_beta_sp_sh=P_beta_sp,\n",
    "            region=region,\n",
    "            sol_region=sol_region\n",
    "        )\n",
    "\n",
    "        # 補正集熱量 (1-1)\n",
    "        L_sun_lss_d_t = get_L_sun_lss_sh_d_t(\n",
    "            Q_sh_d=Q_sh_d,\n",
    "            L_dash_k_d_t=L_dash_k_d_t,\n",
    "            L_dash_s_d_t=L_dash_s_d_t,\n",
    "            L_dash_w_d_t=L_dash_w_d_t,\n",
    "            L_dash_b1_d_t=L_dash_b1_d_t,\n",
    "            L_dash_b2_d_t=L_dash_b2_d_t,\n",
    "            L_dash_ba1_d_t=L_dash_ba1_d_t,\n",
    "            region=region,\n",
    "            sol_region=sol_region\n",
    "        )\n",
    "\n",
    "        return L_sun_lss_d_t\n",
    "    elif ls_type == 'ソーラーシステム':\n",
    "        # 採用する設備がソーラーシステムの場合\n",
    "\n",
    "        # 1日当たりの基準集熱量\n",
    "        Q_ss_d = get_Q_ss_d(\n",
    "            A_sp_ss=A_sp,\n",
    "            P_alpha_sp_ss=P_alpha_sp,\n",
    "            P_beta_sp_ss=P_beta_sp,\n",
    "            region=region,\n",
    "            sol_region=sol_region\n",
    "        )\n",
    "\n",
    "        # 補正集熱量 (1-2)\n",
    "        L_sun_lss_d_t = get_L_sun_lss_ss_d_t(\n",
    "            Q_ss_d=Q_ss_d,\n",
    "            W_tnk_ss=W_tnk_ss,\n",
    "            Theta_wtr_d=Theta_wtr_d,\n",
    "            L_dash_k_d_t=L_dash_k_d_t,\n",
    "            L_dash_s_d_t=L_dash_s_d_t,\n",
    "            L_dash_w_d_t=L_dash_w_d_t,\n",
    "            L_dash_b1_d_t=L_dash_b1_d_t,\n",
    "            L_dash_b2_d_t=L_dash_b2_d_t,\n",
    "            L_dash_ba1_d_t=L_dash_ba1_d_t\n",
    "        )\n",
    "\n",
    "        return L_sun_lss_d_t\n",
    "    else:\n",
    "        raise ValueError(ls_type)"
   ]
  },
  {
   "cell_type": "markdown",
   "metadata": {},
   "source": [
    "#### 5.2 補機の消費電力量"
   ]
  },
  {
   "cell_type": "markdown",
   "metadata": {},
   "source": [
    "採用する設備が太陽熱温水器の場合： "
   ]
  },
  {
   "cell_type": "markdown",
   "metadata": {},
   "source": [
    "$$\\large\n",
    "E_{E,lss,aux,d,t} = 0\n",
    "$$"
   ]
  },
  {
   "cell_type": "markdown",
   "metadata": {},
   "source": [
    "採用する設備がソーラーシステムの場合： "
   ]
  },
  {
   "cell_type": "markdown",
   "metadata": {},
   "source": [
    "$$\\large\n",
    "E_{E,lss,aux,d,t} = E_{E,ss,cp,d,t}\n",
    "$$"
   ]
  },
  {
   "cell_type": "markdown",
   "metadata": {},
   "source": [
    "$E_{E,lss,aux,d,t}$：日付$d$の時刻$t$における1時間当たりの補機の消費電力量(kWh/h)  \n",
    "$E_{E,ss,cp,d,t}$：日付$d$の時刻$t$における1時間当たりのソーラーシステムの循環ポンプの消費電力量(kWh/h) "
   ]
  },
  {
   "cell_type": "code",
   "execution_count": null,
   "metadata": {},
   "outputs": [],
   "source": [
    "# 1日当たりの補機の消費電力量 (2)\n",
    "def get_E_E_lss_aux_d_t(region, sol_region, ls_type, pmp_type=None, P_alpha_sp=None, P_beta_sp=None):\n",
    "    \"\"\"\n",
    "    :param region: 省エネルギー地域区分\n",
    "    :param sol_region: 年間日射地域区分\n",
    "    :param ls_type: 液体集熱式太陽熱利用設備の種類 (太陽熱温水器,ソーラーシステム)\n",
    "    :param pmp_type: ソーラーシステムの循環ポンプの種類 (省消費電力型,上記以外の機種)\n",
    "    :param P_alpha_sp: 太陽熱集熱部の方位角 (°)\n",
    "    :param P_beta_sp: 太陽熱集熱部の傾斜角 (°)\n",
    "    :return: 1日当たりの補機の消費電力量 (kWh/d)\n",
    "    \"\"\"\n",
    "    if ls_type == '太陽熱温水器':\n",
    "        # 採用する説委が太陽熱温水器の場合 (2-1)\n",
    "        E_E_lss_aux_d_t = np.zeros(24 * 365)\n",
    "        return E_E_lss_aux_d_t\n",
    "    elif ls_type == 'ソーラーシステム':\n",
    "        # 採用する設備がソーラーシステムの場合\n",
    "        # 1日当たりのソーラーシステムの循環ポンプの消費電力量 (2-2)\n",
    "        E_E_lss_aux_d_t = get_E_E_ss_cp_d_t(pmp_type, P_alpha_sp, P_beta_sp, region, sol_region)\n",
    "        return E_E_lss_aux_d_t\n",
    "    else:\n",
    "        raise ValueError(ls_type)"
   ]
  },
  {
   "cell_type": "markdown",
   "metadata": {},
   "source": [
    "### 6．太陽熱温水器"
   ]
  },
  {
   "cell_type": "markdown",
   "metadata": {},
   "source": [
    "#### 6.1 補正集熱量"
   ]
  },
  {
   "cell_type": "markdown",
   "metadata": {},
   "source": [
    "$L'_{k,d} + L'_{s,d} + L'_{w,d} + L'_{b1,d} + L'_{b2,d} + L'_{ba1,d} = 0$ の場合："
   ]
  },
  {
   "cell_type": "markdown",
   "metadata": {},
   "source": [
    "$$\\large\n",
    "L_{sun,lss,sh,d,t} = 0\n",
    "$$"
   ]
  },
  {
   "cell_type": "markdown",
   "metadata": {},
   "source": [
    "$L'_{k,d} + L'_{s,d} + L'_{w,d} + L'_{b1,d} + L'_{b2,d} + L'_{ba1,d} > 0$ の場合："
   ]
  },
  {
   "cell_type": "markdown",
   "metadata": {},
   "source": [
    "$$\\large\n",
    "L_{sun,lss,sh,d,t} = L_{sun,lss,sh,d} \\times \\frac{L'_{k,d,t} + L'_{s,d,t} + L'_{w,d,t} + L'_{b1,d,t} + L'_{b2,d,t} + L'_{ba1,d,t}}{L'_{k,d} + L'_{s,d} + L'_{w,d} + L'_{b1,d} + L'_{b2,d} + L'_{ba1,d}}\n",
    "$$"
   ]
  },
  {
   "cell_type": "markdown",
   "metadata": {},
   "source": [
    "$L_{sun,lss,sh,d}$ : 日付$d$における1日当たりの液体集熱式太陽熱利用設備による補正集熱量(MJ/d)  \n",
    "$L_{sun,lss,sh,d,t}$ : 日付$d$の時刻$t$における1時間当たりの液体集熱式太陽熱利用設備による補正集熱量(MJ/h)  \n",
    "$L'_{k,d}$ : 日付$d$における1日当たりの台所水栓における節湯補正給湯熱負荷(MJ/d)  \n",
    "$L'_{s,d}$ : 日付$d$における1日当たりの浴室シャワー水栓における節湯補正給湯熱負荷(MJ/d)  \n",
    "$L'_{w,d}$ : 日付$d$における1日当たりの洗面水栓における節湯補正給湯熱負荷(MJ/d)  \n",
    "$L'_{b1,d}$ : 日付$d$における1日当たりの浴槽水栓湯はり時における節湯補正給湯熱負荷(MJ/d)  \n",
    "$L'_{b2,d}$ : 日付$d$における1日当たりの浴槽自動湯はり時における節湯補正給湯熱負荷(MJ/d)  \n",
    "$L'_{ba1,d}$ : 日付$d$における1日当たりの浴槽水栓さし湯時における節湯補正給湯熱負荷(MJ/d)  \n",
    "$L'_{k,d,t}$ : 日付$d$の時刻$t$における1時間当たりの台所水栓における節湯補正給湯熱負荷(MJ/h)  \n",
    "$L'_{s,d,t}$ : 日付$d$の時刻$t$における1時間当たりの浴室シャワー水栓における節湯補正給湯熱負荷(MJ/h)  \n",
    "$L'_{w,d,t}$ : 日付$d$の時刻$t$における1時間当たりの洗面水栓における節湯補正給湯熱負荷(MJ/h)  \n",
    "$L'_{b1,d,t}$ : 日付$d$の時刻$t$における1時間当たりの浴槽水栓湯はり時における節湯補正給湯熱負荷(MJ/h)  \n",
    "$L'_{b2,d,t}$ : 日付$d$の時刻$t$における1時間当たりの浴槽自動湯はり時における節湯補正給湯熱負荷(MJ/h)  \n",
    "$L'_{ba1,d,t}$ : 日付$d$の時刻$t$における1時間当たりの浴槽水栓さし湯時における節湯補正給湯熱負荷(MJ/h)"
   ]
  },
  {
   "cell_type": "code",
   "execution_count": null,
   "metadata": {},
   "outputs": [],
   "source": [
    "# 1時間当たりの液体集熱式太陽熱利用設備による補正集熱量 (MJ/h) (3)\n",
    "def get_L_sun_lss_sh_d_t(Q_sh_d, L_dash_k_d_t, L_dash_s_d_t, L_dash_w_d_t, L_dash_b1_d_t, L_dash_b2_d_t, L_dash_ba1_d_t,\n",
    "                         region,\n",
    "                         sol_region):\n",
    "    \"\"\"\n",
    "    :param Q_sh_d: 1日当たりの基準集熱量 (MJ/h)\n",
    "    :param L_dash_k_d_t: 1時間当たりの台所水栓における節湯補正給湯熱負荷 (MJ/h)\n",
    "    :param L_dash_s_d_t: 1時間当たりの浴室シャワー水栓における節湯補正給湯熱負荷 (MJ/h)\n",
    "    :param L_dash_w_d_t: 1時間当たりの洗面水栓における節湯補正給湯熱負荷 (MJ/h)\n",
    "    :param L_dash_b1_d_t: 1時間当たりの浴槽水栓湯はりにおける節湯補正給湯熱負荷 (MJ/h)\n",
    "    :param L_dash_b2_d_t: 1時間当たりの浴槽自動湯はりにおける節湯補正給湯熱負荷 (MJ/h)\n",
    "    :param L_dash_ba1_d_t: 1時間当たりの浴槽水栓さし湯における節湯補正給湯熱負荷 (MJ/h)\n",
    "    :param region: 省エネルギー地域区分\n",
    "    :param sol_region: 年間日射地域区分\n",
    "    :return: 1時間当たりの液体集熱式太陽熱利用設備による補正集熱量 (MJ/h)\n",
    "    \"\"\"\n",
    "    # 24時間化\n",
    "    L_dash_k_d = np.sum(L_dash_k_d_t.reshape((365, 24)), axis=1)\n",
    "    L_dash_s_d = np.sum(L_dash_s_d_t.reshape((365, 24)), axis=1)\n",
    "    L_dash_w_d = np.sum(L_dash_w_d_t.reshape((365, 24)), axis=1)\n",
    "    L_dash_b1_d = np.sum(L_dash_b1_d_t.reshape((365, 24)), axis=1)\n",
    "    L_dash_b2_d = np.sum(L_dash_b2_d_t.reshape((365, 24)), axis=1)\n",
    "    L_dash_ba1_d = np.sum(L_dash_ba1_d_t.reshape((365, 24)), axis=1)\n",
    "\n",
    "    # 1日当たりの液体集熱式太陽熱利用設備による補正集熱量 (MJ/d) (4)\n",
    "    L_sun_lss_ss_d = get_L_sun_lss_sh_d(Q_sh_d, L_dash_k_d, L_dash_s_d, L_dash_w_d, L_dash_b1_d, L_dash_b2_d,\n",
    "                                        L_dash_ba1_d, region,\n",
    "                                        sol_region)\n",
    "\n",
    "    # 24時間化\n",
    "    L_dash_k_d = np.repeat(L_dash_k_d, 24)\n",
    "    L_dash_s_d = np.repeat(L_dash_s_d, 24)\n",
    "    L_dash_w_d = np.repeat(L_dash_w_d, 24)\n",
    "    L_dash_b1_d = np.repeat(L_dash_b1_d, 24)\n",
    "    L_dash_b2_d = np.repeat(L_dash_b2_d, 24)\n",
    "    L_dash_ba1_d = np.repeat(L_dash_ba1_d, 24)\n",
    "\n",
    "    L_sun_lss_ss_d = np.repeat(L_sun_lss_ss_d, 24)\n",
    "\n",
    "    L_sun_lss_ss_d_t = np.zeros(24 * 365)\n",
    "\n",
    "    # (9-1) 節湯補正給湯熱負荷が0の場合\n",
    "    f1 = (L_dash_k_d + L_dash_s_d + L_dash_w_d + L_dash_b1_d + L_dash_b2_d + L_dash_ba1_d) == 0\n",
    "    L_sun_lss_ss_d_t[f1] = 0\n",
    "\n",
    "    # (9-2) 節湯補正給湯熱負荷 > 0の場合\n",
    "    f2 = (L_dash_k_d + L_dash_s_d + L_dash_w_d + L_dash_b1_d + L_dash_b2_d + L_dash_ba1_d) > 0\n",
    "    L_sun_lss_ss_d_t[f2] = L_sun_lss_ss_d[f2] \\\n",
    "                           * (L_dash_k_d_t[f2] + L_dash_s_d_t[f2] + L_dash_w_d_t[f2] + L_dash_b1_d_t[f2] +\n",
    "                              L_dash_b2_d_t[f2] + L_dash_ba1_d_t[f2]) \\\n",
    "                           / (L_dash_k_d[f2] + L_dash_s_d[f2] + L_dash_w_d[f2] + L_dash_b1_d[f2] + L_dash_b2_d[f2] +\n",
    "                              L_dash_ba1_d[f2])\n",
    "\n",
    "    return L_sun_lss_ss_d_t"
   ]
  },
  {
   "cell_type": "markdown",
   "metadata": {},
   "source": [
    "$\\theta_{ex,lwlim,sh} \\leq \\theta_{ex,s,prd,Ave,d}$の場合： "
   ]
  },
  {
   "cell_type": "markdown",
   "metadata": {},
   "source": [
    "$$\\large\n",
    "L_{sun,lss,sh,d} = min(Q_{sh,d} ,  (L'_{k,d} + L'_{s,d} + L'_{w,d} + L'_{b1,d} + L'_{b2,d} + L'_{ba1,d}) \\times f_{sr,uplim,sh})\n",
    "$$"
   ]
  },
  {
   "cell_type": "markdown",
   "metadata": {},
   "source": [
    "$\\theta_{ex,s,prd,Ave,d} < \\theta_{ex,lwlim,sh}$の場合： "
   ]
  },
  {
   "cell_type": "markdown",
   "metadata": {},
   "source": [
    "$$\\large\n",
    "L_{sun,lss,sh,d} = 0\n",
    "$$"
   ]
  },
  {
   "cell_type": "markdown",
   "metadata": {},
   "source": [
    "$f_{sr,uplim,sh}$：液体集熱式太陽熱利用設備の分担率上限値(-)  \n",
    "$L_{sun,lss,sh,d}$：日付$d$における1日当たりの液体集熱式太陽熱利用設備による補正集熱量(MJ/d)  \n",
    "$L'_{k,d}$：日付$d$における1日当たりの台所水栓における節湯補正給湯熱負荷(MJ/d)  \n",
    "$L'_{s,d}$：日付$d$における1日当たりの浴室シャワー水栓における節湯補正給湯熱負荷(MJ/d)  \n",
    "$L'_{w,d}$：日付$d$における1日当たりの洗面水栓における節湯補正給湯熱負荷(MJ/d)  \n",
    "$L'_{b1,d}$：日付$d$における1日当たりの浴槽水栓湯はり時における節湯補正給湯熱負荷(MJ/d)  \n",
    "$L'_{b2,d}$：日付$d$における1日当たりの浴槽自動湯はり時における節湯補正給湯熱負荷(MJ/d)  \n",
    "$L'_{ba1,d}$：日付$d$における1日当たりの浴槽水栓さし湯時における節湯補正給湯熱負荷(MJ/d)  \n",
    "$Q_{sh,d}$：日付$d$における1日当たりの基準集熱量(MJ/d)  \n",
    "$\\theta_{ex,s,prd,Ave,d}$：日付$d$を基準とした期間平均太陽熱外気温度(℃)  \n",
    "$\\theta_{ex,lwlim,sh}$：液体集熱式太陽熱利用設備を使用できる外気温度の下限(℃)  "
   ]
  },
  {
   "cell_type": "code",
   "execution_count": null,
   "metadata": {},
   "outputs": [],
   "source": [
    "# 1日当たりの液体集熱式太陽熱利用設備による補正集熱量 (MJ/d) (4)\n",
    "def get_L_sun_lss_sh_d(Q_sh_d, L_dash_k_d, L_dash_s_d, L_dash_w_d, L_dash_b1_d, L_dash_b2_d, L_dash_ba1_d, region,\n",
    "                       sol_region):\n",
    "    \"\"\"\n",
    "    :param Q_sh_d: 1日当たりの基準集熱量 (MJ/d)\n",
    "    :param L_dash_k_d: 台所水栓における節湯補正給湯熱負荷 (MJ/d)\n",
    "    :param L_dash_s_d: 浴室シャワー水栓における節湯補正給湯熱負荷 (MJ/d)\n",
    "    :param L_dash_w_d: 洗面水栓における節湯補正給湯熱負荷 (MJ/d)\n",
    "    :param L_dash_b1_d: 浴槽水栓湯はりにおける節湯補正給湯熱負荷 (MJ/d)\n",
    "    :param L_dash_b2_d: 浴槽自動湯はりにおける節湯補正給湯熱負荷 (MJ/d)\n",
    "    :param L_dash_ba1_d: 浴槽水栓さし湯における節湯補正給湯熱負荷 (MJ/d)\n",
    "    :param region: 省エネルギー地域区分\n",
    "    :param sol_region: 年間日射地域区分\n",
    "    :return: 1日当たりの液体集熱式太陽熱利用設備による補正集熱量 (MJ/d)\n",
    "    \"\"\"\n",
    "    # 期間平均太陽熱外気温度\n",
    "    Theta_ex_s_prd_Ave_d = get_Theta_ex_s_prd_Ave_d(region, sol_region)\n",
    "\n",
    "    # 液体集熱式太陽熱利用設備を使用できる外気温度の下限\n",
    "    Theta_ex_lwlim_sh = get_Theta_ex_lwlim_sh()\n",
    "\n",
    "    # 液体集熱式太陽熱利用設備の分担率の上限値\n",
    "    f_sr_uplim_sh = get_f_sr_uplim_sh()\n",
    "\n",
    "    # Theta_ex_lwlim <= Theta_ex_s_prd_Ave_d の場合 (3-1)\n",
    "    # ひとまず、条件を無視してすべての日について計算する\n",
    "    L_sun_lss_sh_d = np.min(\n",
    "        [Q_sh_d, (L_dash_k_d + L_dash_s_d + L_dash_w_d + L_dash_b1_d + L_dash_b2_d + L_dash_ba1_d) * f_sr_uplim_sh],\n",
    "        axis=0)\n",
    "\n",
    "    # Theta_ex_s_prd_Ave_d < Theta_ex_lwlim_sh の場合 (3-2)\n",
    "    # この条件を満たす日だけ0で上書きする\n",
    "    L_sun_lss_sh_d[Theta_ex_s_prd_Ave_d < Theta_ex_lwlim_sh] = 0.0\n",
    "\n",
    "    return L_sun_lss_sh_d"
   ]
  },
  {
   "cell_type": "markdown",
   "metadata": {},
   "source": [
    "液体集熱式太陽熱利用設備を使用できる外気温度の下限$\\theta_{ex,lwlim,sh}$は、5℃とする。液体集熱式太陽熱利用設備の分担率上限値$f_{sr,uplim,sh}$は、0.9とする。 "
   ]
  },
  {
   "cell_type": "code",
   "execution_count": null,
   "metadata": {},
   "outputs": [],
   "source": [
    "# 液体集熱式太陽熱利用設備を使用できる外気温度の下限\n",
    "def get_Theta_ex_lwlim_sh():\n",
    "    return 5.0\n",
    "\n",
    "\n",
    "# 液体集熱式太陽熱利用設備の分担率上限値\n",
    "def get_f_sr_uplim_sh():\n",
    "    return 0.9"
   ]
  },
  {
   "cell_type": "markdown",
   "metadata": {},
   "source": [
    "#### 6.2 基準集熱量"
   ]
  },
  {
   "cell_type": "markdown",
   "metadata": {},
   "source": [
    "$$\\large\n",
    "Q_{sh,d} = Q_{sp,sh,d} \\times A_{sp,sh} \\times f_{sp,sh} \\times f_{s,sh}\n",
    "$$"
   ]
  },
  {
   "cell_type": "markdown",
   "metadata": {},
   "source": [
    "$A_{sp,sh}$：太陽熱集熱部の有効集熱面積(m<sup>2</sup>)  \n",
    "$Q_{sh,d}$：日付$d$における1日当たりの基準集熱量(MJ/d)  \n",
    "$Q_{sp,sh,d}$：日付$d$における1日当たりの太陽熱集熱部設置面の単位面積当たりの日射量(MJ/m<sup>2</sup>・d)  \n",
    "$f_{s,sh}$：液体集熱式太陽熱利用設備のシステム効率(-)  \n",
    "$f_{sp,sh}$：太陽熱集熱部の集熱効率(-)  "
   ]
  },
  {
   "cell_type": "code",
   "execution_count": null,
   "metadata": {},
   "outputs": [],
   "source": [
    "# 1日当たりの基準集熱量 (5)\n",
    "def get_Q_sh_d(A_sp_sh, P_alpha_sp_sh, P_beta_sp_sh, region, sol_region):\n",
    "    \"\"\"\n",
    "    :param A_sp_sh: 太陽熱集熱部の有効集熱面積 (m2)\n",
    "    :param P_alpha_sp_sh: 太陽熱集熱部設置面の方位角\n",
    "    :param P_beta_sp_sh: 太陽熱集熱部設置面の傾斜角\n",
    "    :param region: 省エネルギー地域区分\n",
    "    :param sol_region: 年間日射地域区分\n",
    "    :return: 1日当たりの基準集熱量 (MJ/d)\n",
    "    \"\"\"\n",
    "    # 1日当たりの太陽熱集熱部設置面の単位面積当たりの日射量\n",
    "    Q_sp_sh_d = get_Q_sp_sh_d(P_alpha_sp_sh, P_beta_sp_sh, region, sol_region)\n",
    "\n",
    "    # 太陽熱集熱部の集熱効率\n",
    "    f_sp_sh = get_f_sp_sh()\n",
    "\n",
    "    # 液体集熱式太陽熱利用設備のシステム効率\n",
    "    f_s_sh = get_f_s_sh()\n",
    "\n",
    "    # 1日当たりの基準集熱量\n",
    "    Q_sh_d = Q_sp_sh_d * A_sp_sh * f_sp_sh * f_s_sh\n",
    "\n",
    "    return Q_sh_d"
   ]
  },
  {
   "cell_type": "markdown",
   "metadata": {},
   "source": [
    "太陽熱集熱部の集熱効率$f_{sp,sh}$は、0.4とする。液体集熱式太陽熱利用設備のシステム効率$f_{s,sh}$は、0.85とする。 "
   ]
  },
  {
   "cell_type": "markdown",
   "metadata": {},
   "source": [
    "太陽熱集熱部の有効集熱面積$A_{sp,sh}$は、ISO 9488 の 8.6 節「aperture area」に規定される方法により算出した値とするか、IS A 4111 に規定される集熱部総面積又は集熱貯湯部総面積に 0.85 を乗じた値とする。 "
   ]
  },
  {
   "cell_type": "code",
   "execution_count": null,
   "metadata": {},
   "outputs": [],
   "source": [
    "# 太陽熱集熱部の集熱効率\n",
    "def get_f_sp_sh():\n",
    "    return 0.4\n",
    "\n",
    "\n",
    "# 液体集熱式太陽熱利用設備のシステム効率\n",
    "def get_f_s_sh():\n",
    "    return 0.85"
   ]
  },
  {
   "cell_type": "code",
   "execution_count": null,
   "metadata": {},
   "outputs": [],
   "source": [
    "# 太陽熱集熱部の有効集熱面積(IS A 4111)\n",
    "def get_A_sp_sh_JIS_A_4111(A):\n",
    "    return A * 0.85"
   ]
  },
  {
   "cell_type": "markdown",
   "metadata": {},
   "source": [
    "$$\\large\n",
    "Q_{sp,sh,d} = \\sum_{t = 0}^{23} ( I_{s,sp,sh,d,t} \\times 3600 \\times 10^{-6} )\n",
    "$$"
   ]
  },
  {
   "cell_type": "markdown",
   "metadata": {},
   "source": [
    "$I_{s,sp,sh,d,t}$：日付$d$の時刻$t$における太陽熱集熱部設置面の単位面積当たりの平均日射量(W/m<sup>2</sup>)  \n",
    "$Q_{sp,sh,d}$：日付$d$における1日当たりの太陽熱集熱部設置面の単位面積当たりの日射量(MJ/(m<sup>2</sup>・d))  "
   ]
  },
  {
   "cell_type": "code",
   "execution_count": null,
   "metadata": {},
   "outputs": [],
   "source": [
    "# 1日当たりの太陽熱集熱部設置面の単位面積当たりの日射量 (6)\n",
    "def get_Q_sp_sh_d(P_alpha_sp_sh, P_beta_sp_sh, region, sol_region):\n",
    "    \"\"\"\n",
    "    :param P_alpha_sp_sh: 太陽熱集熱部設置面の方位角\n",
    "    :param P_beta_sp_sh: 太陽熱集熱部設置面の傾斜角\n",
    "    :param region: 省エネルギー地域区分\n",
    "    :param sol_region: 年間日射地域区分\n",
    "    :return: 1日当たりの太陽熱集熱部設置面の単位面積当たりの日射量 (MJ/(m2・d))\n",
    "    \"\"\"\n",
    "    # 太陽熱集熱部設置面の単位面積当たりの平均日射量\n",
    "    solrad = load_solrad(region, sol_region)\n",
    "    I_s_sp_sh_d_t = get_I_s_d_t(P_alpha_sp_sh, P_beta_sp_sh, solrad)\n",
    "\n",
    "    # 1日当たりの太陽熱集熱部設置面の単位面積当たりの日射量\n",
    "    tmp = I_s_sp_sh_d_t.reshape(365, 24)\n",
    "    Q_sp_sh_d = np.sum(tmp, axis=1) * 3600 * 10 ** (-6)\n",
    "\n",
    "    return Q_sp_sh_d"
   ]
  },
  {
   "cell_type": "markdown",
   "metadata": {},
   "source": [
    "#### 6.3 期間平均太陽熱外気温度"
   ]
  },
  {
   "cell_type": "markdown",
   "metadata": {},
   "source": [
    "$$\\large\n",
    "\\theta_{ex,s,prd,Ave,d} = \\sum_{i = 0}^{30} \\theta_{ex,s,Ave,d - 15 + i} \\big/ 31\n",
    "$$"
   ]
  },
  {
   "cell_type": "markdown",
   "metadata": {},
   "source": [
    "$\\theta_{ex,s,prd,Ave,d}$：日付$d$を基準とした期間平均太陽熱外気温度(℃)  \n",
    "$\\theta_{ex,s,Ave,d}$：日付$d$における日平均太陽熱外気温度(℃)  "
   ]
  },
  {
   "cell_type": "code",
   "execution_count": null,
   "metadata": {},
   "outputs": [],
   "source": [
    "# 期間平均太陽熱外気温度 (7)\n",
    "def get_Theta_ex_s_prd_Ave_d(region, sol_region):\n",
    "    \"\"\"\n",
    "    :param region: 省エネルギー地域区分\n",
    "    :param sol_region: 年間日射地域区分\n",
    "    :return: 期間平均太陽熱外気温度 (℃)\n",
    "    \"\"\"\n",
    "    # 日平均太陽熱外気温度\n",
    "    Theta_ex_s_Ave_d = get_Theta_ex_s_Ave_d(region, sol_region)\n",
    "\n",
    "    # 31日平均なので、データを前後15日ずつ拡張する\n",
    "    tmp_ex = np.zeros(365 + 30)\n",
    "    tmp_ex[:15] = Theta_ex_s_Ave_d[-15:]\n",
    "    tmp_ex[15:15 + 365] = Theta_ex_s_Ave_d[:]\n",
    "    tmp_ex[-15:] = Theta_ex_s_Ave_d[:15]\n",
    "\n",
    "    # 31日平均\n",
    "    # 基準日と前後15日の31日に1/31を乗算して合算する。\n",
    "    tmp = np.convolve(tmp_ex, np.ones(31) / 31, mode='valid')\n",
    "\n",
    "    return tmp"
   ]
  },
  {
   "cell_type": "markdown",
   "metadata": {},
   "source": [
    "$$\\large\n",
    "\\theta_{ex,s,Ave,d} = \\sum_{t = 0}^{23} \\theta_{ex,s,d,t} \\big/ 24\n",
    "$$"
   ]
  },
  {
   "cell_type": "markdown",
   "metadata": {},
   "source": [
    "$\\theta_{ex,s,Ave,d}$：日付$d$における日平均太陽熱外気温度(℃)  \n",
    "$\\theta_{ex,s,d,t}$：日付$d$の時刻$t$における太陽熱外気温度(℃)  "
   ]
  },
  {
   "cell_type": "code",
   "execution_count": null,
   "metadata": {},
   "outputs": [],
   "source": [
    "# 日平均太陽熱外気温度 (8)\n",
    "def get_Theta_ex_s_Ave_d(region, sol_region):\n",
    "    \"\"\"\n",
    "    :param region: 省エネルギー地域区分\n",
    "    :param sol_region: 年間日射地域区分\n",
    "    :return: 日平均太陽熱外気温度 (℃)\n",
    "    \"\"\"\n",
    "\n",
    "    # 太陽熱外気温度\n",
    "    solrad = load_solrad(region, sol_region)\n",
    "    Theta_ex_s_d = get_Theta_ex(solrad)\n",
    "\n",
    "    tmp = Theta_ex_s_d.reshape(365, 24)\n",
    "    tmp = np.sum(tmp, axis=1)\n",
    "\n",
    "    Theta_ex_s_Ave_d = tmp / 24\n",
    "\n",
    "    return Theta_ex_s_Ave_d"
   ]
  },
  {
   "cell_type": "markdown",
   "metadata": {},
   "source": [
    "### 7．ソーラーシステム"
   ]
  },
  {
   "cell_type": "markdown",
   "metadata": {},
   "source": [
    "#### 7.1 補正集熱量"
   ]
  },
  {
   "cell_type": "markdown",
   "metadata": {},
   "source": [
    "$L'_{k,d} + L'_{s,d} + L'_{w,d} + L'_{b1,d} + L'_{b2,d} + L'_{ba1,d} = 0$ の場合："
   ]
  },
  {
   "cell_type": "markdown",
   "metadata": {},
   "source": [
    "$$\\large\n",
    "L_{sun,lss,ss,d,t} = 0\n",
    "$$"
   ]
  },
  {
   "cell_type": "markdown",
   "metadata": {},
   "source": [
    "$L'_{k,d} + L'_{s,d} + L'_{w,d} + L'_{b1,d} + L'_{b2,d} + L'_{ba1,d} > 0$ の場合："
   ]
  },
  {
   "cell_type": "markdown",
   "metadata": {},
   "source": [
    "$$\\large\n",
    "L_{sun,lss,ss,d,t} = L_{sun,lss,ss,d} \\times \\frac{L'_{k,d,t} + L'_{s,d,t} + L'_{w,d,t} + L'_{b1,d,t} + L'_{b2,d,t} + L'_{ba1,d,t}}{L'_{k,d} + L'_{s,d} + L'_{w,d} + L'_{b1,d} + L'_{b2,d} + L'_{ba1,d}}\n",
    "$$"
   ]
  },
  {
   "cell_type": "markdown",
   "metadata": {},
   "source": [
    "$L_{sun,lss,ss,d}$ : 日付$d$における1日当たりの液体集熱式太陽熱利用設備による補正集熱量(MJ/d)  \n",
    "$L_{sun,lss,ss,d,t}$ : 日付$d$の時刻$t$における1時間当たりの液体集熱式太陽熱利用設備による補正集熱量(MJ/h)  \n",
    "$L'_{k,d}$ : 日付$d$における1日当たりの台所水栓における節湯補正給湯熱負荷(MJ/d)  \n",
    "$L'_{s,d}$ : 日付$d$における1日当たりの浴室シャワー水栓における節湯補正給湯熱負荷(MJ/d)  \n",
    "$L'_{w,d}$ : 日付$d$における1日当たりの洗面水栓における節湯補正給湯熱負荷(MJ/d)  \n",
    "$L'_{b1,d}$ : 日付$d$における1日当たりの浴槽水栓湯はり時における節湯補正給湯熱負荷(MJ/d)  \n",
    "$L'_{b2,d}$ : 日付$d$における1日当たりの浴槽自動湯はり時における節湯補正給湯熱負荷(MJ/d)  \n",
    "$L'_{ba1,d}$ : 日付$d$における1日当たりの浴槽水栓さし湯時における節湯補正給湯熱負荷(MJ/d)  \n",
    "$L'_{k,d,t}$ : 日付$d$の時刻$t$における1時間当たりの台所水栓における節湯補正給湯熱負荷(MJ/h)  \n",
    "$L'_{s,d,t}$ : 日付$d$の時刻$t$における1時間当たりの浴室シャワー水栓における節湯補正給湯熱負荷(MJ/h)  \n",
    "$L'_{w,d,t}$ : 日付$d$の時刻$t$における1時間当たりの洗面水栓における節湯補正給湯熱負荷(MJ/h)  \n",
    "$L'_{b1,d,t}$ : 日付$d$の時刻$t$における1時間当たりの浴槽水栓湯はり時における節湯補正給湯熱負荷(MJ/h)  \n",
    "$L'_{b2,d,t}$ : 日付$d$の時刻$t$における1時間当たりの浴槽自動湯はり時における節湯補正給湯熱負荷(MJ/h)  \n",
    "$L'_{ba1,d,t}$ : 日付$d$の時刻$t$における1時間当たりの浴槽水栓さし湯時における節湯補正給湯熱負荷(MJ/h)"
   ]
  },
  {
   "cell_type": "code",
   "execution_count": null,
   "metadata": {},
   "outputs": [],
   "source": [
    "# 1時間当たりの液体集熱式太陽熱利用設備による補正集熱量 (9)\n",
    "def get_L_sun_lss_ss_d_t(Q_ss_d, W_tnk_ss, Theta_wtr_d, L_dash_k_d_t, L_dash_s_d_t, L_dash_w_d_t, L_dash_b1_d_t,\n",
    "                         L_dash_b2_d_t,\n",
    "                         L_dash_ba1_d_t):\n",
    "    \"\"\"\n",
    "    :param Q_ss_d: 1日当たりの基準集熱量 (MJ/d)\n",
    "    :param W_tnk_ss: ソーラーシステムのタンク容量 (L)\n",
    "    :param Theta_wtr_d: 日平均給水温度 (℃)\n",
    "    :param L_dash_k_d_t: 1時間当たりの台所水栓における節湯補正給湯熱負荷 (MJ/h)\n",
    "    :param L_dash_s_d_t: 1時間当たりの浴室シャワー水栓における節湯補正給湯熱負荷 (MJ/h)\n",
    "    :param L_dash_w_d_t: 1時間当たりの洗面水栓における節湯補正給湯熱負荷 (MJ/h)\n",
    "    :param L_dash_b1_d_t: 1時間当たりの浴槽水栓湯はりにおける節湯補正給湯熱負荷 (MJ/h)\n",
    "    :param L_dash_b2_d_t: 1時間当たりの浴槽自動湯はりにおける節湯補正給湯熱負荷 (MJ/h)\n",
    "    :param L_dash_ba1_d_t: 1時間当たりの浴槽水栓さし湯における節湯補正給湯熱負荷 (MJ/h)\n",
    "    :return: 1時間当たりの液体集熱式太陽熱利用設備による補正集熱量\n",
    "    \"\"\"\n",
    "    # 24時間化\n",
    "    L_dash_k_d = np.sum(L_dash_k_d_t.reshape((365, 24)), axis=1)\n",
    "    L_dash_s_d = np.sum(L_dash_s_d_t.reshape((365, 24)), axis=1)\n",
    "    L_dash_w_d = np.sum(L_dash_w_d_t.reshape((365, 24)), axis=1)\n",
    "    L_dash_b1_d = np.sum(L_dash_b1_d_t.reshape((365, 24)), axis=1)\n",
    "    L_dash_b2_d = np.sum(L_dash_b2_d_t.reshape((365, 24)), axis=1)\n",
    "    L_dash_ba1_d = np.sum(L_dash_ba1_d_t.reshape((365, 24)), axis=1)\n",
    "\n",
    "    # 1日当たりの液体集熱式太陽熱利用設備による補正集熱量 (MJ/h) (10)\n",
    "    L_sun_lss_ss_d = get_L_sun_lss_ss_d(Q_ss_d, W_tnk_ss, Theta_wtr_d, L_dash_k_d, L_dash_s_d, L_dash_w_d, L_dash_b1_d,\n",
    "                                        L_dash_b2_d, L_dash_ba1_d)\n",
    "    L_sun_lss_ss_d = np.repeat(L_sun_lss_ss_d, 24)\n",
    "\n",
    "    L_sun_lss_ss_d_t = np.zeros(24 * 365)\n",
    "\n",
    "    # 24時間化\n",
    "    L_dash_k_d = np.repeat(L_dash_k_d, 24)\n",
    "    L_dash_s_d = np.repeat(L_dash_s_d, 24)\n",
    "    L_dash_w_d = np.repeat(L_dash_w_d, 24)\n",
    "    L_dash_b1_d = np.repeat(L_dash_b1_d, 24)\n",
    "    L_dash_b2_d = np.repeat(L_dash_b2_d, 24)\n",
    "    L_dash_ba1_d = np.repeat(L_dash_ba1_d, 24)\n",
    "\n",
    "    # (9-1) 節湯補正給湯熱負荷が0の場合\n",
    "    f1 = (L_dash_k_d + L_dash_s_d + L_dash_w_d + L_dash_b1_d + L_dash_b2_d + L_dash_ba1_d) == 0\n",
    "    L_sun_lss_ss_d_t[f1] = 0\n",
    "\n",
    "    # (9-2) 節湯補正給湯熱負荷 > 0の場合\n",
    "    f2 = (L_dash_k_d + L_dash_s_d + L_dash_w_d + L_dash_b1_d + L_dash_b2_d + L_dash_ba1_d) > 0\n",
    "    L_sun_lss_ss_d_t[f2] = L_sun_lss_ss_d[f2] \\\n",
    "                           * (L_dash_k_d_t[f2] + L_dash_s_d_t[f2] + L_dash_w_d_t[f2] + L_dash_b1_d_t[f2] +\n",
    "                              L_dash_b2_d_t[f2] + L_dash_ba1_d_t[f2]) \\\n",
    "                           / (L_dash_k_d[f2] + L_dash_s_d[f2] + L_dash_w_d[f2] + L_dash_b1_d[f2] + L_dash_b2_d[f2] +\n",
    "                              L_dash_ba1_d[f2])\n",
    "\n",
    "    return L_sun_lss_ss_d_t"
   ]
  },
  {
   "cell_type": "markdown",
   "metadata": {},
   "source": [
    "$$\\large\n",
    "L_{sun,lss,sh,d} = min(L_{tnk,ss,d} ,  (L'_{k,d} + L'_{s,d} + L'_{w,d} + L'_{b1,d} + L'_{b2,d} + L'_{ba1,d}) \\times f_{sr,uplim,ss})\n",
    "$$"
   ]
  },
  {
   "cell_type": "markdown",
   "metadata": {},
   "source": [
    "$f_{sr,uplim,ss}$：液体集熱式太陽熱利用設備の分担率上限値(-)  \n",
    "$L_{sun,lss,ss,d}$：日付$d$における1日当たりの液体集熱式太陽熱利用設備による補正集熱量(MJ/d)  \n",
    "$L_{tnk,ss,d}$：日付$d$における1日当たりのソーラーシステムのタンク蓄熱量の上限による補正集熱量(MJ/d)  \n",
    "$L'_{k,d}$：日付$d$における1日当たりの台所水栓における節湯補正給湯熱負荷(MJ/d)  \n",
    "$L'_{s,d}$：日付$d$における1日当たりの浴室シャワー水栓における節湯補正給湯熱負荷(MJ/d)  \n",
    "$L'_{w,d}$：日付$d$における1日当たりの洗面水栓における節湯補正給湯熱負荷(MJ/d)  \n",
    "$L'_{b1,d}$：日付$d$における1日当たりの浴槽水栓湯はり時における節湯補正給湯熱負荷(MJ/d)  \n",
    "$L'_{b2,d}$：日付$d$における1日当たりの浴槽自動湯はり時における節湯補正給湯熱負荷(MJ/d)  \n",
    "$L'_{ba1,d}$：日付$d$における1日当たりの浴槽水栓さし湯時における節湯補正給湯熱負荷(MJ/d)  "
   ]
  },
  {
   "cell_type": "code",
   "execution_count": null,
   "metadata": {},
   "outputs": [],
   "source": [
    "# 1日当たりの液体集熱式太陽熱利用設備による補正集熱量 (MJ/h) (10)\n",
    "def get_L_sun_lss_ss_d(Q_ss_d, W_tnk_ss, Theta_wtr_d, L_dash_k_d, L_dash_s_d, L_dash_w_d, L_dash_b1_d, L_dash_b2_d,\n",
    "                       L_dash_ba1_d):\n",
    "    \"\"\"\n",
    "    :param Q_ss_d: 1日当たりの基準集熱量 (MJ/d)\n",
    "    :param W_tnk_ss: ソーラーシステムのタンク容量 (L)\n",
    "    :param Theta_wtr_d: 日平均給水温度 (℃)\n",
    "    :param L_dash_k_d: 1日当たりの台所水栓における節湯補正給湯熱負荷 (MJ/d)\n",
    "    :param L_dash_s_d: 1日当たりの浴室シャワー水栓における節湯補正給湯熱負荷 (MJ/d)\n",
    "    :param L_dash_w_d: 1日当たりの洗面水栓における節湯補正給湯熱負荷 (MJ/d)\n",
    "    :param L_dash_b1_d: 1日当たりの浴槽水栓湯はりにおける節湯補正給湯熱負荷 (MJ/d)\n",
    "    :param L_dash_b2_d: 1日当たりの浴槽自動湯はりにおける節湯補正給湯熱負荷 (MJ/d)\n",
    "    :param L_dash_ba1_d: 1日当たりの浴槽水栓さし湯における節湯補正給湯熱負荷 (MJ/d)\n",
    "    :return: 1日当たりの液体集熱式太陽熱利用設備による補正集熱量 (MJ/d)\n",
    "    \"\"\"\n",
    "    # 1日当たりのソーラーシステムのタンク蓄熱量の上限による補正集熱量\n",
    "    L_tnk_ss_d = get_L_tnk_ss_d(Q_ss_d, W_tnk_ss, Theta_wtr_d)\n",
    "\n",
    "    # 液体集熱式太陽熱利用設備の分担率上限値\n",
    "    f_sr_uplim_ss = get_f_sr_uplim_ss()\n",
    "\n",
    "    # 1日当たりの液体集熱式太陽熱利用設備による補正集熱量 (8)\n",
    "    L_sun_lss_ss_d = np.min(\n",
    "        [L_tnk_ss_d, (L_dash_k_d + L_dash_s_d + L_dash_w_d + L_dash_b1_d + L_dash_b2_d + L_dash_ba1_d) * f_sr_uplim_ss],\n",
    "        axis=0)\n",
    "\n",
    "    return L_sun_lss_ss_d"
   ]
  },
  {
   "cell_type": "markdown",
   "metadata": {},
   "source": [
    "液体集熱式太陽熱利用設備の分担率上限値$f_{sr,uplim,ss}$は、0.9とする。 "
   ]
  },
  {
   "cell_type": "code",
   "execution_count": null,
   "metadata": {},
   "outputs": [],
   "source": [
    "# 液体集熱式太陽熱利用設備の分担率上限値\n",
    "def get_f_sr_uplim_ss():\n",
    "    return 0.9"
   ]
  },
  {
   "cell_type": "markdown",
   "metadata": {},
   "source": [
    "$$\\large\n",
    "L_{tnk,ss,d} = min(Q_{ss,d} ,  HC_{tnk,ss,d} \\times \\alpha_{tnk,ss,d})\n",
    "$$"
   ]
  },
  {
   "cell_type": "markdown",
   "metadata": {},
   "source": [
    "$L_{tnk,ss,d}$：日付$d$における1日当たりのソーラーシステムのタンク蓄熱量の上限による補正集熱量(MJ/d)  \n",
    "$HC_{tnk,ss,d}$：日付$d$におけるソーラーシステムのタンク蓄熱量の上限(MJ)  \n",
    "$Q_{ss,d}$：日付$d$における1日当たりの基準集熱量(MJ/d)  \n",
    "$\\alpha_{tnk,ss,d}$：日付$d$におけるソーラーシステムのタンク有効利用率(1/d)  "
   ]
  },
  {
   "cell_type": "code",
   "execution_count": null,
   "metadata": {},
   "outputs": [],
   "source": [
    "# 1日当たりのソーラーシステムのタンク蓄熱量の上限による補正集熱量 (11)\n",
    "def get_L_tnk_ss_d(Q_ss_d, W_tnk_ss, Theta_wtr_d):\n",
    "    \"\"\"\n",
    "    :param Q_ss_d: 1日当たりの基準集熱量 (MJ/d)\n",
    "    :param W_tnk_ss: ソーラーシステムのタンク容量 (L)\n",
    "    :param Theta_wtr_d: 日平均給水温度 (℃)\n",
    "    :return: 1日当たりのソーラーシステムのタンク蓄熱量の上限による補正集熱量 (MJ/d)\n",
    "    \"\"\"\n",
    "    # ソーラーシステムのタンク蓄熱量 (MJ)\n",
    "    HC_tnk_ss_d = get_HC_tnk_ss_d(W_tnk_ss, Theta_wtr_d)\n",
    "\n",
    "    # ソーラーシステムのタンク有効利用率 (-)\n",
    "    alpha_tnk_ss_d = get_alpha_tnk_ss_d()\n",
    "\n",
    "    # 1日当たりのソーラーシステムのタンク蓄熱量の上限による補正集熱量 (9)\n",
    "    # Q_ss_d および HC_tnk_ss_d * alpha_tnk_ss_d の1日ごとの最小をとるために、axis=0を指定\n",
    "    L_tnk_ss_d = np.min([Q_ss_d, HC_tnk_ss_d * alpha_tnk_ss_d], axis=0)\n",
    "\n",
    "    return L_tnk_ss_d"
   ]
  },
  {
   "cell_type": "markdown",
   "metadata": {},
   "source": [
    "日付$d$におけるソーラーシステムのタンク有効利用率$\\alpha_{tnk,ss,d}$は、日付$d$によらず1.0に等しい。"
   ]
  },
  {
   "cell_type": "code",
   "execution_count": null,
   "metadata": {},
   "outputs": [],
   "source": [
    "# ソーラーシステムのタンク有効利用率 (-)\n",
    "def get_alpha_tnk_ss_d():\n",
    "    return 1.0"
   ]
  },
  {
   "cell_type": "markdown",
   "metadata": {},
   "source": [
    "$$\\large\n",
    "HC_{tnk,ss,d} = (\\theta_{tnk,ss} - \\theta_{wtr,d}) \\times W_{tnk,ss} \\times 4.186 \\times 10^{-3}\n",
    "$$"
   ]
  },
  {
   "cell_type": "markdown",
   "metadata": {},
   "source": [
    "$HC_{tnk,ss,d}$：日付$d$におけるソーラーシステムのタンク蓄熱量の上限(MJ)  \n",
    "$W_{tnk,ss}$：ソーラーシステムのタンク容量(L)  \n",
    "$\\theta_{tnk,ss}$：ソーラーシステムのタンク内温度(℃)  \n",
    "$\\theta_{wtr,d}$：日付$d$における日平均給水温度(℃)  "
   ]
  },
  {
   "cell_type": "code",
   "execution_count": null,
   "metadata": {},
   "outputs": [],
   "source": [
    "# ソーラーシステムのタンク蓄熱量 (12)\n",
    "def get_HC_tnk_ss_d(W_tnk_ss, Theta_wtr_d):\n",
    "    \"\"\"\n",
    "    :param W_tnk_ss: ソーラーシステムのタンク容量 (L)\n",
    "    :param Theta_wtr_d: 日平均給水温度 (℃)\n",
    "    :return: ソーラーシステムのタンク蓄熱量 (MJ)\n",
    "    \"\"\"\n",
    "    # ソーラーシステムのタンク内温度 (℃)\n",
    "    Theta_tnk_ss = get_Theta_tnk_ss()\n",
    "\n",
    "    # ソーラーシステムのタンク蓄熱量 (10)\n",
    "    HC_tnk_ss_d = (Theta_tnk_ss - Theta_wtr_d) * W_tnk_ss * 4.186 * 10 ** (-3)\n",
    "\n",
    "    return HC_tnk_ss_d"
   ]
  },
  {
   "cell_type": "markdown",
   "metadata": {},
   "source": [
    "ソーラーシステムのタンク内温度$\\theta_{tnk,ss}$は65℃とする。 "
   ]
  },
  {
   "cell_type": "code",
   "execution_count": null,
   "metadata": {},
   "outputs": [],
   "source": [
    "# ソーラーシステムのタンク内温度 (℃)\n",
    "def get_Theta_tnk_ss():\n",
    "    return 65.0\n"
   ]
  },
  {
   "cell_type": "markdown",
   "metadata": {},
   "source": [
    "#### 7.2 基準集熱量"
   ]
  },
  {
   "cell_type": "markdown",
   "metadata": {},
   "source": [
    "$$\\large\n",
    "Q_{ss,d} = Q_{sp,ss,d} \\times A_{sp,ss} \\times f_{sp,ss} \\times f_{s,ss}\n",
    "$$"
   ]
  },
  {
   "cell_type": "markdown",
   "metadata": {},
   "source": [
    "$A_{sp,ss}$：太陽熱集熱部の有効集熱面積(m<sup>2</sup>)  \n",
    "$Q_{ss,d}$：日付$d$における1日当たりの基準集熱量(MJ/d)  \n",
    "$Q_{sp,ss,d}$：日付$d$における1日当たりの太陽熱集熱部設置面の単位面積当たりの日射量(MJ/(m<sup>2</sup>・d))  \n",
    "$f_{s,ss}$：液体集熱式太陽熱利用設備のシステム効率(-)  \n",
    "$f_{sp,ss}$：太陽熱集熱部の集熱効率(-)  "
   ]
  },
  {
   "cell_type": "code",
   "execution_count": null,
   "metadata": {},
   "outputs": [],
   "source": [
    "# 1日当たりの基準集熱量 (13)\n",
    "def get_Q_ss_d(A_sp_ss, P_alpha_sp_ss, P_beta_sp_ss, region, sol_region):\n",
    "    \"\"\"\n",
    "    :param A_sp_ss: ソーラーシステムの太陽熱集熱部の有効集熱面積 (m2)\n",
    "    :param P_alpha_sp_ss: ソーラーシステムの太陽熱集熱部の方位角 (°)\n",
    "    :param P_beta_sp_ss: ソーラーシステムの太陽熱集熱部の傾斜角 (°)\n",
    "    :param region:　省エネルギー地域区分\n",
    "    :param sol_region: 年間日射地域区分\n",
    "    :return: 1日当たりの基準集熱量 (MJ/d))\n",
    "    \"\"\"\n",
    "    # 1日当たりの太陽熱集熱部設置面の単位面積当たりの日射量\n",
    "    Q_sp_ss_d = get_Q_sp_ss_d(P_alpha_sp_ss, P_beta_sp_ss, region, sol_region)\n",
    "\n",
    "    # 太陽熱集熱部の集熱効率\n",
    "    f_sp_ss = get_f_sp_ss()\n",
    "\n",
    "    # 液体集熱式太陽熱利用設備のシステム効率\n",
    "    f_s_ss = get_f_s_ss()\n",
    "\n",
    "    # 1日当たりの基準集熱量 (11)\n",
    "    Q_ss_d = Q_sp_ss_d * A_sp_ss * f_sp_ss * f_s_ss\n",
    "\n",
    "    return Q_ss_d"
   ]
  },
  {
   "cell_type": "markdown",
   "metadata": {},
   "source": [
    "太陽熱集熱部の集熱効率$f_{sp,ss}$は、0.4とする。液体集熱式太陽熱利用設備のシステム効率$f_{s,ss}$は、0.85とする。 "
   ]
  },
  {
   "cell_type": "markdown",
   "metadata": {},
   "source": [
    "太陽熱集熱部の有効集熱面積$A_{sp,ss}$は、ISO 9488 の 8.6 節「aperture area」に規定される方法により算出した値とするか、JIS A 4112 に規定される集熱器総面積に 0.85 を乗じた値とする。 "
   ]
  },
  {
   "cell_type": "code",
   "execution_count": null,
   "metadata": {},
   "outputs": [],
   "source": [
    "# 太陽熱集熱部の集熱効率 (-)\n",
    "def get_f_sp_ss():\n",
    "    return 0.4\n",
    "\n",
    "\n",
    "# 液体集熱式太陽熱利用設備のシステム効率 (-)\n",
    "def get_f_s_ss():\n",
    "    return 0.85"
   ]
  },
  {
   "cell_type": "code",
   "execution_count": null,
   "metadata": {},
   "outputs": [],
   "source": [
    "# 太陽熱集熱部の有効集熱面積 (m2)\n",
    "def get_A_sp_ss_JIS_A_4112(A):\n",
    "    return A * 0.85"
   ]
  },
  {
   "cell_type": "markdown",
   "metadata": {},
   "source": [
    "$$\\large\n",
    "Q_{sp,ss,d} = \\sum_{t = 0}^{23} ( I_{s,sp,ss,d,t} \\times 3600 \\times 10^{-6} )\n",
    "$$"
   ]
  },
  {
   "cell_type": "markdown",
   "metadata": {},
   "source": [
    "$I_{s,sp,ss,d,t}$：日付$d$の時刻$t$における太陽熱集熱部設置面の単位面積当たりの平均日射量(W/m<sup>2</sup>)  \n",
    "$Q_{sp,ss,d}$：日付$d$における1日当たりの太陽熱集熱部設置面の単位面積当たりの日射量(MJ/m<sup>2</sup>・d)  "
   ]
  },
  {
   "cell_type": "code",
   "execution_count": null,
   "metadata": {},
   "outputs": [],
   "source": [
    "# 1日当たりの太陽熱集熱部設置面の単位面積当たりの日射量 (MJ/(m2・d)) (14)\n",
    "def get_Q_sp_ss_d(P_alpha_sp_ss, P_beta_sp_ss, region, sol_region):\n",
    "    \"\"\"\n",
    "    :param P_alpha_sp_ss: ソーラーシステムの太陽熱集熱部の方位角 (°)\n",
    "    :param P_beta_sp_ss: ソーラーシステムの太陽熱集熱部の傾斜角 (°)\n",
    "    :param region:　省エネルギー地域区分\n",
    "    :param sol_region: 年間日射地域区分\n",
    "    :return: 1日当たりの太陽熱集熱部設置面の単位面積当たりの日射量 (MJ/(m2・d))\n",
    "    \"\"\"\n",
    "    # 太陽熱集熱部設置面の単位面積当たりの平均日射量\n",
    "    solrad = load_solrad(region, sol_region)\n",
    "    I_s_sp_ss_d_t = get_I_s_d_t(P_alpha_sp_ss, P_beta_sp_ss, solrad)\n",
    "\n",
    "    # 1日当たりの太陽熱集熱部設置面の単位面積当たりの日射量を求める\n",
    "    # 8760時間が一次配列で与えられるので、365*24の2次配列へ並べ替える\n",
    "    tmp = I_s_sp_ss_d_t.reshape(365, 24)\n",
    "\n",
    "    # 配列の2次の軸(=各日24時間分)を加算する\n",
    "    tmp = np.sum(tmp, axis=1)\n",
    "\n",
    "    # 単位をWからMJへ換算する\n",
    "    Q_sp_ss_d = tmp * 3600 * 10 ** (-6)\n",
    "\n",
    "    return Q_sp_ss_d"
   ]
  },
  {
   "cell_type": "markdown",
   "metadata": {},
   "source": [
    "#### 7.3 循環ポンプの消費電力量"
   ]
  },
  {
   "cell_type": "markdown",
   "metadata": {},
   "source": [
    "$$\\large\n",
    "E_{E,ss,cp,d,t} = P_{cp,ss} \\times t_{cp,ss,d,t} \\times 10^{-3}\n",
    "$$"
   ]
  },
  {
   "cell_type": "markdown",
   "metadata": {},
   "source": [
    "$E_{E,ss,cp,d,t}$：日付$d$の時刻$t$における1時間当たりのソーラーシステムの循環ポンプの消費電力量(kWh/h)  \n",
    "$P_{cp,ss}$：ソーラーシステムの循環ポンプの消費電力(W)  \n",
    "$t_{cp,ss,d,t}$：日付$d$の時刻$t$における1時間当たりのソーラーシステムの循環ポンプの稼働時間(h/h)  "
   ]
  },
  {
   "cell_type": "code",
   "execution_count": null,
   "metadata": {},
   "outputs": [],
   "source": [
    "# 1時間当たりのソーラーシステムの循環ポンプの消費電力量 (15)\n",
    "def get_E_E_ss_cp_d_t(pmp_type, P_alpha_sp_ss, P_beta_sp_ss, region, sol_region):\n",
    "    \"\"\"\n",
    "    :param pmp_type: ソーラーシステムの循環ポンプの種類 (省消費電力型,上記以外の機種)\n",
    "    :param P_alpha_sp_ss: ソーラーシステムの太陽熱集熱部の方位角 (°)\n",
    "    :param P_beta_sp_ss: ソーラーシステムの太陽熱集熱部の傾斜角 (°)\n",
    "    :param region:　省エネルギー地域区分\n",
    "    :param sol_region: 年間日射地域区分\n",
    "    :return: 1時間当たりのソーラーシステムの循環ポンプの消費電力量 (kWh/h)\n",
    "    \"\"\"\n",
    "    # ソーラーシステムの循環ポンプの消費電力 (W)\n",
    "    P_cp_ss = get_P_cp_ss(pmp_type)\n",
    "\n",
    "    # 太陽熱集熱部設置面の単位面積当たりの平均日射量 (W/m2)\n",
    "    solrad = load_solrad(region, sol_region)\n",
    "    I_s_sp_ss_d_t = get_I_s_d_t(P_alpha_sp_ss, P_beta_sp_ss, solrad)\n",
    "\n",
    "    # 1時間当たりのソーラーシステムの循環ポンプの稼働時間\n",
    "    t_cp_ss_d = get_t_cp_ss_d_t(I_s_sp_ss_d_t)\n",
    "\n",
    "    return P_cp_ss * t_cp_ss_d * 10 ** (-3)"
   ]
  },
  {
   "cell_type": "markdown",
   "metadata": {},
   "source": [
    "<div style=\"text-align: center;font-weight: bold;\">表　ソーラーシステムの循環ポンプの消費電力$P_{cp,ss}$の値と適用条件</div>\n",
    "\n",
    "|項目|適用条件|循環ポンプの消費電力$P_{cp,ss}$|\n",
    "|-|-|-|\n",
    "|省消費電力型|現時点では該当するポンプがない|40|\n",
    "|上記以外の機種|すべてのポンプ|80|"
   ]
  },
  {
   "cell_type": "code",
   "execution_count": null,
   "metadata": {},
   "outputs": [],
   "source": [
    "# ソーラーシステムの循環ポンプの消費電力\n",
    "def get_P_cp_ss(pmp_type):\n",
    "    \"\"\"\n",
    "    :param pmp_type: ソーラーシステムの循環ポンプの種類 (省消費電力型,上記以外の機種)\n",
    "    :return: ソーラーシステムの循環ポンプの消費電力 (W)\n",
    "    \"\"\"\n",
    "    # 表3 ソーラーシステムの循環ポンプの消費電力の値と適用条件\n",
    "    table_3 = (40.0, 80.0)\n",
    "\n",
    "    if pmp_type == '省消費電力型':\n",
    "        return table_3[0]\n",
    "    elif pmp_type == '上記以外の機種':\n",
    "        return table_3[1]\n",
    "    else:\n",
    "        raise ValueError(pmp_type)"
   ]
  },
  {
   "cell_type": "markdown",
   "metadata": {},
   "source": [
    "#### 7.4 循環ポンプの稼働時間"
   ]
  },
  {
   "cell_type": "markdown",
   "metadata": {},
   "source": [
    "$I_{s,lwlim,cp,ss} \\leq I_{s,sp,ss,d,t}$の場合： "
   ]
  },
  {
   "cell_type": "markdown",
   "metadata": {},
   "source": [
    "$$\\large\n",
    "t_{cp,ss,d,t} = 1\n",
    "$$"
   ]
  },
  {
   "cell_type": "markdown",
   "metadata": {},
   "source": [
    "$I_{s,sp,ss,d,t} < I_{s,lwlim,cp,ss}$の場合： "
   ]
  },
  {
   "cell_type": "markdown",
   "metadata": {},
   "source": [
    "$$\\large\n",
    "t_{cp,ss,d,t} = 0\n",
    "$$"
   ]
  },
  {
   "cell_type": "markdown",
   "metadata": {},
   "source": [
    "$I_{s,lwlim,cp,ss}$：循環ポンプが稼働する太陽熱集熱部設置面の単位面積当たりの日射量の下限(W/m<sup>2</sup>)  \n",
    "$I_{s,sp,ss,d,t}$：日付$d$の時刻$t$における太陽熱集熱部設置面の単位面積当たりの平均日射量(W/m<sup>2</sup>)  \n",
    "$t_{cp,ss,d,t}$：日付$d$の時刻$t$における1時間当たりのソーラーシステムの循環ポンプの稼働時間(h/h)  "
   ]
  },
  {
   "cell_type": "code",
   "execution_count": null,
   "metadata": {},
   "outputs": [],
   "source": [
    "# 1時間当たりのソーラーシステムの循環ポンプの稼働時間 (h/h) (16)\n",
    "def get_t_cp_ss_d_t(I_s_sp_ss_d_t):\n",
    "    \"\"\"\n",
    "    :param I_s_sp_ss_d_t: 傾斜面の単位面積当たりの平均日射量 (W/m2)\n",
    "    :return: 1時間当たりのソーラーシステムの循環ポンプの稼働時間 (h/h)\n",
    "    \"\"\"\n",
    "    # ソーラーシステムの循環ポンプが稼働する太陽熱集熱部設置面の単位面積当たりの日射量の下限\n",
    "    I_s_lwlim_cp_ss = get_I_s_lwlim_cp_ss()\n",
    "\n",
    "    # 1時間当たりのソーラーシステムの循環ポンプの稼働時間の計算領域を確保\n",
    "    t_cp_ss_d_t = np.zeros(24 * 365, dtype=np.int32)\n",
    "\n",
    "    # I_s_lwlim_cp_ss <= I_s_sp_ss_d_t の場合\n",
    "    f1 = I_s_lwlim_cp_ss <= I_s_sp_ss_d_t\n",
    "    t_cp_ss_d_t[f1] = 1  # (15-1)\n",
    "\n",
    "    # I_s_sp_ss_d_t < I_s_lwlim_cp_ss  の場合\n",
    "    f2 = I_s_sp_ss_d_t < I_s_lwlim_cp_ss\n",
    "    t_cp_ss_d_t[f2] = 0  # (15-2)\n",
    "\n",
    "    return t_cp_ss_d_t"
   ]
  },
  {
   "cell_type": "markdown",
   "metadata": {},
   "source": [
    "ソーラーシステムの循環ポンプが稼働する太陽熱集熱部設置面の単位面積当たりの日射量の下限$I_{s,lwlim,cp,ss}$は、150 W/m<sup>2</sup> とする。 "
   ]
  },
  {
   "cell_type": "code",
   "execution_count": null,
   "metadata": {},
   "outputs": [],
   "source": [
    "# ソーラーシステムの循環ポンプが稼働する太陽熱集熱部設置面の単位面積当たりの日射量の下限 (W/2m)\n",
    "def get_I_s_lwlim_cp_ss():\n",
    "    return 150.0"
   ]
  },
  {
   "cell_type": "markdown",
   "metadata": {},
   "source": [
    "## 付録A"
   ]
  },
  {
   "cell_type": "markdown",
   "metadata": {},
   "source": [
    "省略"
   ]
  }
 ],
 "metadata": {
  "kernelspec": {
   "display_name": "Python 3",
   "language": "python",
   "name": "python3"
  },
  "language_info": {
   "codemirror_mode": {
    "name": "ipython",
    "version": 3
   },
   "file_extension": ".py",
   "mimetype": "text/x-python",
   "name": "python",
   "nbconvert_exporter": "python",
   "pygments_lexer": "ipython3",
   "version": "3.6.7"
  }
 },
 "nbformat": 4,
 "nbformat_minor": 2
}
