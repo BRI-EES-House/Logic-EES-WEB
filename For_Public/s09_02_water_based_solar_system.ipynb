{
 "cells": [
  {
   "cell_type": "markdown",
   "metadata": {},
   "source": [
    "# 第九章　自然エネルギー利用設備"
   ]
  },
  {
   "cell_type": "markdown",
   "metadata": {},
   "source": [
    "## 第二節　液体集熱式太陽熱利用設備"
   ]
  },
  {
   "cell_type": "markdown",
   "metadata": {},
   "source": [
    "1．適用範囲～4．記号及び単位は省略"
   ]
  },
  {
   "cell_type": "markdown",
   "metadata": {},
   "source": [
    "### 5．全般"
   ]
  },
  {
   "cell_type": "markdown",
   "metadata": {},
   "source": [
    "#### 5.1 補正集熱量"
   ]
  },
  {
   "cell_type": "markdown",
   "metadata": {},
   "source": [
    "採用する設備が太陽熱温水器の場合： "
   ]
  },
  {
   "cell_type": "markdown",
   "metadata": {},
   "source": [
    "$$\\large\n",
    "L_{sun,lss,d,t} = L_{sun,lss,sh,d,t}\n",
    "$$"
   ]
  },
  {
   "cell_type": "markdown",
   "metadata": {},
   "source": [
    "採用する設備がソーラーシステムの場合： "
   ]
  },
  {
   "cell_type": "markdown",
   "metadata": {},
   "source": [
    "$$\\large\n",
    "L_{sun,lss,d,t} = L_{sun,lss,ss,d,t}\n",
    "$$"
   ]
  },
  {
   "cell_type": "markdown",
   "metadata": {},
   "source": [
    "$L_{sun,lss,d,t}$：日付$d$の時刻$t$における1時間当たりの液体集熱式太陽熱利用設備による補正集熱量(MJ/h)  \n",
    "$L_{sun,lss,sh,d,t}$：採用する設備が太陽熱温水器の場合の日付$d$の時刻$t$における1時間当たりの液体集熱式太陽熱利用設備による補正集熱量(MJ/h)  \n",
    "$L_{sun,lss,ss,d,t}$：採用する設備がソーラーシステムの場合の日付$d$の時刻$t$における1時間当たりの液体集熱式太陽熱利用設備による補正集熱量(MJ/h)  "
   ]
  },
  {
   "cell_type": "markdown",
   "metadata": {},
   "source": [
    "#### 5.2 補機の消費電力量"
   ]
  },
  {
   "cell_type": "markdown",
   "metadata": {},
   "source": [
    "採用する設備が太陽熱温水器の場合： "
   ]
  },
  {
   "cell_type": "markdown",
   "metadata": {},
   "source": [
    "$$\\large\n",
    "E_{E,lss,aux,d,t} = 0\n",
    "$$"
   ]
  },
  {
   "cell_type": "markdown",
   "metadata": {},
   "source": [
    "採用する設備がソーラーシステムの場合： "
   ]
  },
  {
   "cell_type": "markdown",
   "metadata": {},
   "source": [
    "$$\\large\n",
    "E_{E,lss,aux,d,t} = E_{E,ss,cp,d,t}\n",
    "$$"
   ]
  },
  {
   "cell_type": "markdown",
   "metadata": {},
   "source": [
    "$E_{E,lss,aux,d,t}$：日付$d$の時刻$t$における1時間当たりの補機の消費電力量(kWh/h)  \n",
    "$E_{E,ss,cp,d,t}$：日付$d$の時刻$t$における1時間当たりのソーラーシステムの循環ポンプの消費電力量(kWh/h) "
   ]
  },
  {
   "cell_type": "markdown",
   "metadata": {},
   "source": [
    "### 6．太陽熱温水器"
   ]
  },
  {
   "cell_type": "markdown",
   "metadata": {},
   "source": [
    "#### 6.1 補正集熱量"
   ]
  },
  {
   "cell_type": "markdown",
   "metadata": {},
   "source": [
    "$L'_{k,d} + L'_{s,d} + L'_{w,d} + L'_{b1,d} + L'_{b2,d} + L'_{ba1,d} = 0$ の場合："
   ]
  },
  {
   "cell_type": "markdown",
   "metadata": {},
   "source": [
    "$$\\large\n",
    "L_{sun,lss,sh,d,t} = 0\n",
    "$$"
   ]
  },
  {
   "cell_type": "markdown",
   "metadata": {},
   "source": [
    "$L'_{k,d} + L'_{s,d} + L'_{w,d} + L'_{b1,d} + L'_{b2,d} + L'_{ba1,d} > 0$ の場合："
   ]
  },
  {
   "cell_type": "markdown",
   "metadata": {},
   "source": [
    "$$\\large\n",
    "L_{sun,lss,sh,d,t} = L_{sun,lss,sh,d} \\times \\frac{L'_{k,d,t} + L'_{s,d,t} + L'_{w,d,t} + L'_{b1,d,t} + L'_{b2,d,t} + L'_{ba1,d,t}}{L'_{k,d} + L'_{s,d} + L'_{w,d} + L'_{b1,d} + L'_{b2,d} + L'_{ba1,d}}\n",
    "$$"
   ]
  },
  {
   "cell_type": "markdown",
   "metadata": {},
   "source": [
    "$L_{sun,lss,sh,d}$ : 日付$d$における1日当たりの液体集熱式太陽熱利用設備による補正集熱量(MJ/d)  \n",
    "$L_{sun,lss,sh,d,t}$ : 日付$d$の時刻$t$における1時間当たりの液体集熱式太陽熱利用設備による補正集熱量(MJ/h)  \n",
    "$L'_{k,d}$ : 日付$d$における1日当たりの台所水栓における節湯補正給湯熱負荷(MJ/d)  \n",
    "$L'_{s,d}$ : 日付$d$における1日当たりの浴室シャワー水栓における節湯補正給湯熱負荷(MJ/d)  \n",
    "$L'_{w,d}$ : 日付$d$における1日当たりの洗面水栓における節湯補正給湯熱負荷(MJ/d)  \n",
    "$L'_{b1,d}$ : 日付$d$における1日当たりの浴槽水栓湯はり時における節湯補正給湯熱負荷(MJ/d)  \n",
    "$L'_{b2,d}$ : 日付$d$における1日当たりの浴槽自動湯はり時における節湯補正給湯熱負荷(MJ/d)  \n",
    "$L'_{ba1,d}$ : 日付$d$における1日当たりの浴槽水栓さし湯時における節湯補正給湯熱負荷(MJ/d)  \n",
    "$L'_{k,d,t}$ : 日付$d$の時刻$t$における1時間当たりの台所水栓における節湯補正給湯熱負荷(MJ/h)  \n",
    "$L'_{s,d,t}$ : 日付$d$の時刻$t$における1時間当たりの浴室シャワー水栓における節湯補正給湯熱負荷(MJ/h)  \n",
    "$L'_{w,d,t}$ : 日付$d$の時刻$t$における1時間当たりの洗面水栓における節湯補正給湯熱負荷(MJ/h)  \n",
    "$L'_{b1,d,t}$ : 日付$d$の時刻$t$における1時間当たりの浴槽水栓湯はり時における節湯補正給湯熱負荷(MJ/h)  \n",
    "$L'_{b2,d,t}$ : 日付$d$の時刻$t$における1時間当たりの浴槽自動湯はり時における節湯補正給湯熱負荷(MJ/h)  \n",
    "$L'_{ba1,d,t}$ : 日付$d$の時刻$t$における1時間当たりの浴槽水栓さし湯時における節湯補正給湯熱負荷(MJ/h)"
   ]
  },
  {
   "cell_type": "markdown",
   "metadata": {},
   "source": [
    "$\\theta_{ex,lwlim,sh} \\leq \\theta_{ex,s,prd,Ave,d}$の場合： "
   ]
  },
  {
   "cell_type": "markdown",
   "metadata": {},
   "source": [
    "$$\\large\n",
    "L_{sun,lss,sh,d} = min(Q_{sh,d} ,  (L'_{k,d} + L'_{s,d} + L'_{w,d} + L'_{b1,d} + L'_{b2,d} + L'_{ba1,d}) \\times f_{sr,uplim,sh})\n",
    "$$"
   ]
  },
  {
   "cell_type": "markdown",
   "metadata": {},
   "source": [
    "$\\theta_{ex,s,prd,Ave,d} < \\theta_{ex,lwlim,sh}$の場合： "
   ]
  },
  {
   "cell_type": "markdown",
   "metadata": {},
   "source": [
    "$$\\large\n",
    "L_{sun,lss,sh,d} = 0\n",
    "$$"
   ]
  },
  {
   "cell_type": "markdown",
   "metadata": {},
   "source": [
    "$f_{sr,uplim,sh}$：液体集熱式太陽熱利用設備の分担率上限値(-)  \n",
    "$L_{sun,lss,sh,d}$：日付$d$における1日当たりの液体集熱式太陽熱利用設備による補正集熱量(MJ/d)  \n",
    "$L'_{k,d}$：日付$d$における1日当たりの台所水栓における節湯補正給湯熱負荷(MJ/d)  \n",
    "$L'_{s,d}$：日付$d$における1日当たりの浴室シャワー水栓における節湯補正給湯熱負荷(MJ/d)  \n",
    "$L'_{w,d}$：日付$d$における1日当たりの洗面水栓における節湯補正給湯熱負荷(MJ/d)  \n",
    "$L'_{b1,d}$：日付$d$における1日当たりの浴槽水栓湯はり時における節湯補正給湯熱負荷(MJ/d)  \n",
    "$L'_{b2,d}$：日付$d$における1日当たりの浴槽自動湯はり時における節湯補正給湯熱負荷(MJ/d)  \n",
    "$L'_{ba1,d}$：日付$d$における1日当たりの浴槽水栓さし湯時における節湯補正給湯熱負荷(MJ/d)  \n",
    "$Q_{sh,d}$：日付$d$における1日当たりの基準集熱量(MJ/d)  \n",
    "$\\theta_{ex,s,prd,Ave,d}$：日付$d$を基準とした期間平均太陽熱外気温度(℃)  \n",
    "$\\theta_{ex,lwlim,sh}$：液体集熱式太陽熱利用設備を使用できる外気温度の下限(℃)  "
   ]
  },
  {
   "cell_type": "markdown",
   "metadata": {},
   "source": [
    "液体集熱式太陽熱利用設備を使用できる外気温度の下限$\\theta_{ex,lwlim,sh}$は、5℃とする。液体集熱式太陽熱利用設備の分担率上限値$f_{sr,uplim,sh}$は、0.9とする。 "
   ]
  },
  {
   "cell_type": "markdown",
   "metadata": {},
   "source": [
    "#### 6.2 基準集熱量"
   ]
  },
  {
   "cell_type": "markdown",
   "metadata": {},
   "source": [
    "$$\\large\n",
    "Q_{sh,d} = Q_{sp,sh,d} \\times A_{sp,sh} \\times f_{sp,sh} \\times f_{s,sh}\n",
    "$$"
   ]
  },
  {
   "cell_type": "markdown",
   "metadata": {},
   "source": [
    "$A_{sp,sh}$：太陽熱集熱部の有効集熱面積(m<sup>2</sup>)  \n",
    "$Q_{sh,d}$：日付$d$における1日当たりの基準集熱量(MJ/d)  \n",
    "$Q_{sp,sh,d}$：日付$d$における1日当たりの太陽熱集熱部設置面の単位面積当たりの日射量(MJ/m<sup>2</sup>・d)  \n",
    "$f_{s,sh}$：液体集熱式太陽熱利用設備のシステム効率(-)  \n",
    "$f_{sp,sh}$：太陽熱集熱部の集熱効率(-)  "
   ]
  },
  {
   "cell_type": "markdown",
   "metadata": {},
   "source": [
    "太陽熱集熱部の集熱効率$f_{sp,sh}$は、0.4とする。液体集熱式太陽熱利用設備のシステム効率$f_{s,sh}$は、0.85とする。 "
   ]
  },
  {
   "cell_type": "markdown",
   "metadata": {},
   "source": [
    "$$\\large\n",
    "Q_{sp,sh,d} = \\sum_{t = 0}^{23} ( I_{s,sp,sh,d,t} \\times 3600 \\times 10^{-6} )\n",
    "$$"
   ]
  },
  {
   "cell_type": "markdown",
   "metadata": {},
   "source": [
    "$I_{s,sp,sh,d,t}$：日付$d$の時刻$t$における太陽熱集熱部設置面の単位面積当たりの平均日射量(W/m<sup>2</sup>)  \n",
    "$Q_{sp,sh,d}$：日付$d$における1日当たりの太陽熱集熱部設置面の単位面積当たりの日射量(MJ/(m<sup>2</sup>・d))  "
   ]
  },
  {
   "cell_type": "markdown",
   "metadata": {},
   "source": [
    "#### 6.3 期間平均太陽熱外気温度"
   ]
  },
  {
   "cell_type": "markdown",
   "metadata": {},
   "source": [
    "$$\\large\n",
    "\\theta_{ex,s,prd,Ave,d} = \\sum_{i = 0}^{30} \\theta_{ex,s,Ave,d - 15 + i} \\big/ 31\n",
    "$$"
   ]
  },
  {
   "cell_type": "markdown",
   "metadata": {},
   "source": [
    "$\\theta_{ex,s,prd,Ave,d}$：日付$d$を基準とした期間平均太陽熱外気温度(℃)  \n",
    "$\\theta_{ex,s,Ave,d}$：日付$d$における日平均太陽熱外気温度(℃)  "
   ]
  },
  {
   "cell_type": "markdown",
   "metadata": {},
   "source": [
    "$$\\large\n",
    "\\theta_{ex,s,Ave,d} = \\sum_{t = 0}^{23} \\theta_{ex,s,d,t} \\big/ 24\n",
    "$$"
   ]
  },
  {
   "cell_type": "markdown",
   "metadata": {},
   "source": [
    "$\\theta_{ex,s,Ave,d}$：日付$d$における日平均太陽熱外気温度(℃)  \n",
    "$\\theta_{ex,s,d,t}$：日付$d$の時刻$t$における太陽熱外気温度(℃)  "
   ]
  },
  {
   "cell_type": "markdown",
   "metadata": {},
   "source": [
    "### 7．ソーラーシステム"
   ]
  },
  {
   "cell_type": "markdown",
   "metadata": {},
   "source": [
    "#### 7.1 補正集熱量"
   ]
  },
  {
   "cell_type": "markdown",
   "metadata": {},
   "source": [
    "$L'_{k,d} + L'_{s,d} + L'_{w,d} + L'_{b1,d} + L'_{b2,d} + L'_{ba1,d} = 0$ の場合："
   ]
  },
  {
   "cell_type": "markdown",
   "metadata": {},
   "source": [
    "$$\\large\n",
    "L_{sun,lss,ss,d,t} = 0\n",
    "$$"
   ]
  },
  {
   "cell_type": "markdown",
   "metadata": {},
   "source": [
    "$L'_{k,d} + L'_{s,d} + L'_{w,d} + L'_{b1,d} + L'_{b2,d} + L'_{ba1,d} > 0$ の場合："
   ]
  },
  {
   "cell_type": "markdown",
   "metadata": {},
   "source": [
    "$$\\large\n",
    "L_{sun,lss,ss,d,t} = L_{sun,lss,ss,d} \\times \\frac{L'_{k,d,t} + L'_{s,d,t} + L'_{w,d,t} + L'_{b1,d,t} + L'_{b2,d,t} + L'_{ba1,d,t}}{L'_{k,d} + L'_{s,d} + L'_{w,d} + L'_{b1,d} + L'_{b2,d} + L'_{ba1,d}}\n",
    "$$"
   ]
  },
  {
   "cell_type": "markdown",
   "metadata": {},
   "source": [
    "$L_{sun,lss,ss,d}$ : 日付$d$における1日当たりの液体集熱式太陽熱利用設備による補正集熱量(MJ/d)  \n",
    "$L_{sun,lss,ss,d,t}$ : 日付$d$の時刻$t$における1時間当たりの液体集熱式太陽熱利用設備による補正集熱量(MJ/h)  \n",
    "$L'_{k,d}$ : 日付$d$における1日当たりの台所水栓における節湯補正給湯熱負荷(MJ/d)  \n",
    "$L'_{s,d}$ : 日付$d$における1日当たりの浴室シャワー水栓における節湯補正給湯熱負荷(MJ/d)  \n",
    "$L'_{w,d}$ : 日付$d$における1日当たりの洗面水栓における節湯補正給湯熱負荷(MJ/d)  \n",
    "$L'_{b1,d}$ : 日付$d$における1日当たりの浴槽水栓湯はり時における節湯補正給湯熱負荷(MJ/d)  \n",
    "$L'_{b2,d}$ : 日付$d$における1日当たりの浴槽自動湯はり時における節湯補正給湯熱負荷(MJ/d)  \n",
    "$L'_{ba1,d}$ : 日付$d$における1日当たりの浴槽水栓さし湯時における節湯補正給湯熱負荷(MJ/d)  \n",
    "$L'_{k,d,t}$ : 日付$d$の時刻$t$における1時間当たりの台所水栓における節湯補正給湯熱負荷(MJ/h)  \n",
    "$L'_{s,d,t}$ : 日付$d$の時刻$t$における1時間当たりの浴室シャワー水栓における節湯補正給湯熱負荷(MJ/h)  \n",
    "$L'_{w,d,t}$ : 日付$d$の時刻$t$における1時間当たりの洗面水栓における節湯補正給湯熱負荷(MJ/h)  \n",
    "$L'_{b1,d,t}$ : 日付$d$の時刻$t$における1時間当たりの浴槽水栓湯はり時における節湯補正給湯熱負荷(MJ/h)  \n",
    "$L'_{b2,d,t}$ : 日付$d$の時刻$t$における1時間当たりの浴槽自動湯はり時における節湯補正給湯熱負荷(MJ/h)  \n",
    "$L'_{ba1,d,t}$ : 日付$d$の時刻$t$における1時間当たりの浴槽水栓さし湯時における節湯補正給湯熱負荷(MJ/h)"
   ]
  },
  {
   "cell_type": "markdown",
   "metadata": {},
   "source": [
    "$$\\large\n",
    "L_{sun,lss,sh,d} = min(L_{tnk,ss,d} ,  (L'_{k,d} + L'_{s,d} + L'_{w,d} + L'_{b1,d} + L'_{b2,d} + L'_{ba1,d}) \\times f_{sr,uplim,ss})\n",
    "$$"
   ]
  },
  {
   "cell_type": "markdown",
   "metadata": {},
   "source": [
    "$f_{sr,uplim,ss}$：液体集熱式太陽熱利用設備の分担率上限値(-)  \n",
    "$L_{sun,lss,ss,d}$：日付$d$における1日当たりの液体集熱式太陽熱利用設備による補正集熱量(MJ/d)  \n",
    "$L_{tnk,ss,d}$：日付$d$における1日当たりのソーラーシステムのタンク蓄熱量の上限による補正集熱量(MJ/d)  \n",
    "$L'_{k,d}$：日付$d$における1日当たりの台所水栓における節湯補正給湯熱負荷(MJ/d)  \n",
    "$L'_{s,d}$：日付$d$における1日当たりの浴室シャワー水栓における節湯補正給湯熱負荷(MJ/d)  \n",
    "$L'_{w,d}$：日付$d$における1日当たりの洗面水栓における節湯補正給湯熱負荷(MJ/d)  \n",
    "$L'_{b1,d}$：日付$d$における1日当たりの浴槽水栓湯はり時における節湯補正給湯熱負荷(MJ/d)  \n",
    "$L'_{b2,d}$：日付$d$における1日当たりの浴槽自動湯はり時における節湯補正給湯熱負荷(MJ/d)  \n",
    "$L'_{ba1,d}$：日付$d$における1日当たりの浴槽水栓さし湯時における節湯補正給湯熱負荷(MJ/d)  "
   ]
  },
  {
   "cell_type": "markdown",
   "metadata": {},
   "source": [
    "液体集熱式太陽熱利用設備の分担率上限値$f_{sr,uplim,ss}$は、0.9とする。 "
   ]
  },
  {
   "cell_type": "markdown",
   "metadata": {},
   "source": [
    "$$\\large\n",
    "L_{tnk,ss,d} = min(Q_{ss,d} ,  HC_{tnk,ss,d} \\times \\alpha_{tnk,ss,d})\n",
    "$$"
   ]
  },
  {
   "cell_type": "markdown",
   "metadata": {},
   "source": [
    "$L_{tnk,ss,d}$：日付$d$における1日当たりのソーラーシステムのタンク蓄熱量の上限による補正集熱量(MJ/d)  \n",
    "$HC_{tnk,ss,d}$：日付$d$におけるソーラーシステムのタンク蓄熱量の上限(MJ)  \n",
    "$Q_{ss,d}$：日付$d$における1日当たりの基準集熱量(MJ/d)  \n",
    "$\\alpha_{tnk,ss,d}$：日付$d$におけるソーラーシステムのタンク有効利用率(1/d)  "
   ]
  },
  {
   "cell_type": "markdown",
   "metadata": {},
   "source": [
    "日付$d$におけるソーラーシステムのタンク有効利用率$\\alpha_{tnk,ss,d}$は、日付$d$によらず1.0に等しい。"
   ]
  },
  {
   "cell_type": "markdown",
   "metadata": {},
   "source": [
    "$$\\large\n",
    "HC_{tnk,ss,d} = (\\theta_{tnk,ss} - \\theta_{wtr,d}) \\times W_{tnk,ss} \\times 4.186 \\times 10^{-3}\n",
    "$$"
   ]
  },
  {
   "cell_type": "markdown",
   "metadata": {},
   "source": [
    "$HC_{tnk,ss,d}$：日付$d$におけるソーラーシステムのタンク蓄熱量の上限(MJ)  \n",
    "$W_{tnk,ss}$：ソーラーシステムのタンク容量(L)  \n",
    "$\\theta_{tnk,ss}$：ソーラーシステムのタンク内温度(℃)  \n",
    "$\\theta_{wtr,d}$：日付$d$における日平均給水温度(℃)  "
   ]
  },
  {
   "cell_type": "markdown",
   "metadata": {},
   "source": [
    "ソーラーシステムのタンク内温度$\\theta_{tnk,ss}$は65℃とする。 "
   ]
  },
  {
   "cell_type": "markdown",
   "metadata": {},
   "source": [
    "#### 7.2 基準集熱量"
   ]
  },
  {
   "cell_type": "markdown",
   "metadata": {},
   "source": [
    "$$\\large\n",
    "Q_{ss,d} = Q_{sp,ss,d} \\times A_{sp,ss} \\times f_{sp,ss} \\times f_{s,ss}\n",
    "$$"
   ]
  },
  {
   "cell_type": "markdown",
   "metadata": {},
   "source": [
    "$A_{sp,ss}$：太陽熱集熱部の有効集熱面積(m<sup>2</sup>)  \n",
    "$Q_{ss,d}$：日付$d$における1日当たりの基準集熱量(MJ/d)  \n",
    "$Q_{sp,ss,d}$：日付$d$における1日当たりの太陽熱集熱部設置面の単位面積当たりの日射量(MJ/(m<sup>2</sup>・d))  \n",
    "$f_{s,ss}$：液体集熱式太陽熱利用設備のシステム効率(-)  \n",
    "$f_{sp,ss}$：太陽熱集熱部の集熱効率(-)  "
   ]
  },
  {
   "cell_type": "markdown",
   "metadata": {},
   "source": [
    "太陽熱集熱部の集熱効率$f_{sp,ss}$は、0.4とする。液体集熱式太陽熱利用設備のシステム効率$f_{s,ss}$は、0.85とする。 "
   ]
  },
  {
   "cell_type": "markdown",
   "metadata": {},
   "source": [
    "$$\\large\n",
    "Q_{sp,ss,d} = \\sum_{t = 0}^{23} ( I_{s,sp,ss,d,t} \\times 3600 \\times 10^{-6} )\n",
    "$$"
   ]
  },
  {
   "cell_type": "markdown",
   "metadata": {},
   "source": [
    "$I_{s,sp,ss,d,t}$：日付$d$の時刻$t$における太陽熱集熱部設置面の単位面積当たりの平均日射量(W/m<sup>2</sup>)  \n",
    "$Q_{sp,ss,d}$：日付$d$における1日当たりの太陽熱集熱部設置面の単位面積当たりの日射量(MJ/m<sup>2</sup>・d)  "
   ]
  },
  {
   "cell_type": "markdown",
   "metadata": {},
   "source": [
    "#### 7.3 循環ポンプの消費電力量"
   ]
  },
  {
   "cell_type": "markdown",
   "metadata": {},
   "source": [
    "$$\\large\n",
    "E_{E,ss,cp,d,t} = P_{cp,ss} \\times t_{cp,ss,d,t} \\times 10^{-3}\n",
    "$$"
   ]
  },
  {
   "cell_type": "markdown",
   "metadata": {},
   "source": [
    "$E_{E,ss,cp,d,t}$：日付$d$の時刻$t$における1時間当たりのソーラーシステムの循環ポンプの消費電力量(kWh/h)  \n",
    "$P_{cp,ss}$：ソーラーシステムの循環ポンプの消費電力(W)  \n",
    "$t_{cp,ss,d,t}$：日付$d$の時刻$t$における1時間当たりのソーラーシステムの循環ポンプの稼働時間(h/h)  "
   ]
  },
  {
   "cell_type": "markdown",
   "metadata": {},
   "source": [
    "<div style=\"text-align: center;font-weight: bold;\">表　ソーラーシステムの循環ポンプの消費電力$P_{cp,ss}$の値と適用条件</div>\n",
    "\n",
    "|項目|適用条件|循環ポンプの消費電力$P_{cp,ss}$|\n",
    "|-|-|-|\n",
    "|省消費電力型|現時点では該当するポンプがない|40|\n",
    "|上記以外の機種|すべてのポンプ|80|"
   ]
  },
  {
   "cell_type": "markdown",
   "metadata": {},
   "source": [
    "#### 7.4 循環ポンプの稼働時間"
   ]
  },
  {
   "cell_type": "markdown",
   "metadata": {},
   "source": [
    "$I_{s,lwlim,cp,ss} \\leq I_{s,sp,ss,d,t}$の場合： "
   ]
  },
  {
   "cell_type": "markdown",
   "metadata": {},
   "source": [
    "$$\\large\n",
    "t_{cp,ss,d,t} = 1\n",
    "$$"
   ]
  },
  {
   "cell_type": "markdown",
   "metadata": {},
   "source": [
    "$I_{s,sp,ss,d,t} < I_{s,lwlim,cp,ss}$の場合： "
   ]
  },
  {
   "cell_type": "markdown",
   "metadata": {},
   "source": [
    "$$\\large\n",
    "t_{cp,ss,d,t} = 0\n",
    "$$"
   ]
  },
  {
   "cell_type": "markdown",
   "metadata": {},
   "source": [
    "$I_{s,lwlim,cp,ss}$：循環ポンプが稼働する太陽熱集熱部設置面の単位面積当たりの日射量の下限(W/m<sup>2</sup>)  \n",
    "$I_{s,sp,ss,d,t}$：日付$d$の時刻$t$における太陽熱集熱部設置面の単位面積当たりの平均日射量(W/m<sup>2</sup>)  \n",
    "$t_{cp,ss,d,t}$：日付$d$の時刻$t$における1時間当たりのソーラーシステムの循環ポンプの稼働時間(h/h)  "
   ]
  },
  {
   "cell_type": "markdown",
   "metadata": {},
   "source": [
    "ソーラーシステムの循環ポンプが稼働する太陽熱集熱部設置面の単位面積当たりの日射量の下限$I_{s,lwlim,cp,ss}$は、150 W/m<sup>2</sup> とする。 "
   ]
  },
  {
   "cell_type": "markdown",
   "metadata": {},
   "source": [
    "## 付録A"
   ]
  },
  {
   "cell_type": "markdown",
   "metadata": {},
   "source": [
    "省略"
   ]
  }
 ],
 "metadata": {
  "kernelspec": {
   "display_name": "Python 3",
   "language": "python",
   "name": "python3"
  },
  "language_info": {
   "codemirror_mode": {
    "name": "ipython",
    "version": 3
   },
   "file_extension": ".py",
   "mimetype": "text/x-python",
   "name": "python",
   "nbconvert_exporter": "python",
   "pygments_lexer": "ipython3",
   "version": "3.6.7"
  }
 },
 "nbformat": 4,
 "nbformat_minor": 2
}
