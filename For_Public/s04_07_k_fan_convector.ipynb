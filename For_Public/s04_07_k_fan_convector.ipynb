{
 "cells": [
  {
   "cell_type": "markdown",
   "metadata": {},
   "source": [
    "### 付録K　ファンコンベクター"
   ]
  },
  {
   "cell_type": "markdown",
   "metadata": {},
   "source": [
    "#### K.1 記号及び単位"
   ]
  },
  {
   "cell_type": "markdown",
   "metadata": {},
   "source": [
    "省略"
   ]
  },
  {
   "cell_type": "markdown",
   "metadata": {},
   "source": [
    "#### K.2 消費電力量"
   ]
  },
  {
   "cell_type": "markdown",
   "metadata": {},
   "source": [
    "$Q_{T,rad} \\leq Q_{min,FC} $ の場合"
   ]
  },
  {
   "cell_type": "markdown",
   "metadata": {},
   "source": [
    "$$\\large\n",
    "E_{E,rad} = P_{min,FC} \\times \\frac{Q_{T,H,rad}}{Q_{min,H,FC}} \\times 10^{-3}\n",
    "$$"
   ]
  },
  {
   "cell_type": "markdown",
   "metadata": {},
   "source": [
    "$Q_{min,FC} < Q_{T,rad} \\leq Q_{max,H,FC} $ の場合"
   ]
  },
  {
   "cell_type": "markdown",
   "metadata": {},
   "source": [
    "$$\n",
    "E_{E,rad} = \\bigg ( P_{min,FC} \\times \\frac{Q_{max,H,FC}-Q_{T,H,rad}}{Q_{max,H,FC}-Q_{min,H,FC}} + P_{max,FC} \\times  \\frac{Q_{T,H,rad}-Q_{min,H,FC}}{Q_{max,H,FC}-Q_{min,H,FC}} \\bigg) \\times 10^{-3}\n",
    "$$"
   ]
  },
  {
   "cell_type": "markdown",
   "metadata": {},
   "source": [
    "$Q_{max,H,FC} \\leq Q_{T,rad}$ の場合"
   ]
  },
  {
   "cell_type": "markdown",
   "metadata": {},
   "source": [
    "$$\\large\n",
    "E_{E,rad} = P_{max,FC} \\times 10^{-3}\n",
    "$$"
   ]
  },
  {
   "cell_type": "markdown",
   "metadata": {},
   "source": [
    "$E_{E,rad}$：1 時間当たりの放熱器の消費電力量(kWh/h)  \n",
    "$Q_{T,H,rad}$：1 時間当たりの放熱器の処理暖房負荷(MJ/h)  \n",
    "$Q_{max,H,FC}$：1 時間当たりのファンコンベクターの最大暖房出力(MJ/h)  \n",
    "$Q_{min,H,FC}$：1 時間当たりのファンコンベクターの最小出力(MJ/h)  \n",
    "$P_{max,FC}$：ファンコンベクターの最大消費電力(W)  \n",
    "$P_{min,FC}$：ファンコンベクターの最小消費電力(W)  "
   ]
  },
  {
   "cell_type": "markdown",
   "metadata": {},
   "source": [
    "#### K.3 温水供給運転率"
   ]
  },
  {
   "cell_type": "markdown",
   "metadata": {},
   "source": [
    "$$\\large\n",
    "r_{WS,rad} = \\frac{Q_{T,H,rad}}{Q_{min,H,FC}}\n",
    "$$"
   ]
  },
  {
   "cell_type": "markdown",
   "metadata": {},
   "source": [
    "$r_{WS,rad}$：1 時間平均の放熱器の温水供給運転率  "
   ]
  },
  {
   "cell_type": "markdown",
   "metadata": {},
   "source": [
    "#### K.4 最大暖房出力"
   ]
  },
  {
   "cell_type": "markdown",
   "metadata": {},
   "source": [
    "省略"
   ]
  },
  {
   "cell_type": "markdown",
   "metadata": {},
   "source": [
    "#### K.5 ファンコンベクターの最大暖房出力及び最小暖房出力"
   ]
  },
  {
   "cell_type": "markdown",
   "metadata": {},
   "source": [
    "$$\\large\n",
    "Q_{max,H,FC} = q_{max,FC} \\times \\frac{\\theta_{SW} - 20}{60 - 20} \\times 3600 \\times 10^{-6}\n",
    "$$\n",
    "\n",
    "$$\\large\n",
    "Q_{min,H,FC} = q_{min,FC} \\times \\frac{\\theta_{SW} - 20}{60 - 20} \\times 3600 \\times 10^{-6}\n",
    "$$"
   ]
  },
  {
   "cell_type": "markdown",
   "metadata": {},
   "source": [
    "$q_{max,FC}$：ファンコンベクターの最大能力(W)  \n",
    "$q_{min,FC}$：ファンコンベクターの最小能力(W)  \n",
    "$\\theta_{SW}$：往き送水温度(℃)  "
   ]
  },
  {
   "cell_type": "markdown",
   "metadata": {},
   "source": [
    "$$\\large\n",
    "q_{min,FC} = 0.4859 \\times q_{max,FC}\n",
    "$$"
   ]
  },
  {
   "cell_type": "markdown",
   "metadata": {},
   "source": [
    "#### K.6 ファンコンベクターの最大消費電力及び最小消費電力"
   ]
  },
  {
   "cell_type": "markdown",
   "metadata": {},
   "source": [
    "$$\\large\n",
    "P_{max,FC} = 7.564 \\times 10^{-3} \\times q_{max,FC}\n",
    "$$\n",
    "\n",
    "$$\\large\n",
    "P_{min,FC} = 7.783 \\times 10^{-3} \\times q_{min,FC}\n",
    "$$"
   ]
  }
 ],
 "metadata": {
  "kernelspec": {
   "display_name": "Python 3",
   "language": "python",
   "name": "python3"
  },
  "language_info": {
   "codemirror_mode": {
    "name": "ipython",
    "version": 3
   },
   "file_extension": ".py",
   "mimetype": "text/x-python",
   "name": "python",
   "nbconvert_exporter": "python",
   "pygments_lexer": "ipython3",
   "version": "3.6.7"
  }
 },
 "nbformat": 4,
 "nbformat_minor": 2
}
