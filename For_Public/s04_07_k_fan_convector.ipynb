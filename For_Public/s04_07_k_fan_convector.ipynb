{
 "cells": [
  {
   "cell_type": "code",
   "execution_count": null,
   "metadata": {},
   "outputs": [],
   "source": [
    "import numpy as np\n",
    "import section4_7_m as appendix_M"
   ]
  },
  {
   "cell_type": "markdown",
   "metadata": {},
   "source": [
    "## 付録K　ファンコンベクター"
   ]
  },
  {
   "cell_type": "markdown",
   "metadata": {},
   "source": [
    "### K.1 記号及び単位"
   ]
  },
  {
   "cell_type": "markdown",
   "metadata": {},
   "source": [
    "省略"
   ]
  },
  {
   "cell_type": "markdown",
   "metadata": {},
   "source": [
    "### K.2 消費電力量"
   ]
  },
  {
   "cell_type": "markdown",
   "metadata": {},
   "source": [
    "$Q_{T,rad} \\leq Q_{min,FC} $ の場合"
   ]
  },
  {
   "cell_type": "markdown",
   "metadata": {},
   "source": [
    "$$\\large\n",
    "E_{E,rad} = P_{min,FC} \\times \\frac{Q_{T,H,rad}}{Q_{min,H,FC}} \\times 10^{-3}\n",
    "$$"
   ]
  },
  {
   "cell_type": "markdown",
   "metadata": {},
   "source": [
    "$Q_{min,FC} < Q_{T,rad} \\leq Q_{max,H,FC} $ の場合"
   ]
  },
  {
   "cell_type": "markdown",
   "metadata": {},
   "source": [
    "$$\n",
    "E_{E,rad} = \\bigg ( P_{min,FC} \\times \\frac{Q_{max,H,FC}-Q_{T,H,rad}}{Q_{max,H,FC}-Q_{min,H,FC}} + P_{max,FC} \\times  \\frac{Q_{T,H,rad}-Q_{min,H,FC}}{Q_{max,H,FC}-Q_{min,H,FC}} \\bigg) \\times 10^{-3}\n",
    "$$"
   ]
  },
  {
   "cell_type": "markdown",
   "metadata": {},
   "source": [
    "$Q_{max,H,FC} \\leq Q_{T,rad}$ の場合"
   ]
  },
  {
   "cell_type": "markdown",
   "metadata": {},
   "source": [
    "$$\\large\n",
    "E_{E,rad} = P_{max,FC} \\times 10^{-3}\n",
    "$$"
   ]
  },
  {
   "cell_type": "markdown",
   "metadata": {},
   "source": [
    "$E_{E,rad}$：1 時間当たりの放熱器の消費電力量(kWh/h)  \n",
    "$Q_{T,H,rad}$：1 時間当たりの放熱器の処理暖房負荷(MJ/h)  \n",
    "$Q_{max,H,FC}$：1 時間当たりのファンコンベクターの最大暖房出力(MJ/h)  \n",
    "$Q_{min,H,FC}$：1 時間当たりのファンコンベクターの最小出力(MJ/h)  \n",
    "$P_{max,FC}$：ファンコンベクターの最大消費電力(W)  \n",
    "$P_{min,FC}$：ファンコンベクターの最小消費電力(W)  "
   ]
  },
  {
   "cell_type": "code",
   "execution_count": null,
   "metadata": {},
   "outputs": [],
   "source": [
    "# 放熱器の消費電力量 (1)\n",
    "def get_E_E_rad(region, mode, A_HCZ, R_type, Theta_SW, Q_T_H_rad):\n",
    "    # ファンコンベクターの最大能力及び最小能力\n",
    "    q_max_FC = get_q_max_FC(region, mode, A_HCZ, R_type)\n",
    "    q_min_FC = get_q_min_FC(q_max_FC)\n",
    "\n",
    "    # ファンコンベクターの最大暖房出力及び最小暖房出力\n",
    "    Q_max_H_FC = get_Q_max_H_FC(Theta_SW, q_max_FC)\n",
    "    Q_min_H_FC = get_Q_min_H_FC(Theta_SW, q_min_FC)\n",
    "\n",
    "    # ファンコンベクターの最大消費電力及び最小消費電力\n",
    "    P_max_FC = get_P_max_FC(q_max_FC)\n",
    "    P_min_FC = get_P_min_FC(q_min_FC)\n",
    "\n",
    "    # (1a)\n",
    "    tmp_1a = P_min_FC * (Q_T_H_rad / Q_min_H_FC) * 10 ** (-3)\n",
    "    tmp_1a[np.logical_not(Q_T_H_rad <= Q_min_H_FC)] = 0\n",
    "\n",
    "    # (1b)\n",
    "    tmp_1b = (P_min_FC * (Q_max_H_FC - Q_T_H_rad) / (Q_max_H_FC - Q_min_H_FC) + P_max_FC * (Q_T_H_rad - Q_min_H_FC) / (\n",
    "                Q_max_H_FC - Q_min_H_FC)) * 10 ** (-3)\n",
    "    tmp_1b[np.logical_not(np.logical_and(Q_min_H_FC < Q_T_H_rad, Q_T_H_rad < Q_max_H_FC))] = 0\n",
    "\n",
    "    # (1c)\n",
    "    tmp_1c = P_max_FC * 10 ** (-3) * np.ones_like(Q_T_H_rad)\n",
    "    tmp_1c[np.logical_not(Q_max_H_FC <= Q_T_H_rad)] = 0\n",
    "\n",
    "    E_E_rad = tmp_1a + tmp_1b + tmp_1c\n",
    "    return E_E_rad\n"
   ]
  },
  {
   "cell_type": "markdown",
   "metadata": {},
   "source": [
    "### K.3 温水供給運転率"
   ]
  },
  {
   "cell_type": "markdown",
   "metadata": {},
   "source": [
    "$$\\large\n",
    "r_{WS,rad} = \\frac{Q_{T,H,rad}}{Q_{min,H,FC}}\n",
    "$$"
   ]
  },
  {
   "cell_type": "markdown",
   "metadata": {},
   "source": [
    "$r_{WS,rad}$：1 時間平均の放熱器の温水供給運転率  "
   ]
  },
  {
   "cell_type": "code",
   "execution_count": null,
   "metadata": {},
   "outputs": [],
   "source": [
    "# 最大暖房出力\n",
    "def get_Q_max_H_rad(Theta_SW, q_max_FC):\n",
    "    return get_Q_max_H_FC(Theta_SW, q_max_FC)"
   ]
  },
  {
   "cell_type": "markdown",
   "metadata": {},
   "source": [
    "### K.4 最大暖房出力"
   ]
  },
  {
   "cell_type": "markdown",
   "metadata": {},
   "source": [
    "省略"
   ]
  },
  {
   "cell_type": "markdown",
   "metadata": {},
   "source": [
    "### K.5 ファンコンベクターの最大暖房出力及び最小暖房出力"
   ]
  },
  {
   "cell_type": "markdown",
   "metadata": {},
   "source": [
    "$$\\large\n",
    "Q_{max,H,FC} = q_{max,FC} \\times \\frac{\\theta_{SW} - 20}{60 - 20} \\times 3600 \\times 10^{-6}\n",
    "$$\n",
    "\n",
    "$$\\large\n",
    "Q_{min,H,FC} = q_{min,FC} \\times \\frac{\\theta_{SW} - 20}{60 - 20} \\times 3600 \\times 10^{-6}\n",
    "$$"
   ]
  },
  {
   "cell_type": "markdown",
   "metadata": {},
   "source": [
    "$q_{max,FC}$：ファンコンベクターの最大能力(W)  \n",
    "$q_{min,FC}$：ファンコンベクターの最小能力(W)  \n",
    "$\\theta_{SW}$：往き送水温度(℃)  "
   ]
  },
  {
   "cell_type": "code",
   "execution_count": null,
   "metadata": {},
   "outputs": [],
   "source": [
    "# ファンコンベクターの最大暖房出力 (3a)\n",
    "def get_Q_max_H_FC(Theta_SW, q_max_FC):\n",
    "    return q_max_FC * (Theta_SW - 20) / (60 - 20) * 3600 * 10 ** (-6)\n",
    "\n",
    "\n",
    "# ファンコンベクターの最小暖房出力 (3b)\n",
    "def get_Q_min_H_FC(Theta_SW, q_min_FC):\n",
    "    return q_min_FC * (Theta_SW - 20) / (60 - 20) * 3600 * 10 ** (-6)"
   ]
  },
  {
   "cell_type": "markdown",
   "metadata": {},
   "source": [
    "$$\\large\n",
    "q_{min,FC} = 0.4859 \\times q_{max,FC}\n",
    "$$"
   ]
  },
  {
   "cell_type": "code",
   "execution_count": null,
   "metadata": {},
   "outputs": [],
   "source": [
    "# ファンコンベクターの最大能力\n",
    "def get_q_max_FC(region, mode, A_HCZ, R_type):\n",
    "    # 付録Mに定める放熱器の最大能力 q_max_rad に等しいものとする\n",
    "    return appendix_M.get_q_max_rad(region, mode, A_HCZ, R_type)"
   ]
  },
  {
   "cell_type": "markdown",
   "metadata": {},
   "source": [
    "### K.6 ファンコンベクターの最大消費電力及び最小消費電力"
   ]
  },
  {
   "cell_type": "markdown",
   "metadata": {},
   "source": [
    "$$\\large\n",
    "P_{max,FC} = 7.564 \\times 10^{-3} \\times q_{max,FC}\n",
    "$$\n",
    "\n",
    "$$\\large\n",
    "P_{min,FC} = 7.783 \\times 10^{-3} \\times q_{min,FC}\n",
    "$$"
   ]
  },
  {
   "cell_type": "code",
   "execution_count": null,
   "metadata": {},
   "outputs": [],
   "source": [
    "# ファンコンベクターの最大能力\n",
    "def get_q_max_FC(region, mode, A_HCZ, R_type):\n",
    "    # 付録Mに定める放熱器の最大能力 q_max_rad に等しいものとする\n",
    "    return appendix_M.get_q_max_rad(region, mode, A_HCZ, R_type)\n",
    "\n",
    "\n",
    "# ファンコンベクターの最小能力 (4)\n",
    "def get_q_min_FC(q_max_FC):\n",
    "    return 0.4859 * q_max_FC"
   ]
  }
 ],
 "metadata": {
  "kernelspec": {
   "display_name": "Python 3",
   "language": "python",
   "name": "python3"
  },
  "language_info": {
   "codemirror_mode": {
    "name": "ipython",
    "version": 3
   },
   "file_extension": ".py",
   "mimetype": "text/x-python",
   "name": "python",
   "nbconvert_exporter": "python",
   "pygments_lexer": "ipython3",
   "version": "3.6.4"
  }
 },
 "nbformat": 4,
 "nbformat_minor": 2
}
