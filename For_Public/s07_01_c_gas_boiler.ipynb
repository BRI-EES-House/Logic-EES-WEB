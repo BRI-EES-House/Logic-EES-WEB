{
 "cells": [
  {
   "cell_type": "markdown",
   "metadata": {},
   "source": [
    "### 付録C　ガス給湯機及びガス給湯温水暖房機の給湯部"
   ]
  },
  {
   "cell_type": "markdown",
   "metadata": {},
   "source": [
    "#### C.1 記号及び単位"
   ]
  },
  {
   "cell_type": "markdown",
   "metadata": {},
   "source": [
    "省略"
   ]
  },
  {
   "cell_type": "markdown",
   "metadata": {},
   "source": [
    "#### C.2 消費電力量"
   ]
  },
  {
   "cell_type": "markdown",
   "metadata": {},
   "source": [
    "$$\\large\n",
    "E_{E,hs} = E_{E,hs,aux1} + E_{E,hs,aux2} + E_{E,hs,aux3}\n",
    "$$"
   ]
  },
  {
   "cell_type": "markdown",
   "metadata": {},
   "source": [
    "$E_{E,hs}$：1  日当たりの給湯機の消費電力量(kWh/d)  \n",
    "$E_{E,hs,aux1}$：1 日当たりの給湯機の待機時及び水栓給湯時の補機による消費電力量(kWh/d)  \n",
    "$E_{E,hs,aux2}$：1 日当たりの給湯機の湯はり時の補機による消費電力量(kWh/d)  \n",
    "$E_{E,hs,aux3}$：1 日当たりの給湯機の保温時の補機による消費電力量(kWh/d)  "
   ]
  },
  {
   "cell_type": "markdown",
   "metadata": {},
   "source": [
    "$$\\large\n",
    "E_{E,hs,aux1} =\\{ -0.00172 \\times \\theta_{ex,Ave} + 0.000393\\\\\n",
    "\\large \\times (W'_{k}+W'_{s}+W'_{w}+W'_{b1}+W'_{ba1}) +  0.2822 \\} \\times 10^{3} \\div 3600\n",
    "$$"
   ]
  },
  {
   "cell_type": "markdown",
   "metadata": {},
   "source": [
    "$\\theta_{ex,Ave}$：日平均外気温度(℃)  \n",
    "$ W'_{k} $：1 日当たりの台所水栓における節湯補正給湯量(L/d)  \n",
    "$ W'_{s} $：1 日当たりの浴室シャワー水栓における節湯補正給湯量(L/d)  \n",
    "$ W'_{w} $：1 日当たりの洗面水栓における節湯補正給湯量(L/d)  \n",
    "$ W'_{b1} $：1 日当たりの浴槽水栓湯はり時における節湯補正給湯量(L/d)  \n",
    "$ W'_{ba1} $：1 日当たりの浴槽水栓さし湯時における節湯補正給湯量(L/d)  "
   ]
  },
  {
   "cell_type": "markdown",
   "metadata": {},
   "source": [
    "$$\\large\n",
    "E_{E,hs,aux2} = \\left\\{ \\begin{array}{ll}\n",
    "    0.07 \\times 10^{3} \\div 3600 &(W'_{b2} > 0)\\\\ \n",
    "    0 &(W'_{b2} = 0)\\\\ \n",
    "    \\end{array}\n",
    "\\right.\n",
    "$$"
   ]
  },
  {
   "cell_type": "markdown",
   "metadata": {},
   "source": [
    "$ W'_{b2} $：1 日当たりの浴槽自動湯はり時における節湯補正給湯量(L/d)  "
   ]
  },
  {
   "cell_type": "markdown",
   "metadata": {},
   "source": [
    "$$\\large\n",
    "E_{E,hs,aux3} = \\left\\{ \\begin{array}{ll}\n",
    "    (0.01723 \\times L''_{ba2} + 0.06099) \\times 10^{3} \\div 3600 &(L''_{ba2} > 0)\\\\ \n",
    "    0 &(L''_{ba2} = 0)\\\\ \n",
    "    \\end{array}\n",
    "\\right.\n",
    "$$"
   ]
  },
  {
   "cell_type": "markdown",
   "metadata": {},
   "source": [
    "$ L''_{ba2} $：1 日当たりの浴槽追焚時における太陽熱補正給湯熱負荷(MJ/d)  "
   ]
  },
  {
   "cell_type": "markdown",
   "metadata": {},
   "source": [
    "#### C.3 ガス消費量"
   ]
  },
  {
   "cell_type": "markdown",
   "metadata": {},
   "source": [
    "給湯単機能の場合"
   ]
  },
  {
   "cell_type": "markdown",
   "metadata": {},
   "source": [
    "$$\\large\n",
    "E_{G,hs} = \\frac{L''_{k}}{e_{k}} + \\frac{L''_{s}}{e_{s}} + \\frac{L''_{w}}{e_{w}} + \\frac{L''_{b1}}{e_{b1}} + \\frac{L''_{ba1}}{e_{ba1}}\n",
    "$$"
   ]
  },
  {
   "cell_type": "markdown",
   "metadata": {},
   "source": [
    "ふろ給湯機（追焚なし）の場合"
   ]
  },
  {
   "cell_type": "markdown",
   "metadata": {},
   "source": [
    "$$\\large\n",
    "E_{G,hs} = \\frac{L''_{k}}{e_{k}} + \\frac{L''_{s}}{e_{s}} + \\frac{L''_{w}}{e_{w}} + \\frac{L''_{b2}}{e_{b2}} + \\frac{L''_{ba1}}{e_{ba1}}\n",
    "$$"
   ]
  },
  {
   "cell_type": "markdown",
   "metadata": {},
   "source": [
    "ふろ給湯機（追焚あり）の場合"
   ]
  },
  {
   "cell_type": "markdown",
   "metadata": {},
   "source": [
    "$$\\large\n",
    "E_{G,hs} = \\frac{L''_{k}}{e_{k}} + \\frac{L''_{s}}{e_{s}} + \\frac{L''_{w}}{e_{w}} + \\frac{L''_{b2}}{e_{b2}} + \\frac{L''_{ba2}}{e_{ba2}}\n",
    "$$"
   ]
  },
  {
   "cell_type": "markdown",
   "metadata": {},
   "source": [
    "$E_{G,hs}$：1 日当たりの給湯機のガス消費量(MJ/d)  \n",
    "$ L''_{k} $：1 日当たりの台所水栓における太陽熱補正給湯熱負荷(MJ/d)  \n",
    "$ L''_{s} $：1 日当たりの浴室シャワー水栓における太陽熱補正給湯熱負荷(MJ/d)  \n",
    "$ L''_{w} $：1 日当たりの洗面水栓における太陽熱補正給湯熱負荷(MJ/d)  \n",
    "$ L''_{b1} $：1 日当たりの浴槽水栓湯はり時における太陽熱補正給湯熱負荷(MJ/d)  \n",
    "$ L''_{b2} $：1 日当たりの浴槽自動湯はり時における太陽熱補正給湯熱負荷(MJ/d)  \n",
    "$ L''_{ba1} $：1 日当たりの浴槽水栓さし湯時における太陽熱補正給湯熱負荷(MJ/d)  \n",
    "$ L''_{ba2} $：1 日当たりの浴槽追焚時における太陽熱補正給湯熱負荷(MJ/d)  \n",
    "$ e_{k} $：台所水栓の給湯使用時における日平均給湯機効率  \n",
    "$ e_{s} $：浴室シャワー水栓の給湯使用時における日平均給湯機効率  \n",
    "$ e_{w} $：洗面水栓の給湯使用時における日平均給湯機効率  \n",
    "$ e_{b1} $：浴槽水栓湯はり時における日平均給湯機効率  \n",
    "$ e_{b2} $：浴槽自動湯はり時における日平均給湯機効率  \n",
    "$ e_{ba1} $：浴槽水栓さし湯時における日平均給湯機効率  \n",
    "$ e_{ba2} $：浴槽追焚時における日平均給湯機効率  "
   ]
  },
  {
   "cell_type": "markdown",
   "metadata": {},
   "source": [
    "各用途の日平均給湯機効率は1.0を超えない。"
   ]
  },
  {
   "cell_type": "markdown",
   "metadata": {},
   "source": [
    "$$\\large\n",
    "e_{k} = a_{k} \\times \\theta_{ex,Ave} + b_{k} \\times (L''_{k} + L''_{w}) + c_{k}\n",
    "$$\n",
    "\n",
    "$$\\large\n",
    "e_{s} = a_{s} \\times \\theta_{ex,Ave} + b_{s} \\times L''_{s} + c_{s}\n",
    "$$\n",
    "\n",
    "$$\\large\n",
    "e_{w} = a_{w} \\times \\theta_{ex,Ave} + b_{w} \\times (L''_{k} + L''_{w}) + c_{w}\n",
    "$$\n",
    "\n",
    "$$\\large\n",
    "e_{b1} = a_{b1} \\times \\theta_{ex,Ave} + b_{b1} \\times L''_{b1} + c_{b1}\n",
    "$$\n",
    "\n",
    "$$\\large\n",
    "e_{b2} = a_{b2} \\times \\theta_{ex,Ave} + b_{b2} \\times L''_{b2} + c_{b2}\n",
    "$$\n",
    "\n",
    "$$\\large\n",
    "e_{ba1} = a_{ba1} \\times \\theta_{ex,Ave} + b_{ba1} \\times L''_{ba1} + c_{ba1}\n",
    "$$\n",
    "\n",
    "$$\\large\n",
    "e_{ba2} = a_{ba2} \\times \\theta_{ex,Ave} + b_{ba2} \\times L''_{ba2} + c_{ba2}\n",
    "$$"
   ]
  },
  {
   "cell_type": "markdown",
   "metadata": {},
   "source": [
    "$\\theta_{ex,Ave}$：日平均外気温度(℃)  "
   ]
  },
  {
   "cell_type": "markdown",
   "metadata": {},
   "source": [
    "$$\\large\n",
    "a_{u} = a_{std,u} \\times f_{hs}\n",
    "$$\n",
    "\n",
    "$$\\large\n",
    "b_{u} = b_{std,u} \\times f_{hs}\n",
    "$$\n",
    "\n",
    "$$\\large\n",
    "c_{u} = c_{std,u} \\times f_{hs}\n",
    "$$"
   ]
  },
  {
   "cell_type": "markdown",
   "metadata": {},
   "source": [
    "$a_{std,u}, b_{std,u}, c_{std,u}$：表により求まる係数  \n",
    "$f_{hs}$：当該給湯機に対する効率の補正係数  \n",
    "$u$：用途を表す添え字（$k, s, w, b1, b2, ba1, ba2$）  "
   ]
  },
  {
   "cell_type": "markdown",
   "metadata": {},
   "source": [
    "<div style=\"text-align: center;font-weight: bold;\">表　ガス給湯機効率の回帰係数$a_{std,u}$、$b_{std,u}$及び$c_{std,u}$</div>\n",
    "\n",
    "<table>\n",
    "<thead>\n",
    "<tr>\n",
    "<th rowspan=\"2\">回帰係数</th>\n",
    "<th colspan=\"7\">添え字 $u$ （用途） </th>\n",
    "</tr>\n",
    "<tr>\n",
    "<th>台所水栓<br> $k$</th>\n",
    "<th>浴室<br>シャワー水栓<br> $s$</th>\n",
    "<th>洗面水栓<br> $w$</th>\n",
    "<th>浴槽水栓<br>湯はり<br> $b1$</th>\n",
    "<th>浴槽自動<br>湯はり<br> $b2$</th>\n",
    "<th>浴槽水栓<br>差し湯<br> $ba1$</th>\n",
    "<th>浴槽追焚<br> $ba2$</th>\n",
    "</tr>\n",
    "</thead>\n",
    "\n",
    "<tbody>\n",
    "<tr>\n",
    "<th>$a_{std,u}$</th><td>0.0019</td><td>0.0006</td><td>0.0019</td><td>0.0000</td><td>0.0000</td><td>0.0000</td><td>0.0033</td>\n",
    "</tr>\n",
    "<tr>\n",
    "<th>$b_{std,u}$</th><td>0.0013</td><td>0.0005</td><td>0.0013</td><td>0.0002</td><td>-0.0005</td><td>0.0002</td><td>0.0194</td>\n",
    "</tr>\n",
    "<tr>\n",
    "<th>$c_{std,u}$</th><td>0.6533</td><td>0.7414</td><td>0.6533</td><td>0.7839</td><td>0.7828</td><td>0.7839</td><td>0.5776</td>\n",
    "</tr>\n",
    "</tbody>\n",
    "</table>\n"
   ]
  },
  {
   "cell_type": "markdown",
   "metadata": {},
   "source": [
    "$$\\large\n",
    "f_{hs} = \\frac{(0.8754 \\times e_{rtd} + 0.060)}{0.745}\n",
    "$$"
   ]
  },
  {
   "cell_type": "markdown",
   "metadata": {},
   "source": [
    "$e_{rtd}$：当該給湯機の効率 "
   ]
  },
  {
   "cell_type": "markdown",
   "metadata": {},
   "source": [
    "ふろ機能の種類が「給湯単機能」又は「ふろ給湯機（追焚なし）」の場合"
   ]
  },
  {
   "cell_type": "markdown",
   "metadata": {},
   "source": [
    "$$\\large\n",
    "e_{rtd} = e'_{rtd} -  0.046 \n",
    "$$"
   ]
  },
  {
   "cell_type": "markdown",
   "metadata": {},
   "source": [
    "ふろ機能の種類が「ふろ給湯機（追焚あり）」の場合"
   ]
  },
  {
   "cell_type": "markdown",
   "metadata": {},
   "source": [
    "$$\\large\n",
    "e_{rtd} = e'_{rtd} -  0.064 \n",
    "$$"
   ]
  },
  {
   "cell_type": "markdown",
   "metadata": {},
   "source": [
    "$e'_{rtd}$：「エネルギーの使用の合理化に関する法律」に基づく「特定機器の性能の向上に関する製造事業者等の判断の基準等」（ガス温水機器）に定義される「エネルギー消費効率」  "
   ]
  },
  {
   "cell_type": "markdown",
   "metadata": {},
   "source": [
    "#### C.4 灯油消費量 "
   ]
  },
  {
   "cell_type": "markdown",
   "metadata": {},
   "source": [
    "1 日当たりの給湯機の灯油消費量$E_{K,hs}$は0とする。"
   ]
  }
 ],
 "metadata": {
  "kernelspec": {
   "display_name": "Python 3",
   "language": "python",
   "name": "python3"
  },
  "language_info": {
   "codemirror_mode": {
    "name": "ipython",
    "version": 3
   },
   "file_extension": ".py",
   "mimetype": "text/x-python",
   "name": "python",
   "nbconvert_exporter": "python",
   "pygments_lexer": "ipython3",
   "version": "3.6.7"
  }
 },
 "nbformat": 4,
 "nbformat_minor": 2
}
