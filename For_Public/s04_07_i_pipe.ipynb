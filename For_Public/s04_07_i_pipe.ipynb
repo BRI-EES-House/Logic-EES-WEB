{
 "cells": [
  {
   "cell_type": "code",
   "execution_count": null,
   "metadata": {},
   "outputs": [],
   "source": [
    "from math import sqrt"
   ]
  },
  {
   "cell_type": "markdown",
   "metadata": {},
   "source": [
    "## 付録I　配管"
   ]
  },
  {
   "cell_type": "markdown",
   "metadata": {},
   "source": [
    "### I.1 記号及び単位"
   ]
  },
  {
   "cell_type": "markdown",
   "metadata": {},
   "source": [
    "省略"
   ]
  },
  {
   "cell_type": "markdown",
   "metadata": {},
   "source": [
    "### I.2 線熱損失係数"
   ]
  },
  {
   "cell_type": "markdown",
   "metadata": {},
   "source": [
    "線熱損失係数$K_{loss,pp}$は、配管の断熱被覆の有無によって区別し、当該住戸の配管のすべての部分について線熱損失係数が0.21（W/mK）を上回る場合については0.21とし、それ以外の場合については0.15とする。 "
   ]
  },
  {
   "cell_type": "code",
   "execution_count": null,
   "metadata": {},
   "outputs": [],
   "source": [
    "# 線熱損失係数\n",
    "def get_K_loss_pp(is_pipe_insulated):\n",
    "    if is_pipe_insulated:\n",
    "        return 0.15\n",
    "    else:\n",
    "        return 0.21"
   ]
  },
  {
   "cell_type": "markdown",
   "metadata": {},
   "source": [
    "### I.3 長さ"
   ]
  },
  {
   "cell_type": "markdown",
   "metadata": {},
   "source": [
    "$$\\large\n",
    "L_{pp,ex,i} = L_{pp,ex,i,R} \\times \\sqrt{\\frac{A_A}{A_{A,R}}}\n",
    "$$\n",
    "\n",
    "$$\\large\n",
    "L_{pp,in,i} = L_{pp,in,i,R} \\times \\sqrt{\\frac{A_A}{A_{A,R}}}\n",
    "$$"
   ]
  },
  {
   "cell_type": "markdown",
   "metadata": {},
   "source": [
    "$L_{pp,ex,i,R}$：標準住戸における暖冷房区画$i$に対する配管$i$の断熱区画外における長さ(m)  \n",
    "$L_{pp,in,i,R}$：標準住戸における暖冷房区画$i$に対する配管$i$の断熱区画内における長さ(m)  \n",
    "$A_A$：（当該住戸の）床面積の合計(m<sup>2</sup>)  \n",
    "$A_{A,R}$：標準住戸の床面積の合計(m<sup>2</sup>)  "
   ]
  },
  {
   "cell_type": "code",
   "execution_count": null,
   "metadata": {},
   "outputs": [],
   "source": [
    "# 配管の断熱区画外における長さ (1a)\n",
    "def get_L_pp_ex_i(i, A_A, underfloor_pipe_insulation, MR_rad_type, r_Af_1):\n",
    "    # 標準住戸における配管の断熱区画外における長さ\n",
    "    L_pp_ex_i_R = get_L_pp_ex_R_i(i, underfloor_pipe_insulation, MR_rad_type, r_Af_1)\n",
    "\n",
    "    # 標準住戸の床面積の合計\n",
    "    A_A_R = get_A_A_R()\n",
    "\n",
    "    return L_pp_ex_i_R * sqrt(A_A / A_A_R)\n",
    "\n",
    "\n",
    "# 配管の断熱区画内における長さ (1b)\n",
    "def get_L_pp_in_i(i, A_A, underfloor_pipe_insulation, MR_rad_type, r_Af_1):\n",
    "    # 標準住戸における配管の断熱区画内における長さ\n",
    "    L_pp_in_i_R = get_L_pp_in_R_i(i, underfloor_pipe_insulation, MR_rad_type, r_Af_1)\n",
    "\n",
    "    # 標準住戸の床面積の合計\n",
    "    A_A_R = get_A_A_R()\n",
    "\n",
    "    return L_pp_in_i_R * sqrt(A_A / A_A_R)"
   ]
  },
  {
   "cell_type": "markdown",
   "metadata": {},
   "source": [
    "標準住戸の床面積の合計$A_{A,R}$は、120.08（m<sup>2</sup>）とする。 "
   ]
  },
  {
   "cell_type": "code",
   "execution_count": null,
   "metadata": {},
   "outputs": [],
   "source": [
    "# 標準住戸の床面積の合計\n",
    "def get_A_A_R():\n",
    "    return 120.08"
   ]
  },
  {
   "cell_type": "code",
   "execution_count": null,
   "metadata": {},
   "outputs": [],
   "source": [
    "# 標準住戸における配管の断熱区画外における長さ\n",
    "def get_L_pp_ex_R_i(i, underfloor_pipe_insulation, MR_rad_type, r_Af_1=None):\n",
    "    if underfloor_pipe_insulation:\n",
    "        if i in [1]:\n",
    "            L_pp_ex_R_i = table_i_3[0][0]\n",
    "        elif i in [3, 4, 5]:\n",
    "            L_pp_ex_R_i = table_i_3[0][i - 2]\n",
    "        else:\n",
    "            raise ValueError(i)\n",
    "    else:\n",
    "        if i in [1]:\n",
    "            L_pp_ex_R_i = table_i_3[2][0]\n",
    "        elif i in [3, 4, 5]:\n",
    "            L_pp_ex_R_i = table_i_3[2][i - 2]\n",
    "        else:\n",
    "            raise ValueError(i)\n",
    "\n",
    "    if callable(L_pp_ex_R_i):\n",
    "        return L_pp_ex_R_i(MR_rad_type, r_Af_1)\n",
    "    else:\n",
    "        return L_pp_ex_R_i\n",
    "\n",
    "\n",
    "# 標準住戸における配管の断熱区画内における長さ\n",
    "def get_L_pp_in_R_i(i, underfloor_pipe_insulation, MR_rad_type, r_Af_1):\n",
    "    if underfloor_pipe_insulation:\n",
    "        if i in [1]:\n",
    "            L_pp_in_R_i = table_i_3[1][0]\n",
    "        elif i in [3, 4, 5]:\n",
    "            L_pp_in_R_i = table_i_3[1][i - 2]\n",
    "        else:\n",
    "            raise ValueError()\n",
    "    else:\n",
    "        if i in [1]:\n",
    "            L_pp_in_R_i = table_i_3[3][0]\n",
    "        elif i in [3, 4, 5]:\n",
    "            L_pp_in_R_i = table_i_3[3][i - 2]\n",
    "        else:\n",
    "            raise ValueError()\n",
    "\n",
    "    if callable(L_pp_in_R_i):\n",
    "        return L_pp_in_R_i(MR_rad_type, r_Af_1)\n",
    "    else:\n",
    "        return L_pp_in_R_i"
   ]
  },
  {
   "cell_type": "markdown",
   "metadata": {},
   "source": [
    "<div style=\"text-align: center;font-weight: bold;\">表　係数 $L_{pp,ex,R}$ 及び $L_{pp,in,R}$</div>\n",
    "\n",
    "<table>\n",
    "<thead>\n",
    "<tr>\n",
    "<th colspan=\"2\" rowspan=\"3\"></th>\n",
    "<th colspan=\"4\">暖冷房区画の番号</th>\n",
    "</tr>\n",
    "<tr>\n",
    "<th>1</th>\n",
    "<th>3</th>\n",
    "<th>4</th>\n",
    "<th>5</th>\n",
    "</tr>\n",
    "<tr>\n",
    "<th>居間　<br>食堂　<br>台所　</th>\n",
    "<th>主寝室</th>\n",
    "<th>子供室１</th>\n",
    "<th>子供室２</th>\n",
    "</tr>\n",
    "</thead>\n",
    "\n",
    "<tbody>\n",
    "<tr>\n",
    "<th rowspan=\"2\">（い）配管が全て断熱区画内に<br>設置されると判断できる場合</th>\n",
    "<th>$L_{pp,ex,R}$</th>\n",
    "<td>0.00</td><td>0.00</td><td>0.00</td><td>0.00</td>\n",
    "</tr>\n",
    "<tr>\n",
    "<th>$L_{pp,in,R}$</th>\n",
    "<td>$L_{pp,R,1}$</td><td>22.86</td><td>19.22</td><td>26.62</td>\n",
    "</tr>\n",
    "\n",
    "<tr>\n",
    "<th rowspan=\"2\">（ろ）配管が全て断熱区画内に<br>設置されると判断できる場合以外</th>\n",
    "<th>$L_{pp,ex,R}$</th>\n",
    "<td>$L_{pp,R,1}$</td><td>0.00</td><td>0.00</td><td>0.00</td>\n",
    "</tr>\n",
    "<tr>\n",
    "<th>$L_{pp,in,R}$</th>\n",
    "<td>0.00</td><td>22.86</td><td>19.22</td><td>26.62</td>\n",
    "</tr>\n",
    "</tbody>\n",
    "</table>\n"
   ]
  },
  {
   "cell_type": "code",
   "execution_count": null,
   "metadata": {},
   "outputs": [],
   "source": [
    "# 表I.3 係数L_pp_ex_R及びL_pp_in_R\n",
    "table_i_3 = [\n",
    "    (0.00, 0.00, 0.00, 0.00),\n",
    "    (get_L_pp_R_1, 22.86, 19.22, 26.62),\n",
    "    (get_L_pp_R_1, 0.00, 0.00, 0.00),\n",
    "    (0.00, 22.86, 19.22, 26.62)\n",
    "]"
   ]
  },
  {
   "cell_type": "markdown",
   "metadata": {},
   "source": [
    "主たる居室に設置される放熱器の種類が温水床暖房の場合"
   ]
  },
  {
   "cell_type": "markdown",
   "metadata": {},
   "source": [
    "$$\\large\n",
    "L_{pp,R,1} = \\left\\{ \\begin{array}{ll}\n",
    "    16.38 &(0 < r_{Af,1} \\leq 0.542)\\\\ \n",
    "    16.38 \\times \\frac{(0.75 - r_{Af,1})}{0.75 - 0.542} + 29.58 \\times \\frac{(r_{Af,1} - 0.542)}{0.75 - 0.542} &(0.542 < r_{Af,1} \\leq 0.75)\\\\ \n",
    "    29.58 &(0.75  < r_{Af,1} \\leq 1)\n",
    "    \\end{array}\n",
    "\\right.\n",
    "$$"
   ]
  },
  {
   "cell_type": "markdown",
   "metadata": {},
   "source": [
    "主たる居室に設置される放熱器の種類がパネルラジエーター又はファンコンベクターの場合"
   ]
  },
  {
   "cell_type": "markdown",
   "metadata": {},
   "source": [
    "$$\\large\n",
    "L_{pp,R,1} = 29.58 \n",
    "$$"
   ]
  },
  {
   "cell_type": "markdown",
   "metadata": {},
   "source": [
    "$r_{Af,1}$：暖冷房区画 1 に設置された温水床暖房の敷設率  "
   ]
  },
  {
   "cell_type": "code",
   "execution_count": null,
   "metadata": {},
   "outputs": [],
   "source": [
    "# 標準住戸における暖冷房区画1に対する配管1の長さ (2)\n",
    "def get_L_pp_R_1(MR_rad_type, r_Af_1=None):\n",
    "    if MR_rad_type == '温水暖房用床暖房':\n",
    "        # (2a)\n",
    "        if 0 < r_Af_1 and r_Af_1 <= 0.542:\n",
    "            return 16.38\n",
    "        elif 0.542 < r_Af_1 and r_Af_1 <= 0.75:\n",
    "            return 16.38 * (0.75 - r_Af_1) / (0.75 - 0.542) + 29.58 * (r_Af_1 - 0.542) / (0.75 - 0.542)\n",
    "        elif 0.75 < r_Af_1 and r_Af_1 <= 1:\n",
    "            return 29.58\n",
    "        else:\n",
    "            raise NotImplementedError()\n",
    "    elif MR_rad_type == '温水暖房用パネルラジエーター' or MR_rad_type == '温水暖房用ファンコンベクター':\n",
    "        return 29.58\n",
    "    else:\n",
    "        raise ValueError(MR_rad_type)"
   ]
  }
 ],
 "metadata": {
  "kernelspec": {
   "display_name": "Python 3",
   "language": "python",
   "name": "python3"
  },
  "language_info": {
   "codemirror_mode": {
    "name": "ipython",
    "version": 3
   },
   "file_extension": ".py",
   "mimetype": "text/x-python",
   "name": "python",
   "nbconvert_exporter": "python",
   "pygments_lexer": "ipython3",
   "version": "3.6.4"
  }
 },
 "nbformat": 4,
 "nbformat_minor": 2
}
