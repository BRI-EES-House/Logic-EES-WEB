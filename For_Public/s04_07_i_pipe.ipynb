{
 "cells": [
  {
   "cell_type": "markdown",
   "metadata": {},
   "source": [
    "### 付録I　配管"
   ]
  },
  {
   "cell_type": "markdown",
   "metadata": {},
   "source": [
    "#### I.1 記号及び単位"
   ]
  },
  {
   "cell_type": "markdown",
   "metadata": {},
   "source": [
    "省略"
   ]
  },
  {
   "cell_type": "markdown",
   "metadata": {},
   "source": [
    "#### I.2 線熱損失係数"
   ]
  },
  {
   "cell_type": "markdown",
   "metadata": {},
   "source": [
    "線熱損失係数$K_{loss,pp}$は、配管の断熱被覆の有無によって区別し、当該住戸の配管のすべての部分について線熱損失係数が0.21（W/mK）を上回る場合については0.21とし、それ以外の場合については0.15とする。 "
   ]
  },
  {
   "cell_type": "markdown",
   "metadata": {},
   "source": [
    "#### I.3 長さ"
   ]
  },
  {
   "cell_type": "markdown",
   "metadata": {},
   "source": [
    "$$\\large\n",
    "L_{pp,ex,i} = L_{pp,ex,i,R} \\times \\sqrt{\\frac{A_A}{A_{A,R}}}\n",
    "$$\n",
    "\n",
    "$$\\large\n",
    "L_{pp,in,i} = L_{pp,in,i,R} \\times \\sqrt{\\frac{A_A}{A_{A,R}}}\n",
    "$$"
   ]
  },
  {
   "cell_type": "markdown",
   "metadata": {},
   "source": [
    "$L_{pp,ex,i,R}$：標準住戸における暖冷房区画$i$に対する配管$i$の断熱区画外における長さ(m)  \n",
    "$L_{pp,in,i,R}$：標準住戸における暖冷房区画$i$に対する配管$i$の断熱区画内における長さ(m)  \n",
    "$A_A$：（当該住戸の）床面積の合計(m<sup>2</sup>)  \n",
    "$A_{A,R}$：標準住戸の床面積の合計(m<sup>2</sup>)  "
   ]
  },
  {
   "cell_type": "markdown",
   "metadata": {},
   "source": [
    "標準住戸の床面積の合計$A_{A,R}$は、120.08（m<sup>2</sup>）とする。 "
   ]
  },
  {
   "cell_type": "markdown",
   "metadata": {},
   "source": [
    "<div style=\"text-align: center;font-weight: bold;\">表　係数 $L_{pp,ex,R}$ 及び $L_{pp,in,R}$</div>\n",
    "\n",
    "<table>\n",
    "<thead>\n",
    "<tr>\n",
    "<th colspan=\"2\" rowspan=\"3\"></th>\n",
    "<th colspan=\"4\">暖冷房区画の番号</th>\n",
    "</tr>\n",
    "<tr>\n",
    "<th>1</th>\n",
    "<th>3</th>\n",
    "<th>4</th>\n",
    "<th>5</th>\n",
    "</tr>\n",
    "<tr>\n",
    "<th>居間　<br>食堂　<br>台所　</th>\n",
    "<th>主寝室</th>\n",
    "<th>子供室１</th>\n",
    "<th>子供室２</th>\n",
    "</tr>\n",
    "</thead>\n",
    "\n",
    "<tbody>\n",
    "<tr>\n",
    "<th rowspan=\"2\">（い）配管が全て断熱区画内に<br>設置されると判断できる場合</th>\n",
    "<th>$L_{pp,ex,R}$</th>\n",
    "<td>0.00</td><td>0.00</td><td>0.00</td><td>0.00</td>\n",
    "</tr>\n",
    "<tr>\n",
    "<th>$L_{pp,in,R}$</th>\n",
    "<td>$L_{pp,R,1}$</td><td>22.86</td><td>19.22</td><td>26.62</td>\n",
    "</tr>\n",
    "\n",
    "<tr>\n",
    "<th rowspan=\"2\">（ろ）配管が全て断熱区画内に<br>設置されると判断できる場合以外</th>\n",
    "<th>$L_{pp,ex,R}$</th>\n",
    "<td>$L_{pp,R,1}$</td><td>0.00</td><td>0.00</td><td>0.00</td>\n",
    "</tr>\n",
    "<tr>\n",
    "<th>$L_{pp,in,R}$</th>\n",
    "<td>0.00</td><td>22.86</td><td>19.22</td><td>26.62</td>\n",
    "</tr>\n",
    "</tbody>\n",
    "</table>\n"
   ]
  },
  {
   "cell_type": "markdown",
   "metadata": {},
   "source": [
    "主たる居室に設置される放熱器の種類が温水床暖房の場合"
   ]
  },
  {
   "cell_type": "markdown",
   "metadata": {},
   "source": [
    "$$\\large\n",
    "L_{pp,R,1} = \\left\\{ \\begin{array}{ll}\n",
    "    16.38 &(0 < r_{Af,1} \\leq 0.542)\\\\ \n",
    "    16.38 \\times \\frac{(0.75 - r_{Af,1})}{0.75 - 0.542} + 29.58 \\times \\frac{(r_{Af,1} - 0.542)}{0.75 - 0.542} &(0.542 < r_{Af,1} \\leq 0.75)\\\\ \n",
    "    29.58 &(0.75  < r_{Af,1} \\leq 1)\n",
    "    \\end{array}\n",
    "\\right.\n",
    "$$"
   ]
  },
  {
   "cell_type": "markdown",
   "metadata": {},
   "source": [
    "主たる居室に設置される放熱器の種類がパネルラジエーター又はファンコンベクターの場合"
   ]
  },
  {
   "cell_type": "markdown",
   "metadata": {},
   "source": [
    "$$\\large\n",
    "L_{pp,R,1} = 29.58 \n",
    "$$"
   ]
  },
  {
   "cell_type": "markdown",
   "metadata": {},
   "source": [
    "$r_{Af,1}$：暖冷房区画 1 に設置された温水床暖房の敷設率  "
   ]
  }
 ],
 "metadata": {
  "kernelspec": {
   "display_name": "Python 3",
   "language": "python",
   "name": "python3"
  },
  "language_info": {
   "codemirror_mode": {
    "name": "ipython",
    "version": 3
   },
   "file_extension": ".py",
   "mimetype": "text/x-python",
   "name": "python",
   "nbconvert_exporter": "python",
   "pygments_lexer": "ipython3",
   "version": "3.6.7"
  }
 },
 "nbformat": 4,
 "nbformat_minor": 2
}
