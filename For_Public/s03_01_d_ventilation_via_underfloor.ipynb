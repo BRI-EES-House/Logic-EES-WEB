{
 "cells": [
  {
   "cell_type": "code",
   "execution_count": null,
   "metadata": {},
   "outputs": [],
   "source": [
    "import numpy as np\n",
    "\n",
    "import section3_1_e as algo"
   ]
  },
  {
   "cell_type": "markdown",
   "metadata": {},
   "source": [
    "## 付録D　床下空間を経由して外気を導入する換気方式 / Appendix D Ventilation system which introduces outside air via underfloor space"
   ]
  },
  {
   "cell_type": "markdown",
   "metadata": {},
   "source": [
    "### D.1 適用条件 / Applicable condition"
   ]
  },
  {
   "cell_type": "markdown",
   "metadata": {},
   "source": [
    "省略"
   ]
  },
  {
   "cell_type": "markdown",
   "metadata": {},
   "source": [
    "Omission"
   ]
  },
  {
   "cell_type": "markdown",
   "metadata": {},
   "source": [
    "### D.2 外気を導入する床下の面積の算出方法 / Calculation method of the area under the floor which introduces outside air"
   ]
  },
  {
   "cell_type": "markdown",
   "metadata": {},
   "source": [
    "省略"
   ]
  },
  {
   "cell_type": "markdown",
   "metadata": {},
   "source": [
    "Omission"
   ]
  },
  {
   "cell_type": "markdown",
   "metadata": {},
   "source": [
    "### D.3 床下空間を経由して外気を導入する換気方式による暖冷房負荷削減量 / The amount of heating and cooling load reduction by the ventilation system which introduces outside air via the space under the floor"
   ]
  },
  {
   "cell_type": "markdown",
   "metadata": {},
   "source": [
    "#### D.3.1 記号及び単位 / Symbol and unit"
   ]
  },
  {
   "cell_type": "markdown",
   "metadata": {},
   "source": [
    "省略"
   ]
  },
  {
   "cell_type": "markdown",
   "metadata": {},
   "source": [
    "Omission"
   ]
  },
  {
   "cell_type": "markdown",
   "metadata": {},
   "source": [
    "#### D.3.2 暖冷房負荷削減量 / Heating and cooling load reduction amount"
   ]
  },
  {
   "cell_type": "markdown",
   "metadata": {},
   "source": [
    "$L'_{H,R,d,t,i} \\leq 0$ の場合： "
   ]
  },
  {
   "cell_type": "markdown",
   "metadata": {},
   "source": [
    "For $L'_{H,R,d,t,i} \\leq 0$:"
   ]
  },
  {
   "cell_type": "markdown",
   "metadata": {},
   "source": [
    "$$\\large\n",
    "\\begin{equation*}\n",
    "    \\Delta L'_{H,uf,d,t,i} = 0\n",
    "\\end{equation*}\n",
    "$$"
   ]
  },
  {
   "cell_type": "markdown",
   "metadata": {},
   "source": [
    "$0 < L'_{H,R,d,t,i}$ の場合： "
   ]
  },
  {
   "cell_type": "markdown",
   "metadata": {},
   "source": [
    "For $0 < L'_{H,R,d,t,i}$:"
   ]
  },
  {
   "cell_type": "markdown",
   "metadata": {},
   "source": [
    "$$\\large\n",
    "\\begin{equation*}\n",
    "    \\Delta L'_{H,uf,d,t,i} = \\rho_{air} \\times c_{p_{air}} \\times V_{i} \\times (\\theta_{uf,d,t} - \\theta_{in,d,t}) \\times 10^{-3}\\\\ \n",
    "    - \\rho_{air} \\times c_{p_{air}} \\times V_{i} \\times (\\theta_{ex,d,t} - \\theta_{in,d,t}) \\times 10^{-3}\\\\ \n",
    "    - U_s \\times A_{s,ufvnt,i} \\times (\\theta_{in,d,t} - \\theta_{uf,d,t}) \\times 3.6 \\times 10^{-3}\\\\\n",
    "    + U_{s,vert} \\times A_{s,ufvnt,i} \\times (\\theta_{in,d,t} - \\theta_{ex,d,t}) \\times H_{floor} \\times 3.6 \\times 10^{-3}\n",
    "\\end{equation*}\n",
    "$$"
   ]
  },
  {
   "cell_type": "code",
   "execution_count": null,
   "metadata": {},
   "outputs": [],
   "source": [
    "# 当該住戸の暖冷房区画iの床下空間を経由して外気を導入する換気方式による暖房負荷削減量 (MJ/h) (1)\n",
    "def get_delta_L_dash_H_uf_d_t_i(i, A_A, A_MR, A_OR, A_HCZ_i, region, Q, r_A_ufvnt, underfloor_insulation, Theta_ex_d_t,\n",
    "                                L_dash_H_R_d_t_i):\n",
    "    \"\"\"\n",
    "    :param i: 暖冷房区画の番号\n",
    "    :param A_A: 床面積の合計 (m2)\n",
    "    :param A_MR: 主たる居室の床面積 (m2)\n",
    "    :param A_OR: その他の居室の床面積 (m2)\n",
    "    :param A_HCZ_i: 暖冷房区画iの床面積 (m2)\n",
    "    :param Theta_ex_d_t: 外気温度 (℃)\n",
    "    :param L_dash_H_R_d_t_i: 標準住戸の負荷補正前の暖冷房負荷 (MJ/h)\n",
    "    :return: 当該住戸の暖冷房区画iの床下空間を経由して外気を導入する換気方式による暖房負荷削減量 (MJ/h)\n",
    "    \"\"\"\n",
    "    delta_L_dash_H_uf_d_t_i = np.zeros(24 * 365)\n",
    "\n",
    "    if r_A_ufvnt is None or underfloor_insulation is None:\n",
    "        return delta_L_dash_H_uf_d_t_i\n",
    "\n",
    "    # ----------------------------------------\n",
    "    # (1-1) L_dash_H_R_d_t_i <= 0\n",
    "    # ----------------------------------------\n",
    "    f1 = (L_dash_H_R_d_t_i[i - 1] <= 0)\n",
    "    delta_L_dash_H_uf_d_t_i[f1] = 0\n",
    "\n",
    "    # ----------------------------------------\n",
    "    # (1-2) 0 < L_dash_H_R_d_t_i\n",
    "    # ----------------------------------------\n",
    "    f2 = (0 < L_dash_H_R_d_t_i[i - 1])\n",
    "\n",
    "    # 空気の密度 (kg/m3)\n",
    "    ro_air = get_ro_air()\n",
    "\n",
    "    # 空気の比熱 (kJ/(kg・K))\n",
    "    c_p_air = get_c_p_air()\n",
    "\n",
    "    # 床の熱貫流率 (W/(m2・K))\n",
    "    U_s = get_U_s()\n",
    "\n",
    "    # 床の温度差係数 (-)\n",
    "    H_floor = get_H_floor()\n",
    "\n",
    "    # 室内温度 (℃)\n",
    "    Theta_in_d_t = get_Theta_in_d_t('H')\n",
    "\n",
    "    # 当該住戸の暖冷房区画iの外気を導入する床下空間に接する床の面積\n",
    "    A_s_ufvnt_i = algo.get_A_s_ufvnt_i(i, r_A_ufvnt, A_A, A_MR, A_OR)\n",
    "\n",
    "    # 暖冷房負荷計算時に想定した床の熱貫流率\n",
    "    U_s_vert = algo.get_U_s_vert(region, Q)\n",
    "\n",
    "    # 当該住戸の1時間当たりの換気量 (m3/h) (4)\n",
    "    V_A = get_V_A(A_A)\n",
    "\n",
    "    # 当該住戸の暖冷房区画iの1時間当たりの換気量 (m3/h) (3)\n",
    "    V_i = get_V_i(i, V_A, A_HCZ_i, A_MR, A_OR)\n",
    "\n",
    "    # 床下温度及び地盤またはそれを覆う基礎の表面温度 (℃)\n",
    "    Theta_uf_d_t, Theta_g_surf_d_t = algo.calc_Theta(\n",
    "        region=region,\n",
    "        A_A=A_A,\n",
    "        A_MR=A_MR,\n",
    "        A_OR=A_OR,\n",
    "        Q=Q,\n",
    "        r_A_ufvnt=r_A_ufvnt,\n",
    "        underfloor_insulation=underfloor_insulation,\n",
    "        Theta_sa_d_t=Theta_ex_d_t,\n",
    "        Theta_ex_d_t=Theta_ex_d_t,\n",
    "        V_sa_d_t_A=np.repeat(V_A, 24 * 365),\n",
    "        H_OR_C='H',\n",
    "        L_dash_H_R_d_t=L_dash_H_R_d_t_i\n",
    "    )\n",
    "\n",
    "    delta_L_dash_H_uf_d_t_i[f2] = ro_air * c_p_air * V_i * (Theta_uf_d_t[f2] - Theta_in_d_t[f2]) * 10 ** (-3) \\\n",
    "                                  - ro_air * c_p_air * V_i * (Theta_ex_d_t[f2] - Theta_in_d_t[f2]) * 10 ** (-3) \\\n",
    "                                  - U_s * A_s_ufvnt_i * (Theta_in_d_t[f2] - Theta_uf_d_t[f2]) * 3.6 * 10 ** (-3) \\\n",
    "                                  + U_s_vert * A_s_ufvnt_i \\\n",
    "                                  * (Theta_in_d_t[f2] - Theta_ex_d_t[f2]) * H_floor * 3.6 * 10 ** (-3)\n",
    "\n",
    "    return delta_L_dash_H_uf_d_t_i"
   ]
  },
  {
   "cell_type": "markdown",
   "metadata": {},
   "source": [
    "$L'_{CS,R,d,t,i} \\leq 0$ の場合： "
   ]
  },
  {
   "cell_type": "markdown",
   "metadata": {},
   "source": [
    "For $L'_{CS,R,d,t,i} \\leq 0$:"
   ]
  },
  {
   "cell_type": "markdown",
   "metadata": {},
   "source": [
    "$$\\large\n",
    "\\begin{equation*}\n",
    "    \\Delta L'_{CS,uf,d,t,i} = 0\n",
    "\\end{equation*}\n",
    "$$"
   ]
  },
  {
   "cell_type": "markdown",
   "metadata": {},
   "source": [
    "$0 < L'_{CS,R,d,t,i}$ の場合： "
   ]
  },
  {
   "cell_type": "markdown",
   "metadata": {},
   "source": [
    "For $0 < L'_{CS,R,d,t,i}$:"
   ]
  },
  {
   "cell_type": "markdown",
   "metadata": {},
   "source": [
    "$$\\large\n",
    "\\begin{equation*}\n",
    "    \\Delta L'_{CS,uf,d,t,i} = - \\rho_{air} \\times c_{p_{air}} \\times V_{i} \\times (\\theta_{uf,d,t} - \\theta_{in,d,t}) \\times 10^{-3}\\\\ \n",
    "    + \\rho_{air} \\times c_{p_{air}} \\times V_{i} \\times (\\theta_{ex,d,t} - \\theta_{in,d,t}) \\times 10^{-3}\\\\ \n",
    "    + U_s \\times A_{s,ufvnt,i} \\times (\\theta_{in,d,t} - \\theta_{uf,d,t}) \\times 3.6 \\times 10^{-3}\\\\\n",
    "    - U_{s,vert} \\times A_{s,ufvnt,i} \\times (\\theta_{in,d,t} - \\theta_{ex,d,t}) \\times H_{floor} \\times 3.6 \\times 10^{-3}\n",
    "\\end{equation*}\n",
    "$$"
   ]
  },
  {
   "cell_type": "code",
   "execution_count": null,
   "metadata": {},
   "outputs": [],
   "source": [
    "# 当該住戸の暖冷房区画iの床下空間を経由して外気を導入する換気方式による冷房顕熱負荷削減量 (MJ/h) (2)\n",
    "def get_delta_L_dash_CS_R_d_t_i(i, region, Q, r_A_ufvnt, underfloor_insulation, A_A, A_MR, A_OR, A_HCZ_i, Theta_ex_d_t,\n",
    "                                L_dash_CS_R_d_t_i):\n",
    "    delta_L_dash_CS_R_d_t_i = np.zeros(24 * 365)\n",
    "\n",
    "    if r_A_ufvnt is None:\n",
    "        return delta_L_dash_CS_R_d_t_i\n",
    "\n",
    "    # ----------------------------------------\n",
    "    # (2-1) L_dash_CS_R_d_t_i < 0\n",
    "    # ----------------------------------------\n",
    "    f1 = (L_dash_CS_R_d_t_i[i - 1] < 0)\n",
    "    delta_L_dash_CS_R_d_t_i[f1] = 0\n",
    "\n",
    "    # ----------------------------------------\n",
    "    # (2-2) 0 < L_dash_CS_R_d_t_i\n",
    "    # ----------------------------------------\n",
    "    f2 = (0 < L_dash_CS_R_d_t_i[i - 1])\n",
    "\n",
    "    # 空気の密度 (kg/m3)\n",
    "    ro_air = get_ro_air()\n",
    "\n",
    "    # 空気の比熱 (kJ/(kg・K))\n",
    "    c_p_air = get_c_p_air()\n",
    "\n",
    "    # 床の熱貫流率 (W/(m2・K))\n",
    "    U_s = get_U_s()\n",
    "\n",
    "    # 床の温度差係数 (-)\n",
    "    H_floor = get_H_floor()\n",
    "\n",
    "    # 当該住戸の1時間当たりの換気量 (m3/h) (4)\n",
    "    V_A = get_V_A(A_A)\n",
    "\n",
    "    # 当該住戸の暖冷房区画iの1時間当たりの換気量 (m3/h) (3)\n",
    "    V_i = get_V_i(i, V_A, A_HCZ_i, A_MR, A_OR)\n",
    "\n",
    "    # 室内温度 (℃)\n",
    "    Theta_in_d_t = get_Theta_in_d_t('CS')\n",
    "\n",
    "    # 床下温度及び地盤またはそれを覆う基礎の表面温度 (℃)\n",
    "    Theta_uf_d_t, Theta_g_surf_d_t = algo.calc_Theta(\n",
    "        region=region,\n",
    "        A_A=A_A,\n",
    "        A_MR=A_MR,\n",
    "        A_OR=A_OR,\n",
    "        Q=Q,\n",
    "        r_A_ufvnt=r_A_ufvnt,\n",
    "        underfloor_insulation=underfloor_insulation,\n",
    "        Theta_sa_d_t=Theta_ex_d_t,\n",
    "        Theta_ex_d_t=Theta_ex_d_t,\n",
    "        V_sa_d_t_A=np.repeat(V_A, 24 * 365),\n",
    "        H_OR_C='C',\n",
    "        L_dash_CS_R_d_t=L_dash_CS_R_d_t_i\n",
    "    )\n",
    "\n",
    "    # 当該住戸の暖冷房区画iの外気を導入する床下空間に接する床の面積\n",
    "    A_s_ufvnt_i = algo.get_A_s_ufvnt_i(i, r_A_ufvnt, A_A, A_MR, A_OR)\n",
    "\n",
    "    # 暖冷房負荷計算時に想定した床の熱貫流率\n",
    "    U_s_vert = algo.get_U_s_vert(region, Q)\n",
    "\n",
    "    delta_L_dash_CS_R_d_t_i[f2] = - ro_air * c_p_air * V_i * (Theta_uf_d_t[f2] - Theta_in_d_t[f2]) * 10 ** (-3) \\\n",
    "                                  + ro_air * c_p_air * V_i * (Theta_ex_d_t[f2] - Theta_in_d_t[f2]) * 10 ** (-3) \\\n",
    "                                  + U_s * A_s_ufvnt_i * (Theta_in_d_t[f2] - Theta_uf_d_t[f2]) * 3.6 * 10 ** (-3) \\\n",
    "                                  - U_s_vert * A_s_ufvnt_i * (\n",
    "                                          Theta_in_d_t[f2] - Theta_ex_d_t[f2]) * H_floor * 3.6 * 10 ** (-3)\n",
    "\n",
    "    return delta_L_dash_CS_R_d_t_i\n"
   ]
  },
  {
   "cell_type": "markdown",
   "metadata": {},
   "source": [
    "$L'_{CS,R,d,t,i}$：日付$d$の時刻$t$における標準住戸の暖冷房区画$i$の負荷補正前の冷房顕熱負荷(MJ/h) / Cooling sensible heat load before load correction of heating / cooling section $ i $ of standard dwelling unit at time $ t $ of date $ d $  \n",
    "$L'_{H,R,d,t,i}$：日付$d$の時刻$t$における標準住戸の暖冷房区画$i$の負荷補正前の暖房負荷(MJ/h) / Heating load before load compensation of heating / cooling section $ i $ of standard dwelling unit at time $ t $ of date $ d $   \n",
    "$\\Delta L'_{H,uf,d,t,i}$：日付$d$の時刻$t$における当該住戸の暖冷房区画$i$の床下空間を経由して外気を導入する換気方式による暖房負荷削減量(MJ/h) / The amount of heating load reduction by the ventilation system that introduces outside air via the floor space of the heating and cooling section $ i $ of the relevant dwelling unit at the time $ t $ of date $ d $   \n",
    "$\\Delta L'_{CS,uf,d,t,i}$：日付$d$の時刻$t$における当該住戸の暖冷房区画$i$の床下空間を経由して外気を導入する換気方式による冷房顕熱負荷削減量(MJ/h) / Cooling sensible heat load reduction amount by ventilation system which introduces outside air via underfloor space of heating and cooling section $ i $ of the dwelling unit at time $ t $ of date $ d $  \n",
    "$\\rho_{air}$： 空気の密度(kg/m<sup>3</sup>) / Air density   \n",
    "$c_{p_{air}}$： 空気の比熱(kJ/(kg・K)) / Specific heat of air   \n",
    "$V_{i}$：当該住戸の暖冷房区画$i$の 1 時間当たりの換気量(m<sup>3</sup>/h) / Ventilation rate per hour of heating / cooling section $ i $ of the relevant dwelling unit  \n",
    "$U_s$：床の熱貫流率(W/(m<sup>2</sup>・K)) / Heat transmission coefficient of floor  \n",
    "$U_{s,vert}$：暖冷房負荷計算時に想定した床の熱貫流率(W/(m<sup>2</sup>・K)) / Heat transmission coefficient of floor assumed when calculating heating and cooling load  \n",
    "$A_{s,ufvnt,i}$：当該住戸の暖冷房区画$i$の空気を導入する床下空間に接する床の面積(m<sup>2</sup>) / Area of floor in contact with the space under the floor where air of heating and cooling section $ i $ of the dwelling unit concerned is introduced  \n",
    "$\\theta_{ex,d,t}$：日付$d$の時刻$t$における外気温度(℃) / Outside temperature at time $ t $ of date $ d $  \n",
    "$\\theta_{uf,d,t}$：日付$d$の時刻$t$における当該住戸の床下温度(℃) / Under floor temperature of the dwelling unit at time $ t $ of date $ d $  \n",
    "$\\theta_{in,d,t}$：日付$d$の時刻$t$における室内温度(℃) / Room temperature at time $ t $ with date $ d $  \n",
    "$H_{floor}$：床の温度差係数(-) / Floor temperature difference coefficient  "
   ]
  },
  {
   "cell_type": "markdown",
   "metadata": {},
   "source": [
    "空気の密度$\\rho_{air}$は、1.20 kg/m<sup>3</sup>とする。空気の比熱$c_{p_{air}}$は、1.006 kJ/(kg・K)とする。床の熱貫流率$U_s$は、2.223 W/(m<sup>2</sup>・K)とする。床の温度差係数$H_{floor}$は、0.7 とする。日付$d$の時刻$t$における室内温度$\\theta_{in,d,t}$は、暖房負荷削減量$\\Delta L'_{H,uf,d,t,i}$の算定にあっては20℃、冷房顕熱負荷削減量$\\Delta L'_{CS,uf,d,t,i}$の算定にあっては27℃とする。"
   ]
  },
  {
   "cell_type": "markdown",
   "metadata": {},
   "source": [
    "The density of air $ \\rho_ {air} $ is 1.20 kg / m 3. The specific heat $ c_ {p_ {air}} $ of air is 1.006 kJ / (kg · K). The heat transmission coefficient $ U_s $ of the bed is 2.223 W / (m <sup> 2 </sup> · K). The floor temperature difference coefficient $ H_ {floor} $ is 0.7. The room temperature $ \\theta_ {in, d, t} $ at the time $ t $ of the date $ d $ is used to calculate the heating load reduction amount $ \\Delta L '_ {H, uf, d, t, i} $ In the calculation of the cooling sensible heat load reduction amount $ \\Delta L '_ {CS, uf, d, t, i} $, the temperature is assumed to be 27 ° C."
   ]
  },
  {
   "cell_type": "code",
   "execution_count": null,
   "metadata": {},
   "outputs": [],
   "source": [
    "# 空気の密度 (kg/m3)\n",
    "def get_ro_air():\n",
    "    return 1.20\n",
    "\n",
    "\n",
    "# 空気の比熱 (kJ/(kg・K))\n",
    "def get_c_p_air():\n",
    "    return 1.006\n",
    "\n",
    "\n",
    "# 床の熱貫流率 (W/(m2・K))\n",
    "def get_U_s():\n",
    "    return 2.223\n",
    "\n",
    "\n",
    "# 床の温度差係数 (-)\n",
    "def get_H_floor():\n",
    "    return 0.7\n",
    "\n",
    "# 室内温度 (℃)\n",
    "def get_Theta_in_d_t(H_or_CS):\n",
    "    \"\"\"\n",
    "    :param H_or_CS: 計算対象('H' for 暖房負荷削減量, 'CS' for 冷房顕熱負荷削減量)\n",
    "    :return: 室内温度 (℃)\n",
    "    \"\"\"\n",
    "    if H_or_CS == 'H':\n",
    "        return np.repeat(20, 24 * 365)\n",
    "    elif H_or_CS == 'CS':\n",
    "        return np.repeat(27, 24 * 365)"
   ]
  },
  {
   "cell_type": "markdown",
   "metadata": {},
   "source": [
    "#### D.3.3 換気量 / Ventilation volume"
   ]
  },
  {
   "cell_type": "markdown",
   "metadata": {},
   "source": [
    "$$\n",
    "\\large\n",
    "V_{i} = \\left\\{\n",
    "\\begin{array}{ll}\n",
    "V_{A} \\times \\frac{A_{HCZ,i}}{A_{MR} + A_{OR}} & (i = 1～5 の場合)\\\\\n",
    "0 & (i = 6～12 の場合)\\\\\n",
    "\\end{array}\n",
    "\\right.\n",
    "$$"
   ]
  },
  {
   "cell_type": "code",
   "execution_count": null,
   "metadata": {},
   "outputs": [],
   "source": [
    "# 当該住戸の暖冷房区画iの1時間当たりの換気量 (m3/h) (3)\n",
    "def get_V_i(i, V_A, A_HCZ_i, A_MR, A_OR):\n",
    "    \"\"\"\n",
    "    :param i: 暖冷房区画の番号\n",
    "    :param V_A: 当該住戸の1時間当たりの換気量 (m3/h)\n",
    "    :param A_HCZ_i: 暖冷房区画iの床面積 (m2)\n",
    "    :param A_MR: 主たる居室の床面積 (m2)\n",
    "    :param A_OR: その他の居室の床面積 (m2)\n",
    "    :return: 当該住戸の暖冷房区画iの1時間当たりの換気量 (m3/h)\n",
    "    \"\"\"\n",
    "    if i in [1, 2, 3, 4, 5]:\n",
    "        return V_A * (A_HCZ_i / (A_MR + A_OR))\n",
    "    elif i in [6, 7, 8, 9, 10, 11, 12]:\n",
    "        return 0\n",
    "    else:\n",
    "        raise ValueError(i)"
   ]
  },
  {
   "cell_type": "markdown",
   "metadata": {},
   "source": [
    "$$\n",
    "\\large\n",
    "V_{A} = A_{A} \\times H_{R} \\times N\n",
    "$$"
   ]
  },
  {
   "cell_type": "code",
   "execution_count": null,
   "metadata": {},
   "outputs": [],
   "source": [
    "# 当該住戸の1時間当たりの換気量 (m3/h) (4)\n",
    "def get_V_A(A_A):\n",
    "    \"\"\"\n",
    "    :param A_A: 床面積の合計 (m2)\n",
    "    :return: 当該住戸の1時間当たりの換気量 (m3/h)\n",
    "    \"\"\"\n",
    "    # 参照天井高さ (m)\n",
    "    H_R = get_H_R()\n",
    "\n",
    "    # 換気回数 (回/h)\n",
    "    N = get_N()\n",
    "\n",
    "    # 当該住戸の1時間当たりの換気量 (4)\n",
    "    V_A = A_A * H_R * N\n",
    "\n",
    "    return V_A"
   ]
  },
  {
   "cell_type": "markdown",
   "metadata": {},
   "source": [
    "$A_{A}$：床面積の合計(m<sup>2</sup>) / Total floor area  \n",
    "$A_{HCZ,i}$：暖冷房区画$i$の床面積(m<sup>2</sup>) / Floor area of heating / cooling section $ i $  \n",
    "$A_{MR}$：主たる居室の床面積(m<sup>2</sup>) / Floor area of main room  \n",
    "$A_{OR}$：その他の居室の床面積(m<sup>2</sup>) / Floor area of other rooms  \n",
    "$H_{R}$：参照天井高さ(m) / Reference ceiling height  \n",
    "$N$：換気回数(1/h) / Ventilation frequency  \n",
    "$V_{A}$：当該住戸の 1 時間当たりの換気量(m<sup>3</sup>/h) / Ventilation rate per hour of the dwelling unit concerned  \n",
    "$V_{i}$：当該住戸の暖冷房区画$i$の1時間当たりの換気量(m<sup>3</sup>/h) / Ventilation rate per hour of heating / cooling section $ i $ of the relevant dwelling unit  "
   ]
  },
  {
   "cell_type": "markdown",
   "metadata": {},
   "source": [
    "参照天井高さ$H_{R}$は、2.4 m とする。換気回数$N$は、0.5 回/h とする。 "
   ]
  },
  {
   "cell_type": "markdown",
   "metadata": {},
   "source": [
    "The reference ceiling height $ H_{R} $ is 2.4 m. The ventilation frequency $ N $ shall be 0.5 times / h."
   ]
  },
  {
   "cell_type": "code",
   "execution_count": null,
   "metadata": {},
   "outputs": [],
   "source": [
    "# 参照天井高さ (m)\n",
    "def get_H_R():\n",
    "    return 2.4\n",
    "\n",
    "\n",
    "# 換気回数 (回/h)\n",
    "def get_N():\n",
    "    return 0.5\n"
   ]
  }
 ],
 "metadata": {
  "kernelspec": {
   "display_name": "Python 3",
   "language": "python",
   "name": "python3"
  },
  "language_info": {
   "codemirror_mode": {
    "name": "ipython",
    "version": 3
   },
   "file_extension": ".py",
   "mimetype": "text/x-python",
   "name": "python",
   "nbconvert_exporter": "python",
   "pygments_lexer": "ipython3",
   "version": "3.6.7"
  }
 },
 "nbformat": 4,
 "nbformat_minor": 2
}
