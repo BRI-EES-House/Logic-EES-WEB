{
 "cells": [
  {
   "cell_type": "markdown",
   "metadata": {},
   "source": [
    "### 付録D　床下空間を経由して外気を導入する換気方式"
   ]
  },
  {
   "cell_type": "markdown",
   "metadata": {},
   "source": [
    "#### D.1 適用条件"
   ]
  },
  {
   "cell_type": "markdown",
   "metadata": {},
   "source": [
    "省略"
   ]
  },
  {
   "cell_type": "markdown",
   "metadata": {},
   "source": [
    "#### D.2 外気を導入する床下の面積の算出方法"
   ]
  },
  {
   "cell_type": "markdown",
   "metadata": {},
   "source": [
    "省略"
   ]
  },
  {
   "cell_type": "markdown",
   "metadata": {},
   "source": [
    "#### D.3 床下空間を経由して外気を導入する換気方式による暖冷房負荷削減量"
   ]
  },
  {
   "cell_type": "markdown",
   "metadata": {},
   "source": [
    "#### D.3.1 記号及び単位"
   ]
  },
  {
   "cell_type": "markdown",
   "metadata": {},
   "source": [
    "省略"
   ]
  },
  {
   "cell_type": "markdown",
   "metadata": {},
   "source": [
    "#### D.3.2 暖冷房負荷削減量"
   ]
  },
  {
   "cell_type": "markdown",
   "metadata": {},
   "source": [
    "$L'_{H,R,d,t,i} \\leq 0$ の場合： "
   ]
  },
  {
   "cell_type": "markdown",
   "metadata": {},
   "source": [
    "$$\\large\n",
    "\\begin{equation*}\n",
    "    \\Delta L'_{H,uf,d,t,i} = 0\n",
    "\\end{equation*}\n",
    "$$"
   ]
  },
  {
   "cell_type": "markdown",
   "metadata": {},
   "source": [
    "$0 < L'_{H,R,d,t,i}$ の場合： "
   ]
  },
  {
   "cell_type": "markdown",
   "metadata": {},
   "source": [
    "$$\\large\n",
    "\\begin{equation*}\n",
    "    \\Delta L'_{H,uf,d,t,i} = \\rho_{air} \\times c_{p_{air}} \\times V_{i} \\times (\\theta_{uf,d,t} - \\theta_{in,d,t}) \\times 10^{-3}\\\\ \n",
    "    - \\rho_{air} \\times c_{p_{air}} \\times V_{i} \\times (\\theta_{ex,d,t} - \\theta_{in,d,t}) \\times 10^{-3}\\\\ \n",
    "    - U_s \\times A_{s,ufvnt,i} \\times (\\theta_{in,d,t} - \\theta_{uf,d,t}) \\times 3.6 \\times 10^{-3}\\\\\n",
    "    + U_{s,vert} \\times A_{s,ufvnt,i} \\times (\\theta_{in,d,t} - \\theta_{ex,d,t}) \\times H_{floor} \\times 3.6 \\times 10^{-3}\n",
    "\\end{equation*}\n",
    "$$"
   ]
  },
  {
   "cell_type": "markdown",
   "metadata": {},
   "source": [
    "$L'_{CS,R,d,t,i} \\leq 0$ の場合： "
   ]
  },
  {
   "cell_type": "markdown",
   "metadata": {},
   "source": [
    "$$\\large\n",
    "\\begin{equation*}\n",
    "    \\Delta L'_{CS,uf,d,t,i} = 0\n",
    "\\end{equation*}\n",
    "$$"
   ]
  },
  {
   "cell_type": "markdown",
   "metadata": {},
   "source": [
    "$0 < L'_{CS,R,d,t,i}$ の場合： "
   ]
  },
  {
   "cell_type": "markdown",
   "metadata": {},
   "source": [
    "$$\\large\n",
    "\\begin{equation*}\n",
    "    \\Delta L'_{CS,uf,d,t,i} = - \\rho_{air} \\times c_{p_{air}} \\times V_{i} \\times (\\theta_{uf,d,t} - \\theta_{in,d,t}) \\times 10^{-3}\\\\ \n",
    "    + \\rho_{air} \\times c_{p_{air}} \\times V_{i} \\times (\\theta_{ex,d,t} - \\theta_{in,d,t}) \\times 10^{-3}\\\\ \n",
    "    + U_s \\times A_{s,ufvnt,i} \\times (\\theta_{in,d,t} - \\theta_{uf,d,t}) \\times 3.6 \\times 10^{-3}\\\\\n",
    "    - U_{s,vert} \\times A_{s,ufvnt,i} \\times (\\theta_{in,d,t} - \\theta_{ex,d,t}) \\times H_{floor} \\times 3.6 \\times 10^{-3}\n",
    "\\end{equation*}\n",
    "$$"
   ]
  },
  {
   "cell_type": "markdown",
   "metadata": {},
   "source": [
    "$L'_{CS,R,d,t,i}$：日付$d$の時刻$t$における標準住戸の暖冷房区画$i$の負荷補正前の冷房顕熱負荷(MJ/h)  \n",
    "$L'_{H,R,d,t,i}$：日付$d$の時刻$t$における標準住戸の暖冷房区画$i$の負荷補正前の暖房負荷(MJ/h)  \n",
    "$\\Delta L'_{H,uf,d,t,i}$：日付$d$の時刻$t$における当該住戸の暖冷房区画$i$の床下空間を経由して外気を導入する換気方式による暖房負荷削減量(MJ/h)  \n",
    "$\\Delta L'_{CS,uf,d,t,i}$：日付$d$の時刻$t$における当該住戸の暖冷房区画$i$の床下空間を経由して外気を導入する換気方式による冷房顕熱負荷削減量(MJ/h)  \n",
    "$\\rho_{air}$： 空気の密度(kg/m<sup>3</sup>)   \n",
    "$c_{p_{air}}$： 空気の比熱(kJ/(kg・K))   \n",
    "$V_{i}$：当該住戸の暖冷房区画$i$の 1 時間当たりの換気量(m<sup>3</sup>/h)  \n",
    "$U_s$：床の熱貫流率(W/(m<sup>2</sup>・K))  \n",
    "$U_{s,vert}$：暖冷房負荷計算時に想定した床の熱貫流率(W/(m<sup>2</sup>・K))  \n",
    "$A_{s,ufvnt,i}$：当該住戸の暖冷房区画$i$の空気を導入する床下空間に接する床の面積(m<sup>2</sup>)  \n",
    "$\\theta_{ex,d,t}$：日付$d$の時刻$t$における外気温度(℃)  \n",
    "$\\theta_{uf,d,t}$：日付$d$の時刻$t$における当該住戸の床下温度(℃)  \n",
    "$\\theta_{in,d,t}$：日付$d$の時刻$t$における室内温度(℃)  \n",
    "$H_{floor}$：床の温度差係数(-)  "
   ]
  },
  {
   "cell_type": "markdown",
   "metadata": {},
   "source": [
    "空気の密度$\\rho_{air}$は、1.20 kg/m<sup>3</sup>とする。空気の比熱$c_{p_{air}}$は、1.006 kJ/(kg・K)とする。床の熱貫流率$U_s$は、2.223 W/(m<sup>2</sup>・K)とする。床の温度差係数$H_{floor}$は、0.7 とする。日付$d$の時刻$t$における室内温度$\\theta_{in,d,t}$は、暖房負荷削減量$\\Delta L'_{H,uf,d,t,i}$の算定にあっては20℃、冷房顕熱負荷削減量$\\Delta L'_{CS,uf,d,t,i}$の算定にあっては27℃とする。"
   ]
  },
  {
   "cell_type": "markdown",
   "metadata": {},
   "source": [
    "#### D.3.3 換気量"
   ]
  },
  {
   "cell_type": "markdown",
   "metadata": {},
   "source": [
    "$$\n",
    "\\large\n",
    "V_{i} = \\left\\{\n",
    "\\begin{array}{ll}\n",
    "V_{A} \\times \\frac{A_{HCZ,i}}{A_{MR} + A_{OR}} & (i = 1～5 の場合)\\\\\n",
    "0 & (i = 6～12 の場合)\\\\\n",
    "\\end{array}\n",
    "\\right.\n",
    "$$"
   ]
  },
  {
   "cell_type": "markdown",
   "metadata": {},
   "source": [
    "$$\n",
    "\\large\n",
    "V_{A} = A_{A} \\times H_{R} \\times N\n",
    "$$"
   ]
  },
  {
   "cell_type": "markdown",
   "metadata": {},
   "source": [
    "$A_{A}$：床面積の合計(m<sup>2</sup>)  \n",
    "$A_{HCZ,i}$：暖冷房区画$i$の床面積(m<sup>2</sup>)  \n",
    "$A_{MR}$：主たる居室の床面積(m<sup>2</sup>)  \n",
    "$A_{OR}$：その他の居室の床面積(m<sup>2</sup>)  \n",
    "$H_{R}$：参照天井高さ(m)  \n",
    "$N$：換気回数(1/h)  \n",
    "$V_{A}$：当該住戸の 1 時間当たりの換気量(m<sup>3</sup>/h)  \n",
    "$V_{i}$：当該住戸の暖冷房区画$i$の1時間当たりの換気量(m<sup>3</sup>/h)  "
   ]
  },
  {
   "cell_type": "markdown",
   "metadata": {},
   "source": [
    "参照天井高さ$H_{R}$は、2.4 m とする。換気回数$N$は、0.5 回/h とする。 "
   ]
  }
 ],
 "metadata": {
  "kernelspec": {
   "display_name": "Python 3",
   "language": "python",
   "name": "python3"
  },
  "language_info": {
   "codemirror_mode": {
    "name": "ipython",
    "version": 3
   },
   "file_extension": ".py",
   "mimetype": "text/x-python",
   "name": "python",
   "nbconvert_exporter": "python",
   "pygments_lexer": "ipython3",
   "version": "3.6.7"
  }
 },
 "nbformat": 4,
 "nbformat_minor": 2
}
