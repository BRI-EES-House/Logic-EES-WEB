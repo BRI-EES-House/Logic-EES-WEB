{
 "cells": [
  {
   "cell_type": "code",
   "execution_count": null,
   "metadata": {},
   "outputs": [],
   "source": [
    "import numpy as np"
   ]
  },
  {
   "cell_type": "markdown",
   "metadata": {},
   "source": [
    "## 付録I　電気ヒートポンプ・ガス瞬間式併用型給湯温水暖房機（給湯熱源：電気ヒートポンプ・ガス瞬間式併用、暖房熱源：電気ヒートポンプ・ガス瞬間式併用） / Appendix I Electric heat pump gas instantaneous type combined hot water supply hot water heater (hot water supply heat source: electric heat pump gas instantaneous type combined use, heating heat source: electric heat pump gas instantaneous type combined)"
   ]
  },
  {
   "cell_type": "markdown",
   "metadata": {},
   "source": [
    "### I.1 記号及び単位 / Symbol and unit"
   ]
  },
  {
   "cell_type": "markdown",
   "metadata": {},
   "source": [
    "省略"
   ]
  },
  {
   "cell_type": "markdown",
   "metadata": {},
   "source": [
    "Omission"
   ]
  },
  {
   "cell_type": "markdown",
   "metadata": {},
   "source": [
    "### I.2 消費電力量 / Power consumption"
   ]
  },
  {
   "cell_type": "markdown",
   "metadata": {},
   "source": [
    "$L''_{k,d}+L''_{s,d}+L''_{w,d}+L''_{b2,d}+L''_{ba2,d}+L_{HWH,d} = 0 $の場合"
   ]
  },
  {
   "cell_type": "markdown",
   "metadata": {},
   "source": [
    "In the case of $L''_{k,d}+L''_{s,d}+L''_{w,d}+L''_{b2,d}+L''_{ba2,d}+L_{HWH,d} = 0 $"
   ]
  },
  {
   "cell_type": "markdown",
   "metadata": {},
   "source": [
    "$$\\large\n",
    "E_{E,hs,d,t} = E_{E,hs,d} \\div 24\n",
    "$$"
   ]
  },
  {
   "cell_type": "markdown",
   "metadata": {},
   "source": [
    "$L''_{k,d}+L''_{s,d}+L''_{w,d}+L''_{b2,d}+L''_{ba2,d}+L_{HWH,d} > 0$の場合"
   ]
  },
  {
   "cell_type": "markdown",
   "metadata": {},
   "source": [
    "In the case of $L''_{k,d}+L''_{s,d}+L''_{w,d}+L''_{b2,d}+L''_{ba2,d}+L_{HWH,d} > 0$"
   ]
  },
  {
   "cell_type": "markdown",
   "metadata": {},
   "source": [
    "$$\\large\n",
    "E_{E,hs,d,t} = E_{E,hs,d} \\times \\frac{L''_{k,d,t}+L''_{s,d,t}+L''_{w,d,t}+L''_{b2,d,t}+L''_{ba2,d,t}+L_{HWH,d,t}}{L''_{k,d}+L''_{s,d}+L''_{w,d}+L''_{b2,d}+L''_{ba2,d}+L_{HWH,d}}\n",
    "$$"
   ]
  },
  {
   "cell_type": "markdown",
   "metadata": {},
   "source": [
    "$E_{E,hs,d}$：日付$d$における1 日当たりの給湯機の消費電力量(kWh/d) / Water heater power consumption per day on date $ d $  \n",
    "$E_{E,hs,d,t}$：日付$d$の時刻$t$における1時間当たりの給湯機の消費電力量(kWh/h) / Water heater power consumption per hour at time $ t $ on date $ d $  \n",
    "$ L''_{k,d} $：日付$d$における1 日当たりの台所水栓における太陽熱補正給湯熱負荷(MJ/d) / Solar heat correction hot water supply heat load on a kitchen faucet per day at date $ d $  \n",
    "$ L''_{s,d} $：日付$d$における1 日当たりの浴室シャワー水栓における太陽熱補正給湯熱負荷(MJ/d) / Solar heat correction hot water supply heat load at one day bathroom shower faucet at date $ d $  \n",
    "$ L''_{w,d} $：日付$d$における1 日当たりの洗面水栓における太陽熱補正給湯熱負荷(MJ/d) / Solar heat correction hot water supply heat load in a single day water faucet at date $ d $  \n",
    "$ L''_{b2,d} $：日付$d$における1 日当たりの浴槽自動湯はり時における太陽熱補正給湯熱負荷(MJ/d) / Solar heat correction hot water supply heat load at the time of one day bathtub automatic bath heating on date $ d $  \n",
    "$ L''_{ba2,d} $：日付$d$における1 日当たりの浴槽追焚時における太陽熱補正給湯熱負荷(MJ/d) / Solar heat correction hot water supply heat load at the time of one day bathtub remembrance at date $ d $  \n",
    "$L_{HWH,d}$：日付$d$における1日当たりの温水暖房の熱負荷(MJ/d) / Hot water heating heat load per day on date $ d $  \n",
    "$ L''_{k,d,t} $：日付$d$の時刻$t$における 1時間当たりの台所水栓における太陽熱補正給湯熱負荷(MJ/h) / Solar heat correction hot water supply heat load on kitchen faucet per hour at time $ t $ on date $ d $  \n",
    "$ L''_{s,d,t} $：日付$d$の時刻$t$における 1時間当たりの浴室シャワー水栓における太陽熱補正給湯熱負荷(MJ/h) / Solar heat correction hot water supply heat load in bathroom shower faucet per hour at time $ t $ of date $ d $  \n",
    "$ L''_{w,d,t} $：日付$d$の時刻$t$における 1時間当たりの洗面水栓における太陽熱補正給湯熱負荷(MJ/h) / Solar heat correction hot water supply heat load in the faucet per hour at time $ t $ of date $ d $  \n",
    "$ L''_{b2,d,t} $：日付$d$の時刻$t$における 1時間当たりの浴槽自動湯はり時における太陽熱補正給湯熱負荷(MJ/h) / Solar heat correction hot water supply heat load during bathtub automatic water heating per hour at time $ t $ of date $ d $  \n",
    "$ L''_{ba2,d,t} $：日付$d$の時刻$t$における 1時間当たりの浴槽追焚時における太陽熱補正給湯熱負荷(MJ/h) / Solar heat correction hot water supply heat load at the time of tub recollection per hour at time $ t $ of date $ d $  \n",
    "$L_{HWH,d,t}$：日付$d$の時刻$t$における 1時間当たりの温水暖房の熱負荷(MJ/h) / Hot water heating heat load per hour at time $ t $ on date $ d $  "
   ]
  },
  {
   "cell_type": "code",
   "execution_count": null,
   "metadata": {},
   "outputs": [],
   "source": [
    "# 1時間当たりの給湯機の消費電力量 (1)\n",
    "def get_E_E_hs_d_t(L_HWH, hybrid_category, Theta_ex_Ave_d, L_dashdash_k_d_t, L_dashdash_s_d_t, L_dashdash_w_d_t,\n",
    "                   L_dashdash_b2_d_t,\n",
    "                   L_dashdash_ba2_d_t):\n",
    "    \"\"\"\n",
    "    :param L_HWH: 1日当たりの温水暖房の熱負荷 (MJ/d)\n",
    "    :param hybrid_category: 電気ヒートポンプ・ガス瞬間式併用型給湯温水暖房機の区分\n",
    "    :param Theta_ex_Ave_d: 日平均外気温度 (℃)\n",
    "    :param L_dashdash_k_d_t: 1日当たりの台所水栓における太陽熱補正給湯熱負荷 (MJ/h)\n",
    "    :param L_dashdash_s_d_t: 1日当たりの浴室シャワー水栓における太陽熱補正給湯熱負荷 (MJ/h)\n",
    "    :param L_dashdash_w_d_t: 1日当たりの洗面水栓における太陽熱補正給湯熱負荷 (MJ/h)\n",
    "    :param L_dashdash_b2_d_t: 1日当たりの浴槽追焚時における太陽熱補正給湯熱負荷 (MJ/h)\n",
    "    :param L_dashdash_ba2_d_t: 1日当たりの浴槽追焚時における太陽熱補正給湯熱負荷 (MJ/h)\n",
    "    :return: 1時間当たりの給湯機の消費電力量 (kWh/h)\n",
    "    \"\"\"\n",
    "    # 1日当たりの太陽熱補正給湯熱負荷\n",
    "    L_dashdash_k_d = get_L_dashdash_k_d(L_dashdash_k_d_t)\n",
    "    L_dashdash_s_d = get_L_dashdash_s_d(L_dashdash_s_d_t)\n",
    "    L_dashdash_w_d = get_L_dashdash_w_d(L_dashdash_w_d_t)\n",
    "    L_dashdash_b2_d = get_L_dashdash_b2_d(L_dashdash_b2_d_t)\n",
    "    L_dashdash_ba2_d = get_L_dashdash_ba2_d(L_dashdash_ba2_d_t)\n",
    "\n",
    "    E_E_hs_d = get_E_E_hs_d(L_HWH, hybrid_category, Theta_ex_Ave_d, L_dashdash_k_d, L_dashdash_s_d, L_dashdash_w_d,\n",
    "                            L_dashdash_b2_d, L_dashdash_ba2_d)\n",
    "\n",
    "    # 1日当たりの太陽熱補正給湯熱負荷、給湯機の消費電力量の配列要素を1時間ごとに引き延ばす(合計値は24倍になることに注意)\n",
    "    E_E_hs_d = np.repeat(E_E_hs_d, 24)\n",
    "    L_dashdash_k_d = np.repeat(L_dashdash_k_d, 24)\n",
    "    L_dashdash_s_d = np.repeat(L_dashdash_s_d, 24)\n",
    "    L_dashdash_w_d = np.repeat(L_dashdash_w_d, 24)\n",
    "    L_dashdash_b2_d = np.repeat(L_dashdash_b2_d, 24)\n",
    "    L_dashdash_ba2_d = np.repeat(L_dashdash_ba2_d, 24)\n",
    "\n",
    "    E_E_hs_d_t = np.zeros(24 * 365)\n",
    "\n",
    "    # (1-1) 太陽熱補正給湯熱負荷が発生しない日 => 24時間で単純分割\n",
    "    f1 = (L_dashdash_k_d + L_dashdash_s_d + L_dashdash_w_d + L_dashdash_b2_d + L_dashdash_ba2_d == 0)\n",
    "    E_E_hs_d_t[f1] = E_E_hs_d[f1] / 24\n",
    "\n",
    "    # (1-2) 太陽熱補正給湯熱負荷が発生する日 => 負荷で按分\n",
    "    f2 = (L_dashdash_k_d + L_dashdash_s_d + L_dashdash_w_d + L_dashdash_b2_d + L_dashdash_ba2_d > 0)\n",
    "    E_E_hs_d_t[f2] = E_E_hs_d[f2] * (\n",
    "            L_dashdash_k_d_t[f2] + L_dashdash_s_d_t[f2] + L_dashdash_w_d_t[f2] + L_dashdash_b2_d_t[f2] +\n",
    "            L_dashdash_ba2_d_t[f2]) / (\n",
    "                             L_dashdash_k_d[f2] + L_dashdash_s_d[f2] + L_dashdash_w_d[f2] + L_dashdash_b2_d[f2] +\n",
    "                             L_dashdash_ba2_d[f2])\n",
    "\n",
    "    return E_E_hs_d_t"
   ]
  },
  {
   "cell_type": "markdown",
   "metadata": {},
   "source": [
    "$$\\large\n",
    "E_{E,hs,d} = \\{ (a_{1} \\times \\theta_{ex,Ave,d} + a_{2} \\times (L''_{k,d}+L''_{s,d}+L''_{w,d}+L''_{b2,d}) + a_{3} \\times L_{HWH,d} + a_{4}) \\times C_{E,def,d} \\\\\n",
    "\\large + (0.01723 \\times L''_{ba2,d} + 0.06099) \\} \\times 10^{3} \\div 3600\n",
    "$$"
   ]
  },
  {
   "cell_type": "markdown",
   "metadata": {},
   "source": [
    "$ C_{E,def,d} $：日付$d$における1 日当たりのデフロスト運転による消費電力量の補正係数(-) / Correction factor for energy consumption by daily defrost operation at date $ d $  \n",
    "$E_{E,hs,d}$：日付$d$における1 日当たりの給湯機の消費電力量(kWh/d) / Water heater power consumption per day on date $ d $  \n",
    "$ L''_{k,d} $：日付$d$における1 日当たりの台所水栓における太陽熱補正給湯熱負荷(MJ/d) / Solar heat correction hot water supply heat load on a kitchen faucet per day at date $ d $  \n",
    "$ L''_{s,d} $：日付$d$における1 日当たりの浴室シャワー水栓における太陽熱補正給湯熱負荷(MJ/d) / Solar heat correction hot water supply heat load at one day bathroom shower faucet at date $ d $  \n",
    "$ L''_{w,d} $：日付$d$における1 日当たりの洗面水栓における太陽熱補正給湯熱負荷(MJ/d) / Solar heat correction hot water supply heat load in a single day water faucet at date $ d $  \n",
    "$ L''_{b2,d} $：日付$d$における1 日当たりの浴槽自動湯はり時における太陽熱補正給湯熱負荷(MJ/d) / Solar heat correction hot water supply heat load at the time of one day bathtub automatic bath heating on date $ d $  \n",
    "$ L''_{ba2,d} $：日付$d$における1 日当たりの浴槽追焚時における太陽熱補正給湯熱負荷(MJ/d) / Solar heat correction hot water supply heat load at the time of one day bathtub remembrance at date $ d $  \n",
    "$L_{HWH,d}$：日付$d$における1 日当たりの温水暖房の熱負荷(MJ/d) / Hot water heating heat load per day on date $ d $  \n",
    "$\\theta_{ex,Ave,d}$：日付$d$における日平均外気温度(℃) / Daily average outside temperature on date $ d $  \n",
    "$a_{1}, a_{2}, a_{3}, a_{4}$：係数(-) / coefficient  "
   ]
  },
  {
   "cell_type": "code",
   "execution_count": null,
   "metadata": {},
   "outputs": [],
   "source": [
    "# 1日当たりの給湯機の消費電力量 (2)\n",
    "def get_E_E_hs_d(L_HWH, hybrid_category, Theta_ex_Ave_d, L_dashdash_k_d, L_dashdash_s_d, L_dashdash_w_d,\n",
    "                 L_dashdash_b2_d,\n",
    "                 L_dashdash_ba2_d):\n",
    "    \"\"\"\n",
    "    :param L_HWH: 1日当たりの温水暖房の熱負荷 (MJ/d)\n",
    "    :param hybrid_category: 電気ヒートポンプ・ガス瞬間式併用型給湯温水暖房機の区分\n",
    "    :param Theta_ex_Ave_d: 日平均外気温度 (℃)\n",
    "    :param L_dashdash_k_d: 1日当たりの台所水栓における太陽熱補正給湯熱負荷 (MJ/d)\n",
    "    :param L_dashdash_s_d: 1日当たりの浴室シャワー水栓における太陽熱補正給湯熱負荷 (MJ/d)\n",
    "    :param L_dashdash_w_d: 1日当たりの洗面水栓における太陽熱補正給湯熱負荷 (MJ/d)\n",
    "    :param L_dashdash_b2_d: 1日当たりの浴槽追焚時における太陽熱補正給湯熱負荷 (MJ/d)\n",
    "    :param L_dashdash_ba2_d: 1日当たりの浴槽追焚時における太陽熱補正給湯熱負荷 (MJ/d)\n",
    "    :return: 1日当たりの給湯機の消費電力量 (kWh/d)\n",
    "    \"\"\"\n",
    "    # 係数\n",
    "    a_1, a_2, a_3, a_4 = get_coeff_a(L_HWH, hybrid_category)\n",
    "\n",
    "    # デフロスト係数\n",
    "    C_E_def_d = get_C_E_def_d(Theta_ex_Ave_d)\n",
    "\n",
    "    E_E_hs_d = ((a_1 * Theta_ex_Ave_d + a_2 * (\n",
    "            L_dashdash_k_d + L_dashdash_s_d + L_dashdash_w_d + L_dashdash_b2_d) + a_3 * L_HWH + a_4) * C_E_def_d\n",
    "                + (0.01723 * L_dashdash_ba2_d + 0.06099)) * 10 ** 3 / 3600\n",
    "\n",
    "    return E_E_hs_d"
   ]
  },
  {
   "cell_type": "markdown",
   "metadata": {},
   "source": [
    "1 日当たりの温水暖房の熱負荷$L_{HWH,d}$が0より大の場合は（い）欄の値を用いることとし、0に等しい場合は（ろ）欄の値を用いることとする。 "
   ]
  },
  {
   "cell_type": "markdown",
   "metadata": {},
   "source": [
    "If the heat load $ L_ {HWH, d} $ of hot water heating per day is larger than 0, use the value in the (i) column, and if it is equal to 0, use the value in the (lo) column ."
   ]
  },
  {
   "cell_type": "markdown",
   "metadata": {},
   "source": [
    "<div style=\"text-align: center;font-weight: bold;\">表　係数<br>Table: Coefficients</div>\n",
    "\n",
    "<table>\n",
    "<thead>\n",
    "<tr>\n",
    "<th rowspan=\"2\">係数<br>coefficient</th>\n",
    "<th colspan=\"2\" style=\"text-align:center;\">（い）1 日当たりの温水暖房の熱負荷$L_{HWH,d}$が<br>0 より大の場合<br>(I) When the heat load $ L_ {HWH, d} $ of hot water heating per day is greater than 0</th>\n",
    "<th colspan=\"2\" style=\"text-align:center;\">（ろ）1 日当たりの温水暖房の熱負荷$L_{HWH,d}$が<br>0 の場合<br>(RO) 1 heat water heating heat load per day $ L_ {HWH, d} $ is 0</th>\n",
    "</tr>\n",
    "<tr>\n",
    "<th>区分 1<br>Category 1</th>\n",
    "<th>区分 2<br>Category 2</th>\n",
    "<th>区分 1<br>Category 1</th>\n",
    "<th>区分 2<br>Category 2</th>\n",
    "</tr>\n",
    "</thead>\n",
    "\n",
    "<tbody>\n",
    "<tr>\n",
    "<th>$a_{1}$</th><td>-0.51375</td><td>-0.57722</td><td>-0.18114</td><td>-0.30429</td>\n",
    "</tr>\n",
    "<tr>\n",
    "<th>$a_{2}$</th><td>-0.01782</td><td>0.03865</td><td>0.10483</td><td>0.08497</td>\n",
    "</tr>\n",
    "<tr>\n",
    "<th>$a_{3}$</th><td>0.27640</td><td>0.18173</td><td>0.0</td><td>0.0</td>\n",
    "</tr>\n",
    "<tr>\n",
    "<th>$a_{4}$</th><td>9.40671</td><td>15.30711</td><td>5.85285</td><td>10.66158</td>\n",
    "</tr>\n",
    "</tbody>\n",
    "</table>"
   ]
  },
  {
   "cell_type": "code",
   "execution_count": null,
   "metadata": {},
   "outputs": [],
   "source": [
    "# 係数a_1, a_2, a_3, a_4\n",
    "def get_coeff_a(L_HWH, hybrid_category):\n",
    "    # 表I.3 式(1)における係数\n",
    "    table_i_3 = [\n",
    "        (-0.51375, -0.57722, -0.18114, -0.30429),\n",
    "        (-0.01782, 0.03865, 0.10483, 0.08497),\n",
    "        (0.27640, 0.18173, 0.0, 0.0),\n",
    "        (9.40671, 15.30711, 5.85285, 10.66158)\n",
    "    ]\n",
    "    a_1 = np.zeros(365)\n",
    "    a_2 = np.zeros(365)\n",
    "    a_3 = np.zeros(365)\n",
    "    a_4 = np.zeros(365)\n",
    "    if hybrid_category == '区分1':\n",
    "        a_1[L_HWH > 0] = table_i_3[0][0]\n",
    "        a_1[L_HWH == 0] = table_i_3[0][2]\n",
    "        a_2[L_HWH > 0] = table_i_3[1][0]\n",
    "        a_2[L_HWH == 0] = table_i_3[1][2]\n",
    "        a_3[L_HWH > 0] = table_i_3[2][0]\n",
    "        a_3[L_HWH == 0] = table_i_3[2][2]\n",
    "        a_4[L_HWH > 0] = table_i_3[3][0]\n",
    "        a_4[L_HWH == 0] = table_i_3[3][2]\n",
    "    elif hybrid_category == '区分2':\n",
    "        a_1[L_HWH > 0] = table_i_3[0][1]\n",
    "        a_1[L_HWH == 0] = table_i_3[0][3]\n",
    "        a_2[L_HWH > 0] = table_i_3[1][1]\n",
    "        a_2[L_HWH == 0] = table_i_3[1][3]\n",
    "        a_3[L_HWH > 0] = table_i_3[2][1]\n",
    "        a_3[L_HWH == 0] = table_i_3[2][3]\n",
    "        a_4[L_HWH > 0] = table_i_3[3][1]\n",
    "        a_4[L_HWH == 0] = table_i_3[3][3]\n",
    "    else:\n",
    "        raise ValueError(hybrid_category)\n",
    "    return a_1, a_2, a_3, a_4"
   ]
  },
  {
   "cell_type": "markdown",
   "metadata": {},
   "source": [
    "$$\\large\n",
    "C_{E,def,d} = \\left\\{ \\begin{array}{ll}\n",
    "    1.0 &(7 \\leq \\theta_{ex,Ave,d}の場合)\\\\ \n",
    "    1 + (7 - \\theta_{ex,Ave,d}) \\times 0.0091 &(\\theta_{ex,Ave,d} < 7の場合)\\\\ \n",
    "    \\end{array}\n",
    "\\right.\n",
    "$$"
   ]
  },
  {
   "cell_type": "markdown",
   "metadata": {},
   "source": [
    "$ C_{E,def,d} $：日付$d$における1 日当たりのデフロスト運転による消費電力量の補正係数(-) / Correction factor for energy consumption by daily defrost operation at date $ d $  \n",
    "$\\theta_{ex,Ave,d}$：日付$d$における日平均外気温度(℃) / Daily average outside temperature on date $ d $  "
   ]
  },
  {
   "cell_type": "code",
   "execution_count": null,
   "metadata": {},
   "outputs": [],
   "source": [
    "# 1日当たりのデフロスト運転による消費電力量の補正係数 (3)\n",
    "def get_C_E_def_d(Theta_ex_Ave_d):\n",
    "    C_E_def_d = np.ones(365)\n",
    "\n",
    "    f = Theta_ex_Ave_d < 7\n",
    "    C_E_def_d[f] = 1 + (7 - Theta_ex_Ave_d[f]) * 0.0091\n",
    "\n",
    "    return C_E_def_d"
   ]
  },
  {
   "cell_type": "markdown",
   "metadata": {},
   "source": [
    "### I.3 ガス消費量 / Gas consumption"
   ]
  },
  {
   "cell_type": "markdown",
   "metadata": {},
   "source": [
    "$L''_{k,d}+L''_{s,d}+L''_{w,d}+L''_{b2,d}+L''_{ba2,d} = 0 $の場合"
   ]
  },
  {
   "cell_type": "markdown",
   "metadata": {},
   "source": [
    "In the case of $L''_{k,d}+L''_{s,d}+L''_{w,d}+L''_{b2,d}+L''_{ba2,d} = 0 $"
   ]
  },
  {
   "cell_type": "markdown",
   "metadata": {},
   "source": [
    "$$\\large\n",
    "E_{G,hs,d,t} = E_{G,hs,d} \\div 24\n",
    "$$"
   ]
  },
  {
   "cell_type": "markdown",
   "metadata": {},
   "source": [
    "$L''_{k,d}+L''_{s,d}+L''_{w,d}+L''_{b2,d}+L''_{ba2,d} > 0$の場合"
   ]
  },
  {
   "cell_type": "markdown",
   "metadata": {},
   "source": [
    "In the case of $L''_{k,d}+L''_{s,d}+L''_{w,d}+L''_{b2,d}+L''_{ba2,d} > 0$"
   ]
  },
  {
   "cell_type": "markdown",
   "metadata": {},
   "source": [
    "$$\\large\n",
    "E_{G,hs,d,t} = E_{G,hs,d} \\times \\frac{L''_{k,d,t}+L''_{s,d,t}+L''_{w,d,t}+L''_{b2,d,t}+L''_{ba2,d,t}}{L''_{k,d}+L''_{s,d}+L''_{w,d}+L''_{b2,d}+L''_{ba2,d}}\n",
    "$$"
   ]
  },
  {
   "cell_type": "markdown",
   "metadata": {},
   "source": [
    "$E_{G,hs,d}$：日付$d$における1 日当たりの給湯機のガス消費量(MJ/d) / Daily water heater gas consumption per day $ d $  \n",
    "$E_{G,hs,d,t}$：日付$d$の時刻$t$における1時間当たりの給湯機のガス消費量(MJ/h) / Gas consumption of water heater per hour at time $ t $ on date $ d $  \n",
    "$ L''_{k,d} $：日付$d$における1 日当たりの台所水栓における太陽熱補正給湯熱負荷(MJ/d) / Solar heat correction hot water supply heat load on a kitchen faucet per day at date $ d $  \n",
    "$ L''_{s,d} $：日付$d$における1 日当たりの浴室シャワー水栓における太陽熱補正給湯熱負荷(MJ/d) / Solar heat correction hot water supply heat load at one day bathroom shower faucet at date $ d $  \n",
    "$ L''_{w,d} $：日付$d$における1 日当たりの洗面水栓における太陽熱補正給湯熱負荷(MJ/d) / Solar heat correction hot water supply heat load in a single day water faucet at date $ d $  \n",
    "$ L''_{b2,d} $：日付$d$における1 日当たりの浴槽自動湯はり時における太陽熱補正給湯熱負荷(MJ/d) / Solar heat correction hot water supply heat load at the time of one day bathtub automatic bath heating on date $ d $  \n",
    "$ L''_{ba2,d} $：日付$d$における1 日当たりの浴槽追焚時における太陽熱補正給湯熱負荷(MJ/d) / Solar heat correction hot water supply heat load at the time of one day bathtub remembrance at date $ d $  \n",
    "$ L''_{k,d,t} $：日付$d$の時刻$t$における 1時間当たりの台所水栓における太陽熱補正給湯熱負荷(MJ/h) / Solar heat correction hot water supply heat load on kitchen faucet per hour at time $ t $ on date $ d $  \n",
    "$ L''_{s,d,t} $：日付$d$の時刻$t$における 1時間当たりの浴室シャワー水栓における太陽熱補正給湯熱負荷(MJ/h) / Solar heat correction hot water supply heat load in bathroom shower faucet per hour at time $ t $ of date $ d $  \n",
    "$ L''_{w,d,t} $：日付$d$の時刻$t$における 1時間当たりの洗面水栓における太陽熱補正給湯熱負荷(MJ/h) / Solar heat correction hot water supply heat load in the faucet per hour at time $ t $ of date $ d $  \n",
    "$ L''_{b2,d,t} $：日付$d$の時刻$t$における 1時間当たりの浴槽自動湯はり時における太陽熱補正給湯熱負荷(MJ/h) / Solar heat correction hot water supply heat load during bathtub automatic water heating per hour at time $ t $ of date $ d $  \n",
    "$ L''_{ba2,d,t} $：日付$d$の時刻$t$における 1時間当たりの浴槽追焚時における太陽熱補正給湯熱負荷(MJ/h) / Solar heat correction hot water supply heat load at the time of tub recollection per hour at time $ t $ of date $ d $  \n"
   ]
  },
  {
   "cell_type": "code",
   "execution_count": null,
   "metadata": {},
   "outputs": [],
   "source": [
    "# 1時間当たりの給湯機のガス消費量 (4)\n",
    "def get_E_G_hs_d_t(L_HWH, hybrid_category, Theta_ex_Ave, L_dashdash_k_d_t, L_dashdash_s_d_t, L_dashdash_w_d_t, L_dashdash_b2_d_t,\n",
    "                   L_dashdash_ba2_d_t):\n",
    "    \"\"\"\n",
    "    :param L_HWH: 1日当たりの温水暖房の熱負荷 (MJ/d)\n",
    "    :param hybrid_category: 電気ヒートポンプ・ガス瞬間式併用型給湯温水暖房機の区分\n",
    "    :param Theta_ex_Nave: 夜間平均外気温 (℃)\n",
    "    :param L_dashdash_k_d_t: 1時間当たりの台所水栓における節湯補正給湯熱負荷 (MJ/hd)\n",
    "    :param L_dashdash_s_d_t: 1時間当たりの浴室シャワー水栓における節湯補正給湯熱負荷 (MJ/hd)\n",
    "    :param L_dashdash_w_d_t: 1時間当たりの洗面水栓における節湯補正給湯熱負荷 (MJ/h)\n",
    "    :param L_dashdash_b2_d_t: 1時間当たりの浴槽追焚時における節湯補正給湯熱負荷 (MJ/h)\n",
    "    :param L_dashdash_ba2_d_t: 1時間当たりの浴槽追焚時における節湯補正給湯熱負荷 (MJ/h)\n",
    "    :return: 1時間当たりの給湯機のガス消費量  (MJ/h)\n",
    "    \"\"\"\n",
    "\n",
    "    # 1日当たりの太陽熱補正給湯熱負荷\n",
    "    L_dashdash_k_d = get_L_dashdash_k_d(L_dashdash_k_d_t)\n",
    "    L_dashdash_s_d = get_L_dashdash_s_d(L_dashdash_s_d_t)\n",
    "    L_dashdash_w_d = get_L_dashdash_w_d(L_dashdash_w_d_t)\n",
    "    L_dashdash_b2_d = get_L_dashdash_b2_d(L_dashdash_b2_d_t)\n",
    "    L_dashdash_ba2_d = get_L_dashdash_ba2_d(L_dashdash_ba2_d_t)\n",
    "    \n",
    "    # 1日当たりの給湯機のガス消費量 (5)\n",
    "    E_G_hs_d = get_E_G_hs_d(L_HWH, hybrid_category, Theta_ex_Ave, L_dashdash_k_d, L_dashdash_s_d, L_dashdash_w_d, L_dashdash_b2_d,\n",
    "               L_dashdash_ba2_d)\n",
    "\n",
    "    # 1日当たりの太陽熱補正給湯熱負荷、給湯機のガス消費量の配列要素を1時間ごとに引き延ばす(合計値は24倍になることに注意)\n",
    "    E_G_hs_d = np.repeat(E_G_hs_d, 24)\n",
    "    L_dashdash_k_d = np.repeat(L_dashdash_k_d, 24)\n",
    "    L_dashdash_s_d = np.repeat(L_dashdash_s_d, 24)\n",
    "    L_dashdash_w_d = np.repeat(L_dashdash_w_d, 24)\n",
    "    L_dashdash_b2_d = np.repeat(L_dashdash_b2_d, 24)\n",
    "    L_dashdash_ba2_d = np.repeat(L_dashdash_ba2_d, 24)\n",
    "\n",
    "    E_G_hs_d_t = np.zeros(24 * 365)\n",
    "\n",
    "    # (4-1) 太陽熱補正給湯熱負荷が発生しない日 => 24時間で単純分割\n",
    "    f1 = (L_dashdash_k_d + L_dashdash_s_d + L_dashdash_w_d + L_dashdash_b2_d + L_dashdash_ba2_d == 0)\n",
    "    E_G_hs_d_t[f1] = E_G_hs_d[f1] / 24\n",
    "\n",
    "    # (4-2) 太陽熱補正給湯熱負荷が発生する日 => 負荷で按分\n",
    "    f2 = (L_dashdash_k_d + L_dashdash_s_d + L_dashdash_w_d + L_dashdash_b2_d + L_dashdash_ba2_d > 0)\n",
    "    E_G_hs_d_t[f2] = E_G_hs_d[f2] * (\n",
    "            L_dashdash_k_d_t[f2] + L_dashdash_s_d_t[f2] + L_dashdash_w_d_t[f2] + L_dashdash_b2_d_t[f2] +\n",
    "            L_dashdash_ba2_d_t[f2]) / (\n",
    "                             L_dashdash_k_d[f2] + L_dashdash_s_d[f2] + L_dashdash_w_d[f2] + L_dashdash_b2_d[f2] +\n",
    "                             L_dashdash_ba2_d[f2])\n",
    "\n",
    "    return E_G_hs_d_t"
   ]
  },
  {
   "cell_type": "markdown",
   "metadata": {},
   "source": [
    "$$\\large\n",
    "E_{G,hs,d} = \\bigg \\{ (b_{1} \\times \\theta_{ex,Ave,d} + b_{2} \\times (L''_{k,d}+L''_{s,d}+L''_{w,d}+L''_{b2,d}) + b_{3} \\times L_{HWH,d} + b_{4})\\\\\n",
    "\\large \\times C_{G,def,d} + \\frac{L''_{ba2,d}}{e_{ba2,d}} \\bigg \\}\n",
    "$$"
   ]
  },
  {
   "cell_type": "markdown",
   "metadata": {},
   "source": [
    "$E_{G,hs,d}$：日付$d$における1 日当たりの給湯機のガス消費量(MJ/d) / Daily water heater gas consumption per day $ d $  \n",
    "$ e_{ba2,d} $：日付$d$における浴槽追焚時における日平均給湯機効率(-) / Daily average water heater efficiency at the time of bathtub remembrance on date $ d $  \n",
    "$ L''_{k,d} $：日付$d$における1 日当たりの台所水栓における太陽熱補正給湯熱負荷(MJ/d) / Solar heat correction hot water supply heat load on a kitchen faucet per day at date $ d $  \n",
    "$ L''_{s,d} $：日付$d$における1 日当たりの浴室シャワー水栓における太陽熱補正給湯熱負荷(MJ/d) / Solar heat correction hot water supply heat load at one day bathroom shower faucet at date $ d $  \n",
    "$ L''_{w,d} $：日付$d$における1 日当たりの洗面水栓における太陽熱補正給湯熱負荷(MJ/d) / Solar heat correction hot water supply heat load in a single day water faucet at date $ d $  \n",
    "$ L''_{b2,d} $：日付$d$における1 日当たりの浴槽自動湯はり時における太陽熱補正給湯熱負荷(MJ/d) / Solar heat correction hot water supply heat load at the time of one day bathtub automatic bath heating on date $ d $  \n",
    "$ L''_{ba2,d} $：日付$d$における1 日当たりの浴槽追焚時における太陽熱補正給湯熱負荷(MJ/d) / Solar heat correction hot water supply heat load at the time of one day bathtub remembrance at date $ d $  \n",
    "$L_{HWH,d}$：日付$d$における1 日当たりの温水暖房の熱負荷(MJ/d) / Hot water heating heat load per day on date $ d $  \n",
    "$\\theta_{ex,Ave,d}$：日付$d$における日平均外気温度(℃) / Daily average outside temperature on date $ d $  \n",
    "$b_{1}, b_{2}, b_{3}, b_{4}$：係数(-) / coefficient  "
   ]
  },
  {
   "cell_type": "code",
   "execution_count": null,
   "metadata": {},
   "outputs": [],
   "source": [
    "# 1日当たりの給湯機のガス消費量 (5)\n",
    "def get_E_G_hs_d(L_HWH, hybrid_category, Theta_ex_Ave, L_dashdash_k_d, L_dashdash_s_d, L_dashdash_w_d, L_dashdash_b2_d,\n",
    "               L_dashdash_ba2_d):\n",
    "    \"\"\"\n",
    "    :param L_HWH: 1日当たりの温水暖房の熱負荷 (MJ/d)\n",
    "    :param hybrid_category: 電気ヒートポンプ・ガス瞬間式併用型給湯温水暖房機の区分\n",
    "    :param Theta_ex_Nave: 夜間平均外気温 (℃)\n",
    "    :param L_dashdash_k_d: 1日当たりの台所水栓における節湯補正給湯熱負荷 (MJ/d)\n",
    "    :param L_dashdash_s_d: 1日当たりの浴室シャワー水栓における節湯補正給湯熱負荷 (MJ/d)\n",
    "    :param L_dashdash_w_d: 1日当たりの洗面水栓における節湯補正給湯熱負荷 (MJ/d)\n",
    "    :param L_dashdash_b2_d: 1日当たりの浴槽追焚時における節湯補正給湯熱負荷 (MJ/d)\n",
    "    :param L_dashdash_ba2_d: 1日当たりの浴槽追焚時における節湯補正給湯熱負荷 (MJ/d)\n",
    "    :return: 1日当たりの給湯機のガス消費量  (MJ/d)\n",
    "    \"\"\"\n",
    "    # 係数\n",
    "    b_1, b_2, b_3, b_4 = get_coeff_b(L_HWH, hybrid_category)\n",
    "\n",
    "    # デフロスト係数\n",
    "    C_G_def_d = get_C_G_def_d(Theta_ex_Ave)\n",
    "\n",
    "    # 浴槽追焚時における日平均給湯機効率\n",
    "    e_ba2 = get_e_ba2_d(Theta_ex_Ave, L_dashdash_ba2_d)\n",
    "\n",
    "    return ((b_1 * Theta_ex_Ave + b_2 * (\n",
    "            L_dashdash_k_d + L_dashdash_s_d + L_dashdash_w_d + L_dashdash_b2_d) + b_3 * L_HWH + b_4) * C_G_def_d + (\n",
    "                    L_dashdash_ba2_d / e_ba2))"
   ]
  },
  {
   "cell_type": "markdown",
   "metadata": {},
   "source": [
    "1 日当たりの温水暖房の熱負荷$L_{HWH,d}$が0より大の場合は（い）欄の値を用いることとし、0に等しい場合は（ろ）欄の値を用いることとする。 "
   ]
  },
  {
   "cell_type": "markdown",
   "metadata": {},
   "source": [
    "If the heat load $ L_ {HWH, d} $ of hot water heating per day is larger than 0, use the value in the (i) column, and if it is equal to 0, use the value in the (lo) column ."
   ]
  },
  {
   "cell_type": "markdown",
   "metadata": {},
   "source": [
    "<div style=\"text-align: center;font-weight: bold;\">表　係数<br>Table: Coefficients</div>\n",
    "\n",
    "<table>\n",
    "<thead>\n",
    "<tr>\n",
    "<th rowspan=\"2\">係数<br>coefficient</th>\n",
    "<th colspan=\"2\" style=\"text-align:center;\">（い）1 日当たりの温水暖房の熱負荷$L_{HWH,d}$が<br>0 より大の場合<br>(I) When the heat load $ L_ {HWH, d} $ of hot water heating per day is greater than 0</th>\n",
    "<th colspan=\"2\" style=\"text-align:center;\">（ろ）1 日当たりの温水暖房の熱負荷$L_{HWH,d}$が<br>0 の場合<br>(Ro) When the heat load $ L_ {HWH, d} $ of 1 hot water heating per day is 0</th>\n",
    "</tr>\n",
    "<tr>\n",
    "<th>区分 1<br>Category 1</th>\n",
    "<th>区分 2<br>Category 2</th>\n",
    "<th>区分 1<br>Category 1</th>\n",
    "<th>区分 2<br>Category 2</th>\n",
    "</tr>\n",
    "</thead>\n",
    "\n",
    "<tbody>\n",
    "<tr>\n",
    "<th>$b_{1}$</th><td>-0.19841</td><td>-0.5782</td><td>-0.05770</td><td>0.14061</td>\n",
    "</tr>\n",
    "<tr>\n",
    "<th>$b_{2}$</th><td>1.10632 </td><td>0.75066</td><td>0.47525</td><td>0.3227</td>\n",
    "</tr>\n",
    "<tr>\n",
    "<th>$b_{3}$</th><td>0.19307</td><td>0.46244</td><td>0.0</td><td>0.0</td>\n",
    "</tr>\n",
    "<tr>\n",
    "<th>$b_{4}$</th><td>-10.36669</td><td>-12.55999</td><td>-6.34593</td><td>-13.43567</td>\n",
    "</tr>\n",
    "</tbody>\n",
    "</table>"
   ]
  },
  {
   "cell_type": "code",
   "execution_count": null,
   "metadata": {},
   "outputs": [],
   "source": [
    "# 係数b_1, b_2, b_3, b_4\n",
    "def get_coeff_b(L_HWH, hybrid_category):\n",
    "    # 表I.4 係数\n",
    "    table_i_4 = [\n",
    "        (-0.19841, -0.5782, -0.05770, 0.14061),\n",
    "        (1.10632, 0.75066, 0.47525, 0.3227),\n",
    "        (0.19307, 0.46244, 0.0, 0.0),\n",
    "        (-10.36669, -12.55999, -6.34593, -13.43567)\n",
    "    ]\n",
    "    b_1 = np.zeros(365)\n",
    "    b_2 = np.zeros(365)\n",
    "    b_3 = np.zeros(365)\n",
    "    b_4 = np.zeros(365)\n",
    "    if hybrid_category == '区分1':\n",
    "        b_1[L_HWH > 0] = table_i_4[0][0]\n",
    "        b_1[L_HWH == 0] = table_i_4[0][2]\n",
    "        b_2[L_HWH > 0] = table_i_4[1][0]\n",
    "        b_2[L_HWH == 0] = table_i_4[1][2]\n",
    "        b_3[L_HWH > 0] = table_i_4[2][0]\n",
    "        b_3[L_HWH == 0] = table_i_4[2][2]\n",
    "        b_4[L_HWH > 0] = table_i_4[3][0]\n",
    "        b_4[L_HWH == 0] = table_i_4[3][2]\n",
    "    elif hybrid_category == '区分2':\n",
    "        b_1[L_HWH > 0] = table_i_4[0][1]\n",
    "        b_1[L_HWH == 0] = table_i_4[0][3]\n",
    "        b_2[L_HWH > 0] = table_i_4[1][1]\n",
    "        b_2[L_HWH == 0] = table_i_4[1][3]\n",
    "        b_3[L_HWH > 0] = table_i_4[2][1]\n",
    "        b_3[L_HWH == 0] = table_i_4[2][3]\n",
    "        b_4[L_HWH > 0] = table_i_4[3][1]\n",
    "        b_4[L_HWH == 0] = table_i_4[3][3]\n",
    "    else:\n",
    "        raise ValueError(hybrid_category)\n",
    "    return b_1, b_2, b_3, b_4"
   ]
  },
  {
   "cell_type": "markdown",
   "metadata": {},
   "source": [
    "浴槽追焚時における日平均給湯機効率$e_{ba2,d}$は、1.0を超えない。"
   ]
  },
  {
   "cell_type": "markdown",
   "metadata": {},
   "source": [
    "The daily average water heater efficiency $ e_ {ba2, d} $ does not exceed 1.0 at the time of bathtub remembrance."
   ]
  },
  {
   "cell_type": "markdown",
   "metadata": {},
   "source": [
    "$$\\large\n",
    "e_{ba2,d} = c_{1} \\times \\theta_{ex,Ave,d} + c_{2} \\times L''_{ba2,d} + c_{3}\n",
    "$$"
   ]
  },
  {
   "cell_type": "markdown",
   "metadata": {},
   "source": [
    "$ e_{ba2,d} $：日付$d$における浴槽追焚時における日平均給湯機効率(-) / Daily average water heater efficiency at the time of bathtub remembrance on date $ d $  \n",
    "$ L''_{ba2,d} $：日付$d$における1 日当たりの浴槽追焚時における太陽熱補正給湯熱負荷(MJ/d) / Solar heat correction hot water supply heat load at the time of one day bathtub remembrance at date $ d $  \n",
    "$\\theta_{ex,Ave,d}$：日付$d$における日平均外気温度(℃) / Daily average outside temperature on date $ d $  \n",
    "$c_{1}, c_{2}, c_{3}$：係数(-) / coefficient  "
   ]
  },
  {
   "cell_type": "code",
   "execution_count": null,
   "metadata": {},
   "outputs": [],
   "source": [
    "# 浴槽追焚時における日平均給湯機効率 (6)\n",
    "def get_e_ba2_d(Theta_ex_Ave_d, L_dashdash_ba2_d):\n",
    "    # 係数\n",
    "    c_1, c_2, c_3 = get_coeff_c()\n",
    "\n",
    "    e_ba2_d = c_1 * Theta_ex_Ave_d + c_2 * L_dashdash_ba2_d + c_3\n",
    "\n",
    "    # 効率が1.0を超えない範囲で\n",
    "    e_ba2_d = np.clip(e_ba2_d, None, 1)\n",
    "\n",
    "    return e_ba2_d"
   ]
  },
  {
   "cell_type": "markdown",
   "metadata": {},
   "source": [
    "<div style=\"text-align: center;font-weight: bold;\">表　係数<br>Table: Coefficients</div>\n",
    "\n",
    "<table>\n",
    "<tr><th>係数<br></th><td>値<br>value</td></tr>\n",
    "<tr><th>$c_{1}$</th><td>0.0048</td></tr>\n",
    "<tr><th>$c_{2}$</th><td>0.0060</td></tr>\n",
    "<tr><th>$c_{3}$</th><td>0.7544</td></tr>\n",
    "</table>\n"
   ]
  },
  {
   "cell_type": "code",
   "execution_count": null,
   "metadata": {},
   "outputs": [],
   "source": [
    "def get_coeff_c():\n",
    "    # 表I.5 係数\n",
    "    table_i_5 = (0.0048, 0.0060, 0.7544)\n",
    "    return table_i_5"
   ]
  },
  {
   "cell_type": "markdown",
   "metadata": {},
   "source": [
    "$$\\large\n",
    "C_{G,def,d} = \\left\\{ \\begin{array}{ll}\n",
    "    1.0 &(7 \\leq \\theta_{ex,Ave,d}の場合)\\\\ \n",
    "    1 + (7 - \\theta_{ex,Ave,d}) \\times 0.0205 &(\\theta_{ex,Ave,d} < 7の場合)\\\\ \n",
    "    \\end{array}\n",
    "\\right.\n",
    "$$"
   ]
  },
  {
   "cell_type": "markdown",
   "metadata": {},
   "source": [
    "$ C_{G,def,d} $：日付$d$における1 日当たりのデフロスト運転によるガス消費量の補正係数(-) / Correction factor for gas consumption due to daily defrost operation at date $ d $  \n",
    "$\\theta_{ex,Ave,d}$：日付$d$における日平均外気温度(℃) / Daily average outside temperature on date $ d $  "
   ]
  },
  {
   "cell_type": "code",
   "execution_count": null,
   "metadata": {},
   "outputs": [],
   "source": [
    "# 1日当たりのデフロスト運転によるガス消費量の補正係数 (7)\n",
    "def get_C_G_def_d(Theta_ex_Ave_d):\n",
    "    C_G_def = np.ones(365)\n",
    "\n",
    "    f = Theta_ex_Ave_d < 7\n",
    "    C_G_def[f] = 1 + (7 - Theta_ex_Ave_d[f]) * 0.0205\n",
    "\n",
    "    return C_G_def"
   ]
  },
  {
   "cell_type": "markdown",
   "metadata": {},
   "source": [
    "### I.4 灯油消費量 /  Kerosene consumption"
   ]
  },
  {
   "cell_type": "markdown",
   "metadata": {},
   "source": [
    "日付$d$の時刻$t$における1時間当たりの給湯機の灯油消費量$E_{K,hs,d,t}$は0とする。"
   ]
  },
  {
   "cell_type": "markdown",
   "metadata": {},
   "source": [
    "The kerosene consumption $ E_ {K, hs, d, t} $ of the water heater per hour at the time $ t $ of the date $ d $ is 0."
   ]
  },
  {
   "cell_type": "code",
   "execution_count": null,
   "metadata": {},
   "outputs": [],
   "source": [
    "# 1時間当たりの給湯機の灯油消費量\n",
    "def get_E_K_hs_d_t():\n",
    "    # 1日当たりの給湯機の灯油消費量は0とする\n",
    "    return np.zeros(24*365)"
   ]
  },
  {
   "cell_type": "markdown",
   "metadata": {},
   "source": [
    "### I.5 １日当たりの太陽熱補正給湯熱負荷 /  Solar heat correction hot water supply heat load per day"
   ]
  },
  {
   "cell_type": "markdown",
   "metadata": {},
   "source": [
    "$$\\large\n",
    "\\displaystyle\n",
    "L''_{k,d} = \\sum_{t=0}^{23} L''_{k,d,t}\n",
    "$$\n",
    "\n",
    "$$\\large\n",
    "\\displaystyle\n",
    "L''_{s,d} = \\sum_{t=0}^{23} L''_{s,d,t}\n",
    "$$\n",
    "\n",
    "$$\\large\n",
    "\\displaystyle\n",
    "L''_{w,d} = \\sum_{t=0}^{23} L''_{w,d,t}\n",
    "$$\n",
    "\n",
    "$$\\large\n",
    "\\displaystyle\n",
    "L''_{b1,d} = \\sum_{t=0}^{23} L''_{b1,d,t}\n",
    "$$\n",
    "\n",
    "$$\\large\n",
    "\\displaystyle\n",
    "L''_{b2,d} = \\sum_{t=0}^{23} L''_{b2,d,t}\n",
    "$$\n",
    "\n",
    "$$\\large\n",
    "\\displaystyle\n",
    "L''_{ba1,d} = \\sum_{t=0}^{23} L''_{ba1,d,t}\n",
    "$$\n",
    "\n",
    "$$\\large\n",
    "\\displaystyle\n",
    "L''_{ba2,d} = \\sum_{t=0}^{23} L''_{ba2,d,t}\n",
    "$$\n"
   ]
  },
  {
   "cell_type": "markdown",
   "metadata": {},
   "source": [
    "$ L''_{k,d} $：日付$d$における1 日当たりの台所水栓における太陽熱補正給湯熱負荷(MJ/d) / Solar heat correction hot water supply heat load on a kitchen faucet per day at date $ d $  \n",
    "$ L''_{s,d} $：日付$d$における1 日当たりの浴室シャワー水栓における太陽熱補正給湯熱負荷(MJ/d) / Solar heat correction hot water supply heat load at one day bathroom shower faucet at date $ d $  \n",
    "$ L''_{w,d} $：日付$d$における1 日当たりの洗面水栓における太陽熱補正給湯熱負荷(MJ/d) / Solar heat correction hot water supply heat load in a single day water faucet at date $ d $  \n",
    "$ L''_{b1,d} $：日付$d$における1 日当たりの浴槽水栓湯はり時における太陽熱補正給湯熱負荷(MJ/d) / Solar heat correction hot water supply heat load at the time of one day bathtub faucet hot water at date $ d $  \n",
    "$ L''_{b2,d} $：日付$d$における1 日当たりの浴槽自動湯はり時における太陽熱補正給湯熱負荷(MJ/d) / Solar heat correction hot water supply heat load at the time of one day bathtub automatic bath heating on date $ d $  \n",
    "$ L''_{ba1,d} $：日付$d$における1 日当たりの浴槽水栓さし湯時における太陽熱補正給湯熱負荷(MJ/d) / Solar heat correction hot water supply heat load at the time of one day bathtub bathtub faucet at date $ d $  \n",
    "$ L''_{ba2,d} $：日付$d$における1 日当たりの浴槽追焚時における太陽熱補正給湯熱負荷(MJ/d) / Solar heat correction hot water supply heat load at the time of one day bathtub remembrance at date $ d $  \n",
    "$ L''_{k,d,t} $：日付$d$の時刻$t$における 1時間当たりの台所水栓における太陽熱補正給湯熱負荷(MJ/h) / Solar heat correction hot water supply heat load on kitchen faucet per hour at time $ t $ on date $ d $  \n",
    "$ L''_{s,d,t} $：日付$d$の時刻$t$における 1時間当たりの浴室シャワー水栓における太陽熱補正給湯熱負荷(MJ/h) / Solar heat correction hot water supply heat load in bathroom shower faucet per hour at time $ t $ of date $ d $  \n",
    "$ L''_{w,d,t} $：日付$d$の時刻$t$における 1時間当たりの洗面水栓における太陽熱補正給湯熱負荷(MJ/h) / Solar heat correction hot water supply heat load in the faucet per hour at time $ t $ of date $ d $  \n",
    "$ L''_{b1,d,t} $：日付$d$の時刻$t$における 1時間当たりの浴槽水栓湯はり時における太陽熱補正給湯熱負荷(MJ/h) / Solar heat correction hot water supply heat load at the time of bathtub faucet bathing per hour at time $ t $ of date $ d $   \n",
    "$ L''_{b2,d,t} $：日付$d$の時刻$t$における 1時間当たりの浴槽自動湯はり時における太陽熱補正給湯熱負荷(MJ/h) / Solar heat correction hot water supply heat load during bathtub automatic water heating per hour at time $ t $ of date $ d $  \n",
    "$ L''_{ba1,d,t} $：日付$d$の時刻$t$における 1時間当たりの浴槽水栓さし湯時における太陽熱補正給湯熱負荷(MJ/h) / Solar heat correction hot water supply heat load at the time of bathtub faucet breaking water per hour at time $ t $ of date $ d $  \n",
    "$ L''_{ba2,d,t} $：日付$d$の時刻$t$における 1時間当たりの浴槽追焚時における太陽熱補正給湯熱負荷(MJ/h) / Solar heat correction hot water supply heat load at the time of tub recollection per hour at time $ t $ of date $ d $  \n"
   ]
  },
  {
   "cell_type": "code",
   "execution_count": null,
   "metadata": {},
   "outputs": [],
   "source": [
    "# 1日当たりの台所水栓における太陽熱補正給湯熱負荷 (MJ/d)\n",
    "def get_L_dashdash_k_d(L_dashdash_k_d_t):\n",
    "    \"\"\"\n",
    "    :param L_dashdash_k_d_t: 1時間当たりの台所水栓における太陽熱補正給湯熱負荷 (MJ/h)\n",
    "    :return: 1日当たりの台所水栓における太陽熱補正給湯熱負荷 (MJ/d)\n",
    "    \"\"\"\n",
    "    return np.sum(L_dashdash_k_d_t.reshape((365, 24)), axis=1)\n",
    "\n",
    "\n",
    "# 1日当たりの浴室シャワー水栓における太陽熱補正給湯負荷 (MJ/d)\n",
    "def get_L_dashdash_s_d(L_dashdash_s_d_t):\n",
    "    \"\"\"\n",
    "    :param L_dashdash_s_d_t: 1時間当たりの浴室シャワー水栓における太陽熱補正給湯負荷 (MJ/h)\n",
    "    :return: 1日当たりの浴室シャワー水栓における太陽熱補正給湯負荷 (MJ/d)\n",
    "    \"\"\"\n",
    "    return np.sum(L_dashdash_s_d_t.reshape((365, 24)), axis=1)\n",
    "\n",
    "\n",
    "# 1日当たりの洗面水栓における太陽熱補正給湯負荷 (MJ/d)\n",
    "def get_L_dashdash_w_d(L_dashdash_w_d_t):\n",
    "    \"\"\"\n",
    "    :param L_dashdash_w_d_t: 1時間当たりの洗面水栓における太陽熱補正給湯負荷 (MJ/h)\n",
    "    :return: 1日当たりの洗面水栓における太陽熱補正給湯負荷 (MJ/d)\n",
    "    \"\"\"\n",
    "    return np.sum(L_dashdash_w_d_t.reshape((365, 24)), axis=1)\n",
    "\n",
    "\n",
    "# 1日当たりの浴槽水栓湯はり時における太陽熱補正給湯負荷 (MJ/d)\n",
    "def get_L_dashdash_b1_d(L_dashdash_b1_d_t):\n",
    "    \"\"\"\n",
    "    :param L_dashdash_b1_d_t: 1時間当たりの浴槽水栓湯はり時における太陽熱補正給湯負荷 (MJ/h)\n",
    "    :return: 1日当たりの浴槽水栓湯はり時における太陽熱補正給湯負荷 (MJ/d)\n",
    "    \"\"\"\n",
    "    return np.sum(L_dashdash_b1_d_t.reshape((365, 24)), axis=1)\n",
    "\n",
    "\n",
    "# 1日当たりの浴槽自動湯はり時における太陽熱補正給湯負荷 (MJ/d)\n",
    "def get_L_dashdash_b2_d(L_dashdash_b2_d_t):\n",
    "    \"\"\"\n",
    "    :param L_dashdash_b2_d_t: 1時間当たりの浴槽自動湯はり時における太陽熱補正給湯負荷 (MJ/h)\n",
    "    :return: 1日当たりの浴槽自動湯はり時における太陽熱補正給湯負荷 (MJ/d)\n",
    "    \"\"\"\n",
    "    return np.sum(L_dashdash_b2_d_t.reshape((365, 24)), axis=1)\n",
    "\n",
    "\n",
    "# 1日当たりの浴槽水栓さし湯時における太陽熱補正給湯負荷 (MJ/d)\n",
    "def get_L_dashdash_ba1_d(L_dashdash_ba1_d_t):\n",
    "    \"\"\"\n",
    "    :param L_dashdash_ba1_d_t: 1時間当たりの浴槽水栓さし湯時における太陽熱補正給湯負荷 (MJ/h)\n",
    "    :return: 1日当たりの浴槽水栓さし湯時における太陽熱補正給湯負荷 (MJ/d)\n",
    "    \"\"\"\n",
    "    return np.sum(L_dashdash_ba1_d_t.reshape((365, 24)), axis=1)\n",
    "\n",
    "\n",
    "# 1日当たりの浴槽追焚時における太陽熱補正給湯負荷 (MJ/d)\n",
    "def get_L_dashdash_ba2_d(L_dashdash_ba2_d_t):\n",
    "    \"\"\"\n",
    "    :param L_dashdash_ba2_d_t: 1時間当たりの浴槽追焚時における太陽熱補正給湯負荷 (MJ/h)\n",
    "    :return: 1日当たりの浴槽追焚時における太陽熱補正給湯負荷 (MJ/d)\n",
    "    \"\"\"\n",
    "    return np.sum(L_dashdash_ba2_d_t.reshape((365, 24)), axis=1)"
   ]
  },
  {
   "cell_type": "markdown",
   "metadata": {},
   "source": [
    "### I.6１日当たりの温水暖房の熱負荷 / Heat load of hot water heating per day"
   ]
  },
  {
   "cell_type": "markdown",
   "metadata": {},
   "source": [
    "$$\\large\n",
    "\\displaystyle\n",
    "L_{HWH,d} = \\sum_{t=0}^{23} L_{HWH,d,t}\n",
    "$$\n"
   ]
  },
  {
   "cell_type": "markdown",
   "metadata": {},
   "source": [
    "$ L_{HWH,d} $：日付$d$における1 日当たりの温水暖房の熱負荷(MJ/d) / Hot water heating heat load per day on date $ d $  \n",
    "$ L_{HWH,d,t} $：日付$d$の時刻$t$における 1時間当たりの温水暖房の熱負荷(MJ/h) / Hot water heating heat load per hour at time $ t $ on date $ d $  \n"
   ]
  },
  {
   "cell_type": "code",
   "execution_count": null,
   "metadata": {},
   "outputs": [],
   "source": [
    "# 1日当たりの温水暖房の熱負荷 (MJ/d) (9)\n",
    "def get_L_HWH_d(L_HWH_d_t):\n",
    "    \"\"\"\n",
    "    :param L_HWH_d_t: 1時間当たりの温水暖房の熱負荷 (MJ/d)\n",
    "    :return: 1日当たりの温水暖房の熱負荷 (MJ/d)\n",
    "    \"\"\"\n",
    "    # 8760時間の一次配列を365*24の二次配列へ再配置させる\n",
    "    tmp = L_HWH_d_t.reshape(365, 24)\n",
    "\n",
    "    # 二次元目を加算することで二次元目を消滅させる\n",
    "    L_HWH_d = np.sum(tmp, axis=1)\n",
    "\n",
    "    return L_HWH_d"
   ]
  },
  {
   "cell_type": "markdown",
   "metadata": {},
   "source": [
    "### I.7 温水暖房における熱源機の往き温水温度の候補 / A candidate for the hot water temperature of the heat source machine in hot water heating"
   ]
  },
  {
   "cell_type": "markdown",
   "metadata": {},
   "source": [
    "温水暖房における熱源機の往き温水温度の候補は、60℃及び40℃とする。"
   ]
  },
  {
   "cell_type": "markdown",
   "metadata": {},
   "source": [
    "The candidates for the hot water temperature of the heat source machine in hot water heating are 60 ° C. and 40 ° C."
   ]
  },
  {
   "cell_type": "code",
   "execution_count": null,
   "metadata": {},
   "outputs": [],
   "source": [
    "# 温水暖房における熱源機の往き温水温度の候補\n",
    "def get_hotwater_temp_list():\n",
    "    return [60, 40]"
   ]
  },
  {
   "cell_type": "markdown",
   "metadata": {},
   "source": [
    "### I.8 電気ヒートポンプ・ガス瞬間式併用型給湯機（給湯熱源：電気ヒートポンプ・ガス瞬間式併用、暖房熱源：電気ヒートポンプ・ガス瞬間式併用）の定義 / Definition of electric heat pump gas instantaneous type combined water heater (hot water supply heat source: electric heat pump gas instantaneous type combined, heating heat source electric heat pump gas instantaneous type combined)"
   ]
  },
  {
   "cell_type": "markdown",
   "metadata": {},
   "source": [
    "省略"
   ]
  },
  {
   "cell_type": "markdown",
   "metadata": {},
   "source": [
    "Omission"
   ]
  }
 ],
 "metadata": {
  "kernelspec": {
   "display_name": "Python 3",
   "language": "python",
   "name": "python3"
  },
  "language_info": {
   "codemirror_mode": {
    "name": "ipython",
    "version": 3
   },
   "file_extension": ".py",
   "mimetype": "text/x-python",
   "name": "python",
   "nbconvert_exporter": "python",
   "pygments_lexer": "ipython3",
   "version": "3.6.7"
  }
 },
 "nbformat": 4,
 "nbformat_minor": 2
}
