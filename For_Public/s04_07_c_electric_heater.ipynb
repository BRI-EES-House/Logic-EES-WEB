{
 "cells": [
  {
   "cell_type": "markdown",
   "metadata": {},
   "source": [
    "### 付録C　電気ヒーター温水暖房機及び電気ヒーター給湯温水暖房機"
   ]
  },
  {
   "cell_type": "markdown",
   "metadata": {},
   "source": [
    "#### C.1 記号及び単位"
   ]
  },
  {
   "cell_type": "markdown",
   "metadata": {},
   "source": [
    "省略"
   ]
  },
  {
   "cell_type": "markdown",
   "metadata": {},
   "source": [
    "#### C.2 エネルギー消費量"
   ]
  },
  {
   "cell_type": "markdown",
   "metadata": {},
   "source": [
    "#### C.2.1 消費電力量"
   ]
  },
  {
   "cell_type": "markdown",
   "metadata": {},
   "source": [
    "$$\\large\n",
    "E_{E,hs} = E_{E,hs,htr} + E_{E,hs,pmp}\n",
    "$$"
   ]
  },
  {
   "cell_type": "markdown",
   "metadata": {},
   "source": [
    "$E_{E,hs}$：1 時間当たりの温水暖房用熱源機の消費電力量(kWh/h)  \n",
    "$E_{E,hs,htr}$：1 時間当たりの温水暖房用熱源機の電気ヒーターの消費電力量(kWh/h)  \n",
    "$E_{E,hs,pmp}$：1 時間当たりの温水暖房用熱源機の送水ポンプの消費電力量(kWh/h)  "
   ]
  },
  {
   "cell_type": "markdown",
   "metadata": {},
   "source": [
    "$$\\large\n",
    "E_{E,hs,htr} = Q_{out,H,hs} \\times 10^{3} \\div 3600\n",
    "$$"
   ]
  },
  {
   "cell_type": "markdown",
   "metadata": {},
   "source": [
    "$Q_{out,H,hs}$：1 時間当たりの温水暖房用熱源機の暖房出力(MJ/h)  "
   ]
  },
  {
   "cell_type": "markdown",
   "metadata": {},
   "source": [
    "$$\\large\n",
    "E_{E,hs,pmp} = P_{hs,pmp} \\times r_{WS,hs} \\times 10^{-3}\n",
    "$$"
   ]
  },
  {
   "cell_type": "markdown",
   "metadata": {},
   "source": [
    "$P_{hs,pmp}$：温水暖房用熱源機の送水ポンプの消費電力(W)  \n",
    "$r_{WS,hs}$：1 時間平均の温水暖房用熱源機の温水供給運転率"
   ]
  },
  {
   "cell_type": "markdown",
   "metadata": {},
   "source": [
    "温水暖房用熱源機の送水ポンプの消費電力$P_{hs,pmp}$は、90(W)とする。 "
   ]
  },
  {
   "cell_type": "markdown",
   "metadata": {},
   "source": [
    "#### C.2.2 ガス消費量"
   ]
  },
  {
   "cell_type": "markdown",
   "metadata": {},
   "source": [
    "1 時間当たりの温水暖房用熱源機のガス消費量$E_{G,hs}$は0とする。 "
   ]
  },
  {
   "cell_type": "markdown",
   "metadata": {},
   "source": [
    "#### C.2.3 灯油消費量"
   ]
  },
  {
   "cell_type": "markdown",
   "metadata": {},
   "source": [
    "1 時間当たりの温水暖房用熱源機の灯油消費量$E_{K,hs}$は0とする。 "
   ]
  },
  {
   "cell_type": "markdown",
   "metadata": {},
   "source": [
    "#### C.2.4 その他の一次エネルギー消費量"
   ]
  },
  {
   "cell_type": "markdown",
   "metadata": {},
   "source": [
    "1 時間当たりの温水暖房用熱源機のその他の一次エネルギー消費量$E_{M,hs}$は0とする。 "
   ]
  },
  {
   "cell_type": "markdown",
   "metadata": {},
   "source": [
    "#### C.3 最大暖房出力"
   ]
  },
  {
   "cell_type": "markdown",
   "metadata": {},
   "source": [
    "$$\\large\n",
    "Q_{max,H,hs} = q_{rtd,hs} \\times 3600 \\div 10^{6} \n",
    "$$"
   ]
  }
 ],
 "metadata": {
  "kernelspec": {
   "display_name": "Python 3",
   "language": "python",
   "name": "python3"
  },
  "language_info": {
   "codemirror_mode": {
    "name": "ipython",
    "version": 3
   },
   "file_extension": ".py",
   "mimetype": "text/x-python",
   "name": "python",
   "nbconvert_exporter": "python",
   "pygments_lexer": "ipython3",
   "version": "3.6.7"
  }
 },
 "nbformat": 4,
 "nbformat_minor": 2
}
