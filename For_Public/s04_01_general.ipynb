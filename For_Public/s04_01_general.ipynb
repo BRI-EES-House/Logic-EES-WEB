{
 "cells": [
  {
   "cell_type": "markdown",
   "metadata": {},
   "source": [
    "# 第四章　暖冷房設備"
   ]
  },
  {
   "cell_type": "markdown",
   "metadata": {},
   "source": [
    "## 第一節　全般"
   ]
  },
  {
   "cell_type": "markdown",
   "metadata": {},
   "source": [
    "1．適用範囲～4．記号及び単位は省略"
   ]
  },
  {
   "cell_type": "markdown",
   "metadata": {},
   "source": [
    "### 5．暖房方式及び冷房方式"
   ]
  },
  {
   "cell_type": "markdown",
   "metadata": {},
   "source": [
    "省略"
   ]
  },
  {
   "cell_type": "markdown",
   "metadata": {},
   "source": [
    "### 6．暖房設備の一次エネルギー消費量及び処理負荷と未処理負荷"
   ]
  },
  {
   "cell_type": "markdown",
   "metadata": {},
   "source": [
    "#### 6.1 処理負荷及び未処理負荷"
   ]
  },
  {
   "cell_type": "markdown",
   "metadata": {},
   "source": [
    "#### 6.1.1 住戸全体を連続的に暖房する方式"
   ]
  },
  {
   "cell_type": "markdown",
   "metadata": {},
   "source": [
    "$$\n",
    "\\large\n",
    "Q_{T,H,A,d,t} = min(Q_{max,H,d,t}, L_{H,A,d,t})\n",
    "$$\n",
    "\n",
    "$$\n",
    "\\large\n",
    "Q_{UT,H,A,d,t} = L_{H,A,d,t} - Q_{T,H,A,d,t}\n",
    "$$"
   ]
  },
  {
   "cell_type": "markdown",
   "metadata": {},
   "source": [
    "$Q_{T,H,A,d,t}$：住戸全体を連続的に暖房する方式における日付$d$の時刻$t$における1時間当たりの暖房設備の処理暖房負荷(MJ/h)  \n",
    "$Q_{UT,H,A,d,t}$：住戸全体を連続的に暖房する方式における日付$d$の時刻$t$における1時間当たりの暖房設備の未処理暖房負荷(MJ/h)  \n",
    "$Q_{max,H,d,t}$：日付$d$の時刻$t$における1時間当たりの暖房設備機器の最大暖房出力(MJ/h)  \n",
    "$L_{H,A,d,t}$：住戸全体を連続的に暖房する方式における日付$d$の時刻$t$における1時間当たりの暖房負荷の合計(MJ/h)  "
   ]
  },
  {
   "cell_type": "markdown",
   "metadata": {},
   "source": [
    "$L_{H,A,d,t}$が0未満の場合は0とする。 "
   ]
  },
  {
   "cell_type": "markdown",
   "metadata": {},
   "source": [
    "$$\n",
    "\\large\n",
    "L_{H,A,d,t} = \\sum_{i=1～12}L_{H,d,t,i} \n",
    "$$"
   ]
  },
  {
   "cell_type": "markdown",
   "metadata": {},
   "source": [
    "#### 6.1.2 居室のみを暖房する方式"
   ]
  },
  {
   "cell_type": "markdown",
   "metadata": {},
   "source": [
    "$$\n",
    "\\large\n",
    "Q_{T,H,MR,d,t} = Q_{T,H,d,t,i}|_{i=1}\n",
    "$$\n",
    "\n",
    "$$\n",
    "\\large\n",
    "Q_{UT,H,MR,d,t} = Q_{UT,H,d,t,i}|_{i=1}\n",
    "$$"
   ]
  },
  {
   "cell_type": "markdown",
   "metadata": {},
   "source": [
    "$Q_{T,H,MR,d,t}$：居室のみを暖房する方式における日付$d$の時刻$t$における1時間当たりの主たる居室に設置された暖房設備の処理暖房負荷(MJ/h)  \n",
    "$Q_{UT,H,MR,d,t}$：居室のみを暖房する方式における日付$d$の時刻$t$における1時間当たりの主たる居室に設置された暖房設備の未処理暖房負荷(MJ/h)  \n",
    "$Q_{T,H,d,t,i}$：日付$d$の時刻$t$における1時間当たりの暖冷房区画𝑖に設置された暖房設備機器等の処理暖房負荷(MJ/h)  \n",
    "$Q_{UT,H,d,t,i}$：日付$d$の時刻$t$における1時間当たりの暖冷房区画𝑖に設置された暖房設備機器等の未処理暖房負荷(MJ/h)  "
   ]
  },
  {
   "cell_type": "markdown",
   "metadata": {},
   "source": [
    "$$\n",
    "\\large\n",
    "Q_{T,H,OR,d,t} = \\sum_{i=2～5} Q_{T,H,d,t,i} \n",
    "$$\n",
    "\n",
    "$$\n",
    "\\large\n",
    "Q_{UT,H,OR,d,t} = \\sum_{i=2～5} Q_{UT,H,d,t,i} \n",
    "$$"
   ]
  },
  {
   "cell_type": "markdown",
   "metadata": {},
   "source": [
    "$Q_{T,H,OR,d,t}$：居室のみを暖房する方式における日付$d$の時刻$t$における1時間当たりのその他の居室に設置された暖房設備の処理暖房負荷(MJ/h)  \n",
    "$Q_{UT,H,OR,d,t}$：居室のみを暖房する方式における日付$d$の時刻$t$における1時間当たりのその他の居室に設置された暖房設備の未処理暖房負荷(MJ/h)  "
   ]
  },
  {
   "cell_type": "markdown",
   "metadata": {},
   "source": [
    "$$\n",
    "\\large\n",
    "Q_{T,H,d,t,i} = min(Q_{max,H,d,t,i}, L_{H,d,t,i})\n",
    "$$\n",
    "\n",
    "$$\n",
    "\\large\n",
    "Q_{UT,H,d,t,i} = L_{H,d,t,i} - Q_{T,H,d,t,i}\n",
    "$$"
   ]
  },
  {
   "cell_type": "markdown",
   "metadata": {},
   "source": [
    "$Q_{max,H,d,t,i}$：日付$d$の時刻$t$における1時間当たりの暖冷房区画$i$に設置された暖房設備機器等の最大暖房出力(MJ/h)  \n",
    "$L_{H,d,t,i}$：日付$d$の時刻$t$における暖冷房区画$i$の1時間当たりの暖房負荷(MJ/h)  "
   ]
  },
  {
   "cell_type": "markdown",
   "metadata": {},
   "source": [
    "$L_{H,d,t,i}$が0未満の場合は0とする。 "
   ]
  },
  {
   "cell_type": "markdown",
   "metadata": {},
   "source": [
    "#### 6.2 暖房設備のエネルギー消費量"
   ]
  },
  {
   "cell_type": "markdown",
   "metadata": {},
   "source": [
    "$$\n",
    "\\large\n",
    "E_{E,H,d,t} = E_{E,H,hs,d,t} + E_{E,H,aux,ass,d,t}\n",
    "$$\n",
    "\n",
    "$$\n",
    "\\large\n",
    "E_{G,H,d,t} = E_{G,H,hs,d,t}\n",
    "$$\n",
    "\n",
    "$$\n",
    "\\large\n",
    "E_{K,H,d,t} = E_{K,H,hs,d,t}\n",
    "$$\n",
    "\n",
    "$$\n",
    "\\large\n",
    "E_{M,H,d,t} = E_{M,H,hs,d,t}\n",
    "$$"
   ]
  },
  {
   "cell_type": "markdown",
   "metadata": {},
   "source": [
    "$E_{E,H,d,t}$：日付$d$の時刻$t$における1時間当たりの暖房設備の消費電力量(kWh/h)  \n",
    "$E_{G,H,d,t}$：日付$d$の時刻$t$における1時間当たりの暖房設備のガス消費量(MJ/h)  \n",
    "$E_{K,H,d,t}$：日付$d$の時刻$t$における1時間当たりの暖房設備の灯油消費量(MJ/h)  \n",
    "$E_{M,H,d,t}$：日付$d$の時刻$t$における1時間当たりの暖房設備のその他の燃料による一次エネルギー消費量(MJ/h)  \n",
    "$E_{E,H,hs,d,t}$：日付$d$の時刻$t$における1時間当たりの暖房設備機器等の消費電力量(kWh/h)  \n",
    "$E_{G,H,hs,d,t}$：日付$d$の時刻$t$における1時間当たりの暖房設備機器等のガス消費量(MJ/h)  \n",
    "$E_{K,H,hs,d,t}$：日付$d$の時刻$t$における1時間当たりの暖房設備機器等の灯油消費量(MJ/h)  \n",
    "$E_{M,H,hs,d,t}$：日付$d$の時刻$t$における1時間当たりの暖房設備機器等のその他の燃料による一次エネルギー消費量(MJ/h)  \n",
    "$E_{E,H,aux,ass,d,t}$：日付$d$の時刻$t$における1時間当たりの空気集熱式太陽熱利用設備の補機の消費電力量のうちの暖房設備への付加分(kWh/h)  "
   ]
  },
  {
   "cell_type": "markdown",
   "metadata": {},
   "source": [
    "日付$d$の時刻$t$における1 時間当たりの空気集熱式太陽熱利用設備の補機の消費電力量のうちの暖房設備への付加分$E_{E,H,aux,ass,d,t}$は、空気集熱式太陽熱利用設備を採用しない場合はゼロとする。"
   ]
  },
  {
   "cell_type": "markdown",
   "metadata": {},
   "source": [
    "#### 6.3 暖房設備機器のエネルギー消費量 "
   ]
  },
  {
   "cell_type": "markdown",
   "metadata": {},
   "source": [
    "#### 6.3.1 住戸全体を連続的に暖房する方式"
   ]
  },
  {
   "cell_type": "markdown",
   "metadata": {},
   "source": [
    "$$\n",
    "\\large\n",
    "E_{E,H,hs,d,t} = E_{E,H,hs,A,d,t}\n",
    "$$\n",
    "\n",
    "$$\n",
    "\\large\n",
    "E_{G,H,hs,d,t} = E_{G,H,hs,A,d,t}\n",
    "$$\n",
    "\n",
    "$$\n",
    "\\large\n",
    "E_{K,H,hs,d,t} = E_{K,H,hs,A,d,t}\n",
    "$$\n",
    "\n",
    "$$\n",
    "\\large\n",
    "E_{M,H,hs,d,t} = E_{M,H,hs,A,d,t}\n",
    "$$"
   ]
  },
  {
   "cell_type": "markdown",
   "metadata": {},
   "source": [
    "$E_{E,H,hs,d,t}$：日付$d$の時刻$t$における1時間当たりの暖房設備機器の消費電力量(kWh/h)  \n",
    "$E_{G,H,hs,d,t}$：日付$d$の時刻$t$における1時間当たりの暖房設備機器のガス消費量(MJ/h)  \n",
    "$E_{K,H,hs,d,t}$：日付$d$の時刻$t$における1時間当たりの暖房設備機器の灯油消費量(MJ/h)  \n",
    "$E_{M,H,hs,d,t}$：日付$d$の時刻$t$における1時間当たりの暖房設備機器のその他の燃料による一次エネルギー消費量(MJ/h)  \n",
    "$E_{E,H,hs,A,d,t}$：住戸全体を連続的に暖房する方式における日付$d$の時刻$t$における1時間当たりの暖房設備機器の消費電力量(kWh/h)  \n",
    "$E_{G,H,hs,A,d,t}$：住戸全体を連続的に暖房する方式における日付$d$の時刻$t$における1時間当たりの暖房設備機器のガス消費量(MJ/h)  \n",
    "$E_{K,H,hs,A,d,t}$：住戸全体を連続的に暖房する方式における日付$d$の時刻$t$における1時間当たりの暖房設備機器の灯油消費量(MJ/h)  \n",
    "$E_{M,H,hs,A,d,t}$：住戸全体を連続的に暖房する方式における日付$d$の時刻$t$における1時間当たりの暖房設備機器のその他の燃料による一次エネルギー消費量(MJ/h)  "
   ]
  },
  {
   "cell_type": "markdown",
   "metadata": {},
   "source": [
    "#### 6.3.2 居室のみを暖房する方式でかつ主たる居室とその他の居室ともに温水暖房を設置する場合"
   ]
  },
  {
   "cell_type": "markdown",
   "metadata": {},
   "source": [
    "$$\n",
    "\\large\n",
    "E_{E,H,hs,d,t} = E_{E,H,hs,MROR,d,t}\n",
    "$$\n",
    "\n",
    "$$\n",
    "\\large\n",
    "E_{G,H,hs,d,t} = E_{G,H,hs,MROR,d,t}\n",
    "$$\n",
    "\n",
    "$$\n",
    "\\large\n",
    "E_{K,H,hs,d,t} = E_{K,H,hs,MROR,d,t}\n",
    "$$\n",
    "\n",
    "$$\n",
    "\\large\n",
    "E_{M,H,hs,d,t} = E_{M,H,hs,MROR,d,t}\n",
    "$$"
   ]
  },
  {
   "cell_type": "markdown",
   "metadata": {},
   "source": [
    "$E_{E,H,hs,d,t}$：日付$d$の時刻$t$における1時間当たりの暖房設備機器の消費電力量(kWh/h)  \n",
    "$E_{G,H,hs,d,t}$：日付$d$の時刻$t$における1時間当たりの暖房設備機器のガス消費量(MJ/h)  \n",
    "$E_{K,H,hs,d,t}$：日付$d$の時刻$t$における1時間当たりの暖房設備機器の灯油消費量(MJ/h)  \n",
    "$E_{M,H,hs,d,t}$：日付$d$の時刻$t$における1時間当たりの暖房設備機器のその他の燃料による一次エネルギー消費量(MJ/h)  \n",
    "$E_{E,H,hs,MROR,d,t}$：居室のみを暖房する方式における日付$d$の時刻$t$における1時間当たりの主たる居室及びその他の居室に設置された暖房設備の消費電力量(kWh/h)  \n",
    "$E_{G,H,hs,MROR,d,t}$：居室のみを暖房する方式における日付$d$の時刻$t$における1時間当たりの主たる居室及びその他の居室に設置された暖房設備のガス消費量(MJ/h)  \n",
    "$E_{K,H,hs,MROR,d,t}$：居室のみを暖房する方式における日付$d$の時刻$t$における1時間当たりの主たる居室及びその他の居室に設置された暖房設備の灯油消費量(MJ/h)  \n",
    "$E_{M,H,hs,MROR,d,t}$：居室のみを暖房する方式における日付$d$の時刻$t$における1時間当たりの主たる居室及びその他の居室に設置された暖房設備のその他の燃料による一次エネルギー消費量(MJ/h)  "
   ]
  },
  {
   "cell_type": "markdown",
   "metadata": {},
   "source": [
    "#### 6.3.3 居室のみを暖房する方式でかつ主たる居室とその他の居室ともに温水暖房を設置する場合に該当しない場合 "
   ]
  },
  {
   "cell_type": "markdown",
   "metadata": {},
   "source": [
    "$$\n",
    "\\large\n",
    "E_{E,H,hs,d,t} = E_{E,H,hs,MR,d,t} + E_{E,H,hs,OR,d,t}\n",
    "$$\n",
    "\n",
    "$$\n",
    "\\large\n",
    "E_{G,H,hs,d,t} = E_{G,H,hs,MR,d,t} + E_{G,H,hs,OR,d,t}\n",
    "$$\n",
    "\n",
    "$$\n",
    "\\large\n",
    "E_{K,H,hs,d,t} = E_{K,H,hs,MR,d,t} + E_{K,H,hs,OR,d,t}\n",
    "$$\n",
    "\n",
    "$$\n",
    "\\large\n",
    "E_{M,H,hs,d,t} = E_{M,H,hs,MR,d,t} + E_{M,H,hs,OR,d,t}\n",
    "$$"
   ]
  },
  {
   "cell_type": "markdown",
   "metadata": {},
   "source": [
    "$E_{E,H,hs,d,t}$：日付$d$の時刻$t$における1時間当たりの暖房設備機器の消費電力量(kWh/h)  \n",
    "$E_{G,H,hs,d,t}$：日付$d$の時刻$t$における1時間当たりの暖房設備機器のガス消費量(MJ/h)  \n",
    "$E_{K,H,hs,d,t}$：日付$d$の時刻$t$における1時間当たりの暖房設備機器の灯油消費量(MJ/h)  \n",
    "$E_{M,H,hs,d,t}$：日付$d$の時刻$t$における1時間当たりの暖房設備機器のその他の燃料による一次エネルギー消費量(MJ/h)  \n",
    "$E_{E,H,hs,MR,d,t}$：居室のみを暖房する方式における日付$d$の時刻$t$における1時間当たりの主たる居室に設置された暖房設備機器の消費電力量(kWh/h)  \n",
    "$E_{G,H,hs,MR,d,t}$：居室のみを暖房する方式における日付$d$の時刻$t$における1時間当たりの主たる居室に設置された暖房設備機器のガス消費量(MJ/h)  \n",
    "$E_{K,H,hs,MR,d,t}$：居室のみを暖房する方式における日付$d$の時刻$t$における1時間当たりの主たる居室に設置された暖房設備機器の灯油消費量(MJ/h)  \n",
    "$E_{M,H,hs,MR,d,t}$：居室のみを暖房する方式における日付$d$の時刻$t$における1時間当たりの主たる居室に設置された暖房設備機器のその他の燃料による一次エネルギー消費量(MJ/h)  \n",
    "$E_{E,H,hs,OR,d,t}$：居室のみを暖房する方式における日付$d$の時刻$t$における1時間当たりのその他の居室に設置された暖房設備機器の消費電力量(kWh/h)  \n",
    "$E_{G,H,hs,OR,d,t}$：居室のみを暖房する方式における日付$d$の時刻$t$における1時間当たりのその他の居室に設置された暖房設備機器のガス消費量(MJ/h)  \n",
    "$E_{K,H,hs,OR,d,t}$：居室のみを暖房する方式における日付$d$の時刻$t$における1時間当たりのその他の居室に設置された暖房設備機器の灯油消費量(MJ/h)  \n",
    "$E_{M,H,hs,OR,d,t}$：居室のみを暖房する方式における日付$d$の時刻$t$における1時間当たりのその他の居室に設置された暖房設備機器のその他の燃料による一次エネルギー消費量(MJ/h)  "
   ]
  },
  {
   "cell_type": "markdown",
   "metadata": {},
   "source": [
    "$$\n",
    "\\large\n",
    "E_{E,H,hs,MR,d,t} = E_{E,H,hs,d,t,i}|_{i=1}\n",
    "$$\n",
    "\n",
    "$$\n",
    "\\large\n",
    "E_{G,H,hs,MR,d,t} = E_{G,H,hs,d,t,i}|_{i=1}\n",
    "$$\n",
    "\n",
    "$$\n",
    "\\large\n",
    "E_{K,H,hs,MR,d,t} = E_{K,H,hs,d,t,i}|_{i=1}\n",
    "$$\n",
    "\n",
    "$$\n",
    "\\large\n",
    "E_{M,H,hs,MR,d,t} = E_{M,H,hs,d,t,i}|_{i=1}\n",
    "$$"
   ]
  },
  {
   "cell_type": "markdown",
   "metadata": {},
   "source": [
    "$E_{E,H,hs,d,t,i}$：日付$d$の時刻$t$における1時間当たりの暖冷房区画$i$に設置された暖房設備機器の消費電力量(kWh/h)  \n",
    "$E_{G,H,hs,d,t,i}$：日付$d$の時刻$t$における1時間当たりの暖冷房区画$i$に設置された暖房設備機器のガス消費量(MJ/h)  \n",
    "$E_{K,H,hs,d,t,i}$：日付$d$の時刻$t$における1時間当たりの暖冷房区画$i$に設置された暖房設備機器の灯油消費量(MJ/h)  \n",
    "$E_{M,H,hs,d,t,i}$：日付$d$の時刻$t$における1時間当たりの暖冷房区画$i$に設置された暖房設備機器のその他の燃料による一次エネルギー消費量(MJ/h)  "
   ]
  },
  {
   "cell_type": "markdown",
   "metadata": {},
   "source": [
    "$$\n",
    "\\large\n",
    "E_{E,H,hs,OR,d,t} = \\sum_{i=2～5} E_{E,H,hs,d,t,i} \n",
    "$$\n",
    "\n",
    "$$\n",
    "\\large\n",
    "E_{G,H,hs,OR,d,t} = \\sum_{i=2～5} E_{G,H,hs,d,t,i} \n",
    "$$\n",
    "\n",
    "$$\n",
    "\\large\n",
    "E_{K,H,hs,OR,d,t} = \\sum_{i=2～5} E_{K,H,hs,d,t,i} \n",
    "$$\n",
    "\n",
    "$$\n",
    "\\large\n",
    "E_{M,H,hs,OR,d,t} = \\sum_{i=2～5} E_{M,H,hs,d,t,i} \n",
    "$$"
   ]
  },
  {
   "cell_type": "markdown",
   "metadata": {},
   "source": [
    "#### 6.4 暖房設備の未処理暖房負荷の設計一次エネルギー消費量相当値 "
   ]
  },
  {
   "cell_type": "markdown",
   "metadata": {},
   "source": [
    "#### 6.4.1 住戸全体を連続的に暖房する方式"
   ]
  },
  {
   "cell_type": "markdown",
   "metadata": {},
   "source": [
    "$$\n",
    "\\large\n",
    "E_{UT,H,d,t} = Q_{UT,H,A,d,t} \\times \\alpha_{UT,H,A}\n",
    "$$"
   ]
  },
  {
   "cell_type": "markdown",
   "metadata": {},
   "source": [
    "$E_{UT,H,d,t}$：日付$d$の時刻$t$における1時間当たりの暖房設備の未処理暖房負荷の設計一次エネルギー消費量相当値(MJ/h)  \n",
    "$Q_{UT,H,A,d,t}$：住戸全体を連続的に暖房する方式における日付$d$の時刻$t$における1時間当たりの暖房設備の未処理暖房負荷(MJ/h)  \n",
    "$\\alpha_{UT,H,A}$：住戸全体を連続的に暖房する方式における暖房設備の未処理暖房負荷を未処理暖房負荷の設計一次エネルギー消費量相当値に換算するための係数  "
   ]
  },
  {
   "cell_type": "markdown",
   "metadata": {},
   "source": [
    "<div style=\"text-align: center;font-weight: bold;\">表　未処理暖房負荷を未処理暖房負荷の設計一次エネルギー消費量相当値に換算するための係数</div>\n",
    "\n",
    "|地域の区分|住戸全体を連続的に暖房する方式|\n",
    "|-|-|\n",
    "|1|1.61|\n",
    "|2|1.46|\n",
    "|3|1.32|\n",
    "|4|1.30|\n",
    "|5|1.20|\n",
    "|6|1.09|\n",
    "|7|1.12|\n",
    "|8|‐|"
   ]
  },
  {
   "cell_type": "markdown",
   "metadata": {},
   "source": [
    "#### 6.4.2 居室のみを暖房する方式"
   ]
  },
  {
   "cell_type": "markdown",
   "metadata": {},
   "source": [
    "$$\n",
    "\\large\n",
    "E_{UT,H,d,t} = Q_{UT,H,MR,d,t} \\times \\alpha_{UT,H,MR} + Q_{UT,H,OR,d,t} \\times \\alpha_{UT,H,OR}\n",
    "$$"
   ]
  },
  {
   "cell_type": "markdown",
   "metadata": {},
   "source": [
    "$E_{UT,H,d,t}$：日付$d$の時刻$t$における1時間当たりの暖房設備の未処理暖房負荷の設計一次エネルギー消費量相当値(MJ/h)  \n",
    "$Q_{UT,H,MR,d,t}$：居室のみを暖房する方式における日付$d$の時刻$t$における1時間当たりの主たる居室に設置された暖房設備の未処理暖房負荷(MJ/h)  \n",
    "$Q_{UT,H,OR,d,t}$：居室のみを暖房する方式における日付$d$の時刻$t$における1時間当たりのその他の居室に設置された暖房設備の未処理暖房負荷(MJ/h)  \n",
    "$\\alpha_{UT,H,MR}$：居室のみを暖房する方式における主たる居室に設置された暖房設備の未処理暖房負荷を未処理暖房負荷の設計一次エネルギー消費量相当値に換算するための係数  \n",
    "$\\alpha_{UT,H,OR}$：居室のみを暖房する方式におけるその他の居室に設置された暖房設備の未処理暖房負荷を未処理暖房負荷の設計一次エネルギー消費量相当値に換算するための係数  "
   ]
  },
  {
   "cell_type": "markdown",
   "metadata": {},
   "source": [
    "<div style=\"text-align: center;font-weight: bold;\">表　未処理暖房負荷を未処理暖房負荷の設計一次エネルギー消費量相当値に換算するための係数</div>\n",
    "\n",
    "<table>\n",
    "<thead>\n",
    "<tr>\n",
    "<th rowspan=\"3\">地域の区分</th>\n",
    "<th colspan=\"4\">居室のみを暖房する方式</th>\n",
    "</tr>\n",
    "<tr>\n",
    "<th colspan=\"2\">主たる居室</th>\n",
    "<th colspan=\"2\">その他の居室</th>\n",
    "</tr>\n",
    "<tr>\n",
    "<th>連続運転</th>\n",
    "<th>間歇運転</th>\n",
    "<th>連続運転</th>\n",
    "<th>間歇運転</th>\n",
    "</tr>\n",
    "</thead>\n",
    "<tbody>\n",
    "<tr><th>1</th><td>1.59</td><td>1.21</td><td>1.59</td><td>1.22</td></tr>\n",
    "<tr><th>2</th><td>1.66</td><td>1.22</td><td>1.66</td><td>1.24</td></tr>\n",
    "<tr><th>3</th><td>1.63</td><td>1.22</td><td>1.63</td><td>1.23</td></tr>\n",
    "<tr><th>4</th><td>1.60</td><td>1.21</td><td>1.60</td><td>1.23</td></tr>\n",
    "<tr><th>5</th><td>1.53</td><td>1.05</td><td>1.53</td><td>1.04</td></tr>\n",
    "<tr><th>6</th><td>1.57</td><td>0.96</td><td>1.57</td><td>1.00</td></tr>\n",
    "<tr><th>7</th><td>1.63</td><td>1.01</td><td>1.63</td><td>1.34</td></tr>\n",
    "<tr><th>8</th><td>-</td><td>-</td><td>-</td><td>-</td></tr>\n",
    "</tbody>\n",
    "</table>"
   ]
  },
  {
   "cell_type": "markdown",
   "metadata": {},
   "source": [
    "#### 6.5 コージェネレーション設備又は住棟セントラル暖房設備が賄う温水暖房の熱負荷等"
   ]
  },
  {
   "cell_type": "markdown",
   "metadata": {},
   "source": [
    "省略"
   ]
  },
  {
   "cell_type": "markdown",
   "metadata": {},
   "source": [
    "### 7．冷房設備の一次エネルギー消費量及び処理負荷と未処理負荷"
   ]
  },
  {
   "cell_type": "markdown",
   "metadata": {},
   "source": [
    "#### 7.1 処理負荷及び未処理負荷"
   ]
  },
  {
   "cell_type": "markdown",
   "metadata": {},
   "source": [
    "#### 7.1.1 住戸全体を連続的に冷房する方式"
   ]
  },
  {
   "cell_type": "markdown",
   "metadata": {},
   "source": [
    "$$\n",
    "\\large\n",
    "Q_{T,CS,A,d,t} = min(Q_{max,CS,d,t}, L_{CS,A,d,t})\n",
    "$$\n",
    "\n",
    "$$\n",
    "\\large\n",
    "Q_{UT,CS,A,d,t} = L_{CS,A,d,t} - Q_{T,CS,A,d,t}\n",
    "$$"
   ]
  },
  {
   "cell_type": "markdown",
   "metadata": {},
   "source": [
    "$Q_{T,CS,A,d,t}$：住戸全体を連続的に冷房する方式における日付$d$の時刻$t$における1時間当たりの冷房設備の処理冷房顕熱負荷(MJ/h)  \n",
    "$Q_{UT,CS,A,d,t}$：住戸全体を連続的に冷房する方式における日付$d$の時刻$t$における1時間当たりの冷房設備の未処理冷房顕熱負荷(MJ/h)  \n",
    "$Q_{max,CS,d,t}$：日付$d$の時刻$t$における1時間当たりの冷房設備機器の最大冷房顕熱出力(MJ/h)  \n",
    "$L_{CS,A,d,t}$：住戸全体を連続的に冷房する方式における日付$d$の時刻$t$における1時間当たりの冷房顕熱負荷の合計(MJ/h)"
   ]
  },
  {
   "cell_type": "markdown",
   "metadata": {},
   "source": [
    "$$\n",
    "\\large\n",
    "Q_{T,CL,A,d,t} = min(Q_{max,CL,d,t}, L_{CL,A,d,t})\n",
    "$$\n",
    "\n",
    "$$\n",
    "\\large\n",
    "Q_{UT,CL,A,d,t} = L_{CL,A,d,t} - Q_{T,CL,A,d,t}\n",
    "$$"
   ]
  },
  {
   "cell_type": "markdown",
   "metadata": {},
   "source": [
    "$Q_{T,CL,A,d,t}$：住戸全体を連続的に冷房する方式における日付$d$の時刻$t$における1時間当たりの冷房設備の処理冷房潜熱負荷(MJ/h)  \n",
    "$Q_{UT,CL,A,d,t}$：住戸全体を連続的に冷房する方式における日付$d$の時刻$t$における1時間当たりの冷房設備の未処理冷房潜熱負荷(MJ/h)  \n",
    "$Q_{max,C,d,tL}$：日付$d$の時刻$t$における1時間当たりの冷房設備機器の最大冷房潜熱出力(MJ/h)  \n",
    "$L_{CL,A,d,t}$：住戸全体を連続的に冷房する方式における日付$d$の時刻$t$における1時間当たりの冷房潜熱負荷の合計(MJ/h)"
   ]
  },
  {
   "cell_type": "markdown",
   "metadata": {},
   "source": [
    "$L_{CS,A,d,t}$が0未満の場合は0とする。$L_{CL,A,d,t}$が0未満の場合は0とする。 "
   ]
  },
  {
   "cell_type": "markdown",
   "metadata": {},
   "source": [
    "$$\n",
    "\\large\n",
    "L_{CS,A,d,t} = \\sum_{i=1～12} L_{CS,d,t,i} \n",
    "$$\n",
    "\n",
    "$$\n",
    "\\large\n",
    "L_{CL,A,d,t} = \\sum_{i=1～12} L_{CL,d,t,i} \n",
    "$$"
   ]
  },
  {
   "cell_type": "markdown",
   "metadata": {},
   "source": [
    "$L_{CS,d,t,i}$：日付$d$の時刻$t$における暖冷房区画$i$の1時間当たりの冷房顕熱負荷(MJ/h)  \n",
    "$L_{CL,d,t,i}$：日付$d$の時刻$t$における暖冷房区画$i$の1時間当たりの冷房潜熱負荷(MJ/h)  "
   ]
  },
  {
   "cell_type": "markdown",
   "metadata": {},
   "source": [
    "#### 7.1.2 居室のみを冷房する方式"
   ]
  },
  {
   "cell_type": "markdown",
   "metadata": {},
   "source": [
    "$$\n",
    "\\large\n",
    "Q_{T,CS,MR,d,t} = Q_{T,CS,d,t,i}|_{i=1}\n",
    "$$\n",
    "\n",
    "$$\n",
    "\\large\n",
    "Q_{T,CL,MR,d,t} = Q_{T,CL,d,t,i}|_{i=1}\n",
    "$$\n",
    "\n",
    "$$\n",
    "\\large\n",
    "Q_{UT,CS,MR,d,t} = Q_{UT,CS,d,t,i}|_{i=1}\n",
    "$$\n",
    "\n",
    "$$\n",
    "\\large\n",
    "Q_{UT,CL,MR,d,t} = Q_{UT,CL,d,t,i}|_{i=1}\n",
    "$$"
   ]
  },
  {
   "cell_type": "markdown",
   "metadata": {},
   "source": [
    "$Q_{T,CS,MR,d,t}$：居室のみを冷房する方式における日付$d$の時刻$t$における1時間当たりの主たる居室に設置された冷房設備の処理冷房顕熱負荷(MJ/h)  \n",
    "$Q_{T,CL,MR,d,t}$：居室のみを冷房する方式における日付$d$の時刻$t$における1時間当たりの主たる居室に設置された冷房設備の処理冷房潜熱負荷(MJ/h)  \n",
    "$Q_{UT,CS,MR,d,t}$：居室のみを冷房する方式における日付$d$の時刻$t$における1時間当たりの主たる居室に設置された冷房設備の未処理冷房顕熱負荷(MJ/h)  \n",
    "$Q_{UT,CL,MR,d,t}$：居室のみを冷房する方式における日付$d$の時刻$t$における1時間当たりの主たる居室に設置された冷房設備の未処理冷房潜熱負荷(MJ/h)  \n",
    "$Q_{T,CS,d,t,i}$：日付$d$の時刻$t$における1時間当たりの暖冷房区画$i$に設置された冷房設備機器の処理冷房顕熱負荷(MJ/h)  \n",
    "$Q_{T,CL,d,t,i}$：日付$d$の時刻$t$における1時間当たりの暖冷房区画$i$に設置された冷房設備機器の処理冷房潜熱負荷(MJ/h)  \n",
    "$Q_{UT,CS,d,t,i}$：日付$d$の時刻$t$における1時間当たりの暖冷房区画$i$に設置された冷房設備機器の未処理冷房顕熱負荷(MJ/h)  \n",
    "$Q_{UT,CL,d,t,i}$：日付$d$の時刻$t$における1時間当たりの暖冷房区画$i$に設置された冷房設備機器の未処理冷房潜熱負荷(MJ/h)"
   ]
  },
  {
   "cell_type": "markdown",
   "metadata": {},
   "source": [
    "$$\n",
    "\\large\n",
    "Q_{T,CS,OR,d,t} = \\sum_{i=2～5} Q_{T,CS,d,t,i} \n",
    "$$\n",
    "\n",
    "$$\n",
    "\\large\n",
    "Q_{T,CL,OR,d,t} = \\sum_{i=2～5} Q_{T,CL,d,t,i} \n",
    "$$\n",
    "\n",
    "$$\n",
    "\\large\n",
    "Q_{UT,CS,OR,d,t} = \\sum_{i=2～5} Q_{UT,CS,d,t,i} \n",
    "$$\n",
    "\n",
    "$$\n",
    "\\large\n",
    "Q_{UT,CL,OR,d,t} = \\sum_{i=2～5} Q_{UT,CL,d,t,i} \n",
    "$$"
   ]
  },
  {
   "cell_type": "markdown",
   "metadata": {},
   "source": [
    "$Q_{T,CS,OR,d,t}$：居室のみを冷房する方式における日付$d$の時刻$t$における1時間当たりのその他の居室に設置された冷房設備の処理冷房顕熱負荷(MJ/h)  \n",
    "$Q_{T,CL,OR,d,t}$：居室のみを冷房する方式における日付$d$の時刻$t$における1時間当たりのその他の居室に設置された冷房設備の処理冷房潜熱負荷(MJ/h)  \n",
    "$Q_{UT,CS,OR,d,t}$：居室のみを冷房する方式における日付$d$の時刻$t$における1時間当たりのその他の居室に設置された冷房設備の未処理冷房顕熱負荷(MJ/h)  \n",
    "$Q_{UT,CL,OR,d,t}$：居室のみを冷房する方式における日付$d$の時刻$t$における1時間当たりのその他の居室に設置された冷房設備の未処理冷房潜熱負荷(MJ/h)  "
   ]
  },
  {
   "cell_type": "markdown",
   "metadata": {},
   "source": [
    "$$\n",
    "\\large\n",
    "Q_{T,CS,d,t,i} = min(Q_{max,CS,d,t,i}, L_{CS,d,t,i})\n",
    "$$\n",
    "\n",
    "$$\n",
    "\\large\n",
    "Q_{UT,CS,d,t,i} = L_{CS,d,t,i} - Q_{T,CS,d,t,i}\n",
    "$$"
   ]
  },
  {
   "cell_type": "markdown",
   "metadata": {},
   "source": [
    "$Q_{max,CS,d,t,i}$：日付$d$の時刻$t$における1時間当たりの暖冷房区画$i$に設置された冷房設備機器の最大冷房顕熱出力(MJ/h)  \n",
    "$L_{CS,d,t,i}$：日付$d$の時刻$t$における暖冷房区画$i$の1時間当たりの冷房顕熱負荷(MJ/h)  "
   ]
  },
  {
   "cell_type": "markdown",
   "metadata": {},
   "source": [
    "$$\n",
    "\\large\n",
    "Q_{T,CL,d,t,i} = min(Q_{max,CL,d,t,i}, L_{CL,d,t,i})\n",
    "$$\n",
    "\n",
    "$$\n",
    "\\large\n",
    "Q_{UT,CL,d,t,i} = L_{CL,d,t,i} - Q_{T,CL,d,t,i}\n",
    "$$"
   ]
  },
  {
   "cell_type": "markdown",
   "metadata": {},
   "source": [
    "$Q_{max,CL,d,t,i}$：日付$d$の時刻$t$における1時間当たりの暖冷房区画$i$に設置された冷房設備機器の最大冷房潜熱出力(MJ/h)  \n",
    "$L_{CL,d,t,i}$：日付$d$の時刻$t$における暖冷房区画$i$の1時間当たりの冷房潜熱負荷(MJ/h)  "
   ]
  },
  {
   "cell_type": "markdown",
   "metadata": {},
   "source": [
    "$L_{CS,d,t,i}$が0未満の場合は0とする。また、$L_{CL,d,t,i}$が0未満の場合は0とする。 "
   ]
  },
  {
   "cell_type": "markdown",
   "metadata": {},
   "source": [
    "#### 7.2 冷房設備のエネルギー消費量"
   ]
  },
  {
   "cell_type": "markdown",
   "metadata": {},
   "source": [
    "$$\n",
    "\\large\n",
    "E_{E,C,d,t} = E_{E,C,hs,d,t}\n",
    "$$\n",
    "\n",
    "$$\n",
    "\\large\n",
    "E_{G,C,d,t} = E_{G,C,hs,d,t}\n",
    "$$\n",
    "\n",
    "$$\n",
    "\\large\n",
    "E_{K,C,d,t} = E_{K,C,hs,d,t}\n",
    "$$\n",
    "\n",
    "$$\n",
    "\\large\n",
    "E_{M,C,d,t} = E_{M,C,hs,d,t}\n",
    "$$"
   ]
  },
  {
   "cell_type": "markdown",
   "metadata": {},
   "source": [
    "$E_{E,C,d,t}$：日付$d$の時刻$t$における1時間当たりの冷房設備の消費電力量(kWh/h)  \n",
    "$E_{G,C,d,t}$：日付$d$の時刻$t$における1時間当たりの冷房設備のガス消費量(MJ/h)  \n",
    "$E_{K,C,d,t}$：日付$d$の時刻$t$における1時間当たりの冷房設備の灯油消費量(MJ/h)  \n",
    "$E_{M,C,d,t}$：日付$d$の時刻$t$における1時間当たりの冷房設備のその他の燃料による一次エネルギー消費量(MJ/h)  \n",
    "$E_{E,C,hs,d,t}$：日付$d$の時刻$t$における1時間当たりの冷房設備機器の消費電力量(kWh/h)  \n",
    "$E_{G,C,hs,d,t}$：日付$d$の時刻$t$における1時間当たりの冷房設備機器のガス消費量(MJ/h)  \n",
    "$E_{K,C,hs,d,t}$：日付$d$の時刻$t$における1時間当たりの冷房設備機器の灯油消費量(MJ/h)  \n",
    "$E_{M,C,hs,d,t}$：日付$d$の時刻$t$における1時間当たりの冷房設備機器のその他の燃料による一次エネルギー消費量(MJ/h)  "
   ]
  },
  {
   "cell_type": "markdown",
   "metadata": {},
   "source": [
    "#### 7.3 冷房設備機器のエネルギー消費量"
   ]
  },
  {
   "cell_type": "markdown",
   "metadata": {},
   "source": [
    "#### 7.3.1 住戸全体を連続的に冷房する方式"
   ]
  },
  {
   "cell_type": "markdown",
   "metadata": {},
   "source": [
    "$$\n",
    "\\large\n",
    "E_{E,C,hs,d,t} = E_{E,C,hs,A,d,t}\n",
    "$$\n",
    "\n",
    "$$\n",
    "\\large\n",
    "E_{G,C,hs,d,t} = E_{G,C,hs,A,d,t}\n",
    "$$\n",
    "\n",
    "$$\n",
    "\\large\n",
    "E_{K,C,hs,d,t} = E_{K,C,hs,A,d,t}\n",
    "$$\n",
    "\n",
    "$$\n",
    "\\large\n",
    "E_{M,C,hs,d,t} = E_{M,C,hs,A,d,t}\n",
    "$$"
   ]
  },
  {
   "cell_type": "markdown",
   "metadata": {},
   "source": [
    "$E_{E,C,hs,d,t}$：日付$d$の時刻$t$における1時間当たりの冷房設備機器の消費電力量(kWh/h)  \n",
    "$E_{G,C,hs,d,t}$：日付$d$の時刻$t$における1時間当たりの冷房設備機器のガス消費量(MJ/h)  \n",
    "$E_{K,C,hs,d,t}$：日付$d$の時刻$t$における1時間当たりの冷房設備機器の灯油消費量(MJ/h)  \n",
    "$E_{M,C,hs,d,t}$：日付$d$の時刻$t$における1時間当たりの冷房設備機器のその他の燃料による一次エネルギー消費量(MJ/h)  \n",
    "$E_{E,C,hs,A,d,t}$：住戸全体を連続的に冷房する方式における日付$d$の時刻$t$における1時間当たりの冷房設備機器の消費電力量(kWh/h)  \n",
    "$E_{G,C,hs,A,d,t}$：住戸全体を連続的に冷房する方式における日付$d$の時刻$t$における1時間当たりの冷房設備機器のガス消費量(MJ/h)  \n",
    "$E_{K,C,hs,A,d,t}$：住戸全体を連続的に冷房する方式における日付$d$の時刻$t$における1時間当たりの冷房設備機器の灯油消費量(MJ/h)  \n",
    "$E_{M,C,hs,A,d,t}$：住戸全体を連続的に冷房する方式における日付$d$の時刻$t$における1時間当たりの冷房設備機器のその他の燃料による一次エネルギー消費量(MJ/h)  "
   ]
  },
  {
   "cell_type": "markdown",
   "metadata": {},
   "source": [
    "#### 7.3.2 居室のみを冷房する方式"
   ]
  },
  {
   "cell_type": "markdown",
   "metadata": {},
   "source": [
    "$$\n",
    "\\large\n",
    "E_{E,C,hs,d,t} = E_{E,C,hs,MR,d,t} +  E_{E,C,hs,OR,d,t}\n",
    "$$\n",
    "\n",
    "$$\n",
    "\\large\n",
    "E_{G,C,hs,d,t} = E_{G,C,hs,MR,d,t} +  E_{G,C,hs,OR,d,t}\n",
    "$$\n",
    "\n",
    "$$\n",
    "\\large\n",
    "E_{K,C,hs,d,t} = E_{K,C,hs,MR,d,t} +  E_{K,C,hs,OR,d,t}\n",
    "$$\n",
    "\n",
    "$$\n",
    "\\large\n",
    "E_{M,C,hs,d,t} = E_{M,C,hs,MR,d,t} +  E_{M,C,hs,OR,d,t}\n",
    "$$"
   ]
  },
  {
   "cell_type": "markdown",
   "metadata": {},
   "source": [
    "$E_{E,C,hs,d,t}$：日付$d$の時刻$t$における1時間当たりの冷房設備機器の消費電力量(kWh/h)  \n",
    "$E_{G,C,hs,d,t}$：日付$d$の時刻$t$における1時間当たりの冷房設備機器のガス消費量(MJ/h)  \n",
    "$E_{K,C,hs,d,t}$：日付$d$の時刻$t$における1時間当たりの冷房設備機器の灯油消費量(MJ/h)  \n",
    "$E_{M,C,hs,d,t}$：日付$d$の時刻$t$における1時間当たりの冷房設備機器のその他の燃料による一次エネルギー消費量(MJ/h)  \n",
    "$E_{E,C,hs,MR,d,t}$：居室のみを冷房する方式における日付$d$の時刻$t$における1時間当たりの主たる居室に設置された冷房設備機器の消費電力量(kWh/h)  \n",
    "$E_{G,C,hs,MR,d,t}$：居室のみを冷房する方式における日付$d$の時刻$t$における1時間当たりの主たる居室に設置された冷房設備機器のガス消費量(MJ/h)  \n",
    "$E_{K,C,hs,MR,d,t}$：居室のみを冷房する方式における日付$d$の時刻$t$における1時間当たりの主たる居室に設置された冷房設備機器の灯油消費量(MJ/h)  \n",
    "$E_{M,C,hs,MR,d,t}$：居室のみを冷房する方式における日付$d$の時刻$t$における1時間当たりの主たる居室に設置された冷房設備機器のその他の燃料による一次エネルギー消費量(MJ/h)  \n",
    "$E_{E,C,hs,OR,d,t}$：居室のみを冷房する方式における日付$d$の時刻$t$における1時間当たりのその他の居室に設置された冷房設備機器の消費電力量(kWh/h)  \n",
    "$E_{G,C,hs,OR,d,t}$：居室のみを冷房する方式における日付$d$の時刻$t$における1時間当たりのその他の居室に設置された冷房設備機器のガス消費量(MJ/h)  \n",
    "$E_{K,C,hs,OR,d,t}$：居室のみを冷房する方式における日付$d$の時刻$t$における1時間当たりのその他の居室に設置された冷房設備機器の灯油消費量(MJ/h)  \n",
    "$E_{M,C,hs,OR,d,t}$：居室のみを冷房する方式における日付$d$の時刻$t$における1時間当たりのその他の居室に設置された冷房設備機器のその他の燃料による一次エネルギー消費量(MJ/h)  "
   ]
  },
  {
   "cell_type": "markdown",
   "metadata": {},
   "source": [
    "$$\n",
    "\\large\n",
    "E_{E,C,hs,MR,d,t} = E_{E,C,hs,d,t,i}|_{i=1}\n",
    "$$\n",
    "\n",
    "$$\n",
    "\\large\n",
    "E_{G,C,hs,MR,d,t} = E_{G,C,hs,d,t,i}|_{i=1}\n",
    "$$\n",
    "\n",
    "$$\n",
    "\\large\n",
    "E_{K,C,hs,MR,d,t} = E_{K,C,hs,d,t,i}|_{i=1}\n",
    "$$\n",
    "\n",
    "$$\n",
    "\\large\n",
    "E_{M,C,hs,MR,d,t} = E_{M,C,hs,d,t,i}|_{i=1}\n",
    "$$"
   ]
  },
  {
   "cell_type": "markdown",
   "metadata": {},
   "source": [
    "$E_{E,C,hs,d,t,i}$：日付$d$の時刻$t$における1時間当たりの暖冷房区画$i$に設置された冷房設備機器の消費電力量(kWh/h)  \n",
    "$E_{G,C,hs,d,t,i}$：日付$d$の時刻$t$における1時間当たりの暖冷房区画$i$に設置された冷房設備機器のガス消費量(MJ/h)  \n",
    "$E_{K,C,hs,d,t,i}$：日付$d$の時刻$t$における1時間当たりの暖冷房区画$i$に設置された冷房設備機器の灯油消費量(MJ/h)  \n",
    "$E_{M,C,hs,d,t,i}$：日付$d$の時刻$t$における1時間当たりの暖冷房区画$i$に設置された冷房設備機器のその他の燃料による一次エネルギー消費量(MJ/h)  "
   ]
  },
  {
   "cell_type": "markdown",
   "metadata": {},
   "source": [
    "$$\n",
    "\\large\n",
    "E_{E,C,hs,OR,d,t} = \\sum_{i=2～5} E_{E,C,hs,d,t,i} \n",
    "$$\n",
    "\n",
    "$$\n",
    "\\large\n",
    "E_{G,C,hs,OR,d,t} = \\sum_{i=2～5} E_{G,C,hs,d,t,i} \n",
    "$$\n",
    "\n",
    "$$\n",
    "\\large\n",
    "E_{K,C,hs,OR,d,t} = \\sum_{i=2～5} E_{K,C,hs,d,t,i} \n",
    "$$\n",
    "\n",
    "$$\n",
    "\\large\n",
    "E_{M,C,hs,OR,d,t} = \\sum_{i=2～5} E_{M,C,hs,d,t,i} \n",
    "$$"
   ]
  },
  {
   "cell_type": "markdown",
   "metadata": {},
   "source": [
    "## 付録 A 設置する暖房設備機器又は放熱器の種類に応じた暖房方式及び運転方法の決定方法並びに評価上想定される暖房設備機器又は放熱器の種類"
   ]
  },
  {
   "cell_type": "markdown",
   "metadata": {},
   "source": [
    "### A.1 設置する暖房設備機器又は放熱器の種類に応じた暖房方式及び運転方法の決定方法 "
   ]
  },
  {
   "cell_type": "markdown",
   "metadata": {},
   "source": [
    "<div style=\"text-align: center;font-weight: bold;\">表　主たる居室及びその他の居室の運転方法（その他の居室がある場合）<br>（上段：主たる居室の運転方法 下段：その他の居室の運転方法） </div>\n",
    "\n",
    "<table>\n",
    "<tr>\n",
    "<th colspan=\"2\" rowspan=\"2\"></th>\n",
    "<th colspan=\"8\">その他の居室に設置する暖冷房設備機器等</th>\n",
    "</tr>\n",
    "<tr>\n",
    "<th>電気蓄熱<br>暖房器</th>\n",
    "<th>パネル<br>ラジエーター</th>\n",
    "<th>温水床暖房</th>\n",
    "<th>ファン<br>コンベクター</th>\n",
    "<th>ルーム<br>エアコン<br>ディショナー</th>\n",
    "<th>FF暖房機</th>\n",
    "<th>電気<br>ヒーター<br>床暖房</th>\n",
    "<th>ルーム<br>エアコン<br>ディショナー付<br>温水床暖房</th>\n",
    "</tr>\n",
    "\n",
    "<tr>\n",
    "<th rowspan=\"8\">主たる居室に<br>設置する<br>暖冷房<br>設備機器等</th>\n",
    "<th>電気蓄熱暖房器</th>\n",
    "<td>連続<br>連続</td>\n",
    "<td>連続<br>連続</td>\n",
    "<td>連続<br>連続</td>\n",
    "<td>連続<br>間歇</td>\n",
    "<td>連続<br>間歇</td>\n",
    "<td>連続<br>間歇</td>\n",
    "<td>連続<br>間歇</td>\n",
    "<td>連続<br>間歇</td>\n",
    "</tr>\n",
    "<tr>\n",
    "<th>パネルラジエーター</th>\n",
    "<td>連続<br>連続</td>\n",
    "<td>連続<br>連続</td>\n",
    "<td>連続<br>連続</td>\n",
    "<td>連続<br>間歇</td>\n",
    "<td>連続<br>間歇</td>\n",
    "<td>連続<br>間歇</td>\n",
    "<td>連続<br>間歇</td>\n",
    "<td>連続<br>間歇</td>\n",
    "</tr>\n",
    "<tr>\n",
    "<th>温水床暖房</th>\n",
    "<td>連続<br>連続</td>\n",
    "<td>連続<br>連続</td>\n",
    "<td>連続<br>連続</td>\n",
    "<td>間歇<br>間歇</td>\n",
    "<td>間歇<br>間歇</td>\n",
    "<td>間歇<br>間歇</td>\n",
    "<td>間歇<br>間歇</td>\n",
    "<td>間歇<br>間歇</td>\n",
    "</tr>\n",
    "<tr>\n",
    "<th>ファンコンベクター</th>\n",
    "<td>間歇<br>連続</td>\n",
    "<td>間歇<br>連続</td>\n",
    "<td>間歇<br>間歇</td>\n",
    "<td>間歇<br>間歇</td>\n",
    "<td>間歇<br>間歇</td>\n",
    "<td>間歇<br>間歇</td>\n",
    "<td>間歇<br>間歇</td>\n",
    "<td>間歇<br>間歇</td>\n",
    "</tr>\n",
    "<tr>\n",
    "<th>ルームエア<br>コンディショナー</th>\n",
    "<td>間歇<br>連続</td>\n",
    "<td>間歇<br>連続</td>\n",
    "<td>間歇<br>間歇</td>\n",
    "<td>間歇<br>間歇</td>\n",
    "<td>間歇<br>間歇</td>\n",
    "<td>間歇<br>間歇</td>\n",
    "<td>間歇<br>間歇</td>\n",
    "<td>間歇<br>間歇</td>\n",
    "</tr>\n",
    "<tr>\n",
    "<th>FF 暖房機</th>\n",
    "<td>間歇<br>連続</td>\n",
    "<td>間歇<br>連続</td>\n",
    "<td>間歇<br>間歇</td>\n",
    "<td>間歇<br>間歇</td>\n",
    "<td>間歇<br>間歇</td>\n",
    "<td>間歇<br>間歇</td>\n",
    "<td>間歇<br>間歇</td>\n",
    "<td>間歇<br>間歇</td>\n",
    "</tr>\n",
    "<tr>\n",
    "<th>電気ヒーター床暖房</th>\n",
    "<td>間歇<br>連続</td>\n",
    "<td>間歇<br>連続</td>\n",
    "<td>間歇<br>間歇</td>\n",
    "<td>間歇<br>間歇</td>\n",
    "<td>間歇<br>間歇</td>\n",
    "<td>間歇<br>間歇</td>\n",
    "<td>間歇<br>間歇</td>\n",
    "<td>間歇<br>間歇</td>\n",
    "</tr>\n",
    "<tr>\n",
    "<th>ルーム<br>エアコン<br>ディショナー付<br>温水床暖房</th>\n",
    "<td>間歇<br>連続</td>\n",
    "<td>間歇<br>連続</td>\n",
    "<td>間歇<br>間歇</td>\n",
    "<td>間歇<br>間歇</td>\n",
    "<td>間歇<br>間歇</td>\n",
    "<td>間歇<br>間歇</td>\n",
    "<td>間歇<br>間歇</td>\n",
    "<td>間歇<br>間歇</td>\n",
    "</tr>\n",
    "</table>"
   ]
  },
  {
   "cell_type": "markdown",
   "metadata": {},
   "source": [
    "<div style=\"text-align: center;font-weight: bold;\">表　主たる居室の運転方法（その他の居室がない場合）</div>\n",
    "\n",
    "<table>\n",
    "<tr>\n",
    "<th colspan=\"3\"></th>\n",
    "<th>運転方法</th>\n",
    "</tr>\n",
    "<tr>\n",
    "<th rowspan=\"9\">主たる居室に設置する<br>暖冷房設備機器等</th>\n",
    "<th colspan=\"2\">電気蓄熱暖房器</th>\n",
    "<td>連続</td>\n",
    "</tr>\n",
    "<tr>\n",
    "<th colspan=\"2\">パネルラジエーター</th>\n",
    "<td>連続</td>\n",
    "</tr>\n",
    "<tr>\n",
    "<th rowspan=\"2\">温水床暖房</th>\n",
    "<th>1～2 地域</th>\n",
    "<td>連続</td>\n",
    "</tr>\n",
    "<tr>\n",
    "<th>3～7 地域</th>\n",
    "<td>間歇</td>\n",
    "</tr>\n",
    "<tr>\n",
    "<th colspan=\"2\">ファンコンベクター</th>\n",
    "<td>間歇</td>\n",
    "</tr>\n",
    "<tr>\n",
    "<th colspan=\"2\">ルームエアコンディショナー</th>\n",
    "<td>間歇</td>\n",
    "</tr>\n",
    "<tr>\n",
    "<th colspan=\"2\">FF 暖房機</th>\n",
    "<td>間歇</td>\n",
    "</tr>\n",
    "<tr>\n",
    "<th colspan=\"2\">電気ヒーター床暖房</th>\n",
    "<td>間歇</td>\n",
    "</tr>\n",
    "<tr>\n",
    "<th colspan=\"2\">ルームエアコンディショナー付<br>温水床暖房</th>\n",
    "<td>間歇</td>\n",
    "</tr>\n",
    "</table>"
   ]
  },
  {
   "cell_type": "markdown",
   "metadata": {},
   "source": [
    "### A.2 複数の暖房設備機器等が設置される場合の評価上想定される暖房設備機器等の種類 "
   ]
  },
  {
   "cell_type": "markdown",
   "metadata": {},
   "source": [
    "省略"
   ]
  },
  {
   "cell_type": "markdown",
   "metadata": {},
   "source": [
    "### A.3 暖房設備機器等が設置されない場合の評価上想定される暖房設備機器等の種類"
   ]
  },
  {
   "cell_type": "markdown",
   "metadata": {},
   "source": [
    "主たる居室若しくはその他の居室に暖房設備機器等を設置しない場合又は表 A.1 に掲げる暖房設備機器等以外の暖房設備機器等を設置する場合は、地域の区分に応じて表 A.5 に示す暖房設備機器等が設置されるものとして評価する。その際、パネルラジエーターが想定された場合（1 地域及び 2 地域）の配管の断熱措置については「断熱被覆のないもの」とし、温水暖房用熱源機については石油温水暖房機で、定格能力効率を0.830(83.0%)として評価する。また、FF 暖房機が想定された場合（3 地域及び 4 地域）の FF 暖房機の定格能力におけるエネルギー消費効率は0.860(86.0%)とする。ルームエアコンディショナーが想定された場合（5～7地域）のルームエアコンディショナーのエネルギー消費効率の区分は区分（ろ）とする。 "
   ]
  },
  {
   "cell_type": "markdown",
   "metadata": {},
   "source": [
    "<div style=\"text-align: center;font-weight: bold;\">表　主たる居室若しくはその他の居室に暖房設備機器等を設置しない場合又は表 A.1 に掲げる<br>暖房設備機器等以外の暖房設備機器等を設置する場合の評価において想定する暖房設備機器等</div>\n",
    "\n",
    "<table>\n",
    "<thead>\n",
    "<tr>\n",
    "\t<th rowspan=\"2\">地域の区分</th>\n",
    "\t<th colspan=\"2\">評価において想定される暖房設備機器等</th>\n",
    "</tr>\n",
    "<tr>\n",
    "\t<th>主たる居室</th>\n",
    "\t<th>その他の居室</th>\n",
    "</tr>\n",
    "</thead>\n",
    "<tbody>\n",
    "<tr>\n",
    "\t<th>1</th>\n",
    "\t<td>パネルラジエーター</td>\n",
    "\t<td>パネルラジエーター</td>\n",
    "</tr>\n",
    "<tr>\n",
    "\t<th>2</th>\n",
    "\t<td>パネルラジエーター</td>\n",
    "\t<td>パネルラジエーター</td>\n",
    "</tr>\n",
    "<tr>\n",
    "\t<th>3</th>\n",
    "\t<td>ＦＦ暖房機</td>\n",
    "\t<td>ＦＦ暖房機</td>\n",
    "</tr>\n",
    "<tr>\n",
    "\t<th>4</th>\n",
    "\t<td>ＦＦ暖房機</td>\n",
    "\t<td>ＦＦ暖房機</td>\n",
    "</tr>\n",
    "<tr>\n",
    "\t<th>5</th>\n",
    "\t<td>ルームエアコンディショナー</td>\n",
    "\t<td>ルームエアコンディショナー</td>\n",
    "</tr>\n",
    "<tr>\n",
    "\t<th>6</th>\n",
    "\t<td>ルームエアコンディショナー</td>\n",
    "\t<td>ルームエアコンディショナー</td>\n",
    "</tr>\n",
    "<tr>\n",
    "\t<th>7</th>\n",
    "\t<td>ルームエアコンディショナー</td>\n",
    "\t<td>ルームエアコンディショナー</td>\n",
    "</tr>\n",
    "</tbody>\n",
    "</table>"
   ]
  },
  {
   "cell_type": "markdown",
   "metadata": {},
   "source": [
    "主たる居室若しくはその他の居室又はその両方に、温水床暖房、ファンコンベクター又はパネルラジエーターが設置された場合において、配管を設置しない場合においては、配管の断熱措置を「断熱被覆のないもの」として評価し、温水暖房用熱源機を設置しない場合又はその他の温水暖房用熱源機を設置する場合においては、表 A.6 に示す温水暖房用熱源機が設置されたものとして評価する。その場合の定格効率として、石油従来型温水暖房機の場合は0.830(83.0%)、ガス従来型温水暖房機の場合は0.825(82.5％)で評価する。"
   ]
  },
  {
   "cell_type": "markdown",
   "metadata": {},
   "source": [
    "<div style=\"text-align: center;font-weight: bold;\">表　温水暖房用熱源機を設置しない又はその他の温水暖房用熱源機を<br>設置する場合の評価において想定する温水暖房用熱源機</div>\n",
    "\n",
    "<table>\n",
    "<thead>\n",
    "<tr>\n",
    "\t<th>地域の区分</th>\n",
    "\t<th>評価において想定される暖房設備機器等</th>\n",
    "</tr>\n",
    "</thead>\n",
    "<tbody>\n",
    "<tr>\n",
    "\t<th>1</th>\n",
    "\t<td>石油従来型温水暖房機</td>\n",
    "</tr>\n",
    "<tr>\n",
    "\t<th>2</th>\n",
    "\t<td>石油従来型温水暖房機</td>\n",
    "</tr>\n",
    "<tr>\n",
    "\t<th>3</th>\n",
    "\t<td>石油従来型温水暖房機</td>\n",
    "</tr>\n",
    "<tr>\n",
    "\t<th>4</th>\n",
    "\t<td>石油従来型温水暖房機</td>\n",
    "</tr>\n",
    "<tr>\n",
    "\t<th>5</th>\n",
    "\t<td>ガス従来型温水暖房機</td>\n",
    "</tr>\n",
    "<tr>\n",
    "\t<th>6</th>\n",
    "\t<td>ガス従来型温水暖房機</td>\n",
    "</tr>\n",
    "<tr>\n",
    "\t<th>7</th>\n",
    "\t<td>ガス従来型温水暖房機</td>\n",
    "</tr>\n",
    "</tbody>\n",
    "</table>"
   ]
  },
  {
   "cell_type": "markdown",
   "metadata": {},
   "source": [
    "## 付録 B 設置する冷房設備機器の種類に応じた冷房方式及び運転方法の決定方法並びに評価上想定される冷房設備機器の種類 "
   ]
  },
  {
   "cell_type": "markdown",
   "metadata": {},
   "source": [
    "「居室のみを冷房する方式」の場合の主たる居室及びその他の居室における運転方法はともに間歇運転とする。  \n",
    "主たる居室、その他の居室に冷房設備機器を設置しない場合又はルームエアコンディショナー以外の冷房設備機器を設置する場合は、ルームエアコンディショナーが設置されたものとして評価する。その際、ルームエアコンディショナーのエネルギー消費効率の区分は区分（ろ）とする。 "
   ]
  }
 ],
 "metadata": {
  "kernelspec": {
   "display_name": "Python 3",
   "language": "python",
   "name": "python3"
  },
  "language_info": {
   "codemirror_mode": {
    "name": "ipython",
    "version": 3
   },
   "file_extension": ".py",
   "mimetype": "text/x-python",
   "name": "python",
   "nbconvert_exporter": "python",
   "pygments_lexer": "ipython3",
   "version": "3.6.7"
  }
 },
 "nbformat": 4,
 "nbformat_minor": 2
}
