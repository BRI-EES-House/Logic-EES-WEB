{
 "cells": [
  {
   "cell_type": "markdown",
   "metadata": {},
   "source": [
    "# 第九章　自然エネルギー利用設備"
   ]
  },
  {
   "cell_type": "markdown",
   "metadata": {},
   "source": [
    "## 第一節　太陽光発電設備"
   ]
  },
  {
   "cell_type": "markdown",
   "metadata": {},
   "source": [
    "1．適用範囲～4．記号及び単位は省略"
   ]
  },
  {
   "cell_type": "markdown",
   "metadata": {},
   "source": [
    "### 5．太陽光発電設備による発電量"
   ]
  },
  {
   "cell_type": "markdown",
   "metadata": {},
   "source": [
    "$$\\large\n",
    "E_{PV,d,t} = \\sum_{i}^{n} E_{p,i,d,t}\n",
    "$$"
   ]
  },
  {
   "cell_type": "markdown",
   "metadata": {},
   "source": [
    "$E_{PV,d,t}$：日付$d$の時刻$t$における1時間当たりの太陽光発電設備による発電量(kWh/h)  \n",
    "$E_{p,i,d,t}$：日付$d$の時刻$t$における1時間当たりの太陽電池アレイ$i$の発電量(kWh/h)  \n",
    "$n$：太陽電池アレイの数(最大4)  "
   ]
  },
  {
   "cell_type": "markdown",
   "metadata": {},
   "source": [
    "### 6．太陽電池アレイによる発電量"
   ]
  },
  {
   "cell_type": "markdown",
   "metadata": {},
   "source": [
    "$$\\large\n",
    "E_{p,i,d,t} = P_{p,i} \\times \\frac{1}{\\alpha_p} \\times I_{S,i,d,t} \\times K_{p,i,d,t} \\times 10^{-3}\n",
    "$$"
   ]
  },
  {
   "cell_type": "markdown",
   "metadata": {},
   "source": [
    "$P_{p,i}$：太陽電池アレイ$i$のシステム容量(kW)  \n",
    "$\\alpha_p$：基準状態の日射強度(kW/m<sup>2</sup>)  \n",
    "$I_{S,i,d,t}$：日付$d$の時刻$t$における太陽電池アレイ$i$の設置面の単位面積当たりの日射量(W/m<sup>2</sup>)  \n",
    "$K_{p,i,d,t}$：日付$d$の時刻$t$における太陽電池アレイ$i$の総合設計係数"
   ]
  },
  {
   "cell_type": "markdown",
   "metadata": {},
   "source": [
    "### 7．太陽電池アレイのシステム容量"
   ]
  },
  {
   "cell_type": "markdown",
   "metadata": {},
   "source": [
    "省略"
   ]
  },
  {
   "cell_type": "markdown",
   "metadata": {},
   "source": [
    "### 8．基準状態の日射強度"
   ]
  },
  {
   "cell_type": "markdown",
   "metadata": {},
   "source": [
    "基準状態の日射強度$\\alpha_p$として1.0kW/m<sup>2</sup> を用いる。"
   ]
  },
  {
   "cell_type": "markdown",
   "metadata": {},
   "source": [
    "### 9．太陽電池アレイの総合設計係数"
   ]
  },
  {
   "cell_type": "markdown",
   "metadata": {},
   "source": [
    "$$\\large\n",
    "K_{p,i,d,t} = K_{HS,i} \\times K_{PD,i} \\times K_{PT,i,d,t} \\times K_{PA,i} \\times K_{PM,i} \\times K_{IN}\n",
    "$$"
   ]
  },
  {
   "cell_type": "markdown",
   "metadata": {},
   "source": [
    "$K_{HS,i}$：太陽電池アレイ$i$の日陰補正係数(表の値)  \n",
    "$K_{PD,i}$：太陽電池アレイ$i$の経時変化補正係数(表の値)  \n",
    "$K_{PT,i,d,t}$：日付$d$の時刻$t$における太陽電池アレイ$i$の温度補正係数  \n",
    "$K_{PA,i}$：太陽電池アレイ$i$のアレイ負荷整合補正係数(表の値)  \n",
    "$K_{PM,i}$：太陽電池アレイ$i$のアレイ回路補正係数(表の値)  \n",
    "$K_{IN}$：インバータ回路補正係数(表の値)"
   ]
  },
  {
   "cell_type": "markdown",
   "metadata": {},
   "source": [
    "<div style=\"text-align: center;font-weight: bold;\">表　太陽電池アレイの補正係数の値 </div>\n",
    "\n",
    "<table>\n",
    "<thead>\n",
    "\t<tr>\n",
    "\t\t<th rowspan=\"2\">補正係数名称</th>\n",
    "\t\t<th rowspan=\"2\">記号</th>\n",
    "\t\t<th colspan=\"2\" style=\"text-align: center;\">補正係数値</th>\n",
    "\t</tr>\n",
    "\t<tr>\n",
    "\t\t<th>結晶シリコン系</th>\n",
    "\t\t<th>結晶シリコン系以外</th>\n",
    "\t</tr>\n",
    "</thead>\n",
    "<tbody>\n",
    "\t<tr>\n",
    "\t\t<th>日陰補正係数</th>\n",
    "\t\t<th>$K_{HS}$</th>\n",
    "\t\t<td>1.0</td>\n",
    "\t\t<td>1.0</td>\n",
    "\t</tr>\n",
    "\t<tr>\n",
    "\t\t<th>経時変化補正係数</th>\n",
    "\t\t<th>$K_{PD}$</th>\n",
    "\t\t<td>0.96</td>\n",
    "\t\t<td>0.99</td>\n",
    "\t</tr>\n",
    "\t<tr>\n",
    "\t\t<th>アレイ負荷整合補正係数</th>\n",
    "\t\t<th>$K_{PA}$</th>\n",
    "\t\t<td>0.94</td>\n",
    "\t\t<td>0.94</td>\n",
    "\t</tr>\n",
    "\t<tr>\n",
    "\t\t<th>アレイ回路補正係数</th>\n",
    "\t\t<th>$K_{PM}$</th>\n",
    "\t\t<td>0.97</td>\n",
    "\t\t<td>0.97</td>\n",
    "\t</tr>\n",
    "</tbody>\n",
    "</table>"
   ]
  },
  {
   "cell_type": "markdown",
   "metadata": {},
   "source": [
    "$$\\large\n",
    "K_{IN} = \\eta_{IN,R} \\times 0.97\n",
    "$$"
   ]
  },
  {
   "cell_type": "markdown",
   "metadata": {},
   "source": [
    "$\\eta_{IN,R}$：パワーコンディショナの定格負荷効率 "
   ]
  },
  {
   "cell_type": "markdown",
   "metadata": {},
   "source": [
    "$$\\large\n",
    "K_{PT,i,d,t} = 1 + \\alpha_{p,max,i} \\times ( \\theta_{CR,i,d,t} - 25 )\n",
    "$$"
   ]
  },
  {
   "cell_type": "markdown",
   "metadata": {},
   "source": [
    "$\\alpha_{p,max,i}$：太陽電池アレイ$i$の最大出力温度係数(1/K)  \n",
    "$\\theta_{CR,i,d,t}$：日付$d$の時刻$t$における太陽電池アレイ$i$の加重平均太陽電池モジュール温度(℃)  "
   ]
  },
  {
   "cell_type": "markdown",
   "metadata": {},
   "source": [
    "<div style=\"text-align: center;font-weight: bold;\">表　太陽電池アレイの最大出力温度係数</div>\n",
    "\n",
    "<table>\n",
    "<thead>\n",
    "<tr>\n",
    "\t<th>結晶シリコン系</th>\n",
    "\t<th>結晶シリコン系以外</th>\n",
    "</tr>\n",
    "</thead>\n",
    "<tbody>\n",
    "\t<tr>\n",
    "\t\t<td>－0.0041</td>\n",
    "\t\t<td>－0.0020</td>\n",
    "\t</tr>\n",
    "</tbody>\n",
    "</table>"
   ]
  },
  {
   "cell_type": "markdown",
   "metadata": {},
   "source": [
    "$$\\large\n",
    "\\theta_{CR,i,d,t} = \\theta_{A,d,t} + \\left(  \\frac{f_{A,i}}{f_{B,i} \\times (V_{i,d,t})^{0.8} + 1} + 2 \\right) \\times I_{s,i,d,t} \\times 10^{-3} - 2\n",
    "$$"
   ]
  },
  {
   "cell_type": "markdown",
   "metadata": {},
   "source": [
    "$\\theta_{A,d,t}$：日付$d$の時刻$t$における外気温度(℃)  \n",
    "$V_{i,d,t}$：日付$d$の時刻$t$における太陽電池アレイ$i$の設置面における風速(m/s)    \n",
    "$I_{S,i,d,t}$：日付$d$の時刻$t$における太陽電池アレイ$i$の設置面の単位面積当たりの日射量(W/m<sup>2</sup>)    \n",
    "$f_{A,i}$, $f_{B,i}$：太陽電池アレイ$i$における係数  "
   ]
  },
  {
   "cell_type": "markdown",
   "metadata": {},
   "source": [
    "日付$d$の時刻$t$における太陽電池アレイ$i$の設置面における風速$V_{i,d,t}$は、地域区分、日付及び時刻によらず1.5に等しいとする。 "
   ]
  },
  {
   "cell_type": "markdown",
   "metadata": {},
   "source": [
    "<div style=\"text-align: center;font-weight: bold;\">表　係数݂$f_{A}$及び$f_{B}$の値</div>\n",
    "\n",
    "<table>\n",
    "<thead>\n",
    "<tr>\n",
    "\t<th>太陽電池アレイ設置方式 </th>\n",
    "\t<th>$f_{A}$</th>\n",
    "\t<th>$f_{B}$</th>\n",
    "</tr>\n",
    "</thead>\n",
    "<tbody>\n",
    "\t<tr>\n",
    "        <th>架台設置形</th>\n",
    "\t\t<td>46</td>\n",
    "\t\t<td> 0.41</td>\n",
    "\t</tr>\n",
    "\t<tr>\n",
    "        <th>屋根置き形</th>\n",
    "\t\t<td>50</td>\n",
    "\t\t<td> 0.38</td>\n",
    "\t</tr>\n",
    "\t<tr>\n",
    "        <th>その他</th>\n",
    "\t\t<td>57</td>\n",
    "\t\t<td> 0.33</td>\n",
    "\t</tr>\n",
    "</tbody>\n",
    "</table>\n"
   ]
  }
 ],
 "metadata": {
  "kernelspec": {
   "display_name": "Python 3",
   "language": "python",
   "name": "python3"
  },
  "language_info": {
   "codemirror_mode": {
    "name": "ipython",
    "version": 3
   },
   "file_extension": ".py",
   "mimetype": "text/x-python",
   "name": "python",
   "nbconvert_exporter": "python",
   "pygments_lexer": "ipython3",
   "version": "3.6.7"
  }
 },
 "nbformat": 4,
 "nbformat_minor": 2
}
