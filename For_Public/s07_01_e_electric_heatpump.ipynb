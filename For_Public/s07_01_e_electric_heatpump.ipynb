{
 "cells": [
  {
   "cell_type": "code",
   "execution_count": null,
   "metadata": {},
   "outputs": [],
   "source": [
    "import numpy as np"
   ]
  },
  {
   "cell_type": "markdown",
   "metadata": {},
   "source": [
    "## 付録E　電気ヒートポンプ給湯機"
   ]
  },
  {
   "cell_type": "markdown",
   "metadata": {},
   "source": [
    "### E.1 記号及び単位"
   ]
  },
  {
   "cell_type": "markdown",
   "metadata": {},
   "source": [
    "省略"
   ]
  },
  {
   "cell_type": "markdown",
   "metadata": {},
   "source": [
    "### E.2 消費電力量"
   ]
  },
  {
   "cell_type": "markdown",
   "metadata": {},
   "source": [
    "1日当たりの沸き上げ時間$ \\Delta t_{wh} $は 8 時間とする。"
   ]
  },
  {
   "cell_type": "markdown",
   "metadata": {},
   "source": [
    "$$\\large\n",
    "E_{E,hs,d,t} = \\left\\{ \\begin{array}{ll}\n",
    "    (f_{ex} \\times \\theta_{ex,NAve,d} + f_{L} \\times L''_{d} + f_{e,rtd} \\times e_{rtd} + f_{itc})\\\\\n",
    "    \\large \\times (1 + f_{mode2} \\times r_{mode2}) \\times C_{LT,d} \\times C_{def,d} \\times 10^{3} \\div 3600 \\div \\Delta t_{wh} & \\big(t=0～6 \\big)\\\\ \n",
    "    0 & \\big(t=7～22 \\big)\\\\ \n",
    "    (f_{ex} \\times \\theta_{ex,NAve,d+1} + f_{L} \\times L''_{d+1} + f_{e,rtd} \\times e_{rtd} + f_{itc})\\\\\n",
    "    \\large \\times (1 + f_{mode2} \\times r_{mode2}) \\times C_{LT,d+1} \\times C_{def,d+1} \\times 10^{3} \\div 3600 \\div \\Delta t_{wh} & \\big(t=23 \\big)\\\\ \n",
    "    \\end{array}\n",
    "\\right.\n",
    "$$"
   ]
  },
  {
   "cell_type": "markdown",
   "metadata": {},
   "source": [
    "$C_{def,d}$：日付$d$における1 日当たりのデフロスト運転による補正係数(-)  \n",
    "$C_{LT,d}$：日付$d$における1 日当たりの低外気温領域でのヒートポンプ効率低下による補正係数(-)  \n",
    "$E_{E,hs,d,t}$：日付$d$の時刻$t$における1 日当たりの給湯機の消費電力量(kWh/h)  \n",
    "$e_{rtd}$：当該給湯機の効率(-)  \n",
    "$L''_{d}$：日付$d$における1 日当たりの太陽熱補正給湯熱負荷(MJ/d)  \n",
    "$r_{mode2}$：制御におけるセカンドモードの割合(-)  \n",
    "$\\Delta t_{wh}$：1日当たりの沸き上げ時間(h/d)  \n",
    "$\\theta_{ex,NAve,d}$：日付$d$における夜間平均外気温度(℃)  \n",
    "$f_{ex}, f_{L}, f_{e,rtd}, f_{itc}, f_{mode2}$：係数(-)  \n"
   ]
  },
  {
   "cell_type": "code",
   "execution_count": null,
   "metadata": {},
   "outputs": [],
   "source": [
    "# 1日当たりの給湯機の消費電力量 (1)\n",
    "def get_E_E_hs_d_t(L_dashdash_k_d_t, L_dashdash_s_d_t, L_dashdash_w_d_t, L_dashdash_b1_d_t, L_dashdash_b2_d_t,\n",
    "                   L_dashdash_ba1_d_t, L_dashdash_ba2_d_t,\n",
    "                   e_rtd=None, m1see=None, Theta_ex_Nave=None):\n",
    "    \"\"\"\n",
    "    :param L_dashdash_k_d_t: 1時間当たりの台所水栓における太陽熱補正給湯熱負荷 (MJ/h)\n",
    "    :param L_dashdash_s_d_t: 1時間当たりの浴室シャワー水栓における太陽熱補正給湯負荷 (MJ/h)\n",
    "    :param L_dashdash_w_d_t: 1時間当たりの洗面水栓における太陽熱補正給湯負荷 (MJ/h)\n",
    "    :param L_dashdash_b1_d_t: 1時間当たりの浴槽水栓湯はり時における太陽熱補正給湯負荷 (MJ/h)\n",
    "    :param L_dashdash_b2_d_t: 1時間当たりの浴槽自動湯はり時における太陽熱補正給湯負荷 (MJ/h)\n",
    "    :param L_dashdash_ba1_d_t: 1時間当たりの浴槽水栓さし湯時における太陽熱補正給湯負荷 (MJ/h)\n",
    "    :param L_dashdash_ba2_d_t: 1時間当たりの浴槽追焚時における太陽熱補正給湯負荷 (MJ/h)\n",
    "    :param e_rtd: 当該給湯機の効率\n",
    "    :param Theta_ex_Nave: 夜間平均外気温 (℃)\n",
    "    :param m1see: M1スタンダードに基づくJIS相当効率\n",
    "    :return: 1日当たりの給湯機の消費電力量 (kWh/d)\n",
    "    \"\"\"\n",
    "    # 効率の決定\n",
    "    if e_rtd is None:\n",
    "        if m1see is None:\n",
    "            e_rtd = get_e_rtd_default()\n",
    "        else:\n",
    "            e_rtd = m1see\n",
    "    else:\n",
    "        e_rtd = min(3.6, e_rtd)\n",
    "\n",
    "    # 係数\n",
    "    f_ex, f_L, f_e_rtd, f_itc, f_mode2 = get_coefficients()\n",
    "\n",
    "    # 制御におけるセカンドモードの割合\n",
    "    r_mode2 = get_r_mode2()\n",
    "\n",
    "    # 低外気温領域でのヒートポンプ効率低下による補正係数\n",
    "    C_LT_d = get_C_LT_d(Theta_ex_Nave)\n",
    "\n",
    "    # デフロスト運転における補正係数\n",
    "    C_def_d = get_C_def_d(Theta_ex_Nave)\n",
    "\n",
    "    # 太陽熱補正給湯熱負荷\n",
    "    L_dashdash_k_d = get_L_dashdash_k_d(L_dashdash_k_d_t)\n",
    "    L_dashdash_s_d = get_L_dashdash_s_d(L_dashdash_s_d_t)\n",
    "    L_dashdash_w_d = get_L_dashdash_w_d(L_dashdash_w_d_t)\n",
    "    L_dashdash_b1_d = get_L_dashdash_b1_d(L_dashdash_b1_d_t)\n",
    "    L_dashdash_b2_d = get_L_dashdash_b2_d(L_dashdash_b2_d_t)\n",
    "    L_dashdash_ba1_d = get_L_dashdash_ba1_d(L_dashdash_ba1_d_t)\n",
    "    L_dashdash_ba2_d = get_L_dashdash_ba2_d(L_dashdash_ba2_d_t)\n",
    "    L_dashdash_d = get_L_dashdash_d(L_dashdash_k_d, L_dashdash_s_d, L_dashdash_w_d, L_dashdash_b1_d, L_dashdash_b2_d,\n",
    "                                    L_dashdash_ba1_d, L_dashdash_ba2_d)\n",
    "\n",
    "    # 24時間化\n",
    "    Theta_ex_Nave = np.repeat(Theta_ex_Nave, 24)\n",
    "    L_dashdash_d = np.repeat(L_dashdash_d, 24)\n",
    "    C_LT_d = np.repeat(C_LT_d, 24)\n",
    "    C_def_d = np.repeat(C_def_d, 24)\n",
    "\n",
    "    # 1日後\n",
    "    Theta_ex_Nave_d_p1 = np.roll(Theta_ex_Nave, -24)\n",
    "    L_dashdash_d_p1 = np.roll(L_dashdash_d, -24)\n",
    "    C_LT_d_p1 = np.roll(C_LT_d, -24)\n",
    "    C_def_d_p1 = np.roll(C_def_d, -24)\n",
    "\n",
    "    E_E_hs_d_t = np.zeros(24 * 365)\n",
    "    t_wh = 8\n",
    "\n",
    "    # (1) t == 0 - 6\n",
    "    f1 = np.tile(np.arange(24) <= 6, 365)\n",
    "    E_E_hs_d_t[f1] = (f_ex * Theta_ex_Nave[f1] + f_L * L_dashdash_d[f1] + f_e_rtd * e_rtd + f_itc) \\\n",
    "                     * (1 + f_mode2 * r_mode2) * C_LT_d[f1] * C_def_d[f1] * 10 ** 3 / 3600 / t_wh\n",
    "\n",
    "    # (2) t == 7-22\n",
    "    f2 = np.tile(np.logical_and(7 <= np.arange(24), np.arange(24) <= 22), 365)\n",
    "    E_E_hs_d_t[f2] = 0\n",
    "\n",
    "    # (3) t == 23\n",
    "    f3 = np.tile(np.arange(24) == 23, 365)\n",
    "    E_E_hs_d_t[f3] = (f_ex * Theta_ex_Nave_d_p1[f3] + f_L * L_dashdash_d_p1[f3] + f_e_rtd * e_rtd + f_itc) \\\n",
    "                     * (1 + f_mode2 * r_mode2) * C_LT_d_p1[f3] * C_def_d_p1[f3] * 10 ** 3 / 3600 / t_wh\n",
    "\n",
    "    return E_E_hs_d_t"
   ]
  },
  {
   "cell_type": "markdown",
   "metadata": {},
   "source": [
    "<div style=\"text-align: center;font-weight: bold;\">表　係数</div>\n",
    "\n",
    "<table>\n",
    "<tr><th>$f_{ex}$</th><td>-0.302</td></tr>\n",
    "<tr><th>$f_{L}$</th><td>0.263</td></tr>\n",
    "<tr><th>$f_{e,rtd}$</th><td>-4.383</td></tr>\n",
    "<tr><th>$f_{itc}$</th><td>20.754</td></tr>\n",
    "<tr><th>$f_{mode2}$</th><td>0.235</td></tr>\n",
    "</table>\n"
   ]
  },
  {
   "cell_type": "code",
   "execution_count": null,
   "metadata": {},
   "outputs": [],
   "source": [
    "def get_coefficients():\n",
    "    # 表E.3 係数\n",
    "    table_e_3 = (\n",
    "        -0.302,\n",
    "        0.263,\n",
    "        -4.383,\n",
    "        20.754,\n",
    "        0.235\n",
    "    )\n",
    "    return table_e_3"
   ]
  },
  {
   "cell_type": "markdown",
   "metadata": {},
   "source": [
    "当該給湯機の効率$e_{rtd}$は、2.7 とするか、対象機器の JIS C 9220 に基づく年間給湯保温効率（JIS）、年間給湯効率（JIS）、M1 スタンダードに基づく JIS 相当効率を用いることができる。"
   ]
  },
  {
   "cell_type": "code",
   "execution_count": null,
   "metadata": {},
   "outputs": [],
   "source": [
    "# 規定の当該給湯器の効率\n",
    "def get_e_rtd_default():\n",
    "    return 2.7"
   ]
  },
  {
   "cell_type": "markdown",
   "metadata": {},
   "source": [
    "ふろ機能の種類が「ふろ給湯機（追焚あり）」の場合"
   ]
  },
  {
   "cell_type": "markdown",
   "metadata": {},
   "source": [
    "$$\\large\n",
    "e_{rtd} = e_{APF} -  0.7 \n",
    "$$"
   ]
  },
  {
   "cell_type": "markdown",
   "metadata": {},
   "source": [
    "ふろ機能の種類が「給湯単機能」又は「ふろ給湯機（追焚なし）」の場合"
   ]
  },
  {
   "cell_type": "markdown",
   "metadata": {},
   "source": [
    "$$\\large\n",
    "e_{rtd} = e_{APF} -  0.5 \n",
    "$$"
   ]
  },
  {
   "cell_type": "markdown",
   "metadata": {},
   "source": [
    "$e_{APF}$：年間給湯効率(-)  \n",
    "$e_{rtd}$：当該給湯機の効率(-)  "
   ]
  },
  {
   "cell_type": "markdown",
   "metadata": {},
   "source": [
    "換算した値は、3.6 を超える場合には 3.6 に等しいとする。"
   ]
  },
  {
   "cell_type": "code",
   "execution_count": null,
   "metadata": {},
   "outputs": [],
   "source": [
    "# e_APFからe_rtdへの変換\n",
    "def get_e_rtd(e_APF, bath_function):\n",
    "    \"\"\"\n",
    "    :param e_APF: 日本冷凍空調工業 会標準規格 JRA4050:2007R に基づく年間給湯効率（APF）\n",
    "    :param bath_function: ふろ機能の種類\n",
    "    :return: 当該給湯器の効率\n",
    "    \"\"\"\n",
    "    # e_APFからe_rtdへの変換\n",
    "    if bath_function == 'ふろ給湯機(追焚あり)':\n",
    "        e_rtd = e_APF - 0.7  # (2a)\n",
    "    elif bath_function == '給湯単機能' or bath_function == 'ふろ給湯機(追焚なし)':\n",
    "        e_rtd = e_APF - 0.5  # (2b)\n",
    "    else:\n",
    "        raise NotImplementedError()\n",
    "\n",
    "    # 換算値が3.6を超える場合は3.6に等しいとする\n",
    "    e_rtd = min(3.6, e_rtd)\n",
    "\n",
    "    return e_rtd"
   ]
  },
  {
   "cell_type": "markdown",
   "metadata": {},
   "source": [
    "制御におけるセカンドモードの割合$r_{mode2}$は0.4とする。 "
   ]
  },
  {
   "cell_type": "code",
   "execution_count": null,
   "metadata": {},
   "outputs": [],
   "source": [
    "def get_r_mode2():\n",
    "    return 0.4"
   ]
  },
  {
   "cell_type": "markdown",
   "metadata": {},
   "source": [
    "$$\\large\n",
    "C_{LT,d} = \\left\\{ \\begin{array}{ll}\n",
    "    1.0 &(7 \\leq \\theta_{ex,Nave,d}の場合)\\\\ \n",
    "    1.0 + 0.0133 \\times (7 - \\theta_{ex,Nave,d}) &(\\theta_{ex,Nave,d} < 7の場合)\\\\ \n",
    "    \\end{array}\n",
    "\\right.\n",
    "$$"
   ]
  },
  {
   "cell_type": "markdown",
   "metadata": {},
   "source": [
    "$C_{LT,d}$：日付$d$における1 日当たりの低外気温領域でのヒートポンプ効率低下による補正係数(-)  \n",
    "$\\theta_{ex,NAve,d}$：日付$d$における夜間平均外気温度(℃)  "
   ]
  },
  {
   "cell_type": "code",
   "execution_count": null,
   "metadata": {},
   "outputs": [],
   "source": [
    "# 1日当たりの低外気温領域でのヒートポンプ効率低下による補正係数 (3)\n",
    "def get_C_LT_d(Theta_ex_Nave):\n",
    "    \"\"\"\n",
    "    :param Theta_ex_Nave: 夜間平均外気温 (℃)\n",
    "    :return: 1日当たりの低外気温領域でのヒートポンプ効率低下による補正係数\n",
    "    \"\"\"\n",
    "    C_LT_d = np.ones(365)\n",
    "\n",
    "    # Theta_ex_Nave < 7 の場合\n",
    "    f = Theta_ex_Nave < 7\n",
    "    C_LT_d[f] = 1.0 + 0.0133 * (7 - Theta_ex_Nave[f])\n",
    "\n",
    "    return C_LT_d"
   ]
  },
  {
   "cell_type": "markdown",
   "metadata": {},
   "source": [
    "$$\\large\n",
    "C_{def,d} = \\left\\{ \\begin{array}{ll}\n",
    "    1.0 &(5 \\leq \\theta_{ex,Nave,d}の場合)\\\\ \n",
    "    1.175 - \\theta_{ex,Nave,d} \\times 0.035 &(2 \\leq \\theta_{ex,Nave,d}<5の場合)\\\\ \n",
    "    1.12 - \\theta_{ex,Nave,d} \\times 0.0075 &(-2 \\leq \\theta_{ex,Nave,d}<2の場合)\\\\ \n",
    "    1.155 + \\theta_{ex,Nave,d} \\times 0.01 &(-15.5 \\leq \\theta_{ex,Nave,d}<-2の場合)\\\\ \n",
    "    1.0 &(\\theta_{ex,Nave,d}<-15.5の場合)\\\\ \n",
    "    \\end{array}\n",
    "\\right.\n",
    "$$"
   ]
  },
  {
   "cell_type": "markdown",
   "metadata": {},
   "source": [
    "$C_{def,d}$：日付$d$における1 日当たりのデフロスト運転による補正係数(-)  \n",
    "$\\theta_{ex,NAve,d}$：日付$d$における夜間平均外気温度(℃)  "
   ]
  },
  {
   "cell_type": "code",
   "execution_count": null,
   "metadata": {},
   "outputs": [],
   "source": [
    "# 1日当たりのデフロスト運転における補正係数 (4)\n",
    "def get_C_def_d(Theta_ex_Nave):\n",
    "    \"\"\"\n",
    "    :param Theta_ex_Nave: 夜間平均外気温 (℃)\n",
    "    :return: 1日当たりのデフロスト運転における補正係数\n",
    "    \"\"\"\n",
    "    C_def_d = np.ones(365)\n",
    "\n",
    "    # 2 <= Theta_ex_Nave < 5 の場合\n",
    "    f1 = np.logical_and(2 <= Theta_ex_Nave, Theta_ex_Nave < 5)\n",
    "    C_def_d[f1] = 1.175 - Theta_ex_Nave[f1] * 0.035\n",
    "\n",
    "    # -2 <= Theta_ex_Nave < 2 の場合\n",
    "    f2 = np.logical_and(-2 <= Theta_ex_Nave, Theta_ex_Nave < 2)\n",
    "    C_def_d[f2] = 1.12 - Theta_ex_Nave[f2] * 0.0075\n",
    "\n",
    "    # -15.5 <= Theta_ex_Nave < -2 の場合\n",
    "    f3 = np.logical_and(-15.5 <= Theta_ex_Nave, Theta_ex_Nave < -2)\n",
    "    C_def_d[f3] = 1.155 + Theta_ex_Nave[f3] * 0.01\n",
    "\n",
    "    return C_def_d"
   ]
  },
  {
   "cell_type": "markdown",
   "metadata": {},
   "source": [
    "### E.3 ガス消費量"
   ]
  },
  {
   "cell_type": "markdown",
   "metadata": {},
   "source": [
    "日付$d$の時刻$t$における 1時間当たりの給湯機のガス消費量$E_{G,hs,d,t}$は0とする。"
   ]
  },
  {
   "cell_type": "code",
   "execution_count": null,
   "metadata": {},
   "outputs": [],
   "source": [
    "# 1時間当たりの給湯機のガス消費量 (MJ/h)\n",
    "def get_E_G_hs_d_t():\n",
    "    # 1日当たりの給湯機のガス消費量は0とする\n",
    "    return np.zeros(24 * 365)"
   ]
  },
  {
   "cell_type": "markdown",
   "metadata": {},
   "source": [
    "### E.4 灯油消費量"
   ]
  },
  {
   "cell_type": "markdown",
   "metadata": {},
   "source": [
    "日付$d$の時刻$t$における 1時間当たりの給湯機の灯油消費量$E_{K,hs,d,t}$は0とする。"
   ]
  },
  {
   "cell_type": "code",
   "execution_count": null,
   "metadata": {},
   "outputs": [],
   "source": [
    "# 1時間当たりの給湯機の灯油消費量 (MJ/h)\n",
    "def get_E_K_hs_d_t():\n",
    "    # 1日当たりの給湯機の灯油消費量は0とする\n",
    "    return np.zeros(24 * 365)"
   ]
  },
  {
   "cell_type": "markdown",
   "metadata": {},
   "source": [
    "### E.5 １日当たりの太陽熱補正給湯熱負荷"
   ]
  },
  {
   "cell_type": "markdown",
   "metadata": {},
   "source": [
    "$$\\large\n",
    "\\displaystyle\n",
    "L''_{d} = L''_{k,d}+L''_{s,d}+L''_{w,d}+L''_{b1,d}+L''_{b2,d}+L''_{ba1,d}+L''_{ba2,d}\n",
    "$$"
   ]
  },
  {
   "cell_type": "markdown",
   "metadata": {},
   "source": [
    "$ L''_{d} $：日付$d$における1 日当たりの太陽熱補正給湯熱負荷(MJ/d)  \n",
    "$ L''_{k,d} $：日付$d$における1 日当たりの台所水栓における太陽熱補正給湯熱負荷(MJ/d)  \n",
    "$ L''_{s,d} $：日付$d$における1 日当たりの浴室シャワー水栓における太陽熱補正給湯熱負荷(MJ/d)  \n",
    "$ L''_{w,d} $：日付$d$における1 日当たりの洗面水栓における太陽熱補正給湯熱負荷(MJ/d)  \n",
    "$ L''_{b1,d} $：日付$d$における1 日当たりの浴槽水栓湯はり時における太陽熱補正給湯熱負荷(MJ/d)  \n",
    "$ L''_{b2,d} $：日付$d$における1 日当たりの浴槽自動湯はり時における太陽熱補正給湯熱負荷(MJ/d)  \n",
    "$ L''_{ba1,d} $：日付$d$における1 日当たりの浴槽水栓さし湯時における太陽熱補正給湯熱負荷(MJ/d)  \n",
    "$ L''_{ba2,d} $：日付$d$における1 日当たりの浴槽追焚時における太陽熱補正給湯熱負荷(MJ/d)  "
   ]
  },
  {
   "cell_type": "code",
   "execution_count": null,
   "metadata": {},
   "outputs": [],
   "source": [
    "# 1日当たりの太陽熱補正給湯熱負荷 (5)\n",
    "def get_L_dashdash_d(L_dashdash_k_d, L_dashdash_s_d, L_dashdash_w_d, L_dashdash_b1_d, L_dashdash_b2_d, L_dashdash_ba1_d,\n",
    "                     L_dashdash_ba2_d):\n",
    "    \"\"\"\n",
    "    :param L_dashdash_k_d: 1日当たりの台所水栓における太陽熱補正給湯熱負荷 (MJ/d)\n",
    "    :param L_dashdash_s_d: 1日当たりの浴室シャワー水栓における太陽熱補正給湯負荷 (MJ/d)\n",
    "    :param L_dashdash_w_d: 1日当たりの洗面水栓における太陽熱補正給湯負荷 (MJ/d)\n",
    "    :param L_dashdash_b1_d: 1日当たりの浴槽水栓湯はり時における太陽熱補正給湯負荷 (MJ/d)\n",
    "    :param L_dashdash_b2_d: 1日当たりの浴槽自動湯はり時における太陽熱補正給湯負荷 (MJ/d)\n",
    "    :param L_dashdash_ba1_d: 1日当たりの浴槽水栓さし湯時における太陽熱補正給湯負荷 (MJ/d)\n",
    "    :param L_dashdash_ba2_d: 1日当たりの浴槽追焚時における太陽熱補正給湯負荷 (MJ/d)\n",
    "    :return: 1日当たりの太陽熱補正給湯熱負荷 (MJ/d)\n",
    "    \"\"\"\n",
    "    return L_dashdash_k_d \\\n",
    "           + L_dashdash_s_d \\\n",
    "           + L_dashdash_w_d \\\n",
    "           + L_dashdash_b1_d \\\n",
    "           + L_dashdash_b2_d \\\n",
    "           + L_dashdash_ba1_d \\\n",
    "           + L_dashdash_ba2_d"
   ]
  },
  {
   "cell_type": "markdown",
   "metadata": {},
   "source": [
    "$$\\large\n",
    "L''_{k,d} = \\sum_{t=0}^{23} L''_{k,d,t}\n",
    "$$\n",
    "\n",
    "$$\\large\n",
    "L''_{s,d} = \\sum_{t=0}^{23} L''_{s,d,t}\n",
    "$$\n",
    "\n",
    "$$\\large\n",
    "L''_{w,d} = \\sum_{t=0}^{23} L''_{w,d,t}\n",
    "$$\n",
    "\n",
    "$$\\large\n",
    "L''_{b1,d} = \\sum_{t=0}^{23} L''_{b1,d,t}\n",
    "$$\n",
    "\n",
    "$$\\large\n",
    "L''_{b2,d} = \\sum_{t=0}^{23} L''_{b2,d,t}\n",
    "$$\n",
    "\n",
    "$$\\large\n",
    "L''_{ba1,d} = \\sum_{t=0}^{23} L''_{ba1,d,t}\n",
    "$$\n",
    "\n",
    "$$\\large\n",
    "L''_{ba2,d} = \\sum_{t=0}^{23} L''_{ba2,d,t}\n",
    "$$"
   ]
  },
  {
   "cell_type": "markdown",
   "metadata": {},
   "source": [
    "$L''_{k,d}$：：日付$d$における1 日当たりの台所水栓における太陽熱補正給湯熱負荷(MJ/d)  \n",
    "$L''_{s,d}$：：日付$d$における1 日当たりの浴室シャワー水栓における太陽熱補正給湯熱負荷(MJ/d)  \n",
    "$L''_{w,d}$：：日付$d$における1 日当たりの洗面水栓における太陽熱補正給湯熱負荷(MJ/d)  \n",
    "$L''_{b1,d}$：：日付$d$における1 日当たりの浴槽水栓湯はり時における太陽熱補正給湯熱負荷(MJ/d)  \n",
    "$L''_{b2,d}$：：日付$d$における1 日当たりの浴槽自動湯はり時における太陽熱補正給湯熱負荷(MJ/d)  \n",
    "$L''_{ba1,d}$：日付$d$における1 日当たりの浴槽水栓さし湯時における太陽熱補正給湯熱負荷(MJ/d)  \n",
    "$L''_{ba2,d}$：日付$d$における1 日当たりの浴槽追焚時における太陽熱補正給湯熱負荷(MJ/d)  \n",
    "$ L''_{k,d,t} $：日付$d$の時刻$t$における 1時間当たりの台所水栓における太陽熱補正給湯熱負荷(MJ/h)  \n",
    "$ L''_{s,d,t} $：日付$d$の時刻$t$における 1時間当たりの浴室シャワー水栓における太陽熱補正給湯熱負荷(MJ/h)  \n",
    "$ L''_{w,d,t} $：日付$d$の時刻$t$における 1時間当たりの洗面水栓における太陽熱補正給湯熱負荷(MJ/h)  \n",
    "$ L''_{b1,d,t} $：日付$d$の時刻$t$における 1時間当たりの浴槽水栓湯はり時における太陽熱補正給湯熱負荷(MJ/h)  \n",
    "$ L''_{b2,d,t} $：日付$d$の時刻$t$における 1時間当たりの浴槽自動湯はり時における太陽熱補正給湯熱負荷(MJ/h)  \n",
    "$ L''_{ba1,d,t} $：日付$d$の時刻$t$における 1時間当たりの浴槽水栓さし湯時における太陽熱補正給湯熱負荷(MJ/h)  \n",
    "$ L''_{ba2,d,t} $：日付$d$の時刻$t$における 1時間当たりの浴槽追焚時における太陽熱補正給湯熱負荷(MJ/h)  "
   ]
  },
  {
   "cell_type": "code",
   "execution_count": null,
   "metadata": {},
   "outputs": [],
   "source": [
    "# 1日当たりの台所水栓における太陽熱補正給湯熱負荷 (MJ/d)\n",
    "def get_L_dashdash_k_d(L_dashdash_k_d_t):\n",
    "    \"\"\"\n",
    "    :param L_dashdash_k_d_t: 1時間当たりの台所水栓における太陽熱補正給湯熱負荷 (MJ/h)\n",
    "    :return: 1日当たりの台所水栓における太陽熱補正給湯熱負荷 (MJ/d)\n",
    "    \"\"\"\n",
    "    return np.sum(L_dashdash_k_d_t.reshape((365, 24)), axis=1)\n",
    "\n",
    "\n",
    "# 1日当たりの浴室シャワー水栓における太陽熱補正給湯負荷 (MJ/d)\n",
    "def get_L_dashdash_s_d(L_dashdash_s_d_t):\n",
    "    \"\"\"\n",
    "    :param L_dashdash_s_d_t: 1時間当たりの浴室シャワー水栓における太陽熱補正給湯負荷 (MJ/h)\n",
    "    :return: 1日当たりの浴室シャワー水栓における太陽熱補正給湯負荷 (MJ/d)\n",
    "    \"\"\"\n",
    "    return np.sum(L_dashdash_s_d_t.reshape((365, 24)), axis=1)\n",
    "\n",
    "\n",
    "# 1日当たりの洗面水栓における太陽熱補正給湯負荷 (MJ/d)\n",
    "def get_L_dashdash_w_d(L_dashdash_w_d_t):\n",
    "    \"\"\"\n",
    "    :param L_dashdash_w_d_t: 1時間当たりの洗面水栓における太陽熱補正給湯負荷 (MJ/h)\n",
    "    :return: 1日当たりの洗面水栓における太陽熱補正給湯負荷 (MJ/d)\n",
    "    \"\"\"\n",
    "    return np.sum(L_dashdash_w_d_t.reshape((365, 24)), axis=1)\n",
    "\n",
    "\n",
    "# 1日当たりの浴槽水栓湯はり時における太陽熱補正給湯負荷 (MJ/d)\n",
    "def get_L_dashdash_b1_d(L_dashdash_b1_d_t):\n",
    "    \"\"\"\n",
    "    :param L_dashdash_b1_d_t: 1時間当たりの浴槽水栓湯はり時における太陽熱補正給湯負荷 (MJ/h)\n",
    "    :return: 1日当たりの浴槽水栓湯はり時における太陽熱補正給湯負荷 (MJ/d)\n",
    "    \"\"\"\n",
    "    return np.sum(L_dashdash_b1_d_t.reshape((365, 24)), axis=1)\n",
    "\n",
    "\n",
    "# 1日当たりの浴槽自動湯はり時における太陽熱補正給湯負荷 (MJ/d)\n",
    "def get_L_dashdash_b2_d(L_dashdash_b2_d_t):\n",
    "    \"\"\"\n",
    "    :param L_dashdash_b2_d_t: 1時間当たりの浴槽自動湯はり時における太陽熱補正給湯負荷 (MJ/h)\n",
    "    :return: 1日当たりの浴槽自動湯はり時における太陽熱補正給湯負荷 (MJ/d)\n",
    "    \"\"\"\n",
    "    return np.sum(L_dashdash_b2_d_t.reshape((365, 24)), axis=1)\n",
    "\n",
    "\n",
    "# 1日当たりの浴槽水栓さし湯時における太陽熱補正給湯負荷 (MJ/d)\n",
    "def get_L_dashdash_ba1_d(L_dashdash_ba1_d_t):\n",
    "    \"\"\"\n",
    "    :param L_dashdash_ba1_d_t: 1時間当たりの浴槽水栓さし湯時における太陽熱補正給湯負荷 (MJ/h)\n",
    "    :return: 1日当たりの浴槽水栓さし湯時における太陽熱補正給湯負荷 (MJ/d)\n",
    "    \"\"\"\n",
    "    return np.sum(L_dashdash_ba1_d_t.reshape((365, 24)), axis=1)\n",
    "\n",
    "\n",
    "# 1日当たりの浴槽追焚時における太陽熱補正給湯負荷 (MJ/d)\n",
    "def get_L_dashdash_ba2_d(L_dashdash_ba2_d_t):\n",
    "    \"\"\"\n",
    "    :param L_dashdash_ba2_d_t: 1時間当たりの浴槽追焚時における太陽熱補正給湯負荷 (MJ/h)\n",
    "    :return: 1日当たりの浴槽追焚時における太陽熱補正給湯負荷 (MJ/d)\n",
    "    \"\"\"\n",
    "    return np.sum(L_dashdash_ba2_d_t.reshape((365, 24)), axis=1)"
   ]
  }
 ],
 "metadata": {
  "kernelspec": {
   "display_name": "Python 3",
   "language": "python",
   "name": "python3"
  },
  "language_info": {
   "codemirror_mode": {
    "name": "ipython",
    "version": 3
   },
   "file_extension": ".py",
   "mimetype": "text/x-python",
   "name": "python",
   "nbconvert_exporter": "python",
   "pygments_lexer": "ipython3",
   "version": "3.7.3"
  }
 },
 "nbformat": 4,
 "nbformat_minor": 2
}
