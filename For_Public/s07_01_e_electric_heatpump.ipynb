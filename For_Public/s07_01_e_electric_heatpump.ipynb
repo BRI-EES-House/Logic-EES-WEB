{
 "cells": [
  {
   "cell_type": "markdown",
   "metadata": {},
   "source": [
    "### 付録E　電気ヒートポンプ給湯機"
   ]
  },
  {
   "cell_type": "markdown",
   "metadata": {},
   "source": [
    "#### E.1 記号及び単位"
   ]
  },
  {
   "cell_type": "markdown",
   "metadata": {},
   "source": [
    "省略"
   ]
  },
  {
   "cell_type": "markdown",
   "metadata": {},
   "source": [
    "#### E.2 消費電力量"
   ]
  },
  {
   "cell_type": "markdown",
   "metadata": {},
   "source": [
    "$$\\large\n",
    "E_{E,hs} =\\{ f_{ex} \\times \\theta_{ex,NAve} + f_{L} \\times L'' + f_{e,rtd} \\times e_{rtd} + f_{itc} \\} \\\\\n",
    "\\large \\times (1 + f_{mode2} \\times r_{mode2}) \\times C_{LT} \\times C_{def} \\times 10^{3} \\div 3600\n",
    "$$"
   ]
  },
  {
   "cell_type": "markdown",
   "metadata": {},
   "source": [
    "$E_{E,hs}$：1 日当たりの給湯機の消費電力量(kWh/d)  \n",
    "$\\theta_{ex,NAve}$：夜間平均外気温度(℃)  \n",
    "$L''$：1 日当たりの太陽熱補正給湯熱負荷(MJ/d)  \n",
    "$r_{mode2}$：制御におけるセカンドモードの割合  \n",
    "$e_{rtd}$：当該給湯機の効率  \n",
    "$C_{LT}$：1 日当たりの低外気温領域でのヒートポンプ効率低下による補正係数  \n",
    "$C_{def}$：1 日当たりのデフロスト運転による補正係数  \n"
   ]
  },
  {
   "cell_type": "markdown",
   "metadata": {},
   "source": [
    "<div style=\"text-align: center;font-weight: bold;\">表　係数</div>\n",
    "\n",
    "<table>\n",
    "<tr><th>$f_{ex}$</th><td>-0.302</td></tr>\n",
    "<tr><th>$f_{L}$</th><td>0.263</td></tr>\n",
    "<tr><th>$f_{e,rtd}$</th><td>-4.383</td></tr>\n",
    "<tr><th>$f_{itc}$</th><td>20.754</td></tr>\n",
    "<tr><th>$f_{mode2}$</th><td>0.235</td></tr>\n",
    "</table>\n"
   ]
  },
  {
   "cell_type": "markdown",
   "metadata": {},
   "source": [
    "ふろ機能の種類が「ふろ給湯機（追焚あり）」の場合"
   ]
  },
  {
   "cell_type": "markdown",
   "metadata": {},
   "source": [
    "$$\\large\n",
    "e_{rtd} = e_{APF} -  0.7 \n",
    "$$"
   ]
  },
  {
   "cell_type": "markdown",
   "metadata": {},
   "source": [
    "ふろ機能の種類が「給湯単機能」又は「ふろ給湯機（追焚なし）」の場合"
   ]
  },
  {
   "cell_type": "markdown",
   "metadata": {},
   "source": [
    "$$\\large\n",
    "e_{rtd} = e_{APF} -  0.5 \n",
    "$$"
   ]
  },
  {
   "cell_type": "markdown",
   "metadata": {},
   "source": [
    "$e_{APF}$：年間給湯効率 "
   ]
  },
  {
   "cell_type": "markdown",
   "metadata": {},
   "source": [
    "換算した値は、3.6 を超える場合には 3.6 に等しいとする。"
   ]
  },
  {
   "cell_type": "markdown",
   "metadata": {},
   "source": [
    "制御におけるセカンドモードの割合$r_{mode2}$は0.4とする。 "
   ]
  },
  {
   "cell_type": "markdown",
   "metadata": {},
   "source": [
    "$$\\large\n",
    "C_{LT} = \\left\\{ \\begin{array}{ll}\n",
    "    1.0 &(7 \\leq \\theta_{ex,Nave}の場合)\\\\ \n",
    "    1.0 + 0.0133 \\times (7 - \\theta_{ex,Nave}) &(\\theta_{ex,Nave} < 7の場合)\\\\ \n",
    "    \\end{array}\n",
    "\\right.\n",
    "$$"
   ]
  },
  {
   "cell_type": "markdown",
   "metadata": {},
   "source": [
    "$$\\large\n",
    "C_{def} = \\left\\{ \\begin{array}{ll}\n",
    "    1.0 &(5 \\leq \\theta_{ex,Nave}の場合)\\\\ \n",
    "    1.175 - \\theta_{ex,Nave} \\times 0.035 &(2 \\leq \\theta_{ex,Nave}<5の場合)\\\\ \n",
    "    1.12 - \\theta_{ex,Nave} \\times 0.0075 &(-2 \\leq \\theta_{ex,Nave}<2の場合)\\\\ \n",
    "    1.155 + \\theta_{ex,Nave} \\times 0.01 &(-15.5 \\leq \\theta_{ex,Nave}<-2の場合)\\\\ \n",
    "    1.0 &(\\theta_{ex,Nave}<-15.5の場合)\\\\ \n",
    "    \\end{array}\n",
    "\\right.\n",
    "$$"
   ]
  },
  {
   "cell_type": "markdown",
   "metadata": {},
   "source": [
    "$$\\large\n",
    "\\displaystyle\n",
    "L'' = L''_{k}+L''_{s}+L''_{w}+L''_{b1}+L''_{b2}+L''_{ba1}+L''_{ba2}\n",
    "$$"
   ]
  },
  {
   "cell_type": "markdown",
   "metadata": {},
   "source": [
    "$ L''_{k} $：1 日当たりの台所水栓における太陽熱補正給湯熱負荷(MJ/d)  \n",
    "$ L''_{s} $：1 日当たりの浴室シャワー水栓における太陽熱補正給湯熱負荷(MJ/d)  \n",
    "$ L''_{w} $：1 日当たりの洗面水栓における太陽熱補正給湯熱負荷(MJ/d)  \n",
    "$ L''_{b1} $：1 日当たりの浴槽水栓湯はり時における太陽熱補正給湯熱負荷(MJ/d)  \n",
    "$ L''_{b2} $：1 日当たりの浴槽自動湯はり時における太陽熱補正給湯熱負荷(MJ/d)  \n",
    "$ L''_{ba1} $：1 日当たりの浴槽水栓さし湯時における太陽熱補正給湯熱負荷(MJ/d)  \n",
    "$ L''_{ba2} $：1 日当たりの浴槽追焚時における太陽熱補正給湯熱負荷(MJ/d)  "
   ]
  },
  {
   "cell_type": "markdown",
   "metadata": {},
   "source": [
    "#### E.3 ガス消費量"
   ]
  },
  {
   "cell_type": "markdown",
   "metadata": {},
   "source": [
    "1 日当たりの給湯機のガス消費量$E_{G,hs}$は0とする。"
   ]
  },
  {
   "cell_type": "markdown",
   "metadata": {},
   "source": [
    "#### E.4 灯油消費量"
   ]
  },
  {
   "cell_type": "markdown",
   "metadata": {},
   "source": [
    "1 日当たりの給湯機の灯油消費量$E_{K,hs}$は0とする。"
   ]
  }
 ],
 "metadata": {
  "kernelspec": {
   "display_name": "Python 3",
   "language": "python",
   "name": "python3"
  },
  "language_info": {
   "codemirror_mode": {
    "name": "ipython",
    "version": 3
   },
   "file_extension": ".py",
   "mimetype": "text/x-python",
   "name": "python",
   "nbconvert_exporter": "python",
   "pygments_lexer": "ipython3",
   "version": "3.6.7"
  }
 },
 "nbformat": 4,
 "nbformat_minor": 2
}
