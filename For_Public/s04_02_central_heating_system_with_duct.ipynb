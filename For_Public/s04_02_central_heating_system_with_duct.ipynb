{
 "cells": [
  {
   "cell_type": "code",
   "execution_count": null,
   "metadata": {},
   "outputs": [],
   "source": [
    "import numpy as np\n",
    "\n",
    "from section4_1 import \\\n",
    "    get_Q_T_H_A_d_t, \\\n",
    "    get_Q_UT_H_A_d_t, \\\n",
    "    get_Q_T_CS_A_d_t, \\\n",
    "    get_Q_T_CL_A_d_t\n",
    "\n",
    "from section11_1 import \\\n",
    "    load_outdoor, \\\n",
    "    get_T_ex, \\\n",
    "    get_Theta_ex, \\\n",
    "    get_X_ex, \\\n",
    "    get_h_ex"
   ]
  },
  {
   "cell_type": "markdown",
   "metadata": {},
   "source": [
    "## 第二節　ダクト式セントラル空調機"
   ]
  },
  {
   "cell_type": "markdown",
   "metadata": {},
   "source": [
    "1．適用範囲～4．記号及び単位は省略"
   ]
  },
  {
   "cell_type": "markdown",
   "metadata": {},
   "source": [
    "### 5．最大暖房出力"
   ]
  },
  {
   "cell_type": "markdown",
   "metadata": {},
   "source": [
    "$$\\large\n",
    "Q_{max,H,d,t} = q_{rtd,H} \\times C_{df,H,d,t} \\times 3600 \\times 10^{-6}\n",
    "$$"
   ]
  },
  {
   "cell_type": "markdown",
   "metadata": {},
   "source": [
    "$Q_{max,H,d,t}$：日付$d$の時刻$t$における1時間当たりの最大暖房出力(MJ/h)  \n",
    "$q_{rtd,H}$：定格暖房能力(W)   \n",
    "$C_{df,H,d,t}$：日付$d$の時刻$t$におけるデフロストに関する暖房出力補正係数  "
   ]
  },
  {
   "cell_type": "markdown",
   "metadata": {},
   "source": [
    "日付$d$の時刻$t$におけるデフロストに関する暖房出力補正係数$C_{df,H,d,t}$は、外気温度が5℃未満かつ相対湿度が80%以上の場合にデフロストが入ると仮定し、その場合の値を0.77とし、それ以外の条件においては1.0とする。"
   ]
  },
  {
   "cell_type": "code",
   "execution_count": null,
   "metadata": {},
   "outputs": [],
   "source": [
    "# 最大暖房出力 (1)\n",
    "def get_Q_max_H_d_t(region, q_rtd_H):\n",
    "    # 外気条件\n",
    "    outdoor = load_outdoor()\n",
    "    Theta_ex = get_Theta_ex(region, outdoor)\n",
    "    T_ex = get_T_ex(Theta_ex)\n",
    "    X_ex = get_X_ex(region, outdoor)\n",
    "    h_ex = get_h_ex(X_ex, Theta_ex)\n",
    "\n",
    "    # デフロストに関する暖房出力補正係数\n",
    "    C_df_H_d_t = np.ones(24 * 365)\n",
    "    C_df_H_d_t[(Theta_ex < 5.0) * (h_ex > 80.0)] = 0.77\n",
    "\n",
    "    return q_rtd_H * C_df_H_d_t * 3600 / 1000000"
   ]
  },
  {
   "cell_type": "markdown",
   "metadata": {},
   "source": [
    "### 6．暖房エネルギー消費量"
   ]
  },
  {
   "cell_type": "markdown",
   "metadata": {},
   "source": [
    "#### 6.1　消費電力量"
   ]
  },
  {
   "cell_type": "markdown",
   "metadata": {},
   "source": [
    "$Qr'_{T,H,d,t} \\geq 0.3$ の場合"
   ]
  },
  {
   "cell_type": "markdown",
   "metadata": {},
   "source": [
    "$$\n",
    "\\large\n",
    "E_{E,H,d,t} = ( a_1 \\times ( b_1 \\times \\theta_{ex,d,t} + b_2 \\times ln(Qr'_{T,H,d,t}) + b_3 )^{a2}  \\\\\n",
    "\\large\n",
    "+ c_1 \\times \\Biggl( \\frac{Qr'_{T,H,d,t}}{d_1 \\times \\theta_{ex,d,t} + d_2 \\times ln(Qr'_{T,H,d,t}) + d_3} \\Biggr)^{c_2} \\Biggr)\n",
    "\\times P_{rtd,H} \\times 10^{-3} \\times C_{pl,H}\n",
    "$$"
   ]
  },
  {
   "cell_type": "markdown",
   "metadata": {},
   "source": [
    "$Qr'_{T,H,d,t} < 0.3$ の場合"
   ]
  },
  {
   "cell_type": "markdown",
   "metadata": {},
   "source": [
    "$$\n",
    "\\large\n",
    "E_{E,H,d,t} = ( a_1 \\times ( b_1 \\times \\theta_{ex,d,t} + b_2 \\times ln(0.3) + b_3 )^{a_2}  \\\\\n",
    "\\large\n",
    "+ c_1 \\times \\Biggl( \\frac{0.3}{d_1 \\times \\theta_{ex,d,t} + d_2 \\times ln(0.3) + d_3} \\Biggr)^{c_2} \\Biggr)\n",
    "\\times P_{rtd,H} \\times \\frac{Qr'_{T,H,d,t}}{0.3} \\times 10^{-3} \\times C_{pl,H}\n",
    "$$"
   ]
  },
  {
   "cell_type": "markdown",
   "metadata": {},
   "source": [
    "$E_{E,H,d,t}$：日付$d$の時刻$t$における1時間当たりの消費電力量(kWh/h)  \n",
    "$\\theta_{ex,d,t}$：日付$d$の時刻$t$における外気温度(℃)  \n",
    "$Qr'_{T,H,d,t}$：日付$d$の時刻$t$における補正処理暖房負荷比    \n",
    "$P_{rtd,H}$：定格暖房消費電力(W)  \n",
    "$C_{pl,H}$：暖房時におけるダクト等圧力損失による消費電力量補正係数  "
   ]
  },
  {
   "cell_type": "markdown",
   "metadata": {},
   "source": [
    "<div style=\"text-align: center;font-weight: bold;\">表　係数</div>\n",
    "\n",
    "|係数|値|係数|値|\n",
    "|-|-|-|-|\n",
    "|$a_1$|0.0003124|$c_1$|0.003955|\n",
    "|$a_2$|1.923|$c_2$|2.001|\n",
    "|$b_1$|-0.7945|$d_1$| 7.442 $\\times 10^{-5}$|\n",
    "|$b_2$|21.54|$d_2$|0.09156|\n",
    "|$b_3$|73.02|$d_3$|0.2344|\n"
   ]
  },
  {
   "cell_type": "code",
   "execution_count": null,
   "metadata": {},
   "outputs": [],
   "source": [
    "def get_E_E_H_d_t(region, q_rtd_H, P_rtd_H, C_pl_H, L_H_d_t):\n",
    "    outdoor = load_outdoor()\n",
    "\n",
    "    # 表3 係数\n",
    "    a1 = 0.0003124\n",
    "    a2 = 1.923\n",
    "    b1 = -0.7945\n",
    "    b2 = 21.54\n",
    "    b3 = 73.02\n",
    "    c1 = 0.003955\n",
    "    c2 = 2.001\n",
    "    d1 = 7.442 * 10 ** (-5)\n",
    "    d2 = 0.09156\n",
    "    d3 = 0.2344\n",
    "\n",
    "    # 最大暖房出力\n",
    "    Q_max_H_d_t = get_Q_max_H_d_t(region, q_rtd_H)\n",
    "\n",
    "    # 処理負荷\n",
    "    Q_T_H_d_t = get_Q_T_H_A_d_t(Q_max_H_d_t, L_H_d_t)\n",
    "    print('L_T_H: {} [MJ/年]\\nQ_T_H: {} [MJ/年]'.format(np.sum(L_H_d_t), np.sum(Q_T_H_d_t)))\n",
    "\n",
    "    # 補正処理暖房負荷比\n",
    "    Q_r_dash_T_H_d_t = get_Q_r_dash_T_H_d_t(q_rtd_H, region, outdoor, Q_T_H_d_t)\n",
    "\n",
    "    # 外気条件\n",
    "    Theta_ex_d_t = get_Theta_ex(region, outdoor)\n",
    "\n",
    "    tmp_2a = np.zeros(24*365)\n",
    "    f2a = Q_r_dash_T_H_d_t >= 0.3\n",
    "    tmp_2a[f2a] = (a1 * np.power(b1 * Theta_ex_d_t[f2a] + b2 * np.log(Q_r_dash_T_H_d_t[f2a]) + b3, a2)\n",
    "                   + c1 * np.power(Q_r_dash_T_H_d_t[f2a] / (d1 * Theta_ex_d_t[f2a] + d2 * np.log(Q_r_dash_T_H_d_t[f2a]) + d3),\n",
    "                              c2)) * P_rtd_H * 10 ** (-3) * C_pl_H\n",
    "\n",
    "    tmp_2b = np.zeros(24*365)\n",
    "    f2b = Q_r_dash_T_H_d_t < 0.3\n",
    "    tmp_2b[f2b] = (a1 * np.power(b1 * Theta_ex_d_t[f2b] + b2 * np.log(0.3) + b3, a2)\n",
    "                   + c1 * np.power(0.3 / (d1 * Theta_ex_d_t[f2b] + d2 * np.log(0.3) + d3), c2)) * P_rtd_H * (\n",
    "                         Q_r_dash_T_H_d_t[f2b] / 0.3) * 10 ** (-3) * C_pl_H\n",
    "\n",
    "    E_E_H_d_t = tmp_2a + tmp_2b\n",
    "\n",
    "    return E_E_H_d_t"
   ]
  },
  {
   "cell_type": "markdown",
   "metadata": {},
   "source": [
    "$$\\large\n",
    "Qr'_{T,H,d,t} = \\frac{Q'_{T,H,d,t}}{q_{rtd,H} \\times 3600 \\times 10^{-6}}\n",
    "$$"
   ]
  },
  {
   "cell_type": "markdown",
   "metadata": {},
   "source": [
    "$q_{rtd,H,d,t}$：定格暖房能力(W)  \n",
    "$Q'_{T,H,d,t}$：日付$d$の時刻$t$における1時間当たりの補正処理暖房負荷(MJ/h)    "
   ]
  },
  {
   "cell_type": "code",
   "execution_count": null,
   "metadata": {},
   "outputs": [],
   "source": [
    "# 補正処理暖房負荷比 (3)\n",
    "def get_Q_r_dash_T_H_d_t(q_rtd_H, region, outdoor, Q_T_H_d_t):\n",
    "    # 補正処理暖房負荷\n",
    "    Q_dash_T_H_d_t = get_Q_dash_T_H_d_t(region, outdoor, Q_T_H_d_t)\n",
    "\n",
    "    return Q_dash_T_H_d_t / (q_rtd_H * 3600 / 1000000)"
   ]
  },
  {
   "cell_type": "markdown",
   "metadata": {},
   "source": [
    "$$\\large\n",
    "Q'_{T,H,d,t} = \\frac{Q_{T,H,d,t}}{C_{df,H,d,t}}\n",
    "$$"
   ]
  },
  {
   "cell_type": "markdown",
   "metadata": {},
   "source": [
    "$Q_{T,H,d,t}$：日付$d$の時刻$t$における1時間当たりの処理暖房負荷(MJ/h)  \n",
    "$C_{df,H,d,t}$：日付$d$の時刻$t$におけるデフロストに関する暖房出力補正係数    "
   ]
  },
  {
   "cell_type": "code",
   "execution_count": null,
   "metadata": {},
   "outputs": [],
   "source": [
    "# 補正処理暖房負荷 (4)\n",
    "def get_Q_dash_T_H_d_t(region, outdoor, Q_T_H_d_t):\n",
    "    # デフロストに関する暖房出力補正係数\n",
    "    C_df_H_d_t = get_C_df_H_d_t(region, outdoor)\n",
    "\n",
    "    # 補正処理暖房負荷\n",
    "    Q_dash_T_H_d_t = Q_T_H_d_t / C_df_H_d_t\n",
    "\n",
    "    return Q_dash_T_H_d_t"
   ]
  },
  {
   "cell_type": "markdown",
   "metadata": {},
   "source": [
    "日付$d$の時刻$t$におけるデフロストに関する暖房出力補正係数$C_{df,H,d,t}$は、外気温度が5℃未満かつ相対湿度が80%以上の場合にデフロストが入ると仮定し、その場合の値を0.77とし、それ以外の条件においては1.0とする。"
   ]
  },
  {
   "cell_type": "code",
   "execution_count": null,
   "metadata": {},
   "outputs": [],
   "source": [
    "# デフロストに関する暖房出力補正係数\n",
    "def get_C_df_H_d_t(region, outdoor):\n",
    "    # 外気条件\n",
    "    Theta_ex = get_Theta_ex(region, outdoor)\n",
    "    X_ex = get_X_ex(region, outdoor)\n",
    "    h_ex = get_h_ex(X_ex, Theta_ex)\n",
    "\n",
    "    # 外気温度が5℃未満かつ相対湿度が80%以上の場合にデフロストが入ると仮定\n",
    "    C_df_H_d_t = np.ones(24 * 365)\n",
    "    C_df_H_d_t[(Theta_ex < 5.0) * (h_ex > 80.0)] = 0.77\n",
    "\n",
    "    return C_df_H_d_t"
   ]
  },
  {
   "cell_type": "markdown",
   "metadata": {},
   "source": [
    "#### 6.2　ガス消費量"
   ]
  },
  {
   "cell_type": "markdown",
   "metadata": {},
   "source": [
    "日付$d$の時刻$t$における１時間当たりのガス消費量$E_{G,H,d,t}$は0とする。"
   ]
  },
  {
   "cell_type": "code",
   "execution_count": null,
   "metadata": {},
   "outputs": [],
   "source": [
    "def get_E_G_H_d_t():\n",
    "    # ガス消費量は0とする\n",
    "    return np.zeros(24 * 365)"
   ]
  },
  {
   "cell_type": "markdown",
   "metadata": {},
   "source": [
    "#### 6.3　灯油消費量"
   ]
  },
  {
   "cell_type": "markdown",
   "metadata": {},
   "source": [
    "日付$d$の時刻$t$における１時間当たりの灯油消費量$E_{K,H,d,t}$は0とする。"
   ]
  },
  {
   "cell_type": "code",
   "execution_count": null,
   "metadata": {},
   "outputs": [],
   "source": [
    "def get_E_K_H_d_t():\n",
    "    # 灯油消費量は0とする\n",
    "    return np.zeros(24 * 365)"
   ]
  },
  {
   "cell_type": "markdown",
   "metadata": {},
   "source": [
    "#### 6.4　その他の燃料による一次エネルギー消費量"
   ]
  },
  {
   "cell_type": "markdown",
   "metadata": {},
   "source": [
    "日付$d$の時刻$t$における１時間当たりのその他の燃料による一次エネルギー消費量$E_{M,H,d,t}$は0とする。"
   ]
  },
  {
   "cell_type": "code",
   "execution_count": null,
   "metadata": {},
   "outputs": [],
   "source": [
    "def get_E_M_H_d_t():\n",
    "    # その他の燃料による一次エネルギー消費量は0とする\n",
    "    return np.zeros(24 * 365)"
   ]
  },
  {
   "cell_type": "markdown",
   "metadata": {},
   "source": [
    "### 7．最大冷房出力"
   ]
  },
  {
   "cell_type": "markdown",
   "metadata": {},
   "source": [
    "#### 7.1　最大冷房出力の計算"
   ]
  },
  {
   "cell_type": "markdown",
   "metadata": {},
   "source": [
    "$$\\large\n",
    "Q_{max,C,d,t} = q_{rtd,C} \\times 3600 \\times 10^{-6}\n",
    "$$"
   ]
  },
  {
   "cell_type": "markdown",
   "metadata": {},
   "source": [
    "$Q_{max,C,d,t}$：日付$d$の時刻$t$における1時間当たりの最大冷房出力(MJ/h)  \n",
    "$q_{rtd,C}$：定格冷房能力(W)  "
   ]
  },
  {
   "cell_type": "code",
   "execution_count": null,
   "metadata": {},
   "outputs": [],
   "source": [
    "# 最大冷房出力 (5)\n",
    "def get_Q_max_C_d_t(q_rtd_C):\n",
    "    return np.ones(24 * 365) * (q_rtd_C * 3600 / 1000000"
   ]
  },
  {
   "cell_type": "markdown",
   "metadata": {},
   "source": [
    "#### 7.2　最大冷房顕熱出力及び最大冷房潜熱出力の計算"
   ]
  },
  {
   "cell_type": "markdown",
   "metadata": {},
   "source": [
    "$$\\large\n",
    "Q_{max,CS,d,t} = Q_{max,C,d,t} \\times SHF'_{d,t}\n",
    "$$\n",
    "\n",
    "$$\\large\n",
    "Q_{max,CL,d,t} = min(Q_{max,C,d,t} \\times (1 - SHF'_{d,t}),  L'_{CL,d,t})\n",
    "$$"
   ]
  },
  {
   "cell_type": "markdown",
   "metadata": {},
   "source": [
    "$Q_{max,CS,d,t}$：日付$d$の時刻$t$における1時間当たりの最大冷房顕熱出力(MJ/h)  \n",
    "$Q_{max,CL,d,t}$：日付$d$の時刻$t$における1時間当たりの最大冷房潜熱出力(MJ/h)  \n",
    "$SHF'_{d,t}$：日付$d$の時刻$t$における冷房負荷補正顕熱比  \n",
    "$L'_{CL,d,t}$：日付$d$の時刻$t$における1時間当たりの補正冷房潜熱負荷(MJ/h)  \n",
    "$Q_{max,C,d,t}$：日付$d$の時刻$t$における1時間当たりの最大冷房出力(MJ/h)  "
   ]
  },
  {
   "cell_type": "code",
   "execution_count": null,
   "metadata": {},
   "outputs": [],
   "source": [
    "# 1時間当たりの最大冷房顕熱出力\n",
    "def get_Q_max_CS_d_t(Q_max_C_d_t, SHF_dash_d_t):\n",
    "    return Q_max_C_d_t * SHF_dash_d_t\n",
    "\n",
    "\n",
    "# 1時間当たりの最大冷房潜熱出力\n",
    "def get_Q_max_CL_d_t(Q_max_C_d_t, SHF_dash_d_t, L_dash_CL_d_t):\n",
    "    return np.min([Q_max_C_d_t * (1.0 - SHF_dash_d_t), L_dash_CL_d_t], axis=0)"
   ]
  },
  {
   "cell_type": "markdown",
   "metadata": {},
   "source": [
    "$$\\large\n",
    "SHF'_{d,t} = \\frac{L_{CS,d,t}}{L'_{C,d,t}}\n",
    "$$"
   ]
  },
  {
   "cell_type": "markdown",
   "metadata": {},
   "source": [
    "$L_{CS,d,t}$：日付$d$の時刻$t$における1時間当たりの冷房顕熱負荷(MJ/h)  \n",
    "$L'_{C,d,t}$：日付$d$の時刻$t$における1時間当たりの補正冷房負荷(MJ/h)  "
   ]
  },
  {
   "cell_type": "markdown",
   "metadata": {},
   "source": [
    "日付$d$の時刻$t$における１時間当たりの補正冷房負荷$L'_{C,d,t}$が0の場合、$SHF'_{d,t}$ = 0とする。"
   ]
  },
  {
   "cell_type": "code",
   "execution_count": null,
   "metadata": {},
   "outputs": [],
   "source": [
    "# 冷房負荷補正顕熱比 (7)\n",
    "def get_SHF_dash_d_t(L_CS_d_t, L_dash_C_d_t):\n",
    "    SHF_dash_d_t = np.zeros(24*365)\n",
    "\n",
    "    f = L_dash_C_d_t != 0\n",
    "    SHF_dash_d_t[f] = L_CS_d_t[f] / L_dash_C_d_t[f]\n",
    "\n",
    "    return SHF_dash_d_t"
   ]
  },
  {
   "cell_type": "markdown",
   "metadata": {},
   "source": [
    "$$\\large\n",
    "L'_{c,d,t} = L_{CS,d,t} + L'_{CL,d,t}\n",
    "$$"
   ]
  },
  {
   "cell_type": "markdown",
   "metadata": {},
   "source": [
    "$$\\large\n",
    "L'_{CL,d,t} = min(L_{max,CL,d,t},  L_{CL,d,t})\n",
    "$$"
   ]
  },
  {
   "cell_type": "markdown",
   "metadata": {},
   "source": [
    "$$\\large\n",
    "L_{max,CL,d,t} = L_{CS,d,t} \\times \\frac{1 - SHF_{L,min,C}}{SHF_{L,min,C}}\n",
    "$$"
   ]
  },
  {
   "cell_type": "markdown",
   "metadata": {},
   "source": [
    "$L_{max,CL,d,t}$：日付$d$の時刻$t$における1時間当たりの最大冷房潜熱負荷(MJ/h)  \n",
    "$L_{CL,d,t}$：日付$d$の時刻$t$における1時間当たりの冷房潜熱負荷(MJ/h)  \n",
    "$SHF_{L,min,C}$：冷房負荷最小顕熱比  "
   ]
  },
  {
   "cell_type": "code",
   "execution_count": null,
   "metadata": {},
   "outputs": [],
   "source": [
    "# 1時間当たりの補正冷房負荷 (8)\n",
    "def get_L_dash_C_d_t(L_CS_d_t, L_dash_CL_d_t):\n",
    "    return L_CS_d_t + L_dash_CL_d_t\n",
    "\n",
    "\n",
    "# 1時間当たりの補正冷房潜熱負荷 (9)\n",
    "def get_L_dash_CL_d_t(L_max_CL_d_t, L_CL_d_t):\n",
    "    return np.min([L_max_CL_d_t, L_CL_d_t], axis=0)\n",
    "\n",
    "\n",
    "# 1時間当たりの最大冷房潜熱負荷 (10)\n",
    "def get_L_max_CL_d_t(L_CS_d_t):\n",
    "    # 冷房負荷最小顕熱比率\n",
    "    SHF_L_min_C = get_SHF_L_min_C()\n",
    "\n",
    "    return L_CS_d_t * (1.0 - SHF_L_min_C) / SHF_L_min_C"
   ]
  },
  {
   "cell_type": "markdown",
   "metadata": {},
   "source": [
    "冷房負荷最小顕熱比$SHF_{L,min,C}$は0.4 とする。"
   ]
  },
  {
   "cell_type": "code",
   "execution_count": null,
   "metadata": {},
   "outputs": [],
   "source": [
    "# 冷房負荷最小顕熱比率\n",
    "def get_SHF_L_min_C():\n",
    "    return 0.4"
   ]
  },
  {
   "cell_type": "markdown",
   "metadata": {},
   "source": [
    "### 8．冷房エネルギー消費量"
   ]
  },
  {
   "cell_type": "markdown",
   "metadata": {},
   "source": [
    "#### 8.1　消費電力量"
   ]
  },
  {
   "cell_type": "markdown",
   "metadata": {},
   "source": [
    "$Qr_{T,C,d,t} \\geq 0.3$ の場合"
   ]
  },
  {
   "cell_type": "markdown",
   "metadata": {},
   "source": [
    "$$\\large\n",
    "E_{E,C,d,t} = (a_1 \\times (b)^{a_2} + c_1 \\times (d)^{c_2}) \\times P_{rtd,C} \\times 10^{-3} \\times C_{pl,C}\n",
    "$$\n",
    "\n",
    "$$\\large\n",
    "\\left\\{ \\begin{array}{ll}\n",
    "    b = max(\\theta_{ex,d,t} - b_1 \\times \\theta_{ex,d,t} - b_2 \\times ln(X_{ex,d,t}) - b_3 \\times ln(Qr_{T,C,d,t}) - b_{4},0)\\\\ \n",
    "    d = exp(d_1 \\times \\theta_{ex,d,t} + d_2 \\times ln(X_{ex,d,t}) + d_3 \\times ln(Qr_{T,C,d,t}) + d_4)\\\\ \n",
    "    \\end{array}\n",
    "\\right.\n",
    "$$"
   ]
  },
  {
   "cell_type": "markdown",
   "metadata": {},
   "source": [
    "$Qr_{T,C,d,t} < 0.3$ の場合"
   ]
  },
  {
   "cell_type": "markdown",
   "metadata": {},
   "source": [
    "$$\\large\n",
    "E_{E,C,d,t} = (a_1 \\times (b)^{a_2} + c_1 \\times (d)^{c_2}) \\times P_{rtd,C} \\times \\frac{Qr_{T,C,d,t}}{0.3} \\times 10^{-3} \\times C_{pl,C}\n",
    "$$\n",
    "\n",
    "$$\\large\n",
    "\\left\\{ \\begin{array}{ll}\n",
    "    b = max(\\theta_{ex,d,t} - b_1 \\times \\theta_{ex,d,t} - b_2 \\times ln(X_{ex,d,t}) - b_3 \\times ln(0.3) - b_{4},0)\\\\ \n",
    "    d = exp(d_1 \\times \\theta_{ex,d,t} + d_2 \\times ln(X_{ex,d,t}) + d_3 \\times ln(0.3) + d_4)\\\\ \n",
    "    \\end{array}\n",
    "\\right.\n",
    "$$"
   ]
  },
  {
   "cell_type": "markdown",
   "metadata": {},
   "source": [
    "$E_{E,C,d,t}$：日付$d$の時刻$t$における1時間当たりの消費電力量(kWh/h)  \n",
    "$\\theta_{ex,d,t}$：日付$d$の時刻$t$における外気温度(℃)    \n",
    "$X_{ex,d,t}$：日付$d$の時刻$t$における外気絶対湿度(kg/kg(DA))    \n",
    "$Qr_{T,C,d,t}$：日付$d$の時刻$t$における処理冷房負荷比    \n",
    "$P_{rtd,C}$：定格冷房消費電力(W)    \n",
    "$C_{pl,C}$：冷房時におけるダクト等圧力損失による消費電力量補正係数  "
   ]
  },
  {
   "cell_type": "markdown",
   "metadata": {},
   "source": [
    "<div style=\"text-align: center;font-weight: bold;\">表　係数</div>\n",
    "\n",
    "|係数|値|係数|値|\n",
    "|-|-|-|-|\n",
    "|$a_1$|0.001052|$c_1$|0.003939|\n",
    "|$a_2$|2.051|$c_2$|1.058|\n",
    "|$b_1$|0.241|$d_1$|0.0593|\n",
    "|$b_2$|0.04985|$d_2$|0.08193|\n",
    "|$b_3$|0.2083|$d_3$|1.257|\n",
    "|$b_4$|−2.391|$d_4$|1.586|\n"
   ]
  },
  {
   "cell_type": "code",
   "execution_count": null,
   "metadata": {},
   "outputs": [],
   "source": [
    "def get_E_E_C_d_t(region, q_rtd_C, P_rtd_C, C_pl_C, L_CS_d_t, L_CL_d_t):\n",
    "    # 表4 式(11))中の係数\n",
    "    a1 = 0.001052\n",
    "    a2 = 2.051\n",
    "    b1 = 0.241\n",
    "    b2 = 0.04985\n",
    "    b3 = 0.2083\n",
    "    b4 = -2.391\n",
    "    c1 = 0.003939\n",
    "    c2 = 1.058\n",
    "    d1 = 0.0593\n",
    "    d2 = 0.08193\n",
    "    d3 = 1.257\n",
    "    d4 = 1.586\n",
    "\n",
    "    # 外気条件\n",
    "    outdoor = load_outdoor()\n",
    "    Theta_ex_d_t = get_Theta_ex(region, outdoor)\n",
    "    X_ex_d_t = get_X_ex(region, outdoor) * 10 ** (-3)\n",
    "\n",
    "    # 最大冷房出力\n",
    "    Q_max_C_d_t = get_Q_max_C_d_t(q_rtd_C)\n",
    "\n",
    "    # 最大冷房潜熱負荷\n",
    "    L_max_CL_d_t = get_L_max_CL_d_t(L_CS_d_t)\n",
    "\n",
    "    # 補正冷房潜熱負荷\n",
    "    L_dash_CL_d_t = get_L_dash_CL_d_t(L_max_CL_d_t, L_CL_d_t)\n",
    "    L_dash_C_d_t = get_L_dash_C_d_t(L_CS_d_t, L_dash_CL_d_t)\n",
    "\n",
    "    # 冷房負荷補正顕熱比\n",
    "    SHF_dash_d_t = get_SHF_dash_d_t(L_CS_d_t, L_dash_C_d_t)\n",
    "\n",
    "    # 最大冷房顕熱出力, 最大冷房潜熱出力\n",
    "    Q_max_CS_d_t = get_Q_max_CS_d_t(Q_max_C_d_t, SHF_dash_d_t)\n",
    "    Q_max_CL_d_t = get_Q_max_CL_d_t(Q_max_C_d_t, SHF_dash_d_t, L_dash_CL_d_t)\n",
    "\n",
    "    # 処理顕熱負荷、処理潜熱負荷\n",
    "    Q_T_CS_d_t = get_Q_T_CS_A_d_t(Q_max_CS_d_t, L_CS_d_t)\n",
    "    Q_T_CL_d_t = get_Q_T_CL_A_d_t(Q_max_CL_d_t, L_CL_d_t)\n",
    "\n",
    "    # 処理冷房負荷\n",
    "    Q_T_C_d_t = get_Q_T_C_d_t(Q_T_CS_d_t, Q_T_CL_d_t)\n",
    "\n",
    "    # 処理冷房負荷比\n",
    "    Q_r_T_C_d_t = get_Q_r_T_C_d_t(q_rtd_C, Q_T_C_d_t)\n",
    "\n",
    "    # (11a)\n",
    "    E_E_C_d_t = np.zeros(24*365)\n",
    "    f_11a = Q_r_T_C_d_t >= 0.3\n",
    "    b = np.clip(Theta_ex_d_t[f_11a] - b1 * Theta_ex_d_t[f_11a] - b2 * np.log(X_ex_d_t[f_11a]) - b3 * np.log(Q_r_T_C_d_t[f_11a]) - b4, 0, None)\n",
    "    d = np.exp(d1 * Theta_ex_d_t[f_11a] + d2 * np.log(X_ex_d_t[f_11a]) + d3 * np.log(Q_r_T_C_d_t[f_11a]) + d4)\n",
    "    E_E_C_d_t[f_11a] = (a1 * np.power(b, a2) + c1 * np.power(d, c2)) * P_rtd_C * 10 ** (-3) * C_pl_C\n",
    "\n",
    "    # (11b)\n",
    "    f_11b = np.logical_and(0 < Q_r_T_C_d_t, Q_r_T_C_d_t < 0.3)\n",
    "    b = np.clip(Theta_ex_d_t[f_11b] - b1 * Theta_ex_d_t[f_11b] - b2 * np.log(X_ex_d_t[f_11b]) - b3 * np.log(0.3) - b4, 0, None)\n",
    "    d = np.exp(d1 * Theta_ex_d_t[f_11b] + d2 * np.log(X_ex_d_t[f_11b]) + d3 * np.log(0.3) + d4)\n",
    "    E_E_C_d_t[f_11b] = (a1 * np.power(b, a2) + c1 * np.power(d, c2)) * P_rtd_C * (Q_r_T_C_d_t[f_11b] / 0.3) * 10 ** (-3) * C_pl_C\n",
    "\n",
    "    return E_E_C_d_t"
   ]
  },
  {
   "cell_type": "markdown",
   "metadata": {},
   "source": [
    "$$\\large\n",
    "Qr_{T,C,d,t} = \\frac{Q_{T,C,d,t}}{q_{rtd,C} \\times 3600 \\times 10^{-6}}\n",
    "$$"
   ]
  },
  {
   "cell_type": "markdown",
   "metadata": {},
   "source": [
    "$Q_{T,C,d,t}$：日付$d$の時刻$t$における1時間当たりの処理冷房負荷(MJ/h)  \n",
    "$q_{rtd,C}$：定格冷房能力(W)"
   ]
  },
  {
   "cell_type": "code",
   "execution_count": null,
   "metadata": {},
   "outputs": [],
   "source": [
    "# 処理冷房負荷比 (12)\n",
    "def get_Q_r_T_C_d_t(q_rtd_C, Q_T_C_d_t):\n",
    "    return Q_T_C_d_t / (q_rtd_C * 3600 / 1000000)"
   ]
  },
  {
   "cell_type": "markdown",
   "metadata": {},
   "source": [
    "$$\\large\n",
    "Q_{T,C,d,t} = Q_{T,CS,d,t} + Q_{T,CL,d,t}\n",
    "$$"
   ]
  },
  {
   "cell_type": "markdown",
   "metadata": {},
   "source": [
    "$Q_{T,CS,d,t}$：日付$d$の時刻$t$における1時間当たりの処理冷房顕熱負荷(MJ/h)  \n",
    "$Q_{T,CL,d,t}$：日付$d$の時刻$t$における1時間当たりの処理冷房潜熱負荷(MJ/h)  "
   ]
  },
  {
   "cell_type": "code",
   "execution_count": null,
   "metadata": {},
   "outputs": [],
   "source": [
    "# 処理冷房負荷 (13)\n",
    "def get_Q_T_C_d_t(Q_T_CS_d_t, Q_T_CL_d_t):\n",
    "    return Q_T_CS_d_t + Q_T_CL_d_t"
   ]
  },
  {
   "cell_type": "markdown",
   "metadata": {},
   "source": [
    "#### 8.2　ガス消費量"
   ]
  },
  {
   "cell_type": "markdown",
   "metadata": {},
   "source": [
    "日付$d$の時刻$t$における１時間当たりのガス消費量$E_{G,C,d,t}$は0とする。"
   ]
  },
  {
   "cell_type": "code",
   "execution_count": null,
   "metadata": {},
   "outputs": [],
   "source": [
    "def get_E_G_C_d_t():\n",
    "    # ガス消費量は0とする\n",
    "    return np.zeros(24 * 365)"
   ]
  },
  {
   "cell_type": "markdown",
   "metadata": {},
   "source": [
    "#### 8.3　灯油消費量"
   ]
  },
  {
   "cell_type": "markdown",
   "metadata": {},
   "source": [
    "日付$d$の時刻$t$における１時間当たりの灯油消費量$E_{K,C,d,t}$は0とする。"
   ]
  },
  {
   "cell_type": "code",
   "execution_count": null,
   "metadata": {},
   "outputs": [],
   "source": [
    "def get_E_K_C_d_t():\n",
    "    # 灯油消費量は0とする\n",
    "    return np.zeros(24 * 365)"
   ]
  },
  {
   "cell_type": "markdown",
   "metadata": {},
   "source": [
    "#### 8.4　その他の燃料による一次エネルギー消費量"
   ]
  },
  {
   "cell_type": "markdown",
   "metadata": {},
   "source": [
    "日付$d$の時刻$t$における１時間当たりのその他の燃料による一次エネルギー消費量$E_{M,C,d,t}$は0とする。"
   ]
  },
  {
   "cell_type": "code",
   "execution_count": null,
   "metadata": {},
   "outputs": [],
   "source": [
    "def get_E_M_C_d_t():\n",
    "    # その他の燃料による一次エネルギー消費量は0とする\n",
    "    return np.zeros(24 * 365)"
   ]
  },
  {
   "cell_type": "markdown",
   "metadata": {},
   "source": [
    "## 付録 A 機器の性能を表す仕様の決定方法"
   ]
  },
  {
   "cell_type": "markdown",
   "metadata": {},
   "source": [
    "### A.1　定格能力"
   ]
  },
  {
   "cell_type": "markdown",
   "metadata": {},
   "source": [
    "$$\\large\n",
    "q_{rtd,H} = q_{rq,H} \\times A_{A} \\times f_{CT} \\times f_{CL}\n",
    "$$\n",
    "\n",
    "$$\\large\n",
    "q_{rtd,C} = q_{rq,C} \\times A_{A} \\times f_{CT} \\times f_{CL}\n",
    "$$"
   ]
  },
  {
   "cell_type": "markdown",
   "metadata": {},
   "source": [
    "$q_{rtd,H}$：定格暖房能力(W)  \n",
    "$q_{rtd,C}$：定格冷房能力(W)  \n",
    "$q_{rq,H}$：単位面積当たりの必要暖房能力(W/m<sup>2</sup>)  \n",
    "$q_{rq,C}$：単位面積当たりの必要冷房能力(W/m<sup>2</sup>)  \n",
    "$A_{A}$：床面積の合計(m<sup>2</sup>)   \n",
    "$f_{CT}$：外気温度能力補正係数   \n",
    "$f_{CL}$：間歇運転能力補正係数  "
   ]
  },
  {
   "cell_type": "code",
   "execution_count": null,
   "metadata": {},
   "outputs": [],
   "source": [
    "# 定格暖房能力(W)\n",
    "def get_q_rtd_H(region, A_A):\n",
    "    q_rq_H = get_q_rq_H(region)\n",
    "    return q_rq_H * A_A * f_CT * f_CL \n",
    "\n",
    "\n",
    "# 定格冷房能力(W)\n",
    "def get_q_rtd_C(region, A_A):\n",
    "    q_rq_C = get_q_rq_C(region)\n",
    "    return q_rq_C * A_A * f_CT * f_CL\n",
    "\n",
    "# 単位面積当たりの必要暖房能力\n",
    "def get_q_rq_H(region):\n",
    "    return table_a_1[0][region - 1]\n",
    "\n",
    "\n",
    "# 単位面積当たりの必要冷房能力\n",
    "def get_q_rq_C(region):\n",
    "    return table_a_1[1][region - 1]"
   ]
  },
  {
   "cell_type": "markdown",
   "metadata": {},
   "source": [
    "外気温度能力補正係数$f_{CT}$は、1.05の値とする。間歇運転能力補正係数$f_{CL}$は、1.0とする。"
   ]
  },
  {
   "cell_type": "code",
   "execution_count": null,
   "metadata": {},
   "outputs": [],
   "source": [
    "# 外気温度能力補正係数\n",
    "f_CT = 1.05\n",
    "\n",
    "# 間歇運転能力補正係数\n",
    "f_CL = 1.0"
   ]
  },
  {
   "cell_type": "markdown",
   "metadata": {},
   "source": [
    "<div style=\"text-align: center;font-weight: bold;\">表　単位面積当たりの必要暖房能力$q_{rq,H}$及び冷房能力$q_{rq,C}$(W/m<sup>2</sup>)</div>\n",
    "\n",
    "|変数＼地域の区分|1|2|3|4|5|6|7|8|\n",
    "|-|-|-|-|-|-|-|-|-|\n",
    "|$q_{rq,H}$|73.91|64.32|62.65|66.99|72.64|61.34|64.55|－|\n",
    "|$q_{rq,C}$|37.61|36.55|42.34|54.08|61.69|60.79|72.53|61.56|\n"
   ]
  },
  {
   "cell_type": "code",
   "execution_count": null,
   "metadata": {},
   "outputs": [],
   "source": [
    "# 表A.1 単位面積当たりの必要暖房能力及び冷房能力（W/m2)\n",
    "table_a_1 = [\n",
    "    (73.91, 64.32, 62.65, 66.99, 72.64, 61.34, 64.55, 00.00),\n",
    "    (37.61, 36.55, 42.34, 54.08, 61.69, 60.79, 72.53, 61.56)\n",
    "]"
   ]
  },
  {
   "cell_type": "markdown",
   "metadata": {},
   "source": [
    "### A.2　定格消費電力"
   ]
  },
  {
   "cell_type": "markdown",
   "metadata": {},
   "source": [
    "$$\\large\n",
    "P_{rtd,H} = \\frac{q_{rtd,H}}{e_{rtd,H}}\n",
    "$$\n",
    "\n",
    "$$\\large\n",
    "P_{rtd,C} = \\frac{q_{rtd,C}}{e_{rtd,C}}\n",
    "$$"
   ]
  },
  {
   "cell_type": "markdown",
   "metadata": {},
   "source": [
    "$P_{rtd,H}$：定格暖房消費電力(W)  \n",
    "$P_{rtd,C}$：定格冷房消費電力(W)  \n",
    "$q_{rtd,H}$：定格暖房能力(W)  \n",
    "$q_{rtd,C}$：定格冷房能力（(W)  \n",
    "$e_{rtd,H}$：定格暖房エネルギー消費効率  \n",
    "$e_{rtd,C}$：：定格冷房エネルギー消費効率  "
   ]
  },
  {
   "cell_type": "code",
   "execution_count": null,
   "metadata": {},
   "outputs": [],
   "source": [
    "# 定格暖房消費電力\n",
    "def get_P_rtd_H(q_rtd_H):\n",
    "    return q_rtd_H / e_rtd_H  # (2a)\n",
    "\n",
    "\n",
    "# 定格冷房消費電力\n",
    "def get_P_rtd_C(q_rtd_C):\n",
    "    return q_rtd_C / e_rtd_C  # (2b)"
   ]
  },
  {
   "cell_type": "markdown",
   "metadata": {},
   "source": [
    "定格暖房エネルギー消費効率$e_{rtd,H}$は3.76、定格冷房エネルギー消費効率$e_{rtd,C}$は3.17とする。"
   ]
  },
  {
   "cell_type": "code",
   "execution_count": null,
   "metadata": {},
   "outputs": [],
   "source": [
    "# 定格暖房エネルギー消費効率\n",
    "e_rtd_H = 3.76\n",
    "\n",
    "# 定格冷房エネルギー消費効率\n",
    "e_rtd_C = 3.17"
   ]
  },
  {
   "cell_type": "markdown",
   "metadata": {},
   "source": [
    "### A.3　複数のダクト式セントラル空調機が設置される場合の仕様の決定方法"
   ]
  },
  {
   "cell_type": "markdown",
   "metadata": {},
   "source": [
    "省略"
   ]
  },
  {
   "cell_type": "markdown",
   "metadata": {},
   "source": [
    "## 付録 B ダクト等圧力損失及び断熱区画外ダクト熱損失による消費電力量補正係数"
   ]
  },
  {
   "cell_type": "markdown",
   "metadata": {},
   "source": [
    "暖房時におけるダクト等圧力損失による消費電力量補正係数$C_{pl,H}$及び冷房時におけるダクト等圧力損失による消費電力量補正係数$C_{pl,C}$は、圧力損失によって送風機の出力が変わらないタイプ（以下、「風量補正なし」という。）の場合、B.1 に示される暖房時におけるダクト等圧力損失による消費電力量補正係数（風量補正なし）$C_{pl,nm,H}$及び冷房時におけるダクト等圧力損失による消費電力量補正係数（風量補正なし）$C_{pl,nm,C}$に等しいとし、圧力損失によって送風機の出力が変わるタイプ（以下、「風量補正あり」という。）の場合、B.2 に示される暖房時におけるダクト等圧力損失による消費電力量補正係数（風量補正あり）$C_{pl,va,H}$及び冷房時におけるダクト等圧力損失による消費電力量補正係数（風量補正あり）$C_{pl,va,C}$に等しいとする。  \n",
    "風量補正の有無が不明な場合は、「風量補正なし」とみなす。  \n",
    "ダクトの全部または一部が断熱区画外に設置される場合は、B.1 又は B.2 により求めた係数にさらに B.3 に示す補正係数を乗じなければならない。"
   ]
  },
  {
   "cell_type": "markdown",
   "metadata": {},
   "source": [
    "### B.1 風量補正なしの場合"
   ]
  },
  {
   "cell_type": "markdown",
   "metadata": {},
   "source": [
    "暖房時におけるダクト等圧力損失による消費電力量補正係数（風量補正なし）$C_{pl,nm,H}$に 1.22、冷房時におけるダクト等圧力損失による消費電力量補正係数（風量補正なし）$C_{pl,nm,C}$に 1.25 を用いるか、ダクト等の圧力損失計算により算定される設計風量と定格風量との比により決定される。"
   ]
  },
  {
   "cell_type": "markdown",
   "metadata": {},
   "source": [
    "### B.2 風量補正ありの場合"
   ]
  },
  {
   "cell_type": "markdown",
   "metadata": {},
   "source": [
    "暖房時におけるダクト等圧力損失による消費電力量補正係数（風量補正あり）$C_{pl,va,H}$に1.03、冷房時におけるダクト等圧力損失による消費電力量補正係数（風量補正あり）$C_{pl,va,C}$に 1.03 を用いるか、ダクト等の圧力損失計算により算定される設計圧力損失と標準機外静圧との比により決定される。"
   ]
  },
  {
   "cell_type": "markdown",
   "metadata": {},
   "source": [
    "### B.3 ダクトの全部または一部が断熱区画外に設置される場合の補正係数"
   ]
  },
  {
   "cell_type": "markdown",
   "metadata": {},
   "source": [
    "表に示す条件に適合する場合は1.10、それ以外の場合は1.35とする。"
   ]
  },
  {
   "cell_type": "markdown",
   "metadata": {},
   "source": [
    "<div style=\"text-align: center;font-weight: bold;\">表　補正係数に1.10を適用できる条件</div>\n",
    "\n",
    "|断熱区画外のダクトの設置位置|補正係数に 1.10 を適用できる条件|\n",
    "|-|-|\n",
    "|全部または一部が小屋裏<br>（小屋裏が断熱区画外の場合）<br>に設置されている場合|断熱区画外のダクトの長さ17.3m 以下<br>かつ断熱区画外の全ての部分において<br>線熱損失係数が0.49W/(mK)以下であること。|\n",
    "|全部が床下<br>（床下が断熱区画外の場合）<br>に設置されている場合|断熱区画外のダクトの長さ23.3m 以下<br>かつ断熱区画外の全ての部分において<br>線熱損失係数が0.49W/(mK)以下であること|\n"
   ]
  }
 ],
 "metadata": {
  "kernelspec": {
   "display_name": "Python 3",
   "language": "python",
   "name": "python3"
  },
  "language_info": {
   "codemirror_mode": {
    "name": "ipython",
    "version": 3
   },
   "file_extension": ".py",
   "mimetype": "text/x-python",
   "name": "python",
   "nbconvert_exporter": "python",
   "pygments_lexer": "ipython3",
   "version": "3.6.7"
  }
 },
 "nbformat": 4,
 "nbformat_minor": 2
}
