{
 "cells": [
  {
   "cell_type": "markdown",
   "metadata": {},
   "source": [
    "## 第二節　ダクト式セントラル空調機"
   ]
  },
  {
   "cell_type": "markdown",
   "metadata": {},
   "source": [
    "1．適用範囲～4．記号及び単位は省略"
   ]
  },
  {
   "cell_type": "markdown",
   "metadata": {},
   "source": [
    "### 5．最大暖房出力"
   ]
  },
  {
   "cell_type": "markdown",
   "metadata": {},
   "source": [
    "$$\\large\n",
    "Q_{max,H,d,t} = q_{rtd,H} \\times C_{df,H,d,t} \\times 3600 \\times 10^{-6}\n",
    "$$"
   ]
  },
  {
   "cell_type": "markdown",
   "metadata": {},
   "source": [
    "$Q_{max,H,d,t}$：日付$d$の時刻$t$における1時間当たりの最大暖房出力(MJ/h)  \n",
    "$q_{rtd,H}$：定格暖房能力(W)   \n",
    "$C_{df,H,d,t}$：日付$d$の時刻$t$におけるデフロストに関する暖房出力補正係数  "
   ]
  },
  {
   "cell_type": "markdown",
   "metadata": {},
   "source": [
    "日付$d$の時刻$t$におけるデフロストに関する暖房出力補正係数$C_{df,H,d,t}$は、外気温度が5℃未満かつ相対湿度が80%以上の場合にデフロストが入ると仮定し、その場合の値を0.77とし、それ以外の条件においては1.0とする。"
   ]
  },
  {
   "cell_type": "markdown",
   "metadata": {},
   "source": [
    "### 6．暖房エネルギー消費量"
   ]
  },
  {
   "cell_type": "markdown",
   "metadata": {},
   "source": [
    "#### 6.1　消費電力量"
   ]
  },
  {
   "cell_type": "markdown",
   "metadata": {},
   "source": [
    "$Qr'_{T,H,d,t} \\geq 0.3$ の場合"
   ]
  },
  {
   "cell_type": "markdown",
   "metadata": {},
   "source": [
    "$$\n",
    "\\large\n",
    "E_{E,H,d,t} = ( a_1 \\times ( b_1 \\times \\theta_{ex,d,t} + b_2 \\times ln(Qr'_{T,H,d,t}) + b_3 )^{a2}  \\\\\n",
    "\\large\n",
    "+ c_1 \\times \\Biggl( \\frac{Qr'_{T,H,d,t}}{d_1 \\times \\theta_{ex,d,t} + d_2 \\times ln(Qr'_{T,H,d,t}) + d_3} \\Biggr)^{c_2} \\Biggr)\n",
    "\\times P_{rtd,H} \\times 10^{-3} \\times C_{pl,H}\n",
    "$$"
   ]
  },
  {
   "cell_type": "markdown",
   "metadata": {},
   "source": [
    "$Qr'_{T,H,d,t} < 0.3$ の場合"
   ]
  },
  {
   "cell_type": "markdown",
   "metadata": {},
   "source": [
    "$$\n",
    "\\large\n",
    "E_{E,H,d,t} = ( a_1 \\times ( b_1 \\times \\theta_{ex,d,t} + b_2 \\times ln(0.3) + b_3 )^{a_2}  \\\\\n",
    "\\large\n",
    "+ c_1 \\times \\Biggl( \\frac{0.3}{d_1 \\times \\theta_{ex,d,t} + d_2 \\times ln(0.3) + d_3} \\Biggr)^{c_2} \\Biggr)\n",
    "\\times P_{rtd,H} \\times \\frac{Qr'_{T,H,d,t}}{0.3} \\times 10^{-3} \\times C_{pl,H}\n",
    "$$"
   ]
  },
  {
   "cell_type": "markdown",
   "metadata": {},
   "source": [
    "$E_{E,H,d,t}$：日付$d$の時刻$t$における1時間当たりの消費電力量(kWh/h)  \n",
    "$\\theta_{ex,d,t}$：日付$d$の時刻$t$における外気温度(℃)  \n",
    "$Qr'_{T,H,d,t}$：日付$d$の時刻$t$における補正処理暖房負荷比    \n",
    "$P_{rtd,H}$：定格暖房消費電力(W)  \n",
    "$C_{pl,H}$：暖房時におけるダクト等圧力損失による消費電力量補正係数  "
   ]
  },
  {
   "cell_type": "markdown",
   "metadata": {},
   "source": [
    "<div style=\"text-align: center;font-weight: bold;\">表　係数</div>\n",
    "\n",
    "|係数|値|係数|値|\n",
    "|-|-|-|-|\n",
    "|$a_1$|0.0003124|$c_1$|0.003955|\n",
    "|$a_2$|1.923|$c_2$|2.001|\n",
    "|$b_1$|-0.7945|$d_1$| 7.442 $\\times 10^{-5}$|\n",
    "|$b_2$|21.54|$d_2$|0.09156|\n",
    "|$b_3$|73.02|$d_3$|0.2344|\n"
   ]
  },
  {
   "cell_type": "markdown",
   "metadata": {},
   "source": [
    "$$\\large\n",
    "Qr'_{T,H,d,t} = \\frac{Q'_{T,H,d,t}}{q_{rtd,H} \\times 3600 \\times 10^{-6}}\n",
    "$$"
   ]
  },
  {
   "cell_type": "markdown",
   "metadata": {},
   "source": [
    "$q_{rtd,H,d,t}$：定格暖房能力(W)  \n",
    "$Q'_{T,H,d,t}$：日付$d$の時刻$t$における1時間当たりの補正処理暖房負荷(MJ/h)    "
   ]
  },
  {
   "cell_type": "markdown",
   "metadata": {},
   "source": [
    "$$\\large\n",
    "Q'_{T,H,d,t} = \\frac{Q_{T,H,d,t}}{C_{df,H,d,t}}\n",
    "$$"
   ]
  },
  {
   "cell_type": "markdown",
   "metadata": {},
   "source": [
    "$Q_{T,H,d,t}$：日付$d$の時刻$t$における1時間当たりの処理暖房負荷(MJ/h)  \n",
    "$C_{df,H,d,t}$：日付$d$の時刻$t$におけるデフロストに関する暖房出力補正係数    "
   ]
  },
  {
   "cell_type": "markdown",
   "metadata": {},
   "source": [
    "日付$d$の時刻$t$におけるデフロストに関する暖房出力補正係数$C_{df,H,d,t}$は、外気温度が5℃未満かつ相対湿度が80%以上の場合にデフロストが入ると仮定し、その場合の値を0.77とし、それ以外の条件においては1.0とする。"
   ]
  },
  {
   "cell_type": "markdown",
   "metadata": {},
   "source": [
    "#### 6.2　ガス消費量"
   ]
  },
  {
   "cell_type": "markdown",
   "metadata": {},
   "source": [
    "日付$d$の時刻$t$における１時間当たりのガス消費量$E_{G,H,d,t}$は0とする。"
   ]
  },
  {
   "cell_type": "markdown",
   "metadata": {},
   "source": [
    "#### 6.3　灯油消費量"
   ]
  },
  {
   "cell_type": "markdown",
   "metadata": {},
   "source": [
    "日付$d$の時刻$t$における１時間当たりの灯油消費量$E_{K,H,d,t}$は0とする。"
   ]
  },
  {
   "cell_type": "markdown",
   "metadata": {},
   "source": [
    "#### 6.4　その他の燃料による一次エネルギー消費量"
   ]
  },
  {
   "cell_type": "markdown",
   "metadata": {},
   "source": [
    "日付$d$の時刻$t$における１時間当たりのその他の燃料による一次エネルギー消費量$E_{M,H,d,t}$は0とする。"
   ]
  },
  {
   "cell_type": "markdown",
   "metadata": {},
   "source": [
    "### 7．最大冷房出力"
   ]
  },
  {
   "cell_type": "markdown",
   "metadata": {},
   "source": [
    "#### 7.1　最大冷房出力の計算"
   ]
  },
  {
   "cell_type": "markdown",
   "metadata": {},
   "source": [
    "$$\\large\n",
    "Q_{max,C,d,t} = q_{rtd,C} \\times 3600 \\times 10^{-6}\n",
    "$$"
   ]
  },
  {
   "cell_type": "markdown",
   "metadata": {},
   "source": [
    "$Q_{max,C,d,t}$：日付$d$の時刻$t$における1時間当たりの最大冷房出力(MJ/h)  \n",
    "$q_{rtd,C}$：定格冷房能力(W)  "
   ]
  },
  {
   "cell_type": "markdown",
   "metadata": {},
   "source": [
    "#### 7.2　最大冷房顕熱出力及び最大冷房潜熱出力の計算"
   ]
  },
  {
   "cell_type": "markdown",
   "metadata": {},
   "source": [
    "$$\\large\n",
    "Q_{max,CS,d,t} = Q_{max,C,d,t} \\times SHF'_{d,t}\n",
    "$$\n",
    "\n",
    "$$\\large\n",
    "Q_{max,CL,d,t} = min(Q_{max,C,d,t} \\times (1 - SHF'_{d,t}),  L'_{CL,d,t})\n",
    "$$"
   ]
  },
  {
   "cell_type": "markdown",
   "metadata": {},
   "source": [
    "$Q_{max,CS,d,t}$：日付$d$の時刻$t$における1時間当たりの最大冷房顕熱出力(MJ/h)  \n",
    "$Q_{max,CL,d,t}$：日付$d$の時刻$t$における1時間当たりの最大冷房潜熱出力(MJ/h)  \n",
    "$SHF'_{d,t}$：日付$d$の時刻$t$における冷房負荷補正顕熱比  \n",
    "$L'_{CL,d,t}$：日付$d$の時刻$t$における1時間当たりの補正冷房潜熱負荷(MJ/h)  \n",
    "$Q_{max,C,d,t}$：日付$d$の時刻$t$における1時間当たりの最大冷房出力(MJ/h)  "
   ]
  },
  {
   "cell_type": "markdown",
   "metadata": {},
   "source": [
    "$$\\large\n",
    "SHF'_{d,t} = \\frac{L_{CS,d,t}}{L'_{C,d,t}}\n",
    "$$"
   ]
  },
  {
   "cell_type": "markdown",
   "metadata": {},
   "source": [
    "$L_{CS,d,t}$：日付$d$の時刻$t$における1時間当たりの冷房顕熱負荷(MJ/h)  \n",
    "$L'_{C,d,t}$：日付$d$の時刻$t$における1時間当たりの補正冷房負荷(MJ/h)  "
   ]
  },
  {
   "cell_type": "markdown",
   "metadata": {},
   "source": [
    "日付$d$の時刻$t$における１時間当たりの補正冷房負荷$L'_{C,d,t}$が0の場合、$SHF'_{d,t}$ = 0とする。"
   ]
  },
  {
   "cell_type": "markdown",
   "metadata": {},
   "source": [
    "$$\\large\n",
    "L'_{c,d,t} = L_{CS,d,t} + L'_{CL,d,t}\n",
    "$$"
   ]
  },
  {
   "cell_type": "markdown",
   "metadata": {},
   "source": [
    "$$\\large\n",
    "L'_{CL,d,t} = min(L_{max,CL,d,t},  L_{CL,d,t})\n",
    "$$"
   ]
  },
  {
   "cell_type": "markdown",
   "metadata": {},
   "source": [
    "$$\\large\n",
    "L_{max,CL,d,t} = L_{CS,d,t} \\times \\frac{1 - SHF_{L,min,C}}{SHF_{L,min,C}}\n",
    "$$"
   ]
  },
  {
   "cell_type": "markdown",
   "metadata": {},
   "source": [
    "$L_{max,CL,d,t}$：日付$d$の時刻$t$における1時間当たりの最大冷房潜熱負荷(MJ/h)  \n",
    "$L_{CL,d,t}$：日付$d$の時刻$t$における1時間当たりの冷房潜熱負荷(MJ/h)  \n",
    "$SHF_{L,min,C}$：冷房負荷最小顕熱比  "
   ]
  },
  {
   "cell_type": "markdown",
   "metadata": {},
   "source": [
    "冷房負荷最小顕熱比$SHF_{L,min,C}$は0.4 とする。"
   ]
  },
  {
   "cell_type": "markdown",
   "metadata": {},
   "source": [
    "### 8．冷房エネルギー消費量"
   ]
  },
  {
   "cell_type": "markdown",
   "metadata": {},
   "source": [
    "#### 8.1　消費電力量"
   ]
  },
  {
   "cell_type": "markdown",
   "metadata": {},
   "source": [
    "$Qr_{T,C,d,t} \\geq 0.3$ の場合"
   ]
  },
  {
   "cell_type": "markdown",
   "metadata": {},
   "source": [
    "$$\\large\n",
    "E_{E,C,d,t} = (a_1 \\times (b)^{a_2} + c_1 \\times (d)^{c_2}) \\times P_{rtd,C} \\times 10^{-3} \\times C_{pl,C}\n",
    "$$\n",
    "\n",
    "$$\\large\n",
    "\\left\\{ \\begin{array}{ll}\n",
    "    b = max(\\theta_{ex,d,t} - b_1 \\times \\theta_{ex,d,t} - b_2 \\times ln(X_{ex,d,t}) - b_3 \\times ln(Qr_{T,C,d,t}) - b_{4},0)\\\\ \n",
    "    d = exp(d_1 \\times \\theta_{ex,d,t} + d_2 \\times ln(X_{ex,d,t}) + d_3 \\times ln(Qr_{T,C,d,t}) + d_4)\\\\ \n",
    "    \\end{array}\n",
    "\\right.\n",
    "$$"
   ]
  },
  {
   "cell_type": "markdown",
   "metadata": {},
   "source": [
    "$Qr_{T,C,d,t} < 0.3$ の場合"
   ]
  },
  {
   "cell_type": "markdown",
   "metadata": {},
   "source": [
    "$$\\large\n",
    "E_{E,C,d,t} = (a_1 \\times (b)^{a_2} + c_1 \\times (d)^{c_2}) \\times P_{rtd,C} \\times \\frac{Qr_{T,C,d,t}}{0.3} \\times 10^{-3} \\times C_{pl,C}\n",
    "$$\n",
    "\n",
    "$$\\large\n",
    "\\left\\{ \\begin{array}{ll}\n",
    "    b = max(\\theta_{ex,d,t} - b_1 \\times \\theta_{ex,d,t} - b_2 \\times ln(X_{ex,d,t}) - b_3 \\times ln(0.3) - b_{4},0)\\\\ \n",
    "    d = exp(d_1 \\times \\theta_{ex,d,t} + d_2 \\times ln(X_{ex,d,t}) + d_3 \\times ln(0.3) + d_4)\\\\ \n",
    "    \\end{array}\n",
    "\\right.\n",
    "$$"
   ]
  },
  {
   "cell_type": "markdown",
   "metadata": {},
   "source": [
    "$E_{E,C,d,t}$：日付$d$の時刻$t$における1時間当たりの消費電力量(kWh/h)  \n",
    "$\\theta_{ex,d,t}$：日付$d$の時刻$t$における外気温度(℃)    \n",
    "$X_{ex,d,t}$：日付$d$の時刻$t$における外気絶対湿度(kg/kg(DA))    \n",
    "$Qr_{T,C,d,t}$：日付$d$の時刻$t$における処理冷房負荷比    \n",
    "$P_{rtd,C}$：定格冷房消費電力(W)    \n",
    "$C_{pl,C}$：冷房時におけるダクト等圧力損失による消費電力量補正係数  "
   ]
  },
  {
   "cell_type": "markdown",
   "metadata": {},
   "source": [
    "<div style=\"text-align: center;font-weight: bold;\">表　係数</div>\n",
    "\n",
    "|係数|値|係数|値|\n",
    "|-|-|-|-|\n",
    "|$a_1$|0.001052|$c_1$|0.003939|\n",
    "|$a_2$|2.051|$c_2$|1.058|\n",
    "|$b_1$|0.241|$d_1$|0.0593|\n",
    "|$b_2$|0.04985|$d_2$|0.08193|\n",
    "|$b_3$|0.2083|$d_3$|1.257|\n",
    "|$b_4$|−2.391|$d_4$|1.586|\n"
   ]
  },
  {
   "cell_type": "markdown",
   "metadata": {},
   "source": [
    "$$\\large\n",
    "Qr_{T,C,d,t} = \\frac{Q_{T,C,d,t}}{q_{rtd,C} \\times 3600 \\times 10^{-6}}\n",
    "$$"
   ]
  },
  {
   "cell_type": "markdown",
   "metadata": {},
   "source": [
    "$Q_{T,C,d,t}$：日付$d$の時刻$t$における1時間当たりの処理冷房負荷(MJ/h)  \n",
    "$q_{rtd,C}$：定格冷房能力(W)"
   ]
  },
  {
   "cell_type": "markdown",
   "metadata": {},
   "source": [
    "$$\\large\n",
    "Q_{T,C,d,t} = Q_{T,CS,d,t} + Q_{T,CL,d,t}\n",
    "$$"
   ]
  },
  {
   "cell_type": "markdown",
   "metadata": {},
   "source": [
    "$Q_{T,CS,d,t}$：日付$d$の時刻$t$における1時間当たりの処理冷房顕熱負荷(MJ/h)  \n",
    "$Q_{T,CL,d,t}$：日付$d$の時刻$t$における1時間当たりの処理冷房潜熱負荷(MJ/h)  "
   ]
  },
  {
   "cell_type": "markdown",
   "metadata": {},
   "source": [
    "#### 8.2　ガス消費量"
   ]
  },
  {
   "cell_type": "markdown",
   "metadata": {},
   "source": [
    "日付$d$の時刻$t$における１時間当たりのガス消費量$E_{G,C,d,t}$は0とする。"
   ]
  },
  {
   "cell_type": "markdown",
   "metadata": {},
   "source": [
    "#### 8.3　灯油消費量"
   ]
  },
  {
   "cell_type": "markdown",
   "metadata": {},
   "source": [
    "日付$d$の時刻$t$における１時間当たりの灯油消費量$E_{K,C,d,t}$は0とする。"
   ]
  },
  {
   "cell_type": "markdown",
   "metadata": {},
   "source": [
    "#### 8.4　その他の燃料による一次エネルギー消費量"
   ]
  },
  {
   "cell_type": "markdown",
   "metadata": {},
   "source": [
    "日付$d$の時刻$t$における１時間当たりのその他の燃料による一次エネルギー消費量$E_{M,C,d,t}$は0とする。"
   ]
  },
  {
   "cell_type": "markdown",
   "metadata": {},
   "source": [
    "## 付録 A 機器の性能を表す仕様の決定方法"
   ]
  },
  {
   "cell_type": "markdown",
   "metadata": {},
   "source": [
    "### A.1　定格能力"
   ]
  },
  {
   "cell_type": "markdown",
   "metadata": {},
   "source": [
    "$$\\large\n",
    "q_{rtd,H} = q_{rq,H} \\times A_{A} \\times f_{CT} \\times f_{CL}\n",
    "$$\n",
    "\n",
    "$$\\large\n",
    "q_{rtd,C} = q_{rq,C} \\times A_{A} \\times f_{CT} \\times f_{CL}\n",
    "$$"
   ]
  },
  {
   "cell_type": "markdown",
   "metadata": {},
   "source": [
    "$q_{rtd,H}$：定格暖房能力(W)  \n",
    "$q_{rtd,C}$：定格冷房能力(W)  \n",
    "$q_{rq,H}$：単位面積当たりの必要暖房能力(W/m<sup>2</sup>)  \n",
    "$q_{rq,C}$：単位面積当たりの必要冷房能力(W/m<sup>2</sup>)  \n",
    "$A_{A}$：床面積の合計(m<sup>2</sup>)   \n",
    "$f_{CT}$：外気温度能力補正係数   \n",
    "$f_{CL}$：間歇運転能力補正係数  "
   ]
  },
  {
   "cell_type": "markdown",
   "metadata": {},
   "source": [
    "外気温度能力補正係数$f_{CT}$は、1.05の値とする。間歇運転能力補正係数$f_{CL}$は、1.0とする。"
   ]
  },
  {
   "cell_type": "markdown",
   "metadata": {},
   "source": [
    "<div style=\"text-align: center;font-weight: bold;\">表　単位面積当たりの必要暖房能力$q_{rq,H}$及び冷房能力$q_{rq,C}$(W/m<sup>2</sup>)</div>\n",
    "\n",
    "|変数＼地域の区分|1|2|3|4|5|6|7|8|\n",
    "|-|-|-|-|-|-|-|-|-|\n",
    "|$q_{rq,H}$|73.91|64.32|62.65|66.99|72.64|61.34|64.55|－|\n",
    "|$q_{rq,C}$|37.61|36.55|42.34|54.08|61.69|60.79|72.53|61.56|\n"
   ]
  },
  {
   "cell_type": "markdown",
   "metadata": {},
   "source": [
    "### A.2　定格消費電力"
   ]
  },
  {
   "cell_type": "markdown",
   "metadata": {},
   "source": [
    "$$\\large\n",
    "P_{rtd,H} = \\frac{q_{rtd,H}}{e_{rtd,H}}\n",
    "$$\n",
    "\n",
    "$$\\large\n",
    "P_{rtd,C} = \\frac{q_{rtd,C}}{e_{rtd,C}}\n",
    "$$"
   ]
  },
  {
   "cell_type": "markdown",
   "metadata": {},
   "source": [
    "$P_{rtd,H}$：定格暖房消費電力(W)  \n",
    "$P_{rtd,C}$：定格冷房消費電力(W)  \n",
    "$q_{rtd,H}$：定格暖房能力(W)  \n",
    "$q_{rtd,C}$：定格冷房能力（(W)  \n",
    "$e_{rtd,H}$：定格暖房エネルギー消費効率  \n",
    "$e_{rtd,C}$：：定格冷房エネルギー消費効率  "
   ]
  },
  {
   "cell_type": "markdown",
   "metadata": {},
   "source": [
    "定格暖房エネルギー消費効率$e_{rtd,H}$は3.76、定格冷房エネルギー消費効率$e_{rtd,C}$は3.17とする。"
   ]
  },
  {
   "cell_type": "markdown",
   "metadata": {},
   "source": [
    "### A.3　複数のダクト式セントラル空調機が設置される場合の仕様の決定方法"
   ]
  },
  {
   "cell_type": "markdown",
   "metadata": {},
   "source": [
    "省略"
   ]
  },
  {
   "cell_type": "markdown",
   "metadata": {},
   "source": [
    "## 付録 B ダクト等圧力損失及び断熱区画外ダクト熱損失による消費電力量補正係数"
   ]
  },
  {
   "cell_type": "markdown",
   "metadata": {},
   "source": [
    "pythonを確認してから記述するため、現時点では保留"
   ]
  }
 ],
 "metadata": {
  "kernelspec": {
   "display_name": "Python 3",
   "language": "python",
   "name": "python3"
  },
  "language_info": {
   "codemirror_mode": {
    "name": "ipython",
    "version": 3
   },
   "file_extension": ".py",
   "mimetype": "text/x-python",
   "name": "python",
   "nbconvert_exporter": "python",
   "pygments_lexer": "ipython3",
   "version": "3.6.4"
  }
 },
 "nbformat": 4,
 "nbformat_minor": 2
}
