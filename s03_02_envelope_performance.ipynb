{
 "cells": [
  {
   "cell_type": "markdown",
   "metadata": {},
   "source": [
    "使用許諾条件\n",
    "\n",
    "①\t設計一次エネルギー消費量算定法に基づく計算方法をPythonによりコーディングし、Jupyter notebook形式で保存したファイル（以下、本ファイルと呼ぶ）の著作権は、一般社団法人日本サステナブル建築協会に帰属します。\n",
    "Copyright©2019. 一般社団法人日本サステナブル建築協会\n",
    "All rights reserved. \n",
    "\n",
    "②\t本ファイルは、住戸の設計一次エネルギー消費量算定方法に係る「平成28年省エネルギー基準に準拠したエネルギー消費性能の評価に関する技術情報（住宅）2.1算定方法（第三章第二節 外皮性能）」に示す計算方法に基づき、国土交通省国土技術政策総合研究所・国立研究開発法人建築研究所、株式会社ユーワークス、株式会社住環境計画研究所が作成したものです。\n",
    "\n",
    "③\t本ファイルは、計算方法に示す計算過程の確認及び調査研究等に活用することを目的として作成されたものであり、一般社団法人日本サステナブル建築協会は著作権について放棄はしませんが、使用する各人の自己責任において仕様を変更することを妨げるものではありません。ただし、本ファイルによる計算結果を住宅の省エネルギー基準で規定する設計一次エネルギー消費量の結果として公的な申請に用いることはできません。\n",
    "\n",
    "④\t本ファイルを変更するかしないかを問わず、以下の条件を満たす場合に限り、頒布および使用が許可されます。\n",
    "1.\t頒布物の付属ドキュメント等の資料に、上記の著作権表示、本条件一覧、および下記免責条項を含めること。\n",
    "2.\t書面による特別の許可なしに、本ファイルから派生した製品の宣伝または販売の促進に、一般社団法人日本サステナブル建築協会、国土技術政策総合研究所・国立研究開発法人建築研究所および株式会社ユーワークス、株式会社住環境計画研究所の名前またはコントリビューターの名前を使用してはならない。\n",
    "\n",
    "⑤\t本ファイルは、著作権者およびコントリビューターによって「現状のまま」提供されており、明示黙示を問わず、商業的な使用可能性、および特定の目的に対する適合性に関する暗黙の保証も含め、またそれに限定されない、いかなる保証もありません。著作権もコントリビューターも、事由のいかんを問わず、損害発生の原因いかんを問わず、かつ責任の根拠が契約であるか厳格責任であるか（過失その他の）不法行為であるかを問わず、仮にそのような損害が発生する可能性を知らされていたとしても、本ファイルの使用によって発生した（代用品または代用サービスの調達、使用の喪失、データの喪失、利益の喪失、業務の中断も含め、またそれに限定されない）直接損害、間接損害、偶発的な損害、特別損害、懲罰的損害、または結果損害について、一切の責任を負わないものとします。\n",
    "\n"
   ]
  },
  {
   "cell_type": "code",
   "execution_count": null,
   "metadata": {},
   "outputs": [],
   "source": [
    "import nbimporter\n",
    "import section3_2_8 as detail\n",
    "import section3_2_9 as simple\n"
   ]
  },
  {
   "cell_type": "markdown",
   "metadata": {},
   "source": [
    "## 第二節　外皮性能 / Section 2 Envelope Performance"
   ]
  },
  {
   "cell_type": "markdown",
   "metadata": {},
   "source": [
    "1．適用範囲～4．記号及び単位は省略"
   ]
  },
  {
   "cell_type": "markdown",
   "metadata": {},
   "source": [
    "1. Scope of application ~ 4. Symbols and units are omitted"
   ]
  },
  {
   "cell_type": "code",
   "execution_count": null,
   "metadata": {},
   "outputs": [],
   "source": [
    "def calc_insulation_performance(method, A_env=None, A_A=None, U_A=None, eta_A_H=None, eta_A_C=None,\n",
    "                                house_insulation_type=None, insulation_structure=None,\n",
    "                                U_spec=None,f_H=None,f_C=None,eta_d_H=None,eta_d_C=None,region=None):\n",
    "    \"\"\" 外皮の断熱性能の計算\n",
    "     入力方法によって、U_A, eta_A_H, eta_A_C, r_env の計算方法が異なる\n",
    "     1.当該住宅の外皮面積の合計を用いて評価する => すべて別途計算された結果を用いる\n",
    "     2.簡易的に求めた外皮面積の合計を用いて評価する => U_A, eta_A_H, eta_A_Cは別途計算された値を用いるが、r_envは簡易計算\n",
    "     3.当該住戸の外皮の部位の面積等を用いて外皮性能を評価する方法 => すべて簡易計算\n",
    "\n",
    "    :param method: 入力方法\n",
    "    :type method: str\n",
    "    :param A_env: 外皮の部位の面積の合計 (m2)\n",
    "    :type A_env: float\n",
    "    :param A_A: 床面積の合計[m^2]\n",
    "    :type A_A: float\n",
    "    :param U_A: 外皮平均熱貫流率\n",
    "    :type U_A: float\n",
    "    :param eta_A_H: 暖房期の平均日射熱取得率\n",
    "    :type eta_A_H: float\n",
    "    :param eta_A_C: 冷房期の平均日射熱取得率\n",
    "    :type eta_A_C: float\n",
    "    :param house_insulation_type: '床断熱住戸'または'基礎断熱住戸'\n",
    "    :type house_insulation_type: str\n",
    "    :param insulation_structure: 断熱構造による住戸の種類\n",
    "    :type insulation_structure: str\n",
    "    :param U_spec: 外皮の部位の熱貫流率の辞書\n",
    "    :type U_spec: dict\n",
    "    :param f_H: 暖房期の取得日射熱補正係数 (-)\n",
    "    :type f_H: float\n",
    "    :param f_C: 冷房期の取得日射熱補正係数 (-)\n",
    "    :type f_C: float\n",
    "    :param eta_d_H: 暖房期の日射熱取得率\n",
    "    :type eta_d_H:\n",
    "    :param eta_d_C:\n",
    "    :type eta_d_C:\n",
    "    :param region: 省エネルギー地域区分\n",
    "    :type region: int\n",
    "    :return: 外皮の断熱性能\n",
    "    :rtype: tuple\n",
    "    \"\"\"\n",
    "    if method == '当該住宅の外皮面積の合計を用いて評価する':\n",
    "        # 床面積の合計に対する外皮の部位の面積の合計の比\n",
    "        r_env = calc_r_env(\n",
    "            method='当該住戸の外皮の部位の面積等を用いて外皮性能を評価する方法',\n",
    "            A_env=A_env,\n",
    "            A_A=A_A\n",
    "        )\n",
    "    elif method == '簡易的に求めた外皮面積の合計を用いて評価する':\n",
    "        # 床面積の合計に対する外皮の部位の面積の合計の比\n",
    "        r_env = calc_r_env(\n",
    "            method='当該住戸の外皮の部位の面積等を用いずに外皮性能を評価する方法',\n",
    "            house_insulation_type=house_insulation_type\n",
    "        )\n",
    "    elif method == '当該住戸の外皮の部位の面積等を用いて外皮性能を評価する方法':\n",
    "        # 断熱構造による住戸の種類に応じてU_A値を計算する\n",
    "        U_A, U = simple.calc_U_A(insulation_structure, **U_spec)\n",
    "\n",
    "        # 床面積の合計に対する外皮の部位の面積の合計の比\n",
    "        r_env = calc_r_env(\n",
    "            method='当該住戸の外皮の部位の面積等を用いずに外皮性能を評価する方法',\n",
    "            A_env=None,\n",
    "            A_A=None,\n",
    "            house_insulation_type=U['house_insulation_type']\n",
    "        )\n",
    "\n",
    "        # 暖房期平均日射熱取得率(ηAH)\n",
    "        eta_A_H = calc_eta_A_H(\n",
    "            method='当該住戸の外皮の部位の面積等を用いずに外皮性能を評価する方法',\n",
    "            region=region,\n",
    "            house_insulation_type=U['house_insulation_type'],\n",
    "            U_roof=U['U_roof'],\n",
    "            U_wall=U['U_wall'],\n",
    "            U_door=U['U_door'],\n",
    "            U_base_etrc=U['U_base_etrc'],\n",
    "            U_base_bath=U['U_base_bath'],\n",
    "            U_base_other=U['U_base_other'],\n",
    "            etr_d=eta_d_H,\n",
    "            f_H=f_H\n",
    "        )\n",
    "\n",
    "        # 冷房期平均日射熱取得率(ηAC)\n",
    "        eta_A_C = calc_eta_A_C(\n",
    "            method='当該住戸の外皮の部位の面積等を用いずに外皮性能を評価する方法',\n",
    "            region=region,\n",
    "            house_insulation_type=U['house_insulation_type'],\n",
    "            U_roof=U['U_roof'],\n",
    "            U_wall=U['U_wall'],\n",
    "            U_door=U['U_door'],\n",
    "            U_base_etrc=U['U_base_etrc'],\n",
    "            U_base_bath=U['U_base_bath'],\n",
    "            U_base_other=U['U_base_other'],\n",
    "            etr_d=eta_d_C,\n",
    "            f_C=f_C\n",
    "        )\n",
    "\n",
    "        house_insulation_type = U['house_insulation_type']\n",
    "    else:\n",
    "        raise ValueError(method)\n",
    "\n",
    "    # 熱損失係数（換気による熱損失を含まない）\n",
    "    Q_dash = get_Q_dash(U_A, r_env)\n",
    "\n",
    "    # 日射取得係数\n",
    "    eta_H = get_eta_H(eta_A_H, r_env)\n",
    "    eta_C = get_eta_C(eta_A_C, r_env)\n",
    "\n",
    "    return U_A, r_env, eta_A_H, eta_A_C, Q_dash, eta_H, eta_C, house_insulation_type\n"
   ]
  },
  {
   "cell_type": "markdown",
   "metadata": {},
   "source": [
    "### 5. 熱損失係数（換気による熱損失を含まない） / Heat loss coefficient (does not include heat loss due to ventilation)"
   ]
  },
  {
   "cell_type": "markdown",
   "metadata": {},
   "source": [
    "$$\\large\n",
    "Q' = U_{A} \\times r_{env}\n",
    "$$"
   ]
  },
  {
   "cell_type": "markdown",
   "metadata": {},
   "source": [
    "$Q'$：熱損失係数（換気による熱損失を含まない）(W/m<sup>2</sup>K) / Heat loss coefficient (does not include heat loss due to ventilation)  \n",
    "$U_{A}$：外皮平均熱貫流率(W/m<sup>2</sup>K) / Average heat penetration coefficient of skin  \n",
    "$r_{env}$：床面積の合計に対する外皮の部位の面積の合計の比 / Ratio of the sum of the area of the area of the hull to the sum of the floor area "
   ]
  },
  {
   "cell_type": "code",
   "execution_count": null,
   "metadata": {},
   "outputs": [],
   "source": [
    "def get_Q_dash(U_A, r_env):\n",
    "    \"\"\" 熱損失係数（換気による熱損失を含まない） (1)\n",
    "\n",
    "    :param U_A: 外皮平均熱貫流率\n",
    "    :type U_A: float\n",
    "    :param r_env:床面積の合計に対しる外皮の部位の面積の合計の比（-）\n",
    "    :type r_env: float\n",
    "    :return: 熱損失係数（換気による熱損失を含まない）\n",
    "    :rtype: float\n",
    "    \"\"\"\n",
    "    return U_A * r_env  # (1)\n"
   ]
  },
  {
   "cell_type": "markdown",
   "metadata": {},
   "source": [
    "### 6. 日射取得係数 / Solar radiation acquisition coefficient"
   ]
  },
  {
   "cell_type": "markdown",
   "metadata": {},
   "source": [
    "$$\\large\n",
    "\\mu_{H} = \\frac{\\eta_{A,H}}{100} \\times r_{env}\n",
    "$$\n",
    "\n",
    "$$\\large\n",
    "\\mu_{C} = \\frac{\\eta_{A,C}}{100} \\times r_{env}\n",
    "$$"
   ]
  },
  {
   "cell_type": "markdown",
   "metadata": {},
   "source": [
    "$\\mu_{H}$：暖房期の日射取得係数(-) / Solar radiation acquisition factor of heating season  \n",
    "$\\mu_{C}$：冷房期の日射取得係数(-) / Solar radiation acquisition coefficient during the cooling period  \n",
    "$\\eta_{A,H}$：暖房期の平均日射熱取得率(％) / Average solar heat gain rate during the heating season  \n",
    "$\\eta_{A,C}$：冷房期の平均日射熱取得率(％) / Average solar heat gain rate during the cooling period  \n",
    "$r_{env}$：床面積の合計に対する外皮の部位の面積の合計の比 / Ratio of the total area of the area of the hull to the total floor area"
   ]
  },
  {
   "cell_type": "code",
   "execution_count": null,
   "metadata": {},
   "outputs": [],
   "source": [
    "def get_eta_H(eta_A_H, r_env):\n",
    "    \"\"\" 暖房期の日射取得係数 (2)\n",
    "\n",
    "    :param eta_A_H: 暖房期の平均日射熱取得率\n",
    "    :type eta_A_H: float\n",
    "    :param r_env:床面積の合計に対しる外皮の部位の面積の合計の比（-）\n",
    "    :type r_env: float\n",
    "    :return: 暖房期の日射取得係数\n",
    "    :rtype: float\n",
    "    \"\"\"\n",
    "    if eta_A_H is None:\n",
    "        return None\n",
    "    return eta_A_H / 100.0 * r_env\n"
   ]
  },
  {
   "cell_type": "code",
   "execution_count": null,
   "metadata": {},
   "outputs": [],
   "source": [
    "def get_eta_C(eta_A_C, r_env):\n",
    "    \"\"\" 冷房期の日射取得係数 (3)\n",
    "\n",
    "    :param eta_A_C: 冷房期の平均日射熱取得率\n",
    "    :type eta_A_C: float\n",
    "    :param r_env:床面積の合計に対しる外皮の部位の面積の合計の比（-）\n",
    "    :type r_env: float\n",
    "    :return: 冷房期の日射取得係数\n",
    "    :rtype: float\n",
    "    \"\"\"\n",
    "    return eta_A_C / 100.0 * r_env\n"
   ]
  },
  {
   "cell_type": "markdown",
   "metadata": {},
   "source": [
    "### 7. 外皮平均熱貫流率並びに暖房期及び冷房期の平均日射熱取得率 / Skin average heat transmission rate and average solar heat gain rate during heating and cooling periods"
   ]
  },
  {
   "cell_type": "markdown",
   "metadata": {},
   "source": [
    "省略"
   ]
  },
  {
   "cell_type": "markdown",
   "metadata": {},
   "source": [
    "ommision"
   ]
  },
  {
   "cell_type": "code",
   "execution_count": null,
   "metadata": {},
   "outputs": [],
   "source": [
    "def calc_U_A(method, **args):\n",
    "    \"\"\" 外皮平均熱貫流率\n",
    "\n",
    "    :param method: 入力方法\n",
    "    :type method: str\n",
    "    :param args:\n",
    "    :type args:\n",
    "    :return: 外皮平均熱貫流率\n",
    "    :rtype: float\n",
    "    \"\"\"\n",
    "    if method == '当該住戸の外皮の部位の面積等を用いて外皮性能を評価する方法':\n",
    "        return detail.get_U_A(**args)\n",
    "    elif method == '当該住戸の外皮の部位の面積等を用いずに外皮性能を評価する方法':\n",
    "        return simple.get_U_A(**args)\n",
    "    else:\n",
    "        raise ValueError(method)\n"
   ]
  },
  {
   "cell_type": "code",
   "execution_count": null,
   "metadata": {},
   "outputs": [],
   "source": [
    "def calc_eta_A_H(method, region, house_insulation_type, U_roof, U_wall, U_door, U_base_etrc, U_base_bath,\n",
    "            U_base_other, etr_d, f_H):\n",
    "    \"\"\" 暖房期の平均日射熱取得率\n",
    "\n",
    "    :param method: 入力方法\n",
    "    :type method: str\n",
    "    :param region: 省エネルギー地域区分\n",
    "    :type region: int\n",
    "    :param house_insulation_type: '床断熱住戸'または'基礎断熱住戸'\n",
    "    :type house_insulation_type: str\n",
    "    :param U_roof: 屋根又は天井の熱貫流率\n",
    "    :type U_roof: float\n",
    "    :param U_wall: 壁の熱貫流率\n",
    "    :type U_wall: float\n",
    "    :param U_door: ドアの熱貫流率\n",
    "    :type U_door: float\n",
    "    :param U_base_etrc: 玄関等の基礎の熱貫流率\n",
    "    :type U_base_etrc: float\n",
    "    :param U_base_bath: 浴室の基礎の熱貫流率\n",
    "    :type U_base_bath: float\n",
    "    :param U_base_other: その他の基礎の熱貫流率\n",
    "    :type U_base_other: float\n",
    "    :param etr_d: 暖房期の垂直面日射熱取得率 (-)\n",
    "    :type etr_d: float\n",
    "    :param f_H: 暖房期の取得日射熱補正係数 (-)\n",
    "    :type f_H: float\n",
    "    :return: 暖房期の平均日射熱取得率\n",
    "    :rtype: float\n",
    "    \"\"\"\n",
    "\n",
    "    if method == '当該住戸の外皮の部位の面積等を用いて外皮性能を評価する方法':\n",
    "        return detail.get_eta_A_H()\n",
    "    elif method == '当該住戸の外皮の部位の面積等を用いずに外皮性能を評価する方法':\n",
    "\n",
    "        # 単位日射強度当たりの暖房期の日射熱取得量[W/(W/m2)]\n",
    "        m_H = simple.get_m_H(\n",
    "            region=region,\n",
    "            house_insulation_type=house_insulation_type,\n",
    "            U_roof=U_roof,\n",
    "            U_wall=U_wall,\n",
    "            U_door=U_door,\n",
    "            U_base_etrc=U_base_etrc,\n",
    "            U_base_bath=U_base_bath,\n",
    "            U_base_other=U_base_other,\n",
    "            etr_d=etr_d,\n",
    "            f_H=f_H\n",
    "        )\n",
    "\n",
    "        A_dash_env = simple.get_A_dash_env(house_insulation_type)\n",
    "\n",
    "        return simple.get_eta_A_H(m_H=m_H, A_dash_env=A_dash_env)\n",
    "    else:\n",
    "        raise ValueError(method)"
   ]
  },
  {
   "cell_type": "code",
   "execution_count": null,
   "metadata": {},
   "outputs": [],
   "source": [
    "def calc_eta_A_C(method, region, house_insulation_type, U_roof, U_wall, U_door, U_base_etrc, U_base_bath, U_base_other,\n",
    "            etr_d, f_C):\n",
    "    \"\"\" 冷房期の平均日射熱取得率\n",
    "\n",
    "    :param method: 入力方法\n",
    "    :type method: str\n",
    "    :param region: 省エネルギー地域区分\n",
    "    :type region: int\n",
    "    :param house_insulation_type: '床断熱住戸'または'基礎断熱住戸'\n",
    "    :type house_insulation_type: str\n",
    "    :param U_roof: 屋根又は天井の熱貫流率\n",
    "    :type U_roof: float\n",
    "    :param U_wall: 壁の熱貫流率\n",
    "    :type U_wall: float\n",
    "    :param U_door: ドアの熱貫流率\n",
    "    :type U_door: float\n",
    "    :param U_base_etrc: 玄関等の基礎の熱貫流率\n",
    "    :type U_base_etrc: float\n",
    "    :param U_base_bath: 浴室の基礎の熱貫流率\n",
    "    :type U_base_bath: float\n",
    "    :param U_base_other: その他の基礎の熱貫流率\n",
    "    :type U_base_other: float\n",
    "    :param etr_d: 暖房期の垂直面日射熱取得率 (-)\n",
    "    :type etr_d: float\n",
    "    :param f_C: 冷房期の取得日射熱補正係数 (-)\n",
    "    :type f_C: float\n",
    "    :return: 冷房期の平均日射熱取得率\n",
    "    :rtype: float\n",
    "    \"\"\"\n",
    "\n",
    "    if method == '当該住戸の外皮の部位の面積等を用いて外皮性能を評価する方法':\n",
    "        return detail.get_eta_A_C()\n",
    "    elif method == '当該住戸の外皮の部位の面積等を用いずに外皮性能を評価する方法':\n",
    "\n",
    "        # 単位日射強度当たりの冷房期の日射熱取得量[W/(W/m2)]\n",
    "        m_C = simple.get_m_C(\n",
    "            region=region,\n",
    "            house_insulation_type=house_insulation_type,\n",
    "            U_roof=U_roof,\n",
    "            U_wall=U_wall,\n",
    "            U_door=U_door,\n",
    "            U_base_etrc=U_base_etrc,\n",
    "            U_base_bath=U_base_bath,\n",
    "            U_base_other=U_base_other,\n",
    "            etr_d=etr_d,\n",
    "            f_C=f_C)\n",
    "\n",
    "        A_dash_env = simple.get_A_dash_env(house_insulation_type)\n",
    "\n",
    "        return simple.get_eta_A_C(m_C=m_C, A_dash_env=A_dash_env)\n",
    "    else:\n",
    "        raise ValueError(method)\n"
   ]
  },
  {
   "cell_type": "code",
   "execution_count": null,
   "metadata": {},
   "outputs": [],
   "source": [
    "def calc_r_env(method, A_env=None, A_A=None, house_insulation_type=None):\n",
    "    \"\"\" 床面積の合計に対する外皮の部位の面積の合計の比\n",
    "\n",
    "    :param method: 入力方法\n",
    "    :type method: str\n",
    "    :param A_env: 外皮の部位の面積の合計 (m2)\n",
    "    :type A_env: float\n",
    "    :param A_A: 床面積の合計[m^2]\n",
    "    :type A_A: float\n",
    "    :param house_insulation_type: '床断熱住戸'または'基礎断熱住戸'\n",
    "    :type house_insulation_type: str\n",
    "    :return: 床面積の合計に対する外皮の部位の面積の合計の比\n",
    "    :rtype: float\n",
    "    \"\"\"\n",
    "    if method == '当該住戸の外皮の部位の面積等を用いて外皮性能を評価する方法':\n",
    "        return detail.get_r_env(\n",
    "            A_env=A_env,\n",
    "            A_A=A_A\n",
    "        )\n",
    "    elif method == '当該住戸の外皮の部位の面積等を用いずに外皮性能を評価する方法':\n",
    "\n",
    "        # 外部部位の面積の合計 (m2)\n",
    "        A_dash_env = simple.get_A_dash_env(house_insulation_type)\n",
    "\n",
    "        # 床面積の合計\n",
    "        A_dash_A = simple.get_A_dash_A()\n",
    "\n",
    "        return simple.get_r_env(\n",
    "            A_dash_env=A_dash_env,\n",
    "            A_dash_A=A_dash_A\n",
    "        )\n",
    "    else:\n",
    "        raise ValueError(method)\n"
   ]
  },
  {
   "cell_type": "markdown",
   "metadata": {},
   "source": [
    "## 付録 A 外皮の部位の面積及び熱橋等の長さ等 / Appendix A Area of hull part and length of heat bridge etc."
   ]
  },
  {
   "cell_type": "markdown",
   "metadata": {},
   "source": [
    "省略"
   ]
  },
  {
   "cell_type": "markdown",
   "metadata": {},
   "source": [
    "ommision"
   ]
  },
  {
   "cell_type": "markdown",
   "metadata": {},
   "source": [
    "## 付録 B 温度差係数 / Appendix B Temperature difference coefficient"
   ]
  },
  {
   "cell_type": "markdown",
   "metadata": {},
   "source": [
    "<div style=\"text-align: center;font-weight: bold;\">表　温度差係数<br>Table: Temperature difference coefficient</div>\n",
    "\n",
    "<table>\n",
    "<thead>\n",
    "<tr>\n",
    "<th colspan=\"4\" style=\"text-align:center;\">隣接空間の種類<br>Adjacent space type</th>\n",
    "</tr>\n",
    "<tr>\n",
    "<th rowspan=\"2\" style=\"text-align:center;\">外気<br>外気に通じる空間<br>Outside air<br>Space that leads to the open air</th>\n",
    "<th rowspan=\"2\" style=\"text-align:center;\">外気に通じていない空間<br>外気に通じる床裏<br>Space that does not communicate outside<br>The floor is open to the atmosphere</th>\n",
    "<th colspan=\"2\" style=\"text-align:center;\">住戸及び住戸と同様の熱的環境の空間<br>外気に通じていない床裏<br>Space of thermal environment similar to dwelling unit and dwelling unit<br>The floor does not communicate with the outside air</th>\n",
    "</tr>\n",
    "<tr>\n",
    "<th>1～3 地域<br>1 to 3 area</th>\n",
    "<th>4～8 地域<br>4 to 8 area</th>\n",
    "</tr>\n",
    "</thead>\n",
    "\n",
    "<tbody>\n",
    "<tr>\n",
    "<td>1.0</td><td>0.7</td><td>0.05</td><td>0.15</td>\n",
    "</tr>\n",
    "</tbody>\n",
    "</table>\n"
   ]
  },
  {
   "cell_type": "code",
   "execution_count": null,
   "metadata": {},
   "outputs": [],
   "source": [
    "# 温度差係数\n",
    "def get_H(adjacent_type, region):\n",
    "    \"\"\"\n",
    "    :param adjacent_type: 隣接空間の種類\n",
    "    :param region: 地域区分\n",
    "    :return: 温度差係数 (-)\n",
    "    \"\"\"\n",
    "    # 表1 温度差係数\n",
    "    table_1 = (1.0, 0.7, 0.05, 0.15)\n",
    "    if adjacent_type == '外気・外気に通じる空間':\n",
    "        return table_1[0]\n",
    "    elif adjacent_type == '外気に通じていない空間・外気に通じる床裏':\n",
    "        return table_1[1]\n",
    "    elif adjacent_type == '住戸及び住戸と同様の熱的環境の空間・外気に通じていない床裏':\n",
    "        if region in [1, 2, 3]:\n",
    "            return table_1[2]\n",
    "        elif region in [4, 5, 6, 7, 8]:\n",
    "            return table_1[3]\n",
    "        else:\n",
    "            raise ValueError(region)\n",
    "    else:\n",
    "        raise ValueError(adjacent_type)"
   ]
  },
  {
   "cell_type": "markdown",
   "metadata": {},
   "source": [
    "## 付録  C 方位係数 / Appendix C Orientation coefficient"
   ]
  },
  {
   "cell_type": "markdown",
   "metadata": {},
   "source": [
    "界壁及び界床の方位係数は0とする。"
   ]
  },
  {
   "cell_type": "markdown",
   "metadata": {},
   "source": [
    "The orientation coefficient of the boundary wall and the boundary floor is 0."
   ]
  },
  {
   "cell_type": "code",
   "execution_count": null,
   "metadata": {},
   "outputs": [],
   "source": [
    "# 界壁及び界床の方位係数 (-)\n",
    "def get_nu_boundary():\n",
    "    return 0.0"
   ]
  },
  {
   "cell_type": "markdown",
   "metadata": {},
   "source": [
    "<div style=\"text-align: center;font-weight: bold;\">表　暖房期の方位係数<br>Table: Orientation factor for heating season</div>\n",
    "\n",
    "<table>\n",
    "<thead>\n",
    "<tr>\n",
    "<th rowspan=\"2\">方位<br>Orientation</th>\n",
    "<th colspan=\"8\">地域の区分<br>Segmentation of area</th>\n",
    "</tr>\n",
    "<tr>\n",
    "<th>1</th>\n",
    "<th>2</th>\n",
    "<th>3</th>\n",
    "<th>4</th>\n",
    "<th>5</th>\n",
    "<th>6</th>\n",
    "<th>7</th>\n",
    "<th>8</th>\n",
    "</tr>\n",
    "</thead>\n",
    "\n",
    "<tbody>\n",
    "<tr>\n",
    "<th>上面<br>Top surface</th><td colspan=\"7\" style=\"text-align: center;\">1.0</td><td rowspan=\"10\">-</td>\n",
    "</tr>\n",
    "<tr><th>北<br>North</th><td>0.260</td><td>0.263</td><td>0.284</td><td>0.256</td><td>0.238</td><td>0.261</td><td>0.227</td></tr>\n",
    "<tr><th>北東<br>Northeast</th><td>0.333</td><td>0.341</td><td>0.348</td><td>0.330</td><td>0.310</td><td>0.325</td><td>0.281</td></tr>\n",
    "<tr><th>東<br>East</th><td>0.564</td><td>0.554</td><td>0.540</td><td>0.531</td><td>0.568</td><td>0.579</td><td>0.543</td></tr>\n",
    "<tr><th>南東<br>Southeast</th><td>0.823</td><td>0.766</td><td>0.751</td><td>0.724</td><td>0.846</td><td>0.833</td><td>0.843</td></tr>\n",
    "<tr><th>南<br>South</th><td>0.935</td><td>0.856</td><td>0.851</td><td>0.815</td><td>0.983</td><td>0.936</td><td>1.023</td></tr>\n",
    "<tr><th>南西<br>Southwest</th><td>0.790</td><td>0.753</td><td>0.750</td><td>0.723</td><td>0.815</td><td>0.763</td><td>0.848</td></tr>\n",
    "<tr><th>西<br>West</th><td>0.535</td><td>0.544</td><td>0.542</td><td>0.527</td><td>0.538</td><td>0.523</td><td>0.548</td></tr>\n",
    "<tr><th>北西<br>Northwest</th><td>0.325</td><td>0.341</td><td>0.351</td><td>0.326</td><td>0.297</td><td>0.317</td><td>0.284</td></tr>\n",
    "<tr>\n",
    "<th>下面<br>Bottom side</th><td colspan=\"7\" style=\"text-align: center;\">0.0</td>\n",
    "</tr>\n",
    "</tbody>\n",
    "</table>\n"
   ]
  },
  {
   "cell_type": "code",
   "execution_count": null,
   "metadata": {},
   "outputs": [],
   "source": [
    "# 外皮の部位の暖房期の方位係数\n",
    "def get_nu_H(region, direction):\n",
    "    \"\"\"\n",
    "    :param region: 地域の区分(1,2,3,4,5,6,7,8)\n",
    "    :param direction: 外皮の部位の方位\n",
    "    :return: 外皮の部位の暖房期の方位係数 (-)\n",
    "    \"\"\"\n",
    "    # 表1 暖房期の方位係数\n",
    "    table_1 = {\n",
    "        '上面': (1.0, 1.0, 1.0, 1.0, 1.0, 1.0, 1.0, None),\n",
    "        '北': (0.260, 0.263, 0.284, 0.256, 0.238, 0.261, 0.227, None),\n",
    "        '北東': (0.333, 0.341, 0.348, 0.330, 0.310, 0.325, 0.281, None),\n",
    "        '東': (0.564, 0.554, 0.540, 0.531, 0.568, 0.579, 0.543, None),\n",
    "        '南東': (0.823, 0.766, 0.751, 0.724, 0.846, 0.833, 0.843, None),\n",
    "        '南': (0.935, 0.856, 0.851, 0.815, 0.983, 0.936, 1.023, None),\n",
    "        '南西': (0.790, 0.753, 0.750, 0.723, 0.815, 0.763, 0.848, None),\n",
    "        '西': (0.535, 0.544, 0.542, 0.527, 0.538, 0.523, 0.548, None),\n",
    "        '北西': (0.325, 0.341, 0.351, 0.326, 0.297, 0.317, 0.284, None),\n",
    "        '下面': (0.0, 0.0, 0.0, 0.0, 0.0, 0.0, 0.0, None),\n",
    "    }\n",
    "    return table_1[direction][region - 1]"
   ]
  },
  {
   "cell_type": "markdown",
   "metadata": {},
   "source": [
    "<div style=\"text-align: center;font-weight: bold;\">表　冷房期の方位係数<br>Table: Orientation coefficient in the cooling period</div>\n",
    "\n",
    "<table>\n",
    "<thead>\n",
    "<tr>\n",
    "<th rowspan=\"2\">方位<br>Orientation</th>\n",
    "<th colspan=\"8\">地域の区分<br>Segmentation of area</th>\n",
    "</tr>\n",
    "<tr>\n",
    "<th>1</th>\n",
    "<th>2</th>\n",
    "<th>3</th>\n",
    "<th>4</th>\n",
    "<th>5</th>\n",
    "<th>6</th>\n",
    "<th>7</th>\n",
    "<th>8</th>\n",
    "</tr>\n",
    "</thead>\n",
    "\n",
    "<tbody>\n",
    "<tr>\n",
    "<th>上面<br>Top surface</th><td colspan=\"8\" style=\"text-align: center;\">1.0</td>\n",
    "</tr>\n",
    "<tr><th>北<br>North</th><td>0.329</td><td>0.341</td><td>0.335</td><td>0.322</td><td>0.373</td><td>0.341</td><td>0.307</td><td>0.325</td></tr>\n",
    "<tr><th>北東<br>Northeast</th><td>0.430</td><td>0.412</td><td>0.390</td><td>0.426</td><td>0.437</td><td>0.431</td><td>0.415</td><td>0.414</td></tr>\n",
    "<tr><th>東<br>East</th><td>0.545</td><td>0.503</td><td>0.468</td><td>0.518</td><td>0.500</td><td>0.512</td><td>0.509</td><td>0.515</td></tr>\n",
    "<tr><th>南東<br>Southeast</th><td>0.560</td><td>0.527</td><td>0.487</td><td>0.508</td><td>0.500</td><td>0.498</td><td>0.490</td><td>0.528</td></tr>\n",
    "<tr><th>南<br>South</th><td>0.502</td><td>0.507</td><td>0.476</td><td>0.437</td><td>0.472</td><td>0.434</td><td>0.412</td><td>0.480</td></tr>\n",
    "<tr><th>南西<br>Southwest</th><td>0.526</td><td>0.548</td><td>0.550</td><td>0.481</td><td>0.520</td><td>0.491</td><td>0.479</td><td>0.517</td></tr>\n",
    "<tr><th>西<br>West</th><td>0.508</td><td>0.529</td><td>0.553</td><td>0.481</td><td>0.518</td><td>0.504</td><td>0.495</td><td>0.505</td></tr>\n",
    "<tr><th>北西<br>Northwest</th><td>0.411</td><td>0.428</td><td>0.447</td><td>0.401</td><td>0.442</td><td>0.427</td><td>0.406</td><td>0.411</td></tr>\n",
    "<tr>\n",
    "<th>下面<br>Bottom side</th><td colspan=\"8\" style=\"text-align: center;\">0.0</td>\n",
    "</tr>\n",
    "</tbody>\n",
    "</table>\n"
   ]
  },
  {
   "cell_type": "code",
   "execution_count": null,
   "metadata": {},
   "outputs": [],
   "source": [
    "# 外皮の部位の冷房期の方位係数\n",
    "def get_nu_C(region, direction):\n",
    "    \"\"\"\n",
    "    :param region: 地域の区分(1,2,3,4,5,6,7,8)\n",
    "    :param direction: 外皮の部位の方位\n",
    "    :return: 外皮の部位の暖房期の方位係数 (-)\n",
    "    \"\"\"\n",
    "    # 表2 冷房期の方位係数\n",
    "    table_2 = {\n",
    "        '上面': (1.0, 1.0, 1.0, 1.0, 1.0, 1.0, 1.0, 1.0),\n",
    "        '北': (0.329, 0.341, 0.335, 0.322, 0.373, 0.341, 0.307, 0.325),\n",
    "        '北東': (0.430, 0.412, 0.390, 0.426, 0.437, 0.431, 0.415, 0.414),\n",
    "        '東': (0.545, 0.503, 0.468, 0.518, 0.500, 0.512, 0.509, 0.515),\n",
    "        '南東': (0.560, 0.527, 0.487, 0.508, 0.500, 0.498, 0.490, 0.528),\n",
    "        '南': (0.502, 0.507, 0.476, 0.437, 0.472, 0.434, 0.412, 0.480),\n",
    "        '南西': (0.526, 0.548, 0.550, 0.481, 0.520, 0.491, 0.479, 0.517),\n",
    "        '西': (0.508, 0.529, 0.553, 0.481, 0.518, 0.503, 0.495, 0.505),\n",
    "        '北西': (0.411, 0.428, 0.447, 0.401, 0.442, 0.427, 0.406, 0.411),\n",
    "        '下面': (0.0, 0.0, 0.0, 0.0, 0.0, 0.0, 0.0, 0.0),\n",
    "    }\n",
    "    return table_2[direction][region - 1]"
   ]
  }
 ],
 "metadata": {
  "kernelspec": {
   "display_name": "Python 3",
   "language": "python",
   "name": "python3"
  },
  "language_info": {
   "codemirror_mode": {
    "name": "ipython",
    "version": 3
   },
   "file_extension": ".py",
   "mimetype": "text/x-python",
   "name": "python",
   "nbconvert_exporter": "python",
   "pygments_lexer": "ipython3",
   "version": "3.6.6"
  }
 },
 "nbformat": 4,
 "nbformat_minor": 2
}
