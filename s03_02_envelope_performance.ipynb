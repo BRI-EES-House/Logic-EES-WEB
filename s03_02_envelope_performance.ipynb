{
 "cells": [
  {
   "cell_type": "code",
   "execution_count": null,
   "metadata": {},
   "outputs": [],
   "source": [
    "import nbimporter\n",
    "import s03_02_08_envelope_performance_detail as detail\n",
    "import s03_02_09_envelope_performance_simple as simple\n",
    "\n"
   ]
  },
  {
   "cell_type": "markdown",
   "metadata": {},
   "source": [
    "## 第二節　外皮性能 / Section 2 Envelope Performance"
   ]
  },
  {
   "cell_type": "markdown",
   "metadata": {},
   "source": [
    "1．適用範囲～4．記号及び単位は省略"
   ]
  },
  {
   "cell_type": "markdown",
   "metadata": {},
   "source": [
    "1. Scope of application ~ 4. Symbols and units are omitted"
   ]
  },
  {
   "cell_type": "code",
   "execution_count": null,
   "metadata": {},
   "outputs": [],
   "source": [
    "def calc_insulation_performance(method, A_env=None, A_A=None, U_A=None, eta_A_H=None, eta_A_C=None,\n",
    "                                house_insulation_type=None, insulation_structure=None,\n",
    "                                U_spec=None,f_H=None,f_C=None,eta_d_H=None,eta_d_C=None,region=None):\n",
    "    \"\"\" 外皮の断熱性能の計算\n",
    "     入力方法によって、U_A, eta_A_H, eta_A_C, r_env の計算方法が異なる\n",
    "     1.当該住宅の外皮面積の合計を用いて評価する => すべて別途計算された結果を用いる\n",
    "     2.簡易的に求めた外皮面積の合計を用いて評価する => U_A, eta_A_H, eta_A_Cは別途計算された値を用いるが、r_envは簡易計算\n",
    "     3.当該住戸の外皮の部位の面積等を用いて外皮性能を評価する方法 => すべて簡易計算\n",
    "\n",
    "    :param method: 入力方法\n",
    "    :type method: str\n",
    "    :param A_env: 外皮の部位の面積の合計 (m2)\n",
    "    :type A_env: float\n",
    "    :param A_A: 床面積の合計[m^2]\n",
    "    :type A_A: float\n",
    "    :param U_A: 外皮平均熱貫流率\n",
    "    :type U_A: float\n",
    "    :param eta_A_H: 暖房期の平均日射熱取得率\n",
    "    :type eta_A_H: float\n",
    "    :param eta_A_C: 冷房期の平均日射熱取得率\n",
    "    :type eta_A_C: float\n",
    "    :param house_insulation_type: '床断熱住戸'または'基礎断熱住戸'\n",
    "    :type house_insulation_type: str\n",
    "    :param insulation_structure: 断熱構造による住戸の種類\n",
    "    :type insulation_structure: str\n",
    "    :param U_spec: 外皮の部位の熱貫流率の辞書\n",
    "    :type U_spec: dict\n",
    "    :param f_H: 暖房期の取得日射熱補正係数 (-)\n",
    "    :type f_H: float\n",
    "    :param f_C: 冷房期の取得日射熱補正係数 (-)\n",
    "    :type f_C: float\n",
    "    :param eta_d_H: 暖房期の日射熱取得率\n",
    "    :type eta_d_H:\n",
    "    :param eta_d_C:\n",
    "    :type eta_d_C:\n",
    "    :param region: 省エネルギー地域区分\n",
    "    :type region: int\n",
    "    :return: 外皮の断熱性能\n",
    "    :rtype: tuple\n",
    "    \"\"\"\n",
    "    if method == '当該住宅の外皮面積の合計を用いて評価する':\n",
    "        # 床面積の合計に対する外皮の部位の面積の合計の比\n",
    "        r_env = calc_r_env(\n",
    "            method='当該住戸の外皮の部位の面積等を用いて外皮性能を評価する方法',\n",
    "            A_env=A_env,\n",
    "            A_A=A_A\n",
    "        )\n",
    "    elif method == '簡易的に求めた外皮面積の合計を用いて評価する':\n",
    "        # 床面積の合計に対する外皮の部位の面積の合計の比\n",
    "        r_env = calc_r_env(\n",
    "            method='当該住戸の外皮の部位の面積等を用いずに外皮性能を評価する方法',\n",
    "            house_insulation_type=house_insulation_type\n",
    "        )\n",
    "    elif method == '当該住戸の外皮の部位の面積等を用いて外皮性能を評価する方法':\n",
    "        # 断熱構造による住戸の種類に応じてU_A値を計算する\n",
    "        U_A, U = simple.calc_U_A(insulation_structure, **U_spec)\n",
    "\n",
    "        # 床面積の合計に対する外皮の部位の面積の合計の比\n",
    "        r_env = calc_r_env(\n",
    "            method='当該住戸の外皮の部位の面積等を用いずに外皮性能を評価する方法',\n",
    "            A_env=None,\n",
    "            A_A=None,\n",
    "            house_insulation_type=U['house_insulation_type']\n",
    "        )\n",
    "\n",
    "        # 暖房期平均日射熱取得率(ηAH)\n",
    "        eta_A_H = calc_eta_A_H(\n",
    "            method='当該住戸の外皮の部位の面積等を用いずに外皮性能を評価する方法',\n",
    "            region=region,\n",
    "            house_insulation_type=U['house_insulation_type'],\n",
    "            U_roof=U['U_roof'],\n",
    "            U_wall=U['U_wall'],\n",
    "            U_door=U['U_door'],\n",
    "            U_base_etrc=U['U_base_etrc'],\n",
    "            U_base_bath=U['U_base_bath'],\n",
    "            U_base_other=U['U_base_other'],\n",
    "            etr_d=eta_d_H,\n",
    "            f_H=f_H\n",
    "        )\n",
    "\n",
    "        # 冷房期平均日射熱取得率(ηAC)\n",
    "        eta_A_C = calc_eta_A_C(\n",
    "            method='当該住戸の外皮の部位の面積等を用いずに外皮性能を評価する方法',\n",
    "            region=region,\n",
    "            house_insulation_type=U['house_insulation_type'],\n",
    "            U_roof=U['U_roof'],\n",
    "            U_wall=U['U_wall'],\n",
    "            U_door=U['U_door'],\n",
    "            U_base_etrc=U['U_base_etrc'],\n",
    "            U_base_bath=U['U_base_bath'],\n",
    "            U_base_other=U['U_base_other'],\n",
    "            etr_d=eta_d_C,\n",
    "            f_C=f_C\n",
    "        )\n",
    "\n",
    "        house_insulation_type = U['house_insulation_type']\n",
    "    else:\n",
    "        raise ValueError(method)\n",
    "\n",
    "    # 熱損失係数（換気による熱損失を含まない）\n",
    "    Q_dash = get_Q_dash(U_A, r_env)\n",
    "\n",
    "    # 日射取得係数\n",
    "    eta_H = get_eta_H(eta_A_H, r_env)\n",
    "    eta_C = get_eta_C(eta_A_C, r_env)\n",
    "\n",
    "    return U_A, r_env, eta_A_H, eta_A_C, Q_dash, eta_H, eta_C, house_insulation_type\n"
   ]
  },
  {
   "cell_type": "markdown",
   "metadata": {},
   "source": [
    "### 5. 熱損失係数（換気による熱損失を含まない） / Heat loss coefficient (does not include heat loss due to ventilation)"
   ]
  },
  {
   "cell_type": "markdown",
   "metadata": {},
   "source": [
    "$$\\large\n",
    "Q' = U_{A} \\times r_{env}\n",
    "$$"
   ]
  },
  {
   "cell_type": "markdown",
   "metadata": {},
   "source": [
    "$Q'$：熱損失係数（換気による熱損失を含まない）(W/m<sup>2</sup>K) / Heat loss coefficient (does not include heat loss due to ventilation)  \n",
    "$U_{A}$：外皮平均熱貫流率(W/m<sup>2</sup>K) / Average heat penetration coefficient of skin  \n",
    "$r_{env}$：床面積の合計に対する外皮の部位の面積の合計の比 / Ratio of the sum of the area of the area of the hull to the sum of the floor area "
   ]
  },
  {
   "cell_type": "code",
   "execution_count": null,
   "metadata": {},
   "outputs": [],
   "source": [
    "def get_Q_dash(U_A, r_env):\n",
    "    \"\"\" 熱損失係数（換気による熱損失を含まない） (1)\n",
    "\n",
    "    :param U_A: 外皮平均熱貫流率\n",
    "    :type U_A: float\n",
    "    :param r_env:床面積の合計に対しる外皮の部位の面積の合計の比（-）\n",
    "    :type r_env: float\n",
    "    :return: 熱損失係数（換気による熱損失を含まない）\n",
    "    :rtype: float\n",
    "    \"\"\"\n",
    "    return U_A * r_env  # (1)\n"
   ]
  },
  {
   "cell_type": "markdown",
   "metadata": {},
   "source": [
    "### 6. 日射取得係数 / Solar radiation acquisition coefficient"
   ]
  },
  {
   "cell_type": "markdown",
   "metadata": {},
   "source": [
    "$$\\large\n",
    "\\mu_{H} = \\frac{\\eta_{A,H}}{100} \\times r_{env}\n",
    "$$\n",
    "\n",
    "$$\\large\n",
    "\\mu_{C} = \\frac{\\eta_{A,C}}{100} \\times r_{env}\n",
    "$$"
   ]
  },
  {
   "cell_type": "markdown",
   "metadata": {},
   "source": [
    "$\\mu_{H}$：暖房期の日射取得係数(-) / Solar radiation acquisition factor of heating season  \n",
    "$\\mu_{C}$：冷房期の日射取得係数(-) / Solar radiation acquisition coefficient during the cooling period  \n",
    "$\\eta_{A,H}$：暖房期の平均日射熱取得率(％) / Average solar heat gain rate during the heating season  \n",
    "$\\eta_{A,C}$：冷房期の平均日射熱取得率(％) / Average solar heat gain rate during the cooling period  \n",
    "$r_{env}$：床面積の合計に対する外皮の部位の面積の合計の比 / Ratio of the total area of the area of the hull to the total floor area"
   ]
  },
  {
   "cell_type": "code",
   "execution_count": null,
   "metadata": {},
   "outputs": [],
   "source": [
    "def get_eta_H(eta_A_H, r_env):\n",
    "    \"\"\" 暖房期の日射取得係数 (2)\n",
    "\n",
    "    :param eta_A_H: 暖房期の平均日射熱取得率\n",
    "    :type eta_A_H: float\n",
    "    :param r_env:床面積の合計に対しる外皮の部位の面積の合計の比（-）\n",
    "    :type r_env: float\n",
    "    :return: 暖房期の日射取得係数\n",
    "    :rtype: float\n",
    "    \"\"\"\n",
    "    if eta_A_H is None:\n",
    "        return None\n",
    "    return eta_A_H / 100.0 * r_env\n"
   ]
  },
  {
   "cell_type": "code",
   "execution_count": null,
   "metadata": {},
   "outputs": [],
   "source": [
    "def get_eta_C(eta_A_C, r_env):\n",
    "    \"\"\" 冷房期の日射取得係数 (3)\n",
    "\n",
    "    :param eta_A_C: 冷房期の平均日射熱取得率\n",
    "    :type eta_A_C: float\n",
    "    :param r_env:床面積の合計に対しる外皮の部位の面積の合計の比（-）\n",
    "    :type r_env: float\n",
    "    :return: 冷房期の日射取得係数\n",
    "    :rtype: float\n",
    "    \"\"\"\n",
    "    return eta_A_C / 100.0 * r_env\n"
   ]
  },
  {
   "cell_type": "markdown",
   "metadata": {},
   "source": [
    "### 7. 外皮平均熱貫流率並びに暖房期及び冷房期の平均日射熱取得率 / Skin average heat transmission rate and average solar heat gain rate during heating and cooling periods"
   ]
  },
  {
   "cell_type": "markdown",
   "metadata": {},
   "source": [
    "省略"
   ]
  },
  {
   "cell_type": "markdown",
   "metadata": {},
   "source": [
    "ommision"
   ]
  },
  {
   "cell_type": "code",
   "execution_count": null,
   "metadata": {},
   "outputs": [],
   "source": [
    "def calc_U_A(method, **args):\n",
    "    \"\"\" 外皮平均熱貫流率\n",
    "\n",
    "    :param method: 入力方法\n",
    "    :type method: str\n",
    "    :param args:\n",
    "    :type args:\n",
    "    :return: 外皮平均熱貫流率\n",
    "    :rtype: float\n",
    "    \"\"\"\n",
    "    if method == '当該住戸の外皮の部位の面積等を用いて外皮性能を評価する方法':\n",
    "        return detail.get_U_A(**args)\n",
    "    elif method == '当該住戸の外皮の部位の面積等を用いずに外皮性能を評価する方法':\n",
    "        return simple.get_U_A(**args)\n",
    "    else:\n",
    "        raise ValueError(method)\n"
   ]
  },
  {
   "cell_type": "code",
   "execution_count": null,
   "metadata": {},
   "outputs": [],
   "source": [
    "def calc_eta_A_H(method, region, house_insulation_type, U_roof, U_wall, U_door, U_base_etrc, U_base_bath,\n",
    "            U_base_other, etr_d, f_H):\n",
    "    \"\"\" 暖房期の平均日射熱取得率\n",
    "\n",
    "    :param method: 入力方法\n",
    "    :type method: str\n",
    "    :param region: 省エネルギー地域区分\n",
    "    :type region: int\n",
    "    :param house_insulation_type: '床断熱住戸'または'基礎断熱住戸'\n",
    "    :type house_insulation_type: str\n",
    "    :param U_roof: 屋根又は天井の熱貫流率\n",
    "    :type U_roof: float\n",
    "    :param U_wall: 壁の熱貫流率\n",
    "    :type U_wall: float\n",
    "    :param U_door: ドアの熱貫流率\n",
    "    :type U_door: float\n",
    "    :param U_base_etrc: 玄関等の基礎の熱貫流率\n",
    "    :type U_base_etrc: float\n",
    "    :param U_base_bath: 浴室の基礎の熱貫流率\n",
    "    :type U_base_bath: float\n",
    "    :param U_base_other: その他の基礎の熱貫流率\n",
    "    :type U_base_other: float\n",
    "    :param etr_d: 暖房期の垂直面日射熱取得率 (-)\n",
    "    :type etr_d: float\n",
    "    :param f_H: 暖房期の取得日射熱補正係数 (-)\n",
    "    :type f_H: float\n",
    "    :return: 暖房期の平均日射熱取得率\n",
    "    :rtype: float\n",
    "    \"\"\"\n",
    "\n",
    "    if method == '当該住戸の外皮の部位の面積等を用いて外皮性能を評価する方法':\n",
    "        return detail.get_eta_A_H()\n",
    "    elif method == '当該住戸の外皮の部位の面積等を用いずに外皮性能を評価する方法':\n",
    "\n",
    "        # 単位日射強度当たりの暖房期の日射熱取得量[W/(W/m2)]\n",
    "        m_H = simple.get_m_H(\n",
    "            region=region,\n",
    "            house_insulation_type=house_insulation_type,\n",
    "            U_roof=U_roof,\n",
    "            U_wall=U_wall,\n",
    "            U_door=U_door,\n",
    "            U_base_etrc=U_base_etrc,\n",
    "            U_base_bath=U_base_bath,\n",
    "            U_base_other=U_base_other,\n",
    "            etr_d=etr_d,\n",
    "            f_H=f_H\n",
    "        )\n",
    "\n",
    "        A_dash_env = simple.get_A_dash_env(house_insulation_type)\n",
    "\n",
    "        return simple.get_eta_A_H(m_H=m_H, A_dash_env=A_dash_env)\n",
    "    else:\n",
    "        raise ValueError(method)"
   ]
  },
  {
   "cell_type": "code",
   "execution_count": null,
   "metadata": {},
   "outputs": [],
   "source": [
    "def calc_eta_A_C(method, region, house_insulation_type, U_roof, U_wall, U_door, U_base_etrc, U_base_bath, U_base_other,\n",
    "            etr_d, f_C):\n",
    "    \"\"\" 冷房期の平均日射熱取得率\n",
    "\n",
    "    :param method: 入力方法\n",
    "    :type method: str\n",
    "    :param region: 省エネルギー地域区分\n",
    "    :type region: int\n",
    "    :param house_insulation_type: '床断熱住戸'または'基礎断熱住戸'\n",
    "    :type house_insulation_type: str\n",
    "    :param U_roof: 屋根又は天井の熱貫流率\n",
    "    :type U_roof: float\n",
    "    :param U_wall: 壁の熱貫流率\n",
    "    :type U_wall: float\n",
    "    :param U_door: ドアの熱貫流率\n",
    "    :type U_door: float\n",
    "    :param U_base_etrc: 玄関等の基礎の熱貫流率\n",
    "    :type U_base_etrc: float\n",
    "    :param U_base_bath: 浴室の基礎の熱貫流率\n",
    "    :type U_base_bath: float\n",
    "    :param U_base_other: その他の基礎の熱貫流率\n",
    "    :type U_base_other: float\n",
    "    :param etr_d: 暖房期の垂直面日射熱取得率 (-)\n",
    "    :type etr_d: float\n",
    "    :param f_C: 冷房期の取得日射熱補正係数 (-)\n",
    "    :type f_C: float\n",
    "    :return: 冷房期の平均日射熱取得率\n",
    "    :rtype: float\n",
    "    \"\"\"\n",
    "\n",
    "    if method == '当該住戸の外皮の部位の面積等を用いて外皮性能を評価する方法':\n",
    "        return detail.get_eta_A_C()\n",
    "    elif method == '当該住戸の外皮の部位の面積等を用いずに外皮性能を評価する方法':\n",
    "\n",
    "        # 単位日射強度当たりの冷房期の日射熱取得量[W/(W/m2)]\n",
    "        m_C = simple.get_m_C(\n",
    "            region=region,\n",
    "            house_insulation_type=house_insulation_type,\n",
    "            U_roof=U_roof,\n",
    "            U_wall=U_wall,\n",
    "            U_door=U_door,\n",
    "            U_base_etrc=U_base_etrc,\n",
    "            U_base_bath=U_base_bath,\n",
    "            U_base_other=U_base_other,\n",
    "            etr_d=etr_d,\n",
    "            f_C=f_C)\n",
    "\n",
    "        A_dash_env = simple.get_A_dash_env(house_insulation_type)\n",
    "\n",
    "        return simple.get_eta_A_C(m_C=m_C, A_dash_env=A_dash_env)\n",
    "    else:\n",
    "        raise ValueError(method)\n"
   ]
  },
  {
   "cell_type": "code",
   "execution_count": null,
   "metadata": {},
   "outputs": [],
   "source": [
    "def calc_r_env(method, A_env=None, A_A=None, house_insulation_type=None):\n",
    "    \"\"\" 床面積の合計に対する外皮の部位の面積の合計の比\n",
    "\n",
    "    :param method: 入力方法\n",
    "    :type method: str\n",
    "    :param A_env: 外皮の部位の面積の合計 (m2)\n",
    "    :type A_env: float\n",
    "    :param A_A: 床面積の合計[m^2]\n",
    "    :type A_A: float\n",
    "    :param house_insulation_type: '床断熱住戸'または'基礎断熱住戸'\n",
    "    :type house_insulation_type: str\n",
    "    :return: 床面積の合計に対する外皮の部位の面積の合計の比\n",
    "    :rtype: float\n",
    "    \"\"\"\n",
    "    if method == '当該住戸の外皮の部位の面積等を用いて外皮性能を評価する方法':\n",
    "        return detail.get_r_env(\n",
    "            A_env=A_env,\n",
    "            A_A=A_A\n",
    "        )\n",
    "    elif method == '当該住戸の外皮の部位の面積等を用いずに外皮性能を評価する方法':\n",
    "\n",
    "        # 外部部位の面積の合計 (m2)\n",
    "        A_dash_env = simple.get_A_dash_env(house_insulation_type)\n",
    "\n",
    "        # 床面積の合計\n",
    "        A_dash_A = simple.get_A_dash_A()\n",
    "\n",
    "        return simple.get_r_env(\n",
    "            A_dash_env=A_dash_env,\n",
    "            A_dash_A=A_dash_A\n",
    "        )\n",
    "    else:\n",
    "        raise ValueError(method)\n"
   ]
  },
  {
   "cell_type": "markdown",
   "metadata": {},
   "source": [
    "## 付録 A 外皮の部位の面積及び熱橋等の長さ等 / Appendix A Area of hull part and length of heat bridge etc."
   ]
  },
  {
   "cell_type": "markdown",
   "metadata": {},
   "source": [
    "省略"
   ]
  },
  {
   "cell_type": "markdown",
   "metadata": {},
   "source": [
    "ommision"
   ]
  }
 ],
 "metadata": {
  "kernelspec": {
   "display_name": "Python 3",
   "language": "python",
   "name": "python3"
  },
  "language_info": {
   "codemirror_mode": {
    "name": "ipython",
    "version": 3
   },
   "file_extension": ".py",
   "mimetype": "text/x-python",
   "name": "python",
   "nbconvert_exporter": "python",
   "pygments_lexer": "ipython3",
   "version": "3.8.5"
  }
 },
 "nbformat": 4,
 "nbformat_minor": 2
}
