{
 "cells": [
  {
   "cell_type": "code",
   "execution_count": null,
   "metadata": {},
   "outputs": [],
   "source": [
    "import nbimporter\n",
    "import numpy as np\n",
    "import s04_07_m_max_capacity_of_radiator as appendix_M"
   ]
  },
  {
   "cell_type": "markdown",
   "metadata": {},
   "source": [
    "## 付録K　ファンコンベクター  / Appendix K Fan Convector"
   ]
  },
  {
   "cell_type": "markdown",
   "metadata": {},
   "source": [
    "### K.1 記号及び単位 / Symbol and unit"
   ]
  },
  {
   "cell_type": "markdown",
   "metadata": {},
   "source": [
    "省略"
   ]
  },
  {
   "cell_type": "markdown",
   "metadata": {},
   "source": [
    "ommision"
   ]
  },
  {
   "cell_type": "markdown",
   "metadata": {},
   "source": [
    "### K.2 消費電力量 / Power consumption"
   ]
  },
  {
   "cell_type": "markdown",
   "metadata": {},
   "source": [
    "$Q_{T,rad} \\leq Q_{min,FC} $ の場合"
   ]
  },
  {
   "cell_type": "markdown",
   "metadata": {},
   "source": [
    "In the case of $Q_{T,rad} \\leq Q_{min,FC} $"
   ]
  },
  {
   "cell_type": "markdown",
   "metadata": {},
   "source": [
    "$$\\large\n",
    "E_{E,rad} = P_{min,FC} \\times \\frac{Q_{T,H,rad}}{Q_{min,H,FC}} \\times 10^{-3}\n",
    "$$"
   ]
  },
  {
   "cell_type": "markdown",
   "metadata": {},
   "source": [
    "$Q_{min,FC} < Q_{T,rad} \\leq Q_{max,H,FC} $ の場合"
   ]
  },
  {
   "cell_type": "markdown",
   "metadata": {},
   "source": [
    "In the case of $Q_{min,FC} < Q_{T,rad} \\leq Q_{max,H,FC} $ "
   ]
  },
  {
   "cell_type": "markdown",
   "metadata": {},
   "source": [
    "$$\n",
    "E_{E,rad} = \\bigg ( P_{min,FC} \\times \\frac{Q_{max,H,FC}-Q_{T,H,rad}}{Q_{max,H,FC}-Q_{min,H,FC}} + P_{max,FC} \\times  \\frac{Q_{T,H,rad}-Q_{min,H,FC}}{Q_{max,H,FC}-Q_{min,H,FC}} \\bigg) \\times 10^{-3}\n",
    "$$"
   ]
  },
  {
   "cell_type": "markdown",
   "metadata": {},
   "source": [
    "$Q_{max,H,FC} \\leq Q_{T,rad}$ の場合"
   ]
  },
  {
   "cell_type": "markdown",
   "metadata": {},
   "source": [
    "In the case of $Q_{max,H,FC} \\leq Q_{T,rad}$ "
   ]
  },
  {
   "cell_type": "markdown",
   "metadata": {},
   "source": [
    "$$\\large\n",
    "E_{E,rad} = P_{max,FC} \\times 10^{-3}\n",
    "$$"
   ]
  },
  {
   "cell_type": "markdown",
   "metadata": {},
   "source": [
    "$E_{E,rad}$：1 時間当たりの放熱器の消費電力量(kWh/h) / Power consumption of radiator per hour  \n",
    "$Q_{T,H,rad}$：1 時間当たりの放熱器の処理暖房負荷(MJ/h) / Radiator processing heating load per hour  \n",
    "$Q_{max,H,FC}$：1 時間当たりのファンコンベクターの最大暖房出力(MJ/h) / Maximum heating power per fan convector per hour  \n",
    "$Q_{min,H,FC}$：1 時間当たりのファンコンベクターの最小出力(MJ/h) / Minimum output of fan convector per hour  \n",
    "$P_{max,FC}$：ファンコンベクターの最大消費電力(W) / Maximum power consumption of fan convector  \n",
    "$P_{min,FC}$：ファンコンベクターの最小消費電力(W) / Minimum power consumption of fan convector     "
   ]
  },
  {
   "cell_type": "code",
   "execution_count": null,
   "metadata": {},
   "outputs": [],
   "source": [
    "def calc_E_E_rad(region, mode, A_HCZ, R_type, Theta_SW, Q_T_H_rad):\n",
    "    \"\"\" 放熱器の消費電力量 (1)\n",
    "\n",
    "    :param region: 省エネルギー地域区分\n",
    "    :type region: int\n",
    "    :param mode: 運転モード 'い', 'ろ', 'は'\n",
    "    :type mode: str\n",
    "    :param A_HCZ: 暖冷房区画の床面積\n",
    "    :type A_HCZ: float\n",
    "    :param R_type: 居室の形式\n",
    "    :type R_type: string\n",
    "    :param Theta_SW: 往き温水温度 (℃)\n",
    "    :type Theta_SW: ndarray\n",
    "    :param Q_T_H_rad: 放熱器の処理暖房負荷\n",
    "    :type Q_T_H_rad: ndarray\n",
    "    :return: 放熱器の消費電力量 (1)\n",
    "    :rtype: ndarray\n",
    "    \"\"\"\n",
    "    # ファンコンベクターの最大能力及び最小能力\n",
    "    q_max_FC = calc_q_max_FC(region, mode, A_HCZ, R_type)\n",
    "    q_min_FC = get_q_min_FC(q_max_FC)\n",
    "\n",
    "    # ファンコンベクターの最大暖房出力及び最小暖房出力\n",
    "    Q_max_H_FC = get_Q_max_H_FC(Theta_SW, q_max_FC)\n",
    "    Q_min_H_FC = get_Q_min_H_FC(Theta_SW, q_min_FC)\n",
    "\n",
    "    # ファンコンベクターの最大消費電力及び最小消費電力\n",
    "    P_max_FC = get_P_max_FC(q_max_FC)\n",
    "    P_min_FC = get_P_min_FC(q_min_FC)\n",
    "\n",
    "    # (1a)\n",
    "    tmp_1a = P_min_FC * (Q_T_H_rad / Q_min_H_FC) * 10 ** (-3)\n",
    "    tmp_1a[np.logical_not(Q_T_H_rad <= Q_min_H_FC)] = 0\n",
    "\n",
    "    # (1b)\n",
    "    tmp_1b = (P_min_FC * (Q_max_H_FC - Q_T_H_rad) / (Q_max_H_FC - Q_min_H_FC) + P_max_FC * (Q_T_H_rad - Q_min_H_FC) / (\n",
    "                Q_max_H_FC - Q_min_H_FC)) * 10 ** (-3)\n",
    "    tmp_1b[np.logical_not(np.logical_and(Q_min_H_FC < Q_T_H_rad, Q_T_H_rad < Q_max_H_FC))] = 0\n",
    "\n",
    "    # (1c)\n",
    "    tmp_1c = P_max_FC * 10 ** (-3) * np.ones_like(Q_T_H_rad)\n",
    "    tmp_1c[np.logical_not(Q_max_H_FC <= Q_T_H_rad)] = 0\n",
    "\n",
    "    E_E_rad = tmp_1a + tmp_1b + tmp_1c\n",
    "    return E_E_rad\n"
   ]
  },
  {
   "cell_type": "markdown",
   "metadata": {},
   "source": [
    "### K.3 温水供給運転率 / Hot water supply operation rate"
   ]
  },
  {
   "cell_type": "markdown",
   "metadata": {},
   "source": [
    "$$\\large\n",
    "r_{WS,rad} = \\frac{Q_{T,H,rad}}{Q_{min,H,FC}}\n",
    "$$"
   ]
  },
  {
   "cell_type": "markdown",
   "metadata": {},
   "source": [
    "$r_{WS,rad}$：1 時間平均の放熱器の温水供給運転率 / 1 hour average radiator hot water supply operation rate  "
   ]
  },
  {
   "cell_type": "code",
   "execution_count": null,
   "metadata": {},
   "outputs": [],
   "source": [
    "def get_r_WS_rad(Q_T_H_rad, Q_min_H_FC):\n",
    "    \"\"\" 温水供給運転率 (2)\n",
    "\n",
    "    :param Q_T_H_rad: 1時間当たりの放熱器の処理暖房負荷 （MJ/h）\n",
    "    :type Q_T_H_rad: ndarray\n",
    "    :param Q_min_H_FC: 1時間当たりのファンコンベクターの最小暖房出力 （MJ/h）\n",
    "    :type Q_min_H_FC: ndarray\n",
    "    :return: 温水供給運転率\n",
    "    :rtype: ndarray\n",
    "    \"\"\"\n",
    "    return Q_T_H_rad / Q_min_H_FC\n"
   ]
  },
  {
   "cell_type": "markdown",
   "metadata": {},
   "source": [
    "### K.4 最大暖房出力 / Maximum heating output"
   ]
  },
  {
   "cell_type": "markdown",
   "metadata": {},
   "source": [
    "省略"
   ]
  },
  {
   "cell_type": "markdown",
   "metadata": {},
   "source": [
    "ommision"
   ]
  },
  {
   "cell_type": "markdown",
   "metadata": {},
   "source": [
    "### K.5 ファンコンベクターの最大暖房出力及び最小暖房出力 / Fan convector maximum heating output and minimum heating output"
   ]
  },
  {
   "cell_type": "markdown",
   "metadata": {},
   "source": [
    "$$\\large\n",
    "Q_{max,H,FC} = q_{max,FC} \\times \\frac{\\theta_{SW} - 20}{60 - 20} \\times 3600 \\times 10^{-6}\n",
    "$$\n",
    "\n",
    "$$\\large\n",
    "Q_{min,H,FC} = q_{min,FC} \\times \\frac{\\theta_{SW} - 20}{60 - 20} \\times 3600 \\times 10^{-6}\n",
    "$$"
   ]
  },
  {
   "cell_type": "markdown",
   "metadata": {},
   "source": [
    "$q_{max,FC}$：ファンコンベクターの最大能力(W) / Maximum ability of fan convector   \n",
    "$q_{min,FC}$：ファンコンベクターの最小能力(W) / Minimum ability of fan convector  \n",
    "$\\theta_{SW}$：往き送水温度(℃) / Forward water temperature  "
   ]
  },
  {
   "cell_type": "code",
   "execution_count": null,
   "metadata": {},
   "outputs": [],
   "source": [
    "def calc_Q_max_H_rad(Theta_SW, q_max_FC):\n",
    "    \"\"\" 最大暖房出力\n",
    "\n",
    "    :param Theta_SW: 往き温水温度 (℃)\n",
    "    :type Theta_SW: ndarray\n",
    "    :param q_max_FC: ファンコンベクターの最大能力 （W）\n",
    "    :type q_max_FC: ndarray\n",
    "    :return: 最大暖房出力\n",
    "    :rtype: ndarray\n",
    "    \"\"\"\n",
    "    return get_Q_max_H_FC(Theta_SW, q_max_FC)"
   ]
  },
  {
   "cell_type": "code",
   "execution_count": null,
   "metadata": {},
   "outputs": [],
   "source": [
    "def get_Q_max_H_FC(Theta_SW, q_max_FC):\n",
    "    \"\"\" ファンコンベクターの最大暖房出力 (3a)\n",
    "\n",
    "    :param Theta_SW: 往き温水温度 (℃)\n",
    "    :type Theta_SW: ndarray\n",
    "    :param q_max_FC: ファンコンベクターの最大能力（W）\n",
    "    :type q_max_FC: ndarray\n",
    "    :return: ファンコンベクターの最大暖房出力 (3a)\n",
    "    :rtype: ndarray\n",
    "    \"\"\"\n",
    "\n",
    "    return q_max_FC * (Theta_SW - 20) / (60 - 20) * 3600 * 10 ** (-6)\n",
    "\n",
    "\n",
    "def get_Q_min_H_FC(Theta_SW, q_min_FC):\n",
    "    \"\"\" ファンコンベクターの最小暖房出力 (3b)\n",
    "\n",
    "    :param Theta_SW: 往き温水温度 (℃)\n",
    "    :type Theta_SW: ndarray\n",
    "    :param q_min_FC: ファンコンベクターの最小能力 （W）\n",
    "    :type q_min_FC: ndarray\n",
    "    :return: ファンコンベクターの最小暖房出力 (3b)\n",
    "    :rtype: ndarray\n",
    "    \"\"\"\n",
    "    return q_min_FC * (Theta_SW - 20) / (60 - 20) * 3600 * 10 ** (-6)"
   ]
  },
  {
   "cell_type": "markdown",
   "metadata": {},
   "source": [
    "$$\\large\n",
    "q_{min,FC} = 0.4859 \\times q_{max,FC}\n",
    "$$"
   ]
  },
  {
   "cell_type": "code",
   "execution_count": null,
   "metadata": {},
   "outputs": [],
   "source": [
    "def calc_q_max_FC(region, mode, A_HCZ, R_type):\n",
    "    \"\"\" ファンコンベクターの最大能力\n",
    "\n",
    "    :param region: 省エネルギー地域区分\n",
    "    :type region: int\n",
    "    :param mode: 運転モード 'い', 'ろ', 'は'\n",
    "    :type mode: str\n",
    "    :param A_HCZ: 暖冷房区画の床面積\n",
    "    :type A_HCZ: float\n",
    "    :param R_type: 居室の形式\n",
    "    :type R_type: string\n",
    "    :return: ファンコンベクターの最大能力\n",
    "    :rtype: ndarray\n",
    "    \"\"\"\n",
    "    # 付録Mに定める放熱器の最大能力 q_max_rad に等しいものとする\n",
    "    return appendix_M.calc_q_max_rad(region, mode, A_HCZ, R_type)\n",
    "\n",
    "\n",
    "def get_q_min_FC(q_max_FC):\n",
    "    \"\"\" ファンコンベクターの最小能力 (4)\n",
    "\n",
    "    :param q_max_FC: ファンコンベクターの最大能力 （W）\n",
    "    :type q_max_FC: ndarray\n",
    "    :return: ファンコンベクターの最小能力\n",
    "    :rtype: ndarray\n",
    "    \"\"\"\n",
    "    return 0.4859 * q_max_FC"
   ]
  },
  {
   "cell_type": "markdown",
   "metadata": {},
   "source": [
    "### K.6 ファンコンベクターの最大消費電力及び最小消費電力 / Maximum power consumption and minimum power consumption of fan convector"
   ]
  },
  {
   "cell_type": "markdown",
   "metadata": {},
   "source": [
    "$$\\large\n",
    "P_{max,FC} = 7.564 \\times 10^{-3} \\times q_{max,FC}\n",
    "$$\n",
    "\n",
    "$$\\large\n",
    "P_{min,FC} = 7.783 \\times 10^{-3} \\times q_{min,FC}\n",
    "$$"
   ]
  },
  {
   "cell_type": "code",
   "execution_count": null,
   "metadata": {},
   "outputs": [],
   "source": [
    "def get_P_max_FC(q_max_FC):\n",
    "    \"\"\" ファンコンベクターの最大消費電力 (5a)\n",
    "\n",
    "    :param q_max_FC: ファンコンベクターの最大能力 （W）\n",
    "    :type q_max_FC: ndarray\n",
    "    :return: ァンコンベクターの最大消費電力\n",
    "    :rtype: ndarray\n",
    "    \"\"\"\n",
    "    return 7.564 * 10 ** (-3) * q_max_FC\n",
    "\n",
    "\n",
    "def get_P_min_FC(q_min_FC):\n",
    "    \"\"\" ファンコンベクターの最小消費電力 (5b)\n",
    "\n",
    "    :param q_min_FC: ファンコンベクターの最小能力 （W）\n",
    "    :type q_min_FC: ndarray\n",
    "    :return: ファンコンベクターの最小消費電力\n",
    "    :rtype: ndarray\n",
    "    \"\"\"\n",
    "    return 7.783 * 10 ** (-3) * q_min_FC\n"
   ]
  }
 ],
 "metadata": {
  "kernelspec": {
   "display_name": "Python 3",
   "language": "python",
   "name": "python3"
  },
  "language_info": {
   "codemirror_mode": {
    "name": "ipython",
    "version": 3
   },
   "file_extension": ".py",
   "mimetype": "text/x-python",
   "name": "python",
   "nbconvert_exporter": "python",
   "pygments_lexer": "ipython3",
   "version": "3.8.5"
  },
  "toc": {
   "base_numbering": 1,
   "nav_menu": {},
   "number_sections": false,
   "sideBar": true,
   "skip_h1_title": false,
   "title_cell": "Table of Contents",
   "title_sidebar": "Contents",
   "toc_cell": false,
   "toc_position": {},
   "toc_section_display": true,
   "toc_window_display": false
  }
 },
 "nbformat": 4,
 "nbformat_minor": 2
}
