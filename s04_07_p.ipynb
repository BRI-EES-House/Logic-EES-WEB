{
 "cells": [
  {
   "cell_type": "markdown",
   "metadata": {},
   "source": [
    "## 付録P 地盤の有効熱伝導率の決定方法 / Appendix P Method for determining effective thermal conductivity of ground"
   ]
  },
  {
   "cell_type": "markdown",
   "metadata": {},
   "source": [
    "### P.1 記号及び単位 / Symbol and unit"
   ]
  },
  {
   "cell_type": "markdown",
   "metadata": {},
   "source": [
    "省略"
   ]
  },
  {
   "cell_type": "markdown",
   "metadata": {},
   "source": [
    "ommision"
   ]
  },
  {
   "cell_type": "markdown",
   "metadata": {},
   "source": [
    "### P.2 有効熱伝導率の決定方法 / How to determine effective thermal conductivity"
   ]
  },
  {
   "cell_type": "markdown",
   "metadata": {},
   "source": [
    "地盤の有効熱伝導率$\\bar{\\lambda}_{gnd}$は、垂直埋設型（ダブル U チューブ、シングル U チューブ、大口径個体充填、間接型水充填、接循環型水充填）の場合には 1.2 W/(m・K)、水平埋設型の場合には 0.7 W/(m・K)とするか、「サーマルレスポンス試験による計測値を使う方法」もしくは「敷地内の地盤調査により得られた土質柱状図から算定する方法」により確認した値を用いるものとする。"
   ]
  },
  {
   "cell_type": "markdown",
   "metadata": {},
   "source": [
    "The effective thermal conductivity $\\bar{\\lambda}_{gnd}$ of the ground is 1.2 W/(m・K) in the case of the vertical buried type (double U tube, single U tube, large diameter solid filling, indirect type water filling, contact circulation type water filling). In the case of the horizontal buried type, 0.7 W/(m・K) is used, or by \"method using measured value by thermal response test\" or \"method by calculating from soil column diagram obtained by ground survey on site\". The confirmed value shall be used."
   ]
  },
  {
   "cell_type": "markdown",
   "metadata": {},
   "source": [
    "### P.3 サーマルレスポンス試験による計測値を使う方法 / Method of using measured values from thermal response test"
   ]
  },
  {
   "cell_type": "markdown",
   "metadata": {},
   "source": [
    "省略"
   ]
  },
  {
   "cell_type": "markdown",
   "metadata": {},
   "source": [
    "ommision"
   ]
  },
  {
   "cell_type": "markdown",
   "metadata": {},
   "source": [
    "### P.4 敷地内の地盤調査により得られた土質柱状図から算定する方法 / Method to calculate from soil columnar map obtained by ground survey on site"
   ]
  },
  {
   "cell_type": "markdown",
   "metadata": {},
   "source": [
    "$$\\large\n",
    "\\bar{\\lambda}_{gnd} = \\frac{\\sum_{i}d_{s,i}\\times \\lambda_{s,i}}{L_{exch}}\n",
    "$$"
   ]
  },
  {
   "cell_type": "markdown",
   "metadata": {},
   "source": [
    "$$\\large\n",
    "L_{exch} = \\sum_{i}d_{s,i}\n",
    "$$"
   ]
  },
  {
   "cell_type": "markdown",
   "metadata": {},
   "source": [
    "$d_{s,i}$：層$i$の土質区分の層厚(m) / Layer thickness of soil section of layer $i$  \n",
    "$L_{exch}$：熱交換器長(m) / Heat exchanger length  \n",
    "$\\lambda_{s,i}$：層$i$の土質区分の熱伝導率(W/(m・K)) / Thermal conductivity of soil category of layer $i$  \n",
    "$\\bar{\\lambda}_{gnd}$：地盤の有効熱伝導率(W/(m・K)) / Effective thermal conductivity of the ground  \n"
   ]
  }
 ],
 "metadata": {
  "kernelspec": {
   "display_name": "Python 3",
   "language": "python",
   "name": "python3"
  },
  "language_info": {
   "codemirror_mode": {
    "name": "ipython",
    "version": 3
   },
   "file_extension": ".py",
   "mimetype": "text/x-python",
   "name": "python",
   "nbconvert_exporter": "python",
   "pygments_lexer": "ipython3",
   "version": "3.8.5"
  },
  "toc": {
   "base_numbering": 1,
   "nav_menu": {},
   "number_sections": false,
   "sideBar": true,
   "skip_h1_title": false,
   "title_cell": "Table of Contents",
   "title_sidebar": "Contents",
   "toc_cell": false,
   "toc_position": {},
   "toc_section_display": true,
   "toc_window_display": false
  }
 },
 "nbformat": 4,
 "nbformat_minor": 2
}
