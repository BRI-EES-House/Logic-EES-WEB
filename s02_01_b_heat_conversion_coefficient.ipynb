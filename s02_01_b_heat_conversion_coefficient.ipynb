{
 "cells": [
  {
   "cell_type": "markdown",
   "metadata": {},
   "source": [
    "## 付録 B 電気の量 1kWh を熱量に換算する係数 / Appendix B  A factor to convert 1kWh of electricity into heat"
   ]
  },
  {
   "cell_type": "markdown",
   "metadata": {},
   "source": [
    "電気の量1kWhを熱量に換算する係数は、1キロワット時につき 9760キロジュールを使用するものとする。"
   ]
  },
  {
   "cell_type": "markdown",
   "metadata": {},
   "source": [
    "The factor for converting 1 kWh of electricity into heat is assumed to be 9,760 kilojoules per kilowatt hour."
   ]
  },
  {
   "cell_type": "code",
   "execution_count": null,
   "metadata": {},
   "outputs": [],
   "source": [
    "# 電気の量 1kWh を熱量に換算する係数 (kJ/kWh)\n",
    "def get_f_prim():\n",
    "    return 9760"
   ]
  },
  {
   "cell_type": "code",
   "execution_count": null,
   "metadata": {},
   "outputs": [],
   "source": []
  }
 ],
 "metadata": {
  "kernelspec": {
   "display_name": "Python 3",
   "language": "python",
   "name": "python3"
  },
  "language_info": {
   "codemirror_mode": {
    "name": "ipython",
    "version": 3
   },
   "file_extension": ".py",
   "mimetype": "text/x-python",
   "name": "python",
   "nbconvert_exporter": "python",
   "pygments_lexer": "ipython3",
   "version": "3.6.6"
  }
 },
 "nbformat": 4,
 "nbformat_minor": 2
}
